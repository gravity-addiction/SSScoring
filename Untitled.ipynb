{
 "cells": [
  {
   "cell_type": "code",
   "execution_count": 4,
   "id": "a6367182-3d21-4e44-ac11-f37830828abf",
   "metadata": {},
   "outputs": [
    {
     "ename": "TypeError",
     "evalue": "'>=' not supported between instances of 'str' and 'float'",
     "output_type": "error",
     "traceback": [
      "\u001b[0;31m---------------------------------------------------------------------------\u001b[0m",
      "\u001b[0;31mTypeError\u001b[0m                                 Traceback (most recent call last)",
      "Cell \u001b[0;32mIn[4], line 9\u001b[0m\n\u001b[1;32m      6\u001b[0m \u001b[38;5;28;01mimport\u001b[39;00m \u001b[38;5;21;01mpathlib\u001b[39;00m\n\u001b[1;32m      8\u001b[0m DATA_LAKE \u001b[38;5;241m=\u001b[39m pathlib\u001b[38;5;241m.\u001b[39mPath(\u001b[38;5;124m'\u001b[39m\u001b[38;5;124mdata\u001b[39m\u001b[38;5;124m'\u001b[39m)\n\u001b[0;32m----> 9\u001b[0m allFiles \u001b[38;5;241m=\u001b[39m \u001b[43mgetAllSpeedJumpFilesFrom\u001b[49m\u001b[43m(\u001b[49m\u001b[43mDATA_LAKE\u001b[49m\u001b[43m)\u001b[49m\n",
      "File \u001b[0;32m~/ssscoring/flysight.py:137\u001b[0m, in \u001b[0;36mgetAllSpeedJumpFilesFrom\u001b[0;34m(dataLake)\u001b[0m\n\u001b[1;32m    135\u001b[0m                 data\u001b[38;5;241m.\u001b[39mdrop(\u001b[38;5;124m'\u001b[39m\u001b[38;5;124mGNSS\u001b[39m\u001b[38;5;124m'\u001b[39m, inplace \u001b[38;5;241m=\u001b[39m \u001b[38;5;28;01mTrue\u001b[39;00m, axis \u001b[38;5;241m=\u001b[39m \u001b[38;5;241m1\u001b[39m)\n\u001b[1;32m    136\u001b[0m                 version \u001b[38;5;241m=\u001b[39m \u001b[38;5;124m'\u001b[39m\u001b[38;5;124m2\u001b[39m\u001b[38;5;124m'\u001b[39m\n\u001b[0;32m--> 137\u001b[0m             \u001b[38;5;28;01mif\u001b[39;00m data \u001b[38;5;129;01mis\u001b[39;00m \u001b[38;5;129;01mnot\u001b[39;00m \u001b[38;5;28;01mNone\u001b[39;00m \u001b[38;5;129;01mand\u001b[39;00m stat\u001b[38;5;241m.\u001b[39mst_size \u001b[38;5;241m>\u001b[39m\u001b[38;5;241m=\u001b[39m MIN_JUMP_FILE_SIZE \u001b[38;5;129;01mand\u001b[39;00m validFlySightHeaderIn(jumpFileName) \u001b[38;5;129;01mand\u001b[39;00m \u001b[43misValidMinimumAltitude\u001b[49m\u001b[43m(\u001b[49m\u001b[43mdata\u001b[49m\u001b[38;5;241;43m.\u001b[39;49m\u001b[43mhMSL\u001b[49m\u001b[38;5;241;43m.\u001b[39;49m\u001b[43mmax\u001b[49m\u001b[43m(\u001b[49m\u001b[43m)\u001b[49m\u001b[43m)\u001b[49m:\n\u001b[1;32m    138\u001b[0m                 \u001b[38;5;66;03m# explicit because `not data` is ambiguous for dataframes\u001b[39;00m\n\u001b[1;32m    139\u001b[0m                 jumpFiles[jumpFileName] \u001b[38;5;241m=\u001b[39m version\n\u001b[1;32m    140\u001b[0m \u001b[38;5;28;01mreturn\u001b[39;00m jumpFiles\n",
      "File \u001b[0;32m~/ssscoring/calc.py:55\u001b[0m, in \u001b[0;36misValidMinimumAltitude\u001b[0;34m(altitude)\u001b[0m\n\u001b[1;32m     38\u001b[0m \u001b[38;5;250m\u001b[39m\u001b[38;5;124;03m\"\"\"\u001b[39;00m\n\u001b[1;32m     39\u001b[0m \u001b[38;5;124;03mReports whether an `altitude` is within the IPC and USPA valid parameters,\u001b[39;00m\n\u001b[1;32m     40\u001b[0m \u001b[38;5;124;03mor within `BREAKOFF_ALTITUDE` and `PERFORMACE_WINDOW_LENGTH`.  In invalid\u001b[39;00m\n\u001b[0;32m   (...)\u001b[0m\n\u001b[1;32m     52\u001b[0m \u001b[38;5;124;03m`True` if the altitude is valid.\u001b[39;00m\n\u001b[1;32m     53\u001b[0m \u001b[38;5;124;03m\"\"\"\u001b[39;00m\n\u001b[1;32m     54\u001b[0m minAltitude \u001b[38;5;241m=\u001b[39m BREAKOFF_ALTITUDE\u001b[38;5;241m+\u001b[39mPERFORMANCE_WINDOW_LENGTH\n\u001b[0;32m---> 55\u001b[0m \u001b[38;5;28;01mreturn\u001b[39;00m \u001b[43maltitude\u001b[49m\u001b[43m \u001b[49m\u001b[38;5;241;43m>\u001b[39;49m\u001b[38;5;241;43m=\u001b[39;49m\u001b[43m \u001b[49m\u001b[43mminAltitude\u001b[49m\n",
      "\u001b[0;31mTypeError\u001b[0m: '>=' not supported between instances of 'str' and 'float'"
     ]
    }
   ],
   "source": [
    "from ssscoring.calc import aggregateResults\n",
    "from ssscoring.calc import processAllJumpFiles\n",
    "from ssscoring.calc import roundedAggregateResults\n",
    "from ssscoring.flysight import getAllSpeedJumpFilesFrom\n",
    "\n",
    "import pathlib\n",
    "\n",
    "DATA_LAKE = pathlib.Path('data')\n"
   ]
  },
  {
   "cell_type": "code",
   "execution_count": 2,
   "id": "20f40603-6ee7-486e-b6d9-7e3e53ac7ea7",
   "metadata": {},
   "outputs": [
    {
     "ename": "TypeError",
     "evalue": "'>=' not supported between instances of 'str' and 'float'",
     "output_type": "error",
     "traceback": [
      "\u001b[0;31m---------------------------------------------------------------------------\u001b[0m",
      "\u001b[0;31mTypeError\u001b[0m                                 Traceback (most recent call last)",
      "Cell \u001b[0;32mIn[2], line 1\u001b[0m\n\u001b[0;32m----> 1\u001b[0m allFiles \u001b[38;5;241m=\u001b[39m \u001b[43mgetAllSpeedJumpFilesFrom\u001b[49m\u001b[43m(\u001b[49m\u001b[43mDATA_LAKE\u001b[49m\u001b[43m)\u001b[49m\n",
      "File \u001b[0;32m~/ssscoring/flysight.py:137\u001b[0m, in \u001b[0;36mgetAllSpeedJumpFilesFrom\u001b[0;34m(dataLake)\u001b[0m\n\u001b[1;32m    135\u001b[0m                 data\u001b[38;5;241m.\u001b[39mdrop(\u001b[38;5;124m'\u001b[39m\u001b[38;5;124mGNSS\u001b[39m\u001b[38;5;124m'\u001b[39m, inplace \u001b[38;5;241m=\u001b[39m \u001b[38;5;28;01mTrue\u001b[39;00m, axis \u001b[38;5;241m=\u001b[39m \u001b[38;5;241m1\u001b[39m)\n\u001b[1;32m    136\u001b[0m                 version \u001b[38;5;241m=\u001b[39m \u001b[38;5;124m'\u001b[39m\u001b[38;5;124m2\u001b[39m\u001b[38;5;124m'\u001b[39m\n\u001b[0;32m--> 137\u001b[0m             \u001b[38;5;28;01mif\u001b[39;00m data \u001b[38;5;129;01mis\u001b[39;00m \u001b[38;5;129;01mnot\u001b[39;00m \u001b[38;5;28;01mNone\u001b[39;00m \u001b[38;5;129;01mand\u001b[39;00m stat\u001b[38;5;241m.\u001b[39mst_size \u001b[38;5;241m>\u001b[39m\u001b[38;5;241m=\u001b[39m MIN_JUMP_FILE_SIZE \u001b[38;5;129;01mand\u001b[39;00m validFlySightHeaderIn(jumpFileName) \u001b[38;5;129;01mand\u001b[39;00m \u001b[43misValidMinimumAltitude\u001b[49m\u001b[43m(\u001b[49m\u001b[43mdata\u001b[49m\u001b[38;5;241;43m.\u001b[39;49m\u001b[43mhMSL\u001b[49m\u001b[38;5;241;43m.\u001b[39;49m\u001b[43mmax\u001b[49m\u001b[43m(\u001b[49m\u001b[43m)\u001b[49m\u001b[43m)\u001b[49m:\n\u001b[1;32m    138\u001b[0m                 \u001b[38;5;66;03m# explicit because `not data` is ambiguous for dataframes\u001b[39;00m\n\u001b[1;32m    139\u001b[0m                 jumpFiles[jumpFileName] \u001b[38;5;241m=\u001b[39m version\n\u001b[1;32m    140\u001b[0m \u001b[38;5;28;01mreturn\u001b[39;00m jumpFiles\n",
      "File \u001b[0;32m~/ssscoring/calc.py:55\u001b[0m, in \u001b[0;36misValidMinimumAltitude\u001b[0;34m(altitude)\u001b[0m\n\u001b[1;32m     38\u001b[0m \u001b[38;5;250m\u001b[39m\u001b[38;5;124;03m\"\"\"\u001b[39;00m\n\u001b[1;32m     39\u001b[0m \u001b[38;5;124;03mReports whether an `altitude` is within the IPC and USPA valid parameters,\u001b[39;00m\n\u001b[1;32m     40\u001b[0m \u001b[38;5;124;03mor within `BREAKOFF_ALTITUDE` and `PERFORMACE_WINDOW_LENGTH`.  In invalid\u001b[39;00m\n\u001b[0;32m   (...)\u001b[0m\n\u001b[1;32m     52\u001b[0m \u001b[38;5;124;03m`True` if the altitude is valid.\u001b[39;00m\n\u001b[1;32m     53\u001b[0m \u001b[38;5;124;03m\"\"\"\u001b[39;00m\n\u001b[1;32m     54\u001b[0m minAltitude \u001b[38;5;241m=\u001b[39m BREAKOFF_ALTITUDE\u001b[38;5;241m+\u001b[39mPERFORMANCE_WINDOW_LENGTH\n\u001b[0;32m---> 55\u001b[0m \u001b[38;5;28;01mreturn\u001b[39;00m \u001b[43maltitude\u001b[49m\u001b[43m \u001b[49m\u001b[38;5;241;43m>\u001b[39;49m\u001b[38;5;241;43m=\u001b[39;49m\u001b[43m \u001b[49m\u001b[43mminAltitude\u001b[49m\n",
      "\u001b[0;31mTypeError\u001b[0m: '>=' not supported between instances of 'str' and 'float'"
     ]
    }
   ],
   "source": [
    "allFiles = getAllSpeedJumpFilesFrom(DATA_LAKE)"
   ]
  },
  {
   "cell_type": "code",
   "execution_count": null,
   "id": "b0c240e2-2379-405e-a801-b1bef5011fc3",
   "metadata": {},
   "outputs": [],
   "source": []
  }
 ],
 "metadata": {
  "kernelspec": {
   "display_name": "Python 3 (ipykernel)",
   "language": "python",
   "name": "python3"
  },
  "language_info": {
   "codemirror_mode": {
    "name": "ipython",
    "version": 3
   },
   "file_extension": ".py",
   "mimetype": "text/x-python",
   "name": "python",
   "nbconvert_exporter": "python",
   "pygments_lexer": "ipython3",
   "version": "3.11.10"
  }
 },
 "nbformat": 4,
 "nbformat_minor": 5
}
