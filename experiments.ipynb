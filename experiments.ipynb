{
 "cells": [
  {
   "cell_type": "markdown",
   "id": "44efbc40-6800-43f8-8493-e87d97807eae",
   "metadata": {},
   "source": [
    "# Experiments"
   ]
  },
  {
   "cell_type": "code",
   "execution_count": 120,
   "id": "75929243-6c99-4333-8b80-94b88069f14c",
   "metadata": {},
   "outputs": [],
   "source": [
    "import io\n",
    "\n",
    "import ipywidgets as widgets\n",
    "import pandas as pd"
   ]
  },
  {
   "cell_type": "code",
   "execution_count": 121,
   "id": "6306c90a-0623-4b2c-b5b8-185338a9840c",
   "metadata": {},
   "outputs": [],
   "source": [
    "# *** constants ***\n",
    "\n",
    "# All measurements expressed in meters unless noted\n",
    "BREAKOFF_ALTITUDE = 1707.0\n",
    "MAX_SPEED_ACCURACY = 3.0\n",
    "PERFORMANCE_WINDOW_LENGTH = 2256.0\n",
    "VALIDATION_WINDOW_LENGTH = 1006.0"
   ]
  },
  {
   "cell_type": "code",
   "execution_count": 122,
   "id": "b9b3e794-0548-4f79-afbc-1ca11e218a3b",
   "metadata": {},
   "outputs": [],
   "source": [
    "uploader = widgets.FileUpload(description = 'Speed CSV', tooltip = 'FlySight speed file')"
   ]
  },
  {
   "cell_type": "code",
   "execution_count": 124,
   "id": "15994464-f99b-45e0-a642-d6d94d14c73d",
   "metadata": {},
   "outputs": [
    {
     "data": {
      "application/vnd.jupyter.widget-view+json": {
       "model_id": "31fe11e7c9204fafa0e5b6564ab68f1b",
       "version_major": 2,
       "version_minor": 0
      },
      "text/plain": [
       "FileUpload(value=({'name': '11-02-19.CSV', 'type': 'text/csv', 'size': 1791611, 'content': <memory at 0xffff47…"
      ]
     },
     "execution_count": 124,
     "metadata": {},
     "output_type": "execute_result"
    }
   ],
   "source": [
    "uploader"
   ]
  },
  {
   "cell_type": "code",
   "execution_count": 125,
   "id": "f45b917c-faec-4f7f-b068-0ef91c4cc437",
   "metadata": {},
   "outputs": [],
   "source": [
    "data = pd.read_csv(io.BytesIO(uploader.value[0].content), skiprows= (1,1))"
   ]
  },
  {
   "cell_type": "markdown",
   "id": "08d933a4-b740-42bc-9d00-a7cc5654ab40",
   "metadata": {},
   "source": [
    "## Use meaningful column names"
   ]
  },
  {
   "cell_type": "code",
   "execution_count": 126,
   "id": "796ed949-3287-4385-aef6-ab1159a70920",
   "metadata": {},
   "outputs": [],
   "source": [
    "data['heightFt'] = data['hMSL'].apply(lambda h: 3.2808*h)"
   ]
  },
  {
   "cell_type": "code",
   "execution_count": 127,
   "id": "dd973a6b-faa5-4554-8fb5-41bbc64c4866",
   "metadata": {},
   "outputs": [],
   "source": [
    "data['timeUnix'] = data['time'].apply(lambda t: pd.Timestamp(t).timestamp())"
   ]
  },
  {
   "cell_type": "code",
   "execution_count": 128,
   "id": "e9fd86a9-0430-4921-b846-0e22e15d8a4f",
   "metadata": {},
   "outputs": [
    {
     "data": {
      "text/html": [
       "<div>\n",
       "<style scoped>\n",
       "    .dataframe tbody tr th:only-of-type {\n",
       "        vertical-align: middle;\n",
       "    }\n",
       "\n",
       "    .dataframe tbody tr th {\n",
       "        vertical-align: top;\n",
       "    }\n",
       "\n",
       "    .dataframe thead th {\n",
       "        text-align: right;\n",
       "    }\n",
       "</style>\n",
       "<table border=\"1\" class=\"dataframe\">\n",
       "  <thead>\n",
       "    <tr style=\"text-align: right;\">\n",
       "      <th></th>\n",
       "      <th>timeUnix</th>\n",
       "      <th>heightMSL</th>\n",
       "      <th>heightFt</th>\n",
       "      <th>vMetersPerSecond</th>\n",
       "      <th>vKMh</th>\n",
       "      <th>speedAccuracy</th>\n",
       "    </tr>\n",
       "  </thead>\n",
       "  <tbody>\n",
       "    <tr>\n",
       "      <th>0</th>\n",
       "      <td>1.692468e+09</td>\n",
       "      <td>27.898</td>\n",
       "      <td>91.527758</td>\n",
       "      <td>-0.51</td>\n",
       "      <td>-1.836</td>\n",
       "      <td>3.90</td>\n",
       "    </tr>\n",
       "    <tr>\n",
       "      <th>1</th>\n",
       "      <td>1.692468e+09</td>\n",
       "      <td>29.006</td>\n",
       "      <td>95.162885</td>\n",
       "      <td>-0.47</td>\n",
       "      <td>-1.692</td>\n",
       "      <td>2.07</td>\n",
       "    </tr>\n",
       "    <tr>\n",
       "      <th>2</th>\n",
       "      <td>1.692468e+09</td>\n",
       "      <td>30.083</td>\n",
       "      <td>98.696306</td>\n",
       "      <td>-0.65</td>\n",
       "      <td>-2.340</td>\n",
       "      <td>1.60</td>\n",
       "    </tr>\n",
       "    <tr>\n",
       "      <th>3</th>\n",
       "      <td>1.692468e+09</td>\n",
       "      <td>29.927</td>\n",
       "      <td>98.184502</td>\n",
       "      <td>-0.72</td>\n",
       "      <td>-2.592</td>\n",
       "      <td>1.51</td>\n",
       "    </tr>\n",
       "    <tr>\n",
       "      <th>4</th>\n",
       "      <td>1.692468e+09</td>\n",
       "      <td>29.726</td>\n",
       "      <td>97.525061</td>\n",
       "      <td>-0.75</td>\n",
       "      <td>-2.700</td>\n",
       "      <td>1.42</td>\n",
       "    </tr>\n",
       "    <tr>\n",
       "      <th>...</th>\n",
       "      <td>...</td>\n",
       "      <td>...</td>\n",
       "      <td>...</td>\n",
       "      <td>...</td>\n",
       "      <td>...</td>\n",
       "      <td>...</td>\n",
       "    </tr>\n",
       "    <tr>\n",
       "      <th>15559</th>\n",
       "      <td>1.692470e+09</td>\n",
       "      <td>-14.061</td>\n",
       "      <td>-46.131329</td>\n",
       "      <td>1.50</td>\n",
       "      <td>5.400</td>\n",
       "      <td>1.45</td>\n",
       "    </tr>\n",
       "    <tr>\n",
       "      <th>15560</th>\n",
       "      <td>1.692470e+09</td>\n",
       "      <td>-14.309</td>\n",
       "      <td>-46.944967</td>\n",
       "      <td>1.66</td>\n",
       "      <td>5.976</td>\n",
       "      <td>1.45</td>\n",
       "    </tr>\n",
       "    <tr>\n",
       "      <th>15561</th>\n",
       "      <td>1.692470e+09</td>\n",
       "      <td>-14.307</td>\n",
       "      <td>-46.938406</td>\n",
       "      <td>1.62</td>\n",
       "      <td>5.832</td>\n",
       "      <td>1.41</td>\n",
       "    </tr>\n",
       "    <tr>\n",
       "      <th>15562</th>\n",
       "      <td>1.692470e+09</td>\n",
       "      <td>-14.266</td>\n",
       "      <td>-46.803893</td>\n",
       "      <td>1.57</td>\n",
       "      <td>5.652</td>\n",
       "      <td>1.39</td>\n",
       "    </tr>\n",
       "    <tr>\n",
       "      <th>15563</th>\n",
       "      <td>1.692470e+09</td>\n",
       "      <td>-14.157</td>\n",
       "      <td>-46.446286</td>\n",
       "      <td>1.50</td>\n",
       "      <td>5.400</td>\n",
       "      <td>1.37</td>\n",
       "    </tr>\n",
       "  </tbody>\n",
       "</table>\n",
       "<p>15564 rows × 6 columns</p>\n",
       "</div>"
      ],
      "text/plain": [
       "           timeUnix  heightMSL   heightFt  vMetersPerSecond   vKMh  \\\n",
       "0      1.692468e+09     27.898  91.527758             -0.51 -1.836   \n",
       "1      1.692468e+09     29.006  95.162885             -0.47 -1.692   \n",
       "2      1.692468e+09     30.083  98.696306             -0.65 -2.340   \n",
       "3      1.692468e+09     29.927  98.184502             -0.72 -2.592   \n",
       "4      1.692468e+09     29.726  97.525061             -0.75 -2.700   \n",
       "...             ...        ...        ...               ...    ...   \n",
       "15559  1.692470e+09    -14.061 -46.131329              1.50  5.400   \n",
       "15560  1.692470e+09    -14.309 -46.944967              1.66  5.976   \n",
       "15561  1.692470e+09    -14.307 -46.938406              1.62  5.832   \n",
       "15562  1.692470e+09    -14.266 -46.803893              1.57  5.652   \n",
       "15563  1.692470e+09    -14.157 -46.446286              1.50  5.400   \n",
       "\n",
       "       speedAccuracy  \n",
       "0               3.90  \n",
       "1               2.07  \n",
       "2               1.60  \n",
       "3               1.51  \n",
       "4               1.42  \n",
       "...              ...  \n",
       "15559           1.45  \n",
       "15560           1.45  \n",
       "15561           1.41  \n",
       "15562           1.39  \n",
       "15563           1.37  \n",
       "\n",
       "[15564 rows x 6 columns]"
      ]
     },
     "execution_count": 128,
     "metadata": {},
     "output_type": "execute_result"
    }
   ],
   "source": [
    "data = pd.DataFrame(data = {\n",
    "    'timeUnix': data.timeUnix,\n",
    "    'heightMSL': data.hMSL,\n",
    "    'heightFt': data.heightFt,\n",
    "    'vMetersPerSecond': data.velD,\n",
    "    'vKMh': data.velD*3.6,\n",
    "    'speedAccuracy': data.sAcc, })\n",
    "data"
   ]
  },
  {
   "cell_type": "markdown",
   "id": "7403f312-fbcd-4857-9808-f487930a143c",
   "metadata": {},
   "source": [
    "## Discard non-actionable rows"
   ]
  },
  {
   "cell_type": "markdown",
   "id": "f7888e79-f753-415d-af0e-3c37ae18007b",
   "metadata": {},
   "source": [
    "Discard all rows before maximum altitude:"
   ]
  },
  {
   "cell_type": "code",
   "execution_count": 129,
   "id": "0b218bb1-1a47-4a5d-9639-3a0c996398a6",
   "metadata": {},
   "outputs": [],
   "source": [
    "timeMaxAlt = data[data.heightMSL == data.heightMSL.max()].timeUnix.iloc[0]\n",
    "data = data[data.timeUnix > timeMaxAlt]"
   ]
  },
  {
   "cell_type": "markdown",
   "id": "aeab3198-c392-49d6-ac83-80ac42a7451a",
   "metadata": {},
   "source": [
    "Then discard all rows where height < 0; appears to be a bug in FlySight MSL altitude handling:"
   ]
  },
  {
   "cell_type": "code",
   "execution_count": 130,
   "id": "ab5d049e-d10a-49b5-8868-bf063efa8e07",
   "metadata": {},
   "outputs": [],
   "source": [
    "data = data[data.heightMSL > 0]"
   ]
  },
  {
   "cell_type": "markdown",
   "id": "44c08c4c-04fc-45c3-8ad0-172f1596c22f",
   "metadata": {},
   "source": [
    "## Find the freefall data subset"
   ]
  },
  {
   "cell_type": "code",
   "execution_count": 131,
   "id": "136e35f6-32cb-45ac-a28e-5a7ce08043bd",
   "metadata": {
    "jupyter": {
     "source_hidden": true
    }
   },
   "outputs": [],
   "source": [
    "def dataGroups(data):\n",
    "    data_ = data.copy()\n",
    "    data_['positive'] = (data_.vMetersPerSecond > 0)\n",
    "    data_['group'] = (data_.positive != data_.positive.shift(1)).astype(int).cumsum()-1\n",
    "\n",
    "    return data_"
   ]
  },
  {
   "cell_type": "code",
   "execution_count": 132,
   "id": "726b5ea5-8d0b-4db4-919c-134cd7e9ee46",
   "metadata": {
    "jupyter": {
     "source_hidden": true
    }
   },
   "outputs": [
    {
     "name": "stdout",
     "output_type": "stream",
     "text": [
      "Data groups = 672\n"
     ]
    }
   ],
   "source": [
    "data = dataGroups(data)\n",
    "groups = data.group.max()+1\n",
    "print('Data groups = %d' % groups)\n",
    "\n",
    "freeFallGroup = -1\n",
    "dataPoints = -1\n",
    "for group in range(groups):\n",
    "    subset = data[data.group == group]\n",
    "    if len(subset) > dataPoints:\n",
    "        freeFallGroup = group\n",
    "        dataPoints = len(subset)\n",
    "freeFallGroup\n",
    "\n",
    "data = data[data.group == freeFallGroup]\n",
    "data = data.drop('group', axis = 1).drop('positive', axis = 1)"
   ]
  },
  {
   "cell_type": "markdown",
   "id": "a5a2dbef-0e0b-4803-8e55-23f078b40e12",
   "metadata": {},
   "source": [
    "### Drop data before exit and below the breakoff altitude\n",
    "\n",
    "Breakoff altitude is 1,707 meters - FAI ISC and USPA Competition rules."
   ]
  },
  {
   "cell_type": "code",
   "execution_count": 133,
   "id": "927f8859-2306-49a1-b6b9-ca246f63608b",
   "metadata": {
    "jupyter": {
     "source_hidden": true
    }
   },
   "outputs": [],
   "source": [
    "data = data[data.vKMh >= 1.0]\n",
    "data = data[data.heightMSL >= BREAKOFF_ALTITUDE]"
   ]
  },
  {
   "cell_type": "markdown",
   "id": "ed055e59-16c2-4462-a9b3-0898b38ec37b",
   "metadata": {},
   "source": [
    "### Identify performance, scoring, and validation window\n",
    "\n",
    "The PERFORMANCE_WINDOW_LENGTH is 2,256 meters after exit\n",
    "If the performance window is below the breakoff altitude, scoring ends at BREAKOFF_ALTITUDE"
   ]
  },
  {
   "cell_type": "code",
   "execution_count": 134,
   "id": "884e788d-495c-445d-aeb4-7f5398c15c3c",
   "metadata": {},
   "outputs": [
    {
     "name": "stdout",
     "output_type": "stream",
     "text": [
      "Window start = 4,190.09\n",
      "Validation window start = 2,940.09\n",
      "Window end = 1,934.09\n"
     ]
    }
   ],
   "source": [
    "windowStart = data.iloc[0].heightMSL\n",
    "windowEnd = windowStart-PERFORMANCE_WINDOW_LENGTH\n",
    "if windowEnd < BREAKOFF_ALTITUDE:\n",
    "    windowEnd = BREAKOFF_ALTITUDE\n",
    "\n",
    "validationWindowStart = windowEnd+VALIDATION_WINDOW_LENGTH\n",
    "data = data[data.heightMSL > windowEnd]\n",
    "\n",
    "print('Window start = {0:,.2f}'.format(windowStart))\n",
    "print('Validation window start = {0:,.2f}'.format(validationWindowStart))\n",
    "print('Window end = {0:,.2f}'.format(windowEnd))"
   ]
  },
  {
   "cell_type": "markdown",
   "id": "5a75452d-8e19-4efe-9bf5-dd00f547219e",
   "metadata": {},
   "source": [
    "---\n",
    "## Jump validation\n",
    "Every data sample within the validation window must satisfy the precision criterium of max speed accuracy < 3 m/s; 0.0 == most accurate."
   ]
  },
  {
   "cell_type": "code",
   "execution_count": 135,
   "id": "ddf993ed-2e08-4be6-8f9b-8e18109bc14d",
   "metadata": {},
   "outputs": [
    {
     "data": {
      "application/vnd.jupyter.widget-view+json": {
       "model_id": "0b9a75ada9c34af9873b79abb82f46c3",
       "version_major": 2,
       "version_minor": 0
      },
      "text/plain": [
       "HTML(value='<h2><span style=\"color: #0f0\">valid jump</span></h2>')"
      ]
     },
     "metadata": {},
     "output_type": "display_data"
    }
   ],
   "source": [
    "speedAccuracy = data[data.heightMSL > validationWindowStart].speedAccuracy.max()\n",
    "\n",
    "if speedAccuracy < MAX_SPEED_ACCURACY:\n",
    "    color = '#0f0'\n",
    "    result = 'valid'\n",
    "else:\n",
    "    color = '#f00'\n",
    "    result = 'invalid'\n",
    "\n",
    "validJumpStatus = '<h2><span style=\"color: %s\">%s jump</span></h2>' % (color, result)\n",
    "display(widgets.HTML(validJumpStatus))"
   ]
  },
  {
   "cell_type": "markdown",
   "id": "a6fa0609-87dd-4179-9a19-9010d7026246",
   "metadata": {},
   "source": [
    "---\n",
    "## Jump analysis"
   ]
  },
  {
   "cell_type": "code",
   "execution_count": 138,
   "id": "9bd4c627-dceb-4862-bdc6-f759aa53c0c6",
   "metadata": {},
   "outputs": [
    {
     "data": {
      "text/plain": [
       "1692469206.5"
      ]
     },
     "execution_count": 138,
     "metadata": {},
     "output_type": "execute_result"
    }
   ],
   "source": [
    "data.iloc[0].timeUnix + 5"
   ]
  },
  {
   "cell_type": "code",
   "execution_count": 140,
   "id": "5b3b4f11-dd67-4265-8010-a4980862baa7",
   "metadata": {},
   "outputs": [
    {
     "data": {
      "text/html": [
       "<div>\n",
       "<style scoped>\n",
       "    .dataframe tbody tr th:only-of-type {\n",
       "        vertical-align: middle;\n",
       "    }\n",
       "\n",
       "    .dataframe tbody tr th {\n",
       "        vertical-align: top;\n",
       "    }\n",
       "\n",
       "    .dataframe thead th {\n",
       "        text-align: right;\n",
       "    }\n",
       "</style>\n",
       "<table border=\"1\" class=\"dataframe\">\n",
       "  <thead>\n",
       "    <tr style=\"text-align: right;\">\n",
       "      <th></th>\n",
       "      <th>timeUnix</th>\n",
       "      <th>heightMSL</th>\n",
       "      <th>heightFt</th>\n",
       "      <th>vMetersPerSecond</th>\n",
       "      <th>vKMh</th>\n",
       "      <th>speedAccuracy</th>\n",
       "    </tr>\n",
       "  </thead>\n",
       "  <tbody>\n",
       "    <tr>\n",
       "      <th>10650</th>\n",
       "      <td>1.692469e+09</td>\n",
       "      <td>4165.627</td>\n",
       "      <td>13666.589062</td>\n",
       "      <td>15.2</td>\n",
       "      <td>54.72</td>\n",
       "      <td>0.52</td>\n",
       "    </tr>\n",
       "  </tbody>\n",
       "</table>\n",
       "</div>"
      ],
      "text/plain": [
       "           timeUnix  heightMSL      heightFt  vMetersPerSecond   vKMh  \\\n",
       "10650  1.692469e+09   4165.627  13666.589062              15.2  54.72   \n",
       "\n",
       "       speedAccuracy  \n",
       "10650           0.52  "
      ]
     },
     "execution_count": 140,
     "metadata": {},
     "output_type": "execute_result"
    }
   ],
   "source": [
    "data.query('timeUnix == 1692469207.5')"
   ]
  },
  {
   "cell_type": "code",
   "execution_count": 184,
   "id": "76b0de5c-18ad-4df9-a6af-8dfcb4488f6a",
   "metadata": {},
   "outputs": [],
   "source": [
    "table = None"
   ]
  },
  {
   "cell_type": "code",
   "execution_count": 185,
   "id": "3031734c-a9b5-49a3-aeb2-a0f142448173",
   "metadata": {},
   "outputs": [],
   "source": [
    "columns = pd.Series([ '5', '10', '15', '20', '25', ])"
   ]
  },
  {
   "cell_type": "code",
   "execution_count": 186,
   "id": "67654308-d338-4129-8119-45dd348425d8",
   "metadata": {},
   "outputs": [
    {
     "ename": "AttributeError",
     "evalue": "'DataFrame' object has no attribute 'append'",
     "output_type": "error",
     "traceback": [
      "\u001b[0;31m---------------------------------------------------------------------------\u001b[0m",
      "\u001b[0;31mAttributeError\u001b[0m                            Traceback (most recent call last)",
      "\u001b[0;32m/tmp/ipykernel_10326/2659513509.py\u001b[0m in \u001b[0;36m?\u001b[0;34m()\u001b[0m\n\u001b[1;32m      1\u001b[0m \u001b[0;32mfor\u001b[0m \u001b[0mcolumn\u001b[0m \u001b[0;32min\u001b[0m \u001b[0mpd\u001b[0m\u001b[0;34m.\u001b[0m\u001b[0mSeries\u001b[0m\u001b[0;34m(\u001b[0m\u001b[0;34m[\u001b[0m \u001b[0;34m'5'\u001b[0m\u001b[0;34m,\u001b[0m \u001b[0;34m'10'\u001b[0m\u001b[0;34m,\u001b[0m \u001b[0;34m'15'\u001b[0m\u001b[0;34m,\u001b[0m \u001b[0;34m'20'\u001b[0m\u001b[0;34m,\u001b[0m \u001b[0;34m'25'\u001b[0m\u001b[0;34m,\u001b[0m \u001b[0;34m]\u001b[0m\u001b[0;34m)\u001b[0m\u001b[0;34m:\u001b[0m\u001b[0;34m\u001b[0m\u001b[0;34m\u001b[0m\u001b[0m\n\u001b[1;32m      2\u001b[0m     \u001b[0mtimeOffset\u001b[0m \u001b[0;34m=\u001b[0m \u001b[0mdata\u001b[0m\u001b[0;34m.\u001b[0m\u001b[0miloc\u001b[0m\u001b[0;34m[\u001b[0m\u001b[0;36m0\u001b[0m\u001b[0;34m]\u001b[0m\u001b[0;34m.\u001b[0m\u001b[0mtimeUnix\u001b[0m\u001b[0;34m+\u001b[0m\u001b[0mfloat\u001b[0m\u001b[0;34m(\u001b[0m\u001b[0mcolumn\u001b[0m\u001b[0;34m)\u001b[0m\u001b[0;34m\u001b[0m\u001b[0;34m\u001b[0m\u001b[0m\n\u001b[1;32m      3\u001b[0m     \u001b[0mtranche\u001b[0m \u001b[0;34m=\u001b[0m \u001b[0mdata\u001b[0m\u001b[0;34m.\u001b[0m\u001b[0mquery\u001b[0m\u001b[0;34m(\u001b[0m\u001b[0;34m'timeUnix == %f'\u001b[0m \u001b[0;34m%\u001b[0m \u001b[0mtimeOffset\u001b[0m\u001b[0;34m)\u001b[0m\u001b[0;34m\u001b[0m\u001b[0;34m\u001b[0m\u001b[0m\n\u001b[1;32m      4\u001b[0m     \u001b[0;32mif\u001b[0m \u001b[0mtable\u001b[0m \u001b[0;32mis\u001b[0m \u001b[0;32mnot\u001b[0m \u001b[0;32mNone\u001b[0m\u001b[0;34m:\u001b[0m\u001b[0;34m\u001b[0m\u001b[0;34m\u001b[0m\u001b[0m\n\u001b[0;32m----> 5\u001b[0;31m         \u001b[0mtable\u001b[0m\u001b[0;34m.\u001b[0m\u001b[0mappend\u001b[0m\u001b[0;34m(\u001b[0m\u001b[0mtranche\u001b[0m\u001b[0;34m,\u001b[0m \u001b[0mignore_index\u001b[0m \u001b[0;34m=\u001b[0m \u001b[0;32mTrue\u001b[0m\u001b[0;34m)\u001b[0m\u001b[0;34m\u001b[0m\u001b[0;34m\u001b[0m\u001b[0m\n\u001b[0m\u001b[1;32m      6\u001b[0m     \u001b[0;32melse\u001b[0m\u001b[0;34m:\u001b[0m\u001b[0;34m\u001b[0m\u001b[0;34m\u001b[0m\u001b[0m\n\u001b[1;32m      7\u001b[0m         \u001b[0mtable\u001b[0m \u001b[0;34m=\u001b[0m \u001b[0mtranche\u001b[0m\u001b[0;34m\u001b[0m\u001b[0;34m\u001b[0m\u001b[0m\n",
      "\u001b[0;32m/opt/conda/lib/python3.11/site-packages/pandas/core/generic.py\u001b[0m in \u001b[0;36m?\u001b[0;34m(self, name)\u001b[0m\n\u001b[1;32m   5985\u001b[0m             \u001b[0;32mand\u001b[0m \u001b[0mname\u001b[0m \u001b[0;32mnot\u001b[0m \u001b[0;32min\u001b[0m \u001b[0mself\u001b[0m\u001b[0;34m.\u001b[0m\u001b[0m_accessors\u001b[0m\u001b[0;34m\u001b[0m\u001b[0;34m\u001b[0m\u001b[0m\n\u001b[1;32m   5986\u001b[0m             \u001b[0;32mand\u001b[0m \u001b[0mself\u001b[0m\u001b[0;34m.\u001b[0m\u001b[0m_info_axis\u001b[0m\u001b[0;34m.\u001b[0m\u001b[0m_can_hold_identifiers_and_holds_name\u001b[0m\u001b[0;34m(\u001b[0m\u001b[0mname\u001b[0m\u001b[0;34m)\u001b[0m\u001b[0;34m\u001b[0m\u001b[0;34m\u001b[0m\u001b[0m\n\u001b[1;32m   5987\u001b[0m         ):\n\u001b[1;32m   5988\u001b[0m             \u001b[0;32mreturn\u001b[0m \u001b[0mself\u001b[0m\u001b[0;34m[\u001b[0m\u001b[0mname\u001b[0m\u001b[0;34m]\u001b[0m\u001b[0;34m\u001b[0m\u001b[0;34m\u001b[0m\u001b[0m\n\u001b[0;32m-> 5989\u001b[0;31m         \u001b[0;32mreturn\u001b[0m \u001b[0mobject\u001b[0m\u001b[0;34m.\u001b[0m\u001b[0m__getattribute__\u001b[0m\u001b[0;34m(\u001b[0m\u001b[0mself\u001b[0m\u001b[0;34m,\u001b[0m \u001b[0mname\u001b[0m\u001b[0;34m)\u001b[0m\u001b[0;34m\u001b[0m\u001b[0;34m\u001b[0m\u001b[0m\n\u001b[0m",
      "\u001b[0;31mAttributeError\u001b[0m: 'DataFrame' object has no attribute 'append'"
     ]
    }
   ],
   "source": [
    "for column in pd.Series([ '5', '10', '15', '20', '25', ]):\n",
    "    timeOffset = data.iloc[0].timeUnix+float(column)\n",
    "    tranche = data.query('timeUnix == %f' % timeOffset)\n",
    "    if table is not None:\n",
    "        table.append(tranche, ignore_index = True)\n",
    "    else:\n",
    "        table = tranche"
   ]
  },
  {
   "cell_type": "code",
   "execution_count": 178,
   "id": "167a40bb-2922-4a2b-a3a9-1f3072c7ec2d",
   "metadata": {},
   "outputs": [
    {
     "data": {
      "text/html": [
       "<div>\n",
       "<style scoped>\n",
       "    .dataframe tbody tr th:only-of-type {\n",
       "        vertical-align: middle;\n",
       "    }\n",
       "\n",
       "    .dataframe tbody tr th {\n",
       "        vertical-align: top;\n",
       "    }\n",
       "\n",
       "    .dataframe thead th {\n",
       "        text-align: right;\n",
       "    }\n",
       "</style>\n",
       "<table border=\"1\" class=\"dataframe\">\n",
       "  <thead>\n",
       "    <tr style=\"text-align: right;\">\n",
       "      <th></th>\n",
       "      <th>timeUnix</th>\n",
       "      <th>heightMSL</th>\n",
       "      <th>heightFt</th>\n",
       "      <th>vMetersPerSecond</th>\n",
       "      <th>vKMh</th>\n",
       "      <th>speedAccuracy</th>\n",
       "    </tr>\n",
       "  </thead>\n",
       "  <tbody>\n",
       "  </tbody>\n",
       "</table>\n",
       "</div>"
      ],
      "text/plain": [
       "Empty DataFrame\n",
       "Columns: [timeUnix, heightMSL, heightFt, vMetersPerSecond, vKMh, speedAccuracy]\n",
       "Index: []"
      ]
     },
     "execution_count": 178,
     "metadata": {},
     "output_type": "execute_result"
    }
   ],
   "source": [
    "table"
   ]
  },
  {
   "cell_type": "code",
   "execution_count": 179,
   "id": "dd88e2c2-c9d8-4f3b-9446-889a6bcf1935",
   "metadata": {},
   "outputs": [
    {
     "data": {
      "text/html": [
       "<div>\n",
       "<style scoped>\n",
       "    .dataframe tbody tr th:only-of-type {\n",
       "        vertical-align: middle;\n",
       "    }\n",
       "\n",
       "    .dataframe tbody tr th {\n",
       "        vertical-align: top;\n",
       "    }\n",
       "\n",
       "    .dataframe thead th {\n",
       "        text-align: right;\n",
       "    }\n",
       "</style>\n",
       "<table border=\"1\" class=\"dataframe\">\n",
       "  <thead>\n",
       "    <tr style=\"text-align: right;\">\n",
       "      <th></th>\n",
       "      <th>timeUnix</th>\n",
       "      <th>heightMSL</th>\n",
       "      <th>heightFt</th>\n",
       "      <th>vMetersPerSecond</th>\n",
       "      <th>vKMh</th>\n",
       "      <th>speedAccuracy</th>\n",
       "    </tr>\n",
       "  </thead>\n",
       "  <tbody>\n",
       "    <tr>\n",
       "      <th>count</th>\n",
       "      <td>0.0</td>\n",
       "      <td>0.0</td>\n",
       "      <td>0.0</td>\n",
       "      <td>0.0</td>\n",
       "      <td>0.0</td>\n",
       "      <td>0.0</td>\n",
       "    </tr>\n",
       "    <tr>\n",
       "      <th>mean</th>\n",
       "      <td>NaN</td>\n",
       "      <td>NaN</td>\n",
       "      <td>NaN</td>\n",
       "      <td>NaN</td>\n",
       "      <td>NaN</td>\n",
       "      <td>NaN</td>\n",
       "    </tr>\n",
       "    <tr>\n",
       "      <th>std</th>\n",
       "      <td>NaN</td>\n",
       "      <td>NaN</td>\n",
       "      <td>NaN</td>\n",
       "      <td>NaN</td>\n",
       "      <td>NaN</td>\n",
       "      <td>NaN</td>\n",
       "    </tr>\n",
       "    <tr>\n",
       "      <th>min</th>\n",
       "      <td>NaN</td>\n",
       "      <td>NaN</td>\n",
       "      <td>NaN</td>\n",
       "      <td>NaN</td>\n",
       "      <td>NaN</td>\n",
       "      <td>NaN</td>\n",
       "    </tr>\n",
       "    <tr>\n",
       "      <th>25%</th>\n",
       "      <td>NaN</td>\n",
       "      <td>NaN</td>\n",
       "      <td>NaN</td>\n",
       "      <td>NaN</td>\n",
       "      <td>NaN</td>\n",
       "      <td>NaN</td>\n",
       "    </tr>\n",
       "    <tr>\n",
       "      <th>50%</th>\n",
       "      <td>NaN</td>\n",
       "      <td>NaN</td>\n",
       "      <td>NaN</td>\n",
       "      <td>NaN</td>\n",
       "      <td>NaN</td>\n",
       "      <td>NaN</td>\n",
       "    </tr>\n",
       "    <tr>\n",
       "      <th>75%</th>\n",
       "      <td>NaN</td>\n",
       "      <td>NaN</td>\n",
       "      <td>NaN</td>\n",
       "      <td>NaN</td>\n",
       "      <td>NaN</td>\n",
       "      <td>NaN</td>\n",
       "    </tr>\n",
       "    <tr>\n",
       "      <th>max</th>\n",
       "      <td>NaN</td>\n",
       "      <td>NaN</td>\n",
       "      <td>NaN</td>\n",
       "      <td>NaN</td>\n",
       "      <td>NaN</td>\n",
       "      <td>NaN</td>\n",
       "    </tr>\n",
       "  </tbody>\n",
       "</table>\n",
       "</div>"
      ],
      "text/plain": [
       "       timeUnix  heightMSL  heightFt  vMetersPerSecond  vKMh  speedAccuracy\n",
       "count       0.0        0.0       0.0               0.0   0.0            0.0\n",
       "mean        NaN        NaN       NaN               NaN   NaN            NaN\n",
       "std         NaN        NaN       NaN               NaN   NaN            NaN\n",
       "min         NaN        NaN       NaN               NaN   NaN            NaN\n",
       "25%         NaN        NaN       NaN               NaN   NaN            NaN\n",
       "50%         NaN        NaN       NaN               NaN   NaN            NaN\n",
       "75%         NaN        NaN       NaN               NaN   NaN            NaN\n",
       "max         NaN        NaN       NaN               NaN   NaN            NaN"
      ]
     },
     "execution_count": 179,
     "metadata": {},
     "output_type": "execute_result"
    }
   ],
   "source": [
    "table.describe()"
   ]
  },
  {
   "cell_type": "code",
   "execution_count": null,
   "id": "f11d851f-0ec8-4f05-a3f5-a8ba913706a7",
   "metadata": {},
   "outputs": [],
   "source": []
  }
 ],
 "metadata": {
  "kernelspec": {
   "display_name": "Python 3 (ipykernel)",
   "language": "python",
   "name": "python3"
  },
  "language_info": {
   "codemirror_mode": {
    "name": "ipython",
    "version": 3
   },
   "file_extension": ".py",
   "mimetype": "text/x-python",
   "name": "python",
   "nbconvert_exporter": "python",
   "pygments_lexer": "ipython3",
   "version": "3.11.4"
  }
 },
 "nbformat": 4,
 "nbformat_minor": 5
}
