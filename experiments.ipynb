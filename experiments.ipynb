{
 "cells": [
  {
   "cell_type": "markdown",
   "id": "af91c6ee-9cde-4dc5-9166-f38b1c79878d",
   "metadata": {},
   "source": [
    "# Experiments"
   ]
  },
  {
   "cell_type": "markdown",
   "id": "cc47ed87-61bc-482d-a7b6-fb0f01bed4c3",
   "metadata": {},
   "source": [
    "## Useful links\n",
    "\n",
    "- Let's go back to [CherryPy](https://docs.cherrypy.dev/en/latest/tutorials.html#tutorial-1-a-basic-web-application)\n",
    "- And combine it with [EmberJS](https://guides.emberjs.com/release/getting-started/)"
   ]
  },
  {
   "cell_type": "code",
   "execution_count": null,
   "id": "8bcbd3e9-a1af-4eb8-92b9-c6c080f7ca68",
   "metadata": {},
   "outputs": [],
   "source": []
  }
 ],
 "metadata": {
  "kernelspec": {
   "display_name": "Python 3 (ipykernel)",
   "language": "python",
   "name": "python3"
  },
  "language_info": {
   "codemirror_mode": {
    "name": "ipython",
    "version": 3
   },
   "file_extension": ".py",
   "mimetype": "text/x-python",
   "name": "python",
   "nbconvert_exporter": "python",
   "pygments_lexer": "ipython3",
   "version": "3.11.4"
  }
 },
 "nbformat": 4,
 "nbformat_minor": 5
}
