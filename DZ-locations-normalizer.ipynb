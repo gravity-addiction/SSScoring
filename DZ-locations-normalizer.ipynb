{
 "cells": [
  {
   "cell_type": "markdown",
   "id": "5e47007b-4ceb-4f05-88da-0377dd0bb29f",
   "metadata": {},
   "source": [
    "# DZ locations normalizer\n",
    "\n",
    "Thanks to Alexey Galda (GitHub: @alexgalda) and wingsuitworld.com for providing the raw CSV of drop zone locations and elevations where speeders and wingsuit pilots train and compete.\n"
   ]
  },
  {
   "cell_type": "code",
   "execution_count": 25,
   "id": "5dd5db25-8a3f-4f7f-91ba-2ec05c1d1568",
   "metadata": {},
   "outputs": [],
   "source": [
    "import pandas as pd"
   ]
  },
  {
   "cell_type": "markdown",
   "id": "722daed6-a794-4844-8bc4-22c42a933586",
   "metadata": {},
   "source": [
    "## Get the raw data"
   ]
  },
  {
   "cell_type": "code",
   "execution_count": 26,
   "id": "e15758d5-7d04-415a-8280-26a3abe7f9ad",
   "metadata": {},
   "outputs": [],
   "source": [
    "RAW_DATA_FILE = './resources/drop-zones-loc-elev-raw.csv'\n",
    "rawData = pd.read_csv(RAW_DATA_FILE)"
   ]
  },
  {
   "cell_type": "markdown",
   "id": "f3f83cf5-6713-48f0-8ea7-55f187c9fdd2",
   "metadata": {},
   "source": [
    "## Impute missing data and rename columns to SSScoring conventions\n",
    "\n",
    "- Some DZ names are missing.  The city/town `name` will be imputed to the `DZ` column in those cases.\n",
    "- Future revisions may use ISO-2 country codes instead of ISO-3."
   ]
  },
  {
   "cell_type": "code",
   "execution_count": 27,
   "id": "ebde3a42-ed79-4511-b634-e61e5c6a7530",
   "metadata": {},
   "outputs": [
    {
     "data": {
      "text/html": [
       "<div>\n",
       "<style scoped>\n",
       "    .dataframe tbody tr th:only-of-type {\n",
       "        vertical-align: middle;\n",
       "    }\n",
       "\n",
       "    .dataframe tbody tr th {\n",
       "        vertical-align: top;\n",
       "    }\n",
       "\n",
       "    .dataframe thead th {\n",
       "        text-align: right;\n",
       "    }\n",
       "</style>\n",
       "<table border=\"1\" class=\"dataframe\">\n",
       "  <thead>\n",
       "    <tr style=\"text-align: right;\">\n",
       "      <th></th>\n",
       "      <th>dropZone</th>\n",
       "      <th>lat</th>\n",
       "      <th>lon</th>\n",
       "      <th>elevation</th>\n",
       "      <th>location</th>\n",
       "      <th>country</th>\n",
       "    </tr>\n",
       "  </thead>\n",
       "  <tbody>\n",
       "    <tr>\n",
       "      <th>39</th>\n",
       "      <td>Aarhus</td>\n",
       "      <td>56.313258</td>\n",
       "      <td>10.6151104</td>\n",
       "      <td>20.0</td>\n",
       "      <td>Aarhus</td>\n",
       "      <td>DEN</td>\n",
       "    </tr>\n",
       "    <tr>\n",
       "      <th>61</th>\n",
       "      <td>Abbotsford</td>\n",
       "      <td>49.095333</td>\n",
       "      <td>-122.3131299</td>\n",
       "      <td>6.0</td>\n",
       "      <td>Abbotsford</td>\n",
       "      <td>CAN</td>\n",
       "    </tr>\n",
       "    <tr>\n",
       "      <th>160</th>\n",
       "      <td>Adrenalin Skydive</td>\n",
       "      <td>-34.809077</td>\n",
       "      <td>149.726989</td>\n",
       "      <td>653.0</td>\n",
       "      <td>Goulburn</td>\n",
       "      <td>AUS</td>\n",
       "    </tr>\n",
       "    <tr>\n",
       "      <th>240</th>\n",
       "      <td>Aero Parachute sport GmbH</td>\n",
       "      <td>51.408333</td>\n",
       "      <td>9.3775</td>\n",
       "      <td>277.0</td>\n",
       "      <td>Calden</td>\n",
       "      <td>GER</td>\n",
       "    </tr>\n",
       "    <tr>\n",
       "      <th>174</th>\n",
       "      <td>Aeroclub Menzelinsk</td>\n",
       "      <td>55.720724</td>\n",
       "      <td>53.060472</td>\n",
       "      <td>119.0</td>\n",
       "      <td>Menzelinsk</td>\n",
       "      <td>RUS</td>\n",
       "    </tr>\n",
       "    <tr>\n",
       "      <th>196</th>\n",
       "      <td>Aerodrom Borodyanka</td>\n",
       "      <td>50.667000</td>\n",
       "      <td>29.915001</td>\n",
       "      <td>141.0</td>\n",
       "      <td>Borodyanka</td>\n",
       "      <td>UKR</td>\n",
       "    </tr>\n",
       "    <tr>\n",
       "      <th>203</th>\n",
       "      <td>Aerodrom Tanay</td>\n",
       "      <td>54.758114</td>\n",
       "      <td>85.112972</td>\n",
       "      <td>213.0</td>\n",
       "      <td>Zhuravlevo</td>\n",
       "      <td>RUS</td>\n",
       "    </tr>\n",
       "    <tr>\n",
       "      <th>29</th>\n",
       "      <td>Aerograd Kolomna</td>\n",
       "      <td>55.091244</td>\n",
       "      <td>38.918871</td>\n",
       "      <td>144.0</td>\n",
       "      <td>Kolomna</td>\n",
       "      <td>RUS</td>\n",
       "    </tr>\n",
       "  </tbody>\n",
       "</table>\n",
       "</div>"
      ],
      "text/plain": [
       "                      dropZone        lat           lon  elevation  \\\n",
       "39                      Aarhus  56.313258    10.6151104       20.0   \n",
       "61                  Abbotsford  49.095333  -122.3131299        6.0   \n",
       "160          Adrenalin Skydive -34.809077    149.726989      653.0   \n",
       "240  Aero Parachute sport GmbH  51.408333        9.3775      277.0   \n",
       "174        Aeroclub Menzelinsk  55.720724     53.060472      119.0   \n",
       "196        Aerodrom Borodyanka  50.667000     29.915001      141.0   \n",
       "203             Aerodrom Tanay  54.758114     85.112972      213.0   \n",
       "29            Aerograd Kolomna  55.091244     38.918871      144.0   \n",
       "\n",
       "       location country  \n",
       "39       Aarhus     DEN  \n",
       "61   Abbotsford     CAN  \n",
       "160    Goulburn     AUS  \n",
       "240      Calden     GER  \n",
       "174  Menzelinsk     RUS  \n",
       "196  Borodyanka     UKR  \n",
       "203  Zhuravlevo     RUS  \n",
       "29      Kolomna     RUS  "
      ]
     },
     "execution_count": 27,
     "metadata": {},
     "output_type": "execute_result"
    }
   ],
   "source": [
    "rawData.DZ = rawData.DZ.fillna(rawData.name)\n",
    "data = pd.DataFrame(data = {\n",
    "    'dropZone': rawData.DZ,\n",
    "    'lat': rawData.lat,\n",
    "    'lon': rawData.lon,\n",
    "    'elevation': rawData.elevation,\n",
    "    'location': rawData.name,\n",
    "    'country': rawData.country,\n",
    "})\n",
    "data.sort_values(by='dropZone', ascending=True, inplace=True)\n",
    "data.head(8)"
   ]
  },
  {
   "cell_type": "markdown",
   "id": "2e0570b3-988a-45bd-bd97-a64db7e6cc66",
   "metadata": {},
   "source": [
    "## Preserve the normalized data"
   ]
  },
  {
   "cell_type": "code",
   "execution_count": 28,
   "id": "c4a09922-0035-4158-adb5-078825f14377",
   "metadata": {},
   "outputs": [
    {
     "name": "stdout",
     "output_type": "stream",
     "text": [
      "-rw-r--r-- 1 jovyan users 13474 Jan 10 19:31 ./resources/drop-zones-loc-elev-raw.csv\n",
      "-rw-r--r-- 1 jovyan users 15190 Jan 10 19:32 ./resources/drop-zones-loc-elev.csv\n"
     ]
    }
   ],
   "source": [
    "data.to_csv('./resources/drop-zones-loc-elev.csv', sep=',')\n",
    "!ls -l ./resources/drop-zones*"
   ]
  },
  {
   "cell_type": "code",
   "execution_count": null,
   "id": "3d6a837d-60c8-4b0f-ac54-117ab15c9c54",
   "metadata": {},
   "outputs": [],
   "source": []
  }
 ],
 "metadata": {
  "kernelspec": {
   "display_name": "Python 3 (ipykernel)",
   "language": "python",
   "name": "python3"
  },
  "language_info": {
   "codemirror_mode": {
    "name": "ipython",
    "version": 3
   },
   "file_extension": ".py",
   "mimetype": "text/x-python",
   "name": "python",
   "nbconvert_exporter": "python",
   "pygments_lexer": "ipython3",
   "version": "3.11.10"
  }
 },
 "nbformat": 4,
 "nbformat_minor": 5
}
