{
 "cells": [
  {
   "cell_type": "markdown",
   "id": "5e47007b-4ceb-4f05-88da-0377dd0bb29f",
   "metadata": {},
   "source": [
    "# DZ locations normalizer\n",
    "\n",
    "Thanks to Alexey Galda (GitHub: @alexgalda) and wingsuitworld.com for providing the raw CSV of drop zone locations and elevations where speeders and wingsuit pilots train and compete.\n"
   ]
  },
  {
   "cell_type": "code",
   "execution_count": null,
   "id": "5dd5db25-8a3f-4f7f-91ba-2ec05c1d1568",
   "metadata": {},
   "outputs": [],
   "source": [
    "import pandas as pd"
   ]
  },
  {
   "cell_type": "markdown",
   "id": "722daed6-a794-4844-8bc4-22c42a933586",
   "metadata": {},
   "source": [
    "## Get the raw data"
   ]
  },
  {
   "cell_type": "code",
   "execution_count": null,
   "id": "e15758d5-7d04-415a-8280-26a3abe7f9ad",
   "metadata": {},
   "outputs": [],
   "source": [
    "RAW_DATA_FILE = './resources/drop-zones-loc-elev-raw.csv'\n",
    "rawData = pd.read_csv(RAW_DATA_FILE)"
   ]
  },
  {
   "cell_type": "markdown",
   "id": "f3f83cf5-6713-48f0-8ea7-55f187c9fdd2",
   "metadata": {},
   "source": [
    "## Impute missing data and rename columns to SSScoring conventions\n",
    "\n",
    "- Some DZ names are missing.  The city/town `name` will be imputed to the `DZ` column in those cases.\n",
    "- Future revisions may use ISO-2 country codes instead of ISO-3."
   ]
  },
  {
   "cell_type": "code",
   "execution_count": null,
   "id": "ebde3a42-ed79-4511-b634-e61e5c6a7530",
   "metadata": {},
   "outputs": [],
   "source": [
    "rawData.DZ = rawData.DZ.fillna(rawData.name)\n",
    "data = pd.DataFrame(data = {\n",
    "    'dropZone': rawData.DZ,\n",
    "    'lat': rawData.lat,\n",
    "    'lon': rawData.lon,\n",
    "    'elevation': rawData.elevation,\n",
    "    'location': rawData.name,\n",
    "    'country': rawData.country,\n",
    "})\n",
    "data.sort_values(by='dropZone', ascending=True, inplace=True)\n",
    "data.head(8)"
   ]
  },
  {
   "cell_type": "markdown",
   "id": "2e0570b3-988a-45bd-bd97-a64db7e6cc66",
   "metadata": {},
   "source": [
    "## Preserve the normalized data"
   ]
  },
  {
   "cell_type": "code",
   "execution_count": null,
   "id": "c4a09922-0035-4158-adb5-078825f14377",
   "metadata": {},
   "outputs": [],
   "source": [
    "data.to_csv('./ssscoring/resources/drop-zones-loc-elev.csv', sep=',')\n",
    "!ls -l ./resources/drop-zones*"
   ]
  },
  {
   "cell_type": "markdown",
   "id": "ee602503-f14a-482c-8e02-092ce7dc7e13",
   "metadata": {},
   "source": [
    "---\n",
    "## Generate the synthetic Python module with the DZ data\n",
    "\n",
    "This is necessary because Streamlit.io can't handle package resources natively for some reason or in a clean, Pythonic way."
   ]
  },
  {
   "cell_type": "code",
   "execution_count": 11,
   "id": "0391fd0a-c288-41ec-9010-89aaee283652",
   "metadata": {},
   "outputs": [],
   "source": [
    "dropZones = pd.read_csv('./ssscoring/resources/drop-zones-loc-elev.csv', sep=',')"
   ]
  },
  {
   "cell_type": "code",
   "execution_count": 12,
   "id": "ad76ace1-cd17-4cb7-a15f-a3f1999be3d5",
   "metadata": {},
   "outputs": [],
   "source": [
    "dropZones.reset_index(drop=True)\n",
    "dropZonesList = dropZones.to_dict('records')\n",
    "for record in dropZonesList:\n",
    "    del record['Unnamed: 0']"
   ]
  },
  {
   "cell_type": "code",
   "execution_count": 25,
   "id": "5c4a5186-daf1-4559-8325-11881be98986",
   "metadata": {},
   "outputs": [],
   "source": [
    "with open('./ssscoring/dzdir.py', 'w') as outputStream:\n",
    "    outputStream.write('\"\"\"\\nAUTO-GENERATED - do not modify by hand.\\n\"\"\"\\n\\n')\n",
    "    outputStream.write('DROP_ZONES_LIST = %s' % dropZonesList)\n",
    "    outputStream.write('\\n\"\"\"\\n@private\\n\"\"\"\\n')\n",
    "    outputStream.write('\\n\\n# end of auto-generated file')"
   ]
  },
  {
   "cell_type": "markdown",
   "id": "42981700-9b73-459f-a314-5dc6bf9ff795",
   "metadata": {
    "jp-MarkdownHeadingCollapsed": true
   },
   "source": [
    "### Confirm the dzdir module works"
   ]
  },
  {
   "cell_type": "code",
   "execution_count": 22,
   "id": "681d0b50-d8c1-4758-bc50-8d5c528befb9",
   "metadata": {},
   "outputs": [],
   "source": [
    "from ssscoring.dzdir import DROP_ZONES_LIST"
   ]
  },
  {
   "cell_type": "code",
   "execution_count": 19,
   "id": "aa134ed8-f2ec-44f8-884b-26b2572647cd",
   "metadata": {},
   "outputs": [],
   "source": [
    "x = pd.DataFrame(DROP_ZONES_LIST)"
   ]
  },
  {
   "cell_type": "code",
   "execution_count": 20,
   "id": "78b6bca2-af1b-4e32-bf34-471ccabbadf1",
   "metadata": {},
   "outputs": [
    {
     "data": {
      "text/html": [
       "<div>\n",
       "<style scoped>\n",
       "    .dataframe tbody tr th:only-of-type {\n",
       "        vertical-align: middle;\n",
       "    }\n",
       "\n",
       "    .dataframe tbody tr th {\n",
       "        vertical-align: top;\n",
       "    }\n",
       "\n",
       "    .dataframe thead th {\n",
       "        text-align: right;\n",
       "    }\n",
       "</style>\n",
       "<table border=\"1\" class=\"dataframe\">\n",
       "  <thead>\n",
       "    <tr style=\"text-align: right;\">\n",
       "      <th></th>\n",
       "      <th>dropZone</th>\n",
       "      <th>lat</th>\n",
       "      <th>lon</th>\n",
       "      <th>elevation</th>\n",
       "      <th>location</th>\n",
       "      <th>country</th>\n",
       "    </tr>\n",
       "  </thead>\n",
       "  <tbody>\n",
       "    <tr>\n",
       "      <th>0</th>\n",
       "      <td>Aarhus</td>\n",
       "      <td>56.313258</td>\n",
       "      <td>10.6151104</td>\n",
       "      <td>20.0</td>\n",
       "      <td>Aarhus</td>\n",
       "      <td>DEN</td>\n",
       "    </tr>\n",
       "    <tr>\n",
       "      <th>1</th>\n",
       "      <td>Abbotsford</td>\n",
       "      <td>49.095333</td>\n",
       "      <td>-122.3131299</td>\n",
       "      <td>6.0</td>\n",
       "      <td>Abbotsford</td>\n",
       "      <td>CAN</td>\n",
       "    </tr>\n",
       "    <tr>\n",
       "      <th>2</th>\n",
       "      <td>Adrenalin Skydive</td>\n",
       "      <td>-34.809077</td>\n",
       "      <td>149.726989</td>\n",
       "      <td>653.0</td>\n",
       "      <td>Goulburn</td>\n",
       "      <td>AUS</td>\n",
       "    </tr>\n",
       "    <tr>\n",
       "      <th>3</th>\n",
       "      <td>Aero Parachute sport GmbH</td>\n",
       "      <td>51.408333</td>\n",
       "      <td>9.3775</td>\n",
       "      <td>277.0</td>\n",
       "      <td>Calden</td>\n",
       "      <td>GER</td>\n",
       "    </tr>\n",
       "    <tr>\n",
       "      <th>4</th>\n",
       "      <td>Aeroclub Menzelinsk</td>\n",
       "      <td>55.720724</td>\n",
       "      <td>53.060472</td>\n",
       "      <td>119.0</td>\n",
       "      <td>Menzelinsk</td>\n",
       "      <td>RUS</td>\n",
       "    </tr>\n",
       "    <tr>\n",
       "      <th>...</th>\n",
       "      <td>...</td>\n",
       "      <td>...</td>\n",
       "      <td>...</td>\n",
       "      <td>...</td>\n",
       "      <td>...</td>\n",
       "      <td>...</td>\n",
       "    </tr>\n",
       "    <tr>\n",
       "      <th>243</th>\n",
       "      <td>Vannes</td>\n",
       "      <td>47.723301</td>\n",
       "      <td>-2.71856</td>\n",
       "      <td>134.0</td>\n",
       "      <td>Vannes</td>\n",
       "      <td>FRA</td>\n",
       "    </tr>\n",
       "    <tr>\n",
       "      <th>244</th>\n",
       "      <td>Vatulino</td>\n",
       "      <td>55.662446</td>\n",
       "      <td>36.13871098</td>\n",
       "      <td>195.0</td>\n",
       "      <td>Vatulino</td>\n",
       "      <td>RUS</td>\n",
       "    </tr>\n",
       "    <tr>\n",
       "      <th>245</th>\n",
       "      <td>Vercelli</td>\n",
       "      <td>45.310803</td>\n",
       "      <td>8.42298925</td>\n",
       "      <td>125.0</td>\n",
       "      <td>Vercelli</td>\n",
       "      <td>ITA</td>\n",
       "    </tr>\n",
       "    <tr>\n",
       "      <th>246</th>\n",
       "      <td>Vesivehmaa</td>\n",
       "      <td>61.146440</td>\n",
       "      <td>25.69403887</td>\n",
       "      <td>153.0</td>\n",
       "      <td>Vesivehmaa</td>\n",
       "      <td>FIN</td>\n",
       "    </tr>\n",
       "    <tr>\n",
       "      <th>247</th>\n",
       "      <td>YUU-Skydive Fallschirmsport e.V.</td>\n",
       "      <td>53.994446</td>\n",
       "      <td>9.578611</td>\n",
       "      <td>27.0</td>\n",
       "      <td>Hohenlockstedt</td>\n",
       "      <td>GER</td>\n",
       "    </tr>\n",
       "  </tbody>\n",
       "</table>\n",
       "<p>248 rows × 6 columns</p>\n",
       "</div>"
      ],
      "text/plain": [
       "                             dropZone        lat           lon  elevation  \\\n",
       "0                              Aarhus  56.313258    10.6151104       20.0   \n",
       "1                          Abbotsford  49.095333  -122.3131299        6.0   \n",
       "2                   Adrenalin Skydive -34.809077    149.726989      653.0   \n",
       "3           Aero Parachute sport GmbH  51.408333        9.3775      277.0   \n",
       "4                 Aeroclub Menzelinsk  55.720724     53.060472      119.0   \n",
       "..                                ...        ...           ...        ...   \n",
       "243                            Vannes  47.723301      -2.71856      134.0   \n",
       "244                          Vatulino  55.662446   36.13871098      195.0   \n",
       "245                          Vercelli  45.310803    8.42298925      125.0   \n",
       "246                        Vesivehmaa  61.146440   25.69403887      153.0   \n",
       "247  YUU-Skydive Fallschirmsport e.V.  53.994446      9.578611       27.0   \n",
       "\n",
       "           location country  \n",
       "0            Aarhus     DEN  \n",
       "1        Abbotsford     CAN  \n",
       "2          Goulburn     AUS  \n",
       "3            Calden     GER  \n",
       "4        Menzelinsk     RUS  \n",
       "..              ...     ...  \n",
       "243          Vannes     FRA  \n",
       "244        Vatulino     RUS  \n",
       "245        Vercelli     ITA  \n",
       "246      Vesivehmaa     FIN  \n",
       "247  Hohenlockstedt     GER  \n",
       "\n",
       "[248 rows x 6 columns]"
      ]
     },
     "execution_count": 20,
     "metadata": {},
     "output_type": "execute_result"
    }
   ],
   "source": [
    "x"
   ]
  },
  {
   "cell_type": "code",
   "execution_count": null,
   "id": "1659da21-bbf4-4f1b-b60c-e18b6abca7ec",
   "metadata": {},
   "outputs": [],
   "source": []
  }
 ],
 "metadata": {
  "kernelspec": {
   "display_name": "Python 3 (ipykernel)",
   "language": "python",
   "name": "python3"
  },
  "language_info": {
   "codemirror_mode": {
    "name": "ipython",
    "version": 3
   },
   "file_extension": ".py",
   "mimetype": "text/x-python",
   "name": "python",
   "nbconvert_exporter": "python",
   "pygments_lexer": "ipython3",
   "version": "3.11.10"
  }
 },
 "nbformat": 4,
 "nbformat_minor": 5
}
