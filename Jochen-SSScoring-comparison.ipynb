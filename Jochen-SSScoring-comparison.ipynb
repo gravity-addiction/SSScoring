{
 "cells": [
  {
   "cell_type": "markdown",
   "id": "344d08d0-f0a1-481a-9925-270f0e4eada8",
   "metadata": {},
   "source": [
    "# Exit point comparison SSScoring vs Jochen's spreadsheet\n",
    "\n",
    "Uses a single FlySight data file that Nik provided.  Uses Skydive Arizona's altitude."
   ]
  },
  {
   "cell_type": "code",
   "execution_count": 98,
   "id": "d26eb3fe-fc5b-4d59-94d8-4c4851bc5b1a",
   "metadata": {},
   "outputs": [],
   "source": [
    "from ssscoring.constants import FT_IN_M\n",
    "from ssscoring.fs1 import convertFlySight2SSScoring\n",
    "from ssscoring.fs1 import dropNonSkydiveDataFrom\n",
    "from ssscoring.fs1 import getSpeedSkydiveFrom\n",
    "\n",
    "import io\n",
    "\n",
    "import ipywidgets as widgets\n",
    "import pandas as pd"
   ]
  },
  {
   "cell_type": "code",
   "execution_count": 99,
   "id": "567e4409-0bd3-4fe4-b9aa-05b12d35e3ff",
   "metadata": {},
   "outputs": [],
   "source": [
    "dropZoneAltMSL = 1509"
   ]
  },
  {
   "cell_type": "code",
   "execution_count": 100,
   "id": "b7cc2621-d0be-4231-80cb-918f844c9664",
   "metadata": {},
   "outputs": [
    {
     "data": {
      "application/vnd.jupyter.widget-view+json": {
       "model_id": "47b366bdece640fd89fe6202dec3d9dd",
       "version_major": 2,
       "version_minor": 0
      },
      "text/plain": [
       "HTML(value='<h2>DZ Altitude = <span style = \"color: green\">1509.00 ft</span> ( 459.95 m)<h1>')"
      ]
     },
     "metadata": {},
     "output_type": "display_data"
    }
   ],
   "source": [
    "dropZoneAltMSLMeters = dropZoneAltMSL/FT_IN_M\n",
    "display(widgets.HTML('<h2>DZ Altitude = <span style = \"color: green\">%7.2f ft</span> (%7.2f m)<h1>' % (dropZoneAltMSL, dropZoneAltMSLMeters)))"
   ]
  },
  {
   "cell_type": "code",
   "execution_count": 101,
   "id": "0b5a656a-7630-4074-974c-02977bd43242",
   "metadata": {},
   "outputs": [
    {
     "data": {
      "application/vnd.jupyter.widget-view+json": {
       "model_id": "f2aa72a7fc684ad6b979ac99d1a3989e",
       "version_major": 2,
       "version_minor": 0
      },
      "text/plain": [
       "FileUpload(value=(), description='Speed CSVs', tooltip='FlySight speed file')"
      ]
     },
     "metadata": {},
     "output_type": "display_data"
    }
   ],
   "source": [
    "uploader = widgets.FileUpload(description = 'Speed CSVs', tooltip = 'FlySight speed file', multiple = False)\n",
    "display(uploader)"
   ]
  },
  {
   "cell_type": "code",
   "execution_count": 104,
   "id": "296fc37a-fd08-4583-a7d9-77209b1d6637",
   "metadata": {},
   "outputs": [],
   "source": [
    "data = pd.read_csv(io.BytesIO(uploader.value[0].content), skiprows = (1,1))"
   ]
  },
  {
   "cell_type": "code",
   "execution_count": 105,
   "id": "dbf52af1-f7b3-48ec-a08a-f96fec6dcd71",
   "metadata": {},
   "outputs": [],
   "source": [
    "data = convertFlySight2SSScoring(data, altitudeDZMeters = dropZoneAltMSLMeters)"
   ]
  },
  {
   "cell_type": "code",
   "execution_count": 106,
   "id": "64e2f8db-f8f2-4d87-a62a-ab9e00c1dae9",
   "metadata": {},
   "outputs": [],
   "source": [
    "data = dropNonSkydiveDataFrom(data)"
   ]
  },
  {
   "cell_type": "code",
   "execution_count": 107,
   "id": "cfb720c9-3640-49d5-9940-dd8238bff12c",
   "metadata": {},
   "outputs": [],
   "source": [
    "performanceWindow, data = getSpeedSkydiveFrom(data)"
   ]
  },
  {
   "cell_type": "code",
   "execution_count": 108,
   "id": "e9f65886-e152-4aaf-9a60-8115f6a4f5a0",
   "metadata": {},
   "outputs": [
    {
     "data": {
      "text/plain": [
       "PerformanceWindow(start=4378.003207022678, end=2122.003207022678, validationStart=3128.003207022678)"
      ]
     },
     "execution_count": 108,
     "metadata": {},
     "output_type": "execute_result"
    }
   ],
   "source": [
    "performanceWindow"
   ]
  },
  {
   "cell_type": "code",
   "execution_count": 109,
   "id": "cd5b5d8c-75ea-4f22-bd03-be069023f67c",
   "metadata": {},
   "outputs": [],
   "source": [
    "data.drop(data.columns[7:], axis = 1, inplace = True)\n",
    "data.drop(data.columns[0], axis = 1, inplace = True)\n",
    "data.index.values[0] = 0"
   ]
  },
  {
   "cell_type": "markdown",
   "id": "d2a65e4b-4a4a-4aa5-83cf-4fdf88c90fa6",
   "metadata": {},
   "source": [
    "## Nik's altitude at time zero - SSScoring"
   ]
  },
  {
   "cell_type": "code",
   "execution_count": 110,
   "id": "15a75003-c78f-450f-bf7b-172a32164935",
   "metadata": {},
   "outputs": [
    {
     "data": {
      "text/html": [
       "<div>\n",
       "<style scoped>\n",
       "    .dataframe tbody tr th:only-of-type {\n",
       "        vertical-align: middle;\n",
       "    }\n",
       "\n",
       "    .dataframe tbody tr th {\n",
       "        vertical-align: top;\n",
       "    }\n",
       "\n",
       "    .dataframe thead th {\n",
       "        text-align: right;\n",
       "    }\n",
       "</style>\n",
       "<table border=\"1\" class=\"dataframe\">\n",
       "  <thead>\n",
       "    <tr style=\"text-align: right;\">\n",
       "      <th></th>\n",
       "      <th>altitudeMSL</th>\n",
       "      <th>altitudeASL</th>\n",
       "      <th>altitudeMSLFt</th>\n",
       "      <th>altitudeASLFt</th>\n",
       "      <th>vMetersPerSecond</th>\n",
       "      <th>vKMh</th>\n",
       "    </tr>\n",
       "  </thead>\n",
       "  <tbody>\n",
       "    <tr>\n",
       "      <th>0</th>\n",
       "      <td>4837.952</td>\n",
       "      <td>4378.003207</td>\n",
       "      <td>15872.352922</td>\n",
       "      <td>14363.352922</td>\n",
       "      <td>0.68</td>\n",
       "      <td>2.448</td>\n",
       "    </tr>\n",
       "  </tbody>\n",
       "</table>\n",
       "</div>"
      ],
      "text/plain": [
       "   altitudeMSL  altitudeASL  ...  vMetersPerSecond   vKMh\n",
       "0     4837.952  4378.003207  ...              0.68  2.448\n",
       "\n",
       "[1 rows x 6 columns]"
      ]
     },
     "execution_count": 110,
     "metadata": {},
     "output_type": "execute_result"
    }
   ],
   "source": [
    "data.head(1)"
   ]
  },
  {
   "cell_type": "markdown",
   "id": "bd93c875-727b-45a0-8de1-9d51aec3f0c2",
   "metadata": {},
   "source": [
    "## Nik's altitude at time zero - Jochen's spreadsheet mojo"
   ]
  },
  {
   "cell_type": "markdown",
   "id": "504c9bc8-14dc-43bc-9f39-e6ebf698d0e1",
   "metadata": {},
   "source": [
    "**AGL = 4368.75**\n",
    "\n",
    "It's 10 meters lower than SSScoring, and the initial vertical velocity is higher.\n",
    "\n",
    "---\n",
    "## Conclusion\n",
    "\n",
    "We both need to work on a better formula!"
   ]
  }
 ],
 "metadata": {
  "kernelspec": {
   "display_name": "Python 3 (ipykernel)",
   "language": "python",
   "name": "python3"
  },
  "language_info": {
   "codemirror_mode": {
    "name": "ipython",
    "version": 3
   },
   "file_extension": ".py",
   "mimetype": "text/x-python",
   "name": "python",
   "nbconvert_exporter": "python",
   "pygments_lexer": "ipython3",
   "version": "3.11.9"
  }
 },
 "nbformat": 4,
 "nbformat_minor": 5
}
