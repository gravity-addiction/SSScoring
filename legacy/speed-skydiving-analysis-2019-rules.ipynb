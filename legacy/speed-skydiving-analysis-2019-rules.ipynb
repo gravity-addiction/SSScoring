{
 "cells": [
  {
   "cell_type": "markdown",
   "metadata": {},
   "source": [
    "# Speed Skydiving Analysis and Scoring 2019"
   ]
  },
  {
   "cell_type": "markdown",
   "metadata": {},
   "source": [
    "Analyze one or more FlySight files with speed skydiving data.\n",
    "\n",
    "This document implements scoring techniques compatible with the FAI World Air Sports Federation [Speed Skydiving Competition Rules, 2019 Edition](https://www.fai.org/sites/default/files/documents/2019_ipc_cr_speedskydiving.pdf) (PDF, 428 KB)."
   ]
  },
  {
   "cell_type": "markdown",
   "metadata": {},
   "source": [
    "## Environment setup"
   ]
  },
  {
   "cell_type": "code",
   "execution_count": null,
   "metadata": {},
   "outputs": [],
   "source": [
    "from ssscore import COURSE_END\n",
    "from ssscore import DEG_IN_RAD\n",
    "from ssscore import FLYSIGHT_SAMPLE_TIME\n",
    "from ssscore import FLYSIGHT_TIME_FORMAT\n",
    "from ssscore import RESOURCE_PATH\n",
    "from ssscore import SPEED_INTERVAL\n",
    "from ssscore import VALID_MSL\n",
    "\n",
    "import dateutil.parser\n",
    "import inspect\n",
    "import math\n",
    "import os\n",
    "import os.path\n",
    "import shutil\n",
    "\n",
    "import pandas as pd\n",
    "\n",
    "import ssscore"
   ]
  },
  {
   "cell_type": "markdown",
   "metadata": {},
   "source": [
    "### Known drop zones AMSL in meters\n",
    "\n",
    "The `ssscore` module defines these altitudes; the DZ name corresponds to the symbolic constant, e.g. Bay Area Skydiving ::= `BAY_AREA_SKYDIVING`.  The altitudes were culled from public airport information available on the Worldwide Web."
   ]
  },
  {
   "cell_type": "code",
   "execution_count": null,
   "metadata": {},
   "outputs": [],
   "source": [
    "from ssscore.elevations import DZElevations # in meters\n",
    "\n",
    "dir(DZElevations)"
   ]
  },
  {
   "cell_type": "markdown",
   "metadata": {},
   "source": [
    "#### Set the appropriate DZ elevation"
   ]
  },
  {
   "cell_type": "code",
   "execution_count": null,
   "metadata": {},
   "outputs": [],
   "source": [
    "DZ_AMSL = DZElevations.BAY_AREA_SKYDIVING.value\n",
    "DZ_AMSL"
   ]
  },
  {
   "cell_type": "markdown",
   "metadata": {},
   "source": [
    "## FlySight data sources\n",
    "\n",
    "1. Copy the FlySight `Tracks/YY-MM-dd` directory of interest to the `DATA_LAKE` directory;\n",
    "   the `DATA_LAKE` can also be an external mount, a Box or Dropbox share, anything that \n",
    "   can be mapped to a directory -- even a whole drive!\n",
    "1. Make a list of all CSV files in the FlySight `DATA_LAKE`\n",
    "1. Move the CSV to the `DATA_SOURCE` bucket directory"
   ]
  },
  {
   "cell_type": "markdown",
   "metadata": {},
   "source": [
    "### Define the data lake and data source"
   ]
  },
  {
   "cell_type": "markdown",
   "metadata": {},
   "source": [
    "![Data sources diagram](images/SSScoring-data-sources.png)\n",
    "<a id=\"l_data-def\"></a>"
   ]
  },
  {
   "cell_type": "code",
   "execution_count": null,
   "metadata": {},
   "outputs": [],
   "source": [
    "DATA_LAKE   = os.path.join('.', RESOURCE_PATH)\n",
    "DATA_SOURCE = os.path.join('.', 'data-sources', ssscore.RESOURCE_PATH)\n",
    "\n",
    "ssscore.updateFlySightDataSource(DATA_LAKE, DATA_SOURCE)"
   ]
  },
  {
   "cell_type": "markdown",
   "metadata": {},
   "source": [
    "## Top speed and pitch analysis on a single data file"
   ]
  },
  {
   "cell_type": "markdown",
   "metadata": {},
   "source": [
    "User selects a valid FlySight data path and file name.  Call the `calculateSpeedAndPitch(fileName)` function with this file name.  The function produces:\n",
    "\n",
    "* Maximum mean speed within a 3-second interval within the course\n",
    "* Flight pitch in degrees at max speed\n",
    "* Max speed\n",
    "* Min speed\n",
    "\n",
    "All speeds are reported in km/h.\n",
    "\n",
    "### Explanation of the code in calculateSpeedAndPitchFrom(fileName)\n",
    "\n",
    "1. Discard all source entries outside of the exit altitude to 1,700 m AGL course\n",
    "1. Resolve the max speed and pitch within the course\n",
    "1. Calculate the max mean speed for the 3-second interval near the max speed\n",
    "1. Return the results in a Series object for later inclusion in a data frame with results from multiple jumps"
   ]
  },
  {
   "cell_type": "markdown",
   "metadata": {},
   "source": [
    "### Specify the FlySight data file to analyze"
   ]
  },
  {
   "cell_type": "code",
   "execution_count": null,
   "metadata": {},
   "outputs": [],
   "source": [
    "DATA_SOURCE        = os.path.join('.', 'data-sources', ssscore.RESOURCE_PATH)\n",
    "FLYSIGHT_DATA_FILE = 'FlySight-test-file.csv'"
   ]
  },
  {
   "cell_type": "code",
   "execution_count": null,
   "metadata": {},
   "outputs": [],
   "source": [
    "def _discardDataOutsideCourse(flightData):\n",
    "    maxHeight       = flightData['hAGL', '(m)'].max()\n",
    "    height          = flightData['hAGL', '(m)']\n",
    "    descentVelocity = flightData['velD', '(m/s)']\n",
    "    flightData      = flightData[(height <= maxHeight) & (height >= COURSE_END) & (descentVelocity >= 0.0)]\n",
    "    \n",
    "    return flightData"
   ]
  },
  {
   "cell_type": "code",
   "execution_count": null,
   "metadata": {},
   "outputs": [],
   "source": [
    "import datetime\n",
    "import time\n",
    "\n",
    "\n",
    "def _convertToUnixTime(dateString):\n",
    "    \"\"\"\n",
    "    Converts the dateString in FLYSIGHT_TIME_FORMAT into Unix time,\n",
    "    expressed in hundreths of a second (i.e. 100*timestamp)\n",
    "    \"\"\"\n",
    "    timestamp = datetime.datetime.strptime(dateString, FLYSIGHT_TIME_FORMAT)\n",
    "    epoch     = datetime.datetime(1970, 1, 1)\n",
    "    \n",
    "    return int(100.0*(timestamp-epoch).total_seconds())"
   ]
  },
  {
   "cell_type": "code",
   "execution_count": null,
   "metadata": {},
   "outputs": [],
   "source": [
    "def _selectValidSpeedAnalysisWindowsIn(flightData):\n",
    "    startTime = flightData['unixTime'].iloc[0]\n",
    "    stopTime  = flightData['unixTime'].iloc[-1]\n",
    "    windows   = None\n",
    "    unixTime  = flightData['unixTime']\n",
    "    \n",
    "    for intervalStart in range(startTime, stopTime, FLYSIGHT_SAMPLE_TIME):\n",
    "        intervalEnd = intervalStart+SPEED_INTERVAL\n",
    "        window      = flightData[(unixTime >= intervalStart) & (unixTime < intervalEnd)]\n",
    "        if len(window) == (SPEED_INTERVAL/FLYSIGHT_SAMPLE_TIME):\n",
    "            if windows is not None:\n",
    "                windows.append(window)\n",
    "            else:\n",
    "                windows = window\n",
    "\n",
    "    return windows"
   ]
  },
  {
   "cell_type": "code",
   "execution_count": null,
   "metadata": {},
   "outputs": [],
   "source": [
    "def _calculateCourseSpeedUsing(flightData):\n",
    "    \"\"\"\n",
    "    Returns absolute best max speed and 3-second window max speed.\n",
    "    \"\"\"\n",
    "    windows = _selectValidSpeedAnalysisWindowsIn(flightData)\n",
    "    \n",
    "    return windows"
   ]
  },
  {
   "cell_type": "code",
   "execution_count": null,
   "metadata": {},
   "outputs": [],
   "source": [
    "def maxHorizontalSpeedFrom(flightData, maxVerticalSpeed):\n",
    "    velN = flightData[flightData['velD', '(m/s)'] == maxVerticalSpeed]['velN', '(m/s)']\n",
    "    velE = flightData[flightData['velD', '(m/s)'] == maxVerticalSpeed]['velE', '(m/s)']\n",
    "    \n",
    "    return math.sqrt(velN**2+velE**2)   # R vector"
   ]
  },
  {
   "cell_type": "code",
   "execution_count": null,
   "metadata": {},
   "outputs": [],
   "source": [
    "\"\"\"\n",
    "    Adjusts the flight data to compensate for DZ elevation AMSL.\n",
    "    \n",
    "    flightData - the raw FlySight data frame\n",
    "    elevation  - the elevation, in meters, to adjust\n",
    "    \n",
    "    All hMSL values in flightData will be offset by +elevation meters.\n",
    "\"\"\"\n",
    "def adjustElevation(flightData, elevation):\n",
    "    flightData['hAGL', '(m)'] = flightData['hMSL', '(m)']-elevation\n",
    "    \n",
    "    return flightData"
   ]
  },
  {
   "cell_type": "code",
   "execution_count": null,
   "metadata": {},
   "outputs": [],
   "source": [
    "def calculateSpeedAndPitchFor(fileName, elevation = 0.00):\n",
    "    \"\"\"\n",
    "    Accepts a file name to a FlySight data file.\n",
    "    \n",
    "    Returns a Series with the results of a speed skydiving jump.\n",
    "    \"\"\"\n",
    "    flightData             = adjustElevation(pd.read_csv(fileName, header = [0, 1]), elevation)\n",
    "    flightData             = _discardDataOutsideCourse(flightData)\n",
    "    flightData['unixTime'] = flightData['time'].iloc[:,0].apply(_convertToUnixTime)\n",
    "\n",
    "    return _calculateCourseSpeedUsing(flightData)\n",
    "\n",
    "calculateSpeedAndPitchFor(os.path.join(DATA_SOURCE, FLYSIGHT_DATA_FILE), elevation = DZ_AMSL)"
   ]
  },
  {
   "cell_type": "markdown",
   "metadata": {},
   "source": [
    "## Listing FlySight data files with valid data"
   ]
  },
  {
   "cell_type": "markdown",
   "metadata": {},
   "source": [
    "This set up generates a list of FlySight data files ready for analysis.  It discards any warm up FlySight data files, those that show no significant changes in elevation MSL across the complete data set.\n",
    "\n",
    "The list generator uses the `DATA_SOURCE` global variable.  [Change the value of `DATA_SOURCE`](#l_data-def) if necessary.\n",
    "\n",
    "1. Generate the list of available data files\n",
    "1. Discard FlySight warm up files by rejecting files without jump data (test:  minimal altitude changes)"
   ]
  },
  {
   "cell_type": "markdown",
   "metadata": {},
   "source": [
    "![Scoring FlySight files list generation diagram](images/SSScoring-list-scoring-files.png)"
   ]
  },
  {
   "cell_type": "code",
   "execution_count": null,
   "metadata": {},
   "outputs": [],
   "source": [
    "def listDataFilesIn(bucketPath):\n",
    "    \"\"\"\n",
    "    Generate a sorted list of files available in a given bucketPath.\n",
    "    Files names appear in reverse lexicographical order.\n",
    "    \"\"\"\n",
    "\n",
    "    filesList = pd.Series([os.path.join(bucketPath, fileName) for fileName in sorted(os.listdir(bucketPath), reverse = True) if '.CSV' in fileName or '.csv' in fileName])\n",
    "    \n",
    "    return filesList;"
   ]
  },
  {
   "cell_type": "code",
   "execution_count": null,
   "metadata": {},
   "outputs": [],
   "source": [
    "def _hasValidJumpData(fileName):\n",
    "    flightData = pd.read_csv(fileName, header = [0, 1])['hMSL', '(m)']\n",
    "    \n",
    "    return flightData.std() >= VALID_MSL"
   ]
  },
  {
   "cell_type": "code",
   "execution_count": null,
   "metadata": {},
   "outputs": [],
   "source": [
    "def selectValidFlySightFilesFrom(dataFiles):\n",
    "    included = dataFiles.apply(_hasValidJumpData)\n",
    "    \n",
    "    return pd.Series(dataFiles)[included]"
   ]
  },
  {
   "cell_type": "code",
   "execution_count": null,
   "metadata": {},
   "outputs": [],
   "source": [
    "dataFiles = selectValidFlySightFilesFrom(listDataFilesIn(DATA_SOURCE))\n",
    "dataFiles"
   ]
  },
  {
   "cell_type": "markdown",
   "metadata": {},
   "source": [
    "## Top speed and pitch analysis on all tracks in the data lake"
   ]
  },
  {
   "cell_type": "markdown",
   "metadata": {},
   "source": [
    "Takes all the FlySight files in a bucket, detects the ones with valid data, and runs performance analysis over them.  Packs all the results in a data frame, then calculates:\n",
    "\n",
    "* Average speed\n",
    "* Max average speed"
   ]
  },
  {
   "cell_type": "markdown",
   "metadata": {},
   "source": [
    "### Populate data sources"
   ]
  },
  {
   "cell_type": "code",
   "execution_count": null,
   "metadata": {},
   "outputs": [],
   "source": [
    "DATA_LAKE   = './data-lake'\n",
    "DATA_SOURCE = './data-sources/ciurana'\n",
    "\n",
    "ssscore.updateFlySightDataSource(DATA_LAKE, DATA_SOURCE)"
   ]
  },
  {
   "cell_type": "code",
   "execution_count": null,
   "metadata": {},
   "outputs": [],
   "source": [
    "# DATA_LAKE   = './data-lake'\n",
    "# DATA_SOURCE = './data-sources/landgren'\n",
    "# \n",
    "# ssscore.updateFlySightDataSource(DATA_LAKE, DATA_SOURCE)"
   ]
  },
  {
   "cell_type": "markdown",
   "metadata": {},
   "source": [
    "### Analyze all files in the bucket"
   ]
  },
  {
   "cell_type": "code",
   "execution_count": null,
   "metadata": {},
   "outputs": [],
   "source": [
    "allCompetitionJumps = selectValidFlySightFilesFrom(listDataFilesIn(DATA_SOURCE)).apply(calculateSpeedAndPitchFor)\n",
    "allCompetitionJumps"
   ]
  },
  {
   "cell_type": "markdown",
   "metadata": {},
   "source": [
    "### Summary of results"
   ]
  },
  {
   "cell_type": "code",
   "execution_count": null,
   "metadata": {},
   "outputs": [],
   "source": [
    "summary = pd.Series(\n",
    "            [\n",
    "                len(allCompetitionJumps),\n",
    "                allCompetitionJumps['maxSpeed'].mean(),\n",
    "                allCompetitionJumps['pitch'].mean(),\n",
    "                allCompetitionJumps['maxSpeed'].max(),\n",
    "                allCompetitionJumps['pitch'].max(),\n",
    "            ],\n",
    "            [\n",
    "                'totalJumps',\n",
    "                'meanSpeed',\n",
    "                'pitch',\n",
    "                'maxSpeed',\n",
    "                'maxPitch',\n",
    "            ])\n",
    "\n",
    "summary"
   ]
  }
 ],
 "metadata": {
  "kernelspec": {
   "display_name": "Python 3 (ipykernel)",
   "language": "python",
   "name": "python3"
  },
  "language_info": {
   "codemirror_mode": {
    "name": "ipython",
    "version": 3
   },
   "file_extension": ".py",
   "mimetype": "text/x-python",
   "name": "python",
   "nbconvert_exporter": "python",
   "pygments_lexer": "ipython3",
   "version": "3.9.6"
  }
 },
 "nbformat": 4,
 "nbformat_minor": 4
}
