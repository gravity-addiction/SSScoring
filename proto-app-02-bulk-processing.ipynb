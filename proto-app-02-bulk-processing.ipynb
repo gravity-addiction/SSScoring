{
 "cells": [
  {
   "cell_type": "markdown",
   "id": "36a745d9-2003-496e-a394-290f63a970b7",
   "metadata": {},
   "source": [
    "# Bulk processing\n",
    "\n",
    "Take all the jump files in a data lake and process them as a group.  Produce the mean results for scores, max speed, curves, and the 5-second partial results.\n",
    "\n",
    "Conforming to Lucyfer's default configuration, the data lake starts at the `./data` directory and includes any and all files below it."
   ]
  },
  {
   "cell_type": "markdown",
   "id": "22e5f6e1-08a9-4dd2-91b2-880ae9102976",
   "metadata": {},
   "source": [
    "---\n",
    "## Prepare the environment"
   ]
  },
  {
   "cell_type": "code",
   "execution_count": 6,
   "id": "98c7a164-9492-4672-904b-5bf3abf61773",
   "metadata": {},
   "outputs": [],
   "source": [
    "from collections import namedtuple\n",
    "from copy import deepcopy\n",
    "\n",
    "from ssscoring import BREAKOFF_ALTITUDE\n",
    "from ssscoring import PERFORMANCE_WINDOW_LENGTH\n",
    "from ssscoring import convertFlySight2SSScoring\n",
    "from ssscoring import dropNonSkydiveDataFrom\n",
    "from ssscoring import getAllSpeedJumpFilesFrom\n",
    "from ssscoring import getSpeedSkydiveFrom\n",
    "from ssscoring import isValidJump\n",
    "from ssscoring import jumpAnalysisTable\n",
    "from ssscoring import validFlySightHeaderIn\n",
    "from ssscoring.notebook import processJump\n",
    "\n",
    "import csv\n",
    "import os\n",
    "import os.path as path\n",
    "\n",
    "import bokeh.plotting as bp\n",
    "import ipywidgets as widgets\n",
    "import pandas as pd"
   ]
  },
  {
   "cell_type": "code",
   "execution_count": 7,
   "id": "b9813c03-a15a-488c-b77b-682c35bd3219",
   "metadata": {},
   "outputs": [],
   "source": [
    "DATA_LAKE_ROOT = './data' # Lucyfer default\n",
    "FLYSIGHT_HEADER = set([ 'time', 'lat', 'lon', 'hMSL', 'velN', 'velE', 'velD', 'hAcc', 'vAcc', 'sAcc', 'heading', 'cAcc', 'gpsFix', 'numSV', ])\n",
    "IGNORE_LIST = [ '.ipynb_checkpoints', ]\n",
    "MIN_JUMP_FILE_SIZE = 1024*512\n",
    "LAST_TIME_TRANCHE = 25.0\n",
    "SPEED_COLORS = colors = ('blue', 'limegreen', 'tomato', 'turquoise', 'deepskyblue', 'forestgreen', 'coral', 'darkcyan',)"
   ]
  },
  {
   "cell_type": "code",
   "execution_count": 8,
   "id": "fa17d3d4-a06d-439a-b885-e8cb761ef085",
   "metadata": {},
   "outputs": [
    {
     "data": {
      "text/html": [
       "<style>\n",
       "        .bk-notebook-logo {\n",
       "            display: block;\n",
       "            width: 20px;\n",
       "            height: 20px;\n",
       "            background-image: url(data:image/png;base64,iVBORw0KGgoAAAANSUhEUgAAABQAAAAUCAYAAACNiR0NAAAABHNCSVQICAgIfAhkiAAAAAlwSFlzAAALEgAACxIB0t1+/AAAABx0RVh0U29mdHdhcmUAQWRvYmUgRmlyZXdvcmtzIENTNui8sowAAAOkSURBVDiNjZRtaJVlGMd/1/08zzln5zjP1LWcU9N0NkN8m2CYjpgQYQXqSs0I84OLIC0hkEKoPtiH3gmKoiJDU7QpLgoLjLIQCpEsNJ1vqUOdO7ppbuec5+V+rj4ctwzd8IIbbi6u+8f1539dt3A78eXC7QizUF7gyV1fD1Yqg4JWz84yffhm0qkFqBogB9rM8tZdtwVsPUhWhGcFJngGeWrPzHm5oaMmkfEg1usvLFyc8jLRqDOMru7AyC8saQr7GG7f5fvDeH7Ej8CM66nIF+8yngt6HWaKh7k49Soy9nXurCi1o3qUbS3zWfrYeQDTB/Qj6kX6Ybhw4B+bOYoLKCC9H3Nu/leUTZ1JdRWkkn2ldcCamzrcf47KKXdAJllSlxAOkRgyHsGC/zRday5Qld9DyoM4/q/rUoy/CXh3jzOu3bHUVZeU+DEn8FInkPBFlu3+nW3Nw0mk6vCDiWg8CeJaxEwuHS3+z5RgY+YBR6V1Z1nxSOfoaPa4LASWxxdNp+VWTk7+4vzaou8v8PN+xo+KY2xsw6une2frhw05CTYOmQvsEhjhWjn0bmXPjpE1+kplmmkP3suftwTubK9Vq22qKmrBhpY4jvd5afdRA3wGjFAgcnTK2s4hY0/GPNIb0nErGMCRxWOOX64Z8RAC4oCXdklmEvcL8o0BfkNK4lUg9HTl+oPlQxdNo3Mg4Nv175e/1LDGzZen30MEjRUtmXSfiTVu1kK8W4txyV6BMKlbgk3lMwYCiusNy9fVfvvwMxv8Ynl6vxoByANLTWplvuj/nF9m2+PDtt1eiHPBr1oIfhCChQMBw6Aw0UulqTKZdfVvfG7VcfIqLG9bcldL/+pdWTLxLUy8Qq38heUIjh4XlzZxzQm19lLFlr8vdQ97rjZVOLf8nclzckbcD4wxXMidpX30sFd37Fv/GtwwhzhxGVAprjbg0gCAEeIgwCZyTV2Z1REEW8O4py0wsjeloKoMr6iCY6dP92H6Vw/oTyICIthibxjm/DfN9lVz8IqtqKYLUXfoKVMVQVVJOElGjrnnUt9T9wbgp8AyYKaGlqingHZU/uG2NTZSVqwHQTWkx9hxjkpWDaCg6Ckj5qebgBVbT3V3NNXMSiWSDdGV3hrtzla7J+duwPOToIg42ChPQOQjspnSlp1V+Gjdged7+8UN5CRAV7a5EdFNwCjEaBR27b3W890TE7g24NAP/mMDXRWrGoFPQI9ls/MWO2dWFAar/xcOIImbbpA3zgAAAABJRU5ErkJggg==);\n",
       "        }\n",
       "    </style>\n",
       "    <div>\n",
       "        <a href=\"https://bokeh.org\" target=\"_blank\" class=\"bk-notebook-logo\"></a>\n",
       "        <span id=\"fcefe53f-ec77-40da-a483-16128726bfb6\">Loading BokehJS ...</span>\n",
       "    </div>\n"
      ]
     },
     "metadata": {},
     "output_type": "display_data"
    },
    {
     "data": {
      "application/javascript": [
       "(function(root) {\n",
       "  function now() {\n",
       "    return new Date();\n",
       "  }\n",
       "\n",
       "  const force = true;\n",
       "\n",
       "  if (typeof root._bokeh_onload_callbacks === \"undefined\" || force === true) {\n",
       "    root._bokeh_onload_callbacks = [];\n",
       "    root._bokeh_is_loading = undefined;\n",
       "  }\n",
       "\n",
       "const JS_MIME_TYPE = 'application/javascript';\n",
       "  const HTML_MIME_TYPE = 'text/html';\n",
       "  const EXEC_MIME_TYPE = 'application/vnd.bokehjs_exec.v0+json';\n",
       "  const CLASS_NAME = 'output_bokeh rendered_html';\n",
       "\n",
       "  /**\n",
       "   * Render data to the DOM node\n",
       "   */\n",
       "  function render(props, node) {\n",
       "    const script = document.createElement(\"script\");\n",
       "    node.appendChild(script);\n",
       "  }\n",
       "\n",
       "  /**\n",
       "   * Handle when an output is cleared or removed\n",
       "   */\n",
       "  function handleClearOutput(event, handle) {\n",
       "    const cell = handle.cell;\n",
       "\n",
       "    const id = cell.output_area._bokeh_element_id;\n",
       "    const server_id = cell.output_area._bokeh_server_id;\n",
       "    // Clean up Bokeh references\n",
       "    if (id != null && id in Bokeh.index) {\n",
       "      Bokeh.index[id].model.document.clear();\n",
       "      delete Bokeh.index[id];\n",
       "    }\n",
       "\n",
       "    if (server_id !== undefined) {\n",
       "      // Clean up Bokeh references\n",
       "      const cmd_clean = \"from bokeh.io.state import curstate; print(curstate().uuid_to_server['\" + server_id + \"'].get_sessions()[0].document.roots[0]._id)\";\n",
       "      cell.notebook.kernel.execute(cmd_clean, {\n",
       "        iopub: {\n",
       "          output: function(msg) {\n",
       "            const id = msg.content.text.trim();\n",
       "            if (id in Bokeh.index) {\n",
       "              Bokeh.index[id].model.document.clear();\n",
       "              delete Bokeh.index[id];\n",
       "            }\n",
       "          }\n",
       "        }\n",
       "      });\n",
       "      // Destroy server and session\n",
       "      const cmd_destroy = \"import bokeh.io.notebook as ion; ion.destroy_server('\" + server_id + \"')\";\n",
       "      cell.notebook.kernel.execute(cmd_destroy);\n",
       "    }\n",
       "  }\n",
       "\n",
       "  /**\n",
       "   * Handle when a new output is added\n",
       "   */\n",
       "  function handleAddOutput(event, handle) {\n",
       "    const output_area = handle.output_area;\n",
       "    const output = handle.output;\n",
       "\n",
       "    // limit handleAddOutput to display_data with EXEC_MIME_TYPE content only\n",
       "    if ((output.output_type != \"display_data\") || (!Object.prototype.hasOwnProperty.call(output.data, EXEC_MIME_TYPE))) {\n",
       "      return\n",
       "    }\n",
       "\n",
       "    const toinsert = output_area.element.find(\".\" + CLASS_NAME.split(' ')[0]);\n",
       "\n",
       "    if (output.metadata[EXEC_MIME_TYPE][\"id\"] !== undefined) {\n",
       "      toinsert[toinsert.length - 1].firstChild.textContent = output.data[JS_MIME_TYPE];\n",
       "      // store reference to embed id on output_area\n",
       "      output_area._bokeh_element_id = output.metadata[EXEC_MIME_TYPE][\"id\"];\n",
       "    }\n",
       "    if (output.metadata[EXEC_MIME_TYPE][\"server_id\"] !== undefined) {\n",
       "      const bk_div = document.createElement(\"div\");\n",
       "      bk_div.innerHTML = output.data[HTML_MIME_TYPE];\n",
       "      const script_attrs = bk_div.children[0].attributes;\n",
       "      for (let i = 0; i < script_attrs.length; i++) {\n",
       "        toinsert[toinsert.length - 1].firstChild.setAttribute(script_attrs[i].name, script_attrs[i].value);\n",
       "        toinsert[toinsert.length - 1].firstChild.textContent = bk_div.children[0].textContent\n",
       "      }\n",
       "      // store reference to server id on output_area\n",
       "      output_area._bokeh_server_id = output.metadata[EXEC_MIME_TYPE][\"server_id\"];\n",
       "    }\n",
       "  }\n",
       "\n",
       "  function register_renderer(events, OutputArea) {\n",
       "\n",
       "    function append_mime(data, metadata, element) {\n",
       "      // create a DOM node to render to\n",
       "      const toinsert = this.create_output_subarea(\n",
       "        metadata,\n",
       "        CLASS_NAME,\n",
       "        EXEC_MIME_TYPE\n",
       "      );\n",
       "      this.keyboard_manager.register_events(toinsert);\n",
       "      // Render to node\n",
       "      const props = {data: data, metadata: metadata[EXEC_MIME_TYPE]};\n",
       "      render(props, toinsert[toinsert.length - 1]);\n",
       "      element.append(toinsert);\n",
       "      return toinsert\n",
       "    }\n",
       "\n",
       "    /* Handle when an output is cleared or removed */\n",
       "    events.on('clear_output.CodeCell', handleClearOutput);\n",
       "    events.on('delete.Cell', handleClearOutput);\n",
       "\n",
       "    /* Handle when a new output is added */\n",
       "    events.on('output_added.OutputArea', handleAddOutput);\n",
       "\n",
       "    /**\n",
       "     * Register the mime type and append_mime function with output_area\n",
       "     */\n",
       "    OutputArea.prototype.register_mime_type(EXEC_MIME_TYPE, append_mime, {\n",
       "      /* Is output safe? */\n",
       "      safe: true,\n",
       "      /* Index of renderer in `output_area.display_order` */\n",
       "      index: 0\n",
       "    });\n",
       "  }\n",
       "\n",
       "  // register the mime type if in Jupyter Notebook environment and previously unregistered\n",
       "  if (root.Jupyter !== undefined) {\n",
       "    const events = require('base/js/events');\n",
       "    const OutputArea = require('notebook/js/outputarea').OutputArea;\n",
       "\n",
       "    if (OutputArea.prototype.mime_types().indexOf(EXEC_MIME_TYPE) == -1) {\n",
       "      register_renderer(events, OutputArea);\n",
       "    }\n",
       "  }\n",
       "  if (typeof (root._bokeh_timeout) === \"undefined\" || force === true) {\n",
       "    root._bokeh_timeout = Date.now() + 5000;\n",
       "    root._bokeh_failed_load = false;\n",
       "  }\n",
       "\n",
       "  const NB_LOAD_WARNING = {'data': {'text/html':\n",
       "     \"<div style='background-color: #fdd'>\\n\"+\n",
       "     \"<p>\\n\"+\n",
       "     \"BokehJS does not appear to have successfully loaded. If loading BokehJS from CDN, this \\n\"+\n",
       "     \"may be due to a slow or bad network connection. Possible fixes:\\n\"+\n",
       "     \"</p>\\n\"+\n",
       "     \"<ul>\\n\"+\n",
       "     \"<li>re-rerun `output_notebook()` to attempt to load from CDN again, or</li>\\n\"+\n",
       "     \"<li>use INLINE resources instead, as so:</li>\\n\"+\n",
       "     \"</ul>\\n\"+\n",
       "     \"<code>\\n\"+\n",
       "     \"from bokeh.resources import INLINE\\n\"+\n",
       "     \"output_notebook(resources=INLINE)\\n\"+\n",
       "     \"</code>\\n\"+\n",
       "     \"</div>\"}};\n",
       "\n",
       "  function display_loaded() {\n",
       "    const el = document.getElementById(\"fcefe53f-ec77-40da-a483-16128726bfb6\");\n",
       "    if (el != null) {\n",
       "      el.textContent = \"BokehJS is loading...\";\n",
       "    }\n",
       "    if (root.Bokeh !== undefined) {\n",
       "      if (el != null) {\n",
       "        el.textContent = \"BokehJS \" + root.Bokeh.version + \" successfully loaded.\";\n",
       "      }\n",
       "    } else if (Date.now() < root._bokeh_timeout) {\n",
       "      setTimeout(display_loaded, 100)\n",
       "    }\n",
       "  }\n",
       "\n",
       "  function run_callbacks() {\n",
       "    try {\n",
       "      root._bokeh_onload_callbacks.forEach(function(callback) {\n",
       "        if (callback != null)\n",
       "          callback();\n",
       "      });\n",
       "    } finally {\n",
       "      delete root._bokeh_onload_callbacks\n",
       "    }\n",
       "    console.debug(\"Bokeh: all callbacks have finished\");\n",
       "  }\n",
       "\n",
       "  function load_libs(css_urls, js_urls, callback) {\n",
       "    if (css_urls == null) css_urls = [];\n",
       "    if (js_urls == null) js_urls = [];\n",
       "\n",
       "    root._bokeh_onload_callbacks.push(callback);\n",
       "    if (root._bokeh_is_loading > 0) {\n",
       "      console.debug(\"Bokeh: BokehJS is being loaded, scheduling callback at\", now());\n",
       "      return null;\n",
       "    }\n",
       "    if (js_urls == null || js_urls.length === 0) {\n",
       "      run_callbacks();\n",
       "      return null;\n",
       "    }\n",
       "    console.debug(\"Bokeh: BokehJS not loaded, scheduling load and callback at\", now());\n",
       "    root._bokeh_is_loading = css_urls.length + js_urls.length;\n",
       "\n",
       "    function on_load() {\n",
       "      root._bokeh_is_loading--;\n",
       "      if (root._bokeh_is_loading === 0) {\n",
       "        console.debug(\"Bokeh: all BokehJS libraries/stylesheets loaded\");\n",
       "        run_callbacks()\n",
       "      }\n",
       "    }\n",
       "\n",
       "    function on_error(url) {\n",
       "      console.error(\"failed to load \" + url);\n",
       "    }\n",
       "\n",
       "    for (let i = 0; i < css_urls.length; i++) {\n",
       "      const url = css_urls[i];\n",
       "      const element = document.createElement(\"link\");\n",
       "      element.onload = on_load;\n",
       "      element.onerror = on_error.bind(null, url);\n",
       "      element.rel = \"stylesheet\";\n",
       "      element.type = \"text/css\";\n",
       "      element.href = url;\n",
       "      console.debug(\"Bokeh: injecting link tag for BokehJS stylesheet: \", url);\n",
       "      document.body.appendChild(element);\n",
       "    }\n",
       "\n",
       "    for (let i = 0; i < js_urls.length; i++) {\n",
       "      const url = js_urls[i];\n",
       "      const element = document.createElement('script');\n",
       "      element.onload = on_load;\n",
       "      element.onerror = on_error.bind(null, url);\n",
       "      element.async = false;\n",
       "      element.src = url;\n",
       "      console.debug(\"Bokeh: injecting script tag for BokehJS library: \", url);\n",
       "      document.head.appendChild(element);\n",
       "    }\n",
       "  };\n",
       "\n",
       "  function inject_raw_css(css) {\n",
       "    const element = document.createElement(\"style\");\n",
       "    element.appendChild(document.createTextNode(css));\n",
       "    document.body.appendChild(element);\n",
       "  }\n",
       "\n",
       "  const js_urls = [\"https://cdn.bokeh.org/bokeh/release/bokeh-3.2.2.min.js\", \"https://cdn.bokeh.org/bokeh/release/bokeh-gl-3.2.2.min.js\", \"https://cdn.bokeh.org/bokeh/release/bokeh-widgets-3.2.2.min.js\", \"https://cdn.bokeh.org/bokeh/release/bokeh-tables-3.2.2.min.js\", \"https://cdn.bokeh.org/bokeh/release/bokeh-mathjax-3.2.2.min.js\"];\n",
       "  const css_urls = [];\n",
       "\n",
       "  const inline_js = [    function(Bokeh) {\n",
       "      Bokeh.set_log_level(\"info\");\n",
       "    },\n",
       "function(Bokeh) {\n",
       "    }\n",
       "  ];\n",
       "\n",
       "  function run_inline_js() {\n",
       "    if (root.Bokeh !== undefined || force === true) {\n",
       "          for (let i = 0; i < inline_js.length; i++) {\n",
       "      inline_js[i].call(root, root.Bokeh);\n",
       "    }\n",
       "if (force === true) {\n",
       "        display_loaded();\n",
       "      }} else if (Date.now() < root._bokeh_timeout) {\n",
       "      setTimeout(run_inline_js, 100);\n",
       "    } else if (!root._bokeh_failed_load) {\n",
       "      console.log(\"Bokeh: BokehJS failed to load within specified timeout.\");\n",
       "      root._bokeh_failed_load = true;\n",
       "    } else if (force !== true) {\n",
       "      const cell = $(document.getElementById(\"fcefe53f-ec77-40da-a483-16128726bfb6\")).parents('.cell').data().cell;\n",
       "      cell.output_area.append_execute_result(NB_LOAD_WARNING)\n",
       "    }\n",
       "  }\n",
       "\n",
       "  if (root._bokeh_is_loading === 0) {\n",
       "    console.debug(\"Bokeh: BokehJS loaded, going straight to plotting\");\n",
       "    run_inline_js();\n",
       "  } else {\n",
       "    load_libs(css_urls, js_urls, function() {\n",
       "      console.debug(\"Bokeh: BokehJS plotting callback run at\", now());\n",
       "      run_inline_js();\n",
       "    });\n",
       "  }\n",
       "}(window));"
      ],
      "application/vnd.bokehjs_load.v0+json": "(function(root) {\n  function now() {\n    return new Date();\n  }\n\n  const force = true;\n\n  if (typeof root._bokeh_onload_callbacks === \"undefined\" || force === true) {\n    root._bokeh_onload_callbacks = [];\n    root._bokeh_is_loading = undefined;\n  }\n\n\n  if (typeof (root._bokeh_timeout) === \"undefined\" || force === true) {\n    root._bokeh_timeout = Date.now() + 5000;\n    root._bokeh_failed_load = false;\n  }\n\n  const NB_LOAD_WARNING = {'data': {'text/html':\n     \"<div style='background-color: #fdd'>\\n\"+\n     \"<p>\\n\"+\n     \"BokehJS does not appear to have successfully loaded. If loading BokehJS from CDN, this \\n\"+\n     \"may be due to a slow or bad network connection. Possible fixes:\\n\"+\n     \"</p>\\n\"+\n     \"<ul>\\n\"+\n     \"<li>re-rerun `output_notebook()` to attempt to load from CDN again, or</li>\\n\"+\n     \"<li>use INLINE resources instead, as so:</li>\\n\"+\n     \"</ul>\\n\"+\n     \"<code>\\n\"+\n     \"from bokeh.resources import INLINE\\n\"+\n     \"output_notebook(resources=INLINE)\\n\"+\n     \"</code>\\n\"+\n     \"</div>\"}};\n\n  function display_loaded() {\n    const el = document.getElementById(\"fcefe53f-ec77-40da-a483-16128726bfb6\");\n    if (el != null) {\n      el.textContent = \"BokehJS is loading...\";\n    }\n    if (root.Bokeh !== undefined) {\n      if (el != null) {\n        el.textContent = \"BokehJS \" + root.Bokeh.version + \" successfully loaded.\";\n      }\n    } else if (Date.now() < root._bokeh_timeout) {\n      setTimeout(display_loaded, 100)\n    }\n  }\n\n  function run_callbacks() {\n    try {\n      root._bokeh_onload_callbacks.forEach(function(callback) {\n        if (callback != null)\n          callback();\n      });\n    } finally {\n      delete root._bokeh_onload_callbacks\n    }\n    console.debug(\"Bokeh: all callbacks have finished\");\n  }\n\n  function load_libs(css_urls, js_urls, callback) {\n    if (css_urls == null) css_urls = [];\n    if (js_urls == null) js_urls = [];\n\n    root._bokeh_onload_callbacks.push(callback);\n    if (root._bokeh_is_loading > 0) {\n      console.debug(\"Bokeh: BokehJS is being loaded, scheduling callback at\", now());\n      return null;\n    }\n    if (js_urls == null || js_urls.length === 0) {\n      run_callbacks();\n      return null;\n    }\n    console.debug(\"Bokeh: BokehJS not loaded, scheduling load and callback at\", now());\n    root._bokeh_is_loading = css_urls.length + js_urls.length;\n\n    function on_load() {\n      root._bokeh_is_loading--;\n      if (root._bokeh_is_loading === 0) {\n        console.debug(\"Bokeh: all BokehJS libraries/stylesheets loaded\");\n        run_callbacks()\n      }\n    }\n\n    function on_error(url) {\n      console.error(\"failed to load \" + url);\n    }\n\n    for (let i = 0; i < css_urls.length; i++) {\n      const url = css_urls[i];\n      const element = document.createElement(\"link\");\n      element.onload = on_load;\n      element.onerror = on_error.bind(null, url);\n      element.rel = \"stylesheet\";\n      element.type = \"text/css\";\n      element.href = url;\n      console.debug(\"Bokeh: injecting link tag for BokehJS stylesheet: \", url);\n      document.body.appendChild(element);\n    }\n\n    for (let i = 0; i < js_urls.length; i++) {\n      const url = js_urls[i];\n      const element = document.createElement('script');\n      element.onload = on_load;\n      element.onerror = on_error.bind(null, url);\n      element.async = false;\n      element.src = url;\n      console.debug(\"Bokeh: injecting script tag for BokehJS library: \", url);\n      document.head.appendChild(element);\n    }\n  };\n\n  function inject_raw_css(css) {\n    const element = document.createElement(\"style\");\n    element.appendChild(document.createTextNode(css));\n    document.body.appendChild(element);\n  }\n\n  const js_urls = [\"https://cdn.bokeh.org/bokeh/release/bokeh-3.2.2.min.js\", \"https://cdn.bokeh.org/bokeh/release/bokeh-gl-3.2.2.min.js\", \"https://cdn.bokeh.org/bokeh/release/bokeh-widgets-3.2.2.min.js\", \"https://cdn.bokeh.org/bokeh/release/bokeh-tables-3.2.2.min.js\", \"https://cdn.bokeh.org/bokeh/release/bokeh-mathjax-3.2.2.min.js\"];\n  const css_urls = [];\n\n  const inline_js = [    function(Bokeh) {\n      Bokeh.set_log_level(\"info\");\n    },\nfunction(Bokeh) {\n    }\n  ];\n\n  function run_inline_js() {\n    if (root.Bokeh !== undefined || force === true) {\n          for (let i = 0; i < inline_js.length; i++) {\n      inline_js[i].call(root, root.Bokeh);\n    }\nif (force === true) {\n        display_loaded();\n      }} else if (Date.now() < root._bokeh_timeout) {\n      setTimeout(run_inline_js, 100);\n    } else if (!root._bokeh_failed_load) {\n      console.log(\"Bokeh: BokehJS failed to load within specified timeout.\");\n      root._bokeh_failed_load = true;\n    } else if (force !== true) {\n      const cell = $(document.getElementById(\"fcefe53f-ec77-40da-a483-16128726bfb6\")).parents('.cell').data().cell;\n      cell.output_area.append_execute_result(NB_LOAD_WARNING)\n    }\n  }\n\n  if (root._bokeh_is_loading === 0) {\n    console.debug(\"Bokeh: BokehJS loaded, going straight to plotting\");\n    run_inline_js();\n  } else {\n    load_libs(css_urls, js_urls, function() {\n      console.debug(\"Bokeh: BokehJS plotting callback run at\", now());\n      run_inline_js();\n    });\n  }\n}(window));"
     },
     "metadata": {},
     "output_type": "display_data"
    }
   ],
   "source": [
    "bp.output_notebook()"
   ]
  },
  {
   "cell_type": "markdown",
   "id": "2cb8a0d9-486a-4937-82f7-ca6cf18695d5",
   "metadata": {},
   "source": [
    "## Get a list of all FlySight files in the data lake\n",
    "\n",
    "This also discards all files that don't reflect a valid jump:\n",
    "\n",
    "- Detect the files by size and discard any file smaller than `MIN_JUMP_FILE_SIZE`\n",
    "- Detect that each file has the FlySight header on the first line"
   ]
  },
  {
   "cell_type": "code",
   "execution_count": 9,
   "id": "b1273b5c-44c1-46c2-a125-d01ad9268a1a",
   "metadata": {},
   "outputs": [],
   "source": [
    "jumpFiles = getAllSpeedJumpFilesFrom(DATA_LAKE_ROOT)"
   ]
  },
  {
   "cell_type": "markdown",
   "id": "98730ca7-a799-4e2b-860d-5ccd0d5ca30e",
   "metadata": {},
   "source": [
    "---\n",
    "## Process all files"
   ]
  },
  {
   "cell_type": "code",
   "execution_count": 10,
   "id": "d288a0b0-876a-44d5-8cd5-79610b8804f8",
   "metadata": {},
   "outputs": [],
   "source": [
    "resultsIndex = pd.Series((tag for tag in jumpFiles))"
   ]
  },
  {
   "cell_type": "code",
   "execution_count": 11,
   "id": "3c9b5066-840f-41d6-a123-df0765562cfa",
   "metadata": {},
   "outputs": [],
   "source": [
    "jumpResults = dict()\n",
    "for jumpFile in jumpFiles:\n",
    "    jumpResult = processJump(\n",
    "        convertFlySight2SSScoring(\n",
    "            pd.read_csv(jumpFile, skiprows = (1, 1))))\n",
    "    tag = jumpFile.replace('CSV', '').replace('.', '').replace('/data', '').replace('/', ' ').strip()\n",
    "    if 'valid' in jumpResult.result:\n",
    "        jumpResults[tag] = jumpResult"
   ]
  },
  {
   "cell_type": "markdown",
   "id": "d80518ef-f197-4e40-a74e-8089eecb725a",
   "metadata": {},
   "source": [
    "---\n",
    "## Results"
   ]
  },
  {
   "cell_type": "code",
   "execution_count": 12,
   "id": "9bf86fc3-3537-4f48-8bd5-ff5284910777",
   "metadata": {},
   "outputs": [],
   "source": [
    "def aggregateResults(jumpResults: dict) -> pd.DataFrame:\n",
    "    ref = 0\n",
    "    speeds = pd.DataFrame()\n",
    "    for jumpResultIndex in jumpResults.keys():\n",
    "        jumpResult = jumpResults[jumpResultIndex]\n",
    "        if 'invalid' not in jumpResult.result:\n",
    "            t = jumpResult.table\n",
    "            finalTime = t.iloc[-1].time\n",
    "            t.iloc[-1].time = LAST_TIME_TRANCHE\n",
    "            t = pd.pivot_table(t, columns = t.time)\n",
    "            t.drop(['altitude (ft)'], inplace = True)\n",
    "            d = pd.DataFrame([ jumpResult.score, ], index = [ jumpResultIndex, ], columns = [ 'score', ], dtype = object)\n",
    "            for column in t.columns:\n",
    "                d[column] = t[column][0]\n",
    "            d['finalTime'] = [ finalTime, ]\n",
    "            d['maxSpeed'] = jumpResult.maxSpeed\n",
    "    \n",
    "            if speeds.empty:\n",
    "                speeds = d.copy()\n",
    "            else:\n",
    "                speeds = pd.concat([ speeds, d, ])\n",
    "    return speeds"
   ]
  },
  {
   "cell_type": "code",
   "execution_count": 13,
   "id": "8e8edb3f-7a6a-44f7-89dd-69ca3b0172ca",
   "metadata": {},
   "outputs": [
    {
     "data": {
      "application/vnd.jupyter.widget-view+json": {
       "model_id": "38a2f8109e914adc95cb98a63785fff7",
       "version_major": 2,
       "version_minor": 0
      },
      "text/plain": [
       "HTML(value='<h3>Round 1 - FAI World Championship 2022 (sample)</h3>')"
      ]
     },
     "metadata": {},
     "output_type": "display_data"
    },
    {
     "data": {
      "text/html": [
       "<div>\n",
       "<style scoped>\n",
       "    .dataframe tbody tr th:only-of-type {\n",
       "        vertical-align: middle;\n",
       "    }\n",
       "\n",
       "    .dataframe tbody tr th {\n",
       "        vertical-align: top;\n",
       "    }\n",
       "\n",
       "    .dataframe thead th {\n",
       "        text-align: right;\n",
       "    }\n",
       "</style>\n",
       "<table border=\"1\" class=\"dataframe\">\n",
       "  <thead>\n",
       "    <tr style=\"text-align: right;\">\n",
       "      <th></th>\n",
       "      <th>score</th>\n",
       "      <th>5.0</th>\n",
       "      <th>10.0</th>\n",
       "      <th>15.0</th>\n",
       "      <th>20.0</th>\n",
       "      <th>25.0</th>\n",
       "      <th>finalTime</th>\n",
       "      <th>maxSpeed</th>\n",
       "    </tr>\n",
       "  </thead>\n",
       "  <tbody>\n",
       "    <tr>\n",
       "      <th>01_Ciurana_21-01-08</th>\n",
       "      <td>445.698</td>\n",
       "      <td>201.492</td>\n",
       "      <td>332.856</td>\n",
       "      <td>412.704</td>\n",
       "      <td>444.168</td>\n",
       "      <td>445.176</td>\n",
       "      <td>24.6</td>\n",
       "      <td>447.228</td>\n",
       "    </tr>\n",
       "    <tr>\n",
       "      <th>01_Dingle_20-29-24</th>\n",
       "      <td>472.158</td>\n",
       "      <td>166.320</td>\n",
       "      <td>303.624</td>\n",
       "      <td>406.692</td>\n",
       "      <td>454.932</td>\n",
       "      <td>464.112</td>\n",
       "      <td>25.0</td>\n",
       "      <td>476.604</td>\n",
       "    </tr>\n",
       "    <tr>\n",
       "      <th>01_Tuschl_20-33-34</th>\n",
       "      <td>460.548</td>\n",
       "      <td>203.328</td>\n",
       "      <td>322.704</td>\n",
       "      <td>409.392</td>\n",
       "      <td>452.376</td>\n",
       "      <td>460.188</td>\n",
       "      <td>24.6</td>\n",
       "      <td>463.104</td>\n",
       "    </tr>\n",
       "  </tbody>\n",
       "</table>\n",
       "</div>"
      ],
      "text/plain": [
       "                       score      5.0     10.0     15.0     20.0     25.0  \\\n",
       "01_Ciurana_21-01-08  445.698  201.492  332.856  412.704  444.168  445.176   \n",
       "01_Dingle_20-29-24   472.158  166.320  303.624  406.692  454.932  464.112   \n",
       "01_Tuschl_20-33-34   460.548  203.328  322.704  409.392  452.376  460.188   \n",
       "\n",
       "                     finalTime  maxSpeed  \n",
       "01_Ciurana_21-01-08       24.6   447.228  \n",
       "01_Dingle_20-29-24        25.0   476.604  \n",
       "01_Tuschl_20-33-34        24.6   463.104  "
      ]
     },
     "execution_count": 13,
     "metadata": {},
     "output_type": "execute_result"
    }
   ],
   "source": [
    "aggregate = aggregateResults(jumpResults)\n",
    "display(widgets.HTML('<h3>Round 1 - FAI World Championship 2022 (sample)</h3>'))\n",
    "aggregate"
   ]
  },
  {
   "cell_type": "code",
   "execution_count": 14,
   "id": "aa2ad000-c7b2-47a7-8926-ad5552db6c5c",
   "metadata": {},
   "outputs": [
    {
     "data": {
      "text/plain": [
       "dict_keys(['01_Ciurana_21-01-08', '01_Dingle_20-29-24', '01_Hepp-01-INVALID_21-00-38', '01_Tuschl_20-33-34'])"
      ]
     },
     "execution_count": 14,
     "metadata": {},
     "output_type": "execute_result"
    }
   ],
   "source": [
    "jumpResults.keys()"
   ]
  },
  {
   "cell_type": "code",
   "execution_count": 15,
   "id": "6cbe8562-f4fd-41b7-bb24-01c5dbd373e5",
   "metadata": {},
   "outputs": [
    {
     "data": {
      "text/plain": [
       "'🔴 invalid'"
      ]
     },
     "execution_count": 15,
     "metadata": {},
     "output_type": "execute_result"
    }
   ],
   "source": [
    "jumpResults['01_Hepp-01-INVALID_21-00-38'].result"
   ]
  },
  {
   "cell_type": "code",
   "execution_count": 16,
   "id": "2e8c07dc-b34e-4830-a94f-7ad2ede7b912",
   "metadata": {},
   "outputs": [],
   "source": [
    "def initializePlot(jumpTitle):\n",
    "    return bp.figure(title = jumpTitle,\n",
    "                     height = 300,\n",
    "                     width = 600,\n",
    "                     x_axis_label = 'seconds from exit',\n",
    "                     y_axis_label = 'km/h',\n",
    "                     x_range = (0,30),\n",
    "                     y_range = (0, 550))    "
   ]
  },
  {
   "cell_type": "code",
   "execution_count": 17,
   "id": "da359cc3-a320-4b31-bc93-d6bd76718401",
   "metadata": {},
   "outputs": [],
   "source": [
    "def graphJumpResult(plot,\n",
    "                    jumpResult,\n",
    "                    lineColor = 'green',\n",
    "                    showIt = True):\n",
    "    data = jumpResult.data\n",
    "    maxSpeed = jumpResult.maxSpeed\n",
    "    scores = jumpResult.scores\n",
    "    score = jumpResult.score\n",
    "    plot.line(data.plotTime, data.vKMh, legend_label = 'speed', line_width = 2, line_color = lineColor)\n",
    "    \n",
    "    if showIt:\n",
    "        plot.segment(x0 = [ scores[score], scores[score]+3.0, ],\n",
    "                  y0 = [ 0.0, 0.0, ],\n",
    "                  x1 = [ scores[score], scores[score]+3.0, ],\n",
    "                  y1 = [ maxSpeed, maxSpeed, ])        \n",
    "        bp.show(plot)"
   ]
  },
  {
   "cell_type": "code",
   "execution_count": 18,
   "id": "888f2fce-1e7a-4728-b86d-7975c37e75c2",
   "metadata": {},
   "outputs": [
    {
     "data": {
      "application/vnd.jupyter.widget-view+json": {
       "model_id": "4712d46e6b004d98b2e33f71b6a185be",
       "version_major": 2,
       "version_minor": 0
      },
      "text/plain": [
       "HTML(value='<hr><h1><span style=\"color: #0f0\">01_Ciurana_21-01-08 jump - 🟢 valid - score = 445.70 km/h</span><…"
      ]
     },
     "metadata": {},
     "output_type": "display_data"
    },
    {
     "data": {
      "application/vnd.jupyter.widget-view+json": {
       "model_id": "48c8a24a331e4aed819e6459c2167a00",
       "version_major": 2,
       "version_minor": 0
      },
      "text/plain": [
       "HTML(value='<h3>Max speed = 447; exit at 4574 m (15007 ft), breakoff at 2318 m (7606 ft)</h3>')"
      ]
     },
     "metadata": {},
     "output_type": "display_data"
    },
    {
     "data": {
      "text/html": [
       "\n",
       "  <div id=\"d8522976-e874-4e15-9c5c-b1b9456dceb8\" data-root-id=\"p1032\" style=\"display: contents;\"></div>\n"
      ]
     },
     "metadata": {},
     "output_type": "display_data"
    },
    {
     "data": {
      "application/javascript": [
       "(function(root) {\n",
       "  function embed_document(root) {\n",
       "  const docs_json = {\"c798a52f-eaef-46a2-b702-bc1edc25e452\":{\"version\":\"3.2.2\",\"title\":\"Bokeh Application\",\"roots\":[{\"type\":\"object\",\"name\":\"Figure\",\"id\":\"p1032\",\"attributes\":{\"height\":300,\"x_range\":{\"type\":\"object\",\"name\":\"Range1d\",\"id\":\"p1042\",\"attributes\":{\"end\":30}},\"y_range\":{\"type\":\"object\",\"name\":\"Range1d\",\"id\":\"p1043\",\"attributes\":{\"end\":550}},\"x_scale\":{\"type\":\"object\",\"name\":\"LinearScale\",\"id\":\"p1044\"},\"y_scale\":{\"type\":\"object\",\"name\":\"LinearScale\",\"id\":\"p1045\"},\"title\":{\"type\":\"object\",\"name\":\"Title\",\"id\":\"p1035\",\"attributes\":{\"text\":\"01_Ciurana_21-01-08\"}},\"renderers\":[{\"type\":\"object\",\"name\":\"GlyphRenderer\",\"id\":\"p1069\",\"attributes\":{\"data_source\":{\"type\":\"object\",\"name\":\"ColumnDataSource\",\"id\":\"p1063\",\"attributes\":{\"selected\":{\"type\":\"object\",\"name\":\"Selection\",\"id\":\"p1064\",\"attributes\":{\"indices\":[],\"line_indices\":[]}},\"selection_policy\":{\"type\":\"object\",\"name\":\"UnionRenderers\",\"id\":\"p1065\"},\"data\":{\"type\":\"map\",\"entries\":[[\"x\",{\"type\":\"ndarray\",\"array\":{\"type\":\"bytes\",\"data\":\"AAAAAAAAAAAAAAAAmJnJPwAAAACZmdk/AAAAADMz4z8AAACAmZnpPwAAAAAAAPA/AAAAADMz8z8AAABAZmb2PwAAAICZmfk/AAAAwMzM/D8AAAAAAAAAQAAAAICZmQFAAAAAIDMzA0AAAADAzMwEQAAAAGBmZgZAAAAAAAAACEAAAACAmZkJQAAAACAzMwtAAAAAwMzMDEAAAABgZmYOQAAAAAAAABBAAAAAwMzMEEAAAACQmZkRQAAAAGBmZhJAAAAAMDMzE0AAAAAAAAAUQAAAAMDMzBRAAAAAkJmZFUAAAABgZmYWQAAAADAzMxdAAAAAAAAAGEAAAADAzMwYQAAAAJCZmRlAAAAAYGZmGkAAAAAwMzMbQAAAAAAAABxAAAAAwMzMHEAAAACQmZkdQAAAAGBmZh5AAAAAMDMzH0AAAAAAAAAgQAAAAGBmZiBAAAAAyMzMIEAAAAAwMzMhQAAAAJiZmSFAAAAAAAAAIkAAAABgZmYiQAAAAMjMzCJAAAAAMDMzI0AAAACYmZkjQAAAAAAAACRAAAAAYGZmJEAAAADIzMwkQAAAADAzMyVAAAAAmJmZJUAAAAAAAAAmQAAAAGBmZiZAAAAAyMzMJkAAAAAwMzMnQAAAAJiZmSdAAAAAAAAAKEAAAABgZmYoQAAAAMjMzChAAAAAMDMzKUAAAACYmZkpQAAAAAAAACpAAAAAYGZmKkAAAADIzMwqQAAAADAzMytAAAAAmJmZK0AAAAAAAAAsQAAAAGBmZixAAAAAyMzMLEAAAAAwMzMtQAAAAJiZmS1AAAAAAAAALkAAAABgZmYuQAAAAMjMzC5AAAAAMDMzL0AAAACYmZkvQAAAAAAAADBAAAAAMDMzMEAAAABkZmYwQAAAAJiZmTBAAAAAzMzMMEAAAAAAAAAxQAAAADAzMzFAAAAAZGZmMUAAAACYmZkxQAAAAMzMzDFAAAAAAAAAMkAAAAAwMzMyQAAAAGRmZjJAAAAAmJmZMkAAAADMzMwyQAAAAAAAADNAAAAAMDMzM0AAAABkZmYzQAAAAJiZmTNAAAAAzMzMM0AAAAAAAAA0QAAAADAzMzRAAAAAZGZmNEAAAACYmZk0QAAAAMzMzDRAAAAAAAAANUAAAAAwMzM1QAAAAGRmZjVAAAAAmJmZNUAAAADMzMw1QAAAAAAAADZAAAAAMDMzNkAAAABkZmY2QAAAAJiZmTZAAAAAzMzMNkAAAAAAAAA3QAAAADAzMzdAAAAAZGZmN0AAAACYmZk3QAAAAMzMzDdAAAAAAAAAOEAAAAAwMzM4QAAAAGRmZjhAAAAAmJmZOEA=\"},\"shape\":[124],\"dtype\":\"float64\",\"order\":\"little\"}],[\"y\",{\"type\":\"ndarray\",\"array\":{\"type\":\"bytes\",\"data\":\"2KNwPQoXQkAGgZVDi+xFQJ3vp8ZL90hAg8DKoUX2TEBkO99PjRdQQGdmZmZmxlFAJzEIrByaU0A+CtejcD1VQAIrhxbZDldA5/up8dLNWEC8dJMYBJZaQML1KFyPQlxArBxaZDv/XUCyne+nxqtfQFK4HoXrsWBA2KNwPQqHYUB3vp8aL01iQAaBlUOLHGNAsHJoke3cY0A/NV66SaxkQOF6FK5HcWVAl24Sg8AqZkBKDAIrh+ZmQN4kBoGVs2dAjpduEoNwaEA5tMh2vi9pQNv5fmq89GlAhetRuB61akAtsp3vp3ZrQPCnxks3KWxAoBov3STmbEBXObTIdp5tQB6F61G4Tm5Am8QgsHIob0CIFtnO98NvQJzEILByQHBAEVg5tMiOcEDufD81XupwQEW28/3USHFAGQRWDi2qcUC0yHa+nypyQNijcD0KX3JA9P3UeOmWckD4U+Olm9xyQHWTGARWJnNATmIQWDk8c0DP91PjpctzQNijcD0KD3RA3iQGgZVTdECXbhKDwHp0QARWDi2yzXRA8tJNYhAgdUCzne+nxkN1QG8Sg8DKsXVAAAAAAADwdUA5tMh2vhd2QCuHFtnOZ3ZARbbz/dSgdkDy0k1iENB2QGmR7Xw/HXdAmpmZmZlJd0C0yHa+n4J3QGq8dJMYrHdAlBgEVg7dd0CwcmiR7RR4QFg5tMh2RnhAarx0kxiEeECmm8QgsKp4QOSlm8Qg0HhAEVg5tMj+eEBMN4lBYCV5QIts5/upSXlAzczMzMxseUD2KFyPwp15QESLbOf7uXlAJQaBlUPLeUC5HoXrUQh6QARWDi2yJXpA30+Nl246ekCkcD0K11t6QO58PzVeenpAs53vp8abekACK4cW2bZ6QPLSTWIQwHpA6iYxCKzEekA5tMh2vid7QAvXo3A9+npAwcqhRbbbekAUrkfhevR6QHE9CtejCHtASgwCK4cee0CkcD0K1zN7QHnpJjEITHtA5/up8dJVe0DC9Shcj2p7QCuHFtnOd3tA+FPjpZuUe0BbZDvfT6V7QD81XrpJtHtAN4lBYOW4e0Cmm8QgsMJ7QKAaL90kxntAqvHSTWLAe0CgGi/dJMZ7QCUGgZVDw3tAs53vp8a7e0AnMQisHMJ7QB1aZDvfx3tAjpduEoPQe0AMAiuHFtF7QPhT46Wb3HtAi2zn+6nRe0B7FK5H4dp7QOxRuB6F43tAUI2XbhLze0DP91PjpfN7QFg5tMh27ntA001iEFjxe0Dwp8ZLN+F7QNnO91Pj7XtAWDm0yHbue0Dn+6nx0uV7QPLSTWIQ4HtAiUFg5dDSe0A=\"},\"shape\":[124],\"dtype\":\"float64\",\"order\":\"little\"}]]}}},\"view\":{\"type\":\"object\",\"name\":\"CDSView\",\"id\":\"p1070\",\"attributes\":{\"filter\":{\"type\":\"object\",\"name\":\"AllIndices\",\"id\":\"p1071\"}}},\"glyph\":{\"type\":\"object\",\"name\":\"Line\",\"id\":\"p1066\",\"attributes\":{\"x\":{\"type\":\"field\",\"field\":\"x\"},\"y\":{\"type\":\"field\",\"field\":\"y\"},\"line_color\":\"green\",\"line_width\":2}},\"nonselection_glyph\":{\"type\":\"object\",\"name\":\"Line\",\"id\":\"p1067\",\"attributes\":{\"x\":{\"type\":\"field\",\"field\":\"x\"},\"y\":{\"type\":\"field\",\"field\":\"y\"},\"line_color\":\"green\",\"line_alpha\":0.1,\"line_width\":2}},\"muted_glyph\":{\"type\":\"object\",\"name\":\"Line\",\"id\":\"p1068\",\"attributes\":{\"x\":{\"type\":\"field\",\"field\":\"x\"},\"y\":{\"type\":\"field\",\"field\":\"y\"},\"line_color\":\"green\",\"line_alpha\":0.2,\"line_width\":2}}}},{\"type\":\"object\",\"name\":\"GlyphRenderer\",\"id\":\"p1080\",\"attributes\":{\"data_source\":{\"type\":\"object\",\"name\":\"ColumnDataSource\",\"id\":\"p1074\",\"attributes\":{\"selected\":{\"type\":\"object\",\"name\":\"Selection\",\"id\":\"p1075\",\"attributes\":{\"indices\":[],\"line_indices\":[]}},\"selection_policy\":{\"type\":\"object\",\"name\":\"UnionRenderers\",\"id\":\"p1076\"},\"data\":{\"type\":\"map\",\"entries\":[[\"x0\",[20.0,23.0]],[\"y0\",[0.0,0.0]],[\"x1\",[20.0,23.0]],[\"y1\",[447.228,447.228]]]}}},\"view\":{\"type\":\"object\",\"name\":\"CDSView\",\"id\":\"p1081\",\"attributes\":{\"filter\":{\"type\":\"object\",\"name\":\"AllIndices\",\"id\":\"p1082\"}}},\"glyph\":{\"type\":\"object\",\"name\":\"Segment\",\"id\":\"p1077\",\"attributes\":{\"x0\":{\"type\":\"field\",\"field\":\"x0\"},\"y0\":{\"type\":\"field\",\"field\":\"y0\"},\"x1\":{\"type\":\"field\",\"field\":\"x1\"},\"y1\":{\"type\":\"field\",\"field\":\"y1\"},\"line_color\":{\"type\":\"value\",\"value\":\"#1f77b4\"}}},\"nonselection_glyph\":{\"type\":\"object\",\"name\":\"Segment\",\"id\":\"p1078\",\"attributes\":{\"x0\":{\"type\":\"field\",\"field\":\"x0\"},\"y0\":{\"type\":\"field\",\"field\":\"y0\"},\"x1\":{\"type\":\"field\",\"field\":\"x1\"},\"y1\":{\"type\":\"field\",\"field\":\"y1\"},\"line_color\":{\"type\":\"value\",\"value\":\"#1f77b4\"},\"line_alpha\":{\"type\":\"value\",\"value\":0.1}}},\"muted_glyph\":{\"type\":\"object\",\"name\":\"Segment\",\"id\":\"p1079\",\"attributes\":{\"x0\":{\"type\":\"field\",\"field\":\"x0\"},\"y0\":{\"type\":\"field\",\"field\":\"y0\"},\"x1\":{\"type\":\"field\",\"field\":\"x1\"},\"y1\":{\"type\":\"field\",\"field\":\"y1\"},\"line_color\":{\"type\":\"value\",\"value\":\"#1f77b4\"},\"line_alpha\":{\"type\":\"value\",\"value\":0.2}}}}}],\"toolbar\":{\"type\":\"object\",\"name\":\"Toolbar\",\"id\":\"p1041\",\"attributes\":{\"tools\":[{\"type\":\"object\",\"name\":\"PanTool\",\"id\":\"p1056\"},{\"type\":\"object\",\"name\":\"WheelZoomTool\",\"id\":\"p1057\"},{\"type\":\"object\",\"name\":\"BoxZoomTool\",\"id\":\"p1058\",\"attributes\":{\"overlay\":{\"type\":\"object\",\"name\":\"BoxAnnotation\",\"id\":\"p1059\",\"attributes\":{\"syncable\":false,\"level\":\"overlay\",\"visible\":false,\"left_units\":\"canvas\",\"right_units\":\"canvas\",\"bottom_units\":\"canvas\",\"top_units\":\"canvas\",\"line_color\":\"black\",\"line_alpha\":1.0,\"line_width\":2,\"line_dash\":[4,4],\"fill_color\":\"lightgrey\",\"fill_alpha\":0.5}}}},{\"type\":\"object\",\"name\":\"SaveTool\",\"id\":\"p1060\"},{\"type\":\"object\",\"name\":\"ResetTool\",\"id\":\"p1061\"},{\"type\":\"object\",\"name\":\"HelpTool\",\"id\":\"p1062\"}]}},\"left\":[{\"type\":\"object\",\"name\":\"LinearAxis\",\"id\":\"p1051\",\"attributes\":{\"ticker\":{\"type\":\"object\",\"name\":\"BasicTicker\",\"id\":\"p1052\",\"attributes\":{\"mantissas\":[1,2,5]}},\"formatter\":{\"type\":\"object\",\"name\":\"BasicTickFormatter\",\"id\":\"p1053\"},\"axis_label\":\"km/h\",\"major_label_policy\":{\"type\":\"object\",\"name\":\"AllLabels\",\"id\":\"p1054\"}}}],\"below\":[{\"type\":\"object\",\"name\":\"LinearAxis\",\"id\":\"p1046\",\"attributes\":{\"ticker\":{\"type\":\"object\",\"name\":\"BasicTicker\",\"id\":\"p1047\",\"attributes\":{\"mantissas\":[1,2,5]}},\"formatter\":{\"type\":\"object\",\"name\":\"BasicTickFormatter\",\"id\":\"p1048\"},\"axis_label\":\"seconds from exit\",\"major_label_policy\":{\"type\":\"object\",\"name\":\"AllLabels\",\"id\":\"p1049\"}}}],\"center\":[{\"type\":\"object\",\"name\":\"Grid\",\"id\":\"p1050\",\"attributes\":{\"axis\":{\"id\":\"p1046\"}}},{\"type\":\"object\",\"name\":\"Grid\",\"id\":\"p1055\",\"attributes\":{\"dimension\":1,\"axis\":{\"id\":\"p1051\"}}},{\"type\":\"object\",\"name\":\"Legend\",\"id\":\"p1072\",\"attributes\":{\"items\":[{\"type\":\"object\",\"name\":\"LegendItem\",\"id\":\"p1073\",\"attributes\":{\"label\":{\"type\":\"value\",\"value\":\"speed\"},\"renderers\":[{\"id\":\"p1069\"}]}}]}}]}}]}};\n",
       "  const render_items = [{\"docid\":\"c798a52f-eaef-46a2-b702-bc1edc25e452\",\"roots\":{\"p1032\":\"d8522976-e874-4e15-9c5c-b1b9456dceb8\"},\"root_ids\":[\"p1032\"]}];\n",
       "  root.Bokeh.embed.embed_items_notebook(docs_json, render_items);\n",
       "  }\n",
       "  if (root.Bokeh !== undefined) {\n",
       "    embed_document(root);\n",
       "  } else {\n",
       "    let attempts = 0;\n",
       "    const timer = setInterval(function(root) {\n",
       "      if (root.Bokeh !== undefined) {\n",
       "        clearInterval(timer);\n",
       "        embed_document(root);\n",
       "      } else {\n",
       "        attempts++;\n",
       "        if (attempts > 100) {\n",
       "          clearInterval(timer);\n",
       "          console.log(\"Bokeh: ERROR: Unable to run BokehJS code because BokehJS library is missing\");\n",
       "        }\n",
       "      }\n",
       "    }, 10, root)\n",
       "  }\n",
       "})(window);"
      ],
      "application/vnd.bokehjs_exec.v0+json": ""
     },
     "metadata": {
      "application/vnd.bokehjs_exec.v0+json": {
       "id": "p1032"
      }
     },
     "output_type": "display_data"
    },
    {
     "data": {
      "application/vnd.jupyter.widget-view+json": {
       "model_id": "350009481654470ebbb22150e8dd804c",
       "version_major": 2,
       "version_minor": 0
      },
      "text/plain": [
       "HTML(value='<hr><h1><span style=\"color: #0f0\">01_Dingle_20-29-24 jump - 🟢 valid - score = 472.16 km/h</span></…"
      ]
     },
     "metadata": {},
     "output_type": "display_data"
    },
    {
     "data": {
      "application/vnd.jupyter.widget-view+json": {
       "model_id": "77cece4213f240d6adb8023ccd5c6e1e",
       "version_major": 2,
       "version_minor": 0
      },
      "text/plain": [
       "HTML(value='<h3>Max speed = 477; exit at 4522 m (14838 ft), breakoff at 2266 m (7437 ft)</h3>')"
      ]
     },
     "metadata": {},
     "output_type": "display_data"
    },
    {
     "data": {
      "text/html": [
       "\n",
       "  <div id=\"a81f95de-3882-42b0-9885-a4695abcf010\" data-root-id=\"p1096\" style=\"display: contents;\"></div>\n"
      ]
     },
     "metadata": {},
     "output_type": "display_data"
    },
    {
     "data": {
      "application/javascript": [
       "(function(root) {\n",
       "  function embed_document(root) {\n",
       "  const docs_json = {\"d6835c64-6812-435b-bc04-9ff2c8c8564a\":{\"version\":\"3.2.2\",\"title\":\"Bokeh Application\",\"roots\":[{\"type\":\"object\",\"name\":\"Figure\",\"id\":\"p1096\",\"attributes\":{\"height\":300,\"x_range\":{\"type\":\"object\",\"name\":\"Range1d\",\"id\":\"p1106\",\"attributes\":{\"end\":30}},\"y_range\":{\"type\":\"object\",\"name\":\"Range1d\",\"id\":\"p1107\",\"attributes\":{\"end\":550}},\"x_scale\":{\"type\":\"object\",\"name\":\"LinearScale\",\"id\":\"p1108\"},\"y_scale\":{\"type\":\"object\",\"name\":\"LinearScale\",\"id\":\"p1109\"},\"title\":{\"type\":\"object\",\"name\":\"Title\",\"id\":\"p1099\",\"attributes\":{\"text\":\"01_Dingle_20-29-24\"}},\"renderers\":[{\"type\":\"object\",\"name\":\"GlyphRenderer\",\"id\":\"p1133\",\"attributes\":{\"data_source\":{\"type\":\"object\",\"name\":\"ColumnDataSource\",\"id\":\"p1127\",\"attributes\":{\"selected\":{\"type\":\"object\",\"name\":\"Selection\",\"id\":\"p1128\",\"attributes\":{\"indices\":[],\"line_indices\":[]}},\"selection_policy\":{\"type\":\"object\",\"name\":\"UnionRenderers\",\"id\":\"p1129\"},\"data\":{\"type\":\"map\",\"entries\":[[\"x\",{\"type\":\"ndarray\",\"array\":{\"type\":\"bytes\",\"data\":\"AAAAAAAAAAAAAAAAmpnJPwAAAACamdk/AAAAgDMz4z8AAAAAmpnpPwAAAAAAAPA/AAAAQDMz8z8AAACAZmb2PwAAAMCZmfk/AAAAAM3M/D8AAAAAAAAAQAAAAKCZmQFAAAAAQDMzA0AAAADgzMwEQAAAAIBmZgZAAAAAAAAACEAAAACgmZkJQAAAAEAzMwtAAAAA4MzMDEAAAACAZmYOQAAAAAAAABBAAAAA0MzMEEAAAACgmZkRQAAAAHBmZhJAAAAAQDMzE0AAAAAAAAAUQAAAANDMzBRAAAAAoJmZFUAAAABwZmYWQAAAAEAzMxdAAAAAAAAAGEAAAADQzMwYQAAAAKCZmRlAAAAAcGZmGkAAAABAMzMbQAAAAAAAABxAAAAA0MzMHEAAAACgmZkdQAAAAHBmZh5AAAAAQDMzH0AAAAAAAAAgQAAAAGhmZiBAAAAA0MzMIEAAAAA4MzMhQAAAAKCZmSFAAAAAAAAAIkAAAABoZmYiQAAAANDMzCJAAAAAODMzI0AAAACgmZkjQAAAAAAAACRAAAAAaGZmJEAAAADQzMwkQAAAADgzMyVAAAAAoJmZJUAAAAAAAAAmQAAAAGhmZiZAAAAA0MzMJkAAAAA4MzMnQAAAAKCZmSdAAAAAAAAAKEAAAABoZmYoQAAAANDMzChAAAAAODMzKUAAAACgmZkpQAAAAAAAACpAAAAAaGZmKkAAAADQzMwqQAAAADgzMytAAAAAoJmZK0AAAAAAAAAsQAAAAGhmZixAAAAA0MzMLEAAAAA4MzMtQAAAAKCZmS1AAAAAAAAALkAAAABoZmYuQAAAANDMzC5AAAAAODMzL0AAAACgmZkvQAAAAAAAADBAAAAANDMzMEAAAABoZmYwQAAAAJyZmTBAAAAA0MzMMEAAAAAAAAAxQAAAADQzMzFAAAAAaGZmMUAAAACcmZkxQAAAANDMzDFAAAAAAAAAMkAAAAA0MzMyQAAAAGhmZjJAAAAAnJmZMkAAAADQzMwyQAAAAAAAADNAAAAANDMzM0AAAABoZmYzQAAAAJyZmTNAAAAA0MzMM0AAAAAAAAA0QAAAADQzMzRAAAAAaGZmNEAAAACcmZk0QAAAANDMzDRAAAAAAAAANUAAAAA0MzM1QAAAAGhmZjVAAAAAnJmZNUAAAADQzMw1QAAAAAAAADZAAAAANDMzNkAAAABoZmY2QAAAAJyZmTZAAAAA0MzMNkAAAAAAAAA3QAAAADQzMzdAAAAAaGZmN0AAAACcmZk3QAAAANDMzDdAAAAAAAAAOEAAAAA0MzM4QAAAAGhmZjhAAAAAnJmZOEAAAADQzMw4QAAAAAAAADlAAAAANDMzOUA=\"},\"shape\":[127],\"dtype\":\"float64\",\"order\":\"little\"}],[\"y\",{\"type\":\"ndarray\",\"array\":{\"type\":\"bytes\",\"data\":\"sHJoke18QECzne+nxktDQEJg5dAiW0ZAbef7qfESSUAaL90kBoFLQKwcWmQ7H09AH4XrUbheUUBjEFg5tOhSQMuhRbbzXVRAK4cW2c7XVUDNzMzMzCxXQGdmZmZmhlhACKwcWmTbWUDC9ShcjyJbQHnpJjEIbFxASeF6FK6nXUAehetRuN5eQGHl0CLbGWBAQmDl0CK7YEAj2/l+alxhQAvXo3A9+mFAAiuHFtmOYkDufD81XipjQAwCK4cWqWNA5tAi2/lOZEAL16NwPcpkQNNNYhBYeWVAzczMzMwMZkDTTWIQWJlmQJHtfD81TmdAUI2XbhIDaEB9PzVeunloQCPb+X5qPGlAAiuHFtneaUAEVg4tsm1qQLOd76fGK2tAeekmMQjca0ACK4cW2a5sQM3MzMzMXG1AiUFg5dASbkAbL90kBuFuQPT91Hjphm9AVeOlm8QgcEAlBoGVQ4NwQIts5/up2XBA4XoUrkc5cUC0yHa+n5pxQJZDi2zn83FA+n5qvHRLckBQjZduEqtyQESLbOf7+XJAnMQgsHJYc0CBlUOLbK9zQO58PzVeAnRAXrpJDAJTdEDNzMzMzKR0QMUgsHJo8XRAMzMzMzNDdUCsHFpkO491QKabxCCw2nVArBxaZDsfdkAzMzMzM2N2QDDdJAaBrXZAMzMzMzPzdkBV46WbxCh3QFtkO99PbXdACKwcWmSbd0CR7Xw/Nd53QDm0yHa+D3hA3iQGgZVDeED2KFyPwn14QBov3SQGsXhAv58aL93keEBzaJHtfA95QKrx0k1iOHlAUI2XbhJreUCamZmZmYl5QMHKoUW2u3lAAiuHFtneeUAfhetRuBZ6QOf7qfHSNXpAIbByaJFdekBjEFg5tIB6QBSuR+F6rHpAZ2ZmZmbGekAlBoGVQ+t6QFK4HoXrGXtACKwcWmRDe0A/NV66SWx7QHNoke18l3tAwvUoXI+ye0C0yHa+n7p7QCUGgZVDw3tAhetRuB7Ve0DfT42Xbup7QFXjpZvE8HtAC9ejcD0afEBjEFg5tDB8QNNNYhBYOXxAHVpkO99XfED0/dR46W58QGMQWDm0eHxANl66SQySfEAIrBxaZKt8QGdmZmZmvnxAIbByaJHlfEBxPQrXowB9QML1KFyPGn1AdpMYBFZGfUAnMQisHCp9QJ7vp8ZLL31Aj8L1KFw3fUB56SYxCER9QHnpJjEIRH1AVg4tsp1XfUAMAiuHFoF9QBWuR+F6fH1AEoPAyqF9fUAX2c73U3t9QNz5fmq8nH1A30+Nl26afUDqJjEIrJR9QL6fGi/drH1AHoXrUbi+fUCLbOf7qcl9QG4Sg8DKAX1AAAAAAABIe0A=\"},\"shape\":[127],\"dtype\":\"float64\",\"order\":\"little\"}]]}}},\"view\":{\"type\":\"object\",\"name\":\"CDSView\",\"id\":\"p1134\",\"attributes\":{\"filter\":{\"type\":\"object\",\"name\":\"AllIndices\",\"id\":\"p1135\"}}},\"glyph\":{\"type\":\"object\",\"name\":\"Line\",\"id\":\"p1130\",\"attributes\":{\"x\":{\"type\":\"field\",\"field\":\"x\"},\"y\":{\"type\":\"field\",\"field\":\"y\"},\"line_color\":\"green\",\"line_width\":2}},\"nonselection_glyph\":{\"type\":\"object\",\"name\":\"Line\",\"id\":\"p1131\",\"attributes\":{\"x\":{\"type\":\"field\",\"field\":\"x\"},\"y\":{\"type\":\"field\",\"field\":\"y\"},\"line_color\":\"green\",\"line_alpha\":0.1,\"line_width\":2}},\"muted_glyph\":{\"type\":\"object\",\"name\":\"Line\",\"id\":\"p1132\",\"attributes\":{\"x\":{\"type\":\"field\",\"field\":\"x\"},\"y\":{\"type\":\"field\",\"field\":\"y\"},\"line_color\":\"green\",\"line_alpha\":0.2,\"line_width\":2}}}},{\"type\":\"object\",\"name\":\"GlyphRenderer\",\"id\":\"p1144\",\"attributes\":{\"data_source\":{\"type\":\"object\",\"name\":\"ColumnDataSource\",\"id\":\"p1138\",\"attributes\":{\"selected\":{\"type\":\"object\",\"name\":\"Selection\",\"id\":\"p1139\",\"attributes\":{\"indices\":[],\"line_indices\":[]}},\"selection_policy\":{\"type\":\"object\",\"name\":\"UnionRenderers\",\"id\":\"p1140\"},\"data\":{\"type\":\"map\",\"entries\":[[\"x0\",[21.600000143051147,24.600000143051147]],[\"y0\",[0.0,0.0]],[\"x1\",[21.600000143051147,24.600000143051147]],[\"y1\",[476.604,476.604]]]}}},\"view\":{\"type\":\"object\",\"name\":\"CDSView\",\"id\":\"p1145\",\"attributes\":{\"filter\":{\"type\":\"object\",\"name\":\"AllIndices\",\"id\":\"p1146\"}}},\"glyph\":{\"type\":\"object\",\"name\":\"Segment\",\"id\":\"p1141\",\"attributes\":{\"x0\":{\"type\":\"field\",\"field\":\"x0\"},\"y0\":{\"type\":\"field\",\"field\":\"y0\"},\"x1\":{\"type\":\"field\",\"field\":\"x1\"},\"y1\":{\"type\":\"field\",\"field\":\"y1\"},\"line_color\":{\"type\":\"value\",\"value\":\"#1f77b4\"}}},\"nonselection_glyph\":{\"type\":\"object\",\"name\":\"Segment\",\"id\":\"p1142\",\"attributes\":{\"x0\":{\"type\":\"field\",\"field\":\"x0\"},\"y0\":{\"type\":\"field\",\"field\":\"y0\"},\"x1\":{\"type\":\"field\",\"field\":\"x1\"},\"y1\":{\"type\":\"field\",\"field\":\"y1\"},\"line_color\":{\"type\":\"value\",\"value\":\"#1f77b4\"},\"line_alpha\":{\"type\":\"value\",\"value\":0.1}}},\"muted_glyph\":{\"type\":\"object\",\"name\":\"Segment\",\"id\":\"p1143\",\"attributes\":{\"x0\":{\"type\":\"field\",\"field\":\"x0\"},\"y0\":{\"type\":\"field\",\"field\":\"y0\"},\"x1\":{\"type\":\"field\",\"field\":\"x1\"},\"y1\":{\"type\":\"field\",\"field\":\"y1\"},\"line_color\":{\"type\":\"value\",\"value\":\"#1f77b4\"},\"line_alpha\":{\"type\":\"value\",\"value\":0.2}}}}}],\"toolbar\":{\"type\":\"object\",\"name\":\"Toolbar\",\"id\":\"p1105\",\"attributes\":{\"tools\":[{\"type\":\"object\",\"name\":\"PanTool\",\"id\":\"p1120\"},{\"type\":\"object\",\"name\":\"WheelZoomTool\",\"id\":\"p1121\"},{\"type\":\"object\",\"name\":\"BoxZoomTool\",\"id\":\"p1122\",\"attributes\":{\"overlay\":{\"type\":\"object\",\"name\":\"BoxAnnotation\",\"id\":\"p1123\",\"attributes\":{\"syncable\":false,\"level\":\"overlay\",\"visible\":false,\"left_units\":\"canvas\",\"right_units\":\"canvas\",\"bottom_units\":\"canvas\",\"top_units\":\"canvas\",\"line_color\":\"black\",\"line_alpha\":1.0,\"line_width\":2,\"line_dash\":[4,4],\"fill_color\":\"lightgrey\",\"fill_alpha\":0.5}}}},{\"type\":\"object\",\"name\":\"SaveTool\",\"id\":\"p1124\"},{\"type\":\"object\",\"name\":\"ResetTool\",\"id\":\"p1125\"},{\"type\":\"object\",\"name\":\"HelpTool\",\"id\":\"p1126\"}]}},\"left\":[{\"type\":\"object\",\"name\":\"LinearAxis\",\"id\":\"p1115\",\"attributes\":{\"ticker\":{\"type\":\"object\",\"name\":\"BasicTicker\",\"id\":\"p1116\",\"attributes\":{\"mantissas\":[1,2,5]}},\"formatter\":{\"type\":\"object\",\"name\":\"BasicTickFormatter\",\"id\":\"p1117\"},\"axis_label\":\"km/h\",\"major_label_policy\":{\"type\":\"object\",\"name\":\"AllLabels\",\"id\":\"p1118\"}}}],\"below\":[{\"type\":\"object\",\"name\":\"LinearAxis\",\"id\":\"p1110\",\"attributes\":{\"ticker\":{\"type\":\"object\",\"name\":\"BasicTicker\",\"id\":\"p1111\",\"attributes\":{\"mantissas\":[1,2,5]}},\"formatter\":{\"type\":\"object\",\"name\":\"BasicTickFormatter\",\"id\":\"p1112\"},\"axis_label\":\"seconds from exit\",\"major_label_policy\":{\"type\":\"object\",\"name\":\"AllLabels\",\"id\":\"p1113\"}}}],\"center\":[{\"type\":\"object\",\"name\":\"Grid\",\"id\":\"p1114\",\"attributes\":{\"axis\":{\"id\":\"p1110\"}}},{\"type\":\"object\",\"name\":\"Grid\",\"id\":\"p1119\",\"attributes\":{\"dimension\":1,\"axis\":{\"id\":\"p1115\"}}},{\"type\":\"object\",\"name\":\"Legend\",\"id\":\"p1136\",\"attributes\":{\"items\":[{\"type\":\"object\",\"name\":\"LegendItem\",\"id\":\"p1137\",\"attributes\":{\"label\":{\"type\":\"value\",\"value\":\"speed\"},\"renderers\":[{\"id\":\"p1133\"}]}}]}}]}}]}};\n",
       "  const render_items = [{\"docid\":\"d6835c64-6812-435b-bc04-9ff2c8c8564a\",\"roots\":{\"p1096\":\"a81f95de-3882-42b0-9885-a4695abcf010\"},\"root_ids\":[\"p1096\"]}];\n",
       "  root.Bokeh.embed.embed_items_notebook(docs_json, render_items);\n",
       "  }\n",
       "  if (root.Bokeh !== undefined) {\n",
       "    embed_document(root);\n",
       "  } else {\n",
       "    let attempts = 0;\n",
       "    const timer = setInterval(function(root) {\n",
       "      if (root.Bokeh !== undefined) {\n",
       "        clearInterval(timer);\n",
       "        embed_document(root);\n",
       "      } else {\n",
       "        attempts++;\n",
       "        if (attempts > 100) {\n",
       "          clearInterval(timer);\n",
       "          console.log(\"Bokeh: ERROR: Unable to run BokehJS code because BokehJS library is missing\");\n",
       "        }\n",
       "      }\n",
       "    }, 10, root)\n",
       "  }\n",
       "})(window);"
      ],
      "application/vnd.bokehjs_exec.v0+json": ""
     },
     "metadata": {
      "application/vnd.bokehjs_exec.v0+json": {
       "id": "p1096"
      }
     },
     "output_type": "display_data"
    },
    {
     "data": {
      "application/vnd.jupyter.widget-view+json": {
       "model_id": "8bb8683569af40beaab9b24f22a7dbdd",
       "version_major": 2,
       "version_minor": 0
      },
      "text/plain": [
       "HTML(value='<hr><h1><span style=\"color: #f00\">01_Hepp-01-INVALID_21-00-38 jump - 🔴 invalid</span></h1>')"
      ]
     },
     "metadata": {},
     "output_type": "display_data"
    },
    {
     "data": {
      "application/vnd.jupyter.widget-view+json": {
       "model_id": "82d3e2398429450fa6d88a190df9d887",
       "version_major": 2,
       "version_minor": 0
      },
      "text/plain": [
       "HTML(value='<hr><h1><span style=\"color: #0f0\">01_Tuschl_20-33-34 jump - 🟢 valid - score = 460.55 km/h</span></…"
      ]
     },
     "metadata": {},
     "output_type": "display_data"
    },
    {
     "data": {
      "application/vnd.jupyter.widget-view+json": {
       "model_id": "545be369d43d46e3a9a5240c0d3cd26d",
       "version_major": 2,
       "version_minor": 0
      },
      "text/plain": [
       "HTML(value='<h3>Max speed = 463; exit at 4599 m (15089 ft), breakoff at 2343 m (7688 ft)</h3>')"
      ]
     },
     "metadata": {},
     "output_type": "display_data"
    },
    {
     "data": {
      "text/html": [
       "\n",
       "  <div id=\"ce27eb2d-55db-44c0-9352-cb890e139bb7\" data-root-id=\"p1158\" style=\"display: contents;\"></div>\n"
      ]
     },
     "metadata": {},
     "output_type": "display_data"
    },
    {
     "data": {
      "application/javascript": [
       "(function(root) {\n",
       "  function embed_document(root) {\n",
       "  const docs_json = {\"67797b21-eaa8-4bc8-8d4c-bbd779c4a2f1\":{\"version\":\"3.2.2\",\"title\":\"Bokeh Application\",\"roots\":[{\"type\":\"object\",\"name\":\"Figure\",\"id\":\"p1158\",\"attributes\":{\"height\":300,\"x_range\":{\"type\":\"object\",\"name\":\"Range1d\",\"id\":\"p1168\",\"attributes\":{\"end\":30}},\"y_range\":{\"type\":\"object\",\"name\":\"Range1d\",\"id\":\"p1169\",\"attributes\":{\"end\":550}},\"x_scale\":{\"type\":\"object\",\"name\":\"LinearScale\",\"id\":\"p1170\"},\"y_scale\":{\"type\":\"object\",\"name\":\"LinearScale\",\"id\":\"p1171\"},\"title\":{\"type\":\"object\",\"name\":\"Title\",\"id\":\"p1161\",\"attributes\":{\"text\":\"01_Tuschl_20-33-34\"}},\"renderers\":[{\"type\":\"object\",\"name\":\"GlyphRenderer\",\"id\":\"p1195\",\"attributes\":{\"data_source\":{\"type\":\"object\",\"name\":\"ColumnDataSource\",\"id\":\"p1189\",\"attributes\":{\"selected\":{\"type\":\"object\",\"name\":\"Selection\",\"id\":\"p1190\",\"attributes\":{\"indices\":[],\"line_indices\":[]}},\"selection_policy\":{\"type\":\"object\",\"name\":\"UnionRenderers\",\"id\":\"p1191\"},\"data\":{\"type\":\"map\",\"entries\":[[\"x\",{\"type\":\"ndarray\",\"array\":{\"type\":\"bytes\",\"data\":\"AAAAAAAAAAAAAAAAmpnJPwAAAACamdk/AAAAgDMz4z8AAACAmZnpPwAAAAAAAPA/AAAAQDMz8z8AAACAZmb2PwAAAMCZmfk/AAAAwMzM/D8AAAAAAAAAQAAAAKCZmQFAAAAAQDMzA0AAAADgzMwEQAAAAGBmZgZAAAAAAAAACEAAAACgmZkJQAAAAEAzMwtAAAAA4MzMDEAAAABgZmYOQAAAAAAAABBAAAAA0MzMEEAAAACgmZkRQAAAAHBmZhJAAAAAMDMzE0AAAAAAAAAUQAAAANDMzBRAAAAAoJmZFUAAAABwZmYWQAAAADAzMxdAAAAAAAAAGEAAAADQzMwYQAAAAKCZmRlAAAAAcGZmGkAAAAAwMzMbQAAAAAAAABxAAAAA0MzMHEAAAACgmZkdQAAAAHBmZh5AAAAAMDMzH0AAAAAAAAAgQAAAAGhmZiBAAAAA0MzMIEAAAAA4MzMhQAAAAJiZmSFAAAAAAAAAIkAAAABoZmYiQAAAANDMzCJAAAAAODMzI0AAAACYmZkjQAAAAAAAACRAAAAAaGZmJEAAAADQzMwkQAAAADgzMyVAAAAAmJmZJUAAAAAAAAAmQAAAAGhmZiZAAAAA0MzMJkAAAAA4MzMnQAAAAJiZmSdAAAAAAAAAKEAAAABoZmYoQAAAANDMzChAAAAAODMzKUAAAACYmZkpQAAAAAAAACpAAAAAaGZmKkAAAADQzMwqQAAAADgzMytAAAAAmJmZK0AAAAAAAAAsQAAAAGhmZixAAAAA0MzMLEAAAAA4MzMtQAAAAJiZmS1AAAAAAAAALkAAAABoZmYuQAAAANDMzC5AAAAAODMzL0AAAACYmZkvQAAAAAAAADBAAAAANDMzMEAAAABoZmYwQAAAAJyZmTBAAAAAzMzMMEAAAAAAAAAxQAAAADQzMzFAAAAAaGZmMUAAAACcmZkxQAAAAMzMzDFAAAAAAAAAMkAAAAA0MzMyQAAAAGhmZjJAAAAAnJmZMkAAAADMzMwyQAAAAAAAADNAAAAANDMzM0AAAABoZmYzQAAAAJyZmTNAAAAAzMzMM0AAAAAAAAA0QAAAADQzMzRAAAAAaGZmNEAAAACcmZk0QAAAAMzMzDRAAAAAAAAANUAAAAA0MzM1QAAAAGhmZjVAAAAAnJmZNUAAAADMzMw1QAAAAAAAADZAAAAANDMzNkAAAABoZmY2QAAAAJyZmTZAAAAAzMzMNkAAAAAAAAA3QAAAADQzMzdAAAAAaGZmN0AAAACcmZk3QAAAAMzMzDdAAAAAAAAAOEAAAAA0MzM4QAAAAGhmZjhAAAAAnJmZOEA=\"},\"shape\":[124],\"dtype\":\"float64\",\"order\":\"little\"}],[\"y\",{\"type\":\"ndarray\",\"array\":{\"type\":\"bytes\",\"data\":\"ObTIdr7fQUBYObTIdr5FQPp+arx0U0lAH4XrUbieTEAw3SQGgTVQQPyp8dJNAlJAzczMzMzMU0Bt5/up8bJVQFtkO99PbVdAEoPAyqFFWUDkpZvEIBBbQNnO91PjxVxA3Pl+arx0XkCJQWDl0AJgQAisHFpk22BAlkOLbOerYUAIrBxaZItiQHsUrkfhamNA+n5qvHRDZECIFtnO9xNlQB+F61G43mVA4XoUrkeRZkCR7Xw/NU5nQEW28/3UCGhABFYOLbK9aEDRItv5fmppQIts5/upIWpAg8DKoUW2akB56SYxCExrQHsUrkfh2mtAN4lBYOWQbEAzMzMzMyNtQOJ6FK5H4W1AzKFFtvN9bkCyne+nxhtvQIgW2c73w29AvHSTGAQucEA5tMh2vndwQCuHFtnOx3BArkfhehQOcUAlBoGVQ1txQIts5/upsXFA/tR46SYBckBvEoPAylFyQGmR7Xw/nXJAYxBYObTockD8qfHSTSJzQIlBYOXQYnNAEoPAyqGlc0CWQ4ts5+tzQCUGgZVDK3RAMzMzMzNrdECzne+nxrN0QKRwPQrXA3VArkfhehRGdUAtsp3vp451QCuHFtnO13VAVg4tsp0HdkDHSzeJQVh2QG8Sg8DKiXZACKwcWmTDdkDLoUW28+V2QFK4HoXrKXdAYxBYObRod0Dwp8ZLN6l3QAaBlUOL5HdAvHSTGAQOeEBcj8L1KER4QAaBlUOLdHhAqMZLN4mpeEBqvHSTGMx4QIlBYOXQAnlAMQisHFo0eUCUGARWDkV5QLByaJHtfHlAg8DKoUWWeUA5tMh2vr95QHe+nxov5XlAxSCwcmgBekDufD81XjJ6QLkehetRUHpAbxKDwMp5ekD+1HjpJrl6QEw3iUFg1XpAqMZLN4npekDy0k1iEAh7QKabxCCwMntAYeXQIttZe0Aw3SQGgXV7QH9qvHSTkHtAzczMzMyse0CXbhKDwMp7QBkEVg4tgntAYxBYObSge0BOYhBYOax7QBov3SQGyXtAcT0K16Pge0A3iUFg5QB8QJHtfD81FnxA6iYxCKwsfEC8dJMYBEZ8QCUGgZVDU3xAZDvfT413fEBt5/up8XJ8QEW28/3UiHxAGQRWDi2ifED6fmq8dLN8QJQYBFYOpXxAYeXQItvBfEB1kxgEVrZ8QPhT46WbtHxAAiuHFtmufEDTTWIQWMl8QC2yne+n3nxANV66SQzafECq8dJNYuB8QIts5/up8XxAVg4tsp3HfEA/NV66SdR8QOF6FK5HwXxAEoPAyqHtfECvR+F6FN58QKFFtvP95HxAXrpJDALDfEA=\"},\"shape\":[124],\"dtype\":\"float64\",\"order\":\"little\"}]]}}},\"view\":{\"type\":\"object\",\"name\":\"CDSView\",\"id\":\"p1196\",\"attributes\":{\"filter\":{\"type\":\"object\",\"name\":\"AllIndices\",\"id\":\"p1197\"}}},\"glyph\":{\"type\":\"object\",\"name\":\"Line\",\"id\":\"p1192\",\"attributes\":{\"x\":{\"type\":\"field\",\"field\":\"x\"},\"y\":{\"type\":\"field\",\"field\":\"y\"},\"line_color\":\"green\",\"line_width\":2}},\"nonselection_glyph\":{\"type\":\"object\",\"name\":\"Line\",\"id\":\"p1193\",\"attributes\":{\"x\":{\"type\":\"field\",\"field\":\"x\"},\"y\":{\"type\":\"field\",\"field\":\"y\"},\"line_color\":\"green\",\"line_alpha\":0.1,\"line_width\":2}},\"muted_glyph\":{\"type\":\"object\",\"name\":\"Line\",\"id\":\"p1194\",\"attributes\":{\"x\":{\"type\":\"field\",\"field\":\"x\"},\"y\":{\"type\":\"field\",\"field\":\"y\"},\"line_color\":\"green\",\"line_alpha\":0.2,\"line_width\":2}}}},{\"type\":\"object\",\"name\":\"GlyphRenderer\",\"id\":\"p1206\",\"attributes\":{\"data_source\":{\"type\":\"object\",\"name\":\"ColumnDataSource\",\"id\":\"p1200\",\"attributes\":{\"selected\":{\"type\":\"object\",\"name\":\"Selection\",\"id\":\"p1201\",\"attributes\":{\"indices\":[],\"line_indices\":[]}},\"selection_policy\":{\"type\":\"object\",\"name\":\"UnionRenderers\",\"id\":\"p1202\"},\"data\":{\"type\":\"map\",\"entries\":[[\"x0\",[21.200000047683716,24.200000047683716]],[\"y0\",[0.0,0.0]],[\"x1\",[21.200000047683716,24.200000047683716]],[\"y1\",[463.104,463.104]]]}}},\"view\":{\"type\":\"object\",\"name\":\"CDSView\",\"id\":\"p1207\",\"attributes\":{\"filter\":{\"type\":\"object\",\"name\":\"AllIndices\",\"id\":\"p1208\"}}},\"glyph\":{\"type\":\"object\",\"name\":\"Segment\",\"id\":\"p1203\",\"attributes\":{\"x0\":{\"type\":\"field\",\"field\":\"x0\"},\"y0\":{\"type\":\"field\",\"field\":\"y0\"},\"x1\":{\"type\":\"field\",\"field\":\"x1\"},\"y1\":{\"type\":\"field\",\"field\":\"y1\"},\"line_color\":{\"type\":\"value\",\"value\":\"#1f77b4\"}}},\"nonselection_glyph\":{\"type\":\"object\",\"name\":\"Segment\",\"id\":\"p1204\",\"attributes\":{\"x0\":{\"type\":\"field\",\"field\":\"x0\"},\"y0\":{\"type\":\"field\",\"field\":\"y0\"},\"x1\":{\"type\":\"field\",\"field\":\"x1\"},\"y1\":{\"type\":\"field\",\"field\":\"y1\"},\"line_color\":{\"type\":\"value\",\"value\":\"#1f77b4\"},\"line_alpha\":{\"type\":\"value\",\"value\":0.1}}},\"muted_glyph\":{\"type\":\"object\",\"name\":\"Segment\",\"id\":\"p1205\",\"attributes\":{\"x0\":{\"type\":\"field\",\"field\":\"x0\"},\"y0\":{\"type\":\"field\",\"field\":\"y0\"},\"x1\":{\"type\":\"field\",\"field\":\"x1\"},\"y1\":{\"type\":\"field\",\"field\":\"y1\"},\"line_color\":{\"type\":\"value\",\"value\":\"#1f77b4\"},\"line_alpha\":{\"type\":\"value\",\"value\":0.2}}}}}],\"toolbar\":{\"type\":\"object\",\"name\":\"Toolbar\",\"id\":\"p1167\",\"attributes\":{\"tools\":[{\"type\":\"object\",\"name\":\"PanTool\",\"id\":\"p1182\"},{\"type\":\"object\",\"name\":\"WheelZoomTool\",\"id\":\"p1183\"},{\"type\":\"object\",\"name\":\"BoxZoomTool\",\"id\":\"p1184\",\"attributes\":{\"overlay\":{\"type\":\"object\",\"name\":\"BoxAnnotation\",\"id\":\"p1185\",\"attributes\":{\"syncable\":false,\"level\":\"overlay\",\"visible\":false,\"left_units\":\"canvas\",\"right_units\":\"canvas\",\"bottom_units\":\"canvas\",\"top_units\":\"canvas\",\"line_color\":\"black\",\"line_alpha\":1.0,\"line_width\":2,\"line_dash\":[4,4],\"fill_color\":\"lightgrey\",\"fill_alpha\":0.5}}}},{\"type\":\"object\",\"name\":\"SaveTool\",\"id\":\"p1186\"},{\"type\":\"object\",\"name\":\"ResetTool\",\"id\":\"p1187\"},{\"type\":\"object\",\"name\":\"HelpTool\",\"id\":\"p1188\"}]}},\"left\":[{\"type\":\"object\",\"name\":\"LinearAxis\",\"id\":\"p1177\",\"attributes\":{\"ticker\":{\"type\":\"object\",\"name\":\"BasicTicker\",\"id\":\"p1178\",\"attributes\":{\"mantissas\":[1,2,5]}},\"formatter\":{\"type\":\"object\",\"name\":\"BasicTickFormatter\",\"id\":\"p1179\"},\"axis_label\":\"km/h\",\"major_label_policy\":{\"type\":\"object\",\"name\":\"AllLabels\",\"id\":\"p1180\"}}}],\"below\":[{\"type\":\"object\",\"name\":\"LinearAxis\",\"id\":\"p1172\",\"attributes\":{\"ticker\":{\"type\":\"object\",\"name\":\"BasicTicker\",\"id\":\"p1173\",\"attributes\":{\"mantissas\":[1,2,5]}},\"formatter\":{\"type\":\"object\",\"name\":\"BasicTickFormatter\",\"id\":\"p1174\"},\"axis_label\":\"seconds from exit\",\"major_label_policy\":{\"type\":\"object\",\"name\":\"AllLabels\",\"id\":\"p1175\"}}}],\"center\":[{\"type\":\"object\",\"name\":\"Grid\",\"id\":\"p1176\",\"attributes\":{\"axis\":{\"id\":\"p1172\"}}},{\"type\":\"object\",\"name\":\"Grid\",\"id\":\"p1181\",\"attributes\":{\"dimension\":1,\"axis\":{\"id\":\"p1177\"}}},{\"type\":\"object\",\"name\":\"Legend\",\"id\":\"p1198\",\"attributes\":{\"items\":[{\"type\":\"object\",\"name\":\"LegendItem\",\"id\":\"p1199\",\"attributes\":{\"label\":{\"type\":\"value\",\"value\":\"speed\"},\"renderers\":[{\"id\":\"p1195\"}]}}]}}]}}]}};\n",
       "  const render_items = [{\"docid\":\"67797b21-eaa8-4bc8-8d4c-bbd779c4a2f1\",\"roots\":{\"p1158\":\"ce27eb2d-55db-44c0-9352-cb890e139bb7\"},\"root_ids\":[\"p1158\"]}];\n",
       "  root.Bokeh.embed.embed_items_notebook(docs_json, render_items);\n",
       "  }\n",
       "  if (root.Bokeh !== undefined) {\n",
       "    embed_document(root);\n",
       "  } else {\n",
       "    let attempts = 0;\n",
       "    const timer = setInterval(function(root) {\n",
       "      if (root.Bokeh !== undefined) {\n",
       "        clearInterval(timer);\n",
       "        embed_document(root);\n",
       "      } else {\n",
       "        attempts++;\n",
       "        if (attempts > 100) {\n",
       "          clearInterval(timer);\n",
       "          console.log(\"Bokeh: ERROR: Unable to run BokehJS code because BokehJS library is missing\");\n",
       "        }\n",
       "      }\n",
       "    }, 10, root)\n",
       "  }\n",
       "})(window);"
      ],
      "application/vnd.bokehjs_exec.v0+json": ""
     },
     "metadata": {
      "application/vnd.bokehjs_exec.v0+json": {
       "id": "p1158"
      }
     },
     "output_type": "display_data"
    }
   ],
   "source": [
    "allJumpsPlot = initializePlot('All jumps in set')\n",
    "jumpNumber = 0\n",
    "mixColor = 0\n",
    "for resultRef in jumpResults.keys():\n",
    "    jumpResult = jumpResults[resultRef]\n",
    "    if 'invalid' in jumpResult.result:\n",
    "        validJumpStatus = '<hr><h1><span style=\"color: %s\">%s jump - %s</span></h1>' % (jumpResult.color, resultRef, jumpResult.result)\n",
    "    else:\n",
    "        validJumpStatus = '<hr><h1><span style=\"color: %s\">%s jump - %s - score = %.02f km/h</span></h1>' % (jumpResult.color, resultRef, jumpResult.result, jumpResult.score)\n",
    "    display(widgets.HTML(validJumpStatus))\n",
    "\n",
    "    maxSpeed = jumpResult.maxSpeed\n",
    "    window = jumpResult.window\n",
    "    mixColor = (mixColor+1)%len(SPEED_COLORS)\n",
    "    if 'invalid' not in jumpResult.result:\n",
    "        display(widgets.HTML('<h3>Max speed = {0:,.0f}; '.format(maxSpeed)+('exit at %d m (%d ft), breakoff at %d m (%d ft)</h3>'%(window.start, 3.2808*window.start, window.end, 3.2808*window.end))))\n",
    "        graphJumpResult(initializePlot(resultRef), jumpResult)\n",
    "        graphJumpResult(allJumpsPlot, jumpResult, lineColor = SPEED_COLORS[mixColor], showIt = False)"
   ]
  },
  {
   "cell_type": "markdown",
   "id": "7363faaf-27a9-401c-9271-73b71436f19c",
   "metadata": {},
   "source": [
    "## All jumps"
   ]
  },
  {
   "cell_type": "code",
   "execution_count": 19,
   "id": "17991fcf-e215-4a53-a6ff-d9a64cbafd94",
   "metadata": {},
   "outputs": [
    {
     "data": {
      "text/html": [
       "\n",
       "  <div id=\"f5a1cbb2-df31-43e0-9013-2fd7477d55f6\" data-root-id=\"p1001\" style=\"display: contents;\"></div>\n"
      ]
     },
     "metadata": {},
     "output_type": "display_data"
    },
    {
     "data": {
      "application/javascript": [
       "(function(root) {\n",
       "  function embed_document(root) {\n",
       "  const docs_json = {\"62a2fa55-5539-4ce0-b492-55d9c96e472b\":{\"version\":\"3.2.2\",\"title\":\"Bokeh Application\",\"roots\":[{\"type\":\"object\",\"name\":\"Figure\",\"id\":\"p1001\",\"attributes\":{\"height\":300,\"x_range\":{\"type\":\"object\",\"name\":\"Range1d\",\"id\":\"p1011\",\"attributes\":{\"end\":30}},\"y_range\":{\"type\":\"object\",\"name\":\"Range1d\",\"id\":\"p1012\",\"attributes\":{\"end\":550}},\"x_scale\":{\"type\":\"object\",\"name\":\"LinearScale\",\"id\":\"p1013\"},\"y_scale\":{\"type\":\"object\",\"name\":\"LinearScale\",\"id\":\"p1014\"},\"title\":{\"type\":\"object\",\"name\":\"Title\",\"id\":\"p1004\",\"attributes\":{\"text\":\"All jumps in set\"}},\"renderers\":[{\"type\":\"object\",\"name\":\"GlyphRenderer\",\"id\":\"p1091\",\"attributes\":{\"data_source\":{\"type\":\"object\",\"name\":\"ColumnDataSource\",\"id\":\"p1085\",\"attributes\":{\"selected\":{\"type\":\"object\",\"name\":\"Selection\",\"id\":\"p1086\",\"attributes\":{\"indices\":[],\"line_indices\":[]}},\"selection_policy\":{\"type\":\"object\",\"name\":\"UnionRenderers\",\"id\":\"p1087\"},\"data\":{\"type\":\"map\",\"entries\":[[\"x\",{\"type\":\"ndarray\",\"array\":{\"type\":\"bytes\",\"data\":\"AAAAAAAAAAAAAAAAmJnJPwAAAACZmdk/AAAAADMz4z8AAACAmZnpPwAAAAAAAPA/AAAAADMz8z8AAABAZmb2PwAAAICZmfk/AAAAwMzM/D8AAAAAAAAAQAAAAICZmQFAAAAAIDMzA0AAAADAzMwEQAAAAGBmZgZAAAAAAAAACEAAAACAmZkJQAAAACAzMwtAAAAAwMzMDEAAAABgZmYOQAAAAAAAABBAAAAAwMzMEEAAAACQmZkRQAAAAGBmZhJAAAAAMDMzE0AAAAAAAAAUQAAAAMDMzBRAAAAAkJmZFUAAAABgZmYWQAAAADAzMxdAAAAAAAAAGEAAAADAzMwYQAAAAJCZmRlAAAAAYGZmGkAAAAAwMzMbQAAAAAAAABxAAAAAwMzMHEAAAACQmZkdQAAAAGBmZh5AAAAAMDMzH0AAAAAAAAAgQAAAAGBmZiBAAAAAyMzMIEAAAAAwMzMhQAAAAJiZmSFAAAAAAAAAIkAAAABgZmYiQAAAAMjMzCJAAAAAMDMzI0AAAACYmZkjQAAAAAAAACRAAAAAYGZmJEAAAADIzMwkQAAAADAzMyVAAAAAmJmZJUAAAAAAAAAmQAAAAGBmZiZAAAAAyMzMJkAAAAAwMzMnQAAAAJiZmSdAAAAAAAAAKEAAAABgZmYoQAAAAMjMzChAAAAAMDMzKUAAAACYmZkpQAAAAAAAACpAAAAAYGZmKkAAAADIzMwqQAAAADAzMytAAAAAmJmZK0AAAAAAAAAsQAAAAGBmZixAAAAAyMzMLEAAAAAwMzMtQAAAAJiZmS1AAAAAAAAALkAAAABgZmYuQAAAAMjMzC5AAAAAMDMzL0AAAACYmZkvQAAAAAAAADBAAAAAMDMzMEAAAABkZmYwQAAAAJiZmTBAAAAAzMzMMEAAAAAAAAAxQAAAADAzMzFAAAAAZGZmMUAAAACYmZkxQAAAAMzMzDFAAAAAAAAAMkAAAAAwMzMyQAAAAGRmZjJAAAAAmJmZMkAAAADMzMwyQAAAAAAAADNAAAAAMDMzM0AAAABkZmYzQAAAAJiZmTNAAAAAzMzMM0AAAAAAAAA0QAAAADAzMzRAAAAAZGZmNEAAAACYmZk0QAAAAMzMzDRAAAAAAAAANUAAAAAwMzM1QAAAAGRmZjVAAAAAmJmZNUAAAADMzMw1QAAAAAAAADZAAAAAMDMzNkAAAABkZmY2QAAAAJiZmTZAAAAAzMzMNkAAAAAAAAA3QAAAADAzMzdAAAAAZGZmN0AAAACYmZk3QAAAAMzMzDdAAAAAAAAAOEAAAAAwMzM4QAAAAGRmZjhAAAAAmJmZOEA=\"},\"shape\":[124],\"dtype\":\"float64\",\"order\":\"little\"}],[\"y\",{\"type\":\"ndarray\",\"array\":{\"type\":\"bytes\",\"data\":\"2KNwPQoXQkAGgZVDi+xFQJ3vp8ZL90hAg8DKoUX2TEBkO99PjRdQQGdmZmZmxlFAJzEIrByaU0A+CtejcD1VQAIrhxbZDldA5/up8dLNWEC8dJMYBJZaQML1KFyPQlxArBxaZDv/XUCyne+nxqtfQFK4HoXrsWBA2KNwPQqHYUB3vp8aL01iQAaBlUOLHGNAsHJoke3cY0A/NV66SaxkQOF6FK5HcWVAl24Sg8AqZkBKDAIrh+ZmQN4kBoGVs2dAjpduEoNwaEA5tMh2vi9pQNv5fmq89GlAhetRuB61akAtsp3vp3ZrQPCnxks3KWxAoBov3STmbEBXObTIdp5tQB6F61G4Tm5Am8QgsHIob0CIFtnO98NvQJzEILByQHBAEVg5tMiOcEDufD81XupwQEW28/3USHFAGQRWDi2qcUC0yHa+nypyQNijcD0KX3JA9P3UeOmWckD4U+Olm9xyQHWTGARWJnNATmIQWDk8c0DP91PjpctzQNijcD0KD3RA3iQGgZVTdECXbhKDwHp0QARWDi2yzXRA8tJNYhAgdUCzne+nxkN1QG8Sg8DKsXVAAAAAAADwdUA5tMh2vhd2QCuHFtnOZ3ZARbbz/dSgdkDy0k1iENB2QGmR7Xw/HXdAmpmZmZlJd0C0yHa+n4J3QGq8dJMYrHdAlBgEVg7dd0CwcmiR7RR4QFg5tMh2RnhAarx0kxiEeECmm8QgsKp4QOSlm8Qg0HhAEVg5tMj+eEBMN4lBYCV5QIts5/upSXlAzczMzMxseUD2KFyPwp15QESLbOf7uXlAJQaBlUPLeUC5HoXrUQh6QARWDi2yJXpA30+Nl246ekCkcD0K11t6QO58PzVeenpAs53vp8abekACK4cW2bZ6QPLSTWIQwHpA6iYxCKzEekA5tMh2vid7QAvXo3A9+npAwcqhRbbbekAUrkfhevR6QHE9CtejCHtASgwCK4cee0CkcD0K1zN7QHnpJjEITHtA5/up8dJVe0DC9Shcj2p7QCuHFtnOd3tA+FPjpZuUe0BbZDvfT6V7QD81XrpJtHtAN4lBYOW4e0Cmm8QgsMJ7QKAaL90kxntAqvHSTWLAe0CgGi/dJMZ7QCUGgZVDw3tAs53vp8a7e0AnMQisHMJ7QB1aZDvfx3tAjpduEoPQe0AMAiuHFtF7QPhT46Wb3HtAi2zn+6nRe0B7FK5H4dp7QOxRuB6F43tAUI2XbhLze0DP91PjpfN7QFg5tMh27ntA001iEFjxe0Dwp8ZLN+F7QNnO91Pj7XtAWDm0yHbue0Dn+6nx0uV7QPLSTWIQ4HtAiUFg5dDSe0A=\"},\"shape\":[124],\"dtype\":\"float64\",\"order\":\"little\"}]]}}},\"view\":{\"type\":\"object\",\"name\":\"CDSView\",\"id\":\"p1092\",\"attributes\":{\"filter\":{\"type\":\"object\",\"name\":\"AllIndices\",\"id\":\"p1093\"}}},\"glyph\":{\"type\":\"object\",\"name\":\"Line\",\"id\":\"p1088\",\"attributes\":{\"x\":{\"type\":\"field\",\"field\":\"x\"},\"y\":{\"type\":\"field\",\"field\":\"y\"},\"line_color\":\"limegreen\",\"line_width\":2}},\"nonselection_glyph\":{\"type\":\"object\",\"name\":\"Line\",\"id\":\"p1089\",\"attributes\":{\"x\":{\"type\":\"field\",\"field\":\"x\"},\"y\":{\"type\":\"field\",\"field\":\"y\"},\"line_color\":\"limegreen\",\"line_alpha\":0.1,\"line_width\":2}},\"muted_glyph\":{\"type\":\"object\",\"name\":\"Line\",\"id\":\"p1090\",\"attributes\":{\"x\":{\"type\":\"field\",\"field\":\"x\"},\"y\":{\"type\":\"field\",\"field\":\"y\"},\"line_color\":\"limegreen\",\"line_alpha\":0.2,\"line_width\":2}}}},{\"type\":\"object\",\"name\":\"GlyphRenderer\",\"id\":\"p1155\",\"attributes\":{\"data_source\":{\"type\":\"object\",\"name\":\"ColumnDataSource\",\"id\":\"p1149\",\"attributes\":{\"selected\":{\"type\":\"object\",\"name\":\"Selection\",\"id\":\"p1150\",\"attributes\":{\"indices\":[],\"line_indices\":[]}},\"selection_policy\":{\"type\":\"object\",\"name\":\"UnionRenderers\",\"id\":\"p1151\"},\"data\":{\"type\":\"map\",\"entries\":[[\"x\",{\"type\":\"ndarray\",\"array\":{\"type\":\"bytes\",\"data\":\"AAAAAAAAAAAAAAAAmpnJPwAAAACamdk/AAAAgDMz4z8AAAAAmpnpPwAAAAAAAPA/AAAAQDMz8z8AAACAZmb2PwAAAMCZmfk/AAAAAM3M/D8AAAAAAAAAQAAAAKCZmQFAAAAAQDMzA0AAAADgzMwEQAAAAIBmZgZAAAAAAAAACEAAAACgmZkJQAAAAEAzMwtAAAAA4MzMDEAAAACAZmYOQAAAAAAAABBAAAAA0MzMEEAAAACgmZkRQAAAAHBmZhJAAAAAQDMzE0AAAAAAAAAUQAAAANDMzBRAAAAAoJmZFUAAAABwZmYWQAAAAEAzMxdAAAAAAAAAGEAAAADQzMwYQAAAAKCZmRlAAAAAcGZmGkAAAABAMzMbQAAAAAAAABxAAAAA0MzMHEAAAACgmZkdQAAAAHBmZh5AAAAAQDMzH0AAAAAAAAAgQAAAAGhmZiBAAAAA0MzMIEAAAAA4MzMhQAAAAKCZmSFAAAAAAAAAIkAAAABoZmYiQAAAANDMzCJAAAAAODMzI0AAAACgmZkjQAAAAAAAACRAAAAAaGZmJEAAAADQzMwkQAAAADgzMyVAAAAAoJmZJUAAAAAAAAAmQAAAAGhmZiZAAAAA0MzMJkAAAAA4MzMnQAAAAKCZmSdAAAAAAAAAKEAAAABoZmYoQAAAANDMzChAAAAAODMzKUAAAACgmZkpQAAAAAAAACpAAAAAaGZmKkAAAADQzMwqQAAAADgzMytAAAAAoJmZK0AAAAAAAAAsQAAAAGhmZixAAAAA0MzMLEAAAAA4MzMtQAAAAKCZmS1AAAAAAAAALkAAAABoZmYuQAAAANDMzC5AAAAAODMzL0AAAACgmZkvQAAAAAAAADBAAAAANDMzMEAAAABoZmYwQAAAAJyZmTBAAAAA0MzMMEAAAAAAAAAxQAAAADQzMzFAAAAAaGZmMUAAAACcmZkxQAAAANDMzDFAAAAAAAAAMkAAAAA0MzMyQAAAAGhmZjJAAAAAnJmZMkAAAADQzMwyQAAAAAAAADNAAAAANDMzM0AAAABoZmYzQAAAAJyZmTNAAAAA0MzMM0AAAAAAAAA0QAAAADQzMzRAAAAAaGZmNEAAAACcmZk0QAAAANDMzDRAAAAAAAAANUAAAAA0MzM1QAAAAGhmZjVAAAAAnJmZNUAAAADQzMw1QAAAAAAAADZAAAAANDMzNkAAAABoZmY2QAAAAJyZmTZAAAAA0MzMNkAAAAAAAAA3QAAAADQzMzdAAAAAaGZmN0AAAACcmZk3QAAAANDMzDdAAAAAAAAAOEAAAAA0MzM4QAAAAGhmZjhAAAAAnJmZOEAAAADQzMw4QAAAAAAAADlAAAAANDMzOUA=\"},\"shape\":[127],\"dtype\":\"float64\",\"order\":\"little\"}],[\"y\",{\"type\":\"ndarray\",\"array\":{\"type\":\"bytes\",\"data\":\"sHJoke18QECzne+nxktDQEJg5dAiW0ZAbef7qfESSUAaL90kBoFLQKwcWmQ7H09AH4XrUbheUUBjEFg5tOhSQMuhRbbzXVRAK4cW2c7XVUDNzMzMzCxXQGdmZmZmhlhACKwcWmTbWUDC9ShcjyJbQHnpJjEIbFxASeF6FK6nXUAehetRuN5eQGHl0CLbGWBAQmDl0CK7YEAj2/l+alxhQAvXo3A9+mFAAiuHFtmOYkDufD81XipjQAwCK4cWqWNA5tAi2/lOZEAL16NwPcpkQNNNYhBYeWVAzczMzMwMZkDTTWIQWJlmQJHtfD81TmdAUI2XbhIDaEB9PzVeunloQCPb+X5qPGlAAiuHFtneaUAEVg4tsm1qQLOd76fGK2tAeekmMQjca0ACK4cW2a5sQM3MzMzMXG1AiUFg5dASbkAbL90kBuFuQPT91Hjphm9AVeOlm8QgcEAlBoGVQ4NwQIts5/up2XBA4XoUrkc5cUC0yHa+n5pxQJZDi2zn83FA+n5qvHRLckBQjZduEqtyQESLbOf7+XJAnMQgsHJYc0CBlUOLbK9zQO58PzVeAnRAXrpJDAJTdEDNzMzMzKR0QMUgsHJo8XRAMzMzMzNDdUCsHFpkO491QKabxCCw2nVArBxaZDsfdkAzMzMzM2N2QDDdJAaBrXZAMzMzMzPzdkBV46WbxCh3QFtkO99PbXdACKwcWmSbd0CR7Xw/Nd53QDm0yHa+D3hA3iQGgZVDeED2KFyPwn14QBov3SQGsXhAv58aL93keEBzaJHtfA95QKrx0k1iOHlAUI2XbhJreUCamZmZmYl5QMHKoUW2u3lAAiuHFtneeUAfhetRuBZ6QOf7qfHSNXpAIbByaJFdekBjEFg5tIB6QBSuR+F6rHpAZ2ZmZmbGekAlBoGVQ+t6QFK4HoXrGXtACKwcWmRDe0A/NV66SWx7QHNoke18l3tAwvUoXI+ye0C0yHa+n7p7QCUGgZVDw3tAhetRuB7Ve0DfT42Xbup7QFXjpZvE8HtAC9ejcD0afEBjEFg5tDB8QNNNYhBYOXxAHVpkO99XfED0/dR46W58QGMQWDm0eHxANl66SQySfEAIrBxaZKt8QGdmZmZmvnxAIbByaJHlfEBxPQrXowB9QML1KFyPGn1AdpMYBFZGfUAnMQisHCp9QJ7vp8ZLL31Aj8L1KFw3fUB56SYxCER9QHnpJjEIRH1AVg4tsp1XfUAMAiuHFoF9QBWuR+F6fH1AEoPAyqF9fUAX2c73U3t9QNz5fmq8nH1A30+Nl26afUDqJjEIrJR9QL6fGi/drH1AHoXrUbi+fUCLbOf7qcl9QG4Sg8DKAX1AAAAAAABIe0A=\"},\"shape\":[127],\"dtype\":\"float64\",\"order\":\"little\"}]]}}},\"view\":{\"type\":\"object\",\"name\":\"CDSView\",\"id\":\"p1156\",\"attributes\":{\"filter\":{\"type\":\"object\",\"name\":\"AllIndices\",\"id\":\"p1157\"}}},\"glyph\":{\"type\":\"object\",\"name\":\"Line\",\"id\":\"p1152\",\"attributes\":{\"x\":{\"type\":\"field\",\"field\":\"x\"},\"y\":{\"type\":\"field\",\"field\":\"y\"},\"line_color\":\"tomato\",\"line_width\":2}},\"nonselection_glyph\":{\"type\":\"object\",\"name\":\"Line\",\"id\":\"p1153\",\"attributes\":{\"x\":{\"type\":\"field\",\"field\":\"x\"},\"y\":{\"type\":\"field\",\"field\":\"y\"},\"line_color\":\"tomato\",\"line_alpha\":0.1,\"line_width\":2}},\"muted_glyph\":{\"type\":\"object\",\"name\":\"Line\",\"id\":\"p1154\",\"attributes\":{\"x\":{\"type\":\"field\",\"field\":\"x\"},\"y\":{\"type\":\"field\",\"field\":\"y\"},\"line_color\":\"tomato\",\"line_alpha\":0.2,\"line_width\":2}}}},{\"type\":\"object\",\"name\":\"GlyphRenderer\",\"id\":\"p1217\",\"attributes\":{\"data_source\":{\"type\":\"object\",\"name\":\"ColumnDataSource\",\"id\":\"p1211\",\"attributes\":{\"selected\":{\"type\":\"object\",\"name\":\"Selection\",\"id\":\"p1212\",\"attributes\":{\"indices\":[],\"line_indices\":[]}},\"selection_policy\":{\"type\":\"object\",\"name\":\"UnionRenderers\",\"id\":\"p1213\"},\"data\":{\"type\":\"map\",\"entries\":[[\"x\",{\"type\":\"ndarray\",\"array\":{\"type\":\"bytes\",\"data\":\"AAAAAAAAAAAAAAAAmpnJPwAAAACamdk/AAAAgDMz4z8AAACAmZnpPwAAAAAAAPA/AAAAQDMz8z8AAACAZmb2PwAAAMCZmfk/AAAAwMzM/D8AAAAAAAAAQAAAAKCZmQFAAAAAQDMzA0AAAADgzMwEQAAAAGBmZgZAAAAAAAAACEAAAACgmZkJQAAAAEAzMwtAAAAA4MzMDEAAAABgZmYOQAAAAAAAABBAAAAA0MzMEEAAAACgmZkRQAAAAHBmZhJAAAAAMDMzE0AAAAAAAAAUQAAAANDMzBRAAAAAoJmZFUAAAABwZmYWQAAAADAzMxdAAAAAAAAAGEAAAADQzMwYQAAAAKCZmRlAAAAAcGZmGkAAAAAwMzMbQAAAAAAAABxAAAAA0MzMHEAAAACgmZkdQAAAAHBmZh5AAAAAMDMzH0AAAAAAAAAgQAAAAGhmZiBAAAAA0MzMIEAAAAA4MzMhQAAAAJiZmSFAAAAAAAAAIkAAAABoZmYiQAAAANDMzCJAAAAAODMzI0AAAACYmZkjQAAAAAAAACRAAAAAaGZmJEAAAADQzMwkQAAAADgzMyVAAAAAmJmZJUAAAAAAAAAmQAAAAGhmZiZAAAAA0MzMJkAAAAA4MzMnQAAAAJiZmSdAAAAAAAAAKEAAAABoZmYoQAAAANDMzChAAAAAODMzKUAAAACYmZkpQAAAAAAAACpAAAAAaGZmKkAAAADQzMwqQAAAADgzMytAAAAAmJmZK0AAAAAAAAAsQAAAAGhmZixAAAAA0MzMLEAAAAA4MzMtQAAAAJiZmS1AAAAAAAAALkAAAABoZmYuQAAAANDMzC5AAAAAODMzL0AAAACYmZkvQAAAAAAAADBAAAAANDMzMEAAAABoZmYwQAAAAJyZmTBAAAAAzMzMMEAAAAAAAAAxQAAAADQzMzFAAAAAaGZmMUAAAACcmZkxQAAAAMzMzDFAAAAAAAAAMkAAAAA0MzMyQAAAAGhmZjJAAAAAnJmZMkAAAADMzMwyQAAAAAAAADNAAAAANDMzM0AAAABoZmYzQAAAAJyZmTNAAAAAzMzMM0AAAAAAAAA0QAAAADQzMzRAAAAAaGZmNEAAAACcmZk0QAAAAMzMzDRAAAAAAAAANUAAAAA0MzM1QAAAAGhmZjVAAAAAnJmZNUAAAADMzMw1QAAAAAAAADZAAAAANDMzNkAAAABoZmY2QAAAAJyZmTZAAAAAzMzMNkAAAAAAAAA3QAAAADQzMzdAAAAAaGZmN0AAAACcmZk3QAAAAMzMzDdAAAAAAAAAOEAAAAA0MzM4QAAAAGhmZjhAAAAAnJmZOEA=\"},\"shape\":[124],\"dtype\":\"float64\",\"order\":\"little\"}],[\"y\",{\"type\":\"ndarray\",\"array\":{\"type\":\"bytes\",\"data\":\"ObTIdr7fQUBYObTIdr5FQPp+arx0U0lAH4XrUbieTEAw3SQGgTVQQPyp8dJNAlJAzczMzMzMU0Bt5/up8bJVQFtkO99PbVdAEoPAyqFFWUDkpZvEIBBbQNnO91PjxVxA3Pl+arx0XkCJQWDl0AJgQAisHFpk22BAlkOLbOerYUAIrBxaZItiQHsUrkfhamNA+n5qvHRDZECIFtnO9xNlQB+F61G43mVA4XoUrkeRZkCR7Xw/NU5nQEW28/3UCGhABFYOLbK9aEDRItv5fmppQIts5/upIWpAg8DKoUW2akB56SYxCExrQHsUrkfh2mtAN4lBYOWQbEAzMzMzMyNtQOJ6FK5H4W1AzKFFtvN9bkCyne+nxhtvQIgW2c73w29AvHSTGAQucEA5tMh2vndwQCuHFtnOx3BArkfhehQOcUAlBoGVQ1txQIts5/upsXFA/tR46SYBckBvEoPAylFyQGmR7Xw/nXJAYxBYObTockD8qfHSTSJzQIlBYOXQYnNAEoPAyqGlc0CWQ4ts5+tzQCUGgZVDK3RAMzMzMzNrdECzne+nxrN0QKRwPQrXA3VArkfhehRGdUAtsp3vp451QCuHFtnO13VAVg4tsp0HdkDHSzeJQVh2QG8Sg8DKiXZACKwcWmTDdkDLoUW28+V2QFK4HoXrKXdAYxBYObRod0Dwp8ZLN6l3QAaBlUOL5HdAvHSTGAQOeEBcj8L1KER4QAaBlUOLdHhAqMZLN4mpeEBqvHSTGMx4QIlBYOXQAnlAMQisHFo0eUCUGARWDkV5QLByaJHtfHlAg8DKoUWWeUA5tMh2vr95QHe+nxov5XlAxSCwcmgBekDufD81XjJ6QLkehetRUHpAbxKDwMp5ekD+1HjpJrl6QEw3iUFg1XpAqMZLN4npekDy0k1iEAh7QKabxCCwMntAYeXQIttZe0Aw3SQGgXV7QH9qvHSTkHtAzczMzMyse0CXbhKDwMp7QBkEVg4tgntAYxBYObSge0BOYhBYOax7QBov3SQGyXtAcT0K16Pge0A3iUFg5QB8QJHtfD81FnxA6iYxCKwsfEC8dJMYBEZ8QCUGgZVDU3xAZDvfT413fEBt5/up8XJ8QEW28/3UiHxAGQRWDi2ifED6fmq8dLN8QJQYBFYOpXxAYeXQItvBfEB1kxgEVrZ8QPhT46WbtHxAAiuHFtmufEDTTWIQWMl8QC2yne+n3nxANV66SQzafECq8dJNYuB8QIts5/up8XxAVg4tsp3HfEA/NV66SdR8QOF6FK5HwXxAEoPAyqHtfECvR+F6FN58QKFFtvP95HxAXrpJDALDfEA=\"},\"shape\":[124],\"dtype\":\"float64\",\"order\":\"little\"}]]}}},\"view\":{\"type\":\"object\",\"name\":\"CDSView\",\"id\":\"p1218\",\"attributes\":{\"filter\":{\"type\":\"object\",\"name\":\"AllIndices\",\"id\":\"p1219\"}}},\"glyph\":{\"type\":\"object\",\"name\":\"Line\",\"id\":\"p1214\",\"attributes\":{\"x\":{\"type\":\"field\",\"field\":\"x\"},\"y\":{\"type\":\"field\",\"field\":\"y\"},\"line_color\":\"deepskyblue\",\"line_width\":2}},\"nonselection_glyph\":{\"type\":\"object\",\"name\":\"Line\",\"id\":\"p1215\",\"attributes\":{\"x\":{\"type\":\"field\",\"field\":\"x\"},\"y\":{\"type\":\"field\",\"field\":\"y\"},\"line_color\":\"deepskyblue\",\"line_alpha\":0.1,\"line_width\":2}},\"muted_glyph\":{\"type\":\"object\",\"name\":\"Line\",\"id\":\"p1216\",\"attributes\":{\"x\":{\"type\":\"field\",\"field\":\"x\"},\"y\":{\"type\":\"field\",\"field\":\"y\"},\"line_color\":\"deepskyblue\",\"line_alpha\":0.2,\"line_width\":2}}}}],\"toolbar\":{\"type\":\"object\",\"name\":\"Toolbar\",\"id\":\"p1010\",\"attributes\":{\"tools\":[{\"type\":\"object\",\"name\":\"PanTool\",\"id\":\"p1025\"},{\"type\":\"object\",\"name\":\"WheelZoomTool\",\"id\":\"p1026\"},{\"type\":\"object\",\"name\":\"BoxZoomTool\",\"id\":\"p1027\",\"attributes\":{\"overlay\":{\"type\":\"object\",\"name\":\"BoxAnnotation\",\"id\":\"p1028\",\"attributes\":{\"syncable\":false,\"level\":\"overlay\",\"visible\":false,\"left_units\":\"canvas\",\"right_units\":\"canvas\",\"bottom_units\":\"canvas\",\"top_units\":\"canvas\",\"line_color\":\"black\",\"line_alpha\":1.0,\"line_width\":2,\"line_dash\":[4,4],\"fill_color\":\"lightgrey\",\"fill_alpha\":0.5}}}},{\"type\":\"object\",\"name\":\"SaveTool\",\"id\":\"p1029\"},{\"type\":\"object\",\"name\":\"ResetTool\",\"id\":\"p1030\"},{\"type\":\"object\",\"name\":\"HelpTool\",\"id\":\"p1031\"}]}},\"left\":[{\"type\":\"object\",\"name\":\"LinearAxis\",\"id\":\"p1020\",\"attributes\":{\"ticker\":{\"type\":\"object\",\"name\":\"BasicTicker\",\"id\":\"p1021\",\"attributes\":{\"mantissas\":[1,2,5]}},\"formatter\":{\"type\":\"object\",\"name\":\"BasicTickFormatter\",\"id\":\"p1022\"},\"axis_label\":\"km/h\",\"major_label_policy\":{\"type\":\"object\",\"name\":\"AllLabels\",\"id\":\"p1023\"}}}],\"below\":[{\"type\":\"object\",\"name\":\"LinearAxis\",\"id\":\"p1015\",\"attributes\":{\"ticker\":{\"type\":\"object\",\"name\":\"BasicTicker\",\"id\":\"p1016\",\"attributes\":{\"mantissas\":[1,2,5]}},\"formatter\":{\"type\":\"object\",\"name\":\"BasicTickFormatter\",\"id\":\"p1017\"},\"axis_label\":\"seconds from exit\",\"major_label_policy\":{\"type\":\"object\",\"name\":\"AllLabels\",\"id\":\"p1018\"}}}],\"center\":[{\"type\":\"object\",\"name\":\"Grid\",\"id\":\"p1019\",\"attributes\":{\"axis\":{\"id\":\"p1015\"}}},{\"type\":\"object\",\"name\":\"Grid\",\"id\":\"p1024\",\"attributes\":{\"dimension\":1,\"axis\":{\"id\":\"p1020\"}}},{\"type\":\"object\",\"name\":\"Legend\",\"id\":\"p1094\",\"attributes\":{\"items\":[{\"type\":\"object\",\"name\":\"LegendItem\",\"id\":\"p1095\",\"attributes\":{\"label\":{\"type\":\"value\",\"value\":\"speed\"},\"renderers\":[{\"id\":\"p1091\"},{\"id\":\"p1155\"},{\"id\":\"p1217\"}]}}]}}]}}]}};\n",
       "  const render_items = [{\"docid\":\"62a2fa55-5539-4ce0-b492-55d9c96e472b\",\"roots\":{\"p1001\":\"f5a1cbb2-df31-43e0-9013-2fd7477d55f6\"},\"root_ids\":[\"p1001\"]}];\n",
       "  root.Bokeh.embed.embed_items_notebook(docs_json, render_items);\n",
       "  }\n",
       "  if (root.Bokeh !== undefined) {\n",
       "    embed_document(root);\n",
       "  } else {\n",
       "    let attempts = 0;\n",
       "    const timer = setInterval(function(root) {\n",
       "      if (root.Bokeh !== undefined) {\n",
       "        clearInterval(timer);\n",
       "        embed_document(root);\n",
       "      } else {\n",
       "        attempts++;\n",
       "        if (attempts > 100) {\n",
       "          clearInterval(timer);\n",
       "          console.log(\"Bokeh: ERROR: Unable to run BokehJS code because BokehJS library is missing\");\n",
       "        }\n",
       "      }\n",
       "    }, 10, root)\n",
       "  }\n",
       "})(window);"
      ],
      "application/vnd.bokehjs_exec.v0+json": ""
     },
     "metadata": {
      "application/vnd.bokehjs_exec.v0+json": {
       "id": "p1001"
      }
     },
     "output_type": "display_data"
    }
   ],
   "source": [
    "bp.show(allJumpsPlot)"
   ]
  },
  {
   "cell_type": "markdown",
   "id": "aa8f1173-7b0a-4739-8cf8-a616946a7dd4",
   "metadata": {},
   "source": [
    "##### "
   ]
  }
 ],
 "metadata": {
  "kernelspec": {
   "display_name": "Python 3 (ipykernel)",
   "language": "python",
   "name": "python3"
  },
  "language_info": {
   "codemirror_mode": {
    "name": "ipython",
    "version": 3
   },
   "file_extension": ".py",
   "mimetype": "text/x-python",
   "name": "python",
   "nbconvert_exporter": "python",
   "pygments_lexer": "ipython3",
   "version": "3.11.4"
  }
 },
 "nbformat": 4,
 "nbformat_minor": 5
}
