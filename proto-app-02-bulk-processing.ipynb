{
 "cells": [
  {
   "cell_type": "markdown",
   "id": "36a745d9-2003-496e-a394-290f63a970b7",
   "metadata": {},
   "source": [
    "# Bulk processing\n",
    "\n",
    "Take all the jump files in a data lake and process them as a group.  Produce the mean results for scores, max speed, curves, and the 5-second partial results.\n",
    "\n",
    "Conforming to Lucyfer's default configuration, the data lake starts at the `./data` directory and includes any and all files below it."
   ]
  },
  {
   "cell_type": "code",
   "execution_count": null,
   "id": "98c7a164-9492-4672-904b-5bf3abf61773",
   "metadata": {},
   "outputs": [],
   "source": [
    "from copy import deepcopy\n",
    "\n",
    "from ssscoring import convertFlySight2SSScoring\n",
    "from ssscoring import dropNonSkydiveDataFrom\n",
    "from ssscoring import getSpeedSkydiveFrom\n",
    "from ssscoring import isValidJump\n",
    "from ssscoring import jumpAnalysisTable\n",
    "from ssscoring.notebook import processJump\n",
    "\n",
    "import csv\n",
    "import os\n",
    "import os.path as path\n",
    "\n",
    "import pandas as pd"
   ]
  },
  {
   "cell_type": "code",
   "execution_count": null,
   "id": "b9813c03-a15a-488c-b77b-682c35bd3219",
   "metadata": {},
   "outputs": [],
   "source": [
    "DATA_LAKE_ROOT = './data' # Lucyfer default\n",
    "FLYSIGHT_HEADER = set([ 'time', 'lat', 'lon', 'hMSL', 'velN', 'velE', 'velD', 'hAcc', 'vAcc', 'sAcc', 'heading', 'cAcc', 'gpsFix', 'numSV', ])\n",
    "IGNORE_LIST = [ '.ipynb_checkpoints', ]\n",
    "MIN_JUMP_FILE_SIZE = 1024*1024"
   ]
  },
  {
   "cell_type": "markdown",
   "id": "2cb8a0d9-486a-4937-82f7-ca6cf18695d5",
   "metadata": {},
   "source": [
    "## Get a list of all FlySight files in the data lake\n",
    "\n",
    "This also discards all files that don't reflect a valid jump:\n",
    "\n",
    "- Detect the files by size and discard any file smaller than `MIN_JUMP_FILE_SIZE`\n",
    "- Detect that each file has the FlySight header on the first line"
   ]
  },
  {
   "cell_type": "code",
   "execution_count": null,
   "id": "daa65e13-6f1c-4afd-a5a2-cc3efd7e8551",
   "metadata": {},
   "outputs": [],
   "source": [
    "def validFlySightHeaderIn(fileCSV: str) -> bool:\n",
    "    \"\"\"\n",
    "    Checks if a file is a CSV in FlySight format.\n",
    "\n",
    "    Arguments\n",
    "    ---------\n",
    "        fileCSV\n",
    "    A file name to verify as a valid FlySight file\n",
    "\n",
    "    Returns\n",
    "    -------\n",
    "    `True` if `fileCSV` is a FlySight CSV file, otherwise `False`.\n",
    "    \"\"\"\n",
    "    delimiters =  [',', ]\n",
    "    with open(fileCSV, 'r') as inputFile:\n",
    "        dialect = csv.Sniffer().sniff(inputFile.readline(), delimiters = delimiters)\n",
    "        if dialect.delimiter in delimiters:\n",
    "            inputFile.seek(0)\n",
    "            header = next(csv.reader(inputFile))\n",
    "        else:\n",
    "            return False\n",
    "\n",
    "    return FLYSIGHT_HEADER.issubset(header)"
   ]
  },
  {
   "cell_type": "code",
   "execution_count": null,
   "id": "bf8dadf2-8722-481f-b57b-79f7abeec120",
   "metadata": {},
   "outputs": [],
   "source": [
    "jumpFiles = list()\n",
    "for root, dirs, files in os.walk(DATA_LAKE_ROOT):\n",
    "    if any(name in root for name in IGNORE_LIST):\n",
    "        continue\n",
    "    for fileName in files:\n",
    "        if 'CSV' in fileName:\n",
    "            jumpFileName = path.join(root, fileName)\n",
    "            stat = os.stat(jumpFileName)\n",
    "            if stat.st_size >= MIN_JUMP_FILE_SIZE and validFlySightHeaderIn(jumpFileName):\n",
    "                jumpFiles.append(jumpFileName)"
   ]
  },
  {
   "cell_type": "markdown",
   "id": "98730ca7-a799-4e2b-860d-5ccd0d5ca30e",
   "metadata": {},
   "source": [
    "---\n",
    "## Process all files"
   ]
  },
  {
   "cell_type": "code",
   "execution_count": null,
   "id": "3c9b5066-840f-41d6-a123-df0765562cfa",
   "metadata": {},
   "outputs": [],
   "source": [
    "jumpResults = list()\n",
    "for jumpFile in jumpFiles:\n",
    "    jumpResults.append(processJump(\n",
    "        convertFlySight2SSScoring(\n",
    "            pd.read_csv(jumpFile, skiprows = (1, 1)))))"
   ]
  },
  {
   "cell_type": "code",
   "execution_count": null,
   "id": "8ae84ae4-ee83-48b1-8db8-3ddfaf51c06e",
   "metadata": {},
   "outputs": [],
   "source": [
    "jumpResults[0]._fields"
   ]
  },
  {
   "cell_type": "code",
   "execution_count": null,
   "id": "f4b90254-30c2-4fa1-9485-b9a1715ae224",
   "metadata": {},
   "outputs": [],
   "source": [
    "jumpResults[0].table"
   ]
  },
  {
   "cell_type": "code",
   "execution_count": null,
   "id": "b5c6d2f6-13da-4535-a5cb-c80a0495b5d1",
   "metadata": {},
   "outputs": [],
   "source": [
    "jumpResults[0].table.columns"
   ]
  },
  {
   "cell_type": "code",
   "execution_count": null,
   "id": "2784b839-9749-405b-a437-fbd36321c51a",
   "metadata": {},
   "outputs": [],
   "source": [
    "x = pd.pivot_table(jumpResults[0].table, columns = jumpResults[0].table.time)\n",
    "x.drop('altitude (ft)')"
   ]
  },
  {
   "cell_type": "code",
   "execution_count": null,
   "id": "d288a0b0-876a-44d5-8cd5-79610b8804f8",
   "metadata": {},
   "outputs": [],
   "source": []
  }
 ],
 "metadata": {
  "kernelspec": {
   "display_name": "Python 3 (ipykernel)",
   "language": "python",
   "name": "python3"
  },
  "language_info": {
   "codemirror_mode": {
    "name": "ipython",
    "version": 3
   },
   "file_extension": ".py",
   "mimetype": "text/x-python",
   "name": "python",
   "nbconvert_exporter": "python",
   "pygments_lexer": "ipython3",
   "version": "3.11.4"
  }
 },
 "nbformat": 4,
 "nbformat_minor": 5
}
