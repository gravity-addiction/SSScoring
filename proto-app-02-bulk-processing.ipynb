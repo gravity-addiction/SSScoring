{
 "cells": [
  {
   "cell_type": "markdown",
   "id": "36a745d9-2003-496e-a394-290f63a970b7",
   "metadata": {},
   "source": [
    "# Bulk processing\n",
    "\n",
    "Take all the jump files in a data lake and process them as a group.  Produce the mean results for scores, max speed, curves, and the 5-second partial results.\n",
    "\n",
    "Conforming to Lucyfer's default configuration, the data lake starts at the `./data` directory and includes any and all files below it."
   ]
  },
  {
   "cell_type": "markdown",
   "id": "22e5f6e1-08a9-4dd2-91b2-880ae9102976",
   "metadata": {},
   "source": [
    "---\n",
    "## Prepare the environment"
   ]
  },
  {
   "cell_type": "code",
   "execution_count": 101,
   "id": "98c7a164-9492-4672-904b-5bf3abf61773",
   "metadata": {},
   "outputs": [],
   "source": [
    "from collections import namedtuple\n",
    "from copy import deepcopy\n",
    "\n",
    "from ssscoring import ALTITUDE_SKYDIVE_PARACLETE_XP\n",
    "from ssscoring import BREAKOFF_ALTITUDE\n",
    "from ssscoring import PERFORMANCE_WINDOW_LENGTH\n",
    "from ssscoring import convertFlySight2SSScoring\n",
    "from ssscoring import dropNonSkydiveDataFrom\n",
    "from ssscoring import getAllSpeedJumpFilesFrom\n",
    "from ssscoring import getSpeedSkydiveFrom\n",
    "from ssscoring import isValidJump\n",
    "from ssscoring import jumpAnalysisTable\n",
    "from ssscoring import validFlySightHeaderIn\n",
    "from ssscoring.notebook import processJump\n",
    "\n",
    "import csv\n",
    "import os\n",
    "import os.path as path\n",
    "\n",
    "import bokeh.plotting as bp\n",
    "import ipywidgets as widgets\n",
    "import pandas as pd"
   ]
  },
  {
   "cell_type": "code",
   "execution_count": 102,
   "id": "b9813c03-a15a-488c-b77b-682c35bd3219",
   "metadata": {},
   "outputs": [],
   "source": [
    "DATA_LAKE_ROOT = './data' # Lucyfer default\n",
    "FLYSIGHT_HEADER = set([ 'time', 'lat', 'lon', 'hMSL', 'velN', 'velE', 'velD', 'hAcc', 'vAcc', 'sAcc', 'heading', 'cAcc', 'gpsFix', 'numSV', ])\n",
    "IGNORE_LIST = [ '.ipynb_checkpoints', ]\n",
    "MIN_JUMP_FILE_SIZE = 1024*512\n",
    "LAST_TIME_TRANCHE = 25.0\n",
    "SPEED_COLORS = colors = ('blue', 'limegreen', 'tomato', 'turquoise', 'deepskyblue', 'forestgreen', 'coral', 'darkcyan',)"
   ]
  },
  {
   "cell_type": "code",
   "execution_count": 103,
   "id": "fa17d3d4-a06d-439a-b885-e8cb761ef085",
   "metadata": {},
   "outputs": [
    {
     "data": {
      "text/html": [
       "<style>\n",
       "        .bk-notebook-logo {\n",
       "            display: block;\n",
       "            width: 20px;\n",
       "            height: 20px;\n",
       "            background-image: url(data:image/png;base64,iVBORw0KGgoAAAANSUhEUgAAABQAAAAUCAYAAACNiR0NAAAABHNCSVQICAgIfAhkiAAAAAlwSFlzAAALEgAACxIB0t1+/AAAABx0RVh0U29mdHdhcmUAQWRvYmUgRmlyZXdvcmtzIENTNui8sowAAAOkSURBVDiNjZRtaJVlGMd/1/08zzln5zjP1LWcU9N0NkN8m2CYjpgQYQXqSs0I84OLIC0hkEKoPtiH3gmKoiJDU7QpLgoLjLIQCpEsNJ1vqUOdO7ppbuec5+V+rj4ctwzd8IIbbi6u+8f1539dt3A78eXC7QizUF7gyV1fD1Yqg4JWz84yffhm0qkFqBogB9rM8tZdtwVsPUhWhGcFJngGeWrPzHm5oaMmkfEg1usvLFyc8jLRqDOMru7AyC8saQr7GG7f5fvDeH7Ej8CM66nIF+8yngt6HWaKh7k49Soy9nXurCi1o3qUbS3zWfrYeQDTB/Qj6kX6Ybhw4B+bOYoLKCC9H3Nu/leUTZ1JdRWkkn2ldcCamzrcf47KKXdAJllSlxAOkRgyHsGC/zRday5Qld9DyoM4/q/rUoy/CXh3jzOu3bHUVZeU+DEn8FInkPBFlu3+nW3Nw0mk6vCDiWg8CeJaxEwuHS3+z5RgY+YBR6V1Z1nxSOfoaPa4LASWxxdNp+VWTk7+4vzaou8v8PN+xo+KY2xsw6une2frhw05CTYOmQvsEhjhWjn0bmXPjpE1+kplmmkP3suftwTubK9Vq22qKmrBhpY4jvd5afdRA3wGjFAgcnTK2s4hY0/GPNIb0nErGMCRxWOOX64Z8RAC4oCXdklmEvcL8o0BfkNK4lUg9HTl+oPlQxdNo3Mg4Nv175e/1LDGzZen30MEjRUtmXSfiTVu1kK8W4txyV6BMKlbgk3lMwYCiusNy9fVfvvwMxv8Ynl6vxoByANLTWplvuj/nF9m2+PDtt1eiHPBr1oIfhCChQMBw6Aw0UulqTKZdfVvfG7VcfIqLG9bcldL/+pdWTLxLUy8Qq38heUIjh4XlzZxzQm19lLFlr8vdQ97rjZVOLf8nclzckbcD4wxXMidpX30sFd37Fv/GtwwhzhxGVAprjbg0gCAEeIgwCZyTV2Z1REEW8O4py0wsjeloKoMr6iCY6dP92H6Vw/oTyICIthibxjm/DfN9lVz8IqtqKYLUXfoKVMVQVVJOElGjrnnUt9T9wbgp8AyYKaGlqingHZU/uG2NTZSVqwHQTWkx9hxjkpWDaCg6Ckj5qebgBVbT3V3NNXMSiWSDdGV3hrtzla7J+duwPOToIg42ChPQOQjspnSlp1V+Gjdged7+8UN5CRAV7a5EdFNwCjEaBR27b3W890TE7g24NAP/mMDXRWrGoFPQI9ls/MWO2dWFAar/xcOIImbbpA3zgAAAABJRU5ErkJggg==);\n",
       "        }\n",
       "    </style>\n",
       "    <div>\n",
       "        <a href=\"https://bokeh.org\" target=\"_blank\" class=\"bk-notebook-logo\"></a>\n",
       "        <span id=\"cbb9cd03-a26f-4c9b-ab09-09e9b6969367\">Loading BokehJS ...</span>\n",
       "    </div>\n"
      ]
     },
     "metadata": {},
     "output_type": "display_data"
    },
    {
     "data": {
      "application/javascript": [
       "(function(root) {\n",
       "  function now() {\n",
       "    return new Date();\n",
       "  }\n",
       "\n",
       "  const force = true;\n",
       "\n",
       "  if (typeof root._bokeh_onload_callbacks === \"undefined\" || force === true) {\n",
       "    root._bokeh_onload_callbacks = [];\n",
       "    root._bokeh_is_loading = undefined;\n",
       "  }\n",
       "\n",
       "const JS_MIME_TYPE = 'application/javascript';\n",
       "  const HTML_MIME_TYPE = 'text/html';\n",
       "  const EXEC_MIME_TYPE = 'application/vnd.bokehjs_exec.v0+json';\n",
       "  const CLASS_NAME = 'output_bokeh rendered_html';\n",
       "\n",
       "  /**\n",
       "   * Render data to the DOM node\n",
       "   */\n",
       "  function render(props, node) {\n",
       "    const script = document.createElement(\"script\");\n",
       "    node.appendChild(script);\n",
       "  }\n",
       "\n",
       "  /**\n",
       "   * Handle when an output is cleared or removed\n",
       "   */\n",
       "  function handleClearOutput(event, handle) {\n",
       "    const cell = handle.cell;\n",
       "\n",
       "    const id = cell.output_area._bokeh_element_id;\n",
       "    const server_id = cell.output_area._bokeh_server_id;\n",
       "    // Clean up Bokeh references\n",
       "    if (id != null && id in Bokeh.index) {\n",
       "      Bokeh.index[id].model.document.clear();\n",
       "      delete Bokeh.index[id];\n",
       "    }\n",
       "\n",
       "    if (server_id !== undefined) {\n",
       "      // Clean up Bokeh references\n",
       "      const cmd_clean = \"from bokeh.io.state import curstate; print(curstate().uuid_to_server['\" + server_id + \"'].get_sessions()[0].document.roots[0]._id)\";\n",
       "      cell.notebook.kernel.execute(cmd_clean, {\n",
       "        iopub: {\n",
       "          output: function(msg) {\n",
       "            const id = msg.content.text.trim();\n",
       "            if (id in Bokeh.index) {\n",
       "              Bokeh.index[id].model.document.clear();\n",
       "              delete Bokeh.index[id];\n",
       "            }\n",
       "          }\n",
       "        }\n",
       "      });\n",
       "      // Destroy server and session\n",
       "      const cmd_destroy = \"import bokeh.io.notebook as ion; ion.destroy_server('\" + server_id + \"')\";\n",
       "      cell.notebook.kernel.execute(cmd_destroy);\n",
       "    }\n",
       "  }\n",
       "\n",
       "  /**\n",
       "   * Handle when a new output is added\n",
       "   */\n",
       "  function handleAddOutput(event, handle) {\n",
       "    const output_area = handle.output_area;\n",
       "    const output = handle.output;\n",
       "\n",
       "    // limit handleAddOutput to display_data with EXEC_MIME_TYPE content only\n",
       "    if ((output.output_type != \"display_data\") || (!Object.prototype.hasOwnProperty.call(output.data, EXEC_MIME_TYPE))) {\n",
       "      return\n",
       "    }\n",
       "\n",
       "    const toinsert = output_area.element.find(\".\" + CLASS_NAME.split(' ')[0]);\n",
       "\n",
       "    if (output.metadata[EXEC_MIME_TYPE][\"id\"] !== undefined) {\n",
       "      toinsert[toinsert.length - 1].firstChild.textContent = output.data[JS_MIME_TYPE];\n",
       "      // store reference to embed id on output_area\n",
       "      output_area._bokeh_element_id = output.metadata[EXEC_MIME_TYPE][\"id\"];\n",
       "    }\n",
       "    if (output.metadata[EXEC_MIME_TYPE][\"server_id\"] !== undefined) {\n",
       "      const bk_div = document.createElement(\"div\");\n",
       "      bk_div.innerHTML = output.data[HTML_MIME_TYPE];\n",
       "      const script_attrs = bk_div.children[0].attributes;\n",
       "      for (let i = 0; i < script_attrs.length; i++) {\n",
       "        toinsert[toinsert.length - 1].firstChild.setAttribute(script_attrs[i].name, script_attrs[i].value);\n",
       "        toinsert[toinsert.length - 1].firstChild.textContent = bk_div.children[0].textContent\n",
       "      }\n",
       "      // store reference to server id on output_area\n",
       "      output_area._bokeh_server_id = output.metadata[EXEC_MIME_TYPE][\"server_id\"];\n",
       "    }\n",
       "  }\n",
       "\n",
       "  function register_renderer(events, OutputArea) {\n",
       "\n",
       "    function append_mime(data, metadata, element) {\n",
       "      // create a DOM node to render to\n",
       "      const toinsert = this.create_output_subarea(\n",
       "        metadata,\n",
       "        CLASS_NAME,\n",
       "        EXEC_MIME_TYPE\n",
       "      );\n",
       "      this.keyboard_manager.register_events(toinsert);\n",
       "      // Render to node\n",
       "      const props = {data: data, metadata: metadata[EXEC_MIME_TYPE]};\n",
       "      render(props, toinsert[toinsert.length - 1]);\n",
       "      element.append(toinsert);\n",
       "      return toinsert\n",
       "    }\n",
       "\n",
       "    /* Handle when an output is cleared or removed */\n",
       "    events.on('clear_output.CodeCell', handleClearOutput);\n",
       "    events.on('delete.Cell', handleClearOutput);\n",
       "\n",
       "    /* Handle when a new output is added */\n",
       "    events.on('output_added.OutputArea', handleAddOutput);\n",
       "\n",
       "    /**\n",
       "     * Register the mime type and append_mime function with output_area\n",
       "     */\n",
       "    OutputArea.prototype.register_mime_type(EXEC_MIME_TYPE, append_mime, {\n",
       "      /* Is output safe? */\n",
       "      safe: true,\n",
       "      /* Index of renderer in `output_area.display_order` */\n",
       "      index: 0\n",
       "    });\n",
       "  }\n",
       "\n",
       "  // register the mime type if in Jupyter Notebook environment and previously unregistered\n",
       "  if (root.Jupyter !== undefined) {\n",
       "    const events = require('base/js/events');\n",
       "    const OutputArea = require('notebook/js/outputarea').OutputArea;\n",
       "\n",
       "    if (OutputArea.prototype.mime_types().indexOf(EXEC_MIME_TYPE) == -1) {\n",
       "      register_renderer(events, OutputArea);\n",
       "    }\n",
       "  }\n",
       "  if (typeof (root._bokeh_timeout) === \"undefined\" || force === true) {\n",
       "    root._bokeh_timeout = Date.now() + 5000;\n",
       "    root._bokeh_failed_load = false;\n",
       "  }\n",
       "\n",
       "  const NB_LOAD_WARNING = {'data': {'text/html':\n",
       "     \"<div style='background-color: #fdd'>\\n\"+\n",
       "     \"<p>\\n\"+\n",
       "     \"BokehJS does not appear to have successfully loaded. If loading BokehJS from CDN, this \\n\"+\n",
       "     \"may be due to a slow or bad network connection. Possible fixes:\\n\"+\n",
       "     \"</p>\\n\"+\n",
       "     \"<ul>\\n\"+\n",
       "     \"<li>re-rerun `output_notebook()` to attempt to load from CDN again, or</li>\\n\"+\n",
       "     \"<li>use INLINE resources instead, as so:</li>\\n\"+\n",
       "     \"</ul>\\n\"+\n",
       "     \"<code>\\n\"+\n",
       "     \"from bokeh.resources import INLINE\\n\"+\n",
       "     \"output_notebook(resources=INLINE)\\n\"+\n",
       "     \"</code>\\n\"+\n",
       "     \"</div>\"}};\n",
       "\n",
       "  function display_loaded() {\n",
       "    const el = document.getElementById(\"cbb9cd03-a26f-4c9b-ab09-09e9b6969367\");\n",
       "    if (el != null) {\n",
       "      el.textContent = \"BokehJS is loading...\";\n",
       "    }\n",
       "    if (root.Bokeh !== undefined) {\n",
       "      if (el != null) {\n",
       "        el.textContent = \"BokehJS \" + root.Bokeh.version + \" successfully loaded.\";\n",
       "      }\n",
       "    } else if (Date.now() < root._bokeh_timeout) {\n",
       "      setTimeout(display_loaded, 100)\n",
       "    }\n",
       "  }\n",
       "\n",
       "  function run_callbacks() {\n",
       "    try {\n",
       "      root._bokeh_onload_callbacks.forEach(function(callback) {\n",
       "        if (callback != null)\n",
       "          callback();\n",
       "      });\n",
       "    } finally {\n",
       "      delete root._bokeh_onload_callbacks\n",
       "    }\n",
       "    console.debug(\"Bokeh: all callbacks have finished\");\n",
       "  }\n",
       "\n",
       "  function load_libs(css_urls, js_urls, callback) {\n",
       "    if (css_urls == null) css_urls = [];\n",
       "    if (js_urls == null) js_urls = [];\n",
       "\n",
       "    root._bokeh_onload_callbacks.push(callback);\n",
       "    if (root._bokeh_is_loading > 0) {\n",
       "      console.debug(\"Bokeh: BokehJS is being loaded, scheduling callback at\", now());\n",
       "      return null;\n",
       "    }\n",
       "    if (js_urls == null || js_urls.length === 0) {\n",
       "      run_callbacks();\n",
       "      return null;\n",
       "    }\n",
       "    console.debug(\"Bokeh: BokehJS not loaded, scheduling load and callback at\", now());\n",
       "    root._bokeh_is_loading = css_urls.length + js_urls.length;\n",
       "\n",
       "    function on_load() {\n",
       "      root._bokeh_is_loading--;\n",
       "      if (root._bokeh_is_loading === 0) {\n",
       "        console.debug(\"Bokeh: all BokehJS libraries/stylesheets loaded\");\n",
       "        run_callbacks()\n",
       "      }\n",
       "    }\n",
       "\n",
       "    function on_error(url) {\n",
       "      console.error(\"failed to load \" + url);\n",
       "    }\n",
       "\n",
       "    for (let i = 0; i < css_urls.length; i++) {\n",
       "      const url = css_urls[i];\n",
       "      const element = document.createElement(\"link\");\n",
       "      element.onload = on_load;\n",
       "      element.onerror = on_error.bind(null, url);\n",
       "      element.rel = \"stylesheet\";\n",
       "      element.type = \"text/css\";\n",
       "      element.href = url;\n",
       "      console.debug(\"Bokeh: injecting link tag for BokehJS stylesheet: \", url);\n",
       "      document.body.appendChild(element);\n",
       "    }\n",
       "\n",
       "    for (let i = 0; i < js_urls.length; i++) {\n",
       "      const url = js_urls[i];\n",
       "      const element = document.createElement('script');\n",
       "      element.onload = on_load;\n",
       "      element.onerror = on_error.bind(null, url);\n",
       "      element.async = false;\n",
       "      element.src = url;\n",
       "      console.debug(\"Bokeh: injecting script tag for BokehJS library: \", url);\n",
       "      document.head.appendChild(element);\n",
       "    }\n",
       "  };\n",
       "\n",
       "  function inject_raw_css(css) {\n",
       "    const element = document.createElement(\"style\");\n",
       "    element.appendChild(document.createTextNode(css));\n",
       "    document.body.appendChild(element);\n",
       "  }\n",
       "\n",
       "  const js_urls = [\"https://cdn.bokeh.org/bokeh/release/bokeh-3.2.2.min.js\", \"https://cdn.bokeh.org/bokeh/release/bokeh-gl-3.2.2.min.js\", \"https://cdn.bokeh.org/bokeh/release/bokeh-widgets-3.2.2.min.js\", \"https://cdn.bokeh.org/bokeh/release/bokeh-tables-3.2.2.min.js\", \"https://cdn.bokeh.org/bokeh/release/bokeh-mathjax-3.2.2.min.js\"];\n",
       "  const css_urls = [];\n",
       "\n",
       "  const inline_js = [    function(Bokeh) {\n",
       "      Bokeh.set_log_level(\"info\");\n",
       "    },\n",
       "function(Bokeh) {\n",
       "    }\n",
       "  ];\n",
       "\n",
       "  function run_inline_js() {\n",
       "    if (root.Bokeh !== undefined || force === true) {\n",
       "          for (let i = 0; i < inline_js.length; i++) {\n",
       "      inline_js[i].call(root, root.Bokeh);\n",
       "    }\n",
       "if (force === true) {\n",
       "        display_loaded();\n",
       "      }} else if (Date.now() < root._bokeh_timeout) {\n",
       "      setTimeout(run_inline_js, 100);\n",
       "    } else if (!root._bokeh_failed_load) {\n",
       "      console.log(\"Bokeh: BokehJS failed to load within specified timeout.\");\n",
       "      root._bokeh_failed_load = true;\n",
       "    } else if (force !== true) {\n",
       "      const cell = $(document.getElementById(\"cbb9cd03-a26f-4c9b-ab09-09e9b6969367\")).parents('.cell').data().cell;\n",
       "      cell.output_area.append_execute_result(NB_LOAD_WARNING)\n",
       "    }\n",
       "  }\n",
       "\n",
       "  if (root._bokeh_is_loading === 0) {\n",
       "    console.debug(\"Bokeh: BokehJS loaded, going straight to plotting\");\n",
       "    run_inline_js();\n",
       "  } else {\n",
       "    load_libs(css_urls, js_urls, function() {\n",
       "      console.debug(\"Bokeh: BokehJS plotting callback run at\", now());\n",
       "      run_inline_js();\n",
       "    });\n",
       "  }\n",
       "}(window));"
      ],
      "application/vnd.bokehjs_load.v0+json": "(function(root) {\n  function now() {\n    return new Date();\n  }\n\n  const force = true;\n\n  if (typeof root._bokeh_onload_callbacks === \"undefined\" || force === true) {\n    root._bokeh_onload_callbacks = [];\n    root._bokeh_is_loading = undefined;\n  }\n\n\n  if (typeof (root._bokeh_timeout) === \"undefined\" || force === true) {\n    root._bokeh_timeout = Date.now() + 5000;\n    root._bokeh_failed_load = false;\n  }\n\n  const NB_LOAD_WARNING = {'data': {'text/html':\n     \"<div style='background-color: #fdd'>\\n\"+\n     \"<p>\\n\"+\n     \"BokehJS does not appear to have successfully loaded. If loading BokehJS from CDN, this \\n\"+\n     \"may be due to a slow or bad network connection. Possible fixes:\\n\"+\n     \"</p>\\n\"+\n     \"<ul>\\n\"+\n     \"<li>re-rerun `output_notebook()` to attempt to load from CDN again, or</li>\\n\"+\n     \"<li>use INLINE resources instead, as so:</li>\\n\"+\n     \"</ul>\\n\"+\n     \"<code>\\n\"+\n     \"from bokeh.resources import INLINE\\n\"+\n     \"output_notebook(resources=INLINE)\\n\"+\n     \"</code>\\n\"+\n     \"</div>\"}};\n\n  function display_loaded() {\n    const el = document.getElementById(\"cbb9cd03-a26f-4c9b-ab09-09e9b6969367\");\n    if (el != null) {\n      el.textContent = \"BokehJS is loading...\";\n    }\n    if (root.Bokeh !== undefined) {\n      if (el != null) {\n        el.textContent = \"BokehJS \" + root.Bokeh.version + \" successfully loaded.\";\n      }\n    } else if (Date.now() < root._bokeh_timeout) {\n      setTimeout(display_loaded, 100)\n    }\n  }\n\n  function run_callbacks() {\n    try {\n      root._bokeh_onload_callbacks.forEach(function(callback) {\n        if (callback != null)\n          callback();\n      });\n    } finally {\n      delete root._bokeh_onload_callbacks\n    }\n    console.debug(\"Bokeh: all callbacks have finished\");\n  }\n\n  function load_libs(css_urls, js_urls, callback) {\n    if (css_urls == null) css_urls = [];\n    if (js_urls == null) js_urls = [];\n\n    root._bokeh_onload_callbacks.push(callback);\n    if (root._bokeh_is_loading > 0) {\n      console.debug(\"Bokeh: BokehJS is being loaded, scheduling callback at\", now());\n      return null;\n    }\n    if (js_urls == null || js_urls.length === 0) {\n      run_callbacks();\n      return null;\n    }\n    console.debug(\"Bokeh: BokehJS not loaded, scheduling load and callback at\", now());\n    root._bokeh_is_loading = css_urls.length + js_urls.length;\n\n    function on_load() {\n      root._bokeh_is_loading--;\n      if (root._bokeh_is_loading === 0) {\n        console.debug(\"Bokeh: all BokehJS libraries/stylesheets loaded\");\n        run_callbacks()\n      }\n    }\n\n    function on_error(url) {\n      console.error(\"failed to load \" + url);\n    }\n\n    for (let i = 0; i < css_urls.length; i++) {\n      const url = css_urls[i];\n      const element = document.createElement(\"link\");\n      element.onload = on_load;\n      element.onerror = on_error.bind(null, url);\n      element.rel = \"stylesheet\";\n      element.type = \"text/css\";\n      element.href = url;\n      console.debug(\"Bokeh: injecting link tag for BokehJS stylesheet: \", url);\n      document.body.appendChild(element);\n    }\n\n    for (let i = 0; i < js_urls.length; i++) {\n      const url = js_urls[i];\n      const element = document.createElement('script');\n      element.onload = on_load;\n      element.onerror = on_error.bind(null, url);\n      element.async = false;\n      element.src = url;\n      console.debug(\"Bokeh: injecting script tag for BokehJS library: \", url);\n      document.head.appendChild(element);\n    }\n  };\n\n  function inject_raw_css(css) {\n    const element = document.createElement(\"style\");\n    element.appendChild(document.createTextNode(css));\n    document.body.appendChild(element);\n  }\n\n  const js_urls = [\"https://cdn.bokeh.org/bokeh/release/bokeh-3.2.2.min.js\", \"https://cdn.bokeh.org/bokeh/release/bokeh-gl-3.2.2.min.js\", \"https://cdn.bokeh.org/bokeh/release/bokeh-widgets-3.2.2.min.js\", \"https://cdn.bokeh.org/bokeh/release/bokeh-tables-3.2.2.min.js\", \"https://cdn.bokeh.org/bokeh/release/bokeh-mathjax-3.2.2.min.js\"];\n  const css_urls = [];\n\n  const inline_js = [    function(Bokeh) {\n      Bokeh.set_log_level(\"info\");\n    },\nfunction(Bokeh) {\n    }\n  ];\n\n  function run_inline_js() {\n    if (root.Bokeh !== undefined || force === true) {\n          for (let i = 0; i < inline_js.length; i++) {\n      inline_js[i].call(root, root.Bokeh);\n    }\nif (force === true) {\n        display_loaded();\n      }} else if (Date.now() < root._bokeh_timeout) {\n      setTimeout(run_inline_js, 100);\n    } else if (!root._bokeh_failed_load) {\n      console.log(\"Bokeh: BokehJS failed to load within specified timeout.\");\n      root._bokeh_failed_load = true;\n    } else if (force !== true) {\n      const cell = $(document.getElementById(\"cbb9cd03-a26f-4c9b-ab09-09e9b6969367\")).parents('.cell').data().cell;\n      cell.output_area.append_execute_result(NB_LOAD_WARNING)\n    }\n  }\n\n  if (root._bokeh_is_loading === 0) {\n    console.debug(\"Bokeh: BokehJS loaded, going straight to plotting\");\n    run_inline_js();\n  } else {\n    load_libs(css_urls, js_urls, function() {\n      console.debug(\"Bokeh: BokehJS plotting callback run at\", now());\n      run_inline_js();\n    });\n  }\n}(window));"
     },
     "metadata": {},
     "output_type": "display_data"
    }
   ],
   "source": [
    "bp.output_notebook()"
   ]
  },
  {
   "cell_type": "markdown",
   "id": "2cb8a0d9-486a-4937-82f7-ca6cf18695d5",
   "metadata": {},
   "source": [
    "## Get a list of all FlySight files in the data lake\n",
    "\n",
    "This also discards all files that don't reflect a valid jump:\n",
    "\n",
    "- Detect the files by size and discard any file smaller than `MIN_JUMP_FILE_SIZE`\n",
    "- Detect that each file has the FlySight header on the first line"
   ]
  },
  {
   "cell_type": "code",
   "execution_count": 104,
   "id": "b1273b5c-44c1-46c2-a125-d01ad9268a1a",
   "metadata": {},
   "outputs": [],
   "source": [
    "jumpFiles = getAllSpeedJumpFilesFrom(DATA_LAKE_ROOT)"
   ]
  },
  {
   "cell_type": "markdown",
   "id": "98730ca7-a799-4e2b-860d-5ccd0d5ca30e",
   "metadata": {},
   "source": [
    "---\n",
    "## Process all files"
   ]
  },
  {
   "cell_type": "code",
   "execution_count": 105,
   "id": "d288a0b0-876a-44d5-8cd5-79610b8804f8",
   "metadata": {},
   "outputs": [],
   "source": [
    "resultsIndex = pd.Series((tag for tag in jumpFiles))"
   ]
  },
  {
   "cell_type": "code",
   "execution_count": 106,
   "id": "3c9b5066-840f-41d6-a123-df0765562cfa",
   "metadata": {},
   "outputs": [],
   "source": [
    "jumpResults = dict()\n",
    "for jumpFile in jumpFiles:\n",
    "    jumpResult = processJump(\n",
    "        convertFlySight2SSScoring(\n",
    "            pd.read_csv(jumpFile, skiprows = (1, 1)),\n",
    "            altitudeDZMeters = ALTITUDE_SKYDIVE_PARACLETE_XP))\n",
    "    tag = jumpFile.replace('CSV', '').replace('.', '').replace('/data', '').replace('/', ' ').strip()\n",
    "    if 'valid' in jumpResult.result:\n",
    "        jumpResults[tag] = jumpResult"
   ]
  },
  {
   "cell_type": "markdown",
   "id": "d80518ef-f197-4e40-a74e-8089eecb725a",
   "metadata": {},
   "source": [
    "---\n",
    "## Results"
   ]
  },
  {
   "cell_type": "code",
   "execution_count": 107,
   "id": "9bf86fc3-3537-4f48-8bd5-ff5284910777",
   "metadata": {},
   "outputs": [],
   "source": [
    "def aggregateResults(jumpResults: dict) -> pd.DataFrame:\n",
    "    ref = 0\n",
    "    speeds = pd.DataFrame()\n",
    "    for jumpResultIndex in jumpResults.keys():\n",
    "        jumpResult = jumpResults[jumpResultIndex]\n",
    "        if 'invalid' not in jumpResult.result:\n",
    "            t = jumpResult.table\n",
    "            finalTime = t.iloc[-1].time\n",
    "            t.iloc[-1].time = LAST_TIME_TRANCHE\n",
    "            t = pd.pivot_table(t, columns = t.time)\n",
    "            t.drop(['altitude (ft)'], inplace = True)\n",
    "            d = pd.DataFrame([ jumpResult.score, ], index = [ jumpResultIndex, ], columns = [ 'score', ], dtype = object)\n",
    "            for column in t.columns:\n",
    "                d[column] = t[column][0]\n",
    "            d['finalTime'] = [ finalTime, ]\n",
    "            d['maxSpeed'] = jumpResult.maxSpeed\n",
    "    \n",
    "            if speeds.empty:\n",
    "                speeds = d.copy()\n",
    "            else:\n",
    "                speeds = pd.concat([ speeds, d, ])\n",
    "    return speeds"
   ]
  },
  {
   "cell_type": "code",
   "execution_count": 108,
   "id": "27c12cb1-2f60-44c9-b8fa-998b3df9d878",
   "metadata": {},
   "outputs": [
    {
     "data": {
      "text/html": [
       "<div>\n",
       "<style scoped>\n",
       "    .dataframe tbody tr th:only-of-type {\n",
       "        vertical-align: middle;\n",
       "    }\n",
       "\n",
       "    .dataframe tbody tr th {\n",
       "        vertical-align: top;\n",
       "    }\n",
       "\n",
       "    .dataframe thead th {\n",
       "        text-align: right;\n",
       "    }\n",
       "</style>\n",
       "<table border=\"1\" class=\"dataframe\">\n",
       "  <thead>\n",
       "    <tr style=\"text-align: right;\">\n",
       "      <th></th>\n",
       "      <th>score</th>\n",
       "      <th>5.0</th>\n",
       "      <th>10.0</th>\n",
       "      <th>15.0</th>\n",
       "      <th>20.0</th>\n",
       "      <th>25.0</th>\n",
       "      <th>finalTime</th>\n",
       "      <th>maxSpeed</th>\n",
       "    </tr>\n",
       "  </thead>\n",
       "  <tbody>\n",
       "    <tr>\n",
       "      <th>J01-08-13-13</th>\n",
       "      <td>414.918</td>\n",
       "      <td>178.056</td>\n",
       "      <td>310.824</td>\n",
       "      <td>385.344</td>\n",
       "      <td>406.944</td>\n",
       "      <td>414.540</td>\n",
       "      <td>25.0</td>\n",
       "      <td>418.176</td>\n",
       "    </tr>\n",
       "    <tr>\n",
       "      <th>J02-09-25-25</th>\n",
       "      <td>448.848</td>\n",
       "      <td>180.252</td>\n",
       "      <td>307.692</td>\n",
       "      <td>390.204</td>\n",
       "      <td>431.460</td>\n",
       "      <td>450.828</td>\n",
       "      <td>25.0</td>\n",
       "      <td>452.448</td>\n",
       "    </tr>\n",
       "    <tr>\n",
       "      <th>J03-10-32-58</th>\n",
       "      <td>452.304</td>\n",
       "      <td>177.984</td>\n",
       "      <td>310.284</td>\n",
       "      <td>398.700</td>\n",
       "      <td>444.420</td>\n",
       "      <td>452.448</td>\n",
       "      <td>25.0</td>\n",
       "      <td>453.888</td>\n",
       "    </tr>\n",
       "    <tr>\n",
       "      <th>J04-11-46-19</th>\n",
       "      <td>441.09</td>\n",
       "      <td>179.568</td>\n",
       "      <td>304.560</td>\n",
       "      <td>386.100</td>\n",
       "      <td>428.076</td>\n",
       "      <td>439.884</td>\n",
       "      <td>25.0</td>\n",
       "      <td>442.260</td>\n",
       "    </tr>\n",
       "    <tr>\n",
       "      <th>J05-13-02-44</th>\n",
       "      <td>428.202</td>\n",
       "      <td>178.740</td>\n",
       "      <td>314.388</td>\n",
       "      <td>397.296</td>\n",
       "      <td>416.088</td>\n",
       "      <td>420.768</td>\n",
       "      <td>25.0</td>\n",
       "      <td>431.208</td>\n",
       "    </tr>\n",
       "    <tr>\n",
       "      <th>J06-14-19-40</th>\n",
       "      <td>433.584</td>\n",
       "      <td>165.744</td>\n",
       "      <td>283.464</td>\n",
       "      <td>377.820</td>\n",
       "      <td>419.004</td>\n",
       "      <td>432.216</td>\n",
       "      <td>25.0</td>\n",
       "      <td>439.056</td>\n",
       "    </tr>\n",
       "    <tr>\n",
       "      <th>J07-07-52-08</th>\n",
       "      <td>441.828</td>\n",
       "      <td>179.100</td>\n",
       "      <td>311.868</td>\n",
       "      <td>398.484</td>\n",
       "      <td>440.748</td>\n",
       "      <td>414.432</td>\n",
       "      <td>25.0</td>\n",
       "      <td>446.544</td>\n",
       "    </tr>\n",
       "    <tr>\n",
       "      <th>J08-09-07-09</th>\n",
       "      <td>439.686</td>\n",
       "      <td>180.936</td>\n",
       "      <td>304.524</td>\n",
       "      <td>387.288</td>\n",
       "      <td>431.964</td>\n",
       "      <td>440.856</td>\n",
       "      <td>25.0</td>\n",
       "      <td>443.052</td>\n",
       "    </tr>\n",
       "  </tbody>\n",
       "</table>\n",
       "</div>"
      ],
      "text/plain": [
       "                score      5.0     10.0     15.0     20.0     25.0  finalTime  \\\n",
       "J01-08-13-13  414.918  178.056  310.824  385.344  406.944  414.540       25.0   \n",
       "J02-09-25-25  448.848  180.252  307.692  390.204  431.460  450.828       25.0   \n",
       "J03-10-32-58  452.304  177.984  310.284  398.700  444.420  452.448       25.0   \n",
       "J04-11-46-19   441.09  179.568  304.560  386.100  428.076  439.884       25.0   \n",
       "J05-13-02-44  428.202  178.740  314.388  397.296  416.088  420.768       25.0   \n",
       "J06-14-19-40  433.584  165.744  283.464  377.820  419.004  432.216       25.0   \n",
       "J07-07-52-08  441.828  179.100  311.868  398.484  440.748  414.432       25.0   \n",
       "J08-09-07-09  439.686  180.936  304.524  387.288  431.964  440.856       25.0   \n",
       "\n",
       "              maxSpeed  \n",
       "J01-08-13-13   418.176  \n",
       "J02-09-25-25   452.448  \n",
       "J03-10-32-58   453.888  \n",
       "J04-11-46-19   442.260  \n",
       "J05-13-02-44   431.208  \n",
       "J06-14-19-40   439.056  \n",
       "J07-07-52-08   446.544  \n",
       "J08-09-07-09   443.052  "
      ]
     },
     "metadata": {},
     "output_type": "display_data"
    },
    {
     "data": {
      "text/html": [
       "<div>\n",
       "<style scoped>\n",
       "    .dataframe tbody tr th:only-of-type {\n",
       "        vertical-align: middle;\n",
       "    }\n",
       "\n",
       "    .dataframe tbody tr th {\n",
       "        vertical-align: top;\n",
       "    }\n",
       "\n",
       "    .dataframe thead th {\n",
       "        text-align: right;\n",
       "    }\n",
       "</style>\n",
       "<table border=\"1\" class=\"dataframe\">\n",
       "  <thead>\n",
       "    <tr style=\"text-align: right;\">\n",
       "      <th></th>\n",
       "      <th>totalSpeed</th>\n",
       "      <th>meanSpeed</th>\n",
       "    </tr>\n",
       "  </thead>\n",
       "  <tbody>\n",
       "    <tr>\n",
       "      <th>totalSpeed</th>\n",
       "      <td>3500.46</td>\n",
       "      <td>437.5575</td>\n",
       "    </tr>\n",
       "  </tbody>\n",
       "</table>\n",
       "</div>"
      ],
      "text/plain": [
       "            totalSpeed  meanSpeed\n",
       "totalSpeed     3500.46   437.5575"
      ]
     },
     "metadata": {},
     "output_type": "display_data"
    }
   ],
   "source": [
    "aggregate = aggregateResults(jumpResults)\n",
    "sum = pd.DataFrame({ 'totalSpeed': [ aggregate.score.sum(), ], 'meanSpeed': [ aggregate.score.mean(), ], }, index = [ 'totalSpeed'],)\n",
    "display(aggregate)\n",
    "display(sum)"
   ]
  },
  {
   "cell_type": "code",
   "execution_count": 109,
   "id": "2e8c07dc-b34e-4830-a94f-7ad2ede7b912",
   "metadata": {},
   "outputs": [],
   "source": [
    "def initializePlot(jumpTitle):\n",
    "    return bp.figure(title = jumpTitle,\n",
    "                     height = 500,\n",
    "                     width = 900,\n",
    "                     x_axis_label = 'seconds from exit',\n",
    "                     y_axis_label = 'km/h',\n",
    "                     x_range = (0,40),\n",
    "                     y_range = (0, 550))    "
   ]
  },
  {
   "cell_type": "code",
   "execution_count": 111,
   "id": "da359cc3-a320-4b31-bc93-d6bd76718401",
   "metadata": {},
   "outputs": [],
   "source": [
    "def graphJumpResult(plot,\n",
    "                    jumpResult,\n",
    "                    lineColor = 'green',\n",
    "                    legend = 'speed',\n",
    "                    showIt = True):\n",
    "    data = jumpResult.data\n",
    "    maxSpeed = jumpResult.maxSpeed\n",
    "    scores = jumpResult.scores\n",
    "    score = jumpResult.score\n",
    "    plot.line(data.plotTime, data.vKMh, legend_label = legend, line_width = 2, line_color = lineColor)\n",
    "    \n",
    "    if showIt:\n",
    "        meanData = pd.DataFrame({ 'plotTime': scores.values(), 'score': scores.keys(), })\n",
    "        meanData = meanData[meanData.plotTime >= 15.0]\n",
    "        # plot.line(meanData.plotTime, meanData.score, legend_label = 'mean', line_width = 2, line_color = 'red')\n",
    "        plot.segment(x0 = [ scores[score], ], # scores[score]-3.0, ],\n",
    "                  y0 = [ 0.0, ], # 0.0, ],\n",
    "                  x1 = [ scores[score], ], # scores[score]-3.0, ],\n",
    "                  y1 = [ score, ], #maxSpeed, ],\n",
    "                  line_width = 5,\n",
    "                  color = 'green')\n",
    "        bp.show(plot)"
   ]
  },
  {
   "cell_type": "code",
   "execution_count": 112,
   "id": "888f2fce-1e7a-4728-b86d-7975c37e75c2",
   "metadata": {},
   "outputs": [
    {
     "data": {
      "application/vnd.jupyter.widget-view+json": {
       "model_id": "fc7940691bde42269911a2b8036f2398",
       "version_major": 2,
       "version_minor": 0
      },
      "text/plain": [
       "HTML(value='<hr><h1><span style=\"color: #0f0\">J01-08-13-13 jump - 🟢 valid - score = 414.92 km/h</span></h1>')"
      ]
     },
     "metadata": {},
     "output_type": "display_data"
    },
    {
     "data": {
      "application/vnd.jupyter.widget-view+json": {
       "model_id": "9fa06dbd57164d82aa53272159ba8642",
       "version_major": 2,
       "version_minor": 0
      },
      "text/plain": [
       "HTML(value='<h3>Max speed = 418; exit at 4191 m (13750 ft), breakoff at 1935 m (6349 ft)</h3>')"
      ]
     },
     "metadata": {},
     "output_type": "display_data"
    },
    {
     "data": {
      "text/html": [
       "\n",
       "  <div id=\"dc630d44-475f-4677-a381-dd28e0e6ffa2\" data-root-id=\"p11881\" style=\"display: contents;\"></div>\n"
      ]
     },
     "metadata": {},
     "output_type": "display_data"
    },
    {
     "data": {
      "application/javascript": [
       "(function(root) {\n",
       "  function embed_document(root) {\n",
       "  const docs_json = {\"6c04c270-612a-4a51-b294-79cf5e902a6f\":{\"version\":\"3.2.2\",\"title\":\"Bokeh Application\",\"roots\":[{\"type\":\"object\",\"name\":\"Figure\",\"id\":\"p11881\",\"attributes\":{\"width\":900,\"height\":500,\"x_range\":{\"type\":\"object\",\"name\":\"Range1d\",\"id\":\"p11891\",\"attributes\":{\"end\":40}},\"y_range\":{\"type\":\"object\",\"name\":\"Range1d\",\"id\":\"p11892\",\"attributes\":{\"end\":550}},\"x_scale\":{\"type\":\"object\",\"name\":\"LinearScale\",\"id\":\"p11893\"},\"y_scale\":{\"type\":\"object\",\"name\":\"LinearScale\",\"id\":\"p11894\"},\"title\":{\"type\":\"object\",\"name\":\"Title\",\"id\":\"p11884\",\"attributes\":{\"text\":\"J01-08-13-13\"}},\"renderers\":[{\"type\":\"object\",\"name\":\"GlyphRenderer\",\"id\":\"p11918\",\"attributes\":{\"data_source\":{\"type\":\"object\",\"name\":\"ColumnDataSource\",\"id\":\"p11912\",\"attributes\":{\"selected\":{\"type\":\"object\",\"name\":\"Selection\",\"id\":\"p11913\",\"attributes\":{\"indices\":[],\"line_indices\":[]}},\"selection_policy\":{\"type\":\"object\",\"name\":\"UnionRenderers\",\"id\":\"p11914\"},\"data\":{\"type\":\"map\",\"entries\":[[\"x\",{\"type\":\"ndarray\",\"array\":{\"type\":\"bytes\",\"data\":\"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\"},\"shape\":[264],\"dtype\":\"float64\",\"order\":\"little\"}],[\"y\",{\"type\":\"ndarray\",\"array\":{\"type\":\"bytes\",\"data\":\"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\"},\"shape\":[264],\"dtype\":\"float64\",\"order\":\"little\"}]]}}},\"view\":{\"type\":\"object\",\"name\":\"CDSView\",\"id\":\"p11919\",\"attributes\":{\"filter\":{\"type\":\"object\",\"name\":\"AllIndices\",\"id\":\"p11920\"}}},\"glyph\":{\"type\":\"object\",\"name\":\"Line\",\"id\":\"p11915\",\"attributes\":{\"x\":{\"type\":\"field\",\"field\":\"x\"},\"y\":{\"type\":\"field\",\"field\":\"y\"},\"line_color\":\"green\",\"line_width\":2}},\"nonselection_glyph\":{\"type\":\"object\",\"name\":\"Line\",\"id\":\"p11916\",\"attributes\":{\"x\":{\"type\":\"field\",\"field\":\"x\"},\"y\":{\"type\":\"field\",\"field\":\"y\"},\"line_color\":\"green\",\"line_alpha\":0.1,\"line_width\":2}},\"muted_glyph\":{\"type\":\"object\",\"name\":\"Line\",\"id\":\"p11917\",\"attributes\":{\"x\":{\"type\":\"field\",\"field\":\"x\"},\"y\":{\"type\":\"field\",\"field\":\"y\"},\"line_color\":\"green\",\"line_alpha\":0.2,\"line_width\":2}}}},{\"type\":\"object\",\"name\":\"GlyphRenderer\",\"id\":\"p11929\",\"attributes\":{\"data_source\":{\"type\":\"object\",\"name\":\"ColumnDataSource\",\"id\":\"p11923\",\"attributes\":{\"selected\":{\"type\":\"object\",\"name\":\"Selection\",\"id\":\"p11924\",\"attributes\":{\"indices\":[],\"line_indices\":[]}},\"selection_policy\":{\"type\":\"object\",\"name\":\"UnionRenderers\",\"id\":\"p11925\"},\"data\":{\"type\":\"map\",\"entries\":[[\"x0\",[23.09999990463257]],[\"y0\",[0.0]],[\"x1\",[23.09999990463257]],[\"y1\",[414.918]]]}}},\"view\":{\"type\":\"object\",\"name\":\"CDSView\",\"id\":\"p11930\",\"attributes\":{\"filter\":{\"type\":\"object\",\"name\":\"AllIndices\",\"id\":\"p11931\"}}},\"glyph\":{\"type\":\"object\",\"name\":\"Segment\",\"id\":\"p11926\",\"attributes\":{\"x0\":{\"type\":\"field\",\"field\":\"x0\"},\"y0\":{\"type\":\"field\",\"field\":\"y0\"},\"x1\":{\"type\":\"field\",\"field\":\"x1\"},\"y1\":{\"type\":\"field\",\"field\":\"y1\"},\"line_color\":{\"type\":\"value\",\"value\":\"green\"},\"line_width\":{\"type\":\"value\",\"value\":5}}},\"nonselection_glyph\":{\"type\":\"object\",\"name\":\"Segment\",\"id\":\"p11927\",\"attributes\":{\"x0\":{\"type\":\"field\",\"field\":\"x0\"},\"y0\":{\"type\":\"field\",\"field\":\"y0\"},\"x1\":{\"type\":\"field\",\"field\":\"x1\"},\"y1\":{\"type\":\"field\",\"field\":\"y1\"},\"line_color\":{\"type\":\"value\",\"value\":\"green\"},\"line_alpha\":{\"type\":\"value\",\"value\":0.1},\"line_width\":{\"type\":\"value\",\"value\":5}}},\"muted_glyph\":{\"type\":\"object\",\"name\":\"Segment\",\"id\":\"p11928\",\"attributes\":{\"x0\":{\"type\":\"field\",\"field\":\"x0\"},\"y0\":{\"type\":\"field\",\"field\":\"y0\"},\"x1\":{\"type\":\"field\",\"field\":\"x1\"},\"y1\":{\"type\":\"field\",\"field\":\"y1\"},\"line_color\":{\"type\":\"value\",\"value\":\"green\"},\"line_alpha\":{\"type\":\"value\",\"value\":0.2},\"line_width\":{\"type\":\"value\",\"value\":5}}}}}],\"toolbar\":{\"type\":\"object\",\"name\":\"Toolbar\",\"id\":\"p11890\",\"attributes\":{\"tools\":[{\"type\":\"object\",\"name\":\"PanTool\",\"id\":\"p11905\"},{\"type\":\"object\",\"name\":\"WheelZoomTool\",\"id\":\"p11906\"},{\"type\":\"object\",\"name\":\"BoxZoomTool\",\"id\":\"p11907\",\"attributes\":{\"overlay\":{\"type\":\"object\",\"name\":\"BoxAnnotation\",\"id\":\"p11908\",\"attributes\":{\"syncable\":false,\"level\":\"overlay\",\"visible\":false,\"left_units\":\"canvas\",\"right_units\":\"canvas\",\"bottom_units\":\"canvas\",\"top_units\":\"canvas\",\"line_color\":\"black\",\"line_alpha\":1.0,\"line_width\":2,\"line_dash\":[4,4],\"fill_color\":\"lightgrey\",\"fill_alpha\":0.5}}}},{\"type\":\"object\",\"name\":\"SaveTool\",\"id\":\"p11909\"},{\"type\":\"object\",\"name\":\"ResetTool\",\"id\":\"p11910\"},{\"type\":\"object\",\"name\":\"HelpTool\",\"id\":\"p11911\"}]}},\"left\":[{\"type\":\"object\",\"name\":\"LinearAxis\",\"id\":\"p11900\",\"attributes\":{\"ticker\":{\"type\":\"object\",\"name\":\"BasicTicker\",\"id\":\"p11901\",\"attributes\":{\"mantissas\":[1,2,5]}},\"formatter\":{\"type\":\"object\",\"name\":\"BasicTickFormatter\",\"id\":\"p11902\"},\"axis_label\":\"km/h\",\"major_label_policy\":{\"type\":\"object\",\"name\":\"AllLabels\",\"id\":\"p11903\"}}}],\"below\":[{\"type\":\"object\",\"name\":\"LinearAxis\",\"id\":\"p11895\",\"attributes\":{\"ticker\":{\"type\":\"object\",\"name\":\"BasicTicker\",\"id\":\"p11896\",\"attributes\":{\"mantissas\":[1,2,5]}},\"formatter\":{\"type\":\"object\",\"name\":\"BasicTickFormatter\",\"id\":\"p11897\"},\"axis_label\":\"seconds from exit\",\"major_label_policy\":{\"type\":\"object\",\"name\":\"AllLabels\",\"id\":\"p11898\"}}}],\"center\":[{\"type\":\"object\",\"name\":\"Grid\",\"id\":\"p11899\",\"attributes\":{\"axis\":{\"id\":\"p11895\"}}},{\"type\":\"object\",\"name\":\"Grid\",\"id\":\"p11904\",\"attributes\":{\"dimension\":1,\"axis\":{\"id\":\"p11900\"}}},{\"type\":\"object\",\"name\":\"Legend\",\"id\":\"p11921\",\"attributes\":{\"items\":[{\"type\":\"object\",\"name\":\"LegendItem\",\"id\":\"p11922\",\"attributes\":{\"label\":{\"type\":\"value\",\"value\":\"speed\"},\"renderers\":[{\"id\":\"p11918\"}]}}]}}]}}]}};\n",
       "  const render_items = [{\"docid\":\"6c04c270-612a-4a51-b294-79cf5e902a6f\",\"roots\":{\"p11881\":\"dc630d44-475f-4677-a381-dd28e0e6ffa2\"},\"root_ids\":[\"p11881\"]}];\n",
       "  root.Bokeh.embed.embed_items_notebook(docs_json, render_items);\n",
       "  }\n",
       "  if (root.Bokeh !== undefined) {\n",
       "    embed_document(root);\n",
       "  } else {\n",
       "    let attempts = 0;\n",
       "    const timer = setInterval(function(root) {\n",
       "      if (root.Bokeh !== undefined) {\n",
       "        clearInterval(timer);\n",
       "        embed_document(root);\n",
       "      } else {\n",
       "        attempts++;\n",
       "        if (attempts > 100) {\n",
       "          clearInterval(timer);\n",
       "          console.log(\"Bokeh: ERROR: Unable to run BokehJS code because BokehJS library is missing\");\n",
       "        }\n",
       "      }\n",
       "    }, 10, root)\n",
       "  }\n",
       "})(window);"
      ],
      "application/vnd.bokehjs_exec.v0+json": ""
     },
     "metadata": {
      "application/vnd.bokehjs_exec.v0+json": {
       "id": "p11881"
      }
     },
     "output_type": "display_data"
    },
    {
     "data": {
      "application/vnd.jupyter.widget-view+json": {
       "model_id": "e0aafab6ae5d4a8fa1fff70732fd4989",
       "version_major": 2,
       "version_minor": 0
      },
      "text/plain": [
       "HTML(value='<hr><h1><span style=\"color: #0f0\">J02-09-25-25 jump - 🟢 valid - score = 448.85 km/h</span></h1>')"
      ]
     },
     "metadata": {},
     "output_type": "display_data"
    },
    {
     "data": {
      "application/vnd.jupyter.widget-view+json": {
       "model_id": "77766b5f519d4c32962d92c229f9fb3c",
       "version_major": 2,
       "version_minor": 0
      },
      "text/plain": [
       "HTML(value='<h3>Max speed = 452; exit at 4217 m (13838 ft), breakoff at 1961 m (6436 ft)</h3>')"
      ]
     },
     "metadata": {},
     "output_type": "display_data"
    },
    {
     "data": {
      "text/html": [
       "\n",
       "  <div id=\"a1ab8c98-f793-4c99-84b8-e824e70619f7\" data-root-id=\"p11945\" style=\"display: contents;\"></div>\n"
      ]
     },
     "metadata": {},
     "output_type": "display_data"
    },
    {
     "data": {
      "application/javascript": [
       "(function(root) {\n",
       "  function embed_document(root) {\n",
       "  const docs_json = {\"c0c488e5-4522-4e7e-960f-8e71e217a518\":{\"version\":\"3.2.2\",\"title\":\"Bokeh Application\",\"roots\":[{\"type\":\"object\",\"name\":\"Figure\",\"id\":\"p11945\",\"attributes\":{\"width\":900,\"height\":500,\"x_range\":{\"type\":\"object\",\"name\":\"Range1d\",\"id\":\"p11955\",\"attributes\":{\"end\":40}},\"y_range\":{\"type\":\"object\",\"name\":\"Range1d\",\"id\":\"p11956\",\"attributes\":{\"end\":550}},\"x_scale\":{\"type\":\"object\",\"name\":\"LinearScale\",\"id\":\"p11957\"},\"y_scale\":{\"type\":\"object\",\"name\":\"LinearScale\",\"id\":\"p11958\"},\"title\":{\"type\":\"object\",\"name\":\"Title\",\"id\":\"p11948\",\"attributes\":{\"text\":\"J02-09-25-25\"}},\"renderers\":[{\"type\":\"object\",\"name\":\"GlyphRenderer\",\"id\":\"p11982\",\"attributes\":{\"data_source\":{\"type\":\"object\",\"name\":\"ColumnDataSource\",\"id\":\"p11976\",\"attributes\":{\"selected\":{\"type\":\"object\",\"name\":\"Selection\",\"id\":\"p11977\",\"attributes\":{\"indices\":[],\"line_indices\":[]}},\"selection_policy\":{\"type\":\"object\",\"name\":\"UnionRenderers\",\"id\":\"p11978\"},\"data\":{\"type\":\"map\",\"entries\":[[\"x\",{\"type\":\"ndarray\",\"array\":{\"type\":\"bytes\",\"data\":\"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\"},\"shape\":[258],\"dtype\":\"float64\",\"order\":\"little\"}],[\"y\",{\"type\":\"ndarray\",\"array\":{\"type\":\"bytes\",\"data\":\"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\"},\"shape\":[258],\"dtype\":\"float64\",\"order\":\"little\"}]]}}},\"view\":{\"type\":\"object\",\"name\":\"CDSView\",\"id\":\"p11983\",\"attributes\":{\"filter\":{\"type\":\"object\",\"name\":\"AllIndices\",\"id\":\"p11984\"}}},\"glyph\":{\"type\":\"object\",\"name\":\"Line\",\"id\":\"p11979\",\"attributes\":{\"x\":{\"type\":\"field\",\"field\":\"x\"},\"y\":{\"type\":\"field\",\"field\":\"y\"},\"line_color\":\"green\",\"line_width\":2}},\"nonselection_glyph\":{\"type\":\"object\",\"name\":\"Line\",\"id\":\"p11980\",\"attributes\":{\"x\":{\"type\":\"field\",\"field\":\"x\"},\"y\":{\"type\":\"field\",\"field\":\"y\"},\"line_color\":\"green\",\"line_alpha\":0.1,\"line_width\":2}},\"muted_glyph\":{\"type\":\"object\",\"name\":\"Line\",\"id\":\"p11981\",\"attributes\":{\"x\":{\"type\":\"field\",\"field\":\"x\"},\"y\":{\"type\":\"field\",\"field\":\"y\"},\"line_color\":\"green\",\"line_alpha\":0.2,\"line_width\":2}}}},{\"type\":\"object\",\"name\":\"GlyphRenderer\",\"id\":\"p11993\",\"attributes\":{\"data_source\":{\"type\":\"object\",\"name\":\"ColumnDataSource\",\"id\":\"p11987\",\"attributes\":{\"selected\":{\"type\":\"object\",\"name\":\"Selection\",\"id\":\"p11988\",\"attributes\":{\"indices\":[],\"line_indices\":[]}},\"selection_policy\":{\"type\":\"object\",\"name\":\"UnionRenderers\",\"id\":\"p11989\"},\"data\":{\"type\":\"map\",\"entries\":[[\"x0\",[22.700000047683716]],[\"y0\",[0.0]],[\"x1\",[22.700000047683716]],[\"y1\",[448.848]]]}}},\"view\":{\"type\":\"object\",\"name\":\"CDSView\",\"id\":\"p11994\",\"attributes\":{\"filter\":{\"type\":\"object\",\"name\":\"AllIndices\",\"id\":\"p11995\"}}},\"glyph\":{\"type\":\"object\",\"name\":\"Segment\",\"id\":\"p11990\",\"attributes\":{\"x0\":{\"type\":\"field\",\"field\":\"x0\"},\"y0\":{\"type\":\"field\",\"field\":\"y0\"},\"x1\":{\"type\":\"field\",\"field\":\"x1\"},\"y1\":{\"type\":\"field\",\"field\":\"y1\"},\"line_color\":{\"type\":\"value\",\"value\":\"green\"},\"line_width\":{\"type\":\"value\",\"value\":5}}},\"nonselection_glyph\":{\"type\":\"object\",\"name\":\"Segment\",\"id\":\"p11991\",\"attributes\":{\"x0\":{\"type\":\"field\",\"field\":\"x0\"},\"y0\":{\"type\":\"field\",\"field\":\"y0\"},\"x1\":{\"type\":\"field\",\"field\":\"x1\"},\"y1\":{\"type\":\"field\",\"field\":\"y1\"},\"line_color\":{\"type\":\"value\",\"value\":\"green\"},\"line_alpha\":{\"type\":\"value\",\"value\":0.1},\"line_width\":{\"type\":\"value\",\"value\":5}}},\"muted_glyph\":{\"type\":\"object\",\"name\":\"Segment\",\"id\":\"p11992\",\"attributes\":{\"x0\":{\"type\":\"field\",\"field\":\"x0\"},\"y0\":{\"type\":\"field\",\"field\":\"y0\"},\"x1\":{\"type\":\"field\",\"field\":\"x1\"},\"y1\":{\"type\":\"field\",\"field\":\"y1\"},\"line_color\":{\"type\":\"value\",\"value\":\"green\"},\"line_alpha\":{\"type\":\"value\",\"value\":0.2},\"line_width\":{\"type\":\"value\",\"value\":5}}}}}],\"toolbar\":{\"type\":\"object\",\"name\":\"Toolbar\",\"id\":\"p11954\",\"attributes\":{\"tools\":[{\"type\":\"object\",\"name\":\"PanTool\",\"id\":\"p11969\"},{\"type\":\"object\",\"name\":\"WheelZoomTool\",\"id\":\"p11970\"},{\"type\":\"object\",\"name\":\"BoxZoomTool\",\"id\":\"p11971\",\"attributes\":{\"overlay\":{\"type\":\"object\",\"name\":\"BoxAnnotation\",\"id\":\"p11972\",\"attributes\":{\"syncable\":false,\"level\":\"overlay\",\"visible\":false,\"left_units\":\"canvas\",\"right_units\":\"canvas\",\"bottom_units\":\"canvas\",\"top_units\":\"canvas\",\"line_color\":\"black\",\"line_alpha\":1.0,\"line_width\":2,\"line_dash\":[4,4],\"fill_color\":\"lightgrey\",\"fill_alpha\":0.5}}}},{\"type\":\"object\",\"name\":\"SaveTool\",\"id\":\"p11973\"},{\"type\":\"object\",\"name\":\"ResetTool\",\"id\":\"p11974\"},{\"type\":\"object\",\"name\":\"HelpTool\",\"id\":\"p11975\"}]}},\"left\":[{\"type\":\"object\",\"name\":\"LinearAxis\",\"id\":\"p11964\",\"attributes\":{\"ticker\":{\"type\":\"object\",\"name\":\"BasicTicker\",\"id\":\"p11965\",\"attributes\":{\"mantissas\":[1,2,5]}},\"formatter\":{\"type\":\"object\",\"name\":\"BasicTickFormatter\",\"id\":\"p11966\"},\"axis_label\":\"km/h\",\"major_label_policy\":{\"type\":\"object\",\"name\":\"AllLabels\",\"id\":\"p11967\"}}}],\"below\":[{\"type\":\"object\",\"name\":\"LinearAxis\",\"id\":\"p11959\",\"attributes\":{\"ticker\":{\"type\":\"object\",\"name\":\"BasicTicker\",\"id\":\"p11960\",\"attributes\":{\"mantissas\":[1,2,5]}},\"formatter\":{\"type\":\"object\",\"name\":\"BasicTickFormatter\",\"id\":\"p11961\"},\"axis_label\":\"seconds from exit\",\"major_label_policy\":{\"type\":\"object\",\"name\":\"AllLabels\",\"id\":\"p11962\"}}}],\"center\":[{\"type\":\"object\",\"name\":\"Grid\",\"id\":\"p11963\",\"attributes\":{\"axis\":{\"id\":\"p11959\"}}},{\"type\":\"object\",\"name\":\"Grid\",\"id\":\"p11968\",\"attributes\":{\"dimension\":1,\"axis\":{\"id\":\"p11964\"}}},{\"type\":\"object\",\"name\":\"Legend\",\"id\":\"p11985\",\"attributes\":{\"items\":[{\"type\":\"object\",\"name\":\"LegendItem\",\"id\":\"p11986\",\"attributes\":{\"label\":{\"type\":\"value\",\"value\":\"speed\"},\"renderers\":[{\"id\":\"p11982\"}]}}]}}]}}]}};\n",
       "  const render_items = [{\"docid\":\"c0c488e5-4522-4e7e-960f-8e71e217a518\",\"roots\":{\"p11945\":\"a1ab8c98-f793-4c99-84b8-e824e70619f7\"},\"root_ids\":[\"p11945\"]}];\n",
       "  root.Bokeh.embed.embed_items_notebook(docs_json, render_items);\n",
       "  }\n",
       "  if (root.Bokeh !== undefined) {\n",
       "    embed_document(root);\n",
       "  } else {\n",
       "    let attempts = 0;\n",
       "    const timer = setInterval(function(root) {\n",
       "      if (root.Bokeh !== undefined) {\n",
       "        clearInterval(timer);\n",
       "        embed_document(root);\n",
       "      } else {\n",
       "        attempts++;\n",
       "        if (attempts > 100) {\n",
       "          clearInterval(timer);\n",
       "          console.log(\"Bokeh: ERROR: Unable to run BokehJS code because BokehJS library is missing\");\n",
       "        }\n",
       "      }\n",
       "    }, 10, root)\n",
       "  }\n",
       "})(window);"
      ],
      "application/vnd.bokehjs_exec.v0+json": ""
     },
     "metadata": {
      "application/vnd.bokehjs_exec.v0+json": {
       "id": "p11945"
      }
     },
     "output_type": "display_data"
    },
    {
     "data": {
      "application/vnd.jupyter.widget-view+json": {
       "model_id": "a342be00b2844d9182c958a28b3f3573",
       "version_major": 2,
       "version_minor": 0
      },
      "text/plain": [
       "HTML(value='<hr><h1><span style=\"color: #0f0\">J03-10-32-58 jump - 🟢 valid - score = 452.30 km/h</span></h1>')"
      ]
     },
     "metadata": {},
     "output_type": "display_data"
    },
    {
     "data": {
      "application/vnd.jupyter.widget-view+json": {
       "model_id": "8b2ebd463a644489b73a6ef71e30fb2e",
       "version_major": 2,
       "version_minor": 0
      },
      "text/plain": [
       "HTML(value='<h3>Max speed = 454; exit at 4213 m (13824 ft), breakoff at 1957 m (6423 ft)</h3>')"
      ]
     },
     "metadata": {},
     "output_type": "display_data"
    },
    {
     "data": {
      "text/html": [
       "\n",
       "  <div id=\"c47925ba-b75c-4638-9101-ee99cd25ac55\" data-root-id=\"p12008\" style=\"display: contents;\"></div>\n"
      ]
     },
     "metadata": {},
     "output_type": "display_data"
    },
    {
     "data": {
      "application/javascript": [
       "(function(root) {\n",
       "  function embed_document(root) {\n",
       "  const docs_json = {\"5fbd25b5-7ba6-42d3-87b3-436724b89a4d\":{\"version\":\"3.2.2\",\"title\":\"Bokeh Application\",\"roots\":[{\"type\":\"object\",\"name\":\"Figure\",\"id\":\"p12008\",\"attributes\":{\"width\":900,\"height\":500,\"x_range\":{\"type\":\"object\",\"name\":\"Range1d\",\"id\":\"p12018\",\"attributes\":{\"end\":40}},\"y_range\":{\"type\":\"object\",\"name\":\"Range1d\",\"id\":\"p12019\",\"attributes\":{\"end\":550}},\"x_scale\":{\"type\":\"object\",\"name\":\"LinearScale\",\"id\":\"p12020\"},\"y_scale\":{\"type\":\"object\",\"name\":\"LinearScale\",\"id\":\"p12021\"},\"title\":{\"type\":\"object\",\"name\":\"Title\",\"id\":\"p12011\",\"attributes\":{\"text\":\"J03-10-32-58\"}},\"renderers\":[{\"type\":\"object\",\"name\":\"GlyphRenderer\",\"id\":\"p12045\",\"attributes\":{\"data_source\":{\"type\":\"object\",\"name\":\"ColumnDataSource\",\"id\":\"p12039\",\"attributes\":{\"selected\":{\"type\":\"object\",\"name\":\"Selection\",\"id\":\"p12040\",\"attributes\":{\"indices\":[],\"line_indices\":[]}},\"selection_policy\":{\"type\":\"object\",\"name\":\"UnionRenderers\",\"id\":\"p12041\"},\"data\":{\"type\":\"map\",\"entries\":[[\"x\",{\"type\":\"ndarray\",\"array\":{\"type\":\"bytes\",\"data\":\"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\"},\"shape\":[256],\"dtype\":\"float64\",\"order\":\"little\"}],[\"y\",{\"type\":\"ndarray\",\"array\":{\"type\":\"bytes\",\"data\":\"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\"},\"shape\":[256],\"dtype\":\"float64\",\"order\":\"little\"}]]}}},\"view\":{\"type\":\"object\",\"name\":\"CDSView\",\"id\":\"p12046\",\"attributes\":{\"filter\":{\"type\":\"object\",\"name\":\"AllIndices\",\"id\":\"p12047\"}}},\"glyph\":{\"type\":\"object\",\"name\":\"Line\",\"id\":\"p12042\",\"attributes\":{\"x\":{\"type\":\"field\",\"field\":\"x\"},\"y\":{\"type\":\"field\",\"field\":\"y\"},\"line_color\":\"green\",\"line_width\":2}},\"nonselection_glyph\":{\"type\":\"object\",\"name\":\"Line\",\"id\":\"p12043\",\"attributes\":{\"x\":{\"type\":\"field\",\"field\":\"x\"},\"y\":{\"type\":\"field\",\"field\":\"y\"},\"line_color\":\"green\",\"line_alpha\":0.1,\"line_width\":2}},\"muted_glyph\":{\"type\":\"object\",\"name\":\"Line\",\"id\":\"p12044\",\"attributes\":{\"x\":{\"type\":\"field\",\"field\":\"x\"},\"y\":{\"type\":\"field\",\"field\":\"y\"},\"line_color\":\"green\",\"line_alpha\":0.2,\"line_width\":2}}}},{\"type\":\"object\",\"name\":\"GlyphRenderer\",\"id\":\"p12056\",\"attributes\":{\"data_source\":{\"type\":\"object\",\"name\":\"ColumnDataSource\",\"id\":\"p12050\",\"attributes\":{\"selected\":{\"type\":\"object\",\"name\":\"Selection\",\"id\":\"p12051\",\"attributes\":{\"indices\":[],\"line_indices\":[]}},\"selection_policy\":{\"type\":\"object\",\"name\":\"UnionRenderers\",\"id\":\"p12052\"},\"data\":{\"type\":\"map\",\"entries\":[[\"x0\",[21.90000009536743]],[\"y0\",[0.0]],[\"x1\",[21.90000009536743]],[\"y1\",[452.304]]]}}},\"view\":{\"type\":\"object\",\"name\":\"CDSView\",\"id\":\"p12057\",\"attributes\":{\"filter\":{\"type\":\"object\",\"name\":\"AllIndices\",\"id\":\"p12058\"}}},\"glyph\":{\"type\":\"object\",\"name\":\"Segment\",\"id\":\"p12053\",\"attributes\":{\"x0\":{\"type\":\"field\",\"field\":\"x0\"},\"y0\":{\"type\":\"field\",\"field\":\"y0\"},\"x1\":{\"type\":\"field\",\"field\":\"x1\"},\"y1\":{\"type\":\"field\",\"field\":\"y1\"},\"line_color\":{\"type\":\"value\",\"value\":\"green\"},\"line_width\":{\"type\":\"value\",\"value\":5}}},\"nonselection_glyph\":{\"type\":\"object\",\"name\":\"Segment\",\"id\":\"p12054\",\"attributes\":{\"x0\":{\"type\":\"field\",\"field\":\"x0\"},\"y0\":{\"type\":\"field\",\"field\":\"y0\"},\"x1\":{\"type\":\"field\",\"field\":\"x1\"},\"y1\":{\"type\":\"field\",\"field\":\"y1\"},\"line_color\":{\"type\":\"value\",\"value\":\"green\"},\"line_alpha\":{\"type\":\"value\",\"value\":0.1},\"line_width\":{\"type\":\"value\",\"value\":5}}},\"muted_glyph\":{\"type\":\"object\",\"name\":\"Segment\",\"id\":\"p12055\",\"attributes\":{\"x0\":{\"type\":\"field\",\"field\":\"x0\"},\"y0\":{\"type\":\"field\",\"field\":\"y0\"},\"x1\":{\"type\":\"field\",\"field\":\"x1\"},\"y1\":{\"type\":\"field\",\"field\":\"y1\"},\"line_color\":{\"type\":\"value\",\"value\":\"green\"},\"line_alpha\":{\"type\":\"value\",\"value\":0.2},\"line_width\":{\"type\":\"value\",\"value\":5}}}}}],\"toolbar\":{\"type\":\"object\",\"name\":\"Toolbar\",\"id\":\"p12017\",\"attributes\":{\"tools\":[{\"type\":\"object\",\"name\":\"PanTool\",\"id\":\"p12032\"},{\"type\":\"object\",\"name\":\"WheelZoomTool\",\"id\":\"p12033\"},{\"type\":\"object\",\"name\":\"BoxZoomTool\",\"id\":\"p12034\",\"attributes\":{\"overlay\":{\"type\":\"object\",\"name\":\"BoxAnnotation\",\"id\":\"p12035\",\"attributes\":{\"syncable\":false,\"level\":\"overlay\",\"visible\":false,\"left_units\":\"canvas\",\"right_units\":\"canvas\",\"bottom_units\":\"canvas\",\"top_units\":\"canvas\",\"line_color\":\"black\",\"line_alpha\":1.0,\"line_width\":2,\"line_dash\":[4,4],\"fill_color\":\"lightgrey\",\"fill_alpha\":0.5}}}},{\"type\":\"object\",\"name\":\"SaveTool\",\"id\":\"p12036\"},{\"type\":\"object\",\"name\":\"ResetTool\",\"id\":\"p12037\"},{\"type\":\"object\",\"name\":\"HelpTool\",\"id\":\"p12038\"}]}},\"left\":[{\"type\":\"object\",\"name\":\"LinearAxis\",\"id\":\"p12027\",\"attributes\":{\"ticker\":{\"type\":\"object\",\"name\":\"BasicTicker\",\"id\":\"p12028\",\"attributes\":{\"mantissas\":[1,2,5]}},\"formatter\":{\"type\":\"object\",\"name\":\"BasicTickFormatter\",\"id\":\"p12029\"},\"axis_label\":\"km/h\",\"major_label_policy\":{\"type\":\"object\",\"name\":\"AllLabels\",\"id\":\"p12030\"}}}],\"below\":[{\"type\":\"object\",\"name\":\"LinearAxis\",\"id\":\"p12022\",\"attributes\":{\"ticker\":{\"type\":\"object\",\"name\":\"BasicTicker\",\"id\":\"p12023\",\"attributes\":{\"mantissas\":[1,2,5]}},\"formatter\":{\"type\":\"object\",\"name\":\"BasicTickFormatter\",\"id\":\"p12024\"},\"axis_label\":\"seconds from exit\",\"major_label_policy\":{\"type\":\"object\",\"name\":\"AllLabels\",\"id\":\"p12025\"}}}],\"center\":[{\"type\":\"object\",\"name\":\"Grid\",\"id\":\"p12026\",\"attributes\":{\"axis\":{\"id\":\"p12022\"}}},{\"type\":\"object\",\"name\":\"Grid\",\"id\":\"p12031\",\"attributes\":{\"dimension\":1,\"axis\":{\"id\":\"p12027\"}}},{\"type\":\"object\",\"name\":\"Legend\",\"id\":\"p12048\",\"attributes\":{\"items\":[{\"type\":\"object\",\"name\":\"LegendItem\",\"id\":\"p12049\",\"attributes\":{\"label\":{\"type\":\"value\",\"value\":\"speed\"},\"renderers\":[{\"id\":\"p12045\"}]}}]}}]}}]}};\n",
       "  const render_items = [{\"docid\":\"5fbd25b5-7ba6-42d3-87b3-436724b89a4d\",\"roots\":{\"p12008\":\"c47925ba-b75c-4638-9101-ee99cd25ac55\"},\"root_ids\":[\"p12008\"]}];\n",
       "  root.Bokeh.embed.embed_items_notebook(docs_json, render_items);\n",
       "  }\n",
       "  if (root.Bokeh !== undefined) {\n",
       "    embed_document(root);\n",
       "  } else {\n",
       "    let attempts = 0;\n",
       "    const timer = setInterval(function(root) {\n",
       "      if (root.Bokeh !== undefined) {\n",
       "        clearInterval(timer);\n",
       "        embed_document(root);\n",
       "      } else {\n",
       "        attempts++;\n",
       "        if (attempts > 100) {\n",
       "          clearInterval(timer);\n",
       "          console.log(\"Bokeh: ERROR: Unable to run BokehJS code because BokehJS library is missing\");\n",
       "        }\n",
       "      }\n",
       "    }, 10, root)\n",
       "  }\n",
       "})(window);"
      ],
      "application/vnd.bokehjs_exec.v0+json": ""
     },
     "metadata": {
      "application/vnd.bokehjs_exec.v0+json": {
       "id": "p12008"
      }
     },
     "output_type": "display_data"
    },
    {
     "data": {
      "application/vnd.jupyter.widget-view+json": {
       "model_id": "ab8610818c8f49cdb54b1ee6906a89f7",
       "version_major": 2,
       "version_minor": 0
      },
      "text/plain": [
       "HTML(value='<hr><h1><span style=\"color: #0f0\">J04-11-46-19 jump - 🟢 valid - score = 441.09 km/h</span></h1>')"
      ]
     },
     "metadata": {},
     "output_type": "display_data"
    },
    {
     "data": {
      "application/vnd.jupyter.widget-view+json": {
       "model_id": "fb9bc77c95fd49678038b9456e3d8677",
       "version_major": 2,
       "version_minor": 0
      },
      "text/plain": [
       "HTML(value='<h3>Max speed = 442; exit at 4154 m (13628 ft), breakoff at 1898 m (6226 ft)</h3>')"
      ]
     },
     "metadata": {},
     "output_type": "display_data"
    },
    {
     "data": {
      "text/html": [
       "\n",
       "  <div id=\"a711a482-1426-44eb-8e5a-57d830df7bb1\" data-root-id=\"p12071\" style=\"display: contents;\"></div>\n"
      ]
     },
     "metadata": {},
     "output_type": "display_data"
    },
    {
     "data": {
      "application/javascript": [
       "(function(root) {\n",
       "  function embed_document(root) {\n",
       "  const docs_json = {\"69e47844-ac6a-4e2a-8b9c-e2dba3ab844f\":{\"version\":\"3.2.2\",\"title\":\"Bokeh Application\",\"roots\":[{\"type\":\"object\",\"name\":\"Figure\",\"id\":\"p12071\",\"attributes\":{\"width\":900,\"height\":500,\"x_range\":{\"type\":\"object\",\"name\":\"Range1d\",\"id\":\"p12081\",\"attributes\":{\"end\":40}},\"y_range\":{\"type\":\"object\",\"name\":\"Range1d\",\"id\":\"p12082\",\"attributes\":{\"end\":550}},\"x_scale\":{\"type\":\"object\",\"name\":\"LinearScale\",\"id\":\"p12083\"},\"y_scale\":{\"type\":\"object\",\"name\":\"LinearScale\",\"id\":\"p12084\"},\"title\":{\"type\":\"object\",\"name\":\"Title\",\"id\":\"p12074\",\"attributes\":{\"text\":\"J04-11-46-19\"}},\"renderers\":[{\"type\":\"object\",\"name\":\"GlyphRenderer\",\"id\":\"p12108\",\"attributes\":{\"data_source\":{\"type\":\"object\",\"name\":\"ColumnDataSource\",\"id\":\"p12102\",\"attributes\":{\"selected\":{\"type\":\"object\",\"name\":\"Selection\",\"id\":\"p12103\",\"attributes\":{\"indices\":[],\"line_indices\":[]}},\"selection_policy\":{\"type\":\"object\",\"name\":\"UnionRenderers\",\"id\":\"p12104\"},\"data\":{\"type\":\"map\",\"entries\":[[\"x\",{\"type\":\"ndarray\",\"array\":{\"type\":\"bytes\",\"data\":\"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\"},\"shape\":[260],\"dtype\":\"float64\",\"order\":\"little\"}],[\"y\",{\"type\":\"ndarray\",\"array\":{\"type\":\"bytes\",\"data\":\"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\"},\"shape\":[260],\"dtype\":\"float64\",\"order\":\"little\"}]]}}},\"view\":{\"type\":\"object\",\"name\":\"CDSView\",\"id\":\"p12109\",\"attributes\":{\"filter\":{\"type\":\"object\",\"name\":\"AllIndices\",\"id\":\"p12110\"}}},\"glyph\":{\"type\":\"object\",\"name\":\"Line\",\"id\":\"p12105\",\"attributes\":{\"x\":{\"type\":\"field\",\"field\":\"x\"},\"y\":{\"type\":\"field\",\"field\":\"y\"},\"line_color\":\"green\",\"line_width\":2}},\"nonselection_glyph\":{\"type\":\"object\",\"name\":\"Line\",\"id\":\"p12106\",\"attributes\":{\"x\":{\"type\":\"field\",\"field\":\"x\"},\"y\":{\"type\":\"field\",\"field\":\"y\"},\"line_color\":\"green\",\"line_alpha\":0.1,\"line_width\":2}},\"muted_glyph\":{\"type\":\"object\",\"name\":\"Line\",\"id\":\"p12107\",\"attributes\":{\"x\":{\"type\":\"field\",\"field\":\"x\"},\"y\":{\"type\":\"field\",\"field\":\"y\"},\"line_color\":\"green\",\"line_alpha\":0.2,\"line_width\":2}}}},{\"type\":\"object\",\"name\":\"GlyphRenderer\",\"id\":\"p12119\",\"attributes\":{\"data_source\":{\"type\":\"object\",\"name\":\"ColumnDataSource\",\"id\":\"p12113\",\"attributes\":{\"selected\":{\"type\":\"object\",\"name\":\"Selection\",\"id\":\"p12114\",\"attributes\":{\"indices\":[],\"line_indices\":[]}},\"selection_policy\":{\"type\":\"object\",\"name\":\"UnionRenderers\",\"id\":\"p12115\"},\"data\":{\"type\":\"map\",\"entries\":[[\"x0\",[22.700000047683716]],[\"y0\",[0.0]],[\"x1\",[22.700000047683716]],[\"y1\",[441.09000000000003]]]}}},\"view\":{\"type\":\"object\",\"name\":\"CDSView\",\"id\":\"p12120\",\"attributes\":{\"filter\":{\"type\":\"object\",\"name\":\"AllIndices\",\"id\":\"p12121\"}}},\"glyph\":{\"type\":\"object\",\"name\":\"Segment\",\"id\":\"p12116\",\"attributes\":{\"x0\":{\"type\":\"field\",\"field\":\"x0\"},\"y0\":{\"type\":\"field\",\"field\":\"y0\"},\"x1\":{\"type\":\"field\",\"field\":\"x1\"},\"y1\":{\"type\":\"field\",\"field\":\"y1\"},\"line_color\":{\"type\":\"value\",\"value\":\"green\"},\"line_width\":{\"type\":\"value\",\"value\":5}}},\"nonselection_glyph\":{\"type\":\"object\",\"name\":\"Segment\",\"id\":\"p12117\",\"attributes\":{\"x0\":{\"type\":\"field\",\"field\":\"x0\"},\"y0\":{\"type\":\"field\",\"field\":\"y0\"},\"x1\":{\"type\":\"field\",\"field\":\"x1\"},\"y1\":{\"type\":\"field\",\"field\":\"y1\"},\"line_color\":{\"type\":\"value\",\"value\":\"green\"},\"line_alpha\":{\"type\":\"value\",\"value\":0.1},\"line_width\":{\"type\":\"value\",\"value\":5}}},\"muted_glyph\":{\"type\":\"object\",\"name\":\"Segment\",\"id\":\"p12118\",\"attributes\":{\"x0\":{\"type\":\"field\",\"field\":\"x0\"},\"y0\":{\"type\":\"field\",\"field\":\"y0\"},\"x1\":{\"type\":\"field\",\"field\":\"x1\"},\"y1\":{\"type\":\"field\",\"field\":\"y1\"},\"line_color\":{\"type\":\"value\",\"value\":\"green\"},\"line_alpha\":{\"type\":\"value\",\"value\":0.2},\"line_width\":{\"type\":\"value\",\"value\":5}}}}}],\"toolbar\":{\"type\":\"object\",\"name\":\"Toolbar\",\"id\":\"p12080\",\"attributes\":{\"tools\":[{\"type\":\"object\",\"name\":\"PanTool\",\"id\":\"p12095\"},{\"type\":\"object\",\"name\":\"WheelZoomTool\",\"id\":\"p12096\"},{\"type\":\"object\",\"name\":\"BoxZoomTool\",\"id\":\"p12097\",\"attributes\":{\"overlay\":{\"type\":\"object\",\"name\":\"BoxAnnotation\",\"id\":\"p12098\",\"attributes\":{\"syncable\":false,\"level\":\"overlay\",\"visible\":false,\"left_units\":\"canvas\",\"right_units\":\"canvas\",\"bottom_units\":\"canvas\",\"top_units\":\"canvas\",\"line_color\":\"black\",\"line_alpha\":1.0,\"line_width\":2,\"line_dash\":[4,4],\"fill_color\":\"lightgrey\",\"fill_alpha\":0.5}}}},{\"type\":\"object\",\"name\":\"SaveTool\",\"id\":\"p12099\"},{\"type\":\"object\",\"name\":\"ResetTool\",\"id\":\"p12100\"},{\"type\":\"object\",\"name\":\"HelpTool\",\"id\":\"p12101\"}]}},\"left\":[{\"type\":\"object\",\"name\":\"LinearAxis\",\"id\":\"p12090\",\"attributes\":{\"ticker\":{\"type\":\"object\",\"name\":\"BasicTicker\",\"id\":\"p12091\",\"attributes\":{\"mantissas\":[1,2,5]}},\"formatter\":{\"type\":\"object\",\"name\":\"BasicTickFormatter\",\"id\":\"p12092\"},\"axis_label\":\"km/h\",\"major_label_policy\":{\"type\":\"object\",\"name\":\"AllLabels\",\"id\":\"p12093\"}}}],\"below\":[{\"type\":\"object\",\"name\":\"LinearAxis\",\"id\":\"p12085\",\"attributes\":{\"ticker\":{\"type\":\"object\",\"name\":\"BasicTicker\",\"id\":\"p12086\",\"attributes\":{\"mantissas\":[1,2,5]}},\"formatter\":{\"type\":\"object\",\"name\":\"BasicTickFormatter\",\"id\":\"p12087\"},\"axis_label\":\"seconds from exit\",\"major_label_policy\":{\"type\":\"object\",\"name\":\"AllLabels\",\"id\":\"p12088\"}}}],\"center\":[{\"type\":\"object\",\"name\":\"Grid\",\"id\":\"p12089\",\"attributes\":{\"axis\":{\"id\":\"p12085\"}}},{\"type\":\"object\",\"name\":\"Grid\",\"id\":\"p12094\",\"attributes\":{\"dimension\":1,\"axis\":{\"id\":\"p12090\"}}},{\"type\":\"object\",\"name\":\"Legend\",\"id\":\"p12111\",\"attributes\":{\"items\":[{\"type\":\"object\",\"name\":\"LegendItem\",\"id\":\"p12112\",\"attributes\":{\"label\":{\"type\":\"value\",\"value\":\"speed\"},\"renderers\":[{\"id\":\"p12108\"}]}}]}}]}}]}};\n",
       "  const render_items = [{\"docid\":\"69e47844-ac6a-4e2a-8b9c-e2dba3ab844f\",\"roots\":{\"p12071\":\"a711a482-1426-44eb-8e5a-57d830df7bb1\"},\"root_ids\":[\"p12071\"]}];\n",
       "  root.Bokeh.embed.embed_items_notebook(docs_json, render_items);\n",
       "  }\n",
       "  if (root.Bokeh !== undefined) {\n",
       "    embed_document(root);\n",
       "  } else {\n",
       "    let attempts = 0;\n",
       "    const timer = setInterval(function(root) {\n",
       "      if (root.Bokeh !== undefined) {\n",
       "        clearInterval(timer);\n",
       "        embed_document(root);\n",
       "      } else {\n",
       "        attempts++;\n",
       "        if (attempts > 100) {\n",
       "          clearInterval(timer);\n",
       "          console.log(\"Bokeh: ERROR: Unable to run BokehJS code because BokehJS library is missing\");\n",
       "        }\n",
       "      }\n",
       "    }, 10, root)\n",
       "  }\n",
       "})(window);"
      ],
      "application/vnd.bokehjs_exec.v0+json": ""
     },
     "metadata": {
      "application/vnd.bokehjs_exec.v0+json": {
       "id": "p12071"
      }
     },
     "output_type": "display_data"
    },
    {
     "data": {
      "application/vnd.jupyter.widget-view+json": {
       "model_id": "c897cb4c7c4f41cfa3682a3a79292fe7",
       "version_major": 2,
       "version_minor": 0
      },
      "text/plain": [
       "HTML(value='<hr><h1><span style=\"color: #0f0\">J05-13-02-44 jump - 🟢 valid - score = 428.20 km/h</span></h1>')"
      ]
     },
     "metadata": {},
     "output_type": "display_data"
    },
    {
     "data": {
      "application/vnd.jupyter.widget-view+json": {
       "model_id": "5f27408e8df046429b55218304b84848",
       "version_major": 2,
       "version_minor": 0
      },
      "text/plain": [
       "HTML(value='<h3>Max speed = 431; exit at 4241 m (13916 ft), breakoff at 1985 m (6515 ft)</h3>')"
      ]
     },
     "metadata": {},
     "output_type": "display_data"
    },
    {
     "data": {
      "text/html": [
       "\n",
       "  <div id=\"fef9071e-ac52-46ba-92c2-5765b549e270\" data-root-id=\"p12134\" style=\"display: contents;\"></div>\n"
      ]
     },
     "metadata": {},
     "output_type": "display_data"
    },
    {
     "data": {
      "application/javascript": [
       "(function(root) {\n",
       "  function embed_document(root) {\n",
       "  const docs_json = {\"1e8bade3-d012-4911-a71a-ce49e129a107\":{\"version\":\"3.2.2\",\"title\":\"Bokeh Application\",\"roots\":[{\"type\":\"object\",\"name\":\"Figure\",\"id\":\"p12134\",\"attributes\":{\"width\":900,\"height\":500,\"x_range\":{\"type\":\"object\",\"name\":\"Range1d\",\"id\":\"p12144\",\"attributes\":{\"end\":40}},\"y_range\":{\"type\":\"object\",\"name\":\"Range1d\",\"id\":\"p12145\",\"attributes\":{\"end\":550}},\"x_scale\":{\"type\":\"object\",\"name\":\"LinearScale\",\"id\":\"p12146\"},\"y_scale\":{\"type\":\"object\",\"name\":\"LinearScale\",\"id\":\"p12147\"},\"title\":{\"type\":\"object\",\"name\":\"Title\",\"id\":\"p12137\",\"attributes\":{\"text\":\"J05-13-02-44\"}},\"renderers\":[{\"type\":\"object\",\"name\":\"GlyphRenderer\",\"id\":\"p12171\",\"attributes\":{\"data_source\":{\"type\":\"object\",\"name\":\"ColumnDataSource\",\"id\":\"p12165\",\"attributes\":{\"selected\":{\"type\":\"object\",\"name\":\"Selection\",\"id\":\"p12166\",\"attributes\":{\"indices\":[],\"line_indices\":[]}},\"selection_policy\":{\"type\":\"object\",\"name\":\"UnionRenderers\",\"id\":\"p12167\"},\"data\":{\"type\":\"map\",\"entries\":[[\"x\",{\"type\":\"ndarray\",\"array\":{\"type\":\"bytes\",\"data\":\"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\"},\"shape\":[260],\"dtype\":\"float64\",\"order\":\"little\"}],[\"y\",{\"type\":\"ndarray\",\"array\":{\"type\":\"bytes\",\"data\":\"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\"},\"shape\":[260],\"dtype\":\"float64\",\"order\":\"little\"}]]}}},\"view\":{\"type\":\"object\",\"name\":\"CDSView\",\"id\":\"p12172\",\"attributes\":{\"filter\":{\"type\":\"object\",\"name\":\"AllIndices\",\"id\":\"p12173\"}}},\"glyph\":{\"type\":\"object\",\"name\":\"Line\",\"id\":\"p12168\",\"attributes\":{\"x\":{\"type\":\"field\",\"field\":\"x\"},\"y\":{\"type\":\"field\",\"field\":\"y\"},\"line_color\":\"green\",\"line_width\":2}},\"nonselection_glyph\":{\"type\":\"object\",\"name\":\"Line\",\"id\":\"p12169\",\"attributes\":{\"x\":{\"type\":\"field\",\"field\":\"x\"},\"y\":{\"type\":\"field\",\"field\":\"y\"},\"line_color\":\"green\",\"line_alpha\":0.1,\"line_width\":2}},\"muted_glyph\":{\"type\":\"object\",\"name\":\"Line\",\"id\":\"p12170\",\"attributes\":{\"x\":{\"type\":\"field\",\"field\":\"x\"},\"y\":{\"type\":\"field\",\"field\":\"y\"},\"line_color\":\"green\",\"line_alpha\":0.2,\"line_width\":2}}}},{\"type\":\"object\",\"name\":\"GlyphRenderer\",\"id\":\"p12182\",\"attributes\":{\"data_source\":{\"type\":\"object\",\"name\":\"ColumnDataSource\",\"id\":\"p12176\",\"attributes\":{\"selected\":{\"type\":\"object\",\"name\":\"Selection\",\"id\":\"p12177\",\"attributes\":{\"indices\":[],\"line_indices\":[]}},\"selection_policy\":{\"type\":\"object\",\"name\":\"UnionRenderers\",\"id\":\"p12178\"},\"data\":{\"type\":\"map\",\"entries\":[[\"x0\",[19.40000009536743]],[\"y0\",[0.0]],[\"x1\",[19.40000009536743]],[\"y1\",[428.202]]]}}},\"view\":{\"type\":\"object\",\"name\":\"CDSView\",\"id\":\"p12183\",\"attributes\":{\"filter\":{\"type\":\"object\",\"name\":\"AllIndices\",\"id\":\"p12184\"}}},\"glyph\":{\"type\":\"object\",\"name\":\"Segment\",\"id\":\"p12179\",\"attributes\":{\"x0\":{\"type\":\"field\",\"field\":\"x0\"},\"y0\":{\"type\":\"field\",\"field\":\"y0\"},\"x1\":{\"type\":\"field\",\"field\":\"x1\"},\"y1\":{\"type\":\"field\",\"field\":\"y1\"},\"line_color\":{\"type\":\"value\",\"value\":\"green\"},\"line_width\":{\"type\":\"value\",\"value\":5}}},\"nonselection_glyph\":{\"type\":\"object\",\"name\":\"Segment\",\"id\":\"p12180\",\"attributes\":{\"x0\":{\"type\":\"field\",\"field\":\"x0\"},\"y0\":{\"type\":\"field\",\"field\":\"y0\"},\"x1\":{\"type\":\"field\",\"field\":\"x1\"},\"y1\":{\"type\":\"field\",\"field\":\"y1\"},\"line_color\":{\"type\":\"value\",\"value\":\"green\"},\"line_alpha\":{\"type\":\"value\",\"value\":0.1},\"line_width\":{\"type\":\"value\",\"value\":5}}},\"muted_glyph\":{\"type\":\"object\",\"name\":\"Segment\",\"id\":\"p12181\",\"attributes\":{\"x0\":{\"type\":\"field\",\"field\":\"x0\"},\"y0\":{\"type\":\"field\",\"field\":\"y0\"},\"x1\":{\"type\":\"field\",\"field\":\"x1\"},\"y1\":{\"type\":\"field\",\"field\":\"y1\"},\"line_color\":{\"type\":\"value\",\"value\":\"green\"},\"line_alpha\":{\"type\":\"value\",\"value\":0.2},\"line_width\":{\"type\":\"value\",\"value\":5}}}}}],\"toolbar\":{\"type\":\"object\",\"name\":\"Toolbar\",\"id\":\"p12143\",\"attributes\":{\"tools\":[{\"type\":\"object\",\"name\":\"PanTool\",\"id\":\"p12158\"},{\"type\":\"object\",\"name\":\"WheelZoomTool\",\"id\":\"p12159\"},{\"type\":\"object\",\"name\":\"BoxZoomTool\",\"id\":\"p12160\",\"attributes\":{\"overlay\":{\"type\":\"object\",\"name\":\"BoxAnnotation\",\"id\":\"p12161\",\"attributes\":{\"syncable\":false,\"level\":\"overlay\",\"visible\":false,\"left_units\":\"canvas\",\"right_units\":\"canvas\",\"bottom_units\":\"canvas\",\"top_units\":\"canvas\",\"line_color\":\"black\",\"line_alpha\":1.0,\"line_width\":2,\"line_dash\":[4,4],\"fill_color\":\"lightgrey\",\"fill_alpha\":0.5}}}},{\"type\":\"object\",\"name\":\"SaveTool\",\"id\":\"p12162\"},{\"type\":\"object\",\"name\":\"ResetTool\",\"id\":\"p12163\"},{\"type\":\"object\",\"name\":\"HelpTool\",\"id\":\"p12164\"}]}},\"left\":[{\"type\":\"object\",\"name\":\"LinearAxis\",\"id\":\"p12153\",\"attributes\":{\"ticker\":{\"type\":\"object\",\"name\":\"BasicTicker\",\"id\":\"p12154\",\"attributes\":{\"mantissas\":[1,2,5]}},\"formatter\":{\"type\":\"object\",\"name\":\"BasicTickFormatter\",\"id\":\"p12155\"},\"axis_label\":\"km/h\",\"major_label_policy\":{\"type\":\"object\",\"name\":\"AllLabels\",\"id\":\"p12156\"}}}],\"below\":[{\"type\":\"object\",\"name\":\"LinearAxis\",\"id\":\"p12148\",\"attributes\":{\"ticker\":{\"type\":\"object\",\"name\":\"BasicTicker\",\"id\":\"p12149\",\"attributes\":{\"mantissas\":[1,2,5]}},\"formatter\":{\"type\":\"object\",\"name\":\"BasicTickFormatter\",\"id\":\"p12150\"},\"axis_label\":\"seconds from exit\",\"major_label_policy\":{\"type\":\"object\",\"name\":\"AllLabels\",\"id\":\"p12151\"}}}],\"center\":[{\"type\":\"object\",\"name\":\"Grid\",\"id\":\"p12152\",\"attributes\":{\"axis\":{\"id\":\"p12148\"}}},{\"type\":\"object\",\"name\":\"Grid\",\"id\":\"p12157\",\"attributes\":{\"dimension\":1,\"axis\":{\"id\":\"p12153\"}}},{\"type\":\"object\",\"name\":\"Legend\",\"id\":\"p12174\",\"attributes\":{\"items\":[{\"type\":\"object\",\"name\":\"LegendItem\",\"id\":\"p12175\",\"attributes\":{\"label\":{\"type\":\"value\",\"value\":\"speed\"},\"renderers\":[{\"id\":\"p12171\"}]}}]}}]}}]}};\n",
       "  const render_items = [{\"docid\":\"1e8bade3-d012-4911-a71a-ce49e129a107\",\"roots\":{\"p12134\":\"fef9071e-ac52-46ba-92c2-5765b549e270\"},\"root_ids\":[\"p12134\"]}];\n",
       "  root.Bokeh.embed.embed_items_notebook(docs_json, render_items);\n",
       "  }\n",
       "  if (root.Bokeh !== undefined) {\n",
       "    embed_document(root);\n",
       "  } else {\n",
       "    let attempts = 0;\n",
       "    const timer = setInterval(function(root) {\n",
       "      if (root.Bokeh !== undefined) {\n",
       "        clearInterval(timer);\n",
       "        embed_document(root);\n",
       "      } else {\n",
       "        attempts++;\n",
       "        if (attempts > 100) {\n",
       "          clearInterval(timer);\n",
       "          console.log(\"Bokeh: ERROR: Unable to run BokehJS code because BokehJS library is missing\");\n",
       "        }\n",
       "      }\n",
       "    }, 10, root)\n",
       "  }\n",
       "})(window);"
      ],
      "application/vnd.bokehjs_exec.v0+json": ""
     },
     "metadata": {
      "application/vnd.bokehjs_exec.v0+json": {
       "id": "p12134"
      }
     },
     "output_type": "display_data"
    },
    {
     "data": {
      "application/vnd.jupyter.widget-view+json": {
       "model_id": "efcc3bf44eeb45a891f9465aa84a2aa2",
       "version_major": 2,
       "version_minor": 0
      },
      "text/plain": [
       "HTML(value='<hr><h1><span style=\"color: #0f0\">J06-14-19-40 jump - 🟢 valid - score = 433.58 km/h</span></h1>')"
      ]
     },
     "metadata": {},
     "output_type": "display_data"
    },
    {
     "data": {
      "application/vnd.jupyter.widget-view+json": {
       "model_id": "663e6e09c34240eea4d475471023b67d",
       "version_major": 2,
       "version_minor": 0
      },
      "text/plain": [
       "HTML(value='<h3>Max speed = 439; exit at 4126 m (13538 ft), breakoff at 1870 m (6136 ft)</h3>')"
      ]
     },
     "metadata": {},
     "output_type": "display_data"
    },
    {
     "data": {
      "text/html": [
       "\n",
       "  <div id=\"d0bf0039-8df7-421c-89c0-c7313fcab938\" data-root-id=\"p12197\" style=\"display: contents;\"></div>\n"
      ]
     },
     "metadata": {},
     "output_type": "display_data"
    },
    {
     "data": {
      "application/javascript": [
       "(function(root) {\n",
       "  function embed_document(root) {\n",
       "  const docs_json = {\"e6517ff3-3887-44bf-9073-69cc47e2ecb8\":{\"version\":\"3.2.2\",\"title\":\"Bokeh Application\",\"roots\":[{\"type\":\"object\",\"name\":\"Figure\",\"id\":\"p12197\",\"attributes\":{\"width\":900,\"height\":500,\"x_range\":{\"type\":\"object\",\"name\":\"Range1d\",\"id\":\"p12207\",\"attributes\":{\"end\":40}},\"y_range\":{\"type\":\"object\",\"name\":\"Range1d\",\"id\":\"p12208\",\"attributes\":{\"end\":550}},\"x_scale\":{\"type\":\"object\",\"name\":\"LinearScale\",\"id\":\"p12209\"},\"y_scale\":{\"type\":\"object\",\"name\":\"LinearScale\",\"id\":\"p12210\"},\"title\":{\"type\":\"object\",\"name\":\"Title\",\"id\":\"p12200\",\"attributes\":{\"text\":\"J06-14-19-40\"}},\"renderers\":[{\"type\":\"object\",\"name\":\"GlyphRenderer\",\"id\":\"p12234\",\"attributes\":{\"data_source\":{\"type\":\"object\",\"name\":\"ColumnDataSource\",\"id\":\"p12228\",\"attributes\":{\"selected\":{\"type\":\"object\",\"name\":\"Selection\",\"id\":\"p12229\",\"attributes\":{\"indices\":[],\"line_indices\":[]}},\"selection_policy\":{\"type\":\"object\",\"name\":\"UnionRenderers\",\"id\":\"p12230\"},\"data\":{\"type\":\"map\",\"entries\":[[\"x\",{\"type\":\"ndarray\",\"array\":{\"type\":\"bytes\",\"data\":\"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\"},\"shape\":[266],\"dtype\":\"float64\",\"order\":\"little\"}],[\"y\",{\"type\":\"ndarray\",\"array\":{\"type\":\"bytes\",\"data\":\"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\"},\"shape\":[266],\"dtype\":\"float64\",\"order\":\"little\"}]]}}},\"view\":{\"type\":\"object\",\"name\":\"CDSView\",\"id\":\"p12235\",\"attributes\":{\"filter\":{\"type\":\"object\",\"name\":\"AllIndices\",\"id\":\"p12236\"}}},\"glyph\":{\"type\":\"object\",\"name\":\"Line\",\"id\":\"p12231\",\"attributes\":{\"x\":{\"type\":\"field\",\"field\":\"x\"},\"y\":{\"type\":\"field\",\"field\":\"y\"},\"line_color\":\"green\",\"line_width\":2}},\"nonselection_glyph\":{\"type\":\"object\",\"name\":\"Line\",\"id\":\"p12232\",\"attributes\":{\"x\":{\"type\":\"field\",\"field\":\"x\"},\"y\":{\"type\":\"field\",\"field\":\"y\"},\"line_color\":\"green\",\"line_alpha\":0.1,\"line_width\":2}},\"muted_glyph\":{\"type\":\"object\",\"name\":\"Line\",\"id\":\"p12233\",\"attributes\":{\"x\":{\"type\":\"field\",\"field\":\"x\"},\"y\":{\"type\":\"field\",\"field\":\"y\"},\"line_color\":\"green\",\"line_alpha\":0.2,\"line_width\":2}}}},{\"type\":\"object\",\"name\":\"GlyphRenderer\",\"id\":\"p12245\",\"attributes\":{\"data_source\":{\"type\":\"object\",\"name\":\"ColumnDataSource\",\"id\":\"p12239\",\"attributes\":{\"selected\":{\"type\":\"object\",\"name\":\"Selection\",\"id\":\"p12240\",\"attributes\":{\"indices\":[],\"line_indices\":[]}},\"selection_policy\":{\"type\":\"object\",\"name\":\"UnionRenderers\",\"id\":\"p12241\"},\"data\":{\"type\":\"map\",\"entries\":[[\"x0\",[22.699999809265137]],[\"y0\",[0.0]],[\"x1\",[22.699999809265137]],[\"y1\",[433.584]]]}}},\"view\":{\"type\":\"object\",\"name\":\"CDSView\",\"id\":\"p12246\",\"attributes\":{\"filter\":{\"type\":\"object\",\"name\":\"AllIndices\",\"id\":\"p12247\"}}},\"glyph\":{\"type\":\"object\",\"name\":\"Segment\",\"id\":\"p12242\",\"attributes\":{\"x0\":{\"type\":\"field\",\"field\":\"x0\"},\"y0\":{\"type\":\"field\",\"field\":\"y0\"},\"x1\":{\"type\":\"field\",\"field\":\"x1\"},\"y1\":{\"type\":\"field\",\"field\":\"y1\"},\"line_color\":{\"type\":\"value\",\"value\":\"green\"},\"line_width\":{\"type\":\"value\",\"value\":5}}},\"nonselection_glyph\":{\"type\":\"object\",\"name\":\"Segment\",\"id\":\"p12243\",\"attributes\":{\"x0\":{\"type\":\"field\",\"field\":\"x0\"},\"y0\":{\"type\":\"field\",\"field\":\"y0\"},\"x1\":{\"type\":\"field\",\"field\":\"x1\"},\"y1\":{\"type\":\"field\",\"field\":\"y1\"},\"line_color\":{\"type\":\"value\",\"value\":\"green\"},\"line_alpha\":{\"type\":\"value\",\"value\":0.1},\"line_width\":{\"type\":\"value\",\"value\":5}}},\"muted_glyph\":{\"type\":\"object\",\"name\":\"Segment\",\"id\":\"p12244\",\"attributes\":{\"x0\":{\"type\":\"field\",\"field\":\"x0\"},\"y0\":{\"type\":\"field\",\"field\":\"y0\"},\"x1\":{\"type\":\"field\",\"field\":\"x1\"},\"y1\":{\"type\":\"field\",\"field\":\"y1\"},\"line_color\":{\"type\":\"value\",\"value\":\"green\"},\"line_alpha\":{\"type\":\"value\",\"value\":0.2},\"line_width\":{\"type\":\"value\",\"value\":5}}}}}],\"toolbar\":{\"type\":\"object\",\"name\":\"Toolbar\",\"id\":\"p12206\",\"attributes\":{\"tools\":[{\"type\":\"object\",\"name\":\"PanTool\",\"id\":\"p12221\"},{\"type\":\"object\",\"name\":\"WheelZoomTool\",\"id\":\"p12222\"},{\"type\":\"object\",\"name\":\"BoxZoomTool\",\"id\":\"p12223\",\"attributes\":{\"overlay\":{\"type\":\"object\",\"name\":\"BoxAnnotation\",\"id\":\"p12224\",\"attributes\":{\"syncable\":false,\"level\":\"overlay\",\"visible\":false,\"left_units\":\"canvas\",\"right_units\":\"canvas\",\"bottom_units\":\"canvas\",\"top_units\":\"canvas\",\"line_color\":\"black\",\"line_alpha\":1.0,\"line_width\":2,\"line_dash\":[4,4],\"fill_color\":\"lightgrey\",\"fill_alpha\":0.5}}}},{\"type\":\"object\",\"name\":\"SaveTool\",\"id\":\"p12225\"},{\"type\":\"object\",\"name\":\"ResetTool\",\"id\":\"p12226\"},{\"type\":\"object\",\"name\":\"HelpTool\",\"id\":\"p12227\"}]}},\"left\":[{\"type\":\"object\",\"name\":\"LinearAxis\",\"id\":\"p12216\",\"attributes\":{\"ticker\":{\"type\":\"object\",\"name\":\"BasicTicker\",\"id\":\"p12217\",\"attributes\":{\"mantissas\":[1,2,5]}},\"formatter\":{\"type\":\"object\",\"name\":\"BasicTickFormatter\",\"id\":\"p12218\"},\"axis_label\":\"km/h\",\"major_label_policy\":{\"type\":\"object\",\"name\":\"AllLabels\",\"id\":\"p12219\"}}}],\"below\":[{\"type\":\"object\",\"name\":\"LinearAxis\",\"id\":\"p12211\",\"attributes\":{\"ticker\":{\"type\":\"object\",\"name\":\"BasicTicker\",\"id\":\"p12212\",\"attributes\":{\"mantissas\":[1,2,5]}},\"formatter\":{\"type\":\"object\",\"name\":\"BasicTickFormatter\",\"id\":\"p12213\"},\"axis_label\":\"seconds from exit\",\"major_label_policy\":{\"type\":\"object\",\"name\":\"AllLabels\",\"id\":\"p12214\"}}}],\"center\":[{\"type\":\"object\",\"name\":\"Grid\",\"id\":\"p12215\",\"attributes\":{\"axis\":{\"id\":\"p12211\"}}},{\"type\":\"object\",\"name\":\"Grid\",\"id\":\"p12220\",\"attributes\":{\"dimension\":1,\"axis\":{\"id\":\"p12216\"}}},{\"type\":\"object\",\"name\":\"Legend\",\"id\":\"p12237\",\"attributes\":{\"items\":[{\"type\":\"object\",\"name\":\"LegendItem\",\"id\":\"p12238\",\"attributes\":{\"label\":{\"type\":\"value\",\"value\":\"speed\"},\"renderers\":[{\"id\":\"p12234\"}]}}]}}]}}]}};\n",
       "  const render_items = [{\"docid\":\"e6517ff3-3887-44bf-9073-69cc47e2ecb8\",\"roots\":{\"p12197\":\"d0bf0039-8df7-421c-89c0-c7313fcab938\"},\"root_ids\":[\"p12197\"]}];\n",
       "  root.Bokeh.embed.embed_items_notebook(docs_json, render_items);\n",
       "  }\n",
       "  if (root.Bokeh !== undefined) {\n",
       "    embed_document(root);\n",
       "  } else {\n",
       "    let attempts = 0;\n",
       "    const timer = setInterval(function(root) {\n",
       "      if (root.Bokeh !== undefined) {\n",
       "        clearInterval(timer);\n",
       "        embed_document(root);\n",
       "      } else {\n",
       "        attempts++;\n",
       "        if (attempts > 100) {\n",
       "          clearInterval(timer);\n",
       "          console.log(\"Bokeh: ERROR: Unable to run BokehJS code because BokehJS library is missing\");\n",
       "        }\n",
       "      }\n",
       "    }, 10, root)\n",
       "  }\n",
       "})(window);"
      ],
      "application/vnd.bokehjs_exec.v0+json": ""
     },
     "metadata": {
      "application/vnd.bokehjs_exec.v0+json": {
       "id": "p12197"
      }
     },
     "output_type": "display_data"
    },
    {
     "data": {
      "application/vnd.jupyter.widget-view+json": {
       "model_id": "68b4a1fa61d54595951a26ea3f044324",
       "version_major": 2,
       "version_minor": 0
      },
      "text/plain": [
       "HTML(value='<hr><h1><span style=\"color: #0f0\">J07-07-52-08 jump - 🟢 valid - score = 441.83 km/h</span></h1>')"
      ]
     },
     "metadata": {},
     "output_type": "display_data"
    },
    {
     "data": {
      "application/vnd.jupyter.widget-view+json": {
       "model_id": "d5dfc494200c46989ca4fafd110e2043",
       "version_major": 2,
       "version_minor": 0
      },
      "text/plain": [
       "HTML(value='<h3>Max speed = 447; exit at 4081 m (13390 ft), breakoff at 1825 m (5988 ft)</h3>')"
      ]
     },
     "metadata": {},
     "output_type": "display_data"
    },
    {
     "data": {
      "text/html": [
       "\n",
       "  <div id=\"c787de8e-9ac3-4c65-a328-a46a569781b7\" data-root-id=\"p12260\" style=\"display: contents;\"></div>\n"
      ]
     },
     "metadata": {},
     "output_type": "display_data"
    },
    {
     "data": {
      "application/javascript": [
       "(function(root) {\n",
       "  function embed_document(root) {\n",
       "  const docs_json = {\"2f7910bb-fdc1-4ac9-8112-569315bbbb9a\":{\"version\":\"3.2.2\",\"title\":\"Bokeh Application\",\"roots\":[{\"type\":\"object\",\"name\":\"Figure\",\"id\":\"p12260\",\"attributes\":{\"width\":900,\"height\":500,\"x_range\":{\"type\":\"object\",\"name\":\"Range1d\",\"id\":\"p12270\",\"attributes\":{\"end\":40}},\"y_range\":{\"type\":\"object\",\"name\":\"Range1d\",\"id\":\"p12271\",\"attributes\":{\"end\":550}},\"x_scale\":{\"type\":\"object\",\"name\":\"LinearScale\",\"id\":\"p12272\"},\"y_scale\":{\"type\":\"object\",\"name\":\"LinearScale\",\"id\":\"p12273\"},\"title\":{\"type\":\"object\",\"name\":\"Title\",\"id\":\"p12263\",\"attributes\":{\"text\":\"J07-07-52-08\"}},\"renderers\":[{\"type\":\"object\",\"name\":\"GlyphRenderer\",\"id\":\"p12297\",\"attributes\":{\"data_source\":{\"type\":\"object\",\"name\":\"ColumnDataSource\",\"id\":\"p12291\",\"attributes\":{\"selected\":{\"type\":\"object\",\"name\":\"Selection\",\"id\":\"p12292\",\"attributes\":{\"indices\":[],\"line_indices\":[]}},\"selection_policy\":{\"type\":\"object\",\"name\":\"UnionRenderers\",\"id\":\"p12293\"},\"data\":{\"type\":\"map\",\"entries\":[[\"x\",{\"type\":\"ndarray\",\"array\":{\"type\":\"bytes\",\"data\":\"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\"},\"shape\":[258],\"dtype\":\"float64\",\"order\":\"little\"}],[\"y\",{\"type\":\"ndarray\",\"array\":{\"type\":\"bytes\",\"data\":\"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\"},\"shape\":[258],\"dtype\":\"float64\",\"order\":\"little\"}]]}}},\"view\":{\"type\":\"object\",\"name\":\"CDSView\",\"id\":\"p12298\",\"attributes\":{\"filter\":{\"type\":\"object\",\"name\":\"AllIndices\",\"id\":\"p12299\"}}},\"glyph\":{\"type\":\"object\",\"name\":\"Line\",\"id\":\"p12294\",\"attributes\":{\"x\":{\"type\":\"field\",\"field\":\"x\"},\"y\":{\"type\":\"field\",\"field\":\"y\"},\"line_color\":\"green\",\"line_width\":2}},\"nonselection_glyph\":{\"type\":\"object\",\"name\":\"Line\",\"id\":\"p12295\",\"attributes\":{\"x\":{\"type\":\"field\",\"field\":\"x\"},\"y\":{\"type\":\"field\",\"field\":\"y\"},\"line_color\":\"green\",\"line_alpha\":0.1,\"line_width\":2}},\"muted_glyph\":{\"type\":\"object\",\"name\":\"Line\",\"id\":\"p12296\",\"attributes\":{\"x\":{\"type\":\"field\",\"field\":\"x\"},\"y\":{\"type\":\"field\",\"field\":\"y\"},\"line_color\":\"green\",\"line_alpha\":0.2,\"line_width\":2}}}},{\"type\":\"object\",\"name\":\"GlyphRenderer\",\"id\":\"p12308\",\"attributes\":{\"data_source\":{\"type\":\"object\",\"name\":\"ColumnDataSource\",\"id\":\"p12302\",\"attributes\":{\"selected\":{\"type\":\"object\",\"name\":\"Selection\",\"id\":\"p12303\",\"attributes\":{\"indices\":[],\"line_indices\":[]}},\"selection_policy\":{\"type\":\"object\",\"name\":\"UnionRenderers\",\"id\":\"p12304\"},\"data\":{\"type\":\"map\",\"entries\":[[\"x0\",[19.5]],[\"y0\",[0.0]],[\"x1\",[19.5]],[\"y1\",[441.82800000000003]]]}}},\"view\":{\"type\":\"object\",\"name\":\"CDSView\",\"id\":\"p12309\",\"attributes\":{\"filter\":{\"type\":\"object\",\"name\":\"AllIndices\",\"id\":\"p12310\"}}},\"glyph\":{\"type\":\"object\",\"name\":\"Segment\",\"id\":\"p12305\",\"attributes\":{\"x0\":{\"type\":\"field\",\"field\":\"x0\"},\"y0\":{\"type\":\"field\",\"field\":\"y0\"},\"x1\":{\"type\":\"field\",\"field\":\"x1\"},\"y1\":{\"type\":\"field\",\"field\":\"y1\"},\"line_color\":{\"type\":\"value\",\"value\":\"green\"},\"line_width\":{\"type\":\"value\",\"value\":5}}},\"nonselection_glyph\":{\"type\":\"object\",\"name\":\"Segment\",\"id\":\"p12306\",\"attributes\":{\"x0\":{\"type\":\"field\",\"field\":\"x0\"},\"y0\":{\"type\":\"field\",\"field\":\"y0\"},\"x1\":{\"type\":\"field\",\"field\":\"x1\"},\"y1\":{\"type\":\"field\",\"field\":\"y1\"},\"line_color\":{\"type\":\"value\",\"value\":\"green\"},\"line_alpha\":{\"type\":\"value\",\"value\":0.1},\"line_width\":{\"type\":\"value\",\"value\":5}}},\"muted_glyph\":{\"type\":\"object\",\"name\":\"Segment\",\"id\":\"p12307\",\"attributes\":{\"x0\":{\"type\":\"field\",\"field\":\"x0\"},\"y0\":{\"type\":\"field\",\"field\":\"y0\"},\"x1\":{\"type\":\"field\",\"field\":\"x1\"},\"y1\":{\"type\":\"field\",\"field\":\"y1\"},\"line_color\":{\"type\":\"value\",\"value\":\"green\"},\"line_alpha\":{\"type\":\"value\",\"value\":0.2},\"line_width\":{\"type\":\"value\",\"value\":5}}}}}],\"toolbar\":{\"type\":\"object\",\"name\":\"Toolbar\",\"id\":\"p12269\",\"attributes\":{\"tools\":[{\"type\":\"object\",\"name\":\"PanTool\",\"id\":\"p12284\"},{\"type\":\"object\",\"name\":\"WheelZoomTool\",\"id\":\"p12285\"},{\"type\":\"object\",\"name\":\"BoxZoomTool\",\"id\":\"p12286\",\"attributes\":{\"overlay\":{\"type\":\"object\",\"name\":\"BoxAnnotation\",\"id\":\"p12287\",\"attributes\":{\"syncable\":false,\"level\":\"overlay\",\"visible\":false,\"left_units\":\"canvas\",\"right_units\":\"canvas\",\"bottom_units\":\"canvas\",\"top_units\":\"canvas\",\"line_color\":\"black\",\"line_alpha\":1.0,\"line_width\":2,\"line_dash\":[4,4],\"fill_color\":\"lightgrey\",\"fill_alpha\":0.5}}}},{\"type\":\"object\",\"name\":\"SaveTool\",\"id\":\"p12288\"},{\"type\":\"object\",\"name\":\"ResetTool\",\"id\":\"p12289\"},{\"type\":\"object\",\"name\":\"HelpTool\",\"id\":\"p12290\"}]}},\"left\":[{\"type\":\"object\",\"name\":\"LinearAxis\",\"id\":\"p12279\",\"attributes\":{\"ticker\":{\"type\":\"object\",\"name\":\"BasicTicker\",\"id\":\"p12280\",\"attributes\":{\"mantissas\":[1,2,5]}},\"formatter\":{\"type\":\"object\",\"name\":\"BasicTickFormatter\",\"id\":\"p12281\"},\"axis_label\":\"km/h\",\"major_label_policy\":{\"type\":\"object\",\"name\":\"AllLabels\",\"id\":\"p12282\"}}}],\"below\":[{\"type\":\"object\",\"name\":\"LinearAxis\",\"id\":\"p12274\",\"attributes\":{\"ticker\":{\"type\":\"object\",\"name\":\"BasicTicker\",\"id\":\"p12275\",\"attributes\":{\"mantissas\":[1,2,5]}},\"formatter\":{\"type\":\"object\",\"name\":\"BasicTickFormatter\",\"id\":\"p12276\"},\"axis_label\":\"seconds from exit\",\"major_label_policy\":{\"type\":\"object\",\"name\":\"AllLabels\",\"id\":\"p12277\"}}}],\"center\":[{\"type\":\"object\",\"name\":\"Grid\",\"id\":\"p12278\",\"attributes\":{\"axis\":{\"id\":\"p12274\"}}},{\"type\":\"object\",\"name\":\"Grid\",\"id\":\"p12283\",\"attributes\":{\"dimension\":1,\"axis\":{\"id\":\"p12279\"}}},{\"type\":\"object\",\"name\":\"Legend\",\"id\":\"p12300\",\"attributes\":{\"items\":[{\"type\":\"object\",\"name\":\"LegendItem\",\"id\":\"p12301\",\"attributes\":{\"label\":{\"type\":\"value\",\"value\":\"speed\"},\"renderers\":[{\"id\":\"p12297\"}]}}]}}]}}]}};\n",
       "  const render_items = [{\"docid\":\"2f7910bb-fdc1-4ac9-8112-569315bbbb9a\",\"roots\":{\"p12260\":\"c787de8e-9ac3-4c65-a328-a46a569781b7\"},\"root_ids\":[\"p12260\"]}];\n",
       "  root.Bokeh.embed.embed_items_notebook(docs_json, render_items);\n",
       "  }\n",
       "  if (root.Bokeh !== undefined) {\n",
       "    embed_document(root);\n",
       "  } else {\n",
       "    let attempts = 0;\n",
       "    const timer = setInterval(function(root) {\n",
       "      if (root.Bokeh !== undefined) {\n",
       "        clearInterval(timer);\n",
       "        embed_document(root);\n",
       "      } else {\n",
       "        attempts++;\n",
       "        if (attempts > 100) {\n",
       "          clearInterval(timer);\n",
       "          console.log(\"Bokeh: ERROR: Unable to run BokehJS code because BokehJS library is missing\");\n",
       "        }\n",
       "      }\n",
       "    }, 10, root)\n",
       "  }\n",
       "})(window);"
      ],
      "application/vnd.bokehjs_exec.v0+json": ""
     },
     "metadata": {
      "application/vnd.bokehjs_exec.v0+json": {
       "id": "p12260"
      }
     },
     "output_type": "display_data"
    },
    {
     "data": {
      "application/vnd.jupyter.widget-view+json": {
       "model_id": "2b437bb0223c44c397af3529c966ff76",
       "version_major": 2,
       "version_minor": 0
      },
      "text/plain": [
       "HTML(value='<hr><h1><span style=\"color: #0f0\">J08-09-07-09 jump - 🟢 valid - score = 439.69 km/h</span></h1>')"
      ]
     },
     "metadata": {},
     "output_type": "display_data"
    },
    {
     "data": {
      "application/vnd.jupyter.widget-view+json": {
       "model_id": "9b7554cde7ca4308a7cc95bc23fae26d",
       "version_major": 2,
       "version_minor": 0
      },
      "text/plain": [
       "HTML(value='<h3>Max speed = 443; exit at 4160 m (13650 ft), breakoff at 1904 m (6249 ft)</h3>')"
      ]
     },
     "metadata": {},
     "output_type": "display_data"
    },
    {
     "data": {
      "text/html": [
       "\n",
       "  <div id=\"ac3bc8de-dd85-4bef-ba78-27205df8f1a8\" data-root-id=\"p12323\" style=\"display: contents;\"></div>\n"
      ]
     },
     "metadata": {},
     "output_type": "display_data"
    },
    {
     "data": {
      "application/javascript": [
       "(function(root) {\n",
       "  function embed_document(root) {\n",
       "  const docs_json = {\"34ea6dba-00f8-41e0-9a74-0be2b0797b90\":{\"version\":\"3.2.2\",\"title\":\"Bokeh Application\",\"roots\":[{\"type\":\"object\",\"name\":\"Figure\",\"id\":\"p12323\",\"attributes\":{\"width\":900,\"height\":500,\"x_range\":{\"type\":\"object\",\"name\":\"Range1d\",\"id\":\"p12333\",\"attributes\":{\"end\":40}},\"y_range\":{\"type\":\"object\",\"name\":\"Range1d\",\"id\":\"p12334\",\"attributes\":{\"end\":550}},\"x_scale\":{\"type\":\"object\",\"name\":\"LinearScale\",\"id\":\"p12335\"},\"y_scale\":{\"type\":\"object\",\"name\":\"LinearScale\",\"id\":\"p12336\"},\"title\":{\"type\":\"object\",\"name\":\"Title\",\"id\":\"p12326\",\"attributes\":{\"text\":\"J08-09-07-09\"}},\"renderers\":[{\"type\":\"object\",\"name\":\"GlyphRenderer\",\"id\":\"p12360\",\"attributes\":{\"data_source\":{\"type\":\"object\",\"name\":\"ColumnDataSource\",\"id\":\"p12354\",\"attributes\":{\"selected\":{\"type\":\"object\",\"name\":\"Selection\",\"id\":\"p12355\",\"attributes\":{\"indices\":[],\"line_indices\":[]}},\"selection_policy\":{\"type\":\"object\",\"name\":\"UnionRenderers\",\"id\":\"p12356\"},\"data\":{\"type\":\"map\",\"entries\":[[\"x\",{\"type\":\"ndarray\",\"array\":{\"type\":\"bytes\",\"data\":\"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\"},\"shape\":[259],\"dtype\":\"float64\",\"order\":\"little\"}],[\"y\",{\"type\":\"ndarray\",\"array\":{\"type\":\"bytes\",\"data\":\"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\"},\"shape\":[259],\"dtype\":\"float64\",\"order\":\"little\"}]]}}},\"view\":{\"type\":\"object\",\"name\":\"CDSView\",\"id\":\"p12361\",\"attributes\":{\"filter\":{\"type\":\"object\",\"name\":\"AllIndices\",\"id\":\"p12362\"}}},\"glyph\":{\"type\":\"object\",\"name\":\"Line\",\"id\":\"p12357\",\"attributes\":{\"x\":{\"type\":\"field\",\"field\":\"x\"},\"y\":{\"type\":\"field\",\"field\":\"y\"},\"line_color\":\"green\",\"line_width\":2}},\"nonselection_glyph\":{\"type\":\"object\",\"name\":\"Line\",\"id\":\"p12358\",\"attributes\":{\"x\":{\"type\":\"field\",\"field\":\"x\"},\"y\":{\"type\":\"field\",\"field\":\"y\"},\"line_color\":\"green\",\"line_alpha\":0.1,\"line_width\":2}},\"muted_glyph\":{\"type\":\"object\",\"name\":\"Line\",\"id\":\"p12359\",\"attributes\":{\"x\":{\"type\":\"field\",\"field\":\"x\"},\"y\":{\"type\":\"field\",\"field\":\"y\"},\"line_color\":\"green\",\"line_alpha\":0.2,\"line_width\":2}}}},{\"type\":\"object\",\"name\":\"GlyphRenderer\",\"id\":\"p12371\",\"attributes\":{\"data_source\":{\"type\":\"object\",\"name\":\"ColumnDataSource\",\"id\":\"p12365\",\"attributes\":{\"selected\":{\"type\":\"object\",\"name\":\"Selection\",\"id\":\"p12366\",\"attributes\":{\"indices\":[],\"line_indices\":[]}},\"selection_policy\":{\"type\":\"object\",\"name\":\"UnionRenderers\",\"id\":\"p12367\"},\"data\":{\"type\":\"map\",\"entries\":[[\"x0\",[21.799999952316284]],[\"y0\",[0.0]],[\"x1\",[21.799999952316284]],[\"y1\",[439.68600000000004]]]}}},\"view\":{\"type\":\"object\",\"name\":\"CDSView\",\"id\":\"p12372\",\"attributes\":{\"filter\":{\"type\":\"object\",\"name\":\"AllIndices\",\"id\":\"p12373\"}}},\"glyph\":{\"type\":\"object\",\"name\":\"Segment\",\"id\":\"p12368\",\"attributes\":{\"x0\":{\"type\":\"field\",\"field\":\"x0\"},\"y0\":{\"type\":\"field\",\"field\":\"y0\"},\"x1\":{\"type\":\"field\",\"field\":\"x1\"},\"y1\":{\"type\":\"field\",\"field\":\"y1\"},\"line_color\":{\"type\":\"value\",\"value\":\"green\"},\"line_width\":{\"type\":\"value\",\"value\":5}}},\"nonselection_glyph\":{\"type\":\"object\",\"name\":\"Segment\",\"id\":\"p12369\",\"attributes\":{\"x0\":{\"type\":\"field\",\"field\":\"x0\"},\"y0\":{\"type\":\"field\",\"field\":\"y0\"},\"x1\":{\"type\":\"field\",\"field\":\"x1\"},\"y1\":{\"type\":\"field\",\"field\":\"y1\"},\"line_color\":{\"type\":\"value\",\"value\":\"green\"},\"line_alpha\":{\"type\":\"value\",\"value\":0.1},\"line_width\":{\"type\":\"value\",\"value\":5}}},\"muted_glyph\":{\"type\":\"object\",\"name\":\"Segment\",\"id\":\"p12370\",\"attributes\":{\"x0\":{\"type\":\"field\",\"field\":\"x0\"},\"y0\":{\"type\":\"field\",\"field\":\"y0\"},\"x1\":{\"type\":\"field\",\"field\":\"x1\"},\"y1\":{\"type\":\"field\",\"field\":\"y1\"},\"line_color\":{\"type\":\"value\",\"value\":\"green\"},\"line_alpha\":{\"type\":\"value\",\"value\":0.2},\"line_width\":{\"type\":\"value\",\"value\":5}}}}}],\"toolbar\":{\"type\":\"object\",\"name\":\"Toolbar\",\"id\":\"p12332\",\"attributes\":{\"tools\":[{\"type\":\"object\",\"name\":\"PanTool\",\"id\":\"p12347\"},{\"type\":\"object\",\"name\":\"WheelZoomTool\",\"id\":\"p12348\"},{\"type\":\"object\",\"name\":\"BoxZoomTool\",\"id\":\"p12349\",\"attributes\":{\"overlay\":{\"type\":\"object\",\"name\":\"BoxAnnotation\",\"id\":\"p12350\",\"attributes\":{\"syncable\":false,\"level\":\"overlay\",\"visible\":false,\"left_units\":\"canvas\",\"right_units\":\"canvas\",\"bottom_units\":\"canvas\",\"top_units\":\"canvas\",\"line_color\":\"black\",\"line_alpha\":1.0,\"line_width\":2,\"line_dash\":[4,4],\"fill_color\":\"lightgrey\",\"fill_alpha\":0.5}}}},{\"type\":\"object\",\"name\":\"SaveTool\",\"id\":\"p12351\"},{\"type\":\"object\",\"name\":\"ResetTool\",\"id\":\"p12352\"},{\"type\":\"object\",\"name\":\"HelpTool\",\"id\":\"p12353\"}]}},\"left\":[{\"type\":\"object\",\"name\":\"LinearAxis\",\"id\":\"p12342\",\"attributes\":{\"ticker\":{\"type\":\"object\",\"name\":\"BasicTicker\",\"id\":\"p12343\",\"attributes\":{\"mantissas\":[1,2,5]}},\"formatter\":{\"type\":\"object\",\"name\":\"BasicTickFormatter\",\"id\":\"p12344\"},\"axis_label\":\"km/h\",\"major_label_policy\":{\"type\":\"object\",\"name\":\"AllLabels\",\"id\":\"p12345\"}}}],\"below\":[{\"type\":\"object\",\"name\":\"LinearAxis\",\"id\":\"p12337\",\"attributes\":{\"ticker\":{\"type\":\"object\",\"name\":\"BasicTicker\",\"id\":\"p12338\",\"attributes\":{\"mantissas\":[1,2,5]}},\"formatter\":{\"type\":\"object\",\"name\":\"BasicTickFormatter\",\"id\":\"p12339\"},\"axis_label\":\"seconds from exit\",\"major_label_policy\":{\"type\":\"object\",\"name\":\"AllLabels\",\"id\":\"p12340\"}}}],\"center\":[{\"type\":\"object\",\"name\":\"Grid\",\"id\":\"p12341\",\"attributes\":{\"axis\":{\"id\":\"p12337\"}}},{\"type\":\"object\",\"name\":\"Grid\",\"id\":\"p12346\",\"attributes\":{\"dimension\":1,\"axis\":{\"id\":\"p12342\"}}},{\"type\":\"object\",\"name\":\"Legend\",\"id\":\"p12363\",\"attributes\":{\"items\":[{\"type\":\"object\",\"name\":\"LegendItem\",\"id\":\"p12364\",\"attributes\":{\"label\":{\"type\":\"value\",\"value\":\"speed\"},\"renderers\":[{\"id\":\"p12360\"}]}}]}}]}}]}};\n",
       "  const render_items = [{\"docid\":\"34ea6dba-00f8-41e0-9a74-0be2b0797b90\",\"roots\":{\"p12323\":\"ac3bc8de-dd85-4bef-ba78-27205df8f1a8\"},\"root_ids\":[\"p12323\"]}];\n",
       "  root.Bokeh.embed.embed_items_notebook(docs_json, render_items);\n",
       "  }\n",
       "  if (root.Bokeh !== undefined) {\n",
       "    embed_document(root);\n",
       "  } else {\n",
       "    let attempts = 0;\n",
       "    const timer = setInterval(function(root) {\n",
       "      if (root.Bokeh !== undefined) {\n",
       "        clearInterval(timer);\n",
       "        embed_document(root);\n",
       "      } else {\n",
       "        attempts++;\n",
       "        if (attempts > 100) {\n",
       "          clearInterval(timer);\n",
       "          console.log(\"Bokeh: ERROR: Unable to run BokehJS code because BokehJS library is missing\");\n",
       "        }\n",
       "      }\n",
       "    }, 10, root)\n",
       "  }\n",
       "})(window);"
      ],
      "application/vnd.bokehjs_exec.v0+json": ""
     },
     "metadata": {
      "application/vnd.bokehjs_exec.v0+json": {
       "id": "p12323"
      }
     },
     "output_type": "display_data"
    }
   ],
   "source": [
    "allJumpsPlot = initializePlot('All jumps in set')\n",
    "jumpNumber = 0\n",
    "mixColor = 0\n",
    "for resultRef in jumpResults.keys():\n",
    "    jumpResult = jumpResults[resultRef]\n",
    "    if 'invalid' in jumpResult.result:\n",
    "        validJumpStatus = '<hr><h1><span style=\"color: %s\">%s jump - %s</span></h1>' % (jumpResult.color, resultRef, jumpResult.result)\n",
    "    else:\n",
    "        validJumpStatus = '<hr><h1><span style=\"color: %s\">%s jump - %s - score = %.02f km/h</span></h1>' % (jumpResult.color, resultRef, jumpResult.result, jumpResult.score)\n",
    "    display(widgets.HTML(validJumpStatus))\n",
    "\n",
    "    maxSpeed = jumpResult.maxSpeed\n",
    "    window = jumpResult.window\n",
    "    mixColor = (mixColor+1)%len(SPEED_COLORS)\n",
    "    if 'invalid' not in jumpResult.result:\n",
    "        display(widgets.HTML('<h3>Max speed = {0:,.0f}; '.format(maxSpeed)+('exit at %d m (%d ft), breakoff at %d m (%d ft)</h3>'%(window.start, 3.2808*window.start, window.end, 3.2808*window.end))))\n",
    "        graphJumpResult(initializePlot(resultRef), jumpResult)\n",
    "        graphJumpResult(allJumpsPlot, jumpResult, lineColor = SPEED_COLORS[mixColor], legend = '%s - %.2f' % (resultRef, jumpResult.score), showIt = False)"
   ]
  },
  {
   "cell_type": "markdown",
   "id": "7363faaf-27a9-401c-9271-73b71436f19c",
   "metadata": {},
   "source": [
    "## All jumps"
   ]
  },
  {
   "cell_type": "code",
   "execution_count": null,
   "id": "17991fcf-e215-4a53-a6ff-d9a64cbafd94",
   "metadata": {},
   "outputs": [],
   "source": [
    "bp.show(allJumpsPlot)"
   ]
  },
  {
   "cell_type": "code",
   "execution_count": null,
   "id": "9423a447-bd3e-49ef-b615-f133ce523a0e",
   "metadata": {},
   "outputs": [],
   "source": []
  }
 ],
 "metadata": {
  "kernelspec": {
   "display_name": "Python 3 (ipykernel)",
   "language": "python",
   "name": "python3"
  },
  "language_info": {
   "codemirror_mode": {
    "name": "ipython",
    "version": 3
   },
   "file_extension": ".py",
   "mimetype": "text/x-python",
   "name": "python",
   "nbconvert_exporter": "python",
   "pygments_lexer": "ipython3",
   "version": "3.11.4"
  }
 },
 "nbformat": 4,
 "nbformat_minor": 5
}
