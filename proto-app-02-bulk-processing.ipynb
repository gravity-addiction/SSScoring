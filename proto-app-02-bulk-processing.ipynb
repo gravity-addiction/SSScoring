{
 "cells": [
  {
   "cell_type": "markdown",
   "id": "36a745d9-2003-496e-a394-290f63a970b7",
   "metadata": {},
   "source": [
    "# Bulk processing\n",
    "\n",
    "Take all the jump files in a data lake and process them as a group.  Produce the mean results for scores, max speed, curves, and the 5-second partial results.\n",
    "\n",
    "Conforming to Lucyfer's default configuration, the data lake starts at the `./data` directory and includes any and all files below it."
   ]
  },
  {
   "cell_type": "markdown",
   "id": "22e5f6e1-08a9-4dd2-91b2-880ae9102976",
   "metadata": {},
   "source": [
    "---\n",
    "## Prepare the environment"
   ]
  },
  {
   "cell_type": "code",
   "execution_count": null,
   "id": "98c7a164-9492-4672-904b-5bf3abf61773",
   "metadata": {},
   "outputs": [],
   "source": [
    "from collections import namedtuple\n",
    "from copy import deepcopy\n",
    "\n",
    "from ssscoring import ALTITUDE_SKYDIVE_PARACLETE_XP\n",
    "from ssscoring import BREAKOFF_ALTITUDE\n",
    "from ssscoring import PERFORMANCE_WINDOW_LENGTH\n",
    "from ssscoring import convertFlySight2SSScoring\n",
    "from ssscoring import dropNonSkydiveDataFrom\n",
    "from ssscoring import getAllSpeedJumpFilesFrom\n",
    "from ssscoring import getSpeedSkydiveFrom\n",
    "from ssscoring import isValidJump\n",
    "from ssscoring import jumpAnalysisTable\n",
    "from ssscoring import validFlySightHeaderIn\n",
    "from ssscoring.notebook import processJump\n",
    "\n",
    "import csv\n",
    "import os\n",
    "import os.path as path\n",
    "\n",
    "import bokeh.plotting as bp\n",
    "import ipywidgets as widgets\n",
    "import pandas as pd"
   ]
  },
  {
   "cell_type": "code",
   "execution_count": null,
   "id": "b9813c03-a15a-488c-b77b-682c35bd3219",
   "metadata": {},
   "outputs": [],
   "source": [
    "DATA_LAKE_ROOT = './data' # Lucyfer default\n",
    "FLYSIGHT_HEADER = set([ 'time', 'lat', 'lon', 'hMSL', 'velN', 'velE', 'velD', 'hAcc', 'vAcc', 'sAcc', 'heading', 'cAcc', 'gpsFix', 'numSV', ])\n",
    "IGNORE_LIST = [ '.ipynb_checkpoints', ]\n",
    "MIN_JUMP_FILE_SIZE = 1024*512\n",
    "LAST_TIME_TRANCHE = 25.0\n",
    "SPEED_COLORS = colors = ('blue', 'limegreen', 'tomato', 'turquoise', 'deepskyblue', 'forestgreen', 'coral', 'darkcyan',)"
   ]
  },
  {
   "cell_type": "code",
   "execution_count": null,
   "id": "fa17d3d4-a06d-439a-b885-e8cb761ef085",
   "metadata": {},
   "outputs": [],
   "source": [
    "bp.output_notebook()"
   ]
  },
  {
   "cell_type": "markdown",
   "id": "2cb8a0d9-486a-4937-82f7-ca6cf18695d5",
   "metadata": {},
   "source": [
    "## Get a list of all FlySight files in the data lake\n",
    "\n",
    "This also discards all files that don't reflect a valid jump:\n",
    "\n",
    "- Detect the files by size and discard any file smaller than `MIN_JUMP_FILE_SIZE`\n",
    "- Detect that each file has the FlySight header on the first line"
   ]
  },
  {
   "cell_type": "code",
   "execution_count": null,
   "id": "b1273b5c-44c1-46c2-a125-d01ad9268a1a",
   "metadata": {},
   "outputs": [],
   "source": [
    "jumpFiles = getAllSpeedJumpFilesFrom(DATA_LAKE_ROOT)"
   ]
  },
  {
   "cell_type": "markdown",
   "id": "98730ca7-a799-4e2b-860d-5ccd0d5ca30e",
   "metadata": {},
   "source": [
    "---\n",
    "## Process all files"
   ]
  },
  {
   "cell_type": "code",
   "execution_count": null,
   "id": "d288a0b0-876a-44d5-8cd5-79610b8804f8",
   "metadata": {},
   "outputs": [],
   "source": [
    "resultsIndex = pd.Series((tag for tag in jumpFiles))"
   ]
  },
  {
   "cell_type": "code",
   "execution_count": null,
   "id": "3c9b5066-840f-41d6-a123-df0765562cfa",
   "metadata": {},
   "outputs": [],
   "source": [
    "jumpResults = dict()\n",
    "for jumpFile in jumpFiles:\n",
    "    jumpResult = processJump(\n",
    "        convertFlySight2SSScoring(\n",
    "            pd.read_csv(jumpFile, skiprows = (1, 1)),\n",
    "            altitudeDZMeters = ALTITUDE_SKYDIVE_PARACLETE_XP))\n",
    "    tag = jumpFile.replace('CSV', '').replace('.', '').replace('/data', '').replace('/', ' ').strip()\n",
    "    if 'valid' in jumpResult.result:\n",
    "        jumpResults[tag] = jumpResult"
   ]
  },
  {
   "cell_type": "markdown",
   "id": "d80518ef-f197-4e40-a74e-8089eecb725a",
   "metadata": {},
   "source": [
    "---\n",
    "## Results"
   ]
  },
  {
   "cell_type": "code",
   "execution_count": null,
   "id": "9bf86fc3-3537-4f48-8bd5-ff5284910777",
   "metadata": {},
   "outputs": [],
   "source": [
    "def aggregateResults(jumpResults: dict) -> pd.DataFrame:\n",
    "    ref = 0\n",
    "    speeds = pd.DataFrame()\n",
    "    for jumpResultIndex in jumpResults.keys():\n",
    "        jumpResult = jumpResults[jumpResultIndex]\n",
    "        if 'invalid' not in jumpResult.result:\n",
    "            t = jumpResult.table\n",
    "            finalTime = t.iloc[-1].time\n",
    "            t.iloc[-1].time = LAST_TIME_TRANCHE\n",
    "            t = pd.pivot_table(t, columns = t.time)\n",
    "            t.drop(['altitude (ft)'], inplace = True)\n",
    "            d = pd.DataFrame([ jumpResult.score, ], index = [ jumpResultIndex, ], columns = [ 'score', ], dtype = object)\n",
    "            for column in t.columns:\n",
    "                d[column] = t[column][0]\n",
    "            d['finalTime'] = [ finalTime, ]\n",
    "            d['maxSpeed'] = jumpResult.maxSpeed\n",
    "    \n",
    "            if speeds.empty:\n",
    "                speeds = d.copy()\n",
    "            else:\n",
    "                speeds = pd.concat([ speeds, d, ])\n",
    "    return speeds"
   ]
  },
  {
   "cell_type": "code",
   "execution_count": null,
   "id": "27c12cb1-2f60-44c9-b8fa-998b3df9d878",
   "metadata": {},
   "outputs": [],
   "source": [
    "aggregate = aggregateResults(jumpResults)\n",
    "sum = pd.DataFrame({ 'totalSpeed': [ aggregate.score.sum(), ], 'meanSpeed': [ aggregate.score.mean(), ], }, index = [ 'totalSpeed'],)\n",
    "display(aggregate)\n",
    "display(sum)"
   ]
  },
  {
   "cell_type": "code",
   "execution_count": null,
   "id": "2e8c07dc-b34e-4830-a94f-7ad2ede7b912",
   "metadata": {},
   "outputs": [],
   "source": [
    "def initializePlot(jumpTitle):\n",
    "    return bp.figure(title = jumpTitle,\n",
    "                     height = 500,\n",
    "                     width = 900,\n",
    "                     x_axis_label = 'seconds from exit',\n",
    "                     y_axis_label = 'km/h',\n",
    "                     x_range = (0,40),\n",
    "                     y_range = (0, 550))    "
   ]
  },
  {
   "cell_type": "code",
   "execution_count": null,
   "id": "8f8a45ca-e16d-49ed-b327-e70b9019c853",
   "metadata": {},
   "outputs": [],
   "source": [
    "def _graphSegment(plot,\n",
    "                  x0 = 0.0,\n",
    "                  y0 = 0.0,\n",
    "                  x1 = 0.0,\n",
    "                  y1 = 0.0,\n",
    "                  lineWidth = 1,\n",
    "                  color = 'black'):\n",
    "    plot.segment(x0 = [ x0, ],\n",
    "                 y0 = [ y0, ],\n",
    "                 x1 = [ x1, ],\n",
    "                 y1 = [ y1, ],\n",
    "                 line_width = lineWidth,\n",
    "                 color = color)"
   ]
  },
  {
   "cell_type": "code",
   "execution_count": null,
   "id": "da359cc3-a320-4b31-bc93-d6bd76718401",
   "metadata": {},
   "outputs": [],
   "source": [
    "def graphJumpResult(plot,\n",
    "                    jumpResult,\n",
    "                    lineColor = 'green',\n",
    "                    legend = 'speed',\n",
    "                    showIt = True):\n",
    "    data = jumpResult.data\n",
    "    maxSpeed = jumpResult.maxSpeed\n",
    "    scores = jumpResult.scores\n",
    "    score = jumpResult.score\n",
    "    plot.line(data.plotTime, data.vKMh, legend_label = legend, line_width = 2, line_color = lineColor)\n",
    "    \n",
    "    if showIt:\n",
    "        meanData = pd.DataFrame({ 'plotTime': scores.values(), 'score': scores.keys(), })\n",
    "        meanData = meanData[meanData.plotTime >= 15.0]\n",
    "        # plot.line(meanData.plotTime, meanData.score, legend_label = 'mean', line_width = 2, line_color = 'red')\n",
    "        _graphSegment(plot, scores[score], 0.0, scores[score], score, 3, 'green')\n",
    "        _graphSegment(plot, scores[score]+1.5, 0.0, scores[score]+1.5, score, 1, 'darkseagreen')\n",
    "        _graphSegment(plot, scores[score]-1.5, 0.0, scores[score]-1.5, score, 1, 'darkseagreen')\n",
    "        # plot.square_cross(x = [ scores[score], ], y = [ score, ], size = [ 20, ], line_color = 'green', fill_color = None, line_width = 1)\n",
    "        # plot.triangle_dot(x = [ scores[score], ], y = [ score, ], size = [ 20, ], line_color = 'green', fill_color = None, line_width = 1)\n",
    "        plot.y(x = [ scores[score], ], y = [ score, ], size = [ 20, ], line_color = 'green', line_width = 3)\n",
    "        bp.show(plot)"
   ]
  },
  {
   "cell_type": "code",
   "execution_count": null,
   "id": "888f2fce-1e7a-4728-b86d-7975c37e75c2",
   "metadata": {},
   "outputs": [],
   "source": [
    "allJumpsPlot = initializePlot('All jumps in set')\n",
    "jumpNumber = 0\n",
    "mixColor = 0\n",
    "for resultRef in jumpResults.keys():\n",
    "    jumpResult = jumpResults[resultRef]\n",
    "    if 'invalid' in jumpResult.result:\n",
    "        validJumpStatus = '<hr><h1><span style=\"color: %s\">%s jump - %s</span></h1>' % (jumpResult.color, resultRef, jumpResult.result)\n",
    "    else:\n",
    "        validJumpStatus = '<hr><h1><span style=\"color: %s\">%s jump - %s - score = %.02f km/h</span></h1>' % (jumpResult.color, resultRef, jumpResult.result, jumpResult.score)\n",
    "    display(widgets.HTML(validJumpStatus))\n",
    "\n",
    "    maxSpeed = jumpResult.maxSpeed\n",
    "    window = jumpResult.window\n",
    "    mixColor = (mixColor+1)%len(SPEED_COLORS)\n",
    "    if 'invalid' not in jumpResult.result:\n",
    "        display(widgets.HTML('<h3>Max speed = {0:,.0f}; '.format(maxSpeed)+('exit at %d m (%d ft), end scoring window at %d m (%d ft)</h3>'%(window.start, 3.2808*window.start, window.end, 3.2808*window.end))))\n",
    "        graphJumpResult(initializePlot(resultRef), jumpResult, lineColor = SPEED_COLORS[0])\n",
    "        graphJumpResult(allJumpsPlot, jumpResult, lineColor = SPEED_COLORS[mixColor], legend = '%s - %.2f' % (resultRef, jumpResult.score), showIt = False)"
   ]
  },
  {
   "cell_type": "markdown",
   "id": "7363faaf-27a9-401c-9271-73b71436f19c",
   "metadata": {},
   "source": [
    "## All jumps"
   ]
  },
  {
   "cell_type": "code",
   "execution_count": null,
   "id": "17991fcf-e215-4a53-a6ff-d9a64cbafd94",
   "metadata": {},
   "outputs": [],
   "source": [
    "bp.show(allJumpsPlot)"
   ]
  },
  {
   "cell_type": "code",
   "execution_count": null,
   "id": "9423a447-bd3e-49ef-b615-f133ce523a0e",
   "metadata": {},
   "outputs": [],
   "source": []
  }
 ],
 "metadata": {
  "kernelspec": {
   "display_name": "Python 3 (ipykernel)",
   "language": "python",
   "name": "python3"
  },
  "language_info": {
   "codemirror_mode": {
    "name": "ipython",
    "version": 3
   },
   "file_extension": ".py",
   "mimetype": "text/x-python",
   "name": "python",
   "nbconvert_exporter": "python",
   "pygments_lexer": "ipython3",
   "version": "3.11.4"
  }
 },
 "nbformat": 4,
 "nbformat_minor": 5
}
