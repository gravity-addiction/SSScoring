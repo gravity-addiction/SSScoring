{
 "cells": [
  {
   "cell_type": "markdown",
   "id": "36a745d9-2003-496e-a394-290f63a970b7",
   "metadata": {},
   "source": [
    "# Speed Skydiving scoring bulk files processor\n",
    "Uses the `./data` directory as a data lake.  It finds all valid FlySight files in that directory, from 0 to as many as it finds and fit in memory, and process them all.  Summary of \"all files\" or \"all jumps\" at the bottom of the document."
   ]
  },
  {
   "cell_type": "code",
   "execution_count": 2,
   "id": "98c7a164-9492-4672-904b-5bf3abf61773",
   "metadata": {},
   "outputs": [],
   "source": [
    "from collections import namedtuple\n",
    "from copy import deepcopy\n",
    "\n",
    "from ssscoring.calc import aggregateResults\n",
    "from ssscoring.calc import convertFlySight2SSScoring\n",
    "from ssscoring.calc import dropNonSkydiveDataFrom\n",
    "from ssscoring.calc import getSpeedSkydiveFrom\n",
    "from ssscoring.calc import isValidJump\n",
    "from ssscoring.calc import isValidMinimumAltitude\n",
    "from ssscoring.calc import jumpAnalysisTable\n",
    "from ssscoring.calc import processAllJumpFiles\n",
    "from ssscoring.calc import roundedAggregateResults\n",
    "from ssscoring.calc import totalResultsFrom\n",
    "from ssscoring.constants import BREAKOFF_ALTITUDE\n",
    "from ssscoring.constants import FT_IN_M\n",
    "from ssscoring.constants import PERFORMANCE_WINDOW_LENGTH\n",
    "from ssscoring.fs1 import getAllSpeedJumpFilesFrom\n",
    "from ssscoring.fs1 import validFlySightHeaderIn\n",
    "from ssscoring.notebook import SPEED_COLORS\n",
    "from ssscoring.notebook import graphAltitude\n",
    "from ssscoring.notebook import graphAngle\n",
    "from ssscoring.notebook import graphJumpResult\n",
    "from ssscoring.notebook import initializeExtraYRanges\n",
    "from ssscoring.notebook import initializePlot\n",
    "\n",
    "import csv\n",
    "import os\n",
    "import os.path as path\n",
    "\n",
    "import bokeh.plotting as bp\n",
    "import bokeh.models as bm\n",
    "import ipywidgets as widgets\n",
    "import pandas as pd"
   ]
  },
  {
   "cell_type": "code",
   "execution_count": 3,
   "id": "ef1d2bf0-eaf3-4d78-b6c0-fb1bb4ed10f1",
   "metadata": {},
   "outputs": [],
   "source": [
    "DATA_LAKE_ROOT = './data'"
   ]
  },
  {
   "cell_type": "markdown",
   "id": "d52db03d-d83b-4af3-9137-3011537e5ed8",
   "metadata": {},
   "source": [
    "---\n",
    "## <span style=\"color: yellow\">IMPORTANT</span> - Set the drop zone altitude MSL\n",
    "\n",
    "Set the value in ft (even though SSScoring uses meters) out of convenience because all DZs in the US, many in Asia and Mexico, and many in Europe express the altitude in feet.\n",
    "\n",
    "### Some DZs\n",
    "\n",
    "| Drop zone | Alt (ft) |\n",
    "|-----------|----------|\n",
    "| Bay Area Skydiving | 23 |\n",
    "| Skydive Arizona | 1509 |\n",
    "| Skydive Chicago | 616 |\n",
    "| Thai Sky Adventures | 21 |"
   ]
  },
  {
   "cell_type": "code",
   "execution_count": 4,
   "id": "5c95013a-4aa3-4a5e-9493-b945ead10ced",
   "metadata": {},
   "outputs": [],
   "source": [
    "dropZoneAltMSL = 617"
   ]
  },
  {
   "cell_type": "code",
   "execution_count": 5,
   "id": "1f091813-03b0-45bc-a30e-704fac7f968a",
   "metadata": {
    "jupyter": {
     "source_hidden": true
    }
   },
   "outputs": [
    {
     "data": {
      "application/vnd.jupyter.widget-view+json": {
       "model_id": "58018d27825a4326a194fda43b2cc89d",
       "version_major": 2,
       "version_minor": 0
      },
      "text/plain": [
       "HTML(value='<h2>DZ Altitude = <span style = \"color: green\"> 617.00 ft</span> ( 188.06 m)<h1>')"
      ]
     },
     "metadata": {},
     "output_type": "display_data"
    }
   ],
   "source": [
    "dropZoneAltMSLMeters = dropZoneAltMSL/FT_IN_M\n",
    "display(widgets.HTML('<h2>DZ Altitude = <span style = \"color: green\">%7.2f ft</span> (%7.2f m)<h1>' % (dropZoneAltMSL, dropZoneAltMSLMeters)))"
   ]
  },
  {
   "cell_type": "code",
   "execution_count": 6,
   "id": "b1273b5c-44c1-46c2-a125-d01ad9268a1a",
   "metadata": {
    "jupyter": {
     "source_hidden": true
    }
   },
   "outputs": [],
   "source": [
    "jumpFiles = getAllSpeedJumpFilesFrom(DATA_LAKE_ROOT)"
   ]
  },
  {
   "cell_type": "code",
   "execution_count": 7,
   "id": "53a5fe5a-dd39-40d3-bfbf-d7048374e4ea",
   "metadata": {
    "jupyter": {
     "source_hidden": true
    }
   },
   "outputs": [],
   "source": [
    "jumpResults = processAllJumpFiles(jumpFiles, altitudeDZMeters = dropZoneAltMSLMeters)"
   ]
  },
  {
   "cell_type": "markdown",
   "id": "797ab0ec-d5e0-4a3b-aa57-eee431bb9824",
   "metadata": {},
   "source": [
    "### Air density\n",
    "\n",
    "**<a href='https://aviex.goflexair.com/blog/density-of-air-air-density' target='_blank'>Pilot's Guide to Air Density</a>** - A useful guide with calculations, lots of information.\n",
    "\n",
    "![](https://ciurana.eu/personal/air-density-partial-table.png)"
   ]
  },
  {
   "cell_type": "markdown",
   "id": "d80518ef-f197-4e40-a74e-8089eecb725a",
   "metadata": {},
   "source": [
    "---\n",
    "## Results"
   ]
  },
  {
   "cell_type": "code",
   "execution_count": 8,
   "id": "27c12cb1-2f60-44c9-b8fa-998b3df9d878",
   "metadata": {
    "jupyter": {
     "source_hidden": true
    }
   },
   "outputs": [
    {
     "data": {
      "text/html": [
       "<div>\n",
       "<style scoped>\n",
       "    .dataframe tbody tr th:only-of-type {\n",
       "        vertical-align: middle;\n",
       "    }\n",
       "\n",
       "    .dataframe tbody tr th {\n",
       "        vertical-align: top;\n",
       "    }\n",
       "\n",
       "    .dataframe thead th {\n",
       "        text-align: right;\n",
       "    }\n",
       "</style>\n",
       "<table border=\"1\" class=\"dataframe\">\n",
       "  <thead>\n",
       "    <tr style=\"text-align: right;\">\n",
       "      <th></th>\n",
       "      <th>score</th>\n",
       "      <th>5.0</th>\n",
       "      <th>10.0</th>\n",
       "      <th>15.0</th>\n",
       "      <th>20.0</th>\n",
       "      <th>25.0</th>\n",
       "      <th>finalTime</th>\n",
       "      <th>maxSpeed</th>\n",
       "    </tr>\n",
       "  </thead>\n",
       "  <tbody>\n",
       "    <tr>\n",
       "      <th>17-07-46-08</th>\n",
       "      <td>484.272</td>\n",
       "      <td>187.308</td>\n",
       "      <td>331.380</td>\n",
       "      <td>426.816</td>\n",
       "      <td>477.072</td>\n",
       "      <td>481.860</td>\n",
       "      <td>24.1</td>\n",
       "      <td>486.144</td>\n",
       "    </tr>\n",
       "    <tr>\n",
       "      <th>17-09-22-50</th>\n",
       "      <td>485.560174</td>\n",
       "      <td>177.084</td>\n",
       "      <td>328.824</td>\n",
       "      <td>431.532</td>\n",
       "      <td>472.212</td>\n",
       "      <td>485.460</td>\n",
       "      <td>24.2</td>\n",
       "      <td>488.448</td>\n",
       "    </tr>\n",
       "    <tr>\n",
       "      <th>17-10-55-36</th>\n",
       "      <td>477.885913</td>\n",
       "      <td>183.384</td>\n",
       "      <td>328.104</td>\n",
       "      <td>423.468</td>\n",
       "      <td>471.888</td>\n",
       "      <td>475.848</td>\n",
       "      <td>24.3</td>\n",
       "      <td>479.376</td>\n",
       "    </tr>\n",
       "    <tr>\n",
       "      <th>17-12-28-15</th>\n",
       "      <td>486.2952</td>\n",
       "      <td>177.768</td>\n",
       "      <td>315.504</td>\n",
       "      <td>414.936</td>\n",
       "      <td>472.752</td>\n",
       "      <td>487.584</td>\n",
       "      <td>24.7</td>\n",
       "      <td>488.556</td>\n",
       "    </tr>\n",
       "    <tr>\n",
       "      <th>17-13-56-25</th>\n",
       "      <td>472.007455</td>\n",
       "      <td>187.380</td>\n",
       "      <td>334.224</td>\n",
       "      <td>422.352</td>\n",
       "      <td>473.436</td>\n",
       "      <td>456.876</td>\n",
       "      <td>24.3</td>\n",
       "      <td>474.012</td>\n",
       "    </tr>\n",
       "    <tr>\n",
       "      <th>18-07-42-08</th>\n",
       "      <td>478.16064</td>\n",
       "      <td>186.120</td>\n",
       "      <td>333.396</td>\n",
       "      <td>425.880</td>\n",
       "      <td>469.440</td>\n",
       "      <td>477.288</td>\n",
       "      <td>24.2</td>\n",
       "      <td>481.176</td>\n",
       "    </tr>\n",
       "    <tr>\n",
       "      <th>18-09-22-56</th>\n",
       "      <td>473.271652</td>\n",
       "      <td>177.912</td>\n",
       "      <td>331.092</td>\n",
       "      <td>425.772</td>\n",
       "      <td>466.992</td>\n",
       "      <td>470.556</td>\n",
       "      <td>24.6</td>\n",
       "      <td>476.064</td>\n",
       "    </tr>\n",
       "    <tr>\n",
       "      <th>18-11-09-12</th>\n",
       "      <td>487.548</td>\n",
       "      <td>196.236</td>\n",
       "      <td>354.060</td>\n",
       "      <td>444.132</td>\n",
       "      <td>481.608</td>\n",
       "      <td>489.888</td>\n",
       "      <td>23.3</td>\n",
       "      <td>489.888</td>\n",
       "    </tr>\n",
       "  </tbody>\n",
       "</table>\n",
       "</div>"
      ],
      "text/plain": [
       "                  score      5.0     10.0     15.0     20.0     25.0  \\\n",
       "17-07-46-08     484.272  187.308  331.380  426.816  477.072  481.860   \n",
       "17-09-22-50  485.560174  177.084  328.824  431.532  472.212  485.460   \n",
       "17-10-55-36  477.885913  183.384  328.104  423.468  471.888  475.848   \n",
       "17-12-28-15    486.2952  177.768  315.504  414.936  472.752  487.584   \n",
       "17-13-56-25  472.007455  187.380  334.224  422.352  473.436  456.876   \n",
       "18-07-42-08   478.16064  186.120  333.396  425.880  469.440  477.288   \n",
       "18-09-22-56  473.271652  177.912  331.092  425.772  466.992  470.556   \n",
       "18-11-09-12     487.548  196.236  354.060  444.132  481.608  489.888   \n",
       "\n",
       "             finalTime  maxSpeed  \n",
       "17-07-46-08       24.1   486.144  \n",
       "17-09-22-50       24.2   488.448  \n",
       "17-10-55-36       24.3   479.376  \n",
       "17-12-28-15       24.7   488.556  \n",
       "17-13-56-25       24.3   474.012  \n",
       "18-07-42-08       24.2   481.176  \n",
       "18-09-22-56       24.6   476.064  \n",
       "18-11-09-12       23.3   489.888  "
      ]
     },
     "metadata": {},
     "output_type": "display_data"
    }
   ],
   "source": [
    "aggregate = aggregateResults(jumpResults)\n",
    "sumResults = totalResultsFrom(aggregate)\n",
    "display(aggregate)"
   ]
  },
  {
   "cell_type": "markdown",
   "id": "3fa8c207-b9cf-4275-ba37-5103e1b324a9",
   "metadata": {},
   "source": [
    "### Rounded results for training log"
   ]
  },
  {
   "cell_type": "code",
   "execution_count": 9,
   "id": "e2bfbc21-3121-436a-904f-547edb0f2d0c",
   "metadata": {},
   "outputs": [],
   "source": [
    "roundedResults = roundedAggregateResults(aggregate)"
   ]
  },
  {
   "cell_type": "markdown",
   "id": "faf1396d-1030-477e-9d87-5c167b61328f",
   "metadata": {},
   "source": [
    "### All jumps"
   ]
  },
  {
   "cell_type": "code",
   "execution_count": 10,
   "id": "5a0571fd-5a22-4dda-94aa-56a4f2c68098",
   "metadata": {
    "jupyter": {
     "source_hidden": true
    }
   },
   "outputs": [],
   "source": [
    "def dumpSimple(table: pd.DataFrame):\n",
    "    fileName = os.path.join(DATA_LAKE_ROOT, resultRef+'.tsv')\n",
    "    simpleTable = table.copy()\n",
    "    simpleTable = simpleTable.drop('speedAngle', axis = 1)\n",
    "    simpleTable.to_csv(fileName, sep = '\\t', index = False)"
   ]
  },
  {
   "cell_type": "code",
   "execution_count": 11,
   "id": "59ff50f6-4f29-4282-a55f-af524921af19",
   "metadata": {
    "jupyter": {
     "source_hidden": true
    }
   },
   "outputs": [],
   "source": [
    "def displayJumpDataIn(resultsTable: pd.DataFrame):\n",
    "    table = resultsTable.copy()\n",
    "    # Experimental\n",
    "    # For more information on the `interpolate` method and its options, see the [pandas documentation](https://pandas.pydata.org/pandas-docs/stable/reference/api/pandas.Series.interpolate.html).\n",
    "    # Additionally, you can also consider using other libraries like `scipy` which provides more advanced interpolation methods, such as `interp1d` or `griddata`. See the [scipy documentation](https://docs.scipy.org/doc/scipy/reference/interpolate.html) for more information.\n",
    "    table.vKMh = table.vKMh.apply(round)\n",
    "    table.hKMh = table.hKMh.apply(round)\n",
    "    table['altitude (ft)'] = table['altitude (ft)'].apply(round)\n",
    "    table.netVectorKMh = table.netVectorKMh.apply(round)\n",
    "    table.index = ['']*len(table)\n",
    "    display(table)\n",
    "    # dumpSimple(table)"
   ]
  },
  {
   "cell_type": "code",
   "execution_count": 12,
   "id": "fe6156be-7071-47a7-bb7f-9724f6d4a3ac",
   "metadata": {
    "jupyter": {
     "source_hidden": true
    }
   },
   "outputs": [
    {
     "data": {
      "application/vnd.jupyter.widget-view+json": {
       "model_id": "66dc9d7f354a47a7a64756f52b660ce2",
       "version_major": 2,
       "version_minor": 0
      },
      "text/plain": [
       "HTML(value='<hr><h1><span style=\"color: #0f0\">17-07-46-08 jump - 🟢 valid - score = 484.27 km/h</span></h1>')"
      ]
     },
     "metadata": {},
     "output_type": "display_data"
    },
    {
     "data": {
      "application/vnd.jupyter.widget-view+json": {
       "model_id": "4edfe08e308f4b859a885b54f12e52ff",
       "version_major": 2,
       "version_minor": 0
      },
      "text/plain": [
       "HTML(value='<h3>Max speed = 486; exit at 4196 m (13766 ft), end scoring window at 1940 m (6365 ft)')"
      ]
     },
     "metadata": {},
     "output_type": "display_data"
    },
    {
     "data": {
      "application/vnd.jupyter.widget-view+json": {
       "model_id": "aae7be686b9a4adaa8b8c5f49de96d3c",
       "version_major": 2,
       "version_minor": 0
      },
      "text/plain": [
       "HTML(value='</h3>')"
      ]
     },
     "metadata": {},
     "output_type": "display_data"
    },
    {
     "data": {
      "text/html": [
       "<div>\n",
       "<style scoped>\n",
       "    .dataframe tbody tr th:only-of-type {\n",
       "        vertical-align: middle;\n",
       "    }\n",
       "\n",
       "    .dataframe tbody tr th {\n",
       "        vertical-align: top;\n",
       "    }\n",
       "\n",
       "    .dataframe thead th {\n",
       "        text-align: right;\n",
       "    }\n",
       "</style>\n",
       "<table border=\"1\" class=\"dataframe\">\n",
       "  <thead>\n",
       "    <tr style=\"text-align: right;\">\n",
       "      <th></th>\n",
       "      <th>time</th>\n",
       "      <th>vKMh</th>\n",
       "      <th>hKMh</th>\n",
       "      <th>speedAngle</th>\n",
       "      <th>distanceFromExit</th>\n",
       "      <th>altitude (ft)</th>\n",
       "      <th>netVectorKMh</th>\n",
       "    </tr>\n",
       "  </thead>\n",
       "  <tbody>\n",
       "    <tr>\n",
       "      <th></th>\n",
       "      <td>5.0</td>\n",
       "      <td>187</td>\n",
       "      <td>148</td>\n",
       "      <td>51.7</td>\n",
       "      <td>237.700000</td>\n",
       "      <td>13296</td>\n",
       "      <td>239</td>\n",
       "    </tr>\n",
       "    <tr>\n",
       "      <th></th>\n",
       "      <td>10.0</td>\n",
       "      <td>331</td>\n",
       "      <td>105</td>\n",
       "      <td>72.4</td>\n",
       "      <td>408.000000</td>\n",
       "      <td>12070</td>\n",
       "      <td>348</td>\n",
       "    </tr>\n",
       "    <tr>\n",
       "      <th></th>\n",
       "      <td>15.0</td>\n",
       "      <td>427</td>\n",
       "      <td>68</td>\n",
       "      <td>80.9</td>\n",
       "      <td>523.800000</td>\n",
       "      <td>10304</td>\n",
       "      <td>432</td>\n",
       "    </tr>\n",
       "    <tr>\n",
       "      <th></th>\n",
       "      <td>20.0</td>\n",
       "      <td>477</td>\n",
       "      <td>21</td>\n",
       "      <td>87.5</td>\n",
       "      <td>572.000000</td>\n",
       "      <td>8218</td>\n",
       "      <td>478</td>\n",
       "    </tr>\n",
       "    <tr>\n",
       "      <th></th>\n",
       "      <td>25.0</td>\n",
       "      <td>482</td>\n",
       "      <td>15</td>\n",
       "      <td>88.2</td>\n",
       "      <td>569.280586</td>\n",
       "      <td>6406</td>\n",
       "      <td>482</td>\n",
       "    </tr>\n",
       "  </tbody>\n",
       "</table>\n",
       "</div>"
      ],
      "text/plain": [
       "  time  vKMh  hKMh  speedAngle  distanceFromExit  altitude (ft)  netVectorKMh\n",
       "   5.0   187   148        51.7        237.700000          13296           239\n",
       "  10.0   331   105        72.4        408.000000          12070           348\n",
       "  15.0   427    68        80.9        523.800000          10304           432\n",
       "  20.0   477    21        87.5        572.000000           8218           478\n",
       "  25.0   482    15        88.2        569.280586           6406           482"
      ]
     },
     "metadata": {},
     "output_type": "display_data"
    },
    {
     "data": {
      "text/html": [
       "\n",
       "  <div id=\"e3f758f1-d81a-41ef-b7e0-e3bd7b5d9c07\" data-root-id=\"p1038\" style=\"display: contents;\"></div>\n"
      ]
     },
     "metadata": {},
     "output_type": "display_data"
    },
    {
     "data": {
      "application/javascript": [
       "(function(root) {\n",
       "  function embed_document(root) {\n",
       "  const docs_json = {\"a3708322-28b0-4bea-93f6-72fa766425a4\":{\"version\":\"3.5.2\",\"title\":\"Bokeh Application\",\"roots\":[{\"type\":\"object\",\"name\":\"Figure\",\"id\":\"p1038\",\"attributes\":{\"width\":900,\"height\":500,\"x_range\":{\"type\":\"object\",\"name\":\"Range1d\",\"id\":\"p1048\",\"attributes\":{\"end\":35.0}},\"y_range\":{\"type\":\"object\",\"name\":\"Range1d\",\"id\":\"p1049\",\"attributes\":{\"end\":550.0}},\"x_scale\":{\"type\":\"object\",\"name\":\"LinearScale\",\"id\":\"p1050\"},\"y_scale\":{\"type\":\"object\",\"name\":\"LinearScale\",\"id\":\"p1051\"},\"extra_y_ranges\":{\"type\":\"map\",\"entries\":[[\"altitudeFt\",{\"type\":\"object\",\"name\":\"Range1d\",\"id\":\"p1075\",\"attributes\":{\"start\":5906.2938608,\"end\":14266.4897928}}],[\"angle\",{\"type\":\"object\",\"name\":\"Range1d\",\"id\":\"p1076\",\"attributes\":{\"end\":90.0}}]]},\"title\":{\"type\":\"object\",\"name\":\"Title\",\"id\":\"p1041\",\"attributes\":{\"text\":\"17-07-46-08\",\"text_color\":\"#E0E0E0\",\"text_font\":\"Helvetica\",\"text_font_size\":\"1.15em\"}},\"outline_line_color\":\"#E0E0E0\",\"outline_line_alpha\":0.25,\"renderers\":[{\"type\":\"object\",\"name\":\"GlyphRenderer\",\"id\":\"p1091\",\"attributes\":{\"y_range_name\":\"altitudeFt\",\"data_source\":{\"type\":\"object\",\"name\":\"ColumnDataSource\",\"id\":\"p1085\",\"attributes\":{\"selected\":{\"type\":\"object\",\"name\":\"Selection\",\"id\":\"p1086\",\"attributes\":{\"indices\":[],\"line_indices\":[]}},\"selection_policy\":{\"type\":\"object\",\"name\":\"UnionRenderers\",\"id\":\"p1087\"},\"data\":{\"type\":\"map\",\"entries\":[[\"x\",{\"type\":\"ndarray\",\"array\":{\"type\":\"bytes\",\"data\":\"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\"},\"shape\":[197],\"dtype\":\"float64\",\"order\":\"little\"}],[\"y\",{\"type\":\"ndarray\",\"array\":{\"type\":\"bytes\",\"data\":\"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\"},\"shape\":[197],\"dtype\":\"float64\",\"order\":\"little\"}]]}}},\"view\":{\"type\":\"object\",\"name\":\"CDSView\",\"id\":\"p1092\",\"attributes\":{\"filter\":{\"type\":\"object\",\"name\":\"AllIndices\",\"id\":\"p1093\"}}},\"glyph\":{\"type\":\"object\",\"name\":\"Line\",\"id\":\"p1088\",\"attributes\":{\"x\":{\"type\":\"field\",\"field\":\"x\"},\"y\":{\"type\":\"field\",\"field\":\"y\"},\"line_color\":\"palegoldenrod\",\"line_width\":2}},\"nonselection_glyph\":{\"type\":\"object\",\"name\":\"Line\",\"id\":\"p1089\",\"attributes\":{\"x\":{\"type\":\"field\",\"field\":\"x\"},\"y\":{\"type\":\"field\",\"field\":\"y\"},\"line_color\":\"palegoldenrod\",\"line_alpha\":0.1,\"line_width\":2}},\"muted_glyph\":{\"type\":\"object\",\"name\":\"Line\",\"id\":\"p1090\",\"attributes\":{\"x\":{\"type\":\"field\",\"field\":\"x\"},\"y\":{\"type\":\"field\",\"field\":\"y\"},\"line_color\":\"palegoldenrod\",\"line_alpha\":0.2,\"line_width\":2}}}},{\"type\":\"object\",\"name\":\"GlyphRenderer\",\"id\":\"p1102\",\"attributes\":{\"y_range_name\":\"angle\",\"data_source\":{\"type\":\"object\",\"name\":\"ColumnDataSource\",\"id\":\"p1096\",\"attributes\":{\"selected\":{\"type\":\"object\",\"name\":\"Selection\",\"id\":\"p1097\",\"attributes\":{\"indices\":[],\"line_indices\":[]}},\"selection_policy\":{\"type\":\"object\",\"name\":\"UnionRenderers\",\"id\":\"p1098\"},\"data\":{\"type\":\"map\",\"entries\":[[\"x\",{\"type\":\"ndarray\",\"array\":{\"type\":\"bytes\",\"data\":\"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\"},\"shape\":[197],\"dtype\":\"float64\",\"order\":\"little\"}],[\"y\",{\"type\":\"ndarray\",\"array\":{\"type\":\"bytes\",\"data\":\"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\"},\"shape\":[197],\"dtype\":\"float64\",\"order\":\"little\"}]]}}},\"view\":{\"type\":\"object\",\"name\":\"CDSView\",\"id\":\"p1103\",\"attributes\":{\"filter\":{\"type\":\"object\",\"name\":\"AllIndices\",\"id\":\"p1104\"}}},\"glyph\":{\"type\":\"object\",\"name\":\"Line\",\"id\":\"p1099\",\"attributes\":{\"x\":{\"type\":\"field\",\"field\":\"x\"},\"y\":{\"type\":\"field\",\"field\":\"y\"},\"line_color\":\"deepskyblue\",\"line_width\":2}},\"nonselection_glyph\":{\"type\":\"object\",\"name\":\"Line\",\"id\":\"p1100\",\"attributes\":{\"x\":{\"type\":\"field\",\"field\":\"x\"},\"y\":{\"type\":\"field\",\"field\":\"y\"},\"line_color\":\"deepskyblue\",\"line_alpha\":0.1,\"line_width\":2}},\"muted_glyph\":{\"type\":\"object\",\"name\":\"Line\",\"id\":\"p1101\",\"attributes\":{\"x\":{\"type\":\"field\",\"field\":\"x\"},\"y\":{\"type\":\"field\",\"field\":\"y\"},\"line_color\":\"deepskyblue\",\"line_alpha\":0.2,\"line_width\":2}}}},{\"type\":\"object\",\"name\":\"GlyphRenderer\",\"id\":\"p1113\",\"attributes\":{\"data_source\":{\"type\":\"object\",\"name\":\"ColumnDataSource\",\"id\":\"p1107\",\"attributes\":{\"selected\":{\"type\":\"object\",\"name\":\"Selection\",\"id\":\"p1108\",\"attributes\":{\"indices\":[],\"line_indices\":[]}},\"selection_policy\":{\"type\":\"object\",\"name\":\"UnionRenderers\",\"id\":\"p1109\"},\"data\":{\"type\":\"map\",\"entries\":[[\"x\",{\"type\":\"ndarray\",\"array\":{\"type\":\"bytes\",\"data\":\"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\"},\"shape\":[197],\"dtype\":\"float64\",\"order\":\"little\"}],[\"y\",{\"type\":\"ndarray\",\"array\":{\"type\":\"bytes\",\"data\":\"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\"},\"shape\":[197],\"dtype\":\"float64\",\"order\":\"little\"}]]}}},\"view\":{\"type\":\"object\",\"name\":\"CDSView\",\"id\":\"p1114\",\"attributes\":{\"filter\":{\"type\":\"object\",\"name\":\"AllIndices\",\"id\":\"p1115\"}}},\"glyph\":{\"type\":\"object\",\"name\":\"Line\",\"id\":\"p1110\",\"attributes\":{\"x\":{\"type\":\"field\",\"field\":\"x\"},\"y\":{\"type\":\"field\",\"field\":\"y\"},\"line_color\":\"limegreen\",\"line_width\":2}},\"nonselection_glyph\":{\"type\":\"object\",\"name\":\"Line\",\"id\":\"p1111\",\"attributes\":{\"x\":{\"type\":\"field\",\"field\":\"x\"},\"y\":{\"type\":\"field\",\"field\":\"y\"},\"line_color\":\"limegreen\",\"line_alpha\":0.1,\"line_width\":2}},\"muted_glyph\":{\"type\":\"object\",\"name\":\"Line\",\"id\":\"p1112\",\"attributes\":{\"x\":{\"type\":\"field\",\"field\":\"x\"},\"y\":{\"type\":\"field\",\"field\":\"y\"},\"line_color\":\"limegreen\",\"line_alpha\":0.2,\"line_width\":2}}}},{\"type\":\"object\",\"name\":\"GlyphRenderer\",\"id\":\"p1123\",\"attributes\":{\"data_source\":{\"type\":\"object\",\"name\":\"ColumnDataSource\",\"id\":\"p1117\",\"attributes\":{\"selected\":{\"type\":\"object\",\"name\":\"Selection\",\"id\":\"p1118\",\"attributes\":{\"indices\":[],\"line_indices\":[]}},\"selection_policy\":{\"type\":\"object\",\"name\":\"UnionRenderers\",\"id\":\"p1119\"},\"data\":{\"type\":\"map\",\"entries\":[[\"x\",{\"type\":\"ndarray\",\"array\":{\"type\":\"bytes\",\"data\":\"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\"},\"shape\":[197],\"dtype\":\"float64\",\"order\":\"little\"}],[\"y\",{\"type\":\"ndarray\",\"array\":{\"type\":\"bytes\",\"data\":\"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\"},\"shape\":[197],\"dtype\":\"float64\",\"order\":\"little\"}]]}}},\"view\":{\"type\":\"object\",\"name\":\"CDSView\",\"id\":\"p1124\",\"attributes\":{\"filter\":{\"type\":\"object\",\"name\":\"AllIndices\",\"id\":\"p1125\"}}},\"glyph\":{\"type\":\"object\",\"name\":\"Line\",\"id\":\"p1120\",\"attributes\":{\"x\":{\"type\":\"field\",\"field\":\"x\"},\"y\":{\"type\":\"field\",\"field\":\"y\"},\"line_color\":\"red\",\"line_width\":2}},\"nonselection_glyph\":{\"type\":\"object\",\"name\":\"Line\",\"id\":\"p1121\",\"attributes\":{\"x\":{\"type\":\"field\",\"field\":\"x\"},\"y\":{\"type\":\"field\",\"field\":\"y\"},\"line_color\":\"red\",\"line_alpha\":0.1,\"line_width\":2}},\"muted_glyph\":{\"type\":\"object\",\"name\":\"Line\",\"id\":\"p1122\",\"attributes\":{\"x\":{\"type\":\"field\",\"field\":\"x\"},\"y\":{\"type\":\"field\",\"field\":\"y\"},\"line_color\":\"red\",\"line_alpha\":0.2,\"line_width\":2}}}},{\"type\":\"object\",\"name\":\"GlyphRenderer\",\"id\":\"p1133\",\"attributes\":{\"data_source\":{\"type\":\"object\",\"name\":\"ColumnDataSource\",\"id\":\"p1127\",\"attributes\":{\"selected\":{\"type\":\"object\",\"name\":\"Selection\",\"id\":\"p1128\",\"attributes\":{\"indices\":[],\"line_indices\":[]}},\"selection_policy\":{\"type\":\"object\",\"name\":\"UnionRenderers\",\"id\":\"p1129\"},\"data\":{\"type\":\"map\",\"entries\":[[\"x0\",[23.90000009536743]],[\"y0\",[0.0]],[\"x1\",[23.90000009536743]],[\"y1\",[484.272]]]}}},\"view\":{\"type\":\"object\",\"name\":\"CDSView\",\"id\":\"p1134\",\"attributes\":{\"filter\":{\"type\":\"object\",\"name\":\"AllIndices\",\"id\":\"p1135\"}}},\"glyph\":{\"type\":\"object\",\"name\":\"Segment\",\"id\":\"p1130\",\"attributes\":{\"x0\":{\"type\":\"field\",\"field\":\"x0\"},\"y0\":{\"type\":\"field\",\"field\":\"y0\"},\"x1\":{\"type\":\"field\",\"field\":\"x1\"},\"y1\":{\"type\":\"field\",\"field\":\"y1\"},\"line_color\":{\"type\":\"value\",\"value\":\"lightblue\"},\"line_width\":{\"type\":\"value\",\"value\":3}}},\"nonselection_glyph\":{\"type\":\"object\",\"name\":\"Segment\",\"id\":\"p1131\",\"attributes\":{\"x0\":{\"type\":\"field\",\"field\":\"x0\"},\"y0\":{\"type\":\"field\",\"field\":\"y0\"},\"x1\":{\"type\":\"field\",\"field\":\"x1\"},\"y1\":{\"type\":\"field\",\"field\":\"y1\"},\"line_color\":{\"type\":\"value\",\"value\":\"lightblue\"},\"line_alpha\":{\"type\":\"value\",\"value\":0.1},\"line_width\":{\"type\":\"value\",\"value\":3}}},\"muted_glyph\":{\"type\":\"object\",\"name\":\"Segment\",\"id\":\"p1132\",\"attributes\":{\"x0\":{\"type\":\"field\",\"field\":\"x0\"},\"y0\":{\"type\":\"field\",\"field\":\"y0\"},\"x1\":{\"type\":\"field\",\"field\":\"x1\"},\"y1\":{\"type\":\"field\",\"field\":\"y1\"},\"line_color\":{\"type\":\"value\",\"value\":\"lightblue\"},\"line_alpha\":{\"type\":\"value\",\"value\":0.2},\"line_width\":{\"type\":\"value\",\"value\":3}}}}},{\"type\":\"object\",\"name\":\"GlyphRenderer\",\"id\":\"p1142\",\"attributes\":{\"data_source\":{\"type\":\"object\",\"name\":\"ColumnDataSource\",\"id\":\"p1136\",\"attributes\":{\"selected\":{\"type\":\"object\",\"name\":\"Selection\",\"id\":\"p1137\",\"attributes\":{\"indices\":[],\"line_indices\":[]}},\"selection_policy\":{\"type\":\"object\",\"name\":\"UnionRenderers\",\"id\":\"p1138\"},\"data\":{\"type\":\"map\",\"entries\":[[\"x0\",[25.40000009536743]],[\"y0\",[0.0]],[\"x1\",[25.40000009536743]],[\"y1\",[484.272]]]}}},\"view\":{\"type\":\"object\",\"name\":\"CDSView\",\"id\":\"p1143\",\"attributes\":{\"filter\":{\"type\":\"object\",\"name\":\"AllIndices\",\"id\":\"p1144\"}}},\"glyph\":{\"type\":\"object\",\"name\":\"Segment\",\"id\":\"p1139\",\"attributes\":{\"x0\":{\"type\":\"field\",\"field\":\"x0\"},\"y0\":{\"type\":\"field\",\"field\":\"y0\"},\"x1\":{\"type\":\"field\",\"field\":\"x1\"},\"y1\":{\"type\":\"field\",\"field\":\"y1\"},\"line_color\":{\"type\":\"value\",\"value\":\"darkseagreen\"}}},\"nonselection_glyph\":{\"type\":\"object\",\"name\":\"Segment\",\"id\":\"p1140\",\"attributes\":{\"x0\":{\"type\":\"field\",\"field\":\"x0\"},\"y0\":{\"type\":\"field\",\"field\":\"y0\"},\"x1\":{\"type\":\"field\",\"field\":\"x1\"},\"y1\":{\"type\":\"field\",\"field\":\"y1\"},\"line_color\":{\"type\":\"value\",\"value\":\"darkseagreen\"},\"line_alpha\":{\"type\":\"value\",\"value\":0.1}}},\"muted_glyph\":{\"type\":\"object\",\"name\":\"Segment\",\"id\":\"p1141\",\"attributes\":{\"x0\":{\"type\":\"field\",\"field\":\"x0\"},\"y0\":{\"type\":\"field\",\"field\":\"y0\"},\"x1\":{\"type\":\"field\",\"field\":\"x1\"},\"y1\":{\"type\":\"field\",\"field\":\"y1\"},\"line_color\":{\"type\":\"value\",\"value\":\"darkseagreen\"},\"line_alpha\":{\"type\":\"value\",\"value\":0.2}}}}},{\"type\":\"object\",\"name\":\"GlyphRenderer\",\"id\":\"p1151\",\"attributes\":{\"data_source\":{\"type\":\"object\",\"name\":\"ColumnDataSource\",\"id\":\"p1145\",\"attributes\":{\"selected\":{\"type\":\"object\",\"name\":\"Selection\",\"id\":\"p1146\",\"attributes\":{\"indices\":[],\"line_indices\":[]}},\"selection_policy\":{\"type\":\"object\",\"name\":\"UnionRenderers\",\"id\":\"p1147\"},\"data\":{\"type\":\"map\",\"entries\":[[\"x0\",[22.40000009536743]],[\"y0\",[0.0]],[\"x1\",[22.40000009536743]],[\"y1\",[484.272]]]}}},\"view\":{\"type\":\"object\",\"name\":\"CDSView\",\"id\":\"p1152\",\"attributes\":{\"filter\":{\"type\":\"object\",\"name\":\"AllIndices\",\"id\":\"p1153\"}}},\"glyph\":{\"type\":\"object\",\"name\":\"Segment\",\"id\":\"p1148\",\"attributes\":{\"x0\":{\"type\":\"field\",\"field\":\"x0\"},\"y0\":{\"type\":\"field\",\"field\":\"y0\"},\"x1\":{\"type\":\"field\",\"field\":\"x1\"},\"y1\":{\"type\":\"field\",\"field\":\"y1\"},\"line_color\":{\"type\":\"value\",\"value\":\"darkseagreen\"}}},\"nonselection_glyph\":{\"type\":\"object\",\"name\":\"Segment\",\"id\":\"p1149\",\"attributes\":{\"x0\":{\"type\":\"field\",\"field\":\"x0\"},\"y0\":{\"type\":\"field\",\"field\":\"y0\"},\"x1\":{\"type\":\"field\",\"field\":\"x1\"},\"y1\":{\"type\":\"field\",\"field\":\"y1\"},\"line_color\":{\"type\":\"value\",\"value\":\"darkseagreen\"},\"line_alpha\":{\"type\":\"value\",\"value\":0.1}}},\"muted_glyph\":{\"type\":\"object\",\"name\":\"Segment\",\"id\":\"p1150\",\"attributes\":{\"x0\":{\"type\":\"field\",\"field\":\"x0\"},\"y0\":{\"type\":\"field\",\"field\":\"y0\"},\"x1\":{\"type\":\"field\",\"field\":\"x1\"},\"y1\":{\"type\":\"field\",\"field\":\"y1\"},\"line_color\":{\"type\":\"value\",\"value\":\"darkseagreen\"},\"line_alpha\":{\"type\":\"value\",\"value\":0.2}}}}},{\"type\":\"object\",\"name\":\"GlyphRenderer\",\"id\":\"p1160\",\"attributes\":{\"data_source\":{\"type\":\"object\",\"name\":\"ColumnDataSource\",\"id\":\"p1154\",\"attributes\":{\"selected\":{\"type\":\"object\",\"name\":\"Selection\",\"id\":\"p1155\",\"attributes\":{\"indices\":[],\"line_indices\":[]}},\"selection_policy\":{\"type\":\"object\",\"name\":\"UnionRenderers\",\"id\":\"p1156\"},\"data\":{\"type\":\"map\",\"entries\":[[\"x\",[23.90000009536743]],[\"y\",[484.272]],[\"size\",[20]]]}}},\"view\":{\"type\":\"object\",\"name\":\"CDSView\",\"id\":\"p1161\",\"attributes\":{\"filter\":{\"type\":\"object\",\"name\":\"AllIndices\",\"id\":\"p1162\"}}},\"glyph\":{\"type\":\"object\",\"name\":\"Scatter\",\"id\":\"p1157\",\"attributes\":{\"x\":{\"type\":\"field\",\"field\":\"x\"},\"y\":{\"type\":\"field\",\"field\":\"y\"},\"size\":{\"type\":\"field\",\"field\":\"size\"},\"line_color\":{\"type\":\"value\",\"value\":\"lightblue\"},\"line_width\":{\"type\":\"value\",\"value\":3},\"fill_color\":{\"type\":\"value\",\"value\":null},\"marker\":{\"type\":\"value\",\"value\":\"square_cross\"}}},\"nonselection_glyph\":{\"type\":\"object\",\"name\":\"Scatter\",\"id\":\"p1158\",\"attributes\":{\"x\":{\"type\":\"field\",\"field\":\"x\"},\"y\":{\"type\":\"field\",\"field\":\"y\"},\"size\":{\"type\":\"field\",\"field\":\"size\"},\"line_color\":{\"type\":\"value\",\"value\":\"lightblue\"},\"line_alpha\":{\"type\":\"value\",\"value\":0.1},\"line_width\":{\"type\":\"value\",\"value\":3},\"fill_color\":{\"type\":\"value\",\"value\":null},\"fill_alpha\":{\"type\":\"value\",\"value\":0.1},\"hatch_alpha\":{\"type\":\"value\",\"value\":0.1},\"marker\":{\"type\":\"value\",\"value\":\"square_cross\"}}},\"muted_glyph\":{\"type\":\"object\",\"name\":\"Scatter\",\"id\":\"p1159\",\"attributes\":{\"x\":{\"type\":\"field\",\"field\":\"x\"},\"y\":{\"type\":\"field\",\"field\":\"y\"},\"size\":{\"type\":\"field\",\"field\":\"size\"},\"line_color\":{\"type\":\"value\",\"value\":\"lightblue\"},\"line_alpha\":{\"type\":\"value\",\"value\":0.2},\"line_width\":{\"type\":\"value\",\"value\":3},\"fill_color\":{\"type\":\"value\",\"value\":null},\"fill_alpha\":{\"type\":\"value\",\"value\":0.2},\"hatch_alpha\":{\"type\":\"value\",\"value\":0.2},\"marker\":{\"type\":\"value\",\"value\":\"square_cross\"}}}}}],\"toolbar\":{\"type\":\"object\",\"name\":\"Toolbar\",\"id\":\"p1047\",\"attributes\":{\"tools\":[{\"type\":\"object\",\"name\":\"PanTool\",\"id\":\"p1062\"},{\"type\":\"object\",\"name\":\"WheelZoomTool\",\"id\":\"p1063\",\"attributes\":{\"renderers\":\"auto\"}},{\"type\":\"object\",\"name\":\"BoxZoomTool\",\"id\":\"p1064\",\"attributes\":{\"overlay\":{\"type\":\"object\",\"name\":\"BoxAnnotation\",\"id\":\"p1065\",\"attributes\":{\"syncable\":false,\"line_color\":\"black\",\"line_alpha\":1.0,\"line_width\":2,\"line_dash\":[4,4],\"fill_color\":\"lightgrey\",\"fill_alpha\":0.5,\"level\":\"overlay\",\"visible\":false,\"left\":{\"type\":\"number\",\"value\":\"nan\"},\"right\":{\"type\":\"number\",\"value\":\"nan\"},\"top\":{\"type\":\"number\",\"value\":\"nan\"},\"bottom\":{\"type\":\"number\",\"value\":\"nan\"},\"left_units\":\"canvas\",\"right_units\":\"canvas\",\"top_units\":\"canvas\",\"bottom_units\":\"canvas\",\"handles\":{\"type\":\"object\",\"name\":\"BoxInteractionHandles\",\"id\":\"p1071\",\"attributes\":{\"all\":{\"type\":\"object\",\"name\":\"AreaVisuals\",\"id\":\"p1070\",\"attributes\":{\"fill_color\":\"white\",\"hover_fill_color\":\"lightgray\"}}}}}}}},{\"type\":\"object\",\"name\":\"SaveTool\",\"id\":\"p1072\"},{\"type\":\"object\",\"name\":\"ResetTool\",\"id\":\"p1073\"},{\"type\":\"object\",\"name\":\"HelpTool\",\"id\":\"p1074\"},{\"type\":\"object\",\"name\":\"HoverTool\",\"id\":\"p1106\",\"attributes\":{\"renderers\":\"auto\",\"tooltips\":[[\"Y-val\",\"@y{0.00}\"]]}}]}},\"left\":[{\"type\":\"object\",\"name\":\"LinearAxis\",\"id\":\"p1057\",\"attributes\":{\"ticker\":{\"type\":\"object\",\"name\":\"BasicTicker\",\"id\":\"p1058\",\"attributes\":{\"mantissas\":[1,2,5]}},\"formatter\":{\"type\":\"object\",\"name\":\"BasicTickFormatter\",\"id\":\"p1059\"},\"axis_label\":\"km/h\",\"axis_label_standoff\":10,\"axis_label_text_color\":\"#E0E0E0\",\"axis_label_text_font\":\"Helvetica\",\"axis_label_text_font_size\":\"1.25em\",\"axis_label_text_font_style\":\"normal\",\"major_label_policy\":{\"type\":\"object\",\"name\":\"AllLabels\",\"id\":\"p1060\"},\"major_label_text_color\":\"#E0E0E0\",\"major_label_text_font\":\"Helvetica\",\"major_label_text_font_size\":\"1.025em\",\"axis_line_color\":\"#E0E0E0\",\"axis_line_alpha\":0,\"major_tick_line_color\":\"#E0E0E0\",\"major_tick_line_alpha\":0,\"minor_tick_line_color\":\"#E0E0E0\",\"minor_tick_line_alpha\":0}},{\"type\":\"object\",\"name\":\"LinearAxis\",\"id\":\"p1077\",\"attributes\":{\"y_range_name\":\"altitudeFt\",\"ticker\":{\"type\":\"object\",\"name\":\"BasicTicker\",\"id\":\"p1078\",\"attributes\":{\"mantissas\":[1,2,5]}},\"formatter\":{\"type\":\"object\",\"name\":\"BasicTickFormatter\",\"id\":\"p1079\"},\"axis_label\":\"Alt (ft)\",\"axis_label_standoff\":10,\"axis_label_text_color\":\"#E0E0E0\",\"axis_label_text_font\":\"Helvetica\",\"axis_label_text_font_size\":\"1.25em\",\"axis_label_text_font_style\":\"normal\",\"major_label_policy\":{\"type\":\"object\",\"name\":\"AllLabels\",\"id\":\"p1080\"},\"major_label_text_color\":\"#E0E0E0\",\"major_label_text_font\":\"Helvetica\",\"major_label_text_font_size\":\"1.025em\",\"axis_line_color\":\"#E0E0E0\",\"axis_line_alpha\":0,\"major_tick_line_color\":\"#E0E0E0\",\"major_tick_line_alpha\":0,\"minor_tick_line_color\":\"#E0E0E0\",\"minor_tick_line_alpha\":0}},{\"type\":\"object\",\"name\":\"LinearAxis\",\"id\":\"p1081\",\"attributes\":{\"y_range_name\":\"angle\",\"ticker\":{\"type\":\"object\",\"name\":\"BasicTicker\",\"id\":\"p1082\",\"attributes\":{\"mantissas\":[1,2,5]}},\"formatter\":{\"type\":\"object\",\"name\":\"BasicTickFormatter\",\"id\":\"p1083\"},\"axis_label\":\"angle\",\"axis_label_standoff\":10,\"axis_label_text_color\":\"#E0E0E0\",\"axis_label_text_font\":\"Helvetica\",\"axis_label_text_font_size\":\"1.25em\",\"axis_label_text_font_style\":\"normal\",\"major_label_policy\":{\"type\":\"object\",\"name\":\"AllLabels\",\"id\":\"p1084\"},\"major_label_text_color\":\"#E0E0E0\",\"major_label_text_font\":\"Helvetica\",\"major_label_text_font_size\":\"1.025em\",\"axis_line_color\":\"#E0E0E0\",\"axis_line_alpha\":0,\"major_tick_line_color\":\"#E0E0E0\",\"major_tick_line_alpha\":0,\"minor_tick_line_color\":\"#E0E0E0\",\"minor_tick_line_alpha\":0}}],\"below\":[{\"type\":\"object\",\"name\":\"LinearAxis\",\"id\":\"p1052\",\"attributes\":{\"ticker\":{\"type\":\"object\",\"name\":\"BasicTicker\",\"id\":\"p1053\",\"attributes\":{\"mantissas\":[1,2,5]}},\"formatter\":{\"type\":\"object\",\"name\":\"BasicTickFormatter\",\"id\":\"p1054\"},\"axis_label\":\"seconds from exit\",\"axis_label_standoff\":10,\"axis_label_text_color\":\"#E0E0E0\",\"axis_label_text_font\":\"Helvetica\",\"axis_label_text_font_size\":\"1.25em\",\"axis_label_text_font_style\":\"normal\",\"major_label_policy\":{\"type\":\"object\",\"name\":\"AllLabels\",\"id\":\"p1055\"},\"major_label_text_color\":\"#E0E0E0\",\"major_label_text_font\":\"Helvetica\",\"major_label_text_font_size\":\"1.025em\",\"axis_line_color\":\"#E0E0E0\",\"axis_line_alpha\":0,\"major_tick_line_color\":\"#E0E0E0\",\"major_tick_line_alpha\":0,\"minor_tick_line_color\":\"#E0E0E0\",\"minor_tick_line_alpha\":0}}],\"center\":[{\"type\":\"object\",\"name\":\"Grid\",\"id\":\"p1056\",\"attributes\":{\"axis\":{\"id\":\"p1052\"},\"grid_line_color\":\"#E0E0E0\",\"grid_line_alpha\":0.25}},{\"type\":\"object\",\"name\":\"Grid\",\"id\":\"p1061\",\"attributes\":{\"dimension\":1,\"axis\":{\"id\":\"p1057\"},\"grid_line_color\":\"#E0E0E0\",\"grid_line_alpha\":0.25}},{\"type\":\"object\",\"name\":\"Legend\",\"id\":\"p1094\",\"attributes\":{\"border_line_alpha\":0,\"background_fill_color\":\"#20262B\",\"background_fill_alpha\":0.25,\"label_text_color\":\"#E0E0E0\",\"label_text_font\":\"Helvetica\",\"label_text_font_size\":\"1.025em\",\"label_standoff\":8,\"glyph_width\":15,\"spacing\":8,\"items\":[{\"type\":\"object\",\"name\":\"LegendItem\",\"id\":\"p1095\",\"attributes\":{\"label\":{\"type\":\"value\",\"value\":\"Alt (ft)\"},\"renderers\":[{\"id\":\"p1091\"}]}},{\"type\":\"object\",\"name\":\"LegendItem\",\"id\":\"p1105\",\"attributes\":{\"label\":{\"type\":\"value\",\"value\":\"angle\"},\"renderers\":[{\"id\":\"p1102\"}]}},{\"type\":\"object\",\"name\":\"LegendItem\",\"id\":\"p1116\",\"attributes\":{\"label\":{\"type\":\"value\",\"value\":\"speed\"},\"renderers\":[{\"id\":\"p1113\"}]}},{\"type\":\"object\",\"name\":\"LegendItem\",\"id\":\"p1126\",\"attributes\":{\"label\":{\"type\":\"value\",\"value\":\"H-speed\"},\"renderers\":[{\"id\":\"p1123\"}]}}]}}],\"background_fill_color\":\"#20262B\",\"border_fill_color\":\"#15191C\"}}]}};\n",
       "  const render_items = [{\"docid\":\"a3708322-28b0-4bea-93f6-72fa766425a4\",\"roots\":{\"p1038\":\"e3f758f1-d81a-41ef-b7e0-e3bd7b5d9c07\"},\"root_ids\":[\"p1038\"]}];\n",
       "  void root.Bokeh.embed.embed_items_notebook(docs_json, render_items);\n",
       "  }\n",
       "  if (root.Bokeh !== undefined) {\n",
       "    embed_document(root);\n",
       "  } else {\n",
       "    let attempts = 0;\n",
       "    const timer = setInterval(function(root) {\n",
       "      if (root.Bokeh !== undefined) {\n",
       "        clearInterval(timer);\n",
       "        embed_document(root);\n",
       "      } else {\n",
       "        attempts++;\n",
       "        if (attempts > 100) {\n",
       "          clearInterval(timer);\n",
       "          console.log(\"Bokeh: ERROR: Unable to run BokehJS code because BokehJS library is missing\");\n",
       "        }\n",
       "      }\n",
       "    }, 10, root)\n",
       "  }\n",
       "})(window);"
      ],
      "application/vnd.bokehjs_exec.v0+json": ""
     },
     "metadata": {
      "application/vnd.bokehjs_exec.v0+json": {
       "id": "p1038"
      }
     },
     "output_type": "display_data"
    },
    {
     "data": {
      "application/vnd.jupyter.widget-view+json": {
       "model_id": "64c4b931de554ad9bb0657ac877d5ee6",
       "version_major": 2,
       "version_minor": 0
      },
      "text/plain": [
       "HTML(value='<hr><h1><span style=\"color: #0f0\">17-09-22-50 jump - 🟢 valid - score = 485.56 km/h</span></h1>')"
      ]
     },
     "metadata": {},
     "output_type": "display_data"
    },
    {
     "data": {
      "application/vnd.jupyter.widget-view+json": {
       "model_id": "700488ffb5b44d4a923cc8ef8539defe",
       "version_major": 2,
       "version_minor": 0
      },
      "text/plain": [
       "HTML(value='<h3>Max speed = 488; exit at 4148 m (13610 ft), end scoring window at 1892 m (6209 ft)')"
      ]
     },
     "metadata": {},
     "output_type": "display_data"
    },
    {
     "data": {
      "application/vnd.jupyter.widget-view+json": {
       "model_id": "918110b35f194709b5d09996d7c4d63c",
       "version_major": 2,
       "version_minor": 0
      },
      "text/plain": [
       "HTML(value='</h3>')"
      ]
     },
     "metadata": {},
     "output_type": "display_data"
    },
    {
     "data": {
      "text/html": [
       "<div>\n",
       "<style scoped>\n",
       "    .dataframe tbody tr th:only-of-type {\n",
       "        vertical-align: middle;\n",
       "    }\n",
       "\n",
       "    .dataframe tbody tr th {\n",
       "        vertical-align: top;\n",
       "    }\n",
       "\n",
       "    .dataframe thead th {\n",
       "        text-align: right;\n",
       "    }\n",
       "</style>\n",
       "<table border=\"1\" class=\"dataframe\">\n",
       "  <thead>\n",
       "    <tr style=\"text-align: right;\">\n",
       "      <th></th>\n",
       "      <th>time</th>\n",
       "      <th>vKMh</th>\n",
       "      <th>hKMh</th>\n",
       "      <th>speedAngle</th>\n",
       "      <th>distanceFromExit</th>\n",
       "      <th>altitude (ft)</th>\n",
       "      <th>netVectorKMh</th>\n",
       "    </tr>\n",
       "  </thead>\n",
       "  <tbody>\n",
       "    <tr>\n",
       "      <th></th>\n",
       "      <td>5.0</td>\n",
       "      <td>177</td>\n",
       "      <td>144</td>\n",
       "      <td>50.9</td>\n",
       "      <td>230.100000</td>\n",
       "      <td>13158</td>\n",
       "      <td>228</td>\n",
       "    </tr>\n",
       "    <tr>\n",
       "      <th></th>\n",
       "      <td>10.0</td>\n",
       "      <td>329</td>\n",
       "      <td>86</td>\n",
       "      <td>75.4</td>\n",
       "      <td>384.500000</td>\n",
       "      <td>11957</td>\n",
       "      <td>340</td>\n",
       "    </tr>\n",
       "    <tr>\n",
       "      <th></th>\n",
       "      <td>15.0</td>\n",
       "      <td>432</td>\n",
       "      <td>37</td>\n",
       "      <td>85.0</td>\n",
       "      <td>469.700000</td>\n",
       "      <td>10150</td>\n",
       "      <td>433</td>\n",
       "    </tr>\n",
       "    <tr>\n",
       "      <th></th>\n",
       "      <td>20.0</td>\n",
       "      <td>472</td>\n",
       "      <td>12</td>\n",
       "      <td>88.6</td>\n",
       "      <td>486.700000</td>\n",
       "      <td>8054</td>\n",
       "      <td>472</td>\n",
       "    </tr>\n",
       "    <tr>\n",
       "      <th></th>\n",
       "      <td>25.0</td>\n",
       "      <td>485</td>\n",
       "      <td>45</td>\n",
       "      <td>84.7</td>\n",
       "      <td>456.149251</td>\n",
       "      <td>6231</td>\n",
       "      <td>488</td>\n",
       "    </tr>\n",
       "  </tbody>\n",
       "</table>\n",
       "</div>"
      ],
      "text/plain": [
       "  time  vKMh  hKMh  speedAngle  distanceFromExit  altitude (ft)  netVectorKMh\n",
       "   5.0   177   144        50.9        230.100000          13158           228\n",
       "  10.0   329    86        75.4        384.500000          11957           340\n",
       "  15.0   432    37        85.0        469.700000          10150           433\n",
       "  20.0   472    12        88.6        486.700000           8054           472\n",
       "  25.0   485    45        84.7        456.149251           6231           488"
      ]
     },
     "metadata": {},
     "output_type": "display_data"
    },
    {
     "data": {
      "text/html": [
       "\n",
       "  <div id=\"a2923b58-dd1d-4279-b663-768c7499025a\" data-root-id=\"p1182\" style=\"display: contents;\"></div>\n"
      ]
     },
     "metadata": {},
     "output_type": "display_data"
    },
    {
     "data": {
      "application/javascript": [
       "(function(root) {\n",
       "  function embed_document(root) {\n",
       "  const docs_json = {\"7ee7f99c-2da0-40f1-ba0a-e12a9992861e\":{\"version\":\"3.5.2\",\"title\":\"Bokeh Application\",\"roots\":[{\"type\":\"object\",\"name\":\"Figure\",\"id\":\"p1182\",\"attributes\":{\"width\":900,\"height\":500,\"x_range\":{\"type\":\"object\",\"name\":\"Range1d\",\"id\":\"p1192\",\"attributes\":{\"end\":35.0}},\"y_range\":{\"type\":\"object\",\"name\":\"Range1d\",\"id\":\"p1193\",\"attributes\":{\"end\":550.0}},\"x_scale\":{\"type\":\"object\",\"name\":\"LinearScale\",\"id\":\"p1194\"},\"y_scale\":{\"type\":\"object\",\"name\":\"LinearScale\",\"id\":\"p1195\"},\"extra_y_ranges\":{\"type\":\"map\",\"entries\":[[\"altitudeFt\",{\"type\":\"object\",\"name\":\"Range1d\",\"id\":\"p1219\",\"attributes\":{\"start\":5730.525000799999,\"end\":14110.589457600001}}],[\"angle\",{\"type\":\"object\",\"name\":\"Range1d\",\"id\":\"p1220\",\"attributes\":{\"end\":90.0}}]]},\"title\":{\"type\":\"object\",\"name\":\"Title\",\"id\":\"p1185\",\"attributes\":{\"text\":\"17-09-22-50\",\"text_color\":\"#E0E0E0\",\"text_font\":\"Helvetica\",\"text_font_size\":\"1.15em\"}},\"outline_line_color\":\"#E0E0E0\",\"outline_line_alpha\":0.25,\"renderers\":[{\"type\":\"object\",\"name\":\"GlyphRenderer\",\"id\":\"p1235\",\"attributes\":{\"y_range_name\":\"altitudeFt\",\"data_source\":{\"type\":\"object\",\"name\":\"ColumnDataSource\",\"id\":\"p1229\",\"attributes\":{\"selected\":{\"type\":\"object\",\"name\":\"Selection\",\"id\":\"p1230\",\"attributes\":{\"indices\":[],\"line_indices\":[]}},\"selection_policy\":{\"type\":\"object\",\"name\":\"UnionRenderers\",\"id\":\"p1231\"},\"data\":{\"type\":\"map\",\"entries\":[[\"x\",{\"type\":\"ndarray\",\"array\":{\"type\":\"bytes\",\"data\":\"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\"},\"shape\":[199],\"dtype\":\"float64\",\"order\":\"little\"}],[\"y\",{\"type\":\"ndarray\",\"array\":{\"type\":\"bytes\",\"data\":\"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\"},\"shape\":[199],\"dtype\":\"float64\",\"order\":\"little\"}]]}}},\"view\":{\"type\":\"object\",\"name\":\"CDSView\",\"id\":\"p1236\",\"attributes\":{\"filter\":{\"type\":\"object\",\"name\":\"AllIndices\",\"id\":\"p1237\"}}},\"glyph\":{\"type\":\"object\",\"name\":\"Line\",\"id\":\"p1232\",\"attributes\":{\"x\":{\"type\":\"field\",\"field\":\"x\"},\"y\":{\"type\":\"field\",\"field\":\"y\"},\"line_color\":\"palegoldenrod\",\"line_width\":2}},\"nonselection_glyph\":{\"type\":\"object\",\"name\":\"Line\",\"id\":\"p1233\",\"attributes\":{\"x\":{\"type\":\"field\",\"field\":\"x\"},\"y\":{\"type\":\"field\",\"field\":\"y\"},\"line_color\":\"palegoldenrod\",\"line_alpha\":0.1,\"line_width\":2}},\"muted_glyph\":{\"type\":\"object\",\"name\":\"Line\",\"id\":\"p1234\",\"attributes\":{\"x\":{\"type\":\"field\",\"field\":\"x\"},\"y\":{\"type\":\"field\",\"field\":\"y\"},\"line_color\":\"palegoldenrod\",\"line_alpha\":0.2,\"line_width\":2}}}},{\"type\":\"object\",\"name\":\"GlyphRenderer\",\"id\":\"p1246\",\"attributes\":{\"y_range_name\":\"angle\",\"data_source\":{\"type\":\"object\",\"name\":\"ColumnDataSource\",\"id\":\"p1240\",\"attributes\":{\"selected\":{\"type\":\"object\",\"name\":\"Selection\",\"id\":\"p1241\",\"attributes\":{\"indices\":[],\"line_indices\":[]}},\"selection_policy\":{\"type\":\"object\",\"name\":\"UnionRenderers\",\"id\":\"p1242\"},\"data\":{\"type\":\"map\",\"entries\":[[\"x\",{\"type\":\"ndarray\",\"array\":{\"type\":\"bytes\",\"data\":\"AAAAAAAAAAAAAAAAnJm5PwAAAACamck/AAAAADQz0z8AAAAAmpnZPwAAAAAAAOA/AAAAgDMz4z8AAACAZmbmPwAAAACamek/AAAAAM3M7D8AAAAAAADwPwAAAMCZmfE/AAAAQDMz8z8AAAAAzcz0PwAAAIBmZvY/AAAAAAAA+D8AAADAmZn5PwAAAEAzM/s/AAAAAM3M/D8AAACAZmb+PwAAAAAAAABAAAAA4MzMAEAAAACgmZkBQAAAAIBmZgJAAAAAQDMzA0AAAAAAAAAEQAAAAODMzARAAAAAoJmZBUAAAACAZmYGQAAAAEAzMwdAAAAAAAAACEAAAADgzMwIQAAAAKCZmQlAAAAAgGZmCkAAAABAMzMLQAAAAAAAAAxAAAAA4MzMDEAAAACgmZkNQAAAAIBmZg5AAAAAQDMzD0AAAAAAAAAQQAAAAHBmZhBAAAAA0MzMEEAAAABAMzMRQAAAAKCZmRFAAAAAAAAAEkAAAABwZmYSQAAAANDMzBJAAAAAQDMzE0AAAACgmZkTQAAAAAAAABRAAAAAcGZmFEAAAADQzMwUQAAAAEAzMxVAAAAAoJmZFUAAAABwZmYWQAAAANDMzBZAAAAAoJmZF0AAAABwZmYYQAAAANDMzBhAAAAAQDMzGUAAAACgmZkZQAAAAAAAABpAAAAA0MzMGkAAAABAMzMbQAAAAKCZmRtAAAAAAAAAHEAAAADQzMwcQAAAAEAzMx1AAAAAAAAAHkAAAABwZmYeQAAAAEAzMx9AAAAAoJmZH0AAAAAAAAAgQAAAADgzMyBAAAAAaGZmIEAAAADQzMwgQAAAAAAAACFAAAAAODMzIUAAAABoZmYhQAAAANDMzCFAAAAAAAAAIkAAAAA4MzMiQAAAAGhmZiJAAAAAoJmZIkAAAAAAAAAjQAAAADgzMyNAAAAAoJmZI0AAAADQzMwjQAAAAAAAACRAAAAAODMzJEAAAACgmZkkQAAAANDMzCRAAAAAODMzJUAAAABoZmYlQAAAAKCZmSVAAAAA0MzMJUAAAAAAAAAmQAAAAGhmZiZAAAAAoJmZJkAAAADQzMwmQAAAAAAAACdAAAAAaGZmJ0AAAACgmZknQAAAAAAAAChAAAAAODMzKEAAAABoZmYoQAAAAKCZmShAAAAAAAAAKUAAAAA4MzMpQAAAAKCZmSlAAAAA0MzMKUAAAAA4MzMqQAAAAGhmZipAAAAAoJmZKkAAAADQzMwqQAAAAAAAACtAAAAAaGZmK0AAAACgmZkrQAAAANDMzCtAAAAAAAAALEAAAABoZmYsQAAAAKCZmSxAAAAA0MzMLEAAAAAAAAAtQAAAADgzMy1AAAAAoJmZLUAAAADQzMwtQAAAADgzMy5AAAAAaGZmLkAAAACgmZkuQAAAANDMzC5AAAAAODMzL0AAAACgmZkvQAAAANDMzC9AAAAAAAAAMEAAAAA0MzMwQAAAANDMTDBAAAAAaGZmMEAAAAAAAIAwQAAAADQzszBAAAAA0MzMMEAAAAAAAAAxQAAAAJyZGTFAAAAANDMzMUAAAADQzEwxQAAAAGhmZjFAAAAAnJmZMUAAAAA0M7MxQAAAAGhm5jFAAAAAAAAAMkAAAACcmRkyQAAAADQzMzJAAAAAaGZmMkAAAAAAAIAyQAAAAJyZmTJAAAAANDOzMkAAAADQzMwyQAAAAAAAADNAAAAANDMzM0AAAADQzEwzQAAAAAAAgDNAAAAAnJmZM0AAAAA0M7MzQAAAANDMzDNAAAAAaGbmM0AAAACcmRk0QAAAADQzMzRAAAAA0MxMNEAAAABoZmY0QAAAAJyZmTRAAAAANDOzNEAAAADQzMw0QAAAAGhm5jRAAAAAAAAANUAAAAA0MzM1QAAAANDMTDVAAAAAaGZmNUAAAAAAAIA1QAAAAJyZmTVAAAAA0MzMNUAAAABoZuY1QAAAAAAAADZAAAAAnJkZNkAAAADQzEw2QAAAAGhmZjZAAAAAnJmZNkAAAAA0M7M2QAAAANDMzDZAAAAAaGbmNkAAAACcmRk3QAAAADQzMzdAAAAAaGZmN0AAAAAAAIA3QAAAAJyZmTdAAAAA0MzMN0AAAAAAAAA4QAAAAJyZGThAAAAANDMzOEA=\"},\"shape\":[199],\"dtype\":\"float64\",\"order\":\"little\"}],[\"y\",{\"type\":\"ndarray\",\"array\":{\"type\":\"bytes\",\"data\":\"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\"},\"shape\":[199],\"dtype\":\"float64\",\"order\":\"little\"}]]}}},\"view\":{\"type\":\"object\",\"name\":\"CDSView\",\"id\":\"p1247\",\"attributes\":{\"filter\":{\"type\":\"object\",\"name\":\"AllIndices\",\"id\":\"p1248\"}}},\"glyph\":{\"type\":\"object\",\"name\":\"Line\",\"id\":\"p1243\",\"attributes\":{\"x\":{\"type\":\"field\",\"field\":\"x\"},\"y\":{\"type\":\"field\",\"field\":\"y\"},\"line_color\":\"deepskyblue\",\"line_width\":2}},\"nonselection_glyph\":{\"type\":\"object\",\"name\":\"Line\",\"id\":\"p1244\",\"attributes\":{\"x\":{\"type\":\"field\",\"field\":\"x\"},\"y\":{\"type\":\"field\",\"field\":\"y\"},\"line_color\":\"deepskyblue\",\"line_alpha\":0.1,\"line_width\":2}},\"muted_glyph\":{\"type\":\"object\",\"name\":\"Line\",\"id\":\"p1245\",\"attributes\":{\"x\":{\"type\":\"field\",\"field\":\"x\"},\"y\":{\"type\":\"field\",\"field\":\"y\"},\"line_color\":\"deepskyblue\",\"line_alpha\":0.2,\"line_width\":2}}}},{\"type\":\"object\",\"name\":\"GlyphRenderer\",\"id\":\"p1257\",\"attributes\":{\"data_source\":{\"type\":\"object\",\"name\":\"ColumnDataSource\",\"id\":\"p1251\",\"attributes\":{\"selected\":{\"type\":\"object\",\"name\":\"Selection\",\"id\":\"p1252\",\"attributes\":{\"indices\":[],\"line_indices\":[]}},\"selection_policy\":{\"type\":\"object\",\"name\":\"UnionRenderers\",\"id\":\"p1253\"},\"data\":{\"type\":\"map\",\"entries\":[[\"x\",{\"type\":\"ndarray\",\"array\":{\"type\":\"bytes\",\"data\":\"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\"},\"shape\":[199],\"dtype\":\"float64\",\"order\":\"little\"}],[\"y\",{\"type\":\"ndarray\",\"array\":{\"type\":\"bytes\",\"data\":\"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\"},\"shape\":[199],\"dtype\":\"float64\",\"order\":\"little\"}]]}}},\"view\":{\"type\":\"object\",\"name\":\"CDSView\",\"id\":\"p1258\",\"attributes\":{\"filter\":{\"type\":\"object\",\"name\":\"AllIndices\",\"id\":\"p1259\"}}},\"glyph\":{\"type\":\"object\",\"name\":\"Line\",\"id\":\"p1254\",\"attributes\":{\"x\":{\"type\":\"field\",\"field\":\"x\"},\"y\":{\"type\":\"field\",\"field\":\"y\"},\"line_color\":\"limegreen\",\"line_width\":2}},\"nonselection_glyph\":{\"type\":\"object\",\"name\":\"Line\",\"id\":\"p1255\",\"attributes\":{\"x\":{\"type\":\"field\",\"field\":\"x\"},\"y\":{\"type\":\"field\",\"field\":\"y\"},\"line_color\":\"limegreen\",\"line_alpha\":0.1,\"line_width\":2}},\"muted_glyph\":{\"type\":\"object\",\"name\":\"Line\",\"id\":\"p1256\",\"attributes\":{\"x\":{\"type\":\"field\",\"field\":\"x\"},\"y\":{\"type\":\"field\",\"field\":\"y\"},\"line_color\":\"limegreen\",\"line_alpha\":0.2,\"line_width\":2}}}},{\"type\":\"object\",\"name\":\"GlyphRenderer\",\"id\":\"p1267\",\"attributes\":{\"data_source\":{\"type\":\"object\",\"name\":\"ColumnDataSource\",\"id\":\"p1261\",\"attributes\":{\"selected\":{\"type\":\"object\",\"name\":\"Selection\",\"id\":\"p1262\",\"attributes\":{\"indices\":[],\"line_indices\":[]}},\"selection_policy\":{\"type\":\"object\",\"name\":\"UnionRenderers\",\"id\":\"p1263\"},\"data\":{\"type\":\"map\",\"entries\":[[\"x\",{\"type\":\"ndarray\",\"array\":{\"type\":\"bytes\",\"data\":\"AAAAAAAAAAAAAAAAnJm5PwAAAACamck/AAAAADQz0z8AAAAAmpnZPwAAAAAAAOA/AAAAgDMz4z8AAACAZmbmPwAAAACamek/AAAAAM3M7D8AAAAAAADwPwAAAMCZmfE/AAAAQDMz8z8AAAAAzcz0PwAAAIBmZvY/AAAAAAAA+D8AAADAmZn5PwAAAEAzM/s/AAAAAM3M/D8AAACAZmb+PwAAAAAAAABAAAAA4MzMAEAAAACgmZkBQAAAAIBmZgJAAAAAQDMzA0AAAAAAAAAEQAAAAODMzARAAAAAoJmZBUAAAACAZmYGQAAAAEAzMwdAAAAAAAAACEAAAADgzMwIQAAAAKCZmQlAAAAAgGZmCkAAAABAMzMLQAAAAAAAAAxAAAAA4MzMDEAAAACgmZkNQAAAAIBmZg5AAAAAQDMzD0AAAAAAAAAQQAAAAHBmZhBAAAAA0MzMEEAAAABAMzMRQAAAAKCZmRFAAAAAAAAAEkAAAABwZmYSQAAAANDMzBJAAAAAQDMzE0AAAACgmZkTQAAAAAAAABRAAAAAcGZmFEAAAADQzMwUQAAAAEAzMxVAAAAAoJmZFUAAAABwZmYWQAAAANDMzBZAAAAAoJmZF0AAAABwZmYYQAAAANDMzBhAAAAAQDMzGUAAAACgmZkZQAAAAAAAABpAAAAA0MzMGkAAAABAMzMbQAAAAKCZmRtAAAAAAAAAHEAAAADQzMwcQAAAAEAzMx1AAAAAAAAAHkAAAABwZmYeQAAAAEAzMx9AAAAAoJmZH0AAAAAAAAAgQAAAADgzMyBAAAAAaGZmIEAAAADQzMwgQAAAAAAAACFAAAAAODMzIUAAAABoZmYhQAAAANDMzCFAAAAAAAAAIkAAAAA4MzMiQAAAAGhmZiJAAAAAoJmZIkAAAAAAAAAjQAAAADgzMyNAAAAAoJmZI0AAAADQzMwjQAAAAAAAACRAAAAAODMzJEAAAACgmZkkQAAAANDMzCRAAAAAODMzJUAAAABoZmYlQAAAAKCZmSVAAAAA0MzMJUAAAAAAAAAmQAAAAGhmZiZAAAAAoJmZJkAAAADQzMwmQAAAAAAAACdAAAAAaGZmJ0AAAACgmZknQAAAAAAAAChAAAAAODMzKEAAAABoZmYoQAAAAKCZmShAAAAAAAAAKUAAAAA4MzMpQAAAAKCZmSlAAAAA0MzMKUAAAAA4MzMqQAAAAGhmZipAAAAAoJmZKkAAAADQzMwqQAAAAAAAACtAAAAAaGZmK0AAAACgmZkrQAAAANDMzCtAAAAAAAAALEAAAABoZmYsQAAAAKCZmSxAAAAA0MzMLEAAAAAAAAAtQAAAADgzMy1AAAAAoJmZLUAAAADQzMwtQAAAADgzMy5AAAAAaGZmLkAAAACgmZkuQAAAANDMzC5AAAAAODMzL0AAAACgmZkvQAAAANDMzC9AAAAAAAAAMEAAAAA0MzMwQAAAANDMTDBAAAAAaGZmMEAAAAAAAIAwQAAAADQzszBAAAAA0MzMMEAAAAAAAAAxQAAAAJyZGTFAAAAANDMzMUAAAADQzEwxQAAAAGhmZjFAAAAAnJmZMUAAAAA0M7MxQAAAAGhm5jFAAAAAAAAAMkAAAACcmRkyQAAAADQzMzJAAAAAaGZmMkAAAAAAAIAyQAAAAJyZmTJAAAAANDOzMkAAAADQzMwyQAAAAAAAADNAAAAANDMzM0AAAADQzEwzQAAAAAAAgDNAAAAAnJmZM0AAAAA0M7MzQAAAANDMzDNAAAAAaGbmM0AAAACcmRk0QAAAADQzMzRAAAAA0MxMNEAAAABoZmY0QAAAAJyZmTRAAAAANDOzNEAAAADQzMw0QAAAAGhm5jRAAAAAAAAANUAAAAA0MzM1QAAAANDMTDVAAAAAaGZmNUAAAAAAAIA1QAAAAJyZmTVAAAAA0MzMNUAAAABoZuY1QAAAAAAAADZAAAAAnJkZNkAAAADQzEw2QAAAAGhmZjZAAAAAnJmZNkAAAAA0M7M2QAAAANDMzDZAAAAAaGbmNkAAAACcmRk3QAAAADQzMzdAAAAAaGZmN0AAAAAAAIA3QAAAAJyZmTdAAAAA0MzMN0AAAAAAAAA4QAAAAJyZGThAAAAANDMzOEA=\"},\"shape\":[199],\"dtype\":\"float64\",\"order\":\"little\"}],[\"y\",{\"type\":\"ndarray\",\"array\":{\"type\":\"bytes\",\"data\":\"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\"},\"shape\":[199],\"dtype\":\"float64\",\"order\":\"little\"}]]}}},\"view\":{\"type\":\"object\",\"name\":\"CDSView\",\"id\":\"p1268\",\"attributes\":{\"filter\":{\"type\":\"object\",\"name\":\"AllIndices\",\"id\":\"p1269\"}}},\"glyph\":{\"type\":\"object\",\"name\":\"Line\",\"id\":\"p1264\",\"attributes\":{\"x\":{\"type\":\"field\",\"field\":\"x\"},\"y\":{\"type\":\"field\",\"field\":\"y\"},\"line_color\":\"red\",\"line_width\":2}},\"nonselection_glyph\":{\"type\":\"object\",\"name\":\"Line\",\"id\":\"p1265\",\"attributes\":{\"x\":{\"type\":\"field\",\"field\":\"x\"},\"y\":{\"type\":\"field\",\"field\":\"y\"},\"line_color\":\"red\",\"line_alpha\":0.1,\"line_width\":2}},\"muted_glyph\":{\"type\":\"object\",\"name\":\"Line\",\"id\":\"p1266\",\"attributes\":{\"x\":{\"type\":\"field\",\"field\":\"x\"},\"y\":{\"type\":\"field\",\"field\":\"y\"},\"line_color\":\"red\",\"line_alpha\":0.2,\"line_width\":2}}}},{\"type\":\"object\",\"name\":\"GlyphRenderer\",\"id\":\"p1277\",\"attributes\":{\"data_source\":{\"type\":\"object\",\"name\":\"ColumnDataSource\",\"id\":\"p1271\",\"attributes\":{\"selected\":{\"type\":\"object\",\"name\":\"Selection\",\"id\":\"p1272\",\"attributes\":{\"indices\":[],\"line_indices\":[]}},\"selection_policy\":{\"type\":\"object\",\"name\":\"UnionRenderers\",\"id\":\"p1273\"},\"data\":{\"type\":\"map\",\"entries\":[[\"x0\",[24.100000143051147]],[\"y0\",[0.0]],[\"x1\",[24.100000143051147]],[\"y1\",[485.56017391304346]]]}}},\"view\":{\"type\":\"object\",\"name\":\"CDSView\",\"id\":\"p1278\",\"attributes\":{\"filter\":{\"type\":\"object\",\"name\":\"AllIndices\",\"id\":\"p1279\"}}},\"glyph\":{\"type\":\"object\",\"name\":\"Segment\",\"id\":\"p1274\",\"attributes\":{\"x0\":{\"type\":\"field\",\"field\":\"x0\"},\"y0\":{\"type\":\"field\",\"field\":\"y0\"},\"x1\":{\"type\":\"field\",\"field\":\"x1\"},\"y1\":{\"type\":\"field\",\"field\":\"y1\"},\"line_color\":{\"type\":\"value\",\"value\":\"lightblue\"},\"line_width\":{\"type\":\"value\",\"value\":3}}},\"nonselection_glyph\":{\"type\":\"object\",\"name\":\"Segment\",\"id\":\"p1275\",\"attributes\":{\"x0\":{\"type\":\"field\",\"field\":\"x0\"},\"y0\":{\"type\":\"field\",\"field\":\"y0\"},\"x1\":{\"type\":\"field\",\"field\":\"x1\"},\"y1\":{\"type\":\"field\",\"field\":\"y1\"},\"line_color\":{\"type\":\"value\",\"value\":\"lightblue\"},\"line_alpha\":{\"type\":\"value\",\"value\":0.1},\"line_width\":{\"type\":\"value\",\"value\":3}}},\"muted_glyph\":{\"type\":\"object\",\"name\":\"Segment\",\"id\":\"p1276\",\"attributes\":{\"x0\":{\"type\":\"field\",\"field\":\"x0\"},\"y0\":{\"type\":\"field\",\"field\":\"y0\"},\"x1\":{\"type\":\"field\",\"field\":\"x1\"},\"y1\":{\"type\":\"field\",\"field\":\"y1\"},\"line_color\":{\"type\":\"value\",\"value\":\"lightblue\"},\"line_alpha\":{\"type\":\"value\",\"value\":0.2},\"line_width\":{\"type\":\"value\",\"value\":3}}}}},{\"type\":\"object\",\"name\":\"GlyphRenderer\",\"id\":\"p1286\",\"attributes\":{\"data_source\":{\"type\":\"object\",\"name\":\"ColumnDataSource\",\"id\":\"p1280\",\"attributes\":{\"selected\":{\"type\":\"object\",\"name\":\"Selection\",\"id\":\"p1281\",\"attributes\":{\"indices\":[],\"line_indices\":[]}},\"selection_policy\":{\"type\":\"object\",\"name\":\"UnionRenderers\",\"id\":\"p1282\"},\"data\":{\"type\":\"map\",\"entries\":[[\"x0\",[25.600000143051147]],[\"y0\",[0.0]],[\"x1\",[25.600000143051147]],[\"y1\",[485.56017391304346]]]}}},\"view\":{\"type\":\"object\",\"name\":\"CDSView\",\"id\":\"p1287\",\"attributes\":{\"filter\":{\"type\":\"object\",\"name\":\"AllIndices\",\"id\":\"p1288\"}}},\"glyph\":{\"type\":\"object\",\"name\":\"Segment\",\"id\":\"p1283\",\"attributes\":{\"x0\":{\"type\":\"field\",\"field\":\"x0\"},\"y0\":{\"type\":\"field\",\"field\":\"y0\"},\"x1\":{\"type\":\"field\",\"field\":\"x1\"},\"y1\":{\"type\":\"field\",\"field\":\"y1\"},\"line_color\":{\"type\":\"value\",\"value\":\"darkseagreen\"}}},\"nonselection_glyph\":{\"type\":\"object\",\"name\":\"Segment\",\"id\":\"p1284\",\"attributes\":{\"x0\":{\"type\":\"field\",\"field\":\"x0\"},\"y0\":{\"type\":\"field\",\"field\":\"y0\"},\"x1\":{\"type\":\"field\",\"field\":\"x1\"},\"y1\":{\"type\":\"field\",\"field\":\"y1\"},\"line_color\":{\"type\":\"value\",\"value\":\"darkseagreen\"},\"line_alpha\":{\"type\":\"value\",\"value\":0.1}}},\"muted_glyph\":{\"type\":\"object\",\"name\":\"Segment\",\"id\":\"p1285\",\"attributes\":{\"x0\":{\"type\":\"field\",\"field\":\"x0\"},\"y0\":{\"type\":\"field\",\"field\":\"y0\"},\"x1\":{\"type\":\"field\",\"field\":\"x1\"},\"y1\":{\"type\":\"field\",\"field\":\"y1\"},\"line_color\":{\"type\":\"value\",\"value\":\"darkseagreen\"},\"line_alpha\":{\"type\":\"value\",\"value\":0.2}}}}},{\"type\":\"object\",\"name\":\"GlyphRenderer\",\"id\":\"p1295\",\"attributes\":{\"data_source\":{\"type\":\"object\",\"name\":\"ColumnDataSource\",\"id\":\"p1289\",\"attributes\":{\"selected\":{\"type\":\"object\",\"name\":\"Selection\",\"id\":\"p1290\",\"attributes\":{\"indices\":[],\"line_indices\":[]}},\"selection_policy\":{\"type\":\"object\",\"name\":\"UnionRenderers\",\"id\":\"p1291\"},\"data\":{\"type\":\"map\",\"entries\":[[\"x0\",[22.600000143051147]],[\"y0\",[0.0]],[\"x1\",[22.600000143051147]],[\"y1\",[485.56017391304346]]]}}},\"view\":{\"type\":\"object\",\"name\":\"CDSView\",\"id\":\"p1296\",\"attributes\":{\"filter\":{\"type\":\"object\",\"name\":\"AllIndices\",\"id\":\"p1297\"}}},\"glyph\":{\"type\":\"object\",\"name\":\"Segment\",\"id\":\"p1292\",\"attributes\":{\"x0\":{\"type\":\"field\",\"field\":\"x0\"},\"y0\":{\"type\":\"field\",\"field\":\"y0\"},\"x1\":{\"type\":\"field\",\"field\":\"x1\"},\"y1\":{\"type\":\"field\",\"field\":\"y1\"},\"line_color\":{\"type\":\"value\",\"value\":\"darkseagreen\"}}},\"nonselection_glyph\":{\"type\":\"object\",\"name\":\"Segment\",\"id\":\"p1293\",\"attributes\":{\"x0\":{\"type\":\"field\",\"field\":\"x0\"},\"y0\":{\"type\":\"field\",\"field\":\"y0\"},\"x1\":{\"type\":\"field\",\"field\":\"x1\"},\"y1\":{\"type\":\"field\",\"field\":\"y1\"},\"line_color\":{\"type\":\"value\",\"value\":\"darkseagreen\"},\"line_alpha\":{\"type\":\"value\",\"value\":0.1}}},\"muted_glyph\":{\"type\":\"object\",\"name\":\"Segment\",\"id\":\"p1294\",\"attributes\":{\"x0\":{\"type\":\"field\",\"field\":\"x0\"},\"y0\":{\"type\":\"field\",\"field\":\"y0\"},\"x1\":{\"type\":\"field\",\"field\":\"x1\"},\"y1\":{\"type\":\"field\",\"field\":\"y1\"},\"line_color\":{\"type\":\"value\",\"value\":\"darkseagreen\"},\"line_alpha\":{\"type\":\"value\",\"value\":0.2}}}}},{\"type\":\"object\",\"name\":\"GlyphRenderer\",\"id\":\"p1304\",\"attributes\":{\"data_source\":{\"type\":\"object\",\"name\":\"ColumnDataSource\",\"id\":\"p1298\",\"attributes\":{\"selected\":{\"type\":\"object\",\"name\":\"Selection\",\"id\":\"p1299\",\"attributes\":{\"indices\":[],\"line_indices\":[]}},\"selection_policy\":{\"type\":\"object\",\"name\":\"UnionRenderers\",\"id\":\"p1300\"},\"data\":{\"type\":\"map\",\"entries\":[[\"x\",[24.100000143051147]],[\"y\",[485.56017391304346]],[\"size\",[20]]]}}},\"view\":{\"type\":\"object\",\"name\":\"CDSView\",\"id\":\"p1305\",\"attributes\":{\"filter\":{\"type\":\"object\",\"name\":\"AllIndices\",\"id\":\"p1306\"}}},\"glyph\":{\"type\":\"object\",\"name\":\"Scatter\",\"id\":\"p1301\",\"attributes\":{\"x\":{\"type\":\"field\",\"field\":\"x\"},\"y\":{\"type\":\"field\",\"field\":\"y\"},\"size\":{\"type\":\"field\",\"field\":\"size\"},\"line_color\":{\"type\":\"value\",\"value\":\"lightblue\"},\"line_width\":{\"type\":\"value\",\"value\":3},\"fill_color\":{\"type\":\"value\",\"value\":null},\"marker\":{\"type\":\"value\",\"value\":\"square_cross\"}}},\"nonselection_glyph\":{\"type\":\"object\",\"name\":\"Scatter\",\"id\":\"p1302\",\"attributes\":{\"x\":{\"type\":\"field\",\"field\":\"x\"},\"y\":{\"type\":\"field\",\"field\":\"y\"},\"size\":{\"type\":\"field\",\"field\":\"size\"},\"line_color\":{\"type\":\"value\",\"value\":\"lightblue\"},\"line_alpha\":{\"type\":\"value\",\"value\":0.1},\"line_width\":{\"type\":\"value\",\"value\":3},\"fill_color\":{\"type\":\"value\",\"value\":null},\"fill_alpha\":{\"type\":\"value\",\"value\":0.1},\"hatch_alpha\":{\"type\":\"value\",\"value\":0.1},\"marker\":{\"type\":\"value\",\"value\":\"square_cross\"}}},\"muted_glyph\":{\"type\":\"object\",\"name\":\"Scatter\",\"id\":\"p1303\",\"attributes\":{\"x\":{\"type\":\"field\",\"field\":\"x\"},\"y\":{\"type\":\"field\",\"field\":\"y\"},\"size\":{\"type\":\"field\",\"field\":\"size\"},\"line_color\":{\"type\":\"value\",\"value\":\"lightblue\"},\"line_alpha\":{\"type\":\"value\",\"value\":0.2},\"line_width\":{\"type\":\"value\",\"value\":3},\"fill_color\":{\"type\":\"value\",\"value\":null},\"fill_alpha\":{\"type\":\"value\",\"value\":0.2},\"hatch_alpha\":{\"type\":\"value\",\"value\":0.2},\"marker\":{\"type\":\"value\",\"value\":\"square_cross\"}}}}}],\"toolbar\":{\"type\":\"object\",\"name\":\"Toolbar\",\"id\":\"p1191\",\"attributes\":{\"tools\":[{\"type\":\"object\",\"name\":\"PanTool\",\"id\":\"p1206\"},{\"type\":\"object\",\"name\":\"WheelZoomTool\",\"id\":\"p1207\",\"attributes\":{\"renderers\":\"auto\"}},{\"type\":\"object\",\"name\":\"BoxZoomTool\",\"id\":\"p1208\",\"attributes\":{\"overlay\":{\"type\":\"object\",\"name\":\"BoxAnnotation\",\"id\":\"p1209\",\"attributes\":{\"syncable\":false,\"line_color\":\"black\",\"line_alpha\":1.0,\"line_width\":2,\"line_dash\":[4,4],\"fill_color\":\"lightgrey\",\"fill_alpha\":0.5,\"level\":\"overlay\",\"visible\":false,\"left\":{\"type\":\"number\",\"value\":\"nan\"},\"right\":{\"type\":\"number\",\"value\":\"nan\"},\"top\":{\"type\":\"number\",\"value\":\"nan\"},\"bottom\":{\"type\":\"number\",\"value\":\"nan\"},\"left_units\":\"canvas\",\"right_units\":\"canvas\",\"top_units\":\"canvas\",\"bottom_units\":\"canvas\",\"handles\":{\"type\":\"object\",\"name\":\"BoxInteractionHandles\",\"id\":\"p1215\",\"attributes\":{\"all\":{\"type\":\"object\",\"name\":\"AreaVisuals\",\"id\":\"p1214\",\"attributes\":{\"fill_color\":\"white\",\"hover_fill_color\":\"lightgray\"}}}}}}}},{\"type\":\"object\",\"name\":\"SaveTool\",\"id\":\"p1216\"},{\"type\":\"object\",\"name\":\"ResetTool\",\"id\":\"p1217\"},{\"type\":\"object\",\"name\":\"HelpTool\",\"id\":\"p1218\"},{\"type\":\"object\",\"name\":\"HoverTool\",\"id\":\"p1250\",\"attributes\":{\"renderers\":\"auto\",\"tooltips\":[[\"Y-val\",\"@y{0.00}\"]]}}]}},\"left\":[{\"type\":\"object\",\"name\":\"LinearAxis\",\"id\":\"p1201\",\"attributes\":{\"ticker\":{\"type\":\"object\",\"name\":\"BasicTicker\",\"id\":\"p1202\",\"attributes\":{\"mantissas\":[1,2,5]}},\"formatter\":{\"type\":\"object\",\"name\":\"BasicTickFormatter\",\"id\":\"p1203\"},\"axis_label\":\"km/h\",\"axis_label_standoff\":10,\"axis_label_text_color\":\"#E0E0E0\",\"axis_label_text_font\":\"Helvetica\",\"axis_label_text_font_size\":\"1.25em\",\"axis_label_text_font_style\":\"normal\",\"major_label_policy\":{\"type\":\"object\",\"name\":\"AllLabels\",\"id\":\"p1204\"},\"major_label_text_color\":\"#E0E0E0\",\"major_label_text_font\":\"Helvetica\",\"major_label_text_font_size\":\"1.025em\",\"axis_line_color\":\"#E0E0E0\",\"axis_line_alpha\":0,\"major_tick_line_color\":\"#E0E0E0\",\"major_tick_line_alpha\":0,\"minor_tick_line_color\":\"#E0E0E0\",\"minor_tick_line_alpha\":0}},{\"type\":\"object\",\"name\":\"LinearAxis\",\"id\":\"p1221\",\"attributes\":{\"y_range_name\":\"altitudeFt\",\"ticker\":{\"type\":\"object\",\"name\":\"BasicTicker\",\"id\":\"p1222\",\"attributes\":{\"mantissas\":[1,2,5]}},\"formatter\":{\"type\":\"object\",\"name\":\"BasicTickFormatter\",\"id\":\"p1223\"},\"axis_label\":\"Alt (ft)\",\"axis_label_standoff\":10,\"axis_label_text_color\":\"#E0E0E0\",\"axis_label_text_font\":\"Helvetica\",\"axis_label_text_font_size\":\"1.25em\",\"axis_label_text_font_style\":\"normal\",\"major_label_policy\":{\"type\":\"object\",\"name\":\"AllLabels\",\"id\":\"p1224\"},\"major_label_text_color\":\"#E0E0E0\",\"major_label_text_font\":\"Helvetica\",\"major_label_text_font_size\":\"1.025em\",\"axis_line_color\":\"#E0E0E0\",\"axis_line_alpha\":0,\"major_tick_line_color\":\"#E0E0E0\",\"major_tick_line_alpha\":0,\"minor_tick_line_color\":\"#E0E0E0\",\"minor_tick_line_alpha\":0}},{\"type\":\"object\",\"name\":\"LinearAxis\",\"id\":\"p1225\",\"attributes\":{\"y_range_name\":\"angle\",\"ticker\":{\"type\":\"object\",\"name\":\"BasicTicker\",\"id\":\"p1226\",\"attributes\":{\"mantissas\":[1,2,5]}},\"formatter\":{\"type\":\"object\",\"name\":\"BasicTickFormatter\",\"id\":\"p1227\"},\"axis_label\":\"angle\",\"axis_label_standoff\":10,\"axis_label_text_color\":\"#E0E0E0\",\"axis_label_text_font\":\"Helvetica\",\"axis_label_text_font_size\":\"1.25em\",\"axis_label_text_font_style\":\"normal\",\"major_label_policy\":{\"type\":\"object\",\"name\":\"AllLabels\",\"id\":\"p1228\"},\"major_label_text_color\":\"#E0E0E0\",\"major_label_text_font\":\"Helvetica\",\"major_label_text_font_size\":\"1.025em\",\"axis_line_color\":\"#E0E0E0\",\"axis_line_alpha\":0,\"major_tick_line_color\":\"#E0E0E0\",\"major_tick_line_alpha\":0,\"minor_tick_line_color\":\"#E0E0E0\",\"minor_tick_line_alpha\":0}}],\"below\":[{\"type\":\"object\",\"name\":\"LinearAxis\",\"id\":\"p1196\",\"attributes\":{\"ticker\":{\"type\":\"object\",\"name\":\"BasicTicker\",\"id\":\"p1197\",\"attributes\":{\"mantissas\":[1,2,5]}},\"formatter\":{\"type\":\"object\",\"name\":\"BasicTickFormatter\",\"id\":\"p1198\"},\"axis_label\":\"seconds from exit\",\"axis_label_standoff\":10,\"axis_label_text_color\":\"#E0E0E0\",\"axis_label_text_font\":\"Helvetica\",\"axis_label_text_font_size\":\"1.25em\",\"axis_label_text_font_style\":\"normal\",\"major_label_policy\":{\"type\":\"object\",\"name\":\"AllLabels\",\"id\":\"p1199\"},\"major_label_text_color\":\"#E0E0E0\",\"major_label_text_font\":\"Helvetica\",\"major_label_text_font_size\":\"1.025em\",\"axis_line_color\":\"#E0E0E0\",\"axis_line_alpha\":0,\"major_tick_line_color\":\"#E0E0E0\",\"major_tick_line_alpha\":0,\"minor_tick_line_color\":\"#E0E0E0\",\"minor_tick_line_alpha\":0}}],\"center\":[{\"type\":\"object\",\"name\":\"Grid\",\"id\":\"p1200\",\"attributes\":{\"axis\":{\"id\":\"p1196\"},\"grid_line_color\":\"#E0E0E0\",\"grid_line_alpha\":0.25}},{\"type\":\"object\",\"name\":\"Grid\",\"id\":\"p1205\",\"attributes\":{\"dimension\":1,\"axis\":{\"id\":\"p1201\"},\"grid_line_color\":\"#E0E0E0\",\"grid_line_alpha\":0.25}},{\"type\":\"object\",\"name\":\"Legend\",\"id\":\"p1238\",\"attributes\":{\"border_line_alpha\":0,\"background_fill_color\":\"#20262B\",\"background_fill_alpha\":0.25,\"label_text_color\":\"#E0E0E0\",\"label_text_font\":\"Helvetica\",\"label_text_font_size\":\"1.025em\",\"label_standoff\":8,\"glyph_width\":15,\"spacing\":8,\"items\":[{\"type\":\"object\",\"name\":\"LegendItem\",\"id\":\"p1239\",\"attributes\":{\"label\":{\"type\":\"value\",\"value\":\"Alt (ft)\"},\"renderers\":[{\"id\":\"p1235\"}]}},{\"type\":\"object\",\"name\":\"LegendItem\",\"id\":\"p1249\",\"attributes\":{\"label\":{\"type\":\"value\",\"value\":\"angle\"},\"renderers\":[{\"id\":\"p1246\"}]}},{\"type\":\"object\",\"name\":\"LegendItem\",\"id\":\"p1260\",\"attributes\":{\"label\":{\"type\":\"value\",\"value\":\"speed\"},\"renderers\":[{\"id\":\"p1257\"}]}},{\"type\":\"object\",\"name\":\"LegendItem\",\"id\":\"p1270\",\"attributes\":{\"label\":{\"type\":\"value\",\"value\":\"H-speed\"},\"renderers\":[{\"id\":\"p1267\"}]}}]}}],\"background_fill_color\":\"#20262B\",\"border_fill_color\":\"#15191C\"}}]}};\n",
       "  const render_items = [{\"docid\":\"7ee7f99c-2da0-40f1-ba0a-e12a9992861e\",\"roots\":{\"p1182\":\"a2923b58-dd1d-4279-b663-768c7499025a\"},\"root_ids\":[\"p1182\"]}];\n",
       "  void root.Bokeh.embed.embed_items_notebook(docs_json, render_items);\n",
       "  }\n",
       "  if (root.Bokeh !== undefined) {\n",
       "    embed_document(root);\n",
       "  } else {\n",
       "    let attempts = 0;\n",
       "    const timer = setInterval(function(root) {\n",
       "      if (root.Bokeh !== undefined) {\n",
       "        clearInterval(timer);\n",
       "        embed_document(root);\n",
       "      } else {\n",
       "        attempts++;\n",
       "        if (attempts > 100) {\n",
       "          clearInterval(timer);\n",
       "          console.log(\"Bokeh: ERROR: Unable to run BokehJS code because BokehJS library is missing\");\n",
       "        }\n",
       "      }\n",
       "    }, 10, root)\n",
       "  }\n",
       "})(window);"
      ],
      "application/vnd.bokehjs_exec.v0+json": ""
     },
     "metadata": {
      "application/vnd.bokehjs_exec.v0+json": {
       "id": "p1182"
      }
     },
     "output_type": "display_data"
    },
    {
     "data": {
      "application/vnd.jupyter.widget-view+json": {
       "model_id": "4fd6ecae113e43598e735cdd0b2ed8be",
       "version_major": 2,
       "version_minor": 0
      },
      "text/plain": [
       "HTML(value='<hr><h1><span style=\"color: #0f0\">17-10-55-36 jump - 🟢 valid - score = 477.89 km/h</span></h1>')"
      ]
     },
     "metadata": {},
     "output_type": "display_data"
    },
    {
     "data": {
      "application/vnd.jupyter.widget-view+json": {
       "model_id": "61f0ab59bdbb440394d741b8c2c5a223",
       "version_major": 2,
       "version_minor": 0
      },
      "text/plain": [
       "HTML(value='<h3>Max speed = 479; exit at 4188 m (13740 ft), end scoring window at 1932 m (6339 ft)')"
      ]
     },
     "metadata": {},
     "output_type": "display_data"
    },
    {
     "data": {
      "application/vnd.jupyter.widget-view+json": {
       "model_id": "e5eea996c23c44a48b6b8e988171ddb6",
       "version_major": 2,
       "version_minor": 0
      },
      "text/plain": [
       "HTML(value='</h3>')"
      ]
     },
     "metadata": {},
     "output_type": "display_data"
    },
    {
     "data": {
      "text/html": [
       "<div>\n",
       "<style scoped>\n",
       "    .dataframe tbody tr th:only-of-type {\n",
       "        vertical-align: middle;\n",
       "    }\n",
       "\n",
       "    .dataframe tbody tr th {\n",
       "        vertical-align: top;\n",
       "    }\n",
       "\n",
       "    .dataframe thead th {\n",
       "        text-align: right;\n",
       "    }\n",
       "</style>\n",
       "<table border=\"1\" class=\"dataframe\">\n",
       "  <thead>\n",
       "    <tr style=\"text-align: right;\">\n",
       "      <th></th>\n",
       "      <th>time</th>\n",
       "      <th>vKMh</th>\n",
       "      <th>hKMh</th>\n",
       "      <th>speedAngle</th>\n",
       "      <th>distanceFromExit</th>\n",
       "      <th>altitude (ft)</th>\n",
       "      <th>netVectorKMh</th>\n",
       "    </tr>\n",
       "  </thead>\n",
       "  <tbody>\n",
       "    <tr>\n",
       "      <th></th>\n",
       "      <td>5.0</td>\n",
       "      <td>183</td>\n",
       "      <td>140</td>\n",
       "      <td>52.7</td>\n",
       "      <td>241.600000</td>\n",
       "      <td>13228</td>\n",
       "      <td>231</td>\n",
       "    </tr>\n",
       "    <tr>\n",
       "      <th></th>\n",
       "      <td>10.0</td>\n",
       "      <td>328</td>\n",
       "      <td>99</td>\n",
       "      <td>73.3</td>\n",
       "      <td>407.700000</td>\n",
       "      <td>12017</td>\n",
       "      <td>343</td>\n",
       "    </tr>\n",
       "    <tr>\n",
       "      <th></th>\n",
       "      <td>15.0</td>\n",
       "      <td>423</td>\n",
       "      <td>55</td>\n",
       "      <td>82.6</td>\n",
       "      <td>517.100000</td>\n",
       "      <td>10271</td>\n",
       "      <td>427</td>\n",
       "    </tr>\n",
       "    <tr>\n",
       "      <th></th>\n",
       "      <td>20.0</td>\n",
       "      <td>472</td>\n",
       "      <td>16</td>\n",
       "      <td>88.0</td>\n",
       "      <td>559.600000</td>\n",
       "      <td>8200</td>\n",
       "      <td>472</td>\n",
       "    </tr>\n",
       "    <tr>\n",
       "      <th></th>\n",
       "      <td>25.0</td>\n",
       "      <td>476</td>\n",
       "      <td>28</td>\n",
       "      <td>86.6</td>\n",
       "      <td>547.589975</td>\n",
       "      <td>6368</td>\n",
       "      <td>477</td>\n",
       "    </tr>\n",
       "  </tbody>\n",
       "</table>\n",
       "</div>"
      ],
      "text/plain": [
       "  time  vKMh  hKMh  speedAngle  distanceFromExit  altitude (ft)  netVectorKMh\n",
       "   5.0   183   140        52.7        241.600000          13228           231\n",
       "  10.0   328    99        73.3        407.700000          12017           343\n",
       "  15.0   423    55        82.6        517.100000          10271           427\n",
       "  20.0   472    16        88.0        559.600000           8200           472\n",
       "  25.0   476    28        86.6        547.589975           6368           477"
      ]
     },
     "metadata": {},
     "output_type": "display_data"
    },
    {
     "data": {
      "text/html": [
       "\n",
       "  <div id=\"e0123091-8638-476e-abca-25e9f2f90fa7\" data-root-id=\"p1325\" style=\"display: contents;\"></div>\n"
      ]
     },
     "metadata": {},
     "output_type": "display_data"
    },
    {
     "data": {
      "application/javascript": [
       "(function(root) {\n",
       "  function embed_document(root) {\n",
       "  const docs_json = {\"fd8c9a1c-c32f-405c-97d0-6813249b2e41\":{\"version\":\"3.5.2\",\"title\":\"Bokeh Application\",\"roots\":[{\"type\":\"object\",\"name\":\"Figure\",\"id\":\"p1325\",\"attributes\":{\"width\":900,\"height\":500,\"x_range\":{\"type\":\"object\",\"name\":\"Range1d\",\"id\":\"p1335\",\"attributes\":{\"end\":35.0}},\"y_range\":{\"type\":\"object\",\"name\":\"Range1d\",\"id\":\"p1336\",\"attributes\":{\"end\":550.0}},\"x_scale\":{\"type\":\"object\",\"name\":\"LinearScale\",\"id\":\"p1337\"},\"y_scale\":{\"type\":\"object\",\"name\":\"LinearScale\",\"id\":\"p1338\"},\"extra_y_ranges\":{\"type\":\"map\",\"entries\":[[\"altitudeFt\",{\"type\":\"object\",\"name\":\"Range1d\",\"id\":\"p1362\",\"attributes\":{\"start\":5868.2234576,\"end\":14240.830656}}],[\"angle\",{\"type\":\"object\",\"name\":\"Range1d\",\"id\":\"p1363\",\"attributes\":{\"end\":90.0}}]]},\"title\":{\"type\":\"object\",\"name\":\"Title\",\"id\":\"p1328\",\"attributes\":{\"text\":\"17-10-55-36\",\"text_color\":\"#E0E0E0\",\"text_font\":\"Helvetica\",\"text_font_size\":\"1.15em\"}},\"outline_line_color\":\"#E0E0E0\",\"outline_line_alpha\":0.25,\"renderers\":[{\"type\":\"object\",\"name\":\"GlyphRenderer\",\"id\":\"p1378\",\"attributes\":{\"y_range_name\":\"altitudeFt\",\"data_source\":{\"type\":\"object\",\"name\":\"ColumnDataSource\",\"id\":\"p1372\",\"attributes\":{\"selected\":{\"type\":\"object\",\"name\":\"Selection\",\"id\":\"p1373\",\"attributes\":{\"indices\":[],\"line_indices\":[]}},\"selection_policy\":{\"type\":\"object\",\"name\":\"UnionRenderers\",\"id\":\"p1374\"},\"data\":{\"type\":\"map\",\"entries\":[[\"x\",{\"type\":\"ndarray\",\"array\":{\"type\":\"bytes\",\"data\":\"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\"},\"shape\":[193],\"dtype\":\"float64\",\"order\":\"little\"}],[\"y\",{\"type\":\"ndarray\",\"array\":{\"type\":\"bytes\",\"data\":\"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\"},\"shape\":[193],\"dtype\":\"float64\",\"order\":\"little\"}]]}}},\"view\":{\"type\":\"object\",\"name\":\"CDSView\",\"id\":\"p1379\",\"attributes\":{\"filter\":{\"type\":\"object\",\"name\":\"AllIndices\",\"id\":\"p1380\"}}},\"glyph\":{\"type\":\"object\",\"name\":\"Line\",\"id\":\"p1375\",\"attributes\":{\"x\":{\"type\":\"field\",\"field\":\"x\"},\"y\":{\"type\":\"field\",\"field\":\"y\"},\"line_color\":\"palegoldenrod\",\"line_width\":2}},\"nonselection_glyph\":{\"type\":\"object\",\"name\":\"Line\",\"id\":\"p1376\",\"attributes\":{\"x\":{\"type\":\"field\",\"field\":\"x\"},\"y\":{\"type\":\"field\",\"field\":\"y\"},\"line_color\":\"palegoldenrod\",\"line_alpha\":0.1,\"line_width\":2}},\"muted_glyph\":{\"type\":\"object\",\"name\":\"Line\",\"id\":\"p1377\",\"attributes\":{\"x\":{\"type\":\"field\",\"field\":\"x\"},\"y\":{\"type\":\"field\",\"field\":\"y\"},\"line_color\":\"palegoldenrod\",\"line_alpha\":0.2,\"line_width\":2}}}},{\"type\":\"object\",\"name\":\"GlyphRenderer\",\"id\":\"p1389\",\"attributes\":{\"y_range_name\":\"angle\",\"data_source\":{\"type\":\"object\",\"name\":\"ColumnDataSource\",\"id\":\"p1383\",\"attributes\":{\"selected\":{\"type\":\"object\",\"name\":\"Selection\",\"id\":\"p1384\",\"attributes\":{\"indices\":[],\"line_indices\":[]}},\"selection_policy\":{\"type\":\"object\",\"name\":\"UnionRenderers\",\"id\":\"p1385\"},\"data\":{\"type\":\"map\",\"entries\":[[\"x\",{\"type\":\"ndarray\",\"array\":{\"type\":\"bytes\",\"data\":\"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\"},\"shape\":[193],\"dtype\":\"float64\",\"order\":\"little\"}],[\"y\",{\"type\":\"ndarray\",\"array\":{\"type\":\"bytes\",\"data\":\"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\"},\"shape\":[193],\"dtype\":\"float64\",\"order\":\"little\"}]]}}},\"view\":{\"type\":\"object\",\"name\":\"CDSView\",\"id\":\"p1390\",\"attributes\":{\"filter\":{\"type\":\"object\",\"name\":\"AllIndices\",\"id\":\"p1391\"}}},\"glyph\":{\"type\":\"object\",\"name\":\"Line\",\"id\":\"p1386\",\"attributes\":{\"x\":{\"type\":\"field\",\"field\":\"x\"},\"y\":{\"type\":\"field\",\"field\":\"y\"},\"line_color\":\"deepskyblue\",\"line_width\":2}},\"nonselection_glyph\":{\"type\":\"object\",\"name\":\"Line\",\"id\":\"p1387\",\"attributes\":{\"x\":{\"type\":\"field\",\"field\":\"x\"},\"y\":{\"type\":\"field\",\"field\":\"y\"},\"line_color\":\"deepskyblue\",\"line_alpha\":0.1,\"line_width\":2}},\"muted_glyph\":{\"type\":\"object\",\"name\":\"Line\",\"id\":\"p1388\",\"attributes\":{\"x\":{\"type\":\"field\",\"field\":\"x\"},\"y\":{\"type\":\"field\",\"field\":\"y\"},\"line_color\":\"deepskyblue\",\"line_alpha\":0.2,\"line_width\":2}}}},{\"type\":\"object\",\"name\":\"GlyphRenderer\",\"id\":\"p1400\",\"attributes\":{\"data_source\":{\"type\":\"object\",\"name\":\"ColumnDataSource\",\"id\":\"p1394\",\"attributes\":{\"selected\":{\"type\":\"object\",\"name\":\"Selection\",\"id\":\"p1395\",\"attributes\":{\"indices\":[],\"line_indices\":[]}},\"selection_policy\":{\"type\":\"object\",\"name\":\"UnionRenderers\",\"id\":\"p1396\"},\"data\":{\"type\":\"map\",\"entries\":[[\"x\",{\"type\":\"ndarray\",\"array\":{\"type\":\"bytes\",\"data\":\"AAAAAAAAAAAAAAAAnJm5PwAAAACamck/AAAAADMz0z8AAAAAmpnZPwAAAAAAAOA/AAAAgDMz4z8AAACAZmbmPwAAAICZmek/AAAAAM3M7D8AAAAAAADwPwAAAMCZmfE/AAAAQDMz8z8AAADAzMz0PwAAAIBmZvY/AAAAAAAA+D8AAADAmZn5PwAAAEAzM/s/AAAAwMzM/D8AAACAZmb+PwAAAAAAAABAAAAA4MzMAEAAAACgmZkBQAAAAGBmZgJAAAAAQDMzA0AAAAAAAAAEQAAAAODMzARAAAAAoJmZBUAAAABgZmYGQAAAAEAzMwdAAAAAAAAACEAAAADgzMwIQAAAAKCZmQlAAAAAYGZmCkAAAABAMzMLQAAAAAAAAAxAAAAA4MzMDEAAAACgmZkNQAAAAGBmZg5AAAAAQDMzD0AAAAAAAAAQQAAAAHBmZhBAAAAA0MzMEEAAAAAwMzMRQAAAAKCZmRFAAAAAAAAAEkAAAABwZmYSQAAAANDMzBJAAAAAMDMzE0AAAACgmZkTQAAAAHBmZhRAAAAA0MzMFEAAAAAwMzMVQAAAAKCZmRVAAAAAcGZmFkAAAADQzMwWQAAAAKCZmRdAAAAAAAAAGEAAAABwZmYYQAAAANDMzBhAAAAAMDMzGUAAAAAAAAAaQAAAAHBmZhpAAAAAMDMzG0AAAAAAAAAcQAAAAHBmZhxAAAAAMDMzHUAAAACgmZkdQAAAAAAAAB5AAAAAcGZmHkAAAADQzMweQAAAAKCZmR9AAAAAAAAAIEAAAAA4MzMgQAAAAGhmZiBAAAAA0MzMIEAAAAAAAAAhQAAAAGhmZiFAAAAAmJmZIUAAAADQzMwhQAAAAAAAACJAAAAAODMzIkAAAACYmZkiQAAAAAAAACNAAAAAODMzI0AAAABoZmYjQAAAAJiZmSNAAAAA0MzMI0AAAAA4MzMkQAAAAGhmZiRAAAAA0MzMJEAAAAAAAAAlQAAAAGhmZiVAAAAA0MzMJUAAAAAAAAAmQAAAADgzMyZAAAAAmJmZJkAAAAAAAAAnQAAAADgzMydAAAAAaGZmJ0AAAACYmZknQAAAANDMzCdAAAAAODMzKEAAAABoZmYoQAAAAJiZmShAAAAA0MzMKEAAAAA4MzMpQAAAAGhmZilAAAAA0MzMKUAAAAAAAAAqQAAAAGhmZipAAAAAmJmZKkAAAADQzMwqQAAAAAAAACtAAAAAaGZmK0AAAACYmZkrQAAAAAAAACxAAAAAODMzLEAAAABoZmYsQAAAAJiZmSxAAAAA0MzMLEAAAAA4MzMtQAAAAGhmZi1AAAAA0MzMLUAAAAA4MzMuQAAAAGhmZi5AAAAAmJmZLkAAAAAAAAAvQAAAADgzMy9AAAAAaGZmL0AAAACYmZkvQAAAAAAAADBAAAAANDMzMEAAAADMzEwwQAAAAGhmZjBAAAAAAACAMEAAAACcmZkwQAAAAMzMzDBAAAAAaGbmMEAAAACcmRkxQAAAADQzMzFAAAAAaGZmMUAAAACcmZkxQAAAADQzszFAAAAAzMzMMUAAAABoZuYxQAAAAAAAADJAAAAANDMzMkAAAADMzEwyQAAAAGhmZjJAAAAAAACAMkAAAACcmZkyQAAAAMzMzDJAAAAAAAAAM0AAAACcmRkzQAAAAMzMTDNAAAAAaGZmM0AAAAAAAIAzQAAAADQzszNAAAAAzMzMM0AAAABoZuYzQAAAAJyZGTRAAAAANDMzNEAAAABoZmY0QAAAAAAAgDRAAAAAnJmZNEAAAAA0M7M0QAAAAMzMzDRAAAAAAAAANUAAAACcmRk1QAAAAMzMTDVAAAAAAACANUAAAACcmZk1QAAAAMzMzDVAAAAAaGbmNUAAAAAAAAA2QAAAAJyZGTZAAAAANDMzNkAAAABoZmY2QAAAAAAAgDZAAAAAnJmZNkAAAAA0M7M2QAAAAGhm5jZAAAAAAAAAN0AAAAA0MzM3QAAAAMzMTDdAAAAAAACAN0AAAACcmZk3QAAAADQzszdAAAAAaGbmN0AAAAAAAAA4QAAAAJyZGThAAAAAzMxMOEA=\"},\"shape\":[193],\"dtype\":\"float64\",\"order\":\"little\"}],[\"y\",{\"type\":\"ndarray\",\"array\":{\"type\":\"bytes\",\"data\":\"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\"},\"shape\":[193],\"dtype\":\"float64\",\"order\":\"little\"}]]}}},\"view\":{\"type\":\"object\",\"name\":\"CDSView\",\"id\":\"p1401\",\"attributes\":{\"filter\":{\"type\":\"object\",\"name\":\"AllIndices\",\"id\":\"p1402\"}}},\"glyph\":{\"type\":\"object\",\"name\":\"Line\",\"id\":\"p1397\",\"attributes\":{\"x\":{\"type\":\"field\",\"field\":\"x\"},\"y\":{\"type\":\"field\",\"field\":\"y\"},\"line_color\":\"limegreen\",\"line_width\":2}},\"nonselection_glyph\":{\"type\":\"object\",\"name\":\"Line\",\"id\":\"p1398\",\"attributes\":{\"x\":{\"type\":\"field\",\"field\":\"x\"},\"y\":{\"type\":\"field\",\"field\":\"y\"},\"line_color\":\"limegreen\",\"line_alpha\":0.1,\"line_width\":2}},\"muted_glyph\":{\"type\":\"object\",\"name\":\"Line\",\"id\":\"p1399\",\"attributes\":{\"x\":{\"type\":\"field\",\"field\":\"x\"},\"y\":{\"type\":\"field\",\"field\":\"y\"},\"line_color\":\"limegreen\",\"line_alpha\":0.2,\"line_width\":2}}}},{\"type\":\"object\",\"name\":\"GlyphRenderer\",\"id\":\"p1410\",\"attributes\":{\"data_source\":{\"type\":\"object\",\"name\":\"ColumnDataSource\",\"id\":\"p1404\",\"attributes\":{\"selected\":{\"type\":\"object\",\"name\":\"Selection\",\"id\":\"p1405\",\"attributes\":{\"indices\":[],\"line_indices\":[]}},\"selection_policy\":{\"type\":\"object\",\"name\":\"UnionRenderers\",\"id\":\"p1406\"},\"data\":{\"type\":\"map\",\"entries\":[[\"x\",{\"type\":\"ndarray\",\"array\":{\"type\":\"bytes\",\"data\":\"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\"},\"shape\":[193],\"dtype\":\"float64\",\"order\":\"little\"}],[\"y\",{\"type\":\"ndarray\",\"array\":{\"type\":\"bytes\",\"data\":\"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\"},\"shape\":[193],\"dtype\":\"float64\",\"order\":\"little\"}]]}}},\"view\":{\"type\":\"object\",\"name\":\"CDSView\",\"id\":\"p1411\",\"attributes\":{\"filter\":{\"type\":\"object\",\"name\":\"AllIndices\",\"id\":\"p1412\"}}},\"glyph\":{\"type\":\"object\",\"name\":\"Line\",\"id\":\"p1407\",\"attributes\":{\"x\":{\"type\":\"field\",\"field\":\"x\"},\"y\":{\"type\":\"field\",\"field\":\"y\"},\"line_color\":\"red\",\"line_width\":2}},\"nonselection_glyph\":{\"type\":\"object\",\"name\":\"Line\",\"id\":\"p1408\",\"attributes\":{\"x\":{\"type\":\"field\",\"field\":\"x\"},\"y\":{\"type\":\"field\",\"field\":\"y\"},\"line_color\":\"red\",\"line_alpha\":0.1,\"line_width\":2}},\"muted_glyph\":{\"type\":\"object\",\"name\":\"Line\",\"id\":\"p1409\",\"attributes\":{\"x\":{\"type\":\"field\",\"field\":\"x\"},\"y\":{\"type\":\"field\",\"field\":\"y\"},\"line_color\":\"red\",\"line_alpha\":0.2,\"line_width\":2}}}},{\"type\":\"object\",\"name\":\"GlyphRenderer\",\"id\":\"p1420\",\"attributes\":{\"data_source\":{\"type\":\"object\",\"name\":\"ColumnDataSource\",\"id\":\"p1414\",\"attributes\":{\"selected\":{\"type\":\"object\",\"name\":\"Selection\",\"id\":\"p1415\",\"attributes\":{\"indices\":[],\"line_indices\":[]}},\"selection_policy\":{\"type\":\"object\",\"name\":\"UnionRenderers\",\"id\":\"p1416\"},\"data\":{\"type\":\"map\",\"entries\":[[\"x0\",[24.299999952316284]],[\"y0\",[0.0]],[\"x1\",[24.299999952316284]],[\"y1\",[477.8859130434783]]]}}},\"view\":{\"type\":\"object\",\"name\":\"CDSView\",\"id\":\"p1421\",\"attributes\":{\"filter\":{\"type\":\"object\",\"name\":\"AllIndices\",\"id\":\"p1422\"}}},\"glyph\":{\"type\":\"object\",\"name\":\"Segment\",\"id\":\"p1417\",\"attributes\":{\"x0\":{\"type\":\"field\",\"field\":\"x0\"},\"y0\":{\"type\":\"field\",\"field\":\"y0\"},\"x1\":{\"type\":\"field\",\"field\":\"x1\"},\"y1\":{\"type\":\"field\",\"field\":\"y1\"},\"line_color\":{\"type\":\"value\",\"value\":\"lightblue\"},\"line_width\":{\"type\":\"value\",\"value\":3}}},\"nonselection_glyph\":{\"type\":\"object\",\"name\":\"Segment\",\"id\":\"p1418\",\"attributes\":{\"x0\":{\"type\":\"field\",\"field\":\"x0\"},\"y0\":{\"type\":\"field\",\"field\":\"y0\"},\"x1\":{\"type\":\"field\",\"field\":\"x1\"},\"y1\":{\"type\":\"field\",\"field\":\"y1\"},\"line_color\":{\"type\":\"value\",\"value\":\"lightblue\"},\"line_alpha\":{\"type\":\"value\",\"value\":0.1},\"line_width\":{\"type\":\"value\",\"value\":3}}},\"muted_glyph\":{\"type\":\"object\",\"name\":\"Segment\",\"id\":\"p1419\",\"attributes\":{\"x0\":{\"type\":\"field\",\"field\":\"x0\"},\"y0\":{\"type\":\"field\",\"field\":\"y0\"},\"x1\":{\"type\":\"field\",\"field\":\"x1\"},\"y1\":{\"type\":\"field\",\"field\":\"y1\"},\"line_color\":{\"type\":\"value\",\"value\":\"lightblue\"},\"line_alpha\":{\"type\":\"value\",\"value\":0.2},\"line_width\":{\"type\":\"value\",\"value\":3}}}}},{\"type\":\"object\",\"name\":\"GlyphRenderer\",\"id\":\"p1429\",\"attributes\":{\"data_source\":{\"type\":\"object\",\"name\":\"ColumnDataSource\",\"id\":\"p1423\",\"attributes\":{\"selected\":{\"type\":\"object\",\"name\":\"Selection\",\"id\":\"p1424\",\"attributes\":{\"indices\":[],\"line_indices\":[]}},\"selection_policy\":{\"type\":\"object\",\"name\":\"UnionRenderers\",\"id\":\"p1425\"},\"data\":{\"type\":\"map\",\"entries\":[[\"x0\",[25.799999952316284]],[\"y0\",[0.0]],[\"x1\",[25.799999952316284]],[\"y1\",[477.8859130434783]]]}}},\"view\":{\"type\":\"object\",\"name\":\"CDSView\",\"id\":\"p1430\",\"attributes\":{\"filter\":{\"type\":\"object\",\"name\":\"AllIndices\",\"id\":\"p1431\"}}},\"glyph\":{\"type\":\"object\",\"name\":\"Segment\",\"id\":\"p1426\",\"attributes\":{\"x0\":{\"type\":\"field\",\"field\":\"x0\"},\"y0\":{\"type\":\"field\",\"field\":\"y0\"},\"x1\":{\"type\":\"field\",\"field\":\"x1\"},\"y1\":{\"type\":\"field\",\"field\":\"y1\"},\"line_color\":{\"type\":\"value\",\"value\":\"darkseagreen\"}}},\"nonselection_glyph\":{\"type\":\"object\",\"name\":\"Segment\",\"id\":\"p1427\",\"attributes\":{\"x0\":{\"type\":\"field\",\"field\":\"x0\"},\"y0\":{\"type\":\"field\",\"field\":\"y0\"},\"x1\":{\"type\":\"field\",\"field\":\"x1\"},\"y1\":{\"type\":\"field\",\"field\":\"y1\"},\"line_color\":{\"type\":\"value\",\"value\":\"darkseagreen\"},\"line_alpha\":{\"type\":\"value\",\"value\":0.1}}},\"muted_glyph\":{\"type\":\"object\",\"name\":\"Segment\",\"id\":\"p1428\",\"attributes\":{\"x0\":{\"type\":\"field\",\"field\":\"x0\"},\"y0\":{\"type\":\"field\",\"field\":\"y0\"},\"x1\":{\"type\":\"field\",\"field\":\"x1\"},\"y1\":{\"type\":\"field\",\"field\":\"y1\"},\"line_color\":{\"type\":\"value\",\"value\":\"darkseagreen\"},\"line_alpha\":{\"type\":\"value\",\"value\":0.2}}}}},{\"type\":\"object\",\"name\":\"GlyphRenderer\",\"id\":\"p1438\",\"attributes\":{\"data_source\":{\"type\":\"object\",\"name\":\"ColumnDataSource\",\"id\":\"p1432\",\"attributes\":{\"selected\":{\"type\":\"object\",\"name\":\"Selection\",\"id\":\"p1433\",\"attributes\":{\"indices\":[],\"line_indices\":[]}},\"selection_policy\":{\"type\":\"object\",\"name\":\"UnionRenderers\",\"id\":\"p1434\"},\"data\":{\"type\":\"map\",\"entries\":[[\"x0\",[22.799999952316284]],[\"y0\",[0.0]],[\"x1\",[22.799999952316284]],[\"y1\",[477.8859130434783]]]}}},\"view\":{\"type\":\"object\",\"name\":\"CDSView\",\"id\":\"p1439\",\"attributes\":{\"filter\":{\"type\":\"object\",\"name\":\"AllIndices\",\"id\":\"p1440\"}}},\"glyph\":{\"type\":\"object\",\"name\":\"Segment\",\"id\":\"p1435\",\"attributes\":{\"x0\":{\"type\":\"field\",\"field\":\"x0\"},\"y0\":{\"type\":\"field\",\"field\":\"y0\"},\"x1\":{\"type\":\"field\",\"field\":\"x1\"},\"y1\":{\"type\":\"field\",\"field\":\"y1\"},\"line_color\":{\"type\":\"value\",\"value\":\"darkseagreen\"}}},\"nonselection_glyph\":{\"type\":\"object\",\"name\":\"Segment\",\"id\":\"p1436\",\"attributes\":{\"x0\":{\"type\":\"field\",\"field\":\"x0\"},\"y0\":{\"type\":\"field\",\"field\":\"y0\"},\"x1\":{\"type\":\"field\",\"field\":\"x1\"},\"y1\":{\"type\":\"field\",\"field\":\"y1\"},\"line_color\":{\"type\":\"value\",\"value\":\"darkseagreen\"},\"line_alpha\":{\"type\":\"value\",\"value\":0.1}}},\"muted_glyph\":{\"type\":\"object\",\"name\":\"Segment\",\"id\":\"p1437\",\"attributes\":{\"x0\":{\"type\":\"field\",\"field\":\"x0\"},\"y0\":{\"type\":\"field\",\"field\":\"y0\"},\"x1\":{\"type\":\"field\",\"field\":\"x1\"},\"y1\":{\"type\":\"field\",\"field\":\"y1\"},\"line_color\":{\"type\":\"value\",\"value\":\"darkseagreen\"},\"line_alpha\":{\"type\":\"value\",\"value\":0.2}}}}},{\"type\":\"object\",\"name\":\"GlyphRenderer\",\"id\":\"p1447\",\"attributes\":{\"data_source\":{\"type\":\"object\",\"name\":\"ColumnDataSource\",\"id\":\"p1441\",\"attributes\":{\"selected\":{\"type\":\"object\",\"name\":\"Selection\",\"id\":\"p1442\",\"attributes\":{\"indices\":[],\"line_indices\":[]}},\"selection_policy\":{\"type\":\"object\",\"name\":\"UnionRenderers\",\"id\":\"p1443\"},\"data\":{\"type\":\"map\",\"entries\":[[\"x\",[24.299999952316284]],[\"y\",[477.8859130434783]],[\"size\",[20]]]}}},\"view\":{\"type\":\"object\",\"name\":\"CDSView\",\"id\":\"p1448\",\"attributes\":{\"filter\":{\"type\":\"object\",\"name\":\"AllIndices\",\"id\":\"p1449\"}}},\"glyph\":{\"type\":\"object\",\"name\":\"Scatter\",\"id\":\"p1444\",\"attributes\":{\"x\":{\"type\":\"field\",\"field\":\"x\"},\"y\":{\"type\":\"field\",\"field\":\"y\"},\"size\":{\"type\":\"field\",\"field\":\"size\"},\"line_color\":{\"type\":\"value\",\"value\":\"lightblue\"},\"line_width\":{\"type\":\"value\",\"value\":3},\"fill_color\":{\"type\":\"value\",\"value\":null},\"marker\":{\"type\":\"value\",\"value\":\"square_cross\"}}},\"nonselection_glyph\":{\"type\":\"object\",\"name\":\"Scatter\",\"id\":\"p1445\",\"attributes\":{\"x\":{\"type\":\"field\",\"field\":\"x\"},\"y\":{\"type\":\"field\",\"field\":\"y\"},\"size\":{\"type\":\"field\",\"field\":\"size\"},\"line_color\":{\"type\":\"value\",\"value\":\"lightblue\"},\"line_alpha\":{\"type\":\"value\",\"value\":0.1},\"line_width\":{\"type\":\"value\",\"value\":3},\"fill_color\":{\"type\":\"value\",\"value\":null},\"fill_alpha\":{\"type\":\"value\",\"value\":0.1},\"hatch_alpha\":{\"type\":\"value\",\"value\":0.1},\"marker\":{\"type\":\"value\",\"value\":\"square_cross\"}}},\"muted_glyph\":{\"type\":\"object\",\"name\":\"Scatter\",\"id\":\"p1446\",\"attributes\":{\"x\":{\"type\":\"field\",\"field\":\"x\"},\"y\":{\"type\":\"field\",\"field\":\"y\"},\"size\":{\"type\":\"field\",\"field\":\"size\"},\"line_color\":{\"type\":\"value\",\"value\":\"lightblue\"},\"line_alpha\":{\"type\":\"value\",\"value\":0.2},\"line_width\":{\"type\":\"value\",\"value\":3},\"fill_color\":{\"type\":\"value\",\"value\":null},\"fill_alpha\":{\"type\":\"value\",\"value\":0.2},\"hatch_alpha\":{\"type\":\"value\",\"value\":0.2},\"marker\":{\"type\":\"value\",\"value\":\"square_cross\"}}}}}],\"toolbar\":{\"type\":\"object\",\"name\":\"Toolbar\",\"id\":\"p1334\",\"attributes\":{\"tools\":[{\"type\":\"object\",\"name\":\"PanTool\",\"id\":\"p1349\"},{\"type\":\"object\",\"name\":\"WheelZoomTool\",\"id\":\"p1350\",\"attributes\":{\"renderers\":\"auto\"}},{\"type\":\"object\",\"name\":\"BoxZoomTool\",\"id\":\"p1351\",\"attributes\":{\"overlay\":{\"type\":\"object\",\"name\":\"BoxAnnotation\",\"id\":\"p1352\",\"attributes\":{\"syncable\":false,\"line_color\":\"black\",\"line_alpha\":1.0,\"line_width\":2,\"line_dash\":[4,4],\"fill_color\":\"lightgrey\",\"fill_alpha\":0.5,\"level\":\"overlay\",\"visible\":false,\"left\":{\"type\":\"number\",\"value\":\"nan\"},\"right\":{\"type\":\"number\",\"value\":\"nan\"},\"top\":{\"type\":\"number\",\"value\":\"nan\"},\"bottom\":{\"type\":\"number\",\"value\":\"nan\"},\"left_units\":\"canvas\",\"right_units\":\"canvas\",\"top_units\":\"canvas\",\"bottom_units\":\"canvas\",\"handles\":{\"type\":\"object\",\"name\":\"BoxInteractionHandles\",\"id\":\"p1358\",\"attributes\":{\"all\":{\"type\":\"object\",\"name\":\"AreaVisuals\",\"id\":\"p1357\",\"attributes\":{\"fill_color\":\"white\",\"hover_fill_color\":\"lightgray\"}}}}}}}},{\"type\":\"object\",\"name\":\"SaveTool\",\"id\":\"p1359\"},{\"type\":\"object\",\"name\":\"ResetTool\",\"id\":\"p1360\"},{\"type\":\"object\",\"name\":\"HelpTool\",\"id\":\"p1361\"},{\"type\":\"object\",\"name\":\"HoverTool\",\"id\":\"p1393\",\"attributes\":{\"renderers\":\"auto\",\"tooltips\":[[\"Y-val\",\"@y{0.00}\"]]}}]}},\"left\":[{\"type\":\"object\",\"name\":\"LinearAxis\",\"id\":\"p1344\",\"attributes\":{\"ticker\":{\"type\":\"object\",\"name\":\"BasicTicker\",\"id\":\"p1345\",\"attributes\":{\"mantissas\":[1,2,5]}},\"formatter\":{\"type\":\"object\",\"name\":\"BasicTickFormatter\",\"id\":\"p1346\"},\"axis_label\":\"km/h\",\"axis_label_standoff\":10,\"axis_label_text_color\":\"#E0E0E0\",\"axis_label_text_font\":\"Helvetica\",\"axis_label_text_font_size\":\"1.25em\",\"axis_label_text_font_style\":\"normal\",\"major_label_policy\":{\"type\":\"object\",\"name\":\"AllLabels\",\"id\":\"p1347\"},\"major_label_text_color\":\"#E0E0E0\",\"major_label_text_font\":\"Helvetica\",\"major_label_text_font_size\":\"1.025em\",\"axis_line_color\":\"#E0E0E0\",\"axis_line_alpha\":0,\"major_tick_line_color\":\"#E0E0E0\",\"major_tick_line_alpha\":0,\"minor_tick_line_color\":\"#E0E0E0\",\"minor_tick_line_alpha\":0}},{\"type\":\"object\",\"name\":\"LinearAxis\",\"id\":\"p1364\",\"attributes\":{\"y_range_name\":\"altitudeFt\",\"ticker\":{\"type\":\"object\",\"name\":\"BasicTicker\",\"id\":\"p1365\",\"attributes\":{\"mantissas\":[1,2,5]}},\"formatter\":{\"type\":\"object\",\"name\":\"BasicTickFormatter\",\"id\":\"p1366\"},\"axis_label\":\"Alt (ft)\",\"axis_label_standoff\":10,\"axis_label_text_color\":\"#E0E0E0\",\"axis_label_text_font\":\"Helvetica\",\"axis_label_text_font_size\":\"1.25em\",\"axis_label_text_font_style\":\"normal\",\"major_label_policy\":{\"type\":\"object\",\"name\":\"AllLabels\",\"id\":\"p1367\"},\"major_label_text_color\":\"#E0E0E0\",\"major_label_text_font\":\"Helvetica\",\"major_label_text_font_size\":\"1.025em\",\"axis_line_color\":\"#E0E0E0\",\"axis_line_alpha\":0,\"major_tick_line_color\":\"#E0E0E0\",\"major_tick_line_alpha\":0,\"minor_tick_line_color\":\"#E0E0E0\",\"minor_tick_line_alpha\":0}},{\"type\":\"object\",\"name\":\"LinearAxis\",\"id\":\"p1368\",\"attributes\":{\"y_range_name\":\"angle\",\"ticker\":{\"type\":\"object\",\"name\":\"BasicTicker\",\"id\":\"p1369\",\"attributes\":{\"mantissas\":[1,2,5]}},\"formatter\":{\"type\":\"object\",\"name\":\"BasicTickFormatter\",\"id\":\"p1370\"},\"axis_label\":\"angle\",\"axis_label_standoff\":10,\"axis_label_text_color\":\"#E0E0E0\",\"axis_label_text_font\":\"Helvetica\",\"axis_label_text_font_size\":\"1.25em\",\"axis_label_text_font_style\":\"normal\",\"major_label_policy\":{\"type\":\"object\",\"name\":\"AllLabels\",\"id\":\"p1371\"},\"major_label_text_color\":\"#E0E0E0\",\"major_label_text_font\":\"Helvetica\",\"major_label_text_font_size\":\"1.025em\",\"axis_line_color\":\"#E0E0E0\",\"axis_line_alpha\":0,\"major_tick_line_color\":\"#E0E0E0\",\"major_tick_line_alpha\":0,\"minor_tick_line_color\":\"#E0E0E0\",\"minor_tick_line_alpha\":0}}],\"below\":[{\"type\":\"object\",\"name\":\"LinearAxis\",\"id\":\"p1339\",\"attributes\":{\"ticker\":{\"type\":\"object\",\"name\":\"BasicTicker\",\"id\":\"p1340\",\"attributes\":{\"mantissas\":[1,2,5]}},\"formatter\":{\"type\":\"object\",\"name\":\"BasicTickFormatter\",\"id\":\"p1341\"},\"axis_label\":\"seconds from exit\",\"axis_label_standoff\":10,\"axis_label_text_color\":\"#E0E0E0\",\"axis_label_text_font\":\"Helvetica\",\"axis_label_text_font_size\":\"1.25em\",\"axis_label_text_font_style\":\"normal\",\"major_label_policy\":{\"type\":\"object\",\"name\":\"AllLabels\",\"id\":\"p1342\"},\"major_label_text_color\":\"#E0E0E0\",\"major_label_text_font\":\"Helvetica\",\"major_label_text_font_size\":\"1.025em\",\"axis_line_color\":\"#E0E0E0\",\"axis_line_alpha\":0,\"major_tick_line_color\":\"#E0E0E0\",\"major_tick_line_alpha\":0,\"minor_tick_line_color\":\"#E0E0E0\",\"minor_tick_line_alpha\":0}}],\"center\":[{\"type\":\"object\",\"name\":\"Grid\",\"id\":\"p1343\",\"attributes\":{\"axis\":{\"id\":\"p1339\"},\"grid_line_color\":\"#E0E0E0\",\"grid_line_alpha\":0.25}},{\"type\":\"object\",\"name\":\"Grid\",\"id\":\"p1348\",\"attributes\":{\"dimension\":1,\"axis\":{\"id\":\"p1344\"},\"grid_line_color\":\"#E0E0E0\",\"grid_line_alpha\":0.25}},{\"type\":\"object\",\"name\":\"Legend\",\"id\":\"p1381\",\"attributes\":{\"border_line_alpha\":0,\"background_fill_color\":\"#20262B\",\"background_fill_alpha\":0.25,\"label_text_color\":\"#E0E0E0\",\"label_text_font\":\"Helvetica\",\"label_text_font_size\":\"1.025em\",\"label_standoff\":8,\"glyph_width\":15,\"spacing\":8,\"items\":[{\"type\":\"object\",\"name\":\"LegendItem\",\"id\":\"p1382\",\"attributes\":{\"label\":{\"type\":\"value\",\"value\":\"Alt (ft)\"},\"renderers\":[{\"id\":\"p1378\"}]}},{\"type\":\"object\",\"name\":\"LegendItem\",\"id\":\"p1392\",\"attributes\":{\"label\":{\"type\":\"value\",\"value\":\"angle\"},\"renderers\":[{\"id\":\"p1389\"}]}},{\"type\":\"object\",\"name\":\"LegendItem\",\"id\":\"p1403\",\"attributes\":{\"label\":{\"type\":\"value\",\"value\":\"speed\"},\"renderers\":[{\"id\":\"p1400\"}]}},{\"type\":\"object\",\"name\":\"LegendItem\",\"id\":\"p1413\",\"attributes\":{\"label\":{\"type\":\"value\",\"value\":\"H-speed\"},\"renderers\":[{\"id\":\"p1410\"}]}}]}}],\"background_fill_color\":\"#20262B\",\"border_fill_color\":\"#15191C\"}}]}};\n",
       "  const render_items = [{\"docid\":\"fd8c9a1c-c32f-405c-97d0-6813249b2e41\",\"roots\":{\"p1325\":\"e0123091-8638-476e-abca-25e9f2f90fa7\"},\"root_ids\":[\"p1325\"]}];\n",
       "  void root.Bokeh.embed.embed_items_notebook(docs_json, render_items);\n",
       "  }\n",
       "  if (root.Bokeh !== undefined) {\n",
       "    embed_document(root);\n",
       "  } else {\n",
       "    let attempts = 0;\n",
       "    const timer = setInterval(function(root) {\n",
       "      if (root.Bokeh !== undefined) {\n",
       "        clearInterval(timer);\n",
       "        embed_document(root);\n",
       "      } else {\n",
       "        attempts++;\n",
       "        if (attempts > 100) {\n",
       "          clearInterval(timer);\n",
       "          console.log(\"Bokeh: ERROR: Unable to run BokehJS code because BokehJS library is missing\");\n",
       "        }\n",
       "      }\n",
       "    }, 10, root)\n",
       "  }\n",
       "})(window);"
      ],
      "application/vnd.bokehjs_exec.v0+json": ""
     },
     "metadata": {
      "application/vnd.bokehjs_exec.v0+json": {
       "id": "p1325"
      }
     },
     "output_type": "display_data"
    },
    {
     "data": {
      "application/vnd.jupyter.widget-view+json": {
       "model_id": "63cfa7226b0a44719be9c0bb812ffba7",
       "version_major": 2,
       "version_minor": 0
      },
      "text/plain": [
       "HTML(value='<hr><h1><span style=\"color: #0f0\">17-12-28-15 jump - 🟢 valid - score = 486.30 km/h</span></h1>')"
      ]
     },
     "metadata": {},
     "output_type": "display_data"
    },
    {
     "data": {
      "application/vnd.jupyter.widget-view+json": {
       "model_id": "d5fb1937389e44d686ab58edad6e5240",
       "version_major": 2,
       "version_minor": 0
      },
      "text/plain": [
       "HTML(value='<h3>Max speed = 489; exit at 4149 m (13614 ft), end scoring window at 1893 m (6213 ft)')"
      ]
     },
     "metadata": {},
     "output_type": "display_data"
    },
    {
     "data": {
      "application/vnd.jupyter.widget-view+json": {
       "model_id": "d614c18fdf3e491fb6d01f819a53655a",
       "version_major": 2,
       "version_minor": 0
      },
      "text/plain": [
       "HTML(value='</h3>')"
      ]
     },
     "metadata": {},
     "output_type": "display_data"
    },
    {
     "data": {
      "text/html": [
       "<div>\n",
       "<style scoped>\n",
       "    .dataframe tbody tr th:only-of-type {\n",
       "        vertical-align: middle;\n",
       "    }\n",
       "\n",
       "    .dataframe tbody tr th {\n",
       "        vertical-align: top;\n",
       "    }\n",
       "\n",
       "    .dataframe thead th {\n",
       "        text-align: right;\n",
       "    }\n",
       "</style>\n",
       "<table border=\"1\" class=\"dataframe\">\n",
       "  <thead>\n",
       "    <tr style=\"text-align: right;\">\n",
       "      <th></th>\n",
       "      <th>time</th>\n",
       "      <th>vKMh</th>\n",
       "      <th>hKMh</th>\n",
       "      <th>speedAngle</th>\n",
       "      <th>distanceFromExit</th>\n",
       "      <th>altitude (ft)</th>\n",
       "      <th>netVectorKMh</th>\n",
       "    </tr>\n",
       "  </thead>\n",
       "  <tbody>\n",
       "    <tr>\n",
       "      <th></th>\n",
       "      <td>5.0</td>\n",
       "      <td>178</td>\n",
       "      <td>135</td>\n",
       "      <td>52.8</td>\n",
       "      <td>231.300000</td>\n",
       "      <td>13187</td>\n",
       "      <td>223</td>\n",
       "    </tr>\n",
       "    <tr>\n",
       "      <th></th>\n",
       "      <td>10.0</td>\n",
       "      <td>316</td>\n",
       "      <td>109</td>\n",
       "      <td>71.0</td>\n",
       "      <td>402.300000</td>\n",
       "      <td>12022</td>\n",
       "      <td>334</td>\n",
       "    </tr>\n",
       "    <tr>\n",
       "      <th></th>\n",
       "      <td>15.0</td>\n",
       "      <td>415</td>\n",
       "      <td>74</td>\n",
       "      <td>79.9</td>\n",
       "      <td>522.800000</td>\n",
       "      <td>10363</td>\n",
       "      <td>421</td>\n",
       "    </tr>\n",
       "    <tr>\n",
       "      <th></th>\n",
       "      <td>20.0</td>\n",
       "      <td>473</td>\n",
       "      <td>29</td>\n",
       "      <td>86.5</td>\n",
       "      <td>597.000000</td>\n",
       "      <td>8318</td>\n",
       "      <td>474</td>\n",
       "    </tr>\n",
       "    <tr>\n",
       "      <th></th>\n",
       "      <td>25.0</td>\n",
       "      <td>488</td>\n",
       "      <td>16</td>\n",
       "      <td>88.1</td>\n",
       "      <td>614.604145</td>\n",
       "      <td>6241</td>\n",
       "      <td>488</td>\n",
       "    </tr>\n",
       "  </tbody>\n",
       "</table>\n",
       "</div>"
      ],
      "text/plain": [
       "  time  vKMh  hKMh  speedAngle  distanceFromExit  altitude (ft)  netVectorKMh\n",
       "   5.0   178   135        52.8        231.300000          13187           223\n",
       "  10.0   316   109        71.0        402.300000          12022           334\n",
       "  15.0   415    74        79.9        522.800000          10363           421\n",
       "  20.0   473    29        86.5        597.000000           8318           474\n",
       "  25.0   488    16        88.1        614.604145           6241           488"
      ]
     },
     "metadata": {},
     "output_type": "display_data"
    },
    {
     "data": {
      "text/html": [
       "\n",
       "  <div id=\"ec41f500-b025-45cf-b890-e5e51b9712b3\" data-root-id=\"p1468\" style=\"display: contents;\"></div>\n"
      ]
     },
     "metadata": {},
     "output_type": "display_data"
    },
    {
     "data": {
      "application/javascript": [
       "(function(root) {\n",
       "  function embed_document(root) {\n",
       "  const docs_json = {\"5e4b7206-009f-4163-ab1f-d5c7269be199\":{\"version\":\"3.5.2\",\"title\":\"Bokeh Application\",\"roots\":[{\"type\":\"object\",\"name\":\"Figure\",\"id\":\"p1468\",\"attributes\":{\"width\":900,\"height\":500,\"x_range\":{\"type\":\"object\",\"name\":\"Range1d\",\"id\":\"p1478\",\"attributes\":{\"end\":35.0}},\"y_range\":{\"type\":\"object\",\"name\":\"Range1d\",\"id\":\"p1479\",\"attributes\":{\"end\":550.0}},\"x_scale\":{\"type\":\"object\",\"name\":\"LinearScale\",\"id\":\"p1480\"},\"y_scale\":{\"type\":\"object\",\"name\":\"LinearScale\",\"id\":\"p1481\"},\"extra_y_ranges\":{\"type\":\"map\",\"entries\":[[\"altitudeFt\",{\"type\":\"object\",\"name\":\"Range1d\",\"id\":\"p1505\",\"attributes\":{\"start\":5741.200724000001,\"end\":14114.559225600002}}],[\"angle\",{\"type\":\"object\",\"name\":\"Range1d\",\"id\":\"p1506\",\"attributes\":{\"end\":90.0}}]]},\"title\":{\"type\":\"object\",\"name\":\"Title\",\"id\":\"p1471\",\"attributes\":{\"text\":\"17-12-28-15\",\"text_color\":\"#E0E0E0\",\"text_font\":\"Helvetica\",\"text_font_size\":\"1.15em\"}},\"outline_line_color\":\"#E0E0E0\",\"outline_line_alpha\":0.25,\"renderers\":[{\"type\":\"object\",\"name\":\"GlyphRenderer\",\"id\":\"p1521\",\"attributes\":{\"y_range_name\":\"altitudeFt\",\"data_source\":{\"type\":\"object\",\"name\":\"ColumnDataSource\",\"id\":\"p1515\",\"attributes\":{\"selected\":{\"type\":\"object\",\"name\":\"Selection\",\"id\":\"p1516\",\"attributes\":{\"indices\":[],\"line_indices\":[]}},\"selection_policy\":{\"type\":\"object\",\"name\":\"UnionRenderers\",\"id\":\"p1517\"},\"data\":{\"type\":\"map\",\"entries\":[[\"x\",{\"type\":\"ndarray\",\"array\":{\"type\":\"bytes\",\"data\":\"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\"},\"shape\":[203],\"dtype\":\"float64\",\"order\":\"little\"}],[\"y\",{\"type\":\"ndarray\",\"array\":{\"type\":\"bytes\",\"data\":\"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\"},\"shape\":[203],\"dtype\":\"float64\",\"order\":\"little\"}]]}}},\"view\":{\"type\":\"object\",\"name\":\"CDSView\",\"id\":\"p1522\",\"attributes\":{\"filter\":{\"type\":\"object\",\"name\":\"AllIndices\",\"id\":\"p1523\"}}},\"glyph\":{\"type\":\"object\",\"name\":\"Line\",\"id\":\"p1518\",\"attributes\":{\"x\":{\"type\":\"field\",\"field\":\"x\"},\"y\":{\"type\":\"field\",\"field\":\"y\"},\"line_color\":\"palegoldenrod\",\"line_width\":2}},\"nonselection_glyph\":{\"type\":\"object\",\"name\":\"Line\",\"id\":\"p1519\",\"attributes\":{\"x\":{\"type\":\"field\",\"field\":\"x\"},\"y\":{\"type\":\"field\",\"field\":\"y\"},\"line_color\":\"palegoldenrod\",\"line_alpha\":0.1,\"line_width\":2}},\"muted_glyph\":{\"type\":\"object\",\"name\":\"Line\",\"id\":\"p1520\",\"attributes\":{\"x\":{\"type\":\"field\",\"field\":\"x\"},\"y\":{\"type\":\"field\",\"field\":\"y\"},\"line_color\":\"palegoldenrod\",\"line_alpha\":0.2,\"line_width\":2}}}},{\"type\":\"object\",\"name\":\"GlyphRenderer\",\"id\":\"p1532\",\"attributes\":{\"y_range_name\":\"angle\",\"data_source\":{\"type\":\"object\",\"name\":\"ColumnDataSource\",\"id\":\"p1526\",\"attributes\":{\"selected\":{\"type\":\"object\",\"name\":\"Selection\",\"id\":\"p1527\",\"attributes\":{\"indices\":[],\"line_indices\":[]}},\"selection_policy\":{\"type\":\"object\",\"name\":\"UnionRenderers\",\"id\":\"p1528\"},\"data\":{\"type\":\"map\",\"entries\":[[\"x\",{\"type\":\"ndarray\",\"array\":{\"type\":\"bytes\",\"data\":\"AAAAAAAAAAAAAAAAmJm5PwAAAACamck/AAAAADMz0z8AAAAAmZnZPwAAAAAAAOA/AAAAADMz4z8AAACAZmbmPwAAAICZmek/AAAAgMzM7D8AAAAAAADwPwAAAICZmfE/AAAAQDMz8z8AAADAzMz0PwAAAEBmZvY/AAAAAAAA+D8AAACAmZn5PwAAAEAzM/s/AAAAwMzM/D8AAABAZmb+PwAAAAAAAABAAAAAwMzMAEAAAACgmZkBQAAAAGBmZgJAAAAAIDMzA0AAAAAAAAAEQAAAAMDMzARAAAAAoJmZBUAAAABgZmYGQAAAACAzMwdAAAAAAAAACEAAAADAzMwIQAAAAKCZmQlAAAAAYGZmCkAAAAAgMzMLQAAAAAAAAAxAAAAAwMzMDEAAAACgmZkNQAAAAGBmZg5AAAAAIDMzD0AAAAAAAAAQQAAAAGBmZhBAAAAA0MzMEEAAAAAwMzMRQAAAAJCZmRFAAAAAAAAAEkAAAABgZmYSQAAAADAzMxNAAAAAkJmZE0AAAAAAAAAUQAAAAGBmZhRAAAAA0MzMFEAAAACQmZkVQAAAAAAAABZAAAAAYGZmFkAAAADQzMwWQAAAAJCZmRdAAAAAAAAAGEAAAADQzMwYQAAAADAzMxlAAAAAkJmZGUAAAAAAAAAaQAAAAGBmZhpAAAAAMDMzG0AAAACQmZkbQAAAAGBmZhxAAAAA0MzMHEAAAAAwMzMdQAAAAJCZmR1AAAAAYGZmHkAAAADQzMweQAAAADAzMx9AAAAAkJmZH0AAAAAAAAAgQAAAAGhmZiBAAAAAmJmZIEAAAADIzMwgQAAAAGhmZiFAAAAAmJmZIUAAAADIzMwhQAAAAAAAACJAAAAAMDMzIkAAAACYmZkiQAAAAMjMzCJAAAAAMDMzI0AAAABoZmYjQAAAAJiZmSNAAAAAyMzMI0AAAAAwMzMkQAAAAGhmZiRAAAAAyMzMJEAAAAAAAAAlQAAAADAzMyVAAAAAmJmZJUAAAAAAAAAmQAAAADAzMyZAAAAAmJmZJkAAAAAAAAAnQAAAADAzMydAAAAAmJmZJ0AAAADIzMwnQAAAAAAAAChAAAAAMDMzKEAAAABoZmYoQAAAAMjMzChAAAAAAAAAKUAAAAAwMzMpQAAAAGhmZilAAAAAyMzMKUAAAAAAAAAqQAAAADAzMypAAAAAaGZmKkAAAACYmZkqQAAAAMjMzCpAAAAAAAAAK0AAAAAwMzMrQAAAAGhmZitAAAAAmJmZK0AAAADIzMwrQAAAAAAAACxAAAAAMDMzLEAAAACYmZksQAAAAMjMzCxAAAAAMDMzLUAAAABoZmYtQAAAAMjMzC1AAAAAAAAALkAAAABoZmYuQAAAAJiZmS5AAAAAyMzMLkAAAAAAAAAvQAAAAGhmZi9AAAAAmJmZL0AAAADIzMwvQAAAAAAAADBAAAAAmJkZMEAAAADMzEwwQAAAAGRmZjBAAAAAmJmZMEAAAADMzMwwQAAAAGRm5jBAAAAAAAAAMUAAAACYmRkxQAAAADQzMzFAAAAAZGZmMUAAAAAAAIAxQAAAAJiZmTFAAAAANDOzMUAAAABkZuYxQAAAAAAAADJAAAAANDMzMkAAAADMzEwyQAAAAGRmZjJAAAAAAACAMkAAAACYmZkyQAAAAMzMzDJAAAAAZGbmMkAAAACYmRkzQAAAADQzMzNAAAAAzMxMM0AAAABkZmYzQAAAAJiZmTNAAAAANDOzM0AAAADMzMwzQAAAAGRm5jNAAAAAAAAANEAAAAA0MzM0QAAAAMzMTDRAAAAAZGZmNEAAAAAAAIA0QAAAADQzszRAAAAAzMzMNEAAAAAAAAA1QAAAAJiZGTVAAAAANDMzNUAAAADMzEw1QAAAAGRmZjVAAAAAmJmZNUAAAAA0M7M1QAAAAMzMzDVAAAAAZGbmNUAAAACYmRk2QAAAADQzMzZAAAAAzMxMNkAAAABkZmY2QAAAAAAAgDZAAAAANDOzNkAAAADMzMw2QAAAAAAAADdAAAAAmJkZN0AAAAA0MzM3QAAAAMzMTDdAAAAAAACAN0AAAACYmZk3QAAAAMzMzDdAAAAAZGbmN0AAAAAAAAA4QAAAAJiZGThAAAAANDMzOEAAAABkZmY4QAAAAAAAgDhAAAAAmJmZOEAAAAA0M7M4QA==\"},\"shape\":[203],\"dtype\":\"float64\",\"order\":\"little\"}],[\"y\",{\"type\":\"ndarray\",\"array\":{\"type\":\"bytes\",\"data\":\"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\"},\"shape\":[203],\"dtype\":\"float64\",\"order\":\"little\"}]]}}},\"view\":{\"type\":\"object\",\"name\":\"CDSView\",\"id\":\"p1533\",\"attributes\":{\"filter\":{\"type\":\"object\",\"name\":\"AllIndices\",\"id\":\"p1534\"}}},\"glyph\":{\"type\":\"object\",\"name\":\"Line\",\"id\":\"p1529\",\"attributes\":{\"x\":{\"type\":\"field\",\"field\":\"x\"},\"y\":{\"type\":\"field\",\"field\":\"y\"},\"line_color\":\"deepskyblue\",\"line_width\":2}},\"nonselection_glyph\":{\"type\":\"object\",\"name\":\"Line\",\"id\":\"p1530\",\"attributes\":{\"x\":{\"type\":\"field\",\"field\":\"x\"},\"y\":{\"type\":\"field\",\"field\":\"y\"},\"line_color\":\"deepskyblue\",\"line_alpha\":0.1,\"line_width\":2}},\"muted_glyph\":{\"type\":\"object\",\"name\":\"Line\",\"id\":\"p1531\",\"attributes\":{\"x\":{\"type\":\"field\",\"field\":\"x\"},\"y\":{\"type\":\"field\",\"field\":\"y\"},\"line_color\":\"deepskyblue\",\"line_alpha\":0.2,\"line_width\":2}}}},{\"type\":\"object\",\"name\":\"GlyphRenderer\",\"id\":\"p1543\",\"attributes\":{\"data_source\":{\"type\":\"object\",\"name\":\"ColumnDataSource\",\"id\":\"p1537\",\"attributes\":{\"selected\":{\"type\":\"object\",\"name\":\"Selection\",\"id\":\"p1538\",\"attributes\":{\"indices\":[],\"line_indices\":[]}},\"selection_policy\":{\"type\":\"object\",\"name\":\"UnionRenderers\",\"id\":\"p1539\"},\"data\":{\"type\":\"map\",\"entries\":[[\"x\",{\"type\":\"ndarray\",\"array\":{\"type\":\"bytes\",\"data\":\"AAAAAAAAAAAAAAAAmJm5PwAAAACamck/AAAAADMz0z8AAAAAmZnZPwAAAAAAAOA/AAAAADMz4z8AAACAZmbmPwAAAICZmek/AAAAgMzM7D8AAAAAAADwPwAAAICZmfE/AAAAQDMz8z8AAADAzMz0PwAAAEBmZvY/AAAAAAAA+D8AAACAmZn5PwAAAEAzM/s/AAAAwMzM/D8AAABAZmb+PwAAAAAAAABAAAAAwMzMAEAAAACgmZkBQAAAAGBmZgJAAAAAIDMzA0AAAAAAAAAEQAAAAMDMzARAAAAAoJmZBUAAAABgZmYGQAAAACAzMwdAAAAAAAAACEAAAADAzMwIQAAAAKCZmQlAAAAAYGZmCkAAAAAgMzMLQAAAAAAAAAxAAAAAwMzMDEAAAACgmZkNQAAAAGBmZg5AAAAAIDMzD0AAAAAAAAAQQAAAAGBmZhBAAAAA0MzMEEAAAAAwMzMRQAAAAJCZmRFAAAAAAAAAEkAAAABgZmYSQAAAADAzMxNAAAAAkJmZE0AAAAAAAAAUQAAAAGBmZhRAAAAA0MzMFEAAAACQmZkVQAAAAAAAABZAAAAAYGZmFkAAAADQzMwWQAAAAJCZmRdAAAAAAAAAGEAAAADQzMwYQAAAADAzMxlAAAAAkJmZGUAAAAAAAAAaQAAAAGBmZhpAAAAAMDMzG0AAAACQmZkbQAAAAGBmZhxAAAAA0MzMHEAAAAAwMzMdQAAAAJCZmR1AAAAAYGZmHkAAAADQzMweQAAAADAzMx9AAAAAkJmZH0AAAAAAAAAgQAAAAGhmZiBAAAAAmJmZIEAAAADIzMwgQAAAAGhmZiFAAAAAmJmZIUAAAADIzMwhQAAAAAAAACJAAAAAMDMzIkAAAACYmZkiQAAAAMjMzCJAAAAAMDMzI0AAAABoZmYjQAAAAJiZmSNAAAAAyMzMI0AAAAAwMzMkQAAAAGhmZiRAAAAAyMzMJEAAAAAAAAAlQAAAADAzMyVAAAAAmJmZJUAAAAAAAAAmQAAAADAzMyZAAAAAmJmZJkAAAAAAAAAnQAAAADAzMydAAAAAmJmZJ0AAAADIzMwnQAAAAAAAAChAAAAAMDMzKEAAAABoZmYoQAAAAMjMzChAAAAAAAAAKUAAAAAwMzMpQAAAAGhmZilAAAAAyMzMKUAAAAAAAAAqQAAAADAzMypAAAAAaGZmKkAAAACYmZkqQAAAAMjMzCpAAAAAAAAAK0AAAAAwMzMrQAAAAGhmZitAAAAAmJmZK0AAAADIzMwrQAAAAAAAACxAAAAAMDMzLEAAAACYmZksQAAAAMjMzCxAAAAAMDMzLUAAAABoZmYtQAAAAMjMzC1AAAAAAAAALkAAAABoZmYuQAAAAJiZmS5AAAAAyMzMLkAAAAAAAAAvQAAAAGhmZi9AAAAAmJmZL0AAAADIzMwvQAAAAAAAADBAAAAAmJkZMEAAAADMzEwwQAAAAGRmZjBAAAAAmJmZMEAAAADMzMwwQAAAAGRm5jBAAAAAAAAAMUAAAACYmRkxQAAAADQzMzFAAAAAZGZmMUAAAAAAAIAxQAAAAJiZmTFAAAAANDOzMUAAAABkZuYxQAAAAAAAADJAAAAANDMzMkAAAADMzEwyQAAAAGRmZjJAAAAAAACAMkAAAACYmZkyQAAAAMzMzDJAAAAAZGbmMkAAAACYmRkzQAAAADQzMzNAAAAAzMxMM0AAAABkZmYzQAAAAJiZmTNAAAAANDOzM0AAAADMzMwzQAAAAGRm5jNAAAAAAAAANEAAAAA0MzM0QAAAAMzMTDRAAAAAZGZmNEAAAAAAAIA0QAAAADQzszRAAAAAzMzMNEAAAAAAAAA1QAAAAJiZGTVAAAAANDMzNUAAAADMzEw1QAAAAGRmZjVAAAAAmJmZNUAAAAA0M7M1QAAAAMzMzDVAAAAAZGbmNUAAAACYmRk2QAAAADQzMzZAAAAAzMxMNkAAAABkZmY2QAAAAAAAgDZAAAAANDOzNkAAAADMzMw2QAAAAAAAADdAAAAAmJkZN0AAAAA0MzM3QAAAAMzMTDdAAAAAAACAN0AAAACYmZk3QAAAAMzMzDdAAAAAZGbmN0AAAAAAAAA4QAAAAJiZGThAAAAANDMzOEAAAABkZmY4QAAAAAAAgDhAAAAAmJmZOEAAAAA0M7M4QA==\"},\"shape\":[203],\"dtype\":\"float64\",\"order\":\"little\"}],[\"y\",{\"type\":\"ndarray\",\"array\":{\"type\":\"bytes\",\"data\":\"MgisHFpkD0CamZmZmZkVQLXIdr6fGh9A6iYxCKwcJ0BvEoPAyqEwQM3MzMzMzDNAuR6F61E4N0Db+X5qvPQ5QKwcWmQ73zxAzvdT46WbP0A3iUFg5VBBQML1KFyPQkNAPgrXo3A9RUACK4cW2Q5HQBkEVg4tskhAlBgEVg6tSkB56SYxCGxMQIgW2c73E05Abef7qfHST0Dwp8ZLN+lQQEW28/3U2FFAexSuR+HaUkCsHFpkO99TQCPb+X5qvFRAfT81XrqpVUD4U+Olm4RWQEoMAiuHdldAd76fGi99WECoxks3iYFZQD81XrpJTFpAtvP91HgpW0AdWmQ73w9cQLx0kxgE1lxAI9v5fmq8XUB9PzVeuqleQM73U+Olm19A/tR46SZRYEA5tMh2vr9gQKAaL90kFmFA/tR46SZxYUAaL90kBvFhQCuHFtnOd2JAW2Q730/tYkCWQ4ts51tjQM3MzMzMzGNA+FPjpZtEZEA2XrpJDLJkQNnO91PjdWVAJzEIrBzaZUB/arx0kzhmQNV46SYxmGZAH4XrUbj+ZkDC9Shcj8JnQCPb+X5qHGhAiUFg5dByaEDhehSuR9FoQGmR7Xw/pWlA2c73U+P1aUC28/3UeJlqQAvXo3A9+mpAgZVDi2xHa0D0/dR46ZZrQF66SQwC62tA5/up8dK9bEAshxbZzidtQAvXo3A9ym1AVg4tsp0vbkC7SQwCK4duQDMzMzMz025AJzEIrBxqb0CUGARWDr1vQIXrUbgeBXBAvHSTGAQucED+1HjpJlFwQNnO91PjrXBACKwcWmTbcEDC9ShcjwJxQGHl0CLbgXFADi2yne+vcUDC9Shcj9pxQPhT46WbBHJAObTIdr4nckDZzvdT411yQJ3vp8ZLf3JAcT0K16PgckASg8DKoRVzQEJg5dAiQ3NA9P3UeOluc0Dy0k1iELhzQDDdJAaB3XNAEoPAyqE1dEBI4XoUrl90QH9qvHSTiHRA5/up8dLddEDkpZvEICh1QKabxCCwSnVAi2zn+6mhdUCLbOf7qel1QL+fGi/dFHZAYeXQIttJdkCq8dJNYmh2QH9qvHSTgHZAYxBYObSQdkCuR+F6FK52QKrx0k1i+HZAZ2ZmZmYed0CiRbbz/UR3QPLSTWIQYHdAexSuR+Gid0BEi2zn+8F3QPhT46Wb7HdAxSCwcmgJeECLbOf7qSl4QF66SQwCQ3hAqvHSTWJgeEBvEoPAyoF4QLTIdr6fonhADAIrhxa5eEDfT42XbtJ4QK5H4XoU7nhAeekmMQgMeUA3iUFg5TB5QJduEoPAQnlADi2yne+PeUDeJAaBlat5QAwCK4cW2XlA5tAi2/nueUAX2c73Uxt6QPhT46WbLHpAzczMzMxEekCuR+F6FFZ6QNijcD0Kh3pAMQisHFqcekARWDm0yK56QGHl0CLbyXpAsHJoke3kekBnZmZmZg57QL+fGi/dJHtA/Knx0k1Ke0Cmm8QgsHp7QPyp8dJNkntA2/l+aryke0C8dJMYBLZ7QCUGgZVDw3tA8KfGSzfhe0DHSzeJQfh7QKAaL90kDnxAd76fGi8lfECq8dJNYlB8QAwCK4cWYXxA2c73U+N9fECzne+nxpN8QKRwPQrXm3xAAAAAAACwfEDn+6nx0r18QCGwcmiR5XxAiBbZzvfzfEDUeOkmMRB9QESLbOf7GX1AKVyPwvUofUAIrBxaZDt9QMyhRbbzXX1AOIlBYOVofUAhsHJokXV9QIts5/upgX1AeekmMQiMfUBbZDvfT519QMYgsHJoqX1AJzEIrBy6fUASg8DKocV9QPYoXI/C1X1AZ2ZmZmbefUC7SQwCK/d9QDIIrBxa/H1AJAaBlUMDfkCLbOf7qRF+QPlT46WbHH5Abef7qfEifkDiehSuRyl+QNR46SYxMH5AzczMzMw0fkA1XrpJDEJ+QLXIdr6fQn5Asp3vp8ZDfkCyne+nxkN+QClcj8L1SH5AlBgEVg5VfkACK4cW2V5+QGU730+Nb35AVg4tsp13fkDIdr6fGn9+QML1KFyPgn5A001iEFh5fkBKDAIrh35+QNz5fmq8dH5AXI/C9Sh0fkBcj8L1KHR+QFYOLbKdd35AzvdT46V7fkC4HoXrUYh+QDiJQWDliH5AQ2Dl0CKDfkDTTWIQWHl+QA==\"},\"shape\":[203],\"dtype\":\"float64\",\"order\":\"little\"}]]}}},\"view\":{\"type\":\"object\",\"name\":\"CDSView\",\"id\":\"p1544\",\"attributes\":{\"filter\":{\"type\":\"object\",\"name\":\"AllIndices\",\"id\":\"p1545\"}}},\"glyph\":{\"type\":\"object\",\"name\":\"Line\",\"id\":\"p1540\",\"attributes\":{\"x\":{\"type\":\"field\",\"field\":\"x\"},\"y\":{\"type\":\"field\",\"field\":\"y\"},\"line_color\":\"limegreen\",\"line_width\":2}},\"nonselection_glyph\":{\"type\":\"object\",\"name\":\"Line\",\"id\":\"p1541\",\"attributes\":{\"x\":{\"type\":\"field\",\"field\":\"x\"},\"y\":{\"type\":\"field\",\"field\":\"y\"},\"line_color\":\"limegreen\",\"line_alpha\":0.1,\"line_width\":2}},\"muted_glyph\":{\"type\":\"object\",\"name\":\"Line\",\"id\":\"p1542\",\"attributes\":{\"x\":{\"type\":\"field\",\"field\":\"x\"},\"y\":{\"type\":\"field\",\"field\":\"y\"},\"line_color\":\"limegreen\",\"line_alpha\":0.2,\"line_width\":2}}}},{\"type\":\"object\",\"name\":\"GlyphRenderer\",\"id\":\"p1553\",\"attributes\":{\"data_source\":{\"type\":\"object\",\"name\":\"ColumnDataSource\",\"id\":\"p1547\",\"attributes\":{\"selected\":{\"type\":\"object\",\"name\":\"Selection\",\"id\":\"p1548\",\"attributes\":{\"indices\":[],\"line_indices\":[]}},\"selection_policy\":{\"type\":\"object\",\"name\":\"UnionRenderers\",\"id\":\"p1549\"},\"data\":{\"type\":\"map\",\"entries\":[[\"x\",{\"type\":\"ndarray\",\"array\":{\"type\":\"bytes\",\"data\":\"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\"},\"shape\":[203],\"dtype\":\"float64\",\"order\":\"little\"}],[\"y\",{\"type\":\"ndarray\",\"array\":{\"type\":\"bytes\",\"data\":\"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\"},\"shape\":[203],\"dtype\":\"float64\",\"order\":\"little\"}]]}}},\"view\":{\"type\":\"object\",\"name\":\"CDSView\",\"id\":\"p1554\",\"attributes\":{\"filter\":{\"type\":\"object\",\"name\":\"AllIndices\",\"id\":\"p1555\"}}},\"glyph\":{\"type\":\"object\",\"name\":\"Line\",\"id\":\"p1550\",\"attributes\":{\"x\":{\"type\":\"field\",\"field\":\"x\"},\"y\":{\"type\":\"field\",\"field\":\"y\"},\"line_color\":\"red\",\"line_width\":2}},\"nonselection_glyph\":{\"type\":\"object\",\"name\":\"Line\",\"id\":\"p1551\",\"attributes\":{\"x\":{\"type\":\"field\",\"field\":\"x\"},\"y\":{\"type\":\"field\",\"field\":\"y\"},\"line_color\":\"red\",\"line_alpha\":0.1,\"line_width\":2}},\"muted_glyph\":{\"type\":\"object\",\"name\":\"Line\",\"id\":\"p1552\",\"attributes\":{\"x\":{\"type\":\"field\",\"field\":\"x\"},\"y\":{\"type\":\"field\",\"field\":\"y\"},\"line_color\":\"red\",\"line_alpha\":0.2,\"line_width\":2}}}},{\"type\":\"object\",\"name\":\"GlyphRenderer\",\"id\":\"p1563\",\"attributes\":{\"data_source\":{\"type\":\"object\",\"name\":\"ColumnDataSource\",\"id\":\"p1557\",\"attributes\":{\"selected\":{\"type\":\"object\",\"name\":\"Selection\",\"id\":\"p1558\",\"attributes\":{\"indices\":[],\"line_indices\":[]}},\"selection_policy\":{\"type\":\"object\",\"name\":\"UnionRenderers\",\"id\":\"p1559\"},\"data\":{\"type\":\"map\",\"entries\":[[\"x0\",[24.700000047683716]],[\"y0\",[0.0]],[\"x1\",[24.700000047683716]],[\"y1\",[486.29519999999997]]]}}},\"view\":{\"type\":\"object\",\"name\":\"CDSView\",\"id\":\"p1564\",\"attributes\":{\"filter\":{\"type\":\"object\",\"name\":\"AllIndices\",\"id\":\"p1565\"}}},\"glyph\":{\"type\":\"object\",\"name\":\"Segment\",\"id\":\"p1560\",\"attributes\":{\"x0\":{\"type\":\"field\",\"field\":\"x0\"},\"y0\":{\"type\":\"field\",\"field\":\"y0\"},\"x1\":{\"type\":\"field\",\"field\":\"x1\"},\"y1\":{\"type\":\"field\",\"field\":\"y1\"},\"line_color\":{\"type\":\"value\",\"value\":\"lightblue\"},\"line_width\":{\"type\":\"value\",\"value\":3}}},\"nonselection_glyph\":{\"type\":\"object\",\"name\":\"Segment\",\"id\":\"p1561\",\"attributes\":{\"x0\":{\"type\":\"field\",\"field\":\"x0\"},\"y0\":{\"type\":\"field\",\"field\":\"y0\"},\"x1\":{\"type\":\"field\",\"field\":\"x1\"},\"y1\":{\"type\":\"field\",\"field\":\"y1\"},\"line_color\":{\"type\":\"value\",\"value\":\"lightblue\"},\"line_alpha\":{\"type\":\"value\",\"value\":0.1},\"line_width\":{\"type\":\"value\",\"value\":3}}},\"muted_glyph\":{\"type\":\"object\",\"name\":\"Segment\",\"id\":\"p1562\",\"attributes\":{\"x0\":{\"type\":\"field\",\"field\":\"x0\"},\"y0\":{\"type\":\"field\",\"field\":\"y0\"},\"x1\":{\"type\":\"field\",\"field\":\"x1\"},\"y1\":{\"type\":\"field\",\"field\":\"y1\"},\"line_color\":{\"type\":\"value\",\"value\":\"lightblue\"},\"line_alpha\":{\"type\":\"value\",\"value\":0.2},\"line_width\":{\"type\":\"value\",\"value\":3}}}}},{\"type\":\"object\",\"name\":\"GlyphRenderer\",\"id\":\"p1572\",\"attributes\":{\"data_source\":{\"type\":\"object\",\"name\":\"ColumnDataSource\",\"id\":\"p1566\",\"attributes\":{\"selected\":{\"type\":\"object\",\"name\":\"Selection\",\"id\":\"p1567\",\"attributes\":{\"indices\":[],\"line_indices\":[]}},\"selection_policy\":{\"type\":\"object\",\"name\":\"UnionRenderers\",\"id\":\"p1568\"},\"data\":{\"type\":\"map\",\"entries\":[[\"x0\",[26.200000047683716]],[\"y0\",[0.0]],[\"x1\",[26.200000047683716]],[\"y1\",[486.29519999999997]]]}}},\"view\":{\"type\":\"object\",\"name\":\"CDSView\",\"id\":\"p1573\",\"attributes\":{\"filter\":{\"type\":\"object\",\"name\":\"AllIndices\",\"id\":\"p1574\"}}},\"glyph\":{\"type\":\"object\",\"name\":\"Segment\",\"id\":\"p1569\",\"attributes\":{\"x0\":{\"type\":\"field\",\"field\":\"x0\"},\"y0\":{\"type\":\"field\",\"field\":\"y0\"},\"x1\":{\"type\":\"field\",\"field\":\"x1\"},\"y1\":{\"type\":\"field\",\"field\":\"y1\"},\"line_color\":{\"type\":\"value\",\"value\":\"darkseagreen\"}}},\"nonselection_glyph\":{\"type\":\"object\",\"name\":\"Segment\",\"id\":\"p1570\",\"attributes\":{\"x0\":{\"type\":\"field\",\"field\":\"x0\"},\"y0\":{\"type\":\"field\",\"field\":\"y0\"},\"x1\":{\"type\":\"field\",\"field\":\"x1\"},\"y1\":{\"type\":\"field\",\"field\":\"y1\"},\"line_color\":{\"type\":\"value\",\"value\":\"darkseagreen\"},\"line_alpha\":{\"type\":\"value\",\"value\":0.1}}},\"muted_glyph\":{\"type\":\"object\",\"name\":\"Segment\",\"id\":\"p1571\",\"attributes\":{\"x0\":{\"type\":\"field\",\"field\":\"x0\"},\"y0\":{\"type\":\"field\",\"field\":\"y0\"},\"x1\":{\"type\":\"field\",\"field\":\"x1\"},\"y1\":{\"type\":\"field\",\"field\":\"y1\"},\"line_color\":{\"type\":\"value\",\"value\":\"darkseagreen\"},\"line_alpha\":{\"type\":\"value\",\"value\":0.2}}}}},{\"type\":\"object\",\"name\":\"GlyphRenderer\",\"id\":\"p1581\",\"attributes\":{\"data_source\":{\"type\":\"object\",\"name\":\"ColumnDataSource\",\"id\":\"p1575\",\"attributes\":{\"selected\":{\"type\":\"object\",\"name\":\"Selection\",\"id\":\"p1576\",\"attributes\":{\"indices\":[],\"line_indices\":[]}},\"selection_policy\":{\"type\":\"object\",\"name\":\"UnionRenderers\",\"id\":\"p1577\"},\"data\":{\"type\":\"map\",\"entries\":[[\"x0\",[23.200000047683716]],[\"y0\",[0.0]],[\"x1\",[23.200000047683716]],[\"y1\",[486.29519999999997]]]}}},\"view\":{\"type\":\"object\",\"name\":\"CDSView\",\"id\":\"p1582\",\"attributes\":{\"filter\":{\"type\":\"object\",\"name\":\"AllIndices\",\"id\":\"p1583\"}}},\"glyph\":{\"type\":\"object\",\"name\":\"Segment\",\"id\":\"p1578\",\"attributes\":{\"x0\":{\"type\":\"field\",\"field\":\"x0\"},\"y0\":{\"type\":\"field\",\"field\":\"y0\"},\"x1\":{\"type\":\"field\",\"field\":\"x1\"},\"y1\":{\"type\":\"field\",\"field\":\"y1\"},\"line_color\":{\"type\":\"value\",\"value\":\"darkseagreen\"}}},\"nonselection_glyph\":{\"type\":\"object\",\"name\":\"Segment\",\"id\":\"p1579\",\"attributes\":{\"x0\":{\"type\":\"field\",\"field\":\"x0\"},\"y0\":{\"type\":\"field\",\"field\":\"y0\"},\"x1\":{\"type\":\"field\",\"field\":\"x1\"},\"y1\":{\"type\":\"field\",\"field\":\"y1\"},\"line_color\":{\"type\":\"value\",\"value\":\"darkseagreen\"},\"line_alpha\":{\"type\":\"value\",\"value\":0.1}}},\"muted_glyph\":{\"type\":\"object\",\"name\":\"Segment\",\"id\":\"p1580\",\"attributes\":{\"x0\":{\"type\":\"field\",\"field\":\"x0\"},\"y0\":{\"type\":\"field\",\"field\":\"y0\"},\"x1\":{\"type\":\"field\",\"field\":\"x1\"},\"y1\":{\"type\":\"field\",\"field\":\"y1\"},\"line_color\":{\"type\":\"value\",\"value\":\"darkseagreen\"},\"line_alpha\":{\"type\":\"value\",\"value\":0.2}}}}},{\"type\":\"object\",\"name\":\"GlyphRenderer\",\"id\":\"p1590\",\"attributes\":{\"data_source\":{\"type\":\"object\",\"name\":\"ColumnDataSource\",\"id\":\"p1584\",\"attributes\":{\"selected\":{\"type\":\"object\",\"name\":\"Selection\",\"id\":\"p1585\",\"attributes\":{\"indices\":[],\"line_indices\":[]}},\"selection_policy\":{\"type\":\"object\",\"name\":\"UnionRenderers\",\"id\":\"p1586\"},\"data\":{\"type\":\"map\",\"entries\":[[\"x\",[24.700000047683716]],[\"y\",[486.29519999999997]],[\"size\",[20]]]}}},\"view\":{\"type\":\"object\",\"name\":\"CDSView\",\"id\":\"p1591\",\"attributes\":{\"filter\":{\"type\":\"object\",\"name\":\"AllIndices\",\"id\":\"p1592\"}}},\"glyph\":{\"type\":\"object\",\"name\":\"Scatter\",\"id\":\"p1587\",\"attributes\":{\"x\":{\"type\":\"field\",\"field\":\"x\"},\"y\":{\"type\":\"field\",\"field\":\"y\"},\"size\":{\"type\":\"field\",\"field\":\"size\"},\"line_color\":{\"type\":\"value\",\"value\":\"lightblue\"},\"line_width\":{\"type\":\"value\",\"value\":3},\"fill_color\":{\"type\":\"value\",\"value\":null},\"marker\":{\"type\":\"value\",\"value\":\"square_cross\"}}},\"nonselection_glyph\":{\"type\":\"object\",\"name\":\"Scatter\",\"id\":\"p1588\",\"attributes\":{\"x\":{\"type\":\"field\",\"field\":\"x\"},\"y\":{\"type\":\"field\",\"field\":\"y\"},\"size\":{\"type\":\"field\",\"field\":\"size\"},\"line_color\":{\"type\":\"value\",\"value\":\"lightblue\"},\"line_alpha\":{\"type\":\"value\",\"value\":0.1},\"line_width\":{\"type\":\"value\",\"value\":3},\"fill_color\":{\"type\":\"value\",\"value\":null},\"fill_alpha\":{\"type\":\"value\",\"value\":0.1},\"hatch_alpha\":{\"type\":\"value\",\"value\":0.1},\"marker\":{\"type\":\"value\",\"value\":\"square_cross\"}}},\"muted_glyph\":{\"type\":\"object\",\"name\":\"Scatter\",\"id\":\"p1589\",\"attributes\":{\"x\":{\"type\":\"field\",\"field\":\"x\"},\"y\":{\"type\":\"field\",\"field\":\"y\"},\"size\":{\"type\":\"field\",\"field\":\"size\"},\"line_color\":{\"type\":\"value\",\"value\":\"lightblue\"},\"line_alpha\":{\"type\":\"value\",\"value\":0.2},\"line_width\":{\"type\":\"value\",\"value\":3},\"fill_color\":{\"type\":\"value\",\"value\":null},\"fill_alpha\":{\"type\":\"value\",\"value\":0.2},\"hatch_alpha\":{\"type\":\"value\",\"value\":0.2},\"marker\":{\"type\":\"value\",\"value\":\"square_cross\"}}}}}],\"toolbar\":{\"type\":\"object\",\"name\":\"Toolbar\",\"id\":\"p1477\",\"attributes\":{\"tools\":[{\"type\":\"object\",\"name\":\"PanTool\",\"id\":\"p1492\"},{\"type\":\"object\",\"name\":\"WheelZoomTool\",\"id\":\"p1493\",\"attributes\":{\"renderers\":\"auto\"}},{\"type\":\"object\",\"name\":\"BoxZoomTool\",\"id\":\"p1494\",\"attributes\":{\"overlay\":{\"type\":\"object\",\"name\":\"BoxAnnotation\",\"id\":\"p1495\",\"attributes\":{\"syncable\":false,\"line_color\":\"black\",\"line_alpha\":1.0,\"line_width\":2,\"line_dash\":[4,4],\"fill_color\":\"lightgrey\",\"fill_alpha\":0.5,\"level\":\"overlay\",\"visible\":false,\"left\":{\"type\":\"number\",\"value\":\"nan\"},\"right\":{\"type\":\"number\",\"value\":\"nan\"},\"top\":{\"type\":\"number\",\"value\":\"nan\"},\"bottom\":{\"type\":\"number\",\"value\":\"nan\"},\"left_units\":\"canvas\",\"right_units\":\"canvas\",\"top_units\":\"canvas\",\"bottom_units\":\"canvas\",\"handles\":{\"type\":\"object\",\"name\":\"BoxInteractionHandles\",\"id\":\"p1501\",\"attributes\":{\"all\":{\"type\":\"object\",\"name\":\"AreaVisuals\",\"id\":\"p1500\",\"attributes\":{\"fill_color\":\"white\",\"hover_fill_color\":\"lightgray\"}}}}}}}},{\"type\":\"object\",\"name\":\"SaveTool\",\"id\":\"p1502\"},{\"type\":\"object\",\"name\":\"ResetTool\",\"id\":\"p1503\"},{\"type\":\"object\",\"name\":\"HelpTool\",\"id\":\"p1504\"},{\"type\":\"object\",\"name\":\"HoverTool\",\"id\":\"p1536\",\"attributes\":{\"renderers\":\"auto\",\"tooltips\":[[\"Y-val\",\"@y{0.00}\"]]}}]}},\"left\":[{\"type\":\"object\",\"name\":\"LinearAxis\",\"id\":\"p1487\",\"attributes\":{\"ticker\":{\"type\":\"object\",\"name\":\"BasicTicker\",\"id\":\"p1488\",\"attributes\":{\"mantissas\":[1,2,5]}},\"formatter\":{\"type\":\"object\",\"name\":\"BasicTickFormatter\",\"id\":\"p1489\"},\"axis_label\":\"km/h\",\"axis_label_standoff\":10,\"axis_label_text_color\":\"#E0E0E0\",\"axis_label_text_font\":\"Helvetica\",\"axis_label_text_font_size\":\"1.25em\",\"axis_label_text_font_style\":\"normal\",\"major_label_policy\":{\"type\":\"object\",\"name\":\"AllLabels\",\"id\":\"p1490\"},\"major_label_text_color\":\"#E0E0E0\",\"major_label_text_font\":\"Helvetica\",\"major_label_text_font_size\":\"1.025em\",\"axis_line_color\":\"#E0E0E0\",\"axis_line_alpha\":0,\"major_tick_line_color\":\"#E0E0E0\",\"major_tick_line_alpha\":0,\"minor_tick_line_color\":\"#E0E0E0\",\"minor_tick_line_alpha\":0}},{\"type\":\"object\",\"name\":\"LinearAxis\",\"id\":\"p1507\",\"attributes\":{\"y_range_name\":\"altitudeFt\",\"ticker\":{\"type\":\"object\",\"name\":\"BasicTicker\",\"id\":\"p1508\",\"attributes\":{\"mantissas\":[1,2,5]}},\"formatter\":{\"type\":\"object\",\"name\":\"BasicTickFormatter\",\"id\":\"p1509\"},\"axis_label\":\"Alt (ft)\",\"axis_label_standoff\":10,\"axis_label_text_color\":\"#E0E0E0\",\"axis_label_text_font\":\"Helvetica\",\"axis_label_text_font_size\":\"1.25em\",\"axis_label_text_font_style\":\"normal\",\"major_label_policy\":{\"type\":\"object\",\"name\":\"AllLabels\",\"id\":\"p1510\"},\"major_label_text_color\":\"#E0E0E0\",\"major_label_text_font\":\"Helvetica\",\"major_label_text_font_size\":\"1.025em\",\"axis_line_color\":\"#E0E0E0\",\"axis_line_alpha\":0,\"major_tick_line_color\":\"#E0E0E0\",\"major_tick_line_alpha\":0,\"minor_tick_line_color\":\"#E0E0E0\",\"minor_tick_line_alpha\":0}},{\"type\":\"object\",\"name\":\"LinearAxis\",\"id\":\"p1511\",\"attributes\":{\"y_range_name\":\"angle\",\"ticker\":{\"type\":\"object\",\"name\":\"BasicTicker\",\"id\":\"p1512\",\"attributes\":{\"mantissas\":[1,2,5]}},\"formatter\":{\"type\":\"object\",\"name\":\"BasicTickFormatter\",\"id\":\"p1513\"},\"axis_label\":\"angle\",\"axis_label_standoff\":10,\"axis_label_text_color\":\"#E0E0E0\",\"axis_label_text_font\":\"Helvetica\",\"axis_label_text_font_size\":\"1.25em\",\"axis_label_text_font_style\":\"normal\",\"major_label_policy\":{\"type\":\"object\",\"name\":\"AllLabels\",\"id\":\"p1514\"},\"major_label_text_color\":\"#E0E0E0\",\"major_label_text_font\":\"Helvetica\",\"major_label_text_font_size\":\"1.025em\",\"axis_line_color\":\"#E0E0E0\",\"axis_line_alpha\":0,\"major_tick_line_color\":\"#E0E0E0\",\"major_tick_line_alpha\":0,\"minor_tick_line_color\":\"#E0E0E0\",\"minor_tick_line_alpha\":0}}],\"below\":[{\"type\":\"object\",\"name\":\"LinearAxis\",\"id\":\"p1482\",\"attributes\":{\"ticker\":{\"type\":\"object\",\"name\":\"BasicTicker\",\"id\":\"p1483\",\"attributes\":{\"mantissas\":[1,2,5]}},\"formatter\":{\"type\":\"object\",\"name\":\"BasicTickFormatter\",\"id\":\"p1484\"},\"axis_label\":\"seconds from exit\",\"axis_label_standoff\":10,\"axis_label_text_color\":\"#E0E0E0\",\"axis_label_text_font\":\"Helvetica\",\"axis_label_text_font_size\":\"1.25em\",\"axis_label_text_font_style\":\"normal\",\"major_label_policy\":{\"type\":\"object\",\"name\":\"AllLabels\",\"id\":\"p1485\"},\"major_label_text_color\":\"#E0E0E0\",\"major_label_text_font\":\"Helvetica\",\"major_label_text_font_size\":\"1.025em\",\"axis_line_color\":\"#E0E0E0\",\"axis_line_alpha\":0,\"major_tick_line_color\":\"#E0E0E0\",\"major_tick_line_alpha\":0,\"minor_tick_line_color\":\"#E0E0E0\",\"minor_tick_line_alpha\":0}}],\"center\":[{\"type\":\"object\",\"name\":\"Grid\",\"id\":\"p1486\",\"attributes\":{\"axis\":{\"id\":\"p1482\"},\"grid_line_color\":\"#E0E0E0\",\"grid_line_alpha\":0.25}},{\"type\":\"object\",\"name\":\"Grid\",\"id\":\"p1491\",\"attributes\":{\"dimension\":1,\"axis\":{\"id\":\"p1487\"},\"grid_line_color\":\"#E0E0E0\",\"grid_line_alpha\":0.25}},{\"type\":\"object\",\"name\":\"Legend\",\"id\":\"p1524\",\"attributes\":{\"border_line_alpha\":0,\"background_fill_color\":\"#20262B\",\"background_fill_alpha\":0.25,\"label_text_color\":\"#E0E0E0\",\"label_text_font\":\"Helvetica\",\"label_text_font_size\":\"1.025em\",\"label_standoff\":8,\"glyph_width\":15,\"spacing\":8,\"items\":[{\"type\":\"object\",\"name\":\"LegendItem\",\"id\":\"p1525\",\"attributes\":{\"label\":{\"type\":\"value\",\"value\":\"Alt (ft)\"},\"renderers\":[{\"id\":\"p1521\"}]}},{\"type\":\"object\",\"name\":\"LegendItem\",\"id\":\"p1535\",\"attributes\":{\"label\":{\"type\":\"value\",\"value\":\"angle\"},\"renderers\":[{\"id\":\"p1532\"}]}},{\"type\":\"object\",\"name\":\"LegendItem\",\"id\":\"p1546\",\"attributes\":{\"label\":{\"type\":\"value\",\"value\":\"speed\"},\"renderers\":[{\"id\":\"p1543\"}]}},{\"type\":\"object\",\"name\":\"LegendItem\",\"id\":\"p1556\",\"attributes\":{\"label\":{\"type\":\"value\",\"value\":\"H-speed\"},\"renderers\":[{\"id\":\"p1553\"}]}}]}}],\"background_fill_color\":\"#20262B\",\"border_fill_color\":\"#15191C\"}}]}};\n",
       "  const render_items = [{\"docid\":\"5e4b7206-009f-4163-ab1f-d5c7269be199\",\"roots\":{\"p1468\":\"ec41f500-b025-45cf-b890-e5e51b9712b3\"},\"root_ids\":[\"p1468\"]}];\n",
       "  void root.Bokeh.embed.embed_items_notebook(docs_json, render_items);\n",
       "  }\n",
       "  if (root.Bokeh !== undefined) {\n",
       "    embed_document(root);\n",
       "  } else {\n",
       "    let attempts = 0;\n",
       "    const timer = setInterval(function(root) {\n",
       "      if (root.Bokeh !== undefined) {\n",
       "        clearInterval(timer);\n",
       "        embed_document(root);\n",
       "      } else {\n",
       "        attempts++;\n",
       "        if (attempts > 100) {\n",
       "          clearInterval(timer);\n",
       "          console.log(\"Bokeh: ERROR: Unable to run BokehJS code because BokehJS library is missing\");\n",
       "        }\n",
       "      }\n",
       "    }, 10, root)\n",
       "  }\n",
       "})(window);"
      ],
      "application/vnd.bokehjs_exec.v0+json": ""
     },
     "metadata": {
      "application/vnd.bokehjs_exec.v0+json": {
       "id": "p1468"
      }
     },
     "output_type": "display_data"
    },
    {
     "data": {
      "application/vnd.jupyter.widget-view+json": {
       "model_id": "226805a0e8ed459c917ba37a07fb49ee",
       "version_major": 2,
       "version_minor": 0
      },
      "text/plain": [
       "HTML(value='<hr><h1><span style=\"color: #0f0\">17-13-56-25 jump - 🟢 valid - score = 472.01 km/h</span></h1>')"
      ]
     },
     "metadata": {},
     "output_type": "display_data"
    },
    {
     "data": {
      "application/vnd.jupyter.widget-view+json": {
       "model_id": "5d7df400d8b546c2a37dc88bbcfcec64",
       "version_major": 2,
       "version_minor": 0
      },
      "text/plain": [
       "HTML(value='<h3>Max speed = 474; exit at 4167 m (13672 ft), end scoring window at 1911 m (6270 ft)')"
      ]
     },
     "metadata": {},
     "output_type": "display_data"
    },
    {
     "data": {
      "application/vnd.jupyter.widget-view+json": {
       "model_id": "ee4058ad58f3495c855e5bb27703887c",
       "version_major": 2,
       "version_minor": 0
      },
      "text/plain": [
       "HTML(value='</h3>')"
      ]
     },
     "metadata": {},
     "output_type": "display_data"
    },
    {
     "data": {
      "text/html": [
       "<div>\n",
       "<style scoped>\n",
       "    .dataframe tbody tr th:only-of-type {\n",
       "        vertical-align: middle;\n",
       "    }\n",
       "\n",
       "    .dataframe tbody tr th {\n",
       "        vertical-align: top;\n",
       "    }\n",
       "\n",
       "    .dataframe thead th {\n",
       "        text-align: right;\n",
       "    }\n",
       "</style>\n",
       "<table border=\"1\" class=\"dataframe\">\n",
       "  <thead>\n",
       "    <tr style=\"text-align: right;\">\n",
       "      <th></th>\n",
       "      <th>time</th>\n",
       "      <th>vKMh</th>\n",
       "      <th>hKMh</th>\n",
       "      <th>speedAngle</th>\n",
       "      <th>distanceFromExit</th>\n",
       "      <th>altitude (ft)</th>\n",
       "      <th>netVectorKMh</th>\n",
       "    </tr>\n",
       "  </thead>\n",
       "  <tbody>\n",
       "    <tr>\n",
       "      <th></th>\n",
       "      <td>5.0</td>\n",
       "      <td>187</td>\n",
       "      <td>145</td>\n",
       "      <td>52.3</td>\n",
       "      <td>244.000000</td>\n",
       "      <td>13203</td>\n",
       "      <td>237</td>\n",
       "    </tr>\n",
       "    <tr>\n",
       "      <th></th>\n",
       "      <td>10.0</td>\n",
       "      <td>334</td>\n",
       "      <td>93</td>\n",
       "      <td>74.4</td>\n",
       "      <td>411.500000</td>\n",
       "      <td>11969</td>\n",
       "      <td>347</td>\n",
       "    </tr>\n",
       "    <tr>\n",
       "      <th></th>\n",
       "      <td>15.0</td>\n",
       "      <td>422</td>\n",
       "      <td>53</td>\n",
       "      <td>82.8</td>\n",
       "      <td>514.200000</td>\n",
       "      <td>10199</td>\n",
       "      <td>426</td>\n",
       "    </tr>\n",
       "    <tr>\n",
       "      <th></th>\n",
       "      <td>20.0</td>\n",
       "      <td>473</td>\n",
       "      <td>18</td>\n",
       "      <td>87.8</td>\n",
       "      <td>541.100000</td>\n",
       "      <td>8139</td>\n",
       "      <td>474</td>\n",
       "    </tr>\n",
       "    <tr>\n",
       "      <th></th>\n",
       "      <td>25.0</td>\n",
       "      <td>457</td>\n",
       "      <td>48</td>\n",
       "      <td>84.0</td>\n",
       "      <td>511.971188</td>\n",
       "      <td>6300</td>\n",
       "      <td>459</td>\n",
       "    </tr>\n",
       "  </tbody>\n",
       "</table>\n",
       "</div>"
      ],
      "text/plain": [
       "  time  vKMh  hKMh  speedAngle  distanceFromExit  altitude (ft)  netVectorKMh\n",
       "   5.0   187   145        52.3        244.000000          13203           237\n",
       "  10.0   334    93        74.4        411.500000          11969           347\n",
       "  15.0   422    53        82.8        514.200000          10199           426\n",
       "  20.0   473    18        87.8        541.100000           8139           474\n",
       "  25.0   457    48        84.0        511.971188           6300           459"
      ]
     },
     "metadata": {},
     "output_type": "display_data"
    },
    {
     "data": {
      "text/html": [
       "\n",
       "  <div id=\"c57d502e-5f64-4647-ad8e-1241edd8d21c\" data-root-id=\"p1611\" style=\"display: contents;\"></div>\n"
      ]
     },
     "metadata": {},
     "output_type": "display_data"
    },
    {
     "data": {
      "application/javascript": [
       "(function(root) {\n",
       "  function embed_document(root) {\n",
       "  const docs_json = {\"81b4cff8-1ef0-4856-8941-dac5d6d1749a\":{\"version\":\"3.5.2\",\"title\":\"Bokeh Application\",\"roots\":[{\"type\":\"object\",\"name\":\"Figure\",\"id\":\"p1611\",\"attributes\":{\"width\":900,\"height\":500,\"x_range\":{\"type\":\"object\",\"name\":\"Range1d\",\"id\":\"p1621\",\"attributes\":{\"end\":35.0}},\"y_range\":{\"type\":\"object\",\"name\":\"Range1d\",\"id\":\"p1622\",\"attributes\":{\"end\":550.0}},\"x_scale\":{\"type\":\"object\",\"name\":\"LinearScale\",\"id\":\"p1623\"},\"y_scale\":{\"type\":\"object\",\"name\":\"LinearScale\",\"id\":\"p1624\"},\"extra_y_ranges\":{\"type\":\"map\",\"entries\":[[\"altitudeFt\",{\"type\":\"object\",\"name\":\"Range1d\",\"id\":\"p1648\",\"attributes\":{\"start\":5800.2124736,\"end\":14172.481749600001}}],[\"angle\",{\"type\":\"object\",\"name\":\"Range1d\",\"id\":\"p1649\",\"attributes\":{\"end\":90.0}}]]},\"title\":{\"type\":\"object\",\"name\":\"Title\",\"id\":\"p1614\",\"attributes\":{\"text\":\"17-13-56-25\",\"text_color\":\"#E0E0E0\",\"text_font\":\"Helvetica\",\"text_font_size\":\"1.15em\"}},\"outline_line_color\":\"#E0E0E0\",\"outline_line_alpha\":0.25,\"renderers\":[{\"type\":\"object\",\"name\":\"GlyphRenderer\",\"id\":\"p1664\",\"attributes\":{\"y_range_name\":\"altitudeFt\",\"data_source\":{\"type\":\"object\",\"name\":\"ColumnDataSource\",\"id\":\"p1658\",\"attributes\":{\"selected\":{\"type\":\"object\",\"name\":\"Selection\",\"id\":\"p1659\",\"attributes\":{\"indices\":[],\"line_indices\":[]}},\"selection_policy\":{\"type\":\"object\",\"name\":\"UnionRenderers\",\"id\":\"p1660\"},\"data\":{\"type\":\"map\",\"entries\":[[\"x\",{\"type\":\"ndarray\",\"array\":{\"type\":\"bytes\",\"data\":\"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\"},\"shape\":[189],\"dtype\":\"float64\",\"order\":\"little\"}],[\"y\",{\"type\":\"ndarray\",\"array\":{\"type\":\"bytes\",\"data\":\"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\"},\"shape\":[189],\"dtype\":\"float64\",\"order\":\"little\"}]]}}},\"view\":{\"type\":\"object\",\"name\":\"CDSView\",\"id\":\"p1665\",\"attributes\":{\"filter\":{\"type\":\"object\",\"name\":\"AllIndices\",\"id\":\"p1666\"}}},\"glyph\":{\"type\":\"object\",\"name\":\"Line\",\"id\":\"p1661\",\"attributes\":{\"x\":{\"type\":\"field\",\"field\":\"x\"},\"y\":{\"type\":\"field\",\"field\":\"y\"},\"line_color\":\"palegoldenrod\",\"line_width\":2}},\"nonselection_glyph\":{\"type\":\"object\",\"name\":\"Line\",\"id\":\"p1662\",\"attributes\":{\"x\":{\"type\":\"field\",\"field\":\"x\"},\"y\":{\"type\":\"field\",\"field\":\"y\"},\"line_color\":\"palegoldenrod\",\"line_alpha\":0.1,\"line_width\":2}},\"muted_glyph\":{\"type\":\"object\",\"name\":\"Line\",\"id\":\"p1663\",\"attributes\":{\"x\":{\"type\":\"field\",\"field\":\"x\"},\"y\":{\"type\":\"field\",\"field\":\"y\"},\"line_color\":\"palegoldenrod\",\"line_alpha\":0.2,\"line_width\":2}}}},{\"type\":\"object\",\"name\":\"GlyphRenderer\",\"id\":\"p1675\",\"attributes\":{\"y_range_name\":\"angle\",\"data_source\":{\"type\":\"object\",\"name\":\"ColumnDataSource\",\"id\":\"p1669\",\"attributes\":{\"selected\":{\"type\":\"object\",\"name\":\"Selection\",\"id\":\"p1670\",\"attributes\":{\"indices\":[],\"line_indices\":[]}},\"selection_policy\":{\"type\":\"object\",\"name\":\"UnionRenderers\",\"id\":\"p1671\"},\"data\":{\"type\":\"map\",\"entries\":[[\"x\",{\"type\":\"ndarray\",\"array\":{\"type\":\"bytes\",\"data\":\"AAAAAAAAAAAAAAAAmJm5PwAAAACYmck/AAAAADMz0z8AAAAAmZnZPwAAAAAAAOA/AAAAADMz4z8AAAAAZmbmPwAAAICZmek/AAAAgMzM7D8AAAAAAADwPwAAAICZmfE/AAAAADMz8z8AAADAzMz0PwAAAEBmZvY/AAAAAAAA+D8AAACAmZn5PwAAAAAzM/s/AAAAwMzM/D8AAABAZmb+PwAAAAAAAABAAAAAwMzMAEAAAACAmZkBQAAAAGBmZgJAAAAAIDMzA0AAAAAAAAAEQAAAAMDMzARAAAAAgJmZBUAAAABgZmYGQAAAACAzMwdAAAAAAAAACEAAAADAzMwIQAAAAICZmQlAAAAAYGZmCkAAAAAgMzMLQAAAAAAAAAxAAAAAwMzMDEAAAACAmZkNQAAAAGBmZg5AAAAAIDMzD0AAAAAAAAAQQAAAAGBmZhBAAAAAwMzMEEAAAAAwMzMRQAAAAJCZmRFAAAAAAAAAEkAAAABgZmYSQAAAAMDMzBJAAAAAMDMzE0AAAACQmZkTQAAAAAAAABRAAAAAwMzMFEAAAAAwMzMVQAAAAAAAABZAAAAAYGZmFkAAAAAwMzMXQAAAAAAAABhAAAAAYGZmGEAAAAAwMzMZQAAAAJCZmRlAAAAAAAAAGkAAAABgZmYaQAAAAMDMzBpAAAAAkJmZG0AAAAAAAAAcQAAAAMDMzBxAAAAAkJmZHUAAAAAAAAAeQAAAAGBmZh5AAAAAwMzMHkAAAAAwMzMfQAAAAAAAACBAAAAAMDMzIEAAAACYmZkgQAAAAAAAACFAAAAAMDMzIUAAAACYmZkhQAAAAMjMzCFAAAAAAAAAIkAAAAAwMzMiQAAAAGBmZiJAAAAAyMzMIkAAAAAAAAAjQAAAAGBmZiNAAAAAyMzMI0AAAAAAAAAkQAAAADAzMyRAAAAAYGZmJEAAAACYmZkkQAAAAAAAACVAAAAAMDMzJUAAAACYmZklQAAAAMjMzCVAAAAAAAAAJkAAAAAwMzMmQAAAAJiZmSZAAAAAyMzMJkAAAAAwMzMnQAAAAGBmZidAAAAAyMzMJ0AAAAAAAAAoQAAAAGBmZihAAAAAmJmZKEAAAADIzMwoQAAAAAAAAClAAAAAYGZmKUAAAACYmZkpQAAAAAAAACpAAAAAMDMzKkAAAACYmZkqQAAAAMjMzCpAAAAAMDMzK0AAAABgZmYrQAAAAMjMzCtAAAAAAAAALEAAAAAwMzMsQAAAAGBmZixAAAAAyMzMLEAAAAAAAAAtQAAAAGBmZi1AAAAAmJmZLUAAAAAAAAAuQAAAAGBmZi5AAAAAmJmZLkAAAAAAAAAvQAAAADAzMy9AAAAAYGZmL0AAAACYmZkvQAAAAAAAADBAAAAAmJkZMEAAAAAwMzMwQAAAAGRmZjBAAAAAAACAMEAAAACYmZkwQAAAADAzszBAAAAAZGbmMEAAAAAAAAAxQAAAADAzMzFAAAAAzMxMMUAAAABkZmYxQAAAAAAAgDFAAAAAmJmZMUAAAADMzMwxQAAAAGRm5jFAAAAAAAAAMkAAAACYmRkyQAAAAMzMTDJAAAAAZGZmMkAAAACYmZkyQAAAADAzszJAAAAAZGbmMkAAAAAAAAAzQAAAADAzMzNAAAAAZGZmM0AAAAAAAIAzQAAAADAzszNAAAAAzMzMM0AAAABkZuYzQAAAAAAAADRAAAAAMDMzNEAAAADMzEw0QAAAAGRmZjRAAAAAmJmZNEAAAAAwM7M0QAAAAMzMzDRAAAAAZGbmNEAAAACYmRk1QAAAADAzMzVAAAAAZGZmNUAAAAAAAIA1QAAAADAzszVAAAAAzMzMNUAAAAAAAAA2QAAAADAzMzZAAAAAzMxMNkAAAAAAAIA2QAAAAJiZmTZAAAAAzMzMNkAAAABkZuY2QAAAAJiZGTdAAAAAMDMzN0AAAABkZmY3QAAAAAAAgDdAAAAAmJmZN0AAAAAwM7M3QAAAAGRm5jdAAAAAAAAAOEAAAAAwMzM4QAAAAMzMTDhA\"},\"shape\":[189],\"dtype\":\"float64\",\"order\":\"little\"}],[\"y\",{\"type\":\"ndarray\",\"array\":{\"type\":\"bytes\",\"data\":\"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\"},\"shape\":[189],\"dtype\":\"float64\",\"order\":\"little\"}]]}}},\"view\":{\"type\":\"object\",\"name\":\"CDSView\",\"id\":\"p1676\",\"attributes\":{\"filter\":{\"type\":\"object\",\"name\":\"AllIndices\",\"id\":\"p1677\"}}},\"glyph\":{\"type\":\"object\",\"name\":\"Line\",\"id\":\"p1672\",\"attributes\":{\"x\":{\"type\":\"field\",\"field\":\"x\"},\"y\":{\"type\":\"field\",\"field\":\"y\"},\"line_color\":\"deepskyblue\",\"line_width\":2}},\"nonselection_glyph\":{\"type\":\"object\",\"name\":\"Line\",\"id\":\"p1673\",\"attributes\":{\"x\":{\"type\":\"field\",\"field\":\"x\"},\"y\":{\"type\":\"field\",\"field\":\"y\"},\"line_color\":\"deepskyblue\",\"line_alpha\":0.1,\"line_width\":2}},\"muted_glyph\":{\"type\":\"object\",\"name\":\"Line\",\"id\":\"p1674\",\"attributes\":{\"x\":{\"type\":\"field\",\"field\":\"x\"},\"y\":{\"type\":\"field\",\"field\":\"y\"},\"line_color\":\"deepskyblue\",\"line_alpha\":0.2,\"line_width\":2}}}},{\"type\":\"object\",\"name\":\"GlyphRenderer\",\"id\":\"p1686\",\"attributes\":{\"data_source\":{\"type\":\"object\",\"name\":\"ColumnDataSource\",\"id\":\"p1680\",\"attributes\":{\"selected\":{\"type\":\"object\",\"name\":\"Selection\",\"id\":\"p1681\",\"attributes\":{\"indices\":[],\"line_indices\":[]}},\"selection_policy\":{\"type\":\"object\",\"name\":\"UnionRenderers\",\"id\":\"p1682\"},\"data\":{\"type\":\"map\",\"entries\":[[\"x\",{\"type\":\"ndarray\",\"array\":{\"type\":\"bytes\",\"data\":\"AAAAAAAAAAAAAAAAmJm5PwAAAACYmck/AAAAADMz0z8AAAAAmZnZPwAAAAAAAOA/AAAAADMz4z8AAAAAZmbmPwAAAICZmek/AAAAgMzM7D8AAAAAAADwPwAAAICZmfE/AAAAADMz8z8AAADAzMz0PwAAAEBmZvY/AAAAAAAA+D8AAACAmZn5PwAAAAAzM/s/AAAAwMzM/D8AAABAZmb+PwAAAAAAAABAAAAAwMzMAEAAAACAmZkBQAAAAGBmZgJAAAAAIDMzA0AAAAAAAAAEQAAAAMDMzARAAAAAgJmZBUAAAABgZmYGQAAAACAzMwdAAAAAAAAACEAAAADAzMwIQAAAAICZmQlAAAAAYGZmCkAAAAAgMzMLQAAAAAAAAAxAAAAAwMzMDEAAAACAmZkNQAAAAGBmZg5AAAAAIDMzD0AAAAAAAAAQQAAAAGBmZhBAAAAAwMzMEEAAAAAwMzMRQAAAAJCZmRFAAAAAAAAAEkAAAABgZmYSQAAAAMDMzBJAAAAAMDMzE0AAAACQmZkTQAAAAAAAABRAAAAAwMzMFEAAAAAwMzMVQAAAAAAAABZAAAAAYGZmFkAAAAAwMzMXQAAAAAAAABhAAAAAYGZmGEAAAAAwMzMZQAAAAJCZmRlAAAAAAAAAGkAAAABgZmYaQAAAAMDMzBpAAAAAkJmZG0AAAAAAAAAcQAAAAMDMzBxAAAAAkJmZHUAAAAAAAAAeQAAAAGBmZh5AAAAAwMzMHkAAAAAwMzMfQAAAAAAAACBAAAAAMDMzIEAAAACYmZkgQAAAAAAAACFAAAAAMDMzIUAAAACYmZkhQAAAAMjMzCFAAAAAAAAAIkAAAAAwMzMiQAAAAGBmZiJAAAAAyMzMIkAAAAAAAAAjQAAAAGBmZiNAAAAAyMzMI0AAAAAAAAAkQAAAADAzMyRAAAAAYGZmJEAAAACYmZkkQAAAAAAAACVAAAAAMDMzJUAAAACYmZklQAAAAMjMzCVAAAAAAAAAJkAAAAAwMzMmQAAAAJiZmSZAAAAAyMzMJkAAAAAwMzMnQAAAAGBmZidAAAAAyMzMJ0AAAAAAAAAoQAAAAGBmZihAAAAAmJmZKEAAAADIzMwoQAAAAAAAAClAAAAAYGZmKUAAAACYmZkpQAAAAAAAACpAAAAAMDMzKkAAAACYmZkqQAAAAMjMzCpAAAAAMDMzK0AAAABgZmYrQAAAAMjMzCtAAAAAAAAALEAAAAAwMzMsQAAAAGBmZixAAAAAyMzMLEAAAAAAAAAtQAAAAGBmZi1AAAAAmJmZLUAAAAAAAAAuQAAAAGBmZi5AAAAAmJmZLkAAAAAAAAAvQAAAADAzMy9AAAAAYGZmL0AAAACYmZkvQAAAAAAAADBAAAAAmJkZMEAAAAAwMzMwQAAAAGRmZjBAAAAAAACAMEAAAACYmZkwQAAAADAzszBAAAAAZGbmMEAAAAAAAAAxQAAAADAzMzFAAAAAzMxMMUAAAABkZmYxQAAAAAAAgDFAAAAAmJmZMUAAAADMzMwxQAAAAGRm5jFAAAAAAAAAMkAAAACYmRkyQAAAAMzMTDJAAAAAZGZmMkAAAACYmZkyQAAAADAzszJAAAAAZGbmMkAAAAAAAAAzQAAAADAzMzNAAAAAZGZmM0AAAAAAAIAzQAAAADAzszNAAAAAzMzMM0AAAABkZuYzQAAAAAAAADRAAAAAMDMzNEAAAADMzEw0QAAAAGRmZjRAAAAAmJmZNEAAAAAwM7M0QAAAAMzMzDRAAAAAZGbmNEAAAACYmRk1QAAAADAzMzVAAAAAZGZmNUAAAAAAAIA1QAAAADAzszVAAAAAzMzMNUAAAAAAAAA2QAAAADAzMzZAAAAAzMxMNkAAAAAAAIA2QAAAAJiZmTZAAAAAzMzMNkAAAABkZuY2QAAAAJiZGTdAAAAAMDMzN0AAAABkZmY3QAAAAAAAgDdAAAAAmJmZN0AAAAAwM7M3QAAAAGRm5jdAAAAAAAAAOEAAAAAwMzM4QAAAAMzMTDhA\"},\"shape\":[189],\"dtype\":\"float64\",\"order\":\"little\"}],[\"y\",{\"type\":\"ndarray\",\"array\":{\"type\":\"bytes\",\"data\":\"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\"},\"shape\":[189],\"dtype\":\"float64\",\"order\":\"little\"}]]}}},\"view\":{\"type\":\"object\",\"name\":\"CDSView\",\"id\":\"p1687\",\"attributes\":{\"filter\":{\"type\":\"object\",\"name\":\"AllIndices\",\"id\":\"p1688\"}}},\"glyph\":{\"type\":\"object\",\"name\":\"Line\",\"id\":\"p1683\",\"attributes\":{\"x\":{\"type\":\"field\",\"field\":\"x\"},\"y\":{\"type\":\"field\",\"field\":\"y\"},\"line_color\":\"limegreen\",\"line_width\":2}},\"nonselection_glyph\":{\"type\":\"object\",\"name\":\"Line\",\"id\":\"p1684\",\"attributes\":{\"x\":{\"type\":\"field\",\"field\":\"x\"},\"y\":{\"type\":\"field\",\"field\":\"y\"},\"line_color\":\"limegreen\",\"line_alpha\":0.1,\"line_width\":2}},\"muted_glyph\":{\"type\":\"object\",\"name\":\"Line\",\"id\":\"p1685\",\"attributes\":{\"x\":{\"type\":\"field\",\"field\":\"x\"},\"y\":{\"type\":\"field\",\"field\":\"y\"},\"line_color\":\"limegreen\",\"line_alpha\":0.2,\"line_width\":2}}}},{\"type\":\"object\",\"name\":\"GlyphRenderer\",\"id\":\"p1696\",\"attributes\":{\"data_source\":{\"type\":\"object\",\"name\":\"ColumnDataSource\",\"id\":\"p1690\",\"attributes\":{\"selected\":{\"type\":\"object\",\"name\":\"Selection\",\"id\":\"p1691\",\"attributes\":{\"indices\":[],\"line_indices\":[]}},\"selection_policy\":{\"type\":\"object\",\"name\":\"UnionRenderers\",\"id\":\"p1692\"},\"data\":{\"type\":\"map\",\"entries\":[[\"x\",{\"type\":\"ndarray\",\"array\":{\"type\":\"bytes\",\"data\":\"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\"},\"shape\":[189],\"dtype\":\"float64\",\"order\":\"little\"}],[\"y\",{\"type\":\"ndarray\",\"array\":{\"type\":\"bytes\",\"data\":\"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\"},\"shape\":[189],\"dtype\":\"float64\",\"order\":\"little\"}]]}}},\"view\":{\"type\":\"object\",\"name\":\"CDSView\",\"id\":\"p1697\",\"attributes\":{\"filter\":{\"type\":\"object\",\"name\":\"AllIndices\",\"id\":\"p1698\"}}},\"glyph\":{\"type\":\"object\",\"name\":\"Line\",\"id\":\"p1693\",\"attributes\":{\"x\":{\"type\":\"field\",\"field\":\"x\"},\"y\":{\"type\":\"field\",\"field\":\"y\"},\"line_color\":\"red\",\"line_width\":2}},\"nonselection_glyph\":{\"type\":\"object\",\"name\":\"Line\",\"id\":\"p1694\",\"attributes\":{\"x\":{\"type\":\"field\",\"field\":\"x\"},\"y\":{\"type\":\"field\",\"field\":\"y\"},\"line_color\":\"red\",\"line_alpha\":0.1,\"line_width\":2}},\"muted_glyph\":{\"type\":\"object\",\"name\":\"Line\",\"id\":\"p1695\",\"attributes\":{\"x\":{\"type\":\"field\",\"field\":\"x\"},\"y\":{\"type\":\"field\",\"field\":\"y\"},\"line_color\":\"red\",\"line_alpha\":0.2,\"line_width\":2}}}},{\"type\":\"object\",\"name\":\"GlyphRenderer\",\"id\":\"p1706\",\"attributes\":{\"data_source\":{\"type\":\"object\",\"name\":\"ColumnDataSource\",\"id\":\"p1700\",\"attributes\":{\"selected\":{\"type\":\"object\",\"name\":\"Selection\",\"id\":\"p1701\",\"attributes\":{\"indices\":[],\"line_indices\":[]}},\"selection_policy\":{\"type\":\"object\",\"name\":\"UnionRenderers\",\"id\":\"p1702\"},\"data\":{\"type\":\"map\",\"entries\":[[\"x0\",[22.5]],[\"y0\",[0.0]],[\"x1\",[22.5]],[\"y1\",[472.00745454545466]]]}}},\"view\":{\"type\":\"object\",\"name\":\"CDSView\",\"id\":\"p1707\",\"attributes\":{\"filter\":{\"type\":\"object\",\"name\":\"AllIndices\",\"id\":\"p1708\"}}},\"glyph\":{\"type\":\"object\",\"name\":\"Segment\",\"id\":\"p1703\",\"attributes\":{\"x0\":{\"type\":\"field\",\"field\":\"x0\"},\"y0\":{\"type\":\"field\",\"field\":\"y0\"},\"x1\":{\"type\":\"field\",\"field\":\"x1\"},\"y1\":{\"type\":\"field\",\"field\":\"y1\"},\"line_color\":{\"type\":\"value\",\"value\":\"lightblue\"},\"line_width\":{\"type\":\"value\",\"value\":3}}},\"nonselection_glyph\":{\"type\":\"object\",\"name\":\"Segment\",\"id\":\"p1704\",\"attributes\":{\"x0\":{\"type\":\"field\",\"field\":\"x0\"},\"y0\":{\"type\":\"field\",\"field\":\"y0\"},\"x1\":{\"type\":\"field\",\"field\":\"x1\"},\"y1\":{\"type\":\"field\",\"field\":\"y1\"},\"line_color\":{\"type\":\"value\",\"value\":\"lightblue\"},\"line_alpha\":{\"type\":\"value\",\"value\":0.1},\"line_width\":{\"type\":\"value\",\"value\":3}}},\"muted_glyph\":{\"type\":\"object\",\"name\":\"Segment\",\"id\":\"p1705\",\"attributes\":{\"x0\":{\"type\":\"field\",\"field\":\"x0\"},\"y0\":{\"type\":\"field\",\"field\":\"y0\"},\"x1\":{\"type\":\"field\",\"field\":\"x1\"},\"y1\":{\"type\":\"field\",\"field\":\"y1\"},\"line_color\":{\"type\":\"value\",\"value\":\"lightblue\"},\"line_alpha\":{\"type\":\"value\",\"value\":0.2},\"line_width\":{\"type\":\"value\",\"value\":3}}}}},{\"type\":\"object\",\"name\":\"GlyphRenderer\",\"id\":\"p1715\",\"attributes\":{\"data_source\":{\"type\":\"object\",\"name\":\"ColumnDataSource\",\"id\":\"p1709\",\"attributes\":{\"selected\":{\"type\":\"object\",\"name\":\"Selection\",\"id\":\"p1710\",\"attributes\":{\"indices\":[],\"line_indices\":[]}},\"selection_policy\":{\"type\":\"object\",\"name\":\"UnionRenderers\",\"id\":\"p1711\"},\"data\":{\"type\":\"map\",\"entries\":[[\"x0\",[24.0]],[\"y0\",[0.0]],[\"x1\",[24.0]],[\"y1\",[472.00745454545466]]]}}},\"view\":{\"type\":\"object\",\"name\":\"CDSView\",\"id\":\"p1716\",\"attributes\":{\"filter\":{\"type\":\"object\",\"name\":\"AllIndices\",\"id\":\"p1717\"}}},\"glyph\":{\"type\":\"object\",\"name\":\"Segment\",\"id\":\"p1712\",\"attributes\":{\"x0\":{\"type\":\"field\",\"field\":\"x0\"},\"y0\":{\"type\":\"field\",\"field\":\"y0\"},\"x1\":{\"type\":\"field\",\"field\":\"x1\"},\"y1\":{\"type\":\"field\",\"field\":\"y1\"},\"line_color\":{\"type\":\"value\",\"value\":\"darkseagreen\"}}},\"nonselection_glyph\":{\"type\":\"object\",\"name\":\"Segment\",\"id\":\"p1713\",\"attributes\":{\"x0\":{\"type\":\"field\",\"field\":\"x0\"},\"y0\":{\"type\":\"field\",\"field\":\"y0\"},\"x1\":{\"type\":\"field\",\"field\":\"x1\"},\"y1\":{\"type\":\"field\",\"field\":\"y1\"},\"line_color\":{\"type\":\"value\",\"value\":\"darkseagreen\"},\"line_alpha\":{\"type\":\"value\",\"value\":0.1}}},\"muted_glyph\":{\"type\":\"object\",\"name\":\"Segment\",\"id\":\"p1714\",\"attributes\":{\"x0\":{\"type\":\"field\",\"field\":\"x0\"},\"y0\":{\"type\":\"field\",\"field\":\"y0\"},\"x1\":{\"type\":\"field\",\"field\":\"x1\"},\"y1\":{\"type\":\"field\",\"field\":\"y1\"},\"line_color\":{\"type\":\"value\",\"value\":\"darkseagreen\"},\"line_alpha\":{\"type\":\"value\",\"value\":0.2}}}}},{\"type\":\"object\",\"name\":\"GlyphRenderer\",\"id\":\"p1724\",\"attributes\":{\"data_source\":{\"type\":\"object\",\"name\":\"ColumnDataSource\",\"id\":\"p1718\",\"attributes\":{\"selected\":{\"type\":\"object\",\"name\":\"Selection\",\"id\":\"p1719\",\"attributes\":{\"indices\":[],\"line_indices\":[]}},\"selection_policy\":{\"type\":\"object\",\"name\":\"UnionRenderers\",\"id\":\"p1720\"},\"data\":{\"type\":\"map\",\"entries\":[[\"x0\",[21.0]],[\"y0\",[0.0]],[\"x1\",[21.0]],[\"y1\",[472.00745454545466]]]}}},\"view\":{\"type\":\"object\",\"name\":\"CDSView\",\"id\":\"p1725\",\"attributes\":{\"filter\":{\"type\":\"object\",\"name\":\"AllIndices\",\"id\":\"p1726\"}}},\"glyph\":{\"type\":\"object\",\"name\":\"Segment\",\"id\":\"p1721\",\"attributes\":{\"x0\":{\"type\":\"field\",\"field\":\"x0\"},\"y0\":{\"type\":\"field\",\"field\":\"y0\"},\"x1\":{\"type\":\"field\",\"field\":\"x1\"},\"y1\":{\"type\":\"field\",\"field\":\"y1\"},\"line_color\":{\"type\":\"value\",\"value\":\"darkseagreen\"}}},\"nonselection_glyph\":{\"type\":\"object\",\"name\":\"Segment\",\"id\":\"p1722\",\"attributes\":{\"x0\":{\"type\":\"field\",\"field\":\"x0\"},\"y0\":{\"type\":\"field\",\"field\":\"y0\"},\"x1\":{\"type\":\"field\",\"field\":\"x1\"},\"y1\":{\"type\":\"field\",\"field\":\"y1\"},\"line_color\":{\"type\":\"value\",\"value\":\"darkseagreen\"},\"line_alpha\":{\"type\":\"value\",\"value\":0.1}}},\"muted_glyph\":{\"type\":\"object\",\"name\":\"Segment\",\"id\":\"p1723\",\"attributes\":{\"x0\":{\"type\":\"field\",\"field\":\"x0\"},\"y0\":{\"type\":\"field\",\"field\":\"y0\"},\"x1\":{\"type\":\"field\",\"field\":\"x1\"},\"y1\":{\"type\":\"field\",\"field\":\"y1\"},\"line_color\":{\"type\":\"value\",\"value\":\"darkseagreen\"},\"line_alpha\":{\"type\":\"value\",\"value\":0.2}}}}},{\"type\":\"object\",\"name\":\"GlyphRenderer\",\"id\":\"p1733\",\"attributes\":{\"data_source\":{\"type\":\"object\",\"name\":\"ColumnDataSource\",\"id\":\"p1727\",\"attributes\":{\"selected\":{\"type\":\"object\",\"name\":\"Selection\",\"id\":\"p1728\",\"attributes\":{\"indices\":[],\"line_indices\":[]}},\"selection_policy\":{\"type\":\"object\",\"name\":\"UnionRenderers\",\"id\":\"p1729\"},\"data\":{\"type\":\"map\",\"entries\":[[\"x\",[22.5]],[\"y\",[472.00745454545466]],[\"size\",[20]]]}}},\"view\":{\"type\":\"object\",\"name\":\"CDSView\",\"id\":\"p1734\",\"attributes\":{\"filter\":{\"type\":\"object\",\"name\":\"AllIndices\",\"id\":\"p1735\"}}},\"glyph\":{\"type\":\"object\",\"name\":\"Scatter\",\"id\":\"p1730\",\"attributes\":{\"x\":{\"type\":\"field\",\"field\":\"x\"},\"y\":{\"type\":\"field\",\"field\":\"y\"},\"size\":{\"type\":\"field\",\"field\":\"size\"},\"line_color\":{\"type\":\"value\",\"value\":\"lightblue\"},\"line_width\":{\"type\":\"value\",\"value\":3},\"fill_color\":{\"type\":\"value\",\"value\":null},\"marker\":{\"type\":\"value\",\"value\":\"square_cross\"}}},\"nonselection_glyph\":{\"type\":\"object\",\"name\":\"Scatter\",\"id\":\"p1731\",\"attributes\":{\"x\":{\"type\":\"field\",\"field\":\"x\"},\"y\":{\"type\":\"field\",\"field\":\"y\"},\"size\":{\"type\":\"field\",\"field\":\"size\"},\"line_color\":{\"type\":\"value\",\"value\":\"lightblue\"},\"line_alpha\":{\"type\":\"value\",\"value\":0.1},\"line_width\":{\"type\":\"value\",\"value\":3},\"fill_color\":{\"type\":\"value\",\"value\":null},\"fill_alpha\":{\"type\":\"value\",\"value\":0.1},\"hatch_alpha\":{\"type\":\"value\",\"value\":0.1},\"marker\":{\"type\":\"value\",\"value\":\"square_cross\"}}},\"muted_glyph\":{\"type\":\"object\",\"name\":\"Scatter\",\"id\":\"p1732\",\"attributes\":{\"x\":{\"type\":\"field\",\"field\":\"x\"},\"y\":{\"type\":\"field\",\"field\":\"y\"},\"size\":{\"type\":\"field\",\"field\":\"size\"},\"line_color\":{\"type\":\"value\",\"value\":\"lightblue\"},\"line_alpha\":{\"type\":\"value\",\"value\":0.2},\"line_width\":{\"type\":\"value\",\"value\":3},\"fill_color\":{\"type\":\"value\",\"value\":null},\"fill_alpha\":{\"type\":\"value\",\"value\":0.2},\"hatch_alpha\":{\"type\":\"value\",\"value\":0.2},\"marker\":{\"type\":\"value\",\"value\":\"square_cross\"}}}}}],\"toolbar\":{\"type\":\"object\",\"name\":\"Toolbar\",\"id\":\"p1620\",\"attributes\":{\"tools\":[{\"type\":\"object\",\"name\":\"PanTool\",\"id\":\"p1635\"},{\"type\":\"object\",\"name\":\"WheelZoomTool\",\"id\":\"p1636\",\"attributes\":{\"renderers\":\"auto\"}},{\"type\":\"object\",\"name\":\"BoxZoomTool\",\"id\":\"p1637\",\"attributes\":{\"overlay\":{\"type\":\"object\",\"name\":\"BoxAnnotation\",\"id\":\"p1638\",\"attributes\":{\"syncable\":false,\"line_color\":\"black\",\"line_alpha\":1.0,\"line_width\":2,\"line_dash\":[4,4],\"fill_color\":\"lightgrey\",\"fill_alpha\":0.5,\"level\":\"overlay\",\"visible\":false,\"left\":{\"type\":\"number\",\"value\":\"nan\"},\"right\":{\"type\":\"number\",\"value\":\"nan\"},\"top\":{\"type\":\"number\",\"value\":\"nan\"},\"bottom\":{\"type\":\"number\",\"value\":\"nan\"},\"left_units\":\"canvas\",\"right_units\":\"canvas\",\"top_units\":\"canvas\",\"bottom_units\":\"canvas\",\"handles\":{\"type\":\"object\",\"name\":\"BoxInteractionHandles\",\"id\":\"p1644\",\"attributes\":{\"all\":{\"type\":\"object\",\"name\":\"AreaVisuals\",\"id\":\"p1643\",\"attributes\":{\"fill_color\":\"white\",\"hover_fill_color\":\"lightgray\"}}}}}}}},{\"type\":\"object\",\"name\":\"SaveTool\",\"id\":\"p1645\"},{\"type\":\"object\",\"name\":\"ResetTool\",\"id\":\"p1646\"},{\"type\":\"object\",\"name\":\"HelpTool\",\"id\":\"p1647\"},{\"type\":\"object\",\"name\":\"HoverTool\",\"id\":\"p1679\",\"attributes\":{\"renderers\":\"auto\",\"tooltips\":[[\"Y-val\",\"@y{0.00}\"]]}}]}},\"left\":[{\"type\":\"object\",\"name\":\"LinearAxis\",\"id\":\"p1630\",\"attributes\":{\"ticker\":{\"type\":\"object\",\"name\":\"BasicTicker\",\"id\":\"p1631\",\"attributes\":{\"mantissas\":[1,2,5]}},\"formatter\":{\"type\":\"object\",\"name\":\"BasicTickFormatter\",\"id\":\"p1632\"},\"axis_label\":\"km/h\",\"axis_label_standoff\":10,\"axis_label_text_color\":\"#E0E0E0\",\"axis_label_text_font\":\"Helvetica\",\"axis_label_text_font_size\":\"1.25em\",\"axis_label_text_font_style\":\"normal\",\"major_label_policy\":{\"type\":\"object\",\"name\":\"AllLabels\",\"id\":\"p1633\"},\"major_label_text_color\":\"#E0E0E0\",\"major_label_text_font\":\"Helvetica\",\"major_label_text_font_size\":\"1.025em\",\"axis_line_color\":\"#E0E0E0\",\"axis_line_alpha\":0,\"major_tick_line_color\":\"#E0E0E0\",\"major_tick_line_alpha\":0,\"minor_tick_line_color\":\"#E0E0E0\",\"minor_tick_line_alpha\":0}},{\"type\":\"object\",\"name\":\"LinearAxis\",\"id\":\"p1650\",\"attributes\":{\"y_range_name\":\"altitudeFt\",\"ticker\":{\"type\":\"object\",\"name\":\"BasicTicker\",\"id\":\"p1651\",\"attributes\":{\"mantissas\":[1,2,5]}},\"formatter\":{\"type\":\"object\",\"name\":\"BasicTickFormatter\",\"id\":\"p1652\"},\"axis_label\":\"Alt (ft)\",\"axis_label_standoff\":10,\"axis_label_text_color\":\"#E0E0E0\",\"axis_label_text_font\":\"Helvetica\",\"axis_label_text_font_size\":\"1.25em\",\"axis_label_text_font_style\":\"normal\",\"major_label_policy\":{\"type\":\"object\",\"name\":\"AllLabels\",\"id\":\"p1653\"},\"major_label_text_color\":\"#E0E0E0\",\"major_label_text_font\":\"Helvetica\",\"major_label_text_font_size\":\"1.025em\",\"axis_line_color\":\"#E0E0E0\",\"axis_line_alpha\":0,\"major_tick_line_color\":\"#E0E0E0\",\"major_tick_line_alpha\":0,\"minor_tick_line_color\":\"#E0E0E0\",\"minor_tick_line_alpha\":0}},{\"type\":\"object\",\"name\":\"LinearAxis\",\"id\":\"p1654\",\"attributes\":{\"y_range_name\":\"angle\",\"ticker\":{\"type\":\"object\",\"name\":\"BasicTicker\",\"id\":\"p1655\",\"attributes\":{\"mantissas\":[1,2,5]}},\"formatter\":{\"type\":\"object\",\"name\":\"BasicTickFormatter\",\"id\":\"p1656\"},\"axis_label\":\"angle\",\"axis_label_standoff\":10,\"axis_label_text_color\":\"#E0E0E0\",\"axis_label_text_font\":\"Helvetica\",\"axis_label_text_font_size\":\"1.25em\",\"axis_label_text_font_style\":\"normal\",\"major_label_policy\":{\"type\":\"object\",\"name\":\"AllLabels\",\"id\":\"p1657\"},\"major_label_text_color\":\"#E0E0E0\",\"major_label_text_font\":\"Helvetica\",\"major_label_text_font_size\":\"1.025em\",\"axis_line_color\":\"#E0E0E0\",\"axis_line_alpha\":0,\"major_tick_line_color\":\"#E0E0E0\",\"major_tick_line_alpha\":0,\"minor_tick_line_color\":\"#E0E0E0\",\"minor_tick_line_alpha\":0}}],\"below\":[{\"type\":\"object\",\"name\":\"LinearAxis\",\"id\":\"p1625\",\"attributes\":{\"ticker\":{\"type\":\"object\",\"name\":\"BasicTicker\",\"id\":\"p1626\",\"attributes\":{\"mantissas\":[1,2,5]}},\"formatter\":{\"type\":\"object\",\"name\":\"BasicTickFormatter\",\"id\":\"p1627\"},\"axis_label\":\"seconds from exit\",\"axis_label_standoff\":10,\"axis_label_text_color\":\"#E0E0E0\",\"axis_label_text_font\":\"Helvetica\",\"axis_label_text_font_size\":\"1.25em\",\"axis_label_text_font_style\":\"normal\",\"major_label_policy\":{\"type\":\"object\",\"name\":\"AllLabels\",\"id\":\"p1628\"},\"major_label_text_color\":\"#E0E0E0\",\"major_label_text_font\":\"Helvetica\",\"major_label_text_font_size\":\"1.025em\",\"axis_line_color\":\"#E0E0E0\",\"axis_line_alpha\":0,\"major_tick_line_color\":\"#E0E0E0\",\"major_tick_line_alpha\":0,\"minor_tick_line_color\":\"#E0E0E0\",\"minor_tick_line_alpha\":0}}],\"center\":[{\"type\":\"object\",\"name\":\"Grid\",\"id\":\"p1629\",\"attributes\":{\"axis\":{\"id\":\"p1625\"},\"grid_line_color\":\"#E0E0E0\",\"grid_line_alpha\":0.25}},{\"type\":\"object\",\"name\":\"Grid\",\"id\":\"p1634\",\"attributes\":{\"dimension\":1,\"axis\":{\"id\":\"p1630\"},\"grid_line_color\":\"#E0E0E0\",\"grid_line_alpha\":0.25}},{\"type\":\"object\",\"name\":\"Legend\",\"id\":\"p1667\",\"attributes\":{\"border_line_alpha\":0,\"background_fill_color\":\"#20262B\",\"background_fill_alpha\":0.25,\"label_text_color\":\"#E0E0E0\",\"label_text_font\":\"Helvetica\",\"label_text_font_size\":\"1.025em\",\"label_standoff\":8,\"glyph_width\":15,\"spacing\":8,\"items\":[{\"type\":\"object\",\"name\":\"LegendItem\",\"id\":\"p1668\",\"attributes\":{\"label\":{\"type\":\"value\",\"value\":\"Alt (ft)\"},\"renderers\":[{\"id\":\"p1664\"}]}},{\"type\":\"object\",\"name\":\"LegendItem\",\"id\":\"p1678\",\"attributes\":{\"label\":{\"type\":\"value\",\"value\":\"angle\"},\"renderers\":[{\"id\":\"p1675\"}]}},{\"type\":\"object\",\"name\":\"LegendItem\",\"id\":\"p1689\",\"attributes\":{\"label\":{\"type\":\"value\",\"value\":\"speed\"},\"renderers\":[{\"id\":\"p1686\"}]}},{\"type\":\"object\",\"name\":\"LegendItem\",\"id\":\"p1699\",\"attributes\":{\"label\":{\"type\":\"value\",\"value\":\"H-speed\"},\"renderers\":[{\"id\":\"p1696\"}]}}]}}],\"background_fill_color\":\"#20262B\",\"border_fill_color\":\"#15191C\"}}]}};\n",
       "  const render_items = [{\"docid\":\"81b4cff8-1ef0-4856-8941-dac5d6d1749a\",\"roots\":{\"p1611\":\"c57d502e-5f64-4647-ad8e-1241edd8d21c\"},\"root_ids\":[\"p1611\"]}];\n",
       "  void root.Bokeh.embed.embed_items_notebook(docs_json, render_items);\n",
       "  }\n",
       "  if (root.Bokeh !== undefined) {\n",
       "    embed_document(root);\n",
       "  } else {\n",
       "    let attempts = 0;\n",
       "    const timer = setInterval(function(root) {\n",
       "      if (root.Bokeh !== undefined) {\n",
       "        clearInterval(timer);\n",
       "        embed_document(root);\n",
       "      } else {\n",
       "        attempts++;\n",
       "        if (attempts > 100) {\n",
       "          clearInterval(timer);\n",
       "          console.log(\"Bokeh: ERROR: Unable to run BokehJS code because BokehJS library is missing\");\n",
       "        }\n",
       "      }\n",
       "    }, 10, root)\n",
       "  }\n",
       "})(window);"
      ],
      "application/vnd.bokehjs_exec.v0+json": ""
     },
     "metadata": {
      "application/vnd.bokehjs_exec.v0+json": {
       "id": "p1611"
      }
     },
     "output_type": "display_data"
    },
    {
     "data": {
      "application/vnd.jupyter.widget-view+json": {
       "model_id": "e6feb57d22c04578b0eba769cfbf99fa",
       "version_major": 2,
       "version_minor": 0
      },
      "text/plain": [
       "HTML(value='<hr><h1><span style=\"color: #0f0\">18-07-42-08 jump - 🟢 valid - score = 478.16 km/h</span></h1>')"
      ]
     },
     "metadata": {},
     "output_type": "display_data"
    },
    {
     "data": {
      "application/vnd.jupyter.widget-view+json": {
       "model_id": "acab838c1e2249109fd03d89c12b5df3",
       "version_major": 2,
       "version_minor": 0
      },
      "text/plain": [
       "HTML(value='<h3>Max speed = 481; exit at 4095 m (13437 ft), end scoring window at 1839 m (6035 ft)')"
      ]
     },
     "metadata": {},
     "output_type": "display_data"
    },
    {
     "data": {
      "application/vnd.jupyter.widget-view+json": {
       "model_id": "cd207aef6b6c459b8c2155f6ce793f77",
       "version_major": 2,
       "version_minor": 0
      },
      "text/plain": [
       "HTML(value='</h3>')"
      ]
     },
     "metadata": {},
     "output_type": "display_data"
    },
    {
     "data": {
      "text/html": [
       "<div>\n",
       "<style scoped>\n",
       "    .dataframe tbody tr th:only-of-type {\n",
       "        vertical-align: middle;\n",
       "    }\n",
       "\n",
       "    .dataframe tbody tr th {\n",
       "        vertical-align: top;\n",
       "    }\n",
       "\n",
       "    .dataframe thead th {\n",
       "        text-align: right;\n",
       "    }\n",
       "</style>\n",
       "<table border=\"1\" class=\"dataframe\">\n",
       "  <thead>\n",
       "    <tr style=\"text-align: right;\">\n",
       "      <th></th>\n",
       "      <th>time</th>\n",
       "      <th>vKMh</th>\n",
       "      <th>hKMh</th>\n",
       "      <th>speedAngle</th>\n",
       "      <th>distanceFromExit</th>\n",
       "      <th>altitude (ft)</th>\n",
       "      <th>netVectorKMh</th>\n",
       "    </tr>\n",
       "  </thead>\n",
       "  <tbody>\n",
       "    <tr>\n",
       "      <th></th>\n",
       "      <td>5.0</td>\n",
       "      <td>186</td>\n",
       "      <td>172</td>\n",
       "      <td>47.3</td>\n",
       "      <td>267.500000</td>\n",
       "      <td>12961</td>\n",
       "      <td>253</td>\n",
       "    </tr>\n",
       "    <tr>\n",
       "      <th></th>\n",
       "      <td>10.0</td>\n",
       "      <td>333</td>\n",
       "      <td>119</td>\n",
       "      <td>70.3</td>\n",
       "      <td>465.200000</td>\n",
       "      <td>11746</td>\n",
       "      <td>354</td>\n",
       "    </tr>\n",
       "    <tr>\n",
       "      <th></th>\n",
       "      <td>15.0</td>\n",
       "      <td>426</td>\n",
       "      <td>61</td>\n",
       "      <td>81.9</td>\n",
       "      <td>590.600000</td>\n",
       "      <td>9972</td>\n",
       "      <td>430</td>\n",
       "    </tr>\n",
       "    <tr>\n",
       "      <th></th>\n",
       "      <td>20.0</td>\n",
       "      <td>469</td>\n",
       "      <td>15</td>\n",
       "      <td>88.2</td>\n",
       "      <td>629.700000</td>\n",
       "      <td>7898</td>\n",
       "      <td>470</td>\n",
       "    </tr>\n",
       "    <tr>\n",
       "      <th></th>\n",
       "      <td>25.0</td>\n",
       "      <td>477</td>\n",
       "      <td>17</td>\n",
       "      <td>88.0</td>\n",
       "      <td>608.515423</td>\n",
       "      <td>6059</td>\n",
       "      <td>478</td>\n",
       "    </tr>\n",
       "  </tbody>\n",
       "</table>\n",
       "</div>"
      ],
      "text/plain": [
       "  time  vKMh  hKMh  speedAngle  distanceFromExit  altitude (ft)  netVectorKMh\n",
       "   5.0   186   172        47.3        267.500000          12961           253\n",
       "  10.0   333   119        70.3        465.200000          11746           354\n",
       "  15.0   426    61        81.9        590.600000           9972           430\n",
       "  20.0   469    15        88.2        629.700000           7898           470\n",
       "  25.0   477    17        88.0        608.515423           6059           478"
      ]
     },
     "metadata": {},
     "output_type": "display_data"
    },
    {
     "data": {
      "text/html": [
       "\n",
       "  <div id=\"b43b7871-c9ba-4d49-b800-46e7707705aa\" data-root-id=\"p1754\" style=\"display: contents;\"></div>\n"
      ]
     },
     "metadata": {},
     "output_type": "display_data"
    },
    {
     "data": {
      "application/javascript": [
       "(function(root) {\n",
       "  function embed_document(root) {\n",
       "  const docs_json = {\"ff801c7c-9828-44a8-a352-c4facfabc267\":{\"version\":\"3.5.2\",\"title\":\"Bokeh Application\",\"roots\":[{\"type\":\"object\",\"name\":\"Figure\",\"id\":\"p1754\",\"attributes\":{\"width\":900,\"height\":500,\"x_range\":{\"type\":\"object\",\"name\":\"Range1d\",\"id\":\"p1764\",\"attributes\":{\"end\":35.0}},\"y_range\":{\"type\":\"object\",\"name\":\"Range1d\",\"id\":\"p1765\",\"attributes\":{\"end\":550.0}},\"x_scale\":{\"type\":\"object\",\"name\":\"LinearScale\",\"id\":\"p1766\"},\"y_scale\":{\"type\":\"object\",\"name\":\"LinearScale\",\"id\":\"p1767\"},\"extra_y_ranges\":{\"type\":\"map\",\"entries\":[[\"altitudeFt\",{\"type\":\"object\",\"name\":\"Range1d\",\"id\":\"p1791\",\"attributes\":{\"start\":5558.9982152,\"end\":13937.291040000002}}],[\"angle\",{\"type\":\"object\",\"name\":\"Range1d\",\"id\":\"p1792\",\"attributes\":{\"end\":90.0}}]]},\"title\":{\"type\":\"object\",\"name\":\"Title\",\"id\":\"p1757\",\"attributes\":{\"text\":\"18-07-42-08\",\"text_color\":\"#E0E0E0\",\"text_font\":\"Helvetica\",\"text_font_size\":\"1.15em\"}},\"outline_line_color\":\"#E0E0E0\",\"outline_line_alpha\":0.25,\"renderers\":[{\"type\":\"object\",\"name\":\"GlyphRenderer\",\"id\":\"p1807\",\"attributes\":{\"y_range_name\":\"altitudeFt\",\"data_source\":{\"type\":\"object\",\"name\":\"ColumnDataSource\",\"id\":\"p1801\",\"attributes\":{\"selected\":{\"type\":\"object\",\"name\":\"Selection\",\"id\":\"p1802\",\"attributes\":{\"indices\":[],\"line_indices\":[]}},\"selection_policy\":{\"type\":\"object\",\"name\":\"UnionRenderers\",\"id\":\"p1803\"},\"data\":{\"type\":\"map\",\"entries\":[[\"x\",{\"type\":\"ndarray\",\"array\":{\"type\":\"bytes\",\"data\":\"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\"},\"shape\":[202],\"dtype\":\"float64\",\"order\":\"little\"}],[\"y\",{\"type\":\"ndarray\",\"array\":{\"type\":\"bytes\",\"data\":\"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\"},\"shape\":[202],\"dtype\":\"float64\",\"order\":\"little\"}]]}}},\"view\":{\"type\":\"object\",\"name\":\"CDSView\",\"id\":\"p1808\",\"attributes\":{\"filter\":{\"type\":\"object\",\"name\":\"AllIndices\",\"id\":\"p1809\"}}},\"glyph\":{\"type\":\"object\",\"name\":\"Line\",\"id\":\"p1804\",\"attributes\":{\"x\":{\"type\":\"field\",\"field\":\"x\"},\"y\":{\"type\":\"field\",\"field\":\"y\"},\"line_color\":\"palegoldenrod\",\"line_width\":2}},\"nonselection_glyph\":{\"type\":\"object\",\"name\":\"Line\",\"id\":\"p1805\",\"attributes\":{\"x\":{\"type\":\"field\",\"field\":\"x\"},\"y\":{\"type\":\"field\",\"field\":\"y\"},\"line_color\":\"palegoldenrod\",\"line_alpha\":0.1,\"line_width\":2}},\"muted_glyph\":{\"type\":\"object\",\"name\":\"Line\",\"id\":\"p1806\",\"attributes\":{\"x\":{\"type\":\"field\",\"field\":\"x\"},\"y\":{\"type\":\"field\",\"field\":\"y\"},\"line_color\":\"palegoldenrod\",\"line_alpha\":0.2,\"line_width\":2}}}},{\"type\":\"object\",\"name\":\"GlyphRenderer\",\"id\":\"p1818\",\"attributes\":{\"y_range_name\":\"angle\",\"data_source\":{\"type\":\"object\",\"name\":\"ColumnDataSource\",\"id\":\"p1812\",\"attributes\":{\"selected\":{\"type\":\"object\",\"name\":\"Selection\",\"id\":\"p1813\",\"attributes\":{\"indices\":[],\"line_indices\":[]}},\"selection_policy\":{\"type\":\"object\",\"name\":\"UnionRenderers\",\"id\":\"p1814\"},\"data\":{\"type\":\"map\",\"entries\":[[\"x\",{\"type\":\"ndarray\",\"array\":{\"type\":\"bytes\",\"data\":\"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\"},\"shape\":[202],\"dtype\":\"float64\",\"order\":\"little\"}],[\"y\",{\"type\":\"ndarray\",\"array\":{\"type\":\"bytes\",\"data\":\"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\"},\"shape\":[202],\"dtype\":\"float64\",\"order\":\"little\"}]]}}},\"view\":{\"type\":\"object\",\"name\":\"CDSView\",\"id\":\"p1819\",\"attributes\":{\"filter\":{\"type\":\"object\",\"name\":\"AllIndices\",\"id\":\"p1820\"}}},\"glyph\":{\"type\":\"object\",\"name\":\"Line\",\"id\":\"p1815\",\"attributes\":{\"x\":{\"type\":\"field\",\"field\":\"x\"},\"y\":{\"type\":\"field\",\"field\":\"y\"},\"line_color\":\"deepskyblue\",\"line_width\":2}},\"nonselection_glyph\":{\"type\":\"object\",\"name\":\"Line\",\"id\":\"p1816\",\"attributes\":{\"x\":{\"type\":\"field\",\"field\":\"x\"},\"y\":{\"type\":\"field\",\"field\":\"y\"},\"line_color\":\"deepskyblue\",\"line_alpha\":0.1,\"line_width\":2}},\"muted_glyph\":{\"type\":\"object\",\"name\":\"Line\",\"id\":\"p1817\",\"attributes\":{\"x\":{\"type\":\"field\",\"field\":\"x\"},\"y\":{\"type\":\"field\",\"field\":\"y\"},\"line_color\":\"deepskyblue\",\"line_alpha\":0.2,\"line_width\":2}}}},{\"type\":\"object\",\"name\":\"GlyphRenderer\",\"id\":\"p1829\",\"attributes\":{\"data_source\":{\"type\":\"object\",\"name\":\"ColumnDataSource\",\"id\":\"p1823\",\"attributes\":{\"selected\":{\"type\":\"object\",\"name\":\"Selection\",\"id\":\"p1824\",\"attributes\":{\"indices\":[],\"line_indices\":[]}},\"selection_policy\":{\"type\":\"object\",\"name\":\"UnionRenderers\",\"id\":\"p1825\"},\"data\":{\"type\":\"map\",\"entries\":[[\"x\",{\"type\":\"ndarray\",\"array\":{\"type\":\"bytes\",\"data\":\"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\"},\"shape\":[202],\"dtype\":\"float64\",\"order\":\"little\"}],[\"y\",{\"type\":\"ndarray\",\"array\":{\"type\":\"bytes\",\"data\":\"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\"},\"shape\":[202],\"dtype\":\"float64\",\"order\":\"little\"}]]}}},\"view\":{\"type\":\"object\",\"name\":\"CDSView\",\"id\":\"p1830\",\"attributes\":{\"filter\":{\"type\":\"object\",\"name\":\"AllIndices\",\"id\":\"p1831\"}}},\"glyph\":{\"type\":\"object\",\"name\":\"Line\",\"id\":\"p1826\",\"attributes\":{\"x\":{\"type\":\"field\",\"field\":\"x\"},\"y\":{\"type\":\"field\",\"field\":\"y\"},\"line_color\":\"limegreen\",\"line_width\":2}},\"nonselection_glyph\":{\"type\":\"object\",\"name\":\"Line\",\"id\":\"p1827\",\"attributes\":{\"x\":{\"type\":\"field\",\"field\":\"x\"},\"y\":{\"type\":\"field\",\"field\":\"y\"},\"line_color\":\"limegreen\",\"line_alpha\":0.1,\"line_width\":2}},\"muted_glyph\":{\"type\":\"object\",\"name\":\"Line\",\"id\":\"p1828\",\"attributes\":{\"x\":{\"type\":\"field\",\"field\":\"x\"},\"y\":{\"type\":\"field\",\"field\":\"y\"},\"line_color\":\"limegreen\",\"line_alpha\":0.2,\"line_width\":2}}}},{\"type\":\"object\",\"name\":\"GlyphRenderer\",\"id\":\"p1839\",\"attributes\":{\"data_source\":{\"type\":\"object\",\"name\":\"ColumnDataSource\",\"id\":\"p1833\",\"attributes\":{\"selected\":{\"type\":\"object\",\"name\":\"Selection\",\"id\":\"p1834\",\"attributes\":{\"indices\":[],\"line_indices\":[]}},\"selection_policy\":{\"type\":\"object\",\"name\":\"UnionRenderers\",\"id\":\"p1835\"},\"data\":{\"type\":\"map\",\"entries\":[[\"x\",{\"type\":\"ndarray\",\"array\":{\"type\":\"bytes\",\"data\":\"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\"},\"shape\":[202],\"dtype\":\"float64\",\"order\":\"little\"}],[\"y\",{\"type\":\"ndarray\",\"array\":{\"type\":\"bytes\",\"data\":\"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\"},\"shape\":[202],\"dtype\":\"float64\",\"order\":\"little\"}]]}}},\"view\":{\"type\":\"object\",\"name\":\"CDSView\",\"id\":\"p1840\",\"attributes\":{\"filter\":{\"type\":\"object\",\"name\":\"AllIndices\",\"id\":\"p1841\"}}},\"glyph\":{\"type\":\"object\",\"name\":\"Line\",\"id\":\"p1836\",\"attributes\":{\"x\":{\"type\":\"field\",\"field\":\"x\"},\"y\":{\"type\":\"field\",\"field\":\"y\"},\"line_color\":\"red\",\"line_width\":2}},\"nonselection_glyph\":{\"type\":\"object\",\"name\":\"Line\",\"id\":\"p1837\",\"attributes\":{\"x\":{\"type\":\"field\",\"field\":\"x\"},\"y\":{\"type\":\"field\",\"field\":\"y\"},\"line_color\":\"red\",\"line_alpha\":0.1,\"line_width\":2}},\"muted_glyph\":{\"type\":\"object\",\"name\":\"Line\",\"id\":\"p1838\",\"attributes\":{\"x\":{\"type\":\"field\",\"field\":\"x\"},\"y\":{\"type\":\"field\",\"field\":\"y\"},\"line_color\":\"red\",\"line_alpha\":0.2,\"line_width\":2}}}},{\"type\":\"object\",\"name\":\"GlyphRenderer\",\"id\":\"p1849\",\"attributes\":{\"data_source\":{\"type\":\"object\",\"name\":\"ColumnDataSource\",\"id\":\"p1843\",\"attributes\":{\"selected\":{\"type\":\"object\",\"name\":\"Selection\",\"id\":\"p1844\",\"attributes\":{\"indices\":[],\"line_indices\":[]}},\"selection_policy\":{\"type\":\"object\",\"name\":\"UnionRenderers\",\"id\":\"p1845\"},\"data\":{\"type\":\"map\",\"entries\":[[\"x0\",[24.199999809265137]],[\"y0\",[0.0]],[\"x1\",[24.199999809265137]],[\"y1\",[478.16064]]]}}},\"view\":{\"type\":\"object\",\"name\":\"CDSView\",\"id\":\"p1850\",\"attributes\":{\"filter\":{\"type\":\"object\",\"name\":\"AllIndices\",\"id\":\"p1851\"}}},\"glyph\":{\"type\":\"object\",\"name\":\"Segment\",\"id\":\"p1846\",\"attributes\":{\"x0\":{\"type\":\"field\",\"field\":\"x0\"},\"y0\":{\"type\":\"field\",\"field\":\"y0\"},\"x1\":{\"type\":\"field\",\"field\":\"x1\"},\"y1\":{\"type\":\"field\",\"field\":\"y1\"},\"line_color\":{\"type\":\"value\",\"value\":\"lightblue\"},\"line_width\":{\"type\":\"value\",\"value\":3}}},\"nonselection_glyph\":{\"type\":\"object\",\"name\":\"Segment\",\"id\":\"p1847\",\"attributes\":{\"x0\":{\"type\":\"field\",\"field\":\"x0\"},\"y0\":{\"type\":\"field\",\"field\":\"y0\"},\"x1\":{\"type\":\"field\",\"field\":\"x1\"},\"y1\":{\"type\":\"field\",\"field\":\"y1\"},\"line_color\":{\"type\":\"value\",\"value\":\"lightblue\"},\"line_alpha\":{\"type\":\"value\",\"value\":0.1},\"line_width\":{\"type\":\"value\",\"value\":3}}},\"muted_glyph\":{\"type\":\"object\",\"name\":\"Segment\",\"id\":\"p1848\",\"attributes\":{\"x0\":{\"type\":\"field\",\"field\":\"x0\"},\"y0\":{\"type\":\"field\",\"field\":\"y0\"},\"x1\":{\"type\":\"field\",\"field\":\"x1\"},\"y1\":{\"type\":\"field\",\"field\":\"y1\"},\"line_color\":{\"type\":\"value\",\"value\":\"lightblue\"},\"line_alpha\":{\"type\":\"value\",\"value\":0.2},\"line_width\":{\"type\":\"value\",\"value\":3}}}}},{\"type\":\"object\",\"name\":\"GlyphRenderer\",\"id\":\"p1858\",\"attributes\":{\"data_source\":{\"type\":\"object\",\"name\":\"ColumnDataSource\",\"id\":\"p1852\",\"attributes\":{\"selected\":{\"type\":\"object\",\"name\":\"Selection\",\"id\":\"p1853\",\"attributes\":{\"indices\":[],\"line_indices\":[]}},\"selection_policy\":{\"type\":\"object\",\"name\":\"UnionRenderers\",\"id\":\"p1854\"},\"data\":{\"type\":\"map\",\"entries\":[[\"x0\",[25.699999809265137]],[\"y0\",[0.0]],[\"x1\",[25.699999809265137]],[\"y1\",[478.16064]]]}}},\"view\":{\"type\":\"object\",\"name\":\"CDSView\",\"id\":\"p1859\",\"attributes\":{\"filter\":{\"type\":\"object\",\"name\":\"AllIndices\",\"id\":\"p1860\"}}},\"glyph\":{\"type\":\"object\",\"name\":\"Segment\",\"id\":\"p1855\",\"attributes\":{\"x0\":{\"type\":\"field\",\"field\":\"x0\"},\"y0\":{\"type\":\"field\",\"field\":\"y0\"},\"x1\":{\"type\":\"field\",\"field\":\"x1\"},\"y1\":{\"type\":\"field\",\"field\":\"y1\"},\"line_color\":{\"type\":\"value\",\"value\":\"darkseagreen\"}}},\"nonselection_glyph\":{\"type\":\"object\",\"name\":\"Segment\",\"id\":\"p1856\",\"attributes\":{\"x0\":{\"type\":\"field\",\"field\":\"x0\"},\"y0\":{\"type\":\"field\",\"field\":\"y0\"},\"x1\":{\"type\":\"field\",\"field\":\"x1\"},\"y1\":{\"type\":\"field\",\"field\":\"y1\"},\"line_color\":{\"type\":\"value\",\"value\":\"darkseagreen\"},\"line_alpha\":{\"type\":\"value\",\"value\":0.1}}},\"muted_glyph\":{\"type\":\"object\",\"name\":\"Segment\",\"id\":\"p1857\",\"attributes\":{\"x0\":{\"type\":\"field\",\"field\":\"x0\"},\"y0\":{\"type\":\"field\",\"field\":\"y0\"},\"x1\":{\"type\":\"field\",\"field\":\"x1\"},\"y1\":{\"type\":\"field\",\"field\":\"y1\"},\"line_color\":{\"type\":\"value\",\"value\":\"darkseagreen\"},\"line_alpha\":{\"type\":\"value\",\"value\":0.2}}}}},{\"type\":\"object\",\"name\":\"GlyphRenderer\",\"id\":\"p1867\",\"attributes\":{\"data_source\":{\"type\":\"object\",\"name\":\"ColumnDataSource\",\"id\":\"p1861\",\"attributes\":{\"selected\":{\"type\":\"object\",\"name\":\"Selection\",\"id\":\"p1862\",\"attributes\":{\"indices\":[],\"line_indices\":[]}},\"selection_policy\":{\"type\":\"object\",\"name\":\"UnionRenderers\",\"id\":\"p1863\"},\"data\":{\"type\":\"map\",\"entries\":[[\"x0\",[22.699999809265137]],[\"y0\",[0.0]],[\"x1\",[22.699999809265137]],[\"y1\",[478.16064]]]}}},\"view\":{\"type\":\"object\",\"name\":\"CDSView\",\"id\":\"p1868\",\"attributes\":{\"filter\":{\"type\":\"object\",\"name\":\"AllIndices\",\"id\":\"p1869\"}}},\"glyph\":{\"type\":\"object\",\"name\":\"Segment\",\"id\":\"p1864\",\"attributes\":{\"x0\":{\"type\":\"field\",\"field\":\"x0\"},\"y0\":{\"type\":\"field\",\"field\":\"y0\"},\"x1\":{\"type\":\"field\",\"field\":\"x1\"},\"y1\":{\"type\":\"field\",\"field\":\"y1\"},\"line_color\":{\"type\":\"value\",\"value\":\"darkseagreen\"}}},\"nonselection_glyph\":{\"type\":\"object\",\"name\":\"Segment\",\"id\":\"p1865\",\"attributes\":{\"x0\":{\"type\":\"field\",\"field\":\"x0\"},\"y0\":{\"type\":\"field\",\"field\":\"y0\"},\"x1\":{\"type\":\"field\",\"field\":\"x1\"},\"y1\":{\"type\":\"field\",\"field\":\"y1\"},\"line_color\":{\"type\":\"value\",\"value\":\"darkseagreen\"},\"line_alpha\":{\"type\":\"value\",\"value\":0.1}}},\"muted_glyph\":{\"type\":\"object\",\"name\":\"Segment\",\"id\":\"p1866\",\"attributes\":{\"x0\":{\"type\":\"field\",\"field\":\"x0\"},\"y0\":{\"type\":\"field\",\"field\":\"y0\"},\"x1\":{\"type\":\"field\",\"field\":\"x1\"},\"y1\":{\"type\":\"field\",\"field\":\"y1\"},\"line_color\":{\"type\":\"value\",\"value\":\"darkseagreen\"},\"line_alpha\":{\"type\":\"value\",\"value\":0.2}}}}},{\"type\":\"object\",\"name\":\"GlyphRenderer\",\"id\":\"p1876\",\"attributes\":{\"data_source\":{\"type\":\"object\",\"name\":\"ColumnDataSource\",\"id\":\"p1870\",\"attributes\":{\"selected\":{\"type\":\"object\",\"name\":\"Selection\",\"id\":\"p1871\",\"attributes\":{\"indices\":[],\"line_indices\":[]}},\"selection_policy\":{\"type\":\"object\",\"name\":\"UnionRenderers\",\"id\":\"p1872\"},\"data\":{\"type\":\"map\",\"entries\":[[\"x\",[24.199999809265137]],[\"y\",[478.16064]],[\"size\",[20]]]}}},\"view\":{\"type\":\"object\",\"name\":\"CDSView\",\"id\":\"p1877\",\"attributes\":{\"filter\":{\"type\":\"object\",\"name\":\"AllIndices\",\"id\":\"p1878\"}}},\"glyph\":{\"type\":\"object\",\"name\":\"Scatter\",\"id\":\"p1873\",\"attributes\":{\"x\":{\"type\":\"field\",\"field\":\"x\"},\"y\":{\"type\":\"field\",\"field\":\"y\"},\"size\":{\"type\":\"field\",\"field\":\"size\"},\"line_color\":{\"type\":\"value\",\"value\":\"lightblue\"},\"line_width\":{\"type\":\"value\",\"value\":3},\"fill_color\":{\"type\":\"value\",\"value\":null},\"marker\":{\"type\":\"value\",\"value\":\"square_cross\"}}},\"nonselection_glyph\":{\"type\":\"object\",\"name\":\"Scatter\",\"id\":\"p1874\",\"attributes\":{\"x\":{\"type\":\"field\",\"field\":\"x\"},\"y\":{\"type\":\"field\",\"field\":\"y\"},\"size\":{\"type\":\"field\",\"field\":\"size\"},\"line_color\":{\"type\":\"value\",\"value\":\"lightblue\"},\"line_alpha\":{\"type\":\"value\",\"value\":0.1},\"line_width\":{\"type\":\"value\",\"value\":3},\"fill_color\":{\"type\":\"value\",\"value\":null},\"fill_alpha\":{\"type\":\"value\",\"value\":0.1},\"hatch_alpha\":{\"type\":\"value\",\"value\":0.1},\"marker\":{\"type\":\"value\",\"value\":\"square_cross\"}}},\"muted_glyph\":{\"type\":\"object\",\"name\":\"Scatter\",\"id\":\"p1875\",\"attributes\":{\"x\":{\"type\":\"field\",\"field\":\"x\"},\"y\":{\"type\":\"field\",\"field\":\"y\"},\"size\":{\"type\":\"field\",\"field\":\"size\"},\"line_color\":{\"type\":\"value\",\"value\":\"lightblue\"},\"line_alpha\":{\"type\":\"value\",\"value\":0.2},\"line_width\":{\"type\":\"value\",\"value\":3},\"fill_color\":{\"type\":\"value\",\"value\":null},\"fill_alpha\":{\"type\":\"value\",\"value\":0.2},\"hatch_alpha\":{\"type\":\"value\",\"value\":0.2},\"marker\":{\"type\":\"value\",\"value\":\"square_cross\"}}}}}],\"toolbar\":{\"type\":\"object\",\"name\":\"Toolbar\",\"id\":\"p1763\",\"attributes\":{\"tools\":[{\"type\":\"object\",\"name\":\"PanTool\",\"id\":\"p1778\"},{\"type\":\"object\",\"name\":\"WheelZoomTool\",\"id\":\"p1779\",\"attributes\":{\"renderers\":\"auto\"}},{\"type\":\"object\",\"name\":\"BoxZoomTool\",\"id\":\"p1780\",\"attributes\":{\"overlay\":{\"type\":\"object\",\"name\":\"BoxAnnotation\",\"id\":\"p1781\",\"attributes\":{\"syncable\":false,\"line_color\":\"black\",\"line_alpha\":1.0,\"line_width\":2,\"line_dash\":[4,4],\"fill_color\":\"lightgrey\",\"fill_alpha\":0.5,\"level\":\"overlay\",\"visible\":false,\"left\":{\"type\":\"number\",\"value\":\"nan\"},\"right\":{\"type\":\"number\",\"value\":\"nan\"},\"top\":{\"type\":\"number\",\"value\":\"nan\"},\"bottom\":{\"type\":\"number\",\"value\":\"nan\"},\"left_units\":\"canvas\",\"right_units\":\"canvas\",\"top_units\":\"canvas\",\"bottom_units\":\"canvas\",\"handles\":{\"type\":\"object\",\"name\":\"BoxInteractionHandles\",\"id\":\"p1787\",\"attributes\":{\"all\":{\"type\":\"object\",\"name\":\"AreaVisuals\",\"id\":\"p1786\",\"attributes\":{\"fill_color\":\"white\",\"hover_fill_color\":\"lightgray\"}}}}}}}},{\"type\":\"object\",\"name\":\"SaveTool\",\"id\":\"p1788\"},{\"type\":\"object\",\"name\":\"ResetTool\",\"id\":\"p1789\"},{\"type\":\"object\",\"name\":\"HelpTool\",\"id\":\"p1790\"},{\"type\":\"object\",\"name\":\"HoverTool\",\"id\":\"p1822\",\"attributes\":{\"renderers\":\"auto\",\"tooltips\":[[\"Y-val\",\"@y{0.00}\"]]}}]}},\"left\":[{\"type\":\"object\",\"name\":\"LinearAxis\",\"id\":\"p1773\",\"attributes\":{\"ticker\":{\"type\":\"object\",\"name\":\"BasicTicker\",\"id\":\"p1774\",\"attributes\":{\"mantissas\":[1,2,5]}},\"formatter\":{\"type\":\"object\",\"name\":\"BasicTickFormatter\",\"id\":\"p1775\"},\"axis_label\":\"km/h\",\"axis_label_standoff\":10,\"axis_label_text_color\":\"#E0E0E0\",\"axis_label_text_font\":\"Helvetica\",\"axis_label_text_font_size\":\"1.25em\",\"axis_label_text_font_style\":\"normal\",\"major_label_policy\":{\"type\":\"object\",\"name\":\"AllLabels\",\"id\":\"p1776\"},\"major_label_text_color\":\"#E0E0E0\",\"major_label_text_font\":\"Helvetica\",\"major_label_text_font_size\":\"1.025em\",\"axis_line_color\":\"#E0E0E0\",\"axis_line_alpha\":0,\"major_tick_line_color\":\"#E0E0E0\",\"major_tick_line_alpha\":0,\"minor_tick_line_color\":\"#E0E0E0\",\"minor_tick_line_alpha\":0}},{\"type\":\"object\",\"name\":\"LinearAxis\",\"id\":\"p1793\",\"attributes\":{\"y_range_name\":\"altitudeFt\",\"ticker\":{\"type\":\"object\",\"name\":\"BasicTicker\",\"id\":\"p1794\",\"attributes\":{\"mantissas\":[1,2,5]}},\"formatter\":{\"type\":\"object\",\"name\":\"BasicTickFormatter\",\"id\":\"p1795\"},\"axis_label\":\"Alt (ft)\",\"axis_label_standoff\":10,\"axis_label_text_color\":\"#E0E0E0\",\"axis_label_text_font\":\"Helvetica\",\"axis_label_text_font_size\":\"1.25em\",\"axis_label_text_font_style\":\"normal\",\"major_label_policy\":{\"type\":\"object\",\"name\":\"AllLabels\",\"id\":\"p1796\"},\"major_label_text_color\":\"#E0E0E0\",\"major_label_text_font\":\"Helvetica\",\"major_label_text_font_size\":\"1.025em\",\"axis_line_color\":\"#E0E0E0\",\"axis_line_alpha\":0,\"major_tick_line_color\":\"#E0E0E0\",\"major_tick_line_alpha\":0,\"minor_tick_line_color\":\"#E0E0E0\",\"minor_tick_line_alpha\":0}},{\"type\":\"object\",\"name\":\"LinearAxis\",\"id\":\"p1797\",\"attributes\":{\"y_range_name\":\"angle\",\"ticker\":{\"type\":\"object\",\"name\":\"BasicTicker\",\"id\":\"p1798\",\"attributes\":{\"mantissas\":[1,2,5]}},\"formatter\":{\"type\":\"object\",\"name\":\"BasicTickFormatter\",\"id\":\"p1799\"},\"axis_label\":\"angle\",\"axis_label_standoff\":10,\"axis_label_text_color\":\"#E0E0E0\",\"axis_label_text_font\":\"Helvetica\",\"axis_label_text_font_size\":\"1.25em\",\"axis_label_text_font_style\":\"normal\",\"major_label_policy\":{\"type\":\"object\",\"name\":\"AllLabels\",\"id\":\"p1800\"},\"major_label_text_color\":\"#E0E0E0\",\"major_label_text_font\":\"Helvetica\",\"major_label_text_font_size\":\"1.025em\",\"axis_line_color\":\"#E0E0E0\",\"axis_line_alpha\":0,\"major_tick_line_color\":\"#E0E0E0\",\"major_tick_line_alpha\":0,\"minor_tick_line_color\":\"#E0E0E0\",\"minor_tick_line_alpha\":0}}],\"below\":[{\"type\":\"object\",\"name\":\"LinearAxis\",\"id\":\"p1768\",\"attributes\":{\"ticker\":{\"type\":\"object\",\"name\":\"BasicTicker\",\"id\":\"p1769\",\"attributes\":{\"mantissas\":[1,2,5]}},\"formatter\":{\"type\":\"object\",\"name\":\"BasicTickFormatter\",\"id\":\"p1770\"},\"axis_label\":\"seconds from exit\",\"axis_label_standoff\":10,\"axis_label_text_color\":\"#E0E0E0\",\"axis_label_text_font\":\"Helvetica\",\"axis_label_text_font_size\":\"1.25em\",\"axis_label_text_font_style\":\"normal\",\"major_label_policy\":{\"type\":\"object\",\"name\":\"AllLabels\",\"id\":\"p1771\"},\"major_label_text_color\":\"#E0E0E0\",\"major_label_text_font\":\"Helvetica\",\"major_label_text_font_size\":\"1.025em\",\"axis_line_color\":\"#E0E0E0\",\"axis_line_alpha\":0,\"major_tick_line_color\":\"#E0E0E0\",\"major_tick_line_alpha\":0,\"minor_tick_line_color\":\"#E0E0E0\",\"minor_tick_line_alpha\":0}}],\"center\":[{\"type\":\"object\",\"name\":\"Grid\",\"id\":\"p1772\",\"attributes\":{\"axis\":{\"id\":\"p1768\"},\"grid_line_color\":\"#E0E0E0\",\"grid_line_alpha\":0.25}},{\"type\":\"object\",\"name\":\"Grid\",\"id\":\"p1777\",\"attributes\":{\"dimension\":1,\"axis\":{\"id\":\"p1773\"},\"grid_line_color\":\"#E0E0E0\",\"grid_line_alpha\":0.25}},{\"type\":\"object\",\"name\":\"Legend\",\"id\":\"p1810\",\"attributes\":{\"border_line_alpha\":0,\"background_fill_color\":\"#20262B\",\"background_fill_alpha\":0.25,\"label_text_color\":\"#E0E0E0\",\"label_text_font\":\"Helvetica\",\"label_text_font_size\":\"1.025em\",\"label_standoff\":8,\"glyph_width\":15,\"spacing\":8,\"items\":[{\"type\":\"object\",\"name\":\"LegendItem\",\"id\":\"p1811\",\"attributes\":{\"label\":{\"type\":\"value\",\"value\":\"Alt (ft)\"},\"renderers\":[{\"id\":\"p1807\"}]}},{\"type\":\"object\",\"name\":\"LegendItem\",\"id\":\"p1821\",\"attributes\":{\"label\":{\"type\":\"value\",\"value\":\"angle\"},\"renderers\":[{\"id\":\"p1818\"}]}},{\"type\":\"object\",\"name\":\"LegendItem\",\"id\":\"p1832\",\"attributes\":{\"label\":{\"type\":\"value\",\"value\":\"speed\"},\"renderers\":[{\"id\":\"p1829\"}]}},{\"type\":\"object\",\"name\":\"LegendItem\",\"id\":\"p1842\",\"attributes\":{\"label\":{\"type\":\"value\",\"value\":\"H-speed\"},\"renderers\":[{\"id\":\"p1839\"}]}}]}}],\"background_fill_color\":\"#20262B\",\"border_fill_color\":\"#15191C\"}}]}};\n",
       "  const render_items = [{\"docid\":\"ff801c7c-9828-44a8-a352-c4facfabc267\",\"roots\":{\"p1754\":\"b43b7871-c9ba-4d49-b800-46e7707705aa\"},\"root_ids\":[\"p1754\"]}];\n",
       "  void root.Bokeh.embed.embed_items_notebook(docs_json, render_items);\n",
       "  }\n",
       "  if (root.Bokeh !== undefined) {\n",
       "    embed_document(root);\n",
       "  } else {\n",
       "    let attempts = 0;\n",
       "    const timer = setInterval(function(root) {\n",
       "      if (root.Bokeh !== undefined) {\n",
       "        clearInterval(timer);\n",
       "        embed_document(root);\n",
       "      } else {\n",
       "        attempts++;\n",
       "        if (attempts > 100) {\n",
       "          clearInterval(timer);\n",
       "          console.log(\"Bokeh: ERROR: Unable to run BokehJS code because BokehJS library is missing\");\n",
       "        }\n",
       "      }\n",
       "    }, 10, root)\n",
       "  }\n",
       "})(window);"
      ],
      "application/vnd.bokehjs_exec.v0+json": ""
     },
     "metadata": {
      "application/vnd.bokehjs_exec.v0+json": {
       "id": "p1754"
      }
     },
     "output_type": "display_data"
    },
    {
     "data": {
      "application/vnd.jupyter.widget-view+json": {
       "model_id": "5e6770cfe6c54dad9c7bea78ed5de69b",
       "version_major": 2,
       "version_minor": 0
      },
      "text/plain": [
       "HTML(value='<hr><h1><span style=\"color: #0f0\">18-09-22-56 jump - 🟢 valid - score = 473.27 km/h</span></h1>')"
      ]
     },
     "metadata": {},
     "output_type": "display_data"
    },
    {
     "data": {
      "application/vnd.jupyter.widget-view+json": {
       "model_id": "83aed5a379be4a758d3060461618042c",
       "version_major": 2,
       "version_minor": 0
      },
      "text/plain": [
       "HTML(value='<h3>Max speed = 476; exit at 4054 m (13301 ft), end scoring window at 1798 m (5899 ft)')"
      ]
     },
     "metadata": {},
     "output_type": "display_data"
    },
    {
     "data": {
      "application/vnd.jupyter.widget-view+json": {
       "model_id": "f06202d8b118408bad51bd60f0107292",
       "version_major": 2,
       "version_minor": 0
      },
      "text/plain": [
       "HTML(value='</h3>')"
      ]
     },
     "metadata": {},
     "output_type": "display_data"
    },
    {
     "data": {
      "text/html": [
       "<div>\n",
       "<style scoped>\n",
       "    .dataframe tbody tr th:only-of-type {\n",
       "        vertical-align: middle;\n",
       "    }\n",
       "\n",
       "    .dataframe tbody tr th {\n",
       "        vertical-align: top;\n",
       "    }\n",
       "\n",
       "    .dataframe thead th {\n",
       "        text-align: right;\n",
       "    }\n",
       "</style>\n",
       "<table border=\"1\" class=\"dataframe\">\n",
       "  <thead>\n",
       "    <tr style=\"text-align: right;\">\n",
       "      <th></th>\n",
       "      <th>time</th>\n",
       "      <th>vKMh</th>\n",
       "      <th>hKMh</th>\n",
       "      <th>speedAngle</th>\n",
       "      <th>distanceFromExit</th>\n",
       "      <th>altitude (ft)</th>\n",
       "      <th>netVectorKMh</th>\n",
       "    </tr>\n",
       "  </thead>\n",
       "  <tbody>\n",
       "    <tr>\n",
       "      <th></th>\n",
       "      <td>5.0</td>\n",
       "      <td>178</td>\n",
       "      <td>157</td>\n",
       "      <td>48.5</td>\n",
       "      <td>254.400000</td>\n",
       "      <td>12871</td>\n",
       "      <td>237</td>\n",
       "    </tr>\n",
       "    <tr>\n",
       "      <th></th>\n",
       "      <td>10.0</td>\n",
       "      <td>331</td>\n",
       "      <td>106</td>\n",
       "      <td>72.3</td>\n",
       "      <td>441.100000</td>\n",
       "      <td>11655</td>\n",
       "      <td>348</td>\n",
       "    </tr>\n",
       "    <tr>\n",
       "      <th></th>\n",
       "      <td>15.0</td>\n",
       "      <td>426</td>\n",
       "      <td>43</td>\n",
       "      <td>84.2</td>\n",
       "      <td>540.000000</td>\n",
       "      <td>9908</td>\n",
       "      <td>428</td>\n",
       "    </tr>\n",
       "    <tr>\n",
       "      <th></th>\n",
       "      <td>20.0</td>\n",
       "      <td>467</td>\n",
       "      <td>33</td>\n",
       "      <td>86.0</td>\n",
       "      <td>547.000000</td>\n",
       "      <td>7895</td>\n",
       "      <td>468</td>\n",
       "    </tr>\n",
       "    <tr>\n",
       "      <th></th>\n",
       "      <td>25.0</td>\n",
       "      <td>471</td>\n",
       "      <td>60</td>\n",
       "      <td>82.8</td>\n",
       "      <td>489.560356</td>\n",
       "      <td>5915</td>\n",
       "      <td>474</td>\n",
       "    </tr>\n",
       "  </tbody>\n",
       "</table>\n",
       "</div>"
      ],
      "text/plain": [
       "  time  vKMh  hKMh  speedAngle  distanceFromExit  altitude (ft)  netVectorKMh\n",
       "   5.0   178   157        48.5        254.400000          12871           237\n",
       "  10.0   331   106        72.3        441.100000          11655           348\n",
       "  15.0   426    43        84.2        540.000000           9908           428\n",
       "  20.0   467    33        86.0        547.000000           7895           468\n",
       "  25.0   471    60        82.8        489.560356           5915           474"
      ]
     },
     "metadata": {},
     "output_type": "display_data"
    },
    {
     "data": {
      "text/html": [
       "\n",
       "  <div id=\"e8317081-b68c-4cdc-957e-4d8d37abb3eb\" data-root-id=\"p1897\" style=\"display: contents;\"></div>\n"
      ]
     },
     "metadata": {},
     "output_type": "display_data"
    },
    {
     "data": {
      "application/javascript": [
       "(function(root) {\n",
       "  function embed_document(root) {\n",
       "  const docs_json = {\"a90faf8f-eb45-42cf-94bd-681b3f876bd1\":{\"version\":\"3.5.2\",\"title\":\"Bokeh Application\",\"roots\":[{\"type\":\"object\",\"name\":\"Figure\",\"id\":\"p1897\",\"attributes\":{\"width\":900,\"height\":500,\"x_range\":{\"type\":\"object\",\"name\":\"Range1d\",\"id\":\"p1907\",\"attributes\":{\"end\":35.0}},\"y_range\":{\"type\":\"object\",\"name\":\"Range1d\",\"id\":\"p1908\",\"attributes\":{\"end\":550.0}},\"x_scale\":{\"type\":\"object\",\"name\":\"LinearScale\",\"id\":\"p1909\"},\"y_scale\":{\"type\":\"object\",\"name\":\"LinearScale\",\"id\":\"p1910\"},\"extra_y_ranges\":{\"type\":\"map\",\"entries\":[[\"altitudeFt\",{\"type\":\"object\",\"name\":\"Range1d\",\"id\":\"p1934\",\"attributes\":{\"start\":5415.0859232,\"end\":13801.1247168}}],[\"angle\",{\"type\":\"object\",\"name\":\"Range1d\",\"id\":\"p1935\",\"attributes\":{\"end\":90.0}}]]},\"title\":{\"type\":\"object\",\"name\":\"Title\",\"id\":\"p1900\",\"attributes\":{\"text\":\"18-09-22-56\",\"text_color\":\"#E0E0E0\",\"text_font\":\"Helvetica\",\"text_font_size\":\"1.15em\"}},\"outline_line_color\":\"#E0E0E0\",\"outline_line_alpha\":0.25,\"renderers\":[{\"type\":\"object\",\"name\":\"GlyphRenderer\",\"id\":\"p1950\",\"attributes\":{\"y_range_name\":\"altitudeFt\",\"data_source\":{\"type\":\"object\",\"name\":\"ColumnDataSource\",\"id\":\"p1944\",\"attributes\":{\"selected\":{\"type\":\"object\",\"name\":\"Selection\",\"id\":\"p1945\",\"attributes\":{\"indices\":[],\"line_indices\":[]}},\"selection_policy\":{\"type\":\"object\",\"name\":\"UnionRenderers\",\"id\":\"p1946\"},\"data\":{\"type\":\"map\",\"entries\":[[\"x\",{\"type\":\"ndarray\",\"array\":{\"type\":\"bytes\",\"data\":\"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\"},\"shape\":[205],\"dtype\":\"float64\",\"order\":\"little\"}],[\"y\",{\"type\":\"ndarray\",\"array\":{\"type\":\"bytes\",\"data\":\"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\"},\"shape\":[205],\"dtype\":\"float64\",\"order\":\"little\"}]]}}},\"view\":{\"type\":\"object\",\"name\":\"CDSView\",\"id\":\"p1951\",\"attributes\":{\"filter\":{\"type\":\"object\",\"name\":\"AllIndices\",\"id\":\"p1952\"}}},\"glyph\":{\"type\":\"object\",\"name\":\"Line\",\"id\":\"p1947\",\"attributes\":{\"x\":{\"type\":\"field\",\"field\":\"x\"},\"y\":{\"type\":\"field\",\"field\":\"y\"},\"line_color\":\"palegoldenrod\",\"line_width\":2}},\"nonselection_glyph\":{\"type\":\"object\",\"name\":\"Line\",\"id\":\"p1948\",\"attributes\":{\"x\":{\"type\":\"field\",\"field\":\"x\"},\"y\":{\"type\":\"field\",\"field\":\"y\"},\"line_color\":\"palegoldenrod\",\"line_alpha\":0.1,\"line_width\":2}},\"muted_glyph\":{\"type\":\"object\",\"name\":\"Line\",\"id\":\"p1949\",\"attributes\":{\"x\":{\"type\":\"field\",\"field\":\"x\"},\"y\":{\"type\":\"field\",\"field\":\"y\"},\"line_color\":\"palegoldenrod\",\"line_alpha\":0.2,\"line_width\":2}}}},{\"type\":\"object\",\"name\":\"GlyphRenderer\",\"id\":\"p1961\",\"attributes\":{\"y_range_name\":\"angle\",\"data_source\":{\"type\":\"object\",\"name\":\"ColumnDataSource\",\"id\":\"p1955\",\"attributes\":{\"selected\":{\"type\":\"object\",\"name\":\"Selection\",\"id\":\"p1956\",\"attributes\":{\"indices\":[],\"line_indices\":[]}},\"selection_policy\":{\"type\":\"object\",\"name\":\"UnionRenderers\",\"id\":\"p1957\"},\"data\":{\"type\":\"map\",\"entries\":[[\"x\",{\"type\":\"ndarray\",\"array\":{\"type\":\"bytes\",\"data\":\"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\"},\"shape\":[205],\"dtype\":\"float64\",\"order\":\"little\"}],[\"y\",{\"type\":\"ndarray\",\"array\":{\"type\":\"bytes\",\"data\":\"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\"},\"shape\":[205],\"dtype\":\"float64\",\"order\":\"little\"}]]}}},\"view\":{\"type\":\"object\",\"name\":\"CDSView\",\"id\":\"p1962\",\"attributes\":{\"filter\":{\"type\":\"object\",\"name\":\"AllIndices\",\"id\":\"p1963\"}}},\"glyph\":{\"type\":\"object\",\"name\":\"Line\",\"id\":\"p1958\",\"attributes\":{\"x\":{\"type\":\"field\",\"field\":\"x\"},\"y\":{\"type\":\"field\",\"field\":\"y\"},\"line_color\":\"deepskyblue\",\"line_width\":2}},\"nonselection_glyph\":{\"type\":\"object\",\"name\":\"Line\",\"id\":\"p1959\",\"attributes\":{\"x\":{\"type\":\"field\",\"field\":\"x\"},\"y\":{\"type\":\"field\",\"field\":\"y\"},\"line_color\":\"deepskyblue\",\"line_alpha\":0.1,\"line_width\":2}},\"muted_glyph\":{\"type\":\"object\",\"name\":\"Line\",\"id\":\"p1960\",\"attributes\":{\"x\":{\"type\":\"field\",\"field\":\"x\"},\"y\":{\"type\":\"field\",\"field\":\"y\"},\"line_color\":\"deepskyblue\",\"line_alpha\":0.2,\"line_width\":2}}}},{\"type\":\"object\",\"name\":\"GlyphRenderer\",\"id\":\"p1972\",\"attributes\":{\"data_source\":{\"type\":\"object\",\"name\":\"ColumnDataSource\",\"id\":\"p1966\",\"attributes\":{\"selected\":{\"type\":\"object\",\"name\":\"Selection\",\"id\":\"p1967\",\"attributes\":{\"indices\":[],\"line_indices\":[]}},\"selection_policy\":{\"type\":\"object\",\"name\":\"UnionRenderers\",\"id\":\"p1968\"},\"data\":{\"type\":\"map\",\"entries\":[[\"x\",{\"type\":\"ndarray\",\"array\":{\"type\":\"bytes\",\"data\":\"AAAAAAAAAAAAAAAAmJm5PwAAAACamck/AAAAADMz0z8AAAAAmpnZPwAAAAAAAOA/AAAAADMz4z8AAACAZmbmPwAAAICZmek/AAAAAM3M7D8AAAAAAADwPwAAAICZmfE/AAAAQDMz8z8AAADAzMz0PwAAAIBmZvY/AAAAAAAA+D8AAACAmZn5PwAAAEAzM/s/AAAAwMzM/D8AAACAZmb+PwAAAAAAAABAAAAAwMzMAEAAAACgmZkBQAAAAGBmZgJAAAAAQDMzA0AAAAAAAAAEQAAAAMDMzARAAAAAoJmZBUAAAABgZmYGQAAAAEAzMwdAAAAAAAAACEAAAADAzMwIQAAAAKCZmQlAAAAAYGZmCkAAAABAMzMLQAAAAAAAAAxAAAAAwMzMDEAAAACgmZkNQAAAAGBmZg5AAAAAQDMzD0AAAAAAAAAQQAAAAGBmZhBAAAAA0MzMEEAAAAAwMzMRQAAAAKCZmRFAAAAAAAAAEkAAAABgZmYSQAAAANDMzBJAAAAAMDMzE0AAAACgmZkTQAAAAAAAABRAAAAAYGZmFEAAAADQzMwUQAAAAKCZmRVAAAAAAAAAFkAAAABgZmYWQAAAANDMzBZAAAAAoJmZF0AAAAAAAAAYQAAAANDMzBhAAAAAMDMzGUAAAACgmZkZQAAAAAAAABpAAAAAYGZmGkAAAAAwMzMbQAAAAKCZmRtAAAAAAAAAHEAAAABgZmYcQAAAADAzMx1AAAAAoJmZHUAAAAAAAAAeQAAAAGBmZh5AAAAA0MzMHkAAAAAwMzMfQAAAAAAAACBAAAAAaGZmIEAAAACYmZkgQAAAANDMzCBAAAAAAAAAIUAAAABoZmYhQAAAAJiZmSFAAAAA0MzMIUAAAAAAAAAiQAAAADAzMyJAAAAAmJmZIkAAAADQzMwiQAAAAAAAACNAAAAAMDMzI0AAAACYmZkjQAAAANDMzCNAAAAAMDMzJEAAAABoZmYkQAAAAJiZmSRAAAAA0MzMJEAAAAAAAAAlQAAAAGhmZiVAAAAAmJmZJUAAAADQzMwlQAAAAAAAACZAAAAAaGZmJkAAAACYmZkmQAAAANDMzCZAAAAAAAAAJ0AAAAAwMzMnQAAAAJiZmSdAAAAA0MzMJ0AAAAAwMzMoQAAAAGhmZihAAAAAmJmZKEAAAADQzMwoQAAAADAzMylAAAAAaGZmKUAAAACYmZkpQAAAANDMzClAAAAAAAAAKkAAAABoZmYqQAAAAJiZmSpAAAAAAAAAK0AAAAAwMzMrQAAAAGhmZitAAAAAmJmZK0AAAAAAAAAsQAAAADAzMyxAAAAAaGZmLEAAAACYmZksQAAAANDMzCxAAAAAAAAALUAAAAAwMzMtQAAAAGhmZi1AAAAA0MzMLUAAAAAwMzMuQAAAAGhmZi5AAAAA0MzMLkAAAAAAAAAvQAAAAGhmZi9AAAAAmJmZL0AAAADQzMwvQAAAAAAAADBAAAAAmJkZMEAAAAA0MzMwQAAAAMzMTDBAAAAAAACAMEAAAACYmZkwQAAAAMzMzDBAAAAAaGbmMEAAAACYmRkxQAAAADQzMzFAAAAAzMxMMUAAAABoZmYxQAAAAAAAgDFAAAAANDOzMUAAAADMzMwxQAAAAGhm5jFAAAAAAAAAMkAAAAA0MzMyQAAAAMzMTDJAAAAAaGZmMkAAAAAAAIAyQAAAAJiZmTJAAAAAzMzMMkAAAABoZuYyQAAAAJiZGTNAAAAANDMzM0AAAADMzEwzQAAAAGhmZjNAAAAAmJmZM0AAAAA0M7MzQAAAAMzMzDNAAAAAaGbmM0AAAAAAAAA0QAAAADQzMzRAAAAAaGZmNEAAAAAAAIA0QAAAAJiZmTRAAAAANDOzNEAAAADMzMw0QAAAAAAAADVAAAAAmJkZNUAAAAA0MzM1QAAAAMzMTDVAAAAAaGZmNUAAAACYmZk1QAAAAMzMzDVAAAAAaGbmNUAAAAAAAAA2QAAAADQzMzZAAAAAaGZmNkAAAAAAAIA2QAAAAJiZmTZAAAAANDOzNkAAAADMzMw2QAAAAAAAADdAAAAAmJkZN0AAAAA0MzM3QAAAAMzMTDdAAAAAAACAN0AAAACYmZk3QAAAADQzszdAAAAAzMzMN0AAAABoZuY3QAAAAJiZGThAAAAANDMzOEAAAABoZmY4QAAAAAAAgDhAAAAAmJmZOEA=\"},\"shape\":[205],\"dtype\":\"float64\",\"order\":\"little\"}],[\"y\",{\"type\":\"ndarray\",\"array\":{\"type\":\"bytes\",\"data\":\"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\"},\"shape\":[205],\"dtype\":\"float64\",\"order\":\"little\"}]]}}},\"view\":{\"type\":\"object\",\"name\":\"CDSView\",\"id\":\"p1973\",\"attributes\":{\"filter\":{\"type\":\"object\",\"name\":\"AllIndices\",\"id\":\"p1974\"}}},\"glyph\":{\"type\":\"object\",\"name\":\"Line\",\"id\":\"p1969\",\"attributes\":{\"x\":{\"type\":\"field\",\"field\":\"x\"},\"y\":{\"type\":\"field\",\"field\":\"y\"},\"line_color\":\"limegreen\",\"line_width\":2}},\"nonselection_glyph\":{\"type\":\"object\",\"name\":\"Line\",\"id\":\"p1970\",\"attributes\":{\"x\":{\"type\":\"field\",\"field\":\"x\"},\"y\":{\"type\":\"field\",\"field\":\"y\"},\"line_color\":\"limegreen\",\"line_alpha\":0.1,\"line_width\":2}},\"muted_glyph\":{\"type\":\"object\",\"name\":\"Line\",\"id\":\"p1971\",\"attributes\":{\"x\":{\"type\":\"field\",\"field\":\"x\"},\"y\":{\"type\":\"field\",\"field\":\"y\"},\"line_color\":\"limegreen\",\"line_alpha\":0.2,\"line_width\":2}}}},{\"type\":\"object\",\"name\":\"GlyphRenderer\",\"id\":\"p1982\",\"attributes\":{\"data_source\":{\"type\":\"object\",\"name\":\"ColumnDataSource\",\"id\":\"p1976\",\"attributes\":{\"selected\":{\"type\":\"object\",\"name\":\"Selection\",\"id\":\"p1977\",\"attributes\":{\"indices\":[],\"line_indices\":[]}},\"selection_policy\":{\"type\":\"object\",\"name\":\"UnionRenderers\",\"id\":\"p1978\"},\"data\":{\"type\":\"map\",\"entries\":[[\"x\",{\"type\":\"ndarray\",\"array\":{\"type\":\"bytes\",\"data\":\"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\"},\"shape\":[205],\"dtype\":\"float64\",\"order\":\"little\"}],[\"y\",{\"type\":\"ndarray\",\"array\":{\"type\":\"bytes\",\"data\":\"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\"},\"shape\":[205],\"dtype\":\"float64\",\"order\":\"little\"}]]}}},\"view\":{\"type\":\"object\",\"name\":\"CDSView\",\"id\":\"p1983\",\"attributes\":{\"filter\":{\"type\":\"object\",\"name\":\"AllIndices\",\"id\":\"p1984\"}}},\"glyph\":{\"type\":\"object\",\"name\":\"Line\",\"id\":\"p1979\",\"attributes\":{\"x\":{\"type\":\"field\",\"field\":\"x\"},\"y\":{\"type\":\"field\",\"field\":\"y\"},\"line_color\":\"red\",\"line_width\":2}},\"nonselection_glyph\":{\"type\":\"object\",\"name\":\"Line\",\"id\":\"p1980\",\"attributes\":{\"x\":{\"type\":\"field\",\"field\":\"x\"},\"y\":{\"type\":\"field\",\"field\":\"y\"},\"line_color\":\"red\",\"line_alpha\":0.1,\"line_width\":2}},\"muted_glyph\":{\"type\":\"object\",\"name\":\"Line\",\"id\":\"p1981\",\"attributes\":{\"x\":{\"type\":\"field\",\"field\":\"x\"},\"y\":{\"type\":\"field\",\"field\":\"y\"},\"line_color\":\"red\",\"line_alpha\":0.2,\"line_width\":2}}}},{\"type\":\"object\",\"name\":\"GlyphRenderer\",\"id\":\"p1992\",\"attributes\":{\"data_source\":{\"type\":\"object\",\"name\":\"ColumnDataSource\",\"id\":\"p1986\",\"attributes\":{\"selected\":{\"type\":\"object\",\"name\":\"Selection\",\"id\":\"p1987\",\"attributes\":{\"indices\":[],\"line_indices\":[]}},\"selection_policy\":{\"type\":\"object\",\"name\":\"UnionRenderers\",\"id\":\"p1988\"},\"data\":{\"type\":\"map\",\"entries\":[[\"x0\",[24.5]],[\"y0\",[0.0]],[\"x1\",[24.5]],[\"y1\",[473.2716521739131]]]}}},\"view\":{\"type\":\"object\",\"name\":\"CDSView\",\"id\":\"p1993\",\"attributes\":{\"filter\":{\"type\":\"object\",\"name\":\"AllIndices\",\"id\":\"p1994\"}}},\"glyph\":{\"type\":\"object\",\"name\":\"Segment\",\"id\":\"p1989\",\"attributes\":{\"x0\":{\"type\":\"field\",\"field\":\"x0\"},\"y0\":{\"type\":\"field\",\"field\":\"y0\"},\"x1\":{\"type\":\"field\",\"field\":\"x1\"},\"y1\":{\"type\":\"field\",\"field\":\"y1\"},\"line_color\":{\"type\":\"value\",\"value\":\"lightblue\"},\"line_width\":{\"type\":\"value\",\"value\":3}}},\"nonselection_glyph\":{\"type\":\"object\",\"name\":\"Segment\",\"id\":\"p1990\",\"attributes\":{\"x0\":{\"type\":\"field\",\"field\":\"x0\"},\"y0\":{\"type\":\"field\",\"field\":\"y0\"},\"x1\":{\"type\":\"field\",\"field\":\"x1\"},\"y1\":{\"type\":\"field\",\"field\":\"y1\"},\"line_color\":{\"type\":\"value\",\"value\":\"lightblue\"},\"line_alpha\":{\"type\":\"value\",\"value\":0.1},\"line_width\":{\"type\":\"value\",\"value\":3}}},\"muted_glyph\":{\"type\":\"object\",\"name\":\"Segment\",\"id\":\"p1991\",\"attributes\":{\"x0\":{\"type\":\"field\",\"field\":\"x0\"},\"y0\":{\"type\":\"field\",\"field\":\"y0\"},\"x1\":{\"type\":\"field\",\"field\":\"x1\"},\"y1\":{\"type\":\"field\",\"field\":\"y1\"},\"line_color\":{\"type\":\"value\",\"value\":\"lightblue\"},\"line_alpha\":{\"type\":\"value\",\"value\":0.2},\"line_width\":{\"type\":\"value\",\"value\":3}}}}},{\"type\":\"object\",\"name\":\"GlyphRenderer\",\"id\":\"p2001\",\"attributes\":{\"data_source\":{\"type\":\"object\",\"name\":\"ColumnDataSource\",\"id\":\"p1995\",\"attributes\":{\"selected\":{\"type\":\"object\",\"name\":\"Selection\",\"id\":\"p1996\",\"attributes\":{\"indices\":[],\"line_indices\":[]}},\"selection_policy\":{\"type\":\"object\",\"name\":\"UnionRenderers\",\"id\":\"p1997\"},\"data\":{\"type\":\"map\",\"entries\":[[\"x0\",[26.0]],[\"y0\",[0.0]],[\"x1\",[26.0]],[\"y1\",[473.2716521739131]]]}}},\"view\":{\"type\":\"object\",\"name\":\"CDSView\",\"id\":\"p2002\",\"attributes\":{\"filter\":{\"type\":\"object\",\"name\":\"AllIndices\",\"id\":\"p2003\"}}},\"glyph\":{\"type\":\"object\",\"name\":\"Segment\",\"id\":\"p1998\",\"attributes\":{\"x0\":{\"type\":\"field\",\"field\":\"x0\"},\"y0\":{\"type\":\"field\",\"field\":\"y0\"},\"x1\":{\"type\":\"field\",\"field\":\"x1\"},\"y1\":{\"type\":\"field\",\"field\":\"y1\"},\"line_color\":{\"type\":\"value\",\"value\":\"darkseagreen\"}}},\"nonselection_glyph\":{\"type\":\"object\",\"name\":\"Segment\",\"id\":\"p1999\",\"attributes\":{\"x0\":{\"type\":\"field\",\"field\":\"x0\"},\"y0\":{\"type\":\"field\",\"field\":\"y0\"},\"x1\":{\"type\":\"field\",\"field\":\"x1\"},\"y1\":{\"type\":\"field\",\"field\":\"y1\"},\"line_color\":{\"type\":\"value\",\"value\":\"darkseagreen\"},\"line_alpha\":{\"type\":\"value\",\"value\":0.1}}},\"muted_glyph\":{\"type\":\"object\",\"name\":\"Segment\",\"id\":\"p2000\",\"attributes\":{\"x0\":{\"type\":\"field\",\"field\":\"x0\"},\"y0\":{\"type\":\"field\",\"field\":\"y0\"},\"x1\":{\"type\":\"field\",\"field\":\"x1\"},\"y1\":{\"type\":\"field\",\"field\":\"y1\"},\"line_color\":{\"type\":\"value\",\"value\":\"darkseagreen\"},\"line_alpha\":{\"type\":\"value\",\"value\":0.2}}}}},{\"type\":\"object\",\"name\":\"GlyphRenderer\",\"id\":\"p2010\",\"attributes\":{\"data_source\":{\"type\":\"object\",\"name\":\"ColumnDataSource\",\"id\":\"p2004\",\"attributes\":{\"selected\":{\"type\":\"object\",\"name\":\"Selection\",\"id\":\"p2005\",\"attributes\":{\"indices\":[],\"line_indices\":[]}},\"selection_policy\":{\"type\":\"object\",\"name\":\"UnionRenderers\",\"id\":\"p2006\"},\"data\":{\"type\":\"map\",\"entries\":[[\"x0\",[23.0]],[\"y0\",[0.0]],[\"x1\",[23.0]],[\"y1\",[473.2716521739131]]]}}},\"view\":{\"type\":\"object\",\"name\":\"CDSView\",\"id\":\"p2011\",\"attributes\":{\"filter\":{\"type\":\"object\",\"name\":\"AllIndices\",\"id\":\"p2012\"}}},\"glyph\":{\"type\":\"object\",\"name\":\"Segment\",\"id\":\"p2007\",\"attributes\":{\"x0\":{\"type\":\"field\",\"field\":\"x0\"},\"y0\":{\"type\":\"field\",\"field\":\"y0\"},\"x1\":{\"type\":\"field\",\"field\":\"x1\"},\"y1\":{\"type\":\"field\",\"field\":\"y1\"},\"line_color\":{\"type\":\"value\",\"value\":\"darkseagreen\"}}},\"nonselection_glyph\":{\"type\":\"object\",\"name\":\"Segment\",\"id\":\"p2008\",\"attributes\":{\"x0\":{\"type\":\"field\",\"field\":\"x0\"},\"y0\":{\"type\":\"field\",\"field\":\"y0\"},\"x1\":{\"type\":\"field\",\"field\":\"x1\"},\"y1\":{\"type\":\"field\",\"field\":\"y1\"},\"line_color\":{\"type\":\"value\",\"value\":\"darkseagreen\"},\"line_alpha\":{\"type\":\"value\",\"value\":0.1}}},\"muted_glyph\":{\"type\":\"object\",\"name\":\"Segment\",\"id\":\"p2009\",\"attributes\":{\"x0\":{\"type\":\"field\",\"field\":\"x0\"},\"y0\":{\"type\":\"field\",\"field\":\"y0\"},\"x1\":{\"type\":\"field\",\"field\":\"x1\"},\"y1\":{\"type\":\"field\",\"field\":\"y1\"},\"line_color\":{\"type\":\"value\",\"value\":\"darkseagreen\"},\"line_alpha\":{\"type\":\"value\",\"value\":0.2}}}}},{\"type\":\"object\",\"name\":\"GlyphRenderer\",\"id\":\"p2019\",\"attributes\":{\"data_source\":{\"type\":\"object\",\"name\":\"ColumnDataSource\",\"id\":\"p2013\",\"attributes\":{\"selected\":{\"type\":\"object\",\"name\":\"Selection\",\"id\":\"p2014\",\"attributes\":{\"indices\":[],\"line_indices\":[]}},\"selection_policy\":{\"type\":\"object\",\"name\":\"UnionRenderers\",\"id\":\"p2015\"},\"data\":{\"type\":\"map\",\"entries\":[[\"x\",[24.5]],[\"y\",[473.2716521739131]],[\"size\",[20]]]}}},\"view\":{\"type\":\"object\",\"name\":\"CDSView\",\"id\":\"p2020\",\"attributes\":{\"filter\":{\"type\":\"object\",\"name\":\"AllIndices\",\"id\":\"p2021\"}}},\"glyph\":{\"type\":\"object\",\"name\":\"Scatter\",\"id\":\"p2016\",\"attributes\":{\"x\":{\"type\":\"field\",\"field\":\"x\"},\"y\":{\"type\":\"field\",\"field\":\"y\"},\"size\":{\"type\":\"field\",\"field\":\"size\"},\"line_color\":{\"type\":\"value\",\"value\":\"lightblue\"},\"line_width\":{\"type\":\"value\",\"value\":3},\"fill_color\":{\"type\":\"value\",\"value\":null},\"marker\":{\"type\":\"value\",\"value\":\"square_cross\"}}},\"nonselection_glyph\":{\"type\":\"object\",\"name\":\"Scatter\",\"id\":\"p2017\",\"attributes\":{\"x\":{\"type\":\"field\",\"field\":\"x\"},\"y\":{\"type\":\"field\",\"field\":\"y\"},\"size\":{\"type\":\"field\",\"field\":\"size\"},\"line_color\":{\"type\":\"value\",\"value\":\"lightblue\"},\"line_alpha\":{\"type\":\"value\",\"value\":0.1},\"line_width\":{\"type\":\"value\",\"value\":3},\"fill_color\":{\"type\":\"value\",\"value\":null},\"fill_alpha\":{\"type\":\"value\",\"value\":0.1},\"hatch_alpha\":{\"type\":\"value\",\"value\":0.1},\"marker\":{\"type\":\"value\",\"value\":\"square_cross\"}}},\"muted_glyph\":{\"type\":\"object\",\"name\":\"Scatter\",\"id\":\"p2018\",\"attributes\":{\"x\":{\"type\":\"field\",\"field\":\"x\"},\"y\":{\"type\":\"field\",\"field\":\"y\"},\"size\":{\"type\":\"field\",\"field\":\"size\"},\"line_color\":{\"type\":\"value\",\"value\":\"lightblue\"},\"line_alpha\":{\"type\":\"value\",\"value\":0.2},\"line_width\":{\"type\":\"value\",\"value\":3},\"fill_color\":{\"type\":\"value\",\"value\":null},\"fill_alpha\":{\"type\":\"value\",\"value\":0.2},\"hatch_alpha\":{\"type\":\"value\",\"value\":0.2},\"marker\":{\"type\":\"value\",\"value\":\"square_cross\"}}}}}],\"toolbar\":{\"type\":\"object\",\"name\":\"Toolbar\",\"id\":\"p1906\",\"attributes\":{\"tools\":[{\"type\":\"object\",\"name\":\"PanTool\",\"id\":\"p1921\"},{\"type\":\"object\",\"name\":\"WheelZoomTool\",\"id\":\"p1922\",\"attributes\":{\"renderers\":\"auto\"}},{\"type\":\"object\",\"name\":\"BoxZoomTool\",\"id\":\"p1923\",\"attributes\":{\"overlay\":{\"type\":\"object\",\"name\":\"BoxAnnotation\",\"id\":\"p1924\",\"attributes\":{\"syncable\":false,\"line_color\":\"black\",\"line_alpha\":1.0,\"line_width\":2,\"line_dash\":[4,4],\"fill_color\":\"lightgrey\",\"fill_alpha\":0.5,\"level\":\"overlay\",\"visible\":false,\"left\":{\"type\":\"number\",\"value\":\"nan\"},\"right\":{\"type\":\"number\",\"value\":\"nan\"},\"top\":{\"type\":\"number\",\"value\":\"nan\"},\"bottom\":{\"type\":\"number\",\"value\":\"nan\"},\"left_units\":\"canvas\",\"right_units\":\"canvas\",\"top_units\":\"canvas\",\"bottom_units\":\"canvas\",\"handles\":{\"type\":\"object\",\"name\":\"BoxInteractionHandles\",\"id\":\"p1930\",\"attributes\":{\"all\":{\"type\":\"object\",\"name\":\"AreaVisuals\",\"id\":\"p1929\",\"attributes\":{\"fill_color\":\"white\",\"hover_fill_color\":\"lightgray\"}}}}}}}},{\"type\":\"object\",\"name\":\"SaveTool\",\"id\":\"p1931\"},{\"type\":\"object\",\"name\":\"ResetTool\",\"id\":\"p1932\"},{\"type\":\"object\",\"name\":\"HelpTool\",\"id\":\"p1933\"},{\"type\":\"object\",\"name\":\"HoverTool\",\"id\":\"p1965\",\"attributes\":{\"renderers\":\"auto\",\"tooltips\":[[\"Y-val\",\"@y{0.00}\"]]}}]}},\"left\":[{\"type\":\"object\",\"name\":\"LinearAxis\",\"id\":\"p1916\",\"attributes\":{\"ticker\":{\"type\":\"object\",\"name\":\"BasicTicker\",\"id\":\"p1917\",\"attributes\":{\"mantissas\":[1,2,5]}},\"formatter\":{\"type\":\"object\",\"name\":\"BasicTickFormatter\",\"id\":\"p1918\"},\"axis_label\":\"km/h\",\"axis_label_standoff\":10,\"axis_label_text_color\":\"#E0E0E0\",\"axis_label_text_font\":\"Helvetica\",\"axis_label_text_font_size\":\"1.25em\",\"axis_label_text_font_style\":\"normal\",\"major_label_policy\":{\"type\":\"object\",\"name\":\"AllLabels\",\"id\":\"p1919\"},\"major_label_text_color\":\"#E0E0E0\",\"major_label_text_font\":\"Helvetica\",\"major_label_text_font_size\":\"1.025em\",\"axis_line_color\":\"#E0E0E0\",\"axis_line_alpha\":0,\"major_tick_line_color\":\"#E0E0E0\",\"major_tick_line_alpha\":0,\"minor_tick_line_color\":\"#E0E0E0\",\"minor_tick_line_alpha\":0}},{\"type\":\"object\",\"name\":\"LinearAxis\",\"id\":\"p1936\",\"attributes\":{\"y_range_name\":\"altitudeFt\",\"ticker\":{\"type\":\"object\",\"name\":\"BasicTicker\",\"id\":\"p1937\",\"attributes\":{\"mantissas\":[1,2,5]}},\"formatter\":{\"type\":\"object\",\"name\":\"BasicTickFormatter\",\"id\":\"p1938\"},\"axis_label\":\"Alt (ft)\",\"axis_label_standoff\":10,\"axis_label_text_color\":\"#E0E0E0\",\"axis_label_text_font\":\"Helvetica\",\"axis_label_text_font_size\":\"1.25em\",\"axis_label_text_font_style\":\"normal\",\"major_label_policy\":{\"type\":\"object\",\"name\":\"AllLabels\",\"id\":\"p1939\"},\"major_label_text_color\":\"#E0E0E0\",\"major_label_text_font\":\"Helvetica\",\"major_label_text_font_size\":\"1.025em\",\"axis_line_color\":\"#E0E0E0\",\"axis_line_alpha\":0,\"major_tick_line_color\":\"#E0E0E0\",\"major_tick_line_alpha\":0,\"minor_tick_line_color\":\"#E0E0E0\",\"minor_tick_line_alpha\":0}},{\"type\":\"object\",\"name\":\"LinearAxis\",\"id\":\"p1940\",\"attributes\":{\"y_range_name\":\"angle\",\"ticker\":{\"type\":\"object\",\"name\":\"BasicTicker\",\"id\":\"p1941\",\"attributes\":{\"mantissas\":[1,2,5]}},\"formatter\":{\"type\":\"object\",\"name\":\"BasicTickFormatter\",\"id\":\"p1942\"},\"axis_label\":\"angle\",\"axis_label_standoff\":10,\"axis_label_text_color\":\"#E0E0E0\",\"axis_label_text_font\":\"Helvetica\",\"axis_label_text_font_size\":\"1.25em\",\"axis_label_text_font_style\":\"normal\",\"major_label_policy\":{\"type\":\"object\",\"name\":\"AllLabels\",\"id\":\"p1943\"},\"major_label_text_color\":\"#E0E0E0\",\"major_label_text_font\":\"Helvetica\",\"major_label_text_font_size\":\"1.025em\",\"axis_line_color\":\"#E0E0E0\",\"axis_line_alpha\":0,\"major_tick_line_color\":\"#E0E0E0\",\"major_tick_line_alpha\":0,\"minor_tick_line_color\":\"#E0E0E0\",\"minor_tick_line_alpha\":0}}],\"below\":[{\"type\":\"object\",\"name\":\"LinearAxis\",\"id\":\"p1911\",\"attributes\":{\"ticker\":{\"type\":\"object\",\"name\":\"BasicTicker\",\"id\":\"p1912\",\"attributes\":{\"mantissas\":[1,2,5]}},\"formatter\":{\"type\":\"object\",\"name\":\"BasicTickFormatter\",\"id\":\"p1913\"},\"axis_label\":\"seconds from exit\",\"axis_label_standoff\":10,\"axis_label_text_color\":\"#E0E0E0\",\"axis_label_text_font\":\"Helvetica\",\"axis_label_text_font_size\":\"1.25em\",\"axis_label_text_font_style\":\"normal\",\"major_label_policy\":{\"type\":\"object\",\"name\":\"AllLabels\",\"id\":\"p1914\"},\"major_label_text_color\":\"#E0E0E0\",\"major_label_text_font\":\"Helvetica\",\"major_label_text_font_size\":\"1.025em\",\"axis_line_color\":\"#E0E0E0\",\"axis_line_alpha\":0,\"major_tick_line_color\":\"#E0E0E0\",\"major_tick_line_alpha\":0,\"minor_tick_line_color\":\"#E0E0E0\",\"minor_tick_line_alpha\":0}}],\"center\":[{\"type\":\"object\",\"name\":\"Grid\",\"id\":\"p1915\",\"attributes\":{\"axis\":{\"id\":\"p1911\"},\"grid_line_color\":\"#E0E0E0\",\"grid_line_alpha\":0.25}},{\"type\":\"object\",\"name\":\"Grid\",\"id\":\"p1920\",\"attributes\":{\"dimension\":1,\"axis\":{\"id\":\"p1916\"},\"grid_line_color\":\"#E0E0E0\",\"grid_line_alpha\":0.25}},{\"type\":\"object\",\"name\":\"Legend\",\"id\":\"p1953\",\"attributes\":{\"border_line_alpha\":0,\"background_fill_color\":\"#20262B\",\"background_fill_alpha\":0.25,\"label_text_color\":\"#E0E0E0\",\"label_text_font\":\"Helvetica\",\"label_text_font_size\":\"1.025em\",\"label_standoff\":8,\"glyph_width\":15,\"spacing\":8,\"items\":[{\"type\":\"object\",\"name\":\"LegendItem\",\"id\":\"p1954\",\"attributes\":{\"label\":{\"type\":\"value\",\"value\":\"Alt (ft)\"},\"renderers\":[{\"id\":\"p1950\"}]}},{\"type\":\"object\",\"name\":\"LegendItem\",\"id\":\"p1964\",\"attributes\":{\"label\":{\"type\":\"value\",\"value\":\"angle\"},\"renderers\":[{\"id\":\"p1961\"}]}},{\"type\":\"object\",\"name\":\"LegendItem\",\"id\":\"p1975\",\"attributes\":{\"label\":{\"type\":\"value\",\"value\":\"speed\"},\"renderers\":[{\"id\":\"p1972\"}]}},{\"type\":\"object\",\"name\":\"LegendItem\",\"id\":\"p1985\",\"attributes\":{\"label\":{\"type\":\"value\",\"value\":\"H-speed\"},\"renderers\":[{\"id\":\"p1982\"}]}}]}}],\"background_fill_color\":\"#20262B\",\"border_fill_color\":\"#15191C\"}}]}};\n",
       "  const render_items = [{\"docid\":\"a90faf8f-eb45-42cf-94bd-681b3f876bd1\",\"roots\":{\"p1897\":\"e8317081-b68c-4cdc-957e-4d8d37abb3eb\"},\"root_ids\":[\"p1897\"]}];\n",
       "  void root.Bokeh.embed.embed_items_notebook(docs_json, render_items);\n",
       "  }\n",
       "  if (root.Bokeh !== undefined) {\n",
       "    embed_document(root);\n",
       "  } else {\n",
       "    let attempts = 0;\n",
       "    const timer = setInterval(function(root) {\n",
       "      if (root.Bokeh !== undefined) {\n",
       "        clearInterval(timer);\n",
       "        embed_document(root);\n",
       "      } else {\n",
       "        attempts++;\n",
       "        if (attempts > 100) {\n",
       "          clearInterval(timer);\n",
       "          console.log(\"Bokeh: ERROR: Unable to run BokehJS code because BokehJS library is missing\");\n",
       "        }\n",
       "      }\n",
       "    }, 10, root)\n",
       "  }\n",
       "})(window);"
      ],
      "application/vnd.bokehjs_exec.v0+json": ""
     },
     "metadata": {
      "application/vnd.bokehjs_exec.v0+json": {
       "id": "p1897"
      }
     },
     "output_type": "display_data"
    },
    {
     "data": {
      "application/vnd.jupyter.widget-view+json": {
       "model_id": "f072ca082b594d60a553cc2aa22dacfb",
       "version_major": 2,
       "version_minor": 0
      },
      "text/plain": [
       "HTML(value='<hr><h1><span style=\"color: #0f0\">18-11-09-12 jump - 🟢 valid - score = 487.55 km/h</span></h1>')"
      ]
     },
     "metadata": {},
     "output_type": "display_data"
    },
    {
     "data": {
      "application/vnd.jupyter.widget-view+json": {
       "model_id": "e0193c5c79e744b8b1ef6cd113b1b472",
       "version_major": 2,
       "version_minor": 0
      },
      "text/plain": [
       "HTML(value='<h3>Max speed = 490; exit at 4134 m (13564 ft), end scoring window at 1878 m (6162 ft)')"
      ]
     },
     "metadata": {},
     "output_type": "display_data"
    },
    {
     "data": {
      "application/vnd.jupyter.widget-view+json": {
       "model_id": "c30d31eb76cd40f5a766fed8be616318",
       "version_major": 2,
       "version_minor": 0
      },
      "text/plain": [
       "HTML(value='</h3>')"
      ]
     },
     "metadata": {},
     "output_type": "display_data"
    },
    {
     "data": {
      "text/html": [
       "<div>\n",
       "<style scoped>\n",
       "    .dataframe tbody tr th:only-of-type {\n",
       "        vertical-align: middle;\n",
       "    }\n",
       "\n",
       "    .dataframe tbody tr th {\n",
       "        vertical-align: top;\n",
       "    }\n",
       "\n",
       "    .dataframe thead th {\n",
       "        text-align: right;\n",
       "    }\n",
       "</style>\n",
       "<table border=\"1\" class=\"dataframe\">\n",
       "  <thead>\n",
       "    <tr style=\"text-align: right;\">\n",
       "      <th></th>\n",
       "      <th>time</th>\n",
       "      <th>vKMh</th>\n",
       "      <th>hKMh</th>\n",
       "      <th>speedAngle</th>\n",
       "      <th>distanceFromExit</th>\n",
       "      <th>altitude (ft)</th>\n",
       "      <th>netVectorKMh</th>\n",
       "    </tr>\n",
       "  </thead>\n",
       "  <tbody>\n",
       "    <tr>\n",
       "      <th></th>\n",
       "      <td>5.0</td>\n",
       "      <td>196</td>\n",
       "      <td>153</td>\n",
       "      <td>52.1</td>\n",
       "      <td>228.800000</td>\n",
       "      <td>13074</td>\n",
       "      <td>249</td>\n",
       "    </tr>\n",
       "    <tr>\n",
       "      <th></th>\n",
       "      <td>10.0</td>\n",
       "      <td>354</td>\n",
       "      <td>105</td>\n",
       "      <td>73.4</td>\n",
       "      <td>399.500000</td>\n",
       "      <td>11700</td>\n",
       "      <td>369</td>\n",
       "    </tr>\n",
       "    <tr>\n",
       "      <th></th>\n",
       "      <td>15.0</td>\n",
       "      <td>444</td>\n",
       "      <td>46</td>\n",
       "      <td>84.1</td>\n",
       "      <td>502.000000</td>\n",
       "      <td>9814</td>\n",
       "      <td>446</td>\n",
       "    </tr>\n",
       "    <tr>\n",
       "      <th></th>\n",
       "      <td>20.0</td>\n",
       "      <td>482</td>\n",
       "      <td>9</td>\n",
       "      <td>88.9</td>\n",
       "      <td>532.200000</td>\n",
       "      <td>7669</td>\n",
       "      <td>482</td>\n",
       "    </tr>\n",
       "    <tr>\n",
       "      <th></th>\n",
       "      <td>25.0</td>\n",
       "      <td>490</td>\n",
       "      <td>25</td>\n",
       "      <td>87.1</td>\n",
       "      <td>512.649492</td>\n",
       "      <td>6194</td>\n",
       "      <td>491</td>\n",
       "    </tr>\n",
       "  </tbody>\n",
       "</table>\n",
       "</div>"
      ],
      "text/plain": [
       "  time  vKMh  hKMh  speedAngle  distanceFromExit  altitude (ft)  netVectorKMh\n",
       "   5.0   196   153        52.1        228.800000          13074           249\n",
       "  10.0   354   105        73.4        399.500000          11700           369\n",
       "  15.0   444    46        84.1        502.000000           9814           446\n",
       "  20.0   482     9        88.9        532.200000           7669           482\n",
       "  25.0   490    25        87.1        512.649492           6194           491"
      ]
     },
     "metadata": {},
     "output_type": "display_data"
    },
    {
     "data": {
      "text/html": [
       "\n",
       "  <div id=\"d8f7103b-b14f-447a-831f-ded19dfc0898\" data-root-id=\"p2040\" style=\"display: contents;\"></div>\n"
      ]
     },
     "metadata": {},
     "output_type": "display_data"
    },
    {
     "data": {
      "application/javascript": [
       "(function(root) {\n",
       "  function embed_document(root) {\n",
       "  const docs_json = {\"a449cc67-3fc6-48e8-84d2-3bfad5aa68af\":{\"version\":\"3.5.2\",\"title\":\"Bokeh Application\",\"roots\":[{\"type\":\"object\",\"name\":\"Figure\",\"id\":\"p2040\",\"attributes\":{\"width\":900,\"height\":500,\"x_range\":{\"type\":\"object\",\"name\":\"Range1d\",\"id\":\"p2050\",\"attributes\":{\"end\":35.0}},\"y_range\":{\"type\":\"object\",\"name\":\"Range1d\",\"id\":\"p2051\",\"attributes\":{\"end\":550.0}},\"x_scale\":{\"type\":\"object\",\"name\":\"LinearScale\",\"id\":\"p2052\"},\"y_scale\":{\"type\":\"object\",\"name\":\"LinearScale\",\"id\":\"p2053\"},\"extra_y_ranges\":{\"type\":\"map\",\"entries\":[[\"altitudeFt\",{\"type\":\"object\",\"name\":\"Range1d\",\"id\":\"p2077\",\"attributes\":{\"start\":5694.193421600001,\"end\":14064.175980000002}}],[\"angle\",{\"type\":\"object\",\"name\":\"Range1d\",\"id\":\"p2078\",\"attributes\":{\"end\":90.0}}]]},\"title\":{\"type\":\"object\",\"name\":\"Title\",\"id\":\"p2043\",\"attributes\":{\"text\":\"18-11-09-12\",\"text_color\":\"#E0E0E0\",\"text_font\":\"Helvetica\",\"text_font_size\":\"1.15em\"}},\"outline_line_color\":\"#E0E0E0\",\"outline_line_alpha\":0.25,\"renderers\":[{\"type\":\"object\",\"name\":\"GlyphRenderer\",\"id\":\"p2093\",\"attributes\":{\"y_range_name\":\"altitudeFt\",\"data_source\":{\"type\":\"object\",\"name\":\"ColumnDataSource\",\"id\":\"p2087\",\"attributes\":{\"selected\":{\"type\":\"object\",\"name\":\"Selection\",\"id\":\"p2088\",\"attributes\":{\"indices\":[],\"line_indices\":[]}},\"selection_policy\":{\"type\":\"object\",\"name\":\"UnionRenderers\",\"id\":\"p2089\"},\"data\":{\"type\":\"map\",\"entries\":[[\"x\",{\"type\":\"ndarray\",\"array\":{\"type\":\"bytes\",\"data\":\"AAAAAAAAAAAAAAAAnJm5PwAAAACamck/AAAAADMz0z8AAAAAmpnZPwAAAAAAAOA/AAAAgDMz4z8AAACAZmbmPwAAAICZmek/AAAAAM3M7D8AAAAAAADwPwAAAMCZmfE/AAAAQDMz8z8AAADAzMz0PwAAAIBmZvY/AAAAAAAA+D8AAADAmZn5PwAAAEAzM/s/AAAAwMzM/D8AAACAZmb+PwAAAAAAAABAAAAA4MzMAEAAAACgmZkBQAAAAGBmZgJAAAAAQDMzA0AAAAAAAAAEQAAAAODMzARAAAAAoJmZBUAAAABgZmYGQAAAAEAzMwdAAAAAAAAACEAAAADgzMwIQAAAAKCZmQlAAAAAYGZmCkAAAABAMzMLQAAAAAAAAAxAAAAA4MzMDEAAAACgmZkNQAAAAGBmZg5AAAAAQDMzD0AAAAAAAAAQQAAAAHBmZhBAAAAA0MzMEEAAAAAwMzMRQAAAAKCZmRFAAAAAAAAAEkAAAABwZmYSQAAAANDMzBJAAAAAMDMzE0AAAACgmZkTQAAAAAAAABRAAAAAcGZmFEAAAADQzMwUQAAAAKCZmRVAAAAAAAAAFkAAAABwZmYWQAAAANDMzBZAAAAAMDMzF0AAAAAAAAAYQAAAAHBmZhhAAAAAMDMzGUAAAACgmZkZQAAAAAAAABpAAAAAcGZmGkAAAAAwMzMbQAAAAKCZmRtAAAAAAAAAHEAAAABwZmYcQAAAANDMzBxAAAAAoJmZHUAAAAAAAAAeQAAAANDMzB5AAAAAMDMzH0AAAACgmZkfQAAAAAAAACBAAAAAaGZmIEAAAACYmZkgQAAAANDMzCBAAAAAAAAAIUAAAAA4MzMhQAAAAJiZmSFAAAAA0MzMIUAAAAAAAAAiQAAAADgzMyJAAAAAmJmZIkAAAADQzMwiQAAAADgzMyNAAAAAaGZmI0AAAACYmZkjQAAAANDMzCNAAAAAAAAAJEAAAABoZmYkQAAAAJiZmSRAAAAA0MzMJEAAAAAAAAAlQAAAAGhmZiVAAAAAmJmZJUAAAADQzMwlQAAAAAAAACZAAAAAODMzJkAAAACYmZkmQAAAANDMzCZAAAAAODMzJ0AAAABoZmYnQAAAAJiZmSdAAAAA0MzMJ0AAAAA4MzMoQAAAAGhmZihAAAAAmJmZKEAAAADQzMwoQAAAAAAAAClAAAAAaGZmKUAAAACYmZkpQAAAAAAAACpAAAAAODMzKkAAAABoZmYqQAAAAJiZmSpAAAAAAAAAK0AAAAA4MzMrQAAAAGhmZitAAAAAmJmZK0AAAADQzMwrQAAAADgzMyxAAAAAaGZmLEAAAACYmZksQAAAANDMzCxAAAAAODMzLUAAAABoZmYtQAAAANDMzC1AAAAAAAAALkAAAAA4MzMuQAAAAGhmZi5AAAAAmJmZLkAAAAAAAAAvQAAAADgzMy9AAAAAaGZmL0AAAACYmZkvQAAAAAAAADBAAAAAnJkZMEAAAADMzEwwQAAAAGhmZjBAAAAAnJmZMEAAAAA0M7MwQAAAAMzMzDBAAAAAaGbmMEAAAACcmRkxQAAAADQzMzFAAAAAaGZmMUAAAAAAAIAxQAAAAJyZmTFAAAAANDOzMUAAAADMzMwxQAAAAAAAADJAAAAAnJkZMkAAAADMzEwyQAAAAGhmZjJAAAAAAACAMkAAAACcmZkyQAAAAMzMzDJAAAAAaGbmMkAAAAAAAAAzQAAAAJyZGTNAAAAANDMzM0AAAADMzEwzQAAAAGhmZjNAAAAAAACAM0AAAAA0M7MzQAAAAGhm5jNAAAAAAAAANEAAAAA0MzM0QAAAAMzMTDRAAAAAaGZmNEAAAAAAAIA0QAAAAJyZmTRAAAAAzMzMNEAAAABoZuY0QAAAAAAAADVAAAAAnJkZNUAAAADMzEw1QAAAAGhmZjVAAAAAAACANUAAAAA0M7M1QAAAAGhm5jVAAAAAAAAANkAAAACcmRk2QAAAADQzMzZAAAAAzMxMNkAAAAAAAIA2QAAAADQzszZAAAAAzMzMNkAAAABoZuY2QAAAAAAAADdAAAAAnJkZN0AAAADMzEw3QA==\"},\"shape\":[194],\"dtype\":\"float64\",\"order\":\"little\"}],[\"y\",{\"type\":\"ndarray\",\"array\":{\"type\":\"bytes\",\"data\":\"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\"},\"shape\":[194],\"dtype\":\"float64\",\"order\":\"little\"}]]}}},\"view\":{\"type\":\"object\",\"name\":\"CDSView\",\"id\":\"p2094\",\"attributes\":{\"filter\":{\"type\":\"object\",\"name\":\"AllIndices\",\"id\":\"p2095\"}}},\"glyph\":{\"type\":\"object\",\"name\":\"Line\",\"id\":\"p2090\",\"attributes\":{\"x\":{\"type\":\"field\",\"field\":\"x\"},\"y\":{\"type\":\"field\",\"field\":\"y\"},\"line_color\":\"palegoldenrod\",\"line_width\":2}},\"nonselection_glyph\":{\"type\":\"object\",\"name\":\"Line\",\"id\":\"p2091\",\"attributes\":{\"x\":{\"type\":\"field\",\"field\":\"x\"},\"y\":{\"type\":\"field\",\"field\":\"y\"},\"line_color\":\"palegoldenrod\",\"line_alpha\":0.1,\"line_width\":2}},\"muted_glyph\":{\"type\":\"object\",\"name\":\"Line\",\"id\":\"p2092\",\"attributes\":{\"x\":{\"type\":\"field\",\"field\":\"x\"},\"y\":{\"type\":\"field\",\"field\":\"y\"},\"line_color\":\"palegoldenrod\",\"line_alpha\":0.2,\"line_width\":2}}}},{\"type\":\"object\",\"name\":\"GlyphRenderer\",\"id\":\"p2104\",\"attributes\":{\"y_range_name\":\"angle\",\"data_source\":{\"type\":\"object\",\"name\":\"ColumnDataSource\",\"id\":\"p2098\",\"attributes\":{\"selected\":{\"type\":\"object\",\"name\":\"Selection\",\"id\":\"p2099\",\"attributes\":{\"indices\":[],\"line_indices\":[]}},\"selection_policy\":{\"type\":\"object\",\"name\":\"UnionRenderers\",\"id\":\"p2100\"},\"data\":{\"type\":\"map\",\"entries\":[[\"x\",{\"type\":\"ndarray\",\"array\":{\"type\":\"bytes\",\"data\":\"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\"},\"shape\":[194],\"dtype\":\"float64\",\"order\":\"little\"}],[\"y\",{\"type\":\"ndarray\",\"array\":{\"type\":\"bytes\",\"data\":\"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\"},\"shape\":[194],\"dtype\":\"float64\",\"order\":\"little\"}]]}}},\"view\":{\"type\":\"object\",\"name\":\"CDSView\",\"id\":\"p2105\",\"attributes\":{\"filter\":{\"type\":\"object\",\"name\":\"AllIndices\",\"id\":\"p2106\"}}},\"glyph\":{\"type\":\"object\",\"name\":\"Line\",\"id\":\"p2101\",\"attributes\":{\"x\":{\"type\":\"field\",\"field\":\"x\"},\"y\":{\"type\":\"field\",\"field\":\"y\"},\"line_color\":\"deepskyblue\",\"line_width\":2}},\"nonselection_glyph\":{\"type\":\"object\",\"name\":\"Line\",\"id\":\"p2102\",\"attributes\":{\"x\":{\"type\":\"field\",\"field\":\"x\"},\"y\":{\"type\":\"field\",\"field\":\"y\"},\"line_color\":\"deepskyblue\",\"line_alpha\":0.1,\"line_width\":2}},\"muted_glyph\":{\"type\":\"object\",\"name\":\"Line\",\"id\":\"p2103\",\"attributes\":{\"x\":{\"type\":\"field\",\"field\":\"x\"},\"y\":{\"type\":\"field\",\"field\":\"y\"},\"line_color\":\"deepskyblue\",\"line_alpha\":0.2,\"line_width\":2}}}},{\"type\":\"object\",\"name\":\"GlyphRenderer\",\"id\":\"p2115\",\"attributes\":{\"data_source\":{\"type\":\"object\",\"name\":\"ColumnDataSource\",\"id\":\"p2109\",\"attributes\":{\"selected\":{\"type\":\"object\",\"name\":\"Selection\",\"id\":\"p2110\",\"attributes\":{\"indices\":[],\"line_indices\":[]}},\"selection_policy\":{\"type\":\"object\",\"name\":\"UnionRenderers\",\"id\":\"p2111\"},\"data\":{\"type\":\"map\",\"entries\":[[\"x\",{\"type\":\"ndarray\",\"array\":{\"type\":\"bytes\",\"data\":\"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\"},\"shape\":[194],\"dtype\":\"float64\",\"order\":\"little\"}],[\"y\",{\"type\":\"ndarray\",\"array\":{\"type\":\"bytes\",\"data\":\"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\"},\"shape\":[194],\"dtype\":\"float64\",\"order\":\"little\"}]]}}},\"view\":{\"type\":\"object\",\"name\":\"CDSView\",\"id\":\"p2116\",\"attributes\":{\"filter\":{\"type\":\"object\",\"name\":\"AllIndices\",\"id\":\"p2117\"}}},\"glyph\":{\"type\":\"object\",\"name\":\"Line\",\"id\":\"p2112\",\"attributes\":{\"x\":{\"type\":\"field\",\"field\":\"x\"},\"y\":{\"type\":\"field\",\"field\":\"y\"},\"line_color\":\"limegreen\",\"line_width\":2}},\"nonselection_glyph\":{\"type\":\"object\",\"name\":\"Line\",\"id\":\"p2113\",\"attributes\":{\"x\":{\"type\":\"field\",\"field\":\"x\"},\"y\":{\"type\":\"field\",\"field\":\"y\"},\"line_color\":\"limegreen\",\"line_alpha\":0.1,\"line_width\":2}},\"muted_glyph\":{\"type\":\"object\",\"name\":\"Line\",\"id\":\"p2114\",\"attributes\":{\"x\":{\"type\":\"field\",\"field\":\"x\"},\"y\":{\"type\":\"field\",\"field\":\"y\"},\"line_color\":\"limegreen\",\"line_alpha\":0.2,\"line_width\":2}}}},{\"type\":\"object\",\"name\":\"GlyphRenderer\",\"id\":\"p2125\",\"attributes\":{\"data_source\":{\"type\":\"object\",\"name\":\"ColumnDataSource\",\"id\":\"p2119\",\"attributes\":{\"selected\":{\"type\":\"object\",\"name\":\"Selection\",\"id\":\"p2120\",\"attributes\":{\"indices\":[],\"line_indices\":[]}},\"selection_policy\":{\"type\":\"object\",\"name\":\"UnionRenderers\",\"id\":\"p2121\"},\"data\":{\"type\":\"map\",\"entries\":[[\"x\",{\"type\":\"ndarray\",\"array\":{\"type\":\"bytes\",\"data\":\"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\"},\"shape\":[194],\"dtype\":\"float64\",\"order\":\"little\"}],[\"y\",{\"type\":\"ndarray\",\"array\":{\"type\":\"bytes\",\"data\":\"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\"},\"shape\":[194],\"dtype\":\"float64\",\"order\":\"little\"}]]}}},\"view\":{\"type\":\"object\",\"name\":\"CDSView\",\"id\":\"p2126\",\"attributes\":{\"filter\":{\"type\":\"object\",\"name\":\"AllIndices\",\"id\":\"p2127\"}}},\"glyph\":{\"type\":\"object\",\"name\":\"Line\",\"id\":\"p2122\",\"attributes\":{\"x\":{\"type\":\"field\",\"field\":\"x\"},\"y\":{\"type\":\"field\",\"field\":\"y\"},\"line_color\":\"red\",\"line_width\":2}},\"nonselection_glyph\":{\"type\":\"object\",\"name\":\"Line\",\"id\":\"p2123\",\"attributes\":{\"x\":{\"type\":\"field\",\"field\":\"x\"},\"y\":{\"type\":\"field\",\"field\":\"y\"},\"line_color\":\"red\",\"line_alpha\":0.1,\"line_width\":2}},\"muted_glyph\":{\"type\":\"object\",\"name\":\"Line\",\"id\":\"p2124\",\"attributes\":{\"x\":{\"type\":\"field\",\"field\":\"x\"},\"y\":{\"type\":\"field\",\"field\":\"y\"},\"line_color\":\"red\",\"line_alpha\":0.2,\"line_width\":2}}}},{\"type\":\"object\",\"name\":\"GlyphRenderer\",\"id\":\"p2135\",\"attributes\":{\"data_source\":{\"type\":\"object\",\"name\":\"ColumnDataSource\",\"id\":\"p2129\",\"attributes\":{\"selected\":{\"type\":\"object\",\"name\":\"Selection\",\"id\":\"p2130\",\"attributes\":{\"indices\":[],\"line_indices\":[]}},\"selection_policy\":{\"type\":\"object\",\"name\":\"UnionRenderers\",\"id\":\"p2131\"},\"data\":{\"type\":\"map\",\"entries\":[[\"x0\",[23.299999952316284]],[\"y0\",[0.0]],[\"x1\",[23.299999952316284]],[\"y1\",[487.54800000000006]]]}}},\"view\":{\"type\":\"object\",\"name\":\"CDSView\",\"id\":\"p2136\",\"attributes\":{\"filter\":{\"type\":\"object\",\"name\":\"AllIndices\",\"id\":\"p2137\"}}},\"glyph\":{\"type\":\"object\",\"name\":\"Segment\",\"id\":\"p2132\",\"attributes\":{\"x0\":{\"type\":\"field\",\"field\":\"x0\"},\"y0\":{\"type\":\"field\",\"field\":\"y0\"},\"x1\":{\"type\":\"field\",\"field\":\"x1\"},\"y1\":{\"type\":\"field\",\"field\":\"y1\"},\"line_color\":{\"type\":\"value\",\"value\":\"lightblue\"},\"line_width\":{\"type\":\"value\",\"value\":3}}},\"nonselection_glyph\":{\"type\":\"object\",\"name\":\"Segment\",\"id\":\"p2133\",\"attributes\":{\"x0\":{\"type\":\"field\",\"field\":\"x0\"},\"y0\":{\"type\":\"field\",\"field\":\"y0\"},\"x1\":{\"type\":\"field\",\"field\":\"x1\"},\"y1\":{\"type\":\"field\",\"field\":\"y1\"},\"line_color\":{\"type\":\"value\",\"value\":\"lightblue\"},\"line_alpha\":{\"type\":\"value\",\"value\":0.1},\"line_width\":{\"type\":\"value\",\"value\":3}}},\"muted_glyph\":{\"type\":\"object\",\"name\":\"Segment\",\"id\":\"p2134\",\"attributes\":{\"x0\":{\"type\":\"field\",\"field\":\"x0\"},\"y0\":{\"type\":\"field\",\"field\":\"y0\"},\"x1\":{\"type\":\"field\",\"field\":\"x1\"},\"y1\":{\"type\":\"field\",\"field\":\"y1\"},\"line_color\":{\"type\":\"value\",\"value\":\"lightblue\"},\"line_alpha\":{\"type\":\"value\",\"value\":0.2},\"line_width\":{\"type\":\"value\",\"value\":3}}}}},{\"type\":\"object\",\"name\":\"GlyphRenderer\",\"id\":\"p2144\",\"attributes\":{\"data_source\":{\"type\":\"object\",\"name\":\"ColumnDataSource\",\"id\":\"p2138\",\"attributes\":{\"selected\":{\"type\":\"object\",\"name\":\"Selection\",\"id\":\"p2139\",\"attributes\":{\"indices\":[],\"line_indices\":[]}},\"selection_policy\":{\"type\":\"object\",\"name\":\"UnionRenderers\",\"id\":\"p2140\"},\"data\":{\"type\":\"map\",\"entries\":[[\"x0\",[24.799999952316284]],[\"y0\",[0.0]],[\"x1\",[24.799999952316284]],[\"y1\",[487.54800000000006]]]}}},\"view\":{\"type\":\"object\",\"name\":\"CDSView\",\"id\":\"p2145\",\"attributes\":{\"filter\":{\"type\":\"object\",\"name\":\"AllIndices\",\"id\":\"p2146\"}}},\"glyph\":{\"type\":\"object\",\"name\":\"Segment\",\"id\":\"p2141\",\"attributes\":{\"x0\":{\"type\":\"field\",\"field\":\"x0\"},\"y0\":{\"type\":\"field\",\"field\":\"y0\"},\"x1\":{\"type\":\"field\",\"field\":\"x1\"},\"y1\":{\"type\":\"field\",\"field\":\"y1\"},\"line_color\":{\"type\":\"value\",\"value\":\"darkseagreen\"}}},\"nonselection_glyph\":{\"type\":\"object\",\"name\":\"Segment\",\"id\":\"p2142\",\"attributes\":{\"x0\":{\"type\":\"field\",\"field\":\"x0\"},\"y0\":{\"type\":\"field\",\"field\":\"y0\"},\"x1\":{\"type\":\"field\",\"field\":\"x1\"},\"y1\":{\"type\":\"field\",\"field\":\"y1\"},\"line_color\":{\"type\":\"value\",\"value\":\"darkseagreen\"},\"line_alpha\":{\"type\":\"value\",\"value\":0.1}}},\"muted_glyph\":{\"type\":\"object\",\"name\":\"Segment\",\"id\":\"p2143\",\"attributes\":{\"x0\":{\"type\":\"field\",\"field\":\"x0\"},\"y0\":{\"type\":\"field\",\"field\":\"y0\"},\"x1\":{\"type\":\"field\",\"field\":\"x1\"},\"y1\":{\"type\":\"field\",\"field\":\"y1\"},\"line_color\":{\"type\":\"value\",\"value\":\"darkseagreen\"},\"line_alpha\":{\"type\":\"value\",\"value\":0.2}}}}},{\"type\":\"object\",\"name\":\"GlyphRenderer\",\"id\":\"p2153\",\"attributes\":{\"data_source\":{\"type\":\"object\",\"name\":\"ColumnDataSource\",\"id\":\"p2147\",\"attributes\":{\"selected\":{\"type\":\"object\",\"name\":\"Selection\",\"id\":\"p2148\",\"attributes\":{\"indices\":[],\"line_indices\":[]}},\"selection_policy\":{\"type\":\"object\",\"name\":\"UnionRenderers\",\"id\":\"p2149\"},\"data\":{\"type\":\"map\",\"entries\":[[\"x0\",[21.799999952316284]],[\"y0\",[0.0]],[\"x1\",[21.799999952316284]],[\"y1\",[487.54800000000006]]]}}},\"view\":{\"type\":\"object\",\"name\":\"CDSView\",\"id\":\"p2154\",\"attributes\":{\"filter\":{\"type\":\"object\",\"name\":\"AllIndices\",\"id\":\"p2155\"}}},\"glyph\":{\"type\":\"object\",\"name\":\"Segment\",\"id\":\"p2150\",\"attributes\":{\"x0\":{\"type\":\"field\",\"field\":\"x0\"},\"y0\":{\"type\":\"field\",\"field\":\"y0\"},\"x1\":{\"type\":\"field\",\"field\":\"x1\"},\"y1\":{\"type\":\"field\",\"field\":\"y1\"},\"line_color\":{\"type\":\"value\",\"value\":\"darkseagreen\"}}},\"nonselection_glyph\":{\"type\":\"object\",\"name\":\"Segment\",\"id\":\"p2151\",\"attributes\":{\"x0\":{\"type\":\"field\",\"field\":\"x0\"},\"y0\":{\"type\":\"field\",\"field\":\"y0\"},\"x1\":{\"type\":\"field\",\"field\":\"x1\"},\"y1\":{\"type\":\"field\",\"field\":\"y1\"},\"line_color\":{\"type\":\"value\",\"value\":\"darkseagreen\"},\"line_alpha\":{\"type\":\"value\",\"value\":0.1}}},\"muted_glyph\":{\"type\":\"object\",\"name\":\"Segment\",\"id\":\"p2152\",\"attributes\":{\"x0\":{\"type\":\"field\",\"field\":\"x0\"},\"y0\":{\"type\":\"field\",\"field\":\"y0\"},\"x1\":{\"type\":\"field\",\"field\":\"x1\"},\"y1\":{\"type\":\"field\",\"field\":\"y1\"},\"line_color\":{\"type\":\"value\",\"value\":\"darkseagreen\"},\"line_alpha\":{\"type\":\"value\",\"value\":0.2}}}}},{\"type\":\"object\",\"name\":\"GlyphRenderer\",\"id\":\"p2162\",\"attributes\":{\"data_source\":{\"type\":\"object\",\"name\":\"ColumnDataSource\",\"id\":\"p2156\",\"attributes\":{\"selected\":{\"type\":\"object\",\"name\":\"Selection\",\"id\":\"p2157\",\"attributes\":{\"indices\":[],\"line_indices\":[]}},\"selection_policy\":{\"type\":\"object\",\"name\":\"UnionRenderers\",\"id\":\"p2158\"},\"data\":{\"type\":\"map\",\"entries\":[[\"x\",[23.299999952316284]],[\"y\",[487.54800000000006]],[\"size\",[20]]]}}},\"view\":{\"type\":\"object\",\"name\":\"CDSView\",\"id\":\"p2163\",\"attributes\":{\"filter\":{\"type\":\"object\",\"name\":\"AllIndices\",\"id\":\"p2164\"}}},\"glyph\":{\"type\":\"object\",\"name\":\"Scatter\",\"id\":\"p2159\",\"attributes\":{\"x\":{\"type\":\"field\",\"field\":\"x\"},\"y\":{\"type\":\"field\",\"field\":\"y\"},\"size\":{\"type\":\"field\",\"field\":\"size\"},\"line_color\":{\"type\":\"value\",\"value\":\"lightblue\"},\"line_width\":{\"type\":\"value\",\"value\":3},\"fill_color\":{\"type\":\"value\",\"value\":null},\"marker\":{\"type\":\"value\",\"value\":\"square_cross\"}}},\"nonselection_glyph\":{\"type\":\"object\",\"name\":\"Scatter\",\"id\":\"p2160\",\"attributes\":{\"x\":{\"type\":\"field\",\"field\":\"x\"},\"y\":{\"type\":\"field\",\"field\":\"y\"},\"size\":{\"type\":\"field\",\"field\":\"size\"},\"line_color\":{\"type\":\"value\",\"value\":\"lightblue\"},\"line_alpha\":{\"type\":\"value\",\"value\":0.1},\"line_width\":{\"type\":\"value\",\"value\":3},\"fill_color\":{\"type\":\"value\",\"value\":null},\"fill_alpha\":{\"type\":\"value\",\"value\":0.1},\"hatch_alpha\":{\"type\":\"value\",\"value\":0.1},\"marker\":{\"type\":\"value\",\"value\":\"square_cross\"}}},\"muted_glyph\":{\"type\":\"object\",\"name\":\"Scatter\",\"id\":\"p2161\",\"attributes\":{\"x\":{\"type\":\"field\",\"field\":\"x\"},\"y\":{\"type\":\"field\",\"field\":\"y\"},\"size\":{\"type\":\"field\",\"field\":\"size\"},\"line_color\":{\"type\":\"value\",\"value\":\"lightblue\"},\"line_alpha\":{\"type\":\"value\",\"value\":0.2},\"line_width\":{\"type\":\"value\",\"value\":3},\"fill_color\":{\"type\":\"value\",\"value\":null},\"fill_alpha\":{\"type\":\"value\",\"value\":0.2},\"hatch_alpha\":{\"type\":\"value\",\"value\":0.2},\"marker\":{\"type\":\"value\",\"value\":\"square_cross\"}}}}}],\"toolbar\":{\"type\":\"object\",\"name\":\"Toolbar\",\"id\":\"p2049\",\"attributes\":{\"tools\":[{\"type\":\"object\",\"name\":\"PanTool\",\"id\":\"p2064\"},{\"type\":\"object\",\"name\":\"WheelZoomTool\",\"id\":\"p2065\",\"attributes\":{\"renderers\":\"auto\"}},{\"type\":\"object\",\"name\":\"BoxZoomTool\",\"id\":\"p2066\",\"attributes\":{\"overlay\":{\"type\":\"object\",\"name\":\"BoxAnnotation\",\"id\":\"p2067\",\"attributes\":{\"syncable\":false,\"line_color\":\"black\",\"line_alpha\":1.0,\"line_width\":2,\"line_dash\":[4,4],\"fill_color\":\"lightgrey\",\"fill_alpha\":0.5,\"level\":\"overlay\",\"visible\":false,\"left\":{\"type\":\"number\",\"value\":\"nan\"},\"right\":{\"type\":\"number\",\"value\":\"nan\"},\"top\":{\"type\":\"number\",\"value\":\"nan\"},\"bottom\":{\"type\":\"number\",\"value\":\"nan\"},\"left_units\":\"canvas\",\"right_units\":\"canvas\",\"top_units\":\"canvas\",\"bottom_units\":\"canvas\",\"handles\":{\"type\":\"object\",\"name\":\"BoxInteractionHandles\",\"id\":\"p2073\",\"attributes\":{\"all\":{\"type\":\"object\",\"name\":\"AreaVisuals\",\"id\":\"p2072\",\"attributes\":{\"fill_color\":\"white\",\"hover_fill_color\":\"lightgray\"}}}}}}}},{\"type\":\"object\",\"name\":\"SaveTool\",\"id\":\"p2074\"},{\"type\":\"object\",\"name\":\"ResetTool\",\"id\":\"p2075\"},{\"type\":\"object\",\"name\":\"HelpTool\",\"id\":\"p2076\"},{\"type\":\"object\",\"name\":\"HoverTool\",\"id\":\"p2108\",\"attributes\":{\"renderers\":\"auto\",\"tooltips\":[[\"Y-val\",\"@y{0.00}\"]]}}]}},\"left\":[{\"type\":\"object\",\"name\":\"LinearAxis\",\"id\":\"p2059\",\"attributes\":{\"ticker\":{\"type\":\"object\",\"name\":\"BasicTicker\",\"id\":\"p2060\",\"attributes\":{\"mantissas\":[1,2,5]}},\"formatter\":{\"type\":\"object\",\"name\":\"BasicTickFormatter\",\"id\":\"p2061\"},\"axis_label\":\"km/h\",\"axis_label_standoff\":10,\"axis_label_text_color\":\"#E0E0E0\",\"axis_label_text_font\":\"Helvetica\",\"axis_label_text_font_size\":\"1.25em\",\"axis_label_text_font_style\":\"normal\",\"major_label_policy\":{\"type\":\"object\",\"name\":\"AllLabels\",\"id\":\"p2062\"},\"major_label_text_color\":\"#E0E0E0\",\"major_label_text_font\":\"Helvetica\",\"major_label_text_font_size\":\"1.025em\",\"axis_line_color\":\"#E0E0E0\",\"axis_line_alpha\":0,\"major_tick_line_color\":\"#E0E0E0\",\"major_tick_line_alpha\":0,\"minor_tick_line_color\":\"#E0E0E0\",\"minor_tick_line_alpha\":0}},{\"type\":\"object\",\"name\":\"LinearAxis\",\"id\":\"p2079\",\"attributes\":{\"y_range_name\":\"altitudeFt\",\"ticker\":{\"type\":\"object\",\"name\":\"BasicTicker\",\"id\":\"p2080\",\"attributes\":{\"mantissas\":[1,2,5]}},\"formatter\":{\"type\":\"object\",\"name\":\"BasicTickFormatter\",\"id\":\"p2081\"},\"axis_label\":\"Alt (ft)\",\"axis_label_standoff\":10,\"axis_label_text_color\":\"#E0E0E0\",\"axis_label_text_font\":\"Helvetica\",\"axis_label_text_font_size\":\"1.25em\",\"axis_label_text_font_style\":\"normal\",\"major_label_policy\":{\"type\":\"object\",\"name\":\"AllLabels\",\"id\":\"p2082\"},\"major_label_text_color\":\"#E0E0E0\",\"major_label_text_font\":\"Helvetica\",\"major_label_text_font_size\":\"1.025em\",\"axis_line_color\":\"#E0E0E0\",\"axis_line_alpha\":0,\"major_tick_line_color\":\"#E0E0E0\",\"major_tick_line_alpha\":0,\"minor_tick_line_color\":\"#E0E0E0\",\"minor_tick_line_alpha\":0}},{\"type\":\"object\",\"name\":\"LinearAxis\",\"id\":\"p2083\",\"attributes\":{\"y_range_name\":\"angle\",\"ticker\":{\"type\":\"object\",\"name\":\"BasicTicker\",\"id\":\"p2084\",\"attributes\":{\"mantissas\":[1,2,5]}},\"formatter\":{\"type\":\"object\",\"name\":\"BasicTickFormatter\",\"id\":\"p2085\"},\"axis_label\":\"angle\",\"axis_label_standoff\":10,\"axis_label_text_color\":\"#E0E0E0\",\"axis_label_text_font\":\"Helvetica\",\"axis_label_text_font_size\":\"1.25em\",\"axis_label_text_font_style\":\"normal\",\"major_label_policy\":{\"type\":\"object\",\"name\":\"AllLabels\",\"id\":\"p2086\"},\"major_label_text_color\":\"#E0E0E0\",\"major_label_text_font\":\"Helvetica\",\"major_label_text_font_size\":\"1.025em\",\"axis_line_color\":\"#E0E0E0\",\"axis_line_alpha\":0,\"major_tick_line_color\":\"#E0E0E0\",\"major_tick_line_alpha\":0,\"minor_tick_line_color\":\"#E0E0E0\",\"minor_tick_line_alpha\":0}}],\"below\":[{\"type\":\"object\",\"name\":\"LinearAxis\",\"id\":\"p2054\",\"attributes\":{\"ticker\":{\"type\":\"object\",\"name\":\"BasicTicker\",\"id\":\"p2055\",\"attributes\":{\"mantissas\":[1,2,5]}},\"formatter\":{\"type\":\"object\",\"name\":\"BasicTickFormatter\",\"id\":\"p2056\"},\"axis_label\":\"seconds from exit\",\"axis_label_standoff\":10,\"axis_label_text_color\":\"#E0E0E0\",\"axis_label_text_font\":\"Helvetica\",\"axis_label_text_font_size\":\"1.25em\",\"axis_label_text_font_style\":\"normal\",\"major_label_policy\":{\"type\":\"object\",\"name\":\"AllLabels\",\"id\":\"p2057\"},\"major_label_text_color\":\"#E0E0E0\",\"major_label_text_font\":\"Helvetica\",\"major_label_text_font_size\":\"1.025em\",\"axis_line_color\":\"#E0E0E0\",\"axis_line_alpha\":0,\"major_tick_line_color\":\"#E0E0E0\",\"major_tick_line_alpha\":0,\"minor_tick_line_color\":\"#E0E0E0\",\"minor_tick_line_alpha\":0}}],\"center\":[{\"type\":\"object\",\"name\":\"Grid\",\"id\":\"p2058\",\"attributes\":{\"axis\":{\"id\":\"p2054\"},\"grid_line_color\":\"#E0E0E0\",\"grid_line_alpha\":0.25}},{\"type\":\"object\",\"name\":\"Grid\",\"id\":\"p2063\",\"attributes\":{\"dimension\":1,\"axis\":{\"id\":\"p2059\"},\"grid_line_color\":\"#E0E0E0\",\"grid_line_alpha\":0.25}},{\"type\":\"object\",\"name\":\"Legend\",\"id\":\"p2096\",\"attributes\":{\"border_line_alpha\":0,\"background_fill_color\":\"#20262B\",\"background_fill_alpha\":0.25,\"label_text_color\":\"#E0E0E0\",\"label_text_font\":\"Helvetica\",\"label_text_font_size\":\"1.025em\",\"label_standoff\":8,\"glyph_width\":15,\"spacing\":8,\"items\":[{\"type\":\"object\",\"name\":\"LegendItem\",\"id\":\"p2097\",\"attributes\":{\"label\":{\"type\":\"value\",\"value\":\"Alt (ft)\"},\"renderers\":[{\"id\":\"p2093\"}]}},{\"type\":\"object\",\"name\":\"LegendItem\",\"id\":\"p2107\",\"attributes\":{\"label\":{\"type\":\"value\",\"value\":\"angle\"},\"renderers\":[{\"id\":\"p2104\"}]}},{\"type\":\"object\",\"name\":\"LegendItem\",\"id\":\"p2118\",\"attributes\":{\"label\":{\"type\":\"value\",\"value\":\"speed\"},\"renderers\":[{\"id\":\"p2115\"}]}},{\"type\":\"object\",\"name\":\"LegendItem\",\"id\":\"p2128\",\"attributes\":{\"label\":{\"type\":\"value\",\"value\":\"H-speed\"},\"renderers\":[{\"id\":\"p2125\"}]}}]}}],\"background_fill_color\":\"#20262B\",\"border_fill_color\":\"#15191C\"}}]}};\n",
       "  const render_items = [{\"docid\":\"a449cc67-3fc6-48e8-84d2-3bfad5aa68af\",\"roots\":{\"p2040\":\"d8f7103b-b14f-447a-831f-ded19dfc0898\"},\"root_ids\":[\"p2040\"]}];\n",
       "  void root.Bokeh.embed.embed_items_notebook(docs_json, render_items);\n",
       "  }\n",
       "  if (root.Bokeh !== undefined) {\n",
       "    embed_document(root);\n",
       "  } else {\n",
       "    let attempts = 0;\n",
       "    const timer = setInterval(function(root) {\n",
       "      if (root.Bokeh !== undefined) {\n",
       "        clearInterval(timer);\n",
       "        embed_document(root);\n",
       "      } else {\n",
       "        attempts++;\n",
       "        if (attempts > 100) {\n",
       "          clearInterval(timer);\n",
       "          console.log(\"Bokeh: ERROR: Unable to run BokehJS code because BokehJS library is missing\");\n",
       "        }\n",
       "      }\n",
       "    }, 10, root)\n",
       "  }\n",
       "})(window);"
      ],
      "application/vnd.bokehjs_exec.v0+json": ""
     },
     "metadata": {
      "application/vnd.bokehjs_exec.v0+json": {
       "id": "p2040"
      }
     },
     "output_type": "display_data"
    }
   ],
   "source": [
    "allJumpsPlot = initializePlot('All jumps in set')\n",
    "jumpNumber = 0\n",
    "mixColor = 0\n",
    "for resultRef in sorted(jumpResults.keys()):\n",
    "    jumpResult = jumpResults[resultRef]\n",
    "    if jumpResult.score > 0.0:\n",
    "        validJumpStatus = '<hr><h1><span style=\"color: %s\">%s jump - %s - score = %.02f km/h</span></h1>' % (jumpResult.color, resultRef, jumpResult.result, jumpResult.score)        \n",
    "    else:\n",
    "        validJumpStatus = '<hr><h1><span style=\"color: %s\">%s jump - %s</span></h1>' % (jumpResult.color, resultRef, jumpResult.result)\n",
    "    display(widgets.HTML(validJumpStatus))\n",
    "\n",
    "    maxSpeed = jumpResult.maxSpeed\n",
    "    window = jumpResult.window\n",
    "    mixColor = (mixColor+1)%len(SPEED_COLORS)\n",
    "    if jumpResult.score > 0.0:\n",
    "        display(widgets.HTML('<h3>Max speed = {0:,.0f}; '.format(maxSpeed)+('exit at %d m (%d ft), end scoring window at %d m (%d ft)'%(window.start, 3.2808*window.start, window.end, 3.2808*window.end))))\n",
    "        if not isValidMinimumAltitude(jumpResult.data.altitudeAGL.max()):\n",
    "            display(widgets.HTML('<span style=\"color: yellow\"><span style=\"font-weight: bold\">Warning:</span> exit altitude ASL was lower than the minimum scoring altitude according to IPC and USPA.'))\n",
    "        display(widgets.HTML('</h3>'))\n",
    "        # TODO: Move this to an in-notebook function or module.\n",
    "        displayJumpDataIn(jumpResult.table)\n",
    "        individualPlot = initializePlot(resultRef)\n",
    "        individualPlot = initializeExtraYRanges(individualPlot, startY = min(jumpResult.data.altitudeAGLFt)-500.0, endY = max(jumpResult.data.altitudeAGLFt)+500.0)\n",
    "        graphAltitude(individualPlot, jumpResult)\n",
    "        graphAngle(individualPlot, jumpResult)\n",
    "        hoverValue = bm.HoverTool(tooltips = [ ('Y-val', '@y{0.00}'), ])\n",
    "        individualPlot.add_tools(hoverValue)\n",
    "        graphJumpResult(individualPlot,\n",
    "                        jumpResult,\n",
    "                        lineColor = SPEED_COLORS[0])\n",
    "        graphJumpResult(allJumpsPlot,\n",
    "                        jumpResult,\n",
    "                        lineColor = SPEED_COLORS[mixColor],\n",
    "                        legend = '%s - %.2f' % (resultRef, jumpResult.score),\n",
    "                        showIt = False)"
   ]
  },
  {
   "attachments": {},
   "cell_type": "markdown",
   "id": "a5d31990-f5c2-43d9-817b-b50a35740834",
   "metadata": {},
   "source": [
    "---\n",
    "## Summary of all speed skydives in the data lake"
   ]
  },
  {
   "cell_type": "markdown",
   "id": "491440ae-2efa-47fa-856c-25825a6fa4de",
   "metadata": {},
   "source": [
    "**<a href='https://intimescoring.com/Results/EventResults?dbid=100&mid=1074&smid=0&mdcid=1273&dseid=0' target='_blank'>InTime Scoring - 2024 USPA Speed Open results</a>**"
   ]
  },
  {
   "cell_type": "code",
   "execution_count": 13,
   "id": "17991fcf-e215-4a53-a6ff-d9a64cbafd94",
   "metadata": {
    "jupyter": {
     "source_hidden": true
    }
   },
   "outputs": [
    {
     "data": {
      "text/html": [
       "<div>\n",
       "<style scoped>\n",
       "    .dataframe tbody tr th:only-of-type {\n",
       "        vertical-align: middle;\n",
       "    }\n",
       "\n",
       "    .dataframe tbody tr th {\n",
       "        vertical-align: top;\n",
       "    }\n",
       "\n",
       "    .dataframe thead th {\n",
       "        text-align: right;\n",
       "    }\n",
       "</style>\n",
       "<table border=\"1\" class=\"dataframe\">\n",
       "  <thead>\n",
       "    <tr style=\"text-align: right;\">\n",
       "      <th></th>\n",
       "      <th>score</th>\n",
       "      <th>5.0</th>\n",
       "      <th>10.0</th>\n",
       "      <th>15.0</th>\n",
       "      <th>20.0</th>\n",
       "      <th>25.0</th>\n",
       "      <th>finalTime</th>\n",
       "      <th>maxSpeed</th>\n",
       "    </tr>\n",
       "  </thead>\n",
       "  <tbody>\n",
       "    <tr>\n",
       "      <th>17-07-46-08</th>\n",
       "      <td>484</td>\n",
       "      <td>187</td>\n",
       "      <td>331</td>\n",
       "      <td>427</td>\n",
       "      <td>477</td>\n",
       "      <td>482</td>\n",
       "      <td>24.1</td>\n",
       "      <td>486</td>\n",
       "    </tr>\n",
       "    <tr>\n",
       "      <th>17-09-22-50</th>\n",
       "      <td>486</td>\n",
       "      <td>177</td>\n",
       "      <td>329</td>\n",
       "      <td>432</td>\n",
       "      <td>472</td>\n",
       "      <td>485</td>\n",
       "      <td>24.2</td>\n",
       "      <td>488</td>\n",
       "    </tr>\n",
       "    <tr>\n",
       "      <th>17-10-55-36</th>\n",
       "      <td>478</td>\n",
       "      <td>183</td>\n",
       "      <td>328</td>\n",
       "      <td>423</td>\n",
       "      <td>472</td>\n",
       "      <td>476</td>\n",
       "      <td>24.3</td>\n",
       "      <td>479</td>\n",
       "    </tr>\n",
       "    <tr>\n",
       "      <th>17-12-28-15</th>\n",
       "      <td>486</td>\n",
       "      <td>178</td>\n",
       "      <td>316</td>\n",
       "      <td>415</td>\n",
       "      <td>473</td>\n",
       "      <td>488</td>\n",
       "      <td>24.7</td>\n",
       "      <td>489</td>\n",
       "    </tr>\n",
       "    <tr>\n",
       "      <th>17-13-56-25</th>\n",
       "      <td>472</td>\n",
       "      <td>187</td>\n",
       "      <td>334</td>\n",
       "      <td>422</td>\n",
       "      <td>473</td>\n",
       "      <td>457</td>\n",
       "      <td>24.3</td>\n",
       "      <td>474</td>\n",
       "    </tr>\n",
       "    <tr>\n",
       "      <th>18-07-42-08</th>\n",
       "      <td>478</td>\n",
       "      <td>186</td>\n",
       "      <td>333</td>\n",
       "      <td>426</td>\n",
       "      <td>469</td>\n",
       "      <td>477</td>\n",
       "      <td>24.2</td>\n",
       "      <td>481</td>\n",
       "    </tr>\n",
       "    <tr>\n",
       "      <th>18-09-22-56</th>\n",
       "      <td>473</td>\n",
       "      <td>178</td>\n",
       "      <td>331</td>\n",
       "      <td>426</td>\n",
       "      <td>467</td>\n",
       "      <td>471</td>\n",
       "      <td>24.6</td>\n",
       "      <td>476</td>\n",
       "    </tr>\n",
       "    <tr>\n",
       "      <th>18-11-09-12</th>\n",
       "      <td>488</td>\n",
       "      <td>196</td>\n",
       "      <td>354</td>\n",
       "      <td>444</td>\n",
       "      <td>482</td>\n",
       "      <td>490</td>\n",
       "      <td>23.3</td>\n",
       "      <td>490</td>\n",
       "    </tr>\n",
       "  </tbody>\n",
       "</table>\n",
       "</div>"
      ],
      "text/plain": [
       "             score  5.0  10.0  15.0  20.0  25.0  finalTime  maxSpeed\n",
       "17-07-46-08    484  187   331   427   477   482       24.1       486\n",
       "17-09-22-50    486  177   329   432   472   485       24.2       488\n",
       "17-10-55-36    478  183   328   423   472   476       24.3       479\n",
       "17-12-28-15    486  178   316   415   473   488       24.7       489\n",
       "17-13-56-25    472  187   334   422   473   457       24.3       474\n",
       "18-07-42-08    478  186   333   426   469   477       24.2       481\n",
       "18-09-22-56    473  178   331   426   467   471       24.6       476\n",
       "18-11-09-12    488  196   354   444   482   490       23.3       490"
      ]
     },
     "metadata": {},
     "output_type": "display_data"
    },
    {
     "data": {
      "text/html": [
       "<div>\n",
       "<style scoped>\n",
       "    .dataframe tbody tr th:only-of-type {\n",
       "        vertical-align: middle;\n",
       "    }\n",
       "\n",
       "    .dataframe tbody tr th {\n",
       "        vertical-align: top;\n",
       "    }\n",
       "\n",
       "    .dataframe thead th {\n",
       "        text-align: right;\n",
       "    }\n",
       "</style>\n",
       "<table border=\"1\" class=\"dataframe\">\n",
       "  <thead>\n",
       "    <tr style=\"text-align: right;\">\n",
       "      <th></th>\n",
       "      <th>totalSpeed</th>\n",
       "      <th>meanSpeed</th>\n",
       "      <th>maxScore</th>\n",
       "    </tr>\n",
       "  </thead>\n",
       "  <tbody>\n",
       "    <tr>\n",
       "      <th>totalSpeed</th>\n",
       "      <td>3845.001034</td>\n",
       "      <td>480.625129</td>\n",
       "      <td>487.548</td>\n",
       "    </tr>\n",
       "  </tbody>\n",
       "</table>\n",
       "</div>"
      ],
      "text/plain": [
       "             totalSpeed   meanSpeed  maxScore\n",
       "totalSpeed  3845.001034  480.625129   487.548"
      ]
     },
     "metadata": {},
     "output_type": "display_data"
    },
    {
     "data": {
      "text/html": [
       "\n",
       "  <div id=\"d3a6d093-34df-4338-9f72-0ad82a87ddd0\" data-root-id=\"p1001\" style=\"display: contents;\"></div>\n"
      ]
     },
     "metadata": {},
     "output_type": "display_data"
    },
    {
     "data": {
      "application/javascript": [
       "(function(root) {\n",
       "  function embed_document(root) {\n",
       "  const docs_json = {\"7fe07289-b3f3-4dcb-acc1-47760c91864e\":{\"version\":\"3.5.2\",\"title\":\"Bokeh Application\",\"roots\":[{\"type\":\"object\",\"name\":\"Figure\",\"id\":\"p1001\",\"attributes\":{\"width\":900,\"height\":500,\"x_range\":{\"type\":\"object\",\"name\":\"Range1d\",\"id\":\"p1011\",\"attributes\":{\"end\":35.0}},\"y_range\":{\"type\":\"object\",\"name\":\"Range1d\",\"id\":\"p1012\",\"attributes\":{\"end\":550.0}},\"x_scale\":{\"type\":\"object\",\"name\":\"LinearScale\",\"id\":\"p1013\"},\"y_scale\":{\"type\":\"object\",\"name\":\"LinearScale\",\"id\":\"p1014\"},\"title\":{\"type\":\"object\",\"name\":\"Title\",\"id\":\"p1004\",\"attributes\":{\"text\":\"All jumps in set\",\"text_color\":\"#E0E0E0\",\"text_font\":\"Helvetica\",\"text_font_size\":\"1.15em\"}},\"outline_line_color\":\"#E0E0E0\",\"outline_line_alpha\":0.25,\"renderers\":[{\"type\":\"object\",\"name\":\"GlyphRenderer\",\"id\":\"p1177\",\"attributes\":{\"data_source\":{\"type\":\"object\",\"name\":\"ColumnDataSource\",\"id\":\"p1171\",\"attributes\":{\"selected\":{\"type\":\"object\",\"name\":\"Selection\",\"id\":\"p1172\",\"attributes\":{\"indices\":[],\"line_indices\":[]}},\"selection_policy\":{\"type\":\"object\",\"name\":\"UnionRenderers\",\"id\":\"p1173\"},\"data\":{\"type\":\"map\",\"entries\":[[\"x\",{\"type\":\"ndarray\",\"array\":{\"type\":\"bytes\",\"data\":\"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\"},\"shape\":[197],\"dtype\":\"float64\",\"order\":\"little\"}],[\"y\",{\"type\":\"ndarray\",\"array\":{\"type\":\"bytes\",\"data\":\"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\"},\"shape\":[197],\"dtype\":\"float64\",\"order\":\"little\"}]]}}},\"view\":{\"type\":\"object\",\"name\":\"CDSView\",\"id\":\"p1178\",\"attributes\":{\"filter\":{\"type\":\"object\",\"name\":\"AllIndices\",\"id\":\"p1179\"}}},\"glyph\":{\"type\":\"object\",\"name\":\"Line\",\"id\":\"p1174\",\"attributes\":{\"x\":{\"type\":\"field\",\"field\":\"x\"},\"y\":{\"type\":\"field\",\"field\":\"y\"},\"line_color\":\"blue\",\"line_width\":2}},\"nonselection_glyph\":{\"type\":\"object\",\"name\":\"Line\",\"id\":\"p1175\",\"attributes\":{\"x\":{\"type\":\"field\",\"field\":\"x\"},\"y\":{\"type\":\"field\",\"field\":\"y\"},\"line_color\":\"blue\",\"line_alpha\":0.1,\"line_width\":2}},\"muted_glyph\":{\"type\":\"object\",\"name\":\"Line\",\"id\":\"p1176\",\"attributes\":{\"x\":{\"type\":\"field\",\"field\":\"x\"},\"y\":{\"type\":\"field\",\"field\":\"y\"},\"line_color\":\"blue\",\"line_alpha\":0.2,\"line_width\":2}}}},{\"type\":\"object\",\"name\":\"GlyphRenderer\",\"id\":\"p1321\",\"attributes\":{\"data_source\":{\"type\":\"object\",\"name\":\"ColumnDataSource\",\"id\":\"p1315\",\"attributes\":{\"selected\":{\"type\":\"object\",\"name\":\"Selection\",\"id\":\"p1316\",\"attributes\":{\"indices\":[],\"line_indices\":[]}},\"selection_policy\":{\"type\":\"object\",\"name\":\"UnionRenderers\",\"id\":\"p1317\"},\"data\":{\"type\":\"map\",\"entries\":[[\"x\",{\"type\":\"ndarray\",\"array\":{\"type\":\"bytes\",\"data\":\"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\"},\"shape\":[199],\"dtype\":\"float64\",\"order\":\"little\"}],[\"y\",{\"type\":\"ndarray\",\"array\":{\"type\":\"bytes\",\"data\":\"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\"},\"shape\":[199],\"dtype\":\"float64\",\"order\":\"little\"}]]}}},\"view\":{\"type\":\"object\",\"name\":\"CDSView\",\"id\":\"p1322\",\"attributes\":{\"filter\":{\"type\":\"object\",\"name\":\"AllIndices\",\"id\":\"p1323\"}}},\"glyph\":{\"type\":\"object\",\"name\":\"Line\",\"id\":\"p1318\",\"attributes\":{\"x\":{\"type\":\"field\",\"field\":\"x\"},\"y\":{\"type\":\"field\",\"field\":\"y\"},\"line_color\":\"tomato\",\"line_width\":2}},\"nonselection_glyph\":{\"type\":\"object\",\"name\":\"Line\",\"id\":\"p1319\",\"attributes\":{\"x\":{\"type\":\"field\",\"field\":\"x\"},\"y\":{\"type\":\"field\",\"field\":\"y\"},\"line_color\":\"tomato\",\"line_alpha\":0.1,\"line_width\":2}},\"muted_glyph\":{\"type\":\"object\",\"name\":\"Line\",\"id\":\"p1320\",\"attributes\":{\"x\":{\"type\":\"field\",\"field\":\"x\"},\"y\":{\"type\":\"field\",\"field\":\"y\"},\"line_color\":\"tomato\",\"line_alpha\":0.2,\"line_width\":2}}}},{\"type\":\"object\",\"name\":\"GlyphRenderer\",\"id\":\"p1464\",\"attributes\":{\"data_source\":{\"type\":\"object\",\"name\":\"ColumnDataSource\",\"id\":\"p1458\",\"attributes\":{\"selected\":{\"type\":\"object\",\"name\":\"Selection\",\"id\":\"p1459\",\"attributes\":{\"indices\":[],\"line_indices\":[]}},\"selection_policy\":{\"type\":\"object\",\"name\":\"UnionRenderers\",\"id\":\"p1460\"},\"data\":{\"type\":\"map\",\"entries\":[[\"x\",{\"type\":\"ndarray\",\"array\":{\"type\":\"bytes\",\"data\":\"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\"},\"shape\":[193],\"dtype\":\"float64\",\"order\":\"little\"}],[\"y\",{\"type\":\"ndarray\",\"array\":{\"type\":\"bytes\",\"data\":\"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\"},\"shape\":[193],\"dtype\":\"float64\",\"order\":\"little\"}]]}}},\"view\":{\"type\":\"object\",\"name\":\"CDSView\",\"id\":\"p1465\",\"attributes\":{\"filter\":{\"type\":\"object\",\"name\":\"AllIndices\",\"id\":\"p1466\"}}},\"glyph\":{\"type\":\"object\",\"name\":\"Line\",\"id\":\"p1461\",\"attributes\":{\"x\":{\"type\":\"field\",\"field\":\"x\"},\"y\":{\"type\":\"field\",\"field\":\"y\"},\"line_color\":\"turquoise\",\"line_width\":2}},\"nonselection_glyph\":{\"type\":\"object\",\"name\":\"Line\",\"id\":\"p1462\",\"attributes\":{\"x\":{\"type\":\"field\",\"field\":\"x\"},\"y\":{\"type\":\"field\",\"field\":\"y\"},\"line_color\":\"turquoise\",\"line_alpha\":0.1,\"line_width\":2}},\"muted_glyph\":{\"type\":\"object\",\"name\":\"Line\",\"id\":\"p1463\",\"attributes\":{\"x\":{\"type\":\"field\",\"field\":\"x\"},\"y\":{\"type\":\"field\",\"field\":\"y\"},\"line_color\":\"turquoise\",\"line_alpha\":0.2,\"line_width\":2}}}},{\"type\":\"object\",\"name\":\"GlyphRenderer\",\"id\":\"p1607\",\"attributes\":{\"data_source\":{\"type\":\"object\",\"name\":\"ColumnDataSource\",\"id\":\"p1601\",\"attributes\":{\"selected\":{\"type\":\"object\",\"name\":\"Selection\",\"id\":\"p1602\",\"attributes\":{\"indices\":[],\"line_indices\":[]}},\"selection_policy\":{\"type\":\"object\",\"name\":\"UnionRenderers\",\"id\":\"p1603\"},\"data\":{\"type\":\"map\",\"entries\":[[\"x\",{\"type\":\"ndarray\",\"array\":{\"type\":\"bytes\",\"data\":\"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\"},\"shape\":[203],\"dtype\":\"float64\",\"order\":\"little\"}],[\"y\",{\"type\":\"ndarray\",\"array\":{\"type\":\"bytes\",\"data\":\"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\"},\"shape\":[203],\"dtype\":\"float64\",\"order\":\"little\"}]]}}},\"view\":{\"type\":\"object\",\"name\":\"CDSView\",\"id\":\"p1608\",\"attributes\":{\"filter\":{\"type\":\"object\",\"name\":\"AllIndices\",\"id\":\"p1609\"}}},\"glyph\":{\"type\":\"object\",\"name\":\"Line\",\"id\":\"p1604\",\"attributes\":{\"x\":{\"type\":\"field\",\"field\":\"x\"},\"y\":{\"type\":\"field\",\"field\":\"y\"},\"line_color\":\"deepskyblue\",\"line_width\":2}},\"nonselection_glyph\":{\"type\":\"object\",\"name\":\"Line\",\"id\":\"p1605\",\"attributes\":{\"x\":{\"type\":\"field\",\"field\":\"x\"},\"y\":{\"type\":\"field\",\"field\":\"y\"},\"line_color\":\"deepskyblue\",\"line_alpha\":0.1,\"line_width\":2}},\"muted_glyph\":{\"type\":\"object\",\"name\":\"Line\",\"id\":\"p1606\",\"attributes\":{\"x\":{\"type\":\"field\",\"field\":\"x\"},\"y\":{\"type\":\"field\",\"field\":\"y\"},\"line_color\":\"deepskyblue\",\"line_alpha\":0.2,\"line_width\":2}}}},{\"type\":\"object\",\"name\":\"GlyphRenderer\",\"id\":\"p1750\",\"attributes\":{\"data_source\":{\"type\":\"object\",\"name\":\"ColumnDataSource\",\"id\":\"p1744\",\"attributes\":{\"selected\":{\"type\":\"object\",\"name\":\"Selection\",\"id\":\"p1745\",\"attributes\":{\"indices\":[],\"line_indices\":[]}},\"selection_policy\":{\"type\":\"object\",\"name\":\"UnionRenderers\",\"id\":\"p1746\"},\"data\":{\"type\":\"map\",\"entries\":[[\"x\",{\"type\":\"ndarray\",\"array\":{\"type\":\"bytes\",\"data\":\"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\"},\"shape\":[189],\"dtype\":\"float64\",\"order\":\"little\"}],[\"y\",{\"type\":\"ndarray\",\"array\":{\"type\":\"bytes\",\"data\":\"dZMYBFYOGUD6fmq8dJMiQBFYObTIdiZAXI/C9ShcK0AGgZVDi2wxQAisHFpkOzRAIbByaJFtNkBV46WbxCA5QJduEoPAyjtAjpduEoPAP0CLbOf7qbFBQKJFtvP9VENAd76fGi8dRUAL16NwPQpHQDm0yHa+n0hAN4lBYOVQSkA+CtejcP1LQHe+nxovHU5APzVeukksUECmm8QgsBJRQLtJDAIrJ1JAMQisHFoEU0CJQWDl0IJUQAIrhxbZ7lVA3iQGgZUjV0ArhxbZzhdYQKJFtvP99FhACKwcWmTbWUBCYOXQIttaQFYOLbKd71tAc2iR7Xz/XEC8dJMYBPZdQO58PzVe+l5AHoXrUbj+X0C0yHa+n3pgQO58PzVe6mBAEoPAyqFlYUAzMzMzM+NhQG3n+6nxUmJAqvHSTWLAYkD8qfHSTSJjQD4K16NwjWNAarx0kxgEZECsHFpkO29kQPhT46Wb1GRAI9v5fmpMZUBI4XoUrsdlQIPAyqFFNmZA2KNwPQqXZkAj2/l+avxmQFyPwvUobGdAyXa+nxpPaEAL16NwPbpoQJzEILByiGlA/tR46SbhaUBxPQrXo8BqQAwCK4cWiWtAc2iR7Xzfa0AZBFYOLaJsQIgW2c7382xA6iYxCKxMbUA5tMh2vq9tQH9qvHSTGG5AF9nO91PjbkBJ4XoUrldvQOxRuB6FE3BARbbz/dRwcEDufD81XqJwQBFYObTI1nBAObTIdr4HcUBkO99PjTdxQMHKoUW2k3FA7FG4HoXDcUBSuB6F6xlyQDEIrBxadHJA30+Nl26ickBKDAIrh/ZyQIGVQ4tsH3NAqMZLN4lRc0BeukkMAntzQBFYObTIpnNAAiuHFtn2c0AxCKwcWiR0QClcj8L1cHRAEoPAyqHFdEDeJAaBleN0QKJFtvP9BHVAYxBYObQodUCgGi/dJE51QJZDi2znm3VASgwCK4fGdUC/nxov3RR2QP7UeOkmOXZAuR6F61FgdkD8qfHSTYJ2QG3n+6nx0nZAMN0kBoH1dkA5tMh2vjd3QPyp8dJNWndADAIrhxaZd0DeJAaBlbN3QPCnxks38XdAuR6F61EQeECIFtnO9yt4QFYOLbKdR3hAi2zn+6lxeEBpke18P4V4QGQ730+Nz3hAPgrXo3DleEB1kxgEVg55QOSlm8QgGHlAppvEILA6eUCLbOf7qUl5QMUgsHJocXlAppvEILCCeUDqJjEIrKR5QNEi2/l+snlA8tJNYhDoeUDP91Pjpft5QHsUrkfhKnpA1XjpJjFAekASg8DKoWV6QGmR7Xw/fXpAs53vp8abekBqvHSTGMR6QDm0yHa+33pAoBov3STuekACK4cW2f56QM/3U+OlG3tAIbByaJE1e0B7FK5H4Up7QDm0yHa+b3tAlkOLbOeDe0D+1HjpJpF7QOomMQisnHtAMzMzMzO7e0AMAiuHFtF7QFXjpZvE8HtAKVyPwvUIfEAL16NwPRp8QPCnxks3KXxAy6FFtvM9fEB9PzVeuml8QGq8dJMYdHxAUrgeheuBfEC8dJMYBI58QAIrhxbZrnxA5tAi2/m+fEC8dJMYBNZ8QDIIrBxa3HxAiBbZzvfzfEBuEoPAygF9QD4K16NwHX1A/Knx0k1CfUBh5dAi21F9QCcxCKwccn1AFa5H4Xp8fUB/arx0k4h9QOXQItv5ln1A5dAi2/mWfUCamZmZmXl9QJ7vp8ZLd31Aku18PzV+fUCClUOLbId9QG3n+6nxkn1Aa7x0kxiUfUDx0k1iEJB9QPlT46WbjH1AYeXQItuZfUDUeOkmMaB9QAIrhxbZhn1AHVpkO993fUAzMzMzM2t9QLgehetRaH1Atch2vp9qfUDSItv5flp9QOtRuB6FS31AHoXrUbgufUDC9Shcjxp9QFG4HoXrEX1AUbgehesRfUDUeOkmMRB9QOomMQisBH1AAiuHFtn2fEASg8DKoe18QIPAyqFFrnxAEoPAyqGlfEAzMzMzM5N8QLx0kxgEjnxA\"},\"shape\":[189],\"dtype\":\"float64\",\"order\":\"little\"}]]}}},\"view\":{\"type\":\"object\",\"name\":\"CDSView\",\"id\":\"p1751\",\"attributes\":{\"filter\":{\"type\":\"object\",\"name\":\"AllIndices\",\"id\":\"p1752\"}}},\"glyph\":{\"type\":\"object\",\"name\":\"Line\",\"id\":\"p1747\",\"attributes\":{\"x\":{\"type\":\"field\",\"field\":\"x\"},\"y\":{\"type\":\"field\",\"field\":\"y\"},\"line_color\":\"forestgreen\",\"line_width\":2}},\"nonselection_glyph\":{\"type\":\"object\",\"name\":\"Line\",\"id\":\"p1748\",\"attributes\":{\"x\":{\"type\":\"field\",\"field\":\"x\"},\"y\":{\"type\":\"field\",\"field\":\"y\"},\"line_color\":\"forestgreen\",\"line_alpha\":0.1,\"line_width\":2}},\"muted_glyph\":{\"type\":\"object\",\"name\":\"Line\",\"id\":\"p1749\",\"attributes\":{\"x\":{\"type\":\"field\",\"field\":\"x\"},\"y\":{\"type\":\"field\",\"field\":\"y\"},\"line_color\":\"forestgreen\",\"line_alpha\":0.2,\"line_width\":2}}}},{\"type\":\"object\",\"name\":\"GlyphRenderer\",\"id\":\"p1893\",\"attributes\":{\"data_source\":{\"type\":\"object\",\"name\":\"ColumnDataSource\",\"id\":\"p1887\",\"attributes\":{\"selected\":{\"type\":\"object\",\"name\":\"Selection\",\"id\":\"p1888\",\"attributes\":{\"indices\":[],\"line_indices\":[]}},\"selection_policy\":{\"type\":\"object\",\"name\":\"UnionRenderers\",\"id\":\"p1889\"},\"data\":{\"type\":\"map\",\"entries\":[[\"x\",{\"type\":\"ndarray\",\"array\":{\"type\":\"bytes\",\"data\":\"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\"},\"shape\":[202],\"dtype\":\"float64\",\"order\":\"little\"}],[\"y\",{\"type\":\"ndarray\",\"array\":{\"type\":\"bytes\",\"data\":\"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\"},\"shape\":[202],\"dtype\":\"float64\",\"order\":\"little\"}]]}}},\"view\":{\"type\":\"object\",\"name\":\"CDSView\",\"id\":\"p1894\",\"attributes\":{\"filter\":{\"type\":\"object\",\"name\":\"AllIndices\",\"id\":\"p1895\"}}},\"glyph\":{\"type\":\"object\",\"name\":\"Line\",\"id\":\"p1890\",\"attributes\":{\"x\":{\"type\":\"field\",\"field\":\"x\"},\"y\":{\"type\":\"field\",\"field\":\"y\"},\"line_color\":\"coral\",\"line_width\":2}},\"nonselection_glyph\":{\"type\":\"object\",\"name\":\"Line\",\"id\":\"p1891\",\"attributes\":{\"x\":{\"type\":\"field\",\"field\":\"x\"},\"y\":{\"type\":\"field\",\"field\":\"y\"},\"line_color\":\"coral\",\"line_alpha\":0.1,\"line_width\":2}},\"muted_glyph\":{\"type\":\"object\",\"name\":\"Line\",\"id\":\"p1892\",\"attributes\":{\"x\":{\"type\":\"field\",\"field\":\"x\"},\"y\":{\"type\":\"field\",\"field\":\"y\"},\"line_color\":\"coral\",\"line_alpha\":0.2,\"line_width\":2}}}},{\"type\":\"object\",\"name\":\"GlyphRenderer\",\"id\":\"p2036\",\"attributes\":{\"data_source\":{\"type\":\"object\",\"name\":\"ColumnDataSource\",\"id\":\"p2030\",\"attributes\":{\"selected\":{\"type\":\"object\",\"name\":\"Selection\",\"id\":\"p2031\",\"attributes\":{\"indices\":[],\"line_indices\":[]}},\"selection_policy\":{\"type\":\"object\",\"name\":\"UnionRenderers\",\"id\":\"p2032\"},\"data\":{\"type\":\"map\",\"entries\":[[\"x\",{\"type\":\"ndarray\",\"array\":{\"type\":\"bytes\",\"data\":\"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\"},\"shape\":[205],\"dtype\":\"float64\",\"order\":\"little\"}],[\"y\",{\"type\":\"ndarray\",\"array\":{\"type\":\"bytes\",\"data\":\"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\"},\"shape\":[205],\"dtype\":\"float64\",\"order\":\"little\"}]]}}},\"view\":{\"type\":\"object\",\"name\":\"CDSView\",\"id\":\"p2037\",\"attributes\":{\"filter\":{\"type\":\"object\",\"name\":\"AllIndices\",\"id\":\"p2038\"}}},\"glyph\":{\"type\":\"object\",\"name\":\"Line\",\"id\":\"p2033\",\"attributes\":{\"x\":{\"type\":\"field\",\"field\":\"x\"},\"y\":{\"type\":\"field\",\"field\":\"y\"},\"line_color\":\"darkcyan\",\"line_width\":2}},\"nonselection_glyph\":{\"type\":\"object\",\"name\":\"Line\",\"id\":\"p2034\",\"attributes\":{\"x\":{\"type\":\"field\",\"field\":\"x\"},\"y\":{\"type\":\"field\",\"field\":\"y\"},\"line_color\":\"darkcyan\",\"line_alpha\":0.1,\"line_width\":2}},\"muted_glyph\":{\"type\":\"object\",\"name\":\"Line\",\"id\":\"p2035\",\"attributes\":{\"x\":{\"type\":\"field\",\"field\":\"x\"},\"y\":{\"type\":\"field\",\"field\":\"y\"},\"line_color\":\"darkcyan\",\"line_alpha\":0.2,\"line_width\":2}}}},{\"type\":\"object\",\"name\":\"GlyphRenderer\",\"id\":\"p2179\",\"attributes\":{\"data_source\":{\"type\":\"object\",\"name\":\"ColumnDataSource\",\"id\":\"p2173\",\"attributes\":{\"selected\":{\"type\":\"object\",\"name\":\"Selection\",\"id\":\"p2174\",\"attributes\":{\"indices\":[],\"line_indices\":[]}},\"selection_policy\":{\"type\":\"object\",\"name\":\"UnionRenderers\",\"id\":\"p2175\"},\"data\":{\"type\":\"map\",\"entries\":[[\"x\",{\"type\":\"ndarray\",\"array\":{\"type\":\"bytes\",\"data\":\"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\"},\"shape\":[194],\"dtype\":\"float64\",\"order\":\"little\"}],[\"y\",{\"type\":\"ndarray\",\"array\":{\"type\":\"bytes\",\"data\":\"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\"},\"shape\":[194],\"dtype\":\"float64\",\"order\":\"little\"}]]}}},\"view\":{\"type\":\"object\",\"name\":\"CDSView\",\"id\":\"p2180\",\"attributes\":{\"filter\":{\"type\":\"object\",\"name\":\"AllIndices\",\"id\":\"p2181\"}}},\"glyph\":{\"type\":\"object\",\"name\":\"Line\",\"id\":\"p2176\",\"attributes\":{\"x\":{\"type\":\"field\",\"field\":\"x\"},\"y\":{\"type\":\"field\",\"field\":\"y\"},\"line_color\":\"limegreen\",\"line_width\":2}},\"nonselection_glyph\":{\"type\":\"object\",\"name\":\"Line\",\"id\":\"p2177\",\"attributes\":{\"x\":{\"type\":\"field\",\"field\":\"x\"},\"y\":{\"type\":\"field\",\"field\":\"y\"},\"line_color\":\"limegreen\",\"line_alpha\":0.1,\"line_width\":2}},\"muted_glyph\":{\"type\":\"object\",\"name\":\"Line\",\"id\":\"p2178\",\"attributes\":{\"x\":{\"type\":\"field\",\"field\":\"x\"},\"y\":{\"type\":\"field\",\"field\":\"y\"},\"line_color\":\"limegreen\",\"line_alpha\":0.2,\"line_width\":2}}}}],\"toolbar\":{\"type\":\"object\",\"name\":\"Toolbar\",\"id\":\"p1010\",\"attributes\":{\"tools\":[{\"type\":\"object\",\"name\":\"PanTool\",\"id\":\"p1025\"},{\"type\":\"object\",\"name\":\"WheelZoomTool\",\"id\":\"p1026\",\"attributes\":{\"renderers\":\"auto\"}},{\"type\":\"object\",\"name\":\"BoxZoomTool\",\"id\":\"p1027\",\"attributes\":{\"overlay\":{\"type\":\"object\",\"name\":\"BoxAnnotation\",\"id\":\"p1028\",\"attributes\":{\"syncable\":false,\"line_color\":\"black\",\"line_alpha\":1.0,\"line_width\":2,\"line_dash\":[4,4],\"fill_color\":\"lightgrey\",\"fill_alpha\":0.5,\"level\":\"overlay\",\"visible\":false,\"left\":{\"type\":\"number\",\"value\":\"nan\"},\"right\":{\"type\":\"number\",\"value\":\"nan\"},\"top\":{\"type\":\"number\",\"value\":\"nan\"},\"bottom\":{\"type\":\"number\",\"value\":\"nan\"},\"left_units\":\"canvas\",\"right_units\":\"canvas\",\"top_units\":\"canvas\",\"bottom_units\":\"canvas\",\"handles\":{\"type\":\"object\",\"name\":\"BoxInteractionHandles\",\"id\":\"p1034\",\"attributes\":{\"all\":{\"type\":\"object\",\"name\":\"AreaVisuals\",\"id\":\"p1033\",\"attributes\":{\"fill_color\":\"white\",\"hover_fill_color\":\"lightgray\"}}}}}}}},{\"type\":\"object\",\"name\":\"SaveTool\",\"id\":\"p1035\"},{\"type\":\"object\",\"name\":\"ResetTool\",\"id\":\"p1036\"},{\"type\":\"object\",\"name\":\"HelpTool\",\"id\":\"p1037\"}]}},\"left\":[{\"type\":\"object\",\"name\":\"LinearAxis\",\"id\":\"p1020\",\"attributes\":{\"ticker\":{\"type\":\"object\",\"name\":\"BasicTicker\",\"id\":\"p1021\",\"attributes\":{\"mantissas\":[1,2,5]}},\"formatter\":{\"type\":\"object\",\"name\":\"BasicTickFormatter\",\"id\":\"p1022\"},\"axis_label\":\"km/h\",\"axis_label_standoff\":10,\"axis_label_text_color\":\"#E0E0E0\",\"axis_label_text_font\":\"Helvetica\",\"axis_label_text_font_size\":\"1.25em\",\"axis_label_text_font_style\":\"normal\",\"major_label_policy\":{\"type\":\"object\",\"name\":\"AllLabels\",\"id\":\"p1023\"},\"major_label_text_color\":\"#E0E0E0\",\"major_label_text_font\":\"Helvetica\",\"major_label_text_font_size\":\"1.025em\",\"axis_line_color\":\"#E0E0E0\",\"axis_line_alpha\":0,\"major_tick_line_color\":\"#E0E0E0\",\"major_tick_line_alpha\":0,\"minor_tick_line_color\":\"#E0E0E0\",\"minor_tick_line_alpha\":0}}],\"below\":[{\"type\":\"object\",\"name\":\"LinearAxis\",\"id\":\"p1015\",\"attributes\":{\"ticker\":{\"type\":\"object\",\"name\":\"BasicTicker\",\"id\":\"p1016\",\"attributes\":{\"mantissas\":[1,2,5]}},\"formatter\":{\"type\":\"object\",\"name\":\"BasicTickFormatter\",\"id\":\"p1017\"},\"axis_label\":\"seconds from exit\",\"axis_label_standoff\":10,\"axis_label_text_color\":\"#E0E0E0\",\"axis_label_text_font\":\"Helvetica\",\"axis_label_text_font_size\":\"1.25em\",\"axis_label_text_font_style\":\"normal\",\"major_label_policy\":{\"type\":\"object\",\"name\":\"AllLabels\",\"id\":\"p1018\"},\"major_label_text_color\":\"#E0E0E0\",\"major_label_text_font\":\"Helvetica\",\"major_label_text_font_size\":\"1.025em\",\"axis_line_color\":\"#E0E0E0\",\"axis_line_alpha\":0,\"major_tick_line_color\":\"#E0E0E0\",\"major_tick_line_alpha\":0,\"minor_tick_line_color\":\"#E0E0E0\",\"minor_tick_line_alpha\":0}}],\"center\":[{\"type\":\"object\",\"name\":\"Grid\",\"id\":\"p1019\",\"attributes\":{\"axis\":{\"id\":\"p1015\"},\"grid_line_color\":\"#E0E0E0\",\"grid_line_alpha\":0.25}},{\"type\":\"object\",\"name\":\"Grid\",\"id\":\"p1024\",\"attributes\":{\"dimension\":1,\"axis\":{\"id\":\"p1020\"},\"grid_line_color\":\"#E0E0E0\",\"grid_line_alpha\":0.25}},{\"type\":\"object\",\"name\":\"Legend\",\"id\":\"p1180\",\"attributes\":{\"border_line_alpha\":0,\"background_fill_color\":\"#20262B\",\"background_fill_alpha\":0.25,\"label_text_color\":\"#E0E0E0\",\"label_text_font\":\"Helvetica\",\"label_text_font_size\":\"1.025em\",\"label_standoff\":8,\"glyph_width\":15,\"spacing\":8,\"items\":[{\"type\":\"object\",\"name\":\"LegendItem\",\"id\":\"p1181\",\"attributes\":{\"label\":{\"type\":\"value\",\"value\":\"17-07-46-08 - 484.27\"},\"renderers\":[{\"id\":\"p1177\"}]}},{\"type\":\"object\",\"name\":\"LegendItem\",\"id\":\"p1324\",\"attributes\":{\"label\":{\"type\":\"value\",\"value\":\"17-09-22-50 - 485.56\"},\"renderers\":[{\"id\":\"p1321\"}]}},{\"type\":\"object\",\"name\":\"LegendItem\",\"id\":\"p1467\",\"attributes\":{\"label\":{\"type\":\"value\",\"value\":\"17-10-55-36 - 477.89\"},\"renderers\":[{\"id\":\"p1464\"}]}},{\"type\":\"object\",\"name\":\"LegendItem\",\"id\":\"p1610\",\"attributes\":{\"label\":{\"type\":\"value\",\"value\":\"17-12-28-15 - 486.30\"},\"renderers\":[{\"id\":\"p1607\"}]}},{\"type\":\"object\",\"name\":\"LegendItem\",\"id\":\"p1753\",\"attributes\":{\"label\":{\"type\":\"value\",\"value\":\"17-13-56-25 - 472.01\"},\"renderers\":[{\"id\":\"p1750\"}]}},{\"type\":\"object\",\"name\":\"LegendItem\",\"id\":\"p1896\",\"attributes\":{\"label\":{\"type\":\"value\",\"value\":\"18-07-42-08 - 478.16\"},\"renderers\":[{\"id\":\"p1893\"}]}},{\"type\":\"object\",\"name\":\"LegendItem\",\"id\":\"p2039\",\"attributes\":{\"label\":{\"type\":\"value\",\"value\":\"18-09-22-56 - 473.27\"},\"renderers\":[{\"id\":\"p2036\"}]}},{\"type\":\"object\",\"name\":\"LegendItem\",\"id\":\"p2182\",\"attributes\":{\"label\":{\"type\":\"value\",\"value\":\"18-11-09-12 - 487.55\"},\"renderers\":[{\"id\":\"p2179\"}]}}]}}],\"background_fill_color\":\"#20262B\",\"border_fill_color\":\"#15191C\"}}]}};\n",
       "  const render_items = [{\"docid\":\"7fe07289-b3f3-4dcb-acc1-47760c91864e\",\"roots\":{\"p1001\":\"d3a6d093-34df-4338-9f72-0ad82a87ddd0\"},\"root_ids\":[\"p1001\"]}];\n",
       "  void root.Bokeh.embed.embed_items_notebook(docs_json, render_items);\n",
       "  }\n",
       "  if (root.Bokeh !== undefined) {\n",
       "    embed_document(root);\n",
       "  } else {\n",
       "    let attempts = 0;\n",
       "    const timer = setInterval(function(root) {\n",
       "      if (root.Bokeh !== undefined) {\n",
       "        clearInterval(timer);\n",
       "        embed_document(root);\n",
       "      } else {\n",
       "        attempts++;\n",
       "        if (attempts > 100) {\n",
       "          clearInterval(timer);\n",
       "          console.log(\"Bokeh: ERROR: Unable to run BokehJS code because BokehJS library is missing\");\n",
       "        }\n",
       "      }\n",
       "    }, 10, root)\n",
       "  }\n",
       "})(window);"
      ],
      "application/vnd.bokehjs_exec.v0+json": ""
     },
     "metadata": {
      "application/vnd.bokehjs_exec.v0+json": {
       "id": "p1001"
      }
     },
     "output_type": "display_data"
    }
   ],
   "source": [
    "display(roundedResults)\n",
    "display(sumResults)\n",
    "bp.show(allJumpsPlot)"
   ]
  }
 ],
 "metadata": {
  "kernelspec": {
   "display_name": "Python 3 (ipykernel)",
   "language": "python",
   "name": "python3"
  },
  "language_info": {
   "codemirror_mode": {
    "name": "ipython",
    "version": 3
   },
   "file_extension": ".py",
   "mimetype": "text/x-python",
   "name": "python",
   "nbconvert_exporter": "python",
   "pygments_lexer": "ipython3",
   "version": "3.11.10"
  }
 },
 "nbformat": 4,
 "nbformat_minor": 5
}
