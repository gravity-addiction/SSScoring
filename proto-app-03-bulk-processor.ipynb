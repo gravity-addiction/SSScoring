{
 "cells": [
  {
   "cell_type": "markdown",
   "id": "36a745d9-2003-496e-a394-290f63a970b7",
   "metadata": {},
   "source": [
    "# Speed Skydiving scoring bulk files processor\n",
    "Uses the `./data` directory as a data lake.  It finds all valid FlySight files in that directory, from 0 to as many as it finds and fit in memory, and process them all.  Summary of \"all files\" or \"all jumps\" at the bottom of the document."
   ]
  },
  {
   "cell_type": "code",
   "execution_count": 41,
   "id": "7619c1b4-c552-4bec-8d38-ce895845d8df",
   "metadata": {
    "jupyter": {
     "source_hidden": true
    }
   },
   "outputs": [],
   "source": [
    "%%capture\n",
    "!make local"
   ]
  },
  {
   "cell_type": "code",
   "execution_count": 42,
   "id": "98c7a164-9492-4672-904b-5bf3abf61773",
   "metadata": {
    "jupyter": {
     "source_hidden": true
    }
   },
   "outputs": [],
   "source": [
    "from collections import namedtuple\n",
    "from copy import deepcopy\n",
    "\n",
    "from ssscoring.calc import aggregateResults\n",
    "from ssscoring.calc import convertFlySight2SSScoring\n",
    "from ssscoring.calc import dropNonSkydiveDataFrom\n",
    "from ssscoring.calc import getSpeedSkydiveFrom\n",
    "from ssscoring.calc import isValidJump\n",
    "from ssscoring.calc import isValidMinimumAltitude\n",
    "from ssscoring.calc import jumpAnalysisTable\n",
    "from ssscoring.calc import processAllJumpFiles\n",
    "from ssscoring.calc import roundedAggregateResults\n",
    "from ssscoring.calc import totalResultsFrom\n",
    "from ssscoring.constants import BREAKOFF_ALTITUDE\n",
    "from ssscoring.constants import FT_IN_M\n",
    "from ssscoring.constants import PERFORMANCE_WINDOW_LENGTH\n",
    "from ssscoring.flysight import getAllSpeedJumpFilesFrom\n",
    "from ssscoring.flysight import validFlySightHeaderIn\n",
    "from ssscoring.notebook import SPEED_COLORS\n",
    "from ssscoring.notebook import graphAltitude\n",
    "from ssscoring.notebook import graphAngle\n",
    "from ssscoring.notebook import graphJumpResult\n",
    "from ssscoring.notebook import initializeExtraYRanges\n",
    "from ssscoring.notebook import initializePlot\n",
    "\n",
    "import csv\n",
    "import os\n",
    "import os.path as path\n",
    "\n",
    "import bokeh.plotting as bp\n",
    "import bokeh.models as bm\n",
    "import ipywidgets as widgets\n",
    "import pandas as pd"
   ]
  },
  {
   "cell_type": "code",
   "execution_count": 43,
   "id": "ef1d2bf0-eaf3-4d78-b6c0-fb1bb4ed10f1",
   "metadata": {},
   "outputs": [],
   "source": [
    "DATA_LAKE_ROOT = './data'"
   ]
  },
  {
   "cell_type": "markdown",
   "id": "d52db03d-d83b-4af3-9137-3011537e5ed8",
   "metadata": {},
   "source": [
    "---\n",
    "## <span style=\"color: yellow\">IMPORTANT</span> - Set the drop zone altitude MSL\n",
    "\n",
    "Set the value in ft (even though SSScoring uses meters) out of convenience because all DZs in the US, many in Asia and Mexico, and many in Europe express the altitude in feet.\n",
    "\n",
    "### Some DZs\n",
    "\n",
    "| Drop zone | Alt (ft) |\n",
    "|-----------|----------|\n",
    "| Bay Area Skydiving | 23 |\n",
    "| Paraclete XP| 304 |\n",
    "| SkyDance SkyDiving | 100 |\n",
    "| Skydive Arizona | 1509 |\n",
    "| Skydive Chicago | 616 |\n",
    "| Thai Sky Adventures | 21 |"
   ]
  },
  {
   "cell_type": "code",
   "execution_count": 44,
   "id": "5c95013a-4aa3-4a5e-9493-b945ead10ced",
   "metadata": {},
   "outputs": [],
   "source": [
    "dropZoneAltMSL = 100\n",
    "ignoreBaseline = False # Set to False to evaluate any baseline tracks present in the data lake."
   ]
  },
  {
   "cell_type": "code",
   "execution_count": 45,
   "id": "1f091813-03b0-45bc-a30e-704fac7f968a",
   "metadata": {
    "jupyter": {
     "source_hidden": true
    }
   },
   "outputs": [
    {
     "data": {
      "application/vnd.jupyter.widget-view+json": {
       "model_id": "fdd9de4fa19e4e9eb87967c4509a8dbf",
       "version_major": 2,
       "version_minor": 0
      },
      "text/plain": [
       "HTML(value='<h2>DZ Altitude = <span style = \"color: green\"> 100.00 ft</span> (  30.48 m)<h1>')"
      ]
     },
     "metadata": {},
     "output_type": "display_data"
    }
   ],
   "source": [
    "dropZoneAltMSLMeters = dropZoneAltMSL/FT_IN_M\n",
    "display(widgets.HTML('<h2>DZ Altitude = <span style = \"color: green\">%7.2f ft</span> (%7.2f m)<h1>' % (dropZoneAltMSL, dropZoneAltMSLMeters)))"
   ]
  },
  {
   "cell_type": "code",
   "execution_count": 46,
   "id": "b1273b5c-44c1-46c2-a125-d01ad9268a1a",
   "metadata": {},
   "outputs": [],
   "source": [
    "jumpFiles = getAllSpeedJumpFilesFrom(DATA_LAKE_ROOT)"
   ]
  },
  {
   "cell_type": "code",
   "execution_count": 47,
   "id": "53a5fe5a-dd39-40d3-bfbf-d7048374e4ea",
   "metadata": {
    "jupyter": {
     "source_hidden": true
    }
   },
   "outputs": [],
   "source": [
    "%%capture warnings\n",
    "jumpResults = processAllJumpFiles(jumpFiles, altitudeDZMeters = dropZoneAltMSLMeters)"
   ]
  },
  {
   "cell_type": "markdown",
   "id": "797ab0ec-d5e0-4a3b-aa57-eee431bb9824",
   "metadata": {},
   "source": [
    "### Air density\n",
    "\n",
    "**<a href='https://aviex.goflexair.com/blog/density-of-air-air-density' target='_blank'>Pilot's Guide to Air Density</a>** - A useful guide with calculations, lots of information.\n",
    "\n",
    "![](https://ciurana.eu/personal/air-density-partial-table.png)"
   ]
  },
  {
   "cell_type": "markdown",
   "id": "d80518ef-f197-4e40-a74e-8089eecb725a",
   "metadata": {},
   "source": [
    "---\n",
    "## Results"
   ]
  },
  {
   "cell_type": "code",
   "execution_count": 48,
   "id": "27c12cb1-2f60-44c9-b8fa-998b3df9d878",
   "metadata": {},
   "outputs": [
    {
     "data": {
      "text/html": [
       "<div>\n",
       "<style scoped>\n",
       "    .dataframe tbody tr th:only-of-type {\n",
       "        vertical-align: middle;\n",
       "    }\n",
       "\n",
       "    .dataframe tbody tr th {\n",
       "        vertical-align: top;\n",
       "    }\n",
       "\n",
       "    .dataframe thead th {\n",
       "        text-align: right;\n",
       "    }\n",
       "</style>\n",
       "<table border=\"1\" class=\"dataframe\">\n",
       "  <thead>\n",
       "    <tr style=\"text-align: right;\">\n",
       "      <th></th>\n",
       "      <th>score</th>\n",
       "      <th>5.0</th>\n",
       "      <th>10.0</th>\n",
       "      <th>15.0</th>\n",
       "      <th>20.0</th>\n",
       "      <th>25.0</th>\n",
       "      <th>finalTime</th>\n",
       "      <th>maxSpeed</th>\n",
       "    </tr>\n",
       "  </thead>\n",
       "  <tbody>\n",
       "    <tr>\n",
       "      <th>data 00-00-00-baseline-10-50-09:v1</th>\n",
       "      <td>493.77</td>\n",
       "      <td>182.556</td>\n",
       "      <td>332.892</td>\n",
       "      <td>431.028</td>\n",
       "      <td>482.184</td>\n",
       "      <td>493.848</td>\n",
       "      <td>24.2</td>\n",
       "      <td>495.108</td>\n",
       "    </tr>\n",
       "    <tr>\n",
       "      <th>data 09-07-30:v1</th>\n",
       "      <td>482.27</td>\n",
       "      <td>179.316</td>\n",
       "      <td>325.116</td>\n",
       "      <td>420.444</td>\n",
       "      <td>470.772</td>\n",
       "      <td>477.288</td>\n",
       "      <td>24.5</td>\n",
       "      <td>484.560</td>\n",
       "    </tr>\n",
       "    <tr>\n",
       "      <th>data 10-09-20:v1</th>\n",
       "      <td>487.86</td>\n",
       "      <td>184.932</td>\n",
       "      <td>320.904</td>\n",
       "      <td>421.272</td>\n",
       "      <td>475.668</td>\n",
       "      <td>484.128</td>\n",
       "      <td>24.4</td>\n",
       "      <td>487.044</td>\n",
       "    </tr>\n",
       "    <tr>\n",
       "      <th>data 11-00-34:v1</th>\n",
       "      <td>476.31</td>\n",
       "      <td>185.040</td>\n",
       "      <td>332.820</td>\n",
       "      <td>429.876</td>\n",
       "      <td>481.428</td>\n",
       "      <td>315.252</td>\n",
       "      <td>24.9</td>\n",
       "      <td>481.464</td>\n",
       "    </tr>\n",
       "    <tr>\n",
       "      <th>data 12-24-08:v1</th>\n",
       "      <td>473.95</td>\n",
       "      <td>179.892</td>\n",
       "      <td>321.588</td>\n",
       "      <td>412.740</td>\n",
       "      <td>461.808</td>\n",
       "      <td>469.800</td>\n",
       "      <td>24.6</td>\n",
       "      <td>472.608</td>\n",
       "    </tr>\n",
       "  </tbody>\n",
       "</table>\n",
       "</div>"
      ],
      "text/plain": [
       "                                     score      5.0     10.0     15.0  \\\n",
       "data 00-00-00-baseline-10-50-09:v1  493.77  182.556  332.892  431.028   \n",
       "data 09-07-30:v1                    482.27  179.316  325.116  420.444   \n",
       "data 10-09-20:v1                    487.86  184.932  320.904  421.272   \n",
       "data 11-00-34:v1                    476.31  185.040  332.820  429.876   \n",
       "data 12-24-08:v1                    473.95  179.892  321.588  412.740   \n",
       "\n",
       "                                       20.0     25.0  finalTime  maxSpeed  \n",
       "data 00-00-00-baseline-10-50-09:v1  482.184  493.848       24.2   495.108  \n",
       "data 09-07-30:v1                    470.772  477.288       24.5   484.560  \n",
       "data 10-09-20:v1                    475.668  484.128       24.4   487.044  \n",
       "data 11-00-34:v1                    481.428  315.252       24.9   481.464  \n",
       "data 12-24-08:v1                    461.808  469.800       24.6   472.608  "
      ]
     },
     "metadata": {},
     "output_type": "display_data"
    }
   ],
   "source": [
    "aggregate = aggregateResults(jumpResults)\n",
    "if ignoreBaseline:\n",
    "    aggregate = aggregate[~aggregate.index.str.contains('baseline')]\n",
    "sumResults = totalResultsFrom(aggregate)\n",
    "display(aggregate)"
   ]
  },
  {
   "cell_type": "markdown",
   "id": "3fa8c207-b9cf-4275-ba37-5103e1b324a9",
   "metadata": {},
   "source": [
    "### Rounded results for training log"
   ]
  },
  {
   "cell_type": "code",
   "execution_count": 49,
   "id": "e2bfbc21-3121-436a-904f-547edb0f2d0c",
   "metadata": {},
   "outputs": [],
   "source": [
    "roundedResults = roundedAggregateResults(aggregate)"
   ]
  },
  {
   "cell_type": "markdown",
   "id": "faf1396d-1030-477e-9d87-5c167b61328f",
   "metadata": {},
   "source": [
    "### All jumps"
   ]
  },
  {
   "cell_type": "code",
   "execution_count": 50,
   "id": "5a0571fd-5a22-4dda-94aa-56a4f2c68098",
   "metadata": {
    "jupyter": {
     "source_hidden": true
    }
   },
   "outputs": [],
   "source": [
    "def dumpSimple(table: pd.DataFrame):\n",
    "    fileName = os.path.join(DATA_LAKE_ROOT, resultRef+'.tsv')\n",
    "    simpleTable = table.copy()\n",
    "    simpleTable = simpleTable.drop('speedAngle', axis = 1)\n",
    "    simpleTable.to_csv(fileName, sep = '\\t', index = False)"
   ]
  },
  {
   "cell_type": "code",
   "execution_count": 51,
   "id": "59ff50f6-4f29-4282-a55f-af524921af19",
   "metadata": {
    "jupyter": {
     "source_hidden": true
    }
   },
   "outputs": [],
   "source": [
    "def displayJumpDataIn(resultsTable: pd.DataFrame):\n",
    "    table = resultsTable.copy()\n",
    "    # Experimental\n",
    "    # For more information on the `interpolate` method and its options, see the [pandas documentation](https://pandas.pydata.org/pandas-docs/stable/reference/api/pandas.Series.interpolate.html).\n",
    "    # Additionally, you can also consider using other libraries like `scipy` which provides more advanced interpolation methods, such as `interp1d` or `griddata`. See the [scipy documentation](https://docs.scipy.org/doc/scipy/reference/interpolate.html) for more information.\n",
    "    table.vKMh = table.vKMh.apply(round)\n",
    "    table.hKMh = table.hKMh.apply(round)\n",
    "    table['altitude (ft)'] = table['altitude (ft)'].apply(round)\n",
    "    table.netVectorKMh = table.netVectorKMh.apply(round)\n",
    "    table.index = ['']*len(table)\n",
    "    display(table)\n",
    "    # dumpSimple(table)"
   ]
  },
  {
   "cell_type": "code",
   "execution_count": 52,
   "id": "fe6156be-7071-47a7-bb7f-9724f6d4a3ac",
   "metadata": {
    "jupyter": {
     "source_hidden": true
    }
   },
   "outputs": [
    {
     "data": {
      "application/vnd.jupyter.widget-view+json": {
       "model_id": "6d6afc9476e34fbbb763da664b0d3ae2",
       "version_major": 2,
       "version_minor": 0
      },
      "text/plain": [
       "HTML(value='<hr><h1><span style=\"color: #0f0\">data 00-00-00-baseline-10-50-09:v1 jump - 🟢 valid - score = 493.…"
      ]
     },
     "metadata": {},
     "output_type": "display_data"
    },
    {
     "data": {
      "application/vnd.jupyter.widget-view+json": {
       "model_id": "e0cba3684d684a3c9f6fbb0d08377c5a",
       "version_major": 2,
       "version_minor": 0
      },
      "text/plain": [
       "HTML(value='<h3>Max speed = 495; exit at 4211 m (13816 ft), end scoring window at 1955 m (6414 ft)')"
      ]
     },
     "metadata": {},
     "output_type": "display_data"
    },
    {
     "data": {
      "application/vnd.jupyter.widget-view+json": {
       "model_id": "928615c0ac3246e9b2c53a3d30996365",
       "version_major": 2,
       "version_minor": 0
      },
      "text/plain": [
       "HTML(value='</h3>')"
      ]
     },
     "metadata": {},
     "output_type": "display_data"
    },
    {
     "data": {
      "text/html": [
       "<div>\n",
       "<style scoped>\n",
       "    .dataframe tbody tr th:only-of-type {\n",
       "        vertical-align: middle;\n",
       "    }\n",
       "\n",
       "    .dataframe tbody tr th {\n",
       "        vertical-align: top;\n",
       "    }\n",
       "\n",
       "    .dataframe thead th {\n",
       "        text-align: right;\n",
       "    }\n",
       "</style>\n",
       "<table border=\"1\" class=\"dataframe\">\n",
       "  <thead>\n",
       "    <tr style=\"text-align: right;\">\n",
       "      <th></th>\n",
       "      <th>time</th>\n",
       "      <th>vKMh</th>\n",
       "      <th>hKMh</th>\n",
       "      <th>speedAngle</th>\n",
       "      <th>distanceFromExit (m)</th>\n",
       "      <th>altitude (ft)</th>\n",
       "      <th>netVectorKMh</th>\n",
       "    </tr>\n",
       "  </thead>\n",
       "  <tbody>\n",
       "    <tr>\n",
       "      <th></th>\n",
       "      <td>5.0</td>\n",
       "      <td>183</td>\n",
       "      <td>154</td>\n",
       "      <td>49.91</td>\n",
       "      <td>252.04</td>\n",
       "      <td>13385</td>\n",
       "      <td>239</td>\n",
       "    </tr>\n",
       "    <tr>\n",
       "      <th></th>\n",
       "      <td>10.0</td>\n",
       "      <td>333</td>\n",
       "      <td>109</td>\n",
       "      <td>71.91</td>\n",
       "      <td>432.42</td>\n",
       "      <td>12158</td>\n",
       "      <td>350</td>\n",
       "    </tr>\n",
       "    <tr>\n",
       "      <th></th>\n",
       "      <td>15.0</td>\n",
       "      <td>431</td>\n",
       "      <td>62</td>\n",
       "      <td>81.86</td>\n",
       "      <td>547.29</td>\n",
       "      <td>10428</td>\n",
       "      <td>435</td>\n",
       "    </tr>\n",
       "    <tr>\n",
       "      <th></th>\n",
       "      <td>20.0</td>\n",
       "      <td>482</td>\n",
       "      <td>14</td>\n",
       "      <td>88.29</td>\n",
       "      <td>593.79</td>\n",
       "      <td>8325</td>\n",
       "      <td>482</td>\n",
       "    </tr>\n",
       "    <tr>\n",
       "      <th></th>\n",
       "      <td>25.0</td>\n",
       "      <td>494</td>\n",
       "      <td>9</td>\n",
       "      <td>88.91</td>\n",
       "      <td>590.15</td>\n",
       "      <td>6442</td>\n",
       "      <td>494</td>\n",
       "    </tr>\n",
       "  </tbody>\n",
       "</table>\n",
       "</div>"
      ],
      "text/plain": [
       "  time  vKMh  hKMh  speedAngle  distanceFromExit (m)  altitude (ft)  \\\n",
       "   5.0   183   154       49.91                252.04          13385   \n",
       "  10.0   333   109       71.91                432.42          12158   \n",
       "  15.0   431    62       81.86                547.29          10428   \n",
       "  20.0   482    14       88.29                593.79           8325   \n",
       "  25.0   494     9       88.91                590.15           6442   \n",
       "\n",
       "  netVectorKMh  \n",
       "           239  \n",
       "           350  \n",
       "           435  \n",
       "           482  \n",
       "           494  "
      ]
     },
     "metadata": {},
     "output_type": "display_data"
    },
    {
     "data": {
      "text/html": [
       "\n",
       "  <div id=\"bf79a912-afcb-4b66-82db-b96bb42cfe4f\" data-root-id=\"p2747\" style=\"display: contents;\"></div>\n"
      ]
     },
     "metadata": {},
     "output_type": "display_data"
    },
    {
     "data": {
      "application/javascript": [
       "(function(root) {\n",
       "  function embed_document(root) {\n",
       "  const docs_json = {\"80fed84c-5de0-4c69-ab02-2347c32ade40\":{\"version\":\"3.5.2\",\"title\":\"Bokeh Application\",\"roots\":[{\"type\":\"object\",\"name\":\"Figure\",\"id\":\"p2747\",\"attributes\":{\"width\":900,\"height\":500,\"x_range\":{\"type\":\"object\",\"name\":\"Range1d\",\"id\":\"p2757\",\"attributes\":{\"end\":35.0}},\"y_range\":{\"type\":\"object\",\"name\":\"Range1d\",\"id\":\"p2758\",\"attributes\":{\"end\":550.0}},\"x_scale\":{\"type\":\"object\",\"name\":\"LinearScale\",\"id\":\"p2759\"},\"y_scale\":{\"type\":\"object\",\"name\":\"LinearScale\",\"id\":\"p2760\"},\"extra_y_ranges\":{\"type\":\"map\",\"entries\":[[\"altitudeFt\",{\"type\":\"object\",\"name\":\"Range1d\",\"id\":\"p2784\",\"attributes\":{\"start\":5942.40732,\"end\":14316.0086008}}],[\"angle\",{\"type\":\"object\",\"name\":\"Range1d\",\"id\":\"p2785\",\"attributes\":{\"end\":90.0}}]]},\"title\":{\"type\":\"object\",\"name\":\"Title\",\"id\":\"p2750\",\"attributes\":{\"text\":\"data 00-00-00-baseline-10-50-09:v1\",\"text_color\":\"#E0E0E0\",\"text_font\":\"Helvetica\",\"text_font_size\":\"1.15em\"}},\"outline_line_color\":\"#E0E0E0\",\"outline_line_alpha\":0.25,\"renderers\":[{\"type\":\"object\",\"name\":\"GlyphRenderer\",\"id\":\"p2800\",\"attributes\":{\"y_range_name\":\"altitudeFt\",\"data_source\":{\"type\":\"object\",\"name\":\"ColumnDataSource\",\"id\":\"p2794\",\"attributes\":{\"selected\":{\"type\":\"object\",\"name\":\"Selection\",\"id\":\"p2795\",\"attributes\":{\"indices\":[],\"line_indices\":[]}},\"selection_policy\":{\"type\":\"object\",\"name\":\"UnionRenderers\",\"id\":\"p2796\"},\"data\":{\"type\":\"map\",\"entries\":[[\"x\",{\"type\":\"ndarray\",\"array\":{\"type\":\"bytes\",\"data\":\"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\"},\"shape\":[199],\"dtype\":\"float64\",\"order\":\"little\"}],[\"y\",{\"type\":\"ndarray\",\"array\":{\"type\":\"bytes\",\"data\":\"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\"},\"shape\":[199],\"dtype\":\"float64\",\"order\":\"little\"}]]}}},\"view\":{\"type\":\"object\",\"name\":\"CDSView\",\"id\":\"p2801\",\"attributes\":{\"filter\":{\"type\":\"object\",\"name\":\"AllIndices\",\"id\":\"p2802\"}}},\"glyph\":{\"type\":\"object\",\"name\":\"Line\",\"id\":\"p2797\",\"attributes\":{\"x\":{\"type\":\"field\",\"field\":\"x\"},\"y\":{\"type\":\"field\",\"field\":\"y\"},\"line_color\":\"palegoldenrod\",\"line_width\":2}},\"nonselection_glyph\":{\"type\":\"object\",\"name\":\"Line\",\"id\":\"p2798\",\"attributes\":{\"x\":{\"type\":\"field\",\"field\":\"x\"},\"y\":{\"type\":\"field\",\"field\":\"y\"},\"line_color\":\"palegoldenrod\",\"line_alpha\":0.1,\"line_width\":2}},\"muted_glyph\":{\"type\":\"object\",\"name\":\"Line\",\"id\":\"p2799\",\"attributes\":{\"x\":{\"type\":\"field\",\"field\":\"x\"},\"y\":{\"type\":\"field\",\"field\":\"y\"},\"line_color\":\"palegoldenrod\",\"line_alpha\":0.2,\"line_width\":2}}}},{\"type\":\"object\",\"name\":\"GlyphRenderer\",\"id\":\"p2811\",\"attributes\":{\"y_range_name\":\"angle\",\"data_source\":{\"type\":\"object\",\"name\":\"ColumnDataSource\",\"id\":\"p2805\",\"attributes\":{\"selected\":{\"type\":\"object\",\"name\":\"Selection\",\"id\":\"p2806\",\"attributes\":{\"indices\":[],\"line_indices\":[]}},\"selection_policy\":{\"type\":\"object\",\"name\":\"UnionRenderers\",\"id\":\"p2807\"},\"data\":{\"type\":\"map\",\"entries\":[[\"x\",{\"type\":\"ndarray\",\"array\":{\"type\":\"bytes\",\"data\":\"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\"},\"shape\":[199],\"dtype\":\"float64\",\"order\":\"little\"}],[\"y\",{\"type\":\"ndarray\",\"array\":{\"type\":\"bytes\",\"data\":\"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\"},\"shape\":[199],\"dtype\":\"float64\",\"order\":\"little\"}]]}}},\"view\":{\"type\":\"object\",\"name\":\"CDSView\",\"id\":\"p2812\",\"attributes\":{\"filter\":{\"type\":\"object\",\"name\":\"AllIndices\",\"id\":\"p2813\"}}},\"glyph\":{\"type\":\"object\",\"name\":\"Line\",\"id\":\"p2808\",\"attributes\":{\"x\":{\"type\":\"field\",\"field\":\"x\"},\"y\":{\"type\":\"field\",\"field\":\"y\"},\"line_color\":\"deepskyblue\",\"line_width\":2}},\"nonselection_glyph\":{\"type\":\"object\",\"name\":\"Line\",\"id\":\"p2809\",\"attributes\":{\"x\":{\"type\":\"field\",\"field\":\"x\"},\"y\":{\"type\":\"field\",\"field\":\"y\"},\"line_color\":\"deepskyblue\",\"line_alpha\":0.1,\"line_width\":2}},\"muted_glyph\":{\"type\":\"object\",\"name\":\"Line\",\"id\":\"p2810\",\"attributes\":{\"x\":{\"type\":\"field\",\"field\":\"x\"},\"y\":{\"type\":\"field\",\"field\":\"y\"},\"line_color\":\"deepskyblue\",\"line_alpha\":0.2,\"line_width\":2}}}},{\"type\":\"object\",\"name\":\"GlyphRenderer\",\"id\":\"p2822\",\"attributes\":{\"data_source\":{\"type\":\"object\",\"name\":\"ColumnDataSource\",\"id\":\"p2816\",\"attributes\":{\"selected\":{\"type\":\"object\",\"name\":\"Selection\",\"id\":\"p2817\",\"attributes\":{\"indices\":[],\"line_indices\":[]}},\"selection_policy\":{\"type\":\"object\",\"name\":\"UnionRenderers\",\"id\":\"p2818\"},\"data\":{\"type\":\"map\",\"entries\":[[\"x\",{\"type\":\"ndarray\",\"array\":{\"type\":\"bytes\",\"data\":\"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\"},\"shape\":[199],\"dtype\":\"float64\",\"order\":\"little\"}],[\"y\",{\"type\":\"ndarray\",\"array\":{\"type\":\"bytes\",\"data\":\"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\"},\"shape\":[199],\"dtype\":\"float64\",\"order\":\"little\"}]]}}},\"view\":{\"type\":\"object\",\"name\":\"CDSView\",\"id\":\"p2823\",\"attributes\":{\"filter\":{\"type\":\"object\",\"name\":\"AllIndices\",\"id\":\"p2824\"}}},\"glyph\":{\"type\":\"object\",\"name\":\"Line\",\"id\":\"p2819\",\"attributes\":{\"x\":{\"type\":\"field\",\"field\":\"x\"},\"y\":{\"type\":\"field\",\"field\":\"y\"},\"line_color\":\"limegreen\",\"line_width\":2}},\"nonselection_glyph\":{\"type\":\"object\",\"name\":\"Line\",\"id\":\"p2820\",\"attributes\":{\"x\":{\"type\":\"field\",\"field\":\"x\"},\"y\":{\"type\":\"field\",\"field\":\"y\"},\"line_color\":\"limegreen\",\"line_alpha\":0.1,\"line_width\":2}},\"muted_glyph\":{\"type\":\"object\",\"name\":\"Line\",\"id\":\"p2821\",\"attributes\":{\"x\":{\"type\":\"field\",\"field\":\"x\"},\"y\":{\"type\":\"field\",\"field\":\"y\"},\"line_color\":\"limegreen\",\"line_alpha\":0.2,\"line_width\":2}}}},{\"type\":\"object\",\"name\":\"GlyphRenderer\",\"id\":\"p2832\",\"attributes\":{\"data_source\":{\"type\":\"object\",\"name\":\"ColumnDataSource\",\"id\":\"p2826\",\"attributes\":{\"selected\":{\"type\":\"object\",\"name\":\"Selection\",\"id\":\"p2827\",\"attributes\":{\"indices\":[],\"line_indices\":[]}},\"selection_policy\":{\"type\":\"object\",\"name\":\"UnionRenderers\",\"id\":\"p2828\"},\"data\":{\"type\":\"map\",\"entries\":[[\"x\",{\"type\":\"ndarray\",\"array\":{\"type\":\"bytes\",\"data\":\"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\"},\"shape\":[199],\"dtype\":\"float64\",\"order\":\"little\"}],[\"y\",{\"type\":\"ndarray\",\"array\":{\"type\":\"bytes\",\"data\":\"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\"},\"shape\":[199],\"dtype\":\"float64\",\"order\":\"little\"}]]}}},\"view\":{\"type\":\"object\",\"name\":\"CDSView\",\"id\":\"p2833\",\"attributes\":{\"filter\":{\"type\":\"object\",\"name\":\"AllIndices\",\"id\":\"p2834\"}}},\"glyph\":{\"type\":\"object\",\"name\":\"Line\",\"id\":\"p2829\",\"attributes\":{\"x\":{\"type\":\"field\",\"field\":\"x\"},\"y\":{\"type\":\"field\",\"field\":\"y\"},\"line_color\":\"red\",\"line_width\":2}},\"nonselection_glyph\":{\"type\":\"object\",\"name\":\"Line\",\"id\":\"p2830\",\"attributes\":{\"x\":{\"type\":\"field\",\"field\":\"x\"},\"y\":{\"type\":\"field\",\"field\":\"y\"},\"line_color\":\"red\",\"line_alpha\":0.1,\"line_width\":2}},\"muted_glyph\":{\"type\":\"object\",\"name\":\"Line\",\"id\":\"p2831\",\"attributes\":{\"x\":{\"type\":\"field\",\"field\":\"x\"},\"y\":{\"type\":\"field\",\"field\":\"y\"},\"line_color\":\"red\",\"line_alpha\":0.2,\"line_width\":2}}}},{\"type\":\"object\",\"name\":\"GlyphRenderer\",\"id\":\"p2842\",\"attributes\":{\"data_source\":{\"type\":\"object\",\"name\":\"ColumnDataSource\",\"id\":\"p2836\",\"attributes\":{\"selected\":{\"type\":\"object\",\"name\":\"Selection\",\"id\":\"p2837\",\"attributes\":{\"indices\":[],\"line_indices\":[]}},\"selection_policy\":{\"type\":\"object\",\"name\":\"UnionRenderers\",\"id\":\"p2838\"},\"data\":{\"type\":\"map\",\"entries\":[[\"x0\",[21.1]],[\"y0\",[0.0]],[\"x1\",[21.1]],[\"y1\",[493.77]]]}}},\"view\":{\"type\":\"object\",\"name\":\"CDSView\",\"id\":\"p2843\",\"attributes\":{\"filter\":{\"type\":\"object\",\"name\":\"AllIndices\",\"id\":\"p2844\"}}},\"glyph\":{\"type\":\"object\",\"name\":\"Segment\",\"id\":\"p2839\",\"attributes\":{\"x0\":{\"type\":\"field\",\"field\":\"x0\"},\"y0\":{\"type\":\"field\",\"field\":\"y0\"},\"x1\":{\"type\":\"field\",\"field\":\"x1\"},\"y1\":{\"type\":\"field\",\"field\":\"y1\"},\"line_color\":{\"type\":\"value\",\"value\":\"lightblue\"},\"line_width\":{\"type\":\"value\",\"value\":3}}},\"nonselection_glyph\":{\"type\":\"object\",\"name\":\"Segment\",\"id\":\"p2840\",\"attributes\":{\"x0\":{\"type\":\"field\",\"field\":\"x0\"},\"y0\":{\"type\":\"field\",\"field\":\"y0\"},\"x1\":{\"type\":\"field\",\"field\":\"x1\"},\"y1\":{\"type\":\"field\",\"field\":\"y1\"},\"line_color\":{\"type\":\"value\",\"value\":\"lightblue\"},\"line_alpha\":{\"type\":\"value\",\"value\":0.1},\"line_width\":{\"type\":\"value\",\"value\":3}}},\"muted_glyph\":{\"type\":\"object\",\"name\":\"Segment\",\"id\":\"p2841\",\"attributes\":{\"x0\":{\"type\":\"field\",\"field\":\"x0\"},\"y0\":{\"type\":\"field\",\"field\":\"y0\"},\"x1\":{\"type\":\"field\",\"field\":\"x1\"},\"y1\":{\"type\":\"field\",\"field\":\"y1\"},\"line_color\":{\"type\":\"value\",\"value\":\"lightblue\"},\"line_alpha\":{\"type\":\"value\",\"value\":0.2},\"line_width\":{\"type\":\"value\",\"value\":3}}}}},{\"type\":\"object\",\"name\":\"GlyphRenderer\",\"id\":\"p2851\",\"attributes\":{\"data_source\":{\"type\":\"object\",\"name\":\"ColumnDataSource\",\"id\":\"p2845\",\"attributes\":{\"selected\":{\"type\":\"object\",\"name\":\"Selection\",\"id\":\"p2846\",\"attributes\":{\"indices\":[],\"line_indices\":[]}},\"selection_policy\":{\"type\":\"object\",\"name\":\"UnionRenderers\",\"id\":\"p2847\"},\"data\":{\"type\":\"map\",\"entries\":[[\"x0\",[22.6]],[\"y0\",[0.0]],[\"x1\",[22.6]],[\"y1\",[493.77]]]}}},\"view\":{\"type\":\"object\",\"name\":\"CDSView\",\"id\":\"p2852\",\"attributes\":{\"filter\":{\"type\":\"object\",\"name\":\"AllIndices\",\"id\":\"p2853\"}}},\"glyph\":{\"type\":\"object\",\"name\":\"Segment\",\"id\":\"p2848\",\"attributes\":{\"x0\":{\"type\":\"field\",\"field\":\"x0\"},\"y0\":{\"type\":\"field\",\"field\":\"y0\"},\"x1\":{\"type\":\"field\",\"field\":\"x1\"},\"y1\":{\"type\":\"field\",\"field\":\"y1\"},\"line_color\":{\"type\":\"value\",\"value\":\"darkseagreen\"}}},\"nonselection_glyph\":{\"type\":\"object\",\"name\":\"Segment\",\"id\":\"p2849\",\"attributes\":{\"x0\":{\"type\":\"field\",\"field\":\"x0\"},\"y0\":{\"type\":\"field\",\"field\":\"y0\"},\"x1\":{\"type\":\"field\",\"field\":\"x1\"},\"y1\":{\"type\":\"field\",\"field\":\"y1\"},\"line_color\":{\"type\":\"value\",\"value\":\"darkseagreen\"},\"line_alpha\":{\"type\":\"value\",\"value\":0.1}}},\"muted_glyph\":{\"type\":\"object\",\"name\":\"Segment\",\"id\":\"p2850\",\"attributes\":{\"x0\":{\"type\":\"field\",\"field\":\"x0\"},\"y0\":{\"type\":\"field\",\"field\":\"y0\"},\"x1\":{\"type\":\"field\",\"field\":\"x1\"},\"y1\":{\"type\":\"field\",\"field\":\"y1\"},\"line_color\":{\"type\":\"value\",\"value\":\"darkseagreen\"},\"line_alpha\":{\"type\":\"value\",\"value\":0.2}}}}},{\"type\":\"object\",\"name\":\"GlyphRenderer\",\"id\":\"p2860\",\"attributes\":{\"data_source\":{\"type\":\"object\",\"name\":\"ColumnDataSource\",\"id\":\"p2854\",\"attributes\":{\"selected\":{\"type\":\"object\",\"name\":\"Selection\",\"id\":\"p2855\",\"attributes\":{\"indices\":[],\"line_indices\":[]}},\"selection_policy\":{\"type\":\"object\",\"name\":\"UnionRenderers\",\"id\":\"p2856\"},\"data\":{\"type\":\"map\",\"entries\":[[\"x0\",[19.6]],[\"y0\",[0.0]],[\"x1\",[19.6]],[\"y1\",[493.77]]]}}},\"view\":{\"type\":\"object\",\"name\":\"CDSView\",\"id\":\"p2861\",\"attributes\":{\"filter\":{\"type\":\"object\",\"name\":\"AllIndices\",\"id\":\"p2862\"}}},\"glyph\":{\"type\":\"object\",\"name\":\"Segment\",\"id\":\"p2857\",\"attributes\":{\"x0\":{\"type\":\"field\",\"field\":\"x0\"},\"y0\":{\"type\":\"field\",\"field\":\"y0\"},\"x1\":{\"type\":\"field\",\"field\":\"x1\"},\"y1\":{\"type\":\"field\",\"field\":\"y1\"},\"line_color\":{\"type\":\"value\",\"value\":\"darkseagreen\"}}},\"nonselection_glyph\":{\"type\":\"object\",\"name\":\"Segment\",\"id\":\"p2858\",\"attributes\":{\"x0\":{\"type\":\"field\",\"field\":\"x0\"},\"y0\":{\"type\":\"field\",\"field\":\"y0\"},\"x1\":{\"type\":\"field\",\"field\":\"x1\"},\"y1\":{\"type\":\"field\",\"field\":\"y1\"},\"line_color\":{\"type\":\"value\",\"value\":\"darkseagreen\"},\"line_alpha\":{\"type\":\"value\",\"value\":0.1}}},\"muted_glyph\":{\"type\":\"object\",\"name\":\"Segment\",\"id\":\"p2859\",\"attributes\":{\"x0\":{\"type\":\"field\",\"field\":\"x0\"},\"y0\":{\"type\":\"field\",\"field\":\"y0\"},\"x1\":{\"type\":\"field\",\"field\":\"x1\"},\"y1\":{\"type\":\"field\",\"field\":\"y1\"},\"line_color\":{\"type\":\"value\",\"value\":\"darkseagreen\"},\"line_alpha\":{\"type\":\"value\",\"value\":0.2}}}}},{\"type\":\"object\",\"name\":\"GlyphRenderer\",\"id\":\"p2869\",\"attributes\":{\"data_source\":{\"type\":\"object\",\"name\":\"ColumnDataSource\",\"id\":\"p2863\",\"attributes\":{\"selected\":{\"type\":\"object\",\"name\":\"Selection\",\"id\":\"p2864\",\"attributes\":{\"indices\":[],\"line_indices\":[]}},\"selection_policy\":{\"type\":\"object\",\"name\":\"UnionRenderers\",\"id\":\"p2865\"},\"data\":{\"type\":\"map\",\"entries\":[[\"x\",[21.1]],[\"y\",[493.77]],[\"size\",[20]]]}}},\"view\":{\"type\":\"object\",\"name\":\"CDSView\",\"id\":\"p2870\",\"attributes\":{\"filter\":{\"type\":\"object\",\"name\":\"AllIndices\",\"id\":\"p2871\"}}},\"glyph\":{\"type\":\"object\",\"name\":\"Scatter\",\"id\":\"p2866\",\"attributes\":{\"x\":{\"type\":\"field\",\"field\":\"x\"},\"y\":{\"type\":\"field\",\"field\":\"y\"},\"size\":{\"type\":\"field\",\"field\":\"size\"},\"line_color\":{\"type\":\"value\",\"value\":\"lightblue\"},\"line_width\":{\"type\":\"value\",\"value\":3},\"fill_color\":{\"type\":\"value\",\"value\":null},\"marker\":{\"type\":\"value\",\"value\":\"square_cross\"}}},\"nonselection_glyph\":{\"type\":\"object\",\"name\":\"Scatter\",\"id\":\"p2867\",\"attributes\":{\"x\":{\"type\":\"field\",\"field\":\"x\"},\"y\":{\"type\":\"field\",\"field\":\"y\"},\"size\":{\"type\":\"field\",\"field\":\"size\"},\"line_color\":{\"type\":\"value\",\"value\":\"lightblue\"},\"line_alpha\":{\"type\":\"value\",\"value\":0.1},\"line_width\":{\"type\":\"value\",\"value\":3},\"fill_color\":{\"type\":\"value\",\"value\":null},\"fill_alpha\":{\"type\":\"value\",\"value\":0.1},\"hatch_alpha\":{\"type\":\"value\",\"value\":0.1},\"marker\":{\"type\":\"value\",\"value\":\"square_cross\"}}},\"muted_glyph\":{\"type\":\"object\",\"name\":\"Scatter\",\"id\":\"p2868\",\"attributes\":{\"x\":{\"type\":\"field\",\"field\":\"x\"},\"y\":{\"type\":\"field\",\"field\":\"y\"},\"size\":{\"type\":\"field\",\"field\":\"size\"},\"line_color\":{\"type\":\"value\",\"value\":\"lightblue\"},\"line_alpha\":{\"type\":\"value\",\"value\":0.2},\"line_width\":{\"type\":\"value\",\"value\":3},\"fill_color\":{\"type\":\"value\",\"value\":null},\"fill_alpha\":{\"type\":\"value\",\"value\":0.2},\"hatch_alpha\":{\"type\":\"value\",\"value\":0.2},\"marker\":{\"type\":\"value\",\"value\":\"square_cross\"}}}}}],\"toolbar\":{\"type\":\"object\",\"name\":\"Toolbar\",\"id\":\"p2756\",\"attributes\":{\"tools\":[{\"type\":\"object\",\"name\":\"PanTool\",\"id\":\"p2771\"},{\"type\":\"object\",\"name\":\"WheelZoomTool\",\"id\":\"p2772\",\"attributes\":{\"renderers\":\"auto\"}},{\"type\":\"object\",\"name\":\"BoxZoomTool\",\"id\":\"p2773\",\"attributes\":{\"overlay\":{\"type\":\"object\",\"name\":\"BoxAnnotation\",\"id\":\"p2774\",\"attributes\":{\"syncable\":false,\"line_color\":\"black\",\"line_alpha\":1.0,\"line_width\":2,\"line_dash\":[4,4],\"fill_color\":\"lightgrey\",\"fill_alpha\":0.5,\"level\":\"overlay\",\"visible\":false,\"left\":{\"type\":\"number\",\"value\":\"nan\"},\"right\":{\"type\":\"number\",\"value\":\"nan\"},\"top\":{\"type\":\"number\",\"value\":\"nan\"},\"bottom\":{\"type\":\"number\",\"value\":\"nan\"},\"left_units\":\"canvas\",\"right_units\":\"canvas\",\"top_units\":\"canvas\",\"bottom_units\":\"canvas\",\"handles\":{\"type\":\"object\",\"name\":\"BoxInteractionHandles\",\"id\":\"p2780\",\"attributes\":{\"all\":{\"type\":\"object\",\"name\":\"AreaVisuals\",\"id\":\"p2779\",\"attributes\":{\"fill_color\":\"white\",\"hover_fill_color\":\"lightgray\"}}}}}}}},{\"type\":\"object\",\"name\":\"SaveTool\",\"id\":\"p2781\"},{\"type\":\"object\",\"name\":\"ResetTool\",\"id\":\"p2782\"},{\"type\":\"object\",\"name\":\"HelpTool\",\"id\":\"p2783\"},{\"type\":\"object\",\"name\":\"HoverTool\",\"id\":\"p2815\",\"attributes\":{\"renderers\":\"auto\",\"tooltips\":[[\"Y-val\",\"@y{0.00}\"]]}}]}},\"left\":[{\"type\":\"object\",\"name\":\"LinearAxis\",\"id\":\"p2766\",\"attributes\":{\"ticker\":{\"type\":\"object\",\"name\":\"BasicTicker\",\"id\":\"p2767\",\"attributes\":{\"mantissas\":[1,2,5]}},\"formatter\":{\"type\":\"object\",\"name\":\"BasicTickFormatter\",\"id\":\"p2768\"},\"axis_label\":\"km/h\",\"axis_label_standoff\":10,\"axis_label_text_color\":\"#E0E0E0\",\"axis_label_text_font\":\"Helvetica\",\"axis_label_text_font_size\":\"1.25em\",\"axis_label_text_font_style\":\"normal\",\"major_label_policy\":{\"type\":\"object\",\"name\":\"AllLabels\",\"id\":\"p2769\"},\"major_label_text_color\":\"#E0E0E0\",\"major_label_text_font\":\"Helvetica\",\"major_label_text_font_size\":\"1.025em\",\"axis_line_color\":\"#E0E0E0\",\"axis_line_alpha\":0,\"major_tick_line_color\":\"#E0E0E0\",\"major_tick_line_alpha\":0,\"minor_tick_line_color\":\"#E0E0E0\",\"minor_tick_line_alpha\":0}},{\"type\":\"object\",\"name\":\"LinearAxis\",\"id\":\"p2786\",\"attributes\":{\"y_range_name\":\"altitudeFt\",\"ticker\":{\"type\":\"object\",\"name\":\"BasicTicker\",\"id\":\"p2787\",\"attributes\":{\"mantissas\":[1,2,5]}},\"formatter\":{\"type\":\"object\",\"name\":\"BasicTickFormatter\",\"id\":\"p2788\"},\"axis_label\":\"Alt (ft)\",\"axis_label_standoff\":10,\"axis_label_text_color\":\"#E0E0E0\",\"axis_label_text_font\":\"Helvetica\",\"axis_label_text_font_size\":\"1.25em\",\"axis_label_text_font_style\":\"normal\",\"major_label_policy\":{\"type\":\"object\",\"name\":\"AllLabels\",\"id\":\"p2789\"},\"major_label_text_color\":\"#E0E0E0\",\"major_label_text_font\":\"Helvetica\",\"major_label_text_font_size\":\"1.025em\",\"axis_line_color\":\"#E0E0E0\",\"axis_line_alpha\":0,\"major_tick_line_color\":\"#E0E0E0\",\"major_tick_line_alpha\":0,\"minor_tick_line_color\":\"#E0E0E0\",\"minor_tick_line_alpha\":0}},{\"type\":\"object\",\"name\":\"LinearAxis\",\"id\":\"p2790\",\"attributes\":{\"y_range_name\":\"angle\",\"ticker\":{\"type\":\"object\",\"name\":\"BasicTicker\",\"id\":\"p2791\",\"attributes\":{\"mantissas\":[1,2,5]}},\"formatter\":{\"type\":\"object\",\"name\":\"BasicTickFormatter\",\"id\":\"p2792\"},\"axis_label\":\"angle\",\"axis_label_standoff\":10,\"axis_label_text_color\":\"#E0E0E0\",\"axis_label_text_font\":\"Helvetica\",\"axis_label_text_font_size\":\"1.25em\",\"axis_label_text_font_style\":\"normal\",\"major_label_policy\":{\"type\":\"object\",\"name\":\"AllLabels\",\"id\":\"p2793\"},\"major_label_text_color\":\"#E0E0E0\",\"major_label_text_font\":\"Helvetica\",\"major_label_text_font_size\":\"1.025em\",\"axis_line_color\":\"#E0E0E0\",\"axis_line_alpha\":0,\"major_tick_line_color\":\"#E0E0E0\",\"major_tick_line_alpha\":0,\"minor_tick_line_color\":\"#E0E0E0\",\"minor_tick_line_alpha\":0}}],\"below\":[{\"type\":\"object\",\"name\":\"LinearAxis\",\"id\":\"p2761\",\"attributes\":{\"ticker\":{\"type\":\"object\",\"name\":\"BasicTicker\",\"id\":\"p2762\",\"attributes\":{\"mantissas\":[1,2,5]}},\"formatter\":{\"type\":\"object\",\"name\":\"BasicTickFormatter\",\"id\":\"p2763\"},\"axis_label\":\"seconds from exit\",\"axis_label_standoff\":10,\"axis_label_text_color\":\"#E0E0E0\",\"axis_label_text_font\":\"Helvetica\",\"axis_label_text_font_size\":\"1.25em\",\"axis_label_text_font_style\":\"normal\",\"major_label_policy\":{\"type\":\"object\",\"name\":\"AllLabels\",\"id\":\"p2764\"},\"major_label_text_color\":\"#E0E0E0\",\"major_label_text_font\":\"Helvetica\",\"major_label_text_font_size\":\"1.025em\",\"axis_line_color\":\"#E0E0E0\",\"axis_line_alpha\":0,\"major_tick_line_color\":\"#E0E0E0\",\"major_tick_line_alpha\":0,\"minor_tick_line_color\":\"#E0E0E0\",\"minor_tick_line_alpha\":0}}],\"center\":[{\"type\":\"object\",\"name\":\"Grid\",\"id\":\"p2765\",\"attributes\":{\"axis\":{\"id\":\"p2761\"},\"grid_line_color\":\"#E0E0E0\",\"grid_line_alpha\":0.25}},{\"type\":\"object\",\"name\":\"Grid\",\"id\":\"p2770\",\"attributes\":{\"dimension\":1,\"axis\":{\"id\":\"p2766\"},\"grid_line_color\":\"#E0E0E0\",\"grid_line_alpha\":0.25}},{\"type\":\"object\",\"name\":\"Legend\",\"id\":\"p2803\",\"attributes\":{\"border_line_alpha\":0,\"background_fill_color\":\"#20262B\",\"background_fill_alpha\":0.25,\"label_text_color\":\"#E0E0E0\",\"label_text_font\":\"Helvetica\",\"label_text_font_size\":\"1.025em\",\"label_standoff\":8,\"glyph_width\":15,\"spacing\":8,\"items\":[{\"type\":\"object\",\"name\":\"LegendItem\",\"id\":\"p2804\",\"attributes\":{\"label\":{\"type\":\"value\",\"value\":\"Alt (ft)\"},\"renderers\":[{\"id\":\"p2800\"}]}},{\"type\":\"object\",\"name\":\"LegendItem\",\"id\":\"p2814\",\"attributes\":{\"label\":{\"type\":\"value\",\"value\":\"angle\"},\"renderers\":[{\"id\":\"p2811\"}]}},{\"type\":\"object\",\"name\":\"LegendItem\",\"id\":\"p2825\",\"attributes\":{\"label\":{\"type\":\"value\",\"value\":\"speed\"},\"renderers\":[{\"id\":\"p2822\"}]}},{\"type\":\"object\",\"name\":\"LegendItem\",\"id\":\"p2835\",\"attributes\":{\"label\":{\"type\":\"value\",\"value\":\"H-speed\"},\"renderers\":[{\"id\":\"p2832\"}]}}]}}],\"background_fill_color\":\"#20262B\",\"border_fill_color\":\"#15191C\"}}]}};\n",
       "  const render_items = [{\"docid\":\"80fed84c-5de0-4c69-ab02-2347c32ade40\",\"roots\":{\"p2747\":\"bf79a912-afcb-4b66-82db-b96bb42cfe4f\"},\"root_ids\":[\"p2747\"]}];\n",
       "  void root.Bokeh.embed.embed_items_notebook(docs_json, render_items);\n",
       "  }\n",
       "  if (root.Bokeh !== undefined) {\n",
       "    embed_document(root);\n",
       "  } else {\n",
       "    let attempts = 0;\n",
       "    const timer = setInterval(function(root) {\n",
       "      if (root.Bokeh !== undefined) {\n",
       "        clearInterval(timer);\n",
       "        embed_document(root);\n",
       "      } else {\n",
       "        attempts++;\n",
       "        if (attempts > 100) {\n",
       "          clearInterval(timer);\n",
       "          console.log(\"Bokeh: ERROR: Unable to run BokehJS code because BokehJS library is missing\");\n",
       "        }\n",
       "      }\n",
       "    }, 10, root)\n",
       "  }\n",
       "})(window);"
      ],
      "application/vnd.bokehjs_exec.v0+json": ""
     },
     "metadata": {
      "application/vnd.bokehjs_exec.v0+json": {
       "id": "p2747"
      }
     },
     "output_type": "display_data"
    },
    {
     "data": {
      "application/vnd.jupyter.widget-view+json": {
       "model_id": "94b78a937ebc410b82e8bb18d7453785",
       "version_major": 2,
       "version_minor": 0
      },
      "text/plain": [
       "HTML(value='<hr><h1><span style=\"color: #0f0\">data 09-07-30:v1 jump - 🟢 valid - score = 482.27 km/h</span></h1…"
      ]
     },
     "metadata": {},
     "output_type": "display_data"
    },
    {
     "data": {
      "application/vnd.jupyter.widget-view+json": {
       "model_id": "5fc8d9b1d96e438e824c90c95143d28a",
       "version_major": 2,
       "version_minor": 0
      },
      "text/plain": [
       "HTML(value='<h3>Max speed = 485; exit at 4128 m (13544 ft), end scoring window at 1872 m (6142 ft)')"
      ]
     },
     "metadata": {},
     "output_type": "display_data"
    },
    {
     "data": {
      "application/vnd.jupyter.widget-view+json": {
       "model_id": "2fcfad6685f44820a3425334704a79f1",
       "version_major": 2,
       "version_minor": 0
      },
      "text/plain": [
       "HTML(value='</h3>')"
      ]
     },
     "metadata": {},
     "output_type": "display_data"
    },
    {
     "data": {
      "text/html": [
       "<div>\n",
       "<style scoped>\n",
       "    .dataframe tbody tr th:only-of-type {\n",
       "        vertical-align: middle;\n",
       "    }\n",
       "\n",
       "    .dataframe tbody tr th {\n",
       "        vertical-align: top;\n",
       "    }\n",
       "\n",
       "    .dataframe thead th {\n",
       "        text-align: right;\n",
       "    }\n",
       "</style>\n",
       "<table border=\"1\" class=\"dataframe\">\n",
       "  <thead>\n",
       "    <tr style=\"text-align: right;\">\n",
       "      <th></th>\n",
       "      <th>time</th>\n",
       "      <th>vKMh</th>\n",
       "      <th>hKMh</th>\n",
       "      <th>speedAngle</th>\n",
       "      <th>distanceFromExit (m)</th>\n",
       "      <th>altitude (ft)</th>\n",
       "      <th>netVectorKMh</th>\n",
       "    </tr>\n",
       "  </thead>\n",
       "  <tbody>\n",
       "    <tr>\n",
       "      <th></th>\n",
       "      <td>5.0</td>\n",
       "      <td>179</td>\n",
       "      <td>114</td>\n",
       "      <td>57.50</td>\n",
       "      <td>198.04</td>\n",
       "      <td>13107</td>\n",
       "      <td>213</td>\n",
       "    </tr>\n",
       "    <tr>\n",
       "      <th></th>\n",
       "      <td>10.0</td>\n",
       "      <td>325</td>\n",
       "      <td>66</td>\n",
       "      <td>78.48</td>\n",
       "      <td>317.97</td>\n",
       "      <td>11923</td>\n",
       "      <td>332</td>\n",
       "    </tr>\n",
       "    <tr>\n",
       "      <th></th>\n",
       "      <td>15.0</td>\n",
       "      <td>420</td>\n",
       "      <td>50</td>\n",
       "      <td>83.17</td>\n",
       "      <td>378.64</td>\n",
       "      <td>10189</td>\n",
       "      <td>423</td>\n",
       "    </tr>\n",
       "    <tr>\n",
       "      <th></th>\n",
       "      <td>20.0</td>\n",
       "      <td>471</td>\n",
       "      <td>52</td>\n",
       "      <td>83.71</td>\n",
       "      <td>402.87</td>\n",
       "      <td>8138</td>\n",
       "      <td>474</td>\n",
       "    </tr>\n",
       "    <tr>\n",
       "      <th></th>\n",
       "      <td>25.0</td>\n",
       "      <td>477</td>\n",
       "      <td>82</td>\n",
       "      <td>80.28</td>\n",
       "      <td>395.05</td>\n",
       "      <td>6170</td>\n",
       "      <td>484</td>\n",
       "    </tr>\n",
       "  </tbody>\n",
       "</table>\n",
       "</div>"
      ],
      "text/plain": [
       "  time  vKMh  hKMh  speedAngle  distanceFromExit (m)  altitude (ft)  \\\n",
       "   5.0   179   114       57.50                198.04          13107   \n",
       "  10.0   325    66       78.48                317.97          11923   \n",
       "  15.0   420    50       83.17                378.64          10189   \n",
       "  20.0   471    52       83.71                402.87           8138   \n",
       "  25.0   477    82       80.28                395.05           6170   \n",
       "\n",
       "  netVectorKMh  \n",
       "           213  \n",
       "           332  \n",
       "           423  \n",
       "           474  \n",
       "           484  "
      ]
     },
     "metadata": {},
     "output_type": "display_data"
    },
    {
     "data": {
      "text/html": [
       "\n",
       "  <div id=\"b39ee0fc-22df-4962-b10a-b023ef888915\" data-root-id=\"p2891\" style=\"display: contents;\"></div>\n"
      ]
     },
     "metadata": {},
     "output_type": "display_data"
    },
    {
     "data": {
      "application/javascript": [
       "(function(root) {\n",
       "  function embed_document(root) {\n",
       "  const docs_json = {\"433906b4-fbe2-42d3-a2fe-70afb78cff77\":{\"version\":\"3.5.2\",\"title\":\"Bokeh Application\",\"roots\":[{\"type\":\"object\",\"name\":\"Figure\",\"id\":\"p2891\",\"attributes\":{\"width\":900,\"height\":500,\"x_range\":{\"type\":\"object\",\"name\":\"Range1d\",\"id\":\"p2901\",\"attributes\":{\"end\":35.0}},\"y_range\":{\"type\":\"object\",\"name\":\"Range1d\",\"id\":\"p2902\",\"attributes\":{\"end\":550.0}},\"x_scale\":{\"type\":\"object\",\"name\":\"LinearScale\",\"id\":\"p2903\"},\"y_scale\":{\"type\":\"object\",\"name\":\"LinearScale\",\"id\":\"p2904\"},\"extra_y_ranges\":{\"type\":\"map\",\"entries\":[[\"altitudeFt\",{\"type\":\"object\",\"name\":\"Range1d\",\"id\":\"p2928\",\"attributes\":{\"start\":5669.8154904,\"end\":14044.1024584}}],[\"angle\",{\"type\":\"object\",\"name\":\"Range1d\",\"id\":\"p2929\",\"attributes\":{\"end\":90.0}}]]},\"title\":{\"type\":\"object\",\"name\":\"Title\",\"id\":\"p2894\",\"attributes\":{\"text\":\"data 09-07-30:v1\",\"text_color\":\"#E0E0E0\",\"text_font\":\"Helvetica\",\"text_font_size\":\"1.15em\"}},\"outline_line_color\":\"#E0E0E0\",\"outline_line_alpha\":0.25,\"renderers\":[{\"type\":\"object\",\"name\":\"GlyphRenderer\",\"id\":\"p2944\",\"attributes\":{\"y_range_name\":\"altitudeFt\",\"data_source\":{\"type\":\"object\",\"name\":\"ColumnDataSource\",\"id\":\"p2938\",\"attributes\":{\"selected\":{\"type\":\"object\",\"name\":\"Selection\",\"id\":\"p2939\",\"attributes\":{\"indices\":[],\"line_indices\":[]}},\"selection_policy\":{\"type\":\"object\",\"name\":\"UnionRenderers\",\"id\":\"p2940\"},\"data\":{\"type\":\"map\",\"entries\":[[\"x\",{\"type\":\"ndarray\",\"array\":{\"type\":\"bytes\",\"data\":\"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\"},\"shape\":[200],\"dtype\":\"float64\",\"order\":\"little\"}],[\"y\",{\"type\":\"ndarray\",\"array\":{\"type\":\"bytes\",\"data\":\"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\"},\"shape\":[200],\"dtype\":\"float64\",\"order\":\"little\"}]]}}},\"view\":{\"type\":\"object\",\"name\":\"CDSView\",\"id\":\"p2945\",\"attributes\":{\"filter\":{\"type\":\"object\",\"name\":\"AllIndices\",\"id\":\"p2946\"}}},\"glyph\":{\"type\":\"object\",\"name\":\"Line\",\"id\":\"p2941\",\"attributes\":{\"x\":{\"type\":\"field\",\"field\":\"x\"},\"y\":{\"type\":\"field\",\"field\":\"y\"},\"line_color\":\"palegoldenrod\",\"line_width\":2}},\"nonselection_glyph\":{\"type\":\"object\",\"name\":\"Line\",\"id\":\"p2942\",\"attributes\":{\"x\":{\"type\":\"field\",\"field\":\"x\"},\"y\":{\"type\":\"field\",\"field\":\"y\"},\"line_color\":\"palegoldenrod\",\"line_alpha\":0.1,\"line_width\":2}},\"muted_glyph\":{\"type\":\"object\",\"name\":\"Line\",\"id\":\"p2943\",\"attributes\":{\"x\":{\"type\":\"field\",\"field\":\"x\"},\"y\":{\"type\":\"field\",\"field\":\"y\"},\"line_color\":\"palegoldenrod\",\"line_alpha\":0.2,\"line_width\":2}}}},{\"type\":\"object\",\"name\":\"GlyphRenderer\",\"id\":\"p2955\",\"attributes\":{\"y_range_name\":\"angle\",\"data_source\":{\"type\":\"object\",\"name\":\"ColumnDataSource\",\"id\":\"p2949\",\"attributes\":{\"selected\":{\"type\":\"object\",\"name\":\"Selection\",\"id\":\"p2950\",\"attributes\":{\"indices\":[],\"line_indices\":[]}},\"selection_policy\":{\"type\":\"object\",\"name\":\"UnionRenderers\",\"id\":\"p2951\"},\"data\":{\"type\":\"map\",\"entries\":[[\"x\",{\"type\":\"ndarray\",\"array\":{\"type\":\"bytes\",\"data\":\"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\"},\"shape\":[200],\"dtype\":\"float64\",\"order\":\"little\"}],[\"y\",{\"type\":\"ndarray\",\"array\":{\"type\":\"bytes\",\"data\":\"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\"},\"shape\":[200],\"dtype\":\"float64\",\"order\":\"little\"}]]}}},\"view\":{\"type\":\"object\",\"name\":\"CDSView\",\"id\":\"p2956\",\"attributes\":{\"filter\":{\"type\":\"object\",\"name\":\"AllIndices\",\"id\":\"p2957\"}}},\"glyph\":{\"type\":\"object\",\"name\":\"Line\",\"id\":\"p2952\",\"attributes\":{\"x\":{\"type\":\"field\",\"field\":\"x\"},\"y\":{\"type\":\"field\",\"field\":\"y\"},\"line_color\":\"deepskyblue\",\"line_width\":2}},\"nonselection_glyph\":{\"type\":\"object\",\"name\":\"Line\",\"id\":\"p2953\",\"attributes\":{\"x\":{\"type\":\"field\",\"field\":\"x\"},\"y\":{\"type\":\"field\",\"field\":\"y\"},\"line_color\":\"deepskyblue\",\"line_alpha\":0.1,\"line_width\":2}},\"muted_glyph\":{\"type\":\"object\",\"name\":\"Line\",\"id\":\"p2954\",\"attributes\":{\"x\":{\"type\":\"field\",\"field\":\"x\"},\"y\":{\"type\":\"field\",\"field\":\"y\"},\"line_color\":\"deepskyblue\",\"line_alpha\":0.2,\"line_width\":2}}}},{\"type\":\"object\",\"name\":\"GlyphRenderer\",\"id\":\"p2966\",\"attributes\":{\"data_source\":{\"type\":\"object\",\"name\":\"ColumnDataSource\",\"id\":\"p2960\",\"attributes\":{\"selected\":{\"type\":\"object\",\"name\":\"Selection\",\"id\":\"p2961\",\"attributes\":{\"indices\":[],\"line_indices\":[]}},\"selection_policy\":{\"type\":\"object\",\"name\":\"UnionRenderers\",\"id\":\"p2962\"},\"data\":{\"type\":\"map\",\"entries\":[[\"x\",{\"type\":\"ndarray\",\"array\":{\"type\":\"bytes\",\"data\":\"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\"},\"shape\":[200],\"dtype\":\"float64\",\"order\":\"little\"}],[\"y\",{\"type\":\"ndarray\",\"array\":{\"type\":\"bytes\",\"data\":\"KVyPwvUoFEC/nxov3SQiQCuHFtnO9yZAVeOlm8QgMEDZzvdT46UyQI6XbhKDwDZADAIrhxbZOUApXI/C9Sg9QIPAyqFFNj9Az/dT46UbQkAEVg4tsh1DQOxRuB6Fa0VA5/up8dKNRkCuR+F6FO5IQDeJQWDlUEpAYeXQItt5TEDZzvdT4+VNQDvfT42X7k9AEVg5tMjWUEDqJjEIrJxSQEw3iUFghVNAokW28/10VEAMAiuHFllVQIts5/upMVZA3iQGgZUjV0Dy0k1iEDhYQFyPwvUoHFlAu0kMAisHWkARWDm0yPZaQBSuR+F6FFxAqcZLN4nhXEBEi2zn+6ldQJ7vp8ZLl15AUbgehetRX0CJQWDl0AJgQNnO91PjZWBAGQRWDi3SYEBMN4lBYEVhQNv5fmq8FGJAH4XrUbh+YkBeukkMAutiQKjGSzeJUWNA5/up8dK9Y0AxCKwcWiRkQGq8dJMYlGRAppvEILACZUDNzMzMzHxlQCcxCKwcamZAf2q8dJPIZkCoxks3iUFnQPhT46WbpGdAUrgehesBaECUGARWDm1oQNnO91Pj1WhASgwCK4cmaUCXbhKDwIppQB1aZDvfX2pAZ2ZmZmbGakDqJjEIrJxrQD81XrpJ/GtAeekmMQhsbEDIdr6fGs9sQBfZzvdTM21A3iQGgZXjbUAX2c73U1NuQMyhRbbzDW9AC9ejcD16b0BfukkMAttvQGQ730+NF3BAqMZLN4mBcEBh5dAi26lwQLTIdr6fCnFA5/up8dI1cUCamZmZmWFxQFK4HoXriXFAf2q8dJO4cUBxPQrXowhyQJduEoPAOnJAzczMzMxkckB3vp8aL5VyQG3n+6nx4nJAK4cW2c4Hc0AMAiuHFmFzQL+fGi/djHNAg8DKoUWuc0A/NV66SdRzQPhT46Wb/HNAYeXQIttRdEAhsHJokXV0QIgW2c73y3RAyXa+nxrvdEBFtvP91Dh1QML1KFyPgnVABoGVQ4ukdUCLbOf7qel1QFCNl24SC3ZAqMZLN4khdkDy0k1iEEB2QKRwPQrXa3ZAGi/dJAa5dkBbZDvfT912QJ3vp8ZL/3ZAXI/C9Sgkd0BnZmZmZmZ3QLTIdr6fgndAN4lBYOXId0B9PzVeuul3QJqZmZmZIXhAVg4tsp1HeEAhsHJokWV4QARWDi2ydXhAHVpkO9+veEDm0CLb+c54QKrx0k1i8HhAjpduEoMAeUBI4XoUrid5QJQYBFYORXlAPzVeukl0eUCXbhKDwIp5QObQItv5pnlAexSuR+HieUBjEFg5tPB5QKRwPQrXE3pAC9ejcD0iekBjEFg5tDh6QMl2vp8aR3pAmpmZmZlhekBeukkMAoN6QCuHFtnOn3pAoBov3SSmekAOLbKd7696QFXjpZvE0HpAtvP91HjhekDfT42XbhJ7QLtJDAIrJ3tAqvHSTWIwe0B9PzVeukl7QFtkO99PXXtAjpduEoOIe0DkpZvEIKB7QL+fGi/dtHtAH4XrUbjGe0Dm0CLb+eZ7QEJg5dAi+3tAgZVDi2wffEDkpZvEIDB8QL+fGi/dRHxAMQisHFpMfEAj2/l+alR8QPYoXI/CbXxAZ2ZmZmZ2fEBQjZduEoN8QLTIdr6fknxA+FPjpZu0fEBWDi2yncd8QDIIrBxa3HxAm8QgsHLofECOl24Sg/B8QOSlm8QgCH1AVg4tsp0PfUBEi2zn+xl9QB1aZDvfL31A/9R46SZBfUBlO99PjU99QNR46SYxWH1AMgisHFpsfUAshxbZzm99QKnGSzeJcX1AoBov3SR2fUAPLbKd7399QHaTGARWjn1AX7pJDAKbfUDO91PjpaN9QCGwcmiRvX1AiBbZzvfLfUBcj8L1KOR9QNIi2/l+6n1AvHSTGAT2fUCyne+nxvt9QC2yne+n/n1Aj8L1KFwPfkCJQWDl0BJ+QO58PzVeIn5A+VPjpZscfkD8qfHSTRp+QH0/NV66GX5AcT0K16MgfkBiEFg5tCh+QOJ6FK5HKX5AyHa+nxo3fkA+CtejcD1+QClcj8L1SH5Ar0fhehRGfkBFtvP91Dh+QKabxCCwAn5AvHSTGAT2fUBPYhBYOex9QFtkO99P5X1A4noUrkfhfUD5U+Olm9R9QA==\"},\"shape\":[200],\"dtype\":\"float64\",\"order\":\"little\"}]]}}},\"view\":{\"type\":\"object\",\"name\":\"CDSView\",\"id\":\"p2967\",\"attributes\":{\"filter\":{\"type\":\"object\",\"name\":\"AllIndices\",\"id\":\"p2968\"}}},\"glyph\":{\"type\":\"object\",\"name\":\"Line\",\"id\":\"p2963\",\"attributes\":{\"x\":{\"type\":\"field\",\"field\":\"x\"},\"y\":{\"type\":\"field\",\"field\":\"y\"},\"line_color\":\"limegreen\",\"line_width\":2}},\"nonselection_glyph\":{\"type\":\"object\",\"name\":\"Line\",\"id\":\"p2964\",\"attributes\":{\"x\":{\"type\":\"field\",\"field\":\"x\"},\"y\":{\"type\":\"field\",\"field\":\"y\"},\"line_color\":\"limegreen\",\"line_alpha\":0.1,\"line_width\":2}},\"muted_glyph\":{\"type\":\"object\",\"name\":\"Line\",\"id\":\"p2965\",\"attributes\":{\"x\":{\"type\":\"field\",\"field\":\"x\"},\"y\":{\"type\":\"field\",\"field\":\"y\"},\"line_color\":\"limegreen\",\"line_alpha\":0.2,\"line_width\":2}}}},{\"type\":\"object\",\"name\":\"GlyphRenderer\",\"id\":\"p2976\",\"attributes\":{\"data_source\":{\"type\":\"object\",\"name\":\"ColumnDataSource\",\"id\":\"p2970\",\"attributes\":{\"selected\":{\"type\":\"object\",\"name\":\"Selection\",\"id\":\"p2971\",\"attributes\":{\"indices\":[],\"line_indices\":[]}},\"selection_policy\":{\"type\":\"object\",\"name\":\"UnionRenderers\",\"id\":\"p2972\"},\"data\":{\"type\":\"map\",\"entries\":[[\"x\",{\"type\":\"ndarray\",\"array\":{\"type\":\"bytes\",\"data\":\"AAAAAAAAAACamZmZmZm5P5qZmZmZmck/MzMzMzMz0z+amZmZmZnZPwAAAAAAAOA/MzMzMzMz4z9mZmZmZmbmP5qZmZmZmek/zczMzMzM7D8AAAAAAADwP5qZmZmZmfE/MzMzMzMz8z/NzMzMzMz0P2ZmZmZmZvY/AAAAAAAA+D+amZmZmZn5PzMzMzMzM/s/zczMzMzM/D8AAAAAAAAAQM3MzMzMzABAmpmZmZmZAUBmZmZmZmYCQDMzMzMzMwNAAAAAAAAABEDNzMzMzMwEQJqZmZmZmQVAZmZmZmZmBkAzMzMzMzMHQAAAAAAAAAhAzczMzMzMCECamZmZmZkJQGZmZmZmZgpAMzMzMzMzC0AAAAAAAAAMQM3MzMzMzAxAmpmZmZmZDUBmZmZmZmYOQAAAAAAAABBAZmZmZmZmEEDNzMzMzMwQQDMzMzMzMxFAmpmZmZmZEUAAAAAAAAASQGZmZmZmZhJAzczMzMzMEkAzMzMzMzMTQAAAAAAAABRAZmZmZmZmFEDNzMzMzMwUQDMzMzMzMxVAmpmZmZmZFUAAAAAAAAAWQGZmZmZmZhZAzczMzMzMFkAzMzMzMzMXQAAAAAAAABhAZmZmZmZmGEAzMzMzMzMZQJqZmZmZmRlAAAAAAAAAGkBmZmZmZmYaQM3MzMzMzBpAmpmZmZmZG0AAAAAAAAAcQM3MzMzMzBxAMzMzMzMzHUCamZmZmZkdQAAAAAAAAB5AzczMzMzMHkAzMzMzMzMfQAAAAAAAACBAMzMzMzMzIEBmZmZmZmYgQJqZmZmZmSBAzczMzMzMIEAzMzMzMzMhQGZmZmZmZiFAmpmZmZmZIUDNzMzMzMwhQDMzMzMzMyJAZmZmZmZmIkDNzMzMzMwiQAAAAAAAACNAMzMzMzMzI0BmZmZmZmYjQJqZmZmZmSNAAAAAAAAAJEAzMzMzMzMkQJqZmZmZmSRAzczMzMzMJEAzMzMzMzMlQJqZmZmZmSVAzczMzMzMJUAzMzMzMzMmQGZmZmZmZiZAmpmZmZmZJkDNzMzMzMwmQAAAAAAAACdAZmZmZmZmJ0CamZmZmZknQM3MzMzMzCdAAAAAAAAAKEBmZmZmZmYoQJqZmZmZmShAAAAAAAAAKUAzMzMzMzMpQJqZmZmZmSlAzczMzMzMKUAAAAAAAAAqQDMzMzMzMypAmpmZmZmZKkDNzMzMzMwqQAAAAAAAACtAMzMzMzMzK0BmZmZmZmYrQJqZmZmZmStAAAAAAAAALEAzMzMzMzMsQGZmZmZmZixAzczMzMzMLEAAAAAAAAAtQGZmZmZmZi1AmpmZmZmZLUDNzMzMzMwtQAAAAAAAAC5AMzMzMzMzLkCamZmZmZkuQM3MzMzMzC5AAAAAAAAAL0AzMzMzMzMvQJqZmZmZmS9AzczMzMzML0CamZmZmRkwQDMzMzMzMzBAzczMzMxMMEBmZmZmZmYwQAAAAAAAgDBAMzMzMzOzMEDNzMzMzMwwQGZmZmZm5jBAAAAAAAAAMUAzMzMzMzMxQM3MzMzMTDFAAAAAAACAMUCamZmZmZkxQDMzMzMzszFAzczMzMzMMUBmZmZmZuYxQJqZmZmZGTJAMzMzMzMzMkDNzMzMzEwyQGZmZmZmZjJAmpmZmZmZMkAzMzMzM7MyQM3MzMzMzDJAZmZmZmbmMkAAAAAAAAAzQDMzMzMzMzNAzczMzMxMM0BmZmZmZmYzQAAAAAAAgDNAMzMzMzOzM0DNzMzMzMwzQGZmZmZm5jNAAAAAAAAANECamZmZmRk0QM3MzMzMTDRAZmZmZmZmNECamZmZmZk0QDMzMzMzszRAzczMzMzMNEBmZmZmZuY0QJqZmZmZGTVAMzMzMzMzNUBmZmZmZmY1QAAAAAAAgDVAmpmZmZmZNUAzMzMzM7M1QM3MzMzMzDVAAAAAAAAANkCamZmZmRk2QM3MzMzMTDZAZmZmZmZmNkAAAAAAAIA2QJqZmZmZmTZAzczMzMzMNkBmZmZmZuY2QAAAAAAAADdAmpmZmZkZN0AzMzMzMzM3QGZmZmZmZjdAmpmZmZmZN0AzMzMzM7M3QGZmZmZm5jdAAAAAAAAAOECamZmZmRk4QDMzMzMzMzhAzczMzMxMOEAAAAAAAIA4QA==\"},\"shape\":[200],\"dtype\":\"float64\",\"order\":\"little\"}],[\"y\",{\"type\":\"ndarray\",\"array\":{\"type\":\"bytes\",\"data\":\"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\"},\"shape\":[200],\"dtype\":\"float64\",\"order\":\"little\"}]]}}},\"view\":{\"type\":\"object\",\"name\":\"CDSView\",\"id\":\"p2977\",\"attributes\":{\"filter\":{\"type\":\"object\",\"name\":\"AllIndices\",\"id\":\"p2978\"}}},\"glyph\":{\"type\":\"object\",\"name\":\"Line\",\"id\":\"p2973\",\"attributes\":{\"x\":{\"type\":\"field\",\"field\":\"x\"},\"y\":{\"type\":\"field\",\"field\":\"y\"},\"line_color\":\"red\",\"line_width\":2}},\"nonselection_glyph\":{\"type\":\"object\",\"name\":\"Line\",\"id\":\"p2974\",\"attributes\":{\"x\":{\"type\":\"field\",\"field\":\"x\"},\"y\":{\"type\":\"field\",\"field\":\"y\"},\"line_color\":\"red\",\"line_alpha\":0.1,\"line_width\":2}},\"muted_glyph\":{\"type\":\"object\",\"name\":\"Line\",\"id\":\"p2975\",\"attributes\":{\"x\":{\"type\":\"field\",\"field\":\"x\"},\"y\":{\"type\":\"field\",\"field\":\"y\"},\"line_color\":\"red\",\"line_alpha\":0.2,\"line_width\":2}}}},{\"type\":\"object\",\"name\":\"GlyphRenderer\",\"id\":\"p2986\",\"attributes\":{\"data_source\":{\"type\":\"object\",\"name\":\"ColumnDataSource\",\"id\":\"p2980\",\"attributes\":{\"selected\":{\"type\":\"object\",\"name\":\"Selection\",\"id\":\"p2981\",\"attributes\":{\"indices\":[],\"line_indices\":[]}},\"selection_policy\":{\"type\":\"object\",\"name\":\"UnionRenderers\",\"id\":\"p2982\"},\"data\":{\"type\":\"map\",\"entries\":[[\"x0\",[21.1]],[\"y0\",[0.0]],[\"x1\",[21.1]],[\"y1\",[482.27]]]}}},\"view\":{\"type\":\"object\",\"name\":\"CDSView\",\"id\":\"p2987\",\"attributes\":{\"filter\":{\"type\":\"object\",\"name\":\"AllIndices\",\"id\":\"p2988\"}}},\"glyph\":{\"type\":\"object\",\"name\":\"Segment\",\"id\":\"p2983\",\"attributes\":{\"x0\":{\"type\":\"field\",\"field\":\"x0\"},\"y0\":{\"type\":\"field\",\"field\":\"y0\"},\"x1\":{\"type\":\"field\",\"field\":\"x1\"},\"y1\":{\"type\":\"field\",\"field\":\"y1\"},\"line_color\":{\"type\":\"value\",\"value\":\"lightblue\"},\"line_width\":{\"type\":\"value\",\"value\":3}}},\"nonselection_glyph\":{\"type\":\"object\",\"name\":\"Segment\",\"id\":\"p2984\",\"attributes\":{\"x0\":{\"type\":\"field\",\"field\":\"x0\"},\"y0\":{\"type\":\"field\",\"field\":\"y0\"},\"x1\":{\"type\":\"field\",\"field\":\"x1\"},\"y1\":{\"type\":\"field\",\"field\":\"y1\"},\"line_color\":{\"type\":\"value\",\"value\":\"lightblue\"},\"line_alpha\":{\"type\":\"value\",\"value\":0.1},\"line_width\":{\"type\":\"value\",\"value\":3}}},\"muted_glyph\":{\"type\":\"object\",\"name\":\"Segment\",\"id\":\"p2985\",\"attributes\":{\"x0\":{\"type\":\"field\",\"field\":\"x0\"},\"y0\":{\"type\":\"field\",\"field\":\"y0\"},\"x1\":{\"type\":\"field\",\"field\":\"x1\"},\"y1\":{\"type\":\"field\",\"field\":\"y1\"},\"line_color\":{\"type\":\"value\",\"value\":\"lightblue\"},\"line_alpha\":{\"type\":\"value\",\"value\":0.2},\"line_width\":{\"type\":\"value\",\"value\":3}}}}},{\"type\":\"object\",\"name\":\"GlyphRenderer\",\"id\":\"p2995\",\"attributes\":{\"data_source\":{\"type\":\"object\",\"name\":\"ColumnDataSource\",\"id\":\"p2989\",\"attributes\":{\"selected\":{\"type\":\"object\",\"name\":\"Selection\",\"id\":\"p2990\",\"attributes\":{\"indices\":[],\"line_indices\":[]}},\"selection_policy\":{\"type\":\"object\",\"name\":\"UnionRenderers\",\"id\":\"p2991\"},\"data\":{\"type\":\"map\",\"entries\":[[\"x0\",[22.6]],[\"y0\",[0.0]],[\"x1\",[22.6]],[\"y1\",[482.27]]]}}},\"view\":{\"type\":\"object\",\"name\":\"CDSView\",\"id\":\"p2996\",\"attributes\":{\"filter\":{\"type\":\"object\",\"name\":\"AllIndices\",\"id\":\"p2997\"}}},\"glyph\":{\"type\":\"object\",\"name\":\"Segment\",\"id\":\"p2992\",\"attributes\":{\"x0\":{\"type\":\"field\",\"field\":\"x0\"},\"y0\":{\"type\":\"field\",\"field\":\"y0\"},\"x1\":{\"type\":\"field\",\"field\":\"x1\"},\"y1\":{\"type\":\"field\",\"field\":\"y1\"},\"line_color\":{\"type\":\"value\",\"value\":\"darkseagreen\"}}},\"nonselection_glyph\":{\"type\":\"object\",\"name\":\"Segment\",\"id\":\"p2993\",\"attributes\":{\"x0\":{\"type\":\"field\",\"field\":\"x0\"},\"y0\":{\"type\":\"field\",\"field\":\"y0\"},\"x1\":{\"type\":\"field\",\"field\":\"x1\"},\"y1\":{\"type\":\"field\",\"field\":\"y1\"},\"line_color\":{\"type\":\"value\",\"value\":\"darkseagreen\"},\"line_alpha\":{\"type\":\"value\",\"value\":0.1}}},\"muted_glyph\":{\"type\":\"object\",\"name\":\"Segment\",\"id\":\"p2994\",\"attributes\":{\"x0\":{\"type\":\"field\",\"field\":\"x0\"},\"y0\":{\"type\":\"field\",\"field\":\"y0\"},\"x1\":{\"type\":\"field\",\"field\":\"x1\"},\"y1\":{\"type\":\"field\",\"field\":\"y1\"},\"line_color\":{\"type\":\"value\",\"value\":\"darkseagreen\"},\"line_alpha\":{\"type\":\"value\",\"value\":0.2}}}}},{\"type\":\"object\",\"name\":\"GlyphRenderer\",\"id\":\"p3004\",\"attributes\":{\"data_source\":{\"type\":\"object\",\"name\":\"ColumnDataSource\",\"id\":\"p2998\",\"attributes\":{\"selected\":{\"type\":\"object\",\"name\":\"Selection\",\"id\":\"p2999\",\"attributes\":{\"indices\":[],\"line_indices\":[]}},\"selection_policy\":{\"type\":\"object\",\"name\":\"UnionRenderers\",\"id\":\"p3000\"},\"data\":{\"type\":\"map\",\"entries\":[[\"x0\",[19.6]],[\"y0\",[0.0]],[\"x1\",[19.6]],[\"y1\",[482.27]]]}}},\"view\":{\"type\":\"object\",\"name\":\"CDSView\",\"id\":\"p3005\",\"attributes\":{\"filter\":{\"type\":\"object\",\"name\":\"AllIndices\",\"id\":\"p3006\"}}},\"glyph\":{\"type\":\"object\",\"name\":\"Segment\",\"id\":\"p3001\",\"attributes\":{\"x0\":{\"type\":\"field\",\"field\":\"x0\"},\"y0\":{\"type\":\"field\",\"field\":\"y0\"},\"x1\":{\"type\":\"field\",\"field\":\"x1\"},\"y1\":{\"type\":\"field\",\"field\":\"y1\"},\"line_color\":{\"type\":\"value\",\"value\":\"darkseagreen\"}}},\"nonselection_glyph\":{\"type\":\"object\",\"name\":\"Segment\",\"id\":\"p3002\",\"attributes\":{\"x0\":{\"type\":\"field\",\"field\":\"x0\"},\"y0\":{\"type\":\"field\",\"field\":\"y0\"},\"x1\":{\"type\":\"field\",\"field\":\"x1\"},\"y1\":{\"type\":\"field\",\"field\":\"y1\"},\"line_color\":{\"type\":\"value\",\"value\":\"darkseagreen\"},\"line_alpha\":{\"type\":\"value\",\"value\":0.1}}},\"muted_glyph\":{\"type\":\"object\",\"name\":\"Segment\",\"id\":\"p3003\",\"attributes\":{\"x0\":{\"type\":\"field\",\"field\":\"x0\"},\"y0\":{\"type\":\"field\",\"field\":\"y0\"},\"x1\":{\"type\":\"field\",\"field\":\"x1\"},\"y1\":{\"type\":\"field\",\"field\":\"y1\"},\"line_color\":{\"type\":\"value\",\"value\":\"darkseagreen\"},\"line_alpha\":{\"type\":\"value\",\"value\":0.2}}}}},{\"type\":\"object\",\"name\":\"GlyphRenderer\",\"id\":\"p3013\",\"attributes\":{\"data_source\":{\"type\":\"object\",\"name\":\"ColumnDataSource\",\"id\":\"p3007\",\"attributes\":{\"selected\":{\"type\":\"object\",\"name\":\"Selection\",\"id\":\"p3008\",\"attributes\":{\"indices\":[],\"line_indices\":[]}},\"selection_policy\":{\"type\":\"object\",\"name\":\"UnionRenderers\",\"id\":\"p3009\"},\"data\":{\"type\":\"map\",\"entries\":[[\"x\",[21.1]],[\"y\",[482.27]],[\"size\",[20]]]}}},\"view\":{\"type\":\"object\",\"name\":\"CDSView\",\"id\":\"p3014\",\"attributes\":{\"filter\":{\"type\":\"object\",\"name\":\"AllIndices\",\"id\":\"p3015\"}}},\"glyph\":{\"type\":\"object\",\"name\":\"Scatter\",\"id\":\"p3010\",\"attributes\":{\"x\":{\"type\":\"field\",\"field\":\"x\"},\"y\":{\"type\":\"field\",\"field\":\"y\"},\"size\":{\"type\":\"field\",\"field\":\"size\"},\"line_color\":{\"type\":\"value\",\"value\":\"lightblue\"},\"line_width\":{\"type\":\"value\",\"value\":3},\"fill_color\":{\"type\":\"value\",\"value\":null},\"marker\":{\"type\":\"value\",\"value\":\"square_cross\"}}},\"nonselection_glyph\":{\"type\":\"object\",\"name\":\"Scatter\",\"id\":\"p3011\",\"attributes\":{\"x\":{\"type\":\"field\",\"field\":\"x\"},\"y\":{\"type\":\"field\",\"field\":\"y\"},\"size\":{\"type\":\"field\",\"field\":\"size\"},\"line_color\":{\"type\":\"value\",\"value\":\"lightblue\"},\"line_alpha\":{\"type\":\"value\",\"value\":0.1},\"line_width\":{\"type\":\"value\",\"value\":3},\"fill_color\":{\"type\":\"value\",\"value\":null},\"fill_alpha\":{\"type\":\"value\",\"value\":0.1},\"hatch_alpha\":{\"type\":\"value\",\"value\":0.1},\"marker\":{\"type\":\"value\",\"value\":\"square_cross\"}}},\"muted_glyph\":{\"type\":\"object\",\"name\":\"Scatter\",\"id\":\"p3012\",\"attributes\":{\"x\":{\"type\":\"field\",\"field\":\"x\"},\"y\":{\"type\":\"field\",\"field\":\"y\"},\"size\":{\"type\":\"field\",\"field\":\"size\"},\"line_color\":{\"type\":\"value\",\"value\":\"lightblue\"},\"line_alpha\":{\"type\":\"value\",\"value\":0.2},\"line_width\":{\"type\":\"value\",\"value\":3},\"fill_color\":{\"type\":\"value\",\"value\":null},\"fill_alpha\":{\"type\":\"value\",\"value\":0.2},\"hatch_alpha\":{\"type\":\"value\",\"value\":0.2},\"marker\":{\"type\":\"value\",\"value\":\"square_cross\"}}}}}],\"toolbar\":{\"type\":\"object\",\"name\":\"Toolbar\",\"id\":\"p2900\",\"attributes\":{\"tools\":[{\"type\":\"object\",\"name\":\"PanTool\",\"id\":\"p2915\"},{\"type\":\"object\",\"name\":\"WheelZoomTool\",\"id\":\"p2916\",\"attributes\":{\"renderers\":\"auto\"}},{\"type\":\"object\",\"name\":\"BoxZoomTool\",\"id\":\"p2917\",\"attributes\":{\"overlay\":{\"type\":\"object\",\"name\":\"BoxAnnotation\",\"id\":\"p2918\",\"attributes\":{\"syncable\":false,\"line_color\":\"black\",\"line_alpha\":1.0,\"line_width\":2,\"line_dash\":[4,4],\"fill_color\":\"lightgrey\",\"fill_alpha\":0.5,\"level\":\"overlay\",\"visible\":false,\"left\":{\"type\":\"number\",\"value\":\"nan\"},\"right\":{\"type\":\"number\",\"value\":\"nan\"},\"top\":{\"type\":\"number\",\"value\":\"nan\"},\"bottom\":{\"type\":\"number\",\"value\":\"nan\"},\"left_units\":\"canvas\",\"right_units\":\"canvas\",\"top_units\":\"canvas\",\"bottom_units\":\"canvas\",\"handles\":{\"type\":\"object\",\"name\":\"BoxInteractionHandles\",\"id\":\"p2924\",\"attributes\":{\"all\":{\"type\":\"object\",\"name\":\"AreaVisuals\",\"id\":\"p2923\",\"attributes\":{\"fill_color\":\"white\",\"hover_fill_color\":\"lightgray\"}}}}}}}},{\"type\":\"object\",\"name\":\"SaveTool\",\"id\":\"p2925\"},{\"type\":\"object\",\"name\":\"ResetTool\",\"id\":\"p2926\"},{\"type\":\"object\",\"name\":\"HelpTool\",\"id\":\"p2927\"},{\"type\":\"object\",\"name\":\"HoverTool\",\"id\":\"p2959\",\"attributes\":{\"renderers\":\"auto\",\"tooltips\":[[\"Y-val\",\"@y{0.00}\"]]}}]}},\"left\":[{\"type\":\"object\",\"name\":\"LinearAxis\",\"id\":\"p2910\",\"attributes\":{\"ticker\":{\"type\":\"object\",\"name\":\"BasicTicker\",\"id\":\"p2911\",\"attributes\":{\"mantissas\":[1,2,5]}},\"formatter\":{\"type\":\"object\",\"name\":\"BasicTickFormatter\",\"id\":\"p2912\"},\"axis_label\":\"km/h\",\"axis_label_standoff\":10,\"axis_label_text_color\":\"#E0E0E0\",\"axis_label_text_font\":\"Helvetica\",\"axis_label_text_font_size\":\"1.25em\",\"axis_label_text_font_style\":\"normal\",\"major_label_policy\":{\"type\":\"object\",\"name\":\"AllLabels\",\"id\":\"p2913\"},\"major_label_text_color\":\"#E0E0E0\",\"major_label_text_font\":\"Helvetica\",\"major_label_text_font_size\":\"1.025em\",\"axis_line_color\":\"#E0E0E0\",\"axis_line_alpha\":0,\"major_tick_line_color\":\"#E0E0E0\",\"major_tick_line_alpha\":0,\"minor_tick_line_color\":\"#E0E0E0\",\"minor_tick_line_alpha\":0}},{\"type\":\"object\",\"name\":\"LinearAxis\",\"id\":\"p2930\",\"attributes\":{\"y_range_name\":\"altitudeFt\",\"ticker\":{\"type\":\"object\",\"name\":\"BasicTicker\",\"id\":\"p2931\",\"attributes\":{\"mantissas\":[1,2,5]}},\"formatter\":{\"type\":\"object\",\"name\":\"BasicTickFormatter\",\"id\":\"p2932\"},\"axis_label\":\"Alt (ft)\",\"axis_label_standoff\":10,\"axis_label_text_color\":\"#E0E0E0\",\"axis_label_text_font\":\"Helvetica\",\"axis_label_text_font_size\":\"1.25em\",\"axis_label_text_font_style\":\"normal\",\"major_label_policy\":{\"type\":\"object\",\"name\":\"AllLabels\",\"id\":\"p2933\"},\"major_label_text_color\":\"#E0E0E0\",\"major_label_text_font\":\"Helvetica\",\"major_label_text_font_size\":\"1.025em\",\"axis_line_color\":\"#E0E0E0\",\"axis_line_alpha\":0,\"major_tick_line_color\":\"#E0E0E0\",\"major_tick_line_alpha\":0,\"minor_tick_line_color\":\"#E0E0E0\",\"minor_tick_line_alpha\":0}},{\"type\":\"object\",\"name\":\"LinearAxis\",\"id\":\"p2934\",\"attributes\":{\"y_range_name\":\"angle\",\"ticker\":{\"type\":\"object\",\"name\":\"BasicTicker\",\"id\":\"p2935\",\"attributes\":{\"mantissas\":[1,2,5]}},\"formatter\":{\"type\":\"object\",\"name\":\"BasicTickFormatter\",\"id\":\"p2936\"},\"axis_label\":\"angle\",\"axis_label_standoff\":10,\"axis_label_text_color\":\"#E0E0E0\",\"axis_label_text_font\":\"Helvetica\",\"axis_label_text_font_size\":\"1.25em\",\"axis_label_text_font_style\":\"normal\",\"major_label_policy\":{\"type\":\"object\",\"name\":\"AllLabels\",\"id\":\"p2937\"},\"major_label_text_color\":\"#E0E0E0\",\"major_label_text_font\":\"Helvetica\",\"major_label_text_font_size\":\"1.025em\",\"axis_line_color\":\"#E0E0E0\",\"axis_line_alpha\":0,\"major_tick_line_color\":\"#E0E0E0\",\"major_tick_line_alpha\":0,\"minor_tick_line_color\":\"#E0E0E0\",\"minor_tick_line_alpha\":0}}],\"below\":[{\"type\":\"object\",\"name\":\"LinearAxis\",\"id\":\"p2905\",\"attributes\":{\"ticker\":{\"type\":\"object\",\"name\":\"BasicTicker\",\"id\":\"p2906\",\"attributes\":{\"mantissas\":[1,2,5]}},\"formatter\":{\"type\":\"object\",\"name\":\"BasicTickFormatter\",\"id\":\"p2907\"},\"axis_label\":\"seconds from exit\",\"axis_label_standoff\":10,\"axis_label_text_color\":\"#E0E0E0\",\"axis_label_text_font\":\"Helvetica\",\"axis_label_text_font_size\":\"1.25em\",\"axis_label_text_font_style\":\"normal\",\"major_label_policy\":{\"type\":\"object\",\"name\":\"AllLabels\",\"id\":\"p2908\"},\"major_label_text_color\":\"#E0E0E0\",\"major_label_text_font\":\"Helvetica\",\"major_label_text_font_size\":\"1.025em\",\"axis_line_color\":\"#E0E0E0\",\"axis_line_alpha\":0,\"major_tick_line_color\":\"#E0E0E0\",\"major_tick_line_alpha\":0,\"minor_tick_line_color\":\"#E0E0E0\",\"minor_tick_line_alpha\":0}}],\"center\":[{\"type\":\"object\",\"name\":\"Grid\",\"id\":\"p2909\",\"attributes\":{\"axis\":{\"id\":\"p2905\"},\"grid_line_color\":\"#E0E0E0\",\"grid_line_alpha\":0.25}},{\"type\":\"object\",\"name\":\"Grid\",\"id\":\"p2914\",\"attributes\":{\"dimension\":1,\"axis\":{\"id\":\"p2910\"},\"grid_line_color\":\"#E0E0E0\",\"grid_line_alpha\":0.25}},{\"type\":\"object\",\"name\":\"Legend\",\"id\":\"p2947\",\"attributes\":{\"border_line_alpha\":0,\"background_fill_color\":\"#20262B\",\"background_fill_alpha\":0.25,\"label_text_color\":\"#E0E0E0\",\"label_text_font\":\"Helvetica\",\"label_text_font_size\":\"1.025em\",\"label_standoff\":8,\"glyph_width\":15,\"spacing\":8,\"items\":[{\"type\":\"object\",\"name\":\"LegendItem\",\"id\":\"p2948\",\"attributes\":{\"label\":{\"type\":\"value\",\"value\":\"Alt (ft)\"},\"renderers\":[{\"id\":\"p2944\"}]}},{\"type\":\"object\",\"name\":\"LegendItem\",\"id\":\"p2958\",\"attributes\":{\"label\":{\"type\":\"value\",\"value\":\"angle\"},\"renderers\":[{\"id\":\"p2955\"}]}},{\"type\":\"object\",\"name\":\"LegendItem\",\"id\":\"p2969\",\"attributes\":{\"label\":{\"type\":\"value\",\"value\":\"speed\"},\"renderers\":[{\"id\":\"p2966\"}]}},{\"type\":\"object\",\"name\":\"LegendItem\",\"id\":\"p2979\",\"attributes\":{\"label\":{\"type\":\"value\",\"value\":\"H-speed\"},\"renderers\":[{\"id\":\"p2976\"}]}}]}}],\"background_fill_color\":\"#20262B\",\"border_fill_color\":\"#15191C\"}}]}};\n",
       "  const render_items = [{\"docid\":\"433906b4-fbe2-42d3-a2fe-70afb78cff77\",\"roots\":{\"p2891\":\"b39ee0fc-22df-4962-b10a-b023ef888915\"},\"root_ids\":[\"p2891\"]}];\n",
       "  void root.Bokeh.embed.embed_items_notebook(docs_json, render_items);\n",
       "  }\n",
       "  if (root.Bokeh !== undefined) {\n",
       "    embed_document(root);\n",
       "  } else {\n",
       "    let attempts = 0;\n",
       "    const timer = setInterval(function(root) {\n",
       "      if (root.Bokeh !== undefined) {\n",
       "        clearInterval(timer);\n",
       "        embed_document(root);\n",
       "      } else {\n",
       "        attempts++;\n",
       "        if (attempts > 100) {\n",
       "          clearInterval(timer);\n",
       "          console.log(\"Bokeh: ERROR: Unable to run BokehJS code because BokehJS library is missing\");\n",
       "        }\n",
       "      }\n",
       "    }, 10, root)\n",
       "  }\n",
       "})(window);"
      ],
      "application/vnd.bokehjs_exec.v0+json": ""
     },
     "metadata": {
      "application/vnd.bokehjs_exec.v0+json": {
       "id": "p2891"
      }
     },
     "output_type": "display_data"
    },
    {
     "data": {
      "application/vnd.jupyter.widget-view+json": {
       "model_id": "6ced9c566c114bc9a59bacbc5c0f6689",
       "version_major": 2,
       "version_minor": 0
      },
      "text/plain": [
       "HTML(value='<hr><h1><span style=\"color: #0f0\">data 10-09-20:v1 jump - 🟢 valid - score = 487.86 km/h</span></h1…"
      ]
     },
     "metadata": {},
     "output_type": "display_data"
    },
    {
     "data": {
      "application/vnd.jupyter.widget-view+json": {
       "model_id": "2bb28e728591469cbedfc57ffa3ab72d",
       "version_major": 2,
       "version_minor": 0
      },
      "text/plain": [
       "HTML(value='<h3>Max speed = 487; exit at 4209 m (13809 ft), end scoring window at 1953 m (6408 ft)')"
      ]
     },
     "metadata": {},
     "output_type": "display_data"
    },
    {
     "data": {
      "application/vnd.jupyter.widget-view+json": {
       "model_id": "5093b651c9674c1ebd39eb6d3cfc3972",
       "version_major": 2,
       "version_minor": 0
      },
      "text/plain": [
       "HTML(value='</h3>')"
      ]
     },
     "metadata": {},
     "output_type": "display_data"
    },
    {
     "data": {
      "text/html": [
       "<div>\n",
       "<style scoped>\n",
       "    .dataframe tbody tr th:only-of-type {\n",
       "        vertical-align: middle;\n",
       "    }\n",
       "\n",
       "    .dataframe tbody tr th {\n",
       "        vertical-align: top;\n",
       "    }\n",
       "\n",
       "    .dataframe thead th {\n",
       "        text-align: right;\n",
       "    }\n",
       "</style>\n",
       "<table border=\"1\" class=\"dataframe\">\n",
       "  <thead>\n",
       "    <tr style=\"text-align: right;\">\n",
       "      <th></th>\n",
       "      <th>time</th>\n",
       "      <th>vKMh</th>\n",
       "      <th>hKMh</th>\n",
       "      <th>speedAngle</th>\n",
       "      <th>distanceFromExit (m)</th>\n",
       "      <th>altitude (ft)</th>\n",
       "      <th>netVectorKMh</th>\n",
       "    </tr>\n",
       "  </thead>\n",
       "  <tbody>\n",
       "    <tr>\n",
       "      <th></th>\n",
       "      <td>5.0</td>\n",
       "      <td>185</td>\n",
       "      <td>93</td>\n",
       "      <td>63.37</td>\n",
       "      <td>156.96</td>\n",
       "      <td>13343</td>\n",
       "      <td>207</td>\n",
       "    </tr>\n",
       "    <tr>\n",
       "      <th></th>\n",
       "      <td>10.0</td>\n",
       "      <td>321</td>\n",
       "      <td>74</td>\n",
       "      <td>77.00</td>\n",
       "      <td>276.15</td>\n",
       "      <td>12154</td>\n",
       "      <td>329</td>\n",
       "    </tr>\n",
       "    <tr>\n",
       "      <th></th>\n",
       "      <td>15.0</td>\n",
       "      <td>421</td>\n",
       "      <td>38</td>\n",
       "      <td>84.86</td>\n",
       "      <td>351.18</td>\n",
       "      <td>10455</td>\n",
       "      <td>423</td>\n",
       "    </tr>\n",
       "    <tr>\n",
       "      <th></th>\n",
       "      <td>20.0</td>\n",
       "      <td>476</td>\n",
       "      <td>36</td>\n",
       "      <td>85.68</td>\n",
       "      <td>378.17</td>\n",
       "      <td>8374</td>\n",
       "      <td>477</td>\n",
       "    </tr>\n",
       "    <tr>\n",
       "      <th></th>\n",
       "      <td>25.0</td>\n",
       "      <td>484</td>\n",
       "      <td>45</td>\n",
       "      <td>84.68</td>\n",
       "      <td>375.86</td>\n",
       "      <td>6424</td>\n",
       "      <td>486</td>\n",
       "    </tr>\n",
       "  </tbody>\n",
       "</table>\n",
       "</div>"
      ],
      "text/plain": [
       "  time  vKMh  hKMh  speedAngle  distanceFromExit (m)  altitude (ft)  \\\n",
       "   5.0   185    93       63.37                156.96          13343   \n",
       "  10.0   321    74       77.00                276.15          12154   \n",
       "  15.0   421    38       84.86                351.18          10455   \n",
       "  20.0   476    36       85.68                378.17           8374   \n",
       "  25.0   484    45       84.68                375.86           6424   \n",
       "\n",
       "  netVectorKMh  \n",
       "           207  \n",
       "           329  \n",
       "           423  \n",
       "           477  \n",
       "           486  "
      ]
     },
     "metadata": {},
     "output_type": "display_data"
    },
    {
     "data": {
      "text/html": [
       "\n",
       "  <div id=\"f44e3ada-86f4-4c31-9dbb-937c68351dab\" data-root-id=\"p3034\" style=\"display: contents;\"></div>\n"
      ]
     },
     "metadata": {},
     "output_type": "display_data"
    },
    {
     "data": {
      "application/javascript": [
       "(function(root) {\n",
       "  function embed_document(root) {\n",
       "  const docs_json = {\"18bb99b4-6600-418d-8160-cca01e14a8c5\":{\"version\":\"3.5.2\",\"title\":\"Bokeh Application\",\"roots\":[{\"type\":\"object\",\"name\":\"Figure\",\"id\":\"p3034\",\"attributes\":{\"width\":900,\"height\":500,\"x_range\":{\"type\":\"object\",\"name\":\"Range1d\",\"id\":\"p3044\",\"attributes\":{\"end\":35.0}},\"y_range\":{\"type\":\"object\",\"name\":\"Range1d\",\"id\":\"p3045\",\"attributes\":{\"end\":550.0}},\"x_scale\":{\"type\":\"object\",\"name\":\"LinearScale\",\"id\":\"p3046\"},\"y_scale\":{\"type\":\"object\",\"name\":\"LinearScale\",\"id\":\"p3047\"},\"extra_y_ranges\":{\"type\":\"map\",\"entries\":[[\"altitudeFt\",{\"type\":\"object\",\"name\":\"Range1d\",\"id\":\"p3071\",\"attributes\":{\"start\":5923.8117456,\"end\":14309.597917600002}}],[\"angle\",{\"type\":\"object\",\"name\":\"Range1d\",\"id\":\"p3072\",\"attributes\":{\"end\":90.0}}]]},\"title\":{\"type\":\"object\",\"name\":\"Title\",\"id\":\"p3037\",\"attributes\":{\"text\":\"data 10-09-20:v1\",\"text_color\":\"#E0E0E0\",\"text_font\":\"Helvetica\",\"text_font_size\":\"1.15em\"}},\"outline_line_color\":\"#E0E0E0\",\"outline_line_alpha\":0.25,\"renderers\":[{\"type\":\"object\",\"name\":\"GlyphRenderer\",\"id\":\"p3087\",\"attributes\":{\"y_range_name\":\"altitudeFt\",\"data_source\":{\"type\":\"object\",\"name\":\"ColumnDataSource\",\"id\":\"p3081\",\"attributes\":{\"selected\":{\"type\":\"object\",\"name\":\"Selection\",\"id\":\"p3082\",\"attributes\":{\"indices\":[],\"line_indices\":[]}},\"selection_policy\":{\"type\":\"object\",\"name\":\"UnionRenderers\",\"id\":\"p3083\"},\"data\":{\"type\":\"map\",\"entries\":[[\"x\",{\"type\":\"ndarray\",\"array\":{\"type\":\"bytes\",\"data\":\"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\"},\"shape\":[207],\"dtype\":\"float64\",\"order\":\"little\"}],[\"y\",{\"type\":\"ndarray\",\"array\":{\"type\":\"bytes\",\"data\":\"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\"},\"shape\":[207],\"dtype\":\"float64\",\"order\":\"little\"}]]}}},\"view\":{\"type\":\"object\",\"name\":\"CDSView\",\"id\":\"p3088\",\"attributes\":{\"filter\":{\"type\":\"object\",\"name\":\"AllIndices\",\"id\":\"p3089\"}}},\"glyph\":{\"type\":\"object\",\"name\":\"Line\",\"id\":\"p3084\",\"attributes\":{\"x\":{\"type\":\"field\",\"field\":\"x\"},\"y\":{\"type\":\"field\",\"field\":\"y\"},\"line_color\":\"palegoldenrod\",\"line_width\":2}},\"nonselection_glyph\":{\"type\":\"object\",\"name\":\"Line\",\"id\":\"p3085\",\"attributes\":{\"x\":{\"type\":\"field\",\"field\":\"x\"},\"y\":{\"type\":\"field\",\"field\":\"y\"},\"line_color\":\"palegoldenrod\",\"line_alpha\":0.1,\"line_width\":2}},\"muted_glyph\":{\"type\":\"object\",\"name\":\"Line\",\"id\":\"p3086\",\"attributes\":{\"x\":{\"type\":\"field\",\"field\":\"x\"},\"y\":{\"type\":\"field\",\"field\":\"y\"},\"line_color\":\"palegoldenrod\",\"line_alpha\":0.2,\"line_width\":2}}}},{\"type\":\"object\",\"name\":\"GlyphRenderer\",\"id\":\"p3098\",\"attributes\":{\"y_range_name\":\"angle\",\"data_source\":{\"type\":\"object\",\"name\":\"ColumnDataSource\",\"id\":\"p3092\",\"attributes\":{\"selected\":{\"type\":\"object\",\"name\":\"Selection\",\"id\":\"p3093\",\"attributes\":{\"indices\":[],\"line_indices\":[]}},\"selection_policy\":{\"type\":\"object\",\"name\":\"UnionRenderers\",\"id\":\"p3094\"},\"data\":{\"type\":\"map\",\"entries\":[[\"x\",{\"type\":\"ndarray\",\"array\":{\"type\":\"bytes\",\"data\":\"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\"},\"shape\":[207],\"dtype\":\"float64\",\"order\":\"little\"}],[\"y\",{\"type\":\"ndarray\",\"array\":{\"type\":\"bytes\",\"data\":\"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\"},\"shape\":[207],\"dtype\":\"float64\",\"order\":\"little\"}]]}}},\"view\":{\"type\":\"object\",\"name\":\"CDSView\",\"id\":\"p3099\",\"attributes\":{\"filter\":{\"type\":\"object\",\"name\":\"AllIndices\",\"id\":\"p3100\"}}},\"glyph\":{\"type\":\"object\",\"name\":\"Line\",\"id\":\"p3095\",\"attributes\":{\"x\":{\"type\":\"field\",\"field\":\"x\"},\"y\":{\"type\":\"field\",\"field\":\"y\"},\"line_color\":\"deepskyblue\",\"line_width\":2}},\"nonselection_glyph\":{\"type\":\"object\",\"name\":\"Line\",\"id\":\"p3096\",\"attributes\":{\"x\":{\"type\":\"field\",\"field\":\"x\"},\"y\":{\"type\":\"field\",\"field\":\"y\"},\"line_color\":\"deepskyblue\",\"line_alpha\":0.1,\"line_width\":2}},\"muted_glyph\":{\"type\":\"object\",\"name\":\"Line\",\"id\":\"p3097\",\"attributes\":{\"x\":{\"type\":\"field\",\"field\":\"x\"},\"y\":{\"type\":\"field\",\"field\":\"y\"},\"line_color\":\"deepskyblue\",\"line_alpha\":0.2,\"line_width\":2}}}},{\"type\":\"object\",\"name\":\"GlyphRenderer\",\"id\":\"p3109\",\"attributes\":{\"data_source\":{\"type\":\"object\",\"name\":\"ColumnDataSource\",\"id\":\"p3103\",\"attributes\":{\"selected\":{\"type\":\"object\",\"name\":\"Selection\",\"id\":\"p3104\",\"attributes\":{\"indices\":[],\"line_indices\":[]}},\"selection_policy\":{\"type\":\"object\",\"name\":\"UnionRenderers\",\"id\":\"p3105\"},\"data\":{\"type\":\"map\",\"entries\":[[\"x\",{\"type\":\"ndarray\",\"array\":{\"type\":\"bytes\",\"data\":\"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\"},\"shape\":[207],\"dtype\":\"float64\",\"order\":\"little\"}],[\"y\",{\"type\":\"ndarray\",\"array\":{\"type\":\"bytes\",\"data\":\"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\"},\"shape\":[207],\"dtype\":\"float64\",\"order\":\"little\"}]]}}},\"view\":{\"type\":\"object\",\"name\":\"CDSView\",\"id\":\"p3110\",\"attributes\":{\"filter\":{\"type\":\"object\",\"name\":\"AllIndices\",\"id\":\"p3111\"}}},\"glyph\":{\"type\":\"object\",\"name\":\"Line\",\"id\":\"p3106\",\"attributes\":{\"x\":{\"type\":\"field\",\"field\":\"x\"},\"y\":{\"type\":\"field\",\"field\":\"y\"},\"line_color\":\"limegreen\",\"line_width\":2}},\"nonselection_glyph\":{\"type\":\"object\",\"name\":\"Line\",\"id\":\"p3107\",\"attributes\":{\"x\":{\"type\":\"field\",\"field\":\"x\"},\"y\":{\"type\":\"field\",\"field\":\"y\"},\"line_color\":\"limegreen\",\"line_alpha\":0.1,\"line_width\":2}},\"muted_glyph\":{\"type\":\"object\",\"name\":\"Line\",\"id\":\"p3108\",\"attributes\":{\"x\":{\"type\":\"field\",\"field\":\"x\"},\"y\":{\"type\":\"field\",\"field\":\"y\"},\"line_color\":\"limegreen\",\"line_alpha\":0.2,\"line_width\":2}}}},{\"type\":\"object\",\"name\":\"GlyphRenderer\",\"id\":\"p3119\",\"attributes\":{\"data_source\":{\"type\":\"object\",\"name\":\"ColumnDataSource\",\"id\":\"p3113\",\"attributes\":{\"selected\":{\"type\":\"object\",\"name\":\"Selection\",\"id\":\"p3114\",\"attributes\":{\"indices\":[],\"line_indices\":[]}},\"selection_policy\":{\"type\":\"object\",\"name\":\"UnionRenderers\",\"id\":\"p3115\"},\"data\":{\"type\":\"map\",\"entries\":[[\"x\",{\"type\":\"ndarray\",\"array\":{\"type\":\"bytes\",\"data\":\"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\"},\"shape\":[207],\"dtype\":\"float64\",\"order\":\"little\"}],[\"y\",{\"type\":\"ndarray\",\"array\":{\"type\":\"bytes\",\"data\":\"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\"},\"shape\":[207],\"dtype\":\"float64\",\"order\":\"little\"}]]}}},\"view\":{\"type\":\"object\",\"name\":\"CDSView\",\"id\":\"p3120\",\"attributes\":{\"filter\":{\"type\":\"object\",\"name\":\"AllIndices\",\"id\":\"p3121\"}}},\"glyph\":{\"type\":\"object\",\"name\":\"Line\",\"id\":\"p3116\",\"attributes\":{\"x\":{\"type\":\"field\",\"field\":\"x\"},\"y\":{\"type\":\"field\",\"field\":\"y\"},\"line_color\":\"red\",\"line_width\":2}},\"nonselection_glyph\":{\"type\":\"object\",\"name\":\"Line\",\"id\":\"p3117\",\"attributes\":{\"x\":{\"type\":\"field\",\"field\":\"x\"},\"y\":{\"type\":\"field\",\"field\":\"y\"},\"line_color\":\"red\",\"line_alpha\":0.1,\"line_width\":2}},\"muted_glyph\":{\"type\":\"object\",\"name\":\"Line\",\"id\":\"p3118\",\"attributes\":{\"x\":{\"type\":\"field\",\"field\":\"x\"},\"y\":{\"type\":\"field\",\"field\":\"y\"},\"line_color\":\"red\",\"line_alpha\":0.2,\"line_width\":2}}}},{\"type\":\"object\",\"name\":\"GlyphRenderer\",\"id\":\"p3129\",\"attributes\":{\"data_source\":{\"type\":\"object\",\"name\":\"ColumnDataSource\",\"id\":\"p3123\",\"attributes\":{\"selected\":{\"type\":\"object\",\"name\":\"Selection\",\"id\":\"p3124\",\"attributes\":{\"indices\":[],\"line_indices\":[]}},\"selection_policy\":{\"type\":\"object\",\"name\":\"UnionRenderers\",\"id\":\"p3125\"},\"data\":{\"type\":\"map\",\"entries\":[[\"x0\",[21.3]],[\"y0\",[0.0]],[\"x1\",[21.3]],[\"y1\",[487.86]]]}}},\"view\":{\"type\":\"object\",\"name\":\"CDSView\",\"id\":\"p3130\",\"attributes\":{\"filter\":{\"type\":\"object\",\"name\":\"AllIndices\",\"id\":\"p3131\"}}},\"glyph\":{\"type\":\"object\",\"name\":\"Segment\",\"id\":\"p3126\",\"attributes\":{\"x0\":{\"type\":\"field\",\"field\":\"x0\"},\"y0\":{\"type\":\"field\",\"field\":\"y0\"},\"x1\":{\"type\":\"field\",\"field\":\"x1\"},\"y1\":{\"type\":\"field\",\"field\":\"y1\"},\"line_color\":{\"type\":\"value\",\"value\":\"lightblue\"},\"line_width\":{\"type\":\"value\",\"value\":3}}},\"nonselection_glyph\":{\"type\":\"object\",\"name\":\"Segment\",\"id\":\"p3127\",\"attributes\":{\"x0\":{\"type\":\"field\",\"field\":\"x0\"},\"y0\":{\"type\":\"field\",\"field\":\"y0\"},\"x1\":{\"type\":\"field\",\"field\":\"x1\"},\"y1\":{\"type\":\"field\",\"field\":\"y1\"},\"line_color\":{\"type\":\"value\",\"value\":\"lightblue\"},\"line_alpha\":{\"type\":\"value\",\"value\":0.1},\"line_width\":{\"type\":\"value\",\"value\":3}}},\"muted_glyph\":{\"type\":\"object\",\"name\":\"Segment\",\"id\":\"p3128\",\"attributes\":{\"x0\":{\"type\":\"field\",\"field\":\"x0\"},\"y0\":{\"type\":\"field\",\"field\":\"y0\"},\"x1\":{\"type\":\"field\",\"field\":\"x1\"},\"y1\":{\"type\":\"field\",\"field\":\"y1\"},\"line_color\":{\"type\":\"value\",\"value\":\"lightblue\"},\"line_alpha\":{\"type\":\"value\",\"value\":0.2},\"line_width\":{\"type\":\"value\",\"value\":3}}}}},{\"type\":\"object\",\"name\":\"GlyphRenderer\",\"id\":\"p3138\",\"attributes\":{\"data_source\":{\"type\":\"object\",\"name\":\"ColumnDataSource\",\"id\":\"p3132\",\"attributes\":{\"selected\":{\"type\":\"object\",\"name\":\"Selection\",\"id\":\"p3133\",\"attributes\":{\"indices\":[],\"line_indices\":[]}},\"selection_policy\":{\"type\":\"object\",\"name\":\"UnionRenderers\",\"id\":\"p3134\"},\"data\":{\"type\":\"map\",\"entries\":[[\"x0\",[22.8]],[\"y0\",[0.0]],[\"x1\",[22.8]],[\"y1\",[487.86]]]}}},\"view\":{\"type\":\"object\",\"name\":\"CDSView\",\"id\":\"p3139\",\"attributes\":{\"filter\":{\"type\":\"object\",\"name\":\"AllIndices\",\"id\":\"p3140\"}}},\"glyph\":{\"type\":\"object\",\"name\":\"Segment\",\"id\":\"p3135\",\"attributes\":{\"x0\":{\"type\":\"field\",\"field\":\"x0\"},\"y0\":{\"type\":\"field\",\"field\":\"y0\"},\"x1\":{\"type\":\"field\",\"field\":\"x1\"},\"y1\":{\"type\":\"field\",\"field\":\"y1\"},\"line_color\":{\"type\":\"value\",\"value\":\"darkseagreen\"}}},\"nonselection_glyph\":{\"type\":\"object\",\"name\":\"Segment\",\"id\":\"p3136\",\"attributes\":{\"x0\":{\"type\":\"field\",\"field\":\"x0\"},\"y0\":{\"type\":\"field\",\"field\":\"y0\"},\"x1\":{\"type\":\"field\",\"field\":\"x1\"},\"y1\":{\"type\":\"field\",\"field\":\"y1\"},\"line_color\":{\"type\":\"value\",\"value\":\"darkseagreen\"},\"line_alpha\":{\"type\":\"value\",\"value\":0.1}}},\"muted_glyph\":{\"type\":\"object\",\"name\":\"Segment\",\"id\":\"p3137\",\"attributes\":{\"x0\":{\"type\":\"field\",\"field\":\"x0\"},\"y0\":{\"type\":\"field\",\"field\":\"y0\"},\"x1\":{\"type\":\"field\",\"field\":\"x1\"},\"y1\":{\"type\":\"field\",\"field\":\"y1\"},\"line_color\":{\"type\":\"value\",\"value\":\"darkseagreen\"},\"line_alpha\":{\"type\":\"value\",\"value\":0.2}}}}},{\"type\":\"object\",\"name\":\"GlyphRenderer\",\"id\":\"p3147\",\"attributes\":{\"data_source\":{\"type\":\"object\",\"name\":\"ColumnDataSource\",\"id\":\"p3141\",\"attributes\":{\"selected\":{\"type\":\"object\",\"name\":\"Selection\",\"id\":\"p3142\",\"attributes\":{\"indices\":[],\"line_indices\":[]}},\"selection_policy\":{\"type\":\"object\",\"name\":\"UnionRenderers\",\"id\":\"p3143\"},\"data\":{\"type\":\"map\",\"entries\":[[\"x0\",[19.8]],[\"y0\",[0.0]],[\"x1\",[19.8]],[\"y1\",[487.86]]]}}},\"view\":{\"type\":\"object\",\"name\":\"CDSView\",\"id\":\"p3148\",\"attributes\":{\"filter\":{\"type\":\"object\",\"name\":\"AllIndices\",\"id\":\"p3149\"}}},\"glyph\":{\"type\":\"object\",\"name\":\"Segment\",\"id\":\"p3144\",\"attributes\":{\"x0\":{\"type\":\"field\",\"field\":\"x0\"},\"y0\":{\"type\":\"field\",\"field\":\"y0\"},\"x1\":{\"type\":\"field\",\"field\":\"x1\"},\"y1\":{\"type\":\"field\",\"field\":\"y1\"},\"line_color\":{\"type\":\"value\",\"value\":\"darkseagreen\"}}},\"nonselection_glyph\":{\"type\":\"object\",\"name\":\"Segment\",\"id\":\"p3145\",\"attributes\":{\"x0\":{\"type\":\"field\",\"field\":\"x0\"},\"y0\":{\"type\":\"field\",\"field\":\"y0\"},\"x1\":{\"type\":\"field\",\"field\":\"x1\"},\"y1\":{\"type\":\"field\",\"field\":\"y1\"},\"line_color\":{\"type\":\"value\",\"value\":\"darkseagreen\"},\"line_alpha\":{\"type\":\"value\",\"value\":0.1}}},\"muted_glyph\":{\"type\":\"object\",\"name\":\"Segment\",\"id\":\"p3146\",\"attributes\":{\"x0\":{\"type\":\"field\",\"field\":\"x0\"},\"y0\":{\"type\":\"field\",\"field\":\"y0\"},\"x1\":{\"type\":\"field\",\"field\":\"x1\"},\"y1\":{\"type\":\"field\",\"field\":\"y1\"},\"line_color\":{\"type\":\"value\",\"value\":\"darkseagreen\"},\"line_alpha\":{\"type\":\"value\",\"value\":0.2}}}}},{\"type\":\"object\",\"name\":\"GlyphRenderer\",\"id\":\"p3156\",\"attributes\":{\"data_source\":{\"type\":\"object\",\"name\":\"ColumnDataSource\",\"id\":\"p3150\",\"attributes\":{\"selected\":{\"type\":\"object\",\"name\":\"Selection\",\"id\":\"p3151\",\"attributes\":{\"indices\":[],\"line_indices\":[]}},\"selection_policy\":{\"type\":\"object\",\"name\":\"UnionRenderers\",\"id\":\"p3152\"},\"data\":{\"type\":\"map\",\"entries\":[[\"x\",[21.3]],[\"y\",[487.86]],[\"size\",[20]]]}}},\"view\":{\"type\":\"object\",\"name\":\"CDSView\",\"id\":\"p3157\",\"attributes\":{\"filter\":{\"type\":\"object\",\"name\":\"AllIndices\",\"id\":\"p3158\"}}},\"glyph\":{\"type\":\"object\",\"name\":\"Scatter\",\"id\":\"p3153\",\"attributes\":{\"x\":{\"type\":\"field\",\"field\":\"x\"},\"y\":{\"type\":\"field\",\"field\":\"y\"},\"size\":{\"type\":\"field\",\"field\":\"size\"},\"line_color\":{\"type\":\"value\",\"value\":\"lightblue\"},\"line_width\":{\"type\":\"value\",\"value\":3},\"fill_color\":{\"type\":\"value\",\"value\":null},\"marker\":{\"type\":\"value\",\"value\":\"square_cross\"}}},\"nonselection_glyph\":{\"type\":\"object\",\"name\":\"Scatter\",\"id\":\"p3154\",\"attributes\":{\"x\":{\"type\":\"field\",\"field\":\"x\"},\"y\":{\"type\":\"field\",\"field\":\"y\"},\"size\":{\"type\":\"field\",\"field\":\"size\"},\"line_color\":{\"type\":\"value\",\"value\":\"lightblue\"},\"line_alpha\":{\"type\":\"value\",\"value\":0.1},\"line_width\":{\"type\":\"value\",\"value\":3},\"fill_color\":{\"type\":\"value\",\"value\":null},\"fill_alpha\":{\"type\":\"value\",\"value\":0.1},\"hatch_alpha\":{\"type\":\"value\",\"value\":0.1},\"marker\":{\"type\":\"value\",\"value\":\"square_cross\"}}},\"muted_glyph\":{\"type\":\"object\",\"name\":\"Scatter\",\"id\":\"p3155\",\"attributes\":{\"x\":{\"type\":\"field\",\"field\":\"x\"},\"y\":{\"type\":\"field\",\"field\":\"y\"},\"size\":{\"type\":\"field\",\"field\":\"size\"},\"line_color\":{\"type\":\"value\",\"value\":\"lightblue\"},\"line_alpha\":{\"type\":\"value\",\"value\":0.2},\"line_width\":{\"type\":\"value\",\"value\":3},\"fill_color\":{\"type\":\"value\",\"value\":null},\"fill_alpha\":{\"type\":\"value\",\"value\":0.2},\"hatch_alpha\":{\"type\":\"value\",\"value\":0.2},\"marker\":{\"type\":\"value\",\"value\":\"square_cross\"}}}}}],\"toolbar\":{\"type\":\"object\",\"name\":\"Toolbar\",\"id\":\"p3043\",\"attributes\":{\"tools\":[{\"type\":\"object\",\"name\":\"PanTool\",\"id\":\"p3058\"},{\"type\":\"object\",\"name\":\"WheelZoomTool\",\"id\":\"p3059\",\"attributes\":{\"renderers\":\"auto\"}},{\"type\":\"object\",\"name\":\"BoxZoomTool\",\"id\":\"p3060\",\"attributes\":{\"overlay\":{\"type\":\"object\",\"name\":\"BoxAnnotation\",\"id\":\"p3061\",\"attributes\":{\"syncable\":false,\"line_color\":\"black\",\"line_alpha\":1.0,\"line_width\":2,\"line_dash\":[4,4],\"fill_color\":\"lightgrey\",\"fill_alpha\":0.5,\"level\":\"overlay\",\"visible\":false,\"left\":{\"type\":\"number\",\"value\":\"nan\"},\"right\":{\"type\":\"number\",\"value\":\"nan\"},\"top\":{\"type\":\"number\",\"value\":\"nan\"},\"bottom\":{\"type\":\"number\",\"value\":\"nan\"},\"left_units\":\"canvas\",\"right_units\":\"canvas\",\"top_units\":\"canvas\",\"bottom_units\":\"canvas\",\"handles\":{\"type\":\"object\",\"name\":\"BoxInteractionHandles\",\"id\":\"p3067\",\"attributes\":{\"all\":{\"type\":\"object\",\"name\":\"AreaVisuals\",\"id\":\"p3066\",\"attributes\":{\"fill_color\":\"white\",\"hover_fill_color\":\"lightgray\"}}}}}}}},{\"type\":\"object\",\"name\":\"SaveTool\",\"id\":\"p3068\"},{\"type\":\"object\",\"name\":\"ResetTool\",\"id\":\"p3069\"},{\"type\":\"object\",\"name\":\"HelpTool\",\"id\":\"p3070\"},{\"type\":\"object\",\"name\":\"HoverTool\",\"id\":\"p3102\",\"attributes\":{\"renderers\":\"auto\",\"tooltips\":[[\"Y-val\",\"@y{0.00}\"]]}}]}},\"left\":[{\"type\":\"object\",\"name\":\"LinearAxis\",\"id\":\"p3053\",\"attributes\":{\"ticker\":{\"type\":\"object\",\"name\":\"BasicTicker\",\"id\":\"p3054\",\"attributes\":{\"mantissas\":[1,2,5]}},\"formatter\":{\"type\":\"object\",\"name\":\"BasicTickFormatter\",\"id\":\"p3055\"},\"axis_label\":\"km/h\",\"axis_label_standoff\":10,\"axis_label_text_color\":\"#E0E0E0\",\"axis_label_text_font\":\"Helvetica\",\"axis_label_text_font_size\":\"1.25em\",\"axis_label_text_font_style\":\"normal\",\"major_label_policy\":{\"type\":\"object\",\"name\":\"AllLabels\",\"id\":\"p3056\"},\"major_label_text_color\":\"#E0E0E0\",\"major_label_text_font\":\"Helvetica\",\"major_label_text_font_size\":\"1.025em\",\"axis_line_color\":\"#E0E0E0\",\"axis_line_alpha\":0,\"major_tick_line_color\":\"#E0E0E0\",\"major_tick_line_alpha\":0,\"minor_tick_line_color\":\"#E0E0E0\",\"minor_tick_line_alpha\":0}},{\"type\":\"object\",\"name\":\"LinearAxis\",\"id\":\"p3073\",\"attributes\":{\"y_range_name\":\"altitudeFt\",\"ticker\":{\"type\":\"object\",\"name\":\"BasicTicker\",\"id\":\"p3074\",\"attributes\":{\"mantissas\":[1,2,5]}},\"formatter\":{\"type\":\"object\",\"name\":\"BasicTickFormatter\",\"id\":\"p3075\"},\"axis_label\":\"Alt (ft)\",\"axis_label_standoff\":10,\"axis_label_text_color\":\"#E0E0E0\",\"axis_label_text_font\":\"Helvetica\",\"axis_label_text_font_size\":\"1.25em\",\"axis_label_text_font_style\":\"normal\",\"major_label_policy\":{\"type\":\"object\",\"name\":\"AllLabels\",\"id\":\"p3076\"},\"major_label_text_color\":\"#E0E0E0\",\"major_label_text_font\":\"Helvetica\",\"major_label_text_font_size\":\"1.025em\",\"axis_line_color\":\"#E0E0E0\",\"axis_line_alpha\":0,\"major_tick_line_color\":\"#E0E0E0\",\"major_tick_line_alpha\":0,\"minor_tick_line_color\":\"#E0E0E0\",\"minor_tick_line_alpha\":0}},{\"type\":\"object\",\"name\":\"LinearAxis\",\"id\":\"p3077\",\"attributes\":{\"y_range_name\":\"angle\",\"ticker\":{\"type\":\"object\",\"name\":\"BasicTicker\",\"id\":\"p3078\",\"attributes\":{\"mantissas\":[1,2,5]}},\"formatter\":{\"type\":\"object\",\"name\":\"BasicTickFormatter\",\"id\":\"p3079\"},\"axis_label\":\"angle\",\"axis_label_standoff\":10,\"axis_label_text_color\":\"#E0E0E0\",\"axis_label_text_font\":\"Helvetica\",\"axis_label_text_font_size\":\"1.25em\",\"axis_label_text_font_style\":\"normal\",\"major_label_policy\":{\"type\":\"object\",\"name\":\"AllLabels\",\"id\":\"p3080\"},\"major_label_text_color\":\"#E0E0E0\",\"major_label_text_font\":\"Helvetica\",\"major_label_text_font_size\":\"1.025em\",\"axis_line_color\":\"#E0E0E0\",\"axis_line_alpha\":0,\"major_tick_line_color\":\"#E0E0E0\",\"major_tick_line_alpha\":0,\"minor_tick_line_color\":\"#E0E0E0\",\"minor_tick_line_alpha\":0}}],\"below\":[{\"type\":\"object\",\"name\":\"LinearAxis\",\"id\":\"p3048\",\"attributes\":{\"ticker\":{\"type\":\"object\",\"name\":\"BasicTicker\",\"id\":\"p3049\",\"attributes\":{\"mantissas\":[1,2,5]}},\"formatter\":{\"type\":\"object\",\"name\":\"BasicTickFormatter\",\"id\":\"p3050\"},\"axis_label\":\"seconds from exit\",\"axis_label_standoff\":10,\"axis_label_text_color\":\"#E0E0E0\",\"axis_label_text_font\":\"Helvetica\",\"axis_label_text_font_size\":\"1.25em\",\"axis_label_text_font_style\":\"normal\",\"major_label_policy\":{\"type\":\"object\",\"name\":\"AllLabels\",\"id\":\"p3051\"},\"major_label_text_color\":\"#E0E0E0\",\"major_label_text_font\":\"Helvetica\",\"major_label_text_font_size\":\"1.025em\",\"axis_line_color\":\"#E0E0E0\",\"axis_line_alpha\":0,\"major_tick_line_color\":\"#E0E0E0\",\"major_tick_line_alpha\":0,\"minor_tick_line_color\":\"#E0E0E0\",\"minor_tick_line_alpha\":0}}],\"center\":[{\"type\":\"object\",\"name\":\"Grid\",\"id\":\"p3052\",\"attributes\":{\"axis\":{\"id\":\"p3048\"},\"grid_line_color\":\"#E0E0E0\",\"grid_line_alpha\":0.25}},{\"type\":\"object\",\"name\":\"Grid\",\"id\":\"p3057\",\"attributes\":{\"dimension\":1,\"axis\":{\"id\":\"p3053\"},\"grid_line_color\":\"#E0E0E0\",\"grid_line_alpha\":0.25}},{\"type\":\"object\",\"name\":\"Legend\",\"id\":\"p3090\",\"attributes\":{\"border_line_alpha\":0,\"background_fill_color\":\"#20262B\",\"background_fill_alpha\":0.25,\"label_text_color\":\"#E0E0E0\",\"label_text_font\":\"Helvetica\",\"label_text_font_size\":\"1.025em\",\"label_standoff\":8,\"glyph_width\":15,\"spacing\":8,\"items\":[{\"type\":\"object\",\"name\":\"LegendItem\",\"id\":\"p3091\",\"attributes\":{\"label\":{\"type\":\"value\",\"value\":\"Alt (ft)\"},\"renderers\":[{\"id\":\"p3087\"}]}},{\"type\":\"object\",\"name\":\"LegendItem\",\"id\":\"p3101\",\"attributes\":{\"label\":{\"type\":\"value\",\"value\":\"angle\"},\"renderers\":[{\"id\":\"p3098\"}]}},{\"type\":\"object\",\"name\":\"LegendItem\",\"id\":\"p3112\",\"attributes\":{\"label\":{\"type\":\"value\",\"value\":\"speed\"},\"renderers\":[{\"id\":\"p3109\"}]}},{\"type\":\"object\",\"name\":\"LegendItem\",\"id\":\"p3122\",\"attributes\":{\"label\":{\"type\":\"value\",\"value\":\"H-speed\"},\"renderers\":[{\"id\":\"p3119\"}]}}]}}],\"background_fill_color\":\"#20262B\",\"border_fill_color\":\"#15191C\"}}]}};\n",
       "  const render_items = [{\"docid\":\"18bb99b4-6600-418d-8160-cca01e14a8c5\",\"roots\":{\"p3034\":\"f44e3ada-86f4-4c31-9dbb-937c68351dab\"},\"root_ids\":[\"p3034\"]}];\n",
       "  void root.Bokeh.embed.embed_items_notebook(docs_json, render_items);\n",
       "  }\n",
       "  if (root.Bokeh !== undefined) {\n",
       "    embed_document(root);\n",
       "  } else {\n",
       "    let attempts = 0;\n",
       "    const timer = setInterval(function(root) {\n",
       "      if (root.Bokeh !== undefined) {\n",
       "        clearInterval(timer);\n",
       "        embed_document(root);\n",
       "      } else {\n",
       "        attempts++;\n",
       "        if (attempts > 100) {\n",
       "          clearInterval(timer);\n",
       "          console.log(\"Bokeh: ERROR: Unable to run BokehJS code because BokehJS library is missing\");\n",
       "        }\n",
       "      }\n",
       "    }, 10, root)\n",
       "  }\n",
       "})(window);"
      ],
      "application/vnd.bokehjs_exec.v0+json": ""
     },
     "metadata": {
      "application/vnd.bokehjs_exec.v0+json": {
       "id": "p3034"
      }
     },
     "output_type": "display_data"
    },
    {
     "data": {
      "application/vnd.jupyter.widget-view+json": {
       "model_id": "082b2eb9e5774cc98dcd0bcb7398b52e",
       "version_major": 2,
       "version_minor": 0
      },
      "text/plain": [
       "HTML(value='<hr><h1><span style=\"color: #0f0\">data 11-00-34:v1 jump - 🟢 valid - score = 476.31 km/h</span></h1…"
      ]
     },
     "metadata": {},
     "output_type": "display_data"
    },
    {
     "data": {
      "application/vnd.jupyter.widget-view+json": {
       "model_id": "e95f462f3cf14c9fa72a15cdd7a3d7ba",
       "version_major": 2,
       "version_minor": 0
      },
      "text/plain": [
       "HTML(value='<h3>Max speed = 481; exit at 4211 m (13818 ft), end scoring window at 1955 m (6416 ft)')"
      ]
     },
     "metadata": {},
     "output_type": "display_data"
    },
    {
     "data": {
      "application/vnd.jupyter.widget-view+json": {
       "model_id": "c20977ffc2cf4daeb3c657df01e70b8c",
       "version_major": 2,
       "version_minor": 0
      },
      "text/plain": [
       "HTML(value='</h3>')"
      ]
     },
     "metadata": {},
     "output_type": "display_data"
    },
    {
     "data": {
      "text/html": [
       "<div>\n",
       "<style scoped>\n",
       "    .dataframe tbody tr th:only-of-type {\n",
       "        vertical-align: middle;\n",
       "    }\n",
       "\n",
       "    .dataframe tbody tr th {\n",
       "        vertical-align: top;\n",
       "    }\n",
       "\n",
       "    .dataframe thead th {\n",
       "        text-align: right;\n",
       "    }\n",
       "</style>\n",
       "<table border=\"1\" class=\"dataframe\">\n",
       "  <thead>\n",
       "    <tr style=\"text-align: right;\">\n",
       "      <th></th>\n",
       "      <th>time</th>\n",
       "      <th>vKMh</th>\n",
       "      <th>hKMh</th>\n",
       "      <th>speedAngle</th>\n",
       "      <th>distanceFromExit (m)</th>\n",
       "      <th>altitude (ft)</th>\n",
       "      <th>netVectorKMh</th>\n",
       "    </tr>\n",
       "  </thead>\n",
       "  <tbody>\n",
       "    <tr>\n",
       "      <th></th>\n",
       "      <td>5.0</td>\n",
       "      <td>185</td>\n",
       "      <td>106</td>\n",
       "      <td>60.21</td>\n",
       "      <td>184.55</td>\n",
       "      <td>13369</td>\n",
       "      <td>213</td>\n",
       "    </tr>\n",
       "    <tr>\n",
       "      <th></th>\n",
       "      <td>10.0</td>\n",
       "      <td>333</td>\n",
       "      <td>69</td>\n",
       "      <td>78.36</td>\n",
       "      <td>305.88</td>\n",
       "      <td>12137</td>\n",
       "      <td>340</td>\n",
       "    </tr>\n",
       "    <tr>\n",
       "      <th></th>\n",
       "      <td>15.0</td>\n",
       "      <td>430</td>\n",
       "      <td>42</td>\n",
       "      <td>84.37</td>\n",
       "      <td>371.05</td>\n",
       "      <td>10406</td>\n",
       "      <td>432</td>\n",
       "    </tr>\n",
       "    <tr>\n",
       "      <th></th>\n",
       "      <td>20.0</td>\n",
       "      <td>481</td>\n",
       "      <td>37</td>\n",
       "      <td>85.64</td>\n",
       "      <td>385.35</td>\n",
       "      <td>8353</td>\n",
       "      <td>483</td>\n",
       "    </tr>\n",
       "    <tr>\n",
       "      <th></th>\n",
       "      <td>25.0</td>\n",
       "      <td>315</td>\n",
       "      <td>41</td>\n",
       "      <td>82.62</td>\n",
       "      <td>374.17</td>\n",
       "      <td>6456</td>\n",
       "      <td>318</td>\n",
       "    </tr>\n",
       "  </tbody>\n",
       "</table>\n",
       "</div>"
      ],
      "text/plain": [
       "  time  vKMh  hKMh  speedAngle  distanceFromExit (m)  altitude (ft)  \\\n",
       "   5.0   185   106       60.21                184.55          13369   \n",
       "  10.0   333    69       78.36                305.88          12137   \n",
       "  15.0   430    42       84.37                371.05          10406   \n",
       "  20.0   481    37       85.64                385.35           8353   \n",
       "  25.0   315    41       82.62                374.17           6456   \n",
       "\n",
       "  netVectorKMh  \n",
       "           213  \n",
       "           340  \n",
       "           432  \n",
       "           483  \n",
       "           318  "
      ]
     },
     "metadata": {},
     "output_type": "display_data"
    },
    {
     "data": {
      "text/html": [
       "\n",
       "  <div id=\"a7206176-2952-4727-9d32-d80e4641c167\" data-root-id=\"p3177\" style=\"display: contents;\"></div>\n"
      ]
     },
     "metadata": {},
     "output_type": "display_data"
    },
    {
     "data": {
      "application/javascript": [
       "(function(root) {\n",
       "  function embed_document(root) {\n",
       "  const docs_json = {\"91748e74-c24d-4e6b-9cea-0ab8e1ceef07\":{\"version\":\"3.5.2\",\"title\":\"Bokeh Application\",\"roots\":[{\"type\":\"object\",\"name\":\"Figure\",\"id\":\"p3177\",\"attributes\":{\"width\":900,\"height\":500,\"x_range\":{\"type\":\"object\",\"name\":\"Range1d\",\"id\":\"p3187\",\"attributes\":{\"end\":35.0}},\"y_range\":{\"type\":\"object\",\"name\":\"Range1d\",\"id\":\"p3188\",\"attributes\":{\"end\":550.0}},\"x_scale\":{\"type\":\"object\",\"name\":\"LinearScale\",\"id\":\"p3189\"},\"y_scale\":{\"type\":\"object\",\"name\":\"LinearScale\",\"id\":\"p3190\"},\"extra_y_ranges\":{\"type\":\"map\",\"entries\":[[\"altitudeFt\",{\"type\":\"object\",\"name\":\"Range1d\",\"id\":\"p3214\",\"attributes\":{\"start\":5955.6519096,\"end\":14318.652925600001}}],[\"angle\",{\"type\":\"object\",\"name\":\"Range1d\",\"id\":\"p3215\",\"attributes\":{\"end\":90.0}}]]},\"title\":{\"type\":\"object\",\"name\":\"Title\",\"id\":\"p3180\",\"attributes\":{\"text\":\"data 11-00-34:v1\",\"text_color\":\"#E0E0E0\",\"text_font\":\"Helvetica\",\"text_font_size\":\"1.15em\"}},\"outline_line_color\":\"#E0E0E0\",\"outline_line_alpha\":0.25,\"renderers\":[{\"type\":\"object\",\"name\":\"GlyphRenderer\",\"id\":\"p3230\",\"attributes\":{\"y_range_name\":\"altitudeFt\",\"data_source\":{\"type\":\"object\",\"name\":\"ColumnDataSource\",\"id\":\"p3224\",\"attributes\":{\"selected\":{\"type\":\"object\",\"name\":\"Selection\",\"id\":\"p3225\",\"attributes\":{\"indices\":[],\"line_indices\":[]}},\"selection_policy\":{\"type\":\"object\",\"name\":\"UnionRenderers\",\"id\":\"p3226\"},\"data\":{\"type\":\"map\",\"entries\":[[\"x\",{\"type\":\"ndarray\",\"array\":{\"type\":\"bytes\",\"data\":\"AAAAAAAAAACamZmZmZm5P5qZmZmZmck/MzMzMzMz0z+amZmZmZnZPwAAAAAAAOA/MzMzMzMz4z9mZmZmZmbmP5qZmZmZmek/zczMzMzM7D8AAAAAAADwP5qZmZmZmfE/MzMzMzMz8z/NzMzMzMz0P2ZmZmZmZvY/AAAAAAAA+D+amZmZmZn5PzMzMzMzM/s/zczMzMzM/D9mZmZmZmb+PwAAAAAAAABAzczMzMzMAECamZmZmZkBQGZmZmZmZgJAMzMzMzMzA0AAAAAAAAAEQM3MzMzMzARAmpmZmZmZBUBmZmZmZmYGQDMzMzMzMwdAAAAAAAAACEDNzMzMzMwIQJqZmZmZmQlAZmZmZmZmCkAzMzMzMzMLQAAAAAAAAAxAzczMzMzMDECamZmZmZkNQGZmZmZmZg5AMzMzMzMzD0BmZmZmZmYQQM3MzMzMzBBAMzMzMzMzEUCamZmZmZkRQGZmZmZmZhJAzczMzMzMEkAzMzMzMzMTQJqZmZmZmRNAZmZmZmZmFEDNzMzMzMwUQJqZmZmZmRVAAAAAAAAAFkBmZmZmZmYWQM3MzMzMzBZAMzMzMzMzF0AAAAAAAAAYQGZmZmZmZhhAzczMzMzMGEAzMzMzMzMZQAAAAAAAABpAZmZmZmZmGkDNzMzMzMwaQDMzMzMzMxtAmpmZmZmZG0BmZmZmZmYcQDMzMzMzMx1AmpmZmZmZHUAAAAAAAAAeQGZmZmZmZh5AzczMzMzMHkAzMzMzMzMfQJqZmZmZmR9AZmZmZmZmIECamZmZmZkgQM3MzMzMzCBAAAAAAAAAIUAzMzMzMzMhQGZmZmZmZiFAmpmZmZmZIUDNzMzMzMwhQDMzMzMzMyJAmpmZmZmZIkDNzMzMzMwiQAAAAAAAACNAMzMzMzMzI0BmZmZmZmYjQJqZmZmZmSNAzczMzMzMI0BmZmZmZmYkQJqZmZmZmSRAzczMzMzMJEAAAAAAAAAlQDMzMzMzMyVAZmZmZmZmJUAAAAAAAAAmQDMzMzMzMyZAmpmZmZmZJkDNzMzMzMwmQAAAAAAAACdAMzMzMzMzJ0BmZmZmZmYnQJqZmZmZmSdAzczMzMzMJ0AzMzMzMzMoQGZmZmZmZihAmpmZmZmZKEDNzMzMzMwoQAAAAAAAAClAMzMzMzMzKUCamZmZmZkpQM3MzMzMzClAZmZmZmZmKkCamZmZmZkqQAAAAAAAACtAMzMzMzMzK0BmZmZmZmYrQJqZmZmZmStAzczMzMzMK0AzMzMzMzMsQJqZmZmZmSxAzczMzMzMLEAAAAAAAAAtQDMzMzMzMy1AZmZmZmZmLUCamZmZmZktQM3MzMzMzC1AMzMzMzMzLkBmZmZmZmYuQM3MzMzMzC5AAAAAAAAAL0BmZmZmZmYvQJqZmZmZmS9AzczMzMzML0AAAAAAAAAwQJqZmZmZGTBAzczMzMxMMEBmZmZmZmYwQAAAAAAAgDBAmpmZmZmZMEDNzMzMzMwwQGZmZmZm5jBAAAAAAAAAMUCamZmZmRkxQDMzMzMzMzFAZmZmZmZmMUAAAAAAAIAxQJqZmZmZmTFAMzMzMzOzMUDNzMzMzMwxQGZmZmZm5jFAmpmZmZkZMkAzMzMzMzMyQM3MzMzMTDJAAAAAAACAMkCamZmZmZkyQDMzMzMzszJAzczMzMzMMkBmZmZmZuYyQJqZmZmZGTNAzczMzMxMM0BmZmZmZmYzQAAAAAAAgDNAmpmZmZmZM0AzMzMzM7MzQGZmZmZm5jNAAAAAAAAANECamZmZmRk0QDMzMzMzMzRAzczMzMxMNEAAAAAAAIA0QJqZmZmZmTRAMzMzMzOzNEDNzMzMzMw0QGZmZmZm5jRAmpmZmZkZNUDNzMzMzEw1QGZmZmZmZjVAAAAAAACANUCamZmZmZk1QDMzMzMzszVAZmZmZmbmNUCamZmZmRk2QDMzMzMzMzZAZmZmZmZmNkAAAAAAAIA2QJqZmZmZmTZAMzMzMzOzNkDNzMzMzMw2QGZmZmZm5jZAmpmZmZkZN0DNzMzMzEw3QGZmZmZmZjdAAAAAAACAN0CamZmZmZk3QDMzMzMzszdAzczMzMzMN0CamZmZmRk4QDMzMzMzMzhAzczMzMxMOEBmZmZmZmY4QAAAAAAAgDhAmpmZmZmZOEAzMzMzM7M4QM3MzMzMzDhAZmZmZmbmOEA=\"},\"shape\":[205],\"dtype\":\"float64\",\"order\":\"little\"}],[\"y\",{\"type\":\"ndarray\",\"array\":{\"type\":\"bytes\",\"data\":\"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\"},\"shape\":[205],\"dtype\":\"float64\",\"order\":\"little\"}]]}}},\"view\":{\"type\":\"object\",\"name\":\"CDSView\",\"id\":\"p3231\",\"attributes\":{\"filter\":{\"type\":\"object\",\"name\":\"AllIndices\",\"id\":\"p3232\"}}},\"glyph\":{\"type\":\"object\",\"name\":\"Line\",\"id\":\"p3227\",\"attributes\":{\"x\":{\"type\":\"field\",\"field\":\"x\"},\"y\":{\"type\":\"field\",\"field\":\"y\"},\"line_color\":\"palegoldenrod\",\"line_width\":2}},\"nonselection_glyph\":{\"type\":\"object\",\"name\":\"Line\",\"id\":\"p3228\",\"attributes\":{\"x\":{\"type\":\"field\",\"field\":\"x\"},\"y\":{\"type\":\"field\",\"field\":\"y\"},\"line_color\":\"palegoldenrod\",\"line_alpha\":0.1,\"line_width\":2}},\"muted_glyph\":{\"type\":\"object\",\"name\":\"Line\",\"id\":\"p3229\",\"attributes\":{\"x\":{\"type\":\"field\",\"field\":\"x\"},\"y\":{\"type\":\"field\",\"field\":\"y\"},\"line_color\":\"palegoldenrod\",\"line_alpha\":0.2,\"line_width\":2}}}},{\"type\":\"object\",\"name\":\"GlyphRenderer\",\"id\":\"p3241\",\"attributes\":{\"y_range_name\":\"angle\",\"data_source\":{\"type\":\"object\",\"name\":\"ColumnDataSource\",\"id\":\"p3235\",\"attributes\":{\"selected\":{\"type\":\"object\",\"name\":\"Selection\",\"id\":\"p3236\",\"attributes\":{\"indices\":[],\"line_indices\":[]}},\"selection_policy\":{\"type\":\"object\",\"name\":\"UnionRenderers\",\"id\":\"p3237\"},\"data\":{\"type\":\"map\",\"entries\":[[\"x\",{\"type\":\"ndarray\",\"array\":{\"type\":\"bytes\",\"data\":\"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\"},\"shape\":[205],\"dtype\":\"float64\",\"order\":\"little\"}],[\"y\",{\"type\":\"ndarray\",\"array\":{\"type\":\"bytes\",\"data\":\"MzMzMzMzAUDsUbgehesHQFyPwvUoXBBA7FG4HoXrE0B7FK5H4XoZQJqZmZmZmR9AZmZmZmbmIUB7FK5H4fojQIXrUbgeBSZA9ihcj8L1KECF61G4HoUsQGZmZmZm5i9AhetRuB6FMUBI4XoUrkcyQJqZmZmZmTNAexSuR+F6NUAzMzMzM/M2QAAAAAAAgDhAzczMzMzMOUApXI/C9eg6QKRwPQrXYzxAFK5H4XqUPUAzMzMzMzM/QDMzMzMzU0BAPQrXo3D9QEAfhetRuJ5BQM3MzMzMTEJArkfhehTuQkBxPQrXo5BDQDMzMzMzU0RAexSuR+H6RECamZmZmZlFQK5H4XoULkZAuB6F61G4RkBxPQrXo1BHQNejcD0K10dAFK5H4XpUSEAK16NwPcpIQIXrUbgeRUlArkfhehSuSUB7FK5H4XpKQIXrUbge5UpAH4XrUbheS0C4HoXrUbhLQI/C9Shcb0xAMzMzMzPTTECPwvUoXC9NQJqZmZmZeU1AexSuR+EaTkC4HoXrUVhOQK5H4XoU7k5AMzMzMzMzT0CuR+F6FG5PQKRwPQrXo09A7FG4HoXrT0AAAAAAADBQQI/C9ShcT1BAKVyPwvVoUEDsUbgehYtQQClcj8L1yFBAcT0K16PgUEC4HoXrUQhRQOxRuB6FG1FAexSuR+E6UUAAAAAAAHBRQPYoXI/CpVFACtejcD26UUCkcD0K19NRQLgehetR6FFArkfhehT+UUDsUbgehRtSQArXo3A9KlJAuB6F61FoUkDhehSuR4FSQEjhehSul1JACtejcD2qUkDsUbgehbtSQD0K16NwzVJAAAAAAADgUkBcj8L1KOxSQJqZmZmZCVNAexSuR+EqU0ApXI/C9ThTQHE9CtejQFNAMzMzMzNTU0BxPQrXo2BTQDMzMzMzY1NAhetRuB51U0DXo3A9CpdTQIXrUbgepVNAexSuR+GqU0BI4XoUrrdTQEjhehSux1NApHA9CtfTU0AzMzMzM/NTQHE9CtejAFRA16NwPQoXVEDhehSuRyFUQB+F61G4LlRASOF6FK43VEAfhetRuD5UQClcj8L1SFRA4XoUrkdRVECPwvUoXF9UQClcj8L1aFRAAAAAAABwVEB7FK5H4XpUQOF6FK5HgVRAH4XrUbiOVEDD9Shcj6JUQM3MzMzMrFRAzczMzMzMVEAUrkfhetRUQM3MzMzM3FRAZmZmZmbmVEAfhetRuO5UQGZmZmZm9lRAZmZmZmb2VEDD9ShcjwJVQKRwPQrXA1VAhetRuB4FVUCkcD0K1wNVQIXrUbgeBVVAw/UoXI8CVUBmZmZmZgZVQEjhehSuB1VASOF6FK4XVUDNzMzMzBxVQIXrUbgeNVVAPQrXo3A9VUC4HoXrUUhVQAAAAAAAUFVAhetRuB5VVUDXo3A9CldVQClcj8L1WFVAexSuR+FaVUDXo3A9CldVQFyPwvUoXFVAexSuR+FaVUBSuB6F62FVQDMzMzMzY1VA16NwPQpnVUApXI/C9WhVQLgehetRaFVAj8L1KFxvVUDNzMzMzGxVQOxRuB6Fa1VAUrgehetxVUDD9Shcj3JVQOF6FK5HcVVAcT0K16NwVUDhehSuR3FVQI/C9Shcb1VAuB6F61FoVUBmZmZmZmZVQNejcD0KZ1VA16NwPQpnVUBmZmZmZmZVQPYoXI/CZVVA4XoUrkdhVUDsUbgehVtVQHsUrkfhWlVAKVyPwvVYVUAK16NwPVpVQGZmZmZmZlVAKVyPwvVoVUDhehSuR3FVQMP1KFyPclVArkfhehRuVUBI4XoUrldVQFyPwvUoTFVAXI/C9Sg8VUDhehSuRzFVQK5H4XoUDlVA9ihcj8LlVEB7FK5H4epUQAAAAAAA8FRAw/UoXI/yVEAfhetRuP5UQFyPwvUo/FRAFK5H4Xr0VEA9CtejcE1VQKRwPQrXU1VAZmZmZmb2VECuR+F6FL5UQHE9CtejsFRA4XoUrkehVEAfhetRuI5UQArXo3A9mlRAKVyPwvX4VECamZmZmTlVQFyPwvUoXFVA9ihcj8KFVUCkcD0K16NVQK5H4XoUvlVAmpmZmZnJVUDD9Shcj7JVQIXrUbgepVVAhetRuB6FVUCuR+F6FF5VQHsUrkfhOlVASOF6FK4XVUBI4XoUrvdUQHE9Ctej0FRASOF6FK6nVEA=\"},\"shape\":[205],\"dtype\":\"float64\",\"order\":\"little\"}]]}}},\"view\":{\"type\":\"object\",\"name\":\"CDSView\",\"id\":\"p3242\",\"attributes\":{\"filter\":{\"type\":\"object\",\"name\":\"AllIndices\",\"id\":\"p3243\"}}},\"glyph\":{\"type\":\"object\",\"name\":\"Line\",\"id\":\"p3238\",\"attributes\":{\"x\":{\"type\":\"field\",\"field\":\"x\"},\"y\":{\"type\":\"field\",\"field\":\"y\"},\"line_color\":\"deepskyblue\",\"line_width\":2}},\"nonselection_glyph\":{\"type\":\"object\",\"name\":\"Line\",\"id\":\"p3239\",\"attributes\":{\"x\":{\"type\":\"field\",\"field\":\"x\"},\"y\":{\"type\":\"field\",\"field\":\"y\"},\"line_color\":\"deepskyblue\",\"line_alpha\":0.1,\"line_width\":2}},\"muted_glyph\":{\"type\":\"object\",\"name\":\"Line\",\"id\":\"p3240\",\"attributes\":{\"x\":{\"type\":\"field\",\"field\":\"x\"},\"y\":{\"type\":\"field\",\"field\":\"y\"},\"line_color\":\"deepskyblue\",\"line_alpha\":0.2,\"line_width\":2}}}},{\"type\":\"object\",\"name\":\"GlyphRenderer\",\"id\":\"p3252\",\"attributes\":{\"data_source\":{\"type\":\"object\",\"name\":\"ColumnDataSource\",\"id\":\"p3246\",\"attributes\":{\"selected\":{\"type\":\"object\",\"name\":\"Selection\",\"id\":\"p3247\",\"attributes\":{\"indices\":[],\"line_indices\":[]}},\"selection_policy\":{\"type\":\"object\",\"name\":\"UnionRenderers\",\"id\":\"p3248\"},\"data\":{\"type\":\"map\",\"entries\":[[\"x\",{\"type\":\"ndarray\",\"array\":{\"type\":\"bytes\",\"data\":\"AAAAAAAAAACamZmZmZm5P5qZmZmZmck/MzMzMzMz0z+amZmZmZnZPwAAAAAAAOA/MzMzMzMz4z9mZmZmZmbmP5qZmZmZmek/zczMzMzM7D8AAAAAAADwP5qZmZmZmfE/MzMzMzMz8z/NzMzMzMz0P2ZmZmZmZvY/AAAAAAAA+D+amZmZmZn5PzMzMzMzM/s/zczMzMzM/D9mZmZmZmb+PwAAAAAAAABAzczMzMzMAECamZmZmZkBQGZmZmZmZgJAMzMzMzMzA0AAAAAAAAAEQM3MzMzMzARAmpmZmZmZBUBmZmZmZmYGQDMzMzMzMwdAAAAAAAAACEDNzMzMzMwIQJqZmZmZmQlAZmZmZmZmCkAzMzMzMzMLQAAAAAAAAAxAzczMzMzMDECamZmZmZkNQGZmZmZmZg5AMzMzMzMzD0BmZmZmZmYQQM3MzMzMzBBAMzMzMzMzEUCamZmZmZkRQGZmZmZmZhJAzczMzMzMEkAzMzMzMzMTQJqZmZmZmRNAZmZmZmZmFEDNzMzMzMwUQJqZmZmZmRVAAAAAAAAAFkBmZmZmZmYWQM3MzMzMzBZAMzMzMzMzF0AAAAAAAAAYQGZmZmZmZhhAzczMzMzMGEAzMzMzMzMZQAAAAAAAABpAZmZmZmZmGkDNzMzMzMwaQDMzMzMzMxtAmpmZmZmZG0BmZmZmZmYcQDMzMzMzMx1AmpmZmZmZHUAAAAAAAAAeQGZmZmZmZh5AzczMzMzMHkAzMzMzMzMfQJqZmZmZmR9AZmZmZmZmIECamZmZmZkgQM3MzMzMzCBAAAAAAAAAIUAzMzMzMzMhQGZmZmZmZiFAmpmZmZmZIUDNzMzMzMwhQDMzMzMzMyJAmpmZmZmZIkDNzMzMzMwiQAAAAAAAACNAMzMzMzMzI0BmZmZmZmYjQJqZmZmZmSNAzczMzMzMI0BmZmZmZmYkQJqZmZmZmSRAzczMzMzMJEAAAAAAAAAlQDMzMzMzMyVAZmZmZmZmJUAAAAAAAAAmQDMzMzMzMyZAmpmZmZmZJkDNzMzMzMwmQAAAAAAAACdAMzMzMzMzJ0BmZmZmZmYnQJqZmZmZmSdAzczMzMzMJ0AzMzMzMzMoQGZmZmZmZihAmpmZmZmZKEDNzMzMzMwoQAAAAAAAAClAMzMzMzMzKUCamZmZmZkpQM3MzMzMzClAZmZmZmZmKkCamZmZmZkqQAAAAAAAACtAMzMzMzMzK0BmZmZmZmYrQJqZmZmZmStAzczMzMzMK0AzMzMzMzMsQJqZmZmZmSxAzczMzMzMLEAAAAAAAAAtQDMzMzMzMy1AZmZmZmZmLUCamZmZmZktQM3MzMzMzC1AMzMzMzMzLkBmZmZmZmYuQM3MzMzMzC5AAAAAAAAAL0BmZmZmZmYvQJqZmZmZmS9AzczMzMzML0AAAAAAAAAwQJqZmZmZGTBAzczMzMxMMEBmZmZmZmYwQAAAAAAAgDBAmpmZmZmZMEDNzMzMzMwwQGZmZmZm5jBAAAAAAAAAMUCamZmZmRkxQDMzMzMzMzFAZmZmZmZmMUAAAAAAAIAxQJqZmZmZmTFAMzMzMzOzMUDNzMzMzMwxQGZmZmZm5jFAmpmZmZkZMkAzMzMzMzMyQM3MzMzMTDJAAAAAAACAMkCamZmZmZkyQDMzMzMzszJAzczMzMzMMkBmZmZmZuYyQJqZmZmZGTNAzczMzMxMM0BmZmZmZmYzQAAAAAAAgDNAmpmZmZmZM0AzMzMzM7MzQGZmZmZm5jNAAAAAAAAANECamZmZmRk0QDMzMzMzMzRAzczMzMxMNEAAAAAAAIA0QJqZmZmZmTRAMzMzMzOzNEDNzMzMzMw0QGZmZmZm5jRAmpmZmZkZNUDNzMzMzEw1QGZmZmZmZjVAAAAAAACANUCamZmZmZk1QDMzMzMzszVAZmZmZmbmNUCamZmZmRk2QDMzMzMzMzZAZmZmZmZmNkAAAAAAAIA2QJqZmZmZmTZAMzMzMzOzNkDNzMzMzMw2QGZmZmZm5jZAmpmZmZkZN0DNzMzMzEw3QGZmZmZmZjdAAAAAAACAN0CamZmZmZk3QDMzMzMzszdAzczMzMzMN0CamZmZmRk4QDMzMzMzMzhAzczMzMxMOEBmZmZmZmY4QAAAAAAAgDhAmpmZmZmZOEAzMzMzM7M4QM3MzMzMzDhAZmZmZmbmOEA=\"},\"shape\":[205],\"dtype\":\"float64\",\"order\":\"little\"}],[\"y\",{\"type\":\"ndarray\",\"array\":{\"type\":\"bytes\",\"data\":\"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\"},\"shape\":[205],\"dtype\":\"float64\",\"order\":\"little\"}]]}}},\"view\":{\"type\":\"object\",\"name\":\"CDSView\",\"id\":\"p3253\",\"attributes\":{\"filter\":{\"type\":\"object\",\"name\":\"AllIndices\",\"id\":\"p3254\"}}},\"glyph\":{\"type\":\"object\",\"name\":\"Line\",\"id\":\"p3249\",\"attributes\":{\"x\":{\"type\":\"field\",\"field\":\"x\"},\"y\":{\"type\":\"field\",\"field\":\"y\"},\"line_color\":\"limegreen\",\"line_width\":2}},\"nonselection_glyph\":{\"type\":\"object\",\"name\":\"Line\",\"id\":\"p3250\",\"attributes\":{\"x\":{\"type\":\"field\",\"field\":\"x\"},\"y\":{\"type\":\"field\",\"field\":\"y\"},\"line_color\":\"limegreen\",\"line_alpha\":0.1,\"line_width\":2}},\"muted_glyph\":{\"type\":\"object\",\"name\":\"Line\",\"id\":\"p3251\",\"attributes\":{\"x\":{\"type\":\"field\",\"field\":\"x\"},\"y\":{\"type\":\"field\",\"field\":\"y\"},\"line_color\":\"limegreen\",\"line_alpha\":0.2,\"line_width\":2}}}},{\"type\":\"object\",\"name\":\"GlyphRenderer\",\"id\":\"p3262\",\"attributes\":{\"data_source\":{\"type\":\"object\",\"name\":\"ColumnDataSource\",\"id\":\"p3256\",\"attributes\":{\"selected\":{\"type\":\"object\",\"name\":\"Selection\",\"id\":\"p3257\",\"attributes\":{\"indices\":[],\"line_indices\":[]}},\"selection_policy\":{\"type\":\"object\",\"name\":\"UnionRenderers\",\"id\":\"p3258\"},\"data\":{\"type\":\"map\",\"entries\":[[\"x\",{\"type\":\"ndarray\",\"array\":{\"type\":\"bytes\",\"data\":\"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\"},\"shape\":[205],\"dtype\":\"float64\",\"order\":\"little\"}],[\"y\",{\"type\":\"ndarray\",\"array\":{\"type\":\"bytes\",\"data\":\"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\"},\"shape\":[205],\"dtype\":\"float64\",\"order\":\"little\"}]]}}},\"view\":{\"type\":\"object\",\"name\":\"CDSView\",\"id\":\"p3263\",\"attributes\":{\"filter\":{\"type\":\"object\",\"name\":\"AllIndices\",\"id\":\"p3264\"}}},\"glyph\":{\"type\":\"object\",\"name\":\"Line\",\"id\":\"p3259\",\"attributes\":{\"x\":{\"type\":\"field\",\"field\":\"x\"},\"y\":{\"type\":\"field\",\"field\":\"y\"},\"line_color\":\"red\",\"line_width\":2}},\"nonselection_glyph\":{\"type\":\"object\",\"name\":\"Line\",\"id\":\"p3260\",\"attributes\":{\"x\":{\"type\":\"field\",\"field\":\"x\"},\"y\":{\"type\":\"field\",\"field\":\"y\"},\"line_color\":\"red\",\"line_alpha\":0.1,\"line_width\":2}},\"muted_glyph\":{\"type\":\"object\",\"name\":\"Line\",\"id\":\"p3261\",\"attributes\":{\"x\":{\"type\":\"field\",\"field\":\"x\"},\"y\":{\"type\":\"field\",\"field\":\"y\"},\"line_color\":\"red\",\"line_alpha\":0.2,\"line_width\":2}}}},{\"type\":\"object\",\"name\":\"GlyphRenderer\",\"id\":\"p3272\",\"attributes\":{\"data_source\":{\"type\":\"object\",\"name\":\"ColumnDataSource\",\"id\":\"p3266\",\"attributes\":{\"selected\":{\"type\":\"object\",\"name\":\"Selection\",\"id\":\"p3267\",\"attributes\":{\"indices\":[],\"line_indices\":[]}},\"selection_policy\":{\"type\":\"object\",\"name\":\"UnionRenderers\",\"id\":\"p3268\"},\"data\":{\"type\":\"map\",\"entries\":[[\"x0\",[18.6]],[\"y0\",[0.0]],[\"x1\",[18.6]],[\"y1\",[476.31]]]}}},\"view\":{\"type\":\"object\",\"name\":\"CDSView\",\"id\":\"p3273\",\"attributes\":{\"filter\":{\"type\":\"object\",\"name\":\"AllIndices\",\"id\":\"p3274\"}}},\"glyph\":{\"type\":\"object\",\"name\":\"Segment\",\"id\":\"p3269\",\"attributes\":{\"x0\":{\"type\":\"field\",\"field\":\"x0\"},\"y0\":{\"type\":\"field\",\"field\":\"y0\"},\"x1\":{\"type\":\"field\",\"field\":\"x1\"},\"y1\":{\"type\":\"field\",\"field\":\"y1\"},\"line_color\":{\"type\":\"value\",\"value\":\"lightblue\"},\"line_width\":{\"type\":\"value\",\"value\":3}}},\"nonselection_glyph\":{\"type\":\"object\",\"name\":\"Segment\",\"id\":\"p3270\",\"attributes\":{\"x0\":{\"type\":\"field\",\"field\":\"x0\"},\"y0\":{\"type\":\"field\",\"field\":\"y0\"},\"x1\":{\"type\":\"field\",\"field\":\"x1\"},\"y1\":{\"type\":\"field\",\"field\":\"y1\"},\"line_color\":{\"type\":\"value\",\"value\":\"lightblue\"},\"line_alpha\":{\"type\":\"value\",\"value\":0.1},\"line_width\":{\"type\":\"value\",\"value\":3}}},\"muted_glyph\":{\"type\":\"object\",\"name\":\"Segment\",\"id\":\"p3271\",\"attributes\":{\"x0\":{\"type\":\"field\",\"field\":\"x0\"},\"y0\":{\"type\":\"field\",\"field\":\"y0\"},\"x1\":{\"type\":\"field\",\"field\":\"x1\"},\"y1\":{\"type\":\"field\",\"field\":\"y1\"},\"line_color\":{\"type\":\"value\",\"value\":\"lightblue\"},\"line_alpha\":{\"type\":\"value\",\"value\":0.2},\"line_width\":{\"type\":\"value\",\"value\":3}}}}},{\"type\":\"object\",\"name\":\"GlyphRenderer\",\"id\":\"p3281\",\"attributes\":{\"data_source\":{\"type\":\"object\",\"name\":\"ColumnDataSource\",\"id\":\"p3275\",\"attributes\":{\"selected\":{\"type\":\"object\",\"name\":\"Selection\",\"id\":\"p3276\",\"attributes\":{\"indices\":[],\"line_indices\":[]}},\"selection_policy\":{\"type\":\"object\",\"name\":\"UnionRenderers\",\"id\":\"p3277\"},\"data\":{\"type\":\"map\",\"entries\":[[\"x0\",[20.1]],[\"y0\",[0.0]],[\"x1\",[20.1]],[\"y1\",[476.31]]]}}},\"view\":{\"type\":\"object\",\"name\":\"CDSView\",\"id\":\"p3282\",\"attributes\":{\"filter\":{\"type\":\"object\",\"name\":\"AllIndices\",\"id\":\"p3283\"}}},\"glyph\":{\"type\":\"object\",\"name\":\"Segment\",\"id\":\"p3278\",\"attributes\":{\"x0\":{\"type\":\"field\",\"field\":\"x0\"},\"y0\":{\"type\":\"field\",\"field\":\"y0\"},\"x1\":{\"type\":\"field\",\"field\":\"x1\"},\"y1\":{\"type\":\"field\",\"field\":\"y1\"},\"line_color\":{\"type\":\"value\",\"value\":\"darkseagreen\"}}},\"nonselection_glyph\":{\"type\":\"object\",\"name\":\"Segment\",\"id\":\"p3279\",\"attributes\":{\"x0\":{\"type\":\"field\",\"field\":\"x0\"},\"y0\":{\"type\":\"field\",\"field\":\"y0\"},\"x1\":{\"type\":\"field\",\"field\":\"x1\"},\"y1\":{\"type\":\"field\",\"field\":\"y1\"},\"line_color\":{\"type\":\"value\",\"value\":\"darkseagreen\"},\"line_alpha\":{\"type\":\"value\",\"value\":0.1}}},\"muted_glyph\":{\"type\":\"object\",\"name\":\"Segment\",\"id\":\"p3280\",\"attributes\":{\"x0\":{\"type\":\"field\",\"field\":\"x0\"},\"y0\":{\"type\":\"field\",\"field\":\"y0\"},\"x1\":{\"type\":\"field\",\"field\":\"x1\"},\"y1\":{\"type\":\"field\",\"field\":\"y1\"},\"line_color\":{\"type\":\"value\",\"value\":\"darkseagreen\"},\"line_alpha\":{\"type\":\"value\",\"value\":0.2}}}}},{\"type\":\"object\",\"name\":\"GlyphRenderer\",\"id\":\"p3290\",\"attributes\":{\"data_source\":{\"type\":\"object\",\"name\":\"ColumnDataSource\",\"id\":\"p3284\",\"attributes\":{\"selected\":{\"type\":\"object\",\"name\":\"Selection\",\"id\":\"p3285\",\"attributes\":{\"indices\":[],\"line_indices\":[]}},\"selection_policy\":{\"type\":\"object\",\"name\":\"UnionRenderers\",\"id\":\"p3286\"},\"data\":{\"type\":\"map\",\"entries\":[[\"x0\",[17.1]],[\"y0\",[0.0]],[\"x1\",[17.1]],[\"y1\",[476.31]]]}}},\"view\":{\"type\":\"object\",\"name\":\"CDSView\",\"id\":\"p3291\",\"attributes\":{\"filter\":{\"type\":\"object\",\"name\":\"AllIndices\",\"id\":\"p3292\"}}},\"glyph\":{\"type\":\"object\",\"name\":\"Segment\",\"id\":\"p3287\",\"attributes\":{\"x0\":{\"type\":\"field\",\"field\":\"x0\"},\"y0\":{\"type\":\"field\",\"field\":\"y0\"},\"x1\":{\"type\":\"field\",\"field\":\"x1\"},\"y1\":{\"type\":\"field\",\"field\":\"y1\"},\"line_color\":{\"type\":\"value\",\"value\":\"darkseagreen\"}}},\"nonselection_glyph\":{\"type\":\"object\",\"name\":\"Segment\",\"id\":\"p3288\",\"attributes\":{\"x0\":{\"type\":\"field\",\"field\":\"x0\"},\"y0\":{\"type\":\"field\",\"field\":\"y0\"},\"x1\":{\"type\":\"field\",\"field\":\"x1\"},\"y1\":{\"type\":\"field\",\"field\":\"y1\"},\"line_color\":{\"type\":\"value\",\"value\":\"darkseagreen\"},\"line_alpha\":{\"type\":\"value\",\"value\":0.1}}},\"muted_glyph\":{\"type\":\"object\",\"name\":\"Segment\",\"id\":\"p3289\",\"attributes\":{\"x0\":{\"type\":\"field\",\"field\":\"x0\"},\"y0\":{\"type\":\"field\",\"field\":\"y0\"},\"x1\":{\"type\":\"field\",\"field\":\"x1\"},\"y1\":{\"type\":\"field\",\"field\":\"y1\"},\"line_color\":{\"type\":\"value\",\"value\":\"darkseagreen\"},\"line_alpha\":{\"type\":\"value\",\"value\":0.2}}}}},{\"type\":\"object\",\"name\":\"GlyphRenderer\",\"id\":\"p3299\",\"attributes\":{\"data_source\":{\"type\":\"object\",\"name\":\"ColumnDataSource\",\"id\":\"p3293\",\"attributes\":{\"selected\":{\"type\":\"object\",\"name\":\"Selection\",\"id\":\"p3294\",\"attributes\":{\"indices\":[],\"line_indices\":[]}},\"selection_policy\":{\"type\":\"object\",\"name\":\"UnionRenderers\",\"id\":\"p3295\"},\"data\":{\"type\":\"map\",\"entries\":[[\"x\",[18.6]],[\"y\",[476.31]],[\"size\",[20]]]}}},\"view\":{\"type\":\"object\",\"name\":\"CDSView\",\"id\":\"p3300\",\"attributes\":{\"filter\":{\"type\":\"object\",\"name\":\"AllIndices\",\"id\":\"p3301\"}}},\"glyph\":{\"type\":\"object\",\"name\":\"Scatter\",\"id\":\"p3296\",\"attributes\":{\"x\":{\"type\":\"field\",\"field\":\"x\"},\"y\":{\"type\":\"field\",\"field\":\"y\"},\"size\":{\"type\":\"field\",\"field\":\"size\"},\"line_color\":{\"type\":\"value\",\"value\":\"lightblue\"},\"line_width\":{\"type\":\"value\",\"value\":3},\"fill_color\":{\"type\":\"value\",\"value\":null},\"marker\":{\"type\":\"value\",\"value\":\"square_cross\"}}},\"nonselection_glyph\":{\"type\":\"object\",\"name\":\"Scatter\",\"id\":\"p3297\",\"attributes\":{\"x\":{\"type\":\"field\",\"field\":\"x\"},\"y\":{\"type\":\"field\",\"field\":\"y\"},\"size\":{\"type\":\"field\",\"field\":\"size\"},\"line_color\":{\"type\":\"value\",\"value\":\"lightblue\"},\"line_alpha\":{\"type\":\"value\",\"value\":0.1},\"line_width\":{\"type\":\"value\",\"value\":3},\"fill_color\":{\"type\":\"value\",\"value\":null},\"fill_alpha\":{\"type\":\"value\",\"value\":0.1},\"hatch_alpha\":{\"type\":\"value\",\"value\":0.1},\"marker\":{\"type\":\"value\",\"value\":\"square_cross\"}}},\"muted_glyph\":{\"type\":\"object\",\"name\":\"Scatter\",\"id\":\"p3298\",\"attributes\":{\"x\":{\"type\":\"field\",\"field\":\"x\"},\"y\":{\"type\":\"field\",\"field\":\"y\"},\"size\":{\"type\":\"field\",\"field\":\"size\"},\"line_color\":{\"type\":\"value\",\"value\":\"lightblue\"},\"line_alpha\":{\"type\":\"value\",\"value\":0.2},\"line_width\":{\"type\":\"value\",\"value\":3},\"fill_color\":{\"type\":\"value\",\"value\":null},\"fill_alpha\":{\"type\":\"value\",\"value\":0.2},\"hatch_alpha\":{\"type\":\"value\",\"value\":0.2},\"marker\":{\"type\":\"value\",\"value\":\"square_cross\"}}}}}],\"toolbar\":{\"type\":\"object\",\"name\":\"Toolbar\",\"id\":\"p3186\",\"attributes\":{\"tools\":[{\"type\":\"object\",\"name\":\"PanTool\",\"id\":\"p3201\"},{\"type\":\"object\",\"name\":\"WheelZoomTool\",\"id\":\"p3202\",\"attributes\":{\"renderers\":\"auto\"}},{\"type\":\"object\",\"name\":\"BoxZoomTool\",\"id\":\"p3203\",\"attributes\":{\"overlay\":{\"type\":\"object\",\"name\":\"BoxAnnotation\",\"id\":\"p3204\",\"attributes\":{\"syncable\":false,\"line_color\":\"black\",\"line_alpha\":1.0,\"line_width\":2,\"line_dash\":[4,4],\"fill_color\":\"lightgrey\",\"fill_alpha\":0.5,\"level\":\"overlay\",\"visible\":false,\"left\":{\"type\":\"number\",\"value\":\"nan\"},\"right\":{\"type\":\"number\",\"value\":\"nan\"},\"top\":{\"type\":\"number\",\"value\":\"nan\"},\"bottom\":{\"type\":\"number\",\"value\":\"nan\"},\"left_units\":\"canvas\",\"right_units\":\"canvas\",\"top_units\":\"canvas\",\"bottom_units\":\"canvas\",\"handles\":{\"type\":\"object\",\"name\":\"BoxInteractionHandles\",\"id\":\"p3210\",\"attributes\":{\"all\":{\"type\":\"object\",\"name\":\"AreaVisuals\",\"id\":\"p3209\",\"attributes\":{\"fill_color\":\"white\",\"hover_fill_color\":\"lightgray\"}}}}}}}},{\"type\":\"object\",\"name\":\"SaveTool\",\"id\":\"p3211\"},{\"type\":\"object\",\"name\":\"ResetTool\",\"id\":\"p3212\"},{\"type\":\"object\",\"name\":\"HelpTool\",\"id\":\"p3213\"},{\"type\":\"object\",\"name\":\"HoverTool\",\"id\":\"p3245\",\"attributes\":{\"renderers\":\"auto\",\"tooltips\":[[\"Y-val\",\"@y{0.00}\"]]}}]}},\"left\":[{\"type\":\"object\",\"name\":\"LinearAxis\",\"id\":\"p3196\",\"attributes\":{\"ticker\":{\"type\":\"object\",\"name\":\"BasicTicker\",\"id\":\"p3197\",\"attributes\":{\"mantissas\":[1,2,5]}},\"formatter\":{\"type\":\"object\",\"name\":\"BasicTickFormatter\",\"id\":\"p3198\"},\"axis_label\":\"km/h\",\"axis_label_standoff\":10,\"axis_label_text_color\":\"#E0E0E0\",\"axis_label_text_font\":\"Helvetica\",\"axis_label_text_font_size\":\"1.25em\",\"axis_label_text_font_style\":\"normal\",\"major_label_policy\":{\"type\":\"object\",\"name\":\"AllLabels\",\"id\":\"p3199\"},\"major_label_text_color\":\"#E0E0E0\",\"major_label_text_font\":\"Helvetica\",\"major_label_text_font_size\":\"1.025em\",\"axis_line_color\":\"#E0E0E0\",\"axis_line_alpha\":0,\"major_tick_line_color\":\"#E0E0E0\",\"major_tick_line_alpha\":0,\"minor_tick_line_color\":\"#E0E0E0\",\"minor_tick_line_alpha\":0}},{\"type\":\"object\",\"name\":\"LinearAxis\",\"id\":\"p3216\",\"attributes\":{\"y_range_name\":\"altitudeFt\",\"ticker\":{\"type\":\"object\",\"name\":\"BasicTicker\",\"id\":\"p3217\",\"attributes\":{\"mantissas\":[1,2,5]}},\"formatter\":{\"type\":\"object\",\"name\":\"BasicTickFormatter\",\"id\":\"p3218\"},\"axis_label\":\"Alt (ft)\",\"axis_label_standoff\":10,\"axis_label_text_color\":\"#E0E0E0\",\"axis_label_text_font\":\"Helvetica\",\"axis_label_text_font_size\":\"1.25em\",\"axis_label_text_font_style\":\"normal\",\"major_label_policy\":{\"type\":\"object\",\"name\":\"AllLabels\",\"id\":\"p3219\"},\"major_label_text_color\":\"#E0E0E0\",\"major_label_text_font\":\"Helvetica\",\"major_label_text_font_size\":\"1.025em\",\"axis_line_color\":\"#E0E0E0\",\"axis_line_alpha\":0,\"major_tick_line_color\":\"#E0E0E0\",\"major_tick_line_alpha\":0,\"minor_tick_line_color\":\"#E0E0E0\",\"minor_tick_line_alpha\":0}},{\"type\":\"object\",\"name\":\"LinearAxis\",\"id\":\"p3220\",\"attributes\":{\"y_range_name\":\"angle\",\"ticker\":{\"type\":\"object\",\"name\":\"BasicTicker\",\"id\":\"p3221\",\"attributes\":{\"mantissas\":[1,2,5]}},\"formatter\":{\"type\":\"object\",\"name\":\"BasicTickFormatter\",\"id\":\"p3222\"},\"axis_label\":\"angle\",\"axis_label_standoff\":10,\"axis_label_text_color\":\"#E0E0E0\",\"axis_label_text_font\":\"Helvetica\",\"axis_label_text_font_size\":\"1.25em\",\"axis_label_text_font_style\":\"normal\",\"major_label_policy\":{\"type\":\"object\",\"name\":\"AllLabels\",\"id\":\"p3223\"},\"major_label_text_color\":\"#E0E0E0\",\"major_label_text_font\":\"Helvetica\",\"major_label_text_font_size\":\"1.025em\",\"axis_line_color\":\"#E0E0E0\",\"axis_line_alpha\":0,\"major_tick_line_color\":\"#E0E0E0\",\"major_tick_line_alpha\":0,\"minor_tick_line_color\":\"#E0E0E0\",\"minor_tick_line_alpha\":0}}],\"below\":[{\"type\":\"object\",\"name\":\"LinearAxis\",\"id\":\"p3191\",\"attributes\":{\"ticker\":{\"type\":\"object\",\"name\":\"BasicTicker\",\"id\":\"p3192\",\"attributes\":{\"mantissas\":[1,2,5]}},\"formatter\":{\"type\":\"object\",\"name\":\"BasicTickFormatter\",\"id\":\"p3193\"},\"axis_label\":\"seconds from exit\",\"axis_label_standoff\":10,\"axis_label_text_color\":\"#E0E0E0\",\"axis_label_text_font\":\"Helvetica\",\"axis_label_text_font_size\":\"1.25em\",\"axis_label_text_font_style\":\"normal\",\"major_label_policy\":{\"type\":\"object\",\"name\":\"AllLabels\",\"id\":\"p3194\"},\"major_label_text_color\":\"#E0E0E0\",\"major_label_text_font\":\"Helvetica\",\"major_label_text_font_size\":\"1.025em\",\"axis_line_color\":\"#E0E0E0\",\"axis_line_alpha\":0,\"major_tick_line_color\":\"#E0E0E0\",\"major_tick_line_alpha\":0,\"minor_tick_line_color\":\"#E0E0E0\",\"minor_tick_line_alpha\":0}}],\"center\":[{\"type\":\"object\",\"name\":\"Grid\",\"id\":\"p3195\",\"attributes\":{\"axis\":{\"id\":\"p3191\"},\"grid_line_color\":\"#E0E0E0\",\"grid_line_alpha\":0.25}},{\"type\":\"object\",\"name\":\"Grid\",\"id\":\"p3200\",\"attributes\":{\"dimension\":1,\"axis\":{\"id\":\"p3196\"},\"grid_line_color\":\"#E0E0E0\",\"grid_line_alpha\":0.25}},{\"type\":\"object\",\"name\":\"Legend\",\"id\":\"p3233\",\"attributes\":{\"border_line_alpha\":0,\"background_fill_color\":\"#20262B\",\"background_fill_alpha\":0.25,\"label_text_color\":\"#E0E0E0\",\"label_text_font\":\"Helvetica\",\"label_text_font_size\":\"1.025em\",\"label_standoff\":8,\"glyph_width\":15,\"spacing\":8,\"items\":[{\"type\":\"object\",\"name\":\"LegendItem\",\"id\":\"p3234\",\"attributes\":{\"label\":{\"type\":\"value\",\"value\":\"Alt (ft)\"},\"renderers\":[{\"id\":\"p3230\"}]}},{\"type\":\"object\",\"name\":\"LegendItem\",\"id\":\"p3244\",\"attributes\":{\"label\":{\"type\":\"value\",\"value\":\"angle\"},\"renderers\":[{\"id\":\"p3241\"}]}},{\"type\":\"object\",\"name\":\"LegendItem\",\"id\":\"p3255\",\"attributes\":{\"label\":{\"type\":\"value\",\"value\":\"speed\"},\"renderers\":[{\"id\":\"p3252\"}]}},{\"type\":\"object\",\"name\":\"LegendItem\",\"id\":\"p3265\",\"attributes\":{\"label\":{\"type\":\"value\",\"value\":\"H-speed\"},\"renderers\":[{\"id\":\"p3262\"}]}}]}}],\"background_fill_color\":\"#20262B\",\"border_fill_color\":\"#15191C\"}}]}};\n",
       "  const render_items = [{\"docid\":\"91748e74-c24d-4e6b-9cea-0ab8e1ceef07\",\"roots\":{\"p3177\":\"a7206176-2952-4727-9d32-d80e4641c167\"},\"root_ids\":[\"p3177\"]}];\n",
       "  void root.Bokeh.embed.embed_items_notebook(docs_json, render_items);\n",
       "  }\n",
       "  if (root.Bokeh !== undefined) {\n",
       "    embed_document(root);\n",
       "  } else {\n",
       "    let attempts = 0;\n",
       "    const timer = setInterval(function(root) {\n",
       "      if (root.Bokeh !== undefined) {\n",
       "        clearInterval(timer);\n",
       "        embed_document(root);\n",
       "      } else {\n",
       "        attempts++;\n",
       "        if (attempts > 100) {\n",
       "          clearInterval(timer);\n",
       "          console.log(\"Bokeh: ERROR: Unable to run BokehJS code because BokehJS library is missing\");\n",
       "        }\n",
       "      }\n",
       "    }, 10, root)\n",
       "  }\n",
       "})(window);"
      ],
      "application/vnd.bokehjs_exec.v0+json": ""
     },
     "metadata": {
      "application/vnd.bokehjs_exec.v0+json": {
       "id": "p3177"
      }
     },
     "output_type": "display_data"
    },
    {
     "data": {
      "application/vnd.jupyter.widget-view+json": {
       "model_id": "245c5fcbcfe54ee6980db18e0c876999",
       "version_major": 2,
       "version_minor": 0
      },
      "text/plain": [
       "HTML(value='<hr><h1><span style=\"color: #0f0\">data 12-24-08:v1 jump - 🟢 valid - score = 473.95 km/h</span></h1…"
      ]
     },
     "metadata": {},
     "output_type": "display_data"
    },
    {
     "data": {
      "application/vnd.jupyter.widget-view+json": {
       "model_id": "d55e3e93ec33444db6fa3091e7c5340e",
       "version_major": 2,
       "version_minor": 0
      },
      "text/plain": [
       "HTML(value='<h3>Max speed = 473; exit at 4133 m (13560 ft), end scoring window at 1877 m (6159 ft)')"
      ]
     },
     "metadata": {},
     "output_type": "display_data"
    },
    {
     "data": {
      "application/vnd.jupyter.widget-view+json": {
       "model_id": "76fe8e4362a243268324f2e4a4b0e99b",
       "version_major": 2,
       "version_minor": 0
      },
      "text/plain": [
       "HTML(value='</h3>')"
      ]
     },
     "metadata": {},
     "output_type": "display_data"
    },
    {
     "data": {
      "text/html": [
       "<div>\n",
       "<style scoped>\n",
       "    .dataframe tbody tr th:only-of-type {\n",
       "        vertical-align: middle;\n",
       "    }\n",
       "\n",
       "    .dataframe tbody tr th {\n",
       "        vertical-align: top;\n",
       "    }\n",
       "\n",
       "    .dataframe thead th {\n",
       "        text-align: right;\n",
       "    }\n",
       "</style>\n",
       "<table border=\"1\" class=\"dataframe\">\n",
       "  <thead>\n",
       "    <tr style=\"text-align: right;\">\n",
       "      <th></th>\n",
       "      <th>time</th>\n",
       "      <th>vKMh</th>\n",
       "      <th>hKMh</th>\n",
       "      <th>speedAngle</th>\n",
       "      <th>distanceFromExit (m)</th>\n",
       "      <th>altitude (ft)</th>\n",
       "      <th>netVectorKMh</th>\n",
       "    </tr>\n",
       "  </thead>\n",
       "  <tbody>\n",
       "    <tr>\n",
       "      <th></th>\n",
       "      <td>5.0</td>\n",
       "      <td>180</td>\n",
       "      <td>105</td>\n",
       "      <td>59.65</td>\n",
       "      <td>174.50</td>\n",
       "      <td>13117</td>\n",
       "      <td>208</td>\n",
       "    </tr>\n",
       "    <tr>\n",
       "      <th></th>\n",
       "      <td>10.0</td>\n",
       "      <td>322</td>\n",
       "      <td>80</td>\n",
       "      <td>76.04</td>\n",
       "      <td>299.85</td>\n",
       "      <td>11935</td>\n",
       "      <td>331</td>\n",
       "    </tr>\n",
       "    <tr>\n",
       "      <th></th>\n",
       "      <td>15.0</td>\n",
       "      <td>413</td>\n",
       "      <td>66</td>\n",
       "      <td>80.96</td>\n",
       "      <td>395.19</td>\n",
       "      <td>10223</td>\n",
       "      <td>418</td>\n",
       "    </tr>\n",
       "    <tr>\n",
       "      <th></th>\n",
       "      <td>20.0</td>\n",
       "      <td>462</td>\n",
       "      <td>55</td>\n",
       "      <td>83.25</td>\n",
       "      <td>451.67</td>\n",
       "      <td>8198</td>\n",
       "      <td>465</td>\n",
       "    </tr>\n",
       "    <tr>\n",
       "      <th></th>\n",
       "      <td>25.0</td>\n",
       "      <td>470</td>\n",
       "      <td>50</td>\n",
       "      <td>83.88</td>\n",
       "      <td>470.28</td>\n",
       "      <td>6220</td>\n",
       "      <td>472</td>\n",
       "    </tr>\n",
       "  </tbody>\n",
       "</table>\n",
       "</div>"
      ],
      "text/plain": [
       "  time  vKMh  hKMh  speedAngle  distanceFromExit (m)  altitude (ft)  \\\n",
       "   5.0   180   105       59.65                174.50          13117   \n",
       "  10.0   322    80       76.04                299.85          11935   \n",
       "  15.0   413    66       80.96                395.19          10223   \n",
       "  20.0   462    55       83.25                451.67           8198   \n",
       "  25.0   470    50       83.88                470.28           6220   \n",
       "\n",
       "  netVectorKMh  \n",
       "           208  \n",
       "           331  \n",
       "           418  \n",
       "           465  \n",
       "           472  "
      ]
     },
     "metadata": {},
     "output_type": "display_data"
    },
    {
     "data": {
      "text/html": [
       "\n",
       "  <div id=\"a69948d6-19e5-421a-bcd9-b8fd6a3dcda7\" data-root-id=\"p3320\" style=\"display: contents;\"></div>\n"
      ]
     },
     "metadata": {},
     "output_type": "display_data"
    },
    {
     "data": {
      "application/javascript": [
       "(function(root) {\n",
       "  function embed_document(root) {\n",
       "  const docs_json = {\"25bbab41-a21d-430f-98bd-13f5e1447782\":{\"version\":\"3.5.2\",\"title\":\"Bokeh Application\",\"roots\":[{\"type\":\"object\",\"name\":\"Figure\",\"id\":\"p3320\",\"attributes\":{\"width\":900,\"height\":500,\"x_range\":{\"type\":\"object\",\"name\":\"Range1d\",\"id\":\"p3330\",\"attributes\":{\"end\":35.0}},\"y_range\":{\"type\":\"object\",\"name\":\"Range1d\",\"id\":\"p3331\",\"attributes\":{\"end\":550.0}},\"x_scale\":{\"type\":\"object\",\"name\":\"LinearScale\",\"id\":\"p3332\"},\"y_scale\":{\"type\":\"object\",\"name\":\"LinearScale\",\"id\":\"p3333\"},\"extra_y_ranges\":{\"type\":\"map\",\"entries\":[[\"altitudeFt\",{\"type\":\"object\",\"name\":\"Range1d\",\"id\":\"p3357\",\"attributes\":{\"start\":5719.55898,\"end\":14060.700025600001}}],[\"angle\",{\"type\":\"object\",\"name\":\"Range1d\",\"id\":\"p3358\",\"attributes\":{\"end\":90.0}}]]},\"title\":{\"type\":\"object\",\"name\":\"Title\",\"id\":\"p3323\",\"attributes\":{\"text\":\"data 12-24-08:v1\",\"text_color\":\"#E0E0E0\",\"text_font\":\"Helvetica\",\"text_font_size\":\"1.15em\"}},\"outline_line_color\":\"#E0E0E0\",\"outline_line_alpha\":0.25,\"renderers\":[{\"type\":\"object\",\"name\":\"GlyphRenderer\",\"id\":\"p3373\",\"attributes\":{\"y_range_name\":\"altitudeFt\",\"data_source\":{\"type\":\"object\",\"name\":\"ColumnDataSource\",\"id\":\"p3367\",\"attributes\":{\"selected\":{\"type\":\"object\",\"name\":\"Selection\",\"id\":\"p3368\",\"attributes\":{\"indices\":[],\"line_indices\":[]}},\"selection_policy\":{\"type\":\"object\",\"name\":\"UnionRenderers\",\"id\":\"p3369\"},\"data\":{\"type\":\"map\",\"entries\":[[\"x\",{\"type\":\"ndarray\",\"array\":{\"type\":\"bytes\",\"data\":\"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\"},\"shape\":[204],\"dtype\":\"float64\",\"order\":\"little\"}],[\"y\",{\"type\":\"ndarray\",\"array\":{\"type\":\"bytes\",\"data\":\"L1lwmll8ykBxaaEJ8XvKQE7bv7Jae8pAfSSA9qZ6ykCsH5vkp3jKQOHTnLxod8pAgQsNHyR2ykAKODqdonTKQI3BHm4Kc8pAireEMmtvykDFXK1uSG3KQJYETfDSaspAYysNoT9oykC+TX/2k2XKQKfqwx+yYspAQdmUK6xfykDqk9xhe1zKQE8G7A8RWcpAHJ3zU3xVykAoVTYHE07KQFOvAEvzScpAPkJy17dFykBRkfk2W0HKQNdqtMG+PMpAS9x0Ffw3ykBa0Yt/BDPKQPD8ogTlLcpAEDCpkHEjykCP1mIBvR3KQImi9hE2EspACHAfXgQMykBAMh06xQXKQIjAkUBb/8lAq5m1FNj4yUDgYLnvIvLJQF4YRP9H68lAOOtCYkHkyUBKg9vaGt3JQLQUf8rP1clAEGCRX1fOyUD/yL51v8bJQC1dwTbyvslAAlw1dPi2yUAO/tnq5a7JQDIxpxW4pslASB7j5VyeyUCGpcus55XJQHRgOUK2hMlAziCZacZ7yUDpOwm2s3LJQIlrEEGAaclAvdqbKSZgyUCVki+yplbJQMMhZdUJTclA14PuNzdDyUAytJXyRTnJQJYhM7zeGslARlDr7FIQyUCkjF1HsQXJQGvtxzfl+shAeyewStvkyEACR6dTm9nIQDBA7Ja+wshA902rMh23yEDaDvxeWavIQIoReBZ7n8hARJyYP4CTyEA7Ku3DGHvIQJD7Vuu8bshAILTDBDpiyEDZKEbxlVXIQFea7zsxPMhA53nLMDEvyEDbo9wi1RTIQD/uESB5B8hAka7jCf75x0De7dUiZezHQBijZCit3sdA4lOl0tzQx0B6moLrCLXHQMWhbevNpsdAjnkdcYCYx0CSs7CnpXvHQI/PGnIabcdAAveXOG1ex0BeUN8yr0/HQFVP5h+1QMdAdqxSerYix0B7GFqdbBPHQPNtC+AHBMdAgDJ8+o70xkBY53NJ8OTGQLYhEPlwxcZAkG6ERZWlxkCEXPP0e5XGQI+5IXxOhcZAw9Jl1v90xkDP8oZFpmTGQLqdIiyXQ8ZALYPFPO4yxkDHAhVEKyLGQIC21axjEcZAbIznfWUAxkAiQafWmd7FQLFFHPw+vMVASuza3v6qxUCyfRLpQIjFQF80Gq/HdsVAV0fpLZlTxUCio7Dm40HFQKgWtgsaMMVAHS+Tl0MexUBtYtxoc/rEQLUiIBVt6MRATqpsDibExEDjfKDL8rHEQBIQOLe2n8RAtq7inliNxECD5zl94HrEQO3e5X3HVcRA6jmOxBhDxEBZXHdOVjDEQJ+npsmBHcRA9Nznnaf3w0DhkoiVpuTDQOwdJPp70cNAQdZTq1e+w0DmIVM+JKvDQPkSKjjkl8NAJDmq5FVxw0Dv6UVIWErDQGzCB8DBNsNAWmIKexcjw0D+1HjpZg/DQPBGMB/S58JAeozyzOvTwkBBGC5hA8DCQBMsDmf+q8JALW2Cuf+XwkCAc5Ah4YPCQK8BW2/Vb8JAzIzIwWYzwkAPK9zyIR/CQCryNRXLCsJAY8uXvHb2wUBSGO8i9+HBQAnCFVCQzcFAukA4VY2kwUByrVFq+o/BQAohMYu6ZsFAAZe2bvlRwUCwPh76Vj3BQBgWkoL1E8FATvT5KCv/wEDDOkSSV+rAQA+IaxB51cBACgW2lH3AwEDF9d7OtJbAQE5MchuogcBAHE+644NswEDgyV06fFfAQOjwtQxdQsBAlJ0jl0QtwEAKalPQGBjAQHALluryAsBAls9N9nrbv0CyRiwY+7C/QEmOz79ohr9A5xlFIMhbv0BkrlY3WDG/QMd0MoLXBr9AxNkIH1XcvkBhZX5/tLG+QJrTwOoDh75ARyutdThcvkCtd26QXzG+QLFPpQvm271AW0gbovWwvUDVpCWg44W9QNd0PdHVWr1AQou2dJYvvUApLiLlUgS9QMTXjS2qrbxAQhn072SCvEB6Ty9CEle8QD2cwHTaK7xAIz8s5ZYAvEBVAa2vRKq7QPFUG/cBf7tAi6iJPr9Tu0CmIroMBP26QNJx2vio0bpASj+GM2R7ukCD1Dd6NlC6QLCCzloAJbpAL/PCQtLOuUDMpad+tKO5QEG+38OweLlAOYw4U2dNuUBcsirCTSK5QHQgkPBCzLhAaAmNuyyhuEBCP/j1OHa4QB4zUBmPS7hA\"},\"shape\":[204],\"dtype\":\"float64\",\"order\":\"little\"}]]}}},\"view\":{\"type\":\"object\",\"name\":\"CDSView\",\"id\":\"p3374\",\"attributes\":{\"filter\":{\"type\":\"object\",\"name\":\"AllIndices\",\"id\":\"p3375\"}}},\"glyph\":{\"type\":\"object\",\"name\":\"Line\",\"id\":\"p3370\",\"attributes\":{\"x\":{\"type\":\"field\",\"field\":\"x\"},\"y\":{\"type\":\"field\",\"field\":\"y\"},\"line_color\":\"palegoldenrod\",\"line_width\":2}},\"nonselection_glyph\":{\"type\":\"object\",\"name\":\"Line\",\"id\":\"p3371\",\"attributes\":{\"x\":{\"type\":\"field\",\"field\":\"x\"},\"y\":{\"type\":\"field\",\"field\":\"y\"},\"line_color\":\"palegoldenrod\",\"line_alpha\":0.1,\"line_width\":2}},\"muted_glyph\":{\"type\":\"object\",\"name\":\"Line\",\"id\":\"p3372\",\"attributes\":{\"x\":{\"type\":\"field\",\"field\":\"x\"},\"y\":{\"type\":\"field\",\"field\":\"y\"},\"line_color\":\"palegoldenrod\",\"line_alpha\":0.2,\"line_width\":2}}}},{\"type\":\"object\",\"name\":\"GlyphRenderer\",\"id\":\"p3384\",\"attributes\":{\"y_range_name\":\"angle\",\"data_source\":{\"type\":\"object\",\"name\":\"ColumnDataSource\",\"id\":\"p3378\",\"attributes\":{\"selected\":{\"type\":\"object\",\"name\":\"Selection\",\"id\":\"p3379\",\"attributes\":{\"indices\":[],\"line_indices\":[]}},\"selection_policy\":{\"type\":\"object\",\"name\":\"UnionRenderers\",\"id\":\"p3380\"},\"data\":{\"type\":\"map\",\"entries\":[[\"x\",{\"type\":\"ndarray\",\"array\":{\"type\":\"bytes\",\"data\":\"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\"},\"shape\":[204],\"dtype\":\"float64\",\"order\":\"little\"}],[\"y\",{\"type\":\"ndarray\",\"array\":{\"type\":\"bytes\",\"data\":\"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\"},\"shape\":[204],\"dtype\":\"float64\",\"order\":\"little\"}]]}}},\"view\":{\"type\":\"object\",\"name\":\"CDSView\",\"id\":\"p3385\",\"attributes\":{\"filter\":{\"type\":\"object\",\"name\":\"AllIndices\",\"id\":\"p3386\"}}},\"glyph\":{\"type\":\"object\",\"name\":\"Line\",\"id\":\"p3381\",\"attributes\":{\"x\":{\"type\":\"field\",\"field\":\"x\"},\"y\":{\"type\":\"field\",\"field\":\"y\"},\"line_color\":\"deepskyblue\",\"line_width\":2}},\"nonselection_glyph\":{\"type\":\"object\",\"name\":\"Line\",\"id\":\"p3382\",\"attributes\":{\"x\":{\"type\":\"field\",\"field\":\"x\"},\"y\":{\"type\":\"field\",\"field\":\"y\"},\"line_color\":\"deepskyblue\",\"line_alpha\":0.1,\"line_width\":2}},\"muted_glyph\":{\"type\":\"object\",\"name\":\"Line\",\"id\":\"p3383\",\"attributes\":{\"x\":{\"type\":\"field\",\"field\":\"x\"},\"y\":{\"type\":\"field\",\"field\":\"y\"},\"line_color\":\"deepskyblue\",\"line_alpha\":0.2,\"line_width\":2}}}},{\"type\":\"object\",\"name\":\"GlyphRenderer\",\"id\":\"p3395\",\"attributes\":{\"data_source\":{\"type\":\"object\",\"name\":\"ColumnDataSource\",\"id\":\"p3389\",\"attributes\":{\"selected\":{\"type\":\"object\",\"name\":\"Selection\",\"id\":\"p3390\",\"attributes\":{\"indices\":[],\"line_indices\":[]}},\"selection_policy\":{\"type\":\"object\",\"name\":\"UnionRenderers\",\"id\":\"p3391\"},\"data\":{\"type\":\"map\",\"entries\":[[\"x\",{\"type\":\"ndarray\",\"array\":{\"type\":\"bytes\",\"data\":\"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\"},\"shape\":[204],\"dtype\":\"float64\",\"order\":\"little\"}],[\"y\",{\"type\":\"ndarray\",\"array\":{\"type\":\"bytes\",\"data\":\"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\"},\"shape\":[204],\"dtype\":\"float64\",\"order\":\"little\"}]]}}},\"view\":{\"type\":\"object\",\"name\":\"CDSView\",\"id\":\"p3396\",\"attributes\":{\"filter\":{\"type\":\"object\",\"name\":\"AllIndices\",\"id\":\"p3397\"}}},\"glyph\":{\"type\":\"object\",\"name\":\"Line\",\"id\":\"p3392\",\"attributes\":{\"x\":{\"type\":\"field\",\"field\":\"x\"},\"y\":{\"type\":\"field\",\"field\":\"y\"},\"line_color\":\"limegreen\",\"line_width\":2}},\"nonselection_glyph\":{\"type\":\"object\",\"name\":\"Line\",\"id\":\"p3393\",\"attributes\":{\"x\":{\"type\":\"field\",\"field\":\"x\"},\"y\":{\"type\":\"field\",\"field\":\"y\"},\"line_color\":\"limegreen\",\"line_alpha\":0.1,\"line_width\":2}},\"muted_glyph\":{\"type\":\"object\",\"name\":\"Line\",\"id\":\"p3394\",\"attributes\":{\"x\":{\"type\":\"field\",\"field\":\"x\"},\"y\":{\"type\":\"field\",\"field\":\"y\"},\"line_color\":\"limegreen\",\"line_alpha\":0.2,\"line_width\":2}}}},{\"type\":\"object\",\"name\":\"GlyphRenderer\",\"id\":\"p3405\",\"attributes\":{\"data_source\":{\"type\":\"object\",\"name\":\"ColumnDataSource\",\"id\":\"p3399\",\"attributes\":{\"selected\":{\"type\":\"object\",\"name\":\"Selection\",\"id\":\"p3400\",\"attributes\":{\"indices\":[],\"line_indices\":[]}},\"selection_policy\":{\"type\":\"object\",\"name\":\"UnionRenderers\",\"id\":\"p3401\"},\"data\":{\"type\":\"map\",\"entries\":[[\"x\",{\"type\":\"ndarray\",\"array\":{\"type\":\"bytes\",\"data\":\"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\"},\"shape\":[204],\"dtype\":\"float64\",\"order\":\"little\"}],[\"y\",{\"type\":\"ndarray\",\"array\":{\"type\":\"bytes\",\"data\":\"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\"},\"shape\":[204],\"dtype\":\"float64\",\"order\":\"little\"}]]}}},\"view\":{\"type\":\"object\",\"name\":\"CDSView\",\"id\":\"p3406\",\"attributes\":{\"filter\":{\"type\":\"object\",\"name\":\"AllIndices\",\"id\":\"p3407\"}}},\"glyph\":{\"type\":\"object\",\"name\":\"Line\",\"id\":\"p3402\",\"attributes\":{\"x\":{\"type\":\"field\",\"field\":\"x\"},\"y\":{\"type\":\"field\",\"field\":\"y\"},\"line_color\":\"red\",\"line_width\":2}},\"nonselection_glyph\":{\"type\":\"object\",\"name\":\"Line\",\"id\":\"p3403\",\"attributes\":{\"x\":{\"type\":\"field\",\"field\":\"x\"},\"y\":{\"type\":\"field\",\"field\":\"y\"},\"line_color\":\"red\",\"line_alpha\":0.1,\"line_width\":2}},\"muted_glyph\":{\"type\":\"object\",\"name\":\"Line\",\"id\":\"p3404\",\"attributes\":{\"x\":{\"type\":\"field\",\"field\":\"x\"},\"y\":{\"type\":\"field\",\"field\":\"y\"},\"line_color\":\"red\",\"line_alpha\":0.2,\"line_width\":2}}}},{\"type\":\"object\",\"name\":\"GlyphRenderer\",\"id\":\"p3415\",\"attributes\":{\"data_source\":{\"type\":\"object\",\"name\":\"ColumnDataSource\",\"id\":\"p3409\",\"attributes\":{\"selected\":{\"type\":\"object\",\"name\":\"Selection\",\"id\":\"p3410\",\"attributes\":{\"indices\":[],\"line_indices\":[]}},\"selection_policy\":{\"type\":\"object\",\"name\":\"UnionRenderers\",\"id\":\"p3411\"},\"data\":{\"type\":\"map\",\"entries\":[[\"x0\",[21.4]],[\"y0\",[0.0]],[\"x1\",[21.4]],[\"y1\",[473.95]]]}}},\"view\":{\"type\":\"object\",\"name\":\"CDSView\",\"id\":\"p3416\",\"attributes\":{\"filter\":{\"type\":\"object\",\"name\":\"AllIndices\",\"id\":\"p3417\"}}},\"glyph\":{\"type\":\"object\",\"name\":\"Segment\",\"id\":\"p3412\",\"attributes\":{\"x0\":{\"type\":\"field\",\"field\":\"x0\"},\"y0\":{\"type\":\"field\",\"field\":\"y0\"},\"x1\":{\"type\":\"field\",\"field\":\"x1\"},\"y1\":{\"type\":\"field\",\"field\":\"y1\"},\"line_color\":{\"type\":\"value\",\"value\":\"lightblue\"},\"line_width\":{\"type\":\"value\",\"value\":3}}},\"nonselection_glyph\":{\"type\":\"object\",\"name\":\"Segment\",\"id\":\"p3413\",\"attributes\":{\"x0\":{\"type\":\"field\",\"field\":\"x0\"},\"y0\":{\"type\":\"field\",\"field\":\"y0\"},\"x1\":{\"type\":\"field\",\"field\":\"x1\"},\"y1\":{\"type\":\"field\",\"field\":\"y1\"},\"line_color\":{\"type\":\"value\",\"value\":\"lightblue\"},\"line_alpha\":{\"type\":\"value\",\"value\":0.1},\"line_width\":{\"type\":\"value\",\"value\":3}}},\"muted_glyph\":{\"type\":\"object\",\"name\":\"Segment\",\"id\":\"p3414\",\"attributes\":{\"x0\":{\"type\":\"field\",\"field\":\"x0\"},\"y0\":{\"type\":\"field\",\"field\":\"y0\"},\"x1\":{\"type\":\"field\",\"field\":\"x1\"},\"y1\":{\"type\":\"field\",\"field\":\"y1\"},\"line_color\":{\"type\":\"value\",\"value\":\"lightblue\"},\"line_alpha\":{\"type\":\"value\",\"value\":0.2},\"line_width\":{\"type\":\"value\",\"value\":3}}}}},{\"type\":\"object\",\"name\":\"GlyphRenderer\",\"id\":\"p3424\",\"attributes\":{\"data_source\":{\"type\":\"object\",\"name\":\"ColumnDataSource\",\"id\":\"p3418\",\"attributes\":{\"selected\":{\"type\":\"object\",\"name\":\"Selection\",\"id\":\"p3419\",\"attributes\":{\"indices\":[],\"line_indices\":[]}},\"selection_policy\":{\"type\":\"object\",\"name\":\"UnionRenderers\",\"id\":\"p3420\"},\"data\":{\"type\":\"map\",\"entries\":[[\"x0\",[22.9]],[\"y0\",[0.0]],[\"x1\",[22.9]],[\"y1\",[473.95]]]}}},\"view\":{\"type\":\"object\",\"name\":\"CDSView\",\"id\":\"p3425\",\"attributes\":{\"filter\":{\"type\":\"object\",\"name\":\"AllIndices\",\"id\":\"p3426\"}}},\"glyph\":{\"type\":\"object\",\"name\":\"Segment\",\"id\":\"p3421\",\"attributes\":{\"x0\":{\"type\":\"field\",\"field\":\"x0\"},\"y0\":{\"type\":\"field\",\"field\":\"y0\"},\"x1\":{\"type\":\"field\",\"field\":\"x1\"},\"y1\":{\"type\":\"field\",\"field\":\"y1\"},\"line_color\":{\"type\":\"value\",\"value\":\"darkseagreen\"}}},\"nonselection_glyph\":{\"type\":\"object\",\"name\":\"Segment\",\"id\":\"p3422\",\"attributes\":{\"x0\":{\"type\":\"field\",\"field\":\"x0\"},\"y0\":{\"type\":\"field\",\"field\":\"y0\"},\"x1\":{\"type\":\"field\",\"field\":\"x1\"},\"y1\":{\"type\":\"field\",\"field\":\"y1\"},\"line_color\":{\"type\":\"value\",\"value\":\"darkseagreen\"},\"line_alpha\":{\"type\":\"value\",\"value\":0.1}}},\"muted_glyph\":{\"type\":\"object\",\"name\":\"Segment\",\"id\":\"p3423\",\"attributes\":{\"x0\":{\"type\":\"field\",\"field\":\"x0\"},\"y0\":{\"type\":\"field\",\"field\":\"y0\"},\"x1\":{\"type\":\"field\",\"field\":\"x1\"},\"y1\":{\"type\":\"field\",\"field\":\"y1\"},\"line_color\":{\"type\":\"value\",\"value\":\"darkseagreen\"},\"line_alpha\":{\"type\":\"value\",\"value\":0.2}}}}},{\"type\":\"object\",\"name\":\"GlyphRenderer\",\"id\":\"p3433\",\"attributes\":{\"data_source\":{\"type\":\"object\",\"name\":\"ColumnDataSource\",\"id\":\"p3427\",\"attributes\":{\"selected\":{\"type\":\"object\",\"name\":\"Selection\",\"id\":\"p3428\",\"attributes\":{\"indices\":[],\"line_indices\":[]}},\"selection_policy\":{\"type\":\"object\",\"name\":\"UnionRenderers\",\"id\":\"p3429\"},\"data\":{\"type\":\"map\",\"entries\":[[\"x0\",[19.9]],[\"y0\",[0.0]],[\"x1\",[19.9]],[\"y1\",[473.95]]]}}},\"view\":{\"type\":\"object\",\"name\":\"CDSView\",\"id\":\"p3434\",\"attributes\":{\"filter\":{\"type\":\"object\",\"name\":\"AllIndices\",\"id\":\"p3435\"}}},\"glyph\":{\"type\":\"object\",\"name\":\"Segment\",\"id\":\"p3430\",\"attributes\":{\"x0\":{\"type\":\"field\",\"field\":\"x0\"},\"y0\":{\"type\":\"field\",\"field\":\"y0\"},\"x1\":{\"type\":\"field\",\"field\":\"x1\"},\"y1\":{\"type\":\"field\",\"field\":\"y1\"},\"line_color\":{\"type\":\"value\",\"value\":\"darkseagreen\"}}},\"nonselection_glyph\":{\"type\":\"object\",\"name\":\"Segment\",\"id\":\"p3431\",\"attributes\":{\"x0\":{\"type\":\"field\",\"field\":\"x0\"},\"y0\":{\"type\":\"field\",\"field\":\"y0\"},\"x1\":{\"type\":\"field\",\"field\":\"x1\"},\"y1\":{\"type\":\"field\",\"field\":\"y1\"},\"line_color\":{\"type\":\"value\",\"value\":\"darkseagreen\"},\"line_alpha\":{\"type\":\"value\",\"value\":0.1}}},\"muted_glyph\":{\"type\":\"object\",\"name\":\"Segment\",\"id\":\"p3432\",\"attributes\":{\"x0\":{\"type\":\"field\",\"field\":\"x0\"},\"y0\":{\"type\":\"field\",\"field\":\"y0\"},\"x1\":{\"type\":\"field\",\"field\":\"x1\"},\"y1\":{\"type\":\"field\",\"field\":\"y1\"},\"line_color\":{\"type\":\"value\",\"value\":\"darkseagreen\"},\"line_alpha\":{\"type\":\"value\",\"value\":0.2}}}}},{\"type\":\"object\",\"name\":\"GlyphRenderer\",\"id\":\"p3442\",\"attributes\":{\"data_source\":{\"type\":\"object\",\"name\":\"ColumnDataSource\",\"id\":\"p3436\",\"attributes\":{\"selected\":{\"type\":\"object\",\"name\":\"Selection\",\"id\":\"p3437\",\"attributes\":{\"indices\":[],\"line_indices\":[]}},\"selection_policy\":{\"type\":\"object\",\"name\":\"UnionRenderers\",\"id\":\"p3438\"},\"data\":{\"type\":\"map\",\"entries\":[[\"x\",[21.4]],[\"y\",[473.95]],[\"size\",[20]]]}}},\"view\":{\"type\":\"object\",\"name\":\"CDSView\",\"id\":\"p3443\",\"attributes\":{\"filter\":{\"type\":\"object\",\"name\":\"AllIndices\",\"id\":\"p3444\"}}},\"glyph\":{\"type\":\"object\",\"name\":\"Scatter\",\"id\":\"p3439\",\"attributes\":{\"x\":{\"type\":\"field\",\"field\":\"x\"},\"y\":{\"type\":\"field\",\"field\":\"y\"},\"size\":{\"type\":\"field\",\"field\":\"size\"},\"line_color\":{\"type\":\"value\",\"value\":\"lightblue\"},\"line_width\":{\"type\":\"value\",\"value\":3},\"fill_color\":{\"type\":\"value\",\"value\":null},\"marker\":{\"type\":\"value\",\"value\":\"square_cross\"}}},\"nonselection_glyph\":{\"type\":\"object\",\"name\":\"Scatter\",\"id\":\"p3440\",\"attributes\":{\"x\":{\"type\":\"field\",\"field\":\"x\"},\"y\":{\"type\":\"field\",\"field\":\"y\"},\"size\":{\"type\":\"field\",\"field\":\"size\"},\"line_color\":{\"type\":\"value\",\"value\":\"lightblue\"},\"line_alpha\":{\"type\":\"value\",\"value\":0.1},\"line_width\":{\"type\":\"value\",\"value\":3},\"fill_color\":{\"type\":\"value\",\"value\":null},\"fill_alpha\":{\"type\":\"value\",\"value\":0.1},\"hatch_alpha\":{\"type\":\"value\",\"value\":0.1},\"marker\":{\"type\":\"value\",\"value\":\"square_cross\"}}},\"muted_glyph\":{\"type\":\"object\",\"name\":\"Scatter\",\"id\":\"p3441\",\"attributes\":{\"x\":{\"type\":\"field\",\"field\":\"x\"},\"y\":{\"type\":\"field\",\"field\":\"y\"},\"size\":{\"type\":\"field\",\"field\":\"size\"},\"line_color\":{\"type\":\"value\",\"value\":\"lightblue\"},\"line_alpha\":{\"type\":\"value\",\"value\":0.2},\"line_width\":{\"type\":\"value\",\"value\":3},\"fill_color\":{\"type\":\"value\",\"value\":null},\"fill_alpha\":{\"type\":\"value\",\"value\":0.2},\"hatch_alpha\":{\"type\":\"value\",\"value\":0.2},\"marker\":{\"type\":\"value\",\"value\":\"square_cross\"}}}}}],\"toolbar\":{\"type\":\"object\",\"name\":\"Toolbar\",\"id\":\"p3329\",\"attributes\":{\"tools\":[{\"type\":\"object\",\"name\":\"PanTool\",\"id\":\"p3344\"},{\"type\":\"object\",\"name\":\"WheelZoomTool\",\"id\":\"p3345\",\"attributes\":{\"renderers\":\"auto\"}},{\"type\":\"object\",\"name\":\"BoxZoomTool\",\"id\":\"p3346\",\"attributes\":{\"overlay\":{\"type\":\"object\",\"name\":\"BoxAnnotation\",\"id\":\"p3347\",\"attributes\":{\"syncable\":false,\"line_color\":\"black\",\"line_alpha\":1.0,\"line_width\":2,\"line_dash\":[4,4],\"fill_color\":\"lightgrey\",\"fill_alpha\":0.5,\"level\":\"overlay\",\"visible\":false,\"left\":{\"type\":\"number\",\"value\":\"nan\"},\"right\":{\"type\":\"number\",\"value\":\"nan\"},\"top\":{\"type\":\"number\",\"value\":\"nan\"},\"bottom\":{\"type\":\"number\",\"value\":\"nan\"},\"left_units\":\"canvas\",\"right_units\":\"canvas\",\"top_units\":\"canvas\",\"bottom_units\":\"canvas\",\"handles\":{\"type\":\"object\",\"name\":\"BoxInteractionHandles\",\"id\":\"p3353\",\"attributes\":{\"all\":{\"type\":\"object\",\"name\":\"AreaVisuals\",\"id\":\"p3352\",\"attributes\":{\"fill_color\":\"white\",\"hover_fill_color\":\"lightgray\"}}}}}}}},{\"type\":\"object\",\"name\":\"SaveTool\",\"id\":\"p3354\"},{\"type\":\"object\",\"name\":\"ResetTool\",\"id\":\"p3355\"},{\"type\":\"object\",\"name\":\"HelpTool\",\"id\":\"p3356\"},{\"type\":\"object\",\"name\":\"HoverTool\",\"id\":\"p3388\",\"attributes\":{\"renderers\":\"auto\",\"tooltips\":[[\"Y-val\",\"@y{0.00}\"]]}}]}},\"left\":[{\"type\":\"object\",\"name\":\"LinearAxis\",\"id\":\"p3339\",\"attributes\":{\"ticker\":{\"type\":\"object\",\"name\":\"BasicTicker\",\"id\":\"p3340\",\"attributes\":{\"mantissas\":[1,2,5]}},\"formatter\":{\"type\":\"object\",\"name\":\"BasicTickFormatter\",\"id\":\"p3341\"},\"axis_label\":\"km/h\",\"axis_label_standoff\":10,\"axis_label_text_color\":\"#E0E0E0\",\"axis_label_text_font\":\"Helvetica\",\"axis_label_text_font_size\":\"1.25em\",\"axis_label_text_font_style\":\"normal\",\"major_label_policy\":{\"type\":\"object\",\"name\":\"AllLabels\",\"id\":\"p3342\"},\"major_label_text_color\":\"#E0E0E0\",\"major_label_text_font\":\"Helvetica\",\"major_label_text_font_size\":\"1.025em\",\"axis_line_color\":\"#E0E0E0\",\"axis_line_alpha\":0,\"major_tick_line_color\":\"#E0E0E0\",\"major_tick_line_alpha\":0,\"minor_tick_line_color\":\"#E0E0E0\",\"minor_tick_line_alpha\":0}},{\"type\":\"object\",\"name\":\"LinearAxis\",\"id\":\"p3359\",\"attributes\":{\"y_range_name\":\"altitudeFt\",\"ticker\":{\"type\":\"object\",\"name\":\"BasicTicker\",\"id\":\"p3360\",\"attributes\":{\"mantissas\":[1,2,5]}},\"formatter\":{\"type\":\"object\",\"name\":\"BasicTickFormatter\",\"id\":\"p3361\"},\"axis_label\":\"Alt (ft)\",\"axis_label_standoff\":10,\"axis_label_text_color\":\"#E0E0E0\",\"axis_label_text_font\":\"Helvetica\",\"axis_label_text_font_size\":\"1.25em\",\"axis_label_text_font_style\":\"normal\",\"major_label_policy\":{\"type\":\"object\",\"name\":\"AllLabels\",\"id\":\"p3362\"},\"major_label_text_color\":\"#E0E0E0\",\"major_label_text_font\":\"Helvetica\",\"major_label_text_font_size\":\"1.025em\",\"axis_line_color\":\"#E0E0E0\",\"axis_line_alpha\":0,\"major_tick_line_color\":\"#E0E0E0\",\"major_tick_line_alpha\":0,\"minor_tick_line_color\":\"#E0E0E0\",\"minor_tick_line_alpha\":0}},{\"type\":\"object\",\"name\":\"LinearAxis\",\"id\":\"p3363\",\"attributes\":{\"y_range_name\":\"angle\",\"ticker\":{\"type\":\"object\",\"name\":\"BasicTicker\",\"id\":\"p3364\",\"attributes\":{\"mantissas\":[1,2,5]}},\"formatter\":{\"type\":\"object\",\"name\":\"BasicTickFormatter\",\"id\":\"p3365\"},\"axis_label\":\"angle\",\"axis_label_standoff\":10,\"axis_label_text_color\":\"#E0E0E0\",\"axis_label_text_font\":\"Helvetica\",\"axis_label_text_font_size\":\"1.25em\",\"axis_label_text_font_style\":\"normal\",\"major_label_policy\":{\"type\":\"object\",\"name\":\"AllLabels\",\"id\":\"p3366\"},\"major_label_text_color\":\"#E0E0E0\",\"major_label_text_font\":\"Helvetica\",\"major_label_text_font_size\":\"1.025em\",\"axis_line_color\":\"#E0E0E0\",\"axis_line_alpha\":0,\"major_tick_line_color\":\"#E0E0E0\",\"major_tick_line_alpha\":0,\"minor_tick_line_color\":\"#E0E0E0\",\"minor_tick_line_alpha\":0}}],\"below\":[{\"type\":\"object\",\"name\":\"LinearAxis\",\"id\":\"p3334\",\"attributes\":{\"ticker\":{\"type\":\"object\",\"name\":\"BasicTicker\",\"id\":\"p3335\",\"attributes\":{\"mantissas\":[1,2,5]}},\"formatter\":{\"type\":\"object\",\"name\":\"BasicTickFormatter\",\"id\":\"p3336\"},\"axis_label\":\"seconds from exit\",\"axis_label_standoff\":10,\"axis_label_text_color\":\"#E0E0E0\",\"axis_label_text_font\":\"Helvetica\",\"axis_label_text_font_size\":\"1.25em\",\"axis_label_text_font_style\":\"normal\",\"major_label_policy\":{\"type\":\"object\",\"name\":\"AllLabels\",\"id\":\"p3337\"},\"major_label_text_color\":\"#E0E0E0\",\"major_label_text_font\":\"Helvetica\",\"major_label_text_font_size\":\"1.025em\",\"axis_line_color\":\"#E0E0E0\",\"axis_line_alpha\":0,\"major_tick_line_color\":\"#E0E0E0\",\"major_tick_line_alpha\":0,\"minor_tick_line_color\":\"#E0E0E0\",\"minor_tick_line_alpha\":0}}],\"center\":[{\"type\":\"object\",\"name\":\"Grid\",\"id\":\"p3338\",\"attributes\":{\"axis\":{\"id\":\"p3334\"},\"grid_line_color\":\"#E0E0E0\",\"grid_line_alpha\":0.25}},{\"type\":\"object\",\"name\":\"Grid\",\"id\":\"p3343\",\"attributes\":{\"dimension\":1,\"axis\":{\"id\":\"p3339\"},\"grid_line_color\":\"#E0E0E0\",\"grid_line_alpha\":0.25}},{\"type\":\"object\",\"name\":\"Legend\",\"id\":\"p3376\",\"attributes\":{\"border_line_alpha\":0,\"background_fill_color\":\"#20262B\",\"background_fill_alpha\":0.25,\"label_text_color\":\"#E0E0E0\",\"label_text_font\":\"Helvetica\",\"label_text_font_size\":\"1.025em\",\"label_standoff\":8,\"glyph_width\":15,\"spacing\":8,\"items\":[{\"type\":\"object\",\"name\":\"LegendItem\",\"id\":\"p3377\",\"attributes\":{\"label\":{\"type\":\"value\",\"value\":\"Alt (ft)\"},\"renderers\":[{\"id\":\"p3373\"}]}},{\"type\":\"object\",\"name\":\"LegendItem\",\"id\":\"p3387\",\"attributes\":{\"label\":{\"type\":\"value\",\"value\":\"angle\"},\"renderers\":[{\"id\":\"p3384\"}]}},{\"type\":\"object\",\"name\":\"LegendItem\",\"id\":\"p3398\",\"attributes\":{\"label\":{\"type\":\"value\",\"value\":\"speed\"},\"renderers\":[{\"id\":\"p3395\"}]}},{\"type\":\"object\",\"name\":\"LegendItem\",\"id\":\"p3408\",\"attributes\":{\"label\":{\"type\":\"value\",\"value\":\"H-speed\"},\"renderers\":[{\"id\":\"p3405\"}]}}]}}],\"background_fill_color\":\"#20262B\",\"border_fill_color\":\"#15191C\"}}]}};\n",
       "  const render_items = [{\"docid\":\"25bbab41-a21d-430f-98bd-13f5e1447782\",\"roots\":{\"p3320\":\"a69948d6-19e5-421a-bcd9-b8fd6a3dcda7\"},\"root_ids\":[\"p3320\"]}];\n",
       "  void root.Bokeh.embed.embed_items_notebook(docs_json, render_items);\n",
       "  }\n",
       "  if (root.Bokeh !== undefined) {\n",
       "    embed_document(root);\n",
       "  } else {\n",
       "    let attempts = 0;\n",
       "    const timer = setInterval(function(root) {\n",
       "      if (root.Bokeh !== undefined) {\n",
       "        clearInterval(timer);\n",
       "        embed_document(root);\n",
       "      } else {\n",
       "        attempts++;\n",
       "        if (attempts > 100) {\n",
       "          clearInterval(timer);\n",
       "          console.log(\"Bokeh: ERROR: Unable to run BokehJS code because BokehJS library is missing\");\n",
       "        }\n",
       "      }\n",
       "    }, 10, root)\n",
       "  }\n",
       "})(window);"
      ],
      "application/vnd.bokehjs_exec.v0+json": ""
     },
     "metadata": {
      "application/vnd.bokehjs_exec.v0+json": {
       "id": "p3320"
      }
     },
     "output_type": "display_data"
    }
   ],
   "source": [
    "allJumpsPlot = initializePlot('All jumps in set')\n",
    "jumpNumber = 0\n",
    "mixColor = 0\n",
    "for resultRef in sorted(jumpResults.keys()):\n",
    "    if ignoreBaseline and 'baseline' in resultRef:\n",
    "        continue\n",
    "    jumpResult = jumpResults[resultRef]\n",
    "    if jumpResult.score > 0.0:\n",
    "        validJumpStatus = '<hr><h1><span style=\"color: %s\">%s jump - %s - score = %.02f km/h</span></h1>' % (jumpResult.color, resultRef, jumpResult.result, jumpResult.score)        \n",
    "    else:\n",
    "        validJumpStatus = '<hr><h1><span style=\"color: %s\">%s jump - %s</span></h1>' % (jumpResult.color, resultRef, jumpResult.result)\n",
    "    display(widgets.HTML(validJumpStatus))\n",
    "\n",
    "    maxSpeed = jumpResult.maxSpeed\n",
    "    window = jumpResult.window\n",
    "    mixColor = (mixColor+1)%len(SPEED_COLORS)\n",
    "    if jumpResult.score > 0.0:\n",
    "        display(widgets.HTML('<h3>Max speed = {0:,.0f}; '.format(maxSpeed)+('exit at %d m (%d ft), end scoring window at %d m (%d ft)'%(window.start, 3.2808*window.start, window.end, 3.2808*window.end))))\n",
    "        if not isValidMinimumAltitude(jumpResult.data.altitudeAGL.max()):\n",
    "            display(widgets.HTML('<span style=\"color: yellow\"><span style=\"font-weight: bold\">Warning:</span> exit altitude ASL was lower than the minimum scoring altitude according to IPC and USPA.'))\n",
    "        display(widgets.HTML('</h3>'))\n",
    "        # TODO: Move this to an in-notebook function or module.\n",
    "        displayJumpDataIn(jumpResult.table)\n",
    "        individualPlot = initializePlot(resultRef)\n",
    "        individualPlot = initializeExtraYRanges(individualPlot, startY = min(jumpResult.data.altitudeAGLFt)-500.0, endY = max(jumpResult.data.altitudeAGLFt)+500.0)\n",
    "        graphAltitude(individualPlot, jumpResult)\n",
    "        graphAngle(individualPlot, jumpResult)\n",
    "        hoverValue = bm.HoverTool(tooltips = [ ('Y-val', '@y{0.00}'), ])\n",
    "        individualPlot.add_tools(hoverValue)\n",
    "        graphJumpResult(individualPlot,\n",
    "                        jumpResult,\n",
    "                        lineColor = SPEED_COLORS[0])\n",
    "        graphJumpResult(allJumpsPlot,\n",
    "                        jumpResult,\n",
    "                        lineColor = SPEED_COLORS[mixColor],\n",
    "                        legend = '%s - %.2f' % (resultRef, jumpResult.score),\n",
    "                        showIt = False)"
   ]
  },
  {
   "attachments": {},
   "cell_type": "markdown",
   "id": "a5d31990-f5c2-43d9-817b-b50a35740834",
   "metadata": {},
   "source": [
    "---\n",
    "## Summary of all speed skydives in the data lake"
   ]
  },
  {
   "cell_type": "markdown",
   "id": "491440ae-2efa-47fa-856c-25825a6fa4de",
   "metadata": {},
   "source": [
    "**<a href='https://intimescoring.com/Results/EventResults?dbid=100&mid=1074&smid=0&mdcid=1273&dseid=0' target='_blank'>InTime Scoring - 2024 USPA Speed Open results</a>**"
   ]
  },
  {
   "cell_type": "code",
   "execution_count": 53,
   "id": "17991fcf-e215-4a53-a6ff-d9a64cbafd94",
   "metadata": {
    "jupyter": {
     "source_hidden": true
    }
   },
   "outputs": [
    {
     "data": {
      "text/html": [
       "<div>\n",
       "<style scoped>\n",
       "    .dataframe tbody tr th:only-of-type {\n",
       "        vertical-align: middle;\n",
       "    }\n",
       "\n",
       "    .dataframe tbody tr th {\n",
       "        vertical-align: top;\n",
       "    }\n",
       "\n",
       "    .dataframe thead th {\n",
       "        text-align: right;\n",
       "    }\n",
       "</style>\n",
       "<table border=\"1\" class=\"dataframe\">\n",
       "  <thead>\n",
       "    <tr style=\"text-align: right;\">\n",
       "      <th></th>\n",
       "      <th>score</th>\n",
       "      <th>5.0</th>\n",
       "      <th>10.0</th>\n",
       "      <th>15.0</th>\n",
       "      <th>20.0</th>\n",
       "      <th>25.0</th>\n",
       "      <th>finalTime</th>\n",
       "      <th>maxSpeed</th>\n",
       "    </tr>\n",
       "  </thead>\n",
       "  <tbody>\n",
       "    <tr>\n",
       "      <th>data 00-00-00-baseline-10-50-09:v1</th>\n",
       "      <td>494</td>\n",
       "      <td>183</td>\n",
       "      <td>333</td>\n",
       "      <td>431</td>\n",
       "      <td>482</td>\n",
       "      <td>494</td>\n",
       "      <td>24.2</td>\n",
       "      <td>495</td>\n",
       "    </tr>\n",
       "    <tr>\n",
       "      <th>data 09-07-30:v1</th>\n",
       "      <td>482</td>\n",
       "      <td>179</td>\n",
       "      <td>325</td>\n",
       "      <td>420</td>\n",
       "      <td>471</td>\n",
       "      <td>477</td>\n",
       "      <td>24.5</td>\n",
       "      <td>485</td>\n",
       "    </tr>\n",
       "    <tr>\n",
       "      <th>data 10-09-20:v1</th>\n",
       "      <td>488</td>\n",
       "      <td>185</td>\n",
       "      <td>321</td>\n",
       "      <td>421</td>\n",
       "      <td>476</td>\n",
       "      <td>484</td>\n",
       "      <td>24.4</td>\n",
       "      <td>487</td>\n",
       "    </tr>\n",
       "    <tr>\n",
       "      <th>data 11-00-34:v1</th>\n",
       "      <td>476</td>\n",
       "      <td>185</td>\n",
       "      <td>333</td>\n",
       "      <td>430</td>\n",
       "      <td>481</td>\n",
       "      <td>315</td>\n",
       "      <td>24.9</td>\n",
       "      <td>481</td>\n",
       "    </tr>\n",
       "    <tr>\n",
       "      <th>data 12-24-08:v1</th>\n",
       "      <td>474</td>\n",
       "      <td>180</td>\n",
       "      <td>322</td>\n",
       "      <td>413</td>\n",
       "      <td>462</td>\n",
       "      <td>470</td>\n",
       "      <td>24.6</td>\n",
       "      <td>473</td>\n",
       "    </tr>\n",
       "  </tbody>\n",
       "</table>\n",
       "</div>"
      ],
      "text/plain": [
       "                                    score  5.0  10.0  15.0  20.0  25.0  \\\n",
       "data 00-00-00-baseline-10-50-09:v1    494  183   333   431   482   494   \n",
       "data 09-07-30:v1                      482  179   325   420   471   477   \n",
       "data 10-09-20:v1                      488  185   321   421   476   484   \n",
       "data 11-00-34:v1                      476  185   333   430   481   315   \n",
       "data 12-24-08:v1                      474  180   322   413   462   470   \n",
       "\n",
       "                                    finalTime  maxSpeed  \n",
       "data 00-00-00-baseline-10-50-09:v1       24.2       495  \n",
       "data 09-07-30:v1                         24.5       485  \n",
       "data 10-09-20:v1                         24.4       487  \n",
       "data 11-00-34:v1                         24.9       481  \n",
       "data 12-24-08:v1                         24.6       473  "
      ]
     },
     "metadata": {},
     "output_type": "display_data"
    },
    {
     "data": {
      "text/html": [
       "<div>\n",
       "<style scoped>\n",
       "    .dataframe tbody tr th:only-of-type {\n",
       "        vertical-align: middle;\n",
       "    }\n",
       "\n",
       "    .dataframe tbody tr th {\n",
       "        vertical-align: top;\n",
       "    }\n",
       "\n",
       "    .dataframe thead th {\n",
       "        text-align: right;\n",
       "    }\n",
       "</style>\n",
       "<table border=\"1\" class=\"dataframe\">\n",
       "  <thead>\n",
       "    <tr style=\"text-align: right;\">\n",
       "      <th></th>\n",
       "      <th>totalSpeed</th>\n",
       "      <th>meanSpeed</th>\n",
       "      <th>maxScore</th>\n",
       "    </tr>\n",
       "  </thead>\n",
       "  <tbody>\n",
       "    <tr>\n",
       "      <th>totalSpeed</th>\n",
       "      <td>2414.16</td>\n",
       "      <td>482.832</td>\n",
       "      <td>493.77</td>\n",
       "    </tr>\n",
       "  </tbody>\n",
       "</table>\n",
       "</div>"
      ],
      "text/plain": [
       "            totalSpeed  meanSpeed  maxScore\n",
       "totalSpeed     2414.16    482.832    493.77"
      ]
     },
     "metadata": {},
     "output_type": "display_data"
    },
    {
     "data": {
      "text/html": [
       "\n",
       "  <div id=\"f5d21f45-a2d4-4088-a5da-f136bc18b65b\" data-root-id=\"p2710\" style=\"display: contents;\"></div>\n"
      ]
     },
     "metadata": {},
     "output_type": "display_data"
    },
    {
     "data": {
      "application/javascript": [
       "(function(root) {\n",
       "  function embed_document(root) {\n",
       "  const docs_json = {\"bf08bfbc-084c-44b8-9b10-2b036802a807\":{\"version\":\"3.5.2\",\"title\":\"Bokeh Application\",\"roots\":[{\"type\":\"object\",\"name\":\"Figure\",\"id\":\"p2710\",\"attributes\":{\"width\":900,\"height\":500,\"x_range\":{\"type\":\"object\",\"name\":\"Range1d\",\"id\":\"p2720\",\"attributes\":{\"end\":35.0}},\"y_range\":{\"type\":\"object\",\"name\":\"Range1d\",\"id\":\"p2721\",\"attributes\":{\"end\":550.0}},\"x_scale\":{\"type\":\"object\",\"name\":\"LinearScale\",\"id\":\"p2722\"},\"y_scale\":{\"type\":\"object\",\"name\":\"LinearScale\",\"id\":\"p2723\"},\"title\":{\"type\":\"object\",\"name\":\"Title\",\"id\":\"p2713\",\"attributes\":{\"text\":\"All jumps in set\",\"text_color\":\"#E0E0E0\",\"text_font\":\"Helvetica\",\"text_font_size\":\"1.15em\"}},\"outline_line_color\":\"#E0E0E0\",\"outline_line_alpha\":0.25,\"renderers\":[{\"type\":\"object\",\"name\":\"GlyphRenderer\",\"id\":\"p2886\",\"attributes\":{\"data_source\":{\"type\":\"object\",\"name\":\"ColumnDataSource\",\"id\":\"p2880\",\"attributes\":{\"selected\":{\"type\":\"object\",\"name\":\"Selection\",\"id\":\"p2881\",\"attributes\":{\"indices\":[],\"line_indices\":[]}},\"selection_policy\":{\"type\":\"object\",\"name\":\"UnionRenderers\",\"id\":\"p2882\"},\"data\":{\"type\":\"map\",\"entries\":[[\"x\",{\"type\":\"ndarray\",\"array\":{\"type\":\"bytes\",\"data\":\"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\"},\"shape\":[199],\"dtype\":\"float64\",\"order\":\"little\"}],[\"y\",{\"type\":\"ndarray\",\"array\":{\"type\":\"bytes\",\"data\":\"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\"},\"shape\":[199],\"dtype\":\"float64\",\"order\":\"little\"}]]}}},\"view\":{\"type\":\"object\",\"name\":\"CDSView\",\"id\":\"p2887\",\"attributes\":{\"filter\":{\"type\":\"object\",\"name\":\"AllIndices\",\"id\":\"p2888\"}}},\"glyph\":{\"type\":\"object\",\"name\":\"Line\",\"id\":\"p2883\",\"attributes\":{\"x\":{\"type\":\"field\",\"field\":\"x\"},\"y\":{\"type\":\"field\",\"field\":\"y\"},\"line_color\":\"blue\",\"line_width\":2}},\"nonselection_glyph\":{\"type\":\"object\",\"name\":\"Line\",\"id\":\"p2884\",\"attributes\":{\"x\":{\"type\":\"field\",\"field\":\"x\"},\"y\":{\"type\":\"field\",\"field\":\"y\"},\"line_color\":\"blue\",\"line_alpha\":0.1,\"line_width\":2}},\"muted_glyph\":{\"type\":\"object\",\"name\":\"Line\",\"id\":\"p2885\",\"attributes\":{\"x\":{\"type\":\"field\",\"field\":\"x\"},\"y\":{\"type\":\"field\",\"field\":\"y\"},\"line_color\":\"blue\",\"line_alpha\":0.2,\"line_width\":2}}}},{\"type\":\"object\",\"name\":\"GlyphRenderer\",\"id\":\"p3030\",\"attributes\":{\"data_source\":{\"type\":\"object\",\"name\":\"ColumnDataSource\",\"id\":\"p3024\",\"attributes\":{\"selected\":{\"type\":\"object\",\"name\":\"Selection\",\"id\":\"p3025\",\"attributes\":{\"indices\":[],\"line_indices\":[]}},\"selection_policy\":{\"type\":\"object\",\"name\":\"UnionRenderers\",\"id\":\"p3026\"},\"data\":{\"type\":\"map\",\"entries\":[[\"x\",{\"type\":\"ndarray\",\"array\":{\"type\":\"bytes\",\"data\":\"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\"},\"shape\":[200],\"dtype\":\"float64\",\"order\":\"little\"}],[\"y\",{\"type\":\"ndarray\",\"array\":{\"type\":\"bytes\",\"data\":\"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\"},\"shape\":[200],\"dtype\":\"float64\",\"order\":\"little\"}]]}}},\"view\":{\"type\":\"object\",\"name\":\"CDSView\",\"id\":\"p3031\",\"attributes\":{\"filter\":{\"type\":\"object\",\"name\":\"AllIndices\",\"id\":\"p3032\"}}},\"glyph\":{\"type\":\"object\",\"name\":\"Line\",\"id\":\"p3027\",\"attributes\":{\"x\":{\"type\":\"field\",\"field\":\"x\"},\"y\":{\"type\":\"field\",\"field\":\"y\"},\"line_color\":\"tomato\",\"line_width\":2}},\"nonselection_glyph\":{\"type\":\"object\",\"name\":\"Line\",\"id\":\"p3028\",\"attributes\":{\"x\":{\"type\":\"field\",\"field\":\"x\"},\"y\":{\"type\":\"field\",\"field\":\"y\"},\"line_color\":\"tomato\",\"line_alpha\":0.1,\"line_width\":2}},\"muted_glyph\":{\"type\":\"object\",\"name\":\"Line\",\"id\":\"p3029\",\"attributes\":{\"x\":{\"type\":\"field\",\"field\":\"x\"},\"y\":{\"type\":\"field\",\"field\":\"y\"},\"line_color\":\"tomato\",\"line_alpha\":0.2,\"line_width\":2}}}},{\"type\":\"object\",\"name\":\"GlyphRenderer\",\"id\":\"p3173\",\"attributes\":{\"data_source\":{\"type\":\"object\",\"name\":\"ColumnDataSource\",\"id\":\"p3167\",\"attributes\":{\"selected\":{\"type\":\"object\",\"name\":\"Selection\",\"id\":\"p3168\",\"attributes\":{\"indices\":[],\"line_indices\":[]}},\"selection_policy\":{\"type\":\"object\",\"name\":\"UnionRenderers\",\"id\":\"p3169\"},\"data\":{\"type\":\"map\",\"entries\":[[\"x\",{\"type\":\"ndarray\",\"array\":{\"type\":\"bytes\",\"data\":\"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\"},\"shape\":[207],\"dtype\":\"float64\",\"order\":\"little\"}],[\"y\",{\"type\":\"ndarray\",\"array\":{\"type\":\"bytes\",\"data\":\"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\"},\"shape\":[207],\"dtype\":\"float64\",\"order\":\"little\"}]]}}},\"view\":{\"type\":\"object\",\"name\":\"CDSView\",\"id\":\"p3174\",\"attributes\":{\"filter\":{\"type\":\"object\",\"name\":\"AllIndices\",\"id\":\"p3175\"}}},\"glyph\":{\"type\":\"object\",\"name\":\"Line\",\"id\":\"p3170\",\"attributes\":{\"x\":{\"type\":\"field\",\"field\":\"x\"},\"y\":{\"type\":\"field\",\"field\":\"y\"},\"line_color\":\"turquoise\",\"line_width\":2}},\"nonselection_glyph\":{\"type\":\"object\",\"name\":\"Line\",\"id\":\"p3171\",\"attributes\":{\"x\":{\"type\":\"field\",\"field\":\"x\"},\"y\":{\"type\":\"field\",\"field\":\"y\"},\"line_color\":\"turquoise\",\"line_alpha\":0.1,\"line_width\":2}},\"muted_glyph\":{\"type\":\"object\",\"name\":\"Line\",\"id\":\"p3172\",\"attributes\":{\"x\":{\"type\":\"field\",\"field\":\"x\"},\"y\":{\"type\":\"field\",\"field\":\"y\"},\"line_color\":\"turquoise\",\"line_alpha\":0.2,\"line_width\":2}}}},{\"type\":\"object\",\"name\":\"GlyphRenderer\",\"id\":\"p3316\",\"attributes\":{\"data_source\":{\"type\":\"object\",\"name\":\"ColumnDataSource\",\"id\":\"p3310\",\"attributes\":{\"selected\":{\"type\":\"object\",\"name\":\"Selection\",\"id\":\"p3311\",\"attributes\":{\"indices\":[],\"line_indices\":[]}},\"selection_policy\":{\"type\":\"object\",\"name\":\"UnionRenderers\",\"id\":\"p3312\"},\"data\":{\"type\":\"map\",\"entries\":[[\"x\",{\"type\":\"ndarray\",\"array\":{\"type\":\"bytes\",\"data\":\"AAAAAAAAAACamZmZmZm5P5qZmZmZmck/MzMzMzMz0z+amZmZmZnZPwAAAAAAAOA/MzMzMzMz4z9mZmZmZmbmP5qZmZmZmek/zczMzMzM7D8AAAAAAADwP5qZmZmZmfE/MzMzMzMz8z/NzMzMzMz0P2ZmZmZmZvY/AAAAAAAA+D+amZmZmZn5PzMzMzMzM/s/zczMzMzM/D9mZmZmZmb+PwAAAAAAAABAzczMzMzMAECamZmZmZkBQGZmZmZmZgJAMzMzMzMzA0AAAAAAAAAEQM3MzMzMzARAmpmZmZmZBUBmZmZmZmYGQDMzMzMzMwdAAAAAAAAACEDNzMzMzMwIQJqZmZmZmQlAZmZmZmZmCkAzMzMzMzMLQAAAAAAAAAxAzczMzMzMDECamZmZmZkNQGZmZmZmZg5AMzMzMzMzD0BmZmZmZmYQQM3MzMzMzBBAMzMzMzMzEUCamZmZmZkRQGZmZmZmZhJAzczMzMzMEkAzMzMzMzMTQJqZmZmZmRNAZmZmZmZmFEDNzMzMzMwUQJqZmZmZmRVAAAAAAAAAFkBmZmZmZmYWQM3MzMzMzBZAMzMzMzMzF0AAAAAAAAAYQGZmZmZmZhhAzczMzMzMGEAzMzMzMzMZQAAAAAAAABpAZmZmZmZmGkDNzMzMzMwaQDMzMzMzMxtAmpmZmZmZG0BmZmZmZmYcQDMzMzMzMx1AmpmZmZmZHUAAAAAAAAAeQGZmZmZmZh5AzczMzMzMHkAzMzMzMzMfQJqZmZmZmR9AZmZmZmZmIECamZmZmZkgQM3MzMzMzCBAAAAAAAAAIUAzMzMzMzMhQGZmZmZmZiFAmpmZmZmZIUDNzMzMzMwhQDMzMzMzMyJAmpmZmZmZIkDNzMzMzMwiQAAAAAAAACNAMzMzMzMzI0BmZmZmZmYjQJqZmZmZmSNAzczMzMzMI0BmZmZmZmYkQJqZmZmZmSRAzczMzMzMJEAAAAAAAAAlQDMzMzMzMyVAZmZmZmZmJUAAAAAAAAAmQDMzMzMzMyZAmpmZmZmZJkDNzMzMzMwmQAAAAAAAACdAMzMzMzMzJ0BmZmZmZmYnQJqZmZmZmSdAzczMzMzMJ0AzMzMzMzMoQGZmZmZmZihAmpmZmZmZKEDNzMzMzMwoQAAAAAAAAClAMzMzMzMzKUCamZmZmZkpQM3MzMzMzClAZmZmZmZmKkCamZmZmZkqQAAAAAAAACtAMzMzMzMzK0BmZmZmZmYrQJqZmZmZmStAzczMzMzMK0AzMzMzMzMsQJqZmZmZmSxAzczMzMzMLEAAAAAAAAAtQDMzMzMzMy1AZmZmZmZmLUCamZmZmZktQM3MzMzMzC1AMzMzMzMzLkBmZmZmZmYuQM3MzMzMzC5AAAAAAAAAL0BmZmZmZmYvQJqZmZmZmS9AzczMzMzML0AAAAAAAAAwQJqZmZmZGTBAzczMzMxMMEBmZmZmZmYwQAAAAAAAgDBAmpmZmZmZMEDNzMzMzMwwQGZmZmZm5jBAAAAAAAAAMUCamZmZmRkxQDMzMzMzMzFAZmZmZmZmMUAAAAAAAIAxQJqZmZmZmTFAMzMzMzOzMUDNzMzMzMwxQGZmZmZm5jFAmpmZmZkZMkAzMzMzMzMyQM3MzMzMTDJAAAAAAACAMkCamZmZmZkyQDMzMzMzszJAzczMzMzMMkBmZmZmZuYyQJqZmZmZGTNAzczMzMxMM0BmZmZmZmYzQAAAAAAAgDNAmpmZmZmZM0AzMzMzM7MzQGZmZmZm5jNAAAAAAAAANECamZmZmRk0QDMzMzMzMzRAzczMzMxMNEAAAAAAAIA0QJqZmZmZmTRAMzMzMzOzNEDNzMzMzMw0QGZmZmZm5jRAmpmZmZkZNUDNzMzMzEw1QGZmZmZmZjVAAAAAAACANUCamZmZmZk1QDMzMzMzszVAZmZmZmbmNUCamZmZmRk2QDMzMzMzMzZAZmZmZmZmNkAAAAAAAIA2QJqZmZmZmTZAMzMzMzOzNkDNzMzMzMw2QGZmZmZm5jZAmpmZmZkZN0DNzMzMzEw3QGZmZmZmZjdAAAAAAACAN0CamZmZmZk3QDMzMzMzszdAzczMzMzMN0CamZmZmRk4QDMzMzMzMzhAzczMzMxMOEBmZmZmZmY4QAAAAAAAgDhAmpmZmZmZOEAzMzMzM7M4QM3MzMzMzDhAZmZmZmbmOEA=\"},\"shape\":[205],\"dtype\":\"float64\",\"order\":\"little\"}],[\"y\",{\"type\":\"ndarray\",\"array\":{\"type\":\"bytes\",\"data\":\"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\"},\"shape\":[205],\"dtype\":\"float64\",\"order\":\"little\"}]]}}},\"view\":{\"type\":\"object\",\"name\":\"CDSView\",\"id\":\"p3317\",\"attributes\":{\"filter\":{\"type\":\"object\",\"name\":\"AllIndices\",\"id\":\"p3318\"}}},\"glyph\":{\"type\":\"object\",\"name\":\"Line\",\"id\":\"p3313\",\"attributes\":{\"x\":{\"type\":\"field\",\"field\":\"x\"},\"y\":{\"type\":\"field\",\"field\":\"y\"},\"line_color\":\"deepskyblue\",\"line_width\":2}},\"nonselection_glyph\":{\"type\":\"object\",\"name\":\"Line\",\"id\":\"p3314\",\"attributes\":{\"x\":{\"type\":\"field\",\"field\":\"x\"},\"y\":{\"type\":\"field\",\"field\":\"y\"},\"line_color\":\"deepskyblue\",\"line_alpha\":0.1,\"line_width\":2}},\"muted_glyph\":{\"type\":\"object\",\"name\":\"Line\",\"id\":\"p3315\",\"attributes\":{\"x\":{\"type\":\"field\",\"field\":\"x\"},\"y\":{\"type\":\"field\",\"field\":\"y\"},\"line_color\":\"deepskyblue\",\"line_alpha\":0.2,\"line_width\":2}}}},{\"type\":\"object\",\"name\":\"GlyphRenderer\",\"id\":\"p3459\",\"attributes\":{\"data_source\":{\"type\":\"object\",\"name\":\"ColumnDataSource\",\"id\":\"p3453\",\"attributes\":{\"selected\":{\"type\":\"object\",\"name\":\"Selection\",\"id\":\"p3454\",\"attributes\":{\"indices\":[],\"line_indices\":[]}},\"selection_policy\":{\"type\":\"object\",\"name\":\"UnionRenderers\",\"id\":\"p3455\"},\"data\":{\"type\":\"map\",\"entries\":[[\"x\",{\"type\":\"ndarray\",\"array\":{\"type\":\"bytes\",\"data\":\"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\"},\"shape\":[204],\"dtype\":\"float64\",\"order\":\"little\"}],[\"y\",{\"type\":\"ndarray\",\"array\":{\"type\":\"bytes\",\"data\":\"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\"},\"shape\":[204],\"dtype\":\"float64\",\"order\":\"little\"}]]}}},\"view\":{\"type\":\"object\",\"name\":\"CDSView\",\"id\":\"p3460\",\"attributes\":{\"filter\":{\"type\":\"object\",\"name\":\"AllIndices\",\"id\":\"p3461\"}}},\"glyph\":{\"type\":\"object\",\"name\":\"Line\",\"id\":\"p3456\",\"attributes\":{\"x\":{\"type\":\"field\",\"field\":\"x\"},\"y\":{\"type\":\"field\",\"field\":\"y\"},\"line_color\":\"forestgreen\",\"line_width\":2}},\"nonselection_glyph\":{\"type\":\"object\",\"name\":\"Line\",\"id\":\"p3457\",\"attributes\":{\"x\":{\"type\":\"field\",\"field\":\"x\"},\"y\":{\"type\":\"field\",\"field\":\"y\"},\"line_color\":\"forestgreen\",\"line_alpha\":0.1,\"line_width\":2}},\"muted_glyph\":{\"type\":\"object\",\"name\":\"Line\",\"id\":\"p3458\",\"attributes\":{\"x\":{\"type\":\"field\",\"field\":\"x\"},\"y\":{\"type\":\"field\",\"field\":\"y\"},\"line_color\":\"forestgreen\",\"line_alpha\":0.2,\"line_width\":2}}}}],\"toolbar\":{\"type\":\"object\",\"name\":\"Toolbar\",\"id\":\"p2719\",\"attributes\":{\"tools\":[{\"type\":\"object\",\"name\":\"PanTool\",\"id\":\"p2734\"},{\"type\":\"object\",\"name\":\"WheelZoomTool\",\"id\":\"p2735\",\"attributes\":{\"renderers\":\"auto\"}},{\"type\":\"object\",\"name\":\"BoxZoomTool\",\"id\":\"p2736\",\"attributes\":{\"overlay\":{\"type\":\"object\",\"name\":\"BoxAnnotation\",\"id\":\"p2737\",\"attributes\":{\"syncable\":false,\"line_color\":\"black\",\"line_alpha\":1.0,\"line_width\":2,\"line_dash\":[4,4],\"fill_color\":\"lightgrey\",\"fill_alpha\":0.5,\"level\":\"overlay\",\"visible\":false,\"left\":{\"type\":\"number\",\"value\":\"nan\"},\"right\":{\"type\":\"number\",\"value\":\"nan\"},\"top\":{\"type\":\"number\",\"value\":\"nan\"},\"bottom\":{\"type\":\"number\",\"value\":\"nan\"},\"left_units\":\"canvas\",\"right_units\":\"canvas\",\"top_units\":\"canvas\",\"bottom_units\":\"canvas\",\"handles\":{\"type\":\"object\",\"name\":\"BoxInteractionHandles\",\"id\":\"p2743\",\"attributes\":{\"all\":{\"type\":\"object\",\"name\":\"AreaVisuals\",\"id\":\"p2742\",\"attributes\":{\"fill_color\":\"white\",\"hover_fill_color\":\"lightgray\"}}}}}}}},{\"type\":\"object\",\"name\":\"SaveTool\",\"id\":\"p2744\"},{\"type\":\"object\",\"name\":\"ResetTool\",\"id\":\"p2745\"},{\"type\":\"object\",\"name\":\"HelpTool\",\"id\":\"p2746\"}]}},\"left\":[{\"type\":\"object\",\"name\":\"LinearAxis\",\"id\":\"p2729\",\"attributes\":{\"ticker\":{\"type\":\"object\",\"name\":\"BasicTicker\",\"id\":\"p2730\",\"attributes\":{\"mantissas\":[1,2,5]}},\"formatter\":{\"type\":\"object\",\"name\":\"BasicTickFormatter\",\"id\":\"p2731\"},\"axis_label\":\"km/h\",\"axis_label_standoff\":10,\"axis_label_text_color\":\"#E0E0E0\",\"axis_label_text_font\":\"Helvetica\",\"axis_label_text_font_size\":\"1.25em\",\"axis_label_text_font_style\":\"normal\",\"major_label_policy\":{\"type\":\"object\",\"name\":\"AllLabels\",\"id\":\"p2732\"},\"major_label_text_color\":\"#E0E0E0\",\"major_label_text_font\":\"Helvetica\",\"major_label_text_font_size\":\"1.025em\",\"axis_line_color\":\"#E0E0E0\",\"axis_line_alpha\":0,\"major_tick_line_color\":\"#E0E0E0\",\"major_tick_line_alpha\":0,\"minor_tick_line_color\":\"#E0E0E0\",\"minor_tick_line_alpha\":0}}],\"below\":[{\"type\":\"object\",\"name\":\"LinearAxis\",\"id\":\"p2724\",\"attributes\":{\"ticker\":{\"type\":\"object\",\"name\":\"BasicTicker\",\"id\":\"p2725\",\"attributes\":{\"mantissas\":[1,2,5]}},\"formatter\":{\"type\":\"object\",\"name\":\"BasicTickFormatter\",\"id\":\"p2726\"},\"axis_label\":\"seconds from exit\",\"axis_label_standoff\":10,\"axis_label_text_color\":\"#E0E0E0\",\"axis_label_text_font\":\"Helvetica\",\"axis_label_text_font_size\":\"1.25em\",\"axis_label_text_font_style\":\"normal\",\"major_label_policy\":{\"type\":\"object\",\"name\":\"AllLabels\",\"id\":\"p2727\"},\"major_label_text_color\":\"#E0E0E0\",\"major_label_text_font\":\"Helvetica\",\"major_label_text_font_size\":\"1.025em\",\"axis_line_color\":\"#E0E0E0\",\"axis_line_alpha\":0,\"major_tick_line_color\":\"#E0E0E0\",\"major_tick_line_alpha\":0,\"minor_tick_line_color\":\"#E0E0E0\",\"minor_tick_line_alpha\":0}}],\"center\":[{\"type\":\"object\",\"name\":\"Grid\",\"id\":\"p2728\",\"attributes\":{\"axis\":{\"id\":\"p2724\"},\"grid_line_color\":\"#E0E0E0\",\"grid_line_alpha\":0.25}},{\"type\":\"object\",\"name\":\"Grid\",\"id\":\"p2733\",\"attributes\":{\"dimension\":1,\"axis\":{\"id\":\"p2729\"},\"grid_line_color\":\"#E0E0E0\",\"grid_line_alpha\":0.25}},{\"type\":\"object\",\"name\":\"Legend\",\"id\":\"p2889\",\"attributes\":{\"border_line_alpha\":0,\"background_fill_color\":\"#20262B\",\"background_fill_alpha\":0.25,\"label_text_color\":\"#E0E0E0\",\"label_text_font\":\"Helvetica\",\"label_text_font_size\":\"1.025em\",\"label_standoff\":8,\"glyph_width\":15,\"spacing\":8,\"items\":[{\"type\":\"object\",\"name\":\"LegendItem\",\"id\":\"p2890\",\"attributes\":{\"label\":{\"type\":\"value\",\"value\":\"data 00-00-00-baseline-10-50-09:v1 - 493.77\"},\"renderers\":[{\"id\":\"p2886\"}]}},{\"type\":\"object\",\"name\":\"LegendItem\",\"id\":\"p3033\",\"attributes\":{\"label\":{\"type\":\"value\",\"value\":\"data 09-07-30:v1 - 482.27\"},\"renderers\":[{\"id\":\"p3030\"}]}},{\"type\":\"object\",\"name\":\"LegendItem\",\"id\":\"p3176\",\"attributes\":{\"label\":{\"type\":\"value\",\"value\":\"data 10-09-20:v1 - 487.86\"},\"renderers\":[{\"id\":\"p3173\"}]}},{\"type\":\"object\",\"name\":\"LegendItem\",\"id\":\"p3319\",\"attributes\":{\"label\":{\"type\":\"value\",\"value\":\"data 11-00-34:v1 - 476.31\"},\"renderers\":[{\"id\":\"p3316\"}]}},{\"type\":\"object\",\"name\":\"LegendItem\",\"id\":\"p3462\",\"attributes\":{\"label\":{\"type\":\"value\",\"value\":\"data 12-24-08:v1 - 473.95\"},\"renderers\":[{\"id\":\"p3459\"}]}}]}}],\"background_fill_color\":\"#20262B\",\"border_fill_color\":\"#15191C\"}}]}};\n",
       "  const render_items = [{\"docid\":\"bf08bfbc-084c-44b8-9b10-2b036802a807\",\"roots\":{\"p2710\":\"f5d21f45-a2d4-4088-a5da-f136bc18b65b\"},\"root_ids\":[\"p2710\"]}];\n",
       "  void root.Bokeh.embed.embed_items_notebook(docs_json, render_items);\n",
       "  }\n",
       "  if (root.Bokeh !== undefined) {\n",
       "    embed_document(root);\n",
       "  } else {\n",
       "    let attempts = 0;\n",
       "    const timer = setInterval(function(root) {\n",
       "      if (root.Bokeh !== undefined) {\n",
       "        clearInterval(timer);\n",
       "        embed_document(root);\n",
       "      } else {\n",
       "        attempts++;\n",
       "        if (attempts > 100) {\n",
       "          clearInterval(timer);\n",
       "          console.log(\"Bokeh: ERROR: Unable to run BokehJS code because BokehJS library is missing\");\n",
       "        }\n",
       "      }\n",
       "    }, 10, root)\n",
       "  }\n",
       "})(window);"
      ],
      "application/vnd.bokehjs_exec.v0+json": ""
     },
     "metadata": {
      "application/vnd.bokehjs_exec.v0+json": {
       "id": "p2710"
      }
     },
     "output_type": "display_data"
    }
   ],
   "source": [
    "display(roundedResults)\n",
    "display(sumResults)\n",
    "bp.show(allJumpsPlot)"
   ]
  },
  {
   "cell_type": "code",
   "execution_count": null,
   "id": "ee49d352-aa6e-4ab6-88a0-941362f918e8",
   "metadata": {},
   "outputs": [],
   "source": []
  }
 ],
 "metadata": {
  "kernelspec": {
   "display_name": "Python 3 (ipykernel)",
   "language": "python",
   "name": "python3"
  },
  "language_info": {
   "codemirror_mode": {
    "name": "ipython",
    "version": 3
   },
   "file_extension": ".py",
   "mimetype": "text/x-python",
   "name": "python",
   "nbconvert_exporter": "python",
   "pygments_lexer": "ipython3",
   "version": "3.11.10"
  }
 },
 "nbformat": 4,
 "nbformat_minor": 5
}
