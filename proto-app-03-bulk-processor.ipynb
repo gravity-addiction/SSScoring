{
 "cells": [
  {
   "cell_type": "markdown",
   "id": "36a745d9-2003-496e-a394-290f63a970b7",
   "metadata": {},
   "source": [
    "# Speed Skydiving scoring bulk files processor\n",
    "Uses the `./data` directory as a data lake.  It finds all valid FlySight files in that directory, from 0 to as many as it finds and fit in memory, and process them all.  Summary of \"all files\" or \"all jumps\" at the bottom of the document."
   ]
  },
  {
   "cell_type": "code",
   "execution_count": 1,
   "id": "7619c1b4-c552-4bec-8d38-ce895845d8df",
   "metadata": {},
   "outputs": [],
   "source": [
    "%%capture\n",
    "!make local"
   ]
  },
  {
   "cell_type": "code",
   "execution_count": 2,
   "id": "98c7a164-9492-4672-904b-5bf3abf61773",
   "metadata": {
    "jupyter": {
     "source_hidden": true
    }
   },
   "outputs": [
    {
     "data": {
      "application/javascript": [
       "'use strict';\n",
       "(function(root) {\n",
       "  function now() {\n",
       "    return new Date();\n",
       "  }\n",
       "\n",
       "  const force = true;\n",
       "\n",
       "  if (typeof root._bokeh_onload_callbacks === \"undefined\" || force === true) {\n",
       "    root._bokeh_onload_callbacks = [];\n",
       "    root._bokeh_is_loading = undefined;\n",
       "  }\n",
       "\n",
       "const JS_MIME_TYPE = 'application/javascript';\n",
       "  const HTML_MIME_TYPE = 'text/html';\n",
       "  const EXEC_MIME_TYPE = 'application/vnd.bokehjs_exec.v0+json';\n",
       "  const CLASS_NAME = 'output_bokeh rendered_html';\n",
       "\n",
       "  /**\n",
       "   * Render data to the DOM node\n",
       "   */\n",
       "  function render(props, node) {\n",
       "    const script = document.createElement(\"script\");\n",
       "    node.appendChild(script);\n",
       "  }\n",
       "\n",
       "  /**\n",
       "   * Handle when an output is cleared or removed\n",
       "   */\n",
       "  function handleClearOutput(event, handle) {\n",
       "    function drop(id) {\n",
       "      const view = Bokeh.index.get_by_id(id)\n",
       "      if (view != null) {\n",
       "        view.model.document.clear()\n",
       "        Bokeh.index.delete(view)\n",
       "      }\n",
       "    }\n",
       "\n",
       "    const cell = handle.cell;\n",
       "\n",
       "    const id = cell.output_area._bokeh_element_id;\n",
       "    const server_id = cell.output_area._bokeh_server_id;\n",
       "\n",
       "    // Clean up Bokeh references\n",
       "    if (id != null) {\n",
       "      drop(id)\n",
       "    }\n",
       "\n",
       "    if (server_id !== undefined) {\n",
       "      // Clean up Bokeh references\n",
       "      const cmd_clean = \"from bokeh.io.state import curstate; print(curstate().uuid_to_server['\" + server_id + \"'].get_sessions()[0].document.roots[0]._id)\";\n",
       "      cell.notebook.kernel.execute(cmd_clean, {\n",
       "        iopub: {\n",
       "          output: function(msg) {\n",
       "            const id = msg.content.text.trim()\n",
       "            drop(id)\n",
       "          }\n",
       "        }\n",
       "      });\n",
       "      // Destroy server and session\n",
       "      const cmd_destroy = \"import bokeh.io.notebook as ion; ion.destroy_server('\" + server_id + \"')\";\n",
       "      cell.notebook.kernel.execute(cmd_destroy);\n",
       "    }\n",
       "  }\n",
       "\n",
       "  /**\n",
       "   * Handle when a new output is added\n",
       "   */\n",
       "  function handleAddOutput(event, handle) {\n",
       "    const output_area = handle.output_area;\n",
       "    const output = handle.output;\n",
       "\n",
       "    // limit handleAddOutput to display_data with EXEC_MIME_TYPE content only\n",
       "    if ((output.output_type != \"display_data\") || (!Object.prototype.hasOwnProperty.call(output.data, EXEC_MIME_TYPE))) {\n",
       "      return\n",
       "    }\n",
       "\n",
       "    const toinsert = output_area.element.find(\".\" + CLASS_NAME.split(' ')[0]);\n",
       "\n",
       "    if (output.metadata[EXEC_MIME_TYPE][\"id\"] !== undefined) {\n",
       "      toinsert[toinsert.length - 1].firstChild.textContent = output.data[JS_MIME_TYPE];\n",
       "      // store reference to embed id on output_area\n",
       "      output_area._bokeh_element_id = output.metadata[EXEC_MIME_TYPE][\"id\"];\n",
       "    }\n",
       "    if (output.metadata[EXEC_MIME_TYPE][\"server_id\"] !== undefined) {\n",
       "      const bk_div = document.createElement(\"div\");\n",
       "      bk_div.innerHTML = output.data[HTML_MIME_TYPE];\n",
       "      const script_attrs = bk_div.children[0].attributes;\n",
       "      for (let i = 0; i < script_attrs.length; i++) {\n",
       "        toinsert[toinsert.length - 1].firstChild.setAttribute(script_attrs[i].name, script_attrs[i].value);\n",
       "        toinsert[toinsert.length - 1].firstChild.textContent = bk_div.children[0].textContent\n",
       "      }\n",
       "      // store reference to server id on output_area\n",
       "      output_area._bokeh_server_id = output.metadata[EXEC_MIME_TYPE][\"server_id\"];\n",
       "    }\n",
       "  }\n",
       "\n",
       "  function register_renderer(events, OutputArea) {\n",
       "\n",
       "    function append_mime(data, metadata, element) {\n",
       "      // create a DOM node to render to\n",
       "      const toinsert = this.create_output_subarea(\n",
       "        metadata,\n",
       "        CLASS_NAME,\n",
       "        EXEC_MIME_TYPE\n",
       "      );\n",
       "      this.keyboard_manager.register_events(toinsert);\n",
       "      // Render to node\n",
       "      const props = {data: data, metadata: metadata[EXEC_MIME_TYPE]};\n",
       "      render(props, toinsert[toinsert.length - 1]);\n",
       "      element.append(toinsert);\n",
       "      return toinsert\n",
       "    }\n",
       "\n",
       "    /* Handle when an output is cleared or removed */\n",
       "    events.on('clear_output.CodeCell', handleClearOutput);\n",
       "    events.on('delete.Cell', handleClearOutput);\n",
       "\n",
       "    /* Handle when a new output is added */\n",
       "    events.on('output_added.OutputArea', handleAddOutput);\n",
       "\n",
       "    /**\n",
       "     * Register the mime type and append_mime function with output_area\n",
       "     */\n",
       "    OutputArea.prototype.register_mime_type(EXEC_MIME_TYPE, append_mime, {\n",
       "      /* Is output safe? */\n",
       "      safe: true,\n",
       "      /* Index of renderer in `output_area.display_order` */\n",
       "      index: 0\n",
       "    });\n",
       "  }\n",
       "\n",
       "  // register the mime type if in Jupyter Notebook environment and previously unregistered\n",
       "  if (root.Jupyter !== undefined) {\n",
       "    const events = require('base/js/events');\n",
       "    const OutputArea = require('notebook/js/outputarea').OutputArea;\n",
       "\n",
       "    if (OutputArea.prototype.mime_types().indexOf(EXEC_MIME_TYPE) == -1) {\n",
       "      register_renderer(events, OutputArea);\n",
       "    }\n",
       "  }\n",
       "  if (typeof (root._bokeh_timeout) === \"undefined\" || force === true) {\n",
       "    root._bokeh_timeout = Date.now() + 5000;\n",
       "    root._bokeh_failed_load = false;\n",
       "  }\n",
       "\n",
       "  const NB_LOAD_WARNING = {'data': {'text/html':\n",
       "     \"<div style='background-color: #fdd'>\\n\"+\n",
       "     \"<p>\\n\"+\n",
       "     \"BokehJS does not appear to have successfully loaded. If loading BokehJS from CDN, this \\n\"+\n",
       "     \"may be due to a slow or bad network connection. Possible fixes:\\n\"+\n",
       "     \"</p>\\n\"+\n",
       "     \"<ul>\\n\"+\n",
       "     \"<li>re-rerun `output_notebook()` to attempt to load from CDN again, or</li>\\n\"+\n",
       "     \"<li>use INLINE resources instead, as so:</li>\\n\"+\n",
       "     \"</ul>\\n\"+\n",
       "     \"<code>\\n\"+\n",
       "     \"from bokeh.resources import INLINE\\n\"+\n",
       "     \"output_notebook(resources=INLINE)\\n\"+\n",
       "     \"</code>\\n\"+\n",
       "     \"</div>\"}};\n",
       "\n",
       "  function display_loaded(error = null) {\n",
       "    const el = document.getElementById(null);\n",
       "    if (el != null) {\n",
       "      const html = (() => {\n",
       "        if (typeof root.Bokeh === \"undefined\") {\n",
       "          if (error == null) {\n",
       "            return \"BokehJS is loading ...\";\n",
       "          } else {\n",
       "            return \"BokehJS failed to load.\";\n",
       "          }\n",
       "        } else {\n",
       "          const prefix = `BokehJS ${root.Bokeh.version}`;\n",
       "          if (error == null) {\n",
       "            return `${prefix} successfully loaded.`;\n",
       "          } else {\n",
       "            return `${prefix} <b>encountered errors</b> while loading and may not function as expected.`;\n",
       "          }\n",
       "        }\n",
       "      })();\n",
       "      el.innerHTML = html;\n",
       "\n",
       "      if (error != null) {\n",
       "        const wrapper = document.createElement(\"div\");\n",
       "        wrapper.style.overflow = \"auto\";\n",
       "        wrapper.style.height = \"5em\";\n",
       "        wrapper.style.resize = \"vertical\";\n",
       "        const content = document.createElement(\"div\");\n",
       "        content.style.fontFamily = \"monospace\";\n",
       "        content.style.whiteSpace = \"pre-wrap\";\n",
       "        content.style.backgroundColor = \"rgb(255, 221, 221)\";\n",
       "        content.textContent = error.stack ?? error.toString();\n",
       "        wrapper.append(content);\n",
       "        el.append(wrapper);\n",
       "      }\n",
       "    } else if (Date.now() < root._bokeh_timeout) {\n",
       "      setTimeout(() => display_loaded(error), 100);\n",
       "    }\n",
       "  }\n",
       "\n",
       "  function run_callbacks() {\n",
       "    try {\n",
       "      root._bokeh_onload_callbacks.forEach(function(callback) {\n",
       "        if (callback != null)\n",
       "          callback();\n",
       "      });\n",
       "    } finally {\n",
       "      delete root._bokeh_onload_callbacks\n",
       "    }\n",
       "    console.debug(\"Bokeh: all callbacks have finished\");\n",
       "  }\n",
       "\n",
       "  function load_libs(css_urls, js_urls, callback) {\n",
       "    if (css_urls == null) css_urls = [];\n",
       "    if (js_urls == null) js_urls = [];\n",
       "\n",
       "    root._bokeh_onload_callbacks.push(callback);\n",
       "    if (root._bokeh_is_loading > 0) {\n",
       "      console.debug(\"Bokeh: BokehJS is being loaded, scheduling callback at\", now());\n",
       "      return null;\n",
       "    }\n",
       "    if (js_urls == null || js_urls.length === 0) {\n",
       "      run_callbacks();\n",
       "      return null;\n",
       "    }\n",
       "    console.debug(\"Bokeh: BokehJS not loaded, scheduling load and callback at\", now());\n",
       "    root._bokeh_is_loading = css_urls.length + js_urls.length;\n",
       "\n",
       "    function on_load() {\n",
       "      root._bokeh_is_loading--;\n",
       "      if (root._bokeh_is_loading === 0) {\n",
       "        console.debug(\"Bokeh: all BokehJS libraries/stylesheets loaded\");\n",
       "        run_callbacks()\n",
       "      }\n",
       "    }\n",
       "\n",
       "    function on_error(url) {\n",
       "      console.error(\"failed to load \" + url);\n",
       "    }\n",
       "\n",
       "    for (let i = 0; i < css_urls.length; i++) {\n",
       "      const url = css_urls[i];\n",
       "      const element = document.createElement(\"link\");\n",
       "      element.onload = on_load;\n",
       "      element.onerror = on_error.bind(null, url);\n",
       "      element.rel = \"stylesheet\";\n",
       "      element.type = \"text/css\";\n",
       "      element.href = url;\n",
       "      console.debug(\"Bokeh: injecting link tag for BokehJS stylesheet: \", url);\n",
       "      document.body.appendChild(element);\n",
       "    }\n",
       "\n",
       "    for (let i = 0; i < js_urls.length; i++) {\n",
       "      const url = js_urls[i];\n",
       "      const element = document.createElement('script');\n",
       "      element.onload = on_load;\n",
       "      element.onerror = on_error.bind(null, url);\n",
       "      element.async = false;\n",
       "      element.src = url;\n",
       "      console.debug(\"Bokeh: injecting script tag for BokehJS library: \", url);\n",
       "      document.head.appendChild(element);\n",
       "    }\n",
       "  };\n",
       "\n",
       "  function inject_raw_css(css) {\n",
       "    const element = document.createElement(\"style\");\n",
       "    element.appendChild(document.createTextNode(css));\n",
       "    document.body.appendChild(element);\n",
       "  }\n",
       "\n",
       "  const js_urls = [\"https://cdn.bokeh.org/bokeh/release/bokeh-3.5.2.min.js\", \"https://cdn.bokeh.org/bokeh/release/bokeh-gl-3.5.2.min.js\", \"https://cdn.bokeh.org/bokeh/release/bokeh-widgets-3.5.2.min.js\", \"https://cdn.bokeh.org/bokeh/release/bokeh-tables-3.5.2.min.js\", \"https://cdn.bokeh.org/bokeh/release/bokeh-mathjax-3.5.2.min.js\"];\n",
       "  const css_urls = [];\n",
       "\n",
       "  const inline_js = [    function(Bokeh) {\n",
       "      Bokeh.set_log_level(\"info\");\n",
       "    },\n",
       "function(Bokeh) {\n",
       "    }\n",
       "  ];\n",
       "\n",
       "  function run_inline_js() {\n",
       "    if (root.Bokeh !== undefined || force === true) {\n",
       "      try {\n",
       "            for (let i = 0; i < inline_js.length; i++) {\n",
       "      inline_js[i].call(root, root.Bokeh);\n",
       "    }\n",
       "\n",
       "      } catch (error) {throw error;\n",
       "      }} else if (Date.now() < root._bokeh_timeout) {\n",
       "      setTimeout(run_inline_js, 100);\n",
       "    } else if (!root._bokeh_failed_load) {\n",
       "      console.log(\"Bokeh: BokehJS failed to load within specified timeout.\");\n",
       "      root._bokeh_failed_load = true;\n",
       "    } else if (force !== true) {\n",
       "      const cell = $(document.getElementById(null)).parents('.cell').data().cell;\n",
       "      cell.output_area.append_execute_result(NB_LOAD_WARNING)\n",
       "    }\n",
       "  }\n",
       "\n",
       "  if (root._bokeh_is_loading === 0) {\n",
       "    console.debug(\"Bokeh: BokehJS loaded, going straight to plotting\");\n",
       "    run_inline_js();\n",
       "  } else {\n",
       "    load_libs(css_urls, js_urls, function() {\n",
       "      console.debug(\"Bokeh: BokehJS plotting callback run at\", now());\n",
       "      run_inline_js();\n",
       "    });\n",
       "  }\n",
       "}(window));"
      ],
      "application/vnd.bokehjs_load.v0+json": "'use strict';\n(function(root) {\n  function now() {\n    return new Date();\n  }\n\n  const force = true;\n\n  if (typeof root._bokeh_onload_callbacks === \"undefined\" || force === true) {\n    root._bokeh_onload_callbacks = [];\n    root._bokeh_is_loading = undefined;\n  }\n\n\n  if (typeof (root._bokeh_timeout) === \"undefined\" || force === true) {\n    root._bokeh_timeout = Date.now() + 5000;\n    root._bokeh_failed_load = false;\n  }\n\n  const NB_LOAD_WARNING = {'data': {'text/html':\n     \"<div style='background-color: #fdd'>\\n\"+\n     \"<p>\\n\"+\n     \"BokehJS does not appear to have successfully loaded. If loading BokehJS from CDN, this \\n\"+\n     \"may be due to a slow or bad network connection. Possible fixes:\\n\"+\n     \"</p>\\n\"+\n     \"<ul>\\n\"+\n     \"<li>re-rerun `output_notebook()` to attempt to load from CDN again, or</li>\\n\"+\n     \"<li>use INLINE resources instead, as so:</li>\\n\"+\n     \"</ul>\\n\"+\n     \"<code>\\n\"+\n     \"from bokeh.resources import INLINE\\n\"+\n     \"output_notebook(resources=INLINE)\\n\"+\n     \"</code>\\n\"+\n     \"</div>\"}};\n\n  function display_loaded(error = null) {\n    const el = document.getElementById(null);\n    if (el != null) {\n      const html = (() => {\n        if (typeof root.Bokeh === \"undefined\") {\n          if (error == null) {\n            return \"BokehJS is loading ...\";\n          } else {\n            return \"BokehJS failed to load.\";\n          }\n        } else {\n          const prefix = `BokehJS ${root.Bokeh.version}`;\n          if (error == null) {\n            return `${prefix} successfully loaded.`;\n          } else {\n            return `${prefix} <b>encountered errors</b> while loading and may not function as expected.`;\n          }\n        }\n      })();\n      el.innerHTML = html;\n\n      if (error != null) {\n        const wrapper = document.createElement(\"div\");\n        wrapper.style.overflow = \"auto\";\n        wrapper.style.height = \"5em\";\n        wrapper.style.resize = \"vertical\";\n        const content = document.createElement(\"div\");\n        content.style.fontFamily = \"monospace\";\n        content.style.whiteSpace = \"pre-wrap\";\n        content.style.backgroundColor = \"rgb(255, 221, 221)\";\n        content.textContent = error.stack ?? error.toString();\n        wrapper.append(content);\n        el.append(wrapper);\n      }\n    } else if (Date.now() < root._bokeh_timeout) {\n      setTimeout(() => display_loaded(error), 100);\n    }\n  }\n\n  function run_callbacks() {\n    try {\n      root._bokeh_onload_callbacks.forEach(function(callback) {\n        if (callback != null)\n          callback();\n      });\n    } finally {\n      delete root._bokeh_onload_callbacks\n    }\n    console.debug(\"Bokeh: all callbacks have finished\");\n  }\n\n  function load_libs(css_urls, js_urls, callback) {\n    if (css_urls == null) css_urls = [];\n    if (js_urls == null) js_urls = [];\n\n    root._bokeh_onload_callbacks.push(callback);\n    if (root._bokeh_is_loading > 0) {\n      console.debug(\"Bokeh: BokehJS is being loaded, scheduling callback at\", now());\n      return null;\n    }\n    if (js_urls == null || js_urls.length === 0) {\n      run_callbacks();\n      return null;\n    }\n    console.debug(\"Bokeh: BokehJS not loaded, scheduling load and callback at\", now());\n    root._bokeh_is_loading = css_urls.length + js_urls.length;\n\n    function on_load() {\n      root._bokeh_is_loading--;\n      if (root._bokeh_is_loading === 0) {\n        console.debug(\"Bokeh: all BokehJS libraries/stylesheets loaded\");\n        run_callbacks()\n      }\n    }\n\n    function on_error(url) {\n      console.error(\"failed to load \" + url);\n    }\n\n    for (let i = 0; i < css_urls.length; i++) {\n      const url = css_urls[i];\n      const element = document.createElement(\"link\");\n      element.onload = on_load;\n      element.onerror = on_error.bind(null, url);\n      element.rel = \"stylesheet\";\n      element.type = \"text/css\";\n      element.href = url;\n      console.debug(\"Bokeh: injecting link tag for BokehJS stylesheet: \", url);\n      document.body.appendChild(element);\n    }\n\n    for (let i = 0; i < js_urls.length; i++) {\n      const url = js_urls[i];\n      const element = document.createElement('script');\n      element.onload = on_load;\n      element.onerror = on_error.bind(null, url);\n      element.async = false;\n      element.src = url;\n      console.debug(\"Bokeh: injecting script tag for BokehJS library: \", url);\n      document.head.appendChild(element);\n    }\n  };\n\n  function inject_raw_css(css) {\n    const element = document.createElement(\"style\");\n    element.appendChild(document.createTextNode(css));\n    document.body.appendChild(element);\n  }\n\n  const js_urls = [\"https://cdn.bokeh.org/bokeh/release/bokeh-3.5.2.min.js\", \"https://cdn.bokeh.org/bokeh/release/bokeh-gl-3.5.2.min.js\", \"https://cdn.bokeh.org/bokeh/release/bokeh-widgets-3.5.2.min.js\", \"https://cdn.bokeh.org/bokeh/release/bokeh-tables-3.5.2.min.js\", \"https://cdn.bokeh.org/bokeh/release/bokeh-mathjax-3.5.2.min.js\"];\n  const css_urls = [];\n\n  const inline_js = [    function(Bokeh) {\n      Bokeh.set_log_level(\"info\");\n    },\nfunction(Bokeh) {\n    }\n  ];\n\n  function run_inline_js() {\n    if (root.Bokeh !== undefined || force === true) {\n      try {\n            for (let i = 0; i < inline_js.length; i++) {\n      inline_js[i].call(root, root.Bokeh);\n    }\n\n      } catch (error) {throw error;\n      }} else if (Date.now() < root._bokeh_timeout) {\n      setTimeout(run_inline_js, 100);\n    } else if (!root._bokeh_failed_load) {\n      console.log(\"Bokeh: BokehJS failed to load within specified timeout.\");\n      root._bokeh_failed_load = true;\n    } else if (force !== true) {\n      const cell = $(document.getElementById(null)).parents('.cell').data().cell;\n      cell.output_area.append_execute_result(NB_LOAD_WARNING)\n    }\n  }\n\n  if (root._bokeh_is_loading === 0) {\n    console.debug(\"Bokeh: BokehJS loaded, going straight to plotting\");\n    run_inline_js();\n  } else {\n    load_libs(css_urls, js_urls, function() {\n      console.debug(\"Bokeh: BokehJS plotting callback run at\", now());\n      run_inline_js();\n    });\n  }\n}(window));"
     },
     "metadata": {},
     "output_type": "display_data"
    }
   ],
   "source": [
    "from collections import namedtuple\n",
    "from copy import deepcopy\n",
    "\n",
    "from ssscoring.calc import aggregateResults\n",
    "from ssscoring.calc import convertFlySight2SSScoring\n",
    "from ssscoring.calc import dropNonSkydiveDataFrom\n",
    "from ssscoring.calc import getSpeedSkydiveFrom\n",
    "from ssscoring.calc import isValidJump\n",
    "from ssscoring.calc import isValidMinimumAltitude\n",
    "from ssscoring.calc import jumpAnalysisTable\n",
    "from ssscoring.calc import processAllJumpFiles\n",
    "from ssscoring.calc import roundedAggregateResults\n",
    "from ssscoring.calc import totalResultsFrom\n",
    "from ssscoring.constants import BREAKOFF_ALTITUDE\n",
    "from ssscoring.constants import FT_IN_M\n",
    "from ssscoring.constants import PERFORMANCE_WINDOW_LENGTH\n",
    "from ssscoring.flysight import getAllSpeedJumpFilesFrom\n",
    "from ssscoring.flysight import validFlySightHeaderIn\n",
    "from ssscoring.notebook import SPEED_COLORS\n",
    "from ssscoring.notebook import graphAltitude\n",
    "from ssscoring.notebook import graphAngle\n",
    "from ssscoring.notebook import graphJumpResult\n",
    "from ssscoring.notebook import initializeExtraYRanges\n",
    "from ssscoring.notebook import initializePlot\n",
    "\n",
    "import csv\n",
    "import os\n",
    "import os.path as path\n",
    "\n",
    "import bokeh.plotting as bp\n",
    "import bokeh.models as bm\n",
    "import ipywidgets as widgets\n",
    "import pandas as pd"
   ]
  },
  {
   "cell_type": "code",
   "execution_count": 3,
   "id": "ef1d2bf0-eaf3-4d78-b6c0-fb1bb4ed10f1",
   "metadata": {},
   "outputs": [],
   "source": [
    "DATA_LAKE_ROOT = './data'"
   ]
  },
  {
   "cell_type": "markdown",
   "id": "d52db03d-d83b-4af3-9137-3011537e5ed8",
   "metadata": {},
   "source": [
    "---\n",
    "## <span style=\"color: yellow\">IMPORTANT</span> - Set the drop zone altitude MSL\n",
    "\n",
    "Set the value in ft (even though SSScoring uses meters) out of convenience because all DZs in the US, many in Asia and Mexico, and many in Europe express the altitude in feet.\n",
    "\n",
    "### Some DZs\n",
    "\n",
    "| Drop zone | Alt (ft) |\n",
    "|-----------|----------|\n",
    "| Bay Area Skydiving | 23 |\n",
    "| Paraclete XP| 304 |\n",
    "| SkyDance SkyDiving | 100 |\n",
    "| Skydive Arizona | 1509 |\n",
    "| Skydive Chicago | 616 |\n",
    "| Thai Sky Adventures | 21 |"
   ]
  },
  {
   "cell_type": "code",
   "execution_count": 4,
   "id": "5c95013a-4aa3-4a5e-9493-b945ead10ced",
   "metadata": {},
   "outputs": [],
   "source": [
    "dropZoneAltMSL = 616\n",
    "ignoreBaseline = True # Set to False to evaluate any baseline tracks present in the data lake."
   ]
  },
  {
   "cell_type": "code",
   "execution_count": 5,
   "id": "1f091813-03b0-45bc-a30e-704fac7f968a",
   "metadata": {
    "jupyter": {
     "source_hidden": true
    }
   },
   "outputs": [
    {
     "data": {
      "application/vnd.jupyter.widget-view+json": {
       "model_id": "cc9664469070499f92e644f16589dd49",
       "version_major": 2,
       "version_minor": 0
      },
      "text/plain": [
       "HTML(value='<h2>DZ Altitude = <span style = \"color: green\"> 616.00 ft</span> ( 187.76 m)<h1>')"
      ]
     },
     "metadata": {},
     "output_type": "display_data"
    }
   ],
   "source": [
    "dropZoneAltMSLMeters = dropZoneAltMSL/FT_IN_M\n",
    "display(widgets.HTML('<h2>DZ Altitude = <span style = \"color: green\">%7.2f ft</span> (%7.2f m)<h1>' % (dropZoneAltMSL, dropZoneAltMSLMeters)))"
   ]
  },
  {
   "cell_type": "code",
   "execution_count": 6,
   "id": "b1273b5c-44c1-46c2-a125-d01ad9268a1a",
   "metadata": {},
   "outputs": [],
   "source": [
    "jumpFiles = getAllSpeedJumpFilesFrom(DATA_LAKE_ROOT)"
   ]
  },
  {
   "cell_type": "code",
   "execution_count": 7,
   "id": "53a5fe5a-dd39-40d3-bfbf-d7048374e4ea",
   "metadata": {
    "jupyter": {
     "source_hidden": true
    }
   },
   "outputs": [
    {
     "name": "stderr",
     "output_type": "stream",
     "text": [
      "/opt/conda/lib/python3.11/site-packages/numba/cpython/hashing.py:482: UserWarning: FNV hashing is not implemented in Numba. See PEP 456 https://www.python.org/dev/peps/pep-0456/ for rationale over not using FNV. Numba will continue to work, but hashes for built in types will be computed using siphash24. This will permit e.g. dictionaries to continue to behave as expected, however anything relying on the value of the hash opposed to hash as a derived property is likely to not work as expected.\n",
      "  warnings.warn(msg)\n"
     ]
    }
   ],
   "source": [
    "jumpResults = processAllJumpFiles(jumpFiles, altitudeDZMeters = dropZoneAltMSLMeters)"
   ]
  },
  {
   "cell_type": "markdown",
   "id": "797ab0ec-d5e0-4a3b-aa57-eee431bb9824",
   "metadata": {},
   "source": [
    "### Air density\n",
    "\n",
    "**<a href='https://aviex.goflexair.com/blog/density-of-air-air-density' target='_blank'>Pilot's Guide to Air Density</a>** - A useful guide with calculations, lots of information.\n",
    "\n",
    "![](https://ciurana.eu/personal/air-density-partial-table.png)"
   ]
  },
  {
   "cell_type": "markdown",
   "id": "d80518ef-f197-4e40-a74e-8089eecb725a",
   "metadata": {},
   "source": [
    "---\n",
    "## Results"
   ]
  },
  {
   "cell_type": "code",
   "execution_count": 8,
   "id": "27c12cb1-2f60-44c9-b8fa-998b3df9d878",
   "metadata": {},
   "outputs": [
    {
     "data": {
      "text/html": [
       "<div>\n",
       "<style scoped>\n",
       "    .dataframe tbody tr th:only-of-type {\n",
       "        vertical-align: middle;\n",
       "    }\n",
       "\n",
       "    .dataframe tbody tr th {\n",
       "        vertical-align: top;\n",
       "    }\n",
       "\n",
       "    .dataframe thead th {\n",
       "        text-align: right;\n",
       "    }\n",
       "</style>\n",
       "<table border=\"1\" class=\"dataframe\">\n",
       "  <thead>\n",
       "    <tr style=\"text-align: right;\">\n",
       "      <th></th>\n",
       "      <th>score</th>\n",
       "      <th>5.0</th>\n",
       "      <th>10.0</th>\n",
       "      <th>15.0</th>\n",
       "      <th>20.0</th>\n",
       "      <th>25.0</th>\n",
       "      <th>finalTime</th>\n",
       "      <th>maxSpeed</th>\n",
       "    </tr>\n",
       "  </thead>\n",
       "  <tbody>\n",
       "    <tr>\n",
       "      <th>Miller-2024-championship-official R1_12-43-43:v1</th>\n",
       "      <td>316.1295</td>\n",
       "      <td>127.152</td>\n",
       "      <td>201.240</td>\n",
       "      <td>262.584</td>\n",
       "      <td>299.448</td>\n",
       "      <td>316.944</td>\n",
       "      <td>25.0</td>\n",
       "      <td>317.628</td>\n",
       "    </tr>\n",
       "    <tr>\n",
       "      <th>Miller-2024-championship-official R2_14-27-13:v1</th>\n",
       "      <td>333.9135</td>\n",
       "      <td>132.912</td>\n",
       "      <td>228.744</td>\n",
       "      <td>285.768</td>\n",
       "      <td>325.116</td>\n",
       "      <td>334.908</td>\n",
       "      <td>25.0</td>\n",
       "      <td>335.988</td>\n",
       "    </tr>\n",
       "    <tr>\n",
       "      <th>Miller-2024-championship-official R3_15-53-00:v1</th>\n",
       "      <td>327.07575</td>\n",
       "      <td>152.568</td>\n",
       "      <td>256.284</td>\n",
       "      <td>312.336</td>\n",
       "      <td>326.520</td>\n",
       "      <td>306.720</td>\n",
       "      <td>25.0</td>\n",
       "      <td>328.104</td>\n",
       "    </tr>\n",
       "    <tr>\n",
       "      <th>Miller-2024-championship-official R4_17-24-24:v1</th>\n",
       "      <td>331.31925</td>\n",
       "      <td>153.540</td>\n",
       "      <td>252.864</td>\n",
       "      <td>307.836</td>\n",
       "      <td>325.548</td>\n",
       "      <td>329.436</td>\n",
       "      <td>25.0</td>\n",
       "      <td>332.460</td>\n",
       "    </tr>\n",
       "    <tr>\n",
       "      <th>Miller-2024-championship-official R5_18-49-36:v1</th>\n",
       "      <td>348.2505</td>\n",
       "      <td>153.684</td>\n",
       "      <td>254.232</td>\n",
       "      <td>311.184</td>\n",
       "      <td>331.848</td>\n",
       "      <td>346.500</td>\n",
       "      <td>25.0</td>\n",
       "      <td>349.092</td>\n",
       "    </tr>\n",
       "    <tr>\n",
       "      <th>Miller-2024-championship-official R6_12-49-38:v1</th>\n",
       "      <td>326.80125</td>\n",
       "      <td>143.820</td>\n",
       "      <td>223.740</td>\n",
       "      <td>289.440</td>\n",
       "      <td>323.676</td>\n",
       "      <td>242.316</td>\n",
       "      <td>25.0</td>\n",
       "      <td>333.000</td>\n",
       "    </tr>\n",
       "    <tr>\n",
       "      <th>Miller-2024-championship-official R7_14-20-26:v1</th>\n",
       "      <td>324.4995</td>\n",
       "      <td>134.964</td>\n",
       "      <td>211.212</td>\n",
       "      <td>262.332</td>\n",
       "      <td>285.228</td>\n",
       "      <td>318.744</td>\n",
       "      <td>25.0</td>\n",
       "      <td>327.816</td>\n",
       "    </tr>\n",
       "    <tr>\n",
       "      <th>Miller-2024-championship-official R8_16-05-15:v1</th>\n",
       "      <td>329.84325</td>\n",
       "      <td>147.816</td>\n",
       "      <td>244.008</td>\n",
       "      <td>300.636</td>\n",
       "      <td>318.456</td>\n",
       "      <td>317.988</td>\n",
       "      <td>25.0</td>\n",
       "      <td>332.532</td>\n",
       "    </tr>\n",
       "  </tbody>\n",
       "</table>\n",
       "</div>"
      ],
      "text/plain": [
       "                                                      score      5.0     10.0  \\\n",
       "Miller-2024-championship-official R1_12-43-43:v1   316.1295  127.152  201.240   \n",
       "Miller-2024-championship-official R2_14-27-13:v1   333.9135  132.912  228.744   \n",
       "Miller-2024-championship-official R3_15-53-00:v1  327.07575  152.568  256.284   \n",
       "Miller-2024-championship-official R4_17-24-24:v1  331.31925  153.540  252.864   \n",
       "Miller-2024-championship-official R5_18-49-36:v1   348.2505  153.684  254.232   \n",
       "Miller-2024-championship-official R6_12-49-38:v1  326.80125  143.820  223.740   \n",
       "Miller-2024-championship-official R7_14-20-26:v1   324.4995  134.964  211.212   \n",
       "Miller-2024-championship-official R8_16-05-15:v1  329.84325  147.816  244.008   \n",
       "\n",
       "                                                     15.0     20.0     25.0  \\\n",
       "Miller-2024-championship-official R1_12-43-43:v1  262.584  299.448  316.944   \n",
       "Miller-2024-championship-official R2_14-27-13:v1  285.768  325.116  334.908   \n",
       "Miller-2024-championship-official R3_15-53-00:v1  312.336  326.520  306.720   \n",
       "Miller-2024-championship-official R4_17-24-24:v1  307.836  325.548  329.436   \n",
       "Miller-2024-championship-official R5_18-49-36:v1  311.184  331.848  346.500   \n",
       "Miller-2024-championship-official R6_12-49-38:v1  289.440  323.676  242.316   \n",
       "Miller-2024-championship-official R7_14-20-26:v1  262.332  285.228  318.744   \n",
       "Miller-2024-championship-official R8_16-05-15:v1  300.636  318.456  317.988   \n",
       "\n",
       "                                                  finalTime  maxSpeed  \n",
       "Miller-2024-championship-official R1_12-43-43:v1       25.0   317.628  \n",
       "Miller-2024-championship-official R2_14-27-13:v1       25.0   335.988  \n",
       "Miller-2024-championship-official R3_15-53-00:v1       25.0   328.104  \n",
       "Miller-2024-championship-official R4_17-24-24:v1       25.0   332.460  \n",
       "Miller-2024-championship-official R5_18-49-36:v1       25.0   349.092  \n",
       "Miller-2024-championship-official R6_12-49-38:v1       25.0   333.000  \n",
       "Miller-2024-championship-official R7_14-20-26:v1       25.0   327.816  \n",
       "Miller-2024-championship-official R8_16-05-15:v1       25.0   332.532  "
      ]
     },
     "metadata": {},
     "output_type": "display_data"
    }
   ],
   "source": [
    "aggregate = aggregateResults(jumpResults)\n",
    "if ignoreBaseline:\n",
    "    aggregate = aggregate[~aggregate.index.str.contains('baseline')]\n",
    "sumResults = totalResultsFrom(aggregate)\n",
    "display(aggregate)"
   ]
  },
  {
   "cell_type": "markdown",
   "id": "3fa8c207-b9cf-4275-ba37-5103e1b324a9",
   "metadata": {},
   "source": [
    "### Rounded results for training log"
   ]
  },
  {
   "cell_type": "code",
   "execution_count": 9,
   "id": "e2bfbc21-3121-436a-904f-547edb0f2d0c",
   "metadata": {},
   "outputs": [],
   "source": [
    "roundedResults = roundedAggregateResults(aggregate)"
   ]
  },
  {
   "cell_type": "markdown",
   "id": "faf1396d-1030-477e-9d87-5c167b61328f",
   "metadata": {},
   "source": [
    "### All jumps"
   ]
  },
  {
   "cell_type": "code",
   "execution_count": 10,
   "id": "5a0571fd-5a22-4dda-94aa-56a4f2c68098",
   "metadata": {
    "jupyter": {
     "source_hidden": true
    }
   },
   "outputs": [],
   "source": [
    "def dumpSimple(table: pd.DataFrame):\n",
    "    fileName = os.path.join(DATA_LAKE_ROOT, resultRef+'.tsv')\n",
    "    simpleTable = table.copy()\n",
    "    simpleTable = simpleTable.drop('speedAngle', axis = 1)\n",
    "    simpleTable.to_csv(fileName, sep = '\\t', index = False)"
   ]
  },
  {
   "cell_type": "code",
   "execution_count": 11,
   "id": "59ff50f6-4f29-4282-a55f-af524921af19",
   "metadata": {
    "jupyter": {
     "source_hidden": true
    }
   },
   "outputs": [],
   "source": [
    "def displayJumpDataIn(resultsTable: pd.DataFrame):\n",
    "    table = resultsTable.copy()\n",
    "    # Experimental\n",
    "    # For more information on the `interpolate` method and its options, see the [pandas documentation](https://pandas.pydata.org/pandas-docs/stable/reference/api/pandas.Series.interpolate.html).\n",
    "    # Additionally, you can also consider using other libraries like `scipy` which provides more advanced interpolation methods, such as `interp1d` or `griddata`. See the [scipy documentation](https://docs.scipy.org/doc/scipy/reference/interpolate.html) for more information.\n",
    "    table.vKMh = table.vKMh.apply(round)\n",
    "    table.hKMh = table.hKMh.apply(round)\n",
    "    table['altitude (ft)'] = table['altitude (ft)'].apply(round)\n",
    "    table.netVectorKMh = table.netVectorKMh.apply(round)\n",
    "    table.index = ['']*len(table)\n",
    "    display(table)\n",
    "    # dumpSimple(table)"
   ]
  },
  {
   "cell_type": "code",
   "execution_count": 12,
   "id": "fe6156be-7071-47a7-bb7f-9724f6d4a3ac",
   "metadata": {
    "jupyter": {
     "source_hidden": true
    }
   },
   "outputs": [
    {
     "data": {
      "application/vnd.jupyter.widget-view+json": {
       "model_id": "c1fbca3e437b478f9db8c0d1b8069869",
       "version_major": 2,
       "version_minor": 0
      },
      "text/plain": [
       "HTML(value='<hr><h1><span style=\"color: #0f0\">Miller-2024-championship-official R1_12-43-43:v1 jump - 🟢 valid …"
      ]
     },
     "metadata": {},
     "output_type": "display_data"
    },
    {
     "data": {
      "application/vnd.jupyter.widget-view+json": {
       "model_id": "c1c25864d319442ab27d4f61b9a4a40f",
       "version_major": 2,
       "version_minor": 0
      },
      "text/plain": [
       "HTML(value='<h3>Max speed = 318; exit at 4171 m (13685 ft), end scoring window at 1915 m (6284 ft)')"
      ]
     },
     "metadata": {},
     "output_type": "display_data"
    },
    {
     "data": {
      "application/vnd.jupyter.widget-view+json": {
       "model_id": "03568d436ef74091aa7aa5f94f5703cf",
       "version_major": 2,
       "version_minor": 0
      },
      "text/plain": [
       "HTML(value='</h3>')"
      ]
     },
     "metadata": {},
     "output_type": "display_data"
    },
    {
     "data": {
      "text/html": [
       "<div>\n",
       "<style scoped>\n",
       "    .dataframe tbody tr th:only-of-type {\n",
       "        vertical-align: middle;\n",
       "    }\n",
       "\n",
       "    .dataframe tbody tr th {\n",
       "        vertical-align: top;\n",
       "    }\n",
       "\n",
       "    .dataframe thead th {\n",
       "        text-align: right;\n",
       "    }\n",
       "</style>\n",
       "<table border=\"1\" class=\"dataframe\">\n",
       "  <thead>\n",
       "    <tr style=\"text-align: right;\">\n",
       "      <th></th>\n",
       "      <th>time</th>\n",
       "      <th>vKMh</th>\n",
       "      <th>hKMh</th>\n",
       "      <th>speedAngle</th>\n",
       "      <th>distanceFromExit</th>\n",
       "      <th>altitude (ft)</th>\n",
       "      <th>netVectorKMh</th>\n",
       "    </tr>\n",
       "  </thead>\n",
       "  <tbody>\n",
       "    <tr>\n",
       "      <th></th>\n",
       "      <td>5.0</td>\n",
       "      <td>127</td>\n",
       "      <td>97</td>\n",
       "      <td>52.6</td>\n",
       "      <td>163.1</td>\n",
       "      <td>13305</td>\n",
       "      <td>160</td>\n",
       "    </tr>\n",
       "    <tr>\n",
       "      <th></th>\n",
       "      <td>10.0</td>\n",
       "      <td>201</td>\n",
       "      <td>99</td>\n",
       "      <td>63.9</td>\n",
       "      <td>287.0</td>\n",
       "      <td>12552</td>\n",
       "      <td>224</td>\n",
       "    </tr>\n",
       "    <tr>\n",
       "      <th></th>\n",
       "      <td>15.0</td>\n",
       "      <td>263</td>\n",
       "      <td>119</td>\n",
       "      <td>65.6</td>\n",
       "      <td>423.1</td>\n",
       "      <td>11486</td>\n",
       "      <td>288</td>\n",
       "    </tr>\n",
       "    <tr>\n",
       "      <th></th>\n",
       "      <td>20.0</td>\n",
       "      <td>299</td>\n",
       "      <td>125</td>\n",
       "      <td>67.4</td>\n",
       "      <td>578.2</td>\n",
       "      <td>10193</td>\n",
       "      <td>324</td>\n",
       "    </tr>\n",
       "    <tr>\n",
       "      <th></th>\n",
       "      <td>25.0</td>\n",
       "      <td>317</td>\n",
       "      <td>119</td>\n",
       "      <td>69.4</td>\n",
       "      <td>734.6</td>\n",
       "      <td>8780</td>\n",
       "      <td>339</td>\n",
       "    </tr>\n",
       "  </tbody>\n",
       "</table>\n",
       "</div>"
      ],
      "text/plain": [
       "  time  vKMh  hKMh  speedAngle  distanceFromExit  altitude (ft)  netVectorKMh\n",
       "   5.0   127    97        52.6             163.1          13305           160\n",
       "  10.0   201    99        63.9             287.0          12552           224\n",
       "  15.0   263   119        65.6             423.1          11486           288\n",
       "  20.0   299   125        67.4             578.2          10193           324\n",
       "  25.0   317   119        69.4             734.6           8780           339"
      ]
     },
     "metadata": {},
     "output_type": "display_data"
    },
    {
     "data": {
      "text/html": [
       "\n",
       "  <div id=\"c3b03953-6912-4019-959a-a40bd01a16c5\" data-root-id=\"p1038\" style=\"display: contents;\"></div>\n"
      ]
     },
     "metadata": {},
     "output_type": "display_data"
    },
    {
     "data": {
      "application/javascript": [
       "(function(root) {\n",
       "  function embed_document(root) {\n",
       "  const docs_json = {\"c45e321e-0090-439c-bce9-1265fb08ee91\":{\"version\":\"3.5.2\",\"title\":\"Bokeh Application\",\"roots\":[{\"type\":\"object\",\"name\":\"Figure\",\"id\":\"p1038\",\"attributes\":{\"width\":900,\"height\":500,\"x_range\":{\"type\":\"object\",\"name\":\"Range1d\",\"id\":\"p1048\",\"attributes\":{\"end\":35.0}},\"y_range\":{\"type\":\"object\",\"name\":\"Range1d\",\"id\":\"p1049\",\"attributes\":{\"end\":550.0}},\"x_scale\":{\"type\":\"object\",\"name\":\"LinearScale\",\"id\":\"p1050\"},\"y_scale\":{\"type\":\"object\",\"name\":\"LinearScale\",\"id\":\"p1051\"},\"extra_y_ranges\":{\"type\":\"map\",\"entries\":[[\"altitudeFt\",{\"type\":\"object\",\"name\":\"Range1d\",\"id\":\"p1075\",\"attributes\":{\"start\":5808.62052,\"end\":14185.9192624}}],[\"angle\",{\"type\":\"object\",\"name\":\"Range1d\",\"id\":\"p1076\",\"attributes\":{\"end\":90.0}}]]},\"title\":{\"type\":\"object\",\"name\":\"Title\",\"id\":\"p1041\",\"attributes\":{\"text\":\"Miller-2024-championship-official R1_12-43-43:v1\",\"text_color\":\"#E0E0E0\",\"text_font\":\"Helvetica\",\"text_font_size\":\"1.15em\"}},\"outline_line_color\":\"#E0E0E0\",\"outline_line_alpha\":0.25,\"renderers\":[{\"type\":\"object\",\"name\":\"GlyphRenderer\",\"id\":\"p1091\",\"attributes\":{\"y_range_name\":\"altitudeFt\",\"data_source\":{\"type\":\"object\",\"name\":\"ColumnDataSource\",\"id\":\"p1085\",\"attributes\":{\"selected\":{\"type\":\"object\",\"name\":\"Selection\",\"id\":\"p1086\",\"attributes\":{\"indices\":[],\"line_indices\":[]}},\"selection_policy\":{\"type\":\"object\",\"name\":\"UnionRenderers\",\"id\":\"p1087\"},\"data\":{\"type\":\"map\",\"entries\":[[\"x\",{\"type\":\"ndarray\",\"array\":{\"type\":\"bytes\",\"data\":\"AAAAAAAAAAAAAAAAmpnJPwAAAACZmdk/AAAAADMz4z8AAACAmZnpPwAAAAAAAPA/AAAAQDMz8z8AAABAZmb2PwAAAICZmfk/AAAAwMzM/D8AAAAAAAAAQAAAAKCZmQFAAAAAIDMzA0AAAADAzMwEQAAAAGBmZgZAAAAAAAAACEAAAACgmZkJQAAAACAzMwtAAAAAwMzMDEAAAABgZmYOQAAAAAAAABBAAAAA0MzMEEAAAACQmZkRQAAAAGBmZhJAAAAAMDMzE0AAAAAAAAAUQAAAANDMzBRAAAAAkJmZFUAAAABgZmYWQAAAADAzMxdAAAAAAAAAGEAAAADQzMwYQAAAAJCZmRlAAAAAYGZmGkAAAAAwMzMbQAAAAAAAABxAAAAA0MzMHEAAAACQmZkdQAAAAGBmZh5AAAAAMDMzH0AAAAAAAAAgQAAAAGhmZiBAAAAAyMzMIEAAAAAwMzMhQAAAAJiZmSFAAAAAAAAAIkAAAABoZmYiQAAAAMjMzCJAAAAAMDMzI0AAAACYmZkjQAAAAAAAACRAAAAAaGZmJEAAAADIzMwkQAAAADAzMyVAAAAAmJmZJUAAAAAAAAAmQAAAAGhmZiZAAAAAyMzMJkAAAAAwMzMnQAAAAJiZmSdAAAAAAAAAKEAAAABoZmYoQAAAAMjMzChAAAAAMDMzKUAAAACYmZkpQAAAAAAAACpAAAAAaGZmKkAAAADIzMwqQAAAADAzMytAAAAAmJmZK0AAAAAAAAAsQAAAAGhmZixAAAAAyMzMLEAAAAAwMzMtQAAAAJiZmS1AAAAAAAAALkAAAABoZmYuQAAAAMjMzC5AAAAAMDMzL0AAAACYmZkvQAAAAAAAADBAAAAANDMzMEAAAABkZmYwQAAAAJiZmTBAAAAAzMzMMEAAAAAAAAAxQAAAADQzMzFAAAAAZGZmMUAAAACYmZkxQAAAAMzMzDFAAAAAAAAAMkAAAAA0MzMyQAAAAGRmZjJAAAAAmJmZMkAAAADMzMwyQAAAAAAAADNAAAAANDMzM0AAAABkZmYzQAAAAJiZmTNAAAAAzMzMM0AAAAAAAAA0QAAAADQzMzRAAAAAZGZmNEAAAACYmZk0QAAAAMzMzDRAAAAAAAAANUAAAAA0MzM1QAAAAGRmZjVAAAAAmJmZNUAAAADMzMw1QAAAAAAAADZAAAAANDMzNkAAAABkZmY2QAAAAJiZmTZAAAAAzMzMNkAAAAAAAAA3QAAAADQzMzdAAAAAZGZmN0AAAACYmZk3QAAAAMzMzDdAAAAAAAAAOEAAAAA0MzM4QAAAAGRmZjhAAAAAmJmZOEAAAADMzMw4QAAAAAAAADlAAAAANDMzOUAAAABkZmY5QAAAAJiZmTlAAAAAzMzMOUAAAAAAAAA6QAAAADQzMzpAAAAAZGZmOkAAAACYmZk6QAAAAMzMzDpAAAAAAAAAO0AAAAA0MzM7QAAAAGRmZjtAAAAAmJmZO0AAAADMzMw7QAAAAAAAADxAAAAANDMzPEAAAABkZmY8QAAAAJiZmTxAAAAAzMzMPEAAAAAAAAA9QAAAADQzMz1AAAAAZGZmPUAAAACYmZk9QAAAAMzMzD1AAAAAAAAAPkAAAAA0MzM+QAAAAGRmZj5AAAAAmJmZPkAAAADMzMw+QAAAAAAAAD9AAAAANDMzP0AAAABkZmY/QAAAAJiZmT9AAAAAzMzMP0AAAAAAAABAQAAAAJqZGUBAAAAAMjMzQEAAAADMzExAQAAAAGZmZkBAAAAAAACAQEAAAACamZlAQAAAADIzs0BAAAAAzMzMQEA=\"},\"shape\":[169],\"dtype\":\"float64\",\"order\":\"little\"}],[\"y\",{\"type\":\"ndarray\",\"array\":{\"type\":\"bytes\",\"data\":\"OexjqvW6ykCXQRB7HLfKQFX2AlgJs8pA/f4oRd6uykCOv/41SqrKQJkzNs80pcpAPMxNisWfykBqHEUxTJrKQC/1mO0nlMpAx1Pq7dqNykBcFrjhPIfKQIE4tG01gMpA0dm4tOB4ykCndLD+N3HKQDIkJxM/acpAT7SrkPpgykAQUCuWZFjKQCNCbWWTT8pAq6M+JE9GykDRzDiyxzzKQIi018z7MspAzfukf8YoykCuibswMB7KQGwldJdUE8pAn48y4ioIykCT9YpdufzJQEd55uX48MlA5xNoZvTkyUBmAF5VnNjJQEGpUaPzy8lAf/VdtgK/yUChtUcUt7HJQOzS0FAlpMlA8WoU7S2WyUA3Li00AYjJQL8+hAKYeclA1OsWgfFqyUByz6kaI1zJQEYZYNUPTclAE4PAyrk9yUD5QDxcHC7JQLfIh+pHHslAzQzR1yIOyUCfCOI8xP3IQM9jOa4r7chAwtyTLETcyEBC8ilbH8vIQLBAT16vuchAgRAkSv6nyEBy11x/HJbIQDgJ77zeg8hAuPJIcmdxyED6+aU0oV7IQMudPqedS8hAvDg7Y2k4yECfUJms2yTIQG/ek+IuEchAkcJQ4kb9x0BRbjaxG+nHQJXPPMqq1MdAZs1+k/y/x0A4jrNEIqvHQGmuLgIOlsdAL6+3KK6Ax0CigO1gDGvHQOA02C8rVcdAXhSYqRQ/x0B6mRcWwijHQBKQ5RM4EsdAzH0XW337xkCxSchRmuTGQF/WxAJ/zcZAjPZ4ISW2xkDJ4qNqoJ7GQNhUzPfyhsZA+bTUixNvxkCGWz6SAlfGQGv7sg/NPsZAR5lo61smxkAk+hCvvg3GQKbFKu/09MVAI+77gRTcxUCf2b/8B8PFQL7rIjvdqcVAzJWLQoyQxUBrXQ/LG3fFQOqRq/2KXcVAib2reclDxUAcxYN30ynFQIsXC0PED8VAf34pTZT1xEAzQFh8QdvEQMZun1XOwMRAZUf0fDemxEDwc3y0iIvEQFovhnKycMRAaDOY0LZVxECg878BmjrEQBJ5gUhdH8RAbVJ2nwgExECL5fEPtujDQDUwTWxZzcNAYo8/B9yxw0CCqKBHMZbDQC154XN8esNAEA+8tadew0AMNr+rt0LDQDaat0XEJsNASDB6E8AKw0Cy/FRww+7CQH6H7M2x0sJA3Y4VoaW2wkAVnRuJjprCQHEjZYtkfsJA1A/qIiViwkBtn5/zzEXCQGJKyRdJKcJAOwVUk7sMwkClu5CzFfDBQDTqEO5c08FAIrXkTJa2wUBRCgRLv5nBQOD7dm3afMFAxcSLKthfwUCWQErs4kLBQNEdDlzvJcFAev8fJxQJwUDCInXxTezAQNwI1ReLz8BA4mTRKqmywECxviYQu5XAQII65dHFeMBAZeGQsspbwED29Gyx3j7AQKRXXk0hIsBA2GpqNJQFwEAaW2MrM9K/QGArobskmb9Ais4yi+Bfv0B8MhAVZCa/QCToeYHD7L5Ayp3j7SKzvkC8okqDgXm+QMAxFSz/P75A7FqMy2IGvkAMnegEvsy9QJXh0/f1kr1Am/aDcBtZvUDbL0TzRR+9QEJ9y5yu5bxAtCuI3HesvEB/b9OfbXO8QNKFooqMOrxAQq55+q0BvEBU/e8tsci7QHd3U4Cuj7tAc93vq21Wu0ApOGFnHx27QNtOAGrf47pArrt5qpOqukD6VW/DHnG6QArMVNKkN7pAJsreUg7+uUBe2nBYesS5QIB7Q4b6irlA3UAmvn9RuUC51s178he5QDrX5rU43rhAhBJm2p6kuEA=\"},\"shape\":[169],\"dtype\":\"float64\",\"order\":\"little\"}]]}}},\"view\":{\"type\":\"object\",\"name\":\"CDSView\",\"id\":\"p1092\",\"attributes\":{\"filter\":{\"type\":\"object\",\"name\":\"AllIndices\",\"id\":\"p1093\"}}},\"glyph\":{\"type\":\"object\",\"name\":\"Line\",\"id\":\"p1088\",\"attributes\":{\"x\":{\"type\":\"field\",\"field\":\"x\"},\"y\":{\"type\":\"field\",\"field\":\"y\"},\"line_color\":\"palegoldenrod\",\"line_width\":2}},\"nonselection_glyph\":{\"type\":\"object\",\"name\":\"Line\",\"id\":\"p1089\",\"attributes\":{\"x\":{\"type\":\"field\",\"field\":\"x\"},\"y\":{\"type\":\"field\",\"field\":\"y\"},\"line_color\":\"palegoldenrod\",\"line_alpha\":0.1,\"line_width\":2}},\"muted_glyph\":{\"type\":\"object\",\"name\":\"Line\",\"id\":\"p1090\",\"attributes\":{\"x\":{\"type\":\"field\",\"field\":\"x\"},\"y\":{\"type\":\"field\",\"field\":\"y\"},\"line_color\":\"palegoldenrod\",\"line_alpha\":0.2,\"line_width\":2}}}},{\"type\":\"object\",\"name\":\"GlyphRenderer\",\"id\":\"p1102\",\"attributes\":{\"y_range_name\":\"angle\",\"data_source\":{\"type\":\"object\",\"name\":\"ColumnDataSource\",\"id\":\"p1096\",\"attributes\":{\"selected\":{\"type\":\"object\",\"name\":\"Selection\",\"id\":\"p1097\",\"attributes\":{\"indices\":[],\"line_indices\":[]}},\"selection_policy\":{\"type\":\"object\",\"name\":\"UnionRenderers\",\"id\":\"p1098\"},\"data\":{\"type\":\"map\",\"entries\":[[\"x\",{\"type\":\"ndarray\",\"array\":{\"type\":\"bytes\",\"data\":\"AAAAAAAAAAAAAAAAmpnJPwAAAACZmdk/AAAAADMz4z8AAACAmZnpPwAAAAAAAPA/AAAAQDMz8z8AAABAZmb2PwAAAICZmfk/AAAAwMzM/D8AAAAAAAAAQAAAAKCZmQFAAAAAIDMzA0AAAADAzMwEQAAAAGBmZgZAAAAAAAAACEAAAACgmZkJQAAAACAzMwtAAAAAwMzMDEAAAABgZmYOQAAAAAAAABBAAAAA0MzMEEAAAACQmZkRQAAAAGBmZhJAAAAAMDMzE0AAAAAAAAAUQAAAANDMzBRAAAAAkJmZFUAAAABgZmYWQAAAADAzMxdAAAAAAAAAGEAAAADQzMwYQAAAAJCZmRlAAAAAYGZmGkAAAAAwMzMbQAAAAAAAABxAAAAA0MzMHEAAAACQmZkdQAAAAGBmZh5AAAAAMDMzH0AAAAAAAAAgQAAAAGhmZiBAAAAAyMzMIEAAAAAwMzMhQAAAAJiZmSFAAAAAAAAAIkAAAABoZmYiQAAAAMjMzCJAAAAAMDMzI0AAAACYmZkjQAAAAAAAACRAAAAAaGZmJEAAAADIzMwkQAAAADAzMyVAAAAAmJmZJUAAAAAAAAAmQAAAAGhmZiZAAAAAyMzMJkAAAAAwMzMnQAAAAJiZmSdAAAAAAAAAKEAAAABoZmYoQAAAAMjMzChAAAAAMDMzKUAAAACYmZkpQAAAAAAAACpAAAAAaGZmKkAAAADIzMwqQAAAADAzMytAAAAAmJmZK0AAAAAAAAAsQAAAAGhmZixAAAAAyMzMLEAAAAAwMzMtQAAAAJiZmS1AAAAAAAAALkAAAABoZmYuQAAAAMjMzC5AAAAAMDMzL0AAAACYmZkvQAAAAAAAADBAAAAANDMzMEAAAABkZmYwQAAAAJiZmTBAAAAAzMzMMEAAAAAAAAAxQAAAADQzMzFAAAAAZGZmMUAAAACYmZkxQAAAAMzMzDFAAAAAAAAAMkAAAAA0MzMyQAAAAGRmZjJAAAAAmJmZMkAAAADMzMwyQAAAAAAAADNAAAAANDMzM0AAAABkZmYzQAAAAJiZmTNAAAAAzMzMM0AAAAAAAAA0QAAAADQzMzRAAAAAZGZmNEAAAACYmZk0QAAAAMzMzDRAAAAAAAAANUAAAAA0MzM1QAAAAGRmZjVAAAAAmJmZNUAAAADMzMw1QAAAAAAAADZAAAAANDMzNkAAAABkZmY2QAAAAJiZmTZAAAAAzMzMNkAAAAAAAAA3QAAAADQzMzdAAAAAZGZmN0AAAACYmZk3QAAAAMzMzDdAAAAAAAAAOEAAAAA0MzM4QAAAAGRmZjhAAAAAmJmZOEAAAADMzMw4QAAAAAAAADlAAAAANDMzOUAAAABkZmY5QAAAAJiZmTlAAAAAzMzMOUAAAAAAAAA6QAAAADQzMzpAAAAAZGZmOkAAAACYmZk6QAAAAMzMzDpAAAAAAAAAO0AAAAA0MzM7QAAAAGRmZjtAAAAAmJmZO0AAAADMzMw7QAAAAAAAADxAAAAANDMzPEAAAABkZmY8QAAAAJiZmTxAAAAAzMzMPEAAAAAAAAA9QAAAADQzMz1AAAAAZGZmPUAAAACYmZk9QAAAAMzMzD1AAAAAAAAAPkAAAAA0MzM+QAAAAGRmZj5AAAAAmJmZPkAAAADMzMw+QAAAAAAAAD9AAAAANDMzP0AAAABkZmY/QAAAAJiZmT9AAAAAzMzMP0AAAAAAAABAQAAAAJqZGUBAAAAAMjMzQEAAAADMzExAQAAAAGZmZkBAAAAAAACAQEAAAACamZlAQAAAADIzs0BAAAAAzMzMQEA=\"},\"shape\":[169],\"dtype\":\"float64\",\"order\":\"little\"}],[\"y\",{\"type\":\"ndarray\",\"array\":{\"type\":\"bytes\",\"data\":\"MzMzMzMzK0BmZmZmZmYuQAAAAAAAADFAmpmZmZmZMkDNzMzMzEw0QAAAAAAAADZAAAAAAAAAOEAzMzMzM7M5QDMzMzMzsztAMzMzMzOzPUCamZmZmZk/QGZmZmZmpkBAzczMzMyMQUAzMzMzM3NCQDMzMzMzM0NAMzMzMzPzQ0DNzMzMzMxEQM3MzMzMjEVAMzMzMzMzRkBmZmZmZuZGQAAAAAAAgEdAZmZmZmYmSEDNzMzMzMxIQM3MzMzMTElAZmZmZmbmSUDNzMzMzExKQM3MzMzMzEpAMzMzMzMzS0AzMzMzM7NLQM3MzMzMDExAMzMzMzNzTEAAAAAAAMBMQDMzMzMzM01AMzMzMzNzTUAzMzMzM7NNQDMzMzMz801AmpmZmZkZTkBmZmZmZiZOQGZmZmZmZk5AzczMzMyMTkCamZmZmdlOQGZmZmZm5k5AAAAAAAAAT0BmZmZmZiZPQAAAAAAAQE9AmpmZmZlZT0AAAAAAAIBPQGZmZmZmpk9AZmZmZmamT0DNzMzMzMxPQDMzMzMz809AAAAAAAAAUEDNzMzMzAxQQJqZmZmZGVBAmpmZmZkZUEDNzMzMzCxQQM3MzMzMLFBAzczMzMwsUEAzMzMzMzNQQJqZmZmZOVBAAAAAAABAUEAAAAAAAEBQQM3MzMzMTFBAMzMzMzNTUECamZmZmVlQQAAAAAAAYFBAZmZmZmZmUEDNzMzMzGxQQAAAAAAAYFBAZmZmZmZmUEAAAAAAAGBQQAAAAAAAYFBAZmZmZmZmUEBmZmZmZmZQQGZmZmZmZlBAZmZmZmZmUEDNzMzMzGxQQJqZmZmZeVBAAAAAAACAUEAAAAAAAIBQQGZmZmZmhlBAzczMzMyMUEBmZmZmZoZQQM3MzMzMjFBAZmZmZmaGUEAzMzMzM5NQQDMzMzMzk1BAZmZmZmamUEDNzMzMzKxQQGZmZmZmplBAMzMzMzOzUECamZmZmblQQM3MzMzMzFBAMzMzMzPTUEDNzMzMzMxQQJqZmZmZ2VBAAAAAAADgUEDNzMzMzOxQQM3MzMzM7FBAZmZmZmbmUECamZmZmdlQQAAAAAAA4FBAzczMzMzsUEAzMzMzM/NQQAAAAAAAAFFAzczMzMwMUUBmZmZmZgZRQGZmZmZmBlFAAAAAAAAAUUAAAAAAAABRQGZmZmZmBlFAMzMzMzPzUEAAAAAAAABRQGZmZmZmBlFAMzMzMzMTUUBmZmZmZiZRQM3MzMzMLFFAZmZmZmZGUUDNzMzMzExRQDMzMzMzU1FAMzMzMzNTUUAAAAAAAGBRQM3MzMzMbFFAzczMzMxsUUAAAAAAAGBRQJqZmZmZWVFAmpmZmZk5UUAzMzMzMzNRQDMzMzMzM1FAMzMzMzNTUUAzMzMzM1NRQJqZmZmZWVFAMzMzMzNTUUAAAAAAAEBRQGZmZmZmJlFAMzMzMzMTUUAzMzMzMxNRQJqZmZmZOVFAzczMzMxMUUBmZmZmZmZRQGZmZmZmZlFAZmZmZmZmUUDNzMzMzGxRQAAAAAAAYFFAZmZmZmZmUUDNzMzMzGxRQDMzMzMzc1FAMzMzMzNzUUAzMzMzM3NRQJqZmZmZWVFAAAAAAABAUUAzMzMzMzNRQDMzMzMzM1FAAAAAAABAUUDNzMzMzExRQM3MzMzMbFFAmpmZmZl5UUCamZmZmXlRQAAAAAAAgFFAZmZmZmaGUUBmZmZmZoZRQM3MzMzMjFFAMzMzMzOTUUAzMzMzM5NRQM3MzMzMjFFAmpmZmZmZUUAzMzMzM7NRQM3MzMzMzFFAAAAAAADgUUA=\"},\"shape\":[169],\"dtype\":\"float64\",\"order\":\"little\"}]]}}},\"view\":{\"type\":\"object\",\"name\":\"CDSView\",\"id\":\"p1103\",\"attributes\":{\"filter\":{\"type\":\"object\",\"name\":\"AllIndices\",\"id\":\"p1104\"}}},\"glyph\":{\"type\":\"object\",\"name\":\"Line\",\"id\":\"p1099\",\"attributes\":{\"x\":{\"type\":\"field\",\"field\":\"x\"},\"y\":{\"type\":\"field\",\"field\":\"y\"},\"line_color\":\"deepskyblue\",\"line_width\":2}},\"nonselection_glyph\":{\"type\":\"object\",\"name\":\"Line\",\"id\":\"p1100\",\"attributes\":{\"x\":{\"type\":\"field\",\"field\":\"x\"},\"y\":{\"type\":\"field\",\"field\":\"y\"},\"line_color\":\"deepskyblue\",\"line_alpha\":0.1,\"line_width\":2}},\"muted_glyph\":{\"type\":\"object\",\"name\":\"Line\",\"id\":\"p1101\",\"attributes\":{\"x\":{\"type\":\"field\",\"field\":\"x\"},\"y\":{\"type\":\"field\",\"field\":\"y\"},\"line_color\":\"deepskyblue\",\"line_alpha\":0.2,\"line_width\":2}}}},{\"type\":\"object\",\"name\":\"GlyphRenderer\",\"id\":\"p1113\",\"attributes\":{\"data_source\":{\"type\":\"object\",\"name\":\"ColumnDataSource\",\"id\":\"p1107\",\"attributes\":{\"selected\":{\"type\":\"object\",\"name\":\"Selection\",\"id\":\"p1108\",\"attributes\":{\"indices\":[],\"line_indices\":[]}},\"selection_policy\":{\"type\":\"object\",\"name\":\"UnionRenderers\",\"id\":\"p1109\"},\"data\":{\"type\":\"map\",\"entries\":[[\"x\",{\"type\":\"ndarray\",\"array\":{\"type\":\"bytes\",\"data\":\"AAAAAAAAAAAAAAAAmpnJPwAAAACZmdk/AAAAADMz4z8AAACAmZnpPwAAAAAAAPA/AAAAQDMz8z8AAABAZmb2PwAAAICZmfk/AAAAwMzM/D8AAAAAAAAAQAAAAKCZmQFAAAAAIDMzA0AAAADAzMwEQAAAAGBmZgZAAAAAAAAACEAAAACgmZkJQAAAACAzMwtAAAAAwMzMDEAAAABgZmYOQAAAAAAAABBAAAAA0MzMEEAAAACQmZkRQAAAAGBmZhJAAAAAMDMzE0AAAAAAAAAUQAAAANDMzBRAAAAAkJmZFUAAAABgZmYWQAAAADAzMxdAAAAAAAAAGEAAAADQzMwYQAAAAJCZmRlAAAAAYGZmGkAAAAAwMzMbQAAAAAAAABxAAAAA0MzMHEAAAACQmZkdQAAAAGBmZh5AAAAAMDMzH0AAAAAAAAAgQAAAAGhmZiBAAAAAyMzMIEAAAAAwMzMhQAAAAJiZmSFAAAAAAAAAIkAAAABoZmYiQAAAAMjMzCJAAAAAMDMzI0AAAACYmZkjQAAAAAAAACRAAAAAaGZmJEAAAADIzMwkQAAAADAzMyVAAAAAmJmZJUAAAAAAAAAmQAAAAGhmZiZAAAAAyMzMJkAAAAAwMzMnQAAAAJiZmSdAAAAAAAAAKEAAAABoZmYoQAAAAMjMzChAAAAAMDMzKUAAAACYmZkpQAAAAAAAACpAAAAAaGZmKkAAAADIzMwqQAAAADAzMytAAAAAmJmZK0AAAAAAAAAsQAAAAGhmZixAAAAAyMzMLEAAAAAwMzMtQAAAAJiZmS1AAAAAAAAALkAAAABoZmYuQAAAAMjMzC5AAAAAMDMzL0AAAACYmZkvQAAAAAAAADBAAAAANDMzMEAAAABkZmYwQAAAAJiZmTBAAAAAzMzMMEAAAAAAAAAxQAAAADQzMzFAAAAAZGZmMUAAAACYmZkxQAAAAMzMzDFAAAAAAAAAMkAAAAA0MzMyQAAAAGRmZjJAAAAAmJmZMkAAAADMzMwyQAAAAAAAADNAAAAANDMzM0AAAABkZmYzQAAAAJiZmTNAAAAAzMzMM0AAAAAAAAA0QAAAADQzMzRAAAAAZGZmNEAAAACYmZk0QAAAAMzMzDRAAAAAAAAANUAAAAA0MzM1QAAAAGRmZjVAAAAAmJmZNUAAAADMzMw1QAAAAAAAADZAAAAANDMzNkAAAABkZmY2QAAAAJiZmTZAAAAAzMzMNkAAAAAAAAA3QAAAADQzMzdAAAAAZGZmN0AAAACYmZk3QAAAAMzMzDdAAAAAAAAAOEAAAAA0MzM4QAAAAGRmZjhAAAAAmJmZOEAAAADMzMw4QAAAAAAAADlAAAAANDMzOUAAAABkZmY5QAAAAJiZmTlAAAAAzMzMOUAAAAAAAAA6QAAAADQzMzpAAAAAZGZmOkAAAACYmZk6QAAAAMzMzDpAAAAAAAAAO0AAAAA0MzM7QAAAAGRmZjtAAAAAmJmZO0AAAADMzMw7QAAAAAAAADxAAAAANDMzPEAAAABkZmY8QAAAAJiZmTxAAAAAzMzMPEAAAAAAAAA9QAAAADQzMz1AAAAAZGZmPUAAAACYmZk9QAAAAMzMzD1AAAAAAAAAPkAAAAA0MzM+QAAAAGRmZj5AAAAAmJmZPkAAAADMzMw+QAAAAAAAAD9AAAAANDMzP0AAAABkZmY/QAAAAJiZmT9AAAAAzMzMP0AAAAAAAABAQAAAAJqZGUBAAAAAMjMzQEAAAADMzExAQAAAAGZmZkBAAAAAAACAQEAAAACamZlAQAAAADIzs0BAAAAAzMzMQEA=\"},\"shape\":[169],\"dtype\":\"float64\",\"order\":\"little\"}],[\"y\",{\"type\":\"ndarray\",\"array\":{\"type\":\"bytes\",\"data\":\"EoPAyqGFQkDwp8ZLN0lEQHNoke18P0ZAYeXQItv5R0D0/dR46eZJQCPb+X5qfEtAMzMzMzOzTUAYBFYOLXJPQGq8dJMYpFBAnMQgsHKoUUDJdr6fGq9SQFg5tMh2flNAiUFg5dCCVEAMAiuHFllVQGq8dJMYRFZA8tJNYhAYV0Bh5dAi2/lXQL+fGi/d5FhAObTIdr6/WUCoxks3iaFaQESLbOf7aVtAqvHSTWJQXEAFVg4tsj1dQG4Sg8DKIV5A2c73U+MFX0B9PzVeuslfQPyp8dJNUmBASgwCK4e2YEBzaJHtfC9hQMHKoUW2k2FACKwcWmT7YUBh5dAi21liQHsUrkfh2mJAtvP91HhJY0AaL90kBqFjQG3n+6nxAmRA7FG4HoVLZEB/arx0k4hkQOf7qfHS3WRAPN9PjZc+ZUCBlUOLbKdlQPYoXI/C9WVAWDm0yHZOZkDLoUW2851mQDzfT42X7mZAg8DKoUVWZ0DeJAaBlbNnQDMzMzMzE2hAsHJoke1caED+1HjpJsFoQEjhehSuJ2lAqMZLN4mBaUARWDm0yNZpQGdmZmZmNmpAxSCwcmiRakAw3SQGgeVqQKJFtvP9NGtAKVyPwvV4a0CPwvUoXM9rQOF6FK5HMWxAXI/C9Sh8bEDMoUW2881sQCQGgZVDK21AfBSuR+GKbUD6fmq8dNNtQGHl0CLbKW5AyHa+nxp/bkBPYhBYOcRuQOomMQis/G5ASeF6FK5Xb0DufD81XopvQFc5tMh23m9Aarx0kxgUcEDByqFFtitwQAvXo3A9SnBA001iEFhpcEAaL90kBolwQNijcD0Kr3BAGi/dJAbRcEBvEoPAyulwQM/3U+Ol+3BAjpduEoMgcUBkO99PjTdxQMHKoUW2S3FAI9v5fmpccUB1kxgEVnZxQNNNYhBYiXFAke18PzWucUBSuB6F69FxQD81XrpJ3HFAlBgEVg71cUBnZmZmZg5yQCPb+X5qNHJAhetRuB5FckB1kxgEVk5yQD4K16NwbXJAFK5H4XqEckDkpZvEIKByQLx0kxgEtnJAPN9PjZe2ckC7SQwCK7dyQJQYBFYOzXJAarx0kxjkckBWDi2yne9yQLkehetRAHNACKwcWmQbc0B7FK5H4SJzQPYoXI/CJXNA5/up8dItc0DsUbgehStzQEoMAiuHPnNAYeXQItsxc0DFILByaEFzQKrx0k1iUHNACKwcWmRjc0Bcj8L1KHxzQEw3iUFghXNAne+nxkufc0AGgZVDi6xzQHNoke18t3NAbxKDwMq5c0BqvHSTGLxzQMdLN4lB0HNANl66SQzac0DYo3A9CsdzQMl2vp8az3NA/tR46Saxc0B/arx0k7BzQIGVQ4tsr3NATDeJQWDNc0DP91PjpctzQMdLN4lB0HNAxSCwcmjRc0Bt5/up8bpzQCUGgZVDm3NA3iQGgZV7c0BxPQrXo3BzQDDdJAaBlXNAppvEILCac0B1kxgEVrZzQIPAyqFFrnNAAAAAAACwc0DsUbgehbtzQARWDi2yrXNAaZHtfD+9c0BYObTIdsZzQNv5fmq8xHNA1XjpJjHIc0DVeOkmMchzQJZDi2zno3NAPgrXo3CNc0Bh5dAi23lzQP7UeOkmaXNA3iQGgZV7c0Dn+6nx0nVzQK5H4XoUlnNAJQaBlUObc0Aw3SQGgZVzQDEIrBxalHNAne+nxkufc0ARWDm0yKZzQARWDi2yrXNAAiuHFtmuc0CBlUOLbK9zQJZDi2zno3NAiBbZzverc0BjEFg5tMBzQOSlm8QgwHNAYeXQItvBc0A=\"},\"shape\":[169],\"dtype\":\"float64\",\"order\":\"little\"}]]}}},\"view\":{\"type\":\"object\",\"name\":\"CDSView\",\"id\":\"p1114\",\"attributes\":{\"filter\":{\"type\":\"object\",\"name\":\"AllIndices\",\"id\":\"p1115\"}}},\"glyph\":{\"type\":\"object\",\"name\":\"Line\",\"id\":\"p1110\",\"attributes\":{\"x\":{\"type\":\"field\",\"field\":\"x\"},\"y\":{\"type\":\"field\",\"field\":\"y\"},\"line_color\":\"limegreen\",\"line_width\":2}},\"nonselection_glyph\":{\"type\":\"object\",\"name\":\"Line\",\"id\":\"p1111\",\"attributes\":{\"x\":{\"type\":\"field\",\"field\":\"x\"},\"y\":{\"type\":\"field\",\"field\":\"y\"},\"line_color\":\"limegreen\",\"line_alpha\":0.1,\"line_width\":2}},\"muted_glyph\":{\"type\":\"object\",\"name\":\"Line\",\"id\":\"p1112\",\"attributes\":{\"x\":{\"type\":\"field\",\"field\":\"x\"},\"y\":{\"type\":\"field\",\"field\":\"y\"},\"line_color\":\"limegreen\",\"line_alpha\":0.2,\"line_width\":2}}}},{\"type\":\"object\",\"name\":\"GlyphRenderer\",\"id\":\"p1123\",\"attributes\":{\"data_source\":{\"type\":\"object\",\"name\":\"ColumnDataSource\",\"id\":\"p1117\",\"attributes\":{\"selected\":{\"type\":\"object\",\"name\":\"Selection\",\"id\":\"p1118\",\"attributes\":{\"indices\":[],\"line_indices\":[]}},\"selection_policy\":{\"type\":\"object\",\"name\":\"UnionRenderers\",\"id\":\"p1119\"},\"data\":{\"type\":\"map\",\"entries\":[[\"x\",{\"type\":\"ndarray\",\"array\":{\"type\":\"bytes\",\"data\":\"AAAAAAAAAAAAAAAAmpnJPwAAAACZmdk/AAAAADMz4z8AAACAmZnpPwAAAAAAAPA/AAAAQDMz8z8AAABAZmb2PwAAAICZmfk/AAAAwMzM/D8AAAAAAAAAQAAAAKCZmQFAAAAAIDMzA0AAAADAzMwEQAAAAGBmZgZAAAAAAAAACEAAAACgmZkJQAAAACAzMwtAAAAAwMzMDEAAAABgZmYOQAAAAAAAABBAAAAA0MzMEEAAAACQmZkRQAAAAGBmZhJAAAAAMDMzE0AAAAAAAAAUQAAAANDMzBRAAAAAkJmZFUAAAABgZmYWQAAAADAzMxdAAAAAAAAAGEAAAADQzMwYQAAAAJCZmRlAAAAAYGZmGkAAAAAwMzMbQAAAAAAAABxAAAAA0MzMHEAAAACQmZkdQAAAAGBmZh5AAAAAMDMzH0AAAAAAAAAgQAAAAGhmZiBAAAAAyMzMIEAAAAAwMzMhQAAAAJiZmSFAAAAAAAAAIkAAAABoZmYiQAAAAMjMzCJAAAAAMDMzI0AAAACYmZkjQAAAAAAAACRAAAAAaGZmJEAAAADIzMwkQAAAADAzMyVAAAAAmJmZJUAAAAAAAAAmQAAAAGhmZiZAAAAAyMzMJkAAAAAwMzMnQAAAAJiZmSdAAAAAAAAAKEAAAABoZmYoQAAAAMjMzChAAAAAMDMzKUAAAACYmZkpQAAAAAAAACpAAAAAaGZmKkAAAADIzMwqQAAAADAzMytAAAAAmJmZK0AAAAAAAAAsQAAAAGhmZixAAAAAyMzMLEAAAAAwMzMtQAAAAJiZmS1AAAAAAAAALkAAAABoZmYuQAAAAMjMzC5AAAAAMDMzL0AAAACYmZkvQAAAAAAAADBAAAAANDMzMEAAAABkZmYwQAAAAJiZmTBAAAAAzMzMMEAAAAAAAAAxQAAAADQzMzFAAAAAZGZmMUAAAACYmZkxQAAAAMzMzDFAAAAAAAAAMkAAAAA0MzMyQAAAAGRmZjJAAAAAmJmZMkAAAADMzMwyQAAAAAAAADNAAAAANDMzM0AAAABkZmYzQAAAAJiZmTNAAAAAzMzMM0AAAAAAAAA0QAAAADQzMzRAAAAAZGZmNEAAAACYmZk0QAAAAMzMzDRAAAAAAAAANUAAAAA0MzM1QAAAAGRmZjVAAAAAmJmZNUAAAADMzMw1QAAAAAAAADZAAAAANDMzNkAAAABkZmY2QAAAAJiZmTZAAAAAzMzMNkAAAAAAAAA3QAAAADQzMzdAAAAAZGZmN0AAAACYmZk3QAAAAMzMzDdAAAAAAAAAOEAAAAA0MzM4QAAAAGRmZjhAAAAAmJmZOEAAAADMzMw4QAAAAAAAADlAAAAANDMzOUAAAABkZmY5QAAAAJiZmTlAAAAAzMzMOUAAAAAAAAA6QAAAADQzMzpAAAAAZGZmOkAAAACYmZk6QAAAAMzMzDpAAAAAAAAAO0AAAAA0MzM7QAAAAGRmZjtAAAAAmJmZO0AAAADMzMw7QAAAAAAAADxAAAAANDMzPEAAAABkZmY8QAAAAJiZmTxAAAAAzMzMPEAAAAAAAAA9QAAAADQzMz1AAAAAZGZmPUAAAACYmZk9QAAAAMzMzD1AAAAAAAAAPkAAAAA0MzM+QAAAAGRmZj5AAAAAmJmZPkAAAADMzMw+QAAAAAAAAD9AAAAANDMzP0AAAABkZmY/QAAAAJiZmT9AAAAAzMzMP0AAAAAAAABAQAAAAJqZGUBAAAAAMjMzQEAAAADMzExAQAAAAGZmZkBAAAAAAACAQEAAAACamZlAQAAAADIzs0BAAAAAzMzMQEA=\"},\"shape\":[169],\"dtype\":\"float64\",\"order\":\"little\"}],[\"y\",{\"type\":\"ndarray\",\"array\":{\"type\":\"bytes\",\"data\":\"kLReDGo1Y0AzG+e8PrFiQB7N29APN2JAnhUtMnbTYUCR1wdf0nZhQJ9v/OysAWFAZWfHuZqmYEBZhgPUFE5gQPWcGShfwl9AN+Dq5kH8XkCIGYscU2xeQGIAzm1dsV1Au5QrHwkxXUD6rabdj2dcQCdJbPABElxAATsALTeZW0AqH1VlwAtbQCxgT9Uim1pA8FrK0w5JWkA8/lsvjdpZQNBle4IvjllA0ShBmFk3WUAx95vS2d9YQDKOH7KFuFhAiBEeUPttWEDCIw24vUdYQG0E0f1SD1hAN5VVwe7lV0DMPVzkPbRXQPBBqONUnVdAzoeKl3lyV0DiwnDud19XQOIQFowHPldADiShy8lEV0A7AgJsjz9XQAAsz4sdM1dAoszoc/g/V0CskvX/PmlXQGsIF93jS1dAt2vf1t9rV0C58sTyd0lXQHHMGPU5jVdAUGnTTbGwV0DaVsXGQbZXQJBPR5Nk2ldAW3ZReacLWEDHZ7qQKBpYQPX6m4ylMlhAwNS4BDeBWEAl8rsvg51YQLUxTMrorlhAj+bvGH7UWEBdR9AgbPVYQCHo3c5XIFlAGwhH3lBrWUBi/xajs3ZZQNlVZPpEwFlAavsnEoT0WUBFFLFmtDhaQHACnP9HY1pA1Yw8mrydWkDqB1k+681aQLzZVR3n8lpA7RHFEJgiW0B9vvC8lVRbQByMY+XlhltALQmbJym5W0CLJF++ksdbQNCHRhHrOFxAk7//AHJlXEAR+6xc5sdcQKJwNygs/FxAyTZdsKsbXUB8PQ5K7WBdQDx2nnZ7jl1ADwa8MoG4XUCTT79yR+ldQMlz+60k3l1A0QLrAAoCXkBI4sizbg9eQOgKvjXMHF5A6ZWykcBFXkASAZleu3heQFJRUdE6fV5AraUfbcvAXkAdc/AWqKJeQOZkhRIYwF5Al22gxW+sXkDGMRx0tsBeQIjYHpMW215ADAX0xUDQXkC5kqHvYdBeQIkM7fbfo15AtyKLfjmgXkApBbf7VdVeQCEu+qmLq15ApZVJGuK8XkDlyIyJfpleQEZoyNpQo15Aijg1aM/lXkDfrjuaEy5fQE5+BjjtGV9A7W+CBt8BX0D8Hq+eSvVeQGL8SvqUsl5ATsWQizeaXkA671w0jrReQNV2nlik0F5ARy8cRb/yXkDzALcv8A1fQGDXU7UF/l5AOJ2LhZVHX0D3wjfSyCdfQAiuzi8O/l5AFHutqNHbXkB/bOM9zXpeQLO8iE/LYV5AmBrTWMkKXkDI4/Je3dhdQPNi0xba0F1A/DTD5KDAXUDVBEI0hZNdQOi2wl87Tl1AbHjz8J9cXUD3A3D3FKRdQLerPQD7zV1AZyS18v5yXkBzwzLfO35eQL9SJaHydl5AjQ6eybj+XUDjMaLSPPJdQGdUv73bx11APWJex2XqXUD1L9rAJlJeQDusLSIovl5A9/5wNMoUX0C43s2aXPReQPhpOiuFRF5AFWg/hVy2XUBoF3PL1z5dQGVDVQeEM11AVESJha9LXUDHB2ic2R5dQNDuNj0UbF1A95AheUxVXUA80srjo0VdQAw/Kr2RJ11AhJTP8L4PXUDNqHxEkChdQPvajDrnmF1Aw2yPWhj4XUCyJepweCpeQPJkieTzK15AWeP742TZXUB3hzAotJtdQEY3vO2kDF1ApWJUjAG7XEAW+Pe4RJ9cQAW56nsfhVxALH4CR212XEBzqNQ67WBcQPeHylSbW1xAwbKIf1JCXEA8OwTqvD5cQHR3MGTXU1xAtvYepfcAXECL4LGRrntbQH4o8ovr8lpAOOY0CmB2WkA=\"},\"shape\":[169],\"dtype\":\"float64\",\"order\":\"little\"}]]}}},\"view\":{\"type\":\"object\",\"name\":\"CDSView\",\"id\":\"p1124\",\"attributes\":{\"filter\":{\"type\":\"object\",\"name\":\"AllIndices\",\"id\":\"p1125\"}}},\"glyph\":{\"type\":\"object\",\"name\":\"Line\",\"id\":\"p1120\",\"attributes\":{\"x\":{\"type\":\"field\",\"field\":\"x\"},\"y\":{\"type\":\"field\",\"field\":\"y\"},\"line_color\":\"red\",\"line_width\":2}},\"nonselection_glyph\":{\"type\":\"object\",\"name\":\"Line\",\"id\":\"p1121\",\"attributes\":{\"x\":{\"type\":\"field\",\"field\":\"x\"},\"y\":{\"type\":\"field\",\"field\":\"y\"},\"line_color\":\"red\",\"line_alpha\":0.1,\"line_width\":2}},\"muted_glyph\":{\"type\":\"object\",\"name\":\"Line\",\"id\":\"p1122\",\"attributes\":{\"x\":{\"type\":\"field\",\"field\":\"x\"},\"y\":{\"type\":\"field\",\"field\":\"y\"},\"line_color\":\"red\",\"line_alpha\":0.2,\"line_width\":2}}}},{\"type\":\"object\",\"name\":\"GlyphRenderer\",\"id\":\"p1133\",\"attributes\":{\"data_source\":{\"type\":\"object\",\"name\":\"ColumnDataSource\",\"id\":\"p1127\",\"attributes\":{\"selected\":{\"type\":\"object\",\"name\":\"Selection\",\"id\":\"p1128\",\"attributes\":{\"indices\":[],\"line_indices\":[]}},\"selection_policy\":{\"type\":\"object\",\"name\":\"UnionRenderers\",\"id\":\"p1129\"},\"data\":{\"type\":\"map\",\"entries\":[[\"x0\",[26.59999990463257]],[\"y0\",[0.0]],[\"x1\",[26.59999990463257]],[\"y1\",[316.1295]]]}}},\"view\":{\"type\":\"object\",\"name\":\"CDSView\",\"id\":\"p1134\",\"attributes\":{\"filter\":{\"type\":\"object\",\"name\":\"AllIndices\",\"id\":\"p1135\"}}},\"glyph\":{\"type\":\"object\",\"name\":\"Segment\",\"id\":\"p1130\",\"attributes\":{\"x0\":{\"type\":\"field\",\"field\":\"x0\"},\"y0\":{\"type\":\"field\",\"field\":\"y0\"},\"x1\":{\"type\":\"field\",\"field\":\"x1\"},\"y1\":{\"type\":\"field\",\"field\":\"y1\"},\"line_color\":{\"type\":\"value\",\"value\":\"lightblue\"},\"line_width\":{\"type\":\"value\",\"value\":3}}},\"nonselection_glyph\":{\"type\":\"object\",\"name\":\"Segment\",\"id\":\"p1131\",\"attributes\":{\"x0\":{\"type\":\"field\",\"field\":\"x0\"},\"y0\":{\"type\":\"field\",\"field\":\"y0\"},\"x1\":{\"type\":\"field\",\"field\":\"x1\"},\"y1\":{\"type\":\"field\",\"field\":\"y1\"},\"line_color\":{\"type\":\"value\",\"value\":\"lightblue\"},\"line_alpha\":{\"type\":\"value\",\"value\":0.1},\"line_width\":{\"type\":\"value\",\"value\":3}}},\"muted_glyph\":{\"type\":\"object\",\"name\":\"Segment\",\"id\":\"p1132\",\"attributes\":{\"x0\":{\"type\":\"field\",\"field\":\"x0\"},\"y0\":{\"type\":\"field\",\"field\":\"y0\"},\"x1\":{\"type\":\"field\",\"field\":\"x1\"},\"y1\":{\"type\":\"field\",\"field\":\"y1\"},\"line_color\":{\"type\":\"value\",\"value\":\"lightblue\"},\"line_alpha\":{\"type\":\"value\",\"value\":0.2},\"line_width\":{\"type\":\"value\",\"value\":3}}}}},{\"type\":\"object\",\"name\":\"GlyphRenderer\",\"id\":\"p1142\",\"attributes\":{\"data_source\":{\"type\":\"object\",\"name\":\"ColumnDataSource\",\"id\":\"p1136\",\"attributes\":{\"selected\":{\"type\":\"object\",\"name\":\"Selection\",\"id\":\"p1137\",\"attributes\":{\"indices\":[],\"line_indices\":[]}},\"selection_policy\":{\"type\":\"object\",\"name\":\"UnionRenderers\",\"id\":\"p1138\"},\"data\":{\"type\":\"map\",\"entries\":[[\"x0\",[28.09999990463257]],[\"y0\",[0.0]],[\"x1\",[28.09999990463257]],[\"y1\",[316.1295]]]}}},\"view\":{\"type\":\"object\",\"name\":\"CDSView\",\"id\":\"p1143\",\"attributes\":{\"filter\":{\"type\":\"object\",\"name\":\"AllIndices\",\"id\":\"p1144\"}}},\"glyph\":{\"type\":\"object\",\"name\":\"Segment\",\"id\":\"p1139\",\"attributes\":{\"x0\":{\"type\":\"field\",\"field\":\"x0\"},\"y0\":{\"type\":\"field\",\"field\":\"y0\"},\"x1\":{\"type\":\"field\",\"field\":\"x1\"},\"y1\":{\"type\":\"field\",\"field\":\"y1\"},\"line_color\":{\"type\":\"value\",\"value\":\"darkseagreen\"}}},\"nonselection_glyph\":{\"type\":\"object\",\"name\":\"Segment\",\"id\":\"p1140\",\"attributes\":{\"x0\":{\"type\":\"field\",\"field\":\"x0\"},\"y0\":{\"type\":\"field\",\"field\":\"y0\"},\"x1\":{\"type\":\"field\",\"field\":\"x1\"},\"y1\":{\"type\":\"field\",\"field\":\"y1\"},\"line_color\":{\"type\":\"value\",\"value\":\"darkseagreen\"},\"line_alpha\":{\"type\":\"value\",\"value\":0.1}}},\"muted_glyph\":{\"type\":\"object\",\"name\":\"Segment\",\"id\":\"p1141\",\"attributes\":{\"x0\":{\"type\":\"field\",\"field\":\"x0\"},\"y0\":{\"type\":\"field\",\"field\":\"y0\"},\"x1\":{\"type\":\"field\",\"field\":\"x1\"},\"y1\":{\"type\":\"field\",\"field\":\"y1\"},\"line_color\":{\"type\":\"value\",\"value\":\"darkseagreen\"},\"line_alpha\":{\"type\":\"value\",\"value\":0.2}}}}},{\"type\":\"object\",\"name\":\"GlyphRenderer\",\"id\":\"p1151\",\"attributes\":{\"data_source\":{\"type\":\"object\",\"name\":\"ColumnDataSource\",\"id\":\"p1145\",\"attributes\":{\"selected\":{\"type\":\"object\",\"name\":\"Selection\",\"id\":\"p1146\",\"attributes\":{\"indices\":[],\"line_indices\":[]}},\"selection_policy\":{\"type\":\"object\",\"name\":\"UnionRenderers\",\"id\":\"p1147\"},\"data\":{\"type\":\"map\",\"entries\":[[\"x0\",[25.09999990463257]],[\"y0\",[0.0]],[\"x1\",[25.09999990463257]],[\"y1\",[316.1295]]]}}},\"view\":{\"type\":\"object\",\"name\":\"CDSView\",\"id\":\"p1152\",\"attributes\":{\"filter\":{\"type\":\"object\",\"name\":\"AllIndices\",\"id\":\"p1153\"}}},\"glyph\":{\"type\":\"object\",\"name\":\"Segment\",\"id\":\"p1148\",\"attributes\":{\"x0\":{\"type\":\"field\",\"field\":\"x0\"},\"y0\":{\"type\":\"field\",\"field\":\"y0\"},\"x1\":{\"type\":\"field\",\"field\":\"x1\"},\"y1\":{\"type\":\"field\",\"field\":\"y1\"},\"line_color\":{\"type\":\"value\",\"value\":\"darkseagreen\"}}},\"nonselection_glyph\":{\"type\":\"object\",\"name\":\"Segment\",\"id\":\"p1149\",\"attributes\":{\"x0\":{\"type\":\"field\",\"field\":\"x0\"},\"y0\":{\"type\":\"field\",\"field\":\"y0\"},\"x1\":{\"type\":\"field\",\"field\":\"x1\"},\"y1\":{\"type\":\"field\",\"field\":\"y1\"},\"line_color\":{\"type\":\"value\",\"value\":\"darkseagreen\"},\"line_alpha\":{\"type\":\"value\",\"value\":0.1}}},\"muted_glyph\":{\"type\":\"object\",\"name\":\"Segment\",\"id\":\"p1150\",\"attributes\":{\"x0\":{\"type\":\"field\",\"field\":\"x0\"},\"y0\":{\"type\":\"field\",\"field\":\"y0\"},\"x1\":{\"type\":\"field\",\"field\":\"x1\"},\"y1\":{\"type\":\"field\",\"field\":\"y1\"},\"line_color\":{\"type\":\"value\",\"value\":\"darkseagreen\"},\"line_alpha\":{\"type\":\"value\",\"value\":0.2}}}}},{\"type\":\"object\",\"name\":\"GlyphRenderer\",\"id\":\"p1160\",\"attributes\":{\"data_source\":{\"type\":\"object\",\"name\":\"ColumnDataSource\",\"id\":\"p1154\",\"attributes\":{\"selected\":{\"type\":\"object\",\"name\":\"Selection\",\"id\":\"p1155\",\"attributes\":{\"indices\":[],\"line_indices\":[]}},\"selection_policy\":{\"type\":\"object\",\"name\":\"UnionRenderers\",\"id\":\"p1156\"},\"data\":{\"type\":\"map\",\"entries\":[[\"x\",[26.59999990463257]],[\"y\",[316.1295]],[\"size\",[20]]]}}},\"view\":{\"type\":\"object\",\"name\":\"CDSView\",\"id\":\"p1161\",\"attributes\":{\"filter\":{\"type\":\"object\",\"name\":\"AllIndices\",\"id\":\"p1162\"}}},\"glyph\":{\"type\":\"object\",\"name\":\"Scatter\",\"id\":\"p1157\",\"attributes\":{\"x\":{\"type\":\"field\",\"field\":\"x\"},\"y\":{\"type\":\"field\",\"field\":\"y\"},\"size\":{\"type\":\"field\",\"field\":\"size\"},\"line_color\":{\"type\":\"value\",\"value\":\"lightblue\"},\"line_width\":{\"type\":\"value\",\"value\":3},\"fill_color\":{\"type\":\"value\",\"value\":null},\"marker\":{\"type\":\"value\",\"value\":\"square_cross\"}}},\"nonselection_glyph\":{\"type\":\"object\",\"name\":\"Scatter\",\"id\":\"p1158\",\"attributes\":{\"x\":{\"type\":\"field\",\"field\":\"x\"},\"y\":{\"type\":\"field\",\"field\":\"y\"},\"size\":{\"type\":\"field\",\"field\":\"size\"},\"line_color\":{\"type\":\"value\",\"value\":\"lightblue\"},\"line_alpha\":{\"type\":\"value\",\"value\":0.1},\"line_width\":{\"type\":\"value\",\"value\":3},\"fill_color\":{\"type\":\"value\",\"value\":null},\"fill_alpha\":{\"type\":\"value\",\"value\":0.1},\"hatch_alpha\":{\"type\":\"value\",\"value\":0.1},\"marker\":{\"type\":\"value\",\"value\":\"square_cross\"}}},\"muted_glyph\":{\"type\":\"object\",\"name\":\"Scatter\",\"id\":\"p1159\",\"attributes\":{\"x\":{\"type\":\"field\",\"field\":\"x\"},\"y\":{\"type\":\"field\",\"field\":\"y\"},\"size\":{\"type\":\"field\",\"field\":\"size\"},\"line_color\":{\"type\":\"value\",\"value\":\"lightblue\"},\"line_alpha\":{\"type\":\"value\",\"value\":0.2},\"line_width\":{\"type\":\"value\",\"value\":3},\"fill_color\":{\"type\":\"value\",\"value\":null},\"fill_alpha\":{\"type\":\"value\",\"value\":0.2},\"hatch_alpha\":{\"type\":\"value\",\"value\":0.2},\"marker\":{\"type\":\"value\",\"value\":\"square_cross\"}}}}}],\"toolbar\":{\"type\":\"object\",\"name\":\"Toolbar\",\"id\":\"p1047\",\"attributes\":{\"tools\":[{\"type\":\"object\",\"name\":\"PanTool\",\"id\":\"p1062\"},{\"type\":\"object\",\"name\":\"WheelZoomTool\",\"id\":\"p1063\",\"attributes\":{\"renderers\":\"auto\"}},{\"type\":\"object\",\"name\":\"BoxZoomTool\",\"id\":\"p1064\",\"attributes\":{\"overlay\":{\"type\":\"object\",\"name\":\"BoxAnnotation\",\"id\":\"p1065\",\"attributes\":{\"syncable\":false,\"line_color\":\"black\",\"line_alpha\":1.0,\"line_width\":2,\"line_dash\":[4,4],\"fill_color\":\"lightgrey\",\"fill_alpha\":0.5,\"level\":\"overlay\",\"visible\":false,\"left\":{\"type\":\"number\",\"value\":\"nan\"},\"right\":{\"type\":\"number\",\"value\":\"nan\"},\"top\":{\"type\":\"number\",\"value\":\"nan\"},\"bottom\":{\"type\":\"number\",\"value\":\"nan\"},\"left_units\":\"canvas\",\"right_units\":\"canvas\",\"top_units\":\"canvas\",\"bottom_units\":\"canvas\",\"handles\":{\"type\":\"object\",\"name\":\"BoxInteractionHandles\",\"id\":\"p1071\",\"attributes\":{\"all\":{\"type\":\"object\",\"name\":\"AreaVisuals\",\"id\":\"p1070\",\"attributes\":{\"fill_color\":\"white\",\"hover_fill_color\":\"lightgray\"}}}}}}}},{\"type\":\"object\",\"name\":\"SaveTool\",\"id\":\"p1072\"},{\"type\":\"object\",\"name\":\"ResetTool\",\"id\":\"p1073\"},{\"type\":\"object\",\"name\":\"HelpTool\",\"id\":\"p1074\"},{\"type\":\"object\",\"name\":\"HoverTool\",\"id\":\"p1106\",\"attributes\":{\"renderers\":\"auto\",\"tooltips\":[[\"Y-val\",\"@y{0.00}\"]]}}]}},\"left\":[{\"type\":\"object\",\"name\":\"LinearAxis\",\"id\":\"p1057\",\"attributes\":{\"ticker\":{\"type\":\"object\",\"name\":\"BasicTicker\",\"id\":\"p1058\",\"attributes\":{\"mantissas\":[1,2,5]}},\"formatter\":{\"type\":\"object\",\"name\":\"BasicTickFormatter\",\"id\":\"p1059\"},\"axis_label\":\"km/h\",\"axis_label_standoff\":10,\"axis_label_text_color\":\"#E0E0E0\",\"axis_label_text_font\":\"Helvetica\",\"axis_label_text_font_size\":\"1.25em\",\"axis_label_text_font_style\":\"normal\",\"major_label_policy\":{\"type\":\"object\",\"name\":\"AllLabels\",\"id\":\"p1060\"},\"major_label_text_color\":\"#E0E0E0\",\"major_label_text_font\":\"Helvetica\",\"major_label_text_font_size\":\"1.025em\",\"axis_line_color\":\"#E0E0E0\",\"axis_line_alpha\":0,\"major_tick_line_color\":\"#E0E0E0\",\"major_tick_line_alpha\":0,\"minor_tick_line_color\":\"#E0E0E0\",\"minor_tick_line_alpha\":0}},{\"type\":\"object\",\"name\":\"LinearAxis\",\"id\":\"p1077\",\"attributes\":{\"y_range_name\":\"altitudeFt\",\"ticker\":{\"type\":\"object\",\"name\":\"BasicTicker\",\"id\":\"p1078\",\"attributes\":{\"mantissas\":[1,2,5]}},\"formatter\":{\"type\":\"object\",\"name\":\"BasicTickFormatter\",\"id\":\"p1079\"},\"axis_label\":\"Alt (ft)\",\"axis_label_standoff\":10,\"axis_label_text_color\":\"#E0E0E0\",\"axis_label_text_font\":\"Helvetica\",\"axis_label_text_font_size\":\"1.25em\",\"axis_label_text_font_style\":\"normal\",\"major_label_policy\":{\"type\":\"object\",\"name\":\"AllLabels\",\"id\":\"p1080\"},\"major_label_text_color\":\"#E0E0E0\",\"major_label_text_font\":\"Helvetica\",\"major_label_text_font_size\":\"1.025em\",\"axis_line_color\":\"#E0E0E0\",\"axis_line_alpha\":0,\"major_tick_line_color\":\"#E0E0E0\",\"major_tick_line_alpha\":0,\"minor_tick_line_color\":\"#E0E0E0\",\"minor_tick_line_alpha\":0}},{\"type\":\"object\",\"name\":\"LinearAxis\",\"id\":\"p1081\",\"attributes\":{\"y_range_name\":\"angle\",\"ticker\":{\"type\":\"object\",\"name\":\"BasicTicker\",\"id\":\"p1082\",\"attributes\":{\"mantissas\":[1,2,5]}},\"formatter\":{\"type\":\"object\",\"name\":\"BasicTickFormatter\",\"id\":\"p1083\"},\"axis_label\":\"angle\",\"axis_label_standoff\":10,\"axis_label_text_color\":\"#E0E0E0\",\"axis_label_text_font\":\"Helvetica\",\"axis_label_text_font_size\":\"1.25em\",\"axis_label_text_font_style\":\"normal\",\"major_label_policy\":{\"type\":\"object\",\"name\":\"AllLabels\",\"id\":\"p1084\"},\"major_label_text_color\":\"#E0E0E0\",\"major_label_text_font\":\"Helvetica\",\"major_label_text_font_size\":\"1.025em\",\"axis_line_color\":\"#E0E0E0\",\"axis_line_alpha\":0,\"major_tick_line_color\":\"#E0E0E0\",\"major_tick_line_alpha\":0,\"minor_tick_line_color\":\"#E0E0E0\",\"minor_tick_line_alpha\":0}}],\"below\":[{\"type\":\"object\",\"name\":\"LinearAxis\",\"id\":\"p1052\",\"attributes\":{\"ticker\":{\"type\":\"object\",\"name\":\"BasicTicker\",\"id\":\"p1053\",\"attributes\":{\"mantissas\":[1,2,5]}},\"formatter\":{\"type\":\"object\",\"name\":\"BasicTickFormatter\",\"id\":\"p1054\"},\"axis_label\":\"seconds from exit\",\"axis_label_standoff\":10,\"axis_label_text_color\":\"#E0E0E0\",\"axis_label_text_font\":\"Helvetica\",\"axis_label_text_font_size\":\"1.25em\",\"axis_label_text_font_style\":\"normal\",\"major_label_policy\":{\"type\":\"object\",\"name\":\"AllLabels\",\"id\":\"p1055\"},\"major_label_text_color\":\"#E0E0E0\",\"major_label_text_font\":\"Helvetica\",\"major_label_text_font_size\":\"1.025em\",\"axis_line_color\":\"#E0E0E0\",\"axis_line_alpha\":0,\"major_tick_line_color\":\"#E0E0E0\",\"major_tick_line_alpha\":0,\"minor_tick_line_color\":\"#E0E0E0\",\"minor_tick_line_alpha\":0}}],\"center\":[{\"type\":\"object\",\"name\":\"Grid\",\"id\":\"p1056\",\"attributes\":{\"axis\":{\"id\":\"p1052\"},\"grid_line_color\":\"#E0E0E0\",\"grid_line_alpha\":0.25}},{\"type\":\"object\",\"name\":\"Grid\",\"id\":\"p1061\",\"attributes\":{\"dimension\":1,\"axis\":{\"id\":\"p1057\"},\"grid_line_color\":\"#E0E0E0\",\"grid_line_alpha\":0.25}},{\"type\":\"object\",\"name\":\"Legend\",\"id\":\"p1094\",\"attributes\":{\"border_line_alpha\":0,\"background_fill_color\":\"#20262B\",\"background_fill_alpha\":0.25,\"label_text_color\":\"#E0E0E0\",\"label_text_font\":\"Helvetica\",\"label_text_font_size\":\"1.025em\",\"label_standoff\":8,\"glyph_width\":15,\"spacing\":8,\"items\":[{\"type\":\"object\",\"name\":\"LegendItem\",\"id\":\"p1095\",\"attributes\":{\"label\":{\"type\":\"value\",\"value\":\"Alt (ft)\"},\"renderers\":[{\"id\":\"p1091\"}]}},{\"type\":\"object\",\"name\":\"LegendItem\",\"id\":\"p1105\",\"attributes\":{\"label\":{\"type\":\"value\",\"value\":\"angle\"},\"renderers\":[{\"id\":\"p1102\"}]}},{\"type\":\"object\",\"name\":\"LegendItem\",\"id\":\"p1116\",\"attributes\":{\"label\":{\"type\":\"value\",\"value\":\"speed\"},\"renderers\":[{\"id\":\"p1113\"}]}},{\"type\":\"object\",\"name\":\"LegendItem\",\"id\":\"p1126\",\"attributes\":{\"label\":{\"type\":\"value\",\"value\":\"H-speed\"},\"renderers\":[{\"id\":\"p1123\"}]}}]}}],\"background_fill_color\":\"#20262B\",\"border_fill_color\":\"#15191C\"}}]}};\n",
       "  const render_items = [{\"docid\":\"c45e321e-0090-439c-bce9-1265fb08ee91\",\"roots\":{\"p1038\":\"c3b03953-6912-4019-959a-a40bd01a16c5\"},\"root_ids\":[\"p1038\"]}];\n",
       "  void root.Bokeh.embed.embed_items_notebook(docs_json, render_items);\n",
       "  }\n",
       "  if (root.Bokeh !== undefined) {\n",
       "    embed_document(root);\n",
       "  } else {\n",
       "    let attempts = 0;\n",
       "    const timer = setInterval(function(root) {\n",
       "      if (root.Bokeh !== undefined) {\n",
       "        clearInterval(timer);\n",
       "        embed_document(root);\n",
       "      } else {\n",
       "        attempts++;\n",
       "        if (attempts > 100) {\n",
       "          clearInterval(timer);\n",
       "          console.log(\"Bokeh: ERROR: Unable to run BokehJS code because BokehJS library is missing\");\n",
       "        }\n",
       "      }\n",
       "    }, 10, root)\n",
       "  }\n",
       "})(window);"
      ],
      "application/vnd.bokehjs_exec.v0+json": ""
     },
     "metadata": {
      "application/vnd.bokehjs_exec.v0+json": {
       "id": "p1038"
      }
     },
     "output_type": "display_data"
    },
    {
     "data": {
      "application/vnd.jupyter.widget-view+json": {
       "model_id": "f488ddd5fb1f4fb386f5280db33318ac",
       "version_major": 2,
       "version_minor": 0
      },
      "text/plain": [
       "HTML(value='<hr><h1><span style=\"color: #0f0\">Miller-2024-championship-official R2_14-27-13:v1 jump - 🟢 valid …"
      ]
     },
     "metadata": {},
     "output_type": "display_data"
    },
    {
     "data": {
      "application/vnd.jupyter.widget-view+json": {
       "model_id": "302dcd666dfe48d9907e510205d460ba",
       "version_major": 2,
       "version_minor": 0
      },
      "text/plain": [
       "HTML(value='<h3>Max speed = 336; exit at 4212 m (13821 ft), end scoring window at 1956 m (6419 ft)')"
      ]
     },
     "metadata": {},
     "output_type": "display_data"
    },
    {
     "data": {
      "application/vnd.jupyter.widget-view+json": {
       "model_id": "7b56065b9db3458b987683262f712642",
       "version_major": 2,
       "version_minor": 0
      },
      "text/plain": [
       "HTML(value='</h3>')"
      ]
     },
     "metadata": {},
     "output_type": "display_data"
    },
    {
     "data": {
      "text/html": [
       "<div>\n",
       "<style scoped>\n",
       "    .dataframe tbody tr th:only-of-type {\n",
       "        vertical-align: middle;\n",
       "    }\n",
       "\n",
       "    .dataframe tbody tr th {\n",
       "        vertical-align: top;\n",
       "    }\n",
       "\n",
       "    .dataframe thead th {\n",
       "        text-align: right;\n",
       "    }\n",
       "</style>\n",
       "<table border=\"1\" class=\"dataframe\">\n",
       "  <thead>\n",
       "    <tr style=\"text-align: right;\">\n",
       "      <th></th>\n",
       "      <th>time</th>\n",
       "      <th>vKMh</th>\n",
       "      <th>hKMh</th>\n",
       "      <th>speedAngle</th>\n",
       "      <th>distanceFromExit</th>\n",
       "      <th>altitude (ft)</th>\n",
       "      <th>netVectorKMh</th>\n",
       "    </tr>\n",
       "  </thead>\n",
       "  <tbody>\n",
       "    <tr>\n",
       "      <th></th>\n",
       "      <td>5.0</td>\n",
       "      <td>133</td>\n",
       "      <td>141</td>\n",
       "      <td>43.3</td>\n",
       "      <td>224.0</td>\n",
       "      <td>13453</td>\n",
       "      <td>194</td>\n",
       "    </tr>\n",
       "    <tr>\n",
       "      <th></th>\n",
       "      <td>10.0</td>\n",
       "      <td>229</td>\n",
       "      <td>132</td>\n",
       "      <td>60.1</td>\n",
       "      <td>410.7</td>\n",
       "      <td>12616</td>\n",
       "      <td>264</td>\n",
       "    </tr>\n",
       "    <tr>\n",
       "      <th></th>\n",
       "      <td>15.0</td>\n",
       "      <td>286</td>\n",
       "      <td>130</td>\n",
       "      <td>65.6</td>\n",
       "      <td>594.0</td>\n",
       "      <td>11436</td>\n",
       "      <td>314</td>\n",
       "    </tr>\n",
       "    <tr>\n",
       "      <th></th>\n",
       "      <td>20.0</td>\n",
       "      <td>325</td>\n",
       "      <td>118</td>\n",
       "      <td>70.1</td>\n",
       "      <td>761.5</td>\n",
       "      <td>10024</td>\n",
       "      <td>346</td>\n",
       "    </tr>\n",
       "    <tr>\n",
       "      <th></th>\n",
       "      <td>25.0</td>\n",
       "      <td>335</td>\n",
       "      <td>106</td>\n",
       "      <td>72.5</td>\n",
       "      <td>916.9</td>\n",
       "      <td>8516</td>\n",
       "      <td>351</td>\n",
       "    </tr>\n",
       "  </tbody>\n",
       "</table>\n",
       "</div>"
      ],
      "text/plain": [
       "  time  vKMh  hKMh  speedAngle  distanceFromExit  altitude (ft)  netVectorKMh\n",
       "   5.0   133   141        43.3             224.0          13453           194\n",
       "  10.0   229   132        60.1             410.7          12616           264\n",
       "  15.0   286   130        65.6             594.0          11436           314\n",
       "  20.0   325   118        70.1             761.5          10024           346\n",
       "  25.0   335   106        72.5             916.9           8516           351"
      ]
     },
     "metadata": {},
     "output_type": "display_data"
    },
    {
     "data": {
      "text/html": [
       "\n",
       "  <div id=\"e9dd77b9-1f58-4800-9450-d88a0caa7bc5\" data-root-id=\"p1182\" style=\"display: contents;\"></div>\n"
      ]
     },
     "metadata": {},
     "output_type": "display_data"
    },
    {
     "data": {
      "application/javascript": [
       "(function(root) {\n",
       "  function embed_document(root) {\n",
       "  const docs_json = {\"938372e4-1fcd-4067-a437-71bab001bdbf\":{\"version\":\"3.5.2\",\"title\":\"Bokeh Application\",\"roots\":[{\"type\":\"object\",\"name\":\"Figure\",\"id\":\"p1182\",\"attributes\":{\"width\":900,\"height\":500,\"x_range\":{\"type\":\"object\",\"name\":\"Range1d\",\"id\":\"p1192\",\"attributes\":{\"end\":35.0}},\"y_range\":{\"type\":\"object\",\"name\":\"Range1d\",\"id\":\"p1193\",\"attributes\":{\"end\":550.0}},\"x_scale\":{\"type\":\"object\",\"name\":\"LinearScale\",\"id\":\"p1194\"},\"y_scale\":{\"type\":\"object\",\"name\":\"LinearScale\",\"id\":\"p1195\"},\"extra_y_ranges\":{\"type\":\"map\",\"entries\":[[\"altitudeFt\",{\"type\":\"object\",\"name\":\"Range1d\",\"id\":\"p1219\",\"attributes\":{\"start\":5970.5214384,\"end\":14321.075099200001}}],[\"angle\",{\"type\":\"object\",\"name\":\"Range1d\",\"id\":\"p1220\",\"attributes\":{\"end\":90.0}}]]},\"title\":{\"type\":\"object\",\"name\":\"Title\",\"id\":\"p1185\",\"attributes\":{\"text\":\"Miller-2024-championship-official R2_14-27-13:v1\",\"text_color\":\"#E0E0E0\",\"text_font\":\"Helvetica\",\"text_font_size\":\"1.15em\"}},\"outline_line_color\":\"#E0E0E0\",\"outline_line_alpha\":0.25,\"renderers\":[{\"type\":\"object\",\"name\":\"GlyphRenderer\",\"id\":\"p1235\",\"attributes\":{\"y_range_name\":\"altitudeFt\",\"data_source\":{\"type\":\"object\",\"name\":\"ColumnDataSource\",\"id\":\"p1229\",\"attributes\":{\"selected\":{\"type\":\"object\",\"name\":\"Selection\",\"id\":\"p1230\",\"attributes\":{\"indices\":[],\"line_indices\":[]}},\"selection_policy\":{\"type\":\"object\",\"name\":\"UnionRenderers\",\"id\":\"p1231\"},\"data\":{\"type\":\"map\",\"entries\":[[\"x\",{\"type\":\"ndarray\",\"array\":{\"type\":\"bytes\",\"data\":\"AAAAAAAAAAAAAAAAmpnJPwAAAACamdk/AAAAgDMz4z8AAAAAmpnpPwAAAAAAAPA/AAAAQDMz8z8AAACAZmb2PwAAAMCZmfk/AAAAAM3M/D8AAAAAAAAAQAAAAKCZmQFAAAAAQDMzA0AAAADgzMwEQAAAAIBmZgZAAAAAAAAACEAAAACgmZkJQAAAAEAzMwtAAAAA4MzMDEAAAACAZmYOQAAAAAAAABBAAAAA0MzMEEAAAACgmZkRQAAAAHBmZhJAAAAAQDMzE0AAAAAAAAAUQAAAANDMzBRAAAAAoJmZFUAAAABwZmYWQAAAAEAzMxdAAAAAAAAAGEAAAADQzMwYQAAAAKCZmRlAAAAAcGZmGkAAAABAMzMbQAAAAAAAABxAAAAA0MzMHEAAAACgmZkdQAAAAHBmZh5AAAAAQDMzH0AAAAAAAAAgQAAAAGhmZiBAAAAA0MzMIEAAAAA4MzMhQAAAAKCZmSFAAAAAAAAAIkAAAABoZmYiQAAAANDMzCJAAAAAODMzI0AAAACgmZkjQAAAAAAAACRAAAAAaGZmJEAAAADQzMwkQAAAADgzMyVAAAAAoJmZJUAAAAAAAAAmQAAAAGhmZiZAAAAA0MzMJkAAAAA4MzMnQAAAAKCZmSdAAAAAAAAAKEAAAABoZmYoQAAAANDMzChAAAAAODMzKUAAAACgmZkpQAAAAAAAACpAAAAAaGZmKkAAAADQzMwqQAAAADgzMytAAAAAoJmZK0AAAAAAAAAsQAAAAGhmZixAAAAA0MzMLEAAAAA4MzMtQAAAAKCZmS1AAAAAAAAALkAAAABoZmYuQAAAANDMzC5AAAAAODMzL0AAAACgmZkvQAAAAAAAADBAAAAANDMzMEAAAABoZmYwQAAAAJyZmTBAAAAA0MzMMEAAAAAAAAAxQAAAADQzMzFAAAAAaGZmMUAAAACcmZkxQAAAANDMzDFAAAAAAAAAMkAAAAA0MzMyQAAAAGhmZjJAAAAAnJmZMkAAAADQzMwyQAAAAAAAADNAAAAANDMzM0AAAABoZmYzQAAAAJyZmTNAAAAA0MzMM0AAAAAAAAA0QAAAADQzMzRAAAAAaGZmNEAAAACcmZk0QAAAANDMzDRAAAAAAAAANUAAAAA0MzM1QAAAAGhmZjVAAAAAnJmZNUAAAADQzMw1QAAAAAAAADZAAAAANDMzNkAAAABoZmY2QAAAAJyZmTZAAAAA0MzMNkAAAAAAAAA3QAAAADQzMzdAAAAAaGZmN0AAAACcmZk3QAAAANDMzDdAAAAAAAAAOEAAAAA0MzM4QAAAAGhmZjhAAAAAnJmZOEAAAADQzMw4QAAAAAAAADlAAAAANDMzOUAAAABoZmY5QAAAAJyZmTlAAAAA0MzMOUAAAAAAAAA6QAAAADQzMzpAAAAAaGZmOkAAAACcmZk6QAAAANDMzDpAAAAAAAAAO0AAAAA0MzM7QAAAAGhmZjtAAAAAnJmZO0AAAADQzMw7QAAAAAAAADxAAAAANDMzPEAAAABoZmY8QAAAAJyZmTxAAAAA0MzMPEAAAAAAAAA9QAAAADQzMz1AAAAAaGZmPUAAAACcmZk9QAAAANDMzD1AAAAAAAAAPkAAAAA0MzM+QAAAAGhmZj5AAAAAnJmZPkAAAADQzMw+QAAAAAAAAD9AAAAANDMzP0AAAABoZmY/QAAAAJyZmT9AAAAA0MzMP0A=\"},\"shape\":[160],\"dtype\":\"float64\",\"order\":\"little\"}],[\"y\",{\"type\":\"ndarray\",\"array\":{\"type\":\"bytes\",\"data\":\"+7/ZnIn+ykA9jjBWJfzKQPVR/M71+MpA9yy+VyP1ykC0Hr5MPPHKQHweSIPg7MpANBpUdg3oykB0q9Z4N+PKQOeAE8Aj3spALAO9JmrYykBtimyMOtLKQP/LWq9+y8pATIgDMl3EykB2dLdG77zKQCt8xzomtcpACaRp9eqsykBnX8MdcaTKQGpIgaqem8pAsB8HymqSykD2P2WhsojKQDmi1o+wfspArumLzkt0ykBAarhtbGnKQNWSM7ktXspAYnziSodSykDV+9cDf0bKQE0jHGkXOspAeYFIdVgtykAnNh/XLiDKQNq0rcGeEspAj7khfLYEykA2O/fDdPbJQOopzUHj58lAVE+LZvrYyUCXAQxwrsnJQNOWKZzzuclA6LgJrdWpyUC8+OzKaJnJQPA4oACdiMlAv7+cNHB3yUDsRmmA5GXJQJPgDWn8U8lAt4yK7rdByUCrX47DJS/JQO0p3m0zHMlAiLArd/AIyUBCz2bVV/XIQI/Or5xz4chAX4MZrknNyEBLrgc40bjIQI6V8yAIpMhAzJyJRPyOyEDzmNyDs3nIQK+XpggYZMhAdL+eCjtOyEDBPwAELzjIQGd8X1zSIchA5YKOsT4LyEBJXBFGdfTHQK74hsJ/3cdAZ2ye2WzGx0Aio6jYLa/HQKob3mLUl8dArwVifkOAx0BpY9tYh2jHQCamsPeXUMdAcoXBRms4x0BVxr/PECDHQMOBkCyAB8dAhrWML63uxkD7OhUVttXGQJyeHKqWvMZAyFqNNkijxkBPVNvyxonGQEOUiiEUcMZAXQ9wUiJWxkCjaNQyCDzGQD06ZLmrIcZA6PnTRh0HxkAuPZrqWezFQHmHJS9c0cVA1J0nnjO2xUBG5tvMyprFQJ0B5Dosf8VAeTGD52xjxUA6NHbTd0fFQGM5+HhfK8VAHVyVnycPxUB4RluVrPLEQCXmWUkb1sRAV5rvO2m5xEAy21+Hg5zEQPhvA+OFf8RATyLCv2hixEAO1w9WKEXEQIvEBDXMJ8RAAQ+xZlkKxEDx5U9l4uzDQM8yi1BMz8NAVUmurK6xw0BWDi2yBZTDQAbhZeFGdsNAL0CR3YNYw0DBAMKHwjrDQCADHr3mHMNAiGu1h/X+wkBpYD8fAOHCQEx3MpMDw8JA+q3ntfOkwkACPR5E5IbCQNCnRMjPaMJAiGaeXKNKwkBDR2HNbyzCQNIMmHY4DsJAje1a5wTwwUAS7t8GvtHBQIjl4ON1s8FAqKbJMSaVwUAEritm1HbBQCiz5mx2WMFAG1lD8yI6wUDDr6JQ0BvBQOe0XVdy/cBA3XwjuhffwEBgHjLlq8DAQFrLUwweosBAM0QE0pSDwEBdUIR5/GTAQIl+bf1cRsBAiZHKubknwEB3V9F6IwnAQGhhTzv81L9A5HJyddaXv0CwMgnN1Fq/QFBzl2kgHr9ASqgqfr3hvkCiV6jaU6W+QCyjkc8Lab5AjlTOzd0svkBE3axmkvC9QD6MWquHtL1ALrNjfpl4vUBnRA623Ty9QDu4hfgRAb1AexPouO/EvEBRDUXLy4i8QKKTlKqjTLxA5jLJI3MQvEDKcreQfNS7QO95/rShmLtAMxkzLnFcu0DwRFp0PCC7QPMcNjbw47pAAdwsXqynukCxO915omu6QCVQDrAQMLpA7i8W4RH1uUB1IVZ/dLq5QGOPPwcMgLlA4ar8fIVGuUA=\"},\"shape\":[160],\"dtype\":\"float64\",\"order\":\"little\"}]]}}},\"view\":{\"type\":\"object\",\"name\":\"CDSView\",\"id\":\"p1236\",\"attributes\":{\"filter\":{\"type\":\"object\",\"name\":\"AllIndices\",\"id\":\"p1237\"}}},\"glyph\":{\"type\":\"object\",\"name\":\"Line\",\"id\":\"p1232\",\"attributes\":{\"x\":{\"type\":\"field\",\"field\":\"x\"},\"y\":{\"type\":\"field\",\"field\":\"y\"},\"line_color\":\"palegoldenrod\",\"line_width\":2}},\"nonselection_glyph\":{\"type\":\"object\",\"name\":\"Line\",\"id\":\"p1233\",\"attributes\":{\"x\":{\"type\":\"field\",\"field\":\"x\"},\"y\":{\"type\":\"field\",\"field\":\"y\"},\"line_color\":\"palegoldenrod\",\"line_alpha\":0.1,\"line_width\":2}},\"muted_glyph\":{\"type\":\"object\",\"name\":\"Line\",\"id\":\"p1234\",\"attributes\":{\"x\":{\"type\":\"field\",\"field\":\"x\"},\"y\":{\"type\":\"field\",\"field\":\"y\"},\"line_color\":\"palegoldenrod\",\"line_alpha\":0.2,\"line_width\":2}}}},{\"type\":\"object\",\"name\":\"GlyphRenderer\",\"id\":\"p1246\",\"attributes\":{\"y_range_name\":\"angle\",\"data_source\":{\"type\":\"object\",\"name\":\"ColumnDataSource\",\"id\":\"p1240\",\"attributes\":{\"selected\":{\"type\":\"object\",\"name\":\"Selection\",\"id\":\"p1241\",\"attributes\":{\"indices\":[],\"line_indices\":[]}},\"selection_policy\":{\"type\":\"object\",\"name\":\"UnionRenderers\",\"id\":\"p1242\"},\"data\":{\"type\":\"map\",\"entries\":[[\"x\",{\"type\":\"ndarray\",\"array\":{\"type\":\"bytes\",\"data\":\"AAAAAAAAAAAAAAAAmpnJPwAAAACamdk/AAAAgDMz4z8AAAAAmpnpPwAAAAAAAPA/AAAAQDMz8z8AAACAZmb2PwAAAMCZmfk/AAAAAM3M/D8AAAAAAAAAQAAAAKCZmQFAAAAAQDMzA0AAAADgzMwEQAAAAIBmZgZAAAAAAAAACEAAAACgmZkJQAAAAEAzMwtAAAAA4MzMDEAAAACAZmYOQAAAAAAAABBAAAAA0MzMEEAAAACgmZkRQAAAAHBmZhJAAAAAQDMzE0AAAAAAAAAUQAAAANDMzBRAAAAAoJmZFUAAAABwZmYWQAAAAEAzMxdAAAAAAAAAGEAAAADQzMwYQAAAAKCZmRlAAAAAcGZmGkAAAABAMzMbQAAAAAAAABxAAAAA0MzMHEAAAACgmZkdQAAAAHBmZh5AAAAAQDMzH0AAAAAAAAAgQAAAAGhmZiBAAAAA0MzMIEAAAAA4MzMhQAAAAKCZmSFAAAAAAAAAIkAAAABoZmYiQAAAANDMzCJAAAAAODMzI0AAAACgmZkjQAAAAAAAACRAAAAAaGZmJEAAAADQzMwkQAAAADgzMyVAAAAAoJmZJUAAAAAAAAAmQAAAAGhmZiZAAAAA0MzMJkAAAAA4MzMnQAAAAKCZmSdAAAAAAAAAKEAAAABoZmYoQAAAANDMzChAAAAAODMzKUAAAACgmZkpQAAAAAAAACpAAAAAaGZmKkAAAADQzMwqQAAAADgzMytAAAAAoJmZK0AAAAAAAAAsQAAAAGhmZixAAAAA0MzMLEAAAAA4MzMtQAAAAKCZmS1AAAAAAAAALkAAAABoZmYuQAAAANDMzC5AAAAAODMzL0AAAACgmZkvQAAAAAAAADBAAAAANDMzMEAAAABoZmYwQAAAAJyZmTBAAAAA0MzMMEAAAAAAAAAxQAAAADQzMzFAAAAAaGZmMUAAAACcmZkxQAAAANDMzDFAAAAAAAAAMkAAAAA0MzMyQAAAAGhmZjJAAAAAnJmZMkAAAADQzMwyQAAAAAAAADNAAAAANDMzM0AAAABoZmYzQAAAAJyZmTNAAAAA0MzMM0AAAAAAAAA0QAAAADQzMzRAAAAAaGZmNEAAAACcmZk0QAAAANDMzDRAAAAAAAAANUAAAAA0MzM1QAAAAGhmZjVAAAAAnJmZNUAAAADQzMw1QAAAAAAAADZAAAAANDMzNkAAAABoZmY2QAAAAJyZmTZAAAAA0MzMNkAAAAAAAAA3QAAAADQzMzdAAAAAaGZmN0AAAACcmZk3QAAAANDMzDdAAAAAAAAAOEAAAAA0MzM4QAAAAGhmZjhAAAAAnJmZOEAAAADQzMw4QAAAAAAAADlAAAAANDMzOUAAAABoZmY5QAAAAJyZmTlAAAAA0MzMOUAAAAAAAAA6QAAAADQzMzpAAAAAaGZmOkAAAACcmZk6QAAAANDMzDpAAAAAAAAAO0AAAAA0MzM7QAAAAGhmZjtAAAAAnJmZO0AAAADQzMw7QAAAAAAAADxAAAAANDMzPEAAAABoZmY8QAAAAJyZmTxAAAAA0MzMPEAAAAAAAAA9QAAAADQzMz1AAAAAaGZmPUAAAACcmZk9QAAAANDMzD1AAAAAAAAAPkAAAAA0MzM+QAAAAGhmZj5AAAAAnJmZPkAAAADQzMw+QAAAAAAAAD9AAAAANDMzP0AAAABoZmY/QAAAAJyZmT9AAAAA0MzMP0A=\"},\"shape\":[160],\"dtype\":\"float64\",\"order\":\"little\"}],[\"y\",{\"type\":\"ndarray\",\"array\":{\"type\":\"bytes\",\"data\":\"zczMzMzMIEAAAAAAAAAjQM3MzMzMzCVAmpmZmZmZKUDNzMzMzMwrQDMzMzMzMy9AMzMzMzMzMUDNzMzMzMwyQM3MzMzMTDRAZmZmZmbmNUCamZmZmZk3QM3MzMzMzDhAMzMzMzMzOkAzMzMzM7M7QDMzMzMzMz1AmpmZmZmZPkAAAAAAAABAQAAAAAAAwEBAZmZmZmZmQUAAAAAAAABCQAAAAAAAwEJAzczMzMxMQ0AAAAAAAABEQAAAAAAAgERAmpmZmZkZRUBmZmZmZqZFQAAAAAAAQEZAMzMzMzOzRkAAAAAAAEBHQAAAAAAAwEdAZmZmZmYmSEAzMzMzM7NIQM3MzMzMDElAAAAAAACASUCamZmZmdlJQDMzMzMzM0pAmpmZmZmZSkBmZmZmZuZKQAAAAAAAQEtAzczMzMyMS0BmZmZmZuZLQJqZmZmZGUxAmpmZmZlZTEBmZmZmZqZMQJqZmZmZ2UxAmpmZmZkZTUDNzMzMzExNQAAAAAAAgE1AZmZmZmamTUBmZmZmZuZNQM3MzMzMDE5AmpmZmZkZTkCamZmZmVlOQDMzMzMzc05AmpmZmZmZTkAAAAAAAMBOQDMzMzMz805AAAAAAAAAT0CamZmZmRlPQGZmZmZmJk9AAAAAAABAT0AzMzMzMzNPQJqZmZmZWU9AZmZmZmZmT0AzMzMzM3NPQGZmZmZmpk9AMzMzMzOzT0CamZmZmdlPQAAAAAAAAFBAzczMzMwMUEAzMzMzMxNQQJqZmZmZGVBAzczMzMwsUEAAAAAAAEBQQM3MzMzMTFBAZmZmZmZmUEBmZmZmZoZQQM3MzMzMjFBAMzMzMzOzUEDNzMzMzMxQQAAAAAAA4FBAzczMzMwMUUAAAAAAAABRQM3MzMzMDFFAMzMzMzMTUUAAAAAAACBRQDMzMzMzM1FAZmZmZmZGUUBmZmZmZkZRQGZmZmZmRlFAzczMzMxMUUDNzMzMzExRQGZmZmZmZlFAZmZmZmZmUUDNzMzMzGxRQDMzMzMzc1FAZmZmZmaGUUAAAAAAAIBRQGZmZmZmhlFAzczMzMyMUUBmZmZmZoZRQM3MzMzMjFFAAAAAAACgUUBmZmZmZqZRQM3MzMzMrFFAAAAAAACgUUDNzMzMzKxRQDMzMzMzs1FAmpmZmZm5UUCamZmZmblRQM3MzMzMzFFAzczMzMzMUUAzMzMzM9NRQJqZmZmZ2VFAAAAAAADgUUAAAAAAAOBRQGZmZmZm5lFAzczMzMzsUUBmZmZmZuZRQM3MzMzM7FFAzczMzMzsUUCamZmZmflRQJqZmZmZ+VFAAAAAAAAAUkDNzMzMzAxSQAAAAAAAIFJAmpmZmZkZUkDNzMzMzCxSQJqZmZmZOVJAZmZmZmYmUkBmZmZmZiZSQDMzMzMzM1JAZmZmZmYmUkAzMzMzMxNSQAAAAAAAAFJAzczMzMzsUUDNzMzMzOxRQDMzMzMz01FAmpmZmZnZUUDNzMzMzMxRQGZmZmZmplFAmpmZmZmZUUAzMzMzM5NRQDMzMzMzk1FAZmZmZmamUUAzMzMzM7NRQM3MzMzMrFFAAAAAAACgUUAzMzMzM5NRQAAAAAAAoFFAZmZmZmbGUUAzMzMzM/NRQM3MzMzMDFJAMzMzMzMTUkCamZmZmflRQDMzMzMz01FAZmZmZmbGUUDNzMzMzKxRQDMzMzMzk1FAzczMzMxMUUA=\"},\"shape\":[160],\"dtype\":\"float64\",\"order\":\"little\"}]]}}},\"view\":{\"type\":\"object\",\"name\":\"CDSView\",\"id\":\"p1247\",\"attributes\":{\"filter\":{\"type\":\"object\",\"name\":\"AllIndices\",\"id\":\"p1248\"}}},\"glyph\":{\"type\":\"object\",\"name\":\"Line\",\"id\":\"p1243\",\"attributes\":{\"x\":{\"type\":\"field\",\"field\":\"x\"},\"y\":{\"type\":\"field\",\"field\":\"y\"},\"line_color\":\"deepskyblue\",\"line_width\":2}},\"nonselection_glyph\":{\"type\":\"object\",\"name\":\"Line\",\"id\":\"p1244\",\"attributes\":{\"x\":{\"type\":\"field\",\"field\":\"x\"},\"y\":{\"type\":\"field\",\"field\":\"y\"},\"line_color\":\"deepskyblue\",\"line_alpha\":0.1,\"line_width\":2}},\"muted_glyph\":{\"type\":\"object\",\"name\":\"Line\",\"id\":\"p1245\",\"attributes\":{\"x\":{\"type\":\"field\",\"field\":\"x\"},\"y\":{\"type\":\"field\",\"field\":\"y\"},\"line_color\":\"deepskyblue\",\"line_alpha\":0.2,\"line_width\":2}}}},{\"type\":\"object\",\"name\":\"GlyphRenderer\",\"id\":\"p1257\",\"attributes\":{\"data_source\":{\"type\":\"object\",\"name\":\"ColumnDataSource\",\"id\":\"p1251\",\"attributes\":{\"selected\":{\"type\":\"object\",\"name\":\"Selection\",\"id\":\"p1252\",\"attributes\":{\"indices\":[],\"line_indices\":[]}},\"selection_policy\":{\"type\":\"object\",\"name\":\"UnionRenderers\",\"id\":\"p1253\"},\"data\":{\"type\":\"map\",\"entries\":[[\"x\",{\"type\":\"ndarray\",\"array\":{\"type\":\"bytes\",\"data\":\"AAAAAAAAAAAAAAAAmpnJPwAAAACamdk/AAAAgDMz4z8AAAAAmpnpPwAAAAAAAPA/AAAAQDMz8z8AAACAZmb2PwAAAMCZmfk/AAAAAM3M/D8AAAAAAAAAQAAAAKCZmQFAAAAAQDMzA0AAAADgzMwEQAAAAIBmZgZAAAAAAAAACEAAAACgmZkJQAAAAEAzMwtAAAAA4MzMDEAAAACAZmYOQAAAAAAAABBAAAAA0MzMEEAAAACgmZkRQAAAAHBmZhJAAAAAQDMzE0AAAAAAAAAUQAAAANDMzBRAAAAAoJmZFUAAAABwZmYWQAAAAEAzMxdAAAAAAAAAGEAAAADQzMwYQAAAAKCZmRlAAAAAcGZmGkAAAABAMzMbQAAAAAAAABxAAAAA0MzMHEAAAACgmZkdQAAAAHBmZh5AAAAAQDMzH0AAAAAAAAAgQAAAAGhmZiBAAAAA0MzMIEAAAAA4MzMhQAAAAKCZmSFAAAAAAAAAIkAAAABoZmYiQAAAANDMzCJAAAAAODMzI0AAAACgmZkjQAAAAAAAACRAAAAAaGZmJEAAAADQzMwkQAAAADgzMyVAAAAAoJmZJUAAAAAAAAAmQAAAAGhmZiZAAAAA0MzMJkAAAAA4MzMnQAAAAKCZmSdAAAAAAAAAKEAAAABoZmYoQAAAANDMzChAAAAAODMzKUAAAACgmZkpQAAAAAAAACpAAAAAaGZmKkAAAADQzMwqQAAAADgzMytAAAAAoJmZK0AAAAAAAAAsQAAAAGhmZixAAAAA0MzMLEAAAAA4MzMtQAAAAKCZmS1AAAAAAAAALkAAAABoZmYuQAAAANDMzC5AAAAAODMzL0AAAACgmZkvQAAAAAAAADBAAAAANDMzMEAAAABoZmYwQAAAAJyZmTBAAAAA0MzMMEAAAAAAAAAxQAAAADQzMzFAAAAAaGZmMUAAAACcmZkxQAAAANDMzDFAAAAAAAAAMkAAAAA0MzMyQAAAAGhmZjJAAAAAnJmZMkAAAADQzMwyQAAAAAAAADNAAAAANDMzM0AAAABoZmYzQAAAAJyZmTNAAAAA0MzMM0AAAAAAAAA0QAAAADQzMzRAAAAAaGZmNEAAAACcmZk0QAAAANDMzDRAAAAAAAAANUAAAAA0MzM1QAAAAGhmZjVAAAAAnJmZNUAAAADQzMw1QAAAAAAAADZAAAAANDMzNkAAAABoZmY2QAAAAJyZmTZAAAAA0MzMNkAAAAAAAAA3QAAAADQzMzdAAAAAaGZmN0AAAACcmZk3QAAAANDMzDdAAAAAAAAAOEAAAAA0MzM4QAAAAGhmZjhAAAAAnJmZOEAAAADQzMw4QAAAAAAAADlAAAAANDMzOUAAAABoZmY5QAAAAJyZmTlAAAAA0MzMOUAAAAAAAAA6QAAAADQzMzpAAAAAaGZmOkAAAACcmZk6QAAAANDMzDpAAAAAAAAAO0AAAAA0MzM7QAAAAGhmZjtAAAAAnJmZO0AAAADQzMw7QAAAAAAAADxAAAAANDMzPEAAAABoZmY8QAAAAJyZmTxAAAAA0MzMPEAAAAAAAAA9QAAAADQzMz1AAAAAaGZmPUAAAACcmZk9QAAAANDMzD1AAAAAAAAAPkAAAAA0MzM+QAAAAGhmZj5AAAAAnJmZPkAAAADQzMw+QAAAAAAAAD9AAAAANDMzP0AAAABoZmY/QAAAAJyZmT9AAAAA0MzMP0A=\"},\"shape\":[160],\"dtype\":\"float64\",\"order\":\"little\"}],[\"y\",{\"type\":\"ndarray\",\"array\":{\"type\":\"bytes\",\"data\":\"hetRuB6FPUArhxbZzjdAQESLbOf7aUJAFK5H4XpURUC28/3UeKlGQAvXo3A9SklAAiuHFtmOS0Ce76fGS3dNQBFYObTIdk9AZ2ZmZmamUEA+CtejcN1RQDMzMzMzc1JAiUFg5dBiU0DHSzeJQWBUQPT91HjpZlVADAIrhxZ5VkA5tMh2vn9XQCUGgZVDq1hAYxBYObSoWUCkcD0K16NaQIPAyqFF1ltAoBov3STmXEB8FK5H4RpeQNR46SYxCF9AYxBYObQYYEB3vp8aL51gQGMQWDm0OGFAdZMYBFa+YUB9PzVeukliQG3n+6nx4mJAs53vp8ZLY0CUGARWDu1jQObQItv5TmRA5tAi2/neZEAX2c73U1NlQDDdJAaB1WVAUrgehetRZkB56SYxCMxmQI6XbhKDUGdAsHJoke3MZ0C8dJMYBFZoQPyp8dJNwmhAN4lBYOUwaUBWDi2yna9pQKAaL90kFmpAu0kMAiuXakDsUbgehQtrQEjhehSuZ2tAoBov3STGa0DP91PjpTtsQCuHFtnOl2xAlUOLbOfrbEDNzMzMzFxtQDiJQWDlsG1Anu+nxksHbkDwp8ZLN2luQEoMAiuHxm5A1HjpJjEIb0BRuB6F61FvQOtRuB6Fi29Aku18PzW+b0BJ4XoUrudvQOf7qfHSFXBAMQisHFo0cEAL16NwPUpwQKjGSzeJgXBA7FG4HoWjcEA3iUFg5cBwQOF6FK5H8XBAokW28/0UcUD2KFyPwi1xQEw3iUFgRXFAg8DKoUVucUDC9Shcj5JxQA4tsp3vr3FAPzVeuknccUDwp8ZLNwlyQEjhehSuH3JA8tJNYhBQckA+CtejcG1yQIXrUbgejXJAGQRWDi3KckD8qfHSTdpyQLbz/dR4AXNA/tR46SYhc0DhehSuRzFzQDDdJAaBTXNAWDm0yHZ+c0DFILByaIlzQCUGgZVDm3NA9ihcj8K1c0DP91PjpctzQB1aZDvf53NAdZMYBFb+c0Bcj8L1KAx0QMuhRbbzFXRAjpduEoM4dECPwvUoXDd0QHnpJjEIRHRA6iYxCKxMdEBh5dAi21F0QM3MzMzMXHRAx0s3iUFgdEA5tMh2vmd0QI6XbhKDgHRAnMQgsHJ4dEAMAiuHFoF0QGmR7Xw/lXRAarx0kxiUdEBh5dAi25l0QMuhRbbzpXRASgwCK4emdECwcmiR7bR0QLByaJHttHRAs53vp8azdECgGi/dJL50QBkEVg4twnRAke18PzXGdEAfhetRuL50QAisHFpky3RAI9v5fmq8dEARWDm0yMZ0QBKDwMqhxXRA/Knx0k3SdEDwp8ZLN9l0QEoMAiuH7nRAVg4tsp3ndEBFtvP91PB0QCuHFtnO/3RAyXa+nxrvdEDFILByaPF0QCuHFtnO/3RATmIQWDnsdEDy0k1iENh0QCcxCKwcunRARIts5/updEC28/3UeLF0QGQ730+Nl3RATDeJQWCldEDZzvdT4510QAAAAAAAiHRAl24Sg8B6dEApXI/C9XB0QH9qvHSTiHRA+n5qvHSLdEDZzvdT4510QFK4HoXroXRA9ihcj8KNdECXbhKDwHp0QI/C9Shcf3RA1XjpJjGgdEBh5dAi25l0QEoMAiuHpnRAyXa+nxqndEARWDm0yH50QAvXo3A9OnRAMQisHFokdEBV46WbxBB0QB+F61G45nNAxSCwcmiJc0A=\"},\"shape\":[160],\"dtype\":\"float64\",\"order\":\"little\"}]]}}},\"view\":{\"type\":\"object\",\"name\":\"CDSView\",\"id\":\"p1258\",\"attributes\":{\"filter\":{\"type\":\"object\",\"name\":\"AllIndices\",\"id\":\"p1259\"}}},\"glyph\":{\"type\":\"object\",\"name\":\"Line\",\"id\":\"p1254\",\"attributes\":{\"x\":{\"type\":\"field\",\"field\":\"x\"},\"y\":{\"type\":\"field\",\"field\":\"y\"},\"line_color\":\"limegreen\",\"line_width\":2}},\"nonselection_glyph\":{\"type\":\"object\",\"name\":\"Line\",\"id\":\"p1255\",\"attributes\":{\"x\":{\"type\":\"field\",\"field\":\"x\"},\"y\":{\"type\":\"field\",\"field\":\"y\"},\"line_color\":\"limegreen\",\"line_alpha\":0.1,\"line_width\":2}},\"muted_glyph\":{\"type\":\"object\",\"name\":\"Line\",\"id\":\"p1256\",\"attributes\":{\"x\":{\"type\":\"field\",\"field\":\"x\"},\"y\":{\"type\":\"field\",\"field\":\"y\"},\"line_color\":\"limegreen\",\"line_alpha\":0.2,\"line_width\":2}}}},{\"type\":\"object\",\"name\":\"GlyphRenderer\",\"id\":\"p1267\",\"attributes\":{\"data_source\":{\"type\":\"object\",\"name\":\"ColumnDataSource\",\"id\":\"p1261\",\"attributes\":{\"selected\":{\"type\":\"object\",\"name\":\"Selection\",\"id\":\"p1262\",\"attributes\":{\"indices\":[],\"line_indices\":[]}},\"selection_policy\":{\"type\":\"object\",\"name\":\"UnionRenderers\",\"id\":\"p1263\"},\"data\":{\"type\":\"map\",\"entries\":[[\"x\",{\"type\":\"ndarray\",\"array\":{\"type\":\"bytes\",\"data\":\"AAAAAAAAAAAAAAAAmpnJPwAAAACamdk/AAAAgDMz4z8AAAAAmpnpPwAAAAAAAPA/AAAAQDMz8z8AAACAZmb2PwAAAMCZmfk/AAAAAM3M/D8AAAAAAAAAQAAAAKCZmQFAAAAAQDMzA0AAAADgzMwEQAAAAIBmZgZAAAAAAAAACEAAAACgmZkJQAAAAEAzMwtAAAAA4MzMDEAAAACAZmYOQAAAAAAAABBAAAAA0MzMEEAAAACgmZkRQAAAAHBmZhJAAAAAQDMzE0AAAAAAAAAUQAAAANDMzBRAAAAAoJmZFUAAAABwZmYWQAAAAEAzMxdAAAAAAAAAGEAAAADQzMwYQAAAAKCZmRlAAAAAcGZmGkAAAABAMzMbQAAAAAAAABxAAAAA0MzMHEAAAACgmZkdQAAAAHBmZh5AAAAAQDMzH0AAAAAAAAAgQAAAAGhmZiBAAAAA0MzMIEAAAAA4MzMhQAAAAKCZmSFAAAAAAAAAIkAAAABoZmYiQAAAANDMzCJAAAAAODMzI0AAAACgmZkjQAAAAAAAACRAAAAAaGZmJEAAAADQzMwkQAAAADgzMyVAAAAAoJmZJUAAAAAAAAAmQAAAAGhmZiZAAAAA0MzMJkAAAAA4MzMnQAAAAKCZmSdAAAAAAAAAKEAAAABoZmYoQAAAANDMzChAAAAAODMzKUAAAACgmZkpQAAAAAAAACpAAAAAaGZmKkAAAADQzMwqQAAAADgzMytAAAAAoJmZK0AAAAAAAAAsQAAAAGhmZixAAAAA0MzMLEAAAAA4MzMtQAAAAKCZmS1AAAAAAAAALkAAAABoZmYuQAAAANDMzC5AAAAAODMzL0AAAACgmZkvQAAAAAAAADBAAAAANDMzMEAAAABoZmYwQAAAAJyZmTBAAAAA0MzMMEAAAAAAAAAxQAAAADQzMzFAAAAAaGZmMUAAAACcmZkxQAAAANDMzDFAAAAAAAAAMkAAAAA0MzMyQAAAAGhmZjJAAAAAnJmZMkAAAADQzMwyQAAAAAAAADNAAAAANDMzM0AAAABoZmYzQAAAAJyZmTNAAAAA0MzMM0AAAAAAAAA0QAAAADQzMzRAAAAAaGZmNEAAAACcmZk0QAAAANDMzDRAAAAAAAAANUAAAAA0MzM1QAAAAGhmZjVAAAAAnJmZNUAAAADQzMw1QAAAAAAAADZAAAAANDMzNkAAAABoZmY2QAAAAJyZmTZAAAAA0MzMNkAAAAAAAAA3QAAAADQzMzdAAAAAaGZmN0AAAACcmZk3QAAAANDMzDdAAAAAAAAAOEAAAAA0MzM4QAAAAGhmZjhAAAAAnJmZOEAAAADQzMw4QAAAAAAAADlAAAAANDMzOUAAAABoZmY5QAAAAJyZmTlAAAAA0MzMOUAAAAAAAAA6QAAAADQzMzpAAAAAaGZmOkAAAACcmZk6QAAAANDMzDpAAAAAAAAAO0AAAAA0MzM7QAAAAGhmZjtAAAAAnJmZO0AAAADQzMw7QAAAAAAAADxAAAAANDMzPEAAAABoZmY8QAAAAJyZmTxAAAAA0MzMPEAAAAAAAAA9QAAAADQzMz1AAAAAaGZmPUAAAACcmZk9QAAAANDMzD1AAAAAAAAAPkAAAAA0MzM+QAAAAGhmZj5AAAAAnJmZPkAAAADQzMw+QAAAAAAAAD9AAAAANDMzP0AAAABoZmY/QAAAAJyZmT9AAAAA0MzMP0A=\"},\"shape\":[160],\"dtype\":\"float64\",\"order\":\"little\"}],[\"y\",{\"type\":\"ndarray\",\"array\":{\"type\":\"bytes\",\"data\":\"1bU+OrXkaECE3oa4izRoQMlQWXG85WdAshl63+JpZ0C0dJc3CfBmQIzx6631qGZA0gAdzyE/ZkCdDxdheqZlQCfy4cgwTmVAcklJK+i6ZEAd90HHXnlkQLJF43x6AWRAbj3xRAOwY0B6iOAg+V9jQK4JLBviJ2NA0f3U/0X3YkBpgkzbGtFiQHgjaR06o2JA9OdVay1yYkB7DkNv81BiQDdkzz7VH2JAqgPNjjIZYkCzAvqjZfVhQBcw5T5b3WFAsU5r9I/AYUCCqKWKX6RhQNyzHFp5jGFA6BhSiSp5YUDS5gJVwmBhQFireGytRmFAumqorw8xYUA3ZkdVYxVhQDPKfQAV/GBA4EgXrNvnYEC3uGuLtNxgQBR8TPiUymBA5OBWa3m5YEA0elN+9qtgQKgyGgjTomBAItNjrHieYEBMUesvSpBgQAJqESv4k2BA2dK6QsePYEC83qNhlINgQCyQIFiJgmBA3aQkbE6CYEATuylCHYBgQGIUgX1KdWBAc3JtTIB8YEB1jcTXUnJgQKyQkeRJc2BAIxezQgGIYEAo5FvLintgQHpVOISNhGBASmOZYjt+YEBbnIyHPXpgQFhX26spdWBAxwtezhh5YEB6jefzN4VgQPA2OiwSiWBAFuluoqeNYEAduVom8KVgQHiyTEUtoWBAjCEzrpKlYEByCKTrKahgQLUD0rDXlGBAxfioOHepYEB2utQmGZBgQD9mcKdjf2BA6WECYOl+YEBRD3a3V45gQFlqhX3ElWBAy+y3nCx4YEAk5hHE1mRgQCsUDB35WGBAEgX8HPkxYED1ttKhLgJgQF6MHtmK9F9AuTxCjDRcX0DxQhkzuABfQKTB6tzEwl5Ag8Bkyo8iXkCiydjDWHheQHpeJJ7zYl5AVWDMEGZzXkDu7aiNc0NeQEH8YtKp911AqgXQmQPHXUAi2ePhmcNdQFjKYy17/V1ADs8ZBYjfXUA/yledWA1eQLAOV0eZj11ASt/TKEi5XUBY+I+rwKldQAvWYSSpn11ADmL1NFRAXUAL2luT+nJdQKL7QZYYXl1Ag6sgzJFIXUCOVm9waHNdQPyxulC/Rl1A4P1RAHXsXEAIOXJtfcJcQOF2QDoRyVxA31rnJ63vXEBQqF8PvsVcQLpFtrU1nFxAgU50RZRyXEBGBbVSZ4JcQPYNqNk0GVxAyBB7lBwOXECIW8JdZwlcQDtRdB7A0VtAJpJeIADFW0DtbhohJrtbQA2kVzhFo1tAz2W++o+EW0DAf3ckNqNbQPB4LHQUfFtAU97LiMtkW0BDW8+mHjBbQNdJPmavPFtAL6QXJbH+WkDbD3kk9MtaQBmH0+dwdVpA8vyYc0l9WkBR5AtkqyRaQIHOwltj01lAZUU2lLpRWkBmr69znU9aQKGq315I8VlA9E7rszE9WkA1v0A+0axaQEzwN42I+1pA59mJLrBCW0CY6uuEH21bQIJapYIZ31tAkqwAn5O7W0DIRrAf9CBcQDAJLr7t9VxAAzDGCPMZXUA/UfqBqTJdQLi9bBDSV11AlG8SvLgCXUAQTBZPJr5cQEdgsJJF0lxAJWUOxgApXUA+fXWFjWBdQDSEeaGNDV1A8JO23CAwXED2cgz8iylbQDFQE6iZeFpAF1Cqi+1QWkBwlijdldBaQD2PrcNwVltA63tTTcCiW0DWEns6GwpcQAbBCiI6gFxAY3OxS9WxXUA=\"},\"shape\":[160],\"dtype\":\"float64\",\"order\":\"little\"}]]}}},\"view\":{\"type\":\"object\",\"name\":\"CDSView\",\"id\":\"p1268\",\"attributes\":{\"filter\":{\"type\":\"object\",\"name\":\"AllIndices\",\"id\":\"p1269\"}}},\"glyph\":{\"type\":\"object\",\"name\":\"Line\",\"id\":\"p1264\",\"attributes\":{\"x\":{\"type\":\"field\",\"field\":\"x\"},\"y\":{\"type\":\"field\",\"field\":\"y\"},\"line_color\":\"red\",\"line_width\":2}},\"nonselection_glyph\":{\"type\":\"object\",\"name\":\"Line\",\"id\":\"p1265\",\"attributes\":{\"x\":{\"type\":\"field\",\"field\":\"x\"},\"y\":{\"type\":\"field\",\"field\":\"y\"},\"line_color\":\"red\",\"line_alpha\":0.1,\"line_width\":2}},\"muted_glyph\":{\"type\":\"object\",\"name\":\"Line\",\"id\":\"p1266\",\"attributes\":{\"x\":{\"type\":\"field\",\"field\":\"x\"},\"y\":{\"type\":\"field\",\"field\":\"y\"},\"line_color\":\"red\",\"line_alpha\":0.2,\"line_width\":2}}}},{\"type\":\"object\",\"name\":\"GlyphRenderer\",\"id\":\"p1277\",\"attributes\":{\"data_source\":{\"type\":\"object\",\"name\":\"ColumnDataSource\",\"id\":\"p1271\",\"attributes\":{\"selected\":{\"type\":\"object\",\"name\":\"Selection\",\"id\":\"p1272\",\"attributes\":{\"indices\":[],\"line_indices\":[]}},\"selection_policy\":{\"type\":\"object\",\"name\":\"UnionRenderers\",\"id\":\"p1273\"},\"data\":{\"type\":\"map\",\"entries\":[[\"x0\",[26.600000143051147]],[\"y0\",[0.0]],[\"x1\",[26.600000143051147]],[\"y1\",[333.9135]]]}}},\"view\":{\"type\":\"object\",\"name\":\"CDSView\",\"id\":\"p1278\",\"attributes\":{\"filter\":{\"type\":\"object\",\"name\":\"AllIndices\",\"id\":\"p1279\"}}},\"glyph\":{\"type\":\"object\",\"name\":\"Segment\",\"id\":\"p1274\",\"attributes\":{\"x0\":{\"type\":\"field\",\"field\":\"x0\"},\"y0\":{\"type\":\"field\",\"field\":\"y0\"},\"x1\":{\"type\":\"field\",\"field\":\"x1\"},\"y1\":{\"type\":\"field\",\"field\":\"y1\"},\"line_color\":{\"type\":\"value\",\"value\":\"lightblue\"},\"line_width\":{\"type\":\"value\",\"value\":3}}},\"nonselection_glyph\":{\"type\":\"object\",\"name\":\"Segment\",\"id\":\"p1275\",\"attributes\":{\"x0\":{\"type\":\"field\",\"field\":\"x0\"},\"y0\":{\"type\":\"field\",\"field\":\"y0\"},\"x1\":{\"type\":\"field\",\"field\":\"x1\"},\"y1\":{\"type\":\"field\",\"field\":\"y1\"},\"line_color\":{\"type\":\"value\",\"value\":\"lightblue\"},\"line_alpha\":{\"type\":\"value\",\"value\":0.1},\"line_width\":{\"type\":\"value\",\"value\":3}}},\"muted_glyph\":{\"type\":\"object\",\"name\":\"Segment\",\"id\":\"p1276\",\"attributes\":{\"x0\":{\"type\":\"field\",\"field\":\"x0\"},\"y0\":{\"type\":\"field\",\"field\":\"y0\"},\"x1\":{\"type\":\"field\",\"field\":\"x1\"},\"y1\":{\"type\":\"field\",\"field\":\"y1\"},\"line_color\":{\"type\":\"value\",\"value\":\"lightblue\"},\"line_alpha\":{\"type\":\"value\",\"value\":0.2},\"line_width\":{\"type\":\"value\",\"value\":3}}}}},{\"type\":\"object\",\"name\":\"GlyphRenderer\",\"id\":\"p1286\",\"attributes\":{\"data_source\":{\"type\":\"object\",\"name\":\"ColumnDataSource\",\"id\":\"p1280\",\"attributes\":{\"selected\":{\"type\":\"object\",\"name\":\"Selection\",\"id\":\"p1281\",\"attributes\":{\"indices\":[],\"line_indices\":[]}},\"selection_policy\":{\"type\":\"object\",\"name\":\"UnionRenderers\",\"id\":\"p1282\"},\"data\":{\"type\":\"map\",\"entries\":[[\"x0\",[28.100000143051147]],[\"y0\",[0.0]],[\"x1\",[28.100000143051147]],[\"y1\",[333.9135]]]}}},\"view\":{\"type\":\"object\",\"name\":\"CDSView\",\"id\":\"p1287\",\"attributes\":{\"filter\":{\"type\":\"object\",\"name\":\"AllIndices\",\"id\":\"p1288\"}}},\"glyph\":{\"type\":\"object\",\"name\":\"Segment\",\"id\":\"p1283\",\"attributes\":{\"x0\":{\"type\":\"field\",\"field\":\"x0\"},\"y0\":{\"type\":\"field\",\"field\":\"y0\"},\"x1\":{\"type\":\"field\",\"field\":\"x1\"},\"y1\":{\"type\":\"field\",\"field\":\"y1\"},\"line_color\":{\"type\":\"value\",\"value\":\"darkseagreen\"}}},\"nonselection_glyph\":{\"type\":\"object\",\"name\":\"Segment\",\"id\":\"p1284\",\"attributes\":{\"x0\":{\"type\":\"field\",\"field\":\"x0\"},\"y0\":{\"type\":\"field\",\"field\":\"y0\"},\"x1\":{\"type\":\"field\",\"field\":\"x1\"},\"y1\":{\"type\":\"field\",\"field\":\"y1\"},\"line_color\":{\"type\":\"value\",\"value\":\"darkseagreen\"},\"line_alpha\":{\"type\":\"value\",\"value\":0.1}}},\"muted_glyph\":{\"type\":\"object\",\"name\":\"Segment\",\"id\":\"p1285\",\"attributes\":{\"x0\":{\"type\":\"field\",\"field\":\"x0\"},\"y0\":{\"type\":\"field\",\"field\":\"y0\"},\"x1\":{\"type\":\"field\",\"field\":\"x1\"},\"y1\":{\"type\":\"field\",\"field\":\"y1\"},\"line_color\":{\"type\":\"value\",\"value\":\"darkseagreen\"},\"line_alpha\":{\"type\":\"value\",\"value\":0.2}}}}},{\"type\":\"object\",\"name\":\"GlyphRenderer\",\"id\":\"p1295\",\"attributes\":{\"data_source\":{\"type\":\"object\",\"name\":\"ColumnDataSource\",\"id\":\"p1289\",\"attributes\":{\"selected\":{\"type\":\"object\",\"name\":\"Selection\",\"id\":\"p1290\",\"attributes\":{\"indices\":[],\"line_indices\":[]}},\"selection_policy\":{\"type\":\"object\",\"name\":\"UnionRenderers\",\"id\":\"p1291\"},\"data\":{\"type\":\"map\",\"entries\":[[\"x0\",[25.100000143051147]],[\"y0\",[0.0]],[\"x1\",[25.100000143051147]],[\"y1\",[333.9135]]]}}},\"view\":{\"type\":\"object\",\"name\":\"CDSView\",\"id\":\"p1296\",\"attributes\":{\"filter\":{\"type\":\"object\",\"name\":\"AllIndices\",\"id\":\"p1297\"}}},\"glyph\":{\"type\":\"object\",\"name\":\"Segment\",\"id\":\"p1292\",\"attributes\":{\"x0\":{\"type\":\"field\",\"field\":\"x0\"},\"y0\":{\"type\":\"field\",\"field\":\"y0\"},\"x1\":{\"type\":\"field\",\"field\":\"x1\"},\"y1\":{\"type\":\"field\",\"field\":\"y1\"},\"line_color\":{\"type\":\"value\",\"value\":\"darkseagreen\"}}},\"nonselection_glyph\":{\"type\":\"object\",\"name\":\"Segment\",\"id\":\"p1293\",\"attributes\":{\"x0\":{\"type\":\"field\",\"field\":\"x0\"},\"y0\":{\"type\":\"field\",\"field\":\"y0\"},\"x1\":{\"type\":\"field\",\"field\":\"x1\"},\"y1\":{\"type\":\"field\",\"field\":\"y1\"},\"line_color\":{\"type\":\"value\",\"value\":\"darkseagreen\"},\"line_alpha\":{\"type\":\"value\",\"value\":0.1}}},\"muted_glyph\":{\"type\":\"object\",\"name\":\"Segment\",\"id\":\"p1294\",\"attributes\":{\"x0\":{\"type\":\"field\",\"field\":\"x0\"},\"y0\":{\"type\":\"field\",\"field\":\"y0\"},\"x1\":{\"type\":\"field\",\"field\":\"x1\"},\"y1\":{\"type\":\"field\",\"field\":\"y1\"},\"line_color\":{\"type\":\"value\",\"value\":\"darkseagreen\"},\"line_alpha\":{\"type\":\"value\",\"value\":0.2}}}}},{\"type\":\"object\",\"name\":\"GlyphRenderer\",\"id\":\"p1304\",\"attributes\":{\"data_source\":{\"type\":\"object\",\"name\":\"ColumnDataSource\",\"id\":\"p1298\",\"attributes\":{\"selected\":{\"type\":\"object\",\"name\":\"Selection\",\"id\":\"p1299\",\"attributes\":{\"indices\":[],\"line_indices\":[]}},\"selection_policy\":{\"type\":\"object\",\"name\":\"UnionRenderers\",\"id\":\"p1300\"},\"data\":{\"type\":\"map\",\"entries\":[[\"x\",[26.600000143051147]],[\"y\",[333.9135]],[\"size\",[20]]]}}},\"view\":{\"type\":\"object\",\"name\":\"CDSView\",\"id\":\"p1305\",\"attributes\":{\"filter\":{\"type\":\"object\",\"name\":\"AllIndices\",\"id\":\"p1306\"}}},\"glyph\":{\"type\":\"object\",\"name\":\"Scatter\",\"id\":\"p1301\",\"attributes\":{\"x\":{\"type\":\"field\",\"field\":\"x\"},\"y\":{\"type\":\"field\",\"field\":\"y\"},\"size\":{\"type\":\"field\",\"field\":\"size\"},\"line_color\":{\"type\":\"value\",\"value\":\"lightblue\"},\"line_width\":{\"type\":\"value\",\"value\":3},\"fill_color\":{\"type\":\"value\",\"value\":null},\"marker\":{\"type\":\"value\",\"value\":\"square_cross\"}}},\"nonselection_glyph\":{\"type\":\"object\",\"name\":\"Scatter\",\"id\":\"p1302\",\"attributes\":{\"x\":{\"type\":\"field\",\"field\":\"x\"},\"y\":{\"type\":\"field\",\"field\":\"y\"},\"size\":{\"type\":\"field\",\"field\":\"size\"},\"line_color\":{\"type\":\"value\",\"value\":\"lightblue\"},\"line_alpha\":{\"type\":\"value\",\"value\":0.1},\"line_width\":{\"type\":\"value\",\"value\":3},\"fill_color\":{\"type\":\"value\",\"value\":null},\"fill_alpha\":{\"type\":\"value\",\"value\":0.1},\"hatch_alpha\":{\"type\":\"value\",\"value\":0.1},\"marker\":{\"type\":\"value\",\"value\":\"square_cross\"}}},\"muted_glyph\":{\"type\":\"object\",\"name\":\"Scatter\",\"id\":\"p1303\",\"attributes\":{\"x\":{\"type\":\"field\",\"field\":\"x\"},\"y\":{\"type\":\"field\",\"field\":\"y\"},\"size\":{\"type\":\"field\",\"field\":\"size\"},\"line_color\":{\"type\":\"value\",\"value\":\"lightblue\"},\"line_alpha\":{\"type\":\"value\",\"value\":0.2},\"line_width\":{\"type\":\"value\",\"value\":3},\"fill_color\":{\"type\":\"value\",\"value\":null},\"fill_alpha\":{\"type\":\"value\",\"value\":0.2},\"hatch_alpha\":{\"type\":\"value\",\"value\":0.2},\"marker\":{\"type\":\"value\",\"value\":\"square_cross\"}}}}}],\"toolbar\":{\"type\":\"object\",\"name\":\"Toolbar\",\"id\":\"p1191\",\"attributes\":{\"tools\":[{\"type\":\"object\",\"name\":\"PanTool\",\"id\":\"p1206\"},{\"type\":\"object\",\"name\":\"WheelZoomTool\",\"id\":\"p1207\",\"attributes\":{\"renderers\":\"auto\"}},{\"type\":\"object\",\"name\":\"BoxZoomTool\",\"id\":\"p1208\",\"attributes\":{\"overlay\":{\"type\":\"object\",\"name\":\"BoxAnnotation\",\"id\":\"p1209\",\"attributes\":{\"syncable\":false,\"line_color\":\"black\",\"line_alpha\":1.0,\"line_width\":2,\"line_dash\":[4,4],\"fill_color\":\"lightgrey\",\"fill_alpha\":0.5,\"level\":\"overlay\",\"visible\":false,\"left\":{\"type\":\"number\",\"value\":\"nan\"},\"right\":{\"type\":\"number\",\"value\":\"nan\"},\"top\":{\"type\":\"number\",\"value\":\"nan\"},\"bottom\":{\"type\":\"number\",\"value\":\"nan\"},\"left_units\":\"canvas\",\"right_units\":\"canvas\",\"top_units\":\"canvas\",\"bottom_units\":\"canvas\",\"handles\":{\"type\":\"object\",\"name\":\"BoxInteractionHandles\",\"id\":\"p1215\",\"attributes\":{\"all\":{\"type\":\"object\",\"name\":\"AreaVisuals\",\"id\":\"p1214\",\"attributes\":{\"fill_color\":\"white\",\"hover_fill_color\":\"lightgray\"}}}}}}}},{\"type\":\"object\",\"name\":\"SaveTool\",\"id\":\"p1216\"},{\"type\":\"object\",\"name\":\"ResetTool\",\"id\":\"p1217\"},{\"type\":\"object\",\"name\":\"HelpTool\",\"id\":\"p1218\"},{\"type\":\"object\",\"name\":\"HoverTool\",\"id\":\"p1250\",\"attributes\":{\"renderers\":\"auto\",\"tooltips\":[[\"Y-val\",\"@y{0.00}\"]]}}]}},\"left\":[{\"type\":\"object\",\"name\":\"LinearAxis\",\"id\":\"p1201\",\"attributes\":{\"ticker\":{\"type\":\"object\",\"name\":\"BasicTicker\",\"id\":\"p1202\",\"attributes\":{\"mantissas\":[1,2,5]}},\"formatter\":{\"type\":\"object\",\"name\":\"BasicTickFormatter\",\"id\":\"p1203\"},\"axis_label\":\"km/h\",\"axis_label_standoff\":10,\"axis_label_text_color\":\"#E0E0E0\",\"axis_label_text_font\":\"Helvetica\",\"axis_label_text_font_size\":\"1.25em\",\"axis_label_text_font_style\":\"normal\",\"major_label_policy\":{\"type\":\"object\",\"name\":\"AllLabels\",\"id\":\"p1204\"},\"major_label_text_color\":\"#E0E0E0\",\"major_label_text_font\":\"Helvetica\",\"major_label_text_font_size\":\"1.025em\",\"axis_line_color\":\"#E0E0E0\",\"axis_line_alpha\":0,\"major_tick_line_color\":\"#E0E0E0\",\"major_tick_line_alpha\":0,\"minor_tick_line_color\":\"#E0E0E0\",\"minor_tick_line_alpha\":0}},{\"type\":\"object\",\"name\":\"LinearAxis\",\"id\":\"p1221\",\"attributes\":{\"y_range_name\":\"altitudeFt\",\"ticker\":{\"type\":\"object\",\"name\":\"BasicTicker\",\"id\":\"p1222\",\"attributes\":{\"mantissas\":[1,2,5]}},\"formatter\":{\"type\":\"object\",\"name\":\"BasicTickFormatter\",\"id\":\"p1223\"},\"axis_label\":\"Alt (ft)\",\"axis_label_standoff\":10,\"axis_label_text_color\":\"#E0E0E0\",\"axis_label_text_font\":\"Helvetica\",\"axis_label_text_font_size\":\"1.25em\",\"axis_label_text_font_style\":\"normal\",\"major_label_policy\":{\"type\":\"object\",\"name\":\"AllLabels\",\"id\":\"p1224\"},\"major_label_text_color\":\"#E0E0E0\",\"major_label_text_font\":\"Helvetica\",\"major_label_text_font_size\":\"1.025em\",\"axis_line_color\":\"#E0E0E0\",\"axis_line_alpha\":0,\"major_tick_line_color\":\"#E0E0E0\",\"major_tick_line_alpha\":0,\"minor_tick_line_color\":\"#E0E0E0\",\"minor_tick_line_alpha\":0}},{\"type\":\"object\",\"name\":\"LinearAxis\",\"id\":\"p1225\",\"attributes\":{\"y_range_name\":\"angle\",\"ticker\":{\"type\":\"object\",\"name\":\"BasicTicker\",\"id\":\"p1226\",\"attributes\":{\"mantissas\":[1,2,5]}},\"formatter\":{\"type\":\"object\",\"name\":\"BasicTickFormatter\",\"id\":\"p1227\"},\"axis_label\":\"angle\",\"axis_label_standoff\":10,\"axis_label_text_color\":\"#E0E0E0\",\"axis_label_text_font\":\"Helvetica\",\"axis_label_text_font_size\":\"1.25em\",\"axis_label_text_font_style\":\"normal\",\"major_label_policy\":{\"type\":\"object\",\"name\":\"AllLabels\",\"id\":\"p1228\"},\"major_label_text_color\":\"#E0E0E0\",\"major_label_text_font\":\"Helvetica\",\"major_label_text_font_size\":\"1.025em\",\"axis_line_color\":\"#E0E0E0\",\"axis_line_alpha\":0,\"major_tick_line_color\":\"#E0E0E0\",\"major_tick_line_alpha\":0,\"minor_tick_line_color\":\"#E0E0E0\",\"minor_tick_line_alpha\":0}}],\"below\":[{\"type\":\"object\",\"name\":\"LinearAxis\",\"id\":\"p1196\",\"attributes\":{\"ticker\":{\"type\":\"object\",\"name\":\"BasicTicker\",\"id\":\"p1197\",\"attributes\":{\"mantissas\":[1,2,5]}},\"formatter\":{\"type\":\"object\",\"name\":\"BasicTickFormatter\",\"id\":\"p1198\"},\"axis_label\":\"seconds from exit\",\"axis_label_standoff\":10,\"axis_label_text_color\":\"#E0E0E0\",\"axis_label_text_font\":\"Helvetica\",\"axis_label_text_font_size\":\"1.25em\",\"axis_label_text_font_style\":\"normal\",\"major_label_policy\":{\"type\":\"object\",\"name\":\"AllLabels\",\"id\":\"p1199\"},\"major_label_text_color\":\"#E0E0E0\",\"major_label_text_font\":\"Helvetica\",\"major_label_text_font_size\":\"1.025em\",\"axis_line_color\":\"#E0E0E0\",\"axis_line_alpha\":0,\"major_tick_line_color\":\"#E0E0E0\",\"major_tick_line_alpha\":0,\"minor_tick_line_color\":\"#E0E0E0\",\"minor_tick_line_alpha\":0}}],\"center\":[{\"type\":\"object\",\"name\":\"Grid\",\"id\":\"p1200\",\"attributes\":{\"axis\":{\"id\":\"p1196\"},\"grid_line_color\":\"#E0E0E0\",\"grid_line_alpha\":0.25}},{\"type\":\"object\",\"name\":\"Grid\",\"id\":\"p1205\",\"attributes\":{\"dimension\":1,\"axis\":{\"id\":\"p1201\"},\"grid_line_color\":\"#E0E0E0\",\"grid_line_alpha\":0.25}},{\"type\":\"object\",\"name\":\"Legend\",\"id\":\"p1238\",\"attributes\":{\"border_line_alpha\":0,\"background_fill_color\":\"#20262B\",\"background_fill_alpha\":0.25,\"label_text_color\":\"#E0E0E0\",\"label_text_font\":\"Helvetica\",\"label_text_font_size\":\"1.025em\",\"label_standoff\":8,\"glyph_width\":15,\"spacing\":8,\"items\":[{\"type\":\"object\",\"name\":\"LegendItem\",\"id\":\"p1239\",\"attributes\":{\"label\":{\"type\":\"value\",\"value\":\"Alt (ft)\"},\"renderers\":[{\"id\":\"p1235\"}]}},{\"type\":\"object\",\"name\":\"LegendItem\",\"id\":\"p1249\",\"attributes\":{\"label\":{\"type\":\"value\",\"value\":\"angle\"},\"renderers\":[{\"id\":\"p1246\"}]}},{\"type\":\"object\",\"name\":\"LegendItem\",\"id\":\"p1260\",\"attributes\":{\"label\":{\"type\":\"value\",\"value\":\"speed\"},\"renderers\":[{\"id\":\"p1257\"}]}},{\"type\":\"object\",\"name\":\"LegendItem\",\"id\":\"p1270\",\"attributes\":{\"label\":{\"type\":\"value\",\"value\":\"H-speed\"},\"renderers\":[{\"id\":\"p1267\"}]}}]}}],\"background_fill_color\":\"#20262B\",\"border_fill_color\":\"#15191C\"}}]}};\n",
       "  const render_items = [{\"docid\":\"938372e4-1fcd-4067-a437-71bab001bdbf\",\"roots\":{\"p1182\":\"e9dd77b9-1f58-4800-9450-d88a0caa7bc5\"},\"root_ids\":[\"p1182\"]}];\n",
       "  void root.Bokeh.embed.embed_items_notebook(docs_json, render_items);\n",
       "  }\n",
       "  if (root.Bokeh !== undefined) {\n",
       "    embed_document(root);\n",
       "  } else {\n",
       "    let attempts = 0;\n",
       "    const timer = setInterval(function(root) {\n",
       "      if (root.Bokeh !== undefined) {\n",
       "        clearInterval(timer);\n",
       "        embed_document(root);\n",
       "      } else {\n",
       "        attempts++;\n",
       "        if (attempts > 100) {\n",
       "          clearInterval(timer);\n",
       "          console.log(\"Bokeh: ERROR: Unable to run BokehJS code because BokehJS library is missing\");\n",
       "        }\n",
       "      }\n",
       "    }, 10, root)\n",
       "  }\n",
       "})(window);"
      ],
      "application/vnd.bokehjs_exec.v0+json": ""
     },
     "metadata": {
      "application/vnd.bokehjs_exec.v0+json": {
       "id": "p1182"
      }
     },
     "output_type": "display_data"
    },
    {
     "data": {
      "application/vnd.jupyter.widget-view+json": {
       "model_id": "739679b52f3149c48a9a22a28b473bc3",
       "version_major": 2,
       "version_minor": 0
      },
      "text/plain": [
       "HTML(value='<hr><h1><span style=\"color: #0f0\">Miller-2024-championship-official R3_15-53-00:v1 jump - 🟢 valid …"
      ]
     },
     "metadata": {},
     "output_type": "display_data"
    },
    {
     "data": {
      "application/vnd.jupyter.widget-view+json": {
       "model_id": "bebaff6581f54dce95e20019029f113c",
       "version_major": 2,
       "version_minor": 0
      },
      "text/plain": [
       "HTML(value='<h3>Max speed = 328; exit at 4191 m (13752 ft), end scoring window at 1935 m (6351 ft)')"
      ]
     },
     "metadata": {},
     "output_type": "display_data"
    },
    {
     "data": {
      "application/vnd.jupyter.widget-view+json": {
       "model_id": "f4cf7a071f6b433b83bb445cc3a4a8ca",
       "version_major": 2,
       "version_minor": 0
      },
      "text/plain": [
       "HTML(value='</h3>')"
      ]
     },
     "metadata": {},
     "output_type": "display_data"
    },
    {
     "data": {
      "text/html": [
       "<div>\n",
       "<style scoped>\n",
       "    .dataframe tbody tr th:only-of-type {\n",
       "        vertical-align: middle;\n",
       "    }\n",
       "\n",
       "    .dataframe tbody tr th {\n",
       "        vertical-align: top;\n",
       "    }\n",
       "\n",
       "    .dataframe thead th {\n",
       "        text-align: right;\n",
       "    }\n",
       "</style>\n",
       "<table border=\"1\" class=\"dataframe\">\n",
       "  <thead>\n",
       "    <tr style=\"text-align: right;\">\n",
       "      <th></th>\n",
       "      <th>time</th>\n",
       "      <th>vKMh</th>\n",
       "      <th>hKMh</th>\n",
       "      <th>speedAngle</th>\n",
       "      <th>distanceFromExit</th>\n",
       "      <th>altitude (ft)</th>\n",
       "      <th>netVectorKMh</th>\n",
       "    </tr>\n",
       "  </thead>\n",
       "  <tbody>\n",
       "    <tr>\n",
       "      <th></th>\n",
       "      <td>5.0</td>\n",
       "      <td>153</td>\n",
       "      <td>140</td>\n",
       "      <td>47.4</td>\n",
       "      <td>215.9</td>\n",
       "      <td>13363</td>\n",
       "      <td>207</td>\n",
       "    </tr>\n",
       "    <tr>\n",
       "      <th></th>\n",
       "      <td>10.0</td>\n",
       "      <td>256</td>\n",
       "      <td>127</td>\n",
       "      <td>63.7</td>\n",
       "      <td>398.1</td>\n",
       "      <td>12407</td>\n",
       "      <td>286</td>\n",
       "    </tr>\n",
       "    <tr>\n",
       "      <th></th>\n",
       "      <td>15.0</td>\n",
       "      <td>312</td>\n",
       "      <td>129</td>\n",
       "      <td>67.5</td>\n",
       "      <td>571.6</td>\n",
       "      <td>11093</td>\n",
       "      <td>338</td>\n",
       "    </tr>\n",
       "    <tr>\n",
       "      <th></th>\n",
       "      <td>20.0</td>\n",
       "      <td>327</td>\n",
       "      <td>137</td>\n",
       "      <td>67.2</td>\n",
       "      <td>752.6</td>\n",
       "      <td>9620</td>\n",
       "      <td>354</td>\n",
       "    </tr>\n",
       "    <tr>\n",
       "      <th></th>\n",
       "      <td>25.0</td>\n",
       "      <td>307</td>\n",
       "      <td>138</td>\n",
       "      <td>65.8</td>\n",
       "      <td>944.5</td>\n",
       "      <td>8155</td>\n",
       "      <td>336</td>\n",
       "    </tr>\n",
       "  </tbody>\n",
       "</table>\n",
       "</div>"
      ],
      "text/plain": [
       "  time  vKMh  hKMh  speedAngle  distanceFromExit  altitude (ft)  netVectorKMh\n",
       "   5.0   153   140        47.4             215.9          13363           207\n",
       "  10.0   256   127        63.7             398.1          12407           286\n",
       "  15.0   312   129        67.5             571.6          11093           338\n",
       "  20.0   327   137        67.2             752.6           9620           354\n",
       "  25.0   307   138        65.8             944.5           8155           336"
      ]
     },
     "metadata": {},
     "output_type": "display_data"
    },
    {
     "data": {
      "text/html": [
       "\n",
       "  <div id=\"d0a6761f-8279-4d82-88d6-ad0a1b1656f9\" data-root-id=\"p1325\" style=\"display: contents;\"></div>\n"
      ]
     },
     "metadata": {},
     "output_type": "display_data"
    },
    {
     "data": {
      "application/javascript": [
       "(function(root) {\n",
       "  function embed_document(root) {\n",
       "  const docs_json = {\"6a0db1a4-d5c3-41bf-9824-7665b552fe23\":{\"version\":\"3.5.2\",\"title\":\"Bokeh Application\",\"roots\":[{\"type\":\"object\",\"name\":\"Figure\",\"id\":\"p1325\",\"attributes\":{\"width\":900,\"height\":500,\"x_range\":{\"type\":\"object\",\"name\":\"Range1d\",\"id\":\"p1335\",\"attributes\":{\"end\":35.0}},\"y_range\":{\"type\":\"object\",\"name\":\"Range1d\",\"id\":\"p1336\",\"attributes\":{\"end\":550.0}},\"x_scale\":{\"type\":\"object\",\"name\":\"LinearScale\",\"id\":\"p1337\"},\"y_scale\":{\"type\":\"object\",\"name\":\"LinearScale\",\"id\":\"p1338\"},\"extra_y_ranges\":{\"type\":\"map\",\"entries\":[[\"altitudeFt\",{\"type\":\"object\",\"name\":\"Range1d\",\"id\":\"p1362\",\"attributes\":{\"start\":5853.518268000001,\"end\":14252.512940800001}}],[\"angle\",{\"type\":\"object\",\"name\":\"Range1d\",\"id\":\"p1363\",\"attributes\":{\"end\":90.0}}]]},\"title\":{\"type\":\"object\",\"name\":\"Title\",\"id\":\"p1328\",\"attributes\":{\"text\":\"Miller-2024-championship-official R3_15-53-00:v1\",\"text_color\":\"#E0E0E0\",\"text_font\":\"Helvetica\",\"text_font_size\":\"1.15em\"}},\"outline_line_color\":\"#E0E0E0\",\"outline_line_alpha\":0.25,\"renderers\":[{\"type\":\"object\",\"name\":\"GlyphRenderer\",\"id\":\"p1378\",\"attributes\":{\"y_range_name\":\"altitudeFt\",\"data_source\":{\"type\":\"object\",\"name\":\"ColumnDataSource\",\"id\":\"p1372\",\"attributes\":{\"selected\":{\"type\":\"object\",\"name\":\"Selection\",\"id\":\"p1373\",\"attributes\":{\"indices\":[],\"line_indices\":[]}},\"selection_policy\":{\"type\":\"object\",\"name\":\"UnionRenderers\",\"id\":\"p1374\"},\"data\":{\"type\":\"map\",\"entries\":[[\"x\",{\"type\":\"ndarray\",\"array\":{\"type\":\"bytes\",\"data\":\"AAAAAAAAAAAAAAAAmpnJPwAAAACZmdk/AAAAADMz4z8AAACAmZnpPwAAAAAAAPA/AAAAQDMz8z8AAABAZmb2PwAAAICZmfk/AAAAwMzM/D8AAAAAAAAAQAAAAKCZmQFAAAAAIDMzA0AAAADAzMwEQAAAAGBmZgZAAAAAAAAACEAAAACgmZkJQAAAACAzMwtAAAAAwMzMDEAAAABgZmYOQAAAAAAAABBAAAAA0MzMEEAAAACQmZkRQAAAAGBmZhJAAAAAMDMzE0AAAAAAAAAUQAAAANDMzBRAAAAAkJmZFUAAAABgZmYWQAAAADAzMxdAAAAAAAAAGEAAAADQzMwYQAAAAJCZmRlAAAAAYGZmGkAAAAAwMzMbQAAAAAAAABxAAAAA0MzMHEAAAACQmZkdQAAAAGBmZh5AAAAAMDMzH0AAAAAAAAAgQAAAAGhmZiBAAAAAyMzMIEAAAAAwMzMhQAAAAJiZmSFAAAAAAAAAIkAAAABoZmYiQAAAAMjMzCJAAAAAMDMzI0AAAACYmZkjQAAAAAAAACRAAAAAaGZmJEAAAADIzMwkQAAAADAzMyVAAAAAmJmZJUAAAAAAAAAmQAAAAGhmZiZAAAAAyMzMJkAAAAAwMzMnQAAAAJiZmSdAAAAAAAAAKEAAAABoZmYoQAAAAMjMzChAAAAAMDMzKUAAAACYmZkpQAAAAAAAACpAAAAAaGZmKkAAAADIzMwqQAAAADAzMytAAAAAmJmZK0AAAAAAAAAsQAAAAGhmZixAAAAAyMzMLEAAAAAwMzMtQAAAAJiZmS1AAAAAAAAALkAAAABoZmYuQAAAAMjMzC5AAAAAMDMzL0AAAACYmZkvQAAAAAAAADBAAAAANDMzMEAAAABkZmYwQAAAAJiZmTBAAAAAzMzMMEAAAAAAAAAxQAAAADQzMzFAAAAAZGZmMUAAAACYmZkxQAAAAMzMzDFAAAAAAAAAMkAAAAA0MzMyQAAAAGRmZjJAAAAAmJmZMkAAAADMzMwyQAAAAAAAADNAAAAANDMzM0AAAABkZmYzQAAAAJiZmTNAAAAAzMzMM0AAAAAAAAA0QAAAADQzMzRAAAAAZGZmNEAAAACYmZk0QAAAAMzMzDRAAAAAAAAANUAAAAA0MzM1QAAAAGRmZjVAAAAAmJmZNUAAAADMzMw1QAAAAAAAADZAAAAANDMzNkAAAABkZmY2QAAAAJiZmTZAAAAAzMzMNkAAAAAAAAA3QAAAADQzMzdAAAAAZGZmN0AAAACYmZk3QAAAAMzMzDdAAAAAAAAAOEAAAAA0MzM4QAAAAGRmZjhAAAAAmJmZOEAAAADMzMw4QAAAAAAAADlAAAAANDMzOUAAAABkZmY5QAAAAJiZmTlAAAAAzMzMOUAAAAAAAAA6QAAAADQzMzpAAAAAZGZmOkAAAACYmZk6QAAAAMzMzDpAAAAAAAAAO0AAAAA0MzM7QAAAAGRmZjtAAAAAmJmZO0AAAADMzMw7QAAAAAAAADxAAAAANDMzPEAAAABkZmY8QAAAAJiZmTxAAAAAzMzMPEAAAAAAAAA9QAAAADQzMz1AAAAAZGZmPUAAAACYmZk9QAAAAMzMzD1AAAAAAAAAPkAAAAA0MzM+QAAAAGRmZj5AAAAAmJmZPkAAAADMzMw+QAAAAAAAAD9AAAAANDMzP0AAAABkZmY/QAAAAJiZmT9AAAAAzMzMP0A=\"},\"shape\":[160],\"dtype\":\"float64\",\"order\":\"little\"}],[\"y\",{\"type\":\"ndarray\",\"array\":{\"type\":\"bytes\",\"data\":\"ZUwLqEHcykDLSc3DTtrKQG3xhLkI2MpANNRysYPVykDF/ZEzbtLKQJD4FWuIzspAxtqEIEzKykDQi8nRYsXKQDwiOl/nv8pAXxH8bw26ykAOPoM80bPKQAOdpFQlrcpA98O+U9elykBlwKPXAJ7KQM2fJX67lcpAYMGix/yMykB0Ocpm04PKQCwhaYEHespA7PQoAc5vykBPOGD88WTKQL2JITmhWcpA6jr5mbdNykBiYj3/T0HKQFrgK7p9NMpAz1VO1hsnykDKZe0AQRnKQNbH6CXjCspAzAP9KhX8yUBcZPFR7ezJQDQZ6aBO3clA0NA/wS3NyUAOE7KYnbzJQOBXm7W6q8lA+M4eHmiayUBSNGoZtIjJQBrFckubdslA1vRF5yFkyUBv00REPlHJQNE1gkP2PclAqoguA1kqyUBrcSHqWRbJQLJTB9QGAslAo4W6/lPtyEAv/rYnQNjIQNTKzuzkwshAJgkdzyKtyEAnOoGfF5fIQBnG3SC6gMhApHYaxAJqyEAfgk8Y+VLIQMHqI0upO8hATEi1mRwkyECiiPt+UAzIQIdlfRRH9MdAy6FFtgPcx0A1GURagcPHQA35DE3GqsdAV2MJa8uRx0BrsLofkXjHQE4CikcQX8dAYXaq11hFx0DLhF/qVyvHQPkPjv4sEcdAmCXwPcL2xkDWAntMFNzGQHdhtUMlwcZA5cQNru+lxkBU61gAjorGQLXLEvj+bsZAyP1Y0ktTxkBiZp/HcDfGQDWUf9J1G8ZAL1wM1GD/xUAFb0ijMuPFQAdgAyLcxsVApjOLq3WqxUD0NjY78o3FQGJuUixqccVAkQB/Qr9UxUAnlToS8TfFQF9QlaUEG8VA1nPS+w7+xEClkBrJ9ODEQMhim1TEw8RA1IhP8HumxEDsNqj9FonEQP5jITqUa8RAgVjbuf1NxEBaJDfUSTDEQLLAV3SDEsRAdwJQe7D0w0Cc4Jumz9bDQIJWBQ/4uMNApBLoXR6bw0B6f82DRX3DQMKz8+xYX8NAiRdV0H5Bw0AmYCrsoCPDQAIR4sq5BcNATcbnBOvnwkBY8aGfLMrCQCb4SzBprMJA2w5XGJyOwkCeLuZC0HDCQN780Bb5UsJAIO0kxxo1wkCtLHagOxfCQHaQ14Nh+cFA/otWpJDbwUBPhS6Xs73BQLpupTLgn8FAru2S3QmCwUCPHyqNQGTBQKFMo8m9RsFAir0GM1wpwUCUwVHyGgzBQDWhpBsE78BAydbp9hDSwEBWpvM8M7XAQD3Ofu5VmMBA1YSjmoB7wEA4mJcNxF7AQBeX9EEoQsBAR8WkZM4lwEA/LrtxlAnAQOCRZ03y2r9AlhgVgvaiv0CMB6V58Wq/QKirhaMFM79ALvU9NA37vkAmySnw1MK+QNAJRsqrir5A0t/wJ69SvkBobzoT5Bq+QKZp9Xrs4r1A1HyVfOyqvUB8N8yGG3O9QPBwOzRcO71ACY82jsgDvUBQ6iaMMcy8QPzoL09SlLxA5Wq/EJ1cvEBttHehpCS8QO5a54SV7LtAyRzLu1q0u0DINIkwFHy7QDHmU2xxRLtAUCGyo0wNu0BoOK/7ONi6QGAKalNQpLpAHTIv0bpwukDWQV4Phj66QNMCD2cJDrpAPTZdqq3euUAxdDYuHbC5QH0705VpgrlAInGPpV9VuUB5cvLHiSi5QCDU6lDS/LhAkS42rYTRuEA=\"},\"shape\":[160],\"dtype\":\"float64\",\"order\":\"little\"}]]}}},\"view\":{\"type\":\"object\",\"name\":\"CDSView\",\"id\":\"p1379\",\"attributes\":{\"filter\":{\"type\":\"object\",\"name\":\"AllIndices\",\"id\":\"p1380\"}}},\"glyph\":{\"type\":\"object\",\"name\":\"Line\",\"id\":\"p1375\",\"attributes\":{\"x\":{\"type\":\"field\",\"field\":\"x\"},\"y\":{\"type\":\"field\",\"field\":\"y\"},\"line_color\":\"palegoldenrod\",\"line_width\":2}},\"nonselection_glyph\":{\"type\":\"object\",\"name\":\"Line\",\"id\":\"p1376\",\"attributes\":{\"x\":{\"type\":\"field\",\"field\":\"x\"},\"y\":{\"type\":\"field\",\"field\":\"y\"},\"line_color\":\"palegoldenrod\",\"line_alpha\":0.1,\"line_width\":2}},\"muted_glyph\":{\"type\":\"object\",\"name\":\"Line\",\"id\":\"p1377\",\"attributes\":{\"x\":{\"type\":\"field\",\"field\":\"x\"},\"y\":{\"type\":\"field\",\"field\":\"y\"},\"line_color\":\"palegoldenrod\",\"line_alpha\":0.2,\"line_width\":2}}}},{\"type\":\"object\",\"name\":\"GlyphRenderer\",\"id\":\"p1389\",\"attributes\":{\"y_range_name\":\"angle\",\"data_source\":{\"type\":\"object\",\"name\":\"ColumnDataSource\",\"id\":\"p1383\",\"attributes\":{\"selected\":{\"type\":\"object\",\"name\":\"Selection\",\"id\":\"p1384\",\"attributes\":{\"indices\":[],\"line_indices\":[]}},\"selection_policy\":{\"type\":\"object\",\"name\":\"UnionRenderers\",\"id\":\"p1385\"},\"data\":{\"type\":\"map\",\"entries\":[[\"x\",{\"type\":\"ndarray\",\"array\":{\"type\":\"bytes\",\"data\":\"AAAAAAAAAAAAAAAAmpnJPwAAAACZmdk/AAAAADMz4z8AAACAmZnpPwAAAAAAAPA/AAAAQDMz8z8AAABAZmb2PwAAAICZmfk/AAAAwMzM/D8AAAAAAAAAQAAAAKCZmQFAAAAAIDMzA0AAAADAzMwEQAAAAGBmZgZAAAAAAAAACEAAAACgmZkJQAAAACAzMwtAAAAAwMzMDEAAAABgZmYOQAAAAAAAABBAAAAA0MzMEEAAAACQmZkRQAAAAGBmZhJAAAAAMDMzE0AAAAAAAAAUQAAAANDMzBRAAAAAkJmZFUAAAABgZmYWQAAAADAzMxdAAAAAAAAAGEAAAADQzMwYQAAAAJCZmRlAAAAAYGZmGkAAAAAwMzMbQAAAAAAAABxAAAAA0MzMHEAAAACQmZkdQAAAAGBmZh5AAAAAMDMzH0AAAAAAAAAgQAAAAGhmZiBAAAAAyMzMIEAAAAAwMzMhQAAAAJiZmSFAAAAAAAAAIkAAAABoZmYiQAAAAMjMzCJAAAAAMDMzI0AAAACYmZkjQAAAAAAAACRAAAAAaGZmJEAAAADIzMwkQAAAADAzMyVAAAAAmJmZJUAAAAAAAAAmQAAAAGhmZiZAAAAAyMzMJkAAAAAwMzMnQAAAAJiZmSdAAAAAAAAAKEAAAABoZmYoQAAAAMjMzChAAAAAMDMzKUAAAACYmZkpQAAAAAAAACpAAAAAaGZmKkAAAADIzMwqQAAAADAzMytAAAAAmJmZK0AAAAAAAAAsQAAAAGhmZixAAAAAyMzMLEAAAAAwMzMtQAAAAJiZmS1AAAAAAAAALkAAAABoZmYuQAAAAMjMzC5AAAAAMDMzL0AAAACYmZkvQAAAAAAAADBAAAAANDMzMEAAAABkZmYwQAAAAJiZmTBAAAAAzMzMMEAAAAAAAAAxQAAAADQzMzFAAAAAZGZmMUAAAACYmZkxQAAAAMzMzDFAAAAAAAAAMkAAAAA0MzMyQAAAAGRmZjJAAAAAmJmZMkAAAADMzMwyQAAAAAAAADNAAAAANDMzM0AAAABkZmYzQAAAAJiZmTNAAAAAzMzMM0AAAAAAAAA0QAAAADQzMzRAAAAAZGZmNEAAAACYmZk0QAAAAMzMzDRAAAAAAAAANUAAAAA0MzM1QAAAAGRmZjVAAAAAmJmZNUAAAADMzMw1QAAAAAAAADZAAAAANDMzNkAAAABkZmY2QAAAAJiZmTZAAAAAzMzMNkAAAAAAAAA3QAAAADQzMzdAAAAAZGZmN0AAAACYmZk3QAAAAMzMzDdAAAAAAAAAOEAAAAA0MzM4QAAAAGRmZjhAAAAAmJmZOEAAAADMzMw4QAAAAAAAADlAAAAANDMzOUAAAABkZmY5QAAAAJiZmTlAAAAAzMzMOUAAAAAAAAA6QAAAADQzMzpAAAAAZGZmOkAAAACYmZk6QAAAAMzMzDpAAAAAAAAAO0AAAAA0MzM7QAAAAGRmZjtAAAAAmJmZO0AAAADMzMw7QAAAAAAAADxAAAAANDMzPEAAAABkZmY8QAAAAJiZmTxAAAAAzMzMPEAAAAAAAAA9QAAAADQzMz1AAAAAZGZmPUAAAACYmZk9QAAAAMzMzD1AAAAAAAAAPkAAAAA0MzM+QAAAAGRmZj5AAAAAmJmZPkAAAADMzMw+QAAAAAAAAD9AAAAANDMzP0AAAABkZmY/QAAAAJiZmT9AAAAAzMzMP0A=\"},\"shape\":[160],\"dtype\":\"float64\",\"order\":\"little\"}],[\"y\",{\"type\":\"ndarray\",\"array\":{\"type\":\"bytes\",\"data\":\"MzMzMzMzH0AzMzMzMzMiQM3MzMzMzCVAmpmZmZmZKEAzMzMzMzMsQGZmZmZmZi9AAAAAAACAMUCamZmZmRkzQDMzMzMzMzVAAAAAAAAAN0BmZmZmZuY4QDMzMzMzszpAzczMzMxMPECamZmZmRk+QM3MzMzMzD9AAAAAAADAQEBmZmZmZqZBQAAAAAAAQEJAAAAAAAAAQ0AzMzMzM7NDQGZmZmZmZkRAzczMzMwMRUAAAAAAAMBFQGZmZmZmZkZAmpmZmZkZR0AzMzMzM7NHQAAAAAAAQEhAAAAAAADASEDNzMzMzExJQAAAAAAAwElAAAAAAABASkAzMzMzM7NKQGZmZmZmJktAzczMzMyMS0AAAAAAAABMQJqZmZmZWUxAMzMzMzOzTEDNzMzMzAxNQJqZmZmZWU1AmpmZmZmZTUBmZmZmZuZNQGZmZmZmJk5AZmZmZmZmTkDNzMzMzIxOQM3MzMzMzE5AAAAAAAAAT0AAAAAAAEBPQAAAAAAAgE9AZmZmZmamT0AAAAAAAMBPQJqZmZmZ2U9AzczMzMwMUEAzMzMzMxNQQGZmZmZmJlBAzczMzMwsUEAzMzMzMzNQQGZmZmZmRlBAmpmZmZlZUEAzMzMzM3NQQAAAAAAAgFBAMzMzMzOTUEAzMzMzM5NQQM3MzMzMrFBAAAAAAADAUEDNzMzMzMxQQAAAAAAA4FBAMzMzMzPzUEAzMzMzM/NQQGZmZmZmBlFAAAAAAAAAUUAAAAAAAABRQJqZmZmZ+VBAzczMzMzsUEDNzMzMzOxQQAAAAAAA4FBAAAAAAADgUECamZmZmdlQQJqZmZmZ2VBAmpmZmZnZUEAAAAAAAOBQQAAAAAAA4FBAzczMzMzsUEAzMzMzM/NQQJqZmZmZ+VBAAAAAAAAAUUDNzMzMzAxRQGZmZmZmJlFAMzMzMzMzUUDNzMzMzCxRQDMzMzMzM1FAmpmZmZk5UUBmZmZmZiZRQAAAAAAAIFFAMzMzMzMTUUDNzMzMzAxRQGZmZmZmBlFAmpmZmZn5UECamZmZmflQQGZmZmZm5lBAmpmZmZnZUEDNzMzMzMxQQGZmZmZmxlBAmpmZmZm5UEAAAAAAAMBQQDMzMzMzs1BAmpmZmZm5UEAAAAAAAMBQQM3MzMzMrFBAMzMzMzOzUEAAAAAAAMBQQAAAAAAAwFBAZmZmZmbGUEAAAAAAAMBQQM3MzMzMrFBAzczMzMysUEAAAAAAAKBQQJqZmZmZmVBAmpmZmZmZUEAAAAAAAKBQQGZmZmZmplBAZmZmZmamUEAAAAAAAKBQQDMzMzMzk1BAZmZmZmaGUEBmZmZmZoZQQDMzMzMzc1BAMzMzMzNzUEBmZmZmZoZQQDMzMzMzk1BAzczMzMysUECamZmZmblQQDMzMzMzs1BAAAAAAADAUEAAAAAAAMBQQM3MzMzMzFBAMzMzMzPTUEDNzMzMzMxQQGZmZmZmxlBAMzMzMzOzUEBmZmZmZsZQQJqZmZmZuVBAMzMzMzOzUECamZmZmdlQQM3MzMzM7FBAzczMzMwsUUAzMzMzM3NRQGZmZmZmplFAmpmZmZl5UUDNzMzMzKxRQJqZmZmZ2VFAAAAAAAAAUkCamZmZmRlSQGZmZmZmZlJAzczMzMysUkAzMzMzM/NSQDMzMzMzM1NAMzMzMzNTU0AAAAAAAIBTQGZmZmZmplNAMzMzMzOTU0A=\"},\"shape\":[160],\"dtype\":\"float64\",\"order\":\"little\"}]]}}},\"view\":{\"type\":\"object\",\"name\":\"CDSView\",\"id\":\"p1390\",\"attributes\":{\"filter\":{\"type\":\"object\",\"name\":\"AllIndices\",\"id\":\"p1391\"}}},\"glyph\":{\"type\":\"object\",\"name\":\"Line\",\"id\":\"p1386\",\"attributes\":{\"x\":{\"type\":\"field\",\"field\":\"x\"},\"y\":{\"type\":\"field\",\"field\":\"y\"},\"line_color\":\"deepskyblue\",\"line_width\":2}},\"nonselection_glyph\":{\"type\":\"object\",\"name\":\"Line\",\"id\":\"p1387\",\"attributes\":{\"x\":{\"type\":\"field\",\"field\":\"x\"},\"y\":{\"type\":\"field\",\"field\":\"y\"},\"line_color\":\"deepskyblue\",\"line_alpha\":0.1,\"line_width\":2}},\"muted_glyph\":{\"type\":\"object\",\"name\":\"Line\",\"id\":\"p1388\",\"attributes\":{\"x\":{\"type\":\"field\",\"field\":\"x\"},\"y\":{\"type\":\"field\",\"field\":\"y\"},\"line_color\":\"deepskyblue\",\"line_alpha\":0.2,\"line_width\":2}}}},{\"type\":\"object\",\"name\":\"GlyphRenderer\",\"id\":\"p1400\",\"attributes\":{\"data_source\":{\"type\":\"object\",\"name\":\"ColumnDataSource\",\"id\":\"p1394\",\"attributes\":{\"selected\":{\"type\":\"object\",\"name\":\"Selection\",\"id\":\"p1395\",\"attributes\":{\"indices\":[],\"line_indices\":[]}},\"selection_policy\":{\"type\":\"object\",\"name\":\"UnionRenderers\",\"id\":\"p1396\"},\"data\":{\"type\":\"map\",\"entries\":[[\"x\",{\"type\":\"ndarray\",\"array\":{\"type\":\"bytes\",\"data\":\"AAAAAAAAAAAAAAAAmpnJPwAAAACZmdk/AAAAADMz4z8AAACAmZnpPwAAAAAAAPA/AAAAQDMz8z8AAABAZmb2PwAAAICZmfk/AAAAwMzM/D8AAAAAAAAAQAAAAKCZmQFAAAAAIDMzA0AAAADAzMwEQAAAAGBmZgZAAAAAAAAACEAAAACgmZkJQAAAACAzMwtAAAAAwMzMDEAAAABgZmYOQAAAAAAAABBAAAAA0MzMEEAAAACQmZkRQAAAAGBmZhJAAAAAMDMzE0AAAAAAAAAUQAAAANDMzBRAAAAAkJmZFUAAAABgZmYWQAAAADAzMxdAAAAAAAAAGEAAAADQzMwYQAAAAJCZmRlAAAAAYGZmGkAAAAAwMzMbQAAAAAAAABxAAAAA0MzMHEAAAACQmZkdQAAAAGBmZh5AAAAAMDMzH0AAAAAAAAAgQAAAAGhmZiBAAAAAyMzMIEAAAAAwMzMhQAAAAJiZmSFAAAAAAAAAIkAAAABoZmYiQAAAAMjMzCJAAAAAMDMzI0AAAACYmZkjQAAAAAAAACRAAAAAaGZmJEAAAADIzMwkQAAAADAzMyVAAAAAmJmZJUAAAAAAAAAmQAAAAGhmZiZAAAAAyMzMJkAAAAAwMzMnQAAAAJiZmSdAAAAAAAAAKEAAAABoZmYoQAAAAMjMzChAAAAAMDMzKUAAAACYmZkpQAAAAAAAACpAAAAAaGZmKkAAAADIzMwqQAAAADAzMytAAAAAmJmZK0AAAAAAAAAsQAAAAGhmZixAAAAAyMzMLEAAAAAwMzMtQAAAAJiZmS1AAAAAAAAALkAAAABoZmYuQAAAAMjMzC5AAAAAMDMzL0AAAACYmZkvQAAAAAAAADBAAAAANDMzMEAAAABkZmYwQAAAAJiZmTBAAAAAzMzMMEAAAAAAAAAxQAAAADQzMzFAAAAAZGZmMUAAAACYmZkxQAAAAMzMzDFAAAAAAAAAMkAAAAA0MzMyQAAAAGRmZjJAAAAAmJmZMkAAAADMzMwyQAAAAAAAADNAAAAANDMzM0AAAABkZmYzQAAAAJiZmTNAAAAAzMzMM0AAAAAAAAA0QAAAADQzMzRAAAAAZGZmNEAAAACYmZk0QAAAAMzMzDRAAAAAAAAANUAAAAA0MzM1QAAAAGRmZjVAAAAAmJmZNUAAAADMzMw1QAAAAAAAADZAAAAANDMzNkAAAABkZmY2QAAAAJiZmTZAAAAAzMzMNkAAAAAAAAA3QAAAADQzMzdAAAAAZGZmN0AAAACYmZk3QAAAAMzMzDdAAAAAAAAAOEAAAAA0MzM4QAAAAGRmZjhAAAAAmJmZOEAAAADMzMw4QAAAAAAAADlAAAAANDMzOUAAAABkZmY5QAAAAJiZmTlAAAAAzMzMOUAAAAAAAAA6QAAAADQzMzpAAAAAZGZmOkAAAACYmZk6QAAAAMzMzDpAAAAAAAAAO0AAAAA0MzM7QAAAAGRmZjtAAAAAmJmZO0AAAADMzMw7QAAAAAAAADxAAAAANDMzPEAAAABkZmY8QAAAAJiZmTxAAAAAzMzMPEAAAAAAAAA9QAAAADQzMz1AAAAAZGZmPUAAAACYmZk9QAAAAMzMzD1AAAAAAAAAPkAAAAA0MzM+QAAAAGRmZj5AAAAAmJmZPkAAAADMzMw+QAAAAAAAAD9AAAAANDMzP0AAAABkZmY/QAAAAJiZmT9AAAAAzMzMP0A=\"},\"shape\":[160],\"dtype\":\"float64\",\"order\":\"little\"}],[\"y\",{\"type\":\"ndarray\",\"array\":{\"type\":\"bytes\",\"data\":\"ZDvfT40XOUBxPQrXo3A8QEW28/3UuEBAwcqhRbazQkB3vp8aLx1FQHe+nxovXUdALbKd76fGSUAMAiuHFhlMQJQYBFYOLU9ACKwcWmTbUECBlUOLbEdSQB+F61G4nlNABoGVQ4vMVEB3vp8aLz1WQBFYObTIlldAhetRuB4FWUDqJjEIrHxaQAIrhxbZjltApHA9CtfjXEBRuB6F6zFeQBFYObTIdl9A4XoUrkdhYECq8dJNYhBhQJduEoPAqmFAQmDl0CJrYkAZBFYOLRJjQPyp8dJNsmNA6iYxCKxMZEDP91PjpetkQLtJDAIrh2VAoBov3SQmZkCLbOf7qcFmQG3n+6nxYmdAW2Q730/9Z0B9PzVeunloQGQ730+NF2lAdZMYBFaeaUB7FK5H4SpqQJQYBFYOrWpArBxaZDsva0DZzvdT46VrQAvXo3A9GmxALbKd76eWbEBoke18PwVtQIXrUbgehW1AuB6F61H4bUAGgZVDi1xuQBKDwMqh5W5AUI2XbhJTb0CbxCCwcrhvQAaBlUOLBHBAokW28/08cEBnZmZmZl5wQAwCK4cWkXBAPgrXo3C9cECDwMqhRd5wQDMzMzMzC3FA5tAi2/k2cUAGgZVDi2xxQEW28/3UkHFA+FPjpZu8cUA+CtejcN1xQG8Sg8DKCXJAIbByaJE1ckDHSzeJQWhyQIgW2c73i3JAJzEIrBzCckCIFtnO99NyQEjhehSu93JAne+nxksPc0BvEoPAyilzQFK4HoXrOXNARIts5/tBc0CIFtnO92NzQPYoXI/CbXNATDeJQWCFc0BEi2zn+4lzQKAaL90knnNAf2q8dJOwc0DNzMzMzMxzQEw3iUFgzXNAoBov3STmc0D4U+Olm/xzQOF6FK5HCXRAyXa+nxoXdEAfhetRuC50QOxRuB6FS3RATmIQWDlcdEDFILByaGF0QDm0yHa+Z3RAlkOLbOd7dEAtsp3vp250QJ3vp8ZLd3RAKVyPwvVwdECiRbbz/XR0QCcxCKwccnRAIbByaJF1dEAUrkfhenx0QDDdJAaBbXRAN4lBYOVodEC5HoXrUWh0QD4K16NwZXRARIts5/thdEAnMQisHHJ0QKwcWmQ7b3RAGQRWDi16dECLbOf7qYF0QD81XrpJZHRAMN0kBoFtdECXbhKDwHp0QDMzMzMza3RAokW28/10dEDLoUW28110QKRwPQrXK3RAz/dT46UTdED6fmq8dPtzQCcxCKwc4nNATDeJQWDNc0BV46WbxMhzQFg5tMh2xnNA+FPjpZu0c0CF61G4Hq1zQFCNl24Sg3NAlkOLbOdbc0CcxCCwclhzQOxRuB6FK3NAfT81Xrohc0DhehSuRzFzQIts5/upGXNAz/dT46U7c0C5HoXrUUhzQPLSTWIQKHNAYeXQItsxc0CBlUOLbB9zQPYoXI/CJXNAarx0kxgsc0AIrBxaZBtzQJqZmZmZEXNAQmDl0CL7ckCR7Xw/NRZzQIlBYOXQGnNAnMQgsHIQc0A5tMh2vkdzQMuhRbbzPXNAKVyPwvVQc0AdWmQ731dzQP7UeOkmIXNAMzMzMzO7ckBCYOXQIttxQG8Sg8DKwXFALbKd76eecUAIrBxaZNtwQOomMQisXHBAgZVDi2wHcEC7SQwCK6dvQJvEILByKG9AsHJoke2MbkAzMzMzM0NuQOomMQis3G1AVeOlm8QQbUA=\"},\"shape\":[160],\"dtype\":\"float64\",\"order\":\"little\"}]]}}},\"view\":{\"type\":\"object\",\"name\":\"CDSView\",\"id\":\"p1401\",\"attributes\":{\"filter\":{\"type\":\"object\",\"name\":\"AllIndices\",\"id\":\"p1402\"}}},\"glyph\":{\"type\":\"object\",\"name\":\"Line\",\"id\":\"p1397\",\"attributes\":{\"x\":{\"type\":\"field\",\"field\":\"x\"},\"y\":{\"type\":\"field\",\"field\":\"y\"},\"line_color\":\"limegreen\",\"line_width\":2}},\"nonselection_glyph\":{\"type\":\"object\",\"name\":\"Line\",\"id\":\"p1398\",\"attributes\":{\"x\":{\"type\":\"field\",\"field\":\"x\"},\"y\":{\"type\":\"field\",\"field\":\"y\"},\"line_color\":\"limegreen\",\"line_alpha\":0.1,\"line_width\":2}},\"muted_glyph\":{\"type\":\"object\",\"name\":\"Line\",\"id\":\"p1399\",\"attributes\":{\"x\":{\"type\":\"field\",\"field\":\"x\"},\"y\":{\"type\":\"field\",\"field\":\"y\"},\"line_color\":\"limegreen\",\"line_alpha\":0.2,\"line_width\":2}}}},{\"type\":\"object\",\"name\":\"GlyphRenderer\",\"id\":\"p1410\",\"attributes\":{\"data_source\":{\"type\":\"object\",\"name\":\"ColumnDataSource\",\"id\":\"p1404\",\"attributes\":{\"selected\":{\"type\":\"object\",\"name\":\"Selection\",\"id\":\"p1405\",\"attributes\":{\"indices\":[],\"line_indices\":[]}},\"selection_policy\":{\"type\":\"object\",\"name\":\"UnionRenderers\",\"id\":\"p1406\"},\"data\":{\"type\":\"map\",\"entries\":[[\"x\",{\"type\":\"ndarray\",\"array\":{\"type\":\"bytes\",\"data\":\"AAAAAAAAAAAAAAAAmpnJPwAAAACZmdk/AAAAADMz4z8AAACAmZnpPwAAAAAAAPA/AAAAQDMz8z8AAABAZmb2PwAAAICZmfk/AAAAwMzM/D8AAAAAAAAAQAAAAKCZmQFAAAAAIDMzA0AAAADAzMwEQAAAAGBmZgZAAAAAAAAACEAAAACgmZkJQAAAACAzMwtAAAAAwMzMDEAAAABgZmYOQAAAAAAAABBAAAAA0MzMEEAAAACQmZkRQAAAAGBmZhJAAAAAMDMzE0AAAAAAAAAUQAAAANDMzBRAAAAAkJmZFUAAAABgZmYWQAAAADAzMxdAAAAAAAAAGEAAAADQzMwYQAAAAJCZmRlAAAAAYGZmGkAAAAAwMzMbQAAAAAAAABxAAAAA0MzMHEAAAACQmZkdQAAAAGBmZh5AAAAAMDMzH0AAAAAAAAAgQAAAAGhmZiBAAAAAyMzMIEAAAAAwMzMhQAAAAJiZmSFAAAAAAAAAIkAAAABoZmYiQAAAAMjMzCJAAAAAMDMzI0AAAACYmZkjQAAAAAAAACRAAAAAaGZmJEAAAADIzMwkQAAAADAzMyVAAAAAmJmZJUAAAAAAAAAmQAAAAGhmZiZAAAAAyMzMJkAAAAAwMzMnQAAAAJiZmSdAAAAAAAAAKEAAAABoZmYoQAAAAMjMzChAAAAAMDMzKUAAAACYmZkpQAAAAAAAACpAAAAAaGZmKkAAAADIzMwqQAAAADAzMytAAAAAmJmZK0AAAAAAAAAsQAAAAGhmZixAAAAAyMzMLEAAAAAwMzMtQAAAAJiZmS1AAAAAAAAALkAAAABoZmYuQAAAAMjMzC5AAAAAMDMzL0AAAACYmZkvQAAAAAAAADBAAAAANDMzMEAAAABkZmYwQAAAAJiZmTBAAAAAzMzMMEAAAAAAAAAxQAAAADQzMzFAAAAAZGZmMUAAAACYmZkxQAAAAMzMzDFAAAAAAAAAMkAAAAA0MzMyQAAAAGRmZjJAAAAAmJmZMkAAAADMzMwyQAAAAAAAADNAAAAANDMzM0AAAABkZmYzQAAAAJiZmTNAAAAAzMzMM0AAAAAAAAA0QAAAADQzMzRAAAAAZGZmNEAAAACYmZk0QAAAAMzMzDRAAAAAAAAANUAAAAA0MzM1QAAAAGRmZjVAAAAAmJmZNUAAAADMzMw1QAAAAAAAADZAAAAANDMzNkAAAABkZmY2QAAAAJiZmTZAAAAAzMzMNkAAAAAAAAA3QAAAADQzMzdAAAAAZGZmN0AAAACYmZk3QAAAAMzMzDdAAAAAAAAAOEAAAAA0MzM4QAAAAGRmZjhAAAAAmJmZOEAAAADMzMw4QAAAAAAAADlAAAAANDMzOUAAAABkZmY5QAAAAJiZmTlAAAAAzMzMOUAAAAAAAAA6QAAAADQzMzpAAAAAZGZmOkAAAACYmZk6QAAAAMzMzDpAAAAAAAAAO0AAAAA0MzM7QAAAAGRmZjtAAAAAmJmZO0AAAADMzMw7QAAAAAAAADxAAAAANDMzPEAAAABkZmY8QAAAAJiZmTxAAAAAzMzMPEAAAAAAAAA9QAAAADQzMz1AAAAAZGZmPUAAAACYmZk9QAAAAMzMzD1AAAAAAAAAPkAAAAA0MzM+QAAAAGRmZj5AAAAAmJmZPkAAAADMzMw+QAAAAAAAAD9AAAAANDMzP0AAAABkZmY/QAAAAJiZmT9AAAAAzMzMP0A=\"},\"shape\":[160],\"dtype\":\"float64\",\"order\":\"little\"}],[\"y\",{\"type\":\"ndarray\",\"array\":{\"type\":\"bytes\",\"data\":\"x5w+xLz8ZkDpLJhf1DhmQAREiyKLx2VAguKeeH1qZUBA8OzwfRRlQCE2wxtAwWRAtaNbCed2ZEAq+nQBlkNkQMCpntPTC2RAYbZrvoPQY0AWJsaFo7BjQBLAvMc+f2NA4+KPWFdZY0D7/RY8eihjQGmGe5xSDmNAERi2wRzsYkClsrqZu7xiQAcFgd1Ep2JAqfkkI1l9YkB7I8Cl5mNiQCLRswSaN2JApb9uEIsbYkC8xhbP2/NhQBJcZXRC0WFAvCCWbH6tYUAr+JwwYYxhQO9sB36Nb2FA/8SLfBpRYUBMTAfsJTVhQOfimuTRHWFAtrz/KmH/YEBbZi1vZuNgQLxIquICyGBAfQY6Bcy5YECJODgtgYhgQI4APuSQdmBANHHg/HxcYEDfOz7n0k5gQLScBQ+wOGBABgJDwBQxYEApXq8XEx1gQFwVsaHLD2BAHkU0Kz77X0DwUZtybwFgQC8/FN3N9l9AtJ2FZIPXX0B/ZCW9EKxfQLjOeZOnel9ALJT7CEaKX0DjVEnnhZZfQKJu26yxol9ARaJNTcl3X0Dapn6K7oJfQL9O4PYycl9ABG8GK9uaX0DN7ALRDchfQGZkn0Z1tl9AlhlWTW9+X0Dy3bvss1pfQM4TG+uPUl9ALmUE6wcyX0BPBt94fktfQFDDuf5lEl9A9HVzZbb8XkB5OzoVwuReQJG3A18Ywl5ALtt0PiuRXkAqvMQxlKleQBjqJMcAk15AxygtWwnCXkABmO9AmfFeQBVQw2MbSV9A0zlYHL2OX0Cv6SrzANJfQOxpBEoCEmBAQ7f6YjsjYEC53guTC0hgQOhjRaXEVGBAi5s/BUZoYEChAf/+f2dgQKTsGWyFcWBAZ2unm/xaYEC1Uz9PmE5gQORneXGHRGBAZrye54o8YEDE3+n3nhtgQOcu+Q794F9A5SIzcgWYX0CnuIQ6lrhfQDZoeWD6ul9AZai4+qWwX0ChIfsCaf5fQMne3zH0JWBA7n6m3jxKYEA5foqHzVxgQOdtuFdNd2BAWHZNGE+dYEAkr8s3C6RgQD9IJCMPzmBAl/nR3d/+YECuKxcrgCVhQPpojzO3P2FA6YwrjatYYUDNEZrmWGVhQDzYR5KNeWFAhAE+PIxyYUA/GqTmimthQD9zHdYQj2FAaeFQdW9/YUAyJH7pEVlhQOujReINV2FA4w43s4NBYUBhbqMlsUBhQJLqXk+mXGFAbdSlqBtUYUC4keY60VphQEO3HhvRWWFADg641P1XYUAFKLoWyiphQOVuF6ZeFmFAi6GqpIQKYUDOo+eb1hVhQBlI5ryKGWFAkH2DJC8tYUALpPh/GS9hQLrHMSvhPGFAa4HIUk4vYUBjC/in9/1gQPviCcbSymBAY673f4GSYEAcv0D9AHBgQBrQQsCiaGBAK3yBID9HYEAeFbjn5z5gQJnOPC6TFGBA/2Tbr7YLYEA8XFcq7hRgQNSB8i9ZJWBA3+hDWAFCYEAH+9hDZBtgQEjDbhesU2BAqhSjXYFgYEB4INpD9ApgQHl2YWFlo19AebbkMgsVXkDrMd9bPoJcQMa+W6BmAFtAowkSEThbW0Bey0nWiBBZQEH4y+1b8ldAeKp4n3rfVkCU/P0KanNVQNx+0GIqQ1NAkiFAsRF7UUDFtaiCpw5QQETZWAhWWE1AFLpTiQx5S0DCaITjy9VJQEb6OdshLEhA8sh/GtsESEA=\"},\"shape\":[160],\"dtype\":\"float64\",\"order\":\"little\"}]]}}},\"view\":{\"type\":\"object\",\"name\":\"CDSView\",\"id\":\"p1411\",\"attributes\":{\"filter\":{\"type\":\"object\",\"name\":\"AllIndices\",\"id\":\"p1412\"}}},\"glyph\":{\"type\":\"object\",\"name\":\"Line\",\"id\":\"p1407\",\"attributes\":{\"x\":{\"type\":\"field\",\"field\":\"x\"},\"y\":{\"type\":\"field\",\"field\":\"y\"},\"line_color\":\"red\",\"line_width\":2}},\"nonselection_glyph\":{\"type\":\"object\",\"name\":\"Line\",\"id\":\"p1408\",\"attributes\":{\"x\":{\"type\":\"field\",\"field\":\"x\"},\"y\":{\"type\":\"field\",\"field\":\"y\"},\"line_color\":\"red\",\"line_alpha\":0.1,\"line_width\":2}},\"muted_glyph\":{\"type\":\"object\",\"name\":\"Line\",\"id\":\"p1409\",\"attributes\":{\"x\":{\"type\":\"field\",\"field\":\"x\"},\"y\":{\"type\":\"field\",\"field\":\"y\"},\"line_color\":\"red\",\"line_alpha\":0.2,\"line_width\":2}}}},{\"type\":\"object\",\"name\":\"GlyphRenderer\",\"id\":\"p1420\",\"attributes\":{\"data_source\":{\"type\":\"object\",\"name\":\"ColumnDataSource\",\"id\":\"p1414\",\"attributes\":{\"selected\":{\"type\":\"object\",\"name\":\"Selection\",\"id\":\"p1415\",\"attributes\":{\"indices\":[],\"line_indices\":[]}},\"selection_policy\":{\"type\":\"object\",\"name\":\"UnionRenderers\",\"id\":\"p1416\"},\"data\":{\"type\":\"map\",\"entries\":[[\"x0\",[21.200000047683716]],[\"y0\",[0.0]],[\"x1\",[21.200000047683716]],[\"y1\",[327.07574999999997]]]}}},\"view\":{\"type\":\"object\",\"name\":\"CDSView\",\"id\":\"p1421\",\"attributes\":{\"filter\":{\"type\":\"object\",\"name\":\"AllIndices\",\"id\":\"p1422\"}}},\"glyph\":{\"type\":\"object\",\"name\":\"Segment\",\"id\":\"p1417\",\"attributes\":{\"x0\":{\"type\":\"field\",\"field\":\"x0\"},\"y0\":{\"type\":\"field\",\"field\":\"y0\"},\"x1\":{\"type\":\"field\",\"field\":\"x1\"},\"y1\":{\"type\":\"field\",\"field\":\"y1\"},\"line_color\":{\"type\":\"value\",\"value\":\"lightblue\"},\"line_width\":{\"type\":\"value\",\"value\":3}}},\"nonselection_glyph\":{\"type\":\"object\",\"name\":\"Segment\",\"id\":\"p1418\",\"attributes\":{\"x0\":{\"type\":\"field\",\"field\":\"x0\"},\"y0\":{\"type\":\"field\",\"field\":\"y0\"},\"x1\":{\"type\":\"field\",\"field\":\"x1\"},\"y1\":{\"type\":\"field\",\"field\":\"y1\"},\"line_color\":{\"type\":\"value\",\"value\":\"lightblue\"},\"line_alpha\":{\"type\":\"value\",\"value\":0.1},\"line_width\":{\"type\":\"value\",\"value\":3}}},\"muted_glyph\":{\"type\":\"object\",\"name\":\"Segment\",\"id\":\"p1419\",\"attributes\":{\"x0\":{\"type\":\"field\",\"field\":\"x0\"},\"y0\":{\"type\":\"field\",\"field\":\"y0\"},\"x1\":{\"type\":\"field\",\"field\":\"x1\"},\"y1\":{\"type\":\"field\",\"field\":\"y1\"},\"line_color\":{\"type\":\"value\",\"value\":\"lightblue\"},\"line_alpha\":{\"type\":\"value\",\"value\":0.2},\"line_width\":{\"type\":\"value\",\"value\":3}}}}},{\"type\":\"object\",\"name\":\"GlyphRenderer\",\"id\":\"p1429\",\"attributes\":{\"data_source\":{\"type\":\"object\",\"name\":\"ColumnDataSource\",\"id\":\"p1423\",\"attributes\":{\"selected\":{\"type\":\"object\",\"name\":\"Selection\",\"id\":\"p1424\",\"attributes\":{\"indices\":[],\"line_indices\":[]}},\"selection_policy\":{\"type\":\"object\",\"name\":\"UnionRenderers\",\"id\":\"p1425\"},\"data\":{\"type\":\"map\",\"entries\":[[\"x0\",[22.700000047683716]],[\"y0\",[0.0]],[\"x1\",[22.700000047683716]],[\"y1\",[327.07574999999997]]]}}},\"view\":{\"type\":\"object\",\"name\":\"CDSView\",\"id\":\"p1430\",\"attributes\":{\"filter\":{\"type\":\"object\",\"name\":\"AllIndices\",\"id\":\"p1431\"}}},\"glyph\":{\"type\":\"object\",\"name\":\"Segment\",\"id\":\"p1426\",\"attributes\":{\"x0\":{\"type\":\"field\",\"field\":\"x0\"},\"y0\":{\"type\":\"field\",\"field\":\"y0\"},\"x1\":{\"type\":\"field\",\"field\":\"x1\"},\"y1\":{\"type\":\"field\",\"field\":\"y1\"},\"line_color\":{\"type\":\"value\",\"value\":\"darkseagreen\"}}},\"nonselection_glyph\":{\"type\":\"object\",\"name\":\"Segment\",\"id\":\"p1427\",\"attributes\":{\"x0\":{\"type\":\"field\",\"field\":\"x0\"},\"y0\":{\"type\":\"field\",\"field\":\"y0\"},\"x1\":{\"type\":\"field\",\"field\":\"x1\"},\"y1\":{\"type\":\"field\",\"field\":\"y1\"},\"line_color\":{\"type\":\"value\",\"value\":\"darkseagreen\"},\"line_alpha\":{\"type\":\"value\",\"value\":0.1}}},\"muted_glyph\":{\"type\":\"object\",\"name\":\"Segment\",\"id\":\"p1428\",\"attributes\":{\"x0\":{\"type\":\"field\",\"field\":\"x0\"},\"y0\":{\"type\":\"field\",\"field\":\"y0\"},\"x1\":{\"type\":\"field\",\"field\":\"x1\"},\"y1\":{\"type\":\"field\",\"field\":\"y1\"},\"line_color\":{\"type\":\"value\",\"value\":\"darkseagreen\"},\"line_alpha\":{\"type\":\"value\",\"value\":0.2}}}}},{\"type\":\"object\",\"name\":\"GlyphRenderer\",\"id\":\"p1438\",\"attributes\":{\"data_source\":{\"type\":\"object\",\"name\":\"ColumnDataSource\",\"id\":\"p1432\",\"attributes\":{\"selected\":{\"type\":\"object\",\"name\":\"Selection\",\"id\":\"p1433\",\"attributes\":{\"indices\":[],\"line_indices\":[]}},\"selection_policy\":{\"type\":\"object\",\"name\":\"UnionRenderers\",\"id\":\"p1434\"},\"data\":{\"type\":\"map\",\"entries\":[[\"x0\",[19.700000047683716]],[\"y0\",[0.0]],[\"x1\",[19.700000047683716]],[\"y1\",[327.07574999999997]]]}}},\"view\":{\"type\":\"object\",\"name\":\"CDSView\",\"id\":\"p1439\",\"attributes\":{\"filter\":{\"type\":\"object\",\"name\":\"AllIndices\",\"id\":\"p1440\"}}},\"glyph\":{\"type\":\"object\",\"name\":\"Segment\",\"id\":\"p1435\",\"attributes\":{\"x0\":{\"type\":\"field\",\"field\":\"x0\"},\"y0\":{\"type\":\"field\",\"field\":\"y0\"},\"x1\":{\"type\":\"field\",\"field\":\"x1\"},\"y1\":{\"type\":\"field\",\"field\":\"y1\"},\"line_color\":{\"type\":\"value\",\"value\":\"darkseagreen\"}}},\"nonselection_glyph\":{\"type\":\"object\",\"name\":\"Segment\",\"id\":\"p1436\",\"attributes\":{\"x0\":{\"type\":\"field\",\"field\":\"x0\"},\"y0\":{\"type\":\"field\",\"field\":\"y0\"},\"x1\":{\"type\":\"field\",\"field\":\"x1\"},\"y1\":{\"type\":\"field\",\"field\":\"y1\"},\"line_color\":{\"type\":\"value\",\"value\":\"darkseagreen\"},\"line_alpha\":{\"type\":\"value\",\"value\":0.1}}},\"muted_glyph\":{\"type\":\"object\",\"name\":\"Segment\",\"id\":\"p1437\",\"attributes\":{\"x0\":{\"type\":\"field\",\"field\":\"x0\"},\"y0\":{\"type\":\"field\",\"field\":\"y0\"},\"x1\":{\"type\":\"field\",\"field\":\"x1\"},\"y1\":{\"type\":\"field\",\"field\":\"y1\"},\"line_color\":{\"type\":\"value\",\"value\":\"darkseagreen\"},\"line_alpha\":{\"type\":\"value\",\"value\":0.2}}}}},{\"type\":\"object\",\"name\":\"GlyphRenderer\",\"id\":\"p1447\",\"attributes\":{\"data_source\":{\"type\":\"object\",\"name\":\"ColumnDataSource\",\"id\":\"p1441\",\"attributes\":{\"selected\":{\"type\":\"object\",\"name\":\"Selection\",\"id\":\"p1442\",\"attributes\":{\"indices\":[],\"line_indices\":[]}},\"selection_policy\":{\"type\":\"object\",\"name\":\"UnionRenderers\",\"id\":\"p1443\"},\"data\":{\"type\":\"map\",\"entries\":[[\"x\",[21.200000047683716]],[\"y\",[327.07574999999997]],[\"size\",[20]]]}}},\"view\":{\"type\":\"object\",\"name\":\"CDSView\",\"id\":\"p1448\",\"attributes\":{\"filter\":{\"type\":\"object\",\"name\":\"AllIndices\",\"id\":\"p1449\"}}},\"glyph\":{\"type\":\"object\",\"name\":\"Scatter\",\"id\":\"p1444\",\"attributes\":{\"x\":{\"type\":\"field\",\"field\":\"x\"},\"y\":{\"type\":\"field\",\"field\":\"y\"},\"size\":{\"type\":\"field\",\"field\":\"size\"},\"line_color\":{\"type\":\"value\",\"value\":\"lightblue\"},\"line_width\":{\"type\":\"value\",\"value\":3},\"fill_color\":{\"type\":\"value\",\"value\":null},\"marker\":{\"type\":\"value\",\"value\":\"square_cross\"}}},\"nonselection_glyph\":{\"type\":\"object\",\"name\":\"Scatter\",\"id\":\"p1445\",\"attributes\":{\"x\":{\"type\":\"field\",\"field\":\"x\"},\"y\":{\"type\":\"field\",\"field\":\"y\"},\"size\":{\"type\":\"field\",\"field\":\"size\"},\"line_color\":{\"type\":\"value\",\"value\":\"lightblue\"},\"line_alpha\":{\"type\":\"value\",\"value\":0.1},\"line_width\":{\"type\":\"value\",\"value\":3},\"fill_color\":{\"type\":\"value\",\"value\":null},\"fill_alpha\":{\"type\":\"value\",\"value\":0.1},\"hatch_alpha\":{\"type\":\"value\",\"value\":0.1},\"marker\":{\"type\":\"value\",\"value\":\"square_cross\"}}},\"muted_glyph\":{\"type\":\"object\",\"name\":\"Scatter\",\"id\":\"p1446\",\"attributes\":{\"x\":{\"type\":\"field\",\"field\":\"x\"},\"y\":{\"type\":\"field\",\"field\":\"y\"},\"size\":{\"type\":\"field\",\"field\":\"size\"},\"line_color\":{\"type\":\"value\",\"value\":\"lightblue\"},\"line_alpha\":{\"type\":\"value\",\"value\":0.2},\"line_width\":{\"type\":\"value\",\"value\":3},\"fill_color\":{\"type\":\"value\",\"value\":null},\"fill_alpha\":{\"type\":\"value\",\"value\":0.2},\"hatch_alpha\":{\"type\":\"value\",\"value\":0.2},\"marker\":{\"type\":\"value\",\"value\":\"square_cross\"}}}}}],\"toolbar\":{\"type\":\"object\",\"name\":\"Toolbar\",\"id\":\"p1334\",\"attributes\":{\"tools\":[{\"type\":\"object\",\"name\":\"PanTool\",\"id\":\"p1349\"},{\"type\":\"object\",\"name\":\"WheelZoomTool\",\"id\":\"p1350\",\"attributes\":{\"renderers\":\"auto\"}},{\"type\":\"object\",\"name\":\"BoxZoomTool\",\"id\":\"p1351\",\"attributes\":{\"overlay\":{\"type\":\"object\",\"name\":\"BoxAnnotation\",\"id\":\"p1352\",\"attributes\":{\"syncable\":false,\"line_color\":\"black\",\"line_alpha\":1.0,\"line_width\":2,\"line_dash\":[4,4],\"fill_color\":\"lightgrey\",\"fill_alpha\":0.5,\"level\":\"overlay\",\"visible\":false,\"left\":{\"type\":\"number\",\"value\":\"nan\"},\"right\":{\"type\":\"number\",\"value\":\"nan\"},\"top\":{\"type\":\"number\",\"value\":\"nan\"},\"bottom\":{\"type\":\"number\",\"value\":\"nan\"},\"left_units\":\"canvas\",\"right_units\":\"canvas\",\"top_units\":\"canvas\",\"bottom_units\":\"canvas\",\"handles\":{\"type\":\"object\",\"name\":\"BoxInteractionHandles\",\"id\":\"p1358\",\"attributes\":{\"all\":{\"type\":\"object\",\"name\":\"AreaVisuals\",\"id\":\"p1357\",\"attributes\":{\"fill_color\":\"white\",\"hover_fill_color\":\"lightgray\"}}}}}}}},{\"type\":\"object\",\"name\":\"SaveTool\",\"id\":\"p1359\"},{\"type\":\"object\",\"name\":\"ResetTool\",\"id\":\"p1360\"},{\"type\":\"object\",\"name\":\"HelpTool\",\"id\":\"p1361\"},{\"type\":\"object\",\"name\":\"HoverTool\",\"id\":\"p1393\",\"attributes\":{\"renderers\":\"auto\",\"tooltips\":[[\"Y-val\",\"@y{0.00}\"]]}}]}},\"left\":[{\"type\":\"object\",\"name\":\"LinearAxis\",\"id\":\"p1344\",\"attributes\":{\"ticker\":{\"type\":\"object\",\"name\":\"BasicTicker\",\"id\":\"p1345\",\"attributes\":{\"mantissas\":[1,2,5]}},\"formatter\":{\"type\":\"object\",\"name\":\"BasicTickFormatter\",\"id\":\"p1346\"},\"axis_label\":\"km/h\",\"axis_label_standoff\":10,\"axis_label_text_color\":\"#E0E0E0\",\"axis_label_text_font\":\"Helvetica\",\"axis_label_text_font_size\":\"1.25em\",\"axis_label_text_font_style\":\"normal\",\"major_label_policy\":{\"type\":\"object\",\"name\":\"AllLabels\",\"id\":\"p1347\"},\"major_label_text_color\":\"#E0E0E0\",\"major_label_text_font\":\"Helvetica\",\"major_label_text_font_size\":\"1.025em\",\"axis_line_color\":\"#E0E0E0\",\"axis_line_alpha\":0,\"major_tick_line_color\":\"#E0E0E0\",\"major_tick_line_alpha\":0,\"minor_tick_line_color\":\"#E0E0E0\",\"minor_tick_line_alpha\":0}},{\"type\":\"object\",\"name\":\"LinearAxis\",\"id\":\"p1364\",\"attributes\":{\"y_range_name\":\"altitudeFt\",\"ticker\":{\"type\":\"object\",\"name\":\"BasicTicker\",\"id\":\"p1365\",\"attributes\":{\"mantissas\":[1,2,5]}},\"formatter\":{\"type\":\"object\",\"name\":\"BasicTickFormatter\",\"id\":\"p1366\"},\"axis_label\":\"Alt (ft)\",\"axis_label_standoff\":10,\"axis_label_text_color\":\"#E0E0E0\",\"axis_label_text_font\":\"Helvetica\",\"axis_label_text_font_size\":\"1.25em\",\"axis_label_text_font_style\":\"normal\",\"major_label_policy\":{\"type\":\"object\",\"name\":\"AllLabels\",\"id\":\"p1367\"},\"major_label_text_color\":\"#E0E0E0\",\"major_label_text_font\":\"Helvetica\",\"major_label_text_font_size\":\"1.025em\",\"axis_line_color\":\"#E0E0E0\",\"axis_line_alpha\":0,\"major_tick_line_color\":\"#E0E0E0\",\"major_tick_line_alpha\":0,\"minor_tick_line_color\":\"#E0E0E0\",\"minor_tick_line_alpha\":0}},{\"type\":\"object\",\"name\":\"LinearAxis\",\"id\":\"p1368\",\"attributes\":{\"y_range_name\":\"angle\",\"ticker\":{\"type\":\"object\",\"name\":\"BasicTicker\",\"id\":\"p1369\",\"attributes\":{\"mantissas\":[1,2,5]}},\"formatter\":{\"type\":\"object\",\"name\":\"BasicTickFormatter\",\"id\":\"p1370\"},\"axis_label\":\"angle\",\"axis_label_standoff\":10,\"axis_label_text_color\":\"#E0E0E0\",\"axis_label_text_font\":\"Helvetica\",\"axis_label_text_font_size\":\"1.25em\",\"axis_label_text_font_style\":\"normal\",\"major_label_policy\":{\"type\":\"object\",\"name\":\"AllLabels\",\"id\":\"p1371\"},\"major_label_text_color\":\"#E0E0E0\",\"major_label_text_font\":\"Helvetica\",\"major_label_text_font_size\":\"1.025em\",\"axis_line_color\":\"#E0E0E0\",\"axis_line_alpha\":0,\"major_tick_line_color\":\"#E0E0E0\",\"major_tick_line_alpha\":0,\"minor_tick_line_color\":\"#E0E0E0\",\"minor_tick_line_alpha\":0}}],\"below\":[{\"type\":\"object\",\"name\":\"LinearAxis\",\"id\":\"p1339\",\"attributes\":{\"ticker\":{\"type\":\"object\",\"name\":\"BasicTicker\",\"id\":\"p1340\",\"attributes\":{\"mantissas\":[1,2,5]}},\"formatter\":{\"type\":\"object\",\"name\":\"BasicTickFormatter\",\"id\":\"p1341\"},\"axis_label\":\"seconds from exit\",\"axis_label_standoff\":10,\"axis_label_text_color\":\"#E0E0E0\",\"axis_label_text_font\":\"Helvetica\",\"axis_label_text_font_size\":\"1.25em\",\"axis_label_text_font_style\":\"normal\",\"major_label_policy\":{\"type\":\"object\",\"name\":\"AllLabels\",\"id\":\"p1342\"},\"major_label_text_color\":\"#E0E0E0\",\"major_label_text_font\":\"Helvetica\",\"major_label_text_font_size\":\"1.025em\",\"axis_line_color\":\"#E0E0E0\",\"axis_line_alpha\":0,\"major_tick_line_color\":\"#E0E0E0\",\"major_tick_line_alpha\":0,\"minor_tick_line_color\":\"#E0E0E0\",\"minor_tick_line_alpha\":0}}],\"center\":[{\"type\":\"object\",\"name\":\"Grid\",\"id\":\"p1343\",\"attributes\":{\"axis\":{\"id\":\"p1339\"},\"grid_line_color\":\"#E0E0E0\",\"grid_line_alpha\":0.25}},{\"type\":\"object\",\"name\":\"Grid\",\"id\":\"p1348\",\"attributes\":{\"dimension\":1,\"axis\":{\"id\":\"p1344\"},\"grid_line_color\":\"#E0E0E0\",\"grid_line_alpha\":0.25}},{\"type\":\"object\",\"name\":\"Legend\",\"id\":\"p1381\",\"attributes\":{\"border_line_alpha\":0,\"background_fill_color\":\"#20262B\",\"background_fill_alpha\":0.25,\"label_text_color\":\"#E0E0E0\",\"label_text_font\":\"Helvetica\",\"label_text_font_size\":\"1.025em\",\"label_standoff\":8,\"glyph_width\":15,\"spacing\":8,\"items\":[{\"type\":\"object\",\"name\":\"LegendItem\",\"id\":\"p1382\",\"attributes\":{\"label\":{\"type\":\"value\",\"value\":\"Alt (ft)\"},\"renderers\":[{\"id\":\"p1378\"}]}},{\"type\":\"object\",\"name\":\"LegendItem\",\"id\":\"p1392\",\"attributes\":{\"label\":{\"type\":\"value\",\"value\":\"angle\"},\"renderers\":[{\"id\":\"p1389\"}]}},{\"type\":\"object\",\"name\":\"LegendItem\",\"id\":\"p1403\",\"attributes\":{\"label\":{\"type\":\"value\",\"value\":\"speed\"},\"renderers\":[{\"id\":\"p1400\"}]}},{\"type\":\"object\",\"name\":\"LegendItem\",\"id\":\"p1413\",\"attributes\":{\"label\":{\"type\":\"value\",\"value\":\"H-speed\"},\"renderers\":[{\"id\":\"p1410\"}]}}]}}],\"background_fill_color\":\"#20262B\",\"border_fill_color\":\"#15191C\"}}]}};\n",
       "  const render_items = [{\"docid\":\"6a0db1a4-d5c3-41bf-9824-7665b552fe23\",\"roots\":{\"p1325\":\"d0a6761f-8279-4d82-88d6-ad0a1b1656f9\"},\"root_ids\":[\"p1325\"]}];\n",
       "  void root.Bokeh.embed.embed_items_notebook(docs_json, render_items);\n",
       "  }\n",
       "  if (root.Bokeh !== undefined) {\n",
       "    embed_document(root);\n",
       "  } else {\n",
       "    let attempts = 0;\n",
       "    const timer = setInterval(function(root) {\n",
       "      if (root.Bokeh !== undefined) {\n",
       "        clearInterval(timer);\n",
       "        embed_document(root);\n",
       "      } else {\n",
       "        attempts++;\n",
       "        if (attempts > 100) {\n",
       "          clearInterval(timer);\n",
       "          console.log(\"Bokeh: ERROR: Unable to run BokehJS code because BokehJS library is missing\");\n",
       "        }\n",
       "      }\n",
       "    }, 10, root)\n",
       "  }\n",
       "})(window);"
      ],
      "application/vnd.bokehjs_exec.v0+json": ""
     },
     "metadata": {
      "application/vnd.bokehjs_exec.v0+json": {
       "id": "p1325"
      }
     },
     "output_type": "display_data"
    },
    {
     "data": {
      "application/vnd.jupyter.widget-view+json": {
       "model_id": "586bebde7fe24e388c90db48dba06535",
       "version_major": 2,
       "version_minor": 0
      },
      "text/plain": [
       "HTML(value='<hr><h1><span style=\"color: #0f0\">Miller-2024-championship-official R4_17-24-24:v1 jump - 🟢 valid …"
      ]
     },
     "metadata": {},
     "output_type": "display_data"
    },
    {
     "data": {
      "application/vnd.jupyter.widget-view+json": {
       "model_id": "002932e48c114b8997d038be33210c7e",
       "version_major": 2,
       "version_minor": 0
      },
      "text/plain": [
       "HTML(value='<h3>Max speed = 332; exit at 4156 m (13636 ft), end scoring window at 1900 m (6234 ft)')"
      ]
     },
     "metadata": {},
     "output_type": "display_data"
    },
    {
     "data": {
      "application/vnd.jupyter.widget-view+json": {
       "model_id": "279abfe4764c412bbd8d3bac7c6ae6eb",
       "version_major": 2,
       "version_minor": 0
      },
      "text/plain": [
       "HTML(value='</h3>')"
      ]
     },
     "metadata": {},
     "output_type": "display_data"
    },
    {
     "data": {
      "text/html": [
       "<div>\n",
       "<style scoped>\n",
       "    .dataframe tbody tr th:only-of-type {\n",
       "        vertical-align: middle;\n",
       "    }\n",
       "\n",
       "    .dataframe tbody tr th {\n",
       "        vertical-align: top;\n",
       "    }\n",
       "\n",
       "    .dataframe thead th {\n",
       "        text-align: right;\n",
       "    }\n",
       "</style>\n",
       "<table border=\"1\" class=\"dataframe\">\n",
       "  <thead>\n",
       "    <tr style=\"text-align: right;\">\n",
       "      <th></th>\n",
       "      <th>time</th>\n",
       "      <th>vKMh</th>\n",
       "      <th>hKMh</th>\n",
       "      <th>speedAngle</th>\n",
       "      <th>distanceFromExit</th>\n",
       "      <th>altitude (ft)</th>\n",
       "      <th>netVectorKMh</th>\n",
       "    </tr>\n",
       "  </thead>\n",
       "  <tbody>\n",
       "    <tr>\n",
       "      <th></th>\n",
       "      <td>5.0</td>\n",
       "      <td>154</td>\n",
       "      <td>152</td>\n",
       "      <td>45.3</td>\n",
       "      <td>231.0</td>\n",
       "      <td>13226</td>\n",
       "      <td>216</td>\n",
       "    </tr>\n",
       "    <tr>\n",
       "      <th></th>\n",
       "      <td>10.0</td>\n",
       "      <td>253</td>\n",
       "      <td>133</td>\n",
       "      <td>62.3</td>\n",
       "      <td>427.6</td>\n",
       "      <td>12282</td>\n",
       "      <td>286</td>\n",
       "    </tr>\n",
       "    <tr>\n",
       "      <th></th>\n",
       "      <td>15.0</td>\n",
       "      <td>308</td>\n",
       "      <td>111</td>\n",
       "      <td>70.1</td>\n",
       "      <td>596.8</td>\n",
       "      <td>10985</td>\n",
       "      <td>327</td>\n",
       "    </tr>\n",
       "    <tr>\n",
       "      <th></th>\n",
       "      <td>20.0</td>\n",
       "      <td>326</td>\n",
       "      <td>89</td>\n",
       "      <td>74.7</td>\n",
       "      <td>739.6</td>\n",
       "      <td>9517</td>\n",
       "      <td>338</td>\n",
       "    </tr>\n",
       "    <tr>\n",
       "      <th></th>\n",
       "      <td>25.0</td>\n",
       "      <td>329</td>\n",
       "      <td>61</td>\n",
       "      <td>79.5</td>\n",
       "      <td>839.9</td>\n",
       "      <td>8024</td>\n",
       "      <td>335</td>\n",
       "    </tr>\n",
       "  </tbody>\n",
       "</table>\n",
       "</div>"
      ],
      "text/plain": [
       "  time  vKMh  hKMh  speedAngle  distanceFromExit  altitude (ft)  netVectorKMh\n",
       "   5.0   154   152        45.3             231.0          13226           216\n",
       "  10.0   253   133        62.3             427.6          12282           286\n",
       "  15.0   308   111        70.1             596.8          10985           327\n",
       "  20.0   326    89        74.7             739.6           9517           338\n",
       "  25.0   329    61        79.5             839.9           8024           335"
      ]
     },
     "metadata": {},
     "output_type": "display_data"
    },
    {
     "data": {
      "text/html": [
       "\n",
       "  <div id=\"ac6edf1a-5584-4059-a0a7-c06518896a4c\" data-root-id=\"p1468\" style=\"display: contents;\"></div>\n"
      ]
     },
     "metadata": {},
     "output_type": "display_data"
    },
    {
     "data": {
      "application/javascript": [
       "(function(root) {\n",
       "  function embed_document(root) {\n",
       "  const docs_json = {\"26f017a5-0bd8-4704-9fee-edc52ff35546\":{\"version\":\"3.5.2\",\"title\":\"Bokeh Application\",\"roots\":[{\"type\":\"object\",\"name\":\"Figure\",\"id\":\"p1468\",\"attributes\":{\"width\":900,\"height\":500,\"x_range\":{\"type\":\"object\",\"name\":\"Range1d\",\"id\":\"p1478\",\"attributes\":{\"end\":35.0}},\"y_range\":{\"type\":\"object\",\"name\":\"Range1d\",\"id\":\"p1479\",\"attributes\":{\"end\":550.0}},\"x_scale\":{\"type\":\"object\",\"name\":\"LinearScale\",\"id\":\"p1480\"},\"y_scale\":{\"type\":\"object\",\"name\":\"LinearScale\",\"id\":\"p1481\"},\"extra_y_ranges\":{\"type\":\"map\",\"entries\":[[\"altitudeFt\",{\"type\":\"object\",\"name\":\"Range1d\",\"id\":\"p1505\",\"attributes\":{\"start\":5767.2955632,\"end\":14136.005171200002}}],[\"angle\",{\"type\":\"object\",\"name\":\"Range1d\",\"id\":\"p1506\",\"attributes\":{\"end\":90.0}}]]},\"title\":{\"type\":\"object\",\"name\":\"Title\",\"id\":\"p1471\",\"attributes\":{\"text\":\"Miller-2024-championship-official R4_17-24-24:v1\",\"text_color\":\"#E0E0E0\",\"text_font\":\"Helvetica\",\"text_font_size\":\"1.15em\"}},\"outline_line_color\":\"#E0E0E0\",\"outline_line_alpha\":0.25,\"renderers\":[{\"type\":\"object\",\"name\":\"GlyphRenderer\",\"id\":\"p1521\",\"attributes\":{\"y_range_name\":\"altitudeFt\",\"data_source\":{\"type\":\"object\",\"name\":\"ColumnDataSource\",\"id\":\"p1515\",\"attributes\":{\"selected\":{\"type\":\"object\",\"name\":\"Selection\",\"id\":\"p1516\",\"attributes\":{\"indices\":[],\"line_indices\":[]}},\"selection_policy\":{\"type\":\"object\",\"name\":\"UnionRenderers\",\"id\":\"p1517\"},\"data\":{\"type\":\"map\",\"entries\":[[\"x\",{\"type\":\"ndarray\",\"array\":{\"type\":\"bytes\",\"data\":\"AAAAAAAAAAAAAAAAmJnJPwAAAACZmdk/AAAAADMz4z8AAACAmZnpPwAAAAAAAPA/AAAAADMz8z8AAABAZmb2PwAAAICZmfk/AAAAwMzM/D8AAAAAAAAAQAAAAICZmQFAAAAAIDMzA0AAAADAzMwEQAAAAGBmZgZAAAAAAAAACEAAAACAmZkJQAAAACAzMwtAAAAAwMzMDEAAAABgZmYOQAAAAAAAABBAAAAAwMzMEEAAAACQmZkRQAAAAGBmZhJAAAAAMDMzE0AAAAAAAAAUQAAAAMDMzBRAAAAAkJmZFUAAAABgZmYWQAAAADAzMxdAAAAAAAAAGEAAAADAzMwYQAAAAJCZmRlAAAAAYGZmGkAAAAAwMzMbQAAAAAAAABxAAAAAwMzMHEAAAACQmZkdQAAAAGBmZh5AAAAAMDMzH0AAAAAAAAAgQAAAAGBmZiBAAAAAyMzMIEAAAAAwMzMhQAAAAJiZmSFAAAAAAAAAIkAAAABgZmYiQAAAAMjMzCJAAAAAMDMzI0AAAACYmZkjQAAAAAAAACRAAAAAYGZmJEAAAADIzMwkQAAAADAzMyVAAAAAmJmZJUAAAAAAAAAmQAAAAGBmZiZAAAAAyMzMJkAAAAAwMzMnQAAAAJiZmSdAAAAAAAAAKEAAAABgZmYoQAAAAMjMzChAAAAAMDMzKUAAAACYmZkpQAAAAAAAACpAAAAAYGZmKkAAAADIzMwqQAAAADAzMytAAAAAmJmZK0AAAAAAAAAsQAAAAGBmZixAAAAAyMzMLEAAAAAwMzMtQAAAAJiZmS1AAAAAAAAALkAAAABgZmYuQAAAAMjMzC5AAAAAMDMzL0AAAACYmZkvQAAAAAAAADBAAAAAMDMzMEAAAABkZmYwQAAAAJiZmTBAAAAAzMzMMEAAAAAAAAAxQAAAADAzMzFAAAAAZGZmMUAAAACYmZkxQAAAAMzMzDFAAAAAAAAAMkAAAAAwMzMyQAAAAGRmZjJAAAAAmJmZMkAAAADMzMwyQAAAAAAAADNAAAAAMDMzM0AAAABkZmYzQAAAAJiZmTNAAAAAzMzMM0AAAAAAAAA0QAAAADAzMzRAAAAAZGZmNEAAAACYmZk0QAAAAMzMzDRAAAAAAAAANUAAAAAwMzM1QAAAAGRmZjVAAAAAmJmZNUAAAADMzMw1QAAAAAAAADZAAAAAMDMzNkAAAABkZmY2QAAAAJiZmTZAAAAAzMzMNkAAAAAAAAA3QAAAADAzMzdAAAAAZGZmN0AAAACYmZk3QAAAAMzMzDdAAAAAAAAAOEAAAAAwMzM4QAAAAGRmZjhAAAAAmJmZOEAAAADMzMw4QAAAAAAAADlAAAAAMDMzOUAAAABkZmY5QAAAAJiZmTlAAAAAzMzMOUAAAAAAAAA6QAAAADAzMzpAAAAAZGZmOkAAAACYmZk6QAAAAMzMzDpAAAAAAAAAO0AAAAAwMzM7QAAAAGRmZjtAAAAAmJmZO0AAAADMzMw7QAAAAAAAADxAAAAAMDMzPEAAAABkZmY8QAAAAJiZmTxAAAAAzMzMPEAAAAAAAAA9QAAAADAzMz1AAAAAZGZmPUAAAACYmZk9QAAAAMzMzD1AAAAAAAAAPkAAAAAwMzM+QAAAAGRmZj5AAAAAmJmZPkAAAADMzMw+QAAAAAAAAD9A\"},\"shape\":[156],\"dtype\":\"float64\",\"order\":\"little\"}],[\"y\",{\"type\":\"ndarray\",\"array\":{\"type\":\"bytes\",\"data\":\"citzqQCiykC6UzpYN6DKQHUSANJ9ncpAWGtyQqqaykDiGLjyAJfKQB0/+WC2kspAy5e8psyNykBXYp6VTIjKQKHrDJ1YgspA8j4zLf57ykDLTj+oI3XKQEWsWcKtbcpALDUxE9NlykCkHTf8jl3KQFrSm5vwVMpAUDi7tcRLykBsAICt3EHKQGK0fX62N8pAq2aMxfUsykBZIDDFmyHKQB/PeGzVFcpADZ5T2pwJykDsxyb5Ef3JQBAklGMX8MlACOta1sDiyUCsAe+JCtXJQP2rIjfmxslAnxCVoTW4yUACkwoZNqnJQOVrKubLmclAsx5jk/GJyUD2QCswpHnJQKmOsAPyaMlA+UTosddXyUBg8MQHUUbJQGYmvRRbNMlAXret0hIiyUDtbH6ycA/JQDidCfJo/MhAyP8uffHoyEA3kl+aLdXIQPYb3IwJwchA0j1G1I+syEDhRPRrs5fIQADbCxaAgshAKby6GQRtyEAX3dUGMlfIQNICD2cZQchAMBLacrYqyEBvcxnt/xPIQFylBXkH/cdAUQAggs3lx0Bw2kJGRs7HQInUD0V8tsdAF3t5S2uex0D3mQ74F4bHQAAWQ4N+bcdAwCfWqbJUx0A68TBIrTvHQL8FI0BfIsdAoVfyZ94Ix0C1yxL4Ju/GQEWxgRk41cZAPpl/9CW7xkCTvlr/4KDGQKB5lKVphsZA6j06GsRrxkCAFNCf8VDGQGP9VTbyNcZARqnOtMYaxkAZ7Uz8dP/FQEluqHPw48VAEVHxJD7IxUCpl849aqzFQP4WU596kMVAMwPwqmp0xUDfHAmPMVjFQJsCmZ3NO8VAKW4m8EAfxUCfC352owLFQPDzhMrs5cRAYLGGiwzJxEBuc74zFazEQJXGHpACj8RAjp98MMdxxECvEofHcVTEQCM7yhwGN8RAGFY71IAZxEAk4Gtj5/vDQGmOrPxS3sNApnc7DK/Aw0BQBqKC/qLDQDW5GANThcNA9bY+UY5nw0AVUbjDu0nDQKxVuybsK8NARB2xcfANw0D59q5B9+/CQKZqcXwT0sJASPcYUSe0wkDO0C6VXZbCQGPw1TPBeMJA6ihibBxbwkBEJPkAez3CQKBB+XHSH8JAmEHG7RkCwkB0L4vkXuTBQFsEa0GsxsFA8OYEyOOowUD1kN+RB4vBQJHZtK0pbcFAgzY5fFpPwUDMydXZkjHBQB3Drcy1E8FA3+I89+n1wEC5cYv5CdjAQJDecB8xusBA5hsby0WcwEC4ByEgT37AQKFi5kxEYMBAJ//ueE5CwECJ5qZyPyTAQJ5c+GY4BsBAwh9+/lvQv0D0k8VYMZS/QJBpEmEIWL9AfNIuS9Abv0Ao02hyod++QJZrwNZ7o75ACEjq80dnvkAMIMa1+yq+QKBSyhC87r1AFhRQ8lSyvUBEyqpj4HW9QKhgQyZ/Ob1Aqdmo8w39vED9RFSXssC8QCv7rgg+hLxA6qy7HrFHvED1rcVdIwu8QMFG7dmezrtAgt1VtN6Ru0DHAnD9VVW7QNqmwuneGLtAuMlNeXncukD2nsppr6C6QABGK1LMZbpAKLG1COYrukCEdphAa/K5QMdhegyQublAFDR3Pr2AuUCxkkVQW0q5QGrQ4WspFblAOlbOg2DguED53An276y4QOelB6pLe7hA\"},\"shape\":[156],\"dtype\":\"float64\",\"order\":\"little\"}]]}}},\"view\":{\"type\":\"object\",\"name\":\"CDSView\",\"id\":\"p1522\",\"attributes\":{\"filter\":{\"type\":\"object\",\"name\":\"AllIndices\",\"id\":\"p1523\"}}},\"glyph\":{\"type\":\"object\",\"name\":\"Line\",\"id\":\"p1518\",\"attributes\":{\"x\":{\"type\":\"field\",\"field\":\"x\"},\"y\":{\"type\":\"field\",\"field\":\"y\"},\"line_color\":\"palegoldenrod\",\"line_width\":2}},\"nonselection_glyph\":{\"type\":\"object\",\"name\":\"Line\",\"id\":\"p1519\",\"attributes\":{\"x\":{\"type\":\"field\",\"field\":\"x\"},\"y\":{\"type\":\"field\",\"field\":\"y\"},\"line_color\":\"palegoldenrod\",\"line_alpha\":0.1,\"line_width\":2}},\"muted_glyph\":{\"type\":\"object\",\"name\":\"Line\",\"id\":\"p1520\",\"attributes\":{\"x\":{\"type\":\"field\",\"field\":\"x\"},\"y\":{\"type\":\"field\",\"field\":\"y\"},\"line_color\":\"palegoldenrod\",\"line_alpha\":0.2,\"line_width\":2}}}},{\"type\":\"object\",\"name\":\"GlyphRenderer\",\"id\":\"p1532\",\"attributes\":{\"y_range_name\":\"angle\",\"data_source\":{\"type\":\"object\",\"name\":\"ColumnDataSource\",\"id\":\"p1526\",\"attributes\":{\"selected\":{\"type\":\"object\",\"name\":\"Selection\",\"id\":\"p1527\",\"attributes\":{\"indices\":[],\"line_indices\":[]}},\"selection_policy\":{\"type\":\"object\",\"name\":\"UnionRenderers\",\"id\":\"p1528\"},\"data\":{\"type\":\"map\",\"entries\":[[\"x\",{\"type\":\"ndarray\",\"array\":{\"type\":\"bytes\",\"data\":\"AAAAAAAAAAAAAAAAmJnJPwAAAACZmdk/AAAAADMz4z8AAACAmZnpPwAAAAAAAPA/AAAAADMz8z8AAABAZmb2PwAAAICZmfk/AAAAwMzM/D8AAAAAAAAAQAAAAICZmQFAAAAAIDMzA0AAAADAzMwEQAAAAGBmZgZAAAAAAAAACEAAAACAmZkJQAAAACAzMwtAAAAAwMzMDEAAAABgZmYOQAAAAAAAABBAAAAAwMzMEEAAAACQmZkRQAAAAGBmZhJAAAAAMDMzE0AAAAAAAAAUQAAAAMDMzBRAAAAAkJmZFUAAAABgZmYWQAAAADAzMxdAAAAAAAAAGEAAAADAzMwYQAAAAJCZmRlAAAAAYGZmGkAAAAAwMzMbQAAAAAAAABxAAAAAwMzMHEAAAACQmZkdQAAAAGBmZh5AAAAAMDMzH0AAAAAAAAAgQAAAAGBmZiBAAAAAyMzMIEAAAAAwMzMhQAAAAJiZmSFAAAAAAAAAIkAAAABgZmYiQAAAAMjMzCJAAAAAMDMzI0AAAACYmZkjQAAAAAAAACRAAAAAYGZmJEAAAADIzMwkQAAAADAzMyVAAAAAmJmZJUAAAAAAAAAmQAAAAGBmZiZAAAAAyMzMJkAAAAAwMzMnQAAAAJiZmSdAAAAAAAAAKEAAAABgZmYoQAAAAMjMzChAAAAAMDMzKUAAAACYmZkpQAAAAAAAACpAAAAAYGZmKkAAAADIzMwqQAAAADAzMytAAAAAmJmZK0AAAAAAAAAsQAAAAGBmZixAAAAAyMzMLEAAAAAwMzMtQAAAAJiZmS1AAAAAAAAALkAAAABgZmYuQAAAAMjMzC5AAAAAMDMzL0AAAACYmZkvQAAAAAAAADBAAAAAMDMzMEAAAABkZmYwQAAAAJiZmTBAAAAAzMzMMEAAAAAAAAAxQAAAADAzMzFAAAAAZGZmMUAAAACYmZkxQAAAAMzMzDFAAAAAAAAAMkAAAAAwMzMyQAAAAGRmZjJAAAAAmJmZMkAAAADMzMwyQAAAAAAAADNAAAAAMDMzM0AAAABkZmYzQAAAAJiZmTNAAAAAzMzMM0AAAAAAAAA0QAAAADAzMzRAAAAAZGZmNEAAAACYmZk0QAAAAMzMzDRAAAAAAAAANUAAAAAwMzM1QAAAAGRmZjVAAAAAmJmZNUAAAADMzMw1QAAAAAAAADZAAAAAMDMzNkAAAABkZmY2QAAAAJiZmTZAAAAAzMzMNkAAAAAAAAA3QAAAADAzMzdAAAAAZGZmN0AAAACYmZk3QAAAAMzMzDdAAAAAAAAAOEAAAAAwMzM4QAAAAGRmZjhAAAAAmJmZOEAAAADMzMw4QAAAAAAAADlAAAAAMDMzOUAAAABkZmY5QAAAAJiZmTlAAAAAzMzMOUAAAAAAAAA6QAAAADAzMzpAAAAAZGZmOkAAAACYmZk6QAAAAMzMzDpAAAAAAAAAO0AAAAAwMzM7QAAAAGRmZjtAAAAAmJmZO0AAAADMzMw7QAAAAAAAADxAAAAAMDMzPEAAAABkZmY8QAAAAJiZmTxAAAAAzMzMPEAAAAAAAAA9QAAAADAzMz1AAAAAZGZmPUAAAACYmZk9QAAAAMzMzD1AAAAAAAAAPkAAAAAwMzM+QAAAAGRmZj5AAAAAmJmZPkAAAADMzMw+QAAAAAAAAD9A\"},\"shape\":[156],\"dtype\":\"float64\",\"order\":\"little\"}],[\"y\",{\"type\":\"ndarray\",\"array\":{\"type\":\"bytes\",\"data\":\"zczMzMzMFkAAAAAAAAAgQGZmZmZmZiNAZmZmZmZmJkDNzMzMzMwqQJqZmZmZmS5AmpmZmZkZMUDNzMzMzMwyQJqZmZmZmTRAZmZmZmZmNkAzMzMzMzM4QAAAAAAAADpAmpmZmZmZO0DNzMzMzEw9QGZmZmZm5j5AAAAAAABAQEDNzMzMzAxBQGZmZmZmpkFAMzMzMzNzQkBmZmZmZiZDQJqZmZmZ2UNAMzMzMzNzREDNzMzMzAxFQGZmZmZmpkVAZmZmZmYmRkBmZmZmZqZGQDMzMzMzM0dAZmZmZmamR0AAAAAAAEBIQJqZmZmZmUhAmpmZmZkZSUAAAAAAAIBJQGZmZmZm5klAzczMzMxMSkAzMzMzM7NKQGZmZmZmJktAMzMzMzNzS0CamZmZmdlLQDMzMzMzM0xAMzMzMzNzTEAAAAAAAMBMQM3MzMzMDE1AzczMzMxMTUBmZmZmZqZNQM3MzMzMzE1AAAAAAAAATkCamZmZmVlOQM3MzMzMjE5AzczMzMzMTkDNzMzMzAxPQGZmZmZmJk9AMzMzMzNzT0BmZmZmZqZPQM3MzMzMzE9AAAAAAAAAUEAzMzMzMxNQQM3MzMzMLFBAAAAAAABAUEAAAAAAAGBQQDMzMzMzc1BAAAAAAACAUEAAAAAAAKBQQGZmZmZmplBAMzMzMzOzUEDNzMzMzMxQQJqZmZmZ2VBAMzMzMzPzUEBmZmZmZgZRQJqZmZmZGVFAzczMzMwsUUAAAAAAAEBRQM3MzMzMTFFAAAAAAABgUUDNzMzMzGxRQJqZmZmZeVFAZmZmZmaGUUAzMzMzM5NRQGZmZmZmplFAzczMzMysUUCamZmZmblRQGZmZmZmxlFAzczMzMzMUUAAAAAAAOBRQDMzMzMz81FAmpmZmZn5UUAAAAAAAABSQGZmZmZmBlJAzczMzMwMUkDNzMzMzAxSQM3MzMzMDFJAmpmZmZkZUkDNzMzMzAxSQJqZmZmZGVJAmpmZmZk5UkAAAAAAAEBSQJqZmZmZWVJAAAAAAACAUkDNzMzMzIxSQGZmZmZmplJAZmZmZmamUkDNzMzMzKxSQJqZmZmZuVJAAAAAAADAUkAzMzMzM9NSQGZmZmZm5lJAAAAAAAAAU0DNzMzMzAxTQGZmZmZmJlNAmpmZmZk5U0DNzMzMzExTQDMzMzMzU1NAMzMzMzNTU0DNzMzMzGxTQM3MzMzMbFNAZmZmZmZmU0DNzMzMzGxTQJqZmZmZeVNAzczMzMyMU0BmZmZmZqZTQDMzMzMzs1NAAAAAAADAU0BmZmZmZsZTQGZmZmZmxlNAZmZmZmbGU0CamZmZmdlTQAAAAAAA4FNAzczMzMzsU0AzMzMzM/NTQM3MzMzM7FNAZmZmZmbmU0BmZmZmZuZTQM3MzMzM7FNAmpmZmZn5U0AAAAAAAABUQJqZmZmZ+VNAmpmZmZn5U0CamZmZmflTQGZmZmZmBlRAzczMzMwMVEAAAAAAAABUQJqZmZmZ+VNAAAAAAAAAVEAzMzMzM/NTQGZmZmZmBlRAzczMzMwMVEDNzMzMzMxTQAAAAAAAoFNAZmZmZmaGU0DNzMzMzIxTQDMzMzMz81NAzczMzMzMU0AAAAAAAOBTQM3MzMzMzFNAMzMzMzPTU0DNzMzMzAxUQGZmZmZmJlRA\"},\"shape\":[156],\"dtype\":\"float64\",\"order\":\"little\"}]]}}},\"view\":{\"type\":\"object\",\"name\":\"CDSView\",\"id\":\"p1533\",\"attributes\":{\"filter\":{\"type\":\"object\",\"name\":\"AllIndices\",\"id\":\"p1534\"}}},\"glyph\":{\"type\":\"object\",\"name\":\"Line\",\"id\":\"p1529\",\"attributes\":{\"x\":{\"type\":\"field\",\"field\":\"x\"},\"y\":{\"type\":\"field\",\"field\":\"y\"},\"line_color\":\"deepskyblue\",\"line_width\":2}},\"nonselection_glyph\":{\"type\":\"object\",\"name\":\"Line\",\"id\":\"p1530\",\"attributes\":{\"x\":{\"type\":\"field\",\"field\":\"x\"},\"y\":{\"type\":\"field\",\"field\":\"y\"},\"line_color\":\"deepskyblue\",\"line_alpha\":0.1,\"line_width\":2}},\"muted_glyph\":{\"type\":\"object\",\"name\":\"Line\",\"id\":\"p1531\",\"attributes\":{\"x\":{\"type\":\"field\",\"field\":\"x\"},\"y\":{\"type\":\"field\",\"field\":\"y\"},\"line_color\":\"deepskyblue\",\"line_alpha\":0.2,\"line_width\":2}}}},{\"type\":\"object\",\"name\":\"GlyphRenderer\",\"id\":\"p1543\",\"attributes\":{\"data_source\":{\"type\":\"object\",\"name\":\"ColumnDataSource\",\"id\":\"p1537\",\"attributes\":{\"selected\":{\"type\":\"object\",\"name\":\"Selection\",\"id\":\"p1538\",\"attributes\":{\"indices\":[],\"line_indices\":[]}},\"selection_policy\":{\"type\":\"object\",\"name\":\"UnionRenderers\",\"id\":\"p1539\"},\"data\":{\"type\":\"map\",\"entries\":[[\"x\",{\"type\":\"ndarray\",\"array\":{\"type\":\"bytes\",\"data\":\"AAAAAAAAAAAAAAAAmJnJPwAAAACZmdk/AAAAADMz4z8AAACAmZnpPwAAAAAAAPA/AAAAADMz8z8AAABAZmb2PwAAAICZmfk/AAAAwMzM/D8AAAAAAAAAQAAAAICZmQFAAAAAIDMzA0AAAADAzMwEQAAAAGBmZgZAAAAAAAAACEAAAACAmZkJQAAAACAzMwtAAAAAwMzMDEAAAABgZmYOQAAAAAAAABBAAAAAwMzMEEAAAACQmZkRQAAAAGBmZhJAAAAAMDMzE0AAAAAAAAAUQAAAAMDMzBRAAAAAkJmZFUAAAABgZmYWQAAAADAzMxdAAAAAAAAAGEAAAADAzMwYQAAAAJCZmRlAAAAAYGZmGkAAAAAwMzMbQAAAAAAAABxAAAAAwMzMHEAAAACQmZkdQAAAAGBmZh5AAAAAMDMzH0AAAAAAAAAgQAAAAGBmZiBAAAAAyMzMIEAAAAAwMzMhQAAAAJiZmSFAAAAAAAAAIkAAAABgZmYiQAAAAMjMzCJAAAAAMDMzI0AAAACYmZkjQAAAAAAAACRAAAAAYGZmJEAAAADIzMwkQAAAADAzMyVAAAAAmJmZJUAAAAAAAAAmQAAAAGBmZiZAAAAAyMzMJkAAAAAwMzMnQAAAAJiZmSdAAAAAAAAAKEAAAABgZmYoQAAAAMjMzChAAAAAMDMzKUAAAACYmZkpQAAAAAAAACpAAAAAYGZmKkAAAADIzMwqQAAAADAzMytAAAAAmJmZK0AAAAAAAAAsQAAAAGBmZixAAAAAyMzMLEAAAAAwMzMtQAAAAJiZmS1AAAAAAAAALkAAAABgZmYuQAAAAMjMzC5AAAAAMDMzL0AAAACYmZkvQAAAAAAAADBAAAAAMDMzMEAAAABkZmYwQAAAAJiZmTBAAAAAzMzMMEAAAAAAAAAxQAAAADAzMzFAAAAAZGZmMUAAAACYmZkxQAAAAMzMzDFAAAAAAAAAMkAAAAAwMzMyQAAAAGRmZjJAAAAAmJmZMkAAAADMzMwyQAAAAAAAADNAAAAAMDMzM0AAAABkZmYzQAAAAJiZmTNAAAAAzMzMM0AAAAAAAAA0QAAAADAzMzRAAAAAZGZmNEAAAACYmZk0QAAAAMzMzDRAAAAAAAAANUAAAAAwMzM1QAAAAGRmZjVAAAAAmJmZNUAAAADMzMw1QAAAAAAAADZAAAAAMDMzNkAAAABkZmY2QAAAAJiZmTZAAAAAzMzMNkAAAAAAAAA3QAAAADAzMzdAAAAAZGZmN0AAAACYmZk3QAAAAMzMzDdAAAAAAAAAOEAAAAAwMzM4QAAAAGRmZjhAAAAAmJmZOEAAAADMzMw4QAAAAAAAADlAAAAAMDMzOUAAAABkZmY5QAAAAJiZmTlAAAAAzMzMOUAAAAAAAAA6QAAAADAzMzpAAAAAZGZmOkAAAACYmZk6QAAAAMzMzDpAAAAAAAAAO0AAAAAwMzM7QAAAAGRmZjtAAAAAmJmZO0AAAADMzMw7QAAAAAAAADxAAAAAMDMzPEAAAABkZmY8QAAAAJiZmTxAAAAAzMzMPEAAAAAAAAA9QAAAADAzMz1AAAAAZGZmPUAAAACYmZk9QAAAAMzMzD1AAAAAAAAAPkAAAAAwMzM+QAAAAGRmZj5AAAAAmJmZPkAAAADMzMw+QAAAAAAAAD9A\"},\"shape\":[156],\"dtype\":\"float64\",\"order\":\"little\"}],[\"y\",{\"type\":\"ndarray\",\"array\":{\"type\":\"bytes\",\"data\":\"BFYOLbIdM0AnMQisHFo6QBFYObTIdj9AYxBYObTIQUD8qfHSTWJFQP7UeOkmMUhAv58aL90kS0AbL90kBsFNQBfZzvdTQ1BArBxaZDufUUApXI/C9QhTQLbz/dR4aVRAVeOlm8TAVUDy0k1iEBhXQHNoke18f1hAGQRWDi3SWUCWQ4ts5ztbQJ3vp8ZLV1xA1HjpJjHoXUB3vp8aLz1fQAwCK4cWSWBAAAAAAADgYEDn+6nx0n1hQMuhRbbzHWJA2KNwPQqnYkDhehSuRzFjQLbz/dR42WNAxSCwcmhhZECmm8QgsAJlQMHKoUW2g2VAi2zn+6kxZkCwcmiR7axmQL+fGi/dNGdAy6FFtvO9Z0DZzvdT40VoQNv5fmq81GhAAAAAAABQaUAZBFYOLdJpQBSuR+F6ZGpAQmDl0CLbakB56SYxCExrQIPAyqFF1mtAs53vp8ZLbEDGILByaNFsQCPb+X5qLG1AUI2XbhKjbUCJQWDl0BJuQOSlm8QgcG5AGARWDi3ibkBh5dAi20lvQM73U+Olm29ABFYOLbIFcEC7SQwCKy9wQG8Sg8DKWXBAke18PzWOcEC5HoXrUcBwQPp+arx043BAN4lBYOUIcUDkpZvEIDhxQBov3SQGYXFAYxBYObSAcUASg8DKoa1xQGmR7Xw/xXFAK4cW2c7ncUBpke18Pw1yQD81XrpJJHJAexSuR+FKckDLoUW282VyQAwCK4cWiXJA30+Nl26ickCuR+F6FL5yQO58PzVe4nJAQmDl0CL7ckCPwvUoXBdzQPhT46WbJHNATDeJQWA9c0CXbhKDwFpzQGQ730+Nd3NAMQisHFqUc0AnMQisHJpzQHWTGARWtnNAVeOlm8TIc0AxCKwcWtxzQH0/NV66+XNAWDm0yHYOdEA+CtejcB10QCPb+X5qLHRAiBbZzvc7dEB3vp8aL0V0QAIrhxbZPnRA3iQGgZVTdEB1kxgEVkZ0QOxRuB6FS3RAuR6F61FodEC28/3UeGl0QKabxCCwcnRAdZMYBFaOdECOl24Sg4B0QI6XbhKDgHRAF9nO91N7dEBV46WbxFh0QFXjpZvEWHRA9ihcj8JFdEBWDi2ynVd0QM3MzMzMXHRAz/dT46VbdEBSuB6F61l0QMl2vp8aX3RApHA9CtdzdEAMAiuHFoF0QKAaL90kdnRAyXa+nxpfdEACK4cW2YZ0QKJFtvP9dHRAIbByaJF1dECcxCCwcnh0QAIrhxbZhnRAjpduEoOAdEBzaJHtfI90QOF6FK5HmXRA8KfGSzeRdEBeukkMApt0QM/3U+Olo3RAfT81XrqJdEBbZDvfT510QObQItv5lnRAwcqhRbardEBcj8L1KJx0QNv5fmq8nHRATmIQWDmkdEDeJAaBlZt0QLtJDAIrr3RAK4cW2c63dEAw3SQGgbV0QLByaJHttHRAtMh2vp+ydEA5tMh2vq90QK5H4XoUtnRAJQaBlUO7dEAj2/l+arx0QB1aZDvfv3RAj8L1KFzHdECd76fGS790QLByaJHttHRAsHJoke20dEBKDAIrh150QBov3SQG6XNA5KWbxCDAc0Cd76fGS59zQM3MzMzMhHNArBxaZDtPc0B56SYxCExyQDeJQWDlKHJAUI2XbhLTcUCsHFpkO1dxQLTIdr6fwnBA\"},\"shape\":[156],\"dtype\":\"float64\",\"order\":\"little\"}]]}}},\"view\":{\"type\":\"object\",\"name\":\"CDSView\",\"id\":\"p1544\",\"attributes\":{\"filter\":{\"type\":\"object\",\"name\":\"AllIndices\",\"id\":\"p1545\"}}},\"glyph\":{\"type\":\"object\",\"name\":\"Line\",\"id\":\"p1540\",\"attributes\":{\"x\":{\"type\":\"field\",\"field\":\"x\"},\"y\":{\"type\":\"field\",\"field\":\"y\"},\"line_color\":\"limegreen\",\"line_width\":2}},\"nonselection_glyph\":{\"type\":\"object\",\"name\":\"Line\",\"id\":\"p1541\",\"attributes\":{\"x\":{\"type\":\"field\",\"field\":\"x\"},\"y\":{\"type\":\"field\",\"field\":\"y\"},\"line_color\":\"limegreen\",\"line_alpha\":0.1,\"line_width\":2}},\"muted_glyph\":{\"type\":\"object\",\"name\":\"Line\",\"id\":\"p1542\",\"attributes\":{\"x\":{\"type\":\"field\",\"field\":\"x\"},\"y\":{\"type\":\"field\",\"field\":\"y\"},\"line_color\":\"limegreen\",\"line_alpha\":0.2,\"line_width\":2}}}},{\"type\":\"object\",\"name\":\"GlyphRenderer\",\"id\":\"p1553\",\"attributes\":{\"data_source\":{\"type\":\"object\",\"name\":\"ColumnDataSource\",\"id\":\"p1547\",\"attributes\":{\"selected\":{\"type\":\"object\",\"name\":\"Selection\",\"id\":\"p1548\",\"attributes\":{\"indices\":[],\"line_indices\":[]}},\"selection_policy\":{\"type\":\"object\",\"name\":\"UnionRenderers\",\"id\":\"p1549\"},\"data\":{\"type\":\"map\",\"entries\":[[\"x\",{\"type\":\"ndarray\",\"array\":{\"type\":\"bytes\",\"data\":\"AAAAAAAAAAAAAAAAmJnJPwAAAACZmdk/AAAAADMz4z8AAACAmZnpPwAAAAAAAPA/AAAAADMz8z8AAABAZmb2PwAAAICZmfk/AAAAwMzM/D8AAAAAAAAAQAAAAICZmQFAAAAAIDMzA0AAAADAzMwEQAAAAGBmZgZAAAAAAAAACEAAAACAmZkJQAAAACAzMwtAAAAAwMzMDEAAAABgZmYOQAAAAAAAABBAAAAAwMzMEEAAAACQmZkRQAAAAGBmZhJAAAAAMDMzE0AAAAAAAAAUQAAAAMDMzBRAAAAAkJmZFUAAAABgZmYWQAAAADAzMxdAAAAAAAAAGEAAAADAzMwYQAAAAJCZmRlAAAAAYGZmGkAAAAAwMzMbQAAAAAAAABxAAAAAwMzMHEAAAACQmZkdQAAAAGBmZh5AAAAAMDMzH0AAAAAAAAAgQAAAAGBmZiBAAAAAyMzMIEAAAAAwMzMhQAAAAJiZmSFAAAAAAAAAIkAAAABgZmYiQAAAAMjMzCJAAAAAMDMzI0AAAACYmZkjQAAAAAAAACRAAAAAYGZmJEAAAADIzMwkQAAAADAzMyVAAAAAmJmZJUAAAAAAAAAmQAAAAGBmZiZAAAAAyMzMJkAAAAAwMzMnQAAAAJiZmSdAAAAAAAAAKEAAAABgZmYoQAAAAMjMzChAAAAAMDMzKUAAAACYmZkpQAAAAAAAACpAAAAAYGZmKkAAAADIzMwqQAAAADAzMytAAAAAmJmZK0AAAAAAAAAsQAAAAGBmZixAAAAAyMzMLEAAAAAwMzMtQAAAAJiZmS1AAAAAAAAALkAAAABgZmYuQAAAAMjMzC5AAAAAMDMzL0AAAACYmZkvQAAAAAAAADBAAAAAMDMzMEAAAABkZmYwQAAAAJiZmTBAAAAAzMzMMEAAAAAAAAAxQAAAADAzMzFAAAAAZGZmMUAAAACYmZkxQAAAAMzMzDFAAAAAAAAAMkAAAAAwMzMyQAAAAGRmZjJAAAAAmJmZMkAAAADMzMwyQAAAAAAAADNAAAAAMDMzM0AAAABkZmYzQAAAAJiZmTNAAAAAzMzMM0AAAAAAAAA0QAAAADAzMzRAAAAAZGZmNEAAAACYmZk0QAAAAMzMzDRAAAAAAAAANUAAAAAwMzM1QAAAAGRmZjVAAAAAmJmZNUAAAADMzMw1QAAAAAAAADZAAAAAMDMzNkAAAABkZmY2QAAAAJiZmTZAAAAAzMzMNkAAAAAAAAA3QAAAADAzMzdAAAAAZGZmN0AAAACYmZk3QAAAAMzMzDdAAAAAAAAAOEAAAAAwMzM4QAAAAGRmZjhAAAAAmJmZOEAAAADMzMw4QAAAAAAAADlAAAAAMDMzOUAAAABkZmY5QAAAAJiZmTlAAAAAzMzMOUAAAAAAAAA6QAAAADAzMzpAAAAAZGZmOkAAAACYmZk6QAAAAMzMzDpAAAAAAAAAO0AAAAAwMzM7QAAAAGRmZjtAAAAAmJmZO0AAAADMzMw7QAAAAAAAADxAAAAAMDMzPEAAAABkZmY8QAAAAJiZmTxAAAAAzMzMPEAAAAAAAAA9QAAAADAzMz1AAAAAZGZmPUAAAACYmZk9QAAAAMzMzD1AAAAAAAAAPkAAAAAwMzM+QAAAAGRmZj5AAAAAmJmZPkAAAADMzMw+QAAAAAAAAD9A\"},\"shape\":[156],\"dtype\":\"float64\",\"order\":\"little\"}],[\"y\",{\"type\":\"ndarray\",\"array\":{\"type\":\"bytes\",\"data\":\"dSZB3p33Z0Dx8n14+HdnQJWYaRX/9mZA/evhGUt2ZkC4HQHXAVtmQIFVKvI/LWZACw6d+KwSZkBtrv3r38plQDqal8G0mWVA+iut2qViZUB5Y7wHjyhlQIBsc9KV8mRAU0485SHKZEAWmsxPXJZkQCqD/YNXbmRAwTDT5CNNZEBQOeWAQiJkQKxz2IllBmRA8jYwAojkY0DgqYDc/8NjQOfN1r2PmWNAQK8vhoGBY0BAWG9ksFhjQLvziG3FOGNAYlK5JhYVY0C4RQGzwP9iQPCa8c3c3mJAmkID0yvJYkAlJe8BUZ5iQFFu7ofUj2JAmScOJWx3YkDgYhf60WJiQH3JIYMvPGJAL2poxZMlYkAxZNUc7ARiQGHGtj3Q3WFAiU+aa/jOYUB9AV5p9qNhQIWoN9Kpi2FAxyOYbXx+YUB4oJHGHmZhQE51M/ygVGFAUwBJW3ZBYUB8RW9rqCBhQMNPcZMxFWFAkoG6q7ITYUAnSQesmudgQFU3qMB8z2BA4jZzjnSuYEBDgzpk0ZlgQHuiPhreoGBAZIWQPoltYED+2uk/5UpgQLDMDkHlO2BAz8aNAXQgYEAQFjX6hyFgQC0WiwTk9V9AvV47MPy2X0BAvJKrtmpfQASwJXEnPF9Ac6sUyp4bX0DI4fZhZsNeQAOeYJkpvV5AfCRuC2GiXkA7/jdjPFxeQBuVi2lIKF5ALn4cR03RXUBXs+4J9I1dQAIDS97CT11Ac1NB+EMRXUBmiAltD8VcQFIc/KTnpFxAMORvOiRvXEB4jjJgfDZcQBMfvK4lF1xA6S/reu/fW0CB3fyVEb5bQE4/fQ2vfltAYWGlSMxhW0D+NKWnCTRbQMq38Qf7CltAa4ZBatvhWkDgyjdq3KZaQM7Z3yeKS1pArhzh6mUwWkDQbTGo6ilaQJLp+XX8CFpAcOyaLfQCWkCy5r69SvdZQCQyvQy+B1pAA1MJ7W/aWUCj2pmo//dZQKeailV4sFlAbYIE0LsOWUCKKf+TyPBYQFljFPaqcVhAjFSIcmGQV0CcEQPnei9XQOh7eaqhllZA0Jo/4zCYVkA0zpmkdUlWQNwF+WAp51VAKxjhxF3HVUCat6IMYUVVQNwGudMs5FRAuqqm4kFbVECSYLpXavlTQLOvl1oNdFNAHFjBBhQZU0Cw0cZX7bFSQG8PHWxxglJAtjS0GaxQUkBJWhNogtZRQEwTlJ4o2lFA7Ikn55UEUkBg6tzt1MdRQKHhZ7m3lVFA1wHzpO0kUUD3hBNaRJZQQAexzDgyWlBA4f2nICEDUEBnYxurkKNPQBnuH4J9pk9AF3mXBdV+T0CrQ0/5ps5OQItgi/Adek5A+jCJZST1TUCVb/WMisRNQEZK2D925E1Ae/bucBkzTkDqFDtPkmJOQBcU1ZBR+E1ArUtFI3J2TUDS9wjUwz5NQE7+nz8zXk1A8lK6X0VrTUDxeVgi83NNQMrrGKEI+UxApfKMoXvJTECPimMtTR1NQO5iLM1tnE1AN11MN9VDTUCa90edJsFNQBpFYDC38UxAFR9+HizCTEDHJAnUkSNPQDp6Rm37JVBACZIHOgGzUEANF03Ok1RQQFFFMaHZKkxAB6HGHVaPTUBulOjbYQFLQItHKwHnqUtASXJEA14RS0Bm8nBm7+xHQMt1ygkRO0ZA\"},\"shape\":[156],\"dtype\":\"float64\",\"order\":\"little\"}]]}}},\"view\":{\"type\":\"object\",\"name\":\"CDSView\",\"id\":\"p1554\",\"attributes\":{\"filter\":{\"type\":\"object\",\"name\":\"AllIndices\",\"id\":\"p1555\"}}},\"glyph\":{\"type\":\"object\",\"name\":\"Line\",\"id\":\"p1550\",\"attributes\":{\"x\":{\"type\":\"field\",\"field\":\"x\"},\"y\":{\"type\":\"field\",\"field\":\"y\"},\"line_color\":\"red\",\"line_width\":2}},\"nonselection_glyph\":{\"type\":\"object\",\"name\":\"Line\",\"id\":\"p1551\",\"attributes\":{\"x\":{\"type\":\"field\",\"field\":\"x\"},\"y\":{\"type\":\"field\",\"field\":\"y\"},\"line_color\":\"red\",\"line_alpha\":0.1,\"line_width\":2}},\"muted_glyph\":{\"type\":\"object\",\"name\":\"Line\",\"id\":\"p1552\",\"attributes\":{\"x\":{\"type\":\"field\",\"field\":\"x\"},\"y\":{\"type\":\"field\",\"field\":\"y\"},\"line_color\":\"red\",\"line_alpha\":0.2,\"line_width\":2}}}},{\"type\":\"object\",\"name\":\"GlyphRenderer\",\"id\":\"p1563\",\"attributes\":{\"data_source\":{\"type\":\"object\",\"name\":\"ColumnDataSource\",\"id\":\"p1557\",\"attributes\":{\"selected\":{\"type\":\"object\",\"name\":\"Selection\",\"id\":\"p1558\",\"attributes\":{\"indices\":[],\"line_indices\":[]}},\"selection_policy\":{\"type\":\"object\",\"name\":\"UnionRenderers\",\"id\":\"p1559\"},\"data\":{\"type\":\"map\",\"entries\":[[\"x0\",[28.799999952316284]],[\"y0\",[0.0]],[\"x1\",[28.799999952316284]],[\"y1\",[331.31925]]]}}},\"view\":{\"type\":\"object\",\"name\":\"CDSView\",\"id\":\"p1564\",\"attributes\":{\"filter\":{\"type\":\"object\",\"name\":\"AllIndices\",\"id\":\"p1565\"}}},\"glyph\":{\"type\":\"object\",\"name\":\"Segment\",\"id\":\"p1560\",\"attributes\":{\"x0\":{\"type\":\"field\",\"field\":\"x0\"},\"y0\":{\"type\":\"field\",\"field\":\"y0\"},\"x1\":{\"type\":\"field\",\"field\":\"x1\"},\"y1\":{\"type\":\"field\",\"field\":\"y1\"},\"line_color\":{\"type\":\"value\",\"value\":\"lightblue\"},\"line_width\":{\"type\":\"value\",\"value\":3}}},\"nonselection_glyph\":{\"type\":\"object\",\"name\":\"Segment\",\"id\":\"p1561\",\"attributes\":{\"x0\":{\"type\":\"field\",\"field\":\"x0\"},\"y0\":{\"type\":\"field\",\"field\":\"y0\"},\"x1\":{\"type\":\"field\",\"field\":\"x1\"},\"y1\":{\"type\":\"field\",\"field\":\"y1\"},\"line_color\":{\"type\":\"value\",\"value\":\"lightblue\"},\"line_alpha\":{\"type\":\"value\",\"value\":0.1},\"line_width\":{\"type\":\"value\",\"value\":3}}},\"muted_glyph\":{\"type\":\"object\",\"name\":\"Segment\",\"id\":\"p1562\",\"attributes\":{\"x0\":{\"type\":\"field\",\"field\":\"x0\"},\"y0\":{\"type\":\"field\",\"field\":\"y0\"},\"x1\":{\"type\":\"field\",\"field\":\"x1\"},\"y1\":{\"type\":\"field\",\"field\":\"y1\"},\"line_color\":{\"type\":\"value\",\"value\":\"lightblue\"},\"line_alpha\":{\"type\":\"value\",\"value\":0.2},\"line_width\":{\"type\":\"value\",\"value\":3}}}}},{\"type\":\"object\",\"name\":\"GlyphRenderer\",\"id\":\"p1572\",\"attributes\":{\"data_source\":{\"type\":\"object\",\"name\":\"ColumnDataSource\",\"id\":\"p1566\",\"attributes\":{\"selected\":{\"type\":\"object\",\"name\":\"Selection\",\"id\":\"p1567\",\"attributes\":{\"indices\":[],\"line_indices\":[]}},\"selection_policy\":{\"type\":\"object\",\"name\":\"UnionRenderers\",\"id\":\"p1568\"},\"data\":{\"type\":\"map\",\"entries\":[[\"x0\",[30.299999952316284]],[\"y0\",[0.0]],[\"x1\",[30.299999952316284]],[\"y1\",[331.31925]]]}}},\"view\":{\"type\":\"object\",\"name\":\"CDSView\",\"id\":\"p1573\",\"attributes\":{\"filter\":{\"type\":\"object\",\"name\":\"AllIndices\",\"id\":\"p1574\"}}},\"glyph\":{\"type\":\"object\",\"name\":\"Segment\",\"id\":\"p1569\",\"attributes\":{\"x0\":{\"type\":\"field\",\"field\":\"x0\"},\"y0\":{\"type\":\"field\",\"field\":\"y0\"},\"x1\":{\"type\":\"field\",\"field\":\"x1\"},\"y1\":{\"type\":\"field\",\"field\":\"y1\"},\"line_color\":{\"type\":\"value\",\"value\":\"darkseagreen\"}}},\"nonselection_glyph\":{\"type\":\"object\",\"name\":\"Segment\",\"id\":\"p1570\",\"attributes\":{\"x0\":{\"type\":\"field\",\"field\":\"x0\"},\"y0\":{\"type\":\"field\",\"field\":\"y0\"},\"x1\":{\"type\":\"field\",\"field\":\"x1\"},\"y1\":{\"type\":\"field\",\"field\":\"y1\"},\"line_color\":{\"type\":\"value\",\"value\":\"darkseagreen\"},\"line_alpha\":{\"type\":\"value\",\"value\":0.1}}},\"muted_glyph\":{\"type\":\"object\",\"name\":\"Segment\",\"id\":\"p1571\",\"attributes\":{\"x0\":{\"type\":\"field\",\"field\":\"x0\"},\"y0\":{\"type\":\"field\",\"field\":\"y0\"},\"x1\":{\"type\":\"field\",\"field\":\"x1\"},\"y1\":{\"type\":\"field\",\"field\":\"y1\"},\"line_color\":{\"type\":\"value\",\"value\":\"darkseagreen\"},\"line_alpha\":{\"type\":\"value\",\"value\":0.2}}}}},{\"type\":\"object\",\"name\":\"GlyphRenderer\",\"id\":\"p1581\",\"attributes\":{\"data_source\":{\"type\":\"object\",\"name\":\"ColumnDataSource\",\"id\":\"p1575\",\"attributes\":{\"selected\":{\"type\":\"object\",\"name\":\"Selection\",\"id\":\"p1576\",\"attributes\":{\"indices\":[],\"line_indices\":[]}},\"selection_policy\":{\"type\":\"object\",\"name\":\"UnionRenderers\",\"id\":\"p1577\"},\"data\":{\"type\":\"map\",\"entries\":[[\"x0\",[27.299999952316284]],[\"y0\",[0.0]],[\"x1\",[27.299999952316284]],[\"y1\",[331.31925]]]}}},\"view\":{\"type\":\"object\",\"name\":\"CDSView\",\"id\":\"p1582\",\"attributes\":{\"filter\":{\"type\":\"object\",\"name\":\"AllIndices\",\"id\":\"p1583\"}}},\"glyph\":{\"type\":\"object\",\"name\":\"Segment\",\"id\":\"p1578\",\"attributes\":{\"x0\":{\"type\":\"field\",\"field\":\"x0\"},\"y0\":{\"type\":\"field\",\"field\":\"y0\"},\"x1\":{\"type\":\"field\",\"field\":\"x1\"},\"y1\":{\"type\":\"field\",\"field\":\"y1\"},\"line_color\":{\"type\":\"value\",\"value\":\"darkseagreen\"}}},\"nonselection_glyph\":{\"type\":\"object\",\"name\":\"Segment\",\"id\":\"p1579\",\"attributes\":{\"x0\":{\"type\":\"field\",\"field\":\"x0\"},\"y0\":{\"type\":\"field\",\"field\":\"y0\"},\"x1\":{\"type\":\"field\",\"field\":\"x1\"},\"y1\":{\"type\":\"field\",\"field\":\"y1\"},\"line_color\":{\"type\":\"value\",\"value\":\"darkseagreen\"},\"line_alpha\":{\"type\":\"value\",\"value\":0.1}}},\"muted_glyph\":{\"type\":\"object\",\"name\":\"Segment\",\"id\":\"p1580\",\"attributes\":{\"x0\":{\"type\":\"field\",\"field\":\"x0\"},\"y0\":{\"type\":\"field\",\"field\":\"y0\"},\"x1\":{\"type\":\"field\",\"field\":\"x1\"},\"y1\":{\"type\":\"field\",\"field\":\"y1\"},\"line_color\":{\"type\":\"value\",\"value\":\"darkseagreen\"},\"line_alpha\":{\"type\":\"value\",\"value\":0.2}}}}},{\"type\":\"object\",\"name\":\"GlyphRenderer\",\"id\":\"p1590\",\"attributes\":{\"data_source\":{\"type\":\"object\",\"name\":\"ColumnDataSource\",\"id\":\"p1584\",\"attributes\":{\"selected\":{\"type\":\"object\",\"name\":\"Selection\",\"id\":\"p1585\",\"attributes\":{\"indices\":[],\"line_indices\":[]}},\"selection_policy\":{\"type\":\"object\",\"name\":\"UnionRenderers\",\"id\":\"p1586\"},\"data\":{\"type\":\"map\",\"entries\":[[\"x\",[28.799999952316284]],[\"y\",[331.31925]],[\"size\",[20]]]}}},\"view\":{\"type\":\"object\",\"name\":\"CDSView\",\"id\":\"p1591\",\"attributes\":{\"filter\":{\"type\":\"object\",\"name\":\"AllIndices\",\"id\":\"p1592\"}}},\"glyph\":{\"type\":\"object\",\"name\":\"Scatter\",\"id\":\"p1587\",\"attributes\":{\"x\":{\"type\":\"field\",\"field\":\"x\"},\"y\":{\"type\":\"field\",\"field\":\"y\"},\"size\":{\"type\":\"field\",\"field\":\"size\"},\"line_color\":{\"type\":\"value\",\"value\":\"lightblue\"},\"line_width\":{\"type\":\"value\",\"value\":3},\"fill_color\":{\"type\":\"value\",\"value\":null},\"marker\":{\"type\":\"value\",\"value\":\"square_cross\"}}},\"nonselection_glyph\":{\"type\":\"object\",\"name\":\"Scatter\",\"id\":\"p1588\",\"attributes\":{\"x\":{\"type\":\"field\",\"field\":\"x\"},\"y\":{\"type\":\"field\",\"field\":\"y\"},\"size\":{\"type\":\"field\",\"field\":\"size\"},\"line_color\":{\"type\":\"value\",\"value\":\"lightblue\"},\"line_alpha\":{\"type\":\"value\",\"value\":0.1},\"line_width\":{\"type\":\"value\",\"value\":3},\"fill_color\":{\"type\":\"value\",\"value\":null},\"fill_alpha\":{\"type\":\"value\",\"value\":0.1},\"hatch_alpha\":{\"type\":\"value\",\"value\":0.1},\"marker\":{\"type\":\"value\",\"value\":\"square_cross\"}}},\"muted_glyph\":{\"type\":\"object\",\"name\":\"Scatter\",\"id\":\"p1589\",\"attributes\":{\"x\":{\"type\":\"field\",\"field\":\"x\"},\"y\":{\"type\":\"field\",\"field\":\"y\"},\"size\":{\"type\":\"field\",\"field\":\"size\"},\"line_color\":{\"type\":\"value\",\"value\":\"lightblue\"},\"line_alpha\":{\"type\":\"value\",\"value\":0.2},\"line_width\":{\"type\":\"value\",\"value\":3},\"fill_color\":{\"type\":\"value\",\"value\":null},\"fill_alpha\":{\"type\":\"value\",\"value\":0.2},\"hatch_alpha\":{\"type\":\"value\",\"value\":0.2},\"marker\":{\"type\":\"value\",\"value\":\"square_cross\"}}}}}],\"toolbar\":{\"type\":\"object\",\"name\":\"Toolbar\",\"id\":\"p1477\",\"attributes\":{\"tools\":[{\"type\":\"object\",\"name\":\"PanTool\",\"id\":\"p1492\"},{\"type\":\"object\",\"name\":\"WheelZoomTool\",\"id\":\"p1493\",\"attributes\":{\"renderers\":\"auto\"}},{\"type\":\"object\",\"name\":\"BoxZoomTool\",\"id\":\"p1494\",\"attributes\":{\"overlay\":{\"type\":\"object\",\"name\":\"BoxAnnotation\",\"id\":\"p1495\",\"attributes\":{\"syncable\":false,\"line_color\":\"black\",\"line_alpha\":1.0,\"line_width\":2,\"line_dash\":[4,4],\"fill_color\":\"lightgrey\",\"fill_alpha\":0.5,\"level\":\"overlay\",\"visible\":false,\"left\":{\"type\":\"number\",\"value\":\"nan\"},\"right\":{\"type\":\"number\",\"value\":\"nan\"},\"top\":{\"type\":\"number\",\"value\":\"nan\"},\"bottom\":{\"type\":\"number\",\"value\":\"nan\"},\"left_units\":\"canvas\",\"right_units\":\"canvas\",\"top_units\":\"canvas\",\"bottom_units\":\"canvas\",\"handles\":{\"type\":\"object\",\"name\":\"BoxInteractionHandles\",\"id\":\"p1501\",\"attributes\":{\"all\":{\"type\":\"object\",\"name\":\"AreaVisuals\",\"id\":\"p1500\",\"attributes\":{\"fill_color\":\"white\",\"hover_fill_color\":\"lightgray\"}}}}}}}},{\"type\":\"object\",\"name\":\"SaveTool\",\"id\":\"p1502\"},{\"type\":\"object\",\"name\":\"ResetTool\",\"id\":\"p1503\"},{\"type\":\"object\",\"name\":\"HelpTool\",\"id\":\"p1504\"},{\"type\":\"object\",\"name\":\"HoverTool\",\"id\":\"p1536\",\"attributes\":{\"renderers\":\"auto\",\"tooltips\":[[\"Y-val\",\"@y{0.00}\"]]}}]}},\"left\":[{\"type\":\"object\",\"name\":\"LinearAxis\",\"id\":\"p1487\",\"attributes\":{\"ticker\":{\"type\":\"object\",\"name\":\"BasicTicker\",\"id\":\"p1488\",\"attributes\":{\"mantissas\":[1,2,5]}},\"formatter\":{\"type\":\"object\",\"name\":\"BasicTickFormatter\",\"id\":\"p1489\"},\"axis_label\":\"km/h\",\"axis_label_standoff\":10,\"axis_label_text_color\":\"#E0E0E0\",\"axis_label_text_font\":\"Helvetica\",\"axis_label_text_font_size\":\"1.25em\",\"axis_label_text_font_style\":\"normal\",\"major_label_policy\":{\"type\":\"object\",\"name\":\"AllLabels\",\"id\":\"p1490\"},\"major_label_text_color\":\"#E0E0E0\",\"major_label_text_font\":\"Helvetica\",\"major_label_text_font_size\":\"1.025em\",\"axis_line_color\":\"#E0E0E0\",\"axis_line_alpha\":0,\"major_tick_line_color\":\"#E0E0E0\",\"major_tick_line_alpha\":0,\"minor_tick_line_color\":\"#E0E0E0\",\"minor_tick_line_alpha\":0}},{\"type\":\"object\",\"name\":\"LinearAxis\",\"id\":\"p1507\",\"attributes\":{\"y_range_name\":\"altitudeFt\",\"ticker\":{\"type\":\"object\",\"name\":\"BasicTicker\",\"id\":\"p1508\",\"attributes\":{\"mantissas\":[1,2,5]}},\"formatter\":{\"type\":\"object\",\"name\":\"BasicTickFormatter\",\"id\":\"p1509\"},\"axis_label\":\"Alt (ft)\",\"axis_label_standoff\":10,\"axis_label_text_color\":\"#E0E0E0\",\"axis_label_text_font\":\"Helvetica\",\"axis_label_text_font_size\":\"1.25em\",\"axis_label_text_font_style\":\"normal\",\"major_label_policy\":{\"type\":\"object\",\"name\":\"AllLabels\",\"id\":\"p1510\"},\"major_label_text_color\":\"#E0E0E0\",\"major_label_text_font\":\"Helvetica\",\"major_label_text_font_size\":\"1.025em\",\"axis_line_color\":\"#E0E0E0\",\"axis_line_alpha\":0,\"major_tick_line_color\":\"#E0E0E0\",\"major_tick_line_alpha\":0,\"minor_tick_line_color\":\"#E0E0E0\",\"minor_tick_line_alpha\":0}},{\"type\":\"object\",\"name\":\"LinearAxis\",\"id\":\"p1511\",\"attributes\":{\"y_range_name\":\"angle\",\"ticker\":{\"type\":\"object\",\"name\":\"BasicTicker\",\"id\":\"p1512\",\"attributes\":{\"mantissas\":[1,2,5]}},\"formatter\":{\"type\":\"object\",\"name\":\"BasicTickFormatter\",\"id\":\"p1513\"},\"axis_label\":\"angle\",\"axis_label_standoff\":10,\"axis_label_text_color\":\"#E0E0E0\",\"axis_label_text_font\":\"Helvetica\",\"axis_label_text_font_size\":\"1.25em\",\"axis_label_text_font_style\":\"normal\",\"major_label_policy\":{\"type\":\"object\",\"name\":\"AllLabels\",\"id\":\"p1514\"},\"major_label_text_color\":\"#E0E0E0\",\"major_label_text_font\":\"Helvetica\",\"major_label_text_font_size\":\"1.025em\",\"axis_line_color\":\"#E0E0E0\",\"axis_line_alpha\":0,\"major_tick_line_color\":\"#E0E0E0\",\"major_tick_line_alpha\":0,\"minor_tick_line_color\":\"#E0E0E0\",\"minor_tick_line_alpha\":0}}],\"below\":[{\"type\":\"object\",\"name\":\"LinearAxis\",\"id\":\"p1482\",\"attributes\":{\"ticker\":{\"type\":\"object\",\"name\":\"BasicTicker\",\"id\":\"p1483\",\"attributes\":{\"mantissas\":[1,2,5]}},\"formatter\":{\"type\":\"object\",\"name\":\"BasicTickFormatter\",\"id\":\"p1484\"},\"axis_label\":\"seconds from exit\",\"axis_label_standoff\":10,\"axis_label_text_color\":\"#E0E0E0\",\"axis_label_text_font\":\"Helvetica\",\"axis_label_text_font_size\":\"1.25em\",\"axis_label_text_font_style\":\"normal\",\"major_label_policy\":{\"type\":\"object\",\"name\":\"AllLabels\",\"id\":\"p1485\"},\"major_label_text_color\":\"#E0E0E0\",\"major_label_text_font\":\"Helvetica\",\"major_label_text_font_size\":\"1.025em\",\"axis_line_color\":\"#E0E0E0\",\"axis_line_alpha\":0,\"major_tick_line_color\":\"#E0E0E0\",\"major_tick_line_alpha\":0,\"minor_tick_line_color\":\"#E0E0E0\",\"minor_tick_line_alpha\":0}}],\"center\":[{\"type\":\"object\",\"name\":\"Grid\",\"id\":\"p1486\",\"attributes\":{\"axis\":{\"id\":\"p1482\"},\"grid_line_color\":\"#E0E0E0\",\"grid_line_alpha\":0.25}},{\"type\":\"object\",\"name\":\"Grid\",\"id\":\"p1491\",\"attributes\":{\"dimension\":1,\"axis\":{\"id\":\"p1487\"},\"grid_line_color\":\"#E0E0E0\",\"grid_line_alpha\":0.25}},{\"type\":\"object\",\"name\":\"Legend\",\"id\":\"p1524\",\"attributes\":{\"border_line_alpha\":0,\"background_fill_color\":\"#20262B\",\"background_fill_alpha\":0.25,\"label_text_color\":\"#E0E0E0\",\"label_text_font\":\"Helvetica\",\"label_text_font_size\":\"1.025em\",\"label_standoff\":8,\"glyph_width\":15,\"spacing\":8,\"items\":[{\"type\":\"object\",\"name\":\"LegendItem\",\"id\":\"p1525\",\"attributes\":{\"label\":{\"type\":\"value\",\"value\":\"Alt (ft)\"},\"renderers\":[{\"id\":\"p1521\"}]}},{\"type\":\"object\",\"name\":\"LegendItem\",\"id\":\"p1535\",\"attributes\":{\"label\":{\"type\":\"value\",\"value\":\"angle\"},\"renderers\":[{\"id\":\"p1532\"}]}},{\"type\":\"object\",\"name\":\"LegendItem\",\"id\":\"p1546\",\"attributes\":{\"label\":{\"type\":\"value\",\"value\":\"speed\"},\"renderers\":[{\"id\":\"p1543\"}]}},{\"type\":\"object\",\"name\":\"LegendItem\",\"id\":\"p1556\",\"attributes\":{\"label\":{\"type\":\"value\",\"value\":\"H-speed\"},\"renderers\":[{\"id\":\"p1553\"}]}}]}}],\"background_fill_color\":\"#20262B\",\"border_fill_color\":\"#15191C\"}}]}};\n",
       "  const render_items = [{\"docid\":\"26f017a5-0bd8-4704-9fee-edc52ff35546\",\"roots\":{\"p1468\":\"ac6edf1a-5584-4059-a0a7-c06518896a4c\"},\"root_ids\":[\"p1468\"]}];\n",
       "  void root.Bokeh.embed.embed_items_notebook(docs_json, render_items);\n",
       "  }\n",
       "  if (root.Bokeh !== undefined) {\n",
       "    embed_document(root);\n",
       "  } else {\n",
       "    let attempts = 0;\n",
       "    const timer = setInterval(function(root) {\n",
       "      if (root.Bokeh !== undefined) {\n",
       "        clearInterval(timer);\n",
       "        embed_document(root);\n",
       "      } else {\n",
       "        attempts++;\n",
       "        if (attempts > 100) {\n",
       "          clearInterval(timer);\n",
       "          console.log(\"Bokeh: ERROR: Unable to run BokehJS code because BokehJS library is missing\");\n",
       "        }\n",
       "      }\n",
       "    }, 10, root)\n",
       "  }\n",
       "})(window);"
      ],
      "application/vnd.bokehjs_exec.v0+json": ""
     },
     "metadata": {
      "application/vnd.bokehjs_exec.v0+json": {
       "id": "p1468"
      }
     },
     "output_type": "display_data"
    },
    {
     "data": {
      "application/vnd.jupyter.widget-view+json": {
       "model_id": "43c0276aaa0c4f9bb3bf45e7f1cef01e",
       "version_major": 2,
       "version_minor": 0
      },
      "text/plain": [
       "HTML(value='<hr><h1><span style=\"color: #0f0\">Miller-2024-championship-official R5_18-49-36:v1 jump - 🟢 valid …"
      ]
     },
     "metadata": {},
     "output_type": "display_data"
    },
    {
     "data": {
      "application/vnd.jupyter.widget-view+json": {
       "model_id": "455ed5592b644c17a11759a241f92557",
       "version_major": 2,
       "version_minor": 0
      },
      "text/plain": [
       "HTML(value='<h3>Max speed = 349; exit at 4224 m (13860 ft), end scoring window at 1968 m (6458 ft)')"
      ]
     },
     "metadata": {},
     "output_type": "display_data"
    },
    {
     "data": {
      "application/vnd.jupyter.widget-view+json": {
       "model_id": "07d82150d5d5482880722b3b6848990c",
       "version_major": 2,
       "version_minor": 0
      },
      "text/plain": [
       "HTML(value='</h3>')"
      ]
     },
     "metadata": {},
     "output_type": "display_data"
    },
    {
     "data": {
      "text/html": [
       "<div>\n",
       "<style scoped>\n",
       "    .dataframe tbody tr th:only-of-type {\n",
       "        vertical-align: middle;\n",
       "    }\n",
       "\n",
       "    .dataframe tbody tr th {\n",
       "        vertical-align: top;\n",
       "    }\n",
       "\n",
       "    .dataframe thead th {\n",
       "        text-align: right;\n",
       "    }\n",
       "</style>\n",
       "<table border=\"1\" class=\"dataframe\">\n",
       "  <thead>\n",
       "    <tr style=\"text-align: right;\">\n",
       "      <th></th>\n",
       "      <th>time</th>\n",
       "      <th>vKMh</th>\n",
       "      <th>hKMh</th>\n",
       "      <th>speedAngle</th>\n",
       "      <th>distanceFromExit</th>\n",
       "      <th>altitude (ft)</th>\n",
       "      <th>netVectorKMh</th>\n",
       "    </tr>\n",
       "  </thead>\n",
       "  <tbody>\n",
       "    <tr>\n",
       "      <th></th>\n",
       "      <td>5.0</td>\n",
       "      <td>154</td>\n",
       "      <td>154</td>\n",
       "      <td>44.9</td>\n",
       "      <td>237.2</td>\n",
       "      <td>13456</td>\n",
       "      <td>218</td>\n",
       "    </tr>\n",
       "    <tr>\n",
       "      <th></th>\n",
       "      <td>10.0</td>\n",
       "      <td>254</td>\n",
       "      <td>130</td>\n",
       "      <td>62.9</td>\n",
       "      <td>434.7</td>\n",
       "      <td>12501</td>\n",
       "      <td>286</td>\n",
       "    </tr>\n",
       "    <tr>\n",
       "      <th></th>\n",
       "      <td>15.0</td>\n",
       "      <td>311</td>\n",
       "      <td>118</td>\n",
       "      <td>69.2</td>\n",
       "      <td>604.1</td>\n",
       "      <td>11190</td>\n",
       "      <td>333</td>\n",
       "    </tr>\n",
       "    <tr>\n",
       "      <th></th>\n",
       "      <td>20.0</td>\n",
       "      <td>332</td>\n",
       "      <td>97</td>\n",
       "      <td>73.7</td>\n",
       "      <td>757.9</td>\n",
       "      <td>9721</td>\n",
       "      <td>346</td>\n",
       "    </tr>\n",
       "    <tr>\n",
       "      <th></th>\n",
       "      <td>25.0</td>\n",
       "      <td>346</td>\n",
       "      <td>77</td>\n",
       "      <td>77.4</td>\n",
       "      <td>878.2</td>\n",
       "      <td>8162</td>\n",
       "      <td>355</td>\n",
       "    </tr>\n",
       "  </tbody>\n",
       "</table>\n",
       "</div>"
      ],
      "text/plain": [
       "  time  vKMh  hKMh  speedAngle  distanceFromExit  altitude (ft)  netVectorKMh\n",
       "   5.0   154   154        44.9             237.2          13456           218\n",
       "  10.0   254   130        62.9             434.7          12501           286\n",
       "  15.0   311   118        69.2             604.1          11190           333\n",
       "  20.0   332    97        73.7             757.9           9721           346\n",
       "  25.0   346    77        77.4             878.2           8162           355"
      ]
     },
     "metadata": {},
     "output_type": "display_data"
    },
    {
     "data": {
      "text/html": [
       "\n",
       "  <div id=\"dfe715cb-52f2-4441-aabb-7fc1afaa8192\" data-root-id=\"p1611\" style=\"display: contents;\"></div>\n"
      ]
     },
     "metadata": {},
     "output_type": "display_data"
    },
    {
     "data": {
      "application/javascript": [
       "(function(root) {\n",
       "  function embed_document(root) {\n",
       "  const docs_json = {\"8a966929-a118-4076-9146-76a4f9045e09\":{\"version\":\"3.5.2\",\"title\":\"Bokeh Application\",\"roots\":[{\"type\":\"object\",\"name\":\"Figure\",\"id\":\"p1611\",\"attributes\":{\"width\":900,\"height\":500,\"x_range\":{\"type\":\"object\",\"name\":\"Range1d\",\"id\":\"p1621\",\"attributes\":{\"end\":35.0}},\"y_range\":{\"type\":\"object\",\"name\":\"Range1d\",\"id\":\"p1622\",\"attributes\":{\"end\":550.0}},\"x_scale\":{\"type\":\"object\",\"name\":\"LinearScale\",\"id\":\"p1623\"},\"y_scale\":{\"type\":\"object\",\"name\":\"LinearScale\",\"id\":\"p1624\"},\"extra_y_ranges\":{\"type\":\"map\",\"entries\":[[\"altitudeFt\",{\"type\":\"object\",\"name\":\"Range1d\",\"id\":\"p1648\",\"attributes\":{\"start\":6011.915292,\"end\":14360.333152}}],[\"angle\",{\"type\":\"object\",\"name\":\"Range1d\",\"id\":\"p1649\",\"attributes\":{\"end\":90.0}}]]},\"title\":{\"type\":\"object\",\"name\":\"Title\",\"id\":\"p1614\",\"attributes\":{\"text\":\"Miller-2024-championship-official R5_18-49-36:v1\",\"text_color\":\"#E0E0E0\",\"text_font\":\"Helvetica\",\"text_font_size\":\"1.15em\"}},\"outline_line_color\":\"#E0E0E0\",\"outline_line_alpha\":0.25,\"renderers\":[{\"type\":\"object\",\"name\":\"GlyphRenderer\",\"id\":\"p1664\",\"attributes\":{\"y_range_name\":\"altitudeFt\",\"data_source\":{\"type\":\"object\",\"name\":\"ColumnDataSource\",\"id\":\"p1658\",\"attributes\":{\"selected\":{\"type\":\"object\",\"name\":\"Selection\",\"id\":\"p1659\",\"attributes\":{\"indices\":[],\"line_indices\":[]}},\"selection_policy\":{\"type\":\"object\",\"name\":\"UnionRenderers\",\"id\":\"p1660\"},\"data\":{\"type\":\"map\",\"entries\":[[\"x\",{\"type\":\"ndarray\",\"array\":{\"type\":\"bytes\",\"data\":\"AAAAAAAAAAAAAAAAmJnJPwAAAACZmdk/AAAAADMz4z8AAACAmZnpPwAAAAAAAPA/AAAAADMz8z8AAABAZmb2PwAAAICZmfk/AAAAwMzM/D8AAAAAAAAAQAAAAICZmQFAAAAAIDMzA0AAAADAzMwEQAAAAGBmZgZAAAAAAAAACEAAAACAmZkJQAAAACAzMwtAAAAAwMzMDEAAAABgZmYOQAAAAAAAABBAAAAAwMzMEEAAAACQmZkRQAAAAGBmZhJAAAAAMDMzE0AAAAAAAAAUQAAAAMDMzBRAAAAAkJmZFUAAAABgZmYWQAAAADAzMxdAAAAAAAAAGEAAAADAzMwYQAAAAJCZmRlAAAAAYGZmGkAAAAAwMzMbQAAAAAAAABxAAAAAwMzMHEAAAACQmZkdQAAAAGBmZh5AAAAAMDMzH0AAAAAAAAAgQAAAAGBmZiBAAAAAyMzMIEAAAAAwMzMhQAAAAJiZmSFAAAAAAAAAIkAAAABgZmYiQAAAAMjMzCJAAAAAMDMzI0AAAACYmZkjQAAAAAAAACRAAAAAYGZmJEAAAADIzMwkQAAAADAzMyVAAAAAmJmZJUAAAAAAAAAmQAAAAGBmZiZAAAAAyMzMJkAAAAAwMzMnQAAAAJiZmSdAAAAAAAAAKEAAAABgZmYoQAAAAMjMzChAAAAAMDMzKUAAAACYmZkpQAAAAAAAACpAAAAAYGZmKkAAAADIzMwqQAAAADAzMytAAAAAmJmZK0AAAAAAAAAsQAAAAGBmZixAAAAAyMzMLEAAAAAwMzMtQAAAAJiZmS1AAAAAAAAALkAAAABgZmYuQAAAAMjMzC5AAAAAMDMzL0AAAACYmZkvQAAAAAAAADBAAAAAMDMzMEAAAABkZmYwQAAAAJiZmTBAAAAAzMzMMEAAAAAAAAAxQAAAADAzMzFAAAAAZGZmMUAAAACYmZkxQAAAAMzMzDFAAAAAAAAAMkAAAAAwMzMyQAAAAGRmZjJAAAAAmJmZMkAAAADMzMwyQAAAAAAAADNAAAAAMDMzM0AAAABkZmYzQAAAAJiZmTNAAAAAzMzMM0AAAAAAAAA0QAAAADAzMzRAAAAAZGZmNEAAAACYmZk0QAAAAMzMzDRAAAAAAAAANUAAAAAwMzM1QAAAAGRmZjVAAAAAmJmZNUAAAADMzMw1QAAAAAAAADZAAAAAMDMzNkAAAABkZmY2QAAAAJiZmTZAAAAAzMzMNkAAAAAAAAA3QAAAADAzMzdAAAAAZGZmN0AAAACYmZk3QAAAAMzMzDdAAAAAAAAAOEAAAAAwMzM4QAAAAGRmZjhAAAAAmJmZOEAAAADMzMw4QAAAAAAAADlAAAAAMDMzOUAAAABkZmY5QAAAAJiZmTlAAAAAzMzMOUAAAAAAAAA6QAAAADAzMzpAAAAAZGZmOkAAAACYmZk6QAAAAMzMzDpAAAAAAAAAO0AAAAAwMzM7QAAAAGRmZjtAAAAAmJmZO0AAAADMzMw7QAAAAAAAADxAAAAAMDMzPEAAAABkZmY8QAAAAJiZmTxAAAAAzMzMPEAAAAAAAAA9QAAAADAzMz1AAAAAZGZmPUAAAACYmZk9QAAAAMzMzD1AAAAAAAAAPkAAAAAwMzM+QA==\"},\"shape\":[152],\"dtype\":\"float64\",\"order\":\"little\"}],[\"y\",{\"type\":\"ndarray\",\"array\":{\"type\":\"bytes\",\"data\":\"TIi5pCoSy0ApLRLJZhDLQCrVmdbBDctAysovg4EKy0AZF1gRpwbLQE2aUNJFAstAHCeFeVf9ykD5ILpWGfjKQEUJn1JK8spAPAREd+/rykCjKqbSL+XKQBoC2xwS3spAgvf6/3XWykAnWgOlWs7KQAYIiy/HxcpAHd8ow8K8ykBb1lgdTLPKQHvi781VqcpA6GTzguGeykAj0XBv85PKQGfKmMxyiMpA1gW8zHh8ykB7avXVDXDKQNGEN7UtY8pAHwE35sBVykA8Z7BO2kfKQJ3dWiaLOcpAvzT78sAqykDrd7wkiRvKQHRc13nNC8pA8d+8OLH7yUDEwCliH+vJQMUF+woN2slA4WHaN4fIyUCLHej8l7bJQPBTsCFDpMlA1L65v4qRyUBCZ4gZcH7JQKWMuAD8aslAw4sZPEdXyUAMCoMyRUPJQHzliwf9LslA5+A+F3IayUAT+vQzmAXJQLolg+1h8MhAnfsGgdjayEBC740hAMXIQEyGLYffrshAVqOyvGaYyEAhvNEipoHIQPL9HgakashA7750pFRTyEDauFkXujvIQCY07nLeI8hARfhy+q0LyECvb3GeK/PHQP+5w4Fz2sdAC95GuXrBx0BdcXFUPqjHQFzVSAHAjsdAYkDlTgd1x0Ca7zvhEFvHQPa3X5niQMdAarI1EXQmx0Deb/5w2QvHQNDAfj4A8cZAOz975P3VxkAHHb6WwbrGQP/Yf/hcn8ZAsEwJ0r6DxkDcD3hg8GfGQKwb7478S8ZAbL9rhuIvxkDckguEqxPGQH7nct5i98VALMR+qv3axUA4Pd6air7FQLR9fs4DosVAXdmqyYCFxUANmxJa6GjFQCng6HRKTMVAqQXlbJAvxUCo+6XqwxLFQHuZzYjH9cRAZqa0/rbYxEDCnEWUi7vEQJWe6SU+nsRAKfud3M2AxECSXi+oUmPEQAUo/AjCRcRAeRMyRiooxED3hgz1dQrEQDzW1pm87MNACLsXTgDPw0D/W27VIrHDQAlKG1g4k8NAqtbCLEx1w0CzZfm6PFfDQAuI/yoeOcNAiSJJtewaw0CXuETkovzCQDAGIP9O3sJAf8fw2M+/wkDxAAXNPaHCQGZcgp2kgsJAFX2Zg+tjwkCB1leyFkXCQLtxQWwnJsJA9y6UAjEHwkCGoR9XJOjBQFV8jW4OycFAWvorv9+pwUCyLQPOmorBQE8Nj1g+a8FAHEx5Y9dLwUBT7GgccizBQLfJTXkJDcFA860P65XtwEBMpNnhJM7AQKe8DLWsrsBAgaUEDiKPwECN7VrnjG/AQMEu1KsCUMBAUuo3uHEwwECx58ZPxhDAQBRCB11S4r9AKHM9GwOjv0BGLBhLl2O/QPL7SFtGJL9A6LsAoM/kvkC24QvucqW+QKyhwzL8Zb5A8vRKWXYmvkDwPKcP4+a9QIxn0NA/p71A3UL8aJ1nvUCiZkgVBSi9QKfydoRj6LxA2Lual76ovECMtPkkLGm8QBJwYw6dKbxAEri/xAnqu0ARABx7dqq7QO7xnfPuartAsxXqn1Yru0AiYpSx2+u6QFzOAHJNrLpA8rRXerhsukBkYHiAYi26QMuD9BQp7rlAHDix0QOvuUBKlpNQ6m+5QA==\"},\"shape\":[152],\"dtype\":\"float64\",\"order\":\"little\"}]]}}},\"view\":{\"type\":\"object\",\"name\":\"CDSView\",\"id\":\"p1665\",\"attributes\":{\"filter\":{\"type\":\"object\",\"name\":\"AllIndices\",\"id\":\"p1666\"}}},\"glyph\":{\"type\":\"object\",\"name\":\"Line\",\"id\":\"p1661\",\"attributes\":{\"x\":{\"type\":\"field\",\"field\":\"x\"},\"y\":{\"type\":\"field\",\"field\":\"y\"},\"line_color\":\"palegoldenrod\",\"line_width\":2}},\"nonselection_glyph\":{\"type\":\"object\",\"name\":\"Line\",\"id\":\"p1662\",\"attributes\":{\"x\":{\"type\":\"field\",\"field\":\"x\"},\"y\":{\"type\":\"field\",\"field\":\"y\"},\"line_color\":\"palegoldenrod\",\"line_alpha\":0.1,\"line_width\":2}},\"muted_glyph\":{\"type\":\"object\",\"name\":\"Line\",\"id\":\"p1663\",\"attributes\":{\"x\":{\"type\":\"field\",\"field\":\"x\"},\"y\":{\"type\":\"field\",\"field\":\"y\"},\"line_color\":\"palegoldenrod\",\"line_alpha\":0.2,\"line_width\":2}}}},{\"type\":\"object\",\"name\":\"GlyphRenderer\",\"id\":\"p1675\",\"attributes\":{\"y_range_name\":\"angle\",\"data_source\":{\"type\":\"object\",\"name\":\"ColumnDataSource\",\"id\":\"p1669\",\"attributes\":{\"selected\":{\"type\":\"object\",\"name\":\"Selection\",\"id\":\"p1670\",\"attributes\":{\"indices\":[],\"line_indices\":[]}},\"selection_policy\":{\"type\":\"object\",\"name\":\"UnionRenderers\",\"id\":\"p1671\"},\"data\":{\"type\":\"map\",\"entries\":[[\"x\",{\"type\":\"ndarray\",\"array\":{\"type\":\"bytes\",\"data\":\"AAAAAAAAAAAAAAAAmJnJPwAAAACZmdk/AAAAADMz4z8AAACAmZnpPwAAAAAAAPA/AAAAADMz8z8AAABAZmb2PwAAAICZmfk/AAAAwMzM/D8AAAAAAAAAQAAAAICZmQFAAAAAIDMzA0AAAADAzMwEQAAAAGBmZgZAAAAAAAAACEAAAACAmZkJQAAAACAzMwtAAAAAwMzMDEAAAABgZmYOQAAAAAAAABBAAAAAwMzMEEAAAACQmZkRQAAAAGBmZhJAAAAAMDMzE0AAAAAAAAAUQAAAAMDMzBRAAAAAkJmZFUAAAABgZmYWQAAAADAzMxdAAAAAAAAAGEAAAADAzMwYQAAAAJCZmRlAAAAAYGZmGkAAAAAwMzMbQAAAAAAAABxAAAAAwMzMHEAAAACQmZkdQAAAAGBmZh5AAAAAMDMzH0AAAAAAAAAgQAAAAGBmZiBAAAAAyMzMIEAAAAAwMzMhQAAAAJiZmSFAAAAAAAAAIkAAAABgZmYiQAAAAMjMzCJAAAAAMDMzI0AAAACYmZkjQAAAAAAAACRAAAAAYGZmJEAAAADIzMwkQAAAADAzMyVAAAAAmJmZJUAAAAAAAAAmQAAAAGBmZiZAAAAAyMzMJkAAAAAwMzMnQAAAAJiZmSdAAAAAAAAAKEAAAABgZmYoQAAAAMjMzChAAAAAMDMzKUAAAACYmZkpQAAAAAAAACpAAAAAYGZmKkAAAADIzMwqQAAAADAzMytAAAAAmJmZK0AAAAAAAAAsQAAAAGBmZixAAAAAyMzMLEAAAAAwMzMtQAAAAJiZmS1AAAAAAAAALkAAAABgZmYuQAAAAMjMzC5AAAAAMDMzL0AAAACYmZkvQAAAAAAAADBAAAAAMDMzMEAAAABkZmYwQAAAAJiZmTBAAAAAzMzMMEAAAAAAAAAxQAAAADAzMzFAAAAAZGZmMUAAAACYmZkxQAAAAMzMzDFAAAAAAAAAMkAAAAAwMzMyQAAAAGRmZjJAAAAAmJmZMkAAAADMzMwyQAAAAAAAADNAAAAAMDMzM0AAAABkZmYzQAAAAJiZmTNAAAAAzMzMM0AAAAAAAAA0QAAAADAzMzRAAAAAZGZmNEAAAACYmZk0QAAAAMzMzDRAAAAAAAAANUAAAAAwMzM1QAAAAGRmZjVAAAAAmJmZNUAAAADMzMw1QAAAAAAAADZAAAAAMDMzNkAAAABkZmY2QAAAAJiZmTZAAAAAzMzMNkAAAAAAAAA3QAAAADAzMzdAAAAAZGZmN0AAAACYmZk3QAAAAMzMzDdAAAAAAAAAOEAAAAAwMzM4QAAAAGRmZjhAAAAAmJmZOEAAAADMzMw4QAAAAAAAADlAAAAAMDMzOUAAAABkZmY5QAAAAJiZmTlAAAAAzMzMOUAAAAAAAAA6QAAAADAzMzpAAAAAZGZmOkAAAACYmZk6QAAAAMzMzDpAAAAAAAAAO0AAAAAwMzM7QAAAAGRmZjtAAAAAmJmZO0AAAADMzMw7QAAAAAAAADxAAAAAMDMzPEAAAABkZmY8QAAAAJiZmTxAAAAAzMzMPEAAAAAAAAA9QAAAADAzMz1AAAAAZGZmPUAAAACYmZk9QAAAAMzMzD1AAAAAAAAAPkAAAAAwMzM+QA==\"},\"shape\":[152],\"dtype\":\"float64\",\"order\":\"little\"}],[\"y\",{\"type\":\"ndarray\",\"array\":{\"type\":\"bytes\",\"data\":\"MzMzMzMzG0AAAAAAAAAeQAAAAAAAACNAZmZmZmZmJkCamZmZmZkqQGZmZmZmZi5AZmZmZmbmMEBmZmZmZmYyQJqZmZmZGTRAAAAAAAAANkBmZmZmZmY3QAAAAAAAADlAAAAAAACAOkAzMzMzMzM8QM3MzMzMzD1AZmZmZmZmP0BmZmZmZmZAQGZmZmZmJkFAZmZmZmbmQUBmZmZmZqZCQM3MzMzMTENAMzMzMzPzQ0CamZmZmZlEQDMzMzMzM0VAmpmZmZnZRUAzMzMzM3NGQM3MzMzMDEdAmpmZmZmZR0BmZmZmZiZIQAAAAAAAwEhAMzMzMzMzSUAzMzMzM7NJQAAAAAAAQEpAZmZmZmamSkCamZmZmRlLQM3MzMzMjEtAZmZmZmbmS0AzMzMzMzNMQDMzMzMzc0xAZmZmZmamTECamZmZmdlMQGZmZmZmJk1AAAAAAABATUBmZmZmZqZNQGZmZmZm5k1AZmZmZmYmTkAzMzMzM3NOQDMzMzMzs05AZmZmZmbmTkBmZmZmZiZPQDMzMzMzc09AZmZmZmamT0BmZmZmZuZPQM3MzMzMDFBAZmZmZmYmUEAAAAAAAEBQQM3MzMzMTFBAAAAAAABgUEAzMzMzM3NQQDMzMzMzk1BAZmZmZmamUEAAAAAAAMBQQJqZmZmZ2VBAzczMzMzsUEAAAAAAAABRQDMzMzMzE1FAAAAAAAAgUUDNzMzMzCxRQJqZmZmZOVFAmpmZmZk5UUBmZmZmZkZRQM3MzMzMTFFAzczMzMxMUUDNzMzMzExRQDMzMzMzU1FAzczMzMxMUUCamZmZmVlRQM3MzMzMTFFAMzMzMzNTUUBmZmZmZkZRQM3MzMzMTFFAmpmZmZlZUUDNzMzMzGxRQAAAAAAAgFFAzczMzMyMUUAAAAAAAKBRQJqZmZmZuVFAZmZmZmbGUUCamZmZmdlRQJqZmZmZ2VFAAAAAAADgUUBmZmZmZuZRQM3MzMzM7FFAmpmZmZn5UUDNzMzMzAxSQJqZmZmZGVJAzczMzMwsUkAzMzMzMzNSQGZmZmZmRlJAmpmZmZlZUkDNzMzMzGxSQGZmZmZmhlJAMzMzMzOTUkDNzMzMzKxSQJqZmZmZuVJAAAAAAADAUkDNzMzMzMxSQM3MzMzMzFJAmpmZmZnZUkBmZmZmZuZSQM3MzMzM7FJAmpmZmZn5UkAzMzMzM/NSQDMzMzMz81JAzczMzMzsUkBmZmZmZuZSQGZmZmZmBlNAzczMzMwMU0AAAAAAACBTQAAAAAAAIFNAZmZmZmYmU0DNzMzMzCxTQM3MzMzMLFNAZmZmZmZGU0BmZmZmZkZTQJqZmZmZWVNAzczMzMxsU0AzMzMzM3NTQAAAAAAAgFNAAAAAAACAU0AAAAAAAIBTQM3MzMzMjFNAZmZmZmaGU0BmZmZmZoZTQGZmZmZmhlNAZmZmZmaGU0BmZmZmZoZTQGZmZmZmhlNAmpmZmZl5U0BmZmZmZmZTQJqZmZmZWVNAMzMzMzNTU0AAAAAAAEBTQJqZmZmZOVNAMzMzMzMzU0DNzMzMzCxTQGZmZmZmJlNAmpmZmZkZU0BmZmZmZgZTQDMzMzMzE1NAMzMzMzMTU0BmZmZmZgZTQA==\"},\"shape\":[152],\"dtype\":\"float64\",\"order\":\"little\"}]]}}},\"view\":{\"type\":\"object\",\"name\":\"CDSView\",\"id\":\"p1676\",\"attributes\":{\"filter\":{\"type\":\"object\",\"name\":\"AllIndices\",\"id\":\"p1677\"}}},\"glyph\":{\"type\":\"object\",\"name\":\"Line\",\"id\":\"p1672\",\"attributes\":{\"x\":{\"type\":\"field\",\"field\":\"x\"},\"y\":{\"type\":\"field\",\"field\":\"y\"},\"line_color\":\"deepskyblue\",\"line_width\":2}},\"nonselection_glyph\":{\"type\":\"object\",\"name\":\"Line\",\"id\":\"p1673\",\"attributes\":{\"x\":{\"type\":\"field\",\"field\":\"x\"},\"y\":{\"type\":\"field\",\"field\":\"y\"},\"line_color\":\"deepskyblue\",\"line_alpha\":0.1,\"line_width\":2}},\"muted_glyph\":{\"type\":\"object\",\"name\":\"Line\",\"id\":\"p1674\",\"attributes\":{\"x\":{\"type\":\"field\",\"field\":\"x\"},\"y\":{\"type\":\"field\",\"field\":\"y\"},\"line_color\":\"deepskyblue\",\"line_alpha\":0.2,\"line_width\":2}}}},{\"type\":\"object\",\"name\":\"GlyphRenderer\",\"id\":\"p1686\",\"attributes\":{\"data_source\":{\"type\":\"object\",\"name\":\"ColumnDataSource\",\"id\":\"p1680\",\"attributes\":{\"selected\":{\"type\":\"object\",\"name\":\"Selection\",\"id\":\"p1681\",\"attributes\":{\"indices\":[],\"line_indices\":[]}},\"selection_policy\":{\"type\":\"object\",\"name\":\"UnionRenderers\",\"id\":\"p1682\"},\"data\":{\"type\":\"map\",\"entries\":[[\"x\",{\"type\":\"ndarray\",\"array\":{\"type\":\"bytes\",\"data\":\"AAAAAAAAAAAAAAAAmJnJPwAAAACZmdk/AAAAADMz4z8AAACAmZnpPwAAAAAAAPA/AAAAADMz8z8AAABAZmb2PwAAAICZmfk/AAAAwMzM/D8AAAAAAAAAQAAAAICZmQFAAAAAIDMzA0AAAADAzMwEQAAAAGBmZgZAAAAAAAAACEAAAACAmZkJQAAAACAzMwtAAAAAwMzMDEAAAABgZmYOQAAAAAAAABBAAAAAwMzMEEAAAACQmZkRQAAAAGBmZhJAAAAAMDMzE0AAAAAAAAAUQAAAAMDMzBRAAAAAkJmZFUAAAABgZmYWQAAAADAzMxdAAAAAAAAAGEAAAADAzMwYQAAAAJCZmRlAAAAAYGZmGkAAAAAwMzMbQAAAAAAAABxAAAAAwMzMHEAAAACQmZkdQAAAAGBmZh5AAAAAMDMzH0AAAAAAAAAgQAAAAGBmZiBAAAAAyMzMIEAAAAAwMzMhQAAAAJiZmSFAAAAAAAAAIkAAAABgZmYiQAAAAMjMzCJAAAAAMDMzI0AAAACYmZkjQAAAAAAAACRAAAAAYGZmJEAAAADIzMwkQAAAADAzMyVAAAAAmJmZJUAAAAAAAAAmQAAAAGBmZiZAAAAAyMzMJkAAAAAwMzMnQAAAAJiZmSdAAAAAAAAAKEAAAABgZmYoQAAAAMjMzChAAAAAMDMzKUAAAACYmZkpQAAAAAAAACpAAAAAYGZmKkAAAADIzMwqQAAAADAzMytAAAAAmJmZK0AAAAAAAAAsQAAAAGBmZixAAAAAyMzMLEAAAAAwMzMtQAAAAJiZmS1AAAAAAAAALkAAAABgZmYuQAAAAMjMzC5AAAAAMDMzL0AAAACYmZkvQAAAAAAAADBAAAAAMDMzMEAAAABkZmYwQAAAAJiZmTBAAAAAzMzMMEAAAAAAAAAxQAAAADAzMzFAAAAAZGZmMUAAAACYmZkxQAAAAMzMzDFAAAAAAAAAMkAAAAAwMzMyQAAAAGRmZjJAAAAAmJmZMkAAAADMzMwyQAAAAAAAADNAAAAAMDMzM0AAAABkZmYzQAAAAJiZmTNAAAAAzMzMM0AAAAAAAAA0QAAAADAzMzRAAAAAZGZmNEAAAACYmZk0QAAAAMzMzDRAAAAAAAAANUAAAAAwMzM1QAAAAGRmZjVAAAAAmJmZNUAAAADMzMw1QAAAAAAAADZAAAAAMDMzNkAAAABkZmY2QAAAAJiZmTZAAAAAzMzMNkAAAAAAAAA3QAAAADAzMzdAAAAAZGZmN0AAAACYmZk3QAAAAMzMzDdAAAAAAAAAOEAAAAAwMzM4QAAAAGRmZjhAAAAAmJmZOEAAAADMzMw4QAAAAAAAADlAAAAAMDMzOUAAAABkZmY5QAAAAJiZmTlAAAAAzMzMOUAAAAAAAAA6QAAAADAzMzpAAAAAZGZmOkAAAACYmZk6QAAAAMzMzDpAAAAAAAAAO0AAAAAwMzM7QAAAAGRmZjtAAAAAmJmZO0AAAADMzMw7QAAAAAAAADxAAAAAMDMzPEAAAABkZmY8QAAAAJiZmTxAAAAAzMzMPEAAAAAAAAA9QAAAADAzMz1AAAAAZGZmPUAAAACYmZk9QAAAAMzMzD1AAAAAAAAAPkAAAAAwMzM+QA==\"},\"shape\":[152],\"dtype\":\"float64\",\"order\":\"little\"}],[\"y\",{\"type\":\"ndarray\",\"array\":{\"type\":\"bytes\",\"data\":\"iBbZzvdTN0B7FK5H4Xo4QBFYObTIdj9A+n5qvHSTQkBI4XoUrsdFQDEIrBxapEhArkfhehQuS0Bcj8L1KJxNQHWTGARWDlBA6iYxCKx8UUD2KFyPwpVSQLkehetR2FNAj8L1KFwPVUD4U+Olm4RWQLtJDAIrx1dARIts5/spWUASg8DKoWVaQJduEoPAyltARbbz/dQYXUC28/3UeIleQG3n+6nx0l9AlBgEVg6NYEBQjZduEkNhQDZeukkM4mFAC9ejcD2KYkDZzvdT4zVjQKrx0k1i4GNAexSuR+GKZEB9PzVeuhllQEjhehSux2VAKVyPwvVoZkAfhetRuP5mQOF6FK5HsWdA+n5qvHQzaEDufD81XspoQN9PjZduYmlAEVg5tMjWaUAOLbKd72dqQGmR7Xw/xWpAtMh2vp8qa0AZBFYOLYJrQFCNl24S82tA2c73U+M1bEDP91PjpctsQCcxCKwcKm1AVzm0yHaebUCF61G4HhVuQMh2vp8af25A8KfGSzf5bkBbZDvfT01vQIKVQ4tsx29AexSuR+EKcECR7Xw/NUZwQLTIdr6fenBAUI2XbhKzcECBlUOLbN9wQESLbOf7AXFAZDvfT403cUCkcD0K11txQMdLN4lBkHFAFK5H4XqscUC7SQwCK99xQHnpJjEIBHJANl66SQwqckB9PzVeuklyQLbz/dR4cXJABFYOLbKNckC8dJMYBLZyQIgW2c7303JATDeJQWD1ckAMAiuHFhlzQNijcD0KN3NAPN9PjZdGc0AaL90kBllzQOxRuB6Fc3NAbef7qfFyc0C7SQwCK49zQNEi2/l+gnNApHA9Ctebc0C0yHa+n5JzQBFYObTIpnNAgZVDi2yvc0DRItv5fspzQDEIrBxa3HNAlBgEVg7tc0Db+X5qvAx0QDZeukkMInRALbKd76cmdEAAAAAAAEB0QIXrUbgePXRAaZHtfD9NdEDP91PjpVt0QM/3U+OlW3RAJQaBlUNzdEAGgZVDi4R0QIgW2c73g3RAYxBYObSYdEDhehSuR5l0QMdLN4lBqHRAH4XrUbi+dEAhsHJokb10QOf7qfHS3XRAXI/C9SjkdEC5HoXrUfh0QCcxCKwcAnVADi2yne8PdUBWDi2ynS91QFg5tMh2LnVAvHSTGAQ+dUASg8DKoVV1QKabxCCwSnVAbxKDwMppdUDufD81Xmp1QNEi2/l+enVATmIQWDl8dUBh5dAi23F1QCuHFtnOj3VAyXa+nxp/dUCgGi/dJJZ1QMUgsHJogXVAHVpkO9+XdUCBlUOLbKd1QCGwcmiRlXVA9P3UeOmudUAIrBxaZKN1QAAAAAAAqHVA9ihcj8KtdUD6fmq8dKt1QHWTGARWrnVA5KWbxCC4dUACK4cW2aZ1QM/3U+Olw3VAXI/C9Si8dUA830+Nl851QEjhehSux3VAQmDl0CLLdUC8dJMYBM51QLbz/dR40XVARIts5/vJdUBFtvP91Mh1QGMQWDm0uHVAUrgehevBdUBeukkMArt1QFK4HoXrwXVA3iQGgZW7dUBkO99Pjbd1QFK4HoXrwXVA2KNwPQq/dUCXbhKDwJp1QHnpJjEIrHVAGQRWDi2adUDhehSuR3F1QA==\"},\"shape\":[152],\"dtype\":\"float64\",\"order\":\"little\"}]]}}},\"view\":{\"type\":\"object\",\"name\":\"CDSView\",\"id\":\"p1687\",\"attributes\":{\"filter\":{\"type\":\"object\",\"name\":\"AllIndices\",\"id\":\"p1688\"}}},\"glyph\":{\"type\":\"object\",\"name\":\"Line\",\"id\":\"p1683\",\"attributes\":{\"x\":{\"type\":\"field\",\"field\":\"x\"},\"y\":{\"type\":\"field\",\"field\":\"y\"},\"line_color\":\"limegreen\",\"line_width\":2}},\"nonselection_glyph\":{\"type\":\"object\",\"name\":\"Line\",\"id\":\"p1684\",\"attributes\":{\"x\":{\"type\":\"field\",\"field\":\"x\"},\"y\":{\"type\":\"field\",\"field\":\"y\"},\"line_color\":\"limegreen\",\"line_alpha\":0.1,\"line_width\":2}},\"muted_glyph\":{\"type\":\"object\",\"name\":\"Line\",\"id\":\"p1685\",\"attributes\":{\"x\":{\"type\":\"field\",\"field\":\"x\"},\"y\":{\"type\":\"field\",\"field\":\"y\"},\"line_color\":\"limegreen\",\"line_alpha\":0.2,\"line_width\":2}}}},{\"type\":\"object\",\"name\":\"GlyphRenderer\",\"id\":\"p1696\",\"attributes\":{\"data_source\":{\"type\":\"object\",\"name\":\"ColumnDataSource\",\"id\":\"p1690\",\"attributes\":{\"selected\":{\"type\":\"object\",\"name\":\"Selection\",\"id\":\"p1691\",\"attributes\":{\"indices\":[],\"line_indices\":[]}},\"selection_policy\":{\"type\":\"object\",\"name\":\"UnionRenderers\",\"id\":\"p1692\"},\"data\":{\"type\":\"map\",\"entries\":[[\"x\",{\"type\":\"ndarray\",\"array\":{\"type\":\"bytes\",\"data\":\"AAAAAAAAAAAAAAAAmJnJPwAAAACZmdk/AAAAADMz4z8AAACAmZnpPwAAAAAAAPA/AAAAADMz8z8AAABAZmb2PwAAAICZmfk/AAAAwMzM/D8AAAAAAAAAQAAAAICZmQFAAAAAIDMzA0AAAADAzMwEQAAAAGBmZgZAAAAAAAAACEAAAACAmZkJQAAAACAzMwtAAAAAwMzMDEAAAABgZmYOQAAAAAAAABBAAAAAwMzMEEAAAACQmZkRQAAAAGBmZhJAAAAAMDMzE0AAAAAAAAAUQAAAAMDMzBRAAAAAkJmZFUAAAABgZmYWQAAAADAzMxdAAAAAAAAAGEAAAADAzMwYQAAAAJCZmRlAAAAAYGZmGkAAAAAwMzMbQAAAAAAAABxAAAAAwMzMHEAAAACQmZkdQAAAAGBmZh5AAAAAMDMzH0AAAAAAAAAgQAAAAGBmZiBAAAAAyMzMIEAAAAAwMzMhQAAAAJiZmSFAAAAAAAAAIkAAAABgZmYiQAAAAMjMzCJAAAAAMDMzI0AAAACYmZkjQAAAAAAAACRAAAAAYGZmJEAAAADIzMwkQAAAADAzMyVAAAAAmJmZJUAAAAAAAAAmQAAAAGBmZiZAAAAAyMzMJkAAAAAwMzMnQAAAAJiZmSdAAAAAAAAAKEAAAABgZmYoQAAAAMjMzChAAAAAMDMzKUAAAACYmZkpQAAAAAAAACpAAAAAYGZmKkAAAADIzMwqQAAAADAzMytAAAAAmJmZK0AAAAAAAAAsQAAAAGBmZixAAAAAyMzMLEAAAAAwMzMtQAAAAJiZmS1AAAAAAAAALkAAAABgZmYuQAAAAMjMzC5AAAAAMDMzL0AAAACYmZkvQAAAAAAAADBAAAAAMDMzMEAAAABkZmYwQAAAAJiZmTBAAAAAzMzMMEAAAAAAAAAxQAAAADAzMzFAAAAAZGZmMUAAAACYmZkxQAAAAMzMzDFAAAAAAAAAMkAAAAAwMzMyQAAAAGRmZjJAAAAAmJmZMkAAAADMzMwyQAAAAAAAADNAAAAAMDMzM0AAAABkZmYzQAAAAJiZmTNAAAAAzMzMM0AAAAAAAAA0QAAAADAzMzRAAAAAZGZmNEAAAACYmZk0QAAAAMzMzDRAAAAAAAAANUAAAAAwMzM1QAAAAGRmZjVAAAAAmJmZNUAAAADMzMw1QAAAAAAAADZAAAAAMDMzNkAAAABkZmY2QAAAAJiZmTZAAAAAzMzMNkAAAAAAAAA3QAAAADAzMzdAAAAAZGZmN0AAAACYmZk3QAAAAMzMzDdAAAAAAAAAOEAAAAAwMzM4QAAAAGRmZjhAAAAAmJmZOEAAAADMzMw4QAAAAAAAADlAAAAAMDMzOUAAAABkZmY5QAAAAJiZmTlAAAAAzMzMOUAAAAAAAAA6QAAAADAzMzpAAAAAZGZmOkAAAACYmZk6QAAAAMzMzDpAAAAAAAAAO0AAAAAwMzM7QAAAAGRmZjtAAAAAmJmZO0AAAADMzMw7QAAAAAAAADxAAAAAMDMzPEAAAABkZmY8QAAAAJiZmTxAAAAAzMzMPEAAAAAAAAA9QAAAADAzMz1AAAAAZGZmPUAAAACYmZk9QAAAAMzMzD1AAAAAAAAAPkAAAAAwMzM+QA==\"},\"shape\":[152],\"dtype\":\"float64\",\"order\":\"little\"}],[\"y\",{\"type\":\"ndarray\",\"array\":{\"type\":\"bytes\",\"data\":\"bA2WZAqVaEAzfiIDnzxnQMEDHqTYnWdAEyarITNbZ0AXYbDAjQhnQHn80MpGuGZATqRgJT9oZkBZ1K2p8zRmQAvpVTfF5WVAjXm3LyKsZUCX0jDvwXVlQPsitjkUSmVAUsGYXLIfZUDmuELR6vxkQD7OH8Wnx2RAdmc2DcmjZEBjcbZh14FkQK4bSiNNZWRAh7wtKeI0ZEBWuCecOBFkQD3M9LFP8mNA7XBhdGfTY0DOvt19xbBjQOF9LQrekWNAA+RqSRVhY0DYb2Iwvz5jQLtFGmfrG2NAMt+XQIUBY0Di9aEa181iQHDldIaUm2JAG9119pmGYkBh7CyBVVRiQEUHLn1ZMmJAGCp7FDgLYkCrusPaJORhQCbUMvGHumFA8wVCkaaTYUC1YuHcMIlhQGXqn+fdc2FAwSSJ5FpqYUDC6ujNL2JhQBz1pJzLPGFATFdLCL9BYUBAeKmtVRZhQNXg8wby+mBABqPcXALrYECn2T1/VcFgQPk2tlisnWBAWd4r5pSTYEDe1fKEEXZgQP6zyJaTS2BAK2B9kxEnYEBJ7iM2TglgQJoYvOtfzF9Aun8IqlOvX0Cb6iieOYdfQLcLMEMQc19AbouyKBhaX0Di99yLejxfQLYri7JB6V5AeRFgScWiXkC3fgEjuFReQNW8ldvLCF5ArkX+qjTFXUBK5FddpotdQGGeaUaqbl1Ax8XOPUo9XUAX1eJMmytdQGiLER8CFF1A4lmyOooxXUCba8b2qD5dQPtO4UWhNl1Ao31J+o9PXUDiiTpvY21dQOZkazeCal1Auhu/ctSUXUCRpY0bFHddQKxzj5KTqV1AD3phWn2lXUC5N9u63dldQGW8TVb5yl1AAD2JffCHXUAUJOdPVzxdQIoI+ng87FxAzEFM/ImtXEDtyK2AeFpcQO9VDy9x1VtAoQpKaMSdW0Ciw7ioclNbQKaAjCGEK1tARnkpo38rW0D8ctlIKgVbQK78zWVl8lpARbBRCDixWkA6b8vv419aQJML6JRLDVpA2anpAzC1WUCgizqArYJZQIVqEJdaIllAJN+KLY+yWECf3eXxQT1YQBjOEBsAv1dA2HfNrg6FV0CfirdE6PBWQOM6WmfhpFZA5KWbxCCQVkAdWmQ7329WQGMIPAlvaVZAZqf46w0pVkBcNmeJrPZVQGsSB2oLxlVA9lDHUh2NVUCUrTuNA6RVQG5+DAKNvVVA7ZujZJHaVUBdUP7zrPhVQMdExpdPaVVAtaHue68WVUA6u5lW385UQDAfonkpnFRAuBFW4h+FVECIPy3+QGdUQIemJYt1c1RAtxxwwGjuU0Co+DRBdstTQPYeaHWTVVNANectOT77UkCu2K9y871SQHL6GJ40gVJAZFDr2CRxUkBr+LCdYG1SQGPOcBP1QFJAOqykhzVaUkBwL34ImVdSQP8dc6vaWFJApbqZl0hNUkB8WD3YmFhSQGxiOaRfUVJADhZAKqamUkBtVcpjzR1TQP8pRMuNflNA197SoxaoU0B5SWcI0ghUQD04r0n+SVRAf6sBuYpoVEDYfwzXXYVUQOVwONO5z1RAcY1Zds4YVUA4ZquIHGtVQN4aUqooFFVAxuSRgnoUVUAY05yGjT5VQA==\"},\"shape\":[152],\"dtype\":\"float64\",\"order\":\"little\"}]]}}},\"view\":{\"type\":\"object\",\"name\":\"CDSView\",\"id\":\"p1697\",\"attributes\":{\"filter\":{\"type\":\"object\",\"name\":\"AllIndices\",\"id\":\"p1698\"}}},\"glyph\":{\"type\":\"object\",\"name\":\"Line\",\"id\":\"p1693\",\"attributes\":{\"x\":{\"type\":\"field\",\"field\":\"x\"},\"y\":{\"type\":\"field\",\"field\":\"y\"},\"line_color\":\"red\",\"line_width\":2}},\"nonselection_glyph\":{\"type\":\"object\",\"name\":\"Line\",\"id\":\"p1694\",\"attributes\":{\"x\":{\"type\":\"field\",\"field\":\"x\"},\"y\":{\"type\":\"field\",\"field\":\"y\"},\"line_color\":\"red\",\"line_alpha\":0.1,\"line_width\":2}},\"muted_glyph\":{\"type\":\"object\",\"name\":\"Line\",\"id\":\"p1695\",\"attributes\":{\"x\":{\"type\":\"field\",\"field\":\"x\"},\"y\":{\"type\":\"field\",\"field\":\"y\"},\"line_color\":\"red\",\"line_alpha\":0.2,\"line_width\":2}}}},{\"type\":\"object\",\"name\":\"GlyphRenderer\",\"id\":\"p1706\",\"attributes\":{\"data_source\":{\"type\":\"object\",\"name\":\"ColumnDataSource\",\"id\":\"p1700\",\"attributes\":{\"selected\":{\"type\":\"object\",\"name\":\"Selection\",\"id\":\"p1701\",\"attributes\":{\"indices\":[],\"line_indices\":[]}},\"selection_policy\":{\"type\":\"object\",\"name\":\"UnionRenderers\",\"id\":\"p1702\"},\"data\":{\"type\":\"map\",\"entries\":[[\"x0\",[29.199999809265137]],[\"y0\",[0.0]],[\"x1\",[29.199999809265137]],[\"y1\",[348.2505]]]}}},\"view\":{\"type\":\"object\",\"name\":\"CDSView\",\"id\":\"p1707\",\"attributes\":{\"filter\":{\"type\":\"object\",\"name\":\"AllIndices\",\"id\":\"p1708\"}}},\"glyph\":{\"type\":\"object\",\"name\":\"Segment\",\"id\":\"p1703\",\"attributes\":{\"x0\":{\"type\":\"field\",\"field\":\"x0\"},\"y0\":{\"type\":\"field\",\"field\":\"y0\"},\"x1\":{\"type\":\"field\",\"field\":\"x1\"},\"y1\":{\"type\":\"field\",\"field\":\"y1\"},\"line_color\":{\"type\":\"value\",\"value\":\"lightblue\"},\"line_width\":{\"type\":\"value\",\"value\":3}}},\"nonselection_glyph\":{\"type\":\"object\",\"name\":\"Segment\",\"id\":\"p1704\",\"attributes\":{\"x0\":{\"type\":\"field\",\"field\":\"x0\"},\"y0\":{\"type\":\"field\",\"field\":\"y0\"},\"x1\":{\"type\":\"field\",\"field\":\"x1\"},\"y1\":{\"type\":\"field\",\"field\":\"y1\"},\"line_color\":{\"type\":\"value\",\"value\":\"lightblue\"},\"line_alpha\":{\"type\":\"value\",\"value\":0.1},\"line_width\":{\"type\":\"value\",\"value\":3}}},\"muted_glyph\":{\"type\":\"object\",\"name\":\"Segment\",\"id\":\"p1705\",\"attributes\":{\"x0\":{\"type\":\"field\",\"field\":\"x0\"},\"y0\":{\"type\":\"field\",\"field\":\"y0\"},\"x1\":{\"type\":\"field\",\"field\":\"x1\"},\"y1\":{\"type\":\"field\",\"field\":\"y1\"},\"line_color\":{\"type\":\"value\",\"value\":\"lightblue\"},\"line_alpha\":{\"type\":\"value\",\"value\":0.2},\"line_width\":{\"type\":\"value\",\"value\":3}}}}},{\"type\":\"object\",\"name\":\"GlyphRenderer\",\"id\":\"p1715\",\"attributes\":{\"data_source\":{\"type\":\"object\",\"name\":\"ColumnDataSource\",\"id\":\"p1709\",\"attributes\":{\"selected\":{\"type\":\"object\",\"name\":\"Selection\",\"id\":\"p1710\",\"attributes\":{\"indices\":[],\"line_indices\":[]}},\"selection_policy\":{\"type\":\"object\",\"name\":\"UnionRenderers\",\"id\":\"p1711\"},\"data\":{\"type\":\"map\",\"entries\":[[\"x0\",[30.699999809265137]],[\"y0\",[0.0]],[\"x1\",[30.699999809265137]],[\"y1\",[348.2505]]]}}},\"view\":{\"type\":\"object\",\"name\":\"CDSView\",\"id\":\"p1716\",\"attributes\":{\"filter\":{\"type\":\"object\",\"name\":\"AllIndices\",\"id\":\"p1717\"}}},\"glyph\":{\"type\":\"object\",\"name\":\"Segment\",\"id\":\"p1712\",\"attributes\":{\"x0\":{\"type\":\"field\",\"field\":\"x0\"},\"y0\":{\"type\":\"field\",\"field\":\"y0\"},\"x1\":{\"type\":\"field\",\"field\":\"x1\"},\"y1\":{\"type\":\"field\",\"field\":\"y1\"},\"line_color\":{\"type\":\"value\",\"value\":\"darkseagreen\"}}},\"nonselection_glyph\":{\"type\":\"object\",\"name\":\"Segment\",\"id\":\"p1713\",\"attributes\":{\"x0\":{\"type\":\"field\",\"field\":\"x0\"},\"y0\":{\"type\":\"field\",\"field\":\"y0\"},\"x1\":{\"type\":\"field\",\"field\":\"x1\"},\"y1\":{\"type\":\"field\",\"field\":\"y1\"},\"line_color\":{\"type\":\"value\",\"value\":\"darkseagreen\"},\"line_alpha\":{\"type\":\"value\",\"value\":0.1}}},\"muted_glyph\":{\"type\":\"object\",\"name\":\"Segment\",\"id\":\"p1714\",\"attributes\":{\"x0\":{\"type\":\"field\",\"field\":\"x0\"},\"y0\":{\"type\":\"field\",\"field\":\"y0\"},\"x1\":{\"type\":\"field\",\"field\":\"x1\"},\"y1\":{\"type\":\"field\",\"field\":\"y1\"},\"line_color\":{\"type\":\"value\",\"value\":\"darkseagreen\"},\"line_alpha\":{\"type\":\"value\",\"value\":0.2}}}}},{\"type\":\"object\",\"name\":\"GlyphRenderer\",\"id\":\"p1724\",\"attributes\":{\"data_source\":{\"type\":\"object\",\"name\":\"ColumnDataSource\",\"id\":\"p1718\",\"attributes\":{\"selected\":{\"type\":\"object\",\"name\":\"Selection\",\"id\":\"p1719\",\"attributes\":{\"indices\":[],\"line_indices\":[]}},\"selection_policy\":{\"type\":\"object\",\"name\":\"UnionRenderers\",\"id\":\"p1720\"},\"data\":{\"type\":\"map\",\"entries\":[[\"x0\",[27.699999809265137]],[\"y0\",[0.0]],[\"x1\",[27.699999809265137]],[\"y1\",[348.2505]]]}}},\"view\":{\"type\":\"object\",\"name\":\"CDSView\",\"id\":\"p1725\",\"attributes\":{\"filter\":{\"type\":\"object\",\"name\":\"AllIndices\",\"id\":\"p1726\"}}},\"glyph\":{\"type\":\"object\",\"name\":\"Segment\",\"id\":\"p1721\",\"attributes\":{\"x0\":{\"type\":\"field\",\"field\":\"x0\"},\"y0\":{\"type\":\"field\",\"field\":\"y0\"},\"x1\":{\"type\":\"field\",\"field\":\"x1\"},\"y1\":{\"type\":\"field\",\"field\":\"y1\"},\"line_color\":{\"type\":\"value\",\"value\":\"darkseagreen\"}}},\"nonselection_glyph\":{\"type\":\"object\",\"name\":\"Segment\",\"id\":\"p1722\",\"attributes\":{\"x0\":{\"type\":\"field\",\"field\":\"x0\"},\"y0\":{\"type\":\"field\",\"field\":\"y0\"},\"x1\":{\"type\":\"field\",\"field\":\"x1\"},\"y1\":{\"type\":\"field\",\"field\":\"y1\"},\"line_color\":{\"type\":\"value\",\"value\":\"darkseagreen\"},\"line_alpha\":{\"type\":\"value\",\"value\":0.1}}},\"muted_glyph\":{\"type\":\"object\",\"name\":\"Segment\",\"id\":\"p1723\",\"attributes\":{\"x0\":{\"type\":\"field\",\"field\":\"x0\"},\"y0\":{\"type\":\"field\",\"field\":\"y0\"},\"x1\":{\"type\":\"field\",\"field\":\"x1\"},\"y1\":{\"type\":\"field\",\"field\":\"y1\"},\"line_color\":{\"type\":\"value\",\"value\":\"darkseagreen\"},\"line_alpha\":{\"type\":\"value\",\"value\":0.2}}}}},{\"type\":\"object\",\"name\":\"GlyphRenderer\",\"id\":\"p1733\",\"attributes\":{\"data_source\":{\"type\":\"object\",\"name\":\"ColumnDataSource\",\"id\":\"p1727\",\"attributes\":{\"selected\":{\"type\":\"object\",\"name\":\"Selection\",\"id\":\"p1728\",\"attributes\":{\"indices\":[],\"line_indices\":[]}},\"selection_policy\":{\"type\":\"object\",\"name\":\"UnionRenderers\",\"id\":\"p1729\"},\"data\":{\"type\":\"map\",\"entries\":[[\"x\",[29.199999809265137]],[\"y\",[348.2505]],[\"size\",[20]]]}}},\"view\":{\"type\":\"object\",\"name\":\"CDSView\",\"id\":\"p1734\",\"attributes\":{\"filter\":{\"type\":\"object\",\"name\":\"AllIndices\",\"id\":\"p1735\"}}},\"glyph\":{\"type\":\"object\",\"name\":\"Scatter\",\"id\":\"p1730\",\"attributes\":{\"x\":{\"type\":\"field\",\"field\":\"x\"},\"y\":{\"type\":\"field\",\"field\":\"y\"},\"size\":{\"type\":\"field\",\"field\":\"size\"},\"line_color\":{\"type\":\"value\",\"value\":\"lightblue\"},\"line_width\":{\"type\":\"value\",\"value\":3},\"fill_color\":{\"type\":\"value\",\"value\":null},\"marker\":{\"type\":\"value\",\"value\":\"square_cross\"}}},\"nonselection_glyph\":{\"type\":\"object\",\"name\":\"Scatter\",\"id\":\"p1731\",\"attributes\":{\"x\":{\"type\":\"field\",\"field\":\"x\"},\"y\":{\"type\":\"field\",\"field\":\"y\"},\"size\":{\"type\":\"field\",\"field\":\"size\"},\"line_color\":{\"type\":\"value\",\"value\":\"lightblue\"},\"line_alpha\":{\"type\":\"value\",\"value\":0.1},\"line_width\":{\"type\":\"value\",\"value\":3},\"fill_color\":{\"type\":\"value\",\"value\":null},\"fill_alpha\":{\"type\":\"value\",\"value\":0.1},\"hatch_alpha\":{\"type\":\"value\",\"value\":0.1},\"marker\":{\"type\":\"value\",\"value\":\"square_cross\"}}},\"muted_glyph\":{\"type\":\"object\",\"name\":\"Scatter\",\"id\":\"p1732\",\"attributes\":{\"x\":{\"type\":\"field\",\"field\":\"x\"},\"y\":{\"type\":\"field\",\"field\":\"y\"},\"size\":{\"type\":\"field\",\"field\":\"size\"},\"line_color\":{\"type\":\"value\",\"value\":\"lightblue\"},\"line_alpha\":{\"type\":\"value\",\"value\":0.2},\"line_width\":{\"type\":\"value\",\"value\":3},\"fill_color\":{\"type\":\"value\",\"value\":null},\"fill_alpha\":{\"type\":\"value\",\"value\":0.2},\"hatch_alpha\":{\"type\":\"value\",\"value\":0.2},\"marker\":{\"type\":\"value\",\"value\":\"square_cross\"}}}}}],\"toolbar\":{\"type\":\"object\",\"name\":\"Toolbar\",\"id\":\"p1620\",\"attributes\":{\"tools\":[{\"type\":\"object\",\"name\":\"PanTool\",\"id\":\"p1635\"},{\"type\":\"object\",\"name\":\"WheelZoomTool\",\"id\":\"p1636\",\"attributes\":{\"renderers\":\"auto\"}},{\"type\":\"object\",\"name\":\"BoxZoomTool\",\"id\":\"p1637\",\"attributes\":{\"overlay\":{\"type\":\"object\",\"name\":\"BoxAnnotation\",\"id\":\"p1638\",\"attributes\":{\"syncable\":false,\"line_color\":\"black\",\"line_alpha\":1.0,\"line_width\":2,\"line_dash\":[4,4],\"fill_color\":\"lightgrey\",\"fill_alpha\":0.5,\"level\":\"overlay\",\"visible\":false,\"left\":{\"type\":\"number\",\"value\":\"nan\"},\"right\":{\"type\":\"number\",\"value\":\"nan\"},\"top\":{\"type\":\"number\",\"value\":\"nan\"},\"bottom\":{\"type\":\"number\",\"value\":\"nan\"},\"left_units\":\"canvas\",\"right_units\":\"canvas\",\"top_units\":\"canvas\",\"bottom_units\":\"canvas\",\"handles\":{\"type\":\"object\",\"name\":\"BoxInteractionHandles\",\"id\":\"p1644\",\"attributes\":{\"all\":{\"type\":\"object\",\"name\":\"AreaVisuals\",\"id\":\"p1643\",\"attributes\":{\"fill_color\":\"white\",\"hover_fill_color\":\"lightgray\"}}}}}}}},{\"type\":\"object\",\"name\":\"SaveTool\",\"id\":\"p1645\"},{\"type\":\"object\",\"name\":\"ResetTool\",\"id\":\"p1646\"},{\"type\":\"object\",\"name\":\"HelpTool\",\"id\":\"p1647\"},{\"type\":\"object\",\"name\":\"HoverTool\",\"id\":\"p1679\",\"attributes\":{\"renderers\":\"auto\",\"tooltips\":[[\"Y-val\",\"@y{0.00}\"]]}}]}},\"left\":[{\"type\":\"object\",\"name\":\"LinearAxis\",\"id\":\"p1630\",\"attributes\":{\"ticker\":{\"type\":\"object\",\"name\":\"BasicTicker\",\"id\":\"p1631\",\"attributes\":{\"mantissas\":[1,2,5]}},\"formatter\":{\"type\":\"object\",\"name\":\"BasicTickFormatter\",\"id\":\"p1632\"},\"axis_label\":\"km/h\",\"axis_label_standoff\":10,\"axis_label_text_color\":\"#E0E0E0\",\"axis_label_text_font\":\"Helvetica\",\"axis_label_text_font_size\":\"1.25em\",\"axis_label_text_font_style\":\"normal\",\"major_label_policy\":{\"type\":\"object\",\"name\":\"AllLabels\",\"id\":\"p1633\"},\"major_label_text_color\":\"#E0E0E0\",\"major_label_text_font\":\"Helvetica\",\"major_label_text_font_size\":\"1.025em\",\"axis_line_color\":\"#E0E0E0\",\"axis_line_alpha\":0,\"major_tick_line_color\":\"#E0E0E0\",\"major_tick_line_alpha\":0,\"minor_tick_line_color\":\"#E0E0E0\",\"minor_tick_line_alpha\":0}},{\"type\":\"object\",\"name\":\"LinearAxis\",\"id\":\"p1650\",\"attributes\":{\"y_range_name\":\"altitudeFt\",\"ticker\":{\"type\":\"object\",\"name\":\"BasicTicker\",\"id\":\"p1651\",\"attributes\":{\"mantissas\":[1,2,5]}},\"formatter\":{\"type\":\"object\",\"name\":\"BasicTickFormatter\",\"id\":\"p1652\"},\"axis_label\":\"Alt (ft)\",\"axis_label_standoff\":10,\"axis_label_text_color\":\"#E0E0E0\",\"axis_label_text_font\":\"Helvetica\",\"axis_label_text_font_size\":\"1.25em\",\"axis_label_text_font_style\":\"normal\",\"major_label_policy\":{\"type\":\"object\",\"name\":\"AllLabels\",\"id\":\"p1653\"},\"major_label_text_color\":\"#E0E0E0\",\"major_label_text_font\":\"Helvetica\",\"major_label_text_font_size\":\"1.025em\",\"axis_line_color\":\"#E0E0E0\",\"axis_line_alpha\":0,\"major_tick_line_color\":\"#E0E0E0\",\"major_tick_line_alpha\":0,\"minor_tick_line_color\":\"#E0E0E0\",\"minor_tick_line_alpha\":0}},{\"type\":\"object\",\"name\":\"LinearAxis\",\"id\":\"p1654\",\"attributes\":{\"y_range_name\":\"angle\",\"ticker\":{\"type\":\"object\",\"name\":\"BasicTicker\",\"id\":\"p1655\",\"attributes\":{\"mantissas\":[1,2,5]}},\"formatter\":{\"type\":\"object\",\"name\":\"BasicTickFormatter\",\"id\":\"p1656\"},\"axis_label\":\"angle\",\"axis_label_standoff\":10,\"axis_label_text_color\":\"#E0E0E0\",\"axis_label_text_font\":\"Helvetica\",\"axis_label_text_font_size\":\"1.25em\",\"axis_label_text_font_style\":\"normal\",\"major_label_policy\":{\"type\":\"object\",\"name\":\"AllLabels\",\"id\":\"p1657\"},\"major_label_text_color\":\"#E0E0E0\",\"major_label_text_font\":\"Helvetica\",\"major_label_text_font_size\":\"1.025em\",\"axis_line_color\":\"#E0E0E0\",\"axis_line_alpha\":0,\"major_tick_line_color\":\"#E0E0E0\",\"major_tick_line_alpha\":0,\"minor_tick_line_color\":\"#E0E0E0\",\"minor_tick_line_alpha\":0}}],\"below\":[{\"type\":\"object\",\"name\":\"LinearAxis\",\"id\":\"p1625\",\"attributes\":{\"ticker\":{\"type\":\"object\",\"name\":\"BasicTicker\",\"id\":\"p1626\",\"attributes\":{\"mantissas\":[1,2,5]}},\"formatter\":{\"type\":\"object\",\"name\":\"BasicTickFormatter\",\"id\":\"p1627\"},\"axis_label\":\"seconds from exit\",\"axis_label_standoff\":10,\"axis_label_text_color\":\"#E0E0E0\",\"axis_label_text_font\":\"Helvetica\",\"axis_label_text_font_size\":\"1.25em\",\"axis_label_text_font_style\":\"normal\",\"major_label_policy\":{\"type\":\"object\",\"name\":\"AllLabels\",\"id\":\"p1628\"},\"major_label_text_color\":\"#E0E0E0\",\"major_label_text_font\":\"Helvetica\",\"major_label_text_font_size\":\"1.025em\",\"axis_line_color\":\"#E0E0E0\",\"axis_line_alpha\":0,\"major_tick_line_color\":\"#E0E0E0\",\"major_tick_line_alpha\":0,\"minor_tick_line_color\":\"#E0E0E0\",\"minor_tick_line_alpha\":0}}],\"center\":[{\"type\":\"object\",\"name\":\"Grid\",\"id\":\"p1629\",\"attributes\":{\"axis\":{\"id\":\"p1625\"},\"grid_line_color\":\"#E0E0E0\",\"grid_line_alpha\":0.25}},{\"type\":\"object\",\"name\":\"Grid\",\"id\":\"p1634\",\"attributes\":{\"dimension\":1,\"axis\":{\"id\":\"p1630\"},\"grid_line_color\":\"#E0E0E0\",\"grid_line_alpha\":0.25}},{\"type\":\"object\",\"name\":\"Legend\",\"id\":\"p1667\",\"attributes\":{\"border_line_alpha\":0,\"background_fill_color\":\"#20262B\",\"background_fill_alpha\":0.25,\"label_text_color\":\"#E0E0E0\",\"label_text_font\":\"Helvetica\",\"label_text_font_size\":\"1.025em\",\"label_standoff\":8,\"glyph_width\":15,\"spacing\":8,\"items\":[{\"type\":\"object\",\"name\":\"LegendItem\",\"id\":\"p1668\",\"attributes\":{\"label\":{\"type\":\"value\",\"value\":\"Alt (ft)\"},\"renderers\":[{\"id\":\"p1664\"}]}},{\"type\":\"object\",\"name\":\"LegendItem\",\"id\":\"p1678\",\"attributes\":{\"label\":{\"type\":\"value\",\"value\":\"angle\"},\"renderers\":[{\"id\":\"p1675\"}]}},{\"type\":\"object\",\"name\":\"LegendItem\",\"id\":\"p1689\",\"attributes\":{\"label\":{\"type\":\"value\",\"value\":\"speed\"},\"renderers\":[{\"id\":\"p1686\"}]}},{\"type\":\"object\",\"name\":\"LegendItem\",\"id\":\"p1699\",\"attributes\":{\"label\":{\"type\":\"value\",\"value\":\"H-speed\"},\"renderers\":[{\"id\":\"p1696\"}]}}]}}],\"background_fill_color\":\"#20262B\",\"border_fill_color\":\"#15191C\"}}]}};\n",
       "  const render_items = [{\"docid\":\"8a966929-a118-4076-9146-76a4f9045e09\",\"roots\":{\"p1611\":\"dfe715cb-52f2-4441-aabb-7fc1afaa8192\"},\"root_ids\":[\"p1611\"]}];\n",
       "  void root.Bokeh.embed.embed_items_notebook(docs_json, render_items);\n",
       "  }\n",
       "  if (root.Bokeh !== undefined) {\n",
       "    embed_document(root);\n",
       "  } else {\n",
       "    let attempts = 0;\n",
       "    const timer = setInterval(function(root) {\n",
       "      if (root.Bokeh !== undefined) {\n",
       "        clearInterval(timer);\n",
       "        embed_document(root);\n",
       "      } else {\n",
       "        attempts++;\n",
       "        if (attempts > 100) {\n",
       "          clearInterval(timer);\n",
       "          console.log(\"Bokeh: ERROR: Unable to run BokehJS code because BokehJS library is missing\");\n",
       "        }\n",
       "      }\n",
       "    }, 10, root)\n",
       "  }\n",
       "})(window);"
      ],
      "application/vnd.bokehjs_exec.v0+json": ""
     },
     "metadata": {
      "application/vnd.bokehjs_exec.v0+json": {
       "id": "p1611"
      }
     },
     "output_type": "display_data"
    },
    {
     "data": {
      "application/vnd.jupyter.widget-view+json": {
       "model_id": "e5e46b2725a84d81abb90999294a4026",
       "version_major": 2,
       "version_minor": 0
      },
      "text/plain": [
       "HTML(value='<hr><h1><span style=\"color: #0f0\">Miller-2024-championship-official R6_12-49-38:v1 jump - 🟢 valid …"
      ]
     },
     "metadata": {},
     "output_type": "display_data"
    },
    {
     "data": {
      "application/vnd.jupyter.widget-view+json": {
       "model_id": "e47d48b76de449c7a5f50aaa66566b1e",
       "version_major": 2,
       "version_minor": 0
      },
      "text/plain": [
       "HTML(value='<h3>Max speed = 333; exit at 4068 m (13346 ft), end scoring window at 1812 m (5945 ft)')"
      ]
     },
     "metadata": {},
     "output_type": "display_data"
    },
    {
     "data": {
      "application/vnd.jupyter.widget-view+json": {
       "model_id": "01d03a95ea864a53a3e50e51263d9b24",
       "version_major": 2,
       "version_minor": 0
      },
      "text/plain": [
       "HTML(value='</h3>')"
      ]
     },
     "metadata": {},
     "output_type": "display_data"
    },
    {
     "data": {
      "text/html": [
       "<div>\n",
       "<style scoped>\n",
       "    .dataframe tbody tr th:only-of-type {\n",
       "        vertical-align: middle;\n",
       "    }\n",
       "\n",
       "    .dataframe tbody tr th {\n",
       "        vertical-align: top;\n",
       "    }\n",
       "\n",
       "    .dataframe thead th {\n",
       "        text-align: right;\n",
       "    }\n",
       "</style>\n",
       "<table border=\"1\" class=\"dataframe\">\n",
       "  <thead>\n",
       "    <tr style=\"text-align: right;\">\n",
       "      <th></th>\n",
       "      <th>time</th>\n",
       "      <th>vKMh</th>\n",
       "      <th>hKMh</th>\n",
       "      <th>speedAngle</th>\n",
       "      <th>distanceFromExit</th>\n",
       "      <th>altitude (ft)</th>\n",
       "      <th>netVectorKMh</th>\n",
       "    </tr>\n",
       "  </thead>\n",
       "  <tbody>\n",
       "    <tr>\n",
       "      <th></th>\n",
       "      <td>5.0</td>\n",
       "      <td>144</td>\n",
       "      <td>127</td>\n",
       "      <td>48.6</td>\n",
       "      <td>200.0</td>\n",
       "      <td>12961</td>\n",
       "      <td>192</td>\n",
       "    </tr>\n",
       "    <tr>\n",
       "      <th></th>\n",
       "      <td>10.0</td>\n",
       "      <td>224</td>\n",
       "      <td>112</td>\n",
       "      <td>63.4</td>\n",
       "      <td>361.1</td>\n",
       "      <td>12140</td>\n",
       "      <td>250</td>\n",
       "    </tr>\n",
       "    <tr>\n",
       "      <th></th>\n",
       "      <td>15.0</td>\n",
       "      <td>289</td>\n",
       "      <td>117</td>\n",
       "      <td>68.0</td>\n",
       "      <td>520.3</td>\n",
       "      <td>10957</td>\n",
       "      <td>312</td>\n",
       "    </tr>\n",
       "    <tr>\n",
       "      <th></th>\n",
       "      <td>20.0</td>\n",
       "      <td>324</td>\n",
       "      <td>120</td>\n",
       "      <td>69.6</td>\n",
       "      <td>683.4</td>\n",
       "      <td>9544</td>\n",
       "      <td>345</td>\n",
       "    </tr>\n",
       "    <tr>\n",
       "      <th></th>\n",
       "      <td>25.0</td>\n",
       "      <td>242</td>\n",
       "      <td>75</td>\n",
       "      <td>72.8</td>\n",
       "      <td>843.7</td>\n",
       "      <td>8159</td>\n",
       "      <td>254</td>\n",
       "    </tr>\n",
       "  </tbody>\n",
       "</table>\n",
       "</div>"
      ],
      "text/plain": [
       "  time  vKMh  hKMh  speedAngle  distanceFromExit  altitude (ft)  netVectorKMh\n",
       "   5.0   144   127        48.6             200.0          12961           192\n",
       "  10.0   224   112        63.4             361.1          12140           250\n",
       "  15.0   289   117        68.0             520.3          10957           312\n",
       "  20.0   324   120        69.6             683.4           9544           345\n",
       "  25.0   242    75        72.8             843.7           8159           254"
      ]
     },
     "metadata": {},
     "output_type": "display_data"
    },
    {
     "data": {
      "text/html": [
       "\n",
       "  <div id=\"a175fdee-c1c9-4d2a-a17a-cc1e3851b04f\" data-root-id=\"p1754\" style=\"display: contents;\"></div>\n"
      ]
     },
     "metadata": {},
     "output_type": "display_data"
    },
    {
     "data": {
      "application/javascript": [
       "(function(root) {\n",
       "  function embed_document(root) {\n",
       "  const docs_json = {\"891d1fa1-b5dc-4a52-b1f7-000466fbe14e\":{\"version\":\"3.5.2\",\"title\":\"Bokeh Application\",\"roots\":[{\"type\":\"object\",\"name\":\"Figure\",\"id\":\"p1754\",\"attributes\":{\"width\":900,\"height\":500,\"x_range\":{\"type\":\"object\",\"name\":\"Range1d\",\"id\":\"p1764\",\"attributes\":{\"end\":35.0}},\"y_range\":{\"type\":\"object\",\"name\":\"Range1d\",\"id\":\"p1765\",\"attributes\":{\"end\":550.0}},\"x_scale\":{\"type\":\"object\",\"name\":\"LinearScale\",\"id\":\"p1766\"},\"y_scale\":{\"type\":\"object\",\"name\":\"LinearScale\",\"id\":\"p1767\"},\"extra_y_ranges\":{\"type\":\"map\",\"entries\":[[\"altitudeFt\",{\"type\":\"object\",\"name\":\"Range1d\",\"id\":\"p1791\",\"attributes\":{\"start\":5487.292406400001,\"end\":13846.953568}}],[\"angle\",{\"type\":\"object\",\"name\":\"Range1d\",\"id\":\"p1792\",\"attributes\":{\"end\":90.0}}]]},\"title\":{\"type\":\"object\",\"name\":\"Title\",\"id\":\"p1757\",\"attributes\":{\"text\":\"Miller-2024-championship-official R6_12-49-38:v1\",\"text_color\":\"#E0E0E0\",\"text_font\":\"Helvetica\",\"text_font_size\":\"1.15em\"}},\"outline_line_color\":\"#E0E0E0\",\"outline_line_alpha\":0.25,\"renderers\":[{\"type\":\"object\",\"name\":\"GlyphRenderer\",\"id\":\"p1807\",\"attributes\":{\"y_range_name\":\"altitudeFt\",\"data_source\":{\"type\":\"object\",\"name\":\"ColumnDataSource\",\"id\":\"p1801\",\"attributes\":{\"selected\":{\"type\":\"object\",\"name\":\"Selection\",\"id\":\"p1802\",\"attributes\":{\"indices\":[],\"line_indices\":[]}},\"selection_policy\":{\"type\":\"object\",\"name\":\"UnionRenderers\",\"id\":\"p1803\"},\"data\":{\"type\":\"map\",\"entries\":[[\"x\",{\"type\":\"ndarray\",\"array\":{\"type\":\"bytes\",\"data\":\"AAAAAAAAAAAAAAAAmpnJPwAAAACamdk/AAAAADMz4z8AAACAmZnpPwAAAAAAAPA/AAAAQDMz8z8AAACAZmb2PwAAAICZmfk/AAAAwMzM/D8AAAAAAAAAQAAAAKCZmQFAAAAAQDMzA0AAAADAzMwEQAAAAGBmZgZAAAAAAAAACEAAAACgmZkJQAAAAEAzMwtAAAAAwMzMDEAAAABgZmYOQAAAAAAAABBAAAAA0MzMEEAAAACgmZkRQAAAAGBmZhJAAAAAMDMzE0AAAAAAAAAUQAAAANDMzBRAAAAAoJmZFUAAAABgZmYWQAAAADAzMxdAAAAAAAAAGEAAAADQzMwYQAAAAKCZmRlAAAAAYGZmGkAAAAAwMzMbQAAAAAAAABxAAAAA0MzMHEAAAACgmZkdQAAAAGBmZh5AAAAAMDMzH0AAAAAAAAAgQAAAAGhmZiBAAAAA0MzMIEAAAAAwMzMhQAAAAJiZmSFAAAAAAAAAIkAAAABoZmYiQAAAANDMzCJAAAAAMDMzI0AAAACYmZkjQAAAAAAAACRAAAAAaGZmJEAAAADQzMwkQAAAADAzMyVAAAAAmJmZJUAAAAAAAAAmQAAAAGhmZiZAAAAA0MzMJkAAAAAwMzMnQAAAAJiZmSdAAAAAAAAAKEAAAABoZmYoQAAAANDMzChAAAAAMDMzKUAAAACYmZkpQAAAAAAAACpAAAAAaGZmKkAAAADQzMwqQAAAADAzMytAAAAAmJmZK0AAAAAAAAAsQAAAAGhmZixAAAAA0MzMLEAAAAAwMzMtQAAAAJiZmS1AAAAAAAAALkAAAABoZmYuQAAAANDMzC5AAAAAMDMzL0AAAACYmZkvQAAAAAAAADBAAAAANDMzMEAAAABoZmYwQAAAAJiZmTBAAAAAzMzMMEAAAAAAAAAxQAAAADQzMzFAAAAAaGZmMUAAAACYmZkxQAAAAMzMzDFAAAAAAAAAMkAAAAA0MzMyQAAAAGhmZjJAAAAAmJmZMkAAAADMzMwyQAAAAAAAADNAAAAANDMzM0AAAABoZmYzQAAAAJiZmTNAAAAAzMzMM0AAAAAAAAA0QAAAADQzMzRAAAAAaGZmNEAAAACYmZk0QAAAAMzMzDRAAAAAAAAANUAAAAA0MzM1QAAAAGhmZjVAAAAAmJmZNUAAAADMzMw1QAAAAAAAADZAAAAANDMzNkAAAABoZmY2QAAAAJiZmTZAAAAAzMzMNkAAAAAAAAA3QAAAADQzMzdAAAAAaGZmN0AAAACYmZk3QAAAAMzMzDdAAAAAAAAAOEAAAAA0MzM4QAAAAGhmZjhAAAAAmJmZOEAAAADMzMw4QAAAAAAAADlAAAAANDMzOUAAAABoZmY5QAAAAJiZmTlAAAAAzMzMOUAAAAAAAAA6QAAAADQzMzpAAAAAaGZmOkAAAACYmZk6QAAAAMzMzDpAAAAAAAAAO0AAAAA0MzM7QAAAAGhmZjtAAAAAmJmZO0AAAADMzMw7QAAAAAAAADxAAAAANDMzPEAAAABoZmY8QAAAAJiZmTxAAAAAzMzMPEAAAAAAAAA9QAAAADQzMz1AAAAAaGZmPUAAAACYmZk9QAAAAMzMzD1AAAAAAAAAPkAAAAA0MzM+QAAAAGhmZj5AAAAAmJmZPkAAAADMzMw+QAAAAAAAAD9AAAAANDMzP0AAAABoZmY/QAAAAJiZmT9AAAAAzMzMP0AAAAAAAABAQAAAAJqZGUBAAAAANDMzQEAAAADMzExAQAAAAGZmZkBAAAAAAACAQEAAAACamZlAQAAAADQzs0BAAAAAzMzMQEAAAABmZuZAQAAAAAAAAEFAAAAAmpkZQUAAAAA0MzNBQAAAAMzMTEFA\"},\"shape\":[174],\"dtype\":\"float64\",\"order\":\"little\"}],[\"y\",{\"type\":\"ndarray\",\"array\":{\"type\":\"bytes\",\"data\":\"QieEDnoRykC1C2GQjw/KQMwdonZMDcpAgvwRK1AKykAgViTLvgbKQDuFAfCkAspAt9YXCSX+yUAdAkcCNfnJQKFm7VvK88lALhYrDxfuyUAIPNXG5efJQIUwbe424clAqfPyhQrayUCXHxOERtLJQNLBn4YEyslAG5Qfp0bByUBDWZ1BELjJQCqgmtw5rslAJJhqZgWkyUD+gjhqWJnJQOed+YsvjslAzt8piYmCyUB5YcZvjXbJQLqozIMSaslAR6NMtEVdyUBVkPpGX1DJQAVnOoUuQ8lADTeFOtk1yUDhSPt6aSjJQPnkvFrpGslAdSSX/yANyUBWB4ppEP/IQK24grex8MhAcLDcdyHiyEAXHBSDNtPIQL3rx4H6w8hAzaJm/me0yEB1fuWce6TIQE0dP68zlMhABg4NMJiDyECyezw+o3LIQBMgVPNWYchAwZlOobFPyECCxBs+rj3IQHf2lQdBK8hA4NSs2IwYyEAN8y+TggXIQEqgHGAh8sdAlLoJY3Dex0BytQTPc8rHQJljeVcltsdAYdkWr5Ohx0D7l6QyrYzHQDQeW4WDd8dAxD6mWhBix0AwbZPlV0zHQNUjDW5TNsdAUqRW8xcgx0BOuFfmnQnHQL549eDc8sZAvNXOi97bxkCiJ2VSo8TGQPoDL0QorcZA+mzTjnmVxkBUknU4en3GQDYQgdlLZcZAgFMOHM5MxkD+2lWjEjTGQJFy5g0eG8ZAC/8zlOwBxkB4RfC/jejFQHZKUXjqzsVAzmomhBu1xUB1v1R9GJvFQCm+kMTxgMVAcvxQaaRmxUD5Q33cKEzFQM6/Aj15McVAPJ1115sWxUC6aMh4jPvEQLFhl/JT4MRAqR1ZVO/ExEChnA2eXqnEQMX5QJeljcRANEf7xMZxxEDbWU8IyFXEQGL7JNKhOcRAjuUCPFYdxEB15h4S9gDEQMHHYMV55MNA59HoaevHw0DT2cngUKvDQII8u3yTjsNA6DQLtKNxw0DjbN9IjVTDQNxFPelRN8NAdkU6TfgZw0B6aS9HdPzCQKqosAj03sJAcYYsHHLBwkCy8Jr866PCQGijKfFvhsJAOEZXjv1owkA+jLVkckvCQCridJLdLcJAw0Xu6TIQwkAUfNP0gfLBQGAx2S6z1MFA3EU96dm2wUCUQaSV2ZjBQPtsLki8esFABuHAmnlcwUDiuOdUFT7BQLDmAMHUH8FAfMtBdRgCwUBB2v8Ac+XAQEsKhzmEycBAazmGtoKuwECMGqd8e5TAQMCbyZI8e8BAY9hhTJpiwECSBOEKkErAQLN6h9tZM8BAwj9bvYEcwEDI2wAi6wXAQHxyA/Qx379AUBHxIHezv0BEdAgcuYi/QCjkORGjXr9AHljpSQQ1v0A0FqggCgy/QKxf6Xwo5L5AerjTjMu8vkAs2EY86ZW+QJIi1/Jfb75AeoH+57VIvkAI7CBluiG+QEyNK4ln+r1AAj9PqHzSvUCqS2t4P6q9QN30wvjEgb1Afmphu8BYvUDCjIQRRi+9QBWijW0jBb1AR22HK1zavED+c4cD9668QI/spYT7grxAYtlxaEZWvEARl9LpHym8QEfvr3mA+7tAJDjkVVzNu0ANj6Jzw567QEf/FUPDb7tAY4TwaENAu0CPWyeJQBC7QCteG+DY37pAHF8grdauukBETC5rN326QOCoyxglS7pA2qbC6Y4YukAACR46eOW5QO3MTlAEsrlA0C9K0C9+uUBzsEhdDEq5QGEhzh7DFblAGxGMg4vhuEAEkergJa64QDpx3qTee7hASITr9t5KuECW2GswUxq4QG1SG+bF6rdA6GJ4kV68t0C1MuGXOo+3QCVVJdtKY7dA\"},\"shape\":[174],\"dtype\":\"float64\",\"order\":\"little\"}]]}}},\"view\":{\"type\":\"object\",\"name\":\"CDSView\",\"id\":\"p1808\",\"attributes\":{\"filter\":{\"type\":\"object\",\"name\":\"AllIndices\",\"id\":\"p1809\"}}},\"glyph\":{\"type\":\"object\",\"name\":\"Line\",\"id\":\"p1804\",\"attributes\":{\"x\":{\"type\":\"field\",\"field\":\"x\"},\"y\":{\"type\":\"field\",\"field\":\"y\"},\"line_color\":\"palegoldenrod\",\"line_width\":2}},\"nonselection_glyph\":{\"type\":\"object\",\"name\":\"Line\",\"id\":\"p1805\",\"attributes\":{\"x\":{\"type\":\"field\",\"field\":\"x\"},\"y\":{\"type\":\"field\",\"field\":\"y\"},\"line_color\":\"palegoldenrod\",\"line_alpha\":0.1,\"line_width\":2}},\"muted_glyph\":{\"type\":\"object\",\"name\":\"Line\",\"id\":\"p1806\",\"attributes\":{\"x\":{\"type\":\"field\",\"field\":\"x\"},\"y\":{\"type\":\"field\",\"field\":\"y\"},\"line_color\":\"palegoldenrod\",\"line_alpha\":0.2,\"line_width\":2}}}},{\"type\":\"object\",\"name\":\"GlyphRenderer\",\"id\":\"p1818\",\"attributes\":{\"y_range_name\":\"angle\",\"data_source\":{\"type\":\"object\",\"name\":\"ColumnDataSource\",\"id\":\"p1812\",\"attributes\":{\"selected\":{\"type\":\"object\",\"name\":\"Selection\",\"id\":\"p1813\",\"attributes\":{\"indices\":[],\"line_indices\":[]}},\"selection_policy\":{\"type\":\"object\",\"name\":\"UnionRenderers\",\"id\":\"p1814\"},\"data\":{\"type\":\"map\",\"entries\":[[\"x\",{\"type\":\"ndarray\",\"array\":{\"type\":\"bytes\",\"data\":\"AAAAAAAAAAAAAAAAmpnJPwAAAACamdk/AAAAADMz4z8AAACAmZnpPwAAAAAAAPA/AAAAQDMz8z8AAACAZmb2PwAAAICZmfk/AAAAwMzM/D8AAAAAAAAAQAAAAKCZmQFAAAAAQDMzA0AAAADAzMwEQAAAAGBmZgZAAAAAAAAACEAAAACgmZkJQAAAAEAzMwtAAAAAwMzMDEAAAABgZmYOQAAAAAAAABBAAAAA0MzMEEAAAACgmZkRQAAAAGBmZhJAAAAAMDMzE0AAAAAAAAAUQAAAANDMzBRAAAAAoJmZFUAAAABgZmYWQAAAADAzMxdAAAAAAAAAGEAAAADQzMwYQAAAAKCZmRlAAAAAYGZmGkAAAAAwMzMbQAAAAAAAABxAAAAA0MzMHEAAAACgmZkdQAAAAGBmZh5AAAAAMDMzH0AAAAAAAAAgQAAAAGhmZiBAAAAA0MzMIEAAAAAwMzMhQAAAAJiZmSFAAAAAAAAAIkAAAABoZmYiQAAAANDMzCJAAAAAMDMzI0AAAACYmZkjQAAAAAAAACRAAAAAaGZmJEAAAADQzMwkQAAAADAzMyVAAAAAmJmZJUAAAAAAAAAmQAAAAGhmZiZAAAAA0MzMJkAAAAAwMzMnQAAAAJiZmSdAAAAAAAAAKEAAAABoZmYoQAAAANDMzChAAAAAMDMzKUAAAACYmZkpQAAAAAAAACpAAAAAaGZmKkAAAADQzMwqQAAAADAzMytAAAAAmJmZK0AAAAAAAAAsQAAAAGhmZixAAAAA0MzMLEAAAAAwMzMtQAAAAJiZmS1AAAAAAAAALkAAAABoZmYuQAAAANDMzC5AAAAAMDMzL0AAAACYmZkvQAAAAAAAADBAAAAANDMzMEAAAABoZmYwQAAAAJiZmTBAAAAAzMzMMEAAAAAAAAAxQAAAADQzMzFAAAAAaGZmMUAAAACYmZkxQAAAAMzMzDFAAAAAAAAAMkAAAAA0MzMyQAAAAGhmZjJAAAAAmJmZMkAAAADMzMwyQAAAAAAAADNAAAAANDMzM0AAAABoZmYzQAAAAJiZmTNAAAAAzMzMM0AAAAAAAAA0QAAAADQzMzRAAAAAaGZmNEAAAACYmZk0QAAAAMzMzDRAAAAAAAAANUAAAAA0MzM1QAAAAGhmZjVAAAAAmJmZNUAAAADMzMw1QAAAAAAAADZAAAAANDMzNkAAAABoZmY2QAAAAJiZmTZAAAAAzMzMNkAAAAAAAAA3QAAAADQzMzdAAAAAaGZmN0AAAACYmZk3QAAAAMzMzDdAAAAAAAAAOEAAAAA0MzM4QAAAAGhmZjhAAAAAmJmZOEAAAADMzMw4QAAAAAAAADlAAAAANDMzOUAAAABoZmY5QAAAAJiZmTlAAAAAzMzMOUAAAAAAAAA6QAAAADQzMzpAAAAAaGZmOkAAAACYmZk6QAAAAMzMzDpAAAAAAAAAO0AAAAA0MzM7QAAAAGhmZjtAAAAAmJmZO0AAAADMzMw7QAAAAAAAADxAAAAANDMzPEAAAABoZmY8QAAAAJiZmTxAAAAAzMzMPEAAAAAAAAA9QAAAADQzMz1AAAAAaGZmPUAAAACYmZk9QAAAAMzMzD1AAAAAAAAAPkAAAAA0MzM+QAAAAGhmZj5AAAAAmJmZPkAAAADMzMw+QAAAAAAAAD9AAAAANDMzP0AAAABoZmY/QAAAAJiZmT9AAAAAzMzMP0AAAAAAAABAQAAAAJqZGUBAAAAANDMzQEAAAADMzExAQAAAAGZmZkBAAAAAAACAQEAAAACamZlAQAAAADQzs0BAAAAAzMzMQEAAAABmZuZAQAAAAAAAAEFAAAAAmpkZQUAAAAA0MzNBQAAAAMzMTEFA\"},\"shape\":[174],\"dtype\":\"float64\",\"order\":\"little\"}],[\"y\",{\"type\":\"ndarray\",\"array\":{\"type\":\"bytes\",\"data\":\"zczMzMzMGEAAAAAAAAAiQDMzMzMzMyVAZmZmZmZmJ0CamZmZmZksQM3MzMzMzC9AAAAAAAAAMkBmZmZmZmY0QJqZmZmZmTZAZmZmZmZmOEAAAAAAAIA6QJqZmZmZmTxAMzMzMzMzPkBmZmZmZuY/QDMzMzMz80BAZmZmZmamQUAAAAAAAIBCQM3MzMzMTENAzczMzMwMREBmZmZmZuZEQJqZmZmZmUVAAAAAAAAARkAzMzMzM7NGQM3MzMzMTEdAMzMzMzPzR0DNzMzMzExIQDMzMzMzs0hAmpmZmZkZSUCamZmZmVlJQAAAAAAAwElAzczMzMwMSkAzMzMzM3NKQGZmZmZmpkpAzczMzMwMS0BmZmZmZmZLQAAAAAAAwEtAZmZmZmYmTEAzMzMzM3NMQAAAAAAAwExAmpmZmZkZTUBmZmZmZmZNQDMzMzMzs01AMzMzMzPzTUDNzMzMzExOQM3MzMzMjE5AAAAAAADATkAAAAAAAABPQDMzMzMzM09AzczMzMxMT0DNzMzMzIxPQDMzMzMzs09AmpmZmZnZT0AAAAAAAABQQGZmZmZmBlBAAAAAAAAgUEBmZmZmZiZQQJqZmZmZOVBAAAAAAABAUEAzMzMzM1NQQJqZmZmZWVBAZmZmZmZmUECamZmZmXlQQAAAAAAAgFBAzczMzMyMUECamZmZmZlQQGZmZmZmplBAmpmZmZm5UEDNzMzMzMxQQJqZmZmZ2VBAAAAAAADgUEDNzMzMzOxQQDMzMzMz81BAMzMzMzPzUEAzMzMzM/NQQJqZmZmZ+VBAAAAAAAAAUUBmZmZmZgZRQDMzMzMzE1FAmpmZmZkZUUDNzMzMzCxRQGZmZmZmJlFAmpmZmZk5UUCamZmZmTlRQJqZmZmZOVFAmpmZmZk5UUAAAAAAAEBRQGZmZmZmRlFAAAAAAABAUUBmZmZmZkZRQAAAAAAAQFFAmpmZmZk5UUAAAAAAAEBRQGZmZmZmRlFAAAAAAABgUUDNzMzMzGxRQJqZmZmZeVFAZmZmZmaGUUBmZmZmZoZRQAAAAAAAgFFAmpmZmZl5UUBmZmZmZmZRQJqZmZmZWVFAAAAAAABgUUAAAAAAAGBRQJqZmZmZWVFAMzMzMzNTUUDNzMzMzExRQGZmZmZmRlFAZmZmZmZGUUDNzMzMzExRQAAAAAAAYFFAZmZmZmaGUUAAAAAAAKBRQDMzMzMzk1FAMzMzMzNTUUAzMzMzMxNRQGZmZmZmxlBAAAAAAACAUEAzMzMzM3NQQAAAAAAAYFBAmpmZmZmZUEAzMzMzMxNRQJqZmZmZGVFAzczMzMxsUUBmZmZmZsZRQDMzMzMzM1JAZmZmZmZmUkAzMzMzM5NSQGZmZmZmplJAAAAAAACgUkCamZmZmXlSQDMzMzMzU1JAMzMzMzMTUkDNzMzMzOxRQAAAAAAAwFFAMzMzMzOzUUAzMzMzM7NRQAAAAAAAwFFAAAAAAADAUUDNzMzMzKxRQDMzMzMzs1FAAAAAAADAUUBmZmZmZsZRQDMzMzMz81FAAAAAAAAAUkCamZmZmRlSQAAAAAAAIFJAmpmZmZk5UkCamZmZmTlSQGZmZmZmRlJAMzMzMzNTUkAzMzMzM1NSQM3MzMzMTFJAAAAAAABgUkBmZmZmZmZSQDMzMzMzc1JAAAAAAACAUkDNzMzMzIxSQAAAAAAAoFJAMzMzMzOzUkBmZmZmZsZSQM3MzMzMzFJAzczMzMzMUkAAAAAAAMBSQM3MzMzMrFJAzczMzMyMUkAzMzMzM1NSQGZmZmZmRlJAZmZmZmaGUkBmZmZmZqZSQM3MzMzM7FJAZmZmZmYGU0BmZmZmZgZTQJqZmZmZ+VJA\"},\"shape\":[174],\"dtype\":\"float64\",\"order\":\"little\"}]]}}},\"view\":{\"type\":\"object\",\"name\":\"CDSView\",\"id\":\"p1819\",\"attributes\":{\"filter\":{\"type\":\"object\",\"name\":\"AllIndices\",\"id\":\"p1820\"}}},\"glyph\":{\"type\":\"object\",\"name\":\"Line\",\"id\":\"p1815\",\"attributes\":{\"x\":{\"type\":\"field\",\"field\":\"x\"},\"y\":{\"type\":\"field\",\"field\":\"y\"},\"line_color\":\"deepskyblue\",\"line_width\":2}},\"nonselection_glyph\":{\"type\":\"object\",\"name\":\"Line\",\"id\":\"p1816\",\"attributes\":{\"x\":{\"type\":\"field\",\"field\":\"x\"},\"y\":{\"type\":\"field\",\"field\":\"y\"},\"line_color\":\"deepskyblue\",\"line_alpha\":0.1,\"line_width\":2}},\"muted_glyph\":{\"type\":\"object\",\"name\":\"Line\",\"id\":\"p1817\",\"attributes\":{\"x\":{\"type\":\"field\",\"field\":\"x\"},\"y\":{\"type\":\"field\",\"field\":\"y\"},\"line_color\":\"deepskyblue\",\"line_alpha\":0.2,\"line_width\":2}}}},{\"type\":\"object\",\"name\":\"GlyphRenderer\",\"id\":\"p1829\",\"attributes\":{\"data_source\":{\"type\":\"object\",\"name\":\"ColumnDataSource\",\"id\":\"p1823\",\"attributes\":{\"selected\":{\"type\":\"object\",\"name\":\"Selection\",\"id\":\"p1824\",\"attributes\":{\"indices\":[],\"line_indices\":[]}},\"selection_policy\":{\"type\":\"object\",\"name\":\"UnionRenderers\",\"id\":\"p1825\"},\"data\":{\"type\":\"map\",\"entries\":[[\"x\",{\"type\":\"ndarray\",\"array\":{\"type\":\"bytes\",\"data\":\"AAAAAAAAAAAAAAAAmpnJPwAAAACamdk/AAAAADMz4z8AAACAmZnpPwAAAAAAAPA/AAAAQDMz8z8AAACAZmb2PwAAAICZmfk/AAAAwMzM/D8AAAAAAAAAQAAAAKCZmQFAAAAAQDMzA0AAAADAzMwEQAAAAGBmZgZAAAAAAAAACEAAAACgmZkJQAAAAEAzMwtAAAAAwMzMDEAAAABgZmYOQAAAAAAAABBAAAAA0MzMEEAAAACgmZkRQAAAAGBmZhJAAAAAMDMzE0AAAAAAAAAUQAAAANDMzBRAAAAAoJmZFUAAAABgZmYWQAAAADAzMxdAAAAAAAAAGEAAAADQzMwYQAAAAKCZmRlAAAAAYGZmGkAAAAAwMzMbQAAAAAAAABxAAAAA0MzMHEAAAACgmZkdQAAAAGBmZh5AAAAAMDMzH0AAAAAAAAAgQAAAAGhmZiBAAAAA0MzMIEAAAAAwMzMhQAAAAJiZmSFAAAAAAAAAIkAAAABoZmYiQAAAANDMzCJAAAAAMDMzI0AAAACYmZkjQAAAAAAAACRAAAAAaGZmJEAAAADQzMwkQAAAADAzMyVAAAAAmJmZJUAAAAAAAAAmQAAAAGhmZiZAAAAA0MzMJkAAAAAwMzMnQAAAAJiZmSdAAAAAAAAAKEAAAABoZmYoQAAAANDMzChAAAAAMDMzKUAAAACYmZkpQAAAAAAAACpAAAAAaGZmKkAAAADQzMwqQAAAADAzMytAAAAAmJmZK0AAAAAAAAAsQAAAAGhmZixAAAAA0MzMLEAAAAAwMzMtQAAAAJiZmS1AAAAAAAAALkAAAABoZmYuQAAAANDMzC5AAAAAMDMzL0AAAACYmZkvQAAAAAAAADBAAAAANDMzMEAAAABoZmYwQAAAAJiZmTBAAAAAzMzMMEAAAAAAAAAxQAAAADQzMzFAAAAAaGZmMUAAAACYmZkxQAAAAMzMzDFAAAAAAAAAMkAAAAA0MzMyQAAAAGhmZjJAAAAAmJmZMkAAAADMzMwyQAAAAAAAADNAAAAANDMzM0AAAABoZmYzQAAAAJiZmTNAAAAAzMzMM0AAAAAAAAA0QAAAADQzMzRAAAAAaGZmNEAAAACYmZk0QAAAAMzMzDRAAAAAAAAANUAAAAA0MzM1QAAAAGhmZjVAAAAAmJmZNUAAAADMzMw1QAAAAAAAADZAAAAANDMzNkAAAABoZmY2QAAAAJiZmTZAAAAAzMzMNkAAAAAAAAA3QAAAADQzMzdAAAAAaGZmN0AAAACYmZk3QAAAAMzMzDdAAAAAAAAAOEAAAAA0MzM4QAAAAGhmZjhAAAAAmJmZOEAAAADMzMw4QAAAAAAAADlAAAAANDMzOUAAAABoZmY5QAAAAJiZmTlAAAAAzMzMOUAAAAAAAAA6QAAAADQzMzpAAAAAaGZmOkAAAACYmZk6QAAAAMzMzDpAAAAAAAAAO0AAAAA0MzM7QAAAAGhmZjtAAAAAmJmZO0AAAADMzMw7QAAAAAAAADxAAAAANDMzPEAAAABoZmY8QAAAAJiZmTxAAAAAzMzMPEAAAAAAAAA9QAAAADQzMz1AAAAAaGZmPUAAAACYmZk9QAAAAMzMzD1AAAAAAAAAPkAAAAA0MzM+QAAAAGhmZj5AAAAAmJmZPkAAAADMzMw+QAAAAAAAAD9AAAAANDMzP0AAAABoZmY/QAAAAJiZmT9AAAAAzMzMP0AAAAAAAABAQAAAAJqZGUBAAAAANDMzQEAAAADMzExAQAAAAGZmZkBAAAAAAACAQEAAAACamZlAQAAAADQzs0BAAAAAzMzMQEAAAABmZuZAQAAAAAAAAEFAAAAAmpkZQUAAAAA0MzNBQAAAAMzMTEFA\"},\"shape\":[174],\"dtype\":\"float64\",\"order\":\"little\"}],[\"y\",{\"type\":\"ndarray\",\"array\":{\"type\":\"bytes\",\"data\":\"Z2ZmZmbmMkAhsHJoke06QAwCK4cWWT5A/Knx0k3iQEAIrBxaZDtEQObQItv5/kVACKwcWmS7SEB3vp8aL91LQA8tsp3v505AZ2ZmZmamUEDC9ShcjyJSQBfZzvdTo1NA/tR46SbRVEDByqFFthNWQDZeukkMgldAJQaBlUOrWEC7SQwCKwdaQD81XrpJbFtA7nw/NV66XEBPYhBYOTReQDm0yHa+X19AH4XrUbg+YEAhsHJokc1gQD4K16NwTWFAW2Q730/NYUAL16NwPfphQKwcWmQ7L2JAPN9PjZduYkAUrkfheoRiQIPAyqFF1mJA+FPjpZskY0AxCKwcWpRjQL+fGi/d1GNABFYOLbI9ZEA3iUFg5bBkQI6XbhKDEGVAj8L1KFyfZUC28/3UeBlmQOxRuB6Fi2ZADAIrhxYJZ0ArhxbZzodnQG3n+6nx8mdAnMQgsHJoaECF61G4HgVpQKrx0k1igGlA+n5qvHTjaUAnMQisHFpqQF66SQwCy2pAtvP91Hgpa0Dy0k1iEJhrQEjhehSu92tAYxBYObR4bEDIdr6fGs9sQCQGgZVDK21AX7pJDAKbbUDHSzeJQfBtQCGwcmiRTW5Aku18PzWebkDYo3A9CgdvQEoMAiuHVm9Au0kMAiunb0AAAAAAAAhwQMdLN4lBKHBA8tJNYhBYcEAaL90kBolwQF66SQwCq3BAiBbZzvfbcEA3iUFg5QhxQPYoXI/CLXFAMQisHFpUcUBvEoPAynlxQKabxCCwonFAc2iR7Xy/cUDByqFFtttxQJHtfD819nFA2KNwPQoXckAhsHJokTVyQFtkO99PXXJAMQisHFp0ckDm0CLb+Z5yQMdLN4lBsHJA+FPjpZvcckDTTWIQWPFyQCUGgZVDC3NAf2q8dJMgc0BSuB6F6zlzQBkEVg4tWnNAf2q8dJNoc0BnZmZmZnZzQMuhRbbzhXNAMzMzMzOTc0AL16NwPapzQPCnxks3uXNAnMQgsHLoc0D8qfHSTfpzQNEi2/l+EnRAGi/dJAYxdECR7Xw/NTZ0QIXrUbgePXRA9ihcj8JFdECJQWDl0Dp0QCPb+X5qLHRAexSuR+FCdEB9PzVeukF0QHWTGARWRnRA5tAi2/lOdEDC9Shcj2J0QLOd76fGa3RAEoPAyqF9dEBzaJHtfI90QDzfT42XrnRAF9nO91PDdEAAAAAAANB0QMHKoUW2q3RARbbz/dQYdEB3vp8aL21zQPhT46Wb3HJASgwCK4ceckC8dJMYBJZxQCGwcmiRFXFAsHJoke3EcEBpke18P11wQB6F61G4bm9A1HjpJjEIb0A730+Nl85uQCcxCKwcSm5AF9nO91PDbUBiEFg5tAhtQClcj8L1mGxA5tAi2/kubEC7SQwCK7drQLOd76fGK2tAgZVDi2y3akAdWmQ7319qQEJg5dAiS2pAFK5H4XpkakCLbOf7qbFqQMuhRbbzHWtAMQisHFp0a0ACK4cW2Y5rQH9qvHST2GtA/Knx0k0ibEA+CtejcI1sQEnhehSuF21Atch2vp9qbUDIdr6fGu9tQD4K16NwPW5AW2Q730+9bkDYo3A9CgdvQESLbOf7WW9Anu+nxku3b0AGgZVDiwRwQNEi2/l+InBA7nw/NV5acEAxCKwcWnxwQFK4HoXrsXBAd76fGi/lcEAw3SQGgQ1xQOSlm8QgOHFAlkOLbOdjcUBFtvP91JBxQJqZmZmZqXFA0SLb+X7ScUCzne+nxuNxQKabxCCw6nFAu0kMAivfcUAtsp3vp55xQM/3U+Ols3BAqvHSTWLIcEArhxbZzn9wQESLbOf7KXBAI9v5fmpsb0C28/3UeIluQAVWDi2yzW1A\"},\"shape\":[174],\"dtype\":\"float64\",\"order\":\"little\"}]]}}},\"view\":{\"type\":\"object\",\"name\":\"CDSView\",\"id\":\"p1830\",\"attributes\":{\"filter\":{\"type\":\"object\",\"name\":\"AllIndices\",\"id\":\"p1831\"}}},\"glyph\":{\"type\":\"object\",\"name\":\"Line\",\"id\":\"p1826\",\"attributes\":{\"x\":{\"type\":\"field\",\"field\":\"x\"},\"y\":{\"type\":\"field\",\"field\":\"y\"},\"line_color\":\"limegreen\",\"line_width\":2}},\"nonselection_glyph\":{\"type\":\"object\",\"name\":\"Line\",\"id\":\"p1827\",\"attributes\":{\"x\":{\"type\":\"field\",\"field\":\"x\"},\"y\":{\"type\":\"field\",\"field\":\"y\"},\"line_color\":\"limegreen\",\"line_alpha\":0.1,\"line_width\":2}},\"muted_glyph\":{\"type\":\"object\",\"name\":\"Line\",\"id\":\"p1828\",\"attributes\":{\"x\":{\"type\":\"field\",\"field\":\"x\"},\"y\":{\"type\":\"field\",\"field\":\"y\"},\"line_color\":\"limegreen\",\"line_alpha\":0.2,\"line_width\":2}}}},{\"type\":\"object\",\"name\":\"GlyphRenderer\",\"id\":\"p1839\",\"attributes\":{\"data_source\":{\"type\":\"object\",\"name\":\"ColumnDataSource\",\"id\":\"p1833\",\"attributes\":{\"selected\":{\"type\":\"object\",\"name\":\"Selection\",\"id\":\"p1834\",\"attributes\":{\"indices\":[],\"line_indices\":[]}},\"selection_policy\":{\"type\":\"object\",\"name\":\"UnionRenderers\",\"id\":\"p1835\"},\"data\":{\"type\":\"map\",\"entries\":[[\"x\",{\"type\":\"ndarray\",\"array\":{\"type\":\"bytes\",\"data\":\"AAAAAAAAAAAAAAAAmpnJPwAAAACamdk/AAAAADMz4z8AAACAmZnpPwAAAAAAAPA/AAAAQDMz8z8AAACAZmb2PwAAAICZmfk/AAAAwMzM/D8AAAAAAAAAQAAAAKCZmQFAAAAAQDMzA0AAAADAzMwEQAAAAGBmZgZAAAAAAAAACEAAAACgmZkJQAAAAEAzMwtAAAAAwMzMDEAAAABgZmYOQAAAAAAAABBAAAAA0MzMEEAAAACgmZkRQAAAAGBmZhJAAAAAMDMzE0AAAAAAAAAUQAAAANDMzBRAAAAAoJmZFUAAAABgZmYWQAAAADAzMxdAAAAAAAAAGEAAAADQzMwYQAAAAKCZmRlAAAAAYGZmGkAAAAAwMzMbQAAAAAAAABxAAAAA0MzMHEAAAACgmZkdQAAAAGBmZh5AAAAAMDMzH0AAAAAAAAAgQAAAAGhmZiBAAAAA0MzMIEAAAAAwMzMhQAAAAJiZmSFAAAAAAAAAIkAAAABoZmYiQAAAANDMzCJAAAAAMDMzI0AAAACYmZkjQAAAAAAAACRAAAAAaGZmJEAAAADQzMwkQAAAADAzMyVAAAAAmJmZJUAAAAAAAAAmQAAAAGhmZiZAAAAA0MzMJkAAAAAwMzMnQAAAAJiZmSdAAAAAAAAAKEAAAABoZmYoQAAAANDMzChAAAAAMDMzKUAAAACYmZkpQAAAAAAAACpAAAAAaGZmKkAAAADQzMwqQAAAADAzMytAAAAAmJmZK0AAAAAAAAAsQAAAAGhmZixAAAAA0MzMLEAAAAAwMzMtQAAAAJiZmS1AAAAAAAAALkAAAABoZmYuQAAAANDMzC5AAAAAMDMzL0AAAACYmZkvQAAAAAAAADBAAAAANDMzMEAAAABoZmYwQAAAAJiZmTBAAAAAzMzMMEAAAAAAAAAxQAAAADQzMzFAAAAAaGZmMUAAAACYmZkxQAAAAMzMzDFAAAAAAAAAMkAAAAA0MzMyQAAAAGhmZjJAAAAAmJmZMkAAAADMzMwyQAAAAAAAADNAAAAANDMzM0AAAABoZmYzQAAAAJiZmTNAAAAAzMzMM0AAAAAAAAA0QAAAADQzMzRAAAAAaGZmNEAAAACYmZk0QAAAAMzMzDRAAAAAAAAANUAAAAA0MzM1QAAAAGhmZjVAAAAAmJmZNUAAAADMzMw1QAAAAAAAADZAAAAANDMzNkAAAABoZmY2QAAAAJiZmTZAAAAAzMzMNkAAAAAAAAA3QAAAADQzMzdAAAAAaGZmN0AAAACYmZk3QAAAAMzMzDdAAAAAAAAAOEAAAAA0MzM4QAAAAGhmZjhAAAAAmJmZOEAAAADMzMw4QAAAAAAAADlAAAAANDMzOUAAAABoZmY5QAAAAJiZmTlAAAAAzMzMOUAAAAAAAAA6QAAAADQzMzpAAAAAaGZmOkAAAACYmZk6QAAAAMzMzDpAAAAAAAAAO0AAAAA0MzM7QAAAAGhmZjtAAAAAmJmZO0AAAADMzMw7QAAAAAAAADxAAAAANDMzPEAAAABoZmY8QAAAAJiZmTxAAAAAzMzMPEAAAAAAAAA9QAAAADQzMz1AAAAAaGZmPUAAAACYmZk9QAAAAMzMzD1AAAAAAAAAPkAAAAA0MzM+QAAAAGhmZj5AAAAAmJmZPkAAAADMzMw+QAAAAAAAAD9AAAAANDMzP0AAAABoZmY/QAAAAJiZmT9AAAAAzMzMP0AAAAAAAABAQAAAAJqZGUBAAAAANDMzQEAAAADMzExAQAAAAGZmZkBAAAAAAACAQEAAAACamZlAQAAAADQzs0BAAAAAzMzMQEAAAABmZuZAQAAAAAAAAEFAAAAAmpkZQUAAAAA0MzNBQAAAAMzMTEFA\"},\"shape\":[174],\"dtype\":\"float64\",\"order\":\"little\"}],[\"y\",{\"type\":\"ndarray\",\"array\":{\"type\":\"bytes\",\"data\":\"apavVUWsZUAaYOrVwSRlQJX9yMswS2RAo7he51VeZEBJBatOqOZjQIIGLGWuVmNA/2KyTY8IY0DGSKSj5MRiQKgT/egqjmJA+8JSdF1YYkCPwNEVaSliQBfSvVtrBmJAyBmW/ErbYUASHOhkmrphQEkSbVGshGFAXzJ1oXpqYUAiWwpl2ERhQDVCNeH/KWFAqWtradYQYUDhMjE6XepgQFQ5kSGlu2BAUutqnWTLYECEbBxw25ZgQKGkpAOYY2BAcTcsin0ZYEC4koZrJalfQNUROb3XM19As5NlT7q5XkDClVzPu1deQDTQmrWv+V1ACQ5+8ojGXUB82aNuVZddQO914T7Wh11AuCICJElOXUCmiDBqniVdQDyBX4er/VxA1EiiSX3SXEBI+SMIO8tcQGZmG6s1rVxAhRV0wziSXEDJWmyr+XxcQPQTUmHaXlxAVPTmyqxZXEBMI2+F3i5cQFzPgS24KlxAahb34QMmXEC5rIC+LRFcQDD3RF7tC1xAI369W9QlXECOdIRjqv1bQB30VCB3EVxAh4egqNclXEAj+A0mxR5cQOMNydmvU1xATI05b808XEAU10rzLWFcQJj29DKVbFxAHiUlRpKIXEBMWx6vT5BcQMsUZJpdtVxAIL+OAfKvXEB0bwjkeK9cQAQ9A4cF0VxAU9gRYXnVXEBZsTQPwdxcQHSKAnRu01xAJPvVSnbPXEB+Nazt2pxcQCnaBA5Vl1xAhkTV3SO3XEANteFC87hcQEg/oJ4Zx1xAlMy2RjD+XEBJOCM4/RhdQLJ+LOQWOV1AASfS+gpAXUC/xfibsEJdQHxfnL0sRV1AFJrWM646XUB9T2rt1BxdQB32o3vVS11As0tDwaUXXUDoZZyj5EhdQFo1wCpRYF1AR/BfHBh/XUD6DP+714hdQPRR0WfNkF1ASN/TKEi5XUCpSAsHE7NdQLhwsyvv911An4O0qK4rXkAGphtUIi9eQKjoU0WgHV5A942AGc7FXUC/ouQ5kZhdQF7X6gfwXF1AfLWzaC4uXUCvE8tqaEldQL553XmAeV1AVejU802+XUDSWWh5kwxeQPrdeANDT15AK2sCamBIXkCJX4pA1FNeQNupD+8Mb15Aatql/lysXkDCB5/ADgdfQDxVZzsTM19AdG57d/VIX0BjnJ5GekhfQIf6xG0G9F5AlpQhA+gTXkA0Qh29kWldQHr3Xxaopl1AnOKKVjFxXkAT/0/vRPFeQHP5d3un1F9AFb0FC4ojYEB7nXQ4PoxfQMHYSi/4IF9AoVViVVlBXUBcyDDxQRhaQGxW/heF2FhA3ffzWV7wVkDlLm04MBRVQPxeCMHmzlJA/gYpfwOKUUCZGQe95UpQQLseIAqEa09At1PFQnRFT0CDI8L2YwFQQOz6jk6xSVBAi6SH74QTUUAMUUopnX5RQFpyWqc6IFJAptn+n+xpUkDKNXymuaFSQGiQL4HCuVJAHss3+d/0UkAtRFy8TUZTQLxi7ua0Z1NA0r796o5jU0DC5vyh+5lTQKfUFxkCGVNAuw8tk7EnU0DBm4PSnvZSQCPfhxopDlNAvjIoI47vUkCiipL2NRJTQL1mPqgDF1NAmYhbsb4WU0Cckle95jpTQBNgLyvydVNAFCzAzdpUU0Aq2zPTl3BTQNlWuqOqcVNAiOmivJZYU0CdHPohiFtTQKQLS0ztGlNAfyuCtcfZUkCpOUe8qrBSQKAUhNzrrVJADbEEkQHPUkA6TQsQ3DRTQLgUHcNDilNAIatd9yxGVEAOGoYF5i5VQAazFqDtWFRA8b2udw8fU0Bv2uNROB9SQGDLUUaCcVBAX6Lim14iT0AoRb9i9EVOQDjzdDjT401A\"},\"shape\":[174],\"dtype\":\"float64\",\"order\":\"little\"}]]}}},\"view\":{\"type\":\"object\",\"name\":\"CDSView\",\"id\":\"p1840\",\"attributes\":{\"filter\":{\"type\":\"object\",\"name\":\"AllIndices\",\"id\":\"p1841\"}}},\"glyph\":{\"type\":\"object\",\"name\":\"Line\",\"id\":\"p1836\",\"attributes\":{\"x\":{\"type\":\"field\",\"field\":\"x\"},\"y\":{\"type\":\"field\",\"field\":\"y\"},\"line_color\":\"red\",\"line_width\":2}},\"nonselection_glyph\":{\"type\":\"object\",\"name\":\"Line\",\"id\":\"p1837\",\"attributes\":{\"x\":{\"type\":\"field\",\"field\":\"x\"},\"y\":{\"type\":\"field\",\"field\":\"y\"},\"line_color\":\"red\",\"line_alpha\":0.1,\"line_width\":2}},\"muted_glyph\":{\"type\":\"object\",\"name\":\"Line\",\"id\":\"p1838\",\"attributes\":{\"x\":{\"type\":\"field\",\"field\":\"x\"},\"y\":{\"type\":\"field\",\"field\":\"y\"},\"line_color\":\"red\",\"line_alpha\":0.2,\"line_width\":2}}}},{\"type\":\"object\",\"name\":\"GlyphRenderer\",\"id\":\"p1849\",\"attributes\":{\"data_source\":{\"type\":\"object\",\"name\":\"ColumnDataSource\",\"id\":\"p1843\",\"attributes\":{\"selected\":{\"type\":\"object\",\"name\":\"Selection\",\"id\":\"p1844\",\"attributes\":{\"indices\":[],\"line_indices\":[]}},\"selection_policy\":{\"type\":\"object\",\"name\":\"UnionRenderers\",\"id\":\"p1845\"},\"data\":{\"type\":\"map\",\"entries\":[[\"x0\",[22.59999990463257]],[\"y0\",[0.0]],[\"x1\",[22.59999990463257]],[\"y1\",[326.80125]]]}}},\"view\":{\"type\":\"object\",\"name\":\"CDSView\",\"id\":\"p1850\",\"attributes\":{\"filter\":{\"type\":\"object\",\"name\":\"AllIndices\",\"id\":\"p1851\"}}},\"glyph\":{\"type\":\"object\",\"name\":\"Segment\",\"id\":\"p1846\",\"attributes\":{\"x0\":{\"type\":\"field\",\"field\":\"x0\"},\"y0\":{\"type\":\"field\",\"field\":\"y0\"},\"x1\":{\"type\":\"field\",\"field\":\"x1\"},\"y1\":{\"type\":\"field\",\"field\":\"y1\"},\"line_color\":{\"type\":\"value\",\"value\":\"lightblue\"},\"line_width\":{\"type\":\"value\",\"value\":3}}},\"nonselection_glyph\":{\"type\":\"object\",\"name\":\"Segment\",\"id\":\"p1847\",\"attributes\":{\"x0\":{\"type\":\"field\",\"field\":\"x0\"},\"y0\":{\"type\":\"field\",\"field\":\"y0\"},\"x1\":{\"type\":\"field\",\"field\":\"x1\"},\"y1\":{\"type\":\"field\",\"field\":\"y1\"},\"line_color\":{\"type\":\"value\",\"value\":\"lightblue\"},\"line_alpha\":{\"type\":\"value\",\"value\":0.1},\"line_width\":{\"type\":\"value\",\"value\":3}}},\"muted_glyph\":{\"type\":\"object\",\"name\":\"Segment\",\"id\":\"p1848\",\"attributes\":{\"x0\":{\"type\":\"field\",\"field\":\"x0\"},\"y0\":{\"type\":\"field\",\"field\":\"y0\"},\"x1\":{\"type\":\"field\",\"field\":\"x1\"},\"y1\":{\"type\":\"field\",\"field\":\"y1\"},\"line_color\":{\"type\":\"value\",\"value\":\"lightblue\"},\"line_alpha\":{\"type\":\"value\",\"value\":0.2},\"line_width\":{\"type\":\"value\",\"value\":3}}}}},{\"type\":\"object\",\"name\":\"GlyphRenderer\",\"id\":\"p1858\",\"attributes\":{\"data_source\":{\"type\":\"object\",\"name\":\"ColumnDataSource\",\"id\":\"p1852\",\"attributes\":{\"selected\":{\"type\":\"object\",\"name\":\"Selection\",\"id\":\"p1853\",\"attributes\":{\"indices\":[],\"line_indices\":[]}},\"selection_policy\":{\"type\":\"object\",\"name\":\"UnionRenderers\",\"id\":\"p1854\"},\"data\":{\"type\":\"map\",\"entries\":[[\"x0\",[24.09999990463257]],[\"y0\",[0.0]],[\"x1\",[24.09999990463257]],[\"y1\",[326.80125]]]}}},\"view\":{\"type\":\"object\",\"name\":\"CDSView\",\"id\":\"p1859\",\"attributes\":{\"filter\":{\"type\":\"object\",\"name\":\"AllIndices\",\"id\":\"p1860\"}}},\"glyph\":{\"type\":\"object\",\"name\":\"Segment\",\"id\":\"p1855\",\"attributes\":{\"x0\":{\"type\":\"field\",\"field\":\"x0\"},\"y0\":{\"type\":\"field\",\"field\":\"y0\"},\"x1\":{\"type\":\"field\",\"field\":\"x1\"},\"y1\":{\"type\":\"field\",\"field\":\"y1\"},\"line_color\":{\"type\":\"value\",\"value\":\"darkseagreen\"}}},\"nonselection_glyph\":{\"type\":\"object\",\"name\":\"Segment\",\"id\":\"p1856\",\"attributes\":{\"x0\":{\"type\":\"field\",\"field\":\"x0\"},\"y0\":{\"type\":\"field\",\"field\":\"y0\"},\"x1\":{\"type\":\"field\",\"field\":\"x1\"},\"y1\":{\"type\":\"field\",\"field\":\"y1\"},\"line_color\":{\"type\":\"value\",\"value\":\"darkseagreen\"},\"line_alpha\":{\"type\":\"value\",\"value\":0.1}}},\"muted_glyph\":{\"type\":\"object\",\"name\":\"Segment\",\"id\":\"p1857\",\"attributes\":{\"x0\":{\"type\":\"field\",\"field\":\"x0\"},\"y0\":{\"type\":\"field\",\"field\":\"y0\"},\"x1\":{\"type\":\"field\",\"field\":\"x1\"},\"y1\":{\"type\":\"field\",\"field\":\"y1\"},\"line_color\":{\"type\":\"value\",\"value\":\"darkseagreen\"},\"line_alpha\":{\"type\":\"value\",\"value\":0.2}}}}},{\"type\":\"object\",\"name\":\"GlyphRenderer\",\"id\":\"p1867\",\"attributes\":{\"data_source\":{\"type\":\"object\",\"name\":\"ColumnDataSource\",\"id\":\"p1861\",\"attributes\":{\"selected\":{\"type\":\"object\",\"name\":\"Selection\",\"id\":\"p1862\",\"attributes\":{\"indices\":[],\"line_indices\":[]}},\"selection_policy\":{\"type\":\"object\",\"name\":\"UnionRenderers\",\"id\":\"p1863\"},\"data\":{\"type\":\"map\",\"entries\":[[\"x0\",[21.09999990463257]],[\"y0\",[0.0]],[\"x1\",[21.09999990463257]],[\"y1\",[326.80125]]]}}},\"view\":{\"type\":\"object\",\"name\":\"CDSView\",\"id\":\"p1868\",\"attributes\":{\"filter\":{\"type\":\"object\",\"name\":\"AllIndices\",\"id\":\"p1869\"}}},\"glyph\":{\"type\":\"object\",\"name\":\"Segment\",\"id\":\"p1864\",\"attributes\":{\"x0\":{\"type\":\"field\",\"field\":\"x0\"},\"y0\":{\"type\":\"field\",\"field\":\"y0\"},\"x1\":{\"type\":\"field\",\"field\":\"x1\"},\"y1\":{\"type\":\"field\",\"field\":\"y1\"},\"line_color\":{\"type\":\"value\",\"value\":\"darkseagreen\"}}},\"nonselection_glyph\":{\"type\":\"object\",\"name\":\"Segment\",\"id\":\"p1865\",\"attributes\":{\"x0\":{\"type\":\"field\",\"field\":\"x0\"},\"y0\":{\"type\":\"field\",\"field\":\"y0\"},\"x1\":{\"type\":\"field\",\"field\":\"x1\"},\"y1\":{\"type\":\"field\",\"field\":\"y1\"},\"line_color\":{\"type\":\"value\",\"value\":\"darkseagreen\"},\"line_alpha\":{\"type\":\"value\",\"value\":0.1}}},\"muted_glyph\":{\"type\":\"object\",\"name\":\"Segment\",\"id\":\"p1866\",\"attributes\":{\"x0\":{\"type\":\"field\",\"field\":\"x0\"},\"y0\":{\"type\":\"field\",\"field\":\"y0\"},\"x1\":{\"type\":\"field\",\"field\":\"x1\"},\"y1\":{\"type\":\"field\",\"field\":\"y1\"},\"line_color\":{\"type\":\"value\",\"value\":\"darkseagreen\"},\"line_alpha\":{\"type\":\"value\",\"value\":0.2}}}}},{\"type\":\"object\",\"name\":\"GlyphRenderer\",\"id\":\"p1876\",\"attributes\":{\"data_source\":{\"type\":\"object\",\"name\":\"ColumnDataSource\",\"id\":\"p1870\",\"attributes\":{\"selected\":{\"type\":\"object\",\"name\":\"Selection\",\"id\":\"p1871\",\"attributes\":{\"indices\":[],\"line_indices\":[]}},\"selection_policy\":{\"type\":\"object\",\"name\":\"UnionRenderers\",\"id\":\"p1872\"},\"data\":{\"type\":\"map\",\"entries\":[[\"x\",[22.59999990463257]],[\"y\",[326.80125]],[\"size\",[20]]]}}},\"view\":{\"type\":\"object\",\"name\":\"CDSView\",\"id\":\"p1877\",\"attributes\":{\"filter\":{\"type\":\"object\",\"name\":\"AllIndices\",\"id\":\"p1878\"}}},\"glyph\":{\"type\":\"object\",\"name\":\"Scatter\",\"id\":\"p1873\",\"attributes\":{\"x\":{\"type\":\"field\",\"field\":\"x\"},\"y\":{\"type\":\"field\",\"field\":\"y\"},\"size\":{\"type\":\"field\",\"field\":\"size\"},\"line_color\":{\"type\":\"value\",\"value\":\"lightblue\"},\"line_width\":{\"type\":\"value\",\"value\":3},\"fill_color\":{\"type\":\"value\",\"value\":null},\"marker\":{\"type\":\"value\",\"value\":\"square_cross\"}}},\"nonselection_glyph\":{\"type\":\"object\",\"name\":\"Scatter\",\"id\":\"p1874\",\"attributes\":{\"x\":{\"type\":\"field\",\"field\":\"x\"},\"y\":{\"type\":\"field\",\"field\":\"y\"},\"size\":{\"type\":\"field\",\"field\":\"size\"},\"line_color\":{\"type\":\"value\",\"value\":\"lightblue\"},\"line_alpha\":{\"type\":\"value\",\"value\":0.1},\"line_width\":{\"type\":\"value\",\"value\":3},\"fill_color\":{\"type\":\"value\",\"value\":null},\"fill_alpha\":{\"type\":\"value\",\"value\":0.1},\"hatch_alpha\":{\"type\":\"value\",\"value\":0.1},\"marker\":{\"type\":\"value\",\"value\":\"square_cross\"}}},\"muted_glyph\":{\"type\":\"object\",\"name\":\"Scatter\",\"id\":\"p1875\",\"attributes\":{\"x\":{\"type\":\"field\",\"field\":\"x\"},\"y\":{\"type\":\"field\",\"field\":\"y\"},\"size\":{\"type\":\"field\",\"field\":\"size\"},\"line_color\":{\"type\":\"value\",\"value\":\"lightblue\"},\"line_alpha\":{\"type\":\"value\",\"value\":0.2},\"line_width\":{\"type\":\"value\",\"value\":3},\"fill_color\":{\"type\":\"value\",\"value\":null},\"fill_alpha\":{\"type\":\"value\",\"value\":0.2},\"hatch_alpha\":{\"type\":\"value\",\"value\":0.2},\"marker\":{\"type\":\"value\",\"value\":\"square_cross\"}}}}}],\"toolbar\":{\"type\":\"object\",\"name\":\"Toolbar\",\"id\":\"p1763\",\"attributes\":{\"tools\":[{\"type\":\"object\",\"name\":\"PanTool\",\"id\":\"p1778\"},{\"type\":\"object\",\"name\":\"WheelZoomTool\",\"id\":\"p1779\",\"attributes\":{\"renderers\":\"auto\"}},{\"type\":\"object\",\"name\":\"BoxZoomTool\",\"id\":\"p1780\",\"attributes\":{\"overlay\":{\"type\":\"object\",\"name\":\"BoxAnnotation\",\"id\":\"p1781\",\"attributes\":{\"syncable\":false,\"line_color\":\"black\",\"line_alpha\":1.0,\"line_width\":2,\"line_dash\":[4,4],\"fill_color\":\"lightgrey\",\"fill_alpha\":0.5,\"level\":\"overlay\",\"visible\":false,\"left\":{\"type\":\"number\",\"value\":\"nan\"},\"right\":{\"type\":\"number\",\"value\":\"nan\"},\"top\":{\"type\":\"number\",\"value\":\"nan\"},\"bottom\":{\"type\":\"number\",\"value\":\"nan\"},\"left_units\":\"canvas\",\"right_units\":\"canvas\",\"top_units\":\"canvas\",\"bottom_units\":\"canvas\",\"handles\":{\"type\":\"object\",\"name\":\"BoxInteractionHandles\",\"id\":\"p1787\",\"attributes\":{\"all\":{\"type\":\"object\",\"name\":\"AreaVisuals\",\"id\":\"p1786\",\"attributes\":{\"fill_color\":\"white\",\"hover_fill_color\":\"lightgray\"}}}}}}}},{\"type\":\"object\",\"name\":\"SaveTool\",\"id\":\"p1788\"},{\"type\":\"object\",\"name\":\"ResetTool\",\"id\":\"p1789\"},{\"type\":\"object\",\"name\":\"HelpTool\",\"id\":\"p1790\"},{\"type\":\"object\",\"name\":\"HoverTool\",\"id\":\"p1822\",\"attributes\":{\"renderers\":\"auto\",\"tooltips\":[[\"Y-val\",\"@y{0.00}\"]]}}]}},\"left\":[{\"type\":\"object\",\"name\":\"LinearAxis\",\"id\":\"p1773\",\"attributes\":{\"ticker\":{\"type\":\"object\",\"name\":\"BasicTicker\",\"id\":\"p1774\",\"attributes\":{\"mantissas\":[1,2,5]}},\"formatter\":{\"type\":\"object\",\"name\":\"BasicTickFormatter\",\"id\":\"p1775\"},\"axis_label\":\"km/h\",\"axis_label_standoff\":10,\"axis_label_text_color\":\"#E0E0E0\",\"axis_label_text_font\":\"Helvetica\",\"axis_label_text_font_size\":\"1.25em\",\"axis_label_text_font_style\":\"normal\",\"major_label_policy\":{\"type\":\"object\",\"name\":\"AllLabels\",\"id\":\"p1776\"},\"major_label_text_color\":\"#E0E0E0\",\"major_label_text_font\":\"Helvetica\",\"major_label_text_font_size\":\"1.025em\",\"axis_line_color\":\"#E0E0E0\",\"axis_line_alpha\":0,\"major_tick_line_color\":\"#E0E0E0\",\"major_tick_line_alpha\":0,\"minor_tick_line_color\":\"#E0E0E0\",\"minor_tick_line_alpha\":0}},{\"type\":\"object\",\"name\":\"LinearAxis\",\"id\":\"p1793\",\"attributes\":{\"y_range_name\":\"altitudeFt\",\"ticker\":{\"type\":\"object\",\"name\":\"BasicTicker\",\"id\":\"p1794\",\"attributes\":{\"mantissas\":[1,2,5]}},\"formatter\":{\"type\":\"object\",\"name\":\"BasicTickFormatter\",\"id\":\"p1795\"},\"axis_label\":\"Alt (ft)\",\"axis_label_standoff\":10,\"axis_label_text_color\":\"#E0E0E0\",\"axis_label_text_font\":\"Helvetica\",\"axis_label_text_font_size\":\"1.25em\",\"axis_label_text_font_style\":\"normal\",\"major_label_policy\":{\"type\":\"object\",\"name\":\"AllLabels\",\"id\":\"p1796\"},\"major_label_text_color\":\"#E0E0E0\",\"major_label_text_font\":\"Helvetica\",\"major_label_text_font_size\":\"1.025em\",\"axis_line_color\":\"#E0E0E0\",\"axis_line_alpha\":0,\"major_tick_line_color\":\"#E0E0E0\",\"major_tick_line_alpha\":0,\"minor_tick_line_color\":\"#E0E0E0\",\"minor_tick_line_alpha\":0}},{\"type\":\"object\",\"name\":\"LinearAxis\",\"id\":\"p1797\",\"attributes\":{\"y_range_name\":\"angle\",\"ticker\":{\"type\":\"object\",\"name\":\"BasicTicker\",\"id\":\"p1798\",\"attributes\":{\"mantissas\":[1,2,5]}},\"formatter\":{\"type\":\"object\",\"name\":\"BasicTickFormatter\",\"id\":\"p1799\"},\"axis_label\":\"angle\",\"axis_label_standoff\":10,\"axis_label_text_color\":\"#E0E0E0\",\"axis_label_text_font\":\"Helvetica\",\"axis_label_text_font_size\":\"1.25em\",\"axis_label_text_font_style\":\"normal\",\"major_label_policy\":{\"type\":\"object\",\"name\":\"AllLabels\",\"id\":\"p1800\"},\"major_label_text_color\":\"#E0E0E0\",\"major_label_text_font\":\"Helvetica\",\"major_label_text_font_size\":\"1.025em\",\"axis_line_color\":\"#E0E0E0\",\"axis_line_alpha\":0,\"major_tick_line_color\":\"#E0E0E0\",\"major_tick_line_alpha\":0,\"minor_tick_line_color\":\"#E0E0E0\",\"minor_tick_line_alpha\":0}}],\"below\":[{\"type\":\"object\",\"name\":\"LinearAxis\",\"id\":\"p1768\",\"attributes\":{\"ticker\":{\"type\":\"object\",\"name\":\"BasicTicker\",\"id\":\"p1769\",\"attributes\":{\"mantissas\":[1,2,5]}},\"formatter\":{\"type\":\"object\",\"name\":\"BasicTickFormatter\",\"id\":\"p1770\"},\"axis_label\":\"seconds from exit\",\"axis_label_standoff\":10,\"axis_label_text_color\":\"#E0E0E0\",\"axis_label_text_font\":\"Helvetica\",\"axis_label_text_font_size\":\"1.25em\",\"axis_label_text_font_style\":\"normal\",\"major_label_policy\":{\"type\":\"object\",\"name\":\"AllLabels\",\"id\":\"p1771\"},\"major_label_text_color\":\"#E0E0E0\",\"major_label_text_font\":\"Helvetica\",\"major_label_text_font_size\":\"1.025em\",\"axis_line_color\":\"#E0E0E0\",\"axis_line_alpha\":0,\"major_tick_line_color\":\"#E0E0E0\",\"major_tick_line_alpha\":0,\"minor_tick_line_color\":\"#E0E0E0\",\"minor_tick_line_alpha\":0}}],\"center\":[{\"type\":\"object\",\"name\":\"Grid\",\"id\":\"p1772\",\"attributes\":{\"axis\":{\"id\":\"p1768\"},\"grid_line_color\":\"#E0E0E0\",\"grid_line_alpha\":0.25}},{\"type\":\"object\",\"name\":\"Grid\",\"id\":\"p1777\",\"attributes\":{\"dimension\":1,\"axis\":{\"id\":\"p1773\"},\"grid_line_color\":\"#E0E0E0\",\"grid_line_alpha\":0.25}},{\"type\":\"object\",\"name\":\"Legend\",\"id\":\"p1810\",\"attributes\":{\"border_line_alpha\":0,\"background_fill_color\":\"#20262B\",\"background_fill_alpha\":0.25,\"label_text_color\":\"#E0E0E0\",\"label_text_font\":\"Helvetica\",\"label_text_font_size\":\"1.025em\",\"label_standoff\":8,\"glyph_width\":15,\"spacing\":8,\"items\":[{\"type\":\"object\",\"name\":\"LegendItem\",\"id\":\"p1811\",\"attributes\":{\"label\":{\"type\":\"value\",\"value\":\"Alt (ft)\"},\"renderers\":[{\"id\":\"p1807\"}]}},{\"type\":\"object\",\"name\":\"LegendItem\",\"id\":\"p1821\",\"attributes\":{\"label\":{\"type\":\"value\",\"value\":\"angle\"},\"renderers\":[{\"id\":\"p1818\"}]}},{\"type\":\"object\",\"name\":\"LegendItem\",\"id\":\"p1832\",\"attributes\":{\"label\":{\"type\":\"value\",\"value\":\"speed\"},\"renderers\":[{\"id\":\"p1829\"}]}},{\"type\":\"object\",\"name\":\"LegendItem\",\"id\":\"p1842\",\"attributes\":{\"label\":{\"type\":\"value\",\"value\":\"H-speed\"},\"renderers\":[{\"id\":\"p1839\"}]}}]}}],\"background_fill_color\":\"#20262B\",\"border_fill_color\":\"#15191C\"}}]}};\n",
       "  const render_items = [{\"docid\":\"891d1fa1-b5dc-4a52-b1f7-000466fbe14e\",\"roots\":{\"p1754\":\"a175fdee-c1c9-4d2a-a17a-cc1e3851b04f\"},\"root_ids\":[\"p1754\"]}];\n",
       "  void root.Bokeh.embed.embed_items_notebook(docs_json, render_items);\n",
       "  }\n",
       "  if (root.Bokeh !== undefined) {\n",
       "    embed_document(root);\n",
       "  } else {\n",
       "    let attempts = 0;\n",
       "    const timer = setInterval(function(root) {\n",
       "      if (root.Bokeh !== undefined) {\n",
       "        clearInterval(timer);\n",
       "        embed_document(root);\n",
       "      } else {\n",
       "        attempts++;\n",
       "        if (attempts > 100) {\n",
       "          clearInterval(timer);\n",
       "          console.log(\"Bokeh: ERROR: Unable to run BokehJS code because BokehJS library is missing\");\n",
       "        }\n",
       "      }\n",
       "    }, 10, root)\n",
       "  }\n",
       "})(window);"
      ],
      "application/vnd.bokehjs_exec.v0+json": ""
     },
     "metadata": {
      "application/vnd.bokehjs_exec.v0+json": {
       "id": "p1754"
      }
     },
     "output_type": "display_data"
    },
    {
     "data": {
      "application/vnd.jupyter.widget-view+json": {
       "model_id": "7cc946e1ecb146558c257d38aab7ee17",
       "version_major": 2,
       "version_minor": 0
      },
      "text/plain": [
       "HTML(value='<hr><h1><span style=\"color: #0f0\">Miller-2024-championship-official R7_14-20-26:v1 jump - 🟢 valid …"
      ]
     },
     "metadata": {},
     "output_type": "display_data"
    },
    {
     "data": {
      "application/vnd.jupyter.widget-view+json": {
       "model_id": "bb4ef82e6332486b843c0b31fa10ba4d",
       "version_major": 2,
       "version_minor": 0
      },
      "text/plain": [
       "HTML(value='<h3>Max speed = 328; exit at 4101 m (13456 ft), end scoring window at 1845 m (6055 ft)')"
      ]
     },
     "metadata": {},
     "output_type": "display_data"
    },
    {
     "data": {
      "application/vnd.jupyter.widget-view+json": {
       "model_id": "07d83bceb48e44e0a3b7c3e0f54dd04e",
       "version_major": 2,
       "version_minor": 0
      },
      "text/plain": [
       "HTML(value='</h3>')"
      ]
     },
     "metadata": {},
     "output_type": "display_data"
    },
    {
     "data": {
      "text/html": [
       "<div>\n",
       "<style scoped>\n",
       "    .dataframe tbody tr th:only-of-type {\n",
       "        vertical-align: middle;\n",
       "    }\n",
       "\n",
       "    .dataframe tbody tr th {\n",
       "        vertical-align: top;\n",
       "    }\n",
       "\n",
       "    .dataframe thead th {\n",
       "        text-align: right;\n",
       "    }\n",
       "</style>\n",
       "<table border=\"1\" class=\"dataframe\">\n",
       "  <thead>\n",
       "    <tr style=\"text-align: right;\">\n",
       "      <th></th>\n",
       "      <th>time</th>\n",
       "      <th>vKMh</th>\n",
       "      <th>hKMh</th>\n",
       "      <th>speedAngle</th>\n",
       "      <th>distanceFromExit</th>\n",
       "      <th>altitude (ft)</th>\n",
       "      <th>netVectorKMh</th>\n",
       "    </tr>\n",
       "  </thead>\n",
       "  <tbody>\n",
       "    <tr>\n",
       "      <th></th>\n",
       "      <td>5.0</td>\n",
       "      <td>135</td>\n",
       "      <td>132</td>\n",
       "      <td>45.6</td>\n",
       "      <td>207.9</td>\n",
       "      <td>13071</td>\n",
       "      <td>189</td>\n",
       "    </tr>\n",
       "    <tr>\n",
       "      <th></th>\n",
       "      <td>10.0</td>\n",
       "      <td>211</td>\n",
       "      <td>124</td>\n",
       "      <td>59.6</td>\n",
       "      <td>384.2</td>\n",
       "      <td>12280</td>\n",
       "      <td>245</td>\n",
       "    </tr>\n",
       "    <tr>\n",
       "      <th></th>\n",
       "      <td>15.0</td>\n",
       "      <td>262</td>\n",
       "      <td>134</td>\n",
       "      <td>62.9</td>\n",
       "      <td>562.2</td>\n",
       "      <td>11190</td>\n",
       "      <td>295</td>\n",
       "    </tr>\n",
       "    <tr>\n",
       "      <th></th>\n",
       "      <td>20.0</td>\n",
       "      <td>285</td>\n",
       "      <td>136</td>\n",
       "      <td>64.6</td>\n",
       "      <td>753.9</td>\n",
       "      <td>9954</td>\n",
       "      <td>316</td>\n",
       "    </tr>\n",
       "    <tr>\n",
       "      <th></th>\n",
       "      <td>25.0</td>\n",
       "      <td>319</td>\n",
       "      <td>124</td>\n",
       "      <td>68.8</td>\n",
       "      <td>928.9</td>\n",
       "      <td>8569</td>\n",
       "      <td>342</td>\n",
       "    </tr>\n",
       "  </tbody>\n",
       "</table>\n",
       "</div>"
      ],
      "text/plain": [
       "  time  vKMh  hKMh  speedAngle  distanceFromExit  altitude (ft)  netVectorKMh\n",
       "   5.0   135   132        45.6             207.9          13071           189\n",
       "  10.0   211   124        59.6             384.2          12280           245\n",
       "  15.0   262   134        62.9             562.2          11190           295\n",
       "  20.0   285   136        64.6             753.9           9954           316\n",
       "  25.0   319   124        68.8             928.9           8569           342"
      ]
     },
     "metadata": {},
     "output_type": "display_data"
    },
    {
     "data": {
      "text/html": [
       "\n",
       "  <div id=\"e5a7b8bf-3e66-4e19-ad02-91a0b3b4d4ef\" data-root-id=\"p1897\" style=\"display: contents;\"></div>\n"
      ]
     },
     "metadata": {},
     "output_type": "display_data"
    },
    {
     "data": {
      "application/javascript": [
       "(function(root) {\n",
       "  function embed_document(root) {\n",
       "  const docs_json = {\"49dedff8-8336-49d0-a97c-ad5b0566376f\":{\"version\":\"3.5.2\",\"title\":\"Bokeh Application\",\"roots\":[{\"type\":\"object\",\"name\":\"Figure\",\"id\":\"p1897\",\"attributes\":{\"width\":900,\"height\":500,\"x_range\":{\"type\":\"object\",\"name\":\"Range1d\",\"id\":\"p1907\",\"attributes\":{\"end\":35.0}},\"y_range\":{\"type\":\"object\",\"name\":\"Range1d\",\"id\":\"p1908\",\"attributes\":{\"end\":550.0}},\"x_scale\":{\"type\":\"object\",\"name\":\"LinearScale\",\"id\":\"p1909\"},\"y_scale\":{\"type\":\"object\",\"name\":\"LinearScale\",\"id\":\"p1910\"},\"extra_y_ranges\":{\"type\":\"map\",\"entries\":[[\"altitudeFt\",{\"type\":\"object\",\"name\":\"Range1d\",\"id\":\"p1934\",\"attributes\":{\"start\":5560.733114400001,\"end\":13956.689766400003}}],[\"angle\",{\"type\":\"object\",\"name\":\"Range1d\",\"id\":\"p1935\",\"attributes\":{\"end\":90.0}}]]},\"title\":{\"type\":\"object\",\"name\":\"Title\",\"id\":\"p1900\",\"attributes\":{\"text\":\"Miller-2024-championship-official R7_14-20-26:v1\",\"text_color\":\"#E0E0E0\",\"text_font\":\"Helvetica\",\"text_font_size\":\"1.15em\"}},\"outline_line_color\":\"#E0E0E0\",\"outline_line_alpha\":0.25,\"renderers\":[{\"type\":\"object\",\"name\":\"GlyphRenderer\",\"id\":\"p1950\",\"attributes\":{\"y_range_name\":\"altitudeFt\",\"data_source\":{\"type\":\"object\",\"name\":\"ColumnDataSource\",\"id\":\"p1944\",\"attributes\":{\"selected\":{\"type\":\"object\",\"name\":\"Selection\",\"id\":\"p1945\",\"attributes\":{\"indices\":[],\"line_indices\":[]}},\"selection_policy\":{\"type\":\"object\",\"name\":\"UnionRenderers\",\"id\":\"p1946\"},\"data\":{\"type\":\"map\",\"entries\":[[\"x\",{\"type\":\"ndarray\",\"array\":{\"type\":\"bytes\",\"data\":\"AAAAAAAAAAAAAAAAmpnJPwAAAACamdk/AAAAgDMz4z8AAACAmZnpPwAAAAAAAPA/AAAAQDMz8z8AAACAZmb2PwAAAMCZmfk/AAAAwMzM/D8AAAAAAAAAQAAAAKCZmQFAAAAAQDMzA0AAAADgzMwEQAAAAGBmZgZAAAAAAAAACEAAAACgmZkJQAAAAEAzMwtAAAAA4MzMDEAAAABgZmYOQAAAAAAAABBAAAAA0MzMEEAAAACgmZkRQAAAAHBmZhJAAAAAMDMzE0AAAAAAAAAUQAAAANDMzBRAAAAAoJmZFUAAAABwZmYWQAAAADAzMxdAAAAAAAAAGEAAAADQzMwYQAAAAKCZmRlAAAAAcGZmGkAAAAAwMzMbQAAAAAAAABxAAAAA0MzMHEAAAACgmZkdQAAAAHBmZh5AAAAAMDMzH0AAAAAAAAAgQAAAAGhmZiBAAAAA0MzMIEAAAAA4MzMhQAAAAJiZmSFAAAAAAAAAIkAAAABoZmYiQAAAANDMzCJAAAAAODMzI0AAAACYmZkjQAAAAAAAACRAAAAAaGZmJEAAAADQzMwkQAAAADgzMyVAAAAAmJmZJUAAAAAAAAAmQAAAAGhmZiZAAAAA0MzMJkAAAAA4MzMnQAAAAJiZmSdAAAAAAAAAKEAAAABoZmYoQAAAANDMzChAAAAAODMzKUAAAACYmZkpQAAAAAAAACpAAAAAaGZmKkAAAADQzMwqQAAAADgzMytAAAAAmJmZK0AAAAAAAAAsQAAAAGhmZixAAAAA0MzMLEAAAAA4MzMtQAAAAJiZmS1AAAAAAAAALkAAAABoZmYuQAAAANDMzC5AAAAAODMzL0AAAACYmZkvQAAAAAAAADBAAAAANDMzMEAAAABoZmYwQAAAAJyZmTBAAAAAzMzMMEAAAAAAAAAxQAAAADQzMzFAAAAAaGZmMUAAAACcmZkxQAAAAMzMzDFAAAAAAAAAMkAAAAA0MzMyQAAAAGhmZjJAAAAAnJmZMkAAAADMzMwyQAAAAAAAADNAAAAANDMzM0AAAABoZmYzQAAAAJyZmTNAAAAAzMzMM0AAAAAAAAA0QAAAADQzMzRAAAAAaGZmNEAAAACcmZk0QAAAAMzMzDRAAAAAAAAANUAAAAA0MzM1QAAAAGhmZjVAAAAAnJmZNUAAAADMzMw1QAAAAAAAADZAAAAANDMzNkAAAABoZmY2QAAAAJyZmTZAAAAAzMzMNkAAAAAAAAA3QAAAADQzMzdAAAAAaGZmN0AAAACcmZk3QAAAAMzMzDdAAAAAAAAAOEAAAAA0MzM4QAAAAGhmZjhAAAAAnJmZOEAAAADMzMw4QAAAAAAAADlAAAAANDMzOUAAAABoZmY5QAAAAJyZmTlAAAAAzMzMOUAAAAAAAAA6QAAAADQzMzpAAAAAaGZmOkAAAACcmZk6QAAAAMzMzDpAAAAAAAAAO0AAAAA0MzM7QAAAAGhmZjtAAAAAnJmZO0AAAADMzMw7QAAAAAAAADxAAAAANDMzPEAAAABoZmY8QAAAAJyZmTxAAAAAzMzMPEAAAAAAAAA9QAAAADQzMz1AAAAAaGZmPUAAAACcmZk9QAAAAMzMzD1AAAAAAAAAPkAAAAA0MzM+QAAAAGhmZj5AAAAAnJmZPkAAAADMzMw+QAAAAAAAAD9AAAAANDMzP0AAAABoZmY/QAAAAJyZmT9AAAAAzMzMP0AAAAAAAABAQAAAAJqZGUBAAAAANDMzQEAAAADOzExAQAAAAGZmZkBAAAAAAACAQEAAAACamZlAQAAAADQzs0BAAAAAzszMQEAAAABmZuZAQAAAAAAAAEFA\"},\"shape\":[171],\"dtype\":\"float64\",\"order\":\"little\"}],[\"y\",{\"type\":\"ndarray\",\"array\":{\"type\":\"bytes\",\"data\":\"8vBDSlhIykCL3xRWUkXKQA+GlWXjQcpAdzx3zGo+ykAItHQFWzrKQGCvsODmNcpAyfxItu8wykD+74gKjSvKQALo5tHjJcpA1+snrbkfykDIBncMHBnKQERfiyccEspASLGSRcgKykBOTHIb8ALKQC/186bS+slAjXNAtyzyyUC4lzRGG+nJQOrkVlLI38lAK8HicB7WyUDwFYLBAszJQFCxahCGwclA4DGXr6a2yUCRSrGjcavJQHNID+jZn8lA7mpNTuiTyUAJdx1grIfJQJfQE4UEe8lAfMSeLBNuyUBrA8Et2WDJQGiv42RPU8lAgNGKFHdFyUAlbgSYaDfJQFrJIqgVKclA2Ne61HAayUDnpPeNhwvJQH9rJ0pK/MhAit7zDcbsyECCik+m9tzIQMLHu37czMhAjn/6Koy8yECE806qGqzIQDV+4ZWUm8hArwbNUwKLyEDp6cg2TXrIQPyWlBZhachATBC/rBpYyEDKKlvaf0bIQF46nK94NMhAjpAmgxAiyEDtqYvKTA/IQC4VZYA1/MdAoWWChrvox0DChkye/9THQDT+2H8IwcdAjQusiK+sx0Bwk1FlIJjHQMzp/CVDg8dAyCk6khtux0DkYNtHw1jHQFqRh3RGQ8dAknu6usstx0C2GJcFXhjHQAbR/xf0AsdAtiW8TnztxkCJk0WrzNfGQDlu57H8wcZAUg4LWt2rxkAMmMCtc5XGQAZNS6zUfsZA5tQp6v9nxkDabFEL8lDGQIea18exOcZAjePR10UixkBzmeSRuQrGQEoJZvH/8sVAWT6BZibbxUAvEn+5G8PFQOEwLNr3qsVAt8ccFcGSxUDDAT6JcXrFQIKN69/9YcVA9GolGWZJxUAwaCEBuzDFQOkTeZIEGMVALHewD0T/xEAMvbSXc+bEQGoQi728zcRAHngQlhS1xECI7w46kpzEQFzqe2gKhMRAc6xBTp5rxEDJ1un2KFPEQI/I0uKfOsRApCsi1A4ixEAis2lbUwnEQJDStqtx8MNA8c3bfVvXw0Ark9BMDr7DQD9E/vSCpMNAFXKlns2Kw0BM/5JU3nDDQGQbApHHVsNAZCwu6XM8w0CGVidn6CHDQEQEd/snB8NARV57C1DswkDkXT8OPNHCQE19xb8UtsJALKhebcuawkDKC59jZn/CQNbXqajIY8JAy/fn/RJIwkBaeRONLyzCQC/JXHQtEMJAX3Enxyv0wUBTMu8nUdjBQEKv5M+EvMFAK4mRyqGgwUDUvU7qm4TBQBAQJ4t2aMFA8sxwqCRMwUAcWNgdtC/BQHTjJx8UE8FAXWopxVv2wEBQec/chtnAQF47B4WPvMBA6aua1oyfwECwYqcOiILAQJhNJah+ZcBAQJOzZlJIwEATlVf4BCvAQM/qLpqfDcBA6sn8ox/gv0Bq4Ox7yaS/QLq55692ab9AZK5WN/gtv0C0DTc7TfK+QPqF/NiZtr5AKnReY8d6vkAeWVQfIz++QIyjzcz3A75AOtBDbRvJvUAVOq+xO469QNs0Wx5wU71A6h+Ov34YvUBW5CGdq928QEv1U9JZo7xAm/qKf1lpvEA0Q/S1CDC8QOSAApRL9rtAIzTdRs68u0CSqpJt9YK7QBYKIpxgSbtAdgcM7YcQu0Blpv6LQdm6QCuwEdLko7pA9/b4zvlwukDIre79Uj+6QLsNar91DrpAVNhW/WvduUAx8IHCJay5QA2OkleHerlAJdaYxpVIuUBMi59rVBa5QL8ViQm647hA8F7/v6uwuEBGhDWEOX24QMxsRrxrSbhAgRgyaEIVuECLm7+u++C3QDukYq27rLdA\"},\"shape\":[171],\"dtype\":\"float64\",\"order\":\"little\"}]]}}},\"view\":{\"type\":\"object\",\"name\":\"CDSView\",\"id\":\"p1951\",\"attributes\":{\"filter\":{\"type\":\"object\",\"name\":\"AllIndices\",\"id\":\"p1952\"}}},\"glyph\":{\"type\":\"object\",\"name\":\"Line\",\"id\":\"p1947\",\"attributes\":{\"x\":{\"type\":\"field\",\"field\":\"x\"},\"y\":{\"type\":\"field\",\"field\":\"y\"},\"line_color\":\"palegoldenrod\",\"line_width\":2}},\"nonselection_glyph\":{\"type\":\"object\",\"name\":\"Line\",\"id\":\"p1948\",\"attributes\":{\"x\":{\"type\":\"field\",\"field\":\"x\"},\"y\":{\"type\":\"field\",\"field\":\"y\"},\"line_color\":\"palegoldenrod\",\"line_alpha\":0.1,\"line_width\":2}},\"muted_glyph\":{\"type\":\"object\",\"name\":\"Line\",\"id\":\"p1949\",\"attributes\":{\"x\":{\"type\":\"field\",\"field\":\"x\"},\"y\":{\"type\":\"field\",\"field\":\"y\"},\"line_color\":\"palegoldenrod\",\"line_alpha\":0.2,\"line_width\":2}}}},{\"type\":\"object\",\"name\":\"GlyphRenderer\",\"id\":\"p1961\",\"attributes\":{\"y_range_name\":\"angle\",\"data_source\":{\"type\":\"object\",\"name\":\"ColumnDataSource\",\"id\":\"p1955\",\"attributes\":{\"selected\":{\"type\":\"object\",\"name\":\"Selection\",\"id\":\"p1956\",\"attributes\":{\"indices\":[],\"line_indices\":[]}},\"selection_policy\":{\"type\":\"object\",\"name\":\"UnionRenderers\",\"id\":\"p1957\"},\"data\":{\"type\":\"map\",\"entries\":[[\"x\",{\"type\":\"ndarray\",\"array\":{\"type\":\"bytes\",\"data\":\"AAAAAAAAAAAAAAAAmpnJPwAAAACamdk/AAAAgDMz4z8AAACAmZnpPwAAAAAAAPA/AAAAQDMz8z8AAACAZmb2PwAAAMCZmfk/AAAAwMzM/D8AAAAAAAAAQAAAAKCZmQFAAAAAQDMzA0AAAADgzMwEQAAAAGBmZgZAAAAAAAAACEAAAACgmZkJQAAAAEAzMwtAAAAA4MzMDEAAAABgZmYOQAAAAAAAABBAAAAA0MzMEEAAAACgmZkRQAAAAHBmZhJAAAAAMDMzE0AAAAAAAAAUQAAAANDMzBRAAAAAoJmZFUAAAABwZmYWQAAAADAzMxdAAAAAAAAAGEAAAADQzMwYQAAAAKCZmRlAAAAAcGZmGkAAAAAwMzMbQAAAAAAAABxAAAAA0MzMHEAAAACgmZkdQAAAAHBmZh5AAAAAMDMzH0AAAAAAAAAgQAAAAGhmZiBAAAAA0MzMIEAAAAA4MzMhQAAAAJiZmSFAAAAAAAAAIkAAAABoZmYiQAAAANDMzCJAAAAAODMzI0AAAACYmZkjQAAAAAAAACRAAAAAaGZmJEAAAADQzMwkQAAAADgzMyVAAAAAmJmZJUAAAAAAAAAmQAAAAGhmZiZAAAAA0MzMJkAAAAA4MzMnQAAAAJiZmSdAAAAAAAAAKEAAAABoZmYoQAAAANDMzChAAAAAODMzKUAAAACYmZkpQAAAAAAAACpAAAAAaGZmKkAAAADQzMwqQAAAADgzMytAAAAAmJmZK0AAAAAAAAAsQAAAAGhmZixAAAAA0MzMLEAAAAA4MzMtQAAAAJiZmS1AAAAAAAAALkAAAABoZmYuQAAAANDMzC5AAAAAODMzL0AAAACYmZkvQAAAAAAAADBAAAAANDMzMEAAAABoZmYwQAAAAJyZmTBAAAAAzMzMMEAAAAAAAAAxQAAAADQzMzFAAAAAaGZmMUAAAACcmZkxQAAAAMzMzDFAAAAAAAAAMkAAAAA0MzMyQAAAAGhmZjJAAAAAnJmZMkAAAADMzMwyQAAAAAAAADNAAAAANDMzM0AAAABoZmYzQAAAAJyZmTNAAAAAzMzMM0AAAAAAAAA0QAAAADQzMzRAAAAAaGZmNEAAAACcmZk0QAAAAMzMzDRAAAAAAAAANUAAAAA0MzM1QAAAAGhmZjVAAAAAnJmZNUAAAADMzMw1QAAAAAAAADZAAAAANDMzNkAAAABoZmY2QAAAAJyZmTZAAAAAzMzMNkAAAAAAAAA3QAAAADQzMzdAAAAAaGZmN0AAAACcmZk3QAAAAMzMzDdAAAAAAAAAOEAAAAA0MzM4QAAAAGhmZjhAAAAAnJmZOEAAAADMzMw4QAAAAAAAADlAAAAANDMzOUAAAABoZmY5QAAAAJyZmTlAAAAAzMzMOUAAAAAAAAA6QAAAADQzMzpAAAAAaGZmOkAAAACcmZk6QAAAAMzMzDpAAAAAAAAAO0AAAAA0MzM7QAAAAGhmZjtAAAAAnJmZO0AAAADMzMw7QAAAAAAAADxAAAAANDMzPEAAAABoZmY8QAAAAJyZmTxAAAAAzMzMPEAAAAAAAAA9QAAAADQzMz1AAAAAaGZmPUAAAACcmZk9QAAAAMzMzD1AAAAAAAAAPkAAAAA0MzM+QAAAAGhmZj5AAAAAnJmZPkAAAADMzMw+QAAAAAAAAD9AAAAANDMzP0AAAABoZmY/QAAAAJyZmT9AAAAAzMzMP0AAAAAAAABAQAAAAJqZGUBAAAAANDMzQEAAAADOzExAQAAAAGZmZkBAAAAAAACAQEAAAACamZlAQAAAADQzs0BAAAAAzszMQEAAAABmZuZAQAAAAAAAAEFA\"},\"shape\":[171],\"dtype\":\"float64\",\"order\":\"little\"}],[\"y\",{\"type\":\"ndarray\",\"array\":{\"type\":\"bytes\",\"data\":\"MzMzMzMzIkCamZmZmZklQAAAAAAAAClAAAAAAAAALECamZmZmZkuQJqZmZmZGTFAMzMzMzOzMkBmZmZmZmY0QAAAAAAAADZAZmZmZmbmN0AAAAAAAIA5QJqZmZmZGTtAmpmZmZmZPEBmZmZmZmY+QJqZmZmZmT9AzczMzMyMQEDNzMzMzExBQM3MzMzMDEJAAAAAAADAQkCamZmZmVlDQJqZmZmZGURAMzMzMzOzREAAAAAAAEBFQJqZmZmZ2UVAzczMzMxMRkDNzMzMzMxGQM3MzMzMTEdAMzMzMzOzR0BmZmZmZiZIQAAAAAAAgEhAmpmZmZnZSEBmZmZmZiZJQM3MzMzMjElAZmZmZmbmSUAzMzMzMzNKQDMzMzMzc0pAzczMzMzMSkDNzMzMzAxLQJqZmZmZWUtAMzMzMzNzS0DNzMzMzIxLQM3MzMzMjEtAMzMzMzOzS0BmZmZmZuZLQGZmZmZmJkxAmpmZmZlZTEAAAAAAAMBMQDMzMzMz80xAMzMzMzMzTUDNzMzMzIxNQM3MzMzMzE1AmpmZmZnZTUAAAAAAAABOQM3MzMzMTE5AZmZmZmZmTkAzMzMzM7NOQAAAAAAAwE5AzczMzMzMTkCamZmZmdlOQGZmZmZm5k5AZmZmZmamTkDNzMzMzIxOQAAAAAAAgE5AZmZmZmamTkAzMzMzM7NOQGZmZmZm5k5AZmZmZmbmTkDNzMzMzAxPQGZmZmZmJk9AzczMzMxMT0CamZmZmVlPQM3MzMzMTE9AZmZmZmZmT0CamZmZmVlPQGZmZmZmZk9AMzMzMzNzT0DNzMzMzIxPQAAAAAAAgE9AAAAAAACAT0DNzMzMzIxPQM3MzMzMjE9AmpmZmZmZT0DNzMzMzIxPQDMzMzMzc09AMzMzMzNzT0DNzMzMzExPQDMzMzMzM09AzczMzMwMT0AzMzMzM/NOQGZmZmZm5k5AZmZmZmbmTkAzMzMzM/NOQGZmZmZm5k5AZmZmZmbmTkAAAAAAAABPQDMzMzMzM09AzczMzMxMT0DNzMzMzIxPQDMzMzMzs09AMzMzMzPzT0BmZmZmZiZQQAAAAAAAQFBAAAAAAABgUECamZmZmXlQQGZmZmZmhlBAZmZmZmamUEAzMzMzM7NQQDMzMzMzs1BAzczMzMysUEAAAAAAAMBQQM3MzMzMzFBAMzMzMzPTUEAzMzMzM/NQQJqZmZmZ+VBAAAAAAADgUECamZmZmdlQQJqZmZmZ2VBAZmZmZmbmUEAzMzMzM/NQQJqZmZmZ+VBAZmZmZmYGUUDNzMzMzAxRQDMzMzMzE1FAAAAAAAAgUUDNzMzMzCxRQDMzMzMzM1FAZmZmZmYmUUBmZmZmZiZRQJqZmZmZOVFAAAAAAABAUUCamZmZmVlRQGZmZmZmZlFAzczMzMxsUUAAAAAAAGBRQDMzMzMzU1FAMzMzMzNTUUDNzMzMzExRQDMzMzMzU1FAAAAAAABAUUBmZmZmZiZRQM3MzMzMDFFAmpmZmZn5UEAAAAAAAABRQGZmZmZmBlFAmpmZmZkZUUDNzMzMzAxRQGZmZmZm5lBAZmZmZmbGUEAzMzMzM9NQQGZmZmZm5lBAmpmZmZkZUUDNzMzMzExRQDMzMzMzc1FAZmZmZmZGUUBmZmZmZgZRQGZmZmZmplBAZmZmZmZmUEAAAAAAAEBQQJqZmZmZOVBAAAAAAABAUEAAAAAAAGBQQGZmZmZmZlBAzczMzMyMUEBmZmZmZoZQQGZmZmZmplBAmpmZmZm5UEAAAAAAAOBQQJqZmZmZ+VBAmpmZmZn5UEDNzMzMzOxQQAAAAAAA4FBA\"},\"shape\":[171],\"dtype\":\"float64\",\"order\":\"little\"}]]}}},\"view\":{\"type\":\"object\",\"name\":\"CDSView\",\"id\":\"p1962\",\"attributes\":{\"filter\":{\"type\":\"object\",\"name\":\"AllIndices\",\"id\":\"p1963\"}}},\"glyph\":{\"type\":\"object\",\"name\":\"Line\",\"id\":\"p1958\",\"attributes\":{\"x\":{\"type\":\"field\",\"field\":\"x\"},\"y\":{\"type\":\"field\",\"field\":\"y\"},\"line_color\":\"deepskyblue\",\"line_width\":2}},\"nonselection_glyph\":{\"type\":\"object\",\"name\":\"Line\",\"id\":\"p1959\",\"attributes\":{\"x\":{\"type\":\"field\",\"field\":\"x\"},\"y\":{\"type\":\"field\",\"field\":\"y\"},\"line_color\":\"deepskyblue\",\"line_alpha\":0.1,\"line_width\":2}},\"muted_glyph\":{\"type\":\"object\",\"name\":\"Line\",\"id\":\"p1960\",\"attributes\":{\"x\":{\"type\":\"field\",\"field\":\"x\"},\"y\":{\"type\":\"field\",\"field\":\"y\"},\"line_color\":\"deepskyblue\",\"line_alpha\":0.2,\"line_width\":2}}}},{\"type\":\"object\",\"name\":\"GlyphRenderer\",\"id\":\"p1972\",\"attributes\":{\"data_source\":{\"type\":\"object\",\"name\":\"ColumnDataSource\",\"id\":\"p1966\",\"attributes\":{\"selected\":{\"type\":\"object\",\"name\":\"Selection\",\"id\":\"p1967\",\"attributes\":{\"indices\":[],\"line_indices\":[]}},\"selection_policy\":{\"type\":\"object\",\"name\":\"UnionRenderers\",\"id\":\"p1968\"},\"data\":{\"type\":\"map\",\"entries\":[[\"x\",{\"type\":\"ndarray\",\"array\":{\"type\":\"bytes\",\"data\":\"AAAAAAAAAAAAAAAAmpnJPwAAAACamdk/AAAAgDMz4z8AAACAmZnpPwAAAAAAAPA/AAAAQDMz8z8AAACAZmb2PwAAAMCZmfk/AAAAwMzM/D8AAAAAAAAAQAAAAKCZmQFAAAAAQDMzA0AAAADgzMwEQAAAAGBmZgZAAAAAAAAACEAAAACgmZkJQAAAAEAzMwtAAAAA4MzMDEAAAABgZmYOQAAAAAAAABBAAAAA0MzMEEAAAACgmZkRQAAAAHBmZhJAAAAAMDMzE0AAAAAAAAAUQAAAANDMzBRAAAAAoJmZFUAAAABwZmYWQAAAADAzMxdAAAAAAAAAGEAAAADQzMwYQAAAAKCZmRlAAAAAcGZmGkAAAAAwMzMbQAAAAAAAABxAAAAA0MzMHEAAAACgmZkdQAAAAHBmZh5AAAAAMDMzH0AAAAAAAAAgQAAAAGhmZiBAAAAA0MzMIEAAAAA4MzMhQAAAAJiZmSFAAAAAAAAAIkAAAABoZmYiQAAAANDMzCJAAAAAODMzI0AAAACYmZkjQAAAAAAAACRAAAAAaGZmJEAAAADQzMwkQAAAADgzMyVAAAAAmJmZJUAAAAAAAAAmQAAAAGhmZiZAAAAA0MzMJkAAAAA4MzMnQAAAAJiZmSdAAAAAAAAAKEAAAABoZmYoQAAAANDMzChAAAAAODMzKUAAAACYmZkpQAAAAAAAACpAAAAAaGZmKkAAAADQzMwqQAAAADgzMytAAAAAmJmZK0AAAAAAAAAsQAAAAGhmZixAAAAA0MzMLEAAAAA4MzMtQAAAAJiZmS1AAAAAAAAALkAAAABoZmYuQAAAANDMzC5AAAAAODMzL0AAAACYmZkvQAAAAAAAADBAAAAANDMzMEAAAABoZmYwQAAAAJyZmTBAAAAAzMzMMEAAAAAAAAAxQAAAADQzMzFAAAAAaGZmMUAAAACcmZkxQAAAAMzMzDFAAAAAAAAAMkAAAAA0MzMyQAAAAGhmZjJAAAAAnJmZMkAAAADMzMwyQAAAAAAAADNAAAAANDMzM0AAAABoZmYzQAAAAJyZmTNAAAAAzMzMM0AAAAAAAAA0QAAAADQzMzRAAAAAaGZmNEAAAACcmZk0QAAAAMzMzDRAAAAAAAAANUAAAAA0MzM1QAAAAGhmZjVAAAAAnJmZNUAAAADMzMw1QAAAAAAAADZAAAAANDMzNkAAAABoZmY2QAAAAJyZmTZAAAAAzMzMNkAAAAAAAAA3QAAAADQzMzdAAAAAaGZmN0AAAACcmZk3QAAAAMzMzDdAAAAAAAAAOEAAAAA0MzM4QAAAAGhmZjhAAAAAnJmZOEAAAADMzMw4QAAAAAAAADlAAAAANDMzOUAAAABoZmY5QAAAAJyZmTlAAAAAzMzMOUAAAAAAAAA6QAAAADQzMzpAAAAAaGZmOkAAAACcmZk6QAAAAMzMzDpAAAAAAAAAO0AAAAA0MzM7QAAAAGhmZjtAAAAAnJmZO0AAAADMzMw7QAAAAAAAADxAAAAANDMzPEAAAABoZmY8QAAAAJyZmTxAAAAAzMzMPEAAAAAAAAA9QAAAADQzMz1AAAAAaGZmPUAAAACcmZk9QAAAAMzMzD1AAAAAAAAAPkAAAAA0MzM+QAAAAGhmZj5AAAAAnJmZPkAAAADMzMw+QAAAAAAAAD9AAAAANDMzP0AAAABoZmY/QAAAAJyZmT9AAAAAzMzMP0AAAAAAAABAQAAAAJqZGUBAAAAANDMzQEAAAADOzExAQAAAAGZmZkBAAAAAAACAQEAAAACamZlAQAAAADQzs0BAAAAAzszMQEAAAABmZuZAQAAAAAAAAEFA\"},\"shape\":[171],\"dtype\":\"float64\",\"order\":\"little\"}],[\"y\",{\"type\":\"ndarray\",\"array\":{\"type\":\"bytes\",\"data\":\"GARWDi0yPUDsUbgehetAQPyp8dJNIkNA0SLb+X7qREDP91PjpZtGQK5H4XoU7khAEVg5tMj2SkAyCKwcWiRNQFG4HoXrUU9A5KWbxCDwUEDwp8ZLNwlSQAisHFpkG1NAMQisHFokVED0/dR46WZVQFYOLbKdT1ZAarx0kxhkV0CPwvUoXG9YQHe+nxovnVlAj8L1KFyvWkDVeOkmMahbQKAaL90k5lxAoBov3SQGXkASg8DKoeVeQCPb+X5q/F9AyXa+nxpvYEACK4cW2d5gQBfZzvdTY2FAWDm0yHbOYUCWQ4ts5ztiQN4kBoGVo2JABFYOLbIdY0BnZmZmZnZjQLx0kxgE1mNA/tR46SZBZEBEi2zn+6lkQJ3vp8ZLB2VA4XoUrkdxZUAfhetRuN5lQGHl0CLbSWZADi2yne93ZkDHSzeJQaBmQMl2vp8an2ZAlkOLbOe7ZkAGgZVDiwxnQGQ730+NZ2dAoBov3STWZ0Coxks3iWFoQLx0kxgE5mhA8tJNYhBYaUDm0CLb+e5pQBFYObTIZmpAd76fGi+9akDRItv5fhprQNV46SYxqGtATDeJQWD1a0BvEoPAynFsQM3MzMzMzGxAVzm0yHYObUDSItv5flptQGIQWDm0mG1AwcqhRbZjbUD6fmq8dENtQOXQItv5Tm1AbhKDwMqRbUAdWmQ7379tQEnhehSuN25AzvdT46V7bkA1XrpJDNJuQJhuEoPAKm9ADAIrhxZ5b0CF61G4HsVvQCQGgZVD+29AVg4tsp0fcEBCYOXQIitwQARWDi2yTXBAW2Q7309lcEAhsHJokYVwQJHtfD81jnBA8tJNYhCgcEBSuB6F67FwQKrx0k1iyHBAexSuR+HicEBh5dAi2/FwQN4kBoGV83BAy6FFtvP9cEDYo3A9CvdwQOf7qfHS7XBAEVg5tMjWcECq8dJNYshwQLbz/dR4wXBAvHSTGAS+cEAdWmQ7389wQBfZzvdT03BAgZVDi2zfcEDVeOkmMfhwQJQYBFYOHXFAW2Q73089cUCLbOf7qWlxQM/3U+Oli3FAF9nO91OrcUDP91PjpdNxQJqZmZmZ8XFASOF6FK4fckB7FK5H4UpyQGQ730+NV3JAMQisHFp0ckBjEFg5tKByQFCNl24Sq3JAtMh2vp+6ckD8qfHSTdpyQMl2vp8a93JAokW28/0Mc0BqvHSTGCxzQML1KFyPQnNA+n5qvHQjc0AX2c73UxNzQBfZzvdTE3NAZDvfT40vc0BFtvP91EBzQBFYObTIXnNAbef7qfFyc0A+CtejcI1zQBSuR+F6pHNAbef7qfG6c0DP91PjpctzQJZDi2zn63NAJQaBlUPjc0CkcD0K1+NzQAisHFpk83NAYxBYObQIdEC7SQwCKx90QIts5/upOXRAZDvfT41PdEDVeOkmMVh0QGHl0CLbUXRAMN0kBoFtdEAnMQisHHJ0QJQYBFYOfXRAHVpkO993dEBKDAIrh150QAisHFpkO3RAvHSTGAQedECq8dJNYih0QKrx0k1iKHRApHA9CtcrdEAxCKwcWiR0QJqZmZmZ6XNAke18PzWmc0AL16NwPapzQIlBYOXQqnNAd76fGi+1c0C/nxov3dRzQIgW2c73q3NAH4XrUbhWc0BCYOXQIrNyQG8Sg8DKwXFAAiuHFtkmcUBCYOXQIrtwQFyPwvUorHBAPgrXo3C9cEDsUbgehetwQFXjpZvE+HBAAAAAAAAocUBh5dAi2zlxQKjGSzeJWXFAXrpJDAKDcUCiRbbz/aRxQGHl0CLbyXFAtMh2vp/icUC5HoXrUeBxQLtJDAIr33FA\"},\"shape\":[171],\"dtype\":\"float64\",\"order\":\"little\"}]]}}},\"view\":{\"type\":\"object\",\"name\":\"CDSView\",\"id\":\"p1973\",\"attributes\":{\"filter\":{\"type\":\"object\",\"name\":\"AllIndices\",\"id\":\"p1974\"}}},\"glyph\":{\"type\":\"object\",\"name\":\"Line\",\"id\":\"p1969\",\"attributes\":{\"x\":{\"type\":\"field\",\"field\":\"x\"},\"y\":{\"type\":\"field\",\"field\":\"y\"},\"line_color\":\"limegreen\",\"line_width\":2}},\"nonselection_glyph\":{\"type\":\"object\",\"name\":\"Line\",\"id\":\"p1970\",\"attributes\":{\"x\":{\"type\":\"field\",\"field\":\"x\"},\"y\":{\"type\":\"field\",\"field\":\"y\"},\"line_color\":\"limegreen\",\"line_alpha\":0.1,\"line_width\":2}},\"muted_glyph\":{\"type\":\"object\",\"name\":\"Line\",\"id\":\"p1971\",\"attributes\":{\"x\":{\"type\":\"field\",\"field\":\"x\"},\"y\":{\"type\":\"field\",\"field\":\"y\"},\"line_color\":\"limegreen\",\"line_alpha\":0.2,\"line_width\":2}}}},{\"type\":\"object\",\"name\":\"GlyphRenderer\",\"id\":\"p1982\",\"attributes\":{\"data_source\":{\"type\":\"object\",\"name\":\"ColumnDataSource\",\"id\":\"p1976\",\"attributes\":{\"selected\":{\"type\":\"object\",\"name\":\"Selection\",\"id\":\"p1977\",\"attributes\":{\"indices\":[],\"line_indices\":[]}},\"selection_policy\":{\"type\":\"object\",\"name\":\"UnionRenderers\",\"id\":\"p1978\"},\"data\":{\"type\":\"map\",\"entries\":[[\"x\",{\"type\":\"ndarray\",\"array\":{\"type\":\"bytes\",\"data\":\"AAAAAAAAAAAAAAAAmpnJPwAAAACamdk/AAAAgDMz4z8AAACAmZnpPwAAAAAAAPA/AAAAQDMz8z8AAACAZmb2PwAAAMCZmfk/AAAAwMzM/D8AAAAAAAAAQAAAAKCZmQFAAAAAQDMzA0AAAADgzMwEQAAAAGBmZgZAAAAAAAAACEAAAACgmZkJQAAAAEAzMwtAAAAA4MzMDEAAAABgZmYOQAAAAAAAABBAAAAA0MzMEEAAAACgmZkRQAAAAHBmZhJAAAAAMDMzE0AAAAAAAAAUQAAAANDMzBRAAAAAoJmZFUAAAABwZmYWQAAAADAzMxdAAAAAAAAAGEAAAADQzMwYQAAAAKCZmRlAAAAAcGZmGkAAAAAwMzMbQAAAAAAAABxAAAAA0MzMHEAAAACgmZkdQAAAAHBmZh5AAAAAMDMzH0AAAAAAAAAgQAAAAGhmZiBAAAAA0MzMIEAAAAA4MzMhQAAAAJiZmSFAAAAAAAAAIkAAAABoZmYiQAAAANDMzCJAAAAAODMzI0AAAACYmZkjQAAAAAAAACRAAAAAaGZmJEAAAADQzMwkQAAAADgzMyVAAAAAmJmZJUAAAAAAAAAmQAAAAGhmZiZAAAAA0MzMJkAAAAA4MzMnQAAAAJiZmSdAAAAAAAAAKEAAAABoZmYoQAAAANDMzChAAAAAODMzKUAAAACYmZkpQAAAAAAAACpAAAAAaGZmKkAAAADQzMwqQAAAADgzMytAAAAAmJmZK0AAAAAAAAAsQAAAAGhmZixAAAAA0MzMLEAAAAA4MzMtQAAAAJiZmS1AAAAAAAAALkAAAABoZmYuQAAAANDMzC5AAAAAODMzL0AAAACYmZkvQAAAAAAAADBAAAAANDMzMEAAAABoZmYwQAAAAJyZmTBAAAAAzMzMMEAAAAAAAAAxQAAAADQzMzFAAAAAaGZmMUAAAACcmZkxQAAAAMzMzDFAAAAAAAAAMkAAAAA0MzMyQAAAAGhmZjJAAAAAnJmZMkAAAADMzMwyQAAAAAAAADNAAAAANDMzM0AAAABoZmYzQAAAAJyZmTNAAAAAzMzMM0AAAAAAAAA0QAAAADQzMzRAAAAAaGZmNEAAAACcmZk0QAAAAMzMzDRAAAAAAAAANUAAAAA0MzM1QAAAAGhmZjVAAAAAnJmZNUAAAADMzMw1QAAAAAAAADZAAAAANDMzNkAAAABoZmY2QAAAAJyZmTZAAAAAzMzMNkAAAAAAAAA3QAAAADQzMzdAAAAAaGZmN0AAAACcmZk3QAAAAMzMzDdAAAAAAAAAOEAAAAA0MzM4QAAAAGhmZjhAAAAAnJmZOEAAAADMzMw4QAAAAAAAADlAAAAANDMzOUAAAABoZmY5QAAAAJyZmTlAAAAAzMzMOUAAAAAAAAA6QAAAADQzMzpAAAAAaGZmOkAAAACcmZk6QAAAAMzMzDpAAAAAAAAAO0AAAAA0MzM7QAAAAGhmZjtAAAAAnJmZO0AAAADMzMw7QAAAAAAAADxAAAAANDMzPEAAAABoZmY8QAAAAJyZmTxAAAAAzMzMPEAAAAAAAAA9QAAAADQzMz1AAAAAaGZmPUAAAACcmZk9QAAAAMzMzD1AAAAAAAAAPkAAAAA0MzM+QAAAAGhmZj5AAAAAnJmZPkAAAADMzMw+QAAAAAAAAD9AAAAANDMzP0AAAABoZmY/QAAAAJyZmT9AAAAAzMzMP0AAAAAAAABAQAAAAJqZGUBAAAAANDMzQEAAAADOzExAQAAAAGZmZkBAAAAAAACAQEAAAACamZlAQAAAADQzs0BAAAAAzszMQEAAAABmZuZAQAAAAAAAAEFA\"},\"shape\":[171],\"dtype\":\"float64\",\"order\":\"little\"}],[\"y\",{\"type\":\"ndarray\",\"array\":{\"type\":\"bytes\",\"data\":\"YtR6Up21ZkCKAkhtCTtmQFw9X0lqm2VA8JIPYyH5ZECL7Xw1PphkQPfgDw0lNWRAWB/LFgTlY0D8Q9VPMaFjQG2dPbAzVmNAmSi6ksQdY0Arc3wT4udiQPc8RLJFrmJAKn31rCR+YkBAnbbvsUJiQIxzSHP9HGJAUaDf6ELoYUBftuqRBLlhQEPhqjIniGFAzlKlYQBgYUDoMFI5D0RhQH2NApJbHWFAldyBVxMCYUDxgpyPTN9gQAevpJGXu2BAhFnFK8OsYED89HcyN4NgQHDFoPAac2BAKbrxBnJfYEB4GQskmUFgQEHb4XbTM2BAqJFeKUAwYECijPe8FyZgQBBE8j7sB2BAWpQW4gXlX0DANj3I48lfQEco7/oGx19ATr9Nc2OsX0DTu6DXwqpfQNEXfEeAnV9Ae21uN8qjX0Dgpxca1YdfQJnV+rsTl19AWzP/z4pkX0CMW/mnvk5fQGDlKYdkOF9Afa7LdZtaX0AAd86V3hhfQEJAnH7iQF9A59500W8jX0C0RIATNAFfQK+IjT3wAl9AQTK4DL4zX0AOPCTFdEVfQAtOUFjnKl9A3f7JkU8/X0B24A0iOANfQM5guS3dQV9ASj2jvstkX0B9jNU4jpZfQDJOMARIs19AtwlLwrESYECRzm5GBypgQNkJhxgaOmBAgw/ec58pYEA9fYQldj5gQJPNxTQjO2BATsBTlyZSYEDCS27cxFBgQMRsFrFMW2BAvLMputNXYED5vnlDHmtgQHoW+mwWjmBAwuangfyUYED3iNS+GK5gQGJBi1yywWBANj382zHIYEAR3PEBxrpgQAT7hlFw22BA+AhBVEruYECeOrNi0fdgQBN7I3IWAGFApcdpogMYYUBHt3r7pzNhQNo6U4mkUGFAc39ihhJnYUDThzrR0JVhQL6ucn+3qmFA0QGQ24LOYUC+rookwelhQFlbZ3HG9WFAYeFNJFL3YUCI66pVQPxhQNi6UdjpEmJAj/5jqxwZYkADGZlpERBiQBG86Tpt4GFAs/+eq+TbYUB37sLNALRhQA8tb6/2jmFA+3tA81VOYUCfbf042vJgQFMAyJ2Ct2BAkJCD9FF+YEAyYrb5LllgQHAsJPyZPGBALgqJy4npX0BwjcCdDOxfQArg5x5iBmBAy3TvlOYXYEBU3FAdaAdgQHIqfZWo319AsVIMVDPRX0Duj400DV1fQDRneCHZUl9AT59suZvJX0CXnkkBmdJfQLWZyo60wF9AAgvkrMubX0Bc0qS8fHlfQPBi+b2EhF9ACCu2pY5SX0COKQM11U5fQDF+og+5NF9ADN176wkhX0BqnJ7MPdteQN3ZuLH26V5ApnpBcGslX0Ctc0HY7C9fQB2T99pm1V5AY3Mi7jy7XkCpILGXy0leQEgPI63mBF5AItN3fuYUXkAZBLdj2nFeQEnvfiseql5Ay4PmqrjsXkAh2qf5nAtfQBitBrdt+F5AiXe4xK2BX0ApO3pQZvdfQP4M8KtKOWBAviArlwtaYECKisc/70hgQL06wU71MmBAv3hWA1zjX0CZLzwEuBhgQKl506vvb2BAExcK+laSYEBIelTcfXdgQCwvT90ZPmBAEuG3oN01X0AG1QqRoRheQDzYO1FQ/lxAYhdwhmyTXUAKT2dciSJeQJ5fIoLVvV5AGSs2Y2INX0B5cIOwrkBfQOiGHLDLNF9AZWBZlYA9X0AcuG5qYOBeQOER6bboyF5AlUDmAxBRXkAhu0fn6ZReQI+Za0Lb+11A6o7syhrcXUBCGpgrmj5dQOFwRhXC7FxAFKeYqaceXUCqqBueD2NdQE26G8/Mm11A\"},\"shape\":[171],\"dtype\":\"float64\",\"order\":\"little\"}]]}}},\"view\":{\"type\":\"object\",\"name\":\"CDSView\",\"id\":\"p1983\",\"attributes\":{\"filter\":{\"type\":\"object\",\"name\":\"AllIndices\",\"id\":\"p1984\"}}},\"glyph\":{\"type\":\"object\",\"name\":\"Line\",\"id\":\"p1979\",\"attributes\":{\"x\":{\"type\":\"field\",\"field\":\"x\"},\"y\":{\"type\":\"field\",\"field\":\"y\"},\"line_color\":\"red\",\"line_width\":2}},\"nonselection_glyph\":{\"type\":\"object\",\"name\":\"Line\",\"id\":\"p1980\",\"attributes\":{\"x\":{\"type\":\"field\",\"field\":\"x\"},\"y\":{\"type\":\"field\",\"field\":\"y\"},\"line_color\":\"red\",\"line_alpha\":0.1,\"line_width\":2}},\"muted_glyph\":{\"type\":\"object\",\"name\":\"Line\",\"id\":\"p1981\",\"attributes\":{\"x\":{\"type\":\"field\",\"field\":\"x\"},\"y\":{\"type\":\"field\",\"field\":\"y\"},\"line_color\":\"red\",\"line_alpha\":0.2,\"line_width\":2}}}},{\"type\":\"object\",\"name\":\"GlyphRenderer\",\"id\":\"p1992\",\"attributes\":{\"data_source\":{\"type\":\"object\",\"name\":\"ColumnDataSource\",\"id\":\"p1986\",\"attributes\":{\"selected\":{\"type\":\"object\",\"name\":\"Selection\",\"id\":\"p1987\",\"attributes\":{\"indices\":[],\"line_indices\":[]}},\"selection_policy\":{\"type\":\"object\",\"name\":\"UnionRenderers\",\"id\":\"p1988\"},\"data\":{\"type\":\"map\",\"entries\":[[\"x0\",[29.0]],[\"y0\",[0.0]],[\"x1\",[29.0]],[\"y1\",[324.4995]]]}}},\"view\":{\"type\":\"object\",\"name\":\"CDSView\",\"id\":\"p1993\",\"attributes\":{\"filter\":{\"type\":\"object\",\"name\":\"AllIndices\",\"id\":\"p1994\"}}},\"glyph\":{\"type\":\"object\",\"name\":\"Segment\",\"id\":\"p1989\",\"attributes\":{\"x0\":{\"type\":\"field\",\"field\":\"x0\"},\"y0\":{\"type\":\"field\",\"field\":\"y0\"},\"x1\":{\"type\":\"field\",\"field\":\"x1\"},\"y1\":{\"type\":\"field\",\"field\":\"y1\"},\"line_color\":{\"type\":\"value\",\"value\":\"lightblue\"},\"line_width\":{\"type\":\"value\",\"value\":3}}},\"nonselection_glyph\":{\"type\":\"object\",\"name\":\"Segment\",\"id\":\"p1990\",\"attributes\":{\"x0\":{\"type\":\"field\",\"field\":\"x0\"},\"y0\":{\"type\":\"field\",\"field\":\"y0\"},\"x1\":{\"type\":\"field\",\"field\":\"x1\"},\"y1\":{\"type\":\"field\",\"field\":\"y1\"},\"line_color\":{\"type\":\"value\",\"value\":\"lightblue\"},\"line_alpha\":{\"type\":\"value\",\"value\":0.1},\"line_width\":{\"type\":\"value\",\"value\":3}}},\"muted_glyph\":{\"type\":\"object\",\"name\":\"Segment\",\"id\":\"p1991\",\"attributes\":{\"x0\":{\"type\":\"field\",\"field\":\"x0\"},\"y0\":{\"type\":\"field\",\"field\":\"y0\"},\"x1\":{\"type\":\"field\",\"field\":\"x1\"},\"y1\":{\"type\":\"field\",\"field\":\"y1\"},\"line_color\":{\"type\":\"value\",\"value\":\"lightblue\"},\"line_alpha\":{\"type\":\"value\",\"value\":0.2},\"line_width\":{\"type\":\"value\",\"value\":3}}}}},{\"type\":\"object\",\"name\":\"GlyphRenderer\",\"id\":\"p2001\",\"attributes\":{\"data_source\":{\"type\":\"object\",\"name\":\"ColumnDataSource\",\"id\":\"p1995\",\"attributes\":{\"selected\":{\"type\":\"object\",\"name\":\"Selection\",\"id\":\"p1996\",\"attributes\":{\"indices\":[],\"line_indices\":[]}},\"selection_policy\":{\"type\":\"object\",\"name\":\"UnionRenderers\",\"id\":\"p1997\"},\"data\":{\"type\":\"map\",\"entries\":[[\"x0\",[30.5]],[\"y0\",[0.0]],[\"x1\",[30.5]],[\"y1\",[324.4995]]]}}},\"view\":{\"type\":\"object\",\"name\":\"CDSView\",\"id\":\"p2002\",\"attributes\":{\"filter\":{\"type\":\"object\",\"name\":\"AllIndices\",\"id\":\"p2003\"}}},\"glyph\":{\"type\":\"object\",\"name\":\"Segment\",\"id\":\"p1998\",\"attributes\":{\"x0\":{\"type\":\"field\",\"field\":\"x0\"},\"y0\":{\"type\":\"field\",\"field\":\"y0\"},\"x1\":{\"type\":\"field\",\"field\":\"x1\"},\"y1\":{\"type\":\"field\",\"field\":\"y1\"},\"line_color\":{\"type\":\"value\",\"value\":\"darkseagreen\"}}},\"nonselection_glyph\":{\"type\":\"object\",\"name\":\"Segment\",\"id\":\"p1999\",\"attributes\":{\"x0\":{\"type\":\"field\",\"field\":\"x0\"},\"y0\":{\"type\":\"field\",\"field\":\"y0\"},\"x1\":{\"type\":\"field\",\"field\":\"x1\"},\"y1\":{\"type\":\"field\",\"field\":\"y1\"},\"line_color\":{\"type\":\"value\",\"value\":\"darkseagreen\"},\"line_alpha\":{\"type\":\"value\",\"value\":0.1}}},\"muted_glyph\":{\"type\":\"object\",\"name\":\"Segment\",\"id\":\"p2000\",\"attributes\":{\"x0\":{\"type\":\"field\",\"field\":\"x0\"},\"y0\":{\"type\":\"field\",\"field\":\"y0\"},\"x1\":{\"type\":\"field\",\"field\":\"x1\"},\"y1\":{\"type\":\"field\",\"field\":\"y1\"},\"line_color\":{\"type\":\"value\",\"value\":\"darkseagreen\"},\"line_alpha\":{\"type\":\"value\",\"value\":0.2}}}}},{\"type\":\"object\",\"name\":\"GlyphRenderer\",\"id\":\"p2010\",\"attributes\":{\"data_source\":{\"type\":\"object\",\"name\":\"ColumnDataSource\",\"id\":\"p2004\",\"attributes\":{\"selected\":{\"type\":\"object\",\"name\":\"Selection\",\"id\":\"p2005\",\"attributes\":{\"indices\":[],\"line_indices\":[]}},\"selection_policy\":{\"type\":\"object\",\"name\":\"UnionRenderers\",\"id\":\"p2006\"},\"data\":{\"type\":\"map\",\"entries\":[[\"x0\",[27.5]],[\"y0\",[0.0]],[\"x1\",[27.5]],[\"y1\",[324.4995]]]}}},\"view\":{\"type\":\"object\",\"name\":\"CDSView\",\"id\":\"p2011\",\"attributes\":{\"filter\":{\"type\":\"object\",\"name\":\"AllIndices\",\"id\":\"p2012\"}}},\"glyph\":{\"type\":\"object\",\"name\":\"Segment\",\"id\":\"p2007\",\"attributes\":{\"x0\":{\"type\":\"field\",\"field\":\"x0\"},\"y0\":{\"type\":\"field\",\"field\":\"y0\"},\"x1\":{\"type\":\"field\",\"field\":\"x1\"},\"y1\":{\"type\":\"field\",\"field\":\"y1\"},\"line_color\":{\"type\":\"value\",\"value\":\"darkseagreen\"}}},\"nonselection_glyph\":{\"type\":\"object\",\"name\":\"Segment\",\"id\":\"p2008\",\"attributes\":{\"x0\":{\"type\":\"field\",\"field\":\"x0\"},\"y0\":{\"type\":\"field\",\"field\":\"y0\"},\"x1\":{\"type\":\"field\",\"field\":\"x1\"},\"y1\":{\"type\":\"field\",\"field\":\"y1\"},\"line_color\":{\"type\":\"value\",\"value\":\"darkseagreen\"},\"line_alpha\":{\"type\":\"value\",\"value\":0.1}}},\"muted_glyph\":{\"type\":\"object\",\"name\":\"Segment\",\"id\":\"p2009\",\"attributes\":{\"x0\":{\"type\":\"field\",\"field\":\"x0\"},\"y0\":{\"type\":\"field\",\"field\":\"y0\"},\"x1\":{\"type\":\"field\",\"field\":\"x1\"},\"y1\":{\"type\":\"field\",\"field\":\"y1\"},\"line_color\":{\"type\":\"value\",\"value\":\"darkseagreen\"},\"line_alpha\":{\"type\":\"value\",\"value\":0.2}}}}},{\"type\":\"object\",\"name\":\"GlyphRenderer\",\"id\":\"p2019\",\"attributes\":{\"data_source\":{\"type\":\"object\",\"name\":\"ColumnDataSource\",\"id\":\"p2013\",\"attributes\":{\"selected\":{\"type\":\"object\",\"name\":\"Selection\",\"id\":\"p2014\",\"attributes\":{\"indices\":[],\"line_indices\":[]}},\"selection_policy\":{\"type\":\"object\",\"name\":\"UnionRenderers\",\"id\":\"p2015\"},\"data\":{\"type\":\"map\",\"entries\":[[\"x\",[29.0]],[\"y\",[324.4995]],[\"size\",[20]]]}}},\"view\":{\"type\":\"object\",\"name\":\"CDSView\",\"id\":\"p2020\",\"attributes\":{\"filter\":{\"type\":\"object\",\"name\":\"AllIndices\",\"id\":\"p2021\"}}},\"glyph\":{\"type\":\"object\",\"name\":\"Scatter\",\"id\":\"p2016\",\"attributes\":{\"x\":{\"type\":\"field\",\"field\":\"x\"},\"y\":{\"type\":\"field\",\"field\":\"y\"},\"size\":{\"type\":\"field\",\"field\":\"size\"},\"line_color\":{\"type\":\"value\",\"value\":\"lightblue\"},\"line_width\":{\"type\":\"value\",\"value\":3},\"fill_color\":{\"type\":\"value\",\"value\":null},\"marker\":{\"type\":\"value\",\"value\":\"square_cross\"}}},\"nonselection_glyph\":{\"type\":\"object\",\"name\":\"Scatter\",\"id\":\"p2017\",\"attributes\":{\"x\":{\"type\":\"field\",\"field\":\"x\"},\"y\":{\"type\":\"field\",\"field\":\"y\"},\"size\":{\"type\":\"field\",\"field\":\"size\"},\"line_color\":{\"type\":\"value\",\"value\":\"lightblue\"},\"line_alpha\":{\"type\":\"value\",\"value\":0.1},\"line_width\":{\"type\":\"value\",\"value\":3},\"fill_color\":{\"type\":\"value\",\"value\":null},\"fill_alpha\":{\"type\":\"value\",\"value\":0.1},\"hatch_alpha\":{\"type\":\"value\",\"value\":0.1},\"marker\":{\"type\":\"value\",\"value\":\"square_cross\"}}},\"muted_glyph\":{\"type\":\"object\",\"name\":\"Scatter\",\"id\":\"p2018\",\"attributes\":{\"x\":{\"type\":\"field\",\"field\":\"x\"},\"y\":{\"type\":\"field\",\"field\":\"y\"},\"size\":{\"type\":\"field\",\"field\":\"size\"},\"line_color\":{\"type\":\"value\",\"value\":\"lightblue\"},\"line_alpha\":{\"type\":\"value\",\"value\":0.2},\"line_width\":{\"type\":\"value\",\"value\":3},\"fill_color\":{\"type\":\"value\",\"value\":null},\"fill_alpha\":{\"type\":\"value\",\"value\":0.2},\"hatch_alpha\":{\"type\":\"value\",\"value\":0.2},\"marker\":{\"type\":\"value\",\"value\":\"square_cross\"}}}}}],\"toolbar\":{\"type\":\"object\",\"name\":\"Toolbar\",\"id\":\"p1906\",\"attributes\":{\"tools\":[{\"type\":\"object\",\"name\":\"PanTool\",\"id\":\"p1921\"},{\"type\":\"object\",\"name\":\"WheelZoomTool\",\"id\":\"p1922\",\"attributes\":{\"renderers\":\"auto\"}},{\"type\":\"object\",\"name\":\"BoxZoomTool\",\"id\":\"p1923\",\"attributes\":{\"overlay\":{\"type\":\"object\",\"name\":\"BoxAnnotation\",\"id\":\"p1924\",\"attributes\":{\"syncable\":false,\"line_color\":\"black\",\"line_alpha\":1.0,\"line_width\":2,\"line_dash\":[4,4],\"fill_color\":\"lightgrey\",\"fill_alpha\":0.5,\"level\":\"overlay\",\"visible\":false,\"left\":{\"type\":\"number\",\"value\":\"nan\"},\"right\":{\"type\":\"number\",\"value\":\"nan\"},\"top\":{\"type\":\"number\",\"value\":\"nan\"},\"bottom\":{\"type\":\"number\",\"value\":\"nan\"},\"left_units\":\"canvas\",\"right_units\":\"canvas\",\"top_units\":\"canvas\",\"bottom_units\":\"canvas\",\"handles\":{\"type\":\"object\",\"name\":\"BoxInteractionHandles\",\"id\":\"p1930\",\"attributes\":{\"all\":{\"type\":\"object\",\"name\":\"AreaVisuals\",\"id\":\"p1929\",\"attributes\":{\"fill_color\":\"white\",\"hover_fill_color\":\"lightgray\"}}}}}}}},{\"type\":\"object\",\"name\":\"SaveTool\",\"id\":\"p1931\"},{\"type\":\"object\",\"name\":\"ResetTool\",\"id\":\"p1932\"},{\"type\":\"object\",\"name\":\"HelpTool\",\"id\":\"p1933\"},{\"type\":\"object\",\"name\":\"HoverTool\",\"id\":\"p1965\",\"attributes\":{\"renderers\":\"auto\",\"tooltips\":[[\"Y-val\",\"@y{0.00}\"]]}}]}},\"left\":[{\"type\":\"object\",\"name\":\"LinearAxis\",\"id\":\"p1916\",\"attributes\":{\"ticker\":{\"type\":\"object\",\"name\":\"BasicTicker\",\"id\":\"p1917\",\"attributes\":{\"mantissas\":[1,2,5]}},\"formatter\":{\"type\":\"object\",\"name\":\"BasicTickFormatter\",\"id\":\"p1918\"},\"axis_label\":\"km/h\",\"axis_label_standoff\":10,\"axis_label_text_color\":\"#E0E0E0\",\"axis_label_text_font\":\"Helvetica\",\"axis_label_text_font_size\":\"1.25em\",\"axis_label_text_font_style\":\"normal\",\"major_label_policy\":{\"type\":\"object\",\"name\":\"AllLabels\",\"id\":\"p1919\"},\"major_label_text_color\":\"#E0E0E0\",\"major_label_text_font\":\"Helvetica\",\"major_label_text_font_size\":\"1.025em\",\"axis_line_color\":\"#E0E0E0\",\"axis_line_alpha\":0,\"major_tick_line_color\":\"#E0E0E0\",\"major_tick_line_alpha\":0,\"minor_tick_line_color\":\"#E0E0E0\",\"minor_tick_line_alpha\":0}},{\"type\":\"object\",\"name\":\"LinearAxis\",\"id\":\"p1936\",\"attributes\":{\"y_range_name\":\"altitudeFt\",\"ticker\":{\"type\":\"object\",\"name\":\"BasicTicker\",\"id\":\"p1937\",\"attributes\":{\"mantissas\":[1,2,5]}},\"formatter\":{\"type\":\"object\",\"name\":\"BasicTickFormatter\",\"id\":\"p1938\"},\"axis_label\":\"Alt (ft)\",\"axis_label_standoff\":10,\"axis_label_text_color\":\"#E0E0E0\",\"axis_label_text_font\":\"Helvetica\",\"axis_label_text_font_size\":\"1.25em\",\"axis_label_text_font_style\":\"normal\",\"major_label_policy\":{\"type\":\"object\",\"name\":\"AllLabels\",\"id\":\"p1939\"},\"major_label_text_color\":\"#E0E0E0\",\"major_label_text_font\":\"Helvetica\",\"major_label_text_font_size\":\"1.025em\",\"axis_line_color\":\"#E0E0E0\",\"axis_line_alpha\":0,\"major_tick_line_color\":\"#E0E0E0\",\"major_tick_line_alpha\":0,\"minor_tick_line_color\":\"#E0E0E0\",\"minor_tick_line_alpha\":0}},{\"type\":\"object\",\"name\":\"LinearAxis\",\"id\":\"p1940\",\"attributes\":{\"y_range_name\":\"angle\",\"ticker\":{\"type\":\"object\",\"name\":\"BasicTicker\",\"id\":\"p1941\",\"attributes\":{\"mantissas\":[1,2,5]}},\"formatter\":{\"type\":\"object\",\"name\":\"BasicTickFormatter\",\"id\":\"p1942\"},\"axis_label\":\"angle\",\"axis_label_standoff\":10,\"axis_label_text_color\":\"#E0E0E0\",\"axis_label_text_font\":\"Helvetica\",\"axis_label_text_font_size\":\"1.25em\",\"axis_label_text_font_style\":\"normal\",\"major_label_policy\":{\"type\":\"object\",\"name\":\"AllLabels\",\"id\":\"p1943\"},\"major_label_text_color\":\"#E0E0E0\",\"major_label_text_font\":\"Helvetica\",\"major_label_text_font_size\":\"1.025em\",\"axis_line_color\":\"#E0E0E0\",\"axis_line_alpha\":0,\"major_tick_line_color\":\"#E0E0E0\",\"major_tick_line_alpha\":0,\"minor_tick_line_color\":\"#E0E0E0\",\"minor_tick_line_alpha\":0}}],\"below\":[{\"type\":\"object\",\"name\":\"LinearAxis\",\"id\":\"p1911\",\"attributes\":{\"ticker\":{\"type\":\"object\",\"name\":\"BasicTicker\",\"id\":\"p1912\",\"attributes\":{\"mantissas\":[1,2,5]}},\"formatter\":{\"type\":\"object\",\"name\":\"BasicTickFormatter\",\"id\":\"p1913\"},\"axis_label\":\"seconds from exit\",\"axis_label_standoff\":10,\"axis_label_text_color\":\"#E0E0E0\",\"axis_label_text_font\":\"Helvetica\",\"axis_label_text_font_size\":\"1.25em\",\"axis_label_text_font_style\":\"normal\",\"major_label_policy\":{\"type\":\"object\",\"name\":\"AllLabels\",\"id\":\"p1914\"},\"major_label_text_color\":\"#E0E0E0\",\"major_label_text_font\":\"Helvetica\",\"major_label_text_font_size\":\"1.025em\",\"axis_line_color\":\"#E0E0E0\",\"axis_line_alpha\":0,\"major_tick_line_color\":\"#E0E0E0\",\"major_tick_line_alpha\":0,\"minor_tick_line_color\":\"#E0E0E0\",\"minor_tick_line_alpha\":0}}],\"center\":[{\"type\":\"object\",\"name\":\"Grid\",\"id\":\"p1915\",\"attributes\":{\"axis\":{\"id\":\"p1911\"},\"grid_line_color\":\"#E0E0E0\",\"grid_line_alpha\":0.25}},{\"type\":\"object\",\"name\":\"Grid\",\"id\":\"p1920\",\"attributes\":{\"dimension\":1,\"axis\":{\"id\":\"p1916\"},\"grid_line_color\":\"#E0E0E0\",\"grid_line_alpha\":0.25}},{\"type\":\"object\",\"name\":\"Legend\",\"id\":\"p1953\",\"attributes\":{\"border_line_alpha\":0,\"background_fill_color\":\"#20262B\",\"background_fill_alpha\":0.25,\"label_text_color\":\"#E0E0E0\",\"label_text_font\":\"Helvetica\",\"label_text_font_size\":\"1.025em\",\"label_standoff\":8,\"glyph_width\":15,\"spacing\":8,\"items\":[{\"type\":\"object\",\"name\":\"LegendItem\",\"id\":\"p1954\",\"attributes\":{\"label\":{\"type\":\"value\",\"value\":\"Alt (ft)\"},\"renderers\":[{\"id\":\"p1950\"}]}},{\"type\":\"object\",\"name\":\"LegendItem\",\"id\":\"p1964\",\"attributes\":{\"label\":{\"type\":\"value\",\"value\":\"angle\"},\"renderers\":[{\"id\":\"p1961\"}]}},{\"type\":\"object\",\"name\":\"LegendItem\",\"id\":\"p1975\",\"attributes\":{\"label\":{\"type\":\"value\",\"value\":\"speed\"},\"renderers\":[{\"id\":\"p1972\"}]}},{\"type\":\"object\",\"name\":\"LegendItem\",\"id\":\"p1985\",\"attributes\":{\"label\":{\"type\":\"value\",\"value\":\"H-speed\"},\"renderers\":[{\"id\":\"p1982\"}]}}]}}],\"background_fill_color\":\"#20262B\",\"border_fill_color\":\"#15191C\"}}]}};\n",
       "  const render_items = [{\"docid\":\"49dedff8-8336-49d0-a97c-ad5b0566376f\",\"roots\":{\"p1897\":\"e5a7b8bf-3e66-4e19-ad02-91a0b3b4d4ef\"},\"root_ids\":[\"p1897\"]}];\n",
       "  void root.Bokeh.embed.embed_items_notebook(docs_json, render_items);\n",
       "  }\n",
       "  if (root.Bokeh !== undefined) {\n",
       "    embed_document(root);\n",
       "  } else {\n",
       "    let attempts = 0;\n",
       "    const timer = setInterval(function(root) {\n",
       "      if (root.Bokeh !== undefined) {\n",
       "        clearInterval(timer);\n",
       "        embed_document(root);\n",
       "      } else {\n",
       "        attempts++;\n",
       "        if (attempts > 100) {\n",
       "          clearInterval(timer);\n",
       "          console.log(\"Bokeh: ERROR: Unable to run BokehJS code because BokehJS library is missing\");\n",
       "        }\n",
       "      }\n",
       "    }, 10, root)\n",
       "  }\n",
       "})(window);"
      ],
      "application/vnd.bokehjs_exec.v0+json": ""
     },
     "metadata": {
      "application/vnd.bokehjs_exec.v0+json": {
       "id": "p1897"
      }
     },
     "output_type": "display_data"
    },
    {
     "data": {
      "application/vnd.jupyter.widget-view+json": {
       "model_id": "03bf686617e545ad8e0de40782c207a4",
       "version_major": 2,
       "version_minor": 0
      },
      "text/plain": [
       "HTML(value='<hr><h1><span style=\"color: #0f0\">Miller-2024-championship-official R8_16-05-15:v1 jump - 🟢 valid …"
      ]
     },
     "metadata": {},
     "output_type": "display_data"
    },
    {
     "data": {
      "application/vnd.jupyter.widget-view+json": {
       "model_id": "a029998a18b24f7bb37429ad06a456d6",
       "version_major": 2,
       "version_minor": 0
      },
      "text/plain": [
       "HTML(value='<h3>Max speed = 333; exit at 4241 m (13914 ft), end scoring window at 1985 m (6512 ft)')"
      ]
     },
     "metadata": {},
     "output_type": "display_data"
    },
    {
     "data": {
      "application/vnd.jupyter.widget-view+json": {
       "model_id": "73951af2778c46b3b4df53d79317ca5f",
       "version_major": 2,
       "version_minor": 0
      },
      "text/plain": [
       "HTML(value='</h3>')"
      ]
     },
     "metadata": {},
     "output_type": "display_data"
    },
    {
     "data": {
      "text/html": [
       "<div>\n",
       "<style scoped>\n",
       "    .dataframe tbody tr th:only-of-type {\n",
       "        vertical-align: middle;\n",
       "    }\n",
       "\n",
       "    .dataframe tbody tr th {\n",
       "        vertical-align: top;\n",
       "    }\n",
       "\n",
       "    .dataframe thead th {\n",
       "        text-align: right;\n",
       "    }\n",
       "</style>\n",
       "<table border=\"1\" class=\"dataframe\">\n",
       "  <thead>\n",
       "    <tr style=\"text-align: right;\">\n",
       "      <th></th>\n",
       "      <th>time</th>\n",
       "      <th>vKMh</th>\n",
       "      <th>hKMh</th>\n",
       "      <th>speedAngle</th>\n",
       "      <th>distanceFromExit</th>\n",
       "      <th>altitude (ft)</th>\n",
       "      <th>netVectorKMh</th>\n",
       "    </tr>\n",
       "  </thead>\n",
       "  <tbody>\n",
       "    <tr>\n",
       "      <th></th>\n",
       "      <td>5.0</td>\n",
       "      <td>148</td>\n",
       "      <td>141</td>\n",
       "      <td>46.4</td>\n",
       "      <td>221.0</td>\n",
       "      <td>13510</td>\n",
       "      <td>204</td>\n",
       "    </tr>\n",
       "    <tr>\n",
       "      <th></th>\n",
       "      <td>10.0</td>\n",
       "      <td>244</td>\n",
       "      <td>124</td>\n",
       "      <td>63.0</td>\n",
       "      <td>403.9</td>\n",
       "      <td>12607</td>\n",
       "      <td>274</td>\n",
       "    </tr>\n",
       "    <tr>\n",
       "      <th></th>\n",
       "      <td>15.0</td>\n",
       "      <td>301</td>\n",
       "      <td>118</td>\n",
       "      <td>68.5</td>\n",
       "      <td>574.5</td>\n",
       "      <td>11369</td>\n",
       "      <td>323</td>\n",
       "    </tr>\n",
       "    <tr>\n",
       "      <th></th>\n",
       "      <td>20.0</td>\n",
       "      <td>318</td>\n",
       "      <td>121</td>\n",
       "      <td>69.2</td>\n",
       "      <td>737.3</td>\n",
       "      <td>9943</td>\n",
       "      <td>341</td>\n",
       "    </tr>\n",
       "    <tr>\n",
       "      <th></th>\n",
       "      <td>25.0</td>\n",
       "      <td>318</td>\n",
       "      <td>109</td>\n",
       "      <td>71.1</td>\n",
       "      <td>892.4</td>\n",
       "      <td>8471</td>\n",
       "      <td>336</td>\n",
       "    </tr>\n",
       "  </tbody>\n",
       "</table>\n",
       "</div>"
      ],
      "text/plain": [
       "  time  vKMh  hKMh  speedAngle  distanceFromExit  altitude (ft)  netVectorKMh\n",
       "   5.0   148   141        46.4             221.0          13510           204\n",
       "  10.0   244   124        63.0             403.9          12607           274\n",
       "  15.0   301   118        68.5             574.5          11369           323\n",
       "  20.0   318   121        69.2             737.3           9943           341\n",
       "  25.0   318   109        71.1             892.4           8471           336"
      ]
     },
     "metadata": {},
     "output_type": "display_data"
    },
    {
     "data": {
      "text/html": [
       "\n",
       "  <div id=\"cc0de919-a8d8-4f16-a574-b42034897198\" data-root-id=\"p2040\" style=\"display: contents;\"></div>\n"
      ]
     },
     "metadata": {},
     "output_type": "display_data"
    },
    {
     "data": {
      "application/javascript": [
       "(function(root) {\n",
       "  function embed_document(root) {\n",
       "  const docs_json = {\"a57df42c-56e9-4f0d-900c-fe941f61277d\":{\"version\":\"3.5.2\",\"title\":\"Bokeh Application\",\"roots\":[{\"type\":\"object\",\"name\":\"Figure\",\"id\":\"p2040\",\"attributes\":{\"width\":900,\"height\":500,\"x_range\":{\"type\":\"object\",\"name\":\"Range1d\",\"id\":\"p2050\",\"attributes\":{\"end\":35.0}},\"y_range\":{\"type\":\"object\",\"name\":\"Range1d\",\"id\":\"p2051\",\"attributes\":{\"end\":550.0}},\"x_scale\":{\"type\":\"object\",\"name\":\"LinearScale\",\"id\":\"p2052\"},\"y_scale\":{\"type\":\"object\",\"name\":\"LinearScale\",\"id\":\"p2053\"},\"extra_y_ranges\":{\"type\":\"map\",\"entries\":[[\"altitudeFt\",{\"type\":\"object\",\"name\":\"Range1d\",\"id\":\"p2077\",\"attributes\":{\"start\":6061.9999848,\"end\":14414.1579568}}],[\"angle\",{\"type\":\"object\",\"name\":\"Range1d\",\"id\":\"p2078\",\"attributes\":{\"end\":90.0}}]]},\"title\":{\"type\":\"object\",\"name\":\"Title\",\"id\":\"p2043\",\"attributes\":{\"text\":\"Miller-2024-championship-official R8_16-05-15:v1\",\"text_color\":\"#E0E0E0\",\"text_font\":\"Helvetica\",\"text_font_size\":\"1.15em\"}},\"outline_line_color\":\"#E0E0E0\",\"outline_line_alpha\":0.25,\"renderers\":[{\"type\":\"object\",\"name\":\"GlyphRenderer\",\"id\":\"p2093\",\"attributes\":{\"y_range_name\":\"altitudeFt\",\"data_source\":{\"type\":\"object\",\"name\":\"ColumnDataSource\",\"id\":\"p2087\",\"attributes\":{\"selected\":{\"type\":\"object\",\"name\":\"Selection\",\"id\":\"p2088\",\"attributes\":{\"indices\":[],\"line_indices\":[]}},\"selection_policy\":{\"type\":\"object\",\"name\":\"UnionRenderers\",\"id\":\"p2089\"},\"data\":{\"type\":\"map\",\"entries\":[[\"x\",{\"type\":\"ndarray\",\"array\":{\"type\":\"bytes\",\"data\":\"AAAAAAAAAAAAAAAAmJnJPwAAAACZmdk/AAAAADMz4z8AAACAmZnpPwAAAAAAAPA/AAAAADMz8z8AAABAZmb2PwAAAICZmfk/AAAAwMzM/D8AAAAAAAAAQAAAAICZmQFAAAAAIDMzA0AAAADAzMwEQAAAAGBmZgZAAAAAAAAACEAAAACAmZkJQAAAACAzMwtAAAAAwMzMDEAAAABgZmYOQAAAAAAAABBAAAAAwMzMEEAAAACQmZkRQAAAAGBmZhJAAAAAMDMzE0AAAAAAAAAUQAAAAMDMzBRAAAAAkJmZFUAAAABgZmYWQAAAADAzMxdAAAAAAAAAGEAAAADAzMwYQAAAAJCZmRlAAAAAYGZmGkAAAAAwMzMbQAAAAAAAABxAAAAAwMzMHEAAAACQmZkdQAAAAGBmZh5AAAAAMDMzH0AAAAAAAAAgQAAAAGBmZiBAAAAAyMzMIEAAAAAwMzMhQAAAAJiZmSFAAAAAAAAAIkAAAABgZmYiQAAAAMjMzCJAAAAAMDMzI0AAAACYmZkjQAAAAAAAACRAAAAAYGZmJEAAAADIzMwkQAAAADAzMyVAAAAAmJmZJUAAAAAAAAAmQAAAAGBmZiZAAAAAyMzMJkAAAAAwMzMnQAAAAJiZmSdAAAAAAAAAKEAAAABgZmYoQAAAAMjMzChAAAAAMDMzKUAAAACYmZkpQAAAAAAAACpAAAAAYGZmKkAAAADIzMwqQAAAADAzMytAAAAAmJmZK0AAAAAAAAAsQAAAAGBmZixAAAAAyMzMLEAAAAAwMzMtQAAAAJiZmS1AAAAAAAAALkAAAABgZmYuQAAAAMjMzC5AAAAAMDMzL0AAAACYmZkvQAAAAAAAADBAAAAAMDMzMEAAAABkZmYwQAAAAJiZmTBAAAAAzMzMMEAAAAAAAAAxQAAAADAzMzFAAAAAZGZmMUAAAACYmZkxQAAAAMzMzDFAAAAAAAAAMkAAAAAwMzMyQAAAAGRmZjJAAAAAmJmZMkAAAADMzMwyQAAAAAAAADNAAAAAMDMzM0AAAABkZmYzQAAAAJiZmTNAAAAAzMzMM0AAAAAAAAA0QAAAADAzMzRAAAAAZGZmNEAAAACYmZk0QAAAAMzMzDRAAAAAAAAANUAAAAAwMzM1QAAAAGRmZjVAAAAAmJmZNUAAAADMzMw1QAAAAAAAADZAAAAAMDMzNkAAAABkZmY2QAAAAJiZmTZAAAAAzMzMNkAAAAAAAAA3QAAAADAzMzdAAAAAZGZmN0AAAACYmZk3QAAAAMzMzDdAAAAAAAAAOEAAAAAwMzM4QAAAAGRmZjhAAAAAmJmZOEAAAADMzMw4QAAAAAAAADlAAAAAMDMzOUAAAABkZmY5QAAAAJiZmTlAAAAAzMzMOUAAAAAAAAA6QAAAADAzMzpAAAAAZGZmOkAAAACYmZk6QAAAAMzMzDpAAAAAAAAAO0AAAAAwMzM7QAAAAGRmZjtAAAAAmJmZO0AAAADMzMw7QAAAAAAAADxAAAAAMDMzPEAAAABkZmY8QAAAAJiZmTxAAAAAzMzMPEAAAAAAAAA9QAAAADAzMz1AAAAAZGZmPUAAAACYmZk9QAAAAMzMzD1AAAAAAAAAPkAAAAAwMzM+QAAAAGRmZj5AAAAAmJmZPkAAAADMzMw+QAAAAAAAAD9AAAAAMDMzP0AAAABkZmY/QA==\"},\"shape\":[158],\"dtype\":\"float64\",\"order\":\"little\"}],[\"y\",{\"type\":\"ndarray\",\"array\":{\"type\":\"bytes\",\"data\":\"F63tNxQty0CDwkWTwCnLQLm6UoUtJstAbW2GwN4hy0Ae3OdCnh3LQB5k/nb2GMtAuLF+2M8Ty0BhsNEoSw7LQPfFSnGCCMtA3ZUCdy0Cy0DQ0rqyiPvKQDwA4q6O9MpA74EM0x3tykAABAcPTuXKQIBSSI303MpAf/czYTDUykAN/E3NAsvKQELxvoVQwcpAlB+nniO3ykANTLihi6zKQOQ7jKRoocpAihXa3suVykAD2aFQtYnKQIFEuG4/fcpAQMD/+2BwykD2/HrPGmPKQIwKi0BjVcpAv6K2aDxHykCOgSuPtDjKQKFw0STEKcpATIRX3HkaykDPJKB4zArKQGR2uwPB+slASL8iZFXqyUCx3xPrnNnJQOSDQxSAyMlAe8uLAhu3yUC6QDhVXaXJQPo7yndHk8lAS+guidOAyUDQedfq/G3JQO9RyUrFWslADI43njxHyUDfAI6YXDPJQKCsc2cxH8lASO6fXaQKyUDRgUDCw/XIQKtro/Cn4MhA9IDDVSfLyEDtiPmoXbXIQLi3tktGn8hAH4wz4fKIyEDO8cC2VHLIQKKShI53W8hAoLJQIU1EyEAeZtQh5CzIQAY+ULhQFchAbeaQ1Kr9x0BYo2gv5OXHQDmbjgAOzsdAVnq3wxC2x0AVougm7p3HQFAZ/z6bhcdAAl8bO/psx0CKbgc0IlTHQMfx6OseO8dAkO+cd+Uhx0DkZyPXdQjHQDqjnB7a7sZAFtgIaerUxkC+7ylKu7rGQNFNrJ1aoMZAifQ2kdSFxkBXzXNEDmvGQCLoww7+T8ZA09VnGLg0xkCyw/OtQhnGQE6LsJeM/cVANmVdkqnhxUDsQygAgMXFQM4Ach0uqcVAX8t1ZMaMxUCS3oFLOXDFQMSSFz6HU8VAjqiaaqc2xUBJeIw8mhnFQLV3oRRw/MRAF7IEYzbfxEAg81w6IcLEQLmpgeZLpcRAxMNq4rOIxEAv2R33MmzEQNy1KcPNT8RAxtiudWYzxEC84k6OBxfEQDY+k/2z+sNAX8n6ckPew0CpiNNJzsHDQH7CfvQipcNAlYZ1PmeIw0C+OEyPeWvDQA6Fz9ZxTsNA8e5tn0oxw0DD8BEx/RPDQAv+yL6N9sJAAzujUgHZwkBsP74pYbvCQK1sH/KuncJAR5OLMdh/wkAvK152+WHCQIJGn0UVRMJA14NJ8SkmwkDicfZzPwjCQJCoq5Yv6sFAWc//YSnMwUB+cD51HK7BQDapsjlIkMFA/IYuTcZywUBvKYzSslXBQF8WyQ3lOMFAdHtJYwQcwUCYrEDj+P7AQHHLR1Ia4sBAiVIxhDLFwECYc98gYKjAQOR7kK9mi8BAujshKmNuwEBMEvAQS1HAQIMxx5cNNMBAIFMt2KwWwEAAXTRknPK/QMg8PJWdt79ADu0ITIx8v0BiJXp0XkG/QNSzxdokBr9A6miwBM3KvkCwELEcLI++QM5NQLi3U75AdoTCVu8XvkCCvdOuA9y9QCp6Ox3jn71ATiIMTeNjvUAyYvq57Ce9QHm/GxwG7LxA9Z0E2w2wvECv5M9cDHS8QNDOs6PCN7xArZLIPjj7u0CSWJx76b67QBsD/GTGgrtAjICvjW1Gu0CaP6a1KQq7QJy4C4O4zbpAfx9py0SRukCgaMMGIFW6QFuvjogeGbpAC+jPyJHduUB//AD//6G5QA==\"},\"shape\":[158],\"dtype\":\"float64\",\"order\":\"little\"}]]}}},\"view\":{\"type\":\"object\",\"name\":\"CDSView\",\"id\":\"p2094\",\"attributes\":{\"filter\":{\"type\":\"object\",\"name\":\"AllIndices\",\"id\":\"p2095\"}}},\"glyph\":{\"type\":\"object\",\"name\":\"Line\",\"id\":\"p2090\",\"attributes\":{\"x\":{\"type\":\"field\",\"field\":\"x\"},\"y\":{\"type\":\"field\",\"field\":\"y\"},\"line_color\":\"palegoldenrod\",\"line_width\":2}},\"nonselection_glyph\":{\"type\":\"object\",\"name\":\"Line\",\"id\":\"p2091\",\"attributes\":{\"x\":{\"type\":\"field\",\"field\":\"x\"},\"y\":{\"type\":\"field\",\"field\":\"y\"},\"line_color\":\"palegoldenrod\",\"line_alpha\":0.1,\"line_width\":2}},\"muted_glyph\":{\"type\":\"object\",\"name\":\"Line\",\"id\":\"p2092\",\"attributes\":{\"x\":{\"type\":\"field\",\"field\":\"x\"},\"y\":{\"type\":\"field\",\"field\":\"y\"},\"line_color\":\"palegoldenrod\",\"line_alpha\":0.2,\"line_width\":2}}}},{\"type\":\"object\",\"name\":\"GlyphRenderer\",\"id\":\"p2104\",\"attributes\":{\"y_range_name\":\"angle\",\"data_source\":{\"type\":\"object\",\"name\":\"ColumnDataSource\",\"id\":\"p2098\",\"attributes\":{\"selected\":{\"type\":\"object\",\"name\":\"Selection\",\"id\":\"p2099\",\"attributes\":{\"indices\":[],\"line_indices\":[]}},\"selection_policy\":{\"type\":\"object\",\"name\":\"UnionRenderers\",\"id\":\"p2100\"},\"data\":{\"type\":\"map\",\"entries\":[[\"x\",{\"type\":\"ndarray\",\"array\":{\"type\":\"bytes\",\"data\":\"AAAAAAAAAAAAAAAAmJnJPwAAAACZmdk/AAAAADMz4z8AAACAmZnpPwAAAAAAAPA/AAAAADMz8z8AAABAZmb2PwAAAICZmfk/AAAAwMzM/D8AAAAAAAAAQAAAAICZmQFAAAAAIDMzA0AAAADAzMwEQAAAAGBmZgZAAAAAAAAACEAAAACAmZkJQAAAACAzMwtAAAAAwMzMDEAAAABgZmYOQAAAAAAAABBAAAAAwMzMEEAAAACQmZkRQAAAAGBmZhJAAAAAMDMzE0AAAAAAAAAUQAAAAMDMzBRAAAAAkJmZFUAAAABgZmYWQAAAADAzMxdAAAAAAAAAGEAAAADAzMwYQAAAAJCZmRlAAAAAYGZmGkAAAAAwMzMbQAAAAAAAABxAAAAAwMzMHEAAAACQmZkdQAAAAGBmZh5AAAAAMDMzH0AAAAAAAAAgQAAAAGBmZiBAAAAAyMzMIEAAAAAwMzMhQAAAAJiZmSFAAAAAAAAAIkAAAABgZmYiQAAAAMjMzCJAAAAAMDMzI0AAAACYmZkjQAAAAAAAACRAAAAAYGZmJEAAAADIzMwkQAAAADAzMyVAAAAAmJmZJUAAAAAAAAAmQAAAAGBmZiZAAAAAyMzMJkAAAAAwMzMnQAAAAJiZmSdAAAAAAAAAKEAAAABgZmYoQAAAAMjMzChAAAAAMDMzKUAAAACYmZkpQAAAAAAAACpAAAAAYGZmKkAAAADIzMwqQAAAADAzMytAAAAAmJmZK0AAAAAAAAAsQAAAAGBmZixAAAAAyMzMLEAAAAAwMzMtQAAAAJiZmS1AAAAAAAAALkAAAABgZmYuQAAAAMjMzC5AAAAAMDMzL0AAAACYmZkvQAAAAAAAADBAAAAAMDMzMEAAAABkZmYwQAAAAJiZmTBAAAAAzMzMMEAAAAAAAAAxQAAAADAzMzFAAAAAZGZmMUAAAACYmZkxQAAAAMzMzDFAAAAAAAAAMkAAAAAwMzMyQAAAAGRmZjJAAAAAmJmZMkAAAADMzMwyQAAAAAAAADNAAAAAMDMzM0AAAABkZmYzQAAAAJiZmTNAAAAAzMzMM0AAAAAAAAA0QAAAADAzMzRAAAAAZGZmNEAAAACYmZk0QAAAAMzMzDRAAAAAAAAANUAAAAAwMzM1QAAAAGRmZjVAAAAAmJmZNUAAAADMzMw1QAAAAAAAADZAAAAAMDMzNkAAAABkZmY2QAAAAJiZmTZAAAAAzMzMNkAAAAAAAAA3QAAAADAzMzdAAAAAZGZmN0AAAACYmZk3QAAAAMzMzDdAAAAAAAAAOEAAAAAwMzM4QAAAAGRmZjhAAAAAmJmZOEAAAADMzMw4QAAAAAAAADlAAAAAMDMzOUAAAABkZmY5QAAAAJiZmTlAAAAAzMzMOUAAAAAAAAA6QAAAADAzMzpAAAAAZGZmOkAAAACYmZk6QAAAAMzMzDpAAAAAAAAAO0AAAAAwMzM7QAAAAGRmZjtAAAAAmJmZO0AAAADMzMw7QAAAAAAAADxAAAAAMDMzPEAAAABkZmY8QAAAAJiZmTxAAAAAzMzMPEAAAAAAAAA9QAAAADAzMz1AAAAAZGZmPUAAAACYmZk9QAAAAMzMzD1AAAAAAAAAPkAAAAAwMzM+QAAAAGRmZj5AAAAAmJmZPkAAAADMzMw+QAAAAAAAAD9AAAAAMDMzP0AAAABkZmY/QA==\"},\"shape\":[158],\"dtype\":\"float64\",\"order\":\"little\"}],[\"y\",{\"type\":\"ndarray\",\"array\":{\"type\":\"bytes\",\"data\":\"zczMzMzMJEAAAAAAAAAnQGZmZmZmZilAMzMzMzMzLUBmZmZmZmYvQDMzMzMzMzFAMzMzMzOzMkAzMzMzM7MzQGZmZmZmZjVAMzMzMzMzN0CamZmZmZk4QDMzMzMzMzpAzczMzMxMPECamZmZmZk9QDMzMzMzMz9AZmZmZmZmQEBmZmZmZiZBQDMzMzMz80FAmpmZmZmZQkCamZmZmVlDQJqZmZmZGURAZmZmZmamRECamZmZmVlFQAAAAAAAAEZAzczMzMyMRkAzMzMzMzNHQGZmZmZmpkdAZmZmZmYmSEBmZmZmZqZIQJqZmZmZGUlAmpmZmZmZSUAzMzMzM/NJQM3MzMzMTEpAzczMzMzMSkBmZmZmZiZLQAAAAAAAgEtAmpmZmZnZS0BmZmZmZiZMQAAAAAAAgExAzczMzMzMTECamZmZmRlNQGZmZmZmZk1AMzMzMzOzTUAzMzMzM/NNQDMzMzMzM05AAAAAAACATkAzMzMzM7NOQGZmZmZm5k5AZmZmZmYmT0AAAAAAAEBPQAAAAAAAgE9AZmZmZmamT0CamZmZmdlPQAAAAAAAAFBAAAAAAAAgUEBmZmZmZiZQQM3MzMzMLFBAAAAAAAAgUEBmZmZmZiZQQM3MzMzMLFBAzczMzMwsUECamZmZmTlQQJqZmZmZOVBAzczMzMxMUEBmZmZmZmZQQM3MzMzMbFBAmpmZmZl5UEBmZmZmZoZQQJqZmZmZmVBAMzMzMzOzUEDNzMzMzMxQQDMzMzMz01BAmpmZmZnZUEAzMzMzM/NQQGZmZmZmBlFAAAAAAAAgUUAzMzMzMzNRQGZmZmZmRlFAMzMzMzNTUUBmZmZmZmZRQJqZmZmZeVFAAAAAAACAUUAzMzMzM5NRQJqZmZmZmVFAMzMzMzOzUUAAAAAAAMBRQAAAAAAAwFFAzczMzMysUUAzMzMzM5NRQGZmZmZmZlFAZmZmZmZGUUAzMzMzMzNRQAAAAAAAIFFAmpmZmZkZUUBmZmZmZgZRQGZmZmZmBlFAAAAAAAAAUUDNzMzMzAxRQJqZmZmZGVFAMzMzMzMzUUDNzMzMzExRQJqZmZmZWVFAZmZmZmZmUUCamZmZmXlRQAAAAAAAgFFAmpmZmZmZUUBmZmZmZqZRQJqZmZmZuVFAzczMzMzMUUAAAAAAAMBRQAAAAAAAwFFAAAAAAADAUUAzMzMzM9NRQGZmZmZm5lFAzczMzMwMUkCamZmZmRlSQM3MzMzMDFJAAAAAAADgUUAzMzMzM7NRQGZmZmZmplFAAAAAAADAUUAAAAAAAMBRQJqZmZmZuVFAMzMzMzOzUUCamZmZmblRQGZmZmZmxlFAzczMzMzMUUDNzMzMzMxRQJqZmZmZ2VFAmpmZmZnZUUAAAAAAAOBRQJqZmZmZ+VFAmpmZmZn5UUCamZmZmRlSQAAAAAAAIFJAAAAAAABAUkCamZmZmTlSQJqZmZmZOVJAAAAAAABAUkBmZmZmZkZSQM3MzMzMTFJAmpmZmZk5UkDNzMzMzCxSQM3MzMzMLFJAAAAAAABAUkDNzMzMzExSQDMzMzMzc1JAMzMzMzNzUkCamZmZmVlSQJqZmZmZWVJAzczMzMxsUkDNzMzMzGxSQDMzMzMzk1JAzczMzMyMUkCamZmZmXlSQGZmZmZmZlJAZmZmZmZGUkCamZmZmVlSQA==\"},\"shape\":[158],\"dtype\":\"float64\",\"order\":\"little\"}]]}}},\"view\":{\"type\":\"object\",\"name\":\"CDSView\",\"id\":\"p2105\",\"attributes\":{\"filter\":{\"type\":\"object\",\"name\":\"AllIndices\",\"id\":\"p2106\"}}},\"glyph\":{\"type\":\"object\",\"name\":\"Line\",\"id\":\"p2101\",\"attributes\":{\"x\":{\"type\":\"field\",\"field\":\"x\"},\"y\":{\"type\":\"field\",\"field\":\"y\"},\"line_color\":\"deepskyblue\",\"line_width\":2}},\"nonselection_glyph\":{\"type\":\"object\",\"name\":\"Line\",\"id\":\"p2102\",\"attributes\":{\"x\":{\"type\":\"field\",\"field\":\"x\"},\"y\":{\"type\":\"field\",\"field\":\"y\"},\"line_color\":\"deepskyblue\",\"line_alpha\":0.1,\"line_width\":2}},\"muted_glyph\":{\"type\":\"object\",\"name\":\"Line\",\"id\":\"p2103\",\"attributes\":{\"x\":{\"type\":\"field\",\"field\":\"x\"},\"y\":{\"type\":\"field\",\"field\":\"y\"},\"line_color\":\"deepskyblue\",\"line_alpha\":0.2,\"line_width\":2}}}},{\"type\":\"object\",\"name\":\"GlyphRenderer\",\"id\":\"p2115\",\"attributes\":{\"data_source\":{\"type\":\"object\",\"name\":\"ColumnDataSource\",\"id\":\"p2109\",\"attributes\":{\"selected\":{\"type\":\"object\",\"name\":\"Selection\",\"id\":\"p2110\",\"attributes\":{\"indices\":[],\"line_indices\":[]}},\"selection_policy\":{\"type\":\"object\",\"name\":\"UnionRenderers\",\"id\":\"p2111\"},\"data\":{\"type\":\"map\",\"entries\":[[\"x\",{\"type\":\"ndarray\",\"array\":{\"type\":\"bytes\",\"data\":\"AAAAAAAAAAAAAAAAmJnJPwAAAACZmdk/AAAAADMz4z8AAACAmZnpPwAAAAAAAPA/AAAAADMz8z8AAABAZmb2PwAAAICZmfk/AAAAwMzM/D8AAAAAAAAAQAAAAICZmQFAAAAAIDMzA0AAAADAzMwEQAAAAGBmZgZAAAAAAAAACEAAAACAmZkJQAAAACAzMwtAAAAAwMzMDEAAAABgZmYOQAAAAAAAABBAAAAAwMzMEEAAAACQmZkRQAAAAGBmZhJAAAAAMDMzE0AAAAAAAAAUQAAAAMDMzBRAAAAAkJmZFUAAAABgZmYWQAAAADAzMxdAAAAAAAAAGEAAAADAzMwYQAAAAJCZmRlAAAAAYGZmGkAAAAAwMzMbQAAAAAAAABxAAAAAwMzMHEAAAACQmZkdQAAAAGBmZh5AAAAAMDMzH0AAAAAAAAAgQAAAAGBmZiBAAAAAyMzMIEAAAAAwMzMhQAAAAJiZmSFAAAAAAAAAIkAAAABgZmYiQAAAAMjMzCJAAAAAMDMzI0AAAACYmZkjQAAAAAAAACRAAAAAYGZmJEAAAADIzMwkQAAAADAzMyVAAAAAmJmZJUAAAAAAAAAmQAAAAGBmZiZAAAAAyMzMJkAAAAAwMzMnQAAAAJiZmSdAAAAAAAAAKEAAAABgZmYoQAAAAMjMzChAAAAAMDMzKUAAAACYmZkpQAAAAAAAACpAAAAAYGZmKkAAAADIzMwqQAAAADAzMytAAAAAmJmZK0AAAAAAAAAsQAAAAGBmZixAAAAAyMzMLEAAAAAwMzMtQAAAAJiZmS1AAAAAAAAALkAAAABgZmYuQAAAAMjMzC5AAAAAMDMzL0AAAACYmZkvQAAAAAAAADBAAAAAMDMzMEAAAABkZmYwQAAAAJiZmTBAAAAAzMzMMEAAAAAAAAAxQAAAADAzMzFAAAAAZGZmMUAAAACYmZkxQAAAAMzMzDFAAAAAAAAAMkAAAAAwMzMyQAAAAGRmZjJAAAAAmJmZMkAAAADMzMwyQAAAAAAAADNAAAAAMDMzM0AAAABkZmYzQAAAAJiZmTNAAAAAzMzMM0AAAAAAAAA0QAAAADAzMzRAAAAAZGZmNEAAAACYmZk0QAAAAMzMzDRAAAAAAAAANUAAAAAwMzM1QAAAAGRmZjVAAAAAmJmZNUAAAADMzMw1QAAAAAAAADZAAAAAMDMzNkAAAABkZmY2QAAAAJiZmTZAAAAAzMzMNkAAAAAAAAA3QAAAADAzMzdAAAAAZGZmN0AAAACYmZk3QAAAAMzMzDdAAAAAAAAAOEAAAAAwMzM4QAAAAGRmZjhAAAAAmJmZOEAAAADMzMw4QAAAAAAAADlAAAAAMDMzOUAAAABkZmY5QAAAAJiZmTlAAAAAzMzMOUAAAAAAAAA6QAAAADAzMzpAAAAAZGZmOkAAAACYmZk6QAAAAMzMzDpAAAAAAAAAO0AAAAAwMzM7QAAAAGRmZjtAAAAAmJmZO0AAAADMzMw7QAAAAAAAADxAAAAAMDMzPEAAAABkZmY8QAAAAJiZmTxAAAAAzMzMPEAAAAAAAAA9QAAAADAzMz1AAAAAZGZmPUAAAACYmZk9QAAAAMzMzD1AAAAAAAAAPkAAAAAwMzM+QAAAAGRmZj5AAAAAmJmZPkAAAADMzMw+QAAAAAAAAD9AAAAAMDMzP0AAAABkZmY/QA==\"},\"shape\":[158],\"dtype\":\"float64\",\"order\":\"little\"}],[\"y\",{\"type\":\"ndarray\",\"array\":{\"type\":\"bytes\",\"data\":\"CKwcWmT7QUBh5dAi23lDQD4K16NwPUVAu0kMAivHR0Cd76fGS/dIQAisHFpk+0pApHA9CtfjTEDZzvdT4+VNQHnpJjEIDFBAI9v5fmpcUUB56SYxCExSQHnpJjEIbFNAtMh2vp/6VEDeJAaBlQNWQObQItv5HldAiBbZzvdzWEBCYOXQIrtZQOxRuB6FC1tAz/dT46U7XECClUOLbIddQDiJQWDl0F5AL90kBoH1X0B3vp8aL51gQEoMAiuHRmFAVeOlm8TQYUAnMQisHHpiQDDdJAaBBWNAN4lBYOWQY0BI4XoUrhdkQGHl0CLbmWRAZDvfT40nZUCamZmZmZllQMUgsHJoEWZAv58aL92kZkDn+6nx0h1nQPYoXI/CpWdADi2yne8naEBV46WbxJBoQGMQWDm0GGlAdZMYBFaeaUCUGARWDh1qQLkehetRmGpA7FG4HoULa0AUrkfheoRrQFyPwvUo7GtAaZHtfD91bEC28/3UeNlsQBFYObTINm1AGy/dJAbBbUCDwMqhRRZuQMdLN4lBgG5ANV66SQzSbkB3vp8aLz1vQNijcD0Kl29AAiuHFtkGcEDHSzeJQShwQA4tsp3vR3BADAIrhxZJcEBxPQrXo1hwQDm0yHa+d3BAlBgEVg6NcEBcj8L1KKxwQCPb+X5qzHBA2/l+arz0cECOl24SgyBxQEw3iUFgRXFAi2zn+6lpcUDP91PjpYtxQARWDi2ytXFAuR6F61HgcUBvEoPAyglyQLx0kxgEJnJAc2iR7XxPckArhxbZzndyQOSlm8QgoHJAGQRWDi3KckDVeOkmMfByQJZDi2znE3NAUrgehes5c0CF61G4HmVzQNijcD0Kf3NAK4cW2c6Xc0D4U+Olm7RzQESLbOf70XNAoBov3STmc0D0/dR46f5zQFK4HoXrEXRA5KWbxCAIdECJQWDl0PJzQOF6FK5HwXNAs53vp8aTc0BMN4lBYIVzQHNoke18b3NA30+Nl256c0B1kxgEVm5zQOf7qfHSdXNA30+Nl256c0CkcD0K15tzQAvXo3A9qnNASOF6FK7Pc0Cd76fGS+dzQIgW2c7383NAYxBYObQIdEAZBFYOLTJ0QJqZmZmZMXRA30+Nl25SdEBYObTIdlZ0QLtJDAIrZ3RAjpduEoOAdEAZBFYOLXp0QJduEoPAenRAj8L1KFx/dEB1kxgEVo50QIGVQ4tsh3RAXI/C9SicdEDZzvdT4510QESLbOf7YXRA001iEFgRdEBWDi2yncdzQHWTGARWtnNAy6FFtvPNc0AzMzMzM9tzQDeJQWDl2HNA3iQGgZXDc0A830+Nl9ZzQCuHFtnO33NAF9nO91Prc0CBlUOLbPdzQMUgsHJoGXRAMQisHFokdECd76fGSy90QHe+nxovRXRAke18PzU2dEBt5/up8Up0QAwCK4cWOXRAJzEIrBxydEBMN4lBYF10QCcxCKwccnRAIbByaJF1dEB9PzVeuol0QN4kBoGVm3RA+n5qvHSLdEAEVg4tsoV0QJHtfD81fnRA7nw/NV6SdEAAAAAAAIh0QCGwcmiRvXRApHA9Cte7dEDRItv5fqJ0QNv5fmq8nHRANl66SQyydEDqJjEIrJR0QI6XbhKDyHRARbbz/dSodEDkpZvEIJh0QJduEoPAenRAVeOlm8RYdEA/NV66SWR0QA==\"},\"shape\":[158],\"dtype\":\"float64\",\"order\":\"little\"}]]}}},\"view\":{\"type\":\"object\",\"name\":\"CDSView\",\"id\":\"p2116\",\"attributes\":{\"filter\":{\"type\":\"object\",\"name\":\"AllIndices\",\"id\":\"p2117\"}}},\"glyph\":{\"type\":\"object\",\"name\":\"Line\",\"id\":\"p2112\",\"attributes\":{\"x\":{\"type\":\"field\",\"field\":\"x\"},\"y\":{\"type\":\"field\",\"field\":\"y\"},\"line_color\":\"limegreen\",\"line_width\":2}},\"nonselection_glyph\":{\"type\":\"object\",\"name\":\"Line\",\"id\":\"p2113\",\"attributes\":{\"x\":{\"type\":\"field\",\"field\":\"x\"},\"y\":{\"type\":\"field\",\"field\":\"y\"},\"line_color\":\"limegreen\",\"line_alpha\":0.1,\"line_width\":2}},\"muted_glyph\":{\"type\":\"object\",\"name\":\"Line\",\"id\":\"p2114\",\"attributes\":{\"x\":{\"type\":\"field\",\"field\":\"x\"},\"y\":{\"type\":\"field\",\"field\":\"y\"},\"line_color\":\"limegreen\",\"line_alpha\":0.2,\"line_width\":2}}}},{\"type\":\"object\",\"name\":\"GlyphRenderer\",\"id\":\"p2125\",\"attributes\":{\"data_source\":{\"type\":\"object\",\"name\":\"ColumnDataSource\",\"id\":\"p2119\",\"attributes\":{\"selected\":{\"type\":\"object\",\"name\":\"Selection\",\"id\":\"p2120\",\"attributes\":{\"indices\":[],\"line_indices\":[]}},\"selection_policy\":{\"type\":\"object\",\"name\":\"UnionRenderers\",\"id\":\"p2121\"},\"data\":{\"type\":\"map\",\"entries\":[[\"x\",{\"type\":\"ndarray\",\"array\":{\"type\":\"bytes\",\"data\":\"AAAAAAAAAAAAAAAAmJnJPwAAAACZmdk/AAAAADMz4z8AAACAmZnpPwAAAAAAAPA/AAAAADMz8z8AAABAZmb2PwAAAICZmfk/AAAAwMzM/D8AAAAAAAAAQAAAAICZmQFAAAAAIDMzA0AAAADAzMwEQAAAAGBmZgZAAAAAAAAACEAAAACAmZkJQAAAACAzMwtAAAAAwMzMDEAAAABgZmYOQAAAAAAAABBAAAAAwMzMEEAAAACQmZkRQAAAAGBmZhJAAAAAMDMzE0AAAAAAAAAUQAAAAMDMzBRAAAAAkJmZFUAAAABgZmYWQAAAADAzMxdAAAAAAAAAGEAAAADAzMwYQAAAAJCZmRlAAAAAYGZmGkAAAAAwMzMbQAAAAAAAABxAAAAAwMzMHEAAAACQmZkdQAAAAGBmZh5AAAAAMDMzH0AAAAAAAAAgQAAAAGBmZiBAAAAAyMzMIEAAAAAwMzMhQAAAAJiZmSFAAAAAAAAAIkAAAABgZmYiQAAAAMjMzCJAAAAAMDMzI0AAAACYmZkjQAAAAAAAACRAAAAAYGZmJEAAAADIzMwkQAAAADAzMyVAAAAAmJmZJUAAAAAAAAAmQAAAAGBmZiZAAAAAyMzMJkAAAAAwMzMnQAAAAJiZmSdAAAAAAAAAKEAAAABgZmYoQAAAAMjMzChAAAAAMDMzKUAAAACYmZkpQAAAAAAAACpAAAAAYGZmKkAAAADIzMwqQAAAADAzMytAAAAAmJmZK0AAAAAAAAAsQAAAAGBmZixAAAAAyMzMLEAAAAAwMzMtQAAAAJiZmS1AAAAAAAAALkAAAABgZmYuQAAAAMjMzC5AAAAAMDMzL0AAAACYmZkvQAAAAAAAADBAAAAAMDMzMEAAAABkZmYwQAAAAJiZmTBAAAAAzMzMMEAAAAAAAAAxQAAAADAzMzFAAAAAZGZmMUAAAACYmZkxQAAAAMzMzDFAAAAAAAAAMkAAAAAwMzMyQAAAAGRmZjJAAAAAmJmZMkAAAADMzMwyQAAAAAAAADNAAAAAMDMzM0AAAABkZmYzQAAAAJiZmTNAAAAAzMzMM0AAAAAAAAA0QAAAADAzMzRAAAAAZGZmNEAAAACYmZk0QAAAAMzMzDRAAAAAAAAANUAAAAAwMzM1QAAAAGRmZjVAAAAAmJmZNUAAAADMzMw1QAAAAAAAADZAAAAAMDMzNkAAAABkZmY2QAAAAJiZmTZAAAAAzMzMNkAAAAAAAAA3QAAAADAzMzdAAAAAZGZmN0AAAACYmZk3QAAAAMzMzDdAAAAAAAAAOEAAAAAwMzM4QAAAAGRmZjhAAAAAmJmZOEAAAADMzMw4QAAAAAAAADlAAAAAMDMzOUAAAABkZmY5QAAAAJiZmTlAAAAAzMzMOUAAAAAAAAA6QAAAADAzMzpAAAAAZGZmOkAAAACYmZk6QAAAAMzMzDpAAAAAAAAAO0AAAAAwMzM7QAAAAGRmZjtAAAAAmJmZO0AAAADMzMw7QAAAAAAAADxAAAAAMDMzPEAAAABkZmY8QAAAAJiZmTxAAAAAzMzMPEAAAAAAAAA9QAAAADAzMz1AAAAAZGZmPUAAAACYmZk9QAAAAMzMzD1AAAAAAAAAPkAAAAAwMzM+QAAAAGRmZj5AAAAAmJmZPkAAAADMzMw+QAAAAAAAAD9AAAAAMDMzP0AAAABkZmY/QA==\"},\"shape\":[158],\"dtype\":\"float64\",\"order\":\"little\"}],[\"y\",{\"type\":\"ndarray\",\"array\":{\"type\":\"bytes\",\"data\":\"hx133F2AaEAnWSufUuhnQISQ43AEgmdAGIpEDSbTZkA8apgINyhmQGJBj7V5yWVAsh92cMJaZUCaZREmHdxkQF5WmhKyg2RA+MKGImM9ZED1AZrCe/RjQIljTBSNwGNA45N63EWCY0DWpULA9WBjQEBVVydMHWNAdxPcCJPwYkBjDa/pPd1iQEYkdHGjsWJA3KfEnP2VYkAd37ztjmliQHbG71RGQ2JA5sp0lHgrYkBkw3H6OQRiQO9JtD185WFAYZgJKrbIYUD+9RXvCZ5hQD8rngvuiWFAH3Ek9xRpYUBl/t6vLk5hQLlNBvacLmFALj8ABQICYUBQCkOC2u1gQNSZ8u6+3GBAGrPWeFq5YEChTZ/2ZaNgQPLVjibth2BA2zzN/Dh7YEC6G/l/QV5gQGhRyLLyT2BAJlcjDuw6YEDOl6LQRixgQBpOKDM8F2BAczPp94IEYEBweobZ/91fQOKx9lDHv19ACkQdzBWTX0DQIwjnTnhfQPhf0PsrYV9AX5nZhe1JX0DBdRsW6kJfQEwM7XeyFV9AoiZfC+IEX0BodzC0FdBeQML8mE/Gx15AnpCcaF+jXkBexbGycrdeQLLKWwvy115AlZ3L76sLX0Cs2+9xSglfQHmFVq16M19AS7c5ZG86X0A/dgAuj05fQOroQrG0aF9A+KIjMfFPX0CZC1WFyCBfQEh2ofpFNF9AR5EwwYIrX0BboIO/UhFfQIYtjheW7V5A2fSYerSiXkCwARlFKl5eQFUh6qPrZF5A/xW04rVqXkDL/n2yXCVeQA6Tc7H+7l1Am1J3eG2XXUCDP/lLyW5dQBVMKpeMLF1Akx+M6QUgXUB378kc8NtcQAaVpBokglxADAa5NZ+KXEAHNXC73UpcQJN/o4z6MFxAOBaq2SG+W0BIXTsjmYxbQHZxouZ+mltANM9azOT+W0D17UzzaJpcQGNXxdlOXV1ArJxEvl3zXUAssteLZj1eQKwhcnSAn15A2RJU1QvtXkCkXWwJKDxfQG6LsigYWl9AhyX6DgR2X0C/oNTfKFJfQETE37BGFF9AZDVdQSKvXkAejLuzszVeQISCLXdsE15A+rHkXxTbXUDAU0iUKnxdQG8bMA62eV1AX2Nw4pHuXEDJfc3kS6ZcQP5dSZMSVlxA6brXeTnsW0C6TZ0eUC5cQAx0nrgVRlxAS98/TQlPXEACzmpiruBbQGhw3mNdUFtAxlfMA8RjWkBBL8hTyydaQBi+lDydOlpAZO5HQIbpWkCxLIEQVINbQNjGVxOf0ltAy6YfADVVW0BD0s+QvkZbQA8B4Rkfg1tAu+MEBpuCW0AzsE7N1n1bQJmpiazpPltAOiXyOVUOW0Axv77GgylbQCYrPCbSA1tATiyNu/EUW0BRXbtTrP5aQCR/Zhb3fVpAYEjB4OhsWkDiTZDdMsRZQBvtgqfbhVlAcpYRooQPWUCF8cPWqCJZQFQGauBkHVlAb4kT6wX9WEB4J+0C+e1YQI/V5u/V9VhAYXTU6OxOWUCEdbYURn1ZQI+TImUBkVlAmWm+x0cyWUC1psYuSc5YQKoz9g8HDFhApaBLBMsQWEASAuizxY1YQEUACNTxnFhAijaMO/s3WEDkb+zcvwdYQGhFdCSLXldAUVgE/IheV0D1oqK1wtpXQDNzfPThH1hANBZyjHbBWECWNL/9xmBYQA==\"},\"shape\":[158],\"dtype\":\"float64\",\"order\":\"little\"}]]}}},\"view\":{\"type\":\"object\",\"name\":\"CDSView\",\"id\":\"p2126\",\"attributes\":{\"filter\":{\"type\":\"object\",\"name\":\"AllIndices\",\"id\":\"p2127\"}}},\"glyph\":{\"type\":\"object\",\"name\":\"Line\",\"id\":\"p2122\",\"attributes\":{\"x\":{\"type\":\"field\",\"field\":\"x\"},\"y\":{\"type\":\"field\",\"field\":\"y\"},\"line_color\":\"red\",\"line_width\":2}},\"nonselection_glyph\":{\"type\":\"object\",\"name\":\"Line\",\"id\":\"p2123\",\"attributes\":{\"x\":{\"type\":\"field\",\"field\":\"x\"},\"y\":{\"type\":\"field\",\"field\":\"y\"},\"line_color\":\"red\",\"line_alpha\":0.1,\"line_width\":2}},\"muted_glyph\":{\"type\":\"object\",\"name\":\"Line\",\"id\":\"p2124\",\"attributes\":{\"x\":{\"type\":\"field\",\"field\":\"x\"},\"y\":{\"type\":\"field\",\"field\":\"y\"},\"line_color\":\"red\",\"line_alpha\":0.2,\"line_width\":2}}}},{\"type\":\"object\",\"name\":\"GlyphRenderer\",\"id\":\"p2135\",\"attributes\":{\"data_source\":{\"type\":\"object\",\"name\":\"ColumnDataSource\",\"id\":\"p2129\",\"attributes\":{\"selected\":{\"type\":\"object\",\"name\":\"Selection\",\"id\":\"p2130\",\"attributes\":{\"indices\":[],\"line_indices\":[]}},\"selection_policy\":{\"type\":\"object\",\"name\":\"UnionRenderers\",\"id\":\"p2131\"},\"data\":{\"type\":\"map\",\"entries\":[[\"x0\",[30.799999952316284]],[\"y0\",[0.0]],[\"x1\",[30.799999952316284]],[\"y1\",[329.84325]]]}}},\"view\":{\"type\":\"object\",\"name\":\"CDSView\",\"id\":\"p2136\",\"attributes\":{\"filter\":{\"type\":\"object\",\"name\":\"AllIndices\",\"id\":\"p2137\"}}},\"glyph\":{\"type\":\"object\",\"name\":\"Segment\",\"id\":\"p2132\",\"attributes\":{\"x0\":{\"type\":\"field\",\"field\":\"x0\"},\"y0\":{\"type\":\"field\",\"field\":\"y0\"},\"x1\":{\"type\":\"field\",\"field\":\"x1\"},\"y1\":{\"type\":\"field\",\"field\":\"y1\"},\"line_color\":{\"type\":\"value\",\"value\":\"lightblue\"},\"line_width\":{\"type\":\"value\",\"value\":3}}},\"nonselection_glyph\":{\"type\":\"object\",\"name\":\"Segment\",\"id\":\"p2133\",\"attributes\":{\"x0\":{\"type\":\"field\",\"field\":\"x0\"},\"y0\":{\"type\":\"field\",\"field\":\"y0\"},\"x1\":{\"type\":\"field\",\"field\":\"x1\"},\"y1\":{\"type\":\"field\",\"field\":\"y1\"},\"line_color\":{\"type\":\"value\",\"value\":\"lightblue\"},\"line_alpha\":{\"type\":\"value\",\"value\":0.1},\"line_width\":{\"type\":\"value\",\"value\":3}}},\"muted_glyph\":{\"type\":\"object\",\"name\":\"Segment\",\"id\":\"p2134\",\"attributes\":{\"x0\":{\"type\":\"field\",\"field\":\"x0\"},\"y0\":{\"type\":\"field\",\"field\":\"y0\"},\"x1\":{\"type\":\"field\",\"field\":\"x1\"},\"y1\":{\"type\":\"field\",\"field\":\"y1\"},\"line_color\":{\"type\":\"value\",\"value\":\"lightblue\"},\"line_alpha\":{\"type\":\"value\",\"value\":0.2},\"line_width\":{\"type\":\"value\",\"value\":3}}}}},{\"type\":\"object\",\"name\":\"GlyphRenderer\",\"id\":\"p2144\",\"attributes\":{\"data_source\":{\"type\":\"object\",\"name\":\"ColumnDataSource\",\"id\":\"p2138\",\"attributes\":{\"selected\":{\"type\":\"object\",\"name\":\"Selection\",\"id\":\"p2139\",\"attributes\":{\"indices\":[],\"line_indices\":[]}},\"selection_policy\":{\"type\":\"object\",\"name\":\"UnionRenderers\",\"id\":\"p2140\"},\"data\":{\"type\":\"map\",\"entries\":[[\"x0\",[32.299999952316284]],[\"y0\",[0.0]],[\"x1\",[32.299999952316284]],[\"y1\",[329.84325]]]}}},\"view\":{\"type\":\"object\",\"name\":\"CDSView\",\"id\":\"p2145\",\"attributes\":{\"filter\":{\"type\":\"object\",\"name\":\"AllIndices\",\"id\":\"p2146\"}}},\"glyph\":{\"type\":\"object\",\"name\":\"Segment\",\"id\":\"p2141\",\"attributes\":{\"x0\":{\"type\":\"field\",\"field\":\"x0\"},\"y0\":{\"type\":\"field\",\"field\":\"y0\"},\"x1\":{\"type\":\"field\",\"field\":\"x1\"},\"y1\":{\"type\":\"field\",\"field\":\"y1\"},\"line_color\":{\"type\":\"value\",\"value\":\"darkseagreen\"}}},\"nonselection_glyph\":{\"type\":\"object\",\"name\":\"Segment\",\"id\":\"p2142\",\"attributes\":{\"x0\":{\"type\":\"field\",\"field\":\"x0\"},\"y0\":{\"type\":\"field\",\"field\":\"y0\"},\"x1\":{\"type\":\"field\",\"field\":\"x1\"},\"y1\":{\"type\":\"field\",\"field\":\"y1\"},\"line_color\":{\"type\":\"value\",\"value\":\"darkseagreen\"},\"line_alpha\":{\"type\":\"value\",\"value\":0.1}}},\"muted_glyph\":{\"type\":\"object\",\"name\":\"Segment\",\"id\":\"p2143\",\"attributes\":{\"x0\":{\"type\":\"field\",\"field\":\"x0\"},\"y0\":{\"type\":\"field\",\"field\":\"y0\"},\"x1\":{\"type\":\"field\",\"field\":\"x1\"},\"y1\":{\"type\":\"field\",\"field\":\"y1\"},\"line_color\":{\"type\":\"value\",\"value\":\"darkseagreen\"},\"line_alpha\":{\"type\":\"value\",\"value\":0.2}}}}},{\"type\":\"object\",\"name\":\"GlyphRenderer\",\"id\":\"p2153\",\"attributes\":{\"data_source\":{\"type\":\"object\",\"name\":\"ColumnDataSource\",\"id\":\"p2147\",\"attributes\":{\"selected\":{\"type\":\"object\",\"name\":\"Selection\",\"id\":\"p2148\",\"attributes\":{\"indices\":[],\"line_indices\":[]}},\"selection_policy\":{\"type\":\"object\",\"name\":\"UnionRenderers\",\"id\":\"p2149\"},\"data\":{\"type\":\"map\",\"entries\":[[\"x0\",[29.299999952316284]],[\"y0\",[0.0]],[\"x1\",[29.299999952316284]],[\"y1\",[329.84325]]]}}},\"view\":{\"type\":\"object\",\"name\":\"CDSView\",\"id\":\"p2154\",\"attributes\":{\"filter\":{\"type\":\"object\",\"name\":\"AllIndices\",\"id\":\"p2155\"}}},\"glyph\":{\"type\":\"object\",\"name\":\"Segment\",\"id\":\"p2150\",\"attributes\":{\"x0\":{\"type\":\"field\",\"field\":\"x0\"},\"y0\":{\"type\":\"field\",\"field\":\"y0\"},\"x1\":{\"type\":\"field\",\"field\":\"x1\"},\"y1\":{\"type\":\"field\",\"field\":\"y1\"},\"line_color\":{\"type\":\"value\",\"value\":\"darkseagreen\"}}},\"nonselection_glyph\":{\"type\":\"object\",\"name\":\"Segment\",\"id\":\"p2151\",\"attributes\":{\"x0\":{\"type\":\"field\",\"field\":\"x0\"},\"y0\":{\"type\":\"field\",\"field\":\"y0\"},\"x1\":{\"type\":\"field\",\"field\":\"x1\"},\"y1\":{\"type\":\"field\",\"field\":\"y1\"},\"line_color\":{\"type\":\"value\",\"value\":\"darkseagreen\"},\"line_alpha\":{\"type\":\"value\",\"value\":0.1}}},\"muted_glyph\":{\"type\":\"object\",\"name\":\"Segment\",\"id\":\"p2152\",\"attributes\":{\"x0\":{\"type\":\"field\",\"field\":\"x0\"},\"y0\":{\"type\":\"field\",\"field\":\"y0\"},\"x1\":{\"type\":\"field\",\"field\":\"x1\"},\"y1\":{\"type\":\"field\",\"field\":\"y1\"},\"line_color\":{\"type\":\"value\",\"value\":\"darkseagreen\"},\"line_alpha\":{\"type\":\"value\",\"value\":0.2}}}}},{\"type\":\"object\",\"name\":\"GlyphRenderer\",\"id\":\"p2162\",\"attributes\":{\"data_source\":{\"type\":\"object\",\"name\":\"ColumnDataSource\",\"id\":\"p2156\",\"attributes\":{\"selected\":{\"type\":\"object\",\"name\":\"Selection\",\"id\":\"p2157\",\"attributes\":{\"indices\":[],\"line_indices\":[]}},\"selection_policy\":{\"type\":\"object\",\"name\":\"UnionRenderers\",\"id\":\"p2158\"},\"data\":{\"type\":\"map\",\"entries\":[[\"x\",[30.799999952316284]],[\"y\",[329.84325]],[\"size\",[20]]]}}},\"view\":{\"type\":\"object\",\"name\":\"CDSView\",\"id\":\"p2163\",\"attributes\":{\"filter\":{\"type\":\"object\",\"name\":\"AllIndices\",\"id\":\"p2164\"}}},\"glyph\":{\"type\":\"object\",\"name\":\"Scatter\",\"id\":\"p2159\",\"attributes\":{\"x\":{\"type\":\"field\",\"field\":\"x\"},\"y\":{\"type\":\"field\",\"field\":\"y\"},\"size\":{\"type\":\"field\",\"field\":\"size\"},\"line_color\":{\"type\":\"value\",\"value\":\"lightblue\"},\"line_width\":{\"type\":\"value\",\"value\":3},\"fill_color\":{\"type\":\"value\",\"value\":null},\"marker\":{\"type\":\"value\",\"value\":\"square_cross\"}}},\"nonselection_glyph\":{\"type\":\"object\",\"name\":\"Scatter\",\"id\":\"p2160\",\"attributes\":{\"x\":{\"type\":\"field\",\"field\":\"x\"},\"y\":{\"type\":\"field\",\"field\":\"y\"},\"size\":{\"type\":\"field\",\"field\":\"size\"},\"line_color\":{\"type\":\"value\",\"value\":\"lightblue\"},\"line_alpha\":{\"type\":\"value\",\"value\":0.1},\"line_width\":{\"type\":\"value\",\"value\":3},\"fill_color\":{\"type\":\"value\",\"value\":null},\"fill_alpha\":{\"type\":\"value\",\"value\":0.1},\"hatch_alpha\":{\"type\":\"value\",\"value\":0.1},\"marker\":{\"type\":\"value\",\"value\":\"square_cross\"}}},\"muted_glyph\":{\"type\":\"object\",\"name\":\"Scatter\",\"id\":\"p2161\",\"attributes\":{\"x\":{\"type\":\"field\",\"field\":\"x\"},\"y\":{\"type\":\"field\",\"field\":\"y\"},\"size\":{\"type\":\"field\",\"field\":\"size\"},\"line_color\":{\"type\":\"value\",\"value\":\"lightblue\"},\"line_alpha\":{\"type\":\"value\",\"value\":0.2},\"line_width\":{\"type\":\"value\",\"value\":3},\"fill_color\":{\"type\":\"value\",\"value\":null},\"fill_alpha\":{\"type\":\"value\",\"value\":0.2},\"hatch_alpha\":{\"type\":\"value\",\"value\":0.2},\"marker\":{\"type\":\"value\",\"value\":\"square_cross\"}}}}}],\"toolbar\":{\"type\":\"object\",\"name\":\"Toolbar\",\"id\":\"p2049\",\"attributes\":{\"tools\":[{\"type\":\"object\",\"name\":\"PanTool\",\"id\":\"p2064\"},{\"type\":\"object\",\"name\":\"WheelZoomTool\",\"id\":\"p2065\",\"attributes\":{\"renderers\":\"auto\"}},{\"type\":\"object\",\"name\":\"BoxZoomTool\",\"id\":\"p2066\",\"attributes\":{\"overlay\":{\"type\":\"object\",\"name\":\"BoxAnnotation\",\"id\":\"p2067\",\"attributes\":{\"syncable\":false,\"line_color\":\"black\",\"line_alpha\":1.0,\"line_width\":2,\"line_dash\":[4,4],\"fill_color\":\"lightgrey\",\"fill_alpha\":0.5,\"level\":\"overlay\",\"visible\":false,\"left\":{\"type\":\"number\",\"value\":\"nan\"},\"right\":{\"type\":\"number\",\"value\":\"nan\"},\"top\":{\"type\":\"number\",\"value\":\"nan\"},\"bottom\":{\"type\":\"number\",\"value\":\"nan\"},\"left_units\":\"canvas\",\"right_units\":\"canvas\",\"top_units\":\"canvas\",\"bottom_units\":\"canvas\",\"handles\":{\"type\":\"object\",\"name\":\"BoxInteractionHandles\",\"id\":\"p2073\",\"attributes\":{\"all\":{\"type\":\"object\",\"name\":\"AreaVisuals\",\"id\":\"p2072\",\"attributes\":{\"fill_color\":\"white\",\"hover_fill_color\":\"lightgray\"}}}}}}}},{\"type\":\"object\",\"name\":\"SaveTool\",\"id\":\"p2074\"},{\"type\":\"object\",\"name\":\"ResetTool\",\"id\":\"p2075\"},{\"type\":\"object\",\"name\":\"HelpTool\",\"id\":\"p2076\"},{\"type\":\"object\",\"name\":\"HoverTool\",\"id\":\"p2108\",\"attributes\":{\"renderers\":\"auto\",\"tooltips\":[[\"Y-val\",\"@y{0.00}\"]]}}]}},\"left\":[{\"type\":\"object\",\"name\":\"LinearAxis\",\"id\":\"p2059\",\"attributes\":{\"ticker\":{\"type\":\"object\",\"name\":\"BasicTicker\",\"id\":\"p2060\",\"attributes\":{\"mantissas\":[1,2,5]}},\"formatter\":{\"type\":\"object\",\"name\":\"BasicTickFormatter\",\"id\":\"p2061\"},\"axis_label\":\"km/h\",\"axis_label_standoff\":10,\"axis_label_text_color\":\"#E0E0E0\",\"axis_label_text_font\":\"Helvetica\",\"axis_label_text_font_size\":\"1.25em\",\"axis_label_text_font_style\":\"normal\",\"major_label_policy\":{\"type\":\"object\",\"name\":\"AllLabels\",\"id\":\"p2062\"},\"major_label_text_color\":\"#E0E0E0\",\"major_label_text_font\":\"Helvetica\",\"major_label_text_font_size\":\"1.025em\",\"axis_line_color\":\"#E0E0E0\",\"axis_line_alpha\":0,\"major_tick_line_color\":\"#E0E0E0\",\"major_tick_line_alpha\":0,\"minor_tick_line_color\":\"#E0E0E0\",\"minor_tick_line_alpha\":0}},{\"type\":\"object\",\"name\":\"LinearAxis\",\"id\":\"p2079\",\"attributes\":{\"y_range_name\":\"altitudeFt\",\"ticker\":{\"type\":\"object\",\"name\":\"BasicTicker\",\"id\":\"p2080\",\"attributes\":{\"mantissas\":[1,2,5]}},\"formatter\":{\"type\":\"object\",\"name\":\"BasicTickFormatter\",\"id\":\"p2081\"},\"axis_label\":\"Alt (ft)\",\"axis_label_standoff\":10,\"axis_label_text_color\":\"#E0E0E0\",\"axis_label_text_font\":\"Helvetica\",\"axis_label_text_font_size\":\"1.25em\",\"axis_label_text_font_style\":\"normal\",\"major_label_policy\":{\"type\":\"object\",\"name\":\"AllLabels\",\"id\":\"p2082\"},\"major_label_text_color\":\"#E0E0E0\",\"major_label_text_font\":\"Helvetica\",\"major_label_text_font_size\":\"1.025em\",\"axis_line_color\":\"#E0E0E0\",\"axis_line_alpha\":0,\"major_tick_line_color\":\"#E0E0E0\",\"major_tick_line_alpha\":0,\"minor_tick_line_color\":\"#E0E0E0\",\"minor_tick_line_alpha\":0}},{\"type\":\"object\",\"name\":\"LinearAxis\",\"id\":\"p2083\",\"attributes\":{\"y_range_name\":\"angle\",\"ticker\":{\"type\":\"object\",\"name\":\"BasicTicker\",\"id\":\"p2084\",\"attributes\":{\"mantissas\":[1,2,5]}},\"formatter\":{\"type\":\"object\",\"name\":\"BasicTickFormatter\",\"id\":\"p2085\"},\"axis_label\":\"angle\",\"axis_label_standoff\":10,\"axis_label_text_color\":\"#E0E0E0\",\"axis_label_text_font\":\"Helvetica\",\"axis_label_text_font_size\":\"1.25em\",\"axis_label_text_font_style\":\"normal\",\"major_label_policy\":{\"type\":\"object\",\"name\":\"AllLabels\",\"id\":\"p2086\"},\"major_label_text_color\":\"#E0E0E0\",\"major_label_text_font\":\"Helvetica\",\"major_label_text_font_size\":\"1.025em\",\"axis_line_color\":\"#E0E0E0\",\"axis_line_alpha\":0,\"major_tick_line_color\":\"#E0E0E0\",\"major_tick_line_alpha\":0,\"minor_tick_line_color\":\"#E0E0E0\",\"minor_tick_line_alpha\":0}}],\"below\":[{\"type\":\"object\",\"name\":\"LinearAxis\",\"id\":\"p2054\",\"attributes\":{\"ticker\":{\"type\":\"object\",\"name\":\"BasicTicker\",\"id\":\"p2055\",\"attributes\":{\"mantissas\":[1,2,5]}},\"formatter\":{\"type\":\"object\",\"name\":\"BasicTickFormatter\",\"id\":\"p2056\"},\"axis_label\":\"seconds from exit\",\"axis_label_standoff\":10,\"axis_label_text_color\":\"#E0E0E0\",\"axis_label_text_font\":\"Helvetica\",\"axis_label_text_font_size\":\"1.25em\",\"axis_label_text_font_style\":\"normal\",\"major_label_policy\":{\"type\":\"object\",\"name\":\"AllLabels\",\"id\":\"p2057\"},\"major_label_text_color\":\"#E0E0E0\",\"major_label_text_font\":\"Helvetica\",\"major_label_text_font_size\":\"1.025em\",\"axis_line_color\":\"#E0E0E0\",\"axis_line_alpha\":0,\"major_tick_line_color\":\"#E0E0E0\",\"major_tick_line_alpha\":0,\"minor_tick_line_color\":\"#E0E0E0\",\"minor_tick_line_alpha\":0}}],\"center\":[{\"type\":\"object\",\"name\":\"Grid\",\"id\":\"p2058\",\"attributes\":{\"axis\":{\"id\":\"p2054\"},\"grid_line_color\":\"#E0E0E0\",\"grid_line_alpha\":0.25}},{\"type\":\"object\",\"name\":\"Grid\",\"id\":\"p2063\",\"attributes\":{\"dimension\":1,\"axis\":{\"id\":\"p2059\"},\"grid_line_color\":\"#E0E0E0\",\"grid_line_alpha\":0.25}},{\"type\":\"object\",\"name\":\"Legend\",\"id\":\"p2096\",\"attributes\":{\"border_line_alpha\":0,\"background_fill_color\":\"#20262B\",\"background_fill_alpha\":0.25,\"label_text_color\":\"#E0E0E0\",\"label_text_font\":\"Helvetica\",\"label_text_font_size\":\"1.025em\",\"label_standoff\":8,\"glyph_width\":15,\"spacing\":8,\"items\":[{\"type\":\"object\",\"name\":\"LegendItem\",\"id\":\"p2097\",\"attributes\":{\"label\":{\"type\":\"value\",\"value\":\"Alt (ft)\"},\"renderers\":[{\"id\":\"p2093\"}]}},{\"type\":\"object\",\"name\":\"LegendItem\",\"id\":\"p2107\",\"attributes\":{\"label\":{\"type\":\"value\",\"value\":\"angle\"},\"renderers\":[{\"id\":\"p2104\"}]}},{\"type\":\"object\",\"name\":\"LegendItem\",\"id\":\"p2118\",\"attributes\":{\"label\":{\"type\":\"value\",\"value\":\"speed\"},\"renderers\":[{\"id\":\"p2115\"}]}},{\"type\":\"object\",\"name\":\"LegendItem\",\"id\":\"p2128\",\"attributes\":{\"label\":{\"type\":\"value\",\"value\":\"H-speed\"},\"renderers\":[{\"id\":\"p2125\"}]}}]}}],\"background_fill_color\":\"#20262B\",\"border_fill_color\":\"#15191C\"}}]}};\n",
       "  const render_items = [{\"docid\":\"a57df42c-56e9-4f0d-900c-fe941f61277d\",\"roots\":{\"p2040\":\"cc0de919-a8d8-4f16-a574-b42034897198\"},\"root_ids\":[\"p2040\"]}];\n",
       "  void root.Bokeh.embed.embed_items_notebook(docs_json, render_items);\n",
       "  }\n",
       "  if (root.Bokeh !== undefined) {\n",
       "    embed_document(root);\n",
       "  } else {\n",
       "    let attempts = 0;\n",
       "    const timer = setInterval(function(root) {\n",
       "      if (root.Bokeh !== undefined) {\n",
       "        clearInterval(timer);\n",
       "        embed_document(root);\n",
       "      } else {\n",
       "        attempts++;\n",
       "        if (attempts > 100) {\n",
       "          clearInterval(timer);\n",
       "          console.log(\"Bokeh: ERROR: Unable to run BokehJS code because BokehJS library is missing\");\n",
       "        }\n",
       "      }\n",
       "    }, 10, root)\n",
       "  }\n",
       "})(window);"
      ],
      "application/vnd.bokehjs_exec.v0+json": ""
     },
     "metadata": {
      "application/vnd.bokehjs_exec.v0+json": {
       "id": "p2040"
      }
     },
     "output_type": "display_data"
    }
   ],
   "source": [
    "allJumpsPlot = initializePlot('All jumps in set')\n",
    "jumpNumber = 0\n",
    "mixColor = 0\n",
    "for resultRef in sorted(jumpResults.keys()):\n",
    "    if ignoreBaseline and 'baseline' in resultRef:\n",
    "        continue\n",
    "    jumpResult = jumpResults[resultRef]\n",
    "    if jumpResult.score > 0.0:\n",
    "        validJumpStatus = '<hr><h1><span style=\"color: %s\">%s jump - %s - score = %.02f km/h</span></h1>' % (jumpResult.color, resultRef, jumpResult.result, jumpResult.score)        \n",
    "    else:\n",
    "        validJumpStatus = '<hr><h1><span style=\"color: %s\">%s jump - %s</span></h1>' % (jumpResult.color, resultRef, jumpResult.result)\n",
    "    display(widgets.HTML(validJumpStatus))\n",
    "\n",
    "    maxSpeed = jumpResult.maxSpeed\n",
    "    window = jumpResult.window\n",
    "    mixColor = (mixColor+1)%len(SPEED_COLORS)\n",
    "    if jumpResult.score > 0.0:\n",
    "        display(widgets.HTML('<h3>Max speed = {0:,.0f}; '.format(maxSpeed)+('exit at %d m (%d ft), end scoring window at %d m (%d ft)'%(window.start, 3.2808*window.start, window.end, 3.2808*window.end))))\n",
    "        if not isValidMinimumAltitude(jumpResult.data.altitudeAGL.max()):\n",
    "            display(widgets.HTML('<span style=\"color: yellow\"><span style=\"font-weight: bold\">Warning:</span> exit altitude ASL was lower than the minimum scoring altitude according to IPC and USPA.'))\n",
    "        display(widgets.HTML('</h3>'))\n",
    "        # TODO: Move this to an in-notebook function or module.\n",
    "        displayJumpDataIn(jumpResult.table)\n",
    "        individualPlot = initializePlot(resultRef)\n",
    "        individualPlot = initializeExtraYRanges(individualPlot, startY = min(jumpResult.data.altitudeAGLFt)-500.0, endY = max(jumpResult.data.altitudeAGLFt)+500.0)\n",
    "        graphAltitude(individualPlot, jumpResult)\n",
    "        graphAngle(individualPlot, jumpResult)\n",
    "        hoverValue = bm.HoverTool(tooltips = [ ('Y-val', '@y{0.00}'), ])\n",
    "        individualPlot.add_tools(hoverValue)\n",
    "        graphJumpResult(individualPlot,\n",
    "                        jumpResult,\n",
    "                        lineColor = SPEED_COLORS[0])\n",
    "        graphJumpResult(allJumpsPlot,\n",
    "                        jumpResult,\n",
    "                        lineColor = SPEED_COLORS[mixColor],\n",
    "                        legend = '%s - %.2f' % (resultRef, jumpResult.score),\n",
    "                        showIt = False)"
   ]
  },
  {
   "attachments": {},
   "cell_type": "markdown",
   "id": "a5d31990-f5c2-43d9-817b-b50a35740834",
   "metadata": {},
   "source": [
    "---\n",
    "## Summary of all speed skydives in the data lake"
   ]
  },
  {
   "cell_type": "markdown",
   "id": "491440ae-2efa-47fa-856c-25825a6fa4de",
   "metadata": {},
   "source": [
    "**<a href='https://intimescoring.com/Results/EventResults?dbid=100&mid=1074&smid=0&mdcid=1273&dseid=0' target='_blank'>InTime Scoring - 2024 USPA Speed Open results</a>**"
   ]
  },
  {
   "cell_type": "code",
   "execution_count": 13,
   "id": "17991fcf-e215-4a53-a6ff-d9a64cbafd94",
   "metadata": {
    "jupyter": {
     "source_hidden": true
    }
   },
   "outputs": [
    {
     "data": {
      "text/html": [
       "<div>\n",
       "<style scoped>\n",
       "    .dataframe tbody tr th:only-of-type {\n",
       "        vertical-align: middle;\n",
       "    }\n",
       "\n",
       "    .dataframe tbody tr th {\n",
       "        vertical-align: top;\n",
       "    }\n",
       "\n",
       "    .dataframe thead th {\n",
       "        text-align: right;\n",
       "    }\n",
       "</style>\n",
       "<table border=\"1\" class=\"dataframe\">\n",
       "  <thead>\n",
       "    <tr style=\"text-align: right;\">\n",
       "      <th></th>\n",
       "      <th>score</th>\n",
       "      <th>5.0</th>\n",
       "      <th>10.0</th>\n",
       "      <th>15.0</th>\n",
       "      <th>20.0</th>\n",
       "      <th>25.0</th>\n",
       "      <th>finalTime</th>\n",
       "      <th>maxSpeed</th>\n",
       "    </tr>\n",
       "  </thead>\n",
       "  <tbody>\n",
       "    <tr>\n",
       "      <th>Miller-2024-championship-official R1_12-43-43:v1</th>\n",
       "      <td>316</td>\n",
       "      <td>127</td>\n",
       "      <td>201</td>\n",
       "      <td>263</td>\n",
       "      <td>299</td>\n",
       "      <td>317</td>\n",
       "      <td>25.0</td>\n",
       "      <td>318</td>\n",
       "    </tr>\n",
       "    <tr>\n",
       "      <th>Miller-2024-championship-official R2_14-27-13:v1</th>\n",
       "      <td>334</td>\n",
       "      <td>133</td>\n",
       "      <td>229</td>\n",
       "      <td>286</td>\n",
       "      <td>325</td>\n",
       "      <td>335</td>\n",
       "      <td>25.0</td>\n",
       "      <td>336</td>\n",
       "    </tr>\n",
       "    <tr>\n",
       "      <th>Miller-2024-championship-official R3_15-53-00:v1</th>\n",
       "      <td>327</td>\n",
       "      <td>153</td>\n",
       "      <td>256</td>\n",
       "      <td>312</td>\n",
       "      <td>327</td>\n",
       "      <td>307</td>\n",
       "      <td>25.0</td>\n",
       "      <td>328</td>\n",
       "    </tr>\n",
       "    <tr>\n",
       "      <th>Miller-2024-championship-official R4_17-24-24:v1</th>\n",
       "      <td>331</td>\n",
       "      <td>154</td>\n",
       "      <td>253</td>\n",
       "      <td>308</td>\n",
       "      <td>326</td>\n",
       "      <td>329</td>\n",
       "      <td>25.0</td>\n",
       "      <td>332</td>\n",
       "    </tr>\n",
       "    <tr>\n",
       "      <th>Miller-2024-championship-official R5_18-49-36:v1</th>\n",
       "      <td>348</td>\n",
       "      <td>154</td>\n",
       "      <td>254</td>\n",
       "      <td>311</td>\n",
       "      <td>332</td>\n",
       "      <td>346</td>\n",
       "      <td>25.0</td>\n",
       "      <td>349</td>\n",
       "    </tr>\n",
       "    <tr>\n",
       "      <th>Miller-2024-championship-official R6_12-49-38:v1</th>\n",
       "      <td>327</td>\n",
       "      <td>144</td>\n",
       "      <td>224</td>\n",
       "      <td>289</td>\n",
       "      <td>324</td>\n",
       "      <td>242</td>\n",
       "      <td>25.0</td>\n",
       "      <td>333</td>\n",
       "    </tr>\n",
       "    <tr>\n",
       "      <th>Miller-2024-championship-official R7_14-20-26:v1</th>\n",
       "      <td>324</td>\n",
       "      <td>135</td>\n",
       "      <td>211</td>\n",
       "      <td>262</td>\n",
       "      <td>285</td>\n",
       "      <td>319</td>\n",
       "      <td>25.0</td>\n",
       "      <td>328</td>\n",
       "    </tr>\n",
       "    <tr>\n",
       "      <th>Miller-2024-championship-official R8_16-05-15:v1</th>\n",
       "      <td>330</td>\n",
       "      <td>148</td>\n",
       "      <td>244</td>\n",
       "      <td>301</td>\n",
       "      <td>318</td>\n",
       "      <td>318</td>\n",
       "      <td>25.0</td>\n",
       "      <td>333</td>\n",
       "    </tr>\n",
       "  </tbody>\n",
       "</table>\n",
       "</div>"
      ],
      "text/plain": [
       "                                                  score  5.0  10.0  15.0  \\\n",
       "Miller-2024-championship-official R1_12-43-43:v1    316  127   201   263   \n",
       "Miller-2024-championship-official R2_14-27-13:v1    334  133   229   286   \n",
       "Miller-2024-championship-official R3_15-53-00:v1    327  153   256   312   \n",
       "Miller-2024-championship-official R4_17-24-24:v1    331  154   253   308   \n",
       "Miller-2024-championship-official R5_18-49-36:v1    348  154   254   311   \n",
       "Miller-2024-championship-official R6_12-49-38:v1    327  144   224   289   \n",
       "Miller-2024-championship-official R7_14-20-26:v1    324  135   211   262   \n",
       "Miller-2024-championship-official R8_16-05-15:v1    330  148   244   301   \n",
       "\n",
       "                                                  20.0  25.0  finalTime  \\\n",
       "Miller-2024-championship-official R1_12-43-43:v1   299   317       25.0   \n",
       "Miller-2024-championship-official R2_14-27-13:v1   325   335       25.0   \n",
       "Miller-2024-championship-official R3_15-53-00:v1   327   307       25.0   \n",
       "Miller-2024-championship-official R4_17-24-24:v1   326   329       25.0   \n",
       "Miller-2024-championship-official R5_18-49-36:v1   332   346       25.0   \n",
       "Miller-2024-championship-official R6_12-49-38:v1   324   242       25.0   \n",
       "Miller-2024-championship-official R7_14-20-26:v1   285   319       25.0   \n",
       "Miller-2024-championship-official R8_16-05-15:v1   318   318       25.0   \n",
       "\n",
       "                                                  maxSpeed  \n",
       "Miller-2024-championship-official R1_12-43-43:v1       318  \n",
       "Miller-2024-championship-official R2_14-27-13:v1       336  \n",
       "Miller-2024-championship-official R3_15-53-00:v1       328  \n",
       "Miller-2024-championship-official R4_17-24-24:v1       332  \n",
       "Miller-2024-championship-official R5_18-49-36:v1       349  \n",
       "Miller-2024-championship-official R6_12-49-38:v1       333  \n",
       "Miller-2024-championship-official R7_14-20-26:v1       328  \n",
       "Miller-2024-championship-official R8_16-05-15:v1       333  "
      ]
     },
     "metadata": {},
     "output_type": "display_data"
    },
    {
     "data": {
      "text/html": [
       "<div>\n",
       "<style scoped>\n",
       "    .dataframe tbody tr th:only-of-type {\n",
       "        vertical-align: middle;\n",
       "    }\n",
       "\n",
       "    .dataframe tbody tr th {\n",
       "        vertical-align: top;\n",
       "    }\n",
       "\n",
       "    .dataframe thead th {\n",
       "        text-align: right;\n",
       "    }\n",
       "</style>\n",
       "<table border=\"1\" class=\"dataframe\">\n",
       "  <thead>\n",
       "    <tr style=\"text-align: right;\">\n",
       "      <th></th>\n",
       "      <th>totalSpeed</th>\n",
       "      <th>meanSpeed</th>\n",
       "      <th>maxScore</th>\n",
       "    </tr>\n",
       "  </thead>\n",
       "  <tbody>\n",
       "    <tr>\n",
       "      <th>totalSpeed</th>\n",
       "      <td>2637.8325</td>\n",
       "      <td>329.729062</td>\n",
       "      <td>348.2505</td>\n",
       "    </tr>\n",
       "  </tbody>\n",
       "</table>\n",
       "</div>"
      ],
      "text/plain": [
       "            totalSpeed   meanSpeed  maxScore\n",
       "totalSpeed   2637.8325  329.729062  348.2505"
      ]
     },
     "metadata": {},
     "output_type": "display_data"
    },
    {
     "data": {
      "text/html": [
       "\n",
       "  <div id=\"b48623fa-f85c-44c5-af0b-3931ea97bb05\" data-root-id=\"p1001\" style=\"display: contents;\"></div>\n"
      ]
     },
     "metadata": {},
     "output_type": "display_data"
    },
    {
     "data": {
      "application/javascript": [
       "(function(root) {\n",
       "  function embed_document(root) {\n",
       "  const docs_json = {\"6ba8c745-5895-41b7-978c-f46ead8bac7b\":{\"version\":\"3.5.2\",\"title\":\"Bokeh Application\",\"roots\":[{\"type\":\"object\",\"name\":\"Figure\",\"id\":\"p1001\",\"attributes\":{\"width\":900,\"height\":500,\"x_range\":{\"type\":\"object\",\"name\":\"Range1d\",\"id\":\"p1011\",\"attributes\":{\"end\":35.0}},\"y_range\":{\"type\":\"object\",\"name\":\"Range1d\",\"id\":\"p1012\",\"attributes\":{\"end\":550.0}},\"x_scale\":{\"type\":\"object\",\"name\":\"LinearScale\",\"id\":\"p1013\"},\"y_scale\":{\"type\":\"object\",\"name\":\"LinearScale\",\"id\":\"p1014\"},\"title\":{\"type\":\"object\",\"name\":\"Title\",\"id\":\"p1004\",\"attributes\":{\"text\":\"All jumps in set\",\"text_color\":\"#E0E0E0\",\"text_font\":\"Helvetica\",\"text_font_size\":\"1.15em\"}},\"outline_line_color\":\"#E0E0E0\",\"outline_line_alpha\":0.25,\"renderers\":[{\"type\":\"object\",\"name\":\"GlyphRenderer\",\"id\":\"p1177\",\"attributes\":{\"data_source\":{\"type\":\"object\",\"name\":\"ColumnDataSource\",\"id\":\"p1171\",\"attributes\":{\"selected\":{\"type\":\"object\",\"name\":\"Selection\",\"id\":\"p1172\",\"attributes\":{\"indices\":[],\"line_indices\":[]}},\"selection_policy\":{\"type\":\"object\",\"name\":\"UnionRenderers\",\"id\":\"p1173\"},\"data\":{\"type\":\"map\",\"entries\":[[\"x\",{\"type\":\"ndarray\",\"array\":{\"type\":\"bytes\",\"data\":\"AAAAAAAAAAAAAAAAmpnJPwAAAACZmdk/AAAAADMz4z8AAACAmZnpPwAAAAAAAPA/AAAAQDMz8z8AAABAZmb2PwAAAICZmfk/AAAAwMzM/D8AAAAAAAAAQAAAAKCZmQFAAAAAIDMzA0AAAADAzMwEQAAAAGBmZgZAAAAAAAAACEAAAACgmZkJQAAAACAzMwtAAAAAwMzMDEAAAABgZmYOQAAAAAAAABBAAAAA0MzMEEAAAACQmZkRQAAAAGBmZhJAAAAAMDMzE0AAAAAAAAAUQAAAANDMzBRAAAAAkJmZFUAAAABgZmYWQAAAADAzMxdAAAAAAAAAGEAAAADQzMwYQAAAAJCZmRlAAAAAYGZmGkAAAAAwMzMbQAAAAAAAABxAAAAA0MzMHEAAAACQmZkdQAAAAGBmZh5AAAAAMDMzH0AAAAAAAAAgQAAAAGhmZiBAAAAAyMzMIEAAAAAwMzMhQAAAAJiZmSFAAAAAAAAAIkAAAABoZmYiQAAAAMjMzCJAAAAAMDMzI0AAAACYmZkjQAAAAAAAACRAAAAAaGZmJEAAAADIzMwkQAAAADAzMyVAAAAAmJmZJUAAAAAAAAAmQAAAAGhmZiZAAAAAyMzMJkAAAAAwMzMnQAAAAJiZmSdAAAAAAAAAKEAAAABoZmYoQAAAAMjMzChAAAAAMDMzKUAAAACYmZkpQAAAAAAAACpAAAAAaGZmKkAAAADIzMwqQAAAADAzMytAAAAAmJmZK0AAAAAAAAAsQAAAAGhmZixAAAAAyMzMLEAAAAAwMzMtQAAAAJiZmS1AAAAAAAAALkAAAABoZmYuQAAAAMjMzC5AAAAAMDMzL0AAAACYmZkvQAAAAAAAADBAAAAANDMzMEAAAABkZmYwQAAAAJiZmTBAAAAAzMzMMEAAAAAAAAAxQAAAADQzMzFAAAAAZGZmMUAAAACYmZkxQAAAAMzMzDFAAAAAAAAAMkAAAAA0MzMyQAAAAGRmZjJAAAAAmJmZMkAAAADMzMwyQAAAAAAAADNAAAAANDMzM0AAAABkZmYzQAAAAJiZmTNAAAAAzMzMM0AAAAAAAAA0QAAAADQzMzRAAAAAZGZmNEAAAACYmZk0QAAAAMzMzDRAAAAAAAAANUAAAAA0MzM1QAAAAGRmZjVAAAAAmJmZNUAAAADMzMw1QAAAAAAAADZAAAAANDMzNkAAAABkZmY2QAAAAJiZmTZAAAAAzMzMNkAAAAAAAAA3QAAAADQzMzdAAAAAZGZmN0AAAACYmZk3QAAAAMzMzDdAAAAAAAAAOEAAAAA0MzM4QAAAAGRmZjhAAAAAmJmZOEAAAADMzMw4QAAAAAAAADlAAAAANDMzOUAAAABkZmY5QAAAAJiZmTlAAAAAzMzMOUAAAAAAAAA6QAAAADQzMzpAAAAAZGZmOkAAAACYmZk6QAAAAMzMzDpAAAAAAAAAO0AAAAA0MzM7QAAAAGRmZjtAAAAAmJmZO0AAAADMzMw7QAAAAAAAADxAAAAANDMzPEAAAABkZmY8QAAAAJiZmTxAAAAAzMzMPEAAAAAAAAA9QAAAADQzMz1AAAAAZGZmPUAAAACYmZk9QAAAAMzMzD1AAAAAAAAAPkAAAAA0MzM+QAAAAGRmZj5AAAAAmJmZPkAAAADMzMw+QAAAAAAAAD9AAAAANDMzP0AAAABkZmY/QAAAAJiZmT9AAAAAzMzMP0AAAAAAAABAQAAAAJqZGUBAAAAAMjMzQEAAAADMzExAQAAAAGZmZkBAAAAAAACAQEAAAACamZlAQAAAADIzs0BAAAAAzMzMQEA=\"},\"shape\":[169],\"dtype\":\"float64\",\"order\":\"little\"}],[\"y\",{\"type\":\"ndarray\",\"array\":{\"type\":\"bytes\",\"data\":\"EoPAyqGFQkDwp8ZLN0lEQHNoke18P0ZAYeXQItv5R0D0/dR46eZJQCPb+X5qfEtAMzMzMzOzTUAYBFYOLXJPQGq8dJMYpFBAnMQgsHKoUUDJdr6fGq9SQFg5tMh2flNAiUFg5dCCVEAMAiuHFllVQGq8dJMYRFZA8tJNYhAYV0Bh5dAi2/lXQL+fGi/d5FhAObTIdr6/WUCoxks3iaFaQESLbOf7aVtAqvHSTWJQXEAFVg4tsj1dQG4Sg8DKIV5A2c73U+MFX0B9PzVeuslfQPyp8dJNUmBASgwCK4e2YEBzaJHtfC9hQMHKoUW2k2FACKwcWmT7YUBh5dAi21liQHsUrkfh2mJAtvP91HhJY0AaL90kBqFjQG3n+6nxAmRA7FG4HoVLZEB/arx0k4hkQOf7qfHS3WRAPN9PjZc+ZUCBlUOLbKdlQPYoXI/C9WVAWDm0yHZOZkDLoUW2851mQDzfT42X7mZAg8DKoUVWZ0DeJAaBlbNnQDMzMzMzE2hAsHJoke1caED+1HjpJsFoQEjhehSuJ2lAqMZLN4mBaUARWDm0yNZpQGdmZmZmNmpAxSCwcmiRakAw3SQGgeVqQKJFtvP9NGtAKVyPwvV4a0CPwvUoXM9rQOF6FK5HMWxAXI/C9Sh8bEDMoUW2881sQCQGgZVDK21AfBSuR+GKbUD6fmq8dNNtQGHl0CLbKW5AyHa+nxp/bkBPYhBYOcRuQOomMQis/G5ASeF6FK5Xb0DufD81XopvQFc5tMh23m9Aarx0kxgUcEDByqFFtitwQAvXo3A9SnBA001iEFhpcEAaL90kBolwQNijcD0Kr3BAGi/dJAbRcEBvEoPAyulwQM/3U+Ol+3BAjpduEoMgcUBkO99PjTdxQMHKoUW2S3FAI9v5fmpccUB1kxgEVnZxQNNNYhBYiXFAke18PzWucUBSuB6F69FxQD81XrpJ3HFAlBgEVg71cUBnZmZmZg5yQCPb+X5qNHJAhetRuB5FckB1kxgEVk5yQD4K16NwbXJAFK5H4XqEckDkpZvEIKByQLx0kxgEtnJAPN9PjZe2ckC7SQwCK7dyQJQYBFYOzXJAarx0kxjkckBWDi2yne9yQLkehetRAHNACKwcWmQbc0B7FK5H4SJzQPYoXI/CJXNA5/up8dItc0DsUbgehStzQEoMAiuHPnNAYeXQItsxc0DFILByaEFzQKrx0k1iUHNACKwcWmRjc0Bcj8L1KHxzQEw3iUFghXNAne+nxkufc0AGgZVDi6xzQHNoke18t3NAbxKDwMq5c0BqvHSTGLxzQMdLN4lB0HNANl66SQzac0DYo3A9CsdzQMl2vp8az3NA/tR46Saxc0B/arx0k7BzQIGVQ4tsr3NATDeJQWDNc0DP91PjpctzQMdLN4lB0HNAxSCwcmjRc0Bt5/up8bpzQCUGgZVDm3NA3iQGgZV7c0BxPQrXo3BzQDDdJAaBlXNAppvEILCac0B1kxgEVrZzQIPAyqFFrnNAAAAAAACwc0DsUbgehbtzQARWDi2yrXNAaZHtfD+9c0BYObTIdsZzQNv5fmq8xHNA1XjpJjHIc0DVeOkmMchzQJZDi2zno3NAPgrXo3CNc0Bh5dAi23lzQP7UeOkmaXNA3iQGgZV7c0Dn+6nx0nVzQK5H4XoUlnNAJQaBlUObc0Aw3SQGgZVzQDEIrBxalHNAne+nxkufc0ARWDm0yKZzQARWDi2yrXNAAiuHFtmuc0CBlUOLbK9zQJZDi2zno3NAiBbZzverc0BjEFg5tMBzQOSlm8QgwHNAYeXQItvBc0A=\"},\"shape\":[169],\"dtype\":\"float64\",\"order\":\"little\"}]]}}},\"view\":{\"type\":\"object\",\"name\":\"CDSView\",\"id\":\"p1178\",\"attributes\":{\"filter\":{\"type\":\"object\",\"name\":\"AllIndices\",\"id\":\"p1179\"}}},\"glyph\":{\"type\":\"object\",\"name\":\"Line\",\"id\":\"p1174\",\"attributes\":{\"x\":{\"type\":\"field\",\"field\":\"x\"},\"y\":{\"type\":\"field\",\"field\":\"y\"},\"line_color\":\"blue\",\"line_width\":2}},\"nonselection_glyph\":{\"type\":\"object\",\"name\":\"Line\",\"id\":\"p1175\",\"attributes\":{\"x\":{\"type\":\"field\",\"field\":\"x\"},\"y\":{\"type\":\"field\",\"field\":\"y\"},\"line_color\":\"blue\",\"line_alpha\":0.1,\"line_width\":2}},\"muted_glyph\":{\"type\":\"object\",\"name\":\"Line\",\"id\":\"p1176\",\"attributes\":{\"x\":{\"type\":\"field\",\"field\":\"x\"},\"y\":{\"type\":\"field\",\"field\":\"y\"},\"line_color\":\"blue\",\"line_alpha\":0.2,\"line_width\":2}}}},{\"type\":\"object\",\"name\":\"GlyphRenderer\",\"id\":\"p1321\",\"attributes\":{\"data_source\":{\"type\":\"object\",\"name\":\"ColumnDataSource\",\"id\":\"p1315\",\"attributes\":{\"selected\":{\"type\":\"object\",\"name\":\"Selection\",\"id\":\"p1316\",\"attributes\":{\"indices\":[],\"line_indices\":[]}},\"selection_policy\":{\"type\":\"object\",\"name\":\"UnionRenderers\",\"id\":\"p1317\"},\"data\":{\"type\":\"map\",\"entries\":[[\"x\",{\"type\":\"ndarray\",\"array\":{\"type\":\"bytes\",\"data\":\"AAAAAAAAAAAAAAAAmpnJPwAAAACamdk/AAAAgDMz4z8AAAAAmpnpPwAAAAAAAPA/AAAAQDMz8z8AAACAZmb2PwAAAMCZmfk/AAAAAM3M/D8AAAAAAAAAQAAAAKCZmQFAAAAAQDMzA0AAAADgzMwEQAAAAIBmZgZAAAAAAAAACEAAAACgmZkJQAAAAEAzMwtAAAAA4MzMDEAAAACAZmYOQAAAAAAAABBAAAAA0MzMEEAAAACgmZkRQAAAAHBmZhJAAAAAQDMzE0AAAAAAAAAUQAAAANDMzBRAAAAAoJmZFUAAAABwZmYWQAAAAEAzMxdAAAAAAAAAGEAAAADQzMwYQAAAAKCZmRlAAAAAcGZmGkAAAABAMzMbQAAAAAAAABxAAAAA0MzMHEAAAACgmZkdQAAAAHBmZh5AAAAAQDMzH0AAAAAAAAAgQAAAAGhmZiBAAAAA0MzMIEAAAAA4MzMhQAAAAKCZmSFAAAAAAAAAIkAAAABoZmYiQAAAANDMzCJAAAAAODMzI0AAAACgmZkjQAAAAAAAACRAAAAAaGZmJEAAAADQzMwkQAAAADgzMyVAAAAAoJmZJUAAAAAAAAAmQAAAAGhmZiZAAAAA0MzMJkAAAAA4MzMnQAAAAKCZmSdAAAAAAAAAKEAAAABoZmYoQAAAANDMzChAAAAAODMzKUAAAACgmZkpQAAAAAAAACpAAAAAaGZmKkAAAADQzMwqQAAAADgzMytAAAAAoJmZK0AAAAAAAAAsQAAAAGhmZixAAAAA0MzMLEAAAAA4MzMtQAAAAKCZmS1AAAAAAAAALkAAAABoZmYuQAAAANDMzC5AAAAAODMzL0AAAACgmZkvQAAAAAAAADBAAAAANDMzMEAAAABoZmYwQAAAAJyZmTBAAAAA0MzMMEAAAAAAAAAxQAAAADQzMzFAAAAAaGZmMUAAAACcmZkxQAAAANDMzDFAAAAAAAAAMkAAAAA0MzMyQAAAAGhmZjJAAAAAnJmZMkAAAADQzMwyQAAAAAAAADNAAAAANDMzM0AAAABoZmYzQAAAAJyZmTNAAAAA0MzMM0AAAAAAAAA0QAAAADQzMzRAAAAAaGZmNEAAAACcmZk0QAAAANDMzDRAAAAAAAAANUAAAAA0MzM1QAAAAGhmZjVAAAAAnJmZNUAAAADQzMw1QAAAAAAAADZAAAAANDMzNkAAAABoZmY2QAAAAJyZmTZAAAAA0MzMNkAAAAAAAAA3QAAAADQzMzdAAAAAaGZmN0AAAACcmZk3QAAAANDMzDdAAAAAAAAAOEAAAAA0MzM4QAAAAGhmZjhAAAAAnJmZOEAAAADQzMw4QAAAAAAAADlAAAAANDMzOUAAAABoZmY5QAAAAJyZmTlAAAAA0MzMOUAAAAAAAAA6QAAAADQzMzpAAAAAaGZmOkAAAACcmZk6QAAAANDMzDpAAAAAAAAAO0AAAAA0MzM7QAAAAGhmZjtAAAAAnJmZO0AAAADQzMw7QAAAAAAAADxAAAAANDMzPEAAAABoZmY8QAAAAJyZmTxAAAAA0MzMPEAAAAAAAAA9QAAAADQzMz1AAAAAaGZmPUAAAACcmZk9QAAAANDMzD1AAAAAAAAAPkAAAAA0MzM+QAAAAGhmZj5AAAAAnJmZPkAAAADQzMw+QAAAAAAAAD9AAAAANDMzP0AAAABoZmY/QAAAAJyZmT9AAAAA0MzMP0A=\"},\"shape\":[160],\"dtype\":\"float64\",\"order\":\"little\"}],[\"y\",{\"type\":\"ndarray\",\"array\":{\"type\":\"bytes\",\"data\":\"hetRuB6FPUArhxbZzjdAQESLbOf7aUJAFK5H4XpURUC28/3UeKlGQAvXo3A9SklAAiuHFtmOS0Ce76fGS3dNQBFYObTIdk9AZ2ZmZmamUEA+CtejcN1RQDMzMzMzc1JAiUFg5dBiU0DHSzeJQWBUQPT91HjpZlVADAIrhxZ5VkA5tMh2vn9XQCUGgZVDq1hAYxBYObSoWUCkcD0K16NaQIPAyqFF1ltAoBov3STmXEB8FK5H4RpeQNR46SYxCF9AYxBYObQYYEB3vp8aL51gQGMQWDm0OGFAdZMYBFa+YUB9PzVeukliQG3n+6nx4mJAs53vp8ZLY0CUGARWDu1jQObQItv5TmRA5tAi2/neZEAX2c73U1NlQDDdJAaB1WVAUrgehetRZkB56SYxCMxmQI6XbhKDUGdAsHJoke3MZ0C8dJMYBFZoQPyp8dJNwmhAN4lBYOUwaUBWDi2yna9pQKAaL90kFmpAu0kMAiuXakDsUbgehQtrQEjhehSuZ2tAoBov3STGa0DP91PjpTtsQCuHFtnOl2xAlUOLbOfrbEDNzMzMzFxtQDiJQWDlsG1Anu+nxksHbkDwp8ZLN2luQEoMAiuHxm5A1HjpJjEIb0BRuB6F61FvQOtRuB6Fi29Aku18PzW+b0BJ4XoUrudvQOf7qfHSFXBAMQisHFo0cEAL16NwPUpwQKjGSzeJgXBA7FG4HoWjcEA3iUFg5cBwQOF6FK5H8XBAokW28/0UcUD2KFyPwi1xQEw3iUFgRXFAg8DKoUVucUDC9Shcj5JxQA4tsp3vr3FAPzVeuknccUDwp8ZLNwlyQEjhehSuH3JA8tJNYhBQckA+CtejcG1yQIXrUbgejXJAGQRWDi3KckD8qfHSTdpyQLbz/dR4AXNA/tR46SYhc0DhehSuRzFzQDDdJAaBTXNAWDm0yHZ+c0DFILByaIlzQCUGgZVDm3NA9ihcj8K1c0DP91PjpctzQB1aZDvf53NAdZMYBFb+c0Bcj8L1KAx0QMuhRbbzFXRAjpduEoM4dECPwvUoXDd0QHnpJjEIRHRA6iYxCKxMdEBh5dAi21F0QM3MzMzMXHRAx0s3iUFgdEA5tMh2vmd0QI6XbhKDgHRAnMQgsHJ4dEAMAiuHFoF0QGmR7Xw/lXRAarx0kxiUdEBh5dAi25l0QMuhRbbzpXRASgwCK4emdECwcmiR7bR0QLByaJHttHRAs53vp8azdECgGi/dJL50QBkEVg4twnRAke18PzXGdEAfhetRuL50QAisHFpky3RAI9v5fmq8dEARWDm0yMZ0QBKDwMqhxXRA/Knx0k3SdEDwp8ZLN9l0QEoMAiuH7nRAVg4tsp3ndEBFtvP91PB0QCuHFtnO/3RAyXa+nxrvdEDFILByaPF0QCuHFtnO/3RATmIQWDnsdEDy0k1iENh0QCcxCKwcunRARIts5/updEC28/3UeLF0QGQ730+Nl3RATDeJQWCldEDZzvdT4510QAAAAAAAiHRAl24Sg8B6dEApXI/C9XB0QH9qvHSTiHRA+n5qvHSLdEDZzvdT4510QFK4HoXroXRA9ihcj8KNdECXbhKDwHp0QI/C9Shcf3RA1XjpJjGgdEBh5dAi25l0QEoMAiuHpnRAyXa+nxqndEARWDm0yH50QAvXo3A9OnRAMQisHFokdEBV46WbxBB0QB+F61G45nNAxSCwcmiJc0A=\"},\"shape\":[160],\"dtype\":\"float64\",\"order\":\"little\"}]]}}},\"view\":{\"type\":\"object\",\"name\":\"CDSView\",\"id\":\"p1322\",\"attributes\":{\"filter\":{\"type\":\"object\",\"name\":\"AllIndices\",\"id\":\"p1323\"}}},\"glyph\":{\"type\":\"object\",\"name\":\"Line\",\"id\":\"p1318\",\"attributes\":{\"x\":{\"type\":\"field\",\"field\":\"x\"},\"y\":{\"type\":\"field\",\"field\":\"y\"},\"line_color\":\"tomato\",\"line_width\":2}},\"nonselection_glyph\":{\"type\":\"object\",\"name\":\"Line\",\"id\":\"p1319\",\"attributes\":{\"x\":{\"type\":\"field\",\"field\":\"x\"},\"y\":{\"type\":\"field\",\"field\":\"y\"},\"line_color\":\"tomato\",\"line_alpha\":0.1,\"line_width\":2}},\"muted_glyph\":{\"type\":\"object\",\"name\":\"Line\",\"id\":\"p1320\",\"attributes\":{\"x\":{\"type\":\"field\",\"field\":\"x\"},\"y\":{\"type\":\"field\",\"field\":\"y\"},\"line_color\":\"tomato\",\"line_alpha\":0.2,\"line_width\":2}}}},{\"type\":\"object\",\"name\":\"GlyphRenderer\",\"id\":\"p1464\",\"attributes\":{\"data_source\":{\"type\":\"object\",\"name\":\"ColumnDataSource\",\"id\":\"p1458\",\"attributes\":{\"selected\":{\"type\":\"object\",\"name\":\"Selection\",\"id\":\"p1459\",\"attributes\":{\"indices\":[],\"line_indices\":[]}},\"selection_policy\":{\"type\":\"object\",\"name\":\"UnionRenderers\",\"id\":\"p1460\"},\"data\":{\"type\":\"map\",\"entries\":[[\"x\",{\"type\":\"ndarray\",\"array\":{\"type\":\"bytes\",\"data\":\"AAAAAAAAAAAAAAAAmpnJPwAAAACZmdk/AAAAADMz4z8AAACAmZnpPwAAAAAAAPA/AAAAQDMz8z8AAABAZmb2PwAAAICZmfk/AAAAwMzM/D8AAAAAAAAAQAAAAKCZmQFAAAAAIDMzA0AAAADAzMwEQAAAAGBmZgZAAAAAAAAACEAAAACgmZkJQAAAACAzMwtAAAAAwMzMDEAAAABgZmYOQAAAAAAAABBAAAAA0MzMEEAAAACQmZkRQAAAAGBmZhJAAAAAMDMzE0AAAAAAAAAUQAAAANDMzBRAAAAAkJmZFUAAAABgZmYWQAAAADAzMxdAAAAAAAAAGEAAAADQzMwYQAAAAJCZmRlAAAAAYGZmGkAAAAAwMzMbQAAAAAAAABxAAAAA0MzMHEAAAACQmZkdQAAAAGBmZh5AAAAAMDMzH0AAAAAAAAAgQAAAAGhmZiBAAAAAyMzMIEAAAAAwMzMhQAAAAJiZmSFAAAAAAAAAIkAAAABoZmYiQAAAAMjMzCJAAAAAMDMzI0AAAACYmZkjQAAAAAAAACRAAAAAaGZmJEAAAADIzMwkQAAAADAzMyVAAAAAmJmZJUAAAAAAAAAmQAAAAGhmZiZAAAAAyMzMJkAAAAAwMzMnQAAAAJiZmSdAAAAAAAAAKEAAAABoZmYoQAAAAMjMzChAAAAAMDMzKUAAAACYmZkpQAAAAAAAACpAAAAAaGZmKkAAAADIzMwqQAAAADAzMytAAAAAmJmZK0AAAAAAAAAsQAAAAGhmZixAAAAAyMzMLEAAAAAwMzMtQAAAAJiZmS1AAAAAAAAALkAAAABoZmYuQAAAAMjMzC5AAAAAMDMzL0AAAACYmZkvQAAAAAAAADBAAAAANDMzMEAAAABkZmYwQAAAAJiZmTBAAAAAzMzMMEAAAAAAAAAxQAAAADQzMzFAAAAAZGZmMUAAAACYmZkxQAAAAMzMzDFAAAAAAAAAMkAAAAA0MzMyQAAAAGRmZjJAAAAAmJmZMkAAAADMzMwyQAAAAAAAADNAAAAANDMzM0AAAABkZmYzQAAAAJiZmTNAAAAAzMzMM0AAAAAAAAA0QAAAADQzMzRAAAAAZGZmNEAAAACYmZk0QAAAAMzMzDRAAAAAAAAANUAAAAA0MzM1QAAAAGRmZjVAAAAAmJmZNUAAAADMzMw1QAAAAAAAADZAAAAANDMzNkAAAABkZmY2QAAAAJiZmTZAAAAAzMzMNkAAAAAAAAA3QAAAADQzMzdAAAAAZGZmN0AAAACYmZk3QAAAAMzMzDdAAAAAAAAAOEAAAAA0MzM4QAAAAGRmZjhAAAAAmJmZOEAAAADMzMw4QAAAAAAAADlAAAAANDMzOUAAAABkZmY5QAAAAJiZmTlAAAAAzMzMOUAAAAAAAAA6QAAAADQzMzpAAAAAZGZmOkAAAACYmZk6QAAAAMzMzDpAAAAAAAAAO0AAAAA0MzM7QAAAAGRmZjtAAAAAmJmZO0AAAADMzMw7QAAAAAAAADxAAAAANDMzPEAAAABkZmY8QAAAAJiZmTxAAAAAzMzMPEAAAAAAAAA9QAAAADQzMz1AAAAAZGZmPUAAAACYmZk9QAAAAMzMzD1AAAAAAAAAPkAAAAA0MzM+QAAAAGRmZj5AAAAAmJmZPkAAAADMzMw+QAAAAAAAAD9AAAAANDMzP0AAAABkZmY/QAAAAJiZmT9AAAAAzMzMP0A=\"},\"shape\":[160],\"dtype\":\"float64\",\"order\":\"little\"}],[\"y\",{\"type\":\"ndarray\",\"array\":{\"type\":\"bytes\",\"data\":\"ZDvfT40XOUBxPQrXo3A8QEW28/3UuEBAwcqhRbazQkB3vp8aLx1FQHe+nxovXUdALbKd76fGSUAMAiuHFhlMQJQYBFYOLU9ACKwcWmTbUECBlUOLbEdSQB+F61G4nlNABoGVQ4vMVEB3vp8aLz1WQBFYObTIlldAhetRuB4FWUDqJjEIrHxaQAIrhxbZjltApHA9CtfjXEBRuB6F6zFeQBFYObTIdl9A4XoUrkdhYECq8dJNYhBhQJduEoPAqmFAQmDl0CJrYkAZBFYOLRJjQPyp8dJNsmNA6iYxCKxMZEDP91PjpetkQLtJDAIrh2VAoBov3SQmZkCLbOf7qcFmQG3n+6nxYmdAW2Q730/9Z0B9PzVeunloQGQ730+NF2lAdZMYBFaeaUB7FK5H4SpqQJQYBFYOrWpArBxaZDsva0DZzvdT46VrQAvXo3A9GmxALbKd76eWbEBoke18PwVtQIXrUbgehW1AuB6F61H4bUAGgZVDi1xuQBKDwMqh5W5AUI2XbhJTb0CbxCCwcrhvQAaBlUOLBHBAokW28/08cEBnZmZmZl5wQAwCK4cWkXBAPgrXo3C9cECDwMqhRd5wQDMzMzMzC3FA5tAi2/k2cUAGgZVDi2xxQEW28/3UkHFA+FPjpZu8cUA+CtejcN1xQG8Sg8DKCXJAIbByaJE1ckDHSzeJQWhyQIgW2c73i3JAJzEIrBzCckCIFtnO99NyQEjhehSu93JAne+nxksPc0BvEoPAyilzQFK4HoXrOXNARIts5/tBc0CIFtnO92NzQPYoXI/CbXNATDeJQWCFc0BEi2zn+4lzQKAaL90knnNAf2q8dJOwc0DNzMzMzMxzQEw3iUFgzXNAoBov3STmc0D4U+Olm/xzQOF6FK5HCXRAyXa+nxoXdEAfhetRuC50QOxRuB6FS3RATmIQWDlcdEDFILByaGF0QDm0yHa+Z3RAlkOLbOd7dEAtsp3vp250QJ3vp8ZLd3RAKVyPwvVwdECiRbbz/XR0QCcxCKwccnRAIbByaJF1dEAUrkfhenx0QDDdJAaBbXRAN4lBYOVodEC5HoXrUWh0QD4K16NwZXRARIts5/thdEAnMQisHHJ0QKwcWmQ7b3RAGQRWDi16dECLbOf7qYF0QD81XrpJZHRAMN0kBoFtdECXbhKDwHp0QDMzMzMza3RAokW28/10dEDLoUW28110QKRwPQrXK3RAz/dT46UTdED6fmq8dPtzQCcxCKwc4nNATDeJQWDNc0BV46WbxMhzQFg5tMh2xnNA+FPjpZu0c0CF61G4Hq1zQFCNl24Sg3NAlkOLbOdbc0CcxCCwclhzQOxRuB6FK3NAfT81Xrohc0DhehSuRzFzQIts5/upGXNAz/dT46U7c0C5HoXrUUhzQPLSTWIQKHNAYeXQItsxc0CBlUOLbB9zQPYoXI/CJXNAarx0kxgsc0AIrBxaZBtzQJqZmZmZEXNAQmDl0CL7ckCR7Xw/NRZzQIlBYOXQGnNAnMQgsHIQc0A5tMh2vkdzQMuhRbbzPXNAKVyPwvVQc0AdWmQ731dzQP7UeOkmIXNAMzMzMzO7ckBCYOXQIttxQG8Sg8DKwXFALbKd76eecUAIrBxaZNtwQOomMQisXHBAgZVDi2wHcEC7SQwCK6dvQJvEILByKG9AsHJoke2MbkAzMzMzM0NuQOomMQis3G1AVeOlm8QQbUA=\"},\"shape\":[160],\"dtype\":\"float64\",\"order\":\"little\"}]]}}},\"view\":{\"type\":\"object\",\"name\":\"CDSView\",\"id\":\"p1465\",\"attributes\":{\"filter\":{\"type\":\"object\",\"name\":\"AllIndices\",\"id\":\"p1466\"}}},\"glyph\":{\"type\":\"object\",\"name\":\"Line\",\"id\":\"p1461\",\"attributes\":{\"x\":{\"type\":\"field\",\"field\":\"x\"},\"y\":{\"type\":\"field\",\"field\":\"y\"},\"line_color\":\"turquoise\",\"line_width\":2}},\"nonselection_glyph\":{\"type\":\"object\",\"name\":\"Line\",\"id\":\"p1462\",\"attributes\":{\"x\":{\"type\":\"field\",\"field\":\"x\"},\"y\":{\"type\":\"field\",\"field\":\"y\"},\"line_color\":\"turquoise\",\"line_alpha\":0.1,\"line_width\":2}},\"muted_glyph\":{\"type\":\"object\",\"name\":\"Line\",\"id\":\"p1463\",\"attributes\":{\"x\":{\"type\":\"field\",\"field\":\"x\"},\"y\":{\"type\":\"field\",\"field\":\"y\"},\"line_color\":\"turquoise\",\"line_alpha\":0.2,\"line_width\":2}}}},{\"type\":\"object\",\"name\":\"GlyphRenderer\",\"id\":\"p1607\",\"attributes\":{\"data_source\":{\"type\":\"object\",\"name\":\"ColumnDataSource\",\"id\":\"p1601\",\"attributes\":{\"selected\":{\"type\":\"object\",\"name\":\"Selection\",\"id\":\"p1602\",\"attributes\":{\"indices\":[],\"line_indices\":[]}},\"selection_policy\":{\"type\":\"object\",\"name\":\"UnionRenderers\",\"id\":\"p1603\"},\"data\":{\"type\":\"map\",\"entries\":[[\"x\",{\"type\":\"ndarray\",\"array\":{\"type\":\"bytes\",\"data\":\"AAAAAAAAAAAAAAAAmJnJPwAAAACZmdk/AAAAADMz4z8AAACAmZnpPwAAAAAAAPA/AAAAADMz8z8AAABAZmb2PwAAAICZmfk/AAAAwMzM/D8AAAAAAAAAQAAAAICZmQFAAAAAIDMzA0AAAADAzMwEQAAAAGBmZgZAAAAAAAAACEAAAACAmZkJQAAAACAzMwtAAAAAwMzMDEAAAABgZmYOQAAAAAAAABBAAAAAwMzMEEAAAACQmZkRQAAAAGBmZhJAAAAAMDMzE0AAAAAAAAAUQAAAAMDMzBRAAAAAkJmZFUAAAABgZmYWQAAAADAzMxdAAAAAAAAAGEAAAADAzMwYQAAAAJCZmRlAAAAAYGZmGkAAAAAwMzMbQAAAAAAAABxAAAAAwMzMHEAAAACQmZkdQAAAAGBmZh5AAAAAMDMzH0AAAAAAAAAgQAAAAGBmZiBAAAAAyMzMIEAAAAAwMzMhQAAAAJiZmSFAAAAAAAAAIkAAAABgZmYiQAAAAMjMzCJAAAAAMDMzI0AAAACYmZkjQAAAAAAAACRAAAAAYGZmJEAAAADIzMwkQAAAADAzMyVAAAAAmJmZJUAAAAAAAAAmQAAAAGBmZiZAAAAAyMzMJkAAAAAwMzMnQAAAAJiZmSdAAAAAAAAAKEAAAABgZmYoQAAAAMjMzChAAAAAMDMzKUAAAACYmZkpQAAAAAAAACpAAAAAYGZmKkAAAADIzMwqQAAAADAzMytAAAAAmJmZK0AAAAAAAAAsQAAAAGBmZixAAAAAyMzMLEAAAAAwMzMtQAAAAJiZmS1AAAAAAAAALkAAAABgZmYuQAAAAMjMzC5AAAAAMDMzL0AAAACYmZkvQAAAAAAAADBAAAAAMDMzMEAAAABkZmYwQAAAAJiZmTBAAAAAzMzMMEAAAAAAAAAxQAAAADAzMzFAAAAAZGZmMUAAAACYmZkxQAAAAMzMzDFAAAAAAAAAMkAAAAAwMzMyQAAAAGRmZjJAAAAAmJmZMkAAAADMzMwyQAAAAAAAADNAAAAAMDMzM0AAAABkZmYzQAAAAJiZmTNAAAAAzMzMM0AAAAAAAAA0QAAAADAzMzRAAAAAZGZmNEAAAACYmZk0QAAAAMzMzDRAAAAAAAAANUAAAAAwMzM1QAAAAGRmZjVAAAAAmJmZNUAAAADMzMw1QAAAAAAAADZAAAAAMDMzNkAAAABkZmY2QAAAAJiZmTZAAAAAzMzMNkAAAAAAAAA3QAAAADAzMzdAAAAAZGZmN0AAAACYmZk3QAAAAMzMzDdAAAAAAAAAOEAAAAAwMzM4QAAAAGRmZjhAAAAAmJmZOEAAAADMzMw4QAAAAAAAADlAAAAAMDMzOUAAAABkZmY5QAAAAJiZmTlAAAAAzMzMOUAAAAAAAAA6QAAAADAzMzpAAAAAZGZmOkAAAACYmZk6QAAAAMzMzDpAAAAAAAAAO0AAAAAwMzM7QAAAAGRmZjtAAAAAmJmZO0AAAADMzMw7QAAAAAAAADxAAAAAMDMzPEAAAABkZmY8QAAAAJiZmTxAAAAAzMzMPEAAAAAAAAA9QAAAADAzMz1AAAAAZGZmPUAAAACYmZk9QAAAAMzMzD1AAAAAAAAAPkAAAAAwMzM+QAAAAGRmZj5AAAAAmJmZPkAAAADMzMw+QAAAAAAAAD9A\"},\"shape\":[156],\"dtype\":\"float64\",\"order\":\"little\"}],[\"y\",{\"type\":\"ndarray\",\"array\":{\"type\":\"bytes\",\"data\":\"BFYOLbIdM0AnMQisHFo6QBFYObTIdj9AYxBYObTIQUD8qfHSTWJFQP7UeOkmMUhAv58aL90kS0AbL90kBsFNQBfZzvdTQ1BArBxaZDufUUApXI/C9QhTQLbz/dR4aVRAVeOlm8TAVUDy0k1iEBhXQHNoke18f1hAGQRWDi3SWUCWQ4ts5ztbQJ3vp8ZLV1xA1HjpJjHoXUB3vp8aLz1fQAwCK4cWSWBAAAAAAADgYEDn+6nx0n1hQMuhRbbzHWJA2KNwPQqnYkDhehSuRzFjQLbz/dR42WNAxSCwcmhhZECmm8QgsAJlQMHKoUW2g2VAi2zn+6kxZkCwcmiR7axmQL+fGi/dNGdAy6FFtvO9Z0DZzvdT40VoQNv5fmq81GhAAAAAAABQaUAZBFYOLdJpQBSuR+F6ZGpAQmDl0CLbakB56SYxCExrQIPAyqFF1mtAs53vp8ZLbEDGILByaNFsQCPb+X5qLG1AUI2XbhKjbUCJQWDl0BJuQOSlm8QgcG5AGARWDi3ibkBh5dAi20lvQM73U+Olm29ABFYOLbIFcEC7SQwCKy9wQG8Sg8DKWXBAke18PzWOcEC5HoXrUcBwQPp+arx043BAN4lBYOUIcUDkpZvEIDhxQBov3SQGYXFAYxBYObSAcUASg8DKoa1xQGmR7Xw/xXFAK4cW2c7ncUBpke18Pw1yQD81XrpJJHJAexSuR+FKckDLoUW282VyQAwCK4cWiXJA30+Nl26ickCuR+F6FL5yQO58PzVe4nJAQmDl0CL7ckCPwvUoXBdzQPhT46WbJHNATDeJQWA9c0CXbhKDwFpzQGQ730+Nd3NAMQisHFqUc0AnMQisHJpzQHWTGARWtnNAVeOlm8TIc0AxCKwcWtxzQH0/NV66+XNAWDm0yHYOdEA+CtejcB10QCPb+X5qLHRAiBbZzvc7dEB3vp8aL0V0QAIrhxbZPnRA3iQGgZVTdEB1kxgEVkZ0QOxRuB6FS3RAuR6F61FodEC28/3UeGl0QKabxCCwcnRAdZMYBFaOdECOl24Sg4B0QI6XbhKDgHRAF9nO91N7dEBV46WbxFh0QFXjpZvEWHRA9ihcj8JFdEBWDi2ynVd0QM3MzMzMXHRAz/dT46VbdEBSuB6F61l0QMl2vp8aX3RApHA9CtdzdEAMAiuHFoF0QKAaL90kdnRAyXa+nxpfdEACK4cW2YZ0QKJFtvP9dHRAIbByaJF1dECcxCCwcnh0QAIrhxbZhnRAjpduEoOAdEBzaJHtfI90QOF6FK5HmXRA8KfGSzeRdEBeukkMApt0QM/3U+Olo3RAfT81XrqJdEBbZDvfT510QObQItv5lnRAwcqhRbardEBcj8L1KJx0QNv5fmq8nHRATmIQWDmkdEDeJAaBlZt0QLtJDAIrr3RAK4cW2c63dEAw3SQGgbV0QLByaJHttHRAtMh2vp+ydEA5tMh2vq90QK5H4XoUtnRAJQaBlUO7dEAj2/l+arx0QB1aZDvfv3RAj8L1KFzHdECd76fGS790QLByaJHttHRAsHJoke20dEBKDAIrh150QBov3SQG6XNA5KWbxCDAc0Cd76fGS59zQM3MzMzMhHNArBxaZDtPc0B56SYxCExyQDeJQWDlKHJAUI2XbhLTcUCsHFpkO1dxQLTIdr6fwnBA\"},\"shape\":[156],\"dtype\":\"float64\",\"order\":\"little\"}]]}}},\"view\":{\"type\":\"object\",\"name\":\"CDSView\",\"id\":\"p1608\",\"attributes\":{\"filter\":{\"type\":\"object\",\"name\":\"AllIndices\",\"id\":\"p1609\"}}},\"glyph\":{\"type\":\"object\",\"name\":\"Line\",\"id\":\"p1604\",\"attributes\":{\"x\":{\"type\":\"field\",\"field\":\"x\"},\"y\":{\"type\":\"field\",\"field\":\"y\"},\"line_color\":\"deepskyblue\",\"line_width\":2}},\"nonselection_glyph\":{\"type\":\"object\",\"name\":\"Line\",\"id\":\"p1605\",\"attributes\":{\"x\":{\"type\":\"field\",\"field\":\"x\"},\"y\":{\"type\":\"field\",\"field\":\"y\"},\"line_color\":\"deepskyblue\",\"line_alpha\":0.1,\"line_width\":2}},\"muted_glyph\":{\"type\":\"object\",\"name\":\"Line\",\"id\":\"p1606\",\"attributes\":{\"x\":{\"type\":\"field\",\"field\":\"x\"},\"y\":{\"type\":\"field\",\"field\":\"y\"},\"line_color\":\"deepskyblue\",\"line_alpha\":0.2,\"line_width\":2}}}},{\"type\":\"object\",\"name\":\"GlyphRenderer\",\"id\":\"p1750\",\"attributes\":{\"data_source\":{\"type\":\"object\",\"name\":\"ColumnDataSource\",\"id\":\"p1744\",\"attributes\":{\"selected\":{\"type\":\"object\",\"name\":\"Selection\",\"id\":\"p1745\",\"attributes\":{\"indices\":[],\"line_indices\":[]}},\"selection_policy\":{\"type\":\"object\",\"name\":\"UnionRenderers\",\"id\":\"p1746\"},\"data\":{\"type\":\"map\",\"entries\":[[\"x\",{\"type\":\"ndarray\",\"array\":{\"type\":\"bytes\",\"data\":\"AAAAAAAAAAAAAAAAmJnJPwAAAACZmdk/AAAAADMz4z8AAACAmZnpPwAAAAAAAPA/AAAAADMz8z8AAABAZmb2PwAAAICZmfk/AAAAwMzM/D8AAAAAAAAAQAAAAICZmQFAAAAAIDMzA0AAAADAzMwEQAAAAGBmZgZAAAAAAAAACEAAAACAmZkJQAAAACAzMwtAAAAAwMzMDEAAAABgZmYOQAAAAAAAABBAAAAAwMzMEEAAAACQmZkRQAAAAGBmZhJAAAAAMDMzE0AAAAAAAAAUQAAAAMDMzBRAAAAAkJmZFUAAAABgZmYWQAAAADAzMxdAAAAAAAAAGEAAAADAzMwYQAAAAJCZmRlAAAAAYGZmGkAAAAAwMzMbQAAAAAAAABxAAAAAwMzMHEAAAACQmZkdQAAAAGBmZh5AAAAAMDMzH0AAAAAAAAAgQAAAAGBmZiBAAAAAyMzMIEAAAAAwMzMhQAAAAJiZmSFAAAAAAAAAIkAAAABgZmYiQAAAAMjMzCJAAAAAMDMzI0AAAACYmZkjQAAAAAAAACRAAAAAYGZmJEAAAADIzMwkQAAAADAzMyVAAAAAmJmZJUAAAAAAAAAmQAAAAGBmZiZAAAAAyMzMJkAAAAAwMzMnQAAAAJiZmSdAAAAAAAAAKEAAAABgZmYoQAAAAMjMzChAAAAAMDMzKUAAAACYmZkpQAAAAAAAACpAAAAAYGZmKkAAAADIzMwqQAAAADAzMytAAAAAmJmZK0AAAAAAAAAsQAAAAGBmZixAAAAAyMzMLEAAAAAwMzMtQAAAAJiZmS1AAAAAAAAALkAAAABgZmYuQAAAAMjMzC5AAAAAMDMzL0AAAACYmZkvQAAAAAAAADBAAAAAMDMzMEAAAABkZmYwQAAAAJiZmTBAAAAAzMzMMEAAAAAAAAAxQAAAADAzMzFAAAAAZGZmMUAAAACYmZkxQAAAAMzMzDFAAAAAAAAAMkAAAAAwMzMyQAAAAGRmZjJAAAAAmJmZMkAAAADMzMwyQAAAAAAAADNAAAAAMDMzM0AAAABkZmYzQAAAAJiZmTNAAAAAzMzMM0AAAAAAAAA0QAAAADAzMzRAAAAAZGZmNEAAAACYmZk0QAAAAMzMzDRAAAAAAAAANUAAAAAwMzM1QAAAAGRmZjVAAAAAmJmZNUAAAADMzMw1QAAAAAAAADZAAAAAMDMzNkAAAABkZmY2QAAAAJiZmTZAAAAAzMzMNkAAAAAAAAA3QAAAADAzMzdAAAAAZGZmN0AAAACYmZk3QAAAAMzMzDdAAAAAAAAAOEAAAAAwMzM4QAAAAGRmZjhAAAAAmJmZOEAAAADMzMw4QAAAAAAAADlAAAAAMDMzOUAAAABkZmY5QAAAAJiZmTlAAAAAzMzMOUAAAAAAAAA6QAAAADAzMzpAAAAAZGZmOkAAAACYmZk6QAAAAMzMzDpAAAAAAAAAO0AAAAAwMzM7QAAAAGRmZjtAAAAAmJmZO0AAAADMzMw7QAAAAAAAADxAAAAAMDMzPEAAAABkZmY8QAAAAJiZmTxAAAAAzMzMPEAAAAAAAAA9QAAAADAzMz1AAAAAZGZmPUAAAACYmZk9QAAAAMzMzD1AAAAAAAAAPkAAAAAwMzM+QA==\"},\"shape\":[152],\"dtype\":\"float64\",\"order\":\"little\"}],[\"y\",{\"type\":\"ndarray\",\"array\":{\"type\":\"bytes\",\"data\":\"iBbZzvdTN0B7FK5H4Xo4QBFYObTIdj9A+n5qvHSTQkBI4XoUrsdFQDEIrBxapEhArkfhehQuS0Bcj8L1KJxNQHWTGARWDlBA6iYxCKx8UUD2KFyPwpVSQLkehetR2FNAj8L1KFwPVUD4U+Olm4RWQLtJDAIrx1dARIts5/spWUASg8DKoWVaQJduEoPAyltARbbz/dQYXUC28/3UeIleQG3n+6nx0l9AlBgEVg6NYEBQjZduEkNhQDZeukkM4mFAC9ejcD2KYkDZzvdT4zVjQKrx0k1i4GNAexSuR+GKZEB9PzVeuhllQEjhehSux2VAKVyPwvVoZkAfhetRuP5mQOF6FK5HsWdA+n5qvHQzaEDufD81XspoQN9PjZduYmlAEVg5tMjWaUAOLbKd72dqQGmR7Xw/xWpAtMh2vp8qa0AZBFYOLYJrQFCNl24S82tA2c73U+M1bEDP91PjpctsQCcxCKwcKm1AVzm0yHaebUCF61G4HhVuQMh2vp8af25A8KfGSzf5bkBbZDvfT01vQIKVQ4tsx29AexSuR+EKcECR7Xw/NUZwQLTIdr6fenBAUI2XbhKzcECBlUOLbN9wQESLbOf7AXFAZDvfT403cUCkcD0K11txQMdLN4lBkHFAFK5H4XqscUC7SQwCK99xQHnpJjEIBHJANl66SQwqckB9PzVeuklyQLbz/dR4cXJABFYOLbKNckC8dJMYBLZyQIgW2c7303JATDeJQWD1ckAMAiuHFhlzQNijcD0KN3NAPN9PjZdGc0AaL90kBllzQOxRuB6Fc3NAbef7qfFyc0C7SQwCK49zQNEi2/l+gnNApHA9Ctebc0C0yHa+n5JzQBFYObTIpnNAgZVDi2yvc0DRItv5fspzQDEIrBxa3HNAlBgEVg7tc0Db+X5qvAx0QDZeukkMInRALbKd76cmdEAAAAAAAEB0QIXrUbgePXRAaZHtfD9NdEDP91PjpVt0QM/3U+OlW3RAJQaBlUNzdEAGgZVDi4R0QIgW2c73g3RAYxBYObSYdEDhehSuR5l0QMdLN4lBqHRAH4XrUbi+dEAhsHJokb10QOf7qfHS3XRAXI/C9SjkdEC5HoXrUfh0QCcxCKwcAnVADi2yne8PdUBWDi2ynS91QFg5tMh2LnVAvHSTGAQ+dUASg8DKoVV1QKabxCCwSnVAbxKDwMppdUDufD81Xmp1QNEi2/l+enVATmIQWDl8dUBh5dAi23F1QCuHFtnOj3VAyXa+nxp/dUCgGi/dJJZ1QMUgsHJogXVAHVpkO9+XdUCBlUOLbKd1QCGwcmiRlXVA9P3UeOmudUAIrBxaZKN1QAAAAAAAqHVA9ihcj8KtdUD6fmq8dKt1QHWTGARWrnVA5KWbxCC4dUACK4cW2aZ1QM/3U+Olw3VAXI/C9Si8dUA830+Nl851QEjhehSux3VAQmDl0CLLdUC8dJMYBM51QLbz/dR40XVARIts5/vJdUBFtvP91Mh1QGMQWDm0uHVAUrgehevBdUBeukkMArt1QFK4HoXrwXVA3iQGgZW7dUBkO99Pjbd1QFK4HoXrwXVA2KNwPQq/dUCXbhKDwJp1QHnpJjEIrHVAGQRWDi2adUDhehSuR3F1QA==\"},\"shape\":[152],\"dtype\":\"float64\",\"order\":\"little\"}]]}}},\"view\":{\"type\":\"object\",\"name\":\"CDSView\",\"id\":\"p1751\",\"attributes\":{\"filter\":{\"type\":\"object\",\"name\":\"AllIndices\",\"id\":\"p1752\"}}},\"glyph\":{\"type\":\"object\",\"name\":\"Line\",\"id\":\"p1747\",\"attributes\":{\"x\":{\"type\":\"field\",\"field\":\"x\"},\"y\":{\"type\":\"field\",\"field\":\"y\"},\"line_color\":\"forestgreen\",\"line_width\":2}},\"nonselection_glyph\":{\"type\":\"object\",\"name\":\"Line\",\"id\":\"p1748\",\"attributes\":{\"x\":{\"type\":\"field\",\"field\":\"x\"},\"y\":{\"type\":\"field\",\"field\":\"y\"},\"line_color\":\"forestgreen\",\"line_alpha\":0.1,\"line_width\":2}},\"muted_glyph\":{\"type\":\"object\",\"name\":\"Line\",\"id\":\"p1749\",\"attributes\":{\"x\":{\"type\":\"field\",\"field\":\"x\"},\"y\":{\"type\":\"field\",\"field\":\"y\"},\"line_color\":\"forestgreen\",\"line_alpha\":0.2,\"line_width\":2}}}},{\"type\":\"object\",\"name\":\"GlyphRenderer\",\"id\":\"p1893\",\"attributes\":{\"data_source\":{\"type\":\"object\",\"name\":\"ColumnDataSource\",\"id\":\"p1887\",\"attributes\":{\"selected\":{\"type\":\"object\",\"name\":\"Selection\",\"id\":\"p1888\",\"attributes\":{\"indices\":[],\"line_indices\":[]}},\"selection_policy\":{\"type\":\"object\",\"name\":\"UnionRenderers\",\"id\":\"p1889\"},\"data\":{\"type\":\"map\",\"entries\":[[\"x\",{\"type\":\"ndarray\",\"array\":{\"type\":\"bytes\",\"data\":\"AAAAAAAAAAAAAAAAmpnJPwAAAACamdk/AAAAADMz4z8AAACAmZnpPwAAAAAAAPA/AAAAQDMz8z8AAACAZmb2PwAAAICZmfk/AAAAwMzM/D8AAAAAAAAAQAAAAKCZmQFAAAAAQDMzA0AAAADAzMwEQAAAAGBmZgZAAAAAAAAACEAAAACgmZkJQAAAAEAzMwtAAAAAwMzMDEAAAABgZmYOQAAAAAAAABBAAAAA0MzMEEAAAACgmZkRQAAAAGBmZhJAAAAAMDMzE0AAAAAAAAAUQAAAANDMzBRAAAAAoJmZFUAAAABgZmYWQAAAADAzMxdAAAAAAAAAGEAAAADQzMwYQAAAAKCZmRlAAAAAYGZmGkAAAAAwMzMbQAAAAAAAABxAAAAA0MzMHEAAAACgmZkdQAAAAGBmZh5AAAAAMDMzH0AAAAAAAAAgQAAAAGhmZiBAAAAA0MzMIEAAAAAwMzMhQAAAAJiZmSFAAAAAAAAAIkAAAABoZmYiQAAAANDMzCJAAAAAMDMzI0AAAACYmZkjQAAAAAAAACRAAAAAaGZmJEAAAADQzMwkQAAAADAzMyVAAAAAmJmZJUAAAAAAAAAmQAAAAGhmZiZAAAAA0MzMJkAAAAAwMzMnQAAAAJiZmSdAAAAAAAAAKEAAAABoZmYoQAAAANDMzChAAAAAMDMzKUAAAACYmZkpQAAAAAAAACpAAAAAaGZmKkAAAADQzMwqQAAAADAzMytAAAAAmJmZK0AAAAAAAAAsQAAAAGhmZixAAAAA0MzMLEAAAAAwMzMtQAAAAJiZmS1AAAAAAAAALkAAAABoZmYuQAAAANDMzC5AAAAAMDMzL0AAAACYmZkvQAAAAAAAADBAAAAANDMzMEAAAABoZmYwQAAAAJiZmTBAAAAAzMzMMEAAAAAAAAAxQAAAADQzMzFAAAAAaGZmMUAAAACYmZkxQAAAAMzMzDFAAAAAAAAAMkAAAAA0MzMyQAAAAGhmZjJAAAAAmJmZMkAAAADMzMwyQAAAAAAAADNAAAAANDMzM0AAAABoZmYzQAAAAJiZmTNAAAAAzMzMM0AAAAAAAAA0QAAAADQzMzRAAAAAaGZmNEAAAACYmZk0QAAAAMzMzDRAAAAAAAAANUAAAAA0MzM1QAAAAGhmZjVAAAAAmJmZNUAAAADMzMw1QAAAAAAAADZAAAAANDMzNkAAAABoZmY2QAAAAJiZmTZAAAAAzMzMNkAAAAAAAAA3QAAAADQzMzdAAAAAaGZmN0AAAACYmZk3QAAAAMzMzDdAAAAAAAAAOEAAAAA0MzM4QAAAAGhmZjhAAAAAmJmZOEAAAADMzMw4QAAAAAAAADlAAAAANDMzOUAAAABoZmY5QAAAAJiZmTlAAAAAzMzMOUAAAAAAAAA6QAAAADQzMzpAAAAAaGZmOkAAAACYmZk6QAAAAMzMzDpAAAAAAAAAO0AAAAA0MzM7QAAAAGhmZjtAAAAAmJmZO0AAAADMzMw7QAAAAAAAADxAAAAANDMzPEAAAABoZmY8QAAAAJiZmTxAAAAAzMzMPEAAAAAAAAA9QAAAADQzMz1AAAAAaGZmPUAAAACYmZk9QAAAAMzMzD1AAAAAAAAAPkAAAAA0MzM+QAAAAGhmZj5AAAAAmJmZPkAAAADMzMw+QAAAAAAAAD9AAAAANDMzP0AAAABoZmY/QAAAAJiZmT9AAAAAzMzMP0AAAAAAAABAQAAAAJqZGUBAAAAANDMzQEAAAADMzExAQAAAAGZmZkBAAAAAAACAQEAAAACamZlAQAAAADQzs0BAAAAAzMzMQEAAAABmZuZAQAAAAAAAAEFAAAAAmpkZQUAAAAA0MzNBQAAAAMzMTEFA\"},\"shape\":[174],\"dtype\":\"float64\",\"order\":\"little\"}],[\"y\",{\"type\":\"ndarray\",\"array\":{\"type\":\"bytes\",\"data\":\"Z2ZmZmbmMkAhsHJoke06QAwCK4cWWT5A/Knx0k3iQEAIrBxaZDtEQObQItv5/kVACKwcWmS7SEB3vp8aL91LQA8tsp3v505AZ2ZmZmamUEDC9ShcjyJSQBfZzvdTo1NA/tR46SbRVEDByqFFthNWQDZeukkMgldAJQaBlUOrWEC7SQwCKwdaQD81XrpJbFtA7nw/NV66XEBPYhBYOTReQDm0yHa+X19AH4XrUbg+YEAhsHJokc1gQD4K16NwTWFAW2Q730/NYUAL16NwPfphQKwcWmQ7L2JAPN9PjZduYkAUrkfheoRiQIPAyqFF1mJA+FPjpZskY0AxCKwcWpRjQL+fGi/d1GNABFYOLbI9ZEA3iUFg5bBkQI6XbhKDEGVAj8L1KFyfZUC28/3UeBlmQOxRuB6Fi2ZADAIrhxYJZ0ArhxbZzodnQG3n+6nx8mdAnMQgsHJoaECF61G4HgVpQKrx0k1igGlA+n5qvHTjaUAnMQisHFpqQF66SQwCy2pAtvP91Hgpa0Dy0k1iEJhrQEjhehSu92tAYxBYObR4bEDIdr6fGs9sQCQGgZVDK21AX7pJDAKbbUDHSzeJQfBtQCGwcmiRTW5Aku18PzWebkDYo3A9CgdvQEoMAiuHVm9Au0kMAiunb0AAAAAAAAhwQMdLN4lBKHBA8tJNYhBYcEAaL90kBolwQF66SQwCq3BAiBbZzvfbcEA3iUFg5QhxQPYoXI/CLXFAMQisHFpUcUBvEoPAynlxQKabxCCwonFAc2iR7Xy/cUDByqFFtttxQJHtfD819nFA2KNwPQoXckAhsHJokTVyQFtkO99PXXJAMQisHFp0ckDm0CLb+Z5yQMdLN4lBsHJA+FPjpZvcckDTTWIQWPFyQCUGgZVDC3NAf2q8dJMgc0BSuB6F6zlzQBkEVg4tWnNAf2q8dJNoc0BnZmZmZnZzQMuhRbbzhXNAMzMzMzOTc0AL16NwPapzQPCnxks3uXNAnMQgsHLoc0D8qfHSTfpzQNEi2/l+EnRAGi/dJAYxdECR7Xw/NTZ0QIXrUbgePXRA9ihcj8JFdECJQWDl0Dp0QCPb+X5qLHRAexSuR+FCdEB9PzVeukF0QHWTGARWRnRA5tAi2/lOdEDC9Shcj2J0QLOd76fGa3RAEoPAyqF9dEBzaJHtfI90QDzfT42XrnRAF9nO91PDdEAAAAAAANB0QMHKoUW2q3RARbbz/dQYdEB3vp8aL21zQPhT46Wb3HJASgwCK4ceckC8dJMYBJZxQCGwcmiRFXFAsHJoke3EcEBpke18P11wQB6F61G4bm9A1HjpJjEIb0A730+Nl85uQCcxCKwcSm5AF9nO91PDbUBiEFg5tAhtQClcj8L1mGxA5tAi2/kubEC7SQwCK7drQLOd76fGK2tAgZVDi2y3akAdWmQ7319qQEJg5dAiS2pAFK5H4XpkakCLbOf7qbFqQMuhRbbzHWtAMQisHFp0a0ACK4cW2Y5rQH9qvHST2GtA/Knx0k0ibEA+CtejcI1sQEnhehSuF21Atch2vp9qbUDIdr6fGu9tQD4K16NwPW5AW2Q730+9bkDYo3A9CgdvQESLbOf7WW9Anu+nxku3b0AGgZVDiwRwQNEi2/l+InBA7nw/NV5acEAxCKwcWnxwQFK4HoXrsXBAd76fGi/lcEAw3SQGgQ1xQOSlm8QgOHFAlkOLbOdjcUBFtvP91JBxQJqZmZmZqXFA0SLb+X7ScUCzne+nxuNxQKabxCCw6nFAu0kMAivfcUAtsp3vp55xQM/3U+Ols3BAqvHSTWLIcEArhxbZzn9wQESLbOf7KXBAI9v5fmpsb0C28/3UeIluQAVWDi2yzW1A\"},\"shape\":[174],\"dtype\":\"float64\",\"order\":\"little\"}]]}}},\"view\":{\"type\":\"object\",\"name\":\"CDSView\",\"id\":\"p1894\",\"attributes\":{\"filter\":{\"type\":\"object\",\"name\":\"AllIndices\",\"id\":\"p1895\"}}},\"glyph\":{\"type\":\"object\",\"name\":\"Line\",\"id\":\"p1890\",\"attributes\":{\"x\":{\"type\":\"field\",\"field\":\"x\"},\"y\":{\"type\":\"field\",\"field\":\"y\"},\"line_color\":\"coral\",\"line_width\":2}},\"nonselection_glyph\":{\"type\":\"object\",\"name\":\"Line\",\"id\":\"p1891\",\"attributes\":{\"x\":{\"type\":\"field\",\"field\":\"x\"},\"y\":{\"type\":\"field\",\"field\":\"y\"},\"line_color\":\"coral\",\"line_alpha\":0.1,\"line_width\":2}},\"muted_glyph\":{\"type\":\"object\",\"name\":\"Line\",\"id\":\"p1892\",\"attributes\":{\"x\":{\"type\":\"field\",\"field\":\"x\"},\"y\":{\"type\":\"field\",\"field\":\"y\"},\"line_color\":\"coral\",\"line_alpha\":0.2,\"line_width\":2}}}},{\"type\":\"object\",\"name\":\"GlyphRenderer\",\"id\":\"p2036\",\"attributes\":{\"data_source\":{\"type\":\"object\",\"name\":\"ColumnDataSource\",\"id\":\"p2030\",\"attributes\":{\"selected\":{\"type\":\"object\",\"name\":\"Selection\",\"id\":\"p2031\",\"attributes\":{\"indices\":[],\"line_indices\":[]}},\"selection_policy\":{\"type\":\"object\",\"name\":\"UnionRenderers\",\"id\":\"p2032\"},\"data\":{\"type\":\"map\",\"entries\":[[\"x\",{\"type\":\"ndarray\",\"array\":{\"type\":\"bytes\",\"data\":\"AAAAAAAAAAAAAAAAmpnJPwAAAACamdk/AAAAgDMz4z8AAACAmZnpPwAAAAAAAPA/AAAAQDMz8z8AAACAZmb2PwAAAMCZmfk/AAAAwMzM/D8AAAAAAAAAQAAAAKCZmQFAAAAAQDMzA0AAAADgzMwEQAAAAGBmZgZAAAAAAAAACEAAAACgmZkJQAAAAEAzMwtAAAAA4MzMDEAAAABgZmYOQAAAAAAAABBAAAAA0MzMEEAAAACgmZkRQAAAAHBmZhJAAAAAMDMzE0AAAAAAAAAUQAAAANDMzBRAAAAAoJmZFUAAAABwZmYWQAAAADAzMxdAAAAAAAAAGEAAAADQzMwYQAAAAKCZmRlAAAAAcGZmGkAAAAAwMzMbQAAAAAAAABxAAAAA0MzMHEAAAACgmZkdQAAAAHBmZh5AAAAAMDMzH0AAAAAAAAAgQAAAAGhmZiBAAAAA0MzMIEAAAAA4MzMhQAAAAJiZmSFAAAAAAAAAIkAAAABoZmYiQAAAANDMzCJAAAAAODMzI0AAAACYmZkjQAAAAAAAACRAAAAAaGZmJEAAAADQzMwkQAAAADgzMyVAAAAAmJmZJUAAAAAAAAAmQAAAAGhmZiZAAAAA0MzMJkAAAAA4MzMnQAAAAJiZmSdAAAAAAAAAKEAAAABoZmYoQAAAANDMzChAAAAAODMzKUAAAACYmZkpQAAAAAAAACpAAAAAaGZmKkAAAADQzMwqQAAAADgzMytAAAAAmJmZK0AAAAAAAAAsQAAAAGhmZixAAAAA0MzMLEAAAAA4MzMtQAAAAJiZmS1AAAAAAAAALkAAAABoZmYuQAAAANDMzC5AAAAAODMzL0AAAACYmZkvQAAAAAAAADBAAAAANDMzMEAAAABoZmYwQAAAAJyZmTBAAAAAzMzMMEAAAAAAAAAxQAAAADQzMzFAAAAAaGZmMUAAAACcmZkxQAAAAMzMzDFAAAAAAAAAMkAAAAA0MzMyQAAAAGhmZjJAAAAAnJmZMkAAAADMzMwyQAAAAAAAADNAAAAANDMzM0AAAABoZmYzQAAAAJyZmTNAAAAAzMzMM0AAAAAAAAA0QAAAADQzMzRAAAAAaGZmNEAAAACcmZk0QAAAAMzMzDRAAAAAAAAANUAAAAA0MzM1QAAAAGhmZjVAAAAAnJmZNUAAAADMzMw1QAAAAAAAADZAAAAANDMzNkAAAABoZmY2QAAAAJyZmTZAAAAAzMzMNkAAAAAAAAA3QAAAADQzMzdAAAAAaGZmN0AAAACcmZk3QAAAAMzMzDdAAAAAAAAAOEAAAAA0MzM4QAAAAGhmZjhAAAAAnJmZOEAAAADMzMw4QAAAAAAAADlAAAAANDMzOUAAAABoZmY5QAAAAJyZmTlAAAAAzMzMOUAAAAAAAAA6QAAAADQzMzpAAAAAaGZmOkAAAACcmZk6QAAAAMzMzDpAAAAAAAAAO0AAAAA0MzM7QAAAAGhmZjtAAAAAnJmZO0AAAADMzMw7QAAAAAAAADxAAAAANDMzPEAAAABoZmY8QAAAAJyZmTxAAAAAzMzMPEAAAAAAAAA9QAAAADQzMz1AAAAAaGZmPUAAAACcmZk9QAAAAMzMzD1AAAAAAAAAPkAAAAA0MzM+QAAAAGhmZj5AAAAAnJmZPkAAAADMzMw+QAAAAAAAAD9AAAAANDMzP0AAAABoZmY/QAAAAJyZmT9AAAAAzMzMP0AAAAAAAABAQAAAAJqZGUBAAAAANDMzQEAAAADOzExAQAAAAGZmZkBAAAAAAACAQEAAAACamZlAQAAAADQzs0BAAAAAzszMQEAAAABmZuZAQAAAAAAAAEFA\"},\"shape\":[171],\"dtype\":\"float64\",\"order\":\"little\"}],[\"y\",{\"type\":\"ndarray\",\"array\":{\"type\":\"bytes\",\"data\":\"GARWDi0yPUDsUbgehetAQPyp8dJNIkNA0SLb+X7qREDP91PjpZtGQK5H4XoU7khAEVg5tMj2SkAyCKwcWiRNQFG4HoXrUU9A5KWbxCDwUEDwp8ZLNwlSQAisHFpkG1NAMQisHFokVED0/dR46WZVQFYOLbKdT1ZAarx0kxhkV0CPwvUoXG9YQHe+nxovnVlAj8L1KFyvWkDVeOkmMahbQKAaL90k5lxAoBov3SQGXkASg8DKoeVeQCPb+X5q/F9AyXa+nxpvYEACK4cW2d5gQBfZzvdTY2FAWDm0yHbOYUCWQ4ts5ztiQN4kBoGVo2JABFYOLbIdY0BnZmZmZnZjQLx0kxgE1mNA/tR46SZBZEBEi2zn+6lkQJ3vp8ZLB2VA4XoUrkdxZUAfhetRuN5lQGHl0CLbSWZADi2yne93ZkDHSzeJQaBmQMl2vp8an2ZAlkOLbOe7ZkAGgZVDiwxnQGQ730+NZ2dAoBov3STWZ0Coxks3iWFoQLx0kxgE5mhA8tJNYhBYaUDm0CLb+e5pQBFYObTIZmpAd76fGi+9akDRItv5fhprQNV46SYxqGtATDeJQWD1a0BvEoPAynFsQM3MzMzMzGxAVzm0yHYObUDSItv5flptQGIQWDm0mG1AwcqhRbZjbUD6fmq8dENtQOXQItv5Tm1AbhKDwMqRbUAdWmQ7379tQEnhehSuN25AzvdT46V7bkA1XrpJDNJuQJhuEoPAKm9ADAIrhxZ5b0CF61G4HsVvQCQGgZVD+29AVg4tsp0fcEBCYOXQIitwQARWDi2yTXBAW2Q7309lcEAhsHJokYVwQJHtfD81jnBA8tJNYhCgcEBSuB6F67FwQKrx0k1iyHBAexSuR+HicEBh5dAi2/FwQN4kBoGV83BAy6FFtvP9cEDYo3A9CvdwQOf7qfHS7XBAEVg5tMjWcECq8dJNYshwQLbz/dR4wXBAvHSTGAS+cEAdWmQ7389wQBfZzvdT03BAgZVDi2zfcEDVeOkmMfhwQJQYBFYOHXFAW2Q73089cUCLbOf7qWlxQM/3U+Oli3FAF9nO91OrcUDP91PjpdNxQJqZmZmZ8XFASOF6FK4fckB7FK5H4UpyQGQ730+NV3JAMQisHFp0ckBjEFg5tKByQFCNl24Sq3JAtMh2vp+6ckD8qfHSTdpyQMl2vp8a93JAokW28/0Mc0BqvHSTGCxzQML1KFyPQnNA+n5qvHQjc0AX2c73UxNzQBfZzvdTE3NAZDvfT40vc0BFtvP91EBzQBFYObTIXnNAbef7qfFyc0A+CtejcI1zQBSuR+F6pHNAbef7qfG6c0DP91PjpctzQJZDi2zn63NAJQaBlUPjc0CkcD0K1+NzQAisHFpk83NAYxBYObQIdEC7SQwCKx90QIts5/upOXRAZDvfT41PdEDVeOkmMVh0QGHl0CLbUXRAMN0kBoFtdEAnMQisHHJ0QJQYBFYOfXRAHVpkO993dEBKDAIrh150QAisHFpkO3RAvHSTGAQedECq8dJNYih0QKrx0k1iKHRApHA9CtcrdEAxCKwcWiR0QJqZmZmZ6XNAke18PzWmc0AL16NwPapzQIlBYOXQqnNAd76fGi+1c0C/nxov3dRzQIgW2c73q3NAH4XrUbhWc0BCYOXQIrNyQG8Sg8DKwXFAAiuHFtkmcUBCYOXQIrtwQFyPwvUorHBAPgrXo3C9cEDsUbgehetwQFXjpZvE+HBAAAAAAAAocUBh5dAi2zlxQKjGSzeJWXFAXrpJDAKDcUCiRbbz/aRxQGHl0CLbyXFAtMh2vp/icUC5HoXrUeBxQLtJDAIr33FA\"},\"shape\":[171],\"dtype\":\"float64\",\"order\":\"little\"}]]}}},\"view\":{\"type\":\"object\",\"name\":\"CDSView\",\"id\":\"p2037\",\"attributes\":{\"filter\":{\"type\":\"object\",\"name\":\"AllIndices\",\"id\":\"p2038\"}}},\"glyph\":{\"type\":\"object\",\"name\":\"Line\",\"id\":\"p2033\",\"attributes\":{\"x\":{\"type\":\"field\",\"field\":\"x\"},\"y\":{\"type\":\"field\",\"field\":\"y\"},\"line_color\":\"darkcyan\",\"line_width\":2}},\"nonselection_glyph\":{\"type\":\"object\",\"name\":\"Line\",\"id\":\"p2034\",\"attributes\":{\"x\":{\"type\":\"field\",\"field\":\"x\"},\"y\":{\"type\":\"field\",\"field\":\"y\"},\"line_color\":\"darkcyan\",\"line_alpha\":0.1,\"line_width\":2}},\"muted_glyph\":{\"type\":\"object\",\"name\":\"Line\",\"id\":\"p2035\",\"attributes\":{\"x\":{\"type\":\"field\",\"field\":\"x\"},\"y\":{\"type\":\"field\",\"field\":\"y\"},\"line_color\":\"darkcyan\",\"line_alpha\":0.2,\"line_width\":2}}}},{\"type\":\"object\",\"name\":\"GlyphRenderer\",\"id\":\"p2179\",\"attributes\":{\"data_source\":{\"type\":\"object\",\"name\":\"ColumnDataSource\",\"id\":\"p2173\",\"attributes\":{\"selected\":{\"type\":\"object\",\"name\":\"Selection\",\"id\":\"p2174\",\"attributes\":{\"indices\":[],\"line_indices\":[]}},\"selection_policy\":{\"type\":\"object\",\"name\":\"UnionRenderers\",\"id\":\"p2175\"},\"data\":{\"type\":\"map\",\"entries\":[[\"x\",{\"type\":\"ndarray\",\"array\":{\"type\":\"bytes\",\"data\":\"AAAAAAAAAAAAAAAAmJnJPwAAAACZmdk/AAAAADMz4z8AAACAmZnpPwAAAAAAAPA/AAAAADMz8z8AAABAZmb2PwAAAICZmfk/AAAAwMzM/D8AAAAAAAAAQAAAAICZmQFAAAAAIDMzA0AAAADAzMwEQAAAAGBmZgZAAAAAAAAACEAAAACAmZkJQAAAACAzMwtAAAAAwMzMDEAAAABgZmYOQAAAAAAAABBAAAAAwMzMEEAAAACQmZkRQAAAAGBmZhJAAAAAMDMzE0AAAAAAAAAUQAAAAMDMzBRAAAAAkJmZFUAAAABgZmYWQAAAADAzMxdAAAAAAAAAGEAAAADAzMwYQAAAAJCZmRlAAAAAYGZmGkAAAAAwMzMbQAAAAAAAABxAAAAAwMzMHEAAAACQmZkdQAAAAGBmZh5AAAAAMDMzH0AAAAAAAAAgQAAAAGBmZiBAAAAAyMzMIEAAAAAwMzMhQAAAAJiZmSFAAAAAAAAAIkAAAABgZmYiQAAAAMjMzCJAAAAAMDMzI0AAAACYmZkjQAAAAAAAACRAAAAAYGZmJEAAAADIzMwkQAAAADAzMyVAAAAAmJmZJUAAAAAAAAAmQAAAAGBmZiZAAAAAyMzMJkAAAAAwMzMnQAAAAJiZmSdAAAAAAAAAKEAAAABgZmYoQAAAAMjMzChAAAAAMDMzKUAAAACYmZkpQAAAAAAAACpAAAAAYGZmKkAAAADIzMwqQAAAADAzMytAAAAAmJmZK0AAAAAAAAAsQAAAAGBmZixAAAAAyMzMLEAAAAAwMzMtQAAAAJiZmS1AAAAAAAAALkAAAABgZmYuQAAAAMjMzC5AAAAAMDMzL0AAAACYmZkvQAAAAAAAADBAAAAAMDMzMEAAAABkZmYwQAAAAJiZmTBAAAAAzMzMMEAAAAAAAAAxQAAAADAzMzFAAAAAZGZmMUAAAACYmZkxQAAAAMzMzDFAAAAAAAAAMkAAAAAwMzMyQAAAAGRmZjJAAAAAmJmZMkAAAADMzMwyQAAAAAAAADNAAAAAMDMzM0AAAABkZmYzQAAAAJiZmTNAAAAAzMzMM0AAAAAAAAA0QAAAADAzMzRAAAAAZGZmNEAAAACYmZk0QAAAAMzMzDRAAAAAAAAANUAAAAAwMzM1QAAAAGRmZjVAAAAAmJmZNUAAAADMzMw1QAAAAAAAADZAAAAAMDMzNkAAAABkZmY2QAAAAJiZmTZAAAAAzMzMNkAAAAAAAAA3QAAAADAzMzdAAAAAZGZmN0AAAACYmZk3QAAAAMzMzDdAAAAAAAAAOEAAAAAwMzM4QAAAAGRmZjhAAAAAmJmZOEAAAADMzMw4QAAAAAAAADlAAAAAMDMzOUAAAABkZmY5QAAAAJiZmTlAAAAAzMzMOUAAAAAAAAA6QAAAADAzMzpAAAAAZGZmOkAAAACYmZk6QAAAAMzMzDpAAAAAAAAAO0AAAAAwMzM7QAAAAGRmZjtAAAAAmJmZO0AAAADMzMw7QAAAAAAAADxAAAAAMDMzPEAAAABkZmY8QAAAAJiZmTxAAAAAzMzMPEAAAAAAAAA9QAAAADAzMz1AAAAAZGZmPUAAAACYmZk9QAAAAMzMzD1AAAAAAAAAPkAAAAAwMzM+QAAAAGRmZj5AAAAAmJmZPkAAAADMzMw+QAAAAAAAAD9AAAAAMDMzP0AAAABkZmY/QA==\"},\"shape\":[158],\"dtype\":\"float64\",\"order\":\"little\"}],[\"y\",{\"type\":\"ndarray\",\"array\":{\"type\":\"bytes\",\"data\":\"CKwcWmT7QUBh5dAi23lDQD4K16NwPUVAu0kMAivHR0Cd76fGS/dIQAisHFpk+0pApHA9CtfjTEDZzvdT4+VNQHnpJjEIDFBAI9v5fmpcUUB56SYxCExSQHnpJjEIbFNAtMh2vp/6VEDeJAaBlQNWQObQItv5HldAiBbZzvdzWEBCYOXQIrtZQOxRuB6FC1tAz/dT46U7XECClUOLbIddQDiJQWDl0F5AL90kBoH1X0B3vp8aL51gQEoMAiuHRmFAVeOlm8TQYUAnMQisHHpiQDDdJAaBBWNAN4lBYOWQY0BI4XoUrhdkQGHl0CLbmWRAZDvfT40nZUCamZmZmZllQMUgsHJoEWZAv58aL92kZkDn+6nx0h1nQPYoXI/CpWdADi2yne8naEBV46WbxJBoQGMQWDm0GGlAdZMYBFaeaUCUGARWDh1qQLkehetRmGpA7FG4HoULa0AUrkfheoRrQFyPwvUo7GtAaZHtfD91bEC28/3UeNlsQBFYObTINm1AGy/dJAbBbUCDwMqhRRZuQMdLN4lBgG5ANV66SQzSbkB3vp8aLz1vQNijcD0Kl29AAiuHFtkGcEDHSzeJQShwQA4tsp3vR3BADAIrhxZJcEBxPQrXo1hwQDm0yHa+d3BAlBgEVg6NcEBcj8L1KKxwQCPb+X5qzHBA2/l+arz0cECOl24SgyBxQEw3iUFgRXFAi2zn+6lpcUDP91PjpYtxQARWDi2ytXFAuR6F61HgcUBvEoPAyglyQLx0kxgEJnJAc2iR7XxPckArhxbZzndyQOSlm8QgoHJAGQRWDi3KckDVeOkmMfByQJZDi2znE3NAUrgehes5c0CF61G4HmVzQNijcD0Kf3NAK4cW2c6Xc0D4U+Olm7RzQESLbOf70XNAoBov3STmc0D0/dR46f5zQFK4HoXrEXRA5KWbxCAIdECJQWDl0PJzQOF6FK5HwXNAs53vp8aTc0BMN4lBYIVzQHNoke18b3NA30+Nl256c0B1kxgEVm5zQOf7qfHSdXNA30+Nl256c0CkcD0K15tzQAvXo3A9qnNASOF6FK7Pc0Cd76fGS+dzQIgW2c7383NAYxBYObQIdEAZBFYOLTJ0QJqZmZmZMXRA30+Nl25SdEBYObTIdlZ0QLtJDAIrZ3RAjpduEoOAdEAZBFYOLXp0QJduEoPAenRAj8L1KFx/dEB1kxgEVo50QIGVQ4tsh3RAXI/C9SicdEDZzvdT4510QESLbOf7YXRA001iEFgRdEBWDi2yncdzQHWTGARWtnNAy6FFtvPNc0AzMzMzM9tzQDeJQWDl2HNA3iQGgZXDc0A830+Nl9ZzQCuHFtnO33NAF9nO91Prc0CBlUOLbPdzQMUgsHJoGXRAMQisHFokdECd76fGSy90QHe+nxovRXRAke18PzU2dEBt5/up8Up0QAwCK4cWOXRAJzEIrBxydEBMN4lBYF10QCcxCKwccnRAIbByaJF1dEB9PzVeuol0QN4kBoGVm3RA+n5qvHSLdEAEVg4tsoV0QJHtfD81fnRA7nw/NV6SdEAAAAAAAIh0QCGwcmiRvXRApHA9Cte7dEDRItv5fqJ0QNv5fmq8nHRANl66SQyydEDqJjEIrJR0QI6XbhKDyHRARbbz/dSodEDkpZvEIJh0QJduEoPAenRAVeOlm8RYdEA/NV66SWR0QA==\"},\"shape\":[158],\"dtype\":\"float64\",\"order\":\"little\"}]]}}},\"view\":{\"type\":\"object\",\"name\":\"CDSView\",\"id\":\"p2180\",\"attributes\":{\"filter\":{\"type\":\"object\",\"name\":\"AllIndices\",\"id\":\"p2181\"}}},\"glyph\":{\"type\":\"object\",\"name\":\"Line\",\"id\":\"p2176\",\"attributes\":{\"x\":{\"type\":\"field\",\"field\":\"x\"},\"y\":{\"type\":\"field\",\"field\":\"y\"},\"line_color\":\"limegreen\",\"line_width\":2}},\"nonselection_glyph\":{\"type\":\"object\",\"name\":\"Line\",\"id\":\"p2177\",\"attributes\":{\"x\":{\"type\":\"field\",\"field\":\"x\"},\"y\":{\"type\":\"field\",\"field\":\"y\"},\"line_color\":\"limegreen\",\"line_alpha\":0.1,\"line_width\":2}},\"muted_glyph\":{\"type\":\"object\",\"name\":\"Line\",\"id\":\"p2178\",\"attributes\":{\"x\":{\"type\":\"field\",\"field\":\"x\"},\"y\":{\"type\":\"field\",\"field\":\"y\"},\"line_color\":\"limegreen\",\"line_alpha\":0.2,\"line_width\":2}}}}],\"toolbar\":{\"type\":\"object\",\"name\":\"Toolbar\",\"id\":\"p1010\",\"attributes\":{\"tools\":[{\"type\":\"object\",\"name\":\"PanTool\",\"id\":\"p1025\"},{\"type\":\"object\",\"name\":\"WheelZoomTool\",\"id\":\"p1026\",\"attributes\":{\"renderers\":\"auto\"}},{\"type\":\"object\",\"name\":\"BoxZoomTool\",\"id\":\"p1027\",\"attributes\":{\"overlay\":{\"type\":\"object\",\"name\":\"BoxAnnotation\",\"id\":\"p1028\",\"attributes\":{\"syncable\":false,\"line_color\":\"black\",\"line_alpha\":1.0,\"line_width\":2,\"line_dash\":[4,4],\"fill_color\":\"lightgrey\",\"fill_alpha\":0.5,\"level\":\"overlay\",\"visible\":false,\"left\":{\"type\":\"number\",\"value\":\"nan\"},\"right\":{\"type\":\"number\",\"value\":\"nan\"},\"top\":{\"type\":\"number\",\"value\":\"nan\"},\"bottom\":{\"type\":\"number\",\"value\":\"nan\"},\"left_units\":\"canvas\",\"right_units\":\"canvas\",\"top_units\":\"canvas\",\"bottom_units\":\"canvas\",\"handles\":{\"type\":\"object\",\"name\":\"BoxInteractionHandles\",\"id\":\"p1034\",\"attributes\":{\"all\":{\"type\":\"object\",\"name\":\"AreaVisuals\",\"id\":\"p1033\",\"attributes\":{\"fill_color\":\"white\",\"hover_fill_color\":\"lightgray\"}}}}}}}},{\"type\":\"object\",\"name\":\"SaveTool\",\"id\":\"p1035\"},{\"type\":\"object\",\"name\":\"ResetTool\",\"id\":\"p1036\"},{\"type\":\"object\",\"name\":\"HelpTool\",\"id\":\"p1037\"}]}},\"left\":[{\"type\":\"object\",\"name\":\"LinearAxis\",\"id\":\"p1020\",\"attributes\":{\"ticker\":{\"type\":\"object\",\"name\":\"BasicTicker\",\"id\":\"p1021\",\"attributes\":{\"mantissas\":[1,2,5]}},\"formatter\":{\"type\":\"object\",\"name\":\"BasicTickFormatter\",\"id\":\"p1022\"},\"axis_label\":\"km/h\",\"axis_label_standoff\":10,\"axis_label_text_color\":\"#E0E0E0\",\"axis_label_text_font\":\"Helvetica\",\"axis_label_text_font_size\":\"1.25em\",\"axis_label_text_font_style\":\"normal\",\"major_label_policy\":{\"type\":\"object\",\"name\":\"AllLabels\",\"id\":\"p1023\"},\"major_label_text_color\":\"#E0E0E0\",\"major_label_text_font\":\"Helvetica\",\"major_label_text_font_size\":\"1.025em\",\"axis_line_color\":\"#E0E0E0\",\"axis_line_alpha\":0,\"major_tick_line_color\":\"#E0E0E0\",\"major_tick_line_alpha\":0,\"minor_tick_line_color\":\"#E0E0E0\",\"minor_tick_line_alpha\":0}}],\"below\":[{\"type\":\"object\",\"name\":\"LinearAxis\",\"id\":\"p1015\",\"attributes\":{\"ticker\":{\"type\":\"object\",\"name\":\"BasicTicker\",\"id\":\"p1016\",\"attributes\":{\"mantissas\":[1,2,5]}},\"formatter\":{\"type\":\"object\",\"name\":\"BasicTickFormatter\",\"id\":\"p1017\"},\"axis_label\":\"seconds from exit\",\"axis_label_standoff\":10,\"axis_label_text_color\":\"#E0E0E0\",\"axis_label_text_font\":\"Helvetica\",\"axis_label_text_font_size\":\"1.25em\",\"axis_label_text_font_style\":\"normal\",\"major_label_policy\":{\"type\":\"object\",\"name\":\"AllLabels\",\"id\":\"p1018\"},\"major_label_text_color\":\"#E0E0E0\",\"major_label_text_font\":\"Helvetica\",\"major_label_text_font_size\":\"1.025em\",\"axis_line_color\":\"#E0E0E0\",\"axis_line_alpha\":0,\"major_tick_line_color\":\"#E0E0E0\",\"major_tick_line_alpha\":0,\"minor_tick_line_color\":\"#E0E0E0\",\"minor_tick_line_alpha\":0}}],\"center\":[{\"type\":\"object\",\"name\":\"Grid\",\"id\":\"p1019\",\"attributes\":{\"axis\":{\"id\":\"p1015\"},\"grid_line_color\":\"#E0E0E0\",\"grid_line_alpha\":0.25}},{\"type\":\"object\",\"name\":\"Grid\",\"id\":\"p1024\",\"attributes\":{\"dimension\":1,\"axis\":{\"id\":\"p1020\"},\"grid_line_color\":\"#E0E0E0\",\"grid_line_alpha\":0.25}},{\"type\":\"object\",\"name\":\"Legend\",\"id\":\"p1180\",\"attributes\":{\"border_line_alpha\":0,\"background_fill_color\":\"#20262B\",\"background_fill_alpha\":0.25,\"label_text_color\":\"#E0E0E0\",\"label_text_font\":\"Helvetica\",\"label_text_font_size\":\"1.025em\",\"label_standoff\":8,\"glyph_width\":15,\"spacing\":8,\"items\":[{\"type\":\"object\",\"name\":\"LegendItem\",\"id\":\"p1181\",\"attributes\":{\"label\":{\"type\":\"value\",\"value\":\"Miller-2024-championship-official R1_12-43-43:v1 - 316.13\"},\"renderers\":[{\"id\":\"p1177\"}]}},{\"type\":\"object\",\"name\":\"LegendItem\",\"id\":\"p1324\",\"attributes\":{\"label\":{\"type\":\"value\",\"value\":\"Miller-2024-championship-official R2_14-27-13:v1 - 333.91\"},\"renderers\":[{\"id\":\"p1321\"}]}},{\"type\":\"object\",\"name\":\"LegendItem\",\"id\":\"p1467\",\"attributes\":{\"label\":{\"type\":\"value\",\"value\":\"Miller-2024-championship-official R3_15-53-00:v1 - 327.08\"},\"renderers\":[{\"id\":\"p1464\"}]}},{\"type\":\"object\",\"name\":\"LegendItem\",\"id\":\"p1610\",\"attributes\":{\"label\":{\"type\":\"value\",\"value\":\"Miller-2024-championship-official R4_17-24-24:v1 - 331.32\"},\"renderers\":[{\"id\":\"p1607\"}]}},{\"type\":\"object\",\"name\":\"LegendItem\",\"id\":\"p1753\",\"attributes\":{\"label\":{\"type\":\"value\",\"value\":\"Miller-2024-championship-official R5_18-49-36:v1 - 348.25\"},\"renderers\":[{\"id\":\"p1750\"}]}},{\"type\":\"object\",\"name\":\"LegendItem\",\"id\":\"p1896\",\"attributes\":{\"label\":{\"type\":\"value\",\"value\":\"Miller-2024-championship-official R6_12-49-38:v1 - 326.80\"},\"renderers\":[{\"id\":\"p1893\"}]}},{\"type\":\"object\",\"name\":\"LegendItem\",\"id\":\"p2039\",\"attributes\":{\"label\":{\"type\":\"value\",\"value\":\"Miller-2024-championship-official R7_14-20-26:v1 - 324.50\"},\"renderers\":[{\"id\":\"p2036\"}]}},{\"type\":\"object\",\"name\":\"LegendItem\",\"id\":\"p2182\",\"attributes\":{\"label\":{\"type\":\"value\",\"value\":\"Miller-2024-championship-official R8_16-05-15:v1 - 329.84\"},\"renderers\":[{\"id\":\"p2179\"}]}}]}}],\"background_fill_color\":\"#20262B\",\"border_fill_color\":\"#15191C\"}}]}};\n",
       "  const render_items = [{\"docid\":\"6ba8c745-5895-41b7-978c-f46ead8bac7b\",\"roots\":{\"p1001\":\"b48623fa-f85c-44c5-af0b-3931ea97bb05\"},\"root_ids\":[\"p1001\"]}];\n",
       "  void root.Bokeh.embed.embed_items_notebook(docs_json, render_items);\n",
       "  }\n",
       "  if (root.Bokeh !== undefined) {\n",
       "    embed_document(root);\n",
       "  } else {\n",
       "    let attempts = 0;\n",
       "    const timer = setInterval(function(root) {\n",
       "      if (root.Bokeh !== undefined) {\n",
       "        clearInterval(timer);\n",
       "        embed_document(root);\n",
       "      } else {\n",
       "        attempts++;\n",
       "        if (attempts > 100) {\n",
       "          clearInterval(timer);\n",
       "          console.log(\"Bokeh: ERROR: Unable to run BokehJS code because BokehJS library is missing\");\n",
       "        }\n",
       "      }\n",
       "    }, 10, root)\n",
       "  }\n",
       "})(window);"
      ],
      "application/vnd.bokehjs_exec.v0+json": ""
     },
     "metadata": {
      "application/vnd.bokehjs_exec.v0+json": {
       "id": "p1001"
      }
     },
     "output_type": "display_data"
    }
   ],
   "source": [
    "display(roundedResults)\n",
    "display(sumResults)\n",
    "bp.show(allJumpsPlot)"
   ]
  },
  {
   "cell_type": "code",
   "execution_count": null,
   "id": "ee49d352-aa6e-4ab6-88a0-941362f918e8",
   "metadata": {},
   "outputs": [],
   "source": []
  }
 ],
 "metadata": {
  "kernelspec": {
   "display_name": "Python 3 (ipykernel)",
   "language": "python",
   "name": "python3"
  },
  "language_info": {
   "codemirror_mode": {
    "name": "ipython",
    "version": 3
   },
   "file_extension": ".py",
   "mimetype": "text/x-python",
   "name": "python",
   "nbconvert_exporter": "python",
   "pygments_lexer": "ipython3",
   "version": "3.11.10"
  }
 },
 "nbformat": 4,
 "nbformat_minor": 5
}
