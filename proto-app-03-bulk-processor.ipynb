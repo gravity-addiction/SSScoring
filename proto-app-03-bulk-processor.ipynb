{
 "cells": [
  {
   "cell_type": "markdown",
   "id": "36a745d9-2003-496e-a394-290f63a970b7",
   "metadata": {},
   "source": [
    "# Speed Skydiving scoring bulk files processor\n",
    "Uses the `./data` directory as a data lake.  It finds all valid FlySight files in that directory, from 0 to as many as it finds and fit in memory, and process them all.  Summary of \"all files\" or \"all jumps\" at the bottom of the document."
   ]
  },
  {
   "cell_type": "code",
   "execution_count": 1,
   "id": "7619c1b4-c552-4bec-8d38-ce895845d8df",
   "metadata": {
    "jupyter": {
     "source_hidden": true
    }
   },
   "outputs": [],
   "source": [
    "%%capture\n",
    "!make local"
   ]
  },
  {
   "cell_type": "code",
   "execution_count": 2,
   "id": "98c7a164-9492-4672-904b-5bf3abf61773",
   "metadata": {
    "jupyter": {
     "source_hidden": true
    }
   },
   "outputs": [
    {
     "data": {
      "application/javascript": [
       "'use strict';\n",
       "(function(root) {\n",
       "  function now() {\n",
       "    return new Date();\n",
       "  }\n",
       "\n",
       "  const force = true;\n",
       "\n",
       "  if (typeof root._bokeh_onload_callbacks === \"undefined\" || force === true) {\n",
       "    root._bokeh_onload_callbacks = [];\n",
       "    root._bokeh_is_loading = undefined;\n",
       "  }\n",
       "\n",
       "const JS_MIME_TYPE = 'application/javascript';\n",
       "  const HTML_MIME_TYPE = 'text/html';\n",
       "  const EXEC_MIME_TYPE = 'application/vnd.bokehjs_exec.v0+json';\n",
       "  const CLASS_NAME = 'output_bokeh rendered_html';\n",
       "\n",
       "  /**\n",
       "   * Render data to the DOM node\n",
       "   */\n",
       "  function render(props, node) {\n",
       "    const script = document.createElement(\"script\");\n",
       "    node.appendChild(script);\n",
       "  }\n",
       "\n",
       "  /**\n",
       "   * Handle when an output is cleared or removed\n",
       "   */\n",
       "  function handleClearOutput(event, handle) {\n",
       "    function drop(id) {\n",
       "      const view = Bokeh.index.get_by_id(id)\n",
       "      if (view != null) {\n",
       "        view.model.document.clear()\n",
       "        Bokeh.index.delete(view)\n",
       "      }\n",
       "    }\n",
       "\n",
       "    const cell = handle.cell;\n",
       "\n",
       "    const id = cell.output_area._bokeh_element_id;\n",
       "    const server_id = cell.output_area._bokeh_server_id;\n",
       "\n",
       "    // Clean up Bokeh references\n",
       "    if (id != null) {\n",
       "      drop(id)\n",
       "    }\n",
       "\n",
       "    if (server_id !== undefined) {\n",
       "      // Clean up Bokeh references\n",
       "      const cmd_clean = \"from bokeh.io.state import curstate; print(curstate().uuid_to_server['\" + server_id + \"'].get_sessions()[0].document.roots[0]._id)\";\n",
       "      cell.notebook.kernel.execute(cmd_clean, {\n",
       "        iopub: {\n",
       "          output: function(msg) {\n",
       "            const id = msg.content.text.trim()\n",
       "            drop(id)\n",
       "          }\n",
       "        }\n",
       "      });\n",
       "      // Destroy server and session\n",
       "      const cmd_destroy = \"import bokeh.io.notebook as ion; ion.destroy_server('\" + server_id + \"')\";\n",
       "      cell.notebook.kernel.execute(cmd_destroy);\n",
       "    }\n",
       "  }\n",
       "\n",
       "  /**\n",
       "   * Handle when a new output is added\n",
       "   */\n",
       "  function handleAddOutput(event, handle) {\n",
       "    const output_area = handle.output_area;\n",
       "    const output = handle.output;\n",
       "\n",
       "    // limit handleAddOutput to display_data with EXEC_MIME_TYPE content only\n",
       "    if ((output.output_type != \"display_data\") || (!Object.prototype.hasOwnProperty.call(output.data, EXEC_MIME_TYPE))) {\n",
       "      return\n",
       "    }\n",
       "\n",
       "    const toinsert = output_area.element.find(\".\" + CLASS_NAME.split(' ')[0]);\n",
       "\n",
       "    if (output.metadata[EXEC_MIME_TYPE][\"id\"] !== undefined) {\n",
       "      toinsert[toinsert.length - 1].firstChild.textContent = output.data[JS_MIME_TYPE];\n",
       "      // store reference to embed id on output_area\n",
       "      output_area._bokeh_element_id = output.metadata[EXEC_MIME_TYPE][\"id\"];\n",
       "    }\n",
       "    if (output.metadata[EXEC_MIME_TYPE][\"server_id\"] !== undefined) {\n",
       "      const bk_div = document.createElement(\"div\");\n",
       "      bk_div.innerHTML = output.data[HTML_MIME_TYPE];\n",
       "      const script_attrs = bk_div.children[0].attributes;\n",
       "      for (let i = 0; i < script_attrs.length; i++) {\n",
       "        toinsert[toinsert.length - 1].firstChild.setAttribute(script_attrs[i].name, script_attrs[i].value);\n",
       "        toinsert[toinsert.length - 1].firstChild.textContent = bk_div.children[0].textContent\n",
       "      }\n",
       "      // store reference to server id on output_area\n",
       "      output_area._bokeh_server_id = output.metadata[EXEC_MIME_TYPE][\"server_id\"];\n",
       "    }\n",
       "  }\n",
       "\n",
       "  function register_renderer(events, OutputArea) {\n",
       "\n",
       "    function append_mime(data, metadata, element) {\n",
       "      // create a DOM node to render to\n",
       "      const toinsert = this.create_output_subarea(\n",
       "        metadata,\n",
       "        CLASS_NAME,\n",
       "        EXEC_MIME_TYPE\n",
       "      );\n",
       "      this.keyboard_manager.register_events(toinsert);\n",
       "      // Render to node\n",
       "      const props = {data: data, metadata: metadata[EXEC_MIME_TYPE]};\n",
       "      render(props, toinsert[toinsert.length - 1]);\n",
       "      element.append(toinsert);\n",
       "      return toinsert\n",
       "    }\n",
       "\n",
       "    /* Handle when an output is cleared or removed */\n",
       "    events.on('clear_output.CodeCell', handleClearOutput);\n",
       "    events.on('delete.Cell', handleClearOutput);\n",
       "\n",
       "    /* Handle when a new output is added */\n",
       "    events.on('output_added.OutputArea', handleAddOutput);\n",
       "\n",
       "    /**\n",
       "     * Register the mime type and append_mime function with output_area\n",
       "     */\n",
       "    OutputArea.prototype.register_mime_type(EXEC_MIME_TYPE, append_mime, {\n",
       "      /* Is output safe? */\n",
       "      safe: true,\n",
       "      /* Index of renderer in `output_area.display_order` */\n",
       "      index: 0\n",
       "    });\n",
       "  }\n",
       "\n",
       "  // register the mime type if in Jupyter Notebook environment and previously unregistered\n",
       "  if (root.Jupyter !== undefined) {\n",
       "    const events = require('base/js/events');\n",
       "    const OutputArea = require('notebook/js/outputarea').OutputArea;\n",
       "\n",
       "    if (OutputArea.prototype.mime_types().indexOf(EXEC_MIME_TYPE) == -1) {\n",
       "      register_renderer(events, OutputArea);\n",
       "    }\n",
       "  }\n",
       "  if (typeof (root._bokeh_timeout) === \"undefined\" || force === true) {\n",
       "    root._bokeh_timeout = Date.now() + 5000;\n",
       "    root._bokeh_failed_load = false;\n",
       "  }\n",
       "\n",
       "  const NB_LOAD_WARNING = {'data': {'text/html':\n",
       "     \"<div style='background-color: #fdd'>\\n\"+\n",
       "     \"<p>\\n\"+\n",
       "     \"BokehJS does not appear to have successfully loaded. If loading BokehJS from CDN, this \\n\"+\n",
       "     \"may be due to a slow or bad network connection. Possible fixes:\\n\"+\n",
       "     \"</p>\\n\"+\n",
       "     \"<ul>\\n\"+\n",
       "     \"<li>re-rerun `output_notebook()` to attempt to load from CDN again, or</li>\\n\"+\n",
       "     \"<li>use INLINE resources instead, as so:</li>\\n\"+\n",
       "     \"</ul>\\n\"+\n",
       "     \"<code>\\n\"+\n",
       "     \"from bokeh.resources import INLINE\\n\"+\n",
       "     \"output_notebook(resources=INLINE)\\n\"+\n",
       "     \"</code>\\n\"+\n",
       "     \"</div>\"}};\n",
       "\n",
       "  function display_loaded(error = null) {\n",
       "    const el = document.getElementById(null);\n",
       "    if (el != null) {\n",
       "      const html = (() => {\n",
       "        if (typeof root.Bokeh === \"undefined\") {\n",
       "          if (error == null) {\n",
       "            return \"BokehJS is loading ...\";\n",
       "          } else {\n",
       "            return \"BokehJS failed to load.\";\n",
       "          }\n",
       "        } else {\n",
       "          const prefix = `BokehJS ${root.Bokeh.version}`;\n",
       "          if (error == null) {\n",
       "            return `${prefix} successfully loaded.`;\n",
       "          } else {\n",
       "            return `${prefix} <b>encountered errors</b> while loading and may not function as expected.`;\n",
       "          }\n",
       "        }\n",
       "      })();\n",
       "      el.innerHTML = html;\n",
       "\n",
       "      if (error != null) {\n",
       "        const wrapper = document.createElement(\"div\");\n",
       "        wrapper.style.overflow = \"auto\";\n",
       "        wrapper.style.height = \"5em\";\n",
       "        wrapper.style.resize = \"vertical\";\n",
       "        const content = document.createElement(\"div\");\n",
       "        content.style.fontFamily = \"monospace\";\n",
       "        content.style.whiteSpace = \"pre-wrap\";\n",
       "        content.style.backgroundColor = \"rgb(255, 221, 221)\";\n",
       "        content.textContent = error.stack ?? error.toString();\n",
       "        wrapper.append(content);\n",
       "        el.append(wrapper);\n",
       "      }\n",
       "    } else if (Date.now() < root._bokeh_timeout) {\n",
       "      setTimeout(() => display_loaded(error), 100);\n",
       "    }\n",
       "  }\n",
       "\n",
       "  function run_callbacks() {\n",
       "    try {\n",
       "      root._bokeh_onload_callbacks.forEach(function(callback) {\n",
       "        if (callback != null)\n",
       "          callback();\n",
       "      });\n",
       "    } finally {\n",
       "      delete root._bokeh_onload_callbacks\n",
       "    }\n",
       "    console.debug(\"Bokeh: all callbacks have finished\");\n",
       "  }\n",
       "\n",
       "  function load_libs(css_urls, js_urls, callback) {\n",
       "    if (css_urls == null) css_urls = [];\n",
       "    if (js_urls == null) js_urls = [];\n",
       "\n",
       "    root._bokeh_onload_callbacks.push(callback);\n",
       "    if (root._bokeh_is_loading > 0) {\n",
       "      console.debug(\"Bokeh: BokehJS is being loaded, scheduling callback at\", now());\n",
       "      return null;\n",
       "    }\n",
       "    if (js_urls == null || js_urls.length === 0) {\n",
       "      run_callbacks();\n",
       "      return null;\n",
       "    }\n",
       "    console.debug(\"Bokeh: BokehJS not loaded, scheduling load and callback at\", now());\n",
       "    root._bokeh_is_loading = css_urls.length + js_urls.length;\n",
       "\n",
       "    function on_load() {\n",
       "      root._bokeh_is_loading--;\n",
       "      if (root._bokeh_is_loading === 0) {\n",
       "        console.debug(\"Bokeh: all BokehJS libraries/stylesheets loaded\");\n",
       "        run_callbacks()\n",
       "      }\n",
       "    }\n",
       "\n",
       "    function on_error(url) {\n",
       "      console.error(\"failed to load \" + url);\n",
       "    }\n",
       "\n",
       "    for (let i = 0; i < css_urls.length; i++) {\n",
       "      const url = css_urls[i];\n",
       "      const element = document.createElement(\"link\");\n",
       "      element.onload = on_load;\n",
       "      element.onerror = on_error.bind(null, url);\n",
       "      element.rel = \"stylesheet\";\n",
       "      element.type = \"text/css\";\n",
       "      element.href = url;\n",
       "      console.debug(\"Bokeh: injecting link tag for BokehJS stylesheet: \", url);\n",
       "      document.body.appendChild(element);\n",
       "    }\n",
       "\n",
       "    for (let i = 0; i < js_urls.length; i++) {\n",
       "      const url = js_urls[i];\n",
       "      const element = document.createElement('script');\n",
       "      element.onload = on_load;\n",
       "      element.onerror = on_error.bind(null, url);\n",
       "      element.async = false;\n",
       "      element.src = url;\n",
       "      console.debug(\"Bokeh: injecting script tag for BokehJS library: \", url);\n",
       "      document.head.appendChild(element);\n",
       "    }\n",
       "  };\n",
       "\n",
       "  function inject_raw_css(css) {\n",
       "    const element = document.createElement(\"style\");\n",
       "    element.appendChild(document.createTextNode(css));\n",
       "    document.body.appendChild(element);\n",
       "  }\n",
       "\n",
       "  const js_urls = [\"https://cdn.bokeh.org/bokeh/release/bokeh-3.5.2.min.js\", \"https://cdn.bokeh.org/bokeh/release/bokeh-gl-3.5.2.min.js\", \"https://cdn.bokeh.org/bokeh/release/bokeh-widgets-3.5.2.min.js\", \"https://cdn.bokeh.org/bokeh/release/bokeh-tables-3.5.2.min.js\", \"https://cdn.bokeh.org/bokeh/release/bokeh-mathjax-3.5.2.min.js\"];\n",
       "  const css_urls = [];\n",
       "\n",
       "  const inline_js = [    function(Bokeh) {\n",
       "      Bokeh.set_log_level(\"info\");\n",
       "    },\n",
       "function(Bokeh) {\n",
       "    }\n",
       "  ];\n",
       "\n",
       "  function run_inline_js() {\n",
       "    if (root.Bokeh !== undefined || force === true) {\n",
       "      try {\n",
       "            for (let i = 0; i < inline_js.length; i++) {\n",
       "      inline_js[i].call(root, root.Bokeh);\n",
       "    }\n",
       "\n",
       "      } catch (error) {throw error;\n",
       "      }} else if (Date.now() < root._bokeh_timeout) {\n",
       "      setTimeout(run_inline_js, 100);\n",
       "    } else if (!root._bokeh_failed_load) {\n",
       "      console.log(\"Bokeh: BokehJS failed to load within specified timeout.\");\n",
       "      root._bokeh_failed_load = true;\n",
       "    } else if (force !== true) {\n",
       "      const cell = $(document.getElementById(null)).parents('.cell').data().cell;\n",
       "      cell.output_area.append_execute_result(NB_LOAD_WARNING)\n",
       "    }\n",
       "  }\n",
       "\n",
       "  if (root._bokeh_is_loading === 0) {\n",
       "    console.debug(\"Bokeh: BokehJS loaded, going straight to plotting\");\n",
       "    run_inline_js();\n",
       "  } else {\n",
       "    load_libs(css_urls, js_urls, function() {\n",
       "      console.debug(\"Bokeh: BokehJS plotting callback run at\", now());\n",
       "      run_inline_js();\n",
       "    });\n",
       "  }\n",
       "}(window));"
      ],
      "application/vnd.bokehjs_load.v0+json": "'use strict';\n(function(root) {\n  function now() {\n    return new Date();\n  }\n\n  const force = true;\n\n  if (typeof root._bokeh_onload_callbacks === \"undefined\" || force === true) {\n    root._bokeh_onload_callbacks = [];\n    root._bokeh_is_loading = undefined;\n  }\n\n\n  if (typeof (root._bokeh_timeout) === \"undefined\" || force === true) {\n    root._bokeh_timeout = Date.now() + 5000;\n    root._bokeh_failed_load = false;\n  }\n\n  const NB_LOAD_WARNING = {'data': {'text/html':\n     \"<div style='background-color: #fdd'>\\n\"+\n     \"<p>\\n\"+\n     \"BokehJS does not appear to have successfully loaded. If loading BokehJS from CDN, this \\n\"+\n     \"may be due to a slow or bad network connection. Possible fixes:\\n\"+\n     \"</p>\\n\"+\n     \"<ul>\\n\"+\n     \"<li>re-rerun `output_notebook()` to attempt to load from CDN again, or</li>\\n\"+\n     \"<li>use INLINE resources instead, as so:</li>\\n\"+\n     \"</ul>\\n\"+\n     \"<code>\\n\"+\n     \"from bokeh.resources import INLINE\\n\"+\n     \"output_notebook(resources=INLINE)\\n\"+\n     \"</code>\\n\"+\n     \"</div>\"}};\n\n  function display_loaded(error = null) {\n    const el = document.getElementById(null);\n    if (el != null) {\n      const html = (() => {\n        if (typeof root.Bokeh === \"undefined\") {\n          if (error == null) {\n            return \"BokehJS is loading ...\";\n          } else {\n            return \"BokehJS failed to load.\";\n          }\n        } else {\n          const prefix = `BokehJS ${root.Bokeh.version}`;\n          if (error == null) {\n            return `${prefix} successfully loaded.`;\n          } else {\n            return `${prefix} <b>encountered errors</b> while loading and may not function as expected.`;\n          }\n        }\n      })();\n      el.innerHTML = html;\n\n      if (error != null) {\n        const wrapper = document.createElement(\"div\");\n        wrapper.style.overflow = \"auto\";\n        wrapper.style.height = \"5em\";\n        wrapper.style.resize = \"vertical\";\n        const content = document.createElement(\"div\");\n        content.style.fontFamily = \"monospace\";\n        content.style.whiteSpace = \"pre-wrap\";\n        content.style.backgroundColor = \"rgb(255, 221, 221)\";\n        content.textContent = error.stack ?? error.toString();\n        wrapper.append(content);\n        el.append(wrapper);\n      }\n    } else if (Date.now() < root._bokeh_timeout) {\n      setTimeout(() => display_loaded(error), 100);\n    }\n  }\n\n  function run_callbacks() {\n    try {\n      root._bokeh_onload_callbacks.forEach(function(callback) {\n        if (callback != null)\n          callback();\n      });\n    } finally {\n      delete root._bokeh_onload_callbacks\n    }\n    console.debug(\"Bokeh: all callbacks have finished\");\n  }\n\n  function load_libs(css_urls, js_urls, callback) {\n    if (css_urls == null) css_urls = [];\n    if (js_urls == null) js_urls = [];\n\n    root._bokeh_onload_callbacks.push(callback);\n    if (root._bokeh_is_loading > 0) {\n      console.debug(\"Bokeh: BokehJS is being loaded, scheduling callback at\", now());\n      return null;\n    }\n    if (js_urls == null || js_urls.length === 0) {\n      run_callbacks();\n      return null;\n    }\n    console.debug(\"Bokeh: BokehJS not loaded, scheduling load and callback at\", now());\n    root._bokeh_is_loading = css_urls.length + js_urls.length;\n\n    function on_load() {\n      root._bokeh_is_loading--;\n      if (root._bokeh_is_loading === 0) {\n        console.debug(\"Bokeh: all BokehJS libraries/stylesheets loaded\");\n        run_callbacks()\n      }\n    }\n\n    function on_error(url) {\n      console.error(\"failed to load \" + url);\n    }\n\n    for (let i = 0; i < css_urls.length; i++) {\n      const url = css_urls[i];\n      const element = document.createElement(\"link\");\n      element.onload = on_load;\n      element.onerror = on_error.bind(null, url);\n      element.rel = \"stylesheet\";\n      element.type = \"text/css\";\n      element.href = url;\n      console.debug(\"Bokeh: injecting link tag for BokehJS stylesheet: \", url);\n      document.body.appendChild(element);\n    }\n\n    for (let i = 0; i < js_urls.length; i++) {\n      const url = js_urls[i];\n      const element = document.createElement('script');\n      element.onload = on_load;\n      element.onerror = on_error.bind(null, url);\n      element.async = false;\n      element.src = url;\n      console.debug(\"Bokeh: injecting script tag for BokehJS library: \", url);\n      document.head.appendChild(element);\n    }\n  };\n\n  function inject_raw_css(css) {\n    const element = document.createElement(\"style\");\n    element.appendChild(document.createTextNode(css));\n    document.body.appendChild(element);\n  }\n\n  const js_urls = [\"https://cdn.bokeh.org/bokeh/release/bokeh-3.5.2.min.js\", \"https://cdn.bokeh.org/bokeh/release/bokeh-gl-3.5.2.min.js\", \"https://cdn.bokeh.org/bokeh/release/bokeh-widgets-3.5.2.min.js\", \"https://cdn.bokeh.org/bokeh/release/bokeh-tables-3.5.2.min.js\", \"https://cdn.bokeh.org/bokeh/release/bokeh-mathjax-3.5.2.min.js\"];\n  const css_urls = [];\n\n  const inline_js = [    function(Bokeh) {\n      Bokeh.set_log_level(\"info\");\n    },\nfunction(Bokeh) {\n    }\n  ];\n\n  function run_inline_js() {\n    if (root.Bokeh !== undefined || force === true) {\n      try {\n            for (let i = 0; i < inline_js.length; i++) {\n      inline_js[i].call(root, root.Bokeh);\n    }\n\n      } catch (error) {throw error;\n      }} else if (Date.now() < root._bokeh_timeout) {\n      setTimeout(run_inline_js, 100);\n    } else if (!root._bokeh_failed_load) {\n      console.log(\"Bokeh: BokehJS failed to load within specified timeout.\");\n      root._bokeh_failed_load = true;\n    } else if (force !== true) {\n      const cell = $(document.getElementById(null)).parents('.cell').data().cell;\n      cell.output_area.append_execute_result(NB_LOAD_WARNING)\n    }\n  }\n\n  if (root._bokeh_is_loading === 0) {\n    console.debug(\"Bokeh: BokehJS loaded, going straight to plotting\");\n    run_inline_js();\n  } else {\n    load_libs(css_urls, js_urls, function() {\n      console.debug(\"Bokeh: BokehJS plotting callback run at\", now());\n      run_inline_js();\n    });\n  }\n}(window));"
     },
     "metadata": {},
     "output_type": "display_data"
    }
   ],
   "source": [
    "from collections import namedtuple\n",
    "from copy import deepcopy\n",
    "\n",
    "from ssscoring.calc import aggregateResults\n",
    "from ssscoring.calc import convertFlySight2SSScoring\n",
    "from ssscoring.calc import dropNonSkydiveDataFrom\n",
    "from ssscoring.calc import getSpeedSkydiveFrom\n",
    "from ssscoring.calc import isValidJump\n",
    "from ssscoring.calc import isValidMinimumAltitude\n",
    "from ssscoring.calc import jumpAnalysisTable\n",
    "from ssscoring.calc import processAllJumpFiles\n",
    "from ssscoring.calc import roundedAggregateResults\n",
    "from ssscoring.calc import totalResultsFrom\n",
    "from ssscoring.constants import BREAKOFF_ALTITUDE\n",
    "from ssscoring.constants import FT_IN_M\n",
    "from ssscoring.constants import PERFORMANCE_WINDOW_LENGTH\n",
    "from ssscoring.flysight import getAllSpeedJumpFilesFrom\n",
    "from ssscoring.flysight import validFlySightHeaderIn\n",
    "from ssscoring.notebook import SPEED_COLORS\n",
    "from ssscoring.notebook import graphAltitude\n",
    "from ssscoring.notebook import graphAngle\n",
    "from ssscoring.notebook import graphJumpResult\n",
    "from ssscoring.notebook import initializeExtraYRanges\n",
    "from ssscoring.notebook import initializePlot\n",
    "\n",
    "import csv\n",
    "import os\n",
    "import os.path as path\n",
    "\n",
    "import bokeh.plotting as bp\n",
    "import bokeh.models as bm\n",
    "import ipywidgets as widgets\n",
    "import pandas as pd"
   ]
  },
  {
   "cell_type": "code",
   "execution_count": 3,
   "id": "ef1d2bf0-eaf3-4d78-b6c0-fb1bb4ed10f1",
   "metadata": {},
   "outputs": [],
   "source": [
    "DATA_LAKE_ROOT = './data'"
   ]
  },
  {
   "cell_type": "markdown",
   "id": "d52db03d-d83b-4af3-9137-3011537e5ed8",
   "metadata": {},
   "source": [
    "---\n",
    "## <span style=\"color: yellow\">IMPORTANT</span> - Set the drop zone altitude MSL\n",
    "\n",
    "Set the value in ft (even though SSScoring uses meters) out of convenience because all DZs in the US, many in Asia and Mexico, and many in Europe express the altitude in feet.\n",
    "\n",
    "### Some DZs\n",
    "\n",
    "| Drop zone | Alt (ft) |\n",
    "|-----------|----------|\n",
    "| Bay Area Skydiving | 23 |\n",
    "| Paraclete XP| 304 |\n",
    "| SkyDance SkyDiving | 100 |\n",
    "| Skydive Arizona | 1509 |\n",
    "| Skydive Chicago | 616 |\n",
    "| Thai Sky Adventures | 21 |"
   ]
  },
  {
   "cell_type": "code",
   "execution_count": 4,
   "id": "5c95013a-4aa3-4a5e-9493-b945ead10ced",
   "metadata": {},
   "outputs": [],
   "source": [
    "dropZoneAltMSL = 23\n",
    "ignoreBaseline = False # Set to False to evaluate any baseline tracks present in the data lake."
   ]
  },
  {
   "cell_type": "code",
   "execution_count": 5,
   "id": "1f091813-03b0-45bc-a30e-704fac7f968a",
   "metadata": {
    "jupyter": {
     "source_hidden": true
    }
   },
   "outputs": [
    {
     "data": {
      "application/vnd.jupyter.widget-view+json": {
       "model_id": "fdb9bac175e94399bb60a4717041de63",
       "version_major": 2,
       "version_minor": 0
      },
      "text/plain": [
       "HTML(value='<h2>DZ Altitude = <span style = \"color: green\">  23.00 ft</span> (   7.01 m)<h1>')"
      ]
     },
     "metadata": {},
     "output_type": "display_data"
    }
   ],
   "source": [
    "dropZoneAltMSLMeters = dropZoneAltMSL/FT_IN_M\n",
    "display(widgets.HTML('<h2>DZ Altitude = <span style = \"color: green\">%7.2f ft</span> (%7.2f m)<h1>' % (dropZoneAltMSL, dropZoneAltMSLMeters)))"
   ]
  },
  {
   "cell_type": "code",
   "execution_count": 6,
   "id": "b1273b5c-44c1-46c2-a125-d01ad9268a1a",
   "metadata": {},
   "outputs": [],
   "source": [
    "jumpFiles = getAllSpeedJumpFilesFrom(DATA_LAKE_ROOT)"
   ]
  },
  {
   "cell_type": "code",
   "execution_count": 7,
   "id": "53a5fe5a-dd39-40d3-bfbf-d7048374e4ea",
   "metadata": {
    "jupyter": {
     "source_hidden": true
    }
   },
   "outputs": [],
   "source": [
    "%%capture warnings\n",
    "jumpResults = processAllJumpFiles(jumpFiles, altitudeDZMeters = dropZoneAltMSLMeters)"
   ]
  },
  {
   "cell_type": "markdown",
   "id": "797ab0ec-d5e0-4a3b-aa57-eee431bb9824",
   "metadata": {},
   "source": [
    "### Air density\n",
    "\n",
    "**<a href='https://aviex.goflexair.com/blog/density-of-air-air-density' target='_blank'>Pilot's Guide to Air Density</a>** - A useful guide with calculations, lots of information.\n",
    "\n",
    "![](https://ciurana.eu/personal/air-density-partial-table.png)"
   ]
  },
  {
   "cell_type": "markdown",
   "id": "d80518ef-f197-4e40-a74e-8089eecb725a",
   "metadata": {},
   "source": [
    "---\n",
    "## Results"
   ]
  },
  {
   "cell_type": "code",
   "execution_count": 8,
   "id": "27c12cb1-2f60-44c9-b8fa-998b3df9d878",
   "metadata": {},
   "outputs": [
    {
     "data": {
      "text/html": [
       "<div>\n",
       "<style scoped>\n",
       "    .dataframe tbody tr th:only-of-type {\n",
       "        vertical-align: middle;\n",
       "    }\n",
       "\n",
       "    .dataframe tbody tr th {\n",
       "        vertical-align: top;\n",
       "    }\n",
       "\n",
       "    .dataframe thead th {\n",
       "        text-align: right;\n",
       "    }\n",
       "</style>\n",
       "<table border=\"1\" class=\"dataframe\">\n",
       "  <thead>\n",
       "    <tr style=\"text-align: right;\">\n",
       "      <th></th>\n",
       "      <th>score</th>\n",
       "      <th>5.0</th>\n",
       "      <th>10.0</th>\n",
       "      <th>15.0</th>\n",
       "      <th>20.0</th>\n",
       "      <th>25.0</th>\n",
       "      <th>finalTime</th>\n",
       "      <th>maxSpeed</th>\n",
       "    </tr>\n",
       "  </thead>\n",
       "  <tbody>\n",
       "    <tr>\n",
       "      <th>data 00-00-00-baseline-10-50-09:v1</th>\n",
       "      <td>493.77</td>\n",
       "      <td>182.556</td>\n",
       "      <td>332.892</td>\n",
       "      <td>431.028</td>\n",
       "      <td>482.184</td>\n",
       "      <td>493.848</td>\n",
       "      <td>24.2</td>\n",
       "      <td>495.108</td>\n",
       "    </tr>\n",
       "    <tr>\n",
       "      <th>data 11-24-53:v1</th>\n",
       "      <td>475.52</td>\n",
       "      <td>176.832</td>\n",
       "      <td>322.848</td>\n",
       "      <td>424.872</td>\n",
       "      <td>470.268</td>\n",
       "      <td>472.356</td>\n",
       "      <td>24.8</td>\n",
       "      <td>477.216</td>\n",
       "    </tr>\n",
       "    <tr>\n",
       "      <th>data 12-31-11:v1</th>\n",
       "      <td>482.39</td>\n",
       "      <td>181.188</td>\n",
       "      <td>325.800</td>\n",
       "      <td>423.108</td>\n",
       "      <td>473.796</td>\n",
       "      <td>480.852</td>\n",
       "      <td>24.4</td>\n",
       "      <td>482.616</td>\n",
       "    </tr>\n",
       "  </tbody>\n",
       "</table>\n",
       "</div>"
      ],
      "text/plain": [
       "                                     score      5.0     10.0     15.0  \\\n",
       "data 00-00-00-baseline-10-50-09:v1  493.77  182.556  332.892  431.028   \n",
       "data 11-24-53:v1                    475.52  176.832  322.848  424.872   \n",
       "data 12-31-11:v1                    482.39  181.188  325.800  423.108   \n",
       "\n",
       "                                       20.0     25.0  finalTime  maxSpeed  \n",
       "data 00-00-00-baseline-10-50-09:v1  482.184  493.848       24.2   495.108  \n",
       "data 11-24-53:v1                    470.268  472.356       24.8   477.216  \n",
       "data 12-31-11:v1                    473.796  480.852       24.4   482.616  "
      ]
     },
     "metadata": {},
     "output_type": "display_data"
    }
   ],
   "source": [
    "aggregate = aggregateResults(jumpResults)\n",
    "if ignoreBaseline:\n",
    "    aggregate = aggregate[~aggregate.index.str.contains('baseline')]\n",
    "sumResults = totalResultsFrom(aggregate)\n",
    "display(aggregate)"
   ]
  },
  {
   "cell_type": "markdown",
   "id": "3fa8c207-b9cf-4275-ba37-5103e1b324a9",
   "metadata": {},
   "source": [
    "### Rounded results for training log"
   ]
  },
  {
   "cell_type": "code",
   "execution_count": 9,
   "id": "e2bfbc21-3121-436a-904f-547edb0f2d0c",
   "metadata": {},
   "outputs": [],
   "source": [
    "roundedResults = roundedAggregateResults(aggregate)"
   ]
  },
  {
   "cell_type": "markdown",
   "id": "faf1396d-1030-477e-9d87-5c167b61328f",
   "metadata": {},
   "source": [
    "### All jumps"
   ]
  },
  {
   "cell_type": "code",
   "execution_count": 10,
   "id": "5a0571fd-5a22-4dda-94aa-56a4f2c68098",
   "metadata": {
    "jupyter": {
     "source_hidden": true
    }
   },
   "outputs": [],
   "source": [
    "def dumpSimple(table: pd.DataFrame):\n",
    "    fileName = os.path.join(DATA_LAKE_ROOT, resultRef+'.tsv')\n",
    "    simpleTable = table.copy()\n",
    "    simpleTable = simpleTable.drop('speedAngle', axis = 1)\n",
    "    simpleTable.to_csv(fileName, sep = '\\t', index = False)"
   ]
  },
  {
   "cell_type": "code",
   "execution_count": 11,
   "id": "59ff50f6-4f29-4282-a55f-af524921af19",
   "metadata": {
    "jupyter": {
     "source_hidden": true
    }
   },
   "outputs": [],
   "source": [
    "def displayJumpDataIn(resultsTable: pd.DataFrame):\n",
    "    table = resultsTable.copy()\n",
    "    # Experimental\n",
    "    # For more information on the `interpolate` method and its options, see the [pandas documentation](https://pandas.pydata.org/pandas-docs/stable/reference/api/pandas.Series.interpolate.html).\n",
    "    # Additionally, you can also consider using other libraries like `scipy` which provides more advanced interpolation methods, such as `interp1d` or `griddata`. See the [scipy documentation](https://docs.scipy.org/doc/scipy/reference/interpolate.html) for more information.\n",
    "    table.vKMh = table.vKMh.apply(round)\n",
    "    table.hKMh = table.hKMh.apply(round)\n",
    "    table['altitude (ft)'] = table['altitude (ft)'].apply(round)\n",
    "    table.netVectorKMh = table.netVectorKMh.apply(round)\n",
    "    table.index = ['']*len(table)\n",
    "    display(table)\n",
    "    # dumpSimple(table)"
   ]
  },
  {
   "cell_type": "code",
   "execution_count": 12,
   "id": "fe6156be-7071-47a7-bb7f-9724f6d4a3ac",
   "metadata": {
    "jupyter": {
     "source_hidden": true
    }
   },
   "outputs": [
    {
     "data": {
      "application/vnd.jupyter.widget-view+json": {
       "model_id": "dfeb56b1b5744eb280b933220bb02932",
       "version_major": 2,
       "version_minor": 0
      },
      "text/plain": [
       "HTML(value='<hr><h1><span style=\"color: #0f0\">data 00-00-00-baseline-10-50-09:v1 jump - 🟢 valid - score = 493.…"
      ]
     },
     "metadata": {},
     "output_type": "display_data"
    },
    {
     "data": {
      "application/vnd.jupyter.widget-view+json": {
       "model_id": "216e3b59ef844e67bb1a516fae7360fa",
       "version_major": 2,
       "version_minor": 0
      },
      "text/plain": [
       "HTML(value='<h3>Max speed = 495; exit at 4234 m (13893 ft), end scoring window at 1978 m (6491 ft)')"
      ]
     },
     "metadata": {},
     "output_type": "display_data"
    },
    {
     "data": {
      "application/vnd.jupyter.widget-view+json": {
       "model_id": "d33b4ce0eea44b8b80f7d955d6cd106f",
       "version_major": 2,
       "version_minor": 0
      },
      "text/plain": [
       "HTML(value='</h3>')"
      ]
     },
     "metadata": {},
     "output_type": "display_data"
    },
    {
     "data": {
      "text/html": [
       "<div>\n",
       "<style scoped>\n",
       "    .dataframe tbody tr th:only-of-type {\n",
       "        vertical-align: middle;\n",
       "    }\n",
       "\n",
       "    .dataframe tbody tr th {\n",
       "        vertical-align: top;\n",
       "    }\n",
       "\n",
       "    .dataframe thead th {\n",
       "        text-align: right;\n",
       "    }\n",
       "</style>\n",
       "<table border=\"1\" class=\"dataframe\">\n",
       "  <thead>\n",
       "    <tr style=\"text-align: right;\">\n",
       "      <th></th>\n",
       "      <th>time</th>\n",
       "      <th>vKMh</th>\n",
       "      <th>hKMh</th>\n",
       "      <th>speedAngle</th>\n",
       "      <th>distanceFromExit (m)</th>\n",
       "      <th>altitude (ft)</th>\n",
       "      <th>netVectorKMh</th>\n",
       "    </tr>\n",
       "  </thead>\n",
       "  <tbody>\n",
       "    <tr>\n",
       "      <th></th>\n",
       "      <td>5.0</td>\n",
       "      <td>183</td>\n",
       "      <td>154</td>\n",
       "      <td>49.91</td>\n",
       "      <td>252.04</td>\n",
       "      <td>13462</td>\n",
       "      <td>239</td>\n",
       "    </tr>\n",
       "    <tr>\n",
       "      <th></th>\n",
       "      <td>10.0</td>\n",
       "      <td>333</td>\n",
       "      <td>109</td>\n",
       "      <td>71.91</td>\n",
       "      <td>432.42</td>\n",
       "      <td>12235</td>\n",
       "      <td>350</td>\n",
       "    </tr>\n",
       "    <tr>\n",
       "      <th></th>\n",
       "      <td>15.0</td>\n",
       "      <td>431</td>\n",
       "      <td>62</td>\n",
       "      <td>81.86</td>\n",
       "      <td>547.29</td>\n",
       "      <td>10505</td>\n",
       "      <td>435</td>\n",
       "    </tr>\n",
       "    <tr>\n",
       "      <th></th>\n",
       "      <td>20.0</td>\n",
       "      <td>482</td>\n",
       "      <td>14</td>\n",
       "      <td>88.29</td>\n",
       "      <td>593.79</td>\n",
       "      <td>8402</td>\n",
       "      <td>482</td>\n",
       "    </tr>\n",
       "    <tr>\n",
       "      <th></th>\n",
       "      <td>25.0</td>\n",
       "      <td>494</td>\n",
       "      <td>9</td>\n",
       "      <td>88.91</td>\n",
       "      <td>590.15</td>\n",
       "      <td>6519</td>\n",
       "      <td>494</td>\n",
       "    </tr>\n",
       "  </tbody>\n",
       "</table>\n",
       "</div>"
      ],
      "text/plain": [
       "  time  vKMh  hKMh  speedAngle  distanceFromExit (m)  altitude (ft)  \\\n",
       "   5.0   183   154       49.91                252.04          13462   \n",
       "  10.0   333   109       71.91                432.42          12235   \n",
       "  15.0   431    62       81.86                547.29          10505   \n",
       "  20.0   482    14       88.29                593.79           8402   \n",
       "  25.0   494     9       88.91                590.15           6519   \n",
       "\n",
       "  netVectorKMh  \n",
       "           239  \n",
       "           350  \n",
       "           435  \n",
       "           482  \n",
       "           494  "
      ]
     },
     "metadata": {},
     "output_type": "display_data"
    },
    {
     "data": {
      "text/html": [
       "\n",
       "  <div id=\"f6f8e57f-b35a-449f-a737-65c14ba35ba4\" data-root-id=\"p1038\" style=\"display: contents;\"></div>\n"
      ]
     },
     "metadata": {},
     "output_type": "display_data"
    },
    {
     "data": {
      "application/javascript": [
       "(function(root) {\n",
       "  function embed_document(root) {\n",
       "  const docs_json = {\"8d4954f1-4f83-4590-92fd-fb39b9aeeb72\":{\"version\":\"3.5.2\",\"title\":\"Bokeh Application\",\"roots\":[{\"type\":\"object\",\"name\":\"Figure\",\"id\":\"p1038\",\"attributes\":{\"width\":900,\"height\":500,\"x_range\":{\"type\":\"object\",\"name\":\"Range1d\",\"id\":\"p1048\",\"attributes\":{\"end\":35.0}},\"y_range\":{\"type\":\"object\",\"name\":\"Range1d\",\"id\":\"p1049\",\"attributes\":{\"end\":550.0}},\"x_scale\":{\"type\":\"object\",\"name\":\"LinearScale\",\"id\":\"p1050\"},\"y_scale\":{\"type\":\"object\",\"name\":\"LinearScale\",\"id\":\"p1051\"},\"extra_y_ranges\":{\"type\":\"map\",\"entries\":[[\"altitudeFt\",{\"type\":\"object\",\"name\":\"Range1d\",\"id\":\"p1075\",\"attributes\":{\"start\":6019.40732,\"end\":14393.0086008}}],[\"angle\",{\"type\":\"object\",\"name\":\"Range1d\",\"id\":\"p1076\",\"attributes\":{\"end\":90.0}}]]},\"title\":{\"type\":\"object\",\"name\":\"Title\",\"id\":\"p1041\",\"attributes\":{\"text\":\"data 00-00-00-baseline-10-50-09:v1\",\"text_color\":\"#E0E0E0\",\"text_font\":\"Helvetica\",\"text_font_size\":\"1.15em\"}},\"outline_line_color\":\"#E0E0E0\",\"outline_line_alpha\":0.25,\"renderers\":[{\"type\":\"object\",\"name\":\"GlyphRenderer\",\"id\":\"p1091\",\"attributes\":{\"y_range_name\":\"altitudeFt\",\"data_source\":{\"type\":\"object\",\"name\":\"ColumnDataSource\",\"id\":\"p1085\",\"attributes\":{\"selected\":{\"type\":\"object\",\"name\":\"Selection\",\"id\":\"p1086\",\"attributes\":{\"indices\":[],\"line_indices\":[]}},\"selection_policy\":{\"type\":\"object\",\"name\":\"UnionRenderers\",\"id\":\"p1087\"},\"data\":{\"type\":\"map\",\"entries\":[[\"x\",{\"type\":\"ndarray\",\"array\":{\"type\":\"bytes\",\"data\":\"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\"},\"shape\":[199],\"dtype\":\"float64\",\"order\":\"little\"}],[\"y\",{\"type\":\"ndarray\",\"array\":{\"type\":\"bytes\",\"data\":\"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\"},\"shape\":[199],\"dtype\":\"float64\",\"order\":\"little\"}]]}}},\"view\":{\"type\":\"object\",\"name\":\"CDSView\",\"id\":\"p1092\",\"attributes\":{\"filter\":{\"type\":\"object\",\"name\":\"AllIndices\",\"id\":\"p1093\"}}},\"glyph\":{\"type\":\"object\",\"name\":\"Line\",\"id\":\"p1088\",\"attributes\":{\"x\":{\"type\":\"field\",\"field\":\"x\"},\"y\":{\"type\":\"field\",\"field\":\"y\"},\"line_color\":\"palegoldenrod\",\"line_width\":2}},\"nonselection_glyph\":{\"type\":\"object\",\"name\":\"Line\",\"id\":\"p1089\",\"attributes\":{\"x\":{\"type\":\"field\",\"field\":\"x\"},\"y\":{\"type\":\"field\",\"field\":\"y\"},\"line_color\":\"palegoldenrod\",\"line_alpha\":0.1,\"line_width\":2}},\"muted_glyph\":{\"type\":\"object\",\"name\":\"Line\",\"id\":\"p1090\",\"attributes\":{\"x\":{\"type\":\"field\",\"field\":\"x\"},\"y\":{\"type\":\"field\",\"field\":\"y\"},\"line_color\":\"palegoldenrod\",\"line_alpha\":0.2,\"line_width\":2}}}},{\"type\":\"object\",\"name\":\"GlyphRenderer\",\"id\":\"p1102\",\"attributes\":{\"y_range_name\":\"angle\",\"data_source\":{\"type\":\"object\",\"name\":\"ColumnDataSource\",\"id\":\"p1096\",\"attributes\":{\"selected\":{\"type\":\"object\",\"name\":\"Selection\",\"id\":\"p1097\",\"attributes\":{\"indices\":[],\"line_indices\":[]}},\"selection_policy\":{\"type\":\"object\",\"name\":\"UnionRenderers\",\"id\":\"p1098\"},\"data\":{\"type\":\"map\",\"entries\":[[\"x\",{\"type\":\"ndarray\",\"array\":{\"type\":\"bytes\",\"data\":\"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\"},\"shape\":[199],\"dtype\":\"float64\",\"order\":\"little\"}],[\"y\",{\"type\":\"ndarray\",\"array\":{\"type\":\"bytes\",\"data\":\"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\"},\"shape\":[199],\"dtype\":\"float64\",\"order\":\"little\"}]]}}},\"view\":{\"type\":\"object\",\"name\":\"CDSView\",\"id\":\"p1103\",\"attributes\":{\"filter\":{\"type\":\"object\",\"name\":\"AllIndices\",\"id\":\"p1104\"}}},\"glyph\":{\"type\":\"object\",\"name\":\"Line\",\"id\":\"p1099\",\"attributes\":{\"x\":{\"type\":\"field\",\"field\":\"x\"},\"y\":{\"type\":\"field\",\"field\":\"y\"},\"line_color\":\"deepskyblue\",\"line_width\":2}},\"nonselection_glyph\":{\"type\":\"object\",\"name\":\"Line\",\"id\":\"p1100\",\"attributes\":{\"x\":{\"type\":\"field\",\"field\":\"x\"},\"y\":{\"type\":\"field\",\"field\":\"y\"},\"line_color\":\"deepskyblue\",\"line_alpha\":0.1,\"line_width\":2}},\"muted_glyph\":{\"type\":\"object\",\"name\":\"Line\",\"id\":\"p1101\",\"attributes\":{\"x\":{\"type\":\"field\",\"field\":\"x\"},\"y\":{\"type\":\"field\",\"field\":\"y\"},\"line_color\":\"deepskyblue\",\"line_alpha\":0.2,\"line_width\":2}}}},{\"type\":\"object\",\"name\":\"GlyphRenderer\",\"id\":\"p1113\",\"attributes\":{\"data_source\":{\"type\":\"object\",\"name\":\"ColumnDataSource\",\"id\":\"p1107\",\"attributes\":{\"selected\":{\"type\":\"object\",\"name\":\"Selection\",\"id\":\"p1108\",\"attributes\":{\"indices\":[],\"line_indices\":[]}},\"selection_policy\":{\"type\":\"object\",\"name\":\"UnionRenderers\",\"id\":\"p1109\"},\"data\":{\"type\":\"map\",\"entries\":[[\"x\",{\"type\":\"ndarray\",\"array\":{\"type\":\"bytes\",\"data\":\"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\"},\"shape\":[199],\"dtype\":\"float64\",\"order\":\"little\"}],[\"y\",{\"type\":\"ndarray\",\"array\":{\"type\":\"bytes\",\"data\":\"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\"},\"shape\":[199],\"dtype\":\"float64\",\"order\":\"little\"}]]}}},\"view\":{\"type\":\"object\",\"name\":\"CDSView\",\"id\":\"p1114\",\"attributes\":{\"filter\":{\"type\":\"object\",\"name\":\"AllIndices\",\"id\":\"p1115\"}}},\"glyph\":{\"type\":\"object\",\"name\":\"Line\",\"id\":\"p1110\",\"attributes\":{\"x\":{\"type\":\"field\",\"field\":\"x\"},\"y\":{\"type\":\"field\",\"field\":\"y\"},\"line_color\":\"limegreen\",\"line_width\":2}},\"nonselection_glyph\":{\"type\":\"object\",\"name\":\"Line\",\"id\":\"p1111\",\"attributes\":{\"x\":{\"type\":\"field\",\"field\":\"x\"},\"y\":{\"type\":\"field\",\"field\":\"y\"},\"line_color\":\"limegreen\",\"line_alpha\":0.1,\"line_width\":2}},\"muted_glyph\":{\"type\":\"object\",\"name\":\"Line\",\"id\":\"p1112\",\"attributes\":{\"x\":{\"type\":\"field\",\"field\":\"x\"},\"y\":{\"type\":\"field\",\"field\":\"y\"},\"line_color\":\"limegreen\",\"line_alpha\":0.2,\"line_width\":2}}}},{\"type\":\"object\",\"name\":\"GlyphRenderer\",\"id\":\"p1123\",\"attributes\":{\"data_source\":{\"type\":\"object\",\"name\":\"ColumnDataSource\",\"id\":\"p1117\",\"attributes\":{\"selected\":{\"type\":\"object\",\"name\":\"Selection\",\"id\":\"p1118\",\"attributes\":{\"indices\":[],\"line_indices\":[]}},\"selection_policy\":{\"type\":\"object\",\"name\":\"UnionRenderers\",\"id\":\"p1119\"},\"data\":{\"type\":\"map\",\"entries\":[[\"x\",{\"type\":\"ndarray\",\"array\":{\"type\":\"bytes\",\"data\":\"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\"},\"shape\":[199],\"dtype\":\"float64\",\"order\":\"little\"}],[\"y\",{\"type\":\"ndarray\",\"array\":{\"type\":\"bytes\",\"data\":\"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\"},\"shape\":[199],\"dtype\":\"float64\",\"order\":\"little\"}]]}}},\"view\":{\"type\":\"object\",\"name\":\"CDSView\",\"id\":\"p1124\",\"attributes\":{\"filter\":{\"type\":\"object\",\"name\":\"AllIndices\",\"id\":\"p1125\"}}},\"glyph\":{\"type\":\"object\",\"name\":\"Line\",\"id\":\"p1120\",\"attributes\":{\"x\":{\"type\":\"field\",\"field\":\"x\"},\"y\":{\"type\":\"field\",\"field\":\"y\"},\"line_color\":\"red\",\"line_width\":2}},\"nonselection_glyph\":{\"type\":\"object\",\"name\":\"Line\",\"id\":\"p1121\",\"attributes\":{\"x\":{\"type\":\"field\",\"field\":\"x\"},\"y\":{\"type\":\"field\",\"field\":\"y\"},\"line_color\":\"red\",\"line_alpha\":0.1,\"line_width\":2}},\"muted_glyph\":{\"type\":\"object\",\"name\":\"Line\",\"id\":\"p1122\",\"attributes\":{\"x\":{\"type\":\"field\",\"field\":\"x\"},\"y\":{\"type\":\"field\",\"field\":\"y\"},\"line_color\":\"red\",\"line_alpha\":0.2,\"line_width\":2}}}},{\"type\":\"object\",\"name\":\"GlyphRenderer\",\"id\":\"p1133\",\"attributes\":{\"data_source\":{\"type\":\"object\",\"name\":\"ColumnDataSource\",\"id\":\"p1127\",\"attributes\":{\"selected\":{\"type\":\"object\",\"name\":\"Selection\",\"id\":\"p1128\",\"attributes\":{\"indices\":[],\"line_indices\":[]}},\"selection_policy\":{\"type\":\"object\",\"name\":\"UnionRenderers\",\"id\":\"p1129\"},\"data\":{\"type\":\"map\",\"entries\":[[\"x0\",[21.1]],[\"y0\",[0.0]],[\"x1\",[21.1]],[\"y1\",[493.77]]]}}},\"view\":{\"type\":\"object\",\"name\":\"CDSView\",\"id\":\"p1134\",\"attributes\":{\"filter\":{\"type\":\"object\",\"name\":\"AllIndices\",\"id\":\"p1135\"}}},\"glyph\":{\"type\":\"object\",\"name\":\"Segment\",\"id\":\"p1130\",\"attributes\":{\"x0\":{\"type\":\"field\",\"field\":\"x0\"},\"y0\":{\"type\":\"field\",\"field\":\"y0\"},\"x1\":{\"type\":\"field\",\"field\":\"x1\"},\"y1\":{\"type\":\"field\",\"field\":\"y1\"},\"line_color\":{\"type\":\"value\",\"value\":\"lightblue\"},\"line_width\":{\"type\":\"value\",\"value\":3}}},\"nonselection_glyph\":{\"type\":\"object\",\"name\":\"Segment\",\"id\":\"p1131\",\"attributes\":{\"x0\":{\"type\":\"field\",\"field\":\"x0\"},\"y0\":{\"type\":\"field\",\"field\":\"y0\"},\"x1\":{\"type\":\"field\",\"field\":\"x1\"},\"y1\":{\"type\":\"field\",\"field\":\"y1\"},\"line_color\":{\"type\":\"value\",\"value\":\"lightblue\"},\"line_alpha\":{\"type\":\"value\",\"value\":0.1},\"line_width\":{\"type\":\"value\",\"value\":3}}},\"muted_glyph\":{\"type\":\"object\",\"name\":\"Segment\",\"id\":\"p1132\",\"attributes\":{\"x0\":{\"type\":\"field\",\"field\":\"x0\"},\"y0\":{\"type\":\"field\",\"field\":\"y0\"},\"x1\":{\"type\":\"field\",\"field\":\"x1\"},\"y1\":{\"type\":\"field\",\"field\":\"y1\"},\"line_color\":{\"type\":\"value\",\"value\":\"lightblue\"},\"line_alpha\":{\"type\":\"value\",\"value\":0.2},\"line_width\":{\"type\":\"value\",\"value\":3}}}}},{\"type\":\"object\",\"name\":\"GlyphRenderer\",\"id\":\"p1142\",\"attributes\":{\"data_source\":{\"type\":\"object\",\"name\":\"ColumnDataSource\",\"id\":\"p1136\",\"attributes\":{\"selected\":{\"type\":\"object\",\"name\":\"Selection\",\"id\":\"p1137\",\"attributes\":{\"indices\":[],\"line_indices\":[]}},\"selection_policy\":{\"type\":\"object\",\"name\":\"UnionRenderers\",\"id\":\"p1138\"},\"data\":{\"type\":\"map\",\"entries\":[[\"x0\",[22.6]],[\"y0\",[0.0]],[\"x1\",[22.6]],[\"y1\",[493.77]]]}}},\"view\":{\"type\":\"object\",\"name\":\"CDSView\",\"id\":\"p1143\",\"attributes\":{\"filter\":{\"type\":\"object\",\"name\":\"AllIndices\",\"id\":\"p1144\"}}},\"glyph\":{\"type\":\"object\",\"name\":\"Segment\",\"id\":\"p1139\",\"attributes\":{\"x0\":{\"type\":\"field\",\"field\":\"x0\"},\"y0\":{\"type\":\"field\",\"field\":\"y0\"},\"x1\":{\"type\":\"field\",\"field\":\"x1\"},\"y1\":{\"type\":\"field\",\"field\":\"y1\"},\"line_color\":{\"type\":\"value\",\"value\":\"darkseagreen\"}}},\"nonselection_glyph\":{\"type\":\"object\",\"name\":\"Segment\",\"id\":\"p1140\",\"attributes\":{\"x0\":{\"type\":\"field\",\"field\":\"x0\"},\"y0\":{\"type\":\"field\",\"field\":\"y0\"},\"x1\":{\"type\":\"field\",\"field\":\"x1\"},\"y1\":{\"type\":\"field\",\"field\":\"y1\"},\"line_color\":{\"type\":\"value\",\"value\":\"darkseagreen\"},\"line_alpha\":{\"type\":\"value\",\"value\":0.1}}},\"muted_glyph\":{\"type\":\"object\",\"name\":\"Segment\",\"id\":\"p1141\",\"attributes\":{\"x0\":{\"type\":\"field\",\"field\":\"x0\"},\"y0\":{\"type\":\"field\",\"field\":\"y0\"},\"x1\":{\"type\":\"field\",\"field\":\"x1\"},\"y1\":{\"type\":\"field\",\"field\":\"y1\"},\"line_color\":{\"type\":\"value\",\"value\":\"darkseagreen\"},\"line_alpha\":{\"type\":\"value\",\"value\":0.2}}}}},{\"type\":\"object\",\"name\":\"GlyphRenderer\",\"id\":\"p1151\",\"attributes\":{\"data_source\":{\"type\":\"object\",\"name\":\"ColumnDataSource\",\"id\":\"p1145\",\"attributes\":{\"selected\":{\"type\":\"object\",\"name\":\"Selection\",\"id\":\"p1146\",\"attributes\":{\"indices\":[],\"line_indices\":[]}},\"selection_policy\":{\"type\":\"object\",\"name\":\"UnionRenderers\",\"id\":\"p1147\"},\"data\":{\"type\":\"map\",\"entries\":[[\"x0\",[19.6]],[\"y0\",[0.0]],[\"x1\",[19.6]],[\"y1\",[493.77]]]}}},\"view\":{\"type\":\"object\",\"name\":\"CDSView\",\"id\":\"p1152\",\"attributes\":{\"filter\":{\"type\":\"object\",\"name\":\"AllIndices\",\"id\":\"p1153\"}}},\"glyph\":{\"type\":\"object\",\"name\":\"Segment\",\"id\":\"p1148\",\"attributes\":{\"x0\":{\"type\":\"field\",\"field\":\"x0\"},\"y0\":{\"type\":\"field\",\"field\":\"y0\"},\"x1\":{\"type\":\"field\",\"field\":\"x1\"},\"y1\":{\"type\":\"field\",\"field\":\"y1\"},\"line_color\":{\"type\":\"value\",\"value\":\"darkseagreen\"}}},\"nonselection_glyph\":{\"type\":\"object\",\"name\":\"Segment\",\"id\":\"p1149\",\"attributes\":{\"x0\":{\"type\":\"field\",\"field\":\"x0\"},\"y0\":{\"type\":\"field\",\"field\":\"y0\"},\"x1\":{\"type\":\"field\",\"field\":\"x1\"},\"y1\":{\"type\":\"field\",\"field\":\"y1\"},\"line_color\":{\"type\":\"value\",\"value\":\"darkseagreen\"},\"line_alpha\":{\"type\":\"value\",\"value\":0.1}}},\"muted_glyph\":{\"type\":\"object\",\"name\":\"Segment\",\"id\":\"p1150\",\"attributes\":{\"x0\":{\"type\":\"field\",\"field\":\"x0\"},\"y0\":{\"type\":\"field\",\"field\":\"y0\"},\"x1\":{\"type\":\"field\",\"field\":\"x1\"},\"y1\":{\"type\":\"field\",\"field\":\"y1\"},\"line_color\":{\"type\":\"value\",\"value\":\"darkseagreen\"},\"line_alpha\":{\"type\":\"value\",\"value\":0.2}}}}},{\"type\":\"object\",\"name\":\"GlyphRenderer\",\"id\":\"p1160\",\"attributes\":{\"data_source\":{\"type\":\"object\",\"name\":\"ColumnDataSource\",\"id\":\"p1154\",\"attributes\":{\"selected\":{\"type\":\"object\",\"name\":\"Selection\",\"id\":\"p1155\",\"attributes\":{\"indices\":[],\"line_indices\":[]}},\"selection_policy\":{\"type\":\"object\",\"name\":\"UnionRenderers\",\"id\":\"p1156\"},\"data\":{\"type\":\"map\",\"entries\":[[\"x\",[21.1]],[\"y\",[493.77]],[\"size\",[20]]]}}},\"view\":{\"type\":\"object\",\"name\":\"CDSView\",\"id\":\"p1161\",\"attributes\":{\"filter\":{\"type\":\"object\",\"name\":\"AllIndices\",\"id\":\"p1162\"}}},\"glyph\":{\"type\":\"object\",\"name\":\"Scatter\",\"id\":\"p1157\",\"attributes\":{\"x\":{\"type\":\"field\",\"field\":\"x\"},\"y\":{\"type\":\"field\",\"field\":\"y\"},\"size\":{\"type\":\"field\",\"field\":\"size\"},\"line_color\":{\"type\":\"value\",\"value\":\"lightblue\"},\"line_width\":{\"type\":\"value\",\"value\":3},\"fill_color\":{\"type\":\"value\",\"value\":null},\"marker\":{\"type\":\"value\",\"value\":\"square_cross\"}}},\"nonselection_glyph\":{\"type\":\"object\",\"name\":\"Scatter\",\"id\":\"p1158\",\"attributes\":{\"x\":{\"type\":\"field\",\"field\":\"x\"},\"y\":{\"type\":\"field\",\"field\":\"y\"},\"size\":{\"type\":\"field\",\"field\":\"size\"},\"line_color\":{\"type\":\"value\",\"value\":\"lightblue\"},\"line_alpha\":{\"type\":\"value\",\"value\":0.1},\"line_width\":{\"type\":\"value\",\"value\":3},\"fill_color\":{\"type\":\"value\",\"value\":null},\"fill_alpha\":{\"type\":\"value\",\"value\":0.1},\"hatch_alpha\":{\"type\":\"value\",\"value\":0.1},\"marker\":{\"type\":\"value\",\"value\":\"square_cross\"}}},\"muted_glyph\":{\"type\":\"object\",\"name\":\"Scatter\",\"id\":\"p1159\",\"attributes\":{\"x\":{\"type\":\"field\",\"field\":\"x\"},\"y\":{\"type\":\"field\",\"field\":\"y\"},\"size\":{\"type\":\"field\",\"field\":\"size\"},\"line_color\":{\"type\":\"value\",\"value\":\"lightblue\"},\"line_alpha\":{\"type\":\"value\",\"value\":0.2},\"line_width\":{\"type\":\"value\",\"value\":3},\"fill_color\":{\"type\":\"value\",\"value\":null},\"fill_alpha\":{\"type\":\"value\",\"value\":0.2},\"hatch_alpha\":{\"type\":\"value\",\"value\":0.2},\"marker\":{\"type\":\"value\",\"value\":\"square_cross\"}}}}}],\"toolbar\":{\"type\":\"object\",\"name\":\"Toolbar\",\"id\":\"p1047\",\"attributes\":{\"tools\":[{\"type\":\"object\",\"name\":\"PanTool\",\"id\":\"p1062\"},{\"type\":\"object\",\"name\":\"WheelZoomTool\",\"id\":\"p1063\",\"attributes\":{\"renderers\":\"auto\"}},{\"type\":\"object\",\"name\":\"BoxZoomTool\",\"id\":\"p1064\",\"attributes\":{\"overlay\":{\"type\":\"object\",\"name\":\"BoxAnnotation\",\"id\":\"p1065\",\"attributes\":{\"syncable\":false,\"line_color\":\"black\",\"line_alpha\":1.0,\"line_width\":2,\"line_dash\":[4,4],\"fill_color\":\"lightgrey\",\"fill_alpha\":0.5,\"level\":\"overlay\",\"visible\":false,\"left\":{\"type\":\"number\",\"value\":\"nan\"},\"right\":{\"type\":\"number\",\"value\":\"nan\"},\"top\":{\"type\":\"number\",\"value\":\"nan\"},\"bottom\":{\"type\":\"number\",\"value\":\"nan\"},\"left_units\":\"canvas\",\"right_units\":\"canvas\",\"top_units\":\"canvas\",\"bottom_units\":\"canvas\",\"handles\":{\"type\":\"object\",\"name\":\"BoxInteractionHandles\",\"id\":\"p1071\",\"attributes\":{\"all\":{\"type\":\"object\",\"name\":\"AreaVisuals\",\"id\":\"p1070\",\"attributes\":{\"fill_color\":\"white\",\"hover_fill_color\":\"lightgray\"}}}}}}}},{\"type\":\"object\",\"name\":\"SaveTool\",\"id\":\"p1072\"},{\"type\":\"object\",\"name\":\"ResetTool\",\"id\":\"p1073\"},{\"type\":\"object\",\"name\":\"HelpTool\",\"id\":\"p1074\"},{\"type\":\"object\",\"name\":\"HoverTool\",\"id\":\"p1106\",\"attributes\":{\"renderers\":\"auto\",\"tooltips\":[[\"Y-val\",\"@y{0.00}\"]]}}]}},\"left\":[{\"type\":\"object\",\"name\":\"LinearAxis\",\"id\":\"p1057\",\"attributes\":{\"ticker\":{\"type\":\"object\",\"name\":\"BasicTicker\",\"id\":\"p1058\",\"attributes\":{\"mantissas\":[1,2,5]}},\"formatter\":{\"type\":\"object\",\"name\":\"BasicTickFormatter\",\"id\":\"p1059\"},\"axis_label\":\"km/h\",\"axis_label_standoff\":10,\"axis_label_text_color\":\"#E0E0E0\",\"axis_label_text_font\":\"Helvetica\",\"axis_label_text_font_size\":\"1.25em\",\"axis_label_text_font_style\":\"normal\",\"major_label_policy\":{\"type\":\"object\",\"name\":\"AllLabels\",\"id\":\"p1060\"},\"major_label_text_color\":\"#E0E0E0\",\"major_label_text_font\":\"Helvetica\",\"major_label_text_font_size\":\"1.025em\",\"axis_line_color\":\"#E0E0E0\",\"axis_line_alpha\":0,\"major_tick_line_color\":\"#E0E0E0\",\"major_tick_line_alpha\":0,\"minor_tick_line_color\":\"#E0E0E0\",\"minor_tick_line_alpha\":0}},{\"type\":\"object\",\"name\":\"LinearAxis\",\"id\":\"p1077\",\"attributes\":{\"y_range_name\":\"altitudeFt\",\"ticker\":{\"type\":\"object\",\"name\":\"BasicTicker\",\"id\":\"p1078\",\"attributes\":{\"mantissas\":[1,2,5]}},\"formatter\":{\"type\":\"object\",\"name\":\"BasicTickFormatter\",\"id\":\"p1079\"},\"axis_label\":\"Alt (ft)\",\"axis_label_standoff\":10,\"axis_label_text_color\":\"#E0E0E0\",\"axis_label_text_font\":\"Helvetica\",\"axis_label_text_font_size\":\"1.25em\",\"axis_label_text_font_style\":\"normal\",\"major_label_policy\":{\"type\":\"object\",\"name\":\"AllLabels\",\"id\":\"p1080\"},\"major_label_text_color\":\"#E0E0E0\",\"major_label_text_font\":\"Helvetica\",\"major_label_text_font_size\":\"1.025em\",\"axis_line_color\":\"#E0E0E0\",\"axis_line_alpha\":0,\"major_tick_line_color\":\"#E0E0E0\",\"major_tick_line_alpha\":0,\"minor_tick_line_color\":\"#E0E0E0\",\"minor_tick_line_alpha\":0}},{\"type\":\"object\",\"name\":\"LinearAxis\",\"id\":\"p1081\",\"attributes\":{\"y_range_name\":\"angle\",\"ticker\":{\"type\":\"object\",\"name\":\"BasicTicker\",\"id\":\"p1082\",\"attributes\":{\"mantissas\":[1,2,5]}},\"formatter\":{\"type\":\"object\",\"name\":\"BasicTickFormatter\",\"id\":\"p1083\"},\"axis_label\":\"angle\",\"axis_label_standoff\":10,\"axis_label_text_color\":\"#E0E0E0\",\"axis_label_text_font\":\"Helvetica\",\"axis_label_text_font_size\":\"1.25em\",\"axis_label_text_font_style\":\"normal\",\"major_label_policy\":{\"type\":\"object\",\"name\":\"AllLabels\",\"id\":\"p1084\"},\"major_label_text_color\":\"#E0E0E0\",\"major_label_text_font\":\"Helvetica\",\"major_label_text_font_size\":\"1.025em\",\"axis_line_color\":\"#E0E0E0\",\"axis_line_alpha\":0,\"major_tick_line_color\":\"#E0E0E0\",\"major_tick_line_alpha\":0,\"minor_tick_line_color\":\"#E0E0E0\",\"minor_tick_line_alpha\":0}}],\"below\":[{\"type\":\"object\",\"name\":\"LinearAxis\",\"id\":\"p1052\",\"attributes\":{\"ticker\":{\"type\":\"object\",\"name\":\"BasicTicker\",\"id\":\"p1053\",\"attributes\":{\"mantissas\":[1,2,5]}},\"formatter\":{\"type\":\"object\",\"name\":\"BasicTickFormatter\",\"id\":\"p1054\"},\"axis_label\":\"seconds from exit\",\"axis_label_standoff\":10,\"axis_label_text_color\":\"#E0E0E0\",\"axis_label_text_font\":\"Helvetica\",\"axis_label_text_font_size\":\"1.25em\",\"axis_label_text_font_style\":\"normal\",\"major_label_policy\":{\"type\":\"object\",\"name\":\"AllLabels\",\"id\":\"p1055\"},\"major_label_text_color\":\"#E0E0E0\",\"major_label_text_font\":\"Helvetica\",\"major_label_text_font_size\":\"1.025em\",\"axis_line_color\":\"#E0E0E0\",\"axis_line_alpha\":0,\"major_tick_line_color\":\"#E0E0E0\",\"major_tick_line_alpha\":0,\"minor_tick_line_color\":\"#E0E0E0\",\"minor_tick_line_alpha\":0}}],\"center\":[{\"type\":\"object\",\"name\":\"Grid\",\"id\":\"p1056\",\"attributes\":{\"axis\":{\"id\":\"p1052\"},\"grid_line_color\":\"#E0E0E0\",\"grid_line_alpha\":0.25}},{\"type\":\"object\",\"name\":\"Grid\",\"id\":\"p1061\",\"attributes\":{\"dimension\":1,\"axis\":{\"id\":\"p1057\"},\"grid_line_color\":\"#E0E0E0\",\"grid_line_alpha\":0.25}},{\"type\":\"object\",\"name\":\"Legend\",\"id\":\"p1094\",\"attributes\":{\"border_line_alpha\":0,\"background_fill_color\":\"#20262B\",\"background_fill_alpha\":0.25,\"label_text_color\":\"#E0E0E0\",\"label_text_font\":\"Helvetica\",\"label_text_font_size\":\"1.025em\",\"label_standoff\":8,\"glyph_width\":15,\"spacing\":8,\"items\":[{\"type\":\"object\",\"name\":\"LegendItem\",\"id\":\"p1095\",\"attributes\":{\"label\":{\"type\":\"value\",\"value\":\"Alt (ft)\"},\"renderers\":[{\"id\":\"p1091\"}]}},{\"type\":\"object\",\"name\":\"LegendItem\",\"id\":\"p1105\",\"attributes\":{\"label\":{\"type\":\"value\",\"value\":\"angle\"},\"renderers\":[{\"id\":\"p1102\"}]}},{\"type\":\"object\",\"name\":\"LegendItem\",\"id\":\"p1116\",\"attributes\":{\"label\":{\"type\":\"value\",\"value\":\"speed\"},\"renderers\":[{\"id\":\"p1113\"}]}},{\"type\":\"object\",\"name\":\"LegendItem\",\"id\":\"p1126\",\"attributes\":{\"label\":{\"type\":\"value\",\"value\":\"H-speed\"},\"renderers\":[{\"id\":\"p1123\"}]}}]}}],\"background_fill_color\":\"#20262B\",\"border_fill_color\":\"#15191C\"}}]}};\n",
       "  const render_items = [{\"docid\":\"8d4954f1-4f83-4590-92fd-fb39b9aeeb72\",\"roots\":{\"p1038\":\"f6f8e57f-b35a-449f-a737-65c14ba35ba4\"},\"root_ids\":[\"p1038\"]}];\n",
       "  void root.Bokeh.embed.embed_items_notebook(docs_json, render_items);\n",
       "  }\n",
       "  if (root.Bokeh !== undefined) {\n",
       "    embed_document(root);\n",
       "  } else {\n",
       "    let attempts = 0;\n",
       "    const timer = setInterval(function(root) {\n",
       "      if (root.Bokeh !== undefined) {\n",
       "        clearInterval(timer);\n",
       "        embed_document(root);\n",
       "      } else {\n",
       "        attempts++;\n",
       "        if (attempts > 100) {\n",
       "          clearInterval(timer);\n",
       "          console.log(\"Bokeh: ERROR: Unable to run BokehJS code because BokehJS library is missing\");\n",
       "        }\n",
       "      }\n",
       "    }, 10, root)\n",
       "  }\n",
       "})(window);"
      ],
      "application/vnd.bokehjs_exec.v0+json": ""
     },
     "metadata": {
      "application/vnd.bokehjs_exec.v0+json": {
       "id": "p1038"
      }
     },
     "output_type": "display_data"
    },
    {
     "data": {
      "application/vnd.jupyter.widget-view+json": {
       "model_id": "5cc0b16d750047a7b990030debfb4ce8",
       "version_major": 2,
       "version_minor": 0
      },
      "text/plain": [
       "HTML(value='<hr><h1><span style=\"color: #0f0\">data 11-24-53:v1 jump - 🟢 valid - score = 475.52 km/h</span></h1…"
      ]
     },
     "metadata": {},
     "output_type": "display_data"
    },
    {
     "data": {
      "application/vnd.jupyter.widget-view+json": {
       "model_id": "e4569a7e5ab847a485b5bdd5ce66ab39",
       "version_major": 2,
       "version_minor": 0
      },
      "text/plain": [
       "HTML(value='<h3>Max speed = 477; exit at 4049 m (13286 ft), end scoring window at 1793 m (5884 ft)')"
      ]
     },
     "metadata": {},
     "output_type": "display_data"
    },
    {
     "data": {
      "application/vnd.jupyter.widget-view+json": {
       "model_id": "1e6d87452db64b2db98a7a8b98ae7aca",
       "version_major": 2,
       "version_minor": 0
      },
      "text/plain": [
       "HTML(value='</h3>')"
      ]
     },
     "metadata": {},
     "output_type": "display_data"
    },
    {
     "data": {
      "text/html": [
       "<div>\n",
       "<style scoped>\n",
       "    .dataframe tbody tr th:only-of-type {\n",
       "        vertical-align: middle;\n",
       "    }\n",
       "\n",
       "    .dataframe tbody tr th {\n",
       "        vertical-align: top;\n",
       "    }\n",
       "\n",
       "    .dataframe thead th {\n",
       "        text-align: right;\n",
       "    }\n",
       "</style>\n",
       "<table border=\"1\" class=\"dataframe\">\n",
       "  <thead>\n",
       "    <tr style=\"text-align: right;\">\n",
       "      <th></th>\n",
       "      <th>time</th>\n",
       "      <th>vKMh</th>\n",
       "      <th>hKMh</th>\n",
       "      <th>speedAngle</th>\n",
       "      <th>distanceFromExit (m)</th>\n",
       "      <th>altitude (ft)</th>\n",
       "      <th>netVectorKMh</th>\n",
       "    </tr>\n",
       "  </thead>\n",
       "  <tbody>\n",
       "    <tr>\n",
       "      <th></th>\n",
       "      <td>5.0</td>\n",
       "      <td>177</td>\n",
       "      <td>143</td>\n",
       "      <td>51.10</td>\n",
       "      <td>218.37</td>\n",
       "      <td>12918</td>\n",
       "      <td>227</td>\n",
       "    </tr>\n",
       "    <tr>\n",
       "      <th></th>\n",
       "      <td>10.0</td>\n",
       "      <td>323</td>\n",
       "      <td>97</td>\n",
       "      <td>73.27</td>\n",
       "      <td>381.66</td>\n",
       "      <td>11771</td>\n",
       "      <td>337</td>\n",
       "    </tr>\n",
       "    <tr>\n",
       "      <th></th>\n",
       "      <td>15.0</td>\n",
       "      <td>425</td>\n",
       "      <td>46</td>\n",
       "      <td>83.80</td>\n",
       "      <td>479.99</td>\n",
       "      <td>10040</td>\n",
       "      <td>427</td>\n",
       "    </tr>\n",
       "    <tr>\n",
       "      <th></th>\n",
       "      <td>20.0</td>\n",
       "      <td>470</td>\n",
       "      <td>23</td>\n",
       "      <td>87.18</td>\n",
       "      <td>500.28</td>\n",
       "      <td>7976</td>\n",
       "      <td>471</td>\n",
       "    </tr>\n",
       "    <tr>\n",
       "      <th></th>\n",
       "      <td>25.0</td>\n",
       "      <td>472</td>\n",
       "      <td>68</td>\n",
       "      <td>81.82</td>\n",
       "      <td>445.41</td>\n",
       "      <td>5902</td>\n",
       "      <td>477</td>\n",
       "    </tr>\n",
       "  </tbody>\n",
       "</table>\n",
       "</div>"
      ],
      "text/plain": [
       "  time  vKMh  hKMh  speedAngle  distanceFromExit (m)  altitude (ft)  \\\n",
       "   5.0   177   143       51.10                218.37          12918   \n",
       "  10.0   323    97       73.27                381.66          11771   \n",
       "  15.0   425    46       83.80                479.99          10040   \n",
       "  20.0   470    23       87.18                500.28           7976   \n",
       "  25.0   472    68       81.82                445.41           5902   \n",
       "\n",
       "  netVectorKMh  \n",
       "           227  \n",
       "           337  \n",
       "           427  \n",
       "           471  \n",
       "           477  "
      ]
     },
     "metadata": {},
     "output_type": "display_data"
    },
    {
     "data": {
      "text/html": [
       "\n",
       "  <div id=\"e4e1df63-4c8c-4f9f-85da-238d059ebe67\" data-root-id=\"p1182\" style=\"display: contents;\"></div>\n"
      ]
     },
     "metadata": {},
     "output_type": "display_data"
    },
    {
     "data": {
      "application/javascript": [
       "(function(root) {\n",
       "  function embed_document(root) {\n",
       "  const docs_json = {\"8a8f7419-29e6-438d-a6f3-98dd8eaa96c8\":{\"version\":\"3.5.2\",\"title\":\"Bokeh Application\",\"roots\":[{\"type\":\"object\",\"name\":\"Figure\",\"id\":\"p1182\",\"attributes\":{\"width\":900,\"height\":500,\"x_range\":{\"type\":\"object\",\"name\":\"Range1d\",\"id\":\"p1192\",\"attributes\":{\"end\":35.0}},\"y_range\":{\"type\":\"object\",\"name\":\"Range1d\",\"id\":\"p1193\",\"attributes\":{\"end\":550.0}},\"x_scale\":{\"type\":\"object\",\"name\":\"LinearScale\",\"id\":\"p1194\"},\"y_scale\":{\"type\":\"object\",\"name\":\"LinearScale\",\"id\":\"p1195\"},\"extra_y_ranges\":{\"type\":\"map\",\"entries\":[[\"altitudeFt\",{\"type\":\"object\",\"name\":\"Range1d\",\"id\":\"p1219\",\"attributes\":{\"start\":5401.5867488,\"end\":13786.3558728}}],[\"angle\",{\"type\":\"object\",\"name\":\"Range1d\",\"id\":\"p1220\",\"attributes\":{\"end\":90.0}}]]},\"title\":{\"type\":\"object\",\"name\":\"Title\",\"id\":\"p1185\",\"attributes\":{\"text\":\"data 11-24-53:v1\",\"text_color\":\"#E0E0E0\",\"text_font\":\"Helvetica\",\"text_font_size\":\"1.15em\"}},\"outline_line_color\":\"#E0E0E0\",\"outline_line_alpha\":0.25,\"renderers\":[{\"type\":\"object\",\"name\":\"GlyphRenderer\",\"id\":\"p1235\",\"attributes\":{\"y_range_name\":\"altitudeFt\",\"data_source\":{\"type\":\"object\",\"name\":\"ColumnDataSource\",\"id\":\"p1229\",\"attributes\":{\"selected\":{\"type\":\"object\",\"name\":\"Selection\",\"id\":\"p1230\",\"attributes\":{\"indices\":[],\"line_indices\":[]}},\"selection_policy\":{\"type\":\"object\",\"name\":\"UnionRenderers\",\"id\":\"p1231\"},\"data\":{\"type\":\"map\",\"entries\":[[\"x\",{\"type\":\"ndarray\",\"array\":{\"type\":\"bytes\",\"data\":\"AAAAAAAAAACamZmZmZnJP5qZmZmZmdk/MzMzMzMz4z+amZmZmZnpPwAAAAAAAPA/MzMzMzMz8z9mZmZmZmb2P5qZmZmZmfk/zczMzMzM/D8AAAAAAAAAQJqZmZmZmQFAMzMzMzMzA0DNzMzMzMwEQGZmZmZmZgZAAAAAAAAACECamZmZmZkJQDMzMzMzMwtAzczMzMzMDEBmZmZmZmYOQAAAAAAAABBAzczMzMzMEECamZmZmZkRQGZmZmZmZhJAMzMzMzMzE0AAAAAAAAAUQM3MzMzMzBRAmpmZmZmZFUBmZmZmZmYWQDMzMzMzMxdAAAAAAAAAGEDNzMzMzMwYQJqZmZmZmRlAZmZmZmZmGkAzMzMzMzMbQAAAAAAAABxAzczMzMzMHECamZmZmZkdQGZmZmZmZh5AMzMzMzMzH0AAAAAAAAAgQGZmZmZmZiBAzczMzMzMIEAzMzMzMzMhQJqZmZmZmSFAAAAAAAAAIkBmZmZmZmYiQM3MzMzMzCJAMzMzMzMzI0CamZmZmZkjQAAAAAAAACRAZmZmZmZmJEDNzMzMzMwkQDMzMzMzMyVAmpmZmZmZJUAAAAAAAAAmQGZmZmZmZiZAzczMzMzMJkAzMzMzMzMnQJqZmZmZmSdAAAAAAAAAKEBmZmZmZmYoQM3MzMzMzChAMzMzMzMzKUCamZmZmZkpQAAAAAAAACpAZmZmZmZmKkDNzMzMzMwqQDMzMzMzMytAmpmZmZmZK0AAAAAAAAAsQGZmZmZmZixAzczMzMzMLEAzMzMzMzMtQJqZmZmZmS1AAAAAAAAALkBmZmZmZmYuQM3MzMzMzC5AMzMzMzMzL0CamZmZmZkvQAAAAAAAADBAMzMzMzMzMEBmZmZmZmYwQJqZmZmZmTBAzczMzMzMMEAAAAAAAAAxQDMzMzMzMzFAZmZmZmZmMUCamZmZmZkxQM3MzMzMzDFAAAAAAAAAMkAzMzMzMzMyQGZmZmZmZjJAmpmZmZmZMkDNzMzMzMwyQAAAAAAAADNAMzMzMzMzM0BmZmZmZmYzQJqZmZmZmTNAzczMzMzMM0AAAAAAAAA0QDMzMzMzMzRAZmZmZmZmNECamZmZmZk0QM3MzMzMzDRAAAAAAAAANUAzMzMzMzM1QGZmZmZmZjVAmpmZmZmZNUDNzMzMzMw1QAAAAAAAADZAMzMzMzMzNkBmZmZmZmY2QJqZmZmZmTZAzczMzMzMNkAAAAAAAAA3QDMzMzMzMzdAZmZmZmZmN0CamZmZmZk3QM3MzMzMzDdAAAAAAAAAOEAzMzMzMzM4QGZmZmZmZjhAmpmZmZmZOEDNzMzMzMw4QA==\"},\"shape\":[125],\"dtype\":\"float64\",\"order\":\"little\"}],[\"y\",{\"type\":\"ndarray\",\"array\":{\"type\":\"bytes\",\"data\":\"xWo9jS3zyUDKgtPMzPHJQF2g7k2t8clAKG0FqMTwyUA/D//6gu/JQFS2/kzL7clA1uw3yV3ryUAZpfBFUOjJQCUe9XwK5clAgdcdQeDgyUDETfwH19vJQEYWH1Ub1slANEwS8LDPyUDBzxMqq8jJQGfOn9vgwMlAr6Af/CK4yUARsRx8dK7JQKKE9G9qpMlAbAfIPJeZyUBvmA3XH47JQM4uKYjTgclAX217cfh0yUCTG0XWemfJQKAZxAduWclAhAiCEa1KyUDGffUCNTvJQBCAE2UqK8lAsaKrGX4ayUA0nZ0MJgnJQMeKdQUm98hAjCCENpfkyEAn5N5XgNHIQMtWTcbPvchAWkReIIqpyEB5dvnWp5TIQPuNwGkzf8hA8/lysBhpyEAdS2lHm1LIQE8pCk+LO8hA4ezWMukjyEBMAFnjtwvIQHwWOmUE88dAHBvLBcDZx0AYwbXJ97/HQMyC5PikpcdAv9NkxsuKx0A4v2GieW/HQDZF24yuU8dAUQTM12g3x0BsDJXanhrHQItdNpVQ/cZAWmTgJY3fxkBDgpg6VsHGQN1VWSWqosZASBOUR4SDxkAlHvV88mPGQLUAyGTkQ8ZA4SnkSnUjxkA+OESBowLGQG0wHu9X4cVAQ1ZcwbO/xUBYamImrp3FQP3dliM/e8VAfgD34WVYxUCVRzfCMjXFQBqYy/yhEcVATLkMSc/txEC2A2Sei8nEQK+t6YvepMRAKQ2Qw+t/xEBLmppfoFrEQKFrX0AXNcRA6bmFrjQPxECn1rEABOnDQL2NctWJwsNA9F0A0Nebw0AjLM8o6nTDQBq76TvETcNAZsIv9Vsmw0DlDTDztf7CQOYOUTvK1sJAdIpEV6iuwkB+d4YET4bCQPKIwEfLXcJA1ALF2Q41wkCmFM80LAzCQJX70/wf48FA/zG+eeO5wUCBmlq2ZpDBQGJiPf+vZsFAs/Fgi+U8wUCoyYy39RLBQJX+bzbv6MBA3CxeLMS+wECss7UZapTAQIFB0qfVacBAqYQn9Co/wEC8G7BQaBTAQM8B3fJs079AsmiV9Mt9v0CdEyCvHCi/QLo/csZb0r5Apc9YRXl8vkDMg0/Omya+QO95WW500L1A5pHkXnV6vUCnyTH+YiS9QKtOvSQUzrxA3pYjv2l3vEDI7gIl5SC8QMi1oWJMyrtAt1FTgblzu0CBOLRtDR27QHYYOEVsxrpAuouL/rtvukAJh4Mp7xi6QGNplroqwrlAzLipgRZruUCBtjBmJhS5QEo+G15VvbhAj7FuF6VmuECjYedcUBC4QHAh2W0hurdAKFdna9Njt0D4Wis1lg23QA==\"},\"shape\":[125],\"dtype\":\"float64\",\"order\":\"little\"}]]}}},\"view\":{\"type\":\"object\",\"name\":\"CDSView\",\"id\":\"p1236\",\"attributes\":{\"filter\":{\"type\":\"object\",\"name\":\"AllIndices\",\"id\":\"p1237\"}}},\"glyph\":{\"type\":\"object\",\"name\":\"Line\",\"id\":\"p1232\",\"attributes\":{\"x\":{\"type\":\"field\",\"field\":\"x\"},\"y\":{\"type\":\"field\",\"field\":\"y\"},\"line_color\":\"palegoldenrod\",\"line_width\":2}},\"nonselection_glyph\":{\"type\":\"object\",\"name\":\"Line\",\"id\":\"p1233\",\"attributes\":{\"x\":{\"type\":\"field\",\"field\":\"x\"},\"y\":{\"type\":\"field\",\"field\":\"y\"},\"line_color\":\"palegoldenrod\",\"line_alpha\":0.1,\"line_width\":2}},\"muted_glyph\":{\"type\":\"object\",\"name\":\"Line\",\"id\":\"p1234\",\"attributes\":{\"x\":{\"type\":\"field\",\"field\":\"x\"},\"y\":{\"type\":\"field\",\"field\":\"y\"},\"line_color\":\"palegoldenrod\",\"line_alpha\":0.2,\"line_width\":2}}}},{\"type\":\"object\",\"name\":\"GlyphRenderer\",\"id\":\"p1246\",\"attributes\":{\"y_range_name\":\"angle\",\"data_source\":{\"type\":\"object\",\"name\":\"ColumnDataSource\",\"id\":\"p1240\",\"attributes\":{\"selected\":{\"type\":\"object\",\"name\":\"Selection\",\"id\":\"p1241\",\"attributes\":{\"indices\":[],\"line_indices\":[]}},\"selection_policy\":{\"type\":\"object\",\"name\":\"UnionRenderers\",\"id\":\"p1242\"},\"data\":{\"type\":\"map\",\"entries\":[[\"x\",{\"type\":\"ndarray\",\"array\":{\"type\":\"bytes\",\"data\":\"AAAAAAAAAACamZmZmZnJP5qZmZmZmdk/MzMzMzMz4z+amZmZmZnpPwAAAAAAAPA/MzMzMzMz8z9mZmZmZmb2P5qZmZmZmfk/zczMzMzM/D8AAAAAAAAAQJqZmZmZmQFAMzMzMzMzA0DNzMzMzMwEQGZmZmZmZgZAAAAAAAAACECamZmZmZkJQDMzMzMzMwtAzczMzMzMDEBmZmZmZmYOQAAAAAAAABBAzczMzMzMEECamZmZmZkRQGZmZmZmZhJAMzMzMzMzE0AAAAAAAAAUQM3MzMzMzBRAmpmZmZmZFUBmZmZmZmYWQDMzMzMzMxdAAAAAAAAAGEDNzMzMzMwYQJqZmZmZmRlAZmZmZmZmGkAzMzMzMzMbQAAAAAAAABxAzczMzMzMHECamZmZmZkdQGZmZmZmZh5AMzMzMzMzH0AAAAAAAAAgQGZmZmZmZiBAzczMzMzMIEAzMzMzMzMhQJqZmZmZmSFAAAAAAAAAIkBmZmZmZmYiQM3MzMzMzCJAMzMzMzMzI0CamZmZmZkjQAAAAAAAACRAZmZmZmZmJEDNzMzMzMwkQDMzMzMzMyVAmpmZmZmZJUAAAAAAAAAmQGZmZmZmZiZAzczMzMzMJkAzMzMzMzMnQJqZmZmZmSdAAAAAAAAAKEBmZmZmZmYoQM3MzMzMzChAMzMzMzMzKUCamZmZmZkpQAAAAAAAACpAZmZmZmZmKkDNzMzMzMwqQDMzMzMzMytAmpmZmZmZK0AAAAAAAAAsQGZmZmZmZixAzczMzMzMLEAzMzMzMzMtQJqZmZmZmS1AAAAAAAAALkBmZmZmZmYuQM3MzMzMzC5AMzMzMzMzL0CamZmZmZkvQAAAAAAAADBAMzMzMzMzMEBmZmZmZmYwQJqZmZmZmTBAzczMzMzMMEAAAAAAAAAxQDMzMzMzMzFAZmZmZmZmMUCamZmZmZkxQM3MzMzMzDFAAAAAAAAAMkAzMzMzMzMyQGZmZmZmZjJAmpmZmZmZMkDNzMzMzMwyQAAAAAAAADNAMzMzMzMzM0BmZmZmZmYzQJqZmZmZmTNAzczMzMzMM0AAAAAAAAA0QDMzMzMzMzRAZmZmZmZmNECamZmZmZk0QM3MzMzMzDRAAAAAAAAANUAzMzMzMzM1QGZmZmZmZjVAmpmZmZmZNUDNzMzMzMw1QAAAAAAAADZAMzMzMzMzNkBmZmZmZmY2QJqZmZmZmTZAzczMzMzMNkAAAAAAAAA3QDMzMzMzMzdAZmZmZmZmN0CamZmZmZk3QM3MzMzMzDdAAAAAAAAAOEAzMzMzMzM4QGZmZmZmZjhAmpmZmZmZOEDNzMzMzMw4QA==\"},\"shape\":[125],\"dtype\":\"float64\",\"order\":\"little\"}],[\"y\",{\"type\":\"ndarray\",\"array\":{\"type\":\"bytes\",\"data\":\"4XoUrkfhH0C4HoXrUbgeQGZmZmZmZhtAMzMzMzOzIEDhehSuR2EkQK5H4XoUrilAFK5H4XqULEB7FK5H4XowQOF6FK5HoTJAzczMzMxMNUB7FK5H4To3QKRwPQrXozlAuB6F61G4O0AAAAAAAMA9QClcj8L16D9AXI/C9Sj8QEBI4XoUrgdCQArXo3A96kJA4XoUrkfhQ0BSuB6F69FEQD0K16NwvUVAUrgeheuRRkD2KFyPwlVHQLgehetRGEhAXI/C9SjcSEDNzMzMzIxJQB+F61G4PkpAKVyPwvXoSkBSuB6F65FLQHsUrkfhOkxApHA9CtfDTECkcD0K10NNQClcj8L1yE1AFK5H4XpUTkApXI/C9chOQLgehetROE9AXI/C9Si8T0CamZmZmRlQQOF6FK5HUVBAexSuR+GKUEDhehSuR8FQQDMzMzMz81BAw/UoXI8iUUAzMzMzM1NRQHE9CtejgFFA9ihcj8KlUUAK16NwPcpRQK5H4XoU7lFAXI/C9SgMUkAUrkfhejRSQOF6FK5HUVJAKVyPwvV4UkAK16NwPZpSQOxRuB6Fu1JAUrgehevhUkDhehSuRwFTQI/C9ShcH1NAcT0K16NAU0AUrkfhemRTQHE9CtejgFNA7FG4HoWbU0D2KFyPwrVTQLgehetRyFNAexSuR+HaU0AUrkfhevRTQD0K16NwDVRA9ihcj8IlVEDD9ShcjzJUQD0K16NwTVRAZmZmZmZmVEA9CtejcH1UQLgehetRmFRAZmZmZmamVECuR+F6FL5UQHE9Ctej0FRAMzMzMzPzVEAAAAAAABBVQFK4HoXrIVVAZmZmZmY2VUAzMzMzM1NVQMP1KFyPYlVAj8L1KFx/VUCuR+F6FI5VQB+F61G4nlVA9ihcj8K1VUCamZmZmclVQFK4HoXr4VVAmpmZmZnpVUCF61G4HvVVQKRwPQrXA1ZAUrgehesRVkDXo3A9ChdWQGZmZmZmFlZAw/UoXI8SVkDNzMzMzAxWQDMzMzMzA1ZA16NwPQr3VUA9CtejcO1VQClcj8L16FVAPQrXo3DdVUDsUbgehctVQMP1KFyPslVAuB6F61GoVUCamZmZmYlVQI/C9Shcf1VAw/UoXI9iVUBmZmZmZlZVQOF6FK5HUVVAuB6F61FIVUDhehSuRzFVQOF6FK5HIVVA7FG4HoULVUDD9ShcjwJVQFyPwvUo/FRAZmZmZmbmVEAK16NwPdpUQNejcD0K11RAzczMzMzcVEBI4XoUrsdUQB+F61G4vlRAj8L1KFyfVEDD9Shcj4JUQD0K16NwfVRAj8L1KFx/VEAUrkfhenRUQA==\"},\"shape\":[125],\"dtype\":\"float64\",\"order\":\"little\"}]]}}},\"view\":{\"type\":\"object\",\"name\":\"CDSView\",\"id\":\"p1247\",\"attributes\":{\"filter\":{\"type\":\"object\",\"name\":\"AllIndices\",\"id\":\"p1248\"}}},\"glyph\":{\"type\":\"object\",\"name\":\"Line\",\"id\":\"p1243\",\"attributes\":{\"x\":{\"type\":\"field\",\"field\":\"x\"},\"y\":{\"type\":\"field\",\"field\":\"y\"},\"line_color\":\"deepskyblue\",\"line_width\":2}},\"nonselection_glyph\":{\"type\":\"object\",\"name\":\"Line\",\"id\":\"p1244\",\"attributes\":{\"x\":{\"type\":\"field\",\"field\":\"x\"},\"y\":{\"type\":\"field\",\"field\":\"y\"},\"line_color\":\"deepskyblue\",\"line_alpha\":0.1,\"line_width\":2}},\"muted_glyph\":{\"type\":\"object\",\"name\":\"Line\",\"id\":\"p1245\",\"attributes\":{\"x\":{\"type\":\"field\",\"field\":\"x\"},\"y\":{\"type\":\"field\",\"field\":\"y\"},\"line_color\":\"deepskyblue\",\"line_alpha\":0.2,\"line_width\":2}}}},{\"type\":\"object\",\"name\":\"GlyphRenderer\",\"id\":\"p1257\",\"attributes\":{\"data_source\":{\"type\":\"object\",\"name\":\"ColumnDataSource\",\"id\":\"p1251\",\"attributes\":{\"selected\":{\"type\":\"object\",\"name\":\"Selection\",\"id\":\"p1252\",\"attributes\":{\"indices\":[],\"line_indices\":[]}},\"selection_policy\":{\"type\":\"object\",\"name\":\"UnionRenderers\",\"id\":\"p1253\"},\"data\":{\"type\":\"map\",\"entries\":[[\"x\",{\"type\":\"ndarray\",\"array\":{\"type\":\"bytes\",\"data\":\"AAAAAAAAAACamZmZmZnJP5qZmZmZmdk/MzMzMzMz4z+amZmZmZnpPwAAAAAAAPA/MzMzMzMz8z9mZmZmZmb2P5qZmZmZmfk/zczMzMzM/D8AAAAAAAAAQJqZmZmZmQFAMzMzMzMzA0DNzMzMzMwEQGZmZmZmZgZAAAAAAAAACECamZmZmZkJQDMzMzMzMwtAzczMzMzMDEBmZmZmZmYOQAAAAAAAABBAzczMzMzMEECamZmZmZkRQGZmZmZmZhJAMzMzMzMzE0AAAAAAAAAUQM3MzMzMzBRAmpmZmZmZFUBmZmZmZmYWQDMzMzMzMxdAAAAAAAAAGEDNzMzMzMwYQJqZmZmZmRlAZmZmZmZmGkAzMzMzMzMbQAAAAAAAABxAzczMzMzMHECamZmZmZkdQGZmZmZmZh5AMzMzMzMzH0AAAAAAAAAgQGZmZmZmZiBAzczMzMzMIEAzMzMzMzMhQJqZmZmZmSFAAAAAAAAAIkBmZmZmZmYiQM3MzMzMzCJAMzMzMzMzI0CamZmZmZkjQAAAAAAAACRAZmZmZmZmJEDNzMzMzMwkQDMzMzMzMyVAmpmZmZmZJUAAAAAAAAAmQGZmZmZmZiZAzczMzMzMJkAzMzMzMzMnQJqZmZmZmSdAAAAAAAAAKEBmZmZmZmYoQM3MzMzMzChAMzMzMzMzKUCamZmZmZkpQAAAAAAAACpAZmZmZmZmKkDNzMzMzMwqQDMzMzMzMytAmpmZmZmZK0AAAAAAAAAsQGZmZmZmZixAzczMzMzMLEAzMzMzMzMtQJqZmZmZmS1AAAAAAAAALkBmZmZmZmYuQM3MzMzMzC5AMzMzMzMzL0CamZmZmZkvQAAAAAAAADBAMzMzMzMzMEBmZmZmZmYwQJqZmZmZmTBAzczMzMzMMEAAAAAAAAAxQDMzMzMzMzFAZmZmZmZmMUCamZmZmZkxQM3MzMzMzDFAAAAAAAAAMkAzMzMzMzMyQGZmZmZmZjJAmpmZmZmZMkDNzMzMzMwyQAAAAAAAADNAMzMzMzMzM0BmZmZmZmYzQJqZmZmZmTNAzczMzMzMM0AAAAAAAAA0QDMzMzMzMzRAZmZmZmZmNECamZmZmZk0QM3MzMzMzDRAAAAAAAAANUAzMzMzMzM1QGZmZmZmZjVAmpmZmZmZNUDNzMzMzMw1QAAAAAAAADZAMzMzMzMzNkBmZmZmZmY2QJqZmZmZmTZAzczMzMzMNkAAAAAAAAA3QDMzMzMzMzdAZmZmZmZmN0CamZmZmZk3QM3MzMzMzDdAAAAAAAAAOEAzMzMzMzM4QGZmZmZmZjhAmpmZmZmZOEDNzMzMzMw4QA==\"},\"shape\":[125],\"dtype\":\"float64\",\"order\":\"little\"}],[\"y\",{\"type\":\"ndarray\",\"array\":{\"type\":\"bytes\",\"data\":\"VeOlm8QgOUB7FK5H4Xo4QLByaJHt/DRA4XoUrkdhOUAnMQisHNo+QPCnxks3SURAYeXQItu5RUCd76fGS/dIQML1KFyPQkxAEoPAyqFFUEBWDi2ync9RQNnO91PjxVNA2KNwPQp3VUDhehSuRyFXQIXrUbgeBVlASgwCK4fWWkDufD81XrpcQCQGgZVDS15AbxKDwMoRYEDeJAaBlfNgQDzfT42X3mFAokW28/3EYkAw3SQGgZVjQKJFtvP9dGRAEoPAyqFVZUC0yHa+nxpmQEw3iUFg5WZA001iEFi5Z0BnZmZmZoZoQN4kBoGVY2lAd76fGi8takASg8DKofVqQM/3U+Olq2tAYxBYObR4bED6fmq8dENtQHaTGARWHm5Ad76fGi+tbkBQjZduElNvQIXrUbgeBXBAUrgehetpcECuR+F6FMZwQBFYObTIHnFA5/up8dJ9cUA/NV66SdxxQBkEVg4tOnJAAiuHFtmOckBqvHSTGORyQNnO91PjNXNAy6FFtvOFc0Cmm8QgsOJzQCGwcmiRLXRAEVg5tMh+dECLbOf7qcl0QHe+nxovHXVA7FG4HoVrdUBjEFg5tLh1QNv5fmq8BHZAZDvfT41HdkDfT42XbpJ2QHE9Ctej0HZA9P3UeOkWd0B7FK5H4Vp3QAIrhxbZnndAlBgEVg7dd0AUrkfheiR4QLOd76fGW3hAd76fGi99eEDb+X5qvNR4QNijcD0KH3lAdZMYBFZWeUAUrkfheox5QDZeukkMwnlA0SLb+X76eUDsUbgehTN6QJduEoPAYnpAy6FFtvONekAEVg4tsrV6QLByaJHt5HpA30+Nl24Se0CcxCCwcjh7QO58PzVeUntAokW28/18e0BkO99PjZ97QCGwcmiRxXtA5KWbxCDoe0AxCKwcWgR8QHnpJjEIJHxAwvUoXI9CfEBqvHSTGHR8QDZeukkMknxABFYOLbKtfEBjEFg5tMB8QDiJQWDl2HxADy2yne/vfEDO91PjpRN9QJ7vp8ZLL31A/9R46SZBfUBRuB6F61l9QMyhRbbzXX1A2c73U+NVfUA/NV66SWR9QFyPwvUoVH1AGy/dJAZ5fUB2kxgEVo59QDiJQWDlaH1AppvEILByfUD/1HjpJol9QG4Sg8DKkX1ASgwCK4emfUA+CtejcK19QEW28/3UqH1Asp3vp8azfUCpxks3ibl9QLXIdr6fsn1AOIlBYOWwfUAhsHJokb19QHwUrkfh0n1A+n5qvHTTfUD6fmq8dNN9QAaBlUOLzH1Ax0s3iUGofUDl0CLb+ZZ9QOtRuB6Fk31A3Pl+arycfUAFVg4tsoV9QA==\"},\"shape\":[125],\"dtype\":\"float64\",\"order\":\"little\"}]]}}},\"view\":{\"type\":\"object\",\"name\":\"CDSView\",\"id\":\"p1258\",\"attributes\":{\"filter\":{\"type\":\"object\",\"name\":\"AllIndices\",\"id\":\"p1259\"}}},\"glyph\":{\"type\":\"object\",\"name\":\"Line\",\"id\":\"p1254\",\"attributes\":{\"x\":{\"type\":\"field\",\"field\":\"x\"},\"y\":{\"type\":\"field\",\"field\":\"y\"},\"line_color\":\"limegreen\",\"line_width\":2}},\"nonselection_glyph\":{\"type\":\"object\",\"name\":\"Line\",\"id\":\"p1255\",\"attributes\":{\"x\":{\"type\":\"field\",\"field\":\"x\"},\"y\":{\"type\":\"field\",\"field\":\"y\"},\"line_color\":\"limegreen\",\"line_alpha\":0.1,\"line_width\":2}},\"muted_glyph\":{\"type\":\"object\",\"name\":\"Line\",\"id\":\"p1256\",\"attributes\":{\"x\":{\"type\":\"field\",\"field\":\"x\"},\"y\":{\"type\":\"field\",\"field\":\"y\"},\"line_color\":\"limegreen\",\"line_alpha\":0.2,\"line_width\":2}}}},{\"type\":\"object\",\"name\":\"GlyphRenderer\",\"id\":\"p1267\",\"attributes\":{\"data_source\":{\"type\":\"object\",\"name\":\"ColumnDataSource\",\"id\":\"p1261\",\"attributes\":{\"selected\":{\"type\":\"object\",\"name\":\"Selection\",\"id\":\"p1262\",\"attributes\":{\"indices\":[],\"line_indices\":[]}},\"selection_policy\":{\"type\":\"object\",\"name\":\"UnionRenderers\",\"id\":\"p1263\"},\"data\":{\"type\":\"map\",\"entries\":[[\"x\",{\"type\":\"ndarray\",\"array\":{\"type\":\"bytes\",\"data\":\"AAAAAAAAAACamZmZmZnJP5qZmZmZmdk/MzMzMzMz4z+amZmZmZnpPwAAAAAAAPA/MzMzMzMz8z9mZmZmZmb2P5qZmZmZmfk/zczMzMzM/D8AAAAAAAAAQJqZmZmZmQFAMzMzMzMzA0DNzMzMzMwEQGZmZmZmZgZAAAAAAAAACECamZmZmZkJQDMzMzMzMwtAzczMzMzMDEBmZmZmZmYOQAAAAAAAABBAzczMzMzMEECamZmZmZkRQGZmZmZmZhJAMzMzMzMzE0AAAAAAAAAUQM3MzMzMzBRAmpmZmZmZFUBmZmZmZmYWQDMzMzMzMxdAAAAAAAAAGEDNzMzMzMwYQJqZmZmZmRlAZmZmZmZmGkAzMzMzMzMbQAAAAAAAABxAzczMzMzMHECamZmZmZkdQGZmZmZmZh5AMzMzMzMzH0AAAAAAAAAgQGZmZmZmZiBAzczMzMzMIEAzMzMzMzMhQJqZmZmZmSFAAAAAAAAAIkBmZmZmZmYiQM3MzMzMzCJAMzMzMzMzI0CamZmZmZkjQAAAAAAAACRAZmZmZmZmJEDNzMzMzMwkQDMzMzMzMyVAmpmZmZmZJUAAAAAAAAAmQGZmZmZmZiZAzczMzMzMJkAzMzMzMzMnQJqZmZmZmSdAAAAAAAAAKEBmZmZmZmYoQM3MzMzMzChAMzMzMzMzKUCamZmZmZkpQAAAAAAAACpAZmZmZmZmKkDNzMzMzMwqQDMzMzMzMytAmpmZmZmZK0AAAAAAAAAsQGZmZmZmZixAzczMzMzMLEAzMzMzMzMtQJqZmZmZmS1AAAAAAAAALkBmZmZmZmYuQM3MzMzMzC5AMzMzMzMzL0CamZmZmZkvQAAAAAAAADBAMzMzMzMzMEBmZmZmZmYwQJqZmZmZmTBAzczMzMzMMEAAAAAAAAAxQDMzMzMzMzFAZmZmZmZmMUCamZmZmZkxQM3MzMzMzDFAAAAAAAAAMkAzMzMzMzMyQGZmZmZmZjJAmpmZmZmZMkDNzMzMzMwyQAAAAAAAADNAMzMzMzMzM0BmZmZmZmYzQJqZmZmZmTNAzczMzMzMM0AAAAAAAAA0QDMzMzMzMzRAZmZmZmZmNECamZmZmZk0QM3MzMzMzDRAAAAAAAAANUAzMzMzMzM1QGZmZmZmZjVAmpmZmZmZNUDNzMzMzMw1QAAAAAAAADZAMzMzMzMzNkBmZmZmZmY2QJqZmZmZmTZAzczMzMzMNkAAAAAAAAA3QDMzMzMzMzdAZmZmZmZmN0CamZmZmZk3QM3MzMzMzDdAAAAAAAAAOEAzMzMzMzM4QGZmZmZmZjhAmpmZmZmZOEDNzMzMzMw4QA==\"},\"shape\":[125],\"dtype\":\"float64\",\"order\":\"little\"}],[\"y\",{\"type\":\"ndarray\",\"array\":{\"type\":\"bytes\",\"data\":\"qegAkoxvZkCXdMLaSbBmQPklgoTK0mVAU5Uj9bifZUA5Zyec9nZlQJgIKI/OPmZAUXyilOVTZUBfERnp+xhlQMLHsQXc82RABEHHi+7dZED5RsgNQ75kQOyT/JIBmWRAcliRTTJsZEBRO54H+jtkQO72JzCiFmRAONdwp6/qY0AFTzzNybljQHKcI5+TgWNA3EXoRclPY0DUjemQHBBjQMrj6X5y12JAWdv/Mu6sYkCsWQ4M13hiQD16UzJES2JA/UqfQYUUYkDmCbjreNZhQLvpLBufkmFA3aBshthZYUBjFPhWHhZhQP3Vgye91GBA2beKwLuoYEAq9YAIwIBgQL3KDKVNQGBAJMuoQKsAYEAb3G5QZLBfQHNV+qhhbl9AeZLwcDqhXkANYPjyNwNeQNzFbOl6gl1ATsgz5Ij+XECsTsUhy3JcQGKkvXbC81tAHmrLGXCBW0Afpb9/NP9aQLrI9vKYhlpAGaxuRzgnWkB7yeZnOshZQL0xShmoYVlAVfea1WMWWUCPGVs3nZdYQK9rHEYLQVhAP+mSoK6uV0Dn/Mm0njRXQP9movdXvFZA9rEIXw0bVkAd9dXw36FVQLAoHOqhKVVA/nVTfnyOVEBfZJ/a2+ZTQLquzGMyYFNAhjX0cFPmUkDJr21bdW1SQETf6/neIlJAA3XDETHTUUAJqryhGVdRQPUF2yKm0VBAjG3b5KI8UEBovzfybRtQQF3PAdutEE9AcN2srHnvTUCUDuWJxNpMQPGC5nqvjktA0gjNZnv9SkCXiXmUQttJQPLZtDje70hAnGZuHEARR0CkBAhE9IZFQH5vdNeel0RAl7qA5EKGQ0D1boNCv+tBQHqf+22yDkFA6qOH3dfaPkC5XKElOjI9QMFnjeI1TTtAVlsdJ9ycOECUkJ5OTkw2QAUyEbByZDNAhXrZckKVMkDIqqHOojYxQGTy/iCv7i5AwPZc4nJ7K0CWjRzAI14qQPqVyINihipAgY3tpfWaK0CbsIMJqEktQLS5rXfCvy9AT1+WHreBMUBSCxoxs8UyQOo23WZxYDNAWZHyru/aNEAp90AtxCo3QO+nNb6GUTpA5DlYn/PLO0DoKAwGadA/QNRo+u0Fg0BAtj1cUYthQkA4r/WLWjhDQOL5t3xYk0NAw+4ITTwyREBjaLWI37lFQJIjI9w8v0ZAhdAqYpQ0SEBJhB7ZZNdIQLyBAQyVOUlAKeuJQ4KiSkD1N9j5s35LQEK+mJiPwktA2YWaIzJlS0CjOG/hustMQDR3uiyqWk1AYSMebxNDT0CbqF+0IotQQJFtX8+otVBAGyVQHm6oUEAIRiTDovtQQA==\"},\"shape\":[125],\"dtype\":\"float64\",\"order\":\"little\"}]]}}},\"view\":{\"type\":\"object\",\"name\":\"CDSView\",\"id\":\"p1268\",\"attributes\":{\"filter\":{\"type\":\"object\",\"name\":\"AllIndices\",\"id\":\"p1269\"}}},\"glyph\":{\"type\":\"object\",\"name\":\"Line\",\"id\":\"p1264\",\"attributes\":{\"x\":{\"type\":\"field\",\"field\":\"x\"},\"y\":{\"type\":\"field\",\"field\":\"y\"},\"line_color\":\"red\",\"line_width\":2}},\"nonselection_glyph\":{\"type\":\"object\",\"name\":\"Line\",\"id\":\"p1265\",\"attributes\":{\"x\":{\"type\":\"field\",\"field\":\"x\"},\"y\":{\"type\":\"field\",\"field\":\"y\"},\"line_color\":\"red\",\"line_alpha\":0.1,\"line_width\":2}},\"muted_glyph\":{\"type\":\"object\",\"name\":\"Line\",\"id\":\"p1266\",\"attributes\":{\"x\":{\"type\":\"field\",\"field\":\"x\"},\"y\":{\"type\":\"field\",\"field\":\"y\"},\"line_color\":\"red\",\"line_alpha\":0.2,\"line_width\":2}}}},{\"type\":\"object\",\"name\":\"GlyphRenderer\",\"id\":\"p1277\",\"attributes\":{\"data_source\":{\"type\":\"object\",\"name\":\"ColumnDataSource\",\"id\":\"p1271\",\"attributes\":{\"selected\":{\"type\":\"object\",\"name\":\"Selection\",\"id\":\"p1272\",\"attributes\":{\"indices\":[],\"line_indices\":[]}},\"selection_policy\":{\"type\":\"object\",\"name\":\"UnionRenderers\",\"id\":\"p1273\"},\"data\":{\"type\":\"map\",\"entries\":[[\"x0\",[21.2]],[\"y0\",[0.0]],[\"x1\",[21.2]],[\"y1\",[475.52]]]}}},\"view\":{\"type\":\"object\",\"name\":\"CDSView\",\"id\":\"p1278\",\"attributes\":{\"filter\":{\"type\":\"object\",\"name\":\"AllIndices\",\"id\":\"p1279\"}}},\"glyph\":{\"type\":\"object\",\"name\":\"Segment\",\"id\":\"p1274\",\"attributes\":{\"x0\":{\"type\":\"field\",\"field\":\"x0\"},\"y0\":{\"type\":\"field\",\"field\":\"y0\"},\"x1\":{\"type\":\"field\",\"field\":\"x1\"},\"y1\":{\"type\":\"field\",\"field\":\"y1\"},\"line_color\":{\"type\":\"value\",\"value\":\"lightblue\"},\"line_width\":{\"type\":\"value\",\"value\":3}}},\"nonselection_glyph\":{\"type\":\"object\",\"name\":\"Segment\",\"id\":\"p1275\",\"attributes\":{\"x0\":{\"type\":\"field\",\"field\":\"x0\"},\"y0\":{\"type\":\"field\",\"field\":\"y0\"},\"x1\":{\"type\":\"field\",\"field\":\"x1\"},\"y1\":{\"type\":\"field\",\"field\":\"y1\"},\"line_color\":{\"type\":\"value\",\"value\":\"lightblue\"},\"line_alpha\":{\"type\":\"value\",\"value\":0.1},\"line_width\":{\"type\":\"value\",\"value\":3}}},\"muted_glyph\":{\"type\":\"object\",\"name\":\"Segment\",\"id\":\"p1276\",\"attributes\":{\"x0\":{\"type\":\"field\",\"field\":\"x0\"},\"y0\":{\"type\":\"field\",\"field\":\"y0\"},\"x1\":{\"type\":\"field\",\"field\":\"x1\"},\"y1\":{\"type\":\"field\",\"field\":\"y1\"},\"line_color\":{\"type\":\"value\",\"value\":\"lightblue\"},\"line_alpha\":{\"type\":\"value\",\"value\":0.2},\"line_width\":{\"type\":\"value\",\"value\":3}}}}},{\"type\":\"object\",\"name\":\"GlyphRenderer\",\"id\":\"p1286\",\"attributes\":{\"data_source\":{\"type\":\"object\",\"name\":\"ColumnDataSource\",\"id\":\"p1280\",\"attributes\":{\"selected\":{\"type\":\"object\",\"name\":\"Selection\",\"id\":\"p1281\",\"attributes\":{\"indices\":[],\"line_indices\":[]}},\"selection_policy\":{\"type\":\"object\",\"name\":\"UnionRenderers\",\"id\":\"p1282\"},\"data\":{\"type\":\"map\",\"entries\":[[\"x0\",[22.7]],[\"y0\",[0.0]],[\"x1\",[22.7]],[\"y1\",[475.52]]]}}},\"view\":{\"type\":\"object\",\"name\":\"CDSView\",\"id\":\"p1287\",\"attributes\":{\"filter\":{\"type\":\"object\",\"name\":\"AllIndices\",\"id\":\"p1288\"}}},\"glyph\":{\"type\":\"object\",\"name\":\"Segment\",\"id\":\"p1283\",\"attributes\":{\"x0\":{\"type\":\"field\",\"field\":\"x0\"},\"y0\":{\"type\":\"field\",\"field\":\"y0\"},\"x1\":{\"type\":\"field\",\"field\":\"x1\"},\"y1\":{\"type\":\"field\",\"field\":\"y1\"},\"line_color\":{\"type\":\"value\",\"value\":\"darkseagreen\"}}},\"nonselection_glyph\":{\"type\":\"object\",\"name\":\"Segment\",\"id\":\"p1284\",\"attributes\":{\"x0\":{\"type\":\"field\",\"field\":\"x0\"},\"y0\":{\"type\":\"field\",\"field\":\"y0\"},\"x1\":{\"type\":\"field\",\"field\":\"x1\"},\"y1\":{\"type\":\"field\",\"field\":\"y1\"},\"line_color\":{\"type\":\"value\",\"value\":\"darkseagreen\"},\"line_alpha\":{\"type\":\"value\",\"value\":0.1}}},\"muted_glyph\":{\"type\":\"object\",\"name\":\"Segment\",\"id\":\"p1285\",\"attributes\":{\"x0\":{\"type\":\"field\",\"field\":\"x0\"},\"y0\":{\"type\":\"field\",\"field\":\"y0\"},\"x1\":{\"type\":\"field\",\"field\":\"x1\"},\"y1\":{\"type\":\"field\",\"field\":\"y1\"},\"line_color\":{\"type\":\"value\",\"value\":\"darkseagreen\"},\"line_alpha\":{\"type\":\"value\",\"value\":0.2}}}}},{\"type\":\"object\",\"name\":\"GlyphRenderer\",\"id\":\"p1295\",\"attributes\":{\"data_source\":{\"type\":\"object\",\"name\":\"ColumnDataSource\",\"id\":\"p1289\",\"attributes\":{\"selected\":{\"type\":\"object\",\"name\":\"Selection\",\"id\":\"p1290\",\"attributes\":{\"indices\":[],\"line_indices\":[]}},\"selection_policy\":{\"type\":\"object\",\"name\":\"UnionRenderers\",\"id\":\"p1291\"},\"data\":{\"type\":\"map\",\"entries\":[[\"x0\",[19.7]],[\"y0\",[0.0]],[\"x1\",[19.7]],[\"y1\",[475.52]]]}}},\"view\":{\"type\":\"object\",\"name\":\"CDSView\",\"id\":\"p1296\",\"attributes\":{\"filter\":{\"type\":\"object\",\"name\":\"AllIndices\",\"id\":\"p1297\"}}},\"glyph\":{\"type\":\"object\",\"name\":\"Segment\",\"id\":\"p1292\",\"attributes\":{\"x0\":{\"type\":\"field\",\"field\":\"x0\"},\"y0\":{\"type\":\"field\",\"field\":\"y0\"},\"x1\":{\"type\":\"field\",\"field\":\"x1\"},\"y1\":{\"type\":\"field\",\"field\":\"y1\"},\"line_color\":{\"type\":\"value\",\"value\":\"darkseagreen\"}}},\"nonselection_glyph\":{\"type\":\"object\",\"name\":\"Segment\",\"id\":\"p1293\",\"attributes\":{\"x0\":{\"type\":\"field\",\"field\":\"x0\"},\"y0\":{\"type\":\"field\",\"field\":\"y0\"},\"x1\":{\"type\":\"field\",\"field\":\"x1\"},\"y1\":{\"type\":\"field\",\"field\":\"y1\"},\"line_color\":{\"type\":\"value\",\"value\":\"darkseagreen\"},\"line_alpha\":{\"type\":\"value\",\"value\":0.1}}},\"muted_glyph\":{\"type\":\"object\",\"name\":\"Segment\",\"id\":\"p1294\",\"attributes\":{\"x0\":{\"type\":\"field\",\"field\":\"x0\"},\"y0\":{\"type\":\"field\",\"field\":\"y0\"},\"x1\":{\"type\":\"field\",\"field\":\"x1\"},\"y1\":{\"type\":\"field\",\"field\":\"y1\"},\"line_color\":{\"type\":\"value\",\"value\":\"darkseagreen\"},\"line_alpha\":{\"type\":\"value\",\"value\":0.2}}}}},{\"type\":\"object\",\"name\":\"GlyphRenderer\",\"id\":\"p1304\",\"attributes\":{\"data_source\":{\"type\":\"object\",\"name\":\"ColumnDataSource\",\"id\":\"p1298\",\"attributes\":{\"selected\":{\"type\":\"object\",\"name\":\"Selection\",\"id\":\"p1299\",\"attributes\":{\"indices\":[],\"line_indices\":[]}},\"selection_policy\":{\"type\":\"object\",\"name\":\"UnionRenderers\",\"id\":\"p1300\"},\"data\":{\"type\":\"map\",\"entries\":[[\"x\",[21.2]],[\"y\",[475.52]],[\"size\",[20]]]}}},\"view\":{\"type\":\"object\",\"name\":\"CDSView\",\"id\":\"p1305\",\"attributes\":{\"filter\":{\"type\":\"object\",\"name\":\"AllIndices\",\"id\":\"p1306\"}}},\"glyph\":{\"type\":\"object\",\"name\":\"Scatter\",\"id\":\"p1301\",\"attributes\":{\"x\":{\"type\":\"field\",\"field\":\"x\"},\"y\":{\"type\":\"field\",\"field\":\"y\"},\"size\":{\"type\":\"field\",\"field\":\"size\"},\"line_color\":{\"type\":\"value\",\"value\":\"lightblue\"},\"line_width\":{\"type\":\"value\",\"value\":3},\"fill_color\":{\"type\":\"value\",\"value\":null},\"marker\":{\"type\":\"value\",\"value\":\"square_cross\"}}},\"nonselection_glyph\":{\"type\":\"object\",\"name\":\"Scatter\",\"id\":\"p1302\",\"attributes\":{\"x\":{\"type\":\"field\",\"field\":\"x\"},\"y\":{\"type\":\"field\",\"field\":\"y\"},\"size\":{\"type\":\"field\",\"field\":\"size\"},\"line_color\":{\"type\":\"value\",\"value\":\"lightblue\"},\"line_alpha\":{\"type\":\"value\",\"value\":0.1},\"line_width\":{\"type\":\"value\",\"value\":3},\"fill_color\":{\"type\":\"value\",\"value\":null},\"fill_alpha\":{\"type\":\"value\",\"value\":0.1},\"hatch_alpha\":{\"type\":\"value\",\"value\":0.1},\"marker\":{\"type\":\"value\",\"value\":\"square_cross\"}}},\"muted_glyph\":{\"type\":\"object\",\"name\":\"Scatter\",\"id\":\"p1303\",\"attributes\":{\"x\":{\"type\":\"field\",\"field\":\"x\"},\"y\":{\"type\":\"field\",\"field\":\"y\"},\"size\":{\"type\":\"field\",\"field\":\"size\"},\"line_color\":{\"type\":\"value\",\"value\":\"lightblue\"},\"line_alpha\":{\"type\":\"value\",\"value\":0.2},\"line_width\":{\"type\":\"value\",\"value\":3},\"fill_color\":{\"type\":\"value\",\"value\":null},\"fill_alpha\":{\"type\":\"value\",\"value\":0.2},\"hatch_alpha\":{\"type\":\"value\",\"value\":0.2},\"marker\":{\"type\":\"value\",\"value\":\"square_cross\"}}}}}],\"toolbar\":{\"type\":\"object\",\"name\":\"Toolbar\",\"id\":\"p1191\",\"attributes\":{\"tools\":[{\"type\":\"object\",\"name\":\"PanTool\",\"id\":\"p1206\"},{\"type\":\"object\",\"name\":\"WheelZoomTool\",\"id\":\"p1207\",\"attributes\":{\"renderers\":\"auto\"}},{\"type\":\"object\",\"name\":\"BoxZoomTool\",\"id\":\"p1208\",\"attributes\":{\"overlay\":{\"type\":\"object\",\"name\":\"BoxAnnotation\",\"id\":\"p1209\",\"attributes\":{\"syncable\":false,\"line_color\":\"black\",\"line_alpha\":1.0,\"line_width\":2,\"line_dash\":[4,4],\"fill_color\":\"lightgrey\",\"fill_alpha\":0.5,\"level\":\"overlay\",\"visible\":false,\"left\":{\"type\":\"number\",\"value\":\"nan\"},\"right\":{\"type\":\"number\",\"value\":\"nan\"},\"top\":{\"type\":\"number\",\"value\":\"nan\"},\"bottom\":{\"type\":\"number\",\"value\":\"nan\"},\"left_units\":\"canvas\",\"right_units\":\"canvas\",\"top_units\":\"canvas\",\"bottom_units\":\"canvas\",\"handles\":{\"type\":\"object\",\"name\":\"BoxInteractionHandles\",\"id\":\"p1215\",\"attributes\":{\"all\":{\"type\":\"object\",\"name\":\"AreaVisuals\",\"id\":\"p1214\",\"attributes\":{\"fill_color\":\"white\",\"hover_fill_color\":\"lightgray\"}}}}}}}},{\"type\":\"object\",\"name\":\"SaveTool\",\"id\":\"p1216\"},{\"type\":\"object\",\"name\":\"ResetTool\",\"id\":\"p1217\"},{\"type\":\"object\",\"name\":\"HelpTool\",\"id\":\"p1218\"},{\"type\":\"object\",\"name\":\"HoverTool\",\"id\":\"p1250\",\"attributes\":{\"renderers\":\"auto\",\"tooltips\":[[\"Y-val\",\"@y{0.00}\"]]}}]}},\"left\":[{\"type\":\"object\",\"name\":\"LinearAxis\",\"id\":\"p1201\",\"attributes\":{\"ticker\":{\"type\":\"object\",\"name\":\"BasicTicker\",\"id\":\"p1202\",\"attributes\":{\"mantissas\":[1,2,5]}},\"formatter\":{\"type\":\"object\",\"name\":\"BasicTickFormatter\",\"id\":\"p1203\"},\"axis_label\":\"km/h\",\"axis_label_standoff\":10,\"axis_label_text_color\":\"#E0E0E0\",\"axis_label_text_font\":\"Helvetica\",\"axis_label_text_font_size\":\"1.25em\",\"axis_label_text_font_style\":\"normal\",\"major_label_policy\":{\"type\":\"object\",\"name\":\"AllLabels\",\"id\":\"p1204\"},\"major_label_text_color\":\"#E0E0E0\",\"major_label_text_font\":\"Helvetica\",\"major_label_text_font_size\":\"1.025em\",\"axis_line_color\":\"#E0E0E0\",\"axis_line_alpha\":0,\"major_tick_line_color\":\"#E0E0E0\",\"major_tick_line_alpha\":0,\"minor_tick_line_color\":\"#E0E0E0\",\"minor_tick_line_alpha\":0}},{\"type\":\"object\",\"name\":\"LinearAxis\",\"id\":\"p1221\",\"attributes\":{\"y_range_name\":\"altitudeFt\",\"ticker\":{\"type\":\"object\",\"name\":\"BasicTicker\",\"id\":\"p1222\",\"attributes\":{\"mantissas\":[1,2,5]}},\"formatter\":{\"type\":\"object\",\"name\":\"BasicTickFormatter\",\"id\":\"p1223\"},\"axis_label\":\"Alt (ft)\",\"axis_label_standoff\":10,\"axis_label_text_color\":\"#E0E0E0\",\"axis_label_text_font\":\"Helvetica\",\"axis_label_text_font_size\":\"1.25em\",\"axis_label_text_font_style\":\"normal\",\"major_label_policy\":{\"type\":\"object\",\"name\":\"AllLabels\",\"id\":\"p1224\"},\"major_label_text_color\":\"#E0E0E0\",\"major_label_text_font\":\"Helvetica\",\"major_label_text_font_size\":\"1.025em\",\"axis_line_color\":\"#E0E0E0\",\"axis_line_alpha\":0,\"major_tick_line_color\":\"#E0E0E0\",\"major_tick_line_alpha\":0,\"minor_tick_line_color\":\"#E0E0E0\",\"minor_tick_line_alpha\":0}},{\"type\":\"object\",\"name\":\"LinearAxis\",\"id\":\"p1225\",\"attributes\":{\"y_range_name\":\"angle\",\"ticker\":{\"type\":\"object\",\"name\":\"BasicTicker\",\"id\":\"p1226\",\"attributes\":{\"mantissas\":[1,2,5]}},\"formatter\":{\"type\":\"object\",\"name\":\"BasicTickFormatter\",\"id\":\"p1227\"},\"axis_label\":\"angle\",\"axis_label_standoff\":10,\"axis_label_text_color\":\"#E0E0E0\",\"axis_label_text_font\":\"Helvetica\",\"axis_label_text_font_size\":\"1.25em\",\"axis_label_text_font_style\":\"normal\",\"major_label_policy\":{\"type\":\"object\",\"name\":\"AllLabels\",\"id\":\"p1228\"},\"major_label_text_color\":\"#E0E0E0\",\"major_label_text_font\":\"Helvetica\",\"major_label_text_font_size\":\"1.025em\",\"axis_line_color\":\"#E0E0E0\",\"axis_line_alpha\":0,\"major_tick_line_color\":\"#E0E0E0\",\"major_tick_line_alpha\":0,\"minor_tick_line_color\":\"#E0E0E0\",\"minor_tick_line_alpha\":0}}],\"below\":[{\"type\":\"object\",\"name\":\"LinearAxis\",\"id\":\"p1196\",\"attributes\":{\"ticker\":{\"type\":\"object\",\"name\":\"BasicTicker\",\"id\":\"p1197\",\"attributes\":{\"mantissas\":[1,2,5]}},\"formatter\":{\"type\":\"object\",\"name\":\"BasicTickFormatter\",\"id\":\"p1198\"},\"axis_label\":\"seconds from exit\",\"axis_label_standoff\":10,\"axis_label_text_color\":\"#E0E0E0\",\"axis_label_text_font\":\"Helvetica\",\"axis_label_text_font_size\":\"1.25em\",\"axis_label_text_font_style\":\"normal\",\"major_label_policy\":{\"type\":\"object\",\"name\":\"AllLabels\",\"id\":\"p1199\"},\"major_label_text_color\":\"#E0E0E0\",\"major_label_text_font\":\"Helvetica\",\"major_label_text_font_size\":\"1.025em\",\"axis_line_color\":\"#E0E0E0\",\"axis_line_alpha\":0,\"major_tick_line_color\":\"#E0E0E0\",\"major_tick_line_alpha\":0,\"minor_tick_line_color\":\"#E0E0E0\",\"minor_tick_line_alpha\":0}}],\"center\":[{\"type\":\"object\",\"name\":\"Grid\",\"id\":\"p1200\",\"attributes\":{\"axis\":{\"id\":\"p1196\"},\"grid_line_color\":\"#E0E0E0\",\"grid_line_alpha\":0.25}},{\"type\":\"object\",\"name\":\"Grid\",\"id\":\"p1205\",\"attributes\":{\"dimension\":1,\"axis\":{\"id\":\"p1201\"},\"grid_line_color\":\"#E0E0E0\",\"grid_line_alpha\":0.25}},{\"type\":\"object\",\"name\":\"Legend\",\"id\":\"p1238\",\"attributes\":{\"border_line_alpha\":0,\"background_fill_color\":\"#20262B\",\"background_fill_alpha\":0.25,\"label_text_color\":\"#E0E0E0\",\"label_text_font\":\"Helvetica\",\"label_text_font_size\":\"1.025em\",\"label_standoff\":8,\"glyph_width\":15,\"spacing\":8,\"items\":[{\"type\":\"object\",\"name\":\"LegendItem\",\"id\":\"p1239\",\"attributes\":{\"label\":{\"type\":\"value\",\"value\":\"Alt (ft)\"},\"renderers\":[{\"id\":\"p1235\"}]}},{\"type\":\"object\",\"name\":\"LegendItem\",\"id\":\"p1249\",\"attributes\":{\"label\":{\"type\":\"value\",\"value\":\"angle\"},\"renderers\":[{\"id\":\"p1246\"}]}},{\"type\":\"object\",\"name\":\"LegendItem\",\"id\":\"p1260\",\"attributes\":{\"label\":{\"type\":\"value\",\"value\":\"speed\"},\"renderers\":[{\"id\":\"p1257\"}]}},{\"type\":\"object\",\"name\":\"LegendItem\",\"id\":\"p1270\",\"attributes\":{\"label\":{\"type\":\"value\",\"value\":\"H-speed\"},\"renderers\":[{\"id\":\"p1267\"}]}}]}}],\"background_fill_color\":\"#20262B\",\"border_fill_color\":\"#15191C\"}}]}};\n",
       "  const render_items = [{\"docid\":\"8a8f7419-29e6-438d-a6f3-98dd8eaa96c8\",\"roots\":{\"p1182\":\"e4e1df63-4c8c-4f9f-85da-238d059ebe67\"},\"root_ids\":[\"p1182\"]}];\n",
       "  void root.Bokeh.embed.embed_items_notebook(docs_json, render_items);\n",
       "  }\n",
       "  if (root.Bokeh !== undefined) {\n",
       "    embed_document(root);\n",
       "  } else {\n",
       "    let attempts = 0;\n",
       "    const timer = setInterval(function(root) {\n",
       "      if (root.Bokeh !== undefined) {\n",
       "        clearInterval(timer);\n",
       "        embed_document(root);\n",
       "      } else {\n",
       "        attempts++;\n",
       "        if (attempts > 100) {\n",
       "          clearInterval(timer);\n",
       "          console.log(\"Bokeh: ERROR: Unable to run BokehJS code because BokehJS library is missing\");\n",
       "        }\n",
       "      }\n",
       "    }, 10, root)\n",
       "  }\n",
       "})(window);"
      ],
      "application/vnd.bokehjs_exec.v0+json": ""
     },
     "metadata": {
      "application/vnd.bokehjs_exec.v0+json": {
       "id": "p1182"
      }
     },
     "output_type": "display_data"
    },
    {
     "data": {
      "application/vnd.jupyter.widget-view+json": {
       "model_id": "cf08554b9a824472ba4927d89a3b6d99",
       "version_major": 2,
       "version_minor": 0
      },
      "text/plain": [
       "HTML(value='<hr><h1><span style=\"color: #0f0\">data 12-31-11:v1 jump - 🟢 valid - score = 482.39 km/h</span></h1…"
      ]
     },
     "metadata": {},
     "output_type": "display_data"
    },
    {
     "data": {
      "application/vnd.jupyter.widget-view+json": {
       "model_id": "2ea3b38c9fa94e579ea13852a08de678",
       "version_major": 2,
       "version_minor": 0
      },
      "text/plain": [
       "HTML(value='<h3>Max speed = 483; exit at 4065 m (13337 ft), end scoring window at 1809 m (5935 ft)')"
      ]
     },
     "metadata": {},
     "output_type": "display_data"
    },
    {
     "data": {
      "application/vnd.jupyter.widget-view+json": {
       "model_id": "c341c237a37141e2ba4f6c0707acdc7a",
       "version_major": 2,
       "version_minor": 0
      },
      "text/plain": [
       "HTML(value='</h3>')"
      ]
     },
     "metadata": {},
     "output_type": "display_data"
    },
    {
     "data": {
      "text/html": [
       "<div>\n",
       "<style scoped>\n",
       "    .dataframe tbody tr th:only-of-type {\n",
       "        vertical-align: middle;\n",
       "    }\n",
       "\n",
       "    .dataframe tbody tr th {\n",
       "        vertical-align: top;\n",
       "    }\n",
       "\n",
       "    .dataframe thead th {\n",
       "        text-align: right;\n",
       "    }\n",
       "</style>\n",
       "<table border=\"1\" class=\"dataframe\">\n",
       "  <thead>\n",
       "    <tr style=\"text-align: right;\">\n",
       "      <th></th>\n",
       "      <th>time</th>\n",
       "      <th>vKMh</th>\n",
       "      <th>hKMh</th>\n",
       "      <th>speedAngle</th>\n",
       "      <th>distanceFromExit (m)</th>\n",
       "      <th>altitude (ft)</th>\n",
       "      <th>netVectorKMh</th>\n",
       "    </tr>\n",
       "  </thead>\n",
       "  <tbody>\n",
       "    <tr>\n",
       "      <th></th>\n",
       "      <td>5.0</td>\n",
       "      <td>181</td>\n",
       "      <td>123</td>\n",
       "      <td>55.74</td>\n",
       "      <td>207.60</td>\n",
       "      <td>12892</td>\n",
       "      <td>219</td>\n",
       "    </tr>\n",
       "    <tr>\n",
       "      <th></th>\n",
       "      <td>10.0</td>\n",
       "      <td>326</td>\n",
       "      <td>80</td>\n",
       "      <td>76.28</td>\n",
       "      <td>349.08</td>\n",
       "      <td>11708</td>\n",
       "      <td>335</td>\n",
       "    </tr>\n",
       "    <tr>\n",
       "      <th></th>\n",
       "      <td>15.0</td>\n",
       "      <td>423</td>\n",
       "      <td>31</td>\n",
       "      <td>85.84</td>\n",
       "      <td>424.37</td>\n",
       "      <td>9968</td>\n",
       "      <td>424</td>\n",
       "    </tr>\n",
       "    <tr>\n",
       "      <th></th>\n",
       "      <td>20.0</td>\n",
       "      <td>474</td>\n",
       "      <td>23</td>\n",
       "      <td>87.19</td>\n",
       "      <td>423.81</td>\n",
       "      <td>7900</td>\n",
       "      <td>474</td>\n",
       "    </tr>\n",
       "    <tr>\n",
       "      <th></th>\n",
       "      <td>25.0</td>\n",
       "      <td>481</td>\n",
       "      <td>43</td>\n",
       "      <td>84.92</td>\n",
       "      <td>374.26</td>\n",
       "      <td>5970</td>\n",
       "      <td>483</td>\n",
       "    </tr>\n",
       "  </tbody>\n",
       "</table>\n",
       "</div>"
      ],
      "text/plain": [
       "  time  vKMh  hKMh  speedAngle  distanceFromExit (m)  altitude (ft)  \\\n",
       "   5.0   181   123       55.74                207.60          12892   \n",
       "  10.0   326    80       76.28                349.08          11708   \n",
       "  15.0   423    31       85.84                424.37           9968   \n",
       "  20.0   474    23       87.19                423.81           7900   \n",
       "  25.0   481    43       84.92                374.26           5970   \n",
       "\n",
       "  netVectorKMh  \n",
       "           219  \n",
       "           335  \n",
       "           424  \n",
       "           474  \n",
       "           483  "
      ]
     },
     "metadata": {},
     "output_type": "display_data"
    },
    {
     "data": {
      "text/html": [
       "\n",
       "  <div id=\"a106a022-300e-4120-a21f-8f7d91b8b9ed\" data-root-id=\"p1325\" style=\"display: contents;\"></div>\n"
      ]
     },
     "metadata": {},
     "output_type": "display_data"
    },
    {
     "data": {
      "application/javascript": [
       "(function(root) {\n",
       "  function embed_document(root) {\n",
       "  const docs_json = {\"9e01e4f6-5cf0-4753-a38d-cfb1b98f2def\":{\"version\":\"3.5.2\",\"title\":\"Bokeh Application\",\"roots\":[{\"type\":\"object\",\"name\":\"Figure\",\"id\":\"p1325\",\"attributes\":{\"width\":900,\"height\":500,\"x_range\":{\"type\":\"object\",\"name\":\"Range1d\",\"id\":\"p1335\",\"attributes\":{\"end\":35.0}},\"y_range\":{\"type\":\"object\",\"name\":\"Range1d\",\"id\":\"p1336\",\"attributes\":{\"end\":550.0}},\"x_scale\":{\"type\":\"object\",\"name\":\"LinearScale\",\"id\":\"p1337\"},\"y_scale\":{\"type\":\"object\",\"name\":\"LinearScale\",\"id\":\"p1338\"},\"extra_y_ranges\":{\"type\":\"map\",\"entries\":[[\"altitudeFt\",{\"type\":\"object\",\"name\":\"Range1d\",\"id\":\"p1362\",\"attributes\":{\"start\":5470.431056,\"end\":13837.444490400001}}],[\"angle\",{\"type\":\"object\",\"name\":\"Range1d\",\"id\":\"p1363\",\"attributes\":{\"end\":90.0}}]]},\"title\":{\"type\":\"object\",\"name\":\"Title\",\"id\":\"p1328\",\"attributes\":{\"text\":\"data 12-31-11:v1\",\"text_color\":\"#E0E0E0\",\"text_font\":\"Helvetica\",\"text_font_size\":\"1.15em\"}},\"outline_line_color\":\"#E0E0E0\",\"outline_line_alpha\":0.25,\"renderers\":[{\"type\":\"object\",\"name\":\"GlyphRenderer\",\"id\":\"p1378\",\"attributes\":{\"y_range_name\":\"altitudeFt\",\"data_source\":{\"type\":\"object\",\"name\":\"ColumnDataSource\",\"id\":\"p1372\",\"attributes\":{\"selected\":{\"type\":\"object\",\"name\":\"Selection\",\"id\":\"p1373\",\"attributes\":{\"indices\":[],\"line_indices\":[]}},\"selection_policy\":{\"type\":\"object\",\"name\":\"UnionRenderers\",\"id\":\"p1374\"},\"data\":{\"type\":\"map\",\"entries\":[[\"x\",{\"type\":\"ndarray\",\"array\":{\"type\":\"bytes\",\"data\":\"AAAAAAAAAACamZmZmZnJP5qZmZmZmdk/MzMzMzMz4z+amZmZmZnpPwAAAAAAAPA/MzMzMzMz8z9mZmZmZmb2P5qZmZmZmfk/zczMzMzM/D8AAAAAAAAAQJqZmZmZmQFAMzMzMzMzA0DNzMzMzMwEQGZmZmZmZgZAAAAAAAAACECamZmZmZkJQDMzMzMzMwtAzczMzMzMDEBmZmZmZmYOQAAAAAAAABBAzczMzMzMEECamZmZmZkRQGZmZmZmZhJAMzMzMzMzE0AAAAAAAAAUQM3MzMzMzBRAmpmZmZmZFUBmZmZmZmYWQDMzMzMzMxdAAAAAAAAAGEDNzMzMzMwYQJqZmZmZmRlAZmZmZmZmGkAzMzMzMzMbQAAAAAAAABxAzczMzMzMHECamZmZmZkdQGZmZmZmZh5AMzMzMzMzH0AAAAAAAAAgQGZmZmZmZiBAzczMzMzMIEAzMzMzMzMhQJqZmZmZmSFAAAAAAAAAIkBmZmZmZmYiQM3MzMzMzCJAMzMzMzMzI0CamZmZmZkjQAAAAAAAACRAZmZmZmZmJEDNzMzMzMwkQDMzMzMzMyVAmpmZmZmZJUAAAAAAAAAmQGZmZmZmZiZAzczMzMzMJkAzMzMzMzMnQJqZmZmZmSdAAAAAAAAAKEBmZmZmZmYoQM3MzMzMzChAMzMzMzMzKUCamZmZmZkpQAAAAAAAACpAZmZmZmZmKkDNzMzMzMwqQDMzMzMzMytAmpmZmZmZK0AAAAAAAAAsQGZmZmZmZixAzczMzMzMLEAzMzMzMzMtQJqZmZmZmS1AAAAAAAAALkBmZmZmZmYuQM3MzMzMzC5AMzMzMzMzL0CamZmZmZkvQAAAAAAAADBAMzMzMzMzMEBmZmZmZmYwQJqZmZmZmTBAzczMzMzMMEAAAAAAAAAxQDMzMzMzMzFAZmZmZmZmMUCamZmZmZkxQM3MzMzMzDFAAAAAAAAAMkAzMzMzMzMyQGZmZmZmZjJAmpmZmZmZMkDNzMzMzMwyQAAAAAAAADNAMzMzMzMzM0BmZmZmZmYzQJqZmZmZmTNAzczMzMzMM0AAAAAAAAA0QDMzMzMzMzRAZmZmZmZmNECamZmZmZk0QM3MzMzMzDRAAAAAAAAANUAzMzMzMzM1QGZmZmZmZjVAmpmZmZmZNUDNzMzMzMw1QAAAAAAAADZAMzMzMzMzNkBmZmZmZmY2QJqZmZmZmTZAzczMzMzMNkAAAAAAAAA3QDMzMzMzMzdAZmZmZmZmN0CamZmZmZk3QM3MzMzMzDdAAAAAAAAAOEAzMzMzMzM4QGZmZmZmZjhA\"},\"shape\":[123],\"dtype\":\"float64\",\"order\":\"little\"}],[\"y\",{\"type\":\"ndarray\",\"array\":{\"type\":\"bytes\",\"data\":\"srkP5bgMykBsWzkg1gvKQEUbNoBFCspAm3PwTAAIykCyEB0C7wTKQFDOq5UMAcpAeozyzJv8yUBnKy/5r/fJQNjIZCf68clAcOqoD4HryUBCV2zdj+TJQIbUSKYG3clA5xCCn6rUyUAuhIvLx8vJQAY8H1RIwslAS4PsBhO4yUBiGLDkEq3JQPjGEAB8oclApAugzlOVyUBd5J6uXojJQPVyjvDEeslAdVq3QZ1syUDV99D00F3JQIALV6yGTslAyUqCJqg+yUBAsQQIHS7JQEc6qGn8HMlAuo+SDVILyUAKGo5C5fjIQLEBEeIC5shAPgXAeGbSyEB5eqUsY77IQCpEdpS5qchAoRCmzY2UyECk3Y2q037IQEbWGkqFaMhAe3KoOr9RyECN38rIhzrIQIFhVK3QIshApmmr7ZEKyECCLtCko/HHQDzm8tU82MdAcFF3r1S+x0AplIWvH6THQNpaut1WicdADTuMSfdtx0Bxw5TtCFLHQOR7kK+eNcdANWSXA+gYx0CwLyMGk/vGQAjMQ6bM3cZACxeoe8u/xkAXTi22XKHGQLLk4IiEgsZAX2l0YnpjxkB5fUFmukPGQFiUbTt4I8ZAevjXl/kCxkA6xfTOEuLFQNlHAmiHwMVAslKc/q+exUA8Ez9rY3zFQBEj3wAWWsVAtfqP8VU3xUCFmiFVxBPFQHSVk/Ww78RAkpDtIW7LxEAasD/kAKfEQNaZMbv9gcRAm6xRD7lcxEAXkt0WbjfEQERqfwzaEcRA3g5oRLzrw0AAz6xbQ8XDQD0gGievnsNAHn2Cesl3w0CgAIqRxVDDQMNtI1R3KcNAjkUuk/wBw0CwFkRJXdrCQO9d3ndvssJAuh9LekuKwkAGl9jG4WHCQBFHDVxcOcJA04ygjKQQwkB5gx4gvufBQFGc7RuhvsFAAqH18EWVwUB7o1aY3mvBQIAgihNBQsFAxciSOW4YwUCbL0DsVu7AQJYOMbksxMBAXi9NEeiZwED2s/3QgW/AQMF8aNXdRMBATqDj/hYawEA0+QviaN6/QMs3NpZLiL9A4kYl0Bsyv0CMNiJzoNu+QAPMxpS5hL5Al/lYC30tvkDLx6R1eta9QCLsyh1sf71ATFnh8QgovUBWz5N81tC8QCenG81GebxAr3N4rakhvEDnTY+39sm7QMXxjTI8crtAPrpszycau0CCAYQPJcK6QHVWVXkMarpAz+W8tXISukBEyT+Okbq5QA6EZAGTYrlAg2fn2bEKuUAYQs77n7K4QHGZLh9kWrhABnQVQVICuECbTvxiQKq3QL+er1luUrdA\"},\"shape\":[123],\"dtype\":\"float64\",\"order\":\"little\"}]]}}},\"view\":{\"type\":\"object\",\"name\":\"CDSView\",\"id\":\"p1379\",\"attributes\":{\"filter\":{\"type\":\"object\",\"name\":\"AllIndices\",\"id\":\"p1380\"}}},\"glyph\":{\"type\":\"object\",\"name\":\"Line\",\"id\":\"p1375\",\"attributes\":{\"x\":{\"type\":\"field\",\"field\":\"x\"},\"y\":{\"type\":\"field\",\"field\":\"y\"},\"line_color\":\"palegoldenrod\",\"line_width\":2}},\"nonselection_glyph\":{\"type\":\"object\",\"name\":\"Line\",\"id\":\"p1376\",\"attributes\":{\"x\":{\"type\":\"field\",\"field\":\"x\"},\"y\":{\"type\":\"field\",\"field\":\"y\"},\"line_color\":\"palegoldenrod\",\"line_alpha\":0.1,\"line_width\":2}},\"muted_glyph\":{\"type\":\"object\",\"name\":\"Line\",\"id\":\"p1377\",\"attributes\":{\"x\":{\"type\":\"field\",\"field\":\"x\"},\"y\":{\"type\":\"field\",\"field\":\"y\"},\"line_color\":\"palegoldenrod\",\"line_alpha\":0.2,\"line_width\":2}}}},{\"type\":\"object\",\"name\":\"GlyphRenderer\",\"id\":\"p1389\",\"attributes\":{\"y_range_name\":\"angle\",\"data_source\":{\"type\":\"object\",\"name\":\"ColumnDataSource\",\"id\":\"p1383\",\"attributes\":{\"selected\":{\"type\":\"object\",\"name\":\"Selection\",\"id\":\"p1384\",\"attributes\":{\"indices\":[],\"line_indices\":[]}},\"selection_policy\":{\"type\":\"object\",\"name\":\"UnionRenderers\",\"id\":\"p1385\"},\"data\":{\"type\":\"map\",\"entries\":[[\"x\",{\"type\":\"ndarray\",\"array\":{\"type\":\"bytes\",\"data\":\"AAAAAAAAAACamZmZmZnJP5qZmZmZmdk/MzMzMzMz4z+amZmZmZnpPwAAAAAAAPA/MzMzMzMz8z9mZmZmZmb2P5qZmZmZmfk/zczMzMzM/D8AAAAAAAAAQJqZmZmZmQFAMzMzMzMzA0DNzMzMzMwEQGZmZmZmZgZAAAAAAAAACECamZmZmZkJQDMzMzMzMwtAzczMzMzMDEBmZmZmZmYOQAAAAAAAABBAzczMzMzMEECamZmZmZkRQGZmZmZmZhJAMzMzMzMzE0AAAAAAAAAUQM3MzMzMzBRAmpmZmZmZFUBmZmZmZmYWQDMzMzMzMxdAAAAAAAAAGEDNzMzMzMwYQJqZmZmZmRlAZmZmZmZmGkAzMzMzMzMbQAAAAAAAABxAzczMzMzMHECamZmZmZkdQGZmZmZmZh5AMzMzMzMzH0AAAAAAAAAgQGZmZmZmZiBAzczMzMzMIEAzMzMzMzMhQJqZmZmZmSFAAAAAAAAAIkBmZmZmZmYiQM3MzMzMzCJAMzMzMzMzI0CamZmZmZkjQAAAAAAAACRAZmZmZmZmJEDNzMzMzMwkQDMzMzMzMyVAmpmZmZmZJUAAAAAAAAAmQGZmZmZmZiZAzczMzMzMJkAzMzMzMzMnQJqZmZmZmSdAAAAAAAAAKEBmZmZmZmYoQM3MzMzMzChAMzMzMzMzKUCamZmZmZkpQAAAAAAAACpAZmZmZmZmKkDNzMzMzMwqQDMzMzMzMytAmpmZmZmZK0AAAAAAAAAsQGZmZmZmZixAzczMzMzMLEAzMzMzMzMtQJqZmZmZmS1AAAAAAAAALkBmZmZmZmYuQM3MzMzMzC5AMzMzMzMzL0CamZmZmZkvQAAAAAAAADBAMzMzMzMzMEBmZmZmZmYwQJqZmZmZmTBAzczMzMzMMEAAAAAAAAAxQDMzMzMzMzFAZmZmZmZmMUCamZmZmZkxQM3MzMzMzDFAAAAAAAAAMkAzMzMzMzMyQGZmZmZmZjJAmpmZmZmZMkDNzMzMzMwyQAAAAAAAADNAMzMzMzMzM0BmZmZmZmYzQJqZmZmZmTNAzczMzMzMM0AAAAAAAAA0QDMzMzMzMzRAZmZmZmZmNECamZmZmZk0QM3MzMzMzDRAAAAAAAAANUAzMzMzMzM1QGZmZmZmZjVAmpmZmZmZNUDNzMzMzMw1QAAAAAAAADZAMzMzMzMzNkBmZmZmZmY2QJqZmZmZmTZAzczMzMzMNkAAAAAAAAA3QDMzMzMzMzdAZmZmZmZmN0CamZmZmZk3QM3MzMzMzDdAAAAAAAAAOEAzMzMzMzM4QGZmZmZmZjhA\"},\"shape\":[123],\"dtype\":\"float64\",\"order\":\"little\"}],[\"y\",{\"type\":\"ndarray\",\"array\":{\"type\":\"bytes\",\"data\":\"zczMzMzMBECuR+F6FK4TQDMzMzMzMxxACtejcD0KI0DNzMzMzMwnQLgehetROCxApHA9CtcjMEDsUbgehWsyQOxRuB6F6zRAw/UoXI+CN0BmZmZmZqY5QPYoXI/C9TtAzczMzMwMP0A9CtejcJ1AQJqZmZmZ2UFAzczMzMwMQ0AK16NwPUpEQJqZmZmZWUVAj8L1KFxPRkBSuB6F6zFHQBSuR+F6NEhAj8L1KFzvSEAK16NwPcpJQMP1KFyPokpAexSuR+E6S0AfhetRuN5LQGZmZmZmhkxApHA9CtcjTUA9CtejcJ1NQKRwPQrXI05AzczMzMysTkBI4XoUridPQOxRuB6Fq09ACtejcD0aUEDXo3A9CldQQOxRuB6Fi1BAzczMzMy8UEAUrkfhevRQQI/C9ShcL1FAAAAAAABgUUAfhetRuI5RQHE9CtejwFFAmpmZmZnpUUCPwvUoXA9SQD0K16NwPVJAAAAAAABwUkCamZmZmYlSQHE9CtejsFJAzczMzMzMUkCF61G4HvVSQFK4HoXrEVNAAAAAAAAwU0AfhetRuE5TQM3MzMzMbFNAMzMzMzODU0BSuB6F66FTQJqZmZmZyVNAmpmZmZnZU0DhehSuR/FTQGZmZmZmBlRAAAAAAAAgVEA9CtejcD1UQAAAAAAAUFRAAAAAAABwVECamZmZmYlUQOxRuB6Fq1RAPQrXo3C9VEAAAAAAANBUQOF6FK5H4VRAhetRuB7lVEAfhetRuO5UQGZmZmZmBlVAUrgeheshVUAK16NwPUpVQNejcD0KV1VA9ihcj8J1VUDD9Shcj5JVQBSuR+F6pFVAXI/C9Si8VUDhehSuR9FVQAAAAAAA8FVA16NwPQoHVkDNzMzMzBxWQJqZmZmZOVZACtejcD1KVkCuR+F6FF5WQArXo3A9alZAexSuR+FqVkCkcD0K12NWQDMzMzMzU1ZA7FG4HoVLVkBxPQrXo0BWQJqZmZmZKVZArkfhehQeVkApXI/C9RhWQOxRuB6FC1ZAUrgehesBVkDsUbgehetVQHsUrkfh2lVAMzMzMzPTVUBcj8L1KMxVQGZmZmZmxlVApHA9CtfDVUB7FK5H4apVQFyPwvUojFVACtejcD16VUAAAAAAAHBVQNejcD0KZ1VAcT0K16NgVUBcj8L1KFxVQAAAAAAAUFVAUrgehetRVUApXI/C9ThVQI/C9ShcH1VAKVyPwvUIVUAfhetRuP5UQI/C9Shc/1RAw/UoXI8CVUDXo3A9CgdVQLgehetRCFVAuB6F61EYVUDsUbgehStVQHsUrkfhOlVA\"},\"shape\":[123],\"dtype\":\"float64\",\"order\":\"little\"}]]}}},\"view\":{\"type\":\"object\",\"name\":\"CDSView\",\"id\":\"p1390\",\"attributes\":{\"filter\":{\"type\":\"object\",\"name\":\"AllIndices\",\"id\":\"p1391\"}}},\"glyph\":{\"type\":\"object\",\"name\":\"Line\",\"id\":\"p1386\",\"attributes\":{\"x\":{\"type\":\"field\",\"field\":\"x\"},\"y\":{\"type\":\"field\",\"field\":\"y\"},\"line_color\":\"deepskyblue\",\"line_width\":2}},\"nonselection_glyph\":{\"type\":\"object\",\"name\":\"Line\",\"id\":\"p1387\",\"attributes\":{\"x\":{\"type\":\"field\",\"field\":\"x\"},\"y\":{\"type\":\"field\",\"field\":\"y\"},\"line_color\":\"deepskyblue\",\"line_alpha\":0.1,\"line_width\":2}},\"muted_glyph\":{\"type\":\"object\",\"name\":\"Line\",\"id\":\"p1388\",\"attributes\":{\"x\":{\"type\":\"field\",\"field\":\"x\"},\"y\":{\"type\":\"field\",\"field\":\"y\"},\"line_color\":\"deepskyblue\",\"line_alpha\":0.2,\"line_width\":2}}}},{\"type\":\"object\",\"name\":\"GlyphRenderer\",\"id\":\"p1400\",\"attributes\":{\"data_source\":{\"type\":\"object\",\"name\":\"ColumnDataSource\",\"id\":\"p1394\",\"attributes\":{\"selected\":{\"type\":\"object\",\"name\":\"Selection\",\"id\":\"p1395\",\"attributes\":{\"indices\":[],\"line_indices\":[]}},\"selection_policy\":{\"type\":\"object\",\"name\":\"UnionRenderers\",\"id\":\"p1396\"},\"data\":{\"type\":\"map\",\"entries\":[[\"x\",{\"type\":\"ndarray\",\"array\":{\"type\":\"bytes\",\"data\":\"AAAAAAAAAACamZmZmZnJP5qZmZmZmdk/MzMzMzMz4z+amZmZmZnpPwAAAAAAAPA/MzMzMzMz8z9mZmZmZmb2P5qZmZmZmfk/zczMzMzM/D8AAAAAAAAAQJqZmZmZmQFAMzMzMzMzA0DNzMzMzMwEQGZmZmZmZgZAAAAAAAAACECamZmZmZkJQDMzMzMzMwtAzczMzMzMDEBmZmZmZmYOQAAAAAAAABBAzczMzMzMEECamZmZmZkRQGZmZmZmZhJAMzMzMzMzE0AAAAAAAAAUQM3MzMzMzBRAmpmZmZmZFUBmZmZmZmYWQDMzMzMzMxdAAAAAAAAAGEDNzMzMzMwYQJqZmZmZmRlAZmZmZmZmGkAzMzMzMzMbQAAAAAAAABxAzczMzMzMHECamZmZmZkdQGZmZmZmZh5AMzMzMzMzH0AAAAAAAAAgQGZmZmZmZiBAzczMzMzMIEAzMzMzMzMhQJqZmZmZmSFAAAAAAAAAIkBmZmZmZmYiQM3MzMzMzCJAMzMzMzMzI0CamZmZmZkjQAAAAAAAACRAZmZmZmZmJEDNzMzMzMwkQDMzMzMzMyVAmpmZmZmZJUAAAAAAAAAmQGZmZmZmZiZAzczMzMzMJkAzMzMzMzMnQJqZmZmZmSdAAAAAAAAAKEBmZmZmZmYoQM3MzMzMzChAMzMzMzMzKUCamZmZmZkpQAAAAAAAACpAZmZmZmZmKkDNzMzMzMwqQDMzMzMzMytAmpmZmZmZK0AAAAAAAAAsQGZmZmZmZixAzczMzMzMLEAzMzMzMzMtQJqZmZmZmS1AAAAAAAAALkBmZmZmZmYuQM3MzMzMzC5AMzMzMzMzL0CamZmZmZkvQAAAAAAAADBAMzMzMzMzMEBmZmZmZmYwQJqZmZmZmTBAzczMzMzMMEAAAAAAAAAxQDMzMzMzMzFAZmZmZmZmMUCamZmZmZkxQM3MzMzMzDFAAAAAAAAAMkAzMzMzMzMyQGZmZmZmZjJAmpmZmZmZMkDNzMzMzMwyQAAAAAAAADNAMzMzMzMzM0BmZmZmZmYzQJqZmZmZmTNAzczMzMzMM0AAAAAAAAA0QDMzMzMzMzRAZmZmZmZmNECamZmZmZk0QM3MzMzMzDRAAAAAAAAANUAzMzMzMzM1QGZmZmZmZjVAmpmZmZmZNUDNzMzMzMw1QAAAAAAAADZAMzMzMzMzNkBmZmZmZmY2QJqZmZmZmTZAzczMzMzMNkAAAAAAAAA3QDMzMzMzMzdAZmZmZmZmN0CamZmZmZk3QM3MzMzMzDdAAAAAAAAAOEAzMzMzMzM4QGZmZmZmZjhA\"},\"shape\":[123],\"dtype\":\"float64\",\"order\":\"little\"}],[\"y\",{\"type\":\"ndarray\",\"array\":{\"type\":\"bytes\",\"data\":\"LIcW2c73H0DiehSuR+EtQE5iEFg5NDVAH4XrUbiePEBCYOXQIttBQH9qvHSTGEVA/tR46SYxSED6fmq8dJNLQGIQWDm0SE9A0SLb+X6KUUA5tMh2vv9SQDzfT42XrlRAiUFg5dDCVkC8dJMYBFZYQJZDi2znG1pAyXa+nxqvW0AbL90kBsFdQD4K16NwXV9AlkOLbOeLYEDeJAaBlYNhQCcxCKwcemJAwvUoXI9CY0AlBoGVQytkQLkehetR+GRAPN9PjZfOZUC8dJMYBKZmQEw3iUFgdWdA5/up8dI9aECF61G4HgVpQBkEVg4t0mlAne+nxkunakBFtvP91GhrQOSlm8QgMGxAj8L1KFzvbEAnMQisHLptQOJ6FK5HcW5AsHJoke0cb0BxPQrXo9BvQJzEILByQHBAAAAAAACYcEBSuB6F6/lwQKRwPQrXW3FAg8DKoUW2cUAIrBxaZPtxQOomMQisVHJA0SLb+X6qckAaL90kBhFzQAAAAAAAaHNAgZVDi2yvc0BeukkMAgt0QM3MzMzMXHRA8tJNYhCQdEDufD81Xtp0QH9qvHSTGHVAK4cW2c5HdUCR7Xw/NZ51QJZDi2zn43VAMzMzMzMbdkApXI/C9Wh2QKjGSzeJsXZAMN0kBoH1dkC/nxov3TR3QAaBlUOLVHdAhetRuB6dd0D8qfHSTep3QPyp8dJNMnhAFK5H4XpseECoxks3ial4QKRwPQrX83hAN4lBYOUweUDZzvdT42V5QIgW2c73k3lAppvEILDKeUC5HoXrUQh6QEoMAiuHRnpAfT81XrpxekAxCKwcWpx6QGQ730+Nx3pAEoPAyqH1ekBbZDvfTxV7QA4tsp3vP3tAx0s3iUFoe0B9PzVeupF7QD4K16NwtXtADi2yne/Pe0BV46WbxPB7QIXrUbgeHXxA5KWbxCAwfECd76fGS1d8QOf7qfHSdXxArkfhehSWfED4U+Olm7R8QL6fGi/d1HxAjpduEoPwfED2KFyPwv18QLbz/dR4IX1AhetRuB49fUBfukkMAlN9QC/dJAaBbX1ABoGVQ4uEfUDc+X5qvJx9QCGwcmiRvX1AoBov3SS+fUAYBFYOLcJ9QI/C9Shcx31Ac2iR7XzXfUBuEoPAytl9QM73U+Ol631ALIcW2c7/fUAzMzMzM/t9QPyp8dJNGn5Ad76fGi8dfkB/arx0kxh+QCyHFtnO/31AqvHSTWIAfkAIrBxaZBN+QPp+arx0G35Aa7x0kxgkfkDx0k1iECB+QGHl0CLbKX5A9ihcj8IdfkD8qfHSTRp+QBKDwMqhDX5A\"},\"shape\":[123],\"dtype\":\"float64\",\"order\":\"little\"}]]}}},\"view\":{\"type\":\"object\",\"name\":\"CDSView\",\"id\":\"p1401\",\"attributes\":{\"filter\":{\"type\":\"object\",\"name\":\"AllIndices\",\"id\":\"p1402\"}}},\"glyph\":{\"type\":\"object\",\"name\":\"Line\",\"id\":\"p1397\",\"attributes\":{\"x\":{\"type\":\"field\",\"field\":\"x\"},\"y\":{\"type\":\"field\",\"field\":\"y\"},\"line_color\":\"limegreen\",\"line_width\":2}},\"nonselection_glyph\":{\"type\":\"object\",\"name\":\"Line\",\"id\":\"p1398\",\"attributes\":{\"x\":{\"type\":\"field\",\"field\":\"x\"},\"y\":{\"type\":\"field\",\"field\":\"y\"},\"line_color\":\"limegreen\",\"line_alpha\":0.1,\"line_width\":2}},\"muted_glyph\":{\"type\":\"object\",\"name\":\"Line\",\"id\":\"p1399\",\"attributes\":{\"x\":{\"type\":\"field\",\"field\":\"x\"},\"y\":{\"type\":\"field\",\"field\":\"y\"},\"line_color\":\"limegreen\",\"line_alpha\":0.2,\"line_width\":2}}}},{\"type\":\"object\",\"name\":\"GlyphRenderer\",\"id\":\"p1410\",\"attributes\":{\"data_source\":{\"type\":\"object\",\"name\":\"ColumnDataSource\",\"id\":\"p1404\",\"attributes\":{\"selected\":{\"type\":\"object\",\"name\":\"Selection\",\"id\":\"p1405\",\"attributes\":{\"indices\":[],\"line_indices\":[]}},\"selection_policy\":{\"type\":\"object\",\"name\":\"UnionRenderers\",\"id\":\"p1406\"},\"data\":{\"type\":\"map\",\"entries\":[[\"x\",{\"type\":\"ndarray\",\"array\":{\"type\":\"bytes\",\"data\":\"AAAAAAAAAACamZmZmZnJP5qZmZmZmdk/MzMzMzMz4z+amZmZmZnpPwAAAAAAAPA/MzMzMzMz8z9mZmZmZmb2P5qZmZmZmfk/zczMzMzM/D8AAAAAAAAAQJqZmZmZmQFAMzMzMzMzA0DNzMzMzMwEQGZmZmZmZgZAAAAAAAAACECamZmZmZkJQDMzMzMzMwtAzczMzMzMDEBmZmZmZmYOQAAAAAAAABBAzczMzMzMEECamZmZmZkRQGZmZmZmZhJAMzMzMzMzE0AAAAAAAAAUQM3MzMzMzBRAmpmZmZmZFUBmZmZmZmYWQDMzMzMzMxdAAAAAAAAAGEDNzMzMzMwYQJqZmZmZmRlAZmZmZmZmGkAzMzMzMzMbQAAAAAAAABxAzczMzMzMHECamZmZmZkdQGZmZmZmZh5AMzMzMzMzH0AAAAAAAAAgQGZmZmZmZiBAzczMzMzMIEAzMzMzMzMhQJqZmZmZmSFAAAAAAAAAIkBmZmZmZmYiQM3MzMzMzCJAMzMzMzMzI0CamZmZmZkjQAAAAAAAACRAZmZmZmZmJEDNzMzMzMwkQDMzMzMzMyVAmpmZmZmZJUAAAAAAAAAmQGZmZmZmZiZAzczMzMzMJkAzMzMzMzMnQJqZmZmZmSdAAAAAAAAAKEBmZmZmZmYoQM3MzMzMzChAMzMzMzMzKUCamZmZmZkpQAAAAAAAACpAZmZmZmZmKkDNzMzMzMwqQDMzMzMzMytAmpmZmZmZK0AAAAAAAAAsQGZmZmZmZixAzczMzMzMLEAzMzMzMzMtQJqZmZmZmS1AAAAAAAAALkBmZmZmZmYuQM3MzMzMzC5AMzMzMzMzL0CamZmZmZkvQAAAAAAAADBAMzMzMzMzMEBmZmZmZmYwQJqZmZmZmTBAzczMzMzMMEAAAAAAAAAxQDMzMzMzMzFAZmZmZmZmMUCamZmZmZkxQM3MzMzMzDFAAAAAAAAAMkAzMzMzMzMyQGZmZmZmZjJAmpmZmZmZMkDNzMzMzMwyQAAAAAAAADNAMzMzMzMzM0BmZmZmZmYzQJqZmZmZmTNAzczMzMzMM0AAAAAAAAA0QDMzMzMzMzRAZmZmZmZmNECamZmZmZk0QM3MzMzMzDRAAAAAAAAANUAzMzMzMzM1QGZmZmZmZjVAmpmZmZmZNUDNzMzMzMw1QAAAAAAAADZAMzMzMzMzNkBmZmZmZmY2QJqZmZmZmTZAzczMzMzMNkAAAAAAAAA3QDMzMzMzMzdAZmZmZmZmN0CamZmZmZk3QM3MzMzMzDdAAAAAAAAAOEAzMzMzMzM4QGZmZmZmZjhA\"},\"shape\":[123],\"dtype\":\"float64\",\"order\":\"little\"}],[\"y\",{\"type\":\"ndarray\",\"array\":{\"type\":\"bytes\",\"data\":\"8GRMxZL6ZUDc3KzAErdlQMm2mTbecGVAulq9lK1XZUAj1WSshi1lQAtZ2L5x+WRAyUFChWTmZEAdenWO+rJkQO11xq+vdmRAorxZwbYpZEBH1ihVfshjQCUlTtNJemNAkrXDj87nYkApHU+X3JJiQDucixAhKmJANSbg9MWmYUCRj94nVl9hQFzMYTwj/mBA1Qh6OvnDYEB3EuX4RK9gQMus+4NOZmBArGB/9948YEAJ50dkff1fQMlbttnVTF9ADUjCpiEpX0BNXD1Qb9leQNLl8bPKaV5Anx3UbSv2XUCJbB+KLsxdQCbVPTDRe11AW/2h860eXUDKDKjshsNcQDbt8Q5sTVxAk4mRXaq2W0CI3+YSFEZbQNMY0Hne4VpAzg6IC1R5WkDcs/SqKvJZQMs5y/bkSVlAapeGFJjSWECaGRekDmhYQDzWArNf5VdASCMsL81+V0CfEmZ3EglXQJzNjFftd1ZAPA2JPO/EVUChYwzThqVVQO0IAKYHJlVAvkqfcd3MVEAOQQaJvD1UQDAt/YKM5FNAp1JJjPFdU0CDtydRzuZSQAklFOjIZlJAOyhKM8IDUkAocETCgopRQF1hZIy4xlBAnCfbWgeOUECAdULPDixQQLJF/HZrsk9AcJP9mUC4TkCjK43jlIpNQEmz3GqtvExA625y0mRgS0B7Vdml5GRKQFXI1Lvd4EhAX67clWsgSEAVIlalkVlHQOGqlpsMqUZAHmNOatuuRkCIfLph2FJGQNtVh/BbIkVAlZieJZu/Q0A+Qji9DqJBQAiy2ChmE0FAt4bd6/7LPkBICOG8o5g7QBsYl4XBqjlAWfExuH0UN0BtpHGziao0QM9+BrhDJTFAM8RRVkn4LECOVeofAuEnQHB1d5hH+iBA8acT4jgzGkAW2dRHIJUQQDjmwsTkLgVAF08P1oubBECIo3pDe68LQH/I9Py1NBZAPgfyFp1DGkDksTmNLcgfQG1qpeK4xSVAoBtNf/3AKECPwZchchIqQC0YeC+3qS1AsDEVibMQMEAFPCycqQYzQPaUoZzcOTVABtb2VT9JNkAXjR9TAEs3QO7huxqRIzhAuYzJIpVxOEAYrI3LXrw7QGJqlB3+wD9AKebil/wQQUDDjjtC88FBQAmsmjNNW0JAOv4lturaQkCcJtuneh5DQKU8sN4T/kNAskyc8VvkQ0AC/GfgsolFQN8qiyKcIUdAgE/7uP+dSEB0F24/tl1JQF1pgZJoWklAzE/YE28uSUCe77VSyN9IQLr8L39Gy0hA/a9C7hy3R0Ceslzkz21GQMAp3UZaXEVA\"},\"shape\":[123],\"dtype\":\"float64\",\"order\":\"little\"}]]}}},\"view\":{\"type\":\"object\",\"name\":\"CDSView\",\"id\":\"p1411\",\"attributes\":{\"filter\":{\"type\":\"object\",\"name\":\"AllIndices\",\"id\":\"p1412\"}}},\"glyph\":{\"type\":\"object\",\"name\":\"Line\",\"id\":\"p1407\",\"attributes\":{\"x\":{\"type\":\"field\",\"field\":\"x\"},\"y\":{\"type\":\"field\",\"field\":\"y\"},\"line_color\":\"red\",\"line_width\":2}},\"nonselection_glyph\":{\"type\":\"object\",\"name\":\"Line\",\"id\":\"p1408\",\"attributes\":{\"x\":{\"type\":\"field\",\"field\":\"x\"},\"y\":{\"type\":\"field\",\"field\":\"y\"},\"line_color\":\"red\",\"line_alpha\":0.1,\"line_width\":2}},\"muted_glyph\":{\"type\":\"object\",\"name\":\"Line\",\"id\":\"p1409\",\"attributes\":{\"x\":{\"type\":\"field\",\"field\":\"x\"},\"y\":{\"type\":\"field\",\"field\":\"y\"},\"line_color\":\"red\",\"line_alpha\":0.2,\"line_width\":2}}}},{\"type\":\"object\",\"name\":\"GlyphRenderer\",\"id\":\"p1420\",\"attributes\":{\"data_source\":{\"type\":\"object\",\"name\":\"ColumnDataSource\",\"id\":\"p1414\",\"attributes\":{\"selected\":{\"type\":\"object\",\"name\":\"Selection\",\"id\":\"p1415\",\"attributes\":{\"indices\":[],\"line_indices\":[]}},\"selection_policy\":{\"type\":\"object\",\"name\":\"UnionRenderers\",\"id\":\"p1416\"},\"data\":{\"type\":\"map\",\"entries\":[[\"x0\",[21.4]],[\"y0\",[0.0]],[\"x1\",[21.4]],[\"y1\",[482.39]]]}}},\"view\":{\"type\":\"object\",\"name\":\"CDSView\",\"id\":\"p1421\",\"attributes\":{\"filter\":{\"type\":\"object\",\"name\":\"AllIndices\",\"id\":\"p1422\"}}},\"glyph\":{\"type\":\"object\",\"name\":\"Segment\",\"id\":\"p1417\",\"attributes\":{\"x0\":{\"type\":\"field\",\"field\":\"x0\"},\"y0\":{\"type\":\"field\",\"field\":\"y0\"},\"x1\":{\"type\":\"field\",\"field\":\"x1\"},\"y1\":{\"type\":\"field\",\"field\":\"y1\"},\"line_color\":{\"type\":\"value\",\"value\":\"lightblue\"},\"line_width\":{\"type\":\"value\",\"value\":3}}},\"nonselection_glyph\":{\"type\":\"object\",\"name\":\"Segment\",\"id\":\"p1418\",\"attributes\":{\"x0\":{\"type\":\"field\",\"field\":\"x0\"},\"y0\":{\"type\":\"field\",\"field\":\"y0\"},\"x1\":{\"type\":\"field\",\"field\":\"x1\"},\"y1\":{\"type\":\"field\",\"field\":\"y1\"},\"line_color\":{\"type\":\"value\",\"value\":\"lightblue\"},\"line_alpha\":{\"type\":\"value\",\"value\":0.1},\"line_width\":{\"type\":\"value\",\"value\":3}}},\"muted_glyph\":{\"type\":\"object\",\"name\":\"Segment\",\"id\":\"p1419\",\"attributes\":{\"x0\":{\"type\":\"field\",\"field\":\"x0\"},\"y0\":{\"type\":\"field\",\"field\":\"y0\"},\"x1\":{\"type\":\"field\",\"field\":\"x1\"},\"y1\":{\"type\":\"field\",\"field\":\"y1\"},\"line_color\":{\"type\":\"value\",\"value\":\"lightblue\"},\"line_alpha\":{\"type\":\"value\",\"value\":0.2},\"line_width\":{\"type\":\"value\",\"value\":3}}}}},{\"type\":\"object\",\"name\":\"GlyphRenderer\",\"id\":\"p1429\",\"attributes\":{\"data_source\":{\"type\":\"object\",\"name\":\"ColumnDataSource\",\"id\":\"p1423\",\"attributes\":{\"selected\":{\"type\":\"object\",\"name\":\"Selection\",\"id\":\"p1424\",\"attributes\":{\"indices\":[],\"line_indices\":[]}},\"selection_policy\":{\"type\":\"object\",\"name\":\"UnionRenderers\",\"id\":\"p1425\"},\"data\":{\"type\":\"map\",\"entries\":[[\"x0\",[22.9]],[\"y0\",[0.0]],[\"x1\",[22.9]],[\"y1\",[482.39]]]}}},\"view\":{\"type\":\"object\",\"name\":\"CDSView\",\"id\":\"p1430\",\"attributes\":{\"filter\":{\"type\":\"object\",\"name\":\"AllIndices\",\"id\":\"p1431\"}}},\"glyph\":{\"type\":\"object\",\"name\":\"Segment\",\"id\":\"p1426\",\"attributes\":{\"x0\":{\"type\":\"field\",\"field\":\"x0\"},\"y0\":{\"type\":\"field\",\"field\":\"y0\"},\"x1\":{\"type\":\"field\",\"field\":\"x1\"},\"y1\":{\"type\":\"field\",\"field\":\"y1\"},\"line_color\":{\"type\":\"value\",\"value\":\"darkseagreen\"}}},\"nonselection_glyph\":{\"type\":\"object\",\"name\":\"Segment\",\"id\":\"p1427\",\"attributes\":{\"x0\":{\"type\":\"field\",\"field\":\"x0\"},\"y0\":{\"type\":\"field\",\"field\":\"y0\"},\"x1\":{\"type\":\"field\",\"field\":\"x1\"},\"y1\":{\"type\":\"field\",\"field\":\"y1\"},\"line_color\":{\"type\":\"value\",\"value\":\"darkseagreen\"},\"line_alpha\":{\"type\":\"value\",\"value\":0.1}}},\"muted_glyph\":{\"type\":\"object\",\"name\":\"Segment\",\"id\":\"p1428\",\"attributes\":{\"x0\":{\"type\":\"field\",\"field\":\"x0\"},\"y0\":{\"type\":\"field\",\"field\":\"y0\"},\"x1\":{\"type\":\"field\",\"field\":\"x1\"},\"y1\":{\"type\":\"field\",\"field\":\"y1\"},\"line_color\":{\"type\":\"value\",\"value\":\"darkseagreen\"},\"line_alpha\":{\"type\":\"value\",\"value\":0.2}}}}},{\"type\":\"object\",\"name\":\"GlyphRenderer\",\"id\":\"p1438\",\"attributes\":{\"data_source\":{\"type\":\"object\",\"name\":\"ColumnDataSource\",\"id\":\"p1432\",\"attributes\":{\"selected\":{\"type\":\"object\",\"name\":\"Selection\",\"id\":\"p1433\",\"attributes\":{\"indices\":[],\"line_indices\":[]}},\"selection_policy\":{\"type\":\"object\",\"name\":\"UnionRenderers\",\"id\":\"p1434\"},\"data\":{\"type\":\"map\",\"entries\":[[\"x0\",[19.9]],[\"y0\",[0.0]],[\"x1\",[19.9]],[\"y1\",[482.39]]]}}},\"view\":{\"type\":\"object\",\"name\":\"CDSView\",\"id\":\"p1439\",\"attributes\":{\"filter\":{\"type\":\"object\",\"name\":\"AllIndices\",\"id\":\"p1440\"}}},\"glyph\":{\"type\":\"object\",\"name\":\"Segment\",\"id\":\"p1435\",\"attributes\":{\"x0\":{\"type\":\"field\",\"field\":\"x0\"},\"y0\":{\"type\":\"field\",\"field\":\"y0\"},\"x1\":{\"type\":\"field\",\"field\":\"x1\"},\"y1\":{\"type\":\"field\",\"field\":\"y1\"},\"line_color\":{\"type\":\"value\",\"value\":\"darkseagreen\"}}},\"nonselection_glyph\":{\"type\":\"object\",\"name\":\"Segment\",\"id\":\"p1436\",\"attributes\":{\"x0\":{\"type\":\"field\",\"field\":\"x0\"},\"y0\":{\"type\":\"field\",\"field\":\"y0\"},\"x1\":{\"type\":\"field\",\"field\":\"x1\"},\"y1\":{\"type\":\"field\",\"field\":\"y1\"},\"line_color\":{\"type\":\"value\",\"value\":\"darkseagreen\"},\"line_alpha\":{\"type\":\"value\",\"value\":0.1}}},\"muted_glyph\":{\"type\":\"object\",\"name\":\"Segment\",\"id\":\"p1437\",\"attributes\":{\"x0\":{\"type\":\"field\",\"field\":\"x0\"},\"y0\":{\"type\":\"field\",\"field\":\"y0\"},\"x1\":{\"type\":\"field\",\"field\":\"x1\"},\"y1\":{\"type\":\"field\",\"field\":\"y1\"},\"line_color\":{\"type\":\"value\",\"value\":\"darkseagreen\"},\"line_alpha\":{\"type\":\"value\",\"value\":0.2}}}}},{\"type\":\"object\",\"name\":\"GlyphRenderer\",\"id\":\"p1447\",\"attributes\":{\"data_source\":{\"type\":\"object\",\"name\":\"ColumnDataSource\",\"id\":\"p1441\",\"attributes\":{\"selected\":{\"type\":\"object\",\"name\":\"Selection\",\"id\":\"p1442\",\"attributes\":{\"indices\":[],\"line_indices\":[]}},\"selection_policy\":{\"type\":\"object\",\"name\":\"UnionRenderers\",\"id\":\"p1443\"},\"data\":{\"type\":\"map\",\"entries\":[[\"x\",[21.4]],[\"y\",[482.39]],[\"size\",[20]]]}}},\"view\":{\"type\":\"object\",\"name\":\"CDSView\",\"id\":\"p1448\",\"attributes\":{\"filter\":{\"type\":\"object\",\"name\":\"AllIndices\",\"id\":\"p1449\"}}},\"glyph\":{\"type\":\"object\",\"name\":\"Scatter\",\"id\":\"p1444\",\"attributes\":{\"x\":{\"type\":\"field\",\"field\":\"x\"},\"y\":{\"type\":\"field\",\"field\":\"y\"},\"size\":{\"type\":\"field\",\"field\":\"size\"},\"line_color\":{\"type\":\"value\",\"value\":\"lightblue\"},\"line_width\":{\"type\":\"value\",\"value\":3},\"fill_color\":{\"type\":\"value\",\"value\":null},\"marker\":{\"type\":\"value\",\"value\":\"square_cross\"}}},\"nonselection_glyph\":{\"type\":\"object\",\"name\":\"Scatter\",\"id\":\"p1445\",\"attributes\":{\"x\":{\"type\":\"field\",\"field\":\"x\"},\"y\":{\"type\":\"field\",\"field\":\"y\"},\"size\":{\"type\":\"field\",\"field\":\"size\"},\"line_color\":{\"type\":\"value\",\"value\":\"lightblue\"},\"line_alpha\":{\"type\":\"value\",\"value\":0.1},\"line_width\":{\"type\":\"value\",\"value\":3},\"fill_color\":{\"type\":\"value\",\"value\":null},\"fill_alpha\":{\"type\":\"value\",\"value\":0.1},\"hatch_alpha\":{\"type\":\"value\",\"value\":0.1},\"marker\":{\"type\":\"value\",\"value\":\"square_cross\"}}},\"muted_glyph\":{\"type\":\"object\",\"name\":\"Scatter\",\"id\":\"p1446\",\"attributes\":{\"x\":{\"type\":\"field\",\"field\":\"x\"},\"y\":{\"type\":\"field\",\"field\":\"y\"},\"size\":{\"type\":\"field\",\"field\":\"size\"},\"line_color\":{\"type\":\"value\",\"value\":\"lightblue\"},\"line_alpha\":{\"type\":\"value\",\"value\":0.2},\"line_width\":{\"type\":\"value\",\"value\":3},\"fill_color\":{\"type\":\"value\",\"value\":null},\"fill_alpha\":{\"type\":\"value\",\"value\":0.2},\"hatch_alpha\":{\"type\":\"value\",\"value\":0.2},\"marker\":{\"type\":\"value\",\"value\":\"square_cross\"}}}}}],\"toolbar\":{\"type\":\"object\",\"name\":\"Toolbar\",\"id\":\"p1334\",\"attributes\":{\"tools\":[{\"type\":\"object\",\"name\":\"PanTool\",\"id\":\"p1349\"},{\"type\":\"object\",\"name\":\"WheelZoomTool\",\"id\":\"p1350\",\"attributes\":{\"renderers\":\"auto\"}},{\"type\":\"object\",\"name\":\"BoxZoomTool\",\"id\":\"p1351\",\"attributes\":{\"overlay\":{\"type\":\"object\",\"name\":\"BoxAnnotation\",\"id\":\"p1352\",\"attributes\":{\"syncable\":false,\"line_color\":\"black\",\"line_alpha\":1.0,\"line_width\":2,\"line_dash\":[4,4],\"fill_color\":\"lightgrey\",\"fill_alpha\":0.5,\"level\":\"overlay\",\"visible\":false,\"left\":{\"type\":\"number\",\"value\":\"nan\"},\"right\":{\"type\":\"number\",\"value\":\"nan\"},\"top\":{\"type\":\"number\",\"value\":\"nan\"},\"bottom\":{\"type\":\"number\",\"value\":\"nan\"},\"left_units\":\"canvas\",\"right_units\":\"canvas\",\"top_units\":\"canvas\",\"bottom_units\":\"canvas\",\"handles\":{\"type\":\"object\",\"name\":\"BoxInteractionHandles\",\"id\":\"p1358\",\"attributes\":{\"all\":{\"type\":\"object\",\"name\":\"AreaVisuals\",\"id\":\"p1357\",\"attributes\":{\"fill_color\":\"white\",\"hover_fill_color\":\"lightgray\"}}}}}}}},{\"type\":\"object\",\"name\":\"SaveTool\",\"id\":\"p1359\"},{\"type\":\"object\",\"name\":\"ResetTool\",\"id\":\"p1360\"},{\"type\":\"object\",\"name\":\"HelpTool\",\"id\":\"p1361\"},{\"type\":\"object\",\"name\":\"HoverTool\",\"id\":\"p1393\",\"attributes\":{\"renderers\":\"auto\",\"tooltips\":[[\"Y-val\",\"@y{0.00}\"]]}}]}},\"left\":[{\"type\":\"object\",\"name\":\"LinearAxis\",\"id\":\"p1344\",\"attributes\":{\"ticker\":{\"type\":\"object\",\"name\":\"BasicTicker\",\"id\":\"p1345\",\"attributes\":{\"mantissas\":[1,2,5]}},\"formatter\":{\"type\":\"object\",\"name\":\"BasicTickFormatter\",\"id\":\"p1346\"},\"axis_label\":\"km/h\",\"axis_label_standoff\":10,\"axis_label_text_color\":\"#E0E0E0\",\"axis_label_text_font\":\"Helvetica\",\"axis_label_text_font_size\":\"1.25em\",\"axis_label_text_font_style\":\"normal\",\"major_label_policy\":{\"type\":\"object\",\"name\":\"AllLabels\",\"id\":\"p1347\"},\"major_label_text_color\":\"#E0E0E0\",\"major_label_text_font\":\"Helvetica\",\"major_label_text_font_size\":\"1.025em\",\"axis_line_color\":\"#E0E0E0\",\"axis_line_alpha\":0,\"major_tick_line_color\":\"#E0E0E0\",\"major_tick_line_alpha\":0,\"minor_tick_line_color\":\"#E0E0E0\",\"minor_tick_line_alpha\":0}},{\"type\":\"object\",\"name\":\"LinearAxis\",\"id\":\"p1364\",\"attributes\":{\"y_range_name\":\"altitudeFt\",\"ticker\":{\"type\":\"object\",\"name\":\"BasicTicker\",\"id\":\"p1365\",\"attributes\":{\"mantissas\":[1,2,5]}},\"formatter\":{\"type\":\"object\",\"name\":\"BasicTickFormatter\",\"id\":\"p1366\"},\"axis_label\":\"Alt (ft)\",\"axis_label_standoff\":10,\"axis_label_text_color\":\"#E0E0E0\",\"axis_label_text_font\":\"Helvetica\",\"axis_label_text_font_size\":\"1.25em\",\"axis_label_text_font_style\":\"normal\",\"major_label_policy\":{\"type\":\"object\",\"name\":\"AllLabels\",\"id\":\"p1367\"},\"major_label_text_color\":\"#E0E0E0\",\"major_label_text_font\":\"Helvetica\",\"major_label_text_font_size\":\"1.025em\",\"axis_line_color\":\"#E0E0E0\",\"axis_line_alpha\":0,\"major_tick_line_color\":\"#E0E0E0\",\"major_tick_line_alpha\":0,\"minor_tick_line_color\":\"#E0E0E0\",\"minor_tick_line_alpha\":0}},{\"type\":\"object\",\"name\":\"LinearAxis\",\"id\":\"p1368\",\"attributes\":{\"y_range_name\":\"angle\",\"ticker\":{\"type\":\"object\",\"name\":\"BasicTicker\",\"id\":\"p1369\",\"attributes\":{\"mantissas\":[1,2,5]}},\"formatter\":{\"type\":\"object\",\"name\":\"BasicTickFormatter\",\"id\":\"p1370\"},\"axis_label\":\"angle\",\"axis_label_standoff\":10,\"axis_label_text_color\":\"#E0E0E0\",\"axis_label_text_font\":\"Helvetica\",\"axis_label_text_font_size\":\"1.25em\",\"axis_label_text_font_style\":\"normal\",\"major_label_policy\":{\"type\":\"object\",\"name\":\"AllLabels\",\"id\":\"p1371\"},\"major_label_text_color\":\"#E0E0E0\",\"major_label_text_font\":\"Helvetica\",\"major_label_text_font_size\":\"1.025em\",\"axis_line_color\":\"#E0E0E0\",\"axis_line_alpha\":0,\"major_tick_line_color\":\"#E0E0E0\",\"major_tick_line_alpha\":0,\"minor_tick_line_color\":\"#E0E0E0\",\"minor_tick_line_alpha\":0}}],\"below\":[{\"type\":\"object\",\"name\":\"LinearAxis\",\"id\":\"p1339\",\"attributes\":{\"ticker\":{\"type\":\"object\",\"name\":\"BasicTicker\",\"id\":\"p1340\",\"attributes\":{\"mantissas\":[1,2,5]}},\"formatter\":{\"type\":\"object\",\"name\":\"BasicTickFormatter\",\"id\":\"p1341\"},\"axis_label\":\"seconds from exit\",\"axis_label_standoff\":10,\"axis_label_text_color\":\"#E0E0E0\",\"axis_label_text_font\":\"Helvetica\",\"axis_label_text_font_size\":\"1.25em\",\"axis_label_text_font_style\":\"normal\",\"major_label_policy\":{\"type\":\"object\",\"name\":\"AllLabels\",\"id\":\"p1342\"},\"major_label_text_color\":\"#E0E0E0\",\"major_label_text_font\":\"Helvetica\",\"major_label_text_font_size\":\"1.025em\",\"axis_line_color\":\"#E0E0E0\",\"axis_line_alpha\":0,\"major_tick_line_color\":\"#E0E0E0\",\"major_tick_line_alpha\":0,\"minor_tick_line_color\":\"#E0E0E0\",\"minor_tick_line_alpha\":0}}],\"center\":[{\"type\":\"object\",\"name\":\"Grid\",\"id\":\"p1343\",\"attributes\":{\"axis\":{\"id\":\"p1339\"},\"grid_line_color\":\"#E0E0E0\",\"grid_line_alpha\":0.25}},{\"type\":\"object\",\"name\":\"Grid\",\"id\":\"p1348\",\"attributes\":{\"dimension\":1,\"axis\":{\"id\":\"p1344\"},\"grid_line_color\":\"#E0E0E0\",\"grid_line_alpha\":0.25}},{\"type\":\"object\",\"name\":\"Legend\",\"id\":\"p1381\",\"attributes\":{\"border_line_alpha\":0,\"background_fill_color\":\"#20262B\",\"background_fill_alpha\":0.25,\"label_text_color\":\"#E0E0E0\",\"label_text_font\":\"Helvetica\",\"label_text_font_size\":\"1.025em\",\"label_standoff\":8,\"glyph_width\":15,\"spacing\":8,\"items\":[{\"type\":\"object\",\"name\":\"LegendItem\",\"id\":\"p1382\",\"attributes\":{\"label\":{\"type\":\"value\",\"value\":\"Alt (ft)\"},\"renderers\":[{\"id\":\"p1378\"}]}},{\"type\":\"object\",\"name\":\"LegendItem\",\"id\":\"p1392\",\"attributes\":{\"label\":{\"type\":\"value\",\"value\":\"angle\"},\"renderers\":[{\"id\":\"p1389\"}]}},{\"type\":\"object\",\"name\":\"LegendItem\",\"id\":\"p1403\",\"attributes\":{\"label\":{\"type\":\"value\",\"value\":\"speed\"},\"renderers\":[{\"id\":\"p1400\"}]}},{\"type\":\"object\",\"name\":\"LegendItem\",\"id\":\"p1413\",\"attributes\":{\"label\":{\"type\":\"value\",\"value\":\"H-speed\"},\"renderers\":[{\"id\":\"p1410\"}]}}]}}],\"background_fill_color\":\"#20262B\",\"border_fill_color\":\"#15191C\"}}]}};\n",
       "  const render_items = [{\"docid\":\"9e01e4f6-5cf0-4753-a38d-cfb1b98f2def\",\"roots\":{\"p1325\":\"a106a022-300e-4120-a21f-8f7d91b8b9ed\"},\"root_ids\":[\"p1325\"]}];\n",
       "  void root.Bokeh.embed.embed_items_notebook(docs_json, render_items);\n",
       "  }\n",
       "  if (root.Bokeh !== undefined) {\n",
       "    embed_document(root);\n",
       "  } else {\n",
       "    let attempts = 0;\n",
       "    const timer = setInterval(function(root) {\n",
       "      if (root.Bokeh !== undefined) {\n",
       "        clearInterval(timer);\n",
       "        embed_document(root);\n",
       "      } else {\n",
       "        attempts++;\n",
       "        if (attempts > 100) {\n",
       "          clearInterval(timer);\n",
       "          console.log(\"Bokeh: ERROR: Unable to run BokehJS code because BokehJS library is missing\");\n",
       "        }\n",
       "      }\n",
       "    }, 10, root)\n",
       "  }\n",
       "})(window);"
      ],
      "application/vnd.bokehjs_exec.v0+json": ""
     },
     "metadata": {
      "application/vnd.bokehjs_exec.v0+json": {
       "id": "p1325"
      }
     },
     "output_type": "display_data"
    },
    {
     "data": {
      "application/vnd.jupyter.widget-view+json": {
       "model_id": "3853f1e7a4074e98a93daf2d99eadf66",
       "version_major": 2,
       "version_minor": 0
      },
      "text/plain": [
       "HTML(value='<hr><h1><span style=\"color: #f00\">data 13-33-38:v1 jump - 🔴 invalid</span></h1>')"
      ]
     },
     "metadata": {},
     "output_type": "display_data"
    },
    {
     "data": {
      "application/vnd.jupyter.widget-view+json": {
       "model_id": "face4dec20194f3c83f71ca3ed6604a6",
       "version_major": 2,
       "version_minor": 0
      },
      "text/plain": [
       "HTML(value='<hr><h1><span style=\"color: #f00\">data 14-35-45:v1 jump - 🔴 invalid</span></h1>')"
      ]
     },
     "metadata": {},
     "output_type": "display_data"
    }
   ],
   "source": [
    "allJumpsPlot = initializePlot('All jumps in set')\n",
    "jumpNumber = 0\n",
    "mixColor = 0\n",
    "for resultRef in sorted(jumpResults.keys()):\n",
    "    if ignoreBaseline and 'baseline' in resultRef:\n",
    "        continue\n",
    "    jumpResult = jumpResults[resultRef]\n",
    "    if jumpResult.score > 0.0:\n",
    "        validJumpStatus = '<hr><h1><span style=\"color: %s\">%s jump - %s - score = %.02f km/h</span></h1>' % (jumpResult.color, resultRef, jumpResult.result, jumpResult.score)        \n",
    "    else:\n",
    "        validJumpStatus = '<hr><h1><span style=\"color: %s\">%s jump - %s</span></h1>' % (jumpResult.color, resultRef, jumpResult.result)\n",
    "    display(widgets.HTML(validJumpStatus))\n",
    "\n",
    "    maxSpeed = jumpResult.maxSpeed\n",
    "    window = jumpResult.window\n",
    "    mixColor = (mixColor+1)%len(SPEED_COLORS)\n",
    "    if jumpResult.score > 0.0:\n",
    "        display(widgets.HTML('<h3>Max speed = {0:,.0f}; '.format(maxSpeed)+('exit at %d m (%d ft), end scoring window at %d m (%d ft)'%(window.start, 3.2808*window.start, window.end, 3.2808*window.end))))\n",
    "        if not isValidMinimumAltitude(jumpResult.data.altitudeAGL.max()):\n",
    "            display(widgets.HTML('<span style=\"color: yellow\"><span style=\"font-weight: bold\">Warning:</span> exit altitude ASL was lower than the minimum scoring altitude according to IPC and USPA.'))\n",
    "        display(widgets.HTML('</h3>'))\n",
    "        # TODO: Move this to an in-notebook function or module.\n",
    "        displayJumpDataIn(jumpResult.table)\n",
    "        individualPlot = initializePlot(resultRef)\n",
    "        individualPlot = initializeExtraYRanges(individualPlot, startY = min(jumpResult.data.altitudeAGLFt)-500.0, endY = max(jumpResult.data.altitudeAGLFt)+500.0)\n",
    "        graphAltitude(individualPlot, jumpResult)\n",
    "        graphAngle(individualPlot, jumpResult)\n",
    "        hoverValue = bm.HoverTool(tooltips = [ ('Y-val', '@y{0.00}'), ])\n",
    "        individualPlot.add_tools(hoverValue)\n",
    "        graphJumpResult(individualPlot,\n",
    "                        jumpResult,\n",
    "                        lineColor = SPEED_COLORS[0])\n",
    "        graphJumpResult(allJumpsPlot,\n",
    "                        jumpResult,\n",
    "                        lineColor = SPEED_COLORS[mixColor],\n",
    "                        legend = '%s - %.2f' % (resultRef, jumpResult.score),\n",
    "                        showIt = False)"
   ]
  },
  {
   "attachments": {},
   "cell_type": "markdown",
   "id": "a5d31990-f5c2-43d9-817b-b50a35740834",
   "metadata": {},
   "source": [
    "---\n",
    "## Summary of all speed skydives in the data lake"
   ]
  },
  {
   "cell_type": "code",
   "execution_count": 13,
   "id": "58912ae5-ffe6-4184-a14b-984b91a09049",
   "metadata": {},
   "outputs": [
    {
     "data": {
      "text/html": [
       "<div>\n",
       "<style scoped>\n",
       "    .dataframe tbody tr th:only-of-type {\n",
       "        vertical-align: middle;\n",
       "    }\n",
       "\n",
       "    .dataframe tbody tr th {\n",
       "        vertical-align: top;\n",
       "    }\n",
       "\n",
       "    .dataframe thead th {\n",
       "        text-align: right;\n",
       "    }\n",
       "</style>\n",
       "<table border=\"1\" class=\"dataframe\">\n",
       "  <thead>\n",
       "    <tr style=\"text-align: right;\">\n",
       "      <th></th>\n",
       "      <th>timeUnix</th>\n",
       "      <th>altitudeMSL</th>\n",
       "      <th>altitudeAGL</th>\n",
       "      <th>altitudeMSLFt</th>\n",
       "      <th>altitudeAGLFt</th>\n",
       "      <th>vMetersPerSecond</th>\n",
       "      <th>vKMh</th>\n",
       "      <th>speedAngle</th>\n",
       "      <th>speedAccuracy</th>\n",
       "      <th>hMetersPerSecond</th>\n",
       "      <th>hKMh</th>\n",
       "      <th>latitude</th>\n",
       "      <th>longitude</th>\n",
       "      <th>verticalAccuracy</th>\n",
       "      <th>speedAccuracyISC</th>\n",
       "    </tr>\n",
       "  </thead>\n",
       "  <tbody>\n",
       "    <tr>\n",
       "      <th>8398</th>\n",
       "      <td>1.731103e+09</td>\n",
       "      <td>2157.528</td>\n",
       "      <td>2150.517515</td>\n",
       "      <td>7078.417862</td>\n",
       "      <td>7055.417862</td>\n",
       "      <td>127.99</td>\n",
       "      <td>460.764</td>\n",
       "      <td>82.15</td>\n",
       "      <td>0.98</td>\n",
       "      <td>17.64337</td>\n",
       "      <td>63.516131</td>\n",
       "      <td>37.832002</td>\n",
       "      <td>-121.635612</td>\n",
       "      <td>6.31</td>\n",
       "      <td>2.97</td>\n",
       "    </tr>\n",
       "  </tbody>\n",
       "</table>\n",
       "</div>"
      ],
      "text/plain": [
       "          timeUnix  altitudeMSL  altitudeAGL  altitudeMSLFt  altitudeAGLFt  \\\n",
       "8398  1.731103e+09     2157.528  2150.517515    7078.417862    7055.417862   \n",
       "\n",
       "      vMetersPerSecond     vKMh  speedAngle  speedAccuracy  hMetersPerSecond  \\\n",
       "8398            127.99  460.764       82.15           0.98          17.64337   \n",
       "\n",
       "           hKMh   latitude   longitude  verticalAccuracy  speedAccuracyISC  \n",
       "8398  63.516131  37.832002 -121.635612              6.31              2.97  "
      ]
     },
     "execution_count": 13,
     "metadata": {},
     "output_type": "execute_result"
    }
   ],
   "source": [
    "velMax = jumpResult.data.vKMh.max()\n",
    "jumpResult.data[jumpResult.data.vKMh ==  velMax ]"
   ]
  },
  {
   "cell_type": "markdown",
   "id": "491440ae-2efa-47fa-856c-25825a6fa4de",
   "metadata": {},
   "source": [
    "**<a href='https://intimescoring.com/Results/EventResults?dbid=100&mid=1074&smid=0&mdcid=1273&dseid=0' target='_blank'>InTime Scoring - 2024 USPA Speed Open results</a>**"
   ]
  },
  {
   "cell_type": "code",
   "execution_count": 14,
   "id": "17991fcf-e215-4a53-a6ff-d9a64cbafd94",
   "metadata": {
    "jupyter": {
     "source_hidden": true
    }
   },
   "outputs": [
    {
     "data": {
      "text/html": [
       "<div>\n",
       "<style scoped>\n",
       "    .dataframe tbody tr th:only-of-type {\n",
       "        vertical-align: middle;\n",
       "    }\n",
       "\n",
       "    .dataframe tbody tr th {\n",
       "        vertical-align: top;\n",
       "    }\n",
       "\n",
       "    .dataframe thead th {\n",
       "        text-align: right;\n",
       "    }\n",
       "</style>\n",
       "<table border=\"1\" class=\"dataframe\">\n",
       "  <thead>\n",
       "    <tr style=\"text-align: right;\">\n",
       "      <th></th>\n",
       "      <th>score</th>\n",
       "      <th>5.0</th>\n",
       "      <th>10.0</th>\n",
       "      <th>15.0</th>\n",
       "      <th>20.0</th>\n",
       "      <th>25.0</th>\n",
       "      <th>finalTime</th>\n",
       "      <th>maxSpeed</th>\n",
       "    </tr>\n",
       "  </thead>\n",
       "  <tbody>\n",
       "    <tr>\n",
       "      <th>data 00-00-00-baseline-10-50-09:v1</th>\n",
       "      <td>494</td>\n",
       "      <td>183</td>\n",
       "      <td>333</td>\n",
       "      <td>431</td>\n",
       "      <td>482</td>\n",
       "      <td>494</td>\n",
       "      <td>24.2</td>\n",
       "      <td>495</td>\n",
       "    </tr>\n",
       "    <tr>\n",
       "      <th>data 11-24-53:v1</th>\n",
       "      <td>476</td>\n",
       "      <td>177</td>\n",
       "      <td>323</td>\n",
       "      <td>425</td>\n",
       "      <td>470</td>\n",
       "      <td>472</td>\n",
       "      <td>24.8</td>\n",
       "      <td>477</td>\n",
       "    </tr>\n",
       "    <tr>\n",
       "      <th>data 12-31-11:v1</th>\n",
       "      <td>482</td>\n",
       "      <td>181</td>\n",
       "      <td>326</td>\n",
       "      <td>423</td>\n",
       "      <td>474</td>\n",
       "      <td>481</td>\n",
       "      <td>24.4</td>\n",
       "      <td>483</td>\n",
       "    </tr>\n",
       "  </tbody>\n",
       "</table>\n",
       "</div>"
      ],
      "text/plain": [
       "                                    score  5.0  10.0  15.0  20.0  25.0  \\\n",
       "data 00-00-00-baseline-10-50-09:v1    494  183   333   431   482   494   \n",
       "data 11-24-53:v1                      476  177   323   425   470   472   \n",
       "data 12-31-11:v1                      482  181   326   423   474   481   \n",
       "\n",
       "                                    finalTime  maxSpeed  \n",
       "data 00-00-00-baseline-10-50-09:v1       24.2       495  \n",
       "data 11-24-53:v1                         24.8       477  \n",
       "data 12-31-11:v1                         24.4       483  "
      ]
     },
     "metadata": {},
     "output_type": "display_data"
    },
    {
     "data": {
      "text/html": [
       "<div>\n",
       "<style scoped>\n",
       "    .dataframe tbody tr th:only-of-type {\n",
       "        vertical-align: middle;\n",
       "    }\n",
       "\n",
       "    .dataframe tbody tr th {\n",
       "        vertical-align: top;\n",
       "    }\n",
       "\n",
       "    .dataframe thead th {\n",
       "        text-align: right;\n",
       "    }\n",
       "</style>\n",
       "<table border=\"1\" class=\"dataframe\">\n",
       "  <thead>\n",
       "    <tr style=\"text-align: right;\">\n",
       "      <th></th>\n",
       "      <th>totalSpeed</th>\n",
       "      <th>meanSpeed</th>\n",
       "      <th>maxScore</th>\n",
       "    </tr>\n",
       "  </thead>\n",
       "  <tbody>\n",
       "    <tr>\n",
       "      <th>totalSpeed</th>\n",
       "      <td>1451.68</td>\n",
       "      <td>483.893333</td>\n",
       "      <td>493.77</td>\n",
       "    </tr>\n",
       "  </tbody>\n",
       "</table>\n",
       "</div>"
      ],
      "text/plain": [
       "            totalSpeed   meanSpeed  maxScore\n",
       "totalSpeed     1451.68  483.893333    493.77"
      ]
     },
     "metadata": {},
     "output_type": "display_data"
    },
    {
     "data": {
      "text/html": [
       "\n",
       "  <div id=\"bf9e10b5-4e05-45e6-acf4-0c333c63db1d\" data-root-id=\"p1001\" style=\"display: contents;\"></div>\n"
      ]
     },
     "metadata": {},
     "output_type": "display_data"
    },
    {
     "data": {
      "application/javascript": [
       "(function(root) {\n",
       "  function embed_document(root) {\n",
       "  const docs_json = {\"64aa4f76-49a6-4213-88fd-aa004c40685b\":{\"version\":\"3.5.2\",\"title\":\"Bokeh Application\",\"roots\":[{\"type\":\"object\",\"name\":\"Figure\",\"id\":\"p1001\",\"attributes\":{\"width\":900,\"height\":500,\"x_range\":{\"type\":\"object\",\"name\":\"Range1d\",\"id\":\"p1011\",\"attributes\":{\"end\":35.0}},\"y_range\":{\"type\":\"object\",\"name\":\"Range1d\",\"id\":\"p1012\",\"attributes\":{\"end\":550.0}},\"x_scale\":{\"type\":\"object\",\"name\":\"LinearScale\",\"id\":\"p1013\"},\"y_scale\":{\"type\":\"object\",\"name\":\"LinearScale\",\"id\":\"p1014\"},\"title\":{\"type\":\"object\",\"name\":\"Title\",\"id\":\"p1004\",\"attributes\":{\"text\":\"All jumps in set\",\"text_color\":\"#E0E0E0\",\"text_font\":\"Helvetica\",\"text_font_size\":\"1.15em\"}},\"outline_line_color\":\"#E0E0E0\",\"outline_line_alpha\":0.25,\"renderers\":[{\"type\":\"object\",\"name\":\"GlyphRenderer\",\"id\":\"p1177\",\"attributes\":{\"data_source\":{\"type\":\"object\",\"name\":\"ColumnDataSource\",\"id\":\"p1171\",\"attributes\":{\"selected\":{\"type\":\"object\",\"name\":\"Selection\",\"id\":\"p1172\",\"attributes\":{\"indices\":[],\"line_indices\":[]}},\"selection_policy\":{\"type\":\"object\",\"name\":\"UnionRenderers\",\"id\":\"p1173\"},\"data\":{\"type\":\"map\",\"entries\":[[\"x\",{\"type\":\"ndarray\",\"array\":{\"type\":\"bytes\",\"data\":\"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\"},\"shape\":[199],\"dtype\":\"float64\",\"order\":\"little\"}],[\"y\",{\"type\":\"ndarray\",\"array\":{\"type\":\"bytes\",\"data\":\"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\"},\"shape\":[199],\"dtype\":\"float64\",\"order\":\"little\"}]]}}},\"view\":{\"type\":\"object\",\"name\":\"CDSView\",\"id\":\"p1178\",\"attributes\":{\"filter\":{\"type\":\"object\",\"name\":\"AllIndices\",\"id\":\"p1179\"}}},\"glyph\":{\"type\":\"object\",\"name\":\"Line\",\"id\":\"p1174\",\"attributes\":{\"x\":{\"type\":\"field\",\"field\":\"x\"},\"y\":{\"type\":\"field\",\"field\":\"y\"},\"line_color\":\"blue\",\"line_width\":2}},\"nonselection_glyph\":{\"type\":\"object\",\"name\":\"Line\",\"id\":\"p1175\",\"attributes\":{\"x\":{\"type\":\"field\",\"field\":\"x\"},\"y\":{\"type\":\"field\",\"field\":\"y\"},\"line_color\":\"blue\",\"line_alpha\":0.1,\"line_width\":2}},\"muted_glyph\":{\"type\":\"object\",\"name\":\"Line\",\"id\":\"p1176\",\"attributes\":{\"x\":{\"type\":\"field\",\"field\":\"x\"},\"y\":{\"type\":\"field\",\"field\":\"y\"},\"line_color\":\"blue\",\"line_alpha\":0.2,\"line_width\":2}}}},{\"type\":\"object\",\"name\":\"GlyphRenderer\",\"id\":\"p1321\",\"attributes\":{\"data_source\":{\"type\":\"object\",\"name\":\"ColumnDataSource\",\"id\":\"p1315\",\"attributes\":{\"selected\":{\"type\":\"object\",\"name\":\"Selection\",\"id\":\"p1316\",\"attributes\":{\"indices\":[],\"line_indices\":[]}},\"selection_policy\":{\"type\":\"object\",\"name\":\"UnionRenderers\",\"id\":\"p1317\"},\"data\":{\"type\":\"map\",\"entries\":[[\"x\",{\"type\":\"ndarray\",\"array\":{\"type\":\"bytes\",\"data\":\"AAAAAAAAAACamZmZmZnJP5qZmZmZmdk/MzMzMzMz4z+amZmZmZnpPwAAAAAAAPA/MzMzMzMz8z9mZmZmZmb2P5qZmZmZmfk/zczMzMzM/D8AAAAAAAAAQJqZmZmZmQFAMzMzMzMzA0DNzMzMzMwEQGZmZmZmZgZAAAAAAAAACECamZmZmZkJQDMzMzMzMwtAzczMzMzMDEBmZmZmZmYOQAAAAAAAABBAzczMzMzMEECamZmZmZkRQGZmZmZmZhJAMzMzMzMzE0AAAAAAAAAUQM3MzMzMzBRAmpmZmZmZFUBmZmZmZmYWQDMzMzMzMxdAAAAAAAAAGEDNzMzMzMwYQJqZmZmZmRlAZmZmZmZmGkAzMzMzMzMbQAAAAAAAABxAzczMzMzMHECamZmZmZkdQGZmZmZmZh5AMzMzMzMzH0AAAAAAAAAgQGZmZmZmZiBAzczMzMzMIEAzMzMzMzMhQJqZmZmZmSFAAAAAAAAAIkBmZmZmZmYiQM3MzMzMzCJAMzMzMzMzI0CamZmZmZkjQAAAAAAAACRAZmZmZmZmJEDNzMzMzMwkQDMzMzMzMyVAmpmZmZmZJUAAAAAAAAAmQGZmZmZmZiZAzczMzMzMJkAzMzMzMzMnQJqZmZmZmSdAAAAAAAAAKEBmZmZmZmYoQM3MzMzMzChAMzMzMzMzKUCamZmZmZkpQAAAAAAAACpAZmZmZmZmKkDNzMzMzMwqQDMzMzMzMytAmpmZmZmZK0AAAAAAAAAsQGZmZmZmZixAzczMzMzMLEAzMzMzMzMtQJqZmZmZmS1AAAAAAAAALkBmZmZmZmYuQM3MzMzMzC5AMzMzMzMzL0CamZmZmZkvQAAAAAAAADBAMzMzMzMzMEBmZmZmZmYwQJqZmZmZmTBAzczMzMzMMEAAAAAAAAAxQDMzMzMzMzFAZmZmZmZmMUCamZmZmZkxQM3MzMzMzDFAAAAAAAAAMkAzMzMzMzMyQGZmZmZmZjJAmpmZmZmZMkDNzMzMzMwyQAAAAAAAADNAMzMzMzMzM0BmZmZmZmYzQJqZmZmZmTNAzczMzMzMM0AAAAAAAAA0QDMzMzMzMzRAZmZmZmZmNECamZmZmZk0QM3MzMzMzDRAAAAAAAAANUAzMzMzMzM1QGZmZmZmZjVAmpmZmZmZNUDNzMzMzMw1QAAAAAAAADZAMzMzMzMzNkBmZmZmZmY2QJqZmZmZmTZAzczMzMzMNkAAAAAAAAA3QDMzMzMzMzdAZmZmZmZmN0CamZmZmZk3QM3MzMzMzDdAAAAAAAAAOEAzMzMzMzM4QGZmZmZmZjhAmpmZmZmZOEDNzMzMzMw4QA==\"},\"shape\":[125],\"dtype\":\"float64\",\"order\":\"little\"}],[\"y\",{\"type\":\"ndarray\",\"array\":{\"type\":\"bytes\",\"data\":\"VeOlm8QgOUB7FK5H4Xo4QLByaJHt/DRA4XoUrkdhOUAnMQisHNo+QPCnxks3SURAYeXQItu5RUCd76fGS/dIQML1KFyPQkxAEoPAyqFFUEBWDi2ync9RQNnO91PjxVNA2KNwPQp3VUDhehSuRyFXQIXrUbgeBVlASgwCK4fWWkDufD81XrpcQCQGgZVDS15AbxKDwMoRYEDeJAaBlfNgQDzfT42X3mFAokW28/3EYkAw3SQGgZVjQKJFtvP9dGRAEoPAyqFVZUC0yHa+nxpmQEw3iUFg5WZA001iEFi5Z0BnZmZmZoZoQN4kBoGVY2lAd76fGi8takASg8DKofVqQM/3U+Olq2tAYxBYObR4bED6fmq8dENtQHaTGARWHm5Ad76fGi+tbkBQjZduElNvQIXrUbgeBXBAUrgehetpcECuR+F6FMZwQBFYObTIHnFA5/up8dJ9cUA/NV66SdxxQBkEVg4tOnJAAiuHFtmOckBqvHSTGORyQNnO91PjNXNAy6FFtvOFc0Cmm8QgsOJzQCGwcmiRLXRAEVg5tMh+dECLbOf7qcl0QHe+nxovHXVA7FG4HoVrdUBjEFg5tLh1QNv5fmq8BHZAZDvfT41HdkDfT42XbpJ2QHE9Ctej0HZA9P3UeOkWd0B7FK5H4Vp3QAIrhxbZnndAlBgEVg7dd0AUrkfheiR4QLOd76fGW3hAd76fGi99eEDb+X5qvNR4QNijcD0KH3lAdZMYBFZWeUAUrkfheox5QDZeukkMwnlA0SLb+X76eUDsUbgehTN6QJduEoPAYnpAy6FFtvONekAEVg4tsrV6QLByaJHt5HpA30+Nl24Se0CcxCCwcjh7QO58PzVeUntAokW28/18e0BkO99PjZ97QCGwcmiRxXtA5KWbxCDoe0AxCKwcWgR8QHnpJjEIJHxAwvUoXI9CfEBqvHSTGHR8QDZeukkMknxABFYOLbKtfEBjEFg5tMB8QDiJQWDl2HxADy2yne/vfEDO91PjpRN9QJ7vp8ZLL31A/9R46SZBfUBRuB6F61l9QMyhRbbzXX1A2c73U+NVfUA/NV66SWR9QFyPwvUoVH1AGy/dJAZ5fUB2kxgEVo59QDiJQWDlaH1AppvEILByfUD/1HjpJol9QG4Sg8DKkX1ASgwCK4emfUA+CtejcK19QEW28/3UqH1Asp3vp8azfUCpxks3ibl9QLXIdr6fsn1AOIlBYOWwfUAhsHJokb19QHwUrkfh0n1A+n5qvHTTfUD6fmq8dNN9QAaBlUOLzH1Ax0s3iUGofUDl0CLb+ZZ9QOtRuB6Fk31A3Pl+arycfUAFVg4tsoV9QA==\"},\"shape\":[125],\"dtype\":\"float64\",\"order\":\"little\"}]]}}},\"view\":{\"type\":\"object\",\"name\":\"CDSView\",\"id\":\"p1322\",\"attributes\":{\"filter\":{\"type\":\"object\",\"name\":\"AllIndices\",\"id\":\"p1323\"}}},\"glyph\":{\"type\":\"object\",\"name\":\"Line\",\"id\":\"p1318\",\"attributes\":{\"x\":{\"type\":\"field\",\"field\":\"x\"},\"y\":{\"type\":\"field\",\"field\":\"y\"},\"line_color\":\"tomato\",\"line_width\":2}},\"nonselection_glyph\":{\"type\":\"object\",\"name\":\"Line\",\"id\":\"p1319\",\"attributes\":{\"x\":{\"type\":\"field\",\"field\":\"x\"},\"y\":{\"type\":\"field\",\"field\":\"y\"},\"line_color\":\"tomato\",\"line_alpha\":0.1,\"line_width\":2}},\"muted_glyph\":{\"type\":\"object\",\"name\":\"Line\",\"id\":\"p1320\",\"attributes\":{\"x\":{\"type\":\"field\",\"field\":\"x\"},\"y\":{\"type\":\"field\",\"field\":\"y\"},\"line_color\":\"tomato\",\"line_alpha\":0.2,\"line_width\":2}}}},{\"type\":\"object\",\"name\":\"GlyphRenderer\",\"id\":\"p1464\",\"attributes\":{\"data_source\":{\"type\":\"object\",\"name\":\"ColumnDataSource\",\"id\":\"p1458\",\"attributes\":{\"selected\":{\"type\":\"object\",\"name\":\"Selection\",\"id\":\"p1459\",\"attributes\":{\"indices\":[],\"line_indices\":[]}},\"selection_policy\":{\"type\":\"object\",\"name\":\"UnionRenderers\",\"id\":\"p1460\"},\"data\":{\"type\":\"map\",\"entries\":[[\"x\",{\"type\":\"ndarray\",\"array\":{\"type\":\"bytes\",\"data\":\"AAAAAAAAAACamZmZmZnJP5qZmZmZmdk/MzMzMzMz4z+amZmZmZnpPwAAAAAAAPA/MzMzMzMz8z9mZmZmZmb2P5qZmZmZmfk/zczMzMzM/D8AAAAAAAAAQJqZmZmZmQFAMzMzMzMzA0DNzMzMzMwEQGZmZmZmZgZAAAAAAAAACECamZmZmZkJQDMzMzMzMwtAzczMzMzMDEBmZmZmZmYOQAAAAAAAABBAzczMzMzMEECamZmZmZkRQGZmZmZmZhJAMzMzMzMzE0AAAAAAAAAUQM3MzMzMzBRAmpmZmZmZFUBmZmZmZmYWQDMzMzMzMxdAAAAAAAAAGEDNzMzMzMwYQJqZmZmZmRlAZmZmZmZmGkAzMzMzMzMbQAAAAAAAABxAzczMzMzMHECamZmZmZkdQGZmZmZmZh5AMzMzMzMzH0AAAAAAAAAgQGZmZmZmZiBAzczMzMzMIEAzMzMzMzMhQJqZmZmZmSFAAAAAAAAAIkBmZmZmZmYiQM3MzMzMzCJAMzMzMzMzI0CamZmZmZkjQAAAAAAAACRAZmZmZmZmJEDNzMzMzMwkQDMzMzMzMyVAmpmZmZmZJUAAAAAAAAAmQGZmZmZmZiZAzczMzMzMJkAzMzMzMzMnQJqZmZmZmSdAAAAAAAAAKEBmZmZmZmYoQM3MzMzMzChAMzMzMzMzKUCamZmZmZkpQAAAAAAAACpAZmZmZmZmKkDNzMzMzMwqQDMzMzMzMytAmpmZmZmZK0AAAAAAAAAsQGZmZmZmZixAzczMzMzMLEAzMzMzMzMtQJqZmZmZmS1AAAAAAAAALkBmZmZmZmYuQM3MzMzMzC5AMzMzMzMzL0CamZmZmZkvQAAAAAAAADBAMzMzMzMzMEBmZmZmZmYwQJqZmZmZmTBAzczMzMzMMEAAAAAAAAAxQDMzMzMzMzFAZmZmZmZmMUCamZmZmZkxQM3MzMzMzDFAAAAAAAAAMkAzMzMzMzMyQGZmZmZmZjJAmpmZmZmZMkDNzMzMzMwyQAAAAAAAADNAMzMzMzMzM0BmZmZmZmYzQJqZmZmZmTNAzczMzMzMM0AAAAAAAAA0QDMzMzMzMzRAZmZmZmZmNECamZmZmZk0QM3MzMzMzDRAAAAAAAAANUAzMzMzMzM1QGZmZmZmZjVAmpmZmZmZNUDNzMzMzMw1QAAAAAAAADZAMzMzMzMzNkBmZmZmZmY2QJqZmZmZmTZAzczMzMzMNkAAAAAAAAA3QDMzMzMzMzdAZmZmZmZmN0CamZmZmZk3QM3MzMzMzDdAAAAAAAAAOEAzMzMzMzM4QGZmZmZmZjhA\"},\"shape\":[123],\"dtype\":\"float64\",\"order\":\"little\"}],[\"y\",{\"type\":\"ndarray\",\"array\":{\"type\":\"bytes\",\"data\":\"LIcW2c73H0DiehSuR+EtQE5iEFg5NDVAH4XrUbiePEBCYOXQIttBQH9qvHSTGEVA/tR46SYxSED6fmq8dJNLQGIQWDm0SE9A0SLb+X6KUUA5tMh2vv9SQDzfT42XrlRAiUFg5dDCVkC8dJMYBFZYQJZDi2znG1pAyXa+nxqvW0AbL90kBsFdQD4K16NwXV9AlkOLbOeLYEDeJAaBlYNhQCcxCKwcemJAwvUoXI9CY0AlBoGVQytkQLkehetR+GRAPN9PjZfOZUC8dJMYBKZmQEw3iUFgdWdA5/up8dI9aECF61G4HgVpQBkEVg4t0mlAne+nxkunakBFtvP91GhrQOSlm8QgMGxAj8L1KFzvbEAnMQisHLptQOJ6FK5HcW5AsHJoke0cb0BxPQrXo9BvQJzEILByQHBAAAAAAACYcEBSuB6F6/lwQKRwPQrXW3FAg8DKoUW2cUAIrBxaZPtxQOomMQisVHJA0SLb+X6qckAaL90kBhFzQAAAAAAAaHNAgZVDi2yvc0BeukkMAgt0QM3MzMzMXHRA8tJNYhCQdEDufD81Xtp0QH9qvHSTGHVAK4cW2c5HdUCR7Xw/NZ51QJZDi2zn43VAMzMzMzMbdkApXI/C9Wh2QKjGSzeJsXZAMN0kBoH1dkC/nxov3TR3QAaBlUOLVHdAhetRuB6dd0D8qfHSTep3QPyp8dJNMnhAFK5H4XpseECoxks3ial4QKRwPQrX83hAN4lBYOUweUDZzvdT42V5QIgW2c73k3lAppvEILDKeUC5HoXrUQh6QEoMAiuHRnpAfT81XrpxekAxCKwcWpx6QGQ730+Nx3pAEoPAyqH1ekBbZDvfTxV7QA4tsp3vP3tAx0s3iUFoe0B9PzVeupF7QD4K16NwtXtADi2yne/Pe0BV46WbxPB7QIXrUbgeHXxA5KWbxCAwfECd76fGS1d8QOf7qfHSdXxArkfhehSWfED4U+Olm7R8QL6fGi/d1HxAjpduEoPwfED2KFyPwv18QLbz/dR4IX1AhetRuB49fUBfukkMAlN9QC/dJAaBbX1ABoGVQ4uEfUDc+X5qvJx9QCGwcmiRvX1AoBov3SS+fUAYBFYOLcJ9QI/C9Shcx31Ac2iR7XzXfUBuEoPAytl9QM73U+Ol631ALIcW2c7/fUAzMzMzM/t9QPyp8dJNGn5Ad76fGi8dfkB/arx0kxh+QCyHFtnO/31AqvHSTWIAfkAIrBxaZBN+QPp+arx0G35Aa7x0kxgkfkDx0k1iECB+QGHl0CLbKX5A9ihcj8IdfkD8qfHSTRp+QBKDwMqhDX5A\"},\"shape\":[123],\"dtype\":\"float64\",\"order\":\"little\"}]]}}},\"view\":{\"type\":\"object\",\"name\":\"CDSView\",\"id\":\"p1465\",\"attributes\":{\"filter\":{\"type\":\"object\",\"name\":\"AllIndices\",\"id\":\"p1466\"}}},\"glyph\":{\"type\":\"object\",\"name\":\"Line\",\"id\":\"p1461\",\"attributes\":{\"x\":{\"type\":\"field\",\"field\":\"x\"},\"y\":{\"type\":\"field\",\"field\":\"y\"},\"line_color\":\"turquoise\",\"line_width\":2}},\"nonselection_glyph\":{\"type\":\"object\",\"name\":\"Line\",\"id\":\"p1462\",\"attributes\":{\"x\":{\"type\":\"field\",\"field\":\"x\"},\"y\":{\"type\":\"field\",\"field\":\"y\"},\"line_color\":\"turquoise\",\"line_alpha\":0.1,\"line_width\":2}},\"muted_glyph\":{\"type\":\"object\",\"name\":\"Line\",\"id\":\"p1463\",\"attributes\":{\"x\":{\"type\":\"field\",\"field\":\"x\"},\"y\":{\"type\":\"field\",\"field\":\"y\"},\"line_color\":\"turquoise\",\"line_alpha\":0.2,\"line_width\":2}}}}],\"toolbar\":{\"type\":\"object\",\"name\":\"Toolbar\",\"id\":\"p1010\",\"attributes\":{\"tools\":[{\"type\":\"object\",\"name\":\"PanTool\",\"id\":\"p1025\"},{\"type\":\"object\",\"name\":\"WheelZoomTool\",\"id\":\"p1026\",\"attributes\":{\"renderers\":\"auto\"}},{\"type\":\"object\",\"name\":\"BoxZoomTool\",\"id\":\"p1027\",\"attributes\":{\"overlay\":{\"type\":\"object\",\"name\":\"BoxAnnotation\",\"id\":\"p1028\",\"attributes\":{\"syncable\":false,\"line_color\":\"black\",\"line_alpha\":1.0,\"line_width\":2,\"line_dash\":[4,4],\"fill_color\":\"lightgrey\",\"fill_alpha\":0.5,\"level\":\"overlay\",\"visible\":false,\"left\":{\"type\":\"number\",\"value\":\"nan\"},\"right\":{\"type\":\"number\",\"value\":\"nan\"},\"top\":{\"type\":\"number\",\"value\":\"nan\"},\"bottom\":{\"type\":\"number\",\"value\":\"nan\"},\"left_units\":\"canvas\",\"right_units\":\"canvas\",\"top_units\":\"canvas\",\"bottom_units\":\"canvas\",\"handles\":{\"type\":\"object\",\"name\":\"BoxInteractionHandles\",\"id\":\"p1034\",\"attributes\":{\"all\":{\"type\":\"object\",\"name\":\"AreaVisuals\",\"id\":\"p1033\",\"attributes\":{\"fill_color\":\"white\",\"hover_fill_color\":\"lightgray\"}}}}}}}},{\"type\":\"object\",\"name\":\"SaveTool\",\"id\":\"p1035\"},{\"type\":\"object\",\"name\":\"ResetTool\",\"id\":\"p1036\"},{\"type\":\"object\",\"name\":\"HelpTool\",\"id\":\"p1037\"}]}},\"left\":[{\"type\":\"object\",\"name\":\"LinearAxis\",\"id\":\"p1020\",\"attributes\":{\"ticker\":{\"type\":\"object\",\"name\":\"BasicTicker\",\"id\":\"p1021\",\"attributes\":{\"mantissas\":[1,2,5]}},\"formatter\":{\"type\":\"object\",\"name\":\"BasicTickFormatter\",\"id\":\"p1022\"},\"axis_label\":\"km/h\",\"axis_label_standoff\":10,\"axis_label_text_color\":\"#E0E0E0\",\"axis_label_text_font\":\"Helvetica\",\"axis_label_text_font_size\":\"1.25em\",\"axis_label_text_font_style\":\"normal\",\"major_label_policy\":{\"type\":\"object\",\"name\":\"AllLabels\",\"id\":\"p1023\"},\"major_label_text_color\":\"#E0E0E0\",\"major_label_text_font\":\"Helvetica\",\"major_label_text_font_size\":\"1.025em\",\"axis_line_color\":\"#E0E0E0\",\"axis_line_alpha\":0,\"major_tick_line_color\":\"#E0E0E0\",\"major_tick_line_alpha\":0,\"minor_tick_line_color\":\"#E0E0E0\",\"minor_tick_line_alpha\":0}}],\"below\":[{\"type\":\"object\",\"name\":\"LinearAxis\",\"id\":\"p1015\",\"attributes\":{\"ticker\":{\"type\":\"object\",\"name\":\"BasicTicker\",\"id\":\"p1016\",\"attributes\":{\"mantissas\":[1,2,5]}},\"formatter\":{\"type\":\"object\",\"name\":\"BasicTickFormatter\",\"id\":\"p1017\"},\"axis_label\":\"seconds from exit\",\"axis_label_standoff\":10,\"axis_label_text_color\":\"#E0E0E0\",\"axis_label_text_font\":\"Helvetica\",\"axis_label_text_font_size\":\"1.25em\",\"axis_label_text_font_style\":\"normal\",\"major_label_policy\":{\"type\":\"object\",\"name\":\"AllLabels\",\"id\":\"p1018\"},\"major_label_text_color\":\"#E0E0E0\",\"major_label_text_font\":\"Helvetica\",\"major_label_text_font_size\":\"1.025em\",\"axis_line_color\":\"#E0E0E0\",\"axis_line_alpha\":0,\"major_tick_line_color\":\"#E0E0E0\",\"major_tick_line_alpha\":0,\"minor_tick_line_color\":\"#E0E0E0\",\"minor_tick_line_alpha\":0}}],\"center\":[{\"type\":\"object\",\"name\":\"Grid\",\"id\":\"p1019\",\"attributes\":{\"axis\":{\"id\":\"p1015\"},\"grid_line_color\":\"#E0E0E0\",\"grid_line_alpha\":0.25}},{\"type\":\"object\",\"name\":\"Grid\",\"id\":\"p1024\",\"attributes\":{\"dimension\":1,\"axis\":{\"id\":\"p1020\"},\"grid_line_color\":\"#E0E0E0\",\"grid_line_alpha\":0.25}},{\"type\":\"object\",\"name\":\"Legend\",\"id\":\"p1180\",\"attributes\":{\"border_line_alpha\":0,\"background_fill_color\":\"#20262B\",\"background_fill_alpha\":0.25,\"label_text_color\":\"#E0E0E0\",\"label_text_font\":\"Helvetica\",\"label_text_font_size\":\"1.025em\",\"label_standoff\":8,\"glyph_width\":15,\"spacing\":8,\"items\":[{\"type\":\"object\",\"name\":\"LegendItem\",\"id\":\"p1181\",\"attributes\":{\"label\":{\"type\":\"value\",\"value\":\"data 00-00-00-baseline-10-50-09:v1 - 493.77\"},\"renderers\":[{\"id\":\"p1177\"}]}},{\"type\":\"object\",\"name\":\"LegendItem\",\"id\":\"p1324\",\"attributes\":{\"label\":{\"type\":\"value\",\"value\":\"data 11-24-53:v1 - 475.52\"},\"renderers\":[{\"id\":\"p1321\"}]}},{\"type\":\"object\",\"name\":\"LegendItem\",\"id\":\"p1467\",\"attributes\":{\"label\":{\"type\":\"value\",\"value\":\"data 12-31-11:v1 - 482.39\"},\"renderers\":[{\"id\":\"p1464\"}]}}]}}],\"background_fill_color\":\"#20262B\",\"border_fill_color\":\"#15191C\"}}]}};\n",
       "  const render_items = [{\"docid\":\"64aa4f76-49a6-4213-88fd-aa004c40685b\",\"roots\":{\"p1001\":\"bf9e10b5-4e05-45e6-acf4-0c333c63db1d\"},\"root_ids\":[\"p1001\"]}];\n",
       "  void root.Bokeh.embed.embed_items_notebook(docs_json, render_items);\n",
       "  }\n",
       "  if (root.Bokeh !== undefined) {\n",
       "    embed_document(root);\n",
       "  } else {\n",
       "    let attempts = 0;\n",
       "    const timer = setInterval(function(root) {\n",
       "      if (root.Bokeh !== undefined) {\n",
       "        clearInterval(timer);\n",
       "        embed_document(root);\n",
       "      } else {\n",
       "        attempts++;\n",
       "        if (attempts > 100) {\n",
       "          clearInterval(timer);\n",
       "          console.log(\"Bokeh: ERROR: Unable to run BokehJS code because BokehJS library is missing\");\n",
       "        }\n",
       "      }\n",
       "    }, 10, root)\n",
       "  }\n",
       "})(window);"
      ],
      "application/vnd.bokehjs_exec.v0+json": ""
     },
     "metadata": {
      "application/vnd.bokehjs_exec.v0+json": {
       "id": "p1001"
      }
     },
     "output_type": "display_data"
    }
   ],
   "source": [
    "display(roundedResults)\n",
    "display(sumResults)\n",
    "bp.show(allJumpsPlot)"
   ]
  },
  {
   "cell_type": "code",
   "execution_count": null,
   "id": "ee49d352-aa6e-4ab6-88a0-941362f918e8",
   "metadata": {},
   "outputs": [],
   "source": []
  }
 ],
 "metadata": {
  "kernelspec": {
   "display_name": "Python 3 (ipykernel)",
   "language": "python",
   "name": "python3"
  },
  "language_info": {
   "codemirror_mode": {
    "name": "ipython",
    "version": 3
   },
   "file_extension": ".py",
   "mimetype": "text/x-python",
   "name": "python",
   "nbconvert_exporter": "python",
   "pygments_lexer": "ipython3",
   "version": "3.11.10"
  }
 },
 "nbformat": 4,
 "nbformat_minor": 5
}
