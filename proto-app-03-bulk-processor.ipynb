{
 "cells": [
  {
   "cell_type": "markdown",
   "id": "36a745d9-2003-496e-a394-290f63a970b7",
   "metadata": {},
   "source": [
    "# Speed Skydiving scoring bulk files processor\n",
    "Uses the `./data` directory as a data lake.  It finds all valid FlySight files in that directory, from 0 to as many as it finds and fit in memory, and process them all.  Summary of \"all files\" or \"all jumps\" at the bottom of the document."
   ]
  },
  {
   "cell_type": "code",
   "execution_count": 61,
   "id": "98c7a164-9492-4672-904b-5bf3abf61773",
   "metadata": {
    "jupyter": {
     "source_hidden": true
    }
   },
   "outputs": [],
   "source": [
    "from collections import namedtuple\n",
    "from copy import deepcopy\n",
    "\n",
    "from ssscoring.constants import BREAKOFF_ALTITUDE\n",
    "from ssscoring.constants import FT_IN_M\n",
    "from ssscoring.constants import PERFORMANCE_WINDOW_LENGTH\n",
    "from ssscoring.fs1 import aggregateResults\n",
    "from ssscoring.fs1 import convertFlySight2SSScoring\n",
    "from ssscoring.fs1 import dropNonSkydiveDataFrom\n",
    "from ssscoring.fs1 import getAllSpeedJumpFilesFrom\n",
    "from ssscoring.fs1 import getSpeedSkydiveFrom\n",
    "from ssscoring.fs1 import isValidJump\n",
    "from ssscoring.fs1 import isValidMinimumAltitude\n",
    "from ssscoring.fs1 import jumpAnalysisTable\n",
    "from ssscoring.fs1 import processAllJumpFiles\n",
    "from ssscoring.fs1 import roundedAggregateResults\n",
    "from ssscoring.fs1 import totalResultsFrom\n",
    "from ssscoring.fs1 import validFlySightHeaderIn\n",
    "from ssscoring.notebook import SPEED_COLORS\n",
    "from ssscoring.notebook import graphAltitude\n",
    "from ssscoring.notebook import graphAngle\n",
    "from ssscoring.notebook import graphJumpResult\n",
    "from ssscoring.notebook import initializeExtraYRanges\n",
    "from ssscoring.notebook import initializePlot\n",
    "\n",
    "import csv\n",
    "import os\n",
    "import os.path as path\n",
    "\n",
    "import bokeh.plotting as bp\n",
    "import bokeh.models as bm\n",
    "import ipywidgets as widgets\n",
    "import pandas as pd"
   ]
  },
  {
   "cell_type": "code",
   "execution_count": 62,
   "id": "ef1d2bf0-eaf3-4d78-b6c0-fb1bb4ed10f1",
   "metadata": {
    "jupyter": {
     "source_hidden": true
    }
   },
   "outputs": [],
   "source": [
    "DATA_LAKE_ROOT = './data'"
   ]
  },
  {
   "cell_type": "markdown",
   "id": "d52db03d-d83b-4af3-9137-3011537e5ed8",
   "metadata": {},
   "source": [
    "---\n",
    "## <span style=\"color: yellow\">IMPORTANT</span> - Set the drop zone altitude MSL\n",
    "\n",
    "Set the value in ft (even though SSScoring uses meters) out of convenience because all DZs in the US, many in Asia and Mexico, and many in Europe express the altitude in feet.\n",
    "\n",
    "### Some DZs\n",
    "\n",
    "| Drop zone | Alt (ft) |\n",
    "|-----------|----------|\n",
    "| Bay Area Skydiving | 23 |\n",
    "| Skydive Arizona | 1509 |\n",
    "| Skydive Chicago | 616 |\n",
    "| Thai Sky Adventures | 21 |"
   ]
  },
  {
   "cell_type": "code",
   "execution_count": 63,
   "id": "5c95013a-4aa3-4a5e-9493-b945ead10ced",
   "metadata": {},
   "outputs": [],
   "source": [
    "dropZoneAltMSL = 23"
   ]
  },
  {
   "cell_type": "code",
   "execution_count": 64,
   "id": "1f091813-03b0-45bc-a30e-704fac7f968a",
   "metadata": {},
   "outputs": [
    {
     "data": {
      "application/vnd.jupyter.widget-view+json": {
       "model_id": "73ed76a49c824fc4b4203fe306376f68",
       "version_major": 2,
       "version_minor": 0
      },
      "text/plain": [
       "HTML(value='<h2>DZ Altitude = <span style = \"color: green\">  23.00 ft</span> (   7.01 m)<h1>')"
      ]
     },
     "metadata": {},
     "output_type": "display_data"
    }
   ],
   "source": [
    "dropZoneAltMSLMeters = dropZoneAltMSL/FT_IN_M\n",
    "display(widgets.HTML('<h2>DZ Altitude = <span style = \"color: green\">%7.2f ft</span> (%7.2f m)<h1>' % (dropZoneAltMSL, dropZoneAltMSLMeters)))"
   ]
  },
  {
   "cell_type": "code",
   "execution_count": 65,
   "id": "b1273b5c-44c1-46c2-a125-d01ad9268a1a",
   "metadata": {},
   "outputs": [],
   "source": [
    "jumpFiles = getAllSpeedJumpFilesFrom(DATA_LAKE_ROOT)"
   ]
  },
  {
   "cell_type": "code",
   "execution_count": 66,
   "id": "53a5fe5a-dd39-40d3-bfbf-d7048374e4ea",
   "metadata": {},
   "outputs": [],
   "source": [
    "jumpResults = processAllJumpFiles(jumpFiles, altitudeDZMeters = dropZoneAltMSLMeters)"
   ]
  },
  {
   "cell_type": "markdown",
   "id": "d80518ef-f197-4e40-a74e-8089eecb725a",
   "metadata": {},
   "source": [
    "---\n",
    "## Results"
   ]
  },
  {
   "cell_type": "code",
   "execution_count": 67,
   "id": "27c12cb1-2f60-44c9-b8fa-998b3df9d878",
   "metadata": {},
   "outputs": [
    {
     "data": {
      "text/html": [
       "<div>\n",
       "<style scoped>\n",
       "    .dataframe tbody tr th:only-of-type {\n",
       "        vertical-align: middle;\n",
       "    }\n",
       "\n",
       "    .dataframe tbody tr th {\n",
       "        vertical-align: top;\n",
       "    }\n",
       "\n",
       "    .dataframe thead th {\n",
       "        text-align: right;\n",
       "    }\n",
       "</style>\n",
       "<table border=\"1\" class=\"dataframe\">\n",
       "  <thead>\n",
       "    <tr style=\"text-align: right;\">\n",
       "      <th></th>\n",
       "      <th>score</th>\n",
       "      <th>5.0</th>\n",
       "      <th>10.0</th>\n",
       "      <th>15.0</th>\n",
       "      <th>20.0</th>\n",
       "      <th>25.0</th>\n",
       "      <th>finalTime</th>\n",
       "      <th>maxSpeed</th>\n",
       "    </tr>\n",
       "  </thead>\n",
       "  <tbody>\n",
       "    <tr>\n",
       "      <th>00-00-00-EC-baselinex</th>\n",
       "      <td>472.446</td>\n",
       "      <td>177.048</td>\n",
       "      <td>295.560</td>\n",
       "      <td>397.872</td>\n",
       "      <td>457.092</td>\n",
       "      <td>475.164</td>\n",
       "      <td>25.0</td>\n",
       "      <td>476.712</td>\n",
       "    </tr>\n",
       "    <tr>\n",
       "      <th>09-03-31</th>\n",
       "      <td>440.46</td>\n",
       "      <td>179.352</td>\n",
       "      <td>306.180</td>\n",
       "      <td>399.024</td>\n",
       "      <td>442.404</td>\n",
       "      <td>442.008</td>\n",
       "      <td>25.0</td>\n",
       "      <td>442.440</td>\n",
       "    </tr>\n",
       "    <tr>\n",
       "      <th>10-08-57</th>\n",
       "      <td>449.982</td>\n",
       "      <td>174.744</td>\n",
       "      <td>303.696</td>\n",
       "      <td>397.332</td>\n",
       "      <td>439.992</td>\n",
       "      <td>448.380</td>\n",
       "      <td>25.0</td>\n",
       "      <td>452.916</td>\n",
       "    </tr>\n",
       "    <tr>\n",
       "      <th>10-58-08</th>\n",
       "      <td>454.014</td>\n",
       "      <td>178.524</td>\n",
       "      <td>310.788</td>\n",
       "      <td>398.448</td>\n",
       "      <td>443.736</td>\n",
       "      <td>452.304</td>\n",
       "      <td>25.0</td>\n",
       "      <td>456.624</td>\n",
       "    </tr>\n",
       "    <tr>\n",
       "      <th>11-36-32</th>\n",
       "      <td>456.786</td>\n",
       "      <td>180.396</td>\n",
       "      <td>309.312</td>\n",
       "      <td>400.428</td>\n",
       "      <td>448.884</td>\n",
       "      <td>456.948</td>\n",
       "      <td>25.0</td>\n",
       "      <td>457.704</td>\n",
       "    </tr>\n",
       "    <tr>\n",
       "      <th>12-19-48</th>\n",
       "      <td>451.602</td>\n",
       "      <td>175.032</td>\n",
       "      <td>311.580</td>\n",
       "      <td>398.988</td>\n",
       "      <td>442.656</td>\n",
       "      <td>452.736</td>\n",
       "      <td>25.0</td>\n",
       "      <td>452.988</td>\n",
       "    </tr>\n",
       "    <tr>\n",
       "      <th>14-00-13</th>\n",
       "      <td>455.616</td>\n",
       "      <td>177.588</td>\n",
       "      <td>302.472</td>\n",
       "      <td>398.232</td>\n",
       "      <td>449.280</td>\n",
       "      <td>453.996</td>\n",
       "      <td>25.0</td>\n",
       "      <td>457.200</td>\n",
       "    </tr>\n",
       "  </tbody>\n",
       "</table>\n",
       "</div>"
      ],
      "text/plain": [
       "                         score      5.0     10.0     15.0     20.0     25.0  \\\n",
       "00-00-00-EC-baselinex  472.446  177.048  295.560  397.872  457.092  475.164   \n",
       "09-03-31                440.46  179.352  306.180  399.024  442.404  442.008   \n",
       "10-08-57               449.982  174.744  303.696  397.332  439.992  448.380   \n",
       "10-58-08               454.014  178.524  310.788  398.448  443.736  452.304   \n",
       "11-36-32               456.786  180.396  309.312  400.428  448.884  456.948   \n",
       "12-19-48               451.602  175.032  311.580  398.988  442.656  452.736   \n",
       "14-00-13               455.616  177.588  302.472  398.232  449.280  453.996   \n",
       "\n",
       "                       finalTime  maxSpeed  \n",
       "00-00-00-EC-baselinex       25.0   476.712  \n",
       "09-03-31                    25.0   442.440  \n",
       "10-08-57                    25.0   452.916  \n",
       "10-58-08                    25.0   456.624  \n",
       "11-36-32                    25.0   457.704  \n",
       "12-19-48                    25.0   452.988  \n",
       "14-00-13                    25.0   457.200  "
      ]
     },
     "metadata": {},
     "output_type": "display_data"
    }
   ],
   "source": [
    "aggregate = aggregateResults(jumpResults)\n",
    "sumResults = totalResultsFrom(aggregate)\n",
    "display(aggregate)"
   ]
  },
  {
   "cell_type": "markdown",
   "id": "3fa8c207-b9cf-4275-ba37-5103e1b324a9",
   "metadata": {},
   "source": [
    "### Rounded results for training log"
   ]
  },
  {
   "cell_type": "code",
   "execution_count": 68,
   "id": "e2bfbc21-3121-436a-904f-547edb0f2d0c",
   "metadata": {},
   "outputs": [],
   "source": [
    "roundedResults = roundedAggregateResults(jumpResults)"
   ]
  },
  {
   "cell_type": "markdown",
   "id": "faf1396d-1030-477e-9d87-5c167b61328f",
   "metadata": {},
   "source": [
    "### All jumps"
   ]
  },
  {
   "cell_type": "code",
   "execution_count": 69,
   "id": "5a0571fd-5a22-4dda-94aa-56a4f2c68098",
   "metadata": {
    "jupyter": {
     "source_hidden": true
    }
   },
   "outputs": [],
   "source": [
    "def dumpSimple(table: pd.DataFrame):\n",
    "    fileName = os.path.join(DATA_LAKE_ROOT, resultRef+'.tsv')\n",
    "    simpleTable = table.copy()\n",
    "    simpleTable = simpleTable.drop('speedAngle', axis = 1)\n",
    "    simpleTable.to_csv(fileName, sep = '\\t', index = False)"
   ]
  },
  {
   "cell_type": "code",
   "execution_count": 70,
   "id": "59ff50f6-4f29-4282-a55f-af524921af19",
   "metadata": {
    "jupyter": {
     "source_hidden": true
    }
   },
   "outputs": [],
   "source": [
    "def displayJumpDataIn(resultsTable: pd.DataFrame):\n",
    "    table = resultsTable.copy()\n",
    "    # Experimental\n",
    "    # For more information on the `interpolate` method and its options, see the [pandas documentation](https://pandas.pydata.org/pandas-docs/stable/reference/api/pandas.Series.interpolate.html).\n",
    "    # Additionally, you can also consider using other libraries like `scipy` which provides more advanced interpolation methods, such as `interp1d` or `griddata`. See the [scipy documentation](https://docs.scipy.org/doc/scipy/reference/interpolate.html) for more information.\n",
    "    table.vKMh = table.vKMh.apply(round)\n",
    "    table.hKMh = table.hKMh.apply(round)\n",
    "    table['altitude (ft)'] = table['altitude (ft)'].apply(round)\n",
    "    table.netVectorKMh = table.netVectorKMh.apply(round)\n",
    "    table.index = ['']*len(table)\n",
    "    display(table)\n",
    "    # dumpSimple(table)"
   ]
  },
  {
   "cell_type": "code",
   "execution_count": 71,
   "id": "888f2fce-1e7a-4728-b86d-7975c37e75c2",
   "metadata": {
    "jupyter": {
     "source_hidden": true
    }
   },
   "outputs": [
    {
     "data": {
      "application/vnd.jupyter.widget-view+json": {
       "model_id": "b4bd6cb8c96d40609109f05b3403d77c",
       "version_major": 2,
       "version_minor": 0
      },
      "text/plain": [
       "HTML(value='<hr><h1><span style=\"color: #0f0\">00-00-00-EC-baselinex jump - 🟢 valid - score = 472.45 km/h</span…"
      ]
     },
     "metadata": {},
     "output_type": "display_data"
    },
    {
     "data": {
      "application/vnd.jupyter.widget-view+json": {
       "model_id": "106b7323a6374932ba91cfa015eb98ff",
       "version_major": 2,
       "version_minor": 0
      },
      "text/plain": [
       "HTML(value='<h3>Max speed = 477; exit at 4237 m (13902 ft), end scoring window at 1981 m (6500 ft)')"
      ]
     },
     "metadata": {},
     "output_type": "display_data"
    },
    {
     "data": {
      "application/vnd.jupyter.widget-view+json": {
       "model_id": "b8e7ae8d4c5744bf98f8af5dc27141af",
       "version_major": 2,
       "version_minor": 0
      },
      "text/plain": [
       "HTML(value='</h3>')"
      ]
     },
     "metadata": {},
     "output_type": "display_data"
    },
    {
     "data": {
      "text/html": [
       "<div>\n",
       "<style scoped>\n",
       "    .dataframe tbody tr th:only-of-type {\n",
       "        vertical-align: middle;\n",
       "    }\n",
       "\n",
       "    .dataframe tbody tr th {\n",
       "        vertical-align: top;\n",
       "    }\n",
       "\n",
       "    .dataframe thead th {\n",
       "        text-align: right;\n",
       "    }\n",
       "</style>\n",
       "<table border=\"1\" class=\"dataframe\">\n",
       "  <thead>\n",
       "    <tr style=\"text-align: right;\">\n",
       "      <th></th>\n",
       "      <th>time</th>\n",
       "      <th>vKMh</th>\n",
       "      <th>hKMh</th>\n",
       "      <th>speedAngle</th>\n",
       "      <th>netVectorKMh</th>\n",
       "      <th>altitude (ft)</th>\n",
       "    </tr>\n",
       "  </thead>\n",
       "  <tbody>\n",
       "    <tr>\n",
       "      <th></th>\n",
       "      <td>5.0</td>\n",
       "      <td>177</td>\n",
       "      <td>78</td>\n",
       "      <td>66.2</td>\n",
       "      <td>193</td>\n",
       "      <td>13475</td>\n",
       "    </tr>\n",
       "    <tr>\n",
       "      <th></th>\n",
       "      <td>10.0</td>\n",
       "      <td>296</td>\n",
       "      <td>68</td>\n",
       "      <td>77.0</td>\n",
       "      <td>303</td>\n",
       "      <td>12383</td>\n",
       "    </tr>\n",
       "    <tr>\n",
       "      <th></th>\n",
       "      <td>15.0</td>\n",
       "      <td>398</td>\n",
       "      <td>78</td>\n",
       "      <td>78.8</td>\n",
       "      <td>406</td>\n",
       "      <td>10791</td>\n",
       "    </tr>\n",
       "    <tr>\n",
       "      <th></th>\n",
       "      <td>20.0</td>\n",
       "      <td>457</td>\n",
       "      <td>49</td>\n",
       "      <td>83.9</td>\n",
       "      <td>460</td>\n",
       "      <td>8823</td>\n",
       "    </tr>\n",
       "    <tr>\n",
       "      <th></th>\n",
       "      <td>25.0</td>\n",
       "      <td>475</td>\n",
       "      <td>32</td>\n",
       "      <td>86.1</td>\n",
       "      <td>476</td>\n",
       "      <td>6686</td>\n",
       "    </tr>\n",
       "  </tbody>\n",
       "</table>\n",
       "</div>"
      ],
      "text/plain": [
       "  time  vKMh  hKMh  speedAngle  netVectorKMh  altitude (ft)\n",
       "   5.0   177    78        66.2           193          13475\n",
       "  10.0   296    68        77.0           303          12383\n",
       "  15.0   398    78        78.8           406          10791\n",
       "  20.0   457    49        83.9           460           8823\n",
       "  25.0   475    32        86.1           476           6686"
      ]
     },
     "metadata": {},
     "output_type": "display_data"
    },
    {
     "data": {
      "text/html": [
       "\n",
       "  <div id=\"dd955bbf-a068-441c-bf24-b584048c2d2e\" data-root-id=\"p3647\" style=\"display: contents;\"></div>\n"
      ]
     },
     "metadata": {},
     "output_type": "display_data"
    },
    {
     "data": {
      "application/javascript": [
       "(function(root) {\n",
       "  function embed_document(root) {\n",
       "  const docs_json = {\"85bb6a6b-ba8d-4c2c-ac44-36de55e3f04d\":{\"version\":\"3.4.1\",\"title\":\"Bokeh Application\",\"roots\":[{\"type\":\"object\",\"name\":\"Figure\",\"id\":\"p3647\",\"attributes\":{\"width\":900,\"height\":500,\"x_range\":{\"type\":\"object\",\"name\":\"Range1d\",\"id\":\"p3657\",\"attributes\":{\"end\":35.0}},\"y_range\":{\"type\":\"object\",\"name\":\"Range1d\",\"id\":\"p3658\",\"attributes\":{\"end\":550.0}},\"x_scale\":{\"type\":\"object\",\"name\":\"LinearScale\",\"id\":\"p3659\"},\"y_scale\":{\"type\":\"object\",\"name\":\"LinearScale\",\"id\":\"p3660\"},\"extra_y_ranges\":{\"type\":\"map\",\"entries\":[[\"altitudeFt\",{\"type\":\"object\",\"name\":\"Range1d\",\"id\":\"p3682\",\"attributes\":{\"start\":6012.7341728,\"end\":14402.3785656}}],[\"angle\",{\"type\":\"object\",\"name\":\"Range1d\",\"id\":\"p3683\",\"attributes\":{\"end\":90.0}}]]},\"title\":{\"type\":\"object\",\"name\":\"Title\",\"id\":\"p3650\",\"attributes\":{\"text\":\"00-00-00-EC-baselinex\",\"text_color\":\"#E0E0E0\",\"text_font\":\"Helvetica\",\"text_font_size\":\"1.15em\"}},\"outline_line_color\":\"#E0E0E0\",\"outline_line_alpha\":0.25,\"renderers\":[{\"type\":\"object\",\"name\":\"GlyphRenderer\",\"id\":\"p3698\",\"attributes\":{\"y_range_name\":\"altitudeFt\",\"data_source\":{\"type\":\"object\",\"name\":\"ColumnDataSource\",\"id\":\"p3692\",\"attributes\":{\"selected\":{\"type\":\"object\",\"name\":\"Selection\",\"id\":\"p3693\",\"attributes\":{\"indices\":[],\"line_indices\":[]}},\"selection_policy\":{\"type\":\"object\",\"name\":\"UnionRenderers\",\"id\":\"p3694\"},\"data\":{\"type\":\"map\",\"entries\":[[\"x\",{\"type\":\"ndarray\",\"array\":{\"type\":\"bytes\",\"data\":\"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\"},\"shape\":[206],\"dtype\":\"float64\",\"order\":\"little\"}],[\"y\",{\"type\":\"ndarray\",\"array\":{\"type\":\"bytes\",\"data\":\"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\"},\"shape\":[206],\"dtype\":\"float64\",\"order\":\"little\"}]]}}},\"view\":{\"type\":\"object\",\"name\":\"CDSView\",\"id\":\"p3699\",\"attributes\":{\"filter\":{\"type\":\"object\",\"name\":\"AllIndices\",\"id\":\"p3700\"}}},\"glyph\":{\"type\":\"object\",\"name\":\"Line\",\"id\":\"p3695\",\"attributes\":{\"x\":{\"type\":\"field\",\"field\":\"x\"},\"y\":{\"type\":\"field\",\"field\":\"y\"},\"line_color\":\"palegoldenrod\",\"line_width\":2}},\"nonselection_glyph\":{\"type\":\"object\",\"name\":\"Line\",\"id\":\"p3696\",\"attributes\":{\"x\":{\"type\":\"field\",\"field\":\"x\"},\"y\":{\"type\":\"field\",\"field\":\"y\"},\"line_color\":\"palegoldenrod\",\"line_alpha\":0.1,\"line_width\":2}},\"muted_glyph\":{\"type\":\"object\",\"name\":\"Line\",\"id\":\"p3697\",\"attributes\":{\"x\":{\"type\":\"field\",\"field\":\"x\"},\"y\":{\"type\":\"field\",\"field\":\"y\"},\"line_color\":\"palegoldenrod\",\"line_alpha\":0.2,\"line_width\":2}}}},{\"type\":\"object\",\"name\":\"GlyphRenderer\",\"id\":\"p3709\",\"attributes\":{\"y_range_name\":\"angle\",\"data_source\":{\"type\":\"object\",\"name\":\"ColumnDataSource\",\"id\":\"p3703\",\"attributes\":{\"selected\":{\"type\":\"object\",\"name\":\"Selection\",\"id\":\"p3704\",\"attributes\":{\"indices\":[],\"line_indices\":[]}},\"selection_policy\":{\"type\":\"object\",\"name\":\"UnionRenderers\",\"id\":\"p3705\"},\"data\":{\"type\":\"map\",\"entries\":[[\"x\",{\"type\":\"ndarray\",\"array\":{\"type\":\"bytes\",\"data\":\"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\"},\"shape\":[206],\"dtype\":\"float64\",\"order\":\"little\"}],[\"y\",{\"type\":\"ndarray\",\"array\":{\"type\":\"bytes\",\"data\":\"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\"},\"shape\":[206],\"dtype\":\"float64\",\"order\":\"little\"}]]}}},\"view\":{\"type\":\"object\",\"name\":\"CDSView\",\"id\":\"p3710\",\"attributes\":{\"filter\":{\"type\":\"object\",\"name\":\"AllIndices\",\"id\":\"p3711\"}}},\"glyph\":{\"type\":\"object\",\"name\":\"Line\",\"id\":\"p3706\",\"attributes\":{\"x\":{\"type\":\"field\",\"field\":\"x\"},\"y\":{\"type\":\"field\",\"field\":\"y\"},\"line_color\":\"deepskyblue\",\"line_width\":2}},\"nonselection_glyph\":{\"type\":\"object\",\"name\":\"Line\",\"id\":\"p3707\",\"attributes\":{\"x\":{\"type\":\"field\",\"field\":\"x\"},\"y\":{\"type\":\"field\",\"field\":\"y\"},\"line_color\":\"deepskyblue\",\"line_alpha\":0.1,\"line_width\":2}},\"muted_glyph\":{\"type\":\"object\",\"name\":\"Line\",\"id\":\"p3708\",\"attributes\":{\"x\":{\"type\":\"field\",\"field\":\"x\"},\"y\":{\"type\":\"field\",\"field\":\"y\"},\"line_color\":\"deepskyblue\",\"line_alpha\":0.2,\"line_width\":2}}}},{\"type\":\"object\",\"name\":\"GlyphRenderer\",\"id\":\"p3720\",\"attributes\":{\"data_source\":{\"type\":\"object\",\"name\":\"ColumnDataSource\",\"id\":\"p3714\",\"attributes\":{\"selected\":{\"type\":\"object\",\"name\":\"Selection\",\"id\":\"p3715\",\"attributes\":{\"indices\":[],\"line_indices\":[]}},\"selection_policy\":{\"type\":\"object\",\"name\":\"UnionRenderers\",\"id\":\"p3716\"},\"data\":{\"type\":\"map\",\"entries\":[[\"x\",{\"type\":\"ndarray\",\"array\":{\"type\":\"bytes\",\"data\":\"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\"},\"shape\":[206],\"dtype\":\"float64\",\"order\":\"little\"}],[\"y\",{\"type\":\"ndarray\",\"array\":{\"type\":\"bytes\",\"data\":\"wcqhRbbzJEC28/3UeOkoQLOd76fGSyxAEVg5tMh2L0AxCKwcWuQxQHnpJjEIrDVAPzVeukkMOEAX2c73U2M6QJqZmZmZmT5ARbbz/dS4QEDTTWIQWDlDQF66SQwCK0VAC9ejcD0KR0DP91PjpdtIQNV46SYxiEpAmpmZmZlZTEDqJjEIrNxNQN9PjZdukk9ARbbz/dS4UECkcD0K16NRQNEi2/l+qlJAF9nO91OjU0Bt5/up8ZJUQMdLN4lBgFVA30+Nl26SVkBWDi2ynW9XQLTIdr6fWlhAK4cW2c43WUCWQ4ts5xtaQPCnxks3CVtAXrpJDALrW0C4HoXrUdhcQI6XbhKDoF5A30+Nl26SX0A+CtejcC1gQHNoke18n2BA7nw/NV56YUBOYhBYOdRhQJduEoPAOmJA3iQGgZWjYkAdWmQ73w9jQLkehetR2GNA9ihcj8JFZEA/NV66SaxkQJHtfD81DmVAQmDl0CLLZUCoxks3iSFmQFg5tMh23mZAqvHSTWJAZ0AZBFYOLZJnQHsUrkfh6mdA8KfGSzc5aECoxks3ifFoQAIrhxbZTmlAvHSTGAQGakAnMQisHFpqQIlBYOXQsmpABoGVQ4v8akAGgZVDi4xrQIgW2c7302tADi2yne8XbECmm8QgsFJsQCuHFtnOl2xAQ2Dl0CIbbUDGILByaGFtQEnhehSup21Ax0s3iUHwbUCsHFpkO49uQDMzMzMz025ASeF6FK5Xb0DNzMzMzJxvQFtkO99P3W9AbxKDwMoRcECuR+F6FDZwQKabxCCwgnBA30+Nl26qcEAhsHJokc1wQOF6FK5HOXFAJzEIrBxacUBzaJHtfHdxQDEIrBxanHFAbef7qfHCcUBjEFg5tBByQKRwPQrXM3JA5tAi2/lWckApXI/C9XhyQClcj8L1wHJA7FG4HoXjckAtsp3vpwZzQGMQWDm0MHNAppvEILBSc0A5tMh2vo9zQH0/NV66sXNAzczMzMzMc0AGgZVDi/RzQMUgsHJoGXRASgwCK4dedEAOLbKd7390QEW28/3UqHRAAiuHFtnOdECF61G4HhV1QMl2vp8aN3VACKwcWmRbdUBSuB6F63l1QJZDi2znm3VAnMQgsHLgdUCgGi/dJCZ2QNv5fmq8THZA9P3UeOmGdkCwcmiR7ax2QPhT46WbzHZAPzVeuknsdkAOLbKd7wd3QKabxCCwQndAd76fGi9dd0DJdr6fGnd3QIts5/upmXdAqMZLN4nRd0DufD81XvJ3QDm0yHa+D3hAhetRuB4teEDRItv5fkp4QGdmZmZmhnhArkfhehSmeED8qfHSTcJ4QMuhRbbz3XhAZDvfT40XeUCwcmiR7TR5QNnO91PjZXlArkfhehR+eUAAAAAAAJh5QMl2vp8at3lAj8L1KFzXeUDZzvdT4/V5QKRwPQrXE3pAaZHtfD81ekAzMzMzM1N6QBKDwMqhZXpA5KWbxCCAekAMAiuHFrF6QPp+arx0u3pAUrgehevRekC/nxov3dx6QJZDi2zn83pAexSuR+ECe0DfT42XbhJ7QCcxCKwcMntAke18PzU+e0Bh5dAi21l7QDzfT42XbntAhetRuB6Ne0DYo3A9Cqd7QBov3SQGyXtAiBbZzvfTe0Bcj8L1KOx7QMHKoUW2+3tACKwcWmQbfEBxPQrXoyh8QGQ730+NL3xAs53vp8ZLfECgGi/dJFZ8QIXrUbgeZXxAYeXQItt5fEC28/3UeJF8QCPb+X5qnHxATmIQWDnMfEBLN4lBYM18QNV46SYxyHxAexSuR+GyfEDkpZvEIMB8QMh2vp8az3xA/9R46Sb5fED/1HjpJvl8QJQYBFYO7XxAc2iR7Xz/fEDfT42Xbgp9QE9iEFg5FH1A0iLb+X4SfUAzMzMzMyN9QKFFtvP9LH1AiUFg5dA6fUDufD81Xkp9QPHSTWIQSH1A3Pl+arxUfUDSItv5flp9QFtkO99PVX1ARIts5/thfUCvR+F6FG59QKRwPQrXc31Aku18PzV+fUAPLbKd7399QHe+nxovjX1Abef7qfGSfUDTTWIQWKF9QKwcWmQ7t31ACKwcWmTLfUApXI/C9bh9QLbz/dR4sX1AoUW28/28fUCbxCCwcsB9QEW28/3UqH1Atch2vp+yfUChRbbz/bx9QBKDwMqhxX1AlUOLbOfDfUAVrkfhesR9QA==\"},\"shape\":[206],\"dtype\":\"float64\",\"order\":\"little\"}]]}}},\"view\":{\"type\":\"object\",\"name\":\"CDSView\",\"id\":\"p3721\",\"attributes\":{\"filter\":{\"type\":\"object\",\"name\":\"AllIndices\",\"id\":\"p3722\"}}},\"glyph\":{\"type\":\"object\",\"name\":\"Line\",\"id\":\"p3717\",\"attributes\":{\"x\":{\"type\":\"field\",\"field\":\"x\"},\"y\":{\"type\":\"field\",\"field\":\"y\"},\"line_color\":\"limegreen\",\"line_width\":2}},\"nonselection_glyph\":{\"type\":\"object\",\"name\":\"Line\",\"id\":\"p3718\",\"attributes\":{\"x\":{\"type\":\"field\",\"field\":\"x\"},\"y\":{\"type\":\"field\",\"field\":\"y\"},\"line_color\":\"limegreen\",\"line_alpha\":0.1,\"line_width\":2}},\"muted_glyph\":{\"type\":\"object\",\"name\":\"Line\",\"id\":\"p3719\",\"attributes\":{\"x\":{\"type\":\"field\",\"field\":\"x\"},\"y\":{\"type\":\"field\",\"field\":\"y\"},\"line_color\":\"limegreen\",\"line_alpha\":0.2,\"line_width\":2}}}},{\"type\":\"object\",\"name\":\"GlyphRenderer\",\"id\":\"p3730\",\"attributes\":{\"data_source\":{\"type\":\"object\",\"name\":\"ColumnDataSource\",\"id\":\"p3724\",\"attributes\":{\"selected\":{\"type\":\"object\",\"name\":\"Selection\",\"id\":\"p3725\",\"attributes\":{\"indices\":[],\"line_indices\":[]}},\"selection_policy\":{\"type\":\"object\",\"name\":\"UnionRenderers\",\"id\":\"p3726\"},\"data\":{\"type\":\"map\",\"entries\":[[\"x\",{\"type\":\"ndarray\",\"array\":{\"type\":\"bytes\",\"data\":\"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\"},\"shape\":[206],\"dtype\":\"float64\",\"order\":\"little\"}],[\"y\",{\"type\":\"ndarray\",\"array\":{\"type\":\"bytes\",\"data\":\"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\"},\"shape\":[206],\"dtype\":\"float64\",\"order\":\"little\"}]]}}},\"view\":{\"type\":\"object\",\"name\":\"CDSView\",\"id\":\"p3731\",\"attributes\":{\"filter\":{\"type\":\"object\",\"name\":\"AllIndices\",\"id\":\"p3732\"}}},\"glyph\":{\"type\":\"object\",\"name\":\"Line\",\"id\":\"p3727\",\"attributes\":{\"x\":{\"type\":\"field\",\"field\":\"x\"},\"y\":{\"type\":\"field\",\"field\":\"y\"},\"line_color\":\"red\",\"line_width\":2}},\"nonselection_glyph\":{\"type\":\"object\",\"name\":\"Line\",\"id\":\"p3728\",\"attributes\":{\"x\":{\"type\":\"field\",\"field\":\"x\"},\"y\":{\"type\":\"field\",\"field\":\"y\"},\"line_color\":\"red\",\"line_alpha\":0.1,\"line_width\":2}},\"muted_glyph\":{\"type\":\"object\",\"name\":\"Line\",\"id\":\"p3729\",\"attributes\":{\"x\":{\"type\":\"field\",\"field\":\"x\"},\"y\":{\"type\":\"field\",\"field\":\"y\"},\"line_color\":\"red\",\"line_alpha\":0.2,\"line_width\":2}}}},{\"type\":\"object\",\"name\":\"GlyphRenderer\",\"id\":\"p3740\",\"attributes\":{\"data_source\":{\"type\":\"object\",\"name\":\"ColumnDataSource\",\"id\":\"p3734\",\"attributes\":{\"selected\":{\"type\":\"object\",\"name\":\"Selection\",\"id\":\"p3735\",\"attributes\":{\"indices\":[],\"line_indices\":[]}},\"selection_policy\":{\"type\":\"object\",\"name\":\"UnionRenderers\",\"id\":\"p3736\"},\"data\":{\"type\":\"map\",\"entries\":[[\"x0\",[22.299999952316284]],[\"y0\",[0.0]],[\"x1\",[22.299999952316284]],[\"y1\",[472.446]]]}}},\"view\":{\"type\":\"object\",\"name\":\"CDSView\",\"id\":\"p3741\",\"attributes\":{\"filter\":{\"type\":\"object\",\"name\":\"AllIndices\",\"id\":\"p3742\"}}},\"glyph\":{\"type\":\"object\",\"name\":\"Segment\",\"id\":\"p3737\",\"attributes\":{\"x0\":{\"type\":\"field\",\"field\":\"x0\"},\"y0\":{\"type\":\"field\",\"field\":\"y0\"},\"x1\":{\"type\":\"field\",\"field\":\"x1\"},\"y1\":{\"type\":\"field\",\"field\":\"y1\"},\"line_color\":{\"type\":\"value\",\"value\":\"lightblue\"},\"line_width\":{\"type\":\"value\",\"value\":3}}},\"nonselection_glyph\":{\"type\":\"object\",\"name\":\"Segment\",\"id\":\"p3738\",\"attributes\":{\"x0\":{\"type\":\"field\",\"field\":\"x0\"},\"y0\":{\"type\":\"field\",\"field\":\"y0\"},\"x1\":{\"type\":\"field\",\"field\":\"x1\"},\"y1\":{\"type\":\"field\",\"field\":\"y1\"},\"line_color\":{\"type\":\"value\",\"value\":\"lightblue\"},\"line_alpha\":{\"type\":\"value\",\"value\":0.1},\"line_width\":{\"type\":\"value\",\"value\":3}}},\"muted_glyph\":{\"type\":\"object\",\"name\":\"Segment\",\"id\":\"p3739\",\"attributes\":{\"x0\":{\"type\":\"field\",\"field\":\"x0\"},\"y0\":{\"type\":\"field\",\"field\":\"y0\"},\"x1\":{\"type\":\"field\",\"field\":\"x1\"},\"y1\":{\"type\":\"field\",\"field\":\"y1\"},\"line_color\":{\"type\":\"value\",\"value\":\"lightblue\"},\"line_alpha\":{\"type\":\"value\",\"value\":0.2},\"line_width\":{\"type\":\"value\",\"value\":3}}}}},{\"type\":\"object\",\"name\":\"GlyphRenderer\",\"id\":\"p3749\",\"attributes\":{\"data_source\":{\"type\":\"object\",\"name\":\"ColumnDataSource\",\"id\":\"p3743\",\"attributes\":{\"selected\":{\"type\":\"object\",\"name\":\"Selection\",\"id\":\"p3744\",\"attributes\":{\"indices\":[],\"line_indices\":[]}},\"selection_policy\":{\"type\":\"object\",\"name\":\"UnionRenderers\",\"id\":\"p3745\"},\"data\":{\"type\":\"map\",\"entries\":[[\"x0\",[23.799999952316284]],[\"y0\",[0.0]],[\"x1\",[23.799999952316284]],[\"y1\",[472.446]]]}}},\"view\":{\"type\":\"object\",\"name\":\"CDSView\",\"id\":\"p3750\",\"attributes\":{\"filter\":{\"type\":\"object\",\"name\":\"AllIndices\",\"id\":\"p3751\"}}},\"glyph\":{\"type\":\"object\",\"name\":\"Segment\",\"id\":\"p3746\",\"attributes\":{\"x0\":{\"type\":\"field\",\"field\":\"x0\"},\"y0\":{\"type\":\"field\",\"field\":\"y0\"},\"x1\":{\"type\":\"field\",\"field\":\"x1\"},\"y1\":{\"type\":\"field\",\"field\":\"y1\"},\"line_color\":{\"type\":\"value\",\"value\":\"darkseagreen\"}}},\"nonselection_glyph\":{\"type\":\"object\",\"name\":\"Segment\",\"id\":\"p3747\",\"attributes\":{\"x0\":{\"type\":\"field\",\"field\":\"x0\"},\"y0\":{\"type\":\"field\",\"field\":\"y0\"},\"x1\":{\"type\":\"field\",\"field\":\"x1\"},\"y1\":{\"type\":\"field\",\"field\":\"y1\"},\"line_color\":{\"type\":\"value\",\"value\":\"darkseagreen\"},\"line_alpha\":{\"type\":\"value\",\"value\":0.1}}},\"muted_glyph\":{\"type\":\"object\",\"name\":\"Segment\",\"id\":\"p3748\",\"attributes\":{\"x0\":{\"type\":\"field\",\"field\":\"x0\"},\"y0\":{\"type\":\"field\",\"field\":\"y0\"},\"x1\":{\"type\":\"field\",\"field\":\"x1\"},\"y1\":{\"type\":\"field\",\"field\":\"y1\"},\"line_color\":{\"type\":\"value\",\"value\":\"darkseagreen\"},\"line_alpha\":{\"type\":\"value\",\"value\":0.2}}}}},{\"type\":\"object\",\"name\":\"GlyphRenderer\",\"id\":\"p3758\",\"attributes\":{\"data_source\":{\"type\":\"object\",\"name\":\"ColumnDataSource\",\"id\":\"p3752\",\"attributes\":{\"selected\":{\"type\":\"object\",\"name\":\"Selection\",\"id\":\"p3753\",\"attributes\":{\"indices\":[],\"line_indices\":[]}},\"selection_policy\":{\"type\":\"object\",\"name\":\"UnionRenderers\",\"id\":\"p3754\"},\"data\":{\"type\":\"map\",\"entries\":[[\"x0\",[20.799999952316284]],[\"y0\",[0.0]],[\"x1\",[20.799999952316284]],[\"y1\",[472.446]]]}}},\"view\":{\"type\":\"object\",\"name\":\"CDSView\",\"id\":\"p3759\",\"attributes\":{\"filter\":{\"type\":\"object\",\"name\":\"AllIndices\",\"id\":\"p3760\"}}},\"glyph\":{\"type\":\"object\",\"name\":\"Segment\",\"id\":\"p3755\",\"attributes\":{\"x0\":{\"type\":\"field\",\"field\":\"x0\"},\"y0\":{\"type\":\"field\",\"field\":\"y0\"},\"x1\":{\"type\":\"field\",\"field\":\"x1\"},\"y1\":{\"type\":\"field\",\"field\":\"y1\"},\"line_color\":{\"type\":\"value\",\"value\":\"darkseagreen\"}}},\"nonselection_glyph\":{\"type\":\"object\",\"name\":\"Segment\",\"id\":\"p3756\",\"attributes\":{\"x0\":{\"type\":\"field\",\"field\":\"x0\"},\"y0\":{\"type\":\"field\",\"field\":\"y0\"},\"x1\":{\"type\":\"field\",\"field\":\"x1\"},\"y1\":{\"type\":\"field\",\"field\":\"y1\"},\"line_color\":{\"type\":\"value\",\"value\":\"darkseagreen\"},\"line_alpha\":{\"type\":\"value\",\"value\":0.1}}},\"muted_glyph\":{\"type\":\"object\",\"name\":\"Segment\",\"id\":\"p3757\",\"attributes\":{\"x0\":{\"type\":\"field\",\"field\":\"x0\"},\"y0\":{\"type\":\"field\",\"field\":\"y0\"},\"x1\":{\"type\":\"field\",\"field\":\"x1\"},\"y1\":{\"type\":\"field\",\"field\":\"y1\"},\"line_color\":{\"type\":\"value\",\"value\":\"darkseagreen\"},\"line_alpha\":{\"type\":\"value\",\"value\":0.2}}}}},{\"type\":\"object\",\"name\":\"GlyphRenderer\",\"id\":\"p3767\",\"attributes\":{\"data_source\":{\"type\":\"object\",\"name\":\"ColumnDataSource\",\"id\":\"p3761\",\"attributes\":{\"selected\":{\"type\":\"object\",\"name\":\"Selection\",\"id\":\"p3762\",\"attributes\":{\"indices\":[],\"line_indices\":[]}},\"selection_policy\":{\"type\":\"object\",\"name\":\"UnionRenderers\",\"id\":\"p3763\"},\"data\":{\"type\":\"map\",\"entries\":[[\"x\",[22.299999952316284]],[\"y\",[472.446]],[\"size\",[20]]]}}},\"view\":{\"type\":\"object\",\"name\":\"CDSView\",\"id\":\"p3768\",\"attributes\":{\"filter\":{\"type\":\"object\",\"name\":\"AllIndices\",\"id\":\"p3769\"}}},\"glyph\":{\"type\":\"object\",\"name\":\"Scatter\",\"id\":\"p3764\",\"attributes\":{\"x\":{\"type\":\"field\",\"field\":\"x\"},\"y\":{\"type\":\"field\",\"field\":\"y\"},\"size\":{\"type\":\"field\",\"field\":\"size\"},\"line_color\":{\"type\":\"value\",\"value\":\"lightblue\"},\"line_width\":{\"type\":\"value\",\"value\":3},\"fill_color\":{\"type\":\"value\",\"value\":null},\"marker\":{\"type\":\"value\",\"value\":\"square_cross\"}}},\"nonselection_glyph\":{\"type\":\"object\",\"name\":\"Scatter\",\"id\":\"p3765\",\"attributes\":{\"x\":{\"type\":\"field\",\"field\":\"x\"},\"y\":{\"type\":\"field\",\"field\":\"y\"},\"size\":{\"type\":\"field\",\"field\":\"size\"},\"line_color\":{\"type\":\"value\",\"value\":\"lightblue\"},\"line_alpha\":{\"type\":\"value\",\"value\":0.1},\"line_width\":{\"type\":\"value\",\"value\":3},\"fill_color\":{\"type\":\"value\",\"value\":null},\"fill_alpha\":{\"type\":\"value\",\"value\":0.1},\"hatch_alpha\":{\"type\":\"value\",\"value\":0.1},\"marker\":{\"type\":\"value\",\"value\":\"square_cross\"}}},\"muted_glyph\":{\"type\":\"object\",\"name\":\"Scatter\",\"id\":\"p3766\",\"attributes\":{\"x\":{\"type\":\"field\",\"field\":\"x\"},\"y\":{\"type\":\"field\",\"field\":\"y\"},\"size\":{\"type\":\"field\",\"field\":\"size\"},\"line_color\":{\"type\":\"value\",\"value\":\"lightblue\"},\"line_alpha\":{\"type\":\"value\",\"value\":0.2},\"line_width\":{\"type\":\"value\",\"value\":3},\"fill_color\":{\"type\":\"value\",\"value\":null},\"fill_alpha\":{\"type\":\"value\",\"value\":0.2},\"hatch_alpha\":{\"type\":\"value\",\"value\":0.2},\"marker\":{\"type\":\"value\",\"value\":\"square_cross\"}}}}}],\"toolbar\":{\"type\":\"object\",\"name\":\"Toolbar\",\"id\":\"p3656\",\"attributes\":{\"tools\":[{\"type\":\"object\",\"name\":\"PanTool\",\"id\":\"p3671\"},{\"type\":\"object\",\"name\":\"WheelZoomTool\",\"id\":\"p3672\",\"attributes\":{\"renderers\":\"auto\"}},{\"type\":\"object\",\"name\":\"BoxZoomTool\",\"id\":\"p3673\",\"attributes\":{\"overlay\":{\"type\":\"object\",\"name\":\"BoxAnnotation\",\"id\":\"p3674\",\"attributes\":{\"syncable\":false,\"level\":\"overlay\",\"visible\":false,\"left\":{\"type\":\"number\",\"value\":\"nan\"},\"right\":{\"type\":\"number\",\"value\":\"nan\"},\"top\":{\"type\":\"number\",\"value\":\"nan\"},\"bottom\":{\"type\":\"number\",\"value\":\"nan\"},\"left_units\":\"canvas\",\"right_units\":\"canvas\",\"top_units\":\"canvas\",\"bottom_units\":\"canvas\",\"line_color\":\"black\",\"line_alpha\":1.0,\"line_width\":2,\"line_dash\":[4,4],\"fill_color\":\"lightgrey\",\"fill_alpha\":0.5}}}},{\"type\":\"object\",\"name\":\"SaveTool\",\"id\":\"p3679\"},{\"type\":\"object\",\"name\":\"ResetTool\",\"id\":\"p3680\"},{\"type\":\"object\",\"name\":\"HelpTool\",\"id\":\"p3681\"},{\"type\":\"object\",\"name\":\"HoverTool\",\"id\":\"p3713\",\"attributes\":{\"renderers\":\"auto\",\"tooltips\":[[\"Y-val\",\"@y{0.00}\"]]}}]}},\"left\":[{\"type\":\"object\",\"name\":\"LinearAxis\",\"id\":\"p3666\",\"attributes\":{\"ticker\":{\"type\":\"object\",\"name\":\"BasicTicker\",\"id\":\"p3667\",\"attributes\":{\"mantissas\":[1,2,5]}},\"formatter\":{\"type\":\"object\",\"name\":\"BasicTickFormatter\",\"id\":\"p3668\"},\"axis_label\":\"km/h\",\"axis_label_standoff\":10,\"axis_label_text_color\":\"#E0E0E0\",\"axis_label_text_font\":\"Helvetica\",\"axis_label_text_font_size\":\"1.25em\",\"axis_label_text_font_style\":\"normal\",\"major_label_policy\":{\"type\":\"object\",\"name\":\"AllLabels\",\"id\":\"p3669\"},\"major_label_text_color\":\"#E0E0E0\",\"major_label_text_font\":\"Helvetica\",\"major_label_text_font_size\":\"1.025em\",\"axis_line_color\":\"#E0E0E0\",\"axis_line_alpha\":0,\"major_tick_line_color\":\"#E0E0E0\",\"major_tick_line_alpha\":0,\"minor_tick_line_color\":\"#E0E0E0\",\"minor_tick_line_alpha\":0}},{\"type\":\"object\",\"name\":\"LinearAxis\",\"id\":\"p3684\",\"attributes\":{\"y_range_name\":\"altitudeFt\",\"ticker\":{\"type\":\"object\",\"name\":\"BasicTicker\",\"id\":\"p3685\",\"attributes\":{\"mantissas\":[1,2,5]}},\"formatter\":{\"type\":\"object\",\"name\":\"BasicTickFormatter\",\"id\":\"p3686\"},\"axis_label\":\"Alt (ft)\",\"axis_label_standoff\":10,\"axis_label_text_color\":\"#E0E0E0\",\"axis_label_text_font\":\"Helvetica\",\"axis_label_text_font_size\":\"1.25em\",\"axis_label_text_font_style\":\"normal\",\"major_label_policy\":{\"type\":\"object\",\"name\":\"AllLabels\",\"id\":\"p3687\"},\"major_label_text_color\":\"#E0E0E0\",\"major_label_text_font\":\"Helvetica\",\"major_label_text_font_size\":\"1.025em\",\"axis_line_color\":\"#E0E0E0\",\"axis_line_alpha\":0,\"major_tick_line_color\":\"#E0E0E0\",\"major_tick_line_alpha\":0,\"minor_tick_line_color\":\"#E0E0E0\",\"minor_tick_line_alpha\":0}},{\"type\":\"object\",\"name\":\"LinearAxis\",\"id\":\"p3688\",\"attributes\":{\"y_range_name\":\"angle\",\"ticker\":{\"type\":\"object\",\"name\":\"BasicTicker\",\"id\":\"p3689\",\"attributes\":{\"mantissas\":[1,2,5]}},\"formatter\":{\"type\":\"object\",\"name\":\"BasicTickFormatter\",\"id\":\"p3690\"},\"axis_label\":\"angle\",\"axis_label_standoff\":10,\"axis_label_text_color\":\"#E0E0E0\",\"axis_label_text_font\":\"Helvetica\",\"axis_label_text_font_size\":\"1.25em\",\"axis_label_text_font_style\":\"normal\",\"major_label_policy\":{\"type\":\"object\",\"name\":\"AllLabels\",\"id\":\"p3691\"},\"major_label_text_color\":\"#E0E0E0\",\"major_label_text_font\":\"Helvetica\",\"major_label_text_font_size\":\"1.025em\",\"axis_line_color\":\"#E0E0E0\",\"axis_line_alpha\":0,\"major_tick_line_color\":\"#E0E0E0\",\"major_tick_line_alpha\":0,\"minor_tick_line_color\":\"#E0E0E0\",\"minor_tick_line_alpha\":0}}],\"below\":[{\"type\":\"object\",\"name\":\"LinearAxis\",\"id\":\"p3661\",\"attributes\":{\"ticker\":{\"type\":\"object\",\"name\":\"BasicTicker\",\"id\":\"p3662\",\"attributes\":{\"mantissas\":[1,2,5]}},\"formatter\":{\"type\":\"object\",\"name\":\"BasicTickFormatter\",\"id\":\"p3663\"},\"axis_label\":\"seconds from exit\",\"axis_label_standoff\":10,\"axis_label_text_color\":\"#E0E0E0\",\"axis_label_text_font\":\"Helvetica\",\"axis_label_text_font_size\":\"1.25em\",\"axis_label_text_font_style\":\"normal\",\"major_label_policy\":{\"type\":\"object\",\"name\":\"AllLabels\",\"id\":\"p3664\"},\"major_label_text_color\":\"#E0E0E0\",\"major_label_text_font\":\"Helvetica\",\"major_label_text_font_size\":\"1.025em\",\"axis_line_color\":\"#E0E0E0\",\"axis_line_alpha\":0,\"major_tick_line_color\":\"#E0E0E0\",\"major_tick_line_alpha\":0,\"minor_tick_line_color\":\"#E0E0E0\",\"minor_tick_line_alpha\":0}}],\"center\":[{\"type\":\"object\",\"name\":\"Grid\",\"id\":\"p3665\",\"attributes\":{\"axis\":{\"id\":\"p3661\"},\"grid_line_color\":\"#E0E0E0\",\"grid_line_alpha\":0.25}},{\"type\":\"object\",\"name\":\"Grid\",\"id\":\"p3670\",\"attributes\":{\"dimension\":1,\"axis\":{\"id\":\"p3666\"},\"grid_line_color\":\"#E0E0E0\",\"grid_line_alpha\":0.25}},{\"type\":\"object\",\"name\":\"Legend\",\"id\":\"p3701\",\"attributes\":{\"border_line_alpha\":0,\"background_fill_color\":\"#20262B\",\"background_fill_alpha\":0.25,\"label_text_color\":\"#E0E0E0\",\"label_text_font\":\"Helvetica\",\"label_text_font_size\":\"1.025em\",\"label_standoff\":8,\"glyph_width\":15,\"spacing\":8,\"items\":[{\"type\":\"object\",\"name\":\"LegendItem\",\"id\":\"p3702\",\"attributes\":{\"label\":{\"type\":\"value\",\"value\":\"Alt (ft)\"},\"renderers\":[{\"id\":\"p3698\"}]}},{\"type\":\"object\",\"name\":\"LegendItem\",\"id\":\"p3712\",\"attributes\":{\"label\":{\"type\":\"value\",\"value\":\"angle\"},\"renderers\":[{\"id\":\"p3709\"}]}},{\"type\":\"object\",\"name\":\"LegendItem\",\"id\":\"p3723\",\"attributes\":{\"label\":{\"type\":\"value\",\"value\":\"speed\"},\"renderers\":[{\"id\":\"p3720\"}]}},{\"type\":\"object\",\"name\":\"LegendItem\",\"id\":\"p3733\",\"attributes\":{\"label\":{\"type\":\"value\",\"value\":\"H-speed\"},\"renderers\":[{\"id\":\"p3730\"}]}}]}}],\"background_fill_color\":\"#20262B\",\"border_fill_color\":\"#15191C\"}}]}};\n",
       "  const render_items = [{\"docid\":\"85bb6a6b-ba8d-4c2c-ac44-36de55e3f04d\",\"roots\":{\"p3647\":\"dd955bbf-a068-441c-bf24-b584048c2d2e\"},\"root_ids\":[\"p3647\"]}];\n",
       "  void root.Bokeh.embed.embed_items_notebook(docs_json, render_items);\n",
       "  }\n",
       "  if (root.Bokeh !== undefined) {\n",
       "    embed_document(root);\n",
       "  } else {\n",
       "    let attempts = 0;\n",
       "    const timer = setInterval(function(root) {\n",
       "      if (root.Bokeh !== undefined) {\n",
       "        clearInterval(timer);\n",
       "        embed_document(root);\n",
       "      } else {\n",
       "        attempts++;\n",
       "        if (attempts > 100) {\n",
       "          clearInterval(timer);\n",
       "          console.log(\"Bokeh: ERROR: Unable to run BokehJS code because BokehJS library is missing\");\n",
       "        }\n",
       "      }\n",
       "    }, 10, root)\n",
       "  }\n",
       "})(window);"
      ],
      "application/vnd.bokehjs_exec.v0+json": ""
     },
     "metadata": {
      "application/vnd.bokehjs_exec.v0+json": {
       "id": "p3647"
      }
     },
     "output_type": "display_data"
    },
    {
     "data": {
      "application/vnd.jupyter.widget-view+json": {
       "model_id": "6b095a18fc4747779539fccd0a9e8078",
       "version_major": 2,
       "version_minor": 0
      },
      "text/plain": [
       "HTML(value='<hr><h1><span style=\"color: #0f0\">09-03-31 jump - 🟢 valid - score = 440.46 km/h</span></h1>')"
      ]
     },
     "metadata": {},
     "output_type": "display_data"
    },
    {
     "data": {
      "application/vnd.jupyter.widget-view+json": {
       "model_id": "112df1aca1e74ec1a2b59d138625f63d",
       "version_major": 2,
       "version_minor": 0
      },
      "text/plain": [
       "HTML(value='<h3>Max speed = 442; exit at 4037 m (13246 ft), end scoring window at 1781 m (5844 ft)')"
      ]
     },
     "metadata": {},
     "output_type": "display_data"
    },
    {
     "data": {
      "application/vnd.jupyter.widget-view+json": {
       "model_id": "6110b0eac39842b49aa08990e2209126",
       "version_major": 2,
       "version_minor": 0
      },
      "text/plain": [
       "HTML(value='</h3>')"
      ]
     },
     "metadata": {},
     "output_type": "display_data"
    },
    {
     "data": {
      "text/html": [
       "<div>\n",
       "<style scoped>\n",
       "    .dataframe tbody tr th:only-of-type {\n",
       "        vertical-align: middle;\n",
       "    }\n",
       "\n",
       "    .dataframe tbody tr th {\n",
       "        vertical-align: top;\n",
       "    }\n",
       "\n",
       "    .dataframe thead th {\n",
       "        text-align: right;\n",
       "    }\n",
       "</style>\n",
       "<table border=\"1\" class=\"dataframe\">\n",
       "  <thead>\n",
       "    <tr style=\"text-align: right;\">\n",
       "      <th></th>\n",
       "      <th>time</th>\n",
       "      <th>vKMh</th>\n",
       "      <th>hKMh</th>\n",
       "      <th>speedAngle</th>\n",
       "      <th>netVectorKMh</th>\n",
       "      <th>altitude (ft)</th>\n",
       "    </tr>\n",
       "  </thead>\n",
       "  <tbody>\n",
       "    <tr>\n",
       "      <th></th>\n",
       "      <td>5.0</td>\n",
       "      <td>179</td>\n",
       "      <td>127</td>\n",
       "      <td>54.6</td>\n",
       "      <td>220</td>\n",
       "      <td>12810</td>\n",
       "    </tr>\n",
       "    <tr>\n",
       "      <th></th>\n",
       "      <td>10.0</td>\n",
       "      <td>306</td>\n",
       "      <td>101</td>\n",
       "      <td>71.8</td>\n",
       "      <td>322</td>\n",
       "      <td>11708</td>\n",
       "    </tr>\n",
       "    <tr>\n",
       "      <th></th>\n",
       "      <td>15.0</td>\n",
       "      <td>399</td>\n",
       "      <td>82</td>\n",
       "      <td>78.3</td>\n",
       "      <td>407</td>\n",
       "      <td>10076</td>\n",
       "    </tr>\n",
       "    <tr>\n",
       "      <th></th>\n",
       "      <td>20.0</td>\n",
       "      <td>442</td>\n",
       "      <td>69</td>\n",
       "      <td>81.1</td>\n",
       "      <td>448</td>\n",
       "      <td>8093</td>\n",
       "    </tr>\n",
       "    <tr>\n",
       "      <th></th>\n",
       "      <td>25.0</td>\n",
       "      <td>442</td>\n",
       "      <td>57</td>\n",
       "      <td>82.6</td>\n",
       "      <td>446</td>\n",
       "      <td>6088</td>\n",
       "    </tr>\n",
       "  </tbody>\n",
       "</table>\n",
       "</div>"
      ],
      "text/plain": [
       "  time  vKMh  hKMh  speedAngle  netVectorKMh  altitude (ft)\n",
       "   5.0   179   127        54.6           220          12810\n",
       "  10.0   306   101        71.8           322          11708\n",
       "  15.0   399    82        78.3           407          10076\n",
       "  20.0   442    69        81.1           448           8093\n",
       "  25.0   442    57        82.6           446           6088"
      ]
     },
     "metadata": {},
     "output_type": "display_data"
    },
    {
     "data": {
      "text/html": [
       "\n",
       "  <div id=\"e7622977-fd77-4f57-bf00-ebff795369ff\" data-root-id=\"p3789\" style=\"display: contents;\"></div>\n"
      ]
     },
     "metadata": {},
     "output_type": "display_data"
    },
    {
     "data": {
      "application/javascript": [
       "(function(root) {\n",
       "  function embed_document(root) {\n",
       "  const docs_json = {\"d88c48bf-38ce-4cd7-a735-25574080bebb\":{\"version\":\"3.4.1\",\"title\":\"Bokeh Application\",\"roots\":[{\"type\":\"object\",\"name\":\"Figure\",\"id\":\"p3789\",\"attributes\":{\"width\":900,\"height\":500,\"x_range\":{\"type\":\"object\",\"name\":\"Range1d\",\"id\":\"p3799\",\"attributes\":{\"end\":35.0}},\"y_range\":{\"type\":\"object\",\"name\":\"Range1d\",\"id\":\"p3800\",\"attributes\":{\"end\":550.0}},\"x_scale\":{\"type\":\"object\",\"name\":\"LinearScale\",\"id\":\"p3801\"},\"y_scale\":{\"type\":\"object\",\"name\":\"LinearScale\",\"id\":\"p3802\"},\"extra_y_ranges\":{\"type\":\"map\",\"entries\":[[\"altitudeFt\",{\"type\":\"object\",\"name\":\"Range1d\",\"id\":\"p3824\",\"attributes\":{\"start\":5347.90958,\"end\":13746.169353600002}}],[\"angle\",{\"type\":\"object\",\"name\":\"Range1d\",\"id\":\"p3825\",\"attributes\":{\"end\":90.0}}]]},\"title\":{\"type\":\"object\",\"name\":\"Title\",\"id\":\"p3792\",\"attributes\":{\"text\":\"09-03-31\",\"text_color\":\"#E0E0E0\",\"text_font\":\"Helvetica\",\"text_font_size\":\"1.15em\"}},\"outline_line_color\":\"#E0E0E0\",\"outline_line_alpha\":0.25,\"renderers\":[{\"type\":\"object\",\"name\":\"GlyphRenderer\",\"id\":\"p3840\",\"attributes\":{\"y_range_name\":\"altitudeFt\",\"data_source\":{\"type\":\"object\",\"name\":\"ColumnDataSource\",\"id\":\"p3834\",\"attributes\":{\"selected\":{\"type\":\"object\",\"name\":\"Selection\",\"id\":\"p3835\",\"attributes\":{\"indices\":[],\"line_indices\":[]}},\"selection_policy\":{\"type\":\"object\",\"name\":\"UnionRenderers\",\"id\":\"p3836\"},\"data\":{\"type\":\"map\",\"entries\":[[\"x\",{\"type\":\"ndarray\",\"array\":{\"type\":\"bytes\",\"data\":\"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\"},\"shape\":[204],\"dtype\":\"float64\",\"order\":\"little\"}],[\"y\",{\"type\":\"ndarray\",\"array\":{\"type\":\"bytes\",\"data\":\"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\"},\"shape\":[204],\"dtype\":\"float64\",\"order\":\"little\"}]]}}},\"view\":{\"type\":\"object\",\"name\":\"CDSView\",\"id\":\"p3841\",\"attributes\":{\"filter\":{\"type\":\"object\",\"name\":\"AllIndices\",\"id\":\"p3842\"}}},\"glyph\":{\"type\":\"object\",\"name\":\"Line\",\"id\":\"p3837\",\"attributes\":{\"x\":{\"type\":\"field\",\"field\":\"x\"},\"y\":{\"type\":\"field\",\"field\":\"y\"},\"line_color\":\"palegoldenrod\",\"line_width\":2}},\"nonselection_glyph\":{\"type\":\"object\",\"name\":\"Line\",\"id\":\"p3838\",\"attributes\":{\"x\":{\"type\":\"field\",\"field\":\"x\"},\"y\":{\"type\":\"field\",\"field\":\"y\"},\"line_color\":\"palegoldenrod\",\"line_alpha\":0.1,\"line_width\":2}},\"muted_glyph\":{\"type\":\"object\",\"name\":\"Line\",\"id\":\"p3839\",\"attributes\":{\"x\":{\"type\":\"field\",\"field\":\"x\"},\"y\":{\"type\":\"field\",\"field\":\"y\"},\"line_color\":\"palegoldenrod\",\"line_alpha\":0.2,\"line_width\":2}}}},{\"type\":\"object\",\"name\":\"GlyphRenderer\",\"id\":\"p3851\",\"attributes\":{\"y_range_name\":\"angle\",\"data_source\":{\"type\":\"object\",\"name\":\"ColumnDataSource\",\"id\":\"p3845\",\"attributes\":{\"selected\":{\"type\":\"object\",\"name\":\"Selection\",\"id\":\"p3846\",\"attributes\":{\"indices\":[],\"line_indices\":[]}},\"selection_policy\":{\"type\":\"object\",\"name\":\"UnionRenderers\",\"id\":\"p3847\"},\"data\":{\"type\":\"map\",\"entries\":[[\"x\",{\"type\":\"ndarray\",\"array\":{\"type\":\"bytes\",\"data\":\"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\"},\"shape\":[204],\"dtype\":\"float64\",\"order\":\"little\"}],[\"y\",{\"type\":\"ndarray\",\"array\":{\"type\":\"bytes\",\"data\":\"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\"},\"shape\":[204],\"dtype\":\"float64\",\"order\":\"little\"}]]}}},\"view\":{\"type\":\"object\",\"name\":\"CDSView\",\"id\":\"p3852\",\"attributes\":{\"filter\":{\"type\":\"object\",\"name\":\"AllIndices\",\"id\":\"p3853\"}}},\"glyph\":{\"type\":\"object\",\"name\":\"Line\",\"id\":\"p3848\",\"attributes\":{\"x\":{\"type\":\"field\",\"field\":\"x\"},\"y\":{\"type\":\"field\",\"field\":\"y\"},\"line_color\":\"deepskyblue\",\"line_width\":2}},\"nonselection_glyph\":{\"type\":\"object\",\"name\":\"Line\",\"id\":\"p3849\",\"attributes\":{\"x\":{\"type\":\"field\",\"field\":\"x\"},\"y\":{\"type\":\"field\",\"field\":\"y\"},\"line_color\":\"deepskyblue\",\"line_alpha\":0.1,\"line_width\":2}},\"muted_glyph\":{\"type\":\"object\",\"name\":\"Line\",\"id\":\"p3850\",\"attributes\":{\"x\":{\"type\":\"field\",\"field\":\"x\"},\"y\":{\"type\":\"field\",\"field\":\"y\"},\"line_color\":\"deepskyblue\",\"line_alpha\":0.2,\"line_width\":2}}}},{\"type\":\"object\",\"name\":\"GlyphRenderer\",\"id\":\"p3862\",\"attributes\":{\"data_source\":{\"type\":\"object\",\"name\":\"ColumnDataSource\",\"id\":\"p3856\",\"attributes\":{\"selected\":{\"type\":\"object\",\"name\":\"Selection\",\"id\":\"p3857\",\"attributes\":{\"indices\":[],\"line_indices\":[]}},\"selection_policy\":{\"type\":\"object\",\"name\":\"UnionRenderers\",\"id\":\"p3858\"},\"data\":{\"type\":\"map\",\"entries\":[[\"x\",{\"type\":\"ndarray\",\"array\":{\"type\":\"bytes\",\"data\":\"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\"},\"shape\":[204],\"dtype\":\"float64\",\"order\":\"little\"}],[\"y\",{\"type\":\"ndarray\",\"array\":{\"type\":\"bytes\",\"data\":\"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\"},\"shape\":[204],\"dtype\":\"float64\",\"order\":\"little\"}]]}}},\"view\":{\"type\":\"object\",\"name\":\"CDSView\",\"id\":\"p3863\",\"attributes\":{\"filter\":{\"type\":\"object\",\"name\":\"AllIndices\",\"id\":\"p3864\"}}},\"glyph\":{\"type\":\"object\",\"name\":\"Line\",\"id\":\"p3859\",\"attributes\":{\"x\":{\"type\":\"field\",\"field\":\"x\"},\"y\":{\"type\":\"field\",\"field\":\"y\"},\"line_color\":\"limegreen\",\"line_width\":2}},\"nonselection_glyph\":{\"type\":\"object\",\"name\":\"Line\",\"id\":\"p3860\",\"attributes\":{\"x\":{\"type\":\"field\",\"field\":\"x\"},\"y\":{\"type\":\"field\",\"field\":\"y\"},\"line_color\":\"limegreen\",\"line_alpha\":0.1,\"line_width\":2}},\"muted_glyph\":{\"type\":\"object\",\"name\":\"Line\",\"id\":\"p3861\",\"attributes\":{\"x\":{\"type\":\"field\",\"field\":\"x\"},\"y\":{\"type\":\"field\",\"field\":\"y\"},\"line_color\":\"limegreen\",\"line_alpha\":0.2,\"line_width\":2}}}},{\"type\":\"object\",\"name\":\"GlyphRenderer\",\"id\":\"p3872\",\"attributes\":{\"data_source\":{\"type\":\"object\",\"name\":\"ColumnDataSource\",\"id\":\"p3866\",\"attributes\":{\"selected\":{\"type\":\"object\",\"name\":\"Selection\",\"id\":\"p3867\",\"attributes\":{\"indices\":[],\"line_indices\":[]}},\"selection_policy\":{\"type\":\"object\",\"name\":\"UnionRenderers\",\"id\":\"p3868\"},\"data\":{\"type\":\"map\",\"entries\":[[\"x\",{\"type\":\"ndarray\",\"array\":{\"type\":\"bytes\",\"data\":\"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\"},\"shape\":[204],\"dtype\":\"float64\",\"order\":\"little\"}],[\"y\",{\"type\":\"ndarray\",\"array\":{\"type\":\"bytes\",\"data\":\"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\"},\"shape\":[204],\"dtype\":\"float64\",\"order\":\"little\"}]]}}},\"view\":{\"type\":\"object\",\"name\":\"CDSView\",\"id\":\"p3873\",\"attributes\":{\"filter\":{\"type\":\"object\",\"name\":\"AllIndices\",\"id\":\"p3874\"}}},\"glyph\":{\"type\":\"object\",\"name\":\"Line\",\"id\":\"p3869\",\"attributes\":{\"x\":{\"type\":\"field\",\"field\":\"x\"},\"y\":{\"type\":\"field\",\"field\":\"y\"},\"line_color\":\"red\",\"line_width\":2}},\"nonselection_glyph\":{\"type\":\"object\",\"name\":\"Line\",\"id\":\"p3870\",\"attributes\":{\"x\":{\"type\":\"field\",\"field\":\"x\"},\"y\":{\"type\":\"field\",\"field\":\"y\"},\"line_color\":\"red\",\"line_alpha\":0.1,\"line_width\":2}},\"muted_glyph\":{\"type\":\"object\",\"name\":\"Line\",\"id\":\"p3871\",\"attributes\":{\"x\":{\"type\":\"field\",\"field\":\"x\"},\"y\":{\"type\":\"field\",\"field\":\"y\"},\"line_color\":\"red\",\"line_alpha\":0.2,\"line_width\":2}}}},{\"type\":\"object\",\"name\":\"GlyphRenderer\",\"id\":\"p3882\",\"attributes\":{\"data_source\":{\"type\":\"object\",\"name\":\"ColumnDataSource\",\"id\":\"p3876\",\"attributes\":{\"selected\":{\"type\":\"object\",\"name\":\"Selection\",\"id\":\"p3877\",\"attributes\":{\"indices\":[],\"line_indices\":[]}},\"selection_policy\":{\"type\":\"object\",\"name\":\"UnionRenderers\",\"id\":\"p3878\"},\"data\":{\"type\":\"map\",\"entries\":[[\"x0\",[20.200000047683716]],[\"y0\",[0.0]],[\"x1\",[20.200000047683716]],[\"y1\",[440.46000000000004]]]}}},\"view\":{\"type\":\"object\",\"name\":\"CDSView\",\"id\":\"p3883\",\"attributes\":{\"filter\":{\"type\":\"object\",\"name\":\"AllIndices\",\"id\":\"p3884\"}}},\"glyph\":{\"type\":\"object\",\"name\":\"Segment\",\"id\":\"p3879\",\"attributes\":{\"x0\":{\"type\":\"field\",\"field\":\"x0\"},\"y0\":{\"type\":\"field\",\"field\":\"y0\"},\"x1\":{\"type\":\"field\",\"field\":\"x1\"},\"y1\":{\"type\":\"field\",\"field\":\"y1\"},\"line_color\":{\"type\":\"value\",\"value\":\"lightblue\"},\"line_width\":{\"type\":\"value\",\"value\":3}}},\"nonselection_glyph\":{\"type\":\"object\",\"name\":\"Segment\",\"id\":\"p3880\",\"attributes\":{\"x0\":{\"type\":\"field\",\"field\":\"x0\"},\"y0\":{\"type\":\"field\",\"field\":\"y0\"},\"x1\":{\"type\":\"field\",\"field\":\"x1\"},\"y1\":{\"type\":\"field\",\"field\":\"y1\"},\"line_color\":{\"type\":\"value\",\"value\":\"lightblue\"},\"line_alpha\":{\"type\":\"value\",\"value\":0.1},\"line_width\":{\"type\":\"value\",\"value\":3}}},\"muted_glyph\":{\"type\":\"object\",\"name\":\"Segment\",\"id\":\"p3881\",\"attributes\":{\"x0\":{\"type\":\"field\",\"field\":\"x0\"},\"y0\":{\"type\":\"field\",\"field\":\"y0\"},\"x1\":{\"type\":\"field\",\"field\":\"x1\"},\"y1\":{\"type\":\"field\",\"field\":\"y1\"},\"line_color\":{\"type\":\"value\",\"value\":\"lightblue\"},\"line_alpha\":{\"type\":\"value\",\"value\":0.2},\"line_width\":{\"type\":\"value\",\"value\":3}}}}},{\"type\":\"object\",\"name\":\"GlyphRenderer\",\"id\":\"p3891\",\"attributes\":{\"data_source\":{\"type\":\"object\",\"name\":\"ColumnDataSource\",\"id\":\"p3885\",\"attributes\":{\"selected\":{\"type\":\"object\",\"name\":\"Selection\",\"id\":\"p3886\",\"attributes\":{\"indices\":[],\"line_indices\":[]}},\"selection_policy\":{\"type\":\"object\",\"name\":\"UnionRenderers\",\"id\":\"p3887\"},\"data\":{\"type\":\"map\",\"entries\":[[\"x0\",[21.700000047683716]],[\"y0\",[0.0]],[\"x1\",[21.700000047683716]],[\"y1\",[440.46000000000004]]]}}},\"view\":{\"type\":\"object\",\"name\":\"CDSView\",\"id\":\"p3892\",\"attributes\":{\"filter\":{\"type\":\"object\",\"name\":\"AllIndices\",\"id\":\"p3893\"}}},\"glyph\":{\"type\":\"object\",\"name\":\"Segment\",\"id\":\"p3888\",\"attributes\":{\"x0\":{\"type\":\"field\",\"field\":\"x0\"},\"y0\":{\"type\":\"field\",\"field\":\"y0\"},\"x1\":{\"type\":\"field\",\"field\":\"x1\"},\"y1\":{\"type\":\"field\",\"field\":\"y1\"},\"line_color\":{\"type\":\"value\",\"value\":\"darkseagreen\"}}},\"nonselection_glyph\":{\"type\":\"object\",\"name\":\"Segment\",\"id\":\"p3889\",\"attributes\":{\"x0\":{\"type\":\"field\",\"field\":\"x0\"},\"y0\":{\"type\":\"field\",\"field\":\"y0\"},\"x1\":{\"type\":\"field\",\"field\":\"x1\"},\"y1\":{\"type\":\"field\",\"field\":\"y1\"},\"line_color\":{\"type\":\"value\",\"value\":\"darkseagreen\"},\"line_alpha\":{\"type\":\"value\",\"value\":0.1}}},\"muted_glyph\":{\"type\":\"object\",\"name\":\"Segment\",\"id\":\"p3890\",\"attributes\":{\"x0\":{\"type\":\"field\",\"field\":\"x0\"},\"y0\":{\"type\":\"field\",\"field\":\"y0\"},\"x1\":{\"type\":\"field\",\"field\":\"x1\"},\"y1\":{\"type\":\"field\",\"field\":\"y1\"},\"line_color\":{\"type\":\"value\",\"value\":\"darkseagreen\"},\"line_alpha\":{\"type\":\"value\",\"value\":0.2}}}}},{\"type\":\"object\",\"name\":\"GlyphRenderer\",\"id\":\"p3900\",\"attributes\":{\"data_source\":{\"type\":\"object\",\"name\":\"ColumnDataSource\",\"id\":\"p3894\",\"attributes\":{\"selected\":{\"type\":\"object\",\"name\":\"Selection\",\"id\":\"p3895\",\"attributes\":{\"indices\":[],\"line_indices\":[]}},\"selection_policy\":{\"type\":\"object\",\"name\":\"UnionRenderers\",\"id\":\"p3896\"},\"data\":{\"type\":\"map\",\"entries\":[[\"x0\",[18.700000047683716]],[\"y0\",[0.0]],[\"x1\",[18.700000047683716]],[\"y1\",[440.46000000000004]]]}}},\"view\":{\"type\":\"object\",\"name\":\"CDSView\",\"id\":\"p3901\",\"attributes\":{\"filter\":{\"type\":\"object\",\"name\":\"AllIndices\",\"id\":\"p3902\"}}},\"glyph\":{\"type\":\"object\",\"name\":\"Segment\",\"id\":\"p3897\",\"attributes\":{\"x0\":{\"type\":\"field\",\"field\":\"x0\"},\"y0\":{\"type\":\"field\",\"field\":\"y0\"},\"x1\":{\"type\":\"field\",\"field\":\"x1\"},\"y1\":{\"type\":\"field\",\"field\":\"y1\"},\"line_color\":{\"type\":\"value\",\"value\":\"darkseagreen\"}}},\"nonselection_glyph\":{\"type\":\"object\",\"name\":\"Segment\",\"id\":\"p3898\",\"attributes\":{\"x0\":{\"type\":\"field\",\"field\":\"x0\"},\"y0\":{\"type\":\"field\",\"field\":\"y0\"},\"x1\":{\"type\":\"field\",\"field\":\"x1\"},\"y1\":{\"type\":\"field\",\"field\":\"y1\"},\"line_color\":{\"type\":\"value\",\"value\":\"darkseagreen\"},\"line_alpha\":{\"type\":\"value\",\"value\":0.1}}},\"muted_glyph\":{\"type\":\"object\",\"name\":\"Segment\",\"id\":\"p3899\",\"attributes\":{\"x0\":{\"type\":\"field\",\"field\":\"x0\"},\"y0\":{\"type\":\"field\",\"field\":\"y0\"},\"x1\":{\"type\":\"field\",\"field\":\"x1\"},\"y1\":{\"type\":\"field\",\"field\":\"y1\"},\"line_color\":{\"type\":\"value\",\"value\":\"darkseagreen\"},\"line_alpha\":{\"type\":\"value\",\"value\":0.2}}}}},{\"type\":\"object\",\"name\":\"GlyphRenderer\",\"id\":\"p3909\",\"attributes\":{\"data_source\":{\"type\":\"object\",\"name\":\"ColumnDataSource\",\"id\":\"p3903\",\"attributes\":{\"selected\":{\"type\":\"object\",\"name\":\"Selection\",\"id\":\"p3904\",\"attributes\":{\"indices\":[],\"line_indices\":[]}},\"selection_policy\":{\"type\":\"object\",\"name\":\"UnionRenderers\",\"id\":\"p3905\"},\"data\":{\"type\":\"map\",\"entries\":[[\"x\",[20.200000047683716]],[\"y\",[440.46000000000004]],[\"size\",[20]]]}}},\"view\":{\"type\":\"object\",\"name\":\"CDSView\",\"id\":\"p3910\",\"attributes\":{\"filter\":{\"type\":\"object\",\"name\":\"AllIndices\",\"id\":\"p3911\"}}},\"glyph\":{\"type\":\"object\",\"name\":\"Scatter\",\"id\":\"p3906\",\"attributes\":{\"x\":{\"type\":\"field\",\"field\":\"x\"},\"y\":{\"type\":\"field\",\"field\":\"y\"},\"size\":{\"type\":\"field\",\"field\":\"size\"},\"line_color\":{\"type\":\"value\",\"value\":\"lightblue\"},\"line_width\":{\"type\":\"value\",\"value\":3},\"fill_color\":{\"type\":\"value\",\"value\":null},\"marker\":{\"type\":\"value\",\"value\":\"square_cross\"}}},\"nonselection_glyph\":{\"type\":\"object\",\"name\":\"Scatter\",\"id\":\"p3907\",\"attributes\":{\"x\":{\"type\":\"field\",\"field\":\"x\"},\"y\":{\"type\":\"field\",\"field\":\"y\"},\"size\":{\"type\":\"field\",\"field\":\"size\"},\"line_color\":{\"type\":\"value\",\"value\":\"lightblue\"},\"line_alpha\":{\"type\":\"value\",\"value\":0.1},\"line_width\":{\"type\":\"value\",\"value\":3},\"fill_color\":{\"type\":\"value\",\"value\":null},\"fill_alpha\":{\"type\":\"value\",\"value\":0.1},\"hatch_alpha\":{\"type\":\"value\",\"value\":0.1},\"marker\":{\"type\":\"value\",\"value\":\"square_cross\"}}},\"muted_glyph\":{\"type\":\"object\",\"name\":\"Scatter\",\"id\":\"p3908\",\"attributes\":{\"x\":{\"type\":\"field\",\"field\":\"x\"},\"y\":{\"type\":\"field\",\"field\":\"y\"},\"size\":{\"type\":\"field\",\"field\":\"size\"},\"line_color\":{\"type\":\"value\",\"value\":\"lightblue\"},\"line_alpha\":{\"type\":\"value\",\"value\":0.2},\"line_width\":{\"type\":\"value\",\"value\":3},\"fill_color\":{\"type\":\"value\",\"value\":null},\"fill_alpha\":{\"type\":\"value\",\"value\":0.2},\"hatch_alpha\":{\"type\":\"value\",\"value\":0.2},\"marker\":{\"type\":\"value\",\"value\":\"square_cross\"}}}}}],\"toolbar\":{\"type\":\"object\",\"name\":\"Toolbar\",\"id\":\"p3798\",\"attributes\":{\"tools\":[{\"type\":\"object\",\"name\":\"PanTool\",\"id\":\"p3813\"},{\"type\":\"object\",\"name\":\"WheelZoomTool\",\"id\":\"p3814\",\"attributes\":{\"renderers\":\"auto\"}},{\"type\":\"object\",\"name\":\"BoxZoomTool\",\"id\":\"p3815\",\"attributes\":{\"overlay\":{\"type\":\"object\",\"name\":\"BoxAnnotation\",\"id\":\"p3816\",\"attributes\":{\"syncable\":false,\"level\":\"overlay\",\"visible\":false,\"left\":{\"type\":\"number\",\"value\":\"nan\"},\"right\":{\"type\":\"number\",\"value\":\"nan\"},\"top\":{\"type\":\"number\",\"value\":\"nan\"},\"bottom\":{\"type\":\"number\",\"value\":\"nan\"},\"left_units\":\"canvas\",\"right_units\":\"canvas\",\"top_units\":\"canvas\",\"bottom_units\":\"canvas\",\"line_color\":\"black\",\"line_alpha\":1.0,\"line_width\":2,\"line_dash\":[4,4],\"fill_color\":\"lightgrey\",\"fill_alpha\":0.5}}}},{\"type\":\"object\",\"name\":\"SaveTool\",\"id\":\"p3821\"},{\"type\":\"object\",\"name\":\"ResetTool\",\"id\":\"p3822\"},{\"type\":\"object\",\"name\":\"HelpTool\",\"id\":\"p3823\"},{\"type\":\"object\",\"name\":\"HoverTool\",\"id\":\"p3855\",\"attributes\":{\"renderers\":\"auto\",\"tooltips\":[[\"Y-val\",\"@y{0.00}\"]]}}]}},\"left\":[{\"type\":\"object\",\"name\":\"LinearAxis\",\"id\":\"p3808\",\"attributes\":{\"ticker\":{\"type\":\"object\",\"name\":\"BasicTicker\",\"id\":\"p3809\",\"attributes\":{\"mantissas\":[1,2,5]}},\"formatter\":{\"type\":\"object\",\"name\":\"BasicTickFormatter\",\"id\":\"p3810\"},\"axis_label\":\"km/h\",\"axis_label_standoff\":10,\"axis_label_text_color\":\"#E0E0E0\",\"axis_label_text_font\":\"Helvetica\",\"axis_label_text_font_size\":\"1.25em\",\"axis_label_text_font_style\":\"normal\",\"major_label_policy\":{\"type\":\"object\",\"name\":\"AllLabels\",\"id\":\"p3811\"},\"major_label_text_color\":\"#E0E0E0\",\"major_label_text_font\":\"Helvetica\",\"major_label_text_font_size\":\"1.025em\",\"axis_line_color\":\"#E0E0E0\",\"axis_line_alpha\":0,\"major_tick_line_color\":\"#E0E0E0\",\"major_tick_line_alpha\":0,\"minor_tick_line_color\":\"#E0E0E0\",\"minor_tick_line_alpha\":0}},{\"type\":\"object\",\"name\":\"LinearAxis\",\"id\":\"p3826\",\"attributes\":{\"y_range_name\":\"altitudeFt\",\"ticker\":{\"type\":\"object\",\"name\":\"BasicTicker\",\"id\":\"p3827\",\"attributes\":{\"mantissas\":[1,2,5]}},\"formatter\":{\"type\":\"object\",\"name\":\"BasicTickFormatter\",\"id\":\"p3828\"},\"axis_label\":\"Alt (ft)\",\"axis_label_standoff\":10,\"axis_label_text_color\":\"#E0E0E0\",\"axis_label_text_font\":\"Helvetica\",\"axis_label_text_font_size\":\"1.25em\",\"axis_label_text_font_style\":\"normal\",\"major_label_policy\":{\"type\":\"object\",\"name\":\"AllLabels\",\"id\":\"p3829\"},\"major_label_text_color\":\"#E0E0E0\",\"major_label_text_font\":\"Helvetica\",\"major_label_text_font_size\":\"1.025em\",\"axis_line_color\":\"#E0E0E0\",\"axis_line_alpha\":0,\"major_tick_line_color\":\"#E0E0E0\",\"major_tick_line_alpha\":0,\"minor_tick_line_color\":\"#E0E0E0\",\"minor_tick_line_alpha\":0}},{\"type\":\"object\",\"name\":\"LinearAxis\",\"id\":\"p3830\",\"attributes\":{\"y_range_name\":\"angle\",\"ticker\":{\"type\":\"object\",\"name\":\"BasicTicker\",\"id\":\"p3831\",\"attributes\":{\"mantissas\":[1,2,5]}},\"formatter\":{\"type\":\"object\",\"name\":\"BasicTickFormatter\",\"id\":\"p3832\"},\"axis_label\":\"angle\",\"axis_label_standoff\":10,\"axis_label_text_color\":\"#E0E0E0\",\"axis_label_text_font\":\"Helvetica\",\"axis_label_text_font_size\":\"1.25em\",\"axis_label_text_font_style\":\"normal\",\"major_label_policy\":{\"type\":\"object\",\"name\":\"AllLabels\",\"id\":\"p3833\"},\"major_label_text_color\":\"#E0E0E0\",\"major_label_text_font\":\"Helvetica\",\"major_label_text_font_size\":\"1.025em\",\"axis_line_color\":\"#E0E0E0\",\"axis_line_alpha\":0,\"major_tick_line_color\":\"#E0E0E0\",\"major_tick_line_alpha\":0,\"minor_tick_line_color\":\"#E0E0E0\",\"minor_tick_line_alpha\":0}}],\"below\":[{\"type\":\"object\",\"name\":\"LinearAxis\",\"id\":\"p3803\",\"attributes\":{\"ticker\":{\"type\":\"object\",\"name\":\"BasicTicker\",\"id\":\"p3804\",\"attributes\":{\"mantissas\":[1,2,5]}},\"formatter\":{\"type\":\"object\",\"name\":\"BasicTickFormatter\",\"id\":\"p3805\"},\"axis_label\":\"seconds from exit\",\"axis_label_standoff\":10,\"axis_label_text_color\":\"#E0E0E0\",\"axis_label_text_font\":\"Helvetica\",\"axis_label_text_font_size\":\"1.25em\",\"axis_label_text_font_style\":\"normal\",\"major_label_policy\":{\"type\":\"object\",\"name\":\"AllLabels\",\"id\":\"p3806\"},\"major_label_text_color\":\"#E0E0E0\",\"major_label_text_font\":\"Helvetica\",\"major_label_text_font_size\":\"1.025em\",\"axis_line_color\":\"#E0E0E0\",\"axis_line_alpha\":0,\"major_tick_line_color\":\"#E0E0E0\",\"major_tick_line_alpha\":0,\"minor_tick_line_color\":\"#E0E0E0\",\"minor_tick_line_alpha\":0}}],\"center\":[{\"type\":\"object\",\"name\":\"Grid\",\"id\":\"p3807\",\"attributes\":{\"axis\":{\"id\":\"p3803\"},\"grid_line_color\":\"#E0E0E0\",\"grid_line_alpha\":0.25}},{\"type\":\"object\",\"name\":\"Grid\",\"id\":\"p3812\",\"attributes\":{\"dimension\":1,\"axis\":{\"id\":\"p3808\"},\"grid_line_color\":\"#E0E0E0\",\"grid_line_alpha\":0.25}},{\"type\":\"object\",\"name\":\"Legend\",\"id\":\"p3843\",\"attributes\":{\"border_line_alpha\":0,\"background_fill_color\":\"#20262B\",\"background_fill_alpha\":0.25,\"label_text_color\":\"#E0E0E0\",\"label_text_font\":\"Helvetica\",\"label_text_font_size\":\"1.025em\",\"label_standoff\":8,\"glyph_width\":15,\"spacing\":8,\"items\":[{\"type\":\"object\",\"name\":\"LegendItem\",\"id\":\"p3844\",\"attributes\":{\"label\":{\"type\":\"value\",\"value\":\"Alt (ft)\"},\"renderers\":[{\"id\":\"p3840\"}]}},{\"type\":\"object\",\"name\":\"LegendItem\",\"id\":\"p3854\",\"attributes\":{\"label\":{\"type\":\"value\",\"value\":\"angle\"},\"renderers\":[{\"id\":\"p3851\"}]}},{\"type\":\"object\",\"name\":\"LegendItem\",\"id\":\"p3865\",\"attributes\":{\"label\":{\"type\":\"value\",\"value\":\"speed\"},\"renderers\":[{\"id\":\"p3862\"}]}},{\"type\":\"object\",\"name\":\"LegendItem\",\"id\":\"p3875\",\"attributes\":{\"label\":{\"type\":\"value\",\"value\":\"H-speed\"},\"renderers\":[{\"id\":\"p3872\"}]}}]}}],\"background_fill_color\":\"#20262B\",\"border_fill_color\":\"#15191C\"}}]}};\n",
       "  const render_items = [{\"docid\":\"d88c48bf-38ce-4cd7-a735-25574080bebb\",\"roots\":{\"p3789\":\"e7622977-fd77-4f57-bf00-ebff795369ff\"},\"root_ids\":[\"p3789\"]}];\n",
       "  void root.Bokeh.embed.embed_items_notebook(docs_json, render_items);\n",
       "  }\n",
       "  if (root.Bokeh !== undefined) {\n",
       "    embed_document(root);\n",
       "  } else {\n",
       "    let attempts = 0;\n",
       "    const timer = setInterval(function(root) {\n",
       "      if (root.Bokeh !== undefined) {\n",
       "        clearInterval(timer);\n",
       "        embed_document(root);\n",
       "      } else {\n",
       "        attempts++;\n",
       "        if (attempts > 100) {\n",
       "          clearInterval(timer);\n",
       "          console.log(\"Bokeh: ERROR: Unable to run BokehJS code because BokehJS library is missing\");\n",
       "        }\n",
       "      }\n",
       "    }, 10, root)\n",
       "  }\n",
       "})(window);"
      ],
      "application/vnd.bokehjs_exec.v0+json": ""
     },
     "metadata": {
      "application/vnd.bokehjs_exec.v0+json": {
       "id": "p3789"
      }
     },
     "output_type": "display_data"
    },
    {
     "data": {
      "application/vnd.jupyter.widget-view+json": {
       "model_id": "2dd5aff1e05c43b2b01716f0ef67e621",
       "version_major": 2,
       "version_minor": 0
      },
      "text/plain": [
       "HTML(value='<hr><h1><span style=\"color: #0f0\">10-08-57 jump - 🟢 valid - score = 449.98 km/h</span></h1>')"
      ]
     },
     "metadata": {},
     "output_type": "display_data"
    },
    {
     "data": {
      "application/vnd.jupyter.widget-view+json": {
       "model_id": "621c087f29c34c35bf1b726727ed962f",
       "version_major": 2,
       "version_minor": 0
      },
      "text/plain": [
       "HTML(value='<h3>Max speed = 453; exit at 4010 m (13157 ft), end scoring window at 1754 m (5755 ft)')"
      ]
     },
     "metadata": {},
     "output_type": "display_data"
    },
    {
     "data": {
      "application/vnd.jupyter.widget-view+json": {
       "model_id": "bddc817c9e5c483f8be808635664d9b1",
       "version_major": 2,
       "version_minor": 0
      },
      "text/plain": [
       "HTML(value='</h3>')"
      ]
     },
     "metadata": {},
     "output_type": "display_data"
    },
    {
     "data": {
      "text/html": [
       "<div>\n",
       "<style scoped>\n",
       "    .dataframe tbody tr th:only-of-type {\n",
       "        vertical-align: middle;\n",
       "    }\n",
       "\n",
       "    .dataframe tbody tr th {\n",
       "        vertical-align: top;\n",
       "    }\n",
       "\n",
       "    .dataframe thead th {\n",
       "        text-align: right;\n",
       "    }\n",
       "</style>\n",
       "<table border=\"1\" class=\"dataframe\">\n",
       "  <thead>\n",
       "    <tr style=\"text-align: right;\">\n",
       "      <th></th>\n",
       "      <th>time</th>\n",
       "      <th>vKMh</th>\n",
       "      <th>hKMh</th>\n",
       "      <th>speedAngle</th>\n",
       "      <th>netVectorKMh</th>\n",
       "      <th>altitude (ft)</th>\n",
       "    </tr>\n",
       "  </thead>\n",
       "  <tbody>\n",
       "    <tr>\n",
       "      <th></th>\n",
       "      <td>5.0</td>\n",
       "      <td>175</td>\n",
       "      <td>136</td>\n",
       "      <td>52.1</td>\n",
       "      <td>221</td>\n",
       "      <td>12735</td>\n",
       "    </tr>\n",
       "    <tr>\n",
       "      <th></th>\n",
       "      <td>10.0</td>\n",
       "      <td>304</td>\n",
       "      <td>104</td>\n",
       "      <td>71.0</td>\n",
       "      <td>321</td>\n",
       "      <td>11615</td>\n",
       "    </tr>\n",
       "    <tr>\n",
       "      <th></th>\n",
       "      <td>15.0</td>\n",
       "      <td>397</td>\n",
       "      <td>74</td>\n",
       "      <td>79.5</td>\n",
       "      <td>404</td>\n",
       "      <td>9991</td>\n",
       "    </tr>\n",
       "    <tr>\n",
       "      <th></th>\n",
       "      <td>20.0</td>\n",
       "      <td>440</td>\n",
       "      <td>44</td>\n",
       "      <td>84.3</td>\n",
       "      <td>442</td>\n",
       "      <td>8057</td>\n",
       "    </tr>\n",
       "    <tr>\n",
       "      <th></th>\n",
       "      <td>25.0</td>\n",
       "      <td>448</td>\n",
       "      <td>5</td>\n",
       "      <td>89.4</td>\n",
       "      <td>448</td>\n",
       "      <td>6007</td>\n",
       "    </tr>\n",
       "  </tbody>\n",
       "</table>\n",
       "</div>"
      ],
      "text/plain": [
       "  time  vKMh  hKMh  speedAngle  netVectorKMh  altitude (ft)\n",
       "   5.0   175   136        52.1           221          12735\n",
       "  10.0   304   104        71.0           321          11615\n",
       "  15.0   397    74        79.5           404           9991\n",
       "  20.0   440    44        84.3           442           8057\n",
       "  25.0   448     5        89.4           448           6007"
      ]
     },
     "metadata": {},
     "output_type": "display_data"
    },
    {
     "data": {
      "text/html": [
       "\n",
       "  <div id=\"c71248c1-97da-462e-b020-705d017a4235\" data-root-id=\"p3930\" style=\"display: contents;\"></div>\n"
      ]
     },
     "metadata": {},
     "output_type": "display_data"
    },
    {
     "data": {
      "application/javascript": [
       "(function(root) {\n",
       "  function embed_document(root) {\n",
       "  const docs_json = {\"72530045-47df-4ce2-995b-cdf80f278473\":{\"version\":\"3.4.1\",\"title\":\"Bokeh Application\",\"roots\":[{\"type\":\"object\",\"name\":\"Figure\",\"id\":\"p3930\",\"attributes\":{\"width\":900,\"height\":500,\"x_range\":{\"type\":\"object\",\"name\":\"Range1d\",\"id\":\"p3940\",\"attributes\":{\"end\":35.0}},\"y_range\":{\"type\":\"object\",\"name\":\"Range1d\",\"id\":\"p3941\",\"attributes\":{\"end\":550.0}},\"x_scale\":{\"type\":\"object\",\"name\":\"LinearScale\",\"id\":\"p3942\"},\"y_scale\":{\"type\":\"object\",\"name\":\"LinearScale\",\"id\":\"p3943\"},\"extra_y_ranges\":{\"type\":\"map\",\"entries\":[[\"altitudeFt\",{\"type\":\"object\",\"name\":\"Range1d\",\"id\":\"p3965\",\"attributes\":{\"start\":5262.4152128000005,\"end\":13657.6074384}}],[\"angle\",{\"type\":\"object\",\"name\":\"Range1d\",\"id\":\"p3966\",\"attributes\":{\"end\":90.0}}]]},\"title\":{\"type\":\"object\",\"name\":\"Title\",\"id\":\"p3933\",\"attributes\":{\"text\":\"10-08-57\",\"text_color\":\"#E0E0E0\",\"text_font\":\"Helvetica\",\"text_font_size\":\"1.15em\"}},\"outline_line_color\":\"#E0E0E0\",\"outline_line_alpha\":0.25,\"renderers\":[{\"type\":\"object\",\"name\":\"GlyphRenderer\",\"id\":\"p3981\",\"attributes\":{\"y_range_name\":\"altitudeFt\",\"data_source\":{\"type\":\"object\",\"name\":\"ColumnDataSource\",\"id\":\"p3975\",\"attributes\":{\"selected\":{\"type\":\"object\",\"name\":\"Selection\",\"id\":\"p3976\",\"attributes\":{\"indices\":[],\"line_indices\":[]}},\"selection_policy\":{\"type\":\"object\",\"name\":\"UnionRenderers\",\"id\":\"p3977\"},\"data\":{\"type\":\"map\",\"entries\":[[\"x\",{\"type\":\"ndarray\",\"array\":{\"type\":\"bytes\",\"data\":\"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\"},\"shape\":[213],\"dtype\":\"float64\",\"order\":\"little\"}],[\"y\",{\"type\":\"ndarray\",\"array\":{\"type\":\"bytes\",\"data\":\"FJRH3JCyyUDd8BajqbLJQCufisDNsslAeRDxxcWyyUCg0QyYLrLJQA5hRsJ4sclA3jQivVWwyUBP5sTDmK/JQP4muWhVrslAFGo8x+6syUAbpDvjhqvJQLjgsUTMqclAz9CJTpCnyUCyP5r7ZaXJQPjyTHnOoslAKb0l7/KfyUAIlbiOAZ3JQKwLLgzfmclA2LijpJSWyUDSya2kKJPJQGzf7Yulj8lA3F+He8aLyUBL4CBr54fJQA0W8xjyg8lAOXC9XNJ/yUDfGW1VgnvJQNl4VQwcd8lArMN2nHdyyUAeE84TvG3JQKJQBZLOaMlAH+vzYspjyUAW1cfolV7JQLIHpA48WclAiSGDJrtTyUAiuNs/EE7JQK/el+mVQslA8sS9Q4s8yUBnzTQGSjbJQP3MDxLYL8lANxXzvUApyUA/wWrRhyLJQNLFS9yfG8lAX0lNFpoUyUB7ppcYgw3JQKOt72hIBslAv5AfO9n+yEAcnyS4NPfIQJr7mpuV58hA94+F6JjfyED56vTNL8/IQNAyQcOxxshALrGN0wu+yEBQrFPlO7XIQG9IowJHrMhAzzqZbgCayEAQkT+9rpDIQPINhc8+h8hA0StU7al9yEDjgKfaGGrIQAFr1a4pYMhA8RajCc9LyEBVM2spcEHIQNLgW/31NshA0IB6M2IsyEB+ULxvsSHIQDSGOUHrFshAmuvZGAgMyEAWwDnIEAHIQI0Tuqb79cdAOUDVjUzUx0BA84MEzsjHQHon+tc9vcdAheFt74Sxx0AVsHhFq6XHQNpYiXmmjcdADjOPV3uBx0B80i5LMHXHQD5JcNnHaMdASY7Pv0Bcx0ABJIkU4ULHQP3lSYgANsdAHyBOFg0px0At0O6Q+hvHQMIgn0aAAcdATOMXXhH0xkB2mrtM89jGQMa+CSony8ZAeKEUCEa9xkADrWXXUq/GQGeZ6m4Tk8ZAl7A2xs6ExkA+cN+0+mfGQF3iI71jWcZAZoYy+btKxkA6bGzA+TvGQKJvwQgYLcZADhwrjBgPxkCshaP18f/FQBp75TBu4cVADF2JQAXSxUC3MwLgjsLFQOT8qOH+ssVAmm1dIIeTxUAOyBRirIPFQLejkwDAc8VAi12RTqtjxUAI4XYNj1PFQFCEHntfQ8VA7HR7pNwixUBxHYjR8AHFQO3H3GtX8cRAjup0IKvgxEAlSFtL78/EQMivxKgwrsRAGsVySzudxEChfVEnLYzEQNdD6iwJe8RAyCDBntBpxECeDflnjljEQCQqVDcvR8RA3sd2Y741xED2Ae2zPyTEQEbfkz2oEsRAYv5lUvYAxEC7Y7FNQu/DQJjdk4dt3cNAt+HBYIjLw0D8XTNUkLnDQCgMb3uHp8NAs1b+xnCVw0DVP4hkWIPDQIgkxKYnccNAP0T+9IpMw0AiQrfyxSfDQEr1+BhHFcNAshAdAr8Cw0Ca/AVxJPDCQEsIsY523cJA3h/vVeu3wkD5T5IJE6XCQGPxm8IyksJANvSqKVR/wkAk6k8scVnCQCLL3UJqRsJA9TRgkCwgwkDjrfNv/wzCQNiMwuS8+cFAdBMQ7nnmwUCOaiJ9JNPBQEWkARe/v8FAMuiE0OGYwUC2jfXD1nHBQBl2GJM2XsFAQDorWJFKwUAi8xKt3jbBQE/79yorI8FAynRDrm8PwUC5UnTJBdTAQE9/Ud0nwMBAQiYZOUOswEBE1mTXX5jAQAhAN49+hMBAVj+AVppwwECLcJNRpVzAQDcMMD2zSMBABNw9irw0wEA+3S9Vf/G/QJNWfENRyb9AzL3ArCChv0CD9cmb3Xi/QGdqyC6XUL9AV2drMzQov0ARhNDmvf++QKKnEq88175ACZtLuyKGvkCqigSudl2+QGzQl96+NL5ANFr9x/gLvkDiFS3lIeO9QNh9EX4zur1AVuzUAVVovUAhW5avWz+9QHwUCQFk7bxAZ3ou+DnEvEDZU2EiFJu8QC9P54rSSLxAWh3vRJ8fvECWFuQdZva7QIzZklXho7tA/4eqTn1Ru0Cfc7frFf+6QEXOsXLe1bpAcJy5LKusukAlIqHSbYO6QCo7WFohWrpA0JVS4ekwukDvoCMDirW5QAQAbOVqjLlAYp46+z86uUDaGrbSMBG5QAIEYsgw6LhA3Z0QlTG/uEC+e5EaJJa4QHZg77QLbbhAY3SKnyAbuEAE6ihiHPK3QBuo5zgiybdANvl3xzN3t0C8u4T5UU63QDJTpAx2JbdAxPzLpJz8tkCRygNHyNO2QOLUYktqgrZA\"},\"shape\":[213],\"dtype\":\"float64\",\"order\":\"little\"}]]}}},\"view\":{\"type\":\"object\",\"name\":\"CDSView\",\"id\":\"p3982\",\"attributes\":{\"filter\":{\"type\":\"object\",\"name\":\"AllIndices\",\"id\":\"p3983\"}}},\"glyph\":{\"type\":\"object\",\"name\":\"Line\",\"id\":\"p3978\",\"attributes\":{\"x\":{\"type\":\"field\",\"field\":\"x\"},\"y\":{\"type\":\"field\",\"field\":\"y\"},\"line_color\":\"palegoldenrod\",\"line_width\":2}},\"nonselection_glyph\":{\"type\":\"object\",\"name\":\"Line\",\"id\":\"p3979\",\"attributes\":{\"x\":{\"type\":\"field\",\"field\":\"x\"},\"y\":{\"type\":\"field\",\"field\":\"y\"},\"line_color\":\"palegoldenrod\",\"line_alpha\":0.1,\"line_width\":2}},\"muted_glyph\":{\"type\":\"object\",\"name\":\"Line\",\"id\":\"p3980\",\"attributes\":{\"x\":{\"type\":\"field\",\"field\":\"x\"},\"y\":{\"type\":\"field\",\"field\":\"y\"},\"line_color\":\"palegoldenrod\",\"line_alpha\":0.2,\"line_width\":2}}}},{\"type\":\"object\",\"name\":\"GlyphRenderer\",\"id\":\"p3992\",\"attributes\":{\"y_range_name\":\"angle\",\"data_source\":{\"type\":\"object\",\"name\":\"ColumnDataSource\",\"id\":\"p3986\",\"attributes\":{\"selected\":{\"type\":\"object\",\"name\":\"Selection\",\"id\":\"p3987\",\"attributes\":{\"indices\":[],\"line_indices\":[]}},\"selection_policy\":{\"type\":\"object\",\"name\":\"UnionRenderers\",\"id\":\"p3988\"},\"data\":{\"type\":\"map\",\"entries\":[[\"x\",{\"type\":\"ndarray\",\"array\":{\"type\":\"bytes\",\"data\":\"AAAAAAAAAAAAAAAAmJm5PwAAAACamck/AAAAADMz0z8AAAAAmZnZPwAAAAAAAOA/AAAAADMz4z8AAACAZmbmPwAAAICZmek/AAAAgMzM7D8AAAAAAADwPwAAAICZmfE/AAAAQDMz8z8AAADAzMz0PwAAAEBmZvY/AAAAAAAA+D8AAACAmZn5PwAAAEAzM/s/AAAAwMzM/D8AAABAZmb+PwAAAAAAAABAAAAAwMzMAEAAAACgmZkBQAAAAGBmZgJAAAAAIDMzA0AAAAAAAAAEQAAAAMDMzARAAAAAoJmZBUAAAABgZmYGQAAAACAzMwdAAAAAAAAACEAAAADAzMwIQAAAAKCZmQlAAAAAYGZmCkAAAAAgMzMLQAAAAMDMzAxAAAAAoJmZDUAAAABgZmYOQAAAACAzMw9AAAAAAAAAEEAAAABgZmYQQAAAANDMzBBAAAAAMDMzEUAAAACQmZkRQAAAAAAAABJAAAAAYGZmEkAAAADQzMwSQAAAAJCZmRNAAAAAAAAAFEAAAADQzMwUQAAAADAzMxVAAAAAkJmZFUAAAAAAAAAWQAAAAGBmZhZAAAAAMDMzF0AAAACQmZkXQAAAAAAAABhAAAAAYGZmGEAAAAAwMzMZQAAAAJCZmRlAAAAAYGZmGkAAAADQzMwaQAAAADAzMxtAAAAAkJmZG0AAAAAAAAAcQAAAAGBmZhxAAAAA0MzMHEAAAAAwMzMdQAAAAJCZmR1AAAAA0MzMHkAAAAAwMzMfQAAAAJCZmR9AAAAAAAAAIEAAAAAwMzMgQAAAAJiZmSBAAAAAyMzMIEAAAAAAAAAhQAAAADAzMyFAAAAAaGZmIUAAAADIzMwhQAAAAAAAACJAAAAAMDMzIkAAAABoZmYiQAAAAMjMzCJAAAAAAAAAI0AAAABoZmYjQAAAAJiZmSNAAAAAyMzMI0AAAAAAAAAkQAAAAGhmZiRAAAAAmJmZJEAAAAAAAAAlQAAAADAzMyVAAAAAaGZmJUAAAACYmZklQAAAAMjMzCVAAAAAMDMzJkAAAABoZmYmQAAAAMjMzCZAAAAAAAAAJ0AAAAAwMzMnQAAAAGhmZidAAAAAyMzMJ0AAAAAAAAAoQAAAADAzMyhAAAAAaGZmKEAAAACYmZkoQAAAAMjMzChAAAAAMDMzKUAAAACYmZkpQAAAAMjMzClAAAAAAAAAKkAAAAAwMzMqQAAAAJiZmSpAAAAAyMzMKkAAAAAAAAArQAAAADAzMytAAAAAaGZmK0AAAACYmZkrQAAAAMjMzCtAAAAAAAAALEAAAAAwMzMsQAAAAGhmZixAAAAAmJmZLEAAAADIzMwsQAAAAAAAAC1AAAAAMDMzLUAAAABoZmYtQAAAAJiZmS1AAAAAyMzMLUAAAAAAAAAuQAAAADAzMy5AAAAAmJmZLkAAAAAAAAAvQAAAADAzMy9AAAAAaGZmL0AAAACYmZkvQAAAAMjMzC9AAAAAmJkZMEAAAAA0MzMwQAAAAMzMTDBAAAAAZGZmMEAAAACYmZkwQAAAADQzszBAAAAAZGbmMEAAAAAAAAAxQAAAAJiZGTFAAAAANDMzMUAAAADMzEwxQAAAAGRmZjFAAAAAmJmZMUAAAADMzMwxQAAAAGRm5jFAAAAAAAAAMkAAAACYmRkyQAAAADQzMzJAAAAAzMxMMkAAAACYmZkyQAAAADQzszJAAAAAzMzMMkAAAABkZuYyQAAAAAAAADNAAAAAmJkZM0AAAAA0MzMzQAAAAMzMTDNAAAAAZGZmM0AAAAA0M7MzQAAAAMzMzDNAAAAAZGbmM0AAAAAAAAA0QAAAAJiZGTRAAAAANDMzNEAAAADMzEw0QAAAAGRmZjRAAAAAmJmZNEAAAAA0M7M0QAAAAMzMzDRAAAAAZGbmNEAAAAAAAAA1QAAAAJiZGTVAAAAAzMxMNUAAAABkZmY1QAAAAJiZmTVAAAAANDOzNUAAAADMzMw1QAAAAAAAADZAAAAAmJkZNkAAAAA0MzM2QAAAAGRmZjZAAAAAmJmZNkAAAADMzMw2QAAAAGRm5jZAAAAAAAAAN0AAAACYmRk3QAAAADQzMzdAAAAAzMxMN0AAAACYmZk3QAAAADQzszdAAAAAZGbmN0AAAAAAAAA4QAAAAJiZGThAAAAANDMzOEAAAADMzEw4QAAAAGRmZjhAAAAAmJmZOEAAAAA0M7M4QAAAAMzMzDhAAAAAAAAAOUAAAACYmRk5QAAAADQzMzlAAAAAzMxMOUAAAABkZmY5QAAAAJiZmTlA\"},\"shape\":[213],\"dtype\":\"float64\",\"order\":\"little\"}],[\"y\",{\"type\":\"ndarray\",\"array\":{\"type\":\"bytes\",\"data\":\"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\"},\"shape\":[213],\"dtype\":\"float64\",\"order\":\"little\"}]]}}},\"view\":{\"type\":\"object\",\"name\":\"CDSView\",\"id\":\"p3993\",\"attributes\":{\"filter\":{\"type\":\"object\",\"name\":\"AllIndices\",\"id\":\"p3994\"}}},\"glyph\":{\"type\":\"object\",\"name\":\"Line\",\"id\":\"p3989\",\"attributes\":{\"x\":{\"type\":\"field\",\"field\":\"x\"},\"y\":{\"type\":\"field\",\"field\":\"y\"},\"line_color\":\"deepskyblue\",\"line_width\":2}},\"nonselection_glyph\":{\"type\":\"object\",\"name\":\"Line\",\"id\":\"p3990\",\"attributes\":{\"x\":{\"type\":\"field\",\"field\":\"x\"},\"y\":{\"type\":\"field\",\"field\":\"y\"},\"line_color\":\"deepskyblue\",\"line_alpha\":0.1,\"line_width\":2}},\"muted_glyph\":{\"type\":\"object\",\"name\":\"Line\",\"id\":\"p3991\",\"attributes\":{\"x\":{\"type\":\"field\",\"field\":\"x\"},\"y\":{\"type\":\"field\",\"field\":\"y\"},\"line_color\":\"deepskyblue\",\"line_alpha\":0.2,\"line_width\":2}}}},{\"type\":\"object\",\"name\":\"GlyphRenderer\",\"id\":\"p4003\",\"attributes\":{\"data_source\":{\"type\":\"object\",\"name\":\"ColumnDataSource\",\"id\":\"p3997\",\"attributes\":{\"selected\":{\"type\":\"object\",\"name\":\"Selection\",\"id\":\"p3998\",\"attributes\":{\"indices\":[],\"line_indices\":[]}},\"selection_policy\":{\"type\":\"object\",\"name\":\"UnionRenderers\",\"id\":\"p3999\"},\"data\":{\"type\":\"map\",\"entries\":[[\"x\",{\"type\":\"ndarray\",\"array\":{\"type\":\"bytes\",\"data\":\"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\"},\"shape\":[213],\"dtype\":\"float64\",\"order\":\"little\"}],[\"y\",{\"type\":\"ndarray\",\"array\":{\"type\":\"bytes\",\"data\":\"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\"},\"shape\":[213],\"dtype\":\"float64\",\"order\":\"little\"}]]}}},\"view\":{\"type\":\"object\",\"name\":\"CDSView\",\"id\":\"p4004\",\"attributes\":{\"filter\":{\"type\":\"object\",\"name\":\"AllIndices\",\"id\":\"p4005\"}}},\"glyph\":{\"type\":\"object\",\"name\":\"Line\",\"id\":\"p4000\",\"attributes\":{\"x\":{\"type\":\"field\",\"field\":\"x\"},\"y\":{\"type\":\"field\",\"field\":\"y\"},\"line_color\":\"limegreen\",\"line_width\":2}},\"nonselection_glyph\":{\"type\":\"object\",\"name\":\"Line\",\"id\":\"p4001\",\"attributes\":{\"x\":{\"type\":\"field\",\"field\":\"x\"},\"y\":{\"type\":\"field\",\"field\":\"y\"},\"line_color\":\"limegreen\",\"line_alpha\":0.1,\"line_width\":2}},\"muted_glyph\":{\"type\":\"object\",\"name\":\"Line\",\"id\":\"p4002\",\"attributes\":{\"x\":{\"type\":\"field\",\"field\":\"x\"},\"y\":{\"type\":\"field\",\"field\":\"y\"},\"line_color\":\"limegreen\",\"line_alpha\":0.2,\"line_width\":2}}}},{\"type\":\"object\",\"name\":\"GlyphRenderer\",\"id\":\"p4013\",\"attributes\":{\"data_source\":{\"type\":\"object\",\"name\":\"ColumnDataSource\",\"id\":\"p4007\",\"attributes\":{\"selected\":{\"type\":\"object\",\"name\":\"Selection\",\"id\":\"p4008\",\"attributes\":{\"indices\":[],\"line_indices\":[]}},\"selection_policy\":{\"type\":\"object\",\"name\":\"UnionRenderers\",\"id\":\"p4009\"},\"data\":{\"type\":\"map\",\"entries\":[[\"x\",{\"type\":\"ndarray\",\"array\":{\"type\":\"bytes\",\"data\":\"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\"},\"shape\":[213],\"dtype\":\"float64\",\"order\":\"little\"}],[\"y\",{\"type\":\"ndarray\",\"array\":{\"type\":\"bytes\",\"data\":\"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\"},\"shape\":[213],\"dtype\":\"float64\",\"order\":\"little\"}]]}}},\"view\":{\"type\":\"object\",\"name\":\"CDSView\",\"id\":\"p4014\",\"attributes\":{\"filter\":{\"type\":\"object\",\"name\":\"AllIndices\",\"id\":\"p4015\"}}},\"glyph\":{\"type\":\"object\",\"name\":\"Line\",\"id\":\"p4010\",\"attributes\":{\"x\":{\"type\":\"field\",\"field\":\"x\"},\"y\":{\"type\":\"field\",\"field\":\"y\"},\"line_color\":\"red\",\"line_width\":2}},\"nonselection_glyph\":{\"type\":\"object\",\"name\":\"Line\",\"id\":\"p4011\",\"attributes\":{\"x\":{\"type\":\"field\",\"field\":\"x\"},\"y\":{\"type\":\"field\",\"field\":\"y\"},\"line_color\":\"red\",\"line_alpha\":0.1,\"line_width\":2}},\"muted_glyph\":{\"type\":\"object\",\"name\":\"Line\",\"id\":\"p4012\",\"attributes\":{\"x\":{\"type\":\"field\",\"field\":\"x\"},\"y\":{\"type\":\"field\",\"field\":\"y\"},\"line_color\":\"red\",\"line_alpha\":0.2,\"line_width\":2}}}},{\"type\":\"object\",\"name\":\"GlyphRenderer\",\"id\":\"p4023\",\"attributes\":{\"data_source\":{\"type\":\"object\",\"name\":\"ColumnDataSource\",\"id\":\"p4017\",\"attributes\":{\"selected\":{\"type\":\"object\",\"name\":\"Selection\",\"id\":\"p4018\",\"attributes\":{\"indices\":[],\"line_indices\":[]}},\"selection_policy\":{\"type\":\"object\",\"name\":\"UnionRenderers\",\"id\":\"p4019\"},\"data\":{\"type\":\"map\",\"entries\":[[\"x0\",[21.799999952316284]],[\"y0\",[0.0]],[\"x1\",[21.799999952316284]],[\"y1\",[449.98199999999997]]]}}},\"view\":{\"type\":\"object\",\"name\":\"CDSView\",\"id\":\"p4024\",\"attributes\":{\"filter\":{\"type\":\"object\",\"name\":\"AllIndices\",\"id\":\"p4025\"}}},\"glyph\":{\"type\":\"object\",\"name\":\"Segment\",\"id\":\"p4020\",\"attributes\":{\"x0\":{\"type\":\"field\",\"field\":\"x0\"},\"y0\":{\"type\":\"field\",\"field\":\"y0\"},\"x1\":{\"type\":\"field\",\"field\":\"x1\"},\"y1\":{\"type\":\"field\",\"field\":\"y1\"},\"line_color\":{\"type\":\"value\",\"value\":\"lightblue\"},\"line_width\":{\"type\":\"value\",\"value\":3}}},\"nonselection_glyph\":{\"type\":\"object\",\"name\":\"Segment\",\"id\":\"p4021\",\"attributes\":{\"x0\":{\"type\":\"field\",\"field\":\"x0\"},\"y0\":{\"type\":\"field\",\"field\":\"y0\"},\"x1\":{\"type\":\"field\",\"field\":\"x1\"},\"y1\":{\"type\":\"field\",\"field\":\"y1\"},\"line_color\":{\"type\":\"value\",\"value\":\"lightblue\"},\"line_alpha\":{\"type\":\"value\",\"value\":0.1},\"line_width\":{\"type\":\"value\",\"value\":3}}},\"muted_glyph\":{\"type\":\"object\",\"name\":\"Segment\",\"id\":\"p4022\",\"attributes\":{\"x0\":{\"type\":\"field\",\"field\":\"x0\"},\"y0\":{\"type\":\"field\",\"field\":\"y0\"},\"x1\":{\"type\":\"field\",\"field\":\"x1\"},\"y1\":{\"type\":\"field\",\"field\":\"y1\"},\"line_color\":{\"type\":\"value\",\"value\":\"lightblue\"},\"line_alpha\":{\"type\":\"value\",\"value\":0.2},\"line_width\":{\"type\":\"value\",\"value\":3}}}}},{\"type\":\"object\",\"name\":\"GlyphRenderer\",\"id\":\"p4032\",\"attributes\":{\"data_source\":{\"type\":\"object\",\"name\":\"ColumnDataSource\",\"id\":\"p4026\",\"attributes\":{\"selected\":{\"type\":\"object\",\"name\":\"Selection\",\"id\":\"p4027\",\"attributes\":{\"indices\":[],\"line_indices\":[]}},\"selection_policy\":{\"type\":\"object\",\"name\":\"UnionRenderers\",\"id\":\"p4028\"},\"data\":{\"type\":\"map\",\"entries\":[[\"x0\",[23.299999952316284]],[\"y0\",[0.0]],[\"x1\",[23.299999952316284]],[\"y1\",[449.98199999999997]]]}}},\"view\":{\"type\":\"object\",\"name\":\"CDSView\",\"id\":\"p4033\",\"attributes\":{\"filter\":{\"type\":\"object\",\"name\":\"AllIndices\",\"id\":\"p4034\"}}},\"glyph\":{\"type\":\"object\",\"name\":\"Segment\",\"id\":\"p4029\",\"attributes\":{\"x0\":{\"type\":\"field\",\"field\":\"x0\"},\"y0\":{\"type\":\"field\",\"field\":\"y0\"},\"x1\":{\"type\":\"field\",\"field\":\"x1\"},\"y1\":{\"type\":\"field\",\"field\":\"y1\"},\"line_color\":{\"type\":\"value\",\"value\":\"darkseagreen\"}}},\"nonselection_glyph\":{\"type\":\"object\",\"name\":\"Segment\",\"id\":\"p4030\",\"attributes\":{\"x0\":{\"type\":\"field\",\"field\":\"x0\"},\"y0\":{\"type\":\"field\",\"field\":\"y0\"},\"x1\":{\"type\":\"field\",\"field\":\"x1\"},\"y1\":{\"type\":\"field\",\"field\":\"y1\"},\"line_color\":{\"type\":\"value\",\"value\":\"darkseagreen\"},\"line_alpha\":{\"type\":\"value\",\"value\":0.1}}},\"muted_glyph\":{\"type\":\"object\",\"name\":\"Segment\",\"id\":\"p4031\",\"attributes\":{\"x0\":{\"type\":\"field\",\"field\":\"x0\"},\"y0\":{\"type\":\"field\",\"field\":\"y0\"},\"x1\":{\"type\":\"field\",\"field\":\"x1\"},\"y1\":{\"type\":\"field\",\"field\":\"y1\"},\"line_color\":{\"type\":\"value\",\"value\":\"darkseagreen\"},\"line_alpha\":{\"type\":\"value\",\"value\":0.2}}}}},{\"type\":\"object\",\"name\":\"GlyphRenderer\",\"id\":\"p4041\",\"attributes\":{\"data_source\":{\"type\":\"object\",\"name\":\"ColumnDataSource\",\"id\":\"p4035\",\"attributes\":{\"selected\":{\"type\":\"object\",\"name\":\"Selection\",\"id\":\"p4036\",\"attributes\":{\"indices\":[],\"line_indices\":[]}},\"selection_policy\":{\"type\":\"object\",\"name\":\"UnionRenderers\",\"id\":\"p4037\"},\"data\":{\"type\":\"map\",\"entries\":[[\"x0\",[20.299999952316284]],[\"y0\",[0.0]],[\"x1\",[20.299999952316284]],[\"y1\",[449.98199999999997]]]}}},\"view\":{\"type\":\"object\",\"name\":\"CDSView\",\"id\":\"p4042\",\"attributes\":{\"filter\":{\"type\":\"object\",\"name\":\"AllIndices\",\"id\":\"p4043\"}}},\"glyph\":{\"type\":\"object\",\"name\":\"Segment\",\"id\":\"p4038\",\"attributes\":{\"x0\":{\"type\":\"field\",\"field\":\"x0\"},\"y0\":{\"type\":\"field\",\"field\":\"y0\"},\"x1\":{\"type\":\"field\",\"field\":\"x1\"},\"y1\":{\"type\":\"field\",\"field\":\"y1\"},\"line_color\":{\"type\":\"value\",\"value\":\"darkseagreen\"}}},\"nonselection_glyph\":{\"type\":\"object\",\"name\":\"Segment\",\"id\":\"p4039\",\"attributes\":{\"x0\":{\"type\":\"field\",\"field\":\"x0\"},\"y0\":{\"type\":\"field\",\"field\":\"y0\"},\"x1\":{\"type\":\"field\",\"field\":\"x1\"},\"y1\":{\"type\":\"field\",\"field\":\"y1\"},\"line_color\":{\"type\":\"value\",\"value\":\"darkseagreen\"},\"line_alpha\":{\"type\":\"value\",\"value\":0.1}}},\"muted_glyph\":{\"type\":\"object\",\"name\":\"Segment\",\"id\":\"p4040\",\"attributes\":{\"x0\":{\"type\":\"field\",\"field\":\"x0\"},\"y0\":{\"type\":\"field\",\"field\":\"y0\"},\"x1\":{\"type\":\"field\",\"field\":\"x1\"},\"y1\":{\"type\":\"field\",\"field\":\"y1\"},\"line_color\":{\"type\":\"value\",\"value\":\"darkseagreen\"},\"line_alpha\":{\"type\":\"value\",\"value\":0.2}}}}},{\"type\":\"object\",\"name\":\"GlyphRenderer\",\"id\":\"p4050\",\"attributes\":{\"data_source\":{\"type\":\"object\",\"name\":\"ColumnDataSource\",\"id\":\"p4044\",\"attributes\":{\"selected\":{\"type\":\"object\",\"name\":\"Selection\",\"id\":\"p4045\",\"attributes\":{\"indices\":[],\"line_indices\":[]}},\"selection_policy\":{\"type\":\"object\",\"name\":\"UnionRenderers\",\"id\":\"p4046\"},\"data\":{\"type\":\"map\",\"entries\":[[\"x\",[21.799999952316284]],[\"y\",[449.98199999999997]],[\"size\",[20]]]}}},\"view\":{\"type\":\"object\",\"name\":\"CDSView\",\"id\":\"p4051\",\"attributes\":{\"filter\":{\"type\":\"object\",\"name\":\"AllIndices\",\"id\":\"p4052\"}}},\"glyph\":{\"type\":\"object\",\"name\":\"Scatter\",\"id\":\"p4047\",\"attributes\":{\"x\":{\"type\":\"field\",\"field\":\"x\"},\"y\":{\"type\":\"field\",\"field\":\"y\"},\"size\":{\"type\":\"field\",\"field\":\"size\"},\"line_color\":{\"type\":\"value\",\"value\":\"lightblue\"},\"line_width\":{\"type\":\"value\",\"value\":3},\"fill_color\":{\"type\":\"value\",\"value\":null},\"marker\":{\"type\":\"value\",\"value\":\"square_cross\"}}},\"nonselection_glyph\":{\"type\":\"object\",\"name\":\"Scatter\",\"id\":\"p4048\",\"attributes\":{\"x\":{\"type\":\"field\",\"field\":\"x\"},\"y\":{\"type\":\"field\",\"field\":\"y\"},\"size\":{\"type\":\"field\",\"field\":\"size\"},\"line_color\":{\"type\":\"value\",\"value\":\"lightblue\"},\"line_alpha\":{\"type\":\"value\",\"value\":0.1},\"line_width\":{\"type\":\"value\",\"value\":3},\"fill_color\":{\"type\":\"value\",\"value\":null},\"fill_alpha\":{\"type\":\"value\",\"value\":0.1},\"hatch_alpha\":{\"type\":\"value\",\"value\":0.1},\"marker\":{\"type\":\"value\",\"value\":\"square_cross\"}}},\"muted_glyph\":{\"type\":\"object\",\"name\":\"Scatter\",\"id\":\"p4049\",\"attributes\":{\"x\":{\"type\":\"field\",\"field\":\"x\"},\"y\":{\"type\":\"field\",\"field\":\"y\"},\"size\":{\"type\":\"field\",\"field\":\"size\"},\"line_color\":{\"type\":\"value\",\"value\":\"lightblue\"},\"line_alpha\":{\"type\":\"value\",\"value\":0.2},\"line_width\":{\"type\":\"value\",\"value\":3},\"fill_color\":{\"type\":\"value\",\"value\":null},\"fill_alpha\":{\"type\":\"value\",\"value\":0.2},\"hatch_alpha\":{\"type\":\"value\",\"value\":0.2},\"marker\":{\"type\":\"value\",\"value\":\"square_cross\"}}}}}],\"toolbar\":{\"type\":\"object\",\"name\":\"Toolbar\",\"id\":\"p3939\",\"attributes\":{\"tools\":[{\"type\":\"object\",\"name\":\"PanTool\",\"id\":\"p3954\"},{\"type\":\"object\",\"name\":\"WheelZoomTool\",\"id\":\"p3955\",\"attributes\":{\"renderers\":\"auto\"}},{\"type\":\"object\",\"name\":\"BoxZoomTool\",\"id\":\"p3956\",\"attributes\":{\"overlay\":{\"type\":\"object\",\"name\":\"BoxAnnotation\",\"id\":\"p3957\",\"attributes\":{\"syncable\":false,\"level\":\"overlay\",\"visible\":false,\"left\":{\"type\":\"number\",\"value\":\"nan\"},\"right\":{\"type\":\"number\",\"value\":\"nan\"},\"top\":{\"type\":\"number\",\"value\":\"nan\"},\"bottom\":{\"type\":\"number\",\"value\":\"nan\"},\"left_units\":\"canvas\",\"right_units\":\"canvas\",\"top_units\":\"canvas\",\"bottom_units\":\"canvas\",\"line_color\":\"black\",\"line_alpha\":1.0,\"line_width\":2,\"line_dash\":[4,4],\"fill_color\":\"lightgrey\",\"fill_alpha\":0.5}}}},{\"type\":\"object\",\"name\":\"SaveTool\",\"id\":\"p3962\"},{\"type\":\"object\",\"name\":\"ResetTool\",\"id\":\"p3963\"},{\"type\":\"object\",\"name\":\"HelpTool\",\"id\":\"p3964\"},{\"type\":\"object\",\"name\":\"HoverTool\",\"id\":\"p3996\",\"attributes\":{\"renderers\":\"auto\",\"tooltips\":[[\"Y-val\",\"@y{0.00}\"]]}}]}},\"left\":[{\"type\":\"object\",\"name\":\"LinearAxis\",\"id\":\"p3949\",\"attributes\":{\"ticker\":{\"type\":\"object\",\"name\":\"BasicTicker\",\"id\":\"p3950\",\"attributes\":{\"mantissas\":[1,2,5]}},\"formatter\":{\"type\":\"object\",\"name\":\"BasicTickFormatter\",\"id\":\"p3951\"},\"axis_label\":\"km/h\",\"axis_label_standoff\":10,\"axis_label_text_color\":\"#E0E0E0\",\"axis_label_text_font\":\"Helvetica\",\"axis_label_text_font_size\":\"1.25em\",\"axis_label_text_font_style\":\"normal\",\"major_label_policy\":{\"type\":\"object\",\"name\":\"AllLabels\",\"id\":\"p3952\"},\"major_label_text_color\":\"#E0E0E0\",\"major_label_text_font\":\"Helvetica\",\"major_label_text_font_size\":\"1.025em\",\"axis_line_color\":\"#E0E0E0\",\"axis_line_alpha\":0,\"major_tick_line_color\":\"#E0E0E0\",\"major_tick_line_alpha\":0,\"minor_tick_line_color\":\"#E0E0E0\",\"minor_tick_line_alpha\":0}},{\"type\":\"object\",\"name\":\"LinearAxis\",\"id\":\"p3967\",\"attributes\":{\"y_range_name\":\"altitudeFt\",\"ticker\":{\"type\":\"object\",\"name\":\"BasicTicker\",\"id\":\"p3968\",\"attributes\":{\"mantissas\":[1,2,5]}},\"formatter\":{\"type\":\"object\",\"name\":\"BasicTickFormatter\",\"id\":\"p3969\"},\"axis_label\":\"Alt (ft)\",\"axis_label_standoff\":10,\"axis_label_text_color\":\"#E0E0E0\",\"axis_label_text_font\":\"Helvetica\",\"axis_label_text_font_size\":\"1.25em\",\"axis_label_text_font_style\":\"normal\",\"major_label_policy\":{\"type\":\"object\",\"name\":\"AllLabels\",\"id\":\"p3970\"},\"major_label_text_color\":\"#E0E0E0\",\"major_label_text_font\":\"Helvetica\",\"major_label_text_font_size\":\"1.025em\",\"axis_line_color\":\"#E0E0E0\",\"axis_line_alpha\":0,\"major_tick_line_color\":\"#E0E0E0\",\"major_tick_line_alpha\":0,\"minor_tick_line_color\":\"#E0E0E0\",\"minor_tick_line_alpha\":0}},{\"type\":\"object\",\"name\":\"LinearAxis\",\"id\":\"p3971\",\"attributes\":{\"y_range_name\":\"angle\",\"ticker\":{\"type\":\"object\",\"name\":\"BasicTicker\",\"id\":\"p3972\",\"attributes\":{\"mantissas\":[1,2,5]}},\"formatter\":{\"type\":\"object\",\"name\":\"BasicTickFormatter\",\"id\":\"p3973\"},\"axis_label\":\"angle\",\"axis_label_standoff\":10,\"axis_label_text_color\":\"#E0E0E0\",\"axis_label_text_font\":\"Helvetica\",\"axis_label_text_font_size\":\"1.25em\",\"axis_label_text_font_style\":\"normal\",\"major_label_policy\":{\"type\":\"object\",\"name\":\"AllLabels\",\"id\":\"p3974\"},\"major_label_text_color\":\"#E0E0E0\",\"major_label_text_font\":\"Helvetica\",\"major_label_text_font_size\":\"1.025em\",\"axis_line_color\":\"#E0E0E0\",\"axis_line_alpha\":0,\"major_tick_line_color\":\"#E0E0E0\",\"major_tick_line_alpha\":0,\"minor_tick_line_color\":\"#E0E0E0\",\"minor_tick_line_alpha\":0}}],\"below\":[{\"type\":\"object\",\"name\":\"LinearAxis\",\"id\":\"p3944\",\"attributes\":{\"ticker\":{\"type\":\"object\",\"name\":\"BasicTicker\",\"id\":\"p3945\",\"attributes\":{\"mantissas\":[1,2,5]}},\"formatter\":{\"type\":\"object\",\"name\":\"BasicTickFormatter\",\"id\":\"p3946\"},\"axis_label\":\"seconds from exit\",\"axis_label_standoff\":10,\"axis_label_text_color\":\"#E0E0E0\",\"axis_label_text_font\":\"Helvetica\",\"axis_label_text_font_size\":\"1.25em\",\"axis_label_text_font_style\":\"normal\",\"major_label_policy\":{\"type\":\"object\",\"name\":\"AllLabels\",\"id\":\"p3947\"},\"major_label_text_color\":\"#E0E0E0\",\"major_label_text_font\":\"Helvetica\",\"major_label_text_font_size\":\"1.025em\",\"axis_line_color\":\"#E0E0E0\",\"axis_line_alpha\":0,\"major_tick_line_color\":\"#E0E0E0\",\"major_tick_line_alpha\":0,\"minor_tick_line_color\":\"#E0E0E0\",\"minor_tick_line_alpha\":0}}],\"center\":[{\"type\":\"object\",\"name\":\"Grid\",\"id\":\"p3948\",\"attributes\":{\"axis\":{\"id\":\"p3944\"},\"grid_line_color\":\"#E0E0E0\",\"grid_line_alpha\":0.25}},{\"type\":\"object\",\"name\":\"Grid\",\"id\":\"p3953\",\"attributes\":{\"dimension\":1,\"axis\":{\"id\":\"p3949\"},\"grid_line_color\":\"#E0E0E0\",\"grid_line_alpha\":0.25}},{\"type\":\"object\",\"name\":\"Legend\",\"id\":\"p3984\",\"attributes\":{\"border_line_alpha\":0,\"background_fill_color\":\"#20262B\",\"background_fill_alpha\":0.25,\"label_text_color\":\"#E0E0E0\",\"label_text_font\":\"Helvetica\",\"label_text_font_size\":\"1.025em\",\"label_standoff\":8,\"glyph_width\":15,\"spacing\":8,\"items\":[{\"type\":\"object\",\"name\":\"LegendItem\",\"id\":\"p3985\",\"attributes\":{\"label\":{\"type\":\"value\",\"value\":\"Alt (ft)\"},\"renderers\":[{\"id\":\"p3981\"}]}},{\"type\":\"object\",\"name\":\"LegendItem\",\"id\":\"p3995\",\"attributes\":{\"label\":{\"type\":\"value\",\"value\":\"angle\"},\"renderers\":[{\"id\":\"p3992\"}]}},{\"type\":\"object\",\"name\":\"LegendItem\",\"id\":\"p4006\",\"attributes\":{\"label\":{\"type\":\"value\",\"value\":\"speed\"},\"renderers\":[{\"id\":\"p4003\"}]}},{\"type\":\"object\",\"name\":\"LegendItem\",\"id\":\"p4016\",\"attributes\":{\"label\":{\"type\":\"value\",\"value\":\"H-speed\"},\"renderers\":[{\"id\":\"p4013\"}]}}]}}],\"background_fill_color\":\"#20262B\",\"border_fill_color\":\"#15191C\"}}]}};\n",
       "  const render_items = [{\"docid\":\"72530045-47df-4ce2-995b-cdf80f278473\",\"roots\":{\"p3930\":\"c71248c1-97da-462e-b020-705d017a4235\"},\"root_ids\":[\"p3930\"]}];\n",
       "  void root.Bokeh.embed.embed_items_notebook(docs_json, render_items);\n",
       "  }\n",
       "  if (root.Bokeh !== undefined) {\n",
       "    embed_document(root);\n",
       "  } else {\n",
       "    let attempts = 0;\n",
       "    const timer = setInterval(function(root) {\n",
       "      if (root.Bokeh !== undefined) {\n",
       "        clearInterval(timer);\n",
       "        embed_document(root);\n",
       "      } else {\n",
       "        attempts++;\n",
       "        if (attempts > 100) {\n",
       "          clearInterval(timer);\n",
       "          console.log(\"Bokeh: ERROR: Unable to run BokehJS code because BokehJS library is missing\");\n",
       "        }\n",
       "      }\n",
       "    }, 10, root)\n",
       "  }\n",
       "})(window);"
      ],
      "application/vnd.bokehjs_exec.v0+json": ""
     },
     "metadata": {
      "application/vnd.bokehjs_exec.v0+json": {
       "id": "p3930"
      }
     },
     "output_type": "display_data"
    },
    {
     "data": {
      "application/vnd.jupyter.widget-view+json": {
       "model_id": "5b4a2ed4a5d9454ca93ea614534e86d2",
       "version_major": 2,
       "version_minor": 0
      },
      "text/plain": [
       "HTML(value='<hr><h1><span style=\"color: #0f0\">10-58-08 jump - 🟢 valid - score = 454.01 km/h</span></h1>')"
      ]
     },
     "metadata": {},
     "output_type": "display_data"
    },
    {
     "data": {
      "application/vnd.jupyter.widget-view+json": {
       "model_id": "06ba8ac2a47c4a4fb71f6612c89ac38b",
       "version_major": 2,
       "version_minor": 0
      },
      "text/plain": [
       "HTML(value='<h3>Max speed = 457; exit at 4084 m (13400 ft), end scoring window at 1828 m (5998 ft)')"
      ]
     },
     "metadata": {},
     "output_type": "display_data"
    },
    {
     "data": {
      "application/vnd.jupyter.widget-view+json": {
       "model_id": "36489d12a18c48da88488cd2b37703f8",
       "version_major": 2,
       "version_minor": 0
      },
      "text/plain": [
       "HTML(value='</h3>')"
      ]
     },
     "metadata": {},
     "output_type": "display_data"
    },
    {
     "data": {
      "text/html": [
       "<div>\n",
       "<style scoped>\n",
       "    .dataframe tbody tr th:only-of-type {\n",
       "        vertical-align: middle;\n",
       "    }\n",
       "\n",
       "    .dataframe tbody tr th {\n",
       "        vertical-align: top;\n",
       "    }\n",
       "\n",
       "    .dataframe thead th {\n",
       "        text-align: right;\n",
       "    }\n",
       "</style>\n",
       "<table border=\"1\" class=\"dataframe\">\n",
       "  <thead>\n",
       "    <tr style=\"text-align: right;\">\n",
       "      <th></th>\n",
       "      <th>time</th>\n",
       "      <th>vKMh</th>\n",
       "      <th>hKMh</th>\n",
       "      <th>speedAngle</th>\n",
       "      <th>netVectorKMh</th>\n",
       "      <th>altitude (ft)</th>\n",
       "    </tr>\n",
       "  </thead>\n",
       "  <tbody>\n",
       "    <tr>\n",
       "      <th></th>\n",
       "      <td>5.0</td>\n",
       "      <td>179</td>\n",
       "      <td>138</td>\n",
       "      <td>52.2</td>\n",
       "      <td>226</td>\n",
       "      <td>12965</td>\n",
       "    </tr>\n",
       "    <tr>\n",
       "      <th></th>\n",
       "      <td>10.0</td>\n",
       "      <td>311</td>\n",
       "      <td>109</td>\n",
       "      <td>70.7</td>\n",
       "      <td>329</td>\n",
       "      <td>11819</td>\n",
       "    </tr>\n",
       "    <tr>\n",
       "      <th></th>\n",
       "      <td>15.0</td>\n",
       "      <td>398</td>\n",
       "      <td>85</td>\n",
       "      <td>78.0</td>\n",
       "      <td>407</td>\n",
       "      <td>10179</td>\n",
       "    </tr>\n",
       "    <tr>\n",
       "      <th></th>\n",
       "      <td>20.0</td>\n",
       "      <td>444</td>\n",
       "      <td>70</td>\n",
       "      <td>81.0</td>\n",
       "      <td>449</td>\n",
       "      <td>8201</td>\n",
       "    </tr>\n",
       "    <tr>\n",
       "      <th></th>\n",
       "      <td>25.0</td>\n",
       "      <td>452</td>\n",
       "      <td>46</td>\n",
       "      <td>84.2</td>\n",
       "      <td>455</td>\n",
       "      <td>6132</td>\n",
       "    </tr>\n",
       "  </tbody>\n",
       "</table>\n",
       "</div>"
      ],
      "text/plain": [
       "  time  vKMh  hKMh  speedAngle  netVectorKMh  altitude (ft)\n",
       "   5.0   179   138        52.2           226          12965\n",
       "  10.0   311   109        70.7           329          11819\n",
       "  15.0   398    85        78.0           407          10179\n",
       "  20.0   444    70        81.0           449           8201\n",
       "  25.0   452    46        84.2           455           6132"
      ]
     },
     "metadata": {},
     "output_type": "display_data"
    },
    {
     "data": {
      "text/html": [
       "\n",
       "  <div id=\"ac70f792-499e-45c6-a144-26be4f4f7890\" data-root-id=\"p4071\" style=\"display: contents;\"></div>\n"
      ]
     },
     "metadata": {},
     "output_type": "display_data"
    },
    {
     "data": {
      "application/javascript": [
       "(function(root) {\n",
       "  function embed_document(root) {\n",
       "  const docs_json = {\"0610cb05-0655-4801-b590-f6cbff306b91\":{\"version\":\"3.4.1\",\"title\":\"Bokeh Application\",\"roots\":[{\"type\":\"object\",\"name\":\"Figure\",\"id\":\"p4071\",\"attributes\":{\"width\":900,\"height\":500,\"x_range\":{\"type\":\"object\",\"name\":\"Range1d\",\"id\":\"p4081\",\"attributes\":{\"end\":35.0}},\"y_range\":{\"type\":\"object\",\"name\":\"Range1d\",\"id\":\"p4082\",\"attributes\":{\"end\":550.0}},\"x_scale\":{\"type\":\"object\",\"name\":\"LinearScale\",\"id\":\"p4083\"},\"y_scale\":{\"type\":\"object\",\"name\":\"LinearScale\",\"id\":\"p4084\"},\"extra_y_ranges\":{\"type\":\"map\",\"entries\":[[\"altitudeFt\",{\"type\":\"object\",\"name\":\"Range1d\",\"id\":\"p4106\",\"attributes\":{\"start\":5508.455528,\"end\":13903.231092}}],[\"angle\",{\"type\":\"object\",\"name\":\"Range1d\",\"id\":\"p4107\",\"attributes\":{\"end\":90.0}}]]},\"title\":{\"type\":\"object\",\"name\":\"Title\",\"id\":\"p4074\",\"attributes\":{\"text\":\"10-58-08\",\"text_color\":\"#E0E0E0\",\"text_font\":\"Helvetica\",\"text_font_size\":\"1.15em\"}},\"outline_line_color\":\"#E0E0E0\",\"outline_line_alpha\":0.25,\"renderers\":[{\"type\":\"object\",\"name\":\"GlyphRenderer\",\"id\":\"p4122\",\"attributes\":{\"y_range_name\":\"altitudeFt\",\"data_source\":{\"type\":\"object\",\"name\":\"ColumnDataSource\",\"id\":\"p4116\",\"attributes\":{\"selected\":{\"type\":\"object\",\"name\":\"Selection\",\"id\":\"p4117\",\"attributes\":{\"indices\":[],\"line_indices\":[]}},\"selection_policy\":{\"type\":\"object\",\"name\":\"UnionRenderers\",\"id\":\"p4118\"},\"data\":{\"type\":\"map\",\"entries\":[[\"x\",{\"type\":\"ndarray\",\"array\":{\"type\":\"bytes\",\"data\":\"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\"},\"shape\":[211],\"dtype\":\"float64\",\"order\":\"little\"}],[\"y\",{\"type\":\"ndarray\",\"array\":{\"type\":\"bytes\",\"data\":\"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\"},\"shape\":[211],\"dtype\":\"float64\",\"order\":\"little\"}]]}}},\"view\":{\"type\":\"object\",\"name\":\"CDSView\",\"id\":\"p4123\",\"attributes\":{\"filter\":{\"type\":\"object\",\"name\":\"AllIndices\",\"id\":\"p4124\"}}},\"glyph\":{\"type\":\"object\",\"name\":\"Line\",\"id\":\"p4119\",\"attributes\":{\"x\":{\"type\":\"field\",\"field\":\"x\"},\"y\":{\"type\":\"field\",\"field\":\"y\"},\"line_color\":\"palegoldenrod\",\"line_width\":2}},\"nonselection_glyph\":{\"type\":\"object\",\"name\":\"Line\",\"id\":\"p4120\",\"attributes\":{\"x\":{\"type\":\"field\",\"field\":\"x\"},\"y\":{\"type\":\"field\",\"field\":\"y\"},\"line_color\":\"palegoldenrod\",\"line_alpha\":0.1,\"line_width\":2}},\"muted_glyph\":{\"type\":\"object\",\"name\":\"Line\",\"id\":\"p4121\",\"attributes\":{\"x\":{\"type\":\"field\",\"field\":\"x\"},\"y\":{\"type\":\"field\",\"field\":\"y\"},\"line_color\":\"palegoldenrod\",\"line_alpha\":0.2,\"line_width\":2}}}},{\"type\":\"object\",\"name\":\"GlyphRenderer\",\"id\":\"p4133\",\"attributes\":{\"y_range_name\":\"angle\",\"data_source\":{\"type\":\"object\",\"name\":\"ColumnDataSource\",\"id\":\"p4127\",\"attributes\":{\"selected\":{\"type\":\"object\",\"name\":\"Selection\",\"id\":\"p4128\",\"attributes\":{\"indices\":[],\"line_indices\":[]}},\"selection_policy\":{\"type\":\"object\",\"name\":\"UnionRenderers\",\"id\":\"p4129\"},\"data\":{\"type\":\"map\",\"entries\":[[\"x\",{\"type\":\"ndarray\",\"array\":{\"type\":\"bytes\",\"data\":\"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\"},\"shape\":[211],\"dtype\":\"float64\",\"order\":\"little\"}],[\"y\",{\"type\":\"ndarray\",\"array\":{\"type\":\"bytes\",\"data\":\"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\"},\"shape\":[211],\"dtype\":\"float64\",\"order\":\"little\"}]]}}},\"view\":{\"type\":\"object\",\"name\":\"CDSView\",\"id\":\"p4134\",\"attributes\":{\"filter\":{\"type\":\"object\",\"name\":\"AllIndices\",\"id\":\"p4135\"}}},\"glyph\":{\"type\":\"object\",\"name\":\"Line\",\"id\":\"p4130\",\"attributes\":{\"x\":{\"type\":\"field\",\"field\":\"x\"},\"y\":{\"type\":\"field\",\"field\":\"y\"},\"line_color\":\"deepskyblue\",\"line_width\":2}},\"nonselection_glyph\":{\"type\":\"object\",\"name\":\"Line\",\"id\":\"p4131\",\"attributes\":{\"x\":{\"type\":\"field\",\"field\":\"x\"},\"y\":{\"type\":\"field\",\"field\":\"y\"},\"line_color\":\"deepskyblue\",\"line_alpha\":0.1,\"line_width\":2}},\"muted_glyph\":{\"type\":\"object\",\"name\":\"Line\",\"id\":\"p4132\",\"attributes\":{\"x\":{\"type\":\"field\",\"field\":\"x\"},\"y\":{\"type\":\"field\",\"field\":\"y\"},\"line_color\":\"deepskyblue\",\"line_alpha\":0.2,\"line_width\":2}}}},{\"type\":\"object\",\"name\":\"GlyphRenderer\",\"id\":\"p4144\",\"attributes\":{\"data_source\":{\"type\":\"object\",\"name\":\"ColumnDataSource\",\"id\":\"p4138\",\"attributes\":{\"selected\":{\"type\":\"object\",\"name\":\"Selection\",\"id\":\"p4139\",\"attributes\":{\"indices\":[],\"line_indices\":[]}},\"selection_policy\":{\"type\":\"object\",\"name\":\"UnionRenderers\",\"id\":\"p4140\"},\"data\":{\"type\":\"map\",\"entries\":[[\"x\",{\"type\":\"ndarray\",\"array\":{\"type\":\"bytes\",\"data\":\"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\"},\"shape\":[211],\"dtype\":\"float64\",\"order\":\"little\"}],[\"y\",{\"type\":\"ndarray\",\"array\":{\"type\":\"bytes\",\"data\":\"0SLb+X5qIEDHSzeJQWAkQOSlm8QgsCdAhetRuB6FLUDfT42XbhIyQAwCK4cWWTVAtvP91HjpOEC5HoXrUbg7QE9iEFg5ND5AFK5H4XrUQEBOYhBYOfRCQHWTGARWjkRAppvEILCyRkBSuB6F65FIQMuhRbbz/UlAqMZLN4nBS0C28/3UeGlNQLx0kxgEFk9AyXa+nxpvUEAw3SQGgVVRQH0/NV66SVJA001iEFg5U0AhsHJokS1UQGq8dJMYJFVAsHJoke0cVkBI4XoUrudWQA4tsp3vJ1hAMzMzMzMzWUCiRbbz/RRaQAAAAAAAAFtAPgrXo3D9W0DGILByaNFcQEnhehSup11Avp8aL92EXkCDwMqhRTZfQCPb+X5q/F9Av58aL910YEDZzvdT4/VgQClcj8L1WGFAeekmMQi8YUDByqFFtiNiQP7UeOkmkWJAMzMzMzMDY0CF61G4HmVjQNnO91PjxWNA/tR46SZBZEA5tMh2vq9kQHnpJjEIHGVAzczMzMx8ZUAIrBxaZOtlQFXjpZvEUGZAnMQgsHK4ZkDfT42XbiJnQIPAyqFF5mdASgwCK4eWaEDy0k1iEFhpQESLbOf7uWlAnMQgsHIYakDkpZvEIIBqQEJg5dAi22pA1XjpJjGoa0Aw3SQGgQVsQKAaL90kVmxA8tJNYhC4bEBRuB6F6xFtQKnGSzeJcW1ABVYOLbLNbUBnZmZmZiZuQOSlm8QgcG5A/9R46SaBb0CDwMqhRcZvQLTIdr6fMnBA8tJNYhBYcEAtsp3vp35wQF66SQwCq3BAl24Sg8DScECLbOf7qSFxQNV46SYxQHFAEVg5tMhmcUBI4XoUro9xQAvXo3A9snFASOF6FK7XcUCDwMqhRf5xQGmR7Xw/VXJALbKd76d2ckBkO99PjZ9yQAwCK4cW0XJAH4XrUbgOc0DZzvdT4zVzQPhT46WbbHNAy6FFtvOFc0AX2c73U6NzQGQ730+Nv3NAppvEILDic0C7SQwCKx90QIgW2c73O3RAWDm0yHZWdECOl24Sg4B0QJQYBFYOxXRAW2Q730/ldEAhsHJokQV1QOomMQisJHVArBxaZDtHdUAtsp3vp451QI6XbhKDoHVAJzEIrBzadUB3vp8aL/V1QFg5tMh2BnZAmpmZmZkpdkC5HoXrUWB2QAvXo3A9enZAwcqhRbajdkAj2/l+arR2QN4kBoGV23ZA+FPjpZsUd0DZzvdT4yV3QBKDwMqhTXdA5tAi2/lmd0CR7Xw/NZZ3QN9PjZdusndAg8DKoUXmd0BV46WbxAB4QP7UeOkmMXhASgwCK4dOeED4U+Olm3x4QFK4HoXrkXhABFYOLbK9eEDeJAaBldN4QLtJDAIr53hAne+nxkv3eEDeJAaBlRt5QML1KFyPKnlAH4XrUbg+eUD0/dR46VZ5QFCNl24Sa3lADi2yne+PeUBh5dAi26l5QKAaL90kznlA8tJNYhDoeUBFtvP91AB6QCcxCKwcEnpAg8DKoUUmekDhehSuRzl6QFg5tMh2PnpAYeXQIts5ekBWDi2ynT96QE5iEFg5RHpArkfhehRWekAGgZVDi2x6QMuhRbbzjXpAsHJoke2cekAdWmQ736d6QAAAAAAAuHpA+FPjpZu8ekA5tMh2vt96QCGwcmiR7XpAiUFg5dD6ekDm0CLb+Q57QM3MzMzMHHtAMzMzMzMre0AX2c73Uzt7QN9PjZduWntARbbz/dRoe0ASg8DKoYV7QAIrhxbZjntA7nw/NV6ae0DRItv5fqp7QNEi2/l+qntAs53vp8a7e0AnMQisHMJ7QAIrhxbZ1ntA5/up8dLle0A830+Nl/57QJqZmZmZEXxAAAAAAAAgfEB9PzVeuiF8QHe+nxovJXxAEoPAyqEVfEBjEFg5tDB8QE5iEFg5PHxAGi/dJAZZfEB/arx0k2h8QA4tsp3vX3xAGi/dJAZZfEAUrkfhelx8QGq8dJMYdHxAYeXQItt5fEDVeOkmMYB8QOF6FK5HeXxA2KNwPQp/fEBMN4lBYIV8QEoMAiuHhnxARIts5/uJfEDP91PjpYN8QOF6FK5HeXxA9P3UeOlufED6fmq8dGt8QObQItv5dnxAexSuR+FqfED0/dR46W58QGdmZmZmdnxAZ2ZmZmZ2fED0/dR46W58QPYoXI/CbXxAgZVDi2xnfEAdWmQ731d8QDDdJAaBTXxAv58aL91EfEBI4XoUrj98QEJg5dAiQ3xASOF6FK4/fEA=\"},\"shape\":[211],\"dtype\":\"float64\",\"order\":\"little\"}]]}}},\"view\":{\"type\":\"object\",\"name\":\"CDSView\",\"id\":\"p4145\",\"attributes\":{\"filter\":{\"type\":\"object\",\"name\":\"AllIndices\",\"id\":\"p4146\"}}},\"glyph\":{\"type\":\"object\",\"name\":\"Line\",\"id\":\"p4141\",\"attributes\":{\"x\":{\"type\":\"field\",\"field\":\"x\"},\"y\":{\"type\":\"field\",\"field\":\"y\"},\"line_color\":\"limegreen\",\"line_width\":2}},\"nonselection_glyph\":{\"type\":\"object\",\"name\":\"Line\",\"id\":\"p4142\",\"attributes\":{\"x\":{\"type\":\"field\",\"field\":\"x\"},\"y\":{\"type\":\"field\",\"field\":\"y\"},\"line_color\":\"limegreen\",\"line_alpha\":0.1,\"line_width\":2}},\"muted_glyph\":{\"type\":\"object\",\"name\":\"Line\",\"id\":\"p4143\",\"attributes\":{\"x\":{\"type\":\"field\",\"field\":\"x\"},\"y\":{\"type\":\"field\",\"field\":\"y\"},\"line_color\":\"limegreen\",\"line_alpha\":0.2,\"line_width\":2}}}},{\"type\":\"object\",\"name\":\"GlyphRenderer\",\"id\":\"p4154\",\"attributes\":{\"data_source\":{\"type\":\"object\",\"name\":\"ColumnDataSource\",\"id\":\"p4148\",\"attributes\":{\"selected\":{\"type\":\"object\",\"name\":\"Selection\",\"id\":\"p4149\",\"attributes\":{\"indices\":[],\"line_indices\":[]}},\"selection_policy\":{\"type\":\"object\",\"name\":\"UnionRenderers\",\"id\":\"p4150\"},\"data\":{\"type\":\"map\",\"entries\":[[\"x\",{\"type\":\"ndarray\",\"array\":{\"type\":\"bytes\",\"data\":\"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\"},\"shape\":[211],\"dtype\":\"float64\",\"order\":\"little\"}],[\"y\",{\"type\":\"ndarray\",\"array\":{\"type\":\"bytes\",\"data\":\"vNbTsan3ZkC/vh8j17tmQDQA6dHYT2ZAtgcJEi1QZkBXGtYJXyJmQMfiOB5DxWVAx+vzWZPYZUA1nbBJxdJlQKyVW2kio2VAiPAlTZ6TZUDFNd7KqlplQGemX4jVWGVAZs1YbuNCZUDlEd0Q4yJlQHuO4h3TGWVAqqhXGxoQZUAs4DoGKP1kQIfK0C9i5WRAF3cymHzGZEAPG5cxGaVkQGzlLfQuj2RAWkSw1dlcZEAuJgJMtT5kQM1U6mGxF2RAxyPNMfICZEBxYq7q3OBjQPhFREiOwWNA5b49vmaeY0ABNj1qa35jQKdXTQ8zWGNAonDoVi9LY0AvUhpKwjNjQNdfwjXcGmNAzG1l9aYHY0DA9jSUGvxiQKDcVHjxyWJAmCQUtf68YkDpCRaV8ppiQHBM5/RofmJAqMkzQMpjYkAN6YFyk0tiQNdPQ3KMK2JAJ7Tz8b8OYkDGfoKD4PhhQEpqJXb932FAfd38WYa8YUCiI0UjkqdhQKoCCxZCmWFAGbE8pt16YUBIczeJ+2VhQP/I14n6TWFA8JJiL5YyYUBmZazyKCNhQBdIS4+Y8GBAyUezGeqyYEDfD2Ufb45gQDlxz+xMbmBA0c9tFQ1ZYEA5cgFCQ0JgQO0ccGBLPmBAZhElLv0GYEByDwalfABgQNsFKso3wV9Aalc68BeVX0COEqzlwnlfQPjO6ekFTF9A/8heM04OX0AvLG1EtAhfQHP5a+Pq0F5AlR5Fi7WGXkA3trsWrlleQIGUlEwDEF5AEf9g3DQHXkBiuWDHM/xdQJJL3w1Ot11AiF0tru6xXUBI4ZA4N5pdQF6KLfI6iV1AqhV0UDpxXUD8i3iZmEtdQPUPCiPKGF1AxkQ7c18GXUC1HdUOJdVcQOsvlmNAd1xAJce/99VGXEBcrFAOuTNcQInRcObZE1xA5+fHTzmjW0Aci1vDH3pbQCyy3yjSNltALXn8iMLwWkAHm/CvOe9aQKzQ+eNDuFpA+ExipBeIWkBS47Hs+C5aQLok7UJeKFpA9fgcbqPrWUDVTrFXztNZQDRC1il3aVlA9+SLt6V7WUDm6mIIQlBZQH8NPX1TQllAJhZqt2z7WECOII04hbpYQP098yEKylhAehou091GWEDYC7Wz+DhYQKhtbzvY9FdAa3nG7TWJV0Ck6uRCj2BXQHylsga3N1dA6nBY1bgjV0CQnmaxs/RWQEWCn6XQsVZA35gbLX9mVkAqMbGyqVlWQPPWfcoURVZALMl9Wn9QVkBin40Gj+lVQLTQR3MA6VVALrq6XVeZVUAGwnV4kIJVQCG3gWjCWlVAtTE40cQuVUByLG4qRmFVQM6j3aJzMlVAoinBNBItVUDSQzjAIi1VQDiYrSZZOlVAm/9Ed99WVUDt0nVSXTtVQLZmAIKrSlVARkH3pj/qVEDx0asVi95UQGfNrAPgolRAfDzABT17VECVQCmm+lxUQOSHhVrdXlRAlHRTOsv6U0A5x+HvNeZTQPPaXaTtzFNADmykpH2nU0A8duyK9F5TQKvOzW9eQlNAhFNUyRIjU0BbEFOOAPtSQNppjlcY/FJA6u/L9DzRUkCbheIKPpRSQI3MNrLga1JAzFAAiwtnUkChRk0gLztSQNK89xmZJ1JAEzrckr0VUkCjxbHWIcRRQC1TfNdLwVFAZQq46H+TUUAvdc1eTohRQAJZFICHhFFANBdXrGhWUUCEzq4NzkpRQCLSbaiORlFAvP3sgpIvUUBJIIQNqAhRQInKNyerElFA9obf0t36UEBNmIMVzUJRQJd3ZGraVFFAGPLtDYKBUUDIEvNTs5RRQDcTfuaYTFFA/8t4W48nUUB5eTTAzaRQQNrOuXGgT1BAcoLdtiSGT0DBtU9UOnBPQP4rhfgQHU9A48LtcHSOT0C3tGHzP4pOQBYkfRjTI05Aby9EfCBTTEC4Tm82E+pLQArwyopNyUtAnZY+fRvvTEBuL2M31xlNQE78/TVha0xAF1tITnL4S0CLlBs3Rs5LQMGScIbUh0tARJ1XN3RMS0DCScdg9SJLQKjXF6f8NUtAFM6BsSTFSkC0Q4YLkZBKQP6pe0nBrkpAm0V45KruSkBfJ4JzjTVLQBWDHY97nkpA3qK1sOyNSkAV4Uk5xCdKQLMWg7ZtL0lA9LMwTDTJSECvMt9wPi1IQJs8WCeAw0ZAfLGWK2eRRkCnLFch15FGQBVRgNVh6kZALOMxEWQaR0BOE9cyHqJGQNukhbODQkZAI4O0+7xPRkA=\"},\"shape\":[211],\"dtype\":\"float64\",\"order\":\"little\"}]]}}},\"view\":{\"type\":\"object\",\"name\":\"CDSView\",\"id\":\"p4155\",\"attributes\":{\"filter\":{\"type\":\"object\",\"name\":\"AllIndices\",\"id\":\"p4156\"}}},\"glyph\":{\"type\":\"object\",\"name\":\"Line\",\"id\":\"p4151\",\"attributes\":{\"x\":{\"type\":\"field\",\"field\":\"x\"},\"y\":{\"type\":\"field\",\"field\":\"y\"},\"line_color\":\"red\",\"line_width\":2}},\"nonselection_glyph\":{\"type\":\"object\",\"name\":\"Line\",\"id\":\"p4152\",\"attributes\":{\"x\":{\"type\":\"field\",\"field\":\"x\"},\"y\":{\"type\":\"field\",\"field\":\"y\"},\"line_color\":\"red\",\"line_alpha\":0.1,\"line_width\":2}},\"muted_glyph\":{\"type\":\"object\",\"name\":\"Line\",\"id\":\"p4153\",\"attributes\":{\"x\":{\"type\":\"field\",\"field\":\"x\"},\"y\":{\"type\":\"field\",\"field\":\"y\"},\"line_color\":\"red\",\"line_alpha\":0.2,\"line_width\":2}}}},{\"type\":\"object\",\"name\":\"GlyphRenderer\",\"id\":\"p4164\",\"attributes\":{\"data_source\":{\"type\":\"object\",\"name\":\"ColumnDataSource\",\"id\":\"p4158\",\"attributes\":{\"selected\":{\"type\":\"object\",\"name\":\"Selection\",\"id\":\"p4159\",\"attributes\":{\"indices\":[],\"line_indices\":[]}},\"selection_policy\":{\"type\":\"object\",\"name\":\"UnionRenderers\",\"id\":\"p4160\"},\"data\":{\"type\":\"map\",\"entries\":[[\"x0\",[21.799999952316284]],[\"y0\",[0.0]],[\"x1\",[21.799999952316284]],[\"y1\",[454.014]]]}}},\"view\":{\"type\":\"object\",\"name\":\"CDSView\",\"id\":\"p4165\",\"attributes\":{\"filter\":{\"type\":\"object\",\"name\":\"AllIndices\",\"id\":\"p4166\"}}},\"glyph\":{\"type\":\"object\",\"name\":\"Segment\",\"id\":\"p4161\",\"attributes\":{\"x0\":{\"type\":\"field\",\"field\":\"x0\"},\"y0\":{\"type\":\"field\",\"field\":\"y0\"},\"x1\":{\"type\":\"field\",\"field\":\"x1\"},\"y1\":{\"type\":\"field\",\"field\":\"y1\"},\"line_color\":{\"type\":\"value\",\"value\":\"lightblue\"},\"line_width\":{\"type\":\"value\",\"value\":3}}},\"nonselection_glyph\":{\"type\":\"object\",\"name\":\"Segment\",\"id\":\"p4162\",\"attributes\":{\"x0\":{\"type\":\"field\",\"field\":\"x0\"},\"y0\":{\"type\":\"field\",\"field\":\"y0\"},\"x1\":{\"type\":\"field\",\"field\":\"x1\"},\"y1\":{\"type\":\"field\",\"field\":\"y1\"},\"line_color\":{\"type\":\"value\",\"value\":\"lightblue\"},\"line_alpha\":{\"type\":\"value\",\"value\":0.1},\"line_width\":{\"type\":\"value\",\"value\":3}}},\"muted_glyph\":{\"type\":\"object\",\"name\":\"Segment\",\"id\":\"p4163\",\"attributes\":{\"x0\":{\"type\":\"field\",\"field\":\"x0\"},\"y0\":{\"type\":\"field\",\"field\":\"y0\"},\"x1\":{\"type\":\"field\",\"field\":\"x1\"},\"y1\":{\"type\":\"field\",\"field\":\"y1\"},\"line_color\":{\"type\":\"value\",\"value\":\"lightblue\"},\"line_alpha\":{\"type\":\"value\",\"value\":0.2},\"line_width\":{\"type\":\"value\",\"value\":3}}}}},{\"type\":\"object\",\"name\":\"GlyphRenderer\",\"id\":\"p4173\",\"attributes\":{\"data_source\":{\"type\":\"object\",\"name\":\"ColumnDataSource\",\"id\":\"p4167\",\"attributes\":{\"selected\":{\"type\":\"object\",\"name\":\"Selection\",\"id\":\"p4168\",\"attributes\":{\"indices\":[],\"line_indices\":[]}},\"selection_policy\":{\"type\":\"object\",\"name\":\"UnionRenderers\",\"id\":\"p4169\"},\"data\":{\"type\":\"map\",\"entries\":[[\"x0\",[23.299999952316284]],[\"y0\",[0.0]],[\"x1\",[23.299999952316284]],[\"y1\",[454.014]]]}}},\"view\":{\"type\":\"object\",\"name\":\"CDSView\",\"id\":\"p4174\",\"attributes\":{\"filter\":{\"type\":\"object\",\"name\":\"AllIndices\",\"id\":\"p4175\"}}},\"glyph\":{\"type\":\"object\",\"name\":\"Segment\",\"id\":\"p4170\",\"attributes\":{\"x0\":{\"type\":\"field\",\"field\":\"x0\"},\"y0\":{\"type\":\"field\",\"field\":\"y0\"},\"x1\":{\"type\":\"field\",\"field\":\"x1\"},\"y1\":{\"type\":\"field\",\"field\":\"y1\"},\"line_color\":{\"type\":\"value\",\"value\":\"darkseagreen\"}}},\"nonselection_glyph\":{\"type\":\"object\",\"name\":\"Segment\",\"id\":\"p4171\",\"attributes\":{\"x0\":{\"type\":\"field\",\"field\":\"x0\"},\"y0\":{\"type\":\"field\",\"field\":\"y0\"},\"x1\":{\"type\":\"field\",\"field\":\"x1\"},\"y1\":{\"type\":\"field\",\"field\":\"y1\"},\"line_color\":{\"type\":\"value\",\"value\":\"darkseagreen\"},\"line_alpha\":{\"type\":\"value\",\"value\":0.1}}},\"muted_glyph\":{\"type\":\"object\",\"name\":\"Segment\",\"id\":\"p4172\",\"attributes\":{\"x0\":{\"type\":\"field\",\"field\":\"x0\"},\"y0\":{\"type\":\"field\",\"field\":\"y0\"},\"x1\":{\"type\":\"field\",\"field\":\"x1\"},\"y1\":{\"type\":\"field\",\"field\":\"y1\"},\"line_color\":{\"type\":\"value\",\"value\":\"darkseagreen\"},\"line_alpha\":{\"type\":\"value\",\"value\":0.2}}}}},{\"type\":\"object\",\"name\":\"GlyphRenderer\",\"id\":\"p4182\",\"attributes\":{\"data_source\":{\"type\":\"object\",\"name\":\"ColumnDataSource\",\"id\":\"p4176\",\"attributes\":{\"selected\":{\"type\":\"object\",\"name\":\"Selection\",\"id\":\"p4177\",\"attributes\":{\"indices\":[],\"line_indices\":[]}},\"selection_policy\":{\"type\":\"object\",\"name\":\"UnionRenderers\",\"id\":\"p4178\"},\"data\":{\"type\":\"map\",\"entries\":[[\"x0\",[20.299999952316284]],[\"y0\",[0.0]],[\"x1\",[20.299999952316284]],[\"y1\",[454.014]]]}}},\"view\":{\"type\":\"object\",\"name\":\"CDSView\",\"id\":\"p4183\",\"attributes\":{\"filter\":{\"type\":\"object\",\"name\":\"AllIndices\",\"id\":\"p4184\"}}},\"glyph\":{\"type\":\"object\",\"name\":\"Segment\",\"id\":\"p4179\",\"attributes\":{\"x0\":{\"type\":\"field\",\"field\":\"x0\"},\"y0\":{\"type\":\"field\",\"field\":\"y0\"},\"x1\":{\"type\":\"field\",\"field\":\"x1\"},\"y1\":{\"type\":\"field\",\"field\":\"y1\"},\"line_color\":{\"type\":\"value\",\"value\":\"darkseagreen\"}}},\"nonselection_glyph\":{\"type\":\"object\",\"name\":\"Segment\",\"id\":\"p4180\",\"attributes\":{\"x0\":{\"type\":\"field\",\"field\":\"x0\"},\"y0\":{\"type\":\"field\",\"field\":\"y0\"},\"x1\":{\"type\":\"field\",\"field\":\"x1\"},\"y1\":{\"type\":\"field\",\"field\":\"y1\"},\"line_color\":{\"type\":\"value\",\"value\":\"darkseagreen\"},\"line_alpha\":{\"type\":\"value\",\"value\":0.1}}},\"muted_glyph\":{\"type\":\"object\",\"name\":\"Segment\",\"id\":\"p4181\",\"attributes\":{\"x0\":{\"type\":\"field\",\"field\":\"x0\"},\"y0\":{\"type\":\"field\",\"field\":\"y0\"},\"x1\":{\"type\":\"field\",\"field\":\"x1\"},\"y1\":{\"type\":\"field\",\"field\":\"y1\"},\"line_color\":{\"type\":\"value\",\"value\":\"darkseagreen\"},\"line_alpha\":{\"type\":\"value\",\"value\":0.2}}}}},{\"type\":\"object\",\"name\":\"GlyphRenderer\",\"id\":\"p4191\",\"attributes\":{\"data_source\":{\"type\":\"object\",\"name\":\"ColumnDataSource\",\"id\":\"p4185\",\"attributes\":{\"selected\":{\"type\":\"object\",\"name\":\"Selection\",\"id\":\"p4186\",\"attributes\":{\"indices\":[],\"line_indices\":[]}},\"selection_policy\":{\"type\":\"object\",\"name\":\"UnionRenderers\",\"id\":\"p4187\"},\"data\":{\"type\":\"map\",\"entries\":[[\"x\",[21.799999952316284]],[\"y\",[454.014]],[\"size\",[20]]]}}},\"view\":{\"type\":\"object\",\"name\":\"CDSView\",\"id\":\"p4192\",\"attributes\":{\"filter\":{\"type\":\"object\",\"name\":\"AllIndices\",\"id\":\"p4193\"}}},\"glyph\":{\"type\":\"object\",\"name\":\"Scatter\",\"id\":\"p4188\",\"attributes\":{\"x\":{\"type\":\"field\",\"field\":\"x\"},\"y\":{\"type\":\"field\",\"field\":\"y\"},\"size\":{\"type\":\"field\",\"field\":\"size\"},\"line_color\":{\"type\":\"value\",\"value\":\"lightblue\"},\"line_width\":{\"type\":\"value\",\"value\":3},\"fill_color\":{\"type\":\"value\",\"value\":null},\"marker\":{\"type\":\"value\",\"value\":\"square_cross\"}}},\"nonselection_glyph\":{\"type\":\"object\",\"name\":\"Scatter\",\"id\":\"p4189\",\"attributes\":{\"x\":{\"type\":\"field\",\"field\":\"x\"},\"y\":{\"type\":\"field\",\"field\":\"y\"},\"size\":{\"type\":\"field\",\"field\":\"size\"},\"line_color\":{\"type\":\"value\",\"value\":\"lightblue\"},\"line_alpha\":{\"type\":\"value\",\"value\":0.1},\"line_width\":{\"type\":\"value\",\"value\":3},\"fill_color\":{\"type\":\"value\",\"value\":null},\"fill_alpha\":{\"type\":\"value\",\"value\":0.1},\"hatch_alpha\":{\"type\":\"value\",\"value\":0.1},\"marker\":{\"type\":\"value\",\"value\":\"square_cross\"}}},\"muted_glyph\":{\"type\":\"object\",\"name\":\"Scatter\",\"id\":\"p4190\",\"attributes\":{\"x\":{\"type\":\"field\",\"field\":\"x\"},\"y\":{\"type\":\"field\",\"field\":\"y\"},\"size\":{\"type\":\"field\",\"field\":\"size\"},\"line_color\":{\"type\":\"value\",\"value\":\"lightblue\"},\"line_alpha\":{\"type\":\"value\",\"value\":0.2},\"line_width\":{\"type\":\"value\",\"value\":3},\"fill_color\":{\"type\":\"value\",\"value\":null},\"fill_alpha\":{\"type\":\"value\",\"value\":0.2},\"hatch_alpha\":{\"type\":\"value\",\"value\":0.2},\"marker\":{\"type\":\"value\",\"value\":\"square_cross\"}}}}}],\"toolbar\":{\"type\":\"object\",\"name\":\"Toolbar\",\"id\":\"p4080\",\"attributes\":{\"tools\":[{\"type\":\"object\",\"name\":\"PanTool\",\"id\":\"p4095\"},{\"type\":\"object\",\"name\":\"WheelZoomTool\",\"id\":\"p4096\",\"attributes\":{\"renderers\":\"auto\"}},{\"type\":\"object\",\"name\":\"BoxZoomTool\",\"id\":\"p4097\",\"attributes\":{\"overlay\":{\"type\":\"object\",\"name\":\"BoxAnnotation\",\"id\":\"p4098\",\"attributes\":{\"syncable\":false,\"level\":\"overlay\",\"visible\":false,\"left\":{\"type\":\"number\",\"value\":\"nan\"},\"right\":{\"type\":\"number\",\"value\":\"nan\"},\"top\":{\"type\":\"number\",\"value\":\"nan\"},\"bottom\":{\"type\":\"number\",\"value\":\"nan\"},\"left_units\":\"canvas\",\"right_units\":\"canvas\",\"top_units\":\"canvas\",\"bottom_units\":\"canvas\",\"line_color\":\"black\",\"line_alpha\":1.0,\"line_width\":2,\"line_dash\":[4,4],\"fill_color\":\"lightgrey\",\"fill_alpha\":0.5}}}},{\"type\":\"object\",\"name\":\"SaveTool\",\"id\":\"p4103\"},{\"type\":\"object\",\"name\":\"ResetTool\",\"id\":\"p4104\"},{\"type\":\"object\",\"name\":\"HelpTool\",\"id\":\"p4105\"},{\"type\":\"object\",\"name\":\"HoverTool\",\"id\":\"p4137\",\"attributes\":{\"renderers\":\"auto\",\"tooltips\":[[\"Y-val\",\"@y{0.00}\"]]}}]}},\"left\":[{\"type\":\"object\",\"name\":\"LinearAxis\",\"id\":\"p4090\",\"attributes\":{\"ticker\":{\"type\":\"object\",\"name\":\"BasicTicker\",\"id\":\"p4091\",\"attributes\":{\"mantissas\":[1,2,5]}},\"formatter\":{\"type\":\"object\",\"name\":\"BasicTickFormatter\",\"id\":\"p4092\"},\"axis_label\":\"km/h\",\"axis_label_standoff\":10,\"axis_label_text_color\":\"#E0E0E0\",\"axis_label_text_font\":\"Helvetica\",\"axis_label_text_font_size\":\"1.25em\",\"axis_label_text_font_style\":\"normal\",\"major_label_policy\":{\"type\":\"object\",\"name\":\"AllLabels\",\"id\":\"p4093\"},\"major_label_text_color\":\"#E0E0E0\",\"major_label_text_font\":\"Helvetica\",\"major_label_text_font_size\":\"1.025em\",\"axis_line_color\":\"#E0E0E0\",\"axis_line_alpha\":0,\"major_tick_line_color\":\"#E0E0E0\",\"major_tick_line_alpha\":0,\"minor_tick_line_color\":\"#E0E0E0\",\"minor_tick_line_alpha\":0}},{\"type\":\"object\",\"name\":\"LinearAxis\",\"id\":\"p4108\",\"attributes\":{\"y_range_name\":\"altitudeFt\",\"ticker\":{\"type\":\"object\",\"name\":\"BasicTicker\",\"id\":\"p4109\",\"attributes\":{\"mantissas\":[1,2,5]}},\"formatter\":{\"type\":\"object\",\"name\":\"BasicTickFormatter\",\"id\":\"p4110\"},\"axis_label\":\"Alt (ft)\",\"axis_label_standoff\":10,\"axis_label_text_color\":\"#E0E0E0\",\"axis_label_text_font\":\"Helvetica\",\"axis_label_text_font_size\":\"1.25em\",\"axis_label_text_font_style\":\"normal\",\"major_label_policy\":{\"type\":\"object\",\"name\":\"AllLabels\",\"id\":\"p4111\"},\"major_label_text_color\":\"#E0E0E0\",\"major_label_text_font\":\"Helvetica\",\"major_label_text_font_size\":\"1.025em\",\"axis_line_color\":\"#E0E0E0\",\"axis_line_alpha\":0,\"major_tick_line_color\":\"#E0E0E0\",\"major_tick_line_alpha\":0,\"minor_tick_line_color\":\"#E0E0E0\",\"minor_tick_line_alpha\":0}},{\"type\":\"object\",\"name\":\"LinearAxis\",\"id\":\"p4112\",\"attributes\":{\"y_range_name\":\"angle\",\"ticker\":{\"type\":\"object\",\"name\":\"BasicTicker\",\"id\":\"p4113\",\"attributes\":{\"mantissas\":[1,2,5]}},\"formatter\":{\"type\":\"object\",\"name\":\"BasicTickFormatter\",\"id\":\"p4114\"},\"axis_label\":\"angle\",\"axis_label_standoff\":10,\"axis_label_text_color\":\"#E0E0E0\",\"axis_label_text_font\":\"Helvetica\",\"axis_label_text_font_size\":\"1.25em\",\"axis_label_text_font_style\":\"normal\",\"major_label_policy\":{\"type\":\"object\",\"name\":\"AllLabels\",\"id\":\"p4115\"},\"major_label_text_color\":\"#E0E0E0\",\"major_label_text_font\":\"Helvetica\",\"major_label_text_font_size\":\"1.025em\",\"axis_line_color\":\"#E0E0E0\",\"axis_line_alpha\":0,\"major_tick_line_color\":\"#E0E0E0\",\"major_tick_line_alpha\":0,\"minor_tick_line_color\":\"#E0E0E0\",\"minor_tick_line_alpha\":0}}],\"below\":[{\"type\":\"object\",\"name\":\"LinearAxis\",\"id\":\"p4085\",\"attributes\":{\"ticker\":{\"type\":\"object\",\"name\":\"BasicTicker\",\"id\":\"p4086\",\"attributes\":{\"mantissas\":[1,2,5]}},\"formatter\":{\"type\":\"object\",\"name\":\"BasicTickFormatter\",\"id\":\"p4087\"},\"axis_label\":\"seconds from exit\",\"axis_label_standoff\":10,\"axis_label_text_color\":\"#E0E0E0\",\"axis_label_text_font\":\"Helvetica\",\"axis_label_text_font_size\":\"1.25em\",\"axis_label_text_font_style\":\"normal\",\"major_label_policy\":{\"type\":\"object\",\"name\":\"AllLabels\",\"id\":\"p4088\"},\"major_label_text_color\":\"#E0E0E0\",\"major_label_text_font\":\"Helvetica\",\"major_label_text_font_size\":\"1.025em\",\"axis_line_color\":\"#E0E0E0\",\"axis_line_alpha\":0,\"major_tick_line_color\":\"#E0E0E0\",\"major_tick_line_alpha\":0,\"minor_tick_line_color\":\"#E0E0E0\",\"minor_tick_line_alpha\":0}}],\"center\":[{\"type\":\"object\",\"name\":\"Grid\",\"id\":\"p4089\",\"attributes\":{\"axis\":{\"id\":\"p4085\"},\"grid_line_color\":\"#E0E0E0\",\"grid_line_alpha\":0.25}},{\"type\":\"object\",\"name\":\"Grid\",\"id\":\"p4094\",\"attributes\":{\"dimension\":1,\"axis\":{\"id\":\"p4090\"},\"grid_line_color\":\"#E0E0E0\",\"grid_line_alpha\":0.25}},{\"type\":\"object\",\"name\":\"Legend\",\"id\":\"p4125\",\"attributes\":{\"border_line_alpha\":0,\"background_fill_color\":\"#20262B\",\"background_fill_alpha\":0.25,\"label_text_color\":\"#E0E0E0\",\"label_text_font\":\"Helvetica\",\"label_text_font_size\":\"1.025em\",\"label_standoff\":8,\"glyph_width\":15,\"spacing\":8,\"items\":[{\"type\":\"object\",\"name\":\"LegendItem\",\"id\":\"p4126\",\"attributes\":{\"label\":{\"type\":\"value\",\"value\":\"Alt (ft)\"},\"renderers\":[{\"id\":\"p4122\"}]}},{\"type\":\"object\",\"name\":\"LegendItem\",\"id\":\"p4136\",\"attributes\":{\"label\":{\"type\":\"value\",\"value\":\"angle\"},\"renderers\":[{\"id\":\"p4133\"}]}},{\"type\":\"object\",\"name\":\"LegendItem\",\"id\":\"p4147\",\"attributes\":{\"label\":{\"type\":\"value\",\"value\":\"speed\"},\"renderers\":[{\"id\":\"p4144\"}]}},{\"type\":\"object\",\"name\":\"LegendItem\",\"id\":\"p4157\",\"attributes\":{\"label\":{\"type\":\"value\",\"value\":\"H-speed\"},\"renderers\":[{\"id\":\"p4154\"}]}}]}}],\"background_fill_color\":\"#20262B\",\"border_fill_color\":\"#15191C\"}}]}};\n",
       "  const render_items = [{\"docid\":\"0610cb05-0655-4801-b590-f6cbff306b91\",\"roots\":{\"p4071\":\"ac70f792-499e-45c6-a144-26be4f4f7890\"},\"root_ids\":[\"p4071\"]}];\n",
       "  void root.Bokeh.embed.embed_items_notebook(docs_json, render_items);\n",
       "  }\n",
       "  if (root.Bokeh !== undefined) {\n",
       "    embed_document(root);\n",
       "  } else {\n",
       "    let attempts = 0;\n",
       "    const timer = setInterval(function(root) {\n",
       "      if (root.Bokeh !== undefined) {\n",
       "        clearInterval(timer);\n",
       "        embed_document(root);\n",
       "      } else {\n",
       "        attempts++;\n",
       "        if (attempts > 100) {\n",
       "          clearInterval(timer);\n",
       "          console.log(\"Bokeh: ERROR: Unable to run BokehJS code because BokehJS library is missing\");\n",
       "        }\n",
       "      }\n",
       "    }, 10, root)\n",
       "  }\n",
       "})(window);"
      ],
      "application/vnd.bokehjs_exec.v0+json": ""
     },
     "metadata": {
      "application/vnd.bokehjs_exec.v0+json": {
       "id": "p4071"
      }
     },
     "output_type": "display_data"
    },
    {
     "data": {
      "application/vnd.jupyter.widget-view+json": {
       "model_id": "7cc6562b7ffb4a7f83fd867b4df73191",
       "version_major": 2,
       "version_minor": 0
      },
      "text/plain": [
       "HTML(value='<hr><h1><span style=\"color: #0f0\">11-36-32 jump - 🟢 valid - score = 456.79 km/h</span></h1>')"
      ]
     },
     "metadata": {},
     "output_type": "display_data"
    },
    {
     "data": {
      "application/vnd.jupyter.widget-view+json": {
       "model_id": "faa7727947c746ba92a266da3aff4fc4",
       "version_major": 2,
       "version_minor": 0
      },
      "text/plain": [
       "HTML(value='<h3>Max speed = 458; exit at 4087 m (13410 ft), end scoring window at 1831 m (6009 ft)')"
      ]
     },
     "metadata": {},
     "output_type": "display_data"
    },
    {
     "data": {
      "application/vnd.jupyter.widget-view+json": {
       "model_id": "f6aab80d398048c0b4e3fae35d43ffff",
       "version_major": 2,
       "version_minor": 0
      },
      "text/plain": [
       "HTML(value='</h3>')"
      ]
     },
     "metadata": {},
     "output_type": "display_data"
    },
    {
     "data": {
      "text/html": [
       "<div>\n",
       "<style scoped>\n",
       "    .dataframe tbody tr th:only-of-type {\n",
       "        vertical-align: middle;\n",
       "    }\n",
       "\n",
       "    .dataframe tbody tr th {\n",
       "        vertical-align: top;\n",
       "    }\n",
       "\n",
       "    .dataframe thead th {\n",
       "        text-align: right;\n",
       "    }\n",
       "</style>\n",
       "<table border=\"1\" class=\"dataframe\">\n",
       "  <thead>\n",
       "    <tr style=\"text-align: right;\">\n",
       "      <th></th>\n",
       "      <th>time</th>\n",
       "      <th>vKMh</th>\n",
       "      <th>hKMh</th>\n",
       "      <th>speedAngle</th>\n",
       "      <th>netVectorKMh</th>\n",
       "      <th>altitude (ft)</th>\n",
       "    </tr>\n",
       "  </thead>\n",
       "  <tbody>\n",
       "    <tr>\n",
       "      <th></th>\n",
       "      <td>5.0</td>\n",
       "      <td>180</td>\n",
       "      <td>130</td>\n",
       "      <td>54.2</td>\n",
       "      <td>222</td>\n",
       "      <td>12963</td>\n",
       "    </tr>\n",
       "    <tr>\n",
       "      <th></th>\n",
       "      <td>10.0</td>\n",
       "      <td>309</td>\n",
       "      <td>89</td>\n",
       "      <td>74.0</td>\n",
       "      <td>322</td>\n",
       "      <td>11812</td>\n",
       "    </tr>\n",
       "    <tr>\n",
       "      <th></th>\n",
       "      <td>15.0</td>\n",
       "      <td>400</td>\n",
       "      <td>62</td>\n",
       "      <td>81.2</td>\n",
       "      <td>405</td>\n",
       "      <td>10158</td>\n",
       "    </tr>\n",
       "    <tr>\n",
       "      <th></th>\n",
       "      <td>20.0</td>\n",
       "      <td>449</td>\n",
       "      <td>37</td>\n",
       "      <td>85.3</td>\n",
       "      <td>450</td>\n",
       "      <td>8196</td>\n",
       "    </tr>\n",
       "    <tr>\n",
       "      <th></th>\n",
       "      <td>25.0</td>\n",
       "      <td>457</td>\n",
       "      <td>17</td>\n",
       "      <td>87.9</td>\n",
       "      <td>457</td>\n",
       "      <td>6114</td>\n",
       "    </tr>\n",
       "  </tbody>\n",
       "</table>\n",
       "</div>"
      ],
      "text/plain": [
       "  time  vKMh  hKMh  speedAngle  netVectorKMh  altitude (ft)\n",
       "   5.0   180   130        54.2           222          12963\n",
       "  10.0   309    89        74.0           322          11812\n",
       "  15.0   400    62        81.2           405          10158\n",
       "  20.0   449    37        85.3           450           8196\n",
       "  25.0   457    17        87.9           457           6114"
      ]
     },
     "metadata": {},
     "output_type": "display_data"
    },
    {
     "data": {
      "text/html": [
       "\n",
       "  <div id=\"a85110bd-8016-4664-a3e7-606b2b18e115\" data-root-id=\"p4212\" style=\"display: contents;\"></div>\n"
      ]
     },
     "metadata": {},
     "output_type": "display_data"
    },
    {
     "data": {
      "application/javascript": [
       "(function(root) {\n",
       "  function embed_document(root) {\n",
       "  const docs_json = {\"4aac3b91-1525-4435-a0e9-7454d493eb3c\":{\"version\":\"3.4.1\",\"title\":\"Bokeh Application\",\"roots\":[{\"type\":\"object\",\"name\":\"Figure\",\"id\":\"p4212\",\"attributes\":{\"width\":900,\"height\":500,\"x_range\":{\"type\":\"object\",\"name\":\"Range1d\",\"id\":\"p4222\",\"attributes\":{\"end\":35.0}},\"y_range\":{\"type\":\"object\",\"name\":\"Range1d\",\"id\":\"p4223\",\"attributes\":{\"end\":550.0}},\"x_scale\":{\"type\":\"object\",\"name\":\"LinearScale\",\"id\":\"p4224\"},\"y_scale\":{\"type\":\"object\",\"name\":\"LinearScale\",\"id\":\"p4225\"},\"extra_y_ranges\":{\"type\":\"map\",\"entries\":[[\"altitudeFt\",{\"type\":\"object\",\"name\":\"Range1d\",\"id\":\"p4247\",\"attributes\":{\"start\":5530.682948,\"end\":13910.626015200001}}],[\"angle\",{\"type\":\"object\",\"name\":\"Range1d\",\"id\":\"p4248\",\"attributes\":{\"end\":90.0}}]]},\"title\":{\"type\":\"object\",\"name\":\"Title\",\"id\":\"p4215\",\"attributes\":{\"text\":\"11-36-32\",\"text_color\":\"#E0E0E0\",\"text_font\":\"Helvetica\",\"text_font_size\":\"1.15em\"}},\"outline_line_color\":\"#E0E0E0\",\"outline_line_alpha\":0.25,\"renderers\":[{\"type\":\"object\",\"name\":\"GlyphRenderer\",\"id\":\"p4263\",\"attributes\":{\"y_range_name\":\"altitudeFt\",\"data_source\":{\"type\":\"object\",\"name\":\"ColumnDataSource\",\"id\":\"p4257\",\"attributes\":{\"selected\":{\"type\":\"object\",\"name\":\"Selection\",\"id\":\"p4258\",\"attributes\":{\"indices\":[],\"line_indices\":[]}},\"selection_policy\":{\"type\":\"object\",\"name\":\"UnionRenderers\",\"id\":\"p4259\"},\"data\":{\"type\":\"map\",\"entries\":[[\"x\",{\"type\":\"ndarray\",\"array\":{\"type\":\"bytes\",\"data\":\"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\"},\"shape\":[206],\"dtype\":\"float64\",\"order\":\"little\"}],[\"y\",{\"type\":\"ndarray\",\"array\":{\"type\":\"bytes\",\"data\":\"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\"},\"shape\":[206],\"dtype\":\"float64\",\"order\":\"little\"}]]}}},\"view\":{\"type\":\"object\",\"name\":\"CDSView\",\"id\":\"p4264\",\"attributes\":{\"filter\":{\"type\":\"object\",\"name\":\"AllIndices\",\"id\":\"p4265\"}}},\"glyph\":{\"type\":\"object\",\"name\":\"Line\",\"id\":\"p4260\",\"attributes\":{\"x\":{\"type\":\"field\",\"field\":\"x\"},\"y\":{\"type\":\"field\",\"field\":\"y\"},\"line_color\":\"palegoldenrod\",\"line_width\":2}},\"nonselection_glyph\":{\"type\":\"object\",\"name\":\"Line\",\"id\":\"p4261\",\"attributes\":{\"x\":{\"type\":\"field\",\"field\":\"x\"},\"y\":{\"type\":\"field\",\"field\":\"y\"},\"line_color\":\"palegoldenrod\",\"line_alpha\":0.1,\"line_width\":2}},\"muted_glyph\":{\"type\":\"object\",\"name\":\"Line\",\"id\":\"p4262\",\"attributes\":{\"x\":{\"type\":\"field\",\"field\":\"x\"},\"y\":{\"type\":\"field\",\"field\":\"y\"},\"line_color\":\"palegoldenrod\",\"line_alpha\":0.2,\"line_width\":2}}}},{\"type\":\"object\",\"name\":\"GlyphRenderer\",\"id\":\"p4274\",\"attributes\":{\"y_range_name\":\"angle\",\"data_source\":{\"type\":\"object\",\"name\":\"ColumnDataSource\",\"id\":\"p4268\",\"attributes\":{\"selected\":{\"type\":\"object\",\"name\":\"Selection\",\"id\":\"p4269\",\"attributes\":{\"indices\":[],\"line_indices\":[]}},\"selection_policy\":{\"type\":\"object\",\"name\":\"UnionRenderers\",\"id\":\"p4270\"},\"data\":{\"type\":\"map\",\"entries\":[[\"x\",{\"type\":\"ndarray\",\"array\":{\"type\":\"bytes\",\"data\":\"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\"},\"shape\":[206],\"dtype\":\"float64\",\"order\":\"little\"}],[\"y\",{\"type\":\"ndarray\",\"array\":{\"type\":\"bytes\",\"data\":\"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\"},\"shape\":[206],\"dtype\":\"float64\",\"order\":\"little\"}]]}}},\"view\":{\"type\":\"object\",\"name\":\"CDSView\",\"id\":\"p4275\",\"attributes\":{\"filter\":{\"type\":\"object\",\"name\":\"AllIndices\",\"id\":\"p4276\"}}},\"glyph\":{\"type\":\"object\",\"name\":\"Line\",\"id\":\"p4271\",\"attributes\":{\"x\":{\"type\":\"field\",\"field\":\"x\"},\"y\":{\"type\":\"field\",\"field\":\"y\"},\"line_color\":\"deepskyblue\",\"line_width\":2}},\"nonselection_glyph\":{\"type\":\"object\",\"name\":\"Line\",\"id\":\"p4272\",\"attributes\":{\"x\":{\"type\":\"field\",\"field\":\"x\"},\"y\":{\"type\":\"field\",\"field\":\"y\"},\"line_color\":\"deepskyblue\",\"line_alpha\":0.1,\"line_width\":2}},\"muted_glyph\":{\"type\":\"object\",\"name\":\"Line\",\"id\":\"p4273\",\"attributes\":{\"x\":{\"type\":\"field\",\"field\":\"x\"},\"y\":{\"type\":\"field\",\"field\":\"y\"},\"line_color\":\"deepskyblue\",\"line_alpha\":0.2,\"line_width\":2}}}},{\"type\":\"object\",\"name\":\"GlyphRenderer\",\"id\":\"p4285\",\"attributes\":{\"data_source\":{\"type\":\"object\",\"name\":\"ColumnDataSource\",\"id\":\"p4279\",\"attributes\":{\"selected\":{\"type\":\"object\",\"name\":\"Selection\",\"id\":\"p4280\",\"attributes\":{\"indices\":[],\"line_indices\":[]}},\"selection_policy\":{\"type\":\"object\",\"name\":\"UnionRenderers\",\"id\":\"p4281\"},\"data\":{\"type\":\"map\",\"entries\":[[\"x\",{\"type\":\"ndarray\",\"array\":{\"type\":\"bytes\",\"data\":\"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\"},\"shape\":[206],\"dtype\":\"float64\",\"order\":\"little\"}],[\"y\",{\"type\":\"ndarray\",\"array\":{\"type\":\"bytes\",\"data\":\"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\"},\"shape\":[206],\"dtype\":\"float64\",\"order\":\"little\"}]]}}},\"view\":{\"type\":\"object\",\"name\":\"CDSView\",\"id\":\"p4286\",\"attributes\":{\"filter\":{\"type\":\"object\",\"name\":\"AllIndices\",\"id\":\"p4287\"}}},\"glyph\":{\"type\":\"object\",\"name\":\"Line\",\"id\":\"p4282\",\"attributes\":{\"x\":{\"type\":\"field\",\"field\":\"x\"},\"y\":{\"type\":\"field\",\"field\":\"y\"},\"line_color\":\"limegreen\",\"line_width\":2}},\"nonselection_glyph\":{\"type\":\"object\",\"name\":\"Line\",\"id\":\"p4283\",\"attributes\":{\"x\":{\"type\":\"field\",\"field\":\"x\"},\"y\":{\"type\":\"field\",\"field\":\"y\"},\"line_color\":\"limegreen\",\"line_alpha\":0.1,\"line_width\":2}},\"muted_glyph\":{\"type\":\"object\",\"name\":\"Line\",\"id\":\"p4284\",\"attributes\":{\"x\":{\"type\":\"field\",\"field\":\"x\"},\"y\":{\"type\":\"field\",\"field\":\"y\"},\"line_color\":\"limegreen\",\"line_alpha\":0.2,\"line_width\":2}}}},{\"type\":\"object\",\"name\":\"GlyphRenderer\",\"id\":\"p4295\",\"attributes\":{\"data_source\":{\"type\":\"object\",\"name\":\"ColumnDataSource\",\"id\":\"p4289\",\"attributes\":{\"selected\":{\"type\":\"object\",\"name\":\"Selection\",\"id\":\"p4290\",\"attributes\":{\"indices\":[],\"line_indices\":[]}},\"selection_policy\":{\"type\":\"object\",\"name\":\"UnionRenderers\",\"id\":\"p4291\"},\"data\":{\"type\":\"map\",\"entries\":[[\"x\",{\"type\":\"ndarray\",\"array\":{\"type\":\"bytes\",\"data\":\"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\"},\"shape\":[206],\"dtype\":\"float64\",\"order\":\"little\"}],[\"y\",{\"type\":\"ndarray\",\"array\":{\"type\":\"bytes\",\"data\":\"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\"},\"shape\":[206],\"dtype\":\"float64\",\"order\":\"little\"}]]}}},\"view\":{\"type\":\"object\",\"name\":\"CDSView\",\"id\":\"p4296\",\"attributes\":{\"filter\":{\"type\":\"object\",\"name\":\"AllIndices\",\"id\":\"p4297\"}}},\"glyph\":{\"type\":\"object\",\"name\":\"Line\",\"id\":\"p4292\",\"attributes\":{\"x\":{\"type\":\"field\",\"field\":\"x\"},\"y\":{\"type\":\"field\",\"field\":\"y\"},\"line_color\":\"red\",\"line_width\":2}},\"nonselection_glyph\":{\"type\":\"object\",\"name\":\"Line\",\"id\":\"p4293\",\"attributes\":{\"x\":{\"type\":\"field\",\"field\":\"x\"},\"y\":{\"type\":\"field\",\"field\":\"y\"},\"line_color\":\"red\",\"line_alpha\":0.1,\"line_width\":2}},\"muted_glyph\":{\"type\":\"object\",\"name\":\"Line\",\"id\":\"p4294\",\"attributes\":{\"x\":{\"type\":\"field\",\"field\":\"x\"},\"y\":{\"type\":\"field\",\"field\":\"y\"},\"line_color\":\"red\",\"line_alpha\":0.2,\"line_width\":2}}}},{\"type\":\"object\",\"name\":\"GlyphRenderer\",\"id\":\"p4305\",\"attributes\":{\"data_source\":{\"type\":\"object\",\"name\":\"ColumnDataSource\",\"id\":\"p4299\",\"attributes\":{\"selected\":{\"type\":\"object\",\"name\":\"Selection\",\"id\":\"p4300\",\"attributes\":{\"indices\":[],\"line_indices\":[]}},\"selection_policy\":{\"type\":\"object\",\"name\":\"UnionRenderers\",\"id\":\"p4301\"},\"data\":{\"type\":\"map\",\"entries\":[[\"x0\",[21.09999990463257]],[\"y0\",[0.0]],[\"x1\",[21.09999990463257]],[\"y1\",[456.786]]]}}},\"view\":{\"type\":\"object\",\"name\":\"CDSView\",\"id\":\"p4306\",\"attributes\":{\"filter\":{\"type\":\"object\",\"name\":\"AllIndices\",\"id\":\"p4307\"}}},\"glyph\":{\"type\":\"object\",\"name\":\"Segment\",\"id\":\"p4302\",\"attributes\":{\"x0\":{\"type\":\"field\",\"field\":\"x0\"},\"y0\":{\"type\":\"field\",\"field\":\"y0\"},\"x1\":{\"type\":\"field\",\"field\":\"x1\"},\"y1\":{\"type\":\"field\",\"field\":\"y1\"},\"line_color\":{\"type\":\"value\",\"value\":\"lightblue\"},\"line_width\":{\"type\":\"value\",\"value\":3}}},\"nonselection_glyph\":{\"type\":\"object\",\"name\":\"Segment\",\"id\":\"p4303\",\"attributes\":{\"x0\":{\"type\":\"field\",\"field\":\"x0\"},\"y0\":{\"type\":\"field\",\"field\":\"y0\"},\"x1\":{\"type\":\"field\",\"field\":\"x1\"},\"y1\":{\"type\":\"field\",\"field\":\"y1\"},\"line_color\":{\"type\":\"value\",\"value\":\"lightblue\"},\"line_alpha\":{\"type\":\"value\",\"value\":0.1},\"line_width\":{\"type\":\"value\",\"value\":3}}},\"muted_glyph\":{\"type\":\"object\",\"name\":\"Segment\",\"id\":\"p4304\",\"attributes\":{\"x0\":{\"type\":\"field\",\"field\":\"x0\"},\"y0\":{\"type\":\"field\",\"field\":\"y0\"},\"x1\":{\"type\":\"field\",\"field\":\"x1\"},\"y1\":{\"type\":\"field\",\"field\":\"y1\"},\"line_color\":{\"type\":\"value\",\"value\":\"lightblue\"},\"line_alpha\":{\"type\":\"value\",\"value\":0.2},\"line_width\":{\"type\":\"value\",\"value\":3}}}}},{\"type\":\"object\",\"name\":\"GlyphRenderer\",\"id\":\"p4314\",\"attributes\":{\"data_source\":{\"type\":\"object\",\"name\":\"ColumnDataSource\",\"id\":\"p4308\",\"attributes\":{\"selected\":{\"type\":\"object\",\"name\":\"Selection\",\"id\":\"p4309\",\"attributes\":{\"indices\":[],\"line_indices\":[]}},\"selection_policy\":{\"type\":\"object\",\"name\":\"UnionRenderers\",\"id\":\"p4310\"},\"data\":{\"type\":\"map\",\"entries\":[[\"x0\",[22.59999990463257]],[\"y0\",[0.0]],[\"x1\",[22.59999990463257]],[\"y1\",[456.786]]]}}},\"view\":{\"type\":\"object\",\"name\":\"CDSView\",\"id\":\"p4315\",\"attributes\":{\"filter\":{\"type\":\"object\",\"name\":\"AllIndices\",\"id\":\"p4316\"}}},\"glyph\":{\"type\":\"object\",\"name\":\"Segment\",\"id\":\"p4311\",\"attributes\":{\"x0\":{\"type\":\"field\",\"field\":\"x0\"},\"y0\":{\"type\":\"field\",\"field\":\"y0\"},\"x1\":{\"type\":\"field\",\"field\":\"x1\"},\"y1\":{\"type\":\"field\",\"field\":\"y1\"},\"line_color\":{\"type\":\"value\",\"value\":\"darkseagreen\"}}},\"nonselection_glyph\":{\"type\":\"object\",\"name\":\"Segment\",\"id\":\"p4312\",\"attributes\":{\"x0\":{\"type\":\"field\",\"field\":\"x0\"},\"y0\":{\"type\":\"field\",\"field\":\"y0\"},\"x1\":{\"type\":\"field\",\"field\":\"x1\"},\"y1\":{\"type\":\"field\",\"field\":\"y1\"},\"line_color\":{\"type\":\"value\",\"value\":\"darkseagreen\"},\"line_alpha\":{\"type\":\"value\",\"value\":0.1}}},\"muted_glyph\":{\"type\":\"object\",\"name\":\"Segment\",\"id\":\"p4313\",\"attributes\":{\"x0\":{\"type\":\"field\",\"field\":\"x0\"},\"y0\":{\"type\":\"field\",\"field\":\"y0\"},\"x1\":{\"type\":\"field\",\"field\":\"x1\"},\"y1\":{\"type\":\"field\",\"field\":\"y1\"},\"line_color\":{\"type\":\"value\",\"value\":\"darkseagreen\"},\"line_alpha\":{\"type\":\"value\",\"value\":0.2}}}}},{\"type\":\"object\",\"name\":\"GlyphRenderer\",\"id\":\"p4323\",\"attributes\":{\"data_source\":{\"type\":\"object\",\"name\":\"ColumnDataSource\",\"id\":\"p4317\",\"attributes\":{\"selected\":{\"type\":\"object\",\"name\":\"Selection\",\"id\":\"p4318\",\"attributes\":{\"indices\":[],\"line_indices\":[]}},\"selection_policy\":{\"type\":\"object\",\"name\":\"UnionRenderers\",\"id\":\"p4319\"},\"data\":{\"type\":\"map\",\"entries\":[[\"x0\",[19.59999990463257]],[\"y0\",[0.0]],[\"x1\",[19.59999990463257]],[\"y1\",[456.786]]]}}},\"view\":{\"type\":\"object\",\"name\":\"CDSView\",\"id\":\"p4324\",\"attributes\":{\"filter\":{\"type\":\"object\",\"name\":\"AllIndices\",\"id\":\"p4325\"}}},\"glyph\":{\"type\":\"object\",\"name\":\"Segment\",\"id\":\"p4320\",\"attributes\":{\"x0\":{\"type\":\"field\",\"field\":\"x0\"},\"y0\":{\"type\":\"field\",\"field\":\"y0\"},\"x1\":{\"type\":\"field\",\"field\":\"x1\"},\"y1\":{\"type\":\"field\",\"field\":\"y1\"},\"line_color\":{\"type\":\"value\",\"value\":\"darkseagreen\"}}},\"nonselection_glyph\":{\"type\":\"object\",\"name\":\"Segment\",\"id\":\"p4321\",\"attributes\":{\"x0\":{\"type\":\"field\",\"field\":\"x0\"},\"y0\":{\"type\":\"field\",\"field\":\"y0\"},\"x1\":{\"type\":\"field\",\"field\":\"x1\"},\"y1\":{\"type\":\"field\",\"field\":\"y1\"},\"line_color\":{\"type\":\"value\",\"value\":\"darkseagreen\"},\"line_alpha\":{\"type\":\"value\",\"value\":0.1}}},\"muted_glyph\":{\"type\":\"object\",\"name\":\"Segment\",\"id\":\"p4322\",\"attributes\":{\"x0\":{\"type\":\"field\",\"field\":\"x0\"},\"y0\":{\"type\":\"field\",\"field\":\"y0\"},\"x1\":{\"type\":\"field\",\"field\":\"x1\"},\"y1\":{\"type\":\"field\",\"field\":\"y1\"},\"line_color\":{\"type\":\"value\",\"value\":\"darkseagreen\"},\"line_alpha\":{\"type\":\"value\",\"value\":0.2}}}}},{\"type\":\"object\",\"name\":\"GlyphRenderer\",\"id\":\"p4332\",\"attributes\":{\"data_source\":{\"type\":\"object\",\"name\":\"ColumnDataSource\",\"id\":\"p4326\",\"attributes\":{\"selected\":{\"type\":\"object\",\"name\":\"Selection\",\"id\":\"p4327\",\"attributes\":{\"indices\":[],\"line_indices\":[]}},\"selection_policy\":{\"type\":\"object\",\"name\":\"UnionRenderers\",\"id\":\"p4328\"},\"data\":{\"type\":\"map\",\"entries\":[[\"x\",[21.09999990463257]],[\"y\",[456.786]],[\"size\",[20]]]}}},\"view\":{\"type\":\"object\",\"name\":\"CDSView\",\"id\":\"p4333\",\"attributes\":{\"filter\":{\"type\":\"object\",\"name\":\"AllIndices\",\"id\":\"p4334\"}}},\"glyph\":{\"type\":\"object\",\"name\":\"Scatter\",\"id\":\"p4329\",\"attributes\":{\"x\":{\"type\":\"field\",\"field\":\"x\"},\"y\":{\"type\":\"field\",\"field\":\"y\"},\"size\":{\"type\":\"field\",\"field\":\"size\"},\"line_color\":{\"type\":\"value\",\"value\":\"lightblue\"},\"line_width\":{\"type\":\"value\",\"value\":3},\"fill_color\":{\"type\":\"value\",\"value\":null},\"marker\":{\"type\":\"value\",\"value\":\"square_cross\"}}},\"nonselection_glyph\":{\"type\":\"object\",\"name\":\"Scatter\",\"id\":\"p4330\",\"attributes\":{\"x\":{\"type\":\"field\",\"field\":\"x\"},\"y\":{\"type\":\"field\",\"field\":\"y\"},\"size\":{\"type\":\"field\",\"field\":\"size\"},\"line_color\":{\"type\":\"value\",\"value\":\"lightblue\"},\"line_alpha\":{\"type\":\"value\",\"value\":0.1},\"line_width\":{\"type\":\"value\",\"value\":3},\"fill_color\":{\"type\":\"value\",\"value\":null},\"fill_alpha\":{\"type\":\"value\",\"value\":0.1},\"hatch_alpha\":{\"type\":\"value\",\"value\":0.1},\"marker\":{\"type\":\"value\",\"value\":\"square_cross\"}}},\"muted_glyph\":{\"type\":\"object\",\"name\":\"Scatter\",\"id\":\"p4331\",\"attributes\":{\"x\":{\"type\":\"field\",\"field\":\"x\"},\"y\":{\"type\":\"field\",\"field\":\"y\"},\"size\":{\"type\":\"field\",\"field\":\"size\"},\"line_color\":{\"type\":\"value\",\"value\":\"lightblue\"},\"line_alpha\":{\"type\":\"value\",\"value\":0.2},\"line_width\":{\"type\":\"value\",\"value\":3},\"fill_color\":{\"type\":\"value\",\"value\":null},\"fill_alpha\":{\"type\":\"value\",\"value\":0.2},\"hatch_alpha\":{\"type\":\"value\",\"value\":0.2},\"marker\":{\"type\":\"value\",\"value\":\"square_cross\"}}}}}],\"toolbar\":{\"type\":\"object\",\"name\":\"Toolbar\",\"id\":\"p4221\",\"attributes\":{\"tools\":[{\"type\":\"object\",\"name\":\"PanTool\",\"id\":\"p4236\"},{\"type\":\"object\",\"name\":\"WheelZoomTool\",\"id\":\"p4237\",\"attributes\":{\"renderers\":\"auto\"}},{\"type\":\"object\",\"name\":\"BoxZoomTool\",\"id\":\"p4238\",\"attributes\":{\"overlay\":{\"type\":\"object\",\"name\":\"BoxAnnotation\",\"id\":\"p4239\",\"attributes\":{\"syncable\":false,\"level\":\"overlay\",\"visible\":false,\"left\":{\"type\":\"number\",\"value\":\"nan\"},\"right\":{\"type\":\"number\",\"value\":\"nan\"},\"top\":{\"type\":\"number\",\"value\":\"nan\"},\"bottom\":{\"type\":\"number\",\"value\":\"nan\"},\"left_units\":\"canvas\",\"right_units\":\"canvas\",\"top_units\":\"canvas\",\"bottom_units\":\"canvas\",\"line_color\":\"black\",\"line_alpha\":1.0,\"line_width\":2,\"line_dash\":[4,4],\"fill_color\":\"lightgrey\",\"fill_alpha\":0.5}}}},{\"type\":\"object\",\"name\":\"SaveTool\",\"id\":\"p4244\"},{\"type\":\"object\",\"name\":\"ResetTool\",\"id\":\"p4245\"},{\"type\":\"object\",\"name\":\"HelpTool\",\"id\":\"p4246\"},{\"type\":\"object\",\"name\":\"HoverTool\",\"id\":\"p4278\",\"attributes\":{\"renderers\":\"auto\",\"tooltips\":[[\"Y-val\",\"@y{0.00}\"]]}}]}},\"left\":[{\"type\":\"object\",\"name\":\"LinearAxis\",\"id\":\"p4231\",\"attributes\":{\"ticker\":{\"type\":\"object\",\"name\":\"BasicTicker\",\"id\":\"p4232\",\"attributes\":{\"mantissas\":[1,2,5]}},\"formatter\":{\"type\":\"object\",\"name\":\"BasicTickFormatter\",\"id\":\"p4233\"},\"axis_label\":\"km/h\",\"axis_label_standoff\":10,\"axis_label_text_color\":\"#E0E0E0\",\"axis_label_text_font\":\"Helvetica\",\"axis_label_text_font_size\":\"1.25em\",\"axis_label_text_font_style\":\"normal\",\"major_label_policy\":{\"type\":\"object\",\"name\":\"AllLabels\",\"id\":\"p4234\"},\"major_label_text_color\":\"#E0E0E0\",\"major_label_text_font\":\"Helvetica\",\"major_label_text_font_size\":\"1.025em\",\"axis_line_color\":\"#E0E0E0\",\"axis_line_alpha\":0,\"major_tick_line_color\":\"#E0E0E0\",\"major_tick_line_alpha\":0,\"minor_tick_line_color\":\"#E0E0E0\",\"minor_tick_line_alpha\":0}},{\"type\":\"object\",\"name\":\"LinearAxis\",\"id\":\"p4249\",\"attributes\":{\"y_range_name\":\"altitudeFt\",\"ticker\":{\"type\":\"object\",\"name\":\"BasicTicker\",\"id\":\"p4250\",\"attributes\":{\"mantissas\":[1,2,5]}},\"formatter\":{\"type\":\"object\",\"name\":\"BasicTickFormatter\",\"id\":\"p4251\"},\"axis_label\":\"Alt (ft)\",\"axis_label_standoff\":10,\"axis_label_text_color\":\"#E0E0E0\",\"axis_label_text_font\":\"Helvetica\",\"axis_label_text_font_size\":\"1.25em\",\"axis_label_text_font_style\":\"normal\",\"major_label_policy\":{\"type\":\"object\",\"name\":\"AllLabels\",\"id\":\"p4252\"},\"major_label_text_color\":\"#E0E0E0\",\"major_label_text_font\":\"Helvetica\",\"major_label_text_font_size\":\"1.025em\",\"axis_line_color\":\"#E0E0E0\",\"axis_line_alpha\":0,\"major_tick_line_color\":\"#E0E0E0\",\"major_tick_line_alpha\":0,\"minor_tick_line_color\":\"#E0E0E0\",\"minor_tick_line_alpha\":0}},{\"type\":\"object\",\"name\":\"LinearAxis\",\"id\":\"p4253\",\"attributes\":{\"y_range_name\":\"angle\",\"ticker\":{\"type\":\"object\",\"name\":\"BasicTicker\",\"id\":\"p4254\",\"attributes\":{\"mantissas\":[1,2,5]}},\"formatter\":{\"type\":\"object\",\"name\":\"BasicTickFormatter\",\"id\":\"p4255\"},\"axis_label\":\"angle\",\"axis_label_standoff\":10,\"axis_label_text_color\":\"#E0E0E0\",\"axis_label_text_font\":\"Helvetica\",\"axis_label_text_font_size\":\"1.25em\",\"axis_label_text_font_style\":\"normal\",\"major_label_policy\":{\"type\":\"object\",\"name\":\"AllLabels\",\"id\":\"p4256\"},\"major_label_text_color\":\"#E0E0E0\",\"major_label_text_font\":\"Helvetica\",\"major_label_text_font_size\":\"1.025em\",\"axis_line_color\":\"#E0E0E0\",\"axis_line_alpha\":0,\"major_tick_line_color\":\"#E0E0E0\",\"major_tick_line_alpha\":0,\"minor_tick_line_color\":\"#E0E0E0\",\"minor_tick_line_alpha\":0}}],\"below\":[{\"type\":\"object\",\"name\":\"LinearAxis\",\"id\":\"p4226\",\"attributes\":{\"ticker\":{\"type\":\"object\",\"name\":\"BasicTicker\",\"id\":\"p4227\",\"attributes\":{\"mantissas\":[1,2,5]}},\"formatter\":{\"type\":\"object\",\"name\":\"BasicTickFormatter\",\"id\":\"p4228\"},\"axis_label\":\"seconds from exit\",\"axis_label_standoff\":10,\"axis_label_text_color\":\"#E0E0E0\",\"axis_label_text_font\":\"Helvetica\",\"axis_label_text_font_size\":\"1.25em\",\"axis_label_text_font_style\":\"normal\",\"major_label_policy\":{\"type\":\"object\",\"name\":\"AllLabels\",\"id\":\"p4229\"},\"major_label_text_color\":\"#E0E0E0\",\"major_label_text_font\":\"Helvetica\",\"major_label_text_font_size\":\"1.025em\",\"axis_line_color\":\"#E0E0E0\",\"axis_line_alpha\":0,\"major_tick_line_color\":\"#E0E0E0\",\"major_tick_line_alpha\":0,\"minor_tick_line_color\":\"#E0E0E0\",\"minor_tick_line_alpha\":0}}],\"center\":[{\"type\":\"object\",\"name\":\"Grid\",\"id\":\"p4230\",\"attributes\":{\"axis\":{\"id\":\"p4226\"},\"grid_line_color\":\"#E0E0E0\",\"grid_line_alpha\":0.25}},{\"type\":\"object\",\"name\":\"Grid\",\"id\":\"p4235\",\"attributes\":{\"dimension\":1,\"axis\":{\"id\":\"p4231\"},\"grid_line_color\":\"#E0E0E0\",\"grid_line_alpha\":0.25}},{\"type\":\"object\",\"name\":\"Legend\",\"id\":\"p4266\",\"attributes\":{\"border_line_alpha\":0,\"background_fill_color\":\"#20262B\",\"background_fill_alpha\":0.25,\"label_text_color\":\"#E0E0E0\",\"label_text_font\":\"Helvetica\",\"label_text_font_size\":\"1.025em\",\"label_standoff\":8,\"glyph_width\":15,\"spacing\":8,\"items\":[{\"type\":\"object\",\"name\":\"LegendItem\",\"id\":\"p4267\",\"attributes\":{\"label\":{\"type\":\"value\",\"value\":\"Alt (ft)\"},\"renderers\":[{\"id\":\"p4263\"}]}},{\"type\":\"object\",\"name\":\"LegendItem\",\"id\":\"p4277\",\"attributes\":{\"label\":{\"type\":\"value\",\"value\":\"angle\"},\"renderers\":[{\"id\":\"p4274\"}]}},{\"type\":\"object\",\"name\":\"LegendItem\",\"id\":\"p4288\",\"attributes\":{\"label\":{\"type\":\"value\",\"value\":\"speed\"},\"renderers\":[{\"id\":\"p4285\"}]}},{\"type\":\"object\",\"name\":\"LegendItem\",\"id\":\"p4298\",\"attributes\":{\"label\":{\"type\":\"value\",\"value\":\"H-speed\"},\"renderers\":[{\"id\":\"p4295\"}]}}]}}],\"background_fill_color\":\"#20262B\",\"border_fill_color\":\"#15191C\"}}]}};\n",
       "  const render_items = [{\"docid\":\"4aac3b91-1525-4435-a0e9-7454d493eb3c\",\"roots\":{\"p4212\":\"a85110bd-8016-4664-a3e7-606b2b18e115\"},\"root_ids\":[\"p4212\"]}];\n",
       "  void root.Bokeh.embed.embed_items_notebook(docs_json, render_items);\n",
       "  }\n",
       "  if (root.Bokeh !== undefined) {\n",
       "    embed_document(root);\n",
       "  } else {\n",
       "    let attempts = 0;\n",
       "    const timer = setInterval(function(root) {\n",
       "      if (root.Bokeh !== undefined) {\n",
       "        clearInterval(timer);\n",
       "        embed_document(root);\n",
       "      } else {\n",
       "        attempts++;\n",
       "        if (attempts > 100) {\n",
       "          clearInterval(timer);\n",
       "          console.log(\"Bokeh: ERROR: Unable to run BokehJS code because BokehJS library is missing\");\n",
       "        }\n",
       "      }\n",
       "    }, 10, root)\n",
       "  }\n",
       "})(window);"
      ],
      "application/vnd.bokehjs_exec.v0+json": ""
     },
     "metadata": {
      "application/vnd.bokehjs_exec.v0+json": {
       "id": "p4212"
      }
     },
     "output_type": "display_data"
    },
    {
     "data": {
      "application/vnd.jupyter.widget-view+json": {
       "model_id": "d0e6e9e0469c4d0b8e228482775e66c0",
       "version_major": 2,
       "version_minor": 0
      },
      "text/plain": [
       "HTML(value='<hr><h1><span style=\"color: #0f0\">12-19-48 jump - 🟢 valid - score = 451.60 km/h</span></h1>')"
      ]
     },
     "metadata": {},
     "output_type": "display_data"
    },
    {
     "data": {
      "application/vnd.jupyter.widget-view+json": {
       "model_id": "ba317f1a87104b948ea0b0b0a54e94a5",
       "version_major": 2,
       "version_minor": 0
      },
      "text/plain": [
       "HTML(value='<h3>Max speed = 453; exit at 4084 m (13401 ft), end scoring window at 1828 m (5999 ft)')"
      ]
     },
     "metadata": {},
     "output_type": "display_data"
    },
    {
     "data": {
      "application/vnd.jupyter.widget-view+json": {
       "model_id": "9dada879a01244b5a15d873175215f8a",
       "version_major": 2,
       "version_minor": 0
      },
      "text/plain": [
       "HTML(value='</h3>')"
      ]
     },
     "metadata": {},
     "output_type": "display_data"
    },
    {
     "data": {
      "text/html": [
       "<div>\n",
       "<style scoped>\n",
       "    .dataframe tbody tr th:only-of-type {\n",
       "        vertical-align: middle;\n",
       "    }\n",
       "\n",
       "    .dataframe tbody tr th {\n",
       "        vertical-align: top;\n",
       "    }\n",
       "\n",
       "    .dataframe thead th {\n",
       "        text-align: right;\n",
       "    }\n",
       "</style>\n",
       "<table border=\"1\" class=\"dataframe\">\n",
       "  <thead>\n",
       "    <tr style=\"text-align: right;\">\n",
       "      <th></th>\n",
       "      <th>time</th>\n",
       "      <th>vKMh</th>\n",
       "      <th>hKMh</th>\n",
       "      <th>speedAngle</th>\n",
       "      <th>netVectorKMh</th>\n",
       "      <th>altitude (ft)</th>\n",
       "    </tr>\n",
       "  </thead>\n",
       "  <tbody>\n",
       "    <tr>\n",
       "      <th></th>\n",
       "      <td>5.0</td>\n",
       "      <td>175</td>\n",
       "      <td>135</td>\n",
       "      <td>52.3</td>\n",
       "      <td>221</td>\n",
       "      <td>12987</td>\n",
       "    </tr>\n",
       "    <tr>\n",
       "      <th></th>\n",
       "      <td>10.0</td>\n",
       "      <td>312</td>\n",
       "      <td>99</td>\n",
       "      <td>72.3</td>\n",
       "      <td>327</td>\n",
       "      <td>11851</td>\n",
       "    </tr>\n",
       "    <tr>\n",
       "      <th></th>\n",
       "      <td>15.0</td>\n",
       "      <td>399</td>\n",
       "      <td>80</td>\n",
       "      <td>78.6</td>\n",
       "      <td>407</td>\n",
       "      <td>10208</td>\n",
       "    </tr>\n",
       "    <tr>\n",
       "      <th></th>\n",
       "      <td>20.0</td>\n",
       "      <td>443</td>\n",
       "      <td>69</td>\n",
       "      <td>81.1</td>\n",
       "      <td>448</td>\n",
       "      <td>8268</td>\n",
       "    </tr>\n",
       "    <tr>\n",
       "      <th></th>\n",
       "      <td>25.0</td>\n",
       "      <td>453</td>\n",
       "      <td>69</td>\n",
       "      <td>81.3</td>\n",
       "      <td>458</td>\n",
       "      <td>6214</td>\n",
       "    </tr>\n",
       "  </tbody>\n",
       "</table>\n",
       "</div>"
      ],
      "text/plain": [
       "  time  vKMh  hKMh  speedAngle  netVectorKMh  altitude (ft)\n",
       "   5.0   175   135        52.3           221          12987\n",
       "  10.0   312    99        72.3           327          11851\n",
       "  15.0   399    80        78.6           407          10208\n",
       "  20.0   443    69        81.1           448           8268\n",
       "  25.0   453    69        81.3           458           6214"
      ]
     },
     "metadata": {},
     "output_type": "display_data"
    },
    {
     "data": {
      "text/html": [
       "\n",
       "  <div id=\"f7848c55-b79b-4c70-b885-5d32862df8bb\" data-root-id=\"p4353\" style=\"display: contents;\"></div>\n"
      ]
     },
     "metadata": {},
     "output_type": "display_data"
    },
    {
     "data": {
      "application/javascript": [
       "(function(root) {\n",
       "  function embed_document(root) {\n",
       "  const docs_json = {\"ab92007b-bbac-4a67-9c94-a5002ffbf7b5\":{\"version\":\"3.4.1\",\"title\":\"Bokeh Application\",\"roots\":[{\"type\":\"object\",\"name\":\"Figure\",\"id\":\"p4353\",\"attributes\":{\"width\":900,\"height\":500,\"x_range\":{\"type\":\"object\",\"name\":\"Range1d\",\"id\":\"p4363\",\"attributes\":{\"end\":35.0}},\"y_range\":{\"type\":\"object\",\"name\":\"Range1d\",\"id\":\"p4364\",\"attributes\":{\"end\":550.0}},\"x_scale\":{\"type\":\"object\",\"name\":\"LinearScale\",\"id\":\"p4365\"},\"y_scale\":{\"type\":\"object\",\"name\":\"LinearScale\",\"id\":\"p4366\"},\"extra_y_ranges\":{\"type\":\"map\",\"entries\":[[\"altitudeFt\",{\"type\":\"object\",\"name\":\"Range1d\",\"id\":\"p4388\",\"attributes\":{\"start\":5508.104482400001,\"end\":13901.256050400001}}],[\"angle\",{\"type\":\"object\",\"name\":\"Range1d\",\"id\":\"p4389\",\"attributes\":{\"end\":90.0}}]]},\"title\":{\"type\":\"object\",\"name\":\"Title\",\"id\":\"p4356\",\"attributes\":{\"text\":\"12-19-48\",\"text_color\":\"#E0E0E0\",\"text_font\":\"Helvetica\",\"text_font_size\":\"1.15em\"}},\"outline_line_color\":\"#E0E0E0\",\"outline_line_alpha\":0.25,\"renderers\":[{\"type\":\"object\",\"name\":\"GlyphRenderer\",\"id\":\"p4404\",\"attributes\":{\"y_range_name\":\"altitudeFt\",\"data_source\":{\"type\":\"object\",\"name\":\"ColumnDataSource\",\"id\":\"p4398\",\"attributes\":{\"selected\":{\"type\":\"object\",\"name\":\"Selection\",\"id\":\"p4399\",\"attributes\":{\"indices\":[],\"line_indices\":[]}},\"selection_policy\":{\"type\":\"object\",\"name\":\"UnionRenderers\",\"id\":\"p4400\"},\"data\":{\"type\":\"map\",\"entries\":[[\"x\",{\"type\":\"ndarray\",\"array\":{\"type\":\"bytes\",\"data\":\"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\"},\"shape\":[211],\"dtype\":\"float64\",\"order\":\"little\"}],[\"y\",{\"type\":\"ndarray\",\"array\":{\"type\":\"bytes\",\"data\":\"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\"},\"shape\":[211],\"dtype\":\"float64\",\"order\":\"little\"}]]}}},\"view\":{\"type\":\"object\",\"name\":\"CDSView\",\"id\":\"p4405\",\"attributes\":{\"filter\":{\"type\":\"object\",\"name\":\"AllIndices\",\"id\":\"p4406\"}}},\"glyph\":{\"type\":\"object\",\"name\":\"Line\",\"id\":\"p4401\",\"attributes\":{\"x\":{\"type\":\"field\",\"field\":\"x\"},\"y\":{\"type\":\"field\",\"field\":\"y\"},\"line_color\":\"palegoldenrod\",\"line_width\":2}},\"nonselection_glyph\":{\"type\":\"object\",\"name\":\"Line\",\"id\":\"p4402\",\"attributes\":{\"x\":{\"type\":\"field\",\"field\":\"x\"},\"y\":{\"type\":\"field\",\"field\":\"y\"},\"line_color\":\"palegoldenrod\",\"line_alpha\":0.1,\"line_width\":2}},\"muted_glyph\":{\"type\":\"object\",\"name\":\"Line\",\"id\":\"p4403\",\"attributes\":{\"x\":{\"type\":\"field\",\"field\":\"x\"},\"y\":{\"type\":\"field\",\"field\":\"y\"},\"line_color\":\"palegoldenrod\",\"line_alpha\":0.2,\"line_width\":2}}}},{\"type\":\"object\",\"name\":\"GlyphRenderer\",\"id\":\"p4415\",\"attributes\":{\"y_range_name\":\"angle\",\"data_source\":{\"type\":\"object\",\"name\":\"ColumnDataSource\",\"id\":\"p4409\",\"attributes\":{\"selected\":{\"type\":\"object\",\"name\":\"Selection\",\"id\":\"p4410\",\"attributes\":{\"indices\":[],\"line_indices\":[]}},\"selection_policy\":{\"type\":\"object\",\"name\":\"UnionRenderers\",\"id\":\"p4411\"},\"data\":{\"type\":\"map\",\"entries\":[[\"x\",{\"type\":\"ndarray\",\"array\":{\"type\":\"bytes\",\"data\":\"AAAAAAAAAAAAAAAAmJm5PwAAAACamck/AAAAADMz0z8AAAAAmZnZPwAAAAAAAOA/AAAAADMz4z8AAACAZmbmPwAAAICZmek/AAAAgMzM7D8AAAAAAADwPwAAAICZmfE/AAAAQDMz8z8AAADAzMz0PwAAAEBmZvY/AAAAAAAA+D8AAACAmZn5PwAAAEAzM/s/AAAAwMzM/D8AAABAZmb+PwAAAAAAAABAAAAAwMzMAEAAAACgmZkBQAAAAGBmZgJAAAAAIDMzA0AAAAAAAAAEQAAAAMDMzARAAAAAoJmZBUAAAABgZmYGQAAAACAzMwdAAAAAAAAACEAAAADAzMwIQAAAAKCZmQlAAAAAYGZmCkAAAAAgMzMLQAAAAAAAAAxAAAAAwMzMDEAAAACgmZkNQAAAAGBmZg5AAAAAIDMzD0AAAAAAAAAQQAAAAGBmZhBAAAAA0MzMEEAAAAAwMzMRQAAAAJCZmRFAAAAAAAAAEkAAAABgZmYSQAAAANDMzBJAAAAAMDMzE0AAAACQmZkTQAAAAAAAABRAAAAA0MzMFEAAAAAwMzMVQAAAAJCZmRVAAAAAAAAAFkAAAADQzMwWQAAAADAzMxdAAAAAAAAAGEAAAABgZmYYQAAAANDMzBhAAAAAMDMzGUAAAACQmZkZQAAAAGBmZhpAAAAAMDMzG0AAAACQmZkbQAAAAAAAABxAAAAAYGZmHEAAAADQzMwcQAAAAJCZmR1AAAAAAAAAHkAAAABgZmYeQAAAANDMzB5AAAAAMDMzH0AAAAAAAAAgQAAAAGhmZiBAAAAAmJmZIEAAAADIzMwgQAAAAAAAACFAAAAAMDMzIUAAAACYmZkhQAAAAMjMzCFAAAAAAAAAIkAAAAAwMzMiQAAAAGhmZiJAAAAAyMzMIkAAAAAAAAAjQAAAADAzMyNAAAAAaGZmI0AAAADIzMwjQAAAAAAAACRAAAAAaGZmJEAAAACYmZkkQAAAAMjMzCRAAAAAAAAAJUAAAAAwMzMlQAAAAJiZmSVAAAAAAAAAJkAAAAAwMzMmQAAAAGhmZiZAAAAAmJmZJkAAAADIzMwmQAAAADAzMydAAAAAaGZmJ0AAAACYmZknQAAAAMjMzCdAAAAAAAAAKEAAAABoZmYoQAAAAJiZmShAAAAAyMzMKEAAAAAAAAApQAAAAGhmZilAAAAAmJmZKUAAAAAAAAAqQAAAADAzMypAAAAAaGZmKkAAAACYmZkqQAAAAAAAACtAAAAAMDMzK0AAAABoZmYrQAAAAJiZmStAAAAAyMzMK0AAAAAwMzMsQAAAAGhmZixAAAAAmJmZLEAAAADIzMwsQAAAAAAAAC1AAAAAaGZmLUAAAADIzMwtQAAAAAAAAC5AAAAAaGZmLkAAAACYmZkuQAAAAMjMzC5AAAAAAAAAL0AAAAAwMzMvQAAAAJiZmS9AAAAAyMzML0AAAAAAAAAwQAAAAJiZGTBAAAAAzMxMMEAAAABkZmYwQAAAAJiZmTBAAAAANDOzMEAAAADMzMwwQAAAAGRm5jBAAAAAAAAAMUAAAAA0MzMxQAAAAGRmZjFAAAAAAACAMUAAAAA0M7MxQAAAAMzMzDFAAAAAZGbmMUAAAAAAAAAyQAAAAJiZGTJAAAAAzMxMMkAAAABkZmYyQAAAAAAAgDJAAAAAmJmZMkAAAADMzMwyQAAAAGRm5jJAAAAAAAAAM0AAAACYmRkzQAAAADQzMzNAAAAAZGZmM0AAAAAAAIAzQAAAADQzszNAAAAAzMzMM0AAAAAAAAA0QAAAAJiZGTRAAAAANDMzNEAAAADMzEw0QAAAAAAAgDRAAAAAmJmZNEAAAAA0M7M0QAAAAMzMzDRAAAAAZGbmNEAAAACYmRk1QAAAADQzMzVAAAAAzMxMNUAAAABkZmY1QAAAAJiZmTVAAAAANDOzNUAAAABkZuY1QAAAAAAAADZAAAAAmJkZNkAAAAA0MzM2QAAAAMzMTDZAAAAAZGZmNkAAAAAAAIA2QAAAADQzszZAAAAAzMzMNkAAAAAAAAA3QAAAAJiZGTdAAAAANDMzN0AAAADMzEw3QAAAAGRmZjdAAAAAAACAN0AAAACYmZk3QAAAAMzMzDdAAAAAZGbmN0AAAACYmRk4QAAAADQzMzhAAAAAZGZmOEAAAAAAAIA4QAAAAJiZmThAAAAANDOzOEAAAADMzMw4QAAAAAAAADlAAAAAmJkZOUAAAAA0MzM5QAAAAMzMTDlAAAAAAACAOUA=\"},\"shape\":[211],\"dtype\":\"float64\",\"order\":\"little\"}],[\"y\",{\"type\":\"ndarray\",\"array\":{\"type\":\"bytes\",\"data\":\"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\"},\"shape\":[211],\"dtype\":\"float64\",\"order\":\"little\"}]]}}},\"view\":{\"type\":\"object\",\"name\":\"CDSView\",\"id\":\"p4416\",\"attributes\":{\"filter\":{\"type\":\"object\",\"name\":\"AllIndices\",\"id\":\"p4417\"}}},\"glyph\":{\"type\":\"object\",\"name\":\"Line\",\"id\":\"p4412\",\"attributes\":{\"x\":{\"type\":\"field\",\"field\":\"x\"},\"y\":{\"type\":\"field\",\"field\":\"y\"},\"line_color\":\"deepskyblue\",\"line_width\":2}},\"nonselection_glyph\":{\"type\":\"object\",\"name\":\"Line\",\"id\":\"p4413\",\"attributes\":{\"x\":{\"type\":\"field\",\"field\":\"x\"},\"y\":{\"type\":\"field\",\"field\":\"y\"},\"line_color\":\"deepskyblue\",\"line_alpha\":0.1,\"line_width\":2}},\"muted_glyph\":{\"type\":\"object\",\"name\":\"Line\",\"id\":\"p4414\",\"attributes\":{\"x\":{\"type\":\"field\",\"field\":\"x\"},\"y\":{\"type\":\"field\",\"field\":\"y\"},\"line_color\":\"deepskyblue\",\"line_alpha\":0.2,\"line_width\":2}}}},{\"type\":\"object\",\"name\":\"GlyphRenderer\",\"id\":\"p4426\",\"attributes\":{\"data_source\":{\"type\":\"object\",\"name\":\"ColumnDataSource\",\"id\":\"p4420\",\"attributes\":{\"selected\":{\"type\":\"object\",\"name\":\"Selection\",\"id\":\"p4421\",\"attributes\":{\"indices\":[],\"line_indices\":[]}},\"selection_policy\":{\"type\":\"object\",\"name\":\"UnionRenderers\",\"id\":\"p4422\"},\"data\":{\"type\":\"map\",\"entries\":[[\"x\",{\"type\":\"ndarray\",\"array\":{\"type\":\"bytes\",\"data\":\"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\"},\"shape\":[211],\"dtype\":\"float64\",\"order\":\"little\"}],[\"y\",{\"type\":\"ndarray\",\"array\":{\"type\":\"bytes\",\"data\":\"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\"},\"shape\":[211],\"dtype\":\"float64\",\"order\":\"little\"}]]}}},\"view\":{\"type\":\"object\",\"name\":\"CDSView\",\"id\":\"p4427\",\"attributes\":{\"filter\":{\"type\":\"object\",\"name\":\"AllIndices\",\"id\":\"p4428\"}}},\"glyph\":{\"type\":\"object\",\"name\":\"Line\",\"id\":\"p4423\",\"attributes\":{\"x\":{\"type\":\"field\",\"field\":\"x\"},\"y\":{\"type\":\"field\",\"field\":\"y\"},\"line_color\":\"limegreen\",\"line_width\":2}},\"nonselection_glyph\":{\"type\":\"object\",\"name\":\"Line\",\"id\":\"p4424\",\"attributes\":{\"x\":{\"type\":\"field\",\"field\":\"x\"},\"y\":{\"type\":\"field\",\"field\":\"y\"},\"line_color\":\"limegreen\",\"line_alpha\":0.1,\"line_width\":2}},\"muted_glyph\":{\"type\":\"object\",\"name\":\"Line\",\"id\":\"p4425\",\"attributes\":{\"x\":{\"type\":\"field\",\"field\":\"x\"},\"y\":{\"type\":\"field\",\"field\":\"y\"},\"line_color\":\"limegreen\",\"line_alpha\":0.2,\"line_width\":2}}}},{\"type\":\"object\",\"name\":\"GlyphRenderer\",\"id\":\"p4436\",\"attributes\":{\"data_source\":{\"type\":\"object\",\"name\":\"ColumnDataSource\",\"id\":\"p4430\",\"attributes\":{\"selected\":{\"type\":\"object\",\"name\":\"Selection\",\"id\":\"p4431\",\"attributes\":{\"indices\":[],\"line_indices\":[]}},\"selection_policy\":{\"type\":\"object\",\"name\":\"UnionRenderers\",\"id\":\"p4432\"},\"data\":{\"type\":\"map\",\"entries\":[[\"x\",{\"type\":\"ndarray\",\"array\":{\"type\":\"bytes\",\"data\":\"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\"},\"shape\":[211],\"dtype\":\"float64\",\"order\":\"little\"}],[\"y\",{\"type\":\"ndarray\",\"array\":{\"type\":\"bytes\",\"data\":\"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\"},\"shape\":[211],\"dtype\":\"float64\",\"order\":\"little\"}]]}}},\"view\":{\"type\":\"object\",\"name\":\"CDSView\",\"id\":\"p4437\",\"attributes\":{\"filter\":{\"type\":\"object\",\"name\":\"AllIndices\",\"id\":\"p4438\"}}},\"glyph\":{\"type\":\"object\",\"name\":\"Line\",\"id\":\"p4433\",\"attributes\":{\"x\":{\"type\":\"field\",\"field\":\"x\"},\"y\":{\"type\":\"field\",\"field\":\"y\"},\"line_color\":\"red\",\"line_width\":2}},\"nonselection_glyph\":{\"type\":\"object\",\"name\":\"Line\",\"id\":\"p4434\",\"attributes\":{\"x\":{\"type\":\"field\",\"field\":\"x\"},\"y\":{\"type\":\"field\",\"field\":\"y\"},\"line_color\":\"red\",\"line_alpha\":0.1,\"line_width\":2}},\"muted_glyph\":{\"type\":\"object\",\"name\":\"Line\",\"id\":\"p4435\",\"attributes\":{\"x\":{\"type\":\"field\",\"field\":\"x\"},\"y\":{\"type\":\"field\",\"field\":\"y\"},\"line_color\":\"red\",\"line_alpha\":0.2,\"line_width\":2}}}},{\"type\":\"object\",\"name\":\"GlyphRenderer\",\"id\":\"p4446\",\"attributes\":{\"data_source\":{\"type\":\"object\",\"name\":\"ColumnDataSource\",\"id\":\"p4440\",\"attributes\":{\"selected\":{\"type\":\"object\",\"name\":\"Selection\",\"id\":\"p4441\",\"attributes\":{\"indices\":[],\"line_indices\":[]}},\"selection_policy\":{\"type\":\"object\",\"name\":\"UnionRenderers\",\"id\":\"p4442\"},\"data\":{\"type\":\"map\",\"entries\":[[\"x0\",[22.299999952316284]],[\"y0\",[0.0]],[\"x1\",[22.299999952316284]],[\"y1\",[451.602]]]}}},\"view\":{\"type\":\"object\",\"name\":\"CDSView\",\"id\":\"p4447\",\"attributes\":{\"filter\":{\"type\":\"object\",\"name\":\"AllIndices\",\"id\":\"p4448\"}}},\"glyph\":{\"type\":\"object\",\"name\":\"Segment\",\"id\":\"p4443\",\"attributes\":{\"x0\":{\"type\":\"field\",\"field\":\"x0\"},\"y0\":{\"type\":\"field\",\"field\":\"y0\"},\"x1\":{\"type\":\"field\",\"field\":\"x1\"},\"y1\":{\"type\":\"field\",\"field\":\"y1\"},\"line_color\":{\"type\":\"value\",\"value\":\"lightblue\"},\"line_width\":{\"type\":\"value\",\"value\":3}}},\"nonselection_glyph\":{\"type\":\"object\",\"name\":\"Segment\",\"id\":\"p4444\",\"attributes\":{\"x0\":{\"type\":\"field\",\"field\":\"x0\"},\"y0\":{\"type\":\"field\",\"field\":\"y0\"},\"x1\":{\"type\":\"field\",\"field\":\"x1\"},\"y1\":{\"type\":\"field\",\"field\":\"y1\"},\"line_color\":{\"type\":\"value\",\"value\":\"lightblue\"},\"line_alpha\":{\"type\":\"value\",\"value\":0.1},\"line_width\":{\"type\":\"value\",\"value\":3}}},\"muted_glyph\":{\"type\":\"object\",\"name\":\"Segment\",\"id\":\"p4445\",\"attributes\":{\"x0\":{\"type\":\"field\",\"field\":\"x0\"},\"y0\":{\"type\":\"field\",\"field\":\"y0\"},\"x1\":{\"type\":\"field\",\"field\":\"x1\"},\"y1\":{\"type\":\"field\",\"field\":\"y1\"},\"line_color\":{\"type\":\"value\",\"value\":\"lightblue\"},\"line_alpha\":{\"type\":\"value\",\"value\":0.2},\"line_width\":{\"type\":\"value\",\"value\":3}}}}},{\"type\":\"object\",\"name\":\"GlyphRenderer\",\"id\":\"p4455\",\"attributes\":{\"data_source\":{\"type\":\"object\",\"name\":\"ColumnDataSource\",\"id\":\"p4449\",\"attributes\":{\"selected\":{\"type\":\"object\",\"name\":\"Selection\",\"id\":\"p4450\",\"attributes\":{\"indices\":[],\"line_indices\":[]}},\"selection_policy\":{\"type\":\"object\",\"name\":\"UnionRenderers\",\"id\":\"p4451\"},\"data\":{\"type\":\"map\",\"entries\":[[\"x0\",[23.799999952316284]],[\"y0\",[0.0]],[\"x1\",[23.799999952316284]],[\"y1\",[451.602]]]}}},\"view\":{\"type\":\"object\",\"name\":\"CDSView\",\"id\":\"p4456\",\"attributes\":{\"filter\":{\"type\":\"object\",\"name\":\"AllIndices\",\"id\":\"p4457\"}}},\"glyph\":{\"type\":\"object\",\"name\":\"Segment\",\"id\":\"p4452\",\"attributes\":{\"x0\":{\"type\":\"field\",\"field\":\"x0\"},\"y0\":{\"type\":\"field\",\"field\":\"y0\"},\"x1\":{\"type\":\"field\",\"field\":\"x1\"},\"y1\":{\"type\":\"field\",\"field\":\"y1\"},\"line_color\":{\"type\":\"value\",\"value\":\"darkseagreen\"}}},\"nonselection_glyph\":{\"type\":\"object\",\"name\":\"Segment\",\"id\":\"p4453\",\"attributes\":{\"x0\":{\"type\":\"field\",\"field\":\"x0\"},\"y0\":{\"type\":\"field\",\"field\":\"y0\"},\"x1\":{\"type\":\"field\",\"field\":\"x1\"},\"y1\":{\"type\":\"field\",\"field\":\"y1\"},\"line_color\":{\"type\":\"value\",\"value\":\"darkseagreen\"},\"line_alpha\":{\"type\":\"value\",\"value\":0.1}}},\"muted_glyph\":{\"type\":\"object\",\"name\":\"Segment\",\"id\":\"p4454\",\"attributes\":{\"x0\":{\"type\":\"field\",\"field\":\"x0\"},\"y0\":{\"type\":\"field\",\"field\":\"y0\"},\"x1\":{\"type\":\"field\",\"field\":\"x1\"},\"y1\":{\"type\":\"field\",\"field\":\"y1\"},\"line_color\":{\"type\":\"value\",\"value\":\"darkseagreen\"},\"line_alpha\":{\"type\":\"value\",\"value\":0.2}}}}},{\"type\":\"object\",\"name\":\"GlyphRenderer\",\"id\":\"p4464\",\"attributes\":{\"data_source\":{\"type\":\"object\",\"name\":\"ColumnDataSource\",\"id\":\"p4458\",\"attributes\":{\"selected\":{\"type\":\"object\",\"name\":\"Selection\",\"id\":\"p4459\",\"attributes\":{\"indices\":[],\"line_indices\":[]}},\"selection_policy\":{\"type\":\"object\",\"name\":\"UnionRenderers\",\"id\":\"p4460\"},\"data\":{\"type\":\"map\",\"entries\":[[\"x0\",[20.799999952316284]],[\"y0\",[0.0]],[\"x1\",[20.799999952316284]],[\"y1\",[451.602]]]}}},\"view\":{\"type\":\"object\",\"name\":\"CDSView\",\"id\":\"p4465\",\"attributes\":{\"filter\":{\"type\":\"object\",\"name\":\"AllIndices\",\"id\":\"p4466\"}}},\"glyph\":{\"type\":\"object\",\"name\":\"Segment\",\"id\":\"p4461\",\"attributes\":{\"x0\":{\"type\":\"field\",\"field\":\"x0\"},\"y0\":{\"type\":\"field\",\"field\":\"y0\"},\"x1\":{\"type\":\"field\",\"field\":\"x1\"},\"y1\":{\"type\":\"field\",\"field\":\"y1\"},\"line_color\":{\"type\":\"value\",\"value\":\"darkseagreen\"}}},\"nonselection_glyph\":{\"type\":\"object\",\"name\":\"Segment\",\"id\":\"p4462\",\"attributes\":{\"x0\":{\"type\":\"field\",\"field\":\"x0\"},\"y0\":{\"type\":\"field\",\"field\":\"y0\"},\"x1\":{\"type\":\"field\",\"field\":\"x1\"},\"y1\":{\"type\":\"field\",\"field\":\"y1\"},\"line_color\":{\"type\":\"value\",\"value\":\"darkseagreen\"},\"line_alpha\":{\"type\":\"value\",\"value\":0.1}}},\"muted_glyph\":{\"type\":\"object\",\"name\":\"Segment\",\"id\":\"p4463\",\"attributes\":{\"x0\":{\"type\":\"field\",\"field\":\"x0\"},\"y0\":{\"type\":\"field\",\"field\":\"y0\"},\"x1\":{\"type\":\"field\",\"field\":\"x1\"},\"y1\":{\"type\":\"field\",\"field\":\"y1\"},\"line_color\":{\"type\":\"value\",\"value\":\"darkseagreen\"},\"line_alpha\":{\"type\":\"value\",\"value\":0.2}}}}},{\"type\":\"object\",\"name\":\"GlyphRenderer\",\"id\":\"p4473\",\"attributes\":{\"data_source\":{\"type\":\"object\",\"name\":\"ColumnDataSource\",\"id\":\"p4467\",\"attributes\":{\"selected\":{\"type\":\"object\",\"name\":\"Selection\",\"id\":\"p4468\",\"attributes\":{\"indices\":[],\"line_indices\":[]}},\"selection_policy\":{\"type\":\"object\",\"name\":\"UnionRenderers\",\"id\":\"p4469\"},\"data\":{\"type\":\"map\",\"entries\":[[\"x\",[22.299999952316284]],[\"y\",[451.602]],[\"size\",[20]]]}}},\"view\":{\"type\":\"object\",\"name\":\"CDSView\",\"id\":\"p4474\",\"attributes\":{\"filter\":{\"type\":\"object\",\"name\":\"AllIndices\",\"id\":\"p4475\"}}},\"glyph\":{\"type\":\"object\",\"name\":\"Scatter\",\"id\":\"p4470\",\"attributes\":{\"x\":{\"type\":\"field\",\"field\":\"x\"},\"y\":{\"type\":\"field\",\"field\":\"y\"},\"size\":{\"type\":\"field\",\"field\":\"size\"},\"line_color\":{\"type\":\"value\",\"value\":\"lightblue\"},\"line_width\":{\"type\":\"value\",\"value\":3},\"fill_color\":{\"type\":\"value\",\"value\":null},\"marker\":{\"type\":\"value\",\"value\":\"square_cross\"}}},\"nonselection_glyph\":{\"type\":\"object\",\"name\":\"Scatter\",\"id\":\"p4471\",\"attributes\":{\"x\":{\"type\":\"field\",\"field\":\"x\"},\"y\":{\"type\":\"field\",\"field\":\"y\"},\"size\":{\"type\":\"field\",\"field\":\"size\"},\"line_color\":{\"type\":\"value\",\"value\":\"lightblue\"},\"line_alpha\":{\"type\":\"value\",\"value\":0.1},\"line_width\":{\"type\":\"value\",\"value\":3},\"fill_color\":{\"type\":\"value\",\"value\":null},\"fill_alpha\":{\"type\":\"value\",\"value\":0.1},\"hatch_alpha\":{\"type\":\"value\",\"value\":0.1},\"marker\":{\"type\":\"value\",\"value\":\"square_cross\"}}},\"muted_glyph\":{\"type\":\"object\",\"name\":\"Scatter\",\"id\":\"p4472\",\"attributes\":{\"x\":{\"type\":\"field\",\"field\":\"x\"},\"y\":{\"type\":\"field\",\"field\":\"y\"},\"size\":{\"type\":\"field\",\"field\":\"size\"},\"line_color\":{\"type\":\"value\",\"value\":\"lightblue\"},\"line_alpha\":{\"type\":\"value\",\"value\":0.2},\"line_width\":{\"type\":\"value\",\"value\":3},\"fill_color\":{\"type\":\"value\",\"value\":null},\"fill_alpha\":{\"type\":\"value\",\"value\":0.2},\"hatch_alpha\":{\"type\":\"value\",\"value\":0.2},\"marker\":{\"type\":\"value\",\"value\":\"square_cross\"}}}}}],\"toolbar\":{\"type\":\"object\",\"name\":\"Toolbar\",\"id\":\"p4362\",\"attributes\":{\"tools\":[{\"type\":\"object\",\"name\":\"PanTool\",\"id\":\"p4377\"},{\"type\":\"object\",\"name\":\"WheelZoomTool\",\"id\":\"p4378\",\"attributes\":{\"renderers\":\"auto\"}},{\"type\":\"object\",\"name\":\"BoxZoomTool\",\"id\":\"p4379\",\"attributes\":{\"overlay\":{\"type\":\"object\",\"name\":\"BoxAnnotation\",\"id\":\"p4380\",\"attributes\":{\"syncable\":false,\"level\":\"overlay\",\"visible\":false,\"left\":{\"type\":\"number\",\"value\":\"nan\"},\"right\":{\"type\":\"number\",\"value\":\"nan\"},\"top\":{\"type\":\"number\",\"value\":\"nan\"},\"bottom\":{\"type\":\"number\",\"value\":\"nan\"},\"left_units\":\"canvas\",\"right_units\":\"canvas\",\"top_units\":\"canvas\",\"bottom_units\":\"canvas\",\"line_color\":\"black\",\"line_alpha\":1.0,\"line_width\":2,\"line_dash\":[4,4],\"fill_color\":\"lightgrey\",\"fill_alpha\":0.5}}}},{\"type\":\"object\",\"name\":\"SaveTool\",\"id\":\"p4385\"},{\"type\":\"object\",\"name\":\"ResetTool\",\"id\":\"p4386\"},{\"type\":\"object\",\"name\":\"HelpTool\",\"id\":\"p4387\"},{\"type\":\"object\",\"name\":\"HoverTool\",\"id\":\"p4419\",\"attributes\":{\"renderers\":\"auto\",\"tooltips\":[[\"Y-val\",\"@y{0.00}\"]]}}]}},\"left\":[{\"type\":\"object\",\"name\":\"LinearAxis\",\"id\":\"p4372\",\"attributes\":{\"ticker\":{\"type\":\"object\",\"name\":\"BasicTicker\",\"id\":\"p4373\",\"attributes\":{\"mantissas\":[1,2,5]}},\"formatter\":{\"type\":\"object\",\"name\":\"BasicTickFormatter\",\"id\":\"p4374\"},\"axis_label\":\"km/h\",\"axis_label_standoff\":10,\"axis_label_text_color\":\"#E0E0E0\",\"axis_label_text_font\":\"Helvetica\",\"axis_label_text_font_size\":\"1.25em\",\"axis_label_text_font_style\":\"normal\",\"major_label_policy\":{\"type\":\"object\",\"name\":\"AllLabels\",\"id\":\"p4375\"},\"major_label_text_color\":\"#E0E0E0\",\"major_label_text_font\":\"Helvetica\",\"major_label_text_font_size\":\"1.025em\",\"axis_line_color\":\"#E0E0E0\",\"axis_line_alpha\":0,\"major_tick_line_color\":\"#E0E0E0\",\"major_tick_line_alpha\":0,\"minor_tick_line_color\":\"#E0E0E0\",\"minor_tick_line_alpha\":0}},{\"type\":\"object\",\"name\":\"LinearAxis\",\"id\":\"p4390\",\"attributes\":{\"y_range_name\":\"altitudeFt\",\"ticker\":{\"type\":\"object\",\"name\":\"BasicTicker\",\"id\":\"p4391\",\"attributes\":{\"mantissas\":[1,2,5]}},\"formatter\":{\"type\":\"object\",\"name\":\"BasicTickFormatter\",\"id\":\"p4392\"},\"axis_label\":\"Alt (ft)\",\"axis_label_standoff\":10,\"axis_label_text_color\":\"#E0E0E0\",\"axis_label_text_font\":\"Helvetica\",\"axis_label_text_font_size\":\"1.25em\",\"axis_label_text_font_style\":\"normal\",\"major_label_policy\":{\"type\":\"object\",\"name\":\"AllLabels\",\"id\":\"p4393\"},\"major_label_text_color\":\"#E0E0E0\",\"major_label_text_font\":\"Helvetica\",\"major_label_text_font_size\":\"1.025em\",\"axis_line_color\":\"#E0E0E0\",\"axis_line_alpha\":0,\"major_tick_line_color\":\"#E0E0E0\",\"major_tick_line_alpha\":0,\"minor_tick_line_color\":\"#E0E0E0\",\"minor_tick_line_alpha\":0}},{\"type\":\"object\",\"name\":\"LinearAxis\",\"id\":\"p4394\",\"attributes\":{\"y_range_name\":\"angle\",\"ticker\":{\"type\":\"object\",\"name\":\"BasicTicker\",\"id\":\"p4395\",\"attributes\":{\"mantissas\":[1,2,5]}},\"formatter\":{\"type\":\"object\",\"name\":\"BasicTickFormatter\",\"id\":\"p4396\"},\"axis_label\":\"angle\",\"axis_label_standoff\":10,\"axis_label_text_color\":\"#E0E0E0\",\"axis_label_text_font\":\"Helvetica\",\"axis_label_text_font_size\":\"1.25em\",\"axis_label_text_font_style\":\"normal\",\"major_label_policy\":{\"type\":\"object\",\"name\":\"AllLabels\",\"id\":\"p4397\"},\"major_label_text_color\":\"#E0E0E0\",\"major_label_text_font\":\"Helvetica\",\"major_label_text_font_size\":\"1.025em\",\"axis_line_color\":\"#E0E0E0\",\"axis_line_alpha\":0,\"major_tick_line_color\":\"#E0E0E0\",\"major_tick_line_alpha\":0,\"minor_tick_line_color\":\"#E0E0E0\",\"minor_tick_line_alpha\":0}}],\"below\":[{\"type\":\"object\",\"name\":\"LinearAxis\",\"id\":\"p4367\",\"attributes\":{\"ticker\":{\"type\":\"object\",\"name\":\"BasicTicker\",\"id\":\"p4368\",\"attributes\":{\"mantissas\":[1,2,5]}},\"formatter\":{\"type\":\"object\",\"name\":\"BasicTickFormatter\",\"id\":\"p4369\"},\"axis_label\":\"seconds from exit\",\"axis_label_standoff\":10,\"axis_label_text_color\":\"#E0E0E0\",\"axis_label_text_font\":\"Helvetica\",\"axis_label_text_font_size\":\"1.25em\",\"axis_label_text_font_style\":\"normal\",\"major_label_policy\":{\"type\":\"object\",\"name\":\"AllLabels\",\"id\":\"p4370\"},\"major_label_text_color\":\"#E0E0E0\",\"major_label_text_font\":\"Helvetica\",\"major_label_text_font_size\":\"1.025em\",\"axis_line_color\":\"#E0E0E0\",\"axis_line_alpha\":0,\"major_tick_line_color\":\"#E0E0E0\",\"major_tick_line_alpha\":0,\"minor_tick_line_color\":\"#E0E0E0\",\"minor_tick_line_alpha\":0}}],\"center\":[{\"type\":\"object\",\"name\":\"Grid\",\"id\":\"p4371\",\"attributes\":{\"axis\":{\"id\":\"p4367\"},\"grid_line_color\":\"#E0E0E0\",\"grid_line_alpha\":0.25}},{\"type\":\"object\",\"name\":\"Grid\",\"id\":\"p4376\",\"attributes\":{\"dimension\":1,\"axis\":{\"id\":\"p4372\"},\"grid_line_color\":\"#E0E0E0\",\"grid_line_alpha\":0.25}},{\"type\":\"object\",\"name\":\"Legend\",\"id\":\"p4407\",\"attributes\":{\"border_line_alpha\":0,\"background_fill_color\":\"#20262B\",\"background_fill_alpha\":0.25,\"label_text_color\":\"#E0E0E0\",\"label_text_font\":\"Helvetica\",\"label_text_font_size\":\"1.025em\",\"label_standoff\":8,\"glyph_width\":15,\"spacing\":8,\"items\":[{\"type\":\"object\",\"name\":\"LegendItem\",\"id\":\"p4408\",\"attributes\":{\"label\":{\"type\":\"value\",\"value\":\"Alt (ft)\"},\"renderers\":[{\"id\":\"p4404\"}]}},{\"type\":\"object\",\"name\":\"LegendItem\",\"id\":\"p4418\",\"attributes\":{\"label\":{\"type\":\"value\",\"value\":\"angle\"},\"renderers\":[{\"id\":\"p4415\"}]}},{\"type\":\"object\",\"name\":\"LegendItem\",\"id\":\"p4429\",\"attributes\":{\"label\":{\"type\":\"value\",\"value\":\"speed\"},\"renderers\":[{\"id\":\"p4426\"}]}},{\"type\":\"object\",\"name\":\"LegendItem\",\"id\":\"p4439\",\"attributes\":{\"label\":{\"type\":\"value\",\"value\":\"H-speed\"},\"renderers\":[{\"id\":\"p4436\"}]}}]}}],\"background_fill_color\":\"#20262B\",\"border_fill_color\":\"#15191C\"}}]}};\n",
       "  const render_items = [{\"docid\":\"ab92007b-bbac-4a67-9c94-a5002ffbf7b5\",\"roots\":{\"p4353\":\"f7848c55-b79b-4c70-b885-5d32862df8bb\"},\"root_ids\":[\"p4353\"]}];\n",
       "  void root.Bokeh.embed.embed_items_notebook(docs_json, render_items);\n",
       "  }\n",
       "  if (root.Bokeh !== undefined) {\n",
       "    embed_document(root);\n",
       "  } else {\n",
       "    let attempts = 0;\n",
       "    const timer = setInterval(function(root) {\n",
       "      if (root.Bokeh !== undefined) {\n",
       "        clearInterval(timer);\n",
       "        embed_document(root);\n",
       "      } else {\n",
       "        attempts++;\n",
       "        if (attempts > 100) {\n",
       "          clearInterval(timer);\n",
       "          console.log(\"Bokeh: ERROR: Unable to run BokehJS code because BokehJS library is missing\");\n",
       "        }\n",
       "      }\n",
       "    }, 10, root)\n",
       "  }\n",
       "})(window);"
      ],
      "application/vnd.bokehjs_exec.v0+json": ""
     },
     "metadata": {
      "application/vnd.bokehjs_exec.v0+json": {
       "id": "p4353"
      }
     },
     "output_type": "display_data"
    },
    {
     "data": {
      "application/vnd.jupyter.widget-view+json": {
       "model_id": "60d2bef1fdcc409d9ba34e6ec875de4b",
       "version_major": 2,
       "version_minor": 0
      },
      "text/plain": [
       "HTML(value='<hr><h1><span style=\"color: #0f0\">14-00-13 jump - 🟢 valid - score = 455.62 km/h</span></h1>')"
      ]
     },
     "metadata": {},
     "output_type": "display_data"
    },
    {
     "data": {
      "application/vnd.jupyter.widget-view+json": {
       "model_id": "9b6067efed1a4670b3af8c5f4079af5c",
       "version_major": 2,
       "version_minor": 0
      },
      "text/plain": [
       "HTML(value='<h3>Max speed = 457; exit at 4118 m (13510 ft), end scoring window at 1862 m (6109 ft)')"
      ]
     },
     "metadata": {},
     "output_type": "display_data"
    },
    {
     "data": {
      "application/vnd.jupyter.widget-view+json": {
       "model_id": "e1e43875ec224dca9e0f8d458d7dc19b",
       "version_major": 2,
       "version_minor": 0
      },
      "text/plain": [
       "HTML(value='</h3>')"
      ]
     },
     "metadata": {},
     "output_type": "display_data"
    },
    {
     "data": {
      "text/html": [
       "<div>\n",
       "<style scoped>\n",
       "    .dataframe tbody tr th:only-of-type {\n",
       "        vertical-align: middle;\n",
       "    }\n",
       "\n",
       "    .dataframe tbody tr th {\n",
       "        vertical-align: top;\n",
       "    }\n",
       "\n",
       "    .dataframe thead th {\n",
       "        text-align: right;\n",
       "    }\n",
       "</style>\n",
       "<table border=\"1\" class=\"dataframe\">\n",
       "  <thead>\n",
       "    <tr style=\"text-align: right;\">\n",
       "      <th></th>\n",
       "      <th>time</th>\n",
       "      <th>vKMh</th>\n",
       "      <th>hKMh</th>\n",
       "      <th>speedAngle</th>\n",
       "      <th>netVectorKMh</th>\n",
       "      <th>altitude (ft)</th>\n",
       "    </tr>\n",
       "  </thead>\n",
       "  <tbody>\n",
       "    <tr>\n",
       "      <th></th>\n",
       "      <td>5.0</td>\n",
       "      <td>178</td>\n",
       "      <td>137</td>\n",
       "      <td>52.3</td>\n",
       "      <td>225</td>\n",
       "      <td>13084</td>\n",
       "    </tr>\n",
       "    <tr>\n",
       "      <th></th>\n",
       "      <td>10.0</td>\n",
       "      <td>302</td>\n",
       "      <td>94</td>\n",
       "      <td>72.8</td>\n",
       "      <td>317</td>\n",
       "      <td>11965</td>\n",
       "    </tr>\n",
       "    <tr>\n",
       "      <th></th>\n",
       "      <td>15.0</td>\n",
       "      <td>398</td>\n",
       "      <td>71</td>\n",
       "      <td>79.9</td>\n",
       "      <td>404</td>\n",
       "      <td>10340</td>\n",
       "    </tr>\n",
       "    <tr>\n",
       "      <th></th>\n",
       "      <td>20.0</td>\n",
       "      <td>449</td>\n",
       "      <td>32</td>\n",
       "      <td>85.9</td>\n",
       "      <td>450</td>\n",
       "      <td>8340</td>\n",
       "    </tr>\n",
       "    <tr>\n",
       "      <th></th>\n",
       "      <td>25.0</td>\n",
       "      <td>454</td>\n",
       "      <td>6</td>\n",
       "      <td>89.2</td>\n",
       "      <td>454</td>\n",
       "      <td>6266</td>\n",
       "    </tr>\n",
       "  </tbody>\n",
       "</table>\n",
       "</div>"
      ],
      "text/plain": [
       "  time  vKMh  hKMh  speedAngle  netVectorKMh  altitude (ft)\n",
       "   5.0   178   137        52.3           225          13084\n",
       "  10.0   302    94        72.8           317          11965\n",
       "  15.0   398    71        79.9           404          10340\n",
       "  20.0   449    32        85.9           450           8340\n",
       "  25.0   454     6        89.2           454           6266"
      ]
     },
     "metadata": {},
     "output_type": "display_data"
    },
    {
     "data": {
      "text/html": [
       "\n",
       "  <div id=\"c000b04f-2c0b-4458-adc1-0782013b9969\" data-root-id=\"p4494\" style=\"display: contents;\"></div>\n"
      ]
     },
     "metadata": {},
     "output_type": "display_data"
    },
    {
     "data": {
      "application/javascript": [
       "(function(root) {\n",
       "  function embed_document(root) {\n",
       "  const docs_json = {\"5cdf26d5-4641-4264-b04f-e2b6cbb1b9b3\":{\"version\":\"3.4.1\",\"title\":\"Bokeh Application\",\"roots\":[{\"type\":\"object\",\"name\":\"Figure\",\"id\":\"p4494\",\"attributes\":{\"width\":900,\"height\":500,\"x_range\":{\"type\":\"object\",\"name\":\"Range1d\",\"id\":\"p4504\",\"attributes\":{\"end\":35.0}},\"y_range\":{\"type\":\"object\",\"name\":\"Range1d\",\"id\":\"p4505\",\"attributes\":{\"end\":550.0}},\"x_scale\":{\"type\":\"object\",\"name\":\"LinearScale\",\"id\":\"p4506\"},\"y_scale\":{\"type\":\"object\",\"name\":\"LinearScale\",\"id\":\"p4507\"},\"extra_y_ranges\":{\"type\":\"map\",\"entries\":[[\"altitudeFt\",{\"type\":\"object\",\"name\":\"Range1d\",\"id\":\"p4529\",\"attributes\":{\"start\":5641.7511512,\"end\":14010.529656}}],[\"angle\",{\"type\":\"object\",\"name\":\"Range1d\",\"id\":\"p4530\",\"attributes\":{\"end\":90.0}}]]},\"title\":{\"type\":\"object\",\"name\":\"Title\",\"id\":\"p4497\",\"attributes\":{\"text\":\"14-00-13\",\"text_color\":\"#E0E0E0\",\"text_font\":\"Helvetica\",\"text_font_size\":\"1.15em\"}},\"outline_line_color\":\"#E0E0E0\",\"outline_line_alpha\":0.25,\"renderers\":[{\"type\":\"object\",\"name\":\"GlyphRenderer\",\"id\":\"p4545\",\"attributes\":{\"y_range_name\":\"altitudeFt\",\"data_source\":{\"type\":\"object\",\"name\":\"ColumnDataSource\",\"id\":\"p4539\",\"attributes\":{\"selected\":{\"type\":\"object\",\"name\":\"Selection\",\"id\":\"p4540\",\"attributes\":{\"indices\":[],\"line_indices\":[]}},\"selection_policy\":{\"type\":\"object\",\"name\":\"UnionRenderers\",\"id\":\"p4541\"},\"data\":{\"type\":\"map\",\"entries\":[[\"x\",{\"type\":\"ndarray\",\"array\":{\"type\":\"bytes\",\"data\":\"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\"},\"shape\":[200],\"dtype\":\"float64\",\"order\":\"little\"}],[\"y\",{\"type\":\"ndarray\",\"array\":{\"type\":\"bytes\",\"data\":\"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\"},\"shape\":[200],\"dtype\":\"float64\",\"order\":\"little\"}]]}}},\"view\":{\"type\":\"object\",\"name\":\"CDSView\",\"id\":\"p4546\",\"attributes\":{\"filter\":{\"type\":\"object\",\"name\":\"AllIndices\",\"id\":\"p4547\"}}},\"glyph\":{\"type\":\"object\",\"name\":\"Line\",\"id\":\"p4542\",\"attributes\":{\"x\":{\"type\":\"field\",\"field\":\"x\"},\"y\":{\"type\":\"field\",\"field\":\"y\"},\"line_color\":\"palegoldenrod\",\"line_width\":2}},\"nonselection_glyph\":{\"type\":\"object\",\"name\":\"Line\",\"id\":\"p4543\",\"attributes\":{\"x\":{\"type\":\"field\",\"field\":\"x\"},\"y\":{\"type\":\"field\",\"field\":\"y\"},\"line_color\":\"palegoldenrod\",\"line_alpha\":0.1,\"line_width\":2}},\"muted_glyph\":{\"type\":\"object\",\"name\":\"Line\",\"id\":\"p4544\",\"attributes\":{\"x\":{\"type\":\"field\",\"field\":\"x\"},\"y\":{\"type\":\"field\",\"field\":\"y\"},\"line_color\":\"palegoldenrod\",\"line_alpha\":0.2,\"line_width\":2}}}},{\"type\":\"object\",\"name\":\"GlyphRenderer\",\"id\":\"p4556\",\"attributes\":{\"y_range_name\":\"angle\",\"data_source\":{\"type\":\"object\",\"name\":\"ColumnDataSource\",\"id\":\"p4550\",\"attributes\":{\"selected\":{\"type\":\"object\",\"name\":\"Selection\",\"id\":\"p4551\",\"attributes\":{\"indices\":[],\"line_indices\":[]}},\"selection_policy\":{\"type\":\"object\",\"name\":\"UnionRenderers\",\"id\":\"p4552\"},\"data\":{\"type\":\"map\",\"entries\":[[\"x\",{\"type\":\"ndarray\",\"array\":{\"type\":\"bytes\",\"data\":\"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\"},\"shape\":[200],\"dtype\":\"float64\",\"order\":\"little\"}],[\"y\",{\"type\":\"ndarray\",\"array\":{\"type\":\"bytes\",\"data\":\"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\"},\"shape\":[200],\"dtype\":\"float64\",\"order\":\"little\"}]]}}},\"view\":{\"type\":\"object\",\"name\":\"CDSView\",\"id\":\"p4557\",\"attributes\":{\"filter\":{\"type\":\"object\",\"name\":\"AllIndices\",\"id\":\"p4558\"}}},\"glyph\":{\"type\":\"object\",\"name\":\"Line\",\"id\":\"p4553\",\"attributes\":{\"x\":{\"type\":\"field\",\"field\":\"x\"},\"y\":{\"type\":\"field\",\"field\":\"y\"},\"line_color\":\"deepskyblue\",\"line_width\":2}},\"nonselection_glyph\":{\"type\":\"object\",\"name\":\"Line\",\"id\":\"p4554\",\"attributes\":{\"x\":{\"type\":\"field\",\"field\":\"x\"},\"y\":{\"type\":\"field\",\"field\":\"y\"},\"line_color\":\"deepskyblue\",\"line_alpha\":0.1,\"line_width\":2}},\"muted_glyph\":{\"type\":\"object\",\"name\":\"Line\",\"id\":\"p4555\",\"attributes\":{\"x\":{\"type\":\"field\",\"field\":\"x\"},\"y\":{\"type\":\"field\",\"field\":\"y\"},\"line_color\":\"deepskyblue\",\"line_alpha\":0.2,\"line_width\":2}}}},{\"type\":\"object\",\"name\":\"GlyphRenderer\",\"id\":\"p4567\",\"attributes\":{\"data_source\":{\"type\":\"object\",\"name\":\"ColumnDataSource\",\"id\":\"p4561\",\"attributes\":{\"selected\":{\"type\":\"object\",\"name\":\"Selection\",\"id\":\"p4562\",\"attributes\":{\"indices\":[],\"line_indices\":[]}},\"selection_policy\":{\"type\":\"object\",\"name\":\"UnionRenderers\",\"id\":\"p4563\"},\"data\":{\"type\":\"map\",\"entries\":[[\"x\",{\"type\":\"ndarray\",\"array\":{\"type\":\"bytes\",\"data\":\"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\"},\"shape\":[200],\"dtype\":\"float64\",\"order\":\"little\"}],[\"y\",{\"type\":\"ndarray\",\"array\":{\"type\":\"bytes\",\"data\":\"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\"},\"shape\":[200],\"dtype\":\"float64\",\"order\":\"little\"}]]}}},\"view\":{\"type\":\"object\",\"name\":\"CDSView\",\"id\":\"p4568\",\"attributes\":{\"filter\":{\"type\":\"object\",\"name\":\"AllIndices\",\"id\":\"p4569\"}}},\"glyph\":{\"type\":\"object\",\"name\":\"Line\",\"id\":\"p4564\",\"attributes\":{\"x\":{\"type\":\"field\",\"field\":\"x\"},\"y\":{\"type\":\"field\",\"field\":\"y\"},\"line_color\":\"limegreen\",\"line_width\":2}},\"nonselection_glyph\":{\"type\":\"object\",\"name\":\"Line\",\"id\":\"p4565\",\"attributes\":{\"x\":{\"type\":\"field\",\"field\":\"x\"},\"y\":{\"type\":\"field\",\"field\":\"y\"},\"line_color\":\"limegreen\",\"line_alpha\":0.1,\"line_width\":2}},\"muted_glyph\":{\"type\":\"object\",\"name\":\"Line\",\"id\":\"p4566\",\"attributes\":{\"x\":{\"type\":\"field\",\"field\":\"x\"},\"y\":{\"type\":\"field\",\"field\":\"y\"},\"line_color\":\"limegreen\",\"line_alpha\":0.2,\"line_width\":2}}}},{\"type\":\"object\",\"name\":\"GlyphRenderer\",\"id\":\"p4577\",\"attributes\":{\"data_source\":{\"type\":\"object\",\"name\":\"ColumnDataSource\",\"id\":\"p4571\",\"attributes\":{\"selected\":{\"type\":\"object\",\"name\":\"Selection\",\"id\":\"p4572\",\"attributes\":{\"indices\":[],\"line_indices\":[]}},\"selection_policy\":{\"type\":\"object\",\"name\":\"UnionRenderers\",\"id\":\"p4573\"},\"data\":{\"type\":\"map\",\"entries\":[[\"x\",{\"type\":\"ndarray\",\"array\":{\"type\":\"bytes\",\"data\":\"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\"},\"shape\":[200],\"dtype\":\"float64\",\"order\":\"little\"}],[\"y\",{\"type\":\"ndarray\",\"array\":{\"type\":\"bytes\",\"data\":\"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\"},\"shape\":[200],\"dtype\":\"float64\",\"order\":\"little\"}]]}}},\"view\":{\"type\":\"object\",\"name\":\"CDSView\",\"id\":\"p4578\",\"attributes\":{\"filter\":{\"type\":\"object\",\"name\":\"AllIndices\",\"id\":\"p4579\"}}},\"glyph\":{\"type\":\"object\",\"name\":\"Line\",\"id\":\"p4574\",\"attributes\":{\"x\":{\"type\":\"field\",\"field\":\"x\"},\"y\":{\"type\":\"field\",\"field\":\"y\"},\"line_color\":\"red\",\"line_width\":2}},\"nonselection_glyph\":{\"type\":\"object\",\"name\":\"Line\",\"id\":\"p4575\",\"attributes\":{\"x\":{\"type\":\"field\",\"field\":\"x\"},\"y\":{\"type\":\"field\",\"field\":\"y\"},\"line_color\":\"red\",\"line_alpha\":0.1,\"line_width\":2}},\"muted_glyph\":{\"type\":\"object\",\"name\":\"Line\",\"id\":\"p4576\",\"attributes\":{\"x\":{\"type\":\"field\",\"field\":\"x\"},\"y\":{\"type\":\"field\",\"field\":\"y\"},\"line_color\":\"red\",\"line_alpha\":0.2,\"line_width\":2}}}},{\"type\":\"object\",\"name\":\"GlyphRenderer\",\"id\":\"p4587\",\"attributes\":{\"data_source\":{\"type\":\"object\",\"name\":\"ColumnDataSource\",\"id\":\"p4581\",\"attributes\":{\"selected\":{\"type\":\"object\",\"name\":\"Selection\",\"id\":\"p4582\",\"attributes\":{\"indices\":[],\"line_indices\":[]}},\"selection_policy\":{\"type\":\"object\",\"name\":\"UnionRenderers\",\"id\":\"p4583\"},\"data\":{\"type\":\"map\",\"entries\":[[\"x0\",[21.5]],[\"y0\",[0.0]],[\"x1\",[21.5]],[\"y1\",[455.616]]]}}},\"view\":{\"type\":\"object\",\"name\":\"CDSView\",\"id\":\"p4588\",\"attributes\":{\"filter\":{\"type\":\"object\",\"name\":\"AllIndices\",\"id\":\"p4589\"}}},\"glyph\":{\"type\":\"object\",\"name\":\"Segment\",\"id\":\"p4584\",\"attributes\":{\"x0\":{\"type\":\"field\",\"field\":\"x0\"},\"y0\":{\"type\":\"field\",\"field\":\"y0\"},\"x1\":{\"type\":\"field\",\"field\":\"x1\"},\"y1\":{\"type\":\"field\",\"field\":\"y1\"},\"line_color\":{\"type\":\"value\",\"value\":\"lightblue\"},\"line_width\":{\"type\":\"value\",\"value\":3}}},\"nonselection_glyph\":{\"type\":\"object\",\"name\":\"Segment\",\"id\":\"p4585\",\"attributes\":{\"x0\":{\"type\":\"field\",\"field\":\"x0\"},\"y0\":{\"type\":\"field\",\"field\":\"y0\"},\"x1\":{\"type\":\"field\",\"field\":\"x1\"},\"y1\":{\"type\":\"field\",\"field\":\"y1\"},\"line_color\":{\"type\":\"value\",\"value\":\"lightblue\"},\"line_alpha\":{\"type\":\"value\",\"value\":0.1},\"line_width\":{\"type\":\"value\",\"value\":3}}},\"muted_glyph\":{\"type\":\"object\",\"name\":\"Segment\",\"id\":\"p4586\",\"attributes\":{\"x0\":{\"type\":\"field\",\"field\":\"x0\"},\"y0\":{\"type\":\"field\",\"field\":\"y0\"},\"x1\":{\"type\":\"field\",\"field\":\"x1\"},\"y1\":{\"type\":\"field\",\"field\":\"y1\"},\"line_color\":{\"type\":\"value\",\"value\":\"lightblue\"},\"line_alpha\":{\"type\":\"value\",\"value\":0.2},\"line_width\":{\"type\":\"value\",\"value\":3}}}}},{\"type\":\"object\",\"name\":\"GlyphRenderer\",\"id\":\"p4596\",\"attributes\":{\"data_source\":{\"type\":\"object\",\"name\":\"ColumnDataSource\",\"id\":\"p4590\",\"attributes\":{\"selected\":{\"type\":\"object\",\"name\":\"Selection\",\"id\":\"p4591\",\"attributes\":{\"indices\":[],\"line_indices\":[]}},\"selection_policy\":{\"type\":\"object\",\"name\":\"UnionRenderers\",\"id\":\"p4592\"},\"data\":{\"type\":\"map\",\"entries\":[[\"x0\",[23.0]],[\"y0\",[0.0]],[\"x1\",[23.0]],[\"y1\",[455.616]]]}}},\"view\":{\"type\":\"object\",\"name\":\"CDSView\",\"id\":\"p4597\",\"attributes\":{\"filter\":{\"type\":\"object\",\"name\":\"AllIndices\",\"id\":\"p4598\"}}},\"glyph\":{\"type\":\"object\",\"name\":\"Segment\",\"id\":\"p4593\",\"attributes\":{\"x0\":{\"type\":\"field\",\"field\":\"x0\"},\"y0\":{\"type\":\"field\",\"field\":\"y0\"},\"x1\":{\"type\":\"field\",\"field\":\"x1\"},\"y1\":{\"type\":\"field\",\"field\":\"y1\"},\"line_color\":{\"type\":\"value\",\"value\":\"darkseagreen\"}}},\"nonselection_glyph\":{\"type\":\"object\",\"name\":\"Segment\",\"id\":\"p4594\",\"attributes\":{\"x0\":{\"type\":\"field\",\"field\":\"x0\"},\"y0\":{\"type\":\"field\",\"field\":\"y0\"},\"x1\":{\"type\":\"field\",\"field\":\"x1\"},\"y1\":{\"type\":\"field\",\"field\":\"y1\"},\"line_color\":{\"type\":\"value\",\"value\":\"darkseagreen\"},\"line_alpha\":{\"type\":\"value\",\"value\":0.1}}},\"muted_glyph\":{\"type\":\"object\",\"name\":\"Segment\",\"id\":\"p4595\",\"attributes\":{\"x0\":{\"type\":\"field\",\"field\":\"x0\"},\"y0\":{\"type\":\"field\",\"field\":\"y0\"},\"x1\":{\"type\":\"field\",\"field\":\"x1\"},\"y1\":{\"type\":\"field\",\"field\":\"y1\"},\"line_color\":{\"type\":\"value\",\"value\":\"darkseagreen\"},\"line_alpha\":{\"type\":\"value\",\"value\":0.2}}}}},{\"type\":\"object\",\"name\":\"GlyphRenderer\",\"id\":\"p4605\",\"attributes\":{\"data_source\":{\"type\":\"object\",\"name\":\"ColumnDataSource\",\"id\":\"p4599\",\"attributes\":{\"selected\":{\"type\":\"object\",\"name\":\"Selection\",\"id\":\"p4600\",\"attributes\":{\"indices\":[],\"line_indices\":[]}},\"selection_policy\":{\"type\":\"object\",\"name\":\"UnionRenderers\",\"id\":\"p4601\"},\"data\":{\"type\":\"map\",\"entries\":[[\"x0\",[20.0]],[\"y0\",[0.0]],[\"x1\",[20.0]],[\"y1\",[455.616]]]}}},\"view\":{\"type\":\"object\",\"name\":\"CDSView\",\"id\":\"p4606\",\"attributes\":{\"filter\":{\"type\":\"object\",\"name\":\"AllIndices\",\"id\":\"p4607\"}}},\"glyph\":{\"type\":\"object\",\"name\":\"Segment\",\"id\":\"p4602\",\"attributes\":{\"x0\":{\"type\":\"field\",\"field\":\"x0\"},\"y0\":{\"type\":\"field\",\"field\":\"y0\"},\"x1\":{\"type\":\"field\",\"field\":\"x1\"},\"y1\":{\"type\":\"field\",\"field\":\"y1\"},\"line_color\":{\"type\":\"value\",\"value\":\"darkseagreen\"}}},\"nonselection_glyph\":{\"type\":\"object\",\"name\":\"Segment\",\"id\":\"p4603\",\"attributes\":{\"x0\":{\"type\":\"field\",\"field\":\"x0\"},\"y0\":{\"type\":\"field\",\"field\":\"y0\"},\"x1\":{\"type\":\"field\",\"field\":\"x1\"},\"y1\":{\"type\":\"field\",\"field\":\"y1\"},\"line_color\":{\"type\":\"value\",\"value\":\"darkseagreen\"},\"line_alpha\":{\"type\":\"value\",\"value\":0.1}}},\"muted_glyph\":{\"type\":\"object\",\"name\":\"Segment\",\"id\":\"p4604\",\"attributes\":{\"x0\":{\"type\":\"field\",\"field\":\"x0\"},\"y0\":{\"type\":\"field\",\"field\":\"y0\"},\"x1\":{\"type\":\"field\",\"field\":\"x1\"},\"y1\":{\"type\":\"field\",\"field\":\"y1\"},\"line_color\":{\"type\":\"value\",\"value\":\"darkseagreen\"},\"line_alpha\":{\"type\":\"value\",\"value\":0.2}}}}},{\"type\":\"object\",\"name\":\"GlyphRenderer\",\"id\":\"p4614\",\"attributes\":{\"data_source\":{\"type\":\"object\",\"name\":\"ColumnDataSource\",\"id\":\"p4608\",\"attributes\":{\"selected\":{\"type\":\"object\",\"name\":\"Selection\",\"id\":\"p4609\",\"attributes\":{\"indices\":[],\"line_indices\":[]}},\"selection_policy\":{\"type\":\"object\",\"name\":\"UnionRenderers\",\"id\":\"p4610\"},\"data\":{\"type\":\"map\",\"entries\":[[\"x\",[21.5]],[\"y\",[455.616]],[\"size\",[20]]]}}},\"view\":{\"type\":\"object\",\"name\":\"CDSView\",\"id\":\"p4615\",\"attributes\":{\"filter\":{\"type\":\"object\",\"name\":\"AllIndices\",\"id\":\"p4616\"}}},\"glyph\":{\"type\":\"object\",\"name\":\"Scatter\",\"id\":\"p4611\",\"attributes\":{\"x\":{\"type\":\"field\",\"field\":\"x\"},\"y\":{\"type\":\"field\",\"field\":\"y\"},\"size\":{\"type\":\"field\",\"field\":\"size\"},\"line_color\":{\"type\":\"value\",\"value\":\"lightblue\"},\"line_width\":{\"type\":\"value\",\"value\":3},\"fill_color\":{\"type\":\"value\",\"value\":null},\"marker\":{\"type\":\"value\",\"value\":\"square_cross\"}}},\"nonselection_glyph\":{\"type\":\"object\",\"name\":\"Scatter\",\"id\":\"p4612\",\"attributes\":{\"x\":{\"type\":\"field\",\"field\":\"x\"},\"y\":{\"type\":\"field\",\"field\":\"y\"},\"size\":{\"type\":\"field\",\"field\":\"size\"},\"line_color\":{\"type\":\"value\",\"value\":\"lightblue\"},\"line_alpha\":{\"type\":\"value\",\"value\":0.1},\"line_width\":{\"type\":\"value\",\"value\":3},\"fill_color\":{\"type\":\"value\",\"value\":null},\"fill_alpha\":{\"type\":\"value\",\"value\":0.1},\"hatch_alpha\":{\"type\":\"value\",\"value\":0.1},\"marker\":{\"type\":\"value\",\"value\":\"square_cross\"}}},\"muted_glyph\":{\"type\":\"object\",\"name\":\"Scatter\",\"id\":\"p4613\",\"attributes\":{\"x\":{\"type\":\"field\",\"field\":\"x\"},\"y\":{\"type\":\"field\",\"field\":\"y\"},\"size\":{\"type\":\"field\",\"field\":\"size\"},\"line_color\":{\"type\":\"value\",\"value\":\"lightblue\"},\"line_alpha\":{\"type\":\"value\",\"value\":0.2},\"line_width\":{\"type\":\"value\",\"value\":3},\"fill_color\":{\"type\":\"value\",\"value\":null},\"fill_alpha\":{\"type\":\"value\",\"value\":0.2},\"hatch_alpha\":{\"type\":\"value\",\"value\":0.2},\"marker\":{\"type\":\"value\",\"value\":\"square_cross\"}}}}}],\"toolbar\":{\"type\":\"object\",\"name\":\"Toolbar\",\"id\":\"p4503\",\"attributes\":{\"tools\":[{\"type\":\"object\",\"name\":\"PanTool\",\"id\":\"p4518\"},{\"type\":\"object\",\"name\":\"WheelZoomTool\",\"id\":\"p4519\",\"attributes\":{\"renderers\":\"auto\"}},{\"type\":\"object\",\"name\":\"BoxZoomTool\",\"id\":\"p4520\",\"attributes\":{\"overlay\":{\"type\":\"object\",\"name\":\"BoxAnnotation\",\"id\":\"p4521\",\"attributes\":{\"syncable\":false,\"level\":\"overlay\",\"visible\":false,\"left\":{\"type\":\"number\",\"value\":\"nan\"},\"right\":{\"type\":\"number\",\"value\":\"nan\"},\"top\":{\"type\":\"number\",\"value\":\"nan\"},\"bottom\":{\"type\":\"number\",\"value\":\"nan\"},\"left_units\":\"canvas\",\"right_units\":\"canvas\",\"top_units\":\"canvas\",\"bottom_units\":\"canvas\",\"line_color\":\"black\",\"line_alpha\":1.0,\"line_width\":2,\"line_dash\":[4,4],\"fill_color\":\"lightgrey\",\"fill_alpha\":0.5}}}},{\"type\":\"object\",\"name\":\"SaveTool\",\"id\":\"p4526\"},{\"type\":\"object\",\"name\":\"ResetTool\",\"id\":\"p4527\"},{\"type\":\"object\",\"name\":\"HelpTool\",\"id\":\"p4528\"},{\"type\":\"object\",\"name\":\"HoverTool\",\"id\":\"p4560\",\"attributes\":{\"renderers\":\"auto\",\"tooltips\":[[\"Y-val\",\"@y{0.00}\"]]}}]}},\"left\":[{\"type\":\"object\",\"name\":\"LinearAxis\",\"id\":\"p4513\",\"attributes\":{\"ticker\":{\"type\":\"object\",\"name\":\"BasicTicker\",\"id\":\"p4514\",\"attributes\":{\"mantissas\":[1,2,5]}},\"formatter\":{\"type\":\"object\",\"name\":\"BasicTickFormatter\",\"id\":\"p4515\"},\"axis_label\":\"km/h\",\"axis_label_standoff\":10,\"axis_label_text_color\":\"#E0E0E0\",\"axis_label_text_font\":\"Helvetica\",\"axis_label_text_font_size\":\"1.25em\",\"axis_label_text_font_style\":\"normal\",\"major_label_policy\":{\"type\":\"object\",\"name\":\"AllLabels\",\"id\":\"p4516\"},\"major_label_text_color\":\"#E0E0E0\",\"major_label_text_font\":\"Helvetica\",\"major_label_text_font_size\":\"1.025em\",\"axis_line_color\":\"#E0E0E0\",\"axis_line_alpha\":0,\"major_tick_line_color\":\"#E0E0E0\",\"major_tick_line_alpha\":0,\"minor_tick_line_color\":\"#E0E0E0\",\"minor_tick_line_alpha\":0}},{\"type\":\"object\",\"name\":\"LinearAxis\",\"id\":\"p4531\",\"attributes\":{\"y_range_name\":\"altitudeFt\",\"ticker\":{\"type\":\"object\",\"name\":\"BasicTicker\",\"id\":\"p4532\",\"attributes\":{\"mantissas\":[1,2,5]}},\"formatter\":{\"type\":\"object\",\"name\":\"BasicTickFormatter\",\"id\":\"p4533\"},\"axis_label\":\"Alt (ft)\",\"axis_label_standoff\":10,\"axis_label_text_color\":\"#E0E0E0\",\"axis_label_text_font\":\"Helvetica\",\"axis_label_text_font_size\":\"1.25em\",\"axis_label_text_font_style\":\"normal\",\"major_label_policy\":{\"type\":\"object\",\"name\":\"AllLabels\",\"id\":\"p4534\"},\"major_label_text_color\":\"#E0E0E0\",\"major_label_text_font\":\"Helvetica\",\"major_label_text_font_size\":\"1.025em\",\"axis_line_color\":\"#E0E0E0\",\"axis_line_alpha\":0,\"major_tick_line_color\":\"#E0E0E0\",\"major_tick_line_alpha\":0,\"minor_tick_line_color\":\"#E0E0E0\",\"minor_tick_line_alpha\":0}},{\"type\":\"object\",\"name\":\"LinearAxis\",\"id\":\"p4535\",\"attributes\":{\"y_range_name\":\"angle\",\"ticker\":{\"type\":\"object\",\"name\":\"BasicTicker\",\"id\":\"p4536\",\"attributes\":{\"mantissas\":[1,2,5]}},\"formatter\":{\"type\":\"object\",\"name\":\"BasicTickFormatter\",\"id\":\"p4537\"},\"axis_label\":\"angle\",\"axis_label_standoff\":10,\"axis_label_text_color\":\"#E0E0E0\",\"axis_label_text_font\":\"Helvetica\",\"axis_label_text_font_size\":\"1.25em\",\"axis_label_text_font_style\":\"normal\",\"major_label_policy\":{\"type\":\"object\",\"name\":\"AllLabels\",\"id\":\"p4538\"},\"major_label_text_color\":\"#E0E0E0\",\"major_label_text_font\":\"Helvetica\",\"major_label_text_font_size\":\"1.025em\",\"axis_line_color\":\"#E0E0E0\",\"axis_line_alpha\":0,\"major_tick_line_color\":\"#E0E0E0\",\"major_tick_line_alpha\":0,\"minor_tick_line_color\":\"#E0E0E0\",\"minor_tick_line_alpha\":0}}],\"below\":[{\"type\":\"object\",\"name\":\"LinearAxis\",\"id\":\"p4508\",\"attributes\":{\"ticker\":{\"type\":\"object\",\"name\":\"BasicTicker\",\"id\":\"p4509\",\"attributes\":{\"mantissas\":[1,2,5]}},\"formatter\":{\"type\":\"object\",\"name\":\"BasicTickFormatter\",\"id\":\"p4510\"},\"axis_label\":\"seconds from exit\",\"axis_label_standoff\":10,\"axis_label_text_color\":\"#E0E0E0\",\"axis_label_text_font\":\"Helvetica\",\"axis_label_text_font_size\":\"1.25em\",\"axis_label_text_font_style\":\"normal\",\"major_label_policy\":{\"type\":\"object\",\"name\":\"AllLabels\",\"id\":\"p4511\"},\"major_label_text_color\":\"#E0E0E0\",\"major_label_text_font\":\"Helvetica\",\"major_label_text_font_size\":\"1.025em\",\"axis_line_color\":\"#E0E0E0\",\"axis_line_alpha\":0,\"major_tick_line_color\":\"#E0E0E0\",\"major_tick_line_alpha\":0,\"minor_tick_line_color\":\"#E0E0E0\",\"minor_tick_line_alpha\":0}}],\"center\":[{\"type\":\"object\",\"name\":\"Grid\",\"id\":\"p4512\",\"attributes\":{\"axis\":{\"id\":\"p4508\"},\"grid_line_color\":\"#E0E0E0\",\"grid_line_alpha\":0.25}},{\"type\":\"object\",\"name\":\"Grid\",\"id\":\"p4517\",\"attributes\":{\"dimension\":1,\"axis\":{\"id\":\"p4513\"},\"grid_line_color\":\"#E0E0E0\",\"grid_line_alpha\":0.25}},{\"type\":\"object\",\"name\":\"Legend\",\"id\":\"p4548\",\"attributes\":{\"border_line_alpha\":0,\"background_fill_color\":\"#20262B\",\"background_fill_alpha\":0.25,\"label_text_color\":\"#E0E0E0\",\"label_text_font\":\"Helvetica\",\"label_text_font_size\":\"1.025em\",\"label_standoff\":8,\"glyph_width\":15,\"spacing\":8,\"items\":[{\"type\":\"object\",\"name\":\"LegendItem\",\"id\":\"p4549\",\"attributes\":{\"label\":{\"type\":\"value\",\"value\":\"Alt (ft)\"},\"renderers\":[{\"id\":\"p4545\"}]}},{\"type\":\"object\",\"name\":\"LegendItem\",\"id\":\"p4559\",\"attributes\":{\"label\":{\"type\":\"value\",\"value\":\"angle\"},\"renderers\":[{\"id\":\"p4556\"}]}},{\"type\":\"object\",\"name\":\"LegendItem\",\"id\":\"p4570\",\"attributes\":{\"label\":{\"type\":\"value\",\"value\":\"speed\"},\"renderers\":[{\"id\":\"p4567\"}]}},{\"type\":\"object\",\"name\":\"LegendItem\",\"id\":\"p4580\",\"attributes\":{\"label\":{\"type\":\"value\",\"value\":\"H-speed\"},\"renderers\":[{\"id\":\"p4577\"}]}}]}}],\"background_fill_color\":\"#20262B\",\"border_fill_color\":\"#15191C\"}}]}};\n",
       "  const render_items = [{\"docid\":\"5cdf26d5-4641-4264-b04f-e2b6cbb1b9b3\",\"roots\":{\"p4494\":\"c000b04f-2c0b-4458-adc1-0782013b9969\"},\"root_ids\":[\"p4494\"]}];\n",
       "  void root.Bokeh.embed.embed_items_notebook(docs_json, render_items);\n",
       "  }\n",
       "  if (root.Bokeh !== undefined) {\n",
       "    embed_document(root);\n",
       "  } else {\n",
       "    let attempts = 0;\n",
       "    const timer = setInterval(function(root) {\n",
       "      if (root.Bokeh !== undefined) {\n",
       "        clearInterval(timer);\n",
       "        embed_document(root);\n",
       "      } else {\n",
       "        attempts++;\n",
       "        if (attempts > 100) {\n",
       "          clearInterval(timer);\n",
       "          console.log(\"Bokeh: ERROR: Unable to run BokehJS code because BokehJS library is missing\");\n",
       "        }\n",
       "      }\n",
       "    }, 10, root)\n",
       "  }\n",
       "})(window);"
      ],
      "application/vnd.bokehjs_exec.v0+json": ""
     },
     "metadata": {
      "application/vnd.bokehjs_exec.v0+json": {
       "id": "p4494"
      }
     },
     "output_type": "display_data"
    }
   ],
   "source": [
    "allJumpsPlot = initializePlot('All jumps in set')\n",
    "jumpNumber = 0\n",
    "mixColor = 0\n",
    "for resultRef in sorted(jumpResults.keys()):\n",
    "    jumpResult = jumpResults[resultRef]\n",
    "    if jumpResult.score > 0.0:\n",
    "        validJumpStatus = '<hr><h1><span style=\"color: %s\">%s jump - %s - score = %.02f km/h</span></h1>' % (jumpResult.color, resultRef, jumpResult.result, jumpResult.score)        \n",
    "    else:\n",
    "        validJumpStatus = '<hr><h1><span style=\"color: %s\">%s jump - %s</span></h1>' % (jumpResult.color, resultRef, jumpResult.result)\n",
    "    display(widgets.HTML(validJumpStatus))\n",
    "\n",
    "    maxSpeed = jumpResult.maxSpeed\n",
    "    window = jumpResult.window\n",
    "    mixColor = (mixColor+1)%len(SPEED_COLORS)\n",
    "    if jumpResult.score > 0.0:\n",
    "        display(widgets.HTML('<h3>Max speed = {0:,.0f}; '.format(maxSpeed)+('exit at %d m (%d ft), end scoring window at %d m (%d ft)'%(window.start, 3.2808*window.start, window.end, 3.2808*window.end))))\n",
    "        if not isValidMinimumAltitude(jumpResult.data.altitudeAGL.max()):\n",
    "            display(widgets.HTML('<span style=\"color: yellow\"><span style=\"font-weight: bold\">Warning:</span> exit altitude ASL was lower than the minimum scoring altitude according to IPC and USPA.'))\n",
    "        display(widgets.HTML('</h3>'))\n",
    "        # TODO: Move this to an in-notebook function or module.\n",
    "        displayJumpDataIn(jumpResult.table)\n",
    "        individualPlot = initializePlot(resultRef)\n",
    "        individualPlot = initializeExtraYRanges(individualPlot, startY = min(jumpResult.data.altitudeAGLFt)-500.0, endY = max(jumpResult.data.altitudeAGLFt)+500.0)\n",
    "        graphAltitude(individualPlot, jumpResult)\n",
    "        graphAngle(individualPlot, jumpResult)\n",
    "        hoverValue = bm.HoverTool(tooltips = [ ('Y-val', '@y{0.00}'), ])\n",
    "        individualPlot.add_tools(hoverValue)\n",
    "        graphJumpResult(individualPlot,\n",
    "                        jumpResult,\n",
    "                        lineColor = SPEED_COLORS[0])\n",
    "        graphJumpResult(allJumpsPlot,\n",
    "                        jumpResult,\n",
    "                        lineColor = SPEED_COLORS[mixColor],\n",
    "                        legend = '%s - %.2f' % (resultRef, jumpResult.score),\n",
    "                        showIt = False)"
   ]
  },
  {
   "cell_type": "markdown",
   "id": "7363faaf-27a9-401c-9271-73b71436f19c",
   "metadata": {},
   "source": [
    "---\n",
    "## Summary of all speed skydives in the data lake"
   ]
  },
  {
   "cell_type": "code",
   "execution_count": 72,
   "id": "17991fcf-e215-4a53-a6ff-d9a64cbafd94",
   "metadata": {
    "jupyter": {
     "source_hidden": true
    }
   },
   "outputs": [
    {
     "data": {
      "text/html": [
       "<div>\n",
       "<style scoped>\n",
       "    .dataframe tbody tr th:only-of-type {\n",
       "        vertical-align: middle;\n",
       "    }\n",
       "\n",
       "    .dataframe tbody tr th {\n",
       "        vertical-align: top;\n",
       "    }\n",
       "\n",
       "    .dataframe thead th {\n",
       "        text-align: right;\n",
       "    }\n",
       "</style>\n",
       "<table border=\"1\" class=\"dataframe\">\n",
       "  <thead>\n",
       "    <tr style=\"text-align: right;\">\n",
       "      <th></th>\n",
       "      <th>score</th>\n",
       "      <th>5.0</th>\n",
       "      <th>10.0</th>\n",
       "      <th>15.0</th>\n",
       "      <th>20.0</th>\n",
       "      <th>25.0</th>\n",
       "      <th>finalTime</th>\n",
       "      <th>maxSpeed</th>\n",
       "    </tr>\n",
       "  </thead>\n",
       "  <tbody>\n",
       "    <tr>\n",
       "      <th>00-00-00-EC-baselinex</th>\n",
       "      <td>472</td>\n",
       "      <td>177</td>\n",
       "      <td>296</td>\n",
       "      <td>398</td>\n",
       "      <td>457</td>\n",
       "      <td>475</td>\n",
       "      <td>25.0</td>\n",
       "      <td>477</td>\n",
       "    </tr>\n",
       "    <tr>\n",
       "      <th>09-03-31</th>\n",
       "      <td>440</td>\n",
       "      <td>179</td>\n",
       "      <td>306</td>\n",
       "      <td>399</td>\n",
       "      <td>442</td>\n",
       "      <td>442</td>\n",
       "      <td>25.0</td>\n",
       "      <td>442</td>\n",
       "    </tr>\n",
       "    <tr>\n",
       "      <th>10-08-57</th>\n",
       "      <td>450</td>\n",
       "      <td>175</td>\n",
       "      <td>304</td>\n",
       "      <td>397</td>\n",
       "      <td>440</td>\n",
       "      <td>448</td>\n",
       "      <td>25.0</td>\n",
       "      <td>453</td>\n",
       "    </tr>\n",
       "    <tr>\n",
       "      <th>10-58-08</th>\n",
       "      <td>454</td>\n",
       "      <td>179</td>\n",
       "      <td>311</td>\n",
       "      <td>398</td>\n",
       "      <td>444</td>\n",
       "      <td>452</td>\n",
       "      <td>25.0</td>\n",
       "      <td>457</td>\n",
       "    </tr>\n",
       "    <tr>\n",
       "      <th>11-36-32</th>\n",
       "      <td>457</td>\n",
       "      <td>180</td>\n",
       "      <td>309</td>\n",
       "      <td>400</td>\n",
       "      <td>449</td>\n",
       "      <td>457</td>\n",
       "      <td>25.0</td>\n",
       "      <td>458</td>\n",
       "    </tr>\n",
       "    <tr>\n",
       "      <th>12-19-48</th>\n",
       "      <td>452</td>\n",
       "      <td>175</td>\n",
       "      <td>312</td>\n",
       "      <td>399</td>\n",
       "      <td>443</td>\n",
       "      <td>453</td>\n",
       "      <td>25.0</td>\n",
       "      <td>453</td>\n",
       "    </tr>\n",
       "    <tr>\n",
       "      <th>14-00-13</th>\n",
       "      <td>456</td>\n",
       "      <td>178</td>\n",
       "      <td>302</td>\n",
       "      <td>398</td>\n",
       "      <td>449</td>\n",
       "      <td>454</td>\n",
       "      <td>25.0</td>\n",
       "      <td>457</td>\n",
       "    </tr>\n",
       "  </tbody>\n",
       "</table>\n",
       "</div>"
      ],
      "text/plain": [
       "                       score  5.0  10.0  15.0  20.0  25.0  finalTime  maxSpeed\n",
       "00-00-00-EC-baselinex    472  177   296   398   457   475       25.0       477\n",
       "09-03-31                 440  179   306   399   442   442       25.0       442\n",
       "10-08-57                 450  175   304   397   440   448       25.0       453\n",
       "10-58-08                 454  179   311   398   444   452       25.0       457\n",
       "11-36-32                 457  180   309   400   449   457       25.0       458\n",
       "12-19-48                 452  175   312   399   443   453       25.0       453\n",
       "14-00-13                 456  178   302   398   449   454       25.0       457"
      ]
     },
     "metadata": {},
     "output_type": "display_data"
    },
    {
     "data": {
      "text/html": [
       "<div>\n",
       "<style scoped>\n",
       "    .dataframe tbody tr th:only-of-type {\n",
       "        vertical-align: middle;\n",
       "    }\n",
       "\n",
       "    .dataframe tbody tr th {\n",
       "        vertical-align: top;\n",
       "    }\n",
       "\n",
       "    .dataframe thead th {\n",
       "        text-align: right;\n",
       "    }\n",
       "</style>\n",
       "<table border=\"1\" class=\"dataframe\">\n",
       "  <thead>\n",
       "    <tr style=\"text-align: right;\">\n",
       "      <th></th>\n",
       "      <th>totalSpeed</th>\n",
       "      <th>meanSpeed</th>\n",
       "      <th>maxScore</th>\n",
       "    </tr>\n",
       "  </thead>\n",
       "  <tbody>\n",
       "    <tr>\n",
       "      <th>totalSpeed</th>\n",
       "      <td>3180.906</td>\n",
       "      <td>454.415143</td>\n",
       "      <td>472.446</td>\n",
       "    </tr>\n",
       "  </tbody>\n",
       "</table>\n",
       "</div>"
      ],
      "text/plain": [
       "            totalSpeed   meanSpeed  maxScore\n",
       "totalSpeed    3180.906  454.415143   472.446"
      ]
     },
     "metadata": {},
     "output_type": "display_data"
    },
    {
     "data": {
      "text/html": [
       "\n",
       "  <div id=\"bb3f62ed-a37f-497f-8e8b-91f7f1dabe73\" data-root-id=\"p3612\" style=\"display: contents;\"></div>\n"
      ]
     },
     "metadata": {},
     "output_type": "display_data"
    },
    {
     "data": {
      "application/javascript": [
       "(function(root) {\n",
       "  function embed_document(root) {\n",
       "  const docs_json = {\"87cf393c-c1d9-47d3-8abe-e6e630b98958\":{\"version\":\"3.4.1\",\"title\":\"Bokeh Application\",\"roots\":[{\"type\":\"object\",\"name\":\"Figure\",\"id\":\"p3612\",\"attributes\":{\"width\":900,\"height\":500,\"x_range\":{\"type\":\"object\",\"name\":\"Range1d\",\"id\":\"p3622\",\"attributes\":{\"end\":35.0}},\"y_range\":{\"type\":\"object\",\"name\":\"Range1d\",\"id\":\"p3623\",\"attributes\":{\"end\":550.0}},\"x_scale\":{\"type\":\"object\",\"name\":\"LinearScale\",\"id\":\"p3624\"},\"y_scale\":{\"type\":\"object\",\"name\":\"LinearScale\",\"id\":\"p3625\"},\"title\":{\"type\":\"object\",\"name\":\"Title\",\"id\":\"p3615\",\"attributes\":{\"text\":\"All jumps in set\",\"text_color\":\"#E0E0E0\",\"text_font\":\"Helvetica\",\"text_font_size\":\"1.15em\"}},\"outline_line_color\":\"#E0E0E0\",\"outline_line_alpha\":0.25,\"renderers\":[{\"type\":\"object\",\"name\":\"GlyphRenderer\",\"id\":\"p3784\",\"attributes\":{\"data_source\":{\"type\":\"object\",\"name\":\"ColumnDataSource\",\"id\":\"p3778\",\"attributes\":{\"selected\":{\"type\":\"object\",\"name\":\"Selection\",\"id\":\"p3779\",\"attributes\":{\"indices\":[],\"line_indices\":[]}},\"selection_policy\":{\"type\":\"object\",\"name\":\"UnionRenderers\",\"id\":\"p3780\"},\"data\":{\"type\":\"map\",\"entries\":[[\"x\",{\"type\":\"ndarray\",\"array\":{\"type\":\"bytes\",\"data\":\"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\"},\"shape\":[206],\"dtype\":\"float64\",\"order\":\"little\"}],[\"y\",{\"type\":\"ndarray\",\"array\":{\"type\":\"bytes\",\"data\":\"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\"},\"shape\":[206],\"dtype\":\"float64\",\"order\":\"little\"}]]}}},\"view\":{\"type\":\"object\",\"name\":\"CDSView\",\"id\":\"p3785\",\"attributes\":{\"filter\":{\"type\":\"object\",\"name\":\"AllIndices\",\"id\":\"p3786\"}}},\"glyph\":{\"type\":\"object\",\"name\":\"Line\",\"id\":\"p3781\",\"attributes\":{\"x\":{\"type\":\"field\",\"field\":\"x\"},\"y\":{\"type\":\"field\",\"field\":\"y\"},\"line_color\":\"blue\",\"line_width\":2}},\"nonselection_glyph\":{\"type\":\"object\",\"name\":\"Line\",\"id\":\"p3782\",\"attributes\":{\"x\":{\"type\":\"field\",\"field\":\"x\"},\"y\":{\"type\":\"field\",\"field\":\"y\"},\"line_color\":\"blue\",\"line_alpha\":0.1,\"line_width\":2}},\"muted_glyph\":{\"type\":\"object\",\"name\":\"Line\",\"id\":\"p3783\",\"attributes\":{\"x\":{\"type\":\"field\",\"field\":\"x\"},\"y\":{\"type\":\"field\",\"field\":\"y\"},\"line_color\":\"blue\",\"line_alpha\":0.2,\"line_width\":2}}}},{\"type\":\"object\",\"name\":\"GlyphRenderer\",\"id\":\"p3926\",\"attributes\":{\"data_source\":{\"type\":\"object\",\"name\":\"ColumnDataSource\",\"id\":\"p3920\",\"attributes\":{\"selected\":{\"type\":\"object\",\"name\":\"Selection\",\"id\":\"p3921\",\"attributes\":{\"indices\":[],\"line_indices\":[]}},\"selection_policy\":{\"type\":\"object\",\"name\":\"UnionRenderers\",\"id\":\"p3922\"},\"data\":{\"type\":\"map\",\"entries\":[[\"x\",{\"type\":\"ndarray\",\"array\":{\"type\":\"bytes\",\"data\":\"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\"},\"shape\":[204],\"dtype\":\"float64\",\"order\":\"little\"}],[\"y\",{\"type\":\"ndarray\",\"array\":{\"type\":\"bytes\",\"data\":\"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\"},\"shape\":[204],\"dtype\":\"float64\",\"order\":\"little\"}]]}}},\"view\":{\"type\":\"object\",\"name\":\"CDSView\",\"id\":\"p3927\",\"attributes\":{\"filter\":{\"type\":\"object\",\"name\":\"AllIndices\",\"id\":\"p3928\"}}},\"glyph\":{\"type\":\"object\",\"name\":\"Line\",\"id\":\"p3923\",\"attributes\":{\"x\":{\"type\":\"field\",\"field\":\"x\"},\"y\":{\"type\":\"field\",\"field\":\"y\"},\"line_color\":\"tomato\",\"line_width\":2}},\"nonselection_glyph\":{\"type\":\"object\",\"name\":\"Line\",\"id\":\"p3924\",\"attributes\":{\"x\":{\"type\":\"field\",\"field\":\"x\"},\"y\":{\"type\":\"field\",\"field\":\"y\"},\"line_color\":\"tomato\",\"line_alpha\":0.1,\"line_width\":2}},\"muted_glyph\":{\"type\":\"object\",\"name\":\"Line\",\"id\":\"p3925\",\"attributes\":{\"x\":{\"type\":\"field\",\"field\":\"x\"},\"y\":{\"type\":\"field\",\"field\":\"y\"},\"line_color\":\"tomato\",\"line_alpha\":0.2,\"line_width\":2}}}},{\"type\":\"object\",\"name\":\"GlyphRenderer\",\"id\":\"p4067\",\"attributes\":{\"data_source\":{\"type\":\"object\",\"name\":\"ColumnDataSource\",\"id\":\"p4061\",\"attributes\":{\"selected\":{\"type\":\"object\",\"name\":\"Selection\",\"id\":\"p4062\",\"attributes\":{\"indices\":[],\"line_indices\":[]}},\"selection_policy\":{\"type\":\"object\",\"name\":\"UnionRenderers\",\"id\":\"p4063\"},\"data\":{\"type\":\"map\",\"entries\":[[\"x\",{\"type\":\"ndarray\",\"array\":{\"type\":\"bytes\",\"data\":\"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\"},\"shape\":[213],\"dtype\":\"float64\",\"order\":\"little\"}],[\"y\",{\"type\":\"ndarray\",\"array\":{\"type\":\"bytes\",\"data\":\"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\"},\"shape\":[213],\"dtype\":\"float64\",\"order\":\"little\"}]]}}},\"view\":{\"type\":\"object\",\"name\":\"CDSView\",\"id\":\"p4068\",\"attributes\":{\"filter\":{\"type\":\"object\",\"name\":\"AllIndices\",\"id\":\"p4069\"}}},\"glyph\":{\"type\":\"object\",\"name\":\"Line\",\"id\":\"p4064\",\"attributes\":{\"x\":{\"type\":\"field\",\"field\":\"x\"},\"y\":{\"type\":\"field\",\"field\":\"y\"},\"line_color\":\"turquoise\",\"line_width\":2}},\"nonselection_glyph\":{\"type\":\"object\",\"name\":\"Line\",\"id\":\"p4065\",\"attributes\":{\"x\":{\"type\":\"field\",\"field\":\"x\"},\"y\":{\"type\":\"field\",\"field\":\"y\"},\"line_color\":\"turquoise\",\"line_alpha\":0.1,\"line_width\":2}},\"muted_glyph\":{\"type\":\"object\",\"name\":\"Line\",\"id\":\"p4066\",\"attributes\":{\"x\":{\"type\":\"field\",\"field\":\"x\"},\"y\":{\"type\":\"field\",\"field\":\"y\"},\"line_color\":\"turquoise\",\"line_alpha\":0.2,\"line_width\":2}}}},{\"type\":\"object\",\"name\":\"GlyphRenderer\",\"id\":\"p4208\",\"attributes\":{\"data_source\":{\"type\":\"object\",\"name\":\"ColumnDataSource\",\"id\":\"p4202\",\"attributes\":{\"selected\":{\"type\":\"object\",\"name\":\"Selection\",\"id\":\"p4203\",\"attributes\":{\"indices\":[],\"line_indices\":[]}},\"selection_policy\":{\"type\":\"object\",\"name\":\"UnionRenderers\",\"id\":\"p4204\"},\"data\":{\"type\":\"map\",\"entries\":[[\"x\",{\"type\":\"ndarray\",\"array\":{\"type\":\"bytes\",\"data\":\"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\"},\"shape\":[211],\"dtype\":\"float64\",\"order\":\"little\"}],[\"y\",{\"type\":\"ndarray\",\"array\":{\"type\":\"bytes\",\"data\":\"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\"},\"shape\":[211],\"dtype\":\"float64\",\"order\":\"little\"}]]}}},\"view\":{\"type\":\"object\",\"name\":\"CDSView\",\"id\":\"p4209\",\"attributes\":{\"filter\":{\"type\":\"object\",\"name\":\"AllIndices\",\"id\":\"p4210\"}}},\"glyph\":{\"type\":\"object\",\"name\":\"Line\",\"id\":\"p4205\",\"attributes\":{\"x\":{\"type\":\"field\",\"field\":\"x\"},\"y\":{\"type\":\"field\",\"field\":\"y\"},\"line_color\":\"deepskyblue\",\"line_width\":2}},\"nonselection_glyph\":{\"type\":\"object\",\"name\":\"Line\",\"id\":\"p4206\",\"attributes\":{\"x\":{\"type\":\"field\",\"field\":\"x\"},\"y\":{\"type\":\"field\",\"field\":\"y\"},\"line_color\":\"deepskyblue\",\"line_alpha\":0.1,\"line_width\":2}},\"muted_glyph\":{\"type\":\"object\",\"name\":\"Line\",\"id\":\"p4207\",\"attributes\":{\"x\":{\"type\":\"field\",\"field\":\"x\"},\"y\":{\"type\":\"field\",\"field\":\"y\"},\"line_color\":\"deepskyblue\",\"line_alpha\":0.2,\"line_width\":2}}}},{\"type\":\"object\",\"name\":\"GlyphRenderer\",\"id\":\"p4349\",\"attributes\":{\"data_source\":{\"type\":\"object\",\"name\":\"ColumnDataSource\",\"id\":\"p4343\",\"attributes\":{\"selected\":{\"type\":\"object\",\"name\":\"Selection\",\"id\":\"p4344\",\"attributes\":{\"indices\":[],\"line_indices\":[]}},\"selection_policy\":{\"type\":\"object\",\"name\":\"UnionRenderers\",\"id\":\"p4345\"},\"data\":{\"type\":\"map\",\"entries\":[[\"x\",{\"type\":\"ndarray\",\"array\":{\"type\":\"bytes\",\"data\":\"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\"},\"shape\":[206],\"dtype\":\"float64\",\"order\":\"little\"}],[\"y\",{\"type\":\"ndarray\",\"array\":{\"type\":\"bytes\",\"data\":\"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\"},\"shape\":[206],\"dtype\":\"float64\",\"order\":\"little\"}]]}}},\"view\":{\"type\":\"object\",\"name\":\"CDSView\",\"id\":\"p4350\",\"attributes\":{\"filter\":{\"type\":\"object\",\"name\":\"AllIndices\",\"id\":\"p4351\"}}},\"glyph\":{\"type\":\"object\",\"name\":\"Line\",\"id\":\"p4346\",\"attributes\":{\"x\":{\"type\":\"field\",\"field\":\"x\"},\"y\":{\"type\":\"field\",\"field\":\"y\"},\"line_color\":\"forestgreen\",\"line_width\":2}},\"nonselection_glyph\":{\"type\":\"object\",\"name\":\"Line\",\"id\":\"p4347\",\"attributes\":{\"x\":{\"type\":\"field\",\"field\":\"x\"},\"y\":{\"type\":\"field\",\"field\":\"y\"},\"line_color\":\"forestgreen\",\"line_alpha\":0.1,\"line_width\":2}},\"muted_glyph\":{\"type\":\"object\",\"name\":\"Line\",\"id\":\"p4348\",\"attributes\":{\"x\":{\"type\":\"field\",\"field\":\"x\"},\"y\":{\"type\":\"field\",\"field\":\"y\"},\"line_color\":\"forestgreen\",\"line_alpha\":0.2,\"line_width\":2}}}},{\"type\":\"object\",\"name\":\"GlyphRenderer\",\"id\":\"p4490\",\"attributes\":{\"data_source\":{\"type\":\"object\",\"name\":\"ColumnDataSource\",\"id\":\"p4484\",\"attributes\":{\"selected\":{\"type\":\"object\",\"name\":\"Selection\",\"id\":\"p4485\",\"attributes\":{\"indices\":[],\"line_indices\":[]}},\"selection_policy\":{\"type\":\"object\",\"name\":\"UnionRenderers\",\"id\":\"p4486\"},\"data\":{\"type\":\"map\",\"entries\":[[\"x\",{\"type\":\"ndarray\",\"array\":{\"type\":\"bytes\",\"data\":\"AAAAAAAAAAAAAAAAmJm5PwAAAACamck/AAAAADMz0z8AAAAAmZnZPwAAAAAAAOA/AAAAADMz4z8AAACAZmbmPwAAAICZmek/AAAAgMzM7D8AAAAAAADwPwAAAICZmfE/AAAAQDMz8z8AAADAzMz0PwAAAEBmZvY/AAAAAAAA+D8AAACAmZn5PwAAAEAzM/s/AAAAwMzM/D8AAABAZmb+PwAAAAAAAABAAAAAwMzMAEAAAACgmZkBQAAAAGBmZgJAAAAAIDMzA0AAAAAAAAAEQAAAAMDMzARAAAAAoJmZBUAAAABgZmYGQAAAACAzMwdAAAAAAAAACEAAAADAzMwIQAAAAKCZmQlAAAAAYGZmCkAAAAAgMzMLQAAAAAAAAAxAAAAAwMzMDEAAAACgmZkNQAAAAGBmZg5AAAAAIDMzD0AAAAAAAAAQQAAAAGBmZhBAAAAA0MzMEEAAAAAwMzMRQAAAAJCZmRFAAAAAAAAAEkAAAABgZmYSQAAAANDMzBJAAAAAMDMzE0AAAACQmZkTQAAAAAAAABRAAAAA0MzMFEAAAAAwMzMVQAAAAJCZmRVAAAAAAAAAFkAAAADQzMwWQAAAADAzMxdAAAAAAAAAGEAAAABgZmYYQAAAANDMzBhAAAAAMDMzGUAAAACQmZkZQAAAAGBmZhpAAAAAMDMzG0AAAACQmZkbQAAAAAAAABxAAAAAYGZmHEAAAADQzMwcQAAAAJCZmR1AAAAAAAAAHkAAAABgZmYeQAAAANDMzB5AAAAAMDMzH0AAAAAAAAAgQAAAAGhmZiBAAAAAmJmZIEAAAADIzMwgQAAAAAAAACFAAAAAMDMzIUAAAACYmZkhQAAAAMjMzCFAAAAAAAAAIkAAAAAwMzMiQAAAAGhmZiJAAAAAyMzMIkAAAAAAAAAjQAAAADAzMyNAAAAAaGZmI0AAAADIzMwjQAAAAAAAACRAAAAAaGZmJEAAAACYmZkkQAAAAMjMzCRAAAAAAAAAJUAAAAAwMzMlQAAAAJiZmSVAAAAAAAAAJkAAAAAwMzMmQAAAAGhmZiZAAAAAmJmZJkAAAADIzMwmQAAAADAzMydAAAAAaGZmJ0AAAACYmZknQAAAAMjMzCdAAAAAAAAAKEAAAABoZmYoQAAAAJiZmShAAAAAyMzMKEAAAAAAAAApQAAAAGhmZilAAAAAmJmZKUAAAAAAAAAqQAAAADAzMypAAAAAaGZmKkAAAACYmZkqQAAAAAAAACtAAAAAMDMzK0AAAABoZmYrQAAAAJiZmStAAAAAyMzMK0AAAAAwMzMsQAAAAGhmZixAAAAAmJmZLEAAAADIzMwsQAAAAAAAAC1AAAAAaGZmLUAAAADIzMwtQAAAAAAAAC5AAAAAaGZmLkAAAACYmZkuQAAAAMjMzC5AAAAAAAAAL0AAAAAwMzMvQAAAAJiZmS9AAAAAyMzML0AAAAAAAAAwQAAAAJiZGTBAAAAAzMxMMEAAAABkZmYwQAAAAJiZmTBAAAAANDOzMEAAAADMzMwwQAAAAGRm5jBAAAAAAAAAMUAAAAA0MzMxQAAAAGRmZjFAAAAAAACAMUAAAAA0M7MxQAAAAMzMzDFAAAAAZGbmMUAAAAAAAAAyQAAAAJiZGTJAAAAAzMxMMkAAAABkZmYyQAAAAAAAgDJAAAAAmJmZMkAAAADMzMwyQAAAAGRm5jJAAAAAAAAAM0AAAACYmRkzQAAAADQzMzNAAAAAZGZmM0AAAAAAAIAzQAAAADQzszNAAAAAzMzMM0AAAAAAAAA0QAAAAJiZGTRAAAAANDMzNEAAAADMzEw0QAAAAAAAgDRAAAAAmJmZNEAAAAA0M7M0QAAAAMzMzDRAAAAAZGbmNEAAAACYmRk1QAAAADQzMzVAAAAAzMxMNUAAAABkZmY1QAAAAJiZmTVAAAAANDOzNUAAAABkZuY1QAAAAAAAADZAAAAAmJkZNkAAAAA0MzM2QAAAAMzMTDZAAAAAZGZmNkAAAAAAAIA2QAAAADQzszZAAAAAzMzMNkAAAAAAAAA3QAAAAJiZGTdAAAAANDMzN0AAAADMzEw3QAAAAGRmZjdAAAAAAACAN0AAAACYmZk3QAAAAMzMzDdAAAAAZGbmN0AAAACYmRk4QAAAADQzMzhAAAAAZGZmOEAAAAAAAIA4QAAAAJiZmThAAAAANDOzOEAAAADMzMw4QAAAAAAAADlAAAAAmJkZOUAAAAA0MzM5QAAAAMzMTDlAAAAAAACAOUA=\"},\"shape\":[211],\"dtype\":\"float64\",\"order\":\"little\"}],[\"y\",{\"type\":\"ndarray\",\"array\":{\"type\":\"bytes\",\"data\":\"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\"},\"shape\":[211],\"dtype\":\"float64\",\"order\":\"little\"}]]}}},\"view\":{\"type\":\"object\",\"name\":\"CDSView\",\"id\":\"p4491\",\"attributes\":{\"filter\":{\"type\":\"object\",\"name\":\"AllIndices\",\"id\":\"p4492\"}}},\"glyph\":{\"type\":\"object\",\"name\":\"Line\",\"id\":\"p4487\",\"attributes\":{\"x\":{\"type\":\"field\",\"field\":\"x\"},\"y\":{\"type\":\"field\",\"field\":\"y\"},\"line_color\":\"coral\",\"line_width\":2}},\"nonselection_glyph\":{\"type\":\"object\",\"name\":\"Line\",\"id\":\"p4488\",\"attributes\":{\"x\":{\"type\":\"field\",\"field\":\"x\"},\"y\":{\"type\":\"field\",\"field\":\"y\"},\"line_color\":\"coral\",\"line_alpha\":0.1,\"line_width\":2}},\"muted_glyph\":{\"type\":\"object\",\"name\":\"Line\",\"id\":\"p4489\",\"attributes\":{\"x\":{\"type\":\"field\",\"field\":\"x\"},\"y\":{\"type\":\"field\",\"field\":\"y\"},\"line_color\":\"coral\",\"line_alpha\":0.2,\"line_width\":2}}}},{\"type\":\"object\",\"name\":\"GlyphRenderer\",\"id\":\"p4631\",\"attributes\":{\"data_source\":{\"type\":\"object\",\"name\":\"ColumnDataSource\",\"id\":\"p4625\",\"attributes\":{\"selected\":{\"type\":\"object\",\"name\":\"Selection\",\"id\":\"p4626\",\"attributes\":{\"indices\":[],\"line_indices\":[]}},\"selection_policy\":{\"type\":\"object\",\"name\":\"UnionRenderers\",\"id\":\"p4627\"},\"data\":{\"type\":\"map\",\"entries\":[[\"x\",{\"type\":\"ndarray\",\"array\":{\"type\":\"bytes\",\"data\":\"AAAAAAAAAAAAAAAAmpnJPwAAAAAzM9M/AAAAAAAA4D8AAACAZmbmPwAAAADNzOw/AAAAwJmZ8T8AAADAzMz0PwAAAAAAAPg/AAAAQDMz+z8AAACAZmb+PwAAAAAAAABAAAAAoJmZAUAAAABgZmYCQAAAAEAzMwNAAAAAAAAABEAAAADgzMwEQAAAAKCZmQVAAAAAYGZmBkAAAABAMzMHQAAAAAAAAAhAAAAA4MzMCEAAAACgmZkJQAAAAGBmZgpAAAAAAAAADEAAAACgmZkNQAAAAGBmZg5AAAAAAAAAEEAAAADQzMwQQAAAADAzMxFAAAAAoJmZEUAAAAAAAAASQAAAANDMzBJAAAAAMDMzE0AAAAAAAAAUQAAAAHBmZhRAAAAA0MzMFEAAAAAwMzMVQAAAAKCZmRVAAAAAAAAAFkAAAABwZmYWQAAAANDMzBZAAAAAMDMzF0AAAAAAAAAYQAAAAHBmZhhAAAAA0MzMGEAAAAAwMzMZQAAAAKCZmRlAAAAAAAAAGkAAAABwZmYaQAAAANDMzBpAAAAAMDMzG0AAAAAAAAAcQAAAAHBmZhxAAAAA0MzMHEAAAAAwMzMdQAAAAKCZmR1AAAAAAAAAHkAAAABwZmYeQAAAANDMzB5AAAAAMDMzH0AAAAA4MzMgQAAAAGhmZiBAAAAAmJmZIEAAAADQzMwgQAAAAAAAACFAAAAAODMzIUAAAACYmZkhQAAAAAAAACJAAAAAaGZmIkAAAACYmZkiQAAAAAAAACNAAAAAODMzI0AAAABoZmYjQAAAAJiZmSNAAAAAAAAAJEAAAAA4MzMkQAAAAJiZmSRAAAAA0MzMJEAAAAAAAAAlQAAAADgzMyVAAAAAaGZmJUAAAACYmZklQAAAAAAAACZAAAAAODMzJkAAAABoZmYmQAAAAJiZmSZAAAAA0MzMJkAAAAAAAAAnQAAAADgzMydAAAAAaGZmJ0AAAAAAAAAoQAAAADgzMyhAAAAAaGZmKEAAAACYmZkoQAAAANDMzChAAAAAAAAAKUAAAABoZmYpQAAAAJiZmSlAAAAAAAAAKkAAAAA4MzMqQAAAAGhmZipAAAAA0MzMKkAAAAAAAAArQAAAADgzMytAAAAAaGZmK0AAAACYmZkrQAAAAAAAACxAAAAAODMzLEAAAABoZmYsQAAAAJiZmSxAAAAA0MzMLEAAAAAAAAAtQAAAADgzMy1AAAAAmJmZLUAAAAAAAAAuQAAAAGhmZi5AAAAA0MzMLkAAAAAAAAAvQAAAADgzMy9AAAAAaGZmL0AAAACYmZkvQAAAAAAAADBAAAAAnJkZMEAAAAA0MzMwQAAAAMzMTDBAAAAAaGZmMEAAAACcmZkwQAAAADQzszBAAAAAzMzMMEAAAAAAAAAxQAAAAJyZGTFAAAAANDMzMUAAAADMzEwxQAAAAAAAgDFAAAAAnJmZMUAAAAA0M7MxQAAAAGhm5jFAAAAAAAAAMkAAAACcmRkyQAAAADQzMzJAAAAAzMxMMkAAAABoZmYyQAAAAAAAgDJAAAAAnJmZMkAAAAA0M7MyQAAAAMzMzDJAAAAAAAAAM0AAAACcmRkzQAAAADQzMzNAAAAAzMxMM0AAAABoZmYzQAAAAAAAgDNAAAAAnJmZM0AAAAA0M7MzQAAAAMzMzDNAAAAAaGbmM0AAAACcmRk0QAAAADQzMzRAAAAAzMxMNEAAAABoZmY0QAAAAAAAgDRAAAAAnJmZNEAAAADMzMw0QAAAAAAAADVAAAAAnJkZNUAAAAA0MzM1QAAAAMzMTDVAAAAAAACANUAAAACcmZk1QAAAADQzszVAAAAAzMzMNUAAAAAAAAA2QAAAAJyZGTZAAAAAzMxMNkAAAABoZmY2QAAAAAAAgDZAAAAAnJmZNkAAAAA0M7M2QAAAAMzMzDZAAAAAAAAAN0AAAACcmRk3QAAAADQzMzdAAAAAzMxMN0AAAAAAAIA3QAAAAJyZmTdAAAAANDOzN0AAAADMzMw3QAAAAAAAADhAAAAAnJkZOEAAAAA0MzM4QAAAAMzMTDhAAAAAaGZmOEAAAAAAAIA4QAAAAJyZmThAAAAANDOzOEAAAADMzMw4QAAAAJyZGTlAAAAANDMzOUAAAABoZmY5QA==\"},\"shape\":[200],\"dtype\":\"float64\",\"order\":\"little\"}],[\"y\",{\"type\":\"ndarray\",\"array\":{\"type\":\"bytes\",\"data\":\"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\"},\"shape\":[200],\"dtype\":\"float64\",\"order\":\"little\"}]]}}},\"view\":{\"type\":\"object\",\"name\":\"CDSView\",\"id\":\"p4632\",\"attributes\":{\"filter\":{\"type\":\"object\",\"name\":\"AllIndices\",\"id\":\"p4633\"}}},\"glyph\":{\"type\":\"object\",\"name\":\"Line\",\"id\":\"p4628\",\"attributes\":{\"x\":{\"type\":\"field\",\"field\":\"x\"},\"y\":{\"type\":\"field\",\"field\":\"y\"},\"line_color\":\"darkcyan\",\"line_width\":2}},\"nonselection_glyph\":{\"type\":\"object\",\"name\":\"Line\",\"id\":\"p4629\",\"attributes\":{\"x\":{\"type\":\"field\",\"field\":\"x\"},\"y\":{\"type\":\"field\",\"field\":\"y\"},\"line_color\":\"darkcyan\",\"line_alpha\":0.1,\"line_width\":2}},\"muted_glyph\":{\"type\":\"object\",\"name\":\"Line\",\"id\":\"p4630\",\"attributes\":{\"x\":{\"type\":\"field\",\"field\":\"x\"},\"y\":{\"type\":\"field\",\"field\":\"y\"},\"line_color\":\"darkcyan\",\"line_alpha\":0.2,\"line_width\":2}}}}],\"toolbar\":{\"type\":\"object\",\"name\":\"Toolbar\",\"id\":\"p3621\",\"attributes\":{\"tools\":[{\"type\":\"object\",\"name\":\"PanTool\",\"id\":\"p3636\"},{\"type\":\"object\",\"name\":\"WheelZoomTool\",\"id\":\"p3637\",\"attributes\":{\"renderers\":\"auto\"}},{\"type\":\"object\",\"name\":\"BoxZoomTool\",\"id\":\"p3638\",\"attributes\":{\"overlay\":{\"type\":\"object\",\"name\":\"BoxAnnotation\",\"id\":\"p3639\",\"attributes\":{\"syncable\":false,\"level\":\"overlay\",\"visible\":false,\"left\":{\"type\":\"number\",\"value\":\"nan\"},\"right\":{\"type\":\"number\",\"value\":\"nan\"},\"top\":{\"type\":\"number\",\"value\":\"nan\"},\"bottom\":{\"type\":\"number\",\"value\":\"nan\"},\"left_units\":\"canvas\",\"right_units\":\"canvas\",\"top_units\":\"canvas\",\"bottom_units\":\"canvas\",\"line_color\":\"black\",\"line_alpha\":1.0,\"line_width\":2,\"line_dash\":[4,4],\"fill_color\":\"lightgrey\",\"fill_alpha\":0.5}}}},{\"type\":\"object\",\"name\":\"SaveTool\",\"id\":\"p3644\"},{\"type\":\"object\",\"name\":\"ResetTool\",\"id\":\"p3645\"},{\"type\":\"object\",\"name\":\"HelpTool\",\"id\":\"p3646\"}]}},\"left\":[{\"type\":\"object\",\"name\":\"LinearAxis\",\"id\":\"p3631\",\"attributes\":{\"ticker\":{\"type\":\"object\",\"name\":\"BasicTicker\",\"id\":\"p3632\",\"attributes\":{\"mantissas\":[1,2,5]}},\"formatter\":{\"type\":\"object\",\"name\":\"BasicTickFormatter\",\"id\":\"p3633\"},\"axis_label\":\"km/h\",\"axis_label_standoff\":10,\"axis_label_text_color\":\"#E0E0E0\",\"axis_label_text_font\":\"Helvetica\",\"axis_label_text_font_size\":\"1.25em\",\"axis_label_text_font_style\":\"normal\",\"major_label_policy\":{\"type\":\"object\",\"name\":\"AllLabels\",\"id\":\"p3634\"},\"major_label_text_color\":\"#E0E0E0\",\"major_label_text_font\":\"Helvetica\",\"major_label_text_font_size\":\"1.025em\",\"axis_line_color\":\"#E0E0E0\",\"axis_line_alpha\":0,\"major_tick_line_color\":\"#E0E0E0\",\"major_tick_line_alpha\":0,\"minor_tick_line_color\":\"#E0E0E0\",\"minor_tick_line_alpha\":0}}],\"below\":[{\"type\":\"object\",\"name\":\"LinearAxis\",\"id\":\"p3626\",\"attributes\":{\"ticker\":{\"type\":\"object\",\"name\":\"BasicTicker\",\"id\":\"p3627\",\"attributes\":{\"mantissas\":[1,2,5]}},\"formatter\":{\"type\":\"object\",\"name\":\"BasicTickFormatter\",\"id\":\"p3628\"},\"axis_label\":\"seconds from exit\",\"axis_label_standoff\":10,\"axis_label_text_color\":\"#E0E0E0\",\"axis_label_text_font\":\"Helvetica\",\"axis_label_text_font_size\":\"1.25em\",\"axis_label_text_font_style\":\"normal\",\"major_label_policy\":{\"type\":\"object\",\"name\":\"AllLabels\",\"id\":\"p3629\"},\"major_label_text_color\":\"#E0E0E0\",\"major_label_text_font\":\"Helvetica\",\"major_label_text_font_size\":\"1.025em\",\"axis_line_color\":\"#E0E0E0\",\"axis_line_alpha\":0,\"major_tick_line_color\":\"#E0E0E0\",\"major_tick_line_alpha\":0,\"minor_tick_line_color\":\"#E0E0E0\",\"minor_tick_line_alpha\":0}}],\"center\":[{\"type\":\"object\",\"name\":\"Grid\",\"id\":\"p3630\",\"attributes\":{\"axis\":{\"id\":\"p3626\"},\"grid_line_color\":\"#E0E0E0\",\"grid_line_alpha\":0.25}},{\"type\":\"object\",\"name\":\"Grid\",\"id\":\"p3635\",\"attributes\":{\"dimension\":1,\"axis\":{\"id\":\"p3631\"},\"grid_line_color\":\"#E0E0E0\",\"grid_line_alpha\":0.25}},{\"type\":\"object\",\"name\":\"Legend\",\"id\":\"p3787\",\"attributes\":{\"border_line_alpha\":0,\"background_fill_color\":\"#20262B\",\"background_fill_alpha\":0.25,\"label_text_color\":\"#E0E0E0\",\"label_text_font\":\"Helvetica\",\"label_text_font_size\":\"1.025em\",\"label_standoff\":8,\"glyph_width\":15,\"spacing\":8,\"items\":[{\"type\":\"object\",\"name\":\"LegendItem\",\"id\":\"p3788\",\"attributes\":{\"label\":{\"type\":\"value\",\"value\":\"00-00-00-EC-baselinex - 472.45\"},\"renderers\":[{\"id\":\"p3784\"}]}},{\"type\":\"object\",\"name\":\"LegendItem\",\"id\":\"p3929\",\"attributes\":{\"label\":{\"type\":\"value\",\"value\":\"09-03-31 - 440.46\"},\"renderers\":[{\"id\":\"p3926\"}]}},{\"type\":\"object\",\"name\":\"LegendItem\",\"id\":\"p4070\",\"attributes\":{\"label\":{\"type\":\"value\",\"value\":\"10-08-57 - 449.98\"},\"renderers\":[{\"id\":\"p4067\"}]}},{\"type\":\"object\",\"name\":\"LegendItem\",\"id\":\"p4211\",\"attributes\":{\"label\":{\"type\":\"value\",\"value\":\"10-58-08 - 454.01\"},\"renderers\":[{\"id\":\"p4208\"}]}},{\"type\":\"object\",\"name\":\"LegendItem\",\"id\":\"p4352\",\"attributes\":{\"label\":{\"type\":\"value\",\"value\":\"11-36-32 - 456.79\"},\"renderers\":[{\"id\":\"p4349\"}]}},{\"type\":\"object\",\"name\":\"LegendItem\",\"id\":\"p4493\",\"attributes\":{\"label\":{\"type\":\"value\",\"value\":\"12-19-48 - 451.60\"},\"renderers\":[{\"id\":\"p4490\"}]}},{\"type\":\"object\",\"name\":\"LegendItem\",\"id\":\"p4634\",\"attributes\":{\"label\":{\"type\":\"value\",\"value\":\"14-00-13 - 455.62\"},\"renderers\":[{\"id\":\"p4631\"}]}}]}}],\"background_fill_color\":\"#20262B\",\"border_fill_color\":\"#15191C\"}}]}};\n",
       "  const render_items = [{\"docid\":\"87cf393c-c1d9-47d3-8abe-e6e630b98958\",\"roots\":{\"p3612\":\"bb3f62ed-a37f-497f-8e8b-91f7f1dabe73\"},\"root_ids\":[\"p3612\"]}];\n",
       "  void root.Bokeh.embed.embed_items_notebook(docs_json, render_items);\n",
       "  }\n",
       "  if (root.Bokeh !== undefined) {\n",
       "    embed_document(root);\n",
       "  } else {\n",
       "    let attempts = 0;\n",
       "    const timer = setInterval(function(root) {\n",
       "      if (root.Bokeh !== undefined) {\n",
       "        clearInterval(timer);\n",
       "        embed_document(root);\n",
       "      } else {\n",
       "        attempts++;\n",
       "        if (attempts > 100) {\n",
       "          clearInterval(timer);\n",
       "          console.log(\"Bokeh: ERROR: Unable to run BokehJS code because BokehJS library is missing\");\n",
       "        }\n",
       "      }\n",
       "    }, 10, root)\n",
       "  }\n",
       "})(window);"
      ],
      "application/vnd.bokehjs_exec.v0+json": ""
     },
     "metadata": {
      "application/vnd.bokehjs_exec.v0+json": {
       "id": "p3612"
      }
     },
     "output_type": "display_data"
    }
   ],
   "source": [
    "display(roundedResults)\n",
    "display(sumResults)\n",
    "bp.show(allJumpsPlot)"
   ]
  }
 ],
 "metadata": {
  "kernelspec": {
   "display_name": "Python 3 (ipykernel)",
   "language": "python",
   "name": "python3"
  },
  "language_info": {
   "codemirror_mode": {
    "name": "ipython",
    "version": 3
   },
   "file_extension": ".py",
   "mimetype": "text/x-python",
   "name": "python",
   "nbconvert_exporter": "python",
   "pygments_lexer": "ipython3",
   "version": "3.11.9"
  }
 },
 "nbformat": 4,
 "nbformat_minor": 5
}
