{
 "cells": [
  {
   "cell_type": "markdown",
   "id": "36a745d9-2003-496e-a394-290f63a970b7",
   "metadata": {},
   "source": [
    "# Speed Skydiving scoring bulk files processor\n",
    "Uses the `./data` directory as a data lake.  It finds all valid FlySight files in that directory, from 0 to as many as it finds and fit in memory, and process them all.  Summary of \"all files\" or \"all jumps\" at the bottom of the document."
   ]
  },
  {
   "cell_type": "code",
   "execution_count": 37,
   "id": "98c7a164-9492-4672-904b-5bf3abf61773",
   "metadata": {
    "jupyter": {
     "source_hidden": true
    }
   },
   "outputs": [],
   "source": [
    "from collections import namedtuple\n",
    "from copy import deepcopy\n",
    "\n",
    "from ssscoring import BREAKOFF_ALTITUDE\n",
    "from ssscoring import FT_IN_M\n",
    "from ssscoring import PERFORMANCE_WINDOW_LENGTH\n",
    "from ssscoring import aggregateResults\n",
    "from ssscoring import convertFlySight2SSScoring\n",
    "from ssscoring import dropNonSkydiveDataFrom\n",
    "from ssscoring import getAllSpeedJumpFilesFrom\n",
    "from ssscoring import getSpeedSkydiveFrom\n",
    "from ssscoring import isValidJump\n",
    "from ssscoring import isValidMinimumAltitude\n",
    "from ssscoring import jumpAnalysisTable\n",
    "from ssscoring import processAllJumpFiles\n",
    "from ssscoring import roundedAggregateResults\n",
    "from ssscoring import totalResultsFrom\n",
    "from ssscoring import validFlySightHeaderIn\n",
    "from ssscoring.notebook import SPEED_COLORS\n",
    "from ssscoring.notebook import graphAltitude\n",
    "from ssscoring.notebook import graphAngle\n",
    "from ssscoring.notebook import graphJumpResult\n",
    "from ssscoring.notebook import initializeExtraYRanges\n",
    "from ssscoring.notebook import initializePlot\n",
    "\n",
    "import csv\n",
    "import os\n",
    "import os.path as path\n",
    "\n",
    "import bokeh.plotting as bp\n",
    "import bokeh.models as bm\n",
    "import ipywidgets as widgets\n",
    "import pandas as pd"
   ]
  },
  {
   "cell_type": "code",
   "execution_count": 38,
   "id": "ef1d2bf0-eaf3-4d78-b6c0-fb1bb4ed10f1",
   "metadata": {
    "jupyter": {
     "source_hidden": true
    }
   },
   "outputs": [],
   "source": [
    "DATA_LAKE_ROOT = './data'"
   ]
  },
  {
   "cell_type": "code",
   "execution_count": 39,
   "id": "b1273b5c-44c1-46c2-a125-d01ad9268a1a",
   "metadata": {},
   "outputs": [],
   "source": [
    "jumpFiles = getAllSpeedJumpFilesFrom(DATA_LAKE_ROOT)"
   ]
  },
  {
   "cell_type": "code",
   "execution_count": 40,
   "id": "53a5fe5a-dd39-40d3-bfbf-d7048374e4ea",
   "metadata": {},
   "outputs": [],
   "source": [
    "jumpResults = processAllJumpFiles(jumpFiles)"
   ]
  },
  {
   "cell_type": "markdown",
   "id": "d52db03d-d83b-4af3-9137-3011537e5ed8",
   "metadata": {},
   "source": [
    "---\n",
    "## <span style=\"color: yellow\">IMPORTANT</span> - Set the drop zone altitude MSL\n",
    "\n",
    "Set the value in ft (even though SSScoring uses meters) out of convenience because all DZs in the US, many in Asia and Mexico, and many in Europe express the altitude in feet.\n",
    "\n",
    "### Some DZs\n",
    "\n",
    "| Drop zone | Alt (ft) |\n",
    "|-----------|----------|\n",
    "| Bay Area Skydiving | 23 |\n",
    "| Skydive Arizona | 1509 |\n",
    "| Thai Sky Adventures | 21 |"
   ]
  },
  {
   "cell_type": "code",
   "execution_count": 41,
   "id": "5c95013a-4aa3-4a5e-9493-b945ead10ced",
   "metadata": {},
   "outputs": [],
   "source": [
    "dropZoneAltMSL = 92.00"
   ]
  },
  {
   "cell_type": "code",
   "execution_count": 42,
   "id": "1f091813-03b0-45bc-a30e-704fac7f968a",
   "metadata": {
    "jupyter": {
     "source_hidden": true
    }
   },
   "outputs": [
    {
     "data": {
      "application/vnd.jupyter.widget-view+json": {
       "model_id": "ef147da14f884731b94d89bbabc03499",
       "version_major": 2,
       "version_minor": 0
      },
      "text/plain": [
       "HTML(value='<h2>DZ Altitude = <span style = \"color: green\">  92.00 ft</span> (  28.04 m)<h1>')"
      ]
     },
     "metadata": {},
     "output_type": "display_data"
    }
   ],
   "source": [
    "dropZoneAltMSLMeters = dropZoneAltMSL/FT_IN_M\n",
    "display(widgets.HTML('<h2>DZ Altitude = <span style = \"color: green\">%7.2f ft</span> (%7.2f m)<h1>' % (dropZoneAltMSL, dropZoneAltMSLMeters)))"
   ]
  },
  {
   "cell_type": "markdown",
   "id": "d80518ef-f197-4e40-a74e-8089eecb725a",
   "metadata": {},
   "source": [
    "---\n",
    "## Results"
   ]
  },
  {
   "cell_type": "code",
   "execution_count": 43,
   "id": "27c12cb1-2f60-44c9-b8fa-998b3df9d878",
   "metadata": {
    "jupyter": {
     "source_hidden": true
    }
   },
   "outputs": [
    {
     "data": {
      "text/html": [
       "<div>\n",
       "<style scoped>\n",
       "    .dataframe tbody tr th:only-of-type {\n",
       "        vertical-align: middle;\n",
       "    }\n",
       "\n",
       "    .dataframe tbody tr th {\n",
       "        vertical-align: top;\n",
       "    }\n",
       "\n",
       "    .dataframe thead th {\n",
       "        text-align: right;\n",
       "    }\n",
       "</style>\n",
       "<table border=\"1\" class=\"dataframe\">\n",
       "  <thead>\n",
       "    <tr style=\"text-align: right;\">\n",
       "      <th></th>\n",
       "      <th>score</th>\n",
       "      <th>5.0</th>\n",
       "      <th>10.0</th>\n",
       "      <th>15.0</th>\n",
       "      <th>20.0</th>\n",
       "      <th>25.0</th>\n",
       "      <th>finalTime</th>\n",
       "      <th>maxSpeed</th>\n",
       "    </tr>\n",
       "  </thead>\n",
       "  <tbody>\n",
       "    <tr>\n",
       "      <th>01-00-TJ-BASELINE</th>\n",
       "      <td>479.736</td>\n",
       "      <td>175.716</td>\n",
       "      <td>315.360</td>\n",
       "      <td>413.568</td>\n",
       "      <td>466.956</td>\n",
       "      <td>483.552</td>\n",
       "      <td>24.8</td>\n",
       "      <td>483.552</td>\n",
       "    </tr>\n",
       "    <tr>\n",
       "      <th>10-53-19</th>\n",
       "      <td>458.496</td>\n",
       "      <td>170.892</td>\n",
       "      <td>284.976</td>\n",
       "      <td>387.324</td>\n",
       "      <td>434.520</td>\n",
       "      <td>458.964</td>\n",
       "      <td>25.0</td>\n",
       "      <td>462.708</td>\n",
       "    </tr>\n",
       "    <tr>\n",
       "      <th>11-38-43</th>\n",
       "      <td>457.344</td>\n",
       "      <td>170.316</td>\n",
       "      <td>301.140</td>\n",
       "      <td>385.236</td>\n",
       "      <td>435.672</td>\n",
       "      <td>460.188</td>\n",
       "      <td>25.0</td>\n",
       "      <td>461.736</td>\n",
       "    </tr>\n",
       "    <tr>\n",
       "      <th>12-55-39</th>\n",
       "      <td>472.446</td>\n",
       "      <td>177.048</td>\n",
       "      <td>295.560</td>\n",
       "      <td>397.872</td>\n",
       "      <td>457.092</td>\n",
       "      <td>475.164</td>\n",
       "      <td>25.0</td>\n",
       "      <td>476.712</td>\n",
       "    </tr>\n",
       "    <tr>\n",
       "      <th>13-45-34</th>\n",
       "      <td>460.134</td>\n",
       "      <td>179.640</td>\n",
       "      <td>304.488</td>\n",
       "      <td>383.724</td>\n",
       "      <td>441.288</td>\n",
       "      <td>463.752</td>\n",
       "      <td>25.0</td>\n",
       "      <td>464.544</td>\n",
       "    </tr>\n",
       "  </tbody>\n",
       "</table>\n",
       "</div>"
      ],
      "text/plain": [
       "                     score      5.0     10.0     15.0     20.0     25.0  \\\n",
       "01-00-TJ-BASELINE  479.736  175.716  315.360  413.568  466.956  483.552   \n",
       "10-53-19           458.496  170.892  284.976  387.324  434.520  458.964   \n",
       "11-38-43           457.344  170.316  301.140  385.236  435.672  460.188   \n",
       "12-55-39           472.446  177.048  295.560  397.872  457.092  475.164   \n",
       "13-45-34           460.134  179.640  304.488  383.724  441.288  463.752   \n",
       "\n",
       "                   finalTime  maxSpeed  \n",
       "01-00-TJ-BASELINE       24.8   483.552  \n",
       "10-53-19                25.0   462.708  \n",
       "11-38-43                25.0   461.736  \n",
       "12-55-39                25.0   476.712  \n",
       "13-45-34                25.0   464.544  "
      ]
     },
     "metadata": {},
     "output_type": "display_data"
    }
   ],
   "source": [
    "aggregate = aggregateResults(jumpResults)\n",
    "sumResults = totalResultsFrom(aggregate)\n",
    "display(aggregate)"
   ]
  },
  {
   "cell_type": "markdown",
   "id": "3fa8c207-b9cf-4275-ba37-5103e1b324a9",
   "metadata": {},
   "source": [
    "### Rounded results for training log"
   ]
  },
  {
   "cell_type": "code",
   "execution_count": 44,
   "id": "e2bfbc21-3121-436a-904f-547edb0f2d0c",
   "metadata": {},
   "outputs": [],
   "source": [
    "roundedResults = roundedAggregateResults(jumpResults)"
   ]
  },
  {
   "cell_type": "markdown",
   "id": "faf1396d-1030-477e-9d87-5c167b61328f",
   "metadata": {},
   "source": [
    "### All jumps"
   ]
  },
  {
   "cell_type": "code",
   "execution_count": 45,
   "id": "5a0571fd-5a22-4dda-94aa-56a4f2c68098",
   "metadata": {
    "jupyter": {
     "source_hidden": true
    }
   },
   "outputs": [],
   "source": [
    "def dumpSimple(table: pd.DataFrame):\n",
    "    fileName = os.path.join(DATA_LAKE_ROOT, resultRef+'.tsv')\n",
    "    simpleTable = table.copy()\n",
    "    simpleTable = simpleTable.drop('speedAngle', axis = 1)\n",
    "    simpleTable.to_csv(fileName, sep = '\\t', index = False)"
   ]
  },
  {
   "cell_type": "code",
   "execution_count": 46,
   "id": "59ff50f6-4f29-4282-a55f-af524921af19",
   "metadata": {
    "jupyter": {
     "source_hidden": true
    }
   },
   "outputs": [],
   "source": [
    "def displayJumpDataIn(resultsTable: pd.DataFrame):\n",
    "    table = resultsTable.copy()\n",
    "    # Experimental\n",
    "    # For more information on the `interpolate` method and its options, see the [pandas documentation](https://pandas.pydata.org/pandas-docs/stable/reference/api/pandas.Series.interpolate.html).\n",
    "    # Additionally, you can also consider using other libraries like `scipy` which provides more advanced interpolation methods, such as `interp1d` or `griddata`. See the [scipy documentation](https://docs.scipy.org/doc/scipy/reference/interpolate.html) for more information.\n",
    "    table.vKMh = table.vKMh.apply(round)\n",
    "    table.hKMh = table.hKMh.apply(round)\n",
    "    table['altitude (ft)'] = table['altitude (ft)'].apply(round)\n",
    "    table.netVectorKMh = table.netVectorKMh.apply(round)\n",
    "    table.index = ['']*len(table)\n",
    "    display(table)\n",
    "    # dumpSimple(table)"
   ]
  },
  {
   "cell_type": "code",
   "execution_count": 47,
   "id": "888f2fce-1e7a-4728-b86d-7975c37e75c2",
   "metadata": {
    "jupyter": {
     "source_hidden": true
    }
   },
   "outputs": [
    {
     "data": {
      "application/vnd.jupyter.widget-view+json": {
       "model_id": "0b1f8e74959c477da1dff9e1565bbd87",
       "version_major": 2,
       "version_minor": 0
      },
      "text/plain": [
       "HTML(value='<hr><h1><span style=\"color: #0f0\">01-00-TJ-BASELINE jump - 🟢 valid - score = 479.74 km/h</span></h…"
      ]
     },
     "metadata": {},
     "output_type": "display_data"
    },
    {
     "data": {
      "application/vnd.jupyter.widget-view+json": {
       "model_id": "ea4b4c4b9fd649fbbdfb568753837769",
       "version_major": 2,
       "version_minor": 0
      },
      "text/plain": [
       "HTML(value='<h3>Max speed = 484; exit at 4212 m (13818 ft), end scoring window at 1956 m (6417 ft)')"
      ]
     },
     "metadata": {},
     "output_type": "display_data"
    },
    {
     "data": {
      "application/vnd.jupyter.widget-view+json": {
       "model_id": "59e569dfbe014a21af3933e40987c798",
       "version_major": 2,
       "version_minor": 0
      },
      "text/plain": [
       "HTML(value='</h3>')"
      ]
     },
     "metadata": {},
     "output_type": "display_data"
    },
    {
     "data": {
      "text/html": [
       "<div>\n",
       "<style scoped>\n",
       "    .dataframe tbody tr th:only-of-type {\n",
       "        vertical-align: middle;\n",
       "    }\n",
       "\n",
       "    .dataframe tbody tr th {\n",
       "        vertical-align: top;\n",
       "    }\n",
       "\n",
       "    .dataframe thead th {\n",
       "        text-align: right;\n",
       "    }\n",
       "</style>\n",
       "<table border=\"1\" class=\"dataframe\">\n",
       "  <thead>\n",
       "    <tr style=\"text-align: right;\">\n",
       "      <th></th>\n",
       "      <th>time</th>\n",
       "      <th>vKMh</th>\n",
       "      <th>hKMh</th>\n",
       "      <th>speedAngle</th>\n",
       "      <th>netVectorKMh</th>\n",
       "      <th>altitude (ft)</th>\n",
       "    </tr>\n",
       "  </thead>\n",
       "  <tbody>\n",
       "    <tr>\n",
       "      <th></th>\n",
       "      <td>5.0</td>\n",
       "      <td>176</td>\n",
       "      <td>154</td>\n",
       "      <td>48.8</td>\n",
       "      <td>234</td>\n",
       "      <td>13389</td>\n",
       "    </tr>\n",
       "    <tr>\n",
       "      <th></th>\n",
       "      <td>10.0</td>\n",
       "      <td>315</td>\n",
       "      <td>113</td>\n",
       "      <td>70.2</td>\n",
       "      <td>335</td>\n",
       "      <td>12241</td>\n",
       "    </tr>\n",
       "    <tr>\n",
       "      <th></th>\n",
       "      <td>15.0</td>\n",
       "      <td>414</td>\n",
       "      <td>87</td>\n",
       "      <td>78.2</td>\n",
       "      <td>423</td>\n",
       "      <td>10556</td>\n",
       "    </tr>\n",
       "    <tr>\n",
       "      <th></th>\n",
       "      <td>20.0</td>\n",
       "      <td>467</td>\n",
       "      <td>68</td>\n",
       "      <td>81.7</td>\n",
       "      <td>472</td>\n",
       "      <td>8533</td>\n",
       "    </tr>\n",
       "    <tr>\n",
       "      <th></th>\n",
       "      <td>25.0</td>\n",
       "      <td>484</td>\n",
       "      <td>50</td>\n",
       "      <td>84.0</td>\n",
       "      <td>486</td>\n",
       "      <td>6440</td>\n",
       "    </tr>\n",
       "  </tbody>\n",
       "</table>\n",
       "</div>"
      ],
      "text/plain": [
       "  time  vKMh  hKMh  speedAngle  netVectorKMh  altitude (ft)\n",
       "   5.0   176   154        48.8           234          13389\n",
       "  10.0   315   113        70.2           335          12241\n",
       "  15.0   414    87        78.2           423          10556\n",
       "  20.0   467    68        81.7           472           8533\n",
       "  25.0   484    50        84.0           486           6440"
      ]
     },
     "metadata": {},
     "output_type": "display_data"
    },
    {
     "data": {
      "text/html": [
       "\n",
       "  <div id=\"c3fdc5eb-7cc9-4d3a-8706-047acebf7451\" data-root-id=\"p2574\" style=\"display: contents;\"></div>\n"
      ]
     },
     "metadata": {},
     "output_type": "display_data"
    },
    {
     "data": {
      "application/javascript": [
       "(function(root) {\n",
       "  function embed_document(root) {\n",
       "  const docs_json = {\"61821957-0782-4e79-aa33-7d677fa1d955\":{\"version\":\"3.4.1\",\"title\":\"Bokeh Application\",\"roots\":[{\"type\":\"object\",\"name\":\"Figure\",\"id\":\"p2574\",\"attributes\":{\"width\":900,\"height\":500,\"x_range\":{\"type\":\"object\",\"name\":\"Range1d\",\"id\":\"p2584\",\"attributes\":{\"end\":35.0}},\"y_range\":{\"type\":\"object\",\"name\":\"Range1d\",\"id\":\"p2585\",\"attributes\":{\"end\":550.0}},\"x_scale\":{\"type\":\"object\",\"name\":\"LinearScale\",\"id\":\"p2586\"},\"y_scale\":{\"type\":\"object\",\"name\":\"LinearScale\",\"id\":\"p2587\"},\"extra_y_ranges\":{\"type\":\"map\",\"entries\":[[\"altitudeFt\",{\"type\":\"object\",\"name\":\"Range1d\",\"id\":\"p2609\",\"attributes\":{\"start\":5939.7314032,\"end\":14318.9362904}}],[\"angle\",{\"type\":\"object\",\"name\":\"Range1d\",\"id\":\"p2610\",\"attributes\":{\"end\":90.0}}]]},\"title\":{\"type\":\"object\",\"name\":\"Title\",\"id\":\"p2577\",\"attributes\":{\"text\":\"01-00-TJ-BASELINE\",\"text_color\":\"#E0E0E0\",\"text_font\":\"Helvetica\",\"text_font_size\":\"1.15em\"}},\"outline_line_color\":\"#E0E0E0\",\"outline_line_alpha\":0.25,\"renderers\":[{\"type\":\"object\",\"name\":\"GlyphRenderer\",\"id\":\"p2625\",\"attributes\":{\"y_range_name\":\"altitudeFt\",\"data_source\":{\"type\":\"object\",\"name\":\"ColumnDataSource\",\"id\":\"p2619\",\"attributes\":{\"selected\":{\"type\":\"object\",\"name\":\"Selection\",\"id\":\"p2620\",\"attributes\":{\"indices\":[],\"line_indices\":[]}},\"selection_policy\":{\"type\":\"object\",\"name\":\"UnionRenderers\",\"id\":\"p2621\"},\"data\":{\"type\":\"map\",\"entries\":[[\"x\",{\"type\":\"ndarray\",\"array\":{\"type\":\"bytes\",\"data\":\"AAAAAAAAAAAAAAAAmJnJPwAAAACZmdk/AAAAADMz4z8AAACAmZnpPwAAAAAAAPA/AAAAADMz8z8AAABAZmb2PwAAAICZmfk/AAAAwMzM/D8AAAAAAAAAQAAAAICZmQFAAAAAIDMzA0AAAADAzMwEQAAAAGBmZgZAAAAAAAAACEAAAACAmZkJQAAAACAzMwtAAAAAwMzMDEAAAABgZmYOQAAAAAAAABBAAAAAwMzMEEAAAACQmZkRQAAAAGBmZhJAAAAAMDMzE0AAAAAAAAAUQAAAAMDMzBRAAAAAkJmZFUAAAABgZmYWQAAAADAzMxdAAAAAAAAAGEAAAADAzMwYQAAAAJCZmRlAAAAAYGZmGkAAAAAwMzMbQAAAAAAAABxAAAAAwMzMHEAAAACQmZkdQAAAAGBmZh5AAAAAMDMzH0AAAAAAAAAgQAAAAGBmZiBAAAAAyMzMIEAAAAAwMzMhQAAAAJiZmSFAAAAAAAAAIkAAAABgZmYiQAAAAMjMzCJAAAAAMDMzI0AAAACYmZkjQAAAAAAAACRAAAAAYGZmJEAAAADIzMwkQAAAADAzMyVAAAAAmJmZJUAAAAAAAAAmQAAAAGBmZiZAAAAAyMzMJkAAAAAwMzMnQAAAAJiZmSdAAAAAAAAAKEAAAABgZmYoQAAAAMjMzChAAAAAMDMzKUAAAACYmZkpQAAAAAAAACpAAAAAYGZmKkAAAADIzMwqQAAAADAzMytAAAAAmJmZK0AAAAAAAAAsQAAAAGBmZixAAAAAyMzMLEAAAAAwMzMtQAAAAJiZmS1AAAAAAAAALkAAAABgZmYuQAAAAMjMzC5AAAAAMDMzL0AAAACYmZkvQAAAAAAAADBAAAAAMDMzMEAAAABkZmYwQAAAAJiZmTBAAAAAzMzMMEAAAAAAAAAxQAAAADAzMzFAAAAAZGZmMUAAAACYmZkxQAAAAMzMzDFAAAAAAAAAMkAAAAAwMzMyQAAAAGRmZjJAAAAAmJmZMkAAAADMzMwyQAAAAAAAADNAAAAAMDMzM0AAAABkZmYzQAAAAJiZmTNAAAAAzMzMM0AAAAAAAAA0QAAAADAzMzRAAAAAZGZmNEAAAACYmZk0QAAAAMzMzDRAAAAAAAAANUAAAAAwMzM1QAAAAGRmZjVAAAAAmJmZNUAAAADMzMw1QAAAAAAAADZAAAAAMDMzNkAAAABkZmY2QAAAAJiZmTZAAAAAzMzMNkAAAAAAAAA3QAAAADAzMzdAAAAAZGZmN0AAAACYmZk3QAAAAMzMzDdAAAAAAAAAOEAAAAAwMzM4QAAAAGRmZjhAAAAAmJmZOEAAAADMzMw4QA==\"},\"shape\":[125],\"dtype\":\"float64\",\"order\":\"little\"}],[\"y\",{\"type\":\"ndarray\",\"array\":{\"type\":\"bytes\",\"data\":\"yCNd2Hf9ykD2cSMbTvzKQNkz3xz5+spAuslepVH4ykDr0EQzovXKQKA1mrdN8spAXosWoBXuykCmpD0UI+nKQHYb1H6L48pAPLcaIzvdykAazus+JtbKQGXuELWzzspAsPiX7pfGykAsieyD9L3KQIbPMXustMpAs8Ljkb6qykDshhLSL6DKQIiP4+IzlcpA5Bk09JeJykDLRca0SH3KQNgydEdicMpAS0kgb9tiykAszZzkpVTKQHB6F+/PRcpArqu4J2Y2ykBe7XJbZCbKQJFqM6nEFcpAKO+Ir4sEykBE0U2srfLJQLsyA/BS4MlAsIvslGjNyUBJs8OpALrJQI8PxMMFpslAp1U+FZGRyUD/THPhjnzJQAV50bL5ZslA5FNbRfpQyUC5kKIpbjrJQGgdn9pSI8lAI9qOqbsLyUA7ONiboPPIQHDPmO4K28hAo43IHPjByEDjWYKMcKjIQCBNq9drjshAAu1YtvBzyEDRiIhR/ljIQAWLw5mXPchAyw6WVsAhyECOl24ScwXIQPCqYoW26MdA4h2FkJDLx0ALur2k+a3HQB8wD5nyj8dAK2eU04Nxx0ARTUXPqlLHQHmJoCBnM8dA6LEc17UTx0BKV/oaq/PGQJ95OexG08ZAqdJgZIuyxkBRlDq3Z5HGQNHi1u7gb8ZAK+Ce5+9NxkA48uWqrivGQKME/YUOCcZAlO6dhyHmxUCrNd5n7sLFQKKsKdpun8VAxsTm45p7xUBK/9zhYFfFQCXUZ2LdMsVA7eGBtw4OxUC79mCtBenEQK3n/7CYw8RAzdiGQPydxEDqCyHnFXjEQEmM+RTzUcRA+WKUDJUrxECeFQeGAgXEQBHNl3Ip3sNA9zDFZgm3w0DmvSDYp4/DQEGR3bsUaMNAMKQe/VpAw0AXtaCcZRjDQNWP8jg58MJA9MmK4dLHwkDXogVoO5/CQD1urlCKdsJAGyrG+YNNwkCK4Y9HZSTCQGK9USsc+8FAi+/V2JfRwUCq/TEI36fBQNGTMqkJfsFAj2m3pw1UwUD8bl+s9CnBQByJhnuL/8BAFczzOxDVwECC+AoceqrAQMGqH0C7f8BA/1w0ZPxUwEDBh1y6yynAQPs726N3/b9Amb7XEEynv0ASEmkbr1C/QOMVLeVx+r5A9o2eEXujvkDMWxpk10y+QJIlGHO89b1AhxFn6mqevUCFoP4OMEe9QBHM0eO377xAQAOgQO6XvEC5pA8CV0C8QN30wviE6LtAVxwYipWQu0B+USdFkDi7QKMnwAtm4LpA7bKpBFWIukCuaw/WGjC6QI6V8yAI2LlAua9eoM9/uUAxeD09uye5QA==\"},\"shape\":[125],\"dtype\":\"float64\",\"order\":\"little\"}]]}}},\"view\":{\"type\":\"object\",\"name\":\"CDSView\",\"id\":\"p2626\",\"attributes\":{\"filter\":{\"type\":\"object\",\"name\":\"AllIndices\",\"id\":\"p2627\"}}},\"glyph\":{\"type\":\"object\",\"name\":\"Line\",\"id\":\"p2622\",\"attributes\":{\"x\":{\"type\":\"field\",\"field\":\"x\"},\"y\":{\"type\":\"field\",\"field\":\"y\"},\"line_color\":\"palegoldenrod\",\"line_width\":2}},\"nonselection_glyph\":{\"type\":\"object\",\"name\":\"Line\",\"id\":\"p2623\",\"attributes\":{\"x\":{\"type\":\"field\",\"field\":\"x\"},\"y\":{\"type\":\"field\",\"field\":\"y\"},\"line_color\":\"palegoldenrod\",\"line_alpha\":0.1,\"line_width\":2}},\"muted_glyph\":{\"type\":\"object\",\"name\":\"Line\",\"id\":\"p2624\",\"attributes\":{\"x\":{\"type\":\"field\",\"field\":\"x\"},\"y\":{\"type\":\"field\",\"field\":\"y\"},\"line_color\":\"palegoldenrod\",\"line_alpha\":0.2,\"line_width\":2}}}},{\"type\":\"object\",\"name\":\"GlyphRenderer\",\"id\":\"p2636\",\"attributes\":{\"y_range_name\":\"angle\",\"data_source\":{\"type\":\"object\",\"name\":\"ColumnDataSource\",\"id\":\"p2630\",\"attributes\":{\"selected\":{\"type\":\"object\",\"name\":\"Selection\",\"id\":\"p2631\",\"attributes\":{\"indices\":[],\"line_indices\":[]}},\"selection_policy\":{\"type\":\"object\",\"name\":\"UnionRenderers\",\"id\":\"p2632\"},\"data\":{\"type\":\"map\",\"entries\":[[\"x\",{\"type\":\"ndarray\",\"array\":{\"type\":\"bytes\",\"data\":\"AAAAAAAAAAAAAAAAmJnJPwAAAACZmdk/AAAAADMz4z8AAACAmZnpPwAAAAAAAPA/AAAAADMz8z8AAABAZmb2PwAAAICZmfk/AAAAwMzM/D8AAAAAAAAAQAAAAICZmQFAAAAAIDMzA0AAAADAzMwEQAAAAGBmZgZAAAAAAAAACEAAAACAmZkJQAAAACAzMwtAAAAAwMzMDEAAAABgZmYOQAAAAAAAABBAAAAAwMzMEEAAAACQmZkRQAAAAGBmZhJAAAAAMDMzE0AAAAAAAAAUQAAAAMDMzBRAAAAAkJmZFUAAAABgZmYWQAAAADAzMxdAAAAAAAAAGEAAAADAzMwYQAAAAJCZmRlAAAAAYGZmGkAAAAAwMzMbQAAAAAAAABxAAAAAwMzMHEAAAACQmZkdQAAAAGBmZh5AAAAAMDMzH0AAAAAAAAAgQAAAAGBmZiBAAAAAyMzMIEAAAAAwMzMhQAAAAJiZmSFAAAAAAAAAIkAAAABgZmYiQAAAAMjMzCJAAAAAMDMzI0AAAACYmZkjQAAAAAAAACRAAAAAYGZmJEAAAADIzMwkQAAAADAzMyVAAAAAmJmZJUAAAAAAAAAmQAAAAGBmZiZAAAAAyMzMJkAAAAAwMzMnQAAAAJiZmSdAAAAAAAAAKEAAAABgZmYoQAAAAMjMzChAAAAAMDMzKUAAAACYmZkpQAAAAAAAACpAAAAAYGZmKkAAAADIzMwqQAAAADAzMytAAAAAmJmZK0AAAAAAAAAsQAAAAGBmZixAAAAAyMzMLEAAAAAwMzMtQAAAAJiZmS1AAAAAAAAALkAAAABgZmYuQAAAAMjMzC5AAAAAMDMzL0AAAACYmZkvQAAAAAAAADBAAAAAMDMzMEAAAABkZmYwQAAAAJiZmTBAAAAAzMzMMEAAAAAAAAAxQAAAADAzMzFAAAAAZGZmMUAAAACYmZkxQAAAAMzMzDFAAAAAAAAAMkAAAAAwMzMyQAAAAGRmZjJAAAAAmJmZMkAAAADMzMwyQAAAAAAAADNAAAAAMDMzM0AAAABkZmYzQAAAAJiZmTNAAAAAzMzMM0AAAAAAAAA0QAAAADAzMzRAAAAAZGZmNEAAAACYmZk0QAAAAMzMzDRAAAAAAAAANUAAAAAwMzM1QAAAAGRmZjVAAAAAmJmZNUAAAADMzMw1QAAAAAAAADZAAAAAMDMzNkAAAABkZmY2QAAAAJiZmTZAAAAAzMzMNkAAAAAAAAA3QAAAADAzMzdAAAAAZGZmN0AAAACYmZk3QAAAAMzMzDdAAAAAAAAAOEAAAAAwMzM4QAAAAGRmZjhAAAAAmJmZOEAAAADMzMw4QA==\"},\"shape\":[125],\"dtype\":\"float64\",\"order\":\"little\"}],[\"y\",{\"type\":\"ndarray\",\"array\":{\"type\":\"bytes\",\"data\":\"zczMzMzMBEAzMzMzMzMRQGZmZmZmZhJAZmZmZmZmIEDNzMzMzMwhQGZmZmZmZiVAzczMzMzMKkAzMzMzMzMvQM3MzMzMzDFAzczMzMxMNEDNzMzMzEw3QGZmZmZm5jhAzczMzMzMOkAAAAAAAIA8QGZmZmZmZj5AMzMzMzMzQECamZmZmRlBQM3MzMzMzEFAmpmZmZmZQkCamZmZmZlDQJqZmZmZWURAAAAAAABARUAzMzMzMzNGQJqZmZmZ2UZAMzMzMzOzR0BmZmZmZmZIQAAAAAAAAElAzczMzMzMSUBmZmZmZmZKQGZmZmZm5kpAMzMzMzNzS0AAAAAAAABMQDMzMzMzc0xAMzMzMzPzTEBmZmZmZmZNQJqZmZmZ2U1AMzMzMzMzTkCamZmZmZlOQDMzMzMz805AzczMzMxMT0BmZmZmZqZPQAAAAAAAAFBAmpmZmZk5UEAAAAAAAGBQQJqZmZmZmVBAzczMzMzMUEAAAAAAAABRQAAAAAAAIFFAMzMzMzNTUUDNzMzMzGxRQM3MzMzMjFFAMzMzMzOzUUBmZmZmZsZRQM3MzMzM7FFAAAAAAAAAUkCamZmZmRlSQM3MzMzMLFJAzczMzMxMUkAAAAAAAGBSQGZmZmZmhlJAzczMzMyMUkBmZmZmZqZSQJqZmZmZuVJAzczMzMzMUkAAAAAAAOBSQDMzMzMz81JAAAAAAAAAU0AzMzMzMxNTQGZmZmZmJlNAMzMzMzMzU0BmZmZmZkZTQDMzMzMzU1NAAAAAAABgU0AzMzMzM3NTQAAAAAAAgFNAzczMzMyMU0CamZmZmZlTQGZmZmZmplNAzczMzMysU0AAAAAAAMBTQGZmZmZmxlNAmpmZmZnZU0AAAAAAAOBTQM3MzMzM7FNAMzMzMzPzU0CamZmZmflTQM3MzMzMDFRAMzMzMzMTVEAAAAAAACBUQGZmZmZmJlRAZmZmZmYmVEAzMzMzMzNUQGZmZmZmRlRAZmZmZmZGVEAzMzMzM1NUQDMzMzMzU1RAmpmZmZlZVEAAAAAAAGBUQGZmZmZmZlRAZmZmZmZmVEDNzMzMzGxUQDMzMzMzc1RAmpmZmZl5VEAAAAAAAIBUQDMzMzMzk1RAzczMzMyMVEAzMzMzM5NUQJqZmZmZmVRAmpmZmZmZVEBmZmZmZqZUQDMzMzMzs1RAmpmZmZm5VECamZmZmblUQAAAAAAAwFRAzczMzMzMVEAzMzMzM9NUQAAAAAAA4FRAmpmZmZnZVEBmZmZmZuZUQGZmZmZm5lRAzczMzMzsVEAzMzMzM/NUQDMzMzMz81RAAAAAAAAAVUAAAAAAAABVQA==\"},\"shape\":[125],\"dtype\":\"float64\",\"order\":\"little\"}]]}}},\"view\":{\"type\":\"object\",\"name\":\"CDSView\",\"id\":\"p2637\",\"attributes\":{\"filter\":{\"type\":\"object\",\"name\":\"AllIndices\",\"id\":\"p2638\"}}},\"glyph\":{\"type\":\"object\",\"name\":\"Line\",\"id\":\"p2633\",\"attributes\":{\"x\":{\"type\":\"field\",\"field\":\"x\"},\"y\":{\"type\":\"field\",\"field\":\"y\"},\"line_color\":\"deepskyblue\",\"line_width\":2}},\"nonselection_glyph\":{\"type\":\"object\",\"name\":\"Line\",\"id\":\"p2634\",\"attributes\":{\"x\":{\"type\":\"field\",\"field\":\"x\"},\"y\":{\"type\":\"field\",\"field\":\"y\"},\"line_color\":\"deepskyblue\",\"line_alpha\":0.1,\"line_width\":2}},\"muted_glyph\":{\"type\":\"object\",\"name\":\"Line\",\"id\":\"p2635\",\"attributes\":{\"x\":{\"type\":\"field\",\"field\":\"x\"},\"y\":{\"type\":\"field\",\"field\":\"y\"},\"line_color\":\"deepskyblue\",\"line_alpha\":0.2,\"line_width\":2}}}},{\"type\":\"object\",\"name\":\"GlyphRenderer\",\"id\":\"p2647\",\"attributes\":{\"data_source\":{\"type\":\"object\",\"name\":\"ColumnDataSource\",\"id\":\"p2641\",\"attributes\":{\"selected\":{\"type\":\"object\",\"name\":\"Selection\",\"id\":\"p2642\",\"attributes\":{\"indices\":[],\"line_indices\":[]}},\"selection_policy\":{\"type\":\"object\",\"name\":\"UnionRenderers\",\"id\":\"p2643\"},\"data\":{\"type\":\"map\",\"entries\":[[\"x\",{\"type\":\"ndarray\",\"array\":{\"type\":\"bytes\",\"data\":\"AAAAAAAAAAAAAAAAmJnJPwAAAACZmdk/AAAAADMz4z8AAACAmZnpPwAAAAAAAPA/AAAAADMz8z8AAABAZmb2PwAAAICZmfk/AAAAwMzM/D8AAAAAAAAAQAAAAICZmQFAAAAAIDMzA0AAAADAzMwEQAAAAGBmZgZAAAAAAAAACEAAAACAmZkJQAAAACAzMwtAAAAAwMzMDEAAAABgZmYOQAAAAAAAABBAAAAAwMzMEEAAAACQmZkRQAAAAGBmZhJAAAAAMDMzE0AAAAAAAAAUQAAAAMDMzBRAAAAAkJmZFUAAAABgZmYWQAAAADAzMxdAAAAAAAAAGEAAAADAzMwYQAAAAJCZmRlAAAAAYGZmGkAAAAAwMzMbQAAAAAAAABxAAAAAwMzMHEAAAACQmZkdQAAAAGBmZh5AAAAAMDMzH0AAAAAAAAAgQAAAAGBmZiBAAAAAyMzMIEAAAAAwMzMhQAAAAJiZmSFAAAAAAAAAIkAAAABgZmYiQAAAAMjMzCJAAAAAMDMzI0AAAACYmZkjQAAAAAAAACRAAAAAYGZmJEAAAADIzMwkQAAAADAzMyVAAAAAmJmZJUAAAAAAAAAmQAAAAGBmZiZAAAAAyMzMJkAAAAAwMzMnQAAAAJiZmSdAAAAAAAAAKEAAAABgZmYoQAAAAMjMzChAAAAAMDMzKUAAAACYmZkpQAAAAAAAACpAAAAAYGZmKkAAAADIzMwqQAAAADAzMytAAAAAmJmZK0AAAAAAAAAsQAAAAGBmZixAAAAAyMzMLEAAAAAwMzMtQAAAAJiZmS1AAAAAAAAALkAAAABgZmYuQAAAAMjMzC5AAAAAMDMzL0AAAACYmZkvQAAAAAAAADBAAAAAMDMzMEAAAABkZmYwQAAAAJiZmTBAAAAAzMzMMEAAAAAAAAAxQAAAADAzMzFAAAAAZGZmMUAAAACYmZkxQAAAAMzMzDFAAAAAAAAAMkAAAAAwMzMyQAAAAGRmZjJAAAAAmJmZMkAAAADMzMwyQAAAAAAAADNAAAAAMDMzM0AAAABkZmYzQAAAAJiZmTNAAAAAzMzMM0AAAAAAAAA0QAAAADAzMzRAAAAAZGZmNEAAAACYmZk0QAAAAMzMzDRAAAAAAAAANUAAAAAwMzM1QAAAAGRmZjVAAAAAmJmZNUAAAADMzMw1QAAAAAAAADZAAAAAMDMzNkAAAABkZmY2QAAAAJiZmTZAAAAAzMzMNkAAAAAAAAA3QAAAADAzMzdAAAAAZGZmN0AAAACYmZk3QAAAAMzMzDdAAAAAAAAAOEAAAAAwMzM4QAAAAGRmZjhAAAAAmJmZOEAAAADMzMw4QA==\"},\"shape\":[125],\"dtype\":\"float64\",\"order\":\"little\"}],[\"y\",{\"type\":\"ndarray\",\"array\":{\"type\":\"bytes\",\"data\":\"SOF6FK5HIUD0/dR46SYsQD4K16NwPS5AEVg5tMj2OkA5tMh2vh89QJzEILByqEFA5tAi2/n+RUC5HoXrUXhJQJQYBFYO7UxAnMQgsHKIUEAhsHJokQ1TQI6XbhKDgFRAnMQgsHIoVkD0/dR46aZXQO58PzVeWllAmpmZmZk5W0CbxCCwcuhcQC2yne+nRl5AYeXQItvZX0AMAiuHFtlgQKjGSzeJoWFAEoPAyqGFYkBbZDvfT31jQOSlm8QgUGRAVeOlm8QwZUD0/dR46fZlQKAaL90ktmZAFK5H4XqUZ0Coxks3iWFoQE5iEFg5JGlA6iYxCKzsaUCiRbbz/aRqQFK4HoXrYWtA+n5qvHQjbEC28/3UeNlsQG3n+6nxkm1ALIcW2c5HbkDO91PjpQtvQKnGSzeJsW9AMN0kBoE1cEAOLbKd749wQPhT46Wb5HBA4XoUrkc5cUBV46WbxIhxQLkehetR4HFALbKd76cuckAGgZVDi4xyQPLSTWIQ4HJAbxKDwMopc0D0/dR46W5zQPYoXI/CtXNAbef7qfECdEB3vp8aL0V0QOxRuB6Fk3RAXI/C9SjkdEBbZDvfTy11QOF6FK5HcXVA2KNwPQq/dUBzaJHtfPd1QHnpJjEIPHZA/tR46SaBdkD0/dR46c52QA4tsp3vB3dAI9v5fmpEd0A830+Nl353QEoMAiuHvndAYxBYObT4d0AIrBxaZCt4QCuHFtnOX3hAUrgeheuReEBWDi2yndd4QPCnxks3EXlAiUFg5dBKeUAzMzMzM3t5QG3n+6nxonlADAIrhxbZeUAnMQisHBJ6QHe+nxovLXpASOF6FK5HekBSuB6F64l6QBSuR+F6rHpA5/up8dLFekAhsHJoke16QNv5fmq8FHtAke18PzU+e0DfT42Xblp7QHNoke18l3tAPN9PjZe2e0AL16NwPdJ7QOF6FK5H6XtAPzVeukn8e0Dwp8ZLNyl8QLbz/dR4SXxA9P3UeOlufEBCYOXQIot8QIlBYOXQqnxA+FPjpZu0fEAPLbKd7+98QBfZzvdT63xAVeOlm8QQfUCe76fGSy99QIgW2c73O31AqvHSTWJwfUA4iUFg5Wh9QH0/NV66iX1A9ihcj8KNfUDqJjEIrJR9QMdLN4lBqH1AuB6F61GwfUAehetRuL59QPyp8dJN0n1ASeF6FK7vfUDYo3A9Cud9QC2yne+n/n1AlUOLbOcLfkCbxCCwcgh+QOomMQisJH5A9ihcj8IdfkBRuB6F6zF+QFtkO99PLX5AaJHtfD8lfkD0/dR46R5+QGU730+NJ35AVzm0yHYufkBFtvP91Dh+QA==\"},\"shape\":[125],\"dtype\":\"float64\",\"order\":\"little\"}]]}}},\"view\":{\"type\":\"object\",\"name\":\"CDSView\",\"id\":\"p2648\",\"attributes\":{\"filter\":{\"type\":\"object\",\"name\":\"AllIndices\",\"id\":\"p2649\"}}},\"glyph\":{\"type\":\"object\",\"name\":\"Line\",\"id\":\"p2644\",\"attributes\":{\"x\":{\"type\":\"field\",\"field\":\"x\"},\"y\":{\"type\":\"field\",\"field\":\"y\"},\"line_color\":\"limegreen\",\"line_width\":2}},\"nonselection_glyph\":{\"type\":\"object\",\"name\":\"Line\",\"id\":\"p2645\",\"attributes\":{\"x\":{\"type\":\"field\",\"field\":\"x\"},\"y\":{\"type\":\"field\",\"field\":\"y\"},\"line_color\":\"limegreen\",\"line_alpha\":0.1,\"line_width\":2}},\"muted_glyph\":{\"type\":\"object\",\"name\":\"Line\",\"id\":\"p2646\",\"attributes\":{\"x\":{\"type\":\"field\",\"field\":\"x\"},\"y\":{\"type\":\"field\",\"field\":\"y\"},\"line_color\":\"limegreen\",\"line_alpha\":0.2,\"line_width\":2}}}},{\"type\":\"object\",\"name\":\"GlyphRenderer\",\"id\":\"p2657\",\"attributes\":{\"data_source\":{\"type\":\"object\",\"name\":\"ColumnDataSource\",\"id\":\"p2651\",\"attributes\":{\"selected\":{\"type\":\"object\",\"name\":\"Selection\",\"id\":\"p2652\",\"attributes\":{\"indices\":[],\"line_indices\":[]}},\"selection_policy\":{\"type\":\"object\",\"name\":\"UnionRenderers\",\"id\":\"p2653\"},\"data\":{\"type\":\"map\",\"entries\":[[\"x\",{\"type\":\"ndarray\",\"array\":{\"type\":\"bytes\",\"data\":\"AAAAAAAAAAAAAAAAmJnJPwAAAACZmdk/AAAAADMz4z8AAACAmZnpPwAAAAAAAPA/AAAAADMz8z8AAABAZmb2PwAAAICZmfk/AAAAwMzM/D8AAAAAAAAAQAAAAICZmQFAAAAAIDMzA0AAAADAzMwEQAAAAGBmZgZAAAAAAAAACEAAAACAmZkJQAAAACAzMwtAAAAAwMzMDEAAAABgZmYOQAAAAAAAABBAAAAAwMzMEEAAAACQmZkRQAAAAGBmZhJAAAAAMDMzE0AAAAAAAAAUQAAAAMDMzBRAAAAAkJmZFUAAAABgZmYWQAAAADAzMxdAAAAAAAAAGEAAAADAzMwYQAAAAJCZmRlAAAAAYGZmGkAAAAAwMzMbQAAAAAAAABxAAAAAwMzMHEAAAACQmZkdQAAAAGBmZh5AAAAAMDMzH0AAAAAAAAAgQAAAAGBmZiBAAAAAyMzMIEAAAAAwMzMhQAAAAJiZmSFAAAAAAAAAIkAAAABgZmYiQAAAAMjMzCJAAAAAMDMzI0AAAACYmZkjQAAAAAAAACRAAAAAYGZmJEAAAADIzMwkQAAAADAzMyVAAAAAmJmZJUAAAAAAAAAmQAAAAGBmZiZAAAAAyMzMJkAAAAAwMzMnQAAAAJiZmSdAAAAAAAAAKEAAAABgZmYoQAAAAMjMzChAAAAAMDMzKUAAAACYmZkpQAAAAAAAACpAAAAAYGZmKkAAAADIzMwqQAAAADAzMytAAAAAmJmZK0AAAAAAAAAsQAAAAGBmZixAAAAAyMzMLEAAAAAwMzMtQAAAAJiZmS1AAAAAAAAALkAAAABgZmYuQAAAAMjMzC5AAAAAMDMzL0AAAACYmZkvQAAAAAAAADBAAAAAMDMzMEAAAABkZmYwQAAAAJiZmTBAAAAAzMzMMEAAAAAAAAAxQAAAADAzMzFAAAAAZGZmMUAAAACYmZkxQAAAAMzMzDFAAAAAAAAAMkAAAAAwMzMyQAAAAGRmZjJAAAAAmJmZMkAAAADMzMwyQAAAAAAAADNAAAAAMDMzM0AAAABkZmYzQAAAAJiZmTNAAAAAzMzMM0AAAAAAAAA0QAAAADAzMzRAAAAAZGZmNEAAAACYmZk0QAAAAMzMzDRAAAAAAAAANUAAAAAwMzM1QAAAAGRmZjVAAAAAmJmZNUAAAADMzMw1QAAAAAAAADZAAAAAMDMzNkAAAABkZmY2QAAAAJiZmTZAAAAAzMzMNkAAAAAAAAA3QAAAADAzMzdAAAAAZGZmN0AAAACYmZk3QAAAAMzMzDdAAAAAAAAAOEAAAAAwMzM4QAAAAGRmZjhAAAAAmJmZOEAAAADMzMw4QA==\"},\"shape\":[125],\"dtype\":\"float64\",\"order\":\"little\"}],[\"y\",{\"type\":\"ndarray\",\"array\":{\"type\":\"bytes\",\"data\":\"hB9x3l0zaEAhvbNM9Z1nQBZQGJXFhGdA9530XQeBZ0COVNgGn11nQNlQZXK5SmdAopbbhhAXZ0AKd1MuXb9mQO6eKdy2f2ZAaFjR8nFSZkDGaS99mStmQGdA0OucDGZAeoH8ZOfrZUD1JxNaVMxlQKKTPUoHkWVAFJmXZntyZUBY1drli0ZlQNeyX1BQLmVABtYoNbb8ZECcnAHqL7BkQBHjZGzFgWRAkcHs+uk6ZEA+GjA0Pe9jQOMvEeos12NAyiJI6vd9Y0B9RPdSlD1jQHWBxaEGCWNAYi9lVQO3YkAE01mJF3piQF9I7TA5Z2JA5YgQYIA3YkDFXnPGyfZhQNijA+dq4mFASXscAmSiYUCu+O8cIn5hQAV0LtHST2FALF0dwbYwYUCUa8UC1RJhQIs5IKSN8mBALwfPjZnKYEAFU3TS36dgQGy/WrMJeWBA+yNxLW0rYEAOzDPX0eVfQHVXTwgoLl9Ad1Hp+aWOXkDFBCCGzeldQJxgYcLMuV1AO/IlOff4XEAKw8U1P9BcQNMLaS+hV1xAlYBAY5LSW0DG72uDCrZbQCNx0PXoLltAO26CimwcW0A3JpjZDtdaQB/6rmFFq1pAqFkN6WM0WkCyiGrHeghaQA82M+xqYVlAIOyZ87WEWUAluoWg+RFZQCssvgHH5FhAUEB9ze+gWEC//9dlDFtYQE4VPL7vEFhAxLFpODjZV0AXw4RuMqZXQIbPROtuSldAC4H8t3MgV0CQK4QW1LNWQCg0pxAJl1ZATz79vrVsVkDHZ/kJPhJWQGs5gXAsyVVAMVulw6apVUAAODbU5k9VQBEKRrlNMVVAiuP62wILVUBfSIVt2KpUQOhtoEVEflRAgBVte8IKVEAiZyGjvQJUQEHdM1wpvVNA+QGVaRCYU0Cqn9gjXY9TQOHVYMX5+VJAtLEgBY33UkAUw1pJ+7dSQA37D49iblJAMeHostCEUkCtBs5NyDRSQHCvoozVxFFAUDaNUI7IUUAG/Gg5NYRRQLwtKXe0eFFAOb4awRpYUUB57FK6skFRQEekdSfxKFFAFqYtx6IYUUAVwk7xDflQQFT/isvAzVBAsMRKUxLcUEDRpaOgIZZQQKHDOK0S2E9AgI5NaHMdUEAlkKO9g/JPQFAV1KH/fU9AmsfS74OkT0DQm7TWDxdPQEJtrYGYUE5A7nK4XRLXTUCaLcSsZrNNQP7Ejw/3SU1AXczou5ibTECM72shJBlMQE6Q9S8gZ0tAdpVrE7XCS0DVUKx/KQVLQEuBuARePUtAsZlVuahySkD7G1NyZ19KQK8/cdFBQkpAMyLD8iFVSUC5shmkYjZJQA==\"},\"shape\":[125],\"dtype\":\"float64\",\"order\":\"little\"}]]}}},\"view\":{\"type\":\"object\",\"name\":\"CDSView\",\"id\":\"p2658\",\"attributes\":{\"filter\":{\"type\":\"object\",\"name\":\"AllIndices\",\"id\":\"p2659\"}}},\"glyph\":{\"type\":\"object\",\"name\":\"Line\",\"id\":\"p2654\",\"attributes\":{\"x\":{\"type\":\"field\",\"field\":\"x\"},\"y\":{\"type\":\"field\",\"field\":\"y\"},\"line_color\":\"red\",\"line_width\":2}},\"nonselection_glyph\":{\"type\":\"object\",\"name\":\"Line\",\"id\":\"p2655\",\"attributes\":{\"x\":{\"type\":\"field\",\"field\":\"x\"},\"y\":{\"type\":\"field\",\"field\":\"y\"},\"line_color\":\"red\",\"line_alpha\":0.1,\"line_width\":2}},\"muted_glyph\":{\"type\":\"object\",\"name\":\"Line\",\"id\":\"p2656\",\"attributes\":{\"x\":{\"type\":\"field\",\"field\":\"x\"},\"y\":{\"type\":\"field\",\"field\":\"y\"},\"line_color\":\"red\",\"line_alpha\":0.2,\"line_width\":2}}}},{\"type\":\"object\",\"name\":\"GlyphRenderer\",\"id\":\"p2667\",\"attributes\":{\"data_source\":{\"type\":\"object\",\"name\":\"ColumnDataSource\",\"id\":\"p2661\",\"attributes\":{\"selected\":{\"type\":\"object\",\"name\":\"Selection\",\"id\":\"p2662\",\"attributes\":{\"indices\":[],\"line_indices\":[]}},\"selection_policy\":{\"type\":\"object\",\"name\":\"UnionRenderers\",\"id\":\"p2663\"},\"data\":{\"type\":\"map\",\"entries\":[[\"x0\",[21.799999952316284]],[\"y0\",[0.0]],[\"x1\",[21.799999952316284]],[\"y1\",[479.736]]]}}},\"view\":{\"type\":\"object\",\"name\":\"CDSView\",\"id\":\"p2668\",\"attributes\":{\"filter\":{\"type\":\"object\",\"name\":\"AllIndices\",\"id\":\"p2669\"}}},\"glyph\":{\"type\":\"object\",\"name\":\"Segment\",\"id\":\"p2664\",\"attributes\":{\"x0\":{\"type\":\"field\",\"field\":\"x0\"},\"y0\":{\"type\":\"field\",\"field\":\"y0\"},\"x1\":{\"type\":\"field\",\"field\":\"x1\"},\"y1\":{\"type\":\"field\",\"field\":\"y1\"},\"line_color\":{\"type\":\"value\",\"value\":\"lightblue\"},\"line_width\":{\"type\":\"value\",\"value\":3}}},\"nonselection_glyph\":{\"type\":\"object\",\"name\":\"Segment\",\"id\":\"p2665\",\"attributes\":{\"x0\":{\"type\":\"field\",\"field\":\"x0\"},\"y0\":{\"type\":\"field\",\"field\":\"y0\"},\"x1\":{\"type\":\"field\",\"field\":\"x1\"},\"y1\":{\"type\":\"field\",\"field\":\"y1\"},\"line_color\":{\"type\":\"value\",\"value\":\"lightblue\"},\"line_alpha\":{\"type\":\"value\",\"value\":0.1},\"line_width\":{\"type\":\"value\",\"value\":3}}},\"muted_glyph\":{\"type\":\"object\",\"name\":\"Segment\",\"id\":\"p2666\",\"attributes\":{\"x0\":{\"type\":\"field\",\"field\":\"x0\"},\"y0\":{\"type\":\"field\",\"field\":\"y0\"},\"x1\":{\"type\":\"field\",\"field\":\"x1\"},\"y1\":{\"type\":\"field\",\"field\":\"y1\"},\"line_color\":{\"type\":\"value\",\"value\":\"lightblue\"},\"line_alpha\":{\"type\":\"value\",\"value\":0.2},\"line_width\":{\"type\":\"value\",\"value\":3}}}}},{\"type\":\"object\",\"name\":\"GlyphRenderer\",\"id\":\"p2676\",\"attributes\":{\"data_source\":{\"type\":\"object\",\"name\":\"ColumnDataSource\",\"id\":\"p2670\",\"attributes\":{\"selected\":{\"type\":\"object\",\"name\":\"Selection\",\"id\":\"p2671\",\"attributes\":{\"indices\":[],\"line_indices\":[]}},\"selection_policy\":{\"type\":\"object\",\"name\":\"UnionRenderers\",\"id\":\"p2672\"},\"data\":{\"type\":\"map\",\"entries\":[[\"x0\",[23.299999952316284]],[\"y0\",[0.0]],[\"x1\",[23.299999952316284]],[\"y1\",[479.736]]]}}},\"view\":{\"type\":\"object\",\"name\":\"CDSView\",\"id\":\"p2677\",\"attributes\":{\"filter\":{\"type\":\"object\",\"name\":\"AllIndices\",\"id\":\"p2678\"}}},\"glyph\":{\"type\":\"object\",\"name\":\"Segment\",\"id\":\"p2673\",\"attributes\":{\"x0\":{\"type\":\"field\",\"field\":\"x0\"},\"y0\":{\"type\":\"field\",\"field\":\"y0\"},\"x1\":{\"type\":\"field\",\"field\":\"x1\"},\"y1\":{\"type\":\"field\",\"field\":\"y1\"},\"line_color\":{\"type\":\"value\",\"value\":\"darkseagreen\"}}},\"nonselection_glyph\":{\"type\":\"object\",\"name\":\"Segment\",\"id\":\"p2674\",\"attributes\":{\"x0\":{\"type\":\"field\",\"field\":\"x0\"},\"y0\":{\"type\":\"field\",\"field\":\"y0\"},\"x1\":{\"type\":\"field\",\"field\":\"x1\"},\"y1\":{\"type\":\"field\",\"field\":\"y1\"},\"line_color\":{\"type\":\"value\",\"value\":\"darkseagreen\"},\"line_alpha\":{\"type\":\"value\",\"value\":0.1}}},\"muted_glyph\":{\"type\":\"object\",\"name\":\"Segment\",\"id\":\"p2675\",\"attributes\":{\"x0\":{\"type\":\"field\",\"field\":\"x0\"},\"y0\":{\"type\":\"field\",\"field\":\"y0\"},\"x1\":{\"type\":\"field\",\"field\":\"x1\"},\"y1\":{\"type\":\"field\",\"field\":\"y1\"},\"line_color\":{\"type\":\"value\",\"value\":\"darkseagreen\"},\"line_alpha\":{\"type\":\"value\",\"value\":0.2}}}}},{\"type\":\"object\",\"name\":\"GlyphRenderer\",\"id\":\"p2685\",\"attributes\":{\"data_source\":{\"type\":\"object\",\"name\":\"ColumnDataSource\",\"id\":\"p2679\",\"attributes\":{\"selected\":{\"type\":\"object\",\"name\":\"Selection\",\"id\":\"p2680\",\"attributes\":{\"indices\":[],\"line_indices\":[]}},\"selection_policy\":{\"type\":\"object\",\"name\":\"UnionRenderers\",\"id\":\"p2681\"},\"data\":{\"type\":\"map\",\"entries\":[[\"x0\",[20.299999952316284]],[\"y0\",[0.0]],[\"x1\",[20.299999952316284]],[\"y1\",[479.736]]]}}},\"view\":{\"type\":\"object\",\"name\":\"CDSView\",\"id\":\"p2686\",\"attributes\":{\"filter\":{\"type\":\"object\",\"name\":\"AllIndices\",\"id\":\"p2687\"}}},\"glyph\":{\"type\":\"object\",\"name\":\"Segment\",\"id\":\"p2682\",\"attributes\":{\"x0\":{\"type\":\"field\",\"field\":\"x0\"},\"y0\":{\"type\":\"field\",\"field\":\"y0\"},\"x1\":{\"type\":\"field\",\"field\":\"x1\"},\"y1\":{\"type\":\"field\",\"field\":\"y1\"},\"line_color\":{\"type\":\"value\",\"value\":\"darkseagreen\"}}},\"nonselection_glyph\":{\"type\":\"object\",\"name\":\"Segment\",\"id\":\"p2683\",\"attributes\":{\"x0\":{\"type\":\"field\",\"field\":\"x0\"},\"y0\":{\"type\":\"field\",\"field\":\"y0\"},\"x1\":{\"type\":\"field\",\"field\":\"x1\"},\"y1\":{\"type\":\"field\",\"field\":\"y1\"},\"line_color\":{\"type\":\"value\",\"value\":\"darkseagreen\"},\"line_alpha\":{\"type\":\"value\",\"value\":0.1}}},\"muted_glyph\":{\"type\":\"object\",\"name\":\"Segment\",\"id\":\"p2684\",\"attributes\":{\"x0\":{\"type\":\"field\",\"field\":\"x0\"},\"y0\":{\"type\":\"field\",\"field\":\"y0\"},\"x1\":{\"type\":\"field\",\"field\":\"x1\"},\"y1\":{\"type\":\"field\",\"field\":\"y1\"},\"line_color\":{\"type\":\"value\",\"value\":\"darkseagreen\"},\"line_alpha\":{\"type\":\"value\",\"value\":0.2}}}}},{\"type\":\"object\",\"name\":\"GlyphRenderer\",\"id\":\"p2694\",\"attributes\":{\"data_source\":{\"type\":\"object\",\"name\":\"ColumnDataSource\",\"id\":\"p2688\",\"attributes\":{\"selected\":{\"type\":\"object\",\"name\":\"Selection\",\"id\":\"p2689\",\"attributes\":{\"indices\":[],\"line_indices\":[]}},\"selection_policy\":{\"type\":\"object\",\"name\":\"UnionRenderers\",\"id\":\"p2690\"},\"data\":{\"type\":\"map\",\"entries\":[[\"x\",[21.799999952316284]],[\"y\",[479.736]],[\"size\",[20]]]}}},\"view\":{\"type\":\"object\",\"name\":\"CDSView\",\"id\":\"p2695\",\"attributes\":{\"filter\":{\"type\":\"object\",\"name\":\"AllIndices\",\"id\":\"p2696\"}}},\"glyph\":{\"type\":\"object\",\"name\":\"Scatter\",\"id\":\"p2691\",\"attributes\":{\"x\":{\"type\":\"field\",\"field\":\"x\"},\"y\":{\"type\":\"field\",\"field\":\"y\"},\"size\":{\"type\":\"field\",\"field\":\"size\"},\"line_color\":{\"type\":\"value\",\"value\":\"lightblue\"},\"line_width\":{\"type\":\"value\",\"value\":3},\"fill_color\":{\"type\":\"value\",\"value\":null},\"marker\":{\"type\":\"value\",\"value\":\"square_cross\"}}},\"nonselection_glyph\":{\"type\":\"object\",\"name\":\"Scatter\",\"id\":\"p2692\",\"attributes\":{\"x\":{\"type\":\"field\",\"field\":\"x\"},\"y\":{\"type\":\"field\",\"field\":\"y\"},\"size\":{\"type\":\"field\",\"field\":\"size\"},\"line_color\":{\"type\":\"value\",\"value\":\"lightblue\"},\"line_alpha\":{\"type\":\"value\",\"value\":0.1},\"line_width\":{\"type\":\"value\",\"value\":3},\"fill_color\":{\"type\":\"value\",\"value\":null},\"fill_alpha\":{\"type\":\"value\",\"value\":0.1},\"hatch_alpha\":{\"type\":\"value\",\"value\":0.1},\"marker\":{\"type\":\"value\",\"value\":\"square_cross\"}}},\"muted_glyph\":{\"type\":\"object\",\"name\":\"Scatter\",\"id\":\"p2693\",\"attributes\":{\"x\":{\"type\":\"field\",\"field\":\"x\"},\"y\":{\"type\":\"field\",\"field\":\"y\"},\"size\":{\"type\":\"field\",\"field\":\"size\"},\"line_color\":{\"type\":\"value\",\"value\":\"lightblue\"},\"line_alpha\":{\"type\":\"value\",\"value\":0.2},\"line_width\":{\"type\":\"value\",\"value\":3},\"fill_color\":{\"type\":\"value\",\"value\":null},\"fill_alpha\":{\"type\":\"value\",\"value\":0.2},\"hatch_alpha\":{\"type\":\"value\",\"value\":0.2},\"marker\":{\"type\":\"value\",\"value\":\"square_cross\"}}}}}],\"toolbar\":{\"type\":\"object\",\"name\":\"Toolbar\",\"id\":\"p2583\",\"attributes\":{\"tools\":[{\"type\":\"object\",\"name\":\"PanTool\",\"id\":\"p2598\"},{\"type\":\"object\",\"name\":\"WheelZoomTool\",\"id\":\"p2599\",\"attributes\":{\"renderers\":\"auto\"}},{\"type\":\"object\",\"name\":\"BoxZoomTool\",\"id\":\"p2600\",\"attributes\":{\"overlay\":{\"type\":\"object\",\"name\":\"BoxAnnotation\",\"id\":\"p2601\",\"attributes\":{\"syncable\":false,\"level\":\"overlay\",\"visible\":false,\"left\":{\"type\":\"number\",\"value\":\"nan\"},\"right\":{\"type\":\"number\",\"value\":\"nan\"},\"top\":{\"type\":\"number\",\"value\":\"nan\"},\"bottom\":{\"type\":\"number\",\"value\":\"nan\"},\"left_units\":\"canvas\",\"right_units\":\"canvas\",\"top_units\":\"canvas\",\"bottom_units\":\"canvas\",\"line_color\":\"black\",\"line_alpha\":1.0,\"line_width\":2,\"line_dash\":[4,4],\"fill_color\":\"lightgrey\",\"fill_alpha\":0.5}}}},{\"type\":\"object\",\"name\":\"SaveTool\",\"id\":\"p2606\"},{\"type\":\"object\",\"name\":\"ResetTool\",\"id\":\"p2607\"},{\"type\":\"object\",\"name\":\"HelpTool\",\"id\":\"p2608\"},{\"type\":\"object\",\"name\":\"HoverTool\",\"id\":\"p2640\",\"attributes\":{\"renderers\":\"auto\",\"tooltips\":[[\"Y-val\",\"@y{0.00}\"]]}}]}},\"left\":[{\"type\":\"object\",\"name\":\"LinearAxis\",\"id\":\"p2593\",\"attributes\":{\"ticker\":{\"type\":\"object\",\"name\":\"BasicTicker\",\"id\":\"p2594\",\"attributes\":{\"mantissas\":[1,2,5]}},\"formatter\":{\"type\":\"object\",\"name\":\"BasicTickFormatter\",\"id\":\"p2595\"},\"axis_label\":\"km/h\",\"axis_label_standoff\":10,\"axis_label_text_color\":\"#E0E0E0\",\"axis_label_text_font\":\"Helvetica\",\"axis_label_text_font_size\":\"1.25em\",\"axis_label_text_font_style\":\"normal\",\"major_label_policy\":{\"type\":\"object\",\"name\":\"AllLabels\",\"id\":\"p2596\"},\"major_label_text_color\":\"#E0E0E0\",\"major_label_text_font\":\"Helvetica\",\"major_label_text_font_size\":\"1.025em\",\"axis_line_color\":\"#E0E0E0\",\"axis_line_alpha\":0,\"major_tick_line_color\":\"#E0E0E0\",\"major_tick_line_alpha\":0,\"minor_tick_line_color\":\"#E0E0E0\",\"minor_tick_line_alpha\":0}},{\"type\":\"object\",\"name\":\"LinearAxis\",\"id\":\"p2611\",\"attributes\":{\"y_range_name\":\"altitudeFt\",\"ticker\":{\"type\":\"object\",\"name\":\"BasicTicker\",\"id\":\"p2612\",\"attributes\":{\"mantissas\":[1,2,5]}},\"formatter\":{\"type\":\"object\",\"name\":\"BasicTickFormatter\",\"id\":\"p2613\"},\"axis_label\":\"Alt (ft)\",\"axis_label_standoff\":10,\"axis_label_text_color\":\"#E0E0E0\",\"axis_label_text_font\":\"Helvetica\",\"axis_label_text_font_size\":\"1.25em\",\"axis_label_text_font_style\":\"normal\",\"major_label_policy\":{\"type\":\"object\",\"name\":\"AllLabels\",\"id\":\"p2614\"},\"major_label_text_color\":\"#E0E0E0\",\"major_label_text_font\":\"Helvetica\",\"major_label_text_font_size\":\"1.025em\",\"axis_line_color\":\"#E0E0E0\",\"axis_line_alpha\":0,\"major_tick_line_color\":\"#E0E0E0\",\"major_tick_line_alpha\":0,\"minor_tick_line_color\":\"#E0E0E0\",\"minor_tick_line_alpha\":0}},{\"type\":\"object\",\"name\":\"LinearAxis\",\"id\":\"p2615\",\"attributes\":{\"y_range_name\":\"angle\",\"ticker\":{\"type\":\"object\",\"name\":\"BasicTicker\",\"id\":\"p2616\",\"attributes\":{\"mantissas\":[1,2,5]}},\"formatter\":{\"type\":\"object\",\"name\":\"BasicTickFormatter\",\"id\":\"p2617\"},\"axis_label\":\"angle\",\"axis_label_standoff\":10,\"axis_label_text_color\":\"#E0E0E0\",\"axis_label_text_font\":\"Helvetica\",\"axis_label_text_font_size\":\"1.25em\",\"axis_label_text_font_style\":\"normal\",\"major_label_policy\":{\"type\":\"object\",\"name\":\"AllLabels\",\"id\":\"p2618\"},\"major_label_text_color\":\"#E0E0E0\",\"major_label_text_font\":\"Helvetica\",\"major_label_text_font_size\":\"1.025em\",\"axis_line_color\":\"#E0E0E0\",\"axis_line_alpha\":0,\"major_tick_line_color\":\"#E0E0E0\",\"major_tick_line_alpha\":0,\"minor_tick_line_color\":\"#E0E0E0\",\"minor_tick_line_alpha\":0}}],\"below\":[{\"type\":\"object\",\"name\":\"LinearAxis\",\"id\":\"p2588\",\"attributes\":{\"ticker\":{\"type\":\"object\",\"name\":\"BasicTicker\",\"id\":\"p2589\",\"attributes\":{\"mantissas\":[1,2,5]}},\"formatter\":{\"type\":\"object\",\"name\":\"BasicTickFormatter\",\"id\":\"p2590\"},\"axis_label\":\"seconds from exit\",\"axis_label_standoff\":10,\"axis_label_text_color\":\"#E0E0E0\",\"axis_label_text_font\":\"Helvetica\",\"axis_label_text_font_size\":\"1.25em\",\"axis_label_text_font_style\":\"normal\",\"major_label_policy\":{\"type\":\"object\",\"name\":\"AllLabels\",\"id\":\"p2591\"},\"major_label_text_color\":\"#E0E0E0\",\"major_label_text_font\":\"Helvetica\",\"major_label_text_font_size\":\"1.025em\",\"axis_line_color\":\"#E0E0E0\",\"axis_line_alpha\":0,\"major_tick_line_color\":\"#E0E0E0\",\"major_tick_line_alpha\":0,\"minor_tick_line_color\":\"#E0E0E0\",\"minor_tick_line_alpha\":0}}],\"center\":[{\"type\":\"object\",\"name\":\"Grid\",\"id\":\"p2592\",\"attributes\":{\"axis\":{\"id\":\"p2588\"},\"grid_line_color\":\"#E0E0E0\",\"grid_line_alpha\":0.25}},{\"type\":\"object\",\"name\":\"Grid\",\"id\":\"p2597\",\"attributes\":{\"dimension\":1,\"axis\":{\"id\":\"p2593\"},\"grid_line_color\":\"#E0E0E0\",\"grid_line_alpha\":0.25}},{\"type\":\"object\",\"name\":\"Legend\",\"id\":\"p2628\",\"attributes\":{\"border_line_alpha\":0,\"background_fill_color\":\"#20262B\",\"background_fill_alpha\":0.25,\"label_text_color\":\"#E0E0E0\",\"label_text_font\":\"Helvetica\",\"label_text_font_size\":\"1.025em\",\"label_standoff\":8,\"glyph_width\":15,\"spacing\":8,\"items\":[{\"type\":\"object\",\"name\":\"LegendItem\",\"id\":\"p2629\",\"attributes\":{\"label\":{\"type\":\"value\",\"value\":\"Alt (ft)\"},\"renderers\":[{\"id\":\"p2625\"}]}},{\"type\":\"object\",\"name\":\"LegendItem\",\"id\":\"p2639\",\"attributes\":{\"label\":{\"type\":\"value\",\"value\":\"angle\"},\"renderers\":[{\"id\":\"p2636\"}]}},{\"type\":\"object\",\"name\":\"LegendItem\",\"id\":\"p2650\",\"attributes\":{\"label\":{\"type\":\"value\",\"value\":\"speed\"},\"renderers\":[{\"id\":\"p2647\"}]}},{\"type\":\"object\",\"name\":\"LegendItem\",\"id\":\"p2660\",\"attributes\":{\"label\":{\"type\":\"value\",\"value\":\"H-speed\"},\"renderers\":[{\"id\":\"p2657\"}]}}]}}],\"background_fill_color\":\"#20262B\",\"border_fill_color\":\"#15191C\"}}]}};\n",
       "  const render_items = [{\"docid\":\"61821957-0782-4e79-aa33-7d677fa1d955\",\"roots\":{\"p2574\":\"c3fdc5eb-7cc9-4d3a-8706-047acebf7451\"},\"root_ids\":[\"p2574\"]}];\n",
       "  void root.Bokeh.embed.embed_items_notebook(docs_json, render_items);\n",
       "  }\n",
       "  if (root.Bokeh !== undefined) {\n",
       "    embed_document(root);\n",
       "  } else {\n",
       "    let attempts = 0;\n",
       "    const timer = setInterval(function(root) {\n",
       "      if (root.Bokeh !== undefined) {\n",
       "        clearInterval(timer);\n",
       "        embed_document(root);\n",
       "      } else {\n",
       "        attempts++;\n",
       "        if (attempts > 100) {\n",
       "          clearInterval(timer);\n",
       "          console.log(\"Bokeh: ERROR: Unable to run BokehJS code because BokehJS library is missing\");\n",
       "        }\n",
       "      }\n",
       "    }, 10, root)\n",
       "  }\n",
       "})(window);"
      ],
      "application/vnd.bokehjs_exec.v0+json": ""
     },
     "metadata": {
      "application/vnd.bokehjs_exec.v0+json": {
       "id": "p2574"
      }
     },
     "output_type": "display_data"
    },
    {
     "data": {
      "application/vnd.jupyter.widget-view+json": {
       "model_id": "5d8748a561044641b2c24198b101cfe6",
       "version_major": 2,
       "version_minor": 0
      },
      "text/plain": [
       "HTML(value='<hr><h1><span style=\"color: #0f0\">10-53-19 jump - 🟢 valid - score = 458.50 km/h</span></h1>')"
      ]
     },
     "metadata": {},
     "output_type": "display_data"
    },
    {
     "data": {
      "application/vnd.jupyter.widget-view+json": {
       "model_id": "8fe9688090a94c90b75a69a614f8ffda",
       "version_major": 2,
       "version_minor": 0
      },
      "text/plain": [
       "HTML(value='<h3>Max speed = 463; exit at 4349 m (14269 ft), end scoring window at 2093 m (6867 ft)')"
      ]
     },
     "metadata": {},
     "output_type": "display_data"
    },
    {
     "data": {
      "application/vnd.jupyter.widget-view+json": {
       "model_id": "a9fb6b85e539444aaa5e7c6c3056a269",
       "version_major": 2,
       "version_minor": 0
      },
      "text/plain": [
       "HTML(value='</h3>')"
      ]
     },
     "metadata": {},
     "output_type": "display_data"
    },
    {
     "data": {
      "text/html": [
       "<div>\n",
       "<style scoped>\n",
       "    .dataframe tbody tr th:only-of-type {\n",
       "        vertical-align: middle;\n",
       "    }\n",
       "\n",
       "    .dataframe tbody tr th {\n",
       "        vertical-align: top;\n",
       "    }\n",
       "\n",
       "    .dataframe thead th {\n",
       "        text-align: right;\n",
       "    }\n",
       "</style>\n",
       "<table border=\"1\" class=\"dataframe\">\n",
       "  <thead>\n",
       "    <tr style=\"text-align: right;\">\n",
       "      <th></th>\n",
       "      <th>time</th>\n",
       "      <th>vKMh</th>\n",
       "      <th>hKMh</th>\n",
       "      <th>speedAngle</th>\n",
       "      <th>netVectorKMh</th>\n",
       "      <th>altitude (ft)</th>\n",
       "    </tr>\n",
       "  </thead>\n",
       "  <tbody>\n",
       "    <tr>\n",
       "      <th></th>\n",
       "      <td>5.0</td>\n",
       "      <td>171</td>\n",
       "      <td>88</td>\n",
       "      <td>62.8</td>\n",
       "      <td>192</td>\n",
       "      <td>13844</td>\n",
       "    </tr>\n",
       "    <tr>\n",
       "      <th></th>\n",
       "      <td>10.0</td>\n",
       "      <td>285</td>\n",
       "      <td>39</td>\n",
       "      <td>82.1</td>\n",
       "      <td>288</td>\n",
       "      <td>12804</td>\n",
       "    </tr>\n",
       "    <tr>\n",
       "      <th></th>\n",
       "      <td>15.0</td>\n",
       "      <td>387</td>\n",
       "      <td>58</td>\n",
       "      <td>81.5</td>\n",
       "      <td>392</td>\n",
       "      <td>11274</td>\n",
       "    </tr>\n",
       "    <tr>\n",
       "      <th></th>\n",
       "      <td>20.0</td>\n",
       "      <td>435</td>\n",
       "      <td>78</td>\n",
       "      <td>79.8</td>\n",
       "      <td>441</td>\n",
       "      <td>9390</td>\n",
       "    </tr>\n",
       "    <tr>\n",
       "      <th></th>\n",
       "      <td>25.0</td>\n",
       "      <td>459</td>\n",
       "      <td>65</td>\n",
       "      <td>82.0</td>\n",
       "      <td>464</td>\n",
       "      <td>7336</td>\n",
       "    </tr>\n",
       "  </tbody>\n",
       "</table>\n",
       "</div>"
      ],
      "text/plain": [
       "  time  vKMh  hKMh  speedAngle  netVectorKMh  altitude (ft)\n",
       "   5.0   171    88        62.8           192          13844\n",
       "  10.0   285    39        82.1           288          12804\n",
       "  15.0   387    58        81.5           392          11274\n",
       "  20.0   435    78        79.8           441           9390\n",
       "  25.0   459    65        82.0           464           7336"
      ]
     },
     "metadata": {},
     "output_type": "display_data"
    },
    {
     "data": {
      "text/html": [
       "\n",
       "  <div id=\"b9374d28-c278-4e6f-b4ce-de6d15b6b359\" data-root-id=\"p2716\" style=\"display: contents;\"></div>\n"
      ]
     },
     "metadata": {},
     "output_type": "display_data"
    },
    {
     "data": {
      "application/javascript": [
       "(function(root) {\n",
       "  function embed_document(root) {\n",
       "  const docs_json = {\"a5d9559d-1762-4f5d-9d72-4bbd40675da1\":{\"version\":\"3.4.1\",\"title\":\"Bokeh Application\",\"roots\":[{\"type\":\"object\",\"name\":\"Figure\",\"id\":\"p2716\",\"attributes\":{\"width\":900,\"height\":500,\"x_range\":{\"type\":\"object\",\"name\":\"Range1d\",\"id\":\"p2726\",\"attributes\":{\"end\":35.0}},\"y_range\":{\"type\":\"object\",\"name\":\"Range1d\",\"id\":\"p2727\",\"attributes\":{\"end\":550.0}},\"x_scale\":{\"type\":\"object\",\"name\":\"LinearScale\",\"id\":\"p2728\"},\"y_scale\":{\"type\":\"object\",\"name\":\"LinearScale\",\"id\":\"p2729\"},\"extra_y_ranges\":{\"type\":\"map\",\"entries\":[[\"altitudeFt\",{\"type\":\"object\",\"name\":\"Range1d\",\"id\":\"p2751\",\"attributes\":{\"start\":6373.6762576,\"end\":14769.317952800002}}],[\"angle\",{\"type\":\"object\",\"name\":\"Range1d\",\"id\":\"p2752\",\"attributes\":{\"end\":90.0}}]]},\"title\":{\"type\":\"object\",\"name\":\"Title\",\"id\":\"p2719\",\"attributes\":{\"text\":\"10-53-19\",\"text_color\":\"#E0E0E0\",\"text_font\":\"Helvetica\",\"text_font_size\":\"1.15em\"}},\"outline_line_color\":\"#E0E0E0\",\"outline_line_alpha\":0.25,\"renderers\":[{\"type\":\"object\",\"name\":\"GlyphRenderer\",\"id\":\"p2767\",\"attributes\":{\"y_range_name\":\"altitudeFt\",\"data_source\":{\"type\":\"object\",\"name\":\"ColumnDataSource\",\"id\":\"p2761\",\"attributes\":{\"selected\":{\"type\":\"object\",\"name\":\"Selection\",\"id\":\"p2762\",\"attributes\":{\"indices\":[],\"line_indices\":[]}},\"selection_policy\":{\"type\":\"object\",\"name\":\"UnionRenderers\",\"id\":\"p2763\"},\"data\":{\"type\":\"map\",\"entries\":[[\"x\",{\"type\":\"ndarray\",\"array\":{\"type\":\"bytes\",\"data\":\"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\"},\"shape\":[211],\"dtype\":\"float64\",\"order\":\"little\"}],[\"y\",{\"type\":\"ndarray\",\"array\":{\"type\":\"bytes\",\"data\":\"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\"},\"shape\":[211],\"dtype\":\"float64\",\"order\":\"little\"}]]}}},\"view\":{\"type\":\"object\",\"name\":\"CDSView\",\"id\":\"p2768\",\"attributes\":{\"filter\":{\"type\":\"object\",\"name\":\"AllIndices\",\"id\":\"p2769\"}}},\"glyph\":{\"type\":\"object\",\"name\":\"Line\",\"id\":\"p2764\",\"attributes\":{\"x\":{\"type\":\"field\",\"field\":\"x\"},\"y\":{\"type\":\"field\",\"field\":\"y\"},\"line_color\":\"palegoldenrod\",\"line_width\":2}},\"nonselection_glyph\":{\"type\":\"object\",\"name\":\"Line\",\"id\":\"p2765\",\"attributes\":{\"x\":{\"type\":\"field\",\"field\":\"x\"},\"y\":{\"type\":\"field\",\"field\":\"y\"},\"line_color\":\"palegoldenrod\",\"line_alpha\":0.1,\"line_width\":2}},\"muted_glyph\":{\"type\":\"object\",\"name\":\"Line\",\"id\":\"p2766\",\"attributes\":{\"x\":{\"type\":\"field\",\"field\":\"x\"},\"y\":{\"type\":\"field\",\"field\":\"y\"},\"line_color\":\"palegoldenrod\",\"line_alpha\":0.2,\"line_width\":2}}}},{\"type\":\"object\",\"name\":\"GlyphRenderer\",\"id\":\"p2778\",\"attributes\":{\"y_range_name\":\"angle\",\"data_source\":{\"type\":\"object\",\"name\":\"ColumnDataSource\",\"id\":\"p2772\",\"attributes\":{\"selected\":{\"type\":\"object\",\"name\":\"Selection\",\"id\":\"p2773\",\"attributes\":{\"indices\":[],\"line_indices\":[]}},\"selection_policy\":{\"type\":\"object\",\"name\":\"UnionRenderers\",\"id\":\"p2774\"},\"data\":{\"type\":\"map\",\"entries\":[[\"x\",{\"type\":\"ndarray\",\"array\":{\"type\":\"bytes\",\"data\":\"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\"},\"shape\":[211],\"dtype\":\"float64\",\"order\":\"little\"}],[\"y\",{\"type\":\"ndarray\",\"array\":{\"type\":\"bytes\",\"data\":\"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\"},\"shape\":[211],\"dtype\":\"float64\",\"order\":\"little\"}]]}}},\"view\":{\"type\":\"object\",\"name\":\"CDSView\",\"id\":\"p2779\",\"attributes\":{\"filter\":{\"type\":\"object\",\"name\":\"AllIndices\",\"id\":\"p2780\"}}},\"glyph\":{\"type\":\"object\",\"name\":\"Line\",\"id\":\"p2775\",\"attributes\":{\"x\":{\"type\":\"field\",\"field\":\"x\"},\"y\":{\"type\":\"field\",\"field\":\"y\"},\"line_color\":\"deepskyblue\",\"line_width\":2}},\"nonselection_glyph\":{\"type\":\"object\",\"name\":\"Line\",\"id\":\"p2776\",\"attributes\":{\"x\":{\"type\":\"field\",\"field\":\"x\"},\"y\":{\"type\":\"field\",\"field\":\"y\"},\"line_color\":\"deepskyblue\",\"line_alpha\":0.1,\"line_width\":2}},\"muted_glyph\":{\"type\":\"object\",\"name\":\"Line\",\"id\":\"p2777\",\"attributes\":{\"x\":{\"type\":\"field\",\"field\":\"x\"},\"y\":{\"type\":\"field\",\"field\":\"y\"},\"line_color\":\"deepskyblue\",\"line_alpha\":0.2,\"line_width\":2}}}},{\"type\":\"object\",\"name\":\"GlyphRenderer\",\"id\":\"p2789\",\"attributes\":{\"data_source\":{\"type\":\"object\",\"name\":\"ColumnDataSource\",\"id\":\"p2783\",\"attributes\":{\"selected\":{\"type\":\"object\",\"name\":\"Selection\",\"id\":\"p2784\",\"attributes\":{\"indices\":[],\"line_indices\":[]}},\"selection_policy\":{\"type\":\"object\",\"name\":\"UnionRenderers\",\"id\":\"p2785\"},\"data\":{\"type\":\"map\",\"entries\":[[\"x\",{\"type\":\"ndarray\",\"array\":{\"type\":\"bytes\",\"data\":\"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\"},\"shape\":[211],\"dtype\":\"float64\",\"order\":\"little\"}],[\"y\",{\"type\":\"ndarray\",\"array\":{\"type\":\"bytes\",\"data\":\"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\"},\"shape\":[211],\"dtype\":\"float64\",\"order\":\"little\"}]]}}},\"view\":{\"type\":\"object\",\"name\":\"CDSView\",\"id\":\"p2790\",\"attributes\":{\"filter\":{\"type\":\"object\",\"name\":\"AllIndices\",\"id\":\"p2791\"}}},\"glyph\":{\"type\":\"object\",\"name\":\"Line\",\"id\":\"p2786\",\"attributes\":{\"x\":{\"type\":\"field\",\"field\":\"x\"},\"y\":{\"type\":\"field\",\"field\":\"y\"},\"line_color\":\"limegreen\",\"line_width\":2}},\"nonselection_glyph\":{\"type\":\"object\",\"name\":\"Line\",\"id\":\"p2787\",\"attributes\":{\"x\":{\"type\":\"field\",\"field\":\"x\"},\"y\":{\"type\":\"field\",\"field\":\"y\"},\"line_color\":\"limegreen\",\"line_alpha\":0.1,\"line_width\":2}},\"muted_glyph\":{\"type\":\"object\",\"name\":\"Line\",\"id\":\"p2788\",\"attributes\":{\"x\":{\"type\":\"field\",\"field\":\"x\"},\"y\":{\"type\":\"field\",\"field\":\"y\"},\"line_color\":\"limegreen\",\"line_alpha\":0.2,\"line_width\":2}}}},{\"type\":\"object\",\"name\":\"GlyphRenderer\",\"id\":\"p2799\",\"attributes\":{\"data_source\":{\"type\":\"object\",\"name\":\"ColumnDataSource\",\"id\":\"p2793\",\"attributes\":{\"selected\":{\"type\":\"object\",\"name\":\"Selection\",\"id\":\"p2794\",\"attributes\":{\"indices\":[],\"line_indices\":[]}},\"selection_policy\":{\"type\":\"object\",\"name\":\"UnionRenderers\",\"id\":\"p2795\"},\"data\":{\"type\":\"map\",\"entries\":[[\"x\",{\"type\":\"ndarray\",\"array\":{\"type\":\"bytes\",\"data\":\"AAAAAAAAAAAAAAAAmJm5PwAAAACYmck/AAAAADMz0z8AAAAAmZnZPwAAAAAAAOA/AAAAADMz4z8AAAAAZmbmPwAAAICZmek/AAAAgMzM7D8AAAAAAADwPwAAAICZmfE/AAAAADMz8z8AAADAzMz0PwAAAEBmZvY/AAAAAAAA+D8AAACAmZn5PwAAAAAzM/s/AAAAwMzM/D8AAABAZmb+PwAAAAAAAABAAAAAwMzMAEAAAACAmZkBQAAAAGBmZgJAAAAAIDMzA0AAAAAAAAAEQAAAAMDMzARAAAAAgJmZBUAAAABgZmYGQAAAACAzMwdAAAAAAAAACEAAAADAzMwIQAAAAICZmQlAAAAAYGZmCkAAAAAgMzMLQAAAAAAAAAxAAAAAgJmZDUAAAABgZmYOQAAAACAzMw9AAAAAAAAAEEAAAABgZmYQQAAAADAzMxFAAAAAkJmZEUAAAAAAAAASQAAAAGBmZhJAAAAAMDMzE0AAAACQmZkTQAAAAGBmZhRAAAAAwMzMFEAAAACQmZkVQAAAAAAAABZAAAAAYGZmFkAAAADAzMwWQAAAAJCZmRdAAAAAAAAAGEAAAABgZmYYQAAAAMDMzBhAAAAAMDMzGUAAAAAAAAAaQAAAAGBmZhpAAAAAwMzMGkAAAAAwMzMbQAAAAJCZmRtAAAAAYGZmHEAAAADAzMwcQAAAADAzMx1AAAAAkJmZHUAAAABgZmYeQAAAAMDMzB5AAAAAkJmZH0AAAAAAAAAgQAAAADAzMyBAAAAAYGZmIEAAAACYmZkgQAAAAAAAACFAAAAAMDMzIUAAAABgZmYhQAAAAJiZmSFAAAAAAAAAIkAAAAAwMzMiQAAAAJiZmSJAAAAAyMzMIkAAAAAAAAAjQAAAADAzMyNAAAAAmJmZI0AAAADIzMwjQAAAADAzMyRAAAAAYGZmJEAAAACYmZkkQAAAAMjMzCRAAAAAAAAAJUAAAABgZmYlQAAAAJiZmSVAAAAAAAAAJkAAAAAwMzMmQAAAAGBmZiZAAAAAmJmZJkAAAAAAAAAnQAAAADAzMydAAAAAmJmZJ0AAAADIzMwnQAAAADAzMyhAAAAAYGZmKEAAAADIzMwoQAAAAAAAAClAAAAAMDMzKUAAAABgZmYpQAAAAMjMzClAAAAAAAAAKkAAAAAwMzMqQAAAAGBmZipAAAAAmJmZKkAAAAAAAAArQAAAADAzMytAAAAAYGZmK0AAAACYmZkrQAAAAAAAACxAAAAAMDMzLEAAAABgZmYsQAAAAJiZmSxAAAAAyMzMLEAAAAAwMzMtQAAAAGBmZi1AAAAAyMzMLUAAAAAAAAAuQAAAADAzMy5AAAAAYGZmLkAAAADIzMwuQAAAAAAAAC9AAAAAMDMzL0AAAABgZmYvQAAAAJiZmS9AAAAAAAAAMEAAAACYmRkwQAAAADAzMzBAAAAAzMxMMEAAAABkZmYwQAAAAJiZmTBAAAAAMDOzMEAAAADMzMwwQAAAAGRm5jBAAAAAmJkZMUAAAAAwMzMxQAAAAGRmZjFAAAAAAACAMUAAAACYmZkxQAAAADAzszFAAAAAZGbmMUAAAAAAAAAyQAAAADAzMzJAAAAAzMxMMkAAAABkZmYyQAAAAAAAgDJAAAAAmJmZMkAAAADMzMwyQAAAAGRm5jJAAAAAAAAAM0AAAACYmRkzQAAAAMzMTDNAAAAAZGZmM0AAAACYmZkzQAAAADAzszNAAAAAZGbmM0AAAAAAAAA0QAAAAJiZGTRAAAAAMDMzNEAAAADMzEw0QAAAAAAAgDRAAAAAmJmZNEAAAAAwM7M0QAAAAMzMzDRAAAAAAAAANUAAAACYmRk1QAAAAMzMTDVAAAAAZGZmNUAAAAAAAIA1QAAAAJiZmTVAAAAAMDOzNUAAAABkZuY1QAAAAAAAADZAAAAAmJkZNkAAAAAwMzM2QAAAAGRmZjZAAAAAAACANkAAAAAwM7M2QAAAAMzMzDZAAAAAZGbmNkAAAAAAAAA3QAAAAJiZGTdAAAAAzMxMN0AAAAAAAIA3QAAAAJiZmTdAAAAAMDOzN0AAAADMzMw3QAAAAGRm5jdAAAAAmJkZOEAAAAAwMzM4QAAAAGRmZjhAAAAAmJmZOEAAAAAwM7M4QAAAAGRm5jhAAAAAAAAAOUAAAACYmRk5QAAAADAzMzlAAAAAzMxMOUAAAAAAAIA5QAAAAJiZmTlAAAAAMDOzOUAAAADMzMw5QAAAAAAAADpAAAAAmJkZOkA=\"},\"shape\":[211],\"dtype\":\"float64\",\"order\":\"little\"}],[\"y\",{\"type\":\"ndarray\",\"array\":{\"type\":\"bytes\",\"data\":\"KXZ9wjGCW0A7z85FqIdbQEvDCGGrHVxAkNlgOW4rXEDzs5A1palcQJzlYeGmxlxA5nodV1VLXEDR/Kky/SNcQBpE5xrd21tAIUQ67O9QW0Bb0LRBAcpaQLLqc2kzNVtAS0fv6BAJW0DdoVEsnKJaQAX6Sx1laFpA2rW0SKw+WkD/YCGYXBFaQKqzA5E/IlpAMDYZcaj7WUBqFWtNWd9ZQL9R17cR3FlAwH+sfLfAWUBNA3kiuJVZQE7TFdyhfFlAzzZytzVAWUC/F24ojvVYQIYuY/MZ4FhAETXMe6+3WEDVbvyANnpYQM+hvQnxNFhAW7qnaYweWEDseYGnjvxXQGxcgAZ05ldA8CWaAdK3V0C6d775HZBXQNND3A7Pg1dAikWu3ktfV0Dk81inNkdXQHEXtypSEldA618GMyD/VkDN/FnZ6PdWQLSnwZnb2VZAriiy1RPMVkDmRlNKvsVWQG3pEbEKmlZAtrzcvkBkVkB0IigBXk5WQPBu2pS391VAGXKgroO4VUAk4Cn23C9VQATRSym06FRANUaD74myVEDjANYlWIFUQOu1UBD3wFNA3BbuiNZeU0AMSBrycLJSQHheRhoT6VFALx+dBIeYUUC2wLTBQ5JQQCjgC0XwFFBAE8EZn6cNT0C+aC0jDQVOQPvuT6dTBk1ApkN8be6gSkA4WnJYdfxJQLy+t4gr3khAwkzY8AnnR0CvWpsEPrFFQK7WGj9B00RAoo2aL48dQ0CiH8+ZzktCQA5hMS7fpkFAVd0zw4hAQUCvD9cao0VBQMzCl93kAkFAmpmZmZkZQUABex3NIE9BQCIiFTDyWkFAUf7ZPb3eQUA6MXM2gAhCQAU10MIpRUJAbDTbr+NhQkBIj6GT4IdCQHMsOYJvxkJAdepT8oIzQ0BJRZjflo5DQD7PbHUCv0NAexSuR+H6Q0APOr0CtXVEQH5+RRmXmkRAVbM403LHREBRf/jtlC1FQNinMpDeGUVApDaqIUpoRUDSlkn1FUNFQCypSGw+n0VABT0KEIm8RUAilzsDmytFQDJbSU2sU0VAsFDbEIR9RUDNulR48tFFQEBJ+DoYDEZAs2HVQDRVRkDzNt+6IxpHQHRa04I/SkdAt6V8iYZpR0AyDTSB62RHQFMNtxe6fkdAKxZh5zhrR0BOOPHdUaJHQIzlJCiJq0dAiIeQ5jTjR0CdrbGzZ0pIQJ2ZtAaRzUhAdpBeEJygSEAKd0bcdfZIQOTR6XnRUUlAbBiohPeBSUACH/RgCZJJQFwDq+kweUlA0s7OAtCjSUBXEKXUERhKQDsAEXUxYkpAlvaH2PibS0CH6msvt9lMQKUydRJVJE5A+XVZkwE7T0BnJ9+o8eFPQKYrXHOW1U9A5ZtX2RhlT0CS0vSItbROQKYleP8dD05AwiJRyM+UTUCYBJ0ZoEJNQNrcdciONE1AtrPO4c42TUAjpor5ofRNQBRdqNRbik9As+St+OMkUEDG2uBnQG5QQC3HYASafFBA3tqWOnx/UEAv/ExDK2BQQOhx7jj13E9AoFd/cS5jT0AhKb+pq8NOQLs40Rokx05AFcfCNwRCTkAtIubNZtdOQFJDbJec0k9A1K5T3qAHUEA0ViSx+F9QQG3QPWMEwVBAbJaTr6TpUEDr+nizeXRRQFFcpu+atVFA40zPnVzrUUBqiAy4azVSQDsSpiMHk1JATWZ0eAjOUkAn1tbSFndTQGllYPDUgFNAMnAF+quqU0ASy1cGcIZTQBKcMPG7h1NAUsZFimw+U0AS4auMSP9SQIXYwjdzGFNA9LkBeBsiU0DqFERSlCpTQObpma0APlNAkcAuKp08U0C4igBje0xTQImiHWseS1NAcZmQcqgxU0BkQxHt/jVTQHva07jG+FJA/YRx9qu+UkD5saSh6RxSQD7d0n2W5VFAZeys1EPLUUArMisAUadRQPZBJFIce1FAts4iwn6AUUC9f8qBsHdRQPq2mVuGcFFA49W7u7qFUUD3DQEhesRRQPAtqEXC+lFAcJED5MR1UkAnG3AqM5VSQC3bc9Mtl1JA8wt6OMgcUkBDeGabSORRQOY4j2uPiVFAn5j0CM2lUEBLnYSssDVQQGw5JD83309Af7JV9zzjT0CL2LRPiBtQQHAO90PILlBAuuo5DM03UEABPZF8BUdQQLVEAPeXOFBAIVghoeMjUEBpIvUWfwdQQNMWbm8sAlBA4EBYuvooUEBTQ2X6UCFQQJKQ96f0WlBAAM3kfueRUEA=\"},\"shape\":[211],\"dtype\":\"float64\",\"order\":\"little\"}]]}}},\"view\":{\"type\":\"object\",\"name\":\"CDSView\",\"id\":\"p2800\",\"attributes\":{\"filter\":{\"type\":\"object\",\"name\":\"AllIndices\",\"id\":\"p2801\"}}},\"glyph\":{\"type\":\"object\",\"name\":\"Line\",\"id\":\"p2796\",\"attributes\":{\"x\":{\"type\":\"field\",\"field\":\"x\"},\"y\":{\"type\":\"field\",\"field\":\"y\"},\"line_color\":\"red\",\"line_width\":2}},\"nonselection_glyph\":{\"type\":\"object\",\"name\":\"Line\",\"id\":\"p2797\",\"attributes\":{\"x\":{\"type\":\"field\",\"field\":\"x\"},\"y\":{\"type\":\"field\",\"field\":\"y\"},\"line_color\":\"red\",\"line_alpha\":0.1,\"line_width\":2}},\"muted_glyph\":{\"type\":\"object\",\"name\":\"Line\",\"id\":\"p2798\",\"attributes\":{\"x\":{\"type\":\"field\",\"field\":\"x\"},\"y\":{\"type\":\"field\",\"field\":\"y\"},\"line_color\":\"red\",\"line_alpha\":0.2,\"line_width\":2}}}},{\"type\":\"object\",\"name\":\"GlyphRenderer\",\"id\":\"p2809\",\"attributes\":{\"data_source\":{\"type\":\"object\",\"name\":\"ColumnDataSource\",\"id\":\"p2803\",\"attributes\":{\"selected\":{\"type\":\"object\",\"name\":\"Selection\",\"id\":\"p2804\",\"attributes\":{\"indices\":[],\"line_indices\":[]}},\"selection_policy\":{\"type\":\"object\",\"name\":\"UnionRenderers\",\"id\":\"p2805\"},\"data\":{\"type\":\"map\",\"entries\":[[\"x0\",[22.799999952316284]],[\"y0\",[0.0]],[\"x1\",[22.799999952316284]],[\"y1\",[458.496]]]}}},\"view\":{\"type\":\"object\",\"name\":\"CDSView\",\"id\":\"p2810\",\"attributes\":{\"filter\":{\"type\":\"object\",\"name\":\"AllIndices\",\"id\":\"p2811\"}}},\"glyph\":{\"type\":\"object\",\"name\":\"Segment\",\"id\":\"p2806\",\"attributes\":{\"x0\":{\"type\":\"field\",\"field\":\"x0\"},\"y0\":{\"type\":\"field\",\"field\":\"y0\"},\"x1\":{\"type\":\"field\",\"field\":\"x1\"},\"y1\":{\"type\":\"field\",\"field\":\"y1\"},\"line_color\":{\"type\":\"value\",\"value\":\"lightblue\"},\"line_width\":{\"type\":\"value\",\"value\":3}}},\"nonselection_glyph\":{\"type\":\"object\",\"name\":\"Segment\",\"id\":\"p2807\",\"attributes\":{\"x0\":{\"type\":\"field\",\"field\":\"x0\"},\"y0\":{\"type\":\"field\",\"field\":\"y0\"},\"x1\":{\"type\":\"field\",\"field\":\"x1\"},\"y1\":{\"type\":\"field\",\"field\":\"y1\"},\"line_color\":{\"type\":\"value\",\"value\":\"lightblue\"},\"line_alpha\":{\"type\":\"value\",\"value\":0.1},\"line_width\":{\"type\":\"value\",\"value\":3}}},\"muted_glyph\":{\"type\":\"object\",\"name\":\"Segment\",\"id\":\"p2808\",\"attributes\":{\"x0\":{\"type\":\"field\",\"field\":\"x0\"},\"y0\":{\"type\":\"field\",\"field\":\"y0\"},\"x1\":{\"type\":\"field\",\"field\":\"x1\"},\"y1\":{\"type\":\"field\",\"field\":\"y1\"},\"line_color\":{\"type\":\"value\",\"value\":\"lightblue\"},\"line_alpha\":{\"type\":\"value\",\"value\":0.2},\"line_width\":{\"type\":\"value\",\"value\":3}}}}},{\"type\":\"object\",\"name\":\"GlyphRenderer\",\"id\":\"p2818\",\"attributes\":{\"data_source\":{\"type\":\"object\",\"name\":\"ColumnDataSource\",\"id\":\"p2812\",\"attributes\":{\"selected\":{\"type\":\"object\",\"name\":\"Selection\",\"id\":\"p2813\",\"attributes\":{\"indices\":[],\"line_indices\":[]}},\"selection_policy\":{\"type\":\"object\",\"name\":\"UnionRenderers\",\"id\":\"p2814\"},\"data\":{\"type\":\"map\",\"entries\":[[\"x0\",[24.299999952316284]],[\"y0\",[0.0]],[\"x1\",[24.299999952316284]],[\"y1\",[458.496]]]}}},\"view\":{\"type\":\"object\",\"name\":\"CDSView\",\"id\":\"p2819\",\"attributes\":{\"filter\":{\"type\":\"object\",\"name\":\"AllIndices\",\"id\":\"p2820\"}}},\"glyph\":{\"type\":\"object\",\"name\":\"Segment\",\"id\":\"p2815\",\"attributes\":{\"x0\":{\"type\":\"field\",\"field\":\"x0\"},\"y0\":{\"type\":\"field\",\"field\":\"y0\"},\"x1\":{\"type\":\"field\",\"field\":\"x1\"},\"y1\":{\"type\":\"field\",\"field\":\"y1\"},\"line_color\":{\"type\":\"value\",\"value\":\"darkseagreen\"}}},\"nonselection_glyph\":{\"type\":\"object\",\"name\":\"Segment\",\"id\":\"p2816\",\"attributes\":{\"x0\":{\"type\":\"field\",\"field\":\"x0\"},\"y0\":{\"type\":\"field\",\"field\":\"y0\"},\"x1\":{\"type\":\"field\",\"field\":\"x1\"},\"y1\":{\"type\":\"field\",\"field\":\"y1\"},\"line_color\":{\"type\":\"value\",\"value\":\"darkseagreen\"},\"line_alpha\":{\"type\":\"value\",\"value\":0.1}}},\"muted_glyph\":{\"type\":\"object\",\"name\":\"Segment\",\"id\":\"p2817\",\"attributes\":{\"x0\":{\"type\":\"field\",\"field\":\"x0\"},\"y0\":{\"type\":\"field\",\"field\":\"y0\"},\"x1\":{\"type\":\"field\",\"field\":\"x1\"},\"y1\":{\"type\":\"field\",\"field\":\"y1\"},\"line_color\":{\"type\":\"value\",\"value\":\"darkseagreen\"},\"line_alpha\":{\"type\":\"value\",\"value\":0.2}}}}},{\"type\":\"object\",\"name\":\"GlyphRenderer\",\"id\":\"p2827\",\"attributes\":{\"data_source\":{\"type\":\"object\",\"name\":\"ColumnDataSource\",\"id\":\"p2821\",\"attributes\":{\"selected\":{\"type\":\"object\",\"name\":\"Selection\",\"id\":\"p2822\",\"attributes\":{\"indices\":[],\"line_indices\":[]}},\"selection_policy\":{\"type\":\"object\",\"name\":\"UnionRenderers\",\"id\":\"p2823\"},\"data\":{\"type\":\"map\",\"entries\":[[\"x0\",[21.299999952316284]],[\"y0\",[0.0]],[\"x1\",[21.299999952316284]],[\"y1\",[458.496]]]}}},\"view\":{\"type\":\"object\",\"name\":\"CDSView\",\"id\":\"p2828\",\"attributes\":{\"filter\":{\"type\":\"object\",\"name\":\"AllIndices\",\"id\":\"p2829\"}}},\"glyph\":{\"type\":\"object\",\"name\":\"Segment\",\"id\":\"p2824\",\"attributes\":{\"x0\":{\"type\":\"field\",\"field\":\"x0\"},\"y0\":{\"type\":\"field\",\"field\":\"y0\"},\"x1\":{\"type\":\"field\",\"field\":\"x1\"},\"y1\":{\"type\":\"field\",\"field\":\"y1\"},\"line_color\":{\"type\":\"value\",\"value\":\"darkseagreen\"}}},\"nonselection_glyph\":{\"type\":\"object\",\"name\":\"Segment\",\"id\":\"p2825\",\"attributes\":{\"x0\":{\"type\":\"field\",\"field\":\"x0\"},\"y0\":{\"type\":\"field\",\"field\":\"y0\"},\"x1\":{\"type\":\"field\",\"field\":\"x1\"},\"y1\":{\"type\":\"field\",\"field\":\"y1\"},\"line_color\":{\"type\":\"value\",\"value\":\"darkseagreen\"},\"line_alpha\":{\"type\":\"value\",\"value\":0.1}}},\"muted_glyph\":{\"type\":\"object\",\"name\":\"Segment\",\"id\":\"p2826\",\"attributes\":{\"x0\":{\"type\":\"field\",\"field\":\"x0\"},\"y0\":{\"type\":\"field\",\"field\":\"y0\"},\"x1\":{\"type\":\"field\",\"field\":\"x1\"},\"y1\":{\"type\":\"field\",\"field\":\"y1\"},\"line_color\":{\"type\":\"value\",\"value\":\"darkseagreen\"},\"line_alpha\":{\"type\":\"value\",\"value\":0.2}}}}},{\"type\":\"object\",\"name\":\"GlyphRenderer\",\"id\":\"p2836\",\"attributes\":{\"data_source\":{\"type\":\"object\",\"name\":\"ColumnDataSource\",\"id\":\"p2830\",\"attributes\":{\"selected\":{\"type\":\"object\",\"name\":\"Selection\",\"id\":\"p2831\",\"attributes\":{\"indices\":[],\"line_indices\":[]}},\"selection_policy\":{\"type\":\"object\",\"name\":\"UnionRenderers\",\"id\":\"p2832\"},\"data\":{\"type\":\"map\",\"entries\":[[\"x\",[22.799999952316284]],[\"y\",[458.496]],[\"size\",[20]]]}}},\"view\":{\"type\":\"object\",\"name\":\"CDSView\",\"id\":\"p2837\",\"attributes\":{\"filter\":{\"type\":\"object\",\"name\":\"AllIndices\",\"id\":\"p2838\"}}},\"glyph\":{\"type\":\"object\",\"name\":\"Scatter\",\"id\":\"p2833\",\"attributes\":{\"x\":{\"type\":\"field\",\"field\":\"x\"},\"y\":{\"type\":\"field\",\"field\":\"y\"},\"size\":{\"type\":\"field\",\"field\":\"size\"},\"line_color\":{\"type\":\"value\",\"value\":\"lightblue\"},\"line_width\":{\"type\":\"value\",\"value\":3},\"fill_color\":{\"type\":\"value\",\"value\":null},\"marker\":{\"type\":\"value\",\"value\":\"square_cross\"}}},\"nonselection_glyph\":{\"type\":\"object\",\"name\":\"Scatter\",\"id\":\"p2834\",\"attributes\":{\"x\":{\"type\":\"field\",\"field\":\"x\"},\"y\":{\"type\":\"field\",\"field\":\"y\"},\"size\":{\"type\":\"field\",\"field\":\"size\"},\"line_color\":{\"type\":\"value\",\"value\":\"lightblue\"},\"line_alpha\":{\"type\":\"value\",\"value\":0.1},\"line_width\":{\"type\":\"value\",\"value\":3},\"fill_color\":{\"type\":\"value\",\"value\":null},\"fill_alpha\":{\"type\":\"value\",\"value\":0.1},\"hatch_alpha\":{\"type\":\"value\",\"value\":0.1},\"marker\":{\"type\":\"value\",\"value\":\"square_cross\"}}},\"muted_glyph\":{\"type\":\"object\",\"name\":\"Scatter\",\"id\":\"p2835\",\"attributes\":{\"x\":{\"type\":\"field\",\"field\":\"x\"},\"y\":{\"type\":\"field\",\"field\":\"y\"},\"size\":{\"type\":\"field\",\"field\":\"size\"},\"line_color\":{\"type\":\"value\",\"value\":\"lightblue\"},\"line_alpha\":{\"type\":\"value\",\"value\":0.2},\"line_width\":{\"type\":\"value\",\"value\":3},\"fill_color\":{\"type\":\"value\",\"value\":null},\"fill_alpha\":{\"type\":\"value\",\"value\":0.2},\"hatch_alpha\":{\"type\":\"value\",\"value\":0.2},\"marker\":{\"type\":\"value\",\"value\":\"square_cross\"}}}}}],\"toolbar\":{\"type\":\"object\",\"name\":\"Toolbar\",\"id\":\"p2725\",\"attributes\":{\"tools\":[{\"type\":\"object\",\"name\":\"PanTool\",\"id\":\"p2740\"},{\"type\":\"object\",\"name\":\"WheelZoomTool\",\"id\":\"p2741\",\"attributes\":{\"renderers\":\"auto\"}},{\"type\":\"object\",\"name\":\"BoxZoomTool\",\"id\":\"p2742\",\"attributes\":{\"overlay\":{\"type\":\"object\",\"name\":\"BoxAnnotation\",\"id\":\"p2743\",\"attributes\":{\"syncable\":false,\"level\":\"overlay\",\"visible\":false,\"left\":{\"type\":\"number\",\"value\":\"nan\"},\"right\":{\"type\":\"number\",\"value\":\"nan\"},\"top\":{\"type\":\"number\",\"value\":\"nan\"},\"bottom\":{\"type\":\"number\",\"value\":\"nan\"},\"left_units\":\"canvas\",\"right_units\":\"canvas\",\"top_units\":\"canvas\",\"bottom_units\":\"canvas\",\"line_color\":\"black\",\"line_alpha\":1.0,\"line_width\":2,\"line_dash\":[4,4],\"fill_color\":\"lightgrey\",\"fill_alpha\":0.5}}}},{\"type\":\"object\",\"name\":\"SaveTool\",\"id\":\"p2748\"},{\"type\":\"object\",\"name\":\"ResetTool\",\"id\":\"p2749\"},{\"type\":\"object\",\"name\":\"HelpTool\",\"id\":\"p2750\"},{\"type\":\"object\",\"name\":\"HoverTool\",\"id\":\"p2782\",\"attributes\":{\"renderers\":\"auto\",\"tooltips\":[[\"Y-val\",\"@y{0.00}\"]]}}]}},\"left\":[{\"type\":\"object\",\"name\":\"LinearAxis\",\"id\":\"p2735\",\"attributes\":{\"ticker\":{\"type\":\"object\",\"name\":\"BasicTicker\",\"id\":\"p2736\",\"attributes\":{\"mantissas\":[1,2,5]}},\"formatter\":{\"type\":\"object\",\"name\":\"BasicTickFormatter\",\"id\":\"p2737\"},\"axis_label\":\"km/h\",\"axis_label_standoff\":10,\"axis_label_text_color\":\"#E0E0E0\",\"axis_label_text_font\":\"Helvetica\",\"axis_label_text_font_size\":\"1.25em\",\"axis_label_text_font_style\":\"normal\",\"major_label_policy\":{\"type\":\"object\",\"name\":\"AllLabels\",\"id\":\"p2738\"},\"major_label_text_color\":\"#E0E0E0\",\"major_label_text_font\":\"Helvetica\",\"major_label_text_font_size\":\"1.025em\",\"axis_line_color\":\"#E0E0E0\",\"axis_line_alpha\":0,\"major_tick_line_color\":\"#E0E0E0\",\"major_tick_line_alpha\":0,\"minor_tick_line_color\":\"#E0E0E0\",\"minor_tick_line_alpha\":0}},{\"type\":\"object\",\"name\":\"LinearAxis\",\"id\":\"p2753\",\"attributes\":{\"y_range_name\":\"altitudeFt\",\"ticker\":{\"type\":\"object\",\"name\":\"BasicTicker\",\"id\":\"p2754\",\"attributes\":{\"mantissas\":[1,2,5]}},\"formatter\":{\"type\":\"object\",\"name\":\"BasicTickFormatter\",\"id\":\"p2755\"},\"axis_label\":\"Alt (ft)\",\"axis_label_standoff\":10,\"axis_label_text_color\":\"#E0E0E0\",\"axis_label_text_font\":\"Helvetica\",\"axis_label_text_font_size\":\"1.25em\",\"axis_label_text_font_style\":\"normal\",\"major_label_policy\":{\"type\":\"object\",\"name\":\"AllLabels\",\"id\":\"p2756\"},\"major_label_text_color\":\"#E0E0E0\",\"major_label_text_font\":\"Helvetica\",\"major_label_text_font_size\":\"1.025em\",\"axis_line_color\":\"#E0E0E0\",\"axis_line_alpha\":0,\"major_tick_line_color\":\"#E0E0E0\",\"major_tick_line_alpha\":0,\"minor_tick_line_color\":\"#E0E0E0\",\"minor_tick_line_alpha\":0}},{\"type\":\"object\",\"name\":\"LinearAxis\",\"id\":\"p2757\",\"attributes\":{\"y_range_name\":\"angle\",\"ticker\":{\"type\":\"object\",\"name\":\"BasicTicker\",\"id\":\"p2758\",\"attributes\":{\"mantissas\":[1,2,5]}},\"formatter\":{\"type\":\"object\",\"name\":\"BasicTickFormatter\",\"id\":\"p2759\"},\"axis_label\":\"angle\",\"axis_label_standoff\":10,\"axis_label_text_color\":\"#E0E0E0\",\"axis_label_text_font\":\"Helvetica\",\"axis_label_text_font_size\":\"1.25em\",\"axis_label_text_font_style\":\"normal\",\"major_label_policy\":{\"type\":\"object\",\"name\":\"AllLabels\",\"id\":\"p2760\"},\"major_label_text_color\":\"#E0E0E0\",\"major_label_text_font\":\"Helvetica\",\"major_label_text_font_size\":\"1.025em\",\"axis_line_color\":\"#E0E0E0\",\"axis_line_alpha\":0,\"major_tick_line_color\":\"#E0E0E0\",\"major_tick_line_alpha\":0,\"minor_tick_line_color\":\"#E0E0E0\",\"minor_tick_line_alpha\":0}}],\"below\":[{\"type\":\"object\",\"name\":\"LinearAxis\",\"id\":\"p2730\",\"attributes\":{\"ticker\":{\"type\":\"object\",\"name\":\"BasicTicker\",\"id\":\"p2731\",\"attributes\":{\"mantissas\":[1,2,5]}},\"formatter\":{\"type\":\"object\",\"name\":\"BasicTickFormatter\",\"id\":\"p2732\"},\"axis_label\":\"seconds from exit\",\"axis_label_standoff\":10,\"axis_label_text_color\":\"#E0E0E0\",\"axis_label_text_font\":\"Helvetica\",\"axis_label_text_font_size\":\"1.25em\",\"axis_label_text_font_style\":\"normal\",\"major_label_policy\":{\"type\":\"object\",\"name\":\"AllLabels\",\"id\":\"p2733\"},\"major_label_text_color\":\"#E0E0E0\",\"major_label_text_font\":\"Helvetica\",\"major_label_text_font_size\":\"1.025em\",\"axis_line_color\":\"#E0E0E0\",\"axis_line_alpha\":0,\"major_tick_line_color\":\"#E0E0E0\",\"major_tick_line_alpha\":0,\"minor_tick_line_color\":\"#E0E0E0\",\"minor_tick_line_alpha\":0}}],\"center\":[{\"type\":\"object\",\"name\":\"Grid\",\"id\":\"p2734\",\"attributes\":{\"axis\":{\"id\":\"p2730\"},\"grid_line_color\":\"#E0E0E0\",\"grid_line_alpha\":0.25}},{\"type\":\"object\",\"name\":\"Grid\",\"id\":\"p2739\",\"attributes\":{\"dimension\":1,\"axis\":{\"id\":\"p2735\"},\"grid_line_color\":\"#E0E0E0\",\"grid_line_alpha\":0.25}},{\"type\":\"object\",\"name\":\"Legend\",\"id\":\"p2770\",\"attributes\":{\"border_line_alpha\":0,\"background_fill_color\":\"#20262B\",\"background_fill_alpha\":0.25,\"label_text_color\":\"#E0E0E0\",\"label_text_font\":\"Helvetica\",\"label_text_font_size\":\"1.025em\",\"label_standoff\":8,\"glyph_width\":15,\"spacing\":8,\"items\":[{\"type\":\"object\",\"name\":\"LegendItem\",\"id\":\"p2771\",\"attributes\":{\"label\":{\"type\":\"value\",\"value\":\"Alt (ft)\"},\"renderers\":[{\"id\":\"p2767\"}]}},{\"type\":\"object\",\"name\":\"LegendItem\",\"id\":\"p2781\",\"attributes\":{\"label\":{\"type\":\"value\",\"value\":\"angle\"},\"renderers\":[{\"id\":\"p2778\"}]}},{\"type\":\"object\",\"name\":\"LegendItem\",\"id\":\"p2792\",\"attributes\":{\"label\":{\"type\":\"value\",\"value\":\"speed\"},\"renderers\":[{\"id\":\"p2789\"}]}},{\"type\":\"object\",\"name\":\"LegendItem\",\"id\":\"p2802\",\"attributes\":{\"label\":{\"type\":\"value\",\"value\":\"H-speed\"},\"renderers\":[{\"id\":\"p2799\"}]}}]}}],\"background_fill_color\":\"#20262B\",\"border_fill_color\":\"#15191C\"}}]}};\n",
       "  const render_items = [{\"docid\":\"a5d9559d-1762-4f5d-9d72-4bbd40675da1\",\"roots\":{\"p2716\":\"b9374d28-c278-4e6f-b4ce-de6d15b6b359\"},\"root_ids\":[\"p2716\"]}];\n",
       "  void root.Bokeh.embed.embed_items_notebook(docs_json, render_items);\n",
       "  }\n",
       "  if (root.Bokeh !== undefined) {\n",
       "    embed_document(root);\n",
       "  } else {\n",
       "    let attempts = 0;\n",
       "    const timer = setInterval(function(root) {\n",
       "      if (root.Bokeh !== undefined) {\n",
       "        clearInterval(timer);\n",
       "        embed_document(root);\n",
       "      } else {\n",
       "        attempts++;\n",
       "        if (attempts > 100) {\n",
       "          clearInterval(timer);\n",
       "          console.log(\"Bokeh: ERROR: Unable to run BokehJS code because BokehJS library is missing\");\n",
       "        }\n",
       "      }\n",
       "    }, 10, root)\n",
       "  }\n",
       "})(window);"
      ],
      "application/vnd.bokehjs_exec.v0+json": ""
     },
     "metadata": {
      "application/vnd.bokehjs_exec.v0+json": {
       "id": "p2716"
      }
     },
     "output_type": "display_data"
    },
    {
     "data": {
      "application/vnd.jupyter.widget-view+json": {
       "model_id": "a780e5f958664acf89ce4a72c86e5fe2",
       "version_major": 2,
       "version_minor": 0
      },
      "text/plain": [
       "HTML(value='<hr><h1><span style=\"color: #0f0\">11-38-43 jump - 🟢 valid - score = 457.34 km/h</span></h1>')"
      ]
     },
     "metadata": {},
     "output_type": "display_data"
    },
    {
     "data": {
      "application/vnd.jupyter.widget-view+json": {
       "model_id": "ce38c30acb084f0384a780ac0849dd91",
       "version_major": 2,
       "version_minor": 0
      },
      "text/plain": [
       "HTML(value='<h3>Max speed = 462; exit at 4351 m (14275 ft), end scoring window at 2095 m (6874 ft)')"
      ]
     },
     "metadata": {},
     "output_type": "display_data"
    },
    {
     "data": {
      "application/vnd.jupyter.widget-view+json": {
       "model_id": "3741b5ec61ed4ba0ac2326bb5480cfb0",
       "version_major": 2,
       "version_minor": 0
      },
      "text/plain": [
       "HTML(value='</h3>')"
      ]
     },
     "metadata": {},
     "output_type": "display_data"
    },
    {
     "data": {
      "text/html": [
       "<div>\n",
       "<style scoped>\n",
       "    .dataframe tbody tr th:only-of-type {\n",
       "        vertical-align: middle;\n",
       "    }\n",
       "\n",
       "    .dataframe tbody tr th {\n",
       "        vertical-align: top;\n",
       "    }\n",
       "\n",
       "    .dataframe thead th {\n",
       "        text-align: right;\n",
       "    }\n",
       "</style>\n",
       "<table border=\"1\" class=\"dataframe\">\n",
       "  <thead>\n",
       "    <tr style=\"text-align: right;\">\n",
       "      <th></th>\n",
       "      <th>time</th>\n",
       "      <th>vKMh</th>\n",
       "      <th>hKMh</th>\n",
       "      <th>speedAngle</th>\n",
       "      <th>netVectorKMh</th>\n",
       "      <th>altitude (ft)</th>\n",
       "    </tr>\n",
       "  </thead>\n",
       "  <tbody>\n",
       "    <tr>\n",
       "      <th></th>\n",
       "      <td>5.0</td>\n",
       "      <td>170</td>\n",
       "      <td>51</td>\n",
       "      <td>73.2</td>\n",
       "      <td>178</td>\n",
       "      <td>13864</td>\n",
       "    </tr>\n",
       "    <tr>\n",
       "      <th></th>\n",
       "      <td>10.0</td>\n",
       "      <td>301</td>\n",
       "      <td>36</td>\n",
       "      <td>83.2</td>\n",
       "      <td>303</td>\n",
       "      <td>12760</td>\n",
       "    </tr>\n",
       "    <tr>\n",
       "      <th></th>\n",
       "      <td>15.0</td>\n",
       "      <td>385</td>\n",
       "      <td>42</td>\n",
       "      <td>83.8</td>\n",
       "      <td>387</td>\n",
       "      <td>11160</td>\n",
       "    </tr>\n",
       "    <tr>\n",
       "      <th></th>\n",
       "      <td>20.0</td>\n",
       "      <td>436</td>\n",
       "      <td>46</td>\n",
       "      <td>84.0</td>\n",
       "      <td>438</td>\n",
       "      <td>9309</td>\n",
       "    </tr>\n",
       "    <tr>\n",
       "      <th></th>\n",
       "      <td>25.0</td>\n",
       "      <td>460</td>\n",
       "      <td>16</td>\n",
       "      <td>88.0</td>\n",
       "      <td>460</td>\n",
       "      <td>7251</td>\n",
       "    </tr>\n",
       "  </tbody>\n",
       "</table>\n",
       "</div>"
      ],
      "text/plain": [
       "  time  vKMh  hKMh  speedAngle  netVectorKMh  altitude (ft)\n",
       "   5.0   170    51        73.2           178          13864\n",
       "  10.0   301    36        83.2           303          12760\n",
       "  15.0   385    42        83.8           387          11160\n",
       "  20.0   436    46        84.0           438           9309\n",
       "  25.0   460    16        88.0           460           7251"
      ]
     },
     "metadata": {},
     "output_type": "display_data"
    },
    {
     "data": {
      "text/html": [
       "\n",
       "  <div id=\"fd1a8cfe-c142-494c-9627-0a7fdff321f5\" data-root-id=\"p2857\" style=\"display: contents;\"></div>\n"
      ]
     },
     "metadata": {},
     "output_type": "display_data"
    },
    {
     "data": {
      "application/javascript": [
       "(function(root) {\n",
       "  function embed_document(root) {\n",
       "  const docs_json = {\"61cde4b7-9b8d-4e46-9b31-e5f05a19ec0b\":{\"version\":\"3.4.1\",\"title\":\"Bokeh Application\",\"roots\":[{\"type\":\"object\",\"name\":\"Figure\",\"id\":\"p2857\",\"attributes\":{\"width\":900,\"height\":500,\"x_range\":{\"type\":\"object\",\"name\":\"Range1d\",\"id\":\"p2867\",\"attributes\":{\"end\":35.0}},\"y_range\":{\"type\":\"object\",\"name\":\"Range1d\",\"id\":\"p2868\",\"attributes\":{\"end\":550.0}},\"x_scale\":{\"type\":\"object\",\"name\":\"LinearScale\",\"id\":\"p2869\"},\"y_scale\":{\"type\":\"object\",\"name\":\"LinearScale\",\"id\":\"p2870\"},\"extra_y_ranges\":{\"type\":\"map\",\"entries\":[[\"altitudeFt\",{\"type\":\"object\",\"name\":\"Range1d\",\"id\":\"p2892\",\"attributes\":{\"start\":6414.4303552,\"end\":14775.8959568}}],[\"angle\",{\"type\":\"object\",\"name\":\"Range1d\",\"id\":\"p2893\",\"attributes\":{\"end\":90.0}}]]},\"title\":{\"type\":\"object\",\"name\":\"Title\",\"id\":\"p2860\",\"attributes\":{\"text\":\"11-38-43\",\"text_color\":\"#E0E0E0\",\"text_font\":\"Helvetica\",\"text_font_size\":\"1.15em\"}},\"outline_line_color\":\"#E0E0E0\",\"outline_line_alpha\":0.25,\"renderers\":[{\"type\":\"object\",\"name\":\"GlyphRenderer\",\"id\":\"p2908\",\"attributes\":{\"y_range_name\":\"altitudeFt\",\"data_source\":{\"type\":\"object\",\"name\":\"ColumnDataSource\",\"id\":\"p2902\",\"attributes\":{\"selected\":{\"type\":\"object\",\"name\":\"Selection\",\"id\":\"p2903\",\"attributes\":{\"indices\":[],\"line_indices\":[]}},\"selection_policy\":{\"type\":\"object\",\"name\":\"UnionRenderers\",\"id\":\"p2904\"},\"data\":{\"type\":\"map\",\"entries\":[[\"x\",{\"type\":\"ndarray\",\"array\":{\"type\":\"bytes\",\"data\":\"AAAAAAAAAAAAAAAAmJm5PwAAAACYmck/AAAAADMz0z8AAAAAmZnZPwAAAAAAAOA/AAAAADMz4z8AAAAAZmbmPwAAAICZmek/AAAAgMzM7D8AAAAAAADwPwAAAICZmfE/AAAAADMz8z8AAADAzMz0PwAAAEBmZvY/AAAAAAAA+D8AAACAmZn5PwAAAAAzM/s/AAAAwMzM/D8AAABAZmb+PwAAAAAAAABAAAAAwMzMAEAAAACAmZkBQAAAAGBmZgJAAAAAIDMzA0AAAAAAAAAEQAAAAMDMzARAAAAAYGZmBkAAAAAgMzMHQAAAAMDMzAhAAAAAgJmZCUAAAABgZmYKQAAAACAzMwtAAAAAwMzMDEAAAACAmZkNQAAAAGBmZg5AAAAAIDMzD0AAAAAAAAAQQAAAAMDMzBBAAAAAMDMzEUAAAACQmZkRQAAAAAAAABJAAAAAwMzMEkAAAAAwMzMTQAAAAAAAABRAAAAAYGZmFEAAAADAzMwUQAAAADAzMxVAAAAAkJmZFUAAAABgZmYWQAAAAMDMzBZAAAAAkJmZF0AAAABgZmYYQAAAAMDMzBhAAAAAkJmZGUAAAAAAAAAaQAAAAGBmZhpAAAAAwMzMGkAAAAAwMzMbQAAAAAAAABxAAAAAYGZmHEAAAADAzMwcQAAAADAzMx1AAAAAkJmZHUAAAABgZmYeQAAAAMDMzB5AAAAAMDMzH0AAAACQmZkfQAAAADAzMyBAAAAAYGZmIEAAAACYmZkgQAAAAMjMzCBAAAAAAAAAIUAAAABgZmYhQAAAAJiZmSFAAAAAyMzMIUAAAAAAAAAiQAAAAGBmZiJAAAAAmJmZIkAAAAAAAAAjQAAAADAzMyNAAAAAmJmZI0AAAADIzMwjQAAAAAAAACRAAAAAMDMzJEAAAACYmZkkQAAAAMjMzCRAAAAAAAAAJUAAAAAwMzMlQAAAAGBmZiVAAAAAyMzMJUAAAAAAAAAmQAAAADAzMyZAAAAAYGZmJkAAAACYmZkmQAAAAAAAACdAAAAAYGZmJ0AAAACYmZknQAAAAAAAAChAAAAAMDMzKEAAAABgZmYoQAAAAJiZmShAAAAAyMzMKEAAAAAwMzMpQAAAAJiZmSlAAAAAyMzMKUAAAAAAAAAqQAAAADAzMypAAAAAYGZmKkAAAADIzMwqQAAAAAAAACtAAAAAMDMzK0AAAABgZmYrQAAAAJiZmStAAAAAAAAALEAAAABgZmYsQAAAAJiZmSxAAAAAAAAALUAAAAAwMzMtQAAAAGBmZi1AAAAAmJmZLUAAAADIzMwtQAAAADAzMy5AAAAAYGZmLkAAAACYmZkuQAAAAMjMzC5AAAAAMDMzL0AAAABgZmYvQAAAAMjMzC9AAAAAAAAAMEAAAACYmRkwQAAAADAzMzBAAAAAzMxMMEAAAAAAAIAwQAAAADAzszBAAAAAzMzMMEAAAAAAAAAxQAAAAJiZGTFAAAAAzMxMMUAAAABkZmYxQAAAAAAAgDFAAAAAmJmZMUAAAAAwM7MxQAAAAGRm5jFAAAAAAAAAMkAAAACYmRkyQAAAADAzMzJAAAAAZGZmMkAAAAAAAIAyQAAAADAzszJAAAAAzMzMMkAAAABkZuYyQAAAAJiZGTNAAAAAzMxMM0AAAABkZmYzQAAAAAAAgDNAAAAAmJmZM0AAAADMzMwzQAAAAGRm5jNAAAAAAAAANEAAAACYmRk0QAAAADAzMzRAAAAAZGZmNEAAAAAAAIA0QAAAAJiZmTRAAAAAMDOzNEAAAABkZuY0QAAAAAAAADVAAAAAMDMzNUAAAADMzEw1QAAAAAAAgDVAAAAAmJmZNUAAAADMzMw1QAAAAGRm5jVAAAAAAAAANkAAAACYmRk2QAAAAMzMTDZAAAAAZGZmNkAAAACYmZk2QAAAADAzszZAAAAAzMzMNkAAAABkZuY2QAAAAAAAADdAAAAAMDMzN0AAAADMzEw3QAAAAGRmZjdAAAAAAACAN0AAAAAwM7M3QAAAAMzMzDdAAAAAZGbmN0AAAAAAAAA4QAAAAJiZGThAAAAAzMxMOEAAAABkZmY4QAAAAAAAgDhAAAAAmJmZOEAAAADMzMw4QAAAAGRm5jhAAAAAAAAAOUAAAACYmRk5QAAAADAzMzlAAAAAZGZmOUAAAAAAAIA5QAAAAJiZmTlAAAAAMDOzOUAAAADMzMw5QA==\"},\"shape\":[206],\"dtype\":\"float64\",\"order\":\"little\"}],[\"y\",{\"type\":\"ndarray\",\"array\":{\"type\":\"bytes\",\"data\":\"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\"},\"shape\":[206],\"dtype\":\"float64\",\"order\":\"little\"}]]}}},\"view\":{\"type\":\"object\",\"name\":\"CDSView\",\"id\":\"p2909\",\"attributes\":{\"filter\":{\"type\":\"object\",\"name\":\"AllIndices\",\"id\":\"p2910\"}}},\"glyph\":{\"type\":\"object\",\"name\":\"Line\",\"id\":\"p2905\",\"attributes\":{\"x\":{\"type\":\"field\",\"field\":\"x\"},\"y\":{\"type\":\"field\",\"field\":\"y\"},\"line_color\":\"palegoldenrod\",\"line_width\":2}},\"nonselection_glyph\":{\"type\":\"object\",\"name\":\"Line\",\"id\":\"p2906\",\"attributes\":{\"x\":{\"type\":\"field\",\"field\":\"x\"},\"y\":{\"type\":\"field\",\"field\":\"y\"},\"line_color\":\"palegoldenrod\",\"line_alpha\":0.1,\"line_width\":2}},\"muted_glyph\":{\"type\":\"object\",\"name\":\"Line\",\"id\":\"p2907\",\"attributes\":{\"x\":{\"type\":\"field\",\"field\":\"x\"},\"y\":{\"type\":\"field\",\"field\":\"y\"},\"line_color\":\"palegoldenrod\",\"line_alpha\":0.2,\"line_width\":2}}}},{\"type\":\"object\",\"name\":\"GlyphRenderer\",\"id\":\"p2919\",\"attributes\":{\"y_range_name\":\"angle\",\"data_source\":{\"type\":\"object\",\"name\":\"ColumnDataSource\",\"id\":\"p2913\",\"attributes\":{\"selected\":{\"type\":\"object\",\"name\":\"Selection\",\"id\":\"p2914\",\"attributes\":{\"indices\":[],\"line_indices\":[]}},\"selection_policy\":{\"type\":\"object\",\"name\":\"UnionRenderers\",\"id\":\"p2915\"},\"data\":{\"type\":\"map\",\"entries\":[[\"x\",{\"type\":\"ndarray\",\"array\":{\"type\":\"bytes\",\"data\":\"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\"},\"shape\":[206],\"dtype\":\"float64\",\"order\":\"little\"}],[\"y\",{\"type\":\"ndarray\",\"array\":{\"type\":\"bytes\",\"data\":\"ZmZmZmZmDkAzMzMzMzMZQAAAAAAAAB5AmpmZmZmZIUDNzMzMzMwkQGZmZmZmZihAZmZmZmZmLEDNzMzMzMwvQAAAAAAAgDJAzczMzMzMNECamZmZmRk3QDMzMzMzszhAZmZmZmbmOECamZmZmZk8QGZmZmZm5j9AZmZmZmYmQUDNzMzMzIxCQJqZmZmZmUNAMzMzMzNzREBmZmZmZqZFQJqZmZmZGUdAZmZmZmbmR0BmZmZmZuZIQDMzMzMzc0lAmpmZmZkZSkAzMzMzM/NKQGZmZmZmpktAMzMzMzOzTEBmZmZmZiZNQGZmZmZm5k1AZmZmZmZmTkBmZmZmZuZOQDMzMzMzc09AmpmZmZk5UEDNzMzMzGxQQGZmZmZmplBAZmZmZmbGUEAzMzMzM9NQQGZmZmZmRlFAMzMzMzNzUUBmZmZmZoZRQM3MzMzMrFFAAAAAAAAAUkCamZmZmRlSQM3MzMzMTFJAzczMzMxsUkAAAAAAAIBSQJqZmZmZmVJAMzMzMzOzUkCamZmZmdlSQGZmZmZm5lJAzczMzMwMU0AzMzMzMzNTQAAAAAAAQFNAzczMzMxsU0AAAAAAAIBTQM3MzMzMjFNAAAAAAACgU0AzMzMzM7NTQDMzMzMz01NAAAAAAADgU0BmZmZmZuZTQDMzMzMz81NAmpmZmZn5U0AzMzMzMxNUQJqZmZmZGVRAZmZmZmYmVEDNzMzMzCxUQAAAAAAAQFRAZmZmZmZGVEBmZmZmZkZUQDMzMzMzU1RAAAAAAABgVEBmZmZmZmZUQDMzMzMzc1RAmpmZmZl5VEAAAAAAAIBUQM3MzMzMjFRAMzMzMzOTVEAAAAAAAKBUQGZmZmZmplRAmpmZmZm5VEAAAAAAAMBUQM3MzMzMzFRAzczMzMzMVEAAAAAAAOBUQAAAAAAA4FRAZmZmZmbmVEBmZmZmZuZUQDMzMzMz81RAmpmZmZn5VEAAAAAAAABVQGZmZmZmBlVAZmZmZmYGVUBmZmZmZgZVQM3MzMzMDFVAzczMzMwMVUAzMzMzMxNVQDMzMzMzE1VAzczMzMwMVUDNzMzMzAxVQM3MzMzMDFVAZmZmZmYGVUBmZmZmZgZVQDMzMzMz81RAMzMzMzPzVEDNzMzMzOxUQM3MzMzM7FRAMzMzMzPzVEAAAAAAAABVQAAAAAAAAFVAAAAAAAAAVUAAAAAAAABVQGZmZmZmBlVAZmZmZmYGVUAAAAAAAABVQAAAAAAAAFVAmpmZmZn5VEAzMzMzM/NUQJqZmZmZ+VRAMzMzMzPzVEAzMzMzM/NUQDMzMzMz81RAmpmZmZn5VEAzMzMzM/NUQM3MzMzM7FRAzczMzMzsVEDNzMzMzOxUQGZmZmZm5lRAZmZmZmbmVEAAAAAAAOBUQGZmZmZm5lRAZmZmZmbmVEAzMzMzM/NUQAAAAAAAAFVAZmZmZmYGVUBmZmZmZgZVQGZmZmZmBlVAZmZmZmYGVUCamZmZmflUQAAAAAAAAFVAmpmZmZn5VEAzMzMzM/NUQDMzMzMz81RAzczMzMzsVEDNzMzMzOxUQGZmZmZm5lRAmpmZmZnZVEAzMzMzM9NUQGZmZmZmxlRAzczMzMzMVEBmZmZmZsZUQAAAAAAAwFRAAAAAAADAVEBmZmZmZsZUQGZmZmZmxlRAMzMzMzPTVEBmZmZmZuZUQDMzMzMz81RAAAAAAAAAVUAzMzMzMxNVQDMzMzMzE1VAMzMzMzMzVUDNzMzMzCxVQDMzMzMzM1VAAAAAAABAVUDNzMzMzExVQM3MzMzMTFVAmpmZmZlZVUAAAAAAAGBVQAAAAAAAYFVAZmZmZmZmVUAAAAAAAGBVQJqZmZmZWVVAAAAAAABgVUAAAAAAAGBVQM3MzMzMbFVAmpmZmZl5VUAzMzMzM5NVQGZmZmZmplVAmpmZmZm5VUBmZmZmZsZVQJqZmZmZ2VVAMzMzMzPzVUAAAAAAAABWQGZmZmZmBlZAzczMzMwMVkCamZmZmRlWQJqZmZmZGVZAzczMzMwsVkAzMzMzMzNWQM3MzMzMLFZAZmZmZmYmVkCamZmZmRlWQDMzMzMzE1ZAzczMzMwMVkCamZmZmflVQAAAAAAAAFZAAAAAAAAAVkAAAAAAAABWQGZmZmZmBlZAzczMzMwMVkCamZmZmRlWQAAAAAAAIFZAZmZmZmYmVkBmZmZmZiZWQA==\"},\"shape\":[206],\"dtype\":\"float64\",\"order\":\"little\"}]]}}},\"view\":{\"type\":\"object\",\"name\":\"CDSView\",\"id\":\"p2920\",\"attributes\":{\"filter\":{\"type\":\"object\",\"name\":\"AllIndices\",\"id\":\"p2921\"}}},\"glyph\":{\"type\":\"object\",\"name\":\"Line\",\"id\":\"p2916\",\"attributes\":{\"x\":{\"type\":\"field\",\"field\":\"x\"},\"y\":{\"type\":\"field\",\"field\":\"y\"},\"line_color\":\"deepskyblue\",\"line_width\":2}},\"nonselection_glyph\":{\"type\":\"object\",\"name\":\"Line\",\"id\":\"p2917\",\"attributes\":{\"x\":{\"type\":\"field\",\"field\":\"x\"},\"y\":{\"type\":\"field\",\"field\":\"y\"},\"line_color\":\"deepskyblue\",\"line_alpha\":0.1,\"line_width\":2}},\"muted_glyph\":{\"type\":\"object\",\"name\":\"Line\",\"id\":\"p2918\",\"attributes\":{\"x\":{\"type\":\"field\",\"field\":\"x\"},\"y\":{\"type\":\"field\",\"field\":\"y\"},\"line_color\":\"deepskyblue\",\"line_alpha\":0.2,\"line_width\":2}}}},{\"type\":\"object\",\"name\":\"GlyphRenderer\",\"id\":\"p2930\",\"attributes\":{\"data_source\":{\"type\":\"object\",\"name\":\"ColumnDataSource\",\"id\":\"p2924\",\"attributes\":{\"selected\":{\"type\":\"object\",\"name\":\"Selection\",\"id\":\"p2925\",\"attributes\":{\"indices\":[],\"line_indices\":[]}},\"selection_policy\":{\"type\":\"object\",\"name\":\"UnionRenderers\",\"id\":\"p2926\"},\"data\":{\"type\":\"map\",\"entries\":[[\"x\",{\"type\":\"ndarray\",\"array\":{\"type\":\"bytes\",\"data\":\"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\"},\"shape\":[206],\"dtype\":\"float64\",\"order\":\"little\"}],[\"y\",{\"type\":\"ndarray\",\"array\":{\"type\":\"bytes\",\"data\":\"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\"},\"shape\":[206],\"dtype\":\"float64\",\"order\":\"little\"}]]}}},\"view\":{\"type\":\"object\",\"name\":\"CDSView\",\"id\":\"p2931\",\"attributes\":{\"filter\":{\"type\":\"object\",\"name\":\"AllIndices\",\"id\":\"p2932\"}}},\"glyph\":{\"type\":\"object\",\"name\":\"Line\",\"id\":\"p2927\",\"attributes\":{\"x\":{\"type\":\"field\",\"field\":\"x\"},\"y\":{\"type\":\"field\",\"field\":\"y\"},\"line_color\":\"limegreen\",\"line_width\":2}},\"nonselection_glyph\":{\"type\":\"object\",\"name\":\"Line\",\"id\":\"p2928\",\"attributes\":{\"x\":{\"type\":\"field\",\"field\":\"x\"},\"y\":{\"type\":\"field\",\"field\":\"y\"},\"line_color\":\"limegreen\",\"line_alpha\":0.1,\"line_width\":2}},\"muted_glyph\":{\"type\":\"object\",\"name\":\"Line\",\"id\":\"p2929\",\"attributes\":{\"x\":{\"type\":\"field\",\"field\":\"x\"},\"y\":{\"type\":\"field\",\"field\":\"y\"},\"line_color\":\"limegreen\",\"line_alpha\":0.2,\"line_width\":2}}}},{\"type\":\"object\",\"name\":\"GlyphRenderer\",\"id\":\"p2940\",\"attributes\":{\"data_source\":{\"type\":\"object\",\"name\":\"ColumnDataSource\",\"id\":\"p2934\",\"attributes\":{\"selected\":{\"type\":\"object\",\"name\":\"Selection\",\"id\":\"p2935\",\"attributes\":{\"indices\":[],\"line_indices\":[]}},\"selection_policy\":{\"type\":\"object\",\"name\":\"UnionRenderers\",\"id\":\"p2936\"},\"data\":{\"type\":\"map\",\"entries\":[[\"x\",{\"type\":\"ndarray\",\"array\":{\"type\":\"bytes\",\"data\":\"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\"},\"shape\":[206],\"dtype\":\"float64\",\"order\":\"little\"}],[\"y\",{\"type\":\"ndarray\",\"array\":{\"type\":\"bytes\",\"data\":\"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\"},\"shape\":[206],\"dtype\":\"float64\",\"order\":\"little\"}]]}}},\"view\":{\"type\":\"object\",\"name\":\"CDSView\",\"id\":\"p2941\",\"attributes\":{\"filter\":{\"type\":\"object\",\"name\":\"AllIndices\",\"id\":\"p2942\"}}},\"glyph\":{\"type\":\"object\",\"name\":\"Line\",\"id\":\"p2937\",\"attributes\":{\"x\":{\"type\":\"field\",\"field\":\"x\"},\"y\":{\"type\":\"field\",\"field\":\"y\"},\"line_color\":\"red\",\"line_width\":2}},\"nonselection_glyph\":{\"type\":\"object\",\"name\":\"Line\",\"id\":\"p2938\",\"attributes\":{\"x\":{\"type\":\"field\",\"field\":\"x\"},\"y\":{\"type\":\"field\",\"field\":\"y\"},\"line_color\":\"red\",\"line_alpha\":0.1,\"line_width\":2}},\"muted_glyph\":{\"type\":\"object\",\"name\":\"Line\",\"id\":\"p2939\",\"attributes\":{\"x\":{\"type\":\"field\",\"field\":\"x\"},\"y\":{\"type\":\"field\",\"field\":\"y\"},\"line_color\":\"red\",\"line_alpha\":0.2,\"line_width\":2}}}},{\"type\":\"object\",\"name\":\"GlyphRenderer\",\"id\":\"p2950\",\"attributes\":{\"data_source\":{\"type\":\"object\",\"name\":\"ColumnDataSource\",\"id\":\"p2944\",\"attributes\":{\"selected\":{\"type\":\"object\",\"name\":\"Selection\",\"id\":\"p2945\",\"attributes\":{\"indices\":[],\"line_indices\":[]}},\"selection_policy\":{\"type\":\"object\",\"name\":\"UnionRenderers\",\"id\":\"p2946\"},\"data\":{\"type\":\"map\",\"entries\":[[\"x0\",[22.799999952316284]],[\"y0\",[0.0]],[\"x1\",[22.799999952316284]],[\"y1\",[457.344]]]}}},\"view\":{\"type\":\"object\",\"name\":\"CDSView\",\"id\":\"p2951\",\"attributes\":{\"filter\":{\"type\":\"object\",\"name\":\"AllIndices\",\"id\":\"p2952\"}}},\"glyph\":{\"type\":\"object\",\"name\":\"Segment\",\"id\":\"p2947\",\"attributes\":{\"x0\":{\"type\":\"field\",\"field\":\"x0\"},\"y0\":{\"type\":\"field\",\"field\":\"y0\"},\"x1\":{\"type\":\"field\",\"field\":\"x1\"},\"y1\":{\"type\":\"field\",\"field\":\"y1\"},\"line_color\":{\"type\":\"value\",\"value\":\"lightblue\"},\"line_width\":{\"type\":\"value\",\"value\":3}}},\"nonselection_glyph\":{\"type\":\"object\",\"name\":\"Segment\",\"id\":\"p2948\",\"attributes\":{\"x0\":{\"type\":\"field\",\"field\":\"x0\"},\"y0\":{\"type\":\"field\",\"field\":\"y0\"},\"x1\":{\"type\":\"field\",\"field\":\"x1\"},\"y1\":{\"type\":\"field\",\"field\":\"y1\"},\"line_color\":{\"type\":\"value\",\"value\":\"lightblue\"},\"line_alpha\":{\"type\":\"value\",\"value\":0.1},\"line_width\":{\"type\":\"value\",\"value\":3}}},\"muted_glyph\":{\"type\":\"object\",\"name\":\"Segment\",\"id\":\"p2949\",\"attributes\":{\"x0\":{\"type\":\"field\",\"field\":\"x0\"},\"y0\":{\"type\":\"field\",\"field\":\"y0\"},\"x1\":{\"type\":\"field\",\"field\":\"x1\"},\"y1\":{\"type\":\"field\",\"field\":\"y1\"},\"line_color\":{\"type\":\"value\",\"value\":\"lightblue\"},\"line_alpha\":{\"type\":\"value\",\"value\":0.2},\"line_width\":{\"type\":\"value\",\"value\":3}}}}},{\"type\":\"object\",\"name\":\"GlyphRenderer\",\"id\":\"p2959\",\"attributes\":{\"data_source\":{\"type\":\"object\",\"name\":\"ColumnDataSource\",\"id\":\"p2953\",\"attributes\":{\"selected\":{\"type\":\"object\",\"name\":\"Selection\",\"id\":\"p2954\",\"attributes\":{\"indices\":[],\"line_indices\":[]}},\"selection_policy\":{\"type\":\"object\",\"name\":\"UnionRenderers\",\"id\":\"p2955\"},\"data\":{\"type\":\"map\",\"entries\":[[\"x0\",[24.299999952316284]],[\"y0\",[0.0]],[\"x1\",[24.299999952316284]],[\"y1\",[457.344]]]}}},\"view\":{\"type\":\"object\",\"name\":\"CDSView\",\"id\":\"p2960\",\"attributes\":{\"filter\":{\"type\":\"object\",\"name\":\"AllIndices\",\"id\":\"p2961\"}}},\"glyph\":{\"type\":\"object\",\"name\":\"Segment\",\"id\":\"p2956\",\"attributes\":{\"x0\":{\"type\":\"field\",\"field\":\"x0\"},\"y0\":{\"type\":\"field\",\"field\":\"y0\"},\"x1\":{\"type\":\"field\",\"field\":\"x1\"},\"y1\":{\"type\":\"field\",\"field\":\"y1\"},\"line_color\":{\"type\":\"value\",\"value\":\"darkseagreen\"}}},\"nonselection_glyph\":{\"type\":\"object\",\"name\":\"Segment\",\"id\":\"p2957\",\"attributes\":{\"x0\":{\"type\":\"field\",\"field\":\"x0\"},\"y0\":{\"type\":\"field\",\"field\":\"y0\"},\"x1\":{\"type\":\"field\",\"field\":\"x1\"},\"y1\":{\"type\":\"field\",\"field\":\"y1\"},\"line_color\":{\"type\":\"value\",\"value\":\"darkseagreen\"},\"line_alpha\":{\"type\":\"value\",\"value\":0.1}}},\"muted_glyph\":{\"type\":\"object\",\"name\":\"Segment\",\"id\":\"p2958\",\"attributes\":{\"x0\":{\"type\":\"field\",\"field\":\"x0\"},\"y0\":{\"type\":\"field\",\"field\":\"y0\"},\"x1\":{\"type\":\"field\",\"field\":\"x1\"},\"y1\":{\"type\":\"field\",\"field\":\"y1\"},\"line_color\":{\"type\":\"value\",\"value\":\"darkseagreen\"},\"line_alpha\":{\"type\":\"value\",\"value\":0.2}}}}},{\"type\":\"object\",\"name\":\"GlyphRenderer\",\"id\":\"p2968\",\"attributes\":{\"data_source\":{\"type\":\"object\",\"name\":\"ColumnDataSource\",\"id\":\"p2962\",\"attributes\":{\"selected\":{\"type\":\"object\",\"name\":\"Selection\",\"id\":\"p2963\",\"attributes\":{\"indices\":[],\"line_indices\":[]}},\"selection_policy\":{\"type\":\"object\",\"name\":\"UnionRenderers\",\"id\":\"p2964\"},\"data\":{\"type\":\"map\",\"entries\":[[\"x0\",[21.299999952316284]],[\"y0\",[0.0]],[\"x1\",[21.299999952316284]],[\"y1\",[457.344]]]}}},\"view\":{\"type\":\"object\",\"name\":\"CDSView\",\"id\":\"p2969\",\"attributes\":{\"filter\":{\"type\":\"object\",\"name\":\"AllIndices\",\"id\":\"p2970\"}}},\"glyph\":{\"type\":\"object\",\"name\":\"Segment\",\"id\":\"p2965\",\"attributes\":{\"x0\":{\"type\":\"field\",\"field\":\"x0\"},\"y0\":{\"type\":\"field\",\"field\":\"y0\"},\"x1\":{\"type\":\"field\",\"field\":\"x1\"},\"y1\":{\"type\":\"field\",\"field\":\"y1\"},\"line_color\":{\"type\":\"value\",\"value\":\"darkseagreen\"}}},\"nonselection_glyph\":{\"type\":\"object\",\"name\":\"Segment\",\"id\":\"p2966\",\"attributes\":{\"x0\":{\"type\":\"field\",\"field\":\"x0\"},\"y0\":{\"type\":\"field\",\"field\":\"y0\"},\"x1\":{\"type\":\"field\",\"field\":\"x1\"},\"y1\":{\"type\":\"field\",\"field\":\"y1\"},\"line_color\":{\"type\":\"value\",\"value\":\"darkseagreen\"},\"line_alpha\":{\"type\":\"value\",\"value\":0.1}}},\"muted_glyph\":{\"type\":\"object\",\"name\":\"Segment\",\"id\":\"p2967\",\"attributes\":{\"x0\":{\"type\":\"field\",\"field\":\"x0\"},\"y0\":{\"type\":\"field\",\"field\":\"y0\"},\"x1\":{\"type\":\"field\",\"field\":\"x1\"},\"y1\":{\"type\":\"field\",\"field\":\"y1\"},\"line_color\":{\"type\":\"value\",\"value\":\"darkseagreen\"},\"line_alpha\":{\"type\":\"value\",\"value\":0.2}}}}},{\"type\":\"object\",\"name\":\"GlyphRenderer\",\"id\":\"p2977\",\"attributes\":{\"data_source\":{\"type\":\"object\",\"name\":\"ColumnDataSource\",\"id\":\"p2971\",\"attributes\":{\"selected\":{\"type\":\"object\",\"name\":\"Selection\",\"id\":\"p2972\",\"attributes\":{\"indices\":[],\"line_indices\":[]}},\"selection_policy\":{\"type\":\"object\",\"name\":\"UnionRenderers\",\"id\":\"p2973\"},\"data\":{\"type\":\"map\",\"entries\":[[\"x\",[22.799999952316284]],[\"y\",[457.344]],[\"size\",[20]]]}}},\"view\":{\"type\":\"object\",\"name\":\"CDSView\",\"id\":\"p2978\",\"attributes\":{\"filter\":{\"type\":\"object\",\"name\":\"AllIndices\",\"id\":\"p2979\"}}},\"glyph\":{\"type\":\"object\",\"name\":\"Scatter\",\"id\":\"p2974\",\"attributes\":{\"x\":{\"type\":\"field\",\"field\":\"x\"},\"y\":{\"type\":\"field\",\"field\":\"y\"},\"size\":{\"type\":\"field\",\"field\":\"size\"},\"line_color\":{\"type\":\"value\",\"value\":\"lightblue\"},\"line_width\":{\"type\":\"value\",\"value\":3},\"fill_color\":{\"type\":\"value\",\"value\":null},\"marker\":{\"type\":\"value\",\"value\":\"square_cross\"}}},\"nonselection_glyph\":{\"type\":\"object\",\"name\":\"Scatter\",\"id\":\"p2975\",\"attributes\":{\"x\":{\"type\":\"field\",\"field\":\"x\"},\"y\":{\"type\":\"field\",\"field\":\"y\"},\"size\":{\"type\":\"field\",\"field\":\"size\"},\"line_color\":{\"type\":\"value\",\"value\":\"lightblue\"},\"line_alpha\":{\"type\":\"value\",\"value\":0.1},\"line_width\":{\"type\":\"value\",\"value\":3},\"fill_color\":{\"type\":\"value\",\"value\":null},\"fill_alpha\":{\"type\":\"value\",\"value\":0.1},\"hatch_alpha\":{\"type\":\"value\",\"value\":0.1},\"marker\":{\"type\":\"value\",\"value\":\"square_cross\"}}},\"muted_glyph\":{\"type\":\"object\",\"name\":\"Scatter\",\"id\":\"p2976\",\"attributes\":{\"x\":{\"type\":\"field\",\"field\":\"x\"},\"y\":{\"type\":\"field\",\"field\":\"y\"},\"size\":{\"type\":\"field\",\"field\":\"size\"},\"line_color\":{\"type\":\"value\",\"value\":\"lightblue\"},\"line_alpha\":{\"type\":\"value\",\"value\":0.2},\"line_width\":{\"type\":\"value\",\"value\":3},\"fill_color\":{\"type\":\"value\",\"value\":null},\"fill_alpha\":{\"type\":\"value\",\"value\":0.2},\"hatch_alpha\":{\"type\":\"value\",\"value\":0.2},\"marker\":{\"type\":\"value\",\"value\":\"square_cross\"}}}}}],\"toolbar\":{\"type\":\"object\",\"name\":\"Toolbar\",\"id\":\"p2866\",\"attributes\":{\"tools\":[{\"type\":\"object\",\"name\":\"PanTool\",\"id\":\"p2881\"},{\"type\":\"object\",\"name\":\"WheelZoomTool\",\"id\":\"p2882\",\"attributes\":{\"renderers\":\"auto\"}},{\"type\":\"object\",\"name\":\"BoxZoomTool\",\"id\":\"p2883\",\"attributes\":{\"overlay\":{\"type\":\"object\",\"name\":\"BoxAnnotation\",\"id\":\"p2884\",\"attributes\":{\"syncable\":false,\"level\":\"overlay\",\"visible\":false,\"left\":{\"type\":\"number\",\"value\":\"nan\"},\"right\":{\"type\":\"number\",\"value\":\"nan\"},\"top\":{\"type\":\"number\",\"value\":\"nan\"},\"bottom\":{\"type\":\"number\",\"value\":\"nan\"},\"left_units\":\"canvas\",\"right_units\":\"canvas\",\"top_units\":\"canvas\",\"bottom_units\":\"canvas\",\"line_color\":\"black\",\"line_alpha\":1.0,\"line_width\":2,\"line_dash\":[4,4],\"fill_color\":\"lightgrey\",\"fill_alpha\":0.5}}}},{\"type\":\"object\",\"name\":\"SaveTool\",\"id\":\"p2889\"},{\"type\":\"object\",\"name\":\"ResetTool\",\"id\":\"p2890\"},{\"type\":\"object\",\"name\":\"HelpTool\",\"id\":\"p2891\"},{\"type\":\"object\",\"name\":\"HoverTool\",\"id\":\"p2923\",\"attributes\":{\"renderers\":\"auto\",\"tooltips\":[[\"Y-val\",\"@y{0.00}\"]]}}]}},\"left\":[{\"type\":\"object\",\"name\":\"LinearAxis\",\"id\":\"p2876\",\"attributes\":{\"ticker\":{\"type\":\"object\",\"name\":\"BasicTicker\",\"id\":\"p2877\",\"attributes\":{\"mantissas\":[1,2,5]}},\"formatter\":{\"type\":\"object\",\"name\":\"BasicTickFormatter\",\"id\":\"p2878\"},\"axis_label\":\"km/h\",\"axis_label_standoff\":10,\"axis_label_text_color\":\"#E0E0E0\",\"axis_label_text_font\":\"Helvetica\",\"axis_label_text_font_size\":\"1.25em\",\"axis_label_text_font_style\":\"normal\",\"major_label_policy\":{\"type\":\"object\",\"name\":\"AllLabels\",\"id\":\"p2879\"},\"major_label_text_color\":\"#E0E0E0\",\"major_label_text_font\":\"Helvetica\",\"major_label_text_font_size\":\"1.025em\",\"axis_line_color\":\"#E0E0E0\",\"axis_line_alpha\":0,\"major_tick_line_color\":\"#E0E0E0\",\"major_tick_line_alpha\":0,\"minor_tick_line_color\":\"#E0E0E0\",\"minor_tick_line_alpha\":0}},{\"type\":\"object\",\"name\":\"LinearAxis\",\"id\":\"p2894\",\"attributes\":{\"y_range_name\":\"altitudeFt\",\"ticker\":{\"type\":\"object\",\"name\":\"BasicTicker\",\"id\":\"p2895\",\"attributes\":{\"mantissas\":[1,2,5]}},\"formatter\":{\"type\":\"object\",\"name\":\"BasicTickFormatter\",\"id\":\"p2896\"},\"axis_label\":\"Alt (ft)\",\"axis_label_standoff\":10,\"axis_label_text_color\":\"#E0E0E0\",\"axis_label_text_font\":\"Helvetica\",\"axis_label_text_font_size\":\"1.25em\",\"axis_label_text_font_style\":\"normal\",\"major_label_policy\":{\"type\":\"object\",\"name\":\"AllLabels\",\"id\":\"p2897\"},\"major_label_text_color\":\"#E0E0E0\",\"major_label_text_font\":\"Helvetica\",\"major_label_text_font_size\":\"1.025em\",\"axis_line_color\":\"#E0E0E0\",\"axis_line_alpha\":0,\"major_tick_line_color\":\"#E0E0E0\",\"major_tick_line_alpha\":0,\"minor_tick_line_color\":\"#E0E0E0\",\"minor_tick_line_alpha\":0}},{\"type\":\"object\",\"name\":\"LinearAxis\",\"id\":\"p2898\",\"attributes\":{\"y_range_name\":\"angle\",\"ticker\":{\"type\":\"object\",\"name\":\"BasicTicker\",\"id\":\"p2899\",\"attributes\":{\"mantissas\":[1,2,5]}},\"formatter\":{\"type\":\"object\",\"name\":\"BasicTickFormatter\",\"id\":\"p2900\"},\"axis_label\":\"angle\",\"axis_label_standoff\":10,\"axis_label_text_color\":\"#E0E0E0\",\"axis_label_text_font\":\"Helvetica\",\"axis_label_text_font_size\":\"1.25em\",\"axis_label_text_font_style\":\"normal\",\"major_label_policy\":{\"type\":\"object\",\"name\":\"AllLabels\",\"id\":\"p2901\"},\"major_label_text_color\":\"#E0E0E0\",\"major_label_text_font\":\"Helvetica\",\"major_label_text_font_size\":\"1.025em\",\"axis_line_color\":\"#E0E0E0\",\"axis_line_alpha\":0,\"major_tick_line_color\":\"#E0E0E0\",\"major_tick_line_alpha\":0,\"minor_tick_line_color\":\"#E0E0E0\",\"minor_tick_line_alpha\":0}}],\"below\":[{\"type\":\"object\",\"name\":\"LinearAxis\",\"id\":\"p2871\",\"attributes\":{\"ticker\":{\"type\":\"object\",\"name\":\"BasicTicker\",\"id\":\"p2872\",\"attributes\":{\"mantissas\":[1,2,5]}},\"formatter\":{\"type\":\"object\",\"name\":\"BasicTickFormatter\",\"id\":\"p2873\"},\"axis_label\":\"seconds from exit\",\"axis_label_standoff\":10,\"axis_label_text_color\":\"#E0E0E0\",\"axis_label_text_font\":\"Helvetica\",\"axis_label_text_font_size\":\"1.25em\",\"axis_label_text_font_style\":\"normal\",\"major_label_policy\":{\"type\":\"object\",\"name\":\"AllLabels\",\"id\":\"p2874\"},\"major_label_text_color\":\"#E0E0E0\",\"major_label_text_font\":\"Helvetica\",\"major_label_text_font_size\":\"1.025em\",\"axis_line_color\":\"#E0E0E0\",\"axis_line_alpha\":0,\"major_tick_line_color\":\"#E0E0E0\",\"major_tick_line_alpha\":0,\"minor_tick_line_color\":\"#E0E0E0\",\"minor_tick_line_alpha\":0}}],\"center\":[{\"type\":\"object\",\"name\":\"Grid\",\"id\":\"p2875\",\"attributes\":{\"axis\":{\"id\":\"p2871\"},\"grid_line_color\":\"#E0E0E0\",\"grid_line_alpha\":0.25}},{\"type\":\"object\",\"name\":\"Grid\",\"id\":\"p2880\",\"attributes\":{\"dimension\":1,\"axis\":{\"id\":\"p2876\"},\"grid_line_color\":\"#E0E0E0\",\"grid_line_alpha\":0.25}},{\"type\":\"object\",\"name\":\"Legend\",\"id\":\"p2911\",\"attributes\":{\"border_line_alpha\":0,\"background_fill_color\":\"#20262B\",\"background_fill_alpha\":0.25,\"label_text_color\":\"#E0E0E0\",\"label_text_font\":\"Helvetica\",\"label_text_font_size\":\"1.025em\",\"label_standoff\":8,\"glyph_width\":15,\"spacing\":8,\"items\":[{\"type\":\"object\",\"name\":\"LegendItem\",\"id\":\"p2912\",\"attributes\":{\"label\":{\"type\":\"value\",\"value\":\"Alt (ft)\"},\"renderers\":[{\"id\":\"p2908\"}]}},{\"type\":\"object\",\"name\":\"LegendItem\",\"id\":\"p2922\",\"attributes\":{\"label\":{\"type\":\"value\",\"value\":\"angle\"},\"renderers\":[{\"id\":\"p2919\"}]}},{\"type\":\"object\",\"name\":\"LegendItem\",\"id\":\"p2933\",\"attributes\":{\"label\":{\"type\":\"value\",\"value\":\"speed\"},\"renderers\":[{\"id\":\"p2930\"}]}},{\"type\":\"object\",\"name\":\"LegendItem\",\"id\":\"p2943\",\"attributes\":{\"label\":{\"type\":\"value\",\"value\":\"H-speed\"},\"renderers\":[{\"id\":\"p2940\"}]}}]}}],\"background_fill_color\":\"#20262B\",\"border_fill_color\":\"#15191C\"}}]}};\n",
       "  const render_items = [{\"docid\":\"61cde4b7-9b8d-4e46-9b31-e5f05a19ec0b\",\"roots\":{\"p2857\":\"fd1a8cfe-c142-494c-9627-0a7fdff321f5\"},\"root_ids\":[\"p2857\"]}];\n",
       "  void root.Bokeh.embed.embed_items_notebook(docs_json, render_items);\n",
       "  }\n",
       "  if (root.Bokeh !== undefined) {\n",
       "    embed_document(root);\n",
       "  } else {\n",
       "    let attempts = 0;\n",
       "    const timer = setInterval(function(root) {\n",
       "      if (root.Bokeh !== undefined) {\n",
       "        clearInterval(timer);\n",
       "        embed_document(root);\n",
       "      } else {\n",
       "        attempts++;\n",
       "        if (attempts > 100) {\n",
       "          clearInterval(timer);\n",
       "          console.log(\"Bokeh: ERROR: Unable to run BokehJS code because BokehJS library is missing\");\n",
       "        }\n",
       "      }\n",
       "    }, 10, root)\n",
       "  }\n",
       "})(window);"
      ],
      "application/vnd.bokehjs_exec.v0+json": ""
     },
     "metadata": {
      "application/vnd.bokehjs_exec.v0+json": {
       "id": "p2857"
      }
     },
     "output_type": "display_data"
    },
    {
     "data": {
      "application/vnd.jupyter.widget-view+json": {
       "model_id": "39b6abdaea1d4676a0aac0f13d1c8f89",
       "version_major": 2,
       "version_minor": 0
      },
      "text/plain": [
       "HTML(value='<hr><h1><span style=\"color: #0f0\">12-55-39 jump - 🟢 valid - score = 472.45 km/h</span></h1>')"
      ]
     },
     "metadata": {},
     "output_type": "display_data"
    },
    {
     "data": {
      "application/vnd.jupyter.widget-view+json": {
       "model_id": "a3f46669b3fc42738e674b2c757f2661",
       "version_major": 2,
       "version_minor": 0
      },
      "text/plain": [
       "HTML(value='<h3>Max speed = 477; exit at 4244 m (13925 ft), end scoring window at 1988 m (6523 ft)')"
      ]
     },
     "metadata": {},
     "output_type": "display_data"
    },
    {
     "data": {
      "application/vnd.jupyter.widget-view+json": {
       "model_id": "311e50acda5242d18f90565715b79e0d",
       "version_major": 2,
       "version_minor": 0
      },
      "text/plain": [
       "HTML(value='</h3>')"
      ]
     },
     "metadata": {},
     "output_type": "display_data"
    },
    {
     "data": {
      "text/html": [
       "<div>\n",
       "<style scoped>\n",
       "    .dataframe tbody tr th:only-of-type {\n",
       "        vertical-align: middle;\n",
       "    }\n",
       "\n",
       "    .dataframe tbody tr th {\n",
       "        vertical-align: top;\n",
       "    }\n",
       "\n",
       "    .dataframe thead th {\n",
       "        text-align: right;\n",
       "    }\n",
       "</style>\n",
       "<table border=\"1\" class=\"dataframe\">\n",
       "  <thead>\n",
       "    <tr style=\"text-align: right;\">\n",
       "      <th></th>\n",
       "      <th>time</th>\n",
       "      <th>vKMh</th>\n",
       "      <th>hKMh</th>\n",
       "      <th>speedAngle</th>\n",
       "      <th>netVectorKMh</th>\n",
       "      <th>altitude (ft)</th>\n",
       "    </tr>\n",
       "  </thead>\n",
       "  <tbody>\n",
       "    <tr>\n",
       "      <th></th>\n",
       "      <td>5.0</td>\n",
       "      <td>177</td>\n",
       "      <td>78</td>\n",
       "      <td>66.2</td>\n",
       "      <td>193</td>\n",
       "      <td>13498</td>\n",
       "    </tr>\n",
       "    <tr>\n",
       "      <th></th>\n",
       "      <td>10.0</td>\n",
       "      <td>296</td>\n",
       "      <td>68</td>\n",
       "      <td>77.0</td>\n",
       "      <td>303</td>\n",
       "      <td>12406</td>\n",
       "    </tr>\n",
       "    <tr>\n",
       "      <th></th>\n",
       "      <td>15.0</td>\n",
       "      <td>398</td>\n",
       "      <td>78</td>\n",
       "      <td>78.8</td>\n",
       "      <td>406</td>\n",
       "      <td>10814</td>\n",
       "    </tr>\n",
       "    <tr>\n",
       "      <th></th>\n",
       "      <td>20.0</td>\n",
       "      <td>457</td>\n",
       "      <td>49</td>\n",
       "      <td>83.9</td>\n",
       "      <td>460</td>\n",
       "      <td>8846</td>\n",
       "    </tr>\n",
       "    <tr>\n",
       "      <th></th>\n",
       "      <td>25.0</td>\n",
       "      <td>475</td>\n",
       "      <td>32</td>\n",
       "      <td>86.1</td>\n",
       "      <td>476</td>\n",
       "      <td>6709</td>\n",
       "    </tr>\n",
       "  </tbody>\n",
       "</table>\n",
       "</div>"
      ],
      "text/plain": [
       "  time  vKMh  hKMh  speedAngle  netVectorKMh  altitude (ft)\n",
       "   5.0   177    78        66.2           193          13498\n",
       "  10.0   296    68        77.0           303          12406\n",
       "  15.0   398    78        78.8           406          10814\n",
       "  20.0   457    49        83.9           460           8846\n",
       "  25.0   475    32        86.1           476           6709"
      ]
     },
     "metadata": {},
     "output_type": "display_data"
    },
    {
     "data": {
      "text/html": [
       "\n",
       "  <div id=\"beec38f5-7d8f-425f-8c2a-b1fae0177d08\" data-root-id=\"p2998\" style=\"display: contents;\"></div>\n"
      ]
     },
     "metadata": {},
     "output_type": "display_data"
    },
    {
     "data": {
      "application/javascript": [
       "(function(root) {\n",
       "  function embed_document(root) {\n",
       "  const docs_json = {\"27bcdca6-93e0-42fe-84ee-e5f8de01454a\":{\"version\":\"3.4.1\",\"title\":\"Bokeh Application\",\"roots\":[{\"type\":\"object\",\"name\":\"Figure\",\"id\":\"p2998\",\"attributes\":{\"width\":900,\"height\":500,\"x_range\":{\"type\":\"object\",\"name\":\"Range1d\",\"id\":\"p3008\",\"attributes\":{\"end\":35.0}},\"y_range\":{\"type\":\"object\",\"name\":\"Range1d\",\"id\":\"p3009\",\"attributes\":{\"end\":550.0}},\"x_scale\":{\"type\":\"object\",\"name\":\"LinearScale\",\"id\":\"p3010\"},\"y_scale\":{\"type\":\"object\",\"name\":\"LinearScale\",\"id\":\"p3011\"},\"extra_y_ranges\":{\"type\":\"map\",\"entries\":[[\"altitudeFt\",{\"type\":\"object\",\"name\":\"Range1d\",\"id\":\"p3033\",\"attributes\":{\"start\":6035.7341728,\"end\":14425.3785656}}],[\"angle\",{\"type\":\"object\",\"name\":\"Range1d\",\"id\":\"p3034\",\"attributes\":{\"end\":90.0}}]]},\"title\":{\"type\":\"object\",\"name\":\"Title\",\"id\":\"p3001\",\"attributes\":{\"text\":\"12-55-39\",\"text_color\":\"#E0E0E0\",\"text_font\":\"Helvetica\",\"text_font_size\":\"1.15em\"}},\"outline_line_color\":\"#E0E0E0\",\"outline_line_alpha\":0.25,\"renderers\":[{\"type\":\"object\",\"name\":\"GlyphRenderer\",\"id\":\"p3049\",\"attributes\":{\"y_range_name\":\"altitudeFt\",\"data_source\":{\"type\":\"object\",\"name\":\"ColumnDataSource\",\"id\":\"p3043\",\"attributes\":{\"selected\":{\"type\":\"object\",\"name\":\"Selection\",\"id\":\"p3044\",\"attributes\":{\"indices\":[],\"line_indices\":[]}},\"selection_policy\":{\"type\":\"object\",\"name\":\"UnionRenderers\",\"id\":\"p3045\"},\"data\":{\"type\":\"map\",\"entries\":[[\"x\",{\"type\":\"ndarray\",\"array\":{\"type\":\"bytes\",\"data\":\"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\"},\"shape\":[206],\"dtype\":\"float64\",\"order\":\"little\"}],[\"y\",{\"type\":\"ndarray\",\"array\":{\"type\":\"bytes\",\"data\":\"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\"},\"shape\":[206],\"dtype\":\"float64\",\"order\":\"little\"}]]}}},\"view\":{\"type\":\"object\",\"name\":\"CDSView\",\"id\":\"p3050\",\"attributes\":{\"filter\":{\"type\":\"object\",\"name\":\"AllIndices\",\"id\":\"p3051\"}}},\"glyph\":{\"type\":\"object\",\"name\":\"Line\",\"id\":\"p3046\",\"attributes\":{\"x\":{\"type\":\"field\",\"field\":\"x\"},\"y\":{\"type\":\"field\",\"field\":\"y\"},\"line_color\":\"palegoldenrod\",\"line_width\":2}},\"nonselection_glyph\":{\"type\":\"object\",\"name\":\"Line\",\"id\":\"p3047\",\"attributes\":{\"x\":{\"type\":\"field\",\"field\":\"x\"},\"y\":{\"type\":\"field\",\"field\":\"y\"},\"line_color\":\"palegoldenrod\",\"line_alpha\":0.1,\"line_width\":2}},\"muted_glyph\":{\"type\":\"object\",\"name\":\"Line\",\"id\":\"p3048\",\"attributes\":{\"x\":{\"type\":\"field\",\"field\":\"x\"},\"y\":{\"type\":\"field\",\"field\":\"y\"},\"line_color\":\"palegoldenrod\",\"line_alpha\":0.2,\"line_width\":2}}}},{\"type\":\"object\",\"name\":\"GlyphRenderer\",\"id\":\"p3060\",\"attributes\":{\"y_range_name\":\"angle\",\"data_source\":{\"type\":\"object\",\"name\":\"ColumnDataSource\",\"id\":\"p3054\",\"attributes\":{\"selected\":{\"type\":\"object\",\"name\":\"Selection\",\"id\":\"p3055\",\"attributes\":{\"indices\":[],\"line_indices\":[]}},\"selection_policy\":{\"type\":\"object\",\"name\":\"UnionRenderers\",\"id\":\"p3056\"},\"data\":{\"type\":\"map\",\"entries\":[[\"x\",{\"type\":\"ndarray\",\"array\":{\"type\":\"bytes\",\"data\":\"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\"},\"shape\":[206],\"dtype\":\"float64\",\"order\":\"little\"}],[\"y\",{\"type\":\"ndarray\",\"array\":{\"type\":\"bytes\",\"data\":\"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\"},\"shape\":[206],\"dtype\":\"float64\",\"order\":\"little\"}]]}}},\"view\":{\"type\":\"object\",\"name\":\"CDSView\",\"id\":\"p3061\",\"attributes\":{\"filter\":{\"type\":\"object\",\"name\":\"AllIndices\",\"id\":\"p3062\"}}},\"glyph\":{\"type\":\"object\",\"name\":\"Line\",\"id\":\"p3057\",\"attributes\":{\"x\":{\"type\":\"field\",\"field\":\"x\"},\"y\":{\"type\":\"field\",\"field\":\"y\"},\"line_color\":\"deepskyblue\",\"line_width\":2}},\"nonselection_glyph\":{\"type\":\"object\",\"name\":\"Line\",\"id\":\"p3058\",\"attributes\":{\"x\":{\"type\":\"field\",\"field\":\"x\"},\"y\":{\"type\":\"field\",\"field\":\"y\"},\"line_color\":\"deepskyblue\",\"line_alpha\":0.1,\"line_width\":2}},\"muted_glyph\":{\"type\":\"object\",\"name\":\"Line\",\"id\":\"p3059\",\"attributes\":{\"x\":{\"type\":\"field\",\"field\":\"x\"},\"y\":{\"type\":\"field\",\"field\":\"y\"},\"line_color\":\"deepskyblue\",\"line_alpha\":0.2,\"line_width\":2}}}},{\"type\":\"object\",\"name\":\"GlyphRenderer\",\"id\":\"p3071\",\"attributes\":{\"data_source\":{\"type\":\"object\",\"name\":\"ColumnDataSource\",\"id\":\"p3065\",\"attributes\":{\"selected\":{\"type\":\"object\",\"name\":\"Selection\",\"id\":\"p3066\",\"attributes\":{\"indices\":[],\"line_indices\":[]}},\"selection_policy\":{\"type\":\"object\",\"name\":\"UnionRenderers\",\"id\":\"p3067\"},\"data\":{\"type\":\"map\",\"entries\":[[\"x\",{\"type\":\"ndarray\",\"array\":{\"type\":\"bytes\",\"data\":\"AAAAAAAAAAAAAAAAnJm5PwAAAACamck/AAAAADMz0z8AAAAAmpnZPwAAAAAAAOA/AAAAgDMz4z8AAACAZmbmPwAAAICZmek/AAAAAM3M7D8AAAAAAADwPwAAAMCZmfE/AAAAQDMz8z8AAADAzMz0PwAAAIBmZvY/AAAAAAAA+D8AAADAmZn5PwAAAEAzM/s/AAAAwMzM/D8AAACAZmb+PwAAAAAAAABAAAAA4MzMAEAAAACgmZkBQAAAAGBmZgJAAAAAQDMzA0AAAAAAAAAEQAAAAODMzARAAAAAoJmZBUAAAABgZmYGQAAAAEAzMwdAAAAAAAAACEAAAADgzMwIQAAAAGBmZgpAAAAAQDMzC0AAAAAAAAAMQAAAAODMzAxAAAAAYGZmDkAAAABAMzMPQAAAAAAAABBAAAAAcGZmEEAAAADQzMwQQAAAAKCZmRFAAAAAAAAAEkAAAABwZmYSQAAAANDMzBJAAAAAoJmZE0AAAAAAAAAUQAAAANDMzBRAAAAAMDMzFUAAAACgmZkVQAAAAAAAABZAAAAAcGZmFkAAAAAwMzMXQAAAAKCZmRdAAAAAcGZmGEAAAADQzMwYQAAAADAzMxlAAAAAoJmZGUAAAABwZmYaQAAAANDMzBpAAAAAMDMzG0AAAACgmZkbQAAAAAAAABxAAAAA0MzMHEAAAAAwMzMdQAAAAKCZmR1AAAAAAAAAHkAAAADQzMweQAAAADAzMx9AAAAAAAAAIEAAAAA4MzMgQAAAAGhmZiBAAAAAmJmZIEAAAADQzMwgQAAAADgzMyFAAAAAaGZmIUAAAACYmZkhQAAAADgzMyJAAAAAaGZmIkAAAACYmZkiQAAAANDMzCJAAAAAAAAAI0AAAABoZmYjQAAAAJiZmSNAAAAA0MzMI0AAAAAAAAAkQAAAAGhmZiRAAAAAmJmZJEAAAADQzMwkQAAAAAAAACVAAAAAODMzJUAAAACYmZklQAAAANDMzCVAAAAAAAAAJkAAAAA4MzMmQAAAAGhmZiZAAAAA0MzMJkAAAAAAAAAnQAAAADgzMydAAAAAaGZmJ0AAAADQzMwnQAAAAAAAAChAAAAAODMzKEAAAABoZmYoQAAAAJiZmShAAAAAAAAAKUAAAABoZmYpQAAAAJiZmSlAAAAAAAAAKkAAAAA4MzMqQAAAAGhmZipAAAAAmJmZKkAAAADQzMwqQAAAADgzMytAAAAAaGZmK0AAAACYmZkrQAAAANDMzCtAAAAAODMzLEAAAABoZmYsQAAAAJiZmSxAAAAA0MzMLEAAAAAAAAAtQAAAAGhmZi1AAAAAmJmZLUAAAADQzMwtQAAAAAAAAC5AAAAAaGZmLkAAAACYmZkuQAAAAAAAAC9AAAAAODMzL0AAAABoZmYvQAAAAJiZmS9AAAAA0MzML0AAAACcmRkwQAAAADQzMzBAAAAAaGZmMEAAAAAAAIAwQAAAAJyZmTBAAAAANDOzMEAAAABoZuYwQAAAAAAAADFAAAAANDMzMUAAAADMzEwxQAAAAGhmZjFAAAAAAACAMUAAAACcmZkxQAAAAMzMzDFAAAAAaGbmMUAAAAAAAAAyQAAAAJyZGTJAAAAAzMxMMkAAAABoZmYyQAAAAJyZmTJAAAAANDOzMkAAAABoZuYyQAAAAAAAADNAAAAAnJkZM0AAAAA0MzMzQAAAAMzMTDNAAAAAAACAM0AAAACcmZkzQAAAADQzszNAAAAAzMzMM0AAAAAAAAA0QAAAAJyZGTRAAAAAzMxMNEAAAABoZmY0QAAAAJyZmTRAAAAANDOzNEAAAADMzMw0QAAAAGhm5jRAAAAAnJkZNUAAAAA0MzM1QAAAAMzMTDVAAAAAaGZmNUAAAAAAAIA1QAAAADQzszVAAAAAzMzMNUAAAABoZuY1QAAAAAAAADZAAAAANDMzNkAAAADMzEw2QAAAAAAAgDZAAAAAnJmZNkAAAAA0M7M2QAAAAMzMzDZAAAAAaGbmNkAAAACcmRk3QAAAADQzMzdAAAAAzMxMN0AAAABoZmY3QAAAAJyZmTdAAAAANDOzN0AAAABoZuY3QAAAAAAAADhAAAAAnJkZOEAAAAA0MzM4QAAAAMzMTDhAAAAAAACAOEAAAACcmZk4QAAAADQzszhAAAAAAAAAOUAAAACcmRk5QAAAADQzMzlAAAAAzMxMOUAAAABoZmY5QA==\"},\"shape\":[206],\"dtype\":\"float64\",\"order\":\"little\"}],[\"y\",{\"type\":\"ndarray\",\"array\":{\"type\":\"bytes\",\"data\":\"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\"},\"shape\":[206],\"dtype\":\"float64\",\"order\":\"little\"}]]}}},\"view\":{\"type\":\"object\",\"name\":\"CDSView\",\"id\":\"p3072\",\"attributes\":{\"filter\":{\"type\":\"object\",\"name\":\"AllIndices\",\"id\":\"p3073\"}}},\"glyph\":{\"type\":\"object\",\"name\":\"Line\",\"id\":\"p3068\",\"attributes\":{\"x\":{\"type\":\"field\",\"field\":\"x\"},\"y\":{\"type\":\"field\",\"field\":\"y\"},\"line_color\":\"limegreen\",\"line_width\":2}},\"nonselection_glyph\":{\"type\":\"object\",\"name\":\"Line\",\"id\":\"p3069\",\"attributes\":{\"x\":{\"type\":\"field\",\"field\":\"x\"},\"y\":{\"type\":\"field\",\"field\":\"y\"},\"line_color\":\"limegreen\",\"line_alpha\":0.1,\"line_width\":2}},\"muted_glyph\":{\"type\":\"object\",\"name\":\"Line\",\"id\":\"p3070\",\"attributes\":{\"x\":{\"type\":\"field\",\"field\":\"x\"},\"y\":{\"type\":\"field\",\"field\":\"y\"},\"line_color\":\"limegreen\",\"line_alpha\":0.2,\"line_width\":2}}}},{\"type\":\"object\",\"name\":\"GlyphRenderer\",\"id\":\"p3081\",\"attributes\":{\"data_source\":{\"type\":\"object\",\"name\":\"ColumnDataSource\",\"id\":\"p3075\",\"attributes\":{\"selected\":{\"type\":\"object\",\"name\":\"Selection\",\"id\":\"p3076\",\"attributes\":{\"indices\":[],\"line_indices\":[]}},\"selection_policy\":{\"type\":\"object\",\"name\":\"UnionRenderers\",\"id\":\"p3077\"},\"data\":{\"type\":\"map\",\"entries\":[[\"x\",{\"type\":\"ndarray\",\"array\":{\"type\":\"bytes\",\"data\":\"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\"},\"shape\":[206],\"dtype\":\"float64\",\"order\":\"little\"}],[\"y\",{\"type\":\"ndarray\",\"array\":{\"type\":\"bytes\",\"data\":\"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\"},\"shape\":[206],\"dtype\":\"float64\",\"order\":\"little\"}]]}}},\"view\":{\"type\":\"object\",\"name\":\"CDSView\",\"id\":\"p3082\",\"attributes\":{\"filter\":{\"type\":\"object\",\"name\":\"AllIndices\",\"id\":\"p3083\"}}},\"glyph\":{\"type\":\"object\",\"name\":\"Line\",\"id\":\"p3078\",\"attributes\":{\"x\":{\"type\":\"field\",\"field\":\"x\"},\"y\":{\"type\":\"field\",\"field\":\"y\"},\"line_color\":\"red\",\"line_width\":2}},\"nonselection_glyph\":{\"type\":\"object\",\"name\":\"Line\",\"id\":\"p3079\",\"attributes\":{\"x\":{\"type\":\"field\",\"field\":\"x\"},\"y\":{\"type\":\"field\",\"field\":\"y\"},\"line_color\":\"red\",\"line_alpha\":0.1,\"line_width\":2}},\"muted_glyph\":{\"type\":\"object\",\"name\":\"Line\",\"id\":\"p3080\",\"attributes\":{\"x\":{\"type\":\"field\",\"field\":\"x\"},\"y\":{\"type\":\"field\",\"field\":\"y\"},\"line_color\":\"red\",\"line_alpha\":0.2,\"line_width\":2}}}},{\"type\":\"object\",\"name\":\"GlyphRenderer\",\"id\":\"p3091\",\"attributes\":{\"data_source\":{\"type\":\"object\",\"name\":\"ColumnDataSource\",\"id\":\"p3085\",\"attributes\":{\"selected\":{\"type\":\"object\",\"name\":\"Selection\",\"id\":\"p3086\",\"attributes\":{\"indices\":[],\"line_indices\":[]}},\"selection_policy\":{\"type\":\"object\",\"name\":\"UnionRenderers\",\"id\":\"p3087\"},\"data\":{\"type\":\"map\",\"entries\":[[\"x0\",[22.299999952316284]],[\"y0\",[0.0]],[\"x1\",[22.299999952316284]],[\"y1\",[472.446]]]}}},\"view\":{\"type\":\"object\",\"name\":\"CDSView\",\"id\":\"p3092\",\"attributes\":{\"filter\":{\"type\":\"object\",\"name\":\"AllIndices\",\"id\":\"p3093\"}}},\"glyph\":{\"type\":\"object\",\"name\":\"Segment\",\"id\":\"p3088\",\"attributes\":{\"x0\":{\"type\":\"field\",\"field\":\"x0\"},\"y0\":{\"type\":\"field\",\"field\":\"y0\"},\"x1\":{\"type\":\"field\",\"field\":\"x1\"},\"y1\":{\"type\":\"field\",\"field\":\"y1\"},\"line_color\":{\"type\":\"value\",\"value\":\"lightblue\"},\"line_width\":{\"type\":\"value\",\"value\":3}}},\"nonselection_glyph\":{\"type\":\"object\",\"name\":\"Segment\",\"id\":\"p3089\",\"attributes\":{\"x0\":{\"type\":\"field\",\"field\":\"x0\"},\"y0\":{\"type\":\"field\",\"field\":\"y0\"},\"x1\":{\"type\":\"field\",\"field\":\"x1\"},\"y1\":{\"type\":\"field\",\"field\":\"y1\"},\"line_color\":{\"type\":\"value\",\"value\":\"lightblue\"},\"line_alpha\":{\"type\":\"value\",\"value\":0.1},\"line_width\":{\"type\":\"value\",\"value\":3}}},\"muted_glyph\":{\"type\":\"object\",\"name\":\"Segment\",\"id\":\"p3090\",\"attributes\":{\"x0\":{\"type\":\"field\",\"field\":\"x0\"},\"y0\":{\"type\":\"field\",\"field\":\"y0\"},\"x1\":{\"type\":\"field\",\"field\":\"x1\"},\"y1\":{\"type\":\"field\",\"field\":\"y1\"},\"line_color\":{\"type\":\"value\",\"value\":\"lightblue\"},\"line_alpha\":{\"type\":\"value\",\"value\":0.2},\"line_width\":{\"type\":\"value\",\"value\":3}}}}},{\"type\":\"object\",\"name\":\"GlyphRenderer\",\"id\":\"p3100\",\"attributes\":{\"data_source\":{\"type\":\"object\",\"name\":\"ColumnDataSource\",\"id\":\"p3094\",\"attributes\":{\"selected\":{\"type\":\"object\",\"name\":\"Selection\",\"id\":\"p3095\",\"attributes\":{\"indices\":[],\"line_indices\":[]}},\"selection_policy\":{\"type\":\"object\",\"name\":\"UnionRenderers\",\"id\":\"p3096\"},\"data\":{\"type\":\"map\",\"entries\":[[\"x0\",[23.799999952316284]],[\"y0\",[0.0]],[\"x1\",[23.799999952316284]],[\"y1\",[472.446]]]}}},\"view\":{\"type\":\"object\",\"name\":\"CDSView\",\"id\":\"p3101\",\"attributes\":{\"filter\":{\"type\":\"object\",\"name\":\"AllIndices\",\"id\":\"p3102\"}}},\"glyph\":{\"type\":\"object\",\"name\":\"Segment\",\"id\":\"p3097\",\"attributes\":{\"x0\":{\"type\":\"field\",\"field\":\"x0\"},\"y0\":{\"type\":\"field\",\"field\":\"y0\"},\"x1\":{\"type\":\"field\",\"field\":\"x1\"},\"y1\":{\"type\":\"field\",\"field\":\"y1\"},\"line_color\":{\"type\":\"value\",\"value\":\"darkseagreen\"}}},\"nonselection_glyph\":{\"type\":\"object\",\"name\":\"Segment\",\"id\":\"p3098\",\"attributes\":{\"x0\":{\"type\":\"field\",\"field\":\"x0\"},\"y0\":{\"type\":\"field\",\"field\":\"y0\"},\"x1\":{\"type\":\"field\",\"field\":\"x1\"},\"y1\":{\"type\":\"field\",\"field\":\"y1\"},\"line_color\":{\"type\":\"value\",\"value\":\"darkseagreen\"},\"line_alpha\":{\"type\":\"value\",\"value\":0.1}}},\"muted_glyph\":{\"type\":\"object\",\"name\":\"Segment\",\"id\":\"p3099\",\"attributes\":{\"x0\":{\"type\":\"field\",\"field\":\"x0\"},\"y0\":{\"type\":\"field\",\"field\":\"y0\"},\"x1\":{\"type\":\"field\",\"field\":\"x1\"},\"y1\":{\"type\":\"field\",\"field\":\"y1\"},\"line_color\":{\"type\":\"value\",\"value\":\"darkseagreen\"},\"line_alpha\":{\"type\":\"value\",\"value\":0.2}}}}},{\"type\":\"object\",\"name\":\"GlyphRenderer\",\"id\":\"p3109\",\"attributes\":{\"data_source\":{\"type\":\"object\",\"name\":\"ColumnDataSource\",\"id\":\"p3103\",\"attributes\":{\"selected\":{\"type\":\"object\",\"name\":\"Selection\",\"id\":\"p3104\",\"attributes\":{\"indices\":[],\"line_indices\":[]}},\"selection_policy\":{\"type\":\"object\",\"name\":\"UnionRenderers\",\"id\":\"p3105\"},\"data\":{\"type\":\"map\",\"entries\":[[\"x0\",[20.799999952316284]],[\"y0\",[0.0]],[\"x1\",[20.799999952316284]],[\"y1\",[472.446]]]}}},\"view\":{\"type\":\"object\",\"name\":\"CDSView\",\"id\":\"p3110\",\"attributes\":{\"filter\":{\"type\":\"object\",\"name\":\"AllIndices\",\"id\":\"p3111\"}}},\"glyph\":{\"type\":\"object\",\"name\":\"Segment\",\"id\":\"p3106\",\"attributes\":{\"x0\":{\"type\":\"field\",\"field\":\"x0\"},\"y0\":{\"type\":\"field\",\"field\":\"y0\"},\"x1\":{\"type\":\"field\",\"field\":\"x1\"},\"y1\":{\"type\":\"field\",\"field\":\"y1\"},\"line_color\":{\"type\":\"value\",\"value\":\"darkseagreen\"}}},\"nonselection_glyph\":{\"type\":\"object\",\"name\":\"Segment\",\"id\":\"p3107\",\"attributes\":{\"x0\":{\"type\":\"field\",\"field\":\"x0\"},\"y0\":{\"type\":\"field\",\"field\":\"y0\"},\"x1\":{\"type\":\"field\",\"field\":\"x1\"},\"y1\":{\"type\":\"field\",\"field\":\"y1\"},\"line_color\":{\"type\":\"value\",\"value\":\"darkseagreen\"},\"line_alpha\":{\"type\":\"value\",\"value\":0.1}}},\"muted_glyph\":{\"type\":\"object\",\"name\":\"Segment\",\"id\":\"p3108\",\"attributes\":{\"x0\":{\"type\":\"field\",\"field\":\"x0\"},\"y0\":{\"type\":\"field\",\"field\":\"y0\"},\"x1\":{\"type\":\"field\",\"field\":\"x1\"},\"y1\":{\"type\":\"field\",\"field\":\"y1\"},\"line_color\":{\"type\":\"value\",\"value\":\"darkseagreen\"},\"line_alpha\":{\"type\":\"value\",\"value\":0.2}}}}},{\"type\":\"object\",\"name\":\"GlyphRenderer\",\"id\":\"p3118\",\"attributes\":{\"data_source\":{\"type\":\"object\",\"name\":\"ColumnDataSource\",\"id\":\"p3112\",\"attributes\":{\"selected\":{\"type\":\"object\",\"name\":\"Selection\",\"id\":\"p3113\",\"attributes\":{\"indices\":[],\"line_indices\":[]}},\"selection_policy\":{\"type\":\"object\",\"name\":\"UnionRenderers\",\"id\":\"p3114\"},\"data\":{\"type\":\"map\",\"entries\":[[\"x\",[22.299999952316284]],[\"y\",[472.446]],[\"size\",[20]]]}}},\"view\":{\"type\":\"object\",\"name\":\"CDSView\",\"id\":\"p3119\",\"attributes\":{\"filter\":{\"type\":\"object\",\"name\":\"AllIndices\",\"id\":\"p3120\"}}},\"glyph\":{\"type\":\"object\",\"name\":\"Scatter\",\"id\":\"p3115\",\"attributes\":{\"x\":{\"type\":\"field\",\"field\":\"x\"},\"y\":{\"type\":\"field\",\"field\":\"y\"},\"size\":{\"type\":\"field\",\"field\":\"size\"},\"line_color\":{\"type\":\"value\",\"value\":\"lightblue\"},\"line_width\":{\"type\":\"value\",\"value\":3},\"fill_color\":{\"type\":\"value\",\"value\":null},\"marker\":{\"type\":\"value\",\"value\":\"square_cross\"}}},\"nonselection_glyph\":{\"type\":\"object\",\"name\":\"Scatter\",\"id\":\"p3116\",\"attributes\":{\"x\":{\"type\":\"field\",\"field\":\"x\"},\"y\":{\"type\":\"field\",\"field\":\"y\"},\"size\":{\"type\":\"field\",\"field\":\"size\"},\"line_color\":{\"type\":\"value\",\"value\":\"lightblue\"},\"line_alpha\":{\"type\":\"value\",\"value\":0.1},\"line_width\":{\"type\":\"value\",\"value\":3},\"fill_color\":{\"type\":\"value\",\"value\":null},\"fill_alpha\":{\"type\":\"value\",\"value\":0.1},\"hatch_alpha\":{\"type\":\"value\",\"value\":0.1},\"marker\":{\"type\":\"value\",\"value\":\"square_cross\"}}},\"muted_glyph\":{\"type\":\"object\",\"name\":\"Scatter\",\"id\":\"p3117\",\"attributes\":{\"x\":{\"type\":\"field\",\"field\":\"x\"},\"y\":{\"type\":\"field\",\"field\":\"y\"},\"size\":{\"type\":\"field\",\"field\":\"size\"},\"line_color\":{\"type\":\"value\",\"value\":\"lightblue\"},\"line_alpha\":{\"type\":\"value\",\"value\":0.2},\"line_width\":{\"type\":\"value\",\"value\":3},\"fill_color\":{\"type\":\"value\",\"value\":null},\"fill_alpha\":{\"type\":\"value\",\"value\":0.2},\"hatch_alpha\":{\"type\":\"value\",\"value\":0.2},\"marker\":{\"type\":\"value\",\"value\":\"square_cross\"}}}}}],\"toolbar\":{\"type\":\"object\",\"name\":\"Toolbar\",\"id\":\"p3007\",\"attributes\":{\"tools\":[{\"type\":\"object\",\"name\":\"PanTool\",\"id\":\"p3022\"},{\"type\":\"object\",\"name\":\"WheelZoomTool\",\"id\":\"p3023\",\"attributes\":{\"renderers\":\"auto\"}},{\"type\":\"object\",\"name\":\"BoxZoomTool\",\"id\":\"p3024\",\"attributes\":{\"overlay\":{\"type\":\"object\",\"name\":\"BoxAnnotation\",\"id\":\"p3025\",\"attributes\":{\"syncable\":false,\"level\":\"overlay\",\"visible\":false,\"left\":{\"type\":\"number\",\"value\":\"nan\"},\"right\":{\"type\":\"number\",\"value\":\"nan\"},\"top\":{\"type\":\"number\",\"value\":\"nan\"},\"bottom\":{\"type\":\"number\",\"value\":\"nan\"},\"left_units\":\"canvas\",\"right_units\":\"canvas\",\"top_units\":\"canvas\",\"bottom_units\":\"canvas\",\"line_color\":\"black\",\"line_alpha\":1.0,\"line_width\":2,\"line_dash\":[4,4],\"fill_color\":\"lightgrey\",\"fill_alpha\":0.5}}}},{\"type\":\"object\",\"name\":\"SaveTool\",\"id\":\"p3030\"},{\"type\":\"object\",\"name\":\"ResetTool\",\"id\":\"p3031\"},{\"type\":\"object\",\"name\":\"HelpTool\",\"id\":\"p3032\"},{\"type\":\"object\",\"name\":\"HoverTool\",\"id\":\"p3064\",\"attributes\":{\"renderers\":\"auto\",\"tooltips\":[[\"Y-val\",\"@y{0.00}\"]]}}]}},\"left\":[{\"type\":\"object\",\"name\":\"LinearAxis\",\"id\":\"p3017\",\"attributes\":{\"ticker\":{\"type\":\"object\",\"name\":\"BasicTicker\",\"id\":\"p3018\",\"attributes\":{\"mantissas\":[1,2,5]}},\"formatter\":{\"type\":\"object\",\"name\":\"BasicTickFormatter\",\"id\":\"p3019\"},\"axis_label\":\"km/h\",\"axis_label_standoff\":10,\"axis_label_text_color\":\"#E0E0E0\",\"axis_label_text_font\":\"Helvetica\",\"axis_label_text_font_size\":\"1.25em\",\"axis_label_text_font_style\":\"normal\",\"major_label_policy\":{\"type\":\"object\",\"name\":\"AllLabels\",\"id\":\"p3020\"},\"major_label_text_color\":\"#E0E0E0\",\"major_label_text_font\":\"Helvetica\",\"major_label_text_font_size\":\"1.025em\",\"axis_line_color\":\"#E0E0E0\",\"axis_line_alpha\":0,\"major_tick_line_color\":\"#E0E0E0\",\"major_tick_line_alpha\":0,\"minor_tick_line_color\":\"#E0E0E0\",\"minor_tick_line_alpha\":0}},{\"type\":\"object\",\"name\":\"LinearAxis\",\"id\":\"p3035\",\"attributes\":{\"y_range_name\":\"altitudeFt\",\"ticker\":{\"type\":\"object\",\"name\":\"BasicTicker\",\"id\":\"p3036\",\"attributes\":{\"mantissas\":[1,2,5]}},\"formatter\":{\"type\":\"object\",\"name\":\"BasicTickFormatter\",\"id\":\"p3037\"},\"axis_label\":\"Alt (ft)\",\"axis_label_standoff\":10,\"axis_label_text_color\":\"#E0E0E0\",\"axis_label_text_font\":\"Helvetica\",\"axis_label_text_font_size\":\"1.25em\",\"axis_label_text_font_style\":\"normal\",\"major_label_policy\":{\"type\":\"object\",\"name\":\"AllLabels\",\"id\":\"p3038\"},\"major_label_text_color\":\"#E0E0E0\",\"major_label_text_font\":\"Helvetica\",\"major_label_text_font_size\":\"1.025em\",\"axis_line_color\":\"#E0E0E0\",\"axis_line_alpha\":0,\"major_tick_line_color\":\"#E0E0E0\",\"major_tick_line_alpha\":0,\"minor_tick_line_color\":\"#E0E0E0\",\"minor_tick_line_alpha\":0}},{\"type\":\"object\",\"name\":\"LinearAxis\",\"id\":\"p3039\",\"attributes\":{\"y_range_name\":\"angle\",\"ticker\":{\"type\":\"object\",\"name\":\"BasicTicker\",\"id\":\"p3040\",\"attributes\":{\"mantissas\":[1,2,5]}},\"formatter\":{\"type\":\"object\",\"name\":\"BasicTickFormatter\",\"id\":\"p3041\"},\"axis_label\":\"angle\",\"axis_label_standoff\":10,\"axis_label_text_color\":\"#E0E0E0\",\"axis_label_text_font\":\"Helvetica\",\"axis_label_text_font_size\":\"1.25em\",\"axis_label_text_font_style\":\"normal\",\"major_label_policy\":{\"type\":\"object\",\"name\":\"AllLabels\",\"id\":\"p3042\"},\"major_label_text_color\":\"#E0E0E0\",\"major_label_text_font\":\"Helvetica\",\"major_label_text_font_size\":\"1.025em\",\"axis_line_color\":\"#E0E0E0\",\"axis_line_alpha\":0,\"major_tick_line_color\":\"#E0E0E0\",\"major_tick_line_alpha\":0,\"minor_tick_line_color\":\"#E0E0E0\",\"minor_tick_line_alpha\":0}}],\"below\":[{\"type\":\"object\",\"name\":\"LinearAxis\",\"id\":\"p3012\",\"attributes\":{\"ticker\":{\"type\":\"object\",\"name\":\"BasicTicker\",\"id\":\"p3013\",\"attributes\":{\"mantissas\":[1,2,5]}},\"formatter\":{\"type\":\"object\",\"name\":\"BasicTickFormatter\",\"id\":\"p3014\"},\"axis_label\":\"seconds from exit\",\"axis_label_standoff\":10,\"axis_label_text_color\":\"#E0E0E0\",\"axis_label_text_font\":\"Helvetica\",\"axis_label_text_font_size\":\"1.25em\",\"axis_label_text_font_style\":\"normal\",\"major_label_policy\":{\"type\":\"object\",\"name\":\"AllLabels\",\"id\":\"p3015\"},\"major_label_text_color\":\"#E0E0E0\",\"major_label_text_font\":\"Helvetica\",\"major_label_text_font_size\":\"1.025em\",\"axis_line_color\":\"#E0E0E0\",\"axis_line_alpha\":0,\"major_tick_line_color\":\"#E0E0E0\",\"major_tick_line_alpha\":0,\"minor_tick_line_color\":\"#E0E0E0\",\"minor_tick_line_alpha\":0}}],\"center\":[{\"type\":\"object\",\"name\":\"Grid\",\"id\":\"p3016\",\"attributes\":{\"axis\":{\"id\":\"p3012\"},\"grid_line_color\":\"#E0E0E0\",\"grid_line_alpha\":0.25}},{\"type\":\"object\",\"name\":\"Grid\",\"id\":\"p3021\",\"attributes\":{\"dimension\":1,\"axis\":{\"id\":\"p3017\"},\"grid_line_color\":\"#E0E0E0\",\"grid_line_alpha\":0.25}},{\"type\":\"object\",\"name\":\"Legend\",\"id\":\"p3052\",\"attributes\":{\"border_line_alpha\":0,\"background_fill_color\":\"#20262B\",\"background_fill_alpha\":0.25,\"label_text_color\":\"#E0E0E0\",\"label_text_font\":\"Helvetica\",\"label_text_font_size\":\"1.025em\",\"label_standoff\":8,\"glyph_width\":15,\"spacing\":8,\"items\":[{\"type\":\"object\",\"name\":\"LegendItem\",\"id\":\"p3053\",\"attributes\":{\"label\":{\"type\":\"value\",\"value\":\"Alt (ft)\"},\"renderers\":[{\"id\":\"p3049\"}]}},{\"type\":\"object\",\"name\":\"LegendItem\",\"id\":\"p3063\",\"attributes\":{\"label\":{\"type\":\"value\",\"value\":\"angle\"},\"renderers\":[{\"id\":\"p3060\"}]}},{\"type\":\"object\",\"name\":\"LegendItem\",\"id\":\"p3074\",\"attributes\":{\"label\":{\"type\":\"value\",\"value\":\"speed\"},\"renderers\":[{\"id\":\"p3071\"}]}},{\"type\":\"object\",\"name\":\"LegendItem\",\"id\":\"p3084\",\"attributes\":{\"label\":{\"type\":\"value\",\"value\":\"H-speed\"},\"renderers\":[{\"id\":\"p3081\"}]}}]}}],\"background_fill_color\":\"#20262B\",\"border_fill_color\":\"#15191C\"}}]}};\n",
       "  const render_items = [{\"docid\":\"27bcdca6-93e0-42fe-84ee-e5f8de01454a\",\"roots\":{\"p2998\":\"beec38f5-7d8f-425f-8c2a-b1fae0177d08\"},\"root_ids\":[\"p2998\"]}];\n",
       "  void root.Bokeh.embed.embed_items_notebook(docs_json, render_items);\n",
       "  }\n",
       "  if (root.Bokeh !== undefined) {\n",
       "    embed_document(root);\n",
       "  } else {\n",
       "    let attempts = 0;\n",
       "    const timer = setInterval(function(root) {\n",
       "      if (root.Bokeh !== undefined) {\n",
       "        clearInterval(timer);\n",
       "        embed_document(root);\n",
       "      } else {\n",
       "        attempts++;\n",
       "        if (attempts > 100) {\n",
       "          clearInterval(timer);\n",
       "          console.log(\"Bokeh: ERROR: Unable to run BokehJS code because BokehJS library is missing\");\n",
       "        }\n",
       "      }\n",
       "    }, 10, root)\n",
       "  }\n",
       "})(window);"
      ],
      "application/vnd.bokehjs_exec.v0+json": ""
     },
     "metadata": {
      "application/vnd.bokehjs_exec.v0+json": {
       "id": "p2998"
      }
     },
     "output_type": "display_data"
    },
    {
     "data": {
      "application/vnd.jupyter.widget-view+json": {
       "model_id": "f5609b58b2d9445ca66d45441a2e7851",
       "version_major": 2,
       "version_minor": 0
      },
      "text/plain": [
       "HTML(value='<hr><h1><span style=\"color: #0f0\">13-45-34 jump - 🟢 valid - score = 460.13 km/h</span></h1>')"
      ]
     },
     "metadata": {},
     "output_type": "display_data"
    },
    {
     "data": {
      "application/vnd.jupyter.widget-view+json": {
       "model_id": "07123baee91c45418e4bc50baef68903",
       "version_major": 2,
       "version_minor": 0
      },
      "text/plain": [
       "HTML(value='<h3>Max speed = 465; exit at 4305 m (14124 ft), end scoring window at 2049 m (6722 ft)')"
      ]
     },
     "metadata": {},
     "output_type": "display_data"
    },
    {
     "data": {
      "application/vnd.jupyter.widget-view+json": {
       "model_id": "84d9d45c07024cfcb7a3844b96119914",
       "version_major": 2,
       "version_minor": 0
      },
      "text/plain": [
       "HTML(value='</h3>')"
      ]
     },
     "metadata": {},
     "output_type": "display_data"
    },
    {
     "data": {
      "text/html": [
       "<div>\n",
       "<style scoped>\n",
       "    .dataframe tbody tr th:only-of-type {\n",
       "        vertical-align: middle;\n",
       "    }\n",
       "\n",
       "    .dataframe tbody tr th {\n",
       "        vertical-align: top;\n",
       "    }\n",
       "\n",
       "    .dataframe thead th {\n",
       "        text-align: right;\n",
       "    }\n",
       "</style>\n",
       "<table border=\"1\" class=\"dataframe\">\n",
       "  <thead>\n",
       "    <tr style=\"text-align: right;\">\n",
       "      <th></th>\n",
       "      <th>time</th>\n",
       "      <th>vKMh</th>\n",
       "      <th>hKMh</th>\n",
       "      <th>speedAngle</th>\n",
       "      <th>netVectorKMh</th>\n",
       "      <th>altitude (ft)</th>\n",
       "    </tr>\n",
       "  </thead>\n",
       "  <tbody>\n",
       "    <tr>\n",
       "      <th></th>\n",
       "      <td>5.0</td>\n",
       "      <td>180</td>\n",
       "      <td>79</td>\n",
       "      <td>66.2</td>\n",
       "      <td>196</td>\n",
       "      <td>13679</td>\n",
       "    </tr>\n",
       "    <tr>\n",
       "      <th></th>\n",
       "      <td>10.0</td>\n",
       "      <td>304</td>\n",
       "      <td>31</td>\n",
       "      <td>84.2</td>\n",
       "      <td>306</td>\n",
       "      <td>12542</td>\n",
       "    </tr>\n",
       "    <tr>\n",
       "      <th></th>\n",
       "      <td>15.0</td>\n",
       "      <td>384</td>\n",
       "      <td>29</td>\n",
       "      <td>85.7</td>\n",
       "      <td>385</td>\n",
       "      <td>11000</td>\n",
       "    </tr>\n",
       "    <tr>\n",
       "      <th></th>\n",
       "      <td>20.0</td>\n",
       "      <td>441</td>\n",
       "      <td>22</td>\n",
       "      <td>87.2</td>\n",
       "      <td>442</td>\n",
       "      <td>9101</td>\n",
       "    </tr>\n",
       "    <tr>\n",
       "      <th></th>\n",
       "      <td>25.0</td>\n",
       "      <td>464</td>\n",
       "      <td>30</td>\n",
       "      <td>86.3</td>\n",
       "      <td>465</td>\n",
       "      <td>7027</td>\n",
       "    </tr>\n",
       "  </tbody>\n",
       "</table>\n",
       "</div>"
      ],
      "text/plain": [
       "  time  vKMh  hKMh  speedAngle  netVectorKMh  altitude (ft)\n",
       "   5.0   180    79        66.2           196          13679\n",
       "  10.0   304    31        84.2           306          12542\n",
       "  15.0   384    29        85.7           385          11000\n",
       "  20.0   441    22        87.2           442           9101\n",
       "  25.0   464    30        86.3           465           7027"
      ]
     },
     "metadata": {},
     "output_type": "display_data"
    },
    {
     "data": {
      "text/html": [
       "\n",
       "  <div id=\"c1e8eaf7-ee7e-463f-ab15-c21bab3c2460\" data-root-id=\"p3139\" style=\"display: contents;\"></div>\n"
      ]
     },
     "metadata": {},
     "output_type": "display_data"
    },
    {
     "data": {
      "application/javascript": [
       "(function(root) {\n",
       "  function embed_document(root) {\n",
       "  const docs_json = {\"41a28ba2-f1a6-46f8-bc7c-89e8c9eced4b\":{\"version\":\"3.4.1\",\"title\":\"Bokeh Application\",\"roots\":[{\"type\":\"object\",\"name\":\"Figure\",\"id\":\"p3139\",\"attributes\":{\"width\":900,\"height\":500,\"x_range\":{\"type\":\"object\",\"name\":\"Range1d\",\"id\":\"p3149\",\"attributes\":{\"end\":35.0}},\"y_range\":{\"type\":\"object\",\"name\":\"Range1d\",\"id\":\"p3150\",\"attributes\":{\"end\":550.0}},\"x_scale\":{\"type\":\"object\",\"name\":\"LinearScale\",\"id\":\"p3151\"},\"y_scale\":{\"type\":\"object\",\"name\":\"LinearScale\",\"id\":\"p3152\"},\"extra_y_ranges\":{\"type\":\"map\",\"entries\":[[\"altitudeFt\",{\"type\":\"object\",\"name\":\"Range1d\",\"id\":\"p3174\",\"attributes\":{\"start\":6273.073806400001,\"end\":14624.218011199999}}],[\"angle\",{\"type\":\"object\",\"name\":\"Range1d\",\"id\":\"p3175\",\"attributes\":{\"end\":90.0}}]]},\"title\":{\"type\":\"object\",\"name\":\"Title\",\"id\":\"p3142\",\"attributes\":{\"text\":\"13-45-34\",\"text_color\":\"#E0E0E0\",\"text_font\":\"Helvetica\",\"text_font_size\":\"1.15em\"}},\"outline_line_color\":\"#E0E0E0\",\"outline_line_alpha\":0.25,\"renderers\":[{\"type\":\"object\",\"name\":\"GlyphRenderer\",\"id\":\"p3190\",\"attributes\":{\"y_range_name\":\"altitudeFt\",\"data_source\":{\"type\":\"object\",\"name\":\"ColumnDataSource\",\"id\":\"p3184\",\"attributes\":{\"selected\":{\"type\":\"object\",\"name\":\"Selection\",\"id\":\"p3185\",\"attributes\":{\"indices\":[],\"line_indices\":[]}},\"selection_policy\":{\"type\":\"object\",\"name\":\"UnionRenderers\",\"id\":\"p3186\"},\"data\":{\"type\":\"map\",\"entries\":[[\"x\",{\"type\":\"ndarray\",\"array\":{\"type\":\"bytes\",\"data\":\"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\"},\"shape\":[208],\"dtype\":\"float64\",\"order\":\"little\"}],[\"y\",{\"type\":\"ndarray\",\"array\":{\"type\":\"bytes\",\"data\":\"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\"},\"shape\":[208],\"dtype\":\"float64\",\"order\":\"little\"}]]}}},\"view\":{\"type\":\"object\",\"name\":\"CDSView\",\"id\":\"p3191\",\"attributes\":{\"filter\":{\"type\":\"object\",\"name\":\"AllIndices\",\"id\":\"p3192\"}}},\"glyph\":{\"type\":\"object\",\"name\":\"Line\",\"id\":\"p3187\",\"attributes\":{\"x\":{\"type\":\"field\",\"field\":\"x\"},\"y\":{\"type\":\"field\",\"field\":\"y\"},\"line_color\":\"palegoldenrod\",\"line_width\":2}},\"nonselection_glyph\":{\"type\":\"object\",\"name\":\"Line\",\"id\":\"p3188\",\"attributes\":{\"x\":{\"type\":\"field\",\"field\":\"x\"},\"y\":{\"type\":\"field\",\"field\":\"y\"},\"line_color\":\"palegoldenrod\",\"line_alpha\":0.1,\"line_width\":2}},\"muted_glyph\":{\"type\":\"object\",\"name\":\"Line\",\"id\":\"p3189\",\"attributes\":{\"x\":{\"type\":\"field\",\"field\":\"x\"},\"y\":{\"type\":\"field\",\"field\":\"y\"},\"line_color\":\"palegoldenrod\",\"line_alpha\":0.2,\"line_width\":2}}}},{\"type\":\"object\",\"name\":\"GlyphRenderer\",\"id\":\"p3201\",\"attributes\":{\"y_range_name\":\"angle\",\"data_source\":{\"type\":\"object\",\"name\":\"ColumnDataSource\",\"id\":\"p3195\",\"attributes\":{\"selected\":{\"type\":\"object\",\"name\":\"Selection\",\"id\":\"p3196\",\"attributes\":{\"indices\":[],\"line_indices\":[]}},\"selection_policy\":{\"type\":\"object\",\"name\":\"UnionRenderers\",\"id\":\"p3197\"},\"data\":{\"type\":\"map\",\"entries\":[[\"x\",{\"type\":\"ndarray\",\"array\":{\"type\":\"bytes\",\"data\":\"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\"},\"shape\":[208],\"dtype\":\"float64\",\"order\":\"little\"}],[\"y\",{\"type\":\"ndarray\",\"array\":{\"type\":\"bytes\",\"data\":\"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\"},\"shape\":[208],\"dtype\":\"float64\",\"order\":\"little\"}]]}}},\"view\":{\"type\":\"object\",\"name\":\"CDSView\",\"id\":\"p3202\",\"attributes\":{\"filter\":{\"type\":\"object\",\"name\":\"AllIndices\",\"id\":\"p3203\"}}},\"glyph\":{\"type\":\"object\",\"name\":\"Line\",\"id\":\"p3198\",\"attributes\":{\"x\":{\"type\":\"field\",\"field\":\"x\"},\"y\":{\"type\":\"field\",\"field\":\"y\"},\"line_color\":\"deepskyblue\",\"line_width\":2}},\"nonselection_glyph\":{\"type\":\"object\",\"name\":\"Line\",\"id\":\"p3199\",\"attributes\":{\"x\":{\"type\":\"field\",\"field\":\"x\"},\"y\":{\"type\":\"field\",\"field\":\"y\"},\"line_color\":\"deepskyblue\",\"line_alpha\":0.1,\"line_width\":2}},\"muted_glyph\":{\"type\":\"object\",\"name\":\"Line\",\"id\":\"p3200\",\"attributes\":{\"x\":{\"type\":\"field\",\"field\":\"x\"},\"y\":{\"type\":\"field\",\"field\":\"y\"},\"line_color\":\"deepskyblue\",\"line_alpha\":0.2,\"line_width\":2}}}},{\"type\":\"object\",\"name\":\"GlyphRenderer\",\"id\":\"p3212\",\"attributes\":{\"data_source\":{\"type\":\"object\",\"name\":\"ColumnDataSource\",\"id\":\"p3206\",\"attributes\":{\"selected\":{\"type\":\"object\",\"name\":\"Selection\",\"id\":\"p3207\",\"attributes\":{\"indices\":[],\"line_indices\":[]}},\"selection_policy\":{\"type\":\"object\",\"name\":\"UnionRenderers\",\"id\":\"p3208\"},\"data\":{\"type\":\"map\",\"entries\":[[\"x\",{\"type\":\"ndarray\",\"array\":{\"type\":\"bytes\",\"data\":\"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\"},\"shape\":[208],\"dtype\":\"float64\",\"order\":\"little\"}],[\"y\",{\"type\":\"ndarray\",\"array\":{\"type\":\"bytes\",\"data\":\"I9v5fmq8FEDFILByaJEhQEJg5dAi2ypAg8DKoUW2MUDeJAaBlcMzQMl2vp8aLzdA1XjpJjGIOkDHSzeJQWA9QOF6FK5HYUBASgwCK4fWQUBh5dAi23lDQARWDi2yXUVAl24Sg8BKR0DRItv5fmpJQIXrUbgeRUtAa7x0kxgETUC8dJMYBBZPQLx0kxgEdlBAF9nO91NjUUBxPQrXo1BSQMuhRbbzPVNALbKd76cmVEC5HoXrUfhUQAIrhxbZ7lVAWDm0yHbeVkDC9Shcj8JXQFYOLbKdj1hA2c73U+NlWUArhxbZzldaQLbz/dR4KVtAPgrXo3D9W0CwcmiR7dxcQEnhehSup11AlUOLbOebXkBRuB6F61FfQFYOLbKdH2BA6iYxCKzsYEAxCKwcWlRhQNV46SYxGGJAJQaBlUN7YkCWQ4ts51tjQOSlm8QgwGNAMQisHFokZEB7FK5H4YpkQDDdJAaBRWVAgZVDi2ynZUAUrkfhenRmQFtkO99P3WZArkfhehQ+Z0ACK4cW2Z5nQE5iEFg5BGhA8KfGSzfJaEA5tMh2vi9pQJHtfD81jmlA4XoUrkfxaUCPwvUoXK9qQPT91HjpBmtAoBov3STGa0DfT42XbjJsQDzfT42XjmxAsHJoke3cbED2KFyPwkVtQK9H4XoU/m1A/Knx0k1ibkBxPQrXo7BuQM73U+OlC29ApHA9Ctezb0CDwMqhRQZwQEJg5dAiK3BAdZMYBFZWcEBt5/up8aJwQLByaJHtxHBAZ2ZmZmbucEBbZDvfTz1xQB+F61G4XnFAYxBYObSAcUAZBFYOLapxQLkehetR4HFAlkOLbOfzcUB1kxgEVgZyQNijcD0KF3JAwcqhRbYjckDn+6nx0lVyQKjGSzeJeXJAYxBYObSgckCUGARWDs1yQCuHFtnOB3NAarx0kxgsc0Cq8dJNYlBzQHnpJjEIbHNA2c73U+N9c0CUGARWDqVzQNEi2/l+ynNA3iQGgZULdEDy0k1iEEh0QML1KFyPYnRAv58aL92sdEARWDm0yMZ0QObQItv53nRANl66SQz6dEAUrkfhegx1QGmR7Xw/JXVAwcqhRbY7dUCamZmZmVF1QPCnxks3aXVAEVg5tMiedUBvEoPAyrF1QNnO91PjvXVAMQisHFrUdUCBlUOLbO91QDMzMzMzG3ZA/tR46SY5dkCXbhKDwHJ2QPCnxks3iXZATDeJQWCddkCLbOf7qcF2QKabxCCw+nZA9ihcj8IVd0BQjZduEit3QLByaJHtPHdABFYOLbJVd0AUrkfhepR3QO58PzVeqndAhetRuB7ld0DeJAaBlft3QClcj8L1GHhAjpduEoMoeEAlBoGVQ2N4QHNoke18f3hApHA9CtereECIFtnO97t4QE5iEFg53HhAObTIdr7neEARWDm0yP54QDDdJAaBNXlAfT81XrpReUBWDi2ynWd5QMdLN4lBcHlAf2q8dJOYeUDZzvdT4615QML1KFyPunlAoBov3STOeUBvEoPAyul5QC2yne+nDnpAcT0K16MwekBbZDvfTz16QMl2vp8aR3pAAiuHFtluekBnZmZmZn56QLTIdr6fmnpAppvEILCiekB/arx0k7h6QObQItv5xnpAPgrXo3DdekAMAiuHFvl6QAvXo3A9+npAZ2ZmZmYOe0DNzMzMzBx7QJ3vp8ZLN3tAeekmMQhMe0DRItv5fmJ7QDEIrBxadHtAl24Sg8CCe0ACK4cW2Y57QPhT46WblHtAMzMzMzO7e0Cd76fGS8d7QPp+arx023tAaZHtfD/le0BjEFg5tOh7QGHl0CLb6XtAqMZLN4kJfEASg8DKoRV8QARWDi2yHXxA+n5qvHQjfEDfT42XbjJ8QMdLN4lBQHxAuR6F61FIfEC5HoXrUUh8QJHtfD81XnxADi2yne9ffEAEVg4tsmV8QPYoXI/CbXxAVg4tsp1/fEAw3SQGgZV8QDEIrBxalHxAqvHSTWKYfEAj2/l+apx8QARWDi2yrXxAeekmMQi0fEDufD81Xrp8QGq8dJMYvHxA4XoUrkfBfEDZzvdT48V8QFK4HoXryXxAsHJoke3cfEARWDm0yO58QKwcWmQ733xAlUOLbOfrfECbxCCwcuh8QIKVQ4ts93xAmG4Sg8DqfEB56SYxCPx8QHE9CtejAH1Ad76fGi/9fEBiEFg5tAh9QOomMQisBH1A5KWbxCAIfUA=\"},\"shape\":[208],\"dtype\":\"float64\",\"order\":\"little\"}]]}}},\"view\":{\"type\":\"object\",\"name\":\"CDSView\",\"id\":\"p3213\",\"attributes\":{\"filter\":{\"type\":\"object\",\"name\":\"AllIndices\",\"id\":\"p3214\"}}},\"glyph\":{\"type\":\"object\",\"name\":\"Line\",\"id\":\"p3209\",\"attributes\":{\"x\":{\"type\":\"field\",\"field\":\"x\"},\"y\":{\"type\":\"field\",\"field\":\"y\"},\"line_color\":\"limegreen\",\"line_width\":2}},\"nonselection_glyph\":{\"type\":\"object\",\"name\":\"Line\",\"id\":\"p3210\",\"attributes\":{\"x\":{\"type\":\"field\",\"field\":\"x\"},\"y\":{\"type\":\"field\",\"field\":\"y\"},\"line_color\":\"limegreen\",\"line_alpha\":0.1,\"line_width\":2}},\"muted_glyph\":{\"type\":\"object\",\"name\":\"Line\",\"id\":\"p3211\",\"attributes\":{\"x\":{\"type\":\"field\",\"field\":\"x\"},\"y\":{\"type\":\"field\",\"field\":\"y\"},\"line_color\":\"limegreen\",\"line_alpha\":0.2,\"line_width\":2}}}},{\"type\":\"object\",\"name\":\"GlyphRenderer\",\"id\":\"p3222\",\"attributes\":{\"data_source\":{\"type\":\"object\",\"name\":\"ColumnDataSource\",\"id\":\"p3216\",\"attributes\":{\"selected\":{\"type\":\"object\",\"name\":\"Selection\",\"id\":\"p3217\",\"attributes\":{\"indices\":[],\"line_indices\":[]}},\"selection_policy\":{\"type\":\"object\",\"name\":\"UnionRenderers\",\"id\":\"p3218\"},\"data\":{\"type\":\"map\",\"entries\":[[\"x\",{\"type\":\"ndarray\",\"array\":{\"type\":\"bytes\",\"data\":\"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\"},\"shape\":[208],\"dtype\":\"float64\",\"order\":\"little\"}],[\"y\",{\"type\":\"ndarray\",\"array\":{\"type\":\"bytes\",\"data\":\"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\"},\"shape\":[208],\"dtype\":\"float64\",\"order\":\"little\"}]]}}},\"view\":{\"type\":\"object\",\"name\":\"CDSView\",\"id\":\"p3223\",\"attributes\":{\"filter\":{\"type\":\"object\",\"name\":\"AllIndices\",\"id\":\"p3224\"}}},\"glyph\":{\"type\":\"object\",\"name\":\"Line\",\"id\":\"p3219\",\"attributes\":{\"x\":{\"type\":\"field\",\"field\":\"x\"},\"y\":{\"type\":\"field\",\"field\":\"y\"},\"line_color\":\"red\",\"line_width\":2}},\"nonselection_glyph\":{\"type\":\"object\",\"name\":\"Line\",\"id\":\"p3220\",\"attributes\":{\"x\":{\"type\":\"field\",\"field\":\"x\"},\"y\":{\"type\":\"field\",\"field\":\"y\"},\"line_color\":\"red\",\"line_alpha\":0.1,\"line_width\":2}},\"muted_glyph\":{\"type\":\"object\",\"name\":\"Line\",\"id\":\"p3221\",\"attributes\":{\"x\":{\"type\":\"field\",\"field\":\"x\"},\"y\":{\"type\":\"field\",\"field\":\"y\"},\"line_color\":\"red\",\"line_alpha\":0.2,\"line_width\":2}}}},{\"type\":\"object\",\"name\":\"GlyphRenderer\",\"id\":\"p3232\",\"attributes\":{\"data_source\":{\"type\":\"object\",\"name\":\"ColumnDataSource\",\"id\":\"p3226\",\"attributes\":{\"selected\":{\"type\":\"object\",\"name\":\"Selection\",\"id\":\"p3227\",\"attributes\":{\"indices\":[],\"line_indices\":[]}},\"selection_policy\":{\"type\":\"object\",\"name\":\"UnionRenderers\",\"id\":\"p3228\"},\"data\":{\"type\":\"map\",\"entries\":[[\"x0\",[22.5]],[\"y0\",[0.0]],[\"x1\",[22.5]],[\"y1\",[460.134]]]}}},\"view\":{\"type\":\"object\",\"name\":\"CDSView\",\"id\":\"p3233\",\"attributes\":{\"filter\":{\"type\":\"object\",\"name\":\"AllIndices\",\"id\":\"p3234\"}}},\"glyph\":{\"type\":\"object\",\"name\":\"Segment\",\"id\":\"p3229\",\"attributes\":{\"x0\":{\"type\":\"field\",\"field\":\"x0\"},\"y0\":{\"type\":\"field\",\"field\":\"y0\"},\"x1\":{\"type\":\"field\",\"field\":\"x1\"},\"y1\":{\"type\":\"field\",\"field\":\"y1\"},\"line_color\":{\"type\":\"value\",\"value\":\"lightblue\"},\"line_width\":{\"type\":\"value\",\"value\":3}}},\"nonselection_glyph\":{\"type\":\"object\",\"name\":\"Segment\",\"id\":\"p3230\",\"attributes\":{\"x0\":{\"type\":\"field\",\"field\":\"x0\"},\"y0\":{\"type\":\"field\",\"field\":\"y0\"},\"x1\":{\"type\":\"field\",\"field\":\"x1\"},\"y1\":{\"type\":\"field\",\"field\":\"y1\"},\"line_color\":{\"type\":\"value\",\"value\":\"lightblue\"},\"line_alpha\":{\"type\":\"value\",\"value\":0.1},\"line_width\":{\"type\":\"value\",\"value\":3}}},\"muted_glyph\":{\"type\":\"object\",\"name\":\"Segment\",\"id\":\"p3231\",\"attributes\":{\"x0\":{\"type\":\"field\",\"field\":\"x0\"},\"y0\":{\"type\":\"field\",\"field\":\"y0\"},\"x1\":{\"type\":\"field\",\"field\":\"x1\"},\"y1\":{\"type\":\"field\",\"field\":\"y1\"},\"line_color\":{\"type\":\"value\",\"value\":\"lightblue\"},\"line_alpha\":{\"type\":\"value\",\"value\":0.2},\"line_width\":{\"type\":\"value\",\"value\":3}}}}},{\"type\":\"object\",\"name\":\"GlyphRenderer\",\"id\":\"p3241\",\"attributes\":{\"data_source\":{\"type\":\"object\",\"name\":\"ColumnDataSource\",\"id\":\"p3235\",\"attributes\":{\"selected\":{\"type\":\"object\",\"name\":\"Selection\",\"id\":\"p3236\",\"attributes\":{\"indices\":[],\"line_indices\":[]}},\"selection_policy\":{\"type\":\"object\",\"name\":\"UnionRenderers\",\"id\":\"p3237\"},\"data\":{\"type\":\"map\",\"entries\":[[\"x0\",[24.0]],[\"y0\",[0.0]],[\"x1\",[24.0]],[\"y1\",[460.134]]]}}},\"view\":{\"type\":\"object\",\"name\":\"CDSView\",\"id\":\"p3242\",\"attributes\":{\"filter\":{\"type\":\"object\",\"name\":\"AllIndices\",\"id\":\"p3243\"}}},\"glyph\":{\"type\":\"object\",\"name\":\"Segment\",\"id\":\"p3238\",\"attributes\":{\"x0\":{\"type\":\"field\",\"field\":\"x0\"},\"y0\":{\"type\":\"field\",\"field\":\"y0\"},\"x1\":{\"type\":\"field\",\"field\":\"x1\"},\"y1\":{\"type\":\"field\",\"field\":\"y1\"},\"line_color\":{\"type\":\"value\",\"value\":\"darkseagreen\"}}},\"nonselection_glyph\":{\"type\":\"object\",\"name\":\"Segment\",\"id\":\"p3239\",\"attributes\":{\"x0\":{\"type\":\"field\",\"field\":\"x0\"},\"y0\":{\"type\":\"field\",\"field\":\"y0\"},\"x1\":{\"type\":\"field\",\"field\":\"x1\"},\"y1\":{\"type\":\"field\",\"field\":\"y1\"},\"line_color\":{\"type\":\"value\",\"value\":\"darkseagreen\"},\"line_alpha\":{\"type\":\"value\",\"value\":0.1}}},\"muted_glyph\":{\"type\":\"object\",\"name\":\"Segment\",\"id\":\"p3240\",\"attributes\":{\"x0\":{\"type\":\"field\",\"field\":\"x0\"},\"y0\":{\"type\":\"field\",\"field\":\"y0\"},\"x1\":{\"type\":\"field\",\"field\":\"x1\"},\"y1\":{\"type\":\"field\",\"field\":\"y1\"},\"line_color\":{\"type\":\"value\",\"value\":\"darkseagreen\"},\"line_alpha\":{\"type\":\"value\",\"value\":0.2}}}}},{\"type\":\"object\",\"name\":\"GlyphRenderer\",\"id\":\"p3250\",\"attributes\":{\"data_source\":{\"type\":\"object\",\"name\":\"ColumnDataSource\",\"id\":\"p3244\",\"attributes\":{\"selected\":{\"type\":\"object\",\"name\":\"Selection\",\"id\":\"p3245\",\"attributes\":{\"indices\":[],\"line_indices\":[]}},\"selection_policy\":{\"type\":\"object\",\"name\":\"UnionRenderers\",\"id\":\"p3246\"},\"data\":{\"type\":\"map\",\"entries\":[[\"x0\",[21.0]],[\"y0\",[0.0]],[\"x1\",[21.0]],[\"y1\",[460.134]]]}}},\"view\":{\"type\":\"object\",\"name\":\"CDSView\",\"id\":\"p3251\",\"attributes\":{\"filter\":{\"type\":\"object\",\"name\":\"AllIndices\",\"id\":\"p3252\"}}},\"glyph\":{\"type\":\"object\",\"name\":\"Segment\",\"id\":\"p3247\",\"attributes\":{\"x0\":{\"type\":\"field\",\"field\":\"x0\"},\"y0\":{\"type\":\"field\",\"field\":\"y0\"},\"x1\":{\"type\":\"field\",\"field\":\"x1\"},\"y1\":{\"type\":\"field\",\"field\":\"y1\"},\"line_color\":{\"type\":\"value\",\"value\":\"darkseagreen\"}}},\"nonselection_glyph\":{\"type\":\"object\",\"name\":\"Segment\",\"id\":\"p3248\",\"attributes\":{\"x0\":{\"type\":\"field\",\"field\":\"x0\"},\"y0\":{\"type\":\"field\",\"field\":\"y0\"},\"x1\":{\"type\":\"field\",\"field\":\"x1\"},\"y1\":{\"type\":\"field\",\"field\":\"y1\"},\"line_color\":{\"type\":\"value\",\"value\":\"darkseagreen\"},\"line_alpha\":{\"type\":\"value\",\"value\":0.1}}},\"muted_glyph\":{\"type\":\"object\",\"name\":\"Segment\",\"id\":\"p3249\",\"attributes\":{\"x0\":{\"type\":\"field\",\"field\":\"x0\"},\"y0\":{\"type\":\"field\",\"field\":\"y0\"},\"x1\":{\"type\":\"field\",\"field\":\"x1\"},\"y1\":{\"type\":\"field\",\"field\":\"y1\"},\"line_color\":{\"type\":\"value\",\"value\":\"darkseagreen\"},\"line_alpha\":{\"type\":\"value\",\"value\":0.2}}}}},{\"type\":\"object\",\"name\":\"GlyphRenderer\",\"id\":\"p3259\",\"attributes\":{\"data_source\":{\"type\":\"object\",\"name\":\"ColumnDataSource\",\"id\":\"p3253\",\"attributes\":{\"selected\":{\"type\":\"object\",\"name\":\"Selection\",\"id\":\"p3254\",\"attributes\":{\"indices\":[],\"line_indices\":[]}},\"selection_policy\":{\"type\":\"object\",\"name\":\"UnionRenderers\",\"id\":\"p3255\"},\"data\":{\"type\":\"map\",\"entries\":[[\"x\",[22.5]],[\"y\",[460.134]],[\"size\",[20]]]}}},\"view\":{\"type\":\"object\",\"name\":\"CDSView\",\"id\":\"p3260\",\"attributes\":{\"filter\":{\"type\":\"object\",\"name\":\"AllIndices\",\"id\":\"p3261\"}}},\"glyph\":{\"type\":\"object\",\"name\":\"Scatter\",\"id\":\"p3256\",\"attributes\":{\"x\":{\"type\":\"field\",\"field\":\"x\"},\"y\":{\"type\":\"field\",\"field\":\"y\"},\"size\":{\"type\":\"field\",\"field\":\"size\"},\"line_color\":{\"type\":\"value\",\"value\":\"lightblue\"},\"line_width\":{\"type\":\"value\",\"value\":3},\"fill_color\":{\"type\":\"value\",\"value\":null},\"marker\":{\"type\":\"value\",\"value\":\"square_cross\"}}},\"nonselection_glyph\":{\"type\":\"object\",\"name\":\"Scatter\",\"id\":\"p3257\",\"attributes\":{\"x\":{\"type\":\"field\",\"field\":\"x\"},\"y\":{\"type\":\"field\",\"field\":\"y\"},\"size\":{\"type\":\"field\",\"field\":\"size\"},\"line_color\":{\"type\":\"value\",\"value\":\"lightblue\"},\"line_alpha\":{\"type\":\"value\",\"value\":0.1},\"line_width\":{\"type\":\"value\",\"value\":3},\"fill_color\":{\"type\":\"value\",\"value\":null},\"fill_alpha\":{\"type\":\"value\",\"value\":0.1},\"hatch_alpha\":{\"type\":\"value\",\"value\":0.1},\"marker\":{\"type\":\"value\",\"value\":\"square_cross\"}}},\"muted_glyph\":{\"type\":\"object\",\"name\":\"Scatter\",\"id\":\"p3258\",\"attributes\":{\"x\":{\"type\":\"field\",\"field\":\"x\"},\"y\":{\"type\":\"field\",\"field\":\"y\"},\"size\":{\"type\":\"field\",\"field\":\"size\"},\"line_color\":{\"type\":\"value\",\"value\":\"lightblue\"},\"line_alpha\":{\"type\":\"value\",\"value\":0.2},\"line_width\":{\"type\":\"value\",\"value\":3},\"fill_color\":{\"type\":\"value\",\"value\":null},\"fill_alpha\":{\"type\":\"value\",\"value\":0.2},\"hatch_alpha\":{\"type\":\"value\",\"value\":0.2},\"marker\":{\"type\":\"value\",\"value\":\"square_cross\"}}}}}],\"toolbar\":{\"type\":\"object\",\"name\":\"Toolbar\",\"id\":\"p3148\",\"attributes\":{\"tools\":[{\"type\":\"object\",\"name\":\"PanTool\",\"id\":\"p3163\"},{\"type\":\"object\",\"name\":\"WheelZoomTool\",\"id\":\"p3164\",\"attributes\":{\"renderers\":\"auto\"}},{\"type\":\"object\",\"name\":\"BoxZoomTool\",\"id\":\"p3165\",\"attributes\":{\"overlay\":{\"type\":\"object\",\"name\":\"BoxAnnotation\",\"id\":\"p3166\",\"attributes\":{\"syncable\":false,\"level\":\"overlay\",\"visible\":false,\"left\":{\"type\":\"number\",\"value\":\"nan\"},\"right\":{\"type\":\"number\",\"value\":\"nan\"},\"top\":{\"type\":\"number\",\"value\":\"nan\"},\"bottom\":{\"type\":\"number\",\"value\":\"nan\"},\"left_units\":\"canvas\",\"right_units\":\"canvas\",\"top_units\":\"canvas\",\"bottom_units\":\"canvas\",\"line_color\":\"black\",\"line_alpha\":1.0,\"line_width\":2,\"line_dash\":[4,4],\"fill_color\":\"lightgrey\",\"fill_alpha\":0.5}}}},{\"type\":\"object\",\"name\":\"SaveTool\",\"id\":\"p3171\"},{\"type\":\"object\",\"name\":\"ResetTool\",\"id\":\"p3172\"},{\"type\":\"object\",\"name\":\"HelpTool\",\"id\":\"p3173\"},{\"type\":\"object\",\"name\":\"HoverTool\",\"id\":\"p3205\",\"attributes\":{\"renderers\":\"auto\",\"tooltips\":[[\"Y-val\",\"@y{0.00}\"]]}}]}},\"left\":[{\"type\":\"object\",\"name\":\"LinearAxis\",\"id\":\"p3158\",\"attributes\":{\"ticker\":{\"type\":\"object\",\"name\":\"BasicTicker\",\"id\":\"p3159\",\"attributes\":{\"mantissas\":[1,2,5]}},\"formatter\":{\"type\":\"object\",\"name\":\"BasicTickFormatter\",\"id\":\"p3160\"},\"axis_label\":\"km/h\",\"axis_label_standoff\":10,\"axis_label_text_color\":\"#E0E0E0\",\"axis_label_text_font\":\"Helvetica\",\"axis_label_text_font_size\":\"1.25em\",\"axis_label_text_font_style\":\"normal\",\"major_label_policy\":{\"type\":\"object\",\"name\":\"AllLabels\",\"id\":\"p3161\"},\"major_label_text_color\":\"#E0E0E0\",\"major_label_text_font\":\"Helvetica\",\"major_label_text_font_size\":\"1.025em\",\"axis_line_color\":\"#E0E0E0\",\"axis_line_alpha\":0,\"major_tick_line_color\":\"#E0E0E0\",\"major_tick_line_alpha\":0,\"minor_tick_line_color\":\"#E0E0E0\",\"minor_tick_line_alpha\":0}},{\"type\":\"object\",\"name\":\"LinearAxis\",\"id\":\"p3176\",\"attributes\":{\"y_range_name\":\"altitudeFt\",\"ticker\":{\"type\":\"object\",\"name\":\"BasicTicker\",\"id\":\"p3177\",\"attributes\":{\"mantissas\":[1,2,5]}},\"formatter\":{\"type\":\"object\",\"name\":\"BasicTickFormatter\",\"id\":\"p3178\"},\"axis_label\":\"Alt (ft)\",\"axis_label_standoff\":10,\"axis_label_text_color\":\"#E0E0E0\",\"axis_label_text_font\":\"Helvetica\",\"axis_label_text_font_size\":\"1.25em\",\"axis_label_text_font_style\":\"normal\",\"major_label_policy\":{\"type\":\"object\",\"name\":\"AllLabels\",\"id\":\"p3179\"},\"major_label_text_color\":\"#E0E0E0\",\"major_label_text_font\":\"Helvetica\",\"major_label_text_font_size\":\"1.025em\",\"axis_line_color\":\"#E0E0E0\",\"axis_line_alpha\":0,\"major_tick_line_color\":\"#E0E0E0\",\"major_tick_line_alpha\":0,\"minor_tick_line_color\":\"#E0E0E0\",\"minor_tick_line_alpha\":0}},{\"type\":\"object\",\"name\":\"LinearAxis\",\"id\":\"p3180\",\"attributes\":{\"y_range_name\":\"angle\",\"ticker\":{\"type\":\"object\",\"name\":\"BasicTicker\",\"id\":\"p3181\",\"attributes\":{\"mantissas\":[1,2,5]}},\"formatter\":{\"type\":\"object\",\"name\":\"BasicTickFormatter\",\"id\":\"p3182\"},\"axis_label\":\"angle\",\"axis_label_standoff\":10,\"axis_label_text_color\":\"#E0E0E0\",\"axis_label_text_font\":\"Helvetica\",\"axis_label_text_font_size\":\"1.25em\",\"axis_label_text_font_style\":\"normal\",\"major_label_policy\":{\"type\":\"object\",\"name\":\"AllLabels\",\"id\":\"p3183\"},\"major_label_text_color\":\"#E0E0E0\",\"major_label_text_font\":\"Helvetica\",\"major_label_text_font_size\":\"1.025em\",\"axis_line_color\":\"#E0E0E0\",\"axis_line_alpha\":0,\"major_tick_line_color\":\"#E0E0E0\",\"major_tick_line_alpha\":0,\"minor_tick_line_color\":\"#E0E0E0\",\"minor_tick_line_alpha\":0}}],\"below\":[{\"type\":\"object\",\"name\":\"LinearAxis\",\"id\":\"p3153\",\"attributes\":{\"ticker\":{\"type\":\"object\",\"name\":\"BasicTicker\",\"id\":\"p3154\",\"attributes\":{\"mantissas\":[1,2,5]}},\"formatter\":{\"type\":\"object\",\"name\":\"BasicTickFormatter\",\"id\":\"p3155\"},\"axis_label\":\"seconds from exit\",\"axis_label_standoff\":10,\"axis_label_text_color\":\"#E0E0E0\",\"axis_label_text_font\":\"Helvetica\",\"axis_label_text_font_size\":\"1.25em\",\"axis_label_text_font_style\":\"normal\",\"major_label_policy\":{\"type\":\"object\",\"name\":\"AllLabels\",\"id\":\"p3156\"},\"major_label_text_color\":\"#E0E0E0\",\"major_label_text_font\":\"Helvetica\",\"major_label_text_font_size\":\"1.025em\",\"axis_line_color\":\"#E0E0E0\",\"axis_line_alpha\":0,\"major_tick_line_color\":\"#E0E0E0\",\"major_tick_line_alpha\":0,\"minor_tick_line_color\":\"#E0E0E0\",\"minor_tick_line_alpha\":0}}],\"center\":[{\"type\":\"object\",\"name\":\"Grid\",\"id\":\"p3157\",\"attributes\":{\"axis\":{\"id\":\"p3153\"},\"grid_line_color\":\"#E0E0E0\",\"grid_line_alpha\":0.25}},{\"type\":\"object\",\"name\":\"Grid\",\"id\":\"p3162\",\"attributes\":{\"dimension\":1,\"axis\":{\"id\":\"p3158\"},\"grid_line_color\":\"#E0E0E0\",\"grid_line_alpha\":0.25}},{\"type\":\"object\",\"name\":\"Legend\",\"id\":\"p3193\",\"attributes\":{\"border_line_alpha\":0,\"background_fill_color\":\"#20262B\",\"background_fill_alpha\":0.25,\"label_text_color\":\"#E0E0E0\",\"label_text_font\":\"Helvetica\",\"label_text_font_size\":\"1.025em\",\"label_standoff\":8,\"glyph_width\":15,\"spacing\":8,\"items\":[{\"type\":\"object\",\"name\":\"LegendItem\",\"id\":\"p3194\",\"attributes\":{\"label\":{\"type\":\"value\",\"value\":\"Alt (ft)\"},\"renderers\":[{\"id\":\"p3190\"}]}},{\"type\":\"object\",\"name\":\"LegendItem\",\"id\":\"p3204\",\"attributes\":{\"label\":{\"type\":\"value\",\"value\":\"angle\"},\"renderers\":[{\"id\":\"p3201\"}]}},{\"type\":\"object\",\"name\":\"LegendItem\",\"id\":\"p3215\",\"attributes\":{\"label\":{\"type\":\"value\",\"value\":\"speed\"},\"renderers\":[{\"id\":\"p3212\"}]}},{\"type\":\"object\",\"name\":\"LegendItem\",\"id\":\"p3225\",\"attributes\":{\"label\":{\"type\":\"value\",\"value\":\"H-speed\"},\"renderers\":[{\"id\":\"p3222\"}]}}]}}],\"background_fill_color\":\"#20262B\",\"border_fill_color\":\"#15191C\"}}]}};\n",
       "  const render_items = [{\"docid\":\"41a28ba2-f1a6-46f8-bc7c-89e8c9eced4b\",\"roots\":{\"p3139\":\"c1e8eaf7-ee7e-463f-ab15-c21bab3c2460\"},\"root_ids\":[\"p3139\"]}];\n",
       "  void root.Bokeh.embed.embed_items_notebook(docs_json, render_items);\n",
       "  }\n",
       "  if (root.Bokeh !== undefined) {\n",
       "    embed_document(root);\n",
       "  } else {\n",
       "    let attempts = 0;\n",
       "    const timer = setInterval(function(root) {\n",
       "      if (root.Bokeh !== undefined) {\n",
       "        clearInterval(timer);\n",
       "        embed_document(root);\n",
       "      } else {\n",
       "        attempts++;\n",
       "        if (attempts > 100) {\n",
       "          clearInterval(timer);\n",
       "          console.log(\"Bokeh: ERROR: Unable to run BokehJS code because BokehJS library is missing\");\n",
       "        }\n",
       "      }\n",
       "    }, 10, root)\n",
       "  }\n",
       "})(window);"
      ],
      "application/vnd.bokehjs_exec.v0+json": ""
     },
     "metadata": {
      "application/vnd.bokehjs_exec.v0+json": {
       "id": "p3139"
      }
     },
     "output_type": "display_data"
    }
   ],
   "source": [
    "allJumpsPlot = initializePlot('All jumps in set')\n",
    "jumpNumber = 0\n",
    "mixColor = 0\n",
    "for resultRef in sorted(jumpResults.keys()):\n",
    "    jumpResult = jumpResults[resultRef]\n",
    "    if jumpResult.score > 0.0:\n",
    "        validJumpStatus = '<hr><h1><span style=\"color: %s\">%s jump - %s - score = %.02f km/h</span></h1>' % (jumpResult.color, resultRef, jumpResult.result, jumpResult.score)        \n",
    "    else:\n",
    "        validJumpStatus = '<hr><h1><span style=\"color: %s\">%s jump - %s</span></h1>' % (jumpResult.color, resultRef, jumpResult.result)\n",
    "    display(widgets.HTML(validJumpStatus))\n",
    "\n",
    "    maxSpeed = jumpResult.maxSpeed\n",
    "    window = jumpResult.window\n",
    "    mixColor = (mixColor+1)%len(SPEED_COLORS)\n",
    "    if jumpResult.score > 0.0:\n",
    "        display(widgets.HTML('<h3>Max speed = {0:,.0f}; '.format(maxSpeed)+('exit at %d m (%d ft), end scoring window at %d m (%d ft)'%(window.start, 3.2808*window.start, window.end, 3.2808*window.end))))\n",
    "        if not isValidMinimumAltitude(jumpResult.data.altitudeASL.max()):\n",
    "            display(widgets.HTML('<span style=\"color: yellow\"><span style=\"font-weight: bold\">Warning:</span> exit altitude ASL was lower than the minimum scoring altitude according to IPC and USPA.'))\n",
    "        display(widgets.HTML('</h3>'))\n",
    "        # TODO: Move this to an in-notebook function or module.\n",
    "        displayJumpDataIn(jumpResult.table)\n",
    "        individualPlot = initializePlot(resultRef)\n",
    "        individualPlot = initializeExtraYRanges(individualPlot, startY = min(jumpResult.data.altitudeASLFt)-500.0, endY = max(jumpResult.data.altitudeASLFt)+500.0)\n",
    "        graphAltitude(individualPlot, jumpResult)\n",
    "        graphAngle(individualPlot, jumpResult)\n",
    "        hoverValue = bm.HoverTool(tooltips = [ ('Y-val', '@y{0.00}'), ])\n",
    "        individualPlot.add_tools(hoverValue)\n",
    "        graphJumpResult(individualPlot,\n",
    "                        jumpResult,\n",
    "                        lineColor = SPEED_COLORS[0])\n",
    "        graphJumpResult(allJumpsPlot,\n",
    "                        jumpResult,\n",
    "                        lineColor = SPEED_COLORS[mixColor],\n",
    "                        legend = '%s - %.2f' % (resultRef, jumpResult.score),\n",
    "                        showIt = False)"
   ]
  },
  {
   "cell_type": "markdown",
   "id": "7363faaf-27a9-401c-9271-73b71436f19c",
   "metadata": {},
   "source": [
    "---\n",
    "## All speed skydives in data lake summary"
   ]
  },
  {
   "cell_type": "code",
   "execution_count": 48,
   "id": "17991fcf-e215-4a53-a6ff-d9a64cbafd94",
   "metadata": {
    "jupyter": {
     "source_hidden": true
    }
   },
   "outputs": [
    {
     "data": {
      "text/html": [
       "<div>\n",
       "<style scoped>\n",
       "    .dataframe tbody tr th:only-of-type {\n",
       "        vertical-align: middle;\n",
       "    }\n",
       "\n",
       "    .dataframe tbody tr th {\n",
       "        vertical-align: top;\n",
       "    }\n",
       "\n",
       "    .dataframe thead th {\n",
       "        text-align: right;\n",
       "    }\n",
       "</style>\n",
       "<table border=\"1\" class=\"dataframe\">\n",
       "  <thead>\n",
       "    <tr style=\"text-align: right;\">\n",
       "      <th></th>\n",
       "      <th>score</th>\n",
       "      <th>5.0</th>\n",
       "      <th>10.0</th>\n",
       "      <th>15.0</th>\n",
       "      <th>20.0</th>\n",
       "      <th>25.0</th>\n",
       "      <th>finalTime</th>\n",
       "      <th>maxSpeed</th>\n",
       "    </tr>\n",
       "  </thead>\n",
       "  <tbody>\n",
       "    <tr>\n",
       "      <th>01-00-TJ-BASELINE</th>\n",
       "      <td>480</td>\n",
       "      <td>176</td>\n",
       "      <td>315</td>\n",
       "      <td>414</td>\n",
       "      <td>467</td>\n",
       "      <td>484</td>\n",
       "      <td>25.0</td>\n",
       "      <td>484</td>\n",
       "    </tr>\n",
       "    <tr>\n",
       "      <th>10-53-19</th>\n",
       "      <td>458</td>\n",
       "      <td>171</td>\n",
       "      <td>285</td>\n",
       "      <td>387</td>\n",
       "      <td>435</td>\n",
       "      <td>459</td>\n",
       "      <td>25.0</td>\n",
       "      <td>463</td>\n",
       "    </tr>\n",
       "    <tr>\n",
       "      <th>11-38-43</th>\n",
       "      <td>457</td>\n",
       "      <td>170</td>\n",
       "      <td>301</td>\n",
       "      <td>385</td>\n",
       "      <td>436</td>\n",
       "      <td>460</td>\n",
       "      <td>25.0</td>\n",
       "      <td>462</td>\n",
       "    </tr>\n",
       "    <tr>\n",
       "      <th>12-55-39</th>\n",
       "      <td>472</td>\n",
       "      <td>177</td>\n",
       "      <td>296</td>\n",
       "      <td>398</td>\n",
       "      <td>457</td>\n",
       "      <td>475</td>\n",
       "      <td>25.0</td>\n",
       "      <td>477</td>\n",
       "    </tr>\n",
       "    <tr>\n",
       "      <th>13-45-34</th>\n",
       "      <td>460</td>\n",
       "      <td>180</td>\n",
       "      <td>304</td>\n",
       "      <td>384</td>\n",
       "      <td>441</td>\n",
       "      <td>464</td>\n",
       "      <td>25.0</td>\n",
       "      <td>465</td>\n",
       "    </tr>\n",
       "  </tbody>\n",
       "</table>\n",
       "</div>"
      ],
      "text/plain": [
       "                   score  5.0  10.0  15.0  20.0  25.0  finalTime  maxSpeed\n",
       "01-00-TJ-BASELINE    480  176   315   414   467   484       25.0       484\n",
       "10-53-19             458  171   285   387   435   459       25.0       463\n",
       "11-38-43             457  170   301   385   436   460       25.0       462\n",
       "12-55-39             472  177   296   398   457   475       25.0       477\n",
       "13-45-34             460  180   304   384   441   464       25.0       465"
      ]
     },
     "metadata": {},
     "output_type": "display_data"
    },
    {
     "data": {
      "text/html": [
       "<div>\n",
       "<style scoped>\n",
       "    .dataframe tbody tr th:only-of-type {\n",
       "        vertical-align: middle;\n",
       "    }\n",
       "\n",
       "    .dataframe tbody tr th {\n",
       "        vertical-align: top;\n",
       "    }\n",
       "\n",
       "    .dataframe thead th {\n",
       "        text-align: right;\n",
       "    }\n",
       "</style>\n",
       "<table border=\"1\" class=\"dataframe\">\n",
       "  <thead>\n",
       "    <tr style=\"text-align: right;\">\n",
       "      <th></th>\n",
       "      <th>totalSpeed</th>\n",
       "      <th>meanSpeed</th>\n",
       "      <th>maxScore</th>\n",
       "    </tr>\n",
       "  </thead>\n",
       "  <tbody>\n",
       "    <tr>\n",
       "      <th>totalSpeed</th>\n",
       "      <td>2328.156</td>\n",
       "      <td>465.6312</td>\n",
       "      <td>479.736</td>\n",
       "    </tr>\n",
       "  </tbody>\n",
       "</table>\n",
       "</div>"
      ],
      "text/plain": [
       "            totalSpeed  meanSpeed  maxScore\n",
       "totalSpeed    2328.156   465.6312   479.736"
      ]
     },
     "metadata": {},
     "output_type": "display_data"
    },
    {
     "data": {
      "text/html": [
       "\n",
       "  <div id=\"e1f7cc6c-0991-43c5-b9e6-1202a86ac95d\" data-root-id=\"p2539\" style=\"display: contents;\"></div>\n"
      ]
     },
     "metadata": {},
     "output_type": "display_data"
    },
    {
     "data": {
      "application/javascript": [
       "(function(root) {\n",
       "  function embed_document(root) {\n",
       "  const docs_json = {\"288173cb-1496-4d0c-b5d2-b79ad7e86450\":{\"version\":\"3.4.1\",\"title\":\"Bokeh Application\",\"roots\":[{\"type\":\"object\",\"name\":\"Figure\",\"id\":\"p2539\",\"attributes\":{\"width\":900,\"height\":500,\"x_range\":{\"type\":\"object\",\"name\":\"Range1d\",\"id\":\"p2549\",\"attributes\":{\"end\":35.0}},\"y_range\":{\"type\":\"object\",\"name\":\"Range1d\",\"id\":\"p2550\",\"attributes\":{\"end\":550.0}},\"x_scale\":{\"type\":\"object\",\"name\":\"LinearScale\",\"id\":\"p2551\"},\"y_scale\":{\"type\":\"object\",\"name\":\"LinearScale\",\"id\":\"p2552\"},\"title\":{\"type\":\"object\",\"name\":\"Title\",\"id\":\"p2542\",\"attributes\":{\"text\":\"All jumps in set\",\"text_color\":\"#E0E0E0\",\"text_font\":\"Helvetica\",\"text_font_size\":\"1.15em\"}},\"outline_line_color\":\"#E0E0E0\",\"outline_line_alpha\":0.25,\"renderers\":[{\"type\":\"object\",\"name\":\"GlyphRenderer\",\"id\":\"p2711\",\"attributes\":{\"data_source\":{\"type\":\"object\",\"name\":\"ColumnDataSource\",\"id\":\"p2705\",\"attributes\":{\"selected\":{\"type\":\"object\",\"name\":\"Selection\",\"id\":\"p2706\",\"attributes\":{\"indices\":[],\"line_indices\":[]}},\"selection_policy\":{\"type\":\"object\",\"name\":\"UnionRenderers\",\"id\":\"p2707\"},\"data\":{\"type\":\"map\",\"entries\":[[\"x\",{\"type\":\"ndarray\",\"array\":{\"type\":\"bytes\",\"data\":\"AAAAAAAAAAAAAAAAmJnJPwAAAACZmdk/AAAAADMz4z8AAACAmZnpPwAAAAAAAPA/AAAAADMz8z8AAABAZmb2PwAAAICZmfk/AAAAwMzM/D8AAAAAAAAAQAAAAICZmQFAAAAAIDMzA0AAAADAzMwEQAAAAGBmZgZAAAAAAAAACEAAAACAmZkJQAAAACAzMwtAAAAAwMzMDEAAAABgZmYOQAAAAAAAABBAAAAAwMzMEEAAAACQmZkRQAAAAGBmZhJAAAAAMDMzE0AAAAAAAAAUQAAAAMDMzBRAAAAAkJmZFUAAAABgZmYWQAAAADAzMxdAAAAAAAAAGEAAAADAzMwYQAAAAJCZmRlAAAAAYGZmGkAAAAAwMzMbQAAAAAAAABxAAAAAwMzMHEAAAACQmZkdQAAAAGBmZh5AAAAAMDMzH0AAAAAAAAAgQAAAAGBmZiBAAAAAyMzMIEAAAAAwMzMhQAAAAJiZmSFAAAAAAAAAIkAAAABgZmYiQAAAAMjMzCJAAAAAMDMzI0AAAACYmZkjQAAAAAAAACRAAAAAYGZmJEAAAADIzMwkQAAAADAzMyVAAAAAmJmZJUAAAAAAAAAmQAAAAGBmZiZAAAAAyMzMJkAAAAAwMzMnQAAAAJiZmSdAAAAAAAAAKEAAAABgZmYoQAAAAMjMzChAAAAAMDMzKUAAAACYmZkpQAAAAAAAACpAAAAAYGZmKkAAAADIzMwqQAAAADAzMytAAAAAmJmZK0AAAAAAAAAsQAAAAGBmZixAAAAAyMzMLEAAAAAwMzMtQAAAAJiZmS1AAAAAAAAALkAAAABgZmYuQAAAAMjMzC5AAAAAMDMzL0AAAACYmZkvQAAAAAAAADBAAAAAMDMzMEAAAABkZmYwQAAAAJiZmTBAAAAAzMzMMEAAAAAAAAAxQAAAADAzMzFAAAAAZGZmMUAAAACYmZkxQAAAAMzMzDFAAAAAAAAAMkAAAAAwMzMyQAAAAGRmZjJAAAAAmJmZMkAAAADMzMwyQAAAAAAAADNAAAAAMDMzM0AAAABkZmYzQAAAAJiZmTNAAAAAzMzMM0AAAAAAAAA0QAAAADAzMzRAAAAAZGZmNEAAAACYmZk0QAAAAMzMzDRAAAAAAAAANUAAAAAwMzM1QAAAAGRmZjVAAAAAmJmZNUAAAADMzMw1QAAAAAAAADZAAAAAMDMzNkAAAABkZmY2QAAAAJiZmTZAAAAAzMzMNkAAAAAAAAA3QAAAADAzMzdAAAAAZGZmN0AAAACYmZk3QAAAAMzMzDdAAAAAAAAAOEAAAAAwMzM4QAAAAGRmZjhAAAAAmJmZOEAAAADMzMw4QA==\"},\"shape\":[125],\"dtype\":\"float64\",\"order\":\"little\"}],[\"y\",{\"type\":\"ndarray\",\"array\":{\"type\":\"bytes\",\"data\":\"SOF6FK5HIUD0/dR46SYsQD4K16NwPS5AEVg5tMj2OkA5tMh2vh89QJzEILByqEFA5tAi2/n+RUC5HoXrUXhJQJQYBFYO7UxAnMQgsHKIUEAhsHJokQ1TQI6XbhKDgFRAnMQgsHIoVkD0/dR46aZXQO58PzVeWllAmpmZmZk5W0CbxCCwcuhcQC2yne+nRl5AYeXQItvZX0AMAiuHFtlgQKjGSzeJoWFAEoPAyqGFYkBbZDvfT31jQOSlm8QgUGRAVeOlm8QwZUD0/dR46fZlQKAaL90ktmZAFK5H4XqUZ0Coxks3iWFoQE5iEFg5JGlA6iYxCKzsaUCiRbbz/aRqQFK4HoXrYWtA+n5qvHQjbEC28/3UeNlsQG3n+6nxkm1ALIcW2c5HbkDO91PjpQtvQKnGSzeJsW9AMN0kBoE1cEAOLbKd749wQPhT46Wb5HBA4XoUrkc5cUBV46WbxIhxQLkehetR4HFALbKd76cuckAGgZVDi4xyQPLSTWIQ4HJAbxKDwMopc0D0/dR46W5zQPYoXI/CtXNAbef7qfECdEB3vp8aL0V0QOxRuB6Fk3RAXI/C9SjkdEBbZDvfTy11QOF6FK5HcXVA2KNwPQq/dUBzaJHtfPd1QHnpJjEIPHZA/tR46SaBdkD0/dR46c52QA4tsp3vB3dAI9v5fmpEd0A830+Nl353QEoMAiuHvndAYxBYObT4d0AIrBxaZCt4QCuHFtnOX3hAUrgeheuReEBWDi2yndd4QPCnxks3EXlAiUFg5dBKeUAzMzMzM3t5QG3n+6nxonlADAIrhxbZeUAnMQisHBJ6QHe+nxovLXpASOF6FK5HekBSuB6F64l6QBSuR+F6rHpA5/up8dLFekAhsHJoke16QNv5fmq8FHtAke18PzU+e0DfT42Xblp7QHNoke18l3tAPN9PjZe2e0AL16NwPdJ7QOF6FK5H6XtAPzVeukn8e0Dwp8ZLNyl8QLbz/dR4SXxA9P3UeOlufEBCYOXQIot8QIlBYOXQqnxA+FPjpZu0fEAPLbKd7+98QBfZzvdT63xAVeOlm8QQfUCe76fGSy99QIgW2c73O31AqvHSTWJwfUA4iUFg5Wh9QH0/NV66iX1A9ihcj8KNfUDqJjEIrJR9QMdLN4lBqH1AuB6F61GwfUAehetRuL59QPyp8dJN0n1ASeF6FK7vfUDYo3A9Cud9QC2yne+n/n1AlUOLbOcLfkCbxCCwcgh+QOomMQisJH5A9ihcj8IdfkBRuB6F6zF+QFtkO99PLX5AaJHtfD8lfkD0/dR46R5+QGU730+NJ35AVzm0yHYufkBFtvP91Dh+QA==\"},\"shape\":[125],\"dtype\":\"float64\",\"order\":\"little\"}]]}}},\"view\":{\"type\":\"object\",\"name\":\"CDSView\",\"id\":\"p2712\",\"attributes\":{\"filter\":{\"type\":\"object\",\"name\":\"AllIndices\",\"id\":\"p2713\"}}},\"glyph\":{\"type\":\"object\",\"name\":\"Line\",\"id\":\"p2708\",\"attributes\":{\"x\":{\"type\":\"field\",\"field\":\"x\"},\"y\":{\"type\":\"field\",\"field\":\"y\"},\"line_color\":\"blue\",\"line_width\":2}},\"nonselection_glyph\":{\"type\":\"object\",\"name\":\"Line\",\"id\":\"p2709\",\"attributes\":{\"x\":{\"type\":\"field\",\"field\":\"x\"},\"y\":{\"type\":\"field\",\"field\":\"y\"},\"line_color\":\"blue\",\"line_alpha\":0.1,\"line_width\":2}},\"muted_glyph\":{\"type\":\"object\",\"name\":\"Line\",\"id\":\"p2710\",\"attributes\":{\"x\":{\"type\":\"field\",\"field\":\"x\"},\"y\":{\"type\":\"field\",\"field\":\"y\"},\"line_color\":\"blue\",\"line_alpha\":0.2,\"line_width\":2}}}},{\"type\":\"object\",\"name\":\"GlyphRenderer\",\"id\":\"p2853\",\"attributes\":{\"data_source\":{\"type\":\"object\",\"name\":\"ColumnDataSource\",\"id\":\"p2847\",\"attributes\":{\"selected\":{\"type\":\"object\",\"name\":\"Selection\",\"id\":\"p2848\",\"attributes\":{\"indices\":[],\"line_indices\":[]}},\"selection_policy\":{\"type\":\"object\",\"name\":\"UnionRenderers\",\"id\":\"p2849\"},\"data\":{\"type\":\"map\",\"entries\":[[\"x\",{\"type\":\"ndarray\",\"array\":{\"type\":\"bytes\",\"data\":\"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\"},\"shape\":[211],\"dtype\":\"float64\",\"order\":\"little\"}],[\"y\",{\"type\":\"ndarray\",\"array\":{\"type\":\"bytes\",\"data\":\"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\"},\"shape\":[211],\"dtype\":\"float64\",\"order\":\"little\"}]]}}},\"view\":{\"type\":\"object\",\"name\":\"CDSView\",\"id\":\"p2854\",\"attributes\":{\"filter\":{\"type\":\"object\",\"name\":\"AllIndices\",\"id\":\"p2855\"}}},\"glyph\":{\"type\":\"object\",\"name\":\"Line\",\"id\":\"p2850\",\"attributes\":{\"x\":{\"type\":\"field\",\"field\":\"x\"},\"y\":{\"type\":\"field\",\"field\":\"y\"},\"line_color\":\"tomato\",\"line_width\":2}},\"nonselection_glyph\":{\"type\":\"object\",\"name\":\"Line\",\"id\":\"p2851\",\"attributes\":{\"x\":{\"type\":\"field\",\"field\":\"x\"},\"y\":{\"type\":\"field\",\"field\":\"y\"},\"line_color\":\"tomato\",\"line_alpha\":0.1,\"line_width\":2}},\"muted_glyph\":{\"type\":\"object\",\"name\":\"Line\",\"id\":\"p2852\",\"attributes\":{\"x\":{\"type\":\"field\",\"field\":\"x\"},\"y\":{\"type\":\"field\",\"field\":\"y\"},\"line_color\":\"tomato\",\"line_alpha\":0.2,\"line_width\":2}}}},{\"type\":\"object\",\"name\":\"GlyphRenderer\",\"id\":\"p2994\",\"attributes\":{\"data_source\":{\"type\":\"object\",\"name\":\"ColumnDataSource\",\"id\":\"p2988\",\"attributes\":{\"selected\":{\"type\":\"object\",\"name\":\"Selection\",\"id\":\"p2989\",\"attributes\":{\"indices\":[],\"line_indices\":[]}},\"selection_policy\":{\"type\":\"object\",\"name\":\"UnionRenderers\",\"id\":\"p2990\"},\"data\":{\"type\":\"map\",\"entries\":[[\"x\",{\"type\":\"ndarray\",\"array\":{\"type\":\"bytes\",\"data\":\"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\"},\"shape\":[206],\"dtype\":\"float64\",\"order\":\"little\"}],[\"y\",{\"type\":\"ndarray\",\"array\":{\"type\":\"bytes\",\"data\":\"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\"},\"shape\":[206],\"dtype\":\"float64\",\"order\":\"little\"}]]}}},\"view\":{\"type\":\"object\",\"name\":\"CDSView\",\"id\":\"p2995\",\"attributes\":{\"filter\":{\"type\":\"object\",\"name\":\"AllIndices\",\"id\":\"p2996\"}}},\"glyph\":{\"type\":\"object\",\"name\":\"Line\",\"id\":\"p2991\",\"attributes\":{\"x\":{\"type\":\"field\",\"field\":\"x\"},\"y\":{\"type\":\"field\",\"field\":\"y\"},\"line_color\":\"turquoise\",\"line_width\":2}},\"nonselection_glyph\":{\"type\":\"object\",\"name\":\"Line\",\"id\":\"p2992\",\"attributes\":{\"x\":{\"type\":\"field\",\"field\":\"x\"},\"y\":{\"type\":\"field\",\"field\":\"y\"},\"line_color\":\"turquoise\",\"line_alpha\":0.1,\"line_width\":2}},\"muted_glyph\":{\"type\":\"object\",\"name\":\"Line\",\"id\":\"p2993\",\"attributes\":{\"x\":{\"type\":\"field\",\"field\":\"x\"},\"y\":{\"type\":\"field\",\"field\":\"y\"},\"line_color\":\"turquoise\",\"line_alpha\":0.2,\"line_width\":2}}}},{\"type\":\"object\",\"name\":\"GlyphRenderer\",\"id\":\"p3135\",\"attributes\":{\"data_source\":{\"type\":\"object\",\"name\":\"ColumnDataSource\",\"id\":\"p3129\",\"attributes\":{\"selected\":{\"type\":\"object\",\"name\":\"Selection\",\"id\":\"p3130\",\"attributes\":{\"indices\":[],\"line_indices\":[]}},\"selection_policy\":{\"type\":\"object\",\"name\":\"UnionRenderers\",\"id\":\"p3131\"},\"data\":{\"type\":\"map\",\"entries\":[[\"x\",{\"type\":\"ndarray\",\"array\":{\"type\":\"bytes\",\"data\":\"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\"},\"shape\":[206],\"dtype\":\"float64\",\"order\":\"little\"}],[\"y\",{\"type\":\"ndarray\",\"array\":{\"type\":\"bytes\",\"data\":\"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\"},\"shape\":[206],\"dtype\":\"float64\",\"order\":\"little\"}]]}}},\"view\":{\"type\":\"object\",\"name\":\"CDSView\",\"id\":\"p3136\",\"attributes\":{\"filter\":{\"type\":\"object\",\"name\":\"AllIndices\",\"id\":\"p3137\"}}},\"glyph\":{\"type\":\"object\",\"name\":\"Line\",\"id\":\"p3132\",\"attributes\":{\"x\":{\"type\":\"field\",\"field\":\"x\"},\"y\":{\"type\":\"field\",\"field\":\"y\"},\"line_color\":\"deepskyblue\",\"line_width\":2}},\"nonselection_glyph\":{\"type\":\"object\",\"name\":\"Line\",\"id\":\"p3133\",\"attributes\":{\"x\":{\"type\":\"field\",\"field\":\"x\"},\"y\":{\"type\":\"field\",\"field\":\"y\"},\"line_color\":\"deepskyblue\",\"line_alpha\":0.1,\"line_width\":2}},\"muted_glyph\":{\"type\":\"object\",\"name\":\"Line\",\"id\":\"p3134\",\"attributes\":{\"x\":{\"type\":\"field\",\"field\":\"x\"},\"y\":{\"type\":\"field\",\"field\":\"y\"},\"line_color\":\"deepskyblue\",\"line_alpha\":0.2,\"line_width\":2}}}},{\"type\":\"object\",\"name\":\"GlyphRenderer\",\"id\":\"p3276\",\"attributes\":{\"data_source\":{\"type\":\"object\",\"name\":\"ColumnDataSource\",\"id\":\"p3270\",\"attributes\":{\"selected\":{\"type\":\"object\",\"name\":\"Selection\",\"id\":\"p3271\",\"attributes\":{\"indices\":[],\"line_indices\":[]}},\"selection_policy\":{\"type\":\"object\",\"name\":\"UnionRenderers\",\"id\":\"p3272\"},\"data\":{\"type\":\"map\",\"entries\":[[\"x\",{\"type\":\"ndarray\",\"array\":{\"type\":\"bytes\",\"data\":\"AAAAAAAAAAAAAAAAmJm5PwAAAACamck/AAAAADMz0z8AAAAAmpnZPwAAAAAAAOA/AAAAADMz4z8AAACAZmbmPwAAAICZmek/AAAAAM3M7D8AAAAAAADwPwAAAICZmfE/AAAAQDMz8z8AAADAzMz0PwAAAIBmZvY/AAAAAAAA+D8AAACAmZn5PwAAAEAzM/s/AAAAwMzM/D8AAACAZmb+PwAAAAAAAABAAAAAwMzMAEAAAACgmZkBQAAAAGBmZgJAAAAAQDMzA0AAAAAAAAAEQAAAAMDMzARAAAAAoJmZBUAAAABgZmYGQAAAAEAzMwdAAAAAAAAACEAAAADAzMwIQAAAAKCZmQlAAAAAYGZmCkAAAABAMzMLQAAAAAAAAAxAAAAAoJmZDUAAAABgZmYOQAAAAAAAABBAAAAAYGZmEEAAAAAwMzMRQAAAAKCZmRFAAAAAAAAAEkAAAABgZmYSQAAAADAzMxNAAAAAoJmZE0AAAABgZmYUQAAAANDMzBRAAAAAMDMzFUAAAACgmZkVQAAAAAAAABZAAAAA0MzMFkAAAAAwMzMXQAAAAKCZmRdAAAAAAAAAGEAAAADQzMwYQAAAADAzMxlAAAAAAAAAGkAAAABgZmYaQAAAANDMzBpAAAAAMDMzG0AAAACgmZkbQAAAAGBmZhxAAAAA0MzMHEAAAAAwMzMdQAAAAKCZmR1AAAAAYGZmHkAAAADQzMweQAAAADAzMx9AAAAAoJmZH0AAAAAwMzMgQAAAAGhmZiBAAAAAmJmZIEAAAAAAAAAhQAAAADAzMyFAAAAAaGZmIUAAAACYmZkhQAAAAAAAACJAAAAAMDMzIkAAAABoZmYiQAAAAJiZmSJAAAAA0MzMIkAAAAAwMzMjQAAAAGhmZiNAAAAAmJmZI0AAAADQzMwjQAAAADAzMyRAAAAAaGZmJEAAAACYmZkkQAAAANDMzCRAAAAAAAAAJUAAAABoZmYlQAAAAJiZmSVAAAAAAAAAJkAAAABoZmYmQAAAAJiZmSZAAAAAAAAAJ0AAAAAwMzMnQAAAAGhmZidAAAAAmJmZJ0AAAADQzMwnQAAAADAzMyhAAAAAaGZmKEAAAACYmZkoQAAAANDMzChAAAAAMDMzKUAAAABoZmYpQAAAAJiZmSlAAAAA0MzMKUAAAAAAAAAqQAAAAGhmZipAAAAAmJmZKkAAAAAAAAArQAAAADAzMytAAAAAaGZmK0AAAACYmZkrQAAAAAAAACxAAAAAMDMzLEAAAABoZmYsQAAAAJiZmSxAAAAA0MzMLEAAAAAwMzMtQAAAAGhmZi1AAAAA0MzMLUAAAAAAAAAuQAAAADAzMy5AAAAAaGZmLkAAAADQzMwuQAAAAAAAAC9AAAAAaGZmL0AAAACYmZkvQAAAANDMzC9AAAAAAAAAMEAAAACYmRkwQAAAAMzMTDBAAAAAaGZmMEAAAAAAAIAwQAAAAJiZmTBAAAAAzMzMMEAAAABoZuYwQAAAAAAAADFAAAAAmJkZMUAAAAA0MzMxQAAAAGhmZjFAAAAAAACAMUAAAACYmZkxQAAAADQzszFAAAAAaGbmMUAAAAAAAAAyQAAAADQzMzJAAAAAzMxMMkAAAABoZmYyQAAAAAAAgDJAAAAAmJmZMkAAAADMzMwyQAAAAGhm5jJAAAAAAAAAM0AAAACYmRkzQAAAAMzMTDNAAAAAaGZmM0AAAACYmZkzQAAAADQzszNAAAAAzMzMM0AAAABoZuYzQAAAAAAAADRAAAAANDMzNEAAAADMzEw0QAAAAAAAgDRAAAAAmJmZNEAAAAA0M7M0QAAAAMzMzDRAAAAAAAAANUAAAACYmRk1QAAAAMzMTDVAAAAAaGZmNUAAAACYmZk1QAAAADQzszVAAAAAzMzMNUAAAABoZuY1QAAAAJiZGTZAAAAANDMzNkAAAADMzEw2QAAAAGhmZjZAAAAAAACANkAAAAA0M7M2QAAAAMzMzDZAAAAAaGbmNkAAAAAAAAA3QAAAADQzMzdAAAAAzMxMN0AAAABoZmY3QAAAAAAAgDdAAAAAmJmZN0AAAADMzMw3QAAAAGhm5jdAAAAAmJkZOEAAAAA0MzM4QAAAAMzMTDhAAAAAaGZmOEAAAACYmZk4QAAAADQzszhAAAAAaGbmOEAAAAAAAAA5QAAAAJiZGTlAAAAANDMzOUAAAADMzEw5QAAAAAAAgDlAAAAAmJmZOUA=\"},\"shape\":[208],\"dtype\":\"float64\",\"order\":\"little\"}],[\"y\",{\"type\":\"ndarray\",\"array\":{\"type\":\"bytes\",\"data\":\"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\"},\"shape\":[208],\"dtype\":\"float64\",\"order\":\"little\"}]]}}},\"view\":{\"type\":\"object\",\"name\":\"CDSView\",\"id\":\"p3277\",\"attributes\":{\"filter\":{\"type\":\"object\",\"name\":\"AllIndices\",\"id\":\"p3278\"}}},\"glyph\":{\"type\":\"object\",\"name\":\"Line\",\"id\":\"p3273\",\"attributes\":{\"x\":{\"type\":\"field\",\"field\":\"x\"},\"y\":{\"type\":\"field\",\"field\":\"y\"},\"line_color\":\"forestgreen\",\"line_width\":2}},\"nonselection_glyph\":{\"type\":\"object\",\"name\":\"Line\",\"id\":\"p3274\",\"attributes\":{\"x\":{\"type\":\"field\",\"field\":\"x\"},\"y\":{\"type\":\"field\",\"field\":\"y\"},\"line_color\":\"forestgreen\",\"line_alpha\":0.1,\"line_width\":2}},\"muted_glyph\":{\"type\":\"object\",\"name\":\"Line\",\"id\":\"p3275\",\"attributes\":{\"x\":{\"type\":\"field\",\"field\":\"x\"},\"y\":{\"type\":\"field\",\"field\":\"y\"},\"line_color\":\"forestgreen\",\"line_alpha\":0.2,\"line_width\":2}}}}],\"toolbar\":{\"type\":\"object\",\"name\":\"Toolbar\",\"id\":\"p2548\",\"attributes\":{\"tools\":[{\"type\":\"object\",\"name\":\"PanTool\",\"id\":\"p2563\"},{\"type\":\"object\",\"name\":\"WheelZoomTool\",\"id\":\"p2564\",\"attributes\":{\"renderers\":\"auto\"}},{\"type\":\"object\",\"name\":\"BoxZoomTool\",\"id\":\"p2565\",\"attributes\":{\"overlay\":{\"type\":\"object\",\"name\":\"BoxAnnotation\",\"id\":\"p2566\",\"attributes\":{\"syncable\":false,\"level\":\"overlay\",\"visible\":false,\"left\":{\"type\":\"number\",\"value\":\"nan\"},\"right\":{\"type\":\"number\",\"value\":\"nan\"},\"top\":{\"type\":\"number\",\"value\":\"nan\"},\"bottom\":{\"type\":\"number\",\"value\":\"nan\"},\"left_units\":\"canvas\",\"right_units\":\"canvas\",\"top_units\":\"canvas\",\"bottom_units\":\"canvas\",\"line_color\":\"black\",\"line_alpha\":1.0,\"line_width\":2,\"line_dash\":[4,4],\"fill_color\":\"lightgrey\",\"fill_alpha\":0.5}}}},{\"type\":\"object\",\"name\":\"SaveTool\",\"id\":\"p2571\"},{\"type\":\"object\",\"name\":\"ResetTool\",\"id\":\"p2572\"},{\"type\":\"object\",\"name\":\"HelpTool\",\"id\":\"p2573\"}]}},\"left\":[{\"type\":\"object\",\"name\":\"LinearAxis\",\"id\":\"p2558\",\"attributes\":{\"ticker\":{\"type\":\"object\",\"name\":\"BasicTicker\",\"id\":\"p2559\",\"attributes\":{\"mantissas\":[1,2,5]}},\"formatter\":{\"type\":\"object\",\"name\":\"BasicTickFormatter\",\"id\":\"p2560\"},\"axis_label\":\"km/h\",\"axis_label_standoff\":10,\"axis_label_text_color\":\"#E0E0E0\",\"axis_label_text_font\":\"Helvetica\",\"axis_label_text_font_size\":\"1.25em\",\"axis_label_text_font_style\":\"normal\",\"major_label_policy\":{\"type\":\"object\",\"name\":\"AllLabels\",\"id\":\"p2561\"},\"major_label_text_color\":\"#E0E0E0\",\"major_label_text_font\":\"Helvetica\",\"major_label_text_font_size\":\"1.025em\",\"axis_line_color\":\"#E0E0E0\",\"axis_line_alpha\":0,\"major_tick_line_color\":\"#E0E0E0\",\"major_tick_line_alpha\":0,\"minor_tick_line_color\":\"#E0E0E0\",\"minor_tick_line_alpha\":0}}],\"below\":[{\"type\":\"object\",\"name\":\"LinearAxis\",\"id\":\"p2553\",\"attributes\":{\"ticker\":{\"type\":\"object\",\"name\":\"BasicTicker\",\"id\":\"p2554\",\"attributes\":{\"mantissas\":[1,2,5]}},\"formatter\":{\"type\":\"object\",\"name\":\"BasicTickFormatter\",\"id\":\"p2555\"},\"axis_label\":\"seconds from exit\",\"axis_label_standoff\":10,\"axis_label_text_color\":\"#E0E0E0\",\"axis_label_text_font\":\"Helvetica\",\"axis_label_text_font_size\":\"1.25em\",\"axis_label_text_font_style\":\"normal\",\"major_label_policy\":{\"type\":\"object\",\"name\":\"AllLabels\",\"id\":\"p2556\"},\"major_label_text_color\":\"#E0E0E0\",\"major_label_text_font\":\"Helvetica\",\"major_label_text_font_size\":\"1.025em\",\"axis_line_color\":\"#E0E0E0\",\"axis_line_alpha\":0,\"major_tick_line_color\":\"#E0E0E0\",\"major_tick_line_alpha\":0,\"minor_tick_line_color\":\"#E0E0E0\",\"minor_tick_line_alpha\":0}}],\"center\":[{\"type\":\"object\",\"name\":\"Grid\",\"id\":\"p2557\",\"attributes\":{\"axis\":{\"id\":\"p2553\"},\"grid_line_color\":\"#E0E0E0\",\"grid_line_alpha\":0.25}},{\"type\":\"object\",\"name\":\"Grid\",\"id\":\"p2562\",\"attributes\":{\"dimension\":1,\"axis\":{\"id\":\"p2558\"},\"grid_line_color\":\"#E0E0E0\",\"grid_line_alpha\":0.25}},{\"type\":\"object\",\"name\":\"Legend\",\"id\":\"p2714\",\"attributes\":{\"border_line_alpha\":0,\"background_fill_color\":\"#20262B\",\"background_fill_alpha\":0.25,\"label_text_color\":\"#E0E0E0\",\"label_text_font\":\"Helvetica\",\"label_text_font_size\":\"1.025em\",\"label_standoff\":8,\"glyph_width\":15,\"spacing\":8,\"items\":[{\"type\":\"object\",\"name\":\"LegendItem\",\"id\":\"p2715\",\"attributes\":{\"label\":{\"type\":\"value\",\"value\":\"01-00-TJ-BASELINE - 479.74\"},\"renderers\":[{\"id\":\"p2711\"}]}},{\"type\":\"object\",\"name\":\"LegendItem\",\"id\":\"p2856\",\"attributes\":{\"label\":{\"type\":\"value\",\"value\":\"10-53-19 - 458.50\"},\"renderers\":[{\"id\":\"p2853\"}]}},{\"type\":\"object\",\"name\":\"LegendItem\",\"id\":\"p2997\",\"attributes\":{\"label\":{\"type\":\"value\",\"value\":\"11-38-43 - 457.34\"},\"renderers\":[{\"id\":\"p2994\"}]}},{\"type\":\"object\",\"name\":\"LegendItem\",\"id\":\"p3138\",\"attributes\":{\"label\":{\"type\":\"value\",\"value\":\"12-55-39 - 472.45\"},\"renderers\":[{\"id\":\"p3135\"}]}},{\"type\":\"object\",\"name\":\"LegendItem\",\"id\":\"p3279\",\"attributes\":{\"label\":{\"type\":\"value\",\"value\":\"13-45-34 - 460.13\"},\"renderers\":[{\"id\":\"p3276\"}]}}]}}],\"background_fill_color\":\"#20262B\",\"border_fill_color\":\"#15191C\"}}]}};\n",
       "  const render_items = [{\"docid\":\"288173cb-1496-4d0c-b5d2-b79ad7e86450\",\"roots\":{\"p2539\":\"e1f7cc6c-0991-43c5-b9e6-1202a86ac95d\"},\"root_ids\":[\"p2539\"]}];\n",
       "  void root.Bokeh.embed.embed_items_notebook(docs_json, render_items);\n",
       "  }\n",
       "  if (root.Bokeh !== undefined) {\n",
       "    embed_document(root);\n",
       "  } else {\n",
       "    let attempts = 0;\n",
       "    const timer = setInterval(function(root) {\n",
       "      if (root.Bokeh !== undefined) {\n",
       "        clearInterval(timer);\n",
       "        embed_document(root);\n",
       "      } else {\n",
       "        attempts++;\n",
       "        if (attempts > 100) {\n",
       "          clearInterval(timer);\n",
       "          console.log(\"Bokeh: ERROR: Unable to run BokehJS code because BokehJS library is missing\");\n",
       "        }\n",
       "      }\n",
       "    }, 10, root)\n",
       "  }\n",
       "})(window);"
      ],
      "application/vnd.bokehjs_exec.v0+json": ""
     },
     "metadata": {
      "application/vnd.bokehjs_exec.v0+json": {
       "id": "p2539"
      }
     },
     "output_type": "display_data"
    }
   ],
   "source": [
    "display(roundedResults)\n",
    "display(sumResults)\n",
    "bp.show(allJumpsPlot)"
   ]
  }
 ],
 "metadata": {
  "kernelspec": {
   "display_name": "Python 3 (ipykernel)",
   "language": "python",
   "name": "python3"
  },
  "language_info": {
   "codemirror_mode": {
    "name": "ipython",
    "version": 3
   },
   "file_extension": ".py",
   "mimetype": "text/x-python",
   "name": "python",
   "nbconvert_exporter": "python",
   "pygments_lexer": "ipython3",
   "version": "3.11.9"
  }
 },
 "nbformat": 4,
 "nbformat_minor": 5
}
