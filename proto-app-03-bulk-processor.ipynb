{
 "cells": [
  {
   "cell_type": "markdown",
   "id": "36a745d9-2003-496e-a394-290f63a970b7",
   "metadata": {},
   "source": [
    "# Speed Skydiving scoring bulk files processor\n",
    "Uses the `./data` directory as a data lake.  It finds all valid FlySight files in that directory, from 0 to as many as it finds and fit in memory, and process them all.  Summary of \"all files\" or \"all jumps\" at the bottom of the document."
   ]
  },
  {
   "cell_type": "code",
   "execution_count": 67,
   "id": "7619c1b4-c552-4bec-8d38-ce895845d8df",
   "metadata": {
    "jupyter": {
     "source_hidden": true
    }
   },
   "outputs": [],
   "source": [
    "%%capture\n",
    "!make local"
   ]
  },
  {
   "cell_type": "code",
   "execution_count": 68,
   "id": "98c7a164-9492-4672-904b-5bf3abf61773",
   "metadata": {
    "jupyter": {
     "source_hidden": true
    }
   },
   "outputs": [],
   "source": [
    "from collections import namedtuple\n",
    "from copy import deepcopy\n",
    "\n",
    "from ssscoring.calc import aggregateResults\n",
    "from ssscoring.calc import convertFlySight2SSScoring\n",
    "from ssscoring.calc import dropNonSkydiveDataFrom\n",
    "from ssscoring.calc import getSpeedSkydiveFrom\n",
    "from ssscoring.calc import isValidJump\n",
    "from ssscoring.calc import isValidMinimumAltitude\n",
    "from ssscoring.calc import jumpAnalysisTable\n",
    "from ssscoring.calc import processAllJumpFiles\n",
    "from ssscoring.calc import roundedAggregateResults\n",
    "from ssscoring.calc import totalResultsFrom\n",
    "from ssscoring.constants import BREAKOFF_ALTITUDE\n",
    "from ssscoring.constants import FT_IN_M\n",
    "from ssscoring.constants import PERFORMANCE_WINDOW_LENGTH\n",
    "from ssscoring.flysight import getAllSpeedJumpFilesFrom\n",
    "from ssscoring.flysight import validFlySightHeaderIn\n",
    "from ssscoring.notebook import SPEED_COLORS\n",
    "from ssscoring.notebook import graphAltitude\n",
    "from ssscoring.notebook import graphAngle\n",
    "from ssscoring.notebook import graphJumpResult\n",
    "from ssscoring.notebook import initializeExtraYRanges\n",
    "from ssscoring.notebook import initializePlot\n",
    "\n",
    "import csv\n",
    "import os\n",
    "import os.path as path\n",
    "\n",
    "import bokeh.plotting as bp\n",
    "import bokeh.models as bm\n",
    "import ipywidgets as widgets\n",
    "import pandas as pd"
   ]
  },
  {
   "cell_type": "code",
   "execution_count": 69,
   "id": "ef1d2bf0-eaf3-4d78-b6c0-fb1bb4ed10f1",
   "metadata": {},
   "outputs": [],
   "source": [
    "DATA_LAKE_ROOT = './data'"
   ]
  },
  {
   "cell_type": "markdown",
   "id": "d52db03d-d83b-4af3-9137-3011537e5ed8",
   "metadata": {},
   "source": [
    "---\n",
    "## <span style=\"color: yellow\">IMPORTANT</span> - Set the drop zone altitude MSL\n",
    "\n",
    "Set the value in ft (even though SSScoring uses meters) out of convenience because all DZs in the US, many in Asia and Mexico, and many in Europe express the altitude in feet.\n",
    "\n",
    "### Some DZs\n",
    "\n",
    "| Drop zone | Alt (ft) |\n",
    "|-----------|----------|\n",
    "| Bay Area Skydiving | 23 |\n",
    "| Paraclete XP| 304 |\n",
    "| SkyDance SkyDiving | 100 |\n",
    "| Skydive Arizona | 1509 |\n",
    "| Skydive Chicago | 616 |\n",
    "| Thai Sky Adventures | 21 |"
   ]
  },
  {
   "cell_type": "code",
   "execution_count": 70,
   "id": "5c95013a-4aa3-4a5e-9493-b945ead10ced",
   "metadata": {},
   "outputs": [],
   "source": [
    "dropZoneAltMSL = 616\n",
    "ignoreBaseline = False # Set to False to evaluate any baseline tracks present in the data lake."
   ]
  },
  {
   "cell_type": "code",
   "execution_count": 71,
   "id": "1f091813-03b0-45bc-a30e-704fac7f968a",
   "metadata": {
    "jupyter": {
     "source_hidden": true
    }
   },
   "outputs": [
    {
     "data": {
      "application/vnd.jupyter.widget-view+json": {
       "model_id": "f3d32029fb334f458169079349986c33",
       "version_major": 2,
       "version_minor": 0
      },
      "text/plain": [
       "HTML(value='<h2>DZ Altitude = <span style = \"color: green\"> 616.00 ft</span> ( 187.76 m)<h1>')"
      ]
     },
     "metadata": {},
     "output_type": "display_data"
    }
   ],
   "source": [
    "dropZoneAltMSLMeters = dropZoneAltMSL/FT_IN_M\n",
    "display(widgets.HTML('<h2>DZ Altitude = <span style = \"color: green\">%7.2f ft</span> (%7.2f m)<h1>' % (dropZoneAltMSL, dropZoneAltMSLMeters)))"
   ]
  },
  {
   "cell_type": "code",
   "execution_count": 72,
   "id": "b1273b5c-44c1-46c2-a125-d01ad9268a1a",
   "metadata": {},
   "outputs": [],
   "source": [
    "jumpFiles = getAllSpeedJumpFilesFrom(DATA_LAKE_ROOT)"
   ]
  },
  {
   "cell_type": "code",
   "execution_count": 73,
   "id": "53a5fe5a-dd39-40d3-bfbf-d7048374e4ea",
   "metadata": {
    "jupyter": {
     "source_hidden": true
    }
   },
   "outputs": [],
   "source": [
    "%%capture warnings\n",
    "jumpResults = processAllJumpFiles(jumpFiles, altitudeDZMeters = dropZoneAltMSLMeters)"
   ]
  },
  {
   "cell_type": "markdown",
   "id": "797ab0ec-d5e0-4a3b-aa57-eee431bb9824",
   "metadata": {},
   "source": [
    "### Air density\n",
    "\n",
    "**<a href='https://aviex.goflexair.com/blog/density-of-air-air-density' target='_blank'>Pilot's Guide to Air Density</a>** - A useful guide with calculations, lots of information.\n",
    "\n",
    "![](https://ciurana.eu/personal/air-density-partial-table.png)"
   ]
  },
  {
   "cell_type": "markdown",
   "id": "d80518ef-f197-4e40-a74e-8089eecb725a",
   "metadata": {},
   "source": [
    "---\n",
    "## Results"
   ]
  },
  {
   "cell_type": "code",
   "execution_count": 74,
   "id": "27c12cb1-2f60-44c9-b8fa-998b3df9d878",
   "metadata": {},
   "outputs": [
    {
     "data": {
      "text/html": [
       "<div>\n",
       "<style scoped>\n",
       "    .dataframe tbody tr th:only-of-type {\n",
       "        vertical-align: middle;\n",
       "    }\n",
       "\n",
       "    .dataframe tbody tr th {\n",
       "        vertical-align: top;\n",
       "    }\n",
       "\n",
       "    .dataframe thead th {\n",
       "        text-align: right;\n",
       "    }\n",
       "</style>\n",
       "<table border=\"1\" class=\"dataframe\">\n",
       "  <thead>\n",
       "    <tr style=\"text-align: right;\">\n",
       "      <th></th>\n",
       "      <th>score</th>\n",
       "      <th>5.0</th>\n",
       "      <th>10.0</th>\n",
       "      <th>15.0</th>\n",
       "      <th>20.0</th>\n",
       "      <th>25.0</th>\n",
       "      <th>finalTime</th>\n",
       "      <th>maxSpeed</th>\n",
       "    </tr>\n",
       "  </thead>\n",
       "  <tbody>\n",
       "    <tr>\n",
       "      <th>data 00-00-00-baseline-10-50-09:v1</th>\n",
       "      <td>493.77</td>\n",
       "      <td>182.556</td>\n",
       "      <td>332.892</td>\n",
       "      <td>431.028</td>\n",
       "      <td>482.184</td>\n",
       "      <td>493.848</td>\n",
       "      <td>24.2</td>\n",
       "      <td>495.108</td>\n",
       "    </tr>\n",
       "    <tr>\n",
       "      <th>data R8_16-07-35:v1</th>\n",
       "      <td>488.06</td>\n",
       "      <td>182.952</td>\n",
       "      <td>328.392</td>\n",
       "      <td>428.220</td>\n",
       "      <td>476.316</td>\n",
       "      <td>488.592</td>\n",
       "      <td>24.2</td>\n",
       "      <td>488.952</td>\n",
       "    </tr>\n",
       "  </tbody>\n",
       "</table>\n",
       "</div>"
      ],
      "text/plain": [
       "                                     score      5.0     10.0     15.0  \\\n",
       "data 00-00-00-baseline-10-50-09:v1  493.77  182.556  332.892  431.028   \n",
       "data R8_16-07-35:v1                 488.06  182.952  328.392  428.220   \n",
       "\n",
       "                                       20.0     25.0  finalTime  maxSpeed  \n",
       "data 00-00-00-baseline-10-50-09:v1  482.184  493.848       24.2   495.108  \n",
       "data R8_16-07-35:v1                 476.316  488.592       24.2   488.952  "
      ]
     },
     "metadata": {},
     "output_type": "display_data"
    }
   ],
   "source": [
    "aggregate = aggregateResults(jumpResults)\n",
    "if ignoreBaseline:\n",
    "    aggregate = aggregate[~aggregate.index.str.contains('baseline')]\n",
    "sumResults = totalResultsFrom(aggregate)\n",
    "display(aggregate)"
   ]
  },
  {
   "cell_type": "markdown",
   "id": "3fa8c207-b9cf-4275-ba37-5103e1b324a9",
   "metadata": {},
   "source": [
    "### Rounded results for training log"
   ]
  },
  {
   "cell_type": "code",
   "execution_count": 75,
   "id": "e2bfbc21-3121-436a-904f-547edb0f2d0c",
   "metadata": {},
   "outputs": [],
   "source": [
    "roundedResults = roundedAggregateResults(aggregate)"
   ]
  },
  {
   "cell_type": "markdown",
   "id": "faf1396d-1030-477e-9d87-5c167b61328f",
   "metadata": {},
   "source": [
    "### All jumps"
   ]
  },
  {
   "cell_type": "code",
   "execution_count": 76,
   "id": "5a0571fd-5a22-4dda-94aa-56a4f2c68098",
   "metadata": {
    "jupyter": {
     "source_hidden": true
    }
   },
   "outputs": [],
   "source": [
    "def dumpSimple(table: pd.DataFrame):\n",
    "    fileName = os.path.join(DATA_LAKE_ROOT, resultRef+'.tsv')\n",
    "    simpleTable = table.copy()\n",
    "    simpleTable = simpleTable.drop('speedAngle', axis = 1)\n",
    "    simpleTable.to_csv(fileName, sep = '\\t', index = False)"
   ]
  },
  {
   "cell_type": "code",
   "execution_count": 77,
   "id": "59ff50f6-4f29-4282-a55f-af524921af19",
   "metadata": {
    "jupyter": {
     "source_hidden": true
    }
   },
   "outputs": [],
   "source": [
    "def displayJumpDataIn(resultsTable: pd.DataFrame):\n",
    "    table = resultsTable.copy()\n",
    "    # Experimental\n",
    "    # For more information on the `interpolate` method and its options, see the [pandas documentation](https://pandas.pydata.org/pandas-docs/stable/reference/api/pandas.Series.interpolate.html).\n",
    "    # Additionally, you can also consider using other libraries like `scipy` which provides more advanced interpolation methods, such as `interp1d` or `griddata`. See the [scipy documentation](https://docs.scipy.org/doc/scipy/reference/interpolate.html) for more information.\n",
    "    table.vKMh = table.vKMh.apply(round)\n",
    "    table.hKMh = table.hKMh.apply(round)\n",
    "    table['altitude (ft)'] = table['altitude (ft)'].apply(round)\n",
    "    table.netVectorKMh = table.netVectorKMh.apply(round)\n",
    "    table.index = ['']*len(table)\n",
    "    display(table)\n",
    "    # dumpSimple(table)"
   ]
  },
  {
   "cell_type": "code",
   "execution_count": 78,
   "id": "fe6156be-7071-47a7-bb7f-9724f6d4a3ac",
   "metadata": {
    "jupyter": {
     "source_hidden": true
    }
   },
   "outputs": [
    {
     "data": {
      "application/vnd.jupyter.widget-view+json": {
       "model_id": "80fe9e78213c48e8b3f05b56f2397abf",
       "version_major": 2,
       "version_minor": 0
      },
      "text/plain": [
       "HTML(value='<hr><h1><span style=\"color: #0f0\">data 00-00-00-baseline-10-50-09:v1 jump - 🟢 valid - score = 493.…"
      ]
     },
     "metadata": {},
     "output_type": "display_data"
    },
    {
     "data": {
      "application/vnd.jupyter.widget-view+json": {
       "model_id": "9beaad74c55d49dc9b978a2505e34139",
       "version_major": 2,
       "version_minor": 0
      },
      "text/plain": [
       "HTML(value='<h3>Max speed = 495; exit at 4053 m (13300 ft), end scoring window at 1797 m (5898 ft)')"
      ]
     },
     "metadata": {},
     "output_type": "display_data"
    },
    {
     "data": {
      "application/vnd.jupyter.widget-view+json": {
       "model_id": "68ec9a4a970e4a7fa759515cf4efc24e",
       "version_major": 2,
       "version_minor": 0
      },
      "text/plain": [
       "HTML(value='</h3>')"
      ]
     },
     "metadata": {},
     "output_type": "display_data"
    },
    {
     "data": {
      "text/html": [
       "<div>\n",
       "<style scoped>\n",
       "    .dataframe tbody tr th:only-of-type {\n",
       "        vertical-align: middle;\n",
       "    }\n",
       "\n",
       "    .dataframe tbody tr th {\n",
       "        vertical-align: top;\n",
       "    }\n",
       "\n",
       "    .dataframe thead th {\n",
       "        text-align: right;\n",
       "    }\n",
       "</style>\n",
       "<table border=\"1\" class=\"dataframe\">\n",
       "  <thead>\n",
       "    <tr style=\"text-align: right;\">\n",
       "      <th></th>\n",
       "      <th>time</th>\n",
       "      <th>vKMh</th>\n",
       "      <th>hKMh</th>\n",
       "      <th>speedAngle</th>\n",
       "      <th>distanceFromExit (m)</th>\n",
       "      <th>altitude (ft)</th>\n",
       "      <th>netVectorKMh</th>\n",
       "    </tr>\n",
       "  </thead>\n",
       "  <tbody>\n",
       "    <tr>\n",
       "      <th></th>\n",
       "      <td>5.0</td>\n",
       "      <td>183</td>\n",
       "      <td>154</td>\n",
       "      <td>49.91</td>\n",
       "      <td>252.04</td>\n",
       "      <td>12869</td>\n",
       "      <td>239</td>\n",
       "    </tr>\n",
       "    <tr>\n",
       "      <th></th>\n",
       "      <td>10.0</td>\n",
       "      <td>333</td>\n",
       "      <td>109</td>\n",
       "      <td>71.91</td>\n",
       "      <td>432.42</td>\n",
       "      <td>11642</td>\n",
       "      <td>350</td>\n",
       "    </tr>\n",
       "    <tr>\n",
       "      <th></th>\n",
       "      <td>15.0</td>\n",
       "      <td>431</td>\n",
       "      <td>62</td>\n",
       "      <td>81.86</td>\n",
       "      <td>547.29</td>\n",
       "      <td>9912</td>\n",
       "      <td>435</td>\n",
       "    </tr>\n",
       "    <tr>\n",
       "      <th></th>\n",
       "      <td>20.0</td>\n",
       "      <td>482</td>\n",
       "      <td>14</td>\n",
       "      <td>88.29</td>\n",
       "      <td>593.79</td>\n",
       "      <td>7809</td>\n",
       "      <td>482</td>\n",
       "    </tr>\n",
       "    <tr>\n",
       "      <th></th>\n",
       "      <td>25.0</td>\n",
       "      <td>494</td>\n",
       "      <td>9</td>\n",
       "      <td>88.91</td>\n",
       "      <td>590.15</td>\n",
       "      <td>5926</td>\n",
       "      <td>494</td>\n",
       "    </tr>\n",
       "  </tbody>\n",
       "</table>\n",
       "</div>"
      ],
      "text/plain": [
       "  time  vKMh  hKMh  speedAngle  distanceFromExit (m)  altitude (ft)  \\\n",
       "   5.0   183   154       49.91                252.04          12869   \n",
       "  10.0   333   109       71.91                432.42          11642   \n",
       "  15.0   431    62       81.86                547.29           9912   \n",
       "  20.0   482    14       88.29                593.79           7809   \n",
       "  25.0   494     9       88.91                590.15           5926   \n",
       "\n",
       "  netVectorKMh  \n",
       "           239  \n",
       "           350  \n",
       "           435  \n",
       "           482  \n",
       "           494  "
      ]
     },
     "metadata": {},
     "output_type": "display_data"
    },
    {
     "data": {
      "text/html": [
       "\n",
       "  <div id=\"a126d843-8ed0-41d2-88a6-dd92a833113a\" data-root-id=\"p3838\" style=\"display: contents;\"></div>\n"
      ]
     },
     "metadata": {},
     "output_type": "display_data"
    },
    {
     "data": {
      "application/javascript": [
       "(function(root) {\n",
       "  function embed_document(root) {\n",
       "  const docs_json = {\"14f009a9-d58d-4822-b23b-00435a52cf63\":{\"version\":\"3.5.2\",\"title\":\"Bokeh Application\",\"roots\":[{\"type\":\"object\",\"name\":\"Figure\",\"id\":\"p3838\",\"attributes\":{\"width\":900,\"height\":500,\"x_range\":{\"type\":\"object\",\"name\":\"Range1d\",\"id\":\"p3848\",\"attributes\":{\"end\":35.0}},\"y_range\":{\"type\":\"object\",\"name\":\"Range1d\",\"id\":\"p3849\",\"attributes\":{\"end\":550.0}},\"x_scale\":{\"type\":\"object\",\"name\":\"LinearScale\",\"id\":\"p3850\"},\"y_scale\":{\"type\":\"object\",\"name\":\"LinearScale\",\"id\":\"p3851\"},\"extra_y_ranges\":{\"type\":\"map\",\"entries\":[[\"altitudeFt\",{\"type\":\"object\",\"name\":\"Range1d\",\"id\":\"p3875\",\"attributes\":{\"start\":5426.40732,\"end\":13800.0086008}}],[\"angle\",{\"type\":\"object\",\"name\":\"Range1d\",\"id\":\"p3876\",\"attributes\":{\"end\":90.0}}]]},\"title\":{\"type\":\"object\",\"name\":\"Title\",\"id\":\"p3841\",\"attributes\":{\"text\":\"data 00-00-00-baseline-10-50-09:v1\",\"text_color\":\"#E0E0E0\",\"text_font\":\"Helvetica\",\"text_font_size\":\"1.15em\"}},\"outline_line_color\":\"#E0E0E0\",\"outline_line_alpha\":0.25,\"renderers\":[{\"type\":\"object\",\"name\":\"GlyphRenderer\",\"id\":\"p3891\",\"attributes\":{\"y_range_name\":\"altitudeFt\",\"data_source\":{\"type\":\"object\",\"name\":\"ColumnDataSource\",\"id\":\"p3885\",\"attributes\":{\"selected\":{\"type\":\"object\",\"name\":\"Selection\",\"id\":\"p3886\",\"attributes\":{\"indices\":[],\"line_indices\":[]}},\"selection_policy\":{\"type\":\"object\",\"name\":\"UnionRenderers\",\"id\":\"p3887\"},\"data\":{\"type\":\"map\",\"entries\":[[\"x\",{\"type\":\"ndarray\",\"array\":{\"type\":\"bytes\",\"data\":\"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\"},\"shape\":[199],\"dtype\":\"float64\",\"order\":\"little\"}],[\"y\",{\"type\":\"ndarray\",\"array\":{\"type\":\"bytes\",\"data\":\"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\"},\"shape\":[199],\"dtype\":\"float64\",\"order\":\"little\"}]]}}},\"view\":{\"type\":\"object\",\"name\":\"CDSView\",\"id\":\"p3892\",\"attributes\":{\"filter\":{\"type\":\"object\",\"name\":\"AllIndices\",\"id\":\"p3893\"}}},\"glyph\":{\"type\":\"object\",\"name\":\"Line\",\"id\":\"p3888\",\"attributes\":{\"x\":{\"type\":\"field\",\"field\":\"x\"},\"y\":{\"type\":\"field\",\"field\":\"y\"},\"line_color\":\"palegoldenrod\",\"line_width\":2}},\"nonselection_glyph\":{\"type\":\"object\",\"name\":\"Line\",\"id\":\"p3889\",\"attributes\":{\"x\":{\"type\":\"field\",\"field\":\"x\"},\"y\":{\"type\":\"field\",\"field\":\"y\"},\"line_color\":\"palegoldenrod\",\"line_alpha\":0.1,\"line_width\":2}},\"muted_glyph\":{\"type\":\"object\",\"name\":\"Line\",\"id\":\"p3890\",\"attributes\":{\"x\":{\"type\":\"field\",\"field\":\"x\"},\"y\":{\"type\":\"field\",\"field\":\"y\"},\"line_color\":\"palegoldenrod\",\"line_alpha\":0.2,\"line_width\":2}}}},{\"type\":\"object\",\"name\":\"GlyphRenderer\",\"id\":\"p3902\",\"attributes\":{\"y_range_name\":\"angle\",\"data_source\":{\"type\":\"object\",\"name\":\"ColumnDataSource\",\"id\":\"p3896\",\"attributes\":{\"selected\":{\"type\":\"object\",\"name\":\"Selection\",\"id\":\"p3897\",\"attributes\":{\"indices\":[],\"line_indices\":[]}},\"selection_policy\":{\"type\":\"object\",\"name\":\"UnionRenderers\",\"id\":\"p3898\"},\"data\":{\"type\":\"map\",\"entries\":[[\"x\",{\"type\":\"ndarray\",\"array\":{\"type\":\"bytes\",\"data\":\"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\"},\"shape\":[199],\"dtype\":\"float64\",\"order\":\"little\"}],[\"y\",{\"type\":\"ndarray\",\"array\":{\"type\":\"bytes\",\"data\":\"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\"},\"shape\":[199],\"dtype\":\"float64\",\"order\":\"little\"}]]}}},\"view\":{\"type\":\"object\",\"name\":\"CDSView\",\"id\":\"p3903\",\"attributes\":{\"filter\":{\"type\":\"object\",\"name\":\"AllIndices\",\"id\":\"p3904\"}}},\"glyph\":{\"type\":\"object\",\"name\":\"Line\",\"id\":\"p3899\",\"attributes\":{\"x\":{\"type\":\"field\",\"field\":\"x\"},\"y\":{\"type\":\"field\",\"field\":\"y\"},\"line_color\":\"deepskyblue\",\"line_width\":2}},\"nonselection_glyph\":{\"type\":\"object\",\"name\":\"Line\",\"id\":\"p3900\",\"attributes\":{\"x\":{\"type\":\"field\",\"field\":\"x\"},\"y\":{\"type\":\"field\",\"field\":\"y\"},\"line_color\":\"deepskyblue\",\"line_alpha\":0.1,\"line_width\":2}},\"muted_glyph\":{\"type\":\"object\",\"name\":\"Line\",\"id\":\"p3901\",\"attributes\":{\"x\":{\"type\":\"field\",\"field\":\"x\"},\"y\":{\"type\":\"field\",\"field\":\"y\"},\"line_color\":\"deepskyblue\",\"line_alpha\":0.2,\"line_width\":2}}}},{\"type\":\"object\",\"name\":\"GlyphRenderer\",\"id\":\"p3913\",\"attributes\":{\"data_source\":{\"type\":\"object\",\"name\":\"ColumnDataSource\",\"id\":\"p3907\",\"attributes\":{\"selected\":{\"type\":\"object\",\"name\":\"Selection\",\"id\":\"p3908\",\"attributes\":{\"indices\":[],\"line_indices\":[]}},\"selection_policy\":{\"type\":\"object\",\"name\":\"UnionRenderers\",\"id\":\"p3909\"},\"data\":{\"type\":\"map\",\"entries\":[[\"x\",{\"type\":\"ndarray\",\"array\":{\"type\":\"bytes\",\"data\":\"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\"},\"shape\":[199],\"dtype\":\"float64\",\"order\":\"little\"}],[\"y\",{\"type\":\"ndarray\",\"array\":{\"type\":\"bytes\",\"data\":\"LbKd76fGGUAyCKwcWmQfQFK4HoXrUSZA0SLb+X5qKUDy0k1iEFgwQFtkO99PDTRAFK5H4XqUN0CuR+F6FC47QNz5fmq8dD5A001iEFj5QEDqJjEIrJxCQAAAAAAAgEZAUI2XbhIDSEAMAiuHFtlJQKjGSzeJwUtAXI/C9SicTUDO91PjpZtPQPhT46Wb5FBAqMZLN4mhUUAnMQisHHpSQIlBYOXQYlNAMQisHFpEVUCsHFpkOx9WQObQItv5HldAne+nxkv3WEAEVg4tst1ZQGdmZmZm5ltAuB6F61HYXECVQ4ts55teQAAAAAAAgF9AJQaBlUM7YEBxPQrXo6BgQJHtfD81HmFA2KNwPQqHYUACK4cW2f5hQD4K16NwbWJAc2iR7XzfYkCq8dJNYlBjQB1aZDvfL2RATDeJQWClZECJQWDl0BJlQLkehetRiGVA9ihcj8L1ZUAzMzMzM2NmQG8Sg8DK0WZAokW28/1EZ0DqJjEIrKxnQGQ730+Nh2hAuR6F61HoaED4U+Olm1RpQDzfT42XvmlAj8L1KFwfakDLoUW2841qQAvXo3A9+mpAcT0K16NQa0Cd76fGS8drQD4K16NwjWxAc2iR7Xz/bEC7SQwCK2dtQC/dJAaBtW1Abef7qfEibkC8dJMYBIZuQBFYObTI5m5AZ2ZmZmZGb0Cyne+nxqtvQLTIdr6fMnBAZ2ZmZmZecECJQWDl0JJwQHNoke1853BAJQaBlUMTcUDP91PjpUNxQAvXo3A9anFA30+Nl27KcUAOLbKd7/dxQO58PzVeUnJAokW28/18ckBQjZduEqtyQPyp8dJN2nJALbKd76cGc0DqJjEIrCxzQBfZzvdTW3NAPgrXo3DVc0BnZmZmZgZ0QJ3vp8ZLL3RASgwCK4dedECF61G4HoV0QIPAyqFFznRAObTIdr73dEDy0k1iECB1QDZeukkMQnVA8tJNYhBodUB1kxgEVq51QHnpJjEI9HVAv58aL90UdkD2KFyPwj12QDMzMzMzY3ZAqvHSTWKwdkDb+X5qvNx2QJZDi2znA3dAWDm0yHYmd0AfhetRuEZ3QCGwcmiRjXdA6iYxCKysd0AEVg4tsuV3QMl2vp8aB3hA0SLb+X5KeEAlBoGVQ2N4QKRwPQrXq3hA7FG4HoXLeEC0yHa+n+p4QBSuR+F6/HhADi2yne9HeUBkO99PjV95QDMzMzMze3lAUI2XbhKzeUAX2c73U9N5QLByaJHtDHpAWDm0yHY+ekCDwMqhRW56QE5iEFg5jHpAJzEIrByiekD6fmq8dLt6QMdLN4lB2HpAnMQgsHLwekDJdr6fGh97QKabxCCwMntAf2q8dJNIe0DNzMzMzGR7QDDdJAaBdXtABFYOLbKNe0BWDi2ynad7QC2yne+nvntAmpmZmZnJe0Bpke18P+V7QMdLN4lB+HtAqMZLN4kJfECIFtnO9xt8QObQItv5LnxASgwCK4c+fEB/arx0k2h8QGHl0CLbeXxAPgrXo3CNfEARWDm0yKZ8QPT91HjptnxA2c73U+PFfECIFtnO9/N8QFtkO99PDX1Asp3vp8YjfUAIrBxaZDt9QOtRuB6FS31AUbgehetZfUCsHFpkO299QBFYObTIfn1ABVYOLbKFfUBPYhBYOaR9QC2yne+ntn1AFa5H4XrEfUB8FK5H4dJ9QHaTGARW1n1AYhBYObTgfUBPYhBYOex9QESLbOf78X1AqvHSTWIAfkAIrBxaZBN+QG3n+6nxIn5A2KNwPQovfkCvR+F6FEZ+QIlBYOXQWn5Ad76fGi9lfkD5U+Olm2R+QGIQWDm0cH5A4noUrkdxfkBV46WbxHh+QDIIrBxajH5AoUW28/2UfkCF61G4HqV+QG3n+6nxsn5A3Pl+ary8fkBPYhBYOcR+QDiJQWDl0H5Anu+nxkvffkCYbhKDwOJ+QJqZmZmZ4X5AEoPAyqHlfkAMAiuHFul+QJLtfD815n5AiBbZzvfrfkB9PzVeuvF+QIgW2c73635Aku18PzXmfkCPwvUoXOd+QKFFtvP93H5AJAaBlUPbfkCbxCCwcuB+QKAaL90k3n5AqcZLN4nZfkChRbbz/dx+QKabxCCw2n5AIbByaJHdfkA=\"},\"shape\":[199],\"dtype\":\"float64\",\"order\":\"little\"}]]}}},\"view\":{\"type\":\"object\",\"name\":\"CDSView\",\"id\":\"p3914\",\"attributes\":{\"filter\":{\"type\":\"object\",\"name\":\"AllIndices\",\"id\":\"p3915\"}}},\"glyph\":{\"type\":\"object\",\"name\":\"Line\",\"id\":\"p3910\",\"attributes\":{\"x\":{\"type\":\"field\",\"field\":\"x\"},\"y\":{\"type\":\"field\",\"field\":\"y\"},\"line_color\":\"limegreen\",\"line_width\":2}},\"nonselection_glyph\":{\"type\":\"object\",\"name\":\"Line\",\"id\":\"p3911\",\"attributes\":{\"x\":{\"type\":\"field\",\"field\":\"x\"},\"y\":{\"type\":\"field\",\"field\":\"y\"},\"line_color\":\"limegreen\",\"line_alpha\":0.1,\"line_width\":2}},\"muted_glyph\":{\"type\":\"object\",\"name\":\"Line\",\"id\":\"p3912\",\"attributes\":{\"x\":{\"type\":\"field\",\"field\":\"x\"},\"y\":{\"type\":\"field\",\"field\":\"y\"},\"line_color\":\"limegreen\",\"line_alpha\":0.2,\"line_width\":2}}}},{\"type\":\"object\",\"name\":\"GlyphRenderer\",\"id\":\"p3923\",\"attributes\":{\"data_source\":{\"type\":\"object\",\"name\":\"ColumnDataSource\",\"id\":\"p3917\",\"attributes\":{\"selected\":{\"type\":\"object\",\"name\":\"Selection\",\"id\":\"p3918\",\"attributes\":{\"indices\":[],\"line_indices\":[]}},\"selection_policy\":{\"type\":\"object\",\"name\":\"UnionRenderers\",\"id\":\"p3919\"},\"data\":{\"type\":\"map\",\"entries\":[[\"x\",{\"type\":\"ndarray\",\"array\":{\"type\":\"bytes\",\"data\":\"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\"},\"shape\":[199],\"dtype\":\"float64\",\"order\":\"little\"}],[\"y\",{\"type\":\"ndarray\",\"array\":{\"type\":\"bytes\",\"data\":\"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\"},\"shape\":[199],\"dtype\":\"float64\",\"order\":\"little\"}]]}}},\"view\":{\"type\":\"object\",\"name\":\"CDSView\",\"id\":\"p3924\",\"attributes\":{\"filter\":{\"type\":\"object\",\"name\":\"AllIndices\",\"id\":\"p3925\"}}},\"glyph\":{\"type\":\"object\",\"name\":\"Line\",\"id\":\"p3920\",\"attributes\":{\"x\":{\"type\":\"field\",\"field\":\"x\"},\"y\":{\"type\":\"field\",\"field\":\"y\"},\"line_color\":\"red\",\"line_width\":2}},\"nonselection_glyph\":{\"type\":\"object\",\"name\":\"Line\",\"id\":\"p3921\",\"attributes\":{\"x\":{\"type\":\"field\",\"field\":\"x\"},\"y\":{\"type\":\"field\",\"field\":\"y\"},\"line_color\":\"red\",\"line_alpha\":0.1,\"line_width\":2}},\"muted_glyph\":{\"type\":\"object\",\"name\":\"Line\",\"id\":\"p3922\",\"attributes\":{\"x\":{\"type\":\"field\",\"field\":\"x\"},\"y\":{\"type\":\"field\",\"field\":\"y\"},\"line_color\":\"red\",\"line_alpha\":0.2,\"line_width\":2}}}},{\"type\":\"object\",\"name\":\"GlyphRenderer\",\"id\":\"p3933\",\"attributes\":{\"data_source\":{\"type\":\"object\",\"name\":\"ColumnDataSource\",\"id\":\"p3927\",\"attributes\":{\"selected\":{\"type\":\"object\",\"name\":\"Selection\",\"id\":\"p3928\",\"attributes\":{\"indices\":[],\"line_indices\":[]}},\"selection_policy\":{\"type\":\"object\",\"name\":\"UnionRenderers\",\"id\":\"p3929\"},\"data\":{\"type\":\"map\",\"entries\":[[\"x0\",[21.1]],[\"y0\",[0.0]],[\"x1\",[21.1]],[\"y1\",[493.77]]]}}},\"view\":{\"type\":\"object\",\"name\":\"CDSView\",\"id\":\"p3934\",\"attributes\":{\"filter\":{\"type\":\"object\",\"name\":\"AllIndices\",\"id\":\"p3935\"}}},\"glyph\":{\"type\":\"object\",\"name\":\"Segment\",\"id\":\"p3930\",\"attributes\":{\"x0\":{\"type\":\"field\",\"field\":\"x0\"},\"y0\":{\"type\":\"field\",\"field\":\"y0\"},\"x1\":{\"type\":\"field\",\"field\":\"x1\"},\"y1\":{\"type\":\"field\",\"field\":\"y1\"},\"line_color\":{\"type\":\"value\",\"value\":\"lightblue\"},\"line_width\":{\"type\":\"value\",\"value\":3}}},\"nonselection_glyph\":{\"type\":\"object\",\"name\":\"Segment\",\"id\":\"p3931\",\"attributes\":{\"x0\":{\"type\":\"field\",\"field\":\"x0\"},\"y0\":{\"type\":\"field\",\"field\":\"y0\"},\"x1\":{\"type\":\"field\",\"field\":\"x1\"},\"y1\":{\"type\":\"field\",\"field\":\"y1\"},\"line_color\":{\"type\":\"value\",\"value\":\"lightblue\"},\"line_alpha\":{\"type\":\"value\",\"value\":0.1},\"line_width\":{\"type\":\"value\",\"value\":3}}},\"muted_glyph\":{\"type\":\"object\",\"name\":\"Segment\",\"id\":\"p3932\",\"attributes\":{\"x0\":{\"type\":\"field\",\"field\":\"x0\"},\"y0\":{\"type\":\"field\",\"field\":\"y0\"},\"x1\":{\"type\":\"field\",\"field\":\"x1\"},\"y1\":{\"type\":\"field\",\"field\":\"y1\"},\"line_color\":{\"type\":\"value\",\"value\":\"lightblue\"},\"line_alpha\":{\"type\":\"value\",\"value\":0.2},\"line_width\":{\"type\":\"value\",\"value\":3}}}}},{\"type\":\"object\",\"name\":\"GlyphRenderer\",\"id\":\"p3942\",\"attributes\":{\"data_source\":{\"type\":\"object\",\"name\":\"ColumnDataSource\",\"id\":\"p3936\",\"attributes\":{\"selected\":{\"type\":\"object\",\"name\":\"Selection\",\"id\":\"p3937\",\"attributes\":{\"indices\":[],\"line_indices\":[]}},\"selection_policy\":{\"type\":\"object\",\"name\":\"UnionRenderers\",\"id\":\"p3938\"},\"data\":{\"type\":\"map\",\"entries\":[[\"x0\",[22.6]],[\"y0\",[0.0]],[\"x1\",[22.6]],[\"y1\",[493.77]]]}}},\"view\":{\"type\":\"object\",\"name\":\"CDSView\",\"id\":\"p3943\",\"attributes\":{\"filter\":{\"type\":\"object\",\"name\":\"AllIndices\",\"id\":\"p3944\"}}},\"glyph\":{\"type\":\"object\",\"name\":\"Segment\",\"id\":\"p3939\",\"attributes\":{\"x0\":{\"type\":\"field\",\"field\":\"x0\"},\"y0\":{\"type\":\"field\",\"field\":\"y0\"},\"x1\":{\"type\":\"field\",\"field\":\"x1\"},\"y1\":{\"type\":\"field\",\"field\":\"y1\"},\"line_color\":{\"type\":\"value\",\"value\":\"darkseagreen\"}}},\"nonselection_glyph\":{\"type\":\"object\",\"name\":\"Segment\",\"id\":\"p3940\",\"attributes\":{\"x0\":{\"type\":\"field\",\"field\":\"x0\"},\"y0\":{\"type\":\"field\",\"field\":\"y0\"},\"x1\":{\"type\":\"field\",\"field\":\"x1\"},\"y1\":{\"type\":\"field\",\"field\":\"y1\"},\"line_color\":{\"type\":\"value\",\"value\":\"darkseagreen\"},\"line_alpha\":{\"type\":\"value\",\"value\":0.1}}},\"muted_glyph\":{\"type\":\"object\",\"name\":\"Segment\",\"id\":\"p3941\",\"attributes\":{\"x0\":{\"type\":\"field\",\"field\":\"x0\"},\"y0\":{\"type\":\"field\",\"field\":\"y0\"},\"x1\":{\"type\":\"field\",\"field\":\"x1\"},\"y1\":{\"type\":\"field\",\"field\":\"y1\"},\"line_color\":{\"type\":\"value\",\"value\":\"darkseagreen\"},\"line_alpha\":{\"type\":\"value\",\"value\":0.2}}}}},{\"type\":\"object\",\"name\":\"GlyphRenderer\",\"id\":\"p3951\",\"attributes\":{\"data_source\":{\"type\":\"object\",\"name\":\"ColumnDataSource\",\"id\":\"p3945\",\"attributes\":{\"selected\":{\"type\":\"object\",\"name\":\"Selection\",\"id\":\"p3946\",\"attributes\":{\"indices\":[],\"line_indices\":[]}},\"selection_policy\":{\"type\":\"object\",\"name\":\"UnionRenderers\",\"id\":\"p3947\"},\"data\":{\"type\":\"map\",\"entries\":[[\"x0\",[19.6]],[\"y0\",[0.0]],[\"x1\",[19.6]],[\"y1\",[493.77]]]}}},\"view\":{\"type\":\"object\",\"name\":\"CDSView\",\"id\":\"p3952\",\"attributes\":{\"filter\":{\"type\":\"object\",\"name\":\"AllIndices\",\"id\":\"p3953\"}}},\"glyph\":{\"type\":\"object\",\"name\":\"Segment\",\"id\":\"p3948\",\"attributes\":{\"x0\":{\"type\":\"field\",\"field\":\"x0\"},\"y0\":{\"type\":\"field\",\"field\":\"y0\"},\"x1\":{\"type\":\"field\",\"field\":\"x1\"},\"y1\":{\"type\":\"field\",\"field\":\"y1\"},\"line_color\":{\"type\":\"value\",\"value\":\"darkseagreen\"}}},\"nonselection_glyph\":{\"type\":\"object\",\"name\":\"Segment\",\"id\":\"p3949\",\"attributes\":{\"x0\":{\"type\":\"field\",\"field\":\"x0\"},\"y0\":{\"type\":\"field\",\"field\":\"y0\"},\"x1\":{\"type\":\"field\",\"field\":\"x1\"},\"y1\":{\"type\":\"field\",\"field\":\"y1\"},\"line_color\":{\"type\":\"value\",\"value\":\"darkseagreen\"},\"line_alpha\":{\"type\":\"value\",\"value\":0.1}}},\"muted_glyph\":{\"type\":\"object\",\"name\":\"Segment\",\"id\":\"p3950\",\"attributes\":{\"x0\":{\"type\":\"field\",\"field\":\"x0\"},\"y0\":{\"type\":\"field\",\"field\":\"y0\"},\"x1\":{\"type\":\"field\",\"field\":\"x1\"},\"y1\":{\"type\":\"field\",\"field\":\"y1\"},\"line_color\":{\"type\":\"value\",\"value\":\"darkseagreen\"},\"line_alpha\":{\"type\":\"value\",\"value\":0.2}}}}},{\"type\":\"object\",\"name\":\"GlyphRenderer\",\"id\":\"p3960\",\"attributes\":{\"data_source\":{\"type\":\"object\",\"name\":\"ColumnDataSource\",\"id\":\"p3954\",\"attributes\":{\"selected\":{\"type\":\"object\",\"name\":\"Selection\",\"id\":\"p3955\",\"attributes\":{\"indices\":[],\"line_indices\":[]}},\"selection_policy\":{\"type\":\"object\",\"name\":\"UnionRenderers\",\"id\":\"p3956\"},\"data\":{\"type\":\"map\",\"entries\":[[\"x\",[21.1]],[\"y\",[493.77]],[\"size\",[20]]]}}},\"view\":{\"type\":\"object\",\"name\":\"CDSView\",\"id\":\"p3961\",\"attributes\":{\"filter\":{\"type\":\"object\",\"name\":\"AllIndices\",\"id\":\"p3962\"}}},\"glyph\":{\"type\":\"object\",\"name\":\"Scatter\",\"id\":\"p3957\",\"attributes\":{\"x\":{\"type\":\"field\",\"field\":\"x\"},\"y\":{\"type\":\"field\",\"field\":\"y\"},\"size\":{\"type\":\"field\",\"field\":\"size\"},\"line_color\":{\"type\":\"value\",\"value\":\"lightblue\"},\"line_width\":{\"type\":\"value\",\"value\":3},\"fill_color\":{\"type\":\"value\",\"value\":null},\"marker\":{\"type\":\"value\",\"value\":\"square_cross\"}}},\"nonselection_glyph\":{\"type\":\"object\",\"name\":\"Scatter\",\"id\":\"p3958\",\"attributes\":{\"x\":{\"type\":\"field\",\"field\":\"x\"},\"y\":{\"type\":\"field\",\"field\":\"y\"},\"size\":{\"type\":\"field\",\"field\":\"size\"},\"line_color\":{\"type\":\"value\",\"value\":\"lightblue\"},\"line_alpha\":{\"type\":\"value\",\"value\":0.1},\"line_width\":{\"type\":\"value\",\"value\":3},\"fill_color\":{\"type\":\"value\",\"value\":null},\"fill_alpha\":{\"type\":\"value\",\"value\":0.1},\"hatch_alpha\":{\"type\":\"value\",\"value\":0.1},\"marker\":{\"type\":\"value\",\"value\":\"square_cross\"}}},\"muted_glyph\":{\"type\":\"object\",\"name\":\"Scatter\",\"id\":\"p3959\",\"attributes\":{\"x\":{\"type\":\"field\",\"field\":\"x\"},\"y\":{\"type\":\"field\",\"field\":\"y\"},\"size\":{\"type\":\"field\",\"field\":\"size\"},\"line_color\":{\"type\":\"value\",\"value\":\"lightblue\"},\"line_alpha\":{\"type\":\"value\",\"value\":0.2},\"line_width\":{\"type\":\"value\",\"value\":3},\"fill_color\":{\"type\":\"value\",\"value\":null},\"fill_alpha\":{\"type\":\"value\",\"value\":0.2},\"hatch_alpha\":{\"type\":\"value\",\"value\":0.2},\"marker\":{\"type\":\"value\",\"value\":\"square_cross\"}}}}}],\"toolbar\":{\"type\":\"object\",\"name\":\"Toolbar\",\"id\":\"p3847\",\"attributes\":{\"tools\":[{\"type\":\"object\",\"name\":\"PanTool\",\"id\":\"p3862\"},{\"type\":\"object\",\"name\":\"WheelZoomTool\",\"id\":\"p3863\",\"attributes\":{\"renderers\":\"auto\"}},{\"type\":\"object\",\"name\":\"BoxZoomTool\",\"id\":\"p3864\",\"attributes\":{\"overlay\":{\"type\":\"object\",\"name\":\"BoxAnnotation\",\"id\":\"p3865\",\"attributes\":{\"syncable\":false,\"line_color\":\"black\",\"line_alpha\":1.0,\"line_width\":2,\"line_dash\":[4,4],\"fill_color\":\"lightgrey\",\"fill_alpha\":0.5,\"level\":\"overlay\",\"visible\":false,\"left\":{\"type\":\"number\",\"value\":\"nan\"},\"right\":{\"type\":\"number\",\"value\":\"nan\"},\"top\":{\"type\":\"number\",\"value\":\"nan\"},\"bottom\":{\"type\":\"number\",\"value\":\"nan\"},\"left_units\":\"canvas\",\"right_units\":\"canvas\",\"top_units\":\"canvas\",\"bottom_units\":\"canvas\",\"handles\":{\"type\":\"object\",\"name\":\"BoxInteractionHandles\",\"id\":\"p3871\",\"attributes\":{\"all\":{\"type\":\"object\",\"name\":\"AreaVisuals\",\"id\":\"p3870\",\"attributes\":{\"fill_color\":\"white\",\"hover_fill_color\":\"lightgray\"}}}}}}}},{\"type\":\"object\",\"name\":\"SaveTool\",\"id\":\"p3872\"},{\"type\":\"object\",\"name\":\"ResetTool\",\"id\":\"p3873\"},{\"type\":\"object\",\"name\":\"HelpTool\",\"id\":\"p3874\"},{\"type\":\"object\",\"name\":\"HoverTool\",\"id\":\"p3906\",\"attributes\":{\"renderers\":\"auto\",\"tooltips\":[[\"Y-val\",\"@y{0.00}\"]]}}]}},\"left\":[{\"type\":\"object\",\"name\":\"LinearAxis\",\"id\":\"p3857\",\"attributes\":{\"ticker\":{\"type\":\"object\",\"name\":\"BasicTicker\",\"id\":\"p3858\",\"attributes\":{\"mantissas\":[1,2,5]}},\"formatter\":{\"type\":\"object\",\"name\":\"BasicTickFormatter\",\"id\":\"p3859\"},\"axis_label\":\"km/h\",\"axis_label_standoff\":10,\"axis_label_text_color\":\"#E0E0E0\",\"axis_label_text_font\":\"Helvetica\",\"axis_label_text_font_size\":\"1.25em\",\"axis_label_text_font_style\":\"normal\",\"major_label_policy\":{\"type\":\"object\",\"name\":\"AllLabels\",\"id\":\"p3860\"},\"major_label_text_color\":\"#E0E0E0\",\"major_label_text_font\":\"Helvetica\",\"major_label_text_font_size\":\"1.025em\",\"axis_line_color\":\"#E0E0E0\",\"axis_line_alpha\":0,\"major_tick_line_color\":\"#E0E0E0\",\"major_tick_line_alpha\":0,\"minor_tick_line_color\":\"#E0E0E0\",\"minor_tick_line_alpha\":0}},{\"type\":\"object\",\"name\":\"LinearAxis\",\"id\":\"p3877\",\"attributes\":{\"y_range_name\":\"altitudeFt\",\"ticker\":{\"type\":\"object\",\"name\":\"BasicTicker\",\"id\":\"p3878\",\"attributes\":{\"mantissas\":[1,2,5]}},\"formatter\":{\"type\":\"object\",\"name\":\"BasicTickFormatter\",\"id\":\"p3879\"},\"axis_label\":\"Alt (ft)\",\"axis_label_standoff\":10,\"axis_label_text_color\":\"#E0E0E0\",\"axis_label_text_font\":\"Helvetica\",\"axis_label_text_font_size\":\"1.25em\",\"axis_label_text_font_style\":\"normal\",\"major_label_policy\":{\"type\":\"object\",\"name\":\"AllLabels\",\"id\":\"p3880\"},\"major_label_text_color\":\"#E0E0E0\",\"major_label_text_font\":\"Helvetica\",\"major_label_text_font_size\":\"1.025em\",\"axis_line_color\":\"#E0E0E0\",\"axis_line_alpha\":0,\"major_tick_line_color\":\"#E0E0E0\",\"major_tick_line_alpha\":0,\"minor_tick_line_color\":\"#E0E0E0\",\"minor_tick_line_alpha\":0}},{\"type\":\"object\",\"name\":\"LinearAxis\",\"id\":\"p3881\",\"attributes\":{\"y_range_name\":\"angle\",\"ticker\":{\"type\":\"object\",\"name\":\"BasicTicker\",\"id\":\"p3882\",\"attributes\":{\"mantissas\":[1,2,5]}},\"formatter\":{\"type\":\"object\",\"name\":\"BasicTickFormatter\",\"id\":\"p3883\"},\"axis_label\":\"angle\",\"axis_label_standoff\":10,\"axis_label_text_color\":\"#E0E0E0\",\"axis_label_text_font\":\"Helvetica\",\"axis_label_text_font_size\":\"1.25em\",\"axis_label_text_font_style\":\"normal\",\"major_label_policy\":{\"type\":\"object\",\"name\":\"AllLabels\",\"id\":\"p3884\"},\"major_label_text_color\":\"#E0E0E0\",\"major_label_text_font\":\"Helvetica\",\"major_label_text_font_size\":\"1.025em\",\"axis_line_color\":\"#E0E0E0\",\"axis_line_alpha\":0,\"major_tick_line_color\":\"#E0E0E0\",\"major_tick_line_alpha\":0,\"minor_tick_line_color\":\"#E0E0E0\",\"minor_tick_line_alpha\":0}}],\"below\":[{\"type\":\"object\",\"name\":\"LinearAxis\",\"id\":\"p3852\",\"attributes\":{\"ticker\":{\"type\":\"object\",\"name\":\"BasicTicker\",\"id\":\"p3853\",\"attributes\":{\"mantissas\":[1,2,5]}},\"formatter\":{\"type\":\"object\",\"name\":\"BasicTickFormatter\",\"id\":\"p3854\"},\"axis_label\":\"seconds from exit\",\"axis_label_standoff\":10,\"axis_label_text_color\":\"#E0E0E0\",\"axis_label_text_font\":\"Helvetica\",\"axis_label_text_font_size\":\"1.25em\",\"axis_label_text_font_style\":\"normal\",\"major_label_policy\":{\"type\":\"object\",\"name\":\"AllLabels\",\"id\":\"p3855\"},\"major_label_text_color\":\"#E0E0E0\",\"major_label_text_font\":\"Helvetica\",\"major_label_text_font_size\":\"1.025em\",\"axis_line_color\":\"#E0E0E0\",\"axis_line_alpha\":0,\"major_tick_line_color\":\"#E0E0E0\",\"major_tick_line_alpha\":0,\"minor_tick_line_color\":\"#E0E0E0\",\"minor_tick_line_alpha\":0}}],\"center\":[{\"type\":\"object\",\"name\":\"Grid\",\"id\":\"p3856\",\"attributes\":{\"axis\":{\"id\":\"p3852\"},\"grid_line_color\":\"#E0E0E0\",\"grid_line_alpha\":0.25}},{\"type\":\"object\",\"name\":\"Grid\",\"id\":\"p3861\",\"attributes\":{\"dimension\":1,\"axis\":{\"id\":\"p3857\"},\"grid_line_color\":\"#E0E0E0\",\"grid_line_alpha\":0.25}},{\"type\":\"object\",\"name\":\"Legend\",\"id\":\"p3894\",\"attributes\":{\"border_line_alpha\":0,\"background_fill_color\":\"#20262B\",\"background_fill_alpha\":0.25,\"label_text_color\":\"#E0E0E0\",\"label_text_font\":\"Helvetica\",\"label_text_font_size\":\"1.025em\",\"label_standoff\":8,\"glyph_width\":15,\"spacing\":8,\"items\":[{\"type\":\"object\",\"name\":\"LegendItem\",\"id\":\"p3895\",\"attributes\":{\"label\":{\"type\":\"value\",\"value\":\"Alt (ft)\"},\"renderers\":[{\"id\":\"p3891\"}]}},{\"type\":\"object\",\"name\":\"LegendItem\",\"id\":\"p3905\",\"attributes\":{\"label\":{\"type\":\"value\",\"value\":\"angle\"},\"renderers\":[{\"id\":\"p3902\"}]}},{\"type\":\"object\",\"name\":\"LegendItem\",\"id\":\"p3916\",\"attributes\":{\"label\":{\"type\":\"value\",\"value\":\"speed\"},\"renderers\":[{\"id\":\"p3913\"}]}},{\"type\":\"object\",\"name\":\"LegendItem\",\"id\":\"p3926\",\"attributes\":{\"label\":{\"type\":\"value\",\"value\":\"H-speed\"},\"renderers\":[{\"id\":\"p3923\"}]}}]}}],\"background_fill_color\":\"#20262B\",\"border_fill_color\":\"#15191C\"}}]}};\n",
       "  const render_items = [{\"docid\":\"14f009a9-d58d-4822-b23b-00435a52cf63\",\"roots\":{\"p3838\":\"a126d843-8ed0-41d2-88a6-dd92a833113a\"},\"root_ids\":[\"p3838\"]}];\n",
       "  void root.Bokeh.embed.embed_items_notebook(docs_json, render_items);\n",
       "  }\n",
       "  if (root.Bokeh !== undefined) {\n",
       "    embed_document(root);\n",
       "  } else {\n",
       "    let attempts = 0;\n",
       "    const timer = setInterval(function(root) {\n",
       "      if (root.Bokeh !== undefined) {\n",
       "        clearInterval(timer);\n",
       "        embed_document(root);\n",
       "      } else {\n",
       "        attempts++;\n",
       "        if (attempts > 100) {\n",
       "          clearInterval(timer);\n",
       "          console.log(\"Bokeh: ERROR: Unable to run BokehJS code because BokehJS library is missing\");\n",
       "        }\n",
       "      }\n",
       "    }, 10, root)\n",
       "  }\n",
       "})(window);"
      ],
      "application/vnd.bokehjs_exec.v0+json": ""
     },
     "metadata": {
      "application/vnd.bokehjs_exec.v0+json": {
       "id": "p3838"
      }
     },
     "output_type": "display_data"
    },
    {
     "data": {
      "application/vnd.jupyter.widget-view+json": {
       "model_id": "ead4787222924144b64546dd12bedaf1",
       "version_major": 2,
       "version_minor": 0
      },
      "text/plain": [
       "HTML(value='<hr><h1><span style=\"color: #0f0\">data R8_16-07-35:v1 jump - 🟢 valid - score = 488.06 km/h</span><…"
      ]
     },
     "metadata": {},
     "output_type": "display_data"
    },
    {
     "data": {
      "application/vnd.jupyter.widget-view+json": {
       "model_id": "379ceb215223436787128a75e9aff1fc",
       "version_major": 2,
       "version_minor": 0
      },
      "text/plain": [
       "HTML(value='<h3>Max speed = 489; exit at 4163 m (13659 ft), end scoring window at 1907 m (6258 ft)')"
      ]
     },
     "metadata": {},
     "output_type": "display_data"
    },
    {
     "data": {
      "application/vnd.jupyter.widget-view+json": {
       "model_id": "d531cfe9d9e84bed800609ecbe69c10f",
       "version_major": 2,
       "version_minor": 0
      },
      "text/plain": [
       "HTML(value='</h3>')"
      ]
     },
     "metadata": {},
     "output_type": "display_data"
    },
    {
     "data": {
      "text/html": [
       "<div>\n",
       "<style scoped>\n",
       "    .dataframe tbody tr th:only-of-type {\n",
       "        vertical-align: middle;\n",
       "    }\n",
       "\n",
       "    .dataframe tbody tr th {\n",
       "        vertical-align: top;\n",
       "    }\n",
       "\n",
       "    .dataframe thead th {\n",
       "        text-align: right;\n",
       "    }\n",
       "</style>\n",
       "<table border=\"1\" class=\"dataframe\">\n",
       "  <thead>\n",
       "    <tr style=\"text-align: right;\">\n",
       "      <th></th>\n",
       "      <th>time</th>\n",
       "      <th>vKMh</th>\n",
       "      <th>hKMh</th>\n",
       "      <th>speedAngle</th>\n",
       "      <th>distanceFromExit (m)</th>\n",
       "      <th>altitude (ft)</th>\n",
       "      <th>netVectorKMh</th>\n",
       "    </tr>\n",
       "  </thead>\n",
       "  <tbody>\n",
       "    <tr>\n",
       "      <th></th>\n",
       "      <td>5.0</td>\n",
       "      <td>183</td>\n",
       "      <td>161</td>\n",
       "      <td>48.65</td>\n",
       "      <td>252.00</td>\n",
       "      <td>13230</td>\n",
       "      <td>244</td>\n",
       "    </tr>\n",
       "    <tr>\n",
       "      <th></th>\n",
       "      <td>10.0</td>\n",
       "      <td>328</td>\n",
       "      <td>115</td>\n",
       "      <td>70.70</td>\n",
       "      <td>442.77</td>\n",
       "      <td>12042</td>\n",
       "      <td>348</td>\n",
       "    </tr>\n",
       "    <tr>\n",
       "      <th></th>\n",
       "      <td>15.0</td>\n",
       "      <td>428</td>\n",
       "      <td>59</td>\n",
       "      <td>82.21</td>\n",
       "      <td>566.60</td>\n",
       "      <td>10293</td>\n",
       "      <td>432</td>\n",
       "    </tr>\n",
       "    <tr>\n",
       "      <th></th>\n",
       "      <td>20.0</td>\n",
       "      <td>476</td>\n",
       "      <td>14</td>\n",
       "      <td>88.34</td>\n",
       "      <td>615.31</td>\n",
       "      <td>8207</td>\n",
       "      <td>477</td>\n",
       "    </tr>\n",
       "    <tr>\n",
       "      <th></th>\n",
       "      <td>25.0</td>\n",
       "      <td>489</td>\n",
       "      <td>29</td>\n",
       "      <td>86.62</td>\n",
       "      <td>598.97</td>\n",
       "      <td>6347</td>\n",
       "      <td>489</td>\n",
       "    </tr>\n",
       "  </tbody>\n",
       "</table>\n",
       "</div>"
      ],
      "text/plain": [
       "  time  vKMh  hKMh  speedAngle  distanceFromExit (m)  altitude (ft)  \\\n",
       "   5.0   183   161       48.65                252.00          13230   \n",
       "  10.0   328   115       70.70                442.77          12042   \n",
       "  15.0   428    59       82.21                566.60          10293   \n",
       "  20.0   476    14       88.34                615.31           8207   \n",
       "  25.0   489    29       86.62                598.97           6347   \n",
       "\n",
       "  netVectorKMh  \n",
       "           244  \n",
       "           348  \n",
       "           432  \n",
       "           477  \n",
       "           489  "
      ]
     },
     "metadata": {},
     "output_type": "display_data"
    },
    {
     "data": {
      "text/html": [
       "\n",
       "  <div id=\"ba859882-ae01-4589-9140-1f96fffe7719\" data-root-id=\"p3982\" style=\"display: contents;\"></div>\n"
      ]
     },
     "metadata": {},
     "output_type": "display_data"
    },
    {
     "data": {
      "application/javascript": [
       "(function(root) {\n",
       "  function embed_document(root) {\n",
       "  const docs_json = {\"2a475c72-82eb-497a-94a9-2b072d50ba24\":{\"version\":\"3.5.2\",\"title\":\"Bokeh Application\",\"roots\":[{\"type\":\"object\",\"name\":\"Figure\",\"id\":\"p3982\",\"attributes\":{\"width\":900,\"height\":500,\"x_range\":{\"type\":\"object\",\"name\":\"Range1d\",\"id\":\"p3992\",\"attributes\":{\"end\":35.0}},\"y_range\":{\"type\":\"object\",\"name\":\"Range1d\",\"id\":\"p3993\",\"attributes\":{\"end\":550.0}},\"x_scale\":{\"type\":\"object\",\"name\":\"LinearScale\",\"id\":\"p3994\"},\"y_scale\":{\"type\":\"object\",\"name\":\"LinearScale\",\"id\":\"p3995\"},\"extra_y_ranges\":{\"type\":\"map\",\"entries\":[[\"altitudeFt\",{\"type\":\"object\",\"name\":\"Range1d\",\"id\":\"p4019\",\"attributes\":{\"start\":5846.638430399999,\"end\":14159.6925472}}],[\"angle\",{\"type\":\"object\",\"name\":\"Range1d\",\"id\":\"p4020\",\"attributes\":{\"end\":90.0}}]]},\"title\":{\"type\":\"object\",\"name\":\"Title\",\"id\":\"p3985\",\"attributes\":{\"text\":\"data R8_16-07-35:v1\",\"text_color\":\"#E0E0E0\",\"text_font\":\"Helvetica\",\"text_font_size\":\"1.15em\"}},\"outline_line_color\":\"#E0E0E0\",\"outline_line_alpha\":0.25,\"renderers\":[{\"type\":\"object\",\"name\":\"GlyphRenderer\",\"id\":\"p4035\",\"attributes\":{\"y_range_name\":\"altitudeFt\",\"data_source\":{\"type\":\"object\",\"name\":\"ColumnDataSource\",\"id\":\"p4029\",\"attributes\":{\"selected\":{\"type\":\"object\",\"name\":\"Selection\",\"id\":\"p4030\",\"attributes\":{\"indices\":[],\"line_indices\":[]}},\"selection_policy\":{\"type\":\"object\",\"name\":\"UnionRenderers\",\"id\":\"p4031\"},\"data\":{\"type\":\"map\",\"entries\":[[\"x\",{\"type\":\"ndarray\",\"array\":{\"type\":\"bytes\",\"data\":\"AAAAAAAAAACamZmZmZnJP5qZmZmZmdk/MzMzMzMz4z+amZmZmZnpPwAAAAAAAPA/MzMzMzMz8z9mZmZmZmb2P5qZmZmZmfk/zczMzMzM/D8AAAAAAAAAQJqZmZmZmQFAMzMzMzMzA0DNzMzMzMwEQGZmZmZmZgZAAAAAAAAACECamZmZmZkJQDMzMzMzMwtAzczMzMzMDEBmZmZmZmYOQAAAAAAAABBAzczMzMzMEECamZmZmZkRQGZmZmZmZhJAMzMzMzMzE0AAAAAAAAAUQM3MzMzMzBRAmpmZmZmZFUBmZmZmZmYWQDMzMzMzMxdAAAAAAAAAGEDNzMzMzMwYQJqZmZmZmRlAZmZmZmZmGkAzMzMzMzMbQAAAAAAAABxAzczMzMzMHECamZmZmZkdQGZmZmZmZh5AMzMzMzMzH0AAAAAAAAAgQGZmZmZmZiBAzczMzMzMIEAzMzMzMzMhQJqZmZmZmSFAAAAAAAAAIkBmZmZmZmYiQM3MzMzMzCJAMzMzMzMzI0CamZmZmZkjQAAAAAAAACRAZmZmZmZmJEDNzMzMzMwkQDMzMzMzMyVAmpmZmZmZJUAAAAAAAAAmQGZmZmZmZiZAzczMzMzMJkAzMzMzMzMnQJqZmZmZmSdAAAAAAAAAKEBmZmZmZmYoQM3MzMzMzChAMzMzMzMzKUCamZmZmZkpQAAAAAAAACpAZmZmZmZmKkDNzMzMzMwqQDMzMzMzMytAmpmZmZmZK0AAAAAAAAAsQGZmZmZmZixAzczMzMzMLEAzMzMzMzMtQJqZmZmZmS1AAAAAAAAALkBmZmZmZmYuQM3MzMzMzC5AMzMzMzMzL0CamZmZmZkvQAAAAAAAADBAMzMzMzMzMEBmZmZmZmYwQJqZmZmZmTBAzczMzMzMMEAAAAAAAAAxQDMzMzMzMzFAZmZmZmZmMUCamZmZmZkxQM3MzMzMzDFAAAAAAAAAMkAzMzMzMzMyQGZmZmZmZjJAmpmZmZmZMkDNzMzMzMwyQAAAAAAAADNAMzMzMzMzM0BmZmZmZmYzQJqZmZmZmTNAzczMzMzMM0AAAAAAAAA0QDMzMzMzMzRAZmZmZmZmNECamZmZmZk0QM3MzMzMzDRAAAAAAAAANUAzMzMzMzM1QGZmZmZmZjVAmpmZmZmZNUDNzMzMzMw1QAAAAAAAADZAMzMzMzMzNkBmZmZmZmY2QJqZmZmZmTZAzczMzMzMNkAAAAAAAAA3QDMzMzMzMzdAZmZmZmZmN0CamZmZmZk3QM3MzMzMzDdAAAAAAAAAOEAzMzMzMzM4QA==\"},\"shape\":[122],\"dtype\":\"float64\",\"order\":\"little\"}],[\"y\",{\"type\":\"ndarray\",\"array\":{\"type\":\"bytes\",\"data\":\"ePtipditykDx69Flg63KQAcI5uiZrMpAoyLzbeaqykCe5R63dKjKQBIkpY/fpMpAHMQYohyhykAX5vNAipzKQI5jfzQXl8pAfTX22/2QykC2QMxvOorKQNzorcvagspAV8yttQx7ykB4BIHfaHLKQEf3Yt7ZaMpAL8RFSateykC53jZT4VPKQETjiSBuSMpAiCWKNWk8ykCTaukb4i/KQFaOf1WkIspA76JUZ7IUykDw4CcOIAbKQDcUiOjx9slAh/b7DyrnyUBl+5C3zNbJQMGY48u6xclAC/WqhAW0yUD1fBcAvKHJQPjehOfSjslAH+CkxFl7yUD1N1eDRmfJQAJaqVadUslA8rLLXG09yUAwpMNDuCfJQFXu9Dl1EclArOBcaKP6yECMj6qBUePIQLv4Nlhzy8hAaVn3jwWzyEA4NwHhDprIQBhnZyyVgMhAYB9CAaBmyEBD4Vi8HUzIQKJ4OvwSMchALVIX344VyEClJ3Z+k/nHQFdIVAMg3cdAolAFkibAx0ATV98KwqLHQBsjI7HehMdAvjWwVZpmx0B/ox031EfHQA/Zm3ObKMdA0vNdAAAJx0B4RfC/3ejGQJiH8T9myMZAnl8554ynxkAYpxB+QIbGQHiELjySZMZA8FbxoXdCxkDB5bFmDCDGQCHUoMM3/cVA7cvjegXaxUBZi08BkLbFQCVt9Hu0ksVAMBv4rH5uxUARVr7C5UnFQN+nqtAIJcVAe/60UeX/xEAFsLeDb9rEQEN2OYCptMRA2vi425KOxED5dCs6KGjEQFSbk3JqQcRArkfhelQaxED3LL5X8/LDQHd4vlVNy8NA3rh7b2qjw0AG9dK5P3vDQJHUQsnMUsNAc4tUczwqw0Cyf0NNeQHDQNECtK2O2MJAO3arQn6vwkDecS/VIYbCQEuNdRayXMJA2Z8foREzwkAQP6SEPQnCQFfMCG8338FAG6lSDgG1wUDFt2bhuYrBQJ/GYkBDYMFAftwjQJI1wUClwAKYwgrBQC4mkdix38BAmnkXlJ60wECbDCKtZInAQDVgkPQhXsBA6EQn8MMywEAgPlUqRQfAQKZsRydRt79ARMMHG9Nfv0DYdn9hPgi/QJKA0eWdsL5Agk+9f91YvkBglEUG/gC+QMYxN4TvqL1A6qhZVqBQvUB6xVOPRPi8QIf0JWWMn7xAc1MDzYdGvEA1GDQ+ne27QMpA+RaRlLtA58En51U7u0ACQ1a3GuK6QOafdH3aiLpAQYmFEJYvukCHA9fLZda5QPUX1X0bfblAEpkDTuAjuUDFuCxwo8q4QA==\"},\"shape\":[122],\"dtype\":\"float64\",\"order\":\"little\"}]]}}},\"view\":{\"type\":\"object\",\"name\":\"CDSView\",\"id\":\"p4036\",\"attributes\":{\"filter\":{\"type\":\"object\",\"name\":\"AllIndices\",\"id\":\"p4037\"}}},\"glyph\":{\"type\":\"object\",\"name\":\"Line\",\"id\":\"p4032\",\"attributes\":{\"x\":{\"type\":\"field\",\"field\":\"x\"},\"y\":{\"type\":\"field\",\"field\":\"y\"},\"line_color\":\"palegoldenrod\",\"line_width\":2}},\"nonselection_glyph\":{\"type\":\"object\",\"name\":\"Line\",\"id\":\"p4033\",\"attributes\":{\"x\":{\"type\":\"field\",\"field\":\"x\"},\"y\":{\"type\":\"field\",\"field\":\"y\"},\"line_color\":\"palegoldenrod\",\"line_alpha\":0.1,\"line_width\":2}},\"muted_glyph\":{\"type\":\"object\",\"name\":\"Line\",\"id\":\"p4034\",\"attributes\":{\"x\":{\"type\":\"field\",\"field\":\"x\"},\"y\":{\"type\":\"field\",\"field\":\"y\"},\"line_color\":\"palegoldenrod\",\"line_alpha\":0.2,\"line_width\":2}}}},{\"type\":\"object\",\"name\":\"GlyphRenderer\",\"id\":\"p4046\",\"attributes\":{\"y_range_name\":\"angle\",\"data_source\":{\"type\":\"object\",\"name\":\"ColumnDataSource\",\"id\":\"p4040\",\"attributes\":{\"selected\":{\"type\":\"object\",\"name\":\"Selection\",\"id\":\"p4041\",\"attributes\":{\"indices\":[],\"line_indices\":[]}},\"selection_policy\":{\"type\":\"object\",\"name\":\"UnionRenderers\",\"id\":\"p4042\"},\"data\":{\"type\":\"map\",\"entries\":[[\"x\",{\"type\":\"ndarray\",\"array\":{\"type\":\"bytes\",\"data\":\"AAAAAAAAAACamZmZmZnJP5qZmZmZmdk/MzMzMzMz4z+amZmZmZnpPwAAAAAAAPA/MzMzMzMz8z9mZmZmZmb2P5qZmZmZmfk/zczMzMzM/D8AAAAAAAAAQJqZmZmZmQFAMzMzMzMzA0DNzMzMzMwEQGZmZmZmZgZAAAAAAAAACECamZmZmZkJQDMzMzMzMwtAzczMzMzMDEBmZmZmZmYOQAAAAAAAABBAzczMzMzMEECamZmZmZkRQGZmZmZmZhJAMzMzMzMzE0AAAAAAAAAUQM3MzMzMzBRAmpmZmZmZFUBmZmZmZmYWQDMzMzMzMxdAAAAAAAAAGEDNzMzMzMwYQJqZmZmZmRlAZmZmZmZmGkAzMzMzMzMbQAAAAAAAABxAzczMzMzMHECamZmZmZkdQGZmZmZmZh5AMzMzMzMzH0AAAAAAAAAgQGZmZmZmZiBAzczMzMzMIEAzMzMzMzMhQJqZmZmZmSFAAAAAAAAAIkBmZmZmZmYiQM3MzMzMzCJAMzMzMzMzI0CamZmZmZkjQAAAAAAAACRAZmZmZmZmJEDNzMzMzMwkQDMzMzMzMyVAmpmZmZmZJUAAAAAAAAAmQGZmZmZmZiZAzczMzMzMJkAzMzMzMzMnQJqZmZmZmSdAAAAAAAAAKEBmZmZmZmYoQM3MzMzMzChAMzMzMzMzKUCamZmZmZkpQAAAAAAAACpAZmZmZmZmKkDNzMzMzMwqQDMzMzMzMytAmpmZmZmZK0AAAAAAAAAsQGZmZmZmZixAzczMzMzMLEAzMzMzMzMtQJqZmZmZmS1AAAAAAAAALkBmZmZmZmYuQM3MzMzMzC5AMzMzMzMzL0CamZmZmZkvQAAAAAAAADBAMzMzMzMzMEBmZmZmZmYwQJqZmZmZmTBAzczMzMzMMEAAAAAAAAAxQDMzMzMzMzFAZmZmZmZmMUCamZmZmZkxQM3MzMzMzDFAAAAAAAAAMkAzMzMzMzMyQGZmZmZmZjJAmpmZmZmZMkDNzMzMzMwyQAAAAAAAADNAMzMzMzMzM0BmZmZmZmYzQJqZmZmZmTNAzczMzMzMM0AAAAAAAAA0QDMzMzMzMzRAZmZmZmZmNECamZmZmZk0QM3MzMzMzDRAAAAAAAAANUAzMzMzMzM1QGZmZmZmZjVAmpmZmZmZNUDNzMzMzMw1QAAAAAAAADZAMzMzMzMzNkBmZmZmZmY2QJqZmZmZmTZAzczMzMzMNkAAAAAAAAA3QDMzMzMzMzdAZmZmZmZmN0CamZmZmZk3QM3MzMzMzDdAAAAAAAAAOEAzMzMzMzM4QA==\"},\"shape\":[122],\"dtype\":\"float64\",\"order\":\"little\"}],[\"y\",{\"type\":\"ndarray\",\"array\":{\"type\":\"bytes\",\"data\":\"SOF6FK5HB0AUrkfhehQSQLgehetRuBdAcT0K16NwHUAK16NwPYoiQPYoXI/CdSdApHA9CtcjK0C4HoXrUTgvQAAAAAAAgDFAcT0K16OwM0B7FK5H4bo1QFK4HoXr0TdAmpmZmZnZOUBI4XoUrgc8QKRwPQrXIz5A7FG4HoXrP0Bcj8L1KPxAQLgehetR2EFAH4XrUbi+QkCkcD0K16NDQFyPwvUofERAexSuR+FaRUCkcD0K1yNGQOF6FK5H4UZAPQrXo3CdR0AzMzMzM1NIQIXrUbgeBUlApHA9CtejSUDD9Shcj0JKQI/C9Shcz0pAKVyPwvVoS0Bcj8L1KPxLQIXrUbgehUxAAAAAAAAgTUCF61G4HqVNQB+F61G4Hk5AcT0K16OQTkA9CtejcP1OQAAAAAAAYE9ASOF6FK7HT0CuR+F6FA5QQHE9CtejQFBAuB6F61FoUEAK16NwPZpQQDMzMzMzw1BAcT0K16PwUEDD9ShcjxJRQFyPwvUoPFFAhetRuB5lUUAK16NwPYpRQM3MzMzMrFFAj8L1KFzPUUAUrkfhevRRQHE9CtejEFJAKVyPwvUoUkDXo3A9CkdSQB+F61G4XlJAPQrXo3B9UkDXo3A9CpdSQMP1KFyPslJA7FG4HoXLUkA9CtejcO1SQI/C9ShcD1NAKVyPwvUoU0AAAAAAAFBTQDMzMzMzc1NAFK5H4XqUU0ApXI/C9bhTQJqZmZmZ2VNAXI/C9Sj8U0DXo3A9ChdUQPYoXI/CNVRAw/UoXI9SVECamZmZmWlUQM3MzMzMfFRAPQrXo3CNVEA9CtejcJ1UQJqZmZmZqVRA16NwPQq3VEAzMzMzM8NUQFK4HoXr0VRAH4XrUbj+VEAUrkfheiRVQNejcD0KR1VAmpmZmZlZVUDD9Shcj2JVQFK4HoXrYVVA9ihcj8JlVUDD9Shcj3JVQNejcD0Kh1VAexSuR+GaVUD2KFyPwqVVQM3MzMzMrFVAmpmZmZmpVUBcj8L1KKxVQHsUrkfhqlVA4XoUrkexVUB7FK5H4cpVQIXrUbge5VVAUrgehesBVkD2KFyPwhVWQGZmZmZmNlZAXI/C9ShMVkB7FK5H4WpWQAAAAAAAcFZA16NwPQpXVkBSuB6F60FWQKRwPQrXM1ZAzczMzMwsVkBcj8L1KCxWQNejcD0KJ1ZACtejcD0aVkCamZmZmQlWQD0K16Nw/VVAMzMzMzPzVUAK16NwPdpVQI/C9Shcv1VA9ihcj8KlVUDNzMzMzIxVQGZmZmZmhlVAFK5H4XqUVUBI4XoUrqdVQA==\"},\"shape\":[122],\"dtype\":\"float64\",\"order\":\"little\"}]]}}},\"view\":{\"type\":\"object\",\"name\":\"CDSView\",\"id\":\"p4047\",\"attributes\":{\"filter\":{\"type\":\"object\",\"name\":\"AllIndices\",\"id\":\"p4048\"}}},\"glyph\":{\"type\":\"object\",\"name\":\"Line\",\"id\":\"p4043\",\"attributes\":{\"x\":{\"type\":\"field\",\"field\":\"x\"},\"y\":{\"type\":\"field\",\"field\":\"y\"},\"line_color\":\"deepskyblue\",\"line_width\":2}},\"nonselection_glyph\":{\"type\":\"object\",\"name\":\"Line\",\"id\":\"p4044\",\"attributes\":{\"x\":{\"type\":\"field\",\"field\":\"x\"},\"y\":{\"type\":\"field\",\"field\":\"y\"},\"line_color\":\"deepskyblue\",\"line_alpha\":0.1,\"line_width\":2}},\"muted_glyph\":{\"type\":\"object\",\"name\":\"Line\",\"id\":\"p4045\",\"attributes\":{\"x\":{\"type\":\"field\",\"field\":\"x\"},\"y\":{\"type\":\"field\",\"field\":\"y\"},\"line_color\":\"deepskyblue\",\"line_alpha\":0.2,\"line_width\":2}}}},{\"type\":\"object\",\"name\":\"GlyphRenderer\",\"id\":\"p4057\",\"attributes\":{\"data_source\":{\"type\":\"object\",\"name\":\"ColumnDataSource\",\"id\":\"p4051\",\"attributes\":{\"selected\":{\"type\":\"object\",\"name\":\"Selection\",\"id\":\"p4052\",\"attributes\":{\"indices\":[],\"line_indices\":[]}},\"selection_policy\":{\"type\":\"object\",\"name\":\"UnionRenderers\",\"id\":\"p4053\"},\"data\":{\"type\":\"map\",\"entries\":[[\"x\",{\"type\":\"ndarray\",\"array\":{\"type\":\"bytes\",\"data\":\"AAAAAAAAAACamZmZmZnJP5qZmZmZmdk/MzMzMzMz4z+amZmZmZnpPwAAAAAAAPA/MzMzMzMz8z9mZmZmZmb2P5qZmZmZmfk/zczMzMzM/D8AAAAAAAAAQJqZmZmZmQFAMzMzMzMzA0DNzMzMzMwEQGZmZmZmZgZAAAAAAAAACECamZmZmZkJQDMzMzMzMwtAzczMzMzMDEBmZmZmZmYOQAAAAAAAABBAzczMzMzMEECamZmZmZkRQGZmZmZmZhJAMzMzMzMzE0AAAAAAAAAUQM3MzMzMzBRAmpmZmZmZFUBmZmZmZmYWQDMzMzMzMxdAAAAAAAAAGEDNzMzMzMwYQJqZmZmZmRlAZmZmZmZmGkAzMzMzMzMbQAAAAAAAABxAzczMzMzMHECamZmZmZkdQGZmZmZmZh5AMzMzMzMzH0AAAAAAAAAgQGZmZmZmZiBAzczMzMzMIEAzMzMzMzMhQJqZmZmZmSFAAAAAAAAAIkBmZmZmZmYiQM3MzMzMzCJAMzMzMzMzI0CamZmZmZkjQAAAAAAAACRAZmZmZmZmJEDNzMzMzMwkQDMzMzMzMyVAmpmZmZmZJUAAAAAAAAAmQGZmZmZmZiZAzczMzMzMJkAzMzMzMzMnQJqZmZmZmSdAAAAAAAAAKEBmZmZmZmYoQM3MzMzMzChAMzMzMzMzKUCamZmZmZkpQAAAAAAAACpAZmZmZmZmKkDNzMzMzMwqQDMzMzMzMytAmpmZmZmZK0AAAAAAAAAsQGZmZmZmZixAzczMzMzMLEAzMzMzMzMtQJqZmZmZmS1AAAAAAAAALkBmZmZmZmYuQM3MzMzMzC5AMzMzMzMzL0CamZmZmZkvQAAAAAAAADBAMzMzMzMzMEBmZmZmZmYwQJqZmZmZmTBAzczMzMzMMEAAAAAAAAAxQDMzMzMzMzFAZmZmZmZmMUCamZmZmZkxQM3MzMzMzDFAAAAAAAAAMkAzMzMzMzMyQGZmZmZmZjJAmpmZmZmZMkDNzMzMzMwyQAAAAAAAADNAMzMzMzMzM0BmZmZmZmYzQJqZmZmZmTNAzczMzMzMM0AAAAAAAAA0QDMzMzMzMzRAZmZmZmZmNECamZmZmZk0QM3MzMzMzDRAAAAAAAAANUAzMzMzMzM1QGZmZmZmZjVAmpmZmZmZNUDNzMzMzMw1QAAAAAAAADZAMzMzMzMzNkBmZmZmZmY2QJqZmZmZmTZAzczMzMzMNkAAAAAAAAA3QDMzMzMzMzdAZmZmZmZmN0CamZmZmZk3QM3MzMzMzDdAAAAAAAAAOEAzMzMzMzM4QA==\"},\"shape\":[122],\"dtype\":\"float64\",\"order\":\"little\"}],[\"y\",{\"type\":\"ndarray\",\"array\":{\"type\":\"bytes\",\"data\":\"x0s3iUFgJEBzaJHtfD8vQKabxCCwcjRA8tJNYhBYOUB9PzVeusk/QFK4HoXrEURAqMZLN4lBR0BzaJHtfL9KQIgW2c73E05A30+Nl27yUECwcmiR7bxSQHE9CtejkFRALbKd76dmVkCwcmiR7VxYQD81XrpJTFpAIbByaJENXECgGi/dJAZeQIKVQ4tsx19AJzEIrBzKYECPwvUoXK9hQAaBlUOLjGJAYxBYObR4Y0DhehSuR1FkQG3n+6nxImVA4XoUrkcBZkBYObTIdt5mQNEi2/l+umdAXrpJDAKLaED0/dR46VZpQJzEILByGGpAKVyPwvXoakC0yHa+n7prQGdmZmZmdmxA5KWbxCBQbUCYbhKDwApuQEs3iUFgxW5AAiuHFtl+b0DVeOkmMSBwQLByaJHtfHBA/tR46SbhcEBh5dAi2zlxQDDdJAaBnXFAH4XrUbjucUD6fmq8dEtyQObQItv5nnJAPN9PjZf+ckAxCKwcWkxzQB+F61G4nnNAEoPAyqHtc0CPwvUoXDd0QIPAyqFFhnRABFYOLbLNdEDwp8ZLNyF1QOF6FK5HcXVA5/up8dK1dUBKDAIrhw52QGHl0CLbSXZA30+Nl26SdkDZzvdT4912QFK4HoXrKXdA5tAi2/lmd0Dn+6nx0q13QOxRuB6F83dAmpmZmZkheECd76fGS2d4QLtJDAIrn3hAx0s3iUHgeEDkpZvEIBh5QBFYObTIRnlAs53vp8Z7eUBcj8L1KKx5QO58PzVe6nlAj8L1KFwfekAxCKwcWlR6QNNNYhBYiXpA7FG4HoXDekCXbhKDwPJ6QLtJDAIrJ3tAW2Q7309de0B/arx0k5B7QESLbOf7sXtA+FPjpZvce0D2KFyPwt17QFg5tMh27ntA/tR46SYhfEAw3SQGgU18QPT91HjpbnxAwcqhRbaLfEB7FK5H4bJ8QE5iEFg5zHxAppvEILDifEAL16NwPfJ8QLgehetRIH1AiUFg5dA6fUBQjZduElt9QJQYBFYOfX1A/9R46SaJfUBKDAIrh6Z9QENg5dAiq31Asp3vp8azfUCUGARWDsV9QNnO91Pj5X1AyHa+nxrvfUBKDAIrh+59QL6fGi/d9H1ALIcW2c7/fUAMAiuHFhF+QH0/NV66GX5A5KWbxCAofkC1yHa+n0J+QAaBlUOLXH5Ac2iR7XxnfkBoke18P21+QM73U+Ole35A001iEFh5fkA730+Nl4Z+QKwcWmQ7j35AzKFFtvN9fkDGILByaIF+QESLbOf7gX5Atch2vp+KfkC28/3UeIl+QA==\"},\"shape\":[122],\"dtype\":\"float64\",\"order\":\"little\"}]]}}},\"view\":{\"type\":\"object\",\"name\":\"CDSView\",\"id\":\"p4058\",\"attributes\":{\"filter\":{\"type\":\"object\",\"name\":\"AllIndices\",\"id\":\"p4059\"}}},\"glyph\":{\"type\":\"object\",\"name\":\"Line\",\"id\":\"p4054\",\"attributes\":{\"x\":{\"type\":\"field\",\"field\":\"x\"},\"y\":{\"type\":\"field\",\"field\":\"y\"},\"line_color\":\"limegreen\",\"line_width\":2}},\"nonselection_glyph\":{\"type\":\"object\",\"name\":\"Line\",\"id\":\"p4055\",\"attributes\":{\"x\":{\"type\":\"field\",\"field\":\"x\"},\"y\":{\"type\":\"field\",\"field\":\"y\"},\"line_color\":\"limegreen\",\"line_alpha\":0.1,\"line_width\":2}},\"muted_glyph\":{\"type\":\"object\",\"name\":\"Line\",\"id\":\"p4056\",\"attributes\":{\"x\":{\"type\":\"field\",\"field\":\"x\"},\"y\":{\"type\":\"field\",\"field\":\"y\"},\"line_color\":\"limegreen\",\"line_alpha\":0.2,\"line_width\":2}}}},{\"type\":\"object\",\"name\":\"GlyphRenderer\",\"id\":\"p4067\",\"attributes\":{\"data_source\":{\"type\":\"object\",\"name\":\"ColumnDataSource\",\"id\":\"p4061\",\"attributes\":{\"selected\":{\"type\":\"object\",\"name\":\"Selection\",\"id\":\"p4062\",\"attributes\":{\"indices\":[],\"line_indices\":[]}},\"selection_policy\":{\"type\":\"object\",\"name\":\"UnionRenderers\",\"id\":\"p4063\"},\"data\":{\"type\":\"map\",\"entries\":[[\"x\",{\"type\":\"ndarray\",\"array\":{\"type\":\"bytes\",\"data\":\"AAAAAAAAAACamZmZmZnJP5qZmZmZmdk/MzMzMzMz4z+amZmZmZnpPwAAAAAAAPA/MzMzMzMz8z9mZmZmZmb2P5qZmZmZmfk/zczMzMzM/D8AAAAAAAAAQJqZmZmZmQFAMzMzMzMzA0DNzMzMzMwEQGZmZmZmZgZAAAAAAAAACECamZmZmZkJQDMzMzMzMwtAzczMzMzMDEBmZmZmZmYOQAAAAAAAABBAzczMzMzMEECamZmZmZkRQGZmZmZmZhJAMzMzMzMzE0AAAAAAAAAUQM3MzMzMzBRAmpmZmZmZFUBmZmZmZmYWQDMzMzMzMxdAAAAAAAAAGEDNzMzMzMwYQJqZmZmZmRlAZmZmZmZmGkAzMzMzMzMbQAAAAAAAABxAzczMzMzMHECamZmZmZkdQGZmZmZmZh5AMzMzMzMzH0AAAAAAAAAgQGZmZmZmZiBAzczMzMzMIEAzMzMzMzMhQJqZmZmZmSFAAAAAAAAAIkBmZmZmZmYiQM3MzMzMzCJAMzMzMzMzI0CamZmZmZkjQAAAAAAAACRAZmZmZmZmJEDNzMzMzMwkQDMzMzMzMyVAmpmZmZmZJUAAAAAAAAAmQGZmZmZmZiZAzczMzMzMJkAzMzMzMzMnQJqZmZmZmSdAAAAAAAAAKEBmZmZmZmYoQM3MzMzMzChAMzMzMzMzKUCamZmZmZkpQAAAAAAAACpAZmZmZmZmKkDNzMzMzMwqQDMzMzMzMytAmpmZmZmZK0AAAAAAAAAsQGZmZmZmZixAzczMzMzMLEAzMzMzMzMtQJqZmZmZmS1AAAAAAAAALkBmZmZmZmYuQM3MzMzMzC5AMzMzMzMzL0CamZmZmZkvQAAAAAAAADBAMzMzMzMzMEBmZmZmZmYwQJqZmZmZmTBAzczMzMzMMEAAAAAAAAAxQDMzMzMzMzFAZmZmZmZmMUCamZmZmZkxQM3MzMzMzDFAAAAAAAAAMkAzMzMzMzMyQGZmZmZmZjJAmpmZmZmZMkDNzMzMzMwyQAAAAAAAADNAMzMzMzMzM0BmZmZmZmYzQJqZmZmZmTNAzczMzMzMM0AAAAAAAAA0QDMzMzMzMzRAZmZmZmZmNECamZmZmZk0QM3MzMzMzDRAAAAAAAAANUAzMzMzMzM1QGZmZmZmZjVAmpmZmZmZNUDNzMzMzMw1QAAAAAAAADZAMzMzMzMzNkBmZmZmZmY2QJqZmZmZmTZAzczMzMzMNkAAAAAAAAA3QDMzMzMzMzdAZmZmZmZmN0CamZmZmZk3QM3MzMzMzDdAAAAAAAAAOEAzMzMzMzM4QA==\"},\"shape\":[122],\"dtype\":\"float64\",\"order\":\"little\"}],[\"y\",{\"type\":\"ndarray\",\"array\":{\"type\":\"bytes\",\"data\":\"5z8JJfEOaUB2oVE0dLNoQNLNtc+/n2hAJeoX/X+CaEATpQ/YHlZoQAdIplz3K2hA/ychfqQWaEAJN7qmBfFnQJBLqKHo12dAf84BS6uuZ0AxtA2sb4BnQJNUp1Y1S2dAxo9sbDkdZ0DQ9rG+H+JmQHi2nzAKpmZAcuNs8m+FZkCW5hzk+kZmQBFyzqLfH2ZAtQpIRJXjZUBH2w0acp9lQB3ak3mmXGVA8S2SgIIYZUBa+Xx1A9VkQD63R/amlGRAUM3l+W9bZECup7qSuh9kQHipM2un4mNAxl9zhlesY0CI34i8jm5jQPJ9AXgLOWNAMaM19af3YkBBG6508bliQP9S8J49dWJACV6EwOgjYkBKJ7fVfNhhQJ6ZcXBgmGFAvoYOeHZdYUC9c/XQVSphQMX+OHRX/GBAJuCKxtHJYEBL76nJbKRgQBYc5abZa2BAwQwdA9I+YEA1luN/PvVfQPwSn11siF9A0XyVNZ8RX0DzFksTLLpeQEKFR5jLOF5AsASaJ6+rXUBAUSRauixdQByOSgY5wFxArKrErExCXEDARzkIIsFbQM149nBZcVtALOGnlqAmW0BNmeIhbctaQKFLurx9cVpALtqn/P31WUBqR4saMplZQA4JT0rBLllALwKlttPCWEDF9d1IvSFYQG6DIwIOdldA0bGf1ZvuVkBEqEKBMBdWQBzev0v4SlVA0Rn9xCKQVEBXRQ3Gz7dTQNc+nXs+7VJAIJfMsPcVUkB81AIoYHBRQAgOnMp5tVBAmUarqewDUEArBRd5V+ZOQKa6RtOcAk5AXH8ujeNITUAMs0yNsohMQEu3Mi44BkxAEP2WCY9uS0DJHBo2d+JKQDrSoeVdHkpARp8R3OaCR0CUgkE1UjVFQLIRSfDhHUNAqiUweeEfQkB2o7VIGaZBQIIiIrfJyEFA3sqo8RWbQUD9JqfBgOJAQCeLx4B9XD9APD1enwjsPED9kJ8UPJk7QKUzNwmi5zpAnLhxcQNkO0BvMlCoEi07QISYd0LwajtABNMbel+jOkDnMk3MoHA3QDJKdFu4BTRA6y2hwAJPMEAwbd1d8akrQDTYFknANCNAWYXBCpX/GkDnXyATF0wGQKKt9Wvp6QBAUrgs57iAFUCs91uWhEwgQK7tx8eO9CNAH/UfK7bwJUC6S+bcyTkmQCOGqxwOqCdAmtQNtdrxKkBgxmOm3WMvQOnuIkcjXzFASI8CYaa0MkDJlcw0ihY2QGhcReumrjlAUtQm4zUVPUCI+lLm/ThAQFu0H85noUBAzO3d455oP0C1rN0a/eI8QA==\"},\"shape\":[122],\"dtype\":\"float64\",\"order\":\"little\"}]]}}},\"view\":{\"type\":\"object\",\"name\":\"CDSView\",\"id\":\"p4068\",\"attributes\":{\"filter\":{\"type\":\"object\",\"name\":\"AllIndices\",\"id\":\"p4069\"}}},\"glyph\":{\"type\":\"object\",\"name\":\"Line\",\"id\":\"p4064\",\"attributes\":{\"x\":{\"type\":\"field\",\"field\":\"x\"},\"y\":{\"type\":\"field\",\"field\":\"y\"},\"line_color\":\"red\",\"line_width\":2}},\"nonselection_glyph\":{\"type\":\"object\",\"name\":\"Line\",\"id\":\"p4065\",\"attributes\":{\"x\":{\"type\":\"field\",\"field\":\"x\"},\"y\":{\"type\":\"field\",\"field\":\"y\"},\"line_color\":\"red\",\"line_alpha\":0.1,\"line_width\":2}},\"muted_glyph\":{\"type\":\"object\",\"name\":\"Line\",\"id\":\"p4066\",\"attributes\":{\"x\":{\"type\":\"field\",\"field\":\"x\"},\"y\":{\"type\":\"field\",\"field\":\"y\"},\"line_color\":\"red\",\"line_alpha\":0.2,\"line_width\":2}}}},{\"type\":\"object\",\"name\":\"GlyphRenderer\",\"id\":\"p4077\",\"attributes\":{\"data_source\":{\"type\":\"object\",\"name\":\"ColumnDataSource\",\"id\":\"p4071\",\"attributes\":{\"selected\":{\"type\":\"object\",\"name\":\"Selection\",\"id\":\"p4072\",\"attributes\":{\"indices\":[],\"line_indices\":[]}},\"selection_policy\":{\"type\":\"object\",\"name\":\"UnionRenderers\",\"id\":\"p4073\"},\"data\":{\"type\":\"map\",\"entries\":[[\"x0\",[21.2]],[\"y0\",[0.0]],[\"x1\",[21.2]],[\"y1\",[488.06]]]}}},\"view\":{\"type\":\"object\",\"name\":\"CDSView\",\"id\":\"p4078\",\"attributes\":{\"filter\":{\"type\":\"object\",\"name\":\"AllIndices\",\"id\":\"p4079\"}}},\"glyph\":{\"type\":\"object\",\"name\":\"Segment\",\"id\":\"p4074\",\"attributes\":{\"x0\":{\"type\":\"field\",\"field\":\"x0\"},\"y0\":{\"type\":\"field\",\"field\":\"y0\"},\"x1\":{\"type\":\"field\",\"field\":\"x1\"},\"y1\":{\"type\":\"field\",\"field\":\"y1\"},\"line_color\":{\"type\":\"value\",\"value\":\"lightblue\"},\"line_width\":{\"type\":\"value\",\"value\":3}}},\"nonselection_glyph\":{\"type\":\"object\",\"name\":\"Segment\",\"id\":\"p4075\",\"attributes\":{\"x0\":{\"type\":\"field\",\"field\":\"x0\"},\"y0\":{\"type\":\"field\",\"field\":\"y0\"},\"x1\":{\"type\":\"field\",\"field\":\"x1\"},\"y1\":{\"type\":\"field\",\"field\":\"y1\"},\"line_color\":{\"type\":\"value\",\"value\":\"lightblue\"},\"line_alpha\":{\"type\":\"value\",\"value\":0.1},\"line_width\":{\"type\":\"value\",\"value\":3}}},\"muted_glyph\":{\"type\":\"object\",\"name\":\"Segment\",\"id\":\"p4076\",\"attributes\":{\"x0\":{\"type\":\"field\",\"field\":\"x0\"},\"y0\":{\"type\":\"field\",\"field\":\"y0\"},\"x1\":{\"type\":\"field\",\"field\":\"x1\"},\"y1\":{\"type\":\"field\",\"field\":\"y1\"},\"line_color\":{\"type\":\"value\",\"value\":\"lightblue\"},\"line_alpha\":{\"type\":\"value\",\"value\":0.2},\"line_width\":{\"type\":\"value\",\"value\":3}}}}},{\"type\":\"object\",\"name\":\"GlyphRenderer\",\"id\":\"p4086\",\"attributes\":{\"data_source\":{\"type\":\"object\",\"name\":\"ColumnDataSource\",\"id\":\"p4080\",\"attributes\":{\"selected\":{\"type\":\"object\",\"name\":\"Selection\",\"id\":\"p4081\",\"attributes\":{\"indices\":[],\"line_indices\":[]}},\"selection_policy\":{\"type\":\"object\",\"name\":\"UnionRenderers\",\"id\":\"p4082\"},\"data\":{\"type\":\"map\",\"entries\":[[\"x0\",[22.7]],[\"y0\",[0.0]],[\"x1\",[22.7]],[\"y1\",[488.06]]]}}},\"view\":{\"type\":\"object\",\"name\":\"CDSView\",\"id\":\"p4087\",\"attributes\":{\"filter\":{\"type\":\"object\",\"name\":\"AllIndices\",\"id\":\"p4088\"}}},\"glyph\":{\"type\":\"object\",\"name\":\"Segment\",\"id\":\"p4083\",\"attributes\":{\"x0\":{\"type\":\"field\",\"field\":\"x0\"},\"y0\":{\"type\":\"field\",\"field\":\"y0\"},\"x1\":{\"type\":\"field\",\"field\":\"x1\"},\"y1\":{\"type\":\"field\",\"field\":\"y1\"},\"line_color\":{\"type\":\"value\",\"value\":\"darkseagreen\"}}},\"nonselection_glyph\":{\"type\":\"object\",\"name\":\"Segment\",\"id\":\"p4084\",\"attributes\":{\"x0\":{\"type\":\"field\",\"field\":\"x0\"},\"y0\":{\"type\":\"field\",\"field\":\"y0\"},\"x1\":{\"type\":\"field\",\"field\":\"x1\"},\"y1\":{\"type\":\"field\",\"field\":\"y1\"},\"line_color\":{\"type\":\"value\",\"value\":\"darkseagreen\"},\"line_alpha\":{\"type\":\"value\",\"value\":0.1}}},\"muted_glyph\":{\"type\":\"object\",\"name\":\"Segment\",\"id\":\"p4085\",\"attributes\":{\"x0\":{\"type\":\"field\",\"field\":\"x0\"},\"y0\":{\"type\":\"field\",\"field\":\"y0\"},\"x1\":{\"type\":\"field\",\"field\":\"x1\"},\"y1\":{\"type\":\"field\",\"field\":\"y1\"},\"line_color\":{\"type\":\"value\",\"value\":\"darkseagreen\"},\"line_alpha\":{\"type\":\"value\",\"value\":0.2}}}}},{\"type\":\"object\",\"name\":\"GlyphRenderer\",\"id\":\"p4095\",\"attributes\":{\"data_source\":{\"type\":\"object\",\"name\":\"ColumnDataSource\",\"id\":\"p4089\",\"attributes\":{\"selected\":{\"type\":\"object\",\"name\":\"Selection\",\"id\":\"p4090\",\"attributes\":{\"indices\":[],\"line_indices\":[]}},\"selection_policy\":{\"type\":\"object\",\"name\":\"UnionRenderers\",\"id\":\"p4091\"},\"data\":{\"type\":\"map\",\"entries\":[[\"x0\",[19.7]],[\"y0\",[0.0]],[\"x1\",[19.7]],[\"y1\",[488.06]]]}}},\"view\":{\"type\":\"object\",\"name\":\"CDSView\",\"id\":\"p4096\",\"attributes\":{\"filter\":{\"type\":\"object\",\"name\":\"AllIndices\",\"id\":\"p4097\"}}},\"glyph\":{\"type\":\"object\",\"name\":\"Segment\",\"id\":\"p4092\",\"attributes\":{\"x0\":{\"type\":\"field\",\"field\":\"x0\"},\"y0\":{\"type\":\"field\",\"field\":\"y0\"},\"x1\":{\"type\":\"field\",\"field\":\"x1\"},\"y1\":{\"type\":\"field\",\"field\":\"y1\"},\"line_color\":{\"type\":\"value\",\"value\":\"darkseagreen\"}}},\"nonselection_glyph\":{\"type\":\"object\",\"name\":\"Segment\",\"id\":\"p4093\",\"attributes\":{\"x0\":{\"type\":\"field\",\"field\":\"x0\"},\"y0\":{\"type\":\"field\",\"field\":\"y0\"},\"x1\":{\"type\":\"field\",\"field\":\"x1\"},\"y1\":{\"type\":\"field\",\"field\":\"y1\"},\"line_color\":{\"type\":\"value\",\"value\":\"darkseagreen\"},\"line_alpha\":{\"type\":\"value\",\"value\":0.1}}},\"muted_glyph\":{\"type\":\"object\",\"name\":\"Segment\",\"id\":\"p4094\",\"attributes\":{\"x0\":{\"type\":\"field\",\"field\":\"x0\"},\"y0\":{\"type\":\"field\",\"field\":\"y0\"},\"x1\":{\"type\":\"field\",\"field\":\"x1\"},\"y1\":{\"type\":\"field\",\"field\":\"y1\"},\"line_color\":{\"type\":\"value\",\"value\":\"darkseagreen\"},\"line_alpha\":{\"type\":\"value\",\"value\":0.2}}}}},{\"type\":\"object\",\"name\":\"GlyphRenderer\",\"id\":\"p4104\",\"attributes\":{\"data_source\":{\"type\":\"object\",\"name\":\"ColumnDataSource\",\"id\":\"p4098\",\"attributes\":{\"selected\":{\"type\":\"object\",\"name\":\"Selection\",\"id\":\"p4099\",\"attributes\":{\"indices\":[],\"line_indices\":[]}},\"selection_policy\":{\"type\":\"object\",\"name\":\"UnionRenderers\",\"id\":\"p4100\"},\"data\":{\"type\":\"map\",\"entries\":[[\"x\",[21.2]],[\"y\",[488.06]],[\"size\",[20]]]}}},\"view\":{\"type\":\"object\",\"name\":\"CDSView\",\"id\":\"p4105\",\"attributes\":{\"filter\":{\"type\":\"object\",\"name\":\"AllIndices\",\"id\":\"p4106\"}}},\"glyph\":{\"type\":\"object\",\"name\":\"Scatter\",\"id\":\"p4101\",\"attributes\":{\"x\":{\"type\":\"field\",\"field\":\"x\"},\"y\":{\"type\":\"field\",\"field\":\"y\"},\"size\":{\"type\":\"field\",\"field\":\"size\"},\"line_color\":{\"type\":\"value\",\"value\":\"lightblue\"},\"line_width\":{\"type\":\"value\",\"value\":3},\"fill_color\":{\"type\":\"value\",\"value\":null},\"marker\":{\"type\":\"value\",\"value\":\"square_cross\"}}},\"nonselection_glyph\":{\"type\":\"object\",\"name\":\"Scatter\",\"id\":\"p4102\",\"attributes\":{\"x\":{\"type\":\"field\",\"field\":\"x\"},\"y\":{\"type\":\"field\",\"field\":\"y\"},\"size\":{\"type\":\"field\",\"field\":\"size\"},\"line_color\":{\"type\":\"value\",\"value\":\"lightblue\"},\"line_alpha\":{\"type\":\"value\",\"value\":0.1},\"line_width\":{\"type\":\"value\",\"value\":3},\"fill_color\":{\"type\":\"value\",\"value\":null},\"fill_alpha\":{\"type\":\"value\",\"value\":0.1},\"hatch_alpha\":{\"type\":\"value\",\"value\":0.1},\"marker\":{\"type\":\"value\",\"value\":\"square_cross\"}}},\"muted_glyph\":{\"type\":\"object\",\"name\":\"Scatter\",\"id\":\"p4103\",\"attributes\":{\"x\":{\"type\":\"field\",\"field\":\"x\"},\"y\":{\"type\":\"field\",\"field\":\"y\"},\"size\":{\"type\":\"field\",\"field\":\"size\"},\"line_color\":{\"type\":\"value\",\"value\":\"lightblue\"},\"line_alpha\":{\"type\":\"value\",\"value\":0.2},\"line_width\":{\"type\":\"value\",\"value\":3},\"fill_color\":{\"type\":\"value\",\"value\":null},\"fill_alpha\":{\"type\":\"value\",\"value\":0.2},\"hatch_alpha\":{\"type\":\"value\",\"value\":0.2},\"marker\":{\"type\":\"value\",\"value\":\"square_cross\"}}}}}],\"toolbar\":{\"type\":\"object\",\"name\":\"Toolbar\",\"id\":\"p3991\",\"attributes\":{\"tools\":[{\"type\":\"object\",\"name\":\"PanTool\",\"id\":\"p4006\"},{\"type\":\"object\",\"name\":\"WheelZoomTool\",\"id\":\"p4007\",\"attributes\":{\"renderers\":\"auto\"}},{\"type\":\"object\",\"name\":\"BoxZoomTool\",\"id\":\"p4008\",\"attributes\":{\"overlay\":{\"type\":\"object\",\"name\":\"BoxAnnotation\",\"id\":\"p4009\",\"attributes\":{\"syncable\":false,\"line_color\":\"black\",\"line_alpha\":1.0,\"line_width\":2,\"line_dash\":[4,4],\"fill_color\":\"lightgrey\",\"fill_alpha\":0.5,\"level\":\"overlay\",\"visible\":false,\"left\":{\"type\":\"number\",\"value\":\"nan\"},\"right\":{\"type\":\"number\",\"value\":\"nan\"},\"top\":{\"type\":\"number\",\"value\":\"nan\"},\"bottom\":{\"type\":\"number\",\"value\":\"nan\"},\"left_units\":\"canvas\",\"right_units\":\"canvas\",\"top_units\":\"canvas\",\"bottom_units\":\"canvas\",\"handles\":{\"type\":\"object\",\"name\":\"BoxInteractionHandles\",\"id\":\"p4015\",\"attributes\":{\"all\":{\"type\":\"object\",\"name\":\"AreaVisuals\",\"id\":\"p4014\",\"attributes\":{\"fill_color\":\"white\",\"hover_fill_color\":\"lightgray\"}}}}}}}},{\"type\":\"object\",\"name\":\"SaveTool\",\"id\":\"p4016\"},{\"type\":\"object\",\"name\":\"ResetTool\",\"id\":\"p4017\"},{\"type\":\"object\",\"name\":\"HelpTool\",\"id\":\"p4018\"},{\"type\":\"object\",\"name\":\"HoverTool\",\"id\":\"p4050\",\"attributes\":{\"renderers\":\"auto\",\"tooltips\":[[\"Y-val\",\"@y{0.00}\"]]}}]}},\"left\":[{\"type\":\"object\",\"name\":\"LinearAxis\",\"id\":\"p4001\",\"attributes\":{\"ticker\":{\"type\":\"object\",\"name\":\"BasicTicker\",\"id\":\"p4002\",\"attributes\":{\"mantissas\":[1,2,5]}},\"formatter\":{\"type\":\"object\",\"name\":\"BasicTickFormatter\",\"id\":\"p4003\"},\"axis_label\":\"km/h\",\"axis_label_standoff\":10,\"axis_label_text_color\":\"#E0E0E0\",\"axis_label_text_font\":\"Helvetica\",\"axis_label_text_font_size\":\"1.25em\",\"axis_label_text_font_style\":\"normal\",\"major_label_policy\":{\"type\":\"object\",\"name\":\"AllLabels\",\"id\":\"p4004\"},\"major_label_text_color\":\"#E0E0E0\",\"major_label_text_font\":\"Helvetica\",\"major_label_text_font_size\":\"1.025em\",\"axis_line_color\":\"#E0E0E0\",\"axis_line_alpha\":0,\"major_tick_line_color\":\"#E0E0E0\",\"major_tick_line_alpha\":0,\"minor_tick_line_color\":\"#E0E0E0\",\"minor_tick_line_alpha\":0}},{\"type\":\"object\",\"name\":\"LinearAxis\",\"id\":\"p4021\",\"attributes\":{\"y_range_name\":\"altitudeFt\",\"ticker\":{\"type\":\"object\",\"name\":\"BasicTicker\",\"id\":\"p4022\",\"attributes\":{\"mantissas\":[1,2,5]}},\"formatter\":{\"type\":\"object\",\"name\":\"BasicTickFormatter\",\"id\":\"p4023\"},\"axis_label\":\"Alt (ft)\",\"axis_label_standoff\":10,\"axis_label_text_color\":\"#E0E0E0\",\"axis_label_text_font\":\"Helvetica\",\"axis_label_text_font_size\":\"1.25em\",\"axis_label_text_font_style\":\"normal\",\"major_label_policy\":{\"type\":\"object\",\"name\":\"AllLabels\",\"id\":\"p4024\"},\"major_label_text_color\":\"#E0E0E0\",\"major_label_text_font\":\"Helvetica\",\"major_label_text_font_size\":\"1.025em\",\"axis_line_color\":\"#E0E0E0\",\"axis_line_alpha\":0,\"major_tick_line_color\":\"#E0E0E0\",\"major_tick_line_alpha\":0,\"minor_tick_line_color\":\"#E0E0E0\",\"minor_tick_line_alpha\":0}},{\"type\":\"object\",\"name\":\"LinearAxis\",\"id\":\"p4025\",\"attributes\":{\"y_range_name\":\"angle\",\"ticker\":{\"type\":\"object\",\"name\":\"BasicTicker\",\"id\":\"p4026\",\"attributes\":{\"mantissas\":[1,2,5]}},\"formatter\":{\"type\":\"object\",\"name\":\"BasicTickFormatter\",\"id\":\"p4027\"},\"axis_label\":\"angle\",\"axis_label_standoff\":10,\"axis_label_text_color\":\"#E0E0E0\",\"axis_label_text_font\":\"Helvetica\",\"axis_label_text_font_size\":\"1.25em\",\"axis_label_text_font_style\":\"normal\",\"major_label_policy\":{\"type\":\"object\",\"name\":\"AllLabels\",\"id\":\"p4028\"},\"major_label_text_color\":\"#E0E0E0\",\"major_label_text_font\":\"Helvetica\",\"major_label_text_font_size\":\"1.025em\",\"axis_line_color\":\"#E0E0E0\",\"axis_line_alpha\":0,\"major_tick_line_color\":\"#E0E0E0\",\"major_tick_line_alpha\":0,\"minor_tick_line_color\":\"#E0E0E0\",\"minor_tick_line_alpha\":0}}],\"below\":[{\"type\":\"object\",\"name\":\"LinearAxis\",\"id\":\"p3996\",\"attributes\":{\"ticker\":{\"type\":\"object\",\"name\":\"BasicTicker\",\"id\":\"p3997\",\"attributes\":{\"mantissas\":[1,2,5]}},\"formatter\":{\"type\":\"object\",\"name\":\"BasicTickFormatter\",\"id\":\"p3998\"},\"axis_label\":\"seconds from exit\",\"axis_label_standoff\":10,\"axis_label_text_color\":\"#E0E0E0\",\"axis_label_text_font\":\"Helvetica\",\"axis_label_text_font_size\":\"1.25em\",\"axis_label_text_font_style\":\"normal\",\"major_label_policy\":{\"type\":\"object\",\"name\":\"AllLabels\",\"id\":\"p3999\"},\"major_label_text_color\":\"#E0E0E0\",\"major_label_text_font\":\"Helvetica\",\"major_label_text_font_size\":\"1.025em\",\"axis_line_color\":\"#E0E0E0\",\"axis_line_alpha\":0,\"major_tick_line_color\":\"#E0E0E0\",\"major_tick_line_alpha\":0,\"minor_tick_line_color\":\"#E0E0E0\",\"minor_tick_line_alpha\":0}}],\"center\":[{\"type\":\"object\",\"name\":\"Grid\",\"id\":\"p4000\",\"attributes\":{\"axis\":{\"id\":\"p3996\"},\"grid_line_color\":\"#E0E0E0\",\"grid_line_alpha\":0.25}},{\"type\":\"object\",\"name\":\"Grid\",\"id\":\"p4005\",\"attributes\":{\"dimension\":1,\"axis\":{\"id\":\"p4001\"},\"grid_line_color\":\"#E0E0E0\",\"grid_line_alpha\":0.25}},{\"type\":\"object\",\"name\":\"Legend\",\"id\":\"p4038\",\"attributes\":{\"border_line_alpha\":0,\"background_fill_color\":\"#20262B\",\"background_fill_alpha\":0.25,\"label_text_color\":\"#E0E0E0\",\"label_text_font\":\"Helvetica\",\"label_text_font_size\":\"1.025em\",\"label_standoff\":8,\"glyph_width\":15,\"spacing\":8,\"items\":[{\"type\":\"object\",\"name\":\"LegendItem\",\"id\":\"p4039\",\"attributes\":{\"label\":{\"type\":\"value\",\"value\":\"Alt (ft)\"},\"renderers\":[{\"id\":\"p4035\"}]}},{\"type\":\"object\",\"name\":\"LegendItem\",\"id\":\"p4049\",\"attributes\":{\"label\":{\"type\":\"value\",\"value\":\"angle\"},\"renderers\":[{\"id\":\"p4046\"}]}},{\"type\":\"object\",\"name\":\"LegendItem\",\"id\":\"p4060\",\"attributes\":{\"label\":{\"type\":\"value\",\"value\":\"speed\"},\"renderers\":[{\"id\":\"p4057\"}]}},{\"type\":\"object\",\"name\":\"LegendItem\",\"id\":\"p4070\",\"attributes\":{\"label\":{\"type\":\"value\",\"value\":\"H-speed\"},\"renderers\":[{\"id\":\"p4067\"}]}}]}}],\"background_fill_color\":\"#20262B\",\"border_fill_color\":\"#15191C\"}}]}};\n",
       "  const render_items = [{\"docid\":\"2a475c72-82eb-497a-94a9-2b072d50ba24\",\"roots\":{\"p3982\":\"ba859882-ae01-4589-9140-1f96fffe7719\"},\"root_ids\":[\"p3982\"]}];\n",
       "  void root.Bokeh.embed.embed_items_notebook(docs_json, render_items);\n",
       "  }\n",
       "  if (root.Bokeh !== undefined) {\n",
       "    embed_document(root);\n",
       "  } else {\n",
       "    let attempts = 0;\n",
       "    const timer = setInterval(function(root) {\n",
       "      if (root.Bokeh !== undefined) {\n",
       "        clearInterval(timer);\n",
       "        embed_document(root);\n",
       "      } else {\n",
       "        attempts++;\n",
       "        if (attempts > 100) {\n",
       "          clearInterval(timer);\n",
       "          console.log(\"Bokeh: ERROR: Unable to run BokehJS code because BokehJS library is missing\");\n",
       "        }\n",
       "      }\n",
       "    }, 10, root)\n",
       "  }\n",
       "})(window);"
      ],
      "application/vnd.bokehjs_exec.v0+json": ""
     },
     "metadata": {
      "application/vnd.bokehjs_exec.v0+json": {
       "id": "p3982"
      }
     },
     "output_type": "display_data"
    }
   ],
   "source": [
    "allJumpsPlot = initializePlot('All jumps in set')\n",
    "jumpNumber = 0\n",
    "mixColor = 0\n",
    "for resultRef in sorted(jumpResults.keys()):\n",
    "    if ignoreBaseline and 'baseline' in resultRef:\n",
    "        continue\n",
    "    jumpResult = jumpResults[resultRef]\n",
    "    if jumpResult.score > 0.0:\n",
    "        validJumpStatus = '<hr><h1><span style=\"color: %s\">%s jump - %s - score = %.02f km/h</span></h1>' % (jumpResult.color, resultRef, jumpResult.result, jumpResult.score)        \n",
    "    else:\n",
    "        validJumpStatus = '<hr><h1><span style=\"color: %s\">%s jump - %s</span></h1>' % (jumpResult.color, resultRef, jumpResult.result)\n",
    "    display(widgets.HTML(validJumpStatus))\n",
    "\n",
    "    maxSpeed = jumpResult.maxSpeed\n",
    "    window = jumpResult.window\n",
    "    mixColor = (mixColor+1)%len(SPEED_COLORS)\n",
    "    if jumpResult.score > 0.0:\n",
    "        display(widgets.HTML('<h3>Max speed = {0:,.0f}; '.format(maxSpeed)+('exit at %d m (%d ft), end scoring window at %d m (%d ft)'%(window.start, 3.2808*window.start, window.end, 3.2808*window.end))))\n",
    "        if not isValidMinimumAltitude(jumpResult.data.altitudeAGL.max()):\n",
    "            display(widgets.HTML('<span style=\"color: yellow\"><span style=\"font-weight: bold\">Warning:</span> exit altitude ASL was lower than the minimum scoring altitude according to IPC and USPA.'))\n",
    "        display(widgets.HTML('</h3>'))\n",
    "        # TODO: Move this to an in-notebook function or module.\n",
    "        displayJumpDataIn(jumpResult.table)\n",
    "        individualPlot = initializePlot(resultRef)\n",
    "        individualPlot = initializeExtraYRanges(individualPlot, startY = min(jumpResult.data.altitudeAGLFt)-500.0, endY = max(jumpResult.data.altitudeAGLFt)+500.0)\n",
    "        graphAltitude(individualPlot, jumpResult)\n",
    "        graphAngle(individualPlot, jumpResult)\n",
    "        hoverValue = bm.HoverTool(tooltips = [ ('Y-val', '@y{0.00}'), ])\n",
    "        individualPlot.add_tools(hoverValue)\n",
    "        graphJumpResult(individualPlot,\n",
    "                        jumpResult,\n",
    "                        lineColor = SPEED_COLORS[0])\n",
    "        graphJumpResult(allJumpsPlot,\n",
    "                        jumpResult,\n",
    "                        lineColor = SPEED_COLORS[mixColor],\n",
    "                        legend = '%s - %.2f' % (resultRef, jumpResult.score),\n",
    "                        showIt = False)"
   ]
  },
  {
   "attachments": {},
   "cell_type": "markdown",
   "id": "a5d31990-f5c2-43d9-817b-b50a35740834",
   "metadata": {},
   "source": [
    "---\n",
    "## Summary of all speed skydives in the data lake"
   ]
  },
  {
   "cell_type": "markdown",
   "id": "491440ae-2efa-47fa-856c-25825a6fa4de",
   "metadata": {},
   "source": [
    "**<a href='https://intimescoring.com/Results/EventResults?dbid=100&mid=1074&smid=0&mdcid=1273&dseid=0' target='_blank'>InTime Scoring - 2024 USPA Speed Open results</a>**"
   ]
  },
  {
   "cell_type": "code",
   "execution_count": 79,
   "id": "17991fcf-e215-4a53-a6ff-d9a64cbafd94",
   "metadata": {
    "jupyter": {
     "source_hidden": true
    }
   },
   "outputs": [
    {
     "data": {
      "text/html": [
       "<div>\n",
       "<style scoped>\n",
       "    .dataframe tbody tr th:only-of-type {\n",
       "        vertical-align: middle;\n",
       "    }\n",
       "\n",
       "    .dataframe tbody tr th {\n",
       "        vertical-align: top;\n",
       "    }\n",
       "\n",
       "    .dataframe thead th {\n",
       "        text-align: right;\n",
       "    }\n",
       "</style>\n",
       "<table border=\"1\" class=\"dataframe\">\n",
       "  <thead>\n",
       "    <tr style=\"text-align: right;\">\n",
       "      <th></th>\n",
       "      <th>score</th>\n",
       "      <th>5.0</th>\n",
       "      <th>10.0</th>\n",
       "      <th>15.0</th>\n",
       "      <th>20.0</th>\n",
       "      <th>25.0</th>\n",
       "      <th>finalTime</th>\n",
       "      <th>maxSpeed</th>\n",
       "    </tr>\n",
       "  </thead>\n",
       "  <tbody>\n",
       "    <tr>\n",
       "      <th>data 00-00-00-baseline-10-50-09:v1</th>\n",
       "      <td>494</td>\n",
       "      <td>183</td>\n",
       "      <td>333</td>\n",
       "      <td>431</td>\n",
       "      <td>482</td>\n",
       "      <td>494</td>\n",
       "      <td>24.2</td>\n",
       "      <td>495</td>\n",
       "    </tr>\n",
       "    <tr>\n",
       "      <th>data R8_16-07-35:v1</th>\n",
       "      <td>488</td>\n",
       "      <td>183</td>\n",
       "      <td>328</td>\n",
       "      <td>428</td>\n",
       "      <td>476</td>\n",
       "      <td>489</td>\n",
       "      <td>24.2</td>\n",
       "      <td>489</td>\n",
       "    </tr>\n",
       "  </tbody>\n",
       "</table>\n",
       "</div>"
      ],
      "text/plain": [
       "                                    score  5.0  10.0  15.0  20.0  25.0  \\\n",
       "data 00-00-00-baseline-10-50-09:v1    494  183   333   431   482   494   \n",
       "data R8_16-07-35:v1                   488  183   328   428   476   489   \n",
       "\n",
       "                                    finalTime  maxSpeed  \n",
       "data 00-00-00-baseline-10-50-09:v1       24.2       495  \n",
       "data R8_16-07-35:v1                      24.2       489  "
      ]
     },
     "metadata": {},
     "output_type": "display_data"
    },
    {
     "data": {
      "text/html": [
       "<div>\n",
       "<style scoped>\n",
       "    .dataframe tbody tr th:only-of-type {\n",
       "        vertical-align: middle;\n",
       "    }\n",
       "\n",
       "    .dataframe tbody tr th {\n",
       "        vertical-align: top;\n",
       "    }\n",
       "\n",
       "    .dataframe thead th {\n",
       "        text-align: right;\n",
       "    }\n",
       "</style>\n",
       "<table border=\"1\" class=\"dataframe\">\n",
       "  <thead>\n",
       "    <tr style=\"text-align: right;\">\n",
       "      <th></th>\n",
       "      <th>totalSpeed</th>\n",
       "      <th>meanSpeed</th>\n",
       "      <th>maxScore</th>\n",
       "    </tr>\n",
       "  </thead>\n",
       "  <tbody>\n",
       "    <tr>\n",
       "      <th>totalSpeed</th>\n",
       "      <td>981.83</td>\n",
       "      <td>490.915</td>\n",
       "      <td>493.77</td>\n",
       "    </tr>\n",
       "  </tbody>\n",
       "</table>\n",
       "</div>"
      ],
      "text/plain": [
       "            totalSpeed  meanSpeed  maxScore\n",
       "totalSpeed      981.83    490.915    493.77"
      ]
     },
     "metadata": {},
     "output_type": "display_data"
    },
    {
     "data": {
      "text/html": [
       "\n",
       "  <div id=\"f355f80e-531d-4712-a9e1-110b2f6b16fc\" data-root-id=\"p3801\" style=\"display: contents;\"></div>\n"
      ]
     },
     "metadata": {},
     "output_type": "display_data"
    },
    {
     "data": {
      "application/javascript": [
       "(function(root) {\n",
       "  function embed_document(root) {\n",
       "  const docs_json = {\"b9f7870d-0652-44e5-a406-40e1a5bc8197\":{\"version\":\"3.5.2\",\"title\":\"Bokeh Application\",\"roots\":[{\"type\":\"object\",\"name\":\"Figure\",\"id\":\"p3801\",\"attributes\":{\"width\":900,\"height\":500,\"x_range\":{\"type\":\"object\",\"name\":\"Range1d\",\"id\":\"p3811\",\"attributes\":{\"end\":35.0}},\"y_range\":{\"type\":\"object\",\"name\":\"Range1d\",\"id\":\"p3812\",\"attributes\":{\"end\":550.0}},\"x_scale\":{\"type\":\"object\",\"name\":\"LinearScale\",\"id\":\"p3813\"},\"y_scale\":{\"type\":\"object\",\"name\":\"LinearScale\",\"id\":\"p3814\"},\"title\":{\"type\":\"object\",\"name\":\"Title\",\"id\":\"p3804\",\"attributes\":{\"text\":\"All jumps in set\",\"text_color\":\"#E0E0E0\",\"text_font\":\"Helvetica\",\"text_font_size\":\"1.15em\"}},\"outline_line_color\":\"#E0E0E0\",\"outline_line_alpha\":0.25,\"renderers\":[{\"type\":\"object\",\"name\":\"GlyphRenderer\",\"id\":\"p3977\",\"attributes\":{\"data_source\":{\"type\":\"object\",\"name\":\"ColumnDataSource\",\"id\":\"p3971\",\"attributes\":{\"selected\":{\"type\":\"object\",\"name\":\"Selection\",\"id\":\"p3972\",\"attributes\":{\"indices\":[],\"line_indices\":[]}},\"selection_policy\":{\"type\":\"object\",\"name\":\"UnionRenderers\",\"id\":\"p3973\"},\"data\":{\"type\":\"map\",\"entries\":[[\"x\",{\"type\":\"ndarray\",\"array\":{\"type\":\"bytes\",\"data\":\"AAAAAAAAAACamZmZmZm5P5qZmZmZmck/MzMzMzMz0z+amZmZmZnZPwAAAAAAAOA/MzMzMzMz4z9mZmZmZmbmP5qZmZmZmek/zczMzMzM7D8AAAAAAADwPzMzMzMzM/M/zczMzMzM9D9mZmZmZmb2PwAAAAAAAPg/mpmZmZmZ+T8zMzMzMzP7P83MzMzMzPw/ZmZmZmZm/j8AAAAAAAAAQM3MzMzMzABAZmZmZmZmAkAzMzMzMzMDQAAAAAAAAARAmpmZmZmZBUBmZmZmZmYGQAAAAAAAAAhAzczMzMzMCEBmZmZmZmYKQDMzMzMzMwtAAAAAAAAADEDNzMzMzMwMQJqZmZmZmQ1AZmZmZmZmDkAzMzMzMzMPQAAAAAAAABBAZmZmZmZmEEDNzMzMzMwQQJqZmZmZmRFAAAAAAAAAEkBmZmZmZmYSQM3MzMzMzBJAMzMzMzMzE0CamZmZmZkTQAAAAAAAABRAZmZmZmZmFEDNzMzMzMwUQJqZmZmZmRVAAAAAAAAAFkBmZmZmZmYWQM3MzMzMzBZAMzMzMzMzF0CamZmZmZkXQAAAAAAAABhAZmZmZmZmGEDNzMzMzMwYQJqZmZmZmRlAAAAAAAAAGkBmZmZmZmYaQM3MzMzMzBpAMzMzMzMzG0CamZmZmZkbQAAAAAAAABxAZmZmZmZmHEDNzMzMzMwcQJqZmZmZmR1AAAAAAAAAHkBmZmZmZmYeQDMzMzMzMx9AmpmZmZmZH0AAAAAAAAAgQDMzMzMzMyBAmpmZmZmZIEDNzMzMzMwgQDMzMzMzMyFAZmZmZmZmIUCamZmZmZkhQM3MzMzMzCFAAAAAAAAAIkAzMzMzMzMiQGZmZmZmZiJAAAAAAAAAI0AzMzMzMzMjQGZmZmZmZiNAmpmZmZmZI0DNzMzMzMwjQDMzMzMzMyRAZmZmZmZmJECamZmZmZkkQM3MzMzMzCRAAAAAAAAAJUBmZmZmZmYlQM3MzMzMzCVAAAAAAAAAJkAzMzMzMzMmQGZmZmZmZiZAzczMzMzMJkAAAAAAAAAnQDMzMzMzMydAZmZmZmZmJ0CamZmZmZknQAAAAAAAAChAMzMzMzMzKECamZmZmZkoQM3MzMzMzChAMzMzMzMzKUBmZmZmZmYpQM3MzMzMzClAAAAAAAAAKkAzMzMzMzMqQGZmZmZmZipAzczMzMzMKkAAAAAAAAArQDMzMzMzMytAmpmZmZmZK0DNzMzMzMwrQDMzMzMzMyxAmpmZmZmZLEAAAAAAAAAtQDMzMzMzMy1AZmZmZmZmLUCamZmZmZktQM3MzMzMzC1AAAAAAAAALkBmZmZmZmYuQJqZmZmZmS5AzczMzMzMLkAAAAAAAAAvQDMzMzMzMy9AZmZmZmZmL0CamZmZmZkvQM3MzMzMzC9AAAAAAAAAMECamZmZmRkwQDMzMzMzMzBAzczMzMxMMEBmZmZmZmYwQAAAAAAAgDBAmpmZmZmZMEDNzMzMzMwwQGZmZmZm5jBAAAAAAAAAMUCamZmZmRkxQDMzMzMzMzFAzczMzMxMMUAAAAAAAIAxQDMzMzMzszFAzczMzMzMMUAAAAAAAAAyQJqZmZmZGTJAzczMzMxMMkAAAAAAAIAyQJqZmZmZmTJAMzMzMzOzMkBmZmZmZuYyQAAAAAAAADNAmpmZmZkZM0AzMzMzMzMzQM3MzMzMTDNAZmZmZmZmM0AAAAAAAIAzQJqZmZmZmTNAzczMzMzMM0BmZmZmZuYzQAAAAAAAADRAmpmZmZkZNEDNzMzMzEw0QAAAAAAAgDRAmpmZmZmZNEAzMzMzM7M0QGZmZmZm5jRAAAAAAAAANUCamZmZmRk1QM3MzMzMTDVAZmZmZmZmNUCamZmZmZk1QM3MzMzMzDVAZmZmZmbmNUAAAAAAAAA2QJqZmZmZGTZAMzMzMzMzNkDNzMzMzEw2QGZmZmZmZjZAAAAAAACANkCamZmZmZk2QDMzMzMzszZAzczMzMzMNkBmZmZmZuY2QAAAAAAAADdAmpmZmZkZN0AzMzMzMzM3QM3MzMzMTDdAAAAAAACAN0CamZmZmZk3QDMzMzMzszdAzczMzMzMN0AAAAAAAAA4QJqZmZmZGThAMzMzMzMzOEA=\"},\"shape\":[199],\"dtype\":\"float64\",\"order\":\"little\"}],[\"y\",{\"type\":\"ndarray\",\"array\":{\"type\":\"bytes\",\"data\":\"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\"},\"shape\":[199],\"dtype\":\"float64\",\"order\":\"little\"}]]}}},\"view\":{\"type\":\"object\",\"name\":\"CDSView\",\"id\":\"p3978\",\"attributes\":{\"filter\":{\"type\":\"object\",\"name\":\"AllIndices\",\"id\":\"p3979\"}}},\"glyph\":{\"type\":\"object\",\"name\":\"Line\",\"id\":\"p3974\",\"attributes\":{\"x\":{\"type\":\"field\",\"field\":\"x\"},\"y\":{\"type\":\"field\",\"field\":\"y\"},\"line_color\":\"blue\",\"line_width\":2}},\"nonselection_glyph\":{\"type\":\"object\",\"name\":\"Line\",\"id\":\"p3975\",\"attributes\":{\"x\":{\"type\":\"field\",\"field\":\"x\"},\"y\":{\"type\":\"field\",\"field\":\"y\"},\"line_color\":\"blue\",\"line_alpha\":0.1,\"line_width\":2}},\"muted_glyph\":{\"type\":\"object\",\"name\":\"Line\",\"id\":\"p3976\",\"attributes\":{\"x\":{\"type\":\"field\",\"field\":\"x\"},\"y\":{\"type\":\"field\",\"field\":\"y\"},\"line_color\":\"blue\",\"line_alpha\":0.2,\"line_width\":2}}}},{\"type\":\"object\",\"name\":\"GlyphRenderer\",\"id\":\"p4121\",\"attributes\":{\"data_source\":{\"type\":\"object\",\"name\":\"ColumnDataSource\",\"id\":\"p4115\",\"attributes\":{\"selected\":{\"type\":\"object\",\"name\":\"Selection\",\"id\":\"p4116\",\"attributes\":{\"indices\":[],\"line_indices\":[]}},\"selection_policy\":{\"type\":\"object\",\"name\":\"UnionRenderers\",\"id\":\"p4117\"},\"data\":{\"type\":\"map\",\"entries\":[[\"x\",{\"type\":\"ndarray\",\"array\":{\"type\":\"bytes\",\"data\":\"AAAAAAAAAACamZmZmZnJP5qZmZmZmdk/MzMzMzMz4z+amZmZmZnpPwAAAAAAAPA/MzMzMzMz8z9mZmZmZmb2P5qZmZmZmfk/zczMzMzM/D8AAAAAAAAAQJqZmZmZmQFAMzMzMzMzA0DNzMzMzMwEQGZmZmZmZgZAAAAAAAAACECamZmZmZkJQDMzMzMzMwtAzczMzMzMDEBmZmZmZmYOQAAAAAAAABBAzczMzMzMEECamZmZmZkRQGZmZmZmZhJAMzMzMzMzE0AAAAAAAAAUQM3MzMzMzBRAmpmZmZmZFUBmZmZmZmYWQDMzMzMzMxdAAAAAAAAAGEDNzMzMzMwYQJqZmZmZmRlAZmZmZmZmGkAzMzMzMzMbQAAAAAAAABxAzczMzMzMHECamZmZmZkdQGZmZmZmZh5AMzMzMzMzH0AAAAAAAAAgQGZmZmZmZiBAzczMzMzMIEAzMzMzMzMhQJqZmZmZmSFAAAAAAAAAIkBmZmZmZmYiQM3MzMzMzCJAMzMzMzMzI0CamZmZmZkjQAAAAAAAACRAZmZmZmZmJEDNzMzMzMwkQDMzMzMzMyVAmpmZmZmZJUAAAAAAAAAmQGZmZmZmZiZAzczMzMzMJkAzMzMzMzMnQJqZmZmZmSdAAAAAAAAAKEBmZmZmZmYoQM3MzMzMzChAMzMzMzMzKUCamZmZmZkpQAAAAAAAACpAZmZmZmZmKkDNzMzMzMwqQDMzMzMzMytAmpmZmZmZK0AAAAAAAAAsQGZmZmZmZixAzczMzMzMLEAzMzMzMzMtQJqZmZmZmS1AAAAAAAAALkBmZmZmZmYuQM3MzMzMzC5AMzMzMzMzL0CamZmZmZkvQAAAAAAAADBAMzMzMzMzMEBmZmZmZmYwQJqZmZmZmTBAzczMzMzMMEAAAAAAAAAxQDMzMzMzMzFAZmZmZmZmMUCamZmZmZkxQM3MzMzMzDFAAAAAAAAAMkAzMzMzMzMyQGZmZmZmZjJAmpmZmZmZMkDNzMzMzMwyQAAAAAAAADNAMzMzMzMzM0BmZmZmZmYzQJqZmZmZmTNAzczMzMzMM0AAAAAAAAA0QDMzMzMzMzRAZmZmZmZmNECamZmZmZk0QM3MzMzMzDRAAAAAAAAANUAzMzMzMzM1QGZmZmZmZjVAmpmZmZmZNUDNzMzMzMw1QAAAAAAAADZAMzMzMzMzNkBmZmZmZmY2QJqZmZmZmTZAzczMzMzMNkAAAAAAAAA3QDMzMzMzMzdAZmZmZmZmN0CamZmZmZk3QM3MzMzMzDdAAAAAAAAAOEAzMzMzMzM4QA==\"},\"shape\":[122],\"dtype\":\"float64\",\"order\":\"little\"}],[\"y\",{\"type\":\"ndarray\",\"array\":{\"type\":\"bytes\",\"data\":\"x0s3iUFgJEBzaJHtfD8vQKabxCCwcjRA8tJNYhBYOUB9PzVeusk/QFK4HoXrEURAqMZLN4lBR0BzaJHtfL9KQIgW2c73E05A30+Nl27yUECwcmiR7bxSQHE9CtejkFRALbKd76dmVkCwcmiR7VxYQD81XrpJTFpAIbByaJENXECgGi/dJAZeQIKVQ4tsx19AJzEIrBzKYECPwvUoXK9hQAaBlUOLjGJAYxBYObR4Y0DhehSuR1FkQG3n+6nxImVA4XoUrkcBZkBYObTIdt5mQNEi2/l+umdAXrpJDAKLaED0/dR46VZpQJzEILByGGpAKVyPwvXoakC0yHa+n7prQGdmZmZmdmxA5KWbxCBQbUCYbhKDwApuQEs3iUFgxW5AAiuHFtl+b0DVeOkmMSBwQLByaJHtfHBA/tR46SbhcEBh5dAi2zlxQDDdJAaBnXFAH4XrUbjucUD6fmq8dEtyQObQItv5nnJAPN9PjZf+ckAxCKwcWkxzQB+F61G4nnNAEoPAyqHtc0CPwvUoXDd0QIPAyqFFhnRABFYOLbLNdEDwp8ZLNyF1QOF6FK5HcXVA5/up8dK1dUBKDAIrhw52QGHl0CLbSXZA30+Nl26SdkDZzvdT4912QFK4HoXrKXdA5tAi2/lmd0Dn+6nx0q13QOxRuB6F83dAmpmZmZkheECd76fGS2d4QLtJDAIrn3hAx0s3iUHgeEDkpZvEIBh5QBFYObTIRnlAs53vp8Z7eUBcj8L1KKx5QO58PzVe6nlAj8L1KFwfekAxCKwcWlR6QNNNYhBYiXpA7FG4HoXDekCXbhKDwPJ6QLtJDAIrJ3tAW2Q7309de0B/arx0k5B7QESLbOf7sXtA+FPjpZvce0D2KFyPwt17QFg5tMh27ntA/tR46SYhfEAw3SQGgU18QPT91HjpbnxAwcqhRbaLfEB7FK5H4bJ8QE5iEFg5zHxAppvEILDifEAL16NwPfJ8QLgehetRIH1AiUFg5dA6fUBQjZduElt9QJQYBFYOfX1A/9R46SaJfUBKDAIrh6Z9QENg5dAiq31Asp3vp8azfUCUGARWDsV9QNnO91Pj5X1AyHa+nxrvfUBKDAIrh+59QL6fGi/d9H1ALIcW2c7/fUAMAiuHFhF+QH0/NV66GX5A5KWbxCAofkC1yHa+n0J+QAaBlUOLXH5Ac2iR7XxnfkBoke18P21+QM73U+Ole35A001iEFh5fkA730+Nl4Z+QKwcWmQ7j35AzKFFtvN9fkDGILByaIF+QESLbOf7gX5Atch2vp+KfkC28/3UeIl+QA==\"},\"shape\":[122],\"dtype\":\"float64\",\"order\":\"little\"}]]}}},\"view\":{\"type\":\"object\",\"name\":\"CDSView\",\"id\":\"p4122\",\"attributes\":{\"filter\":{\"type\":\"object\",\"name\":\"AllIndices\",\"id\":\"p4123\"}}},\"glyph\":{\"type\":\"object\",\"name\":\"Line\",\"id\":\"p4118\",\"attributes\":{\"x\":{\"type\":\"field\",\"field\":\"x\"},\"y\":{\"type\":\"field\",\"field\":\"y\"},\"line_color\":\"tomato\",\"line_width\":2}},\"nonselection_glyph\":{\"type\":\"object\",\"name\":\"Line\",\"id\":\"p4119\",\"attributes\":{\"x\":{\"type\":\"field\",\"field\":\"x\"},\"y\":{\"type\":\"field\",\"field\":\"y\"},\"line_color\":\"tomato\",\"line_alpha\":0.1,\"line_width\":2}},\"muted_glyph\":{\"type\":\"object\",\"name\":\"Line\",\"id\":\"p4120\",\"attributes\":{\"x\":{\"type\":\"field\",\"field\":\"x\"},\"y\":{\"type\":\"field\",\"field\":\"y\"},\"line_color\":\"tomato\",\"line_alpha\":0.2,\"line_width\":2}}}}],\"toolbar\":{\"type\":\"object\",\"name\":\"Toolbar\",\"id\":\"p3810\",\"attributes\":{\"tools\":[{\"type\":\"object\",\"name\":\"PanTool\",\"id\":\"p3825\"},{\"type\":\"object\",\"name\":\"WheelZoomTool\",\"id\":\"p3826\",\"attributes\":{\"renderers\":\"auto\"}},{\"type\":\"object\",\"name\":\"BoxZoomTool\",\"id\":\"p3827\",\"attributes\":{\"overlay\":{\"type\":\"object\",\"name\":\"BoxAnnotation\",\"id\":\"p3828\",\"attributes\":{\"syncable\":false,\"line_color\":\"black\",\"line_alpha\":1.0,\"line_width\":2,\"line_dash\":[4,4],\"fill_color\":\"lightgrey\",\"fill_alpha\":0.5,\"level\":\"overlay\",\"visible\":false,\"left\":{\"type\":\"number\",\"value\":\"nan\"},\"right\":{\"type\":\"number\",\"value\":\"nan\"},\"top\":{\"type\":\"number\",\"value\":\"nan\"},\"bottom\":{\"type\":\"number\",\"value\":\"nan\"},\"left_units\":\"canvas\",\"right_units\":\"canvas\",\"top_units\":\"canvas\",\"bottom_units\":\"canvas\",\"handles\":{\"type\":\"object\",\"name\":\"BoxInteractionHandles\",\"id\":\"p3834\",\"attributes\":{\"all\":{\"type\":\"object\",\"name\":\"AreaVisuals\",\"id\":\"p3833\",\"attributes\":{\"fill_color\":\"white\",\"hover_fill_color\":\"lightgray\"}}}}}}}},{\"type\":\"object\",\"name\":\"SaveTool\",\"id\":\"p3835\"},{\"type\":\"object\",\"name\":\"ResetTool\",\"id\":\"p3836\"},{\"type\":\"object\",\"name\":\"HelpTool\",\"id\":\"p3837\"}]}},\"left\":[{\"type\":\"object\",\"name\":\"LinearAxis\",\"id\":\"p3820\",\"attributes\":{\"ticker\":{\"type\":\"object\",\"name\":\"BasicTicker\",\"id\":\"p3821\",\"attributes\":{\"mantissas\":[1,2,5]}},\"formatter\":{\"type\":\"object\",\"name\":\"BasicTickFormatter\",\"id\":\"p3822\"},\"axis_label\":\"km/h\",\"axis_label_standoff\":10,\"axis_label_text_color\":\"#E0E0E0\",\"axis_label_text_font\":\"Helvetica\",\"axis_label_text_font_size\":\"1.25em\",\"axis_label_text_font_style\":\"normal\",\"major_label_policy\":{\"type\":\"object\",\"name\":\"AllLabels\",\"id\":\"p3823\"},\"major_label_text_color\":\"#E0E0E0\",\"major_label_text_font\":\"Helvetica\",\"major_label_text_font_size\":\"1.025em\",\"axis_line_color\":\"#E0E0E0\",\"axis_line_alpha\":0,\"major_tick_line_color\":\"#E0E0E0\",\"major_tick_line_alpha\":0,\"minor_tick_line_color\":\"#E0E0E0\",\"minor_tick_line_alpha\":0}}],\"below\":[{\"type\":\"object\",\"name\":\"LinearAxis\",\"id\":\"p3815\",\"attributes\":{\"ticker\":{\"type\":\"object\",\"name\":\"BasicTicker\",\"id\":\"p3816\",\"attributes\":{\"mantissas\":[1,2,5]}},\"formatter\":{\"type\":\"object\",\"name\":\"BasicTickFormatter\",\"id\":\"p3817\"},\"axis_label\":\"seconds from exit\",\"axis_label_standoff\":10,\"axis_label_text_color\":\"#E0E0E0\",\"axis_label_text_font\":\"Helvetica\",\"axis_label_text_font_size\":\"1.25em\",\"axis_label_text_font_style\":\"normal\",\"major_label_policy\":{\"type\":\"object\",\"name\":\"AllLabels\",\"id\":\"p3818\"},\"major_label_text_color\":\"#E0E0E0\",\"major_label_text_font\":\"Helvetica\",\"major_label_text_font_size\":\"1.025em\",\"axis_line_color\":\"#E0E0E0\",\"axis_line_alpha\":0,\"major_tick_line_color\":\"#E0E0E0\",\"major_tick_line_alpha\":0,\"minor_tick_line_color\":\"#E0E0E0\",\"minor_tick_line_alpha\":0}}],\"center\":[{\"type\":\"object\",\"name\":\"Grid\",\"id\":\"p3819\",\"attributes\":{\"axis\":{\"id\":\"p3815\"},\"grid_line_color\":\"#E0E0E0\",\"grid_line_alpha\":0.25}},{\"type\":\"object\",\"name\":\"Grid\",\"id\":\"p3824\",\"attributes\":{\"dimension\":1,\"axis\":{\"id\":\"p3820\"},\"grid_line_color\":\"#E0E0E0\",\"grid_line_alpha\":0.25}},{\"type\":\"object\",\"name\":\"Legend\",\"id\":\"p3980\",\"attributes\":{\"border_line_alpha\":0,\"background_fill_color\":\"#20262B\",\"background_fill_alpha\":0.25,\"label_text_color\":\"#E0E0E0\",\"label_text_font\":\"Helvetica\",\"label_text_font_size\":\"1.025em\",\"label_standoff\":8,\"glyph_width\":15,\"spacing\":8,\"items\":[{\"type\":\"object\",\"name\":\"LegendItem\",\"id\":\"p3981\",\"attributes\":{\"label\":{\"type\":\"value\",\"value\":\"data 00-00-00-baseline-10-50-09:v1 - 493.77\"},\"renderers\":[{\"id\":\"p3977\"}]}},{\"type\":\"object\",\"name\":\"LegendItem\",\"id\":\"p4124\",\"attributes\":{\"label\":{\"type\":\"value\",\"value\":\"data R8_16-07-35:v1 - 488.06\"},\"renderers\":[{\"id\":\"p4121\"}]}}]}}],\"background_fill_color\":\"#20262B\",\"border_fill_color\":\"#15191C\"}}]}};\n",
       "  const render_items = [{\"docid\":\"b9f7870d-0652-44e5-a406-40e1a5bc8197\",\"roots\":{\"p3801\":\"f355f80e-531d-4712-a9e1-110b2f6b16fc\"},\"root_ids\":[\"p3801\"]}];\n",
       "  void root.Bokeh.embed.embed_items_notebook(docs_json, render_items);\n",
       "  }\n",
       "  if (root.Bokeh !== undefined) {\n",
       "    embed_document(root);\n",
       "  } else {\n",
       "    let attempts = 0;\n",
       "    const timer = setInterval(function(root) {\n",
       "      if (root.Bokeh !== undefined) {\n",
       "        clearInterval(timer);\n",
       "        embed_document(root);\n",
       "      } else {\n",
       "        attempts++;\n",
       "        if (attempts > 100) {\n",
       "          clearInterval(timer);\n",
       "          console.log(\"Bokeh: ERROR: Unable to run BokehJS code because BokehJS library is missing\");\n",
       "        }\n",
       "      }\n",
       "    }, 10, root)\n",
       "  }\n",
       "})(window);"
      ],
      "application/vnd.bokehjs_exec.v0+json": ""
     },
     "metadata": {
      "application/vnd.bokehjs_exec.v0+json": {
       "id": "p3801"
      }
     },
     "output_type": "display_data"
    }
   ],
   "source": [
    "display(roundedResults)\n",
    "display(sumResults)\n",
    "bp.show(allJumpsPlot)"
   ]
  },
  {
   "cell_type": "code",
   "execution_count": null,
   "id": "ee49d352-aa6e-4ab6-88a0-941362f918e8",
   "metadata": {},
   "outputs": [],
   "source": []
  }
 ],
 "metadata": {
  "kernelspec": {
   "display_name": "Python 3 (ipykernel)",
   "language": "python",
   "name": "python3"
  },
  "language_info": {
   "codemirror_mode": {
    "name": "ipython",
    "version": 3
   },
   "file_extension": ".py",
   "mimetype": "text/x-python",
   "name": "python",
   "nbconvert_exporter": "python",
   "pygments_lexer": "ipython3",
   "version": "3.11.10"
  }
 },
 "nbformat": 4,
 "nbformat_minor": 5
}
