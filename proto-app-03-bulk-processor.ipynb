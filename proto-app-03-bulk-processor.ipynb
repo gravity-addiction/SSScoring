{
 "cells": [
  {
   "cell_type": "markdown",
   "id": "36a745d9-2003-496e-a394-290f63a970b7",
   "metadata": {},
   "source": [
    "# Bulk procesor"
   ]
  },
  {
   "cell_type": "code",
   "execution_count": 1,
   "id": "98c7a164-9492-4672-904b-5bf3abf61773",
   "metadata": {
    "jupyter": {
     "source_hidden": true
    }
   },
   "outputs": [
    {
     "data": {
      "application/javascript": [
       "(function(root) {\n",
       "  function now() {\n",
       "    return new Date();\n",
       "  }\n",
       "\n",
       "  const force = true;\n",
       "\n",
       "  if (typeof root._bokeh_onload_callbacks === \"undefined\" || force === true) {\n",
       "    root._bokeh_onload_callbacks = [];\n",
       "    root._bokeh_is_loading = undefined;\n",
       "  }\n",
       "\n",
       "const JS_MIME_TYPE = 'application/javascript';\n",
       "  const HTML_MIME_TYPE = 'text/html';\n",
       "  const EXEC_MIME_TYPE = 'application/vnd.bokehjs_exec.v0+json';\n",
       "  const CLASS_NAME = 'output_bokeh rendered_html';\n",
       "\n",
       "  /**\n",
       "   * Render data to the DOM node\n",
       "   */\n",
       "  function render(props, node) {\n",
       "    const script = document.createElement(\"script\");\n",
       "    node.appendChild(script);\n",
       "  }\n",
       "\n",
       "  /**\n",
       "   * Handle when an output is cleared or removed\n",
       "   */\n",
       "  function handleClearOutput(event, handle) {\n",
       "    const cell = handle.cell;\n",
       "\n",
       "    const id = cell.output_area._bokeh_element_id;\n",
       "    const server_id = cell.output_area._bokeh_server_id;\n",
       "    // Clean up Bokeh references\n",
       "    if (id != null && id in Bokeh.index) {\n",
       "      Bokeh.index[id].model.document.clear();\n",
       "      delete Bokeh.index[id];\n",
       "    }\n",
       "\n",
       "    if (server_id !== undefined) {\n",
       "      // Clean up Bokeh references\n",
       "      const cmd_clean = \"from bokeh.io.state import curstate; print(curstate().uuid_to_server['\" + server_id + \"'].get_sessions()[0].document.roots[0]._id)\";\n",
       "      cell.notebook.kernel.execute(cmd_clean, {\n",
       "        iopub: {\n",
       "          output: function(msg) {\n",
       "            const id = msg.content.text.trim();\n",
       "            if (id in Bokeh.index) {\n",
       "              Bokeh.index[id].model.document.clear();\n",
       "              delete Bokeh.index[id];\n",
       "            }\n",
       "          }\n",
       "        }\n",
       "      });\n",
       "      // Destroy server and session\n",
       "      const cmd_destroy = \"import bokeh.io.notebook as ion; ion.destroy_server('\" + server_id + \"')\";\n",
       "      cell.notebook.kernel.execute(cmd_destroy);\n",
       "    }\n",
       "  }\n",
       "\n",
       "  /**\n",
       "   * Handle when a new output is added\n",
       "   */\n",
       "  function handleAddOutput(event, handle) {\n",
       "    const output_area = handle.output_area;\n",
       "    const output = handle.output;\n",
       "\n",
       "    // limit handleAddOutput to display_data with EXEC_MIME_TYPE content only\n",
       "    if ((output.output_type != \"display_data\") || (!Object.prototype.hasOwnProperty.call(output.data, EXEC_MIME_TYPE))) {\n",
       "      return\n",
       "    }\n",
       "\n",
       "    const toinsert = output_area.element.find(\".\" + CLASS_NAME.split(' ')[0]);\n",
       "\n",
       "    if (output.metadata[EXEC_MIME_TYPE][\"id\"] !== undefined) {\n",
       "      toinsert[toinsert.length - 1].firstChild.textContent = output.data[JS_MIME_TYPE];\n",
       "      // store reference to embed id on output_area\n",
       "      output_area._bokeh_element_id = output.metadata[EXEC_MIME_TYPE][\"id\"];\n",
       "    }\n",
       "    if (output.metadata[EXEC_MIME_TYPE][\"server_id\"] !== undefined) {\n",
       "      const bk_div = document.createElement(\"div\");\n",
       "      bk_div.innerHTML = output.data[HTML_MIME_TYPE];\n",
       "      const script_attrs = bk_div.children[0].attributes;\n",
       "      for (let i = 0; i < script_attrs.length; i++) {\n",
       "        toinsert[toinsert.length - 1].firstChild.setAttribute(script_attrs[i].name, script_attrs[i].value);\n",
       "        toinsert[toinsert.length - 1].firstChild.textContent = bk_div.children[0].textContent\n",
       "      }\n",
       "      // store reference to server id on output_area\n",
       "      output_area._bokeh_server_id = output.metadata[EXEC_MIME_TYPE][\"server_id\"];\n",
       "    }\n",
       "  }\n",
       "\n",
       "  function register_renderer(events, OutputArea) {\n",
       "\n",
       "    function append_mime(data, metadata, element) {\n",
       "      // create a DOM node to render to\n",
       "      const toinsert = this.create_output_subarea(\n",
       "        metadata,\n",
       "        CLASS_NAME,\n",
       "        EXEC_MIME_TYPE\n",
       "      );\n",
       "      this.keyboard_manager.register_events(toinsert);\n",
       "      // Render to node\n",
       "      const props = {data: data, metadata: metadata[EXEC_MIME_TYPE]};\n",
       "      render(props, toinsert[toinsert.length - 1]);\n",
       "      element.append(toinsert);\n",
       "      return toinsert\n",
       "    }\n",
       "\n",
       "    /* Handle when an output is cleared or removed */\n",
       "    events.on('clear_output.CodeCell', handleClearOutput);\n",
       "    events.on('delete.Cell', handleClearOutput);\n",
       "\n",
       "    /* Handle when a new output is added */\n",
       "    events.on('output_added.OutputArea', handleAddOutput);\n",
       "\n",
       "    /**\n",
       "     * Register the mime type and append_mime function with output_area\n",
       "     */\n",
       "    OutputArea.prototype.register_mime_type(EXEC_MIME_TYPE, append_mime, {\n",
       "      /* Is output safe? */\n",
       "      safe: true,\n",
       "      /* Index of renderer in `output_area.display_order` */\n",
       "      index: 0\n",
       "    });\n",
       "  }\n",
       "\n",
       "  // register the mime type if in Jupyter Notebook environment and previously unregistered\n",
       "  if (root.Jupyter !== undefined) {\n",
       "    const events = require('base/js/events');\n",
       "    const OutputArea = require('notebook/js/outputarea').OutputArea;\n",
       "\n",
       "    if (OutputArea.prototype.mime_types().indexOf(EXEC_MIME_TYPE) == -1) {\n",
       "      register_renderer(events, OutputArea);\n",
       "    }\n",
       "  }\n",
       "  if (typeof (root._bokeh_timeout) === \"undefined\" || force === true) {\n",
       "    root._bokeh_timeout = Date.now() + 5000;\n",
       "    root._bokeh_failed_load = false;\n",
       "  }\n",
       "\n",
       "  const NB_LOAD_WARNING = {'data': {'text/html':\n",
       "     \"<div style='background-color: #fdd'>\\n\"+\n",
       "     \"<p>\\n\"+\n",
       "     \"BokehJS does not appear to have successfully loaded. If loading BokehJS from CDN, this \\n\"+\n",
       "     \"may be due to a slow or bad network connection. Possible fixes:\\n\"+\n",
       "     \"</p>\\n\"+\n",
       "     \"<ul>\\n\"+\n",
       "     \"<li>re-rerun `output_notebook()` to attempt to load from CDN again, or</li>\\n\"+\n",
       "     \"<li>use INLINE resources instead, as so:</li>\\n\"+\n",
       "     \"</ul>\\n\"+\n",
       "     \"<code>\\n\"+\n",
       "     \"from bokeh.resources import INLINE\\n\"+\n",
       "     \"output_notebook(resources=INLINE)\\n\"+\n",
       "     \"</code>\\n\"+\n",
       "     \"</div>\"}};\n",
       "\n",
       "  function display_loaded() {\n",
       "    const el = document.getElementById(null);\n",
       "    if (el != null) {\n",
       "      el.textContent = \"BokehJS is loading...\";\n",
       "    }\n",
       "    if (root.Bokeh !== undefined) {\n",
       "      if (el != null) {\n",
       "        el.textContent = \"BokehJS \" + root.Bokeh.version + \" successfully loaded.\";\n",
       "      }\n",
       "    } else if (Date.now() < root._bokeh_timeout) {\n",
       "      setTimeout(display_loaded, 100)\n",
       "    }\n",
       "  }\n",
       "\n",
       "  function run_callbacks() {\n",
       "    try {\n",
       "      root._bokeh_onload_callbacks.forEach(function(callback) {\n",
       "        if (callback != null)\n",
       "          callback();\n",
       "      });\n",
       "    } finally {\n",
       "      delete root._bokeh_onload_callbacks\n",
       "    }\n",
       "    console.debug(\"Bokeh: all callbacks have finished\");\n",
       "  }\n",
       "\n",
       "  function load_libs(css_urls, js_urls, callback) {\n",
       "    if (css_urls == null) css_urls = [];\n",
       "    if (js_urls == null) js_urls = [];\n",
       "\n",
       "    root._bokeh_onload_callbacks.push(callback);\n",
       "    if (root._bokeh_is_loading > 0) {\n",
       "      console.debug(\"Bokeh: BokehJS is being loaded, scheduling callback at\", now());\n",
       "      return null;\n",
       "    }\n",
       "    if (js_urls == null || js_urls.length === 0) {\n",
       "      run_callbacks();\n",
       "      return null;\n",
       "    }\n",
       "    console.debug(\"Bokeh: BokehJS not loaded, scheduling load and callback at\", now());\n",
       "    root._bokeh_is_loading = css_urls.length + js_urls.length;\n",
       "\n",
       "    function on_load() {\n",
       "      root._bokeh_is_loading--;\n",
       "      if (root._bokeh_is_loading === 0) {\n",
       "        console.debug(\"Bokeh: all BokehJS libraries/stylesheets loaded\");\n",
       "        run_callbacks()\n",
       "      }\n",
       "    }\n",
       "\n",
       "    function on_error(url) {\n",
       "      console.error(\"failed to load \" + url);\n",
       "    }\n",
       "\n",
       "    for (let i = 0; i < css_urls.length; i++) {\n",
       "      const url = css_urls[i];\n",
       "      const element = document.createElement(\"link\");\n",
       "      element.onload = on_load;\n",
       "      element.onerror = on_error.bind(null, url);\n",
       "      element.rel = \"stylesheet\";\n",
       "      element.type = \"text/css\";\n",
       "      element.href = url;\n",
       "      console.debug(\"Bokeh: injecting link tag for BokehJS stylesheet: \", url);\n",
       "      document.body.appendChild(element);\n",
       "    }\n",
       "\n",
       "    for (let i = 0; i < js_urls.length; i++) {\n",
       "      const url = js_urls[i];\n",
       "      const element = document.createElement('script');\n",
       "      element.onload = on_load;\n",
       "      element.onerror = on_error.bind(null, url);\n",
       "      element.async = false;\n",
       "      element.src = url;\n",
       "      console.debug(\"Bokeh: injecting script tag for BokehJS library: \", url);\n",
       "      document.head.appendChild(element);\n",
       "    }\n",
       "  };\n",
       "\n",
       "  function inject_raw_css(css) {\n",
       "    const element = document.createElement(\"style\");\n",
       "    element.appendChild(document.createTextNode(css));\n",
       "    document.body.appendChild(element);\n",
       "  }\n",
       "\n",
       "  const js_urls = [\"https://cdn.bokeh.org/bokeh/release/bokeh-3.2.2.min.js\", \"https://cdn.bokeh.org/bokeh/release/bokeh-gl-3.2.2.min.js\", \"https://cdn.bokeh.org/bokeh/release/bokeh-widgets-3.2.2.min.js\", \"https://cdn.bokeh.org/bokeh/release/bokeh-tables-3.2.2.min.js\", \"https://cdn.bokeh.org/bokeh/release/bokeh-mathjax-3.2.2.min.js\"];\n",
       "  const css_urls = [];\n",
       "\n",
       "  const inline_js = [    function(Bokeh) {\n",
       "      Bokeh.set_log_level(\"info\");\n",
       "    },\n",
       "function(Bokeh) {\n",
       "    }\n",
       "  ];\n",
       "\n",
       "  function run_inline_js() {\n",
       "    if (root.Bokeh !== undefined || force === true) {\n",
       "          for (let i = 0; i < inline_js.length; i++) {\n",
       "      inline_js[i].call(root, root.Bokeh);\n",
       "    }\n",
       "} else if (Date.now() < root._bokeh_timeout) {\n",
       "      setTimeout(run_inline_js, 100);\n",
       "    } else if (!root._bokeh_failed_load) {\n",
       "      console.log(\"Bokeh: BokehJS failed to load within specified timeout.\");\n",
       "      root._bokeh_failed_load = true;\n",
       "    } else if (force !== true) {\n",
       "      const cell = $(document.getElementById(null)).parents('.cell').data().cell;\n",
       "      cell.output_area.append_execute_result(NB_LOAD_WARNING)\n",
       "    }\n",
       "  }\n",
       "\n",
       "  if (root._bokeh_is_loading === 0) {\n",
       "    console.debug(\"Bokeh: BokehJS loaded, going straight to plotting\");\n",
       "    run_inline_js();\n",
       "  } else {\n",
       "    load_libs(css_urls, js_urls, function() {\n",
       "      console.debug(\"Bokeh: BokehJS plotting callback run at\", now());\n",
       "      run_inline_js();\n",
       "    });\n",
       "  }\n",
       "}(window));"
      ],
      "application/vnd.bokehjs_load.v0+json": "(function(root) {\n  function now() {\n    return new Date();\n  }\n\n  const force = true;\n\n  if (typeof root._bokeh_onload_callbacks === \"undefined\" || force === true) {\n    root._bokeh_onload_callbacks = [];\n    root._bokeh_is_loading = undefined;\n  }\n\n\n  if (typeof (root._bokeh_timeout) === \"undefined\" || force === true) {\n    root._bokeh_timeout = Date.now() + 5000;\n    root._bokeh_failed_load = false;\n  }\n\n  const NB_LOAD_WARNING = {'data': {'text/html':\n     \"<div style='background-color: #fdd'>\\n\"+\n     \"<p>\\n\"+\n     \"BokehJS does not appear to have successfully loaded. If loading BokehJS from CDN, this \\n\"+\n     \"may be due to a slow or bad network connection. Possible fixes:\\n\"+\n     \"</p>\\n\"+\n     \"<ul>\\n\"+\n     \"<li>re-rerun `output_notebook()` to attempt to load from CDN again, or</li>\\n\"+\n     \"<li>use INLINE resources instead, as so:</li>\\n\"+\n     \"</ul>\\n\"+\n     \"<code>\\n\"+\n     \"from bokeh.resources import INLINE\\n\"+\n     \"output_notebook(resources=INLINE)\\n\"+\n     \"</code>\\n\"+\n     \"</div>\"}};\n\n  function display_loaded() {\n    const el = document.getElementById(null);\n    if (el != null) {\n      el.textContent = \"BokehJS is loading...\";\n    }\n    if (root.Bokeh !== undefined) {\n      if (el != null) {\n        el.textContent = \"BokehJS \" + root.Bokeh.version + \" successfully loaded.\";\n      }\n    } else if (Date.now() < root._bokeh_timeout) {\n      setTimeout(display_loaded, 100)\n    }\n  }\n\n  function run_callbacks() {\n    try {\n      root._bokeh_onload_callbacks.forEach(function(callback) {\n        if (callback != null)\n          callback();\n      });\n    } finally {\n      delete root._bokeh_onload_callbacks\n    }\n    console.debug(\"Bokeh: all callbacks have finished\");\n  }\n\n  function load_libs(css_urls, js_urls, callback) {\n    if (css_urls == null) css_urls = [];\n    if (js_urls == null) js_urls = [];\n\n    root._bokeh_onload_callbacks.push(callback);\n    if (root._bokeh_is_loading > 0) {\n      console.debug(\"Bokeh: BokehJS is being loaded, scheduling callback at\", now());\n      return null;\n    }\n    if (js_urls == null || js_urls.length === 0) {\n      run_callbacks();\n      return null;\n    }\n    console.debug(\"Bokeh: BokehJS not loaded, scheduling load and callback at\", now());\n    root._bokeh_is_loading = css_urls.length + js_urls.length;\n\n    function on_load() {\n      root._bokeh_is_loading--;\n      if (root._bokeh_is_loading === 0) {\n        console.debug(\"Bokeh: all BokehJS libraries/stylesheets loaded\");\n        run_callbacks()\n      }\n    }\n\n    function on_error(url) {\n      console.error(\"failed to load \" + url);\n    }\n\n    for (let i = 0; i < css_urls.length; i++) {\n      const url = css_urls[i];\n      const element = document.createElement(\"link\");\n      element.onload = on_load;\n      element.onerror = on_error.bind(null, url);\n      element.rel = \"stylesheet\";\n      element.type = \"text/css\";\n      element.href = url;\n      console.debug(\"Bokeh: injecting link tag for BokehJS stylesheet: \", url);\n      document.body.appendChild(element);\n    }\n\n    for (let i = 0; i < js_urls.length; i++) {\n      const url = js_urls[i];\n      const element = document.createElement('script');\n      element.onload = on_load;\n      element.onerror = on_error.bind(null, url);\n      element.async = false;\n      element.src = url;\n      console.debug(\"Bokeh: injecting script tag for BokehJS library: \", url);\n      document.head.appendChild(element);\n    }\n  };\n\n  function inject_raw_css(css) {\n    const element = document.createElement(\"style\");\n    element.appendChild(document.createTextNode(css));\n    document.body.appendChild(element);\n  }\n\n  const js_urls = [\"https://cdn.bokeh.org/bokeh/release/bokeh-3.2.2.min.js\", \"https://cdn.bokeh.org/bokeh/release/bokeh-gl-3.2.2.min.js\", \"https://cdn.bokeh.org/bokeh/release/bokeh-widgets-3.2.2.min.js\", \"https://cdn.bokeh.org/bokeh/release/bokeh-tables-3.2.2.min.js\", \"https://cdn.bokeh.org/bokeh/release/bokeh-mathjax-3.2.2.min.js\"];\n  const css_urls = [];\n\n  const inline_js = [    function(Bokeh) {\n      Bokeh.set_log_level(\"info\");\n    },\nfunction(Bokeh) {\n    }\n  ];\n\n  function run_inline_js() {\n    if (root.Bokeh !== undefined || force === true) {\n          for (let i = 0; i < inline_js.length; i++) {\n      inline_js[i].call(root, root.Bokeh);\n    }\n} else if (Date.now() < root._bokeh_timeout) {\n      setTimeout(run_inline_js, 100);\n    } else if (!root._bokeh_failed_load) {\n      console.log(\"Bokeh: BokehJS failed to load within specified timeout.\");\n      root._bokeh_failed_load = true;\n    } else if (force !== true) {\n      const cell = $(document.getElementById(null)).parents('.cell').data().cell;\n      cell.output_area.append_execute_result(NB_LOAD_WARNING)\n    }\n  }\n\n  if (root._bokeh_is_loading === 0) {\n    console.debug(\"Bokeh: BokehJS loaded, going straight to plotting\");\n    run_inline_js();\n  } else {\n    load_libs(css_urls, js_urls, function() {\n      console.debug(\"Bokeh: BokehJS plotting callback run at\", now());\n      run_inline_js();\n    });\n  }\n}(window));"
     },
     "metadata": {},
     "output_type": "display_data"
    }
   ],
   "source": [
    "from collections import namedtuple\n",
    "from copy import deepcopy\n",
    "\n",
    "from ssscoring import ALTITUDE_SKYDIVE_PARACLETE_XP\n",
    "from ssscoring import BREAKOFF_ALTITUDE\n",
    "from ssscoring import PERFORMANCE_WINDOW_LENGTH\n",
    "from ssscoring import aggregateResults\n",
    "from ssscoring import convertFlySight2SSScoring\n",
    "from ssscoring import dropNonSkydiveDataFrom\n",
    "from ssscoring import getAllSpeedJumpFilesFrom\n",
    "from ssscoring import getSpeedSkydiveFrom\n",
    "from ssscoring import isValidJump\n",
    "from ssscoring import jumpAnalysisTable\n",
    "from ssscoring import processAllJumpFiles\n",
    "from ssscoring import totalResultsFrom\n",
    "from ssscoring import validFlySightHeaderIn\n",
    "from ssscoring.notebook import SPEED_COLORS\n",
    "from ssscoring.notebook import graphJumpResult\n",
    "from ssscoring.notebook import initializePlot\n",
    "\n",
    "import csv\n",
    "import os\n",
    "import os.path as path\n",
    "\n",
    "import bokeh.plotting as bp\n",
    "import ipywidgets as widgets\n",
    "import pandas as pd"
   ]
  },
  {
   "cell_type": "code",
   "execution_count": 2,
   "id": "ef1d2bf0-eaf3-4d78-b6c0-fb1bb4ed10f1",
   "metadata": {},
   "outputs": [],
   "source": [
    "DATA_LAKE_ROOT = './data'"
   ]
  },
  {
   "cell_type": "code",
   "execution_count": 3,
   "id": "b1273b5c-44c1-46c2-a125-d01ad9268a1a",
   "metadata": {
    "jupyter": {
     "source_hidden": true
    }
   },
   "outputs": [],
   "source": [
    "jumpFiles = getAllSpeedJumpFilesFrom(DATA_LAKE_ROOT)"
   ]
  },
  {
   "cell_type": "code",
   "execution_count": 4,
   "id": "53a5fe5a-dd39-40d3-bfbf-d7048374e4ea",
   "metadata": {
    "jupyter": {
     "source_hidden": true
    }
   },
   "outputs": [],
   "source": [
    "jumpResults = processAllJumpFiles(jumpFiles)"
   ]
  },
  {
   "cell_type": "markdown",
   "id": "d80518ef-f197-4e40-a74e-8089eecb725a",
   "metadata": {},
   "source": [
    "---\n",
    "## Results"
   ]
  },
  {
   "cell_type": "code",
   "execution_count": 5,
   "id": "27c12cb1-2f60-44c9-b8fa-998b3df9d878",
   "metadata": {
    "jupyter": {
     "source_hidden": true
    }
   },
   "outputs": [
    {
     "data": {
      "text/html": [
       "<div>\n",
       "<style scoped>\n",
       "    .dataframe tbody tr th:only-of-type {\n",
       "        vertical-align: middle;\n",
       "    }\n",
       "\n",
       "    .dataframe tbody tr th {\n",
       "        vertical-align: top;\n",
       "    }\n",
       "\n",
       "    .dataframe thead th {\n",
       "        text-align: right;\n",
       "    }\n",
       "</style>\n",
       "<table border=\"1\" class=\"dataframe\">\n",
       "  <thead>\n",
       "    <tr style=\"text-align: right;\">\n",
       "      <th></th>\n",
       "      <th>score</th>\n",
       "      <th>5.0</th>\n",
       "      <th>10.0</th>\n",
       "      <th>15.0</th>\n",
       "      <th>20.0</th>\n",
       "      <th>25.0</th>\n",
       "      <th>finalTime</th>\n",
       "      <th>maxSpeed</th>\n",
       "    </tr>\n",
       "  </thead>\n",
       "  <tbody>\n",
       "    <tr>\n",
       "      <th>R1_12-12-32</th>\n",
       "      <td>414.558</td>\n",
       "      <td>175.896</td>\n",
       "      <td>307.368</td>\n",
       "      <td>383.148</td>\n",
       "      <td>405.612</td>\n",
       "      <td>415.584</td>\n",
       "      <td>25.0</td>\n",
       "      <td>418.032</td>\n",
       "    </tr>\n",
       "    <tr>\n",
       "      <th>R2_13-22-20</th>\n",
       "      <td>447.534</td>\n",
       "      <td>176.040</td>\n",
       "      <td>305.712</td>\n",
       "      <td>387.864</td>\n",
       "      <td>430.344</td>\n",
       "      <td>450.900</td>\n",
       "      <td>25.0</td>\n",
       "      <td>451.692</td>\n",
       "    </tr>\n",
       "    <tr>\n",
       "      <th>R3_14-29-41</th>\n",
       "      <td>451.62</td>\n",
       "      <td>175.068</td>\n",
       "      <td>307.548</td>\n",
       "      <td>397.548</td>\n",
       "      <td>442.872</td>\n",
       "      <td>452.196</td>\n",
       "      <td>25.0</td>\n",
       "      <td>453.384</td>\n",
       "    </tr>\n",
       "    <tr>\n",
       "      <th>R4_15-41-08</th>\n",
       "      <td>440.82</td>\n",
       "      <td>179.424</td>\n",
       "      <td>303.048</td>\n",
       "      <td>386.100</td>\n",
       "      <td>427.464</td>\n",
       "      <td>440.712</td>\n",
       "      <td>25.0</td>\n",
       "      <td>441.720</td>\n",
       "    </tr>\n",
       "    <tr>\n",
       "      <th>R5_17-02-21</th>\n",
       "      <td>427.176</td>\n",
       "      <td>180.432</td>\n",
       "      <td>314.964</td>\n",
       "      <td>397.476</td>\n",
       "      <td>417.924</td>\n",
       "      <td>421.704</td>\n",
       "      <td>25.0</td>\n",
       "      <td>429.768</td>\n",
       "    </tr>\n",
       "    <tr>\n",
       "      <th>R6_18-17-00</th>\n",
       "      <td>432.99</td>\n",
       "      <td>171.180</td>\n",
       "      <td>286.200</td>\n",
       "      <td>380.772</td>\n",
       "      <td>420.696</td>\n",
       "      <td>431.064</td>\n",
       "      <td>25.0</td>\n",
       "      <td>438.120</td>\n",
       "    </tr>\n",
       "    <tr>\n",
       "      <th>R7_11-49-45</th>\n",
       "      <td>440.784</td>\n",
       "      <td>178.308</td>\n",
       "      <td>310.608</td>\n",
       "      <td>397.836</td>\n",
       "      <td>440.568</td>\n",
       "      <td>415.260</td>\n",
       "      <td>25.0</td>\n",
       "      <td>446.364</td>\n",
       "    </tr>\n",
       "    <tr>\n",
       "      <th>R8_13-00-55</th>\n",
       "      <td>439.146</td>\n",
       "      <td>178.848</td>\n",
       "      <td>302.724</td>\n",
       "      <td>386.784</td>\n",
       "      <td>431.136</td>\n",
       "      <td>440.964</td>\n",
       "      <td>25.0</td>\n",
       "      <td>441.792</td>\n",
       "    </tr>\n",
       "  </tbody>\n",
       "</table>\n",
       "</div>"
      ],
      "text/plain": [
       "               score      5.0     10.0     15.0     20.0     25.0  finalTime  \\\n",
       "R1_12-12-32  414.558  175.896  307.368  383.148  405.612  415.584       25.0   \n",
       "R2_13-22-20  447.534  176.040  305.712  387.864  430.344  450.900       25.0   \n",
       "R3_14-29-41   451.62  175.068  307.548  397.548  442.872  452.196       25.0   \n",
       "R4_15-41-08   440.82  179.424  303.048  386.100  427.464  440.712       25.0   \n",
       "R5_17-02-21  427.176  180.432  314.964  397.476  417.924  421.704       25.0   \n",
       "R6_18-17-00   432.99  171.180  286.200  380.772  420.696  431.064       25.0   \n",
       "R7_11-49-45  440.784  178.308  310.608  397.836  440.568  415.260       25.0   \n",
       "R8_13-00-55  439.146  178.848  302.724  386.784  431.136  440.964       25.0   \n",
       "\n",
       "             maxSpeed  \n",
       "R1_12-12-32   418.032  \n",
       "R2_13-22-20   451.692  \n",
       "R3_14-29-41   453.384  \n",
       "R4_15-41-08   441.720  \n",
       "R5_17-02-21   429.768  \n",
       "R6_18-17-00   438.120  \n",
       "R7_11-49-45   446.364  \n",
       "R8_13-00-55   441.792  "
      ]
     },
     "metadata": {},
     "output_type": "display_data"
    },
    {
     "data": {
      "text/html": [
       "<div>\n",
       "<style scoped>\n",
       "    .dataframe tbody tr th:only-of-type {\n",
       "        vertical-align: middle;\n",
       "    }\n",
       "\n",
       "    .dataframe tbody tr th {\n",
       "        vertical-align: top;\n",
       "    }\n",
       "\n",
       "    .dataframe thead th {\n",
       "        text-align: right;\n",
       "    }\n",
       "</style>\n",
       "<table border=\"1\" class=\"dataframe\">\n",
       "  <thead>\n",
       "    <tr style=\"text-align: right;\">\n",
       "      <th></th>\n",
       "      <th>totalSpeed</th>\n",
       "      <th>meanSpeed</th>\n",
       "      <th>maxScore</th>\n",
       "    </tr>\n",
       "  </thead>\n",
       "  <tbody>\n",
       "    <tr>\n",
       "      <th>totalSpeed</th>\n",
       "      <td>3494.628</td>\n",
       "      <td>436.8285</td>\n",
       "      <td>451.62</td>\n",
       "    </tr>\n",
       "  </tbody>\n",
       "</table>\n",
       "</div>"
      ],
      "text/plain": [
       "            totalSpeed  meanSpeed  maxScore\n",
       "totalSpeed    3494.628   436.8285    451.62"
      ]
     },
     "metadata": {},
     "output_type": "display_data"
    }
   ],
   "source": [
    "aggregate = aggregateResults(jumpResults)\n",
    "sum = totalResultsFrom(aggregate)\n",
    "display(aggregate)\n",
    "display(sum)"
   ]
  },
  {
   "cell_type": "code",
   "execution_count": 6,
   "id": "888f2fce-1e7a-4728-b86d-7975c37e75c2",
   "metadata": {
    "jupyter": {
     "source_hidden": true
    }
   },
   "outputs": [
    {
     "data": {
      "application/vnd.jupyter.widget-view+json": {
       "model_id": "332e4f77d13746d7a27f8ef3f756ee53",
       "version_major": 2,
       "version_minor": 0
      },
      "text/plain": [
       "HTML(value='<hr><h1><span style=\"color: #0f0\">R1_12-12-32 jump - 🟢 valid</span></h1>')"
      ]
     },
     "metadata": {},
     "output_type": "display_data"
    },
    {
     "data": {
      "application/vnd.jupyter.widget-view+json": {
       "model_id": "b93ac9eb5e47489db87635415cb237d6",
       "version_major": 2,
       "version_minor": 0
      },
      "text/plain": [
       "HTML(value='<h3>Max speed = 418; exit at 4198 m (13775 ft), end scoring window at 1942 m (6374 ft)</h3>')"
      ]
     },
     "metadata": {},
     "output_type": "display_data"
    },
    {
     "data": {
      "text/html": [
       "\n",
       "  <div id=\"d23d13aa-997b-4666-95f0-481f45dcfdc6\" data-root-id=\"p1032\" style=\"display: contents;\"></div>\n"
      ]
     },
     "metadata": {},
     "output_type": "display_data"
    },
    {
     "data": {
      "application/javascript": [
       "(function(root) {\n",
       "  function embed_document(root) {\n",
       "  const docs_json = {\"e131bc83-31e5-4726-b203-7df705e25348\":{\"version\":\"3.2.2\",\"title\":\"Bokeh Application\",\"roots\":[{\"type\":\"object\",\"name\":\"Figure\",\"id\":\"p1032\",\"attributes\":{\"width\":900,\"height\":500,\"x_range\":{\"type\":\"object\",\"name\":\"Range1d\",\"id\":\"p1042\",\"attributes\":{\"end\":40.0}},\"y_range\":{\"type\":\"object\",\"name\":\"Range1d\",\"id\":\"p1043\",\"attributes\":{\"end\":550.0}},\"x_scale\":{\"type\":\"object\",\"name\":\"LinearScale\",\"id\":\"p1044\"},\"y_scale\":{\"type\":\"object\",\"name\":\"LinearScale\",\"id\":\"p1045\"},\"title\":{\"type\":\"object\",\"name\":\"Title\",\"id\":\"p1035\",\"attributes\":{\"text\":\"R1_12-12-32\"}},\"renderers\":[{\"type\":\"object\",\"name\":\"GlyphRenderer\",\"id\":\"p1069\",\"attributes\":{\"data_source\":{\"type\":\"object\",\"name\":\"ColumnDataSource\",\"id\":\"p1063\",\"attributes\":{\"selected\":{\"type\":\"object\",\"name\":\"Selection\",\"id\":\"p1064\",\"attributes\":{\"indices\":[],\"line_indices\":[]}},\"selection_policy\":{\"type\":\"object\",\"name\":\"UnionRenderers\",\"id\":\"p1065\"},\"data\":{\"type\":\"map\",\"entries\":[[\"x\",{\"type\":\"ndarray\",\"array\":{\"type\":\"bytes\",\"data\":\"AAAAAAAAAAAAAAAAmpnJPwAAAACamdk/AAAAgDMz4z8AAACAmZnpPwAAAAAAAPA/AAAAQDMz8z8AAACAZmb2PwAAAMCZmfk/AAAAwMzM/D8AAAAAAAAAQAAAAKCZmQFAAAAAQDMzA0AAAADgzMwEQAAAAGBmZgZAAAAAAAAACEAAAACgmZkJQAAAAEAzMwtAAAAA4MzMDEAAAABgZmYOQAAAAAAAABBAAAAA0MzMEEAAAACgmZkRQAAAAHBmZhJAAAAAMDMzE0AAAAAAAAAUQAAAANDMzBRAAAAAoJmZFUAAAABwZmYWQAAAADAzMxdAAAAAAAAAGEAAAADQzMwYQAAAAKCZmRlAAAAAcGZmGkAAAAAwMzMbQAAAAAAAABxAAAAA0MzMHEAAAACgmZkdQAAAAHBmZh5AAAAAMDMzH0AAAAAAAAAgQAAAAGhmZiBAAAAA0MzMIEAAAAA4MzMhQAAAAJiZmSFAAAAAAAAAIkAAAABoZmYiQAAAANDMzCJAAAAAODMzI0AAAACYmZkjQAAAAAAAACRAAAAAaGZmJEAAAADQzMwkQAAAADgzMyVAAAAAmJmZJUAAAAAAAAAmQAAAAGhmZiZAAAAA0MzMJkAAAAA4MzMnQAAAAJiZmSdAAAAAAAAAKEAAAABoZmYoQAAAANDMzChAAAAAODMzKUAAAACYmZkpQAAAAAAAACpAAAAAaGZmKkAAAADQzMwqQAAAADgzMytAAAAAmJmZK0AAAAAAAAAsQAAAAGhmZixAAAAA0MzMLEAAAAA4MzMtQAAAAJiZmS1AAAAAAAAALkAAAABoZmYuQAAAANDMzC5AAAAAODMzL0AAAACYmZkvQAAAAAAAADBAAAAANDMzMEAAAABoZmYwQAAAAJyZmTBAAAAAzMzMMEAAAAAAAAAxQAAAADQzMzFAAAAAaGZmMUAAAACcmZkxQAAAAMzMzDFAAAAAAAAAMkAAAAA0MzMyQAAAAGhmZjJAAAAAnJmZMkAAAADMzMwyQAAAAAAAADNAAAAANDMzM0AAAABoZmYzQAAAAJyZmTNAAAAAzMzMM0AAAAAAAAA0QAAAADQzMzRAAAAAaGZmNEAAAACcmZk0QAAAAMzMzDRAAAAAAAAANUAAAAA0MzM1QAAAAGhmZjVAAAAAnJmZNUAAAADMzMw1QAAAAAAAADZAAAAANDMzNkAAAABoZmY2QAAAAJyZmTZAAAAAzMzMNkAAAAAAAAA3QAAAADQzMzdAAAAAaGZmN0AAAACcmZk3QAAAAMzMzDdAAAAAAAAAOEAAAAA0MzM4QAAAAGhmZjhAAAAAnJmZOEAAAADMzMw4QAAAAAAAADlAAAAANDMzOUAAAABoZmY5QAAAAJyZmTlAAAAAzMzMOUAAAAAAAAA6QAAAADQzMzpA\"},\"shape\":[132],\"dtype\":\"float64\",\"order\":\"little\"}],[\"y\",{\"type\":\"ndarray\",\"array\":{\"type\":\"bytes\",\"data\":\"iBbZzvdTF0B56SYxCKwlQDIIrBxaZC9AoBov3SQGNUAEVg4tsh08QIPAyqFFtkFAsHJoke38REDHSzeJQeBIQKJFtvP9VExAI9v5fmr8T0CXbhKDwKpRQDMzMzMzk1NA2/l+arx0VUB7FK5H4VpXQDeJQWDlMFlA5KWbxCAQW0DqJjEIrLxcQMdLN4lBgF5AUI2XbhIjYEDByqFFtgNhQDzfT42X3mFAuR6F61G4YkA+CtejcI1jQMuhRbbzXWRAVg4tsp0vZUDqJjEIrPxlQIts5/upwWZANl66SQyCZ0DfT42XbkJoQJqZmZmZ+WhAXrpJDAKraUAEVg4tsm1qQKAaL90kNmtAUI2XbhLza0AZBFYOLaJsQNnO91PjVW1AppvEILACbkB56SYxCKxuQFCNl24SU29AO99PjZfub0CPwvUoXEdwQAAAAAAAmHBAbxKDwMrpcEDn+6nx0jVxQGq8dJMYfHFA5/up8dLFcUDhehSuRxFyQNV46SYxYHJAWDm0yHamckBcj8L1KOxyQNnO91PjNXNA2KNwPQp/c0Bh5dAi28FzQObQItv5BnRA7nw/NV5KdED6fmq8dIt0QH9qvHST0HRAlBgEVg4NdUCq8dJNYkh1QNNNYhBYeXVA9ihcj8KtdUA2XrpJDNJ1QGMQWDm0AHZApHA9CtcjdkDZzvdT4012QJduEoPAcnZAWDm0yHaWdkAUrkfherx2QD81XrpJ7HZA8KfGSzcZd0CXbhKDwEp3QE5iEFg5dHdAFK5H4XqUd0Bcj8L1KLR3QKjGSzeJ0XdA7nw/NV7yd0AzMzMzMxN4QHsUrkfhMnhAQmDl0CJTeEAMAiuHFnF4QNv5fmq8jHhArkfhehSmeEB56SYxCMR4QEW28/3U4HhAH4XrUbj2eEB9PzVeugl5QO58PzVeEnlA5/up8dIVeUDb+X5qvBx5QNnO91PjHXlAUI2XbhIjeUBI4XoUrid5QLOd76fGM3lAJzEIrBw6eUAlBoGVQzt5QLTIdr6fMnlAtMh2vp8yeUApXI/C9Th5QA4tsp3vR3lAdZMYBFZWeUBvEoPAyll5QFK4HoXraXlAwcqhRbZzeUCuR+F6FH55QCcxCKwcgnlAJQaBlUODeUAj2/l+aoR5QKJFtvP9hHlAH4XrUbiGeUAX2c73U4t5QBkEVg4tinlADi2yne+PeUD8qfHSTZp5QHE9CtejoHlA8tJNYhCgeUBh5dAi26l5QNNNYhBYsXlAObTIdr6/eUCsHFpkO8d5QAwCK4cW2XlAf2q8dJPgeUCBlUOLbN95QPCnxks36XlAarx0kxjseUBnZmZmZu55QNNNYhBY+XlAVg4tsp33eUDHSzeJQQB6QKwcWmQ7D3pAoBov3SQWekARWDm0yB56QI6XbhKDIHpA\"},\"shape\":[132],\"dtype\":\"float64\",\"order\":\"little\"}]]}}},\"view\":{\"type\":\"object\",\"name\":\"CDSView\",\"id\":\"p1070\",\"attributes\":{\"filter\":{\"type\":\"object\",\"name\":\"AllIndices\",\"id\":\"p1071\"}}},\"glyph\":{\"type\":\"object\",\"name\":\"Line\",\"id\":\"p1066\",\"attributes\":{\"x\":{\"type\":\"field\",\"field\":\"x\"},\"y\":{\"type\":\"field\",\"field\":\"y\"},\"line_color\":\"blue\",\"line_width\":2}},\"nonselection_glyph\":{\"type\":\"object\",\"name\":\"Line\",\"id\":\"p1067\",\"attributes\":{\"x\":{\"type\":\"field\",\"field\":\"x\"},\"y\":{\"type\":\"field\",\"field\":\"y\"},\"line_color\":\"blue\",\"line_alpha\":0.1,\"line_width\":2}},\"muted_glyph\":{\"type\":\"object\",\"name\":\"Line\",\"id\":\"p1068\",\"attributes\":{\"x\":{\"type\":\"field\",\"field\":\"x\"},\"y\":{\"type\":\"field\",\"field\":\"y\"},\"line_color\":\"blue\",\"line_alpha\":0.2,\"line_width\":2}}}},{\"type\":\"object\",\"name\":\"GlyphRenderer\",\"id\":\"p1080\",\"attributes\":{\"data_source\":{\"type\":\"object\",\"name\":\"ColumnDataSource\",\"id\":\"p1074\",\"attributes\":{\"selected\":{\"type\":\"object\",\"name\":\"Selection\",\"id\":\"p1075\",\"attributes\":{\"indices\":[],\"line_indices\":[]}},\"selection_policy\":{\"type\":\"object\",\"name\":\"UnionRenderers\",\"id\":\"p1076\"},\"data\":{\"type\":\"map\",\"entries\":[[\"x0\",[23.200000047683716]],[\"y0\",[0.0]],[\"x1\",[23.200000047683716]],[\"y1\",[414.558]]]}}},\"view\":{\"type\":\"object\",\"name\":\"CDSView\",\"id\":\"p1081\",\"attributes\":{\"filter\":{\"type\":\"object\",\"name\":\"AllIndices\",\"id\":\"p1082\"}}},\"glyph\":{\"type\":\"object\",\"name\":\"Segment\",\"id\":\"p1077\",\"attributes\":{\"x0\":{\"type\":\"field\",\"field\":\"x0\"},\"y0\":{\"type\":\"field\",\"field\":\"y0\"},\"x1\":{\"type\":\"field\",\"field\":\"x1\"},\"y1\":{\"type\":\"field\",\"field\":\"y1\"},\"line_color\":{\"type\":\"value\",\"value\":\"green\"},\"line_width\":{\"type\":\"value\",\"value\":3}}},\"nonselection_glyph\":{\"type\":\"object\",\"name\":\"Segment\",\"id\":\"p1078\",\"attributes\":{\"x0\":{\"type\":\"field\",\"field\":\"x0\"},\"y0\":{\"type\":\"field\",\"field\":\"y0\"},\"x1\":{\"type\":\"field\",\"field\":\"x1\"},\"y1\":{\"type\":\"field\",\"field\":\"y1\"},\"line_color\":{\"type\":\"value\",\"value\":\"green\"},\"line_alpha\":{\"type\":\"value\",\"value\":0.1},\"line_width\":{\"type\":\"value\",\"value\":3}}},\"muted_glyph\":{\"type\":\"object\",\"name\":\"Segment\",\"id\":\"p1079\",\"attributes\":{\"x0\":{\"type\":\"field\",\"field\":\"x0\"},\"y0\":{\"type\":\"field\",\"field\":\"y0\"},\"x1\":{\"type\":\"field\",\"field\":\"x1\"},\"y1\":{\"type\":\"field\",\"field\":\"y1\"},\"line_color\":{\"type\":\"value\",\"value\":\"green\"},\"line_alpha\":{\"type\":\"value\",\"value\":0.2},\"line_width\":{\"type\":\"value\",\"value\":3}}}}},{\"type\":\"object\",\"name\":\"GlyphRenderer\",\"id\":\"p1089\",\"attributes\":{\"data_source\":{\"type\":\"object\",\"name\":\"ColumnDataSource\",\"id\":\"p1083\",\"attributes\":{\"selected\":{\"type\":\"object\",\"name\":\"Selection\",\"id\":\"p1084\",\"attributes\":{\"indices\":[],\"line_indices\":[]}},\"selection_policy\":{\"type\":\"object\",\"name\":\"UnionRenderers\",\"id\":\"p1085\"},\"data\":{\"type\":\"map\",\"entries\":[[\"x0\",[24.700000047683716]],[\"y0\",[0.0]],[\"x1\",[24.700000047683716]],[\"y1\",[414.558]]]}}},\"view\":{\"type\":\"object\",\"name\":\"CDSView\",\"id\":\"p1090\",\"attributes\":{\"filter\":{\"type\":\"object\",\"name\":\"AllIndices\",\"id\":\"p1091\"}}},\"glyph\":{\"type\":\"object\",\"name\":\"Segment\",\"id\":\"p1086\",\"attributes\":{\"x0\":{\"type\":\"field\",\"field\":\"x0\"},\"y0\":{\"type\":\"field\",\"field\":\"y0\"},\"x1\":{\"type\":\"field\",\"field\":\"x1\"},\"y1\":{\"type\":\"field\",\"field\":\"y1\"},\"line_color\":{\"type\":\"value\",\"value\":\"darkseagreen\"}}},\"nonselection_glyph\":{\"type\":\"object\",\"name\":\"Segment\",\"id\":\"p1087\",\"attributes\":{\"x0\":{\"type\":\"field\",\"field\":\"x0\"},\"y0\":{\"type\":\"field\",\"field\":\"y0\"},\"x1\":{\"type\":\"field\",\"field\":\"x1\"},\"y1\":{\"type\":\"field\",\"field\":\"y1\"},\"line_color\":{\"type\":\"value\",\"value\":\"darkseagreen\"},\"line_alpha\":{\"type\":\"value\",\"value\":0.1}}},\"muted_glyph\":{\"type\":\"object\",\"name\":\"Segment\",\"id\":\"p1088\",\"attributes\":{\"x0\":{\"type\":\"field\",\"field\":\"x0\"},\"y0\":{\"type\":\"field\",\"field\":\"y0\"},\"x1\":{\"type\":\"field\",\"field\":\"x1\"},\"y1\":{\"type\":\"field\",\"field\":\"y1\"},\"line_color\":{\"type\":\"value\",\"value\":\"darkseagreen\"},\"line_alpha\":{\"type\":\"value\",\"value\":0.2}}}}},{\"type\":\"object\",\"name\":\"GlyphRenderer\",\"id\":\"p1098\",\"attributes\":{\"data_source\":{\"type\":\"object\",\"name\":\"ColumnDataSource\",\"id\":\"p1092\",\"attributes\":{\"selected\":{\"type\":\"object\",\"name\":\"Selection\",\"id\":\"p1093\",\"attributes\":{\"indices\":[],\"line_indices\":[]}},\"selection_policy\":{\"type\":\"object\",\"name\":\"UnionRenderers\",\"id\":\"p1094\"},\"data\":{\"type\":\"map\",\"entries\":[[\"x0\",[21.700000047683716]],[\"y0\",[0.0]],[\"x1\",[21.700000047683716]],[\"y1\",[414.558]]]}}},\"view\":{\"type\":\"object\",\"name\":\"CDSView\",\"id\":\"p1099\",\"attributes\":{\"filter\":{\"type\":\"object\",\"name\":\"AllIndices\",\"id\":\"p1100\"}}},\"glyph\":{\"type\":\"object\",\"name\":\"Segment\",\"id\":\"p1095\",\"attributes\":{\"x0\":{\"type\":\"field\",\"field\":\"x0\"},\"y0\":{\"type\":\"field\",\"field\":\"y0\"},\"x1\":{\"type\":\"field\",\"field\":\"x1\"},\"y1\":{\"type\":\"field\",\"field\":\"y1\"},\"line_color\":{\"type\":\"value\",\"value\":\"darkseagreen\"}}},\"nonselection_glyph\":{\"type\":\"object\",\"name\":\"Segment\",\"id\":\"p1096\",\"attributes\":{\"x0\":{\"type\":\"field\",\"field\":\"x0\"},\"y0\":{\"type\":\"field\",\"field\":\"y0\"},\"x1\":{\"type\":\"field\",\"field\":\"x1\"},\"y1\":{\"type\":\"field\",\"field\":\"y1\"},\"line_color\":{\"type\":\"value\",\"value\":\"darkseagreen\"},\"line_alpha\":{\"type\":\"value\",\"value\":0.1}}},\"muted_glyph\":{\"type\":\"object\",\"name\":\"Segment\",\"id\":\"p1097\",\"attributes\":{\"x0\":{\"type\":\"field\",\"field\":\"x0\"},\"y0\":{\"type\":\"field\",\"field\":\"y0\"},\"x1\":{\"type\":\"field\",\"field\":\"x1\"},\"y1\":{\"type\":\"field\",\"field\":\"y1\"},\"line_color\":{\"type\":\"value\",\"value\":\"darkseagreen\"},\"line_alpha\":{\"type\":\"value\",\"value\":0.2}}}}},{\"type\":\"object\",\"name\":\"GlyphRenderer\",\"id\":\"p1107\",\"attributes\":{\"data_source\":{\"type\":\"object\",\"name\":\"ColumnDataSource\",\"id\":\"p1101\",\"attributes\":{\"selected\":{\"type\":\"object\",\"name\":\"Selection\",\"id\":\"p1102\",\"attributes\":{\"indices\":[],\"line_indices\":[]}},\"selection_policy\":{\"type\":\"object\",\"name\":\"UnionRenderers\",\"id\":\"p1103\"},\"data\":{\"type\":\"map\",\"entries\":[[\"x\",[23.200000047683716]],[\"y\",[414.558]],[\"size\",[20]]]}}},\"view\":{\"type\":\"object\",\"name\":\"CDSView\",\"id\":\"p1108\",\"attributes\":{\"filter\":{\"type\":\"object\",\"name\":\"AllIndices\",\"id\":\"p1109\"}}},\"glyph\":{\"type\":\"object\",\"name\":\"Scatter\",\"id\":\"p1104\",\"attributes\":{\"x\":{\"type\":\"field\",\"field\":\"x\"},\"y\":{\"type\":\"field\",\"field\":\"y\"},\"size\":{\"type\":\"field\",\"field\":\"size\"},\"line_color\":{\"type\":\"value\",\"value\":\"green\"},\"line_width\":{\"type\":\"value\",\"value\":3},\"fill_color\":{\"type\":\"value\",\"value\":null},\"marker\":{\"type\":\"value\",\"value\":\"square_cross\"}}},\"nonselection_glyph\":{\"type\":\"object\",\"name\":\"Scatter\",\"id\":\"p1105\",\"attributes\":{\"x\":{\"type\":\"field\",\"field\":\"x\"},\"y\":{\"type\":\"field\",\"field\":\"y\"},\"size\":{\"type\":\"field\",\"field\":\"size\"},\"line_color\":{\"type\":\"value\",\"value\":\"green\"},\"line_alpha\":{\"type\":\"value\",\"value\":0.1},\"line_width\":{\"type\":\"value\",\"value\":3},\"fill_color\":{\"type\":\"value\",\"value\":null},\"fill_alpha\":{\"type\":\"value\",\"value\":0.1},\"hatch_alpha\":{\"type\":\"value\",\"value\":0.1},\"marker\":{\"type\":\"value\",\"value\":\"square_cross\"}}},\"muted_glyph\":{\"type\":\"object\",\"name\":\"Scatter\",\"id\":\"p1106\",\"attributes\":{\"x\":{\"type\":\"field\",\"field\":\"x\"},\"y\":{\"type\":\"field\",\"field\":\"y\"},\"size\":{\"type\":\"field\",\"field\":\"size\"},\"line_color\":{\"type\":\"value\",\"value\":\"green\"},\"line_alpha\":{\"type\":\"value\",\"value\":0.2},\"line_width\":{\"type\":\"value\",\"value\":3},\"fill_color\":{\"type\":\"value\",\"value\":null},\"fill_alpha\":{\"type\":\"value\",\"value\":0.2},\"hatch_alpha\":{\"type\":\"value\",\"value\":0.2},\"marker\":{\"type\":\"value\",\"value\":\"square_cross\"}}}}}],\"toolbar\":{\"type\":\"object\",\"name\":\"Toolbar\",\"id\":\"p1041\",\"attributes\":{\"tools\":[{\"type\":\"object\",\"name\":\"PanTool\",\"id\":\"p1056\"},{\"type\":\"object\",\"name\":\"WheelZoomTool\",\"id\":\"p1057\"},{\"type\":\"object\",\"name\":\"BoxZoomTool\",\"id\":\"p1058\",\"attributes\":{\"overlay\":{\"type\":\"object\",\"name\":\"BoxAnnotation\",\"id\":\"p1059\",\"attributes\":{\"syncable\":false,\"level\":\"overlay\",\"visible\":false,\"left_units\":\"canvas\",\"right_units\":\"canvas\",\"bottom_units\":\"canvas\",\"top_units\":\"canvas\",\"line_color\":\"black\",\"line_alpha\":1.0,\"line_width\":2,\"line_dash\":[4,4],\"fill_color\":\"lightgrey\",\"fill_alpha\":0.5}}}},{\"type\":\"object\",\"name\":\"SaveTool\",\"id\":\"p1060\"},{\"type\":\"object\",\"name\":\"ResetTool\",\"id\":\"p1061\"},{\"type\":\"object\",\"name\":\"HelpTool\",\"id\":\"p1062\"}]}},\"left\":[{\"type\":\"object\",\"name\":\"LinearAxis\",\"id\":\"p1051\",\"attributes\":{\"ticker\":{\"type\":\"object\",\"name\":\"BasicTicker\",\"id\":\"p1052\",\"attributes\":{\"mantissas\":[1,2,5]}},\"formatter\":{\"type\":\"object\",\"name\":\"BasicTickFormatter\",\"id\":\"p1053\"},\"axis_label\":\"km/h\",\"major_label_policy\":{\"type\":\"object\",\"name\":\"AllLabels\",\"id\":\"p1054\"}}}],\"below\":[{\"type\":\"object\",\"name\":\"LinearAxis\",\"id\":\"p1046\",\"attributes\":{\"ticker\":{\"type\":\"object\",\"name\":\"BasicTicker\",\"id\":\"p1047\",\"attributes\":{\"mantissas\":[1,2,5]}},\"formatter\":{\"type\":\"object\",\"name\":\"BasicTickFormatter\",\"id\":\"p1048\"},\"axis_label\":\"seconds from exit\",\"major_label_policy\":{\"type\":\"object\",\"name\":\"AllLabels\",\"id\":\"p1049\"}}}],\"center\":[{\"type\":\"object\",\"name\":\"Grid\",\"id\":\"p1050\",\"attributes\":{\"axis\":{\"id\":\"p1046\"}}},{\"type\":\"object\",\"name\":\"Grid\",\"id\":\"p1055\",\"attributes\":{\"dimension\":1,\"axis\":{\"id\":\"p1051\"}}},{\"type\":\"object\",\"name\":\"Legend\",\"id\":\"p1072\",\"attributes\":{\"items\":[{\"type\":\"object\",\"name\":\"LegendItem\",\"id\":\"p1073\",\"attributes\":{\"label\":{\"type\":\"value\",\"value\":\"speed\"},\"renderers\":[{\"id\":\"p1069\"}]}}]}}]}}]}};\n",
       "  const render_items = [{\"docid\":\"e131bc83-31e5-4726-b203-7df705e25348\",\"roots\":{\"p1032\":\"d23d13aa-997b-4666-95f0-481f45dcfdc6\"},\"root_ids\":[\"p1032\"]}];\n",
       "  root.Bokeh.embed.embed_items_notebook(docs_json, render_items);\n",
       "  }\n",
       "  if (root.Bokeh !== undefined) {\n",
       "    embed_document(root);\n",
       "  } else {\n",
       "    let attempts = 0;\n",
       "    const timer = setInterval(function(root) {\n",
       "      if (root.Bokeh !== undefined) {\n",
       "        clearInterval(timer);\n",
       "        embed_document(root);\n",
       "      } else {\n",
       "        attempts++;\n",
       "        if (attempts > 100) {\n",
       "          clearInterval(timer);\n",
       "          console.log(\"Bokeh: ERROR: Unable to run BokehJS code because BokehJS library is missing\");\n",
       "        }\n",
       "      }\n",
       "    }, 10, root)\n",
       "  }\n",
       "})(window);"
      ],
      "application/vnd.bokehjs_exec.v0+json": ""
     },
     "metadata": {
      "application/vnd.bokehjs_exec.v0+json": {
       "id": "p1032"
      }
     },
     "output_type": "display_data"
    },
    {
     "data": {
      "application/vnd.jupyter.widget-view+json": {
       "model_id": "d33c218c289d473b86be450575e14525",
       "version_major": 2,
       "version_minor": 0
      },
      "text/plain": [
       "HTML(value='<hr><h1><span style=\"color: #0f0\">R2_13-22-20 jump - 🟢 valid</span></h1>')"
      ]
     },
     "metadata": {},
     "output_type": "display_data"
    },
    {
     "data": {
      "application/vnd.jupyter.widget-view+json": {
       "model_id": "a97370e9a1e5448e9dec0c5f28dfc6c5",
       "version_major": 2,
       "version_minor": 0
      },
      "text/plain": [
       "HTML(value='<h3>Max speed = 452; exit at 4219 m (13841 ft), end scoring window at 1963 m (6440 ft)</h3>')"
      ]
     },
     "metadata": {},
     "output_type": "display_data"
    },
    {
     "data": {
      "text/html": [
       "\n",
       "  <div id=\"ec33d68b-afa2-4c0b-bb72-4d98d1b9b33a\" data-root-id=\"p1123\" style=\"display: contents;\"></div>\n"
      ]
     },
     "metadata": {},
     "output_type": "display_data"
    },
    {
     "data": {
      "application/javascript": [
       "(function(root) {\n",
       "  function embed_document(root) {\n",
       "  const docs_json = {\"385b0a1e-3b3d-4c13-8ad8-d9b45458184e\":{\"version\":\"3.2.2\",\"title\":\"Bokeh Application\",\"roots\":[{\"type\":\"object\",\"name\":\"Figure\",\"id\":\"p1123\",\"attributes\":{\"width\":900,\"height\":500,\"x_range\":{\"type\":\"object\",\"name\":\"Range1d\",\"id\":\"p1133\",\"attributes\":{\"end\":40.0}},\"y_range\":{\"type\":\"object\",\"name\":\"Range1d\",\"id\":\"p1134\",\"attributes\":{\"end\":550.0}},\"x_scale\":{\"type\":\"object\",\"name\":\"LinearScale\",\"id\":\"p1135\"},\"y_scale\":{\"type\":\"object\",\"name\":\"LinearScale\",\"id\":\"p1136\"},\"title\":{\"type\":\"object\",\"name\":\"Title\",\"id\":\"p1126\",\"attributes\":{\"text\":\"R2_13-22-20\"}},\"renderers\":[{\"type\":\"object\",\"name\":\"GlyphRenderer\",\"id\":\"p1160\",\"attributes\":{\"data_source\":{\"type\":\"object\",\"name\":\"ColumnDataSource\",\"id\":\"p1154\",\"attributes\":{\"selected\":{\"type\":\"object\",\"name\":\"Selection\",\"id\":\"p1155\",\"attributes\":{\"indices\":[],\"line_indices\":[]}},\"selection_policy\":{\"type\":\"object\",\"name\":\"UnionRenderers\",\"id\":\"p1156\"},\"data\":{\"type\":\"map\",\"entries\":[[\"x\",{\"type\":\"ndarray\",\"array\":{\"type\":\"bytes\",\"data\":\"AAAAAAAAAAAAAAAAmpnJPwAAAACamdk/AAAAADMz4z8AAACAmZnpPwAAAAAAAPA/AAAAQDMz8z8AAACAZmb2PwAAAICZmfk/AAAAwMzM/D8AAAAAAAAAQAAAAKCZmQFAAAAAQDMzA0AAAADAzMwEQAAAAGBmZgZAAAAAAAAACEAAAACgmZkJQAAAAEAzMwtAAAAAwMzMDEAAAABgZmYOQAAAAAAAABBAAAAA0MzMEEAAAACgmZkRQAAAAGBmZhJAAAAAMDMzE0AAAAAAAAAUQAAAANDMzBRAAAAAoJmZFUAAAABgZmYWQAAAADAzMxdAAAAAAAAAGEAAAADQzMwYQAAAAKCZmRlAAAAAYGZmGkAAAAAwMzMbQAAAAAAAABxAAAAA0MzMHEAAAACgmZkdQAAAAGBmZh5AAAAAMDMzH0AAAAAAAAAgQAAAAGhmZiBAAAAA0MzMIEAAAAAwMzMhQAAAAJiZmSFAAAAAAAAAIkAAAABoZmYiQAAAANDMzCJAAAAAMDMzI0AAAACYmZkjQAAAAAAAACRAAAAAaGZmJEAAAADQzMwkQAAAADAzMyVAAAAAmJmZJUAAAAAAAAAmQAAAAGhmZiZAAAAA0MzMJkAAAAAwMzMnQAAAAJiZmSdAAAAAAAAAKEAAAABoZmYoQAAAANDMzChAAAAAMDMzKUAAAACYmZkpQAAAAAAAACpAAAAAaGZmKkAAAADQzMwqQAAAADAzMytAAAAAmJmZK0AAAAAAAAAsQAAAAGhmZixAAAAA0MzMLEAAAAAwMzMtQAAAAJiZmS1AAAAAAAAALkAAAABoZmYuQAAAANDMzC5AAAAAMDMzL0AAAACYmZkvQAAAAAAAADBAAAAANDMzMEAAAABoZmYwQAAAAJiZmTBAAAAAzMzMMEAAAAAAAAAxQAAAADQzMzFAAAAAaGZmMUAAAACYmZkxQAAAAMzMzDFAAAAAAAAAMkAAAAA0MzMyQAAAAGhmZjJAAAAAmJmZMkAAAADMzMwyQAAAAAAAADNAAAAANDMzM0AAAABoZmYzQAAAAJiZmTNAAAAAzMzMM0AAAAAAAAA0QAAAADQzMzRAAAAAaGZmNEAAAACYmZk0QAAAAMzMzDRAAAAAAAAANUAAAAA0MzM1QAAAAGhmZjVAAAAAmJmZNUAAAADMzMw1QAAAAAAAADZAAAAANDMzNkAAAABoZmY2QAAAAJiZmTZAAAAAzMzMNkAAAAAAAAA3QAAAADQzMzdAAAAAaGZmN0AAAACYmZk3QAAAAMzMzDdAAAAAAAAAOEAAAAA0MzM4QAAAAGhmZjhAAAAAmJmZOEAAAADMzMw4QAAAAAAAADlAAAAANDMzOUAAAABoZmY5QA==\"},\"shape\":[128],\"dtype\":\"float64\",\"order\":\"little\"}],[\"y\",{\"type\":\"ndarray\",\"array\":{\"type\":\"bytes\",\"data\":\"OIlBYOXQDkCXbhKDwMobQJqZmZmZmSVAxSCwcmiRMUCLbOf7qXE4QF66SQwCq0BAdZMYBFaOREDeJAaBlUNIQBSuR+F6FExAXI/C9SgcUEAtsp3vp+ZRQLkehetR2FNAF9nO91PjVUAxCKwcWoRXQCuHFtnON1lAFK5H4Xr0WkAGgZVDi6xcQDIIrBxaRF5AexSuR+EKYEDVeOkmMfhgQEW28/3U2GFAvHSTGAS2YkA5tMh2vo9jQL+fGi/dZGRATDeJQWA1ZUDhehSuRwFmQHe+nxovzWZAFK5H4XqUZ0CwcmiR7VxoQFtkO99PHWlABoGVQ4vcaUDNzMzMzIxqQJHtfD81PmtAW2Q730/ta0AlBoGVQ5tsQOSlm8QgUG1Ar0fhehT+bUCpxks3iZFuQI6XbhKDMG9AdpMYBFbOb0Aw3SQGgTVwQCUGgZVDg3BAKVyPwvXIcEAlBoGVQxNxQKRwPQrXW3FAnMQgsHKocUAL16NwPfpxQIPAyqFFRnJAgZVDi2yPckCF61G4HtVyQAisHFpkG3NAEVg5tMhec0AX2c73U6NzQJzEILBy6HNAs53vp8YjdEBV46WbxFh0QOomMQislHRAeekmMQjUdEAOLbKd7w91QCGwcmiRTXVAtMh2vp+KdUDRItv5fsJ1QHnpJjEI9HVAmpmZmZkpdkDVeOkmMVB2QBSuR+F6dHZAzczMzMycdkCPwvUoXL92QMUgsHJo6XZAYxBYObQgd0B7FK5H4Vp3QKabxCCwindA1XjpJjG4d0AEVg4tsuV3QDDdJAaBFXhA5/up8dI9eEAnMQisHGJ4QGMQWDm0iHhAokW28/2seEBcj8L1KNR4QKJFtvP99HhA5tAi2/kWeUC0yHa+nzJ5QIGVQ4tsT3lATmIQWDlseUCXbhKDwIp5QN4kBoGVq3lAqvHSTWLIeUCF61G4Ht15QFyPwvUo9HlAl24Sg8AaekDwp8ZLNzF6QE5iEFg5RHpAsHJoke1UekCOl24Sg2h6QObQItv5fnpARIts5/uRekCcxCCwcqh6QH9qvHSTuHpA30+Nl27KekAw3SQGgeV6QHnpJjEIBHtASOF6FK4fe0Aj2/l+ajR7QIGVQ4tsR3tA2/l+arxce0C0yHa+n3J7QKAaL90kfntADi2yne+He0Dy0k1iEJh7QFCNl24Sq3tAMQisHFq8e0AZBFYOLcp7QH9qvHST2HtAW2Q730/te0A830+Nl/57QCUGgZVDC3xAiUFg5dAafED0/dR46SZ8QObQItv5LnxAXI/C9Sg0fEBSuB6F6zl8QFCNl24SO3xAWDm0yHY2fEDhehSuRzF8QGdmZmZmLnxA7FG4HoUrfED0/dR46SZ8QA==\"},\"shape\":[128],\"dtype\":\"float64\",\"order\":\"little\"}]]}}},\"view\":{\"type\":\"object\",\"name\":\"CDSView\",\"id\":\"p1161\",\"attributes\":{\"filter\":{\"type\":\"object\",\"name\":\"AllIndices\",\"id\":\"p1162\"}}},\"glyph\":{\"type\":\"object\",\"name\":\"Line\",\"id\":\"p1157\",\"attributes\":{\"x\":{\"type\":\"field\",\"field\":\"x\"},\"y\":{\"type\":\"field\",\"field\":\"y\"},\"line_color\":\"blue\",\"line_width\":2}},\"nonselection_glyph\":{\"type\":\"object\",\"name\":\"Line\",\"id\":\"p1158\",\"attributes\":{\"x\":{\"type\":\"field\",\"field\":\"x\"},\"y\":{\"type\":\"field\",\"field\":\"y\"},\"line_color\":\"blue\",\"line_alpha\":0.1,\"line_width\":2}},\"muted_glyph\":{\"type\":\"object\",\"name\":\"Line\",\"id\":\"p1159\",\"attributes\":{\"x\":{\"type\":\"field\",\"field\":\"x\"},\"y\":{\"type\":\"field\",\"field\":\"y\"},\"line_color\":\"blue\",\"line_alpha\":0.2,\"line_width\":2}}}},{\"type\":\"object\",\"name\":\"GlyphRenderer\",\"id\":\"p1171\",\"attributes\":{\"data_source\":{\"type\":\"object\",\"name\":\"ColumnDataSource\",\"id\":\"p1165\",\"attributes\":{\"selected\":{\"type\":\"object\",\"name\":\"Selection\",\"id\":\"p1166\",\"attributes\":{\"indices\":[],\"line_indices\":[]}},\"selection_policy\":{\"type\":\"object\",\"name\":\"UnionRenderers\",\"id\":\"p1167\"},\"data\":{\"type\":\"map\",\"entries\":[[\"x0\",[22.40000009536743]],[\"y0\",[0.0]],[\"x1\",[22.40000009536743]],[\"y1\",[447.534]]]}}},\"view\":{\"type\":\"object\",\"name\":\"CDSView\",\"id\":\"p1172\",\"attributes\":{\"filter\":{\"type\":\"object\",\"name\":\"AllIndices\",\"id\":\"p1173\"}}},\"glyph\":{\"type\":\"object\",\"name\":\"Segment\",\"id\":\"p1168\",\"attributes\":{\"x0\":{\"type\":\"field\",\"field\":\"x0\"},\"y0\":{\"type\":\"field\",\"field\":\"y0\"},\"x1\":{\"type\":\"field\",\"field\":\"x1\"},\"y1\":{\"type\":\"field\",\"field\":\"y1\"},\"line_color\":{\"type\":\"value\",\"value\":\"green\"},\"line_width\":{\"type\":\"value\",\"value\":3}}},\"nonselection_glyph\":{\"type\":\"object\",\"name\":\"Segment\",\"id\":\"p1169\",\"attributes\":{\"x0\":{\"type\":\"field\",\"field\":\"x0\"},\"y0\":{\"type\":\"field\",\"field\":\"y0\"},\"x1\":{\"type\":\"field\",\"field\":\"x1\"},\"y1\":{\"type\":\"field\",\"field\":\"y1\"},\"line_color\":{\"type\":\"value\",\"value\":\"green\"},\"line_alpha\":{\"type\":\"value\",\"value\":0.1},\"line_width\":{\"type\":\"value\",\"value\":3}}},\"muted_glyph\":{\"type\":\"object\",\"name\":\"Segment\",\"id\":\"p1170\",\"attributes\":{\"x0\":{\"type\":\"field\",\"field\":\"x0\"},\"y0\":{\"type\":\"field\",\"field\":\"y0\"},\"x1\":{\"type\":\"field\",\"field\":\"x1\"},\"y1\":{\"type\":\"field\",\"field\":\"y1\"},\"line_color\":{\"type\":\"value\",\"value\":\"green\"},\"line_alpha\":{\"type\":\"value\",\"value\":0.2},\"line_width\":{\"type\":\"value\",\"value\":3}}}}},{\"type\":\"object\",\"name\":\"GlyphRenderer\",\"id\":\"p1180\",\"attributes\":{\"data_source\":{\"type\":\"object\",\"name\":\"ColumnDataSource\",\"id\":\"p1174\",\"attributes\":{\"selected\":{\"type\":\"object\",\"name\":\"Selection\",\"id\":\"p1175\",\"attributes\":{\"indices\":[],\"line_indices\":[]}},\"selection_policy\":{\"type\":\"object\",\"name\":\"UnionRenderers\",\"id\":\"p1176\"},\"data\":{\"type\":\"map\",\"entries\":[[\"x0\",[23.90000009536743]],[\"y0\",[0.0]],[\"x1\",[23.90000009536743]],[\"y1\",[447.534]]]}}},\"view\":{\"type\":\"object\",\"name\":\"CDSView\",\"id\":\"p1181\",\"attributes\":{\"filter\":{\"type\":\"object\",\"name\":\"AllIndices\",\"id\":\"p1182\"}}},\"glyph\":{\"type\":\"object\",\"name\":\"Segment\",\"id\":\"p1177\",\"attributes\":{\"x0\":{\"type\":\"field\",\"field\":\"x0\"},\"y0\":{\"type\":\"field\",\"field\":\"y0\"},\"x1\":{\"type\":\"field\",\"field\":\"x1\"},\"y1\":{\"type\":\"field\",\"field\":\"y1\"},\"line_color\":{\"type\":\"value\",\"value\":\"darkseagreen\"}}},\"nonselection_glyph\":{\"type\":\"object\",\"name\":\"Segment\",\"id\":\"p1178\",\"attributes\":{\"x0\":{\"type\":\"field\",\"field\":\"x0\"},\"y0\":{\"type\":\"field\",\"field\":\"y0\"},\"x1\":{\"type\":\"field\",\"field\":\"x1\"},\"y1\":{\"type\":\"field\",\"field\":\"y1\"},\"line_color\":{\"type\":\"value\",\"value\":\"darkseagreen\"},\"line_alpha\":{\"type\":\"value\",\"value\":0.1}}},\"muted_glyph\":{\"type\":\"object\",\"name\":\"Segment\",\"id\":\"p1179\",\"attributes\":{\"x0\":{\"type\":\"field\",\"field\":\"x0\"},\"y0\":{\"type\":\"field\",\"field\":\"y0\"},\"x1\":{\"type\":\"field\",\"field\":\"x1\"},\"y1\":{\"type\":\"field\",\"field\":\"y1\"},\"line_color\":{\"type\":\"value\",\"value\":\"darkseagreen\"},\"line_alpha\":{\"type\":\"value\",\"value\":0.2}}}}},{\"type\":\"object\",\"name\":\"GlyphRenderer\",\"id\":\"p1189\",\"attributes\":{\"data_source\":{\"type\":\"object\",\"name\":\"ColumnDataSource\",\"id\":\"p1183\",\"attributes\":{\"selected\":{\"type\":\"object\",\"name\":\"Selection\",\"id\":\"p1184\",\"attributes\":{\"indices\":[],\"line_indices\":[]}},\"selection_policy\":{\"type\":\"object\",\"name\":\"UnionRenderers\",\"id\":\"p1185\"},\"data\":{\"type\":\"map\",\"entries\":[[\"x0\",[20.90000009536743]],[\"y0\",[0.0]],[\"x1\",[20.90000009536743]],[\"y1\",[447.534]]]}}},\"view\":{\"type\":\"object\",\"name\":\"CDSView\",\"id\":\"p1190\",\"attributes\":{\"filter\":{\"type\":\"object\",\"name\":\"AllIndices\",\"id\":\"p1191\"}}},\"glyph\":{\"type\":\"object\",\"name\":\"Segment\",\"id\":\"p1186\",\"attributes\":{\"x0\":{\"type\":\"field\",\"field\":\"x0\"},\"y0\":{\"type\":\"field\",\"field\":\"y0\"},\"x1\":{\"type\":\"field\",\"field\":\"x1\"},\"y1\":{\"type\":\"field\",\"field\":\"y1\"},\"line_color\":{\"type\":\"value\",\"value\":\"darkseagreen\"}}},\"nonselection_glyph\":{\"type\":\"object\",\"name\":\"Segment\",\"id\":\"p1187\",\"attributes\":{\"x0\":{\"type\":\"field\",\"field\":\"x0\"},\"y0\":{\"type\":\"field\",\"field\":\"y0\"},\"x1\":{\"type\":\"field\",\"field\":\"x1\"},\"y1\":{\"type\":\"field\",\"field\":\"y1\"},\"line_color\":{\"type\":\"value\",\"value\":\"darkseagreen\"},\"line_alpha\":{\"type\":\"value\",\"value\":0.1}}},\"muted_glyph\":{\"type\":\"object\",\"name\":\"Segment\",\"id\":\"p1188\",\"attributes\":{\"x0\":{\"type\":\"field\",\"field\":\"x0\"},\"y0\":{\"type\":\"field\",\"field\":\"y0\"},\"x1\":{\"type\":\"field\",\"field\":\"x1\"},\"y1\":{\"type\":\"field\",\"field\":\"y1\"},\"line_color\":{\"type\":\"value\",\"value\":\"darkseagreen\"},\"line_alpha\":{\"type\":\"value\",\"value\":0.2}}}}},{\"type\":\"object\",\"name\":\"GlyphRenderer\",\"id\":\"p1198\",\"attributes\":{\"data_source\":{\"type\":\"object\",\"name\":\"ColumnDataSource\",\"id\":\"p1192\",\"attributes\":{\"selected\":{\"type\":\"object\",\"name\":\"Selection\",\"id\":\"p1193\",\"attributes\":{\"indices\":[],\"line_indices\":[]}},\"selection_policy\":{\"type\":\"object\",\"name\":\"UnionRenderers\",\"id\":\"p1194\"},\"data\":{\"type\":\"map\",\"entries\":[[\"x\",[22.40000009536743]],[\"y\",[447.534]],[\"size\",[20]]]}}},\"view\":{\"type\":\"object\",\"name\":\"CDSView\",\"id\":\"p1199\",\"attributes\":{\"filter\":{\"type\":\"object\",\"name\":\"AllIndices\",\"id\":\"p1200\"}}},\"glyph\":{\"type\":\"object\",\"name\":\"Scatter\",\"id\":\"p1195\",\"attributes\":{\"x\":{\"type\":\"field\",\"field\":\"x\"},\"y\":{\"type\":\"field\",\"field\":\"y\"},\"size\":{\"type\":\"field\",\"field\":\"size\"},\"line_color\":{\"type\":\"value\",\"value\":\"green\"},\"line_width\":{\"type\":\"value\",\"value\":3},\"fill_color\":{\"type\":\"value\",\"value\":null},\"marker\":{\"type\":\"value\",\"value\":\"square_cross\"}}},\"nonselection_glyph\":{\"type\":\"object\",\"name\":\"Scatter\",\"id\":\"p1196\",\"attributes\":{\"x\":{\"type\":\"field\",\"field\":\"x\"},\"y\":{\"type\":\"field\",\"field\":\"y\"},\"size\":{\"type\":\"field\",\"field\":\"size\"},\"line_color\":{\"type\":\"value\",\"value\":\"green\"},\"line_alpha\":{\"type\":\"value\",\"value\":0.1},\"line_width\":{\"type\":\"value\",\"value\":3},\"fill_color\":{\"type\":\"value\",\"value\":null},\"fill_alpha\":{\"type\":\"value\",\"value\":0.1},\"hatch_alpha\":{\"type\":\"value\",\"value\":0.1},\"marker\":{\"type\":\"value\",\"value\":\"square_cross\"}}},\"muted_glyph\":{\"type\":\"object\",\"name\":\"Scatter\",\"id\":\"p1197\",\"attributes\":{\"x\":{\"type\":\"field\",\"field\":\"x\"},\"y\":{\"type\":\"field\",\"field\":\"y\"},\"size\":{\"type\":\"field\",\"field\":\"size\"},\"line_color\":{\"type\":\"value\",\"value\":\"green\"},\"line_alpha\":{\"type\":\"value\",\"value\":0.2},\"line_width\":{\"type\":\"value\",\"value\":3},\"fill_color\":{\"type\":\"value\",\"value\":null},\"fill_alpha\":{\"type\":\"value\",\"value\":0.2},\"hatch_alpha\":{\"type\":\"value\",\"value\":0.2},\"marker\":{\"type\":\"value\",\"value\":\"square_cross\"}}}}}],\"toolbar\":{\"type\":\"object\",\"name\":\"Toolbar\",\"id\":\"p1132\",\"attributes\":{\"tools\":[{\"type\":\"object\",\"name\":\"PanTool\",\"id\":\"p1147\"},{\"type\":\"object\",\"name\":\"WheelZoomTool\",\"id\":\"p1148\"},{\"type\":\"object\",\"name\":\"BoxZoomTool\",\"id\":\"p1149\",\"attributes\":{\"overlay\":{\"type\":\"object\",\"name\":\"BoxAnnotation\",\"id\":\"p1150\",\"attributes\":{\"syncable\":false,\"level\":\"overlay\",\"visible\":false,\"left_units\":\"canvas\",\"right_units\":\"canvas\",\"bottom_units\":\"canvas\",\"top_units\":\"canvas\",\"line_color\":\"black\",\"line_alpha\":1.0,\"line_width\":2,\"line_dash\":[4,4],\"fill_color\":\"lightgrey\",\"fill_alpha\":0.5}}}},{\"type\":\"object\",\"name\":\"SaveTool\",\"id\":\"p1151\"},{\"type\":\"object\",\"name\":\"ResetTool\",\"id\":\"p1152\"},{\"type\":\"object\",\"name\":\"HelpTool\",\"id\":\"p1153\"}]}},\"left\":[{\"type\":\"object\",\"name\":\"LinearAxis\",\"id\":\"p1142\",\"attributes\":{\"ticker\":{\"type\":\"object\",\"name\":\"BasicTicker\",\"id\":\"p1143\",\"attributes\":{\"mantissas\":[1,2,5]}},\"formatter\":{\"type\":\"object\",\"name\":\"BasicTickFormatter\",\"id\":\"p1144\"},\"axis_label\":\"km/h\",\"major_label_policy\":{\"type\":\"object\",\"name\":\"AllLabels\",\"id\":\"p1145\"}}}],\"below\":[{\"type\":\"object\",\"name\":\"LinearAxis\",\"id\":\"p1137\",\"attributes\":{\"ticker\":{\"type\":\"object\",\"name\":\"BasicTicker\",\"id\":\"p1138\",\"attributes\":{\"mantissas\":[1,2,5]}},\"formatter\":{\"type\":\"object\",\"name\":\"BasicTickFormatter\",\"id\":\"p1139\"},\"axis_label\":\"seconds from exit\",\"major_label_policy\":{\"type\":\"object\",\"name\":\"AllLabels\",\"id\":\"p1140\"}}}],\"center\":[{\"type\":\"object\",\"name\":\"Grid\",\"id\":\"p1141\",\"attributes\":{\"axis\":{\"id\":\"p1137\"}}},{\"type\":\"object\",\"name\":\"Grid\",\"id\":\"p1146\",\"attributes\":{\"dimension\":1,\"axis\":{\"id\":\"p1142\"}}},{\"type\":\"object\",\"name\":\"Legend\",\"id\":\"p1163\",\"attributes\":{\"items\":[{\"type\":\"object\",\"name\":\"LegendItem\",\"id\":\"p1164\",\"attributes\":{\"label\":{\"type\":\"value\",\"value\":\"speed\"},\"renderers\":[{\"id\":\"p1160\"}]}}]}}]}}]}};\n",
       "  const render_items = [{\"docid\":\"385b0a1e-3b3d-4c13-8ad8-d9b45458184e\",\"roots\":{\"p1123\":\"ec33d68b-afa2-4c0b-bb72-4d98d1b9b33a\"},\"root_ids\":[\"p1123\"]}];\n",
       "  root.Bokeh.embed.embed_items_notebook(docs_json, render_items);\n",
       "  }\n",
       "  if (root.Bokeh !== undefined) {\n",
       "    embed_document(root);\n",
       "  } else {\n",
       "    let attempts = 0;\n",
       "    const timer = setInterval(function(root) {\n",
       "      if (root.Bokeh !== undefined) {\n",
       "        clearInterval(timer);\n",
       "        embed_document(root);\n",
       "      } else {\n",
       "        attempts++;\n",
       "        if (attempts > 100) {\n",
       "          clearInterval(timer);\n",
       "          console.log(\"Bokeh: ERROR: Unable to run BokehJS code because BokehJS library is missing\");\n",
       "        }\n",
       "      }\n",
       "    }, 10, root)\n",
       "  }\n",
       "})(window);"
      ],
      "application/vnd.bokehjs_exec.v0+json": ""
     },
     "metadata": {
      "application/vnd.bokehjs_exec.v0+json": {
       "id": "p1123"
      }
     },
     "output_type": "display_data"
    },
    {
     "data": {
      "application/vnd.jupyter.widget-view+json": {
       "model_id": "0ff0260f5a6a48a9a4a284c7fb7c3e08",
       "version_major": 2,
       "version_minor": 0
      },
      "text/plain": [
       "HTML(value='<hr><h1><span style=\"color: #0f0\">R3_14-29-41 jump - 🟢 valid</span></h1>')"
      ]
     },
     "metadata": {},
     "output_type": "display_data"
    },
    {
     "data": {
      "application/vnd.jupyter.widget-view+json": {
       "model_id": "300c04a3b11b459ea18910e64e6ee5a0",
       "version_major": 2,
       "version_minor": 0
      },
      "text/plain": [
       "HTML(value='<h3>Max speed = 453; exit at 4215 m (13831 ft), end scoring window at 1959 m (6429 ft)</h3>')"
      ]
     },
     "metadata": {},
     "output_type": "display_data"
    },
    {
     "data": {
      "text/html": [
       "\n",
       "  <div id=\"a770b9e4-4649-4f28-a656-04076f35b236\" data-root-id=\"p1213\" style=\"display: contents;\"></div>\n"
      ]
     },
     "metadata": {},
     "output_type": "display_data"
    },
    {
     "data": {
      "application/javascript": [
       "(function(root) {\n",
       "  function embed_document(root) {\n",
       "  const docs_json = {\"c57326c3-be1b-45fc-bd11-f7af7b37b4ce\":{\"version\":\"3.2.2\",\"title\":\"Bokeh Application\",\"roots\":[{\"type\":\"object\",\"name\":\"Figure\",\"id\":\"p1213\",\"attributes\":{\"width\":900,\"height\":500,\"x_range\":{\"type\":\"object\",\"name\":\"Range1d\",\"id\":\"p1223\",\"attributes\":{\"end\":40.0}},\"y_range\":{\"type\":\"object\",\"name\":\"Range1d\",\"id\":\"p1224\",\"attributes\":{\"end\":550.0}},\"x_scale\":{\"type\":\"object\",\"name\":\"LinearScale\",\"id\":\"p1225\"},\"y_scale\":{\"type\":\"object\",\"name\":\"LinearScale\",\"id\":\"p1226\"},\"title\":{\"type\":\"object\",\"name\":\"Title\",\"id\":\"p1216\",\"attributes\":{\"text\":\"R3_14-29-41\"}},\"renderers\":[{\"type\":\"object\",\"name\":\"GlyphRenderer\",\"id\":\"p1250\",\"attributes\":{\"data_source\":{\"type\":\"object\",\"name\":\"ColumnDataSource\",\"id\":\"p1244\",\"attributes\":{\"selected\":{\"type\":\"object\",\"name\":\"Selection\",\"id\":\"p1245\",\"attributes\":{\"indices\":[],\"line_indices\":[]}},\"selection_policy\":{\"type\":\"object\",\"name\":\"UnionRenderers\",\"id\":\"p1246\"},\"data\":{\"type\":\"map\",\"entries\":[[\"x\",{\"type\":\"ndarray\",\"array\":{\"type\":\"bytes\",\"data\":\"AAAAAAAAAAAAAAAAmpnJPwAAAACZmdk/AAAAADMz4z8AAACAmZnpPwAAAAAAAPA/AAAAQDMz8z8AAABAZmb2PwAAAICZmfk/AAAAwMzM/D8AAAAAAAAAQAAAAKCZmQFAAAAAIDMzA0AAAADAzMwEQAAAAGBmZgZAAAAAAAAACEAAAACgmZkJQAAAACAzMwtAAAAAwMzMDEAAAABgZmYOQAAAAAAAABBAAAAA0MzMEEAAAACQmZkRQAAAAGBmZhJAAAAAMDMzE0AAAAAAAAAUQAAAANDMzBRAAAAAkJmZFUAAAABgZmYWQAAAADAzMxdAAAAAAAAAGEAAAADQzMwYQAAAAJCZmRlAAAAAYGZmGkAAAAAwMzMbQAAAAAAAABxAAAAA0MzMHEAAAACQmZkdQAAAAGBmZh5AAAAAMDMzH0AAAAAAAAAgQAAAAGhmZiBAAAAAyMzMIEAAAAAwMzMhQAAAAJiZmSFAAAAAAAAAIkAAAABoZmYiQAAAAMjMzCJAAAAAMDMzI0AAAACYmZkjQAAAAAAAACRAAAAAaGZmJEAAAADIzMwkQAAAADAzMyVAAAAAmJmZJUAAAAAAAAAmQAAAAGhmZiZAAAAAyMzMJkAAAAAwMzMnQAAAAJiZmSdAAAAAAAAAKEAAAABoZmYoQAAAAMjMzChAAAAAMDMzKUAAAACYmZkpQAAAAAAAACpAAAAAaGZmKkAAAADIzMwqQAAAADAzMytAAAAAmJmZK0AAAAAAAAAsQAAAAGhmZixAAAAAyMzMLEAAAAAwMzMtQAAAAJiZmS1AAAAAAAAALkAAAABoZmYuQAAAAMjMzC5AAAAAMDMzL0AAAACYmZkvQAAAAAAAADBAAAAANDMzMEAAAABkZmYwQAAAAJiZmTBAAAAAzMzMMEAAAAAAAAAxQAAAADQzMzFAAAAAZGZmMUAAAACYmZkxQAAAAMzMzDFAAAAAAAAAMkAAAAA0MzMyQAAAAGRmZjJAAAAAmJmZMkAAAADMzMwyQAAAAAAAADNAAAAANDMzM0AAAABkZmYzQAAAAJiZmTNAAAAAzMzMM0AAAAAAAAA0QAAAADQzMzRAAAAAZGZmNEAAAACYmZk0QAAAAMzMzDRAAAAAAAAANUAAAAA0MzM1QAAAAGRmZjVAAAAAmJmZNUAAAADMzMw1QAAAAAAAADZAAAAANDMzNkAAAABkZmY2QAAAAJiZmTZAAAAAzMzMNkAAAAAAAAA3QAAAADQzMzdAAAAAZGZmN0AAAACYmZk3QAAAAMzMzDdAAAAAAAAAOEAAAAA0MzM4QAAAAGRmZjhAAAAAmJmZOEAAAADMzMw4QAAAAAAAADlAAAAANDMzOUAAAABkZmY5QA==\"},\"shape\":[128],\"dtype\":\"float64\",\"order\":\"little\"}],[\"y\",{\"type\":\"ndarray\",\"array\":{\"type\":\"bytes\",\"data\":\"C9ejcD0KB0Atsp3vp8YgQPLSTWIQWClAsHJoke18MEBvEoPAyiE1QB1aZDvfzzlA5KWbxCDwQEBcj8L1KNxGQGMQWDm0yEpAL90kBoHVTkB3vp8aL71RQOomMQisvFNAlkOLbOebVUBKDAIrh3ZXQPYoXI/CVVlAy6FFtvMdW0CwcmiR7dxcQIlBYOXQol5AMN0kBoE1YEDByqFFtgNhQFCNl24S02FA1XjpJjGoYkBeukkMAntjQPyp8dJNQmRAj8L1KFwPZUAZBFYOLeJlQKrx0k1isGZAYeXQIttpZ0D8qfHSTTJoQKJFtvP99GhATDeJQWC1aUAEVg4tsm1qQML1KFyPImtAeekmMQjca0A/NV66SYxsQAwCK4cWOW1A6Pup8dLdbUCsHFpkO49uQH9qvHSTOG9AX7pJDALbb0ApXI/C9ThwQB1aZDvfh3BAj8L1KFzXcEACK4cW2SZxQHsUrkfhcnFA9P3UeOm+cUDufD81XgpyQOF6FK5HWXJA2/l+arykckBWDi2yne9yQFXjpZvEOHNA1XjpJjGAc0DYo3A9CsdzQFtkO99PDXRAW2Q7309VdEBh5dAi25l0QGQ730+N33RA9ihcj8IddUCBlUOLbF91QBFYObTInnVAIbByaJHddUCuR+F6FB52QEW28/3UWHZA2KNwPQqXdkDwp8ZLN9F2QI6XbhKDCHdAJQaBlUNDd0C/nxov3Xx3QFtkO99PtXdAfT81Xrrpd0AlBoGVQxt4QNEi2/l+SnhAd76fGi99eEC0yHa+n6J4QHsUrkfhwnhAVeOlm8TYeEAj2/l+avR4QOf7qfHSFXlAqMZLN4k5eUDm0CLb+V55QCUGgZVDg3lA4XoUrkepeUCgGi/dJM55QG3n+6nx6nlAtvP91HgJekD4U+Olmyx6QLkehetRUHpAgZVDi2xvekDLoUW28416QBfZzvdTq3pAdZMYBFa+ekDLoUW289V6QJ3vp8ZL73pAZ2ZmZmYOe0C7SQwCKyd7QIXrUbgeRXtAZ2ZmZmZWe0BEi2zn+2l7QKJFtvP9fHtA/Knx0k2Se0DLoUW28617QCcxCKwcwntA/tR46SbZe0Bh5dAi2+l7QFtkO99P7XtASOF6FK73e0CuR+F6FAZ8QJzEILByEHxAC9ejcD0afEB1kxgEViZ8QGdmZmZmLnxAXI/C9Sg0fEBQjZduEjt8QEoMAiuHPnxAv58aL91EfEA830+Nl0Z8QKwcWmQ7T3xAoBov3SRWfECgGi/dJFZ8QCuHFtnOT3xAMzMzMzNLfEDByqFFtkN8QMl2vp8aP3xAx0s3iUFAfEA+CtejcEV8QEJg5dAiQ3xASOF6FK4/fEDZzvdT4zV8QA==\"},\"shape\":[128],\"dtype\":\"float64\",\"order\":\"little\"}]]}}},\"view\":{\"type\":\"object\",\"name\":\"CDSView\",\"id\":\"p1251\",\"attributes\":{\"filter\":{\"type\":\"object\",\"name\":\"AllIndices\",\"id\":\"p1252\"}}},\"glyph\":{\"type\":\"object\",\"name\":\"Line\",\"id\":\"p1247\",\"attributes\":{\"x\":{\"type\":\"field\",\"field\":\"x\"},\"y\":{\"type\":\"field\",\"field\":\"y\"},\"line_color\":\"blue\",\"line_width\":2}},\"nonselection_glyph\":{\"type\":\"object\",\"name\":\"Line\",\"id\":\"p1248\",\"attributes\":{\"x\":{\"type\":\"field\",\"field\":\"x\"},\"y\":{\"type\":\"field\",\"field\":\"y\"},\"line_color\":\"blue\",\"line_alpha\":0.1,\"line_width\":2}},\"muted_glyph\":{\"type\":\"object\",\"name\":\"Line\",\"id\":\"p1249\",\"attributes\":{\"x\":{\"type\":\"field\",\"field\":\"x\"},\"y\":{\"type\":\"field\",\"field\":\"y\"},\"line_color\":\"blue\",\"line_alpha\":0.2,\"line_width\":2}}}},{\"type\":\"object\",\"name\":\"GlyphRenderer\",\"id\":\"p1261\",\"attributes\":{\"data_source\":{\"type\":\"object\",\"name\":\"ColumnDataSource\",\"id\":\"p1255\",\"attributes\":{\"selected\":{\"type\":\"object\",\"name\":\"Selection\",\"id\":\"p1256\",\"attributes\":{\"indices\":[],\"line_indices\":[]}},\"selection_policy\":{\"type\":\"object\",\"name\":\"UnionRenderers\",\"id\":\"p1257\"},\"data\":{\"type\":\"map\",\"entries\":[[\"x0\",[22.200000047683716]],[\"y0\",[0.0]],[\"x1\",[22.200000047683716]],[\"y1\",[451.62]]]}}},\"view\":{\"type\":\"object\",\"name\":\"CDSView\",\"id\":\"p1262\",\"attributes\":{\"filter\":{\"type\":\"object\",\"name\":\"AllIndices\",\"id\":\"p1263\"}}},\"glyph\":{\"type\":\"object\",\"name\":\"Segment\",\"id\":\"p1258\",\"attributes\":{\"x0\":{\"type\":\"field\",\"field\":\"x0\"},\"y0\":{\"type\":\"field\",\"field\":\"y0\"},\"x1\":{\"type\":\"field\",\"field\":\"x1\"},\"y1\":{\"type\":\"field\",\"field\":\"y1\"},\"line_color\":{\"type\":\"value\",\"value\":\"green\"},\"line_width\":{\"type\":\"value\",\"value\":3}}},\"nonselection_glyph\":{\"type\":\"object\",\"name\":\"Segment\",\"id\":\"p1259\",\"attributes\":{\"x0\":{\"type\":\"field\",\"field\":\"x0\"},\"y0\":{\"type\":\"field\",\"field\":\"y0\"},\"x1\":{\"type\":\"field\",\"field\":\"x1\"},\"y1\":{\"type\":\"field\",\"field\":\"y1\"},\"line_color\":{\"type\":\"value\",\"value\":\"green\"},\"line_alpha\":{\"type\":\"value\",\"value\":0.1},\"line_width\":{\"type\":\"value\",\"value\":3}}},\"muted_glyph\":{\"type\":\"object\",\"name\":\"Segment\",\"id\":\"p1260\",\"attributes\":{\"x0\":{\"type\":\"field\",\"field\":\"x0\"},\"y0\":{\"type\":\"field\",\"field\":\"y0\"},\"x1\":{\"type\":\"field\",\"field\":\"x1\"},\"y1\":{\"type\":\"field\",\"field\":\"y1\"},\"line_color\":{\"type\":\"value\",\"value\":\"green\"},\"line_alpha\":{\"type\":\"value\",\"value\":0.2},\"line_width\":{\"type\":\"value\",\"value\":3}}}}},{\"type\":\"object\",\"name\":\"GlyphRenderer\",\"id\":\"p1270\",\"attributes\":{\"data_source\":{\"type\":\"object\",\"name\":\"ColumnDataSource\",\"id\":\"p1264\",\"attributes\":{\"selected\":{\"type\":\"object\",\"name\":\"Selection\",\"id\":\"p1265\",\"attributes\":{\"indices\":[],\"line_indices\":[]}},\"selection_policy\":{\"type\":\"object\",\"name\":\"UnionRenderers\",\"id\":\"p1266\"},\"data\":{\"type\":\"map\",\"entries\":[[\"x0\",[23.700000047683716]],[\"y0\",[0.0]],[\"x1\",[23.700000047683716]],[\"y1\",[451.62]]]}}},\"view\":{\"type\":\"object\",\"name\":\"CDSView\",\"id\":\"p1271\",\"attributes\":{\"filter\":{\"type\":\"object\",\"name\":\"AllIndices\",\"id\":\"p1272\"}}},\"glyph\":{\"type\":\"object\",\"name\":\"Segment\",\"id\":\"p1267\",\"attributes\":{\"x0\":{\"type\":\"field\",\"field\":\"x0\"},\"y0\":{\"type\":\"field\",\"field\":\"y0\"},\"x1\":{\"type\":\"field\",\"field\":\"x1\"},\"y1\":{\"type\":\"field\",\"field\":\"y1\"},\"line_color\":{\"type\":\"value\",\"value\":\"darkseagreen\"}}},\"nonselection_glyph\":{\"type\":\"object\",\"name\":\"Segment\",\"id\":\"p1268\",\"attributes\":{\"x0\":{\"type\":\"field\",\"field\":\"x0\"},\"y0\":{\"type\":\"field\",\"field\":\"y0\"},\"x1\":{\"type\":\"field\",\"field\":\"x1\"},\"y1\":{\"type\":\"field\",\"field\":\"y1\"},\"line_color\":{\"type\":\"value\",\"value\":\"darkseagreen\"},\"line_alpha\":{\"type\":\"value\",\"value\":0.1}}},\"muted_glyph\":{\"type\":\"object\",\"name\":\"Segment\",\"id\":\"p1269\",\"attributes\":{\"x0\":{\"type\":\"field\",\"field\":\"x0\"},\"y0\":{\"type\":\"field\",\"field\":\"y0\"},\"x1\":{\"type\":\"field\",\"field\":\"x1\"},\"y1\":{\"type\":\"field\",\"field\":\"y1\"},\"line_color\":{\"type\":\"value\",\"value\":\"darkseagreen\"},\"line_alpha\":{\"type\":\"value\",\"value\":0.2}}}}},{\"type\":\"object\",\"name\":\"GlyphRenderer\",\"id\":\"p1279\",\"attributes\":{\"data_source\":{\"type\":\"object\",\"name\":\"ColumnDataSource\",\"id\":\"p1273\",\"attributes\":{\"selected\":{\"type\":\"object\",\"name\":\"Selection\",\"id\":\"p1274\",\"attributes\":{\"indices\":[],\"line_indices\":[]}},\"selection_policy\":{\"type\":\"object\",\"name\":\"UnionRenderers\",\"id\":\"p1275\"},\"data\":{\"type\":\"map\",\"entries\":[[\"x0\",[20.700000047683716]],[\"y0\",[0.0]],[\"x1\",[20.700000047683716]],[\"y1\",[451.62]]]}}},\"view\":{\"type\":\"object\",\"name\":\"CDSView\",\"id\":\"p1280\",\"attributes\":{\"filter\":{\"type\":\"object\",\"name\":\"AllIndices\",\"id\":\"p1281\"}}},\"glyph\":{\"type\":\"object\",\"name\":\"Segment\",\"id\":\"p1276\",\"attributes\":{\"x0\":{\"type\":\"field\",\"field\":\"x0\"},\"y0\":{\"type\":\"field\",\"field\":\"y0\"},\"x1\":{\"type\":\"field\",\"field\":\"x1\"},\"y1\":{\"type\":\"field\",\"field\":\"y1\"},\"line_color\":{\"type\":\"value\",\"value\":\"darkseagreen\"}}},\"nonselection_glyph\":{\"type\":\"object\",\"name\":\"Segment\",\"id\":\"p1277\",\"attributes\":{\"x0\":{\"type\":\"field\",\"field\":\"x0\"},\"y0\":{\"type\":\"field\",\"field\":\"y0\"},\"x1\":{\"type\":\"field\",\"field\":\"x1\"},\"y1\":{\"type\":\"field\",\"field\":\"y1\"},\"line_color\":{\"type\":\"value\",\"value\":\"darkseagreen\"},\"line_alpha\":{\"type\":\"value\",\"value\":0.1}}},\"muted_glyph\":{\"type\":\"object\",\"name\":\"Segment\",\"id\":\"p1278\",\"attributes\":{\"x0\":{\"type\":\"field\",\"field\":\"x0\"},\"y0\":{\"type\":\"field\",\"field\":\"y0\"},\"x1\":{\"type\":\"field\",\"field\":\"x1\"},\"y1\":{\"type\":\"field\",\"field\":\"y1\"},\"line_color\":{\"type\":\"value\",\"value\":\"darkseagreen\"},\"line_alpha\":{\"type\":\"value\",\"value\":0.2}}}}},{\"type\":\"object\",\"name\":\"GlyphRenderer\",\"id\":\"p1288\",\"attributes\":{\"data_source\":{\"type\":\"object\",\"name\":\"ColumnDataSource\",\"id\":\"p1282\",\"attributes\":{\"selected\":{\"type\":\"object\",\"name\":\"Selection\",\"id\":\"p1283\",\"attributes\":{\"indices\":[],\"line_indices\":[]}},\"selection_policy\":{\"type\":\"object\",\"name\":\"UnionRenderers\",\"id\":\"p1284\"},\"data\":{\"type\":\"map\",\"entries\":[[\"x\",[22.200000047683716]],[\"y\",[451.62]],[\"size\",[20]]]}}},\"view\":{\"type\":\"object\",\"name\":\"CDSView\",\"id\":\"p1289\",\"attributes\":{\"filter\":{\"type\":\"object\",\"name\":\"AllIndices\",\"id\":\"p1290\"}}},\"glyph\":{\"type\":\"object\",\"name\":\"Scatter\",\"id\":\"p1285\",\"attributes\":{\"x\":{\"type\":\"field\",\"field\":\"x\"},\"y\":{\"type\":\"field\",\"field\":\"y\"},\"size\":{\"type\":\"field\",\"field\":\"size\"},\"line_color\":{\"type\":\"value\",\"value\":\"green\"},\"line_width\":{\"type\":\"value\",\"value\":3},\"fill_color\":{\"type\":\"value\",\"value\":null},\"marker\":{\"type\":\"value\",\"value\":\"square_cross\"}}},\"nonselection_glyph\":{\"type\":\"object\",\"name\":\"Scatter\",\"id\":\"p1286\",\"attributes\":{\"x\":{\"type\":\"field\",\"field\":\"x\"},\"y\":{\"type\":\"field\",\"field\":\"y\"},\"size\":{\"type\":\"field\",\"field\":\"size\"},\"line_color\":{\"type\":\"value\",\"value\":\"green\"},\"line_alpha\":{\"type\":\"value\",\"value\":0.1},\"line_width\":{\"type\":\"value\",\"value\":3},\"fill_color\":{\"type\":\"value\",\"value\":null},\"fill_alpha\":{\"type\":\"value\",\"value\":0.1},\"hatch_alpha\":{\"type\":\"value\",\"value\":0.1},\"marker\":{\"type\":\"value\",\"value\":\"square_cross\"}}},\"muted_glyph\":{\"type\":\"object\",\"name\":\"Scatter\",\"id\":\"p1287\",\"attributes\":{\"x\":{\"type\":\"field\",\"field\":\"x\"},\"y\":{\"type\":\"field\",\"field\":\"y\"},\"size\":{\"type\":\"field\",\"field\":\"size\"},\"line_color\":{\"type\":\"value\",\"value\":\"green\"},\"line_alpha\":{\"type\":\"value\",\"value\":0.2},\"line_width\":{\"type\":\"value\",\"value\":3},\"fill_color\":{\"type\":\"value\",\"value\":null},\"fill_alpha\":{\"type\":\"value\",\"value\":0.2},\"hatch_alpha\":{\"type\":\"value\",\"value\":0.2},\"marker\":{\"type\":\"value\",\"value\":\"square_cross\"}}}}}],\"toolbar\":{\"type\":\"object\",\"name\":\"Toolbar\",\"id\":\"p1222\",\"attributes\":{\"tools\":[{\"type\":\"object\",\"name\":\"PanTool\",\"id\":\"p1237\"},{\"type\":\"object\",\"name\":\"WheelZoomTool\",\"id\":\"p1238\"},{\"type\":\"object\",\"name\":\"BoxZoomTool\",\"id\":\"p1239\",\"attributes\":{\"overlay\":{\"type\":\"object\",\"name\":\"BoxAnnotation\",\"id\":\"p1240\",\"attributes\":{\"syncable\":false,\"level\":\"overlay\",\"visible\":false,\"left_units\":\"canvas\",\"right_units\":\"canvas\",\"bottom_units\":\"canvas\",\"top_units\":\"canvas\",\"line_color\":\"black\",\"line_alpha\":1.0,\"line_width\":2,\"line_dash\":[4,4],\"fill_color\":\"lightgrey\",\"fill_alpha\":0.5}}}},{\"type\":\"object\",\"name\":\"SaveTool\",\"id\":\"p1241\"},{\"type\":\"object\",\"name\":\"ResetTool\",\"id\":\"p1242\"},{\"type\":\"object\",\"name\":\"HelpTool\",\"id\":\"p1243\"}]}},\"left\":[{\"type\":\"object\",\"name\":\"LinearAxis\",\"id\":\"p1232\",\"attributes\":{\"ticker\":{\"type\":\"object\",\"name\":\"BasicTicker\",\"id\":\"p1233\",\"attributes\":{\"mantissas\":[1,2,5]}},\"formatter\":{\"type\":\"object\",\"name\":\"BasicTickFormatter\",\"id\":\"p1234\"},\"axis_label\":\"km/h\",\"major_label_policy\":{\"type\":\"object\",\"name\":\"AllLabels\",\"id\":\"p1235\"}}}],\"below\":[{\"type\":\"object\",\"name\":\"LinearAxis\",\"id\":\"p1227\",\"attributes\":{\"ticker\":{\"type\":\"object\",\"name\":\"BasicTicker\",\"id\":\"p1228\",\"attributes\":{\"mantissas\":[1,2,5]}},\"formatter\":{\"type\":\"object\",\"name\":\"BasicTickFormatter\",\"id\":\"p1229\"},\"axis_label\":\"seconds from exit\",\"major_label_policy\":{\"type\":\"object\",\"name\":\"AllLabels\",\"id\":\"p1230\"}}}],\"center\":[{\"type\":\"object\",\"name\":\"Grid\",\"id\":\"p1231\",\"attributes\":{\"axis\":{\"id\":\"p1227\"}}},{\"type\":\"object\",\"name\":\"Grid\",\"id\":\"p1236\",\"attributes\":{\"dimension\":1,\"axis\":{\"id\":\"p1232\"}}},{\"type\":\"object\",\"name\":\"Legend\",\"id\":\"p1253\",\"attributes\":{\"items\":[{\"type\":\"object\",\"name\":\"LegendItem\",\"id\":\"p1254\",\"attributes\":{\"label\":{\"type\":\"value\",\"value\":\"speed\"},\"renderers\":[{\"id\":\"p1250\"}]}}]}}]}}]}};\n",
       "  const render_items = [{\"docid\":\"c57326c3-be1b-45fc-bd11-f7af7b37b4ce\",\"roots\":{\"p1213\":\"a770b9e4-4649-4f28-a656-04076f35b236\"},\"root_ids\":[\"p1213\"]}];\n",
       "  root.Bokeh.embed.embed_items_notebook(docs_json, render_items);\n",
       "  }\n",
       "  if (root.Bokeh !== undefined) {\n",
       "    embed_document(root);\n",
       "  } else {\n",
       "    let attempts = 0;\n",
       "    const timer = setInterval(function(root) {\n",
       "      if (root.Bokeh !== undefined) {\n",
       "        clearInterval(timer);\n",
       "        embed_document(root);\n",
       "      } else {\n",
       "        attempts++;\n",
       "        if (attempts > 100) {\n",
       "          clearInterval(timer);\n",
       "          console.log(\"Bokeh: ERROR: Unable to run BokehJS code because BokehJS library is missing\");\n",
       "        }\n",
       "      }\n",
       "    }, 10, root)\n",
       "  }\n",
       "})(window);"
      ],
      "application/vnd.bokehjs_exec.v0+json": ""
     },
     "metadata": {
      "application/vnd.bokehjs_exec.v0+json": {
       "id": "p1213"
      }
     },
     "output_type": "display_data"
    },
    {
     "data": {
      "application/vnd.jupyter.widget-view+json": {
       "model_id": "056a9d6d383148aebed4df93811f1efd",
       "version_major": 2,
       "version_minor": 0
      },
      "text/plain": [
       "HTML(value='<hr><h1><span style=\"color: #0f0\">R4_15-41-08 jump - 🟢 valid</span></h1>')"
      ]
     },
     "metadata": {},
     "output_type": "display_data"
    },
    {
     "data": {
      "application/vnd.jupyter.widget-view+json": {
       "model_id": "56daef9f43e54022a17ac7e7fea475ee",
       "version_major": 2,
       "version_minor": 0
      },
      "text/plain": [
       "HTML(value='<h3>Max speed = 442; exit at 4154 m (13629 ft), end scoring window at 1898 m (6227 ft)</h3>')"
      ]
     },
     "metadata": {},
     "output_type": "display_data"
    },
    {
     "data": {
      "text/html": [
       "\n",
       "  <div id=\"ea70cdfe-0ee1-456b-9b25-cfb9d4e6c0f1\" data-root-id=\"p1303\" style=\"display: contents;\"></div>\n"
      ]
     },
     "metadata": {},
     "output_type": "display_data"
    },
    {
     "data": {
      "application/javascript": [
       "(function(root) {\n",
       "  function embed_document(root) {\n",
       "  const docs_json = {\"e367e3b9-51e7-4678-a463-9f3a8663c01b\":{\"version\":\"3.2.2\",\"title\":\"Bokeh Application\",\"roots\":[{\"type\":\"object\",\"name\":\"Figure\",\"id\":\"p1303\",\"attributes\":{\"width\":900,\"height\":500,\"x_range\":{\"type\":\"object\",\"name\":\"Range1d\",\"id\":\"p1313\",\"attributes\":{\"end\":40.0}},\"y_range\":{\"type\":\"object\",\"name\":\"Range1d\",\"id\":\"p1314\",\"attributes\":{\"end\":550.0}},\"x_scale\":{\"type\":\"object\",\"name\":\"LinearScale\",\"id\":\"p1315\"},\"y_scale\":{\"type\":\"object\",\"name\":\"LinearScale\",\"id\":\"p1316\"},\"title\":{\"type\":\"object\",\"name\":\"Title\",\"id\":\"p1306\",\"attributes\":{\"text\":\"R4_15-41-08\"}},\"renderers\":[{\"type\":\"object\",\"name\":\"GlyphRenderer\",\"id\":\"p1340\",\"attributes\":{\"data_source\":{\"type\":\"object\",\"name\":\"ColumnDataSource\",\"id\":\"p1334\",\"attributes\":{\"selected\":{\"type\":\"object\",\"name\":\"Selection\",\"id\":\"p1335\",\"attributes\":{\"indices\":[],\"line_indices\":[]}},\"selection_policy\":{\"type\":\"object\",\"name\":\"UnionRenderers\",\"id\":\"p1336\"},\"data\":{\"type\":\"map\",\"entries\":[[\"x\",{\"type\":\"ndarray\",\"array\":{\"type\":\"bytes\",\"data\":\"AAAAAAAAAAAAAAAAmpnJPwAAAACamdk/AAAAgDMz4z8AAACAmZnpPwAAAAAAAPA/AAAAQDMz8z8AAACAZmb2PwAAAMCZmfk/AAAAwMzM/D8AAAAAAAAAQAAAAKCZmQFAAAAAQDMzA0AAAADgzMwEQAAAAGBmZgZAAAAAAAAACEAAAACgmZkJQAAAAEAzMwtAAAAA4MzMDEAAAABgZmYOQAAAAAAAABBAAAAA0MzMEEAAAACgmZkRQAAAAHBmZhJAAAAAMDMzE0AAAAAAAAAUQAAAANDMzBRAAAAAoJmZFUAAAABwZmYWQAAAADAzMxdAAAAAAAAAGEAAAADQzMwYQAAAAKCZmRlAAAAAcGZmGkAAAAAwMzMbQAAAAAAAABxAAAAA0MzMHEAAAACgmZkdQAAAAHBmZh5AAAAAMDMzH0AAAAAAAAAgQAAAAGhmZiBAAAAA0MzMIEAAAAA4MzMhQAAAAJiZmSFAAAAAAAAAIkAAAABoZmYiQAAAANDMzCJAAAAAODMzI0AAAACYmZkjQAAAAAAAACRAAAAAaGZmJEAAAADQzMwkQAAAADgzMyVAAAAAmJmZJUAAAAAAAAAmQAAAAGhmZiZAAAAA0MzMJkAAAAA4MzMnQAAAAJiZmSdAAAAAAAAAKEAAAABoZmYoQAAAANDMzChAAAAAODMzKUAAAACYmZkpQAAAAAAAACpAAAAAaGZmKkAAAADQzMwqQAAAADgzMytAAAAAmJmZK0AAAAAAAAAsQAAAAGhmZixAAAAA0MzMLEAAAAA4MzMtQAAAAJiZmS1AAAAAAAAALkAAAABoZmYuQAAAANDMzC5AAAAAODMzL0AAAACYmZkvQAAAAAAAADBAAAAANDMzMEAAAABoZmYwQAAAAJyZmTBAAAAAzMzMMEAAAAAAAAAxQAAAADQzMzFAAAAAaGZmMUAAAACcmZkxQAAAAMzMzDFAAAAAAAAAMkAAAAA0MzMyQAAAAGhmZjJAAAAAnJmZMkAAAADMzMwyQAAAAAAAADNAAAAANDMzM0AAAABoZmYzQAAAAJyZmTNAAAAAzMzMM0AAAAAAAAA0QAAAADQzMzRAAAAAaGZmNEAAAACcmZk0QAAAAMzMzDRAAAAAAAAANUAAAAA0MzM1QAAAAGhmZjVAAAAAnJmZNUAAAADMzMw1QAAAAAAAADZAAAAANDMzNkAAAABoZmY2QAAAAJyZmTZAAAAAzMzMNkAAAAAAAAA3QAAAADQzMzdAAAAAaGZmN0AAAACcmZk3QAAAAMzMzDdAAAAAAAAAOEAAAAA0MzM4QAAAAGhmZjhAAAAAnJmZOEAAAADMzMw4QAAAAAAAADlAAAAANDMzOUAAAABoZmY5QAAAAJyZmTlA\"},\"shape\":[129],\"dtype\":\"float64\",\"order\":\"little\"}],[\"y\",{\"type\":\"ndarray\",\"array\":{\"type\":\"bytes\",\"data\":\"FK5H4XoUI0B3vp8aL90rQAAAAAAAADJABFYOLbKdN0AnMQisHNo+QC2yne+nBkNAne+nxku3RkAw3SQGgVVKQCPb+X5qvE1AYxBYObSoUEArhxbZzndSQPhT46WbRFRA0SLb+X4KVkB56SYxCOxXQBFYObTI1llAexSuR+HaW0Bh5dAi25ldQI/C9ShcL19AwcqhRbZzYEA2XrpJDFJhQKabxCCwMmJAAAAAAAAgY0B9PzVeuvljQPp+arx002RAhetRuB6lZUAhsHJokW1mQML1KFyPMmdAaZHtfD/1Z0AhsHJoka1oQNNNYhBYaWlAeekmMQgsakAlBoGVQ+tqQCGwcmiRfWtAH4XrUbgObEC28/3UeNlsQEW28/3UqG1AJAaBlUNLbkD2KFyPwvVuQN4kBoGVk29A8tJNYhAQcEB56SYxCFRwQJQYBFYOjXBADi2yne/XcEAZBFYOLRpxQB1aZDvfX3FAokW28/2kcUAtsp3vp+ZxQDzfT42XJnJATmIQWDlkckDb+X5qvKRyQFXjpZvE8HJA0SLb+X46c0BV46WbxIBzQGMQWDm0wHNA9ihcj8L9c0CamZmZmTF0QM/3U+OlW3RAF9nO91N7dEDByqFFtqt0QOSlm8Qg4HRAke18PzUOdUBCYOXQIjt1QHE9CtejaHVAj8L1KFyfdUAxCKwcWtR1QMl2vp8aD3ZA3iQGgZVLdkB/arx0k4B2QKabxCCwsnZAQmDl0CLrdkDb+X5qvCR3QPYoXI/CXXdAGQRWDi2Sd0DC9Shcj8J3QG3n+6nx8ndAmpmZmZkheEDP91PjpUt4QAvXo3A9cnhAv58aL92ceEAAAAAAAMB4QLx0kxgE5nhAdZMYBFYOeUCzne+nxjN5QHWTGARWVnlAtMh2vp96eUCBlUOLbJd5QEw3iUFgtXlAKVyPwvXIeUB/arx0k+B5QFK4HoXr+XlAKVyPwvUQekARWDm0yB56QP7UeOkmKXpA4XoUrkc5ekA/NV66SUx6QJqZmZmZYXpAc2iR7Xx3ekDZzvdT44V6QEJg5dAik3pAIbByaJGlekCBlUOLbLd6QOSlm8QgyHpAObTIdr7fekASg8DKofV6QPLSTWIQCHtA001iEFgZe0C7SQwCKyd7QBSuR+F6PHtA+FPjpZtMe0DqJjEIrFR7QESLbOf7aXtALbKd76d2e0AfhetRuH57QJzEILBygHtAokW28/18e0CamZmZmYF7QI6XbhKDiHtACKwcWmSLe0B9PzVeupF7QOxRuB6Fm3tAbxKDwMqZe0Bt5/up8Zp7QP7UeOkmkXtAi2zn+6mJe0AOLbKd74d7QAisHFpki3tABFYOLbKNe0B/arx0k5B7QG8Sg8DKmXtA\"},\"shape\":[129],\"dtype\":\"float64\",\"order\":\"little\"}]]}}},\"view\":{\"type\":\"object\",\"name\":\"CDSView\",\"id\":\"p1341\",\"attributes\":{\"filter\":{\"type\":\"object\",\"name\":\"AllIndices\",\"id\":\"p1342\"}}},\"glyph\":{\"type\":\"object\",\"name\":\"Line\",\"id\":\"p1337\",\"attributes\":{\"x\":{\"type\":\"field\",\"field\":\"x\"},\"y\":{\"type\":\"field\",\"field\":\"y\"},\"line_color\":\"blue\",\"line_width\":2}},\"nonselection_glyph\":{\"type\":\"object\",\"name\":\"Line\",\"id\":\"p1338\",\"attributes\":{\"x\":{\"type\":\"field\",\"field\":\"x\"},\"y\":{\"type\":\"field\",\"field\":\"y\"},\"line_color\":\"blue\",\"line_alpha\":0.1,\"line_width\":2}},\"muted_glyph\":{\"type\":\"object\",\"name\":\"Line\",\"id\":\"p1339\",\"attributes\":{\"x\":{\"type\":\"field\",\"field\":\"x\"},\"y\":{\"type\":\"field\",\"field\":\"y\"},\"line_color\":\"blue\",\"line_alpha\":0.2,\"line_width\":2}}}},{\"type\":\"object\",\"name\":\"GlyphRenderer\",\"id\":\"p1351\",\"attributes\":{\"data_source\":{\"type\":\"object\",\"name\":\"ColumnDataSource\",\"id\":\"p1345\",\"attributes\":{\"selected\":{\"type\":\"object\",\"name\":\"Selection\",\"id\":\"p1346\",\"attributes\":{\"indices\":[],\"line_indices\":[]}},\"selection_policy\":{\"type\":\"object\",\"name\":\"UnionRenderers\",\"id\":\"p1347\"},\"data\":{\"type\":\"map\",\"entries\":[[\"x0\",[22.600000143051147]],[\"y0\",[0.0]],[\"x1\",[22.600000143051147]],[\"y1\",[440.82000000000005]]]}}},\"view\":{\"type\":\"object\",\"name\":\"CDSView\",\"id\":\"p1352\",\"attributes\":{\"filter\":{\"type\":\"object\",\"name\":\"AllIndices\",\"id\":\"p1353\"}}},\"glyph\":{\"type\":\"object\",\"name\":\"Segment\",\"id\":\"p1348\",\"attributes\":{\"x0\":{\"type\":\"field\",\"field\":\"x0\"},\"y0\":{\"type\":\"field\",\"field\":\"y0\"},\"x1\":{\"type\":\"field\",\"field\":\"x1\"},\"y1\":{\"type\":\"field\",\"field\":\"y1\"},\"line_color\":{\"type\":\"value\",\"value\":\"green\"},\"line_width\":{\"type\":\"value\",\"value\":3}}},\"nonselection_glyph\":{\"type\":\"object\",\"name\":\"Segment\",\"id\":\"p1349\",\"attributes\":{\"x0\":{\"type\":\"field\",\"field\":\"x0\"},\"y0\":{\"type\":\"field\",\"field\":\"y0\"},\"x1\":{\"type\":\"field\",\"field\":\"x1\"},\"y1\":{\"type\":\"field\",\"field\":\"y1\"},\"line_color\":{\"type\":\"value\",\"value\":\"green\"},\"line_alpha\":{\"type\":\"value\",\"value\":0.1},\"line_width\":{\"type\":\"value\",\"value\":3}}},\"muted_glyph\":{\"type\":\"object\",\"name\":\"Segment\",\"id\":\"p1350\",\"attributes\":{\"x0\":{\"type\":\"field\",\"field\":\"x0\"},\"y0\":{\"type\":\"field\",\"field\":\"y0\"},\"x1\":{\"type\":\"field\",\"field\":\"x1\"},\"y1\":{\"type\":\"field\",\"field\":\"y1\"},\"line_color\":{\"type\":\"value\",\"value\":\"green\"},\"line_alpha\":{\"type\":\"value\",\"value\":0.2},\"line_width\":{\"type\":\"value\",\"value\":3}}}}},{\"type\":\"object\",\"name\":\"GlyphRenderer\",\"id\":\"p1360\",\"attributes\":{\"data_source\":{\"type\":\"object\",\"name\":\"ColumnDataSource\",\"id\":\"p1354\",\"attributes\":{\"selected\":{\"type\":\"object\",\"name\":\"Selection\",\"id\":\"p1355\",\"attributes\":{\"indices\":[],\"line_indices\":[]}},\"selection_policy\":{\"type\":\"object\",\"name\":\"UnionRenderers\",\"id\":\"p1356\"},\"data\":{\"type\":\"map\",\"entries\":[[\"x0\",[24.100000143051147]],[\"y0\",[0.0]],[\"x1\",[24.100000143051147]],[\"y1\",[440.82000000000005]]]}}},\"view\":{\"type\":\"object\",\"name\":\"CDSView\",\"id\":\"p1361\",\"attributes\":{\"filter\":{\"type\":\"object\",\"name\":\"AllIndices\",\"id\":\"p1362\"}}},\"glyph\":{\"type\":\"object\",\"name\":\"Segment\",\"id\":\"p1357\",\"attributes\":{\"x0\":{\"type\":\"field\",\"field\":\"x0\"},\"y0\":{\"type\":\"field\",\"field\":\"y0\"},\"x1\":{\"type\":\"field\",\"field\":\"x1\"},\"y1\":{\"type\":\"field\",\"field\":\"y1\"},\"line_color\":{\"type\":\"value\",\"value\":\"darkseagreen\"}}},\"nonselection_glyph\":{\"type\":\"object\",\"name\":\"Segment\",\"id\":\"p1358\",\"attributes\":{\"x0\":{\"type\":\"field\",\"field\":\"x0\"},\"y0\":{\"type\":\"field\",\"field\":\"y0\"},\"x1\":{\"type\":\"field\",\"field\":\"x1\"},\"y1\":{\"type\":\"field\",\"field\":\"y1\"},\"line_color\":{\"type\":\"value\",\"value\":\"darkseagreen\"},\"line_alpha\":{\"type\":\"value\",\"value\":0.1}}},\"muted_glyph\":{\"type\":\"object\",\"name\":\"Segment\",\"id\":\"p1359\",\"attributes\":{\"x0\":{\"type\":\"field\",\"field\":\"x0\"},\"y0\":{\"type\":\"field\",\"field\":\"y0\"},\"x1\":{\"type\":\"field\",\"field\":\"x1\"},\"y1\":{\"type\":\"field\",\"field\":\"y1\"},\"line_color\":{\"type\":\"value\",\"value\":\"darkseagreen\"},\"line_alpha\":{\"type\":\"value\",\"value\":0.2}}}}},{\"type\":\"object\",\"name\":\"GlyphRenderer\",\"id\":\"p1369\",\"attributes\":{\"data_source\":{\"type\":\"object\",\"name\":\"ColumnDataSource\",\"id\":\"p1363\",\"attributes\":{\"selected\":{\"type\":\"object\",\"name\":\"Selection\",\"id\":\"p1364\",\"attributes\":{\"indices\":[],\"line_indices\":[]}},\"selection_policy\":{\"type\":\"object\",\"name\":\"UnionRenderers\",\"id\":\"p1365\"},\"data\":{\"type\":\"map\",\"entries\":[[\"x0\",[21.100000143051147]],[\"y0\",[0.0]],[\"x1\",[21.100000143051147]],[\"y1\",[440.82000000000005]]]}}},\"view\":{\"type\":\"object\",\"name\":\"CDSView\",\"id\":\"p1370\",\"attributes\":{\"filter\":{\"type\":\"object\",\"name\":\"AllIndices\",\"id\":\"p1371\"}}},\"glyph\":{\"type\":\"object\",\"name\":\"Segment\",\"id\":\"p1366\",\"attributes\":{\"x0\":{\"type\":\"field\",\"field\":\"x0\"},\"y0\":{\"type\":\"field\",\"field\":\"y0\"},\"x1\":{\"type\":\"field\",\"field\":\"x1\"},\"y1\":{\"type\":\"field\",\"field\":\"y1\"},\"line_color\":{\"type\":\"value\",\"value\":\"darkseagreen\"}}},\"nonselection_glyph\":{\"type\":\"object\",\"name\":\"Segment\",\"id\":\"p1367\",\"attributes\":{\"x0\":{\"type\":\"field\",\"field\":\"x0\"},\"y0\":{\"type\":\"field\",\"field\":\"y0\"},\"x1\":{\"type\":\"field\",\"field\":\"x1\"},\"y1\":{\"type\":\"field\",\"field\":\"y1\"},\"line_color\":{\"type\":\"value\",\"value\":\"darkseagreen\"},\"line_alpha\":{\"type\":\"value\",\"value\":0.1}}},\"muted_glyph\":{\"type\":\"object\",\"name\":\"Segment\",\"id\":\"p1368\",\"attributes\":{\"x0\":{\"type\":\"field\",\"field\":\"x0\"},\"y0\":{\"type\":\"field\",\"field\":\"y0\"},\"x1\":{\"type\":\"field\",\"field\":\"x1\"},\"y1\":{\"type\":\"field\",\"field\":\"y1\"},\"line_color\":{\"type\":\"value\",\"value\":\"darkseagreen\"},\"line_alpha\":{\"type\":\"value\",\"value\":0.2}}}}},{\"type\":\"object\",\"name\":\"GlyphRenderer\",\"id\":\"p1378\",\"attributes\":{\"data_source\":{\"type\":\"object\",\"name\":\"ColumnDataSource\",\"id\":\"p1372\",\"attributes\":{\"selected\":{\"type\":\"object\",\"name\":\"Selection\",\"id\":\"p1373\",\"attributes\":{\"indices\":[],\"line_indices\":[]}},\"selection_policy\":{\"type\":\"object\",\"name\":\"UnionRenderers\",\"id\":\"p1374\"},\"data\":{\"type\":\"map\",\"entries\":[[\"x\",[22.600000143051147]],[\"y\",[440.82000000000005]],[\"size\",[20]]]}}},\"view\":{\"type\":\"object\",\"name\":\"CDSView\",\"id\":\"p1379\",\"attributes\":{\"filter\":{\"type\":\"object\",\"name\":\"AllIndices\",\"id\":\"p1380\"}}},\"glyph\":{\"type\":\"object\",\"name\":\"Scatter\",\"id\":\"p1375\",\"attributes\":{\"x\":{\"type\":\"field\",\"field\":\"x\"},\"y\":{\"type\":\"field\",\"field\":\"y\"},\"size\":{\"type\":\"field\",\"field\":\"size\"},\"line_color\":{\"type\":\"value\",\"value\":\"green\"},\"line_width\":{\"type\":\"value\",\"value\":3},\"fill_color\":{\"type\":\"value\",\"value\":null},\"marker\":{\"type\":\"value\",\"value\":\"square_cross\"}}},\"nonselection_glyph\":{\"type\":\"object\",\"name\":\"Scatter\",\"id\":\"p1376\",\"attributes\":{\"x\":{\"type\":\"field\",\"field\":\"x\"},\"y\":{\"type\":\"field\",\"field\":\"y\"},\"size\":{\"type\":\"field\",\"field\":\"size\"},\"line_color\":{\"type\":\"value\",\"value\":\"green\"},\"line_alpha\":{\"type\":\"value\",\"value\":0.1},\"line_width\":{\"type\":\"value\",\"value\":3},\"fill_color\":{\"type\":\"value\",\"value\":null},\"fill_alpha\":{\"type\":\"value\",\"value\":0.1},\"hatch_alpha\":{\"type\":\"value\",\"value\":0.1},\"marker\":{\"type\":\"value\",\"value\":\"square_cross\"}}},\"muted_glyph\":{\"type\":\"object\",\"name\":\"Scatter\",\"id\":\"p1377\",\"attributes\":{\"x\":{\"type\":\"field\",\"field\":\"x\"},\"y\":{\"type\":\"field\",\"field\":\"y\"},\"size\":{\"type\":\"field\",\"field\":\"size\"},\"line_color\":{\"type\":\"value\",\"value\":\"green\"},\"line_alpha\":{\"type\":\"value\",\"value\":0.2},\"line_width\":{\"type\":\"value\",\"value\":3},\"fill_color\":{\"type\":\"value\",\"value\":null},\"fill_alpha\":{\"type\":\"value\",\"value\":0.2},\"hatch_alpha\":{\"type\":\"value\",\"value\":0.2},\"marker\":{\"type\":\"value\",\"value\":\"square_cross\"}}}}}],\"toolbar\":{\"type\":\"object\",\"name\":\"Toolbar\",\"id\":\"p1312\",\"attributes\":{\"tools\":[{\"type\":\"object\",\"name\":\"PanTool\",\"id\":\"p1327\"},{\"type\":\"object\",\"name\":\"WheelZoomTool\",\"id\":\"p1328\"},{\"type\":\"object\",\"name\":\"BoxZoomTool\",\"id\":\"p1329\",\"attributes\":{\"overlay\":{\"type\":\"object\",\"name\":\"BoxAnnotation\",\"id\":\"p1330\",\"attributes\":{\"syncable\":false,\"level\":\"overlay\",\"visible\":false,\"left_units\":\"canvas\",\"right_units\":\"canvas\",\"bottom_units\":\"canvas\",\"top_units\":\"canvas\",\"line_color\":\"black\",\"line_alpha\":1.0,\"line_width\":2,\"line_dash\":[4,4],\"fill_color\":\"lightgrey\",\"fill_alpha\":0.5}}}},{\"type\":\"object\",\"name\":\"SaveTool\",\"id\":\"p1331\"},{\"type\":\"object\",\"name\":\"ResetTool\",\"id\":\"p1332\"},{\"type\":\"object\",\"name\":\"HelpTool\",\"id\":\"p1333\"}]}},\"left\":[{\"type\":\"object\",\"name\":\"LinearAxis\",\"id\":\"p1322\",\"attributes\":{\"ticker\":{\"type\":\"object\",\"name\":\"BasicTicker\",\"id\":\"p1323\",\"attributes\":{\"mantissas\":[1,2,5]}},\"formatter\":{\"type\":\"object\",\"name\":\"BasicTickFormatter\",\"id\":\"p1324\"},\"axis_label\":\"km/h\",\"major_label_policy\":{\"type\":\"object\",\"name\":\"AllLabels\",\"id\":\"p1325\"}}}],\"below\":[{\"type\":\"object\",\"name\":\"LinearAxis\",\"id\":\"p1317\",\"attributes\":{\"ticker\":{\"type\":\"object\",\"name\":\"BasicTicker\",\"id\":\"p1318\",\"attributes\":{\"mantissas\":[1,2,5]}},\"formatter\":{\"type\":\"object\",\"name\":\"BasicTickFormatter\",\"id\":\"p1319\"},\"axis_label\":\"seconds from exit\",\"major_label_policy\":{\"type\":\"object\",\"name\":\"AllLabels\",\"id\":\"p1320\"}}}],\"center\":[{\"type\":\"object\",\"name\":\"Grid\",\"id\":\"p1321\",\"attributes\":{\"axis\":{\"id\":\"p1317\"}}},{\"type\":\"object\",\"name\":\"Grid\",\"id\":\"p1326\",\"attributes\":{\"dimension\":1,\"axis\":{\"id\":\"p1322\"}}},{\"type\":\"object\",\"name\":\"Legend\",\"id\":\"p1343\",\"attributes\":{\"items\":[{\"type\":\"object\",\"name\":\"LegendItem\",\"id\":\"p1344\",\"attributes\":{\"label\":{\"type\":\"value\",\"value\":\"speed\"},\"renderers\":[{\"id\":\"p1340\"}]}}]}}]}}]}};\n",
       "  const render_items = [{\"docid\":\"e367e3b9-51e7-4678-a463-9f3a8663c01b\",\"roots\":{\"p1303\":\"ea70cdfe-0ee1-456b-9b25-cfb9d4e6c0f1\"},\"root_ids\":[\"p1303\"]}];\n",
       "  root.Bokeh.embed.embed_items_notebook(docs_json, render_items);\n",
       "  }\n",
       "  if (root.Bokeh !== undefined) {\n",
       "    embed_document(root);\n",
       "  } else {\n",
       "    let attempts = 0;\n",
       "    const timer = setInterval(function(root) {\n",
       "      if (root.Bokeh !== undefined) {\n",
       "        clearInterval(timer);\n",
       "        embed_document(root);\n",
       "      } else {\n",
       "        attempts++;\n",
       "        if (attempts > 100) {\n",
       "          clearInterval(timer);\n",
       "          console.log(\"Bokeh: ERROR: Unable to run BokehJS code because BokehJS library is missing\");\n",
       "        }\n",
       "      }\n",
       "    }, 10, root)\n",
       "  }\n",
       "})(window);"
      ],
      "application/vnd.bokehjs_exec.v0+json": ""
     },
     "metadata": {
      "application/vnd.bokehjs_exec.v0+json": {
       "id": "p1303"
      }
     },
     "output_type": "display_data"
    },
    {
     "data": {
      "application/vnd.jupyter.widget-view+json": {
       "model_id": "4961e3b3c16f41ae91b4957b858550cb",
       "version_major": 2,
       "version_minor": 0
      },
      "text/plain": [
       "HTML(value='<hr><h1><span style=\"color: #0f0\">R5_17-02-21 jump - 🟢 valid</span></h1>')"
      ]
     },
     "metadata": {},
     "output_type": "display_data"
    },
    {
     "data": {
      "application/vnd.jupyter.widget-view+json": {
       "model_id": "af6b7d0e132b487a876f10ec4e31d194",
       "version_major": 2,
       "version_minor": 0
      },
      "text/plain": [
       "HTML(value='<h3>Max speed = 430; exit at 4238 m (13904 ft), end scoring window at 1982 m (6503 ft)</h3>')"
      ]
     },
     "metadata": {},
     "output_type": "display_data"
    },
    {
     "data": {
      "text/html": [
       "\n",
       "  <div id=\"be968bdf-c406-4ff3-9c97-f1fbc98aa376\" data-root-id=\"p1393\" style=\"display: contents;\"></div>\n"
      ]
     },
     "metadata": {},
     "output_type": "display_data"
    },
    {
     "data": {
      "application/javascript": [
       "(function(root) {\n",
       "  function embed_document(root) {\n",
       "  const docs_json = {\"6fe00372-c95b-44b3-bf2d-c91709d490e1\":{\"version\":\"3.2.2\",\"title\":\"Bokeh Application\",\"roots\":[{\"type\":\"object\",\"name\":\"Figure\",\"id\":\"p1393\",\"attributes\":{\"width\":900,\"height\":500,\"x_range\":{\"type\":\"object\",\"name\":\"Range1d\",\"id\":\"p1403\",\"attributes\":{\"end\":40.0}},\"y_range\":{\"type\":\"object\",\"name\":\"Range1d\",\"id\":\"p1404\",\"attributes\":{\"end\":550.0}},\"x_scale\":{\"type\":\"object\",\"name\":\"LinearScale\",\"id\":\"p1405\"},\"y_scale\":{\"type\":\"object\",\"name\":\"LinearScale\",\"id\":\"p1406\"},\"title\":{\"type\":\"object\",\"name\":\"Title\",\"id\":\"p1396\",\"attributes\":{\"text\":\"R5_17-02-21\"}},\"renderers\":[{\"type\":\"object\",\"name\":\"GlyphRenderer\",\"id\":\"p1430\",\"attributes\":{\"data_source\":{\"type\":\"object\",\"name\":\"ColumnDataSource\",\"id\":\"p1424\",\"attributes\":{\"selected\":{\"type\":\"object\",\"name\":\"Selection\",\"id\":\"p1425\",\"attributes\":{\"indices\":[],\"line_indices\":[]}},\"selection_policy\":{\"type\":\"object\",\"name\":\"UnionRenderers\",\"id\":\"p1426\"},\"data\":{\"type\":\"map\",\"entries\":[[\"x\",{\"type\":\"ndarray\",\"array\":{\"type\":\"bytes\",\"data\":\"AAAAAAAAAAAAAAAAmpnJPwAAAACamdk/AAAAgDMz4z8AAACAmZnpPwAAAAAAAPA/AAAAQDMz8z8AAACAZmb2PwAAAMCZmfk/AAAAwMzM/D8AAAAAAAAAQAAAAKCZmQFAAAAAQDMzA0AAAADgzMwEQAAAAGBmZgZAAAAAAAAACEAAAACgmZkJQAAAAEAzMwtAAAAA4MzMDEAAAABgZmYOQAAAAAAAABBAAAAA0MzMEEAAAACgmZkRQAAAAHBmZhJAAAAAMDMzE0AAAAAAAAAUQAAAANDMzBRAAAAAoJmZFUAAAABwZmYWQAAAADAzMxdAAAAAAAAAGEAAAADQzMwYQAAAAKCZmRlAAAAAcGZmGkAAAAAwMzMbQAAAAAAAABxAAAAA0MzMHEAAAACgmZkdQAAAAHBmZh5AAAAAMDMzH0AAAAAAAAAgQAAAAGhmZiBAAAAA0MzMIEAAAAA4MzMhQAAAAJiZmSFAAAAAAAAAIkAAAABoZmYiQAAAANDMzCJAAAAAODMzI0AAAACYmZkjQAAAAAAAACRAAAAAaGZmJEAAAADQzMwkQAAAADgzMyVAAAAAmJmZJUAAAAAAAAAmQAAAAGhmZiZAAAAA0MzMJkAAAAA4MzMnQAAAAJiZmSdAAAAAAAAAKEAAAABoZmYoQAAAANDMzChAAAAAODMzKUAAAACYmZkpQAAAAAAAACpAAAAAaGZmKkAAAADQzMwqQAAAADgzMytAAAAAmJmZK0AAAAAAAAAsQAAAAGhmZixAAAAA0MzMLEAAAAA4MzMtQAAAAJiZmS1AAAAAAAAALkAAAABoZmYuQAAAANDMzC5AAAAAODMzL0AAAACYmZkvQAAAAAAAADBAAAAANDMzMEAAAABoZmYwQAAAAJyZmTBAAAAAzMzMMEAAAAAAAAAxQAAAADQzMzFAAAAAaGZmMUAAAACcmZkxQAAAAMzMzDFAAAAAAAAAMkAAAAA0MzMyQAAAAGhmZjJAAAAAnJmZMkAAAADMzMwyQAAAAAAAADNAAAAANDMzM0AAAABoZmYzQAAAAJyZmTNAAAAAzMzMM0AAAAAAAAA0QAAAADQzMzRAAAAAaGZmNEAAAACcmZk0QAAAAMzMzDRAAAAAAAAANUAAAAA0MzM1QAAAAGhmZjVAAAAAnJmZNUAAAADMzMw1QAAAAAAAADZAAAAANDMzNkAAAABoZmY2QAAAAJyZmTZAAAAAzMzMNkAAAAAAAAA3QAAAADQzMzdAAAAAaGZmN0AAAACcmZk3QAAAAMzMzDdAAAAAAAAAOEAAAAA0MzM4QAAAAGhmZjhAAAAAnJmZOEAAAADMzMw4QAAAAAAAADlAAAAANDMzOUAAAABoZmY5QAAAAJyZmTlA\"},\"shape\":[129],\"dtype\":\"float64\",\"order\":\"little\"}],[\"y\",{\"type\":\"ndarray\",\"array\":{\"type\":\"bytes\",\"data\":\"7nw/NV66I0Dwp8ZLN4kvQIts5/up8TNAke18PzXeN0D8qfHSTeJAQLTIdr6f2kNALbKd76eGR0CPwvUoXM9LQPlT46WbhE9AxSCwcmiRUUCR7Xw/NV5TQF66SQwCK1VAN4lBYOXwVkDLoUW2891YQJzEILByqFpARIts5/uJXEBPYhBYOTReQCcxCKwc+l9ADAIrhxbZYECR7Xw/Na5hQEjhehSuZ2JA30+Nl24yY0BkO99PjQdkQPLSTWIQ2GRAd76fGi+tZUDn+6nx0o1mQIGVQ4tsV2dADAIrhxYpaECq8dJNYvBoQEw3iUFgtWlA7nw/NV56akCOl24Sg0BrQCcxCKwcCmxA2c73U+PFbECUGARWDn1tQFG4HoXrMW5ADAIrhxbpbkDSItv5fppvQMl2vp8aJ3BAtMh2vp96cECd76fGS89wQJHtfD81HnFABFYOLbJtcUD2KFyPwr1xQPT91HjpBnJAZ2ZmZmZWckDkpZvEIKByQGq8dJMY5HJA6iYxCKwsc0D0/dR46W5zQIGVQ4tsr3NAiUFg5dDyc0AUrkfhejR0QCGwcmiRdXRAs53vp8azdEC/nxov3fR0QMdLN4lBOHVAVeOlm8R4dUBkO99Pjbd1QIgW2c7363VAJQaBlUMjdkBKDAIrh1Z2QPCnxks3iXZACKwcWmTDdkAtsp3vp/Z2QEoMAiuHLndAZDvfT41nd0AMAiuHFpl3QL+fGi/dxHdAbef7qfHyd0AMAiuHFil4QL+fGi/dVHhAAAAAAAB4eEBCYOXQIpt4QA4tsp3vt3hAVg4tsp3XeEAnMQisHPJ4QAwCK4cWAXlAbef7qfESeUBMN4lBYCV5QBSuR+F6RHlA4XoUrkdheUCkcD0K14N5QGmR7Xw/pXlAqMZLN4nJeUBt5/up8ep5QMHKoUW2A3pADAIrhxYhekBeukkMAjt6QEjhehSuR3pAs53vp8ZTekAZBFYOLWJ6QHe+nxovdXpAZDvfT41/ekDVeOkmMYh6QMHKoUW2k3pAu0kMAiuXekDb+X5qvIR6QDMzMzMzU3pAeekmMQgsekARWDm0yB56QKAaL90kFnpAJzEIrBwSekAMAiuHFiF6QObQItv5NnpAwvUoXI9KekCR7Xw/NWZ6QG8Sg8DKeXpATDeJQWCNekAnMQisHKJ6QIXrUbgetXpAWDm0yHbOekBI4XoUrtd6QD81XrpJ3HpASOF6FK7XekDP91PjpdN6QPp+arx0u3pAWDm0yHaGekC7SQwCK096QGmR7Xw/NXpAc2iR7XwvekD0/dR46S56QGdmZmZmNnpA2/l+arw8ekDJdr6fGkd6QCUGgZVDW3pAFK5H4XpkekB9PzVeunF6QHE9CtejeHpA\"},\"shape\":[129],\"dtype\":\"float64\",\"order\":\"little\"}]]}}},\"view\":{\"type\":\"object\",\"name\":\"CDSView\",\"id\":\"p1431\",\"attributes\":{\"filter\":{\"type\":\"object\",\"name\":\"AllIndices\",\"id\":\"p1432\"}}},\"glyph\":{\"type\":\"object\",\"name\":\"Line\",\"id\":\"p1427\",\"attributes\":{\"x\":{\"type\":\"field\",\"field\":\"x\"},\"y\":{\"type\":\"field\",\"field\":\"y\"},\"line_color\":\"blue\",\"line_width\":2}},\"nonselection_glyph\":{\"type\":\"object\",\"name\":\"Line\",\"id\":\"p1428\",\"attributes\":{\"x\":{\"type\":\"field\",\"field\":\"x\"},\"y\":{\"type\":\"field\",\"field\":\"y\"},\"line_color\":\"blue\",\"line_alpha\":0.1,\"line_width\":2}},\"muted_glyph\":{\"type\":\"object\",\"name\":\"Line\",\"id\":\"p1429\",\"attributes\":{\"x\":{\"type\":\"field\",\"field\":\"x\"},\"y\":{\"type\":\"field\",\"field\":\"y\"},\"line_color\":\"blue\",\"line_alpha\":0.2,\"line_width\":2}}}},{\"type\":\"object\",\"name\":\"GlyphRenderer\",\"id\":\"p1441\",\"attributes\":{\"data_source\":{\"type\":\"object\",\"name\":\"ColumnDataSource\",\"id\":\"p1435\",\"attributes\":{\"selected\":{\"type\":\"object\",\"name\":\"Selection\",\"id\":\"p1436\",\"attributes\":{\"indices\":[],\"line_indices\":[]}},\"selection_policy\":{\"type\":\"object\",\"name\":\"UnionRenderers\",\"id\":\"p1437\"},\"data\":{\"type\":\"map\",\"entries\":[[\"x0\",[19.200000047683716]],[\"y0\",[0.0]],[\"x1\",[19.200000047683716]],[\"y1\",[427.17600000000004]]]}}},\"view\":{\"type\":\"object\",\"name\":\"CDSView\",\"id\":\"p1442\",\"attributes\":{\"filter\":{\"type\":\"object\",\"name\":\"AllIndices\",\"id\":\"p1443\"}}},\"glyph\":{\"type\":\"object\",\"name\":\"Segment\",\"id\":\"p1438\",\"attributes\":{\"x0\":{\"type\":\"field\",\"field\":\"x0\"},\"y0\":{\"type\":\"field\",\"field\":\"y0\"},\"x1\":{\"type\":\"field\",\"field\":\"x1\"},\"y1\":{\"type\":\"field\",\"field\":\"y1\"},\"line_color\":{\"type\":\"value\",\"value\":\"green\"},\"line_width\":{\"type\":\"value\",\"value\":3}}},\"nonselection_glyph\":{\"type\":\"object\",\"name\":\"Segment\",\"id\":\"p1439\",\"attributes\":{\"x0\":{\"type\":\"field\",\"field\":\"x0\"},\"y0\":{\"type\":\"field\",\"field\":\"y0\"},\"x1\":{\"type\":\"field\",\"field\":\"x1\"},\"y1\":{\"type\":\"field\",\"field\":\"y1\"},\"line_color\":{\"type\":\"value\",\"value\":\"green\"},\"line_alpha\":{\"type\":\"value\",\"value\":0.1},\"line_width\":{\"type\":\"value\",\"value\":3}}},\"muted_glyph\":{\"type\":\"object\",\"name\":\"Segment\",\"id\":\"p1440\",\"attributes\":{\"x0\":{\"type\":\"field\",\"field\":\"x0\"},\"y0\":{\"type\":\"field\",\"field\":\"y0\"},\"x1\":{\"type\":\"field\",\"field\":\"x1\"},\"y1\":{\"type\":\"field\",\"field\":\"y1\"},\"line_color\":{\"type\":\"value\",\"value\":\"green\"},\"line_alpha\":{\"type\":\"value\",\"value\":0.2},\"line_width\":{\"type\":\"value\",\"value\":3}}}}},{\"type\":\"object\",\"name\":\"GlyphRenderer\",\"id\":\"p1450\",\"attributes\":{\"data_source\":{\"type\":\"object\",\"name\":\"ColumnDataSource\",\"id\":\"p1444\",\"attributes\":{\"selected\":{\"type\":\"object\",\"name\":\"Selection\",\"id\":\"p1445\",\"attributes\":{\"indices\":[],\"line_indices\":[]}},\"selection_policy\":{\"type\":\"object\",\"name\":\"UnionRenderers\",\"id\":\"p1446\"},\"data\":{\"type\":\"map\",\"entries\":[[\"x0\",[20.700000047683716]],[\"y0\",[0.0]],[\"x1\",[20.700000047683716]],[\"y1\",[427.17600000000004]]]}}},\"view\":{\"type\":\"object\",\"name\":\"CDSView\",\"id\":\"p1451\",\"attributes\":{\"filter\":{\"type\":\"object\",\"name\":\"AllIndices\",\"id\":\"p1452\"}}},\"glyph\":{\"type\":\"object\",\"name\":\"Segment\",\"id\":\"p1447\",\"attributes\":{\"x0\":{\"type\":\"field\",\"field\":\"x0\"},\"y0\":{\"type\":\"field\",\"field\":\"y0\"},\"x1\":{\"type\":\"field\",\"field\":\"x1\"},\"y1\":{\"type\":\"field\",\"field\":\"y1\"},\"line_color\":{\"type\":\"value\",\"value\":\"darkseagreen\"}}},\"nonselection_glyph\":{\"type\":\"object\",\"name\":\"Segment\",\"id\":\"p1448\",\"attributes\":{\"x0\":{\"type\":\"field\",\"field\":\"x0\"},\"y0\":{\"type\":\"field\",\"field\":\"y0\"},\"x1\":{\"type\":\"field\",\"field\":\"x1\"},\"y1\":{\"type\":\"field\",\"field\":\"y1\"},\"line_color\":{\"type\":\"value\",\"value\":\"darkseagreen\"},\"line_alpha\":{\"type\":\"value\",\"value\":0.1}}},\"muted_glyph\":{\"type\":\"object\",\"name\":\"Segment\",\"id\":\"p1449\",\"attributes\":{\"x0\":{\"type\":\"field\",\"field\":\"x0\"},\"y0\":{\"type\":\"field\",\"field\":\"y0\"},\"x1\":{\"type\":\"field\",\"field\":\"x1\"},\"y1\":{\"type\":\"field\",\"field\":\"y1\"},\"line_color\":{\"type\":\"value\",\"value\":\"darkseagreen\"},\"line_alpha\":{\"type\":\"value\",\"value\":0.2}}}}},{\"type\":\"object\",\"name\":\"GlyphRenderer\",\"id\":\"p1459\",\"attributes\":{\"data_source\":{\"type\":\"object\",\"name\":\"ColumnDataSource\",\"id\":\"p1453\",\"attributes\":{\"selected\":{\"type\":\"object\",\"name\":\"Selection\",\"id\":\"p1454\",\"attributes\":{\"indices\":[],\"line_indices\":[]}},\"selection_policy\":{\"type\":\"object\",\"name\":\"UnionRenderers\",\"id\":\"p1455\"},\"data\":{\"type\":\"map\",\"entries\":[[\"x0\",[17.700000047683716]],[\"y0\",[0.0]],[\"x1\",[17.700000047683716]],[\"y1\",[427.17600000000004]]]}}},\"view\":{\"type\":\"object\",\"name\":\"CDSView\",\"id\":\"p1460\",\"attributes\":{\"filter\":{\"type\":\"object\",\"name\":\"AllIndices\",\"id\":\"p1461\"}}},\"glyph\":{\"type\":\"object\",\"name\":\"Segment\",\"id\":\"p1456\",\"attributes\":{\"x0\":{\"type\":\"field\",\"field\":\"x0\"},\"y0\":{\"type\":\"field\",\"field\":\"y0\"},\"x1\":{\"type\":\"field\",\"field\":\"x1\"},\"y1\":{\"type\":\"field\",\"field\":\"y1\"},\"line_color\":{\"type\":\"value\",\"value\":\"darkseagreen\"}}},\"nonselection_glyph\":{\"type\":\"object\",\"name\":\"Segment\",\"id\":\"p1457\",\"attributes\":{\"x0\":{\"type\":\"field\",\"field\":\"x0\"},\"y0\":{\"type\":\"field\",\"field\":\"y0\"},\"x1\":{\"type\":\"field\",\"field\":\"x1\"},\"y1\":{\"type\":\"field\",\"field\":\"y1\"},\"line_color\":{\"type\":\"value\",\"value\":\"darkseagreen\"},\"line_alpha\":{\"type\":\"value\",\"value\":0.1}}},\"muted_glyph\":{\"type\":\"object\",\"name\":\"Segment\",\"id\":\"p1458\",\"attributes\":{\"x0\":{\"type\":\"field\",\"field\":\"x0\"},\"y0\":{\"type\":\"field\",\"field\":\"y0\"},\"x1\":{\"type\":\"field\",\"field\":\"x1\"},\"y1\":{\"type\":\"field\",\"field\":\"y1\"},\"line_color\":{\"type\":\"value\",\"value\":\"darkseagreen\"},\"line_alpha\":{\"type\":\"value\",\"value\":0.2}}}}},{\"type\":\"object\",\"name\":\"GlyphRenderer\",\"id\":\"p1468\",\"attributes\":{\"data_source\":{\"type\":\"object\",\"name\":\"ColumnDataSource\",\"id\":\"p1462\",\"attributes\":{\"selected\":{\"type\":\"object\",\"name\":\"Selection\",\"id\":\"p1463\",\"attributes\":{\"indices\":[],\"line_indices\":[]}},\"selection_policy\":{\"type\":\"object\",\"name\":\"UnionRenderers\",\"id\":\"p1464\"},\"data\":{\"type\":\"map\",\"entries\":[[\"x\",[19.200000047683716]],[\"y\",[427.17600000000004]],[\"size\",[20]]]}}},\"view\":{\"type\":\"object\",\"name\":\"CDSView\",\"id\":\"p1469\",\"attributes\":{\"filter\":{\"type\":\"object\",\"name\":\"AllIndices\",\"id\":\"p1470\"}}},\"glyph\":{\"type\":\"object\",\"name\":\"Scatter\",\"id\":\"p1465\",\"attributes\":{\"x\":{\"type\":\"field\",\"field\":\"x\"},\"y\":{\"type\":\"field\",\"field\":\"y\"},\"size\":{\"type\":\"field\",\"field\":\"size\"},\"line_color\":{\"type\":\"value\",\"value\":\"green\"},\"line_width\":{\"type\":\"value\",\"value\":3},\"fill_color\":{\"type\":\"value\",\"value\":null},\"marker\":{\"type\":\"value\",\"value\":\"square_cross\"}}},\"nonselection_glyph\":{\"type\":\"object\",\"name\":\"Scatter\",\"id\":\"p1466\",\"attributes\":{\"x\":{\"type\":\"field\",\"field\":\"x\"},\"y\":{\"type\":\"field\",\"field\":\"y\"},\"size\":{\"type\":\"field\",\"field\":\"size\"},\"line_color\":{\"type\":\"value\",\"value\":\"green\"},\"line_alpha\":{\"type\":\"value\",\"value\":0.1},\"line_width\":{\"type\":\"value\",\"value\":3},\"fill_color\":{\"type\":\"value\",\"value\":null},\"fill_alpha\":{\"type\":\"value\",\"value\":0.1},\"hatch_alpha\":{\"type\":\"value\",\"value\":0.1},\"marker\":{\"type\":\"value\",\"value\":\"square_cross\"}}},\"muted_glyph\":{\"type\":\"object\",\"name\":\"Scatter\",\"id\":\"p1467\",\"attributes\":{\"x\":{\"type\":\"field\",\"field\":\"x\"},\"y\":{\"type\":\"field\",\"field\":\"y\"},\"size\":{\"type\":\"field\",\"field\":\"size\"},\"line_color\":{\"type\":\"value\",\"value\":\"green\"},\"line_alpha\":{\"type\":\"value\",\"value\":0.2},\"line_width\":{\"type\":\"value\",\"value\":3},\"fill_color\":{\"type\":\"value\",\"value\":null},\"fill_alpha\":{\"type\":\"value\",\"value\":0.2},\"hatch_alpha\":{\"type\":\"value\",\"value\":0.2},\"marker\":{\"type\":\"value\",\"value\":\"square_cross\"}}}}}],\"toolbar\":{\"type\":\"object\",\"name\":\"Toolbar\",\"id\":\"p1402\",\"attributes\":{\"tools\":[{\"type\":\"object\",\"name\":\"PanTool\",\"id\":\"p1417\"},{\"type\":\"object\",\"name\":\"WheelZoomTool\",\"id\":\"p1418\"},{\"type\":\"object\",\"name\":\"BoxZoomTool\",\"id\":\"p1419\",\"attributes\":{\"overlay\":{\"type\":\"object\",\"name\":\"BoxAnnotation\",\"id\":\"p1420\",\"attributes\":{\"syncable\":false,\"level\":\"overlay\",\"visible\":false,\"left_units\":\"canvas\",\"right_units\":\"canvas\",\"bottom_units\":\"canvas\",\"top_units\":\"canvas\",\"line_color\":\"black\",\"line_alpha\":1.0,\"line_width\":2,\"line_dash\":[4,4],\"fill_color\":\"lightgrey\",\"fill_alpha\":0.5}}}},{\"type\":\"object\",\"name\":\"SaveTool\",\"id\":\"p1421\"},{\"type\":\"object\",\"name\":\"ResetTool\",\"id\":\"p1422\"},{\"type\":\"object\",\"name\":\"HelpTool\",\"id\":\"p1423\"}]}},\"left\":[{\"type\":\"object\",\"name\":\"LinearAxis\",\"id\":\"p1412\",\"attributes\":{\"ticker\":{\"type\":\"object\",\"name\":\"BasicTicker\",\"id\":\"p1413\",\"attributes\":{\"mantissas\":[1,2,5]}},\"formatter\":{\"type\":\"object\",\"name\":\"BasicTickFormatter\",\"id\":\"p1414\"},\"axis_label\":\"km/h\",\"major_label_policy\":{\"type\":\"object\",\"name\":\"AllLabels\",\"id\":\"p1415\"}}}],\"below\":[{\"type\":\"object\",\"name\":\"LinearAxis\",\"id\":\"p1407\",\"attributes\":{\"ticker\":{\"type\":\"object\",\"name\":\"BasicTicker\",\"id\":\"p1408\",\"attributes\":{\"mantissas\":[1,2,5]}},\"formatter\":{\"type\":\"object\",\"name\":\"BasicTickFormatter\",\"id\":\"p1409\"},\"axis_label\":\"seconds from exit\",\"major_label_policy\":{\"type\":\"object\",\"name\":\"AllLabels\",\"id\":\"p1410\"}}}],\"center\":[{\"type\":\"object\",\"name\":\"Grid\",\"id\":\"p1411\",\"attributes\":{\"axis\":{\"id\":\"p1407\"}}},{\"type\":\"object\",\"name\":\"Grid\",\"id\":\"p1416\",\"attributes\":{\"dimension\":1,\"axis\":{\"id\":\"p1412\"}}},{\"type\":\"object\",\"name\":\"Legend\",\"id\":\"p1433\",\"attributes\":{\"items\":[{\"type\":\"object\",\"name\":\"LegendItem\",\"id\":\"p1434\",\"attributes\":{\"label\":{\"type\":\"value\",\"value\":\"speed\"},\"renderers\":[{\"id\":\"p1430\"}]}}]}}]}}]}};\n",
       "  const render_items = [{\"docid\":\"6fe00372-c95b-44b3-bf2d-c91709d490e1\",\"roots\":{\"p1393\":\"be968bdf-c406-4ff3-9c97-f1fbc98aa376\"},\"root_ids\":[\"p1393\"]}];\n",
       "  root.Bokeh.embed.embed_items_notebook(docs_json, render_items);\n",
       "  }\n",
       "  if (root.Bokeh !== undefined) {\n",
       "    embed_document(root);\n",
       "  } else {\n",
       "    let attempts = 0;\n",
       "    const timer = setInterval(function(root) {\n",
       "      if (root.Bokeh !== undefined) {\n",
       "        clearInterval(timer);\n",
       "        embed_document(root);\n",
       "      } else {\n",
       "        attempts++;\n",
       "        if (attempts > 100) {\n",
       "          clearInterval(timer);\n",
       "          console.log(\"Bokeh: ERROR: Unable to run BokehJS code because BokehJS library is missing\");\n",
       "        }\n",
       "      }\n",
       "    }, 10, root)\n",
       "  }\n",
       "})(window);"
      ],
      "application/vnd.bokehjs_exec.v0+json": ""
     },
     "metadata": {
      "application/vnd.bokehjs_exec.v0+json": {
       "id": "p1393"
      }
     },
     "output_type": "display_data"
    },
    {
     "data": {
      "application/vnd.jupyter.widget-view+json": {
       "model_id": "e021b3b2ef144573a10b674114e2c4bd",
       "version_major": 2,
       "version_minor": 0
      },
      "text/plain": [
       "HTML(value='<hr><h1><span style=\"color: #0f0\">R6_18-17-00 jump - 🟢 valid</span></h1>')"
      ]
     },
     "metadata": {},
     "output_type": "display_data"
    },
    {
     "data": {
      "application/vnd.jupyter.widget-view+json": {
       "model_id": "6eb4a5072043458194b74150ad97c6ab",
       "version_major": 2,
       "version_minor": 0
      },
      "text/plain": [
       "HTML(value='<h3>Max speed = 438; exit at 4126 m (13537 ft), end scoring window at 1870 m (6136 ft)</h3>')"
      ]
     },
     "metadata": {},
     "output_type": "display_data"
    },
    {
     "data": {
      "text/html": [
       "\n",
       "  <div id=\"f23db152-f1ed-43b4-839c-b5c38d1a8fe3\" data-root-id=\"p1483\" style=\"display: contents;\"></div>\n"
      ]
     },
     "metadata": {},
     "output_type": "display_data"
    },
    {
     "data": {
      "application/javascript": [
       "(function(root) {\n",
       "  function embed_document(root) {\n",
       "  const docs_json = {\"8c14ea0e-7b29-435b-a3aa-2c5347503393\":{\"version\":\"3.2.2\",\"title\":\"Bokeh Application\",\"roots\":[{\"type\":\"object\",\"name\":\"Figure\",\"id\":\"p1483\",\"attributes\":{\"width\":900,\"height\":500,\"x_range\":{\"type\":\"object\",\"name\":\"Range1d\",\"id\":\"p1493\",\"attributes\":{\"end\":40.0}},\"y_range\":{\"type\":\"object\",\"name\":\"Range1d\",\"id\":\"p1494\",\"attributes\":{\"end\":550.0}},\"x_scale\":{\"type\":\"object\",\"name\":\"LinearScale\",\"id\":\"p1495\"},\"y_scale\":{\"type\":\"object\",\"name\":\"LinearScale\",\"id\":\"p1496\"},\"title\":{\"type\":\"object\",\"name\":\"Title\",\"id\":\"p1486\",\"attributes\":{\"text\":\"R6_18-17-00\"}},\"renderers\":[{\"type\":\"object\",\"name\":\"GlyphRenderer\",\"id\":\"p1520\",\"attributes\":{\"data_source\":{\"type\":\"object\",\"name\":\"ColumnDataSource\",\"id\":\"p1514\",\"attributes\":{\"selected\":{\"type\":\"object\",\"name\":\"Selection\",\"id\":\"p1515\",\"attributes\":{\"indices\":[],\"line_indices\":[]}},\"selection_policy\":{\"type\":\"object\",\"name\":\"UnionRenderers\",\"id\":\"p1516\"},\"data\":{\"type\":\"map\",\"entries\":[[\"x\",{\"type\":\"ndarray\",\"array\":{\"type\":\"bytes\",\"data\":\"AAAAAAAAAAAAAAAAmpnJPwAAAACamdk/AAAAgDMz4z8AAACAmZnpPwAAAAAAAPA/AAAAQDMz8z8AAACAZmb2PwAAAMCZmfk/AAAAwMzM/D8AAAAAAAAAQAAAAKCZmQFAAAAAQDMzA0AAAADgzMwEQAAAAGBmZgZAAAAAAAAACEAAAACgmZkJQAAAAEAzMwtAAAAA4MzMDEAAAABgZmYOQAAAAAAAABBAAAAA0MzMEEAAAACgmZkRQAAAAHBmZhJAAAAAMDMzE0AAAAAAAAAUQAAAANDMzBRAAAAAoJmZFUAAAABwZmYWQAAAADAzMxdAAAAAAAAAGEAAAADQzMwYQAAAAKCZmRlAAAAAcGZmGkAAAAAwMzMbQAAAAAAAABxAAAAA0MzMHEAAAACgmZkdQAAAAHBmZh5AAAAAMDMzH0AAAAAAAAAgQAAAAGhmZiBAAAAA0MzMIEAAAAA4MzMhQAAAAJiZmSFAAAAAAAAAIkAAAABoZmYiQAAAANDMzCJAAAAAODMzI0AAAACYmZkjQAAAAAAAACRAAAAAaGZmJEAAAADQzMwkQAAAADgzMyVAAAAAmJmZJUAAAAAAAAAmQAAAAGhmZiZAAAAA0MzMJkAAAAA4MzMnQAAAAJiZmSdAAAAAAAAAKEAAAABoZmYoQAAAANDMzChAAAAAODMzKUAAAACYmZkpQAAAAAAAACpAAAAAaGZmKkAAAADQzMwqQAAAADgzMytAAAAAmJmZK0AAAAAAAAAsQAAAAGhmZixAAAAA0MzMLEAAAAA4MzMtQAAAAJiZmS1AAAAAAAAALkAAAABoZmYuQAAAANDMzC5AAAAAODMzL0AAAACYmZkvQAAAAAAAADBAAAAANDMzMEAAAABoZmYwQAAAAJyZmTBAAAAAzMzMMEAAAAAAAAAxQAAAADQzMzFAAAAAaGZmMUAAAACcmZkxQAAAAMzMzDFAAAAAAAAAMkAAAAA0MzMyQAAAAGhmZjJAAAAAnJmZMkAAAADMzMwyQAAAAAAAADNAAAAANDMzM0AAAABoZmYzQAAAAJyZmTNAAAAAzMzMM0AAAAAAAAA0QAAAADQzMzRAAAAAaGZmNEAAAACcmZk0QAAAAMzMzDRAAAAAAAAANUAAAAA0MzM1QAAAAGhmZjVAAAAAnJmZNUAAAADMzMw1QAAAAAAAADZAAAAANDMzNkAAAABoZmY2QAAAAJyZmTZAAAAAzMzMNkAAAAAAAAA3QAAAADQzMzdAAAAAaGZmN0AAAACcmZk3QAAAAMzMzDdAAAAAAAAAOEAAAAA0MzM4QAAAAGhmZjhAAAAAnJmZOEAAAADMzMw4QAAAAAAAADlAAAAANDMzOUAAAABoZmY5QAAAAJyZmTlAAAAAzMzMOUAAAAAAAAA6QA==\"},\"shape\":[131],\"dtype\":\"float64\",\"order\":\"little\"}],[\"y\",{\"type\":\"ndarray\",\"array\":{\"type\":\"bytes\",\"data\":\"5/up8dJNJECmm8QgsHItQAisHFpkOzRAUI2XbhKDPEAnMQisHFpBQJduEoPACkVAAAAAAADASEDTTWIQWDlMQJVDi2znu09AxSCwcmiRUUCiRbbz/VRTQMHKoUW281RAke18PzW+VkDByqFFtlNYQC2yne+nxllAWDm0yHZeW0CkcD0K1+NcQMyhRbbzfV5AJzEIrBz6X0BMN4lBYLVgQOSlm8QggGFAexSuR+FKYkAGgZVDixxjQLByaJHt3GNAZDvfT42XZED2KFyPwmVlQLbz/dR4GWZAUrgehevhZkAfhetRuI5nQOomMQisPGhA2c73U+PVaECBlUOLbJdpQIGVQ4tsJ2pAQmDl0CLbakDwp8ZLN5lrQLtJDAIrR2xAfBSuR+H6bEA/NV66SaxtQA8tsp3vV25A5KWbxCAAb0CvR+F6FK5vQM3MzMzMJHBAu0kMAit3cEAj2/l+asxwQKJFtvP9FHFAQmDl0CJLcUBt5/up8XpxQNNNYhBYiXFAJQaBlUOjcUB/arx0k7hxQDMzMzMz43FA0SLb+X4ackBnZmZmZlZyQIts5/upiXJArkfhehS+ckDByqFFtvtyQMUgsHJoQXNAzczMzMyEc0DHSzeJQdBzQM3MzMzMFHRAVeOlm8RYdEDZzvdT4510QGQ730+N33RAbef7qfEidUB7FK5H4WJ1QJZDi2znm3VAne+nxkvfdUAzMzMzMxt2QMUgsHJoWXZA5tAi2/mOdkCDwMqhRcZ2QKRwPQrX+3ZAy6FFtvMtd0Dn+6nx0mV3QI6XbhKDmHdAMQisHFrMd0DVeOkmMQB4QH9qvHSTMHhArkfhehReeEDfT42Xbop4QJZDi2zns3hAz/dT46XbeECF61G4HgV5QEjhehSuJ3lAAAAAAABQeUBCYOXQInN5QIGVQ4tsl3lASgwCK4e2eUCsHFpkO8d5QAwCK4cW2XlAne+nxkvPeUA830+Nl755QDeJQWDlwHlAl24Sg8DSeUCXbhKDwNJ5QIlBYOXQ2nlAZ2ZmZmbueUA+CtejcAV6QJZDi2znG3pA6iYxCKw0ekBCYOXQIkt6QKJFtvP9XHpAC9ejcD1qekDqJjEIrHx6QEoMAiuHjnpAK4cW2c6fekD+1HjpJrl6QNEi2/l+0npAJzEIrBzqekD4U+OlmwR7QNEi2/l+GntArBxaZDsve0AGgZVDi0R7QPT91HjpTntAXrpJDAJbe0BSuB6F62F7QNnO91PjXXtA7FG4HoVTe0AIrBxaZEN7QC2yne+nLntAPN9PjZcme0BbZDvfTxV7QPLSTWIQCHtAexSuR+ECe0ASg8DKofV6QBov3SQG8XpAMN0kBoHlekDZzvdT4816QOomMQisxHpA6iYxCKzEekB3vp8aL716QA==\"},\"shape\":[131],\"dtype\":\"float64\",\"order\":\"little\"}]]}}},\"view\":{\"type\":\"object\",\"name\":\"CDSView\",\"id\":\"p1521\",\"attributes\":{\"filter\":{\"type\":\"object\",\"name\":\"AllIndices\",\"id\":\"p1522\"}}},\"glyph\":{\"type\":\"object\",\"name\":\"Line\",\"id\":\"p1517\",\"attributes\":{\"x\":{\"type\":\"field\",\"field\":\"x\"},\"y\":{\"type\":\"field\",\"field\":\"y\"},\"line_color\":\"blue\",\"line_width\":2}},\"nonselection_glyph\":{\"type\":\"object\",\"name\":\"Line\",\"id\":\"p1518\",\"attributes\":{\"x\":{\"type\":\"field\",\"field\":\"x\"},\"y\":{\"type\":\"field\",\"field\":\"y\"},\"line_color\":\"blue\",\"line_alpha\":0.1,\"line_width\":2}},\"muted_glyph\":{\"type\":\"object\",\"name\":\"Line\",\"id\":\"p1519\",\"attributes\":{\"x\":{\"type\":\"field\",\"field\":\"x\"},\"y\":{\"type\":\"field\",\"field\":\"y\"},\"line_color\":\"blue\",\"line_alpha\":0.2,\"line_width\":2}}}},{\"type\":\"object\",\"name\":\"GlyphRenderer\",\"id\":\"p1531\",\"attributes\":{\"data_source\":{\"type\":\"object\",\"name\":\"ColumnDataSource\",\"id\":\"p1525\",\"attributes\":{\"selected\":{\"type\":\"object\",\"name\":\"Selection\",\"id\":\"p1526\",\"attributes\":{\"indices\":[],\"line_indices\":[]}},\"selection_policy\":{\"type\":\"object\",\"name\":\"UnionRenderers\",\"id\":\"p1527\"},\"data\":{\"type\":\"map\",\"entries\":[[\"x0\",[22.799999952316284]],[\"y0\",[0.0]],[\"x1\",[22.799999952316284]],[\"y1\",[432.99]]]}}},\"view\":{\"type\":\"object\",\"name\":\"CDSView\",\"id\":\"p1532\",\"attributes\":{\"filter\":{\"type\":\"object\",\"name\":\"AllIndices\",\"id\":\"p1533\"}}},\"glyph\":{\"type\":\"object\",\"name\":\"Segment\",\"id\":\"p1528\",\"attributes\":{\"x0\":{\"type\":\"field\",\"field\":\"x0\"},\"y0\":{\"type\":\"field\",\"field\":\"y0\"},\"x1\":{\"type\":\"field\",\"field\":\"x1\"},\"y1\":{\"type\":\"field\",\"field\":\"y1\"},\"line_color\":{\"type\":\"value\",\"value\":\"green\"},\"line_width\":{\"type\":\"value\",\"value\":3}}},\"nonselection_glyph\":{\"type\":\"object\",\"name\":\"Segment\",\"id\":\"p1529\",\"attributes\":{\"x0\":{\"type\":\"field\",\"field\":\"x0\"},\"y0\":{\"type\":\"field\",\"field\":\"y0\"},\"x1\":{\"type\":\"field\",\"field\":\"x1\"},\"y1\":{\"type\":\"field\",\"field\":\"y1\"},\"line_color\":{\"type\":\"value\",\"value\":\"green\"},\"line_alpha\":{\"type\":\"value\",\"value\":0.1},\"line_width\":{\"type\":\"value\",\"value\":3}}},\"muted_glyph\":{\"type\":\"object\",\"name\":\"Segment\",\"id\":\"p1530\",\"attributes\":{\"x0\":{\"type\":\"field\",\"field\":\"x0\"},\"y0\":{\"type\":\"field\",\"field\":\"y0\"},\"x1\":{\"type\":\"field\",\"field\":\"x1\"},\"y1\":{\"type\":\"field\",\"field\":\"y1\"},\"line_color\":{\"type\":\"value\",\"value\":\"green\"},\"line_alpha\":{\"type\":\"value\",\"value\":0.2},\"line_width\":{\"type\":\"value\",\"value\":3}}}}},{\"type\":\"object\",\"name\":\"GlyphRenderer\",\"id\":\"p1540\",\"attributes\":{\"data_source\":{\"type\":\"object\",\"name\":\"ColumnDataSource\",\"id\":\"p1534\",\"attributes\":{\"selected\":{\"type\":\"object\",\"name\":\"Selection\",\"id\":\"p1535\",\"attributes\":{\"indices\":[],\"line_indices\":[]}},\"selection_policy\":{\"type\":\"object\",\"name\":\"UnionRenderers\",\"id\":\"p1536\"},\"data\":{\"type\":\"map\",\"entries\":[[\"x0\",[24.299999952316284]],[\"y0\",[0.0]],[\"x1\",[24.299999952316284]],[\"y1\",[432.99]]]}}},\"view\":{\"type\":\"object\",\"name\":\"CDSView\",\"id\":\"p1541\",\"attributes\":{\"filter\":{\"type\":\"object\",\"name\":\"AllIndices\",\"id\":\"p1542\"}}},\"glyph\":{\"type\":\"object\",\"name\":\"Segment\",\"id\":\"p1537\",\"attributes\":{\"x0\":{\"type\":\"field\",\"field\":\"x0\"},\"y0\":{\"type\":\"field\",\"field\":\"y0\"},\"x1\":{\"type\":\"field\",\"field\":\"x1\"},\"y1\":{\"type\":\"field\",\"field\":\"y1\"},\"line_color\":{\"type\":\"value\",\"value\":\"darkseagreen\"}}},\"nonselection_glyph\":{\"type\":\"object\",\"name\":\"Segment\",\"id\":\"p1538\",\"attributes\":{\"x0\":{\"type\":\"field\",\"field\":\"x0\"},\"y0\":{\"type\":\"field\",\"field\":\"y0\"},\"x1\":{\"type\":\"field\",\"field\":\"x1\"},\"y1\":{\"type\":\"field\",\"field\":\"y1\"},\"line_color\":{\"type\":\"value\",\"value\":\"darkseagreen\"},\"line_alpha\":{\"type\":\"value\",\"value\":0.1}}},\"muted_glyph\":{\"type\":\"object\",\"name\":\"Segment\",\"id\":\"p1539\",\"attributes\":{\"x0\":{\"type\":\"field\",\"field\":\"x0\"},\"y0\":{\"type\":\"field\",\"field\":\"y0\"},\"x1\":{\"type\":\"field\",\"field\":\"x1\"},\"y1\":{\"type\":\"field\",\"field\":\"y1\"},\"line_color\":{\"type\":\"value\",\"value\":\"darkseagreen\"},\"line_alpha\":{\"type\":\"value\",\"value\":0.2}}}}},{\"type\":\"object\",\"name\":\"GlyphRenderer\",\"id\":\"p1549\",\"attributes\":{\"data_source\":{\"type\":\"object\",\"name\":\"ColumnDataSource\",\"id\":\"p1543\",\"attributes\":{\"selected\":{\"type\":\"object\",\"name\":\"Selection\",\"id\":\"p1544\",\"attributes\":{\"indices\":[],\"line_indices\":[]}},\"selection_policy\":{\"type\":\"object\",\"name\":\"UnionRenderers\",\"id\":\"p1545\"},\"data\":{\"type\":\"map\",\"entries\":[[\"x0\",[21.299999952316284]],[\"y0\",[0.0]],[\"x1\",[21.299999952316284]],[\"y1\",[432.99]]]}}},\"view\":{\"type\":\"object\",\"name\":\"CDSView\",\"id\":\"p1550\",\"attributes\":{\"filter\":{\"type\":\"object\",\"name\":\"AllIndices\",\"id\":\"p1551\"}}},\"glyph\":{\"type\":\"object\",\"name\":\"Segment\",\"id\":\"p1546\",\"attributes\":{\"x0\":{\"type\":\"field\",\"field\":\"x0\"},\"y0\":{\"type\":\"field\",\"field\":\"y0\"},\"x1\":{\"type\":\"field\",\"field\":\"x1\"},\"y1\":{\"type\":\"field\",\"field\":\"y1\"},\"line_color\":{\"type\":\"value\",\"value\":\"darkseagreen\"}}},\"nonselection_glyph\":{\"type\":\"object\",\"name\":\"Segment\",\"id\":\"p1547\",\"attributes\":{\"x0\":{\"type\":\"field\",\"field\":\"x0\"},\"y0\":{\"type\":\"field\",\"field\":\"y0\"},\"x1\":{\"type\":\"field\",\"field\":\"x1\"},\"y1\":{\"type\":\"field\",\"field\":\"y1\"},\"line_color\":{\"type\":\"value\",\"value\":\"darkseagreen\"},\"line_alpha\":{\"type\":\"value\",\"value\":0.1}}},\"muted_glyph\":{\"type\":\"object\",\"name\":\"Segment\",\"id\":\"p1548\",\"attributes\":{\"x0\":{\"type\":\"field\",\"field\":\"x0\"},\"y0\":{\"type\":\"field\",\"field\":\"y0\"},\"x1\":{\"type\":\"field\",\"field\":\"x1\"},\"y1\":{\"type\":\"field\",\"field\":\"y1\"},\"line_color\":{\"type\":\"value\",\"value\":\"darkseagreen\"},\"line_alpha\":{\"type\":\"value\",\"value\":0.2}}}}},{\"type\":\"object\",\"name\":\"GlyphRenderer\",\"id\":\"p1558\",\"attributes\":{\"data_source\":{\"type\":\"object\",\"name\":\"ColumnDataSource\",\"id\":\"p1552\",\"attributes\":{\"selected\":{\"type\":\"object\",\"name\":\"Selection\",\"id\":\"p1553\",\"attributes\":{\"indices\":[],\"line_indices\":[]}},\"selection_policy\":{\"type\":\"object\",\"name\":\"UnionRenderers\",\"id\":\"p1554\"},\"data\":{\"type\":\"map\",\"entries\":[[\"x\",[22.799999952316284]],[\"y\",[432.99]],[\"size\",[20]]]}}},\"view\":{\"type\":\"object\",\"name\":\"CDSView\",\"id\":\"p1559\",\"attributes\":{\"filter\":{\"type\":\"object\",\"name\":\"AllIndices\",\"id\":\"p1560\"}}},\"glyph\":{\"type\":\"object\",\"name\":\"Scatter\",\"id\":\"p1555\",\"attributes\":{\"x\":{\"type\":\"field\",\"field\":\"x\"},\"y\":{\"type\":\"field\",\"field\":\"y\"},\"size\":{\"type\":\"field\",\"field\":\"size\"},\"line_color\":{\"type\":\"value\",\"value\":\"green\"},\"line_width\":{\"type\":\"value\",\"value\":3},\"fill_color\":{\"type\":\"value\",\"value\":null},\"marker\":{\"type\":\"value\",\"value\":\"square_cross\"}}},\"nonselection_glyph\":{\"type\":\"object\",\"name\":\"Scatter\",\"id\":\"p1556\",\"attributes\":{\"x\":{\"type\":\"field\",\"field\":\"x\"},\"y\":{\"type\":\"field\",\"field\":\"y\"},\"size\":{\"type\":\"field\",\"field\":\"size\"},\"line_color\":{\"type\":\"value\",\"value\":\"green\"},\"line_alpha\":{\"type\":\"value\",\"value\":0.1},\"line_width\":{\"type\":\"value\",\"value\":3},\"fill_color\":{\"type\":\"value\",\"value\":null},\"fill_alpha\":{\"type\":\"value\",\"value\":0.1},\"hatch_alpha\":{\"type\":\"value\",\"value\":0.1},\"marker\":{\"type\":\"value\",\"value\":\"square_cross\"}}},\"muted_glyph\":{\"type\":\"object\",\"name\":\"Scatter\",\"id\":\"p1557\",\"attributes\":{\"x\":{\"type\":\"field\",\"field\":\"x\"},\"y\":{\"type\":\"field\",\"field\":\"y\"},\"size\":{\"type\":\"field\",\"field\":\"size\"},\"line_color\":{\"type\":\"value\",\"value\":\"green\"},\"line_alpha\":{\"type\":\"value\",\"value\":0.2},\"line_width\":{\"type\":\"value\",\"value\":3},\"fill_color\":{\"type\":\"value\",\"value\":null},\"fill_alpha\":{\"type\":\"value\",\"value\":0.2},\"hatch_alpha\":{\"type\":\"value\",\"value\":0.2},\"marker\":{\"type\":\"value\",\"value\":\"square_cross\"}}}}}],\"toolbar\":{\"type\":\"object\",\"name\":\"Toolbar\",\"id\":\"p1492\",\"attributes\":{\"tools\":[{\"type\":\"object\",\"name\":\"PanTool\",\"id\":\"p1507\"},{\"type\":\"object\",\"name\":\"WheelZoomTool\",\"id\":\"p1508\"},{\"type\":\"object\",\"name\":\"BoxZoomTool\",\"id\":\"p1509\",\"attributes\":{\"overlay\":{\"type\":\"object\",\"name\":\"BoxAnnotation\",\"id\":\"p1510\",\"attributes\":{\"syncable\":false,\"level\":\"overlay\",\"visible\":false,\"left_units\":\"canvas\",\"right_units\":\"canvas\",\"bottom_units\":\"canvas\",\"top_units\":\"canvas\",\"line_color\":\"black\",\"line_alpha\":1.0,\"line_width\":2,\"line_dash\":[4,4],\"fill_color\":\"lightgrey\",\"fill_alpha\":0.5}}}},{\"type\":\"object\",\"name\":\"SaveTool\",\"id\":\"p1511\"},{\"type\":\"object\",\"name\":\"ResetTool\",\"id\":\"p1512\"},{\"type\":\"object\",\"name\":\"HelpTool\",\"id\":\"p1513\"}]}},\"left\":[{\"type\":\"object\",\"name\":\"LinearAxis\",\"id\":\"p1502\",\"attributes\":{\"ticker\":{\"type\":\"object\",\"name\":\"BasicTicker\",\"id\":\"p1503\",\"attributes\":{\"mantissas\":[1,2,5]}},\"formatter\":{\"type\":\"object\",\"name\":\"BasicTickFormatter\",\"id\":\"p1504\"},\"axis_label\":\"km/h\",\"major_label_policy\":{\"type\":\"object\",\"name\":\"AllLabels\",\"id\":\"p1505\"}}}],\"below\":[{\"type\":\"object\",\"name\":\"LinearAxis\",\"id\":\"p1497\",\"attributes\":{\"ticker\":{\"type\":\"object\",\"name\":\"BasicTicker\",\"id\":\"p1498\",\"attributes\":{\"mantissas\":[1,2,5]}},\"formatter\":{\"type\":\"object\",\"name\":\"BasicTickFormatter\",\"id\":\"p1499\"},\"axis_label\":\"seconds from exit\",\"major_label_policy\":{\"type\":\"object\",\"name\":\"AllLabels\",\"id\":\"p1500\"}}}],\"center\":[{\"type\":\"object\",\"name\":\"Grid\",\"id\":\"p1501\",\"attributes\":{\"axis\":{\"id\":\"p1497\"}}},{\"type\":\"object\",\"name\":\"Grid\",\"id\":\"p1506\",\"attributes\":{\"dimension\":1,\"axis\":{\"id\":\"p1502\"}}},{\"type\":\"object\",\"name\":\"Legend\",\"id\":\"p1523\",\"attributes\":{\"items\":[{\"type\":\"object\",\"name\":\"LegendItem\",\"id\":\"p1524\",\"attributes\":{\"label\":{\"type\":\"value\",\"value\":\"speed\"},\"renderers\":[{\"id\":\"p1520\"}]}}]}}]}}]}};\n",
       "  const render_items = [{\"docid\":\"8c14ea0e-7b29-435b-a3aa-2c5347503393\",\"roots\":{\"p1483\":\"f23db152-f1ed-43b4-839c-b5c38d1a8fe3\"},\"root_ids\":[\"p1483\"]}];\n",
       "  root.Bokeh.embed.embed_items_notebook(docs_json, render_items);\n",
       "  }\n",
       "  if (root.Bokeh !== undefined) {\n",
       "    embed_document(root);\n",
       "  } else {\n",
       "    let attempts = 0;\n",
       "    const timer = setInterval(function(root) {\n",
       "      if (root.Bokeh !== undefined) {\n",
       "        clearInterval(timer);\n",
       "        embed_document(root);\n",
       "      } else {\n",
       "        attempts++;\n",
       "        if (attempts > 100) {\n",
       "          clearInterval(timer);\n",
       "          console.log(\"Bokeh: ERROR: Unable to run BokehJS code because BokehJS library is missing\");\n",
       "        }\n",
       "      }\n",
       "    }, 10, root)\n",
       "  }\n",
       "})(window);"
      ],
      "application/vnd.bokehjs_exec.v0+json": ""
     },
     "metadata": {
      "application/vnd.bokehjs_exec.v0+json": {
       "id": "p1483"
      }
     },
     "output_type": "display_data"
    },
    {
     "data": {
      "application/vnd.jupyter.widget-view+json": {
       "model_id": "bc40186ec29340f3a2f9f8f1905fd013",
       "version_major": 2,
       "version_minor": 0
      },
      "text/plain": [
       "HTML(value='<hr><h1><span style=\"color: #0f0\">R7_11-49-45 jump - 🟢 valid</span></h1>')"
      ]
     },
     "metadata": {},
     "output_type": "display_data"
    },
    {
     "data": {
      "application/vnd.jupyter.widget-view+json": {
       "model_id": "b07deaf97c50420f94601d9f7965333f",
       "version_major": 2,
       "version_minor": 0
      },
      "text/plain": [
       "HTML(value='<h3>Max speed = 446; exit at 4084 m (13400 ft), end scoring window at 1828 m (5998 ft)</h3>')"
      ]
     },
     "metadata": {},
     "output_type": "display_data"
    },
    {
     "data": {
      "text/html": [
       "\n",
       "  <div id=\"a5e29de6-4409-43f9-af94-00c62e65f9f6\" data-root-id=\"p1573\" style=\"display: contents;\"></div>\n"
      ]
     },
     "metadata": {},
     "output_type": "display_data"
    },
    {
     "data": {
      "application/javascript": [
       "(function(root) {\n",
       "  function embed_document(root) {\n",
       "  const docs_json = {\"7ecaaea9-4343-441a-8f0a-c771c85a1b9e\":{\"version\":\"3.2.2\",\"title\":\"Bokeh Application\",\"roots\":[{\"type\":\"object\",\"name\":\"Figure\",\"id\":\"p1573\",\"attributes\":{\"width\":900,\"height\":500,\"x_range\":{\"type\":\"object\",\"name\":\"Range1d\",\"id\":\"p1583\",\"attributes\":{\"end\":40.0}},\"y_range\":{\"type\":\"object\",\"name\":\"Range1d\",\"id\":\"p1584\",\"attributes\":{\"end\":550.0}},\"x_scale\":{\"type\":\"object\",\"name\":\"LinearScale\",\"id\":\"p1585\"},\"y_scale\":{\"type\":\"object\",\"name\":\"LinearScale\",\"id\":\"p1586\"},\"title\":{\"type\":\"object\",\"name\":\"Title\",\"id\":\"p1576\",\"attributes\":{\"text\":\"R7_11-49-45\"}},\"renderers\":[{\"type\":\"object\",\"name\":\"GlyphRenderer\",\"id\":\"p1610\",\"attributes\":{\"data_source\":{\"type\":\"object\",\"name\":\"ColumnDataSource\",\"id\":\"p1604\",\"attributes\":{\"selected\":{\"type\":\"object\",\"name\":\"Selection\",\"id\":\"p1605\",\"attributes\":{\"indices\":[],\"line_indices\":[]}},\"selection_policy\":{\"type\":\"object\",\"name\":\"UnionRenderers\",\"id\":\"p1606\"},\"data\":{\"type\":\"map\",\"entries\":[[\"x\",{\"type\":\"ndarray\",\"array\":{\"type\":\"bytes\",\"data\":\"AAAAAAAAAAAAAAAAmpnJPwAAAACamdk/AAAAgDMz4z8AAAAAmpnpPwAAAAAAAPA/AAAAQDMz8z8AAACAZmb2PwAAAMCZmfk/AAAAAM3M/D8AAAAAAAAAQAAAAKCZmQFAAAAAQDMzA0AAAADgzMwEQAAAAIBmZgZAAAAAAAAACEAAAACgmZkJQAAAAEAzMwtAAAAA4MzMDEAAAACAZmYOQAAAAAAAABBAAAAA0MzMEEAAAACgmZkRQAAAAHBmZhJAAAAAQDMzE0AAAAAAAAAUQAAAANDMzBRAAAAAoJmZFUAAAABwZmYWQAAAAEAzMxdAAAAAAAAAGEAAAADQzMwYQAAAAKCZmRlAAAAAcGZmGkAAAABAMzMbQAAAAAAAABxAAAAA0MzMHEAAAACgmZkdQAAAAHBmZh5AAAAAQDMzH0AAAAAAAAAgQAAAAGhmZiBAAAAA0MzMIEAAAAA4MzMhQAAAAKCZmSFAAAAAAAAAIkAAAABoZmYiQAAAANDMzCJAAAAAODMzI0AAAACgmZkjQAAAAAAAACRAAAAAaGZmJEAAAADQzMwkQAAAADgzMyVAAAAAoJmZJUAAAAAAAAAmQAAAAGhmZiZAAAAA0MzMJkAAAAA4MzMnQAAAAKCZmSdAAAAAAAAAKEAAAABoZmYoQAAAANDMzChAAAAAODMzKUAAAACgmZkpQAAAAAAAACpAAAAAaGZmKkAAAADQzMwqQAAAADgzMytAAAAAoJmZK0AAAAAAAAAsQAAAAGhmZixAAAAA0MzMLEAAAAA4MzMtQAAAAKCZmS1AAAAAAAAALkAAAABoZmYuQAAAANDMzC5AAAAAODMzL0AAAACgmZkvQAAAAAAAADBAAAAANDMzMEAAAABoZmYwQAAAAJyZmTBAAAAA0MzMMEAAAAAAAAAxQAAAADQzMzFAAAAAaGZmMUAAAACcmZkxQAAAANDMzDFAAAAAAAAAMkAAAAA0MzMyQAAAAGhmZjJAAAAAnJmZMkAAAADQzMwyQAAAAAAAADNAAAAANDMzM0AAAABoZmYzQAAAAJyZmTNAAAAA0MzMM0AAAAAAAAA0QAAAADQzMzRAAAAAaGZmNEAAAACcmZk0QAAAANDMzDRAAAAAAAAANUAAAAA0MzM1QAAAAGhmZjVAAAAAnJmZNUAAAADQzMw1QAAAAAAAADZAAAAANDMzNkAAAABoZmY2QAAAAJyZmTZAAAAA0MzMNkAAAAAAAAA3QAAAADQzMzdAAAAAaGZmN0AAAACcmZk3QAAAANDMzDdAAAAAAAAAOEAAAAA0MzM4QAAAAGhmZjhAAAAAnJmZOEAAAADQzMw4QAAAAAAAADlAAAAANDMzOUAAAABoZmY5QA==\"},\"shape\":[128],\"dtype\":\"float64\",\"order\":\"little\"}],[\"y\",{\"type\":\"ndarray\",\"array\":{\"type\":\"bytes\",\"data\":\"PzVeukkMKEDhehSuR2EwQMuhRbbzfTVA1XjpJjGIOkBEi2zn+ylAQI/C9Shcz0JAYeXQItu5RUBcj8L1KBxJQIGVQ4tsZ0xAfT81XrrJT0Czne+nxitSQJduEoPA6lNAJzEIrBzaVUDC9Shcj8JXQKjGSzeJgVlAVeOlm8RgW0AYBFYOLTJdQNIi2/l+Cl9Ax0s3iUFwYEA5tMh2vk9hQLTIdr6fKmJAMzMzMzMDY0DP91PjpctjQEoMAiuHpmRA1XjpJjF4ZUBh5dAi20lmQAAAAAAAEGdAlkOLbOfbZ0BMN4lBYJVoQPhT46WbVGlAs53vp8YLakBzaJHtfL9qQB1aZDvff2tAyXa+nxo/bECe76fGS+dsQG4Sg8DKkW1AVzm0yHYubkA+CtejcM1uQB6F61G4bm9AeekmMQgMcEDb+X5qvGRwQEoMAiuHtnBAN4lBYOUIcUCuR+F6FFZxQB+F61G4pnFADAIrhxb5cUCBlUOLbEdyQIPAyqFFjnJAfT81XrrZckB3vp8aLyVzQH0/NV66aXNAgZVDi2yvc0AGgZVDi/RzQBFYObTINnRAj8L1KFx/dECXbhKDwMJ0QJ3vp8ZLB3VAJzEIrBxKdUA830+Nl4Z1QML1KFyPynVAW2Q7308FdkDufD81XkJ2QBFYObTIdnZAMQisHFqsdkBcj8L1KNx2QAAAAAAAEHdAoBov3SRGd0BEi2zn+3l3QOf7qfHSrXdAF9nO91Pbd0BFtvP91Ah4QHNoke18N3hAJzEIrBxieEBYObTIdo54QBKDwMqhtXhATDeJQWDdeEAdWmQ73/d4QPLSTWIQEHlAObTIdr4veUD0/dR46VZ5QL+fGi/ddHlAEoPAyqGNeUBh5dAi26l5QCuHFtnOx3lAc2iR7XzneUAw3SQGgQ16QG8Sg8DKMXpAMN0kBoFVekD4U+Olm3R6QL+fGi/dlHpABFYOLbK1ekBMN4lBYNV6QKAaL90k7npA/tR46SYBe0BkO99PjQ97QLx0kxgEJntAke18PzU+e0Dwp8ZLN1F7QMl2vp8aZ3tAtMh2vp9ye0AMAiuHFol7QOxRuB6Fm3tA2KNwPQqne0BEi2zn+7F7QDZeukkMuntAJQaBlUPDe0ASg8DKoc17QAAAAAAA2HtAAAAAAADYe0Bt5/up8eJ7QOf7qfHS5XtA/Knx0k3ae0AdWmQ738d7QEw3iUFgrXtAIbByaJF9e0CLbOf7qUF7QOF6FK5HEXtArBxaZDvnekBpke18P8V6QIXrUbgetXpAmpmZmZmpekCLbOf7qWl6QHsUrkfhKnpAN4lBYOUIekBV46WbxPh5QFyPwvUo9HlAcT0K16PoeUB3vp8aL+V5QA==\"},\"shape\":[128],\"dtype\":\"float64\",\"order\":\"little\"}]]}}},\"view\":{\"type\":\"object\",\"name\":\"CDSView\",\"id\":\"p1611\",\"attributes\":{\"filter\":{\"type\":\"object\",\"name\":\"AllIndices\",\"id\":\"p1612\"}}},\"glyph\":{\"type\":\"object\",\"name\":\"Line\",\"id\":\"p1607\",\"attributes\":{\"x\":{\"type\":\"field\",\"field\":\"x\"},\"y\":{\"type\":\"field\",\"field\":\"y\"},\"line_color\":\"blue\",\"line_width\":2}},\"nonselection_glyph\":{\"type\":\"object\",\"name\":\"Line\",\"id\":\"p1608\",\"attributes\":{\"x\":{\"type\":\"field\",\"field\":\"x\"},\"y\":{\"type\":\"field\",\"field\":\"y\"},\"line_color\":\"blue\",\"line_alpha\":0.1,\"line_width\":2}},\"muted_glyph\":{\"type\":\"object\",\"name\":\"Line\",\"id\":\"p1609\",\"attributes\":{\"x\":{\"type\":\"field\",\"field\":\"x\"},\"y\":{\"type\":\"field\",\"field\":\"y\"},\"line_color\":\"blue\",\"line_alpha\":0.2,\"line_width\":2}}}},{\"type\":\"object\",\"name\":\"GlyphRenderer\",\"id\":\"p1621\",\"attributes\":{\"data_source\":{\"type\":\"object\",\"name\":\"ColumnDataSource\",\"id\":\"p1615\",\"attributes\":{\"selected\":{\"type\":\"object\",\"name\":\"Selection\",\"id\":\"p1616\",\"attributes\":{\"indices\":[],\"line_indices\":[]}},\"selection_policy\":{\"type\":\"object\",\"name\":\"UnionRenderers\",\"id\":\"p1617\"},\"data\":{\"type\":\"map\",\"entries\":[[\"x0\",[19.40000009536743]],[\"y0\",[0.0]],[\"x1\",[19.40000009536743]],[\"y1\",[440.784]]]}}},\"view\":{\"type\":\"object\",\"name\":\"CDSView\",\"id\":\"p1622\",\"attributes\":{\"filter\":{\"type\":\"object\",\"name\":\"AllIndices\",\"id\":\"p1623\"}}},\"glyph\":{\"type\":\"object\",\"name\":\"Segment\",\"id\":\"p1618\",\"attributes\":{\"x0\":{\"type\":\"field\",\"field\":\"x0\"},\"y0\":{\"type\":\"field\",\"field\":\"y0\"},\"x1\":{\"type\":\"field\",\"field\":\"x1\"},\"y1\":{\"type\":\"field\",\"field\":\"y1\"},\"line_color\":{\"type\":\"value\",\"value\":\"green\"},\"line_width\":{\"type\":\"value\",\"value\":3}}},\"nonselection_glyph\":{\"type\":\"object\",\"name\":\"Segment\",\"id\":\"p1619\",\"attributes\":{\"x0\":{\"type\":\"field\",\"field\":\"x0\"},\"y0\":{\"type\":\"field\",\"field\":\"y0\"},\"x1\":{\"type\":\"field\",\"field\":\"x1\"},\"y1\":{\"type\":\"field\",\"field\":\"y1\"},\"line_color\":{\"type\":\"value\",\"value\":\"green\"},\"line_alpha\":{\"type\":\"value\",\"value\":0.1},\"line_width\":{\"type\":\"value\",\"value\":3}}},\"muted_glyph\":{\"type\":\"object\",\"name\":\"Segment\",\"id\":\"p1620\",\"attributes\":{\"x0\":{\"type\":\"field\",\"field\":\"x0\"},\"y0\":{\"type\":\"field\",\"field\":\"y0\"},\"x1\":{\"type\":\"field\",\"field\":\"x1\"},\"y1\":{\"type\":\"field\",\"field\":\"y1\"},\"line_color\":{\"type\":\"value\",\"value\":\"green\"},\"line_alpha\":{\"type\":\"value\",\"value\":0.2},\"line_width\":{\"type\":\"value\",\"value\":3}}}}},{\"type\":\"object\",\"name\":\"GlyphRenderer\",\"id\":\"p1630\",\"attributes\":{\"data_source\":{\"type\":\"object\",\"name\":\"ColumnDataSource\",\"id\":\"p1624\",\"attributes\":{\"selected\":{\"type\":\"object\",\"name\":\"Selection\",\"id\":\"p1625\",\"attributes\":{\"indices\":[],\"line_indices\":[]}},\"selection_policy\":{\"type\":\"object\",\"name\":\"UnionRenderers\",\"id\":\"p1626\"},\"data\":{\"type\":\"map\",\"entries\":[[\"x0\",[20.90000009536743]],[\"y0\",[0.0]],[\"x1\",[20.90000009536743]],[\"y1\",[440.784]]]}}},\"view\":{\"type\":\"object\",\"name\":\"CDSView\",\"id\":\"p1631\",\"attributes\":{\"filter\":{\"type\":\"object\",\"name\":\"AllIndices\",\"id\":\"p1632\"}}},\"glyph\":{\"type\":\"object\",\"name\":\"Segment\",\"id\":\"p1627\",\"attributes\":{\"x0\":{\"type\":\"field\",\"field\":\"x0\"},\"y0\":{\"type\":\"field\",\"field\":\"y0\"},\"x1\":{\"type\":\"field\",\"field\":\"x1\"},\"y1\":{\"type\":\"field\",\"field\":\"y1\"},\"line_color\":{\"type\":\"value\",\"value\":\"darkseagreen\"}}},\"nonselection_glyph\":{\"type\":\"object\",\"name\":\"Segment\",\"id\":\"p1628\",\"attributes\":{\"x0\":{\"type\":\"field\",\"field\":\"x0\"},\"y0\":{\"type\":\"field\",\"field\":\"y0\"},\"x1\":{\"type\":\"field\",\"field\":\"x1\"},\"y1\":{\"type\":\"field\",\"field\":\"y1\"},\"line_color\":{\"type\":\"value\",\"value\":\"darkseagreen\"},\"line_alpha\":{\"type\":\"value\",\"value\":0.1}}},\"muted_glyph\":{\"type\":\"object\",\"name\":\"Segment\",\"id\":\"p1629\",\"attributes\":{\"x0\":{\"type\":\"field\",\"field\":\"x0\"},\"y0\":{\"type\":\"field\",\"field\":\"y0\"},\"x1\":{\"type\":\"field\",\"field\":\"x1\"},\"y1\":{\"type\":\"field\",\"field\":\"y1\"},\"line_color\":{\"type\":\"value\",\"value\":\"darkseagreen\"},\"line_alpha\":{\"type\":\"value\",\"value\":0.2}}}}},{\"type\":\"object\",\"name\":\"GlyphRenderer\",\"id\":\"p1639\",\"attributes\":{\"data_source\":{\"type\":\"object\",\"name\":\"ColumnDataSource\",\"id\":\"p1633\",\"attributes\":{\"selected\":{\"type\":\"object\",\"name\":\"Selection\",\"id\":\"p1634\",\"attributes\":{\"indices\":[],\"line_indices\":[]}},\"selection_policy\":{\"type\":\"object\",\"name\":\"UnionRenderers\",\"id\":\"p1635\"},\"data\":{\"type\":\"map\",\"entries\":[[\"x0\",[17.90000009536743]],[\"y0\",[0.0]],[\"x1\",[17.90000009536743]],[\"y1\",[440.784]]]}}},\"view\":{\"type\":\"object\",\"name\":\"CDSView\",\"id\":\"p1640\",\"attributes\":{\"filter\":{\"type\":\"object\",\"name\":\"AllIndices\",\"id\":\"p1641\"}}},\"glyph\":{\"type\":\"object\",\"name\":\"Segment\",\"id\":\"p1636\",\"attributes\":{\"x0\":{\"type\":\"field\",\"field\":\"x0\"},\"y0\":{\"type\":\"field\",\"field\":\"y0\"},\"x1\":{\"type\":\"field\",\"field\":\"x1\"},\"y1\":{\"type\":\"field\",\"field\":\"y1\"},\"line_color\":{\"type\":\"value\",\"value\":\"darkseagreen\"}}},\"nonselection_glyph\":{\"type\":\"object\",\"name\":\"Segment\",\"id\":\"p1637\",\"attributes\":{\"x0\":{\"type\":\"field\",\"field\":\"x0\"},\"y0\":{\"type\":\"field\",\"field\":\"y0\"},\"x1\":{\"type\":\"field\",\"field\":\"x1\"},\"y1\":{\"type\":\"field\",\"field\":\"y1\"},\"line_color\":{\"type\":\"value\",\"value\":\"darkseagreen\"},\"line_alpha\":{\"type\":\"value\",\"value\":0.1}}},\"muted_glyph\":{\"type\":\"object\",\"name\":\"Segment\",\"id\":\"p1638\",\"attributes\":{\"x0\":{\"type\":\"field\",\"field\":\"x0\"},\"y0\":{\"type\":\"field\",\"field\":\"y0\"},\"x1\":{\"type\":\"field\",\"field\":\"x1\"},\"y1\":{\"type\":\"field\",\"field\":\"y1\"},\"line_color\":{\"type\":\"value\",\"value\":\"darkseagreen\"},\"line_alpha\":{\"type\":\"value\",\"value\":0.2}}}}},{\"type\":\"object\",\"name\":\"GlyphRenderer\",\"id\":\"p1648\",\"attributes\":{\"data_source\":{\"type\":\"object\",\"name\":\"ColumnDataSource\",\"id\":\"p1642\",\"attributes\":{\"selected\":{\"type\":\"object\",\"name\":\"Selection\",\"id\":\"p1643\",\"attributes\":{\"indices\":[],\"line_indices\":[]}},\"selection_policy\":{\"type\":\"object\",\"name\":\"UnionRenderers\",\"id\":\"p1644\"},\"data\":{\"type\":\"map\",\"entries\":[[\"x\",[19.40000009536743]],[\"y\",[440.784]],[\"size\",[20]]]}}},\"view\":{\"type\":\"object\",\"name\":\"CDSView\",\"id\":\"p1649\",\"attributes\":{\"filter\":{\"type\":\"object\",\"name\":\"AllIndices\",\"id\":\"p1650\"}}},\"glyph\":{\"type\":\"object\",\"name\":\"Scatter\",\"id\":\"p1645\",\"attributes\":{\"x\":{\"type\":\"field\",\"field\":\"x\"},\"y\":{\"type\":\"field\",\"field\":\"y\"},\"size\":{\"type\":\"field\",\"field\":\"size\"},\"line_color\":{\"type\":\"value\",\"value\":\"green\"},\"line_width\":{\"type\":\"value\",\"value\":3},\"fill_color\":{\"type\":\"value\",\"value\":null},\"marker\":{\"type\":\"value\",\"value\":\"square_cross\"}}},\"nonselection_glyph\":{\"type\":\"object\",\"name\":\"Scatter\",\"id\":\"p1646\",\"attributes\":{\"x\":{\"type\":\"field\",\"field\":\"x\"},\"y\":{\"type\":\"field\",\"field\":\"y\"},\"size\":{\"type\":\"field\",\"field\":\"size\"},\"line_color\":{\"type\":\"value\",\"value\":\"green\"},\"line_alpha\":{\"type\":\"value\",\"value\":0.1},\"line_width\":{\"type\":\"value\",\"value\":3},\"fill_color\":{\"type\":\"value\",\"value\":null},\"fill_alpha\":{\"type\":\"value\",\"value\":0.1},\"hatch_alpha\":{\"type\":\"value\",\"value\":0.1},\"marker\":{\"type\":\"value\",\"value\":\"square_cross\"}}},\"muted_glyph\":{\"type\":\"object\",\"name\":\"Scatter\",\"id\":\"p1647\",\"attributes\":{\"x\":{\"type\":\"field\",\"field\":\"x\"},\"y\":{\"type\":\"field\",\"field\":\"y\"},\"size\":{\"type\":\"field\",\"field\":\"size\"},\"line_color\":{\"type\":\"value\",\"value\":\"green\"},\"line_alpha\":{\"type\":\"value\",\"value\":0.2},\"line_width\":{\"type\":\"value\",\"value\":3},\"fill_color\":{\"type\":\"value\",\"value\":null},\"fill_alpha\":{\"type\":\"value\",\"value\":0.2},\"hatch_alpha\":{\"type\":\"value\",\"value\":0.2},\"marker\":{\"type\":\"value\",\"value\":\"square_cross\"}}}}}],\"toolbar\":{\"type\":\"object\",\"name\":\"Toolbar\",\"id\":\"p1582\",\"attributes\":{\"tools\":[{\"type\":\"object\",\"name\":\"PanTool\",\"id\":\"p1597\"},{\"type\":\"object\",\"name\":\"WheelZoomTool\",\"id\":\"p1598\"},{\"type\":\"object\",\"name\":\"BoxZoomTool\",\"id\":\"p1599\",\"attributes\":{\"overlay\":{\"type\":\"object\",\"name\":\"BoxAnnotation\",\"id\":\"p1600\",\"attributes\":{\"syncable\":false,\"level\":\"overlay\",\"visible\":false,\"left_units\":\"canvas\",\"right_units\":\"canvas\",\"bottom_units\":\"canvas\",\"top_units\":\"canvas\",\"line_color\":\"black\",\"line_alpha\":1.0,\"line_width\":2,\"line_dash\":[4,4],\"fill_color\":\"lightgrey\",\"fill_alpha\":0.5}}}},{\"type\":\"object\",\"name\":\"SaveTool\",\"id\":\"p1601\"},{\"type\":\"object\",\"name\":\"ResetTool\",\"id\":\"p1602\"},{\"type\":\"object\",\"name\":\"HelpTool\",\"id\":\"p1603\"}]}},\"left\":[{\"type\":\"object\",\"name\":\"LinearAxis\",\"id\":\"p1592\",\"attributes\":{\"ticker\":{\"type\":\"object\",\"name\":\"BasicTicker\",\"id\":\"p1593\",\"attributes\":{\"mantissas\":[1,2,5]}},\"formatter\":{\"type\":\"object\",\"name\":\"BasicTickFormatter\",\"id\":\"p1594\"},\"axis_label\":\"km/h\",\"major_label_policy\":{\"type\":\"object\",\"name\":\"AllLabels\",\"id\":\"p1595\"}}}],\"below\":[{\"type\":\"object\",\"name\":\"LinearAxis\",\"id\":\"p1587\",\"attributes\":{\"ticker\":{\"type\":\"object\",\"name\":\"BasicTicker\",\"id\":\"p1588\",\"attributes\":{\"mantissas\":[1,2,5]}},\"formatter\":{\"type\":\"object\",\"name\":\"BasicTickFormatter\",\"id\":\"p1589\"},\"axis_label\":\"seconds from exit\",\"major_label_policy\":{\"type\":\"object\",\"name\":\"AllLabels\",\"id\":\"p1590\"}}}],\"center\":[{\"type\":\"object\",\"name\":\"Grid\",\"id\":\"p1591\",\"attributes\":{\"axis\":{\"id\":\"p1587\"}}},{\"type\":\"object\",\"name\":\"Grid\",\"id\":\"p1596\",\"attributes\":{\"dimension\":1,\"axis\":{\"id\":\"p1592\"}}},{\"type\":\"object\",\"name\":\"Legend\",\"id\":\"p1613\",\"attributes\":{\"items\":[{\"type\":\"object\",\"name\":\"LegendItem\",\"id\":\"p1614\",\"attributes\":{\"label\":{\"type\":\"value\",\"value\":\"speed\"},\"renderers\":[{\"id\":\"p1610\"}]}}]}}]}}]}};\n",
       "  const render_items = [{\"docid\":\"7ecaaea9-4343-441a-8f0a-c771c85a1b9e\",\"roots\":{\"p1573\":\"a5e29de6-4409-43f9-af94-00c62e65f9f6\"},\"root_ids\":[\"p1573\"]}];\n",
       "  root.Bokeh.embed.embed_items_notebook(docs_json, render_items);\n",
       "  }\n",
       "  if (root.Bokeh !== undefined) {\n",
       "    embed_document(root);\n",
       "  } else {\n",
       "    let attempts = 0;\n",
       "    const timer = setInterval(function(root) {\n",
       "      if (root.Bokeh !== undefined) {\n",
       "        clearInterval(timer);\n",
       "        embed_document(root);\n",
       "      } else {\n",
       "        attempts++;\n",
       "        if (attempts > 100) {\n",
       "          clearInterval(timer);\n",
       "          console.log(\"Bokeh: ERROR: Unable to run BokehJS code because BokehJS library is missing\");\n",
       "        }\n",
       "      }\n",
       "    }, 10, root)\n",
       "  }\n",
       "})(window);"
      ],
      "application/vnd.bokehjs_exec.v0+json": ""
     },
     "metadata": {
      "application/vnd.bokehjs_exec.v0+json": {
       "id": "p1573"
      }
     },
     "output_type": "display_data"
    },
    {
     "data": {
      "application/vnd.jupyter.widget-view+json": {
       "model_id": "83aad5673c4b485db57ace50eb7326d1",
       "version_major": 2,
       "version_minor": 0
      },
      "text/plain": [
       "HTML(value='<hr><h1><span style=\"color: #0f0\">R8_13-00-55 jump - 🟢 valid</span></h1>')"
      ]
     },
     "metadata": {},
     "output_type": "display_data"
    },
    {
     "data": {
      "application/vnd.jupyter.widget-view+json": {
       "model_id": "83caf43d5b0d4ecdb2b31f44890dd784",
       "version_major": 2,
       "version_minor": 0
      },
      "text/plain": [
       "HTML(value='<h3>Max speed = 442; exit at 4166 m (13668 ft), end scoring window at 1910 m (6267 ft)</h3>')"
      ]
     },
     "metadata": {},
     "output_type": "display_data"
    },
    {
     "data": {
      "text/html": [
       "\n",
       "  <div id=\"c486a16b-1d6a-4920-909a-a48ed65047be\" data-root-id=\"p1663\" style=\"display: contents;\"></div>\n"
      ]
     },
     "metadata": {},
     "output_type": "display_data"
    },
    {
     "data": {
      "application/javascript": [
       "(function(root) {\n",
       "  function embed_document(root) {\n",
       "  const docs_json = {\"8112877b-c500-4876-9758-06a3b6ba7c2d\":{\"version\":\"3.2.2\",\"title\":\"Bokeh Application\",\"roots\":[{\"type\":\"object\",\"name\":\"Figure\",\"id\":\"p1663\",\"attributes\":{\"width\":900,\"height\":500,\"x_range\":{\"type\":\"object\",\"name\":\"Range1d\",\"id\":\"p1673\",\"attributes\":{\"end\":40.0}},\"y_range\":{\"type\":\"object\",\"name\":\"Range1d\",\"id\":\"p1674\",\"attributes\":{\"end\":550.0}},\"x_scale\":{\"type\":\"object\",\"name\":\"LinearScale\",\"id\":\"p1675\"},\"y_scale\":{\"type\":\"object\",\"name\":\"LinearScale\",\"id\":\"p1676\"},\"title\":{\"type\":\"object\",\"name\":\"Title\",\"id\":\"p1666\",\"attributes\":{\"text\":\"R8_13-00-55\"}},\"renderers\":[{\"type\":\"object\",\"name\":\"GlyphRenderer\",\"id\":\"p1700\",\"attributes\":{\"data_source\":{\"type\":\"object\",\"name\":\"ColumnDataSource\",\"id\":\"p1694\",\"attributes\":{\"selected\":{\"type\":\"object\",\"name\":\"Selection\",\"id\":\"p1695\",\"attributes\":{\"indices\":[],\"line_indices\":[]}},\"selection_policy\":{\"type\":\"object\",\"name\":\"UnionRenderers\",\"id\":\"p1696\"},\"data\":{\"type\":\"map\",\"entries\":[[\"x\",{\"type\":\"ndarray\",\"array\":{\"type\":\"bytes\",\"data\":\"AAAAAAAAAAAAAAAAmpnJPwAAAACamdk/AAAAADMz4z8AAACAmZnpPwAAAAAAAPA/AAAAQDMz8z8AAACAZmb2PwAAAICZmfk/AAAAwMzM/D8AAAAAAAAAQAAAAKCZmQFAAAAAQDMzA0AAAADAzMwEQAAAAGBmZgZAAAAAAAAACEAAAACgmZkJQAAAAEAzMwtAAAAAwMzMDEAAAABgZmYOQAAAAAAAABBAAAAA0MzMEEAAAACgmZkRQAAAAGBmZhJAAAAAMDMzE0AAAAAAAAAUQAAAANDMzBRAAAAAoJmZFUAAAABgZmYWQAAAADAzMxdAAAAAAAAAGEAAAADQzMwYQAAAAKCZmRlAAAAAYGZmGkAAAAAwMzMbQAAAAAAAABxAAAAA0MzMHEAAAACgmZkdQAAAAGBmZh5AAAAAMDMzH0AAAAAAAAAgQAAAAGhmZiBAAAAA0MzMIEAAAAAwMzMhQAAAAJiZmSFAAAAAAAAAIkAAAABoZmYiQAAAANDMzCJAAAAAMDMzI0AAAACYmZkjQAAAAAAAACRAAAAAaGZmJEAAAADQzMwkQAAAADAzMyVAAAAAmJmZJUAAAAAAAAAmQAAAAGhmZiZAAAAA0MzMJkAAAAAwMzMnQAAAAJiZmSdAAAAAAAAAKEAAAABoZmYoQAAAANDMzChAAAAAMDMzKUAAAACYmZkpQAAAAAAAACpAAAAAaGZmKkAAAADQzMwqQAAAADAzMytAAAAAmJmZK0AAAAAAAAAsQAAAAGhmZixAAAAA0MzMLEAAAAAwMzMtQAAAAJiZmS1AAAAAAAAALkAAAABoZmYuQAAAANDMzC5AAAAAMDMzL0AAAACYmZkvQAAAAAAAADBAAAAANDMzMEAAAABoZmYwQAAAAJiZmTBAAAAAzMzMMEAAAAAAAAAxQAAAADQzMzFAAAAAaGZmMUAAAACYmZkxQAAAAMzMzDFAAAAAAAAAMkAAAAA0MzMyQAAAAGhmZjJAAAAAmJmZMkAAAADMzMwyQAAAAAAAADNAAAAANDMzM0AAAABoZmYzQAAAAJiZmTNAAAAAzMzMM0AAAAAAAAA0QAAAADQzMzRAAAAAaGZmNEAAAACYmZk0QAAAAMzMzDRAAAAAAAAANUAAAAA0MzM1QAAAAGhmZjVAAAAAmJmZNUAAAADMzMw1QAAAAAAAADZAAAAANDMzNkAAAABoZmY2QAAAAJiZmTZAAAAAzMzMNkAAAAAAAAA3QAAAADQzMzdAAAAAaGZmN0AAAACYmZk3QAAAAMzMzDdAAAAAAAAAOEAAAAA0MzM4QAAAAGhmZjhAAAAAmJmZOEAAAADMzMw4QAAAAAAAADlAAAAANDMzOUAAAABoZmY5QA==\"},\"shape\":[128],\"dtype\":\"float64\",\"order\":\"little\"}],[\"y\",{\"type\":\"ndarray\",\"array\":{\"type\":\"bytes\",\"data\":\"qMZLN4lBJ0Dy0k1iEFgwQMdLN4lBYDRA2KNwPQrXOEC7SQwCK4c+QPp+arx0k0JAiBbZzvdTR0ApXI/C9ehKQN4kBoGVA09Abef7qfEyUUAhsHJokQ1TQCuHFtnOt1RA/Knx0k2CVkB3vp8aL31YQCuHFtnOV1pAAAAAAAAgXEDSItv5fupdQKFFtvP9tF9AYxBYObSoYEDufD81XnphQGq8dJMYVGJA+FPjpZskY0Bt5/up8QJkQAwCK4cWyWRAokW28/2UZUBCYOXQIltmQOSlm8QgIGdAdZMYBFbuZ0AZBFYOLbJoQLx0kxgEdmlAbef7qfEyakBYObTIds5qQB1aZDvff2tA+n5qvHQjbEDNzMzMzMxsQJVDi2zne21AYeXQItspbkA1XrpJDNJuQA8tsp3vd29A+n5qvHQLcEBvEoPAyllwQGdmZmZmpnBAbxKDwMrpcEB/arx0kyhxQIts5/upaXFAI9v5fmqkcUC7SQwCK99xQEoMAiuHHnJA2KNwPQpfckBcj8L1KKRyQN4kBoGV63JAVeOlm8Q4c0DP91PjpYNzQFK4HoXryXNAWDm0yHYOdEBnZmZmZk50QHNoke18j3RAAAAAAADQdEAUrkfhegx1QCcxCKwcSnVAwvUoXI+CdUDeJAaBlbt1QPT91Hjp9nVAl24Sg8AqdkC7SQwCK192QHWTGARWhnZAJzEIrByydkBh5dAi29l2QCUGgZVD+3ZAW2Q7308ld0COl24Sg1B3QDzfT42XfndA6iYxCKysd0CgGi/dJNZ3QFYOLbKd/3dABoGVQ4sseEC8dJMYBFZ4QHE9CtejgHhAJQaBlUOreEBjEFg5tNB4QDEIrBxa7HhA+FPjpZsMeUCzne+nxjN5QP7UeOkmUXlAvHSTGAR2eUAL16NwPZJ5QFYOLbKdr3lAK4cW2c7HeUD6fmq8dON5QEjhehSu/3lAlkOLbOcbekBYObTIdj56QKRwPQrXW3pAc2iR7Xx3ekDRItv5fop6QCcxCKwconpABoGVQ4u0ekBeukkMAst6QEw3iUFg1XpArBxaZDvnekAZBFYOLfJ6QIXrUbge/XpAcT0K16MIe0DVeOkmMRh7QDzfT42XJntAMzMzMzMre0CsHFpkOy97QBKDwMqhPXtAf2q8dJNIe0AGgZVDi0R7QI6XbhKDQHtABoGVQ4tEe0AAAAAAAEh7QAAAAAAASHtA9P3UeOlOe0Dm0CLb+VZ7QNv5fmq8XHtAUrgehethe0BKDAIrh2Z7QML1KFyPantAPgrXo3Bte0Aw3SQGgXV7QJ3vp8ZLf3tAj8L1KFyHe0CBlUOLbI97QIGVQ4tsj3tAeekmMQiUe0DqJjEIrJx7QA==\"},\"shape\":[128],\"dtype\":\"float64\",\"order\":\"little\"}]]}}},\"view\":{\"type\":\"object\",\"name\":\"CDSView\",\"id\":\"p1701\",\"attributes\":{\"filter\":{\"type\":\"object\",\"name\":\"AllIndices\",\"id\":\"p1702\"}}},\"glyph\":{\"type\":\"object\",\"name\":\"Line\",\"id\":\"p1697\",\"attributes\":{\"x\":{\"type\":\"field\",\"field\":\"x\"},\"y\":{\"type\":\"field\",\"field\":\"y\"},\"line_color\":\"blue\",\"line_width\":2}},\"nonselection_glyph\":{\"type\":\"object\",\"name\":\"Line\",\"id\":\"p1698\",\"attributes\":{\"x\":{\"type\":\"field\",\"field\":\"x\"},\"y\":{\"type\":\"field\",\"field\":\"y\"},\"line_color\":\"blue\",\"line_alpha\":0.1,\"line_width\":2}},\"muted_glyph\":{\"type\":\"object\",\"name\":\"Line\",\"id\":\"p1699\",\"attributes\":{\"x\":{\"type\":\"field\",\"field\":\"x\"},\"y\":{\"type\":\"field\",\"field\":\"y\"},\"line_color\":\"blue\",\"line_alpha\":0.2,\"line_width\":2}}}},{\"type\":\"object\",\"name\":\"GlyphRenderer\",\"id\":\"p1711\",\"attributes\":{\"data_source\":{\"type\":\"object\",\"name\":\"ColumnDataSource\",\"id\":\"p1705\",\"attributes\":{\"selected\":{\"type\":\"object\",\"name\":\"Selection\",\"id\":\"p1706\",\"attributes\":{\"indices\":[],\"line_indices\":[]}},\"selection_policy\":{\"type\":\"object\",\"name\":\"UnionRenderers\",\"id\":\"p1707\"},\"data\":{\"type\":\"map\",\"entries\":[[\"x0\",[22.40000009536743]],[\"y0\",[0.0]],[\"x1\",[22.40000009536743]],[\"y1\",[439.146]]]}}},\"view\":{\"type\":\"object\",\"name\":\"CDSView\",\"id\":\"p1712\",\"attributes\":{\"filter\":{\"type\":\"object\",\"name\":\"AllIndices\",\"id\":\"p1713\"}}},\"glyph\":{\"type\":\"object\",\"name\":\"Segment\",\"id\":\"p1708\",\"attributes\":{\"x0\":{\"type\":\"field\",\"field\":\"x0\"},\"y0\":{\"type\":\"field\",\"field\":\"y0\"},\"x1\":{\"type\":\"field\",\"field\":\"x1\"},\"y1\":{\"type\":\"field\",\"field\":\"y1\"},\"line_color\":{\"type\":\"value\",\"value\":\"green\"},\"line_width\":{\"type\":\"value\",\"value\":3}}},\"nonselection_glyph\":{\"type\":\"object\",\"name\":\"Segment\",\"id\":\"p1709\",\"attributes\":{\"x0\":{\"type\":\"field\",\"field\":\"x0\"},\"y0\":{\"type\":\"field\",\"field\":\"y0\"},\"x1\":{\"type\":\"field\",\"field\":\"x1\"},\"y1\":{\"type\":\"field\",\"field\":\"y1\"},\"line_color\":{\"type\":\"value\",\"value\":\"green\"},\"line_alpha\":{\"type\":\"value\",\"value\":0.1},\"line_width\":{\"type\":\"value\",\"value\":3}}},\"muted_glyph\":{\"type\":\"object\",\"name\":\"Segment\",\"id\":\"p1710\",\"attributes\":{\"x0\":{\"type\":\"field\",\"field\":\"x0\"},\"y0\":{\"type\":\"field\",\"field\":\"y0\"},\"x1\":{\"type\":\"field\",\"field\":\"x1\"},\"y1\":{\"type\":\"field\",\"field\":\"y1\"},\"line_color\":{\"type\":\"value\",\"value\":\"green\"},\"line_alpha\":{\"type\":\"value\",\"value\":0.2},\"line_width\":{\"type\":\"value\",\"value\":3}}}}},{\"type\":\"object\",\"name\":\"GlyphRenderer\",\"id\":\"p1720\",\"attributes\":{\"data_source\":{\"type\":\"object\",\"name\":\"ColumnDataSource\",\"id\":\"p1714\",\"attributes\":{\"selected\":{\"type\":\"object\",\"name\":\"Selection\",\"id\":\"p1715\",\"attributes\":{\"indices\":[],\"line_indices\":[]}},\"selection_policy\":{\"type\":\"object\",\"name\":\"UnionRenderers\",\"id\":\"p1716\"},\"data\":{\"type\":\"map\",\"entries\":[[\"x0\",[23.90000009536743]],[\"y0\",[0.0]],[\"x1\",[23.90000009536743]],[\"y1\",[439.146]]]}}},\"view\":{\"type\":\"object\",\"name\":\"CDSView\",\"id\":\"p1721\",\"attributes\":{\"filter\":{\"type\":\"object\",\"name\":\"AllIndices\",\"id\":\"p1722\"}}},\"glyph\":{\"type\":\"object\",\"name\":\"Segment\",\"id\":\"p1717\",\"attributes\":{\"x0\":{\"type\":\"field\",\"field\":\"x0\"},\"y0\":{\"type\":\"field\",\"field\":\"y0\"},\"x1\":{\"type\":\"field\",\"field\":\"x1\"},\"y1\":{\"type\":\"field\",\"field\":\"y1\"},\"line_color\":{\"type\":\"value\",\"value\":\"darkseagreen\"}}},\"nonselection_glyph\":{\"type\":\"object\",\"name\":\"Segment\",\"id\":\"p1718\",\"attributes\":{\"x0\":{\"type\":\"field\",\"field\":\"x0\"},\"y0\":{\"type\":\"field\",\"field\":\"y0\"},\"x1\":{\"type\":\"field\",\"field\":\"x1\"},\"y1\":{\"type\":\"field\",\"field\":\"y1\"},\"line_color\":{\"type\":\"value\",\"value\":\"darkseagreen\"},\"line_alpha\":{\"type\":\"value\",\"value\":0.1}}},\"muted_glyph\":{\"type\":\"object\",\"name\":\"Segment\",\"id\":\"p1719\",\"attributes\":{\"x0\":{\"type\":\"field\",\"field\":\"x0\"},\"y0\":{\"type\":\"field\",\"field\":\"y0\"},\"x1\":{\"type\":\"field\",\"field\":\"x1\"},\"y1\":{\"type\":\"field\",\"field\":\"y1\"},\"line_color\":{\"type\":\"value\",\"value\":\"darkseagreen\"},\"line_alpha\":{\"type\":\"value\",\"value\":0.2}}}}},{\"type\":\"object\",\"name\":\"GlyphRenderer\",\"id\":\"p1729\",\"attributes\":{\"data_source\":{\"type\":\"object\",\"name\":\"ColumnDataSource\",\"id\":\"p1723\",\"attributes\":{\"selected\":{\"type\":\"object\",\"name\":\"Selection\",\"id\":\"p1724\",\"attributes\":{\"indices\":[],\"line_indices\":[]}},\"selection_policy\":{\"type\":\"object\",\"name\":\"UnionRenderers\",\"id\":\"p1725\"},\"data\":{\"type\":\"map\",\"entries\":[[\"x0\",[20.90000009536743]],[\"y0\",[0.0]],[\"x1\",[20.90000009536743]],[\"y1\",[439.146]]]}}},\"view\":{\"type\":\"object\",\"name\":\"CDSView\",\"id\":\"p1730\",\"attributes\":{\"filter\":{\"type\":\"object\",\"name\":\"AllIndices\",\"id\":\"p1731\"}}},\"glyph\":{\"type\":\"object\",\"name\":\"Segment\",\"id\":\"p1726\",\"attributes\":{\"x0\":{\"type\":\"field\",\"field\":\"x0\"},\"y0\":{\"type\":\"field\",\"field\":\"y0\"},\"x1\":{\"type\":\"field\",\"field\":\"x1\"},\"y1\":{\"type\":\"field\",\"field\":\"y1\"},\"line_color\":{\"type\":\"value\",\"value\":\"darkseagreen\"}}},\"nonselection_glyph\":{\"type\":\"object\",\"name\":\"Segment\",\"id\":\"p1727\",\"attributes\":{\"x0\":{\"type\":\"field\",\"field\":\"x0\"},\"y0\":{\"type\":\"field\",\"field\":\"y0\"},\"x1\":{\"type\":\"field\",\"field\":\"x1\"},\"y1\":{\"type\":\"field\",\"field\":\"y1\"},\"line_color\":{\"type\":\"value\",\"value\":\"darkseagreen\"},\"line_alpha\":{\"type\":\"value\",\"value\":0.1}}},\"muted_glyph\":{\"type\":\"object\",\"name\":\"Segment\",\"id\":\"p1728\",\"attributes\":{\"x0\":{\"type\":\"field\",\"field\":\"x0\"},\"y0\":{\"type\":\"field\",\"field\":\"y0\"},\"x1\":{\"type\":\"field\",\"field\":\"x1\"},\"y1\":{\"type\":\"field\",\"field\":\"y1\"},\"line_color\":{\"type\":\"value\",\"value\":\"darkseagreen\"},\"line_alpha\":{\"type\":\"value\",\"value\":0.2}}}}},{\"type\":\"object\",\"name\":\"GlyphRenderer\",\"id\":\"p1738\",\"attributes\":{\"data_source\":{\"type\":\"object\",\"name\":\"ColumnDataSource\",\"id\":\"p1732\",\"attributes\":{\"selected\":{\"type\":\"object\",\"name\":\"Selection\",\"id\":\"p1733\",\"attributes\":{\"indices\":[],\"line_indices\":[]}},\"selection_policy\":{\"type\":\"object\",\"name\":\"UnionRenderers\",\"id\":\"p1734\"},\"data\":{\"type\":\"map\",\"entries\":[[\"x\",[22.40000009536743]],[\"y\",[439.146]],[\"size\",[20]]]}}},\"view\":{\"type\":\"object\",\"name\":\"CDSView\",\"id\":\"p1739\",\"attributes\":{\"filter\":{\"type\":\"object\",\"name\":\"AllIndices\",\"id\":\"p1740\"}}},\"glyph\":{\"type\":\"object\",\"name\":\"Scatter\",\"id\":\"p1735\",\"attributes\":{\"x\":{\"type\":\"field\",\"field\":\"x\"},\"y\":{\"type\":\"field\",\"field\":\"y\"},\"size\":{\"type\":\"field\",\"field\":\"size\"},\"line_color\":{\"type\":\"value\",\"value\":\"green\"},\"line_width\":{\"type\":\"value\",\"value\":3},\"fill_color\":{\"type\":\"value\",\"value\":null},\"marker\":{\"type\":\"value\",\"value\":\"square_cross\"}}},\"nonselection_glyph\":{\"type\":\"object\",\"name\":\"Scatter\",\"id\":\"p1736\",\"attributes\":{\"x\":{\"type\":\"field\",\"field\":\"x\"},\"y\":{\"type\":\"field\",\"field\":\"y\"},\"size\":{\"type\":\"field\",\"field\":\"size\"},\"line_color\":{\"type\":\"value\",\"value\":\"green\"},\"line_alpha\":{\"type\":\"value\",\"value\":0.1},\"line_width\":{\"type\":\"value\",\"value\":3},\"fill_color\":{\"type\":\"value\",\"value\":null},\"fill_alpha\":{\"type\":\"value\",\"value\":0.1},\"hatch_alpha\":{\"type\":\"value\",\"value\":0.1},\"marker\":{\"type\":\"value\",\"value\":\"square_cross\"}}},\"muted_glyph\":{\"type\":\"object\",\"name\":\"Scatter\",\"id\":\"p1737\",\"attributes\":{\"x\":{\"type\":\"field\",\"field\":\"x\"},\"y\":{\"type\":\"field\",\"field\":\"y\"},\"size\":{\"type\":\"field\",\"field\":\"size\"},\"line_color\":{\"type\":\"value\",\"value\":\"green\"},\"line_alpha\":{\"type\":\"value\",\"value\":0.2},\"line_width\":{\"type\":\"value\",\"value\":3},\"fill_color\":{\"type\":\"value\",\"value\":null},\"fill_alpha\":{\"type\":\"value\",\"value\":0.2},\"hatch_alpha\":{\"type\":\"value\",\"value\":0.2},\"marker\":{\"type\":\"value\",\"value\":\"square_cross\"}}}}}],\"toolbar\":{\"type\":\"object\",\"name\":\"Toolbar\",\"id\":\"p1672\",\"attributes\":{\"tools\":[{\"type\":\"object\",\"name\":\"PanTool\",\"id\":\"p1687\"},{\"type\":\"object\",\"name\":\"WheelZoomTool\",\"id\":\"p1688\"},{\"type\":\"object\",\"name\":\"BoxZoomTool\",\"id\":\"p1689\",\"attributes\":{\"overlay\":{\"type\":\"object\",\"name\":\"BoxAnnotation\",\"id\":\"p1690\",\"attributes\":{\"syncable\":false,\"level\":\"overlay\",\"visible\":false,\"left_units\":\"canvas\",\"right_units\":\"canvas\",\"bottom_units\":\"canvas\",\"top_units\":\"canvas\",\"line_color\":\"black\",\"line_alpha\":1.0,\"line_width\":2,\"line_dash\":[4,4],\"fill_color\":\"lightgrey\",\"fill_alpha\":0.5}}}},{\"type\":\"object\",\"name\":\"SaveTool\",\"id\":\"p1691\"},{\"type\":\"object\",\"name\":\"ResetTool\",\"id\":\"p1692\"},{\"type\":\"object\",\"name\":\"HelpTool\",\"id\":\"p1693\"}]}},\"left\":[{\"type\":\"object\",\"name\":\"LinearAxis\",\"id\":\"p1682\",\"attributes\":{\"ticker\":{\"type\":\"object\",\"name\":\"BasicTicker\",\"id\":\"p1683\",\"attributes\":{\"mantissas\":[1,2,5]}},\"formatter\":{\"type\":\"object\",\"name\":\"BasicTickFormatter\",\"id\":\"p1684\"},\"axis_label\":\"km/h\",\"major_label_policy\":{\"type\":\"object\",\"name\":\"AllLabels\",\"id\":\"p1685\"}}}],\"below\":[{\"type\":\"object\",\"name\":\"LinearAxis\",\"id\":\"p1677\",\"attributes\":{\"ticker\":{\"type\":\"object\",\"name\":\"BasicTicker\",\"id\":\"p1678\",\"attributes\":{\"mantissas\":[1,2,5]}},\"formatter\":{\"type\":\"object\",\"name\":\"BasicTickFormatter\",\"id\":\"p1679\"},\"axis_label\":\"seconds from exit\",\"major_label_policy\":{\"type\":\"object\",\"name\":\"AllLabels\",\"id\":\"p1680\"}}}],\"center\":[{\"type\":\"object\",\"name\":\"Grid\",\"id\":\"p1681\",\"attributes\":{\"axis\":{\"id\":\"p1677\"}}},{\"type\":\"object\",\"name\":\"Grid\",\"id\":\"p1686\",\"attributes\":{\"dimension\":1,\"axis\":{\"id\":\"p1682\"}}},{\"type\":\"object\",\"name\":\"Legend\",\"id\":\"p1703\",\"attributes\":{\"items\":[{\"type\":\"object\",\"name\":\"LegendItem\",\"id\":\"p1704\",\"attributes\":{\"label\":{\"type\":\"value\",\"value\":\"speed\"},\"renderers\":[{\"id\":\"p1700\"}]}}]}}]}}]}};\n",
       "  const render_items = [{\"docid\":\"8112877b-c500-4876-9758-06a3b6ba7c2d\",\"roots\":{\"p1663\":\"c486a16b-1d6a-4920-909a-a48ed65047be\"},\"root_ids\":[\"p1663\"]}];\n",
       "  root.Bokeh.embed.embed_items_notebook(docs_json, render_items);\n",
       "  }\n",
       "  if (root.Bokeh !== undefined) {\n",
       "    embed_document(root);\n",
       "  } else {\n",
       "    let attempts = 0;\n",
       "    const timer = setInterval(function(root) {\n",
       "      if (root.Bokeh !== undefined) {\n",
       "        clearInterval(timer);\n",
       "        embed_document(root);\n",
       "      } else {\n",
       "        attempts++;\n",
       "        if (attempts > 100) {\n",
       "          clearInterval(timer);\n",
       "          console.log(\"Bokeh: ERROR: Unable to run BokehJS code because BokehJS library is missing\");\n",
       "        }\n",
       "      }\n",
       "    }, 10, root)\n",
       "  }\n",
       "})(window);"
      ],
      "application/vnd.bokehjs_exec.v0+json": ""
     },
     "metadata": {
      "application/vnd.bokehjs_exec.v0+json": {
       "id": "p1663"
      }
     },
     "output_type": "display_data"
    }
   ],
   "source": [
    "allJumpsPlot = initializePlot('All jumps in set')\n",
    "jumpNumber = 0\n",
    "mixColor = 0\n",
    "for resultRef in jumpResults.keys():\n",
    "    jumpResult = jumpResults[resultRef]\n",
    "    if jumpResult.score > 0.0:\n",
    "        validJumpStatus = '<hr><h1><span style=\"color: %s\">%s jump - %s</span></h1>' % (jumpResult.color, resultRef, jumpResult.result)\n",
    "    else:\n",
    "        validJumpStatus = '<hr><h1><span style=\"color: %s\">%s jump - %s - score = %.02f km/h</span></h1>' % (jumpResult.color, resultRef, jumpResult.result, jumpResult.score)\n",
    "    display(widgets.HTML(validJumpStatus))\n",
    "\n",
    "    maxSpeed = jumpResult.maxSpeed\n",
    "    window = jumpResult.window\n",
    "    mixColor = (mixColor+1)%len(SPEED_COLORS)\n",
    "    if jumpResult.score > 0.0:\n",
    "        display(widgets.HTML('<h3>Max speed = {0:,.0f}; '.format(maxSpeed)+('exit at %d m (%d ft), end scoring window at %d m (%d ft)</h3>'%(window.start, 3.2808*window.start, window.end, 3.2808*window.end))))\n",
    "        graphJumpResult(initializePlot(resultRef),\n",
    "                        jumpResult,\n",
    "                        lineColor = SPEED_COLORS[0])\n",
    "        graphJumpResult(allJumpsPlot,\n",
    "                        jumpResult,\n",
    "                        lineColor = SPEED_COLORS[mixColor],\n",
    "                        legend = '%s - %.2f' % (resultRef, jumpResult.score),\n",
    "                        showIt = False)"
   ]
  },
  {
   "cell_type": "markdown",
   "id": "7363faaf-27a9-401c-9271-73b71436f19c",
   "metadata": {},
   "source": [
    "## All jumps"
   ]
  },
  {
   "cell_type": "code",
   "execution_count": 7,
   "id": "17991fcf-e215-4a53-a6ff-d9a64cbafd94",
   "metadata": {
    "jupyter": {
     "source_hidden": true
    }
   },
   "outputs": [
    {
     "data": {
      "text/html": [
       "\n",
       "  <div id=\"d247e364-b83f-4240-bad1-840c231b2764\" data-root-id=\"p1001\" style=\"display: contents;\"></div>\n"
      ]
     },
     "metadata": {},
     "output_type": "display_data"
    },
    {
     "data": {
      "application/javascript": [
       "(function(root) {\n",
       "  function embed_document(root) {\n",
       "  const docs_json = {\"9114fc0f-4973-4d6c-a2ff-832dd4730762\":{\"version\":\"3.2.2\",\"title\":\"Bokeh Application\",\"roots\":[{\"type\":\"object\",\"name\":\"Figure\",\"id\":\"p1001\",\"attributes\":{\"width\":900,\"height\":500,\"x_range\":{\"type\":\"object\",\"name\":\"Range1d\",\"id\":\"p1011\",\"attributes\":{\"end\":40.0}},\"y_range\":{\"type\":\"object\",\"name\":\"Range1d\",\"id\":\"p1012\",\"attributes\":{\"end\":550.0}},\"x_scale\":{\"type\":\"object\",\"name\":\"LinearScale\",\"id\":\"p1013\"},\"y_scale\":{\"type\":\"object\",\"name\":\"LinearScale\",\"id\":\"p1014\"},\"title\":{\"type\":\"object\",\"name\":\"Title\",\"id\":\"p1004\",\"attributes\":{\"text\":\"All jumps in set\"}},\"renderers\":[{\"type\":\"object\",\"name\":\"GlyphRenderer\",\"id\":\"p1118\",\"attributes\":{\"data_source\":{\"type\":\"object\",\"name\":\"ColumnDataSource\",\"id\":\"p1112\",\"attributes\":{\"selected\":{\"type\":\"object\",\"name\":\"Selection\",\"id\":\"p1113\",\"attributes\":{\"indices\":[],\"line_indices\":[]}},\"selection_policy\":{\"type\":\"object\",\"name\":\"UnionRenderers\",\"id\":\"p1114\"},\"data\":{\"type\":\"map\",\"entries\":[[\"x\",{\"type\":\"ndarray\",\"array\":{\"type\":\"bytes\",\"data\":\"AAAAAAAAAAAAAAAAmpnJPwAAAACamdk/AAAAgDMz4z8AAACAmZnpPwAAAAAAAPA/AAAAQDMz8z8AAACAZmb2PwAAAMCZmfk/AAAAwMzM/D8AAAAAAAAAQAAAAKCZmQFAAAAAQDMzA0AAAADgzMwEQAAAAGBmZgZAAAAAAAAACEAAAACgmZkJQAAAAEAzMwtAAAAA4MzMDEAAAABgZmYOQAAAAAAAABBAAAAA0MzMEEAAAACgmZkRQAAAAHBmZhJAAAAAMDMzE0AAAAAAAAAUQAAAANDMzBRAAAAAoJmZFUAAAABwZmYWQAAAADAzMxdAAAAAAAAAGEAAAADQzMwYQAAAAKCZmRlAAAAAcGZmGkAAAAAwMzMbQAAAAAAAABxAAAAA0MzMHEAAAACgmZkdQAAAAHBmZh5AAAAAMDMzH0AAAAAAAAAgQAAAAGhmZiBAAAAA0MzMIEAAAAA4MzMhQAAAAJiZmSFAAAAAAAAAIkAAAABoZmYiQAAAANDMzCJAAAAAODMzI0AAAACYmZkjQAAAAAAAACRAAAAAaGZmJEAAAADQzMwkQAAAADgzMyVAAAAAmJmZJUAAAAAAAAAmQAAAAGhmZiZAAAAA0MzMJkAAAAA4MzMnQAAAAJiZmSdAAAAAAAAAKEAAAABoZmYoQAAAANDMzChAAAAAODMzKUAAAACYmZkpQAAAAAAAACpAAAAAaGZmKkAAAADQzMwqQAAAADgzMytAAAAAmJmZK0AAAAAAAAAsQAAAAGhmZixAAAAA0MzMLEAAAAA4MzMtQAAAAJiZmS1AAAAAAAAALkAAAABoZmYuQAAAANDMzC5AAAAAODMzL0AAAACYmZkvQAAAAAAAADBAAAAANDMzMEAAAABoZmYwQAAAAJyZmTBAAAAAzMzMMEAAAAAAAAAxQAAAADQzMzFAAAAAaGZmMUAAAACcmZkxQAAAAMzMzDFAAAAAAAAAMkAAAAA0MzMyQAAAAGhmZjJAAAAAnJmZMkAAAADMzMwyQAAAAAAAADNAAAAANDMzM0AAAABoZmYzQAAAAJyZmTNAAAAAzMzMM0AAAAAAAAA0QAAAADQzMzRAAAAAaGZmNEAAAACcmZk0QAAAAMzMzDRAAAAAAAAANUAAAAA0MzM1QAAAAGhmZjVAAAAAnJmZNUAAAADMzMw1QAAAAAAAADZAAAAANDMzNkAAAABoZmY2QAAAAJyZmTZAAAAAzMzMNkAAAAAAAAA3QAAAADQzMzdAAAAAaGZmN0AAAACcmZk3QAAAAMzMzDdAAAAAAAAAOEAAAAA0MzM4QAAAAGhmZjhAAAAAnJmZOEAAAADMzMw4QAAAAAAAADlAAAAANDMzOUAAAABoZmY5QAAAAJyZmTlAAAAAzMzMOUAAAAAAAAA6QAAAADQzMzpA\"},\"shape\":[132],\"dtype\":\"float64\",\"order\":\"little\"}],[\"y\",{\"type\":\"ndarray\",\"array\":{\"type\":\"bytes\",\"data\":\"iBbZzvdTF0B56SYxCKwlQDIIrBxaZC9AoBov3SQGNUAEVg4tsh08QIPAyqFFtkFAsHJoke38REDHSzeJQeBIQKJFtvP9VExAI9v5fmr8T0CXbhKDwKpRQDMzMzMzk1NA2/l+arx0VUB7FK5H4VpXQDeJQWDlMFlA5KWbxCAQW0DqJjEIrLxcQMdLN4lBgF5AUI2XbhIjYEDByqFFtgNhQDzfT42X3mFAuR6F61G4YkA+CtejcI1jQMuhRbbzXWRAVg4tsp0vZUDqJjEIrPxlQIts5/upwWZANl66SQyCZ0DfT42XbkJoQJqZmZmZ+WhAXrpJDAKraUAEVg4tsm1qQKAaL90kNmtAUI2XbhLza0AZBFYOLaJsQNnO91PjVW1AppvEILACbkB56SYxCKxuQFCNl24SU29AO99PjZfub0CPwvUoXEdwQAAAAAAAmHBAbxKDwMrpcEDn+6nx0jVxQGq8dJMYfHFA5/up8dLFcUDhehSuRxFyQNV46SYxYHJAWDm0yHamckBcj8L1KOxyQNnO91PjNXNA2KNwPQp/c0Bh5dAi28FzQObQItv5BnRA7nw/NV5KdED6fmq8dIt0QH9qvHST0HRAlBgEVg4NdUCq8dJNYkh1QNNNYhBYeXVA9ihcj8KtdUA2XrpJDNJ1QGMQWDm0AHZApHA9CtcjdkDZzvdT4012QJduEoPAcnZAWDm0yHaWdkAUrkfherx2QD81XrpJ7HZA8KfGSzcZd0CXbhKDwEp3QE5iEFg5dHdAFK5H4XqUd0Bcj8L1KLR3QKjGSzeJ0XdA7nw/NV7yd0AzMzMzMxN4QHsUrkfhMnhAQmDl0CJTeEAMAiuHFnF4QNv5fmq8jHhArkfhehSmeEB56SYxCMR4QEW28/3U4HhAH4XrUbj2eEB9PzVeugl5QO58PzVeEnlA5/up8dIVeUDb+X5qvBx5QNnO91PjHXlAUI2XbhIjeUBI4XoUrid5QLOd76fGM3lAJzEIrBw6eUAlBoGVQzt5QLTIdr6fMnlAtMh2vp8yeUApXI/C9Th5QA4tsp3vR3lAdZMYBFZWeUBvEoPAyll5QFK4HoXraXlAwcqhRbZzeUCuR+F6FH55QCcxCKwcgnlAJQaBlUODeUAj2/l+aoR5QKJFtvP9hHlAH4XrUbiGeUAX2c73U4t5QBkEVg4tinlADi2yne+PeUD8qfHSTZp5QHE9CtejoHlA8tJNYhCgeUBh5dAi26l5QNNNYhBYsXlAObTIdr6/eUCsHFpkO8d5QAwCK4cW2XlAf2q8dJPgeUCBlUOLbN95QPCnxks36XlAarx0kxjseUBnZmZmZu55QNNNYhBY+XlAVg4tsp33eUDHSzeJQQB6QKwcWmQ7D3pAoBov3SQWekARWDm0yB56QI6XbhKDIHpA\"},\"shape\":[132],\"dtype\":\"float64\",\"order\":\"little\"}]]}}},\"view\":{\"type\":\"object\",\"name\":\"CDSView\",\"id\":\"p1119\",\"attributes\":{\"filter\":{\"type\":\"object\",\"name\":\"AllIndices\",\"id\":\"p1120\"}}},\"glyph\":{\"type\":\"object\",\"name\":\"Line\",\"id\":\"p1115\",\"attributes\":{\"x\":{\"type\":\"field\",\"field\":\"x\"},\"y\":{\"type\":\"field\",\"field\":\"y\"},\"line_color\":\"limegreen\",\"line_width\":2}},\"nonselection_glyph\":{\"type\":\"object\",\"name\":\"Line\",\"id\":\"p1116\",\"attributes\":{\"x\":{\"type\":\"field\",\"field\":\"x\"},\"y\":{\"type\":\"field\",\"field\":\"y\"},\"line_color\":\"limegreen\",\"line_alpha\":0.1,\"line_width\":2}},\"muted_glyph\":{\"type\":\"object\",\"name\":\"Line\",\"id\":\"p1117\",\"attributes\":{\"x\":{\"type\":\"field\",\"field\":\"x\"},\"y\":{\"type\":\"field\",\"field\":\"y\"},\"line_color\":\"limegreen\",\"line_alpha\":0.2,\"line_width\":2}}}},{\"type\":\"object\",\"name\":\"GlyphRenderer\",\"id\":\"p1209\",\"attributes\":{\"data_source\":{\"type\":\"object\",\"name\":\"ColumnDataSource\",\"id\":\"p1203\",\"attributes\":{\"selected\":{\"type\":\"object\",\"name\":\"Selection\",\"id\":\"p1204\",\"attributes\":{\"indices\":[],\"line_indices\":[]}},\"selection_policy\":{\"type\":\"object\",\"name\":\"UnionRenderers\",\"id\":\"p1205\"},\"data\":{\"type\":\"map\",\"entries\":[[\"x\",{\"type\":\"ndarray\",\"array\":{\"type\":\"bytes\",\"data\":\"AAAAAAAAAAAAAAAAmpnJPwAAAACamdk/AAAAADMz4z8AAACAmZnpPwAAAAAAAPA/AAAAQDMz8z8AAACAZmb2PwAAAICZmfk/AAAAwMzM/D8AAAAAAAAAQAAAAKCZmQFAAAAAQDMzA0AAAADAzMwEQAAAAGBmZgZAAAAAAAAACEAAAACgmZkJQAAAAEAzMwtAAAAAwMzMDEAAAABgZmYOQAAAAAAAABBAAAAA0MzMEEAAAACgmZkRQAAAAGBmZhJAAAAAMDMzE0AAAAAAAAAUQAAAANDMzBRAAAAAoJmZFUAAAABgZmYWQAAAADAzMxdAAAAAAAAAGEAAAADQzMwYQAAAAKCZmRlAAAAAYGZmGkAAAAAwMzMbQAAAAAAAABxAAAAA0MzMHEAAAACgmZkdQAAAAGBmZh5AAAAAMDMzH0AAAAAAAAAgQAAAAGhmZiBAAAAA0MzMIEAAAAAwMzMhQAAAAJiZmSFAAAAAAAAAIkAAAABoZmYiQAAAANDMzCJAAAAAMDMzI0AAAACYmZkjQAAAAAAAACRAAAAAaGZmJEAAAADQzMwkQAAAADAzMyVAAAAAmJmZJUAAAAAAAAAmQAAAAGhmZiZAAAAA0MzMJkAAAAAwMzMnQAAAAJiZmSdAAAAAAAAAKEAAAABoZmYoQAAAANDMzChAAAAAMDMzKUAAAACYmZkpQAAAAAAAACpAAAAAaGZmKkAAAADQzMwqQAAAADAzMytAAAAAmJmZK0AAAAAAAAAsQAAAAGhmZixAAAAA0MzMLEAAAAAwMzMtQAAAAJiZmS1AAAAAAAAALkAAAABoZmYuQAAAANDMzC5AAAAAMDMzL0AAAACYmZkvQAAAAAAAADBAAAAANDMzMEAAAABoZmYwQAAAAJiZmTBAAAAAzMzMMEAAAAAAAAAxQAAAADQzMzFAAAAAaGZmMUAAAACYmZkxQAAAAMzMzDFAAAAAAAAAMkAAAAA0MzMyQAAAAGhmZjJAAAAAmJmZMkAAAADMzMwyQAAAAAAAADNAAAAANDMzM0AAAABoZmYzQAAAAJiZmTNAAAAAzMzMM0AAAAAAAAA0QAAAADQzMzRAAAAAaGZmNEAAAACYmZk0QAAAAMzMzDRAAAAAAAAANUAAAAA0MzM1QAAAAGhmZjVAAAAAmJmZNUAAAADMzMw1QAAAAAAAADZAAAAANDMzNkAAAABoZmY2QAAAAJiZmTZAAAAAzMzMNkAAAAAAAAA3QAAAADQzMzdAAAAAaGZmN0AAAACYmZk3QAAAAMzMzDdAAAAAAAAAOEAAAAA0MzM4QAAAAGhmZjhAAAAAmJmZOEAAAADMzMw4QAAAAAAAADlAAAAANDMzOUAAAABoZmY5QA==\"},\"shape\":[128],\"dtype\":\"float64\",\"order\":\"little\"}],[\"y\",{\"type\":\"ndarray\",\"array\":{\"type\":\"bytes\",\"data\":\"OIlBYOXQDkCXbhKDwMobQJqZmZmZmSVAxSCwcmiRMUCLbOf7qXE4QF66SQwCq0BAdZMYBFaOREDeJAaBlUNIQBSuR+F6FExAXI/C9SgcUEAtsp3vp+ZRQLkehetR2FNAF9nO91PjVUAxCKwcWoRXQCuHFtnON1lAFK5H4Xr0WkAGgZVDi6xcQDIIrBxaRF5AexSuR+EKYEDVeOkmMfhgQEW28/3U2GFAvHSTGAS2YkA5tMh2vo9jQL+fGi/dZGRATDeJQWA1ZUDhehSuRwFmQHe+nxovzWZAFK5H4XqUZ0CwcmiR7VxoQFtkO99PHWlABoGVQ4vcaUDNzMzMzIxqQJHtfD81PmtAW2Q730/ta0AlBoGVQ5tsQOSlm8QgUG1Ar0fhehT+bUCpxks3iZFuQI6XbhKDMG9AdpMYBFbOb0Aw3SQGgTVwQCUGgZVDg3BAKVyPwvXIcEAlBoGVQxNxQKRwPQrXW3FAnMQgsHKocUAL16NwPfpxQIPAyqFFRnJAgZVDi2yPckCF61G4HtVyQAisHFpkG3NAEVg5tMhec0AX2c73U6NzQJzEILBy6HNAs53vp8YjdEBV46WbxFh0QOomMQislHRAeekmMQjUdEAOLbKd7w91QCGwcmiRTXVAtMh2vp+KdUDRItv5fsJ1QHnpJjEI9HVAmpmZmZkpdkDVeOkmMVB2QBSuR+F6dHZAzczMzMycdkCPwvUoXL92QMUgsHJo6XZAYxBYObQgd0B7FK5H4Vp3QKabxCCwindA1XjpJjG4d0AEVg4tsuV3QDDdJAaBFXhA5/up8dI9eEAnMQisHGJ4QGMQWDm0iHhAokW28/2seEBcj8L1KNR4QKJFtvP99HhA5tAi2/kWeUC0yHa+nzJ5QIGVQ4tsT3lATmIQWDlseUCXbhKDwIp5QN4kBoGVq3lAqvHSTWLIeUCF61G4Ht15QFyPwvUo9HlAl24Sg8AaekDwp8ZLNzF6QE5iEFg5RHpAsHJoke1UekCOl24Sg2h6QObQItv5fnpARIts5/uRekCcxCCwcqh6QH9qvHSTuHpA30+Nl27KekAw3SQGgeV6QHnpJjEIBHtASOF6FK4fe0Aj2/l+ajR7QIGVQ4tsR3tA2/l+arxce0C0yHa+n3J7QKAaL90kfntADi2yne+He0Dy0k1iEJh7QFCNl24Sq3tAMQisHFq8e0AZBFYOLcp7QH9qvHST2HtAW2Q730/te0A830+Nl/57QCUGgZVDC3xAiUFg5dAafED0/dR46SZ8QObQItv5LnxAXI/C9Sg0fEBSuB6F6zl8QFCNl24SO3xAWDm0yHY2fEDhehSuRzF8QGdmZmZmLnxA7FG4HoUrfED0/dR46SZ8QA==\"},\"shape\":[128],\"dtype\":\"float64\",\"order\":\"little\"}]]}}},\"view\":{\"type\":\"object\",\"name\":\"CDSView\",\"id\":\"p1210\",\"attributes\":{\"filter\":{\"type\":\"object\",\"name\":\"AllIndices\",\"id\":\"p1211\"}}},\"glyph\":{\"type\":\"object\",\"name\":\"Line\",\"id\":\"p1206\",\"attributes\":{\"x\":{\"type\":\"field\",\"field\":\"x\"},\"y\":{\"type\":\"field\",\"field\":\"y\"},\"line_color\":\"tomato\",\"line_width\":2}},\"nonselection_glyph\":{\"type\":\"object\",\"name\":\"Line\",\"id\":\"p1207\",\"attributes\":{\"x\":{\"type\":\"field\",\"field\":\"x\"},\"y\":{\"type\":\"field\",\"field\":\"y\"},\"line_color\":\"tomato\",\"line_alpha\":0.1,\"line_width\":2}},\"muted_glyph\":{\"type\":\"object\",\"name\":\"Line\",\"id\":\"p1208\",\"attributes\":{\"x\":{\"type\":\"field\",\"field\":\"x\"},\"y\":{\"type\":\"field\",\"field\":\"y\"},\"line_color\":\"tomato\",\"line_alpha\":0.2,\"line_width\":2}}}},{\"type\":\"object\",\"name\":\"GlyphRenderer\",\"id\":\"p1299\",\"attributes\":{\"data_source\":{\"type\":\"object\",\"name\":\"ColumnDataSource\",\"id\":\"p1293\",\"attributes\":{\"selected\":{\"type\":\"object\",\"name\":\"Selection\",\"id\":\"p1294\",\"attributes\":{\"indices\":[],\"line_indices\":[]}},\"selection_policy\":{\"type\":\"object\",\"name\":\"UnionRenderers\",\"id\":\"p1295\"},\"data\":{\"type\":\"map\",\"entries\":[[\"x\",{\"type\":\"ndarray\",\"array\":{\"type\":\"bytes\",\"data\":\"AAAAAAAAAAAAAAAAmpnJPwAAAACZmdk/AAAAADMz4z8AAACAmZnpPwAAAAAAAPA/AAAAQDMz8z8AAABAZmb2PwAAAICZmfk/AAAAwMzM/D8AAAAAAAAAQAAAAKCZmQFAAAAAIDMzA0AAAADAzMwEQAAAAGBmZgZAAAAAAAAACEAAAACgmZkJQAAAACAzMwtAAAAAwMzMDEAAAABgZmYOQAAAAAAAABBAAAAA0MzMEEAAAACQmZkRQAAAAGBmZhJAAAAAMDMzE0AAAAAAAAAUQAAAANDMzBRAAAAAkJmZFUAAAABgZmYWQAAAADAzMxdAAAAAAAAAGEAAAADQzMwYQAAAAJCZmRlAAAAAYGZmGkAAAAAwMzMbQAAAAAAAABxAAAAA0MzMHEAAAACQmZkdQAAAAGBmZh5AAAAAMDMzH0AAAAAAAAAgQAAAAGhmZiBAAAAAyMzMIEAAAAAwMzMhQAAAAJiZmSFAAAAAAAAAIkAAAABoZmYiQAAAAMjMzCJAAAAAMDMzI0AAAACYmZkjQAAAAAAAACRAAAAAaGZmJEAAAADIzMwkQAAAADAzMyVAAAAAmJmZJUAAAAAAAAAmQAAAAGhmZiZAAAAAyMzMJkAAAAAwMzMnQAAAAJiZmSdAAAAAAAAAKEAAAABoZmYoQAAAAMjMzChAAAAAMDMzKUAAAACYmZkpQAAAAAAAACpAAAAAaGZmKkAAAADIzMwqQAAAADAzMytAAAAAmJmZK0AAAAAAAAAsQAAAAGhmZixAAAAAyMzMLEAAAAAwMzMtQAAAAJiZmS1AAAAAAAAALkAAAABoZmYuQAAAAMjMzC5AAAAAMDMzL0AAAACYmZkvQAAAAAAAADBAAAAANDMzMEAAAABkZmYwQAAAAJiZmTBAAAAAzMzMMEAAAAAAAAAxQAAAADQzMzFAAAAAZGZmMUAAAACYmZkxQAAAAMzMzDFAAAAAAAAAMkAAAAA0MzMyQAAAAGRmZjJAAAAAmJmZMkAAAADMzMwyQAAAAAAAADNAAAAANDMzM0AAAABkZmYzQAAAAJiZmTNAAAAAzMzMM0AAAAAAAAA0QAAAADQzMzRAAAAAZGZmNEAAAACYmZk0QAAAAMzMzDRAAAAAAAAANUAAAAA0MzM1QAAAAGRmZjVAAAAAmJmZNUAAAADMzMw1QAAAAAAAADZAAAAANDMzNkAAAABkZmY2QAAAAJiZmTZAAAAAzMzMNkAAAAAAAAA3QAAAADQzMzdAAAAAZGZmN0AAAACYmZk3QAAAAMzMzDdAAAAAAAAAOEAAAAA0MzM4QAAAAGRmZjhAAAAAmJmZOEAAAADMzMw4QAAAAAAAADlAAAAANDMzOUAAAABkZmY5QA==\"},\"shape\":[128],\"dtype\":\"float64\",\"order\":\"little\"}],[\"y\",{\"type\":\"ndarray\",\"array\":{\"type\":\"bytes\",\"data\":\"C9ejcD0KB0Atsp3vp8YgQPLSTWIQWClAsHJoke18MEBvEoPAyiE1QB1aZDvfzzlA5KWbxCDwQEBcj8L1KNxGQGMQWDm0yEpAL90kBoHVTkB3vp8aL71RQOomMQisvFNAlkOLbOebVUBKDAIrh3ZXQPYoXI/CVVlAy6FFtvMdW0CwcmiR7dxcQIlBYOXQol5AMN0kBoE1YEDByqFFtgNhQFCNl24S02FA1XjpJjGoYkBeukkMAntjQPyp8dJNQmRAj8L1KFwPZUAZBFYOLeJlQKrx0k1isGZAYeXQIttpZ0D8qfHSTTJoQKJFtvP99GhATDeJQWC1aUAEVg4tsm1qQML1KFyPImtAeekmMQjca0A/NV66SYxsQAwCK4cWOW1A6Pup8dLdbUCsHFpkO49uQH9qvHSTOG9AX7pJDALbb0ApXI/C9ThwQB1aZDvfh3BAj8L1KFzXcEACK4cW2SZxQHsUrkfhcnFA9P3UeOm+cUDufD81XgpyQOF6FK5HWXJA2/l+arykckBWDi2yne9yQFXjpZvEOHNA1XjpJjGAc0DYo3A9CsdzQFtkO99PDXRAW2Q7309VdEBh5dAi25l0QGQ730+N33RA9ihcj8IddUCBlUOLbF91QBFYObTInnVAIbByaJHddUCuR+F6FB52QEW28/3UWHZA2KNwPQqXdkDwp8ZLN9F2QI6XbhKDCHdAJQaBlUNDd0C/nxov3Xx3QFtkO99PtXdAfT81Xrrpd0AlBoGVQxt4QNEi2/l+SnhAd76fGi99eEC0yHa+n6J4QHsUrkfhwnhAVeOlm8TYeEAj2/l+avR4QOf7qfHSFXlAqMZLN4k5eUDm0CLb+V55QCUGgZVDg3lA4XoUrkepeUCgGi/dJM55QG3n+6nx6nlAtvP91HgJekD4U+Olmyx6QLkehetRUHpAgZVDi2xvekDLoUW28416QBfZzvdTq3pAdZMYBFa+ekDLoUW289V6QJ3vp8ZL73pAZ2ZmZmYOe0C7SQwCKyd7QIXrUbgeRXtAZ2ZmZmZWe0BEi2zn+2l7QKJFtvP9fHtA/Knx0k2Se0DLoUW28617QCcxCKwcwntA/tR46SbZe0Bh5dAi2+l7QFtkO99P7XtASOF6FK73e0CuR+F6FAZ8QJzEILByEHxAC9ejcD0afEB1kxgEViZ8QGdmZmZmLnxAXI/C9Sg0fEBQjZduEjt8QEoMAiuHPnxAv58aL91EfEA830+Nl0Z8QKwcWmQ7T3xAoBov3SRWfECgGi/dJFZ8QCuHFtnOT3xAMzMzMzNLfEDByqFFtkN8QMl2vp8aP3xAx0s3iUFAfEA+CtejcEV8QEJg5dAiQ3xASOF6FK4/fEDZzvdT4zV8QA==\"},\"shape\":[128],\"dtype\":\"float64\",\"order\":\"little\"}]]}}},\"view\":{\"type\":\"object\",\"name\":\"CDSView\",\"id\":\"p1300\",\"attributes\":{\"filter\":{\"type\":\"object\",\"name\":\"AllIndices\",\"id\":\"p1301\"}}},\"glyph\":{\"type\":\"object\",\"name\":\"Line\",\"id\":\"p1296\",\"attributes\":{\"x\":{\"type\":\"field\",\"field\":\"x\"},\"y\":{\"type\":\"field\",\"field\":\"y\"},\"line_color\":\"turquoise\",\"line_width\":2}},\"nonselection_glyph\":{\"type\":\"object\",\"name\":\"Line\",\"id\":\"p1297\",\"attributes\":{\"x\":{\"type\":\"field\",\"field\":\"x\"},\"y\":{\"type\":\"field\",\"field\":\"y\"},\"line_color\":\"turquoise\",\"line_alpha\":0.1,\"line_width\":2}},\"muted_glyph\":{\"type\":\"object\",\"name\":\"Line\",\"id\":\"p1298\",\"attributes\":{\"x\":{\"type\":\"field\",\"field\":\"x\"},\"y\":{\"type\":\"field\",\"field\":\"y\"},\"line_color\":\"turquoise\",\"line_alpha\":0.2,\"line_width\":2}}}},{\"type\":\"object\",\"name\":\"GlyphRenderer\",\"id\":\"p1389\",\"attributes\":{\"data_source\":{\"type\":\"object\",\"name\":\"ColumnDataSource\",\"id\":\"p1383\",\"attributes\":{\"selected\":{\"type\":\"object\",\"name\":\"Selection\",\"id\":\"p1384\",\"attributes\":{\"indices\":[],\"line_indices\":[]}},\"selection_policy\":{\"type\":\"object\",\"name\":\"UnionRenderers\",\"id\":\"p1385\"},\"data\":{\"type\":\"map\",\"entries\":[[\"x\",{\"type\":\"ndarray\",\"array\":{\"type\":\"bytes\",\"data\":\"AAAAAAAAAAAAAAAAmpnJPwAAAACamdk/AAAAgDMz4z8AAACAmZnpPwAAAAAAAPA/AAAAQDMz8z8AAACAZmb2PwAAAMCZmfk/AAAAwMzM/D8AAAAAAAAAQAAAAKCZmQFAAAAAQDMzA0AAAADgzMwEQAAAAGBmZgZAAAAAAAAACEAAAACgmZkJQAAAAEAzMwtAAAAA4MzMDEAAAABgZmYOQAAAAAAAABBAAAAA0MzMEEAAAACgmZkRQAAAAHBmZhJAAAAAMDMzE0AAAAAAAAAUQAAAANDMzBRAAAAAoJmZFUAAAABwZmYWQAAAADAzMxdAAAAAAAAAGEAAAADQzMwYQAAAAKCZmRlAAAAAcGZmGkAAAAAwMzMbQAAAAAAAABxAAAAA0MzMHEAAAACgmZkdQAAAAHBmZh5AAAAAMDMzH0AAAAAAAAAgQAAAAGhmZiBAAAAA0MzMIEAAAAA4MzMhQAAAAJiZmSFAAAAAAAAAIkAAAABoZmYiQAAAANDMzCJAAAAAODMzI0AAAACYmZkjQAAAAAAAACRAAAAAaGZmJEAAAADQzMwkQAAAADgzMyVAAAAAmJmZJUAAAAAAAAAmQAAAAGhmZiZAAAAA0MzMJkAAAAA4MzMnQAAAAJiZmSdAAAAAAAAAKEAAAABoZmYoQAAAANDMzChAAAAAODMzKUAAAACYmZkpQAAAAAAAACpAAAAAaGZmKkAAAADQzMwqQAAAADgzMytAAAAAmJmZK0AAAAAAAAAsQAAAAGhmZixAAAAA0MzMLEAAAAA4MzMtQAAAAJiZmS1AAAAAAAAALkAAAABoZmYuQAAAANDMzC5AAAAAODMzL0AAAACYmZkvQAAAAAAAADBAAAAANDMzMEAAAABoZmYwQAAAAJyZmTBAAAAAzMzMMEAAAAAAAAAxQAAAADQzMzFAAAAAaGZmMUAAAACcmZkxQAAAAMzMzDFAAAAAAAAAMkAAAAA0MzMyQAAAAGhmZjJAAAAAnJmZMkAAAADMzMwyQAAAAAAAADNAAAAANDMzM0AAAABoZmYzQAAAAJyZmTNAAAAAzMzMM0AAAAAAAAA0QAAAADQzMzRAAAAAaGZmNEAAAACcmZk0QAAAAMzMzDRAAAAAAAAANUAAAAA0MzM1QAAAAGhmZjVAAAAAnJmZNUAAAADMzMw1QAAAAAAAADZAAAAANDMzNkAAAABoZmY2QAAAAJyZmTZAAAAAzMzMNkAAAAAAAAA3QAAAADQzMzdAAAAAaGZmN0AAAACcmZk3QAAAAMzMzDdAAAAAAAAAOEAAAAA0MzM4QAAAAGhmZjhAAAAAnJmZOEAAAADMzMw4QAAAAAAAADlAAAAANDMzOUAAAABoZmY5QAAAAJyZmTlA\"},\"shape\":[129],\"dtype\":\"float64\",\"order\":\"little\"}],[\"y\",{\"type\":\"ndarray\",\"array\":{\"type\":\"bytes\",\"data\":\"FK5H4XoUI0B3vp8aL90rQAAAAAAAADJABFYOLbKdN0AnMQisHNo+QC2yne+nBkNAne+nxku3RkAw3SQGgVVKQCPb+X5qvE1AYxBYObSoUEArhxbZzndSQPhT46WbRFRA0SLb+X4KVkB56SYxCOxXQBFYObTI1llAexSuR+HaW0Bh5dAi25ldQI/C9ShcL19AwcqhRbZzYEA2XrpJDFJhQKabxCCwMmJAAAAAAAAgY0B9PzVeuvljQPp+arx002RAhetRuB6lZUAhsHJokW1mQML1KFyPMmdAaZHtfD/1Z0AhsHJoka1oQNNNYhBYaWlAeekmMQgsakAlBoGVQ+tqQCGwcmiRfWtAH4XrUbgObEC28/3UeNlsQEW28/3UqG1AJAaBlUNLbkD2KFyPwvVuQN4kBoGVk29A8tJNYhAQcEB56SYxCFRwQJQYBFYOjXBADi2yne/XcEAZBFYOLRpxQB1aZDvfX3FAokW28/2kcUAtsp3vp+ZxQDzfT42XJnJATmIQWDlkckDb+X5qvKRyQFXjpZvE8HJA0SLb+X46c0BV46WbxIBzQGMQWDm0wHNA9ihcj8L9c0CamZmZmTF0QM/3U+OlW3RAF9nO91N7dEDByqFFtqt0QOSlm8Qg4HRAke18PzUOdUBCYOXQIjt1QHE9CtejaHVAj8L1KFyfdUAxCKwcWtR1QMl2vp8aD3ZA3iQGgZVLdkB/arx0k4B2QKabxCCwsnZAQmDl0CLrdkDb+X5qvCR3QPYoXI/CXXdAGQRWDi2Sd0DC9Shcj8J3QG3n+6nx8ndAmpmZmZkheEDP91PjpUt4QAvXo3A9cnhAv58aL92ceEAAAAAAAMB4QLx0kxgE5nhAdZMYBFYOeUCzne+nxjN5QHWTGARWVnlAtMh2vp96eUCBlUOLbJd5QEw3iUFgtXlAKVyPwvXIeUB/arx0k+B5QFK4HoXr+XlAKVyPwvUQekARWDm0yB56QP7UeOkmKXpA4XoUrkc5ekA/NV66SUx6QJqZmZmZYXpAc2iR7Xx3ekDZzvdT44V6QEJg5dAik3pAIbByaJGlekCBlUOLbLd6QOSlm8QgyHpAObTIdr7fekASg8DKofV6QPLSTWIQCHtA001iEFgZe0C7SQwCKyd7QBSuR+F6PHtA+FPjpZtMe0DqJjEIrFR7QESLbOf7aXtALbKd76d2e0AfhetRuH57QJzEILBygHtAokW28/18e0CamZmZmYF7QI6XbhKDiHtACKwcWmSLe0B9PzVeupF7QOxRuB6Fm3tAbxKDwMqZe0Bt5/up8Zp7QP7UeOkmkXtAi2zn+6mJe0AOLbKd74d7QAisHFpki3tABFYOLbKNe0B/arx0k5B7QG8Sg8DKmXtA\"},\"shape\":[129],\"dtype\":\"float64\",\"order\":\"little\"}]]}}},\"view\":{\"type\":\"object\",\"name\":\"CDSView\",\"id\":\"p1390\",\"attributes\":{\"filter\":{\"type\":\"object\",\"name\":\"AllIndices\",\"id\":\"p1391\"}}},\"glyph\":{\"type\":\"object\",\"name\":\"Line\",\"id\":\"p1386\",\"attributes\":{\"x\":{\"type\":\"field\",\"field\":\"x\"},\"y\":{\"type\":\"field\",\"field\":\"y\"},\"line_color\":\"deepskyblue\",\"line_width\":2}},\"nonselection_glyph\":{\"type\":\"object\",\"name\":\"Line\",\"id\":\"p1387\",\"attributes\":{\"x\":{\"type\":\"field\",\"field\":\"x\"},\"y\":{\"type\":\"field\",\"field\":\"y\"},\"line_color\":\"deepskyblue\",\"line_alpha\":0.1,\"line_width\":2}},\"muted_glyph\":{\"type\":\"object\",\"name\":\"Line\",\"id\":\"p1388\",\"attributes\":{\"x\":{\"type\":\"field\",\"field\":\"x\"},\"y\":{\"type\":\"field\",\"field\":\"y\"},\"line_color\":\"deepskyblue\",\"line_alpha\":0.2,\"line_width\":2}}}},{\"type\":\"object\",\"name\":\"GlyphRenderer\",\"id\":\"p1479\",\"attributes\":{\"data_source\":{\"type\":\"object\",\"name\":\"ColumnDataSource\",\"id\":\"p1473\",\"attributes\":{\"selected\":{\"type\":\"object\",\"name\":\"Selection\",\"id\":\"p1474\",\"attributes\":{\"indices\":[],\"line_indices\":[]}},\"selection_policy\":{\"type\":\"object\",\"name\":\"UnionRenderers\",\"id\":\"p1475\"},\"data\":{\"type\":\"map\",\"entries\":[[\"x\",{\"type\":\"ndarray\",\"array\":{\"type\":\"bytes\",\"data\":\"AAAAAAAAAAAAAAAAmpnJPwAAAACamdk/AAAAgDMz4z8AAACAmZnpPwAAAAAAAPA/AAAAQDMz8z8AAACAZmb2PwAAAMCZmfk/AAAAwMzM/D8AAAAAAAAAQAAAAKCZmQFAAAAAQDMzA0AAAADgzMwEQAAAAGBmZgZAAAAAAAAACEAAAACgmZkJQAAAAEAzMwtAAAAA4MzMDEAAAABgZmYOQAAAAAAAABBAAAAA0MzMEEAAAACgmZkRQAAAAHBmZhJAAAAAMDMzE0AAAAAAAAAUQAAAANDMzBRAAAAAoJmZFUAAAABwZmYWQAAAADAzMxdAAAAAAAAAGEAAAADQzMwYQAAAAKCZmRlAAAAAcGZmGkAAAAAwMzMbQAAAAAAAABxAAAAA0MzMHEAAAACgmZkdQAAAAHBmZh5AAAAAMDMzH0AAAAAAAAAgQAAAAGhmZiBAAAAA0MzMIEAAAAA4MzMhQAAAAJiZmSFAAAAAAAAAIkAAAABoZmYiQAAAANDMzCJAAAAAODMzI0AAAACYmZkjQAAAAAAAACRAAAAAaGZmJEAAAADQzMwkQAAAADgzMyVAAAAAmJmZJUAAAAAAAAAmQAAAAGhmZiZAAAAA0MzMJkAAAAA4MzMnQAAAAJiZmSdAAAAAAAAAKEAAAABoZmYoQAAAANDMzChAAAAAODMzKUAAAACYmZkpQAAAAAAAACpAAAAAaGZmKkAAAADQzMwqQAAAADgzMytAAAAAmJmZK0AAAAAAAAAsQAAAAGhmZixAAAAA0MzMLEAAAAA4MzMtQAAAAJiZmS1AAAAAAAAALkAAAABoZmYuQAAAANDMzC5AAAAAODMzL0AAAACYmZkvQAAAAAAAADBAAAAANDMzMEAAAABoZmYwQAAAAJyZmTBAAAAAzMzMMEAAAAAAAAAxQAAAADQzMzFAAAAAaGZmMUAAAACcmZkxQAAAAMzMzDFAAAAAAAAAMkAAAAA0MzMyQAAAAGhmZjJAAAAAnJmZMkAAAADMzMwyQAAAAAAAADNAAAAANDMzM0AAAABoZmYzQAAAAJyZmTNAAAAAzMzMM0AAAAAAAAA0QAAAADQzMzRAAAAAaGZmNEAAAACcmZk0QAAAAMzMzDRAAAAAAAAANUAAAAA0MzM1QAAAAGhmZjVAAAAAnJmZNUAAAADMzMw1QAAAAAAAADZAAAAANDMzNkAAAABoZmY2QAAAAJyZmTZAAAAAzMzMNkAAAAAAAAA3QAAAADQzMzdAAAAAaGZmN0AAAACcmZk3QAAAAMzMzDdAAAAAAAAAOEAAAAA0MzM4QAAAAGhmZjhAAAAAnJmZOEAAAADMzMw4QAAAAAAAADlAAAAANDMzOUAAAABoZmY5QAAAAJyZmTlA\"},\"shape\":[129],\"dtype\":\"float64\",\"order\":\"little\"}],[\"y\",{\"type\":\"ndarray\",\"array\":{\"type\":\"bytes\",\"data\":\"7nw/NV66I0Dwp8ZLN4kvQIts5/up8TNAke18PzXeN0D8qfHSTeJAQLTIdr6f2kNALbKd76eGR0CPwvUoXM9LQPlT46WbhE9AxSCwcmiRUUCR7Xw/NV5TQF66SQwCK1VAN4lBYOXwVkDLoUW2891YQJzEILByqFpARIts5/uJXEBPYhBYOTReQCcxCKwc+l9ADAIrhxbZYECR7Xw/Na5hQEjhehSuZ2JA30+Nl24yY0BkO99PjQdkQPLSTWIQ2GRAd76fGi+tZUDn+6nx0o1mQIGVQ4tsV2dADAIrhxYpaECq8dJNYvBoQEw3iUFgtWlA7nw/NV56akCOl24Sg0BrQCcxCKwcCmxA2c73U+PFbECUGARWDn1tQFG4HoXrMW5ADAIrhxbpbkDSItv5fppvQMl2vp8aJ3BAtMh2vp96cECd76fGS89wQJHtfD81HnFABFYOLbJtcUD2KFyPwr1xQPT91HjpBnJAZ2ZmZmZWckDkpZvEIKByQGq8dJMY5HJA6iYxCKwsc0D0/dR46W5zQIGVQ4tsr3NAiUFg5dDyc0AUrkfhejR0QCGwcmiRdXRAs53vp8azdEC/nxov3fR0QMdLN4lBOHVAVeOlm8R4dUBkO99Pjbd1QIgW2c7363VAJQaBlUMjdkBKDAIrh1Z2QPCnxks3iXZACKwcWmTDdkAtsp3vp/Z2QEoMAiuHLndAZDvfT41nd0AMAiuHFpl3QL+fGi/dxHdAbef7qfHyd0AMAiuHFil4QL+fGi/dVHhAAAAAAAB4eEBCYOXQIpt4QA4tsp3vt3hAVg4tsp3XeEAnMQisHPJ4QAwCK4cWAXlAbef7qfESeUBMN4lBYCV5QBSuR+F6RHlA4XoUrkdheUCkcD0K14N5QGmR7Xw/pXlAqMZLN4nJeUBt5/up8ep5QMHKoUW2A3pADAIrhxYhekBeukkMAjt6QEjhehSuR3pAs53vp8ZTekAZBFYOLWJ6QHe+nxovdXpAZDvfT41/ekDVeOkmMYh6QMHKoUW2k3pAu0kMAiuXekDb+X5qvIR6QDMzMzMzU3pAeekmMQgsekARWDm0yB56QKAaL90kFnpAJzEIrBwSekAMAiuHFiF6QObQItv5NnpAwvUoXI9KekCR7Xw/NWZ6QG8Sg8DKeXpATDeJQWCNekAnMQisHKJ6QIXrUbgetXpAWDm0yHbOekBI4XoUrtd6QD81XrpJ3HpASOF6FK7XekDP91PjpdN6QPp+arx0u3pAWDm0yHaGekC7SQwCK096QGmR7Xw/NXpAc2iR7XwvekD0/dR46S56QGdmZmZmNnpA2/l+arw8ekDJdr6fGkd6QCUGgZVDW3pAFK5H4XpkekB9PzVeunF6QHE9CtejeHpA\"},\"shape\":[129],\"dtype\":\"float64\",\"order\":\"little\"}]]}}},\"view\":{\"type\":\"object\",\"name\":\"CDSView\",\"id\":\"p1480\",\"attributes\":{\"filter\":{\"type\":\"object\",\"name\":\"AllIndices\",\"id\":\"p1481\"}}},\"glyph\":{\"type\":\"object\",\"name\":\"Line\",\"id\":\"p1476\",\"attributes\":{\"x\":{\"type\":\"field\",\"field\":\"x\"},\"y\":{\"type\":\"field\",\"field\":\"y\"},\"line_color\":\"forestgreen\",\"line_width\":2}},\"nonselection_glyph\":{\"type\":\"object\",\"name\":\"Line\",\"id\":\"p1477\",\"attributes\":{\"x\":{\"type\":\"field\",\"field\":\"x\"},\"y\":{\"type\":\"field\",\"field\":\"y\"},\"line_color\":\"forestgreen\",\"line_alpha\":0.1,\"line_width\":2}},\"muted_glyph\":{\"type\":\"object\",\"name\":\"Line\",\"id\":\"p1478\",\"attributes\":{\"x\":{\"type\":\"field\",\"field\":\"x\"},\"y\":{\"type\":\"field\",\"field\":\"y\"},\"line_color\":\"forestgreen\",\"line_alpha\":0.2,\"line_width\":2}}}},{\"type\":\"object\",\"name\":\"GlyphRenderer\",\"id\":\"p1569\",\"attributes\":{\"data_source\":{\"type\":\"object\",\"name\":\"ColumnDataSource\",\"id\":\"p1563\",\"attributes\":{\"selected\":{\"type\":\"object\",\"name\":\"Selection\",\"id\":\"p1564\",\"attributes\":{\"indices\":[],\"line_indices\":[]}},\"selection_policy\":{\"type\":\"object\",\"name\":\"UnionRenderers\",\"id\":\"p1565\"},\"data\":{\"type\":\"map\",\"entries\":[[\"x\",{\"type\":\"ndarray\",\"array\":{\"type\":\"bytes\",\"data\":\"AAAAAAAAAAAAAAAAmpnJPwAAAACamdk/AAAAgDMz4z8AAACAmZnpPwAAAAAAAPA/AAAAQDMz8z8AAACAZmb2PwAAAMCZmfk/AAAAwMzM/D8AAAAAAAAAQAAAAKCZmQFAAAAAQDMzA0AAAADgzMwEQAAAAGBmZgZAAAAAAAAACEAAAACgmZkJQAAAAEAzMwtAAAAA4MzMDEAAAABgZmYOQAAAAAAAABBAAAAA0MzMEEAAAACgmZkRQAAAAHBmZhJAAAAAMDMzE0AAAAAAAAAUQAAAANDMzBRAAAAAoJmZFUAAAABwZmYWQAAAADAzMxdAAAAAAAAAGEAAAADQzMwYQAAAAKCZmRlAAAAAcGZmGkAAAAAwMzMbQAAAAAAAABxAAAAA0MzMHEAAAACgmZkdQAAAAHBmZh5AAAAAMDMzH0AAAAAAAAAgQAAAAGhmZiBAAAAA0MzMIEAAAAA4MzMhQAAAAJiZmSFAAAAAAAAAIkAAAABoZmYiQAAAANDMzCJAAAAAODMzI0AAAACYmZkjQAAAAAAAACRAAAAAaGZmJEAAAADQzMwkQAAAADgzMyVAAAAAmJmZJUAAAAAAAAAmQAAAAGhmZiZAAAAA0MzMJkAAAAA4MzMnQAAAAJiZmSdAAAAAAAAAKEAAAABoZmYoQAAAANDMzChAAAAAODMzKUAAAACYmZkpQAAAAAAAACpAAAAAaGZmKkAAAADQzMwqQAAAADgzMytAAAAAmJmZK0AAAAAAAAAsQAAAAGhmZixAAAAA0MzMLEAAAAA4MzMtQAAAAJiZmS1AAAAAAAAALkAAAABoZmYuQAAAANDMzC5AAAAAODMzL0AAAACYmZkvQAAAAAAAADBAAAAANDMzMEAAAABoZmYwQAAAAJyZmTBAAAAAzMzMMEAAAAAAAAAxQAAAADQzMzFAAAAAaGZmMUAAAACcmZkxQAAAAMzMzDFAAAAAAAAAMkAAAAA0MzMyQAAAAGhmZjJAAAAAnJmZMkAAAADMzMwyQAAAAAAAADNAAAAANDMzM0AAAABoZmYzQAAAAJyZmTNAAAAAzMzMM0AAAAAAAAA0QAAAADQzMzRAAAAAaGZmNEAAAACcmZk0QAAAAMzMzDRAAAAAAAAANUAAAAA0MzM1QAAAAGhmZjVAAAAAnJmZNUAAAADMzMw1QAAAAAAAADZAAAAANDMzNkAAAABoZmY2QAAAAJyZmTZAAAAAzMzMNkAAAAAAAAA3QAAAADQzMzdAAAAAaGZmN0AAAACcmZk3QAAAAMzMzDdAAAAAAAAAOEAAAAA0MzM4QAAAAGhmZjhAAAAAnJmZOEAAAADMzMw4QAAAAAAAADlAAAAANDMzOUAAAABoZmY5QAAAAJyZmTlAAAAAzMzMOUAAAAAAAAA6QA==\"},\"shape\":[131],\"dtype\":\"float64\",\"order\":\"little\"}],[\"y\",{\"type\":\"ndarray\",\"array\":{\"type\":\"bytes\",\"data\":\"5/up8dJNJECmm8QgsHItQAisHFpkOzRAUI2XbhKDPEAnMQisHFpBQJduEoPACkVAAAAAAADASEDTTWIQWDlMQJVDi2znu09AxSCwcmiRUUCiRbbz/VRTQMHKoUW281RAke18PzW+VkDByqFFtlNYQC2yne+nxllAWDm0yHZeW0CkcD0K1+NcQMyhRbbzfV5AJzEIrBz6X0BMN4lBYLVgQOSlm8QggGFAexSuR+FKYkAGgZVDixxjQLByaJHt3GNAZDvfT42XZED2KFyPwmVlQLbz/dR4GWZAUrgehevhZkAfhetRuI5nQOomMQisPGhA2c73U+PVaECBlUOLbJdpQIGVQ4tsJ2pAQmDl0CLbakDwp8ZLN5lrQLtJDAIrR2xAfBSuR+H6bEA/NV66SaxtQA8tsp3vV25A5KWbxCAAb0CvR+F6FK5vQM3MzMzMJHBAu0kMAit3cEAj2/l+asxwQKJFtvP9FHFAQmDl0CJLcUBt5/up8XpxQNNNYhBYiXFAJQaBlUOjcUB/arx0k7hxQDMzMzMz43FA0SLb+X4ackBnZmZmZlZyQIts5/upiXJArkfhehS+ckDByqFFtvtyQMUgsHJoQXNAzczMzMyEc0DHSzeJQdBzQM3MzMzMFHRAVeOlm8RYdEDZzvdT4510QGQ730+N33RAbef7qfEidUB7FK5H4WJ1QJZDi2znm3VAne+nxkvfdUAzMzMzMxt2QMUgsHJoWXZA5tAi2/mOdkCDwMqhRcZ2QKRwPQrX+3ZAy6FFtvMtd0Dn+6nx0mV3QI6XbhKDmHdAMQisHFrMd0DVeOkmMQB4QH9qvHSTMHhArkfhehReeEDfT42Xbop4QJZDi2zns3hAz/dT46XbeECF61G4HgV5QEjhehSuJ3lAAAAAAABQeUBCYOXQInN5QIGVQ4tsl3lASgwCK4e2eUCsHFpkO8d5QAwCK4cW2XlAne+nxkvPeUA830+Nl755QDeJQWDlwHlAl24Sg8DSeUCXbhKDwNJ5QIlBYOXQ2nlAZ2ZmZmbueUA+CtejcAV6QJZDi2znG3pA6iYxCKw0ekBCYOXQIkt6QKJFtvP9XHpAC9ejcD1qekDqJjEIrHx6QEoMAiuHjnpAK4cW2c6fekD+1HjpJrl6QNEi2/l+0npAJzEIrBzqekD4U+OlmwR7QNEi2/l+GntArBxaZDsve0AGgZVDi0R7QPT91HjpTntAXrpJDAJbe0BSuB6F62F7QNnO91PjXXtA7FG4HoVTe0AIrBxaZEN7QC2yne+nLntAPN9PjZcme0BbZDvfTxV7QPLSTWIQCHtAexSuR+ECe0ASg8DKofV6QBov3SQG8XpAMN0kBoHlekDZzvdT4816QOomMQisxHpA6iYxCKzEekB3vp8aL716QA==\"},\"shape\":[131],\"dtype\":\"float64\",\"order\":\"little\"}]]}}},\"view\":{\"type\":\"object\",\"name\":\"CDSView\",\"id\":\"p1570\",\"attributes\":{\"filter\":{\"type\":\"object\",\"name\":\"AllIndices\",\"id\":\"p1571\"}}},\"glyph\":{\"type\":\"object\",\"name\":\"Line\",\"id\":\"p1566\",\"attributes\":{\"x\":{\"type\":\"field\",\"field\":\"x\"},\"y\":{\"type\":\"field\",\"field\":\"y\"},\"line_color\":\"coral\",\"line_width\":2}},\"nonselection_glyph\":{\"type\":\"object\",\"name\":\"Line\",\"id\":\"p1567\",\"attributes\":{\"x\":{\"type\":\"field\",\"field\":\"x\"},\"y\":{\"type\":\"field\",\"field\":\"y\"},\"line_color\":\"coral\",\"line_alpha\":0.1,\"line_width\":2}},\"muted_glyph\":{\"type\":\"object\",\"name\":\"Line\",\"id\":\"p1568\",\"attributes\":{\"x\":{\"type\":\"field\",\"field\":\"x\"},\"y\":{\"type\":\"field\",\"field\":\"y\"},\"line_color\":\"coral\",\"line_alpha\":0.2,\"line_width\":2}}}},{\"type\":\"object\",\"name\":\"GlyphRenderer\",\"id\":\"p1659\",\"attributes\":{\"data_source\":{\"type\":\"object\",\"name\":\"ColumnDataSource\",\"id\":\"p1653\",\"attributes\":{\"selected\":{\"type\":\"object\",\"name\":\"Selection\",\"id\":\"p1654\",\"attributes\":{\"indices\":[],\"line_indices\":[]}},\"selection_policy\":{\"type\":\"object\",\"name\":\"UnionRenderers\",\"id\":\"p1655\"},\"data\":{\"type\":\"map\",\"entries\":[[\"x\",{\"type\":\"ndarray\",\"array\":{\"type\":\"bytes\",\"data\":\"AAAAAAAAAAAAAAAAmpnJPwAAAACamdk/AAAAgDMz4z8AAAAAmpnpPwAAAAAAAPA/AAAAQDMz8z8AAACAZmb2PwAAAMCZmfk/AAAAAM3M/D8AAAAAAAAAQAAAAKCZmQFAAAAAQDMzA0AAAADgzMwEQAAAAIBmZgZAAAAAAAAACEAAAACgmZkJQAAAAEAzMwtAAAAA4MzMDEAAAACAZmYOQAAAAAAAABBAAAAA0MzMEEAAAACgmZkRQAAAAHBmZhJAAAAAQDMzE0AAAAAAAAAUQAAAANDMzBRAAAAAoJmZFUAAAABwZmYWQAAAAEAzMxdAAAAAAAAAGEAAAADQzMwYQAAAAKCZmRlAAAAAcGZmGkAAAABAMzMbQAAAAAAAABxAAAAA0MzMHEAAAACgmZkdQAAAAHBmZh5AAAAAQDMzH0AAAAAAAAAgQAAAAGhmZiBAAAAA0MzMIEAAAAA4MzMhQAAAAKCZmSFAAAAAAAAAIkAAAABoZmYiQAAAANDMzCJAAAAAODMzI0AAAACgmZkjQAAAAAAAACRAAAAAaGZmJEAAAADQzMwkQAAAADgzMyVAAAAAoJmZJUAAAAAAAAAmQAAAAGhmZiZAAAAA0MzMJkAAAAA4MzMnQAAAAKCZmSdAAAAAAAAAKEAAAABoZmYoQAAAANDMzChAAAAAODMzKUAAAACgmZkpQAAAAAAAACpAAAAAaGZmKkAAAADQzMwqQAAAADgzMytAAAAAoJmZK0AAAAAAAAAsQAAAAGhmZixAAAAA0MzMLEAAAAA4MzMtQAAAAKCZmS1AAAAAAAAALkAAAABoZmYuQAAAANDMzC5AAAAAODMzL0AAAACgmZkvQAAAAAAAADBAAAAANDMzMEAAAABoZmYwQAAAAJyZmTBAAAAA0MzMMEAAAAAAAAAxQAAAADQzMzFAAAAAaGZmMUAAAACcmZkxQAAAANDMzDFAAAAAAAAAMkAAAAA0MzMyQAAAAGhmZjJAAAAAnJmZMkAAAADQzMwyQAAAAAAAADNAAAAANDMzM0AAAABoZmYzQAAAAJyZmTNAAAAA0MzMM0AAAAAAAAA0QAAAADQzMzRAAAAAaGZmNEAAAACcmZk0QAAAANDMzDRAAAAAAAAANUAAAAA0MzM1QAAAAGhmZjVAAAAAnJmZNUAAAADQzMw1QAAAAAAAADZAAAAANDMzNkAAAABoZmY2QAAAAJyZmTZAAAAA0MzMNkAAAAAAAAA3QAAAADQzMzdAAAAAaGZmN0AAAACcmZk3QAAAANDMzDdAAAAAAAAAOEAAAAA0MzM4QAAAAGhmZjhAAAAAnJmZOEAAAADQzMw4QAAAAAAAADlAAAAANDMzOUAAAABoZmY5QA==\"},\"shape\":[128],\"dtype\":\"float64\",\"order\":\"little\"}],[\"y\",{\"type\":\"ndarray\",\"array\":{\"type\":\"bytes\",\"data\":\"PzVeukkMKEDhehSuR2EwQMuhRbbzfTVA1XjpJjGIOkBEi2zn+ylAQI/C9Shcz0JAYeXQItu5RUBcj8L1KBxJQIGVQ4tsZ0xAfT81XrrJT0Czne+nxitSQJduEoPA6lNAJzEIrBzaVUDC9Shcj8JXQKjGSzeJgVlAVeOlm8RgW0AYBFYOLTJdQNIi2/l+Cl9Ax0s3iUFwYEA5tMh2vk9hQLTIdr6fKmJAMzMzMzMDY0DP91PjpctjQEoMAiuHpmRA1XjpJjF4ZUBh5dAi20lmQAAAAAAAEGdAlkOLbOfbZ0BMN4lBYJVoQPhT46WbVGlAs53vp8YLakBzaJHtfL9qQB1aZDvff2tAyXa+nxo/bECe76fGS+dsQG4Sg8DKkW1AVzm0yHYubkA+CtejcM1uQB6F61G4bm9AeekmMQgMcEDb+X5qvGRwQEoMAiuHtnBAN4lBYOUIcUCuR+F6FFZxQB+F61G4pnFADAIrhxb5cUCBlUOLbEdyQIPAyqFFjnJAfT81XrrZckB3vp8aLyVzQH0/NV66aXNAgZVDi2yvc0AGgZVDi/RzQBFYObTINnRAj8L1KFx/dECXbhKDwMJ0QJ3vp8ZLB3VAJzEIrBxKdUA830+Nl4Z1QML1KFyPynVAW2Q7308FdkDufD81XkJ2QBFYObTIdnZAMQisHFqsdkBcj8L1KNx2QAAAAAAAEHdAoBov3SRGd0BEi2zn+3l3QOf7qfHSrXdAF9nO91Pbd0BFtvP91Ah4QHNoke18N3hAJzEIrBxieEBYObTIdo54QBKDwMqhtXhATDeJQWDdeEAdWmQ73/d4QPLSTWIQEHlAObTIdr4veUD0/dR46VZ5QL+fGi/ddHlAEoPAyqGNeUBh5dAi26l5QCuHFtnOx3lAc2iR7XzneUAw3SQGgQ16QG8Sg8DKMXpAMN0kBoFVekD4U+Olm3R6QL+fGi/dlHpABFYOLbK1ekBMN4lBYNV6QKAaL90k7npA/tR46SYBe0BkO99PjQ97QLx0kxgEJntAke18PzU+e0Dwp8ZLN1F7QMl2vp8aZ3tAtMh2vp9ye0AMAiuHFol7QOxRuB6Fm3tA2KNwPQqne0BEi2zn+7F7QDZeukkMuntAJQaBlUPDe0ASg8DKoc17QAAAAAAA2HtAAAAAAADYe0Bt5/up8eJ7QOf7qfHS5XtA/Knx0k3ae0AdWmQ738d7QEw3iUFgrXtAIbByaJF9e0CLbOf7qUF7QOF6FK5HEXtArBxaZDvnekBpke18P8V6QIXrUbgetXpAmpmZmZmpekCLbOf7qWl6QHsUrkfhKnpAN4lBYOUIekBV46WbxPh5QFyPwvUo9HlAcT0K16PoeUB3vp8aL+V5QA==\"},\"shape\":[128],\"dtype\":\"float64\",\"order\":\"little\"}]]}}},\"view\":{\"type\":\"object\",\"name\":\"CDSView\",\"id\":\"p1660\",\"attributes\":{\"filter\":{\"type\":\"object\",\"name\":\"AllIndices\",\"id\":\"p1661\"}}},\"glyph\":{\"type\":\"object\",\"name\":\"Line\",\"id\":\"p1656\",\"attributes\":{\"x\":{\"type\":\"field\",\"field\":\"x\"},\"y\":{\"type\":\"field\",\"field\":\"y\"},\"line_color\":\"darkcyan\",\"line_width\":2}},\"nonselection_glyph\":{\"type\":\"object\",\"name\":\"Line\",\"id\":\"p1657\",\"attributes\":{\"x\":{\"type\":\"field\",\"field\":\"x\"},\"y\":{\"type\":\"field\",\"field\":\"y\"},\"line_color\":\"darkcyan\",\"line_alpha\":0.1,\"line_width\":2}},\"muted_glyph\":{\"type\":\"object\",\"name\":\"Line\",\"id\":\"p1658\",\"attributes\":{\"x\":{\"type\":\"field\",\"field\":\"x\"},\"y\":{\"type\":\"field\",\"field\":\"y\"},\"line_color\":\"darkcyan\",\"line_alpha\":0.2,\"line_width\":2}}}},{\"type\":\"object\",\"name\":\"GlyphRenderer\",\"id\":\"p1749\",\"attributes\":{\"data_source\":{\"type\":\"object\",\"name\":\"ColumnDataSource\",\"id\":\"p1743\",\"attributes\":{\"selected\":{\"type\":\"object\",\"name\":\"Selection\",\"id\":\"p1744\",\"attributes\":{\"indices\":[],\"line_indices\":[]}},\"selection_policy\":{\"type\":\"object\",\"name\":\"UnionRenderers\",\"id\":\"p1745\"},\"data\":{\"type\":\"map\",\"entries\":[[\"x\",{\"type\":\"ndarray\",\"array\":{\"type\":\"bytes\",\"data\":\"AAAAAAAAAAAAAAAAmpnJPwAAAACamdk/AAAAADMz4z8AAACAmZnpPwAAAAAAAPA/AAAAQDMz8z8AAACAZmb2PwAAAICZmfk/AAAAwMzM/D8AAAAAAAAAQAAAAKCZmQFAAAAAQDMzA0AAAADAzMwEQAAAAGBmZgZAAAAAAAAACEAAAACgmZkJQAAAAEAzMwtAAAAAwMzMDEAAAABgZmYOQAAAAAAAABBAAAAA0MzMEEAAAACgmZkRQAAAAGBmZhJAAAAAMDMzE0AAAAAAAAAUQAAAANDMzBRAAAAAoJmZFUAAAABgZmYWQAAAADAzMxdAAAAAAAAAGEAAAADQzMwYQAAAAKCZmRlAAAAAYGZmGkAAAAAwMzMbQAAAAAAAABxAAAAA0MzMHEAAAACgmZkdQAAAAGBmZh5AAAAAMDMzH0AAAAAAAAAgQAAAAGhmZiBAAAAA0MzMIEAAAAAwMzMhQAAAAJiZmSFAAAAAAAAAIkAAAABoZmYiQAAAANDMzCJAAAAAMDMzI0AAAACYmZkjQAAAAAAAACRAAAAAaGZmJEAAAADQzMwkQAAAADAzMyVAAAAAmJmZJUAAAAAAAAAmQAAAAGhmZiZAAAAA0MzMJkAAAAAwMzMnQAAAAJiZmSdAAAAAAAAAKEAAAABoZmYoQAAAANDMzChAAAAAMDMzKUAAAACYmZkpQAAAAAAAACpAAAAAaGZmKkAAAADQzMwqQAAAADAzMytAAAAAmJmZK0AAAAAAAAAsQAAAAGhmZixAAAAA0MzMLEAAAAAwMzMtQAAAAJiZmS1AAAAAAAAALkAAAABoZmYuQAAAANDMzC5AAAAAMDMzL0AAAACYmZkvQAAAAAAAADBAAAAANDMzMEAAAABoZmYwQAAAAJiZmTBAAAAAzMzMMEAAAAAAAAAxQAAAADQzMzFAAAAAaGZmMUAAAACYmZkxQAAAAMzMzDFAAAAAAAAAMkAAAAA0MzMyQAAAAGhmZjJAAAAAmJmZMkAAAADMzMwyQAAAAAAAADNAAAAANDMzM0AAAABoZmYzQAAAAJiZmTNAAAAAzMzMM0AAAAAAAAA0QAAAADQzMzRAAAAAaGZmNEAAAACYmZk0QAAAAMzMzDRAAAAAAAAANUAAAAA0MzM1QAAAAGhmZjVAAAAAmJmZNUAAAADMzMw1QAAAAAAAADZAAAAANDMzNkAAAABoZmY2QAAAAJiZmTZAAAAAzMzMNkAAAAAAAAA3QAAAADQzMzdAAAAAaGZmN0AAAACYmZk3QAAAAMzMzDdAAAAAAAAAOEAAAAA0MzM4QAAAAGhmZjhAAAAAmJmZOEAAAADMzMw4QAAAAAAAADlAAAAANDMzOUAAAABoZmY5QA==\"},\"shape\":[128],\"dtype\":\"float64\",\"order\":\"little\"}],[\"y\",{\"type\":\"ndarray\",\"array\":{\"type\":\"bytes\",\"data\":\"qMZLN4lBJ0Dy0k1iEFgwQMdLN4lBYDRA2KNwPQrXOEC7SQwCK4c+QPp+arx0k0JAiBbZzvdTR0ApXI/C9ehKQN4kBoGVA09Abef7qfEyUUAhsHJokQ1TQCuHFtnOt1RA/Knx0k2CVkB3vp8aL31YQCuHFtnOV1pAAAAAAAAgXEDSItv5fupdQKFFtvP9tF9AYxBYObSoYEDufD81XnphQGq8dJMYVGJA+FPjpZskY0Bt5/up8QJkQAwCK4cWyWRAokW28/2UZUBCYOXQIltmQOSlm8QgIGdAdZMYBFbuZ0AZBFYOLbJoQLx0kxgEdmlAbef7qfEyakBYObTIds5qQB1aZDvff2tA+n5qvHQjbEDNzMzMzMxsQJVDi2zne21AYeXQItspbkA1XrpJDNJuQA8tsp3vd29A+n5qvHQLcEBvEoPAyllwQGdmZmZmpnBAbxKDwMrpcEB/arx0kyhxQIts5/upaXFAI9v5fmqkcUC7SQwCK99xQEoMAiuHHnJA2KNwPQpfckBcj8L1KKRyQN4kBoGV63JAVeOlm8Q4c0DP91PjpYNzQFK4HoXryXNAWDm0yHYOdEBnZmZmZk50QHNoke18j3RAAAAAAADQdEAUrkfhegx1QCcxCKwcSnVAwvUoXI+CdUDeJAaBlbt1QPT91Hjp9nVAl24Sg8AqdkC7SQwCK192QHWTGARWhnZAJzEIrByydkBh5dAi29l2QCUGgZVD+3ZAW2Q7308ld0COl24Sg1B3QDzfT42XfndA6iYxCKysd0CgGi/dJNZ3QFYOLbKd/3dABoGVQ4sseEC8dJMYBFZ4QHE9CtejgHhAJQaBlUOreEBjEFg5tNB4QDEIrBxa7HhA+FPjpZsMeUCzne+nxjN5QP7UeOkmUXlAvHSTGAR2eUAL16NwPZJ5QFYOLbKdr3lAK4cW2c7HeUD6fmq8dON5QEjhehSu/3lAlkOLbOcbekBYObTIdj56QKRwPQrXW3pAc2iR7Xx3ekDRItv5fop6QCcxCKwconpABoGVQ4u0ekBeukkMAst6QEw3iUFg1XpArBxaZDvnekAZBFYOLfJ6QIXrUbge/XpAcT0K16MIe0DVeOkmMRh7QDzfT42XJntAMzMzMzMre0CsHFpkOy97QBKDwMqhPXtAf2q8dJNIe0AGgZVDi0R7QI6XbhKDQHtABoGVQ4tEe0AAAAAAAEh7QAAAAAAASHtA9P3UeOlOe0Dm0CLb+VZ7QNv5fmq8XHtAUrgehethe0BKDAIrh2Z7QML1KFyPantAPgrXo3Bte0Aw3SQGgXV7QJ3vp8ZLf3tAj8L1KFyHe0CBlUOLbI97QIGVQ4tsj3tAeekmMQiUe0DqJjEIrJx7QA==\"},\"shape\":[128],\"dtype\":\"float64\",\"order\":\"little\"}]]}}},\"view\":{\"type\":\"object\",\"name\":\"CDSView\",\"id\":\"p1750\",\"attributes\":{\"filter\":{\"type\":\"object\",\"name\":\"AllIndices\",\"id\":\"p1751\"}}},\"glyph\":{\"type\":\"object\",\"name\":\"Line\",\"id\":\"p1746\",\"attributes\":{\"x\":{\"type\":\"field\",\"field\":\"x\"},\"y\":{\"type\":\"field\",\"field\":\"y\"},\"line_color\":\"blue\",\"line_width\":2}},\"nonselection_glyph\":{\"type\":\"object\",\"name\":\"Line\",\"id\":\"p1747\",\"attributes\":{\"x\":{\"type\":\"field\",\"field\":\"x\"},\"y\":{\"type\":\"field\",\"field\":\"y\"},\"line_color\":\"blue\",\"line_alpha\":0.1,\"line_width\":2}},\"muted_glyph\":{\"type\":\"object\",\"name\":\"Line\",\"id\":\"p1748\",\"attributes\":{\"x\":{\"type\":\"field\",\"field\":\"x\"},\"y\":{\"type\":\"field\",\"field\":\"y\"},\"line_color\":\"blue\",\"line_alpha\":0.2,\"line_width\":2}}}}],\"toolbar\":{\"type\":\"object\",\"name\":\"Toolbar\",\"id\":\"p1010\",\"attributes\":{\"tools\":[{\"type\":\"object\",\"name\":\"PanTool\",\"id\":\"p1025\"},{\"type\":\"object\",\"name\":\"WheelZoomTool\",\"id\":\"p1026\"},{\"type\":\"object\",\"name\":\"BoxZoomTool\",\"id\":\"p1027\",\"attributes\":{\"overlay\":{\"type\":\"object\",\"name\":\"BoxAnnotation\",\"id\":\"p1028\",\"attributes\":{\"syncable\":false,\"level\":\"overlay\",\"visible\":false,\"left_units\":\"canvas\",\"right_units\":\"canvas\",\"bottom_units\":\"canvas\",\"top_units\":\"canvas\",\"line_color\":\"black\",\"line_alpha\":1.0,\"line_width\":2,\"line_dash\":[4,4],\"fill_color\":\"lightgrey\",\"fill_alpha\":0.5}}}},{\"type\":\"object\",\"name\":\"SaveTool\",\"id\":\"p1029\"},{\"type\":\"object\",\"name\":\"ResetTool\",\"id\":\"p1030\"},{\"type\":\"object\",\"name\":\"HelpTool\",\"id\":\"p1031\"}]}},\"left\":[{\"type\":\"object\",\"name\":\"LinearAxis\",\"id\":\"p1020\",\"attributes\":{\"ticker\":{\"type\":\"object\",\"name\":\"BasicTicker\",\"id\":\"p1021\",\"attributes\":{\"mantissas\":[1,2,5]}},\"formatter\":{\"type\":\"object\",\"name\":\"BasicTickFormatter\",\"id\":\"p1022\"},\"axis_label\":\"km/h\",\"major_label_policy\":{\"type\":\"object\",\"name\":\"AllLabels\",\"id\":\"p1023\"}}}],\"below\":[{\"type\":\"object\",\"name\":\"LinearAxis\",\"id\":\"p1015\",\"attributes\":{\"ticker\":{\"type\":\"object\",\"name\":\"BasicTicker\",\"id\":\"p1016\",\"attributes\":{\"mantissas\":[1,2,5]}},\"formatter\":{\"type\":\"object\",\"name\":\"BasicTickFormatter\",\"id\":\"p1017\"},\"axis_label\":\"seconds from exit\",\"major_label_policy\":{\"type\":\"object\",\"name\":\"AllLabels\",\"id\":\"p1018\"}}}],\"center\":[{\"type\":\"object\",\"name\":\"Grid\",\"id\":\"p1019\",\"attributes\":{\"axis\":{\"id\":\"p1015\"}}},{\"type\":\"object\",\"name\":\"Grid\",\"id\":\"p1024\",\"attributes\":{\"dimension\":1,\"axis\":{\"id\":\"p1020\"}}},{\"type\":\"object\",\"name\":\"Legend\",\"id\":\"p1121\",\"attributes\":{\"items\":[{\"type\":\"object\",\"name\":\"LegendItem\",\"id\":\"p1122\",\"attributes\":{\"label\":{\"type\":\"value\",\"value\":\"R1_12-12-32 - 414.56\"},\"renderers\":[{\"id\":\"p1118\"}]}},{\"type\":\"object\",\"name\":\"LegendItem\",\"id\":\"p1212\",\"attributes\":{\"label\":{\"type\":\"value\",\"value\":\"R2_13-22-20 - 447.53\"},\"renderers\":[{\"id\":\"p1209\"}]}},{\"type\":\"object\",\"name\":\"LegendItem\",\"id\":\"p1302\",\"attributes\":{\"label\":{\"type\":\"value\",\"value\":\"R3_14-29-41 - 451.62\"},\"renderers\":[{\"id\":\"p1299\"}]}},{\"type\":\"object\",\"name\":\"LegendItem\",\"id\":\"p1392\",\"attributes\":{\"label\":{\"type\":\"value\",\"value\":\"R4_15-41-08 - 440.82\"},\"renderers\":[{\"id\":\"p1389\"}]}},{\"type\":\"object\",\"name\":\"LegendItem\",\"id\":\"p1482\",\"attributes\":{\"label\":{\"type\":\"value\",\"value\":\"R5_17-02-21 - 427.18\"},\"renderers\":[{\"id\":\"p1479\"}]}},{\"type\":\"object\",\"name\":\"LegendItem\",\"id\":\"p1572\",\"attributes\":{\"label\":{\"type\":\"value\",\"value\":\"R6_18-17-00 - 432.99\"},\"renderers\":[{\"id\":\"p1569\"}]}},{\"type\":\"object\",\"name\":\"LegendItem\",\"id\":\"p1662\",\"attributes\":{\"label\":{\"type\":\"value\",\"value\":\"R7_11-49-45 - 440.78\"},\"renderers\":[{\"id\":\"p1659\"}]}},{\"type\":\"object\",\"name\":\"LegendItem\",\"id\":\"p1752\",\"attributes\":{\"label\":{\"type\":\"value\",\"value\":\"R8_13-00-55 - 439.15\"},\"renderers\":[{\"id\":\"p1749\"}]}}]}}]}}]}};\n",
       "  const render_items = [{\"docid\":\"9114fc0f-4973-4d6c-a2ff-832dd4730762\",\"roots\":{\"p1001\":\"d247e364-b83f-4240-bad1-840c231b2764\"},\"root_ids\":[\"p1001\"]}];\n",
       "  root.Bokeh.embed.embed_items_notebook(docs_json, render_items);\n",
       "  }\n",
       "  if (root.Bokeh !== undefined) {\n",
       "    embed_document(root);\n",
       "  } else {\n",
       "    let attempts = 0;\n",
       "    const timer = setInterval(function(root) {\n",
       "      if (root.Bokeh !== undefined) {\n",
       "        clearInterval(timer);\n",
       "        embed_document(root);\n",
       "      } else {\n",
       "        attempts++;\n",
       "        if (attempts > 100) {\n",
       "          clearInterval(timer);\n",
       "          console.log(\"Bokeh: ERROR: Unable to run BokehJS code because BokehJS library is missing\");\n",
       "        }\n",
       "      }\n",
       "    }, 10, root)\n",
       "  }\n",
       "})(window);"
      ],
      "application/vnd.bokehjs_exec.v0+json": ""
     },
     "metadata": {
      "application/vnd.bokehjs_exec.v0+json": {
       "id": "p1001"
      }
     },
     "output_type": "display_data"
    }
   ],
   "source": [
    "bp.show(allJumpsPlot)"
   ]
  },
  {
   "cell_type": "code",
   "execution_count": null,
   "id": "9423a447-bd3e-49ef-b615-f133ce523a0e",
   "metadata": {},
   "outputs": [],
   "source": []
  }
 ],
 "metadata": {
  "kernelspec": {
   "display_name": "Python 3 (ipykernel)",
   "language": "python",
   "name": "python3"
  },
  "language_info": {
   "codemirror_mode": {
    "name": "ipython",
    "version": 3
   },
   "file_extension": ".py",
   "mimetype": "text/x-python",
   "name": "python",
   "nbconvert_exporter": "python",
   "pygments_lexer": "ipython3",
   "version": "3.11.4"
  }
 },
 "nbformat": 4,
 "nbformat_minor": 5
}
