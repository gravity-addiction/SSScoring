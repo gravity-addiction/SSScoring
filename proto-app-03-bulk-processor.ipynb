{
 "cells": [
  {
   "cell_type": "markdown",
   "id": "36a745d9-2003-496e-a394-290f63a970b7",
   "metadata": {},
   "source": [
    "# Speed Skydiving scoring bulk files processor\n",
    "Uses the `./data` directory as a data lake.  It finds all valid FlySight files in that directory, from 0 to as many as it finds and fit in memory, and process them all.  Summary of \"all files\" or \"all jumps\" at the bottom of the document."
   ]
  },
  {
   "cell_type": "code",
   "execution_count": 1,
   "id": "98c7a164-9492-4672-904b-5bf3abf61773",
   "metadata": {
    "jupyter": {
     "source_hidden": true
    }
   },
   "outputs": [
    {
     "data": {
      "application/javascript": [
       "'use strict';\n",
       "(function(root) {\n",
       "  function now() {\n",
       "    return new Date();\n",
       "  }\n",
       "\n",
       "  const force = true;\n",
       "\n",
       "  if (typeof root._bokeh_onload_callbacks === \"undefined\" || force === true) {\n",
       "    root._bokeh_onload_callbacks = [];\n",
       "    root._bokeh_is_loading = undefined;\n",
       "  }\n",
       "\n",
       "const JS_MIME_TYPE = 'application/javascript';\n",
       "  const HTML_MIME_TYPE = 'text/html';\n",
       "  const EXEC_MIME_TYPE = 'application/vnd.bokehjs_exec.v0+json';\n",
       "  const CLASS_NAME = 'output_bokeh rendered_html';\n",
       "\n",
       "  /**\n",
       "   * Render data to the DOM node\n",
       "   */\n",
       "  function render(props, node) {\n",
       "    const script = document.createElement(\"script\");\n",
       "    node.appendChild(script);\n",
       "  }\n",
       "\n",
       "  /**\n",
       "   * Handle when an output is cleared or removed\n",
       "   */\n",
       "  function handleClearOutput(event, handle) {\n",
       "    function drop(id) {\n",
       "      const view = Bokeh.index.get_by_id(id)\n",
       "      if (view != null) {\n",
       "        view.model.document.clear()\n",
       "        Bokeh.index.delete(view)\n",
       "      }\n",
       "    }\n",
       "\n",
       "    const cell = handle.cell;\n",
       "\n",
       "    const id = cell.output_area._bokeh_element_id;\n",
       "    const server_id = cell.output_area._bokeh_server_id;\n",
       "\n",
       "    // Clean up Bokeh references\n",
       "    if (id != null) {\n",
       "      drop(id)\n",
       "    }\n",
       "\n",
       "    if (server_id !== undefined) {\n",
       "      // Clean up Bokeh references\n",
       "      const cmd_clean = \"from bokeh.io.state import curstate; print(curstate().uuid_to_server['\" + server_id + \"'].get_sessions()[0].document.roots[0]._id)\";\n",
       "      cell.notebook.kernel.execute(cmd_clean, {\n",
       "        iopub: {\n",
       "          output: function(msg) {\n",
       "            const id = msg.content.text.trim()\n",
       "            drop(id)\n",
       "          }\n",
       "        }\n",
       "      });\n",
       "      // Destroy server and session\n",
       "      const cmd_destroy = \"import bokeh.io.notebook as ion; ion.destroy_server('\" + server_id + \"')\";\n",
       "      cell.notebook.kernel.execute(cmd_destroy);\n",
       "    }\n",
       "  }\n",
       "\n",
       "  /**\n",
       "   * Handle when a new output is added\n",
       "   */\n",
       "  function handleAddOutput(event, handle) {\n",
       "    const output_area = handle.output_area;\n",
       "    const output = handle.output;\n",
       "\n",
       "    // limit handleAddOutput to display_data with EXEC_MIME_TYPE content only\n",
       "    if ((output.output_type != \"display_data\") || (!Object.prototype.hasOwnProperty.call(output.data, EXEC_MIME_TYPE))) {\n",
       "      return\n",
       "    }\n",
       "\n",
       "    const toinsert = output_area.element.find(\".\" + CLASS_NAME.split(' ')[0]);\n",
       "\n",
       "    if (output.metadata[EXEC_MIME_TYPE][\"id\"] !== undefined) {\n",
       "      toinsert[toinsert.length - 1].firstChild.textContent = output.data[JS_MIME_TYPE];\n",
       "      // store reference to embed id on output_area\n",
       "      output_area._bokeh_element_id = output.metadata[EXEC_MIME_TYPE][\"id\"];\n",
       "    }\n",
       "    if (output.metadata[EXEC_MIME_TYPE][\"server_id\"] !== undefined) {\n",
       "      const bk_div = document.createElement(\"div\");\n",
       "      bk_div.innerHTML = output.data[HTML_MIME_TYPE];\n",
       "      const script_attrs = bk_div.children[0].attributes;\n",
       "      for (let i = 0; i < script_attrs.length; i++) {\n",
       "        toinsert[toinsert.length - 1].firstChild.setAttribute(script_attrs[i].name, script_attrs[i].value);\n",
       "        toinsert[toinsert.length - 1].firstChild.textContent = bk_div.children[0].textContent\n",
       "      }\n",
       "      // store reference to server id on output_area\n",
       "      output_area._bokeh_server_id = output.metadata[EXEC_MIME_TYPE][\"server_id\"];\n",
       "    }\n",
       "  }\n",
       "\n",
       "  function register_renderer(events, OutputArea) {\n",
       "\n",
       "    function append_mime(data, metadata, element) {\n",
       "      // create a DOM node to render to\n",
       "      const toinsert = this.create_output_subarea(\n",
       "        metadata,\n",
       "        CLASS_NAME,\n",
       "        EXEC_MIME_TYPE\n",
       "      );\n",
       "      this.keyboard_manager.register_events(toinsert);\n",
       "      // Render to node\n",
       "      const props = {data: data, metadata: metadata[EXEC_MIME_TYPE]};\n",
       "      render(props, toinsert[toinsert.length - 1]);\n",
       "      element.append(toinsert);\n",
       "      return toinsert\n",
       "    }\n",
       "\n",
       "    /* Handle when an output is cleared or removed */\n",
       "    events.on('clear_output.CodeCell', handleClearOutput);\n",
       "    events.on('delete.Cell', handleClearOutput);\n",
       "\n",
       "    /* Handle when a new output is added */\n",
       "    events.on('output_added.OutputArea', handleAddOutput);\n",
       "\n",
       "    /**\n",
       "     * Register the mime type and append_mime function with output_area\n",
       "     */\n",
       "    OutputArea.prototype.register_mime_type(EXEC_MIME_TYPE, append_mime, {\n",
       "      /* Is output safe? */\n",
       "      safe: true,\n",
       "      /* Index of renderer in `output_area.display_order` */\n",
       "      index: 0\n",
       "    });\n",
       "  }\n",
       "\n",
       "  // register the mime type if in Jupyter Notebook environment and previously unregistered\n",
       "  if (root.Jupyter !== undefined) {\n",
       "    const events = require('base/js/events');\n",
       "    const OutputArea = require('notebook/js/outputarea').OutputArea;\n",
       "\n",
       "    if (OutputArea.prototype.mime_types().indexOf(EXEC_MIME_TYPE) == -1) {\n",
       "      register_renderer(events, OutputArea);\n",
       "    }\n",
       "  }\n",
       "  if (typeof (root._bokeh_timeout) === \"undefined\" || force === true) {\n",
       "    root._bokeh_timeout = Date.now() + 5000;\n",
       "    root._bokeh_failed_load = false;\n",
       "  }\n",
       "\n",
       "  const NB_LOAD_WARNING = {'data': {'text/html':\n",
       "     \"<div style='background-color: #fdd'>\\n\"+\n",
       "     \"<p>\\n\"+\n",
       "     \"BokehJS does not appear to have successfully loaded. If loading BokehJS from CDN, this \\n\"+\n",
       "     \"may be due to a slow or bad network connection. Possible fixes:\\n\"+\n",
       "     \"</p>\\n\"+\n",
       "     \"<ul>\\n\"+\n",
       "     \"<li>re-rerun `output_notebook()` to attempt to load from CDN again, or</li>\\n\"+\n",
       "     \"<li>use INLINE resources instead, as so:</li>\\n\"+\n",
       "     \"</ul>\\n\"+\n",
       "     \"<code>\\n\"+\n",
       "     \"from bokeh.resources import INLINE\\n\"+\n",
       "     \"output_notebook(resources=INLINE)\\n\"+\n",
       "     \"</code>\\n\"+\n",
       "     \"</div>\"}};\n",
       "\n",
       "  function display_loaded(error = null) {\n",
       "    const el = document.getElementById(null);\n",
       "    if (el != null) {\n",
       "      const html = (() => {\n",
       "        if (typeof root.Bokeh === \"undefined\") {\n",
       "          if (error == null) {\n",
       "            return \"BokehJS is loading ...\";\n",
       "          } else {\n",
       "            return \"BokehJS failed to load.\";\n",
       "          }\n",
       "        } else {\n",
       "          const prefix = `BokehJS ${root.Bokeh.version}`;\n",
       "          if (error == null) {\n",
       "            return `${prefix} successfully loaded.`;\n",
       "          } else {\n",
       "            return `${prefix} <b>encountered errors</b> while loading and may not function as expected.`;\n",
       "          }\n",
       "        }\n",
       "      })();\n",
       "      el.innerHTML = html;\n",
       "\n",
       "      if (error != null) {\n",
       "        const wrapper = document.createElement(\"div\");\n",
       "        wrapper.style.overflow = \"auto\";\n",
       "        wrapper.style.height = \"5em\";\n",
       "        wrapper.style.resize = \"vertical\";\n",
       "        const content = document.createElement(\"div\");\n",
       "        content.style.fontFamily = \"monospace\";\n",
       "        content.style.whiteSpace = \"pre-wrap\";\n",
       "        content.style.backgroundColor = \"rgb(255, 221, 221)\";\n",
       "        content.textContent = error.stack ?? error.toString();\n",
       "        wrapper.append(content);\n",
       "        el.append(wrapper);\n",
       "      }\n",
       "    } else if (Date.now() < root._bokeh_timeout) {\n",
       "      setTimeout(() => display_loaded(error), 100);\n",
       "    }\n",
       "  }\n",
       "\n",
       "  function run_callbacks() {\n",
       "    try {\n",
       "      root._bokeh_onload_callbacks.forEach(function(callback) {\n",
       "        if (callback != null)\n",
       "          callback();\n",
       "      });\n",
       "    } finally {\n",
       "      delete root._bokeh_onload_callbacks\n",
       "    }\n",
       "    console.debug(\"Bokeh: all callbacks have finished\");\n",
       "  }\n",
       "\n",
       "  function load_libs(css_urls, js_urls, callback) {\n",
       "    if (css_urls == null) css_urls = [];\n",
       "    if (js_urls == null) js_urls = [];\n",
       "\n",
       "    root._bokeh_onload_callbacks.push(callback);\n",
       "    if (root._bokeh_is_loading > 0) {\n",
       "      console.debug(\"Bokeh: BokehJS is being loaded, scheduling callback at\", now());\n",
       "      return null;\n",
       "    }\n",
       "    if (js_urls == null || js_urls.length === 0) {\n",
       "      run_callbacks();\n",
       "      return null;\n",
       "    }\n",
       "    console.debug(\"Bokeh: BokehJS not loaded, scheduling load and callback at\", now());\n",
       "    root._bokeh_is_loading = css_urls.length + js_urls.length;\n",
       "\n",
       "    function on_load() {\n",
       "      root._bokeh_is_loading--;\n",
       "      if (root._bokeh_is_loading === 0) {\n",
       "        console.debug(\"Bokeh: all BokehJS libraries/stylesheets loaded\");\n",
       "        run_callbacks()\n",
       "      }\n",
       "    }\n",
       "\n",
       "    function on_error(url) {\n",
       "      console.error(\"failed to load \" + url);\n",
       "    }\n",
       "\n",
       "    for (let i = 0; i < css_urls.length; i++) {\n",
       "      const url = css_urls[i];\n",
       "      const element = document.createElement(\"link\");\n",
       "      element.onload = on_load;\n",
       "      element.onerror = on_error.bind(null, url);\n",
       "      element.rel = \"stylesheet\";\n",
       "      element.type = \"text/css\";\n",
       "      element.href = url;\n",
       "      console.debug(\"Bokeh: injecting link tag for BokehJS stylesheet: \", url);\n",
       "      document.body.appendChild(element);\n",
       "    }\n",
       "\n",
       "    for (let i = 0; i < js_urls.length; i++) {\n",
       "      const url = js_urls[i];\n",
       "      const element = document.createElement('script');\n",
       "      element.onload = on_load;\n",
       "      element.onerror = on_error.bind(null, url);\n",
       "      element.async = false;\n",
       "      element.src = url;\n",
       "      console.debug(\"Bokeh: injecting script tag for BokehJS library: \", url);\n",
       "      document.head.appendChild(element);\n",
       "    }\n",
       "  };\n",
       "\n",
       "  function inject_raw_css(css) {\n",
       "    const element = document.createElement(\"style\");\n",
       "    element.appendChild(document.createTextNode(css));\n",
       "    document.body.appendChild(element);\n",
       "  }\n",
       "\n",
       "  const js_urls = [\"https://cdn.bokeh.org/bokeh/release/bokeh-3.4.1.min.js\", \"https://cdn.bokeh.org/bokeh/release/bokeh-gl-3.4.1.min.js\", \"https://cdn.bokeh.org/bokeh/release/bokeh-widgets-3.4.1.min.js\", \"https://cdn.bokeh.org/bokeh/release/bokeh-tables-3.4.1.min.js\", \"https://cdn.bokeh.org/bokeh/release/bokeh-mathjax-3.4.1.min.js\"];\n",
       "  const css_urls = [];\n",
       "\n",
       "  const inline_js = [    function(Bokeh) {\n",
       "      Bokeh.set_log_level(\"info\");\n",
       "    },\n",
       "function(Bokeh) {\n",
       "    }\n",
       "  ];\n",
       "\n",
       "  function run_inline_js() {\n",
       "    if (root.Bokeh !== undefined || force === true) {\n",
       "      try {\n",
       "            for (let i = 0; i < inline_js.length; i++) {\n",
       "      inline_js[i].call(root, root.Bokeh);\n",
       "    }\n",
       "\n",
       "      } catch (error) {throw error;\n",
       "      }} else if (Date.now() < root._bokeh_timeout) {\n",
       "      setTimeout(run_inline_js, 100);\n",
       "    } else if (!root._bokeh_failed_load) {\n",
       "      console.log(\"Bokeh: BokehJS failed to load within specified timeout.\");\n",
       "      root._bokeh_failed_load = true;\n",
       "    } else if (force !== true) {\n",
       "      const cell = $(document.getElementById(null)).parents('.cell').data().cell;\n",
       "      cell.output_area.append_execute_result(NB_LOAD_WARNING)\n",
       "    }\n",
       "  }\n",
       "\n",
       "  if (root._bokeh_is_loading === 0) {\n",
       "    console.debug(\"Bokeh: BokehJS loaded, going straight to plotting\");\n",
       "    run_inline_js();\n",
       "  } else {\n",
       "    load_libs(css_urls, js_urls, function() {\n",
       "      console.debug(\"Bokeh: BokehJS plotting callback run at\", now());\n",
       "      run_inline_js();\n",
       "    });\n",
       "  }\n",
       "}(window));"
      ],
      "application/vnd.bokehjs_load.v0+json": "'use strict';\n(function(root) {\n  function now() {\n    return new Date();\n  }\n\n  const force = true;\n\n  if (typeof root._bokeh_onload_callbacks === \"undefined\" || force === true) {\n    root._bokeh_onload_callbacks = [];\n    root._bokeh_is_loading = undefined;\n  }\n\n\n  if (typeof (root._bokeh_timeout) === \"undefined\" || force === true) {\n    root._bokeh_timeout = Date.now() + 5000;\n    root._bokeh_failed_load = false;\n  }\n\n  const NB_LOAD_WARNING = {'data': {'text/html':\n     \"<div style='background-color: #fdd'>\\n\"+\n     \"<p>\\n\"+\n     \"BokehJS does not appear to have successfully loaded. If loading BokehJS from CDN, this \\n\"+\n     \"may be due to a slow or bad network connection. Possible fixes:\\n\"+\n     \"</p>\\n\"+\n     \"<ul>\\n\"+\n     \"<li>re-rerun `output_notebook()` to attempt to load from CDN again, or</li>\\n\"+\n     \"<li>use INLINE resources instead, as so:</li>\\n\"+\n     \"</ul>\\n\"+\n     \"<code>\\n\"+\n     \"from bokeh.resources import INLINE\\n\"+\n     \"output_notebook(resources=INLINE)\\n\"+\n     \"</code>\\n\"+\n     \"</div>\"}};\n\n  function display_loaded(error = null) {\n    const el = document.getElementById(null);\n    if (el != null) {\n      const html = (() => {\n        if (typeof root.Bokeh === \"undefined\") {\n          if (error == null) {\n            return \"BokehJS is loading ...\";\n          } else {\n            return \"BokehJS failed to load.\";\n          }\n        } else {\n          const prefix = `BokehJS ${root.Bokeh.version}`;\n          if (error == null) {\n            return `${prefix} successfully loaded.`;\n          } else {\n            return `${prefix} <b>encountered errors</b> while loading and may not function as expected.`;\n          }\n        }\n      })();\n      el.innerHTML = html;\n\n      if (error != null) {\n        const wrapper = document.createElement(\"div\");\n        wrapper.style.overflow = \"auto\";\n        wrapper.style.height = \"5em\";\n        wrapper.style.resize = \"vertical\";\n        const content = document.createElement(\"div\");\n        content.style.fontFamily = \"monospace\";\n        content.style.whiteSpace = \"pre-wrap\";\n        content.style.backgroundColor = \"rgb(255, 221, 221)\";\n        content.textContent = error.stack ?? error.toString();\n        wrapper.append(content);\n        el.append(wrapper);\n      }\n    } else if (Date.now() < root._bokeh_timeout) {\n      setTimeout(() => display_loaded(error), 100);\n    }\n  }\n\n  function run_callbacks() {\n    try {\n      root._bokeh_onload_callbacks.forEach(function(callback) {\n        if (callback != null)\n          callback();\n      });\n    } finally {\n      delete root._bokeh_onload_callbacks\n    }\n    console.debug(\"Bokeh: all callbacks have finished\");\n  }\n\n  function load_libs(css_urls, js_urls, callback) {\n    if (css_urls == null) css_urls = [];\n    if (js_urls == null) js_urls = [];\n\n    root._bokeh_onload_callbacks.push(callback);\n    if (root._bokeh_is_loading > 0) {\n      console.debug(\"Bokeh: BokehJS is being loaded, scheduling callback at\", now());\n      return null;\n    }\n    if (js_urls == null || js_urls.length === 0) {\n      run_callbacks();\n      return null;\n    }\n    console.debug(\"Bokeh: BokehJS not loaded, scheduling load and callback at\", now());\n    root._bokeh_is_loading = css_urls.length + js_urls.length;\n\n    function on_load() {\n      root._bokeh_is_loading--;\n      if (root._bokeh_is_loading === 0) {\n        console.debug(\"Bokeh: all BokehJS libraries/stylesheets loaded\");\n        run_callbacks()\n      }\n    }\n\n    function on_error(url) {\n      console.error(\"failed to load \" + url);\n    }\n\n    for (let i = 0; i < css_urls.length; i++) {\n      const url = css_urls[i];\n      const element = document.createElement(\"link\");\n      element.onload = on_load;\n      element.onerror = on_error.bind(null, url);\n      element.rel = \"stylesheet\";\n      element.type = \"text/css\";\n      element.href = url;\n      console.debug(\"Bokeh: injecting link tag for BokehJS stylesheet: \", url);\n      document.body.appendChild(element);\n    }\n\n    for (let i = 0; i < js_urls.length; i++) {\n      const url = js_urls[i];\n      const element = document.createElement('script');\n      element.onload = on_load;\n      element.onerror = on_error.bind(null, url);\n      element.async = false;\n      element.src = url;\n      console.debug(\"Bokeh: injecting script tag for BokehJS library: \", url);\n      document.head.appendChild(element);\n    }\n  };\n\n  function inject_raw_css(css) {\n    const element = document.createElement(\"style\");\n    element.appendChild(document.createTextNode(css));\n    document.body.appendChild(element);\n  }\n\n  const js_urls = [\"https://cdn.bokeh.org/bokeh/release/bokeh-3.4.1.min.js\", \"https://cdn.bokeh.org/bokeh/release/bokeh-gl-3.4.1.min.js\", \"https://cdn.bokeh.org/bokeh/release/bokeh-widgets-3.4.1.min.js\", \"https://cdn.bokeh.org/bokeh/release/bokeh-tables-3.4.1.min.js\", \"https://cdn.bokeh.org/bokeh/release/bokeh-mathjax-3.4.1.min.js\"];\n  const css_urls = [];\n\n  const inline_js = [    function(Bokeh) {\n      Bokeh.set_log_level(\"info\");\n    },\nfunction(Bokeh) {\n    }\n  ];\n\n  function run_inline_js() {\n    if (root.Bokeh !== undefined || force === true) {\n      try {\n            for (let i = 0; i < inline_js.length; i++) {\n      inline_js[i].call(root, root.Bokeh);\n    }\n\n      } catch (error) {throw error;\n      }} else if (Date.now() < root._bokeh_timeout) {\n      setTimeout(run_inline_js, 100);\n    } else if (!root._bokeh_failed_load) {\n      console.log(\"Bokeh: BokehJS failed to load within specified timeout.\");\n      root._bokeh_failed_load = true;\n    } else if (force !== true) {\n      const cell = $(document.getElementById(null)).parents('.cell').data().cell;\n      cell.output_area.append_execute_result(NB_LOAD_WARNING)\n    }\n  }\n\n  if (root._bokeh_is_loading === 0) {\n    console.debug(\"Bokeh: BokehJS loaded, going straight to plotting\");\n    run_inline_js();\n  } else {\n    load_libs(css_urls, js_urls, function() {\n      console.debug(\"Bokeh: BokehJS plotting callback run at\", now());\n      run_inline_js();\n    });\n  }\n}(window));"
     },
     "metadata": {},
     "output_type": "display_data"
    }
   ],
   "source": [
    "from collections import namedtuple\n",
    "from copy import deepcopy\n",
    "\n",
    "from ssscoring.constants import BREAKOFF_ALTITUDE\n",
    "from ssscoring.constants import FT_IN_M\n",
    "from ssscoring.constants import PERFORMANCE_WINDOW_LENGTH\n",
    "from ssscoring.fs1 import aggregateResults\n",
    "from ssscoring.fs1 import convertFlySight2SSScoring\n",
    "from ssscoring.fs1 import dropNonSkydiveDataFrom\n",
    "from ssscoring.fs1 import getAllSpeedJumpFilesFrom\n",
    "from ssscoring.fs1 import getSpeedSkydiveFrom\n",
    "from ssscoring.fs1 import isValidJump\n",
    "from ssscoring.fs1 import isValidMinimumAltitude\n",
    "from ssscoring.fs1 import jumpAnalysisTable\n",
    "from ssscoring.fs1 import processAllJumpFiles\n",
    "from ssscoring.fs1 import roundedAggregateResults\n",
    "from ssscoring.fs1 import totalResultsFrom\n",
    "from ssscoring.fs1 import validFlySightHeaderIn\n",
    "from ssscoring.notebook import SPEED_COLORS\n",
    "from ssscoring.notebook import graphAltitude\n",
    "from ssscoring.notebook import graphAngle\n",
    "from ssscoring.notebook import graphJumpResult\n",
    "from ssscoring.notebook import initializeExtraYRanges\n",
    "from ssscoring.notebook import initializePlot\n",
    "\n",
    "import csv\n",
    "import os\n",
    "import os.path as path\n",
    "\n",
    "import bokeh.plotting as bp\n",
    "import bokeh.models as bm\n",
    "import ipywidgets as widgets\n",
    "import pandas as pd"
   ]
  },
  {
   "cell_type": "code",
   "execution_count": 2,
   "id": "ef1d2bf0-eaf3-4d78-b6c0-fb1bb4ed10f1",
   "metadata": {
    "jupyter": {
     "source_hidden": true
    }
   },
   "outputs": [],
   "source": [
    "DATA_LAKE_ROOT = './data'"
   ]
  },
  {
   "cell_type": "markdown",
   "id": "d52db03d-d83b-4af3-9137-3011537e5ed8",
   "metadata": {},
   "source": [
    "---\n",
    "## <span style=\"color: yellow\">IMPORTANT</span> - Set the drop zone altitude MSL\n",
    "\n",
    "Set the value in ft (even though SSScoring uses meters) out of convenience because all DZs in the US, many in Asia and Mexico, and many in Europe express the altitude in feet.\n",
    "\n",
    "### Some DZs\n",
    "\n",
    "| Drop zone | Alt (ft) |\n",
    "|-----------|----------|\n",
    "| Bay Area Skydiving | 23 |\n",
    "| Skydive Arizona | 1509 |\n",
    "| Skydive Chicago | 616 |\n",
    "| Thai Sky Adventures | 21 |"
   ]
  },
  {
   "cell_type": "code",
   "execution_count": 3,
   "id": "5c95013a-4aa3-4a5e-9493-b945ead10ced",
   "metadata": {},
   "outputs": [],
   "source": [
    "dropZoneAltMSL =1509"
   ]
  },
  {
   "cell_type": "code",
   "execution_count": 4,
   "id": "1f091813-03b0-45bc-a30e-704fac7f968a",
   "metadata": {},
   "outputs": [
    {
     "data": {
      "application/vnd.jupyter.widget-view+json": {
       "model_id": "9bb7ecb80bfc4ee5afde4b9fbbbb9017",
       "version_major": 2,
       "version_minor": 0
      },
      "text/plain": [
       "HTML(value='<h2>DZ Altitude = <span style = \"color: green\">1509.00 ft</span> ( 459.95 m)<h1>')"
      ]
     },
     "metadata": {},
     "output_type": "display_data"
    }
   ],
   "source": [
    "dropZoneAltMSLMeters = dropZoneAltMSL/FT_IN_M\n",
    "display(widgets.HTML('<h2>DZ Altitude = <span style = \"color: green\">%7.2f ft</span> (%7.2f m)<h1>' % (dropZoneAltMSL, dropZoneAltMSLMeters)))"
   ]
  },
  {
   "cell_type": "code",
   "execution_count": 5,
   "id": "b1273b5c-44c1-46c2-a125-d01ad9268a1a",
   "metadata": {},
   "outputs": [],
   "source": [
    "jumpFiles = getAllSpeedJumpFilesFrom(DATA_LAKE_ROOT)"
   ]
  },
  {
   "cell_type": "code",
   "execution_count": 6,
   "id": "53a5fe5a-dd39-40d3-bfbf-d7048374e4ea",
   "metadata": {},
   "outputs": [],
   "source": [
    "jumpResults = processAllJumpFiles(jumpFiles, altitudeDZMeters = dropZoneAltMSLMeters)"
   ]
  },
  {
   "cell_type": "markdown",
   "id": "d80518ef-f197-4e40-a74e-8089eecb725a",
   "metadata": {},
   "source": [
    "---\n",
    "## Results"
   ]
  },
  {
   "cell_type": "code",
   "execution_count": 7,
   "id": "27c12cb1-2f60-44c9-b8fa-998b3df9d878",
   "metadata": {},
   "outputs": [
    {
     "data": {
      "text/html": [
       "<div>\n",
       "<style scoped>\n",
       "    .dataframe tbody tr th:only-of-type {\n",
       "        vertical-align: middle;\n",
       "    }\n",
       "\n",
       "    .dataframe tbody tr th {\n",
       "        vertical-align: top;\n",
       "    }\n",
       "\n",
       "    .dataframe thead th {\n",
       "        text-align: right;\n",
       "    }\n",
       "</style>\n",
       "<table border=\"1\" class=\"dataframe\">\n",
       "  <thead>\n",
       "    <tr style=\"text-align: right;\">\n",
       "      <th></th>\n",
       "      <th>score</th>\n",
       "      <th>5.0</th>\n",
       "      <th>10.0</th>\n",
       "      <th>15.0</th>\n",
       "      <th>20.0</th>\n",
       "      <th>25.0</th>\n",
       "      <th>finalTime</th>\n",
       "      <th>maxSpeed</th>\n",
       "    </tr>\n",
       "  </thead>\n",
       "  <tbody>\n",
       "    <tr>\n",
       "      <th>00-00-00-EC-baseline</th>\n",
       "      <td>483.93936</td>\n",
       "      <td>183.564</td>\n",
       "      <td>327.204</td>\n",
       "      <td>422.892</td>\n",
       "      <td>470.844</td>\n",
       "      <td>486.036</td>\n",
       "      <td>24.4</td>\n",
       "      <td>487.152</td>\n",
       "    </tr>\n",
       "    <tr>\n",
       "      <th>07-36-35</th>\n",
       "      <td>464.265</td>\n",
       "      <td>180.036</td>\n",
       "      <td>318.672</td>\n",
       "      <td>411.948</td>\n",
       "      <td>453.276</td>\n",
       "      <td>463.284</td>\n",
       "      <td>24.9</td>\n",
       "      <td>465.876</td>\n",
       "    </tr>\n",
       "    <tr>\n",
       "      <th>08-26-01</th>\n",
       "      <td>462.410667</td>\n",
       "      <td>190.692</td>\n",
       "      <td>309.204</td>\n",
       "      <td>401.868</td>\n",
       "      <td>450.072</td>\n",
       "      <td>465.516</td>\n",
       "      <td>25.0</td>\n",
       "      <td>465.516</td>\n",
       "    </tr>\n",
       "    <tr>\n",
       "      <th>09-34-53</th>\n",
       "      <td>481.443231</td>\n",
       "      <td>180.000</td>\n",
       "      <td>284.472</td>\n",
       "      <td>392.436</td>\n",
       "      <td>457.056</td>\n",
       "      <td>483.480</td>\n",
       "      <td>25.0</td>\n",
       "      <td>484.992</td>\n",
       "    </tr>\n",
       "    <tr>\n",
       "      <th>10-51-16</th>\n",
       "      <td>483.93936</td>\n",
       "      <td>183.564</td>\n",
       "      <td>327.204</td>\n",
       "      <td>422.892</td>\n",
       "      <td>470.844</td>\n",
       "      <td>486.036</td>\n",
       "      <td>24.4</td>\n",
       "      <td>487.152</td>\n",
       "    </tr>\n",
       "    <tr>\n",
       "      <th>12-09-17</th>\n",
       "      <td>486.99</td>\n",
       "      <td>181.944</td>\n",
       "      <td>325.512</td>\n",
       "      <td>417.276</td>\n",
       "      <td>477.504</td>\n",
       "      <td>488.088</td>\n",
       "      <td>24.4</td>\n",
       "      <td>490.140</td>\n",
       "    </tr>\n",
       "    <tr>\n",
       "      <th>19-22-17-ND</th>\n",
       "      <td>515.664</td>\n",
       "      <td>189.000</td>\n",
       "      <td>334.800</td>\n",
       "      <td>438.012</td>\n",
       "      <td>499.644</td>\n",
       "      <td>523.044</td>\n",
       "      <td>23.8</td>\n",
       "      <td>523.044</td>\n",
       "    </tr>\n",
       "  </tbody>\n",
       "</table>\n",
       "</div>"
      ],
      "text/plain": [
       "                           score      5.0     10.0     15.0     20.0     25.0  \\\n",
       "00-00-00-EC-baseline   483.93936  183.564  327.204  422.892  470.844  486.036   \n",
       "07-36-35                 464.265  180.036  318.672  411.948  453.276  463.284   \n",
       "08-26-01              462.410667  190.692  309.204  401.868  450.072  465.516   \n",
       "09-34-53              481.443231  180.000  284.472  392.436  457.056  483.480   \n",
       "10-51-16               483.93936  183.564  327.204  422.892  470.844  486.036   \n",
       "12-09-17                  486.99  181.944  325.512  417.276  477.504  488.088   \n",
       "19-22-17-ND              515.664  189.000  334.800  438.012  499.644  523.044   \n",
       "\n",
       "                      finalTime  maxSpeed  \n",
       "00-00-00-EC-baseline       24.4   487.152  \n",
       "07-36-35                   24.9   465.876  \n",
       "08-26-01                   25.0   465.516  \n",
       "09-34-53                   25.0   484.992  \n",
       "10-51-16                   24.4   487.152  \n",
       "12-09-17                   24.4   490.140  \n",
       "19-22-17-ND                23.8   523.044  "
      ]
     },
     "metadata": {},
     "output_type": "display_data"
    }
   ],
   "source": [
    "aggregate = aggregateResults(jumpResults)\n",
    "sumResults = totalResultsFrom(aggregate)\n",
    "display(aggregate)"
   ]
  },
  {
   "cell_type": "markdown",
   "id": "3fa8c207-b9cf-4275-ba37-5103e1b324a9",
   "metadata": {},
   "source": [
    "### Rounded results for training log"
   ]
  },
  {
   "cell_type": "code",
   "execution_count": 8,
   "id": "e2bfbc21-3121-436a-904f-547edb0f2d0c",
   "metadata": {},
   "outputs": [],
   "source": [
    "roundedResults = roundedAggregateResults(jumpResults)"
   ]
  },
  {
   "cell_type": "markdown",
   "id": "faf1396d-1030-477e-9d87-5c167b61328f",
   "metadata": {},
   "source": [
    "### All jumps"
   ]
  },
  {
   "cell_type": "code",
   "execution_count": 9,
   "id": "5a0571fd-5a22-4dda-94aa-56a4f2c68098",
   "metadata": {
    "jupyter": {
     "source_hidden": true
    }
   },
   "outputs": [],
   "source": [
    "def dumpSimple(table: pd.DataFrame):\n",
    "    fileName = os.path.join(DATA_LAKE_ROOT, resultRef+'.tsv')\n",
    "    simpleTable = table.copy()\n",
    "    simpleTable = simpleTable.drop('speedAngle', axis = 1)\n",
    "    simpleTable.to_csv(fileName, sep = '\\t', index = False)"
   ]
  },
  {
   "cell_type": "code",
   "execution_count": 10,
   "id": "59ff50f6-4f29-4282-a55f-af524921af19",
   "metadata": {
    "jupyter": {
     "source_hidden": true
    }
   },
   "outputs": [],
   "source": [
    "def displayJumpDataIn(resultsTable: pd.DataFrame):\n",
    "    table = resultsTable.copy()\n",
    "    # Experimental\n",
    "    # For more information on the `interpolate` method and its options, see the [pandas documentation](https://pandas.pydata.org/pandas-docs/stable/reference/api/pandas.Series.interpolate.html).\n",
    "    # Additionally, you can also consider using other libraries like `scipy` which provides more advanced interpolation methods, such as `interp1d` or `griddata`. See the [scipy documentation](https://docs.scipy.org/doc/scipy/reference/interpolate.html) for more information.\n",
    "    table.vKMh = table.vKMh.apply(round)\n",
    "    table.hKMh = table.hKMh.apply(round)\n",
    "    table['altitude (ft)'] = table['altitude (ft)'].apply(round)\n",
    "    table.netVectorKMh = table.netVectorKMh.apply(round)\n",
    "    table.index = ['']*len(table)\n",
    "    display(table)\n",
    "    # dumpSimple(table)"
   ]
  },
  {
   "cell_type": "code",
   "execution_count": 11,
   "id": "888f2fce-1e7a-4728-b86d-7975c37e75c2",
   "metadata": {
    "jupyter": {
     "source_hidden": true
    }
   },
   "outputs": [
    {
     "data": {
      "application/vnd.jupyter.widget-view+json": {
       "model_id": "b4eea2cb397b4010bba7624fb920b052",
       "version_major": 2,
       "version_minor": 0
      },
      "text/plain": [
       "HTML(value='<hr><h1><span style=\"color: #0f0\">00-00-00-EC-baseline jump - 🟢 valid - score = 483.94 km/h</span>…"
      ]
     },
     "metadata": {},
     "output_type": "display_data"
    },
    {
     "data": {
      "application/vnd.jupyter.widget-view+json": {
       "model_id": "3bb7704dcdd34ecc9d0857d01623815e",
       "version_major": 2,
       "version_minor": 0
      },
      "text/plain": [
       "HTML(value='<h3>Max speed = 487; exit at 4189 m (13746 ft), end scoring window at 1933 m (6344 ft)')"
      ]
     },
     "metadata": {},
     "output_type": "display_data"
    },
    {
     "data": {
      "application/vnd.jupyter.widget-view+json": {
       "model_id": "74e4b4d09c4f4186bf2d3cf787e9dc77",
       "version_major": 2,
       "version_minor": 0
      },
      "text/plain": [
       "HTML(value='</h3>')"
      ]
     },
     "metadata": {},
     "output_type": "display_data"
    },
    {
     "data": {
      "text/html": [
       "<div>\n",
       "<style scoped>\n",
       "    .dataframe tbody tr th:only-of-type {\n",
       "        vertical-align: middle;\n",
       "    }\n",
       "\n",
       "    .dataframe tbody tr th {\n",
       "        vertical-align: top;\n",
       "    }\n",
       "\n",
       "    .dataframe thead th {\n",
       "        text-align: right;\n",
       "    }\n",
       "</style>\n",
       "<table border=\"1\" class=\"dataframe\">\n",
       "  <thead>\n",
       "    <tr style=\"text-align: right;\">\n",
       "      <th></th>\n",
       "      <th>time</th>\n",
       "      <th>vKMh</th>\n",
       "      <th>hKMh</th>\n",
       "      <th>speedAngle</th>\n",
       "      <th>netVectorKMh</th>\n",
       "      <th>altitude (ft)</th>\n",
       "    </tr>\n",
       "  </thead>\n",
       "  <tbody>\n",
       "    <tr>\n",
       "      <th></th>\n",
       "      <td>5.0</td>\n",
       "      <td>184</td>\n",
       "      <td>160</td>\n",
       "      <td>48.9</td>\n",
       "      <td>244</td>\n",
       "      <td>13311</td>\n",
       "    </tr>\n",
       "    <tr>\n",
       "      <th></th>\n",
       "      <td>10.0</td>\n",
       "      <td>327</td>\n",
       "      <td>121</td>\n",
       "      <td>69.7</td>\n",
       "      <td>349</td>\n",
       "      <td>12124</td>\n",
       "    </tr>\n",
       "    <tr>\n",
       "      <th></th>\n",
       "      <td>15.0</td>\n",
       "      <td>423</td>\n",
       "      <td>92</td>\n",
       "      <td>77.7</td>\n",
       "      <td>433</td>\n",
       "      <td>10386</td>\n",
       "    </tr>\n",
       "    <tr>\n",
       "      <th></th>\n",
       "      <td>20.0</td>\n",
       "      <td>471</td>\n",
       "      <td>52</td>\n",
       "      <td>83.8</td>\n",
       "      <td>474</td>\n",
       "      <td>8320</td>\n",
       "    </tr>\n",
       "    <tr>\n",
       "      <th></th>\n",
       "      <td>25.0</td>\n",
       "      <td>486</td>\n",
       "      <td>23</td>\n",
       "      <td>87.3</td>\n",
       "      <td>487</td>\n",
       "      <td>6381</td>\n",
       "    </tr>\n",
       "  </tbody>\n",
       "</table>\n",
       "</div>"
      ],
      "text/plain": [
       "  time  vKMh  hKMh  speedAngle  netVectorKMh  altitude (ft)\n",
       "   5.0   184   160        48.9           244          13311\n",
       "  10.0   327   121        69.7           349          12124\n",
       "  15.0   423    92        77.7           433          10386\n",
       "  20.0   471    52        83.8           474           8320\n",
       "  25.0   486    23        87.3           487           6381"
      ]
     },
     "metadata": {},
     "output_type": "display_data"
    },
    {
     "data": {
      "text/html": [
       "\n",
       "  <div id=\"ea327432-94b6-451d-b8cb-bd5e141ff4d8\" data-root-id=\"p1036\" style=\"display: contents;\"></div>\n"
      ]
     },
     "metadata": {},
     "output_type": "display_data"
    },
    {
     "data": {
      "application/javascript": [
       "(function(root) {\n",
       "  function embed_document(root) {\n",
       "  const docs_json = {\"458897c0-ce1f-4c2d-b6f2-1d7af18d2791\":{\"version\":\"3.4.1\",\"title\":\"Bokeh Application\",\"roots\":[{\"type\":\"object\",\"name\":\"Figure\",\"id\":\"p1036\",\"attributes\":{\"width\":900,\"height\":500,\"x_range\":{\"type\":\"object\",\"name\":\"Range1d\",\"id\":\"p1046\",\"attributes\":{\"end\":35.0}},\"y_range\":{\"type\":\"object\",\"name\":\"Range1d\",\"id\":\"p1047\",\"attributes\":{\"end\":550.0}},\"x_scale\":{\"type\":\"object\",\"name\":\"LinearScale\",\"id\":\"p1048\"},\"y_scale\":{\"type\":\"object\",\"name\":\"LinearScale\",\"id\":\"p1049\"},\"extra_y_ranges\":{\"type\":\"map\",\"entries\":[[\"altitudeFt\",{\"type\":\"object\",\"name\":\"Range1d\",\"id\":\"p1071\",\"attributes\":{\"start\":5880.8121952,\"end\":14246.444412800001}}],[\"angle\",{\"type\":\"object\",\"name\":\"Range1d\",\"id\":\"p1072\",\"attributes\":{\"end\":90.0}}]]},\"title\":{\"type\":\"object\",\"name\":\"Title\",\"id\":\"p1039\",\"attributes\":{\"text\":\"00-00-00-EC-baseline\",\"text_color\":\"#E0E0E0\",\"text_font\":\"Helvetica\",\"text_font_size\":\"1.15em\"}},\"outline_line_color\":\"#E0E0E0\",\"outline_line_alpha\":0.25,\"renderers\":[{\"type\":\"object\",\"name\":\"GlyphRenderer\",\"id\":\"p1087\",\"attributes\":{\"y_range_name\":\"altitudeFt\",\"data_source\":{\"type\":\"object\",\"name\":\"ColumnDataSource\",\"id\":\"p1081\",\"attributes\":{\"selected\":{\"type\":\"object\",\"name\":\"Selection\",\"id\":\"p1082\",\"attributes\":{\"indices\":[],\"line_indices\":[]}},\"selection_policy\":{\"type\":\"object\",\"name\":\"UnionRenderers\",\"id\":\"p1083\"},\"data\":{\"type\":\"map\",\"entries\":[[\"x\",{\"type\":\"ndarray\",\"array\":{\"type\":\"bytes\",\"data\":\"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\"},\"shape\":[204],\"dtype\":\"float64\",\"order\":\"little\"}],[\"y\",{\"type\":\"ndarray\",\"array\":{\"type\":\"bytes\",\"data\":\"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\"},\"shape\":[204],\"dtype\":\"float64\",\"order\":\"little\"}]]}}},\"view\":{\"type\":\"object\",\"name\":\"CDSView\",\"id\":\"p1088\",\"attributes\":{\"filter\":{\"type\":\"object\",\"name\":\"AllIndices\",\"id\":\"p1089\"}}},\"glyph\":{\"type\":\"object\",\"name\":\"Line\",\"id\":\"p1084\",\"attributes\":{\"x\":{\"type\":\"field\",\"field\":\"x\"},\"y\":{\"type\":\"field\",\"field\":\"y\"},\"line_color\":\"palegoldenrod\",\"line_width\":2}},\"nonselection_glyph\":{\"type\":\"object\",\"name\":\"Line\",\"id\":\"p1085\",\"attributes\":{\"x\":{\"type\":\"field\",\"field\":\"x\"},\"y\":{\"type\":\"field\",\"field\":\"y\"},\"line_color\":\"palegoldenrod\",\"line_alpha\":0.1,\"line_width\":2}},\"muted_glyph\":{\"type\":\"object\",\"name\":\"Line\",\"id\":\"p1086\",\"attributes\":{\"x\":{\"type\":\"field\",\"field\":\"x\"},\"y\":{\"type\":\"field\",\"field\":\"y\"},\"line_color\":\"palegoldenrod\",\"line_alpha\":0.2,\"line_width\":2}}}},{\"type\":\"object\",\"name\":\"GlyphRenderer\",\"id\":\"p1098\",\"attributes\":{\"y_range_name\":\"angle\",\"data_source\":{\"type\":\"object\",\"name\":\"ColumnDataSource\",\"id\":\"p1092\",\"attributes\":{\"selected\":{\"type\":\"object\",\"name\":\"Selection\",\"id\":\"p1093\",\"attributes\":{\"indices\":[],\"line_indices\":[]}},\"selection_policy\":{\"type\":\"object\",\"name\":\"UnionRenderers\",\"id\":\"p1094\"},\"data\":{\"type\":\"map\",\"entries\":[[\"x\",{\"type\":\"ndarray\",\"array\":{\"type\":\"bytes\",\"data\":\"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\"},\"shape\":[204],\"dtype\":\"float64\",\"order\":\"little\"}],[\"y\",{\"type\":\"ndarray\",\"array\":{\"type\":\"bytes\",\"data\":\"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\"},\"shape\":[204],\"dtype\":\"float64\",\"order\":\"little\"}]]}}},\"view\":{\"type\":\"object\",\"name\":\"CDSView\",\"id\":\"p1099\",\"attributes\":{\"filter\":{\"type\":\"object\",\"name\":\"AllIndices\",\"id\":\"p1100\"}}},\"glyph\":{\"type\":\"object\",\"name\":\"Line\",\"id\":\"p1095\",\"attributes\":{\"x\":{\"type\":\"field\",\"field\":\"x\"},\"y\":{\"type\":\"field\",\"field\":\"y\"},\"line_color\":\"deepskyblue\",\"line_width\":2}},\"nonselection_glyph\":{\"type\":\"object\",\"name\":\"Line\",\"id\":\"p1096\",\"attributes\":{\"x\":{\"type\":\"field\",\"field\":\"x\"},\"y\":{\"type\":\"field\",\"field\":\"y\"},\"line_color\":\"deepskyblue\",\"line_alpha\":0.1,\"line_width\":2}},\"muted_glyph\":{\"type\":\"object\",\"name\":\"Line\",\"id\":\"p1097\",\"attributes\":{\"x\":{\"type\":\"field\",\"field\":\"x\"},\"y\":{\"type\":\"field\",\"field\":\"y\"},\"line_color\":\"deepskyblue\",\"line_alpha\":0.2,\"line_width\":2}}}},{\"type\":\"object\",\"name\":\"GlyphRenderer\",\"id\":\"p1109\",\"attributes\":{\"data_source\":{\"type\":\"object\",\"name\":\"ColumnDataSource\",\"id\":\"p1103\",\"attributes\":{\"selected\":{\"type\":\"object\",\"name\":\"Selection\",\"id\":\"p1104\",\"attributes\":{\"indices\":[],\"line_indices\":[]}},\"selection_policy\":{\"type\":\"object\",\"name\":\"UnionRenderers\",\"id\":\"p1105\"},\"data\":{\"type\":\"map\",\"entries\":[[\"x\",{\"type\":\"ndarray\",\"array\":{\"type\":\"bytes\",\"data\":\"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\"},\"shape\":[204],\"dtype\":\"float64\",\"order\":\"little\"}],[\"y\",{\"type\":\"ndarray\",\"array\":{\"type\":\"bytes\",\"data\":\"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\"},\"shape\":[204],\"dtype\":\"float64\",\"order\":\"little\"}]]}}},\"view\":{\"type\":\"object\",\"name\":\"CDSView\",\"id\":\"p1110\",\"attributes\":{\"filter\":{\"type\":\"object\",\"name\":\"AllIndices\",\"id\":\"p1111\"}}},\"glyph\":{\"type\":\"object\",\"name\":\"Line\",\"id\":\"p1106\",\"attributes\":{\"x\":{\"type\":\"field\",\"field\":\"x\"},\"y\":{\"type\":\"field\",\"field\":\"y\"},\"line_color\":\"limegreen\",\"line_width\":2}},\"nonselection_glyph\":{\"type\":\"object\",\"name\":\"Line\",\"id\":\"p1107\",\"attributes\":{\"x\":{\"type\":\"field\",\"field\":\"x\"},\"y\":{\"type\":\"field\",\"field\":\"y\"},\"line_color\":\"limegreen\",\"line_alpha\":0.1,\"line_width\":2}},\"muted_glyph\":{\"type\":\"object\",\"name\":\"Line\",\"id\":\"p1108\",\"attributes\":{\"x\":{\"type\":\"field\",\"field\":\"x\"},\"y\":{\"type\":\"field\",\"field\":\"y\"},\"line_color\":\"limegreen\",\"line_alpha\":0.2,\"line_width\":2}}}},{\"type\":\"object\",\"name\":\"GlyphRenderer\",\"id\":\"p1119\",\"attributes\":{\"data_source\":{\"type\":\"object\",\"name\":\"ColumnDataSource\",\"id\":\"p1113\",\"attributes\":{\"selected\":{\"type\":\"object\",\"name\":\"Selection\",\"id\":\"p1114\",\"attributes\":{\"indices\":[],\"line_indices\":[]}},\"selection_policy\":{\"type\":\"object\",\"name\":\"UnionRenderers\",\"id\":\"p1115\"},\"data\":{\"type\":\"map\",\"entries\":[[\"x\",{\"type\":\"ndarray\",\"array\":{\"type\":\"bytes\",\"data\":\"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\"},\"shape\":[204],\"dtype\":\"float64\",\"order\":\"little\"}],[\"y\",{\"type\":\"ndarray\",\"array\":{\"type\":\"bytes\",\"data\":\"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\"},\"shape\":[204],\"dtype\":\"float64\",\"order\":\"little\"}]]}}},\"view\":{\"type\":\"object\",\"name\":\"CDSView\",\"id\":\"p1120\",\"attributes\":{\"filter\":{\"type\":\"object\",\"name\":\"AllIndices\",\"id\":\"p1121\"}}},\"glyph\":{\"type\":\"object\",\"name\":\"Line\",\"id\":\"p1116\",\"attributes\":{\"x\":{\"type\":\"field\",\"field\":\"x\"},\"y\":{\"type\":\"field\",\"field\":\"y\"},\"line_color\":\"red\",\"line_width\":2}},\"nonselection_glyph\":{\"type\":\"object\",\"name\":\"Line\",\"id\":\"p1117\",\"attributes\":{\"x\":{\"type\":\"field\",\"field\":\"x\"},\"y\":{\"type\":\"field\",\"field\":\"y\"},\"line_color\":\"red\",\"line_alpha\":0.1,\"line_width\":2}},\"muted_glyph\":{\"type\":\"object\",\"name\":\"Line\",\"id\":\"p1118\",\"attributes\":{\"x\":{\"type\":\"field\",\"field\":\"x\"},\"y\":{\"type\":\"field\",\"field\":\"y\"},\"line_color\":\"red\",\"line_alpha\":0.2,\"line_width\":2}}}},{\"type\":\"object\",\"name\":\"GlyphRenderer\",\"id\":\"p1129\",\"attributes\":{\"data_source\":{\"type\":\"object\",\"name\":\"ColumnDataSource\",\"id\":\"p1123\",\"attributes\":{\"selected\":{\"type\":\"object\",\"name\":\"Selection\",\"id\":\"p1124\",\"attributes\":{\"indices\":[],\"line_indices\":[]}},\"selection_policy\":{\"type\":\"object\",\"name\":\"UnionRenderers\",\"id\":\"p1125\"},\"data\":{\"type\":\"map\",\"entries\":[[\"x0\",[24.40000009536743]],[\"y0\",[0.0]],[\"x1\",[24.40000009536743]],[\"y1\",[483.93936]]]}}},\"view\":{\"type\":\"object\",\"name\":\"CDSView\",\"id\":\"p1130\",\"attributes\":{\"filter\":{\"type\":\"object\",\"name\":\"AllIndices\",\"id\":\"p1131\"}}},\"glyph\":{\"type\":\"object\",\"name\":\"Segment\",\"id\":\"p1126\",\"attributes\":{\"x0\":{\"type\":\"field\",\"field\":\"x0\"},\"y0\":{\"type\":\"field\",\"field\":\"y0\"},\"x1\":{\"type\":\"field\",\"field\":\"x1\"},\"y1\":{\"type\":\"field\",\"field\":\"y1\"},\"line_color\":{\"type\":\"value\",\"value\":\"lightblue\"},\"line_width\":{\"type\":\"value\",\"value\":3}}},\"nonselection_glyph\":{\"type\":\"object\",\"name\":\"Segment\",\"id\":\"p1127\",\"attributes\":{\"x0\":{\"type\":\"field\",\"field\":\"x0\"},\"y0\":{\"type\":\"field\",\"field\":\"y0\"},\"x1\":{\"type\":\"field\",\"field\":\"x1\"},\"y1\":{\"type\":\"field\",\"field\":\"y1\"},\"line_color\":{\"type\":\"value\",\"value\":\"lightblue\"},\"line_alpha\":{\"type\":\"value\",\"value\":0.1},\"line_width\":{\"type\":\"value\",\"value\":3}}},\"muted_glyph\":{\"type\":\"object\",\"name\":\"Segment\",\"id\":\"p1128\",\"attributes\":{\"x0\":{\"type\":\"field\",\"field\":\"x0\"},\"y0\":{\"type\":\"field\",\"field\":\"y0\"},\"x1\":{\"type\":\"field\",\"field\":\"x1\"},\"y1\":{\"type\":\"field\",\"field\":\"y1\"},\"line_color\":{\"type\":\"value\",\"value\":\"lightblue\"},\"line_alpha\":{\"type\":\"value\",\"value\":0.2},\"line_width\":{\"type\":\"value\",\"value\":3}}}}},{\"type\":\"object\",\"name\":\"GlyphRenderer\",\"id\":\"p1138\",\"attributes\":{\"data_source\":{\"type\":\"object\",\"name\":\"ColumnDataSource\",\"id\":\"p1132\",\"attributes\":{\"selected\":{\"type\":\"object\",\"name\":\"Selection\",\"id\":\"p1133\",\"attributes\":{\"indices\":[],\"line_indices\":[]}},\"selection_policy\":{\"type\":\"object\",\"name\":\"UnionRenderers\",\"id\":\"p1134\"},\"data\":{\"type\":\"map\",\"entries\":[[\"x0\",[25.90000009536743]],[\"y0\",[0.0]],[\"x1\",[25.90000009536743]],[\"y1\",[483.93936]]]}}},\"view\":{\"type\":\"object\",\"name\":\"CDSView\",\"id\":\"p1139\",\"attributes\":{\"filter\":{\"type\":\"object\",\"name\":\"AllIndices\",\"id\":\"p1140\"}}},\"glyph\":{\"type\":\"object\",\"name\":\"Segment\",\"id\":\"p1135\",\"attributes\":{\"x0\":{\"type\":\"field\",\"field\":\"x0\"},\"y0\":{\"type\":\"field\",\"field\":\"y0\"},\"x1\":{\"type\":\"field\",\"field\":\"x1\"},\"y1\":{\"type\":\"field\",\"field\":\"y1\"},\"line_color\":{\"type\":\"value\",\"value\":\"darkseagreen\"}}},\"nonselection_glyph\":{\"type\":\"object\",\"name\":\"Segment\",\"id\":\"p1136\",\"attributes\":{\"x0\":{\"type\":\"field\",\"field\":\"x0\"},\"y0\":{\"type\":\"field\",\"field\":\"y0\"},\"x1\":{\"type\":\"field\",\"field\":\"x1\"},\"y1\":{\"type\":\"field\",\"field\":\"y1\"},\"line_color\":{\"type\":\"value\",\"value\":\"darkseagreen\"},\"line_alpha\":{\"type\":\"value\",\"value\":0.1}}},\"muted_glyph\":{\"type\":\"object\",\"name\":\"Segment\",\"id\":\"p1137\",\"attributes\":{\"x0\":{\"type\":\"field\",\"field\":\"x0\"},\"y0\":{\"type\":\"field\",\"field\":\"y0\"},\"x1\":{\"type\":\"field\",\"field\":\"x1\"},\"y1\":{\"type\":\"field\",\"field\":\"y1\"},\"line_color\":{\"type\":\"value\",\"value\":\"darkseagreen\"},\"line_alpha\":{\"type\":\"value\",\"value\":0.2}}}}},{\"type\":\"object\",\"name\":\"GlyphRenderer\",\"id\":\"p1147\",\"attributes\":{\"data_source\":{\"type\":\"object\",\"name\":\"ColumnDataSource\",\"id\":\"p1141\",\"attributes\":{\"selected\":{\"type\":\"object\",\"name\":\"Selection\",\"id\":\"p1142\",\"attributes\":{\"indices\":[],\"line_indices\":[]}},\"selection_policy\":{\"type\":\"object\",\"name\":\"UnionRenderers\",\"id\":\"p1143\"},\"data\":{\"type\":\"map\",\"entries\":[[\"x0\",[22.90000009536743]],[\"y0\",[0.0]],[\"x1\",[22.90000009536743]],[\"y1\",[483.93936]]]}}},\"view\":{\"type\":\"object\",\"name\":\"CDSView\",\"id\":\"p1148\",\"attributes\":{\"filter\":{\"type\":\"object\",\"name\":\"AllIndices\",\"id\":\"p1149\"}}},\"glyph\":{\"type\":\"object\",\"name\":\"Segment\",\"id\":\"p1144\",\"attributes\":{\"x0\":{\"type\":\"field\",\"field\":\"x0\"},\"y0\":{\"type\":\"field\",\"field\":\"y0\"},\"x1\":{\"type\":\"field\",\"field\":\"x1\"},\"y1\":{\"type\":\"field\",\"field\":\"y1\"},\"line_color\":{\"type\":\"value\",\"value\":\"darkseagreen\"}}},\"nonselection_glyph\":{\"type\":\"object\",\"name\":\"Segment\",\"id\":\"p1145\",\"attributes\":{\"x0\":{\"type\":\"field\",\"field\":\"x0\"},\"y0\":{\"type\":\"field\",\"field\":\"y0\"},\"x1\":{\"type\":\"field\",\"field\":\"x1\"},\"y1\":{\"type\":\"field\",\"field\":\"y1\"},\"line_color\":{\"type\":\"value\",\"value\":\"darkseagreen\"},\"line_alpha\":{\"type\":\"value\",\"value\":0.1}}},\"muted_glyph\":{\"type\":\"object\",\"name\":\"Segment\",\"id\":\"p1146\",\"attributes\":{\"x0\":{\"type\":\"field\",\"field\":\"x0\"},\"y0\":{\"type\":\"field\",\"field\":\"y0\"},\"x1\":{\"type\":\"field\",\"field\":\"x1\"},\"y1\":{\"type\":\"field\",\"field\":\"y1\"},\"line_color\":{\"type\":\"value\",\"value\":\"darkseagreen\"},\"line_alpha\":{\"type\":\"value\",\"value\":0.2}}}}},{\"type\":\"object\",\"name\":\"GlyphRenderer\",\"id\":\"p1156\",\"attributes\":{\"data_source\":{\"type\":\"object\",\"name\":\"ColumnDataSource\",\"id\":\"p1150\",\"attributes\":{\"selected\":{\"type\":\"object\",\"name\":\"Selection\",\"id\":\"p1151\",\"attributes\":{\"indices\":[],\"line_indices\":[]}},\"selection_policy\":{\"type\":\"object\",\"name\":\"UnionRenderers\",\"id\":\"p1152\"},\"data\":{\"type\":\"map\",\"entries\":[[\"x\",[24.40000009536743]],[\"y\",[483.93936]],[\"size\",[20]]]}}},\"view\":{\"type\":\"object\",\"name\":\"CDSView\",\"id\":\"p1157\",\"attributes\":{\"filter\":{\"type\":\"object\",\"name\":\"AllIndices\",\"id\":\"p1158\"}}},\"glyph\":{\"type\":\"object\",\"name\":\"Scatter\",\"id\":\"p1153\",\"attributes\":{\"x\":{\"type\":\"field\",\"field\":\"x\"},\"y\":{\"type\":\"field\",\"field\":\"y\"},\"size\":{\"type\":\"field\",\"field\":\"size\"},\"line_color\":{\"type\":\"value\",\"value\":\"lightblue\"},\"line_width\":{\"type\":\"value\",\"value\":3},\"fill_color\":{\"type\":\"value\",\"value\":null},\"marker\":{\"type\":\"value\",\"value\":\"square_cross\"}}},\"nonselection_glyph\":{\"type\":\"object\",\"name\":\"Scatter\",\"id\":\"p1154\",\"attributes\":{\"x\":{\"type\":\"field\",\"field\":\"x\"},\"y\":{\"type\":\"field\",\"field\":\"y\"},\"size\":{\"type\":\"field\",\"field\":\"size\"},\"line_color\":{\"type\":\"value\",\"value\":\"lightblue\"},\"line_alpha\":{\"type\":\"value\",\"value\":0.1},\"line_width\":{\"type\":\"value\",\"value\":3},\"fill_color\":{\"type\":\"value\",\"value\":null},\"fill_alpha\":{\"type\":\"value\",\"value\":0.1},\"hatch_alpha\":{\"type\":\"value\",\"value\":0.1},\"marker\":{\"type\":\"value\",\"value\":\"square_cross\"}}},\"muted_glyph\":{\"type\":\"object\",\"name\":\"Scatter\",\"id\":\"p1155\",\"attributes\":{\"x\":{\"type\":\"field\",\"field\":\"x\"},\"y\":{\"type\":\"field\",\"field\":\"y\"},\"size\":{\"type\":\"field\",\"field\":\"size\"},\"line_color\":{\"type\":\"value\",\"value\":\"lightblue\"},\"line_alpha\":{\"type\":\"value\",\"value\":0.2},\"line_width\":{\"type\":\"value\",\"value\":3},\"fill_color\":{\"type\":\"value\",\"value\":null},\"fill_alpha\":{\"type\":\"value\",\"value\":0.2},\"hatch_alpha\":{\"type\":\"value\",\"value\":0.2},\"marker\":{\"type\":\"value\",\"value\":\"square_cross\"}}}}}],\"toolbar\":{\"type\":\"object\",\"name\":\"Toolbar\",\"id\":\"p1045\",\"attributes\":{\"tools\":[{\"type\":\"object\",\"name\":\"PanTool\",\"id\":\"p1060\"},{\"type\":\"object\",\"name\":\"WheelZoomTool\",\"id\":\"p1061\",\"attributes\":{\"renderers\":\"auto\"}},{\"type\":\"object\",\"name\":\"BoxZoomTool\",\"id\":\"p1062\",\"attributes\":{\"overlay\":{\"type\":\"object\",\"name\":\"BoxAnnotation\",\"id\":\"p1063\",\"attributes\":{\"syncable\":false,\"level\":\"overlay\",\"visible\":false,\"left\":{\"type\":\"number\",\"value\":\"nan\"},\"right\":{\"type\":\"number\",\"value\":\"nan\"},\"top\":{\"type\":\"number\",\"value\":\"nan\"},\"bottom\":{\"type\":\"number\",\"value\":\"nan\"},\"left_units\":\"canvas\",\"right_units\":\"canvas\",\"top_units\":\"canvas\",\"bottom_units\":\"canvas\",\"line_color\":\"black\",\"line_alpha\":1.0,\"line_width\":2,\"line_dash\":[4,4],\"fill_color\":\"lightgrey\",\"fill_alpha\":0.5}}}},{\"type\":\"object\",\"name\":\"SaveTool\",\"id\":\"p1068\"},{\"type\":\"object\",\"name\":\"ResetTool\",\"id\":\"p1069\"},{\"type\":\"object\",\"name\":\"HelpTool\",\"id\":\"p1070\"},{\"type\":\"object\",\"name\":\"HoverTool\",\"id\":\"p1102\",\"attributes\":{\"renderers\":\"auto\",\"tooltips\":[[\"Y-val\",\"@y{0.00}\"]]}}]}},\"left\":[{\"type\":\"object\",\"name\":\"LinearAxis\",\"id\":\"p1055\",\"attributes\":{\"ticker\":{\"type\":\"object\",\"name\":\"BasicTicker\",\"id\":\"p1056\",\"attributes\":{\"mantissas\":[1,2,5]}},\"formatter\":{\"type\":\"object\",\"name\":\"BasicTickFormatter\",\"id\":\"p1057\"},\"axis_label\":\"km/h\",\"axis_label_standoff\":10,\"axis_label_text_color\":\"#E0E0E0\",\"axis_label_text_font\":\"Helvetica\",\"axis_label_text_font_size\":\"1.25em\",\"axis_label_text_font_style\":\"normal\",\"major_label_policy\":{\"type\":\"object\",\"name\":\"AllLabels\",\"id\":\"p1058\"},\"major_label_text_color\":\"#E0E0E0\",\"major_label_text_font\":\"Helvetica\",\"major_label_text_font_size\":\"1.025em\",\"axis_line_color\":\"#E0E0E0\",\"axis_line_alpha\":0,\"major_tick_line_color\":\"#E0E0E0\",\"major_tick_line_alpha\":0,\"minor_tick_line_color\":\"#E0E0E0\",\"minor_tick_line_alpha\":0}},{\"type\":\"object\",\"name\":\"LinearAxis\",\"id\":\"p1073\",\"attributes\":{\"y_range_name\":\"altitudeFt\",\"ticker\":{\"type\":\"object\",\"name\":\"BasicTicker\",\"id\":\"p1074\",\"attributes\":{\"mantissas\":[1,2,5]}},\"formatter\":{\"type\":\"object\",\"name\":\"BasicTickFormatter\",\"id\":\"p1075\"},\"axis_label\":\"Alt (ft)\",\"axis_label_standoff\":10,\"axis_label_text_color\":\"#E0E0E0\",\"axis_label_text_font\":\"Helvetica\",\"axis_label_text_font_size\":\"1.25em\",\"axis_label_text_font_style\":\"normal\",\"major_label_policy\":{\"type\":\"object\",\"name\":\"AllLabels\",\"id\":\"p1076\"},\"major_label_text_color\":\"#E0E0E0\",\"major_label_text_font\":\"Helvetica\",\"major_label_text_font_size\":\"1.025em\",\"axis_line_color\":\"#E0E0E0\",\"axis_line_alpha\":0,\"major_tick_line_color\":\"#E0E0E0\",\"major_tick_line_alpha\":0,\"minor_tick_line_color\":\"#E0E0E0\",\"minor_tick_line_alpha\":0}},{\"type\":\"object\",\"name\":\"LinearAxis\",\"id\":\"p1077\",\"attributes\":{\"y_range_name\":\"angle\",\"ticker\":{\"type\":\"object\",\"name\":\"BasicTicker\",\"id\":\"p1078\",\"attributes\":{\"mantissas\":[1,2,5]}},\"formatter\":{\"type\":\"object\",\"name\":\"BasicTickFormatter\",\"id\":\"p1079\"},\"axis_label\":\"angle\",\"axis_label_standoff\":10,\"axis_label_text_color\":\"#E0E0E0\",\"axis_label_text_font\":\"Helvetica\",\"axis_label_text_font_size\":\"1.25em\",\"axis_label_text_font_style\":\"normal\",\"major_label_policy\":{\"type\":\"object\",\"name\":\"AllLabels\",\"id\":\"p1080\"},\"major_label_text_color\":\"#E0E0E0\",\"major_label_text_font\":\"Helvetica\",\"major_label_text_font_size\":\"1.025em\",\"axis_line_color\":\"#E0E0E0\",\"axis_line_alpha\":0,\"major_tick_line_color\":\"#E0E0E0\",\"major_tick_line_alpha\":0,\"minor_tick_line_color\":\"#E0E0E0\",\"minor_tick_line_alpha\":0}}],\"below\":[{\"type\":\"object\",\"name\":\"LinearAxis\",\"id\":\"p1050\",\"attributes\":{\"ticker\":{\"type\":\"object\",\"name\":\"BasicTicker\",\"id\":\"p1051\",\"attributes\":{\"mantissas\":[1,2,5]}},\"formatter\":{\"type\":\"object\",\"name\":\"BasicTickFormatter\",\"id\":\"p1052\"},\"axis_label\":\"seconds from exit\",\"axis_label_standoff\":10,\"axis_label_text_color\":\"#E0E0E0\",\"axis_label_text_font\":\"Helvetica\",\"axis_label_text_font_size\":\"1.25em\",\"axis_label_text_font_style\":\"normal\",\"major_label_policy\":{\"type\":\"object\",\"name\":\"AllLabels\",\"id\":\"p1053\"},\"major_label_text_color\":\"#E0E0E0\",\"major_label_text_font\":\"Helvetica\",\"major_label_text_font_size\":\"1.025em\",\"axis_line_color\":\"#E0E0E0\",\"axis_line_alpha\":0,\"major_tick_line_color\":\"#E0E0E0\",\"major_tick_line_alpha\":0,\"minor_tick_line_color\":\"#E0E0E0\",\"minor_tick_line_alpha\":0}}],\"center\":[{\"type\":\"object\",\"name\":\"Grid\",\"id\":\"p1054\",\"attributes\":{\"axis\":{\"id\":\"p1050\"},\"grid_line_color\":\"#E0E0E0\",\"grid_line_alpha\":0.25}},{\"type\":\"object\",\"name\":\"Grid\",\"id\":\"p1059\",\"attributes\":{\"dimension\":1,\"axis\":{\"id\":\"p1055\"},\"grid_line_color\":\"#E0E0E0\",\"grid_line_alpha\":0.25}},{\"type\":\"object\",\"name\":\"Legend\",\"id\":\"p1090\",\"attributes\":{\"border_line_alpha\":0,\"background_fill_color\":\"#20262B\",\"background_fill_alpha\":0.25,\"label_text_color\":\"#E0E0E0\",\"label_text_font\":\"Helvetica\",\"label_text_font_size\":\"1.025em\",\"label_standoff\":8,\"glyph_width\":15,\"spacing\":8,\"items\":[{\"type\":\"object\",\"name\":\"LegendItem\",\"id\":\"p1091\",\"attributes\":{\"label\":{\"type\":\"value\",\"value\":\"Alt (ft)\"},\"renderers\":[{\"id\":\"p1087\"}]}},{\"type\":\"object\",\"name\":\"LegendItem\",\"id\":\"p1101\",\"attributes\":{\"label\":{\"type\":\"value\",\"value\":\"angle\"},\"renderers\":[{\"id\":\"p1098\"}]}},{\"type\":\"object\",\"name\":\"LegendItem\",\"id\":\"p1112\",\"attributes\":{\"label\":{\"type\":\"value\",\"value\":\"speed\"},\"renderers\":[{\"id\":\"p1109\"}]}},{\"type\":\"object\",\"name\":\"LegendItem\",\"id\":\"p1122\",\"attributes\":{\"label\":{\"type\":\"value\",\"value\":\"H-speed\"},\"renderers\":[{\"id\":\"p1119\"}]}}]}}],\"background_fill_color\":\"#20262B\",\"border_fill_color\":\"#15191C\"}}]}};\n",
       "  const render_items = [{\"docid\":\"458897c0-ce1f-4c2d-b6f2-1d7af18d2791\",\"roots\":{\"p1036\":\"ea327432-94b6-451d-b8cb-bd5e141ff4d8\"},\"root_ids\":[\"p1036\"]}];\n",
       "  void root.Bokeh.embed.embed_items_notebook(docs_json, render_items);\n",
       "  }\n",
       "  if (root.Bokeh !== undefined) {\n",
       "    embed_document(root);\n",
       "  } else {\n",
       "    let attempts = 0;\n",
       "    const timer = setInterval(function(root) {\n",
       "      if (root.Bokeh !== undefined) {\n",
       "        clearInterval(timer);\n",
       "        embed_document(root);\n",
       "      } else {\n",
       "        attempts++;\n",
       "        if (attempts > 100) {\n",
       "          clearInterval(timer);\n",
       "          console.log(\"Bokeh: ERROR: Unable to run BokehJS code because BokehJS library is missing\");\n",
       "        }\n",
       "      }\n",
       "    }, 10, root)\n",
       "  }\n",
       "})(window);"
      ],
      "application/vnd.bokehjs_exec.v0+json": ""
     },
     "metadata": {
      "application/vnd.bokehjs_exec.v0+json": {
       "id": "p1036"
      }
     },
     "output_type": "display_data"
    },
    {
     "data": {
      "application/vnd.jupyter.widget-view+json": {
       "model_id": "e4374616d25a4c59986751a0cc09e92b",
       "version_major": 2,
       "version_minor": 0
      },
      "text/plain": [
       "HTML(value='<hr><h1><span style=\"color: #0f0\">07-36-35 jump - 🟢 valid - score = 464.27 km/h</span></h1>')"
      ]
     },
     "metadata": {},
     "output_type": "display_data"
    },
    {
     "data": {
      "application/vnd.jupyter.widget-view+json": {
       "model_id": "840e74b4f2544d17b712927d5ebd0ce2",
       "version_major": 2,
       "version_minor": 0
      },
      "text/plain": [
       "HTML(value='<h3>Max speed = 466; exit at 4111 m (13487 ft), end scoring window at 1855 m (6086 ft)')"
      ]
     },
     "metadata": {},
     "output_type": "display_data"
    },
    {
     "data": {
      "application/vnd.jupyter.widget-view+json": {
       "model_id": "65ea37dd7f374c549e089d01fac609c0",
       "version_major": 2,
       "version_minor": 0
      },
      "text/plain": [
       "HTML(value='</h3>')"
      ]
     },
     "metadata": {},
     "output_type": "display_data"
    },
    {
     "data": {
      "text/html": [
       "<div>\n",
       "<style scoped>\n",
       "    .dataframe tbody tr th:only-of-type {\n",
       "        vertical-align: middle;\n",
       "    }\n",
       "\n",
       "    .dataframe tbody tr th {\n",
       "        vertical-align: top;\n",
       "    }\n",
       "\n",
       "    .dataframe thead th {\n",
       "        text-align: right;\n",
       "    }\n",
       "</style>\n",
       "<table border=\"1\" class=\"dataframe\">\n",
       "  <thead>\n",
       "    <tr style=\"text-align: right;\">\n",
       "      <th></th>\n",
       "      <th>time</th>\n",
       "      <th>vKMh</th>\n",
       "      <th>hKMh</th>\n",
       "      <th>speedAngle</th>\n",
       "      <th>netVectorKMh</th>\n",
       "      <th>altitude (ft)</th>\n",
       "    </tr>\n",
       "  </thead>\n",
       "  <tbody>\n",
       "    <tr>\n",
       "      <th></th>\n",
       "      <td>5.0</td>\n",
       "      <td>180</td>\n",
       "      <td>165</td>\n",
       "      <td>47.4</td>\n",
       "      <td>244</td>\n",
       "      <td>13049</td>\n",
       "    </tr>\n",
       "    <tr>\n",
       "      <th></th>\n",
       "      <td>10.0</td>\n",
       "      <td>319</td>\n",
       "      <td>125</td>\n",
       "      <td>68.6</td>\n",
       "      <td>342</td>\n",
       "      <td>11877</td>\n",
       "    </tr>\n",
       "    <tr>\n",
       "      <th></th>\n",
       "      <td>15.0</td>\n",
       "      <td>412</td>\n",
       "      <td>92</td>\n",
       "      <td>77.5</td>\n",
       "      <td>422</td>\n",
       "      <td>10180</td>\n",
       "    </tr>\n",
       "    <tr>\n",
       "      <th></th>\n",
       "      <td>20.0</td>\n",
       "      <td>453</td>\n",
       "      <td>66</td>\n",
       "      <td>81.8</td>\n",
       "      <td>458</td>\n",
       "      <td>8191</td>\n",
       "    </tr>\n",
       "    <tr>\n",
       "      <th></th>\n",
       "      <td>25.0</td>\n",
       "      <td>463</td>\n",
       "      <td>37</td>\n",
       "      <td>85.4</td>\n",
       "      <td>465</td>\n",
       "      <td>6125</td>\n",
       "    </tr>\n",
       "  </tbody>\n",
       "</table>\n",
       "</div>"
      ],
      "text/plain": [
       "  time  vKMh  hKMh  speedAngle  netVectorKMh  altitude (ft)\n",
       "   5.0   180   165        47.4           244          13049\n",
       "  10.0   319   125        68.6           342          11877\n",
       "  15.0   412    92        77.5           422          10180\n",
       "  20.0   453    66        81.8           458           8191\n",
       "  25.0   463    37        85.4           465           6125"
      ]
     },
     "metadata": {},
     "output_type": "display_data"
    },
    {
     "data": {
      "text/html": [
       "\n",
       "  <div id=\"dd722396-f208-40f8-8313-db0adda68abd\" data-root-id=\"p1178\" style=\"display: contents;\"></div>\n"
      ]
     },
     "metadata": {},
     "output_type": "display_data"
    },
    {
     "data": {
      "application/javascript": [
       "(function(root) {\n",
       "  function embed_document(root) {\n",
       "  const docs_json = {\"dd96ae5a-5340-4bad-aeee-3f8c8b549737\":{\"version\":\"3.4.1\",\"title\":\"Bokeh Application\",\"roots\":[{\"type\":\"object\",\"name\":\"Figure\",\"id\":\"p1178\",\"attributes\":{\"width\":900,\"height\":500,\"x_range\":{\"type\":\"object\",\"name\":\"Range1d\",\"id\":\"p1188\",\"attributes\":{\"end\":35.0}},\"y_range\":{\"type\":\"object\",\"name\":\"Range1d\",\"id\":\"p1189\",\"attributes\":{\"end\":550.0}},\"x_scale\":{\"type\":\"object\",\"name\":\"LinearScale\",\"id\":\"p1190\"},\"y_scale\":{\"type\":\"object\",\"name\":\"LinearScale\",\"id\":\"p1191\"},\"extra_y_ranges\":{\"type\":\"map\",\"entries\":[[\"altitudeFt\",{\"type\":\"object\",\"name\":\"Range1d\",\"id\":\"p1213\",\"attributes\":{\"start\":5625.33958,\"end\":13987.953461600002}}],[\"angle\",{\"type\":\"object\",\"name\":\"Range1d\",\"id\":\"p1214\",\"attributes\":{\"end\":90.0}}]]},\"title\":{\"type\":\"object\",\"name\":\"Title\",\"id\":\"p1181\",\"attributes\":{\"text\":\"07-36-35\",\"text_color\":\"#E0E0E0\",\"text_font\":\"Helvetica\",\"text_font_size\":\"1.15em\"}},\"outline_line_color\":\"#E0E0E0\",\"outline_line_alpha\":0.25,\"renderers\":[{\"type\":\"object\",\"name\":\"GlyphRenderer\",\"id\":\"p1229\",\"attributes\":{\"y_range_name\":\"altitudeFt\",\"data_source\":{\"type\":\"object\",\"name\":\"ColumnDataSource\",\"id\":\"p1223\",\"attributes\":{\"selected\":{\"type\":\"object\",\"name\":\"Selection\",\"id\":\"p1224\",\"attributes\":{\"indices\":[],\"line_indices\":[]}},\"selection_policy\":{\"type\":\"object\",\"name\":\"UnionRenderers\",\"id\":\"p1225\"},\"data\":{\"type\":\"map\",\"entries\":[[\"x\",{\"type\":\"ndarray\",\"array\":{\"type\":\"bytes\",\"data\":\"AAAAAAAAAAAAAAAAmJm5PwAAAACamck/AAAAADMz0z8AAAAAmpnZPwAAAAAAAOA/AAAAADMz4z8AAACAZmbmPwAAAICZmek/AAAAAM3M7D8AAAAAAADwPwAAAICZmfE/AAAAwMzM9D8AAACAZmb2PwAAAAAAAPg/AAAAgJmZ+T8AAABAMzP7PwAAAMDMzPw/AAAAgGZm/j8AAAAAAAAAQAAAAMDMzABAAAAAYGZmAkAAAABAMzMDQAAAAAAAAARAAAAAwMzMBEAAAACgmZkFQAAAAGBmZgZAAAAAQDMzB0AAAAAAAAAIQAAAAMDMzAhAAAAAYGZmCkAAAABAMzMLQAAAAAAAAAxAAAAAwMzMDEAAAACgmZkNQAAAAGBmZg5AAAAAQDMzD0AAAAAAAAAQQAAAAGBmZhBAAAAA0MzMEEAAAAAwMzMRQAAAAKCZmRFAAAAAAAAAEkAAAABgZmYSQAAAANDMzBJAAAAAMDMzE0AAAACgmZkTQAAAAAAAABRAAAAAYGZmFEAAAAAwMzMVQAAAAKCZmRVAAAAAAAAAFkAAAABgZmYWQAAAANDMzBZAAAAAMDMzF0AAAACgmZkXQAAAAAAAABhAAAAAYGZmGEAAAAAwMzMZQAAAAKCZmRlAAAAAYGZmGkAAAADQzMwaQAAAAKCZmRtAAAAAAAAAHEAAAADQzMwcQAAAADAzMx1AAAAAoJmZHUAAAAAAAAAeQAAAAGBmZh5AAAAAMDMzH0AAAACgmZkfQAAAAAAAACBAAAAAMDMzIEAAAACYmZkgQAAAANDMzCBAAAAAMDMzIUAAAABoZmYhQAAAAJiZmSFAAAAA0MzMIUAAAAAwMzMiQAAAAGhmZiJAAAAA0MzMIkAAAAAAAAAjQAAAADAzMyNAAAAAaGZmI0AAAACYmZkjQAAAAAAAACRAAAAAMDMzJEAAAACYmZkkQAAAANDMzCRAAAAAAAAAJUAAAAAwMzMlQAAAAGhmZiVAAAAAmJmZJUAAAADQzMwlQAAAAAAAACZAAAAAMDMzJkAAAADQzMwmQAAAAAAAACdAAAAAMDMzJ0AAAABoZmYnQAAAAJiZmSdAAAAA0MzMJ0AAAAAwMzMoQAAAAJiZmShAAAAA0MzMKEAAAAAAAAApQAAAADAzMylAAAAAmJmZKUAAAADQzMwpQAAAAAAAACpAAAAAMDMzKkAAAACYmZkqQAAAANDMzCpAAAAAMDMzK0AAAABoZmYrQAAAAJiZmStAAAAA0MzMK0AAAAAAAAAsQAAAAGhmZixAAAAAmJmZLEAAAADQzMwsQAAAAAAAAC1AAAAAaGZmLUAAAACYmZktQAAAAAAAAC5AAAAAMDMzLkAAAABoZmYuQAAAAJiZmS5AAAAA0MzMLkAAAAAwMzMvQAAAAGhmZi9AAAAAmJmZL0AAAADQzMwvQAAAAAAAADBAAAAAmJkZMEAAAADMzEwwQAAAAGhmZjBAAAAAAACAMEAAAAA0M7MwQAAAAMzMzDBAAAAAaGbmMEAAAAAAAAAxQAAAAJiZGTFAAAAAzMxMMUAAAAAAAIAxQAAAAJiZmTFAAAAANDOzMUAAAADMzMwxQAAAAGhm5jFAAAAAAAAAMkAAAACYmRkyQAAAAMzMTDJAAAAAaGZmMkAAAACYmZkyQAAAADQzszJAAAAAzMzMMkAAAABoZuYyQAAAAAAAADNAAAAAmJkZM0AAAADMzEwzQAAAAAAAgDNAAAAAmJmZM0AAAAA0M7MzQAAAAMzMzDNAAAAAaGbmM0AAAAAAAAA0QAAAAMzMTDRAAAAAaGZmNEAAAAAAAIA0QAAAAJiZmTRAAAAANDOzNEAAAADMzMw0QAAAAGhm5jRAAAAAmJkZNUAAAABoZmY1QAAAAAAAgDVAAAAAmJmZNUAAAAA0M7M1QAAAAMzMzDVAAAAAaGbmNUAAAAAAAAA2QAAAAJiZGTZAAAAAzMxMNkAAAAAAAIA2QAAAAJiZmTZAAAAANDOzNkAAAADMzMw2QAAAAAAAADdAAAAAmJkZN0AAAADMzEw3QAAAAGhmZjdAAAAAAACAN0AAAAA0M7M3QAAAAMzMzDdAAAAAaGbmN0AAAAAAAAA4QAAAAJiZGThAAAAAzMxMOEAAAAAAAIA4QAAAAJiZmThAAAAANDOzOEAAAADMzMw4QAAAAGhm5jhA\"},\"shape\":[204],\"dtype\":\"float64\",\"order\":\"little\"}],[\"y\",{\"type\":\"ndarray\",\"array\":{\"type\":\"bytes\",\"data\":\"AJsHC/pXykCNN0O7vFfKQCe7mdGHV8pAz+j9NS9XykAMVub3r1bKQJ5dYzznVcpAHp5vVdNUykDq8Gt/klPKQM11GmkRUspAOhYlMjVQykCnti/7WE7KQMJk9O1mTMpAV6apr/BHykAVh9gFMEXKQBkUvNdXQspAbhnLTz0/ykCBNRg0DjzKQKlhrvulOMpAhAE6ghI1ykCVqHI1FTHKQL7g05z8LMpASbKzjfwkykBA7zJonSDKQOgeyDD1G8pAtMagEzoXykAbL90kdhLKQC6l01+cDcpAkk8jiI4IykCcw1oheQPKQNIVEWo7/slAEwNuJ2vzyUA4UaYstu3JQG+NvjjP58lAV/n5SsvhyUD1+pP4lNvJQKlr7X1K1clATXRMzNnOyUBC023kLcjJQNpYLsBjwclAKZa2E2C6yUDRbdPpErPJQO5QA7yjq8lAeNkK9SekyUAtHigBi5zJQC51NR7BlMlAX+6To8CMyUABLzNsrITJQB2dTg1vfMlAM4qK3RN0yUDzBwPP5WLJQDM3OkIRWslAYtwNoh1RyUCCO1Cn/EfJQDr8f+atPslAC07Y2UM1yUB/6DhttCvJQOY8CKb3IclA8dnffhUYyUB5wCs4CgTJQPnu+9yt+chA942vPavkyECmXfF5+tnIQG/JuzQPxMhAkQiNYOu4yEAIbHMIQaLIQDe5znWolshA0qsBSgOLyEAbrO5HSH/IQMyuav9pc8hAvDX64jxbyEDqbLcT+07IQDA1nfidQshAseSFzxk2yEDjBjLxtRzIQO/RdqfWD8hA9cL4xMX1x0ATPxBqiOjHQB4xxPsr28dAUt+NYK7Nx0DjmMAIbbLHQAeigh6dpMdAxGCjUbaIx0BdOGtLmHrHQBGhW/lebMdA23gLfxFex0A0TG2pq0/HQMlEpWyMMsdA1iyGYdYjx0BK266GEgbHQDkVBOoI98ZAmjgDbeTnxkCOeR1xoNjGQJpLYClBycZA7uvAOcO5xkDNQwE2O6rGQEugdxmcmsZAiVf+IdqKxkDvzF98NFvGQNWxSukZS8ZAw/xw6+k6xkBPTM3UoirGQMXvXM5DGsZAUgKsn9AJxkCXplL9nOjFQO9aQj4wx8VAip2ELUG2xUAPNPosOqXFQHv8OWAilMVAKNap8p1xxUBGkf8TPWDFQD+XBAPDTsVAIM/TJTg9xUAnrhnP3hnFQHyShfkMCMVAgHbRoT3kxECM8JtnOdLEQPgGulEnwMRA1OQYfwGuxEDVOrvGyJvEQCc9wh8cd8RAH5GlxadkxEB2gdyPJVLEQC0OZ36VP8RABW7dzUMaxEC8vVqkhwfEQNDHxs3i4cNAuTmVDPDOw0BboDjb77vDQMPiy5/qqMNAWoS95NqVw0DpBH6eiG/DQGI18WlRXMNAv1NcsBdJw0CxEMJI3DXDQEt1pnWgIsNAEheARmEPw0CtQU5O6+jCQMq6ybmO1cJAwFyLFiDCwkBf8pqyHpvCQJ1iemeRh8JAN01EZP1zwkAW5MLcUWDCQMlftY2iTMJAgwzTrS0lwkDPmf42bf3BQOSWoNB86cFAKvOg6oHVwUAZGYl1f8HBQC23tBpqrcFACFM5kkiZwUAjV6DMHYXBQAdtKGuyXMFAe2qaHGNIwUB69qYzqR/BQDKgzWBCC8FA3mLZJ9P2wECdcjvqVuLAQF2CnazazcBAhxVu+Vi5wECBwSRLXJDAQDdHDPEeZ8BA1uXvOXtSwEB6pjxf0D3AQGvY74kdKcBAUCOITmIUwEAi0RW2QP+/QFL2O7m7gr9A3KlvT/ZYv0Be1f5zTS+/QJSxkG+lBb9AKAgNs/bbvkAoBGFdO7K+QEQSvYyCiL5Ayh78H+s0vkCA6mnRPLe9QMLUhQ4gjb1AMvyW7/9ivUDCeYIO1Di9QH7wkBizDr1AymJRx3nkvEAEqiRXRrq8QDZOrzn8j7xAguMyboo7vEAcrQ+Q5Oa7QD7HNl97vLtAHnl7axuSu0AOVq2WtWe7QMoW7gHfErtACEMdVnjoukCYCjvWlpO6QKBWLNkcabpA6AoAn5k+ukCz9i0pvem5QEG2LF9Hv7lAXC0LgceUuUAaiXVPc2q5QJHZtK0RQLlAmkhpNl/ruEB4vvrToZa4QDxeN1s/bLhAklice+lBuEBbmyGwnRe4QGACt+5W7bdA\"},\"shape\":[204],\"dtype\":\"float64\",\"order\":\"little\"}]]}}},\"view\":{\"type\":\"object\",\"name\":\"CDSView\",\"id\":\"p1230\",\"attributes\":{\"filter\":{\"type\":\"object\",\"name\":\"AllIndices\",\"id\":\"p1231\"}}},\"glyph\":{\"type\":\"object\",\"name\":\"Line\",\"id\":\"p1226\",\"attributes\":{\"x\":{\"type\":\"field\",\"field\":\"x\"},\"y\":{\"type\":\"field\",\"field\":\"y\"},\"line_color\":\"palegoldenrod\",\"line_width\":2}},\"nonselection_glyph\":{\"type\":\"object\",\"name\":\"Line\",\"id\":\"p1227\",\"attributes\":{\"x\":{\"type\":\"field\",\"field\":\"x\"},\"y\":{\"type\":\"field\",\"field\":\"y\"},\"line_color\":\"palegoldenrod\",\"line_alpha\":0.1,\"line_width\":2}},\"muted_glyph\":{\"type\":\"object\",\"name\":\"Line\",\"id\":\"p1228\",\"attributes\":{\"x\":{\"type\":\"field\",\"field\":\"x\"},\"y\":{\"type\":\"field\",\"field\":\"y\"},\"line_color\":\"palegoldenrod\",\"line_alpha\":0.2,\"line_width\":2}}}},{\"type\":\"object\",\"name\":\"GlyphRenderer\",\"id\":\"p1240\",\"attributes\":{\"y_range_name\":\"angle\",\"data_source\":{\"type\":\"object\",\"name\":\"ColumnDataSource\",\"id\":\"p1234\",\"attributes\":{\"selected\":{\"type\":\"object\",\"name\":\"Selection\",\"id\":\"p1235\",\"attributes\":{\"indices\":[],\"line_indices\":[]}},\"selection_policy\":{\"type\":\"object\",\"name\":\"UnionRenderers\",\"id\":\"p1236\"},\"data\":{\"type\":\"map\",\"entries\":[[\"x\",{\"type\":\"ndarray\",\"array\":{\"type\":\"bytes\",\"data\":\"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\"},\"shape\":[204],\"dtype\":\"float64\",\"order\":\"little\"}],[\"y\",{\"type\":\"ndarray\",\"array\":{\"type\":\"bytes\",\"data\":\"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\"},\"shape\":[204],\"dtype\":\"float64\",\"order\":\"little\"}]]}}},\"view\":{\"type\":\"object\",\"name\":\"CDSView\",\"id\":\"p1241\",\"attributes\":{\"filter\":{\"type\":\"object\",\"name\":\"AllIndices\",\"id\":\"p1242\"}}},\"glyph\":{\"type\":\"object\",\"name\":\"Line\",\"id\":\"p1237\",\"attributes\":{\"x\":{\"type\":\"field\",\"field\":\"x\"},\"y\":{\"type\":\"field\",\"field\":\"y\"},\"line_color\":\"deepskyblue\",\"line_width\":2}},\"nonselection_glyph\":{\"type\":\"object\",\"name\":\"Line\",\"id\":\"p1238\",\"attributes\":{\"x\":{\"type\":\"field\",\"field\":\"x\"},\"y\":{\"type\":\"field\",\"field\":\"y\"},\"line_color\":\"deepskyblue\",\"line_alpha\":0.1,\"line_width\":2}},\"muted_glyph\":{\"type\":\"object\",\"name\":\"Line\",\"id\":\"p1239\",\"attributes\":{\"x\":{\"type\":\"field\",\"field\":\"x\"},\"y\":{\"type\":\"field\",\"field\":\"y\"},\"line_color\":\"deepskyblue\",\"line_alpha\":0.2,\"line_width\":2}}}},{\"type\":\"object\",\"name\":\"GlyphRenderer\",\"id\":\"p1251\",\"attributes\":{\"data_source\":{\"type\":\"object\",\"name\":\"ColumnDataSource\",\"id\":\"p1245\",\"attributes\":{\"selected\":{\"type\":\"object\",\"name\":\"Selection\",\"id\":\"p1246\",\"attributes\":{\"indices\":[],\"line_indices\":[]}},\"selection_policy\":{\"type\":\"object\",\"name\":\"UnionRenderers\",\"id\":\"p1247\"},\"data\":{\"type\":\"map\",\"entries\":[[\"x\",{\"type\":\"ndarray\",\"array\":{\"type\":\"bytes\",\"data\":\"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\"},\"shape\":[204],\"dtype\":\"float64\",\"order\":\"little\"}],[\"y\",{\"type\":\"ndarray\",\"array\":{\"type\":\"bytes\",\"data\":\"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\"},\"shape\":[204],\"dtype\":\"float64\",\"order\":\"little\"}]]}}},\"view\":{\"type\":\"object\",\"name\":\"CDSView\",\"id\":\"p1252\",\"attributes\":{\"filter\":{\"type\":\"object\",\"name\":\"AllIndices\",\"id\":\"p1253\"}}},\"glyph\":{\"type\":\"object\",\"name\":\"Line\",\"id\":\"p1248\",\"attributes\":{\"x\":{\"type\":\"field\",\"field\":\"x\"},\"y\":{\"type\":\"field\",\"field\":\"y\"},\"line_color\":\"limegreen\",\"line_width\":2}},\"nonselection_glyph\":{\"type\":\"object\",\"name\":\"Line\",\"id\":\"p1249\",\"attributes\":{\"x\":{\"type\":\"field\",\"field\":\"x\"},\"y\":{\"type\":\"field\",\"field\":\"y\"},\"line_color\":\"limegreen\",\"line_alpha\":0.1,\"line_width\":2}},\"muted_glyph\":{\"type\":\"object\",\"name\":\"Line\",\"id\":\"p1250\",\"attributes\":{\"x\":{\"type\":\"field\",\"field\":\"x\"},\"y\":{\"type\":\"field\",\"field\":\"y\"},\"line_color\":\"limegreen\",\"line_alpha\":0.2,\"line_width\":2}}}},{\"type\":\"object\",\"name\":\"GlyphRenderer\",\"id\":\"p1261\",\"attributes\":{\"data_source\":{\"type\":\"object\",\"name\":\"ColumnDataSource\",\"id\":\"p1255\",\"attributes\":{\"selected\":{\"type\":\"object\",\"name\":\"Selection\",\"id\":\"p1256\",\"attributes\":{\"indices\":[],\"line_indices\":[]}},\"selection_policy\":{\"type\":\"object\",\"name\":\"UnionRenderers\",\"id\":\"p1257\"},\"data\":{\"type\":\"map\",\"entries\":[[\"x\",{\"type\":\"ndarray\",\"array\":{\"type\":\"bytes\",\"data\":\"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\"},\"shape\":[204],\"dtype\":\"float64\",\"order\":\"little\"}],[\"y\",{\"type\":\"ndarray\",\"array\":{\"type\":\"bytes\",\"data\":\"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\"},\"shape\":[204],\"dtype\":\"float64\",\"order\":\"little\"}]]}}},\"view\":{\"type\":\"object\",\"name\":\"CDSView\",\"id\":\"p1262\",\"attributes\":{\"filter\":{\"type\":\"object\",\"name\":\"AllIndices\",\"id\":\"p1263\"}}},\"glyph\":{\"type\":\"object\",\"name\":\"Line\",\"id\":\"p1258\",\"attributes\":{\"x\":{\"type\":\"field\",\"field\":\"x\"},\"y\":{\"type\":\"field\",\"field\":\"y\"},\"line_color\":\"red\",\"line_width\":2}},\"nonselection_glyph\":{\"type\":\"object\",\"name\":\"Line\",\"id\":\"p1259\",\"attributes\":{\"x\":{\"type\":\"field\",\"field\":\"x\"},\"y\":{\"type\":\"field\",\"field\":\"y\"},\"line_color\":\"red\",\"line_alpha\":0.1,\"line_width\":2}},\"muted_glyph\":{\"type\":\"object\",\"name\":\"Line\",\"id\":\"p1260\",\"attributes\":{\"x\":{\"type\":\"field\",\"field\":\"x\"},\"y\":{\"type\":\"field\",\"field\":\"y\"},\"line_color\":\"red\",\"line_alpha\":0.2,\"line_width\":2}}}},{\"type\":\"object\",\"name\":\"GlyphRenderer\",\"id\":\"p1271\",\"attributes\":{\"data_source\":{\"type\":\"object\",\"name\":\"ColumnDataSource\",\"id\":\"p1265\",\"attributes\":{\"selected\":{\"type\":\"object\",\"name\":\"Selection\",\"id\":\"p1266\",\"attributes\":{\"indices\":[],\"line_indices\":[]}},\"selection_policy\":{\"type\":\"object\",\"name\":\"UnionRenderers\",\"id\":\"p1267\"},\"data\":{\"type\":\"map\",\"entries\":[[\"x0\",[24.90000009536743]],[\"y0\",[0.0]],[\"x1\",[24.90000009536743]],[\"y1\",[464.26500000000004]]]}}},\"view\":{\"type\":\"object\",\"name\":\"CDSView\",\"id\":\"p1272\",\"attributes\":{\"filter\":{\"type\":\"object\",\"name\":\"AllIndices\",\"id\":\"p1273\"}}},\"glyph\":{\"type\":\"object\",\"name\":\"Segment\",\"id\":\"p1268\",\"attributes\":{\"x0\":{\"type\":\"field\",\"field\":\"x0\"},\"y0\":{\"type\":\"field\",\"field\":\"y0\"},\"x1\":{\"type\":\"field\",\"field\":\"x1\"},\"y1\":{\"type\":\"field\",\"field\":\"y1\"},\"line_color\":{\"type\":\"value\",\"value\":\"lightblue\"},\"line_width\":{\"type\":\"value\",\"value\":3}}},\"nonselection_glyph\":{\"type\":\"object\",\"name\":\"Segment\",\"id\":\"p1269\",\"attributes\":{\"x0\":{\"type\":\"field\",\"field\":\"x0\"},\"y0\":{\"type\":\"field\",\"field\":\"y0\"},\"x1\":{\"type\":\"field\",\"field\":\"x1\"},\"y1\":{\"type\":\"field\",\"field\":\"y1\"},\"line_color\":{\"type\":\"value\",\"value\":\"lightblue\"},\"line_alpha\":{\"type\":\"value\",\"value\":0.1},\"line_width\":{\"type\":\"value\",\"value\":3}}},\"muted_glyph\":{\"type\":\"object\",\"name\":\"Segment\",\"id\":\"p1270\",\"attributes\":{\"x0\":{\"type\":\"field\",\"field\":\"x0\"},\"y0\":{\"type\":\"field\",\"field\":\"y0\"},\"x1\":{\"type\":\"field\",\"field\":\"x1\"},\"y1\":{\"type\":\"field\",\"field\":\"y1\"},\"line_color\":{\"type\":\"value\",\"value\":\"lightblue\"},\"line_alpha\":{\"type\":\"value\",\"value\":0.2},\"line_width\":{\"type\":\"value\",\"value\":3}}}}},{\"type\":\"object\",\"name\":\"GlyphRenderer\",\"id\":\"p1280\",\"attributes\":{\"data_source\":{\"type\":\"object\",\"name\":\"ColumnDataSource\",\"id\":\"p1274\",\"attributes\":{\"selected\":{\"type\":\"object\",\"name\":\"Selection\",\"id\":\"p1275\",\"attributes\":{\"indices\":[],\"line_indices\":[]}},\"selection_policy\":{\"type\":\"object\",\"name\":\"UnionRenderers\",\"id\":\"p1276\"},\"data\":{\"type\":\"map\",\"entries\":[[\"x0\",[26.40000009536743]],[\"y0\",[0.0]],[\"x1\",[26.40000009536743]],[\"y1\",[464.26500000000004]]]}}},\"view\":{\"type\":\"object\",\"name\":\"CDSView\",\"id\":\"p1281\",\"attributes\":{\"filter\":{\"type\":\"object\",\"name\":\"AllIndices\",\"id\":\"p1282\"}}},\"glyph\":{\"type\":\"object\",\"name\":\"Segment\",\"id\":\"p1277\",\"attributes\":{\"x0\":{\"type\":\"field\",\"field\":\"x0\"},\"y0\":{\"type\":\"field\",\"field\":\"y0\"},\"x1\":{\"type\":\"field\",\"field\":\"x1\"},\"y1\":{\"type\":\"field\",\"field\":\"y1\"},\"line_color\":{\"type\":\"value\",\"value\":\"darkseagreen\"}}},\"nonselection_glyph\":{\"type\":\"object\",\"name\":\"Segment\",\"id\":\"p1278\",\"attributes\":{\"x0\":{\"type\":\"field\",\"field\":\"x0\"},\"y0\":{\"type\":\"field\",\"field\":\"y0\"},\"x1\":{\"type\":\"field\",\"field\":\"x1\"},\"y1\":{\"type\":\"field\",\"field\":\"y1\"},\"line_color\":{\"type\":\"value\",\"value\":\"darkseagreen\"},\"line_alpha\":{\"type\":\"value\",\"value\":0.1}}},\"muted_glyph\":{\"type\":\"object\",\"name\":\"Segment\",\"id\":\"p1279\",\"attributes\":{\"x0\":{\"type\":\"field\",\"field\":\"x0\"},\"y0\":{\"type\":\"field\",\"field\":\"y0\"},\"x1\":{\"type\":\"field\",\"field\":\"x1\"},\"y1\":{\"type\":\"field\",\"field\":\"y1\"},\"line_color\":{\"type\":\"value\",\"value\":\"darkseagreen\"},\"line_alpha\":{\"type\":\"value\",\"value\":0.2}}}}},{\"type\":\"object\",\"name\":\"GlyphRenderer\",\"id\":\"p1289\",\"attributes\":{\"data_source\":{\"type\":\"object\",\"name\":\"ColumnDataSource\",\"id\":\"p1283\",\"attributes\":{\"selected\":{\"type\":\"object\",\"name\":\"Selection\",\"id\":\"p1284\",\"attributes\":{\"indices\":[],\"line_indices\":[]}},\"selection_policy\":{\"type\":\"object\",\"name\":\"UnionRenderers\",\"id\":\"p1285\"},\"data\":{\"type\":\"map\",\"entries\":[[\"x0\",[23.40000009536743]],[\"y0\",[0.0]],[\"x1\",[23.40000009536743]],[\"y1\",[464.26500000000004]]]}}},\"view\":{\"type\":\"object\",\"name\":\"CDSView\",\"id\":\"p1290\",\"attributes\":{\"filter\":{\"type\":\"object\",\"name\":\"AllIndices\",\"id\":\"p1291\"}}},\"glyph\":{\"type\":\"object\",\"name\":\"Segment\",\"id\":\"p1286\",\"attributes\":{\"x0\":{\"type\":\"field\",\"field\":\"x0\"},\"y0\":{\"type\":\"field\",\"field\":\"y0\"},\"x1\":{\"type\":\"field\",\"field\":\"x1\"},\"y1\":{\"type\":\"field\",\"field\":\"y1\"},\"line_color\":{\"type\":\"value\",\"value\":\"darkseagreen\"}}},\"nonselection_glyph\":{\"type\":\"object\",\"name\":\"Segment\",\"id\":\"p1287\",\"attributes\":{\"x0\":{\"type\":\"field\",\"field\":\"x0\"},\"y0\":{\"type\":\"field\",\"field\":\"y0\"},\"x1\":{\"type\":\"field\",\"field\":\"x1\"},\"y1\":{\"type\":\"field\",\"field\":\"y1\"},\"line_color\":{\"type\":\"value\",\"value\":\"darkseagreen\"},\"line_alpha\":{\"type\":\"value\",\"value\":0.1}}},\"muted_glyph\":{\"type\":\"object\",\"name\":\"Segment\",\"id\":\"p1288\",\"attributes\":{\"x0\":{\"type\":\"field\",\"field\":\"x0\"},\"y0\":{\"type\":\"field\",\"field\":\"y0\"},\"x1\":{\"type\":\"field\",\"field\":\"x1\"},\"y1\":{\"type\":\"field\",\"field\":\"y1\"},\"line_color\":{\"type\":\"value\",\"value\":\"darkseagreen\"},\"line_alpha\":{\"type\":\"value\",\"value\":0.2}}}}},{\"type\":\"object\",\"name\":\"GlyphRenderer\",\"id\":\"p1298\",\"attributes\":{\"data_source\":{\"type\":\"object\",\"name\":\"ColumnDataSource\",\"id\":\"p1292\",\"attributes\":{\"selected\":{\"type\":\"object\",\"name\":\"Selection\",\"id\":\"p1293\",\"attributes\":{\"indices\":[],\"line_indices\":[]}},\"selection_policy\":{\"type\":\"object\",\"name\":\"UnionRenderers\",\"id\":\"p1294\"},\"data\":{\"type\":\"map\",\"entries\":[[\"x\",[24.90000009536743]],[\"y\",[464.26500000000004]],[\"size\",[20]]]}}},\"view\":{\"type\":\"object\",\"name\":\"CDSView\",\"id\":\"p1299\",\"attributes\":{\"filter\":{\"type\":\"object\",\"name\":\"AllIndices\",\"id\":\"p1300\"}}},\"glyph\":{\"type\":\"object\",\"name\":\"Scatter\",\"id\":\"p1295\",\"attributes\":{\"x\":{\"type\":\"field\",\"field\":\"x\"},\"y\":{\"type\":\"field\",\"field\":\"y\"},\"size\":{\"type\":\"field\",\"field\":\"size\"},\"line_color\":{\"type\":\"value\",\"value\":\"lightblue\"},\"line_width\":{\"type\":\"value\",\"value\":3},\"fill_color\":{\"type\":\"value\",\"value\":null},\"marker\":{\"type\":\"value\",\"value\":\"square_cross\"}}},\"nonselection_glyph\":{\"type\":\"object\",\"name\":\"Scatter\",\"id\":\"p1296\",\"attributes\":{\"x\":{\"type\":\"field\",\"field\":\"x\"},\"y\":{\"type\":\"field\",\"field\":\"y\"},\"size\":{\"type\":\"field\",\"field\":\"size\"},\"line_color\":{\"type\":\"value\",\"value\":\"lightblue\"},\"line_alpha\":{\"type\":\"value\",\"value\":0.1},\"line_width\":{\"type\":\"value\",\"value\":3},\"fill_color\":{\"type\":\"value\",\"value\":null},\"fill_alpha\":{\"type\":\"value\",\"value\":0.1},\"hatch_alpha\":{\"type\":\"value\",\"value\":0.1},\"marker\":{\"type\":\"value\",\"value\":\"square_cross\"}}},\"muted_glyph\":{\"type\":\"object\",\"name\":\"Scatter\",\"id\":\"p1297\",\"attributes\":{\"x\":{\"type\":\"field\",\"field\":\"x\"},\"y\":{\"type\":\"field\",\"field\":\"y\"},\"size\":{\"type\":\"field\",\"field\":\"size\"},\"line_color\":{\"type\":\"value\",\"value\":\"lightblue\"},\"line_alpha\":{\"type\":\"value\",\"value\":0.2},\"line_width\":{\"type\":\"value\",\"value\":3},\"fill_color\":{\"type\":\"value\",\"value\":null},\"fill_alpha\":{\"type\":\"value\",\"value\":0.2},\"hatch_alpha\":{\"type\":\"value\",\"value\":0.2},\"marker\":{\"type\":\"value\",\"value\":\"square_cross\"}}}}}],\"toolbar\":{\"type\":\"object\",\"name\":\"Toolbar\",\"id\":\"p1187\",\"attributes\":{\"tools\":[{\"type\":\"object\",\"name\":\"PanTool\",\"id\":\"p1202\"},{\"type\":\"object\",\"name\":\"WheelZoomTool\",\"id\":\"p1203\",\"attributes\":{\"renderers\":\"auto\"}},{\"type\":\"object\",\"name\":\"BoxZoomTool\",\"id\":\"p1204\",\"attributes\":{\"overlay\":{\"type\":\"object\",\"name\":\"BoxAnnotation\",\"id\":\"p1205\",\"attributes\":{\"syncable\":false,\"level\":\"overlay\",\"visible\":false,\"left\":{\"type\":\"number\",\"value\":\"nan\"},\"right\":{\"type\":\"number\",\"value\":\"nan\"},\"top\":{\"type\":\"number\",\"value\":\"nan\"},\"bottom\":{\"type\":\"number\",\"value\":\"nan\"},\"left_units\":\"canvas\",\"right_units\":\"canvas\",\"top_units\":\"canvas\",\"bottom_units\":\"canvas\",\"line_color\":\"black\",\"line_alpha\":1.0,\"line_width\":2,\"line_dash\":[4,4],\"fill_color\":\"lightgrey\",\"fill_alpha\":0.5}}}},{\"type\":\"object\",\"name\":\"SaveTool\",\"id\":\"p1210\"},{\"type\":\"object\",\"name\":\"ResetTool\",\"id\":\"p1211\"},{\"type\":\"object\",\"name\":\"HelpTool\",\"id\":\"p1212\"},{\"type\":\"object\",\"name\":\"HoverTool\",\"id\":\"p1244\",\"attributes\":{\"renderers\":\"auto\",\"tooltips\":[[\"Y-val\",\"@y{0.00}\"]]}}]}},\"left\":[{\"type\":\"object\",\"name\":\"LinearAxis\",\"id\":\"p1197\",\"attributes\":{\"ticker\":{\"type\":\"object\",\"name\":\"BasicTicker\",\"id\":\"p1198\",\"attributes\":{\"mantissas\":[1,2,5]}},\"formatter\":{\"type\":\"object\",\"name\":\"BasicTickFormatter\",\"id\":\"p1199\"},\"axis_label\":\"km/h\",\"axis_label_standoff\":10,\"axis_label_text_color\":\"#E0E0E0\",\"axis_label_text_font\":\"Helvetica\",\"axis_label_text_font_size\":\"1.25em\",\"axis_label_text_font_style\":\"normal\",\"major_label_policy\":{\"type\":\"object\",\"name\":\"AllLabels\",\"id\":\"p1200\"},\"major_label_text_color\":\"#E0E0E0\",\"major_label_text_font\":\"Helvetica\",\"major_label_text_font_size\":\"1.025em\",\"axis_line_color\":\"#E0E0E0\",\"axis_line_alpha\":0,\"major_tick_line_color\":\"#E0E0E0\",\"major_tick_line_alpha\":0,\"minor_tick_line_color\":\"#E0E0E0\",\"minor_tick_line_alpha\":0}},{\"type\":\"object\",\"name\":\"LinearAxis\",\"id\":\"p1215\",\"attributes\":{\"y_range_name\":\"altitudeFt\",\"ticker\":{\"type\":\"object\",\"name\":\"BasicTicker\",\"id\":\"p1216\",\"attributes\":{\"mantissas\":[1,2,5]}},\"formatter\":{\"type\":\"object\",\"name\":\"BasicTickFormatter\",\"id\":\"p1217\"},\"axis_label\":\"Alt (ft)\",\"axis_label_standoff\":10,\"axis_label_text_color\":\"#E0E0E0\",\"axis_label_text_font\":\"Helvetica\",\"axis_label_text_font_size\":\"1.25em\",\"axis_label_text_font_style\":\"normal\",\"major_label_policy\":{\"type\":\"object\",\"name\":\"AllLabels\",\"id\":\"p1218\"},\"major_label_text_color\":\"#E0E0E0\",\"major_label_text_font\":\"Helvetica\",\"major_label_text_font_size\":\"1.025em\",\"axis_line_color\":\"#E0E0E0\",\"axis_line_alpha\":0,\"major_tick_line_color\":\"#E0E0E0\",\"major_tick_line_alpha\":0,\"minor_tick_line_color\":\"#E0E0E0\",\"minor_tick_line_alpha\":0}},{\"type\":\"object\",\"name\":\"LinearAxis\",\"id\":\"p1219\",\"attributes\":{\"y_range_name\":\"angle\",\"ticker\":{\"type\":\"object\",\"name\":\"BasicTicker\",\"id\":\"p1220\",\"attributes\":{\"mantissas\":[1,2,5]}},\"formatter\":{\"type\":\"object\",\"name\":\"BasicTickFormatter\",\"id\":\"p1221\"},\"axis_label\":\"angle\",\"axis_label_standoff\":10,\"axis_label_text_color\":\"#E0E0E0\",\"axis_label_text_font\":\"Helvetica\",\"axis_label_text_font_size\":\"1.25em\",\"axis_label_text_font_style\":\"normal\",\"major_label_policy\":{\"type\":\"object\",\"name\":\"AllLabels\",\"id\":\"p1222\"},\"major_label_text_color\":\"#E0E0E0\",\"major_label_text_font\":\"Helvetica\",\"major_label_text_font_size\":\"1.025em\",\"axis_line_color\":\"#E0E0E0\",\"axis_line_alpha\":0,\"major_tick_line_color\":\"#E0E0E0\",\"major_tick_line_alpha\":0,\"minor_tick_line_color\":\"#E0E0E0\",\"minor_tick_line_alpha\":0}}],\"below\":[{\"type\":\"object\",\"name\":\"LinearAxis\",\"id\":\"p1192\",\"attributes\":{\"ticker\":{\"type\":\"object\",\"name\":\"BasicTicker\",\"id\":\"p1193\",\"attributes\":{\"mantissas\":[1,2,5]}},\"formatter\":{\"type\":\"object\",\"name\":\"BasicTickFormatter\",\"id\":\"p1194\"},\"axis_label\":\"seconds from exit\",\"axis_label_standoff\":10,\"axis_label_text_color\":\"#E0E0E0\",\"axis_label_text_font\":\"Helvetica\",\"axis_label_text_font_size\":\"1.25em\",\"axis_label_text_font_style\":\"normal\",\"major_label_policy\":{\"type\":\"object\",\"name\":\"AllLabels\",\"id\":\"p1195\"},\"major_label_text_color\":\"#E0E0E0\",\"major_label_text_font\":\"Helvetica\",\"major_label_text_font_size\":\"1.025em\",\"axis_line_color\":\"#E0E0E0\",\"axis_line_alpha\":0,\"major_tick_line_color\":\"#E0E0E0\",\"major_tick_line_alpha\":0,\"minor_tick_line_color\":\"#E0E0E0\",\"minor_tick_line_alpha\":0}}],\"center\":[{\"type\":\"object\",\"name\":\"Grid\",\"id\":\"p1196\",\"attributes\":{\"axis\":{\"id\":\"p1192\"},\"grid_line_color\":\"#E0E0E0\",\"grid_line_alpha\":0.25}},{\"type\":\"object\",\"name\":\"Grid\",\"id\":\"p1201\",\"attributes\":{\"dimension\":1,\"axis\":{\"id\":\"p1197\"},\"grid_line_color\":\"#E0E0E0\",\"grid_line_alpha\":0.25}},{\"type\":\"object\",\"name\":\"Legend\",\"id\":\"p1232\",\"attributes\":{\"border_line_alpha\":0,\"background_fill_color\":\"#20262B\",\"background_fill_alpha\":0.25,\"label_text_color\":\"#E0E0E0\",\"label_text_font\":\"Helvetica\",\"label_text_font_size\":\"1.025em\",\"label_standoff\":8,\"glyph_width\":15,\"spacing\":8,\"items\":[{\"type\":\"object\",\"name\":\"LegendItem\",\"id\":\"p1233\",\"attributes\":{\"label\":{\"type\":\"value\",\"value\":\"Alt (ft)\"},\"renderers\":[{\"id\":\"p1229\"}]}},{\"type\":\"object\",\"name\":\"LegendItem\",\"id\":\"p1243\",\"attributes\":{\"label\":{\"type\":\"value\",\"value\":\"angle\"},\"renderers\":[{\"id\":\"p1240\"}]}},{\"type\":\"object\",\"name\":\"LegendItem\",\"id\":\"p1254\",\"attributes\":{\"label\":{\"type\":\"value\",\"value\":\"speed\"},\"renderers\":[{\"id\":\"p1251\"}]}},{\"type\":\"object\",\"name\":\"LegendItem\",\"id\":\"p1264\",\"attributes\":{\"label\":{\"type\":\"value\",\"value\":\"H-speed\"},\"renderers\":[{\"id\":\"p1261\"}]}}]}}],\"background_fill_color\":\"#20262B\",\"border_fill_color\":\"#15191C\"}}]}};\n",
       "  const render_items = [{\"docid\":\"dd96ae5a-5340-4bad-aeee-3f8c8b549737\",\"roots\":{\"p1178\":\"dd722396-f208-40f8-8313-db0adda68abd\"},\"root_ids\":[\"p1178\"]}];\n",
       "  void root.Bokeh.embed.embed_items_notebook(docs_json, render_items);\n",
       "  }\n",
       "  if (root.Bokeh !== undefined) {\n",
       "    embed_document(root);\n",
       "  } else {\n",
       "    let attempts = 0;\n",
       "    const timer = setInterval(function(root) {\n",
       "      if (root.Bokeh !== undefined) {\n",
       "        clearInterval(timer);\n",
       "        embed_document(root);\n",
       "      } else {\n",
       "        attempts++;\n",
       "        if (attempts > 100) {\n",
       "          clearInterval(timer);\n",
       "          console.log(\"Bokeh: ERROR: Unable to run BokehJS code because BokehJS library is missing\");\n",
       "        }\n",
       "      }\n",
       "    }, 10, root)\n",
       "  }\n",
       "})(window);"
      ],
      "application/vnd.bokehjs_exec.v0+json": ""
     },
     "metadata": {
      "application/vnd.bokehjs_exec.v0+json": {
       "id": "p1178"
      }
     },
     "output_type": "display_data"
    },
    {
     "data": {
      "application/vnd.jupyter.widget-view+json": {
       "model_id": "6e4a62613b7843038389978b0d406b31",
       "version_major": 2,
       "version_minor": 0
      },
      "text/plain": [
       "HTML(value='<hr><h1><span style=\"color: #0f0\">08-26-01 jump - 🟢 valid - score = 462.41 km/h</span></h1>')"
      ]
     },
     "metadata": {},
     "output_type": "display_data"
    },
    {
     "data": {
      "application/vnd.jupyter.widget-view+json": {
       "model_id": "4ce4bc50b3cf4b0a90edeb28729987d0",
       "version_major": 2,
       "version_minor": 0
      },
      "text/plain": [
       "HTML(value='<h3>Max speed = 466; exit at 4355 m (14291 ft), end scoring window at 2099 m (6889 ft)')"
      ]
     },
     "metadata": {},
     "output_type": "display_data"
    },
    {
     "data": {
      "application/vnd.jupyter.widget-view+json": {
       "model_id": "c21c5be914504ef6bdf3d1e5365dd183",
       "version_major": 2,
       "version_minor": 0
      },
      "text/plain": [
       "HTML(value='</h3>')"
      ]
     },
     "metadata": {},
     "output_type": "display_data"
    },
    {
     "data": {
      "text/html": [
       "<div>\n",
       "<style scoped>\n",
       "    .dataframe tbody tr th:only-of-type {\n",
       "        vertical-align: middle;\n",
       "    }\n",
       "\n",
       "    .dataframe tbody tr th {\n",
       "        vertical-align: top;\n",
       "    }\n",
       "\n",
       "    .dataframe thead th {\n",
       "        text-align: right;\n",
       "    }\n",
       "</style>\n",
       "<table border=\"1\" class=\"dataframe\">\n",
       "  <thead>\n",
       "    <tr style=\"text-align: right;\">\n",
       "      <th></th>\n",
       "      <th>time</th>\n",
       "      <th>vKMh</th>\n",
       "      <th>hKMh</th>\n",
       "      <th>speedAngle</th>\n",
       "      <th>netVectorKMh</th>\n",
       "      <th>altitude (ft)</th>\n",
       "    </tr>\n",
       "  </thead>\n",
       "  <tbody>\n",
       "    <tr>\n",
       "      <th></th>\n",
       "      <td>5.0</td>\n",
       "      <td>191</td>\n",
       "      <td>164</td>\n",
       "      <td>49.3</td>\n",
       "      <td>252</td>\n",
       "      <td>13807</td>\n",
       "    </tr>\n",
       "    <tr>\n",
       "      <th></th>\n",
       "      <td>10.0</td>\n",
       "      <td>309</td>\n",
       "      <td>105</td>\n",
       "      <td>71.2</td>\n",
       "      <td>327</td>\n",
       "      <td>12661</td>\n",
       "    </tr>\n",
       "    <tr>\n",
       "      <th></th>\n",
       "      <td>15.0</td>\n",
       "      <td>402</td>\n",
       "      <td>86</td>\n",
       "      <td>78.0</td>\n",
       "      <td>411</td>\n",
       "      <td>11015</td>\n",
       "    </tr>\n",
       "    <tr>\n",
       "      <th></th>\n",
       "      <td>20.0</td>\n",
       "      <td>450</td>\n",
       "      <td>87</td>\n",
       "      <td>79.0</td>\n",
       "      <td>458</td>\n",
       "      <td>9053</td>\n",
       "    </tr>\n",
       "    <tr>\n",
       "      <th></th>\n",
       "      <td>25.0</td>\n",
       "      <td>466</td>\n",
       "      <td>71</td>\n",
       "      <td>81.3</td>\n",
       "      <td>471</td>\n",
       "      <td>6953</td>\n",
       "    </tr>\n",
       "  </tbody>\n",
       "</table>\n",
       "</div>"
      ],
      "text/plain": [
       "  time  vKMh  hKMh  speedAngle  netVectorKMh  altitude (ft)\n",
       "   5.0   191   164        49.3           252          13807\n",
       "  10.0   309   105        71.2           327          12661\n",
       "  15.0   402    86        78.0           411          11015\n",
       "  20.0   450    87        79.0           458           9053\n",
       "  25.0   466    71        81.3           471           6953"
      ]
     },
     "metadata": {},
     "output_type": "display_data"
    },
    {
     "data": {
      "text/html": [
       "\n",
       "  <div id=\"d2b7d691-6706-4682-8f93-737e6107fc65\" data-root-id=\"p1319\" style=\"display: contents;\"></div>\n"
      ]
     },
     "metadata": {},
     "output_type": "display_data"
    },
    {
     "data": {
      "application/javascript": [
       "(function(root) {\n",
       "  function embed_document(root) {\n",
       "  const docs_json = {\"b38549dc-049e-4d7a-a11a-f55bb909ad19\":{\"version\":\"3.4.1\",\"title\":\"Bokeh Application\",\"roots\":[{\"type\":\"object\",\"name\":\"Figure\",\"id\":\"p1319\",\"attributes\":{\"width\":900,\"height\":500,\"x_range\":{\"type\":\"object\",\"name\":\"Range1d\",\"id\":\"p1329\",\"attributes\":{\"end\":35.0}},\"y_range\":{\"type\":\"object\",\"name\":\"Range1d\",\"id\":\"p1330\",\"attributes\":{\"end\":550.0}},\"x_scale\":{\"type\":\"object\",\"name\":\"LinearScale\",\"id\":\"p1331\"},\"y_scale\":{\"type\":\"object\",\"name\":\"LinearScale\",\"id\":\"p1332\"},\"extra_y_ranges\":{\"type\":\"map\",\"entries\":[[\"altitudeFt\",{\"type\":\"object\",\"name\":\"Range1d\",\"id\":\"p1354\",\"attributes\":{\"start\":6410.047885600001,\"end\":14791.0965824}}],[\"angle\",{\"type\":\"object\",\"name\":\"Range1d\",\"id\":\"p1355\",\"attributes\":{\"end\":90.0}}]]},\"title\":{\"type\":\"object\",\"name\":\"Title\",\"id\":\"p1322\",\"attributes\":{\"text\":\"08-26-01\",\"text_color\":\"#E0E0E0\",\"text_font\":\"Helvetica\",\"text_font_size\":\"1.15em\"}},\"outline_line_color\":\"#E0E0E0\",\"outline_line_alpha\":0.25,\"renderers\":[{\"type\":\"object\",\"name\":\"GlyphRenderer\",\"id\":\"p1370\",\"attributes\":{\"y_range_name\":\"altitudeFt\",\"data_source\":{\"type\":\"object\",\"name\":\"ColumnDataSource\",\"id\":\"p1364\",\"attributes\":{\"selected\":{\"type\":\"object\",\"name\":\"Selection\",\"id\":\"p1365\",\"attributes\":{\"indices\":[],\"line_indices\":[]}},\"selection_policy\":{\"type\":\"object\",\"name\":\"UnionRenderers\",\"id\":\"p1366\"},\"data\":{\"type\":\"map\",\"entries\":[[\"x\",{\"type\":\"ndarray\",\"array\":{\"type\":\"bytes\",\"data\":\"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\"},\"shape\":[191],\"dtype\":\"float64\",\"order\":\"little\"}],[\"y\",{\"type\":\"ndarray\",\"array\":{\"type\":\"bytes\",\"data\":\"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\"},\"shape\":[191],\"dtype\":\"float64\",\"order\":\"little\"}]]}}},\"view\":{\"type\":\"object\",\"name\":\"CDSView\",\"id\":\"p1371\",\"attributes\":{\"filter\":{\"type\":\"object\",\"name\":\"AllIndices\",\"id\":\"p1372\"}}},\"glyph\":{\"type\":\"object\",\"name\":\"Line\",\"id\":\"p1367\",\"attributes\":{\"x\":{\"type\":\"field\",\"field\":\"x\"},\"y\":{\"type\":\"field\",\"field\":\"y\"},\"line_color\":\"palegoldenrod\",\"line_width\":2}},\"nonselection_glyph\":{\"type\":\"object\",\"name\":\"Line\",\"id\":\"p1368\",\"attributes\":{\"x\":{\"type\":\"field\",\"field\":\"x\"},\"y\":{\"type\":\"field\",\"field\":\"y\"},\"line_color\":\"palegoldenrod\",\"line_alpha\":0.1,\"line_width\":2}},\"muted_glyph\":{\"type\":\"object\",\"name\":\"Line\",\"id\":\"p1369\",\"attributes\":{\"x\":{\"type\":\"field\",\"field\":\"x\"},\"y\":{\"type\":\"field\",\"field\":\"y\"},\"line_color\":\"palegoldenrod\",\"line_alpha\":0.2,\"line_width\":2}}}},{\"type\":\"object\",\"name\":\"GlyphRenderer\",\"id\":\"p1381\",\"attributes\":{\"y_range_name\":\"angle\",\"data_source\":{\"type\":\"object\",\"name\":\"ColumnDataSource\",\"id\":\"p1375\",\"attributes\":{\"selected\":{\"type\":\"object\",\"name\":\"Selection\",\"id\":\"p1376\",\"attributes\":{\"indices\":[],\"line_indices\":[]}},\"selection_policy\":{\"type\":\"object\",\"name\":\"UnionRenderers\",\"id\":\"p1377\"},\"data\":{\"type\":\"map\",\"entries\":[[\"x\",{\"type\":\"ndarray\",\"array\":{\"type\":\"bytes\",\"data\":\"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\"},\"shape\":[191],\"dtype\":\"float64\",\"order\":\"little\"}],[\"y\",{\"type\":\"ndarray\",\"array\":{\"type\":\"bytes\",\"data\":\"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\"},\"shape\":[191],\"dtype\":\"float64\",\"order\":\"little\"}]]}}},\"view\":{\"type\":\"object\",\"name\":\"CDSView\",\"id\":\"p1382\",\"attributes\":{\"filter\":{\"type\":\"object\",\"name\":\"AllIndices\",\"id\":\"p1383\"}}},\"glyph\":{\"type\":\"object\",\"name\":\"Line\",\"id\":\"p1378\",\"attributes\":{\"x\":{\"type\":\"field\",\"field\":\"x\"},\"y\":{\"type\":\"field\",\"field\":\"y\"},\"line_color\":\"deepskyblue\",\"line_width\":2}},\"nonselection_glyph\":{\"type\":\"object\",\"name\":\"Line\",\"id\":\"p1379\",\"attributes\":{\"x\":{\"type\":\"field\",\"field\":\"x\"},\"y\":{\"type\":\"field\",\"field\":\"y\"},\"line_color\":\"deepskyblue\",\"line_alpha\":0.1,\"line_width\":2}},\"muted_glyph\":{\"type\":\"object\",\"name\":\"Line\",\"id\":\"p1380\",\"attributes\":{\"x\":{\"type\":\"field\",\"field\":\"x\"},\"y\":{\"type\":\"field\",\"field\":\"y\"},\"line_color\":\"deepskyblue\",\"line_alpha\":0.2,\"line_width\":2}}}},{\"type\":\"object\",\"name\":\"GlyphRenderer\",\"id\":\"p1392\",\"attributes\":{\"data_source\":{\"type\":\"object\",\"name\":\"ColumnDataSource\",\"id\":\"p1386\",\"attributes\":{\"selected\":{\"type\":\"object\",\"name\":\"Selection\",\"id\":\"p1387\",\"attributes\":{\"indices\":[],\"line_indices\":[]}},\"selection_policy\":{\"type\":\"object\",\"name\":\"UnionRenderers\",\"id\":\"p1388\"},\"data\":{\"type\":\"map\",\"entries\":[[\"x\",{\"type\":\"ndarray\",\"array\":{\"type\":\"bytes\",\"data\":\"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\"},\"shape\":[191],\"dtype\":\"float64\",\"order\":\"little\"}],[\"y\",{\"type\":\"ndarray\",\"array\":{\"type\":\"bytes\",\"data\":\"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\"},\"shape\":[191],\"dtype\":\"float64\",\"order\":\"little\"}]]}}},\"view\":{\"type\":\"object\",\"name\":\"CDSView\",\"id\":\"p1393\",\"attributes\":{\"filter\":{\"type\":\"object\",\"name\":\"AllIndices\",\"id\":\"p1394\"}}},\"glyph\":{\"type\":\"object\",\"name\":\"Line\",\"id\":\"p1389\",\"attributes\":{\"x\":{\"type\":\"field\",\"field\":\"x\"},\"y\":{\"type\":\"field\",\"field\":\"y\"},\"line_color\":\"limegreen\",\"line_width\":2}},\"nonselection_glyph\":{\"type\":\"object\",\"name\":\"Line\",\"id\":\"p1390\",\"attributes\":{\"x\":{\"type\":\"field\",\"field\":\"x\"},\"y\":{\"type\":\"field\",\"field\":\"y\"},\"line_color\":\"limegreen\",\"line_alpha\":0.1,\"line_width\":2}},\"muted_glyph\":{\"type\":\"object\",\"name\":\"Line\",\"id\":\"p1391\",\"attributes\":{\"x\":{\"type\":\"field\",\"field\":\"x\"},\"y\":{\"type\":\"field\",\"field\":\"y\"},\"line_color\":\"limegreen\",\"line_alpha\":0.2,\"line_width\":2}}}},{\"type\":\"object\",\"name\":\"GlyphRenderer\",\"id\":\"p1402\",\"attributes\":{\"data_source\":{\"type\":\"object\",\"name\":\"ColumnDataSource\",\"id\":\"p1396\",\"attributes\":{\"selected\":{\"type\":\"object\",\"name\":\"Selection\",\"id\":\"p1397\",\"attributes\":{\"indices\":[],\"line_indices\":[]}},\"selection_policy\":{\"type\":\"object\",\"name\":\"UnionRenderers\",\"id\":\"p1398\"},\"data\":{\"type\":\"map\",\"entries\":[[\"x\",{\"type\":\"ndarray\",\"array\":{\"type\":\"bytes\",\"data\":\"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\"},\"shape\":[191],\"dtype\":\"float64\",\"order\":\"little\"}],[\"y\",{\"type\":\"ndarray\",\"array\":{\"type\":\"bytes\",\"data\":\"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\"},\"shape\":[191],\"dtype\":\"float64\",\"order\":\"little\"}]]}}},\"view\":{\"type\":\"object\",\"name\":\"CDSView\",\"id\":\"p1403\",\"attributes\":{\"filter\":{\"type\":\"object\",\"name\":\"AllIndices\",\"id\":\"p1404\"}}},\"glyph\":{\"type\":\"object\",\"name\":\"Line\",\"id\":\"p1399\",\"attributes\":{\"x\":{\"type\":\"field\",\"field\":\"x\"},\"y\":{\"type\":\"field\",\"field\":\"y\"},\"line_color\":\"red\",\"line_width\":2}},\"nonselection_glyph\":{\"type\":\"object\",\"name\":\"Line\",\"id\":\"p1400\",\"attributes\":{\"x\":{\"type\":\"field\",\"field\":\"x\"},\"y\":{\"type\":\"field\",\"field\":\"y\"},\"line_color\":\"red\",\"line_alpha\":0.1,\"line_width\":2}},\"muted_glyph\":{\"type\":\"object\",\"name\":\"Line\",\"id\":\"p1401\",\"attributes\":{\"x\":{\"type\":\"field\",\"field\":\"x\"},\"y\":{\"type\":\"field\",\"field\":\"y\"},\"line_color\":\"red\",\"line_alpha\":0.2,\"line_width\":2}}}},{\"type\":\"object\",\"name\":\"GlyphRenderer\",\"id\":\"p1412\",\"attributes\":{\"data_source\":{\"type\":\"object\",\"name\":\"ColumnDataSource\",\"id\":\"p1406\",\"attributes\":{\"selected\":{\"type\":\"object\",\"name\":\"Selection\",\"id\":\"p1407\",\"attributes\":{\"indices\":[],\"line_indices\":[]}},\"selection_policy\":{\"type\":\"object\",\"name\":\"UnionRenderers\",\"id\":\"p1408\"},\"data\":{\"type\":\"map\",\"entries\":[[\"x0\",[25.100000143051147]],[\"y0\",[0.0]],[\"x1\",[25.100000143051147]],[\"y1\",[462.41066666666666]]]}}},\"view\":{\"type\":\"object\",\"name\":\"CDSView\",\"id\":\"p1413\",\"attributes\":{\"filter\":{\"type\":\"object\",\"name\":\"AllIndices\",\"id\":\"p1414\"}}},\"glyph\":{\"type\":\"object\",\"name\":\"Segment\",\"id\":\"p1409\",\"attributes\":{\"x0\":{\"type\":\"field\",\"field\":\"x0\"},\"y0\":{\"type\":\"field\",\"field\":\"y0\"},\"x1\":{\"type\":\"field\",\"field\":\"x1\"},\"y1\":{\"type\":\"field\",\"field\":\"y1\"},\"line_color\":{\"type\":\"value\",\"value\":\"lightblue\"},\"line_width\":{\"type\":\"value\",\"value\":3}}},\"nonselection_glyph\":{\"type\":\"object\",\"name\":\"Segment\",\"id\":\"p1410\",\"attributes\":{\"x0\":{\"type\":\"field\",\"field\":\"x0\"},\"y0\":{\"type\":\"field\",\"field\":\"y0\"},\"x1\":{\"type\":\"field\",\"field\":\"x1\"},\"y1\":{\"type\":\"field\",\"field\":\"y1\"},\"line_color\":{\"type\":\"value\",\"value\":\"lightblue\"},\"line_alpha\":{\"type\":\"value\",\"value\":0.1},\"line_width\":{\"type\":\"value\",\"value\":3}}},\"muted_glyph\":{\"type\":\"object\",\"name\":\"Segment\",\"id\":\"p1411\",\"attributes\":{\"x0\":{\"type\":\"field\",\"field\":\"x0\"},\"y0\":{\"type\":\"field\",\"field\":\"y0\"},\"x1\":{\"type\":\"field\",\"field\":\"x1\"},\"y1\":{\"type\":\"field\",\"field\":\"y1\"},\"line_color\":{\"type\":\"value\",\"value\":\"lightblue\"},\"line_alpha\":{\"type\":\"value\",\"value\":0.2},\"line_width\":{\"type\":\"value\",\"value\":3}}}}},{\"type\":\"object\",\"name\":\"GlyphRenderer\",\"id\":\"p1421\",\"attributes\":{\"data_source\":{\"type\":\"object\",\"name\":\"ColumnDataSource\",\"id\":\"p1415\",\"attributes\":{\"selected\":{\"type\":\"object\",\"name\":\"Selection\",\"id\":\"p1416\",\"attributes\":{\"indices\":[],\"line_indices\":[]}},\"selection_policy\":{\"type\":\"object\",\"name\":\"UnionRenderers\",\"id\":\"p1417\"},\"data\":{\"type\":\"map\",\"entries\":[[\"x0\",[26.600000143051147]],[\"y0\",[0.0]],[\"x1\",[26.600000143051147]],[\"y1\",[462.41066666666666]]]}}},\"view\":{\"type\":\"object\",\"name\":\"CDSView\",\"id\":\"p1422\",\"attributes\":{\"filter\":{\"type\":\"object\",\"name\":\"AllIndices\",\"id\":\"p1423\"}}},\"glyph\":{\"type\":\"object\",\"name\":\"Segment\",\"id\":\"p1418\",\"attributes\":{\"x0\":{\"type\":\"field\",\"field\":\"x0\"},\"y0\":{\"type\":\"field\",\"field\":\"y0\"},\"x1\":{\"type\":\"field\",\"field\":\"x1\"},\"y1\":{\"type\":\"field\",\"field\":\"y1\"},\"line_color\":{\"type\":\"value\",\"value\":\"darkseagreen\"}}},\"nonselection_glyph\":{\"type\":\"object\",\"name\":\"Segment\",\"id\":\"p1419\",\"attributes\":{\"x0\":{\"type\":\"field\",\"field\":\"x0\"},\"y0\":{\"type\":\"field\",\"field\":\"y0\"},\"x1\":{\"type\":\"field\",\"field\":\"x1\"},\"y1\":{\"type\":\"field\",\"field\":\"y1\"},\"line_color\":{\"type\":\"value\",\"value\":\"darkseagreen\"},\"line_alpha\":{\"type\":\"value\",\"value\":0.1}}},\"muted_glyph\":{\"type\":\"object\",\"name\":\"Segment\",\"id\":\"p1420\",\"attributes\":{\"x0\":{\"type\":\"field\",\"field\":\"x0\"},\"y0\":{\"type\":\"field\",\"field\":\"y0\"},\"x1\":{\"type\":\"field\",\"field\":\"x1\"},\"y1\":{\"type\":\"field\",\"field\":\"y1\"},\"line_color\":{\"type\":\"value\",\"value\":\"darkseagreen\"},\"line_alpha\":{\"type\":\"value\",\"value\":0.2}}}}},{\"type\":\"object\",\"name\":\"GlyphRenderer\",\"id\":\"p1430\",\"attributes\":{\"data_source\":{\"type\":\"object\",\"name\":\"ColumnDataSource\",\"id\":\"p1424\",\"attributes\":{\"selected\":{\"type\":\"object\",\"name\":\"Selection\",\"id\":\"p1425\",\"attributes\":{\"indices\":[],\"line_indices\":[]}},\"selection_policy\":{\"type\":\"object\",\"name\":\"UnionRenderers\",\"id\":\"p1426\"},\"data\":{\"type\":\"map\",\"entries\":[[\"x0\",[23.600000143051147]],[\"y0\",[0.0]],[\"x1\",[23.600000143051147]],[\"y1\",[462.41066666666666]]]}}},\"view\":{\"type\":\"object\",\"name\":\"CDSView\",\"id\":\"p1431\",\"attributes\":{\"filter\":{\"type\":\"object\",\"name\":\"AllIndices\",\"id\":\"p1432\"}}},\"glyph\":{\"type\":\"object\",\"name\":\"Segment\",\"id\":\"p1427\",\"attributes\":{\"x0\":{\"type\":\"field\",\"field\":\"x0\"},\"y0\":{\"type\":\"field\",\"field\":\"y0\"},\"x1\":{\"type\":\"field\",\"field\":\"x1\"},\"y1\":{\"type\":\"field\",\"field\":\"y1\"},\"line_color\":{\"type\":\"value\",\"value\":\"darkseagreen\"}}},\"nonselection_glyph\":{\"type\":\"object\",\"name\":\"Segment\",\"id\":\"p1428\",\"attributes\":{\"x0\":{\"type\":\"field\",\"field\":\"x0\"},\"y0\":{\"type\":\"field\",\"field\":\"y0\"},\"x1\":{\"type\":\"field\",\"field\":\"x1\"},\"y1\":{\"type\":\"field\",\"field\":\"y1\"},\"line_color\":{\"type\":\"value\",\"value\":\"darkseagreen\"},\"line_alpha\":{\"type\":\"value\",\"value\":0.1}}},\"muted_glyph\":{\"type\":\"object\",\"name\":\"Segment\",\"id\":\"p1429\",\"attributes\":{\"x0\":{\"type\":\"field\",\"field\":\"x0\"},\"y0\":{\"type\":\"field\",\"field\":\"y0\"},\"x1\":{\"type\":\"field\",\"field\":\"x1\"},\"y1\":{\"type\":\"field\",\"field\":\"y1\"},\"line_color\":{\"type\":\"value\",\"value\":\"darkseagreen\"},\"line_alpha\":{\"type\":\"value\",\"value\":0.2}}}}},{\"type\":\"object\",\"name\":\"GlyphRenderer\",\"id\":\"p1439\",\"attributes\":{\"data_source\":{\"type\":\"object\",\"name\":\"ColumnDataSource\",\"id\":\"p1433\",\"attributes\":{\"selected\":{\"type\":\"object\",\"name\":\"Selection\",\"id\":\"p1434\",\"attributes\":{\"indices\":[],\"line_indices\":[]}},\"selection_policy\":{\"type\":\"object\",\"name\":\"UnionRenderers\",\"id\":\"p1435\"},\"data\":{\"type\":\"map\",\"entries\":[[\"x\",[25.100000143051147]],[\"y\",[462.41066666666666]],[\"size\",[20]]]}}},\"view\":{\"type\":\"object\",\"name\":\"CDSView\",\"id\":\"p1440\",\"attributes\":{\"filter\":{\"type\":\"object\",\"name\":\"AllIndices\",\"id\":\"p1441\"}}},\"glyph\":{\"type\":\"object\",\"name\":\"Scatter\",\"id\":\"p1436\",\"attributes\":{\"x\":{\"type\":\"field\",\"field\":\"x\"},\"y\":{\"type\":\"field\",\"field\":\"y\"},\"size\":{\"type\":\"field\",\"field\":\"size\"},\"line_color\":{\"type\":\"value\",\"value\":\"lightblue\"},\"line_width\":{\"type\":\"value\",\"value\":3},\"fill_color\":{\"type\":\"value\",\"value\":null},\"marker\":{\"type\":\"value\",\"value\":\"square_cross\"}}},\"nonselection_glyph\":{\"type\":\"object\",\"name\":\"Scatter\",\"id\":\"p1437\",\"attributes\":{\"x\":{\"type\":\"field\",\"field\":\"x\"},\"y\":{\"type\":\"field\",\"field\":\"y\"},\"size\":{\"type\":\"field\",\"field\":\"size\"},\"line_color\":{\"type\":\"value\",\"value\":\"lightblue\"},\"line_alpha\":{\"type\":\"value\",\"value\":0.1},\"line_width\":{\"type\":\"value\",\"value\":3},\"fill_color\":{\"type\":\"value\",\"value\":null},\"fill_alpha\":{\"type\":\"value\",\"value\":0.1},\"hatch_alpha\":{\"type\":\"value\",\"value\":0.1},\"marker\":{\"type\":\"value\",\"value\":\"square_cross\"}}},\"muted_glyph\":{\"type\":\"object\",\"name\":\"Scatter\",\"id\":\"p1438\",\"attributes\":{\"x\":{\"type\":\"field\",\"field\":\"x\"},\"y\":{\"type\":\"field\",\"field\":\"y\"},\"size\":{\"type\":\"field\",\"field\":\"size\"},\"line_color\":{\"type\":\"value\",\"value\":\"lightblue\"},\"line_alpha\":{\"type\":\"value\",\"value\":0.2},\"line_width\":{\"type\":\"value\",\"value\":3},\"fill_color\":{\"type\":\"value\",\"value\":null},\"fill_alpha\":{\"type\":\"value\",\"value\":0.2},\"hatch_alpha\":{\"type\":\"value\",\"value\":0.2},\"marker\":{\"type\":\"value\",\"value\":\"square_cross\"}}}}}],\"toolbar\":{\"type\":\"object\",\"name\":\"Toolbar\",\"id\":\"p1328\",\"attributes\":{\"tools\":[{\"type\":\"object\",\"name\":\"PanTool\",\"id\":\"p1343\"},{\"type\":\"object\",\"name\":\"WheelZoomTool\",\"id\":\"p1344\",\"attributes\":{\"renderers\":\"auto\"}},{\"type\":\"object\",\"name\":\"BoxZoomTool\",\"id\":\"p1345\",\"attributes\":{\"overlay\":{\"type\":\"object\",\"name\":\"BoxAnnotation\",\"id\":\"p1346\",\"attributes\":{\"syncable\":false,\"level\":\"overlay\",\"visible\":false,\"left\":{\"type\":\"number\",\"value\":\"nan\"},\"right\":{\"type\":\"number\",\"value\":\"nan\"},\"top\":{\"type\":\"number\",\"value\":\"nan\"},\"bottom\":{\"type\":\"number\",\"value\":\"nan\"},\"left_units\":\"canvas\",\"right_units\":\"canvas\",\"top_units\":\"canvas\",\"bottom_units\":\"canvas\",\"line_color\":\"black\",\"line_alpha\":1.0,\"line_width\":2,\"line_dash\":[4,4],\"fill_color\":\"lightgrey\",\"fill_alpha\":0.5}}}},{\"type\":\"object\",\"name\":\"SaveTool\",\"id\":\"p1351\"},{\"type\":\"object\",\"name\":\"ResetTool\",\"id\":\"p1352\"},{\"type\":\"object\",\"name\":\"HelpTool\",\"id\":\"p1353\"},{\"type\":\"object\",\"name\":\"HoverTool\",\"id\":\"p1385\",\"attributes\":{\"renderers\":\"auto\",\"tooltips\":[[\"Y-val\",\"@y{0.00}\"]]}}]}},\"left\":[{\"type\":\"object\",\"name\":\"LinearAxis\",\"id\":\"p1338\",\"attributes\":{\"ticker\":{\"type\":\"object\",\"name\":\"BasicTicker\",\"id\":\"p1339\",\"attributes\":{\"mantissas\":[1,2,5]}},\"formatter\":{\"type\":\"object\",\"name\":\"BasicTickFormatter\",\"id\":\"p1340\"},\"axis_label\":\"km/h\",\"axis_label_standoff\":10,\"axis_label_text_color\":\"#E0E0E0\",\"axis_label_text_font\":\"Helvetica\",\"axis_label_text_font_size\":\"1.25em\",\"axis_label_text_font_style\":\"normal\",\"major_label_policy\":{\"type\":\"object\",\"name\":\"AllLabels\",\"id\":\"p1341\"},\"major_label_text_color\":\"#E0E0E0\",\"major_label_text_font\":\"Helvetica\",\"major_label_text_font_size\":\"1.025em\",\"axis_line_color\":\"#E0E0E0\",\"axis_line_alpha\":0,\"major_tick_line_color\":\"#E0E0E0\",\"major_tick_line_alpha\":0,\"minor_tick_line_color\":\"#E0E0E0\",\"minor_tick_line_alpha\":0}},{\"type\":\"object\",\"name\":\"LinearAxis\",\"id\":\"p1356\",\"attributes\":{\"y_range_name\":\"altitudeFt\",\"ticker\":{\"type\":\"object\",\"name\":\"BasicTicker\",\"id\":\"p1357\",\"attributes\":{\"mantissas\":[1,2,5]}},\"formatter\":{\"type\":\"object\",\"name\":\"BasicTickFormatter\",\"id\":\"p1358\"},\"axis_label\":\"Alt (ft)\",\"axis_label_standoff\":10,\"axis_label_text_color\":\"#E0E0E0\",\"axis_label_text_font\":\"Helvetica\",\"axis_label_text_font_size\":\"1.25em\",\"axis_label_text_font_style\":\"normal\",\"major_label_policy\":{\"type\":\"object\",\"name\":\"AllLabels\",\"id\":\"p1359\"},\"major_label_text_color\":\"#E0E0E0\",\"major_label_text_font\":\"Helvetica\",\"major_label_text_font_size\":\"1.025em\",\"axis_line_color\":\"#E0E0E0\",\"axis_line_alpha\":0,\"major_tick_line_color\":\"#E0E0E0\",\"major_tick_line_alpha\":0,\"minor_tick_line_color\":\"#E0E0E0\",\"minor_tick_line_alpha\":0}},{\"type\":\"object\",\"name\":\"LinearAxis\",\"id\":\"p1360\",\"attributes\":{\"y_range_name\":\"angle\",\"ticker\":{\"type\":\"object\",\"name\":\"BasicTicker\",\"id\":\"p1361\",\"attributes\":{\"mantissas\":[1,2,5]}},\"formatter\":{\"type\":\"object\",\"name\":\"BasicTickFormatter\",\"id\":\"p1362\"},\"axis_label\":\"angle\",\"axis_label_standoff\":10,\"axis_label_text_color\":\"#E0E0E0\",\"axis_label_text_font\":\"Helvetica\",\"axis_label_text_font_size\":\"1.25em\",\"axis_label_text_font_style\":\"normal\",\"major_label_policy\":{\"type\":\"object\",\"name\":\"AllLabels\",\"id\":\"p1363\"},\"major_label_text_color\":\"#E0E0E0\",\"major_label_text_font\":\"Helvetica\",\"major_label_text_font_size\":\"1.025em\",\"axis_line_color\":\"#E0E0E0\",\"axis_line_alpha\":0,\"major_tick_line_color\":\"#E0E0E0\",\"major_tick_line_alpha\":0,\"minor_tick_line_color\":\"#E0E0E0\",\"minor_tick_line_alpha\":0}}],\"below\":[{\"type\":\"object\",\"name\":\"LinearAxis\",\"id\":\"p1333\",\"attributes\":{\"ticker\":{\"type\":\"object\",\"name\":\"BasicTicker\",\"id\":\"p1334\",\"attributes\":{\"mantissas\":[1,2,5]}},\"formatter\":{\"type\":\"object\",\"name\":\"BasicTickFormatter\",\"id\":\"p1335\"},\"axis_label\":\"seconds from exit\",\"axis_label_standoff\":10,\"axis_label_text_color\":\"#E0E0E0\",\"axis_label_text_font\":\"Helvetica\",\"axis_label_text_font_size\":\"1.25em\",\"axis_label_text_font_style\":\"normal\",\"major_label_policy\":{\"type\":\"object\",\"name\":\"AllLabels\",\"id\":\"p1336\"},\"major_label_text_color\":\"#E0E0E0\",\"major_label_text_font\":\"Helvetica\",\"major_label_text_font_size\":\"1.025em\",\"axis_line_color\":\"#E0E0E0\",\"axis_line_alpha\":0,\"major_tick_line_color\":\"#E0E0E0\",\"major_tick_line_alpha\":0,\"minor_tick_line_color\":\"#E0E0E0\",\"minor_tick_line_alpha\":0}}],\"center\":[{\"type\":\"object\",\"name\":\"Grid\",\"id\":\"p1337\",\"attributes\":{\"axis\":{\"id\":\"p1333\"},\"grid_line_color\":\"#E0E0E0\",\"grid_line_alpha\":0.25}},{\"type\":\"object\",\"name\":\"Grid\",\"id\":\"p1342\",\"attributes\":{\"dimension\":1,\"axis\":{\"id\":\"p1338\"},\"grid_line_color\":\"#E0E0E0\",\"grid_line_alpha\":0.25}},{\"type\":\"object\",\"name\":\"Legend\",\"id\":\"p1373\",\"attributes\":{\"border_line_alpha\":0,\"background_fill_color\":\"#20262B\",\"background_fill_alpha\":0.25,\"label_text_color\":\"#E0E0E0\",\"label_text_font\":\"Helvetica\",\"label_text_font_size\":\"1.025em\",\"label_standoff\":8,\"glyph_width\":15,\"spacing\":8,\"items\":[{\"type\":\"object\",\"name\":\"LegendItem\",\"id\":\"p1374\",\"attributes\":{\"label\":{\"type\":\"value\",\"value\":\"Alt (ft)\"},\"renderers\":[{\"id\":\"p1370\"}]}},{\"type\":\"object\",\"name\":\"LegendItem\",\"id\":\"p1384\",\"attributes\":{\"label\":{\"type\":\"value\",\"value\":\"angle\"},\"renderers\":[{\"id\":\"p1381\"}]}},{\"type\":\"object\",\"name\":\"LegendItem\",\"id\":\"p1395\",\"attributes\":{\"label\":{\"type\":\"value\",\"value\":\"speed\"},\"renderers\":[{\"id\":\"p1392\"}]}},{\"type\":\"object\",\"name\":\"LegendItem\",\"id\":\"p1405\",\"attributes\":{\"label\":{\"type\":\"value\",\"value\":\"H-speed\"},\"renderers\":[{\"id\":\"p1402\"}]}}]}}],\"background_fill_color\":\"#20262B\",\"border_fill_color\":\"#15191C\"}}]}};\n",
       "  const render_items = [{\"docid\":\"b38549dc-049e-4d7a-a11a-f55bb909ad19\",\"roots\":{\"p1319\":\"d2b7d691-6706-4682-8f93-737e6107fc65\"},\"root_ids\":[\"p1319\"]}];\n",
       "  void root.Bokeh.embed.embed_items_notebook(docs_json, render_items);\n",
       "  }\n",
       "  if (root.Bokeh !== undefined) {\n",
       "    embed_document(root);\n",
       "  } else {\n",
       "    let attempts = 0;\n",
       "    const timer = setInterval(function(root) {\n",
       "      if (root.Bokeh !== undefined) {\n",
       "        clearInterval(timer);\n",
       "        embed_document(root);\n",
       "      } else {\n",
       "        attempts++;\n",
       "        if (attempts > 100) {\n",
       "          clearInterval(timer);\n",
       "          console.log(\"Bokeh: ERROR: Unable to run BokehJS code because BokehJS library is missing\");\n",
       "        }\n",
       "      }\n",
       "    }, 10, root)\n",
       "  }\n",
       "})(window);"
      ],
      "application/vnd.bokehjs_exec.v0+json": ""
     },
     "metadata": {
      "application/vnd.bokehjs_exec.v0+json": {
       "id": "p1319"
      }
     },
     "output_type": "display_data"
    },
    {
     "data": {
      "application/vnd.jupyter.widget-view+json": {
       "model_id": "bceb1065f70d4e4691a002be6ce9f719",
       "version_major": 2,
       "version_minor": 0
      },
      "text/plain": [
       "HTML(value='<hr><h1><span style=\"color: #0f0\">09-34-53 jump - 🟢 valid - score = 481.44 km/h</span></h1>')"
      ]
     },
     "metadata": {},
     "output_type": "display_data"
    },
    {
     "data": {
      "application/vnd.jupyter.widget-view+json": {
       "model_id": "3a588585defc445184a59f60c0a1cfa2",
       "version_major": 2,
       "version_minor": 0
      },
      "text/plain": [
       "HTML(value='<h3>Max speed = 485; exit at 4278 m (14036 ft), end scoring window at 2022 m (6634 ft)')"
      ]
     },
     "metadata": {},
     "output_type": "display_data"
    },
    {
     "data": {
      "application/vnd.jupyter.widget-view+json": {
       "model_id": "8ad5411d08d141869020ead631009ee8",
       "version_major": 2,
       "version_minor": 0
      },
      "text/plain": [
       "HTML(value='</h3>')"
      ]
     },
     "metadata": {},
     "output_type": "display_data"
    },
    {
     "data": {
      "text/html": [
       "<div>\n",
       "<style scoped>\n",
       "    .dataframe tbody tr th:only-of-type {\n",
       "        vertical-align: middle;\n",
       "    }\n",
       "\n",
       "    .dataframe tbody tr th {\n",
       "        vertical-align: top;\n",
       "    }\n",
       "\n",
       "    .dataframe thead th {\n",
       "        text-align: right;\n",
       "    }\n",
       "</style>\n",
       "<table border=\"1\" class=\"dataframe\">\n",
       "  <thead>\n",
       "    <tr style=\"text-align: right;\">\n",
       "      <th></th>\n",
       "      <th>time</th>\n",
       "      <th>vKMh</th>\n",
       "      <th>hKMh</th>\n",
       "      <th>speedAngle</th>\n",
       "      <th>netVectorKMh</th>\n",
       "      <th>altitude (ft)</th>\n",
       "    </tr>\n",
       "  </thead>\n",
       "  <tbody>\n",
       "    <tr>\n",
       "      <th></th>\n",
       "      <td>5.0</td>\n",
       "      <td>180</td>\n",
       "      <td>170</td>\n",
       "      <td>46.7</td>\n",
       "      <td>247</td>\n",
       "      <td>13602</td>\n",
       "    </tr>\n",
       "    <tr>\n",
       "      <th></th>\n",
       "      <td>10.0</td>\n",
       "      <td>284</td>\n",
       "      <td>92</td>\n",
       "      <td>72.0</td>\n",
       "      <td>299</td>\n",
       "      <td>12500</td>\n",
       "    </tr>\n",
       "    <tr>\n",
       "      <th></th>\n",
       "      <td>15.0</td>\n",
       "      <td>392</td>\n",
       "      <td>70</td>\n",
       "      <td>79.9</td>\n",
       "      <td>399</td>\n",
       "      <td>10918</td>\n",
       "    </tr>\n",
       "    <tr>\n",
       "      <th></th>\n",
       "      <td>20.0</td>\n",
       "      <td>457</td>\n",
       "      <td>65</td>\n",
       "      <td>81.9</td>\n",
       "      <td>462</td>\n",
       "      <td>8957</td>\n",
       "    </tr>\n",
       "    <tr>\n",
       "      <th></th>\n",
       "      <td>25.0</td>\n",
       "      <td>483</td>\n",
       "      <td>41</td>\n",
       "      <td>85.2</td>\n",
       "      <td>485</td>\n",
       "      <td>6784</td>\n",
       "    </tr>\n",
       "  </tbody>\n",
       "</table>\n",
       "</div>"
      ],
      "text/plain": [
       "  time  vKMh  hKMh  speedAngle  netVectorKMh  altitude (ft)\n",
       "   5.0   180   170        46.7           247          13602\n",
       "  10.0   284    92        72.0           299          12500\n",
       "  15.0   392    70        79.9           399          10918\n",
       "  20.0   457    65        81.9           462           8957\n",
       "  25.0   483    41        85.2           485           6784"
      ]
     },
     "metadata": {},
     "output_type": "display_data"
    },
    {
     "data": {
      "text/html": [
       "\n",
       "  <div id=\"d3653011-eb59-47eb-a5c3-2703fbdfad7f\" data-root-id=\"p1460\" style=\"display: contents;\"></div>\n"
      ]
     },
     "metadata": {},
     "output_type": "display_data"
    },
    {
     "data": {
      "application/javascript": [
       "(function(root) {\n",
       "  function embed_document(root) {\n",
       "  const docs_json = {\"b70077b2-4622-4bc7-adb1-e3cf0bbe51f7\":{\"version\":\"3.4.1\",\"title\":\"Bokeh Application\",\"roots\":[{\"type\":\"object\",\"name\":\"Figure\",\"id\":\"p1460\",\"attributes\":{\"width\":900,\"height\":500,\"x_range\":{\"type\":\"object\",\"name\":\"Range1d\",\"id\":\"p1470\",\"attributes\":{\"end\":35.0}},\"y_range\":{\"type\":\"object\",\"name\":\"Range1d\",\"id\":\"p1471\",\"attributes\":{\"end\":550.0}},\"x_scale\":{\"type\":\"object\",\"name\":\"LinearScale\",\"id\":\"p1472\"},\"y_scale\":{\"type\":\"object\",\"name\":\"LinearScale\",\"id\":\"p1473\"},\"extra_y_ranges\":{\"type\":\"map\",\"entries\":[[\"altitudeFt\",{\"type\":\"object\",\"name\":\"Range1d\",\"id\":\"p1495\",\"attributes\":{\"start\":6151.0254448000005,\"end\":14536.250600000001}}],[\"angle\",{\"type\":\"object\",\"name\":\"Range1d\",\"id\":\"p1496\",\"attributes\":{\"end\":90.0}}]]},\"title\":{\"type\":\"object\",\"name\":\"Title\",\"id\":\"p1463\",\"attributes\":{\"text\":\"09-34-53\",\"text_color\":\"#E0E0E0\",\"text_font\":\"Helvetica\",\"text_font_size\":\"1.15em\"}},\"outline_line_color\":\"#E0E0E0\",\"outline_line_alpha\":0.25,\"renderers\":[{\"type\":\"object\",\"name\":\"GlyphRenderer\",\"id\":\"p1511\",\"attributes\":{\"y_range_name\":\"altitudeFt\",\"data_source\":{\"type\":\"object\",\"name\":\"ColumnDataSource\",\"id\":\"p1505\",\"attributes\":{\"selected\":{\"type\":\"object\",\"name\":\"Selection\",\"id\":\"p1506\",\"attributes\":{\"indices\":[],\"line_indices\":[]}},\"selection_policy\":{\"type\":\"object\",\"name\":\"UnionRenderers\",\"id\":\"p1507\"},\"data\":{\"type\":\"map\",\"entries\":[[\"x\",{\"type\":\"ndarray\",\"array\":{\"type\":\"bytes\",\"data\":\"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\"},\"shape\":[190],\"dtype\":\"float64\",\"order\":\"little\"}],[\"y\",{\"type\":\"ndarray\",\"array\":{\"type\":\"bytes\",\"data\":\"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\"},\"shape\":[190],\"dtype\":\"float64\",\"order\":\"little\"}]]}}},\"view\":{\"type\":\"object\",\"name\":\"CDSView\",\"id\":\"p1512\",\"attributes\":{\"filter\":{\"type\":\"object\",\"name\":\"AllIndices\",\"id\":\"p1513\"}}},\"glyph\":{\"type\":\"object\",\"name\":\"Line\",\"id\":\"p1508\",\"attributes\":{\"x\":{\"type\":\"field\",\"field\":\"x\"},\"y\":{\"type\":\"field\",\"field\":\"y\"},\"line_color\":\"palegoldenrod\",\"line_width\":2}},\"nonselection_glyph\":{\"type\":\"object\",\"name\":\"Line\",\"id\":\"p1509\",\"attributes\":{\"x\":{\"type\":\"field\",\"field\":\"x\"},\"y\":{\"type\":\"field\",\"field\":\"y\"},\"line_color\":\"palegoldenrod\",\"line_alpha\":0.1,\"line_width\":2}},\"muted_glyph\":{\"type\":\"object\",\"name\":\"Line\",\"id\":\"p1510\",\"attributes\":{\"x\":{\"type\":\"field\",\"field\":\"x\"},\"y\":{\"type\":\"field\",\"field\":\"y\"},\"line_color\":\"palegoldenrod\",\"line_alpha\":0.2,\"line_width\":2}}}},{\"type\":\"object\",\"name\":\"GlyphRenderer\",\"id\":\"p1522\",\"attributes\":{\"y_range_name\":\"angle\",\"data_source\":{\"type\":\"object\",\"name\":\"ColumnDataSource\",\"id\":\"p1516\",\"attributes\":{\"selected\":{\"type\":\"object\",\"name\":\"Selection\",\"id\":\"p1517\",\"attributes\":{\"indices\":[],\"line_indices\":[]}},\"selection_policy\":{\"type\":\"object\",\"name\":\"UnionRenderers\",\"id\":\"p1518\"},\"data\":{\"type\":\"map\",\"entries\":[[\"x\",{\"type\":\"ndarray\",\"array\":{\"type\":\"bytes\",\"data\":\"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\"},\"shape\":[190],\"dtype\":\"float64\",\"order\":\"little\"}],[\"y\",{\"type\":\"ndarray\",\"array\":{\"type\":\"bytes\",\"data\":\"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\"},\"shape\":[190],\"dtype\":\"float64\",\"order\":\"little\"}]]}}},\"view\":{\"type\":\"object\",\"name\":\"CDSView\",\"id\":\"p1523\",\"attributes\":{\"filter\":{\"type\":\"object\",\"name\":\"AllIndices\",\"id\":\"p1524\"}}},\"glyph\":{\"type\":\"object\",\"name\":\"Line\",\"id\":\"p1519\",\"attributes\":{\"x\":{\"type\":\"field\",\"field\":\"x\"},\"y\":{\"type\":\"field\",\"field\":\"y\"},\"line_color\":\"deepskyblue\",\"line_width\":2}},\"nonselection_glyph\":{\"type\":\"object\",\"name\":\"Line\",\"id\":\"p1520\",\"attributes\":{\"x\":{\"type\":\"field\",\"field\":\"x\"},\"y\":{\"type\":\"field\",\"field\":\"y\"},\"line_color\":\"deepskyblue\",\"line_alpha\":0.1,\"line_width\":2}},\"muted_glyph\":{\"type\":\"object\",\"name\":\"Line\",\"id\":\"p1521\",\"attributes\":{\"x\":{\"type\":\"field\",\"field\":\"x\"},\"y\":{\"type\":\"field\",\"field\":\"y\"},\"line_color\":\"deepskyblue\",\"line_alpha\":0.2,\"line_width\":2}}}},{\"type\":\"object\",\"name\":\"GlyphRenderer\",\"id\":\"p1533\",\"attributes\":{\"data_source\":{\"type\":\"object\",\"name\":\"ColumnDataSource\",\"id\":\"p1527\",\"attributes\":{\"selected\":{\"type\":\"object\",\"name\":\"Selection\",\"id\":\"p1528\",\"attributes\":{\"indices\":[],\"line_indices\":[]}},\"selection_policy\":{\"type\":\"object\",\"name\":\"UnionRenderers\",\"id\":\"p1529\"},\"data\":{\"type\":\"map\",\"entries\":[[\"x\",{\"type\":\"ndarray\",\"array\":{\"type\":\"bytes\",\"data\":\"AAAAAAAAAAAAAAAAmpnJPwAAAAAzM9M/AAAAAAAA4D8AAACAZmbmPwAAAADNzOw/AAAAwJmZ8T8AAABAMzPzPwAAAIBmZvY/AAAAwJmZ+T8AAABAMzP7PwAAAIBmZv4/AAAA4MzMAEAAAABgZmYCQAAAAAAAAARAAAAAoJmZBUAAAABAMzMHQAAAAODMzAhAAAAAoJmZCUAAAABAMzMLQAAAAODMzAxAAAAAYGZmDkAAAAAAAAAQQAAAANDMzBBAAAAAoJmZEUAAAAAAAAASQAAAAHBmZhJAAAAA0MzMEkAAAAAwMzMTQAAAAKCZmRNAAAAAAAAAFEAAAABwZmYUQAAAANDMzBRAAAAAMDMzFUAAAAAAAAAWQAAAAHBmZhZAAAAA0MzMFkAAAAAwMzMXQAAAAKCZmRdAAAAAAAAAGEAAAABwZmYYQAAAANDMzBhAAAAAMDMzGUAAAABwZmYaQAAAANDMzBpAAAAAMDMzG0AAAACgmZkbQAAAAAAAABxAAAAA0MzMHEAAAAAwMzMdQAAAAAAAAB5AAAAAcGZmHkAAAADQzMweQAAAADAzMx9AAAAAAAAAIEAAAAA4MzMgQAAAAJiZmSBAAAAAAAAAIUAAAAA4MzMhQAAAAGhmZiFAAAAA0MzMIUAAAAAAAAAiQAAAADgzMyJAAAAAmJmZIkAAAADQzMwiQAAAADgzMyNAAAAAaGZmI0AAAACYmZkjQAAAANDMzCNAAAAAAAAAJEAAAABoZmYkQAAAAJiZmSRAAAAA0MzMJEAAAAAAAAAlQAAAADgzMyVAAAAAmJmZJUAAAADQzMwlQAAAAAAAACZAAAAAODMzJkAAAABoZmYmQAAAAJiZmSZAAAAAAAAAJ0AAAAA4MzMnQAAAAGhmZidAAAAA0MzMJ0AAAAAAAAAoQAAAADgzMyhAAAAAaGZmKEAAAACYmZkoQAAAANDMzChAAAAAODMzKUAAAABoZmYpQAAAAJiZmSlAAAAAAAAAKkAAAAA4MzMqQAAAAGhmZipAAAAAmJmZKkAAAADQzMwqQAAAADgzMytAAAAAaGZmK0AAAADQzMwrQAAAAAAAACxAAAAAODMzLEAAAABoZmYsQAAAANDMzCxAAAAAAAAALUAAAAA4MzMtQAAAAGhmZi1AAAAAmJmZLUAAAAAAAAAuQAAAADgzMy5AAAAAmJmZLkAAAADQzMwuQAAAADgzMy9AAAAAaGZmL0AAAACYmZkvQAAAANDMzC9AAAAAnJkZMEAAAAA0MzMwQAAAAMzMTDBAAAAAaGZmMEAAAACcmZkwQAAAADQzszBAAAAAaGbmMEAAAAAAAAAxQAAAADQzMzFAAAAAzMxMMUAAAAAAAIAxQAAAAJyZmTFAAAAANDOzMUAAAADMzMwxQAAAAAAAADJAAAAAnJkZMkAAAADMzEwyQAAAAGhmZjJAAAAAnJmZMkAAAAA0M7MyQAAAAMzMzDJAAAAAaGbmMkAAAAAAAAAzQAAAADQzMzNAAAAAzMxMM0AAAABoZmYzQAAAAAAAgDNAAAAANDOzM0AAAADMzMwzQAAAAAAAADRAAAAAnJkZNEAAAAA0MzM0QAAAAMzMTDRAAAAAaGZmNEAAAACcmZk0QAAAADQzszRAAAAAzMzMNEAAAABoZuY0QAAAAJyZGTVAAAAANDMzNUAAAABoZmY1QAAAAAAAgDVAAAAANDOzNUAAAADMzMw1QAAAAGhm5jVAAAAAAAAANkAAAAA0MzM2QAAAAMzMTDZAAAAAaGZmNkAAAAAAAIA2QAAAAJyZmTZAAAAAzMzMNkAAAABoZuY2QAAAAAAAADdAAAAAnJkZN0AAAAA0MzM3QAAAAGhmZjdAAAAAAACAN0AAAACcmZk3QAAAADQzszdAAAAAaGbmN0AAAAAAAAA4QAAAAJyZGThAAAAANDMzOEAAAADMzEw4QAAAAAAAgDhAAAAAnJmZOEAAAAA0M7M4QAAAAMzMzDhAAAAAAAAAOUAAAACcmRk5QAAAADQzMzlAAAAAzMxMOUA=\"},\"shape\":[190],\"dtype\":\"float64\",\"order\":\"little\"}],[\"y\",{\"type\":\"ndarray\",\"array\":{\"type\":\"bytes\",\"data\":\"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\"},\"shape\":[190],\"dtype\":\"float64\",\"order\":\"little\"}]]}}},\"view\":{\"type\":\"object\",\"name\":\"CDSView\",\"id\":\"p1534\",\"attributes\":{\"filter\":{\"type\":\"object\",\"name\":\"AllIndices\",\"id\":\"p1535\"}}},\"glyph\":{\"type\":\"object\",\"name\":\"Line\",\"id\":\"p1530\",\"attributes\":{\"x\":{\"type\":\"field\",\"field\":\"x\"},\"y\":{\"type\":\"field\",\"field\":\"y\"},\"line_color\":\"limegreen\",\"line_width\":2}},\"nonselection_glyph\":{\"type\":\"object\",\"name\":\"Line\",\"id\":\"p1531\",\"attributes\":{\"x\":{\"type\":\"field\",\"field\":\"x\"},\"y\":{\"type\":\"field\",\"field\":\"y\"},\"line_color\":\"limegreen\",\"line_alpha\":0.1,\"line_width\":2}},\"muted_glyph\":{\"type\":\"object\",\"name\":\"Line\",\"id\":\"p1532\",\"attributes\":{\"x\":{\"type\":\"field\",\"field\":\"x\"},\"y\":{\"type\":\"field\",\"field\":\"y\"},\"line_color\":\"limegreen\",\"line_alpha\":0.2,\"line_width\":2}}}},{\"type\":\"object\",\"name\":\"GlyphRenderer\",\"id\":\"p1543\",\"attributes\":{\"data_source\":{\"type\":\"object\",\"name\":\"ColumnDataSource\",\"id\":\"p1537\",\"attributes\":{\"selected\":{\"type\":\"object\",\"name\":\"Selection\",\"id\":\"p1538\",\"attributes\":{\"indices\":[],\"line_indices\":[]}},\"selection_policy\":{\"type\":\"object\",\"name\":\"UnionRenderers\",\"id\":\"p1539\"},\"data\":{\"type\":\"map\",\"entries\":[[\"x\",{\"type\":\"ndarray\",\"array\":{\"type\":\"bytes\",\"data\":\"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\"},\"shape\":[190],\"dtype\":\"float64\",\"order\":\"little\"}],[\"y\",{\"type\":\"ndarray\",\"array\":{\"type\":\"bytes\",\"data\":\"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\"},\"shape\":[190],\"dtype\":\"float64\",\"order\":\"little\"}]]}}},\"view\":{\"type\":\"object\",\"name\":\"CDSView\",\"id\":\"p1544\",\"attributes\":{\"filter\":{\"type\":\"object\",\"name\":\"AllIndices\",\"id\":\"p1545\"}}},\"glyph\":{\"type\":\"object\",\"name\":\"Line\",\"id\":\"p1540\",\"attributes\":{\"x\":{\"type\":\"field\",\"field\":\"x\"},\"y\":{\"type\":\"field\",\"field\":\"y\"},\"line_color\":\"red\",\"line_width\":2}},\"nonselection_glyph\":{\"type\":\"object\",\"name\":\"Line\",\"id\":\"p1541\",\"attributes\":{\"x\":{\"type\":\"field\",\"field\":\"x\"},\"y\":{\"type\":\"field\",\"field\":\"y\"},\"line_color\":\"red\",\"line_alpha\":0.1,\"line_width\":2}},\"muted_glyph\":{\"type\":\"object\",\"name\":\"Line\",\"id\":\"p1542\",\"attributes\":{\"x\":{\"type\":\"field\",\"field\":\"x\"},\"y\":{\"type\":\"field\",\"field\":\"y\"},\"line_color\":\"red\",\"line_alpha\":0.2,\"line_width\":2}}}},{\"type\":\"object\",\"name\":\"GlyphRenderer\",\"id\":\"p1553\",\"attributes\":{\"data_source\":{\"type\":\"object\",\"name\":\"ColumnDataSource\",\"id\":\"p1547\",\"attributes\":{\"selected\":{\"type\":\"object\",\"name\":\"Selection\",\"id\":\"p1548\",\"attributes\":{\"indices\":[],\"line_indices\":[]}},\"selection_policy\":{\"type\":\"object\",\"name\":\"UnionRenderers\",\"id\":\"p1549\"},\"data\":{\"type\":\"map\",\"entries\":[[\"x0\",[25.299999952316284]],[\"y0\",[0.0]],[\"x1\",[25.299999952316284]],[\"y1\",[481.4432307692308]]]}}},\"view\":{\"type\":\"object\",\"name\":\"CDSView\",\"id\":\"p1554\",\"attributes\":{\"filter\":{\"type\":\"object\",\"name\":\"AllIndices\",\"id\":\"p1555\"}}},\"glyph\":{\"type\":\"object\",\"name\":\"Segment\",\"id\":\"p1550\",\"attributes\":{\"x0\":{\"type\":\"field\",\"field\":\"x0\"},\"y0\":{\"type\":\"field\",\"field\":\"y0\"},\"x1\":{\"type\":\"field\",\"field\":\"x1\"},\"y1\":{\"type\":\"field\",\"field\":\"y1\"},\"line_color\":{\"type\":\"value\",\"value\":\"lightblue\"},\"line_width\":{\"type\":\"value\",\"value\":3}}},\"nonselection_glyph\":{\"type\":\"object\",\"name\":\"Segment\",\"id\":\"p1551\",\"attributes\":{\"x0\":{\"type\":\"field\",\"field\":\"x0\"},\"y0\":{\"type\":\"field\",\"field\":\"y0\"},\"x1\":{\"type\":\"field\",\"field\":\"x1\"},\"y1\":{\"type\":\"field\",\"field\":\"y1\"},\"line_color\":{\"type\":\"value\",\"value\":\"lightblue\"},\"line_alpha\":{\"type\":\"value\",\"value\":0.1},\"line_width\":{\"type\":\"value\",\"value\":3}}},\"muted_glyph\":{\"type\":\"object\",\"name\":\"Segment\",\"id\":\"p1552\",\"attributes\":{\"x0\":{\"type\":\"field\",\"field\":\"x0\"},\"y0\":{\"type\":\"field\",\"field\":\"y0\"},\"x1\":{\"type\":\"field\",\"field\":\"x1\"},\"y1\":{\"type\":\"field\",\"field\":\"y1\"},\"line_color\":{\"type\":\"value\",\"value\":\"lightblue\"},\"line_alpha\":{\"type\":\"value\",\"value\":0.2},\"line_width\":{\"type\":\"value\",\"value\":3}}}}},{\"type\":\"object\",\"name\":\"GlyphRenderer\",\"id\":\"p1562\",\"attributes\":{\"data_source\":{\"type\":\"object\",\"name\":\"ColumnDataSource\",\"id\":\"p1556\",\"attributes\":{\"selected\":{\"type\":\"object\",\"name\":\"Selection\",\"id\":\"p1557\",\"attributes\":{\"indices\":[],\"line_indices\":[]}},\"selection_policy\":{\"type\":\"object\",\"name\":\"UnionRenderers\",\"id\":\"p1558\"},\"data\":{\"type\":\"map\",\"entries\":[[\"x0\",[26.799999952316284]],[\"y0\",[0.0]],[\"x1\",[26.799999952316284]],[\"y1\",[481.4432307692308]]]}}},\"view\":{\"type\":\"object\",\"name\":\"CDSView\",\"id\":\"p1563\",\"attributes\":{\"filter\":{\"type\":\"object\",\"name\":\"AllIndices\",\"id\":\"p1564\"}}},\"glyph\":{\"type\":\"object\",\"name\":\"Segment\",\"id\":\"p1559\",\"attributes\":{\"x0\":{\"type\":\"field\",\"field\":\"x0\"},\"y0\":{\"type\":\"field\",\"field\":\"y0\"},\"x1\":{\"type\":\"field\",\"field\":\"x1\"},\"y1\":{\"type\":\"field\",\"field\":\"y1\"},\"line_color\":{\"type\":\"value\",\"value\":\"darkseagreen\"}}},\"nonselection_glyph\":{\"type\":\"object\",\"name\":\"Segment\",\"id\":\"p1560\",\"attributes\":{\"x0\":{\"type\":\"field\",\"field\":\"x0\"},\"y0\":{\"type\":\"field\",\"field\":\"y0\"},\"x1\":{\"type\":\"field\",\"field\":\"x1\"},\"y1\":{\"type\":\"field\",\"field\":\"y1\"},\"line_color\":{\"type\":\"value\",\"value\":\"darkseagreen\"},\"line_alpha\":{\"type\":\"value\",\"value\":0.1}}},\"muted_glyph\":{\"type\":\"object\",\"name\":\"Segment\",\"id\":\"p1561\",\"attributes\":{\"x0\":{\"type\":\"field\",\"field\":\"x0\"},\"y0\":{\"type\":\"field\",\"field\":\"y0\"},\"x1\":{\"type\":\"field\",\"field\":\"x1\"},\"y1\":{\"type\":\"field\",\"field\":\"y1\"},\"line_color\":{\"type\":\"value\",\"value\":\"darkseagreen\"},\"line_alpha\":{\"type\":\"value\",\"value\":0.2}}}}},{\"type\":\"object\",\"name\":\"GlyphRenderer\",\"id\":\"p1571\",\"attributes\":{\"data_source\":{\"type\":\"object\",\"name\":\"ColumnDataSource\",\"id\":\"p1565\",\"attributes\":{\"selected\":{\"type\":\"object\",\"name\":\"Selection\",\"id\":\"p1566\",\"attributes\":{\"indices\":[],\"line_indices\":[]}},\"selection_policy\":{\"type\":\"object\",\"name\":\"UnionRenderers\",\"id\":\"p1567\"},\"data\":{\"type\":\"map\",\"entries\":[[\"x0\",[23.799999952316284]],[\"y0\",[0.0]],[\"x1\",[23.799999952316284]],[\"y1\",[481.4432307692308]]]}}},\"view\":{\"type\":\"object\",\"name\":\"CDSView\",\"id\":\"p1572\",\"attributes\":{\"filter\":{\"type\":\"object\",\"name\":\"AllIndices\",\"id\":\"p1573\"}}},\"glyph\":{\"type\":\"object\",\"name\":\"Segment\",\"id\":\"p1568\",\"attributes\":{\"x0\":{\"type\":\"field\",\"field\":\"x0\"},\"y0\":{\"type\":\"field\",\"field\":\"y0\"},\"x1\":{\"type\":\"field\",\"field\":\"x1\"},\"y1\":{\"type\":\"field\",\"field\":\"y1\"},\"line_color\":{\"type\":\"value\",\"value\":\"darkseagreen\"}}},\"nonselection_glyph\":{\"type\":\"object\",\"name\":\"Segment\",\"id\":\"p1569\",\"attributes\":{\"x0\":{\"type\":\"field\",\"field\":\"x0\"},\"y0\":{\"type\":\"field\",\"field\":\"y0\"},\"x1\":{\"type\":\"field\",\"field\":\"x1\"},\"y1\":{\"type\":\"field\",\"field\":\"y1\"},\"line_color\":{\"type\":\"value\",\"value\":\"darkseagreen\"},\"line_alpha\":{\"type\":\"value\",\"value\":0.1}}},\"muted_glyph\":{\"type\":\"object\",\"name\":\"Segment\",\"id\":\"p1570\",\"attributes\":{\"x0\":{\"type\":\"field\",\"field\":\"x0\"},\"y0\":{\"type\":\"field\",\"field\":\"y0\"},\"x1\":{\"type\":\"field\",\"field\":\"x1\"},\"y1\":{\"type\":\"field\",\"field\":\"y1\"},\"line_color\":{\"type\":\"value\",\"value\":\"darkseagreen\"},\"line_alpha\":{\"type\":\"value\",\"value\":0.2}}}}},{\"type\":\"object\",\"name\":\"GlyphRenderer\",\"id\":\"p1580\",\"attributes\":{\"data_source\":{\"type\":\"object\",\"name\":\"ColumnDataSource\",\"id\":\"p1574\",\"attributes\":{\"selected\":{\"type\":\"object\",\"name\":\"Selection\",\"id\":\"p1575\",\"attributes\":{\"indices\":[],\"line_indices\":[]}},\"selection_policy\":{\"type\":\"object\",\"name\":\"UnionRenderers\",\"id\":\"p1576\"},\"data\":{\"type\":\"map\",\"entries\":[[\"x\",[25.299999952316284]],[\"y\",[481.4432307692308]],[\"size\",[20]]]}}},\"view\":{\"type\":\"object\",\"name\":\"CDSView\",\"id\":\"p1581\",\"attributes\":{\"filter\":{\"type\":\"object\",\"name\":\"AllIndices\",\"id\":\"p1582\"}}},\"glyph\":{\"type\":\"object\",\"name\":\"Scatter\",\"id\":\"p1577\",\"attributes\":{\"x\":{\"type\":\"field\",\"field\":\"x\"},\"y\":{\"type\":\"field\",\"field\":\"y\"},\"size\":{\"type\":\"field\",\"field\":\"size\"},\"line_color\":{\"type\":\"value\",\"value\":\"lightblue\"},\"line_width\":{\"type\":\"value\",\"value\":3},\"fill_color\":{\"type\":\"value\",\"value\":null},\"marker\":{\"type\":\"value\",\"value\":\"square_cross\"}}},\"nonselection_glyph\":{\"type\":\"object\",\"name\":\"Scatter\",\"id\":\"p1578\",\"attributes\":{\"x\":{\"type\":\"field\",\"field\":\"x\"},\"y\":{\"type\":\"field\",\"field\":\"y\"},\"size\":{\"type\":\"field\",\"field\":\"size\"},\"line_color\":{\"type\":\"value\",\"value\":\"lightblue\"},\"line_alpha\":{\"type\":\"value\",\"value\":0.1},\"line_width\":{\"type\":\"value\",\"value\":3},\"fill_color\":{\"type\":\"value\",\"value\":null},\"fill_alpha\":{\"type\":\"value\",\"value\":0.1},\"hatch_alpha\":{\"type\":\"value\",\"value\":0.1},\"marker\":{\"type\":\"value\",\"value\":\"square_cross\"}}},\"muted_glyph\":{\"type\":\"object\",\"name\":\"Scatter\",\"id\":\"p1579\",\"attributes\":{\"x\":{\"type\":\"field\",\"field\":\"x\"},\"y\":{\"type\":\"field\",\"field\":\"y\"},\"size\":{\"type\":\"field\",\"field\":\"size\"},\"line_color\":{\"type\":\"value\",\"value\":\"lightblue\"},\"line_alpha\":{\"type\":\"value\",\"value\":0.2},\"line_width\":{\"type\":\"value\",\"value\":3},\"fill_color\":{\"type\":\"value\",\"value\":null},\"fill_alpha\":{\"type\":\"value\",\"value\":0.2},\"hatch_alpha\":{\"type\":\"value\",\"value\":0.2},\"marker\":{\"type\":\"value\",\"value\":\"square_cross\"}}}}}],\"toolbar\":{\"type\":\"object\",\"name\":\"Toolbar\",\"id\":\"p1469\",\"attributes\":{\"tools\":[{\"type\":\"object\",\"name\":\"PanTool\",\"id\":\"p1484\"},{\"type\":\"object\",\"name\":\"WheelZoomTool\",\"id\":\"p1485\",\"attributes\":{\"renderers\":\"auto\"}},{\"type\":\"object\",\"name\":\"BoxZoomTool\",\"id\":\"p1486\",\"attributes\":{\"overlay\":{\"type\":\"object\",\"name\":\"BoxAnnotation\",\"id\":\"p1487\",\"attributes\":{\"syncable\":false,\"level\":\"overlay\",\"visible\":false,\"left\":{\"type\":\"number\",\"value\":\"nan\"},\"right\":{\"type\":\"number\",\"value\":\"nan\"},\"top\":{\"type\":\"number\",\"value\":\"nan\"},\"bottom\":{\"type\":\"number\",\"value\":\"nan\"},\"left_units\":\"canvas\",\"right_units\":\"canvas\",\"top_units\":\"canvas\",\"bottom_units\":\"canvas\",\"line_color\":\"black\",\"line_alpha\":1.0,\"line_width\":2,\"line_dash\":[4,4],\"fill_color\":\"lightgrey\",\"fill_alpha\":0.5}}}},{\"type\":\"object\",\"name\":\"SaveTool\",\"id\":\"p1492\"},{\"type\":\"object\",\"name\":\"ResetTool\",\"id\":\"p1493\"},{\"type\":\"object\",\"name\":\"HelpTool\",\"id\":\"p1494\"},{\"type\":\"object\",\"name\":\"HoverTool\",\"id\":\"p1526\",\"attributes\":{\"renderers\":\"auto\",\"tooltips\":[[\"Y-val\",\"@y{0.00}\"]]}}]}},\"left\":[{\"type\":\"object\",\"name\":\"LinearAxis\",\"id\":\"p1479\",\"attributes\":{\"ticker\":{\"type\":\"object\",\"name\":\"BasicTicker\",\"id\":\"p1480\",\"attributes\":{\"mantissas\":[1,2,5]}},\"formatter\":{\"type\":\"object\",\"name\":\"BasicTickFormatter\",\"id\":\"p1481\"},\"axis_label\":\"km/h\",\"axis_label_standoff\":10,\"axis_label_text_color\":\"#E0E0E0\",\"axis_label_text_font\":\"Helvetica\",\"axis_label_text_font_size\":\"1.25em\",\"axis_label_text_font_style\":\"normal\",\"major_label_policy\":{\"type\":\"object\",\"name\":\"AllLabels\",\"id\":\"p1482\"},\"major_label_text_color\":\"#E0E0E0\",\"major_label_text_font\":\"Helvetica\",\"major_label_text_font_size\":\"1.025em\",\"axis_line_color\":\"#E0E0E0\",\"axis_line_alpha\":0,\"major_tick_line_color\":\"#E0E0E0\",\"major_tick_line_alpha\":0,\"minor_tick_line_color\":\"#E0E0E0\",\"minor_tick_line_alpha\":0}},{\"type\":\"object\",\"name\":\"LinearAxis\",\"id\":\"p1497\",\"attributes\":{\"y_range_name\":\"altitudeFt\",\"ticker\":{\"type\":\"object\",\"name\":\"BasicTicker\",\"id\":\"p1498\",\"attributes\":{\"mantissas\":[1,2,5]}},\"formatter\":{\"type\":\"object\",\"name\":\"BasicTickFormatter\",\"id\":\"p1499\"},\"axis_label\":\"Alt (ft)\",\"axis_label_standoff\":10,\"axis_label_text_color\":\"#E0E0E0\",\"axis_label_text_font\":\"Helvetica\",\"axis_label_text_font_size\":\"1.25em\",\"axis_label_text_font_style\":\"normal\",\"major_label_policy\":{\"type\":\"object\",\"name\":\"AllLabels\",\"id\":\"p1500\"},\"major_label_text_color\":\"#E0E0E0\",\"major_label_text_font\":\"Helvetica\",\"major_label_text_font_size\":\"1.025em\",\"axis_line_color\":\"#E0E0E0\",\"axis_line_alpha\":0,\"major_tick_line_color\":\"#E0E0E0\",\"major_tick_line_alpha\":0,\"minor_tick_line_color\":\"#E0E0E0\",\"minor_tick_line_alpha\":0}},{\"type\":\"object\",\"name\":\"LinearAxis\",\"id\":\"p1501\",\"attributes\":{\"y_range_name\":\"angle\",\"ticker\":{\"type\":\"object\",\"name\":\"BasicTicker\",\"id\":\"p1502\",\"attributes\":{\"mantissas\":[1,2,5]}},\"formatter\":{\"type\":\"object\",\"name\":\"BasicTickFormatter\",\"id\":\"p1503\"},\"axis_label\":\"angle\",\"axis_label_standoff\":10,\"axis_label_text_color\":\"#E0E0E0\",\"axis_label_text_font\":\"Helvetica\",\"axis_label_text_font_size\":\"1.25em\",\"axis_label_text_font_style\":\"normal\",\"major_label_policy\":{\"type\":\"object\",\"name\":\"AllLabels\",\"id\":\"p1504\"},\"major_label_text_color\":\"#E0E0E0\",\"major_label_text_font\":\"Helvetica\",\"major_label_text_font_size\":\"1.025em\",\"axis_line_color\":\"#E0E0E0\",\"axis_line_alpha\":0,\"major_tick_line_color\":\"#E0E0E0\",\"major_tick_line_alpha\":0,\"minor_tick_line_color\":\"#E0E0E0\",\"minor_tick_line_alpha\":0}}],\"below\":[{\"type\":\"object\",\"name\":\"LinearAxis\",\"id\":\"p1474\",\"attributes\":{\"ticker\":{\"type\":\"object\",\"name\":\"BasicTicker\",\"id\":\"p1475\",\"attributes\":{\"mantissas\":[1,2,5]}},\"formatter\":{\"type\":\"object\",\"name\":\"BasicTickFormatter\",\"id\":\"p1476\"},\"axis_label\":\"seconds from exit\",\"axis_label_standoff\":10,\"axis_label_text_color\":\"#E0E0E0\",\"axis_label_text_font\":\"Helvetica\",\"axis_label_text_font_size\":\"1.25em\",\"axis_label_text_font_style\":\"normal\",\"major_label_policy\":{\"type\":\"object\",\"name\":\"AllLabels\",\"id\":\"p1477\"},\"major_label_text_color\":\"#E0E0E0\",\"major_label_text_font\":\"Helvetica\",\"major_label_text_font_size\":\"1.025em\",\"axis_line_color\":\"#E0E0E0\",\"axis_line_alpha\":0,\"major_tick_line_color\":\"#E0E0E0\",\"major_tick_line_alpha\":0,\"minor_tick_line_color\":\"#E0E0E0\",\"minor_tick_line_alpha\":0}}],\"center\":[{\"type\":\"object\",\"name\":\"Grid\",\"id\":\"p1478\",\"attributes\":{\"axis\":{\"id\":\"p1474\"},\"grid_line_color\":\"#E0E0E0\",\"grid_line_alpha\":0.25}},{\"type\":\"object\",\"name\":\"Grid\",\"id\":\"p1483\",\"attributes\":{\"dimension\":1,\"axis\":{\"id\":\"p1479\"},\"grid_line_color\":\"#E0E0E0\",\"grid_line_alpha\":0.25}},{\"type\":\"object\",\"name\":\"Legend\",\"id\":\"p1514\",\"attributes\":{\"border_line_alpha\":0,\"background_fill_color\":\"#20262B\",\"background_fill_alpha\":0.25,\"label_text_color\":\"#E0E0E0\",\"label_text_font\":\"Helvetica\",\"label_text_font_size\":\"1.025em\",\"label_standoff\":8,\"glyph_width\":15,\"spacing\":8,\"items\":[{\"type\":\"object\",\"name\":\"LegendItem\",\"id\":\"p1515\",\"attributes\":{\"label\":{\"type\":\"value\",\"value\":\"Alt (ft)\"},\"renderers\":[{\"id\":\"p1511\"}]}},{\"type\":\"object\",\"name\":\"LegendItem\",\"id\":\"p1525\",\"attributes\":{\"label\":{\"type\":\"value\",\"value\":\"angle\"},\"renderers\":[{\"id\":\"p1522\"}]}},{\"type\":\"object\",\"name\":\"LegendItem\",\"id\":\"p1536\",\"attributes\":{\"label\":{\"type\":\"value\",\"value\":\"speed\"},\"renderers\":[{\"id\":\"p1533\"}]}},{\"type\":\"object\",\"name\":\"LegendItem\",\"id\":\"p1546\",\"attributes\":{\"label\":{\"type\":\"value\",\"value\":\"H-speed\"},\"renderers\":[{\"id\":\"p1543\"}]}}]}}],\"background_fill_color\":\"#20262B\",\"border_fill_color\":\"#15191C\"}}]}};\n",
       "  const render_items = [{\"docid\":\"b70077b2-4622-4bc7-adb1-e3cf0bbe51f7\",\"roots\":{\"p1460\":\"d3653011-eb59-47eb-a5c3-2703fbdfad7f\"},\"root_ids\":[\"p1460\"]}];\n",
       "  void root.Bokeh.embed.embed_items_notebook(docs_json, render_items);\n",
       "  }\n",
       "  if (root.Bokeh !== undefined) {\n",
       "    embed_document(root);\n",
       "  } else {\n",
       "    let attempts = 0;\n",
       "    const timer = setInterval(function(root) {\n",
       "      if (root.Bokeh !== undefined) {\n",
       "        clearInterval(timer);\n",
       "        embed_document(root);\n",
       "      } else {\n",
       "        attempts++;\n",
       "        if (attempts > 100) {\n",
       "          clearInterval(timer);\n",
       "          console.log(\"Bokeh: ERROR: Unable to run BokehJS code because BokehJS library is missing\");\n",
       "        }\n",
       "      }\n",
       "    }, 10, root)\n",
       "  }\n",
       "})(window);"
      ],
      "application/vnd.bokehjs_exec.v0+json": ""
     },
     "metadata": {
      "application/vnd.bokehjs_exec.v0+json": {
       "id": "p1460"
      }
     },
     "output_type": "display_data"
    },
    {
     "data": {
      "application/vnd.jupyter.widget-view+json": {
       "model_id": "d5f560d009974dc1a26842ef97730350",
       "version_major": 2,
       "version_minor": 0
      },
      "text/plain": [
       "HTML(value='<hr><h1><span style=\"color: #0f0\">10-51-16 jump - 🟢 valid - score = 483.94 km/h</span></h1>')"
      ]
     },
     "metadata": {},
     "output_type": "display_data"
    },
    {
     "data": {
      "application/vnd.jupyter.widget-view+json": {
       "model_id": "805514f2365b4500a123380eac999a61",
       "version_major": 2,
       "version_minor": 0
      },
      "text/plain": [
       "HTML(value='<h3>Max speed = 487; exit at 4189 m (13746 ft), end scoring window at 1933 m (6344 ft)')"
      ]
     },
     "metadata": {},
     "output_type": "display_data"
    },
    {
     "data": {
      "application/vnd.jupyter.widget-view+json": {
       "model_id": "d7c10c021a5d4387841961148b7c3634",
       "version_major": 2,
       "version_minor": 0
      },
      "text/plain": [
       "HTML(value='</h3>')"
      ]
     },
     "metadata": {},
     "output_type": "display_data"
    },
    {
     "data": {
      "text/html": [
       "<div>\n",
       "<style scoped>\n",
       "    .dataframe tbody tr th:only-of-type {\n",
       "        vertical-align: middle;\n",
       "    }\n",
       "\n",
       "    .dataframe tbody tr th {\n",
       "        vertical-align: top;\n",
       "    }\n",
       "\n",
       "    .dataframe thead th {\n",
       "        text-align: right;\n",
       "    }\n",
       "</style>\n",
       "<table border=\"1\" class=\"dataframe\">\n",
       "  <thead>\n",
       "    <tr style=\"text-align: right;\">\n",
       "      <th></th>\n",
       "      <th>time</th>\n",
       "      <th>vKMh</th>\n",
       "      <th>hKMh</th>\n",
       "      <th>speedAngle</th>\n",
       "      <th>netVectorKMh</th>\n",
       "      <th>altitude (ft)</th>\n",
       "    </tr>\n",
       "  </thead>\n",
       "  <tbody>\n",
       "    <tr>\n",
       "      <th></th>\n",
       "      <td>5.0</td>\n",
       "      <td>184</td>\n",
       "      <td>160</td>\n",
       "      <td>48.9</td>\n",
       "      <td>244</td>\n",
       "      <td>13311</td>\n",
       "    </tr>\n",
       "    <tr>\n",
       "      <th></th>\n",
       "      <td>10.0</td>\n",
       "      <td>327</td>\n",
       "      <td>121</td>\n",
       "      <td>69.7</td>\n",
       "      <td>349</td>\n",
       "      <td>12124</td>\n",
       "    </tr>\n",
       "    <tr>\n",
       "      <th></th>\n",
       "      <td>15.0</td>\n",
       "      <td>423</td>\n",
       "      <td>92</td>\n",
       "      <td>77.7</td>\n",
       "      <td>433</td>\n",
       "      <td>10386</td>\n",
       "    </tr>\n",
       "    <tr>\n",
       "      <th></th>\n",
       "      <td>20.0</td>\n",
       "      <td>471</td>\n",
       "      <td>52</td>\n",
       "      <td>83.8</td>\n",
       "      <td>474</td>\n",
       "      <td>8320</td>\n",
       "    </tr>\n",
       "    <tr>\n",
       "      <th></th>\n",
       "      <td>25.0</td>\n",
       "      <td>486</td>\n",
       "      <td>23</td>\n",
       "      <td>87.3</td>\n",
       "      <td>487</td>\n",
       "      <td>6381</td>\n",
       "    </tr>\n",
       "  </tbody>\n",
       "</table>\n",
       "</div>"
      ],
      "text/plain": [
       "  time  vKMh  hKMh  speedAngle  netVectorKMh  altitude (ft)\n",
       "   5.0   184   160        48.9           244          13311\n",
       "  10.0   327   121        69.7           349          12124\n",
       "  15.0   423    92        77.7           433          10386\n",
       "  20.0   471    52        83.8           474           8320\n",
       "  25.0   486    23        87.3           487           6381"
      ]
     },
     "metadata": {},
     "output_type": "display_data"
    },
    {
     "data": {
      "text/html": [
       "\n",
       "  <div id=\"a876b194-2fd7-4786-8329-39c1ca4e8ad3\" data-root-id=\"p1601\" style=\"display: contents;\"></div>\n"
      ]
     },
     "metadata": {},
     "output_type": "display_data"
    },
    {
     "data": {
      "application/javascript": [
       "(function(root) {\n",
       "  function embed_document(root) {\n",
       "  const docs_json = {\"1638689b-03fc-4ee7-8072-fd227a9dd4ea\":{\"version\":\"3.4.1\",\"title\":\"Bokeh Application\",\"roots\":[{\"type\":\"object\",\"name\":\"Figure\",\"id\":\"p1601\",\"attributes\":{\"width\":900,\"height\":500,\"x_range\":{\"type\":\"object\",\"name\":\"Range1d\",\"id\":\"p1611\",\"attributes\":{\"end\":35.0}},\"y_range\":{\"type\":\"object\",\"name\":\"Range1d\",\"id\":\"p1612\",\"attributes\":{\"end\":550.0}},\"x_scale\":{\"type\":\"object\",\"name\":\"LinearScale\",\"id\":\"p1613\"},\"y_scale\":{\"type\":\"object\",\"name\":\"LinearScale\",\"id\":\"p1614\"},\"extra_y_ranges\":{\"type\":\"map\",\"entries\":[[\"altitudeFt\",{\"type\":\"object\",\"name\":\"Range1d\",\"id\":\"p1636\",\"attributes\":{\"start\":5880.8121952,\"end\":14246.444412800001}}],[\"angle\",{\"type\":\"object\",\"name\":\"Range1d\",\"id\":\"p1637\",\"attributes\":{\"end\":90.0}}]]},\"title\":{\"type\":\"object\",\"name\":\"Title\",\"id\":\"p1604\",\"attributes\":{\"text\":\"10-51-16\",\"text_color\":\"#E0E0E0\",\"text_font\":\"Helvetica\",\"text_font_size\":\"1.15em\"}},\"outline_line_color\":\"#E0E0E0\",\"outline_line_alpha\":0.25,\"renderers\":[{\"type\":\"object\",\"name\":\"GlyphRenderer\",\"id\":\"p1652\",\"attributes\":{\"y_range_name\":\"altitudeFt\",\"data_source\":{\"type\":\"object\",\"name\":\"ColumnDataSource\",\"id\":\"p1646\",\"attributes\":{\"selected\":{\"type\":\"object\",\"name\":\"Selection\",\"id\":\"p1647\",\"attributes\":{\"indices\":[],\"line_indices\":[]}},\"selection_policy\":{\"type\":\"object\",\"name\":\"UnionRenderers\",\"id\":\"p1648\"},\"data\":{\"type\":\"map\",\"entries\":[[\"x\",{\"type\":\"ndarray\",\"array\":{\"type\":\"bytes\",\"data\":\"AAAAAAAAAAAAAAAAnJm5PwAAAACamck/AAAAADQz0z8AAAAAmpnZPwAAAAAAAOA/AAAAgDMz4z8AAACAZmbmPwAAAACamek/AAAAAM3M7D8AAAAAAADwPwAAAMCZmfE/AAAAQDMz8z8AAAAAzcz0PwAAAIBmZvY/AAAAAAAA+D8AAADAmZn5PwAAAEAzM/s/AAAAAM3M/D8AAACAZmb+PwAAAAAAAABAAAAA4MzMAEAAAACgmZkBQAAAAIBmZgJAAAAAQDMzA0AAAAAAAAAEQAAAAODMzARAAAAAoJmZBUAAAACAZmYGQAAAAEAzMwdAAAAAAAAACEAAAADgzMwIQAAAAKCZmQlAAAAAgGZmCkAAAABAMzMLQAAAAAAAAAxAAAAA4MzMDEAAAACgmZkNQAAAAIBmZg5AAAAAQDMzD0AAAAAAAAAQQAAAAHBmZhBAAAAA0MzMEEAAAABAMzMRQAAAAKCZmRFAAAAAAAAAEkAAAABwZmYSQAAAANDMzBJAAAAAQDMzE0AAAACgmZkTQAAAAAAAABRAAAAAcGZmFEAAAADQzMwUQAAAAEAzMxVAAAAAoJmZFUAAAAAAAAAWQAAAAHBmZhZAAAAA0MzMFkAAAABAMzMXQAAAAKCZmRdAAAAAcGZmGEAAAABAMzMZQAAAAKCZmRlAAAAAcGZmGkAAAADQzMwaQAAAAKCZmRtAAAAAAAAAHEAAAADQzMwcQAAAAEAzMx1AAAAAoJmZHUAAAAAAAAAeQAAAANDMzB5AAAAAQDMzH0AAAAAAAAAgQAAAADgzMyBAAAAAaGZmIEAAAACgmZkgQAAAANDMzCBAAAAAODMzIUAAAABoZmYhQAAAANDMzCFAAAAAAAAAIkAAAAA4MzMiQAAAAGhmZiJAAAAA0MzMIkAAAAAAAAAjQAAAADgzMyNAAAAAaGZmI0AAAACgmZkjQAAAAAAAACRAAAAAODMzJEAAAABoZmYkQAAAAKCZmSRAAAAAAAAAJUAAAAA4MzMlQAAAAGhmZiVAAAAAoJmZJUAAAADQzMwlQAAAADgzMyZAAAAAaGZmJkAAAACgmZkmQAAAANDMzCZAAAAAODMzJ0AAAABoZmYnQAAAAKCZmSdAAAAA0MzMJ0AAAAAAAAAoQAAAAGhmZihAAAAAoJmZKEAAAADQzMwoQAAAAAAAAClAAAAAODMzKUAAAACgmZkpQAAAANDMzClAAAAAAAAAKkAAAAA4MzMqQAAAAKCZmSpAAAAA0MzMKkAAAAAAAAArQAAAADgzMytAAAAAaGZmK0AAAADQzMwrQAAAAAAAACxAAAAAaGZmLEAAAACgmZksQAAAANDMzCxAAAAAAAAALUAAAABoZmYtQAAAAKCZmS1AAAAAAAAALkAAAAA4MzMuQAAAAGhmZi5AAAAAoJmZLkAAAADQzMwuQAAAADgzMy9AAAAAoJmZL0AAAADQzMwvQAAAAJyZGTBAAAAANDMzMEAAAABoZmYwQAAAAAAAgDBAAAAAnJmZMEAAAAA0M7MwQAAAAGhm5jBAAAAAAAAAMUAAAACcmRkxQAAAADQzMzFAAAAA0MxMMUAAAAAAAIAxQAAAAJyZmTFAAAAANDOzMUAAAADQzMwxQAAAAGhm5jFAAAAAnJkZMkAAAAA0MzMyQAAAANDMTDJAAAAAaGZmMkAAAACcmZkyQAAAADQzszJAAAAAaGbmMkAAAAAAAAAzQAAAAJyZGTNAAAAANDMzM0AAAADQzEwzQAAAAAAAgDNAAAAANDOzM0AAAADQzMwzQAAAAGhm5jNAAAAAAAAANEAAAACcmRk0QAAAANDMTDRAAAAAaGZmNEAAAAAAAIA0QAAAAJyZmTRAAAAANDOzNEAAAABoZuY0QAAAAAAAADVAAAAAnJkZNUAAAAA0MzM1QAAAAGhmZjVAAAAAAACANUAAAACcmZk1QAAAADQzszVAAAAA0MzMNUAAAAAAAAA2QAAAAJyZGTZAAAAA0MxMNkAAAABoZmY2QAAAAAAAgDZAAAAAnJmZNkAAAADQzMw2QAAAAGhm5jZAAAAAnJkZN0AAAAA0MzM3QAAAANDMTDdAAAAAaGZmN0AAAACcmZk3QAAAADQzszdAAAAA0MzMN0AAAABoZuY3QAAAAAAAADhAAAAANDMzOEAAAADQzEw4QAAAAGhmZjhA\"},\"shape\":[204],\"dtype\":\"float64\",\"order\":\"little\"}],[\"y\",{\"type\":\"ndarray\",\"array\":{\"type\":\"bytes\",\"data\":\"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\"},\"shape\":[204],\"dtype\":\"float64\",\"order\":\"little\"}]]}}},\"view\":{\"type\":\"object\",\"name\":\"CDSView\",\"id\":\"p1653\",\"attributes\":{\"filter\":{\"type\":\"object\",\"name\":\"AllIndices\",\"id\":\"p1654\"}}},\"glyph\":{\"type\":\"object\",\"name\":\"Line\",\"id\":\"p1649\",\"attributes\":{\"x\":{\"type\":\"field\",\"field\":\"x\"},\"y\":{\"type\":\"field\",\"field\":\"y\"},\"line_color\":\"palegoldenrod\",\"line_width\":2}},\"nonselection_glyph\":{\"type\":\"object\",\"name\":\"Line\",\"id\":\"p1650\",\"attributes\":{\"x\":{\"type\":\"field\",\"field\":\"x\"},\"y\":{\"type\":\"field\",\"field\":\"y\"},\"line_color\":\"palegoldenrod\",\"line_alpha\":0.1,\"line_width\":2}},\"muted_glyph\":{\"type\":\"object\",\"name\":\"Line\",\"id\":\"p1651\",\"attributes\":{\"x\":{\"type\":\"field\",\"field\":\"x\"},\"y\":{\"type\":\"field\",\"field\":\"y\"},\"line_color\":\"palegoldenrod\",\"line_alpha\":0.2,\"line_width\":2}}}},{\"type\":\"object\",\"name\":\"GlyphRenderer\",\"id\":\"p1663\",\"attributes\":{\"y_range_name\":\"angle\",\"data_source\":{\"type\":\"object\",\"name\":\"ColumnDataSource\",\"id\":\"p1657\",\"attributes\":{\"selected\":{\"type\":\"object\",\"name\":\"Selection\",\"id\":\"p1658\",\"attributes\":{\"indices\":[],\"line_indices\":[]}},\"selection_policy\":{\"type\":\"object\",\"name\":\"UnionRenderers\",\"id\":\"p1659\"},\"data\":{\"type\":\"map\",\"entries\":[[\"x\",{\"type\":\"ndarray\",\"array\":{\"type\":\"bytes\",\"data\":\"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\"},\"shape\":[204],\"dtype\":\"float64\",\"order\":\"little\"}],[\"y\",{\"type\":\"ndarray\",\"array\":{\"type\":\"bytes\",\"data\":\"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\"},\"shape\":[204],\"dtype\":\"float64\",\"order\":\"little\"}]]}}},\"view\":{\"type\":\"object\",\"name\":\"CDSView\",\"id\":\"p1664\",\"attributes\":{\"filter\":{\"type\":\"object\",\"name\":\"AllIndices\",\"id\":\"p1665\"}}},\"glyph\":{\"type\":\"object\",\"name\":\"Line\",\"id\":\"p1660\",\"attributes\":{\"x\":{\"type\":\"field\",\"field\":\"x\"},\"y\":{\"type\":\"field\",\"field\":\"y\"},\"line_color\":\"deepskyblue\",\"line_width\":2}},\"nonselection_glyph\":{\"type\":\"object\",\"name\":\"Line\",\"id\":\"p1661\",\"attributes\":{\"x\":{\"type\":\"field\",\"field\":\"x\"},\"y\":{\"type\":\"field\",\"field\":\"y\"},\"line_color\":\"deepskyblue\",\"line_alpha\":0.1,\"line_width\":2}},\"muted_glyph\":{\"type\":\"object\",\"name\":\"Line\",\"id\":\"p1662\",\"attributes\":{\"x\":{\"type\":\"field\",\"field\":\"x\"},\"y\":{\"type\":\"field\",\"field\":\"y\"},\"line_color\":\"deepskyblue\",\"line_alpha\":0.2,\"line_width\":2}}}},{\"type\":\"object\",\"name\":\"GlyphRenderer\",\"id\":\"p1674\",\"attributes\":{\"data_source\":{\"type\":\"object\",\"name\":\"ColumnDataSource\",\"id\":\"p1668\",\"attributes\":{\"selected\":{\"type\":\"object\",\"name\":\"Selection\",\"id\":\"p1669\",\"attributes\":{\"indices\":[],\"line_indices\":[]}},\"selection_policy\":{\"type\":\"object\",\"name\":\"UnionRenderers\",\"id\":\"p1670\"},\"data\":{\"type\":\"map\",\"entries\":[[\"x\",{\"type\":\"ndarray\",\"array\":{\"type\":\"bytes\",\"data\":\"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\"},\"shape\":[204],\"dtype\":\"float64\",\"order\":\"little\"}],[\"y\",{\"type\":\"ndarray\",\"array\":{\"type\":\"bytes\",\"data\":\"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\"},\"shape\":[204],\"dtype\":\"float64\",\"order\":\"little\"}]]}}},\"view\":{\"type\":\"object\",\"name\":\"CDSView\",\"id\":\"p1675\",\"attributes\":{\"filter\":{\"type\":\"object\",\"name\":\"AllIndices\",\"id\":\"p1676\"}}},\"glyph\":{\"type\":\"object\",\"name\":\"Line\",\"id\":\"p1671\",\"attributes\":{\"x\":{\"type\":\"field\",\"field\":\"x\"},\"y\":{\"type\":\"field\",\"field\":\"y\"},\"line_color\":\"limegreen\",\"line_width\":2}},\"nonselection_glyph\":{\"type\":\"object\",\"name\":\"Line\",\"id\":\"p1672\",\"attributes\":{\"x\":{\"type\":\"field\",\"field\":\"x\"},\"y\":{\"type\":\"field\",\"field\":\"y\"},\"line_color\":\"limegreen\",\"line_alpha\":0.1,\"line_width\":2}},\"muted_glyph\":{\"type\":\"object\",\"name\":\"Line\",\"id\":\"p1673\",\"attributes\":{\"x\":{\"type\":\"field\",\"field\":\"x\"},\"y\":{\"type\":\"field\",\"field\":\"y\"},\"line_color\":\"limegreen\",\"line_alpha\":0.2,\"line_width\":2}}}},{\"type\":\"object\",\"name\":\"GlyphRenderer\",\"id\":\"p1684\",\"attributes\":{\"data_source\":{\"type\":\"object\",\"name\":\"ColumnDataSource\",\"id\":\"p1678\",\"attributes\":{\"selected\":{\"type\":\"object\",\"name\":\"Selection\",\"id\":\"p1679\",\"attributes\":{\"indices\":[],\"line_indices\":[]}},\"selection_policy\":{\"type\":\"object\",\"name\":\"UnionRenderers\",\"id\":\"p1680\"},\"data\":{\"type\":\"map\",\"entries\":[[\"x\",{\"type\":\"ndarray\",\"array\":{\"type\":\"bytes\",\"data\":\"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\"},\"shape\":[204],\"dtype\":\"float64\",\"order\":\"little\"}],[\"y\",{\"type\":\"ndarray\",\"array\":{\"type\":\"bytes\",\"data\":\"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\"},\"shape\":[204],\"dtype\":\"float64\",\"order\":\"little\"}]]}}},\"view\":{\"type\":\"object\",\"name\":\"CDSView\",\"id\":\"p1685\",\"attributes\":{\"filter\":{\"type\":\"object\",\"name\":\"AllIndices\",\"id\":\"p1686\"}}},\"glyph\":{\"type\":\"object\",\"name\":\"Line\",\"id\":\"p1681\",\"attributes\":{\"x\":{\"type\":\"field\",\"field\":\"x\"},\"y\":{\"type\":\"field\",\"field\":\"y\"},\"line_color\":\"red\",\"line_width\":2}},\"nonselection_glyph\":{\"type\":\"object\",\"name\":\"Line\",\"id\":\"p1682\",\"attributes\":{\"x\":{\"type\":\"field\",\"field\":\"x\"},\"y\":{\"type\":\"field\",\"field\":\"y\"},\"line_color\":\"red\",\"line_alpha\":0.1,\"line_width\":2}},\"muted_glyph\":{\"type\":\"object\",\"name\":\"Line\",\"id\":\"p1683\",\"attributes\":{\"x\":{\"type\":\"field\",\"field\":\"x\"},\"y\":{\"type\":\"field\",\"field\":\"y\"},\"line_color\":\"red\",\"line_alpha\":0.2,\"line_width\":2}}}},{\"type\":\"object\",\"name\":\"GlyphRenderer\",\"id\":\"p1694\",\"attributes\":{\"data_source\":{\"type\":\"object\",\"name\":\"ColumnDataSource\",\"id\":\"p1688\",\"attributes\":{\"selected\":{\"type\":\"object\",\"name\":\"Selection\",\"id\":\"p1689\",\"attributes\":{\"indices\":[],\"line_indices\":[]}},\"selection_policy\":{\"type\":\"object\",\"name\":\"UnionRenderers\",\"id\":\"p1690\"},\"data\":{\"type\":\"map\",\"entries\":[[\"x0\",[24.40000009536743]],[\"y0\",[0.0]],[\"x1\",[24.40000009536743]],[\"y1\",[483.93936]]]}}},\"view\":{\"type\":\"object\",\"name\":\"CDSView\",\"id\":\"p1695\",\"attributes\":{\"filter\":{\"type\":\"object\",\"name\":\"AllIndices\",\"id\":\"p1696\"}}},\"glyph\":{\"type\":\"object\",\"name\":\"Segment\",\"id\":\"p1691\",\"attributes\":{\"x0\":{\"type\":\"field\",\"field\":\"x0\"},\"y0\":{\"type\":\"field\",\"field\":\"y0\"},\"x1\":{\"type\":\"field\",\"field\":\"x1\"},\"y1\":{\"type\":\"field\",\"field\":\"y1\"},\"line_color\":{\"type\":\"value\",\"value\":\"lightblue\"},\"line_width\":{\"type\":\"value\",\"value\":3}}},\"nonselection_glyph\":{\"type\":\"object\",\"name\":\"Segment\",\"id\":\"p1692\",\"attributes\":{\"x0\":{\"type\":\"field\",\"field\":\"x0\"},\"y0\":{\"type\":\"field\",\"field\":\"y0\"},\"x1\":{\"type\":\"field\",\"field\":\"x1\"},\"y1\":{\"type\":\"field\",\"field\":\"y1\"},\"line_color\":{\"type\":\"value\",\"value\":\"lightblue\"},\"line_alpha\":{\"type\":\"value\",\"value\":0.1},\"line_width\":{\"type\":\"value\",\"value\":3}}},\"muted_glyph\":{\"type\":\"object\",\"name\":\"Segment\",\"id\":\"p1693\",\"attributes\":{\"x0\":{\"type\":\"field\",\"field\":\"x0\"},\"y0\":{\"type\":\"field\",\"field\":\"y0\"},\"x1\":{\"type\":\"field\",\"field\":\"x1\"},\"y1\":{\"type\":\"field\",\"field\":\"y1\"},\"line_color\":{\"type\":\"value\",\"value\":\"lightblue\"},\"line_alpha\":{\"type\":\"value\",\"value\":0.2},\"line_width\":{\"type\":\"value\",\"value\":3}}}}},{\"type\":\"object\",\"name\":\"GlyphRenderer\",\"id\":\"p1703\",\"attributes\":{\"data_source\":{\"type\":\"object\",\"name\":\"ColumnDataSource\",\"id\":\"p1697\",\"attributes\":{\"selected\":{\"type\":\"object\",\"name\":\"Selection\",\"id\":\"p1698\",\"attributes\":{\"indices\":[],\"line_indices\":[]}},\"selection_policy\":{\"type\":\"object\",\"name\":\"UnionRenderers\",\"id\":\"p1699\"},\"data\":{\"type\":\"map\",\"entries\":[[\"x0\",[25.90000009536743]],[\"y0\",[0.0]],[\"x1\",[25.90000009536743]],[\"y1\",[483.93936]]]}}},\"view\":{\"type\":\"object\",\"name\":\"CDSView\",\"id\":\"p1704\",\"attributes\":{\"filter\":{\"type\":\"object\",\"name\":\"AllIndices\",\"id\":\"p1705\"}}},\"glyph\":{\"type\":\"object\",\"name\":\"Segment\",\"id\":\"p1700\",\"attributes\":{\"x0\":{\"type\":\"field\",\"field\":\"x0\"},\"y0\":{\"type\":\"field\",\"field\":\"y0\"},\"x1\":{\"type\":\"field\",\"field\":\"x1\"},\"y1\":{\"type\":\"field\",\"field\":\"y1\"},\"line_color\":{\"type\":\"value\",\"value\":\"darkseagreen\"}}},\"nonselection_glyph\":{\"type\":\"object\",\"name\":\"Segment\",\"id\":\"p1701\",\"attributes\":{\"x0\":{\"type\":\"field\",\"field\":\"x0\"},\"y0\":{\"type\":\"field\",\"field\":\"y0\"},\"x1\":{\"type\":\"field\",\"field\":\"x1\"},\"y1\":{\"type\":\"field\",\"field\":\"y1\"},\"line_color\":{\"type\":\"value\",\"value\":\"darkseagreen\"},\"line_alpha\":{\"type\":\"value\",\"value\":0.1}}},\"muted_glyph\":{\"type\":\"object\",\"name\":\"Segment\",\"id\":\"p1702\",\"attributes\":{\"x0\":{\"type\":\"field\",\"field\":\"x0\"},\"y0\":{\"type\":\"field\",\"field\":\"y0\"},\"x1\":{\"type\":\"field\",\"field\":\"x1\"},\"y1\":{\"type\":\"field\",\"field\":\"y1\"},\"line_color\":{\"type\":\"value\",\"value\":\"darkseagreen\"},\"line_alpha\":{\"type\":\"value\",\"value\":0.2}}}}},{\"type\":\"object\",\"name\":\"GlyphRenderer\",\"id\":\"p1712\",\"attributes\":{\"data_source\":{\"type\":\"object\",\"name\":\"ColumnDataSource\",\"id\":\"p1706\",\"attributes\":{\"selected\":{\"type\":\"object\",\"name\":\"Selection\",\"id\":\"p1707\",\"attributes\":{\"indices\":[],\"line_indices\":[]}},\"selection_policy\":{\"type\":\"object\",\"name\":\"UnionRenderers\",\"id\":\"p1708\"},\"data\":{\"type\":\"map\",\"entries\":[[\"x0\",[22.90000009536743]],[\"y0\",[0.0]],[\"x1\",[22.90000009536743]],[\"y1\",[483.93936]]]}}},\"view\":{\"type\":\"object\",\"name\":\"CDSView\",\"id\":\"p1713\",\"attributes\":{\"filter\":{\"type\":\"object\",\"name\":\"AllIndices\",\"id\":\"p1714\"}}},\"glyph\":{\"type\":\"object\",\"name\":\"Segment\",\"id\":\"p1709\",\"attributes\":{\"x0\":{\"type\":\"field\",\"field\":\"x0\"},\"y0\":{\"type\":\"field\",\"field\":\"y0\"},\"x1\":{\"type\":\"field\",\"field\":\"x1\"},\"y1\":{\"type\":\"field\",\"field\":\"y1\"},\"line_color\":{\"type\":\"value\",\"value\":\"darkseagreen\"}}},\"nonselection_glyph\":{\"type\":\"object\",\"name\":\"Segment\",\"id\":\"p1710\",\"attributes\":{\"x0\":{\"type\":\"field\",\"field\":\"x0\"},\"y0\":{\"type\":\"field\",\"field\":\"y0\"},\"x1\":{\"type\":\"field\",\"field\":\"x1\"},\"y1\":{\"type\":\"field\",\"field\":\"y1\"},\"line_color\":{\"type\":\"value\",\"value\":\"darkseagreen\"},\"line_alpha\":{\"type\":\"value\",\"value\":0.1}}},\"muted_glyph\":{\"type\":\"object\",\"name\":\"Segment\",\"id\":\"p1711\",\"attributes\":{\"x0\":{\"type\":\"field\",\"field\":\"x0\"},\"y0\":{\"type\":\"field\",\"field\":\"y0\"},\"x1\":{\"type\":\"field\",\"field\":\"x1\"},\"y1\":{\"type\":\"field\",\"field\":\"y1\"},\"line_color\":{\"type\":\"value\",\"value\":\"darkseagreen\"},\"line_alpha\":{\"type\":\"value\",\"value\":0.2}}}}},{\"type\":\"object\",\"name\":\"GlyphRenderer\",\"id\":\"p1721\",\"attributes\":{\"data_source\":{\"type\":\"object\",\"name\":\"ColumnDataSource\",\"id\":\"p1715\",\"attributes\":{\"selected\":{\"type\":\"object\",\"name\":\"Selection\",\"id\":\"p1716\",\"attributes\":{\"indices\":[],\"line_indices\":[]}},\"selection_policy\":{\"type\":\"object\",\"name\":\"UnionRenderers\",\"id\":\"p1717\"},\"data\":{\"type\":\"map\",\"entries\":[[\"x\",[24.40000009536743]],[\"y\",[483.93936]],[\"size\",[20]]]}}},\"view\":{\"type\":\"object\",\"name\":\"CDSView\",\"id\":\"p1722\",\"attributes\":{\"filter\":{\"type\":\"object\",\"name\":\"AllIndices\",\"id\":\"p1723\"}}},\"glyph\":{\"type\":\"object\",\"name\":\"Scatter\",\"id\":\"p1718\",\"attributes\":{\"x\":{\"type\":\"field\",\"field\":\"x\"},\"y\":{\"type\":\"field\",\"field\":\"y\"},\"size\":{\"type\":\"field\",\"field\":\"size\"},\"line_color\":{\"type\":\"value\",\"value\":\"lightblue\"},\"line_width\":{\"type\":\"value\",\"value\":3},\"fill_color\":{\"type\":\"value\",\"value\":null},\"marker\":{\"type\":\"value\",\"value\":\"square_cross\"}}},\"nonselection_glyph\":{\"type\":\"object\",\"name\":\"Scatter\",\"id\":\"p1719\",\"attributes\":{\"x\":{\"type\":\"field\",\"field\":\"x\"},\"y\":{\"type\":\"field\",\"field\":\"y\"},\"size\":{\"type\":\"field\",\"field\":\"size\"},\"line_color\":{\"type\":\"value\",\"value\":\"lightblue\"},\"line_alpha\":{\"type\":\"value\",\"value\":0.1},\"line_width\":{\"type\":\"value\",\"value\":3},\"fill_color\":{\"type\":\"value\",\"value\":null},\"fill_alpha\":{\"type\":\"value\",\"value\":0.1},\"hatch_alpha\":{\"type\":\"value\",\"value\":0.1},\"marker\":{\"type\":\"value\",\"value\":\"square_cross\"}}},\"muted_glyph\":{\"type\":\"object\",\"name\":\"Scatter\",\"id\":\"p1720\",\"attributes\":{\"x\":{\"type\":\"field\",\"field\":\"x\"},\"y\":{\"type\":\"field\",\"field\":\"y\"},\"size\":{\"type\":\"field\",\"field\":\"size\"},\"line_color\":{\"type\":\"value\",\"value\":\"lightblue\"},\"line_alpha\":{\"type\":\"value\",\"value\":0.2},\"line_width\":{\"type\":\"value\",\"value\":3},\"fill_color\":{\"type\":\"value\",\"value\":null},\"fill_alpha\":{\"type\":\"value\",\"value\":0.2},\"hatch_alpha\":{\"type\":\"value\",\"value\":0.2},\"marker\":{\"type\":\"value\",\"value\":\"square_cross\"}}}}}],\"toolbar\":{\"type\":\"object\",\"name\":\"Toolbar\",\"id\":\"p1610\",\"attributes\":{\"tools\":[{\"type\":\"object\",\"name\":\"PanTool\",\"id\":\"p1625\"},{\"type\":\"object\",\"name\":\"WheelZoomTool\",\"id\":\"p1626\",\"attributes\":{\"renderers\":\"auto\"}},{\"type\":\"object\",\"name\":\"BoxZoomTool\",\"id\":\"p1627\",\"attributes\":{\"overlay\":{\"type\":\"object\",\"name\":\"BoxAnnotation\",\"id\":\"p1628\",\"attributes\":{\"syncable\":false,\"level\":\"overlay\",\"visible\":false,\"left\":{\"type\":\"number\",\"value\":\"nan\"},\"right\":{\"type\":\"number\",\"value\":\"nan\"},\"top\":{\"type\":\"number\",\"value\":\"nan\"},\"bottom\":{\"type\":\"number\",\"value\":\"nan\"},\"left_units\":\"canvas\",\"right_units\":\"canvas\",\"top_units\":\"canvas\",\"bottom_units\":\"canvas\",\"line_color\":\"black\",\"line_alpha\":1.0,\"line_width\":2,\"line_dash\":[4,4],\"fill_color\":\"lightgrey\",\"fill_alpha\":0.5}}}},{\"type\":\"object\",\"name\":\"SaveTool\",\"id\":\"p1633\"},{\"type\":\"object\",\"name\":\"ResetTool\",\"id\":\"p1634\"},{\"type\":\"object\",\"name\":\"HelpTool\",\"id\":\"p1635\"},{\"type\":\"object\",\"name\":\"HoverTool\",\"id\":\"p1667\",\"attributes\":{\"renderers\":\"auto\",\"tooltips\":[[\"Y-val\",\"@y{0.00}\"]]}}]}},\"left\":[{\"type\":\"object\",\"name\":\"LinearAxis\",\"id\":\"p1620\",\"attributes\":{\"ticker\":{\"type\":\"object\",\"name\":\"BasicTicker\",\"id\":\"p1621\",\"attributes\":{\"mantissas\":[1,2,5]}},\"formatter\":{\"type\":\"object\",\"name\":\"BasicTickFormatter\",\"id\":\"p1622\"},\"axis_label\":\"km/h\",\"axis_label_standoff\":10,\"axis_label_text_color\":\"#E0E0E0\",\"axis_label_text_font\":\"Helvetica\",\"axis_label_text_font_size\":\"1.25em\",\"axis_label_text_font_style\":\"normal\",\"major_label_policy\":{\"type\":\"object\",\"name\":\"AllLabels\",\"id\":\"p1623\"},\"major_label_text_color\":\"#E0E0E0\",\"major_label_text_font\":\"Helvetica\",\"major_label_text_font_size\":\"1.025em\",\"axis_line_color\":\"#E0E0E0\",\"axis_line_alpha\":0,\"major_tick_line_color\":\"#E0E0E0\",\"major_tick_line_alpha\":0,\"minor_tick_line_color\":\"#E0E0E0\",\"minor_tick_line_alpha\":0}},{\"type\":\"object\",\"name\":\"LinearAxis\",\"id\":\"p1638\",\"attributes\":{\"y_range_name\":\"altitudeFt\",\"ticker\":{\"type\":\"object\",\"name\":\"BasicTicker\",\"id\":\"p1639\",\"attributes\":{\"mantissas\":[1,2,5]}},\"formatter\":{\"type\":\"object\",\"name\":\"BasicTickFormatter\",\"id\":\"p1640\"},\"axis_label\":\"Alt (ft)\",\"axis_label_standoff\":10,\"axis_label_text_color\":\"#E0E0E0\",\"axis_label_text_font\":\"Helvetica\",\"axis_label_text_font_size\":\"1.25em\",\"axis_label_text_font_style\":\"normal\",\"major_label_policy\":{\"type\":\"object\",\"name\":\"AllLabels\",\"id\":\"p1641\"},\"major_label_text_color\":\"#E0E0E0\",\"major_label_text_font\":\"Helvetica\",\"major_label_text_font_size\":\"1.025em\",\"axis_line_color\":\"#E0E0E0\",\"axis_line_alpha\":0,\"major_tick_line_color\":\"#E0E0E0\",\"major_tick_line_alpha\":0,\"minor_tick_line_color\":\"#E0E0E0\",\"minor_tick_line_alpha\":0}},{\"type\":\"object\",\"name\":\"LinearAxis\",\"id\":\"p1642\",\"attributes\":{\"y_range_name\":\"angle\",\"ticker\":{\"type\":\"object\",\"name\":\"BasicTicker\",\"id\":\"p1643\",\"attributes\":{\"mantissas\":[1,2,5]}},\"formatter\":{\"type\":\"object\",\"name\":\"BasicTickFormatter\",\"id\":\"p1644\"},\"axis_label\":\"angle\",\"axis_label_standoff\":10,\"axis_label_text_color\":\"#E0E0E0\",\"axis_label_text_font\":\"Helvetica\",\"axis_label_text_font_size\":\"1.25em\",\"axis_label_text_font_style\":\"normal\",\"major_label_policy\":{\"type\":\"object\",\"name\":\"AllLabels\",\"id\":\"p1645\"},\"major_label_text_color\":\"#E0E0E0\",\"major_label_text_font\":\"Helvetica\",\"major_label_text_font_size\":\"1.025em\",\"axis_line_color\":\"#E0E0E0\",\"axis_line_alpha\":0,\"major_tick_line_color\":\"#E0E0E0\",\"major_tick_line_alpha\":0,\"minor_tick_line_color\":\"#E0E0E0\",\"minor_tick_line_alpha\":0}}],\"below\":[{\"type\":\"object\",\"name\":\"LinearAxis\",\"id\":\"p1615\",\"attributes\":{\"ticker\":{\"type\":\"object\",\"name\":\"BasicTicker\",\"id\":\"p1616\",\"attributes\":{\"mantissas\":[1,2,5]}},\"formatter\":{\"type\":\"object\",\"name\":\"BasicTickFormatter\",\"id\":\"p1617\"},\"axis_label\":\"seconds from exit\",\"axis_label_standoff\":10,\"axis_label_text_color\":\"#E0E0E0\",\"axis_label_text_font\":\"Helvetica\",\"axis_label_text_font_size\":\"1.25em\",\"axis_label_text_font_style\":\"normal\",\"major_label_policy\":{\"type\":\"object\",\"name\":\"AllLabels\",\"id\":\"p1618\"},\"major_label_text_color\":\"#E0E0E0\",\"major_label_text_font\":\"Helvetica\",\"major_label_text_font_size\":\"1.025em\",\"axis_line_color\":\"#E0E0E0\",\"axis_line_alpha\":0,\"major_tick_line_color\":\"#E0E0E0\",\"major_tick_line_alpha\":0,\"minor_tick_line_color\":\"#E0E0E0\",\"minor_tick_line_alpha\":0}}],\"center\":[{\"type\":\"object\",\"name\":\"Grid\",\"id\":\"p1619\",\"attributes\":{\"axis\":{\"id\":\"p1615\"},\"grid_line_color\":\"#E0E0E0\",\"grid_line_alpha\":0.25}},{\"type\":\"object\",\"name\":\"Grid\",\"id\":\"p1624\",\"attributes\":{\"dimension\":1,\"axis\":{\"id\":\"p1620\"},\"grid_line_color\":\"#E0E0E0\",\"grid_line_alpha\":0.25}},{\"type\":\"object\",\"name\":\"Legend\",\"id\":\"p1655\",\"attributes\":{\"border_line_alpha\":0,\"background_fill_color\":\"#20262B\",\"background_fill_alpha\":0.25,\"label_text_color\":\"#E0E0E0\",\"label_text_font\":\"Helvetica\",\"label_text_font_size\":\"1.025em\",\"label_standoff\":8,\"glyph_width\":15,\"spacing\":8,\"items\":[{\"type\":\"object\",\"name\":\"LegendItem\",\"id\":\"p1656\",\"attributes\":{\"label\":{\"type\":\"value\",\"value\":\"Alt (ft)\"},\"renderers\":[{\"id\":\"p1652\"}]}},{\"type\":\"object\",\"name\":\"LegendItem\",\"id\":\"p1666\",\"attributes\":{\"label\":{\"type\":\"value\",\"value\":\"angle\"},\"renderers\":[{\"id\":\"p1663\"}]}},{\"type\":\"object\",\"name\":\"LegendItem\",\"id\":\"p1677\",\"attributes\":{\"label\":{\"type\":\"value\",\"value\":\"speed\"},\"renderers\":[{\"id\":\"p1674\"}]}},{\"type\":\"object\",\"name\":\"LegendItem\",\"id\":\"p1687\",\"attributes\":{\"label\":{\"type\":\"value\",\"value\":\"H-speed\"},\"renderers\":[{\"id\":\"p1684\"}]}}]}}],\"background_fill_color\":\"#20262B\",\"border_fill_color\":\"#15191C\"}}]}};\n",
       "  const render_items = [{\"docid\":\"1638689b-03fc-4ee7-8072-fd227a9dd4ea\",\"roots\":{\"p1601\":\"a876b194-2fd7-4786-8329-39c1ca4e8ad3\"},\"root_ids\":[\"p1601\"]}];\n",
       "  void root.Bokeh.embed.embed_items_notebook(docs_json, render_items);\n",
       "  }\n",
       "  if (root.Bokeh !== undefined) {\n",
       "    embed_document(root);\n",
       "  } else {\n",
       "    let attempts = 0;\n",
       "    const timer = setInterval(function(root) {\n",
       "      if (root.Bokeh !== undefined) {\n",
       "        clearInterval(timer);\n",
       "        embed_document(root);\n",
       "      } else {\n",
       "        attempts++;\n",
       "        if (attempts > 100) {\n",
       "          clearInterval(timer);\n",
       "          console.log(\"Bokeh: ERROR: Unable to run BokehJS code because BokehJS library is missing\");\n",
       "        }\n",
       "      }\n",
       "    }, 10, root)\n",
       "  }\n",
       "})(window);"
      ],
      "application/vnd.bokehjs_exec.v0+json": ""
     },
     "metadata": {
      "application/vnd.bokehjs_exec.v0+json": {
       "id": "p1601"
      }
     },
     "output_type": "display_data"
    },
    {
     "data": {
      "application/vnd.jupyter.widget-view+json": {
       "model_id": "48c55c38ba744c9aa386906ba66bf529",
       "version_major": 2,
       "version_minor": 0
      },
      "text/plain": [
       "HTML(value='<hr><h1><span style=\"color: #0f0\">12-09-17 jump - 🟢 valid - score = 486.99 km/h</span></h1>')"
      ]
     },
     "metadata": {},
     "output_type": "display_data"
    },
    {
     "data": {
      "application/vnd.jupyter.widget-view+json": {
       "model_id": "7285bbc3e1034ed99bc664dc7aca5921",
       "version_major": 2,
       "version_minor": 0
      },
      "text/plain": [
       "HTML(value='<h3>Max speed = 490; exit at 4290 m (14075 ft), end scoring window at 2034 m (6674 ft)')"
      ]
     },
     "metadata": {},
     "output_type": "display_data"
    },
    {
     "data": {
      "application/vnd.jupyter.widget-view+json": {
       "model_id": "c3afc28c7a2e463b8075e9c0913e7d89",
       "version_major": 2,
       "version_minor": 0
      },
      "text/plain": [
       "HTML(value='</h3>')"
      ]
     },
     "metadata": {},
     "output_type": "display_data"
    },
    {
     "data": {
      "text/html": [
       "<div>\n",
       "<style scoped>\n",
       "    .dataframe tbody tr th:only-of-type {\n",
       "        vertical-align: middle;\n",
       "    }\n",
       "\n",
       "    .dataframe tbody tr th {\n",
       "        vertical-align: top;\n",
       "    }\n",
       "\n",
       "    .dataframe thead th {\n",
       "        text-align: right;\n",
       "    }\n",
       "</style>\n",
       "<table border=\"1\" class=\"dataframe\">\n",
       "  <thead>\n",
       "    <tr style=\"text-align: right;\">\n",
       "      <th></th>\n",
       "      <th>time</th>\n",
       "      <th>vKMh</th>\n",
       "      <th>hKMh</th>\n",
       "      <th>speedAngle</th>\n",
       "      <th>netVectorKMh</th>\n",
       "      <th>altitude (ft)</th>\n",
       "    </tr>\n",
       "  </thead>\n",
       "  <tbody>\n",
       "    <tr>\n",
       "      <th></th>\n",
       "      <td>5.0</td>\n",
       "      <td>182</td>\n",
       "      <td>146</td>\n",
       "      <td>51.2</td>\n",
       "      <td>234</td>\n",
       "      <td>13635</td>\n",
       "    </tr>\n",
       "    <tr>\n",
       "      <th></th>\n",
       "      <td>10.0</td>\n",
       "      <td>326</td>\n",
       "      <td>99</td>\n",
       "      <td>73.1</td>\n",
       "      <td>340</td>\n",
       "      <td>12445</td>\n",
       "    </tr>\n",
       "    <tr>\n",
       "      <th></th>\n",
       "      <td>15.0</td>\n",
       "      <td>417</td>\n",
       "      <td>82</td>\n",
       "      <td>78.8</td>\n",
       "      <td>425</td>\n",
       "      <td>10725</td>\n",
       "    </tr>\n",
       "    <tr>\n",
       "      <th></th>\n",
       "      <td>20.0</td>\n",
       "      <td>478</td>\n",
       "      <td>48</td>\n",
       "      <td>84.3</td>\n",
       "      <td>480</td>\n",
       "      <td>8653</td>\n",
       "    </tr>\n",
       "    <tr>\n",
       "      <th></th>\n",
       "      <td>25.0</td>\n",
       "      <td>488</td>\n",
       "      <td>30</td>\n",
       "      <td>86.5</td>\n",
       "      <td>489</td>\n",
       "      <td>6700</td>\n",
       "    </tr>\n",
       "  </tbody>\n",
       "</table>\n",
       "</div>"
      ],
      "text/plain": [
       "  time  vKMh  hKMh  speedAngle  netVectorKMh  altitude (ft)\n",
       "   5.0   182   146        51.2           234          13635\n",
       "  10.0   326    99        73.1           340          12445\n",
       "  15.0   417    82        78.8           425          10725\n",
       "  20.0   478    48        84.3           480           8653\n",
       "  25.0   488    30        86.5           489           6700"
      ]
     },
     "metadata": {},
     "output_type": "display_data"
    },
    {
     "data": {
      "text/html": [
       "\n",
       "  <div id=\"e617a6b7-8362-44ca-9a57-5e1eee4069e7\" data-root-id=\"p1742\" style=\"display: contents;\"></div>\n"
      ]
     },
     "metadata": {},
     "output_type": "display_data"
    },
    {
     "data": {
      "application/javascript": [
       "(function(root) {\n",
       "  function embed_document(root) {\n",
       "  const docs_json = {\"0446f68c-eaf4-4ab8-9f61-e86f5b5b4a83\":{\"version\":\"3.4.1\",\"title\":\"Bokeh Application\",\"roots\":[{\"type\":\"object\",\"name\":\"Figure\",\"id\":\"p1742\",\"attributes\":{\"width\":900,\"height\":500,\"x_range\":{\"type\":\"object\",\"name\":\"Range1d\",\"id\":\"p1752\",\"attributes\":{\"end\":35.0}},\"y_range\":{\"type\":\"object\",\"name\":\"Range1d\",\"id\":\"p1753\",\"attributes\":{\"end\":550.0}},\"x_scale\":{\"type\":\"object\",\"name\":\"LinearScale\",\"id\":\"p1754\"},\"y_scale\":{\"type\":\"object\",\"name\":\"LinearScale\",\"id\":\"p1755\"},\"extra_y_ranges\":{\"type\":\"map\",\"entries\":[[\"altitudeFt\",{\"type\":\"object\",\"name\":\"Range1d\",\"id\":\"p1777\",\"attributes\":{\"start\":6199.5976888000005,\"end\":14575.7448704}}],[\"angle\",{\"type\":\"object\",\"name\":\"Range1d\",\"id\":\"p1778\",\"attributes\":{\"end\":90.0}}]]},\"title\":{\"type\":\"object\",\"name\":\"Title\",\"id\":\"p1745\",\"attributes\":{\"text\":\"12-09-17\",\"text_color\":\"#E0E0E0\",\"text_font\":\"Helvetica\",\"text_font_size\":\"1.15em\"}},\"outline_line_color\":\"#E0E0E0\",\"outline_line_alpha\":0.25,\"renderers\":[{\"type\":\"object\",\"name\":\"GlyphRenderer\",\"id\":\"p1793\",\"attributes\":{\"y_range_name\":\"altitudeFt\",\"data_source\":{\"type\":\"object\",\"name\":\"ColumnDataSource\",\"id\":\"p1787\",\"attributes\":{\"selected\":{\"type\":\"object\",\"name\":\"Selection\",\"id\":\"p1788\",\"attributes\":{\"indices\":[],\"line_indices\":[]}},\"selection_policy\":{\"type\":\"object\",\"name\":\"UnionRenderers\",\"id\":\"p1789\"},\"data\":{\"type\":\"map\",\"entries\":[[\"x\",{\"type\":\"ndarray\",\"array\":{\"type\":\"bytes\",\"data\":\"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\"},\"shape\":[211],\"dtype\":\"float64\",\"order\":\"little\"}],[\"y\",{\"type\":\"ndarray\",\"array\":{\"type\":\"bytes\",\"data\":\"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\"},\"shape\":[211],\"dtype\":\"float64\",\"order\":\"little\"}]]}}},\"view\":{\"type\":\"object\",\"name\":\"CDSView\",\"id\":\"p1794\",\"attributes\":{\"filter\":{\"type\":\"object\",\"name\":\"AllIndices\",\"id\":\"p1795\"}}},\"glyph\":{\"type\":\"object\",\"name\":\"Line\",\"id\":\"p1790\",\"attributes\":{\"x\":{\"type\":\"field\",\"field\":\"x\"},\"y\":{\"type\":\"field\",\"field\":\"y\"},\"line_color\":\"palegoldenrod\",\"line_width\":2}},\"nonselection_glyph\":{\"type\":\"object\",\"name\":\"Line\",\"id\":\"p1791\",\"attributes\":{\"x\":{\"type\":\"field\",\"field\":\"x\"},\"y\":{\"type\":\"field\",\"field\":\"y\"},\"line_color\":\"palegoldenrod\",\"line_alpha\":0.1,\"line_width\":2}},\"muted_glyph\":{\"type\":\"object\",\"name\":\"Line\",\"id\":\"p1792\",\"attributes\":{\"x\":{\"type\":\"field\",\"field\":\"x\"},\"y\":{\"type\":\"field\",\"field\":\"y\"},\"line_color\":\"palegoldenrod\",\"line_alpha\":0.2,\"line_width\":2}}}},{\"type\":\"object\",\"name\":\"GlyphRenderer\",\"id\":\"p1804\",\"attributes\":{\"y_range_name\":\"angle\",\"data_source\":{\"type\":\"object\",\"name\":\"ColumnDataSource\",\"id\":\"p1798\",\"attributes\":{\"selected\":{\"type\":\"object\",\"name\":\"Selection\",\"id\":\"p1799\",\"attributes\":{\"indices\":[],\"line_indices\":[]}},\"selection_policy\":{\"type\":\"object\",\"name\":\"UnionRenderers\",\"id\":\"p1800\"},\"data\":{\"type\":\"map\",\"entries\":[[\"x\",{\"type\":\"ndarray\",\"array\":{\"type\":\"bytes\",\"data\":\"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\"},\"shape\":[211],\"dtype\":\"float64\",\"order\":\"little\"}],[\"y\",{\"type\":\"ndarray\",\"array\":{\"type\":\"bytes\",\"data\":\"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\"},\"shape\":[211],\"dtype\":\"float64\",\"order\":\"little\"}]]}}},\"view\":{\"type\":\"object\",\"name\":\"CDSView\",\"id\":\"p1805\",\"attributes\":{\"filter\":{\"type\":\"object\",\"name\":\"AllIndices\",\"id\":\"p1806\"}}},\"glyph\":{\"type\":\"object\",\"name\":\"Line\",\"id\":\"p1801\",\"attributes\":{\"x\":{\"type\":\"field\",\"field\":\"x\"},\"y\":{\"type\":\"field\",\"field\":\"y\"},\"line_color\":\"deepskyblue\",\"line_width\":2}},\"nonselection_glyph\":{\"type\":\"object\",\"name\":\"Line\",\"id\":\"p1802\",\"attributes\":{\"x\":{\"type\":\"field\",\"field\":\"x\"},\"y\":{\"type\":\"field\",\"field\":\"y\"},\"line_color\":\"deepskyblue\",\"line_alpha\":0.1,\"line_width\":2}},\"muted_glyph\":{\"type\":\"object\",\"name\":\"Line\",\"id\":\"p1803\",\"attributes\":{\"x\":{\"type\":\"field\",\"field\":\"x\"},\"y\":{\"type\":\"field\",\"field\":\"y\"},\"line_color\":\"deepskyblue\",\"line_alpha\":0.2,\"line_width\":2}}}},{\"type\":\"object\",\"name\":\"GlyphRenderer\",\"id\":\"p1815\",\"attributes\":{\"data_source\":{\"type\":\"object\",\"name\":\"ColumnDataSource\",\"id\":\"p1809\",\"attributes\":{\"selected\":{\"type\":\"object\",\"name\":\"Selection\",\"id\":\"p1810\",\"attributes\":{\"indices\":[],\"line_indices\":[]}},\"selection_policy\":{\"type\":\"object\",\"name\":\"UnionRenderers\",\"id\":\"p1811\"},\"data\":{\"type\":\"map\",\"entries\":[[\"x\",{\"type\":\"ndarray\",\"array\":{\"type\":\"bytes\",\"data\":\"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\"},\"shape\":[211],\"dtype\":\"float64\",\"order\":\"little\"}],[\"y\",{\"type\":\"ndarray\",\"array\":{\"type\":\"bytes\",\"data\":\"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\"},\"shape\":[211],\"dtype\":\"float64\",\"order\":\"little\"}]]}}},\"view\":{\"type\":\"object\",\"name\":\"CDSView\",\"id\":\"p1816\",\"attributes\":{\"filter\":{\"type\":\"object\",\"name\":\"AllIndices\",\"id\":\"p1817\"}}},\"glyph\":{\"type\":\"object\",\"name\":\"Line\",\"id\":\"p1812\",\"attributes\":{\"x\":{\"type\":\"field\",\"field\":\"x\"},\"y\":{\"type\":\"field\",\"field\":\"y\"},\"line_color\":\"limegreen\",\"line_width\":2}},\"nonselection_glyph\":{\"type\":\"object\",\"name\":\"Line\",\"id\":\"p1813\",\"attributes\":{\"x\":{\"type\":\"field\",\"field\":\"x\"},\"y\":{\"type\":\"field\",\"field\":\"y\"},\"line_color\":\"limegreen\",\"line_alpha\":0.1,\"line_width\":2}},\"muted_glyph\":{\"type\":\"object\",\"name\":\"Line\",\"id\":\"p1814\",\"attributes\":{\"x\":{\"type\":\"field\",\"field\":\"x\"},\"y\":{\"type\":\"field\",\"field\":\"y\"},\"line_color\":\"limegreen\",\"line_alpha\":0.2,\"line_width\":2}}}},{\"type\":\"object\",\"name\":\"GlyphRenderer\",\"id\":\"p1825\",\"attributes\":{\"data_source\":{\"type\":\"object\",\"name\":\"ColumnDataSource\",\"id\":\"p1819\",\"attributes\":{\"selected\":{\"type\":\"object\",\"name\":\"Selection\",\"id\":\"p1820\",\"attributes\":{\"indices\":[],\"line_indices\":[]}},\"selection_policy\":{\"type\":\"object\",\"name\":\"UnionRenderers\",\"id\":\"p1821\"},\"data\":{\"type\":\"map\",\"entries\":[[\"x\",{\"type\":\"ndarray\",\"array\":{\"type\":\"bytes\",\"data\":\"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\"},\"shape\":[211],\"dtype\":\"float64\",\"order\":\"little\"}],[\"y\",{\"type\":\"ndarray\",\"array\":{\"type\":\"bytes\",\"data\":\"1c2BnmYsaEAgIoluPBdoQDi7wb5sB2hATz1TguXRZ0DO9KCFmfRnQCRlkh8j7WdA644N1RmrZ0AT4u4nHMRnQPH4BiKvomdA8oq2qJD0ZkCRsUH2mPpmQOAULUUN2GZAf6afiDKyZkBaWm+kYqhmQOeKEpSTjGZAqlyVngF9ZkA3ffertnlmQDWExPH/P2ZAsUOEQDAuZkAr/t/UfwNmQPTy9zRw52VAOsRYXTnFZUA5lfxAY5NlQArlqs5vdWVAyEeNxUZUZUC2cfGflDRlQGH65q58F2VAuCISdyDqZEDPfvtAsclkQKhc3A7cqGRAqTx6GjiLZEA/0ujoQGJkQMV0GihMRmRAXY538h0eZEAdEOeSJQpkQI3E9Lsz8GNAR12KyOHaY0CQpKLWT8tjQJXLF2rqtmNAebVp55WSY0BZUlCD1IZjQHq8LRP1YmNAjw1p5e9TY0BpJG+tezFjQCyilFLNBmNAou9TiurvYkAYZ5EIZsliQMl0y1+3omJAHiPm0H2NYkDXPHvAeGhiQEwro2HKTWJAMtjSPtYvYkB11rM+1BZiQETYrQAP9mFAKFfE2v/eYUARdqkc1sFhQJzgm4zCcGFAMCaKI9pRYUCbnqap+SthQC1zDsS7DmFA6Xvr9bD6YEAoQ1XWF8BgQBwu4fTooGBAz4Aott+CYEBuAq7qCmlgQEpijhJNTWBAdZhst8IUYED9+ImCEtZfQIS7hTOunV9AK/XQsZ9cX0C5K0J81M1eQHwYX8fWml5A9ZAU8AxDXkDB97HF9AVeQKmzj+TCwV1AX166hcY8XUATkNwvIf1cQJwcVs3Lx1xAPtbuoViTXEBiMuXgaAhcQGi+h+niy1tAhw8A0MVbW0CgvrwHTA9bQC03gZxF1FpAzqM6z92dWkB9sfrno2FaQCK2DFjePlpA82uwppndWUALAQo8bHZZQDPAYu/9NFlAuU1zmpYQWUDGLBGoXeVYQHE5o5f1slhA1JXG8EaBWECpYxOx7lFYQGFRnFd2SFhAf+ymTmNNWEApe8IpRUFYQHHKI5LuSFhAcbMjBbVoWEAV2JMdEXZYQEMg1sMco1hAWAQreCINWUD06jRJIkVZQBozlS2gOFlAQfa+D/wgWUA/DwciY0ZZQCtmetCENVlAcGgtr/YUWUBEr7gm30BZQBZLSUkzC1lArWU9jJTRWEDV0t6rLpVYQNXZGYAWWFhAigiIMy/wV0BCRnkqm2hXQOlxV3bxqVZAhgVnGklwVkBYErunXgxWQFeftaAxAFZAB5XPdrvmVUBF79T/QNBVQP+68JZ00FVAx8T32W26VUCBU0VO/LJVQBjZ9ruepVVA0SowBs51VUD6FQgiGzpVQA+TuYBeNlVAhYebrov8VEDacZ9+MdFUQGa8iw58vlRA00pIpMyeVEBdY4l1jUNUQPEu8VZFHFRAES7gUIn7U0A+93ckHllTQPqUj1MuOlNA7sZJTez7UkCSde1THNpSQHnuJlDxsFJAyVzztG5/UkDkYnvzkn1SQF5QEt2NcFJAoSM0Z3l1UkAlExgq/DVSQEJ+S5CT11FAte/J8iKMUUBweia6RCRRQP6uEFjb/VBAXwcVAS/FUEBa8AtQa5hQQOBq0f5TmVBAEJb0bmBpUED4ZOyBNiRQQEiAODZuYU9AleCx09XqTkCliw+LMxNOQHLciZqeDE5AjSbRwxicTEDAbrGaLVNMQMi12jO7p0tAb2ZE7CURS0By8FGUa+dKQO4PoVnx/klAiJuDxO6HSUBieqY0GjhJQJv2JWLLDklA7XAI4AaJSEBKO7uCFv9HQCA9gLCGPkhAJti4Lo6RSEA05cFHOg9IQOZf5UtjyUdA8z+zthLZR0CMBO8D/jxHQO0WtndmxkZAuKbPUMYURkAs4Z1ZAQRFQIWga5LdsURAUutzTx6uQ0DiE6aHZ49CQG1Olk2e4UFAEwhgSpTfQUCcWI2cAFJCQGQrnrxyz0JAilqfhqzjQkD0PWO9Z85CQGqw8BeWh0JA6xO3Wuw9QkBvQpZfDydCQOnkXaMwmkBAyudrqK7RQEDpLV0A8t9AQPfNTl5mgkFAzAbAfEBbQUDf1MGbEUhBQAxvRnSXaUFANSkviTZ/QUBeupYFteBAQO5YBFuu/UBAueMKvq0LQUAfypLc8gRBQLr3j0P070BAZ9jM9kpKQUDcOXUzhBFBQBzDzhtwdEBAMgowS/TKP0DtGYKq1xM/QFSA9rVgXT5Aaw0pXV8+PkA=\"},\"shape\":[211],\"dtype\":\"float64\",\"order\":\"little\"}]]}}},\"view\":{\"type\":\"object\",\"name\":\"CDSView\",\"id\":\"p1826\",\"attributes\":{\"filter\":{\"type\":\"object\",\"name\":\"AllIndices\",\"id\":\"p1827\"}}},\"glyph\":{\"type\":\"object\",\"name\":\"Line\",\"id\":\"p1822\",\"attributes\":{\"x\":{\"type\":\"field\",\"field\":\"x\"},\"y\":{\"type\":\"field\",\"field\":\"y\"},\"line_color\":\"red\",\"line_width\":2}},\"nonselection_glyph\":{\"type\":\"object\",\"name\":\"Line\",\"id\":\"p1823\",\"attributes\":{\"x\":{\"type\":\"field\",\"field\":\"x\"},\"y\":{\"type\":\"field\",\"field\":\"y\"},\"line_color\":\"red\",\"line_alpha\":0.1,\"line_width\":2}},\"muted_glyph\":{\"type\":\"object\",\"name\":\"Line\",\"id\":\"p1824\",\"attributes\":{\"x\":{\"type\":\"field\",\"field\":\"x\"},\"y\":{\"type\":\"field\",\"field\":\"y\"},\"line_color\":\"red\",\"line_alpha\":0.2,\"line_width\":2}}}},{\"type\":\"object\",\"name\":\"GlyphRenderer\",\"id\":\"p1835\",\"attributes\":{\"data_source\":{\"type\":\"object\",\"name\":\"ColumnDataSource\",\"id\":\"p1829\",\"attributes\":{\"selected\":{\"type\":\"object\",\"name\":\"Selection\",\"id\":\"p1830\",\"attributes\":{\"indices\":[],\"line_indices\":[]}},\"selection_policy\":{\"type\":\"object\",\"name\":\"UnionRenderers\",\"id\":\"p1831\"},\"data\":{\"type\":\"map\",\"entries\":[[\"x0\",[24.40000009536743]],[\"y0\",[0.0]],[\"x1\",[24.40000009536743]],[\"y1\",[486.99]]]}}},\"view\":{\"type\":\"object\",\"name\":\"CDSView\",\"id\":\"p1836\",\"attributes\":{\"filter\":{\"type\":\"object\",\"name\":\"AllIndices\",\"id\":\"p1837\"}}},\"glyph\":{\"type\":\"object\",\"name\":\"Segment\",\"id\":\"p1832\",\"attributes\":{\"x0\":{\"type\":\"field\",\"field\":\"x0\"},\"y0\":{\"type\":\"field\",\"field\":\"y0\"},\"x1\":{\"type\":\"field\",\"field\":\"x1\"},\"y1\":{\"type\":\"field\",\"field\":\"y1\"},\"line_color\":{\"type\":\"value\",\"value\":\"lightblue\"},\"line_width\":{\"type\":\"value\",\"value\":3}}},\"nonselection_glyph\":{\"type\":\"object\",\"name\":\"Segment\",\"id\":\"p1833\",\"attributes\":{\"x0\":{\"type\":\"field\",\"field\":\"x0\"},\"y0\":{\"type\":\"field\",\"field\":\"y0\"},\"x1\":{\"type\":\"field\",\"field\":\"x1\"},\"y1\":{\"type\":\"field\",\"field\":\"y1\"},\"line_color\":{\"type\":\"value\",\"value\":\"lightblue\"},\"line_alpha\":{\"type\":\"value\",\"value\":0.1},\"line_width\":{\"type\":\"value\",\"value\":3}}},\"muted_glyph\":{\"type\":\"object\",\"name\":\"Segment\",\"id\":\"p1834\",\"attributes\":{\"x0\":{\"type\":\"field\",\"field\":\"x0\"},\"y0\":{\"type\":\"field\",\"field\":\"y0\"},\"x1\":{\"type\":\"field\",\"field\":\"x1\"},\"y1\":{\"type\":\"field\",\"field\":\"y1\"},\"line_color\":{\"type\":\"value\",\"value\":\"lightblue\"},\"line_alpha\":{\"type\":\"value\",\"value\":0.2},\"line_width\":{\"type\":\"value\",\"value\":3}}}}},{\"type\":\"object\",\"name\":\"GlyphRenderer\",\"id\":\"p1844\",\"attributes\":{\"data_source\":{\"type\":\"object\",\"name\":\"ColumnDataSource\",\"id\":\"p1838\",\"attributes\":{\"selected\":{\"type\":\"object\",\"name\":\"Selection\",\"id\":\"p1839\",\"attributes\":{\"indices\":[],\"line_indices\":[]}},\"selection_policy\":{\"type\":\"object\",\"name\":\"UnionRenderers\",\"id\":\"p1840\"},\"data\":{\"type\":\"map\",\"entries\":[[\"x0\",[25.90000009536743]],[\"y0\",[0.0]],[\"x1\",[25.90000009536743]],[\"y1\",[486.99]]]}}},\"view\":{\"type\":\"object\",\"name\":\"CDSView\",\"id\":\"p1845\",\"attributes\":{\"filter\":{\"type\":\"object\",\"name\":\"AllIndices\",\"id\":\"p1846\"}}},\"glyph\":{\"type\":\"object\",\"name\":\"Segment\",\"id\":\"p1841\",\"attributes\":{\"x0\":{\"type\":\"field\",\"field\":\"x0\"},\"y0\":{\"type\":\"field\",\"field\":\"y0\"},\"x1\":{\"type\":\"field\",\"field\":\"x1\"},\"y1\":{\"type\":\"field\",\"field\":\"y1\"},\"line_color\":{\"type\":\"value\",\"value\":\"darkseagreen\"}}},\"nonselection_glyph\":{\"type\":\"object\",\"name\":\"Segment\",\"id\":\"p1842\",\"attributes\":{\"x0\":{\"type\":\"field\",\"field\":\"x0\"},\"y0\":{\"type\":\"field\",\"field\":\"y0\"},\"x1\":{\"type\":\"field\",\"field\":\"x1\"},\"y1\":{\"type\":\"field\",\"field\":\"y1\"},\"line_color\":{\"type\":\"value\",\"value\":\"darkseagreen\"},\"line_alpha\":{\"type\":\"value\",\"value\":0.1}}},\"muted_glyph\":{\"type\":\"object\",\"name\":\"Segment\",\"id\":\"p1843\",\"attributes\":{\"x0\":{\"type\":\"field\",\"field\":\"x0\"},\"y0\":{\"type\":\"field\",\"field\":\"y0\"},\"x1\":{\"type\":\"field\",\"field\":\"x1\"},\"y1\":{\"type\":\"field\",\"field\":\"y1\"},\"line_color\":{\"type\":\"value\",\"value\":\"darkseagreen\"},\"line_alpha\":{\"type\":\"value\",\"value\":0.2}}}}},{\"type\":\"object\",\"name\":\"GlyphRenderer\",\"id\":\"p1853\",\"attributes\":{\"data_source\":{\"type\":\"object\",\"name\":\"ColumnDataSource\",\"id\":\"p1847\",\"attributes\":{\"selected\":{\"type\":\"object\",\"name\":\"Selection\",\"id\":\"p1848\",\"attributes\":{\"indices\":[],\"line_indices\":[]}},\"selection_policy\":{\"type\":\"object\",\"name\":\"UnionRenderers\",\"id\":\"p1849\"},\"data\":{\"type\":\"map\",\"entries\":[[\"x0\",[22.90000009536743]],[\"y0\",[0.0]],[\"x1\",[22.90000009536743]],[\"y1\",[486.99]]]}}},\"view\":{\"type\":\"object\",\"name\":\"CDSView\",\"id\":\"p1854\",\"attributes\":{\"filter\":{\"type\":\"object\",\"name\":\"AllIndices\",\"id\":\"p1855\"}}},\"glyph\":{\"type\":\"object\",\"name\":\"Segment\",\"id\":\"p1850\",\"attributes\":{\"x0\":{\"type\":\"field\",\"field\":\"x0\"},\"y0\":{\"type\":\"field\",\"field\":\"y0\"},\"x1\":{\"type\":\"field\",\"field\":\"x1\"},\"y1\":{\"type\":\"field\",\"field\":\"y1\"},\"line_color\":{\"type\":\"value\",\"value\":\"darkseagreen\"}}},\"nonselection_glyph\":{\"type\":\"object\",\"name\":\"Segment\",\"id\":\"p1851\",\"attributes\":{\"x0\":{\"type\":\"field\",\"field\":\"x0\"},\"y0\":{\"type\":\"field\",\"field\":\"y0\"},\"x1\":{\"type\":\"field\",\"field\":\"x1\"},\"y1\":{\"type\":\"field\",\"field\":\"y1\"},\"line_color\":{\"type\":\"value\",\"value\":\"darkseagreen\"},\"line_alpha\":{\"type\":\"value\",\"value\":0.1}}},\"muted_glyph\":{\"type\":\"object\",\"name\":\"Segment\",\"id\":\"p1852\",\"attributes\":{\"x0\":{\"type\":\"field\",\"field\":\"x0\"},\"y0\":{\"type\":\"field\",\"field\":\"y0\"},\"x1\":{\"type\":\"field\",\"field\":\"x1\"},\"y1\":{\"type\":\"field\",\"field\":\"y1\"},\"line_color\":{\"type\":\"value\",\"value\":\"darkseagreen\"},\"line_alpha\":{\"type\":\"value\",\"value\":0.2}}}}},{\"type\":\"object\",\"name\":\"GlyphRenderer\",\"id\":\"p1862\",\"attributes\":{\"data_source\":{\"type\":\"object\",\"name\":\"ColumnDataSource\",\"id\":\"p1856\",\"attributes\":{\"selected\":{\"type\":\"object\",\"name\":\"Selection\",\"id\":\"p1857\",\"attributes\":{\"indices\":[],\"line_indices\":[]}},\"selection_policy\":{\"type\":\"object\",\"name\":\"UnionRenderers\",\"id\":\"p1858\"},\"data\":{\"type\":\"map\",\"entries\":[[\"x\",[24.40000009536743]],[\"y\",[486.99]],[\"size\",[20]]]}}},\"view\":{\"type\":\"object\",\"name\":\"CDSView\",\"id\":\"p1863\",\"attributes\":{\"filter\":{\"type\":\"object\",\"name\":\"AllIndices\",\"id\":\"p1864\"}}},\"glyph\":{\"type\":\"object\",\"name\":\"Scatter\",\"id\":\"p1859\",\"attributes\":{\"x\":{\"type\":\"field\",\"field\":\"x\"},\"y\":{\"type\":\"field\",\"field\":\"y\"},\"size\":{\"type\":\"field\",\"field\":\"size\"},\"line_color\":{\"type\":\"value\",\"value\":\"lightblue\"},\"line_width\":{\"type\":\"value\",\"value\":3},\"fill_color\":{\"type\":\"value\",\"value\":null},\"marker\":{\"type\":\"value\",\"value\":\"square_cross\"}}},\"nonselection_glyph\":{\"type\":\"object\",\"name\":\"Scatter\",\"id\":\"p1860\",\"attributes\":{\"x\":{\"type\":\"field\",\"field\":\"x\"},\"y\":{\"type\":\"field\",\"field\":\"y\"},\"size\":{\"type\":\"field\",\"field\":\"size\"},\"line_color\":{\"type\":\"value\",\"value\":\"lightblue\"},\"line_alpha\":{\"type\":\"value\",\"value\":0.1},\"line_width\":{\"type\":\"value\",\"value\":3},\"fill_color\":{\"type\":\"value\",\"value\":null},\"fill_alpha\":{\"type\":\"value\",\"value\":0.1},\"hatch_alpha\":{\"type\":\"value\",\"value\":0.1},\"marker\":{\"type\":\"value\",\"value\":\"square_cross\"}}},\"muted_glyph\":{\"type\":\"object\",\"name\":\"Scatter\",\"id\":\"p1861\",\"attributes\":{\"x\":{\"type\":\"field\",\"field\":\"x\"},\"y\":{\"type\":\"field\",\"field\":\"y\"},\"size\":{\"type\":\"field\",\"field\":\"size\"},\"line_color\":{\"type\":\"value\",\"value\":\"lightblue\"},\"line_alpha\":{\"type\":\"value\",\"value\":0.2},\"line_width\":{\"type\":\"value\",\"value\":3},\"fill_color\":{\"type\":\"value\",\"value\":null},\"fill_alpha\":{\"type\":\"value\",\"value\":0.2},\"hatch_alpha\":{\"type\":\"value\",\"value\":0.2},\"marker\":{\"type\":\"value\",\"value\":\"square_cross\"}}}}}],\"toolbar\":{\"type\":\"object\",\"name\":\"Toolbar\",\"id\":\"p1751\",\"attributes\":{\"tools\":[{\"type\":\"object\",\"name\":\"PanTool\",\"id\":\"p1766\"},{\"type\":\"object\",\"name\":\"WheelZoomTool\",\"id\":\"p1767\",\"attributes\":{\"renderers\":\"auto\"}},{\"type\":\"object\",\"name\":\"BoxZoomTool\",\"id\":\"p1768\",\"attributes\":{\"overlay\":{\"type\":\"object\",\"name\":\"BoxAnnotation\",\"id\":\"p1769\",\"attributes\":{\"syncable\":false,\"level\":\"overlay\",\"visible\":false,\"left\":{\"type\":\"number\",\"value\":\"nan\"},\"right\":{\"type\":\"number\",\"value\":\"nan\"},\"top\":{\"type\":\"number\",\"value\":\"nan\"},\"bottom\":{\"type\":\"number\",\"value\":\"nan\"},\"left_units\":\"canvas\",\"right_units\":\"canvas\",\"top_units\":\"canvas\",\"bottom_units\":\"canvas\",\"line_color\":\"black\",\"line_alpha\":1.0,\"line_width\":2,\"line_dash\":[4,4],\"fill_color\":\"lightgrey\",\"fill_alpha\":0.5}}}},{\"type\":\"object\",\"name\":\"SaveTool\",\"id\":\"p1774\"},{\"type\":\"object\",\"name\":\"ResetTool\",\"id\":\"p1775\"},{\"type\":\"object\",\"name\":\"HelpTool\",\"id\":\"p1776\"},{\"type\":\"object\",\"name\":\"HoverTool\",\"id\":\"p1808\",\"attributes\":{\"renderers\":\"auto\",\"tooltips\":[[\"Y-val\",\"@y{0.00}\"]]}}]}},\"left\":[{\"type\":\"object\",\"name\":\"LinearAxis\",\"id\":\"p1761\",\"attributes\":{\"ticker\":{\"type\":\"object\",\"name\":\"BasicTicker\",\"id\":\"p1762\",\"attributes\":{\"mantissas\":[1,2,5]}},\"formatter\":{\"type\":\"object\",\"name\":\"BasicTickFormatter\",\"id\":\"p1763\"},\"axis_label\":\"km/h\",\"axis_label_standoff\":10,\"axis_label_text_color\":\"#E0E0E0\",\"axis_label_text_font\":\"Helvetica\",\"axis_label_text_font_size\":\"1.25em\",\"axis_label_text_font_style\":\"normal\",\"major_label_policy\":{\"type\":\"object\",\"name\":\"AllLabels\",\"id\":\"p1764\"},\"major_label_text_color\":\"#E0E0E0\",\"major_label_text_font\":\"Helvetica\",\"major_label_text_font_size\":\"1.025em\",\"axis_line_color\":\"#E0E0E0\",\"axis_line_alpha\":0,\"major_tick_line_color\":\"#E0E0E0\",\"major_tick_line_alpha\":0,\"minor_tick_line_color\":\"#E0E0E0\",\"minor_tick_line_alpha\":0}},{\"type\":\"object\",\"name\":\"LinearAxis\",\"id\":\"p1779\",\"attributes\":{\"y_range_name\":\"altitudeFt\",\"ticker\":{\"type\":\"object\",\"name\":\"BasicTicker\",\"id\":\"p1780\",\"attributes\":{\"mantissas\":[1,2,5]}},\"formatter\":{\"type\":\"object\",\"name\":\"BasicTickFormatter\",\"id\":\"p1781\"},\"axis_label\":\"Alt (ft)\",\"axis_label_standoff\":10,\"axis_label_text_color\":\"#E0E0E0\",\"axis_label_text_font\":\"Helvetica\",\"axis_label_text_font_size\":\"1.25em\",\"axis_label_text_font_style\":\"normal\",\"major_label_policy\":{\"type\":\"object\",\"name\":\"AllLabels\",\"id\":\"p1782\"},\"major_label_text_color\":\"#E0E0E0\",\"major_label_text_font\":\"Helvetica\",\"major_label_text_font_size\":\"1.025em\",\"axis_line_color\":\"#E0E0E0\",\"axis_line_alpha\":0,\"major_tick_line_color\":\"#E0E0E0\",\"major_tick_line_alpha\":0,\"minor_tick_line_color\":\"#E0E0E0\",\"minor_tick_line_alpha\":0}},{\"type\":\"object\",\"name\":\"LinearAxis\",\"id\":\"p1783\",\"attributes\":{\"y_range_name\":\"angle\",\"ticker\":{\"type\":\"object\",\"name\":\"BasicTicker\",\"id\":\"p1784\",\"attributes\":{\"mantissas\":[1,2,5]}},\"formatter\":{\"type\":\"object\",\"name\":\"BasicTickFormatter\",\"id\":\"p1785\"},\"axis_label\":\"angle\",\"axis_label_standoff\":10,\"axis_label_text_color\":\"#E0E0E0\",\"axis_label_text_font\":\"Helvetica\",\"axis_label_text_font_size\":\"1.25em\",\"axis_label_text_font_style\":\"normal\",\"major_label_policy\":{\"type\":\"object\",\"name\":\"AllLabels\",\"id\":\"p1786\"},\"major_label_text_color\":\"#E0E0E0\",\"major_label_text_font\":\"Helvetica\",\"major_label_text_font_size\":\"1.025em\",\"axis_line_color\":\"#E0E0E0\",\"axis_line_alpha\":0,\"major_tick_line_color\":\"#E0E0E0\",\"major_tick_line_alpha\":0,\"minor_tick_line_color\":\"#E0E0E0\",\"minor_tick_line_alpha\":0}}],\"below\":[{\"type\":\"object\",\"name\":\"LinearAxis\",\"id\":\"p1756\",\"attributes\":{\"ticker\":{\"type\":\"object\",\"name\":\"BasicTicker\",\"id\":\"p1757\",\"attributes\":{\"mantissas\":[1,2,5]}},\"formatter\":{\"type\":\"object\",\"name\":\"BasicTickFormatter\",\"id\":\"p1758\"},\"axis_label\":\"seconds from exit\",\"axis_label_standoff\":10,\"axis_label_text_color\":\"#E0E0E0\",\"axis_label_text_font\":\"Helvetica\",\"axis_label_text_font_size\":\"1.25em\",\"axis_label_text_font_style\":\"normal\",\"major_label_policy\":{\"type\":\"object\",\"name\":\"AllLabels\",\"id\":\"p1759\"},\"major_label_text_color\":\"#E0E0E0\",\"major_label_text_font\":\"Helvetica\",\"major_label_text_font_size\":\"1.025em\",\"axis_line_color\":\"#E0E0E0\",\"axis_line_alpha\":0,\"major_tick_line_color\":\"#E0E0E0\",\"major_tick_line_alpha\":0,\"minor_tick_line_color\":\"#E0E0E0\",\"minor_tick_line_alpha\":0}}],\"center\":[{\"type\":\"object\",\"name\":\"Grid\",\"id\":\"p1760\",\"attributes\":{\"axis\":{\"id\":\"p1756\"},\"grid_line_color\":\"#E0E0E0\",\"grid_line_alpha\":0.25}},{\"type\":\"object\",\"name\":\"Grid\",\"id\":\"p1765\",\"attributes\":{\"dimension\":1,\"axis\":{\"id\":\"p1761\"},\"grid_line_color\":\"#E0E0E0\",\"grid_line_alpha\":0.25}},{\"type\":\"object\",\"name\":\"Legend\",\"id\":\"p1796\",\"attributes\":{\"border_line_alpha\":0,\"background_fill_color\":\"#20262B\",\"background_fill_alpha\":0.25,\"label_text_color\":\"#E0E0E0\",\"label_text_font\":\"Helvetica\",\"label_text_font_size\":\"1.025em\",\"label_standoff\":8,\"glyph_width\":15,\"spacing\":8,\"items\":[{\"type\":\"object\",\"name\":\"LegendItem\",\"id\":\"p1797\",\"attributes\":{\"label\":{\"type\":\"value\",\"value\":\"Alt (ft)\"},\"renderers\":[{\"id\":\"p1793\"}]}},{\"type\":\"object\",\"name\":\"LegendItem\",\"id\":\"p1807\",\"attributes\":{\"label\":{\"type\":\"value\",\"value\":\"angle\"},\"renderers\":[{\"id\":\"p1804\"}]}},{\"type\":\"object\",\"name\":\"LegendItem\",\"id\":\"p1818\",\"attributes\":{\"label\":{\"type\":\"value\",\"value\":\"speed\"},\"renderers\":[{\"id\":\"p1815\"}]}},{\"type\":\"object\",\"name\":\"LegendItem\",\"id\":\"p1828\",\"attributes\":{\"label\":{\"type\":\"value\",\"value\":\"H-speed\"},\"renderers\":[{\"id\":\"p1825\"}]}}]}}],\"background_fill_color\":\"#20262B\",\"border_fill_color\":\"#15191C\"}}]}};\n",
       "  const render_items = [{\"docid\":\"0446f68c-eaf4-4ab8-9f61-e86f5b5b4a83\",\"roots\":{\"p1742\":\"e617a6b7-8362-44ca-9a57-5e1eee4069e7\"},\"root_ids\":[\"p1742\"]}];\n",
       "  void root.Bokeh.embed.embed_items_notebook(docs_json, render_items);\n",
       "  }\n",
       "  if (root.Bokeh !== undefined) {\n",
       "    embed_document(root);\n",
       "  } else {\n",
       "    let attempts = 0;\n",
       "    const timer = setInterval(function(root) {\n",
       "      if (root.Bokeh !== undefined) {\n",
       "        clearInterval(timer);\n",
       "        embed_document(root);\n",
       "      } else {\n",
       "        attempts++;\n",
       "        if (attempts > 100) {\n",
       "          clearInterval(timer);\n",
       "          console.log(\"Bokeh: ERROR: Unable to run BokehJS code because BokehJS library is missing\");\n",
       "        }\n",
       "      }\n",
       "    }, 10, root)\n",
       "  }\n",
       "})(window);"
      ],
      "application/vnd.bokehjs_exec.v0+json": ""
     },
     "metadata": {
      "application/vnd.bokehjs_exec.v0+json": {
       "id": "p1742"
      }
     },
     "output_type": "display_data"
    },
    {
     "data": {
      "application/vnd.jupyter.widget-view+json": {
       "model_id": "177e5803774a41f8bdc256edd4bcd507",
       "version_major": 2,
       "version_minor": 0
      },
      "text/plain": [
       "HTML(value='<hr><h1><span style=\"color: #0f0\">19-22-17-ND jump - 🟢 valid - score = 515.66 km/h</span></h1>')"
      ]
     },
     "metadata": {},
     "output_type": "display_data"
    },
    {
     "data": {
      "application/vnd.jupyter.widget-view+json": {
       "model_id": "f2bd2cfa58824ad2aa80ee568b65261e",
       "version_major": 2,
       "version_minor": 0
      },
      "text/plain": [
       "HTML(value='<h3>Max speed = 523; exit at 4312 m (14149 ft), end scoring window at 2056 m (6748 ft)')"
      ]
     },
     "metadata": {},
     "output_type": "display_data"
    },
    {
     "data": {
      "application/vnd.jupyter.widget-view+json": {
       "model_id": "315702aaaed04f2a8c49fa59a84465fa",
       "version_major": 2,
       "version_minor": 0
      },
      "text/plain": [
       "HTML(value='</h3>')"
      ]
     },
     "metadata": {},
     "output_type": "display_data"
    },
    {
     "data": {
      "text/html": [
       "<div>\n",
       "<style scoped>\n",
       "    .dataframe tbody tr th:only-of-type {\n",
       "        vertical-align: middle;\n",
       "    }\n",
       "\n",
       "    .dataframe tbody tr th {\n",
       "        vertical-align: top;\n",
       "    }\n",
       "\n",
       "    .dataframe thead th {\n",
       "        text-align: right;\n",
       "    }\n",
       "</style>\n",
       "<table border=\"1\" class=\"dataframe\">\n",
       "  <thead>\n",
       "    <tr style=\"text-align: right;\">\n",
       "      <th></th>\n",
       "      <th>time</th>\n",
       "      <th>vKMh</th>\n",
       "      <th>hKMh</th>\n",
       "      <th>speedAngle</th>\n",
       "      <th>netVectorKMh</th>\n",
       "      <th>altitude (ft)</th>\n",
       "    </tr>\n",
       "  </thead>\n",
       "  <tbody>\n",
       "    <tr>\n",
       "      <th></th>\n",
       "      <td>5.0</td>\n",
       "      <td>189</td>\n",
       "      <td>142</td>\n",
       "      <td>53.2</td>\n",
       "      <td>236</td>\n",
       "      <td>13705</td>\n",
       "    </tr>\n",
       "    <tr>\n",
       "      <th></th>\n",
       "      <td>10.0</td>\n",
       "      <td>335</td>\n",
       "      <td>90</td>\n",
       "      <td>74.9</td>\n",
       "      <td>347</td>\n",
       "      <td>12492</td>\n",
       "    </tr>\n",
       "    <tr>\n",
       "      <th></th>\n",
       "      <td>15.0</td>\n",
       "      <td>438</td>\n",
       "      <td>72</td>\n",
       "      <td>80.7</td>\n",
       "      <td>444</td>\n",
       "      <td>10711</td>\n",
       "    </tr>\n",
       "    <tr>\n",
       "      <th></th>\n",
       "      <td>20.0</td>\n",
       "      <td>500</td>\n",
       "      <td>62</td>\n",
       "      <td>83.0</td>\n",
       "      <td>503</td>\n",
       "      <td>8556</td>\n",
       "    </tr>\n",
       "    <tr>\n",
       "      <th></th>\n",
       "      <td>25.0</td>\n",
       "      <td>523</td>\n",
       "      <td>43</td>\n",
       "      <td>85.3</td>\n",
       "      <td>525</td>\n",
       "      <td>6778</td>\n",
       "    </tr>\n",
       "  </tbody>\n",
       "</table>\n",
       "</div>"
      ],
      "text/plain": [
       "  time  vKMh  hKMh  speedAngle  netVectorKMh  altitude (ft)\n",
       "   5.0   189   142        53.2           236          13705\n",
       "  10.0   335    90        74.9           347          12492\n",
       "  15.0   438    72        80.7           444          10711\n",
       "  20.0   500    62        83.0           503           8556\n",
       "  25.0   523    43        85.3           525           6778"
      ]
     },
     "metadata": {},
     "output_type": "display_data"
    },
    {
     "data": {
      "text/html": [
       "\n",
       "  <div id=\"b4cabbe1-eb7d-47a3-8e29-e798091cf5b6\" data-root-id=\"p1883\" style=\"display: contents;\"></div>\n"
      ]
     },
     "metadata": {},
     "output_type": "display_data"
    },
    {
     "data": {
      "application/javascript": [
       "(function(root) {\n",
       "  function embed_document(root) {\n",
       "  const docs_json = {\"827f4ff2-486e-4ebb-9778-ebff7b80db95\":{\"version\":\"3.4.1\",\"title\":\"Bokeh Application\",\"roots\":[{\"type\":\"object\",\"name\":\"Figure\",\"id\":\"p1883\",\"attributes\":{\"width\":900,\"height\":500,\"x_range\":{\"type\":\"object\",\"name\":\"Range1d\",\"id\":\"p1893\",\"attributes\":{\"end\":35.0}},\"y_range\":{\"type\":\"object\",\"name\":\"Range1d\",\"id\":\"p1894\",\"attributes\":{\"end\":550.0}},\"x_scale\":{\"type\":\"object\",\"name\":\"LinearScale\",\"id\":\"p1895\"},\"y_scale\":{\"type\":\"object\",\"name\":\"LinearScale\",\"id\":\"p1896\"},\"extra_y_ranges\":{\"type\":\"map\",\"entries\":[[\"altitudeFt\",{\"type\":\"object\",\"name\":\"Range1d\",\"id\":\"p1918\",\"attributes\":{\"start\":6277.5823048,\"end\":14649.5792744}}],[\"angle\",{\"type\":\"object\",\"name\":\"Range1d\",\"id\":\"p1919\",\"attributes\":{\"end\":90.0}}]]},\"title\":{\"type\":\"object\",\"name\":\"Title\",\"id\":\"p1886\",\"attributes\":{\"text\":\"19-22-17-ND\",\"text_color\":\"#E0E0E0\",\"text_font\":\"Helvetica\",\"text_font_size\":\"1.15em\"}},\"outline_line_color\":\"#E0E0E0\",\"outline_line_alpha\":0.25,\"renderers\":[{\"type\":\"object\",\"name\":\"GlyphRenderer\",\"id\":\"p1934\",\"attributes\":{\"y_range_name\":\"altitudeFt\",\"data_source\":{\"type\":\"object\",\"name\":\"ColumnDataSource\",\"id\":\"p1928\",\"attributes\":{\"selected\":{\"type\":\"object\",\"name\":\"Selection\",\"id\":\"p1929\",\"attributes\":{\"indices\":[],\"line_indices\":[]}},\"selection_policy\":{\"type\":\"object\",\"name\":\"UnionRenderers\",\"id\":\"p1930\"},\"data\":{\"type\":\"map\",\"entries\":[[\"x\",{\"type\":\"ndarray\",\"array\":{\"type\":\"bytes\",\"data\":\"AAAAAAAAAAAAAAAAmJnJPwAAAACZmdk/AAAAADMz4z8AAACAmZnpPwAAAAAAAPA/AAAAADMz8z8AAABAZmb2PwAAAICZmfk/AAAAwMzM/D8AAAAAAAAAQAAAAICZmQFAAAAAIDMzA0AAAADAzMwEQAAAAGBmZgZAAAAAAAAACEAAAACAmZkJQAAAACAzMwtAAAAAwMzMDEAAAABgZmYOQAAAAAAAABBAAAAAwMzMEEAAAACQmZkRQAAAAGBmZhJAAAAAMDMzE0AAAAAAAAAUQAAAAMDMzBRAAAAAkJmZFUAAAABgZmYWQAAAADAzMxdAAAAAAAAAGEAAAADAzMwYQAAAAJCZmRlAAAAAYGZmGkAAAAAwMzMbQAAAAAAAABxAAAAAwMzMHEAAAACQmZkdQAAAAGBmZh5AAAAAMDMzH0AAAAAAAAAgQAAAAGBmZiBAAAAAyMzMIEAAAAAwMzMhQAAAAJiZmSFAAAAAAAAAIkAAAABgZmYiQAAAAMjMzCJAAAAAMDMzI0AAAACYmZkjQAAAAAAAACRAAAAAYGZmJEAAAADIzMwkQAAAADAzMyVAAAAAmJmZJUAAAAAAAAAmQAAAAGBmZiZAAAAAyMzMJkAAAAAwMzMnQAAAAJiZmSdAAAAAAAAAKEAAAABgZmYoQAAAAMjMzChAAAAAMDMzKUAAAACYmZkpQAAAAAAAACpAAAAAYGZmKkAAAADIzMwqQAAAADAzMytAAAAAmJmZK0AAAAAAAAAsQAAAAGBmZixAAAAAyMzMLEAAAAAwMzMtQAAAAJiZmS1AAAAAAAAALkAAAABgZmYuQAAAAMjMzC5AAAAAMDMzL0AAAACYmZkvQAAAAAAAADBAAAAAMDMzMEAAAABkZmYwQAAAAJiZmTBAAAAAzMzMMEAAAAAAAAAxQAAAADAzMzFAAAAAZGZmMUAAAACYmZkxQAAAAMzMzDFAAAAAAAAAMkAAAAAwMzMyQAAAAGRmZjJAAAAAmJmZMkAAAADMzMwyQAAAAAAAADNAAAAAMDMzM0AAAABkZmYzQAAAAJiZmTNAAAAAzMzMM0AAAAAAAAA0QAAAADAzMzRAAAAAZGZmNEAAAACYmZk0QAAAAMzMzDRAAAAAAAAANUAAAAAwMzM1QAAAAGRmZjVAAAAAmJmZNUAAAADMzMw1QAAAAAAAADZAAAAAMDMzNkAAAABkZmY2QAAAAJiZmTZAAAAAzMzMNkAAAAAAAAA3QAAAADAzMzdAAAAAZGZmN0AAAACYmZk3QAAAAMzMzDdA\"},\"shape\":[120],\"dtype\":\"float64\",\"order\":\"little\"}],[\"y\",{\"type\":\"ndarray\",\"array\":{\"type\":\"bytes\",\"data\":\"tN2pJcqiy0D1L+6rF6LLQOwXkc0yoctAzLfj8uSfy0AFwYgicZ3LQBn/PuM6mstAWF2HapKWy0A0bVqE/ZHLQCq7qv13jMtAR40JMS+Gy0CUSbKzDX/LQA8tsp0/d8tAJt3gVbhuy0BqtGZ1hGXLQK91TlinW8tABEyFHRtRy0CZsQ2BCEbLQENOTqM/OstAgXPr2ssty0DSrdf0qCDLQHoIPmHkEstAb75slm4Ey0DAtn76T/XKQFSCtLWc5cpAa4nwikvVykBDEqxgWsTKQGbUxiK/sspA+6b634ugykBfBDLguY3KQKy6ou9ZespA7NLQUG1mykDRWnYt3lHKQAvhLIC0PMpApEwPr/gmykBtHFZdvBDKQPwQZbn2+clAypTFs6riyUC/2UGAx8rJQHtDhvpasslA+o3AaXOZyUAlDSTe+H/JQAuoy73zZclA7Ed5nHhLyUDeW+xRczDJQFkK3BX1FMlAdGVQbQD5yEDpP7ULj9zIQFFabh+Yv8hAQjENHiGiyECJZTOHNITIQJ5hakvVZchARN84hAVHyEBSwxJqwSfIQKG3Hb8UCMhAd0alIu/nx0By01VwXsfHQBSOaiJ1psdA0oH2NBGFx0DInphQPGPHQA2zhkEHQcdAh84hX2gex0ApCk9DV/vGQO3/0ljp18ZA5fwDmxG0xkAs8YCy2Y/GQM/DZAVKa8ZAnze672VGxkAqJso5HCHGQDnsY6qF+8VADxTT4JHVxUALd3gZX6/FQPhWf9/SiMVAQhXt4O5hxUDnscEdszrFQGhcOBAyE8VAJbGk3F3rxEDfRyTAP8PEQM5Ex8TcmsRAP/eKEzRyxEAZb9ADPEnEQJTQp5/5H8RANW21PXj2w0B481SHrMzDQK9VzFKsosNAETdM2V54w0A72Rca2U3DQOLsMewbI8NAGr/wShr4wkBByj5+zczCQH0HP3FAocJAqdxELY11wkCqWbEJqknCQDyVwnKCHcJAKw6xCyjxwUDP+pRjosTBQO02XnDsl8FA3vgkwQ1rwUA2vXrLCz7BQBfaOc3aEMFACeXY1XfjwEAmrI2x87XAQMvLq4RAiMBAV/sqr4NawECXnp+YmyzAQLasVoEl/b9A/tr66Z+gv0CexZyxyUO/QKAPhYW55r5A+nThrH2JvkCU46miEyy+QBQlxtdzzr1A5n+XvmxwvUBmzX6THBK9QJYoIJK2s7xARjni2gpVvEBGfv0QK/a7QAT8v48vl7tABsfAlfc3u0DkO+ddy9i6QE5o7RGVebpA\"},\"shape\":[120],\"dtype\":\"float64\",\"order\":\"little\"}]]}}},\"view\":{\"type\":\"object\",\"name\":\"CDSView\",\"id\":\"p1935\",\"attributes\":{\"filter\":{\"type\":\"object\",\"name\":\"AllIndices\",\"id\":\"p1936\"}}},\"glyph\":{\"type\":\"object\",\"name\":\"Line\",\"id\":\"p1931\",\"attributes\":{\"x\":{\"type\":\"field\",\"field\":\"x\"},\"y\":{\"type\":\"field\",\"field\":\"y\"},\"line_color\":\"palegoldenrod\",\"line_width\":2}},\"nonselection_glyph\":{\"type\":\"object\",\"name\":\"Line\",\"id\":\"p1932\",\"attributes\":{\"x\":{\"type\":\"field\",\"field\":\"x\"},\"y\":{\"type\":\"field\",\"field\":\"y\"},\"line_color\":\"palegoldenrod\",\"line_alpha\":0.1,\"line_width\":2}},\"muted_glyph\":{\"type\":\"object\",\"name\":\"Line\",\"id\":\"p1933\",\"attributes\":{\"x\":{\"type\":\"field\",\"field\":\"x\"},\"y\":{\"type\":\"field\",\"field\":\"y\"},\"line_color\":\"palegoldenrod\",\"line_alpha\":0.2,\"line_width\":2}}}},{\"type\":\"object\",\"name\":\"GlyphRenderer\",\"id\":\"p1945\",\"attributes\":{\"y_range_name\":\"angle\",\"data_source\":{\"type\":\"object\",\"name\":\"ColumnDataSource\",\"id\":\"p1939\",\"attributes\":{\"selected\":{\"type\":\"object\",\"name\":\"Selection\",\"id\":\"p1940\",\"attributes\":{\"indices\":[],\"line_indices\":[]}},\"selection_policy\":{\"type\":\"object\",\"name\":\"UnionRenderers\",\"id\":\"p1941\"},\"data\":{\"type\":\"map\",\"entries\":[[\"x\",{\"type\":\"ndarray\",\"array\":{\"type\":\"bytes\",\"data\":\"AAAAAAAAAAAAAAAAmJnJPwAAAACZmdk/AAAAADMz4z8AAACAmZnpPwAAAAAAAPA/AAAAADMz8z8AAABAZmb2PwAAAICZmfk/AAAAwMzM/D8AAAAAAAAAQAAAAICZmQFAAAAAIDMzA0AAAADAzMwEQAAAAGBmZgZAAAAAAAAACEAAAACAmZkJQAAAACAzMwtAAAAAwMzMDEAAAABgZmYOQAAAAAAAABBAAAAAwMzMEEAAAACQmZkRQAAAAGBmZhJAAAAAMDMzE0AAAAAAAAAUQAAAAMDMzBRAAAAAkJmZFUAAAABgZmYWQAAAADAzMxdAAAAAAAAAGEAAAADAzMwYQAAAAJCZmRlAAAAAYGZmGkAAAAAwMzMbQAAAAAAAABxAAAAAwMzMHEAAAACQmZkdQAAAAGBmZh5AAAAAMDMzH0AAAAAAAAAgQAAAAGBmZiBAAAAAyMzMIEAAAAAwMzMhQAAAAJiZmSFAAAAAAAAAIkAAAABgZmYiQAAAAMjMzCJAAAAAMDMzI0AAAACYmZkjQAAAAAAAACRAAAAAYGZmJEAAAADIzMwkQAAAADAzMyVAAAAAmJmZJUAAAAAAAAAmQAAAAGBmZiZAAAAAyMzMJkAAAAAwMzMnQAAAAJiZmSdAAAAAAAAAKEAAAABgZmYoQAAAAMjMzChAAAAAMDMzKUAAAACYmZkpQAAAAAAAACpAAAAAYGZmKkAAAADIzMwqQAAAADAzMytAAAAAmJmZK0AAAAAAAAAsQAAAAGBmZixAAAAAyMzMLEAAAAAwMzMtQAAAAJiZmS1AAAAAAAAALkAAAABgZmYuQAAAAMjMzC5AAAAAMDMzL0AAAACYmZkvQAAAAAAAADBAAAAAMDMzMEAAAABkZmYwQAAAAJiZmTBAAAAAzMzMMEAAAAAAAAAxQAAAADAzMzFAAAAAZGZmMUAAAACYmZkxQAAAAMzMzDFAAAAAAAAAMkAAAAAwMzMyQAAAAGRmZjJAAAAAmJmZMkAAAADMzMwyQAAAAAAAADNAAAAAMDMzM0AAAABkZmYzQAAAAJiZmTNAAAAAzMzMM0AAAAAAAAA0QAAAADAzMzRAAAAAZGZmNEAAAACYmZk0QAAAAMzMzDRAAAAAAAAANUAAAAAwMzM1QAAAAGRmZjVAAAAAmJmZNUAAAADMzMw1QAAAAAAAADZAAAAAMDMzNkAAAABkZmY2QAAAAJiZmTZAAAAAzMzMNkAAAAAAAAA3QAAAADAzMzdAAAAAZGZmN0AAAACYmZk3QAAAAMzMzDdA\"},\"shape\":[120],\"dtype\":\"float64\",\"order\":\"little\"}],[\"y\",{\"type\":\"ndarray\",\"array\":{\"type\":\"bytes\",\"data\":\"MzMzMzMz+z/NzMzMzMwAQM3MzMzMzAxAmpmZmZmZFUAAAAAAAAAgQM3MzMzMzCVAAAAAAAAAKkCamZmZmZkvQAAAAAAAgDJAAAAAAAAANUDNzMzMzMw3QDMzMzMzMzpAMzMzMzOzPEAAAAAAAAA/QDMzMzMzs0BAzczMzMzMQUDNzMzMzMxCQM3MzMzMzENAAAAAAADARECamZmZmZlFQM3MzMzMjEZAAAAAAACAR0AAAAAAAEBIQM3MzMzMDElAmpmZmZnZSUCamZmZmZlKQM3MzMzMTEtAMzMzMzPzS0DNzMzMzIxMQDMzMzMzM01AAAAAAADATUBmZmZmZmZOQAAAAAAAAE9AAAAAAACAT0AAAAAAAABQQGZmZmZmRlBAAAAAAACAUECamZmZmblQQDMzMzMz81BAAAAAAAAgUUAzMzMzM1NRQAAAAAAAgFFAAAAAAACgUUDNzMzMzMxRQJqZmZmZ+VFAMzMzMzMTUkCamZmZmTlSQAAAAAAAYFJAZmZmZmaGUkAAAAAAAKBSQJqZmZmZuVJAmpmZmZnZUkBmZmZmZuZSQJqZmZmZ+VJAzczMzMwMU0CamZmZmRlTQM3MzMzMLFNAZmZmZmZGU0AzMzMzM1NTQGZmZmZmZlNAmpmZmZl5U0BmZmZmZoZTQDMzMzMzk1NAAAAAAACgU0BmZmZmZqZTQGZmZmZmplNAzczMzMysU0CamZmZmblTQDMzMzMz01NAZmZmZmbmU0BmZmZmZuZTQJqZmZmZ+VNAZmZmZmYGVEAzMzMzMxNUQAAAAAAAIFRAzczMzMwsVEAzMzMzMzNUQDMzMzMzM1RAmpmZmZk5VECamZmZmTlUQJqZmZmZOVRAZmZmZmZGVEBmZmZmZkZUQGZmZmZmRlRAmpmZmZlZVECamZmZmVlUQJqZmZmZWVRAAAAAAABgVEBmZmZmZmZUQGZmZmZmZlRAZmZmZmZmVEBmZmZmZmZUQDMzMzMzc1RAzczMzMyMVEAzMzMzM5NUQM3MzMzMrFRAZmZmZmamVEAAAAAAAKBUQGZmZmZmplRAAAAAAADAVEAAAAAAAMBUQGZmZmZmxlRAZmZmZmbmVEDNzMzMzOxUQJqZmZmZ+VRAmpmZmZn5VEAAAAAAAABVQGZmZmZmBlVAAAAAAAAgVUCamZmZmTlVQJqZmZmZOVVAmpmZmZk5VUCamZmZmTlVQDMzMzMzM1VAzczMzMwsVUCamZmZmTlVQM3MzMzMTFVAmpmZmZlZVUDNzMzMzExVQDMzMzMzU1VA\"},\"shape\":[120],\"dtype\":\"float64\",\"order\":\"little\"}]]}}},\"view\":{\"type\":\"object\",\"name\":\"CDSView\",\"id\":\"p1946\",\"attributes\":{\"filter\":{\"type\":\"object\",\"name\":\"AllIndices\",\"id\":\"p1947\"}}},\"glyph\":{\"type\":\"object\",\"name\":\"Line\",\"id\":\"p1942\",\"attributes\":{\"x\":{\"type\":\"field\",\"field\":\"x\"},\"y\":{\"type\":\"field\",\"field\":\"y\"},\"line_color\":\"deepskyblue\",\"line_width\":2}},\"nonselection_glyph\":{\"type\":\"object\",\"name\":\"Line\",\"id\":\"p1943\",\"attributes\":{\"x\":{\"type\":\"field\",\"field\":\"x\"},\"y\":{\"type\":\"field\",\"field\":\"y\"},\"line_color\":\"deepskyblue\",\"line_alpha\":0.1,\"line_width\":2}},\"muted_glyph\":{\"type\":\"object\",\"name\":\"Line\",\"id\":\"p1944\",\"attributes\":{\"x\":{\"type\":\"field\",\"field\":\"x\"},\"y\":{\"type\":\"field\",\"field\":\"y\"},\"line_color\":\"deepskyblue\",\"line_alpha\":0.2,\"line_width\":2}}}},{\"type\":\"object\",\"name\":\"GlyphRenderer\",\"id\":\"p1956\",\"attributes\":{\"data_source\":{\"type\":\"object\",\"name\":\"ColumnDataSource\",\"id\":\"p1950\",\"attributes\":{\"selected\":{\"type\":\"object\",\"name\":\"Selection\",\"id\":\"p1951\",\"attributes\":{\"indices\":[],\"line_indices\":[]}},\"selection_policy\":{\"type\":\"object\",\"name\":\"UnionRenderers\",\"id\":\"p1952\"},\"data\":{\"type\":\"map\",\"entries\":[[\"x\",{\"type\":\"ndarray\",\"array\":{\"type\":\"bytes\",\"data\":\"AAAAAAAAAAAAAAAAmJnJPwAAAACZmdk/AAAAADMz4z8AAACAmZnpPwAAAAAAAPA/AAAAADMz8z8AAABAZmb2PwAAAICZmfk/AAAAwMzM/D8AAAAAAAAAQAAAAICZmQFAAAAAIDMzA0AAAADAzMwEQAAAAGBmZgZAAAAAAAAACEAAAACAmZkJQAAAACAzMwtAAAAAwMzMDEAAAABgZmYOQAAAAAAAABBAAAAAwMzMEEAAAACQmZkRQAAAAGBmZhJAAAAAMDMzE0AAAAAAAAAUQAAAAMDMzBRAAAAAkJmZFUAAAABgZmYWQAAAADAzMxdAAAAAAAAAGEAAAADAzMwYQAAAAJCZmRlAAAAAYGZmGkAAAAAwMzMbQAAAAAAAABxAAAAAwMzMHEAAAACQmZkdQAAAAGBmZh5AAAAAMDMzH0AAAAAAAAAgQAAAAGBmZiBAAAAAyMzMIEAAAAAwMzMhQAAAAJiZmSFAAAAAAAAAIkAAAABgZmYiQAAAAMjMzCJAAAAAMDMzI0AAAACYmZkjQAAAAAAAACRAAAAAYGZmJEAAAADIzMwkQAAAADAzMyVAAAAAmJmZJUAAAAAAAAAmQAAAAGBmZiZAAAAAyMzMJkAAAAAwMzMnQAAAAJiZmSdAAAAAAAAAKEAAAABgZmYoQAAAAMjMzChAAAAAMDMzKUAAAACYmZkpQAAAAAAAACpAAAAAYGZmKkAAAADIzMwqQAAAADAzMytAAAAAmJmZK0AAAAAAAAAsQAAAAGBmZixAAAAAyMzMLEAAAAAwMzMtQAAAAJiZmS1AAAAAAAAALkAAAABgZmYuQAAAAMjMzC5AAAAAMDMzL0AAAACYmZkvQAAAAAAAADBAAAAAMDMzMEAAAABkZmYwQAAAAJiZmTBAAAAAzMzMMEAAAAAAAAAxQAAAADAzMzFAAAAAZGZmMUAAAACYmZkxQAAAAMzMzDFAAAAAAAAAMkAAAAAwMzMyQAAAAGRmZjJAAAAAmJmZMkAAAADMzMwyQAAAAAAAADNAAAAAMDMzM0AAAABkZmYzQAAAAJiZmTNAAAAAzMzMM0AAAAAAAAA0QAAAADAzMzRAAAAAZGZmNEAAAACYmZk0QAAAAMzMzDRAAAAAAAAANUAAAAAwMzM1QAAAAGRmZjVAAAAAmJmZNUAAAADMzMw1QAAAAAAAADZAAAAAMDMzNkAAAABkZmY2QAAAAJiZmTZAAAAAzMzMNkAAAAAAAAA3QAAAADAzMzdAAAAAZGZmN0AAAACYmZk3QAAAAMzMzDdA\"},\"shape\":[120],\"dtype\":\"float64\",\"order\":\"little\"}],[\"y\",{\"type\":\"ndarray\",\"array\":{\"type\":\"bytes\",\"data\":\"z/dT46WbFkCXbhKDwMobQHsUrkfheihATDeJQWBlMkCuR+F6FC47QM/3U+OlG0JAke18PzWeRUCzne+nxgtKQDVeukkMQk5Ake18PzUeUUCJQWDl0GJTQClcj8L1SFVAf2q8dJNYV0D+1HjpJlFZQDeJQWDlcFtA8KfGSzdJXUCpxks3iSFfQKabxCCwgmBA6iYxCKx8YUB56SYxCExiQLbz/dR4SWNAAiuHFtk+ZECiRbbz/QRlQBKDwMqh5WVAeekmMQjMZkAAAAAAAKBnQHWTGARWfmhADi2yne9HaUCXbhKDwBpqQEJg5dAi22pA5KWbxCCga0BMN4lBYIVsQPHSTWIQSG1Aku18PzUObkBJ4XoUrsduQPHSTWIQiG9A2KNwPQofcECkcD0K14NwQHsUrkfh4nBA4XoUrkc5cUAw3SQGgZ1xQBkEVg4t8nFA/Knx0k1KckBWDi2ynadyQMUgsHJo+XJAN4lBYOVIc0AX2c73U6NzQP7UeOkm+XNAVeOlm8RYdEBQjZduEqN0QM3MzMzM7HRArBxaZDtHdUC7SQwCK4d1QDDdJAaB1XVAJzEIrBwidkCq8dJNYmh2QDZeukkMqnZAFK5H4XoEd0ARWDm0yE53QJ3vp8ZLj3dAj8L1KFzfd0AdWmQ73x94QCPb+X5qZHhADi2yne+3eEAzMzMzM+t4QNijcD0KH3lA2c73U+NleUB1kxgEVp55QHNoke1853lAJQaBlUMTekDP91PjpUN6QO58PzVeenpA+FPjpZu8ekACK4cW2f56QDDdJAaBLXtA1XjpJjFge0D8qfHSTZJ7QLbz/dR4uXtAyXa+nxr3e0BqvHSTGCx8QCuHFtnOT3xAVeOlm8SAfEASg8DKoaV8QMHKoUW203xAzKFFtvMVfUAMAiuHFjl9QOXQItv5Tn1AAAAAAACIfUAYBFYOLcJ9QOtRuB6F231ANV66SQz6fUDo+6nx0iV+QC2yne+nRn5A3Pl+arx0fkA730+Nl4Z+QGHl0CLbuX5AzKFFtvPFfkAbL90kBuF+QN9PjZduAn9AJAaBlUMjf0D8qfHSTTp/QNR46SYxUH9ALIcW2c5nf0AVrkfhenR/QEs3iUFgnX9Ai2zn+6nBf0D2KFyPws1/QM73U+Ol439ALIcW2c73f0BFtvP91ASAQPp+arx0C4BA30+Nl24agEB9PzVeui2AQKwcWmQ7N4BA7FG4HoU3gEDLoUW280mAQM3MzMzMSIBAAAAAAABQgEDC9Shcj06AQDEIrBxaWIBA\"},\"shape\":[120],\"dtype\":\"float64\",\"order\":\"little\"}]]}}},\"view\":{\"type\":\"object\",\"name\":\"CDSView\",\"id\":\"p1957\",\"attributes\":{\"filter\":{\"type\":\"object\",\"name\":\"AllIndices\",\"id\":\"p1958\"}}},\"glyph\":{\"type\":\"object\",\"name\":\"Line\",\"id\":\"p1953\",\"attributes\":{\"x\":{\"type\":\"field\",\"field\":\"x\"},\"y\":{\"type\":\"field\",\"field\":\"y\"},\"line_color\":\"limegreen\",\"line_width\":2}},\"nonselection_glyph\":{\"type\":\"object\",\"name\":\"Line\",\"id\":\"p1954\",\"attributes\":{\"x\":{\"type\":\"field\",\"field\":\"x\"},\"y\":{\"type\":\"field\",\"field\":\"y\"},\"line_color\":\"limegreen\",\"line_alpha\":0.1,\"line_width\":2}},\"muted_glyph\":{\"type\":\"object\",\"name\":\"Line\",\"id\":\"p1955\",\"attributes\":{\"x\":{\"type\":\"field\",\"field\":\"x\"},\"y\":{\"type\":\"field\",\"field\":\"y\"},\"line_color\":\"limegreen\",\"line_alpha\":0.2,\"line_width\":2}}}},{\"type\":\"object\",\"name\":\"GlyphRenderer\",\"id\":\"p1966\",\"attributes\":{\"data_source\":{\"type\":\"object\",\"name\":\"ColumnDataSource\",\"id\":\"p1960\",\"attributes\":{\"selected\":{\"type\":\"object\",\"name\":\"Selection\",\"id\":\"p1961\",\"attributes\":{\"indices\":[],\"line_indices\":[]}},\"selection_policy\":{\"type\":\"object\",\"name\":\"UnionRenderers\",\"id\":\"p1962\"},\"data\":{\"type\":\"map\",\"entries\":[[\"x\",{\"type\":\"ndarray\",\"array\":{\"type\":\"bytes\",\"data\":\"AAAAAAAAAAAAAAAAmJnJPwAAAACZmdk/AAAAADMz4z8AAACAmZnpPwAAAAAAAPA/AAAAADMz8z8AAABAZmb2PwAAAICZmfk/AAAAwMzM/D8AAAAAAAAAQAAAAICZmQFAAAAAIDMzA0AAAADAzMwEQAAAAGBmZgZAAAAAAAAACEAAAACAmZkJQAAAACAzMwtAAAAAwMzMDEAAAABgZmYOQAAAAAAAABBAAAAAwMzMEEAAAACQmZkRQAAAAGBmZhJAAAAAMDMzE0AAAAAAAAAUQAAAAMDMzBRAAAAAkJmZFUAAAABgZmYWQAAAADAzMxdAAAAAAAAAGEAAAADAzMwYQAAAAJCZmRlAAAAAYGZmGkAAAAAwMzMbQAAAAAAAABxAAAAAwMzMHEAAAACQmZkdQAAAAGBmZh5AAAAAMDMzH0AAAAAAAAAgQAAAAGBmZiBAAAAAyMzMIEAAAAAwMzMhQAAAAJiZmSFAAAAAAAAAIkAAAABgZmYiQAAAAMjMzCJAAAAAMDMzI0AAAACYmZkjQAAAAAAAACRAAAAAYGZmJEAAAADIzMwkQAAAADAzMyVAAAAAmJmZJUAAAAAAAAAmQAAAAGBmZiZAAAAAyMzMJkAAAAAwMzMnQAAAAJiZmSdAAAAAAAAAKEAAAABgZmYoQAAAAMjMzChAAAAAMDMzKUAAAACYmZkpQAAAAAAAACpAAAAAYGZmKkAAAADIzMwqQAAAADAzMytAAAAAmJmZK0AAAAAAAAAsQAAAAGBmZixAAAAAyMzMLEAAAAAwMzMtQAAAAJiZmS1AAAAAAAAALkAAAABgZmYuQAAAAMjMzC5AAAAAMDMzL0AAAACYmZkvQAAAAAAAADBAAAAAMDMzMEAAAABkZmYwQAAAAJiZmTBAAAAAzMzMMEAAAAAAAAAxQAAAADAzMzFAAAAAZGZmMUAAAACYmZkxQAAAAMzMzDFAAAAAAAAAMkAAAAAwMzMyQAAAAGRmZjJAAAAAmJmZMkAAAADMzMwyQAAAAAAAADNAAAAAMDMzM0AAAABkZmYzQAAAAJiZmTNAAAAAzMzMM0AAAAAAAAA0QAAAADAzMzRAAAAAZGZmNEAAAACYmZk0QAAAAMzMzDRAAAAAAAAANUAAAAAwMzM1QAAAAGRmZjVAAAAAmJmZNUAAAADMzMw1QAAAAAAAADZAAAAAMDMzNkAAAABkZmY2QAAAAJiZmTZAAAAAzMzMNkAAAAAAAAA3QAAAADAzMzdAAAAAZGZmN0AAAACYmZk3QAAAAMzMzDdA\"},\"shape\":[120],\"dtype\":\"float64\",\"order\":\"little\"}],[\"y\",{\"type\":\"ndarray\",\"array\":{\"type\":\"bytes\",\"data\":\"5R90R9KBaEC0l0FMaztoQHdDCeoIX2hAKXmOVeRHaECJ2XqMUyRoQBn8vB9rmmdA0oMxMgNsZ0Cnz86MZPpmQAeteGobrGZALjAKLLtUZkBIEsz72P9lQGnmxbigqGVAaE+M4uFaZUDAt8xAjBFlQGXVO9DwzmRAGBbbWGRzZEB6dOXGlztkQD+EU7BC+mNAoXxMCYm/Y0Asg3tx/3RjQPL4cwOhNmNAXKIfAMzjYkBAczuR7KBiQJUWiWcyTGJA7Q1PbYsDYkBwsA2YXLRhQJ0/cttjb2FAyNihttkfYUA6YYUYp95gQD/L89RCi2BAYljDdClBYEB+DbSg++ZfQC6rZ6k8M19A8LLu7dadXkC+dCN8Yv1dQMTIiiHaPF1AoJT6trGkXECKqNNTTx9cQAFhw/J6kltAAGiG1kMYW0DYFuDEgKJaQPx9zoihKFpAGJs86lrZWUCqkWa42HdZQOhfxuJJ3FhA6M6NKkarWEC3EgnX2SpYQFDg9HYptVdA8c3jArsqV0CciYLZpOFWQE21oL7KiVZAp+Wi+5Q6VkAO/Ytt1hBWQCygTfhfAlZA2XuQ3W7MVUB+CskfhqFVQO0rAwfuZFVA3jtyBDMqVUA+i1Q2jPZUQMWcNo1KyFRAEX/VRYF+VEBadcWYeVpUQOz6GUGXNFRAT20CmEEYVEDzYvueURBUQGvZhNIAVVRAd4+U5bc2VEAsD6yIgCNUQBzt3QI8pFNAyGR12pk8U0CySyntIThTQNbZ7FOd3FJAZK/a71KWUkA5X4m6/FxSQBJvXLHNOFJA49oO3Rv/UUDNM2VgJ+RRQJn0YvwhBVJARnAVR0n9UUAXCMV0yftRQI0I3CR4HlJA3mUdxsziUUBNSzm6k/5RQPzgEqGyAlJA4O8udASNUUAh5+JAhJVRQBaq2mIu0FFAwfsKqXqiUUBWSu7ANY1RQKNN6RA+k1FA/v968ZuvUUAnARxjyslRQKG8Ae8WglFAt1bBsHrKUECQ8xan4WtQQLZOyjN+bk9A6zaBRRMAUEAmjJjYYTdQQLsWXQHzGFBAU4q0ep7ITkAA95nTRNhOQJ2BbpEcW05AwlHtllg6TEDUa+Bc+fpLQEMreZxvJktAFMpyHvxJS0ChvPcN089KQCNzu6EZSUpADvoa9qB7SEApMP4Z19ZGQE33vOdkwUZAb5mjYzDiRkCm+Oq11EtHQJ63nszroEdAdUKxCd4aSEDdV+857zRHQM9RJfyACUZAqCh+hU35REAFYs4kx7pFQIut4Um2b0VA\"},\"shape\":[120],\"dtype\":\"float64\",\"order\":\"little\"}]]}}},\"view\":{\"type\":\"object\",\"name\":\"CDSView\",\"id\":\"p1967\",\"attributes\":{\"filter\":{\"type\":\"object\",\"name\":\"AllIndices\",\"id\":\"p1968\"}}},\"glyph\":{\"type\":\"object\",\"name\":\"Line\",\"id\":\"p1963\",\"attributes\":{\"x\":{\"type\":\"field\",\"field\":\"x\"},\"y\":{\"type\":\"field\",\"field\":\"y\"},\"line_color\":\"red\",\"line_width\":2}},\"nonselection_glyph\":{\"type\":\"object\",\"name\":\"Line\",\"id\":\"p1964\",\"attributes\":{\"x\":{\"type\":\"field\",\"field\":\"x\"},\"y\":{\"type\":\"field\",\"field\":\"y\"},\"line_color\":\"red\",\"line_alpha\":0.1,\"line_width\":2}},\"muted_glyph\":{\"type\":\"object\",\"name\":\"Line\",\"id\":\"p1965\",\"attributes\":{\"x\":{\"type\":\"field\",\"field\":\"x\"},\"y\":{\"type\":\"field\",\"field\":\"y\"},\"line_color\":\"red\",\"line_alpha\":0.2,\"line_width\":2}}}},{\"type\":\"object\",\"name\":\"GlyphRenderer\",\"id\":\"p1976\",\"attributes\":{\"data_source\":{\"type\":\"object\",\"name\":\"ColumnDataSource\",\"id\":\"p1970\",\"attributes\":{\"selected\":{\"type\":\"object\",\"name\":\"Selection\",\"id\":\"p1971\",\"attributes\":{\"indices\":[],\"line_indices\":[]}},\"selection_policy\":{\"type\":\"object\",\"name\":\"UnionRenderers\",\"id\":\"p1972\"},\"data\":{\"type\":\"map\",\"entries\":[[\"x0\",[23.799999952316284]],[\"y0\",[0.0]],[\"x1\",[23.799999952316284]],[\"y1\",[515.664]]]}}},\"view\":{\"type\":\"object\",\"name\":\"CDSView\",\"id\":\"p1977\",\"attributes\":{\"filter\":{\"type\":\"object\",\"name\":\"AllIndices\",\"id\":\"p1978\"}}},\"glyph\":{\"type\":\"object\",\"name\":\"Segment\",\"id\":\"p1973\",\"attributes\":{\"x0\":{\"type\":\"field\",\"field\":\"x0\"},\"y0\":{\"type\":\"field\",\"field\":\"y0\"},\"x1\":{\"type\":\"field\",\"field\":\"x1\"},\"y1\":{\"type\":\"field\",\"field\":\"y1\"},\"line_color\":{\"type\":\"value\",\"value\":\"lightblue\"},\"line_width\":{\"type\":\"value\",\"value\":3}}},\"nonselection_glyph\":{\"type\":\"object\",\"name\":\"Segment\",\"id\":\"p1974\",\"attributes\":{\"x0\":{\"type\":\"field\",\"field\":\"x0\"},\"y0\":{\"type\":\"field\",\"field\":\"y0\"},\"x1\":{\"type\":\"field\",\"field\":\"x1\"},\"y1\":{\"type\":\"field\",\"field\":\"y1\"},\"line_color\":{\"type\":\"value\",\"value\":\"lightblue\"},\"line_alpha\":{\"type\":\"value\",\"value\":0.1},\"line_width\":{\"type\":\"value\",\"value\":3}}},\"muted_glyph\":{\"type\":\"object\",\"name\":\"Segment\",\"id\":\"p1975\",\"attributes\":{\"x0\":{\"type\":\"field\",\"field\":\"x0\"},\"y0\":{\"type\":\"field\",\"field\":\"y0\"},\"x1\":{\"type\":\"field\",\"field\":\"x1\"},\"y1\":{\"type\":\"field\",\"field\":\"y1\"},\"line_color\":{\"type\":\"value\",\"value\":\"lightblue\"},\"line_alpha\":{\"type\":\"value\",\"value\":0.2},\"line_width\":{\"type\":\"value\",\"value\":3}}}}},{\"type\":\"object\",\"name\":\"GlyphRenderer\",\"id\":\"p1985\",\"attributes\":{\"data_source\":{\"type\":\"object\",\"name\":\"ColumnDataSource\",\"id\":\"p1979\",\"attributes\":{\"selected\":{\"type\":\"object\",\"name\":\"Selection\",\"id\":\"p1980\",\"attributes\":{\"indices\":[],\"line_indices\":[]}},\"selection_policy\":{\"type\":\"object\",\"name\":\"UnionRenderers\",\"id\":\"p1981\"},\"data\":{\"type\":\"map\",\"entries\":[[\"x0\",[25.299999952316284]],[\"y0\",[0.0]],[\"x1\",[25.299999952316284]],[\"y1\",[515.664]]]}}},\"view\":{\"type\":\"object\",\"name\":\"CDSView\",\"id\":\"p1986\",\"attributes\":{\"filter\":{\"type\":\"object\",\"name\":\"AllIndices\",\"id\":\"p1987\"}}},\"glyph\":{\"type\":\"object\",\"name\":\"Segment\",\"id\":\"p1982\",\"attributes\":{\"x0\":{\"type\":\"field\",\"field\":\"x0\"},\"y0\":{\"type\":\"field\",\"field\":\"y0\"},\"x1\":{\"type\":\"field\",\"field\":\"x1\"},\"y1\":{\"type\":\"field\",\"field\":\"y1\"},\"line_color\":{\"type\":\"value\",\"value\":\"darkseagreen\"}}},\"nonselection_glyph\":{\"type\":\"object\",\"name\":\"Segment\",\"id\":\"p1983\",\"attributes\":{\"x0\":{\"type\":\"field\",\"field\":\"x0\"},\"y0\":{\"type\":\"field\",\"field\":\"y0\"},\"x1\":{\"type\":\"field\",\"field\":\"x1\"},\"y1\":{\"type\":\"field\",\"field\":\"y1\"},\"line_color\":{\"type\":\"value\",\"value\":\"darkseagreen\"},\"line_alpha\":{\"type\":\"value\",\"value\":0.1}}},\"muted_glyph\":{\"type\":\"object\",\"name\":\"Segment\",\"id\":\"p1984\",\"attributes\":{\"x0\":{\"type\":\"field\",\"field\":\"x0\"},\"y0\":{\"type\":\"field\",\"field\":\"y0\"},\"x1\":{\"type\":\"field\",\"field\":\"x1\"},\"y1\":{\"type\":\"field\",\"field\":\"y1\"},\"line_color\":{\"type\":\"value\",\"value\":\"darkseagreen\"},\"line_alpha\":{\"type\":\"value\",\"value\":0.2}}}}},{\"type\":\"object\",\"name\":\"GlyphRenderer\",\"id\":\"p1994\",\"attributes\":{\"data_source\":{\"type\":\"object\",\"name\":\"ColumnDataSource\",\"id\":\"p1988\",\"attributes\":{\"selected\":{\"type\":\"object\",\"name\":\"Selection\",\"id\":\"p1989\",\"attributes\":{\"indices\":[],\"line_indices\":[]}},\"selection_policy\":{\"type\":\"object\",\"name\":\"UnionRenderers\",\"id\":\"p1990\"},\"data\":{\"type\":\"map\",\"entries\":[[\"x0\",[22.299999952316284]],[\"y0\",[0.0]],[\"x1\",[22.299999952316284]],[\"y1\",[515.664]]]}}},\"view\":{\"type\":\"object\",\"name\":\"CDSView\",\"id\":\"p1995\",\"attributes\":{\"filter\":{\"type\":\"object\",\"name\":\"AllIndices\",\"id\":\"p1996\"}}},\"glyph\":{\"type\":\"object\",\"name\":\"Segment\",\"id\":\"p1991\",\"attributes\":{\"x0\":{\"type\":\"field\",\"field\":\"x0\"},\"y0\":{\"type\":\"field\",\"field\":\"y0\"},\"x1\":{\"type\":\"field\",\"field\":\"x1\"},\"y1\":{\"type\":\"field\",\"field\":\"y1\"},\"line_color\":{\"type\":\"value\",\"value\":\"darkseagreen\"}}},\"nonselection_glyph\":{\"type\":\"object\",\"name\":\"Segment\",\"id\":\"p1992\",\"attributes\":{\"x0\":{\"type\":\"field\",\"field\":\"x0\"},\"y0\":{\"type\":\"field\",\"field\":\"y0\"},\"x1\":{\"type\":\"field\",\"field\":\"x1\"},\"y1\":{\"type\":\"field\",\"field\":\"y1\"},\"line_color\":{\"type\":\"value\",\"value\":\"darkseagreen\"},\"line_alpha\":{\"type\":\"value\",\"value\":0.1}}},\"muted_glyph\":{\"type\":\"object\",\"name\":\"Segment\",\"id\":\"p1993\",\"attributes\":{\"x0\":{\"type\":\"field\",\"field\":\"x0\"},\"y0\":{\"type\":\"field\",\"field\":\"y0\"},\"x1\":{\"type\":\"field\",\"field\":\"x1\"},\"y1\":{\"type\":\"field\",\"field\":\"y1\"},\"line_color\":{\"type\":\"value\",\"value\":\"darkseagreen\"},\"line_alpha\":{\"type\":\"value\",\"value\":0.2}}}}},{\"type\":\"object\",\"name\":\"GlyphRenderer\",\"id\":\"p2003\",\"attributes\":{\"data_source\":{\"type\":\"object\",\"name\":\"ColumnDataSource\",\"id\":\"p1997\",\"attributes\":{\"selected\":{\"type\":\"object\",\"name\":\"Selection\",\"id\":\"p1998\",\"attributes\":{\"indices\":[],\"line_indices\":[]}},\"selection_policy\":{\"type\":\"object\",\"name\":\"UnionRenderers\",\"id\":\"p1999\"},\"data\":{\"type\":\"map\",\"entries\":[[\"x\",[23.799999952316284]],[\"y\",[515.664]],[\"size\",[20]]]}}},\"view\":{\"type\":\"object\",\"name\":\"CDSView\",\"id\":\"p2004\",\"attributes\":{\"filter\":{\"type\":\"object\",\"name\":\"AllIndices\",\"id\":\"p2005\"}}},\"glyph\":{\"type\":\"object\",\"name\":\"Scatter\",\"id\":\"p2000\",\"attributes\":{\"x\":{\"type\":\"field\",\"field\":\"x\"},\"y\":{\"type\":\"field\",\"field\":\"y\"},\"size\":{\"type\":\"field\",\"field\":\"size\"},\"line_color\":{\"type\":\"value\",\"value\":\"lightblue\"},\"line_width\":{\"type\":\"value\",\"value\":3},\"fill_color\":{\"type\":\"value\",\"value\":null},\"marker\":{\"type\":\"value\",\"value\":\"square_cross\"}}},\"nonselection_glyph\":{\"type\":\"object\",\"name\":\"Scatter\",\"id\":\"p2001\",\"attributes\":{\"x\":{\"type\":\"field\",\"field\":\"x\"},\"y\":{\"type\":\"field\",\"field\":\"y\"},\"size\":{\"type\":\"field\",\"field\":\"size\"},\"line_color\":{\"type\":\"value\",\"value\":\"lightblue\"},\"line_alpha\":{\"type\":\"value\",\"value\":0.1},\"line_width\":{\"type\":\"value\",\"value\":3},\"fill_color\":{\"type\":\"value\",\"value\":null},\"fill_alpha\":{\"type\":\"value\",\"value\":0.1},\"hatch_alpha\":{\"type\":\"value\",\"value\":0.1},\"marker\":{\"type\":\"value\",\"value\":\"square_cross\"}}},\"muted_glyph\":{\"type\":\"object\",\"name\":\"Scatter\",\"id\":\"p2002\",\"attributes\":{\"x\":{\"type\":\"field\",\"field\":\"x\"},\"y\":{\"type\":\"field\",\"field\":\"y\"},\"size\":{\"type\":\"field\",\"field\":\"size\"},\"line_color\":{\"type\":\"value\",\"value\":\"lightblue\"},\"line_alpha\":{\"type\":\"value\",\"value\":0.2},\"line_width\":{\"type\":\"value\",\"value\":3},\"fill_color\":{\"type\":\"value\",\"value\":null},\"fill_alpha\":{\"type\":\"value\",\"value\":0.2},\"hatch_alpha\":{\"type\":\"value\",\"value\":0.2},\"marker\":{\"type\":\"value\",\"value\":\"square_cross\"}}}}}],\"toolbar\":{\"type\":\"object\",\"name\":\"Toolbar\",\"id\":\"p1892\",\"attributes\":{\"tools\":[{\"type\":\"object\",\"name\":\"PanTool\",\"id\":\"p1907\"},{\"type\":\"object\",\"name\":\"WheelZoomTool\",\"id\":\"p1908\",\"attributes\":{\"renderers\":\"auto\"}},{\"type\":\"object\",\"name\":\"BoxZoomTool\",\"id\":\"p1909\",\"attributes\":{\"overlay\":{\"type\":\"object\",\"name\":\"BoxAnnotation\",\"id\":\"p1910\",\"attributes\":{\"syncable\":false,\"level\":\"overlay\",\"visible\":false,\"left\":{\"type\":\"number\",\"value\":\"nan\"},\"right\":{\"type\":\"number\",\"value\":\"nan\"},\"top\":{\"type\":\"number\",\"value\":\"nan\"},\"bottom\":{\"type\":\"number\",\"value\":\"nan\"},\"left_units\":\"canvas\",\"right_units\":\"canvas\",\"top_units\":\"canvas\",\"bottom_units\":\"canvas\",\"line_color\":\"black\",\"line_alpha\":1.0,\"line_width\":2,\"line_dash\":[4,4],\"fill_color\":\"lightgrey\",\"fill_alpha\":0.5}}}},{\"type\":\"object\",\"name\":\"SaveTool\",\"id\":\"p1915\"},{\"type\":\"object\",\"name\":\"ResetTool\",\"id\":\"p1916\"},{\"type\":\"object\",\"name\":\"HelpTool\",\"id\":\"p1917\"},{\"type\":\"object\",\"name\":\"HoverTool\",\"id\":\"p1949\",\"attributes\":{\"renderers\":\"auto\",\"tooltips\":[[\"Y-val\",\"@y{0.00}\"]]}}]}},\"left\":[{\"type\":\"object\",\"name\":\"LinearAxis\",\"id\":\"p1902\",\"attributes\":{\"ticker\":{\"type\":\"object\",\"name\":\"BasicTicker\",\"id\":\"p1903\",\"attributes\":{\"mantissas\":[1,2,5]}},\"formatter\":{\"type\":\"object\",\"name\":\"BasicTickFormatter\",\"id\":\"p1904\"},\"axis_label\":\"km/h\",\"axis_label_standoff\":10,\"axis_label_text_color\":\"#E0E0E0\",\"axis_label_text_font\":\"Helvetica\",\"axis_label_text_font_size\":\"1.25em\",\"axis_label_text_font_style\":\"normal\",\"major_label_policy\":{\"type\":\"object\",\"name\":\"AllLabels\",\"id\":\"p1905\"},\"major_label_text_color\":\"#E0E0E0\",\"major_label_text_font\":\"Helvetica\",\"major_label_text_font_size\":\"1.025em\",\"axis_line_color\":\"#E0E0E0\",\"axis_line_alpha\":0,\"major_tick_line_color\":\"#E0E0E0\",\"major_tick_line_alpha\":0,\"minor_tick_line_color\":\"#E0E0E0\",\"minor_tick_line_alpha\":0}},{\"type\":\"object\",\"name\":\"LinearAxis\",\"id\":\"p1920\",\"attributes\":{\"y_range_name\":\"altitudeFt\",\"ticker\":{\"type\":\"object\",\"name\":\"BasicTicker\",\"id\":\"p1921\",\"attributes\":{\"mantissas\":[1,2,5]}},\"formatter\":{\"type\":\"object\",\"name\":\"BasicTickFormatter\",\"id\":\"p1922\"},\"axis_label\":\"Alt (ft)\",\"axis_label_standoff\":10,\"axis_label_text_color\":\"#E0E0E0\",\"axis_label_text_font\":\"Helvetica\",\"axis_label_text_font_size\":\"1.25em\",\"axis_label_text_font_style\":\"normal\",\"major_label_policy\":{\"type\":\"object\",\"name\":\"AllLabels\",\"id\":\"p1923\"},\"major_label_text_color\":\"#E0E0E0\",\"major_label_text_font\":\"Helvetica\",\"major_label_text_font_size\":\"1.025em\",\"axis_line_color\":\"#E0E0E0\",\"axis_line_alpha\":0,\"major_tick_line_color\":\"#E0E0E0\",\"major_tick_line_alpha\":0,\"minor_tick_line_color\":\"#E0E0E0\",\"minor_tick_line_alpha\":0}},{\"type\":\"object\",\"name\":\"LinearAxis\",\"id\":\"p1924\",\"attributes\":{\"y_range_name\":\"angle\",\"ticker\":{\"type\":\"object\",\"name\":\"BasicTicker\",\"id\":\"p1925\",\"attributes\":{\"mantissas\":[1,2,5]}},\"formatter\":{\"type\":\"object\",\"name\":\"BasicTickFormatter\",\"id\":\"p1926\"},\"axis_label\":\"angle\",\"axis_label_standoff\":10,\"axis_label_text_color\":\"#E0E0E0\",\"axis_label_text_font\":\"Helvetica\",\"axis_label_text_font_size\":\"1.25em\",\"axis_label_text_font_style\":\"normal\",\"major_label_policy\":{\"type\":\"object\",\"name\":\"AllLabels\",\"id\":\"p1927\"},\"major_label_text_color\":\"#E0E0E0\",\"major_label_text_font\":\"Helvetica\",\"major_label_text_font_size\":\"1.025em\",\"axis_line_color\":\"#E0E0E0\",\"axis_line_alpha\":0,\"major_tick_line_color\":\"#E0E0E0\",\"major_tick_line_alpha\":0,\"minor_tick_line_color\":\"#E0E0E0\",\"minor_tick_line_alpha\":0}}],\"below\":[{\"type\":\"object\",\"name\":\"LinearAxis\",\"id\":\"p1897\",\"attributes\":{\"ticker\":{\"type\":\"object\",\"name\":\"BasicTicker\",\"id\":\"p1898\",\"attributes\":{\"mantissas\":[1,2,5]}},\"formatter\":{\"type\":\"object\",\"name\":\"BasicTickFormatter\",\"id\":\"p1899\"},\"axis_label\":\"seconds from exit\",\"axis_label_standoff\":10,\"axis_label_text_color\":\"#E0E0E0\",\"axis_label_text_font\":\"Helvetica\",\"axis_label_text_font_size\":\"1.25em\",\"axis_label_text_font_style\":\"normal\",\"major_label_policy\":{\"type\":\"object\",\"name\":\"AllLabels\",\"id\":\"p1900\"},\"major_label_text_color\":\"#E0E0E0\",\"major_label_text_font\":\"Helvetica\",\"major_label_text_font_size\":\"1.025em\",\"axis_line_color\":\"#E0E0E0\",\"axis_line_alpha\":0,\"major_tick_line_color\":\"#E0E0E0\",\"major_tick_line_alpha\":0,\"minor_tick_line_color\":\"#E0E0E0\",\"minor_tick_line_alpha\":0}}],\"center\":[{\"type\":\"object\",\"name\":\"Grid\",\"id\":\"p1901\",\"attributes\":{\"axis\":{\"id\":\"p1897\"},\"grid_line_color\":\"#E0E0E0\",\"grid_line_alpha\":0.25}},{\"type\":\"object\",\"name\":\"Grid\",\"id\":\"p1906\",\"attributes\":{\"dimension\":1,\"axis\":{\"id\":\"p1902\"},\"grid_line_color\":\"#E0E0E0\",\"grid_line_alpha\":0.25}},{\"type\":\"object\",\"name\":\"Legend\",\"id\":\"p1937\",\"attributes\":{\"border_line_alpha\":0,\"background_fill_color\":\"#20262B\",\"background_fill_alpha\":0.25,\"label_text_color\":\"#E0E0E0\",\"label_text_font\":\"Helvetica\",\"label_text_font_size\":\"1.025em\",\"label_standoff\":8,\"glyph_width\":15,\"spacing\":8,\"items\":[{\"type\":\"object\",\"name\":\"LegendItem\",\"id\":\"p1938\",\"attributes\":{\"label\":{\"type\":\"value\",\"value\":\"Alt (ft)\"},\"renderers\":[{\"id\":\"p1934\"}]}},{\"type\":\"object\",\"name\":\"LegendItem\",\"id\":\"p1948\",\"attributes\":{\"label\":{\"type\":\"value\",\"value\":\"angle\"},\"renderers\":[{\"id\":\"p1945\"}]}},{\"type\":\"object\",\"name\":\"LegendItem\",\"id\":\"p1959\",\"attributes\":{\"label\":{\"type\":\"value\",\"value\":\"speed\"},\"renderers\":[{\"id\":\"p1956\"}]}},{\"type\":\"object\",\"name\":\"LegendItem\",\"id\":\"p1969\",\"attributes\":{\"label\":{\"type\":\"value\",\"value\":\"H-speed\"},\"renderers\":[{\"id\":\"p1966\"}]}}]}}],\"background_fill_color\":\"#20262B\",\"border_fill_color\":\"#15191C\"}}]}};\n",
       "  const render_items = [{\"docid\":\"827f4ff2-486e-4ebb-9778-ebff7b80db95\",\"roots\":{\"p1883\":\"b4cabbe1-eb7d-47a3-8e29-e798091cf5b6\"},\"root_ids\":[\"p1883\"]}];\n",
       "  void root.Bokeh.embed.embed_items_notebook(docs_json, render_items);\n",
       "  }\n",
       "  if (root.Bokeh !== undefined) {\n",
       "    embed_document(root);\n",
       "  } else {\n",
       "    let attempts = 0;\n",
       "    const timer = setInterval(function(root) {\n",
       "      if (root.Bokeh !== undefined) {\n",
       "        clearInterval(timer);\n",
       "        embed_document(root);\n",
       "      } else {\n",
       "        attempts++;\n",
       "        if (attempts > 100) {\n",
       "          clearInterval(timer);\n",
       "          console.log(\"Bokeh: ERROR: Unable to run BokehJS code because BokehJS library is missing\");\n",
       "        }\n",
       "      }\n",
       "    }, 10, root)\n",
       "  }\n",
       "})(window);"
      ],
      "application/vnd.bokehjs_exec.v0+json": ""
     },
     "metadata": {
      "application/vnd.bokehjs_exec.v0+json": {
       "id": "p1883"
      }
     },
     "output_type": "display_data"
    }
   ],
   "source": [
    "allJumpsPlot = initializePlot('All jumps in set')\n",
    "jumpNumber = 0\n",
    "mixColor = 0\n",
    "for resultRef in sorted(jumpResults.keys()):\n",
    "    jumpResult = jumpResults[resultRef]\n",
    "    if jumpResult.score > 0.0:\n",
    "        validJumpStatus = '<hr><h1><span style=\"color: %s\">%s jump - %s - score = %.02f km/h</span></h1>' % (jumpResult.color, resultRef, jumpResult.result, jumpResult.score)        \n",
    "    else:\n",
    "        validJumpStatus = '<hr><h1><span style=\"color: %s\">%s jump - %s</span></h1>' % (jumpResult.color, resultRef, jumpResult.result)\n",
    "    display(widgets.HTML(validJumpStatus))\n",
    "\n",
    "    maxSpeed = jumpResult.maxSpeed\n",
    "    window = jumpResult.window\n",
    "    mixColor = (mixColor+1)%len(SPEED_COLORS)\n",
    "    if jumpResult.score > 0.0:\n",
    "        display(widgets.HTML('<h3>Max speed = {0:,.0f}; '.format(maxSpeed)+('exit at %d m (%d ft), end scoring window at %d m (%d ft)'%(window.start, 3.2808*window.start, window.end, 3.2808*window.end))))\n",
    "        if not isValidMinimumAltitude(jumpResult.data.altitudeAGL.max()):\n",
    "            display(widgets.HTML('<span style=\"color: yellow\"><span style=\"font-weight: bold\">Warning:</span> exit altitude ASL was lower than the minimum scoring altitude according to IPC and USPA.'))\n",
    "        display(widgets.HTML('</h3>'))\n",
    "        # TODO: Move this to an in-notebook function or module.\n",
    "        displayJumpDataIn(jumpResult.table)\n",
    "        individualPlot = initializePlot(resultRef)\n",
    "        individualPlot = initializeExtraYRanges(individualPlot, startY = min(jumpResult.data.altitudeAGLFt)-500.0, endY = max(jumpResult.data.altitudeAGLFt)+500.0)\n",
    "        graphAltitude(individualPlot, jumpResult)\n",
    "        graphAngle(individualPlot, jumpResult)\n",
    "        hoverValue = bm.HoverTool(tooltips = [ ('Y-val', '@y{0.00}'), ])\n",
    "        individualPlot.add_tools(hoverValue)\n",
    "        graphJumpResult(individualPlot,\n",
    "                        jumpResult,\n",
    "                        lineColor = SPEED_COLORS[0])\n",
    "        graphJumpResult(allJumpsPlot,\n",
    "                        jumpResult,\n",
    "                        lineColor = SPEED_COLORS[mixColor],\n",
    "                        legend = '%s - %.2f' % (resultRef, jumpResult.score),\n",
    "                        showIt = False)"
   ]
  },
  {
   "cell_type": "markdown",
   "id": "7363faaf-27a9-401c-9271-73b71436f19c",
   "metadata": {},
   "source": [
    "---\n",
    "## Summary of all speed skydives in the data lake"
   ]
  },
  {
   "cell_type": "code",
   "execution_count": 12,
   "id": "17991fcf-e215-4a53-a6ff-d9a64cbafd94",
   "metadata": {
    "jupyter": {
     "source_hidden": true
    }
   },
   "outputs": [
    {
     "data": {
      "text/html": [
       "<div>\n",
       "<style scoped>\n",
       "    .dataframe tbody tr th:only-of-type {\n",
       "        vertical-align: middle;\n",
       "    }\n",
       "\n",
       "    .dataframe tbody tr th {\n",
       "        vertical-align: top;\n",
       "    }\n",
       "\n",
       "    .dataframe thead th {\n",
       "        text-align: right;\n",
       "    }\n",
       "</style>\n",
       "<table border=\"1\" class=\"dataframe\">\n",
       "  <thead>\n",
       "    <tr style=\"text-align: right;\">\n",
       "      <th></th>\n",
       "      <th>score</th>\n",
       "      <th>5.0</th>\n",
       "      <th>10.0</th>\n",
       "      <th>15.0</th>\n",
       "      <th>20.0</th>\n",
       "      <th>25.0</th>\n",
       "      <th>finalTime</th>\n",
       "      <th>maxSpeed</th>\n",
       "    </tr>\n",
       "  </thead>\n",
       "  <tbody>\n",
       "    <tr>\n",
       "      <th>00-00-00-EC-baseline</th>\n",
       "      <td>484</td>\n",
       "      <td>184</td>\n",
       "      <td>327</td>\n",
       "      <td>423</td>\n",
       "      <td>471</td>\n",
       "      <td>486</td>\n",
       "      <td>25.0</td>\n",
       "      <td>487</td>\n",
       "    </tr>\n",
       "    <tr>\n",
       "      <th>07-36-35</th>\n",
       "      <td>464</td>\n",
       "      <td>180</td>\n",
       "      <td>319</td>\n",
       "      <td>412</td>\n",
       "      <td>453</td>\n",
       "      <td>463</td>\n",
       "      <td>25.0</td>\n",
       "      <td>466</td>\n",
       "    </tr>\n",
       "    <tr>\n",
       "      <th>08-26-01</th>\n",
       "      <td>462</td>\n",
       "      <td>191</td>\n",
       "      <td>309</td>\n",
       "      <td>402</td>\n",
       "      <td>450</td>\n",
       "      <td>466</td>\n",
       "      <td>25.0</td>\n",
       "      <td>466</td>\n",
       "    </tr>\n",
       "    <tr>\n",
       "      <th>09-34-53</th>\n",
       "      <td>481</td>\n",
       "      <td>180</td>\n",
       "      <td>284</td>\n",
       "      <td>392</td>\n",
       "      <td>457</td>\n",
       "      <td>483</td>\n",
       "      <td>25.0</td>\n",
       "      <td>485</td>\n",
       "    </tr>\n",
       "    <tr>\n",
       "      <th>10-51-16</th>\n",
       "      <td>484</td>\n",
       "      <td>184</td>\n",
       "      <td>327</td>\n",
       "      <td>423</td>\n",
       "      <td>471</td>\n",
       "      <td>486</td>\n",
       "      <td>25.0</td>\n",
       "      <td>487</td>\n",
       "    </tr>\n",
       "    <tr>\n",
       "      <th>12-09-17</th>\n",
       "      <td>487</td>\n",
       "      <td>182</td>\n",
       "      <td>326</td>\n",
       "      <td>417</td>\n",
       "      <td>478</td>\n",
       "      <td>488</td>\n",
       "      <td>25.0</td>\n",
       "      <td>490</td>\n",
       "    </tr>\n",
       "    <tr>\n",
       "      <th>19-22-17-ND</th>\n",
       "      <td>516</td>\n",
       "      <td>189</td>\n",
       "      <td>335</td>\n",
       "      <td>438</td>\n",
       "      <td>500</td>\n",
       "      <td>523</td>\n",
       "      <td>25.0</td>\n",
       "      <td>523</td>\n",
       "    </tr>\n",
       "  </tbody>\n",
       "</table>\n",
       "</div>"
      ],
      "text/plain": [
       "                      score  5.0  10.0  15.0  20.0  25.0  finalTime  maxSpeed\n",
       "00-00-00-EC-baseline    484  184   327   423   471   486       25.0       487\n",
       "07-36-35                464  180   319   412   453   463       25.0       466\n",
       "08-26-01                462  191   309   402   450   466       25.0       466\n",
       "09-34-53                481  180   284   392   457   483       25.0       485\n",
       "10-51-16                484  184   327   423   471   486       25.0       487\n",
       "12-09-17                487  182   326   417   478   488       25.0       490\n",
       "19-22-17-ND             516  189   335   438   500   523       25.0       523"
      ]
     },
     "metadata": {},
     "output_type": "display_data"
    },
    {
     "data": {
      "text/html": [
       "<div>\n",
       "<style scoped>\n",
       "    .dataframe tbody tr th:only-of-type {\n",
       "        vertical-align: middle;\n",
       "    }\n",
       "\n",
       "    .dataframe tbody tr th {\n",
       "        vertical-align: top;\n",
       "    }\n",
       "\n",
       "    .dataframe thead th {\n",
       "        text-align: right;\n",
       "    }\n",
       "</style>\n",
       "<table border=\"1\" class=\"dataframe\">\n",
       "  <thead>\n",
       "    <tr style=\"text-align: right;\">\n",
       "      <th></th>\n",
       "      <th>totalSpeed</th>\n",
       "      <th>meanSpeed</th>\n",
       "      <th>maxScore</th>\n",
       "    </tr>\n",
       "  </thead>\n",
       "  <tbody>\n",
       "    <tr>\n",
       "      <th>totalSpeed</th>\n",
       "      <td>3378.651617</td>\n",
       "      <td>482.664517</td>\n",
       "      <td>515.664</td>\n",
       "    </tr>\n",
       "  </tbody>\n",
       "</table>\n",
       "</div>"
      ],
      "text/plain": [
       "             totalSpeed   meanSpeed  maxScore\n",
       "totalSpeed  3378.651617  482.664517   515.664"
      ]
     },
     "metadata": {},
     "output_type": "display_data"
    },
    {
     "data": {
      "text/html": [
       "\n",
       "  <div id=\"ad14cc2b-e234-4351-92f7-bb5337da4c21\" data-root-id=\"p1001\" style=\"display: contents;\"></div>\n"
      ]
     },
     "metadata": {},
     "output_type": "display_data"
    },
    {
     "data": {
      "application/javascript": [
       "(function(root) {\n",
       "  function embed_document(root) {\n",
       "  const docs_json = {\"e4c4a6b6-a6e2-4e66-8fec-484f727d781f\":{\"version\":\"3.4.1\",\"title\":\"Bokeh Application\",\"roots\":[{\"type\":\"object\",\"name\":\"Figure\",\"id\":\"p1001\",\"attributes\":{\"width\":900,\"height\":500,\"x_range\":{\"type\":\"object\",\"name\":\"Range1d\",\"id\":\"p1011\",\"attributes\":{\"end\":35.0}},\"y_range\":{\"type\":\"object\",\"name\":\"Range1d\",\"id\":\"p1012\",\"attributes\":{\"end\":550.0}},\"x_scale\":{\"type\":\"object\",\"name\":\"LinearScale\",\"id\":\"p1013\"},\"y_scale\":{\"type\":\"object\",\"name\":\"LinearScale\",\"id\":\"p1014\"},\"title\":{\"type\":\"object\",\"name\":\"Title\",\"id\":\"p1004\",\"attributes\":{\"text\":\"All jumps in set\",\"text_color\":\"#E0E0E0\",\"text_font\":\"Helvetica\",\"text_font_size\":\"1.15em\"}},\"outline_line_color\":\"#E0E0E0\",\"outline_line_alpha\":0.25,\"renderers\":[{\"type\":\"object\",\"name\":\"GlyphRenderer\",\"id\":\"p1173\",\"attributes\":{\"data_source\":{\"type\":\"object\",\"name\":\"ColumnDataSource\",\"id\":\"p1167\",\"attributes\":{\"selected\":{\"type\":\"object\",\"name\":\"Selection\",\"id\":\"p1168\",\"attributes\":{\"indices\":[],\"line_indices\":[]}},\"selection_policy\":{\"type\":\"object\",\"name\":\"UnionRenderers\",\"id\":\"p1169\"},\"data\":{\"type\":\"map\",\"entries\":[[\"x\",{\"type\":\"ndarray\",\"array\":{\"type\":\"bytes\",\"data\":\"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\"},\"shape\":[204],\"dtype\":\"float64\",\"order\":\"little\"}],[\"y\",{\"type\":\"ndarray\",\"array\":{\"type\":\"bytes\",\"data\":\"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\"},\"shape\":[204],\"dtype\":\"float64\",\"order\":\"little\"}]]}}},\"view\":{\"type\":\"object\",\"name\":\"CDSView\",\"id\":\"p1174\",\"attributes\":{\"filter\":{\"type\":\"object\",\"name\":\"AllIndices\",\"id\":\"p1175\"}}},\"glyph\":{\"type\":\"object\",\"name\":\"Line\",\"id\":\"p1170\",\"attributes\":{\"x\":{\"type\":\"field\",\"field\":\"x\"},\"y\":{\"type\":\"field\",\"field\":\"y\"},\"line_color\":\"blue\",\"line_width\":2}},\"nonselection_glyph\":{\"type\":\"object\",\"name\":\"Line\",\"id\":\"p1171\",\"attributes\":{\"x\":{\"type\":\"field\",\"field\":\"x\"},\"y\":{\"type\":\"field\",\"field\":\"y\"},\"line_color\":\"blue\",\"line_alpha\":0.1,\"line_width\":2}},\"muted_glyph\":{\"type\":\"object\",\"name\":\"Line\",\"id\":\"p1172\",\"attributes\":{\"x\":{\"type\":\"field\",\"field\":\"x\"},\"y\":{\"type\":\"field\",\"field\":\"y\"},\"line_color\":\"blue\",\"line_alpha\":0.2,\"line_width\":2}}}},{\"type\":\"object\",\"name\":\"GlyphRenderer\",\"id\":\"p1315\",\"attributes\":{\"data_source\":{\"type\":\"object\",\"name\":\"ColumnDataSource\",\"id\":\"p1309\",\"attributes\":{\"selected\":{\"type\":\"object\",\"name\":\"Selection\",\"id\":\"p1310\",\"attributes\":{\"indices\":[],\"line_indices\":[]}},\"selection_policy\":{\"type\":\"object\",\"name\":\"UnionRenderers\",\"id\":\"p1311\"},\"data\":{\"type\":\"map\",\"entries\":[[\"x\",{\"type\":\"ndarray\",\"array\":{\"type\":\"bytes\",\"data\":\"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\"},\"shape\":[204],\"dtype\":\"float64\",\"order\":\"little\"}],[\"y\",{\"type\":\"ndarray\",\"array\":{\"type\":\"bytes\",\"data\":\"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\"},\"shape\":[204],\"dtype\":\"float64\",\"order\":\"little\"}]]}}},\"view\":{\"type\":\"object\",\"name\":\"CDSView\",\"id\":\"p1316\",\"attributes\":{\"filter\":{\"type\":\"object\",\"name\":\"AllIndices\",\"id\":\"p1317\"}}},\"glyph\":{\"type\":\"object\",\"name\":\"Line\",\"id\":\"p1312\",\"attributes\":{\"x\":{\"type\":\"field\",\"field\":\"x\"},\"y\":{\"type\":\"field\",\"field\":\"y\"},\"line_color\":\"tomato\",\"line_width\":2}},\"nonselection_glyph\":{\"type\":\"object\",\"name\":\"Line\",\"id\":\"p1313\",\"attributes\":{\"x\":{\"type\":\"field\",\"field\":\"x\"},\"y\":{\"type\":\"field\",\"field\":\"y\"},\"line_color\":\"tomato\",\"line_alpha\":0.1,\"line_width\":2}},\"muted_glyph\":{\"type\":\"object\",\"name\":\"Line\",\"id\":\"p1314\",\"attributes\":{\"x\":{\"type\":\"field\",\"field\":\"x\"},\"y\":{\"type\":\"field\",\"field\":\"y\"},\"line_color\":\"tomato\",\"line_alpha\":0.2,\"line_width\":2}}}},{\"type\":\"object\",\"name\":\"GlyphRenderer\",\"id\":\"p1456\",\"attributes\":{\"data_source\":{\"type\":\"object\",\"name\":\"ColumnDataSource\",\"id\":\"p1450\",\"attributes\":{\"selected\":{\"type\":\"object\",\"name\":\"Selection\",\"id\":\"p1451\",\"attributes\":{\"indices\":[],\"line_indices\":[]}},\"selection_policy\":{\"type\":\"object\",\"name\":\"UnionRenderers\",\"id\":\"p1452\"},\"data\":{\"type\":\"map\",\"entries\":[[\"x\",{\"type\":\"ndarray\",\"array\":{\"type\":\"bytes\",\"data\":\"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\"},\"shape\":[191],\"dtype\":\"float64\",\"order\":\"little\"}],[\"y\",{\"type\":\"ndarray\",\"array\":{\"type\":\"bytes\",\"data\":\"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\"},\"shape\":[191],\"dtype\":\"float64\",\"order\":\"little\"}]]}}},\"view\":{\"type\":\"object\",\"name\":\"CDSView\",\"id\":\"p1457\",\"attributes\":{\"filter\":{\"type\":\"object\",\"name\":\"AllIndices\",\"id\":\"p1458\"}}},\"glyph\":{\"type\":\"object\",\"name\":\"Line\",\"id\":\"p1453\",\"attributes\":{\"x\":{\"type\":\"field\",\"field\":\"x\"},\"y\":{\"type\":\"field\",\"field\":\"y\"},\"line_color\":\"turquoise\",\"line_width\":2}},\"nonselection_glyph\":{\"type\":\"object\",\"name\":\"Line\",\"id\":\"p1454\",\"attributes\":{\"x\":{\"type\":\"field\",\"field\":\"x\"},\"y\":{\"type\":\"field\",\"field\":\"y\"},\"line_color\":\"turquoise\",\"line_alpha\":0.1,\"line_width\":2}},\"muted_glyph\":{\"type\":\"object\",\"name\":\"Line\",\"id\":\"p1455\",\"attributes\":{\"x\":{\"type\":\"field\",\"field\":\"x\"},\"y\":{\"type\":\"field\",\"field\":\"y\"},\"line_color\":\"turquoise\",\"line_alpha\":0.2,\"line_width\":2}}}},{\"type\":\"object\",\"name\":\"GlyphRenderer\",\"id\":\"p1597\",\"attributes\":{\"data_source\":{\"type\":\"object\",\"name\":\"ColumnDataSource\",\"id\":\"p1591\",\"attributes\":{\"selected\":{\"type\":\"object\",\"name\":\"Selection\",\"id\":\"p1592\",\"attributes\":{\"indices\":[],\"line_indices\":[]}},\"selection_policy\":{\"type\":\"object\",\"name\":\"UnionRenderers\",\"id\":\"p1593\"},\"data\":{\"type\":\"map\",\"entries\":[[\"x\",{\"type\":\"ndarray\",\"array\":{\"type\":\"bytes\",\"data\":\"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\"},\"shape\":[190],\"dtype\":\"float64\",\"order\":\"little\"}],[\"y\",{\"type\":\"ndarray\",\"array\":{\"type\":\"bytes\",\"data\":\"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\"},\"shape\":[190],\"dtype\":\"float64\",\"order\":\"little\"}]]}}},\"view\":{\"type\":\"object\",\"name\":\"CDSView\",\"id\":\"p1598\",\"attributes\":{\"filter\":{\"type\":\"object\",\"name\":\"AllIndices\",\"id\":\"p1599\"}}},\"glyph\":{\"type\":\"object\",\"name\":\"Line\",\"id\":\"p1594\",\"attributes\":{\"x\":{\"type\":\"field\",\"field\":\"x\"},\"y\":{\"type\":\"field\",\"field\":\"y\"},\"line_color\":\"deepskyblue\",\"line_width\":2}},\"nonselection_glyph\":{\"type\":\"object\",\"name\":\"Line\",\"id\":\"p1595\",\"attributes\":{\"x\":{\"type\":\"field\",\"field\":\"x\"},\"y\":{\"type\":\"field\",\"field\":\"y\"},\"line_color\":\"deepskyblue\",\"line_alpha\":0.1,\"line_width\":2}},\"muted_glyph\":{\"type\":\"object\",\"name\":\"Line\",\"id\":\"p1596\",\"attributes\":{\"x\":{\"type\":\"field\",\"field\":\"x\"},\"y\":{\"type\":\"field\",\"field\":\"y\"},\"line_color\":\"deepskyblue\",\"line_alpha\":0.2,\"line_width\":2}}}},{\"type\":\"object\",\"name\":\"GlyphRenderer\",\"id\":\"p1738\",\"attributes\":{\"data_source\":{\"type\":\"object\",\"name\":\"ColumnDataSource\",\"id\":\"p1732\",\"attributes\":{\"selected\":{\"type\":\"object\",\"name\":\"Selection\",\"id\":\"p1733\",\"attributes\":{\"indices\":[],\"line_indices\":[]}},\"selection_policy\":{\"type\":\"object\",\"name\":\"UnionRenderers\",\"id\":\"p1734\"},\"data\":{\"type\":\"map\",\"entries\":[[\"x\",{\"type\":\"ndarray\",\"array\":{\"type\":\"bytes\",\"data\":\"AAAAAAAAAAAAAAAAnJm5PwAAAACamck/AAAAADQz0z8AAAAAmpnZPwAAAAAAAOA/AAAAgDMz4z8AAACAZmbmPwAAAACamek/AAAAAM3M7D8AAAAAAADwPwAAAMCZmfE/AAAAQDMz8z8AAAAAzcz0PwAAAIBmZvY/AAAAAAAA+D8AAADAmZn5PwAAAEAzM/s/AAAAAM3M/D8AAACAZmb+PwAAAAAAAABAAAAA4MzMAEAAAACgmZkBQAAAAIBmZgJAAAAAQDMzA0AAAAAAAAAEQAAAAODMzARAAAAAoJmZBUAAAACAZmYGQAAAAEAzMwdAAAAAAAAACEAAAADgzMwIQAAAAKCZmQlAAAAAgGZmCkAAAABAMzMLQAAAAAAAAAxAAAAA4MzMDEAAAACgmZkNQAAAAIBmZg5AAAAAQDMzD0AAAAAAAAAQQAAAAHBmZhBAAAAA0MzMEEAAAABAMzMRQAAAAKCZmRFAAAAAAAAAEkAAAABwZmYSQAAAANDMzBJAAAAAQDMzE0AAAACgmZkTQAAAAAAAABRAAAAAcGZmFEAAAADQzMwUQAAAAEAzMxVAAAAAoJmZFUAAAAAAAAAWQAAAAHBmZhZAAAAA0MzMFkAAAABAMzMXQAAAAKCZmRdAAAAAcGZmGEAAAABAMzMZQAAAAKCZmRlAAAAAcGZmGkAAAADQzMwaQAAAAKCZmRtAAAAAAAAAHEAAAADQzMwcQAAAAEAzMx1AAAAAoJmZHUAAAAAAAAAeQAAAANDMzB5AAAAAQDMzH0AAAAAAAAAgQAAAADgzMyBAAAAAaGZmIEAAAACgmZkgQAAAANDMzCBAAAAAODMzIUAAAABoZmYhQAAAANDMzCFAAAAAAAAAIkAAAAA4MzMiQAAAAGhmZiJAAAAA0MzMIkAAAAAAAAAjQAAAADgzMyNAAAAAaGZmI0AAAACgmZkjQAAAAAAAACRAAAAAODMzJEAAAABoZmYkQAAAAKCZmSRAAAAAAAAAJUAAAAA4MzMlQAAAAGhmZiVAAAAAoJmZJUAAAADQzMwlQAAAADgzMyZAAAAAaGZmJkAAAACgmZkmQAAAANDMzCZAAAAAODMzJ0AAAABoZmYnQAAAAKCZmSdAAAAA0MzMJ0AAAAAAAAAoQAAAAGhmZihAAAAAoJmZKEAAAADQzMwoQAAAAAAAAClAAAAAODMzKUAAAACgmZkpQAAAANDMzClAAAAAAAAAKkAAAAA4MzMqQAAAAKCZmSpAAAAA0MzMKkAAAAAAAAArQAAAADgzMytAAAAAaGZmK0AAAADQzMwrQAAAAAAAACxAAAAAaGZmLEAAAACgmZksQAAAANDMzCxAAAAAAAAALUAAAABoZmYtQAAAAKCZmS1AAAAAAAAALkAAAAA4MzMuQAAAAGhmZi5AAAAAoJmZLkAAAADQzMwuQAAAADgzMy9AAAAAoJmZL0AAAADQzMwvQAAAAJyZGTBAAAAANDMzMEAAAABoZmYwQAAAAAAAgDBAAAAAnJmZMEAAAAA0M7MwQAAAAGhm5jBAAAAAAAAAMUAAAACcmRkxQAAAADQzMzFAAAAA0MxMMUAAAAAAAIAxQAAAAJyZmTFAAAAANDOzMUAAAADQzMwxQAAAAGhm5jFAAAAAnJkZMkAAAAA0MzMyQAAAANDMTDJAAAAAaGZmMkAAAACcmZkyQAAAADQzszJAAAAAaGbmMkAAAAAAAAAzQAAAAJyZGTNAAAAANDMzM0AAAADQzEwzQAAAAAAAgDNAAAAANDOzM0AAAADQzMwzQAAAAGhm5jNAAAAAAAAANEAAAACcmRk0QAAAANDMTDRAAAAAaGZmNEAAAAAAAIA0QAAAAJyZmTRAAAAANDOzNEAAAABoZuY0QAAAAAAAADVAAAAAnJkZNUAAAAA0MzM1QAAAAGhmZjVAAAAAAACANUAAAACcmZk1QAAAADQzszVAAAAA0MzMNUAAAAAAAAA2QAAAAJyZGTZAAAAA0MxMNkAAAABoZmY2QAAAAAAAgDZAAAAAnJmZNkAAAADQzMw2QAAAAGhm5jZAAAAAnJkZN0AAAAA0MzM3QAAAANDMTDdAAAAAaGZmN0AAAACcmZk3QAAAADQzszdAAAAA0MzMN0AAAABoZuY3QAAAAAAAADhAAAAANDMzOEAAAADQzEw4QAAAAGhmZjhA\"},\"shape\":[204],\"dtype\":\"float64\",\"order\":\"little\"}],[\"y\",{\"type\":\"ndarray\",\"array\":{\"type\":\"bytes\",\"data\":\"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\"},\"shape\":[204],\"dtype\":\"float64\",\"order\":\"little\"}]]}}},\"view\":{\"type\":\"object\",\"name\":\"CDSView\",\"id\":\"p1739\",\"attributes\":{\"filter\":{\"type\":\"object\",\"name\":\"AllIndices\",\"id\":\"p1740\"}}},\"glyph\":{\"type\":\"object\",\"name\":\"Line\",\"id\":\"p1735\",\"attributes\":{\"x\":{\"type\":\"field\",\"field\":\"x\"},\"y\":{\"type\":\"field\",\"field\":\"y\"},\"line_color\":\"forestgreen\",\"line_width\":2}},\"nonselection_glyph\":{\"type\":\"object\",\"name\":\"Line\",\"id\":\"p1736\",\"attributes\":{\"x\":{\"type\":\"field\",\"field\":\"x\"},\"y\":{\"type\":\"field\",\"field\":\"y\"},\"line_color\":\"forestgreen\",\"line_alpha\":0.1,\"line_width\":2}},\"muted_glyph\":{\"type\":\"object\",\"name\":\"Line\",\"id\":\"p1737\",\"attributes\":{\"x\":{\"type\":\"field\",\"field\":\"x\"},\"y\":{\"type\":\"field\",\"field\":\"y\"},\"line_color\":\"forestgreen\",\"line_alpha\":0.2,\"line_width\":2}}}},{\"type\":\"object\",\"name\":\"GlyphRenderer\",\"id\":\"p1879\",\"attributes\":{\"data_source\":{\"type\":\"object\",\"name\":\"ColumnDataSource\",\"id\":\"p1873\",\"attributes\":{\"selected\":{\"type\":\"object\",\"name\":\"Selection\",\"id\":\"p1874\",\"attributes\":{\"indices\":[],\"line_indices\":[]}},\"selection_policy\":{\"type\":\"object\",\"name\":\"UnionRenderers\",\"id\":\"p1875\"},\"data\":{\"type\":\"map\",\"entries\":[[\"x\",{\"type\":\"ndarray\",\"array\":{\"type\":\"bytes\",\"data\":\"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\"},\"shape\":[211],\"dtype\":\"float64\",\"order\":\"little\"}],[\"y\",{\"type\":\"ndarray\",\"array\":{\"type\":\"bytes\",\"data\":\"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\"},\"shape\":[211],\"dtype\":\"float64\",\"order\":\"little\"}]]}}},\"view\":{\"type\":\"object\",\"name\":\"CDSView\",\"id\":\"p1880\",\"attributes\":{\"filter\":{\"type\":\"object\",\"name\":\"AllIndices\",\"id\":\"p1881\"}}},\"glyph\":{\"type\":\"object\",\"name\":\"Line\",\"id\":\"p1876\",\"attributes\":{\"x\":{\"type\":\"field\",\"field\":\"x\"},\"y\":{\"type\":\"field\",\"field\":\"y\"},\"line_color\":\"coral\",\"line_width\":2}},\"nonselection_glyph\":{\"type\":\"object\",\"name\":\"Line\",\"id\":\"p1877\",\"attributes\":{\"x\":{\"type\":\"field\",\"field\":\"x\"},\"y\":{\"type\":\"field\",\"field\":\"y\"},\"line_color\":\"coral\",\"line_alpha\":0.1,\"line_width\":2}},\"muted_glyph\":{\"type\":\"object\",\"name\":\"Line\",\"id\":\"p1878\",\"attributes\":{\"x\":{\"type\":\"field\",\"field\":\"x\"},\"y\":{\"type\":\"field\",\"field\":\"y\"},\"line_color\":\"coral\",\"line_alpha\":0.2,\"line_width\":2}}}},{\"type\":\"object\",\"name\":\"GlyphRenderer\",\"id\":\"p2020\",\"attributes\":{\"data_source\":{\"type\":\"object\",\"name\":\"ColumnDataSource\",\"id\":\"p2014\",\"attributes\":{\"selected\":{\"type\":\"object\",\"name\":\"Selection\",\"id\":\"p2015\",\"attributes\":{\"indices\":[],\"line_indices\":[]}},\"selection_policy\":{\"type\":\"object\",\"name\":\"UnionRenderers\",\"id\":\"p2016\"},\"data\":{\"type\":\"map\",\"entries\":[[\"x\",{\"type\":\"ndarray\",\"array\":{\"type\":\"bytes\",\"data\":\"AAAAAAAAAAAAAAAAmJnJPwAAAACZmdk/AAAAADMz4z8AAACAmZnpPwAAAAAAAPA/AAAAADMz8z8AAABAZmb2PwAAAICZmfk/AAAAwMzM/D8AAAAAAAAAQAAAAICZmQFAAAAAIDMzA0AAAADAzMwEQAAAAGBmZgZAAAAAAAAACEAAAACAmZkJQAAAACAzMwtAAAAAwMzMDEAAAABgZmYOQAAAAAAAABBAAAAAwMzMEEAAAACQmZkRQAAAAGBmZhJAAAAAMDMzE0AAAAAAAAAUQAAAAMDMzBRAAAAAkJmZFUAAAABgZmYWQAAAADAzMxdAAAAAAAAAGEAAAADAzMwYQAAAAJCZmRlAAAAAYGZmGkAAAAAwMzMbQAAAAAAAABxAAAAAwMzMHEAAAACQmZkdQAAAAGBmZh5AAAAAMDMzH0AAAAAAAAAgQAAAAGBmZiBAAAAAyMzMIEAAAAAwMzMhQAAAAJiZmSFAAAAAAAAAIkAAAABgZmYiQAAAAMjMzCJAAAAAMDMzI0AAAACYmZkjQAAAAAAAACRAAAAAYGZmJEAAAADIzMwkQAAAADAzMyVAAAAAmJmZJUAAAAAAAAAmQAAAAGBmZiZAAAAAyMzMJkAAAAAwMzMnQAAAAJiZmSdAAAAAAAAAKEAAAABgZmYoQAAAAMjMzChAAAAAMDMzKUAAAACYmZkpQAAAAAAAACpAAAAAYGZmKkAAAADIzMwqQAAAADAzMytAAAAAmJmZK0AAAAAAAAAsQAAAAGBmZixAAAAAyMzMLEAAAAAwMzMtQAAAAJiZmS1AAAAAAAAALkAAAABgZmYuQAAAAMjMzC5AAAAAMDMzL0AAAACYmZkvQAAAAAAAADBAAAAAMDMzMEAAAABkZmYwQAAAAJiZmTBAAAAAzMzMMEAAAAAAAAAxQAAAADAzMzFAAAAAZGZmMUAAAACYmZkxQAAAAMzMzDFAAAAAAAAAMkAAAAAwMzMyQAAAAGRmZjJAAAAAmJmZMkAAAADMzMwyQAAAAAAAADNAAAAAMDMzM0AAAABkZmYzQAAAAJiZmTNAAAAAzMzMM0AAAAAAAAA0QAAAADAzMzRAAAAAZGZmNEAAAACYmZk0QAAAAMzMzDRAAAAAAAAANUAAAAAwMzM1QAAAAGRmZjVAAAAAmJmZNUAAAADMzMw1QAAAAAAAADZAAAAAMDMzNkAAAABkZmY2QAAAAJiZmTZAAAAAzMzMNkAAAAAAAAA3QAAAADAzMzdAAAAAZGZmN0AAAACYmZk3QAAAAMzMzDdA\"},\"shape\":[120],\"dtype\":\"float64\",\"order\":\"little\"}],[\"y\",{\"type\":\"ndarray\",\"array\":{\"type\":\"bytes\",\"data\":\"z/dT46WbFkCXbhKDwMobQHsUrkfheihATDeJQWBlMkCuR+F6FC47QM/3U+OlG0JAke18PzWeRUCzne+nxgtKQDVeukkMQk5Ake18PzUeUUCJQWDl0GJTQClcj8L1SFVAf2q8dJNYV0D+1HjpJlFZQDeJQWDlcFtA8KfGSzdJXUCpxks3iSFfQKabxCCwgmBA6iYxCKx8YUB56SYxCExiQLbz/dR4SWNAAiuHFtk+ZECiRbbz/QRlQBKDwMqh5WVAeekmMQjMZkAAAAAAAKBnQHWTGARWfmhADi2yne9HaUCXbhKDwBpqQEJg5dAi22pA5KWbxCCga0BMN4lBYIVsQPHSTWIQSG1Aku18PzUObkBJ4XoUrsduQPHSTWIQiG9A2KNwPQofcECkcD0K14NwQHsUrkfh4nBA4XoUrkc5cUAw3SQGgZ1xQBkEVg4t8nFA/Knx0k1KckBWDi2ynadyQMUgsHJo+XJAN4lBYOVIc0AX2c73U6NzQP7UeOkm+XNAVeOlm8RYdEBQjZduEqN0QM3MzMzM7HRArBxaZDtHdUC7SQwCK4d1QDDdJAaB1XVAJzEIrBwidkCq8dJNYmh2QDZeukkMqnZAFK5H4XoEd0ARWDm0yE53QJ3vp8ZLj3dAj8L1KFzfd0AdWmQ73x94QCPb+X5qZHhADi2yne+3eEAzMzMzM+t4QNijcD0KH3lA2c73U+NleUB1kxgEVp55QHNoke1853lAJQaBlUMTekDP91PjpUN6QO58PzVeenpA+FPjpZu8ekACK4cW2f56QDDdJAaBLXtA1XjpJjFge0D8qfHSTZJ7QLbz/dR4uXtAyXa+nxr3e0BqvHSTGCx8QCuHFtnOT3xAVeOlm8SAfEASg8DKoaV8QMHKoUW203xAzKFFtvMVfUAMAiuHFjl9QOXQItv5Tn1AAAAAAACIfUAYBFYOLcJ9QOtRuB6F231ANV66SQz6fUDo+6nx0iV+QC2yne+nRn5A3Pl+arx0fkA730+Nl4Z+QGHl0CLbuX5AzKFFtvPFfkAbL90kBuF+QN9PjZduAn9AJAaBlUMjf0D8qfHSTTp/QNR46SYxUH9ALIcW2c5nf0AVrkfhenR/QEs3iUFgnX9Ai2zn+6nBf0D2KFyPws1/QM73U+Ol439ALIcW2c73f0BFtvP91ASAQPp+arx0C4BA30+Nl24agEB9PzVeui2AQKwcWmQ7N4BA7FG4HoU3gEDLoUW280mAQM3MzMzMSIBAAAAAAABQgEDC9Shcj06AQDEIrBxaWIBA\"},\"shape\":[120],\"dtype\":\"float64\",\"order\":\"little\"}]]}}},\"view\":{\"type\":\"object\",\"name\":\"CDSView\",\"id\":\"p2021\",\"attributes\":{\"filter\":{\"type\":\"object\",\"name\":\"AllIndices\",\"id\":\"p2022\"}}},\"glyph\":{\"type\":\"object\",\"name\":\"Line\",\"id\":\"p2017\",\"attributes\":{\"x\":{\"type\":\"field\",\"field\":\"x\"},\"y\":{\"type\":\"field\",\"field\":\"y\"},\"line_color\":\"darkcyan\",\"line_width\":2}},\"nonselection_glyph\":{\"type\":\"object\",\"name\":\"Line\",\"id\":\"p2018\",\"attributes\":{\"x\":{\"type\":\"field\",\"field\":\"x\"},\"y\":{\"type\":\"field\",\"field\":\"y\"},\"line_color\":\"darkcyan\",\"line_alpha\":0.1,\"line_width\":2}},\"muted_glyph\":{\"type\":\"object\",\"name\":\"Line\",\"id\":\"p2019\",\"attributes\":{\"x\":{\"type\":\"field\",\"field\":\"x\"},\"y\":{\"type\":\"field\",\"field\":\"y\"},\"line_color\":\"darkcyan\",\"line_alpha\":0.2,\"line_width\":2}}}}],\"toolbar\":{\"type\":\"object\",\"name\":\"Toolbar\",\"id\":\"p1010\",\"attributes\":{\"tools\":[{\"type\":\"object\",\"name\":\"PanTool\",\"id\":\"p1025\"},{\"type\":\"object\",\"name\":\"WheelZoomTool\",\"id\":\"p1026\",\"attributes\":{\"renderers\":\"auto\"}},{\"type\":\"object\",\"name\":\"BoxZoomTool\",\"id\":\"p1027\",\"attributes\":{\"overlay\":{\"type\":\"object\",\"name\":\"BoxAnnotation\",\"id\":\"p1028\",\"attributes\":{\"syncable\":false,\"level\":\"overlay\",\"visible\":false,\"left\":{\"type\":\"number\",\"value\":\"nan\"},\"right\":{\"type\":\"number\",\"value\":\"nan\"},\"top\":{\"type\":\"number\",\"value\":\"nan\"},\"bottom\":{\"type\":\"number\",\"value\":\"nan\"},\"left_units\":\"canvas\",\"right_units\":\"canvas\",\"top_units\":\"canvas\",\"bottom_units\":\"canvas\",\"line_color\":\"black\",\"line_alpha\":1.0,\"line_width\":2,\"line_dash\":[4,4],\"fill_color\":\"lightgrey\",\"fill_alpha\":0.5}}}},{\"type\":\"object\",\"name\":\"SaveTool\",\"id\":\"p1033\"},{\"type\":\"object\",\"name\":\"ResetTool\",\"id\":\"p1034\"},{\"type\":\"object\",\"name\":\"HelpTool\",\"id\":\"p1035\"}]}},\"left\":[{\"type\":\"object\",\"name\":\"LinearAxis\",\"id\":\"p1020\",\"attributes\":{\"ticker\":{\"type\":\"object\",\"name\":\"BasicTicker\",\"id\":\"p1021\",\"attributes\":{\"mantissas\":[1,2,5]}},\"formatter\":{\"type\":\"object\",\"name\":\"BasicTickFormatter\",\"id\":\"p1022\"},\"axis_label\":\"km/h\",\"axis_label_standoff\":10,\"axis_label_text_color\":\"#E0E0E0\",\"axis_label_text_font\":\"Helvetica\",\"axis_label_text_font_size\":\"1.25em\",\"axis_label_text_font_style\":\"normal\",\"major_label_policy\":{\"type\":\"object\",\"name\":\"AllLabels\",\"id\":\"p1023\"},\"major_label_text_color\":\"#E0E0E0\",\"major_label_text_font\":\"Helvetica\",\"major_label_text_font_size\":\"1.025em\",\"axis_line_color\":\"#E0E0E0\",\"axis_line_alpha\":0,\"major_tick_line_color\":\"#E0E0E0\",\"major_tick_line_alpha\":0,\"minor_tick_line_color\":\"#E0E0E0\",\"minor_tick_line_alpha\":0}}],\"below\":[{\"type\":\"object\",\"name\":\"LinearAxis\",\"id\":\"p1015\",\"attributes\":{\"ticker\":{\"type\":\"object\",\"name\":\"BasicTicker\",\"id\":\"p1016\",\"attributes\":{\"mantissas\":[1,2,5]}},\"formatter\":{\"type\":\"object\",\"name\":\"BasicTickFormatter\",\"id\":\"p1017\"},\"axis_label\":\"seconds from exit\",\"axis_label_standoff\":10,\"axis_label_text_color\":\"#E0E0E0\",\"axis_label_text_font\":\"Helvetica\",\"axis_label_text_font_size\":\"1.25em\",\"axis_label_text_font_style\":\"normal\",\"major_label_policy\":{\"type\":\"object\",\"name\":\"AllLabels\",\"id\":\"p1018\"},\"major_label_text_color\":\"#E0E0E0\",\"major_label_text_font\":\"Helvetica\",\"major_label_text_font_size\":\"1.025em\",\"axis_line_color\":\"#E0E0E0\",\"axis_line_alpha\":0,\"major_tick_line_color\":\"#E0E0E0\",\"major_tick_line_alpha\":0,\"minor_tick_line_color\":\"#E0E0E0\",\"minor_tick_line_alpha\":0}}],\"center\":[{\"type\":\"object\",\"name\":\"Grid\",\"id\":\"p1019\",\"attributes\":{\"axis\":{\"id\":\"p1015\"},\"grid_line_color\":\"#E0E0E0\",\"grid_line_alpha\":0.25}},{\"type\":\"object\",\"name\":\"Grid\",\"id\":\"p1024\",\"attributes\":{\"dimension\":1,\"axis\":{\"id\":\"p1020\"},\"grid_line_color\":\"#E0E0E0\",\"grid_line_alpha\":0.25}},{\"type\":\"object\",\"name\":\"Legend\",\"id\":\"p1176\",\"attributes\":{\"border_line_alpha\":0,\"background_fill_color\":\"#20262B\",\"background_fill_alpha\":0.25,\"label_text_color\":\"#E0E0E0\",\"label_text_font\":\"Helvetica\",\"label_text_font_size\":\"1.025em\",\"label_standoff\":8,\"glyph_width\":15,\"spacing\":8,\"items\":[{\"type\":\"object\",\"name\":\"LegendItem\",\"id\":\"p1177\",\"attributes\":{\"label\":{\"type\":\"value\",\"value\":\"00-00-00-EC-baseline - 483.94\"},\"renderers\":[{\"id\":\"p1173\"}]}},{\"type\":\"object\",\"name\":\"LegendItem\",\"id\":\"p1318\",\"attributes\":{\"label\":{\"type\":\"value\",\"value\":\"07-36-35 - 464.27\"},\"renderers\":[{\"id\":\"p1315\"}]}},{\"type\":\"object\",\"name\":\"LegendItem\",\"id\":\"p1459\",\"attributes\":{\"label\":{\"type\":\"value\",\"value\":\"08-26-01 - 462.41\"},\"renderers\":[{\"id\":\"p1456\"}]}},{\"type\":\"object\",\"name\":\"LegendItem\",\"id\":\"p1600\",\"attributes\":{\"label\":{\"type\":\"value\",\"value\":\"09-34-53 - 481.44\"},\"renderers\":[{\"id\":\"p1597\"}]}},{\"type\":\"object\",\"name\":\"LegendItem\",\"id\":\"p1741\",\"attributes\":{\"label\":{\"type\":\"value\",\"value\":\"10-51-16 - 483.94\"},\"renderers\":[{\"id\":\"p1738\"}]}},{\"type\":\"object\",\"name\":\"LegendItem\",\"id\":\"p1882\",\"attributes\":{\"label\":{\"type\":\"value\",\"value\":\"12-09-17 - 486.99\"},\"renderers\":[{\"id\":\"p1879\"}]}},{\"type\":\"object\",\"name\":\"LegendItem\",\"id\":\"p2023\",\"attributes\":{\"label\":{\"type\":\"value\",\"value\":\"19-22-17-ND - 515.66\"},\"renderers\":[{\"id\":\"p2020\"}]}}]}}],\"background_fill_color\":\"#20262B\",\"border_fill_color\":\"#15191C\"}}]}};\n",
       "  const render_items = [{\"docid\":\"e4c4a6b6-a6e2-4e66-8fec-484f727d781f\",\"roots\":{\"p1001\":\"ad14cc2b-e234-4351-92f7-bb5337da4c21\"},\"root_ids\":[\"p1001\"]}];\n",
       "  void root.Bokeh.embed.embed_items_notebook(docs_json, render_items);\n",
       "  }\n",
       "  if (root.Bokeh !== undefined) {\n",
       "    embed_document(root);\n",
       "  } else {\n",
       "    let attempts = 0;\n",
       "    const timer = setInterval(function(root) {\n",
       "      if (root.Bokeh !== undefined) {\n",
       "        clearInterval(timer);\n",
       "        embed_document(root);\n",
       "      } else {\n",
       "        attempts++;\n",
       "        if (attempts > 100) {\n",
       "          clearInterval(timer);\n",
       "          console.log(\"Bokeh: ERROR: Unable to run BokehJS code because BokehJS library is missing\");\n",
       "        }\n",
       "      }\n",
       "    }, 10, root)\n",
       "  }\n",
       "})(window);"
      ],
      "application/vnd.bokehjs_exec.v0+json": ""
     },
     "metadata": {
      "application/vnd.bokehjs_exec.v0+json": {
       "id": "p1001"
      }
     },
     "output_type": "display_data"
    }
   ],
   "source": [
    "display(roundedResults)\n",
    "display(sumResults)\n",
    "bp.show(allJumpsPlot)"
   ]
  },
  {
   "cell_type": "code",
   "execution_count": null,
   "id": "b01570cb-93f9-4fb6-a758-910682bbda9b",
   "metadata": {},
   "outputs": [],
   "source": []
  }
 ],
 "metadata": {
  "kernelspec": {
   "display_name": "Python 3 (ipykernel)",
   "language": "python",
   "name": "python3"
  },
  "language_info": {
   "codemirror_mode": {
    "name": "ipython",
    "version": 3
   },
   "file_extension": ".py",
   "mimetype": "text/x-python",
   "name": "python",
   "nbconvert_exporter": "python",
   "pygments_lexer": "ipython3",
   "version": "3.11.9"
  }
 },
 "nbformat": 4,
 "nbformat_minor": 5
}
