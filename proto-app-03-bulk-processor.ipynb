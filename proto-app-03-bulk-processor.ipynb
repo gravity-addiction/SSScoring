{
 "cells": [
  {
   "cell_type": "markdown",
   "id": "36a745d9-2003-496e-a394-290f63a970b7",
   "metadata": {},
   "source": [
    "# Speed Skydiving scoring bulk files processor\n",
    "Uses the `./data` directory as a data lake.  It finds all valid FlySight files in that directory, from 0 to as many as it finds and fit in memory, and process them all.  Summary of \"all files\" or \"all jumps\" at the bottom of the document."
   ]
  },
  {
   "cell_type": "code",
   "execution_count": 1,
   "id": "7619c1b4-c552-4bec-8d38-ce895845d8df",
   "metadata": {},
   "outputs": [
    {
     "name": "stdout",
     "output_type": "stream",
     "text": [
      "pip install -e .\n",
      "Obtaining file:///home/jovyan\n",
      "  Installing build dependencies ... \u001b[?25ldone\n",
      "\u001b[?25h  Checking if build backend supports build_editable ... \u001b[?25ldone\n",
      "\u001b[?25h  Getting requirements to build editable ... \u001b[?25ldone\n",
      "\u001b[?25h  Preparing editable metadata (pyproject.toml) ... \u001b[?25ldone\n",
      "\u001b[?25hRequirement already satisfied: click in /opt/conda/lib/python3.11/site-packages (from ssscoring==1.7.0) (8.1.7)\n",
      "Collecting haversine (from ssscoring==1.7.0)\n",
      "  Using cached haversine-2.8.1-py2.py3-none-any.whl.metadata (5.9 kB)\n",
      "Requirement already satisfied: jupyter-bokeh in /opt/conda/lib/python3.11/site-packages (from ssscoring==1.7.0) (4.0.5)\n",
      "Requirement already satisfied: bokeh==3.* in /opt/conda/lib/python3.11/site-packages (from jupyter-bokeh->ssscoring==1.7.0) (3.5.2)\n",
      "Requirement already satisfied: ipywidgets==8.* in /opt/conda/lib/python3.11/site-packages (from jupyter-bokeh->ssscoring==1.7.0) (8.1.5)\n",
      "Requirement already satisfied: Jinja2>=2.9 in /opt/conda/lib/python3.11/site-packages (from bokeh==3.*->jupyter-bokeh->ssscoring==1.7.0) (3.1.4)\n",
      "Requirement already satisfied: contourpy>=1.2 in /opt/conda/lib/python3.11/site-packages (from bokeh==3.*->jupyter-bokeh->ssscoring==1.7.0) (1.3.0)\n",
      "Requirement already satisfied: numpy>=1.16 in /opt/conda/lib/python3.11/site-packages (from bokeh==3.*->jupyter-bokeh->ssscoring==1.7.0) (2.0.2)\n",
      "Requirement already satisfied: packaging>=16.8 in /opt/conda/lib/python3.11/site-packages (from bokeh==3.*->jupyter-bokeh->ssscoring==1.7.0) (24.1)\n",
      "Requirement already satisfied: pandas>=1.2 in /opt/conda/lib/python3.11/site-packages (from bokeh==3.*->jupyter-bokeh->ssscoring==1.7.0) (2.2.3)\n",
      "Requirement already satisfied: pillow>=7.1.0 in /opt/conda/lib/python3.11/site-packages (from bokeh==3.*->jupyter-bokeh->ssscoring==1.7.0) (10.4.0)\n",
      "Requirement already satisfied: PyYAML>=3.10 in /opt/conda/lib/python3.11/site-packages (from bokeh==3.*->jupyter-bokeh->ssscoring==1.7.0) (6.0.2)\n",
      "Requirement already satisfied: tornado>=6.2 in /opt/conda/lib/python3.11/site-packages (from bokeh==3.*->jupyter-bokeh->ssscoring==1.7.0) (6.4.1)\n",
      "Requirement already satisfied: xyzservices>=2021.09.1 in /opt/conda/lib/python3.11/site-packages (from bokeh==3.*->jupyter-bokeh->ssscoring==1.7.0) (2024.9.0)\n",
      "Requirement already satisfied: comm>=0.1.3 in /opt/conda/lib/python3.11/site-packages (from ipywidgets==8.*->jupyter-bokeh->ssscoring==1.7.0) (0.2.2)\n",
      "Requirement already satisfied: ipython>=6.1.0 in /opt/conda/lib/python3.11/site-packages (from ipywidgets==8.*->jupyter-bokeh->ssscoring==1.7.0) (8.27.0)\n",
      "Requirement already satisfied: traitlets>=4.3.1 in /opt/conda/lib/python3.11/site-packages (from ipywidgets==8.*->jupyter-bokeh->ssscoring==1.7.0) (5.14.3)\n",
      "Requirement already satisfied: widgetsnbextension~=4.0.12 in /opt/conda/lib/python3.11/site-packages (from ipywidgets==8.*->jupyter-bokeh->ssscoring==1.7.0) (4.0.13)\n",
      "Requirement already satisfied: jupyterlab-widgets~=3.0.12 in /opt/conda/lib/python3.11/site-packages (from ipywidgets==8.*->jupyter-bokeh->ssscoring==1.7.0) (3.0.13)\n",
      "Requirement already satisfied: decorator in /opt/conda/lib/python3.11/site-packages (from ipython>=6.1.0->ipywidgets==8.*->jupyter-bokeh->ssscoring==1.7.0) (5.1.1)\n",
      "Requirement already satisfied: jedi>=0.16 in /opt/conda/lib/python3.11/site-packages (from ipython>=6.1.0->ipywidgets==8.*->jupyter-bokeh->ssscoring==1.7.0) (0.19.1)\n",
      "Requirement already satisfied: matplotlib-inline in /opt/conda/lib/python3.11/site-packages (from ipython>=6.1.0->ipywidgets==8.*->jupyter-bokeh->ssscoring==1.7.0) (0.1.7)\n",
      "Requirement already satisfied: prompt-toolkit<3.1.0,>=3.0.41 in /opt/conda/lib/python3.11/site-packages (from ipython>=6.1.0->ipywidgets==8.*->jupyter-bokeh->ssscoring==1.7.0) (3.0.47)\n",
      "Requirement already satisfied: pygments>=2.4.0 in /opt/conda/lib/python3.11/site-packages (from ipython>=6.1.0->ipywidgets==8.*->jupyter-bokeh->ssscoring==1.7.0) (2.18.0)\n",
      "Requirement already satisfied: stack-data in /opt/conda/lib/python3.11/site-packages (from ipython>=6.1.0->ipywidgets==8.*->jupyter-bokeh->ssscoring==1.7.0) (0.6.2)\n",
      "Requirement already satisfied: typing-extensions>=4.6 in /opt/conda/lib/python3.11/site-packages (from ipython>=6.1.0->ipywidgets==8.*->jupyter-bokeh->ssscoring==1.7.0) (4.12.2)\n",
      "Requirement already satisfied: pexpect>4.3 in /opt/conda/lib/python3.11/site-packages (from ipython>=6.1.0->ipywidgets==8.*->jupyter-bokeh->ssscoring==1.7.0) (4.9.0)\n",
      "Requirement already satisfied: MarkupSafe>=2.0 in /opt/conda/lib/python3.11/site-packages (from Jinja2>=2.9->bokeh==3.*->jupyter-bokeh->ssscoring==1.7.0) (2.1.5)\n",
      "Requirement already satisfied: python-dateutil>=2.8.2 in /opt/conda/lib/python3.11/site-packages (from pandas>=1.2->bokeh==3.*->jupyter-bokeh->ssscoring==1.7.0) (2.9.0)\n",
      "Requirement already satisfied: pytz>=2020.1 in /opt/conda/lib/python3.11/site-packages (from pandas>=1.2->bokeh==3.*->jupyter-bokeh->ssscoring==1.7.0) (2024.1)\n",
      "Requirement already satisfied: tzdata>=2022.7 in /opt/conda/lib/python3.11/site-packages (from pandas>=1.2->bokeh==3.*->jupyter-bokeh->ssscoring==1.7.0) (2024.1)\n",
      "Requirement already satisfied: parso<0.9.0,>=0.8.3 in /opt/conda/lib/python3.11/site-packages (from jedi>=0.16->ipython>=6.1.0->ipywidgets==8.*->jupyter-bokeh->ssscoring==1.7.0) (0.8.4)\n",
      "Requirement already satisfied: ptyprocess>=0.5 in /opt/conda/lib/python3.11/site-packages (from pexpect>4.3->ipython>=6.1.0->ipywidgets==8.*->jupyter-bokeh->ssscoring==1.7.0) (0.7.0)\n",
      "Requirement already satisfied: wcwidth in /opt/conda/lib/python3.11/site-packages (from prompt-toolkit<3.1.0,>=3.0.41->ipython>=6.1.0->ipywidgets==8.*->jupyter-bokeh->ssscoring==1.7.0) (0.2.13)\n",
      "Requirement already satisfied: six>=1.5 in /opt/conda/lib/python3.11/site-packages (from python-dateutil>=2.8.2->pandas>=1.2->bokeh==3.*->jupyter-bokeh->ssscoring==1.7.0) (1.16.0)\n",
      "Requirement already satisfied: executing>=1.2.0 in /opt/conda/lib/python3.11/site-packages (from stack-data->ipython>=6.1.0->ipywidgets==8.*->jupyter-bokeh->ssscoring==1.7.0) (2.1.0)\n",
      "Requirement already satisfied: asttokens>=2.1.0 in /opt/conda/lib/python3.11/site-packages (from stack-data->ipython>=6.1.0->ipywidgets==8.*->jupyter-bokeh->ssscoring==1.7.0) (2.4.1)\n",
      "Requirement already satisfied: pure-eval in /opt/conda/lib/python3.11/site-packages (from stack-data->ipython>=6.1.0->ipywidgets==8.*->jupyter-bokeh->ssscoring==1.7.0) (0.2.3)\n",
      "Using cached haversine-2.8.1-py2.py3-none-any.whl (7.7 kB)\n",
      "Building wheels for collected packages: ssscoring\n",
      "  Building editable for ssscoring (pyproject.toml) ... \u001b[?25ldone\n",
      "\u001b[?25h  Created wheel for ssscoring: filename=ssscoring-1.7.0-0.editable-py3-none-any.whl size=4383 sha256=a9c225c9daa3e7b78fbb7859ef87fa28643586624dce7d31dc1127376dde82e3\n",
      "  Stored in directory: /tmp/pip-ephem-wheel-cache-yjkmf1hz/wheels/d5/0b/b6/3714fd2d5297ec16b9fe56b0d4ce5d9925529ac2d0c67d4765\n",
      "Successfully built ssscoring\n",
      "Installing collected packages: haversine, ssscoring\n",
      "Successfully installed haversine-2.8.1 ssscoring-1.7.0\n"
     ]
    }
   ],
   "source": [
    "!make local"
   ]
  },
  {
   "cell_type": "code",
   "execution_count": 2,
   "id": "98c7a164-9492-4672-904b-5bf3abf61773",
   "metadata": {
    "jupyter": {
     "source_hidden": true
    }
   },
   "outputs": [
    {
     "data": {
      "application/javascript": [
       "'use strict';\n",
       "(function(root) {\n",
       "  function now() {\n",
       "    return new Date();\n",
       "  }\n",
       "\n",
       "  const force = true;\n",
       "\n",
       "  if (typeof root._bokeh_onload_callbacks === \"undefined\" || force === true) {\n",
       "    root._bokeh_onload_callbacks = [];\n",
       "    root._bokeh_is_loading = undefined;\n",
       "  }\n",
       "\n",
       "const JS_MIME_TYPE = 'application/javascript';\n",
       "  const HTML_MIME_TYPE = 'text/html';\n",
       "  const EXEC_MIME_TYPE = 'application/vnd.bokehjs_exec.v0+json';\n",
       "  const CLASS_NAME = 'output_bokeh rendered_html';\n",
       "\n",
       "  /**\n",
       "   * Render data to the DOM node\n",
       "   */\n",
       "  function render(props, node) {\n",
       "    const script = document.createElement(\"script\");\n",
       "    node.appendChild(script);\n",
       "  }\n",
       "\n",
       "  /**\n",
       "   * Handle when an output is cleared or removed\n",
       "   */\n",
       "  function handleClearOutput(event, handle) {\n",
       "    function drop(id) {\n",
       "      const view = Bokeh.index.get_by_id(id)\n",
       "      if (view != null) {\n",
       "        view.model.document.clear()\n",
       "        Bokeh.index.delete(view)\n",
       "      }\n",
       "    }\n",
       "\n",
       "    const cell = handle.cell;\n",
       "\n",
       "    const id = cell.output_area._bokeh_element_id;\n",
       "    const server_id = cell.output_area._bokeh_server_id;\n",
       "\n",
       "    // Clean up Bokeh references\n",
       "    if (id != null) {\n",
       "      drop(id)\n",
       "    }\n",
       "\n",
       "    if (server_id !== undefined) {\n",
       "      // Clean up Bokeh references\n",
       "      const cmd_clean = \"from bokeh.io.state import curstate; print(curstate().uuid_to_server['\" + server_id + \"'].get_sessions()[0].document.roots[0]._id)\";\n",
       "      cell.notebook.kernel.execute(cmd_clean, {\n",
       "        iopub: {\n",
       "          output: function(msg) {\n",
       "            const id = msg.content.text.trim()\n",
       "            drop(id)\n",
       "          }\n",
       "        }\n",
       "      });\n",
       "      // Destroy server and session\n",
       "      const cmd_destroy = \"import bokeh.io.notebook as ion; ion.destroy_server('\" + server_id + \"')\";\n",
       "      cell.notebook.kernel.execute(cmd_destroy);\n",
       "    }\n",
       "  }\n",
       "\n",
       "  /**\n",
       "   * Handle when a new output is added\n",
       "   */\n",
       "  function handleAddOutput(event, handle) {\n",
       "    const output_area = handle.output_area;\n",
       "    const output = handle.output;\n",
       "\n",
       "    // limit handleAddOutput to display_data with EXEC_MIME_TYPE content only\n",
       "    if ((output.output_type != \"display_data\") || (!Object.prototype.hasOwnProperty.call(output.data, EXEC_MIME_TYPE))) {\n",
       "      return\n",
       "    }\n",
       "\n",
       "    const toinsert = output_area.element.find(\".\" + CLASS_NAME.split(' ')[0]);\n",
       "\n",
       "    if (output.metadata[EXEC_MIME_TYPE][\"id\"] !== undefined) {\n",
       "      toinsert[toinsert.length - 1].firstChild.textContent = output.data[JS_MIME_TYPE];\n",
       "      // store reference to embed id on output_area\n",
       "      output_area._bokeh_element_id = output.metadata[EXEC_MIME_TYPE][\"id\"];\n",
       "    }\n",
       "    if (output.metadata[EXEC_MIME_TYPE][\"server_id\"] !== undefined) {\n",
       "      const bk_div = document.createElement(\"div\");\n",
       "      bk_div.innerHTML = output.data[HTML_MIME_TYPE];\n",
       "      const script_attrs = bk_div.children[0].attributes;\n",
       "      for (let i = 0; i < script_attrs.length; i++) {\n",
       "        toinsert[toinsert.length - 1].firstChild.setAttribute(script_attrs[i].name, script_attrs[i].value);\n",
       "        toinsert[toinsert.length - 1].firstChild.textContent = bk_div.children[0].textContent\n",
       "      }\n",
       "      // store reference to server id on output_area\n",
       "      output_area._bokeh_server_id = output.metadata[EXEC_MIME_TYPE][\"server_id\"];\n",
       "    }\n",
       "  }\n",
       "\n",
       "  function register_renderer(events, OutputArea) {\n",
       "\n",
       "    function append_mime(data, metadata, element) {\n",
       "      // create a DOM node to render to\n",
       "      const toinsert = this.create_output_subarea(\n",
       "        metadata,\n",
       "        CLASS_NAME,\n",
       "        EXEC_MIME_TYPE\n",
       "      );\n",
       "      this.keyboard_manager.register_events(toinsert);\n",
       "      // Render to node\n",
       "      const props = {data: data, metadata: metadata[EXEC_MIME_TYPE]};\n",
       "      render(props, toinsert[toinsert.length - 1]);\n",
       "      element.append(toinsert);\n",
       "      return toinsert\n",
       "    }\n",
       "\n",
       "    /* Handle when an output is cleared or removed */\n",
       "    events.on('clear_output.CodeCell', handleClearOutput);\n",
       "    events.on('delete.Cell', handleClearOutput);\n",
       "\n",
       "    /* Handle when a new output is added */\n",
       "    events.on('output_added.OutputArea', handleAddOutput);\n",
       "\n",
       "    /**\n",
       "     * Register the mime type and append_mime function with output_area\n",
       "     */\n",
       "    OutputArea.prototype.register_mime_type(EXEC_MIME_TYPE, append_mime, {\n",
       "      /* Is output safe? */\n",
       "      safe: true,\n",
       "      /* Index of renderer in `output_area.display_order` */\n",
       "      index: 0\n",
       "    });\n",
       "  }\n",
       "\n",
       "  // register the mime type if in Jupyter Notebook environment and previously unregistered\n",
       "  if (root.Jupyter !== undefined) {\n",
       "    const events = require('base/js/events');\n",
       "    const OutputArea = require('notebook/js/outputarea').OutputArea;\n",
       "\n",
       "    if (OutputArea.prototype.mime_types().indexOf(EXEC_MIME_TYPE) == -1) {\n",
       "      register_renderer(events, OutputArea);\n",
       "    }\n",
       "  }\n",
       "  if (typeof (root._bokeh_timeout) === \"undefined\" || force === true) {\n",
       "    root._bokeh_timeout = Date.now() + 5000;\n",
       "    root._bokeh_failed_load = false;\n",
       "  }\n",
       "\n",
       "  const NB_LOAD_WARNING = {'data': {'text/html':\n",
       "     \"<div style='background-color: #fdd'>\\n\"+\n",
       "     \"<p>\\n\"+\n",
       "     \"BokehJS does not appear to have successfully loaded. If loading BokehJS from CDN, this \\n\"+\n",
       "     \"may be due to a slow or bad network connection. Possible fixes:\\n\"+\n",
       "     \"</p>\\n\"+\n",
       "     \"<ul>\\n\"+\n",
       "     \"<li>re-rerun `output_notebook()` to attempt to load from CDN again, or</li>\\n\"+\n",
       "     \"<li>use INLINE resources instead, as so:</li>\\n\"+\n",
       "     \"</ul>\\n\"+\n",
       "     \"<code>\\n\"+\n",
       "     \"from bokeh.resources import INLINE\\n\"+\n",
       "     \"output_notebook(resources=INLINE)\\n\"+\n",
       "     \"</code>\\n\"+\n",
       "     \"</div>\"}};\n",
       "\n",
       "  function display_loaded(error = null) {\n",
       "    const el = document.getElementById(null);\n",
       "    if (el != null) {\n",
       "      const html = (() => {\n",
       "        if (typeof root.Bokeh === \"undefined\") {\n",
       "          if (error == null) {\n",
       "            return \"BokehJS is loading ...\";\n",
       "          } else {\n",
       "            return \"BokehJS failed to load.\";\n",
       "          }\n",
       "        } else {\n",
       "          const prefix = `BokehJS ${root.Bokeh.version}`;\n",
       "          if (error == null) {\n",
       "            return `${prefix} successfully loaded.`;\n",
       "          } else {\n",
       "            return `${prefix} <b>encountered errors</b> while loading and may not function as expected.`;\n",
       "          }\n",
       "        }\n",
       "      })();\n",
       "      el.innerHTML = html;\n",
       "\n",
       "      if (error != null) {\n",
       "        const wrapper = document.createElement(\"div\");\n",
       "        wrapper.style.overflow = \"auto\";\n",
       "        wrapper.style.height = \"5em\";\n",
       "        wrapper.style.resize = \"vertical\";\n",
       "        const content = document.createElement(\"div\");\n",
       "        content.style.fontFamily = \"monospace\";\n",
       "        content.style.whiteSpace = \"pre-wrap\";\n",
       "        content.style.backgroundColor = \"rgb(255, 221, 221)\";\n",
       "        content.textContent = error.stack ?? error.toString();\n",
       "        wrapper.append(content);\n",
       "        el.append(wrapper);\n",
       "      }\n",
       "    } else if (Date.now() < root._bokeh_timeout) {\n",
       "      setTimeout(() => display_loaded(error), 100);\n",
       "    }\n",
       "  }\n",
       "\n",
       "  function run_callbacks() {\n",
       "    try {\n",
       "      root._bokeh_onload_callbacks.forEach(function(callback) {\n",
       "        if (callback != null)\n",
       "          callback();\n",
       "      });\n",
       "    } finally {\n",
       "      delete root._bokeh_onload_callbacks\n",
       "    }\n",
       "    console.debug(\"Bokeh: all callbacks have finished\");\n",
       "  }\n",
       "\n",
       "  function load_libs(css_urls, js_urls, callback) {\n",
       "    if (css_urls == null) css_urls = [];\n",
       "    if (js_urls == null) js_urls = [];\n",
       "\n",
       "    root._bokeh_onload_callbacks.push(callback);\n",
       "    if (root._bokeh_is_loading > 0) {\n",
       "      console.debug(\"Bokeh: BokehJS is being loaded, scheduling callback at\", now());\n",
       "      return null;\n",
       "    }\n",
       "    if (js_urls == null || js_urls.length === 0) {\n",
       "      run_callbacks();\n",
       "      return null;\n",
       "    }\n",
       "    console.debug(\"Bokeh: BokehJS not loaded, scheduling load and callback at\", now());\n",
       "    root._bokeh_is_loading = css_urls.length + js_urls.length;\n",
       "\n",
       "    function on_load() {\n",
       "      root._bokeh_is_loading--;\n",
       "      if (root._bokeh_is_loading === 0) {\n",
       "        console.debug(\"Bokeh: all BokehJS libraries/stylesheets loaded\");\n",
       "        run_callbacks()\n",
       "      }\n",
       "    }\n",
       "\n",
       "    function on_error(url) {\n",
       "      console.error(\"failed to load \" + url);\n",
       "    }\n",
       "\n",
       "    for (let i = 0; i < css_urls.length; i++) {\n",
       "      const url = css_urls[i];\n",
       "      const element = document.createElement(\"link\");\n",
       "      element.onload = on_load;\n",
       "      element.onerror = on_error.bind(null, url);\n",
       "      element.rel = \"stylesheet\";\n",
       "      element.type = \"text/css\";\n",
       "      element.href = url;\n",
       "      console.debug(\"Bokeh: injecting link tag for BokehJS stylesheet: \", url);\n",
       "      document.body.appendChild(element);\n",
       "    }\n",
       "\n",
       "    for (let i = 0; i < js_urls.length; i++) {\n",
       "      const url = js_urls[i];\n",
       "      const element = document.createElement('script');\n",
       "      element.onload = on_load;\n",
       "      element.onerror = on_error.bind(null, url);\n",
       "      element.async = false;\n",
       "      element.src = url;\n",
       "      console.debug(\"Bokeh: injecting script tag for BokehJS library: \", url);\n",
       "      document.head.appendChild(element);\n",
       "    }\n",
       "  };\n",
       "\n",
       "  function inject_raw_css(css) {\n",
       "    const element = document.createElement(\"style\");\n",
       "    element.appendChild(document.createTextNode(css));\n",
       "    document.body.appendChild(element);\n",
       "  }\n",
       "\n",
       "  const js_urls = [\"https://cdn.bokeh.org/bokeh/release/bokeh-3.5.2.min.js\", \"https://cdn.bokeh.org/bokeh/release/bokeh-gl-3.5.2.min.js\", \"https://cdn.bokeh.org/bokeh/release/bokeh-widgets-3.5.2.min.js\", \"https://cdn.bokeh.org/bokeh/release/bokeh-tables-3.5.2.min.js\", \"https://cdn.bokeh.org/bokeh/release/bokeh-mathjax-3.5.2.min.js\"];\n",
       "  const css_urls = [];\n",
       "\n",
       "  const inline_js = [    function(Bokeh) {\n",
       "      Bokeh.set_log_level(\"info\");\n",
       "    },\n",
       "function(Bokeh) {\n",
       "    }\n",
       "  ];\n",
       "\n",
       "  function run_inline_js() {\n",
       "    if (root.Bokeh !== undefined || force === true) {\n",
       "      try {\n",
       "            for (let i = 0; i < inline_js.length; i++) {\n",
       "      inline_js[i].call(root, root.Bokeh);\n",
       "    }\n",
       "\n",
       "      } catch (error) {throw error;\n",
       "      }} else if (Date.now() < root._bokeh_timeout) {\n",
       "      setTimeout(run_inline_js, 100);\n",
       "    } else if (!root._bokeh_failed_load) {\n",
       "      console.log(\"Bokeh: BokehJS failed to load within specified timeout.\");\n",
       "      root._bokeh_failed_load = true;\n",
       "    } else if (force !== true) {\n",
       "      const cell = $(document.getElementById(null)).parents('.cell').data().cell;\n",
       "      cell.output_area.append_execute_result(NB_LOAD_WARNING)\n",
       "    }\n",
       "  }\n",
       "\n",
       "  if (root._bokeh_is_loading === 0) {\n",
       "    console.debug(\"Bokeh: BokehJS loaded, going straight to plotting\");\n",
       "    run_inline_js();\n",
       "  } else {\n",
       "    load_libs(css_urls, js_urls, function() {\n",
       "      console.debug(\"Bokeh: BokehJS plotting callback run at\", now());\n",
       "      run_inline_js();\n",
       "    });\n",
       "  }\n",
       "}(window));"
      ],
      "application/vnd.bokehjs_load.v0+json": "'use strict';\n(function(root) {\n  function now() {\n    return new Date();\n  }\n\n  const force = true;\n\n  if (typeof root._bokeh_onload_callbacks === \"undefined\" || force === true) {\n    root._bokeh_onload_callbacks = [];\n    root._bokeh_is_loading = undefined;\n  }\n\n\n  if (typeof (root._bokeh_timeout) === \"undefined\" || force === true) {\n    root._bokeh_timeout = Date.now() + 5000;\n    root._bokeh_failed_load = false;\n  }\n\n  const NB_LOAD_WARNING = {'data': {'text/html':\n     \"<div style='background-color: #fdd'>\\n\"+\n     \"<p>\\n\"+\n     \"BokehJS does not appear to have successfully loaded. If loading BokehJS from CDN, this \\n\"+\n     \"may be due to a slow or bad network connection. Possible fixes:\\n\"+\n     \"</p>\\n\"+\n     \"<ul>\\n\"+\n     \"<li>re-rerun `output_notebook()` to attempt to load from CDN again, or</li>\\n\"+\n     \"<li>use INLINE resources instead, as so:</li>\\n\"+\n     \"</ul>\\n\"+\n     \"<code>\\n\"+\n     \"from bokeh.resources import INLINE\\n\"+\n     \"output_notebook(resources=INLINE)\\n\"+\n     \"</code>\\n\"+\n     \"</div>\"}};\n\n  function display_loaded(error = null) {\n    const el = document.getElementById(null);\n    if (el != null) {\n      const html = (() => {\n        if (typeof root.Bokeh === \"undefined\") {\n          if (error == null) {\n            return \"BokehJS is loading ...\";\n          } else {\n            return \"BokehJS failed to load.\";\n          }\n        } else {\n          const prefix = `BokehJS ${root.Bokeh.version}`;\n          if (error == null) {\n            return `${prefix} successfully loaded.`;\n          } else {\n            return `${prefix} <b>encountered errors</b> while loading and may not function as expected.`;\n          }\n        }\n      })();\n      el.innerHTML = html;\n\n      if (error != null) {\n        const wrapper = document.createElement(\"div\");\n        wrapper.style.overflow = \"auto\";\n        wrapper.style.height = \"5em\";\n        wrapper.style.resize = \"vertical\";\n        const content = document.createElement(\"div\");\n        content.style.fontFamily = \"monospace\";\n        content.style.whiteSpace = \"pre-wrap\";\n        content.style.backgroundColor = \"rgb(255, 221, 221)\";\n        content.textContent = error.stack ?? error.toString();\n        wrapper.append(content);\n        el.append(wrapper);\n      }\n    } else if (Date.now() < root._bokeh_timeout) {\n      setTimeout(() => display_loaded(error), 100);\n    }\n  }\n\n  function run_callbacks() {\n    try {\n      root._bokeh_onload_callbacks.forEach(function(callback) {\n        if (callback != null)\n          callback();\n      });\n    } finally {\n      delete root._bokeh_onload_callbacks\n    }\n    console.debug(\"Bokeh: all callbacks have finished\");\n  }\n\n  function load_libs(css_urls, js_urls, callback) {\n    if (css_urls == null) css_urls = [];\n    if (js_urls == null) js_urls = [];\n\n    root._bokeh_onload_callbacks.push(callback);\n    if (root._bokeh_is_loading > 0) {\n      console.debug(\"Bokeh: BokehJS is being loaded, scheduling callback at\", now());\n      return null;\n    }\n    if (js_urls == null || js_urls.length === 0) {\n      run_callbacks();\n      return null;\n    }\n    console.debug(\"Bokeh: BokehJS not loaded, scheduling load and callback at\", now());\n    root._bokeh_is_loading = css_urls.length + js_urls.length;\n\n    function on_load() {\n      root._bokeh_is_loading--;\n      if (root._bokeh_is_loading === 0) {\n        console.debug(\"Bokeh: all BokehJS libraries/stylesheets loaded\");\n        run_callbacks()\n      }\n    }\n\n    function on_error(url) {\n      console.error(\"failed to load \" + url);\n    }\n\n    for (let i = 0; i < css_urls.length; i++) {\n      const url = css_urls[i];\n      const element = document.createElement(\"link\");\n      element.onload = on_load;\n      element.onerror = on_error.bind(null, url);\n      element.rel = \"stylesheet\";\n      element.type = \"text/css\";\n      element.href = url;\n      console.debug(\"Bokeh: injecting link tag for BokehJS stylesheet: \", url);\n      document.body.appendChild(element);\n    }\n\n    for (let i = 0; i < js_urls.length; i++) {\n      const url = js_urls[i];\n      const element = document.createElement('script');\n      element.onload = on_load;\n      element.onerror = on_error.bind(null, url);\n      element.async = false;\n      element.src = url;\n      console.debug(\"Bokeh: injecting script tag for BokehJS library: \", url);\n      document.head.appendChild(element);\n    }\n  };\n\n  function inject_raw_css(css) {\n    const element = document.createElement(\"style\");\n    element.appendChild(document.createTextNode(css));\n    document.body.appendChild(element);\n  }\n\n  const js_urls = [\"https://cdn.bokeh.org/bokeh/release/bokeh-3.5.2.min.js\", \"https://cdn.bokeh.org/bokeh/release/bokeh-gl-3.5.2.min.js\", \"https://cdn.bokeh.org/bokeh/release/bokeh-widgets-3.5.2.min.js\", \"https://cdn.bokeh.org/bokeh/release/bokeh-tables-3.5.2.min.js\", \"https://cdn.bokeh.org/bokeh/release/bokeh-mathjax-3.5.2.min.js\"];\n  const css_urls = [];\n\n  const inline_js = [    function(Bokeh) {\n      Bokeh.set_log_level(\"info\");\n    },\nfunction(Bokeh) {\n    }\n  ];\n\n  function run_inline_js() {\n    if (root.Bokeh !== undefined || force === true) {\n      try {\n            for (let i = 0; i < inline_js.length; i++) {\n      inline_js[i].call(root, root.Bokeh);\n    }\n\n      } catch (error) {throw error;\n      }} else if (Date.now() < root._bokeh_timeout) {\n      setTimeout(run_inline_js, 100);\n    } else if (!root._bokeh_failed_load) {\n      console.log(\"Bokeh: BokehJS failed to load within specified timeout.\");\n      root._bokeh_failed_load = true;\n    } else if (force !== true) {\n      const cell = $(document.getElementById(null)).parents('.cell').data().cell;\n      cell.output_area.append_execute_result(NB_LOAD_WARNING)\n    }\n  }\n\n  if (root._bokeh_is_loading === 0) {\n    console.debug(\"Bokeh: BokehJS loaded, going straight to plotting\");\n    run_inline_js();\n  } else {\n    load_libs(css_urls, js_urls, function() {\n      console.debug(\"Bokeh: BokehJS plotting callback run at\", now());\n      run_inline_js();\n    });\n  }\n}(window));"
     },
     "metadata": {},
     "output_type": "display_data"
    }
   ],
   "source": [
    "from collections import namedtuple\n",
    "from copy import deepcopy\n",
    "\n",
    "from ssscoring.calc import aggregateResults\n",
    "from ssscoring.calc import convertFlySight2SSScoring\n",
    "from ssscoring.calc import dropNonSkydiveDataFrom\n",
    "from ssscoring.calc import getSpeedSkydiveFrom\n",
    "from ssscoring.calc import isValidJump\n",
    "from ssscoring.calc import isValidMinimumAltitude\n",
    "from ssscoring.calc import jumpAnalysisTable\n",
    "from ssscoring.calc import processAllJumpFiles\n",
    "from ssscoring.calc import roundedAggregateResults\n",
    "from ssscoring.calc import totalResultsFrom\n",
    "from ssscoring.constants import BREAKOFF_ALTITUDE\n",
    "from ssscoring.constants import FT_IN_M\n",
    "from ssscoring.constants import PERFORMANCE_WINDOW_LENGTH\n",
    "from ssscoring.flysight import getAllSpeedJumpFilesFrom\n",
    "from ssscoring.flysight import validFlySightHeaderIn\n",
    "from ssscoring.notebook import SPEED_COLORS\n",
    "from ssscoring.notebook import graphAltitude\n",
    "from ssscoring.notebook import graphAngle\n",
    "from ssscoring.notebook import graphJumpResult\n",
    "from ssscoring.notebook import initializeExtraYRanges\n",
    "from ssscoring.notebook import initializePlot\n",
    "\n",
    "import csv\n",
    "import os\n",
    "import os.path as path\n",
    "\n",
    "import bokeh.plotting as bp\n",
    "import bokeh.models as bm\n",
    "import ipywidgets as widgets\n",
    "import pandas as pd"
   ]
  },
  {
   "cell_type": "code",
   "execution_count": 3,
   "id": "ef1d2bf0-eaf3-4d78-b6c0-fb1bb4ed10f1",
   "metadata": {},
   "outputs": [],
   "source": [
    "DATA_LAKE_ROOT = './data'"
   ]
  },
  {
   "cell_type": "markdown",
   "id": "d52db03d-d83b-4af3-9137-3011537e5ed8",
   "metadata": {},
   "source": [
    "---\n",
    "## <span style=\"color: yellow\">IMPORTANT</span> - Set the drop zone altitude MSL\n",
    "\n",
    "Set the value in ft (even though SSScoring uses meters) out of convenience because all DZs in the US, many in Asia and Mexico, and many in Europe express the altitude in feet.\n",
    "\n",
    "### Some DZs\n",
    "\n",
    "| Drop zone | Alt (ft) |\n",
    "|-----------|----------|\n",
    "| Bay Area Skydiving | 23 |\n",
    "| SkyDance SkyDiving | 100 |\n",
    "| Skydive Arizona | 1509 |\n",
    "| Skydive Chicago | 616 |\n",
    "| Thai Sky Adventures | 21 |"
   ]
  },
  {
   "cell_type": "code",
   "execution_count": 4,
   "id": "5c95013a-4aa3-4a5e-9493-b945ead10ced",
   "metadata": {},
   "outputs": [],
   "source": [
    "dropZoneAltMSL = 23"
   ]
  },
  {
   "cell_type": "code",
   "execution_count": 5,
   "id": "1f091813-03b0-45bc-a30e-704fac7f968a",
   "metadata": {
    "jupyter": {
     "source_hidden": true
    }
   },
   "outputs": [
    {
     "data": {
      "application/vnd.jupyter.widget-view+json": {
       "model_id": "f4c09d7a3642424f9c5c691761c24fd8",
       "version_major": 2,
       "version_minor": 0
      },
      "text/plain": [
       "HTML(value='<h2>DZ Altitude = <span style = \"color: green\">  23.00 ft</span> (   7.01 m)<h1>')"
      ]
     },
     "metadata": {},
     "output_type": "display_data"
    }
   ],
   "source": [
    "dropZoneAltMSLMeters = dropZoneAltMSL/FT_IN_M\n",
    "display(widgets.HTML('<h2>DZ Altitude = <span style = \"color: green\">%7.2f ft</span> (%7.2f m)<h1>' % (dropZoneAltMSL, dropZoneAltMSLMeters)))"
   ]
  },
  {
   "cell_type": "code",
   "execution_count": 6,
   "id": "b1273b5c-44c1-46c2-a125-d01ad9268a1a",
   "metadata": {},
   "outputs": [],
   "source": [
    "jumpFiles = getAllSpeedJumpFilesFrom(DATA_LAKE_ROOT)"
   ]
  },
  {
   "cell_type": "code",
   "execution_count": 7,
   "id": "53a5fe5a-dd39-40d3-bfbf-d7048374e4ea",
   "metadata": {
    "jupyter": {
     "source_hidden": true
    }
   },
   "outputs": [
    {
     "name": "stderr",
     "output_type": "stream",
     "text": [
      "/opt/conda/lib/python3.11/site-packages/numba/cpython/hashing.py:482: UserWarning: FNV hashing is not implemented in Numba. See PEP 456 https://www.python.org/dev/peps/pep-0456/ for rationale over not using FNV. Numba will continue to work, but hashes for built in types will be computed using siphash24. This will permit e.g. dictionaries to continue to behave as expected, however anything relying on the value of the hash opposed to hash as a derived property is likely to not work as expected.\n",
      "  warnings.warn(msg)\n"
     ]
    }
   ],
   "source": [
    "jumpResults = processAllJumpFiles(jumpFiles, altitudeDZMeters = dropZoneAltMSLMeters)"
   ]
  },
  {
   "cell_type": "markdown",
   "id": "797ab0ec-d5e0-4a3b-aa57-eee431bb9824",
   "metadata": {},
   "source": [
    "### Air density\n",
    "\n",
    "**<a href='https://aviex.goflexair.com/blog/density-of-air-air-density' target='_blank'>Pilot's Guide to Air Density</a>** - A useful guide with calculations, lots of information.\n",
    "\n",
    "![](https://ciurana.eu/personal/air-density-partial-table.png)"
   ]
  },
  {
   "cell_type": "markdown",
   "id": "d80518ef-f197-4e40-a74e-8089eecb725a",
   "metadata": {},
   "source": [
    "---\n",
    "## Results"
   ]
  },
  {
   "cell_type": "code",
   "execution_count": 8,
   "id": "27c12cb1-2f60-44c9-b8fa-998b3df9d878",
   "metadata": {
    "jupyter": {
     "source_hidden": true
    }
   },
   "outputs": [
    {
     "data": {
      "text/html": [
       "<div>\n",
       "<style scoped>\n",
       "    .dataframe tbody tr th:only-of-type {\n",
       "        vertical-align: middle;\n",
       "    }\n",
       "\n",
       "    .dataframe tbody tr th {\n",
       "        vertical-align: top;\n",
       "    }\n",
       "\n",
       "    .dataframe thead th {\n",
       "        text-align: right;\n",
       "    }\n",
       "</style>\n",
       "<table border=\"1\" class=\"dataframe\">\n",
       "  <thead>\n",
       "    <tr style=\"text-align: right;\">\n",
       "      <th></th>\n",
       "      <th>score</th>\n",
       "      <th>5.0</th>\n",
       "      <th>10.0</th>\n",
       "      <th>15.0</th>\n",
       "      <th>20.0</th>\n",
       "      <th>25.0</th>\n",
       "      <th>finalTime</th>\n",
       "      <th>maxSpeed</th>\n",
       "    </tr>\n",
       "  </thead>\n",
       "  <tbody>\n",
       "    <tr>\n",
       "      <th>00-00-00-baseline-20240928:v1</th>\n",
       "      <td>488.60496</td>\n",
       "      <td>177.3720</td>\n",
       "      <td>316.4400</td>\n",
       "      <td>415.2240</td>\n",
       "      <td>472.3200</td>\n",
       "      <td>492.8760</td>\n",
       "      <td>24.5</td>\n",
       "      <td>492.8760</td>\n",
       "    </tr>\n",
       "    <tr>\n",
       "      <th>09-29-08:v2</th>\n",
       "      <td>483.437845</td>\n",
       "      <td>172.6812</td>\n",
       "      <td>312.7716</td>\n",
       "      <td>414.6012</td>\n",
       "      <td>472.5576</td>\n",
       "      <td>481.8456</td>\n",
       "      <td>24.8</td>\n",
       "      <td>485.0388</td>\n",
       "    </tr>\n",
       "    <tr>\n",
       "      <th>10-50-38:v2</th>\n",
       "      <td>489.617187</td>\n",
       "      <td>177.5628</td>\n",
       "      <td>315.5868</td>\n",
       "      <td>416.2572</td>\n",
       "      <td>475.4628</td>\n",
       "      <td>494.0820</td>\n",
       "      <td>24.6</td>\n",
       "      <td>494.0820</td>\n",
       "    </tr>\n",
       "    <tr>\n",
       "      <th>12-22-54:v2</th>\n",
       "      <td>487.584929</td>\n",
       "      <td>181.8900</td>\n",
       "      <td>328.6008</td>\n",
       "      <td>416.8728</td>\n",
       "      <td>475.8624</td>\n",
       "      <td>487.2384</td>\n",
       "      <td>24.5</td>\n",
       "      <td>489.4992</td>\n",
       "    </tr>\n",
       "  </tbody>\n",
       "</table>\n",
       "</div>"
      ],
      "text/plain": [
       "                                    score       5.0      10.0      15.0  \\\n",
       "00-00-00-baseline-20240928:v1   488.60496  177.3720  316.4400  415.2240   \n",
       "09-29-08:v2                    483.437845  172.6812  312.7716  414.6012   \n",
       "10-50-38:v2                    489.617187  177.5628  315.5868  416.2572   \n",
       "12-22-54:v2                    487.584929  181.8900  328.6008  416.8728   \n",
       "\n",
       "                                   20.0      25.0  finalTime  maxSpeed  \n",
       "00-00-00-baseline-20240928:v1  472.3200  492.8760       24.5  492.8760  \n",
       "09-29-08:v2                    472.5576  481.8456       24.8  485.0388  \n",
       "10-50-38:v2                    475.4628  494.0820       24.6  494.0820  \n",
       "12-22-54:v2                    475.8624  487.2384       24.5  489.4992  "
      ]
     },
     "metadata": {},
     "output_type": "display_data"
    }
   ],
   "source": [
    "aggregate = aggregateResults(jumpResults)\n",
    "sumResults = totalResultsFrom(aggregate)\n",
    "display(aggregate)"
   ]
  },
  {
   "cell_type": "markdown",
   "id": "3fa8c207-b9cf-4275-ba37-5103e1b324a9",
   "metadata": {},
   "source": [
    "### Rounded results for training log"
   ]
  },
  {
   "cell_type": "code",
   "execution_count": 9,
   "id": "e2bfbc21-3121-436a-904f-547edb0f2d0c",
   "metadata": {},
   "outputs": [],
   "source": [
    "roundedResults = roundedAggregateResults(aggregate)"
   ]
  },
  {
   "cell_type": "markdown",
   "id": "faf1396d-1030-477e-9d87-5c167b61328f",
   "metadata": {},
   "source": [
    "### All jumps"
   ]
  },
  {
   "cell_type": "code",
   "execution_count": 10,
   "id": "5a0571fd-5a22-4dda-94aa-56a4f2c68098",
   "metadata": {
    "jupyter": {
     "source_hidden": true
    }
   },
   "outputs": [],
   "source": [
    "def dumpSimple(table: pd.DataFrame):\n",
    "    fileName = os.path.join(DATA_LAKE_ROOT, resultRef+'.tsv')\n",
    "    simpleTable = table.copy()\n",
    "    simpleTable = simpleTable.drop('speedAngle', axis = 1)\n",
    "    simpleTable.to_csv(fileName, sep = '\\t', index = False)"
   ]
  },
  {
   "cell_type": "code",
   "execution_count": 11,
   "id": "59ff50f6-4f29-4282-a55f-af524921af19",
   "metadata": {
    "jupyter": {
     "source_hidden": true
    }
   },
   "outputs": [],
   "source": [
    "def displayJumpDataIn(resultsTable: pd.DataFrame):\n",
    "    table = resultsTable.copy()\n",
    "    # Experimental\n",
    "    # For more information on the `interpolate` method and its options, see the [pandas documentation](https://pandas.pydata.org/pandas-docs/stable/reference/api/pandas.Series.interpolate.html).\n",
    "    # Additionally, you can also consider using other libraries like `scipy` which provides more advanced interpolation methods, such as `interp1d` or `griddata`. See the [scipy documentation](https://docs.scipy.org/doc/scipy/reference/interpolate.html) for more information.\n",
    "    table.vKMh = table.vKMh.apply(round)\n",
    "    table.hKMh = table.hKMh.apply(round)\n",
    "    table['altitude (ft)'] = table['altitude (ft)'].apply(round)\n",
    "    table.netVectorKMh = table.netVectorKMh.apply(round)\n",
    "    table.index = ['']*len(table)\n",
    "    display(table)\n",
    "    # dumpSimple(table)"
   ]
  },
  {
   "cell_type": "code",
   "execution_count": 12,
   "id": "fe6156be-7071-47a7-bb7f-9724f6d4a3ac",
   "metadata": {
    "jupyter": {
     "source_hidden": true
    }
   },
   "outputs": [
    {
     "data": {
      "application/vnd.jupyter.widget-view+json": {
       "model_id": "234cf003ea1c42698e017737a1065e0b",
       "version_major": 2,
       "version_minor": 0
      },
      "text/plain": [
       "HTML(value='<hr><h1><span style=\"color: #0f0\">00-00-00-baseline-20240928:v1 jump - 🟢 valid - score = 488.60 km…"
      ]
     },
     "metadata": {},
     "output_type": "display_data"
    },
    {
     "data": {
      "application/vnd.jupyter.widget-view+json": {
       "model_id": "97e76cb551264cdaa1fcec491955f4c2",
       "version_major": 2,
       "version_minor": 0
      },
      "text/plain": [
       "HTML(value='<h3>Max speed = 493; exit at 4344 m (14252 ft), end scoring window at 2088 m (6851 ft)')"
      ]
     },
     "metadata": {},
     "output_type": "display_data"
    },
    {
     "data": {
      "application/vnd.jupyter.widget-view+json": {
       "model_id": "9d900b12ed2c4a3ebe6248a88001248c",
       "version_major": 2,
       "version_minor": 0
      },
      "text/plain": [
       "HTML(value='</h3>')"
      ]
     },
     "metadata": {},
     "output_type": "display_data"
    },
    {
     "data": {
      "text/html": [
       "<div>\n",
       "<style scoped>\n",
       "    .dataframe tbody tr th:only-of-type {\n",
       "        vertical-align: middle;\n",
       "    }\n",
       "\n",
       "    .dataframe tbody tr th {\n",
       "        vertical-align: top;\n",
       "    }\n",
       "\n",
       "    .dataframe thead th {\n",
       "        text-align: right;\n",
       "    }\n",
       "</style>\n",
       "<table border=\"1\" class=\"dataframe\">\n",
       "  <thead>\n",
       "    <tr style=\"text-align: right;\">\n",
       "      <th></th>\n",
       "      <th>time</th>\n",
       "      <th>vKMh</th>\n",
       "      <th>hKMh</th>\n",
       "      <th>speedAngle</th>\n",
       "      <th>distanceFromExit</th>\n",
       "      <th>altitude (ft)</th>\n",
       "      <th>netVectorKMh</th>\n",
       "    </tr>\n",
       "  </thead>\n",
       "  <tbody>\n",
       "    <tr>\n",
       "      <th></th>\n",
       "      <td>5.0</td>\n",
       "      <td>177</td>\n",
       "      <td>183</td>\n",
       "      <td>44.1</td>\n",
       "      <td>290.800000</td>\n",
       "      <td>13821</td>\n",
       "      <td>255</td>\n",
       "    </tr>\n",
       "    <tr>\n",
       "      <th></th>\n",
       "      <td>10.0</td>\n",
       "      <td>316</td>\n",
       "      <td>163</td>\n",
       "      <td>62.7</td>\n",
       "      <td>526.500000</td>\n",
       "      <td>12666</td>\n",
       "      <td>356</td>\n",
       "    </tr>\n",
       "    <tr>\n",
       "      <th></th>\n",
       "      <td>15.0</td>\n",
       "      <td>415</td>\n",
       "      <td>121</td>\n",
       "      <td>73.8</td>\n",
       "      <td>725.200000</td>\n",
       "      <td>10975</td>\n",
       "      <td>432</td>\n",
       "    </tr>\n",
       "    <tr>\n",
       "      <th></th>\n",
       "      <td>20.0</td>\n",
       "      <td>472</td>\n",
       "      <td>84</td>\n",
       "      <td>80.0</td>\n",
       "      <td>867.800000</td>\n",
       "      <td>8923</td>\n",
       "      <td>480</td>\n",
       "    </tr>\n",
       "    <tr>\n",
       "      <th></th>\n",
       "      <td>25.0</td>\n",
       "      <td>493</td>\n",
       "      <td>65</td>\n",
       "      <td>82.5</td>\n",
       "      <td>964.878149</td>\n",
       "      <td>6928</td>\n",
       "      <td>497</td>\n",
       "    </tr>\n",
       "  </tbody>\n",
       "</table>\n",
       "</div>"
      ],
      "text/plain": [
       "  time  vKMh  hKMh  speedAngle  distanceFromExit  altitude (ft)  netVectorKMh\n",
       "   5.0   177   183        44.1        290.800000          13821           255\n",
       "  10.0   316   163        62.7        526.500000          12666           356\n",
       "  15.0   415   121        73.8        725.200000          10975           432\n",
       "  20.0   472    84        80.0        867.800000           8923           480\n",
       "  25.0   493    65        82.5        964.878149           6928           497"
      ]
     },
     "metadata": {},
     "output_type": "display_data"
    },
    {
     "data": {
      "text/html": [
       "\n",
       "  <div id=\"a8895db7-7909-46af-a43b-6e1208d98d33\" data-root-id=\"p1038\" style=\"display: contents;\"></div>\n"
      ]
     },
     "metadata": {},
     "output_type": "display_data"
    },
    {
     "data": {
      "application/javascript": [
       "(function(root) {\n",
       "  function embed_document(root) {\n",
       "  const docs_json = {\"5704ea10-d0cd-40ef-b9b1-edd63e83d4eb\":{\"version\":\"3.5.2\",\"title\":\"Bokeh Application\",\"roots\":[{\"type\":\"object\",\"name\":\"Figure\",\"id\":\"p1038\",\"attributes\":{\"width\":900,\"height\":500,\"x_range\":{\"type\":\"object\",\"name\":\"Range1d\",\"id\":\"p1048\",\"attributes\":{\"end\":35.0}},\"y_range\":{\"type\":\"object\",\"name\":\"Range1d\",\"id\":\"p1049\",\"attributes\":{\"end\":550.0}},\"x_scale\":{\"type\":\"object\",\"name\":\"LinearScale\",\"id\":\"p1050\"},\"y_scale\":{\"type\":\"object\",\"name\":\"LinearScale\",\"id\":\"p1051\"},\"extra_y_ranges\":{\"type\":\"map\",\"entries\":[[\"altitudeFt\",{\"type\":\"object\",\"name\":\"Range1d\",\"id\":\"p1075\",\"attributes\":{\"start\":6428.2212463999995,\"end\":14752.9648536}}],[\"angle\",{\"type\":\"object\",\"name\":\"Range1d\",\"id\":\"p1076\",\"attributes\":{\"end\":90.0}}]]},\"title\":{\"type\":\"object\",\"name\":\"Title\",\"id\":\"p1041\",\"attributes\":{\"text\":\"00-00-00-baseline-20240928:v1\",\"text_color\":\"#E0E0E0\",\"text_font\":\"Helvetica\",\"text_font_size\":\"1.15em\"}},\"outline_line_color\":\"#E0E0E0\",\"outline_line_alpha\":0.25,\"renderers\":[{\"type\":\"object\",\"name\":\"GlyphRenderer\",\"id\":\"p1091\",\"attributes\":{\"y_range_name\":\"altitudeFt\",\"data_source\":{\"type\":\"object\",\"name\":\"ColumnDataSource\",\"id\":\"p1085\",\"attributes\":{\"selected\":{\"type\":\"object\",\"name\":\"Selection\",\"id\":\"p1086\",\"attributes\":{\"indices\":[],\"line_indices\":[]}},\"selection_policy\":{\"type\":\"object\",\"name\":\"UnionRenderers\",\"id\":\"p1087\"},\"data\":{\"type\":\"map\",\"entries\":[[\"x\",{\"type\":\"ndarray\",\"array\":{\"type\":\"bytes\",\"data\":\"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\"},\"shape\":[199],\"dtype\":\"float64\",\"order\":\"little\"}],[\"y\",{\"type\":\"ndarray\",\"array\":{\"type\":\"bytes\",\"data\":\"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\"},\"shape\":[199],\"dtype\":\"float64\",\"order\":\"little\"}]]}}},\"view\":{\"type\":\"object\",\"name\":\"CDSView\",\"id\":\"p1092\",\"attributes\":{\"filter\":{\"type\":\"object\",\"name\":\"AllIndices\",\"id\":\"p1093\"}}},\"glyph\":{\"type\":\"object\",\"name\":\"Line\",\"id\":\"p1088\",\"attributes\":{\"x\":{\"type\":\"field\",\"field\":\"x\"},\"y\":{\"type\":\"field\",\"field\":\"y\"},\"line_color\":\"palegoldenrod\",\"line_width\":2}},\"nonselection_glyph\":{\"type\":\"object\",\"name\":\"Line\",\"id\":\"p1089\",\"attributes\":{\"x\":{\"type\":\"field\",\"field\":\"x\"},\"y\":{\"type\":\"field\",\"field\":\"y\"},\"line_color\":\"palegoldenrod\",\"line_alpha\":0.1,\"line_width\":2}},\"muted_glyph\":{\"type\":\"object\",\"name\":\"Line\",\"id\":\"p1090\",\"attributes\":{\"x\":{\"type\":\"field\",\"field\":\"x\"},\"y\":{\"type\":\"field\",\"field\":\"y\"},\"line_color\":\"palegoldenrod\",\"line_alpha\":0.2,\"line_width\":2}}}},{\"type\":\"object\",\"name\":\"GlyphRenderer\",\"id\":\"p1102\",\"attributes\":{\"y_range_name\":\"angle\",\"data_source\":{\"type\":\"object\",\"name\":\"ColumnDataSource\",\"id\":\"p1096\",\"attributes\":{\"selected\":{\"type\":\"object\",\"name\":\"Selection\",\"id\":\"p1097\",\"attributes\":{\"indices\":[],\"line_indices\":[]}},\"selection_policy\":{\"type\":\"object\",\"name\":\"UnionRenderers\",\"id\":\"p1098\"},\"data\":{\"type\":\"map\",\"entries\":[[\"x\",{\"type\":\"ndarray\",\"array\":{\"type\":\"bytes\",\"data\":\"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\"},\"shape\":[199],\"dtype\":\"float64\",\"order\":\"little\"}],[\"y\",{\"type\":\"ndarray\",\"array\":{\"type\":\"bytes\",\"data\":\"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\"},\"shape\":[199],\"dtype\":\"float64\",\"order\":\"little\"}]]}}},\"view\":{\"type\":\"object\",\"name\":\"CDSView\",\"id\":\"p1103\",\"attributes\":{\"filter\":{\"type\":\"object\",\"name\":\"AllIndices\",\"id\":\"p1104\"}}},\"glyph\":{\"type\":\"object\",\"name\":\"Line\",\"id\":\"p1099\",\"attributes\":{\"x\":{\"type\":\"field\",\"field\":\"x\"},\"y\":{\"type\":\"field\",\"field\":\"y\"},\"line_color\":\"deepskyblue\",\"line_width\":2}},\"nonselection_glyph\":{\"type\":\"object\",\"name\":\"Line\",\"id\":\"p1100\",\"attributes\":{\"x\":{\"type\":\"field\",\"field\":\"x\"},\"y\":{\"type\":\"field\",\"field\":\"y\"},\"line_color\":\"deepskyblue\",\"line_alpha\":0.1,\"line_width\":2}},\"muted_glyph\":{\"type\":\"object\",\"name\":\"Line\",\"id\":\"p1101\",\"attributes\":{\"x\":{\"type\":\"field\",\"field\":\"x\"},\"y\":{\"type\":\"field\",\"field\":\"y\"},\"line_color\":\"deepskyblue\",\"line_alpha\":0.2,\"line_width\":2}}}},{\"type\":\"object\",\"name\":\"GlyphRenderer\",\"id\":\"p1113\",\"attributes\":{\"data_source\":{\"type\":\"object\",\"name\":\"ColumnDataSource\",\"id\":\"p1107\",\"attributes\":{\"selected\":{\"type\":\"object\",\"name\":\"Selection\",\"id\":\"p1108\",\"attributes\":{\"indices\":[],\"line_indices\":[]}},\"selection_policy\":{\"type\":\"object\",\"name\":\"UnionRenderers\",\"id\":\"p1109\"},\"data\":{\"type\":\"map\",\"entries\":[[\"x\",{\"type\":\"ndarray\",\"array\":{\"type\":\"bytes\",\"data\":\"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\"},\"shape\":[199],\"dtype\":\"float64\",\"order\":\"little\"}],[\"y\",{\"type\":\"ndarray\",\"array\":{\"type\":\"bytes\",\"data\":\"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\"},\"shape\":[199],\"dtype\":\"float64\",\"order\":\"little\"}]]}}},\"view\":{\"type\":\"object\",\"name\":\"CDSView\",\"id\":\"p1114\",\"attributes\":{\"filter\":{\"type\":\"object\",\"name\":\"AllIndices\",\"id\":\"p1115\"}}},\"glyph\":{\"type\":\"object\",\"name\":\"Line\",\"id\":\"p1110\",\"attributes\":{\"x\":{\"type\":\"field\",\"field\":\"x\"},\"y\":{\"type\":\"field\",\"field\":\"y\"},\"line_color\":\"limegreen\",\"line_width\":2}},\"nonselection_glyph\":{\"type\":\"object\",\"name\":\"Line\",\"id\":\"p1111\",\"attributes\":{\"x\":{\"type\":\"field\",\"field\":\"x\"},\"y\":{\"type\":\"field\",\"field\":\"y\"},\"line_color\":\"limegreen\",\"line_alpha\":0.1,\"line_width\":2}},\"muted_glyph\":{\"type\":\"object\",\"name\":\"Line\",\"id\":\"p1112\",\"attributes\":{\"x\":{\"type\":\"field\",\"field\":\"x\"},\"y\":{\"type\":\"field\",\"field\":\"y\"},\"line_color\":\"limegreen\",\"line_alpha\":0.2,\"line_width\":2}}}},{\"type\":\"object\",\"name\":\"GlyphRenderer\",\"id\":\"p1123\",\"attributes\":{\"data_source\":{\"type\":\"object\",\"name\":\"ColumnDataSource\",\"id\":\"p1117\",\"attributes\":{\"selected\":{\"type\":\"object\",\"name\":\"Selection\",\"id\":\"p1118\",\"attributes\":{\"indices\":[],\"line_indices\":[]}},\"selection_policy\":{\"type\":\"object\",\"name\":\"UnionRenderers\",\"id\":\"p1119\"},\"data\":{\"type\":\"map\",\"entries\":[[\"x\",{\"type\":\"ndarray\",\"array\":{\"type\":\"bytes\",\"data\":\"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\"},\"shape\":[199],\"dtype\":\"float64\",\"order\":\"little\"}],[\"y\",{\"type\":\"ndarray\",\"array\":{\"type\":\"bytes\",\"data\":\"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\"},\"shape\":[199],\"dtype\":\"float64\",\"order\":\"little\"}]]}}},\"view\":{\"type\":\"object\",\"name\":\"CDSView\",\"id\":\"p1124\",\"attributes\":{\"filter\":{\"type\":\"object\",\"name\":\"AllIndices\",\"id\":\"p1125\"}}},\"glyph\":{\"type\":\"object\",\"name\":\"Line\",\"id\":\"p1120\",\"attributes\":{\"x\":{\"type\":\"field\",\"field\":\"x\"},\"y\":{\"type\":\"field\",\"field\":\"y\"},\"line_color\":\"red\",\"line_width\":2}},\"nonselection_glyph\":{\"type\":\"object\",\"name\":\"Line\",\"id\":\"p1121\",\"attributes\":{\"x\":{\"type\":\"field\",\"field\":\"x\"},\"y\":{\"type\":\"field\",\"field\":\"y\"},\"line_color\":\"red\",\"line_alpha\":0.1,\"line_width\":2}},\"muted_glyph\":{\"type\":\"object\",\"name\":\"Line\",\"id\":\"p1122\",\"attributes\":{\"x\":{\"type\":\"field\",\"field\":\"x\"},\"y\":{\"type\":\"field\",\"field\":\"y\"},\"line_color\":\"red\",\"line_alpha\":0.2,\"line_width\":2}}}},{\"type\":\"object\",\"name\":\"GlyphRenderer\",\"id\":\"p1133\",\"attributes\":{\"data_source\":{\"type\":\"object\",\"name\":\"ColumnDataSource\",\"id\":\"p1127\",\"attributes\":{\"selected\":{\"type\":\"object\",\"name\":\"Selection\",\"id\":\"p1128\",\"attributes\":{\"indices\":[],\"line_indices\":[]}},\"selection_policy\":{\"type\":\"object\",\"name\":\"UnionRenderers\",\"id\":\"p1129\"},\"data\":{\"type\":\"map\",\"entries\":[[\"x0\",[24.5]],[\"y0\",[0.0]],[\"x1\",[24.5]],[\"y1\",[488.60496]]]}}},\"view\":{\"type\":\"object\",\"name\":\"CDSView\",\"id\":\"p1134\",\"attributes\":{\"filter\":{\"type\":\"object\",\"name\":\"AllIndices\",\"id\":\"p1135\"}}},\"glyph\":{\"type\":\"object\",\"name\":\"Segment\",\"id\":\"p1130\",\"attributes\":{\"x0\":{\"type\":\"field\",\"field\":\"x0\"},\"y0\":{\"type\":\"field\",\"field\":\"y0\"},\"x1\":{\"type\":\"field\",\"field\":\"x1\"},\"y1\":{\"type\":\"field\",\"field\":\"y1\"},\"line_color\":{\"type\":\"value\",\"value\":\"lightblue\"},\"line_width\":{\"type\":\"value\",\"value\":3}}},\"nonselection_glyph\":{\"type\":\"object\",\"name\":\"Segment\",\"id\":\"p1131\",\"attributes\":{\"x0\":{\"type\":\"field\",\"field\":\"x0\"},\"y0\":{\"type\":\"field\",\"field\":\"y0\"},\"x1\":{\"type\":\"field\",\"field\":\"x1\"},\"y1\":{\"type\":\"field\",\"field\":\"y1\"},\"line_color\":{\"type\":\"value\",\"value\":\"lightblue\"},\"line_alpha\":{\"type\":\"value\",\"value\":0.1},\"line_width\":{\"type\":\"value\",\"value\":3}}},\"muted_glyph\":{\"type\":\"object\",\"name\":\"Segment\",\"id\":\"p1132\",\"attributes\":{\"x0\":{\"type\":\"field\",\"field\":\"x0\"},\"y0\":{\"type\":\"field\",\"field\":\"y0\"},\"x1\":{\"type\":\"field\",\"field\":\"x1\"},\"y1\":{\"type\":\"field\",\"field\":\"y1\"},\"line_color\":{\"type\":\"value\",\"value\":\"lightblue\"},\"line_alpha\":{\"type\":\"value\",\"value\":0.2},\"line_width\":{\"type\":\"value\",\"value\":3}}}}},{\"type\":\"object\",\"name\":\"GlyphRenderer\",\"id\":\"p1142\",\"attributes\":{\"data_source\":{\"type\":\"object\",\"name\":\"ColumnDataSource\",\"id\":\"p1136\",\"attributes\":{\"selected\":{\"type\":\"object\",\"name\":\"Selection\",\"id\":\"p1137\",\"attributes\":{\"indices\":[],\"line_indices\":[]}},\"selection_policy\":{\"type\":\"object\",\"name\":\"UnionRenderers\",\"id\":\"p1138\"},\"data\":{\"type\":\"map\",\"entries\":[[\"x0\",[26.0]],[\"y0\",[0.0]],[\"x1\",[26.0]],[\"y1\",[488.60496]]]}}},\"view\":{\"type\":\"object\",\"name\":\"CDSView\",\"id\":\"p1143\",\"attributes\":{\"filter\":{\"type\":\"object\",\"name\":\"AllIndices\",\"id\":\"p1144\"}}},\"glyph\":{\"type\":\"object\",\"name\":\"Segment\",\"id\":\"p1139\",\"attributes\":{\"x0\":{\"type\":\"field\",\"field\":\"x0\"},\"y0\":{\"type\":\"field\",\"field\":\"y0\"},\"x1\":{\"type\":\"field\",\"field\":\"x1\"},\"y1\":{\"type\":\"field\",\"field\":\"y1\"},\"line_color\":{\"type\":\"value\",\"value\":\"darkseagreen\"}}},\"nonselection_glyph\":{\"type\":\"object\",\"name\":\"Segment\",\"id\":\"p1140\",\"attributes\":{\"x0\":{\"type\":\"field\",\"field\":\"x0\"},\"y0\":{\"type\":\"field\",\"field\":\"y0\"},\"x1\":{\"type\":\"field\",\"field\":\"x1\"},\"y1\":{\"type\":\"field\",\"field\":\"y1\"},\"line_color\":{\"type\":\"value\",\"value\":\"darkseagreen\"},\"line_alpha\":{\"type\":\"value\",\"value\":0.1}}},\"muted_glyph\":{\"type\":\"object\",\"name\":\"Segment\",\"id\":\"p1141\",\"attributes\":{\"x0\":{\"type\":\"field\",\"field\":\"x0\"},\"y0\":{\"type\":\"field\",\"field\":\"y0\"},\"x1\":{\"type\":\"field\",\"field\":\"x1\"},\"y1\":{\"type\":\"field\",\"field\":\"y1\"},\"line_color\":{\"type\":\"value\",\"value\":\"darkseagreen\"},\"line_alpha\":{\"type\":\"value\",\"value\":0.2}}}}},{\"type\":\"object\",\"name\":\"GlyphRenderer\",\"id\":\"p1151\",\"attributes\":{\"data_source\":{\"type\":\"object\",\"name\":\"ColumnDataSource\",\"id\":\"p1145\",\"attributes\":{\"selected\":{\"type\":\"object\",\"name\":\"Selection\",\"id\":\"p1146\",\"attributes\":{\"indices\":[],\"line_indices\":[]}},\"selection_policy\":{\"type\":\"object\",\"name\":\"UnionRenderers\",\"id\":\"p1147\"},\"data\":{\"type\":\"map\",\"entries\":[[\"x0\",[23.0]],[\"y0\",[0.0]],[\"x1\",[23.0]],[\"y1\",[488.60496]]]}}},\"view\":{\"type\":\"object\",\"name\":\"CDSView\",\"id\":\"p1152\",\"attributes\":{\"filter\":{\"type\":\"object\",\"name\":\"AllIndices\",\"id\":\"p1153\"}}},\"glyph\":{\"type\":\"object\",\"name\":\"Segment\",\"id\":\"p1148\",\"attributes\":{\"x0\":{\"type\":\"field\",\"field\":\"x0\"},\"y0\":{\"type\":\"field\",\"field\":\"y0\"},\"x1\":{\"type\":\"field\",\"field\":\"x1\"},\"y1\":{\"type\":\"field\",\"field\":\"y1\"},\"line_color\":{\"type\":\"value\",\"value\":\"darkseagreen\"}}},\"nonselection_glyph\":{\"type\":\"object\",\"name\":\"Segment\",\"id\":\"p1149\",\"attributes\":{\"x0\":{\"type\":\"field\",\"field\":\"x0\"},\"y0\":{\"type\":\"field\",\"field\":\"y0\"},\"x1\":{\"type\":\"field\",\"field\":\"x1\"},\"y1\":{\"type\":\"field\",\"field\":\"y1\"},\"line_color\":{\"type\":\"value\",\"value\":\"darkseagreen\"},\"line_alpha\":{\"type\":\"value\",\"value\":0.1}}},\"muted_glyph\":{\"type\":\"object\",\"name\":\"Segment\",\"id\":\"p1150\",\"attributes\":{\"x0\":{\"type\":\"field\",\"field\":\"x0\"},\"y0\":{\"type\":\"field\",\"field\":\"y0\"},\"x1\":{\"type\":\"field\",\"field\":\"x1\"},\"y1\":{\"type\":\"field\",\"field\":\"y1\"},\"line_color\":{\"type\":\"value\",\"value\":\"darkseagreen\"},\"line_alpha\":{\"type\":\"value\",\"value\":0.2}}}}},{\"type\":\"object\",\"name\":\"GlyphRenderer\",\"id\":\"p1160\",\"attributes\":{\"data_source\":{\"type\":\"object\",\"name\":\"ColumnDataSource\",\"id\":\"p1154\",\"attributes\":{\"selected\":{\"type\":\"object\",\"name\":\"Selection\",\"id\":\"p1155\",\"attributes\":{\"indices\":[],\"line_indices\":[]}},\"selection_policy\":{\"type\":\"object\",\"name\":\"UnionRenderers\",\"id\":\"p1156\"},\"data\":{\"type\":\"map\",\"entries\":[[\"x\",[24.5]],[\"y\",[488.60496]],[\"size\",[20]]]}}},\"view\":{\"type\":\"object\",\"name\":\"CDSView\",\"id\":\"p1161\",\"attributes\":{\"filter\":{\"type\":\"object\",\"name\":\"AllIndices\",\"id\":\"p1162\"}}},\"glyph\":{\"type\":\"object\",\"name\":\"Scatter\",\"id\":\"p1157\",\"attributes\":{\"x\":{\"type\":\"field\",\"field\":\"x\"},\"y\":{\"type\":\"field\",\"field\":\"y\"},\"size\":{\"type\":\"field\",\"field\":\"size\"},\"line_color\":{\"type\":\"value\",\"value\":\"lightblue\"},\"line_width\":{\"type\":\"value\",\"value\":3},\"fill_color\":{\"type\":\"value\",\"value\":null},\"marker\":{\"type\":\"value\",\"value\":\"square_cross\"}}},\"nonselection_glyph\":{\"type\":\"object\",\"name\":\"Scatter\",\"id\":\"p1158\",\"attributes\":{\"x\":{\"type\":\"field\",\"field\":\"x\"},\"y\":{\"type\":\"field\",\"field\":\"y\"},\"size\":{\"type\":\"field\",\"field\":\"size\"},\"line_color\":{\"type\":\"value\",\"value\":\"lightblue\"},\"line_alpha\":{\"type\":\"value\",\"value\":0.1},\"line_width\":{\"type\":\"value\",\"value\":3},\"fill_color\":{\"type\":\"value\",\"value\":null},\"fill_alpha\":{\"type\":\"value\",\"value\":0.1},\"hatch_alpha\":{\"type\":\"value\",\"value\":0.1},\"marker\":{\"type\":\"value\",\"value\":\"square_cross\"}}},\"muted_glyph\":{\"type\":\"object\",\"name\":\"Scatter\",\"id\":\"p1159\",\"attributes\":{\"x\":{\"type\":\"field\",\"field\":\"x\"},\"y\":{\"type\":\"field\",\"field\":\"y\"},\"size\":{\"type\":\"field\",\"field\":\"size\"},\"line_color\":{\"type\":\"value\",\"value\":\"lightblue\"},\"line_alpha\":{\"type\":\"value\",\"value\":0.2},\"line_width\":{\"type\":\"value\",\"value\":3},\"fill_color\":{\"type\":\"value\",\"value\":null},\"fill_alpha\":{\"type\":\"value\",\"value\":0.2},\"hatch_alpha\":{\"type\":\"value\",\"value\":0.2},\"marker\":{\"type\":\"value\",\"value\":\"square_cross\"}}}}}],\"toolbar\":{\"type\":\"object\",\"name\":\"Toolbar\",\"id\":\"p1047\",\"attributes\":{\"tools\":[{\"type\":\"object\",\"name\":\"PanTool\",\"id\":\"p1062\"},{\"type\":\"object\",\"name\":\"WheelZoomTool\",\"id\":\"p1063\",\"attributes\":{\"renderers\":\"auto\"}},{\"type\":\"object\",\"name\":\"BoxZoomTool\",\"id\":\"p1064\",\"attributes\":{\"overlay\":{\"type\":\"object\",\"name\":\"BoxAnnotation\",\"id\":\"p1065\",\"attributes\":{\"syncable\":false,\"line_color\":\"black\",\"line_alpha\":1.0,\"line_width\":2,\"line_dash\":[4,4],\"fill_color\":\"lightgrey\",\"fill_alpha\":0.5,\"level\":\"overlay\",\"visible\":false,\"left\":{\"type\":\"number\",\"value\":\"nan\"},\"right\":{\"type\":\"number\",\"value\":\"nan\"},\"top\":{\"type\":\"number\",\"value\":\"nan\"},\"bottom\":{\"type\":\"number\",\"value\":\"nan\"},\"left_units\":\"canvas\",\"right_units\":\"canvas\",\"top_units\":\"canvas\",\"bottom_units\":\"canvas\",\"handles\":{\"type\":\"object\",\"name\":\"BoxInteractionHandles\",\"id\":\"p1071\",\"attributes\":{\"all\":{\"type\":\"object\",\"name\":\"AreaVisuals\",\"id\":\"p1070\",\"attributes\":{\"fill_color\":\"white\",\"hover_fill_color\":\"lightgray\"}}}}}}}},{\"type\":\"object\",\"name\":\"SaveTool\",\"id\":\"p1072\"},{\"type\":\"object\",\"name\":\"ResetTool\",\"id\":\"p1073\"},{\"type\":\"object\",\"name\":\"HelpTool\",\"id\":\"p1074\"},{\"type\":\"object\",\"name\":\"HoverTool\",\"id\":\"p1106\",\"attributes\":{\"renderers\":\"auto\",\"tooltips\":[[\"Y-val\",\"@y{0.00}\"]]}}]}},\"left\":[{\"type\":\"object\",\"name\":\"LinearAxis\",\"id\":\"p1057\",\"attributes\":{\"ticker\":{\"type\":\"object\",\"name\":\"BasicTicker\",\"id\":\"p1058\",\"attributes\":{\"mantissas\":[1,2,5]}},\"formatter\":{\"type\":\"object\",\"name\":\"BasicTickFormatter\",\"id\":\"p1059\"},\"axis_label\":\"km/h\",\"axis_label_standoff\":10,\"axis_label_text_color\":\"#E0E0E0\",\"axis_label_text_font\":\"Helvetica\",\"axis_label_text_font_size\":\"1.25em\",\"axis_label_text_font_style\":\"normal\",\"major_label_policy\":{\"type\":\"object\",\"name\":\"AllLabels\",\"id\":\"p1060\"},\"major_label_text_color\":\"#E0E0E0\",\"major_label_text_font\":\"Helvetica\",\"major_label_text_font_size\":\"1.025em\",\"axis_line_color\":\"#E0E0E0\",\"axis_line_alpha\":0,\"major_tick_line_color\":\"#E0E0E0\",\"major_tick_line_alpha\":0,\"minor_tick_line_color\":\"#E0E0E0\",\"minor_tick_line_alpha\":0}},{\"type\":\"object\",\"name\":\"LinearAxis\",\"id\":\"p1077\",\"attributes\":{\"y_range_name\":\"altitudeFt\",\"ticker\":{\"type\":\"object\",\"name\":\"BasicTicker\",\"id\":\"p1078\",\"attributes\":{\"mantissas\":[1,2,5]}},\"formatter\":{\"type\":\"object\",\"name\":\"BasicTickFormatter\",\"id\":\"p1079\"},\"axis_label\":\"Alt (ft)\",\"axis_label_standoff\":10,\"axis_label_text_color\":\"#E0E0E0\",\"axis_label_text_font\":\"Helvetica\",\"axis_label_text_font_size\":\"1.25em\",\"axis_label_text_font_style\":\"normal\",\"major_label_policy\":{\"type\":\"object\",\"name\":\"AllLabels\",\"id\":\"p1080\"},\"major_label_text_color\":\"#E0E0E0\",\"major_label_text_font\":\"Helvetica\",\"major_label_text_font_size\":\"1.025em\",\"axis_line_color\":\"#E0E0E0\",\"axis_line_alpha\":0,\"major_tick_line_color\":\"#E0E0E0\",\"major_tick_line_alpha\":0,\"minor_tick_line_color\":\"#E0E0E0\",\"minor_tick_line_alpha\":0}},{\"type\":\"object\",\"name\":\"LinearAxis\",\"id\":\"p1081\",\"attributes\":{\"y_range_name\":\"angle\",\"ticker\":{\"type\":\"object\",\"name\":\"BasicTicker\",\"id\":\"p1082\",\"attributes\":{\"mantissas\":[1,2,5]}},\"formatter\":{\"type\":\"object\",\"name\":\"BasicTickFormatter\",\"id\":\"p1083\"},\"axis_label\":\"angle\",\"axis_label_standoff\":10,\"axis_label_text_color\":\"#E0E0E0\",\"axis_label_text_font\":\"Helvetica\",\"axis_label_text_font_size\":\"1.25em\",\"axis_label_text_font_style\":\"normal\",\"major_label_policy\":{\"type\":\"object\",\"name\":\"AllLabels\",\"id\":\"p1084\"},\"major_label_text_color\":\"#E0E0E0\",\"major_label_text_font\":\"Helvetica\",\"major_label_text_font_size\":\"1.025em\",\"axis_line_color\":\"#E0E0E0\",\"axis_line_alpha\":0,\"major_tick_line_color\":\"#E0E0E0\",\"major_tick_line_alpha\":0,\"minor_tick_line_color\":\"#E0E0E0\",\"minor_tick_line_alpha\":0}}],\"below\":[{\"type\":\"object\",\"name\":\"LinearAxis\",\"id\":\"p1052\",\"attributes\":{\"ticker\":{\"type\":\"object\",\"name\":\"BasicTicker\",\"id\":\"p1053\",\"attributes\":{\"mantissas\":[1,2,5]}},\"formatter\":{\"type\":\"object\",\"name\":\"BasicTickFormatter\",\"id\":\"p1054\"},\"axis_label\":\"seconds from exit\",\"axis_label_standoff\":10,\"axis_label_text_color\":\"#E0E0E0\",\"axis_label_text_font\":\"Helvetica\",\"axis_label_text_font_size\":\"1.25em\",\"axis_label_text_font_style\":\"normal\",\"major_label_policy\":{\"type\":\"object\",\"name\":\"AllLabels\",\"id\":\"p1055\"},\"major_label_text_color\":\"#E0E0E0\",\"major_label_text_font\":\"Helvetica\",\"major_label_text_font_size\":\"1.025em\",\"axis_line_color\":\"#E0E0E0\",\"axis_line_alpha\":0,\"major_tick_line_color\":\"#E0E0E0\",\"major_tick_line_alpha\":0,\"minor_tick_line_color\":\"#E0E0E0\",\"minor_tick_line_alpha\":0}}],\"center\":[{\"type\":\"object\",\"name\":\"Grid\",\"id\":\"p1056\",\"attributes\":{\"axis\":{\"id\":\"p1052\"},\"grid_line_color\":\"#E0E0E0\",\"grid_line_alpha\":0.25}},{\"type\":\"object\",\"name\":\"Grid\",\"id\":\"p1061\",\"attributes\":{\"dimension\":1,\"axis\":{\"id\":\"p1057\"},\"grid_line_color\":\"#E0E0E0\",\"grid_line_alpha\":0.25}},{\"type\":\"object\",\"name\":\"Legend\",\"id\":\"p1094\",\"attributes\":{\"border_line_alpha\":0,\"background_fill_color\":\"#20262B\",\"background_fill_alpha\":0.25,\"label_text_color\":\"#E0E0E0\",\"label_text_font\":\"Helvetica\",\"label_text_font_size\":\"1.025em\",\"label_standoff\":8,\"glyph_width\":15,\"spacing\":8,\"items\":[{\"type\":\"object\",\"name\":\"LegendItem\",\"id\":\"p1095\",\"attributes\":{\"label\":{\"type\":\"value\",\"value\":\"Alt (ft)\"},\"renderers\":[{\"id\":\"p1091\"}]}},{\"type\":\"object\",\"name\":\"LegendItem\",\"id\":\"p1105\",\"attributes\":{\"label\":{\"type\":\"value\",\"value\":\"angle\"},\"renderers\":[{\"id\":\"p1102\"}]}},{\"type\":\"object\",\"name\":\"LegendItem\",\"id\":\"p1116\",\"attributes\":{\"label\":{\"type\":\"value\",\"value\":\"speed\"},\"renderers\":[{\"id\":\"p1113\"}]}},{\"type\":\"object\",\"name\":\"LegendItem\",\"id\":\"p1126\",\"attributes\":{\"label\":{\"type\":\"value\",\"value\":\"H-speed\"},\"renderers\":[{\"id\":\"p1123\"}]}}]}}],\"background_fill_color\":\"#20262B\",\"border_fill_color\":\"#15191C\"}}]}};\n",
       "  const render_items = [{\"docid\":\"5704ea10-d0cd-40ef-b9b1-edd63e83d4eb\",\"roots\":{\"p1038\":\"a8895db7-7909-46af-a43b-6e1208d98d33\"},\"root_ids\":[\"p1038\"]}];\n",
       "  void root.Bokeh.embed.embed_items_notebook(docs_json, render_items);\n",
       "  }\n",
       "  if (root.Bokeh !== undefined) {\n",
       "    embed_document(root);\n",
       "  } else {\n",
       "    let attempts = 0;\n",
       "    const timer = setInterval(function(root) {\n",
       "      if (root.Bokeh !== undefined) {\n",
       "        clearInterval(timer);\n",
       "        embed_document(root);\n",
       "      } else {\n",
       "        attempts++;\n",
       "        if (attempts > 100) {\n",
       "          clearInterval(timer);\n",
       "          console.log(\"Bokeh: ERROR: Unable to run BokehJS code because BokehJS library is missing\");\n",
       "        }\n",
       "      }\n",
       "    }, 10, root)\n",
       "  }\n",
       "})(window);"
      ],
      "application/vnd.bokehjs_exec.v0+json": ""
     },
     "metadata": {
      "application/vnd.bokehjs_exec.v0+json": {
       "id": "p1038"
      }
     },
     "output_type": "display_data"
    },
    {
     "data": {
      "application/vnd.jupyter.widget-view+json": {
       "model_id": "ecd1fae858c843908ce3f8d424cba712",
       "version_major": 2,
       "version_minor": 0
      },
      "text/plain": [
       "HTML(value='<hr><h1><span style=\"color: #0f0\">09-29-08:v2 jump - 🟢 valid - score = 483.44 km/h</span></h1>')"
      ]
     },
     "metadata": {},
     "output_type": "display_data"
    },
    {
     "data": {
      "application/vnd.jupyter.widget-view+json": {
       "model_id": "7832f9a57b184cd9ac7457b4af394b6c",
       "version_major": 2,
       "version_minor": 0
      },
      "text/plain": [
       "HTML(value='<h3>Max speed = 485; exit at 4175 m (13699 ft), end scoring window at 1919 m (6298 ft)')"
      ]
     },
     "metadata": {},
     "output_type": "display_data"
    },
    {
     "data": {
      "application/vnd.jupyter.widget-view+json": {
       "model_id": "54712aa1bdac4edf8016c758af18492b",
       "version_major": 2,
       "version_minor": 0
      },
      "text/plain": [
       "HTML(value='</h3>')"
      ]
     },
     "metadata": {},
     "output_type": "display_data"
    },
    {
     "data": {
      "text/html": [
       "<div>\n",
       "<style scoped>\n",
       "    .dataframe tbody tr th:only-of-type {\n",
       "        vertical-align: middle;\n",
       "    }\n",
       "\n",
       "    .dataframe tbody tr th {\n",
       "        vertical-align: top;\n",
       "    }\n",
       "\n",
       "    .dataframe thead th {\n",
       "        text-align: right;\n",
       "    }\n",
       "</style>\n",
       "<table border=\"1\" class=\"dataframe\">\n",
       "  <thead>\n",
       "    <tr style=\"text-align: right;\">\n",
       "      <th></th>\n",
       "      <th>time</th>\n",
       "      <th>vKMh</th>\n",
       "      <th>hKMh</th>\n",
       "      <th>speedAngle</th>\n",
       "      <th>distanceFromExit</th>\n",
       "      <th>altitude (ft)</th>\n",
       "      <th>netVectorKMh</th>\n",
       "    </tr>\n",
       "  </thead>\n",
       "  <tbody>\n",
       "    <tr>\n",
       "      <th></th>\n",
       "      <td>5.0</td>\n",
       "      <td>173</td>\n",
       "      <td>120</td>\n",
       "      <td>55.2</td>\n",
       "      <td>199.500000</td>\n",
       "      <td>13275</td>\n",
       "      <td>210</td>\n",
       "    </tr>\n",
       "    <tr>\n",
       "      <th></th>\n",
       "      <td>10.0</td>\n",
       "      <td>313</td>\n",
       "      <td>86</td>\n",
       "      <td>74.6</td>\n",
       "      <td>337.400000</td>\n",
       "      <td>12163</td>\n",
       "      <td>324</td>\n",
       "    </tr>\n",
       "    <tr>\n",
       "      <th></th>\n",
       "      <td>15.0</td>\n",
       "      <td>415</td>\n",
       "      <td>47</td>\n",
       "      <td>83.5</td>\n",
       "      <td>431.100000</td>\n",
       "      <td>10481</td>\n",
       "      <td>417</td>\n",
       "    </tr>\n",
       "    <tr>\n",
       "      <th></th>\n",
       "      <td>20.0</td>\n",
       "      <td>473</td>\n",
       "      <td>37</td>\n",
       "      <td>85.5</td>\n",
       "      <td>448.800000</td>\n",
       "      <td>8440</td>\n",
       "      <td>474</td>\n",
       "    </tr>\n",
       "    <tr>\n",
       "      <th></th>\n",
       "      <td>25.0</td>\n",
       "      <td>482</td>\n",
       "      <td>77</td>\n",
       "      <td>80.9</td>\n",
       "      <td>418.204843</td>\n",
       "      <td>6331</td>\n",
       "      <td>488</td>\n",
       "    </tr>\n",
       "  </tbody>\n",
       "</table>\n",
       "</div>"
      ],
      "text/plain": [
       "  time  vKMh  hKMh  speedAngle  distanceFromExit  altitude (ft)  netVectorKMh\n",
       "   5.0   173   120        55.2        199.500000          13275           210\n",
       "  10.0   313    86        74.6        337.400000          12163           324\n",
       "  15.0   415    47        83.5        431.100000          10481           417\n",
       "  20.0   473    37        85.5        448.800000           8440           474\n",
       "  25.0   482    77        80.9        418.204843           6331           488"
      ]
     },
     "metadata": {},
     "output_type": "display_data"
    },
    {
     "data": {
      "text/html": [
       "\n",
       "  <div id=\"a5a426bf-c6bb-41c5-bfe9-398be09b6a91\" data-root-id=\"p1182\" style=\"display: contents;\"></div>\n"
      ]
     },
     "metadata": {},
     "output_type": "display_data"
    },
    {
     "data": {
      "application/javascript": [
       "(function(root) {\n",
       "  function embed_document(root) {\n",
       "  const docs_json = {\"390488f0-f0db-43f2-9e6f-c2a5312ab667\":{\"version\":\"3.5.2\",\"title\":\"Bokeh Application\",\"roots\":[{\"type\":\"object\",\"name\":\"Figure\",\"id\":\"p1182\",\"attributes\":{\"width\":900,\"height\":500,\"x_range\":{\"type\":\"object\",\"name\":\"Range1d\",\"id\":\"p1192\",\"attributes\":{\"end\":35.0}},\"y_range\":{\"type\":\"object\",\"name\":\"Range1d\",\"id\":\"p1193\",\"attributes\":{\"end\":550.0}},\"x_scale\":{\"type\":\"object\",\"name\":\"LinearScale\",\"id\":\"p1194\"},\"y_scale\":{\"type\":\"object\",\"name\":\"LinearScale\",\"id\":\"p1195\"},\"extra_y_ranges\":{\"type\":\"map\",\"entries\":[[\"altitudeFt\",{\"type\":\"object\",\"name\":\"Range1d\",\"id\":\"p1219\",\"attributes\":{\"start\":5830.7383544,\"end\":14199.756357600001}}],[\"angle\",{\"type\":\"object\",\"name\":\"Range1d\",\"id\":\"p1220\",\"attributes\":{\"end\":90.0}}]]},\"title\":{\"type\":\"object\",\"name\":\"Title\",\"id\":\"p1185\",\"attributes\":{\"text\":\"09-29-08:v2\",\"text_color\":\"#E0E0E0\",\"text_font\":\"Helvetica\",\"text_font_size\":\"1.15em\"}},\"outline_line_color\":\"#E0E0E0\",\"outline_line_alpha\":0.25,\"renderers\":[{\"type\":\"object\",\"name\":\"GlyphRenderer\",\"id\":\"p1235\",\"attributes\":{\"y_range_name\":\"altitudeFt\",\"data_source\":{\"type\":\"object\",\"name\":\"ColumnDataSource\",\"id\":\"p1229\",\"attributes\":{\"selected\":{\"type\":\"object\",\"name\":\"Selection\",\"id\":\"p1230\",\"attributes\":{\"indices\":[],\"line_indices\":[]}},\"selection_policy\":{\"type\":\"object\",\"name\":\"UnionRenderers\",\"id\":\"p1231\"},\"data\":{\"type\":\"map\",\"entries\":[[\"x\",{\"type\":\"ndarray\",\"array\":{\"type\":\"bytes\",\"data\":\"AAAAAAAAAAAAAAAAmJm5PwAAAACamck/AAAAADMz0z8AAAAAmpnZPwAAAAAAAOA/AAAAADMz4z8AAACAZmbmPwAAAICZmek/AAAAAM3M7D8AAAAAAADwPwAAAICZmfE/AAAAQDMz8z8AAADAzMz0PwAAAIBmZvY/AAAAAAAA+D8AAACAmZn5PwAAAEAzM/s/AAAAwMzM/D8AAACAZmb+PwAAAAAAAABAAAAAwMzMAEAAAACgmZkBQAAAAGBmZgJAAAAAQDMzA0AAAAAAAAAEQAAAAMDMzARAAAAAoJmZBUAAAABgZmYGQAAAAEAzMwdAAAAAAAAACEAAAADAzMwIQAAAAKCZmQlAAAAAYGZmCkAAAABAMzMLQAAAAAAAAAxAAAAAwMzMDEAAAACgmZkNQAAAAGBmZg5AAAAAQDMzD0AAAAAAAAAQQAAAAGBmZhBAAAAA0MzMEEAAAAAwMzMRQAAAAKCZmRFAAAAAAAAAEkAAAABgZmYSQAAAANDMzBJAAAAAMDMzE0AAAACgmZkTQAAAAAAAABRAAAAAYGZmFEAAAADQzMwUQAAAADAzMxVAAAAAoJmZFUAAAAAAAAAWQAAAAGBmZhZAAAAA0MzMFkAAAAAwMzMXQAAAAKCZmRdAAAAAAAAAGEAAAABgZmYYQAAAANDMzBhAAAAAMDMzGUAAAACgmZkZQAAAAAAAABpAAAAAYGZmGkAAAADQzMwaQAAAADAzMxtAAAAAoJmZG0AAAAAAAAAcQAAAAGBmZhxAAAAA0MzMHEAAAAAwMzMdQAAAAKCZmR1AAAAAAAAAHkAAAABgZmYeQAAAANDMzB5AAAAAMDMzH0AAAACgmZkfQAAAAAAAACBAAAAAMDMzIEAAAABoZmYgQAAAAJiZmSBAAAAA0MzMIEAAAAAAAAAhQAAAADAzMyFAAAAAaGZmIUAAAACYmZkhQAAAANDMzCFAAAAAAAAAIkAAAAAwMzMiQAAAAGhmZiJAAAAAmJmZIkAAAADQzMwiQAAAAAAAACNAAAAAMDMzI0AAAABoZmYjQAAAAJiZmSNAAAAA0MzMI0AAAAAAAAAkQAAAADAzMyRAAAAAaGZmJEAAAACYmZkkQAAAANDMzCRAAAAAAAAAJUAAAAAwMzMlQAAAAGhmZiVAAAAAmJmZJUAAAADQzMwlQAAAAAAAACZAAAAAMDMzJkAAAABoZmYmQAAAAJiZmSZAAAAA0MzMJkAAAAAAAAAnQAAAADAzMydAAAAAaGZmJ0AAAACYmZknQAAAANDMzCdAAAAAAAAAKEAAAAAwMzMoQAAAAGhmZihAAAAAmJmZKEAAAADQzMwoQAAAAAAAAClAAAAAMDMzKUAAAABoZmYpQAAAAJiZmSlAAAAA0MzMKUAAAAAAAAAqQAAAADAzMypAAAAAaGZmKkAAAACYmZkqQAAAANDMzCpAAAAAAAAAK0AAAAAwMzMrQAAAAGhmZitAAAAAmJmZK0AAAADQzMwrQAAAAAAAACxAAAAAMDMzLEAAAABoZmYsQAAAAJiZmSxAAAAA0MzMLEAAAAAAAAAtQAAAADAzMy1AAAAAaGZmLUAAAACYmZktQAAAANDMzC1AAAAAAAAALkAAAAAwMzMuQAAAAGhmZi5AAAAAmJmZLkAAAADQzMwuQAAAAAAAAC9AAAAAMDMzL0AAAABoZmYvQAAAAJiZmS9AAAAA0MzML0AAAAAAAAAwQAAAAJiZGTBAAAAANDMzMEAAAADMzEwwQAAAAGhmZjBAAAAAAACAMEAAAACYmZkwQAAAADQzszBAAAAAzMzMMEAAAABoZuYwQAAAAAAAADFAAAAAmJkZMUAAAAA0MzMxQAAAAMzMTDFAAAAAaGZmMUAAAAAAAIAxQAAAAJiZmTFAAAAANDOzMUAAAADMzMwxQAAAAGhm5jFAAAAAAAAAMkAAAACYmRkyQAAAADQzMzJAAAAAzMxMMkAAAABoZmYyQAAAAAAAgDJAAAAAmJmZMkAAAAA0M7MyQAAAAMzMzDJAAAAAaGbmMkAAAAAAAAAzQAAAAJiZGTNAAAAANDMzM0AAAADMzEwzQAAAAGhmZjNAAAAAAACAM0AAAACYmZkzQAAAADQzszNAAAAAzMzMM0AAAABoZuYzQAAAAAAAADRAAAAAmJkZNEAAAAA0MzM0QAAAAMzMTDRAAAAAaGZmNEAAAAAAAIA0QAAAAJiZmTRAAAAANDOzNEAAAADMzMw0QAAAAGhm5jRAAAAAAAAANUAAAACYmRk1QAAAADQzMzVAAAAAzMxMNUAAAABoZmY1QAAAAAAAgDVAAAAAmJmZNUAAAAA0M7M1QAAAAMzMzDVAAAAAaGbmNUAAAAAAAAA2QAAAAJiZGTZAAAAANDMzNkAAAADMzEw2QAAAAGhmZjZAAAAAAACANkAAAACYmZk2QAAAADQzszZAAAAAzMzMNkAAAABoZuY2QAAAAAAAADdAAAAAmJkZN0AAAAA0MzM3QAAAAMzMTDdAAAAAaGZmN0AAAAAAAIA3QAAAAJiZmTdAAAAANDOzN0AAAADMzMw3QAAAAGhm5jdAAAAAAAAAOEAAAACYmRk4QAAAADQzMzhAAAAAzMxMOEAAAABoZmY4QAAAAAAAgDhAAAAAmJmZOEAAAAA0M7M4QAAAAMzMzDhA\"},\"shape\":[249],\"dtype\":\"float64\",\"order\":\"little\"}],[\"y\",{\"type\":\"ndarray\",\"array\":{\"type\":\"bytes\",\"data\":\"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\"},\"shape\":[249],\"dtype\":\"float64\",\"order\":\"little\"}]]}}},\"view\":{\"type\":\"object\",\"name\":\"CDSView\",\"id\":\"p1236\",\"attributes\":{\"filter\":{\"type\":\"object\",\"name\":\"AllIndices\",\"id\":\"p1237\"}}},\"glyph\":{\"type\":\"object\",\"name\":\"Line\",\"id\":\"p1232\",\"attributes\":{\"x\":{\"type\":\"field\",\"field\":\"x\"},\"y\":{\"type\":\"field\",\"field\":\"y\"},\"line_color\":\"palegoldenrod\",\"line_width\":2}},\"nonselection_glyph\":{\"type\":\"object\",\"name\":\"Line\",\"id\":\"p1233\",\"attributes\":{\"x\":{\"type\":\"field\",\"field\":\"x\"},\"y\":{\"type\":\"field\",\"field\":\"y\"},\"line_color\":\"palegoldenrod\",\"line_alpha\":0.1,\"line_width\":2}},\"muted_glyph\":{\"type\":\"object\",\"name\":\"Line\",\"id\":\"p1234\",\"attributes\":{\"x\":{\"type\":\"field\",\"field\":\"x\"},\"y\":{\"type\":\"field\",\"field\":\"y\"},\"line_color\":\"palegoldenrod\",\"line_alpha\":0.2,\"line_width\":2}}}},{\"type\":\"object\",\"name\":\"GlyphRenderer\",\"id\":\"p1246\",\"attributes\":{\"y_range_name\":\"angle\",\"data_source\":{\"type\":\"object\",\"name\":\"ColumnDataSource\",\"id\":\"p1240\",\"attributes\":{\"selected\":{\"type\":\"object\",\"name\":\"Selection\",\"id\":\"p1241\",\"attributes\":{\"indices\":[],\"line_indices\":[]}},\"selection_policy\":{\"type\":\"object\",\"name\":\"UnionRenderers\",\"id\":\"p1242\"},\"data\":{\"type\":\"map\",\"entries\":[[\"x\",{\"type\":\"ndarray\",\"array\":{\"type\":\"bytes\",\"data\":\"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\"},\"shape\":[249],\"dtype\":\"float64\",\"order\":\"little\"}],[\"y\",{\"type\":\"ndarray\",\"array\":{\"type\":\"bytes\",\"data\":\"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\"},\"shape\":[249],\"dtype\":\"float64\",\"order\":\"little\"}]]}}},\"view\":{\"type\":\"object\",\"name\":\"CDSView\",\"id\":\"p1247\",\"attributes\":{\"filter\":{\"type\":\"object\",\"name\":\"AllIndices\",\"id\":\"p1248\"}}},\"glyph\":{\"type\":\"object\",\"name\":\"Line\",\"id\":\"p1243\",\"attributes\":{\"x\":{\"type\":\"field\",\"field\":\"x\"},\"y\":{\"type\":\"field\",\"field\":\"y\"},\"line_color\":\"deepskyblue\",\"line_width\":2}},\"nonselection_glyph\":{\"type\":\"object\",\"name\":\"Line\",\"id\":\"p1244\",\"attributes\":{\"x\":{\"type\":\"field\",\"field\":\"x\"},\"y\":{\"type\":\"field\",\"field\":\"y\"},\"line_color\":\"deepskyblue\",\"line_alpha\":0.1,\"line_width\":2}},\"muted_glyph\":{\"type\":\"object\",\"name\":\"Line\",\"id\":\"p1245\",\"attributes\":{\"x\":{\"type\":\"field\",\"field\":\"x\"},\"y\":{\"type\":\"field\",\"field\":\"y\"},\"line_color\":\"deepskyblue\",\"line_alpha\":0.2,\"line_width\":2}}}},{\"type\":\"object\",\"name\":\"GlyphRenderer\",\"id\":\"p1257\",\"attributes\":{\"data_source\":{\"type\":\"object\",\"name\":\"ColumnDataSource\",\"id\":\"p1251\",\"attributes\":{\"selected\":{\"type\":\"object\",\"name\":\"Selection\",\"id\":\"p1252\",\"attributes\":{\"indices\":[],\"line_indices\":[]}},\"selection_policy\":{\"type\":\"object\",\"name\":\"UnionRenderers\",\"id\":\"p1253\"},\"data\":{\"type\":\"map\",\"entries\":[[\"x\",{\"type\":\"ndarray\",\"array\":{\"type\":\"bytes\",\"data\":\"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\"},\"shape\":[249],\"dtype\":\"float64\",\"order\":\"little\"}],[\"y\",{\"type\":\"ndarray\",\"array\":{\"type\":\"bytes\",\"data\":\"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\"},\"shape\":[249],\"dtype\":\"float64\",\"order\":\"little\"}]]}}},\"view\":{\"type\":\"object\",\"name\":\"CDSView\",\"id\":\"p1258\",\"attributes\":{\"filter\":{\"type\":\"object\",\"name\":\"AllIndices\",\"id\":\"p1259\"}}},\"glyph\":{\"type\":\"object\",\"name\":\"Line\",\"id\":\"p1254\",\"attributes\":{\"x\":{\"type\":\"field\",\"field\":\"x\"},\"y\":{\"type\":\"field\",\"field\":\"y\"},\"line_color\":\"limegreen\",\"line_width\":2}},\"nonselection_glyph\":{\"type\":\"object\",\"name\":\"Line\",\"id\":\"p1255\",\"attributes\":{\"x\":{\"type\":\"field\",\"field\":\"x\"},\"y\":{\"type\":\"field\",\"field\":\"y\"},\"line_color\":\"limegreen\",\"line_alpha\":0.1,\"line_width\":2}},\"muted_glyph\":{\"type\":\"object\",\"name\":\"Line\",\"id\":\"p1256\",\"attributes\":{\"x\":{\"type\":\"field\",\"field\":\"x\"},\"y\":{\"type\":\"field\",\"field\":\"y\"},\"line_color\":\"limegreen\",\"line_alpha\":0.2,\"line_width\":2}}}},{\"type\":\"object\",\"name\":\"GlyphRenderer\",\"id\":\"p1267\",\"attributes\":{\"data_source\":{\"type\":\"object\",\"name\":\"ColumnDataSource\",\"id\":\"p1261\",\"attributes\":{\"selected\":{\"type\":\"object\",\"name\":\"Selection\",\"id\":\"p1262\",\"attributes\":{\"indices\":[],\"line_indices\":[]}},\"selection_policy\":{\"type\":\"object\",\"name\":\"UnionRenderers\",\"id\":\"p1263\"},\"data\":{\"type\":\"map\",\"entries\":[[\"x\",{\"type\":\"ndarray\",\"array\":{\"type\":\"bytes\",\"data\":\"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\"},\"shape\":[249],\"dtype\":\"float64\",\"order\":\"little\"}],[\"y\",{\"type\":\"ndarray\",\"array\":{\"type\":\"bytes\",\"data\":\"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\"},\"shape\":[249],\"dtype\":\"float64\",\"order\":\"little\"}]]}}},\"view\":{\"type\":\"object\",\"name\":\"CDSView\",\"id\":\"p1268\",\"attributes\":{\"filter\":{\"type\":\"object\",\"name\":\"AllIndices\",\"id\":\"p1269\"}}},\"glyph\":{\"type\":\"object\",\"name\":\"Line\",\"id\":\"p1264\",\"attributes\":{\"x\":{\"type\":\"field\",\"field\":\"x\"},\"y\":{\"type\":\"field\",\"field\":\"y\"},\"line_color\":\"red\",\"line_width\":2}},\"nonselection_glyph\":{\"type\":\"object\",\"name\":\"Line\",\"id\":\"p1265\",\"attributes\":{\"x\":{\"type\":\"field\",\"field\":\"x\"},\"y\":{\"type\":\"field\",\"field\":\"y\"},\"line_color\":\"red\",\"line_alpha\":0.1,\"line_width\":2}},\"muted_glyph\":{\"type\":\"object\",\"name\":\"Line\",\"id\":\"p1266\",\"attributes\":{\"x\":{\"type\":\"field\",\"field\":\"x\"},\"y\":{\"type\":\"field\",\"field\":\"y\"},\"line_color\":\"red\",\"line_alpha\":0.2,\"line_width\":2}}}},{\"type\":\"object\",\"name\":\"GlyphRenderer\",\"id\":\"p1277\",\"attributes\":{\"data_source\":{\"type\":\"object\",\"name\":\"ColumnDataSource\",\"id\":\"p1271\",\"attributes\":{\"selected\":{\"type\":\"object\",\"name\":\"Selection\",\"id\":\"p1272\",\"attributes\":{\"indices\":[],\"line_indices\":[]}},\"selection_policy\":{\"type\":\"object\",\"name\":\"UnionRenderers\",\"id\":\"p1273\"},\"data\":{\"type\":\"map\",\"entries\":[[\"x0\",[24.59999990463257]],[\"y0\",[0.0]],[\"x1\",[24.59999990463257]],[\"y1\",[483.4378451612902]]]}}},\"view\":{\"type\":\"object\",\"name\":\"CDSView\",\"id\":\"p1278\",\"attributes\":{\"filter\":{\"type\":\"object\",\"name\":\"AllIndices\",\"id\":\"p1279\"}}},\"glyph\":{\"type\":\"object\",\"name\":\"Segment\",\"id\":\"p1274\",\"attributes\":{\"x0\":{\"type\":\"field\",\"field\":\"x0\"},\"y0\":{\"type\":\"field\",\"field\":\"y0\"},\"x1\":{\"type\":\"field\",\"field\":\"x1\"},\"y1\":{\"type\":\"field\",\"field\":\"y1\"},\"line_color\":{\"type\":\"value\",\"value\":\"lightblue\"},\"line_width\":{\"type\":\"value\",\"value\":3}}},\"nonselection_glyph\":{\"type\":\"object\",\"name\":\"Segment\",\"id\":\"p1275\",\"attributes\":{\"x0\":{\"type\":\"field\",\"field\":\"x0\"},\"y0\":{\"type\":\"field\",\"field\":\"y0\"},\"x1\":{\"type\":\"field\",\"field\":\"x1\"},\"y1\":{\"type\":\"field\",\"field\":\"y1\"},\"line_color\":{\"type\":\"value\",\"value\":\"lightblue\"},\"line_alpha\":{\"type\":\"value\",\"value\":0.1},\"line_width\":{\"type\":\"value\",\"value\":3}}},\"muted_glyph\":{\"type\":\"object\",\"name\":\"Segment\",\"id\":\"p1276\",\"attributes\":{\"x0\":{\"type\":\"field\",\"field\":\"x0\"},\"y0\":{\"type\":\"field\",\"field\":\"y0\"},\"x1\":{\"type\":\"field\",\"field\":\"x1\"},\"y1\":{\"type\":\"field\",\"field\":\"y1\"},\"line_color\":{\"type\":\"value\",\"value\":\"lightblue\"},\"line_alpha\":{\"type\":\"value\",\"value\":0.2},\"line_width\":{\"type\":\"value\",\"value\":3}}}}},{\"type\":\"object\",\"name\":\"GlyphRenderer\",\"id\":\"p1286\",\"attributes\":{\"data_source\":{\"type\":\"object\",\"name\":\"ColumnDataSource\",\"id\":\"p1280\",\"attributes\":{\"selected\":{\"type\":\"object\",\"name\":\"Selection\",\"id\":\"p1281\",\"attributes\":{\"indices\":[],\"line_indices\":[]}},\"selection_policy\":{\"type\":\"object\",\"name\":\"UnionRenderers\",\"id\":\"p1282\"},\"data\":{\"type\":\"map\",\"entries\":[[\"x0\",[26.09999990463257]],[\"y0\",[0.0]],[\"x1\",[26.09999990463257]],[\"y1\",[483.4378451612902]]]}}},\"view\":{\"type\":\"object\",\"name\":\"CDSView\",\"id\":\"p1287\",\"attributes\":{\"filter\":{\"type\":\"object\",\"name\":\"AllIndices\",\"id\":\"p1288\"}}},\"glyph\":{\"type\":\"object\",\"name\":\"Segment\",\"id\":\"p1283\",\"attributes\":{\"x0\":{\"type\":\"field\",\"field\":\"x0\"},\"y0\":{\"type\":\"field\",\"field\":\"y0\"},\"x1\":{\"type\":\"field\",\"field\":\"x1\"},\"y1\":{\"type\":\"field\",\"field\":\"y1\"},\"line_color\":{\"type\":\"value\",\"value\":\"darkseagreen\"}}},\"nonselection_glyph\":{\"type\":\"object\",\"name\":\"Segment\",\"id\":\"p1284\",\"attributes\":{\"x0\":{\"type\":\"field\",\"field\":\"x0\"},\"y0\":{\"type\":\"field\",\"field\":\"y0\"},\"x1\":{\"type\":\"field\",\"field\":\"x1\"},\"y1\":{\"type\":\"field\",\"field\":\"y1\"},\"line_color\":{\"type\":\"value\",\"value\":\"darkseagreen\"},\"line_alpha\":{\"type\":\"value\",\"value\":0.1}}},\"muted_glyph\":{\"type\":\"object\",\"name\":\"Segment\",\"id\":\"p1285\",\"attributes\":{\"x0\":{\"type\":\"field\",\"field\":\"x0\"},\"y0\":{\"type\":\"field\",\"field\":\"y0\"},\"x1\":{\"type\":\"field\",\"field\":\"x1\"},\"y1\":{\"type\":\"field\",\"field\":\"y1\"},\"line_color\":{\"type\":\"value\",\"value\":\"darkseagreen\"},\"line_alpha\":{\"type\":\"value\",\"value\":0.2}}}}},{\"type\":\"object\",\"name\":\"GlyphRenderer\",\"id\":\"p1295\",\"attributes\":{\"data_source\":{\"type\":\"object\",\"name\":\"ColumnDataSource\",\"id\":\"p1289\",\"attributes\":{\"selected\":{\"type\":\"object\",\"name\":\"Selection\",\"id\":\"p1290\",\"attributes\":{\"indices\":[],\"line_indices\":[]}},\"selection_policy\":{\"type\":\"object\",\"name\":\"UnionRenderers\",\"id\":\"p1291\"},\"data\":{\"type\":\"map\",\"entries\":[[\"x0\",[23.09999990463257]],[\"y0\",[0.0]],[\"x1\",[23.09999990463257]],[\"y1\",[483.4378451612902]]]}}},\"view\":{\"type\":\"object\",\"name\":\"CDSView\",\"id\":\"p1296\",\"attributes\":{\"filter\":{\"type\":\"object\",\"name\":\"AllIndices\",\"id\":\"p1297\"}}},\"glyph\":{\"type\":\"object\",\"name\":\"Segment\",\"id\":\"p1292\",\"attributes\":{\"x0\":{\"type\":\"field\",\"field\":\"x0\"},\"y0\":{\"type\":\"field\",\"field\":\"y0\"},\"x1\":{\"type\":\"field\",\"field\":\"x1\"},\"y1\":{\"type\":\"field\",\"field\":\"y1\"},\"line_color\":{\"type\":\"value\",\"value\":\"darkseagreen\"}}},\"nonselection_glyph\":{\"type\":\"object\",\"name\":\"Segment\",\"id\":\"p1293\",\"attributes\":{\"x0\":{\"type\":\"field\",\"field\":\"x0\"},\"y0\":{\"type\":\"field\",\"field\":\"y0\"},\"x1\":{\"type\":\"field\",\"field\":\"x1\"},\"y1\":{\"type\":\"field\",\"field\":\"y1\"},\"line_color\":{\"type\":\"value\",\"value\":\"darkseagreen\"},\"line_alpha\":{\"type\":\"value\",\"value\":0.1}}},\"muted_glyph\":{\"type\":\"object\",\"name\":\"Segment\",\"id\":\"p1294\",\"attributes\":{\"x0\":{\"type\":\"field\",\"field\":\"x0\"},\"y0\":{\"type\":\"field\",\"field\":\"y0\"},\"x1\":{\"type\":\"field\",\"field\":\"x1\"},\"y1\":{\"type\":\"field\",\"field\":\"y1\"},\"line_color\":{\"type\":\"value\",\"value\":\"darkseagreen\"},\"line_alpha\":{\"type\":\"value\",\"value\":0.2}}}}},{\"type\":\"object\",\"name\":\"GlyphRenderer\",\"id\":\"p1304\",\"attributes\":{\"data_source\":{\"type\":\"object\",\"name\":\"ColumnDataSource\",\"id\":\"p1298\",\"attributes\":{\"selected\":{\"type\":\"object\",\"name\":\"Selection\",\"id\":\"p1299\",\"attributes\":{\"indices\":[],\"line_indices\":[]}},\"selection_policy\":{\"type\":\"object\",\"name\":\"UnionRenderers\",\"id\":\"p1300\"},\"data\":{\"type\":\"map\",\"entries\":[[\"x\",[24.59999990463257]],[\"y\",[483.4378451612902]],[\"size\",[20]]]}}},\"view\":{\"type\":\"object\",\"name\":\"CDSView\",\"id\":\"p1305\",\"attributes\":{\"filter\":{\"type\":\"object\",\"name\":\"AllIndices\",\"id\":\"p1306\"}}},\"glyph\":{\"type\":\"object\",\"name\":\"Scatter\",\"id\":\"p1301\",\"attributes\":{\"x\":{\"type\":\"field\",\"field\":\"x\"},\"y\":{\"type\":\"field\",\"field\":\"y\"},\"size\":{\"type\":\"field\",\"field\":\"size\"},\"line_color\":{\"type\":\"value\",\"value\":\"lightblue\"},\"line_width\":{\"type\":\"value\",\"value\":3},\"fill_color\":{\"type\":\"value\",\"value\":null},\"marker\":{\"type\":\"value\",\"value\":\"square_cross\"}}},\"nonselection_glyph\":{\"type\":\"object\",\"name\":\"Scatter\",\"id\":\"p1302\",\"attributes\":{\"x\":{\"type\":\"field\",\"field\":\"x\"},\"y\":{\"type\":\"field\",\"field\":\"y\"},\"size\":{\"type\":\"field\",\"field\":\"size\"},\"line_color\":{\"type\":\"value\",\"value\":\"lightblue\"},\"line_alpha\":{\"type\":\"value\",\"value\":0.1},\"line_width\":{\"type\":\"value\",\"value\":3},\"fill_color\":{\"type\":\"value\",\"value\":null},\"fill_alpha\":{\"type\":\"value\",\"value\":0.1},\"hatch_alpha\":{\"type\":\"value\",\"value\":0.1},\"marker\":{\"type\":\"value\",\"value\":\"square_cross\"}}},\"muted_glyph\":{\"type\":\"object\",\"name\":\"Scatter\",\"id\":\"p1303\",\"attributes\":{\"x\":{\"type\":\"field\",\"field\":\"x\"},\"y\":{\"type\":\"field\",\"field\":\"y\"},\"size\":{\"type\":\"field\",\"field\":\"size\"},\"line_color\":{\"type\":\"value\",\"value\":\"lightblue\"},\"line_alpha\":{\"type\":\"value\",\"value\":0.2},\"line_width\":{\"type\":\"value\",\"value\":3},\"fill_color\":{\"type\":\"value\",\"value\":null},\"fill_alpha\":{\"type\":\"value\",\"value\":0.2},\"hatch_alpha\":{\"type\":\"value\",\"value\":0.2},\"marker\":{\"type\":\"value\",\"value\":\"square_cross\"}}}}}],\"toolbar\":{\"type\":\"object\",\"name\":\"Toolbar\",\"id\":\"p1191\",\"attributes\":{\"tools\":[{\"type\":\"object\",\"name\":\"PanTool\",\"id\":\"p1206\"},{\"type\":\"object\",\"name\":\"WheelZoomTool\",\"id\":\"p1207\",\"attributes\":{\"renderers\":\"auto\"}},{\"type\":\"object\",\"name\":\"BoxZoomTool\",\"id\":\"p1208\",\"attributes\":{\"overlay\":{\"type\":\"object\",\"name\":\"BoxAnnotation\",\"id\":\"p1209\",\"attributes\":{\"syncable\":false,\"line_color\":\"black\",\"line_alpha\":1.0,\"line_width\":2,\"line_dash\":[4,4],\"fill_color\":\"lightgrey\",\"fill_alpha\":0.5,\"level\":\"overlay\",\"visible\":false,\"left\":{\"type\":\"number\",\"value\":\"nan\"},\"right\":{\"type\":\"number\",\"value\":\"nan\"},\"top\":{\"type\":\"number\",\"value\":\"nan\"},\"bottom\":{\"type\":\"number\",\"value\":\"nan\"},\"left_units\":\"canvas\",\"right_units\":\"canvas\",\"top_units\":\"canvas\",\"bottom_units\":\"canvas\",\"handles\":{\"type\":\"object\",\"name\":\"BoxInteractionHandles\",\"id\":\"p1215\",\"attributes\":{\"all\":{\"type\":\"object\",\"name\":\"AreaVisuals\",\"id\":\"p1214\",\"attributes\":{\"fill_color\":\"white\",\"hover_fill_color\":\"lightgray\"}}}}}}}},{\"type\":\"object\",\"name\":\"SaveTool\",\"id\":\"p1216\"},{\"type\":\"object\",\"name\":\"ResetTool\",\"id\":\"p1217\"},{\"type\":\"object\",\"name\":\"HelpTool\",\"id\":\"p1218\"},{\"type\":\"object\",\"name\":\"HoverTool\",\"id\":\"p1250\",\"attributes\":{\"renderers\":\"auto\",\"tooltips\":[[\"Y-val\",\"@y{0.00}\"]]}}]}},\"left\":[{\"type\":\"object\",\"name\":\"LinearAxis\",\"id\":\"p1201\",\"attributes\":{\"ticker\":{\"type\":\"object\",\"name\":\"BasicTicker\",\"id\":\"p1202\",\"attributes\":{\"mantissas\":[1,2,5]}},\"formatter\":{\"type\":\"object\",\"name\":\"BasicTickFormatter\",\"id\":\"p1203\"},\"axis_label\":\"km/h\",\"axis_label_standoff\":10,\"axis_label_text_color\":\"#E0E0E0\",\"axis_label_text_font\":\"Helvetica\",\"axis_label_text_font_size\":\"1.25em\",\"axis_label_text_font_style\":\"normal\",\"major_label_policy\":{\"type\":\"object\",\"name\":\"AllLabels\",\"id\":\"p1204\"},\"major_label_text_color\":\"#E0E0E0\",\"major_label_text_font\":\"Helvetica\",\"major_label_text_font_size\":\"1.025em\",\"axis_line_color\":\"#E0E0E0\",\"axis_line_alpha\":0,\"major_tick_line_color\":\"#E0E0E0\",\"major_tick_line_alpha\":0,\"minor_tick_line_color\":\"#E0E0E0\",\"minor_tick_line_alpha\":0}},{\"type\":\"object\",\"name\":\"LinearAxis\",\"id\":\"p1221\",\"attributes\":{\"y_range_name\":\"altitudeFt\",\"ticker\":{\"type\":\"object\",\"name\":\"BasicTicker\",\"id\":\"p1222\",\"attributes\":{\"mantissas\":[1,2,5]}},\"formatter\":{\"type\":\"object\",\"name\":\"BasicTickFormatter\",\"id\":\"p1223\"},\"axis_label\":\"Alt (ft)\",\"axis_label_standoff\":10,\"axis_label_text_color\":\"#E0E0E0\",\"axis_label_text_font\":\"Helvetica\",\"axis_label_text_font_size\":\"1.25em\",\"axis_label_text_font_style\":\"normal\",\"major_label_policy\":{\"type\":\"object\",\"name\":\"AllLabels\",\"id\":\"p1224\"},\"major_label_text_color\":\"#E0E0E0\",\"major_label_text_font\":\"Helvetica\",\"major_label_text_font_size\":\"1.025em\",\"axis_line_color\":\"#E0E0E0\",\"axis_line_alpha\":0,\"major_tick_line_color\":\"#E0E0E0\",\"major_tick_line_alpha\":0,\"minor_tick_line_color\":\"#E0E0E0\",\"minor_tick_line_alpha\":0}},{\"type\":\"object\",\"name\":\"LinearAxis\",\"id\":\"p1225\",\"attributes\":{\"y_range_name\":\"angle\",\"ticker\":{\"type\":\"object\",\"name\":\"BasicTicker\",\"id\":\"p1226\",\"attributes\":{\"mantissas\":[1,2,5]}},\"formatter\":{\"type\":\"object\",\"name\":\"BasicTickFormatter\",\"id\":\"p1227\"},\"axis_label\":\"angle\",\"axis_label_standoff\":10,\"axis_label_text_color\":\"#E0E0E0\",\"axis_label_text_font\":\"Helvetica\",\"axis_label_text_font_size\":\"1.25em\",\"axis_label_text_font_style\":\"normal\",\"major_label_policy\":{\"type\":\"object\",\"name\":\"AllLabels\",\"id\":\"p1228\"},\"major_label_text_color\":\"#E0E0E0\",\"major_label_text_font\":\"Helvetica\",\"major_label_text_font_size\":\"1.025em\",\"axis_line_color\":\"#E0E0E0\",\"axis_line_alpha\":0,\"major_tick_line_color\":\"#E0E0E0\",\"major_tick_line_alpha\":0,\"minor_tick_line_color\":\"#E0E0E0\",\"minor_tick_line_alpha\":0}}],\"below\":[{\"type\":\"object\",\"name\":\"LinearAxis\",\"id\":\"p1196\",\"attributes\":{\"ticker\":{\"type\":\"object\",\"name\":\"BasicTicker\",\"id\":\"p1197\",\"attributes\":{\"mantissas\":[1,2,5]}},\"formatter\":{\"type\":\"object\",\"name\":\"BasicTickFormatter\",\"id\":\"p1198\"},\"axis_label\":\"seconds from exit\",\"axis_label_standoff\":10,\"axis_label_text_color\":\"#E0E0E0\",\"axis_label_text_font\":\"Helvetica\",\"axis_label_text_font_size\":\"1.25em\",\"axis_label_text_font_style\":\"normal\",\"major_label_policy\":{\"type\":\"object\",\"name\":\"AllLabels\",\"id\":\"p1199\"},\"major_label_text_color\":\"#E0E0E0\",\"major_label_text_font\":\"Helvetica\",\"major_label_text_font_size\":\"1.025em\",\"axis_line_color\":\"#E0E0E0\",\"axis_line_alpha\":0,\"major_tick_line_color\":\"#E0E0E0\",\"major_tick_line_alpha\":0,\"minor_tick_line_color\":\"#E0E0E0\",\"minor_tick_line_alpha\":0}}],\"center\":[{\"type\":\"object\",\"name\":\"Grid\",\"id\":\"p1200\",\"attributes\":{\"axis\":{\"id\":\"p1196\"},\"grid_line_color\":\"#E0E0E0\",\"grid_line_alpha\":0.25}},{\"type\":\"object\",\"name\":\"Grid\",\"id\":\"p1205\",\"attributes\":{\"dimension\":1,\"axis\":{\"id\":\"p1201\"},\"grid_line_color\":\"#E0E0E0\",\"grid_line_alpha\":0.25}},{\"type\":\"object\",\"name\":\"Legend\",\"id\":\"p1238\",\"attributes\":{\"border_line_alpha\":0,\"background_fill_color\":\"#20262B\",\"background_fill_alpha\":0.25,\"label_text_color\":\"#E0E0E0\",\"label_text_font\":\"Helvetica\",\"label_text_font_size\":\"1.025em\",\"label_standoff\":8,\"glyph_width\":15,\"spacing\":8,\"items\":[{\"type\":\"object\",\"name\":\"LegendItem\",\"id\":\"p1239\",\"attributes\":{\"label\":{\"type\":\"value\",\"value\":\"Alt (ft)\"},\"renderers\":[{\"id\":\"p1235\"}]}},{\"type\":\"object\",\"name\":\"LegendItem\",\"id\":\"p1249\",\"attributes\":{\"label\":{\"type\":\"value\",\"value\":\"angle\"},\"renderers\":[{\"id\":\"p1246\"}]}},{\"type\":\"object\",\"name\":\"LegendItem\",\"id\":\"p1260\",\"attributes\":{\"label\":{\"type\":\"value\",\"value\":\"speed\"},\"renderers\":[{\"id\":\"p1257\"}]}},{\"type\":\"object\",\"name\":\"LegendItem\",\"id\":\"p1270\",\"attributes\":{\"label\":{\"type\":\"value\",\"value\":\"H-speed\"},\"renderers\":[{\"id\":\"p1267\"}]}}]}}],\"background_fill_color\":\"#20262B\",\"border_fill_color\":\"#15191C\"}}]}};\n",
       "  const render_items = [{\"docid\":\"390488f0-f0db-43f2-9e6f-c2a5312ab667\",\"roots\":{\"p1182\":\"a5a426bf-c6bb-41c5-bfe9-398be09b6a91\"},\"root_ids\":[\"p1182\"]}];\n",
       "  void root.Bokeh.embed.embed_items_notebook(docs_json, render_items);\n",
       "  }\n",
       "  if (root.Bokeh !== undefined) {\n",
       "    embed_document(root);\n",
       "  } else {\n",
       "    let attempts = 0;\n",
       "    const timer = setInterval(function(root) {\n",
       "      if (root.Bokeh !== undefined) {\n",
       "        clearInterval(timer);\n",
       "        embed_document(root);\n",
       "      } else {\n",
       "        attempts++;\n",
       "        if (attempts > 100) {\n",
       "          clearInterval(timer);\n",
       "          console.log(\"Bokeh: ERROR: Unable to run BokehJS code because BokehJS library is missing\");\n",
       "        }\n",
       "      }\n",
       "    }, 10, root)\n",
       "  }\n",
       "})(window);"
      ],
      "application/vnd.bokehjs_exec.v0+json": ""
     },
     "metadata": {
      "application/vnd.bokehjs_exec.v0+json": {
       "id": "p1182"
      }
     },
     "output_type": "display_data"
    },
    {
     "data": {
      "application/vnd.jupyter.widget-view+json": {
       "model_id": "3d459d00d4ad4c90a644c19d06bad4fb",
       "version_major": 2,
       "version_minor": 0
      },
      "text/plain": [
       "HTML(value='<hr><h1><span style=\"color: #0f0\">10-50-38:v2 jump - 🟢 valid - score = 489.62 km/h</span></h1>')"
      ]
     },
     "metadata": {},
     "output_type": "display_data"
    },
    {
     "data": {
      "application/vnd.jupyter.widget-view+json": {
       "model_id": "70791a398a11413d8e9c8252f38acb05",
       "version_major": 2,
       "version_minor": 0
      },
      "text/plain": [
       "HTML(value='<h3>Max speed = 494; exit at 4341 m (14244 ft), end scoring window at 2085 m (6843 ft)')"
      ]
     },
     "metadata": {},
     "output_type": "display_data"
    },
    {
     "data": {
      "application/vnd.jupyter.widget-view+json": {
       "model_id": "eb0112c1bbdf46dba63abd894018da3f",
       "version_major": 2,
       "version_minor": 0
      },
      "text/plain": [
       "HTML(value='</h3>')"
      ]
     },
     "metadata": {},
     "output_type": "display_data"
    },
    {
     "data": {
      "text/html": [
       "<div>\n",
       "<style scoped>\n",
       "    .dataframe tbody tr th:only-of-type {\n",
       "        vertical-align: middle;\n",
       "    }\n",
       "\n",
       "    .dataframe tbody tr th {\n",
       "        vertical-align: top;\n",
       "    }\n",
       "\n",
       "    .dataframe thead th {\n",
       "        text-align: right;\n",
       "    }\n",
       "</style>\n",
       "<table border=\"1\" class=\"dataframe\">\n",
       "  <thead>\n",
       "    <tr style=\"text-align: right;\">\n",
       "      <th></th>\n",
       "      <th>time</th>\n",
       "      <th>vKMh</th>\n",
       "      <th>hKMh</th>\n",
       "      <th>speedAngle</th>\n",
       "      <th>distanceFromExit</th>\n",
       "      <th>altitude (ft)</th>\n",
       "      <th>netVectorKMh</th>\n",
       "    </tr>\n",
       "  </thead>\n",
       "  <tbody>\n",
       "    <tr>\n",
       "      <th></th>\n",
       "      <td>5.0</td>\n",
       "      <td>178</td>\n",
       "      <td>183</td>\n",
       "      <td>44.2</td>\n",
       "      <td>290.800000</td>\n",
       "      <td>13829</td>\n",
       "      <td>255</td>\n",
       "    </tr>\n",
       "    <tr>\n",
       "      <th></th>\n",
       "      <td>10.0</td>\n",
       "      <td>316</td>\n",
       "      <td>163</td>\n",
       "      <td>62.7</td>\n",
       "      <td>527.200000</td>\n",
       "      <td>12671</td>\n",
       "      <td>355</td>\n",
       "    </tr>\n",
       "    <tr>\n",
       "      <th></th>\n",
       "      <td>15.0</td>\n",
       "      <td>416</td>\n",
       "      <td>121</td>\n",
       "      <td>73.8</td>\n",
       "      <td>726.100000</td>\n",
       "      <td>10980</td>\n",
       "      <td>433</td>\n",
       "    </tr>\n",
       "    <tr>\n",
       "      <th></th>\n",
       "      <td>20.0</td>\n",
       "      <td>475</td>\n",
       "      <td>88</td>\n",
       "      <td>79.5</td>\n",
       "      <td>870.100000</td>\n",
       "      <td>8923</td>\n",
       "      <td>484</td>\n",
       "    </tr>\n",
       "    <tr>\n",
       "      <th></th>\n",
       "      <td>25.0</td>\n",
       "      <td>494</td>\n",
       "      <td>63</td>\n",
       "      <td>82.7</td>\n",
       "      <td>968.919436</td>\n",
       "      <td>6882</td>\n",
       "      <td>498</td>\n",
       "    </tr>\n",
       "  </tbody>\n",
       "</table>\n",
       "</div>"
      ],
      "text/plain": [
       "  time  vKMh  hKMh  speedAngle  distanceFromExit  altitude (ft)  netVectorKMh\n",
       "   5.0   178   183        44.2        290.800000          13829           255\n",
       "  10.0   316   163        62.7        527.200000          12671           355\n",
       "  15.0   416   121        73.8        726.100000          10980           433\n",
       "  20.0   475    88        79.5        870.100000           8923           484\n",
       "  25.0   494    63        82.7        968.919436           6882           498"
      ]
     },
     "metadata": {},
     "output_type": "display_data"
    },
    {
     "data": {
      "text/html": [
       "\n",
       "  <div id=\"c4292205-a6c1-4319-b259-0df47271b5dd\" data-root-id=\"p1325\" style=\"display: contents;\"></div>\n"
      ]
     },
     "metadata": {},
     "output_type": "display_data"
    },
    {
     "data": {
      "application/javascript": [
       "(function(root) {\n",
       "  function embed_document(root) {\n",
       "  const docs_json = {\"150767f0-f2e9-40a2-84ed-a28df90de334\":{\"version\":\"3.5.2\",\"title\":\"Bokeh Application\",\"roots\":[{\"type\":\"object\",\"name\":\"Figure\",\"id\":\"p1325\",\"attributes\":{\"width\":900,\"height\":500,\"x_range\":{\"type\":\"object\",\"name\":\"Range1d\",\"id\":\"p1335\",\"attributes\":{\"end\":35.0}},\"y_range\":{\"type\":\"object\",\"name\":\"Range1d\",\"id\":\"p1336\",\"attributes\":{\"end\":550.0}},\"x_scale\":{\"type\":\"object\",\"name\":\"LinearScale\",\"id\":\"p1337\"},\"y_scale\":{\"type\":\"object\",\"name\":\"LinearScale\",\"id\":\"p1338\"},\"extra_y_ranges\":{\"type\":\"map\",\"entries\":[[\"altitudeFt\",{\"type\":\"object\",\"name\":\"Range1d\",\"id\":\"p1362\",\"attributes\":{\"start\":6382.106321600001,\"end\":14744.8284696}}],[\"angle\",{\"type\":\"object\",\"name\":\"Range1d\",\"id\":\"p1363\",\"attributes\":{\"end\":90.0}}]]},\"title\":{\"type\":\"object\",\"name\":\"Title\",\"id\":\"p1328\",\"attributes\":{\"text\":\"10-50-38:v2\",\"text_color\":\"#E0E0E0\",\"text_font\":\"Helvetica\",\"text_font_size\":\"1.15em\"}},\"outline_line_color\":\"#E0E0E0\",\"outline_line_alpha\":0.25,\"renderers\":[{\"type\":\"object\",\"name\":\"GlyphRenderer\",\"id\":\"p1378\",\"attributes\":{\"y_range_name\":\"altitudeFt\",\"data_source\":{\"type\":\"object\",\"name\":\"ColumnDataSource\",\"id\":\"p1372\",\"attributes\":{\"selected\":{\"type\":\"object\",\"name\":\"Selection\",\"id\":\"p1373\",\"attributes\":{\"indices\":[],\"line_indices\":[]}},\"selection_policy\":{\"type\":\"object\",\"name\":\"UnionRenderers\",\"id\":\"p1374\"},\"data\":{\"type\":\"map\",\"entries\":[[\"x\",{\"type\":\"ndarray\",\"array\":{\"type\":\"bytes\",\"data\":\"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\"},\"shape\":[247],\"dtype\":\"float64\",\"order\":\"little\"}],[\"y\",{\"type\":\"ndarray\",\"array\":{\"type\":\"bytes\",\"data\":\"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\"},\"shape\":[247],\"dtype\":\"float64\",\"order\":\"little\"}]]}}},\"view\":{\"type\":\"object\",\"name\":\"CDSView\",\"id\":\"p1379\",\"attributes\":{\"filter\":{\"type\":\"object\",\"name\":\"AllIndices\",\"id\":\"p1380\"}}},\"glyph\":{\"type\":\"object\",\"name\":\"Line\",\"id\":\"p1375\",\"attributes\":{\"x\":{\"type\":\"field\",\"field\":\"x\"},\"y\":{\"type\":\"field\",\"field\":\"y\"},\"line_color\":\"palegoldenrod\",\"line_width\":2}},\"nonselection_glyph\":{\"type\":\"object\",\"name\":\"Line\",\"id\":\"p1376\",\"attributes\":{\"x\":{\"type\":\"field\",\"field\":\"x\"},\"y\":{\"type\":\"field\",\"field\":\"y\"},\"line_color\":\"palegoldenrod\",\"line_alpha\":0.1,\"line_width\":2}},\"muted_glyph\":{\"type\":\"object\",\"name\":\"Line\",\"id\":\"p1377\",\"attributes\":{\"x\":{\"type\":\"field\",\"field\":\"x\"},\"y\":{\"type\":\"field\",\"field\":\"y\"},\"line_color\":\"palegoldenrod\",\"line_alpha\":0.2,\"line_width\":2}}}},{\"type\":\"object\",\"name\":\"GlyphRenderer\",\"id\":\"p1389\",\"attributes\":{\"y_range_name\":\"angle\",\"data_source\":{\"type\":\"object\",\"name\":\"ColumnDataSource\",\"id\":\"p1383\",\"attributes\":{\"selected\":{\"type\":\"object\",\"name\":\"Selection\",\"id\":\"p1384\",\"attributes\":{\"indices\":[],\"line_indices\":[]}},\"selection_policy\":{\"type\":\"object\",\"name\":\"UnionRenderers\",\"id\":\"p1385\"},\"data\":{\"type\":\"map\",\"entries\":[[\"x\",{\"type\":\"ndarray\",\"array\":{\"type\":\"bytes\",\"data\":\"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\"},\"shape\":[247],\"dtype\":\"float64\",\"order\":\"little\"}],[\"y\",{\"type\":\"ndarray\",\"array\":{\"type\":\"bytes\",\"data\":\"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\"},\"shape\":[247],\"dtype\":\"float64\",\"order\":\"little\"}]]}}},\"view\":{\"type\":\"object\",\"name\":\"CDSView\",\"id\":\"p1390\",\"attributes\":{\"filter\":{\"type\":\"object\",\"name\":\"AllIndices\",\"id\":\"p1391\"}}},\"glyph\":{\"type\":\"object\",\"name\":\"Line\",\"id\":\"p1386\",\"attributes\":{\"x\":{\"type\":\"field\",\"field\":\"x\"},\"y\":{\"type\":\"field\",\"field\":\"y\"},\"line_color\":\"deepskyblue\",\"line_width\":2}},\"nonselection_glyph\":{\"type\":\"object\",\"name\":\"Line\",\"id\":\"p1387\",\"attributes\":{\"x\":{\"type\":\"field\",\"field\":\"x\"},\"y\":{\"type\":\"field\",\"field\":\"y\"},\"line_color\":\"deepskyblue\",\"line_alpha\":0.1,\"line_width\":2}},\"muted_glyph\":{\"type\":\"object\",\"name\":\"Line\",\"id\":\"p1388\",\"attributes\":{\"x\":{\"type\":\"field\",\"field\":\"x\"},\"y\":{\"type\":\"field\",\"field\":\"y\"},\"line_color\":\"deepskyblue\",\"line_alpha\":0.2,\"line_width\":2}}}},{\"type\":\"object\",\"name\":\"GlyphRenderer\",\"id\":\"p1400\",\"attributes\":{\"data_source\":{\"type\":\"object\",\"name\":\"ColumnDataSource\",\"id\":\"p1394\",\"attributes\":{\"selected\":{\"type\":\"object\",\"name\":\"Selection\",\"id\":\"p1395\",\"attributes\":{\"indices\":[],\"line_indices\":[]}},\"selection_policy\":{\"type\":\"object\",\"name\":\"UnionRenderers\",\"id\":\"p1396\"},\"data\":{\"type\":\"map\",\"entries\":[[\"x\",{\"type\":\"ndarray\",\"array\":{\"type\":\"bytes\",\"data\":\"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\"},\"shape\":[247],\"dtype\":\"float64\",\"order\":\"little\"}],[\"y\",{\"type\":\"ndarray\",\"array\":{\"type\":\"bytes\",\"data\":\"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\"},\"shape\":[247],\"dtype\":\"float64\",\"order\":\"little\"}]]}}},\"view\":{\"type\":\"object\",\"name\":\"CDSView\",\"id\":\"p1401\",\"attributes\":{\"filter\":{\"type\":\"object\",\"name\":\"AllIndices\",\"id\":\"p1402\"}}},\"glyph\":{\"type\":\"object\",\"name\":\"Line\",\"id\":\"p1397\",\"attributes\":{\"x\":{\"type\":\"field\",\"field\":\"x\"},\"y\":{\"type\":\"field\",\"field\":\"y\"},\"line_color\":\"limegreen\",\"line_width\":2}},\"nonselection_glyph\":{\"type\":\"object\",\"name\":\"Line\",\"id\":\"p1398\",\"attributes\":{\"x\":{\"type\":\"field\",\"field\":\"x\"},\"y\":{\"type\":\"field\",\"field\":\"y\"},\"line_color\":\"limegreen\",\"line_alpha\":0.1,\"line_width\":2}},\"muted_glyph\":{\"type\":\"object\",\"name\":\"Line\",\"id\":\"p1399\",\"attributes\":{\"x\":{\"type\":\"field\",\"field\":\"x\"},\"y\":{\"type\":\"field\",\"field\":\"y\"},\"line_color\":\"limegreen\",\"line_alpha\":0.2,\"line_width\":2}}}},{\"type\":\"object\",\"name\":\"GlyphRenderer\",\"id\":\"p1410\",\"attributes\":{\"data_source\":{\"type\":\"object\",\"name\":\"ColumnDataSource\",\"id\":\"p1404\",\"attributes\":{\"selected\":{\"type\":\"object\",\"name\":\"Selection\",\"id\":\"p1405\",\"attributes\":{\"indices\":[],\"line_indices\":[]}},\"selection_policy\":{\"type\":\"object\",\"name\":\"UnionRenderers\",\"id\":\"p1406\"},\"data\":{\"type\":\"map\",\"entries\":[[\"x\",{\"type\":\"ndarray\",\"array\":{\"type\":\"bytes\",\"data\":\"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\"},\"shape\":[247],\"dtype\":\"float64\",\"order\":\"little\"}],[\"y\",{\"type\":\"ndarray\",\"array\":{\"type\":\"bytes\",\"data\":\"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\"},\"shape\":[247],\"dtype\":\"float64\",\"order\":\"little\"}]]}}},\"view\":{\"type\":\"object\",\"name\":\"CDSView\",\"id\":\"p1411\",\"attributes\":{\"filter\":{\"type\":\"object\",\"name\":\"AllIndices\",\"id\":\"p1412\"}}},\"glyph\":{\"type\":\"object\",\"name\":\"Line\",\"id\":\"p1407\",\"attributes\":{\"x\":{\"type\":\"field\",\"field\":\"x\"},\"y\":{\"type\":\"field\",\"field\":\"y\"},\"line_color\":\"red\",\"line_width\":2}},\"nonselection_glyph\":{\"type\":\"object\",\"name\":\"Line\",\"id\":\"p1408\",\"attributes\":{\"x\":{\"type\":\"field\",\"field\":\"x\"},\"y\":{\"type\":\"field\",\"field\":\"y\"},\"line_color\":\"red\",\"line_alpha\":0.1,\"line_width\":2}},\"muted_glyph\":{\"type\":\"object\",\"name\":\"Line\",\"id\":\"p1409\",\"attributes\":{\"x\":{\"type\":\"field\",\"field\":\"x\"},\"y\":{\"type\":\"field\",\"field\":\"y\"},\"line_color\":\"red\",\"line_alpha\":0.2,\"line_width\":2}}}},{\"type\":\"object\",\"name\":\"GlyphRenderer\",\"id\":\"p1420\",\"attributes\":{\"data_source\":{\"type\":\"object\",\"name\":\"ColumnDataSource\",\"id\":\"p1414\",\"attributes\":{\"selected\":{\"type\":\"object\",\"name\":\"Selection\",\"id\":\"p1415\",\"attributes\":{\"indices\":[],\"line_indices\":[]}},\"selection_policy\":{\"type\":\"object\",\"name\":\"UnionRenderers\",\"id\":\"p1416\"},\"data\":{\"type\":\"map\",\"entries\":[[\"x0\",[24.59999990463257]],[\"y0\",[0.0]],[\"x1\",[24.59999990463257]],[\"y1\",[489.6171870967742]]]}}},\"view\":{\"type\":\"object\",\"name\":\"CDSView\",\"id\":\"p1421\",\"attributes\":{\"filter\":{\"type\":\"object\",\"name\":\"AllIndices\",\"id\":\"p1422\"}}},\"glyph\":{\"type\":\"object\",\"name\":\"Segment\",\"id\":\"p1417\",\"attributes\":{\"x0\":{\"type\":\"field\",\"field\":\"x0\"},\"y0\":{\"type\":\"field\",\"field\":\"y0\"},\"x1\":{\"type\":\"field\",\"field\":\"x1\"},\"y1\":{\"type\":\"field\",\"field\":\"y1\"},\"line_color\":{\"type\":\"value\",\"value\":\"lightblue\"},\"line_width\":{\"type\":\"value\",\"value\":3}}},\"nonselection_glyph\":{\"type\":\"object\",\"name\":\"Segment\",\"id\":\"p1418\",\"attributes\":{\"x0\":{\"type\":\"field\",\"field\":\"x0\"},\"y0\":{\"type\":\"field\",\"field\":\"y0\"},\"x1\":{\"type\":\"field\",\"field\":\"x1\"},\"y1\":{\"type\":\"field\",\"field\":\"y1\"},\"line_color\":{\"type\":\"value\",\"value\":\"lightblue\"},\"line_alpha\":{\"type\":\"value\",\"value\":0.1},\"line_width\":{\"type\":\"value\",\"value\":3}}},\"muted_glyph\":{\"type\":\"object\",\"name\":\"Segment\",\"id\":\"p1419\",\"attributes\":{\"x0\":{\"type\":\"field\",\"field\":\"x0\"},\"y0\":{\"type\":\"field\",\"field\":\"y0\"},\"x1\":{\"type\":\"field\",\"field\":\"x1\"},\"y1\":{\"type\":\"field\",\"field\":\"y1\"},\"line_color\":{\"type\":\"value\",\"value\":\"lightblue\"},\"line_alpha\":{\"type\":\"value\",\"value\":0.2},\"line_width\":{\"type\":\"value\",\"value\":3}}}}},{\"type\":\"object\",\"name\":\"GlyphRenderer\",\"id\":\"p1429\",\"attributes\":{\"data_source\":{\"type\":\"object\",\"name\":\"ColumnDataSource\",\"id\":\"p1423\",\"attributes\":{\"selected\":{\"type\":\"object\",\"name\":\"Selection\",\"id\":\"p1424\",\"attributes\":{\"indices\":[],\"line_indices\":[]}},\"selection_policy\":{\"type\":\"object\",\"name\":\"UnionRenderers\",\"id\":\"p1425\"},\"data\":{\"type\":\"map\",\"entries\":[[\"x0\",[26.09999990463257]],[\"y0\",[0.0]],[\"x1\",[26.09999990463257]],[\"y1\",[489.6171870967742]]]}}},\"view\":{\"type\":\"object\",\"name\":\"CDSView\",\"id\":\"p1430\",\"attributes\":{\"filter\":{\"type\":\"object\",\"name\":\"AllIndices\",\"id\":\"p1431\"}}},\"glyph\":{\"type\":\"object\",\"name\":\"Segment\",\"id\":\"p1426\",\"attributes\":{\"x0\":{\"type\":\"field\",\"field\":\"x0\"},\"y0\":{\"type\":\"field\",\"field\":\"y0\"},\"x1\":{\"type\":\"field\",\"field\":\"x1\"},\"y1\":{\"type\":\"field\",\"field\":\"y1\"},\"line_color\":{\"type\":\"value\",\"value\":\"darkseagreen\"}}},\"nonselection_glyph\":{\"type\":\"object\",\"name\":\"Segment\",\"id\":\"p1427\",\"attributes\":{\"x0\":{\"type\":\"field\",\"field\":\"x0\"},\"y0\":{\"type\":\"field\",\"field\":\"y0\"},\"x1\":{\"type\":\"field\",\"field\":\"x1\"},\"y1\":{\"type\":\"field\",\"field\":\"y1\"},\"line_color\":{\"type\":\"value\",\"value\":\"darkseagreen\"},\"line_alpha\":{\"type\":\"value\",\"value\":0.1}}},\"muted_glyph\":{\"type\":\"object\",\"name\":\"Segment\",\"id\":\"p1428\",\"attributes\":{\"x0\":{\"type\":\"field\",\"field\":\"x0\"},\"y0\":{\"type\":\"field\",\"field\":\"y0\"},\"x1\":{\"type\":\"field\",\"field\":\"x1\"},\"y1\":{\"type\":\"field\",\"field\":\"y1\"},\"line_color\":{\"type\":\"value\",\"value\":\"darkseagreen\"},\"line_alpha\":{\"type\":\"value\",\"value\":0.2}}}}},{\"type\":\"object\",\"name\":\"GlyphRenderer\",\"id\":\"p1438\",\"attributes\":{\"data_source\":{\"type\":\"object\",\"name\":\"ColumnDataSource\",\"id\":\"p1432\",\"attributes\":{\"selected\":{\"type\":\"object\",\"name\":\"Selection\",\"id\":\"p1433\",\"attributes\":{\"indices\":[],\"line_indices\":[]}},\"selection_policy\":{\"type\":\"object\",\"name\":\"UnionRenderers\",\"id\":\"p1434\"},\"data\":{\"type\":\"map\",\"entries\":[[\"x0\",[23.09999990463257]],[\"y0\",[0.0]],[\"x1\",[23.09999990463257]],[\"y1\",[489.6171870967742]]]}}},\"view\":{\"type\":\"object\",\"name\":\"CDSView\",\"id\":\"p1439\",\"attributes\":{\"filter\":{\"type\":\"object\",\"name\":\"AllIndices\",\"id\":\"p1440\"}}},\"glyph\":{\"type\":\"object\",\"name\":\"Segment\",\"id\":\"p1435\",\"attributes\":{\"x0\":{\"type\":\"field\",\"field\":\"x0\"},\"y0\":{\"type\":\"field\",\"field\":\"y0\"},\"x1\":{\"type\":\"field\",\"field\":\"x1\"},\"y1\":{\"type\":\"field\",\"field\":\"y1\"},\"line_color\":{\"type\":\"value\",\"value\":\"darkseagreen\"}}},\"nonselection_glyph\":{\"type\":\"object\",\"name\":\"Segment\",\"id\":\"p1436\",\"attributes\":{\"x0\":{\"type\":\"field\",\"field\":\"x0\"},\"y0\":{\"type\":\"field\",\"field\":\"y0\"},\"x1\":{\"type\":\"field\",\"field\":\"x1\"},\"y1\":{\"type\":\"field\",\"field\":\"y1\"},\"line_color\":{\"type\":\"value\",\"value\":\"darkseagreen\"},\"line_alpha\":{\"type\":\"value\",\"value\":0.1}}},\"muted_glyph\":{\"type\":\"object\",\"name\":\"Segment\",\"id\":\"p1437\",\"attributes\":{\"x0\":{\"type\":\"field\",\"field\":\"x0\"},\"y0\":{\"type\":\"field\",\"field\":\"y0\"},\"x1\":{\"type\":\"field\",\"field\":\"x1\"},\"y1\":{\"type\":\"field\",\"field\":\"y1\"},\"line_color\":{\"type\":\"value\",\"value\":\"darkseagreen\"},\"line_alpha\":{\"type\":\"value\",\"value\":0.2}}}}},{\"type\":\"object\",\"name\":\"GlyphRenderer\",\"id\":\"p1447\",\"attributes\":{\"data_source\":{\"type\":\"object\",\"name\":\"ColumnDataSource\",\"id\":\"p1441\",\"attributes\":{\"selected\":{\"type\":\"object\",\"name\":\"Selection\",\"id\":\"p1442\",\"attributes\":{\"indices\":[],\"line_indices\":[]}},\"selection_policy\":{\"type\":\"object\",\"name\":\"UnionRenderers\",\"id\":\"p1443\"},\"data\":{\"type\":\"map\",\"entries\":[[\"x\",[24.59999990463257]],[\"y\",[489.6171870967742]],[\"size\",[20]]]}}},\"view\":{\"type\":\"object\",\"name\":\"CDSView\",\"id\":\"p1448\",\"attributes\":{\"filter\":{\"type\":\"object\",\"name\":\"AllIndices\",\"id\":\"p1449\"}}},\"glyph\":{\"type\":\"object\",\"name\":\"Scatter\",\"id\":\"p1444\",\"attributes\":{\"x\":{\"type\":\"field\",\"field\":\"x\"},\"y\":{\"type\":\"field\",\"field\":\"y\"},\"size\":{\"type\":\"field\",\"field\":\"size\"},\"line_color\":{\"type\":\"value\",\"value\":\"lightblue\"},\"line_width\":{\"type\":\"value\",\"value\":3},\"fill_color\":{\"type\":\"value\",\"value\":null},\"marker\":{\"type\":\"value\",\"value\":\"square_cross\"}}},\"nonselection_glyph\":{\"type\":\"object\",\"name\":\"Scatter\",\"id\":\"p1445\",\"attributes\":{\"x\":{\"type\":\"field\",\"field\":\"x\"},\"y\":{\"type\":\"field\",\"field\":\"y\"},\"size\":{\"type\":\"field\",\"field\":\"size\"},\"line_color\":{\"type\":\"value\",\"value\":\"lightblue\"},\"line_alpha\":{\"type\":\"value\",\"value\":0.1},\"line_width\":{\"type\":\"value\",\"value\":3},\"fill_color\":{\"type\":\"value\",\"value\":null},\"fill_alpha\":{\"type\":\"value\",\"value\":0.1},\"hatch_alpha\":{\"type\":\"value\",\"value\":0.1},\"marker\":{\"type\":\"value\",\"value\":\"square_cross\"}}},\"muted_glyph\":{\"type\":\"object\",\"name\":\"Scatter\",\"id\":\"p1446\",\"attributes\":{\"x\":{\"type\":\"field\",\"field\":\"x\"},\"y\":{\"type\":\"field\",\"field\":\"y\"},\"size\":{\"type\":\"field\",\"field\":\"size\"},\"line_color\":{\"type\":\"value\",\"value\":\"lightblue\"},\"line_alpha\":{\"type\":\"value\",\"value\":0.2},\"line_width\":{\"type\":\"value\",\"value\":3},\"fill_color\":{\"type\":\"value\",\"value\":null},\"fill_alpha\":{\"type\":\"value\",\"value\":0.2},\"hatch_alpha\":{\"type\":\"value\",\"value\":0.2},\"marker\":{\"type\":\"value\",\"value\":\"square_cross\"}}}}}],\"toolbar\":{\"type\":\"object\",\"name\":\"Toolbar\",\"id\":\"p1334\",\"attributes\":{\"tools\":[{\"type\":\"object\",\"name\":\"PanTool\",\"id\":\"p1349\"},{\"type\":\"object\",\"name\":\"WheelZoomTool\",\"id\":\"p1350\",\"attributes\":{\"renderers\":\"auto\"}},{\"type\":\"object\",\"name\":\"BoxZoomTool\",\"id\":\"p1351\",\"attributes\":{\"overlay\":{\"type\":\"object\",\"name\":\"BoxAnnotation\",\"id\":\"p1352\",\"attributes\":{\"syncable\":false,\"line_color\":\"black\",\"line_alpha\":1.0,\"line_width\":2,\"line_dash\":[4,4],\"fill_color\":\"lightgrey\",\"fill_alpha\":0.5,\"level\":\"overlay\",\"visible\":false,\"left\":{\"type\":\"number\",\"value\":\"nan\"},\"right\":{\"type\":\"number\",\"value\":\"nan\"},\"top\":{\"type\":\"number\",\"value\":\"nan\"},\"bottom\":{\"type\":\"number\",\"value\":\"nan\"},\"left_units\":\"canvas\",\"right_units\":\"canvas\",\"top_units\":\"canvas\",\"bottom_units\":\"canvas\",\"handles\":{\"type\":\"object\",\"name\":\"BoxInteractionHandles\",\"id\":\"p1358\",\"attributes\":{\"all\":{\"type\":\"object\",\"name\":\"AreaVisuals\",\"id\":\"p1357\",\"attributes\":{\"fill_color\":\"white\",\"hover_fill_color\":\"lightgray\"}}}}}}}},{\"type\":\"object\",\"name\":\"SaveTool\",\"id\":\"p1359\"},{\"type\":\"object\",\"name\":\"ResetTool\",\"id\":\"p1360\"},{\"type\":\"object\",\"name\":\"HelpTool\",\"id\":\"p1361\"},{\"type\":\"object\",\"name\":\"HoverTool\",\"id\":\"p1393\",\"attributes\":{\"renderers\":\"auto\",\"tooltips\":[[\"Y-val\",\"@y{0.00}\"]]}}]}},\"left\":[{\"type\":\"object\",\"name\":\"LinearAxis\",\"id\":\"p1344\",\"attributes\":{\"ticker\":{\"type\":\"object\",\"name\":\"BasicTicker\",\"id\":\"p1345\",\"attributes\":{\"mantissas\":[1,2,5]}},\"formatter\":{\"type\":\"object\",\"name\":\"BasicTickFormatter\",\"id\":\"p1346\"},\"axis_label\":\"km/h\",\"axis_label_standoff\":10,\"axis_label_text_color\":\"#E0E0E0\",\"axis_label_text_font\":\"Helvetica\",\"axis_label_text_font_size\":\"1.25em\",\"axis_label_text_font_style\":\"normal\",\"major_label_policy\":{\"type\":\"object\",\"name\":\"AllLabels\",\"id\":\"p1347\"},\"major_label_text_color\":\"#E0E0E0\",\"major_label_text_font\":\"Helvetica\",\"major_label_text_font_size\":\"1.025em\",\"axis_line_color\":\"#E0E0E0\",\"axis_line_alpha\":0,\"major_tick_line_color\":\"#E0E0E0\",\"major_tick_line_alpha\":0,\"minor_tick_line_color\":\"#E0E0E0\",\"minor_tick_line_alpha\":0}},{\"type\":\"object\",\"name\":\"LinearAxis\",\"id\":\"p1364\",\"attributes\":{\"y_range_name\":\"altitudeFt\",\"ticker\":{\"type\":\"object\",\"name\":\"BasicTicker\",\"id\":\"p1365\",\"attributes\":{\"mantissas\":[1,2,5]}},\"formatter\":{\"type\":\"object\",\"name\":\"BasicTickFormatter\",\"id\":\"p1366\"},\"axis_label\":\"Alt (ft)\",\"axis_label_standoff\":10,\"axis_label_text_color\":\"#E0E0E0\",\"axis_label_text_font\":\"Helvetica\",\"axis_label_text_font_size\":\"1.25em\",\"axis_label_text_font_style\":\"normal\",\"major_label_policy\":{\"type\":\"object\",\"name\":\"AllLabels\",\"id\":\"p1367\"},\"major_label_text_color\":\"#E0E0E0\",\"major_label_text_font\":\"Helvetica\",\"major_label_text_font_size\":\"1.025em\",\"axis_line_color\":\"#E0E0E0\",\"axis_line_alpha\":0,\"major_tick_line_color\":\"#E0E0E0\",\"major_tick_line_alpha\":0,\"minor_tick_line_color\":\"#E0E0E0\",\"minor_tick_line_alpha\":0}},{\"type\":\"object\",\"name\":\"LinearAxis\",\"id\":\"p1368\",\"attributes\":{\"y_range_name\":\"angle\",\"ticker\":{\"type\":\"object\",\"name\":\"BasicTicker\",\"id\":\"p1369\",\"attributes\":{\"mantissas\":[1,2,5]}},\"formatter\":{\"type\":\"object\",\"name\":\"BasicTickFormatter\",\"id\":\"p1370\"},\"axis_label\":\"angle\",\"axis_label_standoff\":10,\"axis_label_text_color\":\"#E0E0E0\",\"axis_label_text_font\":\"Helvetica\",\"axis_label_text_font_size\":\"1.25em\",\"axis_label_text_font_style\":\"normal\",\"major_label_policy\":{\"type\":\"object\",\"name\":\"AllLabels\",\"id\":\"p1371\"},\"major_label_text_color\":\"#E0E0E0\",\"major_label_text_font\":\"Helvetica\",\"major_label_text_font_size\":\"1.025em\",\"axis_line_color\":\"#E0E0E0\",\"axis_line_alpha\":0,\"major_tick_line_color\":\"#E0E0E0\",\"major_tick_line_alpha\":0,\"minor_tick_line_color\":\"#E0E0E0\",\"minor_tick_line_alpha\":0}}],\"below\":[{\"type\":\"object\",\"name\":\"LinearAxis\",\"id\":\"p1339\",\"attributes\":{\"ticker\":{\"type\":\"object\",\"name\":\"BasicTicker\",\"id\":\"p1340\",\"attributes\":{\"mantissas\":[1,2,5]}},\"formatter\":{\"type\":\"object\",\"name\":\"BasicTickFormatter\",\"id\":\"p1341\"},\"axis_label\":\"seconds from exit\",\"axis_label_standoff\":10,\"axis_label_text_color\":\"#E0E0E0\",\"axis_label_text_font\":\"Helvetica\",\"axis_label_text_font_size\":\"1.25em\",\"axis_label_text_font_style\":\"normal\",\"major_label_policy\":{\"type\":\"object\",\"name\":\"AllLabels\",\"id\":\"p1342\"},\"major_label_text_color\":\"#E0E0E0\",\"major_label_text_font\":\"Helvetica\",\"major_label_text_font_size\":\"1.025em\",\"axis_line_color\":\"#E0E0E0\",\"axis_line_alpha\":0,\"major_tick_line_color\":\"#E0E0E0\",\"major_tick_line_alpha\":0,\"minor_tick_line_color\":\"#E0E0E0\",\"minor_tick_line_alpha\":0}}],\"center\":[{\"type\":\"object\",\"name\":\"Grid\",\"id\":\"p1343\",\"attributes\":{\"axis\":{\"id\":\"p1339\"},\"grid_line_color\":\"#E0E0E0\",\"grid_line_alpha\":0.25}},{\"type\":\"object\",\"name\":\"Grid\",\"id\":\"p1348\",\"attributes\":{\"dimension\":1,\"axis\":{\"id\":\"p1344\"},\"grid_line_color\":\"#E0E0E0\",\"grid_line_alpha\":0.25}},{\"type\":\"object\",\"name\":\"Legend\",\"id\":\"p1381\",\"attributes\":{\"border_line_alpha\":0,\"background_fill_color\":\"#20262B\",\"background_fill_alpha\":0.25,\"label_text_color\":\"#E0E0E0\",\"label_text_font\":\"Helvetica\",\"label_text_font_size\":\"1.025em\",\"label_standoff\":8,\"glyph_width\":15,\"spacing\":8,\"items\":[{\"type\":\"object\",\"name\":\"LegendItem\",\"id\":\"p1382\",\"attributes\":{\"label\":{\"type\":\"value\",\"value\":\"Alt (ft)\"},\"renderers\":[{\"id\":\"p1378\"}]}},{\"type\":\"object\",\"name\":\"LegendItem\",\"id\":\"p1392\",\"attributes\":{\"label\":{\"type\":\"value\",\"value\":\"angle\"},\"renderers\":[{\"id\":\"p1389\"}]}},{\"type\":\"object\",\"name\":\"LegendItem\",\"id\":\"p1403\",\"attributes\":{\"label\":{\"type\":\"value\",\"value\":\"speed\"},\"renderers\":[{\"id\":\"p1400\"}]}},{\"type\":\"object\",\"name\":\"LegendItem\",\"id\":\"p1413\",\"attributes\":{\"label\":{\"type\":\"value\",\"value\":\"H-speed\"},\"renderers\":[{\"id\":\"p1410\"}]}}]}}],\"background_fill_color\":\"#20262B\",\"border_fill_color\":\"#15191C\"}}]}};\n",
       "  const render_items = [{\"docid\":\"150767f0-f2e9-40a2-84ed-a28df90de334\",\"roots\":{\"p1325\":\"c4292205-a6c1-4319-b259-0df47271b5dd\"},\"root_ids\":[\"p1325\"]}];\n",
       "  void root.Bokeh.embed.embed_items_notebook(docs_json, render_items);\n",
       "  }\n",
       "  if (root.Bokeh !== undefined) {\n",
       "    embed_document(root);\n",
       "  } else {\n",
       "    let attempts = 0;\n",
       "    const timer = setInterval(function(root) {\n",
       "      if (root.Bokeh !== undefined) {\n",
       "        clearInterval(timer);\n",
       "        embed_document(root);\n",
       "      } else {\n",
       "        attempts++;\n",
       "        if (attempts > 100) {\n",
       "          clearInterval(timer);\n",
       "          console.log(\"Bokeh: ERROR: Unable to run BokehJS code because BokehJS library is missing\");\n",
       "        }\n",
       "      }\n",
       "    }, 10, root)\n",
       "  }\n",
       "})(window);"
      ],
      "application/vnd.bokehjs_exec.v0+json": ""
     },
     "metadata": {
      "application/vnd.bokehjs_exec.v0+json": {
       "id": "p1325"
      }
     },
     "output_type": "display_data"
    },
    {
     "data": {
      "application/vnd.jupyter.widget-view+json": {
       "model_id": "7a3303c6c9c4429bb8ba6678977ab182",
       "version_major": 2,
       "version_minor": 0
      },
      "text/plain": [
       "HTML(value='<hr><h1><span style=\"color: #0f0\">12-22-54:v2 jump - 🟢 valid - score = 487.58 km/h</span></h1>')"
      ]
     },
     "metadata": {},
     "output_type": "display_data"
    },
    {
     "data": {
      "application/vnd.jupyter.widget-view+json": {
       "model_id": "8afc3aad16b94892beedc22c7af667f0",
       "version_major": 2,
       "version_minor": 0
      },
      "text/plain": [
       "HTML(value='<h3>Max speed = 489; exit at 4186 m (13734 ft), end scoring window at 1930 m (6333 ft)')"
      ]
     },
     "metadata": {},
     "output_type": "display_data"
    },
    {
     "data": {
      "application/vnd.jupyter.widget-view+json": {
       "model_id": "c200082715ca467c8ceed7a53272d5bc",
       "version_major": 2,
       "version_minor": 0
      },
      "text/plain": [
       "HTML(value='</h3>')"
      ]
     },
     "metadata": {},
     "output_type": "display_data"
    },
    {
     "data": {
      "text/html": [
       "<div>\n",
       "<style scoped>\n",
       "    .dataframe tbody tr th:only-of-type {\n",
       "        vertical-align: middle;\n",
       "    }\n",
       "\n",
       "    .dataframe tbody tr th {\n",
       "        vertical-align: top;\n",
       "    }\n",
       "\n",
       "    .dataframe thead th {\n",
       "        text-align: right;\n",
       "    }\n",
       "</style>\n",
       "<table border=\"1\" class=\"dataframe\">\n",
       "  <thead>\n",
       "    <tr style=\"text-align: right;\">\n",
       "      <th></th>\n",
       "      <th>time</th>\n",
       "      <th>vKMh</th>\n",
       "      <th>hKMh</th>\n",
       "      <th>speedAngle</th>\n",
       "      <th>distanceFromExit</th>\n",
       "      <th>altitude (ft)</th>\n",
       "      <th>netVectorKMh</th>\n",
       "    </tr>\n",
       "  </thead>\n",
       "  <tbody>\n",
       "    <tr>\n",
       "      <th></th>\n",
       "      <td>5.0</td>\n",
       "      <td>182</td>\n",
       "      <td>178</td>\n",
       "      <td>45.6</td>\n",
       "      <td>280.500000</td>\n",
       "      <td>13298</td>\n",
       "      <td>255</td>\n",
       "    </tr>\n",
       "    <tr>\n",
       "      <th></th>\n",
       "      <td>10.0</td>\n",
       "      <td>329</td>\n",
       "      <td>143</td>\n",
       "      <td>66.4</td>\n",
       "      <td>502.200000</td>\n",
       "      <td>12108</td>\n",
       "      <td>359</td>\n",
       "    </tr>\n",
       "    <tr>\n",
       "      <th></th>\n",
       "      <td>15.0</td>\n",
       "      <td>417</td>\n",
       "      <td>124</td>\n",
       "      <td>73.4</td>\n",
       "      <td>690.100000</td>\n",
       "      <td>10387</td>\n",
       "      <td>435</td>\n",
       "    </tr>\n",
       "    <tr>\n",
       "      <th></th>\n",
       "      <td>20.0</td>\n",
       "      <td>476</td>\n",
       "      <td>101</td>\n",
       "      <td>78.0</td>\n",
       "      <td>848.700000</td>\n",
       "      <td>8332</td>\n",
       "      <td>486</td>\n",
       "    </tr>\n",
       "    <tr>\n",
       "      <th></th>\n",
       "      <td>25.0</td>\n",
       "      <td>487</td>\n",
       "      <td>67</td>\n",
       "      <td>82.1</td>\n",
       "      <td>954.171777</td>\n",
       "      <td>6339</td>\n",
       "      <td>492</td>\n",
       "    </tr>\n",
       "  </tbody>\n",
       "</table>\n",
       "</div>"
      ],
      "text/plain": [
       "  time  vKMh  hKMh  speedAngle  distanceFromExit  altitude (ft)  netVectorKMh\n",
       "   5.0   182   178        45.6        280.500000          13298           255\n",
       "  10.0   329   143        66.4        502.200000          12108           359\n",
       "  15.0   417   124        73.4        690.100000          10387           435\n",
       "  20.0   476   101        78.0        848.700000           8332           486\n",
       "  25.0   487    67        82.1        954.171777           6339           492"
      ]
     },
     "metadata": {},
     "output_type": "display_data"
    },
    {
     "data": {
      "text/html": [
       "\n",
       "  <div id=\"f72037fb-a517-47a2-86cb-cacef4add93c\" data-root-id=\"p1468\" style=\"display: contents;\"></div>\n"
      ]
     },
     "metadata": {},
     "output_type": "display_data"
    },
    {
     "data": {
      "application/javascript": [
       "(function(root) {\n",
       "  function embed_document(root) {\n",
       "  const docs_json = {\"45b56a1c-9195-4513-896b-76fb9da416a0\":{\"version\":\"3.5.2\",\"title\":\"Bokeh Application\",\"roots\":[{\"type\":\"object\",\"name\":\"Figure\",\"id\":\"p1468\",\"attributes\":{\"width\":900,\"height\":500,\"x_range\":{\"type\":\"object\",\"name\":\"Range1d\",\"id\":\"p1478\",\"attributes\":{\"end\":35.0}},\"y_range\":{\"type\":\"object\",\"name\":\"Range1d\",\"id\":\"p1479\",\"attributes\":{\"end\":550.0}},\"x_scale\":{\"type\":\"object\",\"name\":\"LinearScale\",\"id\":\"p1480\"},\"y_scale\":{\"type\":\"object\",\"name\":\"LinearScale\",\"id\":\"p1481\"},\"extra_y_ranges\":{\"type\":\"map\",\"entries\":[[\"altitudeFt\",{\"type\":\"object\",\"name\":\"Range1d\",\"id\":\"p1505\",\"attributes\":{\"start\":5839.1207984,\"end\":14234.6706312}}],[\"angle\",{\"type\":\"object\",\"name\":\"Range1d\",\"id\":\"p1506\",\"attributes\":{\"end\":90.0}}]]},\"title\":{\"type\":\"object\",\"name\":\"Title\",\"id\":\"p1471\",\"attributes\":{\"text\":\"12-22-54:v2\",\"text_color\":\"#E0E0E0\",\"text_font\":\"Helvetica\",\"text_font_size\":\"1.15em\"}},\"outline_line_color\":\"#E0E0E0\",\"outline_line_alpha\":0.25,\"renderers\":[{\"type\":\"object\",\"name\":\"GlyphRenderer\",\"id\":\"p1521\",\"attributes\":{\"y_range_name\":\"altitudeFt\",\"data_source\":{\"type\":\"object\",\"name\":\"ColumnDataSource\",\"id\":\"p1515\",\"attributes\":{\"selected\":{\"type\":\"object\",\"name\":\"Selection\",\"id\":\"p1516\",\"attributes\":{\"indices\":[],\"line_indices\":[]}},\"selection_policy\":{\"type\":\"object\",\"name\":\"UnionRenderers\",\"id\":\"p1517\"},\"data\":{\"type\":\"map\",\"entries\":[[\"x\",{\"type\":\"ndarray\",\"array\":{\"type\":\"bytes\",\"data\":\"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\"},\"shape\":[246],\"dtype\":\"float64\",\"order\":\"little\"}],[\"y\",{\"type\":\"ndarray\",\"array\":{\"type\":\"bytes\",\"data\":\"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\"},\"shape\":[246],\"dtype\":\"float64\",\"order\":\"little\"}]]}}},\"view\":{\"type\":\"object\",\"name\":\"CDSView\",\"id\":\"p1522\",\"attributes\":{\"filter\":{\"type\":\"object\",\"name\":\"AllIndices\",\"id\":\"p1523\"}}},\"glyph\":{\"type\":\"object\",\"name\":\"Line\",\"id\":\"p1518\",\"attributes\":{\"x\":{\"type\":\"field\",\"field\":\"x\"},\"y\":{\"type\":\"field\",\"field\":\"y\"},\"line_color\":\"palegoldenrod\",\"line_width\":2}},\"nonselection_glyph\":{\"type\":\"object\",\"name\":\"Line\",\"id\":\"p1519\",\"attributes\":{\"x\":{\"type\":\"field\",\"field\":\"x\"},\"y\":{\"type\":\"field\",\"field\":\"y\"},\"line_color\":\"palegoldenrod\",\"line_alpha\":0.1,\"line_width\":2}},\"muted_glyph\":{\"type\":\"object\",\"name\":\"Line\",\"id\":\"p1520\",\"attributes\":{\"x\":{\"type\":\"field\",\"field\":\"x\"},\"y\":{\"type\":\"field\",\"field\":\"y\"},\"line_color\":\"palegoldenrod\",\"line_alpha\":0.2,\"line_width\":2}}}},{\"type\":\"object\",\"name\":\"GlyphRenderer\",\"id\":\"p1532\",\"attributes\":{\"y_range_name\":\"angle\",\"data_source\":{\"type\":\"object\",\"name\":\"ColumnDataSource\",\"id\":\"p1526\",\"attributes\":{\"selected\":{\"type\":\"object\",\"name\":\"Selection\",\"id\":\"p1527\",\"attributes\":{\"indices\":[],\"line_indices\":[]}},\"selection_policy\":{\"type\":\"object\",\"name\":\"UnionRenderers\",\"id\":\"p1528\"},\"data\":{\"type\":\"map\",\"entries\":[[\"x\",{\"type\":\"ndarray\",\"array\":{\"type\":\"bytes\",\"data\":\"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\"},\"shape\":[246],\"dtype\":\"float64\",\"order\":\"little\"}],[\"y\",{\"type\":\"ndarray\",\"array\":{\"type\":\"bytes\",\"data\":\"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\"},\"shape\":[246],\"dtype\":\"float64\",\"order\":\"little\"}]]}}},\"view\":{\"type\":\"object\",\"name\":\"CDSView\",\"id\":\"p1533\",\"attributes\":{\"filter\":{\"type\":\"object\",\"name\":\"AllIndices\",\"id\":\"p1534\"}}},\"glyph\":{\"type\":\"object\",\"name\":\"Line\",\"id\":\"p1529\",\"attributes\":{\"x\":{\"type\":\"field\",\"field\":\"x\"},\"y\":{\"type\":\"field\",\"field\":\"y\"},\"line_color\":\"deepskyblue\",\"line_width\":2}},\"nonselection_glyph\":{\"type\":\"object\",\"name\":\"Line\",\"id\":\"p1530\",\"attributes\":{\"x\":{\"type\":\"field\",\"field\":\"x\"},\"y\":{\"type\":\"field\",\"field\":\"y\"},\"line_color\":\"deepskyblue\",\"line_alpha\":0.1,\"line_width\":2}},\"muted_glyph\":{\"type\":\"object\",\"name\":\"Line\",\"id\":\"p1531\",\"attributes\":{\"x\":{\"type\":\"field\",\"field\":\"x\"},\"y\":{\"type\":\"field\",\"field\":\"y\"},\"line_color\":\"deepskyblue\",\"line_alpha\":0.2,\"line_width\":2}}}},{\"type\":\"object\",\"name\":\"GlyphRenderer\",\"id\":\"p1543\",\"attributes\":{\"data_source\":{\"type\":\"object\",\"name\":\"ColumnDataSource\",\"id\":\"p1537\",\"attributes\":{\"selected\":{\"type\":\"object\",\"name\":\"Selection\",\"id\":\"p1538\",\"attributes\":{\"indices\":[],\"line_indices\":[]}},\"selection_policy\":{\"type\":\"object\",\"name\":\"UnionRenderers\",\"id\":\"p1539\"},\"data\":{\"type\":\"map\",\"entries\":[[\"x\",{\"type\":\"ndarray\",\"array\":{\"type\":\"bytes\",\"data\":\"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\"},\"shape\":[246],\"dtype\":\"float64\",\"order\":\"little\"}],[\"y\",{\"type\":\"ndarray\",\"array\":{\"type\":\"bytes\",\"data\":\"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\"},\"shape\":[246],\"dtype\":\"float64\",\"order\":\"little\"}]]}}},\"view\":{\"type\":\"object\",\"name\":\"CDSView\",\"id\":\"p1544\",\"attributes\":{\"filter\":{\"type\":\"object\",\"name\":\"AllIndices\",\"id\":\"p1545\"}}},\"glyph\":{\"type\":\"object\",\"name\":\"Line\",\"id\":\"p1540\",\"attributes\":{\"x\":{\"type\":\"field\",\"field\":\"x\"},\"y\":{\"type\":\"field\",\"field\":\"y\"},\"line_color\":\"limegreen\",\"line_width\":2}},\"nonselection_glyph\":{\"type\":\"object\",\"name\":\"Line\",\"id\":\"p1541\",\"attributes\":{\"x\":{\"type\":\"field\",\"field\":\"x\"},\"y\":{\"type\":\"field\",\"field\":\"y\"},\"line_color\":\"limegreen\",\"line_alpha\":0.1,\"line_width\":2}},\"muted_glyph\":{\"type\":\"object\",\"name\":\"Line\",\"id\":\"p1542\",\"attributes\":{\"x\":{\"type\":\"field\",\"field\":\"x\"},\"y\":{\"type\":\"field\",\"field\":\"y\"},\"line_color\":\"limegreen\",\"line_alpha\":0.2,\"line_width\":2}}}},{\"type\":\"object\",\"name\":\"GlyphRenderer\",\"id\":\"p1553\",\"attributes\":{\"data_source\":{\"type\":\"object\",\"name\":\"ColumnDataSource\",\"id\":\"p1547\",\"attributes\":{\"selected\":{\"type\":\"object\",\"name\":\"Selection\",\"id\":\"p1548\",\"attributes\":{\"indices\":[],\"line_indices\":[]}},\"selection_policy\":{\"type\":\"object\",\"name\":\"UnionRenderers\",\"id\":\"p1549\"},\"data\":{\"type\":\"map\",\"entries\":[[\"x\",{\"type\":\"ndarray\",\"array\":{\"type\":\"bytes\",\"data\":\"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\"},\"shape\":[246],\"dtype\":\"float64\",\"order\":\"little\"}],[\"y\",{\"type\":\"ndarray\",\"array\":{\"type\":\"bytes\",\"data\":\"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\"},\"shape\":[246],\"dtype\":\"float64\",\"order\":\"little\"}]]}}},\"view\":{\"type\":\"object\",\"name\":\"CDSView\",\"id\":\"p1554\",\"attributes\":{\"filter\":{\"type\":\"object\",\"name\":\"AllIndices\",\"id\":\"p1555\"}}},\"glyph\":{\"type\":\"object\",\"name\":\"Line\",\"id\":\"p1550\",\"attributes\":{\"x\":{\"type\":\"field\",\"field\":\"x\"},\"y\":{\"type\":\"field\",\"field\":\"y\"},\"line_color\":\"red\",\"line_width\":2}},\"nonselection_glyph\":{\"type\":\"object\",\"name\":\"Line\",\"id\":\"p1551\",\"attributes\":{\"x\":{\"type\":\"field\",\"field\":\"x\"},\"y\":{\"type\":\"field\",\"field\":\"y\"},\"line_color\":\"red\",\"line_alpha\":0.1,\"line_width\":2}},\"muted_glyph\":{\"type\":\"object\",\"name\":\"Line\",\"id\":\"p1552\",\"attributes\":{\"x\":{\"type\":\"field\",\"field\":\"x\"},\"y\":{\"type\":\"field\",\"field\":\"y\"},\"line_color\":\"red\",\"line_alpha\":0.2,\"line_width\":2}}}},{\"type\":\"object\",\"name\":\"GlyphRenderer\",\"id\":\"p1563\",\"attributes\":{\"data_source\":{\"type\":\"object\",\"name\":\"ColumnDataSource\",\"id\":\"p1557\",\"attributes\":{\"selected\":{\"type\":\"object\",\"name\":\"Selection\",\"id\":\"p1558\",\"attributes\":{\"indices\":[],\"line_indices\":[]}},\"selection_policy\":{\"type\":\"object\",\"name\":\"UnionRenderers\",\"id\":\"p1559\"},\"data\":{\"type\":\"map\",\"entries\":[[\"x0\",[24.5]],[\"y0\",[0.0]],[\"x1\",[24.5]],[\"y1\",[487.58492903225806]]]}}},\"view\":{\"type\":\"object\",\"name\":\"CDSView\",\"id\":\"p1564\",\"attributes\":{\"filter\":{\"type\":\"object\",\"name\":\"AllIndices\",\"id\":\"p1565\"}}},\"glyph\":{\"type\":\"object\",\"name\":\"Segment\",\"id\":\"p1560\",\"attributes\":{\"x0\":{\"type\":\"field\",\"field\":\"x0\"},\"y0\":{\"type\":\"field\",\"field\":\"y0\"},\"x1\":{\"type\":\"field\",\"field\":\"x1\"},\"y1\":{\"type\":\"field\",\"field\":\"y1\"},\"line_color\":{\"type\":\"value\",\"value\":\"lightblue\"},\"line_width\":{\"type\":\"value\",\"value\":3}}},\"nonselection_glyph\":{\"type\":\"object\",\"name\":\"Segment\",\"id\":\"p1561\",\"attributes\":{\"x0\":{\"type\":\"field\",\"field\":\"x0\"},\"y0\":{\"type\":\"field\",\"field\":\"y0\"},\"x1\":{\"type\":\"field\",\"field\":\"x1\"},\"y1\":{\"type\":\"field\",\"field\":\"y1\"},\"line_color\":{\"type\":\"value\",\"value\":\"lightblue\"},\"line_alpha\":{\"type\":\"value\",\"value\":0.1},\"line_width\":{\"type\":\"value\",\"value\":3}}},\"muted_glyph\":{\"type\":\"object\",\"name\":\"Segment\",\"id\":\"p1562\",\"attributes\":{\"x0\":{\"type\":\"field\",\"field\":\"x0\"},\"y0\":{\"type\":\"field\",\"field\":\"y0\"},\"x1\":{\"type\":\"field\",\"field\":\"x1\"},\"y1\":{\"type\":\"field\",\"field\":\"y1\"},\"line_color\":{\"type\":\"value\",\"value\":\"lightblue\"},\"line_alpha\":{\"type\":\"value\",\"value\":0.2},\"line_width\":{\"type\":\"value\",\"value\":3}}}}},{\"type\":\"object\",\"name\":\"GlyphRenderer\",\"id\":\"p1572\",\"attributes\":{\"data_source\":{\"type\":\"object\",\"name\":\"ColumnDataSource\",\"id\":\"p1566\",\"attributes\":{\"selected\":{\"type\":\"object\",\"name\":\"Selection\",\"id\":\"p1567\",\"attributes\":{\"indices\":[],\"line_indices\":[]}},\"selection_policy\":{\"type\":\"object\",\"name\":\"UnionRenderers\",\"id\":\"p1568\"},\"data\":{\"type\":\"map\",\"entries\":[[\"x0\",[26.0]],[\"y0\",[0.0]],[\"x1\",[26.0]],[\"y1\",[487.58492903225806]]]}}},\"view\":{\"type\":\"object\",\"name\":\"CDSView\",\"id\":\"p1573\",\"attributes\":{\"filter\":{\"type\":\"object\",\"name\":\"AllIndices\",\"id\":\"p1574\"}}},\"glyph\":{\"type\":\"object\",\"name\":\"Segment\",\"id\":\"p1569\",\"attributes\":{\"x0\":{\"type\":\"field\",\"field\":\"x0\"},\"y0\":{\"type\":\"field\",\"field\":\"y0\"},\"x1\":{\"type\":\"field\",\"field\":\"x1\"},\"y1\":{\"type\":\"field\",\"field\":\"y1\"},\"line_color\":{\"type\":\"value\",\"value\":\"darkseagreen\"}}},\"nonselection_glyph\":{\"type\":\"object\",\"name\":\"Segment\",\"id\":\"p1570\",\"attributes\":{\"x0\":{\"type\":\"field\",\"field\":\"x0\"},\"y0\":{\"type\":\"field\",\"field\":\"y0\"},\"x1\":{\"type\":\"field\",\"field\":\"x1\"},\"y1\":{\"type\":\"field\",\"field\":\"y1\"},\"line_color\":{\"type\":\"value\",\"value\":\"darkseagreen\"},\"line_alpha\":{\"type\":\"value\",\"value\":0.1}}},\"muted_glyph\":{\"type\":\"object\",\"name\":\"Segment\",\"id\":\"p1571\",\"attributes\":{\"x0\":{\"type\":\"field\",\"field\":\"x0\"},\"y0\":{\"type\":\"field\",\"field\":\"y0\"},\"x1\":{\"type\":\"field\",\"field\":\"x1\"},\"y1\":{\"type\":\"field\",\"field\":\"y1\"},\"line_color\":{\"type\":\"value\",\"value\":\"darkseagreen\"},\"line_alpha\":{\"type\":\"value\",\"value\":0.2}}}}},{\"type\":\"object\",\"name\":\"GlyphRenderer\",\"id\":\"p1581\",\"attributes\":{\"data_source\":{\"type\":\"object\",\"name\":\"ColumnDataSource\",\"id\":\"p1575\",\"attributes\":{\"selected\":{\"type\":\"object\",\"name\":\"Selection\",\"id\":\"p1576\",\"attributes\":{\"indices\":[],\"line_indices\":[]}},\"selection_policy\":{\"type\":\"object\",\"name\":\"UnionRenderers\",\"id\":\"p1577\"},\"data\":{\"type\":\"map\",\"entries\":[[\"x0\",[23.0]],[\"y0\",[0.0]],[\"x1\",[23.0]],[\"y1\",[487.58492903225806]]]}}},\"view\":{\"type\":\"object\",\"name\":\"CDSView\",\"id\":\"p1582\",\"attributes\":{\"filter\":{\"type\":\"object\",\"name\":\"AllIndices\",\"id\":\"p1583\"}}},\"glyph\":{\"type\":\"object\",\"name\":\"Segment\",\"id\":\"p1578\",\"attributes\":{\"x0\":{\"type\":\"field\",\"field\":\"x0\"},\"y0\":{\"type\":\"field\",\"field\":\"y0\"},\"x1\":{\"type\":\"field\",\"field\":\"x1\"},\"y1\":{\"type\":\"field\",\"field\":\"y1\"},\"line_color\":{\"type\":\"value\",\"value\":\"darkseagreen\"}}},\"nonselection_glyph\":{\"type\":\"object\",\"name\":\"Segment\",\"id\":\"p1579\",\"attributes\":{\"x0\":{\"type\":\"field\",\"field\":\"x0\"},\"y0\":{\"type\":\"field\",\"field\":\"y0\"},\"x1\":{\"type\":\"field\",\"field\":\"x1\"},\"y1\":{\"type\":\"field\",\"field\":\"y1\"},\"line_color\":{\"type\":\"value\",\"value\":\"darkseagreen\"},\"line_alpha\":{\"type\":\"value\",\"value\":0.1}}},\"muted_glyph\":{\"type\":\"object\",\"name\":\"Segment\",\"id\":\"p1580\",\"attributes\":{\"x0\":{\"type\":\"field\",\"field\":\"x0\"},\"y0\":{\"type\":\"field\",\"field\":\"y0\"},\"x1\":{\"type\":\"field\",\"field\":\"x1\"},\"y1\":{\"type\":\"field\",\"field\":\"y1\"},\"line_color\":{\"type\":\"value\",\"value\":\"darkseagreen\"},\"line_alpha\":{\"type\":\"value\",\"value\":0.2}}}}},{\"type\":\"object\",\"name\":\"GlyphRenderer\",\"id\":\"p1590\",\"attributes\":{\"data_source\":{\"type\":\"object\",\"name\":\"ColumnDataSource\",\"id\":\"p1584\",\"attributes\":{\"selected\":{\"type\":\"object\",\"name\":\"Selection\",\"id\":\"p1585\",\"attributes\":{\"indices\":[],\"line_indices\":[]}},\"selection_policy\":{\"type\":\"object\",\"name\":\"UnionRenderers\",\"id\":\"p1586\"},\"data\":{\"type\":\"map\",\"entries\":[[\"x\",[24.5]],[\"y\",[487.58492903225806]],[\"size\",[20]]]}}},\"view\":{\"type\":\"object\",\"name\":\"CDSView\",\"id\":\"p1591\",\"attributes\":{\"filter\":{\"type\":\"object\",\"name\":\"AllIndices\",\"id\":\"p1592\"}}},\"glyph\":{\"type\":\"object\",\"name\":\"Scatter\",\"id\":\"p1587\",\"attributes\":{\"x\":{\"type\":\"field\",\"field\":\"x\"},\"y\":{\"type\":\"field\",\"field\":\"y\"},\"size\":{\"type\":\"field\",\"field\":\"size\"},\"line_color\":{\"type\":\"value\",\"value\":\"lightblue\"},\"line_width\":{\"type\":\"value\",\"value\":3},\"fill_color\":{\"type\":\"value\",\"value\":null},\"marker\":{\"type\":\"value\",\"value\":\"square_cross\"}}},\"nonselection_glyph\":{\"type\":\"object\",\"name\":\"Scatter\",\"id\":\"p1588\",\"attributes\":{\"x\":{\"type\":\"field\",\"field\":\"x\"},\"y\":{\"type\":\"field\",\"field\":\"y\"},\"size\":{\"type\":\"field\",\"field\":\"size\"},\"line_color\":{\"type\":\"value\",\"value\":\"lightblue\"},\"line_alpha\":{\"type\":\"value\",\"value\":0.1},\"line_width\":{\"type\":\"value\",\"value\":3},\"fill_color\":{\"type\":\"value\",\"value\":null},\"fill_alpha\":{\"type\":\"value\",\"value\":0.1},\"hatch_alpha\":{\"type\":\"value\",\"value\":0.1},\"marker\":{\"type\":\"value\",\"value\":\"square_cross\"}}},\"muted_glyph\":{\"type\":\"object\",\"name\":\"Scatter\",\"id\":\"p1589\",\"attributes\":{\"x\":{\"type\":\"field\",\"field\":\"x\"},\"y\":{\"type\":\"field\",\"field\":\"y\"},\"size\":{\"type\":\"field\",\"field\":\"size\"},\"line_color\":{\"type\":\"value\",\"value\":\"lightblue\"},\"line_alpha\":{\"type\":\"value\",\"value\":0.2},\"line_width\":{\"type\":\"value\",\"value\":3},\"fill_color\":{\"type\":\"value\",\"value\":null},\"fill_alpha\":{\"type\":\"value\",\"value\":0.2},\"hatch_alpha\":{\"type\":\"value\",\"value\":0.2},\"marker\":{\"type\":\"value\",\"value\":\"square_cross\"}}}}}],\"toolbar\":{\"type\":\"object\",\"name\":\"Toolbar\",\"id\":\"p1477\",\"attributes\":{\"tools\":[{\"type\":\"object\",\"name\":\"PanTool\",\"id\":\"p1492\"},{\"type\":\"object\",\"name\":\"WheelZoomTool\",\"id\":\"p1493\",\"attributes\":{\"renderers\":\"auto\"}},{\"type\":\"object\",\"name\":\"BoxZoomTool\",\"id\":\"p1494\",\"attributes\":{\"overlay\":{\"type\":\"object\",\"name\":\"BoxAnnotation\",\"id\":\"p1495\",\"attributes\":{\"syncable\":false,\"line_color\":\"black\",\"line_alpha\":1.0,\"line_width\":2,\"line_dash\":[4,4],\"fill_color\":\"lightgrey\",\"fill_alpha\":0.5,\"level\":\"overlay\",\"visible\":false,\"left\":{\"type\":\"number\",\"value\":\"nan\"},\"right\":{\"type\":\"number\",\"value\":\"nan\"},\"top\":{\"type\":\"number\",\"value\":\"nan\"},\"bottom\":{\"type\":\"number\",\"value\":\"nan\"},\"left_units\":\"canvas\",\"right_units\":\"canvas\",\"top_units\":\"canvas\",\"bottom_units\":\"canvas\",\"handles\":{\"type\":\"object\",\"name\":\"BoxInteractionHandles\",\"id\":\"p1501\",\"attributes\":{\"all\":{\"type\":\"object\",\"name\":\"AreaVisuals\",\"id\":\"p1500\",\"attributes\":{\"fill_color\":\"white\",\"hover_fill_color\":\"lightgray\"}}}}}}}},{\"type\":\"object\",\"name\":\"SaveTool\",\"id\":\"p1502\"},{\"type\":\"object\",\"name\":\"ResetTool\",\"id\":\"p1503\"},{\"type\":\"object\",\"name\":\"HelpTool\",\"id\":\"p1504\"},{\"type\":\"object\",\"name\":\"HoverTool\",\"id\":\"p1536\",\"attributes\":{\"renderers\":\"auto\",\"tooltips\":[[\"Y-val\",\"@y{0.00}\"]]}}]}},\"left\":[{\"type\":\"object\",\"name\":\"LinearAxis\",\"id\":\"p1487\",\"attributes\":{\"ticker\":{\"type\":\"object\",\"name\":\"BasicTicker\",\"id\":\"p1488\",\"attributes\":{\"mantissas\":[1,2,5]}},\"formatter\":{\"type\":\"object\",\"name\":\"BasicTickFormatter\",\"id\":\"p1489\"},\"axis_label\":\"km/h\",\"axis_label_standoff\":10,\"axis_label_text_color\":\"#E0E0E0\",\"axis_label_text_font\":\"Helvetica\",\"axis_label_text_font_size\":\"1.25em\",\"axis_label_text_font_style\":\"normal\",\"major_label_policy\":{\"type\":\"object\",\"name\":\"AllLabels\",\"id\":\"p1490\"},\"major_label_text_color\":\"#E0E0E0\",\"major_label_text_font\":\"Helvetica\",\"major_label_text_font_size\":\"1.025em\",\"axis_line_color\":\"#E0E0E0\",\"axis_line_alpha\":0,\"major_tick_line_color\":\"#E0E0E0\",\"major_tick_line_alpha\":0,\"minor_tick_line_color\":\"#E0E0E0\",\"minor_tick_line_alpha\":0}},{\"type\":\"object\",\"name\":\"LinearAxis\",\"id\":\"p1507\",\"attributes\":{\"y_range_name\":\"altitudeFt\",\"ticker\":{\"type\":\"object\",\"name\":\"BasicTicker\",\"id\":\"p1508\",\"attributes\":{\"mantissas\":[1,2,5]}},\"formatter\":{\"type\":\"object\",\"name\":\"BasicTickFormatter\",\"id\":\"p1509\"},\"axis_label\":\"Alt (ft)\",\"axis_label_standoff\":10,\"axis_label_text_color\":\"#E0E0E0\",\"axis_label_text_font\":\"Helvetica\",\"axis_label_text_font_size\":\"1.25em\",\"axis_label_text_font_style\":\"normal\",\"major_label_policy\":{\"type\":\"object\",\"name\":\"AllLabels\",\"id\":\"p1510\"},\"major_label_text_color\":\"#E0E0E0\",\"major_label_text_font\":\"Helvetica\",\"major_label_text_font_size\":\"1.025em\",\"axis_line_color\":\"#E0E0E0\",\"axis_line_alpha\":0,\"major_tick_line_color\":\"#E0E0E0\",\"major_tick_line_alpha\":0,\"minor_tick_line_color\":\"#E0E0E0\",\"minor_tick_line_alpha\":0}},{\"type\":\"object\",\"name\":\"LinearAxis\",\"id\":\"p1511\",\"attributes\":{\"y_range_name\":\"angle\",\"ticker\":{\"type\":\"object\",\"name\":\"BasicTicker\",\"id\":\"p1512\",\"attributes\":{\"mantissas\":[1,2,5]}},\"formatter\":{\"type\":\"object\",\"name\":\"BasicTickFormatter\",\"id\":\"p1513\"},\"axis_label\":\"angle\",\"axis_label_standoff\":10,\"axis_label_text_color\":\"#E0E0E0\",\"axis_label_text_font\":\"Helvetica\",\"axis_label_text_font_size\":\"1.25em\",\"axis_label_text_font_style\":\"normal\",\"major_label_policy\":{\"type\":\"object\",\"name\":\"AllLabels\",\"id\":\"p1514\"},\"major_label_text_color\":\"#E0E0E0\",\"major_label_text_font\":\"Helvetica\",\"major_label_text_font_size\":\"1.025em\",\"axis_line_color\":\"#E0E0E0\",\"axis_line_alpha\":0,\"major_tick_line_color\":\"#E0E0E0\",\"major_tick_line_alpha\":0,\"minor_tick_line_color\":\"#E0E0E0\",\"minor_tick_line_alpha\":0}}],\"below\":[{\"type\":\"object\",\"name\":\"LinearAxis\",\"id\":\"p1482\",\"attributes\":{\"ticker\":{\"type\":\"object\",\"name\":\"BasicTicker\",\"id\":\"p1483\",\"attributes\":{\"mantissas\":[1,2,5]}},\"formatter\":{\"type\":\"object\",\"name\":\"BasicTickFormatter\",\"id\":\"p1484\"},\"axis_label\":\"seconds from exit\",\"axis_label_standoff\":10,\"axis_label_text_color\":\"#E0E0E0\",\"axis_label_text_font\":\"Helvetica\",\"axis_label_text_font_size\":\"1.25em\",\"axis_label_text_font_style\":\"normal\",\"major_label_policy\":{\"type\":\"object\",\"name\":\"AllLabels\",\"id\":\"p1485\"},\"major_label_text_color\":\"#E0E0E0\",\"major_label_text_font\":\"Helvetica\",\"major_label_text_font_size\":\"1.025em\",\"axis_line_color\":\"#E0E0E0\",\"axis_line_alpha\":0,\"major_tick_line_color\":\"#E0E0E0\",\"major_tick_line_alpha\":0,\"minor_tick_line_color\":\"#E0E0E0\",\"minor_tick_line_alpha\":0}}],\"center\":[{\"type\":\"object\",\"name\":\"Grid\",\"id\":\"p1486\",\"attributes\":{\"axis\":{\"id\":\"p1482\"},\"grid_line_color\":\"#E0E0E0\",\"grid_line_alpha\":0.25}},{\"type\":\"object\",\"name\":\"Grid\",\"id\":\"p1491\",\"attributes\":{\"dimension\":1,\"axis\":{\"id\":\"p1487\"},\"grid_line_color\":\"#E0E0E0\",\"grid_line_alpha\":0.25}},{\"type\":\"object\",\"name\":\"Legend\",\"id\":\"p1524\",\"attributes\":{\"border_line_alpha\":0,\"background_fill_color\":\"#20262B\",\"background_fill_alpha\":0.25,\"label_text_color\":\"#E0E0E0\",\"label_text_font\":\"Helvetica\",\"label_text_font_size\":\"1.025em\",\"label_standoff\":8,\"glyph_width\":15,\"spacing\":8,\"items\":[{\"type\":\"object\",\"name\":\"LegendItem\",\"id\":\"p1525\",\"attributes\":{\"label\":{\"type\":\"value\",\"value\":\"Alt (ft)\"},\"renderers\":[{\"id\":\"p1521\"}]}},{\"type\":\"object\",\"name\":\"LegendItem\",\"id\":\"p1535\",\"attributes\":{\"label\":{\"type\":\"value\",\"value\":\"angle\"},\"renderers\":[{\"id\":\"p1532\"}]}},{\"type\":\"object\",\"name\":\"LegendItem\",\"id\":\"p1546\",\"attributes\":{\"label\":{\"type\":\"value\",\"value\":\"speed\"},\"renderers\":[{\"id\":\"p1543\"}]}},{\"type\":\"object\",\"name\":\"LegendItem\",\"id\":\"p1556\",\"attributes\":{\"label\":{\"type\":\"value\",\"value\":\"H-speed\"},\"renderers\":[{\"id\":\"p1553\"}]}}]}}],\"background_fill_color\":\"#20262B\",\"border_fill_color\":\"#15191C\"}}]}};\n",
       "  const render_items = [{\"docid\":\"45b56a1c-9195-4513-896b-76fb9da416a0\",\"roots\":{\"p1468\":\"f72037fb-a517-47a2-86cb-cacef4add93c\"},\"root_ids\":[\"p1468\"]}];\n",
       "  void root.Bokeh.embed.embed_items_notebook(docs_json, render_items);\n",
       "  }\n",
       "  if (root.Bokeh !== undefined) {\n",
       "    embed_document(root);\n",
       "  } else {\n",
       "    let attempts = 0;\n",
       "    const timer = setInterval(function(root) {\n",
       "      if (root.Bokeh !== undefined) {\n",
       "        clearInterval(timer);\n",
       "        embed_document(root);\n",
       "      } else {\n",
       "        attempts++;\n",
       "        if (attempts > 100) {\n",
       "          clearInterval(timer);\n",
       "          console.log(\"Bokeh: ERROR: Unable to run BokehJS code because BokehJS library is missing\");\n",
       "        }\n",
       "      }\n",
       "    }, 10, root)\n",
       "  }\n",
       "})(window);"
      ],
      "application/vnd.bokehjs_exec.v0+json": ""
     },
     "metadata": {
      "application/vnd.bokehjs_exec.v0+json": {
       "id": "p1468"
      }
     },
     "output_type": "display_data"
    }
   ],
   "source": [
    "allJumpsPlot = initializePlot('All jumps in set')\n",
    "jumpNumber = 0\n",
    "mixColor = 0\n",
    "for resultRef in sorted(jumpResults.keys()):\n",
    "    jumpResult = jumpResults[resultRef]\n",
    "    if jumpResult.score > 0.0:\n",
    "        validJumpStatus = '<hr><h1><span style=\"color: %s\">%s jump - %s - score = %.02f km/h</span></h1>' % (jumpResult.color, resultRef, jumpResult.result, jumpResult.score)        \n",
    "    else:\n",
    "        validJumpStatus = '<hr><h1><span style=\"color: %s\">%s jump - %s</span></h1>' % (jumpResult.color, resultRef, jumpResult.result)\n",
    "    display(widgets.HTML(validJumpStatus))\n",
    "\n",
    "    maxSpeed = jumpResult.maxSpeed\n",
    "    window = jumpResult.window\n",
    "    mixColor = (mixColor+1)%len(SPEED_COLORS)\n",
    "    if jumpResult.score > 0.0:\n",
    "        display(widgets.HTML('<h3>Max speed = {0:,.0f}; '.format(maxSpeed)+('exit at %d m (%d ft), end scoring window at %d m (%d ft)'%(window.start, 3.2808*window.start, window.end, 3.2808*window.end))))\n",
    "        if not isValidMinimumAltitude(jumpResult.data.altitudeAGL.max()):\n",
    "            display(widgets.HTML('<span style=\"color: yellow\"><span style=\"font-weight: bold\">Warning:</span> exit altitude ASL was lower than the minimum scoring altitude according to IPC and USPA.'))\n",
    "        display(widgets.HTML('</h3>'))\n",
    "        # TODO: Move this to an in-notebook function or module.\n",
    "        displayJumpDataIn(jumpResult.table)\n",
    "        individualPlot = initializePlot(resultRef)\n",
    "        individualPlot = initializeExtraYRanges(individualPlot, startY = min(jumpResult.data.altitudeAGLFt)-500.0, endY = max(jumpResult.data.altitudeAGLFt)+500.0)\n",
    "        graphAltitude(individualPlot, jumpResult)\n",
    "        graphAngle(individualPlot, jumpResult)\n",
    "        hoverValue = bm.HoverTool(tooltips = [ ('Y-val', '@y{0.00}'), ])\n",
    "        individualPlot.add_tools(hoverValue)\n",
    "        graphJumpResult(individualPlot,\n",
    "                        jumpResult,\n",
    "                        lineColor = SPEED_COLORS[0])\n",
    "        graphJumpResult(allJumpsPlot,\n",
    "                        jumpResult,\n",
    "                        lineColor = SPEED_COLORS[mixColor],\n",
    "                        legend = '%s - %.2f' % (resultRef, jumpResult.score),\n",
    "                        showIt = False)"
   ]
  },
  {
   "attachments": {},
   "cell_type": "markdown",
   "id": "a5d31990-f5c2-43d9-817b-b50a35740834",
   "metadata": {},
   "source": [
    "---\n",
    "## Summary of all speed skydives in the data lake"
   ]
  },
  {
   "cell_type": "markdown",
   "id": "491440ae-2efa-47fa-856c-25825a6fa4de",
   "metadata": {},
   "source": [
    "**<a href='https://intimescoring.com/Results/EventResults?dbid=100&mid=1074&smid=0&mdcid=1273&dseid=0' target='_blank'>InTime Scoring - 2024 USPA Speed Open results</a>**"
   ]
  },
  {
   "cell_type": "code",
   "execution_count": 13,
   "id": "17991fcf-e215-4a53-a6ff-d9a64cbafd94",
   "metadata": {
    "jupyter": {
     "source_hidden": true
    }
   },
   "outputs": [
    {
     "data": {
      "text/html": [
       "<div>\n",
       "<style scoped>\n",
       "    .dataframe tbody tr th:only-of-type {\n",
       "        vertical-align: middle;\n",
       "    }\n",
       "\n",
       "    .dataframe tbody tr th {\n",
       "        vertical-align: top;\n",
       "    }\n",
       "\n",
       "    .dataframe thead th {\n",
       "        text-align: right;\n",
       "    }\n",
       "</style>\n",
       "<table border=\"1\" class=\"dataframe\">\n",
       "  <thead>\n",
       "    <tr style=\"text-align: right;\">\n",
       "      <th></th>\n",
       "      <th>score</th>\n",
       "      <th>5.0</th>\n",
       "      <th>10.0</th>\n",
       "      <th>15.0</th>\n",
       "      <th>20.0</th>\n",
       "      <th>25.0</th>\n",
       "      <th>finalTime</th>\n",
       "      <th>maxSpeed</th>\n",
       "    </tr>\n",
       "  </thead>\n",
       "  <tbody>\n",
       "    <tr>\n",
       "      <th>00-00-00-baseline-20240928:v1</th>\n",
       "      <td>489</td>\n",
       "      <td>177</td>\n",
       "      <td>316</td>\n",
       "      <td>415</td>\n",
       "      <td>472</td>\n",
       "      <td>493</td>\n",
       "      <td>24.5</td>\n",
       "      <td>493</td>\n",
       "    </tr>\n",
       "    <tr>\n",
       "      <th>09-29-08:v2</th>\n",
       "      <td>483</td>\n",
       "      <td>173</td>\n",
       "      <td>313</td>\n",
       "      <td>415</td>\n",
       "      <td>473</td>\n",
       "      <td>482</td>\n",
       "      <td>24.8</td>\n",
       "      <td>485</td>\n",
       "    </tr>\n",
       "    <tr>\n",
       "      <th>10-50-38:v2</th>\n",
       "      <td>490</td>\n",
       "      <td>178</td>\n",
       "      <td>316</td>\n",
       "      <td>416</td>\n",
       "      <td>475</td>\n",
       "      <td>494</td>\n",
       "      <td>24.6</td>\n",
       "      <td>494</td>\n",
       "    </tr>\n",
       "    <tr>\n",
       "      <th>12-22-54:v2</th>\n",
       "      <td>488</td>\n",
       "      <td>182</td>\n",
       "      <td>329</td>\n",
       "      <td>417</td>\n",
       "      <td>476</td>\n",
       "      <td>487</td>\n",
       "      <td>24.5</td>\n",
       "      <td>489</td>\n",
       "    </tr>\n",
       "  </tbody>\n",
       "</table>\n",
       "</div>"
      ],
      "text/plain": [
       "                               score  5.0  10.0  15.0  20.0  25.0  finalTime  \\\n",
       "00-00-00-baseline-20240928:v1    489  177   316   415   472   493       24.5   \n",
       "09-29-08:v2                      483  173   313   415   473   482       24.8   \n",
       "10-50-38:v2                      490  178   316   416   475   494       24.6   \n",
       "12-22-54:v2                      488  182   329   417   476   487       24.5   \n",
       "\n",
       "                               maxSpeed  \n",
       "00-00-00-baseline-20240928:v1       493  \n",
       "09-29-08:v2                         485  \n",
       "10-50-38:v2                         494  \n",
       "12-22-54:v2                         489  "
      ]
     },
     "metadata": {},
     "output_type": "display_data"
    },
    {
     "data": {
      "text/html": [
       "<div>\n",
       "<style scoped>\n",
       "    .dataframe tbody tr th:only-of-type {\n",
       "        vertical-align: middle;\n",
       "    }\n",
       "\n",
       "    .dataframe tbody tr th {\n",
       "        vertical-align: top;\n",
       "    }\n",
       "\n",
       "    .dataframe thead th {\n",
       "        text-align: right;\n",
       "    }\n",
       "</style>\n",
       "<table border=\"1\" class=\"dataframe\">\n",
       "  <thead>\n",
       "    <tr style=\"text-align: right;\">\n",
       "      <th></th>\n",
       "      <th>totalSpeed</th>\n",
       "      <th>meanSpeed</th>\n",
       "      <th>maxScore</th>\n",
       "    </tr>\n",
       "  </thead>\n",
       "  <tbody>\n",
       "    <tr>\n",
       "      <th>totalSpeed</th>\n",
       "      <td>1949.244921</td>\n",
       "      <td>487.31123</td>\n",
       "      <td>489.617187</td>\n",
       "    </tr>\n",
       "  </tbody>\n",
       "</table>\n",
       "</div>"
      ],
      "text/plain": [
       "             totalSpeed  meanSpeed    maxScore\n",
       "totalSpeed  1949.244921  487.31123  489.617187"
      ]
     },
     "metadata": {},
     "output_type": "display_data"
    },
    {
     "data": {
      "text/html": [
       "\n",
       "  <div id=\"b08e5eca-3963-4a5f-8479-9c434f92a7db\" data-root-id=\"p1001\" style=\"display: contents;\"></div>\n"
      ]
     },
     "metadata": {},
     "output_type": "display_data"
    },
    {
     "data": {
      "application/javascript": [
       "(function(root) {\n",
       "  function embed_document(root) {\n",
       "  const docs_json = {\"583df3c4-f117-403f-a548-a4efdf633a2f\":{\"version\":\"3.5.2\",\"title\":\"Bokeh Application\",\"roots\":[{\"type\":\"object\",\"name\":\"Figure\",\"id\":\"p1001\",\"attributes\":{\"width\":900,\"height\":500,\"x_range\":{\"type\":\"object\",\"name\":\"Range1d\",\"id\":\"p1011\",\"attributes\":{\"end\":35.0}},\"y_range\":{\"type\":\"object\",\"name\":\"Range1d\",\"id\":\"p1012\",\"attributes\":{\"end\":550.0}},\"x_scale\":{\"type\":\"object\",\"name\":\"LinearScale\",\"id\":\"p1013\"},\"y_scale\":{\"type\":\"object\",\"name\":\"LinearScale\",\"id\":\"p1014\"},\"title\":{\"type\":\"object\",\"name\":\"Title\",\"id\":\"p1004\",\"attributes\":{\"text\":\"All jumps in set\",\"text_color\":\"#E0E0E0\",\"text_font\":\"Helvetica\",\"text_font_size\":\"1.15em\"}},\"outline_line_color\":\"#E0E0E0\",\"outline_line_alpha\":0.25,\"renderers\":[{\"type\":\"object\",\"name\":\"GlyphRenderer\",\"id\":\"p1177\",\"attributes\":{\"data_source\":{\"type\":\"object\",\"name\":\"ColumnDataSource\",\"id\":\"p1171\",\"attributes\":{\"selected\":{\"type\":\"object\",\"name\":\"Selection\",\"id\":\"p1172\",\"attributes\":{\"indices\":[],\"line_indices\":[]}},\"selection_policy\":{\"type\":\"object\",\"name\":\"UnionRenderers\",\"id\":\"p1173\"},\"data\":{\"type\":\"map\",\"entries\":[[\"x\",{\"type\":\"ndarray\",\"array\":{\"type\":\"bytes\",\"data\":\"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\"},\"shape\":[199],\"dtype\":\"float64\",\"order\":\"little\"}],[\"y\",{\"type\":\"ndarray\",\"array\":{\"type\":\"bytes\",\"data\":\"/Knx0k1iHkBpke18PzUhQCGwcmiR7SFAlkOLbOf7KEAzMzMzMzMwQJHtfD81XjNAMQisHFpkNkCq8dJNYhA6QLbz/dR4aT1APN9PjZcuQEA5tMh2vt9BQO58PzVeukNAokW28/2URUACK4cW2U5JQFtkO99PzUpAHVpkO98PTEBLN4lBYKVNQMdLN4lBoE9Au0kMAisHUUAdWmQ73+9RQKwcWmQ7v1JAEoPAyqHFVEDTTWIQWHlVQEoMAiuHVlZAoBov3SRGV0Aj2/l+ahxYQKrx0k1i8FhA+FPjpZvkWUDn+6nx0g1bQC2yne+nBlxArBxaZDvfXEBV46WbxMBeQPCnxks3iV9AGi/dJAZBYEBEi2zn+7lgQGHl0CLbOWFAs53vp8abYUACK4cW2f5hQDm0yHa+b2JAZ2ZmZmbmYkAX2c73U6NjQFK4HoXrEWRAg8DKoUWGZEDZzvdT4+VkQBfZzvdTU2VAWDm0yHa+ZUCWQ4ts5ytmQN9PjZdukmZAHVpkO9//ZkCgGi/dJNZnQOomMQisPGhAMzMzMzOjaEB56SYxCAxpQOF6FK5HYWlAJzEIrBzKaUB1kxgEVi5qQObQItv5fmpAMzMzMzPjakDeJAaBlaNrQClcj8L1CGxAYxBYObR4bEC1yHa+n9psQHwUrkfhim1AwvUoXI/ybUAPLbKd71duQGHl0CLbuW5A+n5qvHSDb0BnZmZmZtZvQCUGgZVDO3BAW2Q7309lcEAX2c73U4twQN9PjZduqnBAl24Sg8DScEDNzMzMzPxwQL+fGi/dTHFAarx0kxh8cUAtsp3vp55xQBFYObTI9nFAWDm0yHYWckACK4cW2UZyQLbz/dR4cXJA+n5qvHSTckBvEoPAyuFyQCPb+X5qDHNAIbByaJFVc0BbZDvfT31zQI/C9Shcp3NA2KNwPQrHc0CcxCCwcuhzQNijcD0KD3RAnMQgsHJ4dEDn+6nx0pV0QOomMQis3HRAN4lBYOX4dEAOLbKd7w91QM3MzMzMNHVABFYOLbJddUBvEoPAyrF1QIgW2c7363VAuR6F61EYdkCoxks3iWl2QPYoXI/ChXZAwvUoXI+idkB3vp8aL812QPhT46WbFHdARbbz/dQwd0BCYOXQInt3QIts5/upmXdAUrgeheu5d0ASg8DKod13QGHl0CLb+XdAsHJoke0UeEA/NV66SVR4QEoMAiuHlnhAokW28/2seEDn+6nx0s14QK5H4XoU7nhA9ihcj8INeUBI4XoUrid5QGQ730+NX3lAtvP91Hh5eUB/arx0k5h5QFtkO99PrXlAsHJoke3EeUD2KFyPwuV5QN4kBoGV83lAu0kMAisHekB/arx0kyh6QPhT46WbdHpAPN9PjZeWekAMAiuHFrF6QOxRuB6Fw3pABFYOLbL9ekBt5/up8Qp7QEW28/3UIHtAi2zn+6lBe0DeJAaBlVt7QK5H4XoUdntAC9ejcD2Ke0DfT42XbqJ7QDEIrBxavHtAbef7qfHie0BFtvP91Ph7QPyp8dJNInxAYeXQItsxfEAzMzMzM0t8QBkEVg4tWnxA9ihcj8JtfEBSuB6F64F8QARWDi2yrXxAu0kMAivXfECkcD0K1+N8QI/C9Shc73xAcT0K16MAfUBcj8L1KAx9QEW28/3UGH1AuB6F61EgfUAv3SQGgSV9QI6XbhKDOH1A8dJNYhBIfUC+nxov3WR9QC2yne+nbn1AmG4Sg8B6fUCF61G4HoV9QC/dJAaBtX1AmG4Sg8DCfUDqJjEIrNx9QLtJDAIr931ArBxaZDv/fUCq8dJNYgB+QBgEVg4tCn5AEoPAyqENfkAIrBxaZBN+QFtkO99PLX5AVeOlm8QwfkAtsp3vp0Z+QJLtfD81Vn5A1HjpJjEwfkCkcD0K10t+QAVWDi2yXX5ADAIrhxZZfkBfukkMAnN+QFyPwvUodH5ASzeJQWB9fkA+CtejcIV+QDIIrBxajH5AoUW28/2UfkCDwMqhRaZ+QAVWDi2ypX5ADy2yne+ffkCOl24Sg6B+QAAAAAAAqH5A6iYxCKy0fkBuEoPAyrF+QOJ6FK5HuX5AYeXQItu5fkBRuB6F68F+QMdLN4lByH5AvHSTGATOfkA=\"},\"shape\":[199],\"dtype\":\"float64\",\"order\":\"little\"}]]}}},\"view\":{\"type\":\"object\",\"name\":\"CDSView\",\"id\":\"p1178\",\"attributes\":{\"filter\":{\"type\":\"object\",\"name\":\"AllIndices\",\"id\":\"p1179\"}}},\"glyph\":{\"type\":\"object\",\"name\":\"Line\",\"id\":\"p1174\",\"attributes\":{\"x\":{\"type\":\"field\",\"field\":\"x\"},\"y\":{\"type\":\"field\",\"field\":\"y\"},\"line_color\":\"blue\",\"line_width\":2}},\"nonselection_glyph\":{\"type\":\"object\",\"name\":\"Line\",\"id\":\"p1175\",\"attributes\":{\"x\":{\"type\":\"field\",\"field\":\"x\"},\"y\":{\"type\":\"field\",\"field\":\"y\"},\"line_color\":\"blue\",\"line_alpha\":0.1,\"line_width\":2}},\"muted_glyph\":{\"type\":\"object\",\"name\":\"Line\",\"id\":\"p1176\",\"attributes\":{\"x\":{\"type\":\"field\",\"field\":\"x\"},\"y\":{\"type\":\"field\",\"field\":\"y\"},\"line_color\":\"blue\",\"line_alpha\":0.2,\"line_width\":2}}}},{\"type\":\"object\",\"name\":\"GlyphRenderer\",\"id\":\"p1321\",\"attributes\":{\"data_source\":{\"type\":\"object\",\"name\":\"ColumnDataSource\",\"id\":\"p1315\",\"attributes\":{\"selected\":{\"type\":\"object\",\"name\":\"Selection\",\"id\":\"p1316\",\"attributes\":{\"indices\":[],\"line_indices\":[]}},\"selection_policy\":{\"type\":\"object\",\"name\":\"UnionRenderers\",\"id\":\"p1317\"},\"data\":{\"type\":\"map\",\"entries\":[[\"x\",{\"type\":\"ndarray\",\"array\":{\"type\":\"bytes\",\"data\":\"AAAAAAAAAAAAAAAAmJm5PwAAAACamck/AAAAADMz0z8AAAAAmpnZPwAAAAAAAOA/AAAAADMz4z8AAACAZmbmPwAAAICZmek/AAAAAM3M7D8AAAAAAADwPwAAAICZmfE/AAAAQDMz8z8AAADAzMz0PwAAAIBmZvY/AAAAAAAA+D8AAACAmZn5PwAAAEAzM/s/AAAAwMzM/D8AAACAZmb+PwAAAAAAAABAAAAAwMzMAEAAAACgmZkBQAAAAGBmZgJAAAAAQDMzA0AAAAAAAAAEQAAAAMDMzARAAAAAoJmZBUAAAABgZmYGQAAAAEAzMwdAAAAAAAAACEAAAADAzMwIQAAAAKCZmQlAAAAAYGZmCkAAAABAMzMLQAAAAAAAAAxAAAAAwMzMDEAAAACgmZkNQAAAAGBmZg5AAAAAQDMzD0AAAAAAAAAQQAAAAGBmZhBAAAAA0MzMEEAAAAAwMzMRQAAAAKCZmRFAAAAAAAAAEkAAAABgZmYSQAAAANDMzBJAAAAAMDMzE0AAAACgmZkTQAAAAAAAABRAAAAAYGZmFEAAAADQzMwUQAAAADAzMxVAAAAAoJmZFUAAAAAAAAAWQAAAAGBmZhZAAAAA0MzMFkAAAAAwMzMXQAAAAKCZmRdAAAAAAAAAGEAAAABgZmYYQAAAANDMzBhAAAAAMDMzGUAAAACgmZkZQAAAAAAAABpAAAAAYGZmGkAAAADQzMwaQAAAADAzMxtAAAAAoJmZG0AAAAAAAAAcQAAAAGBmZhxAAAAA0MzMHEAAAAAwMzMdQAAAAKCZmR1AAAAAAAAAHkAAAABgZmYeQAAAANDMzB5AAAAAMDMzH0AAAACgmZkfQAAAAAAAACBAAAAAMDMzIEAAAABoZmYgQAAAAJiZmSBAAAAA0MzMIEAAAAAAAAAhQAAAADAzMyFAAAAAaGZmIUAAAACYmZkhQAAAANDMzCFAAAAAAAAAIkAAAAAwMzMiQAAAAGhmZiJAAAAAmJmZIkAAAADQzMwiQAAAAAAAACNAAAAAMDMzI0AAAABoZmYjQAAAAJiZmSNAAAAA0MzMI0AAAAAAAAAkQAAAADAzMyRAAAAAaGZmJEAAAACYmZkkQAAAANDMzCRAAAAAAAAAJUAAAAAwMzMlQAAAAGhmZiVAAAAAmJmZJUAAAADQzMwlQAAAAAAAACZAAAAAMDMzJkAAAABoZmYmQAAAAJiZmSZAAAAA0MzMJkAAAAAAAAAnQAAAADAzMydAAAAAaGZmJ0AAAACYmZknQAAAANDMzCdAAAAAAAAAKEAAAAAwMzMoQAAAAGhmZihAAAAAmJmZKEAAAADQzMwoQAAAAAAAAClAAAAAMDMzKUAAAABoZmYpQAAAAJiZmSlAAAAA0MzMKUAAAAAAAAAqQAAAADAzMypAAAAAaGZmKkAAAACYmZkqQAAAANDMzCpAAAAAAAAAK0AAAAAwMzMrQAAAAGhmZitAAAAAmJmZK0AAAADQzMwrQAAAAAAAACxAAAAAMDMzLEAAAABoZmYsQAAAAJiZmSxAAAAA0MzMLEAAAAAAAAAtQAAAADAzMy1AAAAAaGZmLUAAAACYmZktQAAAANDMzC1AAAAAAAAALkAAAAAwMzMuQAAAAGhmZi5AAAAAmJmZLkAAAADQzMwuQAAAAAAAAC9AAAAAMDMzL0AAAABoZmYvQAAAAJiZmS9AAAAA0MzML0AAAAAAAAAwQAAAAJiZGTBAAAAANDMzMEAAAADMzEwwQAAAAGhmZjBAAAAAAACAMEAAAACYmZkwQAAAADQzszBAAAAAzMzMMEAAAABoZuYwQAAAAAAAADFAAAAAmJkZMUAAAAA0MzMxQAAAAMzMTDFAAAAAaGZmMUAAAAAAAIAxQAAAAJiZmTFAAAAANDOzMUAAAADMzMwxQAAAAGhm5jFAAAAAAAAAMkAAAACYmRkyQAAAADQzMzJAAAAAzMxMMkAAAABoZmYyQAAAAAAAgDJAAAAAmJmZMkAAAAA0M7MyQAAAAMzMzDJAAAAAaGbmMkAAAAAAAAAzQAAAAJiZGTNAAAAANDMzM0AAAADMzEwzQAAAAGhmZjNAAAAAAACAM0AAAACYmZkzQAAAADQzszNAAAAAzMzMM0AAAABoZuYzQAAAAAAAADRAAAAAmJkZNEAAAAA0MzM0QAAAAMzMTDRAAAAAaGZmNEAAAAAAAIA0QAAAAJiZmTRAAAAANDOzNEAAAADMzMw0QAAAAGhm5jRAAAAAAAAANUAAAACYmRk1QAAAADQzMzVAAAAAzMxMNUAAAABoZmY1QAAAAAAAgDVAAAAAmJmZNUAAAAA0M7M1QAAAAMzMzDVAAAAAaGbmNUAAAAAAAAA2QAAAAJiZGTZAAAAANDMzNkAAAADMzEw2QAAAAGhmZjZAAAAAAACANkAAAACYmZk2QAAAADQzszZAAAAAzMzMNkAAAABoZuY2QAAAAAAAADdAAAAAmJkZN0AAAAA0MzM3QAAAAMzMTDdAAAAAaGZmN0AAAAAAAIA3QAAAAJiZmTdAAAAANDOzN0AAAADMzMw3QAAAAGhm5jdAAAAAAAAAOEAAAACYmRk4QAAAADQzMzhAAAAAzMxMOEAAAABoZmY4QAAAAAAAgDhAAAAAmJmZOEAAAAA0M7M4QAAAAMzMzDhA\"},\"shape\":[249],\"dtype\":\"float64\",\"order\":\"little\"}],[\"y\",{\"type\":\"ndarray\",\"array\":{\"type\":\"bytes\",\"data\":\"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\"},\"shape\":[249],\"dtype\":\"float64\",\"order\":\"little\"}]]}}},\"view\":{\"type\":\"object\",\"name\":\"CDSView\",\"id\":\"p1322\",\"attributes\":{\"filter\":{\"type\":\"object\",\"name\":\"AllIndices\",\"id\":\"p1323\"}}},\"glyph\":{\"type\":\"object\",\"name\":\"Line\",\"id\":\"p1318\",\"attributes\":{\"x\":{\"type\":\"field\",\"field\":\"x\"},\"y\":{\"type\":\"field\",\"field\":\"y\"},\"line_color\":\"tomato\",\"line_width\":2}},\"nonselection_glyph\":{\"type\":\"object\",\"name\":\"Line\",\"id\":\"p1319\",\"attributes\":{\"x\":{\"type\":\"field\",\"field\":\"x\"},\"y\":{\"type\":\"field\",\"field\":\"y\"},\"line_color\":\"tomato\",\"line_alpha\":0.1,\"line_width\":2}},\"muted_glyph\":{\"type\":\"object\",\"name\":\"Line\",\"id\":\"p1320\",\"attributes\":{\"x\":{\"type\":\"field\",\"field\":\"x\"},\"y\":{\"type\":\"field\",\"field\":\"y\"},\"line_color\":\"tomato\",\"line_alpha\":0.2,\"line_width\":2}}}},{\"type\":\"object\",\"name\":\"GlyphRenderer\",\"id\":\"p1464\",\"attributes\":{\"data_source\":{\"type\":\"object\",\"name\":\"ColumnDataSource\",\"id\":\"p1458\",\"attributes\":{\"selected\":{\"type\":\"object\",\"name\":\"Selection\",\"id\":\"p1459\",\"attributes\":{\"indices\":[],\"line_indices\":[]}},\"selection_policy\":{\"type\":\"object\",\"name\":\"UnionRenderers\",\"id\":\"p1460\"},\"data\":{\"type\":\"map\",\"entries\":[[\"x\",{\"type\":\"ndarray\",\"array\":{\"type\":\"bytes\",\"data\":\"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\"},\"shape\":[247],\"dtype\":\"float64\",\"order\":\"little\"}],[\"y\",{\"type\":\"ndarray\",\"array\":{\"type\":\"bytes\",\"data\":\"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\"},\"shape\":[247],\"dtype\":\"float64\",\"order\":\"little\"}]]}}},\"view\":{\"type\":\"object\",\"name\":\"CDSView\",\"id\":\"p1465\",\"attributes\":{\"filter\":{\"type\":\"object\",\"name\":\"AllIndices\",\"id\":\"p1466\"}}},\"glyph\":{\"type\":\"object\",\"name\":\"Line\",\"id\":\"p1461\",\"attributes\":{\"x\":{\"type\":\"field\",\"field\":\"x\"},\"y\":{\"type\":\"field\",\"field\":\"y\"},\"line_color\":\"turquoise\",\"line_width\":2}},\"nonselection_glyph\":{\"type\":\"object\",\"name\":\"Line\",\"id\":\"p1462\",\"attributes\":{\"x\":{\"type\":\"field\",\"field\":\"x\"},\"y\":{\"type\":\"field\",\"field\":\"y\"},\"line_color\":\"turquoise\",\"line_alpha\":0.1,\"line_width\":2}},\"muted_glyph\":{\"type\":\"object\",\"name\":\"Line\",\"id\":\"p1463\",\"attributes\":{\"x\":{\"type\":\"field\",\"field\":\"x\"},\"y\":{\"type\":\"field\",\"field\":\"y\"},\"line_color\":\"turquoise\",\"line_alpha\":0.2,\"line_width\":2}}}},{\"type\":\"object\",\"name\":\"GlyphRenderer\",\"id\":\"p1607\",\"attributes\":{\"data_source\":{\"type\":\"object\",\"name\":\"ColumnDataSource\",\"id\":\"p1601\",\"attributes\":{\"selected\":{\"type\":\"object\",\"name\":\"Selection\",\"id\":\"p1602\",\"attributes\":{\"indices\":[],\"line_indices\":[]}},\"selection_policy\":{\"type\":\"object\",\"name\":\"UnionRenderers\",\"id\":\"p1603\"},\"data\":{\"type\":\"map\",\"entries\":[[\"x\",{\"type\":\"ndarray\",\"array\":{\"type\":\"bytes\",\"data\":\"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\"},\"shape\":[246],\"dtype\":\"float64\",\"order\":\"little\"}],[\"y\",{\"type\":\"ndarray\",\"array\":{\"type\":\"bytes\",\"data\":\"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\"},\"shape\":[246],\"dtype\":\"float64\",\"order\":\"little\"}]]}}},\"view\":{\"type\":\"object\",\"name\":\"CDSView\",\"id\":\"p1608\",\"attributes\":{\"filter\":{\"type\":\"object\",\"name\":\"AllIndices\",\"id\":\"p1609\"}}},\"glyph\":{\"type\":\"object\",\"name\":\"Line\",\"id\":\"p1604\",\"attributes\":{\"x\":{\"type\":\"field\",\"field\":\"x\"},\"y\":{\"type\":\"field\",\"field\":\"y\"},\"line_color\":\"deepskyblue\",\"line_width\":2}},\"nonselection_glyph\":{\"type\":\"object\",\"name\":\"Line\",\"id\":\"p1605\",\"attributes\":{\"x\":{\"type\":\"field\",\"field\":\"x\"},\"y\":{\"type\":\"field\",\"field\":\"y\"},\"line_color\":\"deepskyblue\",\"line_alpha\":0.1,\"line_width\":2}},\"muted_glyph\":{\"type\":\"object\",\"name\":\"Line\",\"id\":\"p1606\",\"attributes\":{\"x\":{\"type\":\"field\",\"field\":\"x\"},\"y\":{\"type\":\"field\",\"field\":\"y\"},\"line_color\":\"deepskyblue\",\"line_alpha\":0.2,\"line_width\":2}}}}],\"toolbar\":{\"type\":\"object\",\"name\":\"Toolbar\",\"id\":\"p1010\",\"attributes\":{\"tools\":[{\"type\":\"object\",\"name\":\"PanTool\",\"id\":\"p1025\"},{\"type\":\"object\",\"name\":\"WheelZoomTool\",\"id\":\"p1026\",\"attributes\":{\"renderers\":\"auto\"}},{\"type\":\"object\",\"name\":\"BoxZoomTool\",\"id\":\"p1027\",\"attributes\":{\"overlay\":{\"type\":\"object\",\"name\":\"BoxAnnotation\",\"id\":\"p1028\",\"attributes\":{\"syncable\":false,\"line_color\":\"black\",\"line_alpha\":1.0,\"line_width\":2,\"line_dash\":[4,4],\"fill_color\":\"lightgrey\",\"fill_alpha\":0.5,\"level\":\"overlay\",\"visible\":false,\"left\":{\"type\":\"number\",\"value\":\"nan\"},\"right\":{\"type\":\"number\",\"value\":\"nan\"},\"top\":{\"type\":\"number\",\"value\":\"nan\"},\"bottom\":{\"type\":\"number\",\"value\":\"nan\"},\"left_units\":\"canvas\",\"right_units\":\"canvas\",\"top_units\":\"canvas\",\"bottom_units\":\"canvas\",\"handles\":{\"type\":\"object\",\"name\":\"BoxInteractionHandles\",\"id\":\"p1034\",\"attributes\":{\"all\":{\"type\":\"object\",\"name\":\"AreaVisuals\",\"id\":\"p1033\",\"attributes\":{\"fill_color\":\"white\",\"hover_fill_color\":\"lightgray\"}}}}}}}},{\"type\":\"object\",\"name\":\"SaveTool\",\"id\":\"p1035\"},{\"type\":\"object\",\"name\":\"ResetTool\",\"id\":\"p1036\"},{\"type\":\"object\",\"name\":\"HelpTool\",\"id\":\"p1037\"}]}},\"left\":[{\"type\":\"object\",\"name\":\"LinearAxis\",\"id\":\"p1020\",\"attributes\":{\"ticker\":{\"type\":\"object\",\"name\":\"BasicTicker\",\"id\":\"p1021\",\"attributes\":{\"mantissas\":[1,2,5]}},\"formatter\":{\"type\":\"object\",\"name\":\"BasicTickFormatter\",\"id\":\"p1022\"},\"axis_label\":\"km/h\",\"axis_label_standoff\":10,\"axis_label_text_color\":\"#E0E0E0\",\"axis_label_text_font\":\"Helvetica\",\"axis_label_text_font_size\":\"1.25em\",\"axis_label_text_font_style\":\"normal\",\"major_label_policy\":{\"type\":\"object\",\"name\":\"AllLabels\",\"id\":\"p1023\"},\"major_label_text_color\":\"#E0E0E0\",\"major_label_text_font\":\"Helvetica\",\"major_label_text_font_size\":\"1.025em\",\"axis_line_color\":\"#E0E0E0\",\"axis_line_alpha\":0,\"major_tick_line_color\":\"#E0E0E0\",\"major_tick_line_alpha\":0,\"minor_tick_line_color\":\"#E0E0E0\",\"minor_tick_line_alpha\":0}}],\"below\":[{\"type\":\"object\",\"name\":\"LinearAxis\",\"id\":\"p1015\",\"attributes\":{\"ticker\":{\"type\":\"object\",\"name\":\"BasicTicker\",\"id\":\"p1016\",\"attributes\":{\"mantissas\":[1,2,5]}},\"formatter\":{\"type\":\"object\",\"name\":\"BasicTickFormatter\",\"id\":\"p1017\"},\"axis_label\":\"seconds from exit\",\"axis_label_standoff\":10,\"axis_label_text_color\":\"#E0E0E0\",\"axis_label_text_font\":\"Helvetica\",\"axis_label_text_font_size\":\"1.25em\",\"axis_label_text_font_style\":\"normal\",\"major_label_policy\":{\"type\":\"object\",\"name\":\"AllLabels\",\"id\":\"p1018\"},\"major_label_text_color\":\"#E0E0E0\",\"major_label_text_font\":\"Helvetica\",\"major_label_text_font_size\":\"1.025em\",\"axis_line_color\":\"#E0E0E0\",\"axis_line_alpha\":0,\"major_tick_line_color\":\"#E0E0E0\",\"major_tick_line_alpha\":0,\"minor_tick_line_color\":\"#E0E0E0\",\"minor_tick_line_alpha\":0}}],\"center\":[{\"type\":\"object\",\"name\":\"Grid\",\"id\":\"p1019\",\"attributes\":{\"axis\":{\"id\":\"p1015\"},\"grid_line_color\":\"#E0E0E0\",\"grid_line_alpha\":0.25}},{\"type\":\"object\",\"name\":\"Grid\",\"id\":\"p1024\",\"attributes\":{\"dimension\":1,\"axis\":{\"id\":\"p1020\"},\"grid_line_color\":\"#E0E0E0\",\"grid_line_alpha\":0.25}},{\"type\":\"object\",\"name\":\"Legend\",\"id\":\"p1180\",\"attributes\":{\"border_line_alpha\":0,\"background_fill_color\":\"#20262B\",\"background_fill_alpha\":0.25,\"label_text_color\":\"#E0E0E0\",\"label_text_font\":\"Helvetica\",\"label_text_font_size\":\"1.025em\",\"label_standoff\":8,\"glyph_width\":15,\"spacing\":8,\"items\":[{\"type\":\"object\",\"name\":\"LegendItem\",\"id\":\"p1181\",\"attributes\":{\"label\":{\"type\":\"value\",\"value\":\"00-00-00-baseline-20240928:v1 - 488.60\"},\"renderers\":[{\"id\":\"p1177\"}]}},{\"type\":\"object\",\"name\":\"LegendItem\",\"id\":\"p1324\",\"attributes\":{\"label\":{\"type\":\"value\",\"value\":\"09-29-08:v2 - 483.44\"},\"renderers\":[{\"id\":\"p1321\"}]}},{\"type\":\"object\",\"name\":\"LegendItem\",\"id\":\"p1467\",\"attributes\":{\"label\":{\"type\":\"value\",\"value\":\"10-50-38:v2 - 489.62\"},\"renderers\":[{\"id\":\"p1464\"}]}},{\"type\":\"object\",\"name\":\"LegendItem\",\"id\":\"p1610\",\"attributes\":{\"label\":{\"type\":\"value\",\"value\":\"12-22-54:v2 - 487.58\"},\"renderers\":[{\"id\":\"p1607\"}]}}]}}],\"background_fill_color\":\"#20262B\",\"border_fill_color\":\"#15191C\"}}]}};\n",
       "  const render_items = [{\"docid\":\"583df3c4-f117-403f-a548-a4efdf633a2f\",\"roots\":{\"p1001\":\"b08e5eca-3963-4a5f-8479-9c434f92a7db\"},\"root_ids\":[\"p1001\"]}];\n",
       "  void root.Bokeh.embed.embed_items_notebook(docs_json, render_items);\n",
       "  }\n",
       "  if (root.Bokeh !== undefined) {\n",
       "    embed_document(root);\n",
       "  } else {\n",
       "    let attempts = 0;\n",
       "    const timer = setInterval(function(root) {\n",
       "      if (root.Bokeh !== undefined) {\n",
       "        clearInterval(timer);\n",
       "        embed_document(root);\n",
       "      } else {\n",
       "        attempts++;\n",
       "        if (attempts > 100) {\n",
       "          clearInterval(timer);\n",
       "          console.log(\"Bokeh: ERROR: Unable to run BokehJS code because BokehJS library is missing\");\n",
       "        }\n",
       "      }\n",
       "    }, 10, root)\n",
       "  }\n",
       "})(window);"
      ],
      "application/vnd.bokehjs_exec.v0+json": ""
     },
     "metadata": {
      "application/vnd.bokehjs_exec.v0+json": {
       "id": "p1001"
      }
     },
     "output_type": "display_data"
    }
   ],
   "source": [
    "display(roundedResults)\n",
    "display(sumResults)\n",
    "bp.show(allJumpsPlot)"
   ]
  },
  {
   "cell_type": "code",
   "execution_count": null,
   "id": "ee49d352-aa6e-4ab6-88a0-941362f918e8",
   "metadata": {},
   "outputs": [],
   "source": []
  }
 ],
 "metadata": {
  "kernelspec": {
   "display_name": "Python 3 (ipykernel)",
   "language": "python",
   "name": "python3"
  },
  "language_info": {
   "codemirror_mode": {
    "name": "ipython",
    "version": 3
   },
   "file_extension": ".py",
   "mimetype": "text/x-python",
   "name": "python",
   "nbconvert_exporter": "python",
   "pygments_lexer": "ipython3",
   "version": "3.11.10"
  }
 },
 "nbformat": 4,
 "nbformat_minor": 5
}
