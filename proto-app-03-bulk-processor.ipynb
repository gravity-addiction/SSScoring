{
 "cells": [
  {
   "cell_type": "markdown",
   "id": "36a745d9-2003-496e-a394-290f63a970b7",
   "metadata": {},
   "source": [
    "# Speed Skydiving scoring bulk files processor\n",
    "Uses the `./data` directory as a data lake.  It finds all valid FlySight files in that directory, from 0 to as many as it finds and fit in memory, and process them all.  Summary of \"all files\" or \"all jumps\" at the bottom of the document."
   ]
  },
  {
   "cell_type": "code",
   "execution_count": 13,
   "id": "98c7a164-9492-4672-904b-5bf3abf61773",
   "metadata": {},
   "outputs": [],
   "source": [
    "from collections import namedtuple\n",
    "from copy import deepcopy\n",
    "\n",
    "from ssscoring.constants import BREAKOFF_ALTITUDE\n",
    "from ssscoring.constants import FT_IN_M\n",
    "from ssscoring.constants import PERFORMANCE_WINDOW_LENGTH\n",
    "from ssscoring.fs1 import aggregateResults\n",
    "from ssscoring.fs1 import convertFlySight2SSScoring\n",
    "from ssscoring.fs1 import dropNonSkydiveDataFrom\n",
    "from ssscoring.fs1 import getAllSpeedJumpFilesFrom\n",
    "from ssscoring.fs1 import getSpeedSkydiveFrom\n",
    "from ssscoring.fs1 import isValidJump\n",
    "from ssscoring.fs1 import isValidMinimumAltitude\n",
    "from ssscoring.fs1 import jumpAnalysisTable\n",
    "from ssscoring.fs1 import processAllJumpFiles\n",
    "from ssscoring.fs1 import roundedAggregateResults\n",
    "from ssscoring.fs1 import totalResultsFrom\n",
    "from ssscoring.fs1 import validFlySightHeaderIn\n",
    "from ssscoring.notebook import SPEED_COLORS\n",
    "from ssscoring.notebook import graphAltitude\n",
    "from ssscoring.notebook import graphAngle\n",
    "from ssscoring.notebook import graphJumpResult\n",
    "from ssscoring.notebook import initializeExtraYRanges\n",
    "from ssscoring.notebook import initializePlot\n",
    "\n",
    "import csv\n",
    "import os\n",
    "import os.path as path\n",
    "\n",
    "import bokeh.plotting as bp\n",
    "import bokeh.models as bm\n",
    "import ipywidgets as widgets\n",
    "import pandas as pd"
   ]
  },
  {
   "cell_type": "code",
   "execution_count": 14,
   "id": "ef1d2bf0-eaf3-4d78-b6c0-fb1bb4ed10f1",
   "metadata": {},
   "outputs": [],
   "source": [
    "DATA_LAKE_ROOT = './data'"
   ]
  },
  {
   "cell_type": "markdown",
   "id": "d52db03d-d83b-4af3-9137-3011537e5ed8",
   "metadata": {},
   "source": [
    "---\n",
    "## <span style=\"color: yellow\">IMPORTANT</span> - Set the drop zone altitude MSL\n",
    "\n",
    "Set the value in ft (even though SSScoring uses meters) out of convenience because all DZs in the US, many in Asia and Mexico, and many in Europe express the altitude in feet.\n",
    "\n",
    "### Some DZs\n",
    "\n",
    "| Drop zone | Alt (ft) |\n",
    "|-----------|----------|\n",
    "| Bay Area Skydiving | 23 |\n",
    "| Skydive Arizona | 1509 |\n",
    "| Skydive Chicago | 616 |\n",
    "| Thai Sky Adventures | 21 |"
   ]
  },
  {
   "cell_type": "code",
   "execution_count": 15,
   "id": "5c95013a-4aa3-4a5e-9493-b945ead10ced",
   "metadata": {
    "jupyter": {
     "source_hidden": true
    }
   },
   "outputs": [],
   "source": [
    "dropZoneAltMSL = 23"
   ]
  },
  {
   "cell_type": "code",
   "execution_count": 16,
   "id": "1f091813-03b0-45bc-a30e-704fac7f968a",
   "metadata": {
    "jupyter": {
     "source_hidden": true
    }
   },
   "outputs": [
    {
     "data": {
      "application/vnd.jupyter.widget-view+json": {
       "model_id": "d43708879fa0444ca3e72cd024b07c45",
       "version_major": 2,
       "version_minor": 0
      },
      "text/plain": [
       "HTML(value='<h2>DZ Altitude = <span style = \"color: green\">  23.00 ft</span> (   7.01 m)<h1>')"
      ]
     },
     "metadata": {},
     "output_type": "display_data"
    }
   ],
   "source": [
    "dropZoneAltMSLMeters = dropZoneAltMSL/FT_IN_M\n",
    "display(widgets.HTML('<h2>DZ Altitude = <span style = \"color: green\">%7.2f ft</span> (%7.2f m)<h1>' % (dropZoneAltMSL, dropZoneAltMSLMeters)))"
   ]
  },
  {
   "cell_type": "code",
   "execution_count": 17,
   "id": "b1273b5c-44c1-46c2-a125-d01ad9268a1a",
   "metadata": {
    "jupyter": {
     "source_hidden": true
    }
   },
   "outputs": [],
   "source": [
    "jumpFiles = getAllSpeedJumpFilesFrom(DATA_LAKE_ROOT)"
   ]
  },
  {
   "cell_type": "code",
   "execution_count": 18,
   "id": "53a5fe5a-dd39-40d3-bfbf-d7048374e4ea",
   "metadata": {
    "jupyter": {
     "source_hidden": true
    }
   },
   "outputs": [],
   "source": [
    "jumpResults = processAllJumpFiles(jumpFiles, altitudeDZMeters = dropZoneAltMSLMeters)"
   ]
  },
  {
   "cell_type": "markdown",
   "id": "797ab0ec-d5e0-4a3b-aa57-eee431bb9824",
   "metadata": {},
   "source": [
    "### Air density\n",
    "\n",
    "**<a href='https://aviex.goflexair.com/blog/density-of-air-air-density' target='_blank'>Pilot's Guide to Air Density</a>** - A useful guide with calculations, lots of information.\n",
    "\n",
    "![](https://ciurana.eu/personal/air-density-partial-table.png)"
   ]
  },
  {
   "cell_type": "markdown",
   "id": "d80518ef-f197-4e40-a74e-8089eecb725a",
   "metadata": {},
   "source": [
    "---\n",
    "## Results"
   ]
  },
  {
   "cell_type": "code",
   "execution_count": 19,
   "id": "27c12cb1-2f60-44c9-b8fa-998b3df9d878",
   "metadata": {
    "jupyter": {
     "source_hidden": true
    }
   },
   "outputs": [
    {
     "data": {
      "text/html": [
       "<div>\n",
       "<style scoped>\n",
       "    .dataframe tbody tr th:only-of-type {\n",
       "        vertical-align: middle;\n",
       "    }\n",
       "\n",
       "    .dataframe tbody tr th {\n",
       "        vertical-align: top;\n",
       "    }\n",
       "\n",
       "    .dataframe thead th {\n",
       "        text-align: right;\n",
       "    }\n",
       "</style>\n",
       "<table border=\"1\" class=\"dataframe\">\n",
       "  <thead>\n",
       "    <tr style=\"text-align: right;\">\n",
       "      <th></th>\n",
       "      <th>score</th>\n",
       "      <th>5.0</th>\n",
       "      <th>10.0</th>\n",
       "      <th>15.0</th>\n",
       "      <th>20.0</th>\n",
       "      <th>25.0</th>\n",
       "      <th>finalTime</th>\n",
       "      <th>maxSpeed</th>\n",
       "    </tr>\n",
       "  </thead>\n",
       "  <tbody>\n",
       "    <tr>\n",
       "      <th>00-00-00-baseline</th>\n",
       "      <td>480.569538</td>\n",
       "      <td>228.921693</td>\n",
       "      <td>333.417517</td>\n",
       "      <td>421.574180</td>\n",
       "      <td>470.258757</td>\n",
       "      <td>482.706197</td>\n",
       "      <td>24.5</td>\n",
       "      <td>481.932</td>\n",
       "    </tr>\n",
       "    <tr>\n",
       "      <th>12-06-24</th>\n",
       "      <td>478.734207</td>\n",
       "      <td>214.992940</td>\n",
       "      <td>326.100976</td>\n",
       "      <td>417.410456</td>\n",
       "      <td>466.748015</td>\n",
       "      <td>482.570024</td>\n",
       "      <td>25.0</td>\n",
       "      <td>481.824</td>\n",
       "    </tr>\n",
       "  </tbody>\n",
       "</table>\n",
       "</div>"
      ],
      "text/plain": [
       "                        score         5.0        10.0        15.0        20.0  \\\n",
       "00-00-00-baseline  480.569538  228.921693  333.417517  421.574180  470.258757   \n",
       "12-06-24           478.734207  214.992940  326.100976  417.410456  466.748015   \n",
       "\n",
       "                         25.0  finalTime  maxSpeed  \n",
       "00-00-00-baseline  482.706197       24.5   481.932  \n",
       "12-06-24           482.570024       25.0   481.824  "
      ]
     },
     "metadata": {},
     "output_type": "display_data"
    }
   ],
   "source": [
    "aggregate = aggregateResults(jumpResults)\n",
    "sumResults = totalResultsFrom(aggregate)\n",
    "display(aggregate)"
   ]
  },
  {
   "cell_type": "markdown",
   "id": "3fa8c207-b9cf-4275-ba37-5103e1b324a9",
   "metadata": {},
   "source": [
    "### Rounded results for training log"
   ]
  },
  {
   "cell_type": "code",
   "execution_count": 20,
   "id": "e2bfbc21-3121-436a-904f-547edb0f2d0c",
   "metadata": {
    "jupyter": {
     "source_hidden": true
    }
   },
   "outputs": [],
   "source": [
    "roundedResults = roundedAggregateResults(jumpResults)"
   ]
  },
  {
   "cell_type": "markdown",
   "id": "faf1396d-1030-477e-9d87-5c167b61328f",
   "metadata": {},
   "source": [
    "### All jumps"
   ]
  },
  {
   "cell_type": "code",
   "execution_count": 21,
   "id": "5a0571fd-5a22-4dda-94aa-56a4f2c68098",
   "metadata": {
    "jupyter": {
     "source_hidden": true
    }
   },
   "outputs": [],
   "source": [
    "def dumpSimple(table: pd.DataFrame):\n",
    "    fileName = os.path.join(DATA_LAKE_ROOT, resultRef+'.tsv')\n",
    "    simpleTable = table.copy()\n",
    "    simpleTable = simpleTable.drop('speedAngle', axis = 1)\n",
    "    simpleTable.to_csv(fileName, sep = '\\t', index = False)"
   ]
  },
  {
   "cell_type": "code",
   "execution_count": 22,
   "id": "59ff50f6-4f29-4282-a55f-af524921af19",
   "metadata": {
    "jupyter": {
     "source_hidden": true
    }
   },
   "outputs": [],
   "source": [
    "def displayJumpDataIn(resultsTable: pd.DataFrame):\n",
    "    table = resultsTable.copy()\n",
    "    # Experimental\n",
    "    # For more information on the `interpolate` method and its options, see the [pandas documentation](https://pandas.pydata.org/pandas-docs/stable/reference/api/pandas.Series.interpolate.html).\n",
    "    # Additionally, you can also consider using other libraries like `scipy` which provides more advanced interpolation methods, such as `interp1d` or `griddata`. See the [scipy documentation](https://docs.scipy.org/doc/scipy/reference/interpolate.html) for more information.\n",
    "    table.vKMh = table.vKMh.apply(round)\n",
    "    table.hKMh = table.hKMh.apply(round)\n",
    "    table['altitude (ft)'] = table['altitude (ft)'].apply(round)\n",
    "    table.netVectorKMh = table.netVectorKMh.apply(round)\n",
    "    table.index = ['']*len(table)\n",
    "    display(table)\n",
    "    # dumpSimple(table)"
   ]
  },
  {
   "cell_type": "code",
   "execution_count": 23,
   "id": "fe6156be-7071-47a7-bb7f-9724f6d4a3ac",
   "metadata": {
    "jupyter": {
     "source_hidden": true
    }
   },
   "outputs": [
    {
     "data": {
      "application/vnd.jupyter.widget-view+json": {
       "model_id": "47e4e90a1ab8469db1ed85a7f00f6e98",
       "version_major": 2,
       "version_minor": 0
      },
      "text/plain": [
       "HTML(value='<hr><h1><span style=\"color: #0f0\">00-00-00-baseline jump - 🟢 valid - score = 480.57 km/h</span></h…"
      ]
     },
     "metadata": {},
     "output_type": "display_data"
    },
    {
     "data": {
      "application/vnd.jupyter.widget-view+json": {
       "model_id": "468d92536f034e4e811d52454bd85c3b",
       "version_major": 2,
       "version_minor": 0
      },
      "text/plain": [
       "HTML(value='<h3>Max speed = 482; exit at 4113 m (13495 ft), end scoring window at 1857 m (6094 ft)')"
      ]
     },
     "metadata": {},
     "output_type": "display_data"
    },
    {
     "data": {
      "application/vnd.jupyter.widget-view+json": {
       "model_id": "8c82747c87d14cf496e2e216f0ea6b7c",
       "version_major": 2,
       "version_minor": 0
      },
      "text/plain": [
       "HTML(value='</h3>')"
      ]
     },
     "metadata": {},
     "output_type": "display_data"
    },
    {
     "data": {
      "text/html": [
       "<div>\n",
       "<style scoped>\n",
       "    .dataframe tbody tr th:only-of-type {\n",
       "        vertical-align: middle;\n",
       "    }\n",
       "\n",
       "    .dataframe tbody tr th {\n",
       "        vertical-align: top;\n",
       "    }\n",
       "\n",
       "    .dataframe thead th {\n",
       "        text-align: right;\n",
       "    }\n",
       "</style>\n",
       "<table border=\"1\" class=\"dataframe\">\n",
       "  <thead>\n",
       "    <tr style=\"text-align: right;\">\n",
       "      <th></th>\n",
       "      <th>time</th>\n",
       "      <th>vKMh</th>\n",
       "      <th>hKMh</th>\n",
       "      <th>speedAngle</th>\n",
       "      <th>distanceFromExit</th>\n",
       "      <th>altitude (ft)</th>\n",
       "      <th>netVectorKMh</th>\n",
       "    </tr>\n",
       "  </thead>\n",
       "  <tbody>\n",
       "    <tr>\n",
       "      <th></th>\n",
       "      <td>5.0</td>\n",
       "      <td>187</td>\n",
       "      <td>132</td>\n",
       "      <td>54.7</td>\n",
       "      <td>223.900000</td>\n",
       "      <td>13019</td>\n",
       "      <td>229</td>\n",
       "    </tr>\n",
       "    <tr>\n",
       "      <th></th>\n",
       "      <td>10.0</td>\n",
       "      <td>320</td>\n",
       "      <td>94</td>\n",
       "      <td>73.6</td>\n",
       "      <td>377.000000</td>\n",
       "      <td>11861</td>\n",
       "      <td>333</td>\n",
       "    </tr>\n",
       "    <tr>\n",
       "      <th></th>\n",
       "      <td>15.0</td>\n",
       "      <td>419</td>\n",
       "      <td>46</td>\n",
       "      <td>83.7</td>\n",
       "      <td>471.400000</td>\n",
       "      <td>10128</td>\n",
       "      <td>422</td>\n",
       "    </tr>\n",
       "    <tr>\n",
       "      <th></th>\n",
       "      <td>20.0</td>\n",
       "      <td>470</td>\n",
       "      <td>15</td>\n",
       "      <td>88.2</td>\n",
       "      <td>489.200000</td>\n",
       "      <td>8075</td>\n",
       "      <td>470</td>\n",
       "    </tr>\n",
       "    <tr>\n",
       "      <th></th>\n",
       "      <td>25.0</td>\n",
       "      <td>482</td>\n",
       "      <td>27</td>\n",
       "      <td>86.8</td>\n",
       "      <td>455.678652</td>\n",
       "      <td>6100</td>\n",
       "      <td>483</td>\n",
       "    </tr>\n",
       "  </tbody>\n",
       "</table>\n",
       "</div>"
      ],
      "text/plain": [
       "  time  vKMh  hKMh  speedAngle  distanceFromExit  altitude (ft)  netVectorKMh\n",
       "   5.0   187   132        54.7        223.900000          13019           229\n",
       "  10.0   320    94        73.6        377.000000          11861           333\n",
       "  15.0   419    46        83.7        471.400000          10128           422\n",
       "  20.0   470    15        88.2        489.200000           8075           470\n",
       "  25.0   482    27        86.8        455.678652           6100           483"
      ]
     },
     "metadata": {},
     "output_type": "display_data"
    },
    {
     "data": {
      "text/html": [
       "\n",
       "  <div id=\"ad26ea50-c289-4d3f-9616-1eec46531f15\" data-root-id=\"p1215\" style=\"display: contents;\"></div>\n"
      ]
     },
     "metadata": {},
     "output_type": "display_data"
    },
    {
     "data": {
      "application/javascript": [
       "(function(root) {\n",
       "  function embed_document(root) {\n",
       "  const docs_json = {\"26a930c8-a705-4ce6-8e69-f9f7dda6d962\":{\"version\":\"3.4.1\",\"title\":\"Bokeh Application\",\"roots\":[{\"type\":\"object\",\"name\":\"Figure\",\"id\":\"p1215\",\"attributes\":{\"width\":900,\"height\":500,\"x_range\":{\"type\":\"object\",\"name\":\"Range1d\",\"id\":\"p1225\",\"attributes\":{\"end\":35.0}},\"y_range\":{\"type\":\"object\",\"name\":\"Range1d\",\"id\":\"p1226\",\"attributes\":{\"end\":550.0}},\"x_scale\":{\"type\":\"object\",\"name\":\"LinearScale\",\"id\":\"p1227\"},\"y_scale\":{\"type\":\"object\",\"name\":\"LinearScale\",\"id\":\"p1228\"},\"extra_y_ranges\":{\"type\":\"map\",\"entries\":[[\"altitudeFt\",{\"type\":\"object\",\"name\":\"Range1d\",\"id\":\"p1250\",\"attributes\":{\"start\":5600.1768536,\"end\":13995.497030400002}}],[\"angle\",{\"type\":\"object\",\"name\":\"Range1d\",\"id\":\"p1251\",\"attributes\":{\"end\":90.0}}]]},\"title\":{\"type\":\"object\",\"name\":\"Title\",\"id\":\"p1218\",\"attributes\":{\"text\":\"00-00-00-baseline\",\"text_color\":\"#E0E0E0\",\"text_font\":\"Helvetica\",\"text_font_size\":\"1.15em\"}},\"outline_line_color\":\"#E0E0E0\",\"outline_line_alpha\":0.25,\"renderers\":[{\"type\":\"object\",\"name\":\"GlyphRenderer\",\"id\":\"p1266\",\"attributes\":{\"y_range_name\":\"altitudeFt\",\"data_source\":{\"type\":\"object\",\"name\":\"ColumnDataSource\",\"id\":\"p1260\",\"attributes\":{\"selected\":{\"type\":\"object\",\"name\":\"Selection\",\"id\":\"p1261\",\"attributes\":{\"indices\":[],\"line_indices\":[]}},\"selection_policy\":{\"type\":\"object\",\"name\":\"UnionRenderers\",\"id\":\"p1262\"},\"data\":{\"type\":\"map\",\"entries\":[[\"x\",{\"type\":\"ndarray\",\"array\":{\"type\":\"bytes\",\"data\":\"AAAAAAAAAAAAAAAAmJm5PwAAAACYmck/AAAAADMz0z8AAAAAmZnZPwAAAAAAAOA/AAAAADMz4z8AAAAAZmbmPwAAAIDMzOw/AAAAAAAA8D8AAACAmZnxPwAAAAAzM/M/AAAAQGZm9j8AAACAmZn5PwAAAMDMzPw/AAAAAAAAAEAAAACAmZkBQAAAACAzMwNAAAAAAAAABEAAAACAmZkFQAAAACAzMwdAAAAAAAAACEAAAADAzMwIQAAAAGBmZgpAAAAAAAAADEAAAACAmZkNQAAAAGBmZg5AAAAAIDMzD0AAAAAAAAAQQAAAAGBmZhBAAAAAwMzMEEAAAAAwMzMRQAAAAJCZmRFAAAAAYGZmEkAAAADAzMwSQAAAADAzMxNAAAAAkJmZE0AAAABgZmYUQAAAAMDMzBRAAAAAkJmZFUAAAAAAAAAWQAAAAGBmZhZAAAAAwMzMFkAAAAAwMzMXQAAAAAAAABhAAAAAYGZmGEAAAADAzMwYQAAAADAzMxlAAAAAkJmZGUAAAABgZmYaQAAAAMDMzBpAAAAAMDMzG0AAAACQmZkbQAAAAGBmZhxAAAAAwMzMHEAAAAAwMzMdQAAAAJCZmR1AAAAAYGZmHkAAAAAwMzMfQAAAAJCZmR9AAAAAAAAAIEAAAABgZmYgQAAAAJiZmSBAAAAAyMzMIEAAAAAAAAAhQAAAADAzMyFAAAAAmJmZIUAAAADIzMwhQAAAAAAAACJAAAAAMDMzIkAAAACYmZkiQAAAAMjMzCJAAAAAAAAAI0AAAAAwMzMjQAAAAGBmZiNAAAAAyMzMI0AAAAAAAAAkQAAAADAzMyRAAAAAYGZmJEAAAADIzMwkQAAAAAAAACVAAAAAMDMzJUAAAABgZmYlQAAAAJiZmSVAAAAAAAAAJkAAAAAwMzMmQAAAAGBmZiZAAAAAmJmZJkAAAADIzMwmQAAAAAAAACdAAAAAMDMzJ0AAAACYmZknQAAAAMjMzCdAAAAAMDMzKEAAAABgZmYoQAAAAJiZmShAAAAAyMzMKEAAAAAAAAApQAAAAGBmZilAAAAAmJmZKUAAAAAAAAAqQAAAAGBmZipAAAAAmJmZKkAAAAAAAAArQAAAADAzMytAAAAAmJmZK0AAAADIzMwrQAAAAAAAACxAAAAAMDMzLEAAAABgZmYsQAAAAMjMzCxAAAAAMDMzLUAAAABgZmYtQAAAAJiZmS1AAAAAyMzMLUAAAAAAAAAuQAAAAGBmZi5AAAAAmJmZLkAAAAAAAAAvQAAAADAzMy9AAAAAYGZmL0AAAACYmZkvQAAAAAAAADBAAAAAmJkZMEAAAAAwMzMwQAAAAMzMTDBAAAAAZGZmMEAAAACYmZkwQAAAADAzszBAAAAAZGbmMEAAAACYmRkxQAAAADAzMzFAAAAAzMxMMUAAAABkZmYxQAAAAAAAgDFAAAAAMDOzMUAAAADMzMwxQAAAAGRm5jFAAAAAAAAAMkAAAAAwMzMyQAAAAMzMTDJAAAAAAACAMkAAAACYmZkyQAAAAMzMzDJAAAAAZGbmMkAAAAAAAAAzQAAAAJiZGTNAAAAAMDMzM0AAAABkZmYzQAAAAAAAgDNAAAAAmJmZM0AAAAAwM7MzQAAAAGRm5jNAAAAAAAAANEAAAAAwMzM0QAAAAMzMTDRAAAAAZGZmNEAAAAAAAIA0QAAAAJiZmTRAAAAAzMzMNEAAAABkZuY0QAAAAAAAADVAAAAAmJkZNUAAAADMzEw1QAAAAGRmZjVAAAAAAACANUAAAACYmZk1QAAAADAzszVAAAAAZGbmNUAAAAAAAAA2QAAAAJiZGTZAAAAAMDMzNkAAAADMzEw2QAAAAGRmZjZAAAAAAACANkAAAAAwM7M2QAAAAMzMzDZAAAAAAAAAN0AAAACYmRk3QAAAADAzMzdAAAAAzMxMN0AAAABkZmY3QAAAAAAAgDdAAAAAmJmZN0AAAADMzMw3QAAAAGRm5jdAAAAAmJkZOEAAAAAwMzM4QAAAAMzMTDhAAAAAZGZmOEAAAAAAAIA4QA==\"},\"shape\":[191],\"dtype\":\"float64\",\"order\":\"little\"}],[\"y\",{\"type\":\"ndarray\",\"array\":{\"type\":\"bytes\",\"data\":\"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\"},\"shape\":[191],\"dtype\":\"float64\",\"order\":\"little\"}]]}}},\"view\":{\"type\":\"object\",\"name\":\"CDSView\",\"id\":\"p1267\",\"attributes\":{\"filter\":{\"type\":\"object\",\"name\":\"AllIndices\",\"id\":\"p1268\"}}},\"glyph\":{\"type\":\"object\",\"name\":\"Line\",\"id\":\"p1263\",\"attributes\":{\"x\":{\"type\":\"field\",\"field\":\"x\"},\"y\":{\"type\":\"field\",\"field\":\"y\"},\"line_color\":\"palegoldenrod\",\"line_width\":2}},\"nonselection_glyph\":{\"type\":\"object\",\"name\":\"Line\",\"id\":\"p1264\",\"attributes\":{\"x\":{\"type\":\"field\",\"field\":\"x\"},\"y\":{\"type\":\"field\",\"field\":\"y\"},\"line_color\":\"palegoldenrod\",\"line_alpha\":0.1,\"line_width\":2}},\"muted_glyph\":{\"type\":\"object\",\"name\":\"Line\",\"id\":\"p1265\",\"attributes\":{\"x\":{\"type\":\"field\",\"field\":\"x\"},\"y\":{\"type\":\"field\",\"field\":\"y\"},\"line_color\":\"palegoldenrod\",\"line_alpha\":0.2,\"line_width\":2}}}},{\"type\":\"object\",\"name\":\"GlyphRenderer\",\"id\":\"p1277\",\"attributes\":{\"y_range_name\":\"angle\",\"data_source\":{\"type\":\"object\",\"name\":\"ColumnDataSource\",\"id\":\"p1271\",\"attributes\":{\"selected\":{\"type\":\"object\",\"name\":\"Selection\",\"id\":\"p1272\",\"attributes\":{\"indices\":[],\"line_indices\":[]}},\"selection_policy\":{\"type\":\"object\",\"name\":\"UnionRenderers\",\"id\":\"p1273\"},\"data\":{\"type\":\"map\",\"entries\":[[\"x\",{\"type\":\"ndarray\",\"array\":{\"type\":\"bytes\",\"data\":\"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\"},\"shape\":[191],\"dtype\":\"float64\",\"order\":\"little\"}],[\"y\",{\"type\":\"ndarray\",\"array\":{\"type\":\"bytes\",\"data\":\"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\"},\"shape\":[191],\"dtype\":\"float64\",\"order\":\"little\"}]]}}},\"view\":{\"type\":\"object\",\"name\":\"CDSView\",\"id\":\"p1278\",\"attributes\":{\"filter\":{\"type\":\"object\",\"name\":\"AllIndices\",\"id\":\"p1279\"}}},\"glyph\":{\"type\":\"object\",\"name\":\"Line\",\"id\":\"p1274\",\"attributes\":{\"x\":{\"type\":\"field\",\"field\":\"x\"},\"y\":{\"type\":\"field\",\"field\":\"y\"},\"line_color\":\"deepskyblue\",\"line_width\":2}},\"nonselection_glyph\":{\"type\":\"object\",\"name\":\"Line\",\"id\":\"p1275\",\"attributes\":{\"x\":{\"type\":\"field\",\"field\":\"x\"},\"y\":{\"type\":\"field\",\"field\":\"y\"},\"line_color\":\"deepskyblue\",\"line_alpha\":0.1,\"line_width\":2}},\"muted_glyph\":{\"type\":\"object\",\"name\":\"Line\",\"id\":\"p1276\",\"attributes\":{\"x\":{\"type\":\"field\",\"field\":\"x\"},\"y\":{\"type\":\"field\",\"field\":\"y\"},\"line_color\":\"deepskyblue\",\"line_alpha\":0.2,\"line_width\":2}}}},{\"type\":\"object\",\"name\":\"GlyphRenderer\",\"id\":\"p1288\",\"attributes\":{\"data_source\":{\"type\":\"object\",\"name\":\"ColumnDataSource\",\"id\":\"p1282\",\"attributes\":{\"selected\":{\"type\":\"object\",\"name\":\"Selection\",\"id\":\"p1283\",\"attributes\":{\"indices\":[],\"line_indices\":[]}},\"selection_policy\":{\"type\":\"object\",\"name\":\"UnionRenderers\",\"id\":\"p1284\"},\"data\":{\"type\":\"map\",\"entries\":[[\"x\",{\"type\":\"ndarray\",\"array\":{\"type\":\"bytes\",\"data\":\"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\"},\"shape\":[191],\"dtype\":\"float64\",\"order\":\"little\"}],[\"y\",{\"type\":\"ndarray\",\"array\":{\"type\":\"bytes\",\"data\":\"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\"},\"shape\":[191],\"dtype\":\"float64\",\"order\":\"little\"}]]}}},\"view\":{\"type\":\"object\",\"name\":\"CDSView\",\"id\":\"p1289\",\"attributes\":{\"filter\":{\"type\":\"object\",\"name\":\"AllIndices\",\"id\":\"p1290\"}}},\"glyph\":{\"type\":\"object\",\"name\":\"Line\",\"id\":\"p1285\",\"attributes\":{\"x\":{\"type\":\"field\",\"field\":\"x\"},\"y\":{\"type\":\"field\",\"field\":\"y\"},\"line_color\":\"limegreen\",\"line_width\":2}},\"nonselection_glyph\":{\"type\":\"object\",\"name\":\"Line\",\"id\":\"p1286\",\"attributes\":{\"x\":{\"type\":\"field\",\"field\":\"x\"},\"y\":{\"type\":\"field\",\"field\":\"y\"},\"line_color\":\"limegreen\",\"line_alpha\":0.1,\"line_width\":2}},\"muted_glyph\":{\"type\":\"object\",\"name\":\"Line\",\"id\":\"p1287\",\"attributes\":{\"x\":{\"type\":\"field\",\"field\":\"x\"},\"y\":{\"type\":\"field\",\"field\":\"y\"},\"line_color\":\"limegreen\",\"line_alpha\":0.2,\"line_width\":2}}}},{\"type\":\"object\",\"name\":\"GlyphRenderer\",\"id\":\"p1298\",\"attributes\":{\"data_source\":{\"type\":\"object\",\"name\":\"ColumnDataSource\",\"id\":\"p1292\",\"attributes\":{\"selected\":{\"type\":\"object\",\"name\":\"Selection\",\"id\":\"p1293\",\"attributes\":{\"indices\":[],\"line_indices\":[]}},\"selection_policy\":{\"type\":\"object\",\"name\":\"UnionRenderers\",\"id\":\"p1294\"},\"data\":{\"type\":\"map\",\"entries\":[[\"x\",{\"type\":\"ndarray\",\"array\":{\"type\":\"bytes\",\"data\":\"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\"},\"shape\":[191],\"dtype\":\"float64\",\"order\":\"little\"}],[\"y\",{\"type\":\"ndarray\",\"array\":{\"type\":\"bytes\",\"data\":\"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\"},\"shape\":[191],\"dtype\":\"float64\",\"order\":\"little\"}]]}}},\"view\":{\"type\":\"object\",\"name\":\"CDSView\",\"id\":\"p1299\",\"attributes\":{\"filter\":{\"type\":\"object\",\"name\":\"AllIndices\",\"id\":\"p1300\"}}},\"glyph\":{\"type\":\"object\",\"name\":\"Line\",\"id\":\"p1295\",\"attributes\":{\"x\":{\"type\":\"field\",\"field\":\"x\"},\"y\":{\"type\":\"field\",\"field\":\"y\"},\"line_color\":\"red\",\"line_width\":2}},\"nonselection_glyph\":{\"type\":\"object\",\"name\":\"Line\",\"id\":\"p1296\",\"attributes\":{\"x\":{\"type\":\"field\",\"field\":\"x\"},\"y\":{\"type\":\"field\",\"field\":\"y\"},\"line_color\":\"red\",\"line_alpha\":0.1,\"line_width\":2}},\"muted_glyph\":{\"type\":\"object\",\"name\":\"Line\",\"id\":\"p1297\",\"attributes\":{\"x\":{\"type\":\"field\",\"field\":\"x\"},\"y\":{\"type\":\"field\",\"field\":\"y\"},\"line_color\":\"red\",\"line_alpha\":0.2,\"line_width\":2}}}},{\"type\":\"object\",\"name\":\"GlyphRenderer\",\"id\":\"p1308\",\"attributes\":{\"data_source\":{\"type\":\"object\",\"name\":\"ColumnDataSource\",\"id\":\"p1302\",\"attributes\":{\"selected\":{\"type\":\"object\",\"name\":\"Selection\",\"id\":\"p1303\",\"attributes\":{\"indices\":[],\"line_indices\":[]}},\"selection_policy\":{\"type\":\"object\",\"name\":\"UnionRenderers\",\"id\":\"p1304\"},\"data\":{\"type\":\"map\",\"entries\":[[\"x0\",[24.5]],[\"y0\",[0.0]],[\"x1\",[24.5]],[\"y1\",[480.5695384615385]]]}}},\"view\":{\"type\":\"object\",\"name\":\"CDSView\",\"id\":\"p1309\",\"attributes\":{\"filter\":{\"type\":\"object\",\"name\":\"AllIndices\",\"id\":\"p1310\"}}},\"glyph\":{\"type\":\"object\",\"name\":\"Segment\",\"id\":\"p1305\",\"attributes\":{\"x0\":{\"type\":\"field\",\"field\":\"x0\"},\"y0\":{\"type\":\"field\",\"field\":\"y0\"},\"x1\":{\"type\":\"field\",\"field\":\"x1\"},\"y1\":{\"type\":\"field\",\"field\":\"y1\"},\"line_color\":{\"type\":\"value\",\"value\":\"lightblue\"},\"line_width\":{\"type\":\"value\",\"value\":3}}},\"nonselection_glyph\":{\"type\":\"object\",\"name\":\"Segment\",\"id\":\"p1306\",\"attributes\":{\"x0\":{\"type\":\"field\",\"field\":\"x0\"},\"y0\":{\"type\":\"field\",\"field\":\"y0\"},\"x1\":{\"type\":\"field\",\"field\":\"x1\"},\"y1\":{\"type\":\"field\",\"field\":\"y1\"},\"line_color\":{\"type\":\"value\",\"value\":\"lightblue\"},\"line_alpha\":{\"type\":\"value\",\"value\":0.1},\"line_width\":{\"type\":\"value\",\"value\":3}}},\"muted_glyph\":{\"type\":\"object\",\"name\":\"Segment\",\"id\":\"p1307\",\"attributes\":{\"x0\":{\"type\":\"field\",\"field\":\"x0\"},\"y0\":{\"type\":\"field\",\"field\":\"y0\"},\"x1\":{\"type\":\"field\",\"field\":\"x1\"},\"y1\":{\"type\":\"field\",\"field\":\"y1\"},\"line_color\":{\"type\":\"value\",\"value\":\"lightblue\"},\"line_alpha\":{\"type\":\"value\",\"value\":0.2},\"line_width\":{\"type\":\"value\",\"value\":3}}}}},{\"type\":\"object\",\"name\":\"GlyphRenderer\",\"id\":\"p1317\",\"attributes\":{\"data_source\":{\"type\":\"object\",\"name\":\"ColumnDataSource\",\"id\":\"p1311\",\"attributes\":{\"selected\":{\"type\":\"object\",\"name\":\"Selection\",\"id\":\"p1312\",\"attributes\":{\"indices\":[],\"line_indices\":[]}},\"selection_policy\":{\"type\":\"object\",\"name\":\"UnionRenderers\",\"id\":\"p1313\"},\"data\":{\"type\":\"map\",\"entries\":[[\"x0\",[26.0]],[\"y0\",[0.0]],[\"x1\",[26.0]],[\"y1\",[480.5695384615385]]]}}},\"view\":{\"type\":\"object\",\"name\":\"CDSView\",\"id\":\"p1318\",\"attributes\":{\"filter\":{\"type\":\"object\",\"name\":\"AllIndices\",\"id\":\"p1319\"}}},\"glyph\":{\"type\":\"object\",\"name\":\"Segment\",\"id\":\"p1314\",\"attributes\":{\"x0\":{\"type\":\"field\",\"field\":\"x0\"},\"y0\":{\"type\":\"field\",\"field\":\"y0\"},\"x1\":{\"type\":\"field\",\"field\":\"x1\"},\"y1\":{\"type\":\"field\",\"field\":\"y1\"},\"line_color\":{\"type\":\"value\",\"value\":\"darkseagreen\"}}},\"nonselection_glyph\":{\"type\":\"object\",\"name\":\"Segment\",\"id\":\"p1315\",\"attributes\":{\"x0\":{\"type\":\"field\",\"field\":\"x0\"},\"y0\":{\"type\":\"field\",\"field\":\"y0\"},\"x1\":{\"type\":\"field\",\"field\":\"x1\"},\"y1\":{\"type\":\"field\",\"field\":\"y1\"},\"line_color\":{\"type\":\"value\",\"value\":\"darkseagreen\"},\"line_alpha\":{\"type\":\"value\",\"value\":0.1}}},\"muted_glyph\":{\"type\":\"object\",\"name\":\"Segment\",\"id\":\"p1316\",\"attributes\":{\"x0\":{\"type\":\"field\",\"field\":\"x0\"},\"y0\":{\"type\":\"field\",\"field\":\"y0\"},\"x1\":{\"type\":\"field\",\"field\":\"x1\"},\"y1\":{\"type\":\"field\",\"field\":\"y1\"},\"line_color\":{\"type\":\"value\",\"value\":\"darkseagreen\"},\"line_alpha\":{\"type\":\"value\",\"value\":0.2}}}}},{\"type\":\"object\",\"name\":\"GlyphRenderer\",\"id\":\"p1326\",\"attributes\":{\"data_source\":{\"type\":\"object\",\"name\":\"ColumnDataSource\",\"id\":\"p1320\",\"attributes\":{\"selected\":{\"type\":\"object\",\"name\":\"Selection\",\"id\":\"p1321\",\"attributes\":{\"indices\":[],\"line_indices\":[]}},\"selection_policy\":{\"type\":\"object\",\"name\":\"UnionRenderers\",\"id\":\"p1322\"},\"data\":{\"type\":\"map\",\"entries\":[[\"x0\",[23.0]],[\"y0\",[0.0]],[\"x1\",[23.0]],[\"y1\",[480.5695384615385]]]}}},\"view\":{\"type\":\"object\",\"name\":\"CDSView\",\"id\":\"p1327\",\"attributes\":{\"filter\":{\"type\":\"object\",\"name\":\"AllIndices\",\"id\":\"p1328\"}}},\"glyph\":{\"type\":\"object\",\"name\":\"Segment\",\"id\":\"p1323\",\"attributes\":{\"x0\":{\"type\":\"field\",\"field\":\"x0\"},\"y0\":{\"type\":\"field\",\"field\":\"y0\"},\"x1\":{\"type\":\"field\",\"field\":\"x1\"},\"y1\":{\"type\":\"field\",\"field\":\"y1\"},\"line_color\":{\"type\":\"value\",\"value\":\"darkseagreen\"}}},\"nonselection_glyph\":{\"type\":\"object\",\"name\":\"Segment\",\"id\":\"p1324\",\"attributes\":{\"x0\":{\"type\":\"field\",\"field\":\"x0\"},\"y0\":{\"type\":\"field\",\"field\":\"y0\"},\"x1\":{\"type\":\"field\",\"field\":\"x1\"},\"y1\":{\"type\":\"field\",\"field\":\"y1\"},\"line_color\":{\"type\":\"value\",\"value\":\"darkseagreen\"},\"line_alpha\":{\"type\":\"value\",\"value\":0.1}}},\"muted_glyph\":{\"type\":\"object\",\"name\":\"Segment\",\"id\":\"p1325\",\"attributes\":{\"x0\":{\"type\":\"field\",\"field\":\"x0\"},\"y0\":{\"type\":\"field\",\"field\":\"y0\"},\"x1\":{\"type\":\"field\",\"field\":\"x1\"},\"y1\":{\"type\":\"field\",\"field\":\"y1\"},\"line_color\":{\"type\":\"value\",\"value\":\"darkseagreen\"},\"line_alpha\":{\"type\":\"value\",\"value\":0.2}}}}},{\"type\":\"object\",\"name\":\"GlyphRenderer\",\"id\":\"p1335\",\"attributes\":{\"data_source\":{\"type\":\"object\",\"name\":\"ColumnDataSource\",\"id\":\"p1329\",\"attributes\":{\"selected\":{\"type\":\"object\",\"name\":\"Selection\",\"id\":\"p1330\",\"attributes\":{\"indices\":[],\"line_indices\":[]}},\"selection_policy\":{\"type\":\"object\",\"name\":\"UnionRenderers\",\"id\":\"p1331\"},\"data\":{\"type\":\"map\",\"entries\":[[\"x\",[24.5]],[\"y\",[480.5695384615385]],[\"size\",[20]]]}}},\"view\":{\"type\":\"object\",\"name\":\"CDSView\",\"id\":\"p1336\",\"attributes\":{\"filter\":{\"type\":\"object\",\"name\":\"AllIndices\",\"id\":\"p1337\"}}},\"glyph\":{\"type\":\"object\",\"name\":\"Scatter\",\"id\":\"p1332\",\"attributes\":{\"x\":{\"type\":\"field\",\"field\":\"x\"},\"y\":{\"type\":\"field\",\"field\":\"y\"},\"size\":{\"type\":\"field\",\"field\":\"size\"},\"line_color\":{\"type\":\"value\",\"value\":\"lightblue\"},\"line_width\":{\"type\":\"value\",\"value\":3},\"fill_color\":{\"type\":\"value\",\"value\":null},\"marker\":{\"type\":\"value\",\"value\":\"square_cross\"}}},\"nonselection_glyph\":{\"type\":\"object\",\"name\":\"Scatter\",\"id\":\"p1333\",\"attributes\":{\"x\":{\"type\":\"field\",\"field\":\"x\"},\"y\":{\"type\":\"field\",\"field\":\"y\"},\"size\":{\"type\":\"field\",\"field\":\"size\"},\"line_color\":{\"type\":\"value\",\"value\":\"lightblue\"},\"line_alpha\":{\"type\":\"value\",\"value\":0.1},\"line_width\":{\"type\":\"value\",\"value\":3},\"fill_color\":{\"type\":\"value\",\"value\":null},\"fill_alpha\":{\"type\":\"value\",\"value\":0.1},\"hatch_alpha\":{\"type\":\"value\",\"value\":0.1},\"marker\":{\"type\":\"value\",\"value\":\"square_cross\"}}},\"muted_glyph\":{\"type\":\"object\",\"name\":\"Scatter\",\"id\":\"p1334\",\"attributes\":{\"x\":{\"type\":\"field\",\"field\":\"x\"},\"y\":{\"type\":\"field\",\"field\":\"y\"},\"size\":{\"type\":\"field\",\"field\":\"size\"},\"line_color\":{\"type\":\"value\",\"value\":\"lightblue\"},\"line_alpha\":{\"type\":\"value\",\"value\":0.2},\"line_width\":{\"type\":\"value\",\"value\":3},\"fill_color\":{\"type\":\"value\",\"value\":null},\"fill_alpha\":{\"type\":\"value\",\"value\":0.2},\"hatch_alpha\":{\"type\":\"value\",\"value\":0.2},\"marker\":{\"type\":\"value\",\"value\":\"square_cross\"}}}}}],\"toolbar\":{\"type\":\"object\",\"name\":\"Toolbar\",\"id\":\"p1224\",\"attributes\":{\"tools\":[{\"type\":\"object\",\"name\":\"PanTool\",\"id\":\"p1239\"},{\"type\":\"object\",\"name\":\"WheelZoomTool\",\"id\":\"p1240\",\"attributes\":{\"renderers\":\"auto\"}},{\"type\":\"object\",\"name\":\"BoxZoomTool\",\"id\":\"p1241\",\"attributes\":{\"overlay\":{\"type\":\"object\",\"name\":\"BoxAnnotation\",\"id\":\"p1242\",\"attributes\":{\"syncable\":false,\"level\":\"overlay\",\"visible\":false,\"left\":{\"type\":\"number\",\"value\":\"nan\"},\"right\":{\"type\":\"number\",\"value\":\"nan\"},\"top\":{\"type\":\"number\",\"value\":\"nan\"},\"bottom\":{\"type\":\"number\",\"value\":\"nan\"},\"left_units\":\"canvas\",\"right_units\":\"canvas\",\"top_units\":\"canvas\",\"bottom_units\":\"canvas\",\"line_color\":\"black\",\"line_alpha\":1.0,\"line_width\":2,\"line_dash\":[4,4],\"fill_color\":\"lightgrey\",\"fill_alpha\":0.5}}}},{\"type\":\"object\",\"name\":\"SaveTool\",\"id\":\"p1247\"},{\"type\":\"object\",\"name\":\"ResetTool\",\"id\":\"p1248\"},{\"type\":\"object\",\"name\":\"HelpTool\",\"id\":\"p1249\"},{\"type\":\"object\",\"name\":\"HoverTool\",\"id\":\"p1281\",\"attributes\":{\"renderers\":\"auto\",\"tooltips\":[[\"Y-val\",\"@y{0.00}\"]]}}]}},\"left\":[{\"type\":\"object\",\"name\":\"LinearAxis\",\"id\":\"p1234\",\"attributes\":{\"ticker\":{\"type\":\"object\",\"name\":\"BasicTicker\",\"id\":\"p1235\",\"attributes\":{\"mantissas\":[1,2,5]}},\"formatter\":{\"type\":\"object\",\"name\":\"BasicTickFormatter\",\"id\":\"p1236\"},\"axis_label\":\"km/h\",\"axis_label_standoff\":10,\"axis_label_text_color\":\"#E0E0E0\",\"axis_label_text_font\":\"Helvetica\",\"axis_label_text_font_size\":\"1.25em\",\"axis_label_text_font_style\":\"normal\",\"major_label_policy\":{\"type\":\"object\",\"name\":\"AllLabels\",\"id\":\"p1237\"},\"major_label_text_color\":\"#E0E0E0\",\"major_label_text_font\":\"Helvetica\",\"major_label_text_font_size\":\"1.025em\",\"axis_line_color\":\"#E0E0E0\",\"axis_line_alpha\":0,\"major_tick_line_color\":\"#E0E0E0\",\"major_tick_line_alpha\":0,\"minor_tick_line_color\":\"#E0E0E0\",\"minor_tick_line_alpha\":0}},{\"type\":\"object\",\"name\":\"LinearAxis\",\"id\":\"p1252\",\"attributes\":{\"y_range_name\":\"altitudeFt\",\"ticker\":{\"type\":\"object\",\"name\":\"BasicTicker\",\"id\":\"p1253\",\"attributes\":{\"mantissas\":[1,2,5]}},\"formatter\":{\"type\":\"object\",\"name\":\"BasicTickFormatter\",\"id\":\"p1254\"},\"axis_label\":\"Alt (ft)\",\"axis_label_standoff\":10,\"axis_label_text_color\":\"#E0E0E0\",\"axis_label_text_font\":\"Helvetica\",\"axis_label_text_font_size\":\"1.25em\",\"axis_label_text_font_style\":\"normal\",\"major_label_policy\":{\"type\":\"object\",\"name\":\"AllLabels\",\"id\":\"p1255\"},\"major_label_text_color\":\"#E0E0E0\",\"major_label_text_font\":\"Helvetica\",\"major_label_text_font_size\":\"1.025em\",\"axis_line_color\":\"#E0E0E0\",\"axis_line_alpha\":0,\"major_tick_line_color\":\"#E0E0E0\",\"major_tick_line_alpha\":0,\"minor_tick_line_color\":\"#E0E0E0\",\"minor_tick_line_alpha\":0}},{\"type\":\"object\",\"name\":\"LinearAxis\",\"id\":\"p1256\",\"attributes\":{\"y_range_name\":\"angle\",\"ticker\":{\"type\":\"object\",\"name\":\"BasicTicker\",\"id\":\"p1257\",\"attributes\":{\"mantissas\":[1,2,5]}},\"formatter\":{\"type\":\"object\",\"name\":\"BasicTickFormatter\",\"id\":\"p1258\"},\"axis_label\":\"angle\",\"axis_label_standoff\":10,\"axis_label_text_color\":\"#E0E0E0\",\"axis_label_text_font\":\"Helvetica\",\"axis_label_text_font_size\":\"1.25em\",\"axis_label_text_font_style\":\"normal\",\"major_label_policy\":{\"type\":\"object\",\"name\":\"AllLabels\",\"id\":\"p1259\"},\"major_label_text_color\":\"#E0E0E0\",\"major_label_text_font\":\"Helvetica\",\"major_label_text_font_size\":\"1.025em\",\"axis_line_color\":\"#E0E0E0\",\"axis_line_alpha\":0,\"major_tick_line_color\":\"#E0E0E0\",\"major_tick_line_alpha\":0,\"minor_tick_line_color\":\"#E0E0E0\",\"minor_tick_line_alpha\":0}}],\"below\":[{\"type\":\"object\",\"name\":\"LinearAxis\",\"id\":\"p1229\",\"attributes\":{\"ticker\":{\"type\":\"object\",\"name\":\"BasicTicker\",\"id\":\"p1230\",\"attributes\":{\"mantissas\":[1,2,5]}},\"formatter\":{\"type\":\"object\",\"name\":\"BasicTickFormatter\",\"id\":\"p1231\"},\"axis_label\":\"seconds from exit\",\"axis_label_standoff\":10,\"axis_label_text_color\":\"#E0E0E0\",\"axis_label_text_font\":\"Helvetica\",\"axis_label_text_font_size\":\"1.25em\",\"axis_label_text_font_style\":\"normal\",\"major_label_policy\":{\"type\":\"object\",\"name\":\"AllLabels\",\"id\":\"p1232\"},\"major_label_text_color\":\"#E0E0E0\",\"major_label_text_font\":\"Helvetica\",\"major_label_text_font_size\":\"1.025em\",\"axis_line_color\":\"#E0E0E0\",\"axis_line_alpha\":0,\"major_tick_line_color\":\"#E0E0E0\",\"major_tick_line_alpha\":0,\"minor_tick_line_color\":\"#E0E0E0\",\"minor_tick_line_alpha\":0}}],\"center\":[{\"type\":\"object\",\"name\":\"Grid\",\"id\":\"p1233\",\"attributes\":{\"axis\":{\"id\":\"p1229\"},\"grid_line_color\":\"#E0E0E0\",\"grid_line_alpha\":0.25}},{\"type\":\"object\",\"name\":\"Grid\",\"id\":\"p1238\",\"attributes\":{\"dimension\":1,\"axis\":{\"id\":\"p1234\"},\"grid_line_color\":\"#E0E0E0\",\"grid_line_alpha\":0.25}},{\"type\":\"object\",\"name\":\"Legend\",\"id\":\"p1269\",\"attributes\":{\"border_line_alpha\":0,\"background_fill_color\":\"#20262B\",\"background_fill_alpha\":0.25,\"label_text_color\":\"#E0E0E0\",\"label_text_font\":\"Helvetica\",\"label_text_font_size\":\"1.025em\",\"label_standoff\":8,\"glyph_width\":15,\"spacing\":8,\"items\":[{\"type\":\"object\",\"name\":\"LegendItem\",\"id\":\"p1270\",\"attributes\":{\"label\":{\"type\":\"value\",\"value\":\"Alt (ft)\"},\"renderers\":[{\"id\":\"p1266\"}]}},{\"type\":\"object\",\"name\":\"LegendItem\",\"id\":\"p1280\",\"attributes\":{\"label\":{\"type\":\"value\",\"value\":\"angle\"},\"renderers\":[{\"id\":\"p1277\"}]}},{\"type\":\"object\",\"name\":\"LegendItem\",\"id\":\"p1291\",\"attributes\":{\"label\":{\"type\":\"value\",\"value\":\"speed\"},\"renderers\":[{\"id\":\"p1288\"}]}},{\"type\":\"object\",\"name\":\"LegendItem\",\"id\":\"p1301\",\"attributes\":{\"label\":{\"type\":\"value\",\"value\":\"H-speed\"},\"renderers\":[{\"id\":\"p1298\"}]}}]}}],\"background_fill_color\":\"#20262B\",\"border_fill_color\":\"#15191C\"}}]}};\n",
       "  const render_items = [{\"docid\":\"26a930c8-a705-4ce6-8e69-f9f7dda6d962\",\"roots\":{\"p1215\":\"ad26ea50-c289-4d3f-9616-1eec46531f15\"},\"root_ids\":[\"p1215\"]}];\n",
       "  void root.Bokeh.embed.embed_items_notebook(docs_json, render_items);\n",
       "  }\n",
       "  if (root.Bokeh !== undefined) {\n",
       "    embed_document(root);\n",
       "  } else {\n",
       "    let attempts = 0;\n",
       "    const timer = setInterval(function(root) {\n",
       "      if (root.Bokeh !== undefined) {\n",
       "        clearInterval(timer);\n",
       "        embed_document(root);\n",
       "      } else {\n",
       "        attempts++;\n",
       "        if (attempts > 100) {\n",
       "          clearInterval(timer);\n",
       "          console.log(\"Bokeh: ERROR: Unable to run BokehJS code because BokehJS library is missing\");\n",
       "        }\n",
       "      }\n",
       "    }, 10, root)\n",
       "  }\n",
       "})(window);"
      ],
      "application/vnd.bokehjs_exec.v0+json": ""
     },
     "metadata": {
      "application/vnd.bokehjs_exec.v0+json": {
       "id": "p1215"
      }
     },
     "output_type": "display_data"
    },
    {
     "data": {
      "application/vnd.jupyter.widget-view+json": {
       "model_id": "268d05fc66e54eba8d57864712bc3b7c",
       "version_major": 2,
       "version_minor": 0
      },
      "text/plain": [
       "HTML(value='<hr><h1><span style=\"color: #0f0\">12-06-24 jump - 🟢 valid - score = 478.73 km/h</span></h1>')"
      ]
     },
     "metadata": {},
     "output_type": "display_data"
    },
    {
     "data": {
      "application/vnd.jupyter.widget-view+json": {
       "model_id": "c6b369d366d54cdba0020043ac1ffaad",
       "version_major": 2,
       "version_minor": 0
      },
      "text/plain": [
       "HTML(value='<h3>Max speed = 482; exit at 4115 m (13503 ft), end scoring window at 1859 m (6101 ft)')"
      ]
     },
     "metadata": {},
     "output_type": "display_data"
    },
    {
     "data": {
      "application/vnd.jupyter.widget-view+json": {
       "model_id": "0705544a3e8e41dbb667d5c49f8af93c",
       "version_major": 2,
       "version_minor": 0
      },
      "text/plain": [
       "HTML(value='</h3>')"
      ]
     },
     "metadata": {},
     "output_type": "display_data"
    },
    {
     "data": {
      "text/html": [
       "<div>\n",
       "<style scoped>\n",
       "    .dataframe tbody tr th:only-of-type {\n",
       "        vertical-align: middle;\n",
       "    }\n",
       "\n",
       "    .dataframe tbody tr th {\n",
       "        vertical-align: top;\n",
       "    }\n",
       "\n",
       "    .dataframe thead th {\n",
       "        text-align: right;\n",
       "    }\n",
       "</style>\n",
       "<table border=\"1\" class=\"dataframe\">\n",
       "  <thead>\n",
       "    <tr style=\"text-align: right;\">\n",
       "      <th></th>\n",
       "      <th>time</th>\n",
       "      <th>vKMh</th>\n",
       "      <th>hKMh</th>\n",
       "      <th>speedAngle</th>\n",
       "      <th>distanceFromExit</th>\n",
       "      <th>altitude (ft)</th>\n",
       "      <th>netVectorKMh</th>\n",
       "    </tr>\n",
       "  </thead>\n",
       "  <tbody>\n",
       "    <tr>\n",
       "      <th></th>\n",
       "      <td>5.0</td>\n",
       "      <td>168</td>\n",
       "      <td>134</td>\n",
       "      <td>51.6</td>\n",
       "      <td>205.3</td>\n",
       "      <td>13099</td>\n",
       "      <td>215</td>\n",
       "    </tr>\n",
       "    <tr>\n",
       "      <th></th>\n",
       "      <td>10.0</td>\n",
       "      <td>311</td>\n",
       "      <td>97</td>\n",
       "      <td>72.7</td>\n",
       "      <td>365.6</td>\n",
       "      <td>11981</td>\n",
       "      <td>326</td>\n",
       "    </tr>\n",
       "    <tr>\n",
       "      <th></th>\n",
       "      <td>15.0</td>\n",
       "      <td>412</td>\n",
       "      <td>68</td>\n",
       "      <td>80.7</td>\n",
       "      <td>484.7</td>\n",
       "      <td>10273</td>\n",
       "      <td>417</td>\n",
       "    </tr>\n",
       "    <tr>\n",
       "      <th></th>\n",
       "      <td>20.0</td>\n",
       "      <td>466</td>\n",
       "      <td>23</td>\n",
       "      <td>87.2</td>\n",
       "      <td>538.8</td>\n",
       "      <td>8290</td>\n",
       "      <td>467</td>\n",
       "    </tr>\n",
       "    <tr>\n",
       "      <th></th>\n",
       "      <td>25.0</td>\n",
       "      <td>482</td>\n",
       "      <td>27</td>\n",
       "      <td>86.8</td>\n",
       "      <td>541.6</td>\n",
       "      <td>6115</td>\n",
       "      <td>483</td>\n",
       "    </tr>\n",
       "  </tbody>\n",
       "</table>\n",
       "</div>"
      ],
      "text/plain": [
       "  time  vKMh  hKMh  speedAngle  distanceFromExit  altitude (ft)  netVectorKMh\n",
       "   5.0   168   134        51.6             205.3          13099           215\n",
       "  10.0   311    97        72.7             365.6          11981           326\n",
       "  15.0   412    68        80.7             484.7          10273           417\n",
       "  20.0   466    23        87.2             538.8           8290           467\n",
       "  25.0   482    27        86.8             541.6           6115           483"
      ]
     },
     "metadata": {},
     "output_type": "display_data"
    },
    {
     "data": {
      "text/html": [
       "\n",
       "  <div id=\"fddde10b-3e8f-45d2-aed2-8606c2d4a903\" data-root-id=\"p1357\" style=\"display: contents;\"></div>\n"
      ]
     },
     "metadata": {},
     "output_type": "display_data"
    },
    {
     "data": {
      "application/javascript": [
       "(function(root) {\n",
       "  function embed_document(root) {\n",
       "  const docs_json = {\"8efaf016-3a10-494d-85df-30858d3ecd7d\":{\"version\":\"3.4.1\",\"title\":\"Bokeh Application\",\"roots\":[{\"type\":\"object\",\"name\":\"Figure\",\"id\":\"p1357\",\"attributes\":{\"width\":900,\"height\":500,\"x_range\":{\"type\":\"object\",\"name\":\"Range1d\",\"id\":\"p1367\",\"attributes\":{\"end\":35.0}},\"y_range\":{\"type\":\"object\",\"name\":\"Range1d\",\"id\":\"p1368\",\"attributes\":{\"end\":550.0}},\"x_scale\":{\"type\":\"object\",\"name\":\"LinearScale\",\"id\":\"p1369\"},\"y_scale\":{\"type\":\"object\",\"name\":\"LinearScale\",\"id\":\"p1370\"},\"extra_y_ranges\":{\"type\":\"map\",\"entries\":[[\"altitudeFt\",{\"type\":\"object\",\"name\":\"Range1d\",\"id\":\"p1392\",\"attributes\":{\"start\":5615.1569864,\"end\":14003.151136800001}}],[\"angle\",{\"type\":\"object\",\"name\":\"Range1d\",\"id\":\"p1393\",\"attributes\":{\"end\":90.0}}]]},\"title\":{\"type\":\"object\",\"name\":\"Title\",\"id\":\"p1360\",\"attributes\":{\"text\":\"12-06-24\",\"text_color\":\"#E0E0E0\",\"text_font\":\"Helvetica\",\"text_font_size\":\"1.15em\"}},\"outline_line_color\":\"#E0E0E0\",\"outline_line_alpha\":0.25,\"renderers\":[{\"type\":\"object\",\"name\":\"GlyphRenderer\",\"id\":\"p1408\",\"attributes\":{\"y_range_name\":\"altitudeFt\",\"data_source\":{\"type\":\"object\",\"name\":\"ColumnDataSource\",\"id\":\"p1402\",\"attributes\":{\"selected\":{\"type\":\"object\",\"name\":\"Selection\",\"id\":\"p1403\",\"attributes\":{\"indices\":[],\"line_indices\":[]}},\"selection_policy\":{\"type\":\"object\",\"name\":\"UnionRenderers\",\"id\":\"p1404\"},\"data\":{\"type\":\"map\",\"entries\":[[\"x\",{\"type\":\"ndarray\",\"array\":{\"type\":\"bytes\",\"data\":\"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\"},\"shape\":[211],\"dtype\":\"float64\",\"order\":\"little\"}],[\"y\",{\"type\":\"ndarray\",\"array\":{\"type\":\"bytes\",\"data\":\"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\"},\"shape\":[211],\"dtype\":\"float64\",\"order\":\"little\"}]]}}},\"view\":{\"type\":\"object\",\"name\":\"CDSView\",\"id\":\"p1409\",\"attributes\":{\"filter\":{\"type\":\"object\",\"name\":\"AllIndices\",\"id\":\"p1410\"}}},\"glyph\":{\"type\":\"object\",\"name\":\"Line\",\"id\":\"p1405\",\"attributes\":{\"x\":{\"type\":\"field\",\"field\":\"x\"},\"y\":{\"type\":\"field\",\"field\":\"y\"},\"line_color\":\"palegoldenrod\",\"line_width\":2}},\"nonselection_glyph\":{\"type\":\"object\",\"name\":\"Line\",\"id\":\"p1406\",\"attributes\":{\"x\":{\"type\":\"field\",\"field\":\"x\"},\"y\":{\"type\":\"field\",\"field\":\"y\"},\"line_color\":\"palegoldenrod\",\"line_alpha\":0.1,\"line_width\":2}},\"muted_glyph\":{\"type\":\"object\",\"name\":\"Line\",\"id\":\"p1407\",\"attributes\":{\"x\":{\"type\":\"field\",\"field\":\"x\"},\"y\":{\"type\":\"field\",\"field\":\"y\"},\"line_color\":\"palegoldenrod\",\"line_alpha\":0.2,\"line_width\":2}}}},{\"type\":\"object\",\"name\":\"GlyphRenderer\",\"id\":\"p1419\",\"attributes\":{\"y_range_name\":\"angle\",\"data_source\":{\"type\":\"object\",\"name\":\"ColumnDataSource\",\"id\":\"p1413\",\"attributes\":{\"selected\":{\"type\":\"object\",\"name\":\"Selection\",\"id\":\"p1414\",\"attributes\":{\"indices\":[],\"line_indices\":[]}},\"selection_policy\":{\"type\":\"object\",\"name\":\"UnionRenderers\",\"id\":\"p1415\"},\"data\":{\"type\":\"map\",\"entries\":[[\"x\",{\"type\":\"ndarray\",\"array\":{\"type\":\"bytes\",\"data\":\"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\"},\"shape\":[211],\"dtype\":\"float64\",\"order\":\"little\"}],[\"y\",{\"type\":\"ndarray\",\"array\":{\"type\":\"bytes\",\"data\":\"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\"},\"shape\":[211],\"dtype\":\"float64\",\"order\":\"little\"}]]}}},\"view\":{\"type\":\"object\",\"name\":\"CDSView\",\"id\":\"p1420\",\"attributes\":{\"filter\":{\"type\":\"object\",\"name\":\"AllIndices\",\"id\":\"p1421\"}}},\"glyph\":{\"type\":\"object\",\"name\":\"Line\",\"id\":\"p1416\",\"attributes\":{\"x\":{\"type\":\"field\",\"field\":\"x\"},\"y\":{\"type\":\"field\",\"field\":\"y\"},\"line_color\":\"deepskyblue\",\"line_width\":2}},\"nonselection_glyph\":{\"type\":\"object\",\"name\":\"Line\",\"id\":\"p1417\",\"attributes\":{\"x\":{\"type\":\"field\",\"field\":\"x\"},\"y\":{\"type\":\"field\",\"field\":\"y\"},\"line_color\":\"deepskyblue\",\"line_alpha\":0.1,\"line_width\":2}},\"muted_glyph\":{\"type\":\"object\",\"name\":\"Line\",\"id\":\"p1418\",\"attributes\":{\"x\":{\"type\":\"field\",\"field\":\"x\"},\"y\":{\"type\":\"field\",\"field\":\"y\"},\"line_color\":\"deepskyblue\",\"line_alpha\":0.2,\"line_width\":2}}}},{\"type\":\"object\",\"name\":\"GlyphRenderer\",\"id\":\"p1430\",\"attributes\":{\"data_source\":{\"type\":\"object\",\"name\":\"ColumnDataSource\",\"id\":\"p1424\",\"attributes\":{\"selected\":{\"type\":\"object\",\"name\":\"Selection\",\"id\":\"p1425\",\"attributes\":{\"indices\":[],\"line_indices\":[]}},\"selection_policy\":{\"type\":\"object\",\"name\":\"UnionRenderers\",\"id\":\"p1426\"},\"data\":{\"type\":\"map\",\"entries\":[[\"x\",{\"type\":\"ndarray\",\"array\":{\"type\":\"bytes\",\"data\":\"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\"},\"shape\":[211],\"dtype\":\"float64\",\"order\":\"little\"}],[\"y\",{\"type\":\"ndarray\",\"array\":{\"type\":\"bytes\",\"data\":\"aZHtfD81IUDTTWIQWDkjQHe+nxov3StA8KfGSzcJMkAj2/l+arw0QAaBlUOLbDpARbbz/dT4O0BRuB6F61E/QDeJQWDlUEFAC9ejcD2KQkDYo3A9CldEQKRwPQrXI0ZArkfhehSuRkCLbOf7qXFIQBfZzvdTY0pAd76fGi/dS0Bt5/up8ZJNQKRwPQrXI09AN4lBYOUwUEC/nxov3QRRQFtkO99PzVFA9ihcj8KVUkBkO99PjXdTQFK4HoXrEVRAAiuHFtnOVECR7Xw/NZ5VQDm0yHa+X1ZAsHJoke08V0BYObTIdv5XQNNNYhBY2VhAQmDl0CK7WUDufD81XnpaQG3n+6nxUltAu0kMAitHXEBWDi2ynQ9dQMh2vp8a711AXI/C9Si8XkAVrkfhenRfQEw3iUFgJWBAlkOLbOeLYEDeJAaBlfNgQCUGgZVDW2FAXI/C9SjMYUB/arx0k0hiQLx0kxgEtmJAAAAAAAAgY0BYObTIdn5jQJ3vp8ZL52NA5KWbxCBQZECUGARWDg1lQOF6FK5HcWVAeekmMQg8ZkC28/3UeKlmQGMQWDm0aGdAlkOLbOfbZ0DufD81XjpoQFK4HoXrkWhA5/up8dJdaUA/NV66SbxpQCUGgZVDW2pAXI/C9SjMakAxCKwcWnRrQI/C9Shcz2tAz/dT46U7bEAZBFYOLaJsQGiR7Xw/BW1AIbByaJG9bUDZzvdT43VuQE9iEFg5xG5Ad76fGi89b0DufD81XopvQDvfT42X7m9AjpduEoNIcEAw3SQGgX1wQOomMQispHBAI9v5fmrMcEB/arx0kyhxQD81XrpJTHFAJzEIrByicUDLoUW289VxQJduEoPA8nFAxSCwcmghckB1kxgEVk5yQObQItv5nnJAnMQgsHLIckB56SYxCCRzQLTIdr6fSnNA6iYxCKx0c0AOLbKd76dzQGdmZmZmvnNAC9ejcD3yc0BbZDvfTw10QJzEILByMHRARbbz/dRgdEBzaJHtfNd0QMuhRbbz7XRAJQaBlUMDdUDLoUW28zV1QB+F61G4TnVA6iYxCKxsdUAj2/l+apR1QKrx0k1i2HVAbef7qfH6dUB3vp8aLz12QEW28/3UWHZAg8DKoUV+dkBOYhBYOZx2QJ3vp8ZLt3ZA2c73U+PddkBqvHSTGBx3QCuHFtnOP3dA5tAi2/lmd0B56SYxCKR3QEoMAiuHvndAlkOLbOfbd0BYObTIdv53QLByaJHtFHhAuR6F61FYeECUGARWDm14QCUGgZVDq3hAz/dT46XbeEAL16NwPQJ5QEjhehSuJ3lAokW28/08eUDsUbgehVt5QMdLN4lBcHlAlkOLbOeLeUA830+Nl755QFyPwvUo9HlAN4lBYOUIekASg8DKoR16QGq8dJMYNHpAN4lBYOVQekBzaJHtfHd6QM/3U+Oli3pAs53vp8abekCWQ4ts56t6QHe+nxovvXpAI9v5fmrsekCPwvUoXPd6QG3n+6nxCntAtvP91Hgpe0Dwp8ZLN1F7QD4K16NwbXtAke18PzWGe0Dy0k1iEJh7QNNNYhBYqXtAF9nO91PLe0DufD81XuJ7QML1KFyP+ntAIbByaJENfEDZzvdT4zV8QLtJDAIrR3xALbKd76dOfECUGARWDl18QPT91HjpbnxA1XjpJjGAfEBCYOXQIot8QDeJQWDlkHxAIbByaJGdfEBnZmZmZr58QNNNYhBYyXxAuB6F61HYfEAnMQisHOJ8QJLtfD817nxA2KNwPQoPfUBLN4lBYBV9QDMzMzMzI31ArBxaZDsnfUAFVg4tsj19QPp+arx0Q31AVzm0yHZWfUDZzvdT41V9QDiJQWDlaH1ApHA9CtdzfUCVQ4ts53t9QG3n+6nxkn1AXI/C9SicfUDC9Shcj6p9QKwcWmQ7t31AX7pJDAKbfUDc+X5qvJx9QDm0yHa+r31AMgisHFq0fUCvR+F6FLZ9QJqZmZmZwX1AF9nO91PDfUB/arx0k9B9QOtRuB6F231AYhBYObTgfUDMoUW28+19QFYOLbKd531A2KNwPQrnfUDeJAaBleN9QGIQWDm04H1A6Pup8dLdfUDiehSuR+F9QEW28/3U8H1AyHa+nxrvfUC7SQwCK/d9QDIIrBxa/H1AsHJoke38fUApXI/C9QB+QB6F61G4Bn5AHoXrUbgGfkCbxCCwcgh+QJLtfD81Dn5AmpmZmZkJfkAIrBxaZBN+QP/UeOkmGX5Ad76fGi8dfkA=\"},\"shape\":[211],\"dtype\":\"float64\",\"order\":\"little\"}]]}}},\"view\":{\"type\":\"object\",\"name\":\"CDSView\",\"id\":\"p1431\",\"attributes\":{\"filter\":{\"type\":\"object\",\"name\":\"AllIndices\",\"id\":\"p1432\"}}},\"glyph\":{\"type\":\"object\",\"name\":\"Line\",\"id\":\"p1427\",\"attributes\":{\"x\":{\"type\":\"field\",\"field\":\"x\"},\"y\":{\"type\":\"field\",\"field\":\"y\"},\"line_color\":\"limegreen\",\"line_width\":2}},\"nonselection_glyph\":{\"type\":\"object\",\"name\":\"Line\",\"id\":\"p1428\",\"attributes\":{\"x\":{\"type\":\"field\",\"field\":\"x\"},\"y\":{\"type\":\"field\",\"field\":\"y\"},\"line_color\":\"limegreen\",\"line_alpha\":0.1,\"line_width\":2}},\"muted_glyph\":{\"type\":\"object\",\"name\":\"Line\",\"id\":\"p1429\",\"attributes\":{\"x\":{\"type\":\"field\",\"field\":\"x\"},\"y\":{\"type\":\"field\",\"field\":\"y\"},\"line_color\":\"limegreen\",\"line_alpha\":0.2,\"line_width\":2}}}},{\"type\":\"object\",\"name\":\"GlyphRenderer\",\"id\":\"p1440\",\"attributes\":{\"data_source\":{\"type\":\"object\",\"name\":\"ColumnDataSource\",\"id\":\"p1434\",\"attributes\":{\"selected\":{\"type\":\"object\",\"name\":\"Selection\",\"id\":\"p1435\",\"attributes\":{\"indices\":[],\"line_indices\":[]}},\"selection_policy\":{\"type\":\"object\",\"name\":\"UnionRenderers\",\"id\":\"p1436\"},\"data\":{\"type\":\"map\",\"entries\":[[\"x\",{\"type\":\"ndarray\",\"array\":{\"type\":\"bytes\",\"data\":\"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\"},\"shape\":[211],\"dtype\":\"float64\",\"order\":\"little\"}],[\"y\",{\"type\":\"ndarray\",\"array\":{\"type\":\"bytes\",\"data\":\"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\"},\"shape\":[211],\"dtype\":\"float64\",\"order\":\"little\"}]]}}},\"view\":{\"type\":\"object\",\"name\":\"CDSView\",\"id\":\"p1441\",\"attributes\":{\"filter\":{\"type\":\"object\",\"name\":\"AllIndices\",\"id\":\"p1442\"}}},\"glyph\":{\"type\":\"object\",\"name\":\"Line\",\"id\":\"p1437\",\"attributes\":{\"x\":{\"type\":\"field\",\"field\":\"x\"},\"y\":{\"type\":\"field\",\"field\":\"y\"},\"line_color\":\"red\",\"line_width\":2}},\"nonselection_glyph\":{\"type\":\"object\",\"name\":\"Line\",\"id\":\"p1438\",\"attributes\":{\"x\":{\"type\":\"field\",\"field\":\"x\"},\"y\":{\"type\":\"field\",\"field\":\"y\"},\"line_color\":\"red\",\"line_alpha\":0.1,\"line_width\":2}},\"muted_glyph\":{\"type\":\"object\",\"name\":\"Line\",\"id\":\"p1439\",\"attributes\":{\"x\":{\"type\":\"field\",\"field\":\"x\"},\"y\":{\"type\":\"field\",\"field\":\"y\"},\"line_color\":\"red\",\"line_alpha\":0.2,\"line_width\":2}}}},{\"type\":\"object\",\"name\":\"GlyphRenderer\",\"id\":\"p1450\",\"attributes\":{\"data_source\":{\"type\":\"object\",\"name\":\"ColumnDataSource\",\"id\":\"p1444\",\"attributes\":{\"selected\":{\"type\":\"object\",\"name\":\"Selection\",\"id\":\"p1445\",\"attributes\":{\"indices\":[],\"line_indices\":[]}},\"selection_policy\":{\"type\":\"object\",\"name\":\"UnionRenderers\",\"id\":\"p1446\"},\"data\":{\"type\":\"map\",\"entries\":[[\"x0\",[25.0]],[\"y0\",[0.0]],[\"x1\",[25.0]],[\"y1\",[478.73420689655177]]]}}},\"view\":{\"type\":\"object\",\"name\":\"CDSView\",\"id\":\"p1451\",\"attributes\":{\"filter\":{\"type\":\"object\",\"name\":\"AllIndices\",\"id\":\"p1452\"}}},\"glyph\":{\"type\":\"object\",\"name\":\"Segment\",\"id\":\"p1447\",\"attributes\":{\"x0\":{\"type\":\"field\",\"field\":\"x0\"},\"y0\":{\"type\":\"field\",\"field\":\"y0\"},\"x1\":{\"type\":\"field\",\"field\":\"x1\"},\"y1\":{\"type\":\"field\",\"field\":\"y1\"},\"line_color\":{\"type\":\"value\",\"value\":\"lightblue\"},\"line_width\":{\"type\":\"value\",\"value\":3}}},\"nonselection_glyph\":{\"type\":\"object\",\"name\":\"Segment\",\"id\":\"p1448\",\"attributes\":{\"x0\":{\"type\":\"field\",\"field\":\"x0\"},\"y0\":{\"type\":\"field\",\"field\":\"y0\"},\"x1\":{\"type\":\"field\",\"field\":\"x1\"},\"y1\":{\"type\":\"field\",\"field\":\"y1\"},\"line_color\":{\"type\":\"value\",\"value\":\"lightblue\"},\"line_alpha\":{\"type\":\"value\",\"value\":0.1},\"line_width\":{\"type\":\"value\",\"value\":3}}},\"muted_glyph\":{\"type\":\"object\",\"name\":\"Segment\",\"id\":\"p1449\",\"attributes\":{\"x0\":{\"type\":\"field\",\"field\":\"x0\"},\"y0\":{\"type\":\"field\",\"field\":\"y0\"},\"x1\":{\"type\":\"field\",\"field\":\"x1\"},\"y1\":{\"type\":\"field\",\"field\":\"y1\"},\"line_color\":{\"type\":\"value\",\"value\":\"lightblue\"},\"line_alpha\":{\"type\":\"value\",\"value\":0.2},\"line_width\":{\"type\":\"value\",\"value\":3}}}}},{\"type\":\"object\",\"name\":\"GlyphRenderer\",\"id\":\"p1459\",\"attributes\":{\"data_source\":{\"type\":\"object\",\"name\":\"ColumnDataSource\",\"id\":\"p1453\",\"attributes\":{\"selected\":{\"type\":\"object\",\"name\":\"Selection\",\"id\":\"p1454\",\"attributes\":{\"indices\":[],\"line_indices\":[]}},\"selection_policy\":{\"type\":\"object\",\"name\":\"UnionRenderers\",\"id\":\"p1455\"},\"data\":{\"type\":\"map\",\"entries\":[[\"x0\",[26.5]],[\"y0\",[0.0]],[\"x1\",[26.5]],[\"y1\",[478.73420689655177]]]}}},\"view\":{\"type\":\"object\",\"name\":\"CDSView\",\"id\":\"p1460\",\"attributes\":{\"filter\":{\"type\":\"object\",\"name\":\"AllIndices\",\"id\":\"p1461\"}}},\"glyph\":{\"type\":\"object\",\"name\":\"Segment\",\"id\":\"p1456\",\"attributes\":{\"x0\":{\"type\":\"field\",\"field\":\"x0\"},\"y0\":{\"type\":\"field\",\"field\":\"y0\"},\"x1\":{\"type\":\"field\",\"field\":\"x1\"},\"y1\":{\"type\":\"field\",\"field\":\"y1\"},\"line_color\":{\"type\":\"value\",\"value\":\"darkseagreen\"}}},\"nonselection_glyph\":{\"type\":\"object\",\"name\":\"Segment\",\"id\":\"p1457\",\"attributes\":{\"x0\":{\"type\":\"field\",\"field\":\"x0\"},\"y0\":{\"type\":\"field\",\"field\":\"y0\"},\"x1\":{\"type\":\"field\",\"field\":\"x1\"},\"y1\":{\"type\":\"field\",\"field\":\"y1\"},\"line_color\":{\"type\":\"value\",\"value\":\"darkseagreen\"},\"line_alpha\":{\"type\":\"value\",\"value\":0.1}}},\"muted_glyph\":{\"type\":\"object\",\"name\":\"Segment\",\"id\":\"p1458\",\"attributes\":{\"x0\":{\"type\":\"field\",\"field\":\"x0\"},\"y0\":{\"type\":\"field\",\"field\":\"y0\"},\"x1\":{\"type\":\"field\",\"field\":\"x1\"},\"y1\":{\"type\":\"field\",\"field\":\"y1\"},\"line_color\":{\"type\":\"value\",\"value\":\"darkseagreen\"},\"line_alpha\":{\"type\":\"value\",\"value\":0.2}}}}},{\"type\":\"object\",\"name\":\"GlyphRenderer\",\"id\":\"p1468\",\"attributes\":{\"data_source\":{\"type\":\"object\",\"name\":\"ColumnDataSource\",\"id\":\"p1462\",\"attributes\":{\"selected\":{\"type\":\"object\",\"name\":\"Selection\",\"id\":\"p1463\",\"attributes\":{\"indices\":[],\"line_indices\":[]}},\"selection_policy\":{\"type\":\"object\",\"name\":\"UnionRenderers\",\"id\":\"p1464\"},\"data\":{\"type\":\"map\",\"entries\":[[\"x0\",[23.5]],[\"y0\",[0.0]],[\"x1\",[23.5]],[\"y1\",[478.73420689655177]]]}}},\"view\":{\"type\":\"object\",\"name\":\"CDSView\",\"id\":\"p1469\",\"attributes\":{\"filter\":{\"type\":\"object\",\"name\":\"AllIndices\",\"id\":\"p1470\"}}},\"glyph\":{\"type\":\"object\",\"name\":\"Segment\",\"id\":\"p1465\",\"attributes\":{\"x0\":{\"type\":\"field\",\"field\":\"x0\"},\"y0\":{\"type\":\"field\",\"field\":\"y0\"},\"x1\":{\"type\":\"field\",\"field\":\"x1\"},\"y1\":{\"type\":\"field\",\"field\":\"y1\"},\"line_color\":{\"type\":\"value\",\"value\":\"darkseagreen\"}}},\"nonselection_glyph\":{\"type\":\"object\",\"name\":\"Segment\",\"id\":\"p1466\",\"attributes\":{\"x0\":{\"type\":\"field\",\"field\":\"x0\"},\"y0\":{\"type\":\"field\",\"field\":\"y0\"},\"x1\":{\"type\":\"field\",\"field\":\"x1\"},\"y1\":{\"type\":\"field\",\"field\":\"y1\"},\"line_color\":{\"type\":\"value\",\"value\":\"darkseagreen\"},\"line_alpha\":{\"type\":\"value\",\"value\":0.1}}},\"muted_glyph\":{\"type\":\"object\",\"name\":\"Segment\",\"id\":\"p1467\",\"attributes\":{\"x0\":{\"type\":\"field\",\"field\":\"x0\"},\"y0\":{\"type\":\"field\",\"field\":\"y0\"},\"x1\":{\"type\":\"field\",\"field\":\"x1\"},\"y1\":{\"type\":\"field\",\"field\":\"y1\"},\"line_color\":{\"type\":\"value\",\"value\":\"darkseagreen\"},\"line_alpha\":{\"type\":\"value\",\"value\":0.2}}}}},{\"type\":\"object\",\"name\":\"GlyphRenderer\",\"id\":\"p1477\",\"attributes\":{\"data_source\":{\"type\":\"object\",\"name\":\"ColumnDataSource\",\"id\":\"p1471\",\"attributes\":{\"selected\":{\"type\":\"object\",\"name\":\"Selection\",\"id\":\"p1472\",\"attributes\":{\"indices\":[],\"line_indices\":[]}},\"selection_policy\":{\"type\":\"object\",\"name\":\"UnionRenderers\",\"id\":\"p1473\"},\"data\":{\"type\":\"map\",\"entries\":[[\"x\",[25.0]],[\"y\",[478.73420689655177]],[\"size\",[20]]]}}},\"view\":{\"type\":\"object\",\"name\":\"CDSView\",\"id\":\"p1478\",\"attributes\":{\"filter\":{\"type\":\"object\",\"name\":\"AllIndices\",\"id\":\"p1479\"}}},\"glyph\":{\"type\":\"object\",\"name\":\"Scatter\",\"id\":\"p1474\",\"attributes\":{\"x\":{\"type\":\"field\",\"field\":\"x\"},\"y\":{\"type\":\"field\",\"field\":\"y\"},\"size\":{\"type\":\"field\",\"field\":\"size\"},\"line_color\":{\"type\":\"value\",\"value\":\"lightblue\"},\"line_width\":{\"type\":\"value\",\"value\":3},\"fill_color\":{\"type\":\"value\",\"value\":null},\"marker\":{\"type\":\"value\",\"value\":\"square_cross\"}}},\"nonselection_glyph\":{\"type\":\"object\",\"name\":\"Scatter\",\"id\":\"p1475\",\"attributes\":{\"x\":{\"type\":\"field\",\"field\":\"x\"},\"y\":{\"type\":\"field\",\"field\":\"y\"},\"size\":{\"type\":\"field\",\"field\":\"size\"},\"line_color\":{\"type\":\"value\",\"value\":\"lightblue\"},\"line_alpha\":{\"type\":\"value\",\"value\":0.1},\"line_width\":{\"type\":\"value\",\"value\":3},\"fill_color\":{\"type\":\"value\",\"value\":null},\"fill_alpha\":{\"type\":\"value\",\"value\":0.1},\"hatch_alpha\":{\"type\":\"value\",\"value\":0.1},\"marker\":{\"type\":\"value\",\"value\":\"square_cross\"}}},\"muted_glyph\":{\"type\":\"object\",\"name\":\"Scatter\",\"id\":\"p1476\",\"attributes\":{\"x\":{\"type\":\"field\",\"field\":\"x\"},\"y\":{\"type\":\"field\",\"field\":\"y\"},\"size\":{\"type\":\"field\",\"field\":\"size\"},\"line_color\":{\"type\":\"value\",\"value\":\"lightblue\"},\"line_alpha\":{\"type\":\"value\",\"value\":0.2},\"line_width\":{\"type\":\"value\",\"value\":3},\"fill_color\":{\"type\":\"value\",\"value\":null},\"fill_alpha\":{\"type\":\"value\",\"value\":0.2},\"hatch_alpha\":{\"type\":\"value\",\"value\":0.2},\"marker\":{\"type\":\"value\",\"value\":\"square_cross\"}}}}}],\"toolbar\":{\"type\":\"object\",\"name\":\"Toolbar\",\"id\":\"p1366\",\"attributes\":{\"tools\":[{\"type\":\"object\",\"name\":\"PanTool\",\"id\":\"p1381\"},{\"type\":\"object\",\"name\":\"WheelZoomTool\",\"id\":\"p1382\",\"attributes\":{\"renderers\":\"auto\"}},{\"type\":\"object\",\"name\":\"BoxZoomTool\",\"id\":\"p1383\",\"attributes\":{\"overlay\":{\"type\":\"object\",\"name\":\"BoxAnnotation\",\"id\":\"p1384\",\"attributes\":{\"syncable\":false,\"level\":\"overlay\",\"visible\":false,\"left\":{\"type\":\"number\",\"value\":\"nan\"},\"right\":{\"type\":\"number\",\"value\":\"nan\"},\"top\":{\"type\":\"number\",\"value\":\"nan\"},\"bottom\":{\"type\":\"number\",\"value\":\"nan\"},\"left_units\":\"canvas\",\"right_units\":\"canvas\",\"top_units\":\"canvas\",\"bottom_units\":\"canvas\",\"line_color\":\"black\",\"line_alpha\":1.0,\"line_width\":2,\"line_dash\":[4,4],\"fill_color\":\"lightgrey\",\"fill_alpha\":0.5}}}},{\"type\":\"object\",\"name\":\"SaveTool\",\"id\":\"p1389\"},{\"type\":\"object\",\"name\":\"ResetTool\",\"id\":\"p1390\"},{\"type\":\"object\",\"name\":\"HelpTool\",\"id\":\"p1391\"},{\"type\":\"object\",\"name\":\"HoverTool\",\"id\":\"p1423\",\"attributes\":{\"renderers\":\"auto\",\"tooltips\":[[\"Y-val\",\"@y{0.00}\"]]}}]}},\"left\":[{\"type\":\"object\",\"name\":\"LinearAxis\",\"id\":\"p1376\",\"attributes\":{\"ticker\":{\"type\":\"object\",\"name\":\"BasicTicker\",\"id\":\"p1377\",\"attributes\":{\"mantissas\":[1,2,5]}},\"formatter\":{\"type\":\"object\",\"name\":\"BasicTickFormatter\",\"id\":\"p1378\"},\"axis_label\":\"km/h\",\"axis_label_standoff\":10,\"axis_label_text_color\":\"#E0E0E0\",\"axis_label_text_font\":\"Helvetica\",\"axis_label_text_font_size\":\"1.25em\",\"axis_label_text_font_style\":\"normal\",\"major_label_policy\":{\"type\":\"object\",\"name\":\"AllLabels\",\"id\":\"p1379\"},\"major_label_text_color\":\"#E0E0E0\",\"major_label_text_font\":\"Helvetica\",\"major_label_text_font_size\":\"1.025em\",\"axis_line_color\":\"#E0E0E0\",\"axis_line_alpha\":0,\"major_tick_line_color\":\"#E0E0E0\",\"major_tick_line_alpha\":0,\"minor_tick_line_color\":\"#E0E0E0\",\"minor_tick_line_alpha\":0}},{\"type\":\"object\",\"name\":\"LinearAxis\",\"id\":\"p1394\",\"attributes\":{\"y_range_name\":\"altitudeFt\",\"ticker\":{\"type\":\"object\",\"name\":\"BasicTicker\",\"id\":\"p1395\",\"attributes\":{\"mantissas\":[1,2,5]}},\"formatter\":{\"type\":\"object\",\"name\":\"BasicTickFormatter\",\"id\":\"p1396\"},\"axis_label\":\"Alt (ft)\",\"axis_label_standoff\":10,\"axis_label_text_color\":\"#E0E0E0\",\"axis_label_text_font\":\"Helvetica\",\"axis_label_text_font_size\":\"1.25em\",\"axis_label_text_font_style\":\"normal\",\"major_label_policy\":{\"type\":\"object\",\"name\":\"AllLabels\",\"id\":\"p1397\"},\"major_label_text_color\":\"#E0E0E0\",\"major_label_text_font\":\"Helvetica\",\"major_label_text_font_size\":\"1.025em\",\"axis_line_color\":\"#E0E0E0\",\"axis_line_alpha\":0,\"major_tick_line_color\":\"#E0E0E0\",\"major_tick_line_alpha\":0,\"minor_tick_line_color\":\"#E0E0E0\",\"minor_tick_line_alpha\":0}},{\"type\":\"object\",\"name\":\"LinearAxis\",\"id\":\"p1398\",\"attributes\":{\"y_range_name\":\"angle\",\"ticker\":{\"type\":\"object\",\"name\":\"BasicTicker\",\"id\":\"p1399\",\"attributes\":{\"mantissas\":[1,2,5]}},\"formatter\":{\"type\":\"object\",\"name\":\"BasicTickFormatter\",\"id\":\"p1400\"},\"axis_label\":\"angle\",\"axis_label_standoff\":10,\"axis_label_text_color\":\"#E0E0E0\",\"axis_label_text_font\":\"Helvetica\",\"axis_label_text_font_size\":\"1.25em\",\"axis_label_text_font_style\":\"normal\",\"major_label_policy\":{\"type\":\"object\",\"name\":\"AllLabels\",\"id\":\"p1401\"},\"major_label_text_color\":\"#E0E0E0\",\"major_label_text_font\":\"Helvetica\",\"major_label_text_font_size\":\"1.025em\",\"axis_line_color\":\"#E0E0E0\",\"axis_line_alpha\":0,\"major_tick_line_color\":\"#E0E0E0\",\"major_tick_line_alpha\":0,\"minor_tick_line_color\":\"#E0E0E0\",\"minor_tick_line_alpha\":0}}],\"below\":[{\"type\":\"object\",\"name\":\"LinearAxis\",\"id\":\"p1371\",\"attributes\":{\"ticker\":{\"type\":\"object\",\"name\":\"BasicTicker\",\"id\":\"p1372\",\"attributes\":{\"mantissas\":[1,2,5]}},\"formatter\":{\"type\":\"object\",\"name\":\"BasicTickFormatter\",\"id\":\"p1373\"},\"axis_label\":\"seconds from exit\",\"axis_label_standoff\":10,\"axis_label_text_color\":\"#E0E0E0\",\"axis_label_text_font\":\"Helvetica\",\"axis_label_text_font_size\":\"1.25em\",\"axis_label_text_font_style\":\"normal\",\"major_label_policy\":{\"type\":\"object\",\"name\":\"AllLabels\",\"id\":\"p1374\"},\"major_label_text_color\":\"#E0E0E0\",\"major_label_text_font\":\"Helvetica\",\"major_label_text_font_size\":\"1.025em\",\"axis_line_color\":\"#E0E0E0\",\"axis_line_alpha\":0,\"major_tick_line_color\":\"#E0E0E0\",\"major_tick_line_alpha\":0,\"minor_tick_line_color\":\"#E0E0E0\",\"minor_tick_line_alpha\":0}}],\"center\":[{\"type\":\"object\",\"name\":\"Grid\",\"id\":\"p1375\",\"attributes\":{\"axis\":{\"id\":\"p1371\"},\"grid_line_color\":\"#E0E0E0\",\"grid_line_alpha\":0.25}},{\"type\":\"object\",\"name\":\"Grid\",\"id\":\"p1380\",\"attributes\":{\"dimension\":1,\"axis\":{\"id\":\"p1376\"},\"grid_line_color\":\"#E0E0E0\",\"grid_line_alpha\":0.25}},{\"type\":\"object\",\"name\":\"Legend\",\"id\":\"p1411\",\"attributes\":{\"border_line_alpha\":0,\"background_fill_color\":\"#20262B\",\"background_fill_alpha\":0.25,\"label_text_color\":\"#E0E0E0\",\"label_text_font\":\"Helvetica\",\"label_text_font_size\":\"1.025em\",\"label_standoff\":8,\"glyph_width\":15,\"spacing\":8,\"items\":[{\"type\":\"object\",\"name\":\"LegendItem\",\"id\":\"p1412\",\"attributes\":{\"label\":{\"type\":\"value\",\"value\":\"Alt (ft)\"},\"renderers\":[{\"id\":\"p1408\"}]}},{\"type\":\"object\",\"name\":\"LegendItem\",\"id\":\"p1422\",\"attributes\":{\"label\":{\"type\":\"value\",\"value\":\"angle\"},\"renderers\":[{\"id\":\"p1419\"}]}},{\"type\":\"object\",\"name\":\"LegendItem\",\"id\":\"p1433\",\"attributes\":{\"label\":{\"type\":\"value\",\"value\":\"speed\"},\"renderers\":[{\"id\":\"p1430\"}]}},{\"type\":\"object\",\"name\":\"LegendItem\",\"id\":\"p1443\",\"attributes\":{\"label\":{\"type\":\"value\",\"value\":\"H-speed\"},\"renderers\":[{\"id\":\"p1440\"}]}}]}}],\"background_fill_color\":\"#20262B\",\"border_fill_color\":\"#15191C\"}}]}};\n",
       "  const render_items = [{\"docid\":\"8efaf016-3a10-494d-85df-30858d3ecd7d\",\"roots\":{\"p1357\":\"fddde10b-3e8f-45d2-aed2-8606c2d4a903\"},\"root_ids\":[\"p1357\"]}];\n",
       "  void root.Bokeh.embed.embed_items_notebook(docs_json, render_items);\n",
       "  }\n",
       "  if (root.Bokeh !== undefined) {\n",
       "    embed_document(root);\n",
       "  } else {\n",
       "    let attempts = 0;\n",
       "    const timer = setInterval(function(root) {\n",
       "      if (root.Bokeh !== undefined) {\n",
       "        clearInterval(timer);\n",
       "        embed_document(root);\n",
       "      } else {\n",
       "        attempts++;\n",
       "        if (attempts > 100) {\n",
       "          clearInterval(timer);\n",
       "          console.log(\"Bokeh: ERROR: Unable to run BokehJS code because BokehJS library is missing\");\n",
       "        }\n",
       "      }\n",
       "    }, 10, root)\n",
       "  }\n",
       "})(window);"
      ],
      "application/vnd.bokehjs_exec.v0+json": ""
     },
     "metadata": {
      "application/vnd.bokehjs_exec.v0+json": {
       "id": "p1357"
      }
     },
     "output_type": "display_data"
    }
   ],
   "source": [
    "allJumpsPlot = initializePlot('All jumps in set')\n",
    "jumpNumber = 0\n",
    "mixColor = 0\n",
    "for resultRef in sorted(jumpResults.keys()):\n",
    "    jumpResult = jumpResults[resultRef]\n",
    "    if jumpResult.score > 0.0:\n",
    "        validJumpStatus = '<hr><h1><span style=\"color: %s\">%s jump - %s - score = %.02f km/h</span></h1>' % (jumpResult.color, resultRef, jumpResult.result, jumpResult.score)        \n",
    "    else:\n",
    "        validJumpStatus = '<hr><h1><span style=\"color: %s\">%s jump - %s</span></h1>' % (jumpResult.color, resultRef, jumpResult.result)\n",
    "    display(widgets.HTML(validJumpStatus))\n",
    "\n",
    "    maxSpeed = jumpResult.maxSpeed\n",
    "    window = jumpResult.window\n",
    "    mixColor = (mixColor+1)%len(SPEED_COLORS)\n",
    "    if jumpResult.score > 0.0:\n",
    "        display(widgets.HTML('<h3>Max speed = {0:,.0f}; '.format(maxSpeed)+('exit at %d m (%d ft), end scoring window at %d m (%d ft)'%(window.start, 3.2808*window.start, window.end, 3.2808*window.end))))\n",
    "        if not isValidMinimumAltitude(jumpResult.data.altitudeAGL.max()):\n",
    "            display(widgets.HTML('<span style=\"color: yellow\"><span style=\"font-weight: bold\">Warning:</span> exit altitude ASL was lower than the minimum scoring altitude according to IPC and USPA.'))\n",
    "        display(widgets.HTML('</h3>'))\n",
    "        # TODO: Move this to an in-notebook function or module.\n",
    "        displayJumpDataIn(jumpResult.table)\n",
    "        individualPlot = initializePlot(resultRef)\n",
    "        individualPlot = initializeExtraYRanges(individualPlot, startY = min(jumpResult.data.altitudeAGLFt)-500.0, endY = max(jumpResult.data.altitudeAGLFt)+500.0)\n",
    "        graphAltitude(individualPlot, jumpResult)\n",
    "        graphAngle(individualPlot, jumpResult)\n",
    "        hoverValue = bm.HoverTool(tooltips = [ ('Y-val', '@y{0.00}'), ])\n",
    "        individualPlot.add_tools(hoverValue)\n",
    "        graphJumpResult(individualPlot,\n",
    "                        jumpResult,\n",
    "                        lineColor = SPEED_COLORS[0])\n",
    "        graphJumpResult(allJumpsPlot,\n",
    "                        jumpResult,\n",
    "                        lineColor = SPEED_COLORS[mixColor],\n",
    "                        legend = '%s - %.2f' % (resultRef, jumpResult.score),\n",
    "                        showIt = False)"
   ]
  },
  {
   "attachments": {},
   "cell_type": "markdown",
   "id": "a5d31990-f5c2-43d9-817b-b50a35740834",
   "metadata": {},
   "source": [
    "---\n",
    "## Summary of all speed skydives in the data lake"
   ]
  },
  {
   "cell_type": "code",
   "execution_count": 24,
   "id": "17991fcf-e215-4a53-a6ff-d9a64cbafd94",
   "metadata": {
    "jupyter": {
     "source_hidden": true
    }
   },
   "outputs": [
    {
     "data": {
      "text/html": [
       "<div>\n",
       "<style scoped>\n",
       "    .dataframe tbody tr th:only-of-type {\n",
       "        vertical-align: middle;\n",
       "    }\n",
       "\n",
       "    .dataframe tbody tr th {\n",
       "        vertical-align: top;\n",
       "    }\n",
       "\n",
       "    .dataframe thead th {\n",
       "        text-align: right;\n",
       "    }\n",
       "</style>\n",
       "<table border=\"1\" class=\"dataframe\">\n",
       "  <thead>\n",
       "    <tr style=\"text-align: right;\">\n",
       "      <th></th>\n",
       "      <th>score</th>\n",
       "      <th>5.0</th>\n",
       "      <th>10.0</th>\n",
       "      <th>15.0</th>\n",
       "      <th>20.0</th>\n",
       "      <th>25.0</th>\n",
       "      <th>finalTime</th>\n",
       "      <th>maxSpeed</th>\n",
       "    </tr>\n",
       "  </thead>\n",
       "  <tbody>\n",
       "    <tr>\n",
       "      <th>00-00-00-baseline</th>\n",
       "      <td>481</td>\n",
       "      <td>229</td>\n",
       "      <td>333</td>\n",
       "      <td>422</td>\n",
       "      <td>470</td>\n",
       "      <td>483</td>\n",
       "      <td>25.0</td>\n",
       "      <td>482</td>\n",
       "    </tr>\n",
       "    <tr>\n",
       "      <th>12-06-24</th>\n",
       "      <td>479</td>\n",
       "      <td>215</td>\n",
       "      <td>326</td>\n",
       "      <td>417</td>\n",
       "      <td>467</td>\n",
       "      <td>483</td>\n",
       "      <td>25.0</td>\n",
       "      <td>482</td>\n",
       "    </tr>\n",
       "  </tbody>\n",
       "</table>\n",
       "</div>"
      ],
      "text/plain": [
       "                   score  5.0  10.0  15.0  20.0  25.0  finalTime  maxSpeed\n",
       "00-00-00-baseline    481  229   333   422   470   483       25.0       482\n",
       "12-06-24             479  215   326   417   467   483       25.0       482"
      ]
     },
     "metadata": {},
     "output_type": "display_data"
    },
    {
     "data": {
      "text/html": [
       "<div>\n",
       "<style scoped>\n",
       "    .dataframe tbody tr th:only-of-type {\n",
       "        vertical-align: middle;\n",
       "    }\n",
       "\n",
       "    .dataframe tbody tr th {\n",
       "        vertical-align: top;\n",
       "    }\n",
       "\n",
       "    .dataframe thead th {\n",
       "        text-align: right;\n",
       "    }\n",
       "</style>\n",
       "<table border=\"1\" class=\"dataframe\">\n",
       "  <thead>\n",
       "    <tr style=\"text-align: right;\">\n",
       "      <th></th>\n",
       "      <th>totalSpeed</th>\n",
       "      <th>meanSpeed</th>\n",
       "      <th>maxScore</th>\n",
       "    </tr>\n",
       "  </thead>\n",
       "  <tbody>\n",
       "    <tr>\n",
       "      <th>totalSpeed</th>\n",
       "      <td>959.303745</td>\n",
       "      <td>479.651873</td>\n",
       "      <td>480.569538</td>\n",
       "    </tr>\n",
       "  </tbody>\n",
       "</table>\n",
       "</div>"
      ],
      "text/plain": [
       "            totalSpeed   meanSpeed    maxScore\n",
       "totalSpeed  959.303745  479.651873  480.569538"
      ]
     },
     "metadata": {},
     "output_type": "display_data"
    },
    {
     "data": {
      "text/html": [
       "\n",
       "  <div id=\"c97e9db3-6f80-4e44-b531-facb77325ab7\" data-root-id=\"p1180\" style=\"display: contents;\"></div>\n"
      ]
     },
     "metadata": {},
     "output_type": "display_data"
    },
    {
     "data": {
      "application/javascript": [
       "(function(root) {\n",
       "  function embed_document(root) {\n",
       "  const docs_json = {\"dabc85d3-9f7b-41ac-a378-68281f9cc66f\":{\"version\":\"3.4.1\",\"title\":\"Bokeh Application\",\"roots\":[{\"type\":\"object\",\"name\":\"Figure\",\"id\":\"p1180\",\"attributes\":{\"width\":900,\"height\":500,\"x_range\":{\"type\":\"object\",\"name\":\"Range1d\",\"id\":\"p1190\",\"attributes\":{\"end\":35.0}},\"y_range\":{\"type\":\"object\",\"name\":\"Range1d\",\"id\":\"p1191\",\"attributes\":{\"end\":550.0}},\"x_scale\":{\"type\":\"object\",\"name\":\"LinearScale\",\"id\":\"p1192\"},\"y_scale\":{\"type\":\"object\",\"name\":\"LinearScale\",\"id\":\"p1193\"},\"title\":{\"type\":\"object\",\"name\":\"Title\",\"id\":\"p1183\",\"attributes\":{\"text\":\"All jumps in set\",\"text_color\":\"#E0E0E0\",\"text_font\":\"Helvetica\",\"text_font_size\":\"1.15em\"}},\"outline_line_color\":\"#E0E0E0\",\"outline_line_alpha\":0.25,\"renderers\":[{\"type\":\"object\",\"name\":\"GlyphRenderer\",\"id\":\"p1352\",\"attributes\":{\"data_source\":{\"type\":\"object\",\"name\":\"ColumnDataSource\",\"id\":\"p1346\",\"attributes\":{\"selected\":{\"type\":\"object\",\"name\":\"Selection\",\"id\":\"p1347\",\"attributes\":{\"indices\":[],\"line_indices\":[]}},\"selection_policy\":{\"type\":\"object\",\"name\":\"UnionRenderers\",\"id\":\"p1348\"},\"data\":{\"type\":\"map\",\"entries\":[[\"x\",{\"type\":\"ndarray\",\"array\":{\"type\":\"bytes\",\"data\":\"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\"},\"shape\":[191],\"dtype\":\"float64\",\"order\":\"little\"}],[\"y\",{\"type\":\"ndarray\",\"array\":{\"type\":\"bytes\",\"data\":\"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\"},\"shape\":[191],\"dtype\":\"float64\",\"order\":\"little\"}]]}}},\"view\":{\"type\":\"object\",\"name\":\"CDSView\",\"id\":\"p1353\",\"attributes\":{\"filter\":{\"type\":\"object\",\"name\":\"AllIndices\",\"id\":\"p1354\"}}},\"glyph\":{\"type\":\"object\",\"name\":\"Line\",\"id\":\"p1349\",\"attributes\":{\"x\":{\"type\":\"field\",\"field\":\"x\"},\"y\":{\"type\":\"field\",\"field\":\"y\"},\"line_color\":\"blue\",\"line_width\":2}},\"nonselection_glyph\":{\"type\":\"object\",\"name\":\"Line\",\"id\":\"p1350\",\"attributes\":{\"x\":{\"type\":\"field\",\"field\":\"x\"},\"y\":{\"type\":\"field\",\"field\":\"y\"},\"line_color\":\"blue\",\"line_alpha\":0.1,\"line_width\":2}},\"muted_glyph\":{\"type\":\"object\",\"name\":\"Line\",\"id\":\"p1351\",\"attributes\":{\"x\":{\"type\":\"field\",\"field\":\"x\"},\"y\":{\"type\":\"field\",\"field\":\"y\"},\"line_color\":\"blue\",\"line_alpha\":0.2,\"line_width\":2}}}},{\"type\":\"object\",\"name\":\"GlyphRenderer\",\"id\":\"p1494\",\"attributes\":{\"data_source\":{\"type\":\"object\",\"name\":\"ColumnDataSource\",\"id\":\"p1488\",\"attributes\":{\"selected\":{\"type\":\"object\",\"name\":\"Selection\",\"id\":\"p1489\",\"attributes\":{\"indices\":[],\"line_indices\":[]}},\"selection_policy\":{\"type\":\"object\",\"name\":\"UnionRenderers\",\"id\":\"p1490\"},\"data\":{\"type\":\"map\",\"entries\":[[\"x\",{\"type\":\"ndarray\",\"array\":{\"type\":\"bytes\",\"data\":\"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\"},\"shape\":[211],\"dtype\":\"float64\",\"order\":\"little\"}],[\"y\",{\"type\":\"ndarray\",\"array\":{\"type\":\"bytes\",\"data\":\"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\"},\"shape\":[211],\"dtype\":\"float64\",\"order\":\"little\"}]]}}},\"view\":{\"type\":\"object\",\"name\":\"CDSView\",\"id\":\"p1495\",\"attributes\":{\"filter\":{\"type\":\"object\",\"name\":\"AllIndices\",\"id\":\"p1496\"}}},\"glyph\":{\"type\":\"object\",\"name\":\"Line\",\"id\":\"p1491\",\"attributes\":{\"x\":{\"type\":\"field\",\"field\":\"x\"},\"y\":{\"type\":\"field\",\"field\":\"y\"},\"line_color\":\"tomato\",\"line_width\":2}},\"nonselection_glyph\":{\"type\":\"object\",\"name\":\"Line\",\"id\":\"p1492\",\"attributes\":{\"x\":{\"type\":\"field\",\"field\":\"x\"},\"y\":{\"type\":\"field\",\"field\":\"y\"},\"line_color\":\"tomato\",\"line_alpha\":0.1,\"line_width\":2}},\"muted_glyph\":{\"type\":\"object\",\"name\":\"Line\",\"id\":\"p1493\",\"attributes\":{\"x\":{\"type\":\"field\",\"field\":\"x\"},\"y\":{\"type\":\"field\",\"field\":\"y\"},\"line_color\":\"tomato\",\"line_alpha\":0.2,\"line_width\":2}}}}],\"toolbar\":{\"type\":\"object\",\"name\":\"Toolbar\",\"id\":\"p1189\",\"attributes\":{\"tools\":[{\"type\":\"object\",\"name\":\"PanTool\",\"id\":\"p1204\"},{\"type\":\"object\",\"name\":\"WheelZoomTool\",\"id\":\"p1205\",\"attributes\":{\"renderers\":\"auto\"}},{\"type\":\"object\",\"name\":\"BoxZoomTool\",\"id\":\"p1206\",\"attributes\":{\"overlay\":{\"type\":\"object\",\"name\":\"BoxAnnotation\",\"id\":\"p1207\",\"attributes\":{\"syncable\":false,\"level\":\"overlay\",\"visible\":false,\"left\":{\"type\":\"number\",\"value\":\"nan\"},\"right\":{\"type\":\"number\",\"value\":\"nan\"},\"top\":{\"type\":\"number\",\"value\":\"nan\"},\"bottom\":{\"type\":\"number\",\"value\":\"nan\"},\"left_units\":\"canvas\",\"right_units\":\"canvas\",\"top_units\":\"canvas\",\"bottom_units\":\"canvas\",\"line_color\":\"black\",\"line_alpha\":1.0,\"line_width\":2,\"line_dash\":[4,4],\"fill_color\":\"lightgrey\",\"fill_alpha\":0.5}}}},{\"type\":\"object\",\"name\":\"SaveTool\",\"id\":\"p1212\"},{\"type\":\"object\",\"name\":\"ResetTool\",\"id\":\"p1213\"},{\"type\":\"object\",\"name\":\"HelpTool\",\"id\":\"p1214\"}]}},\"left\":[{\"type\":\"object\",\"name\":\"LinearAxis\",\"id\":\"p1199\",\"attributes\":{\"ticker\":{\"type\":\"object\",\"name\":\"BasicTicker\",\"id\":\"p1200\",\"attributes\":{\"mantissas\":[1,2,5]}},\"formatter\":{\"type\":\"object\",\"name\":\"BasicTickFormatter\",\"id\":\"p1201\"},\"axis_label\":\"km/h\",\"axis_label_standoff\":10,\"axis_label_text_color\":\"#E0E0E0\",\"axis_label_text_font\":\"Helvetica\",\"axis_label_text_font_size\":\"1.25em\",\"axis_label_text_font_style\":\"normal\",\"major_label_policy\":{\"type\":\"object\",\"name\":\"AllLabels\",\"id\":\"p1202\"},\"major_label_text_color\":\"#E0E0E0\",\"major_label_text_font\":\"Helvetica\",\"major_label_text_font_size\":\"1.025em\",\"axis_line_color\":\"#E0E0E0\",\"axis_line_alpha\":0,\"major_tick_line_color\":\"#E0E0E0\",\"major_tick_line_alpha\":0,\"minor_tick_line_color\":\"#E0E0E0\",\"minor_tick_line_alpha\":0}}],\"below\":[{\"type\":\"object\",\"name\":\"LinearAxis\",\"id\":\"p1194\",\"attributes\":{\"ticker\":{\"type\":\"object\",\"name\":\"BasicTicker\",\"id\":\"p1195\",\"attributes\":{\"mantissas\":[1,2,5]}},\"formatter\":{\"type\":\"object\",\"name\":\"BasicTickFormatter\",\"id\":\"p1196\"},\"axis_label\":\"seconds from exit\",\"axis_label_standoff\":10,\"axis_label_text_color\":\"#E0E0E0\",\"axis_label_text_font\":\"Helvetica\",\"axis_label_text_font_size\":\"1.25em\",\"axis_label_text_font_style\":\"normal\",\"major_label_policy\":{\"type\":\"object\",\"name\":\"AllLabels\",\"id\":\"p1197\"},\"major_label_text_color\":\"#E0E0E0\",\"major_label_text_font\":\"Helvetica\",\"major_label_text_font_size\":\"1.025em\",\"axis_line_color\":\"#E0E0E0\",\"axis_line_alpha\":0,\"major_tick_line_color\":\"#E0E0E0\",\"major_tick_line_alpha\":0,\"minor_tick_line_color\":\"#E0E0E0\",\"minor_tick_line_alpha\":0}}],\"center\":[{\"type\":\"object\",\"name\":\"Grid\",\"id\":\"p1198\",\"attributes\":{\"axis\":{\"id\":\"p1194\"},\"grid_line_color\":\"#E0E0E0\",\"grid_line_alpha\":0.25}},{\"type\":\"object\",\"name\":\"Grid\",\"id\":\"p1203\",\"attributes\":{\"dimension\":1,\"axis\":{\"id\":\"p1199\"},\"grid_line_color\":\"#E0E0E0\",\"grid_line_alpha\":0.25}},{\"type\":\"object\",\"name\":\"Legend\",\"id\":\"p1355\",\"attributes\":{\"border_line_alpha\":0,\"background_fill_color\":\"#20262B\",\"background_fill_alpha\":0.25,\"label_text_color\":\"#E0E0E0\",\"label_text_font\":\"Helvetica\",\"label_text_font_size\":\"1.025em\",\"label_standoff\":8,\"glyph_width\":15,\"spacing\":8,\"items\":[{\"type\":\"object\",\"name\":\"LegendItem\",\"id\":\"p1356\",\"attributes\":{\"label\":{\"type\":\"value\",\"value\":\"00-00-00-baseline - 480.57\"},\"renderers\":[{\"id\":\"p1352\"}]}},{\"type\":\"object\",\"name\":\"LegendItem\",\"id\":\"p1497\",\"attributes\":{\"label\":{\"type\":\"value\",\"value\":\"12-06-24 - 478.73\"},\"renderers\":[{\"id\":\"p1494\"}]}}]}}],\"background_fill_color\":\"#20262B\",\"border_fill_color\":\"#15191C\"}}]}};\n",
       "  const render_items = [{\"docid\":\"dabc85d3-9f7b-41ac-a378-68281f9cc66f\",\"roots\":{\"p1180\":\"c97e9db3-6f80-4e44-b531-facb77325ab7\"},\"root_ids\":[\"p1180\"]}];\n",
       "  void root.Bokeh.embed.embed_items_notebook(docs_json, render_items);\n",
       "  }\n",
       "  if (root.Bokeh !== undefined) {\n",
       "    embed_document(root);\n",
       "  } else {\n",
       "    let attempts = 0;\n",
       "    const timer = setInterval(function(root) {\n",
       "      if (root.Bokeh !== undefined) {\n",
       "        clearInterval(timer);\n",
       "        embed_document(root);\n",
       "      } else {\n",
       "        attempts++;\n",
       "        if (attempts > 100) {\n",
       "          clearInterval(timer);\n",
       "          console.log(\"Bokeh: ERROR: Unable to run BokehJS code because BokehJS library is missing\");\n",
       "        }\n",
       "      }\n",
       "    }, 10, root)\n",
       "  }\n",
       "})(window);"
      ],
      "application/vnd.bokehjs_exec.v0+json": ""
     },
     "metadata": {
      "application/vnd.bokehjs_exec.v0+json": {
       "id": "p1180"
      }
     },
     "output_type": "display_data"
    }
   ],
   "source": [
    "display(roundedResults)\n",
    "display(sumResults)\n",
    "bp.show(allJumpsPlot)"
   ]
  }
 ],
 "metadata": {
  "kernelspec": {
   "display_name": "Python 3 (ipykernel)",
   "language": "python",
   "name": "python3"
  },
  "language_info": {
   "codemirror_mode": {
    "name": "ipython",
    "version": 3
   },
   "file_extension": ".py",
   "mimetype": "text/x-python",
   "name": "python",
   "nbconvert_exporter": "python",
   "pygments_lexer": "ipython3",
   "version": "3.11.9"
  }
 },
 "nbformat": 4,
 "nbformat_minor": 5
}
