{
 "cells": [
  {
   "cell_type": "markdown",
   "id": "36a745d9-2003-496e-a394-290f63a970b7",
   "metadata": {},
   "source": [
    "# Speed Skydiving scoring bulk files processor\n",
    "Uses the `./data` directory as a data lake.  It finds all valid FlySight files in that directory, from 0 to as many as it finds and fit in memory, and process them all.  Summary of \"all files\" or \"all jumps\" at the bottom of the document."
   ]
  },
  {
   "cell_type": "code",
   "execution_count": 1,
   "id": "98c7a164-9492-4672-904b-5bf3abf61773",
   "metadata": {
    "jupyter": {
     "source_hidden": true
    }
   },
   "outputs": [
    {
     "data": {
      "application/javascript": [
       "'use strict';\n",
       "(function(root) {\n",
       "  function now() {\n",
       "    return new Date();\n",
       "  }\n",
       "\n",
       "  const force = true;\n",
       "\n",
       "  if (typeof root._bokeh_onload_callbacks === \"undefined\" || force === true) {\n",
       "    root._bokeh_onload_callbacks = [];\n",
       "    root._bokeh_is_loading = undefined;\n",
       "  }\n",
       "\n",
       "const JS_MIME_TYPE = 'application/javascript';\n",
       "  const HTML_MIME_TYPE = 'text/html';\n",
       "  const EXEC_MIME_TYPE = 'application/vnd.bokehjs_exec.v0+json';\n",
       "  const CLASS_NAME = 'output_bokeh rendered_html';\n",
       "\n",
       "  /**\n",
       "   * Render data to the DOM node\n",
       "   */\n",
       "  function render(props, node) {\n",
       "    const script = document.createElement(\"script\");\n",
       "    node.appendChild(script);\n",
       "  }\n",
       "\n",
       "  /**\n",
       "   * Handle when an output is cleared or removed\n",
       "   */\n",
       "  function handleClearOutput(event, handle) {\n",
       "    function drop(id) {\n",
       "      const view = Bokeh.index.get_by_id(id)\n",
       "      if (view != null) {\n",
       "        view.model.document.clear()\n",
       "        Bokeh.index.delete(view)\n",
       "      }\n",
       "    }\n",
       "\n",
       "    const cell = handle.cell;\n",
       "\n",
       "    const id = cell.output_area._bokeh_element_id;\n",
       "    const server_id = cell.output_area._bokeh_server_id;\n",
       "\n",
       "    // Clean up Bokeh references\n",
       "    if (id != null) {\n",
       "      drop(id)\n",
       "    }\n",
       "\n",
       "    if (server_id !== undefined) {\n",
       "      // Clean up Bokeh references\n",
       "      const cmd_clean = \"from bokeh.io.state import curstate; print(curstate().uuid_to_server['\" + server_id + \"'].get_sessions()[0].document.roots[0]._id)\";\n",
       "      cell.notebook.kernel.execute(cmd_clean, {\n",
       "        iopub: {\n",
       "          output: function(msg) {\n",
       "            const id = msg.content.text.trim()\n",
       "            drop(id)\n",
       "          }\n",
       "        }\n",
       "      });\n",
       "      // Destroy server and session\n",
       "      const cmd_destroy = \"import bokeh.io.notebook as ion; ion.destroy_server('\" + server_id + \"')\";\n",
       "      cell.notebook.kernel.execute(cmd_destroy);\n",
       "    }\n",
       "  }\n",
       "\n",
       "  /**\n",
       "   * Handle when a new output is added\n",
       "   */\n",
       "  function handleAddOutput(event, handle) {\n",
       "    const output_area = handle.output_area;\n",
       "    const output = handle.output;\n",
       "\n",
       "    // limit handleAddOutput to display_data with EXEC_MIME_TYPE content only\n",
       "    if ((output.output_type != \"display_data\") || (!Object.prototype.hasOwnProperty.call(output.data, EXEC_MIME_TYPE))) {\n",
       "      return\n",
       "    }\n",
       "\n",
       "    const toinsert = output_area.element.find(\".\" + CLASS_NAME.split(' ')[0]);\n",
       "\n",
       "    if (output.metadata[EXEC_MIME_TYPE][\"id\"] !== undefined) {\n",
       "      toinsert[toinsert.length - 1].firstChild.textContent = output.data[JS_MIME_TYPE];\n",
       "      // store reference to embed id on output_area\n",
       "      output_area._bokeh_element_id = output.metadata[EXEC_MIME_TYPE][\"id\"];\n",
       "    }\n",
       "    if (output.metadata[EXEC_MIME_TYPE][\"server_id\"] !== undefined) {\n",
       "      const bk_div = document.createElement(\"div\");\n",
       "      bk_div.innerHTML = output.data[HTML_MIME_TYPE];\n",
       "      const script_attrs = bk_div.children[0].attributes;\n",
       "      for (let i = 0; i < script_attrs.length; i++) {\n",
       "        toinsert[toinsert.length - 1].firstChild.setAttribute(script_attrs[i].name, script_attrs[i].value);\n",
       "        toinsert[toinsert.length - 1].firstChild.textContent = bk_div.children[0].textContent\n",
       "      }\n",
       "      // store reference to server id on output_area\n",
       "      output_area._bokeh_server_id = output.metadata[EXEC_MIME_TYPE][\"server_id\"];\n",
       "    }\n",
       "  }\n",
       "\n",
       "  function register_renderer(events, OutputArea) {\n",
       "\n",
       "    function append_mime(data, metadata, element) {\n",
       "      // create a DOM node to render to\n",
       "      const toinsert = this.create_output_subarea(\n",
       "        metadata,\n",
       "        CLASS_NAME,\n",
       "        EXEC_MIME_TYPE\n",
       "      );\n",
       "      this.keyboard_manager.register_events(toinsert);\n",
       "      // Render to node\n",
       "      const props = {data: data, metadata: metadata[EXEC_MIME_TYPE]};\n",
       "      render(props, toinsert[toinsert.length - 1]);\n",
       "      element.append(toinsert);\n",
       "      return toinsert\n",
       "    }\n",
       "\n",
       "    /* Handle when an output is cleared or removed */\n",
       "    events.on('clear_output.CodeCell', handleClearOutput);\n",
       "    events.on('delete.Cell', handleClearOutput);\n",
       "\n",
       "    /* Handle when a new output is added */\n",
       "    events.on('output_added.OutputArea', handleAddOutput);\n",
       "\n",
       "    /**\n",
       "     * Register the mime type and append_mime function with output_area\n",
       "     */\n",
       "    OutputArea.prototype.register_mime_type(EXEC_MIME_TYPE, append_mime, {\n",
       "      /* Is output safe? */\n",
       "      safe: true,\n",
       "      /* Index of renderer in `output_area.display_order` */\n",
       "      index: 0\n",
       "    });\n",
       "  }\n",
       "\n",
       "  // register the mime type if in Jupyter Notebook environment and previously unregistered\n",
       "  if (root.Jupyter !== undefined) {\n",
       "    const events = require('base/js/events');\n",
       "    const OutputArea = require('notebook/js/outputarea').OutputArea;\n",
       "\n",
       "    if (OutputArea.prototype.mime_types().indexOf(EXEC_MIME_TYPE) == -1) {\n",
       "      register_renderer(events, OutputArea);\n",
       "    }\n",
       "  }\n",
       "  if (typeof (root._bokeh_timeout) === \"undefined\" || force === true) {\n",
       "    root._bokeh_timeout = Date.now() + 5000;\n",
       "    root._bokeh_failed_load = false;\n",
       "  }\n",
       "\n",
       "  const NB_LOAD_WARNING = {'data': {'text/html':\n",
       "     \"<div style='background-color: #fdd'>\\n\"+\n",
       "     \"<p>\\n\"+\n",
       "     \"BokehJS does not appear to have successfully loaded. If loading BokehJS from CDN, this \\n\"+\n",
       "     \"may be due to a slow or bad network connection. Possible fixes:\\n\"+\n",
       "     \"</p>\\n\"+\n",
       "     \"<ul>\\n\"+\n",
       "     \"<li>re-rerun `output_notebook()` to attempt to load from CDN again, or</li>\\n\"+\n",
       "     \"<li>use INLINE resources instead, as so:</li>\\n\"+\n",
       "     \"</ul>\\n\"+\n",
       "     \"<code>\\n\"+\n",
       "     \"from bokeh.resources import INLINE\\n\"+\n",
       "     \"output_notebook(resources=INLINE)\\n\"+\n",
       "     \"</code>\\n\"+\n",
       "     \"</div>\"}};\n",
       "\n",
       "  function display_loaded(error = null) {\n",
       "    const el = document.getElementById(null);\n",
       "    if (el != null) {\n",
       "      const html = (() => {\n",
       "        if (typeof root.Bokeh === \"undefined\") {\n",
       "          if (error == null) {\n",
       "            return \"BokehJS is loading ...\";\n",
       "          } else {\n",
       "            return \"BokehJS failed to load.\";\n",
       "          }\n",
       "        } else {\n",
       "          const prefix = `BokehJS ${root.Bokeh.version}`;\n",
       "          if (error == null) {\n",
       "            return `${prefix} successfully loaded.`;\n",
       "          } else {\n",
       "            return `${prefix} <b>encountered errors</b> while loading and may not function as expected.`;\n",
       "          }\n",
       "        }\n",
       "      })();\n",
       "      el.innerHTML = html;\n",
       "\n",
       "      if (error != null) {\n",
       "        const wrapper = document.createElement(\"div\");\n",
       "        wrapper.style.overflow = \"auto\";\n",
       "        wrapper.style.height = \"5em\";\n",
       "        wrapper.style.resize = \"vertical\";\n",
       "        const content = document.createElement(\"div\");\n",
       "        content.style.fontFamily = \"monospace\";\n",
       "        content.style.whiteSpace = \"pre-wrap\";\n",
       "        content.style.backgroundColor = \"rgb(255, 221, 221)\";\n",
       "        content.textContent = error.stack ?? error.toString();\n",
       "        wrapper.append(content);\n",
       "        el.append(wrapper);\n",
       "      }\n",
       "    } else if (Date.now() < root._bokeh_timeout) {\n",
       "      setTimeout(() => display_loaded(error), 100);\n",
       "    }\n",
       "  }\n",
       "\n",
       "  function run_callbacks() {\n",
       "    try {\n",
       "      root._bokeh_onload_callbacks.forEach(function(callback) {\n",
       "        if (callback != null)\n",
       "          callback();\n",
       "      });\n",
       "    } finally {\n",
       "      delete root._bokeh_onload_callbacks\n",
       "    }\n",
       "    console.debug(\"Bokeh: all callbacks have finished\");\n",
       "  }\n",
       "\n",
       "  function load_libs(css_urls, js_urls, callback) {\n",
       "    if (css_urls == null) css_urls = [];\n",
       "    if (js_urls == null) js_urls = [];\n",
       "\n",
       "    root._bokeh_onload_callbacks.push(callback);\n",
       "    if (root._bokeh_is_loading > 0) {\n",
       "      console.debug(\"Bokeh: BokehJS is being loaded, scheduling callback at\", now());\n",
       "      return null;\n",
       "    }\n",
       "    if (js_urls == null || js_urls.length === 0) {\n",
       "      run_callbacks();\n",
       "      return null;\n",
       "    }\n",
       "    console.debug(\"Bokeh: BokehJS not loaded, scheduling load and callback at\", now());\n",
       "    root._bokeh_is_loading = css_urls.length + js_urls.length;\n",
       "\n",
       "    function on_load() {\n",
       "      root._bokeh_is_loading--;\n",
       "      if (root._bokeh_is_loading === 0) {\n",
       "        console.debug(\"Bokeh: all BokehJS libraries/stylesheets loaded\");\n",
       "        run_callbacks()\n",
       "      }\n",
       "    }\n",
       "\n",
       "    function on_error(url) {\n",
       "      console.error(\"failed to load \" + url);\n",
       "    }\n",
       "\n",
       "    for (let i = 0; i < css_urls.length; i++) {\n",
       "      const url = css_urls[i];\n",
       "      const element = document.createElement(\"link\");\n",
       "      element.onload = on_load;\n",
       "      element.onerror = on_error.bind(null, url);\n",
       "      element.rel = \"stylesheet\";\n",
       "      element.type = \"text/css\";\n",
       "      element.href = url;\n",
       "      console.debug(\"Bokeh: injecting link tag for BokehJS stylesheet: \", url);\n",
       "      document.body.appendChild(element);\n",
       "    }\n",
       "\n",
       "    for (let i = 0; i < js_urls.length; i++) {\n",
       "      const url = js_urls[i];\n",
       "      const element = document.createElement('script');\n",
       "      element.onload = on_load;\n",
       "      element.onerror = on_error.bind(null, url);\n",
       "      element.async = false;\n",
       "      element.src = url;\n",
       "      console.debug(\"Bokeh: injecting script tag for BokehJS library: \", url);\n",
       "      document.head.appendChild(element);\n",
       "    }\n",
       "  };\n",
       "\n",
       "  function inject_raw_css(css) {\n",
       "    const element = document.createElement(\"style\");\n",
       "    element.appendChild(document.createTextNode(css));\n",
       "    document.body.appendChild(element);\n",
       "  }\n",
       "\n",
       "  const js_urls = [\"https://cdn.bokeh.org/bokeh/release/bokeh-3.4.1.min.js\", \"https://cdn.bokeh.org/bokeh/release/bokeh-gl-3.4.1.min.js\", \"https://cdn.bokeh.org/bokeh/release/bokeh-widgets-3.4.1.min.js\", \"https://cdn.bokeh.org/bokeh/release/bokeh-tables-3.4.1.min.js\", \"https://cdn.bokeh.org/bokeh/release/bokeh-mathjax-3.4.1.min.js\"];\n",
       "  const css_urls = [];\n",
       "\n",
       "  const inline_js = [    function(Bokeh) {\n",
       "      Bokeh.set_log_level(\"info\");\n",
       "    },\n",
       "function(Bokeh) {\n",
       "    }\n",
       "  ];\n",
       "\n",
       "  function run_inline_js() {\n",
       "    if (root.Bokeh !== undefined || force === true) {\n",
       "      try {\n",
       "            for (let i = 0; i < inline_js.length; i++) {\n",
       "      inline_js[i].call(root, root.Bokeh);\n",
       "    }\n",
       "\n",
       "      } catch (error) {throw error;\n",
       "      }} else if (Date.now() < root._bokeh_timeout) {\n",
       "      setTimeout(run_inline_js, 100);\n",
       "    } else if (!root._bokeh_failed_load) {\n",
       "      console.log(\"Bokeh: BokehJS failed to load within specified timeout.\");\n",
       "      root._bokeh_failed_load = true;\n",
       "    } else if (force !== true) {\n",
       "      const cell = $(document.getElementById(null)).parents('.cell').data().cell;\n",
       "      cell.output_area.append_execute_result(NB_LOAD_WARNING)\n",
       "    }\n",
       "  }\n",
       "\n",
       "  if (root._bokeh_is_loading === 0) {\n",
       "    console.debug(\"Bokeh: BokehJS loaded, going straight to plotting\");\n",
       "    run_inline_js();\n",
       "  } else {\n",
       "    load_libs(css_urls, js_urls, function() {\n",
       "      console.debug(\"Bokeh: BokehJS plotting callback run at\", now());\n",
       "      run_inline_js();\n",
       "    });\n",
       "  }\n",
       "}(window));"
      ],
      "application/vnd.bokehjs_load.v0+json": "'use strict';\n(function(root) {\n  function now() {\n    return new Date();\n  }\n\n  const force = true;\n\n  if (typeof root._bokeh_onload_callbacks === \"undefined\" || force === true) {\n    root._bokeh_onload_callbacks = [];\n    root._bokeh_is_loading = undefined;\n  }\n\n\n  if (typeof (root._bokeh_timeout) === \"undefined\" || force === true) {\n    root._bokeh_timeout = Date.now() + 5000;\n    root._bokeh_failed_load = false;\n  }\n\n  const NB_LOAD_WARNING = {'data': {'text/html':\n     \"<div style='background-color: #fdd'>\\n\"+\n     \"<p>\\n\"+\n     \"BokehJS does not appear to have successfully loaded. If loading BokehJS from CDN, this \\n\"+\n     \"may be due to a slow or bad network connection. Possible fixes:\\n\"+\n     \"</p>\\n\"+\n     \"<ul>\\n\"+\n     \"<li>re-rerun `output_notebook()` to attempt to load from CDN again, or</li>\\n\"+\n     \"<li>use INLINE resources instead, as so:</li>\\n\"+\n     \"</ul>\\n\"+\n     \"<code>\\n\"+\n     \"from bokeh.resources import INLINE\\n\"+\n     \"output_notebook(resources=INLINE)\\n\"+\n     \"</code>\\n\"+\n     \"</div>\"}};\n\n  function display_loaded(error = null) {\n    const el = document.getElementById(null);\n    if (el != null) {\n      const html = (() => {\n        if (typeof root.Bokeh === \"undefined\") {\n          if (error == null) {\n            return \"BokehJS is loading ...\";\n          } else {\n            return \"BokehJS failed to load.\";\n          }\n        } else {\n          const prefix = `BokehJS ${root.Bokeh.version}`;\n          if (error == null) {\n            return `${prefix} successfully loaded.`;\n          } else {\n            return `${prefix} <b>encountered errors</b> while loading and may not function as expected.`;\n          }\n        }\n      })();\n      el.innerHTML = html;\n\n      if (error != null) {\n        const wrapper = document.createElement(\"div\");\n        wrapper.style.overflow = \"auto\";\n        wrapper.style.height = \"5em\";\n        wrapper.style.resize = \"vertical\";\n        const content = document.createElement(\"div\");\n        content.style.fontFamily = \"monospace\";\n        content.style.whiteSpace = \"pre-wrap\";\n        content.style.backgroundColor = \"rgb(255, 221, 221)\";\n        content.textContent = error.stack ?? error.toString();\n        wrapper.append(content);\n        el.append(wrapper);\n      }\n    } else if (Date.now() < root._bokeh_timeout) {\n      setTimeout(() => display_loaded(error), 100);\n    }\n  }\n\n  function run_callbacks() {\n    try {\n      root._bokeh_onload_callbacks.forEach(function(callback) {\n        if (callback != null)\n          callback();\n      });\n    } finally {\n      delete root._bokeh_onload_callbacks\n    }\n    console.debug(\"Bokeh: all callbacks have finished\");\n  }\n\n  function load_libs(css_urls, js_urls, callback) {\n    if (css_urls == null) css_urls = [];\n    if (js_urls == null) js_urls = [];\n\n    root._bokeh_onload_callbacks.push(callback);\n    if (root._bokeh_is_loading > 0) {\n      console.debug(\"Bokeh: BokehJS is being loaded, scheduling callback at\", now());\n      return null;\n    }\n    if (js_urls == null || js_urls.length === 0) {\n      run_callbacks();\n      return null;\n    }\n    console.debug(\"Bokeh: BokehJS not loaded, scheduling load and callback at\", now());\n    root._bokeh_is_loading = css_urls.length + js_urls.length;\n\n    function on_load() {\n      root._bokeh_is_loading--;\n      if (root._bokeh_is_loading === 0) {\n        console.debug(\"Bokeh: all BokehJS libraries/stylesheets loaded\");\n        run_callbacks()\n      }\n    }\n\n    function on_error(url) {\n      console.error(\"failed to load \" + url);\n    }\n\n    for (let i = 0; i < css_urls.length; i++) {\n      const url = css_urls[i];\n      const element = document.createElement(\"link\");\n      element.onload = on_load;\n      element.onerror = on_error.bind(null, url);\n      element.rel = \"stylesheet\";\n      element.type = \"text/css\";\n      element.href = url;\n      console.debug(\"Bokeh: injecting link tag for BokehJS stylesheet: \", url);\n      document.body.appendChild(element);\n    }\n\n    for (let i = 0; i < js_urls.length; i++) {\n      const url = js_urls[i];\n      const element = document.createElement('script');\n      element.onload = on_load;\n      element.onerror = on_error.bind(null, url);\n      element.async = false;\n      element.src = url;\n      console.debug(\"Bokeh: injecting script tag for BokehJS library: \", url);\n      document.head.appendChild(element);\n    }\n  };\n\n  function inject_raw_css(css) {\n    const element = document.createElement(\"style\");\n    element.appendChild(document.createTextNode(css));\n    document.body.appendChild(element);\n  }\n\n  const js_urls = [\"https://cdn.bokeh.org/bokeh/release/bokeh-3.4.1.min.js\", \"https://cdn.bokeh.org/bokeh/release/bokeh-gl-3.4.1.min.js\", \"https://cdn.bokeh.org/bokeh/release/bokeh-widgets-3.4.1.min.js\", \"https://cdn.bokeh.org/bokeh/release/bokeh-tables-3.4.1.min.js\", \"https://cdn.bokeh.org/bokeh/release/bokeh-mathjax-3.4.1.min.js\"];\n  const css_urls = [];\n\n  const inline_js = [    function(Bokeh) {\n      Bokeh.set_log_level(\"info\");\n    },\nfunction(Bokeh) {\n    }\n  ];\n\n  function run_inline_js() {\n    if (root.Bokeh !== undefined || force === true) {\n      try {\n            for (let i = 0; i < inline_js.length; i++) {\n      inline_js[i].call(root, root.Bokeh);\n    }\n\n      } catch (error) {throw error;\n      }} else if (Date.now() < root._bokeh_timeout) {\n      setTimeout(run_inline_js, 100);\n    } else if (!root._bokeh_failed_load) {\n      console.log(\"Bokeh: BokehJS failed to load within specified timeout.\");\n      root._bokeh_failed_load = true;\n    } else if (force !== true) {\n      const cell = $(document.getElementById(null)).parents('.cell').data().cell;\n      cell.output_area.append_execute_result(NB_LOAD_WARNING)\n    }\n  }\n\n  if (root._bokeh_is_loading === 0) {\n    console.debug(\"Bokeh: BokehJS loaded, going straight to plotting\");\n    run_inline_js();\n  } else {\n    load_libs(css_urls, js_urls, function() {\n      console.debug(\"Bokeh: BokehJS plotting callback run at\", now());\n      run_inline_js();\n    });\n  }\n}(window));"
     },
     "metadata": {},
     "output_type": "display_data"
    }
   ],
   "source": [
    "from collections import namedtuple\n",
    "from copy import deepcopy\n",
    "\n",
    "from ssscoring.constants import BREAKOFF_ALTITUDE\n",
    "from ssscoring.constants import FT_IN_M\n",
    "from ssscoring.constants import PERFORMANCE_WINDOW_LENGTH\n",
    "from ssscoring.fs1 import aggregateResults\n",
    "from ssscoring.fs1 import convertFlySight2SSScoring\n",
    "from ssscoring.fs1 import dropNonSkydiveDataFrom\n",
    "from ssscoring.fs1 import getAllSpeedJumpFilesFrom\n",
    "from ssscoring.fs1 import getSpeedSkydiveFrom\n",
    "from ssscoring.fs1 import isValidJump\n",
    "from ssscoring.fs1 import isValidMinimumAltitude\n",
    "from ssscoring.fs1 import jumpAnalysisTable\n",
    "from ssscoring.fs1 import processAllJumpFiles\n",
    "from ssscoring.fs1 import roundedAggregateResults\n",
    "from ssscoring.fs1 import totalResultsFrom\n",
    "from ssscoring.fs1 import validFlySightHeaderIn\n",
    "from ssscoring.notebook import SPEED_COLORS\n",
    "from ssscoring.notebook import graphAltitude\n",
    "from ssscoring.notebook import graphAngle\n",
    "from ssscoring.notebook import graphJumpResult\n",
    "from ssscoring.notebook import initializeExtraYRanges\n",
    "from ssscoring.notebook import initializePlot\n",
    "\n",
    "import csv\n",
    "import os\n",
    "import os.path as path\n",
    "\n",
    "import bokeh.plotting as bp\n",
    "import bokeh.models as bm\n",
    "import ipywidgets as widgets\n",
    "import pandas as pd"
   ]
  },
  {
   "cell_type": "code",
   "execution_count": 2,
   "id": "ef1d2bf0-eaf3-4d78-b6c0-fb1bb4ed10f1",
   "metadata": {
    "jupyter": {
     "source_hidden": true
    }
   },
   "outputs": [],
   "source": [
    "DATA_LAKE_ROOT = './data'"
   ]
  },
  {
   "cell_type": "markdown",
   "id": "d52db03d-d83b-4af3-9137-3011537e5ed8",
   "metadata": {},
   "source": [
    "---\n",
    "## <span style=\"color: yellow\">IMPORTANT</span> - Set the drop zone altitude MSL\n",
    "\n",
    "Set the value in ft (even though SSScoring uses meters) out of convenience because all DZs in the US, many in Asia and Mexico, and many in Europe express the altitude in feet.\n",
    "\n",
    "### Some DZs\n",
    "\n",
    "| Drop zone | Alt (ft) |\n",
    "|-----------|----------|\n",
    "| Bay Area Skydiving | 23 |\n",
    "| Skydive Arizona | 1509 |\n",
    "| Thai Sky Adventures | 21 |"
   ]
  },
  {
   "cell_type": "code",
   "execution_count": 3,
   "id": "5c95013a-4aa3-4a5e-9493-b945ead10ced",
   "metadata": {},
   "outputs": [],
   "source": [
    "dropZoneAltMSL = 23"
   ]
  },
  {
   "cell_type": "code",
   "execution_count": 4,
   "id": "1f091813-03b0-45bc-a30e-704fac7f968a",
   "metadata": {},
   "outputs": [
    {
     "data": {
      "application/vnd.jupyter.widget-view+json": {
       "model_id": "45ca9790705f43d5a3945e5304a2e650",
       "version_major": 2,
       "version_minor": 0
      },
      "text/plain": [
       "HTML(value='<h2>DZ Altitude = <span style = \"color: green\">  23.00 ft</span> (   7.01 m)<h1>')"
      ]
     },
     "metadata": {},
     "output_type": "display_data"
    }
   ],
   "source": [
    "dropZoneAltMSLMeters = dropZoneAltMSL/FT_IN_M\n",
    "display(widgets.HTML('<h2>DZ Altitude = <span style = \"color: green\">%7.2f ft</span> (%7.2f m)<h1>' % (dropZoneAltMSL, dropZoneAltMSLMeters)))"
   ]
  },
  {
   "cell_type": "code",
   "execution_count": 5,
   "id": "b1273b5c-44c1-46c2-a125-d01ad9268a1a",
   "metadata": {},
   "outputs": [],
   "source": [
    "jumpFiles = getAllSpeedJumpFilesFrom(DATA_LAKE_ROOT)"
   ]
  },
  {
   "cell_type": "code",
   "execution_count": 6,
   "id": "53a5fe5a-dd39-40d3-bfbf-d7048374e4ea",
   "metadata": {},
   "outputs": [],
   "source": [
    "jumpResults = processAllJumpFiles(jumpFiles, altitudeDZMeters = dropZoneAltMSLMeters)"
   ]
  },
  {
   "cell_type": "markdown",
   "id": "d80518ef-f197-4e40-a74e-8089eecb725a",
   "metadata": {},
   "source": [
    "---\n",
    "## Results"
   ]
  },
  {
   "cell_type": "code",
   "execution_count": 7,
   "id": "27c12cb1-2f60-44c9-b8fa-998b3df9d878",
   "metadata": {},
   "outputs": [
    {
     "data": {
      "text/html": [
       "<div>\n",
       "<style scoped>\n",
       "    .dataframe tbody tr th:only-of-type {\n",
       "        vertical-align: middle;\n",
       "    }\n",
       "\n",
       "    .dataframe tbody tr th {\n",
       "        vertical-align: top;\n",
       "    }\n",
       "\n",
       "    .dataframe thead th {\n",
       "        text-align: right;\n",
       "    }\n",
       "</style>\n",
       "<table border=\"1\" class=\"dataframe\">\n",
       "  <thead>\n",
       "    <tr style=\"text-align: right;\">\n",
       "      <th></th>\n",
       "      <th>score</th>\n",
       "      <th>5.0</th>\n",
       "      <th>10.0</th>\n",
       "      <th>15.0</th>\n",
       "      <th>20.0</th>\n",
       "      <th>25.0</th>\n",
       "      <th>finalTime</th>\n",
       "      <th>maxSpeed</th>\n",
       "    </tr>\n",
       "  </thead>\n",
       "  <tbody>\n",
       "    <tr>\n",
       "      <th>00-00-00-EC-baseline</th>\n",
       "      <td>472.446</td>\n",
       "      <td>177.048</td>\n",
       "      <td>295.560</td>\n",
       "      <td>397.872</td>\n",
       "      <td>457.092</td>\n",
       "      <td>475.164</td>\n",
       "      <td>25.0</td>\n",
       "      <td>476.712</td>\n",
       "    </tr>\n",
       "    <tr>\n",
       "      <th>11-07-54</th>\n",
       "      <td>464.094</td>\n",
       "      <td>160.632</td>\n",
       "      <td>302.076</td>\n",
       "      <td>408.600</td>\n",
       "      <td>457.164</td>\n",
       "      <td>464.112</td>\n",
       "      <td>25.0</td>\n",
       "      <td>465.804</td>\n",
       "    </tr>\n",
       "    <tr>\n",
       "      <th>12-08-44</th>\n",
       "      <td>457.524</td>\n",
       "      <td>172.332</td>\n",
       "      <td>290.232</td>\n",
       "      <td>386.100</td>\n",
       "      <td>439.560</td>\n",
       "      <td>459.792</td>\n",
       "      <td>25.0</td>\n",
       "      <td>460.152</td>\n",
       "    </tr>\n",
       "  </tbody>\n",
       "</table>\n",
       "</div>"
      ],
      "text/plain": [
       "                        score      5.0     10.0     15.0     20.0     25.0  \\\n",
       "00-00-00-EC-baseline  472.446  177.048  295.560  397.872  457.092  475.164   \n",
       "11-07-54              464.094  160.632  302.076  408.600  457.164  464.112   \n",
       "12-08-44              457.524  172.332  290.232  386.100  439.560  459.792   \n",
       "\n",
       "                      finalTime  maxSpeed  \n",
       "00-00-00-EC-baseline       25.0   476.712  \n",
       "11-07-54                   25.0   465.804  \n",
       "12-08-44                   25.0   460.152  "
      ]
     },
     "metadata": {},
     "output_type": "display_data"
    }
   ],
   "source": [
    "aggregate = aggregateResults(jumpResults)\n",
    "sumResults = totalResultsFrom(aggregate)\n",
    "display(aggregate)"
   ]
  },
  {
   "cell_type": "markdown",
   "id": "3fa8c207-b9cf-4275-ba37-5103e1b324a9",
   "metadata": {},
   "source": [
    "### Rounded results for training log"
   ]
  },
  {
   "cell_type": "code",
   "execution_count": 8,
   "id": "e2bfbc21-3121-436a-904f-547edb0f2d0c",
   "metadata": {},
   "outputs": [],
   "source": [
    "roundedResults = roundedAggregateResults(jumpResults)"
   ]
  },
  {
   "cell_type": "markdown",
   "id": "faf1396d-1030-477e-9d87-5c167b61328f",
   "metadata": {},
   "source": [
    "### All jumps"
   ]
  },
  {
   "cell_type": "code",
   "execution_count": 9,
   "id": "5a0571fd-5a22-4dda-94aa-56a4f2c68098",
   "metadata": {
    "jupyter": {
     "source_hidden": true
    }
   },
   "outputs": [],
   "source": [
    "def dumpSimple(table: pd.DataFrame):\n",
    "    fileName = os.path.join(DATA_LAKE_ROOT, resultRef+'.tsv')\n",
    "    simpleTable = table.copy()\n",
    "    simpleTable = simpleTable.drop('speedAngle', axis = 1)\n",
    "    simpleTable.to_csv(fileName, sep = '\\t', index = False)"
   ]
  },
  {
   "cell_type": "code",
   "execution_count": 10,
   "id": "59ff50f6-4f29-4282-a55f-af524921af19",
   "metadata": {
    "jupyter": {
     "source_hidden": true
    }
   },
   "outputs": [],
   "source": [
    "def displayJumpDataIn(resultsTable: pd.DataFrame):\n",
    "    table = resultsTable.copy()\n",
    "    # Experimental\n",
    "    # For more information on the `interpolate` method and its options, see the [pandas documentation](https://pandas.pydata.org/pandas-docs/stable/reference/api/pandas.Series.interpolate.html).\n",
    "    # Additionally, you can also consider using other libraries like `scipy` which provides more advanced interpolation methods, such as `interp1d` or `griddata`. See the [scipy documentation](https://docs.scipy.org/doc/scipy/reference/interpolate.html) for more information.\n",
    "    table.vKMh = table.vKMh.apply(round)\n",
    "    table.hKMh = table.hKMh.apply(round)\n",
    "    table['altitude (ft)'] = table['altitude (ft)'].apply(round)\n",
    "    table.netVectorKMh = table.netVectorKMh.apply(round)\n",
    "    table.index = ['']*len(table)\n",
    "    display(table)\n",
    "    # dumpSimple(table)"
   ]
  },
  {
   "cell_type": "code",
   "execution_count": 11,
   "id": "888f2fce-1e7a-4728-b86d-7975c37e75c2",
   "metadata": {
    "jupyter": {
     "source_hidden": true
    }
   },
   "outputs": [
    {
     "data": {
      "application/vnd.jupyter.widget-view+json": {
       "model_id": "fa1f54c0ceab4983a109dce23c434b87",
       "version_major": 2,
       "version_minor": 0
      },
      "text/plain": [
       "HTML(value='<hr><h1><span style=\"color: #0f0\">00-00-00-EC-baseline jump - 🟢 valid - score = 472.45 km/h</span>…"
      ]
     },
     "metadata": {},
     "output_type": "display_data"
    },
    {
     "data": {
      "application/vnd.jupyter.widget-view+json": {
       "model_id": "45ab93289fad4ff1a92c2badefc3822b",
       "version_major": 2,
       "version_minor": 0
      },
      "text/plain": [
       "HTML(value='<h3>Max speed = 477; exit at 4237 m (13902 ft), end scoring window at 1981 m (6500 ft)')"
      ]
     },
     "metadata": {},
     "output_type": "display_data"
    },
    {
     "data": {
      "application/vnd.jupyter.widget-view+json": {
       "model_id": "74ae958c64ed473aa42f648794967072",
       "version_major": 2,
       "version_minor": 0
      },
      "text/plain": [
       "HTML(value='</h3>')"
      ]
     },
     "metadata": {},
     "output_type": "display_data"
    },
    {
     "data": {
      "text/html": [
       "<div>\n",
       "<style scoped>\n",
       "    .dataframe tbody tr th:only-of-type {\n",
       "        vertical-align: middle;\n",
       "    }\n",
       "\n",
       "    .dataframe tbody tr th {\n",
       "        vertical-align: top;\n",
       "    }\n",
       "\n",
       "    .dataframe thead th {\n",
       "        text-align: right;\n",
       "    }\n",
       "</style>\n",
       "<table border=\"1\" class=\"dataframe\">\n",
       "  <thead>\n",
       "    <tr style=\"text-align: right;\">\n",
       "      <th></th>\n",
       "      <th>time</th>\n",
       "      <th>vKMh</th>\n",
       "      <th>hKMh</th>\n",
       "      <th>speedAngle</th>\n",
       "      <th>netVectorKMh</th>\n",
       "      <th>altitude (ft)</th>\n",
       "    </tr>\n",
       "  </thead>\n",
       "  <tbody>\n",
       "    <tr>\n",
       "      <th></th>\n",
       "      <td>5.0</td>\n",
       "      <td>177</td>\n",
       "      <td>78</td>\n",
       "      <td>66.2</td>\n",
       "      <td>193</td>\n",
       "      <td>13475</td>\n",
       "    </tr>\n",
       "    <tr>\n",
       "      <th></th>\n",
       "      <td>10.0</td>\n",
       "      <td>296</td>\n",
       "      <td>68</td>\n",
       "      <td>77.0</td>\n",
       "      <td>303</td>\n",
       "      <td>12383</td>\n",
       "    </tr>\n",
       "    <tr>\n",
       "      <th></th>\n",
       "      <td>15.0</td>\n",
       "      <td>398</td>\n",
       "      <td>78</td>\n",
       "      <td>78.8</td>\n",
       "      <td>406</td>\n",
       "      <td>10791</td>\n",
       "    </tr>\n",
       "    <tr>\n",
       "      <th></th>\n",
       "      <td>20.0</td>\n",
       "      <td>457</td>\n",
       "      <td>49</td>\n",
       "      <td>83.9</td>\n",
       "      <td>460</td>\n",
       "      <td>8823</td>\n",
       "    </tr>\n",
       "    <tr>\n",
       "      <th></th>\n",
       "      <td>25.0</td>\n",
       "      <td>475</td>\n",
       "      <td>32</td>\n",
       "      <td>86.1</td>\n",
       "      <td>476</td>\n",
       "      <td>6686</td>\n",
       "    </tr>\n",
       "  </tbody>\n",
       "</table>\n",
       "</div>"
      ],
      "text/plain": [
       "  time  vKMh  hKMh  speedAngle  netVectorKMh  altitude (ft)\n",
       "   5.0   177    78        66.2           193          13475\n",
       "  10.0   296    68        77.0           303          12383\n",
       "  15.0   398    78        78.8           406          10791\n",
       "  20.0   457    49        83.9           460           8823\n",
       "  25.0   475    32        86.1           476           6686"
      ]
     },
     "metadata": {},
     "output_type": "display_data"
    },
    {
     "data": {
      "text/html": [
       "\n",
       "  <div id=\"bc20d394-489c-4c27-ad13-fd1e49e5d112\" data-root-id=\"p1036\" style=\"display: contents;\"></div>\n"
      ]
     },
     "metadata": {},
     "output_type": "display_data"
    },
    {
     "data": {
      "application/javascript": [
       "(function(root) {\n",
       "  function embed_document(root) {\n",
       "  const docs_json = {\"a47ba4cb-4021-4a54-8070-b35e7db8c94f\":{\"version\":\"3.4.1\",\"title\":\"Bokeh Application\",\"roots\":[{\"type\":\"object\",\"name\":\"Figure\",\"id\":\"p1036\",\"attributes\":{\"width\":900,\"height\":500,\"x_range\":{\"type\":\"object\",\"name\":\"Range1d\",\"id\":\"p1046\",\"attributes\":{\"end\":35.0}},\"y_range\":{\"type\":\"object\",\"name\":\"Range1d\",\"id\":\"p1047\",\"attributes\":{\"end\":550.0}},\"x_scale\":{\"type\":\"object\",\"name\":\"LinearScale\",\"id\":\"p1048\"},\"y_scale\":{\"type\":\"object\",\"name\":\"LinearScale\",\"id\":\"p1049\"},\"extra_y_ranges\":{\"type\":\"map\",\"entries\":[[\"altitudeFt\",{\"type\":\"object\",\"name\":\"Range1d\",\"id\":\"p1071\",\"attributes\":{\"start\":6012.7341728,\"end\":14402.3785656}}],[\"angle\",{\"type\":\"object\",\"name\":\"Range1d\",\"id\":\"p1072\",\"attributes\":{\"end\":90.0}}]]},\"title\":{\"type\":\"object\",\"name\":\"Title\",\"id\":\"p1039\",\"attributes\":{\"text\":\"00-00-00-EC-baseline\",\"text_color\":\"#E0E0E0\",\"text_font\":\"Helvetica\",\"text_font_size\":\"1.15em\"}},\"outline_line_color\":\"#E0E0E0\",\"outline_line_alpha\":0.25,\"renderers\":[{\"type\":\"object\",\"name\":\"GlyphRenderer\",\"id\":\"p1087\",\"attributes\":{\"y_range_name\":\"altitudeFt\",\"data_source\":{\"type\":\"object\",\"name\":\"ColumnDataSource\",\"id\":\"p1081\",\"attributes\":{\"selected\":{\"type\":\"object\",\"name\":\"Selection\",\"id\":\"p1082\",\"attributes\":{\"indices\":[],\"line_indices\":[]}},\"selection_policy\":{\"type\":\"object\",\"name\":\"UnionRenderers\",\"id\":\"p1083\"},\"data\":{\"type\":\"map\",\"entries\":[[\"x\",{\"type\":\"ndarray\",\"array\":{\"type\":\"bytes\",\"data\":\"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\"},\"shape\":[206],\"dtype\":\"float64\",\"order\":\"little\"}],[\"y\",{\"type\":\"ndarray\",\"array\":{\"type\":\"bytes\",\"data\":\"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\"},\"shape\":[206],\"dtype\":\"float64\",\"order\":\"little\"}]]}}},\"view\":{\"type\":\"object\",\"name\":\"CDSView\",\"id\":\"p1088\",\"attributes\":{\"filter\":{\"type\":\"object\",\"name\":\"AllIndices\",\"id\":\"p1089\"}}},\"glyph\":{\"type\":\"object\",\"name\":\"Line\",\"id\":\"p1084\",\"attributes\":{\"x\":{\"type\":\"field\",\"field\":\"x\"},\"y\":{\"type\":\"field\",\"field\":\"y\"},\"line_color\":\"palegoldenrod\",\"line_width\":2}},\"nonselection_glyph\":{\"type\":\"object\",\"name\":\"Line\",\"id\":\"p1085\",\"attributes\":{\"x\":{\"type\":\"field\",\"field\":\"x\"},\"y\":{\"type\":\"field\",\"field\":\"y\"},\"line_color\":\"palegoldenrod\",\"line_alpha\":0.1,\"line_width\":2}},\"muted_glyph\":{\"type\":\"object\",\"name\":\"Line\",\"id\":\"p1086\",\"attributes\":{\"x\":{\"type\":\"field\",\"field\":\"x\"},\"y\":{\"type\":\"field\",\"field\":\"y\"},\"line_color\":\"palegoldenrod\",\"line_alpha\":0.2,\"line_width\":2}}}},{\"type\":\"object\",\"name\":\"GlyphRenderer\",\"id\":\"p1098\",\"attributes\":{\"y_range_name\":\"angle\",\"data_source\":{\"type\":\"object\",\"name\":\"ColumnDataSource\",\"id\":\"p1092\",\"attributes\":{\"selected\":{\"type\":\"object\",\"name\":\"Selection\",\"id\":\"p1093\",\"attributes\":{\"indices\":[],\"line_indices\":[]}},\"selection_policy\":{\"type\":\"object\",\"name\":\"UnionRenderers\",\"id\":\"p1094\"},\"data\":{\"type\":\"map\",\"entries\":[[\"x\",{\"type\":\"ndarray\",\"array\":{\"type\":\"bytes\",\"data\":\"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\"},\"shape\":[206],\"dtype\":\"float64\",\"order\":\"little\"}],[\"y\",{\"type\":\"ndarray\",\"array\":{\"type\":\"bytes\",\"data\":\"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\"},\"shape\":[206],\"dtype\":\"float64\",\"order\":\"little\"}]]}}},\"view\":{\"type\":\"object\",\"name\":\"CDSView\",\"id\":\"p1099\",\"attributes\":{\"filter\":{\"type\":\"object\",\"name\":\"AllIndices\",\"id\":\"p1100\"}}},\"glyph\":{\"type\":\"object\",\"name\":\"Line\",\"id\":\"p1095\",\"attributes\":{\"x\":{\"type\":\"field\",\"field\":\"x\"},\"y\":{\"type\":\"field\",\"field\":\"y\"},\"line_color\":\"deepskyblue\",\"line_width\":2}},\"nonselection_glyph\":{\"type\":\"object\",\"name\":\"Line\",\"id\":\"p1096\",\"attributes\":{\"x\":{\"type\":\"field\",\"field\":\"x\"},\"y\":{\"type\":\"field\",\"field\":\"y\"},\"line_color\":\"deepskyblue\",\"line_alpha\":0.1,\"line_width\":2}},\"muted_glyph\":{\"type\":\"object\",\"name\":\"Line\",\"id\":\"p1097\",\"attributes\":{\"x\":{\"type\":\"field\",\"field\":\"x\"},\"y\":{\"type\":\"field\",\"field\":\"y\"},\"line_color\":\"deepskyblue\",\"line_alpha\":0.2,\"line_width\":2}}}},{\"type\":\"object\",\"name\":\"GlyphRenderer\",\"id\":\"p1109\",\"attributes\":{\"data_source\":{\"type\":\"object\",\"name\":\"ColumnDataSource\",\"id\":\"p1103\",\"attributes\":{\"selected\":{\"type\":\"object\",\"name\":\"Selection\",\"id\":\"p1104\",\"attributes\":{\"indices\":[],\"line_indices\":[]}},\"selection_policy\":{\"type\":\"object\",\"name\":\"UnionRenderers\",\"id\":\"p1105\"},\"data\":{\"type\":\"map\",\"entries\":[[\"x\",{\"type\":\"ndarray\",\"array\":{\"type\":\"bytes\",\"data\":\"AAAAAAAAAAAAAAAAnJm5PwAAAACamck/AAAAADMz0z8AAAAAmpnZPwAAAAAAAOA/AAAAgDMz4z8AAACAZmbmPwAAAICZmek/AAAAAM3M7D8AAAAAAADwPwAAAMCZmfE/AAAAQDMz8z8AAADAzMz0PwAAAIBmZvY/AAAAAAAA+D8AAADAmZn5PwAAAEAzM/s/AAAAwMzM/D8AAACAZmb+PwAAAAAAAABAAAAA4MzMAEAAAACgmZkBQAAAAGBmZgJAAAAAQDMzA0AAAAAAAAAEQAAAAODMzARAAAAAoJmZBUAAAABgZmYGQAAAAEAzMwdAAAAAAAAACEAAAADgzMwIQAAAAGBmZgpAAAAAQDMzC0AAAAAAAAAMQAAAAODMzAxAAAAAYGZmDkAAAABAMzMPQAAAAAAAABBAAAAAcGZmEEAAAADQzMwQQAAAAKCZmRFAAAAAAAAAEkAAAABwZmYSQAAAANDMzBJAAAAAoJmZE0AAAAAAAAAUQAAAANDMzBRAAAAAMDMzFUAAAACgmZkVQAAAAAAAABZAAAAAcGZmFkAAAAAwMzMXQAAAAKCZmRdAAAAAcGZmGEAAAADQzMwYQAAAADAzMxlAAAAAoJmZGUAAAABwZmYaQAAAANDMzBpAAAAAMDMzG0AAAACgmZkbQAAAAAAAABxAAAAA0MzMHEAAAAAwMzMdQAAAAKCZmR1AAAAAAAAAHkAAAADQzMweQAAAADAzMx9AAAAAAAAAIEAAAAA4MzMgQAAAAGhmZiBAAAAAmJmZIEAAAADQzMwgQAAAADgzMyFAAAAAaGZmIUAAAACYmZkhQAAAADgzMyJAAAAAaGZmIkAAAACYmZkiQAAAANDMzCJAAAAAAAAAI0AAAABoZmYjQAAAAJiZmSNAAAAA0MzMI0AAAAAAAAAkQAAAAGhmZiRAAAAAmJmZJEAAAADQzMwkQAAAAAAAACVAAAAAODMzJUAAAACYmZklQAAAANDMzCVAAAAAAAAAJkAAAAA4MzMmQAAAAGhmZiZAAAAA0MzMJkAAAAAAAAAnQAAAADgzMydAAAAAaGZmJ0AAAADQzMwnQAAAAAAAAChAAAAAODMzKEAAAABoZmYoQAAAAJiZmShAAAAAAAAAKUAAAABoZmYpQAAAAJiZmSlAAAAAAAAAKkAAAAA4MzMqQAAAAGhmZipAAAAAmJmZKkAAAADQzMwqQAAAADgzMytAAAAAaGZmK0AAAACYmZkrQAAAANDMzCtAAAAAODMzLEAAAABoZmYsQAAAAJiZmSxAAAAA0MzMLEAAAAAAAAAtQAAAAGhmZi1AAAAAmJmZLUAAAADQzMwtQAAAAAAAAC5AAAAAaGZmLkAAAACYmZkuQAAAAAAAAC9AAAAAODMzL0AAAABoZmYvQAAAAJiZmS9AAAAA0MzML0AAAACcmRkwQAAAADQzMzBAAAAAaGZmMEAAAAAAAIAwQAAAAJyZmTBAAAAANDOzMEAAAABoZuYwQAAAAAAAADFAAAAANDMzMUAAAADMzEwxQAAAAGhmZjFAAAAAAACAMUAAAACcmZkxQAAAAMzMzDFAAAAAaGbmMUAAAAAAAAAyQAAAAJyZGTJAAAAAzMxMMkAAAABoZmYyQAAAAJyZmTJAAAAANDOzMkAAAABoZuYyQAAAAAAAADNAAAAAnJkZM0AAAAA0MzMzQAAAAMzMTDNAAAAAAACAM0AAAACcmZkzQAAAADQzszNAAAAAzMzMM0AAAAAAAAA0QAAAAJyZGTRAAAAAzMxMNEAAAABoZmY0QAAAAJyZmTRAAAAANDOzNEAAAADMzMw0QAAAAGhm5jRAAAAAnJkZNUAAAAA0MzM1QAAAAMzMTDVAAAAAaGZmNUAAAAAAAIA1QAAAADQzszVAAAAAzMzMNUAAAABoZuY1QAAAAAAAADZAAAAANDMzNkAAAADMzEw2QAAAAAAAgDZAAAAAnJmZNkAAAAA0M7M2QAAAAMzMzDZAAAAAaGbmNkAAAACcmRk3QAAAADQzMzdAAAAAzMxMN0AAAABoZmY3QAAAAJyZmTdAAAAANDOzN0AAAABoZuY3QAAAAAAAADhAAAAAnJkZOEAAAAA0MzM4QAAAAMzMTDhAAAAAAACAOEAAAACcmZk4QAAAADQzszhAAAAAAAAAOUAAAACcmRk5QAAAADQzMzlAAAAAzMxMOUAAAABoZmY5QA==\"},\"shape\":[206],\"dtype\":\"float64\",\"order\":\"little\"}],[\"y\",{\"type\":\"ndarray\",\"array\":{\"type\":\"bytes\",\"data\":\"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\"},\"shape\":[206],\"dtype\":\"float64\",\"order\":\"little\"}]]}}},\"view\":{\"type\":\"object\",\"name\":\"CDSView\",\"id\":\"p1110\",\"attributes\":{\"filter\":{\"type\":\"object\",\"name\":\"AllIndices\",\"id\":\"p1111\"}}},\"glyph\":{\"type\":\"object\",\"name\":\"Line\",\"id\":\"p1106\",\"attributes\":{\"x\":{\"type\":\"field\",\"field\":\"x\"},\"y\":{\"type\":\"field\",\"field\":\"y\"},\"line_color\":\"limegreen\",\"line_width\":2}},\"nonselection_glyph\":{\"type\":\"object\",\"name\":\"Line\",\"id\":\"p1107\",\"attributes\":{\"x\":{\"type\":\"field\",\"field\":\"x\"},\"y\":{\"type\":\"field\",\"field\":\"y\"},\"line_color\":\"limegreen\",\"line_alpha\":0.1,\"line_width\":2}},\"muted_glyph\":{\"type\":\"object\",\"name\":\"Line\",\"id\":\"p1108\",\"attributes\":{\"x\":{\"type\":\"field\",\"field\":\"x\"},\"y\":{\"type\":\"field\",\"field\":\"y\"},\"line_color\":\"limegreen\",\"line_alpha\":0.2,\"line_width\":2}}}},{\"type\":\"object\",\"name\":\"GlyphRenderer\",\"id\":\"p1119\",\"attributes\":{\"data_source\":{\"type\":\"object\",\"name\":\"ColumnDataSource\",\"id\":\"p1113\",\"attributes\":{\"selected\":{\"type\":\"object\",\"name\":\"Selection\",\"id\":\"p1114\",\"attributes\":{\"indices\":[],\"line_indices\":[]}},\"selection_policy\":{\"type\":\"object\",\"name\":\"UnionRenderers\",\"id\":\"p1115\"},\"data\":{\"type\":\"map\",\"entries\":[[\"x\",{\"type\":\"ndarray\",\"array\":{\"type\":\"bytes\",\"data\":\"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\"},\"shape\":[206],\"dtype\":\"float64\",\"order\":\"little\"}],[\"y\",{\"type\":\"ndarray\",\"array\":{\"type\":\"bytes\",\"data\":\"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\"},\"shape\":[206],\"dtype\":\"float64\",\"order\":\"little\"}]]}}},\"view\":{\"type\":\"object\",\"name\":\"CDSView\",\"id\":\"p1120\",\"attributes\":{\"filter\":{\"type\":\"object\",\"name\":\"AllIndices\",\"id\":\"p1121\"}}},\"glyph\":{\"type\":\"object\",\"name\":\"Line\",\"id\":\"p1116\",\"attributes\":{\"x\":{\"type\":\"field\",\"field\":\"x\"},\"y\":{\"type\":\"field\",\"field\":\"y\"},\"line_color\":\"red\",\"line_width\":2}},\"nonselection_glyph\":{\"type\":\"object\",\"name\":\"Line\",\"id\":\"p1117\",\"attributes\":{\"x\":{\"type\":\"field\",\"field\":\"x\"},\"y\":{\"type\":\"field\",\"field\":\"y\"},\"line_color\":\"red\",\"line_alpha\":0.1,\"line_width\":2}},\"muted_glyph\":{\"type\":\"object\",\"name\":\"Line\",\"id\":\"p1118\",\"attributes\":{\"x\":{\"type\":\"field\",\"field\":\"x\"},\"y\":{\"type\":\"field\",\"field\":\"y\"},\"line_color\":\"red\",\"line_alpha\":0.2,\"line_width\":2}}}},{\"type\":\"object\",\"name\":\"GlyphRenderer\",\"id\":\"p1129\",\"attributes\":{\"data_source\":{\"type\":\"object\",\"name\":\"ColumnDataSource\",\"id\":\"p1123\",\"attributes\":{\"selected\":{\"type\":\"object\",\"name\":\"Selection\",\"id\":\"p1124\",\"attributes\":{\"indices\":[],\"line_indices\":[]}},\"selection_policy\":{\"type\":\"object\",\"name\":\"UnionRenderers\",\"id\":\"p1125\"},\"data\":{\"type\":\"map\",\"entries\":[[\"x0\",[22.299999952316284]],[\"y0\",[0.0]],[\"x1\",[22.299999952316284]],[\"y1\",[472.446]]]}}},\"view\":{\"type\":\"object\",\"name\":\"CDSView\",\"id\":\"p1130\",\"attributes\":{\"filter\":{\"type\":\"object\",\"name\":\"AllIndices\",\"id\":\"p1131\"}}},\"glyph\":{\"type\":\"object\",\"name\":\"Segment\",\"id\":\"p1126\",\"attributes\":{\"x0\":{\"type\":\"field\",\"field\":\"x0\"},\"y0\":{\"type\":\"field\",\"field\":\"y0\"},\"x1\":{\"type\":\"field\",\"field\":\"x1\"},\"y1\":{\"type\":\"field\",\"field\":\"y1\"},\"line_color\":{\"type\":\"value\",\"value\":\"lightblue\"},\"line_width\":{\"type\":\"value\",\"value\":3}}},\"nonselection_glyph\":{\"type\":\"object\",\"name\":\"Segment\",\"id\":\"p1127\",\"attributes\":{\"x0\":{\"type\":\"field\",\"field\":\"x0\"},\"y0\":{\"type\":\"field\",\"field\":\"y0\"},\"x1\":{\"type\":\"field\",\"field\":\"x1\"},\"y1\":{\"type\":\"field\",\"field\":\"y1\"},\"line_color\":{\"type\":\"value\",\"value\":\"lightblue\"},\"line_alpha\":{\"type\":\"value\",\"value\":0.1},\"line_width\":{\"type\":\"value\",\"value\":3}}},\"muted_glyph\":{\"type\":\"object\",\"name\":\"Segment\",\"id\":\"p1128\",\"attributes\":{\"x0\":{\"type\":\"field\",\"field\":\"x0\"},\"y0\":{\"type\":\"field\",\"field\":\"y0\"},\"x1\":{\"type\":\"field\",\"field\":\"x1\"},\"y1\":{\"type\":\"field\",\"field\":\"y1\"},\"line_color\":{\"type\":\"value\",\"value\":\"lightblue\"},\"line_alpha\":{\"type\":\"value\",\"value\":0.2},\"line_width\":{\"type\":\"value\",\"value\":3}}}}},{\"type\":\"object\",\"name\":\"GlyphRenderer\",\"id\":\"p1138\",\"attributes\":{\"data_source\":{\"type\":\"object\",\"name\":\"ColumnDataSource\",\"id\":\"p1132\",\"attributes\":{\"selected\":{\"type\":\"object\",\"name\":\"Selection\",\"id\":\"p1133\",\"attributes\":{\"indices\":[],\"line_indices\":[]}},\"selection_policy\":{\"type\":\"object\",\"name\":\"UnionRenderers\",\"id\":\"p1134\"},\"data\":{\"type\":\"map\",\"entries\":[[\"x0\",[23.799999952316284]],[\"y0\",[0.0]],[\"x1\",[23.799999952316284]],[\"y1\",[472.446]]]}}},\"view\":{\"type\":\"object\",\"name\":\"CDSView\",\"id\":\"p1139\",\"attributes\":{\"filter\":{\"type\":\"object\",\"name\":\"AllIndices\",\"id\":\"p1140\"}}},\"glyph\":{\"type\":\"object\",\"name\":\"Segment\",\"id\":\"p1135\",\"attributes\":{\"x0\":{\"type\":\"field\",\"field\":\"x0\"},\"y0\":{\"type\":\"field\",\"field\":\"y0\"},\"x1\":{\"type\":\"field\",\"field\":\"x1\"},\"y1\":{\"type\":\"field\",\"field\":\"y1\"},\"line_color\":{\"type\":\"value\",\"value\":\"darkseagreen\"}}},\"nonselection_glyph\":{\"type\":\"object\",\"name\":\"Segment\",\"id\":\"p1136\",\"attributes\":{\"x0\":{\"type\":\"field\",\"field\":\"x0\"},\"y0\":{\"type\":\"field\",\"field\":\"y0\"},\"x1\":{\"type\":\"field\",\"field\":\"x1\"},\"y1\":{\"type\":\"field\",\"field\":\"y1\"},\"line_color\":{\"type\":\"value\",\"value\":\"darkseagreen\"},\"line_alpha\":{\"type\":\"value\",\"value\":0.1}}},\"muted_glyph\":{\"type\":\"object\",\"name\":\"Segment\",\"id\":\"p1137\",\"attributes\":{\"x0\":{\"type\":\"field\",\"field\":\"x0\"},\"y0\":{\"type\":\"field\",\"field\":\"y0\"},\"x1\":{\"type\":\"field\",\"field\":\"x1\"},\"y1\":{\"type\":\"field\",\"field\":\"y1\"},\"line_color\":{\"type\":\"value\",\"value\":\"darkseagreen\"},\"line_alpha\":{\"type\":\"value\",\"value\":0.2}}}}},{\"type\":\"object\",\"name\":\"GlyphRenderer\",\"id\":\"p1147\",\"attributes\":{\"data_source\":{\"type\":\"object\",\"name\":\"ColumnDataSource\",\"id\":\"p1141\",\"attributes\":{\"selected\":{\"type\":\"object\",\"name\":\"Selection\",\"id\":\"p1142\",\"attributes\":{\"indices\":[],\"line_indices\":[]}},\"selection_policy\":{\"type\":\"object\",\"name\":\"UnionRenderers\",\"id\":\"p1143\"},\"data\":{\"type\":\"map\",\"entries\":[[\"x0\",[20.799999952316284]],[\"y0\",[0.0]],[\"x1\",[20.799999952316284]],[\"y1\",[472.446]]]}}},\"view\":{\"type\":\"object\",\"name\":\"CDSView\",\"id\":\"p1148\",\"attributes\":{\"filter\":{\"type\":\"object\",\"name\":\"AllIndices\",\"id\":\"p1149\"}}},\"glyph\":{\"type\":\"object\",\"name\":\"Segment\",\"id\":\"p1144\",\"attributes\":{\"x0\":{\"type\":\"field\",\"field\":\"x0\"},\"y0\":{\"type\":\"field\",\"field\":\"y0\"},\"x1\":{\"type\":\"field\",\"field\":\"x1\"},\"y1\":{\"type\":\"field\",\"field\":\"y1\"},\"line_color\":{\"type\":\"value\",\"value\":\"darkseagreen\"}}},\"nonselection_glyph\":{\"type\":\"object\",\"name\":\"Segment\",\"id\":\"p1145\",\"attributes\":{\"x0\":{\"type\":\"field\",\"field\":\"x0\"},\"y0\":{\"type\":\"field\",\"field\":\"y0\"},\"x1\":{\"type\":\"field\",\"field\":\"x1\"},\"y1\":{\"type\":\"field\",\"field\":\"y1\"},\"line_color\":{\"type\":\"value\",\"value\":\"darkseagreen\"},\"line_alpha\":{\"type\":\"value\",\"value\":0.1}}},\"muted_glyph\":{\"type\":\"object\",\"name\":\"Segment\",\"id\":\"p1146\",\"attributes\":{\"x0\":{\"type\":\"field\",\"field\":\"x0\"},\"y0\":{\"type\":\"field\",\"field\":\"y0\"},\"x1\":{\"type\":\"field\",\"field\":\"x1\"},\"y1\":{\"type\":\"field\",\"field\":\"y1\"},\"line_color\":{\"type\":\"value\",\"value\":\"darkseagreen\"},\"line_alpha\":{\"type\":\"value\",\"value\":0.2}}}}},{\"type\":\"object\",\"name\":\"GlyphRenderer\",\"id\":\"p1156\",\"attributes\":{\"data_source\":{\"type\":\"object\",\"name\":\"ColumnDataSource\",\"id\":\"p1150\",\"attributes\":{\"selected\":{\"type\":\"object\",\"name\":\"Selection\",\"id\":\"p1151\",\"attributes\":{\"indices\":[],\"line_indices\":[]}},\"selection_policy\":{\"type\":\"object\",\"name\":\"UnionRenderers\",\"id\":\"p1152\"},\"data\":{\"type\":\"map\",\"entries\":[[\"x\",[22.299999952316284]],[\"y\",[472.446]],[\"size\",[20]]]}}},\"view\":{\"type\":\"object\",\"name\":\"CDSView\",\"id\":\"p1157\",\"attributes\":{\"filter\":{\"type\":\"object\",\"name\":\"AllIndices\",\"id\":\"p1158\"}}},\"glyph\":{\"type\":\"object\",\"name\":\"Scatter\",\"id\":\"p1153\",\"attributes\":{\"x\":{\"type\":\"field\",\"field\":\"x\"},\"y\":{\"type\":\"field\",\"field\":\"y\"},\"size\":{\"type\":\"field\",\"field\":\"size\"},\"line_color\":{\"type\":\"value\",\"value\":\"lightblue\"},\"line_width\":{\"type\":\"value\",\"value\":3},\"fill_color\":{\"type\":\"value\",\"value\":null},\"marker\":{\"type\":\"value\",\"value\":\"square_cross\"}}},\"nonselection_glyph\":{\"type\":\"object\",\"name\":\"Scatter\",\"id\":\"p1154\",\"attributes\":{\"x\":{\"type\":\"field\",\"field\":\"x\"},\"y\":{\"type\":\"field\",\"field\":\"y\"},\"size\":{\"type\":\"field\",\"field\":\"size\"},\"line_color\":{\"type\":\"value\",\"value\":\"lightblue\"},\"line_alpha\":{\"type\":\"value\",\"value\":0.1},\"line_width\":{\"type\":\"value\",\"value\":3},\"fill_color\":{\"type\":\"value\",\"value\":null},\"fill_alpha\":{\"type\":\"value\",\"value\":0.1},\"hatch_alpha\":{\"type\":\"value\",\"value\":0.1},\"marker\":{\"type\":\"value\",\"value\":\"square_cross\"}}},\"muted_glyph\":{\"type\":\"object\",\"name\":\"Scatter\",\"id\":\"p1155\",\"attributes\":{\"x\":{\"type\":\"field\",\"field\":\"x\"},\"y\":{\"type\":\"field\",\"field\":\"y\"},\"size\":{\"type\":\"field\",\"field\":\"size\"},\"line_color\":{\"type\":\"value\",\"value\":\"lightblue\"},\"line_alpha\":{\"type\":\"value\",\"value\":0.2},\"line_width\":{\"type\":\"value\",\"value\":3},\"fill_color\":{\"type\":\"value\",\"value\":null},\"fill_alpha\":{\"type\":\"value\",\"value\":0.2},\"hatch_alpha\":{\"type\":\"value\",\"value\":0.2},\"marker\":{\"type\":\"value\",\"value\":\"square_cross\"}}}}}],\"toolbar\":{\"type\":\"object\",\"name\":\"Toolbar\",\"id\":\"p1045\",\"attributes\":{\"tools\":[{\"type\":\"object\",\"name\":\"PanTool\",\"id\":\"p1060\"},{\"type\":\"object\",\"name\":\"WheelZoomTool\",\"id\":\"p1061\",\"attributes\":{\"renderers\":\"auto\"}},{\"type\":\"object\",\"name\":\"BoxZoomTool\",\"id\":\"p1062\",\"attributes\":{\"overlay\":{\"type\":\"object\",\"name\":\"BoxAnnotation\",\"id\":\"p1063\",\"attributes\":{\"syncable\":false,\"level\":\"overlay\",\"visible\":false,\"left\":{\"type\":\"number\",\"value\":\"nan\"},\"right\":{\"type\":\"number\",\"value\":\"nan\"},\"top\":{\"type\":\"number\",\"value\":\"nan\"},\"bottom\":{\"type\":\"number\",\"value\":\"nan\"},\"left_units\":\"canvas\",\"right_units\":\"canvas\",\"top_units\":\"canvas\",\"bottom_units\":\"canvas\",\"line_color\":\"black\",\"line_alpha\":1.0,\"line_width\":2,\"line_dash\":[4,4],\"fill_color\":\"lightgrey\",\"fill_alpha\":0.5}}}},{\"type\":\"object\",\"name\":\"SaveTool\",\"id\":\"p1068\"},{\"type\":\"object\",\"name\":\"ResetTool\",\"id\":\"p1069\"},{\"type\":\"object\",\"name\":\"HelpTool\",\"id\":\"p1070\"},{\"type\":\"object\",\"name\":\"HoverTool\",\"id\":\"p1102\",\"attributes\":{\"renderers\":\"auto\",\"tooltips\":[[\"Y-val\",\"@y{0.00}\"]]}}]}},\"left\":[{\"type\":\"object\",\"name\":\"LinearAxis\",\"id\":\"p1055\",\"attributes\":{\"ticker\":{\"type\":\"object\",\"name\":\"BasicTicker\",\"id\":\"p1056\",\"attributes\":{\"mantissas\":[1,2,5]}},\"formatter\":{\"type\":\"object\",\"name\":\"BasicTickFormatter\",\"id\":\"p1057\"},\"axis_label\":\"km/h\",\"axis_label_standoff\":10,\"axis_label_text_color\":\"#E0E0E0\",\"axis_label_text_font\":\"Helvetica\",\"axis_label_text_font_size\":\"1.25em\",\"axis_label_text_font_style\":\"normal\",\"major_label_policy\":{\"type\":\"object\",\"name\":\"AllLabels\",\"id\":\"p1058\"},\"major_label_text_color\":\"#E0E0E0\",\"major_label_text_font\":\"Helvetica\",\"major_label_text_font_size\":\"1.025em\",\"axis_line_color\":\"#E0E0E0\",\"axis_line_alpha\":0,\"major_tick_line_color\":\"#E0E0E0\",\"major_tick_line_alpha\":0,\"minor_tick_line_color\":\"#E0E0E0\",\"minor_tick_line_alpha\":0}},{\"type\":\"object\",\"name\":\"LinearAxis\",\"id\":\"p1073\",\"attributes\":{\"y_range_name\":\"altitudeFt\",\"ticker\":{\"type\":\"object\",\"name\":\"BasicTicker\",\"id\":\"p1074\",\"attributes\":{\"mantissas\":[1,2,5]}},\"formatter\":{\"type\":\"object\",\"name\":\"BasicTickFormatter\",\"id\":\"p1075\"},\"axis_label\":\"Alt (ft)\",\"axis_label_standoff\":10,\"axis_label_text_color\":\"#E0E0E0\",\"axis_label_text_font\":\"Helvetica\",\"axis_label_text_font_size\":\"1.25em\",\"axis_label_text_font_style\":\"normal\",\"major_label_policy\":{\"type\":\"object\",\"name\":\"AllLabels\",\"id\":\"p1076\"},\"major_label_text_color\":\"#E0E0E0\",\"major_label_text_font\":\"Helvetica\",\"major_label_text_font_size\":\"1.025em\",\"axis_line_color\":\"#E0E0E0\",\"axis_line_alpha\":0,\"major_tick_line_color\":\"#E0E0E0\",\"major_tick_line_alpha\":0,\"minor_tick_line_color\":\"#E0E0E0\",\"minor_tick_line_alpha\":0}},{\"type\":\"object\",\"name\":\"LinearAxis\",\"id\":\"p1077\",\"attributes\":{\"y_range_name\":\"angle\",\"ticker\":{\"type\":\"object\",\"name\":\"BasicTicker\",\"id\":\"p1078\",\"attributes\":{\"mantissas\":[1,2,5]}},\"formatter\":{\"type\":\"object\",\"name\":\"BasicTickFormatter\",\"id\":\"p1079\"},\"axis_label\":\"angle\",\"axis_label_standoff\":10,\"axis_label_text_color\":\"#E0E0E0\",\"axis_label_text_font\":\"Helvetica\",\"axis_label_text_font_size\":\"1.25em\",\"axis_label_text_font_style\":\"normal\",\"major_label_policy\":{\"type\":\"object\",\"name\":\"AllLabels\",\"id\":\"p1080\"},\"major_label_text_color\":\"#E0E0E0\",\"major_label_text_font\":\"Helvetica\",\"major_label_text_font_size\":\"1.025em\",\"axis_line_color\":\"#E0E0E0\",\"axis_line_alpha\":0,\"major_tick_line_color\":\"#E0E0E0\",\"major_tick_line_alpha\":0,\"minor_tick_line_color\":\"#E0E0E0\",\"minor_tick_line_alpha\":0}}],\"below\":[{\"type\":\"object\",\"name\":\"LinearAxis\",\"id\":\"p1050\",\"attributes\":{\"ticker\":{\"type\":\"object\",\"name\":\"BasicTicker\",\"id\":\"p1051\",\"attributes\":{\"mantissas\":[1,2,5]}},\"formatter\":{\"type\":\"object\",\"name\":\"BasicTickFormatter\",\"id\":\"p1052\"},\"axis_label\":\"seconds from exit\",\"axis_label_standoff\":10,\"axis_label_text_color\":\"#E0E0E0\",\"axis_label_text_font\":\"Helvetica\",\"axis_label_text_font_size\":\"1.25em\",\"axis_label_text_font_style\":\"normal\",\"major_label_policy\":{\"type\":\"object\",\"name\":\"AllLabels\",\"id\":\"p1053\"},\"major_label_text_color\":\"#E0E0E0\",\"major_label_text_font\":\"Helvetica\",\"major_label_text_font_size\":\"1.025em\",\"axis_line_color\":\"#E0E0E0\",\"axis_line_alpha\":0,\"major_tick_line_color\":\"#E0E0E0\",\"major_tick_line_alpha\":0,\"minor_tick_line_color\":\"#E0E0E0\",\"minor_tick_line_alpha\":0}}],\"center\":[{\"type\":\"object\",\"name\":\"Grid\",\"id\":\"p1054\",\"attributes\":{\"axis\":{\"id\":\"p1050\"},\"grid_line_color\":\"#E0E0E0\",\"grid_line_alpha\":0.25}},{\"type\":\"object\",\"name\":\"Grid\",\"id\":\"p1059\",\"attributes\":{\"dimension\":1,\"axis\":{\"id\":\"p1055\"},\"grid_line_color\":\"#E0E0E0\",\"grid_line_alpha\":0.25}},{\"type\":\"object\",\"name\":\"Legend\",\"id\":\"p1090\",\"attributes\":{\"border_line_alpha\":0,\"background_fill_color\":\"#20262B\",\"background_fill_alpha\":0.25,\"label_text_color\":\"#E0E0E0\",\"label_text_font\":\"Helvetica\",\"label_text_font_size\":\"1.025em\",\"label_standoff\":8,\"glyph_width\":15,\"spacing\":8,\"items\":[{\"type\":\"object\",\"name\":\"LegendItem\",\"id\":\"p1091\",\"attributes\":{\"label\":{\"type\":\"value\",\"value\":\"Alt (ft)\"},\"renderers\":[{\"id\":\"p1087\"}]}},{\"type\":\"object\",\"name\":\"LegendItem\",\"id\":\"p1101\",\"attributes\":{\"label\":{\"type\":\"value\",\"value\":\"angle\"},\"renderers\":[{\"id\":\"p1098\"}]}},{\"type\":\"object\",\"name\":\"LegendItem\",\"id\":\"p1112\",\"attributes\":{\"label\":{\"type\":\"value\",\"value\":\"speed\"},\"renderers\":[{\"id\":\"p1109\"}]}},{\"type\":\"object\",\"name\":\"LegendItem\",\"id\":\"p1122\",\"attributes\":{\"label\":{\"type\":\"value\",\"value\":\"H-speed\"},\"renderers\":[{\"id\":\"p1119\"}]}}]}}],\"background_fill_color\":\"#20262B\",\"border_fill_color\":\"#15191C\"}}]}};\n",
       "  const render_items = [{\"docid\":\"a47ba4cb-4021-4a54-8070-b35e7db8c94f\",\"roots\":{\"p1036\":\"bc20d394-489c-4c27-ad13-fd1e49e5d112\"},\"root_ids\":[\"p1036\"]}];\n",
       "  void root.Bokeh.embed.embed_items_notebook(docs_json, render_items);\n",
       "  }\n",
       "  if (root.Bokeh !== undefined) {\n",
       "    embed_document(root);\n",
       "  } else {\n",
       "    let attempts = 0;\n",
       "    const timer = setInterval(function(root) {\n",
       "      if (root.Bokeh !== undefined) {\n",
       "        clearInterval(timer);\n",
       "        embed_document(root);\n",
       "      } else {\n",
       "        attempts++;\n",
       "        if (attempts > 100) {\n",
       "          clearInterval(timer);\n",
       "          console.log(\"Bokeh: ERROR: Unable to run BokehJS code because BokehJS library is missing\");\n",
       "        }\n",
       "      }\n",
       "    }, 10, root)\n",
       "  }\n",
       "})(window);"
      ],
      "application/vnd.bokehjs_exec.v0+json": ""
     },
     "metadata": {
      "application/vnd.bokehjs_exec.v0+json": {
       "id": "p1036"
      }
     },
     "output_type": "display_data"
    },
    {
     "data": {
      "application/vnd.jupyter.widget-view+json": {
       "model_id": "5d8efdc405654c8ca0afcc7b10a65ebe",
       "version_major": 2,
       "version_minor": 0
      },
      "text/plain": [
       "HTML(value='<hr><h1><span style=\"color: #0f0\">11-07-54 jump - 🟢 valid - score = 464.09 km/h</span></h1>')"
      ]
     },
     "metadata": {},
     "output_type": "display_data"
    },
    {
     "data": {
      "application/vnd.jupyter.widget-view+json": {
       "model_id": "526db9f007d14e4181354247d367e2ba",
       "version_major": 2,
       "version_minor": 0
      },
      "text/plain": [
       "HTML(value='<h3>Max speed = 466; exit at 4036 m (13242 ft), end scoring window at 1780 m (5841 ft)')"
      ]
     },
     "metadata": {},
     "output_type": "display_data"
    },
    {
     "data": {
      "application/vnd.jupyter.widget-view+json": {
       "model_id": "a8f3e84411074171bfb7eff1227af4dd",
       "version_major": 2,
       "version_minor": 0
      },
      "text/plain": [
       "HTML(value='</h3>')"
      ]
     },
     "metadata": {},
     "output_type": "display_data"
    },
    {
     "data": {
      "text/html": [
       "<div>\n",
       "<style scoped>\n",
       "    .dataframe tbody tr th:only-of-type {\n",
       "        vertical-align: middle;\n",
       "    }\n",
       "\n",
       "    .dataframe tbody tr th {\n",
       "        vertical-align: top;\n",
       "    }\n",
       "\n",
       "    .dataframe thead th {\n",
       "        text-align: right;\n",
       "    }\n",
       "</style>\n",
       "<table border=\"1\" class=\"dataframe\">\n",
       "  <thead>\n",
       "    <tr style=\"text-align: right;\">\n",
       "      <th></th>\n",
       "      <th>time</th>\n",
       "      <th>vKMh</th>\n",
       "      <th>hKMh</th>\n",
       "      <th>speedAngle</th>\n",
       "      <th>netVectorKMh</th>\n",
       "      <th>altitude (ft)</th>\n",
       "    </tr>\n",
       "  </thead>\n",
       "  <tbody>\n",
       "    <tr>\n",
       "      <th></th>\n",
       "      <td>5.0</td>\n",
       "      <td>161</td>\n",
       "      <td>113</td>\n",
       "      <td>55.0</td>\n",
       "      <td>196</td>\n",
       "      <td>12786</td>\n",
       "    </tr>\n",
       "    <tr>\n",
       "      <th></th>\n",
       "      <td>10.0</td>\n",
       "      <td>302</td>\n",
       "      <td>69</td>\n",
       "      <td>77.2</td>\n",
       "      <td>310</td>\n",
       "      <td>11652</td>\n",
       "    </tr>\n",
       "    <tr>\n",
       "      <th></th>\n",
       "      <td>15.0</td>\n",
       "      <td>409</td>\n",
       "      <td>48</td>\n",
       "      <td>83.3</td>\n",
       "      <td>411</td>\n",
       "      <td>9926</td>\n",
       "    </tr>\n",
       "    <tr>\n",
       "      <th></th>\n",
       "      <td>20.0</td>\n",
       "      <td>457</td>\n",
       "      <td>35</td>\n",
       "      <td>85.6</td>\n",
       "      <td>459</td>\n",
       "      <td>7913</td>\n",
       "    </tr>\n",
       "    <tr>\n",
       "      <th></th>\n",
       "      <td>25.0</td>\n",
       "      <td>464</td>\n",
       "      <td>25</td>\n",
       "      <td>86.9</td>\n",
       "      <td>465</td>\n",
       "      <td>5848</td>\n",
       "    </tr>\n",
       "  </tbody>\n",
       "</table>\n",
       "</div>"
      ],
      "text/plain": [
       "  time  vKMh  hKMh  speedAngle  netVectorKMh  altitude (ft)\n",
       "   5.0   161   113        55.0           196          12786\n",
       "  10.0   302    69        77.2           310          11652\n",
       "  15.0   409    48        83.3           411           9926\n",
       "  20.0   457    35        85.6           459           7913\n",
       "  25.0   464    25        86.9           465           5848"
      ]
     },
     "metadata": {},
     "output_type": "display_data"
    },
    {
     "data": {
      "text/html": [
       "\n",
       "  <div id=\"c4fd6475-0776-42d9-a3cb-d4c223a1be74\" data-root-id=\"p1178\" style=\"display: contents;\"></div>\n"
      ]
     },
     "metadata": {},
     "output_type": "display_data"
    },
    {
     "data": {
      "application/javascript": [
       "(function(root) {\n",
       "  function embed_document(root) {\n",
       "  const docs_json = {\"49753fbe-82c8-4e8a-9c6c-f0a93357fa71\":{\"version\":\"3.4.1\",\"title\":\"Bokeh Application\",\"roots\":[{\"type\":\"object\",\"name\":\"Figure\",\"id\":\"p1178\",\"attributes\":{\"width\":900,\"height\":500,\"x_range\":{\"type\":\"object\",\"name\":\"Range1d\",\"id\":\"p1188\",\"attributes\":{\"end\":35.0}},\"y_range\":{\"type\":\"object\",\"name\":\"Range1d\",\"id\":\"p1189\",\"attributes\":{\"end\":550.0}},\"x_scale\":{\"type\":\"object\",\"name\":\"LinearScale\",\"id\":\"p1190\"},\"y_scale\":{\"type\":\"object\",\"name\":\"LinearScale\",\"id\":\"p1191\"},\"extra_y_ranges\":{\"type\":\"map\",\"entries\":[[\"altitudeFt\",{\"type\":\"object\",\"name\":\"Range1d\",\"id\":\"p1213\",\"attributes\":{\"start\":5348.434508,\"end\":13742.888553600002}}],[\"angle\",{\"type\":\"object\",\"name\":\"Range1d\",\"id\":\"p1214\",\"attributes\":{\"end\":90.0}}]]},\"title\":{\"type\":\"object\",\"name\":\"Title\",\"id\":\"p1181\",\"attributes\":{\"text\":\"11-07-54\",\"text_color\":\"#E0E0E0\",\"text_font\":\"Helvetica\",\"text_font_size\":\"1.15em\"}},\"outline_line_color\":\"#E0E0E0\",\"outline_line_alpha\":0.25,\"renderers\":[{\"type\":\"object\",\"name\":\"GlyphRenderer\",\"id\":\"p1229\",\"attributes\":{\"y_range_name\":\"altitudeFt\",\"data_source\":{\"type\":\"object\",\"name\":\"ColumnDataSource\",\"id\":\"p1223\",\"attributes\":{\"selected\":{\"type\":\"object\",\"name\":\"Selection\",\"id\":\"p1224\",\"attributes\":{\"indices\":[],\"line_indices\":[]}},\"selection_policy\":{\"type\":\"object\",\"name\":\"UnionRenderers\",\"id\":\"p1225\"},\"data\":{\"type\":\"map\",\"entries\":[[\"x\",{\"type\":\"ndarray\",\"array\":{\"type\":\"bytes\",\"data\":\"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\"},\"shape\":[204],\"dtype\":\"float64\",\"order\":\"little\"}],[\"y\",{\"type\":\"ndarray\",\"array\":{\"type\":\"bytes\",\"data\":\"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\"},\"shape\":[204],\"dtype\":\"float64\",\"order\":\"little\"}]]}}},\"view\":{\"type\":\"object\",\"name\":\"CDSView\",\"id\":\"p1230\",\"attributes\":{\"filter\":{\"type\":\"object\",\"name\":\"AllIndices\",\"id\":\"p1231\"}}},\"glyph\":{\"type\":\"object\",\"name\":\"Line\",\"id\":\"p1226\",\"attributes\":{\"x\":{\"type\":\"field\",\"field\":\"x\"},\"y\":{\"type\":\"field\",\"field\":\"y\"},\"line_color\":\"palegoldenrod\",\"line_width\":2}},\"nonselection_glyph\":{\"type\":\"object\",\"name\":\"Line\",\"id\":\"p1227\",\"attributes\":{\"x\":{\"type\":\"field\",\"field\":\"x\"},\"y\":{\"type\":\"field\",\"field\":\"y\"},\"line_color\":\"palegoldenrod\",\"line_alpha\":0.1,\"line_width\":2}},\"muted_glyph\":{\"type\":\"object\",\"name\":\"Line\",\"id\":\"p1228\",\"attributes\":{\"x\":{\"type\":\"field\",\"field\":\"x\"},\"y\":{\"type\":\"field\",\"field\":\"y\"},\"line_color\":\"palegoldenrod\",\"line_alpha\":0.2,\"line_width\":2}}}},{\"type\":\"object\",\"name\":\"GlyphRenderer\",\"id\":\"p1240\",\"attributes\":{\"y_range_name\":\"angle\",\"data_source\":{\"type\":\"object\",\"name\":\"ColumnDataSource\",\"id\":\"p1234\",\"attributes\":{\"selected\":{\"type\":\"object\",\"name\":\"Selection\",\"id\":\"p1235\",\"attributes\":{\"indices\":[],\"line_indices\":[]}},\"selection_policy\":{\"type\":\"object\",\"name\":\"UnionRenderers\",\"id\":\"p1236\"},\"data\":{\"type\":\"map\",\"entries\":[[\"x\",{\"type\":\"ndarray\",\"array\":{\"type\":\"bytes\",\"data\":\"AAAAAAAAAAAAAAAAmJm5PwAAAACamck/AAAAADMz0z8AAAAAmZnZPwAAAAAAAOA/AAAAADMz4z8AAACAZmbmPwAAAICZmek/AAAAgMzM7D8AAAAAAADwPwAAAICZmfE/AAAAQDMz8z8AAADAzMz0PwAAAEBmZvY/AAAAAAAA+D8AAACAmZn5PwAAAEAzM/s/AAAAwMzM/D8AAABAZmb+PwAAAAAAAABAAAAAwMzMAEAAAACgmZkBQAAAAGBmZgJAAAAAIDMzA0AAAAAAAAAEQAAAAMDMzARAAAAAoJmZBUAAAABgZmYGQAAAACAzMwdAAAAAAAAACEAAAADAzMwIQAAAAKCZmQlAAAAAYGZmCkAAAAAgMzMLQAAAAAAAAAxAAAAAwMzMDEAAAACgmZkNQAAAAGBmZg5AAAAAIDMzD0AAAAAAAAAQQAAAAGBmZhBAAAAA0MzMEEAAAAAwMzMRQAAAAAAAABJAAAAAYGZmEkAAAADQzMwSQAAAADAzMxNAAAAAkJmZE0AAAABgZmYUQAAAANDMzBRAAAAAMDMzFUAAAACQmZkVQAAAAGBmZhZAAAAA0MzMFkAAAACQmZkXQAAAAAAAABhAAAAAYGZmGEAAAADQzMwYQAAAADAzMxlAAAAAAAAAGkAAAADQzMwaQAAAADAzMxtAAAAAAAAAHEAAAABgZmYcQAAAADAzMx1AAAAAkJmZHUAAAAAAAAAeQAAAAGBmZh5AAAAA0MzMHkAAAACQmZkfQAAAAAAAACBAAAAAMDMzIEAAAABoZmYgQAAAAMjMzCBAAAAAAAAAIUAAAAAwMzMhQAAAAGhmZiFAAAAAmJmZIUAAAAAAAAAiQAAAADAzMyJAAAAAaGZmIkAAAACYmZkiQAAAAAAAACNAAAAAMDMzI0AAAACYmZkjQAAAAMjMzCNAAAAAAAAAJEAAAAAwMzMkQAAAAGhmZiRAAAAAyMzMJEAAAAAwMzMlQAAAAGhmZiVAAAAAmJmZJUAAAADIzMwlQAAAAAAAACZAAAAAaGZmJkAAAACYmZkmQAAAAAAAACdAAAAAMDMzJ0AAAACYmZknQAAAAMjMzCdAAAAAAAAAKEAAAAAwMzMoQAAAAJiZmShAAAAAyMzMKEAAAAAAAAApQAAAADAzMylAAAAAaGZmKUAAAADIzMwpQAAAAAAAACpAAAAAMDMzKkAAAABoZmYqQAAAAMjMzCpAAAAAAAAAK0AAAAAwMzMrQAAAAGhmZitAAAAAmJmZK0AAAAAAAAAsQAAAADAzMyxAAAAAmJmZLEAAAADIzMwsQAAAAAAAAC1AAAAAMDMzLUAAAACYmZktQAAAAMjMzC1AAAAAMDMzLkAAAABoZmYuQAAAAJiZmS5AAAAAyMzMLkAAAAAAAAAvQAAAAGhmZi9AAAAAmJmZL0AAAADIzMwvQAAAAAAAADBAAAAANDMzMEAAAADMzEwwQAAAAAAAgDBAAAAAmJmZMEAAAAA0M7MwQAAAAMzMzDBAAAAAAAAAMUAAAACYmRkxQAAAAMzMTDFAAAAAZGZmMUAAAAAAAIAxQAAAAJiZmTFAAAAANDOzMUAAAABkZuYxQAAAAAAAADJAAAAAmJkZMkAAAAA0MzMyQAAAAMzMTDJAAAAAAACAMkAAAAA0M7MyQAAAAMzMzDJAAAAAAAAAM0AAAACYmRkzQAAAADQzMzNAAAAAzMxMM0AAAABkZmYzQAAAAJiZmTNAAAAANDOzM0AAAADMzMwzQAAAAGRm5jNAAAAAmJkZNEAAAAA0MzM0QAAAAGRmZjRAAAAAAACANEAAAAA0M7M0QAAAAMzMzDRAAAAAZGbmNEAAAAAAAAA1QAAAADQzMzVAAAAAzMxMNUAAAAAAAIA1QAAAAJiZmTVAAAAAzMzMNUAAAABkZuY1QAAAAAAAADZAAAAAmJkZNkAAAAA0MzM2QAAAAGRmZjZAAAAAAACANkAAAACYmZk2QAAAADQzszZAAAAAZGbmNkAAAAAAAAA3QAAAAJiZGTdAAAAANDMzN0AAAADMzEw3QAAAAAAAgDdAAAAANDOzN0AAAADMzMw3QAAAAAAAADhAAAAAmJkZOEAAAAA0MzM4QAAAAMzMTDhAAAAAZGZmOEAAAACYmZk4QAAAADQzszhAAAAAzMzMOEAAAABkZuY4QAAAAAAAADlA\"},\"shape\":[204],\"dtype\":\"float64\",\"order\":\"little\"}],[\"y\",{\"type\":\"ndarray\",\"array\":{\"type\":\"bytes\",\"data\":\"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\"},\"shape\":[204],\"dtype\":\"float64\",\"order\":\"little\"}]]}}},\"view\":{\"type\":\"object\",\"name\":\"CDSView\",\"id\":\"p1241\",\"attributes\":{\"filter\":{\"type\":\"object\",\"name\":\"AllIndices\",\"id\":\"p1242\"}}},\"glyph\":{\"type\":\"object\",\"name\":\"Line\",\"id\":\"p1237\",\"attributes\":{\"x\":{\"type\":\"field\",\"field\":\"x\"},\"y\":{\"type\":\"field\",\"field\":\"y\"},\"line_color\":\"deepskyblue\",\"line_width\":2}},\"nonselection_glyph\":{\"type\":\"object\",\"name\":\"Line\",\"id\":\"p1238\",\"attributes\":{\"x\":{\"type\":\"field\",\"field\":\"x\"},\"y\":{\"type\":\"field\",\"field\":\"y\"},\"line_color\":\"deepskyblue\",\"line_alpha\":0.1,\"line_width\":2}},\"muted_glyph\":{\"type\":\"object\",\"name\":\"Line\",\"id\":\"p1239\",\"attributes\":{\"x\":{\"type\":\"field\",\"field\":\"x\"},\"y\":{\"type\":\"field\",\"field\":\"y\"},\"line_color\":\"deepskyblue\",\"line_alpha\":0.2,\"line_width\":2}}}},{\"type\":\"object\",\"name\":\"GlyphRenderer\",\"id\":\"p1251\",\"attributes\":{\"data_source\":{\"type\":\"object\",\"name\":\"ColumnDataSource\",\"id\":\"p1245\",\"attributes\":{\"selected\":{\"type\":\"object\",\"name\":\"Selection\",\"id\":\"p1246\",\"attributes\":{\"indices\":[],\"line_indices\":[]}},\"selection_policy\":{\"type\":\"object\",\"name\":\"UnionRenderers\",\"id\":\"p1247\"},\"data\":{\"type\":\"map\",\"entries\":[[\"x\",{\"type\":\"ndarray\",\"array\":{\"type\":\"bytes\",\"data\":\"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\"},\"shape\":[204],\"dtype\":\"float64\",\"order\":\"little\"}],[\"y\",{\"type\":\"ndarray\",\"array\":{\"type\":\"bytes\",\"data\":\"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\"},\"shape\":[204],\"dtype\":\"float64\",\"order\":\"little\"}]]}}},\"view\":{\"type\":\"object\",\"name\":\"CDSView\",\"id\":\"p1252\",\"attributes\":{\"filter\":{\"type\":\"object\",\"name\":\"AllIndices\",\"id\":\"p1253\"}}},\"glyph\":{\"type\":\"object\",\"name\":\"Line\",\"id\":\"p1248\",\"attributes\":{\"x\":{\"type\":\"field\",\"field\":\"x\"},\"y\":{\"type\":\"field\",\"field\":\"y\"},\"line_color\":\"limegreen\",\"line_width\":2}},\"nonselection_glyph\":{\"type\":\"object\",\"name\":\"Line\",\"id\":\"p1249\",\"attributes\":{\"x\":{\"type\":\"field\",\"field\":\"x\"},\"y\":{\"type\":\"field\",\"field\":\"y\"},\"line_color\":\"limegreen\",\"line_alpha\":0.1,\"line_width\":2}},\"muted_glyph\":{\"type\":\"object\",\"name\":\"Line\",\"id\":\"p1250\",\"attributes\":{\"x\":{\"type\":\"field\",\"field\":\"x\"},\"y\":{\"type\":\"field\",\"field\":\"y\"},\"line_color\":\"limegreen\",\"line_alpha\":0.2,\"line_width\":2}}}},{\"type\":\"object\",\"name\":\"GlyphRenderer\",\"id\":\"p1261\",\"attributes\":{\"data_source\":{\"type\":\"object\",\"name\":\"ColumnDataSource\",\"id\":\"p1255\",\"attributes\":{\"selected\":{\"type\":\"object\",\"name\":\"Selection\",\"id\":\"p1256\",\"attributes\":{\"indices\":[],\"line_indices\":[]}},\"selection_policy\":{\"type\":\"object\",\"name\":\"UnionRenderers\",\"id\":\"p1257\"},\"data\":{\"type\":\"map\",\"entries\":[[\"x\",{\"type\":\"ndarray\",\"array\":{\"type\":\"bytes\",\"data\":\"AAAAAAAAAAAAAAAAmJm5PwAAAACamck/AAAAADMz0z8AAAAAmZnZPwAAAAAAAOA/AAAAADMz4z8AAACAZmbmPwAAAICZmek/AAAAgMzM7D8AAAAAAADwPwAAAICZmfE/AAAAQDMz8z8AAADAzMz0PwAAAEBmZvY/AAAAAAAA+D8AAACAmZn5PwAAAEAzM/s/AAAAwMzM/D8AAABAZmb+PwAAAAAAAABAAAAAwMzMAEAAAACgmZkBQAAAAGBmZgJAAAAAIDMzA0AAAAAAAAAEQAAAAMDMzARAAAAAoJmZBUAAAABgZmYGQAAAACAzMwdAAAAAAAAACEAAAADAzMwIQAAAAKCZmQlAAAAAYGZmCkAAAAAgMzMLQAAAAAAAAAxAAAAAwMzMDEAAAACgmZkNQAAAAGBmZg5AAAAAIDMzD0AAAAAAAAAQQAAAAGBmZhBAAAAA0MzMEEAAAAAwMzMRQAAAAAAAABJAAAAAYGZmEkAAAADQzMwSQAAAADAzMxNAAAAAkJmZE0AAAABgZmYUQAAAANDMzBRAAAAAMDMzFUAAAACQmZkVQAAAAGBmZhZAAAAA0MzMFkAAAACQmZkXQAAAAAAAABhAAAAAYGZmGEAAAADQzMwYQAAAADAzMxlAAAAAAAAAGkAAAADQzMwaQAAAADAzMxtAAAAAAAAAHEAAAABgZmYcQAAAADAzMx1AAAAAkJmZHUAAAAAAAAAeQAAAAGBmZh5AAAAA0MzMHkAAAACQmZkfQAAAAAAAACBAAAAAMDMzIEAAAABoZmYgQAAAAMjMzCBAAAAAAAAAIUAAAAAwMzMhQAAAAGhmZiFAAAAAmJmZIUAAAAAAAAAiQAAAADAzMyJAAAAAaGZmIkAAAACYmZkiQAAAAAAAACNAAAAAMDMzI0AAAACYmZkjQAAAAMjMzCNAAAAAAAAAJEAAAAAwMzMkQAAAAGhmZiRAAAAAyMzMJEAAAAAwMzMlQAAAAGhmZiVAAAAAmJmZJUAAAADIzMwlQAAAAAAAACZAAAAAaGZmJkAAAACYmZkmQAAAAAAAACdAAAAAMDMzJ0AAAACYmZknQAAAAMjMzCdAAAAAAAAAKEAAAAAwMzMoQAAAAJiZmShAAAAAyMzMKEAAAAAAAAApQAAAADAzMylAAAAAaGZmKUAAAADIzMwpQAAAAAAAACpAAAAAMDMzKkAAAABoZmYqQAAAAMjMzCpAAAAAAAAAK0AAAAAwMzMrQAAAAGhmZitAAAAAmJmZK0AAAAAAAAAsQAAAADAzMyxAAAAAmJmZLEAAAADIzMwsQAAAAAAAAC1AAAAAMDMzLUAAAACYmZktQAAAAMjMzC1AAAAAMDMzLkAAAABoZmYuQAAAAJiZmS5AAAAAyMzMLkAAAAAAAAAvQAAAAGhmZi9AAAAAmJmZL0AAAADIzMwvQAAAAAAAADBAAAAANDMzMEAAAADMzEwwQAAAAAAAgDBAAAAAmJmZMEAAAAA0M7MwQAAAAMzMzDBAAAAAAAAAMUAAAACYmRkxQAAAAMzMTDFAAAAAZGZmMUAAAAAAAIAxQAAAAJiZmTFAAAAANDOzMUAAAABkZuYxQAAAAAAAADJAAAAAmJkZMkAAAAA0MzMyQAAAAMzMTDJAAAAAAACAMkAAAAA0M7MyQAAAAMzMzDJAAAAAAAAAM0AAAACYmRkzQAAAADQzMzNAAAAAzMxMM0AAAABkZmYzQAAAAJiZmTNAAAAANDOzM0AAAADMzMwzQAAAAGRm5jNAAAAAmJkZNEAAAAA0MzM0QAAAAGRmZjRAAAAAAACANEAAAAA0M7M0QAAAAMzMzDRAAAAAZGbmNEAAAAAAAAA1QAAAADQzMzVAAAAAzMxMNUAAAAAAAIA1QAAAAJiZmTVAAAAAzMzMNUAAAABkZuY1QAAAAAAAADZAAAAAmJkZNkAAAAA0MzM2QAAAAGRmZjZAAAAAAACANkAAAACYmZk2QAAAADQzszZAAAAAZGbmNkAAAAAAAAA3QAAAAJiZGTdAAAAANDMzN0AAAADMzEw3QAAAAAAAgDdAAAAANDOzN0AAAADMzMw3QAAAAAAAADhAAAAAmJkZOEAAAAA0MzM4QAAAAMzMTDhAAAAAZGZmOEAAAACYmZk4QAAAADQzszhAAAAAzMzMOEAAAABkZuY4QAAAAAAAADlA\"},\"shape\":[204],\"dtype\":\"float64\",\"order\":\"little\"}],[\"y\",{\"type\":\"ndarray\",\"array\":{\"type\":\"bytes\",\"data\":\"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\"},\"shape\":[204],\"dtype\":\"float64\",\"order\":\"little\"}]]}}},\"view\":{\"type\":\"object\",\"name\":\"CDSView\",\"id\":\"p1262\",\"attributes\":{\"filter\":{\"type\":\"object\",\"name\":\"AllIndices\",\"id\":\"p1263\"}}},\"glyph\":{\"type\":\"object\",\"name\":\"Line\",\"id\":\"p1258\",\"attributes\":{\"x\":{\"type\":\"field\",\"field\":\"x\"},\"y\":{\"type\":\"field\",\"field\":\"y\"},\"line_color\":\"red\",\"line_width\":2}},\"nonselection_glyph\":{\"type\":\"object\",\"name\":\"Line\",\"id\":\"p1259\",\"attributes\":{\"x\":{\"type\":\"field\",\"field\":\"x\"},\"y\":{\"type\":\"field\",\"field\":\"y\"},\"line_color\":\"red\",\"line_alpha\":0.1,\"line_width\":2}},\"muted_glyph\":{\"type\":\"object\",\"name\":\"Line\",\"id\":\"p1260\",\"attributes\":{\"x\":{\"type\":\"field\",\"field\":\"x\"},\"y\":{\"type\":\"field\",\"field\":\"y\"},\"line_color\":\"red\",\"line_alpha\":0.2,\"line_width\":2}}}},{\"type\":\"object\",\"name\":\"GlyphRenderer\",\"id\":\"p1271\",\"attributes\":{\"data_source\":{\"type\":\"object\",\"name\":\"ColumnDataSource\",\"id\":\"p1265\",\"attributes\":{\"selected\":{\"type\":\"object\",\"name\":\"Selection\",\"id\":\"p1266\",\"attributes\":{\"indices\":[],\"line_indices\":[]}},\"selection_policy\":{\"type\":\"object\",\"name\":\"UnionRenderers\",\"id\":\"p1267\"},\"data\":{\"type\":\"map\",\"entries\":[[\"x0\",[21.59999990463257]],[\"y0\",[0.0]],[\"x1\",[21.59999990463257]],[\"y1\",[464.094]]]}}},\"view\":{\"type\":\"object\",\"name\":\"CDSView\",\"id\":\"p1272\",\"attributes\":{\"filter\":{\"type\":\"object\",\"name\":\"AllIndices\",\"id\":\"p1273\"}}},\"glyph\":{\"type\":\"object\",\"name\":\"Segment\",\"id\":\"p1268\",\"attributes\":{\"x0\":{\"type\":\"field\",\"field\":\"x0\"},\"y0\":{\"type\":\"field\",\"field\":\"y0\"},\"x1\":{\"type\":\"field\",\"field\":\"x1\"},\"y1\":{\"type\":\"field\",\"field\":\"y1\"},\"line_color\":{\"type\":\"value\",\"value\":\"lightblue\"},\"line_width\":{\"type\":\"value\",\"value\":3}}},\"nonselection_glyph\":{\"type\":\"object\",\"name\":\"Segment\",\"id\":\"p1269\",\"attributes\":{\"x0\":{\"type\":\"field\",\"field\":\"x0\"},\"y0\":{\"type\":\"field\",\"field\":\"y0\"},\"x1\":{\"type\":\"field\",\"field\":\"x1\"},\"y1\":{\"type\":\"field\",\"field\":\"y1\"},\"line_color\":{\"type\":\"value\",\"value\":\"lightblue\"},\"line_alpha\":{\"type\":\"value\",\"value\":0.1},\"line_width\":{\"type\":\"value\",\"value\":3}}},\"muted_glyph\":{\"type\":\"object\",\"name\":\"Segment\",\"id\":\"p1270\",\"attributes\":{\"x0\":{\"type\":\"field\",\"field\":\"x0\"},\"y0\":{\"type\":\"field\",\"field\":\"y0\"},\"x1\":{\"type\":\"field\",\"field\":\"x1\"},\"y1\":{\"type\":\"field\",\"field\":\"y1\"},\"line_color\":{\"type\":\"value\",\"value\":\"lightblue\"},\"line_alpha\":{\"type\":\"value\",\"value\":0.2},\"line_width\":{\"type\":\"value\",\"value\":3}}}}},{\"type\":\"object\",\"name\":\"GlyphRenderer\",\"id\":\"p1280\",\"attributes\":{\"data_source\":{\"type\":\"object\",\"name\":\"ColumnDataSource\",\"id\":\"p1274\",\"attributes\":{\"selected\":{\"type\":\"object\",\"name\":\"Selection\",\"id\":\"p1275\",\"attributes\":{\"indices\":[],\"line_indices\":[]}},\"selection_policy\":{\"type\":\"object\",\"name\":\"UnionRenderers\",\"id\":\"p1276\"},\"data\":{\"type\":\"map\",\"entries\":[[\"x0\",[23.09999990463257]],[\"y0\",[0.0]],[\"x1\",[23.09999990463257]],[\"y1\",[464.094]]]}}},\"view\":{\"type\":\"object\",\"name\":\"CDSView\",\"id\":\"p1281\",\"attributes\":{\"filter\":{\"type\":\"object\",\"name\":\"AllIndices\",\"id\":\"p1282\"}}},\"glyph\":{\"type\":\"object\",\"name\":\"Segment\",\"id\":\"p1277\",\"attributes\":{\"x0\":{\"type\":\"field\",\"field\":\"x0\"},\"y0\":{\"type\":\"field\",\"field\":\"y0\"},\"x1\":{\"type\":\"field\",\"field\":\"x1\"},\"y1\":{\"type\":\"field\",\"field\":\"y1\"},\"line_color\":{\"type\":\"value\",\"value\":\"darkseagreen\"}}},\"nonselection_glyph\":{\"type\":\"object\",\"name\":\"Segment\",\"id\":\"p1278\",\"attributes\":{\"x0\":{\"type\":\"field\",\"field\":\"x0\"},\"y0\":{\"type\":\"field\",\"field\":\"y0\"},\"x1\":{\"type\":\"field\",\"field\":\"x1\"},\"y1\":{\"type\":\"field\",\"field\":\"y1\"},\"line_color\":{\"type\":\"value\",\"value\":\"darkseagreen\"},\"line_alpha\":{\"type\":\"value\",\"value\":0.1}}},\"muted_glyph\":{\"type\":\"object\",\"name\":\"Segment\",\"id\":\"p1279\",\"attributes\":{\"x0\":{\"type\":\"field\",\"field\":\"x0\"},\"y0\":{\"type\":\"field\",\"field\":\"y0\"},\"x1\":{\"type\":\"field\",\"field\":\"x1\"},\"y1\":{\"type\":\"field\",\"field\":\"y1\"},\"line_color\":{\"type\":\"value\",\"value\":\"darkseagreen\"},\"line_alpha\":{\"type\":\"value\",\"value\":0.2}}}}},{\"type\":\"object\",\"name\":\"GlyphRenderer\",\"id\":\"p1289\",\"attributes\":{\"data_source\":{\"type\":\"object\",\"name\":\"ColumnDataSource\",\"id\":\"p1283\",\"attributes\":{\"selected\":{\"type\":\"object\",\"name\":\"Selection\",\"id\":\"p1284\",\"attributes\":{\"indices\":[],\"line_indices\":[]}},\"selection_policy\":{\"type\":\"object\",\"name\":\"UnionRenderers\",\"id\":\"p1285\"},\"data\":{\"type\":\"map\",\"entries\":[[\"x0\",[20.09999990463257]],[\"y0\",[0.0]],[\"x1\",[20.09999990463257]],[\"y1\",[464.094]]]}}},\"view\":{\"type\":\"object\",\"name\":\"CDSView\",\"id\":\"p1290\",\"attributes\":{\"filter\":{\"type\":\"object\",\"name\":\"AllIndices\",\"id\":\"p1291\"}}},\"glyph\":{\"type\":\"object\",\"name\":\"Segment\",\"id\":\"p1286\",\"attributes\":{\"x0\":{\"type\":\"field\",\"field\":\"x0\"},\"y0\":{\"type\":\"field\",\"field\":\"y0\"},\"x1\":{\"type\":\"field\",\"field\":\"x1\"},\"y1\":{\"type\":\"field\",\"field\":\"y1\"},\"line_color\":{\"type\":\"value\",\"value\":\"darkseagreen\"}}},\"nonselection_glyph\":{\"type\":\"object\",\"name\":\"Segment\",\"id\":\"p1287\",\"attributes\":{\"x0\":{\"type\":\"field\",\"field\":\"x0\"},\"y0\":{\"type\":\"field\",\"field\":\"y0\"},\"x1\":{\"type\":\"field\",\"field\":\"x1\"},\"y1\":{\"type\":\"field\",\"field\":\"y1\"},\"line_color\":{\"type\":\"value\",\"value\":\"darkseagreen\"},\"line_alpha\":{\"type\":\"value\",\"value\":0.1}}},\"muted_glyph\":{\"type\":\"object\",\"name\":\"Segment\",\"id\":\"p1288\",\"attributes\":{\"x0\":{\"type\":\"field\",\"field\":\"x0\"},\"y0\":{\"type\":\"field\",\"field\":\"y0\"},\"x1\":{\"type\":\"field\",\"field\":\"x1\"},\"y1\":{\"type\":\"field\",\"field\":\"y1\"},\"line_color\":{\"type\":\"value\",\"value\":\"darkseagreen\"},\"line_alpha\":{\"type\":\"value\",\"value\":0.2}}}}},{\"type\":\"object\",\"name\":\"GlyphRenderer\",\"id\":\"p1298\",\"attributes\":{\"data_source\":{\"type\":\"object\",\"name\":\"ColumnDataSource\",\"id\":\"p1292\",\"attributes\":{\"selected\":{\"type\":\"object\",\"name\":\"Selection\",\"id\":\"p1293\",\"attributes\":{\"indices\":[],\"line_indices\":[]}},\"selection_policy\":{\"type\":\"object\",\"name\":\"UnionRenderers\",\"id\":\"p1294\"},\"data\":{\"type\":\"map\",\"entries\":[[\"x\",[21.59999990463257]],[\"y\",[464.094]],[\"size\",[20]]]}}},\"view\":{\"type\":\"object\",\"name\":\"CDSView\",\"id\":\"p1299\",\"attributes\":{\"filter\":{\"type\":\"object\",\"name\":\"AllIndices\",\"id\":\"p1300\"}}},\"glyph\":{\"type\":\"object\",\"name\":\"Scatter\",\"id\":\"p1295\",\"attributes\":{\"x\":{\"type\":\"field\",\"field\":\"x\"},\"y\":{\"type\":\"field\",\"field\":\"y\"},\"size\":{\"type\":\"field\",\"field\":\"size\"},\"line_color\":{\"type\":\"value\",\"value\":\"lightblue\"},\"line_width\":{\"type\":\"value\",\"value\":3},\"fill_color\":{\"type\":\"value\",\"value\":null},\"marker\":{\"type\":\"value\",\"value\":\"square_cross\"}}},\"nonselection_glyph\":{\"type\":\"object\",\"name\":\"Scatter\",\"id\":\"p1296\",\"attributes\":{\"x\":{\"type\":\"field\",\"field\":\"x\"},\"y\":{\"type\":\"field\",\"field\":\"y\"},\"size\":{\"type\":\"field\",\"field\":\"size\"},\"line_color\":{\"type\":\"value\",\"value\":\"lightblue\"},\"line_alpha\":{\"type\":\"value\",\"value\":0.1},\"line_width\":{\"type\":\"value\",\"value\":3},\"fill_color\":{\"type\":\"value\",\"value\":null},\"fill_alpha\":{\"type\":\"value\",\"value\":0.1},\"hatch_alpha\":{\"type\":\"value\",\"value\":0.1},\"marker\":{\"type\":\"value\",\"value\":\"square_cross\"}}},\"muted_glyph\":{\"type\":\"object\",\"name\":\"Scatter\",\"id\":\"p1297\",\"attributes\":{\"x\":{\"type\":\"field\",\"field\":\"x\"},\"y\":{\"type\":\"field\",\"field\":\"y\"},\"size\":{\"type\":\"field\",\"field\":\"size\"},\"line_color\":{\"type\":\"value\",\"value\":\"lightblue\"},\"line_alpha\":{\"type\":\"value\",\"value\":0.2},\"line_width\":{\"type\":\"value\",\"value\":3},\"fill_color\":{\"type\":\"value\",\"value\":null},\"fill_alpha\":{\"type\":\"value\",\"value\":0.2},\"hatch_alpha\":{\"type\":\"value\",\"value\":0.2},\"marker\":{\"type\":\"value\",\"value\":\"square_cross\"}}}}}],\"toolbar\":{\"type\":\"object\",\"name\":\"Toolbar\",\"id\":\"p1187\",\"attributes\":{\"tools\":[{\"type\":\"object\",\"name\":\"PanTool\",\"id\":\"p1202\"},{\"type\":\"object\",\"name\":\"WheelZoomTool\",\"id\":\"p1203\",\"attributes\":{\"renderers\":\"auto\"}},{\"type\":\"object\",\"name\":\"BoxZoomTool\",\"id\":\"p1204\",\"attributes\":{\"overlay\":{\"type\":\"object\",\"name\":\"BoxAnnotation\",\"id\":\"p1205\",\"attributes\":{\"syncable\":false,\"level\":\"overlay\",\"visible\":false,\"left\":{\"type\":\"number\",\"value\":\"nan\"},\"right\":{\"type\":\"number\",\"value\":\"nan\"},\"top\":{\"type\":\"number\",\"value\":\"nan\"},\"bottom\":{\"type\":\"number\",\"value\":\"nan\"},\"left_units\":\"canvas\",\"right_units\":\"canvas\",\"top_units\":\"canvas\",\"bottom_units\":\"canvas\",\"line_color\":\"black\",\"line_alpha\":1.0,\"line_width\":2,\"line_dash\":[4,4],\"fill_color\":\"lightgrey\",\"fill_alpha\":0.5}}}},{\"type\":\"object\",\"name\":\"SaveTool\",\"id\":\"p1210\"},{\"type\":\"object\",\"name\":\"ResetTool\",\"id\":\"p1211\"},{\"type\":\"object\",\"name\":\"HelpTool\",\"id\":\"p1212\"},{\"type\":\"object\",\"name\":\"HoverTool\",\"id\":\"p1244\",\"attributes\":{\"renderers\":\"auto\",\"tooltips\":[[\"Y-val\",\"@y{0.00}\"]]}}]}},\"left\":[{\"type\":\"object\",\"name\":\"LinearAxis\",\"id\":\"p1197\",\"attributes\":{\"ticker\":{\"type\":\"object\",\"name\":\"BasicTicker\",\"id\":\"p1198\",\"attributes\":{\"mantissas\":[1,2,5]}},\"formatter\":{\"type\":\"object\",\"name\":\"BasicTickFormatter\",\"id\":\"p1199\"},\"axis_label\":\"km/h\",\"axis_label_standoff\":10,\"axis_label_text_color\":\"#E0E0E0\",\"axis_label_text_font\":\"Helvetica\",\"axis_label_text_font_size\":\"1.25em\",\"axis_label_text_font_style\":\"normal\",\"major_label_policy\":{\"type\":\"object\",\"name\":\"AllLabels\",\"id\":\"p1200\"},\"major_label_text_color\":\"#E0E0E0\",\"major_label_text_font\":\"Helvetica\",\"major_label_text_font_size\":\"1.025em\",\"axis_line_color\":\"#E0E0E0\",\"axis_line_alpha\":0,\"major_tick_line_color\":\"#E0E0E0\",\"major_tick_line_alpha\":0,\"minor_tick_line_color\":\"#E0E0E0\",\"minor_tick_line_alpha\":0}},{\"type\":\"object\",\"name\":\"LinearAxis\",\"id\":\"p1215\",\"attributes\":{\"y_range_name\":\"altitudeFt\",\"ticker\":{\"type\":\"object\",\"name\":\"BasicTicker\",\"id\":\"p1216\",\"attributes\":{\"mantissas\":[1,2,5]}},\"formatter\":{\"type\":\"object\",\"name\":\"BasicTickFormatter\",\"id\":\"p1217\"},\"axis_label\":\"Alt (ft)\",\"axis_label_standoff\":10,\"axis_label_text_color\":\"#E0E0E0\",\"axis_label_text_font\":\"Helvetica\",\"axis_label_text_font_size\":\"1.25em\",\"axis_label_text_font_style\":\"normal\",\"major_label_policy\":{\"type\":\"object\",\"name\":\"AllLabels\",\"id\":\"p1218\"},\"major_label_text_color\":\"#E0E0E0\",\"major_label_text_font\":\"Helvetica\",\"major_label_text_font_size\":\"1.025em\",\"axis_line_color\":\"#E0E0E0\",\"axis_line_alpha\":0,\"major_tick_line_color\":\"#E0E0E0\",\"major_tick_line_alpha\":0,\"minor_tick_line_color\":\"#E0E0E0\",\"minor_tick_line_alpha\":0}},{\"type\":\"object\",\"name\":\"LinearAxis\",\"id\":\"p1219\",\"attributes\":{\"y_range_name\":\"angle\",\"ticker\":{\"type\":\"object\",\"name\":\"BasicTicker\",\"id\":\"p1220\",\"attributes\":{\"mantissas\":[1,2,5]}},\"formatter\":{\"type\":\"object\",\"name\":\"BasicTickFormatter\",\"id\":\"p1221\"},\"axis_label\":\"angle\",\"axis_label_standoff\":10,\"axis_label_text_color\":\"#E0E0E0\",\"axis_label_text_font\":\"Helvetica\",\"axis_label_text_font_size\":\"1.25em\",\"axis_label_text_font_style\":\"normal\",\"major_label_policy\":{\"type\":\"object\",\"name\":\"AllLabels\",\"id\":\"p1222\"},\"major_label_text_color\":\"#E0E0E0\",\"major_label_text_font\":\"Helvetica\",\"major_label_text_font_size\":\"1.025em\",\"axis_line_color\":\"#E0E0E0\",\"axis_line_alpha\":0,\"major_tick_line_color\":\"#E0E0E0\",\"major_tick_line_alpha\":0,\"minor_tick_line_color\":\"#E0E0E0\",\"minor_tick_line_alpha\":0}}],\"below\":[{\"type\":\"object\",\"name\":\"LinearAxis\",\"id\":\"p1192\",\"attributes\":{\"ticker\":{\"type\":\"object\",\"name\":\"BasicTicker\",\"id\":\"p1193\",\"attributes\":{\"mantissas\":[1,2,5]}},\"formatter\":{\"type\":\"object\",\"name\":\"BasicTickFormatter\",\"id\":\"p1194\"},\"axis_label\":\"seconds from exit\",\"axis_label_standoff\":10,\"axis_label_text_color\":\"#E0E0E0\",\"axis_label_text_font\":\"Helvetica\",\"axis_label_text_font_size\":\"1.25em\",\"axis_label_text_font_style\":\"normal\",\"major_label_policy\":{\"type\":\"object\",\"name\":\"AllLabels\",\"id\":\"p1195\"},\"major_label_text_color\":\"#E0E0E0\",\"major_label_text_font\":\"Helvetica\",\"major_label_text_font_size\":\"1.025em\",\"axis_line_color\":\"#E0E0E0\",\"axis_line_alpha\":0,\"major_tick_line_color\":\"#E0E0E0\",\"major_tick_line_alpha\":0,\"minor_tick_line_color\":\"#E0E0E0\",\"minor_tick_line_alpha\":0}}],\"center\":[{\"type\":\"object\",\"name\":\"Grid\",\"id\":\"p1196\",\"attributes\":{\"axis\":{\"id\":\"p1192\"},\"grid_line_color\":\"#E0E0E0\",\"grid_line_alpha\":0.25}},{\"type\":\"object\",\"name\":\"Grid\",\"id\":\"p1201\",\"attributes\":{\"dimension\":1,\"axis\":{\"id\":\"p1197\"},\"grid_line_color\":\"#E0E0E0\",\"grid_line_alpha\":0.25}},{\"type\":\"object\",\"name\":\"Legend\",\"id\":\"p1232\",\"attributes\":{\"border_line_alpha\":0,\"background_fill_color\":\"#20262B\",\"background_fill_alpha\":0.25,\"label_text_color\":\"#E0E0E0\",\"label_text_font\":\"Helvetica\",\"label_text_font_size\":\"1.025em\",\"label_standoff\":8,\"glyph_width\":15,\"spacing\":8,\"items\":[{\"type\":\"object\",\"name\":\"LegendItem\",\"id\":\"p1233\",\"attributes\":{\"label\":{\"type\":\"value\",\"value\":\"Alt (ft)\"},\"renderers\":[{\"id\":\"p1229\"}]}},{\"type\":\"object\",\"name\":\"LegendItem\",\"id\":\"p1243\",\"attributes\":{\"label\":{\"type\":\"value\",\"value\":\"angle\"},\"renderers\":[{\"id\":\"p1240\"}]}},{\"type\":\"object\",\"name\":\"LegendItem\",\"id\":\"p1254\",\"attributes\":{\"label\":{\"type\":\"value\",\"value\":\"speed\"},\"renderers\":[{\"id\":\"p1251\"}]}},{\"type\":\"object\",\"name\":\"LegendItem\",\"id\":\"p1264\",\"attributes\":{\"label\":{\"type\":\"value\",\"value\":\"H-speed\"},\"renderers\":[{\"id\":\"p1261\"}]}}]}}],\"background_fill_color\":\"#20262B\",\"border_fill_color\":\"#15191C\"}}]}};\n",
       "  const render_items = [{\"docid\":\"49753fbe-82c8-4e8a-9c6c-f0a93357fa71\",\"roots\":{\"p1178\":\"c4fd6475-0776-42d9-a3cb-d4c223a1be74\"},\"root_ids\":[\"p1178\"]}];\n",
       "  void root.Bokeh.embed.embed_items_notebook(docs_json, render_items);\n",
       "  }\n",
       "  if (root.Bokeh !== undefined) {\n",
       "    embed_document(root);\n",
       "  } else {\n",
       "    let attempts = 0;\n",
       "    const timer = setInterval(function(root) {\n",
       "      if (root.Bokeh !== undefined) {\n",
       "        clearInterval(timer);\n",
       "        embed_document(root);\n",
       "      } else {\n",
       "        attempts++;\n",
       "        if (attempts > 100) {\n",
       "          clearInterval(timer);\n",
       "          console.log(\"Bokeh: ERROR: Unable to run BokehJS code because BokehJS library is missing\");\n",
       "        }\n",
       "      }\n",
       "    }, 10, root)\n",
       "  }\n",
       "})(window);"
      ],
      "application/vnd.bokehjs_exec.v0+json": ""
     },
     "metadata": {
      "application/vnd.bokehjs_exec.v0+json": {
       "id": "p1178"
      }
     },
     "output_type": "display_data"
    },
    {
     "data": {
      "application/vnd.jupyter.widget-view+json": {
       "model_id": "b7da7d8873ad4f4f80760e005781cf29",
       "version_major": 2,
       "version_minor": 0
      },
      "text/plain": [
       "HTML(value='<hr><h1><span style=\"color: #0f0\">12-08-44 jump - 🟢 valid - score = 457.52 km/h</span></h1>')"
      ]
     },
     "metadata": {},
     "output_type": "display_data"
    },
    {
     "data": {
      "application/vnd.jupyter.widget-view+json": {
       "model_id": "9e83a67dc8bd4e579d026e8b974002e2",
       "version_major": 2,
       "version_minor": 0
      },
      "text/plain": [
       "HTML(value='<h3>Max speed = 460; exit at 4029 m (13220 ft), end scoring window at 1773 m (5818 ft)')"
      ]
     },
     "metadata": {},
     "output_type": "display_data"
    },
    {
     "data": {
      "application/vnd.jupyter.widget-view+json": {
       "model_id": "7d92e37a755b4510a54e818809d7f315",
       "version_major": 2,
       "version_minor": 0
      },
      "text/plain": [
       "HTML(value='</h3>')"
      ]
     },
     "metadata": {},
     "output_type": "display_data"
    },
    {
     "data": {
      "text/html": [
       "<div>\n",
       "<style scoped>\n",
       "    .dataframe tbody tr th:only-of-type {\n",
       "        vertical-align: middle;\n",
       "    }\n",
       "\n",
       "    .dataframe tbody tr th {\n",
       "        vertical-align: top;\n",
       "    }\n",
       "\n",
       "    .dataframe thead th {\n",
       "        text-align: right;\n",
       "    }\n",
       "</style>\n",
       "<table border=\"1\" class=\"dataframe\">\n",
       "  <thead>\n",
       "    <tr style=\"text-align: right;\">\n",
       "      <th></th>\n",
       "      <th>time</th>\n",
       "      <th>vKMh</th>\n",
       "      <th>hKMh</th>\n",
       "      <th>speedAngle</th>\n",
       "      <th>netVectorKMh</th>\n",
       "      <th>altitude (ft)</th>\n",
       "    </tr>\n",
       "  </thead>\n",
       "  <tbody>\n",
       "    <tr>\n",
       "      <th></th>\n",
       "      <td>5.0</td>\n",
       "      <td>172</td>\n",
       "      <td>94</td>\n",
       "      <td>61.3</td>\n",
       "      <td>197</td>\n",
       "      <td>12806</td>\n",
       "    </tr>\n",
       "    <tr>\n",
       "      <th></th>\n",
       "      <td>10.0</td>\n",
       "      <td>290</td>\n",
       "      <td>99</td>\n",
       "      <td>71.2</td>\n",
       "      <td>307</td>\n",
       "      <td>11717</td>\n",
       "    </tr>\n",
       "    <tr>\n",
       "      <th></th>\n",
       "      <td>15.0</td>\n",
       "      <td>386</td>\n",
       "      <td>99</td>\n",
       "      <td>75.6</td>\n",
       "      <td>399</td>\n",
       "      <td>10155</td>\n",
       "    </tr>\n",
       "    <tr>\n",
       "      <th></th>\n",
       "      <td>20.0</td>\n",
       "      <td>440</td>\n",
       "      <td>95</td>\n",
       "      <td>77.8</td>\n",
       "      <td>450</td>\n",
       "      <td>8209</td>\n",
       "    </tr>\n",
       "    <tr>\n",
       "      <th></th>\n",
       "      <td>25.0</td>\n",
       "      <td>460</td>\n",
       "      <td>56</td>\n",
       "      <td>83.1</td>\n",
       "      <td>463</td>\n",
       "      <td>6178</td>\n",
       "    </tr>\n",
       "  </tbody>\n",
       "</table>\n",
       "</div>"
      ],
      "text/plain": [
       "  time  vKMh  hKMh  speedAngle  netVectorKMh  altitude (ft)\n",
       "   5.0   172    94        61.3           197          12806\n",
       "  10.0   290    99        71.2           307          11717\n",
       "  15.0   386    99        75.6           399          10155\n",
       "  20.0   440    95        77.8           450           8209\n",
       "  25.0   460    56        83.1           463           6178"
      ]
     },
     "metadata": {},
     "output_type": "display_data"
    },
    {
     "data": {
      "text/html": [
       "\n",
       "  <div id=\"b5354459-b751-4610-916d-1c63143a9814\" data-root-id=\"p1319\" style=\"display: contents;\"></div>\n"
      ]
     },
     "metadata": {},
     "output_type": "display_data"
    },
    {
     "data": {
      "application/javascript": [
       "(function(root) {\n",
       "  function embed_document(root) {\n",
       "  const docs_json = {\"5a972088-882c-4065-bf4b-49ecaa73465f\":{\"version\":\"3.4.1\",\"title\":\"Bokeh Application\",\"roots\":[{\"type\":\"object\",\"name\":\"Figure\",\"id\":\"p1319\",\"attributes\":{\"width\":900,\"height\":500,\"x_range\":{\"type\":\"object\",\"name\":\"Range1d\",\"id\":\"p1329\",\"attributes\":{\"end\":35.0}},\"y_range\":{\"type\":\"object\",\"name\":\"Range1d\",\"id\":\"p1330\",\"attributes\":{\"end\":550.0}},\"x_scale\":{\"type\":\"object\",\"name\":\"LinearScale\",\"id\":\"p1331\"},\"y_scale\":{\"type\":\"object\",\"name\":\"LinearScale\",\"id\":\"p1332\"},\"extra_y_ranges\":{\"type\":\"map\",\"entries\":[[\"altitudeFt\",{\"type\":\"object\",\"name\":\"Range1d\",\"id\":\"p1354\",\"attributes\":{\"start\":5384.5954856,\"end\":13720.149328800002}}],[\"angle\",{\"type\":\"object\",\"name\":\"Range1d\",\"id\":\"p1355\",\"attributes\":{\"end\":90.0}}]]},\"title\":{\"type\":\"object\",\"name\":\"Title\",\"id\":\"p1322\",\"attributes\":{\"text\":\"12-08-44\",\"text_color\":\"#E0E0E0\",\"text_font\":\"Helvetica\",\"text_font_size\":\"1.15em\"}},\"outline_line_color\":\"#E0E0E0\",\"outline_line_alpha\":0.25,\"renderers\":[{\"type\":\"object\",\"name\":\"GlyphRenderer\",\"id\":\"p1370\",\"attributes\":{\"y_range_name\":\"altitudeFt\",\"data_source\":{\"type\":\"object\",\"name\":\"ColumnDataSource\",\"id\":\"p1364\",\"attributes\":{\"selected\":{\"type\":\"object\",\"name\":\"Selection\",\"id\":\"p1365\",\"attributes\":{\"indices\":[],\"line_indices\":[]}},\"selection_policy\":{\"type\":\"object\",\"name\":\"UnionRenderers\",\"id\":\"p1366\"},\"data\":{\"type\":\"map\",\"entries\":[[\"x\",{\"type\":\"ndarray\",\"array\":{\"type\":\"bytes\",\"data\":\"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\"},\"shape\":[212],\"dtype\":\"float64\",\"order\":\"little\"}],[\"y\",{\"type\":\"ndarray\",\"array\":{\"type\":\"bytes\",\"data\":\"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\"},\"shape\":[212],\"dtype\":\"float64\",\"order\":\"little\"}]]}}},\"view\":{\"type\":\"object\",\"name\":\"CDSView\",\"id\":\"p1371\",\"attributes\":{\"filter\":{\"type\":\"object\",\"name\":\"AllIndices\",\"id\":\"p1372\"}}},\"glyph\":{\"type\":\"object\",\"name\":\"Line\",\"id\":\"p1367\",\"attributes\":{\"x\":{\"type\":\"field\",\"field\":\"x\"},\"y\":{\"type\":\"field\",\"field\":\"y\"},\"line_color\":\"palegoldenrod\",\"line_width\":2}},\"nonselection_glyph\":{\"type\":\"object\",\"name\":\"Line\",\"id\":\"p1368\",\"attributes\":{\"x\":{\"type\":\"field\",\"field\":\"x\"},\"y\":{\"type\":\"field\",\"field\":\"y\"},\"line_color\":\"palegoldenrod\",\"line_alpha\":0.1,\"line_width\":2}},\"muted_glyph\":{\"type\":\"object\",\"name\":\"Line\",\"id\":\"p1369\",\"attributes\":{\"x\":{\"type\":\"field\",\"field\":\"x\"},\"y\":{\"type\":\"field\",\"field\":\"y\"},\"line_color\":\"palegoldenrod\",\"line_alpha\":0.2,\"line_width\":2}}}},{\"type\":\"object\",\"name\":\"GlyphRenderer\",\"id\":\"p1381\",\"attributes\":{\"y_range_name\":\"angle\",\"data_source\":{\"type\":\"object\",\"name\":\"ColumnDataSource\",\"id\":\"p1375\",\"attributes\":{\"selected\":{\"type\":\"object\",\"name\":\"Selection\",\"id\":\"p1376\",\"attributes\":{\"indices\":[],\"line_indices\":[]}},\"selection_policy\":{\"type\":\"object\",\"name\":\"UnionRenderers\",\"id\":\"p1377\"},\"data\":{\"type\":\"map\",\"entries\":[[\"x\",{\"type\":\"ndarray\",\"array\":{\"type\":\"bytes\",\"data\":\"AAAAAAAAAAAAAAAAnJm5PwAAAACamck/AAAAADQz0z8AAAAAmpnZPwAAAAAAAOA/AAAAgDMz4z8AAACAZmbmPwAAAACamek/AAAAAM3M7D8AAAAAAADwPwAAAMCZmfE/AAAAQDMz8z8AAAAAzcz0PwAAAIBmZvY/AAAAAAAA+D8AAADAmZn5PwAAAEAzM/s/AAAAAM3M/D8AAACAZmb+PwAAAAAAAABAAAAA4MzMAEAAAACgmZkBQAAAAIBmZgJAAAAAQDMzA0AAAAAAAAAEQAAAAODMzARAAAAAoJmZBUAAAACAZmYGQAAAAEAzMwdAAAAAAAAACEAAAADgzMwIQAAAAKCZmQlAAAAAgGZmCkAAAABAMzMLQAAAAAAAAAxAAAAA4MzMDEAAAACgmZkNQAAAAIBmZg5AAAAAQDMzD0AAAAAAAAAQQAAAANDMzBBAAAAAQDMzEUAAAACgmZkRQAAAAAAAABJAAAAA0MzMEkAAAABAMzMTQAAAAAAAABRAAAAAcGZmFEAAAADQzMwUQAAAAEAzMxVAAAAAoJmZFUAAAABwZmYWQAAAANDMzBZAAAAAQDMzF0AAAACgmZkXQAAAAHBmZhhAAAAA0MzMGEAAAABAMzMZQAAAAKCZmRlAAAAAAAAAGkAAAADQzMwaQAAAAEAzMxtAAAAAAAAAHEAAAABwZmYcQAAAANDMzBxAAAAAQDMzHUAAAAAAAAAeQAAAAHBmZh5AAAAAQDMzH0AAAACgmZkfQAAAAAAAACBAAAAAODMzIEAAAABoZmYgQAAAANDMzCBAAAAAAAAAIUAAAAA4MzMhQAAAAGhmZiFAAAAA0MzMIUAAAAAAAAAiQAAAADgzMyJAAAAAaGZmIkAAAACgmZkiQAAAAAAAACNAAAAAODMzI0AAAABoZmYjQAAAAAAAACRAAAAAODMzJEAAAABoZmYkQAAAAKCZmSRAAAAA0MzMJEAAAAA4MzMlQAAAAGhmZiVAAAAAoJmZJUAAAADQzMwlQAAAAAAAACZAAAAAaGZmJkAAAACgmZkmQAAAANDMzCZAAAAAAAAAJ0AAAABoZmYnQAAAAKCZmSdAAAAA0MzMJ0AAAAAAAAAoQAAAADgzMyhAAAAAoJmZKEAAAADQzMwoQAAAAAAAAClAAAAAODMzKUAAAACgmZkpQAAAANDMzClAAAAAAAAAKkAAAAA4MzMqQAAAAGhmZipAAAAA0MzMKkAAAAAAAAArQAAAAGhmZitAAAAAoJmZK0AAAADQzMwrQAAAAAAAACxAAAAAaGZmLEAAAACgmZksQAAAANDMzCxAAAAAAAAALUAAAAA4MzMtQAAAAKCZmS1AAAAA0MzMLUAAAAAAAAAuQAAAADgzMy5AAAAAoJmZLkAAAADQzMwuQAAAAAAAAC9AAAAAODMzL0AAAABoZmYvQAAAANDMzC9AAAAAAAAAMEAAAACcmRkwQAAAADQzMzBAAAAAaGZmMEAAAAAAAIAwQAAAADQzszBAAAAA0MzMMEAAAAAAAAAxQAAAAJyZGTFAAAAA0MxMMUAAAABoZmYxQAAAAAAAgDFAAAAAnJmZMUAAAADQzMwxQAAAAGhm5jFAAAAAnJkZMkAAAAA0MzMyQAAAANDMTDJAAAAAaGZmMkAAAAAAAIAyQAAAADQzszJAAAAA0MzMMkAAAABoZuYyQAAAAAAAADNAAAAANDMzM0AAAADQzEwzQAAAAGhmZjNAAAAAAACAM0AAAACcmZkzQAAAANDMzDNAAAAAaGbmM0AAAACcmRk0QAAAADQzMzRAAAAAaGZmNEAAAAAAAIA0QAAAAJyZmTRAAAAANDOzNEAAAABoZuY0QAAAAAAAADVAAAAAnJkZNUAAAAA0MzM1QAAAANDMTDVAAAAAAACANUAAAACcmZk1QAAAADQzszVAAAAA0MzMNUAAAAAAAAA2QAAAAJyZGTZAAAAANDMzNkAAAADQzEw2QAAAAGhmZjZAAAAAnJmZNkAAAAA0M7M2QAAAAGhm5jZAAAAAAAAAN0AAAACcmRk3QAAAADQzMzdAAAAAaGZmN0AAAAAAAIA3QAAAADQzszdAAAAA0MzMN0AAAABoZuY3QAAAAAAAADhAAAAAnJkZOEAAAADQzEw4QAAAAGhmZjhAAAAAAACAOEAAAACcmZk4QAAAANDMzDhAAAAAaGbmOEAAAAAAAAA5QAAAAJyZGTlAAAAANDMzOUAAAABoZmY5QAAAAAAAgDlAAAAAnJmZOUAAAAA0M7M5QA==\"},\"shape\":[212],\"dtype\":\"float64\",\"order\":\"little\"}],[\"y\",{\"type\":\"ndarray\",\"array\":{\"type\":\"bytes\",\"data\":\"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\"},\"shape\":[212],\"dtype\":\"float64\",\"order\":\"little\"}]]}}},\"view\":{\"type\":\"object\",\"name\":\"CDSView\",\"id\":\"p1382\",\"attributes\":{\"filter\":{\"type\":\"object\",\"name\":\"AllIndices\",\"id\":\"p1383\"}}},\"glyph\":{\"type\":\"object\",\"name\":\"Line\",\"id\":\"p1378\",\"attributes\":{\"x\":{\"type\":\"field\",\"field\":\"x\"},\"y\":{\"type\":\"field\",\"field\":\"y\"},\"line_color\":\"deepskyblue\",\"line_width\":2}},\"nonselection_glyph\":{\"type\":\"object\",\"name\":\"Line\",\"id\":\"p1379\",\"attributes\":{\"x\":{\"type\":\"field\",\"field\":\"x\"},\"y\":{\"type\":\"field\",\"field\":\"y\"},\"line_color\":\"deepskyblue\",\"line_alpha\":0.1,\"line_width\":2}},\"muted_glyph\":{\"type\":\"object\",\"name\":\"Line\",\"id\":\"p1380\",\"attributes\":{\"x\":{\"type\":\"field\",\"field\":\"x\"},\"y\":{\"type\":\"field\",\"field\":\"y\"},\"line_color\":\"deepskyblue\",\"line_alpha\":0.2,\"line_width\":2}}}},{\"type\":\"object\",\"name\":\"GlyphRenderer\",\"id\":\"p1392\",\"attributes\":{\"data_source\":{\"type\":\"object\",\"name\":\"ColumnDataSource\",\"id\":\"p1386\",\"attributes\":{\"selected\":{\"type\":\"object\",\"name\":\"Selection\",\"id\":\"p1387\",\"attributes\":{\"indices\":[],\"line_indices\":[]}},\"selection_policy\":{\"type\":\"object\",\"name\":\"UnionRenderers\",\"id\":\"p1388\"},\"data\":{\"type\":\"map\",\"entries\":[[\"x\",{\"type\":\"ndarray\",\"array\":{\"type\":\"bytes\",\"data\":\"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\"},\"shape\":[212],\"dtype\":\"float64\",\"order\":\"little\"}],[\"y\",{\"type\":\"ndarray\",\"array\":{\"type\":\"bytes\",\"data\":\"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\"},\"shape\":[212],\"dtype\":\"float64\",\"order\":\"little\"}]]}}},\"view\":{\"type\":\"object\",\"name\":\"CDSView\",\"id\":\"p1393\",\"attributes\":{\"filter\":{\"type\":\"object\",\"name\":\"AllIndices\",\"id\":\"p1394\"}}},\"glyph\":{\"type\":\"object\",\"name\":\"Line\",\"id\":\"p1389\",\"attributes\":{\"x\":{\"type\":\"field\",\"field\":\"x\"},\"y\":{\"type\":\"field\",\"field\":\"y\"},\"line_color\":\"limegreen\",\"line_width\":2}},\"nonselection_glyph\":{\"type\":\"object\",\"name\":\"Line\",\"id\":\"p1390\",\"attributes\":{\"x\":{\"type\":\"field\",\"field\":\"x\"},\"y\":{\"type\":\"field\",\"field\":\"y\"},\"line_color\":\"limegreen\",\"line_alpha\":0.1,\"line_width\":2}},\"muted_glyph\":{\"type\":\"object\",\"name\":\"Line\",\"id\":\"p1391\",\"attributes\":{\"x\":{\"type\":\"field\",\"field\":\"x\"},\"y\":{\"type\":\"field\",\"field\":\"y\"},\"line_color\":\"limegreen\",\"line_alpha\":0.2,\"line_width\":2}}}},{\"type\":\"object\",\"name\":\"GlyphRenderer\",\"id\":\"p1402\",\"attributes\":{\"data_source\":{\"type\":\"object\",\"name\":\"ColumnDataSource\",\"id\":\"p1396\",\"attributes\":{\"selected\":{\"type\":\"object\",\"name\":\"Selection\",\"id\":\"p1397\",\"attributes\":{\"indices\":[],\"line_indices\":[]}},\"selection_policy\":{\"type\":\"object\",\"name\":\"UnionRenderers\",\"id\":\"p1398\"},\"data\":{\"type\":\"map\",\"entries\":[[\"x\",{\"type\":\"ndarray\",\"array\":{\"type\":\"bytes\",\"data\":\"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\"},\"shape\":[212],\"dtype\":\"float64\",\"order\":\"little\"}],[\"y\",{\"type\":\"ndarray\",\"array\":{\"type\":\"bytes\",\"data\":\"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\"},\"shape\":[212],\"dtype\":\"float64\",\"order\":\"little\"}]]}}},\"view\":{\"type\":\"object\",\"name\":\"CDSView\",\"id\":\"p1403\",\"attributes\":{\"filter\":{\"type\":\"object\",\"name\":\"AllIndices\",\"id\":\"p1404\"}}},\"glyph\":{\"type\":\"object\",\"name\":\"Line\",\"id\":\"p1399\",\"attributes\":{\"x\":{\"type\":\"field\",\"field\":\"x\"},\"y\":{\"type\":\"field\",\"field\":\"y\"},\"line_color\":\"red\",\"line_width\":2}},\"nonselection_glyph\":{\"type\":\"object\",\"name\":\"Line\",\"id\":\"p1400\",\"attributes\":{\"x\":{\"type\":\"field\",\"field\":\"x\"},\"y\":{\"type\":\"field\",\"field\":\"y\"},\"line_color\":\"red\",\"line_alpha\":0.1,\"line_width\":2}},\"muted_glyph\":{\"type\":\"object\",\"name\":\"Line\",\"id\":\"p1401\",\"attributes\":{\"x\":{\"type\":\"field\",\"field\":\"x\"},\"y\":{\"type\":\"field\",\"field\":\"y\"},\"line_color\":\"red\",\"line_alpha\":0.2,\"line_width\":2}}}},{\"type\":\"object\",\"name\":\"GlyphRenderer\",\"id\":\"p1412\",\"attributes\":{\"data_source\":{\"type\":\"object\",\"name\":\"ColumnDataSource\",\"id\":\"p1406\",\"attributes\":{\"selected\":{\"type\":\"object\",\"name\":\"Selection\",\"id\":\"p1407\",\"attributes\":{\"indices\":[],\"line_indices\":[]}},\"selection_policy\":{\"type\":\"object\",\"name\":\"UnionRenderers\",\"id\":\"p1408\"},\"data\":{\"type\":\"map\",\"entries\":[[\"x0\",[22.40000009536743]],[\"y0\",[0.0]],[\"x1\",[22.40000009536743]],[\"y1\",[457.524]]]}}},\"view\":{\"type\":\"object\",\"name\":\"CDSView\",\"id\":\"p1413\",\"attributes\":{\"filter\":{\"type\":\"object\",\"name\":\"AllIndices\",\"id\":\"p1414\"}}},\"glyph\":{\"type\":\"object\",\"name\":\"Segment\",\"id\":\"p1409\",\"attributes\":{\"x0\":{\"type\":\"field\",\"field\":\"x0\"},\"y0\":{\"type\":\"field\",\"field\":\"y0\"},\"x1\":{\"type\":\"field\",\"field\":\"x1\"},\"y1\":{\"type\":\"field\",\"field\":\"y1\"},\"line_color\":{\"type\":\"value\",\"value\":\"lightblue\"},\"line_width\":{\"type\":\"value\",\"value\":3}}},\"nonselection_glyph\":{\"type\":\"object\",\"name\":\"Segment\",\"id\":\"p1410\",\"attributes\":{\"x0\":{\"type\":\"field\",\"field\":\"x0\"},\"y0\":{\"type\":\"field\",\"field\":\"y0\"},\"x1\":{\"type\":\"field\",\"field\":\"x1\"},\"y1\":{\"type\":\"field\",\"field\":\"y1\"},\"line_color\":{\"type\":\"value\",\"value\":\"lightblue\"},\"line_alpha\":{\"type\":\"value\",\"value\":0.1},\"line_width\":{\"type\":\"value\",\"value\":3}}},\"muted_glyph\":{\"type\":\"object\",\"name\":\"Segment\",\"id\":\"p1411\",\"attributes\":{\"x0\":{\"type\":\"field\",\"field\":\"x0\"},\"y0\":{\"type\":\"field\",\"field\":\"y0\"},\"x1\":{\"type\":\"field\",\"field\":\"x1\"},\"y1\":{\"type\":\"field\",\"field\":\"y1\"},\"line_color\":{\"type\":\"value\",\"value\":\"lightblue\"},\"line_alpha\":{\"type\":\"value\",\"value\":0.2},\"line_width\":{\"type\":\"value\",\"value\":3}}}}},{\"type\":\"object\",\"name\":\"GlyphRenderer\",\"id\":\"p1421\",\"attributes\":{\"data_source\":{\"type\":\"object\",\"name\":\"ColumnDataSource\",\"id\":\"p1415\",\"attributes\":{\"selected\":{\"type\":\"object\",\"name\":\"Selection\",\"id\":\"p1416\",\"attributes\":{\"indices\":[],\"line_indices\":[]}},\"selection_policy\":{\"type\":\"object\",\"name\":\"UnionRenderers\",\"id\":\"p1417\"},\"data\":{\"type\":\"map\",\"entries\":[[\"x0\",[23.90000009536743]],[\"y0\",[0.0]],[\"x1\",[23.90000009536743]],[\"y1\",[457.524]]]}}},\"view\":{\"type\":\"object\",\"name\":\"CDSView\",\"id\":\"p1422\",\"attributes\":{\"filter\":{\"type\":\"object\",\"name\":\"AllIndices\",\"id\":\"p1423\"}}},\"glyph\":{\"type\":\"object\",\"name\":\"Segment\",\"id\":\"p1418\",\"attributes\":{\"x0\":{\"type\":\"field\",\"field\":\"x0\"},\"y0\":{\"type\":\"field\",\"field\":\"y0\"},\"x1\":{\"type\":\"field\",\"field\":\"x1\"},\"y1\":{\"type\":\"field\",\"field\":\"y1\"},\"line_color\":{\"type\":\"value\",\"value\":\"darkseagreen\"}}},\"nonselection_glyph\":{\"type\":\"object\",\"name\":\"Segment\",\"id\":\"p1419\",\"attributes\":{\"x0\":{\"type\":\"field\",\"field\":\"x0\"},\"y0\":{\"type\":\"field\",\"field\":\"y0\"},\"x1\":{\"type\":\"field\",\"field\":\"x1\"},\"y1\":{\"type\":\"field\",\"field\":\"y1\"},\"line_color\":{\"type\":\"value\",\"value\":\"darkseagreen\"},\"line_alpha\":{\"type\":\"value\",\"value\":0.1}}},\"muted_glyph\":{\"type\":\"object\",\"name\":\"Segment\",\"id\":\"p1420\",\"attributes\":{\"x0\":{\"type\":\"field\",\"field\":\"x0\"},\"y0\":{\"type\":\"field\",\"field\":\"y0\"},\"x1\":{\"type\":\"field\",\"field\":\"x1\"},\"y1\":{\"type\":\"field\",\"field\":\"y1\"},\"line_color\":{\"type\":\"value\",\"value\":\"darkseagreen\"},\"line_alpha\":{\"type\":\"value\",\"value\":0.2}}}}},{\"type\":\"object\",\"name\":\"GlyphRenderer\",\"id\":\"p1430\",\"attributes\":{\"data_source\":{\"type\":\"object\",\"name\":\"ColumnDataSource\",\"id\":\"p1424\",\"attributes\":{\"selected\":{\"type\":\"object\",\"name\":\"Selection\",\"id\":\"p1425\",\"attributes\":{\"indices\":[],\"line_indices\":[]}},\"selection_policy\":{\"type\":\"object\",\"name\":\"UnionRenderers\",\"id\":\"p1426\"},\"data\":{\"type\":\"map\",\"entries\":[[\"x0\",[20.90000009536743]],[\"y0\",[0.0]],[\"x1\",[20.90000009536743]],[\"y1\",[457.524]]]}}},\"view\":{\"type\":\"object\",\"name\":\"CDSView\",\"id\":\"p1431\",\"attributes\":{\"filter\":{\"type\":\"object\",\"name\":\"AllIndices\",\"id\":\"p1432\"}}},\"glyph\":{\"type\":\"object\",\"name\":\"Segment\",\"id\":\"p1427\",\"attributes\":{\"x0\":{\"type\":\"field\",\"field\":\"x0\"},\"y0\":{\"type\":\"field\",\"field\":\"y0\"},\"x1\":{\"type\":\"field\",\"field\":\"x1\"},\"y1\":{\"type\":\"field\",\"field\":\"y1\"},\"line_color\":{\"type\":\"value\",\"value\":\"darkseagreen\"}}},\"nonselection_glyph\":{\"type\":\"object\",\"name\":\"Segment\",\"id\":\"p1428\",\"attributes\":{\"x0\":{\"type\":\"field\",\"field\":\"x0\"},\"y0\":{\"type\":\"field\",\"field\":\"y0\"},\"x1\":{\"type\":\"field\",\"field\":\"x1\"},\"y1\":{\"type\":\"field\",\"field\":\"y1\"},\"line_color\":{\"type\":\"value\",\"value\":\"darkseagreen\"},\"line_alpha\":{\"type\":\"value\",\"value\":0.1}}},\"muted_glyph\":{\"type\":\"object\",\"name\":\"Segment\",\"id\":\"p1429\",\"attributes\":{\"x0\":{\"type\":\"field\",\"field\":\"x0\"},\"y0\":{\"type\":\"field\",\"field\":\"y0\"},\"x1\":{\"type\":\"field\",\"field\":\"x1\"},\"y1\":{\"type\":\"field\",\"field\":\"y1\"},\"line_color\":{\"type\":\"value\",\"value\":\"darkseagreen\"},\"line_alpha\":{\"type\":\"value\",\"value\":0.2}}}}},{\"type\":\"object\",\"name\":\"GlyphRenderer\",\"id\":\"p1439\",\"attributes\":{\"data_source\":{\"type\":\"object\",\"name\":\"ColumnDataSource\",\"id\":\"p1433\",\"attributes\":{\"selected\":{\"type\":\"object\",\"name\":\"Selection\",\"id\":\"p1434\",\"attributes\":{\"indices\":[],\"line_indices\":[]}},\"selection_policy\":{\"type\":\"object\",\"name\":\"UnionRenderers\",\"id\":\"p1435\"},\"data\":{\"type\":\"map\",\"entries\":[[\"x\",[22.40000009536743]],[\"y\",[457.524]],[\"size\",[20]]]}}},\"view\":{\"type\":\"object\",\"name\":\"CDSView\",\"id\":\"p1440\",\"attributes\":{\"filter\":{\"type\":\"object\",\"name\":\"AllIndices\",\"id\":\"p1441\"}}},\"glyph\":{\"type\":\"object\",\"name\":\"Scatter\",\"id\":\"p1436\",\"attributes\":{\"x\":{\"type\":\"field\",\"field\":\"x\"},\"y\":{\"type\":\"field\",\"field\":\"y\"},\"size\":{\"type\":\"field\",\"field\":\"size\"},\"line_color\":{\"type\":\"value\",\"value\":\"lightblue\"},\"line_width\":{\"type\":\"value\",\"value\":3},\"fill_color\":{\"type\":\"value\",\"value\":null},\"marker\":{\"type\":\"value\",\"value\":\"square_cross\"}}},\"nonselection_glyph\":{\"type\":\"object\",\"name\":\"Scatter\",\"id\":\"p1437\",\"attributes\":{\"x\":{\"type\":\"field\",\"field\":\"x\"},\"y\":{\"type\":\"field\",\"field\":\"y\"},\"size\":{\"type\":\"field\",\"field\":\"size\"},\"line_color\":{\"type\":\"value\",\"value\":\"lightblue\"},\"line_alpha\":{\"type\":\"value\",\"value\":0.1},\"line_width\":{\"type\":\"value\",\"value\":3},\"fill_color\":{\"type\":\"value\",\"value\":null},\"fill_alpha\":{\"type\":\"value\",\"value\":0.1},\"hatch_alpha\":{\"type\":\"value\",\"value\":0.1},\"marker\":{\"type\":\"value\",\"value\":\"square_cross\"}}},\"muted_glyph\":{\"type\":\"object\",\"name\":\"Scatter\",\"id\":\"p1438\",\"attributes\":{\"x\":{\"type\":\"field\",\"field\":\"x\"},\"y\":{\"type\":\"field\",\"field\":\"y\"},\"size\":{\"type\":\"field\",\"field\":\"size\"},\"line_color\":{\"type\":\"value\",\"value\":\"lightblue\"},\"line_alpha\":{\"type\":\"value\",\"value\":0.2},\"line_width\":{\"type\":\"value\",\"value\":3},\"fill_color\":{\"type\":\"value\",\"value\":null},\"fill_alpha\":{\"type\":\"value\",\"value\":0.2},\"hatch_alpha\":{\"type\":\"value\",\"value\":0.2},\"marker\":{\"type\":\"value\",\"value\":\"square_cross\"}}}}}],\"toolbar\":{\"type\":\"object\",\"name\":\"Toolbar\",\"id\":\"p1328\",\"attributes\":{\"tools\":[{\"type\":\"object\",\"name\":\"PanTool\",\"id\":\"p1343\"},{\"type\":\"object\",\"name\":\"WheelZoomTool\",\"id\":\"p1344\",\"attributes\":{\"renderers\":\"auto\"}},{\"type\":\"object\",\"name\":\"BoxZoomTool\",\"id\":\"p1345\",\"attributes\":{\"overlay\":{\"type\":\"object\",\"name\":\"BoxAnnotation\",\"id\":\"p1346\",\"attributes\":{\"syncable\":false,\"level\":\"overlay\",\"visible\":false,\"left\":{\"type\":\"number\",\"value\":\"nan\"},\"right\":{\"type\":\"number\",\"value\":\"nan\"},\"top\":{\"type\":\"number\",\"value\":\"nan\"},\"bottom\":{\"type\":\"number\",\"value\":\"nan\"},\"left_units\":\"canvas\",\"right_units\":\"canvas\",\"top_units\":\"canvas\",\"bottom_units\":\"canvas\",\"line_color\":\"black\",\"line_alpha\":1.0,\"line_width\":2,\"line_dash\":[4,4],\"fill_color\":\"lightgrey\",\"fill_alpha\":0.5}}}},{\"type\":\"object\",\"name\":\"SaveTool\",\"id\":\"p1351\"},{\"type\":\"object\",\"name\":\"ResetTool\",\"id\":\"p1352\"},{\"type\":\"object\",\"name\":\"HelpTool\",\"id\":\"p1353\"},{\"type\":\"object\",\"name\":\"HoverTool\",\"id\":\"p1385\",\"attributes\":{\"renderers\":\"auto\",\"tooltips\":[[\"Y-val\",\"@y{0.00}\"]]}}]}},\"left\":[{\"type\":\"object\",\"name\":\"LinearAxis\",\"id\":\"p1338\",\"attributes\":{\"ticker\":{\"type\":\"object\",\"name\":\"BasicTicker\",\"id\":\"p1339\",\"attributes\":{\"mantissas\":[1,2,5]}},\"formatter\":{\"type\":\"object\",\"name\":\"BasicTickFormatter\",\"id\":\"p1340\"},\"axis_label\":\"km/h\",\"axis_label_standoff\":10,\"axis_label_text_color\":\"#E0E0E0\",\"axis_label_text_font\":\"Helvetica\",\"axis_label_text_font_size\":\"1.25em\",\"axis_label_text_font_style\":\"normal\",\"major_label_policy\":{\"type\":\"object\",\"name\":\"AllLabels\",\"id\":\"p1341\"},\"major_label_text_color\":\"#E0E0E0\",\"major_label_text_font\":\"Helvetica\",\"major_label_text_font_size\":\"1.025em\",\"axis_line_color\":\"#E0E0E0\",\"axis_line_alpha\":0,\"major_tick_line_color\":\"#E0E0E0\",\"major_tick_line_alpha\":0,\"minor_tick_line_color\":\"#E0E0E0\",\"minor_tick_line_alpha\":0}},{\"type\":\"object\",\"name\":\"LinearAxis\",\"id\":\"p1356\",\"attributes\":{\"y_range_name\":\"altitudeFt\",\"ticker\":{\"type\":\"object\",\"name\":\"BasicTicker\",\"id\":\"p1357\",\"attributes\":{\"mantissas\":[1,2,5]}},\"formatter\":{\"type\":\"object\",\"name\":\"BasicTickFormatter\",\"id\":\"p1358\"},\"axis_label\":\"Alt (ft)\",\"axis_label_standoff\":10,\"axis_label_text_color\":\"#E0E0E0\",\"axis_label_text_font\":\"Helvetica\",\"axis_label_text_font_size\":\"1.25em\",\"axis_label_text_font_style\":\"normal\",\"major_label_policy\":{\"type\":\"object\",\"name\":\"AllLabels\",\"id\":\"p1359\"},\"major_label_text_color\":\"#E0E0E0\",\"major_label_text_font\":\"Helvetica\",\"major_label_text_font_size\":\"1.025em\",\"axis_line_color\":\"#E0E0E0\",\"axis_line_alpha\":0,\"major_tick_line_color\":\"#E0E0E0\",\"major_tick_line_alpha\":0,\"minor_tick_line_color\":\"#E0E0E0\",\"minor_tick_line_alpha\":0}},{\"type\":\"object\",\"name\":\"LinearAxis\",\"id\":\"p1360\",\"attributes\":{\"y_range_name\":\"angle\",\"ticker\":{\"type\":\"object\",\"name\":\"BasicTicker\",\"id\":\"p1361\",\"attributes\":{\"mantissas\":[1,2,5]}},\"formatter\":{\"type\":\"object\",\"name\":\"BasicTickFormatter\",\"id\":\"p1362\"},\"axis_label\":\"angle\",\"axis_label_standoff\":10,\"axis_label_text_color\":\"#E0E0E0\",\"axis_label_text_font\":\"Helvetica\",\"axis_label_text_font_size\":\"1.25em\",\"axis_label_text_font_style\":\"normal\",\"major_label_policy\":{\"type\":\"object\",\"name\":\"AllLabels\",\"id\":\"p1363\"},\"major_label_text_color\":\"#E0E0E0\",\"major_label_text_font\":\"Helvetica\",\"major_label_text_font_size\":\"1.025em\",\"axis_line_color\":\"#E0E0E0\",\"axis_line_alpha\":0,\"major_tick_line_color\":\"#E0E0E0\",\"major_tick_line_alpha\":0,\"minor_tick_line_color\":\"#E0E0E0\",\"minor_tick_line_alpha\":0}}],\"below\":[{\"type\":\"object\",\"name\":\"LinearAxis\",\"id\":\"p1333\",\"attributes\":{\"ticker\":{\"type\":\"object\",\"name\":\"BasicTicker\",\"id\":\"p1334\",\"attributes\":{\"mantissas\":[1,2,5]}},\"formatter\":{\"type\":\"object\",\"name\":\"BasicTickFormatter\",\"id\":\"p1335\"},\"axis_label\":\"seconds from exit\",\"axis_label_standoff\":10,\"axis_label_text_color\":\"#E0E0E0\",\"axis_label_text_font\":\"Helvetica\",\"axis_label_text_font_size\":\"1.25em\",\"axis_label_text_font_style\":\"normal\",\"major_label_policy\":{\"type\":\"object\",\"name\":\"AllLabels\",\"id\":\"p1336\"},\"major_label_text_color\":\"#E0E0E0\",\"major_label_text_font\":\"Helvetica\",\"major_label_text_font_size\":\"1.025em\",\"axis_line_color\":\"#E0E0E0\",\"axis_line_alpha\":0,\"major_tick_line_color\":\"#E0E0E0\",\"major_tick_line_alpha\":0,\"minor_tick_line_color\":\"#E0E0E0\",\"minor_tick_line_alpha\":0}}],\"center\":[{\"type\":\"object\",\"name\":\"Grid\",\"id\":\"p1337\",\"attributes\":{\"axis\":{\"id\":\"p1333\"},\"grid_line_color\":\"#E0E0E0\",\"grid_line_alpha\":0.25}},{\"type\":\"object\",\"name\":\"Grid\",\"id\":\"p1342\",\"attributes\":{\"dimension\":1,\"axis\":{\"id\":\"p1338\"},\"grid_line_color\":\"#E0E0E0\",\"grid_line_alpha\":0.25}},{\"type\":\"object\",\"name\":\"Legend\",\"id\":\"p1373\",\"attributes\":{\"border_line_alpha\":0,\"background_fill_color\":\"#20262B\",\"background_fill_alpha\":0.25,\"label_text_color\":\"#E0E0E0\",\"label_text_font\":\"Helvetica\",\"label_text_font_size\":\"1.025em\",\"label_standoff\":8,\"glyph_width\":15,\"spacing\":8,\"items\":[{\"type\":\"object\",\"name\":\"LegendItem\",\"id\":\"p1374\",\"attributes\":{\"label\":{\"type\":\"value\",\"value\":\"Alt (ft)\"},\"renderers\":[{\"id\":\"p1370\"}]}},{\"type\":\"object\",\"name\":\"LegendItem\",\"id\":\"p1384\",\"attributes\":{\"label\":{\"type\":\"value\",\"value\":\"angle\"},\"renderers\":[{\"id\":\"p1381\"}]}},{\"type\":\"object\",\"name\":\"LegendItem\",\"id\":\"p1395\",\"attributes\":{\"label\":{\"type\":\"value\",\"value\":\"speed\"},\"renderers\":[{\"id\":\"p1392\"}]}},{\"type\":\"object\",\"name\":\"LegendItem\",\"id\":\"p1405\",\"attributes\":{\"label\":{\"type\":\"value\",\"value\":\"H-speed\"},\"renderers\":[{\"id\":\"p1402\"}]}}]}}],\"background_fill_color\":\"#20262B\",\"border_fill_color\":\"#15191C\"}}]}};\n",
       "  const render_items = [{\"docid\":\"5a972088-882c-4065-bf4b-49ecaa73465f\",\"roots\":{\"p1319\":\"b5354459-b751-4610-916d-1c63143a9814\"},\"root_ids\":[\"p1319\"]}];\n",
       "  void root.Bokeh.embed.embed_items_notebook(docs_json, render_items);\n",
       "  }\n",
       "  if (root.Bokeh !== undefined) {\n",
       "    embed_document(root);\n",
       "  } else {\n",
       "    let attempts = 0;\n",
       "    const timer = setInterval(function(root) {\n",
       "      if (root.Bokeh !== undefined) {\n",
       "        clearInterval(timer);\n",
       "        embed_document(root);\n",
       "      } else {\n",
       "        attempts++;\n",
       "        if (attempts > 100) {\n",
       "          clearInterval(timer);\n",
       "          console.log(\"Bokeh: ERROR: Unable to run BokehJS code because BokehJS library is missing\");\n",
       "        }\n",
       "      }\n",
       "    }, 10, root)\n",
       "  }\n",
       "})(window);"
      ],
      "application/vnd.bokehjs_exec.v0+json": ""
     },
     "metadata": {
      "application/vnd.bokehjs_exec.v0+json": {
       "id": "p1319"
      }
     },
     "output_type": "display_data"
    }
   ],
   "source": [
    "allJumpsPlot = initializePlot('All jumps in set')\n",
    "jumpNumber = 0\n",
    "mixColor = 0\n",
    "for resultRef in sorted(jumpResults.keys()):\n",
    "    jumpResult = jumpResults[resultRef]\n",
    "    if jumpResult.score > 0.0:\n",
    "        validJumpStatus = '<hr><h1><span style=\"color: %s\">%s jump - %s - score = %.02f km/h</span></h1>' % (jumpResult.color, resultRef, jumpResult.result, jumpResult.score)        \n",
    "    else:\n",
    "        validJumpStatus = '<hr><h1><span style=\"color: %s\">%s jump - %s</span></h1>' % (jumpResult.color, resultRef, jumpResult.result)\n",
    "    display(widgets.HTML(validJumpStatus))\n",
    "\n",
    "    maxSpeed = jumpResult.maxSpeed\n",
    "    window = jumpResult.window\n",
    "    mixColor = (mixColor+1)%len(SPEED_COLORS)\n",
    "    if jumpResult.score > 0.0:\n",
    "        display(widgets.HTML('<h3>Max speed = {0:,.0f}; '.format(maxSpeed)+('exit at %d m (%d ft), end scoring window at %d m (%d ft)'%(window.start, 3.2808*window.start, window.end, 3.2808*window.end))))\n",
    "        if not isValidMinimumAltitude(jumpResult.data.altitudeASL.max()):\n",
    "            display(widgets.HTML('<span style=\"color: yellow\"><span style=\"font-weight: bold\">Warning:</span> exit altitude ASL was lower than the minimum scoring altitude according to IPC and USPA.'))\n",
    "        display(widgets.HTML('</h3>'))\n",
    "        # TODO: Move this to an in-notebook function or module.\n",
    "        displayJumpDataIn(jumpResult.table)\n",
    "        individualPlot = initializePlot(resultRef)\n",
    "        individualPlot = initializeExtraYRanges(individualPlot, startY = min(jumpResult.data.altitudeASLFt)-500.0, endY = max(jumpResult.data.altitudeASLFt)+500.0)\n",
    "        graphAltitude(individualPlot, jumpResult)\n",
    "        graphAngle(individualPlot, jumpResult)\n",
    "        hoverValue = bm.HoverTool(tooltips = [ ('Y-val', '@y{0.00}'), ])\n",
    "        individualPlot.add_tools(hoverValue)\n",
    "        graphJumpResult(individualPlot,\n",
    "                        jumpResult,\n",
    "                        lineColor = SPEED_COLORS[0])\n",
    "        graphJumpResult(allJumpsPlot,\n",
    "                        jumpResult,\n",
    "                        lineColor = SPEED_COLORS[mixColor],\n",
    "                        legend = '%s - %.2f' % (resultRef, jumpResult.score),\n",
    "                        showIt = False)"
   ]
  },
  {
   "cell_type": "markdown",
   "id": "7363faaf-27a9-401c-9271-73b71436f19c",
   "metadata": {},
   "source": [
    "---\n",
    "## All speed skydives in data lake summary"
   ]
  },
  {
   "cell_type": "code",
   "execution_count": 12,
   "id": "17991fcf-e215-4a53-a6ff-d9a64cbafd94",
   "metadata": {
    "jupyter": {
     "source_hidden": true
    }
   },
   "outputs": [
    {
     "data": {
      "text/html": [
       "<div>\n",
       "<style scoped>\n",
       "    .dataframe tbody tr th:only-of-type {\n",
       "        vertical-align: middle;\n",
       "    }\n",
       "\n",
       "    .dataframe tbody tr th {\n",
       "        vertical-align: top;\n",
       "    }\n",
       "\n",
       "    .dataframe thead th {\n",
       "        text-align: right;\n",
       "    }\n",
       "</style>\n",
       "<table border=\"1\" class=\"dataframe\">\n",
       "  <thead>\n",
       "    <tr style=\"text-align: right;\">\n",
       "      <th></th>\n",
       "      <th>score</th>\n",
       "      <th>5.0</th>\n",
       "      <th>10.0</th>\n",
       "      <th>15.0</th>\n",
       "      <th>20.0</th>\n",
       "      <th>25.0</th>\n",
       "      <th>finalTime</th>\n",
       "      <th>maxSpeed</th>\n",
       "    </tr>\n",
       "  </thead>\n",
       "  <tbody>\n",
       "    <tr>\n",
       "      <th>00-00-00-EC-baseline</th>\n",
       "      <td>472</td>\n",
       "      <td>177</td>\n",
       "      <td>296</td>\n",
       "      <td>398</td>\n",
       "      <td>457</td>\n",
       "      <td>475</td>\n",
       "      <td>25.0</td>\n",
       "      <td>477</td>\n",
       "    </tr>\n",
       "    <tr>\n",
       "      <th>11-07-54</th>\n",
       "      <td>464</td>\n",
       "      <td>161</td>\n",
       "      <td>302</td>\n",
       "      <td>409</td>\n",
       "      <td>457</td>\n",
       "      <td>464</td>\n",
       "      <td>25.0</td>\n",
       "      <td>466</td>\n",
       "    </tr>\n",
       "    <tr>\n",
       "      <th>12-08-44</th>\n",
       "      <td>458</td>\n",
       "      <td>172</td>\n",
       "      <td>290</td>\n",
       "      <td>386</td>\n",
       "      <td>440</td>\n",
       "      <td>460</td>\n",
       "      <td>25.0</td>\n",
       "      <td>460</td>\n",
       "    </tr>\n",
       "  </tbody>\n",
       "</table>\n",
       "</div>"
      ],
      "text/plain": [
       "                      score  5.0  10.0  15.0  20.0  25.0  finalTime  maxSpeed\n",
       "00-00-00-EC-baseline    472  177   296   398   457   475       25.0       477\n",
       "11-07-54                464  161   302   409   457   464       25.0       466\n",
       "12-08-44                458  172   290   386   440   460       25.0       460"
      ]
     },
     "metadata": {},
     "output_type": "display_data"
    },
    {
     "data": {
      "text/html": [
       "<div>\n",
       "<style scoped>\n",
       "    .dataframe tbody tr th:only-of-type {\n",
       "        vertical-align: middle;\n",
       "    }\n",
       "\n",
       "    .dataframe tbody tr th {\n",
       "        vertical-align: top;\n",
       "    }\n",
       "\n",
       "    .dataframe thead th {\n",
       "        text-align: right;\n",
       "    }\n",
       "</style>\n",
       "<table border=\"1\" class=\"dataframe\">\n",
       "  <thead>\n",
       "    <tr style=\"text-align: right;\">\n",
       "      <th></th>\n",
       "      <th>totalSpeed</th>\n",
       "      <th>meanSpeed</th>\n",
       "      <th>maxScore</th>\n",
       "    </tr>\n",
       "  </thead>\n",
       "  <tbody>\n",
       "    <tr>\n",
       "      <th>totalSpeed</th>\n",
       "      <td>1394.064</td>\n",
       "      <td>464.688</td>\n",
       "      <td>472.446</td>\n",
       "    </tr>\n",
       "  </tbody>\n",
       "</table>\n",
       "</div>"
      ],
      "text/plain": [
       "            totalSpeed  meanSpeed  maxScore\n",
       "totalSpeed    1394.064    464.688   472.446"
      ]
     },
     "metadata": {},
     "output_type": "display_data"
    },
    {
     "data": {
      "text/html": [
       "\n",
       "  <div id=\"e567db3f-78bd-4aa8-998d-da49c6f5e35b\" data-root-id=\"p1001\" style=\"display: contents;\"></div>\n"
      ]
     },
     "metadata": {},
     "output_type": "display_data"
    },
    {
     "data": {
      "application/javascript": [
       "(function(root) {\n",
       "  function embed_document(root) {\n",
       "  const docs_json = {\"0a6d2472-f73e-462b-ae02-f4a7cc868a40\":{\"version\":\"3.4.1\",\"title\":\"Bokeh Application\",\"roots\":[{\"type\":\"object\",\"name\":\"Figure\",\"id\":\"p1001\",\"attributes\":{\"width\":900,\"height\":500,\"x_range\":{\"type\":\"object\",\"name\":\"Range1d\",\"id\":\"p1011\",\"attributes\":{\"end\":35.0}},\"y_range\":{\"type\":\"object\",\"name\":\"Range1d\",\"id\":\"p1012\",\"attributes\":{\"end\":550.0}},\"x_scale\":{\"type\":\"object\",\"name\":\"LinearScale\",\"id\":\"p1013\"},\"y_scale\":{\"type\":\"object\",\"name\":\"LinearScale\",\"id\":\"p1014\"},\"title\":{\"type\":\"object\",\"name\":\"Title\",\"id\":\"p1004\",\"attributes\":{\"text\":\"All jumps in set\",\"text_color\":\"#E0E0E0\",\"text_font\":\"Helvetica\",\"text_font_size\":\"1.15em\"}},\"outline_line_color\":\"#E0E0E0\",\"outline_line_alpha\":0.25,\"renderers\":[{\"type\":\"object\",\"name\":\"GlyphRenderer\",\"id\":\"p1173\",\"attributes\":{\"data_source\":{\"type\":\"object\",\"name\":\"ColumnDataSource\",\"id\":\"p1167\",\"attributes\":{\"selected\":{\"type\":\"object\",\"name\":\"Selection\",\"id\":\"p1168\",\"attributes\":{\"indices\":[],\"line_indices\":[]}},\"selection_policy\":{\"type\":\"object\",\"name\":\"UnionRenderers\",\"id\":\"p1169\"},\"data\":{\"type\":\"map\",\"entries\":[[\"x\",{\"type\":\"ndarray\",\"array\":{\"type\":\"bytes\",\"data\":\"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\"},\"shape\":[206],\"dtype\":\"float64\",\"order\":\"little\"}],[\"y\",{\"type\":\"ndarray\",\"array\":{\"type\":\"bytes\",\"data\":\"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\"},\"shape\":[206],\"dtype\":\"float64\",\"order\":\"little\"}]]}}},\"view\":{\"type\":\"object\",\"name\":\"CDSView\",\"id\":\"p1174\",\"attributes\":{\"filter\":{\"type\":\"object\",\"name\":\"AllIndices\",\"id\":\"p1175\"}}},\"glyph\":{\"type\":\"object\",\"name\":\"Line\",\"id\":\"p1170\",\"attributes\":{\"x\":{\"type\":\"field\",\"field\":\"x\"},\"y\":{\"type\":\"field\",\"field\":\"y\"},\"line_color\":\"blue\",\"line_width\":2}},\"nonselection_glyph\":{\"type\":\"object\",\"name\":\"Line\",\"id\":\"p1171\",\"attributes\":{\"x\":{\"type\":\"field\",\"field\":\"x\"},\"y\":{\"type\":\"field\",\"field\":\"y\"},\"line_color\":\"blue\",\"line_alpha\":0.1,\"line_width\":2}},\"muted_glyph\":{\"type\":\"object\",\"name\":\"Line\",\"id\":\"p1172\",\"attributes\":{\"x\":{\"type\":\"field\",\"field\":\"x\"},\"y\":{\"type\":\"field\",\"field\":\"y\"},\"line_color\":\"blue\",\"line_alpha\":0.2,\"line_width\":2}}}},{\"type\":\"object\",\"name\":\"GlyphRenderer\",\"id\":\"p1315\",\"attributes\":{\"data_source\":{\"type\":\"object\",\"name\":\"ColumnDataSource\",\"id\":\"p1309\",\"attributes\":{\"selected\":{\"type\":\"object\",\"name\":\"Selection\",\"id\":\"p1310\",\"attributes\":{\"indices\":[],\"line_indices\":[]}},\"selection_policy\":{\"type\":\"object\",\"name\":\"UnionRenderers\",\"id\":\"p1311\"},\"data\":{\"type\":\"map\",\"entries\":[[\"x\",{\"type\":\"ndarray\",\"array\":{\"type\":\"bytes\",\"data\":\"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\"},\"shape\":[204],\"dtype\":\"float64\",\"order\":\"little\"}],[\"y\",{\"type\":\"ndarray\",\"array\":{\"type\":\"bytes\",\"data\":\"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\"},\"shape\":[204],\"dtype\":\"float64\",\"order\":\"little\"}]]}}},\"view\":{\"type\":\"object\",\"name\":\"CDSView\",\"id\":\"p1316\",\"attributes\":{\"filter\":{\"type\":\"object\",\"name\":\"AllIndices\",\"id\":\"p1317\"}}},\"glyph\":{\"type\":\"object\",\"name\":\"Line\",\"id\":\"p1312\",\"attributes\":{\"x\":{\"type\":\"field\",\"field\":\"x\"},\"y\":{\"type\":\"field\",\"field\":\"y\"},\"line_color\":\"tomato\",\"line_width\":2}},\"nonselection_glyph\":{\"type\":\"object\",\"name\":\"Line\",\"id\":\"p1313\",\"attributes\":{\"x\":{\"type\":\"field\",\"field\":\"x\"},\"y\":{\"type\":\"field\",\"field\":\"y\"},\"line_color\":\"tomato\",\"line_alpha\":0.1,\"line_width\":2}},\"muted_glyph\":{\"type\":\"object\",\"name\":\"Line\",\"id\":\"p1314\",\"attributes\":{\"x\":{\"type\":\"field\",\"field\":\"x\"},\"y\":{\"type\":\"field\",\"field\":\"y\"},\"line_color\":\"tomato\",\"line_alpha\":0.2,\"line_width\":2}}}},{\"type\":\"object\",\"name\":\"GlyphRenderer\",\"id\":\"p1456\",\"attributes\":{\"data_source\":{\"type\":\"object\",\"name\":\"ColumnDataSource\",\"id\":\"p1450\",\"attributes\":{\"selected\":{\"type\":\"object\",\"name\":\"Selection\",\"id\":\"p1451\",\"attributes\":{\"indices\":[],\"line_indices\":[]}},\"selection_policy\":{\"type\":\"object\",\"name\":\"UnionRenderers\",\"id\":\"p1452\"},\"data\":{\"type\":\"map\",\"entries\":[[\"x\",{\"type\":\"ndarray\",\"array\":{\"type\":\"bytes\",\"data\":\"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\"},\"shape\":[212],\"dtype\":\"float64\",\"order\":\"little\"}],[\"y\",{\"type\":\"ndarray\",\"array\":{\"type\":\"bytes\",\"data\":\"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\"},\"shape\":[212],\"dtype\":\"float64\",\"order\":\"little\"}]]}}},\"view\":{\"type\":\"object\",\"name\":\"CDSView\",\"id\":\"p1457\",\"attributes\":{\"filter\":{\"type\":\"object\",\"name\":\"AllIndices\",\"id\":\"p1458\"}}},\"glyph\":{\"type\":\"object\",\"name\":\"Line\",\"id\":\"p1453\",\"attributes\":{\"x\":{\"type\":\"field\",\"field\":\"x\"},\"y\":{\"type\":\"field\",\"field\":\"y\"},\"line_color\":\"turquoise\",\"line_width\":2}},\"nonselection_glyph\":{\"type\":\"object\",\"name\":\"Line\",\"id\":\"p1454\",\"attributes\":{\"x\":{\"type\":\"field\",\"field\":\"x\"},\"y\":{\"type\":\"field\",\"field\":\"y\"},\"line_color\":\"turquoise\",\"line_alpha\":0.1,\"line_width\":2}},\"muted_glyph\":{\"type\":\"object\",\"name\":\"Line\",\"id\":\"p1455\",\"attributes\":{\"x\":{\"type\":\"field\",\"field\":\"x\"},\"y\":{\"type\":\"field\",\"field\":\"y\"},\"line_color\":\"turquoise\",\"line_alpha\":0.2,\"line_width\":2}}}}],\"toolbar\":{\"type\":\"object\",\"name\":\"Toolbar\",\"id\":\"p1010\",\"attributes\":{\"tools\":[{\"type\":\"object\",\"name\":\"PanTool\",\"id\":\"p1025\"},{\"type\":\"object\",\"name\":\"WheelZoomTool\",\"id\":\"p1026\",\"attributes\":{\"renderers\":\"auto\"}},{\"type\":\"object\",\"name\":\"BoxZoomTool\",\"id\":\"p1027\",\"attributes\":{\"overlay\":{\"type\":\"object\",\"name\":\"BoxAnnotation\",\"id\":\"p1028\",\"attributes\":{\"syncable\":false,\"level\":\"overlay\",\"visible\":false,\"left\":{\"type\":\"number\",\"value\":\"nan\"},\"right\":{\"type\":\"number\",\"value\":\"nan\"},\"top\":{\"type\":\"number\",\"value\":\"nan\"},\"bottom\":{\"type\":\"number\",\"value\":\"nan\"},\"left_units\":\"canvas\",\"right_units\":\"canvas\",\"top_units\":\"canvas\",\"bottom_units\":\"canvas\",\"line_color\":\"black\",\"line_alpha\":1.0,\"line_width\":2,\"line_dash\":[4,4],\"fill_color\":\"lightgrey\",\"fill_alpha\":0.5}}}},{\"type\":\"object\",\"name\":\"SaveTool\",\"id\":\"p1033\"},{\"type\":\"object\",\"name\":\"ResetTool\",\"id\":\"p1034\"},{\"type\":\"object\",\"name\":\"HelpTool\",\"id\":\"p1035\"}]}},\"left\":[{\"type\":\"object\",\"name\":\"LinearAxis\",\"id\":\"p1020\",\"attributes\":{\"ticker\":{\"type\":\"object\",\"name\":\"BasicTicker\",\"id\":\"p1021\",\"attributes\":{\"mantissas\":[1,2,5]}},\"formatter\":{\"type\":\"object\",\"name\":\"BasicTickFormatter\",\"id\":\"p1022\"},\"axis_label\":\"km/h\",\"axis_label_standoff\":10,\"axis_label_text_color\":\"#E0E0E0\",\"axis_label_text_font\":\"Helvetica\",\"axis_label_text_font_size\":\"1.25em\",\"axis_label_text_font_style\":\"normal\",\"major_label_policy\":{\"type\":\"object\",\"name\":\"AllLabels\",\"id\":\"p1023\"},\"major_label_text_color\":\"#E0E0E0\",\"major_label_text_font\":\"Helvetica\",\"major_label_text_font_size\":\"1.025em\",\"axis_line_color\":\"#E0E0E0\",\"axis_line_alpha\":0,\"major_tick_line_color\":\"#E0E0E0\",\"major_tick_line_alpha\":0,\"minor_tick_line_color\":\"#E0E0E0\",\"minor_tick_line_alpha\":0}}],\"below\":[{\"type\":\"object\",\"name\":\"LinearAxis\",\"id\":\"p1015\",\"attributes\":{\"ticker\":{\"type\":\"object\",\"name\":\"BasicTicker\",\"id\":\"p1016\",\"attributes\":{\"mantissas\":[1,2,5]}},\"formatter\":{\"type\":\"object\",\"name\":\"BasicTickFormatter\",\"id\":\"p1017\"},\"axis_label\":\"seconds from exit\",\"axis_label_standoff\":10,\"axis_label_text_color\":\"#E0E0E0\",\"axis_label_text_font\":\"Helvetica\",\"axis_label_text_font_size\":\"1.25em\",\"axis_label_text_font_style\":\"normal\",\"major_label_policy\":{\"type\":\"object\",\"name\":\"AllLabels\",\"id\":\"p1018\"},\"major_label_text_color\":\"#E0E0E0\",\"major_label_text_font\":\"Helvetica\",\"major_label_text_font_size\":\"1.025em\",\"axis_line_color\":\"#E0E0E0\",\"axis_line_alpha\":0,\"major_tick_line_color\":\"#E0E0E0\",\"major_tick_line_alpha\":0,\"minor_tick_line_color\":\"#E0E0E0\",\"minor_tick_line_alpha\":0}}],\"center\":[{\"type\":\"object\",\"name\":\"Grid\",\"id\":\"p1019\",\"attributes\":{\"axis\":{\"id\":\"p1015\"},\"grid_line_color\":\"#E0E0E0\",\"grid_line_alpha\":0.25}},{\"type\":\"object\",\"name\":\"Grid\",\"id\":\"p1024\",\"attributes\":{\"dimension\":1,\"axis\":{\"id\":\"p1020\"},\"grid_line_color\":\"#E0E0E0\",\"grid_line_alpha\":0.25}},{\"type\":\"object\",\"name\":\"Legend\",\"id\":\"p1176\",\"attributes\":{\"border_line_alpha\":0,\"background_fill_color\":\"#20262B\",\"background_fill_alpha\":0.25,\"label_text_color\":\"#E0E0E0\",\"label_text_font\":\"Helvetica\",\"label_text_font_size\":\"1.025em\",\"label_standoff\":8,\"glyph_width\":15,\"spacing\":8,\"items\":[{\"type\":\"object\",\"name\":\"LegendItem\",\"id\":\"p1177\",\"attributes\":{\"label\":{\"type\":\"value\",\"value\":\"00-00-00-EC-baseline - 472.45\"},\"renderers\":[{\"id\":\"p1173\"}]}},{\"type\":\"object\",\"name\":\"LegendItem\",\"id\":\"p1318\",\"attributes\":{\"label\":{\"type\":\"value\",\"value\":\"11-07-54 - 464.09\"},\"renderers\":[{\"id\":\"p1315\"}]}},{\"type\":\"object\",\"name\":\"LegendItem\",\"id\":\"p1459\",\"attributes\":{\"label\":{\"type\":\"value\",\"value\":\"12-08-44 - 457.52\"},\"renderers\":[{\"id\":\"p1456\"}]}}]}}],\"background_fill_color\":\"#20262B\",\"border_fill_color\":\"#15191C\"}}]}};\n",
       "  const render_items = [{\"docid\":\"0a6d2472-f73e-462b-ae02-f4a7cc868a40\",\"roots\":{\"p1001\":\"e567db3f-78bd-4aa8-998d-da49c6f5e35b\"},\"root_ids\":[\"p1001\"]}];\n",
       "  void root.Bokeh.embed.embed_items_notebook(docs_json, render_items);\n",
       "  }\n",
       "  if (root.Bokeh !== undefined) {\n",
       "    embed_document(root);\n",
       "  } else {\n",
       "    let attempts = 0;\n",
       "    const timer = setInterval(function(root) {\n",
       "      if (root.Bokeh !== undefined) {\n",
       "        clearInterval(timer);\n",
       "        embed_document(root);\n",
       "      } else {\n",
       "        attempts++;\n",
       "        if (attempts > 100) {\n",
       "          clearInterval(timer);\n",
       "          console.log(\"Bokeh: ERROR: Unable to run BokehJS code because BokehJS library is missing\");\n",
       "        }\n",
       "      }\n",
       "    }, 10, root)\n",
       "  }\n",
       "})(window);"
      ],
      "application/vnd.bokehjs_exec.v0+json": ""
     },
     "metadata": {
      "application/vnd.bokehjs_exec.v0+json": {
       "id": "p1001"
      }
     },
     "output_type": "display_data"
    }
   ],
   "source": [
    "display(roundedResults)\n",
    "display(sumResults)\n",
    "bp.show(allJumpsPlot)"
   ]
  },
  {
   "cell_type": "code",
   "execution_count": null,
   "id": "90e33a7d-44d3-49b9-b794-26eec9cea757",
   "metadata": {},
   "outputs": [],
   "source": []
  }
 ],
 "metadata": {
  "kernelspec": {
   "display_name": "Python 3 (ipykernel)",
   "language": "python",
   "name": "python3"
  },
  "language_info": {
   "codemirror_mode": {
    "name": "ipython",
    "version": 3
   },
   "file_extension": ".py",
   "mimetype": "text/x-python",
   "name": "python",
   "nbconvert_exporter": "python",
   "pygments_lexer": "ipython3",
   "version": "3.11.9"
  }
 },
 "nbformat": 4,
 "nbformat_minor": 5
}
