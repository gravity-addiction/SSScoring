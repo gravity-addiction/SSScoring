{
 "cells": [
  {
   "cell_type": "markdown",
   "id": "36a745d9-2003-496e-a394-290f63a970b7",
   "metadata": {},
   "source": [
    "# Bulk processor"
   ]
  },
  {
   "cell_type": "code",
   "execution_count": 21,
   "id": "98c7a164-9492-4672-904b-5bf3abf61773",
   "metadata": {
    "jupyter": {
     "source_hidden": true
    }
   },
   "outputs": [],
   "source": [
    "from collections import namedtuple\n",
    "from copy import deepcopy\n",
    "\n",
    "from ssscoring import BREAKOFF_ALTITUDE\n",
    "from ssscoring import PERFORMANCE_WINDOW_LENGTH\n",
    "from ssscoring import aggregateResults\n",
    "from ssscoring import convertFlySight2SSScoring\n",
    "from ssscoring import dropNonSkydiveDataFrom\n",
    "from ssscoring import getAllSpeedJumpFilesFrom\n",
    "from ssscoring import getSpeedSkydiveFrom\n",
    "from ssscoring import isValidJump\n",
    "from ssscoring import jumpAnalysisTable\n",
    "from ssscoring import processAllJumpFiles\n",
    "from ssscoring import roundedAggregateResults\n",
    "from ssscoring import totalResultsFrom\n",
    "from ssscoring import validFlySightHeaderIn\n",
    "from ssscoring.notebook import SPEED_COLORS\n",
    "from ssscoring.notebook import graphJumpResult\n",
    "from ssscoring.notebook import initializePlot\n",
    "\n",
    "import csv\n",
    "import os\n",
    "import os.path as path\n",
    "\n",
    "import bokeh.plotting as bp\n",
    "import bokeh.models as bm\n",
    "import ipywidgets as widgets\n",
    "import pandas as pd"
   ]
  },
  {
   "cell_type": "code",
   "execution_count": 22,
   "id": "ef1d2bf0-eaf3-4d78-b6c0-fb1bb4ed10f1",
   "metadata": {
    "jupyter": {
     "source_hidden": true
    }
   },
   "outputs": [],
   "source": [
    "DATA_LAKE_ROOT = './data'"
   ]
  },
  {
   "cell_type": "code",
   "execution_count": 23,
   "id": "b1273b5c-44c1-46c2-a125-d01ad9268a1a",
   "metadata": {
    "jupyter": {
     "source_hidden": true
    }
   },
   "outputs": [],
   "source": [
    "jumpFiles = getAllSpeedJumpFilesFrom(DATA_LAKE_ROOT)"
   ]
  },
  {
   "cell_type": "code",
   "execution_count": 24,
   "id": "53a5fe5a-dd39-40d3-bfbf-d7048374e4ea",
   "metadata": {
    "jupyter": {
     "source_hidden": true
    }
   },
   "outputs": [],
   "source": [
    "jumpResults = processAllJumpFiles(jumpFiles)"
   ]
  },
  {
   "cell_type": "markdown",
   "id": "d80518ef-f197-4e40-a74e-8089eecb725a",
   "metadata": {},
   "source": [
    "---\n",
    "## Results"
   ]
  },
  {
   "cell_type": "code",
   "execution_count": 25,
   "id": "27c12cb1-2f60-44c9-b8fa-998b3df9d878",
   "metadata": {
    "jupyter": {
     "source_hidden": true
    }
   },
   "outputs": [
    {
     "data": {
      "text/html": [
       "<div>\n",
       "<style scoped>\n",
       "    .dataframe tbody tr th:only-of-type {\n",
       "        vertical-align: middle;\n",
       "    }\n",
       "\n",
       "    .dataframe tbody tr th {\n",
       "        vertical-align: top;\n",
       "    }\n",
       "\n",
       "    .dataframe thead th {\n",
       "        text-align: right;\n",
       "    }\n",
       "</style>\n",
       "<table border=\"1\" class=\"dataframe\">\n",
       "  <thead>\n",
       "    <tr style=\"text-align: right;\">\n",
       "      <th></th>\n",
       "      <th>score</th>\n",
       "      <th>5.0</th>\n",
       "      <th>10.0</th>\n",
       "      <th>15.0</th>\n",
       "      <th>20.0</th>\n",
       "      <th>25.0</th>\n",
       "      <th>finalTime</th>\n",
       "      <th>maxSpeed</th>\n",
       "    </tr>\n",
       "  </thead>\n",
       "  <tbody>\n",
       "    <tr>\n",
       "      <th>09-54-07</th>\n",
       "      <td>445.05</td>\n",
       "      <td>172.152</td>\n",
       "      <td>304.128</td>\n",
       "      <td>396.252</td>\n",
       "      <td>437.220</td>\n",
       "      <td>440.496</td>\n",
       "      <td>25.0</td>\n",
       "      <td>448.164</td>\n",
       "    </tr>\n",
       "    <tr>\n",
       "      <th>10-36-56</th>\n",
       "      <td>411.354</td>\n",
       "      <td>173.088</td>\n",
       "      <td>308.124</td>\n",
       "      <td>388.872</td>\n",
       "      <td>409.248</td>\n",
       "      <td>0.000</td>\n",
       "      <td>25.0</td>\n",
       "      <td>412.056</td>\n",
       "    </tr>\n",
       "    <tr>\n",
       "      <th>11-55-36</th>\n",
       "      <td>432.864</td>\n",
       "      <td>168.732</td>\n",
       "      <td>298.692</td>\n",
       "      <td>382.572</td>\n",
       "      <td>435.276</td>\n",
       "      <td>370.332</td>\n",
       "      <td>25.0</td>\n",
       "      <td>441.720</td>\n",
       "    </tr>\n",
       "  </tbody>\n",
       "</table>\n",
       "</div>"
      ],
      "text/plain": [
       "            score      5.0     10.0     15.0     20.0     25.0  finalTime  \\\n",
       "09-54-07   445.05  172.152  304.128  396.252  437.220  440.496       25.0   \n",
       "10-36-56  411.354  173.088  308.124  388.872  409.248    0.000       25.0   \n",
       "11-55-36  432.864  168.732  298.692  382.572  435.276  370.332       25.0   \n",
       "\n",
       "          maxSpeed  \n",
       "09-54-07   448.164  \n",
       "10-36-56   412.056  \n",
       "11-55-36   441.720  "
      ]
     },
     "metadata": {},
     "output_type": "display_data"
    }
   ],
   "source": [
    "aggregate = aggregateResults(jumpResults)\n",
    "sumResults = totalResultsFrom(aggregate)\n",
    "display(aggregate)"
   ]
  },
  {
   "cell_type": "markdown",
   "id": "3fa8c207-b9cf-4275-ba37-5103e1b324a9",
   "metadata": {},
   "source": [
    "### Rounded results for training log"
   ]
  },
  {
   "cell_type": "code",
   "execution_count": 26,
   "id": "e2bfbc21-3121-436a-904f-547edb0f2d0c",
   "metadata": {},
   "outputs": [],
   "source": [
    "roundedResults = roundedAggregateResults(jumpResults)"
   ]
  },
  {
   "cell_type": "markdown",
   "id": "faf1396d-1030-477e-9d87-5c167b61328f",
   "metadata": {},
   "source": [
    "### All jumps"
   ]
  },
  {
   "cell_type": "code",
   "execution_count": 27,
   "id": "5a0571fd-5a22-4dda-94aa-56a4f2c68098",
   "metadata": {
    "jupyter": {
     "source_hidden": true
    }
   },
   "outputs": [],
   "source": [
    "def dumpSimple(table: pd.DataFrame):\n",
    "    fileName = os.path.join(DATA_LAKE_ROOT, resultRef+'.tsv')\n",
    "    simpleTable = table.copy()\n",
    "    simpleTable = simpleTable.drop('speedAngle', axis = 1)\n",
    "    simpleTable.to_csv(fileName, sep = '\\t', index = False)"
   ]
  },
  {
   "cell_type": "code",
   "execution_count": 28,
   "id": "59ff50f6-4f29-4282-a55f-af524921af19",
   "metadata": {
    "jupyter": {
     "source_hidden": true
    }
   },
   "outputs": [],
   "source": [
    "def displayJumpDataIn(resultsTable: pd.DataFrame):\n",
    "    table = resultsTable.copy()\n",
    "    # Experimental\n",
    "    # For more information on the `interpolate` method and its options, see the [pandas documentation](https://pandas.pydata.org/pandas-docs/stable/reference/api/pandas.Series.interpolate.html).\n",
    "    # Additionally, you can also consider using other libraries like `scipy` which provides more advanced interpolation methods, such as `interp1d` or `griddata`. See the [scipy documentation](https://docs.scipy.org/doc/scipy/reference/interpolate.html) for more information.\n",
    "    table.vKMh = table.vKMh.apply(round)\n",
    "    table.hKMh = table.hKMh.apply(round)\n",
    "    table['altitude (ft)'] = table['altitude (ft)'].apply(round)\n",
    "    table.netVectorKMh = table.netVectorKMh.apply(round)\n",
    "    table.index = ['']*len(table)\n",
    "    display(table)\n",
    "    # dumpSimple(table)"
   ]
  },
  {
   "cell_type": "code",
   "execution_count": 29,
   "id": "888f2fce-1e7a-4728-b86d-7975c37e75c2",
   "metadata": {
    "jupyter": {
     "source_hidden": true
    }
   },
   "outputs": [
    {
     "data": {
      "application/vnd.jupyter.widget-view+json": {
       "model_id": "0a3e658e3a5a42bea2088d3067867dc5",
       "version_major": 2,
       "version_minor": 0
      },
      "text/plain": [
       "HTML(value='<hr><h1><span style=\"color: #0f0\">09-54-07 jump - 🟢 valid - score = 445.05 km/h</span></h1>')"
      ]
     },
     "metadata": {},
     "output_type": "display_data"
    },
    {
     "data": {
      "application/vnd.jupyter.widget-view+json": {
       "model_id": "6bd14816ced44c2a87b84ae457b14159",
       "version_major": 2,
       "version_minor": 0
      },
      "text/plain": [
       "HTML(value='<h3>Max speed = 448; exit at 4233 m (13890 ft), end scoring window at 1977 m (6489 ft)</h3>')"
      ]
     },
     "metadata": {},
     "output_type": "display_data"
    },
    {
     "data": {
      "text/html": [
       "<div>\n",
       "<style scoped>\n",
       "    .dataframe tbody tr th:only-of-type {\n",
       "        vertical-align: middle;\n",
       "    }\n",
       "\n",
       "    .dataframe tbody tr th {\n",
       "        vertical-align: top;\n",
       "    }\n",
       "\n",
       "    .dataframe thead th {\n",
       "        text-align: right;\n",
       "    }\n",
       "</style>\n",
       "<table border=\"1\" class=\"dataframe\">\n",
       "  <thead>\n",
       "    <tr style=\"text-align: right;\">\n",
       "      <th></th>\n",
       "      <th>time</th>\n",
       "      <th>vKMh</th>\n",
       "      <th>hKMh</th>\n",
       "      <th>speedAngle</th>\n",
       "      <th>netVectorKMh</th>\n",
       "      <th>altitude (ft)</th>\n",
       "    </tr>\n",
       "  </thead>\n",
       "  <tbody>\n",
       "    <tr>\n",
       "      <th></th>\n",
       "      <td>5.0</td>\n",
       "      <td>172</td>\n",
       "      <td>112</td>\n",
       "      <td>57.0</td>\n",
       "      <td>205</td>\n",
       "      <td>13458</td>\n",
       "    </tr>\n",
       "    <tr>\n",
       "      <th></th>\n",
       "      <td>10.0</td>\n",
       "      <td>304</td>\n",
       "      <td>80</td>\n",
       "      <td>75.3</td>\n",
       "      <td>314</td>\n",
       "      <td>12339</td>\n",
       "    </tr>\n",
       "    <tr>\n",
       "      <th></th>\n",
       "      <td>15.0</td>\n",
       "      <td>396</td>\n",
       "      <td>66</td>\n",
       "      <td>80.6</td>\n",
       "      <td>402</td>\n",
       "      <td>10718</td>\n",
       "    </tr>\n",
       "    <tr>\n",
       "      <th></th>\n",
       "      <td>20.0</td>\n",
       "      <td>437</td>\n",
       "      <td>39</td>\n",
       "      <td>84.9</td>\n",
       "      <td>439</td>\n",
       "      <td>8796</td>\n",
       "    </tr>\n",
       "    <tr>\n",
       "      <th></th>\n",
       "      <td>25.0</td>\n",
       "      <td>440</td>\n",
       "      <td>13</td>\n",
       "      <td>88.4</td>\n",
       "      <td>441</td>\n",
       "      <td>6773</td>\n",
       "    </tr>\n",
       "  </tbody>\n",
       "</table>\n",
       "</div>"
      ],
      "text/plain": [
       "  time  vKMh  hKMh  speedAngle  netVectorKMh  altitude (ft)\n",
       "   5.0   172   112        57.0           205          13458\n",
       "  10.0   304    80        75.3           314          12339\n",
       "  15.0   396    66        80.6           402          10718\n",
       "  20.0   437    39        84.9           439           8796\n",
       "  25.0   440    13        88.4           441           6773"
      ]
     },
     "metadata": {},
     "output_type": "display_data"
    },
    {
     "data": {
      "text/html": [
       "\n",
       "  <div id=\"d7b5d9e7-a6fd-4db3-9ceb-d804094ea167\" data-root-id=\"p1435\" style=\"display: contents;\"></div>\n"
      ]
     },
     "metadata": {},
     "output_type": "display_data"
    },
    {
     "data": {
      "application/javascript": [
       "(function(root) {\n",
       "  function embed_document(root) {\n",
       "  const docs_json = {\"3fa22282-c2fe-4393-af44-80ef6fb0609b\":{\"version\":\"3.4.1\",\"title\":\"Bokeh Application\",\"roots\":[{\"type\":\"object\",\"name\":\"Figure\",\"id\":\"p1435\",\"attributes\":{\"width\":900,\"height\":500,\"x_range\":{\"type\":\"object\",\"name\":\"Range1d\",\"id\":\"p1445\",\"attributes\":{\"end\":40.0}},\"y_range\":{\"type\":\"object\",\"name\":\"Range1d\",\"id\":\"p1446\",\"attributes\":{\"end\":550.0}},\"x_scale\":{\"type\":\"object\",\"name\":\"LinearScale\",\"id\":\"p1447\"},\"y_scale\":{\"type\":\"object\",\"name\":\"LinearScale\",\"id\":\"p1448\"},\"title\":{\"type\":\"object\",\"name\":\"Title\",\"id\":\"p1438\",\"attributes\":{\"text\":\"09-54-07\",\"text_color\":\"#E0E0E0\",\"text_font\":\"Helvetica\",\"text_font_size\":\"1.15em\"}},\"outline_line_color\":\"#E0E0E0\",\"outline_line_alpha\":0.25,\"renderers\":[{\"type\":\"object\",\"name\":\"GlyphRenderer\",\"id\":\"p1477\",\"attributes\":{\"data_source\":{\"type\":\"object\",\"name\":\"ColumnDataSource\",\"id\":\"p1471\",\"attributes\":{\"selected\":{\"type\":\"object\",\"name\":\"Selection\",\"id\":\"p1472\",\"attributes\":{\"indices\":[],\"line_indices\":[]}},\"selection_policy\":{\"type\":\"object\",\"name\":\"UnionRenderers\",\"id\":\"p1473\"},\"data\":{\"type\":\"map\",\"entries\":[[\"x\",{\"type\":\"ndarray\",\"array\":{\"type\":\"bytes\",\"data\":\"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\"},\"shape\":[208],\"dtype\":\"float64\",\"order\":\"little\"}],[\"y\",{\"type\":\"ndarray\",\"array\":{\"type\":\"bytes\",\"data\":\"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\"},\"shape\":[208],\"dtype\":\"float64\",\"order\":\"little\"}]]}}},\"view\":{\"type\":\"object\",\"name\":\"CDSView\",\"id\":\"p1478\",\"attributes\":{\"filter\":{\"type\":\"object\",\"name\":\"AllIndices\",\"id\":\"p1479\"}}},\"glyph\":{\"type\":\"object\",\"name\":\"Line\",\"id\":\"p1474\",\"attributes\":{\"x\":{\"type\":\"field\",\"field\":\"x\"},\"y\":{\"type\":\"field\",\"field\":\"y\"},\"line_color\":\"limegreen\",\"line_width\":2}},\"nonselection_glyph\":{\"type\":\"object\",\"name\":\"Line\",\"id\":\"p1475\",\"attributes\":{\"x\":{\"type\":\"field\",\"field\":\"x\"},\"y\":{\"type\":\"field\",\"field\":\"y\"},\"line_color\":\"limegreen\",\"line_alpha\":0.1,\"line_width\":2}},\"muted_glyph\":{\"type\":\"object\",\"name\":\"Line\",\"id\":\"p1476\",\"attributes\":{\"x\":{\"type\":\"field\",\"field\":\"x\"},\"y\":{\"type\":\"field\",\"field\":\"y\"},\"line_color\":\"limegreen\",\"line_alpha\":0.2,\"line_width\":2}}}},{\"type\":\"object\",\"name\":\"GlyphRenderer\",\"id\":\"p1488\",\"attributes\":{\"data_source\":{\"type\":\"object\",\"name\":\"ColumnDataSource\",\"id\":\"p1482\",\"attributes\":{\"selected\":{\"type\":\"object\",\"name\":\"Selection\",\"id\":\"p1483\",\"attributes\":{\"indices\":[],\"line_indices\":[]}},\"selection_policy\":{\"type\":\"object\",\"name\":\"UnionRenderers\",\"id\":\"p1484\"},\"data\":{\"type\":\"map\",\"entries\":[[\"x\",{\"type\":\"ndarray\",\"array\":{\"type\":\"bytes\",\"data\":\"AAAAAAAAAAAAAAAAmJm5PwAAAACamck/AAAAADMz0z8AAAAAmpnZPwAAAAAAAOA/AAAAADMz4z8AAACAZmbmPwAAAICZmek/AAAAAM3M7D8AAAAAAADwPwAAAICZmfE/AAAAQDMz8z8AAADAzMz0PwAAAIBmZvY/AAAAAAAA+D8AAACAmZn5PwAAAEAzM/s/AAAAwMzM/D8AAACAZmb+PwAAAAAAAABAAAAAwMzMAEAAAACgmZkBQAAAAGBmZgJAAAAAQDMzA0AAAAAAAAAEQAAAAMDMzARAAAAAoJmZBUAAAABgZmYGQAAAAEAzMwdAAAAAAAAACEAAAADAzMwIQAAAAKCZmQlAAAAAYGZmCkAAAABAMzMLQAAAAAAAAAxAAAAAwMzMDEAAAACgmZkNQAAAAGBmZg5AAAAAQDMzD0AAAAAAAAAQQAAAAGBmZhBAAAAAMDMzEUAAAACgmZkRQAAAAGBmZhJAAAAA0MzMEkAAAAAwMzMTQAAAAKCZmRNAAAAAAAAAFEAAAADQzMwUQAAAADAzMxVAAAAAoJmZFUAAAAAAAAAWQAAAANDMzBZAAAAAMDMzF0AAAAAAAAAYQAAAAGBmZhhAAAAA0MzMGEAAAAAwMzMZQAAAAKCZmRlAAAAAYGZmGkAAAADQzMwaQAAAADAzMxtAAAAAoJmZG0AAAABgZmYcQAAAANDMzBxAAAAAoJmZHUAAAAAAAAAeQAAAAGBmZh5AAAAA0MzMHkAAAACgmZkfQAAAAAAAACBAAAAAMDMzIEAAAABoZmYgQAAAAJiZmSBAAAAAAAAAIUAAAAAwMzMhQAAAAGhmZiFAAAAAmJmZIUAAAAAAAAAiQAAAADAzMyJAAAAAmJmZIkAAAADQzMwiQAAAADAzMyNAAAAAaGZmI0AAAADQzMwjQAAAAAAAACRAAAAAMDMzJEAAAABoZmYkQAAAAJiZmSRAAAAAAAAAJUAAAAAwMzMlQAAAAGhmZiVAAAAAmJmZJUAAAAAAAAAmQAAAADAzMyZAAAAAmJmZJkAAAADQzMwmQAAAAAAAACdAAAAAMDMzJ0AAAABoZmYnQAAAANDMzCdAAAAAAAAAKEAAAAAwMzMoQAAAAGhmZihAAAAA0MzMKEAAAAAAAAApQAAAAGhmZilAAAAAmJmZKUAAAADQzMwpQAAAAAAAACpAAAAAMDMzKkAAAACYmZkqQAAAAAAAACtAAAAAMDMzK0AAAACYmZkrQAAAANDMzCtAAAAAAAAALEAAAAAwMzMsQAAAAGhmZixAAAAA0MzMLEAAAAAAAAAtQAAAADAzMy1AAAAAaGZmLUAAAADQzMwtQAAAAAAAAC5AAAAAaGZmLkAAAACYmZkuQAAAANDMzC5AAAAAAAAAL0AAAAAwMzMvQAAAAJiZmS9AAAAAAAAAMEAAAACYmRkwQAAAAMzMTDBAAAAAaGZmMEAAAAAAAIAwQAAAAJiZmTBAAAAANDOzMEAAAABoZuYwQAAAAAAAADFAAAAANDMzMUAAAADMzEwxQAAAAGhmZjFAAAAAAACAMUAAAAA0M7MxQAAAAMzMzDFAAAAAaGbmMUAAAAAAAAAyQAAAAJiZGTJAAAAAzMxMMkAAAABoZmYyQAAAAAAAgDJAAAAAmJmZMkAAAADMzMwyQAAAAGhm5jJAAAAAmJkZM0AAAAA0MzMzQAAAAGhmZjNAAAAAAACAM0AAAACYmZkzQAAAADQzszNAAAAAaGbmM0AAAAAAAAA0QAAAAJiZGTRAAAAANDMzNEAAAADMzEw0QAAAAAAAgDRAAAAAmJmZNEAAAAA0M7M0QAAAAMzMzDRAAAAAAAAANUAAAACYmRk1QAAAAMzMTDVAAAAAaGZmNUAAAAAAAIA1QAAAAJiZmTVAAAAANDOzNUAAAABoZuY1QAAAAAAAADZAAAAANDMzNkAAAADMzEw2QAAAAGhmZjZAAAAAAACANkAAAAA0M7M2QAAAAMzMzDZAAAAAAAAAN0AAAACYmRk3QAAAAMzMTDdAAAAAaGZmN0AAAAAAAIA3QAAAAJiZmTdAAAAANDOzN0AAAABoZuY3QAAAAAAAADhAAAAAmJkZOEAAAAA0MzM4QAAAAGhmZjhAAAAAAACAOEAAAACYmZk4QAAAADQzszhAAAAAzMzMOEAAAAAAAAA5QAAAAJiZGTlAAAAANDMzOUAAAADMzEw5QAAAAAAAgDlAAAAAmJmZOUA=\"},\"shape\":[208],\"dtype\":\"float64\",\"order\":\"little\"}],[\"y\",{\"type\":\"ndarray\",\"array\":{\"type\":\"bytes\",\"data\":\"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\"},\"shape\":[208],\"dtype\":\"float64\",\"order\":\"little\"}]]}}},\"view\":{\"type\":\"object\",\"name\":\"CDSView\",\"id\":\"p1489\",\"attributes\":{\"filter\":{\"type\":\"object\",\"name\":\"AllIndices\",\"id\":\"p1490\"}}},\"glyph\":{\"type\":\"object\",\"name\":\"Line\",\"id\":\"p1485\",\"attributes\":{\"x\":{\"type\":\"field\",\"field\":\"x\"},\"y\":{\"type\":\"field\",\"field\":\"y\"},\"line_color\":\"red\",\"line_width\":2}},\"nonselection_glyph\":{\"type\":\"object\",\"name\":\"Line\",\"id\":\"p1486\",\"attributes\":{\"x\":{\"type\":\"field\",\"field\":\"x\"},\"y\":{\"type\":\"field\",\"field\":\"y\"},\"line_color\":\"red\",\"line_alpha\":0.1,\"line_width\":2}},\"muted_glyph\":{\"type\":\"object\",\"name\":\"Line\",\"id\":\"p1487\",\"attributes\":{\"x\":{\"type\":\"field\",\"field\":\"x\"},\"y\":{\"type\":\"field\",\"field\":\"y\"},\"line_color\":\"red\",\"line_alpha\":0.2,\"line_width\":2}}}},{\"type\":\"object\",\"name\":\"GlyphRenderer\",\"id\":\"p1498\",\"attributes\":{\"data_source\":{\"type\":\"object\",\"name\":\"ColumnDataSource\",\"id\":\"p1492\",\"attributes\":{\"selected\":{\"type\":\"object\",\"name\":\"Selection\",\"id\":\"p1493\",\"attributes\":{\"indices\":[],\"line_indices\":[]}},\"selection_policy\":{\"type\":\"object\",\"name\":\"UnionRenderers\",\"id\":\"p1494\"},\"data\":{\"type\":\"map\",\"entries\":[[\"x0\",[22.299999952316284]],[\"y0\",[0.0]],[\"x1\",[22.299999952316284]],[\"y1\",[445.05]]]}}},\"view\":{\"type\":\"object\",\"name\":\"CDSView\",\"id\":\"p1499\",\"attributes\":{\"filter\":{\"type\":\"object\",\"name\":\"AllIndices\",\"id\":\"p1500\"}}},\"glyph\":{\"type\":\"object\",\"name\":\"Segment\",\"id\":\"p1495\",\"attributes\":{\"x0\":{\"type\":\"field\",\"field\":\"x0\"},\"y0\":{\"type\":\"field\",\"field\":\"y0\"},\"x1\":{\"type\":\"field\",\"field\":\"x1\"},\"y1\":{\"type\":\"field\",\"field\":\"y1\"},\"line_color\":{\"type\":\"value\",\"value\":\"lightblue\"},\"line_width\":{\"type\":\"value\",\"value\":3}}},\"nonselection_glyph\":{\"type\":\"object\",\"name\":\"Segment\",\"id\":\"p1496\",\"attributes\":{\"x0\":{\"type\":\"field\",\"field\":\"x0\"},\"y0\":{\"type\":\"field\",\"field\":\"y0\"},\"x1\":{\"type\":\"field\",\"field\":\"x1\"},\"y1\":{\"type\":\"field\",\"field\":\"y1\"},\"line_color\":{\"type\":\"value\",\"value\":\"lightblue\"},\"line_alpha\":{\"type\":\"value\",\"value\":0.1},\"line_width\":{\"type\":\"value\",\"value\":3}}},\"muted_glyph\":{\"type\":\"object\",\"name\":\"Segment\",\"id\":\"p1497\",\"attributes\":{\"x0\":{\"type\":\"field\",\"field\":\"x0\"},\"y0\":{\"type\":\"field\",\"field\":\"y0\"},\"x1\":{\"type\":\"field\",\"field\":\"x1\"},\"y1\":{\"type\":\"field\",\"field\":\"y1\"},\"line_color\":{\"type\":\"value\",\"value\":\"lightblue\"},\"line_alpha\":{\"type\":\"value\",\"value\":0.2},\"line_width\":{\"type\":\"value\",\"value\":3}}}}},{\"type\":\"object\",\"name\":\"GlyphRenderer\",\"id\":\"p1507\",\"attributes\":{\"data_source\":{\"type\":\"object\",\"name\":\"ColumnDataSource\",\"id\":\"p1501\",\"attributes\":{\"selected\":{\"type\":\"object\",\"name\":\"Selection\",\"id\":\"p1502\",\"attributes\":{\"indices\":[],\"line_indices\":[]}},\"selection_policy\":{\"type\":\"object\",\"name\":\"UnionRenderers\",\"id\":\"p1503\"},\"data\":{\"type\":\"map\",\"entries\":[[\"x0\",[23.799999952316284]],[\"y0\",[0.0]],[\"x1\",[23.799999952316284]],[\"y1\",[445.05]]]}}},\"view\":{\"type\":\"object\",\"name\":\"CDSView\",\"id\":\"p1508\",\"attributes\":{\"filter\":{\"type\":\"object\",\"name\":\"AllIndices\",\"id\":\"p1509\"}}},\"glyph\":{\"type\":\"object\",\"name\":\"Segment\",\"id\":\"p1504\",\"attributes\":{\"x0\":{\"type\":\"field\",\"field\":\"x0\"},\"y0\":{\"type\":\"field\",\"field\":\"y0\"},\"x1\":{\"type\":\"field\",\"field\":\"x1\"},\"y1\":{\"type\":\"field\",\"field\":\"y1\"},\"line_color\":{\"type\":\"value\",\"value\":\"darkseagreen\"}}},\"nonselection_glyph\":{\"type\":\"object\",\"name\":\"Segment\",\"id\":\"p1505\",\"attributes\":{\"x0\":{\"type\":\"field\",\"field\":\"x0\"},\"y0\":{\"type\":\"field\",\"field\":\"y0\"},\"x1\":{\"type\":\"field\",\"field\":\"x1\"},\"y1\":{\"type\":\"field\",\"field\":\"y1\"},\"line_color\":{\"type\":\"value\",\"value\":\"darkseagreen\"},\"line_alpha\":{\"type\":\"value\",\"value\":0.1}}},\"muted_glyph\":{\"type\":\"object\",\"name\":\"Segment\",\"id\":\"p1506\",\"attributes\":{\"x0\":{\"type\":\"field\",\"field\":\"x0\"},\"y0\":{\"type\":\"field\",\"field\":\"y0\"},\"x1\":{\"type\":\"field\",\"field\":\"x1\"},\"y1\":{\"type\":\"field\",\"field\":\"y1\"},\"line_color\":{\"type\":\"value\",\"value\":\"darkseagreen\"},\"line_alpha\":{\"type\":\"value\",\"value\":0.2}}}}},{\"type\":\"object\",\"name\":\"GlyphRenderer\",\"id\":\"p1516\",\"attributes\":{\"data_source\":{\"type\":\"object\",\"name\":\"ColumnDataSource\",\"id\":\"p1510\",\"attributes\":{\"selected\":{\"type\":\"object\",\"name\":\"Selection\",\"id\":\"p1511\",\"attributes\":{\"indices\":[],\"line_indices\":[]}},\"selection_policy\":{\"type\":\"object\",\"name\":\"UnionRenderers\",\"id\":\"p1512\"},\"data\":{\"type\":\"map\",\"entries\":[[\"x0\",[20.799999952316284]],[\"y0\",[0.0]],[\"x1\",[20.799999952316284]],[\"y1\",[445.05]]]}}},\"view\":{\"type\":\"object\",\"name\":\"CDSView\",\"id\":\"p1517\",\"attributes\":{\"filter\":{\"type\":\"object\",\"name\":\"AllIndices\",\"id\":\"p1518\"}}},\"glyph\":{\"type\":\"object\",\"name\":\"Segment\",\"id\":\"p1513\",\"attributes\":{\"x0\":{\"type\":\"field\",\"field\":\"x0\"},\"y0\":{\"type\":\"field\",\"field\":\"y0\"},\"x1\":{\"type\":\"field\",\"field\":\"x1\"},\"y1\":{\"type\":\"field\",\"field\":\"y1\"},\"line_color\":{\"type\":\"value\",\"value\":\"darkseagreen\"}}},\"nonselection_glyph\":{\"type\":\"object\",\"name\":\"Segment\",\"id\":\"p1514\",\"attributes\":{\"x0\":{\"type\":\"field\",\"field\":\"x0\"},\"y0\":{\"type\":\"field\",\"field\":\"y0\"},\"x1\":{\"type\":\"field\",\"field\":\"x1\"},\"y1\":{\"type\":\"field\",\"field\":\"y1\"},\"line_color\":{\"type\":\"value\",\"value\":\"darkseagreen\"},\"line_alpha\":{\"type\":\"value\",\"value\":0.1}}},\"muted_glyph\":{\"type\":\"object\",\"name\":\"Segment\",\"id\":\"p1515\",\"attributes\":{\"x0\":{\"type\":\"field\",\"field\":\"x0\"},\"y0\":{\"type\":\"field\",\"field\":\"y0\"},\"x1\":{\"type\":\"field\",\"field\":\"x1\"},\"y1\":{\"type\":\"field\",\"field\":\"y1\"},\"line_color\":{\"type\":\"value\",\"value\":\"darkseagreen\"},\"line_alpha\":{\"type\":\"value\",\"value\":0.2}}}}},{\"type\":\"object\",\"name\":\"GlyphRenderer\",\"id\":\"p1525\",\"attributes\":{\"data_source\":{\"type\":\"object\",\"name\":\"ColumnDataSource\",\"id\":\"p1519\",\"attributes\":{\"selected\":{\"type\":\"object\",\"name\":\"Selection\",\"id\":\"p1520\",\"attributes\":{\"indices\":[],\"line_indices\":[]}},\"selection_policy\":{\"type\":\"object\",\"name\":\"UnionRenderers\",\"id\":\"p1521\"},\"data\":{\"type\":\"map\",\"entries\":[[\"x\",[22.299999952316284]],[\"y\",[445.05]],[\"size\",[20]]]}}},\"view\":{\"type\":\"object\",\"name\":\"CDSView\",\"id\":\"p1526\",\"attributes\":{\"filter\":{\"type\":\"object\",\"name\":\"AllIndices\",\"id\":\"p1527\"}}},\"glyph\":{\"type\":\"object\",\"name\":\"Scatter\",\"id\":\"p1522\",\"attributes\":{\"x\":{\"type\":\"field\",\"field\":\"x\"},\"y\":{\"type\":\"field\",\"field\":\"y\"},\"size\":{\"type\":\"field\",\"field\":\"size\"},\"line_color\":{\"type\":\"value\",\"value\":\"lightblue\"},\"line_width\":{\"type\":\"value\",\"value\":3},\"fill_color\":{\"type\":\"value\",\"value\":null},\"marker\":{\"type\":\"value\",\"value\":\"square_cross\"}}},\"nonselection_glyph\":{\"type\":\"object\",\"name\":\"Scatter\",\"id\":\"p1523\",\"attributes\":{\"x\":{\"type\":\"field\",\"field\":\"x\"},\"y\":{\"type\":\"field\",\"field\":\"y\"},\"size\":{\"type\":\"field\",\"field\":\"size\"},\"line_color\":{\"type\":\"value\",\"value\":\"lightblue\"},\"line_alpha\":{\"type\":\"value\",\"value\":0.1},\"line_width\":{\"type\":\"value\",\"value\":3},\"fill_color\":{\"type\":\"value\",\"value\":null},\"fill_alpha\":{\"type\":\"value\",\"value\":0.1},\"hatch_alpha\":{\"type\":\"value\",\"value\":0.1},\"marker\":{\"type\":\"value\",\"value\":\"square_cross\"}}},\"muted_glyph\":{\"type\":\"object\",\"name\":\"Scatter\",\"id\":\"p1524\",\"attributes\":{\"x\":{\"type\":\"field\",\"field\":\"x\"},\"y\":{\"type\":\"field\",\"field\":\"y\"},\"size\":{\"type\":\"field\",\"field\":\"size\"},\"line_color\":{\"type\":\"value\",\"value\":\"lightblue\"},\"line_alpha\":{\"type\":\"value\",\"value\":0.2},\"line_width\":{\"type\":\"value\",\"value\":3},\"fill_color\":{\"type\":\"value\",\"value\":null},\"fill_alpha\":{\"type\":\"value\",\"value\":0.2},\"hatch_alpha\":{\"type\":\"value\",\"value\":0.2},\"marker\":{\"type\":\"value\",\"value\":\"square_cross\"}}}}}],\"toolbar\":{\"type\":\"object\",\"name\":\"Toolbar\",\"id\":\"p1444\",\"attributes\":{\"tools\":[{\"type\":\"object\",\"name\":\"PanTool\",\"id\":\"p1459\"},{\"type\":\"object\",\"name\":\"WheelZoomTool\",\"id\":\"p1460\",\"attributes\":{\"renderers\":\"auto\"}},{\"type\":\"object\",\"name\":\"BoxZoomTool\",\"id\":\"p1461\",\"attributes\":{\"overlay\":{\"type\":\"object\",\"name\":\"BoxAnnotation\",\"id\":\"p1462\",\"attributes\":{\"syncable\":false,\"level\":\"overlay\",\"visible\":false,\"left\":{\"type\":\"number\",\"value\":\"nan\"},\"right\":{\"type\":\"number\",\"value\":\"nan\"},\"top\":{\"type\":\"number\",\"value\":\"nan\"},\"bottom\":{\"type\":\"number\",\"value\":\"nan\"},\"left_units\":\"canvas\",\"right_units\":\"canvas\",\"top_units\":\"canvas\",\"bottom_units\":\"canvas\",\"line_color\":\"black\",\"line_alpha\":1.0,\"line_width\":2,\"line_dash\":[4,4],\"fill_color\":\"lightgrey\",\"fill_alpha\":0.5}}}},{\"type\":\"object\",\"name\":\"SaveTool\",\"id\":\"p1467\"},{\"type\":\"object\",\"name\":\"ResetTool\",\"id\":\"p1468\"},{\"type\":\"object\",\"name\":\"HelpTool\",\"id\":\"p1469\"},{\"type\":\"object\",\"name\":\"HoverTool\",\"id\":\"p1470\",\"attributes\":{\"renderers\":\"auto\",\"tooltips\":[[\"KM/h\",\"@y{0.00}\"]]}}]}},\"left\":[{\"type\":\"object\",\"name\":\"LinearAxis\",\"id\":\"p1454\",\"attributes\":{\"ticker\":{\"type\":\"object\",\"name\":\"BasicTicker\",\"id\":\"p1455\",\"attributes\":{\"mantissas\":[1,2,5]}},\"formatter\":{\"type\":\"object\",\"name\":\"BasicTickFormatter\",\"id\":\"p1456\"},\"axis_label\":\"km/h\",\"axis_label_standoff\":10,\"axis_label_text_color\":\"#E0E0E0\",\"axis_label_text_font\":\"Helvetica\",\"axis_label_text_font_size\":\"1.25em\",\"axis_label_text_font_style\":\"normal\",\"major_label_policy\":{\"type\":\"object\",\"name\":\"AllLabels\",\"id\":\"p1457\"},\"major_label_text_color\":\"#E0E0E0\",\"major_label_text_font\":\"Helvetica\",\"major_label_text_font_size\":\"1.025em\",\"axis_line_color\":\"#E0E0E0\",\"axis_line_alpha\":0,\"major_tick_line_color\":\"#E0E0E0\",\"major_tick_line_alpha\":0,\"minor_tick_line_color\":\"#E0E0E0\",\"minor_tick_line_alpha\":0}}],\"below\":[{\"type\":\"object\",\"name\":\"LinearAxis\",\"id\":\"p1449\",\"attributes\":{\"ticker\":{\"type\":\"object\",\"name\":\"BasicTicker\",\"id\":\"p1450\",\"attributes\":{\"mantissas\":[1,2,5]}},\"formatter\":{\"type\":\"object\",\"name\":\"BasicTickFormatter\",\"id\":\"p1451\"},\"axis_label\":\"seconds from exit\",\"axis_label_standoff\":10,\"axis_label_text_color\":\"#E0E0E0\",\"axis_label_text_font\":\"Helvetica\",\"axis_label_text_font_size\":\"1.25em\",\"axis_label_text_font_style\":\"normal\",\"major_label_policy\":{\"type\":\"object\",\"name\":\"AllLabels\",\"id\":\"p1452\"},\"major_label_text_color\":\"#E0E0E0\",\"major_label_text_font\":\"Helvetica\",\"major_label_text_font_size\":\"1.025em\",\"axis_line_color\":\"#E0E0E0\",\"axis_line_alpha\":0,\"major_tick_line_color\":\"#E0E0E0\",\"major_tick_line_alpha\":0,\"minor_tick_line_color\":\"#E0E0E0\",\"minor_tick_line_alpha\":0}}],\"center\":[{\"type\":\"object\",\"name\":\"Grid\",\"id\":\"p1453\",\"attributes\":{\"axis\":{\"id\":\"p1449\"},\"grid_line_color\":\"#E0E0E0\",\"grid_line_alpha\":0.25}},{\"type\":\"object\",\"name\":\"Grid\",\"id\":\"p1458\",\"attributes\":{\"dimension\":1,\"axis\":{\"id\":\"p1454\"},\"grid_line_color\":\"#E0E0E0\",\"grid_line_alpha\":0.25}},{\"type\":\"object\",\"name\":\"Legend\",\"id\":\"p1480\",\"attributes\":{\"border_line_alpha\":0,\"background_fill_color\":\"#20262B\",\"background_fill_alpha\":0.25,\"label_text_color\":\"#E0E0E0\",\"label_text_font\":\"Helvetica\",\"label_text_font_size\":\"1.025em\",\"label_standoff\":8,\"glyph_width\":15,\"spacing\":8,\"items\":[{\"type\":\"object\",\"name\":\"LegendItem\",\"id\":\"p1481\",\"attributes\":{\"label\":{\"type\":\"value\",\"value\":\"speed\"},\"renderers\":[{\"id\":\"p1477\"}]}},{\"type\":\"object\",\"name\":\"LegendItem\",\"id\":\"p1491\",\"attributes\":{\"label\":{\"type\":\"value\",\"value\":\"H-speed\"},\"renderers\":[{\"id\":\"p1488\"}]}}]}}],\"background_fill_color\":\"#20262B\",\"border_fill_color\":\"#15191C\"}}]}};\n",
       "  const render_items = [{\"docid\":\"3fa22282-c2fe-4393-af44-80ef6fb0609b\",\"roots\":{\"p1435\":\"d7b5d9e7-a6fd-4db3-9ceb-d804094ea167\"},\"root_ids\":[\"p1435\"]}];\n",
       "  void root.Bokeh.embed.embed_items_notebook(docs_json, render_items);\n",
       "  }\n",
       "  if (root.Bokeh !== undefined) {\n",
       "    embed_document(root);\n",
       "  } else {\n",
       "    let attempts = 0;\n",
       "    const timer = setInterval(function(root) {\n",
       "      if (root.Bokeh !== undefined) {\n",
       "        clearInterval(timer);\n",
       "        embed_document(root);\n",
       "      } else {\n",
       "        attempts++;\n",
       "        if (attempts > 100) {\n",
       "          clearInterval(timer);\n",
       "          console.log(\"Bokeh: ERROR: Unable to run BokehJS code because BokehJS library is missing\");\n",
       "        }\n",
       "      }\n",
       "    }, 10, root)\n",
       "  }\n",
       "})(window);"
      ],
      "application/vnd.bokehjs_exec.v0+json": ""
     },
     "metadata": {
      "application/vnd.bokehjs_exec.v0+json": {
       "id": "p1435"
      }
     },
     "output_type": "display_data"
    },
    {
     "data": {
      "application/vnd.jupyter.widget-view+json": {
       "model_id": "c0ea661a4147482d84ef872a60413e71",
       "version_major": 2,
       "version_minor": 0
      },
      "text/plain": [
       "HTML(value='<hr><h1><span style=\"color: #0f0\">10-36-56 jump - 🟢 valid - score = 411.35 km/h</span></h1>')"
      ]
     },
     "metadata": {},
     "output_type": "display_data"
    },
    {
     "data": {
      "application/vnd.jupyter.widget-view+json": {
       "model_id": "cc5a4ba1ad5544a38438fd0605926977",
       "version_major": 2,
       "version_minor": 0
      },
      "text/plain": [
       "HTML(value='<h3>Max speed = 412; exit at 3882 m (12736 ft), end scoring window at 1707 m (5600 ft)</h3>')"
      ]
     },
     "metadata": {},
     "output_type": "display_data"
    },
    {
     "data": {
      "text/html": [
       "<div>\n",
       "<style scoped>\n",
       "    .dataframe tbody tr th:only-of-type {\n",
       "        vertical-align: middle;\n",
       "    }\n",
       "\n",
       "    .dataframe tbody tr th {\n",
       "        vertical-align: top;\n",
       "    }\n",
       "\n",
       "    .dataframe thead th {\n",
       "        text-align: right;\n",
       "    }\n",
       "</style>\n",
       "<table border=\"1\" class=\"dataframe\">\n",
       "  <thead>\n",
       "    <tr style=\"text-align: right;\">\n",
       "      <th></th>\n",
       "      <th>time</th>\n",
       "      <th>vKMh</th>\n",
       "      <th>hKMh</th>\n",
       "      <th>speedAngle</th>\n",
       "      <th>netVectorKMh</th>\n",
       "      <th>altitude (ft)</th>\n",
       "    </tr>\n",
       "  </thead>\n",
       "  <tbody>\n",
       "    <tr>\n",
       "      <th></th>\n",
       "      <td>5.0</td>\n",
       "      <td>173</td>\n",
       "      <td>105</td>\n",
       "      <td>58.8</td>\n",
       "      <td>202</td>\n",
       "      <td>12038</td>\n",
       "    </tr>\n",
       "    <tr>\n",
       "      <th></th>\n",
       "      <td>10.0</td>\n",
       "      <td>308</td>\n",
       "      <td>83</td>\n",
       "      <td>74.9</td>\n",
       "      <td>319</td>\n",
       "      <td>10729</td>\n",
       "    </tr>\n",
       "    <tr>\n",
       "      <th></th>\n",
       "      <td>15.0</td>\n",
       "      <td>389</td>\n",
       "      <td>54</td>\n",
       "      <td>82.0</td>\n",
       "      <td>393</td>\n",
       "      <td>9010</td>\n",
       "    </tr>\n",
       "    <tr>\n",
       "      <th></th>\n",
       "      <td>20.0</td>\n",
       "      <td>409</td>\n",
       "      <td>46</td>\n",
       "      <td>83.6</td>\n",
       "      <td>412</td>\n",
       "      <td>7076</td>\n",
       "    </tr>\n",
       "    <tr>\n",
       "      <th></th>\n",
       "      <td>25.0</td>\n",
       "      <td>0</td>\n",
       "      <td>0</td>\n",
       "      <td>0.0</td>\n",
       "      <td>0</td>\n",
       "      <td>0</td>\n",
       "    </tr>\n",
       "  </tbody>\n",
       "</table>\n",
       "</div>"
      ],
      "text/plain": [
       "  time  vKMh  hKMh  speedAngle  netVectorKMh  altitude (ft)\n",
       "   5.0   173   105        58.8           202          12038\n",
       "  10.0   308    83        74.9           319          10729\n",
       "  15.0   389    54        82.0           393           9010\n",
       "  20.0   409    46        83.6           412           7076\n",
       "  25.0     0     0         0.0             0              0"
      ]
     },
     "metadata": {},
     "output_type": "display_data"
    },
    {
     "data": {
      "text/html": [
       "\n",
       "  <div id=\"e843675f-24e8-43d5-a300-68c14c28d860\" data-root-id=\"p1543\" style=\"display: contents;\"></div>\n"
      ]
     },
     "metadata": {},
     "output_type": "display_data"
    },
    {
     "data": {
      "application/javascript": [
       "(function(root) {\n",
       "  function embed_document(root) {\n",
       "  const docs_json = {\"e0320afa-f72c-4d28-94ab-b74515bddae0\":{\"version\":\"3.4.1\",\"title\":\"Bokeh Application\",\"roots\":[{\"type\":\"object\",\"name\":\"Figure\",\"id\":\"p1543\",\"attributes\":{\"width\":900,\"height\":500,\"x_range\":{\"type\":\"object\",\"name\":\"Range1d\",\"id\":\"p1553\",\"attributes\":{\"end\":40.0}},\"y_range\":{\"type\":\"object\",\"name\":\"Range1d\",\"id\":\"p1554\",\"attributes\":{\"end\":550.0}},\"x_scale\":{\"type\":\"object\",\"name\":\"LinearScale\",\"id\":\"p1555\"},\"y_scale\":{\"type\":\"object\",\"name\":\"LinearScale\",\"id\":\"p1556\"},\"title\":{\"type\":\"object\",\"name\":\"Title\",\"id\":\"p1546\",\"attributes\":{\"text\":\"10-36-56\",\"text_color\":\"#E0E0E0\",\"text_font\":\"Helvetica\",\"text_font_size\":\"1.15em\"}},\"outline_line_color\":\"#E0E0E0\",\"outline_line_alpha\":0.25,\"renderers\":[{\"type\":\"object\",\"name\":\"GlyphRenderer\",\"id\":\"p1585\",\"attributes\":{\"data_source\":{\"type\":\"object\",\"name\":\"ColumnDataSource\",\"id\":\"p1579\",\"attributes\":{\"selected\":{\"type\":\"object\",\"name\":\"Selection\",\"id\":\"p1580\",\"attributes\":{\"indices\":[],\"line_indices\":[]}},\"selection_policy\":{\"type\":\"object\",\"name\":\"UnionRenderers\",\"id\":\"p1581\"},\"data\":{\"type\":\"map\",\"entries\":[[\"x\",{\"type\":\"ndarray\",\"array\":{\"type\":\"bytes\",\"data\":\"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\"},\"shape\":[240],\"dtype\":\"float64\",\"order\":\"little\"}],[\"y\",{\"type\":\"ndarray\",\"array\":{\"type\":\"bytes\",\"data\":\"x0s3iUHgOEBEi2zn+yk5QGQ730+NFzlAlkOLbOf7OEAtsp3vp8Y5QCcxCKwcWjpAMQisHFrkOkC5HoXrUbg7QOtRuB6Faz5AFK5H4XrUQEDfT42XbhJCQOxRuB6FK0NAUrgehesRREDy0k1iENhEQD81XrpJzEVAv58aL92kRkDVeOkmMYhKQGU730+Nl01Abef7qfHST0AdWmQ7389QQHnpJjEITFJAhetRuB5lU0BFtvP91BhUQBov3SQGwVRAz/dT46V7VUBWDi2ynU9WQAvXo3A9CldAqvHSTWLQV0ApXI/C9ahYQOF6FK5HYVlAtvP91HgJWkCOl24Sg0BbQGmR7Xw/dVxAlUOLbOd7XUDc+X5qvHReQGIQWDm0SF9AbxKDwMoRYECWQ4ts54tgQNv5fmq89GBAAAAAAABwYUAfhetRuO5hQGMQWDm0WGJAyXa+nxqvYkAfhetRuA5jQGMQWDm0eGNAqvHSTWLgY0AEVg4tsj1kQG8Sg8DKkWRAs53vp8b7ZEAaL90kBlFlQIlBYOXQomVA2KNwPQoHZkBEi2zn+1lmQNEi2/l+mmZAYxBYObTYZkAj2/l+avxmQOomMQisHGdArBxaZDs/Z0BzaJHtfF9nQD81XrpJfGdAne+nxkvXZ0DsUbgehTtoQB1aZDvfr2hAdZMYBFYOaUDn+6nx0l1pQGHl0CLbqWlA8KfGSzfpaUBpke18PzVqQOxRuB6Fe2pAbef7qfHCakCzne+nxitrQP7UeOkmkWtASgwCK4f2a0DFILByaEFsQGdmZmZmdmxA+n5qvHSzbEBt5/up8QJtQPlT46WbRG1Aku18PzV+bUDx0k1iENhtQDIIrBxaRG5AjpduEoOgbkDiehSuRwFvQFCNl24SU29ArBxaZDuvb0CDwMqhRQZwQML1KFyPKnBAcT0K16NYcECPwvUoXI9wQKabxCCwynBAKVyPwvUQcUCiRbbz/VxxQLbz/dR4mXFAQmDl0CLbcUDVeOkmMRhyQGdmZmZmVnJAgZVDi2yPckCamZmZmclyQMl2vp8a93JA/tR46SYhc0BEi2zn+0FzQIPAyqFFZnNAu0kMAiuPc0DqJjEIrLxzQJ3vp8ZL53NA2/l+arwMdEAOLbKd7zd0QN9PjZduUnRAIbByaJF1dEBcj8L1KJx0QAaBlUOLzHRAoBov3SQGdUB7FK5H4Rp1QMuhRbbzNXVADi2yne9XdUBkO99PjW91QDZeukkMinVAi2zn+6mhdUDP91PjpcN1QJHtfD815nVATmIQWDkMdkAX2c73Uyt2QOF6FK5HSXZAK4cW2c5ndkB3vp8aL4V2QMUgsHJooXZAF9nO91O7dkDhehSuR9l2QDeJQWDl8HZAEVg5tMgGd0Dwp8ZLNxl3QEW28/3UMHdAokW28/1Ed0B7FK5H4Vp3QMl2vp8ad3dAH4XrUbiOd0AIrBxaZJt3QHWTGARWpndAZ2ZmZmaud0A2XrpJDMp3QI/C9Shc33dABoGVQ4vkd0Bt5/up8fJ3QNnO91Pj/XdAtMh2vp8SeECkcD0K1xt4QAvXo3A9KnhAbxKDwMo5eEDByqFFtlN4QM/3U+OlS3hAy6FFtvNNeEA3iUFg5Vh4QJHtfD81bnhAYxBYObSIeEA830+Nl554QA4tsp3vt3hA4XoUrkfReEC/nxov3eR4QCcxCKwc8nhAEVg5tMj+eEBt5/up8RJ5QMHKoUW2K3lAokW28/08eUASg8DKoUV5QHsUrkfhUnlA5KWbxCBgeUBKDAIrh255QDEIrBxafHlApHA9CteDeUCcxCCwcoh5QJZDi2zni3lAGi/dJAaJeUCd76fGS4d5QKjGSzeJgXlAKVyPwvWAeUCgGi/dJIZ5QAvXo3A9knlAcT0K16OgeUBh5dAi26l5QFtkO99PrXlATmIQWDm0eUDP91PjpbN5QMuhRbbztXlAy6FFtvO1eUBKDAIrh7Z5QEw3iUFgtXlATmIQWDm0eUDkpZvEIKh5QHWTGARWnnlAgZVDi2yXeUCIFtnO95N5QAIrhxbZlnlA+n5qvHSbeUDsUbgehaN5QG3n+6nxonlA/Knx0k2aeUAIrBxaZJN5QJHtfD81jnlAGQRWDi2KeUAaL90kBol5QIgW2c73k3lA9P3UeOmeeUBbZDvfT615QMUgsHJouXlARIts5/u5eUBI4XoUrrd5QNV46SYxsHlA+FPjpZuceUCPwvUoXI95QJzEILByiHlAj8L1KFyPeUACK4cW2ZZ5QHe+nxovnXlA5tAi2/mmeUBYObTIdq55QE5iEFg5tHlAyXa+nxq3eUDByqFFtrt5QLx0kxgEvnlAN4lBYOXAeUDFILByaLl5QPLSTWIQoHlAlkOLbOeLeUCgGi/dJIZ5QKAaL90khnlAEoPAyqGNeUAL16NwPZJ5QJQYBFYOjXlArkfhehR+eUBcj8L1KGR5QB1aZDvfP3lA6iYxCKwUeUCOl24Sg7h4QN9PjZduQnhAH4XrUbjWd0BeukkMAmt3QJQYBFYOBXdA1XjpJjGYdkAxCKwcWhx2QBkEVg4tmnVA\"},\"shape\":[240],\"dtype\":\"float64\",\"order\":\"little\"}]]}}},\"view\":{\"type\":\"object\",\"name\":\"CDSView\",\"id\":\"p1586\",\"attributes\":{\"filter\":{\"type\":\"object\",\"name\":\"AllIndices\",\"id\":\"p1587\"}}},\"glyph\":{\"type\":\"object\",\"name\":\"Line\",\"id\":\"p1582\",\"attributes\":{\"x\":{\"type\":\"field\",\"field\":\"x\"},\"y\":{\"type\":\"field\",\"field\":\"y\"},\"line_color\":\"limegreen\",\"line_width\":2}},\"nonselection_glyph\":{\"type\":\"object\",\"name\":\"Line\",\"id\":\"p1583\",\"attributes\":{\"x\":{\"type\":\"field\",\"field\":\"x\"},\"y\":{\"type\":\"field\",\"field\":\"y\"},\"line_color\":\"limegreen\",\"line_alpha\":0.1,\"line_width\":2}},\"muted_glyph\":{\"type\":\"object\",\"name\":\"Line\",\"id\":\"p1584\",\"attributes\":{\"x\":{\"type\":\"field\",\"field\":\"x\"},\"y\":{\"type\":\"field\",\"field\":\"y\"},\"line_color\":\"limegreen\",\"line_alpha\":0.2,\"line_width\":2}}}},{\"type\":\"object\",\"name\":\"GlyphRenderer\",\"id\":\"p1596\",\"attributes\":{\"data_source\":{\"type\":\"object\",\"name\":\"ColumnDataSource\",\"id\":\"p1590\",\"attributes\":{\"selected\":{\"type\":\"object\",\"name\":\"Selection\",\"id\":\"p1591\",\"attributes\":{\"indices\":[],\"line_indices\":[]}},\"selection_policy\":{\"type\":\"object\",\"name\":\"UnionRenderers\",\"id\":\"p1592\"},\"data\":{\"type\":\"map\",\"entries\":[[\"x\",{\"type\":\"ndarray\",\"array\":{\"type\":\"bytes\",\"data\":\"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\"},\"shape\":[240],\"dtype\":\"float64\",\"order\":\"little\"}],[\"y\",{\"type\":\"ndarray\",\"array\":{\"type\":\"bytes\",\"data\":\"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\"},\"shape\":[240],\"dtype\":\"float64\",\"order\":\"little\"}]]}}},\"view\":{\"type\":\"object\",\"name\":\"CDSView\",\"id\":\"p1597\",\"attributes\":{\"filter\":{\"type\":\"object\",\"name\":\"AllIndices\",\"id\":\"p1598\"}}},\"glyph\":{\"type\":\"object\",\"name\":\"Line\",\"id\":\"p1593\",\"attributes\":{\"x\":{\"type\":\"field\",\"field\":\"x\"},\"y\":{\"type\":\"field\",\"field\":\"y\"},\"line_color\":\"red\",\"line_width\":2}},\"nonselection_glyph\":{\"type\":\"object\",\"name\":\"Line\",\"id\":\"p1594\",\"attributes\":{\"x\":{\"type\":\"field\",\"field\":\"x\"},\"y\":{\"type\":\"field\",\"field\":\"y\"},\"line_color\":\"red\",\"line_alpha\":0.1,\"line_width\":2}},\"muted_glyph\":{\"type\":\"object\",\"name\":\"Line\",\"id\":\"p1595\",\"attributes\":{\"x\":{\"type\":\"field\",\"field\":\"x\"},\"y\":{\"type\":\"field\",\"field\":\"y\"},\"line_color\":\"red\",\"line_alpha\":0.2,\"line_width\":2}}}},{\"type\":\"object\",\"name\":\"GlyphRenderer\",\"id\":\"p1606\",\"attributes\":{\"data_source\":{\"type\":\"object\",\"name\":\"ColumnDataSource\",\"id\":\"p1600\",\"attributes\":{\"selected\":{\"type\":\"object\",\"name\":\"Selection\",\"id\":\"p1601\",\"attributes\":{\"indices\":[],\"line_indices\":[]}},\"selection_policy\":{\"type\":\"object\",\"name\":\"UnionRenderers\",\"id\":\"p1602\"},\"data\":{\"type\":\"map\",\"entries\":[[\"x0\",[18.59999990463257]],[\"y0\",[0.0]],[\"x1\",[18.59999990463257]],[\"y1\",[411.35400000000004]]]}}},\"view\":{\"type\":\"object\",\"name\":\"CDSView\",\"id\":\"p1607\",\"attributes\":{\"filter\":{\"type\":\"object\",\"name\":\"AllIndices\",\"id\":\"p1608\"}}},\"glyph\":{\"type\":\"object\",\"name\":\"Segment\",\"id\":\"p1603\",\"attributes\":{\"x0\":{\"type\":\"field\",\"field\":\"x0\"},\"y0\":{\"type\":\"field\",\"field\":\"y0\"},\"x1\":{\"type\":\"field\",\"field\":\"x1\"},\"y1\":{\"type\":\"field\",\"field\":\"y1\"},\"line_color\":{\"type\":\"value\",\"value\":\"lightblue\"},\"line_width\":{\"type\":\"value\",\"value\":3}}},\"nonselection_glyph\":{\"type\":\"object\",\"name\":\"Segment\",\"id\":\"p1604\",\"attributes\":{\"x0\":{\"type\":\"field\",\"field\":\"x0\"},\"y0\":{\"type\":\"field\",\"field\":\"y0\"},\"x1\":{\"type\":\"field\",\"field\":\"x1\"},\"y1\":{\"type\":\"field\",\"field\":\"y1\"},\"line_color\":{\"type\":\"value\",\"value\":\"lightblue\"},\"line_alpha\":{\"type\":\"value\",\"value\":0.1},\"line_width\":{\"type\":\"value\",\"value\":3}}},\"muted_glyph\":{\"type\":\"object\",\"name\":\"Segment\",\"id\":\"p1605\",\"attributes\":{\"x0\":{\"type\":\"field\",\"field\":\"x0\"},\"y0\":{\"type\":\"field\",\"field\":\"y0\"},\"x1\":{\"type\":\"field\",\"field\":\"x1\"},\"y1\":{\"type\":\"field\",\"field\":\"y1\"},\"line_color\":{\"type\":\"value\",\"value\":\"lightblue\"},\"line_alpha\":{\"type\":\"value\",\"value\":0.2},\"line_width\":{\"type\":\"value\",\"value\":3}}}}},{\"type\":\"object\",\"name\":\"GlyphRenderer\",\"id\":\"p1615\",\"attributes\":{\"data_source\":{\"type\":\"object\",\"name\":\"ColumnDataSource\",\"id\":\"p1609\",\"attributes\":{\"selected\":{\"type\":\"object\",\"name\":\"Selection\",\"id\":\"p1610\",\"attributes\":{\"indices\":[],\"line_indices\":[]}},\"selection_policy\":{\"type\":\"object\",\"name\":\"UnionRenderers\",\"id\":\"p1611\"},\"data\":{\"type\":\"map\",\"entries\":[[\"x0\",[20.09999990463257]],[\"y0\",[0.0]],[\"x1\",[20.09999990463257]],[\"y1\",[411.35400000000004]]]}}},\"view\":{\"type\":\"object\",\"name\":\"CDSView\",\"id\":\"p1616\",\"attributes\":{\"filter\":{\"type\":\"object\",\"name\":\"AllIndices\",\"id\":\"p1617\"}}},\"glyph\":{\"type\":\"object\",\"name\":\"Segment\",\"id\":\"p1612\",\"attributes\":{\"x0\":{\"type\":\"field\",\"field\":\"x0\"},\"y0\":{\"type\":\"field\",\"field\":\"y0\"},\"x1\":{\"type\":\"field\",\"field\":\"x1\"},\"y1\":{\"type\":\"field\",\"field\":\"y1\"},\"line_color\":{\"type\":\"value\",\"value\":\"darkseagreen\"}}},\"nonselection_glyph\":{\"type\":\"object\",\"name\":\"Segment\",\"id\":\"p1613\",\"attributes\":{\"x0\":{\"type\":\"field\",\"field\":\"x0\"},\"y0\":{\"type\":\"field\",\"field\":\"y0\"},\"x1\":{\"type\":\"field\",\"field\":\"x1\"},\"y1\":{\"type\":\"field\",\"field\":\"y1\"},\"line_color\":{\"type\":\"value\",\"value\":\"darkseagreen\"},\"line_alpha\":{\"type\":\"value\",\"value\":0.1}}},\"muted_glyph\":{\"type\":\"object\",\"name\":\"Segment\",\"id\":\"p1614\",\"attributes\":{\"x0\":{\"type\":\"field\",\"field\":\"x0\"},\"y0\":{\"type\":\"field\",\"field\":\"y0\"},\"x1\":{\"type\":\"field\",\"field\":\"x1\"},\"y1\":{\"type\":\"field\",\"field\":\"y1\"},\"line_color\":{\"type\":\"value\",\"value\":\"darkseagreen\"},\"line_alpha\":{\"type\":\"value\",\"value\":0.2}}}}},{\"type\":\"object\",\"name\":\"GlyphRenderer\",\"id\":\"p1624\",\"attributes\":{\"data_source\":{\"type\":\"object\",\"name\":\"ColumnDataSource\",\"id\":\"p1618\",\"attributes\":{\"selected\":{\"type\":\"object\",\"name\":\"Selection\",\"id\":\"p1619\",\"attributes\":{\"indices\":[],\"line_indices\":[]}},\"selection_policy\":{\"type\":\"object\",\"name\":\"UnionRenderers\",\"id\":\"p1620\"},\"data\":{\"type\":\"map\",\"entries\":[[\"x0\",[17.09999990463257]],[\"y0\",[0.0]],[\"x1\",[17.09999990463257]],[\"y1\",[411.35400000000004]]]}}},\"view\":{\"type\":\"object\",\"name\":\"CDSView\",\"id\":\"p1625\",\"attributes\":{\"filter\":{\"type\":\"object\",\"name\":\"AllIndices\",\"id\":\"p1626\"}}},\"glyph\":{\"type\":\"object\",\"name\":\"Segment\",\"id\":\"p1621\",\"attributes\":{\"x0\":{\"type\":\"field\",\"field\":\"x0\"},\"y0\":{\"type\":\"field\",\"field\":\"y0\"},\"x1\":{\"type\":\"field\",\"field\":\"x1\"},\"y1\":{\"type\":\"field\",\"field\":\"y1\"},\"line_color\":{\"type\":\"value\",\"value\":\"darkseagreen\"}}},\"nonselection_glyph\":{\"type\":\"object\",\"name\":\"Segment\",\"id\":\"p1622\",\"attributes\":{\"x0\":{\"type\":\"field\",\"field\":\"x0\"},\"y0\":{\"type\":\"field\",\"field\":\"y0\"},\"x1\":{\"type\":\"field\",\"field\":\"x1\"},\"y1\":{\"type\":\"field\",\"field\":\"y1\"},\"line_color\":{\"type\":\"value\",\"value\":\"darkseagreen\"},\"line_alpha\":{\"type\":\"value\",\"value\":0.1}}},\"muted_glyph\":{\"type\":\"object\",\"name\":\"Segment\",\"id\":\"p1623\",\"attributes\":{\"x0\":{\"type\":\"field\",\"field\":\"x0\"},\"y0\":{\"type\":\"field\",\"field\":\"y0\"},\"x1\":{\"type\":\"field\",\"field\":\"x1\"},\"y1\":{\"type\":\"field\",\"field\":\"y1\"},\"line_color\":{\"type\":\"value\",\"value\":\"darkseagreen\"},\"line_alpha\":{\"type\":\"value\",\"value\":0.2}}}}},{\"type\":\"object\",\"name\":\"GlyphRenderer\",\"id\":\"p1633\",\"attributes\":{\"data_source\":{\"type\":\"object\",\"name\":\"ColumnDataSource\",\"id\":\"p1627\",\"attributes\":{\"selected\":{\"type\":\"object\",\"name\":\"Selection\",\"id\":\"p1628\",\"attributes\":{\"indices\":[],\"line_indices\":[]}},\"selection_policy\":{\"type\":\"object\",\"name\":\"UnionRenderers\",\"id\":\"p1629\"},\"data\":{\"type\":\"map\",\"entries\":[[\"x\",[18.59999990463257]],[\"y\",[411.35400000000004]],[\"size\",[20]]]}}},\"view\":{\"type\":\"object\",\"name\":\"CDSView\",\"id\":\"p1634\",\"attributes\":{\"filter\":{\"type\":\"object\",\"name\":\"AllIndices\",\"id\":\"p1635\"}}},\"glyph\":{\"type\":\"object\",\"name\":\"Scatter\",\"id\":\"p1630\",\"attributes\":{\"x\":{\"type\":\"field\",\"field\":\"x\"},\"y\":{\"type\":\"field\",\"field\":\"y\"},\"size\":{\"type\":\"field\",\"field\":\"size\"},\"line_color\":{\"type\":\"value\",\"value\":\"lightblue\"},\"line_width\":{\"type\":\"value\",\"value\":3},\"fill_color\":{\"type\":\"value\",\"value\":null},\"marker\":{\"type\":\"value\",\"value\":\"square_cross\"}}},\"nonselection_glyph\":{\"type\":\"object\",\"name\":\"Scatter\",\"id\":\"p1631\",\"attributes\":{\"x\":{\"type\":\"field\",\"field\":\"x\"},\"y\":{\"type\":\"field\",\"field\":\"y\"},\"size\":{\"type\":\"field\",\"field\":\"size\"},\"line_color\":{\"type\":\"value\",\"value\":\"lightblue\"},\"line_alpha\":{\"type\":\"value\",\"value\":0.1},\"line_width\":{\"type\":\"value\",\"value\":3},\"fill_color\":{\"type\":\"value\",\"value\":null},\"fill_alpha\":{\"type\":\"value\",\"value\":0.1},\"hatch_alpha\":{\"type\":\"value\",\"value\":0.1},\"marker\":{\"type\":\"value\",\"value\":\"square_cross\"}}},\"muted_glyph\":{\"type\":\"object\",\"name\":\"Scatter\",\"id\":\"p1632\",\"attributes\":{\"x\":{\"type\":\"field\",\"field\":\"x\"},\"y\":{\"type\":\"field\",\"field\":\"y\"},\"size\":{\"type\":\"field\",\"field\":\"size\"},\"line_color\":{\"type\":\"value\",\"value\":\"lightblue\"},\"line_alpha\":{\"type\":\"value\",\"value\":0.2},\"line_width\":{\"type\":\"value\",\"value\":3},\"fill_color\":{\"type\":\"value\",\"value\":null},\"fill_alpha\":{\"type\":\"value\",\"value\":0.2},\"hatch_alpha\":{\"type\":\"value\",\"value\":0.2},\"marker\":{\"type\":\"value\",\"value\":\"square_cross\"}}}}}],\"toolbar\":{\"type\":\"object\",\"name\":\"Toolbar\",\"id\":\"p1552\",\"attributes\":{\"tools\":[{\"type\":\"object\",\"name\":\"PanTool\",\"id\":\"p1567\"},{\"type\":\"object\",\"name\":\"WheelZoomTool\",\"id\":\"p1568\",\"attributes\":{\"renderers\":\"auto\"}},{\"type\":\"object\",\"name\":\"BoxZoomTool\",\"id\":\"p1569\",\"attributes\":{\"overlay\":{\"type\":\"object\",\"name\":\"BoxAnnotation\",\"id\":\"p1570\",\"attributes\":{\"syncable\":false,\"level\":\"overlay\",\"visible\":false,\"left\":{\"type\":\"number\",\"value\":\"nan\"},\"right\":{\"type\":\"number\",\"value\":\"nan\"},\"top\":{\"type\":\"number\",\"value\":\"nan\"},\"bottom\":{\"type\":\"number\",\"value\":\"nan\"},\"left_units\":\"canvas\",\"right_units\":\"canvas\",\"top_units\":\"canvas\",\"bottom_units\":\"canvas\",\"line_color\":\"black\",\"line_alpha\":1.0,\"line_width\":2,\"line_dash\":[4,4],\"fill_color\":\"lightgrey\",\"fill_alpha\":0.5}}}},{\"type\":\"object\",\"name\":\"SaveTool\",\"id\":\"p1575\"},{\"type\":\"object\",\"name\":\"ResetTool\",\"id\":\"p1576\"},{\"type\":\"object\",\"name\":\"HelpTool\",\"id\":\"p1577\"},{\"type\":\"object\",\"name\":\"HoverTool\",\"id\":\"p1578\",\"attributes\":{\"renderers\":\"auto\",\"tooltips\":[[\"KM/h\",\"@y{0.00}\"]]}}]}},\"left\":[{\"type\":\"object\",\"name\":\"LinearAxis\",\"id\":\"p1562\",\"attributes\":{\"ticker\":{\"type\":\"object\",\"name\":\"BasicTicker\",\"id\":\"p1563\",\"attributes\":{\"mantissas\":[1,2,5]}},\"formatter\":{\"type\":\"object\",\"name\":\"BasicTickFormatter\",\"id\":\"p1564\"},\"axis_label\":\"km/h\",\"axis_label_standoff\":10,\"axis_label_text_color\":\"#E0E0E0\",\"axis_label_text_font\":\"Helvetica\",\"axis_label_text_font_size\":\"1.25em\",\"axis_label_text_font_style\":\"normal\",\"major_label_policy\":{\"type\":\"object\",\"name\":\"AllLabels\",\"id\":\"p1565\"},\"major_label_text_color\":\"#E0E0E0\",\"major_label_text_font\":\"Helvetica\",\"major_label_text_font_size\":\"1.025em\",\"axis_line_color\":\"#E0E0E0\",\"axis_line_alpha\":0,\"major_tick_line_color\":\"#E0E0E0\",\"major_tick_line_alpha\":0,\"minor_tick_line_color\":\"#E0E0E0\",\"minor_tick_line_alpha\":0}}],\"below\":[{\"type\":\"object\",\"name\":\"LinearAxis\",\"id\":\"p1557\",\"attributes\":{\"ticker\":{\"type\":\"object\",\"name\":\"BasicTicker\",\"id\":\"p1558\",\"attributes\":{\"mantissas\":[1,2,5]}},\"formatter\":{\"type\":\"object\",\"name\":\"BasicTickFormatter\",\"id\":\"p1559\"},\"axis_label\":\"seconds from exit\",\"axis_label_standoff\":10,\"axis_label_text_color\":\"#E0E0E0\",\"axis_label_text_font\":\"Helvetica\",\"axis_label_text_font_size\":\"1.25em\",\"axis_label_text_font_style\":\"normal\",\"major_label_policy\":{\"type\":\"object\",\"name\":\"AllLabels\",\"id\":\"p1560\"},\"major_label_text_color\":\"#E0E0E0\",\"major_label_text_font\":\"Helvetica\",\"major_label_text_font_size\":\"1.025em\",\"axis_line_color\":\"#E0E0E0\",\"axis_line_alpha\":0,\"major_tick_line_color\":\"#E0E0E0\",\"major_tick_line_alpha\":0,\"minor_tick_line_color\":\"#E0E0E0\",\"minor_tick_line_alpha\":0}}],\"center\":[{\"type\":\"object\",\"name\":\"Grid\",\"id\":\"p1561\",\"attributes\":{\"axis\":{\"id\":\"p1557\"},\"grid_line_color\":\"#E0E0E0\",\"grid_line_alpha\":0.25}},{\"type\":\"object\",\"name\":\"Grid\",\"id\":\"p1566\",\"attributes\":{\"dimension\":1,\"axis\":{\"id\":\"p1562\"},\"grid_line_color\":\"#E0E0E0\",\"grid_line_alpha\":0.25}},{\"type\":\"object\",\"name\":\"Legend\",\"id\":\"p1588\",\"attributes\":{\"border_line_alpha\":0,\"background_fill_color\":\"#20262B\",\"background_fill_alpha\":0.25,\"label_text_color\":\"#E0E0E0\",\"label_text_font\":\"Helvetica\",\"label_text_font_size\":\"1.025em\",\"label_standoff\":8,\"glyph_width\":15,\"spacing\":8,\"items\":[{\"type\":\"object\",\"name\":\"LegendItem\",\"id\":\"p1589\",\"attributes\":{\"label\":{\"type\":\"value\",\"value\":\"speed\"},\"renderers\":[{\"id\":\"p1585\"}]}},{\"type\":\"object\",\"name\":\"LegendItem\",\"id\":\"p1599\",\"attributes\":{\"label\":{\"type\":\"value\",\"value\":\"H-speed\"},\"renderers\":[{\"id\":\"p1596\"}]}}]}}],\"background_fill_color\":\"#20262B\",\"border_fill_color\":\"#15191C\"}}]}};\n",
       "  const render_items = [{\"docid\":\"e0320afa-f72c-4d28-94ab-b74515bddae0\",\"roots\":{\"p1543\":\"e843675f-24e8-43d5-a300-68c14c28d860\"},\"root_ids\":[\"p1543\"]}];\n",
       "  void root.Bokeh.embed.embed_items_notebook(docs_json, render_items);\n",
       "  }\n",
       "  if (root.Bokeh !== undefined) {\n",
       "    embed_document(root);\n",
       "  } else {\n",
       "    let attempts = 0;\n",
       "    const timer = setInterval(function(root) {\n",
       "      if (root.Bokeh !== undefined) {\n",
       "        clearInterval(timer);\n",
       "        embed_document(root);\n",
       "      } else {\n",
       "        attempts++;\n",
       "        if (attempts > 100) {\n",
       "          clearInterval(timer);\n",
       "          console.log(\"Bokeh: ERROR: Unable to run BokehJS code because BokehJS library is missing\");\n",
       "        }\n",
       "      }\n",
       "    }, 10, root)\n",
       "  }\n",
       "})(window);"
      ],
      "application/vnd.bokehjs_exec.v0+json": ""
     },
     "metadata": {
      "application/vnd.bokehjs_exec.v0+json": {
       "id": "p1543"
      }
     },
     "output_type": "display_data"
    },
    {
     "data": {
      "application/vnd.jupyter.widget-view+json": {
       "model_id": "065e99a05f1646c6ac77f27618e7f564",
       "version_major": 2,
       "version_minor": 0
      },
      "text/plain": [
       "HTML(value='<hr><h1><span style=\"color: #0f0\">11-55-36 jump - 🟢 valid - score = 432.86 km/h</span></h1>')"
      ]
     },
     "metadata": {},
     "output_type": "display_data"
    },
    {
     "data": {
      "application/vnd.jupyter.widget-view+json": {
       "model_id": "80c008ae644e4cde9ab2473cad7c4ccd",
       "version_major": 2,
       "version_minor": 0
      },
      "text/plain": [
       "HTML(value='<h3>Max speed = 442; exit at 4067 m (13344 ft), end scoring window at 1811 m (5943 ft)</h3>')"
      ]
     },
     "metadata": {},
     "output_type": "display_data"
    },
    {
     "data": {
      "text/html": [
       "<div>\n",
       "<style scoped>\n",
       "    .dataframe tbody tr th:only-of-type {\n",
       "        vertical-align: middle;\n",
       "    }\n",
       "\n",
       "    .dataframe tbody tr th {\n",
       "        vertical-align: top;\n",
       "    }\n",
       "\n",
       "    .dataframe thead th {\n",
       "        text-align: right;\n",
       "    }\n",
       "</style>\n",
       "<table border=\"1\" class=\"dataframe\">\n",
       "  <thead>\n",
       "    <tr style=\"text-align: right;\">\n",
       "      <th></th>\n",
       "      <th>time</th>\n",
       "      <th>vKMh</th>\n",
       "      <th>hKMh</th>\n",
       "      <th>speedAngle</th>\n",
       "      <th>netVectorKMh</th>\n",
       "      <th>altitude (ft)</th>\n",
       "    </tr>\n",
       "  </thead>\n",
       "  <tbody>\n",
       "    <tr>\n",
       "      <th></th>\n",
       "      <td>5.0</td>\n",
       "      <td>169</td>\n",
       "      <td>111</td>\n",
       "      <td>56.6</td>\n",
       "      <td>202</td>\n",
       "      <td>12920</td>\n",
       "    </tr>\n",
       "    <tr>\n",
       "      <th></th>\n",
       "      <td>10.0</td>\n",
       "      <td>299</td>\n",
       "      <td>86</td>\n",
       "      <td>73.9</td>\n",
       "      <td>311</td>\n",
       "      <td>11818</td>\n",
       "    </tr>\n",
       "    <tr>\n",
       "      <th></th>\n",
       "      <td>15.0</td>\n",
       "      <td>383</td>\n",
       "      <td>74</td>\n",
       "      <td>79.0</td>\n",
       "      <td>390</td>\n",
       "      <td>10238</td>\n",
       "    </tr>\n",
       "    <tr>\n",
       "      <th></th>\n",
       "      <td>20.0</td>\n",
       "      <td>435</td>\n",
       "      <td>51</td>\n",
       "      <td>83.3</td>\n",
       "      <td>438</td>\n",
       "      <td>8355</td>\n",
       "    </tr>\n",
       "    <tr>\n",
       "      <th></th>\n",
       "      <td>25.0</td>\n",
       "      <td>370</td>\n",
       "      <td>119</td>\n",
       "      <td>72.2</td>\n",
       "      <td>389</td>\n",
       "      <td>6525</td>\n",
       "    </tr>\n",
       "  </tbody>\n",
       "</table>\n",
       "</div>"
      ],
      "text/plain": [
       "  time  vKMh  hKMh  speedAngle  netVectorKMh  altitude (ft)\n",
       "   5.0   169   111        56.6           202          12920\n",
       "  10.0   299    86        73.9           311          11818\n",
       "  15.0   383    74        79.0           390          10238\n",
       "  20.0   435    51        83.3           438           8355\n",
       "  25.0   370   119        72.2           389           6525"
      ]
     },
     "metadata": {},
     "output_type": "display_data"
    },
    {
     "data": {
      "text/html": [
       "\n",
       "  <div id=\"b9a64a69-993e-4e78-a4e7-19415920d8e4\" data-root-id=\"p1650\" style=\"display: contents;\"></div>\n"
      ]
     },
     "metadata": {},
     "output_type": "display_data"
    },
    {
     "data": {
      "application/javascript": [
       "(function(root) {\n",
       "  function embed_document(root) {\n",
       "  const docs_json = {\"5d8bd097-17c4-4776-b260-5a3c0bd72ea5\":{\"version\":\"3.4.1\",\"title\":\"Bokeh Application\",\"roots\":[{\"type\":\"object\",\"name\":\"Figure\",\"id\":\"p1650\",\"attributes\":{\"width\":900,\"height\":500,\"x_range\":{\"type\":\"object\",\"name\":\"Range1d\",\"id\":\"p1660\",\"attributes\":{\"end\":40.0}},\"y_range\":{\"type\":\"object\",\"name\":\"Range1d\",\"id\":\"p1661\",\"attributes\":{\"end\":550.0}},\"x_scale\":{\"type\":\"object\",\"name\":\"LinearScale\",\"id\":\"p1662\"},\"y_scale\":{\"type\":\"object\",\"name\":\"LinearScale\",\"id\":\"p1663\"},\"title\":{\"type\":\"object\",\"name\":\"Title\",\"id\":\"p1653\",\"attributes\":{\"text\":\"11-55-36\",\"text_color\":\"#E0E0E0\",\"text_font\":\"Helvetica\",\"text_font_size\":\"1.15em\"}},\"outline_line_color\":\"#E0E0E0\",\"outline_line_alpha\":0.25,\"renderers\":[{\"type\":\"object\",\"name\":\"GlyphRenderer\",\"id\":\"p1692\",\"attributes\":{\"data_source\":{\"type\":\"object\",\"name\":\"ColumnDataSource\",\"id\":\"p1686\",\"attributes\":{\"selected\":{\"type\":\"object\",\"name\":\"Selection\",\"id\":\"p1687\",\"attributes\":{\"indices\":[],\"line_indices\":[]}},\"selection_policy\":{\"type\":\"object\",\"name\":\"UnionRenderers\",\"id\":\"p1688\"},\"data\":{\"type\":\"map\",\"entries\":[[\"x\",{\"type\":\"ndarray\",\"array\":{\"type\":\"bytes\",\"data\":\"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\"},\"shape\":[215],\"dtype\":\"float64\",\"order\":\"little\"}],[\"y\",{\"type\":\"ndarray\",\"array\":{\"type\":\"bytes\",\"data\":\"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\"},\"shape\":[215],\"dtype\":\"float64\",\"order\":\"little\"}]]}}},\"view\":{\"type\":\"object\",\"name\":\"CDSView\",\"id\":\"p1693\",\"attributes\":{\"filter\":{\"type\":\"object\",\"name\":\"AllIndices\",\"id\":\"p1694\"}}},\"glyph\":{\"type\":\"object\",\"name\":\"Line\",\"id\":\"p1689\",\"attributes\":{\"x\":{\"type\":\"field\",\"field\":\"x\"},\"y\":{\"type\":\"field\",\"field\":\"y\"},\"line_color\":\"limegreen\",\"line_width\":2}},\"nonselection_glyph\":{\"type\":\"object\",\"name\":\"Line\",\"id\":\"p1690\",\"attributes\":{\"x\":{\"type\":\"field\",\"field\":\"x\"},\"y\":{\"type\":\"field\",\"field\":\"y\"},\"line_color\":\"limegreen\",\"line_alpha\":0.1,\"line_width\":2}},\"muted_glyph\":{\"type\":\"object\",\"name\":\"Line\",\"id\":\"p1691\",\"attributes\":{\"x\":{\"type\":\"field\",\"field\":\"x\"},\"y\":{\"type\":\"field\",\"field\":\"y\"},\"line_color\":\"limegreen\",\"line_alpha\":0.2,\"line_width\":2}}}},{\"type\":\"object\",\"name\":\"GlyphRenderer\",\"id\":\"p1703\",\"attributes\":{\"data_source\":{\"type\":\"object\",\"name\":\"ColumnDataSource\",\"id\":\"p1697\",\"attributes\":{\"selected\":{\"type\":\"object\",\"name\":\"Selection\",\"id\":\"p1698\",\"attributes\":{\"indices\":[],\"line_indices\":[]}},\"selection_policy\":{\"type\":\"object\",\"name\":\"UnionRenderers\",\"id\":\"p1699\"},\"data\":{\"type\":\"map\",\"entries\":[[\"x\",{\"type\":\"ndarray\",\"array\":{\"type\":\"bytes\",\"data\":\"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\"},\"shape\":[215],\"dtype\":\"float64\",\"order\":\"little\"}],[\"y\",{\"type\":\"ndarray\",\"array\":{\"type\":\"bytes\",\"data\":\"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\"},\"shape\":[215],\"dtype\":\"float64\",\"order\":\"little\"}]]}}},\"view\":{\"type\":\"object\",\"name\":\"CDSView\",\"id\":\"p1704\",\"attributes\":{\"filter\":{\"type\":\"object\",\"name\":\"AllIndices\",\"id\":\"p1705\"}}},\"glyph\":{\"type\":\"object\",\"name\":\"Line\",\"id\":\"p1700\",\"attributes\":{\"x\":{\"type\":\"field\",\"field\":\"x\"},\"y\":{\"type\":\"field\",\"field\":\"y\"},\"line_color\":\"red\",\"line_width\":2}},\"nonselection_glyph\":{\"type\":\"object\",\"name\":\"Line\",\"id\":\"p1701\",\"attributes\":{\"x\":{\"type\":\"field\",\"field\":\"x\"},\"y\":{\"type\":\"field\",\"field\":\"y\"},\"line_color\":\"red\",\"line_alpha\":0.1,\"line_width\":2}},\"muted_glyph\":{\"type\":\"object\",\"name\":\"Line\",\"id\":\"p1702\",\"attributes\":{\"x\":{\"type\":\"field\",\"field\":\"x\"},\"y\":{\"type\":\"field\",\"field\":\"y\"},\"line_color\":\"red\",\"line_alpha\":0.2,\"line_width\":2}}}},{\"type\":\"object\",\"name\":\"GlyphRenderer\",\"id\":\"p1713\",\"attributes\":{\"data_source\":{\"type\":\"object\",\"name\":\"ColumnDataSource\",\"id\":\"p1707\",\"attributes\":{\"selected\":{\"type\":\"object\",\"name\":\"Selection\",\"id\":\"p1708\",\"attributes\":{\"indices\":[],\"line_indices\":[]}},\"selection_policy\":{\"type\":\"object\",\"name\":\"UnionRenderers\",\"id\":\"p1709\"},\"data\":{\"type\":\"map\",\"entries\":[[\"x0\",[19.0]],[\"y0\",[0.0]],[\"x1\",[19.0]],[\"y1\",[432.86400000000003]]]}}},\"view\":{\"type\":\"object\",\"name\":\"CDSView\",\"id\":\"p1714\",\"attributes\":{\"filter\":{\"type\":\"object\",\"name\":\"AllIndices\",\"id\":\"p1715\"}}},\"glyph\":{\"type\":\"object\",\"name\":\"Segment\",\"id\":\"p1710\",\"attributes\":{\"x0\":{\"type\":\"field\",\"field\":\"x0\"},\"y0\":{\"type\":\"field\",\"field\":\"y0\"},\"x1\":{\"type\":\"field\",\"field\":\"x1\"},\"y1\":{\"type\":\"field\",\"field\":\"y1\"},\"line_color\":{\"type\":\"value\",\"value\":\"lightblue\"},\"line_width\":{\"type\":\"value\",\"value\":3}}},\"nonselection_glyph\":{\"type\":\"object\",\"name\":\"Segment\",\"id\":\"p1711\",\"attributes\":{\"x0\":{\"type\":\"field\",\"field\":\"x0\"},\"y0\":{\"type\":\"field\",\"field\":\"y0\"},\"x1\":{\"type\":\"field\",\"field\":\"x1\"},\"y1\":{\"type\":\"field\",\"field\":\"y1\"},\"line_color\":{\"type\":\"value\",\"value\":\"lightblue\"},\"line_alpha\":{\"type\":\"value\",\"value\":0.1},\"line_width\":{\"type\":\"value\",\"value\":3}}},\"muted_glyph\":{\"type\":\"object\",\"name\":\"Segment\",\"id\":\"p1712\",\"attributes\":{\"x0\":{\"type\":\"field\",\"field\":\"x0\"},\"y0\":{\"type\":\"field\",\"field\":\"y0\"},\"x1\":{\"type\":\"field\",\"field\":\"x1\"},\"y1\":{\"type\":\"field\",\"field\":\"y1\"},\"line_color\":{\"type\":\"value\",\"value\":\"lightblue\"},\"line_alpha\":{\"type\":\"value\",\"value\":0.2},\"line_width\":{\"type\":\"value\",\"value\":3}}}}},{\"type\":\"object\",\"name\":\"GlyphRenderer\",\"id\":\"p1722\",\"attributes\":{\"data_source\":{\"type\":\"object\",\"name\":\"ColumnDataSource\",\"id\":\"p1716\",\"attributes\":{\"selected\":{\"type\":\"object\",\"name\":\"Selection\",\"id\":\"p1717\",\"attributes\":{\"indices\":[],\"line_indices\":[]}},\"selection_policy\":{\"type\":\"object\",\"name\":\"UnionRenderers\",\"id\":\"p1718\"},\"data\":{\"type\":\"map\",\"entries\":[[\"x0\",[20.5]],[\"y0\",[0.0]],[\"x1\",[20.5]],[\"y1\",[432.86400000000003]]]}}},\"view\":{\"type\":\"object\",\"name\":\"CDSView\",\"id\":\"p1723\",\"attributes\":{\"filter\":{\"type\":\"object\",\"name\":\"AllIndices\",\"id\":\"p1724\"}}},\"glyph\":{\"type\":\"object\",\"name\":\"Segment\",\"id\":\"p1719\",\"attributes\":{\"x0\":{\"type\":\"field\",\"field\":\"x0\"},\"y0\":{\"type\":\"field\",\"field\":\"y0\"},\"x1\":{\"type\":\"field\",\"field\":\"x1\"},\"y1\":{\"type\":\"field\",\"field\":\"y1\"},\"line_color\":{\"type\":\"value\",\"value\":\"darkseagreen\"}}},\"nonselection_glyph\":{\"type\":\"object\",\"name\":\"Segment\",\"id\":\"p1720\",\"attributes\":{\"x0\":{\"type\":\"field\",\"field\":\"x0\"},\"y0\":{\"type\":\"field\",\"field\":\"y0\"},\"x1\":{\"type\":\"field\",\"field\":\"x1\"},\"y1\":{\"type\":\"field\",\"field\":\"y1\"},\"line_color\":{\"type\":\"value\",\"value\":\"darkseagreen\"},\"line_alpha\":{\"type\":\"value\",\"value\":0.1}}},\"muted_glyph\":{\"type\":\"object\",\"name\":\"Segment\",\"id\":\"p1721\",\"attributes\":{\"x0\":{\"type\":\"field\",\"field\":\"x0\"},\"y0\":{\"type\":\"field\",\"field\":\"y0\"},\"x1\":{\"type\":\"field\",\"field\":\"x1\"},\"y1\":{\"type\":\"field\",\"field\":\"y1\"},\"line_color\":{\"type\":\"value\",\"value\":\"darkseagreen\"},\"line_alpha\":{\"type\":\"value\",\"value\":0.2}}}}},{\"type\":\"object\",\"name\":\"GlyphRenderer\",\"id\":\"p1731\",\"attributes\":{\"data_source\":{\"type\":\"object\",\"name\":\"ColumnDataSource\",\"id\":\"p1725\",\"attributes\":{\"selected\":{\"type\":\"object\",\"name\":\"Selection\",\"id\":\"p1726\",\"attributes\":{\"indices\":[],\"line_indices\":[]}},\"selection_policy\":{\"type\":\"object\",\"name\":\"UnionRenderers\",\"id\":\"p1727\"},\"data\":{\"type\":\"map\",\"entries\":[[\"x0\",[17.5]],[\"y0\",[0.0]],[\"x1\",[17.5]],[\"y1\",[432.86400000000003]]]}}},\"view\":{\"type\":\"object\",\"name\":\"CDSView\",\"id\":\"p1732\",\"attributes\":{\"filter\":{\"type\":\"object\",\"name\":\"AllIndices\",\"id\":\"p1733\"}}},\"glyph\":{\"type\":\"object\",\"name\":\"Segment\",\"id\":\"p1728\",\"attributes\":{\"x0\":{\"type\":\"field\",\"field\":\"x0\"},\"y0\":{\"type\":\"field\",\"field\":\"y0\"},\"x1\":{\"type\":\"field\",\"field\":\"x1\"},\"y1\":{\"type\":\"field\",\"field\":\"y1\"},\"line_color\":{\"type\":\"value\",\"value\":\"darkseagreen\"}}},\"nonselection_glyph\":{\"type\":\"object\",\"name\":\"Segment\",\"id\":\"p1729\",\"attributes\":{\"x0\":{\"type\":\"field\",\"field\":\"x0\"},\"y0\":{\"type\":\"field\",\"field\":\"y0\"},\"x1\":{\"type\":\"field\",\"field\":\"x1\"},\"y1\":{\"type\":\"field\",\"field\":\"y1\"},\"line_color\":{\"type\":\"value\",\"value\":\"darkseagreen\"},\"line_alpha\":{\"type\":\"value\",\"value\":0.1}}},\"muted_glyph\":{\"type\":\"object\",\"name\":\"Segment\",\"id\":\"p1730\",\"attributes\":{\"x0\":{\"type\":\"field\",\"field\":\"x0\"},\"y0\":{\"type\":\"field\",\"field\":\"y0\"},\"x1\":{\"type\":\"field\",\"field\":\"x1\"},\"y1\":{\"type\":\"field\",\"field\":\"y1\"},\"line_color\":{\"type\":\"value\",\"value\":\"darkseagreen\"},\"line_alpha\":{\"type\":\"value\",\"value\":0.2}}}}},{\"type\":\"object\",\"name\":\"GlyphRenderer\",\"id\":\"p1740\",\"attributes\":{\"data_source\":{\"type\":\"object\",\"name\":\"ColumnDataSource\",\"id\":\"p1734\",\"attributes\":{\"selected\":{\"type\":\"object\",\"name\":\"Selection\",\"id\":\"p1735\",\"attributes\":{\"indices\":[],\"line_indices\":[]}},\"selection_policy\":{\"type\":\"object\",\"name\":\"UnionRenderers\",\"id\":\"p1736\"},\"data\":{\"type\":\"map\",\"entries\":[[\"x\",[19.0]],[\"y\",[432.86400000000003]],[\"size\",[20]]]}}},\"view\":{\"type\":\"object\",\"name\":\"CDSView\",\"id\":\"p1741\",\"attributes\":{\"filter\":{\"type\":\"object\",\"name\":\"AllIndices\",\"id\":\"p1742\"}}},\"glyph\":{\"type\":\"object\",\"name\":\"Scatter\",\"id\":\"p1737\",\"attributes\":{\"x\":{\"type\":\"field\",\"field\":\"x\"},\"y\":{\"type\":\"field\",\"field\":\"y\"},\"size\":{\"type\":\"field\",\"field\":\"size\"},\"line_color\":{\"type\":\"value\",\"value\":\"lightblue\"},\"line_width\":{\"type\":\"value\",\"value\":3},\"fill_color\":{\"type\":\"value\",\"value\":null},\"marker\":{\"type\":\"value\",\"value\":\"square_cross\"}}},\"nonselection_glyph\":{\"type\":\"object\",\"name\":\"Scatter\",\"id\":\"p1738\",\"attributes\":{\"x\":{\"type\":\"field\",\"field\":\"x\"},\"y\":{\"type\":\"field\",\"field\":\"y\"},\"size\":{\"type\":\"field\",\"field\":\"size\"},\"line_color\":{\"type\":\"value\",\"value\":\"lightblue\"},\"line_alpha\":{\"type\":\"value\",\"value\":0.1},\"line_width\":{\"type\":\"value\",\"value\":3},\"fill_color\":{\"type\":\"value\",\"value\":null},\"fill_alpha\":{\"type\":\"value\",\"value\":0.1},\"hatch_alpha\":{\"type\":\"value\",\"value\":0.1},\"marker\":{\"type\":\"value\",\"value\":\"square_cross\"}}},\"muted_glyph\":{\"type\":\"object\",\"name\":\"Scatter\",\"id\":\"p1739\",\"attributes\":{\"x\":{\"type\":\"field\",\"field\":\"x\"},\"y\":{\"type\":\"field\",\"field\":\"y\"},\"size\":{\"type\":\"field\",\"field\":\"size\"},\"line_color\":{\"type\":\"value\",\"value\":\"lightblue\"},\"line_alpha\":{\"type\":\"value\",\"value\":0.2},\"line_width\":{\"type\":\"value\",\"value\":3},\"fill_color\":{\"type\":\"value\",\"value\":null},\"fill_alpha\":{\"type\":\"value\",\"value\":0.2},\"hatch_alpha\":{\"type\":\"value\",\"value\":0.2},\"marker\":{\"type\":\"value\",\"value\":\"square_cross\"}}}}}],\"toolbar\":{\"type\":\"object\",\"name\":\"Toolbar\",\"id\":\"p1659\",\"attributes\":{\"tools\":[{\"type\":\"object\",\"name\":\"PanTool\",\"id\":\"p1674\"},{\"type\":\"object\",\"name\":\"WheelZoomTool\",\"id\":\"p1675\",\"attributes\":{\"renderers\":\"auto\"}},{\"type\":\"object\",\"name\":\"BoxZoomTool\",\"id\":\"p1676\",\"attributes\":{\"overlay\":{\"type\":\"object\",\"name\":\"BoxAnnotation\",\"id\":\"p1677\",\"attributes\":{\"syncable\":false,\"level\":\"overlay\",\"visible\":false,\"left\":{\"type\":\"number\",\"value\":\"nan\"},\"right\":{\"type\":\"number\",\"value\":\"nan\"},\"top\":{\"type\":\"number\",\"value\":\"nan\"},\"bottom\":{\"type\":\"number\",\"value\":\"nan\"},\"left_units\":\"canvas\",\"right_units\":\"canvas\",\"top_units\":\"canvas\",\"bottom_units\":\"canvas\",\"line_color\":\"black\",\"line_alpha\":1.0,\"line_width\":2,\"line_dash\":[4,4],\"fill_color\":\"lightgrey\",\"fill_alpha\":0.5}}}},{\"type\":\"object\",\"name\":\"SaveTool\",\"id\":\"p1682\"},{\"type\":\"object\",\"name\":\"ResetTool\",\"id\":\"p1683\"},{\"type\":\"object\",\"name\":\"HelpTool\",\"id\":\"p1684\"},{\"type\":\"object\",\"name\":\"HoverTool\",\"id\":\"p1685\",\"attributes\":{\"renderers\":\"auto\",\"tooltips\":[[\"KM/h\",\"@y{0.00}\"]]}}]}},\"left\":[{\"type\":\"object\",\"name\":\"LinearAxis\",\"id\":\"p1669\",\"attributes\":{\"ticker\":{\"type\":\"object\",\"name\":\"BasicTicker\",\"id\":\"p1670\",\"attributes\":{\"mantissas\":[1,2,5]}},\"formatter\":{\"type\":\"object\",\"name\":\"BasicTickFormatter\",\"id\":\"p1671\"},\"axis_label\":\"km/h\",\"axis_label_standoff\":10,\"axis_label_text_color\":\"#E0E0E0\",\"axis_label_text_font\":\"Helvetica\",\"axis_label_text_font_size\":\"1.25em\",\"axis_label_text_font_style\":\"normal\",\"major_label_policy\":{\"type\":\"object\",\"name\":\"AllLabels\",\"id\":\"p1672\"},\"major_label_text_color\":\"#E0E0E0\",\"major_label_text_font\":\"Helvetica\",\"major_label_text_font_size\":\"1.025em\",\"axis_line_color\":\"#E0E0E0\",\"axis_line_alpha\":0,\"major_tick_line_color\":\"#E0E0E0\",\"major_tick_line_alpha\":0,\"minor_tick_line_color\":\"#E0E0E0\",\"minor_tick_line_alpha\":0}}],\"below\":[{\"type\":\"object\",\"name\":\"LinearAxis\",\"id\":\"p1664\",\"attributes\":{\"ticker\":{\"type\":\"object\",\"name\":\"BasicTicker\",\"id\":\"p1665\",\"attributes\":{\"mantissas\":[1,2,5]}},\"formatter\":{\"type\":\"object\",\"name\":\"BasicTickFormatter\",\"id\":\"p1666\"},\"axis_label\":\"seconds from exit\",\"axis_label_standoff\":10,\"axis_label_text_color\":\"#E0E0E0\",\"axis_label_text_font\":\"Helvetica\",\"axis_label_text_font_size\":\"1.25em\",\"axis_label_text_font_style\":\"normal\",\"major_label_policy\":{\"type\":\"object\",\"name\":\"AllLabels\",\"id\":\"p1667\"},\"major_label_text_color\":\"#E0E0E0\",\"major_label_text_font\":\"Helvetica\",\"major_label_text_font_size\":\"1.025em\",\"axis_line_color\":\"#E0E0E0\",\"axis_line_alpha\":0,\"major_tick_line_color\":\"#E0E0E0\",\"major_tick_line_alpha\":0,\"minor_tick_line_color\":\"#E0E0E0\",\"minor_tick_line_alpha\":0}}],\"center\":[{\"type\":\"object\",\"name\":\"Grid\",\"id\":\"p1668\",\"attributes\":{\"axis\":{\"id\":\"p1664\"},\"grid_line_color\":\"#E0E0E0\",\"grid_line_alpha\":0.25}},{\"type\":\"object\",\"name\":\"Grid\",\"id\":\"p1673\",\"attributes\":{\"dimension\":1,\"axis\":{\"id\":\"p1669\"},\"grid_line_color\":\"#E0E0E0\",\"grid_line_alpha\":0.25}},{\"type\":\"object\",\"name\":\"Legend\",\"id\":\"p1695\",\"attributes\":{\"border_line_alpha\":0,\"background_fill_color\":\"#20262B\",\"background_fill_alpha\":0.25,\"label_text_color\":\"#E0E0E0\",\"label_text_font\":\"Helvetica\",\"label_text_font_size\":\"1.025em\",\"label_standoff\":8,\"glyph_width\":15,\"spacing\":8,\"items\":[{\"type\":\"object\",\"name\":\"LegendItem\",\"id\":\"p1696\",\"attributes\":{\"label\":{\"type\":\"value\",\"value\":\"speed\"},\"renderers\":[{\"id\":\"p1692\"}]}},{\"type\":\"object\",\"name\":\"LegendItem\",\"id\":\"p1706\",\"attributes\":{\"label\":{\"type\":\"value\",\"value\":\"H-speed\"},\"renderers\":[{\"id\":\"p1703\"}]}}]}}],\"background_fill_color\":\"#20262B\",\"border_fill_color\":\"#15191C\"}}]}};\n",
       "  const render_items = [{\"docid\":\"5d8bd097-17c4-4776-b260-5a3c0bd72ea5\",\"roots\":{\"p1650\":\"b9a64a69-993e-4e78-a4e7-19415920d8e4\"},\"root_ids\":[\"p1650\"]}];\n",
       "  void root.Bokeh.embed.embed_items_notebook(docs_json, render_items);\n",
       "  }\n",
       "  if (root.Bokeh !== undefined) {\n",
       "    embed_document(root);\n",
       "  } else {\n",
       "    let attempts = 0;\n",
       "    const timer = setInterval(function(root) {\n",
       "      if (root.Bokeh !== undefined) {\n",
       "        clearInterval(timer);\n",
       "        embed_document(root);\n",
       "      } else {\n",
       "        attempts++;\n",
       "        if (attempts > 100) {\n",
       "          clearInterval(timer);\n",
       "          console.log(\"Bokeh: ERROR: Unable to run BokehJS code because BokehJS library is missing\");\n",
       "        }\n",
       "      }\n",
       "    }, 10, root)\n",
       "  }\n",
       "})(window);"
      ],
      "application/vnd.bokehjs_exec.v0+json": ""
     },
     "metadata": {
      "application/vnd.bokehjs_exec.v0+json": {
       "id": "p1650"
      }
     },
     "output_type": "display_data"
    }
   ],
   "source": [
    "allJumpsPlot = initializePlot('All jumps in set')\n",
    "jumpNumber = 0\n",
    "mixColor = 0\n",
    "for resultRef in sorted(jumpResults.keys()):\n",
    "    jumpResult = jumpResults[resultRef]\n",
    "    if jumpResult.score > 0.0:\n",
    "        validJumpStatus = '<hr><h1><span style=\"color: %s\">%s jump - %s - score = %.02f km/h</span></h1>' % (jumpResult.color, resultRef, jumpResult.result, jumpResult.score)        \n",
    "    else:\n",
    "        validJumpStatus = '<hr><h1><span style=\"color: %s\">%s jump - %s</span></h1>' % (jumpResult.color, resultRef, jumpResult.result)\n",
    "    display(widgets.HTML(validJumpStatus))\n",
    "\n",
    "    maxSpeed = jumpResult.maxSpeed\n",
    "    window = jumpResult.window\n",
    "    mixColor = (mixColor+1)%len(SPEED_COLORS)\n",
    "    if jumpResult.score > 0.0:\n",
    "        display(widgets.HTML('<h3>Max speed = {0:,.0f}; '.format(maxSpeed)+('exit at %d m (%d ft), end scoring window at %d m (%d ft)</h3>'%(window.start, 3.2808*window.start, window.end, 3.2808*window.end))))\n",
    "        # TODO: Move this to an in-notebook function or module.\n",
    "        displayJumpDataIn(jumpResult.table)\n",
    "        individualPlot = initializePlot(resultRef)\n",
    "        hoverValue = bm.HoverTool(tooltips = [ ('KM/h', '@y{0.00}'), ])\n",
    "        individualPlot.add_tools(hoverValue)\n",
    "        graphJumpResult(individualPlot,\n",
    "                        jumpResult,\n",
    "                        lineColor = SPEED_COLORS[0])\n",
    "        graphJumpResult(allJumpsPlot,\n",
    "                        jumpResult,\n",
    "                        lineColor = SPEED_COLORS[mixColor],\n",
    "                        legend = '%s - %.2f' % (resultRef, jumpResult.score),\n",
    "                        showIt = False)"
   ]
  },
  {
   "cell_type": "markdown",
   "id": "7363faaf-27a9-401c-9271-73b71436f19c",
   "metadata": {},
   "source": [
    "---\n",
    "---\n",
    "## Competition summary"
   ]
  },
  {
   "cell_type": "code",
   "execution_count": 30,
   "id": "17991fcf-e215-4a53-a6ff-d9a64cbafd94",
   "metadata": {
    "jupyter": {
     "source_hidden": true
    }
   },
   "outputs": [
    {
     "data": {
      "text/html": [
       "<div>\n",
       "<style scoped>\n",
       "    .dataframe tbody tr th:only-of-type {\n",
       "        vertical-align: middle;\n",
       "    }\n",
       "\n",
       "    .dataframe tbody tr th {\n",
       "        vertical-align: top;\n",
       "    }\n",
       "\n",
       "    .dataframe thead th {\n",
       "        text-align: right;\n",
       "    }\n",
       "</style>\n",
       "<table border=\"1\" class=\"dataframe\">\n",
       "  <thead>\n",
       "    <tr style=\"text-align: right;\">\n",
       "      <th></th>\n",
       "      <th>score</th>\n",
       "      <th>5.0</th>\n",
       "      <th>10.0</th>\n",
       "      <th>15.0</th>\n",
       "      <th>20.0</th>\n",
       "      <th>25.0</th>\n",
       "      <th>finalTime</th>\n",
       "      <th>maxSpeed</th>\n",
       "    </tr>\n",
       "  </thead>\n",
       "  <tbody>\n",
       "    <tr>\n",
       "      <th>09-54-07</th>\n",
       "      <td>445</td>\n",
       "      <td>172</td>\n",
       "      <td>304</td>\n",
       "      <td>396</td>\n",
       "      <td>437</td>\n",
       "      <td>440</td>\n",
       "      <td>25.0</td>\n",
       "      <td>448</td>\n",
       "    </tr>\n",
       "    <tr>\n",
       "      <th>10-36-56</th>\n",
       "      <td>411</td>\n",
       "      <td>173</td>\n",
       "      <td>308</td>\n",
       "      <td>389</td>\n",
       "      <td>409</td>\n",
       "      <td>0</td>\n",
       "      <td>25.0</td>\n",
       "      <td>412</td>\n",
       "    </tr>\n",
       "    <tr>\n",
       "      <th>11-55-36</th>\n",
       "      <td>433</td>\n",
       "      <td>169</td>\n",
       "      <td>299</td>\n",
       "      <td>383</td>\n",
       "      <td>435</td>\n",
       "      <td>370</td>\n",
       "      <td>25.0</td>\n",
       "      <td>442</td>\n",
       "    </tr>\n",
       "  </tbody>\n",
       "</table>\n",
       "</div>"
      ],
      "text/plain": [
       "          score  5.0  10.0  15.0  20.0  25.0  finalTime  maxSpeed\n",
       "09-54-07    445  172   304   396   437   440       25.0       448\n",
       "10-36-56    411  173   308   389   409     0       25.0       412\n",
       "11-55-36    433  169   299   383   435   370       25.0       442"
      ]
     },
     "metadata": {},
     "output_type": "display_data"
    },
    {
     "data": {
      "text/html": [
       "<div>\n",
       "<style scoped>\n",
       "    .dataframe tbody tr th:only-of-type {\n",
       "        vertical-align: middle;\n",
       "    }\n",
       "\n",
       "    .dataframe tbody tr th {\n",
       "        vertical-align: top;\n",
       "    }\n",
       "\n",
       "    .dataframe thead th {\n",
       "        text-align: right;\n",
       "    }\n",
       "</style>\n",
       "<table border=\"1\" class=\"dataframe\">\n",
       "  <thead>\n",
       "    <tr style=\"text-align: right;\">\n",
       "      <th></th>\n",
       "      <th>totalSpeed</th>\n",
       "      <th>meanSpeed</th>\n",
       "      <th>maxScore</th>\n",
       "    </tr>\n",
       "  </thead>\n",
       "  <tbody>\n",
       "    <tr>\n",
       "      <th>totalSpeed</th>\n",
       "      <td>1289.268</td>\n",
       "      <td>429.756</td>\n",
       "      <td>445.05</td>\n",
       "    </tr>\n",
       "  </tbody>\n",
       "</table>\n",
       "</div>"
      ],
      "text/plain": [
       "            totalSpeed  meanSpeed  maxScore\n",
       "totalSpeed    1289.268    429.756    445.05"
      ]
     },
     "metadata": {},
     "output_type": "display_data"
    },
    {
     "data": {
      "text/html": [
       "\n",
       "  <div id=\"ccb6cbf7-e3b6-43ba-8dfb-3643290ff422\" data-root-id=\"p1400\" style=\"display: contents;\"></div>\n"
      ]
     },
     "metadata": {},
     "output_type": "display_data"
    },
    {
     "data": {
      "application/javascript": [
       "(function(root) {\n",
       "  function embed_document(root) {\n",
       "  const docs_json = {\"8dce3fbf-1e0d-4b30-a0a3-c5f328f12fd7\":{\"version\":\"3.4.1\",\"title\":\"Bokeh Application\",\"roots\":[{\"type\":\"object\",\"name\":\"Figure\",\"id\":\"p1400\",\"attributes\":{\"width\":900,\"height\":500,\"x_range\":{\"type\":\"object\",\"name\":\"Range1d\",\"id\":\"p1410\",\"attributes\":{\"end\":40.0}},\"y_range\":{\"type\":\"object\",\"name\":\"Range1d\",\"id\":\"p1411\",\"attributes\":{\"end\":550.0}},\"x_scale\":{\"type\":\"object\",\"name\":\"LinearScale\",\"id\":\"p1412\"},\"y_scale\":{\"type\":\"object\",\"name\":\"LinearScale\",\"id\":\"p1413\"},\"title\":{\"type\":\"object\",\"name\":\"Title\",\"id\":\"p1403\",\"attributes\":{\"text\":\"All jumps in set\",\"text_color\":\"#E0E0E0\",\"text_font\":\"Helvetica\",\"text_font_size\":\"1.15em\"}},\"outline_line_color\":\"#E0E0E0\",\"outline_line_alpha\":0.25,\"renderers\":[{\"type\":\"object\",\"name\":\"GlyphRenderer\",\"id\":\"p1538\",\"attributes\":{\"data_source\":{\"type\":\"object\",\"name\":\"ColumnDataSource\",\"id\":\"p1532\",\"attributes\":{\"selected\":{\"type\":\"object\",\"name\":\"Selection\",\"id\":\"p1533\",\"attributes\":{\"indices\":[],\"line_indices\":[]}},\"selection_policy\":{\"type\":\"object\",\"name\":\"UnionRenderers\",\"id\":\"p1534\"},\"data\":{\"type\":\"map\",\"entries\":[[\"x\",{\"type\":\"ndarray\",\"array\":{\"type\":\"bytes\",\"data\":\"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\"},\"shape\":[208],\"dtype\":\"float64\",\"order\":\"little\"}],[\"y\",{\"type\":\"ndarray\",\"array\":{\"type\":\"bytes\",\"data\":\"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\"},\"shape\":[208],\"dtype\":\"float64\",\"order\":\"little\"}]]}}},\"view\":{\"type\":\"object\",\"name\":\"CDSView\",\"id\":\"p1539\",\"attributes\":{\"filter\":{\"type\":\"object\",\"name\":\"AllIndices\",\"id\":\"p1540\"}}},\"glyph\":{\"type\":\"object\",\"name\":\"Line\",\"id\":\"p1535\",\"attributes\":{\"x\":{\"type\":\"field\",\"field\":\"x\"},\"y\":{\"type\":\"field\",\"field\":\"y\"},\"line_color\":\"blue\",\"line_width\":2}},\"nonselection_glyph\":{\"type\":\"object\",\"name\":\"Line\",\"id\":\"p1536\",\"attributes\":{\"x\":{\"type\":\"field\",\"field\":\"x\"},\"y\":{\"type\":\"field\",\"field\":\"y\"},\"line_color\":\"blue\",\"line_alpha\":0.1,\"line_width\":2}},\"muted_glyph\":{\"type\":\"object\",\"name\":\"Line\",\"id\":\"p1537\",\"attributes\":{\"x\":{\"type\":\"field\",\"field\":\"x\"},\"y\":{\"type\":\"field\",\"field\":\"y\"},\"line_color\":\"blue\",\"line_alpha\":0.2,\"line_width\":2}}}},{\"type\":\"object\",\"name\":\"GlyphRenderer\",\"id\":\"p1646\",\"attributes\":{\"data_source\":{\"type\":\"object\",\"name\":\"ColumnDataSource\",\"id\":\"p1640\",\"attributes\":{\"selected\":{\"type\":\"object\",\"name\":\"Selection\",\"id\":\"p1641\",\"attributes\":{\"indices\":[],\"line_indices\":[]}},\"selection_policy\":{\"type\":\"object\",\"name\":\"UnionRenderers\",\"id\":\"p1642\"},\"data\":{\"type\":\"map\",\"entries\":[[\"x\",{\"type\":\"ndarray\",\"array\":{\"type\":\"bytes\",\"data\":\"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\"},\"shape\":[240],\"dtype\":\"float64\",\"order\":\"little\"}],[\"y\",{\"type\":\"ndarray\",\"array\":{\"type\":\"bytes\",\"data\":\"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\"},\"shape\":[240],\"dtype\":\"float64\",\"order\":\"little\"}]]}}},\"view\":{\"type\":\"object\",\"name\":\"CDSView\",\"id\":\"p1647\",\"attributes\":{\"filter\":{\"type\":\"object\",\"name\":\"AllIndices\",\"id\":\"p1648\"}}},\"glyph\":{\"type\":\"object\",\"name\":\"Line\",\"id\":\"p1643\",\"attributes\":{\"x\":{\"type\":\"field\",\"field\":\"x\"},\"y\":{\"type\":\"field\",\"field\":\"y\"},\"line_color\":\"tomato\",\"line_width\":2}},\"nonselection_glyph\":{\"type\":\"object\",\"name\":\"Line\",\"id\":\"p1644\",\"attributes\":{\"x\":{\"type\":\"field\",\"field\":\"x\"},\"y\":{\"type\":\"field\",\"field\":\"y\"},\"line_color\":\"tomato\",\"line_alpha\":0.1,\"line_width\":2}},\"muted_glyph\":{\"type\":\"object\",\"name\":\"Line\",\"id\":\"p1645\",\"attributes\":{\"x\":{\"type\":\"field\",\"field\":\"x\"},\"y\":{\"type\":\"field\",\"field\":\"y\"},\"line_color\":\"tomato\",\"line_alpha\":0.2,\"line_width\":2}}}},{\"type\":\"object\",\"name\":\"GlyphRenderer\",\"id\":\"p1753\",\"attributes\":{\"data_source\":{\"type\":\"object\",\"name\":\"ColumnDataSource\",\"id\":\"p1747\",\"attributes\":{\"selected\":{\"type\":\"object\",\"name\":\"Selection\",\"id\":\"p1748\",\"attributes\":{\"indices\":[],\"line_indices\":[]}},\"selection_policy\":{\"type\":\"object\",\"name\":\"UnionRenderers\",\"id\":\"p1749\"},\"data\":{\"type\":\"map\",\"entries\":[[\"x\",{\"type\":\"ndarray\",\"array\":{\"type\":\"bytes\",\"data\":\"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\"},\"shape\":[215],\"dtype\":\"float64\",\"order\":\"little\"}],[\"y\",{\"type\":\"ndarray\",\"array\":{\"type\":\"bytes\",\"data\":\"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\"},\"shape\":[215],\"dtype\":\"float64\",\"order\":\"little\"}]]}}},\"view\":{\"type\":\"object\",\"name\":\"CDSView\",\"id\":\"p1754\",\"attributes\":{\"filter\":{\"type\":\"object\",\"name\":\"AllIndices\",\"id\":\"p1755\"}}},\"glyph\":{\"type\":\"object\",\"name\":\"Line\",\"id\":\"p1750\",\"attributes\":{\"x\":{\"type\":\"field\",\"field\":\"x\"},\"y\":{\"type\":\"field\",\"field\":\"y\"},\"line_color\":\"turquoise\",\"line_width\":2}},\"nonselection_glyph\":{\"type\":\"object\",\"name\":\"Line\",\"id\":\"p1751\",\"attributes\":{\"x\":{\"type\":\"field\",\"field\":\"x\"},\"y\":{\"type\":\"field\",\"field\":\"y\"},\"line_color\":\"turquoise\",\"line_alpha\":0.1,\"line_width\":2}},\"muted_glyph\":{\"type\":\"object\",\"name\":\"Line\",\"id\":\"p1752\",\"attributes\":{\"x\":{\"type\":\"field\",\"field\":\"x\"},\"y\":{\"type\":\"field\",\"field\":\"y\"},\"line_color\":\"turquoise\",\"line_alpha\":0.2,\"line_width\":2}}}}],\"toolbar\":{\"type\":\"object\",\"name\":\"Toolbar\",\"id\":\"p1409\",\"attributes\":{\"tools\":[{\"type\":\"object\",\"name\":\"PanTool\",\"id\":\"p1424\"},{\"type\":\"object\",\"name\":\"WheelZoomTool\",\"id\":\"p1425\",\"attributes\":{\"renderers\":\"auto\"}},{\"type\":\"object\",\"name\":\"BoxZoomTool\",\"id\":\"p1426\",\"attributes\":{\"overlay\":{\"type\":\"object\",\"name\":\"BoxAnnotation\",\"id\":\"p1427\",\"attributes\":{\"syncable\":false,\"level\":\"overlay\",\"visible\":false,\"left\":{\"type\":\"number\",\"value\":\"nan\"},\"right\":{\"type\":\"number\",\"value\":\"nan\"},\"top\":{\"type\":\"number\",\"value\":\"nan\"},\"bottom\":{\"type\":\"number\",\"value\":\"nan\"},\"left_units\":\"canvas\",\"right_units\":\"canvas\",\"top_units\":\"canvas\",\"bottom_units\":\"canvas\",\"line_color\":\"black\",\"line_alpha\":1.0,\"line_width\":2,\"line_dash\":[4,4],\"fill_color\":\"lightgrey\",\"fill_alpha\":0.5}}}},{\"type\":\"object\",\"name\":\"SaveTool\",\"id\":\"p1432\"},{\"type\":\"object\",\"name\":\"ResetTool\",\"id\":\"p1433\"},{\"type\":\"object\",\"name\":\"HelpTool\",\"id\":\"p1434\"}]}},\"left\":[{\"type\":\"object\",\"name\":\"LinearAxis\",\"id\":\"p1419\",\"attributes\":{\"ticker\":{\"type\":\"object\",\"name\":\"BasicTicker\",\"id\":\"p1420\",\"attributes\":{\"mantissas\":[1,2,5]}},\"formatter\":{\"type\":\"object\",\"name\":\"BasicTickFormatter\",\"id\":\"p1421\"},\"axis_label\":\"km/h\",\"axis_label_standoff\":10,\"axis_label_text_color\":\"#E0E0E0\",\"axis_label_text_font\":\"Helvetica\",\"axis_label_text_font_size\":\"1.25em\",\"axis_label_text_font_style\":\"normal\",\"major_label_policy\":{\"type\":\"object\",\"name\":\"AllLabels\",\"id\":\"p1422\"},\"major_label_text_color\":\"#E0E0E0\",\"major_label_text_font\":\"Helvetica\",\"major_label_text_font_size\":\"1.025em\",\"axis_line_color\":\"#E0E0E0\",\"axis_line_alpha\":0,\"major_tick_line_color\":\"#E0E0E0\",\"major_tick_line_alpha\":0,\"minor_tick_line_color\":\"#E0E0E0\",\"minor_tick_line_alpha\":0}}],\"below\":[{\"type\":\"object\",\"name\":\"LinearAxis\",\"id\":\"p1414\",\"attributes\":{\"ticker\":{\"type\":\"object\",\"name\":\"BasicTicker\",\"id\":\"p1415\",\"attributes\":{\"mantissas\":[1,2,5]}},\"formatter\":{\"type\":\"object\",\"name\":\"BasicTickFormatter\",\"id\":\"p1416\"},\"axis_label\":\"seconds from exit\",\"axis_label_standoff\":10,\"axis_label_text_color\":\"#E0E0E0\",\"axis_label_text_font\":\"Helvetica\",\"axis_label_text_font_size\":\"1.25em\",\"axis_label_text_font_style\":\"normal\",\"major_label_policy\":{\"type\":\"object\",\"name\":\"AllLabels\",\"id\":\"p1417\"},\"major_label_text_color\":\"#E0E0E0\",\"major_label_text_font\":\"Helvetica\",\"major_label_text_font_size\":\"1.025em\",\"axis_line_color\":\"#E0E0E0\",\"axis_line_alpha\":0,\"major_tick_line_color\":\"#E0E0E0\",\"major_tick_line_alpha\":0,\"minor_tick_line_color\":\"#E0E0E0\",\"minor_tick_line_alpha\":0}}],\"center\":[{\"type\":\"object\",\"name\":\"Grid\",\"id\":\"p1418\",\"attributes\":{\"axis\":{\"id\":\"p1414\"},\"grid_line_color\":\"#E0E0E0\",\"grid_line_alpha\":0.25}},{\"type\":\"object\",\"name\":\"Grid\",\"id\":\"p1423\",\"attributes\":{\"dimension\":1,\"axis\":{\"id\":\"p1419\"},\"grid_line_color\":\"#E0E0E0\",\"grid_line_alpha\":0.25}},{\"type\":\"object\",\"name\":\"Legend\",\"id\":\"p1541\",\"attributes\":{\"border_line_alpha\":0,\"background_fill_color\":\"#20262B\",\"background_fill_alpha\":0.25,\"label_text_color\":\"#E0E0E0\",\"label_text_font\":\"Helvetica\",\"label_text_font_size\":\"1.025em\",\"label_standoff\":8,\"glyph_width\":15,\"spacing\":8,\"items\":[{\"type\":\"object\",\"name\":\"LegendItem\",\"id\":\"p1542\",\"attributes\":{\"label\":{\"type\":\"value\",\"value\":\"09-54-07 - 445.05\"},\"renderers\":[{\"id\":\"p1538\"}]}},{\"type\":\"object\",\"name\":\"LegendItem\",\"id\":\"p1649\",\"attributes\":{\"label\":{\"type\":\"value\",\"value\":\"10-36-56 - 411.35\"},\"renderers\":[{\"id\":\"p1646\"}]}},{\"type\":\"object\",\"name\":\"LegendItem\",\"id\":\"p1756\",\"attributes\":{\"label\":{\"type\":\"value\",\"value\":\"11-55-36 - 432.86\"},\"renderers\":[{\"id\":\"p1753\"}]}}]}}],\"background_fill_color\":\"#20262B\",\"border_fill_color\":\"#15191C\"}}]}};\n",
       "  const render_items = [{\"docid\":\"8dce3fbf-1e0d-4b30-a0a3-c5f328f12fd7\",\"roots\":{\"p1400\":\"ccb6cbf7-e3b6-43ba-8dfb-3643290ff422\"},\"root_ids\":[\"p1400\"]}];\n",
       "  void root.Bokeh.embed.embed_items_notebook(docs_json, render_items);\n",
       "  }\n",
       "  if (root.Bokeh !== undefined) {\n",
       "    embed_document(root);\n",
       "  } else {\n",
       "    let attempts = 0;\n",
       "    const timer = setInterval(function(root) {\n",
       "      if (root.Bokeh !== undefined) {\n",
       "        clearInterval(timer);\n",
       "        embed_document(root);\n",
       "      } else {\n",
       "        attempts++;\n",
       "        if (attempts > 100) {\n",
       "          clearInterval(timer);\n",
       "          console.log(\"Bokeh: ERROR: Unable to run BokehJS code because BokehJS library is missing\");\n",
       "        }\n",
       "      }\n",
       "    }, 10, root)\n",
       "  }\n",
       "})(window);"
      ],
      "application/vnd.bokehjs_exec.v0+json": ""
     },
     "metadata": {
      "application/vnd.bokehjs_exec.v0+json": {
       "id": "p1400"
      }
     },
     "output_type": "display_data"
    }
   ],
   "source": [
    "display(roundedResults)\n",
    "display(sumResults)\n",
    "bp.show(allJumpsPlot)"
   ]
  }
 ],
 "metadata": {
  "kernelspec": {
   "display_name": "Python 3 (ipykernel)",
   "language": "python",
   "name": "python3"
  },
  "language_info": {
   "codemirror_mode": {
    "name": "ipython",
    "version": 3
   },
   "file_extension": ".py",
   "mimetype": "text/x-python",
   "name": "python",
   "nbconvert_exporter": "python",
   "pygments_lexer": "ipython3",
   "version": "3.11.9"
  }
 },
 "nbformat": 4,
 "nbformat_minor": 5
}
