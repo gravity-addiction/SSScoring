{
 "cells": [
  {
   "cell_type": "markdown",
   "id": "2d650dbd-abff-42eb-9577-121d930b7a4c",
   "metadata": {},
   "source": [
    "# Side-by-side speed skydives analysis"
   ]
  },
  {
   "cell_type": "code",
   "execution_count": 2,
   "id": "e83983de-52c4-4001-8644-4f6dcb9423bc",
   "metadata": {},
   "outputs": [
    {
     "ename": "ImportError",
     "evalue": "cannot import name 'processJump' from 'ssscoring.notebook' (/home/jovyan/ssscoring/notebook.py)",
     "output_type": "error",
     "traceback": [
      "\u001b[0;31m---------------------------------------------------------------------------\u001b[0m",
      "\u001b[0;31mImportError\u001b[0m                               Traceback (most recent call last)",
      "Cell \u001b[0;32mIn[2], line 6\u001b[0m\n\u001b[1;32m      4\u001b[0m \u001b[38;5;28;01mfrom\u001b[39;00m \u001b[38;5;21;01mssscoring\u001b[39;00m \u001b[38;5;28;01mimport\u001b[39;00m isValidJump\n\u001b[1;32m      5\u001b[0m \u001b[38;5;28;01mfrom\u001b[39;00m \u001b[38;5;21;01mssscoring\u001b[39;00m \u001b[38;5;28;01mimport\u001b[39;00m jumpAnalysisTable\n\u001b[0;32m----> 6\u001b[0m \u001b[38;5;28;01mfrom\u001b[39;00m \u001b[38;5;21;01mssscoring\u001b[39;00m\u001b[38;5;21;01m.\u001b[39;00m\u001b[38;5;21;01mnotebook\u001b[39;00m \u001b[38;5;28;01mimport\u001b[39;00m processJump\n\u001b[1;32m      8\u001b[0m \u001b[38;5;28;01mimport\u001b[39;00m \u001b[38;5;21;01mio\u001b[39;00m\n\u001b[1;32m     10\u001b[0m \u001b[38;5;28;01mimport\u001b[39;00m \u001b[38;5;21;01mbokeh\u001b[39;00m\u001b[38;5;21;01m.\u001b[39;00m\u001b[38;5;21;01mplotting\u001b[39;00m \u001b[38;5;28;01mas\u001b[39;00m \u001b[38;5;21;01mbp\u001b[39;00m\n",
      "\u001b[0;31mImportError\u001b[0m: cannot import name 'processJump' from 'ssscoring.notebook' (/home/jovyan/ssscoring/notebook.py)"
     ]
    }
   ],
   "source": [
    "from ssscoring import convertFlySight2SSScoring\n",
    "from ssscoring import dropNonSkydiveDataFrom\n",
    "from ssscoring import getSpeedSkydiveFrom\n",
    "from ssscoring import isValidJump\n",
    "from ssscoring import jumpAnalysisTable\n",
    "from ssscoring.notebook import processJump\n",
    "\n",
    "import io\n",
    "\n",
    "import bokeh.plotting as bp\n",
    "import ipywidgets as widgets\n",
    "import matplotlib.pyplot as plt\n",
    "import pandas as pd"
   ]
  },
  {
   "cell_type": "code",
   "execution_count": null,
   "id": "95dd21b3-fe8d-4c6d-9b41-9a4a53d26918",
   "metadata": {},
   "outputs": [],
   "source": [
    "uploader = widgets.FileUpload(description = 'Speed CSVs', tooltip = 'FlySight speed file', multiple = True)\n",
    "display(uploader)"
   ]
  },
  {
   "cell_type": "code",
   "execution_count": null,
   "id": "b4723ff9-a1cc-4457-80dc-beb2ea6e2113",
   "metadata": {},
   "outputs": [],
   "source": [
    "jumpResults = list()\n",
    "labels = list()\n",
    "colors = ('blue', 'limegreen', 'tomato', 'turquoise', 'deepskyblue', 'forestgreen', 'coral', 'darkcyan',)\n",
    "\n",
    "bp.output_notebook()"
   ]
  },
  {
   "cell_type": "code",
   "execution_count": null,
   "id": "8755ea7c-0105-4758-ac59-5e14e7f2b91c",
   "metadata": {},
   "outputs": [],
   "source": [
    "p = bp.figure(title = 'Speed skydives concurrent analysis',\n",
    "              height = 300,\n",
    "              width = 600,\n",
    "              x_axis_label = 'seconds from exit',\n",
    "              y_axis_label = 'km/h',\n",
    "              x_range = (0, 30),\n",
    "              y_range = (0, 550))"
   ]
  },
  {
   "cell_type": "code",
   "execution_count": null,
   "id": "6b8472d6-0eff-4c56-847c-9398f004a7d1",
   "metadata": {},
   "outputs": [],
   "source": [
    "for fileObject in uploader.value:\n",
    "    jumpResults.append(processJump(\n",
    "        convertFlySight2SSScoring(\n",
    "            pd.read_csv(io.BytesIO(fileObject.content),\n",
    "                        skiprows = (1,1)))))\n",
    "    labels.append(fileObject.name.replace('.CSV', '').replace('-', ':'))"
   ]
  },
  {
   "cell_type": "code",
   "execution_count": null,
   "id": "3be4ce49-83f0-4c7f-9257-75491774881e",
   "metadata": {},
   "outputs": [],
   "source": [
    "for jump in range(len(jumpResults)):\n",
    "    if jumpResults[jump].score > 0:\n",
    "        print('Processing %s' % labels[jump])\n",
    "        p.line(jumpResults[jump].data.plotTime,\n",
    "               jumpResults[jump].data.vKMh,\n",
    "               legend_label = labels[jump],\n",
    "               line_width = 2,\n",
    "               line_color = colors[jump])"
   ]
  },
  {
   "cell_type": "code",
   "execution_count": null,
   "id": "61e8ebeb-a885-425a-b4e0-5a1c052cd0a3",
   "metadata": {},
   "outputs": [],
   "source": [
    "bp.show(p)"
   ]
  },
  {
   "cell_type": "code",
   "execution_count": null,
   "id": "2b0437ee-17d5-4a48-9452-023f23028138",
   "metadata": {},
   "outputs": [],
   "source": [
    "scores = pd.Series(data = [ r.score for r in jumpResults ], index = labels)"
   ]
  },
  {
   "cell_type": "code",
   "execution_count": null,
   "id": "45072bd8-3dc5-4bc2-9ee7-f935ca15c8c8",
   "metadata": {},
   "outputs": [],
   "source": [
    "display(scores)"
   ]
  },
  {
   "cell_type": "code",
   "execution_count": null,
   "id": "79dcdcde-0775-4780-a328-798f60c4e007",
   "metadata": {},
   "outputs": [],
   "source": []
  }
 ],
 "metadata": {
  "kernelspec": {
   "display_name": "Python 3 (ipykernel)",
   "language": "python",
   "name": "python3"
  },
  "language_info": {
   "codemirror_mode": {
    "name": "ipython",
    "version": 3
   },
   "file_extension": ".py",
   "mimetype": "text/x-python",
   "name": "python",
   "nbconvert_exporter": "python",
   "pygments_lexer": "ipython3",
   "version": "3.11.8"
  }
 },
 "nbformat": 4,
 "nbformat_minor": 5
}
