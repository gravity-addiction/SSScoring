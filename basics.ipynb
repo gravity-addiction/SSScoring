{
 "cells": [
  {
   "cell_type": "markdown",
   "id": "44efbc40-6800-43f8-8493-e87d97807eae",
   "metadata": {},
   "source": [
    "# Experiments"
   ]
  },
  {
   "cell_type": "code",
   "execution_count": null,
   "id": "75929243-6c99-4333-8b80-94b88069f14c",
   "metadata": {},
   "outputs": [],
   "source": [
    "import io\n",
    "\n",
    "import ipywidgets as widgets\n",
    "import pandas as pd\n",
    "\n",
    "pd.set_option('display.float_format', '{0:,.0f}'.format)"
   ]
  },
  {
   "cell_type": "code",
   "execution_count": null,
   "id": "6306c90a-0623-4b2c-b5b8-185338a9840c",
   "metadata": {},
   "outputs": [],
   "source": [
    "# *** constants ***\n",
    "\n",
    "# All measurements expressed in meters unless noted\n",
    "BREAKOFF_ALTITUDE = 1707.0\n",
    "EXIT_SPEED = 9.81/2\n",
    "MAX_SPEED_ACCURACY = 3.0\n",
    "PERFORMANCE_WINDOW_LENGTH = 2256.0\n",
    "VALIDATION_WINDOW_LENGTH = 1006.0"
   ]
  },
  {
   "cell_type": "code",
   "execution_count": null,
   "id": "b9b3e794-0548-4f79-afbc-1ca11e218a3b",
   "metadata": {},
   "outputs": [],
   "source": [
    "uploader = widgets.FileUpload(description = 'Speed CSV', tooltip = 'FlySight speed file')\n",
    "display(uploader)"
   ]
  },
  {
   "cell_type": "code",
   "execution_count": null,
   "id": "f45b917c-faec-4f7f-b068-0ef91c4cc437",
   "metadata": {},
   "outputs": [],
   "source": [
    "data = pd.read_csv(io.BytesIO(uploader.value[0].content), skiprows= (1,1))"
   ]
  },
  {
   "cell_type": "markdown",
   "id": "08d933a4-b740-42bc-9d00-a7cc5654ab40",
   "metadata": {},
   "source": [
    "## Use meaningful column names"
   ]
  },
  {
   "cell_type": "code",
   "execution_count": null,
   "id": "ba8cabf6-5a65-43b8-8203-fbb2fd1838e7",
   "metadata": {},
   "outputs": [],
   "source": [
    "data['heightFt'] = data['hMSL'].apply(lambda h: 3.2808*h)\n",
    "data['timeUnix'] = data['time'].apply(lambda t: pd.Timestamp(t).timestamp())\n",
    "data = pd.DataFrame(data = {\n",
    "    'timeUnix': data.timeUnix,\n",
    "    'altitudeMSL': data.hMSL,\n",
    "    'heightFt': data.heightFt,\n",
    "    'vMetersPerSecond': data.velD,\n",
    "    'vKMh': data.velD*3.6,\n",
    "    'speedAccuracy': data.sAcc, })"
   ]
  },
  {
   "cell_type": "markdown",
   "id": "7403f312-fbcd-4857-9808-f487930a143c",
   "metadata": {},
   "source": [
    "## Discard non-actionable rows"
   ]
  },
  {
   "cell_type": "markdown",
   "id": "f7888e79-f753-415d-af0e-3c37ae18007b",
   "metadata": {},
   "source": [
    "Discard all rows before maximum altitude..."
   ]
  },
  {
   "cell_type": "code",
   "execution_count": null,
   "id": "0b218bb1-1a47-4a5d-9639-3a0c996398a6",
   "metadata": {},
   "outputs": [],
   "source": [
    "timeMaxAlt = data[data.altitudeMSL == data.altitudeMSL.max()].timeUnix.iloc[0]\n",
    "data = data[data.timeUnix > timeMaxAlt]"
   ]
  },
  {
   "cell_type": "markdown",
   "id": "aeab3198-c392-49d6-ac83-80ac42a7451a",
   "metadata": {},
   "source": [
    "Then discard all rows where height < 0; appears to be a bug in FlySight MSL altitude handling."
   ]
  },
  {
   "cell_type": "code",
   "execution_count": null,
   "id": "ab5d049e-d10a-49b5-8868-bf063efa8e07",
   "metadata": {},
   "outputs": [],
   "source": [
    "data = data[data.altitudeMSL > 0]"
   ]
  },
  {
   "cell_type": "markdown",
   "id": "44c08c4c-04fc-45c3-8ad0-172f1596c22f",
   "metadata": {},
   "source": [
    "## Find the freefall data subset"
   ]
  },
  {
   "cell_type": "code",
   "execution_count": null,
   "id": "136e35f6-32cb-45ac-a28e-5a7ce08043bd",
   "metadata": {},
   "outputs": [],
   "source": [
    "def dataGroups(data):\n",
    "    data_ = data.copy()\n",
    "    data_['positive'] = (data_.vMetersPerSecond > 0)\n",
    "    data_['group'] = (data_.positive != data_.positive.shift(1)).astype(int).cumsum()-1\n",
    "\n",
    "    return data_"
   ]
  },
  {
   "cell_type": "code",
   "execution_count": null,
   "id": "726b5ea5-8d0b-4db4-919c-134cd7e9ee46",
   "metadata": {},
   "outputs": [],
   "source": [
    "data = dataGroups(data)\n",
    "groups = data.group.max()+1\n",
    "print('Data groups = %d' % groups)\n",
    "\n",
    "freeFallGroup = -1\n",
    "dataPoints = -1\n",
    "for group in range(groups):\n",
    "    subset = data[data.group == group]\n",
    "    if len(subset) > dataPoints:\n",
    "        freeFallGroup = group\n",
    "        dataPoints = len(subset)\n",
    "display(freeFallGroup)\n",
    "\n",
    "data = data[data.group == freeFallGroup]\n",
    "data = data.drop('group', axis = 1).drop('positive', axis = 1)"
   ]
  },
  {
   "cell_type": "markdown",
   "id": "a5a2dbef-0e0b-4803-8e55-23f078b40e12",
   "metadata": {},
   "source": [
    "### Drop data before exit and below the breakoff altitude\n",
    "\n",
    "Breakoff altitude is 1,707 meters - FAI ISC and USPA Competition rules."
   ]
  },
  {
   "cell_type": "code",
   "execution_count": null,
   "id": "927f8859-2306-49a1-b6b9-ca246f63608b",
   "metadata": {},
   "outputs": [],
   "source": [
    "data = data[data.vMetersPerSecond > EXIT_SPEED]\n",
    "data = data[data.altitudeMSL >= BREAKOFF_ALTITUDE]"
   ]
  },
  {
   "cell_type": "markdown",
   "id": "ed055e59-16c2-4462-a9b3-0898b38ec37b",
   "metadata": {},
   "source": [
    "### Identify performance, scoring, and validation window\n",
    "\n",
    "The PERFORMANCE_WINDOW_LENGTH is 2,256 meters after exit\n",
    "If the performance window is below the breakoff altitude, scoring ends at BREAKOFF_ALTITUDE"
   ]
  },
  {
   "cell_type": "code",
   "execution_count": null,
   "id": "884e788d-495c-445d-aeb4-7f5398c15c3c",
   "metadata": {},
   "outputs": [],
   "source": [
    "windowStart = data.iloc[0].altitudeMSL\n",
    "windowEnd = windowStart-PERFORMANCE_WINDOW_LENGTH\n",
    "if windowEnd < BREAKOFF_ALTITUDE:\n",
    "    windowEnd = BREAKOFF_ALTITUDE\n",
    "\n",
    "validationWindowStart = windowEnd+VALIDATION_WINDOW_LENGTH\n",
    "data = data[data.altitudeMSL >= windowEnd]\n",
    "\n",
    "print('Window start = {0:,.2f}'.format(windowStart))\n",
    "print('Validation window start = {0:,.2f}'.format(validationWindowStart))\n",
    "print('Window end = {0:,.2f}'.format(windowEnd))"
   ]
  },
  {
   "cell_type": "markdown",
   "id": "5a75452d-8e19-4efe-9bf5-dd00f547219e",
   "metadata": {},
   "source": [
    "---\n",
    "## Jump validation\n",
    "Every data sample within the validation window must satisfy the precision criterium of max speed accuracy < 3 m/s; 0.0 == most accurate."
   ]
  },
  {
   "cell_type": "code",
   "execution_count": null,
   "id": "ddf993ed-2e08-4be6-8f9b-8e18109bc14d",
   "metadata": {},
   "outputs": [],
   "source": [
    "speedAccuracy = data[data.altitudeMSL < validationWindowStart].speedAccuracy.max()\n",
    "\n",
    "if speedAccuracy < MAX_SPEED_ACCURACY:\n",
    "    color = '#0f0'\n",
    "    result = '🟢 valid'\n",
    "else:\n",
    "    color = '#f00'\n",
    "    result = '🔴 invalid'\n",
    "\n",
    "validJumpStatus = '<hr><h1><span style=\"color: %s\">%s jump</span></h1>' % (color, result)"
   ]
  },
  {
   "cell_type": "markdown",
   "id": "a6fa0609-87dd-4179-9a19-9010d7026246",
   "metadata": {},
   "source": [
    "---\n",
    "## Jump analysis"
   ]
  },
  {
   "cell_type": "code",
   "execution_count": null,
   "id": "4233e18a-3701-413f-8b4b-b2dfb853e79f",
   "metadata": {},
   "outputs": [],
   "source": [
    "table = None\n",
    "\n",
    "for column in pd.Series([ 5.0, 10.0, 15.0, 20.0, 25.0, ]):\n",
    "    timeOffset = data.iloc[0].timeUnix+column\n",
    "    tranche = data.query('timeUnix == %f' % timeOffset).copy()\n",
    "    tranche['time'] = [ column, ]\n",
    "\n",
    "    if pd.isna(tranche.iloc[-1].vKMh):\n",
    "        tranche = data.tail(1).copy()\n",
    "        tranche['time'] = tranche.timeUnix-data.iloc[0].timeUnix\n",
    "    \n",
    "    if table is not None:\n",
    "        table = pd.concat([ table, tranche, ])\n",
    "    else:\n",
    "        table = tranche\n",
    "\n",
    "table = pd.DataFrame([ table.time, table.vKMh, ])"
   ]
  },
  {
   "cell_type": "code",
   "execution_count": null,
   "id": "dc65500b-c5ea-4931-b39a-26e879d2706e",
   "metadata": {},
   "outputs": [],
   "source": [
    "display(widgets.HTML(validJumpStatus))\n",
    "display(table)\n",
    "display(widgets.HTML('<h3>Max speed = {0:,.0f}</h3>'.format(data.vKMh.max())))"
   ]
  }
 ],
 "metadata": {
  "kernelspec": {
   "display_name": "Python 3 (ipykernel)",
   "language": "python",
   "name": "python3"
  },
  "language_info": {
   "codemirror_mode": {
    "name": "ipython",
    "version": 3
   },
   "file_extension": ".py",
   "mimetype": "text/x-python",
   "name": "python",
   "nbconvert_exporter": "python",
   "pygments_lexer": "ipython3",
   "version": "3.11.4"
  }
 },
 "nbformat": 4,
 "nbformat_minor": 5
}
