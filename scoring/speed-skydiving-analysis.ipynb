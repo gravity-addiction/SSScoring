{
 "cells": [
  {
   "cell_type": "markdown",
   "metadata": {},
   "source": [
    "# Speed Skydiving Analysis and Scoring"
   ]
  },
  {
   "cell_type": "markdown",
   "metadata": {},
   "source": [
    "## Environment setup"
   ]
  },
  {
   "cell_type": "code",
   "execution_count": 2,
   "metadata": {},
   "outputs": [],
   "source": [
    "import dateutil.parser\n",
    "import math\n",
    "import os\n",
    "import os.path\n",
    "import shutil\n",
    "\n",
    "import pandas as pd\n",
    "\n",
    "\n",
    "COURSE_START  = 2700.0\n",
    "COURSE_END    = 1700.0\n",
    "DATA_SOURCE   = 'pr3d4t0r'\n",
    "DEG_IN_RAD    = math.pi/180.0\n",
    "VALID_MSL     = 100.0 # STD\n",
    "YEAR_PATH_TAG = '18-'"
   ]
  },
  {
   "cell_type": "markdown",
   "metadata": {},
   "source": [
    "## FlySight data sources\n",
    "\n",
    "Copy the FlySight directory of interest to this workspace, using the same directory naming conventions.  Then execute this cell to move the current files to the `DATA_SOURCE` directory for aggregated files analysis."
   ]
  },
  {
   "cell_type": "code",
   "execution_count": 3,
   "metadata": {},
   "outputs": [
    {
     "name": "stdout",
     "output_type": "stream",
     "text": [
      "Completed - moved 0 files to the pr3d4t0r data source\n"
     ]
    }
   ],
   "source": [
    "count = 0\n",
    "\n",
    "for root, directories, files in os.walk('.'):\n",
    "    if YEAR_PATH_TAG not in root:\n",
    "        next\n",
    "    else:\n",
    "        baseName = root.replace('./', '').replace('-', '')\n",
    "        for file in files:\n",
    "            source      = os.path.join(root, file)\n",
    "            fileName    = '20%s.%s' % (baseName, file.replace('-', ''))\n",
    "            destination = os.path.join(DATA_SOURCE, fileName)\n",
    "            count      += 1\n",
    "            shutil.move(source, destination)\n",
    "\n",
    "        shutil.rmtree(root)\n",
    "\n",
    "print('Completed - moved %d files to the %s data source' % (count, DATA_SOURCE))"
   ]
  },
  {
   "cell_type": "markdown",
   "metadata": {},
   "source": [
    "## Top speed and pitch analysis on a single data file"
   ]
  },
  {
   "cell_type": "markdown",
   "metadata": {},
   "source": [
    "User selects a valid FlySight data path and file name.  Call the `calculateSpeedAndPitch(fileName)` function with this file name.  The function produces:\n",
    "\n",
    "* Classical mean speed calculated from all the discrete speeds sampled within the course\n",
    "* USPA calculation ds/dt where dt<sub>competitionTime</sub> = t<sub>end</sub>-t<sub>start</sub>,\n",
    "  and s<sub>courseLength</sub> = |s<sub>start</sub>-s<sub>end</sub>| for the first and last heights\n",
    "  reported within the course window.\n",
    "* Flight pitch in degrees at max speed\n",
    "* Max speed\n",
    "* Min speed\n",
    "\n",
    "All speeds are reported in km/h.  Michael Cooper, USPA National Speed Skydiving Championship judged, explained\n",
    "the \"USPA calculation\" as straight ds/dt in an email message from 04.Sep.2018.\n",
    "\n",
    "### Explanation of the code in calculateSpeedAndPitchFrom(fileName)\n",
    "\n",
    "1. Discard all source entries outside of the 2,700 to 1,700 m AGL course\n",
    "1. Calculate the mean speed for the current jump (actual sum(N)/N and ds/dt for s0, s1\n",
    "1. Resolve the max speed and pitch within the course\n",
    "1. Return the results in a Series object, for later inclusion in a data frame with results from multiple jumps"
   ]
  },
  {
   "cell_type": "code",
   "execution_count": 6,
   "metadata": {},
   "outputs": [
    {
     "data": {
      "text/plain": [
       "competitionTime    2018-00-00T00:00:00.00\n",
       "sampledSpeed                      405.254\n",
       "courseSpeed                       405.769\n",
       "pitch                             72.0859\n",
       "maxSpeed                          415.116\n",
       "minSpeed                          397.836\n",
       "courseTime                            8.6\n",
       "dtype: object"
      ]
     },
     "execution_count": 6,
     "metadata": {},
     "output_type": "execute_result"
    }
   ],
   "source": [
    "def discardDataOutsideCourse(fullFlightData):\n",
    "    height          = fullFlightData['hMSL', '(m)']\n",
    "    descentVelocity = fullFlightData['velD', '(m/s)']\n",
    "    \n",
    "    return fullFlightData[(height <= COURSE_START) & (height >= COURSE_END) & (descentVelocity >= 0.0)]\n",
    "\n",
    "\n",
    "def calculateCourseSpeedUsing(flightData):\n",
    "    # TODO: figure out why pd.to_datetime() barfs\n",
    "    startTime = dateutil.parser.parse(flightData['time', 'Unnamed: 0_level_1'].values[0])\n",
    "    endTime   = dateutil.parser.parse(flightData['time', 'Unnamed: 0_level_1'].values[-1])\n",
    "\n",
    "    startCourse = flightData['hMSL', '(m)'].values[0]\n",
    "    endCourse   = flightData['hMSL', '(m)'].values[-1]\n",
    "\n",
    "    competitionTime = (endTime-startTime).total_seconds()\n",
    "    courseLength    = abs(endCourse-startCourse)\n",
    "\n",
    "    return courseLength/competitionTime, competitionTime\n",
    "\n",
    "\n",
    "def maxHorizontalSpeedFrom(flightData, maxVerticalSpeed):\n",
    "    velN = flightData[flightData['velD', '(m/s)'] == maxVerticalSpeed]['velN', '(m/s)']\n",
    "    velE = flightData[flightData['velD', '(m/s)'] == maxVerticalSpeed]['velE', '(m/s)']\n",
    "    \n",
    "    return math.sqrt(velN**2+velE**2)   # R vector\n",
    "\n",
    "\n",
    "def calculateSpeedAndPitchFor(fileName):\n",
    "    flightData  = discardDataOutsideCourse(pd.read_csv(fileName, header = [0, 1]))\n",
    "    sampledVelD = flightData['velD', '(m/s)'].mean()\n",
    "    courseVelD, \\\n",
    "    courseTime  = calculateCourseSpeedUsing(flightData)\n",
    "    maxSpeed    = flightData['velD', '(m/s)'].max()\n",
    "    minSpeed    = flightData['velD', '(m/s)'].min()\n",
    "    \n",
    "    pitchR = math.atan(maxSpeed/maxHorizontalSpeedFrom(flightData, maxSpeed))\n",
    "    \n",
    "    skydiveResults = pd.Series(\n",
    "                        [\n",
    "                            '2018-00-00T00:00:00.00',\n",
    "                            3.6*sampledVelD,  # km/h; 3,600 seconds, 1,000 meters\n",
    "                            3.6*courseVelD,\n",
    "                            pitchR/DEG_IN_RAD,\n",
    "                            3.6*maxSpeed,\n",
    "                            3.6*minSpeed,\n",
    "                            courseTime,\n",
    "                        ],\n",
    "                        [\n",
    "                            'competitionTime',\n",
    "                            'sampledSpeed',\n",
    "                            'courseSpeed',\n",
    "                            'pitch',\n",
    "                            'maxSpeed',\n",
    "                            'minSpeed',\n",
    "                            'courseTime',\n",
    "                        ])\n",
    "\n",
    "    return skydiveResults\n",
    "\n",
    "\n",
    "FLYSIGHT_DATA_FILE = 'pr3d4t0r/20181112.122617.CSV'\n",
    "calculateSpeedAndPitchFor(FLYSIGHT_DATA_FILE)"
   ]
  },
  {
   "cell_type": "markdown",
   "metadata": {},
   "source": [
    "## Listing FlySight data files with valid data"
   ]
  },
  {
   "cell_type": "markdown",
   "metadata": {},
   "source": [
    "1. Generate the list of available data files\n",
    "1. Discard FlySight warm up files by rejecting files without jump data (test:  minimal altitude changes)"
   ]
  },
  {
   "cell_type": "code",
   "execution_count": 39,
   "metadata": {},
   "outputs": [],
   "source": [
    "def listDataFilesIn(path):\n",
    "    \"\"\"\n",
    "    Generate a sorted list of files available in a given path.\n",
    "    Files names appear in reverse lexicographical order.\n",
    "    \"\"\"\n",
    "\n",
    "    filesList = pd.Series([os.path.join(path, fileName) for fileName in sorted(os.listdir(path), reverse = True) if '.CSV' in fileName])\n",
    "    \n",
    "    return filesList;"
   ]
  },
  {
   "cell_type": "code",
   "execution_count": 40,
   "metadata": {},
   "outputs": [],
   "source": [
    "def hasValidJumpData(fileName):\n",
    "    flightData = pd.read_csv(fileName, header = [0, 1])['hMSL', '(m)']\n",
    "    \n",
    "    return flightData.std() >= VALID_MSL"
   ]
  },
  {
   "cell_type": "code",
   "execution_count": 41,
   "metadata": {},
   "outputs": [],
   "source": [
    "def discardFlySightWarmUpFilesFrom(dataFiles):\n",
    "    included = dataFiles.apply(hasValidJumpData)\n",
    "    \n",
    "    return pd.Series(dataFiles)[included]"
   ]
  },
  {
   "cell_type": "code",
   "execution_count": 44,
   "metadata": {},
   "outputs": [
    {
     "data": {
      "text/plain": [
       "0     pr3d4t0r/20181112.131849.CSV\n",
       "1     pr3d4t0r/20181112.122617.CSV\n",
       "2     pr3d4t0r/20181112.111218.CSV\n",
       "4     pr3d4t0r/20181104.173954.CSV\n",
       "5     pr3d4t0r/20181104.170330.CSV\n",
       "6     pr3d4t0r/20181104.154616.CSV\n",
       "7     pr3d4t0r/20181027.155145.CSV\n",
       "8     pr3d4t0r/20181027.142406.CSV\n",
       "9     pr3d4t0r/20181027.125241.CSV\n",
       "10    pr3d4t0r/20181027.115951.CSV\n",
       "11    pr3d4t0r/20181027.103429.CSV\n",
       "13    pr3d4t0r/20181020.105547.CSV\n",
       "15    pr3d4t0r/20181014.150818.CSV\n",
       "16    pr3d4t0r/20181014.122659.CSV\n",
       "17    pr3d4t0r/20181013.140533.CSV\n",
       "18    pr3d4t0r/20181013.121702.CSV\n",
       "19    pr3d4t0r/20181013.110513.CSV\n",
       "20    pr3d4t0r/20180922.172522.CSV\n",
       "21    pr3d4t0r/20180922.154418.CSV\n",
       "22    pr3d4t0r/20180922.140145.CSV\n",
       "23    pr3d4t0r/20180916.164551.CSV\n",
       "24    pr3d4t0r/20180916.154425.CSV\n",
       "25    pr3d4t0r/20180916.145346.CSV\n",
       "26    pr3d4t0r/20180916.132951.CSV\n",
       "27    pr3d4t0r/20180916.121821.CSV\n",
       "28    pr3d4t0r/20180916.103811.CSV\n",
       "29    pr3d4t0r/20180916.092509.CSV\n",
       "30    pr3d4t0r/20180916.072339.CSV\n",
       "32    pr3d4t0r/20180915.153418.CSV\n",
       "33    pr3d4t0r/20180915.142519.CSV\n",
       "                  ...             \n",
       "52    pr3d4t0r/20180908.164535.CSV\n",
       "53    pr3d4t0r/20180908.153909.CSV\n",
       "54    pr3d4t0r/20180908.140539.CSV\n",
       "55    pr3d4t0r/20180908.123457.CSV\n",
       "56    pr3d4t0r/20180908.111941.CSV\n",
       "57    pr3d4t0r/20180908.095849.CSV\n",
       "59    pr3d4t0r/20180907.141309.CSV\n",
       "60    pr3d4t0r/20180907.131406.CSV\n",
       "61    pr3d4t0r/20180907.113204.CSV\n",
       "62    pr3d4t0r/20180907.100254.CSV\n",
       "63    pr3d4t0r/20180903.181140.CSV\n",
       "64    pr3d4t0r/20180903.165644.CSV\n",
       "65    pr3d4t0r/20180903.143557.CSV\n",
       "66    pr3d4t0r/20180903.124514.CSV\n",
       "67    pr3d4t0r/20180903.112519.CSV\n",
       "68    pr3d4t0r/20180903.100321.CSV\n",
       "70    pr3d4t0r/20180902.142423.CSV\n",
       "71    pr3d4t0r/20180902.113618.CSV\n",
       "72    pr3d4t0r/20180902.095754.CSV\n",
       "74    pr3d4t0r/20180901.174849.CSV\n",
       "75    pr3d4t0r/20180901.160708.CSV\n",
       "76    pr3d4t0r/20180901.150826.CSV\n",
       "77    pr3d4t0r/20180901.134932.CSV\n",
       "78    pr3d4t0r/20180901.125054.CSV\n",
       "79    pr3d4t0r/20180901.111607.CSV\n",
       "80    pr3d4t0r/20180901.095505.CSV\n",
       "81    pr3d4t0r/20180831.181453.CSV\n",
       "82    pr3d4t0r/20180831.143301.CSV\n",
       "83    pr3d4t0r/20180831.132209.CSV\n",
       "84    pr3d4t0r/20180831.122714.CSV\n",
       "Length: 76, dtype: object"
      ]
     },
     "execution_count": 44,
     "metadata": {},
     "output_type": "execute_result"
    }
   ],
   "source": [
    "dataFiles = discardFlySightWarmUpFilesFrom(listDataFilesIn(DATA_SOURCE))\n",
    "dataFiles"
   ]
  },
  {
   "cell_type": "code",
   "execution_count": null,
   "metadata": {},
   "outputs": [],
   "source": []
  }
 ],
 "metadata": {
  "kernelspec": {
   "display_name": "Python 3",
   "language": "python",
   "name": "python3"
  },
  "language_info": {
   "codemirror_mode": {
    "name": "ipython",
    "version": 3
   },
   "file_extension": ".py",
   "mimetype": "text/x-python",
   "name": "python",
   "nbconvert_exporter": "python",
   "pygments_lexer": "ipython3",
   "version": "3.6.6"
  }
 },
 "nbformat": 4,
 "nbformat_minor": 2
}
