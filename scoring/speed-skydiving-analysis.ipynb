{
 "cells": [
  {
   "cell_type": "markdown",
   "metadata": {},
   "source": [
    "# Speed Skydiving Analysis and Scoring"
   ]
  },
  {
   "cell_type": "markdown",
   "metadata": {},
   "source": [
    "## Environment setup"
   ]
  },
  {
   "cell_type": "code",
   "execution_count": 8,
   "metadata": {},
   "outputs": [],
   "source": [
    "from ssscore import COURSE_START\n",
    "from ssscore import COURSE_END\n",
    "from ssscore import DEG_IN_RAD\n",
    "from ssscore import VALID_MSL\n",
    "from ssscore import YEAR_PATH_TAG\n",
    "\n",
    "import dateutil.parser\n",
    "import math\n",
    "import os\n",
    "import os.path\n",
    "import shutil\n",
    "\n",
    "import pandas as pd\n",
    "\n",
    "import ssscore"
   ]
  },
  {
   "cell_type": "markdown",
   "metadata": {},
   "source": [
    "## FlySight data sources\n",
    "\n",
    "1. Copy the FlySight Tracks/YY-MM-dd directory of interest to the DATA_LAKE directory;\n",
    "   the DATA_LAKE can also be an external mount, a Box or Dropbox share, anything that \n",
    "   can be mapped to a directory -- even a whole drive!\n",
    "1. Make a list of all CSV files in the FlySight DATA_LAKE\n",
    "1. Move the CSV to the DATA_SOURCE bucket directory"
   ]
  },
  {
   "cell_type": "markdown",
   "metadata": {},
   "source": [
    "### Define the data lake and data source"
   ]
  },
  {
   "cell_type": "markdown",
   "metadata": {},
   "source": [
    "![Data sources diagram](images/SSScoring-data-sources.png)\n",
    "<a id=\"l_data-def\"></a>"
   ]
  },
  {
   "cell_type": "code",
   "execution_count": null,
   "metadata": {},
   "outputs": [],
   "source": [
    "DATA_LAKE   = './data-lake'\n",
    "DATA_SOURCE = './data-sources/pr3d4t0r'\n",
    "\n",
    "ssscore.updateFlySightDataSource(DATA_LAKE, DATA_SOURCE)"
   ]
  },
  {
   "cell_type": "markdown",
   "metadata": {},
   "source": [
    "## Top speed and pitch analysis on a single data file"
   ]
  },
  {
   "cell_type": "markdown",
   "metadata": {},
   "source": [
    "User selects a valid FlySight data path and file name.  Call the `calculateSpeedAndPitch(fileName)` function with this file name.  The function produces:\n",
    "\n",
    "* Classical mean speed calculated from all the discrete speeds sampled within the course\n",
    "* USPA calculation ds/dt where dt<sub>competitionTime</sub> = t<sub>end</sub>-t<sub>start</sub>,\n",
    "  and s<sub>courseLength</sub> = |s<sub>start</sub>-s<sub>end</sub>| for the first and last heights\n",
    "  reported within the course window.\n",
    "* Flight pitch in degrees at max speed\n",
    "* Max speed\n",
    "* Min speed\n",
    "\n",
    "All speeds are reported in km/h.  Michael Cooper, USPA National Speed Skydiving Championship judged, explained\n",
    "the \"USPA calculation\" as straight ds/dt in an email message from 04.Sep.2018.\n",
    "\n",
    "### Explanation of the code in calculateSpeedAndPitchFrom(fileName)\n",
    "\n",
    "1. Discard all source entries outside of the 2,700 to 1,700 m AGL course\n",
    "1. Calculate the mean speed for the current jump (actual sum(N)/N and ds/dt for s0, s1\n",
    "1. Resolve the max speed and pitch within the course\n",
    "1. Return the results in a Series object, for later inclusion in a data frame with results from multiple jumps"
   ]
  },
  {
   "cell_type": "markdown",
   "metadata": {},
   "source": [
    "### Specify the FlySight data file to analyze"
   ]
  },
  {
   "cell_type": "code",
   "execution_count": 18,
   "metadata": {},
   "outputs": [],
   "source": [
    "DATA_SOURCE        = './data-sources/ciurana'\n",
    "FLYSIGHT_DATA_FILE = '20181112.122617.CSV'"
   ]
  },
  {
   "cell_type": "code",
   "execution_count": 19,
   "metadata": {},
   "outputs": [
    {
     "data": {
      "text/plain": [
       "fileName        ./data-sources/ciurana/20181112.122617.CSV\n",
       "maxSpeedTime                       2018-11-12T19:45:12.80Z\n",
       "sampledSpeed                                       405.254\n",
       "courseSpeed                                        405.769\n",
       "pitch                                              72.0859\n",
       "maxSpeed                                           415.116\n",
       "minSpeed                                           397.836\n",
       "courseTime                                             8.6\n",
       "dtype: object"
      ]
     },
     "execution_count": 19,
     "metadata": {},
     "output_type": "execute_result"
    }
   ],
   "source": [
    "def _discardDataOutsideCourse(fullFlightData):\n",
    "    height          = fullFlightData['hMSL', '(m)']\n",
    "    descentVelocity = fullFlightData['velD', '(m/s)']\n",
    "    \n",
    "    return fullFlightData[(height <= COURSE_START) & (height >= COURSE_END) & (descentVelocity >= 0.0)]\n",
    "\n",
    "\n",
    "def _calculateCourseSpeedUsing(flightData):\n",
    "    \"\"\"\n",
    "    Returns course speed as ds/dt, and competitionTime in seconds\n",
    "    \"\"\"\n",
    "    # TODO: figure out why pd.to_datetime() barfs\n",
    "    startTime = dateutil.parser.parse(flightData['time', 'Unnamed: 0_level_1'].values[0])\n",
    "    endTime   = dateutil.parser.parse(flightData['time', 'Unnamed: 0_level_1'].values[-1])\n",
    "\n",
    "    startCourse = flightData['hMSL', '(m)'].values[0]\n",
    "    endCourse   = flightData['hMSL', '(m)'].values[-1]\n",
    "\n",
    "    competitionTime = (endTime-startTime).total_seconds()\n",
    "    courseLength    = abs(endCourse-startCourse)\n",
    "\n",
    "    return courseLength/competitionTime, competitionTime\n",
    "\n",
    "\n",
    "def maxHorizontalSpeedFrom(flightData, maxVerticalSpeed):\n",
    "    velN = flightData[flightData['velD', '(m/s)'] == maxVerticalSpeed]['velN', '(m/s)']\n",
    "    velE = flightData[flightData['velD', '(m/s)'] == maxVerticalSpeed]['velE', '(m/s)']\n",
    "    \n",
    "    return math.sqrt(velN**2+velE**2)   # R vector\n",
    "\n",
    "\n",
    "def calculateSpeedAndPitchFor(fileName):\n",
    "    \"\"\"\n",
    "    Accepts a file name to a FlySight data file.\n",
    "    \n",
    "    Returns a Series with the results of a speed skydiving jump.\n",
    "    \"\"\"\n",
    "    flightData  = _discardDataOutsideCourse(pd.read_csv(fileName, header = [0, 1]))\n",
    "    sampledVelD = flightData['velD', '(m/s)'].mean()\n",
    "    courseVelD, \\\n",
    "    courseTime  = _calculateCourseSpeedUsing(flightData)\n",
    "    maxSpeed    = flightData['velD', '(m/s)'].max()\n",
    "    minSpeed    = flightData['velD', '(m/s)'].min()\n",
    "    \n",
    "    pitchR       = math.atan(maxSpeed/maxHorizontalSpeedFrom(flightData, maxSpeed))\n",
    "    maxSpeedTime = flightData[flightData['velD', '(m/s)'] == maxSpeed]['time', 'Unnamed: 0_level_1'].values[0]\n",
    "    \n",
    "    skydiveResults = pd.Series(\n",
    "                        [\n",
    "                            fileName,\n",
    "                            maxSpeedTime,\n",
    "                            3.6*sampledVelD,  # km/h; 3,600 seconds, 1,000 meters\n",
    "                            3.6*courseVelD,\n",
    "                            pitchR/DEG_IN_RAD,\n",
    "                            3.6*maxSpeed,\n",
    "                            3.6*minSpeed,\n",
    "                            courseTime,\n",
    "                        ],\n",
    "                        [\n",
    "                            'fileName',\n",
    "                            'maxSpeedTime',\n",
    "                            'sampledSpeed',\n",
    "                            'courseSpeed',\n",
    "                            'pitch',\n",
    "                            'maxSpeed',\n",
    "                            'minSpeed',\n",
    "                            'courseTime',\n",
    "                        ])\n",
    "\n",
    "    return skydiveResults\n",
    "\n",
    "\n",
    "calculateSpeedAndPitchFor(os.path.join(DATA_SOURCE, FLYSIGHT_DATA_FILE))"
   ]
  },
  {
   "cell_type": "markdown",
   "metadata": {},
   "source": [
    "## Listing FlySight data files with valid data"
   ]
  },
  {
   "cell_type": "markdown",
   "metadata": {},
   "source": [
    "This set up generates a list of FlySight data files ready for analysis.  It discards any warm up FlySight data files, those that show no significant changes in elevation MSL across the complete data set.\n",
    "\n",
    "The list generator uses the `DATA_SOURCE` global variable.  [Change the value of `DATA_SOURCE`](#l_data-def) if necessary.\n",
    "\n",
    "1. Generate the list of available data files\n",
    "1. Discard FlySight warm up files by rejecting files without jump data (test:  minimal altitude changes)"
   ]
  },
  {
   "cell_type": "markdown",
   "metadata": {},
   "source": [
    "![Scoring FlySight files list generation diagram](images/SSScoring-list-scoring-files.png)"
   ]
  },
  {
   "cell_type": "code",
   "execution_count": 20,
   "metadata": {},
   "outputs": [],
   "source": [
    "def listDataFilesIn(bucketPath):\n",
    "    \"\"\"\n",
    "    Generate a sorted list of files available in a given bucketPath.\n",
    "    Files names appear in reverse lexicographical order.\n",
    "    \"\"\"\n",
    "\n",
    "    filesList = pd.Series([os.path.join(bucketPath, fileName) for fileName in sorted(os.listdir(bucketPath), reverse = True) if '.CSV' in fileName])\n",
    "    \n",
    "    return filesList;"
   ]
  },
  {
   "cell_type": "code",
   "execution_count": 21,
   "metadata": {},
   "outputs": [],
   "source": [
    "def _hasValidJumpData(fileName):\n",
    "    flightData = pd.read_csv(fileName, header = [0, 1])['hMSL', '(m)']\n",
    "    \n",
    "    return flightData.std() >= VALID_MSL"
   ]
  },
  {
   "cell_type": "code",
   "execution_count": 22,
   "metadata": {},
   "outputs": [],
   "source": [
    "def selectValidFlySightFilesFrom(dataFiles):\n",
    "    included = dataFiles.apply(_hasValidJumpData)\n",
    "    \n",
    "    return pd.Series(dataFiles)[included]"
   ]
  },
  {
   "cell_type": "code",
   "execution_count": 23,
   "metadata": {},
   "outputs": [
    {
     "data": {
      "text/plain": [
       "0    ./data-sources/ciurana/20181112.131849.CSV\n",
       "1    ./data-sources/ciurana/20181112.122617.CSV\n",
       "2    ./data-sources/ciurana/20181112.111218.CSV\n",
       "dtype: object"
      ]
     },
     "execution_count": 23,
     "metadata": {},
     "output_type": "execute_result"
    }
   ],
   "source": [
    "dataFiles = selectValidFlySightFilesFrom(listDataFilesIn(DATA_SOURCE))\n",
    "dataFiles"
   ]
  },
  {
   "cell_type": "markdown",
   "metadata": {},
   "source": [
    "## Top speed and pitch analysis on all the data in a bucket"
   ]
  },
  {
   "cell_type": "markdown",
   "metadata": {},
   "source": [
    "Takes all the FlySight files in a bucket, detects the ones with valid data, and runs performance analysis over them.  Packs all the results in a data frame, then calculates:\n",
    "\n",
    "* Average speed\n",
    "* Max average speed\n",
    "\n",
    "_Future versions may adhere to USPA / ISSA judging rules for analysis._"
   ]
  },
  {
   "cell_type": "markdown",
   "metadata": {},
   "source": [
    "### Define the data source"
   ]
  },
  {
   "cell_type": "code",
   "execution_count": 24,
   "metadata": {},
   "outputs": [],
   "source": [
    "DATA_SOURCE = './data-sources/ciurana'"
   ]
  },
  {
   "cell_type": "markdown",
   "metadata": {},
   "source": [
    "### Analyze all files in the bucket"
   ]
  },
  {
   "cell_type": "code",
   "execution_count": 25,
   "metadata": {},
   "outputs": [
    {
     "data": {
      "text/html": [
       "<div>\n",
       "<style scoped>\n",
       "    .dataframe tbody tr th:only-of-type {\n",
       "        vertical-align: middle;\n",
       "    }\n",
       "\n",
       "    .dataframe tbody tr th {\n",
       "        vertical-align: top;\n",
       "    }\n",
       "\n",
       "    .dataframe thead th {\n",
       "        text-align: right;\n",
       "    }\n",
       "</style>\n",
       "<table border=\"1\" class=\"dataframe\">\n",
       "  <thead>\n",
       "    <tr style=\"text-align: right;\">\n",
       "      <th></th>\n",
       "      <th>fileName</th>\n",
       "      <th>maxSpeedTime</th>\n",
       "      <th>sampledSpeed</th>\n",
       "      <th>courseSpeed</th>\n",
       "      <th>pitch</th>\n",
       "      <th>maxSpeed</th>\n",
       "      <th>minSpeed</th>\n",
       "      <th>courseTime</th>\n",
       "    </tr>\n",
       "  </thead>\n",
       "  <tbody>\n",
       "    <tr>\n",
       "      <th>0</th>\n",
       "      <td>./data-sources/ciurana/20181112.131849.CSV</td>\n",
       "      <td>2018-11-12T20:36:01.40Z</td>\n",
       "      <td>313.522759</td>\n",
       "      <td>311.750211</td>\n",
       "      <td>69.907863</td>\n",
       "      <td>398.736</td>\n",
       "      <td>242.712</td>\n",
       "      <td>11.4</td>\n",
       "    </tr>\n",
       "    <tr>\n",
       "      <th>1</th>\n",
       "      <td>./data-sources/ciurana/20181112.122617.CSV</td>\n",
       "      <td>2018-11-12T19:45:12.80Z</td>\n",
       "      <td>405.253636</td>\n",
       "      <td>405.768558</td>\n",
       "      <td>72.085916</td>\n",
       "      <td>415.116</td>\n",
       "      <td>397.836</td>\n",
       "      <td>8.6</td>\n",
       "    </tr>\n",
       "    <tr>\n",
       "      <th>2</th>\n",
       "      <td>./data-sources/ciurana/20181112.111218.CSV</td>\n",
       "      <td>2018-11-12T18:35:10.40Z</td>\n",
       "      <td>328.294667</td>\n",
       "      <td>329.788528</td>\n",
       "      <td>66.859584</td>\n",
       "      <td>356.580</td>\n",
       "      <td>283.140</td>\n",
       "      <td>10.6</td>\n",
       "    </tr>\n",
       "  </tbody>\n",
       "</table>\n",
       "</div>"
      ],
      "text/plain": [
       "                                     fileName             maxSpeedTime  \\\n",
       "0  ./data-sources/ciurana/20181112.131849.CSV  2018-11-12T20:36:01.40Z   \n",
       "1  ./data-sources/ciurana/20181112.122617.CSV  2018-11-12T19:45:12.80Z   \n",
       "2  ./data-sources/ciurana/20181112.111218.CSV  2018-11-12T18:35:10.40Z   \n",
       "\n",
       "   sampledSpeed  courseSpeed      pitch  maxSpeed  minSpeed  courseTime  \n",
       "0    313.522759   311.750211  69.907863   398.736   242.712        11.4  \n",
       "1    405.253636   405.768558  72.085916   415.116   397.836         8.6  \n",
       "2    328.294667   329.788528  66.859584   356.580   283.140        10.6  "
      ]
     },
     "execution_count": 25,
     "metadata": {},
     "output_type": "execute_result"
    }
   ],
   "source": [
    "allCompetitionJumps = selectValidFlySightFilesFrom(listDataFilesIn(DATA_SOURCE)).apply(calculateSpeedAndPitchFor)\n",
    "allCompetitionJumps"
   ]
  },
  {
   "cell_type": "markdown",
   "metadata": {},
   "source": [
    "### Summary of results"
   ]
  },
  {
   "cell_type": "code",
   "execution_count": 26,
   "metadata": {},
   "outputs": [
    {
     "data": {
      "text/plain": [
       "meanCourseSpeed     349.102432\n",
       "meanSampledSpeed    349.023687\n",
       "meanPitch            69.617788\n",
       "meanTime             10.200000\n",
       "maxSpeed            405.768558\n",
       "dtype: float64"
      ]
     },
     "execution_count": 26,
     "metadata": {},
     "output_type": "execute_result"
    }
   ],
   "source": [
    "def competitionResults(jumpsData):\n",
    "    meanCourseSpeed  = jumpsData['courseSpeed'].mean()\n",
    "    meanSampledSpeed = jumpsData['sampledSpeed'].mean()\n",
    "    meanPitch        = jumpsData['pitch'].mean()\n",
    "    meanTime         = jumpsData['courseTime'].mean()\n",
    "    maxSpeed         = jumpsData['courseSpeed'].max()\n",
    "\n",
    "    return pd.Series(\n",
    "        [\n",
    "            meanCourseSpeed,\n",
    "            meanSampledSpeed,\n",
    "            meanPitch,\n",
    "            meanTime,\n",
    "            maxSpeed,\n",
    "        ],\n",
    "        [\n",
    "            'meanCourseSpeed',\n",
    "            'meanSampledSpeed',\n",
    "            'meanPitch',\n",
    "            'meanTime',\n",
    "            'maxSpeed',\n",
    "        ])\n",
    "\n",
    "competitionResults(allCompetitionJumps)"
   ]
  }
 ],
 "metadata": {
  "kernelspec": {
   "display_name": "Python 3",
   "language": "python",
   "name": "python3"
  },
  "language_info": {
   "codemirror_mode": {
    "name": "ipython",
    "version": 3
   },
   "file_extension": ".py",
   "mimetype": "text/x-python",
   "name": "python",
   "nbconvert_exporter": "python",
   "pygments_lexer": "ipython3",
   "version": "3.6.6"
  }
 },
 "nbformat": 4,
 "nbformat_minor": 2
}
