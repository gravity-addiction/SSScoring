{
 "cells": [
  {
   "cell_type": "markdown",
   "metadata": {},
   "source": [
    "# Speed Skydiving Analysis and Scoring"
   ]
  },
  {
   "cell_type": "markdown",
   "metadata": {},
   "source": [
    "## Environment setup"
   ]
  },
  {
   "cell_type": "code",
   "execution_count": 1,
   "metadata": {},
   "outputs": [],
   "source": [
    "from ssscore import COURSE_START\n",
    "from ssscore import COURSE_END\n",
    "from ssscore import DEG_IN_RAD\n",
    "from ssscore import VALID_MSL\n",
    "from ssscore import YEAR_PATH_TAG\n",
    "\n",
    "import dateutil.parser\n",
    "import math\n",
    "import os\n",
    "import os.path\n",
    "import shutil\n",
    "\n",
    "import pandas as pd\n",
    "\n",
    "import ssscore"
   ]
  },
  {
   "cell_type": "markdown",
   "metadata": {},
   "source": [
    "## FlySight data sources\n",
    "\n",
    "1. Copy the FlySight Tracks/YY-MM-dd directory of interest to the DATA_LAKE directory.\n",
    "1. Make a list of all CSV files in the FlySight DATA_LAKE\n",
    "1. Move the CSV to the DATA_SOURCE bucket directory"
   ]
  },
  {
   "cell_type": "markdown",
   "metadata": {},
   "source": [
    "### Define the data lake and data source:"
   ]
  },
  {
   "cell_type": "code",
   "execution_count": 2,
   "metadata": {},
   "outputs": [
    {
     "name": "stdout",
     "output_type": "stream",
     "text": [
      "moved 0 CSV files from data lake [./data-lake] to data source [./data-sources/pr3d4t0r]\n"
     ]
    }
   ],
   "source": [
    "DATA_LAKE     = './data-lake'\n",
    "DATA_SOURCE   = './data-sources/pr3d4t0r'\n",
    "\n",
    "ssscore.updateFlySightDataSource(DATA_LAKE, DATA_SOURCE)"
   ]
  },
  {
   "cell_type": "markdown",
   "metadata": {},
   "source": [
    "## Top speed and pitch analysis on a single data file"
   ]
  },
  {
   "cell_type": "markdown",
   "metadata": {},
   "source": [
    "User selects a valid FlySight data path and file name.  Call the `calculateSpeedAndPitch(fileName)` function with this file name.  The function produces:\n",
    "\n",
    "* Classical mean speed calculated from all the discrete speeds sampled within the course\n",
    "* USPA calculation ds/dt where dt<sub>competitionTime</sub> = t<sub>end</sub>-t<sub>start</sub>,\n",
    "  and s<sub>courseLength</sub> = |s<sub>start</sub>-s<sub>end</sub>| for the first and last heights\n",
    "  reported within the course window.\n",
    "* Flight pitch in degrees at max speed\n",
    "* Max speed\n",
    "* Min speed\n",
    "\n",
    "All speeds are reported in km/h.  Michael Cooper, USPA National Speed Skydiving Championship judged, explained\n",
    "the \"USPA calculation\" as straight ds/dt in an email message from 04.Sep.2018.\n",
    "\n",
    "### Explanation of the code in calculateSpeedAndPitchFrom(fileName)\n",
    "\n",
    "1. Discard all source entries outside of the 2,700 to 1,700 m AGL course\n",
    "1. Calculate the mean speed for the current jump (actual sum(N)/N and ds/dt for s0, s1\n",
    "1. Resolve the max speed and pitch within the course\n",
    "1. Return the results in a Series object, for later inclusion in a data frame with results from multiple jumps"
   ]
  },
  {
   "cell_type": "markdown",
   "metadata": {},
   "source": [
    "### Specify the FlySight data file to analyze:"
   ]
  },
  {
   "cell_type": "code",
   "execution_count": 3,
   "metadata": {},
   "outputs": [],
   "source": [
    "FLYSIGHT_DATA_FILE = '20181027.142406.CSV'"
   ]
  },
  {
   "cell_type": "code",
   "execution_count": 4,
   "metadata": {},
   "outputs": [
    {
     "data": {
      "text/plain": [
       "fileName        ./data-sources/pr3d4t0r/20181027.142406.CSV\n",
       "maxSpeedTime                        2018-10-27T21:47:50.20Z\n",
       "sampledSpeed                                        387.738\n",
       "courseSpeed                                          388.59\n",
       "pitch                                               72.9377\n",
       "maxSpeed                                            405.792\n",
       "minSpeed                                            357.048\n",
       "courseTime                                              9.2\n",
       "dtype: object"
      ]
     },
     "execution_count": 4,
     "metadata": {},
     "output_type": "execute_result"
    }
   ],
   "source": [
    "def _discardDataOutsideCourse(fullFlightData):\n",
    "    height          = fullFlightData['hMSL', '(m)']\n",
    "    descentVelocity = fullFlightData['velD', '(m/s)']\n",
    "    \n",
    "    return fullFlightData[(height <= COURSE_START) & (height >= COURSE_END) & (descentVelocity >= 0.0)]\n",
    "\n",
    "\n",
    "def _calculateCourseSpeedUsing(flightData):\n",
    "    \"\"\"\n",
    "    Returns course speed as ds/dt, and competitionTime in seconds\n",
    "    \"\"\"\n",
    "    # TODO: figure out why pd.to_datetime() barfs\n",
    "    startTime = dateutil.parser.parse(flightData['time', 'Unnamed: 0_level_1'].values[0])\n",
    "    endTime   = dateutil.parser.parse(flightData['time', 'Unnamed: 0_level_1'].values[-1])\n",
    "\n",
    "    startCourse = flightData['hMSL', '(m)'].values[0]\n",
    "    endCourse   = flightData['hMSL', '(m)'].values[-1]\n",
    "\n",
    "    competitionTime = (endTime-startTime).total_seconds()\n",
    "    courseLength    = abs(endCourse-startCourse)\n",
    "\n",
    "    return courseLength/competitionTime, competitionTime\n",
    "\n",
    "\n",
    "def maxHorizontalSpeedFrom(flightData, maxVerticalSpeed):\n",
    "    velN = flightData[flightData['velD', '(m/s)'] == maxVerticalSpeed]['velN', '(m/s)']\n",
    "    velE = flightData[flightData['velD', '(m/s)'] == maxVerticalSpeed]['velE', '(m/s)']\n",
    "    \n",
    "    return math.sqrt(velN**2+velE**2)   # R vector\n",
    "\n",
    "\n",
    "def calculateSpeedAndPitchFor(fileName):\n",
    "    \"\"\"\n",
    "    Accepts a file name to a FlySight data file.\n",
    "    \n",
    "    Returns a Series with the results of a speed skydiving jump.\n",
    "    \"\"\"\n",
    "    flightData  = _discardDataOutsideCourse(pd.read_csv(fileName, header = [0, 1]))\n",
    "    sampledVelD = flightData['velD', '(m/s)'].mean()\n",
    "    courseVelD, \\\n",
    "    courseTime  = _calculateCourseSpeedUsing(flightData)\n",
    "    maxSpeed    = flightData['velD', '(m/s)'].max()\n",
    "    minSpeed    = flightData['velD', '(m/s)'].min()\n",
    "    \n",
    "    pitchR       = math.atan(maxSpeed/maxHorizontalSpeedFrom(flightData, maxSpeed))\n",
    "    maxSpeedTime = flightData[flightData['velD', '(m/s)'] == maxSpeed]['time', 'Unnamed: 0_level_1'].values[0]\n",
    "    \n",
    "    skydiveResults = pd.Series(\n",
    "                        [\n",
    "                            fileName,\n",
    "                            maxSpeedTime,\n",
    "                            3.6*sampledVelD,  # km/h; 3,600 seconds, 1,000 meters\n",
    "                            3.6*courseVelD,\n",
    "                            pitchR/DEG_IN_RAD,\n",
    "                            3.6*maxSpeed,\n",
    "                            3.6*minSpeed,\n",
    "                            courseTime,\n",
    "                        ],\n",
    "                        [\n",
    "                            'fileName',\n",
    "                            'maxSpeedTime',\n",
    "                            'sampledSpeed',\n",
    "                            'courseSpeed',\n",
    "                            'pitch',\n",
    "                            'maxSpeed',\n",
    "                            'minSpeed',\n",
    "                            'courseTime',\n",
    "                        ])\n",
    "\n",
    "    return skydiveResults\n",
    "\n",
    "\n",
    "calculateSpeedAndPitchFor(os.path.join(DATA_SOURCE, FLYSIGHT_DATA_FILE))"
   ]
  },
  {
   "cell_type": "markdown",
   "metadata": {},
   "source": [
    "## Listing FlySight data files with valid data"
   ]
  },
  {
   "cell_type": "markdown",
   "metadata": {},
   "source": [
    "**UNDER CONSTRUCTION**\n",
    "1. Generate the list of available data files\n",
    "1. Discard FlySight warm up files by rejecting files without jump data (test:  minimal altitude changes)"
   ]
  },
  {
   "cell_type": "code",
   "execution_count": null,
   "metadata": {},
   "outputs": [],
   "source": [
    "def listDataFilesIn(path):\n",
    "    \"\"\"\n",
    "    Generate a sorted list of files available in a given path.\n",
    "    Files names appear in reverse lexicographical order.\n",
    "    \"\"\"\n",
    "\n",
    "    filesList = pd.Series([os.path.join(path, fileName) for fileName in sorted(os.listdir(path), reverse = True) if '.CSV' in fileName])\n",
    "    \n",
    "    return filesList;"
   ]
  },
  {
   "cell_type": "code",
   "execution_count": null,
   "metadata": {},
   "outputs": [],
   "source": [
    "def hasValidJumpData(fileName):\n",
    "    flightData = pd.read_csv(fileName, header = [0, 1])['hMSL', '(m)']\n",
    "    \n",
    "    return flightData.std() >= VALID_MSL"
   ]
  },
  {
   "cell_type": "code",
   "execution_count": null,
   "metadata": {},
   "outputs": [],
   "source": [
    "def discardFlySightWarmUpFilesFrom(dataFiles):\n",
    "    included = dataFiles.apply(hasValidJumpData)\n",
    "    \n",
    "    return pd.Series(dataFiles)[included]"
   ]
  },
  {
   "cell_type": "code",
   "execution_count": null,
   "metadata": {},
   "outputs": [],
   "source": [
    "dataFiles = discardFlySightWarmUpFilesFrom(listDataFilesIn(DATA_SOURCE))\n",
    "dataFiles"
   ]
  }
 ],
 "metadata": {
  "kernelspec": {
   "display_name": "Python 3",
   "language": "python",
   "name": "python3"
  },
  "language_info": {
   "codemirror_mode": {
    "name": "ipython",
    "version": 3
   },
   "file_extension": ".py",
   "mimetype": "text/x-python",
   "name": "python",
   "nbconvert_exporter": "python",
   "pygments_lexer": "ipython3",
   "version": "3.6.6"
  }
 },
 "nbformat": 4,
 "nbformat_minor": 2
}
