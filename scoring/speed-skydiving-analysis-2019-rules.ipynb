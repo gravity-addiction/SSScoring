{
 "cells": [
  {
   "cell_type": "markdown",
   "metadata": {},
   "source": [
    "# Speed Skydiving Analysis and Scoring 2019"
   ]
  },
  {
   "cell_type": "markdown",
   "metadata": {},
   "source": [
    "Analyze one or more FlySight files with speed skydiving data.\n",
    "\n",
    "This document implements scoring techniques compatible with the FAI World Air Sports Federation [Speed Skydiving Competition Rules, 2019 Edition](https://www.fai.org/sites/default/files/documents/2019_ipc_cr_speedskydiving.pdf) (PDF, 428 KB)."
   ]
  },
  {
   "cell_type": "markdown",
   "metadata": {},
   "source": [
    "## Environment setup"
   ]
  },
  {
   "cell_type": "code",
   "execution_count": 1,
   "metadata": {},
   "outputs": [],
   "source": [
    "from ssscore import COURSE_END\n",
    "from ssscore import DEG_IN_RAD\n",
    "from ssscore import VALID_MSL\n",
    "\n",
    "import dateutil.parser\n",
    "import inspect\n",
    "import math\n",
    "import os\n",
    "import os.path\n",
    "import shutil\n",
    "\n",
    "import pandas as pd\n",
    "\n",
    "import ssscore"
   ]
  },
  {
   "cell_type": "markdown",
   "metadata": {},
   "source": [
    "### Known drop zones AMSL in meters\n",
    "\n",
    "The `ssscore` module defines these altitudes; the DZ name corresponds to the symbolic constant, e.g. Bay Area Skydiving ::= `BAY_AREA_SKYDIVING`.  The altitudes were culled from public airport information available on the Worldwide Web."
   ]
  },
  {
   "cell_type": "code",
   "execution_count": 2,
   "metadata": {},
   "outputs": [
    {
     "name": "stdout",
     "output_type": "stream",
     "text": [
      "# vim: set fileencoding=utf-8:\n",
      "\n",
      "# BSD 3-Clause License -- see ../../LICENSE for details.\n",
      "\n",
      "\n",
      "# TODO: Define an enum or similar object, to express the altitude in ft, m?\n",
      "#       Keep these definitions and erase this TODO if this comment is still here\n",
      "#       after 30.Jun.2019\n",
      "\n",
      "# Drop zone name, altitude in meters\n",
      "\n",
      "BAY_AREA_SKYDIVING           =   23.90\n",
      "CHICAGOLAND_SKYDIVING_CENTER =  238.00\n",
      "SKYDANCE_SKYDIVING           =   30.48\n",
      "SKYDIVE_ALGARVE              =    2.00\n",
      "SKYDIVE_ARIZONA              =  460.60\n",
      "SKYDIVE_BUZZ                 =  256.00\n",
      "SKYDIVE_FANO                 =   54.00\n",
      "SKYDIVE_FLANDERS_ZWARTBERG   =   85.00\n",
      "SKYDIVE_SAULGAU              = 1076.00\n",
      "SKYDIVE_UTAH                 = 1317.04\n",
      "\n",
      "\n"
     ]
    }
   ],
   "source": [
    "import ssscore.elevations as elevations # expressed in meters\n",
    "\n",
    "print(inspect.getsource(elevations))"
   ]
  },
  {
   "cell_type": "markdown",
   "metadata": {},
   "source": [
    "#### Set the appropriate DZ elevation"
   ]
  },
  {
   "cell_type": "code",
   "execution_count": 3,
   "metadata": {},
   "outputs": [],
   "source": [
    "DZ_AMSL = elevations.SKYDANCE_SKYDIVING"
   ]
  },
  {
   "cell_type": "markdown",
   "metadata": {},
   "source": [
    "## FlySight data sources\n",
    "\n",
    "1. Copy the FlySight `Tracks/YY-MM-dd` directory of interest to the `DATA_LAKE` directory;\n",
    "   the `DATA_LAKE` can also be an external mount, a Box or Dropbox share, anything that \n",
    "   can be mapped to a directory -- even a whole drive!\n",
    "1. Make a list of all CSV files in the FlySight `DATA_LAKE`\n",
    "1. Move the CSV to the `DATA_SOURCE` bucket directory"
   ]
  },
  {
   "cell_type": "markdown",
   "metadata": {},
   "source": [
    "### Define the data lake and data source"
   ]
  },
  {
   "cell_type": "markdown",
   "metadata": {},
   "source": [
    "![Data sources diagram](images/SSScoring-data-sources.png)\n",
    "<a id=\"l_data-def\"></a>"
   ]
  },
  {
   "cell_type": "code",
   "execution_count": 4,
   "metadata": {},
   "outputs": [
    {
     "name": "stdout",
     "output_type": "stream",
     "text": [
      "moved ./resources/FlySight-test-file.csv --> ./data-sources/resources/FlySight-test-file.csv\n",
      "moved 1 CSV files from data lake [./resources] to data source [./data-sources/resources]\n"
     ]
    }
   ],
   "source": [
    "DATA_LAKE   = os.path.join('.', ssscore.RESOURCE_PATH)\n",
    "DATA_SOURCE = os.path.join('.', 'data-sources', ssscore.RESOURCE_PATH)\n",
    "\n",
    "ssscore.updateFlySightDataSource(DATA_LAKE, DATA_SOURCE)"
   ]
  },
  {
   "cell_type": "markdown",
   "metadata": {},
   "source": [
    "## Top speed and pitch analysis on a single data file"
   ]
  },
  {
   "cell_type": "markdown",
   "metadata": {},
   "source": [
    "User selects a valid FlySight data path and file name.  Call the `calculateSpeedAndPitch(fileName)` function with this file name.  The function produces:\n",
    "\n",
    "* Maximum mean speed within a 3-second interval within the course\n",
    "* Flight pitch in degrees at max speed\n",
    "* Max speed\n",
    "* Min speed\n",
    "\n",
    "All speeds are reported in km/h.\n",
    "\n",
    "### Explanation of the code in calculateSpeedAndPitchFrom(fileName)\n",
    "\n",
    "1. Discard all source entries outside of the exit altitude to 1,700 m AGL course\n",
    "1. Resolve the max speed and pitch within the course\n",
    "1. Calculate the max mean speed for the 3-second interval near the max speed\n",
    "1. Return the results in a Series object for later inclusion in a data frame with results from multiple jumps"
   ]
  },
  {
   "cell_type": "markdown",
   "metadata": {},
   "source": [
    "### Specify the FlySight data file to analyze"
   ]
  },
  {
   "cell_type": "code",
   "execution_count": 5,
   "metadata": {},
   "outputs": [],
   "source": [
    "DATA_SOURCE        = os.path.join('.', 'data-sources', ssscore.RESOURCE_PATH)\n",
    "DATA_SOURCE        = './data-sources/ciurana'\n",
    "FLYSIGHT_DATA_FILE = 'FlySight-test-file.csv'\n",
    "FLYSIGHT_DATA_FILE = '22-20-00.CSV'"
   ]
  },
  {
   "cell_type": "code",
   "execution_count": 6,
   "metadata": {},
   "outputs": [],
   "source": [
    "def _discardClimbAltitudeDropsIn(flightData):\n",
    "    \"\"\"\n",
    "        Altitude drops in flightData occur when a load includes hop and pops, or when the pilot decides to\n",
    "        circle or descend for safety reasons.  This function discards all minor altitude drops and keeps\n",
    "        only the speed skydive course.\n",
    "        \n",
    "        Accepts:  flight data\n",
    "        Returns:  the flight data corresonding to the speed skydive course\n",
    "    \"\"\"\n",
    "    courseData = flightData.copy()\n",
    "    courseData['descends', 'Boolean'] = courseData['velD', '(m/s)'] >= 0.0\n",
    "    courseData['group', ''] = (courseData['descends', 'Boolean'] != courseData['descends', 'Boolean'].shift(1)).cumsum()\n",
    "    \n",
    "    courseGroup = courseData['group', ''].max()\n",
    "    \n",
    "    return courseData[courseData['group', ''] == courseGroup]"
   ]
  },
  {
   "cell_type": "code",
   "execution_count": 7,
   "metadata": {},
   "outputs": [],
   "source": [
    "def _discardDataOutsideCourse(flightData):\n",
    "    maxHeight       = flightData['hAGL', '(m)'].max()\n",
    "    height          = flightData['hAGL', '(m)']\n",
    "    descentVelocity = flightData['velD', '(m/s)']\n",
    "    flightData      = flightData[(height <= maxHeight) & (height >= COURSE_END) & (descentVelocity >= 0.0)]\n",
    "    \n",
    "    return _discardClimbAltitudeDropsIn(flightData)"
   ]
  },
  {
   "cell_type": "code",
   "execution_count": 8,
   "metadata": {},
   "outputs": [],
   "source": [
    "def _calculateCourseSpeedUsing(flightData):\n",
    "    \"\"\"\n",
    "    Returns absolute best max speed and 3-second window max speed.\n",
    "    \"\"\"\n",
    "    # TODO: figure out why pd.to_datetime() barfs\n",
    "    startTime = dateutil.parser.parse(flightData['time', 'Unnamed: 0_level_1'].values[0])\n",
    "    endTime   = dateutil.parser.parse(flightData['time', 'Unnamed: 0_level_1'].values[-1])\n",
    "\n",
    "    startCourse = flightData['hAGL', '(m)'].values[0]\n",
    "    endCourse   = flightData['hAGL', '(m)'].values[-1]\n",
    "\n",
    "    return flightData['velD', '(m/s)'].max(), 0.0, startCourse, endCourse"
   ]
  },
  {
   "cell_type": "code",
   "execution_count": 9,
   "metadata": {},
   "outputs": [],
   "source": [
    "def maxHorizontalSpeedFrom(flightData, maxVerticalSpeed):\n",
    "    velN = flightData[flightData['velD', '(m/s)'] == maxVerticalSpeed]['velN', '(m/s)']\n",
    "    velE = flightData[flightData['velD', '(m/s)'] == maxVerticalSpeed]['velE', '(m/s)']\n",
    "    \n",
    "    return math.sqrt(velN**2+velE**2)   # R vector"
   ]
  },
  {
   "cell_type": "code",
   "execution_count": 10,
   "metadata": {},
   "outputs": [],
   "source": [
    "\"\"\"\n",
    "    Adjusts the flight data to compensate for DZ elevation AMSL.\n",
    "    \n",
    "    flightData - the raw FlySight data frame\n",
    "    elevation  - the elevation, in meters, to adjust\n",
    "    \n",
    "    All hMSL values in flightData will be offset by +elevation meters.\n",
    "\"\"\"\n",
    "def adjustElevation(flightData, elevation):\n",
    "    flightData['hAGL', '(m)'] = flightData['hMSL', '(m)']-elevation\n",
    "    \n",
    "    return flightData"
   ]
  },
  {
   "cell_type": "code",
   "execution_count": 13,
   "metadata": {},
   "outputs": [
    {
     "data": {
      "text/plain": [
       "fileName       ./data-sources/ciurana/22-20-00.CSV\n",
       "maxSpeed                                   381.924\n",
       "bestSpeed                                        0\n",
       "pitch                                      67.7972\n",
       "startCourse                                1762.13\n",
       "endCourse                                   1712.3\n",
       "dtype: object"
      ]
     },
     "execution_count": 13,
     "metadata": {},
     "output_type": "execute_result"
    }
   ],
   "source": [
    "def calculateSpeedAndPitchFor(fileName, elevation = 0.00):\n",
    "    \"\"\"\n",
    "    Accepts a file name to a FlySight data file.\n",
    "    \n",
    "    Returns a Series with the results of a speed skydiving jump.\n",
    "    \"\"\"\n",
    "    flightData  = adjustElevation(pd.read_csv(fileName, header = [0, 1]), elevation)\n",
    "    flightData  = _discardDataOutsideCourse(flightData)\n",
    "\n",
    "    maxSpeed, \\\n",
    "    bestSpeed, \\\n",
    "    startCourse, \\\n",
    "    endCourse = _calculateCourseSpeedUsing(flightData)\n",
    "    \n",
    "    pitchR       = math.atan(maxSpeed/maxHorizontalSpeedFrom(flightData, maxSpeed))\n",
    "    # maxSpeedTime = flightData[flightData['velD', '(m/s)'] == maxSpeed]['time', 'Unnamed: 0_level_1'].values[0]\n",
    "    \n",
    "    skydiveResults = pd.Series(\n",
    "                        [\n",
    "                            fileName,\n",
    "                            3.6*maxSpeed,  # km/h; 3,600 seconds, 1,000 meters\n",
    "                            3.6*bestSpeed,\n",
    "                            pitchR/DEG_IN_RAD,\n",
    "                            startCourse,\n",
    "                            endCourse,\n",
    "                        ],\n",
    "                        [\n",
    "                            'fileName',\n",
    "                            'maxSpeed',\n",
    "                            'bestSpeed',\n",
    "                            'pitch',\n",
    "                            'startCourse',\n",
    "                            'endCourse',\n",
    "\n",
    "                        ])\n",
    "\n",
    "    return skydiveResults\n",
    "#     flightData.to_csv('./data-sources/test.csv')\n",
    "#     return flightData\n",
    "\n",
    "\n",
    "calculateSpeedAndPitchFor(os.path.join(DATA_SOURCE, FLYSIGHT_DATA_FILE), elevation = DZ_AMSL)"
   ]
  },
  {
   "cell_type": "markdown",
   "metadata": {},
   "source": [
    "## Listing FlySight data files with valid data"
   ]
  },
  {
   "cell_type": "markdown",
   "metadata": {},
   "source": [
    "This set up generates a list of FlySight data files ready for analysis.  It discards any warm up FlySight data files, those that show no significant changes in elevation MSL across the complete data set.\n",
    "\n",
    "The list generator uses the `DATA_SOURCE` global variable.  [Change the value of `DATA_SOURCE`](#l_data-def) if necessary.\n",
    "\n",
    "1. Generate the list of available data files\n",
    "1. Discard FlySight warm up files by rejecting files without jump data (test:  minimal altitude changes)"
   ]
  },
  {
   "cell_type": "markdown",
   "metadata": {},
   "source": [
    "![Scoring FlySight files list generation diagram](images/SSScoring-list-scoring-files.png)"
   ]
  },
  {
   "cell_type": "code",
   "execution_count": 14,
   "metadata": {},
   "outputs": [],
   "source": [
    "def listDataFilesIn(bucketPath):\n",
    "    \"\"\"\n",
    "    Generate a sorted list of files available in a given bucketPath.\n",
    "    Files names appear in reverse lexicographical order.\n",
    "    \"\"\"\n",
    "\n",
    "    filesList = pd.Series([os.path.join(bucketPath, fileName) for fileName in sorted(os.listdir(bucketPath), reverse = True) if '.CSV' in fileName or '.csv' in fileName])\n",
    "    \n",
    "    return filesList;"
   ]
  },
  {
   "cell_type": "code",
   "execution_count": 15,
   "metadata": {},
   "outputs": [],
   "source": [
    "def _hasValidJumpData(fileName):\n",
    "    flightData = pd.read_csv(fileName, header = [0, 1])['hMSL', '(m)']\n",
    "    \n",
    "    return flightData.std() >= VALID_MSL"
   ]
  },
  {
   "cell_type": "code",
   "execution_count": 16,
   "metadata": {},
   "outputs": [],
   "source": [
    "def selectValidFlySightFilesFrom(dataFiles):\n",
    "    included = dataFiles.apply(_hasValidJumpData)\n",
    "    \n",
    "    return pd.Series(dataFiles)[included]"
   ]
  },
  {
   "cell_type": "code",
   "execution_count": 17,
   "metadata": {},
   "outputs": [
    {
     "data": {
      "text/plain": [
       "0    ./data-sources/ciurana/23-17-01.CSV\n",
       "1    ./data-sources/ciurana/22-20-00.CSV\n",
       "2    ./data-sources/ciurana/21-05-17.CSV\n",
       "3    ./data-sources/ciurana/20-03-57.CSV\n",
       "dtype: object"
      ]
     },
     "execution_count": 17,
     "metadata": {},
     "output_type": "execute_result"
    }
   ],
   "source": [
    "dataFiles = selectValidFlySightFilesFrom(listDataFilesIn(DATA_SOURCE))\n",
    "dataFiles"
   ]
  },
  {
   "cell_type": "markdown",
   "metadata": {},
   "source": [
    "## Top speed and pitch analysis on all tracks in the data lake"
   ]
  },
  {
   "cell_type": "markdown",
   "metadata": {},
   "source": [
    "Takes all the FlySight files in a bucket, detects the ones with valid data, and runs performance analysis over them.  Packs all the results in a data frame, then calculates:\n",
    "\n",
    "* Average speed\n",
    "* Max average speed"
   ]
  },
  {
   "cell_type": "markdown",
   "metadata": {},
   "source": [
    "### Populate data sources"
   ]
  },
  {
   "cell_type": "code",
   "execution_count": 18,
   "metadata": {},
   "outputs": [
    {
     "name": "stdout",
     "output_type": "stream",
     "text": [
      "moved 0 CSV files from data lake [./data-lake] to data source [./data-sources/ciurana]\n"
     ]
    }
   ],
   "source": [
    "DATA_LAKE   = './data-lake'\n",
    "DATA_SOURCE = './data-sources/ciurana'\n",
    "\n",
    "ssscore.updateFlySightDataSource(DATA_LAKE, DATA_SOURCE)"
   ]
  },
  {
   "cell_type": "code",
   "execution_count": 32,
   "metadata": {},
   "outputs": [
    {
     "name": "stdout",
     "output_type": "stream",
     "text": [
      "moved 0 CSV files from data lake [./data-lake] to data source [./data-sources/landgren]\n"
     ]
    }
   ],
   "source": [
    "DATA_LAKE   = './data-lake'\n",
    "DATA_SOURCE = './data-sources/landgren'\n",
    "\n",
    "ssscore.updateFlySightDataSource(DATA_LAKE, DATA_SOURCE)"
   ]
  },
  {
   "cell_type": "markdown",
   "metadata": {},
   "source": [
    "### Analyze all files in the bucket"
   ]
  },
  {
   "cell_type": "code",
   "execution_count": 19,
   "metadata": {},
   "outputs": [
    {
     "data": {
      "text/html": [
       "<div>\n",
       "<style scoped>\n",
       "    .dataframe tbody tr th:only-of-type {\n",
       "        vertical-align: middle;\n",
       "    }\n",
       "\n",
       "    .dataframe tbody tr th {\n",
       "        vertical-align: top;\n",
       "    }\n",
       "\n",
       "    .dataframe thead th {\n",
       "        text-align: right;\n",
       "    }\n",
       "</style>\n",
       "<table border=\"1\" class=\"dataframe\">\n",
       "  <thead>\n",
       "    <tr style=\"text-align: right;\">\n",
       "      <th></th>\n",
       "      <th>fileName</th>\n",
       "      <th>maxSpeed</th>\n",
       "      <th>bestSpeed</th>\n",
       "      <th>pitch</th>\n",
       "      <th>startCourse</th>\n",
       "      <th>endCourse</th>\n",
       "    </tr>\n",
       "  </thead>\n",
       "  <tbody>\n",
       "    <tr>\n",
       "      <th>0</th>\n",
       "      <td>./data-sources/ciurana/23-17-01.CSV</td>\n",
       "      <td>377.352</td>\n",
       "      <td>0.0</td>\n",
       "      <td>71.620933</td>\n",
       "      <td>4164.380</td>\n",
       "      <td>1707.171</td>\n",
       "    </tr>\n",
       "    <tr>\n",
       "      <th>1</th>\n",
       "      <td>./data-sources/ciurana/22-20-00.CSV</td>\n",
       "      <td>381.924</td>\n",
       "      <td>0.0</td>\n",
       "      <td>67.797208</td>\n",
       "      <td>1792.609</td>\n",
       "      <td>1706.337</td>\n",
       "    </tr>\n",
       "    <tr>\n",
       "      <th>2</th>\n",
       "      <td>./data-sources/ciurana/21-05-17.CSV</td>\n",
       "      <td>380.052</td>\n",
       "      <td>0.0</td>\n",
       "      <td>71.623893</td>\n",
       "      <td>1736.275</td>\n",
       "      <td>1702.276</td>\n",
       "    </tr>\n",
       "    <tr>\n",
       "      <th>3</th>\n",
       "      <td>./data-sources/ciurana/20-03-57.CSV</td>\n",
       "      <td>364.104</td>\n",
       "      <td>0.0</td>\n",
       "      <td>64.330662</td>\n",
       "      <td>4110.713</td>\n",
       "      <td>1714.890</td>\n",
       "    </tr>\n",
       "  </tbody>\n",
       "</table>\n",
       "</div>"
      ],
      "text/plain": [
       "                              fileName  maxSpeed  bestSpeed      pitch  \\\n",
       "0  ./data-sources/ciurana/23-17-01.CSV   377.352        0.0  71.620933   \n",
       "1  ./data-sources/ciurana/22-20-00.CSV   381.924        0.0  67.797208   \n",
       "2  ./data-sources/ciurana/21-05-17.CSV   380.052        0.0  71.623893   \n",
       "3  ./data-sources/ciurana/20-03-57.CSV   364.104        0.0  64.330662   \n",
       "\n",
       "   startCourse  endCourse  \n",
       "0     4164.380   1707.171  \n",
       "1     1792.609   1706.337  \n",
       "2     1736.275   1702.276  \n",
       "3     4110.713   1714.890  "
      ]
     },
     "execution_count": 19,
     "metadata": {},
     "output_type": "execute_result"
    }
   ],
   "source": [
    "allCompetitionJumps = selectValidFlySightFilesFrom(listDataFilesIn(DATA_SOURCE)).apply(calculateSpeedAndPitchFor)\n",
    "allCompetitionJumps"
   ]
  },
  {
   "cell_type": "markdown",
   "metadata": {},
   "source": [
    "### Summary of results"
   ]
  },
  {
   "cell_type": "code",
   "execution_count": 20,
   "metadata": {},
   "outputs": [
    {
     "data": {
      "text/plain": [
       "totalJumps      4.000000\n",
       "meanSpeed     375.858000\n",
       "pitch          68.843174\n",
       "maxSpeed      381.924000\n",
       "maxPitch       71.623893\n",
       "dtype: float64"
      ]
     },
     "execution_count": 20,
     "metadata": {},
     "output_type": "execute_result"
    }
   ],
   "source": [
    "summary = pd.Series(\n",
    "            [\n",
    "                len(allCompetitionJumps),\n",
    "                allCompetitionJumps['maxSpeed'].mean(),\n",
    "                allCompetitionJumps['pitch'].mean(),\n",
    "                allCompetitionJumps['maxSpeed'].max(),\n",
    "                allCompetitionJumps['pitch'].max(),\n",
    "            ],\n",
    "            [\n",
    "                'totalJumps',\n",
    "                'meanSpeed',\n",
    "                'pitch',\n",
    "                'maxSpeed',\n",
    "                'maxPitch',\n",
    "            ])\n",
    "\n",
    "summary"
   ]
  },
  {
   "cell_type": "code",
   "execution_count": null,
   "metadata": {},
   "outputs": [],
   "source": []
  }
 ],
 "metadata": {
  "kernelspec": {
   "display_name": "Python 3",
   "language": "python",
   "name": "python3"
  },
  "language_info": {
   "codemirror_mode": {
    "name": "ipython",
    "version": 3
   },
   "file_extension": ".py",
   "mimetype": "text/x-python",
   "name": "python",
   "nbconvert_exporter": "python",
   "pygments_lexer": "ipython3",
   "version": "3.7.3"
  }
 },
 "nbformat": 4,
 "nbformat_minor": 2
}
