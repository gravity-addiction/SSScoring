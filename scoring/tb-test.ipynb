{
 "cells": [
  {
   "cell_type": "code",
   "execution_count": null,
   "metadata": {},
   "outputs": [],
   "source": [
    "%matplotlib inline\n",
    "import matplotlib.pyplot as plt\n",
    "import seaborn as sns\n",
    "plt.style.use(['seaborn-darkgrid'])\n",
    "\n",
    "import pandas as pd\n",
    "import datetime"
   ]
  },
  {
   "cell_type": "code",
   "execution_count": null,
   "metadata": {},
   "outputs": [],
   "source": [
    "heights=[0,2500,5000,6000,5800,7500,8800,8400,10000,12500,7000,2500,1000,500,100,10,10]\n",
    "elevation = pd.DataFrame({\n",
    "    'elevation':heights,\n",
    "    'time':range(-100*len(heights),0,100)\n",
    "}).set_index('time')"
   ]
  },
  {
   "cell_type": "code",
   "execution_count": null,
   "metadata": {},
   "outputs": [],
   "source": [
    "elevation.plot()"
   ]
  },
  {
   "cell_type": "code",
   "execution_count": null,
   "metadata": {},
   "outputs": [],
   "source": [
    "elevation['velocity']=elevation.diff()\n",
    "elevation"
   ]
  },
  {
   "cell_type": "code",
   "execution_count": null,
   "metadata": {},
   "outputs": [],
   "source": [
    "def best_segment(df):\n",
    "    df_=df.copy().reset_index().sort_values('time') # sort by time column here also \n",
    "    df_['positive']=(df_['velocity']>0)\n",
    "    df_['grp']=(df_['positive']!=df_['positive'].shift(1)).astype(int).cumsum()\n",
    "    grps=df_.groupby('grp')[['time','elevation']].agg([min,max])\n",
    "    grps['drop']=(grps[('elevation','max')]-grps[('elevation','min')]).apply(abs)\n",
    "    return grps.loc[grps.idxmax()['drop']  ]\n"
   ]
  },
  {
   "cell_type": "code",
   "execution_count": null,
   "metadata": {},
   "outputs": [],
   "source": [
    "best_segment(elevation)"
   ]
  }
 ],
 "metadata": {
  "anaconda-cloud": {},
  "kernelspec": {
   "display_name": "Python 3",
   "language": "python",
   "name": "python3"
  },
  "language_info": {
   "codemirror_mode": {
    "name": "ipython",
    "version": 3
   },
   "file_extension": ".py",
   "mimetype": "text/x-python",
   "name": "python",
   "nbconvert_exporter": "python",
   "pygments_lexer": "ipython3",
   "version": "3.6.6"
  }
 },
 "nbformat": 4,
 "nbformat_minor": 2
}
