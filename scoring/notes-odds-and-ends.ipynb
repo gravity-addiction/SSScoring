{
 "cells": [
  {
   "cell_type": "markdown",
   "metadata": {},
   "source": [
    "# Notes odds and ends "
   ]
  },
  {
   "cell_type": "markdown",
   "metadata": {},
   "source": [
    "## Miscellaneous links"
   ]
  },
  {
   "cell_type": "markdown",
   "metadata": {},
   "source": [
    "* FlySight [file format reference](http://flysight.ca/wiki/index.php/File_format)'\n",
    "* ISSA [live results](http://speed-skydiving.com/index.php/live-results-menu/results-2019)\n",
    "* macOS [Manipulating Disks and Volumes API](https://developer.apple.com/library/archive/documentation/DriversKernelHardware/Conceptual/DiskArbitrationProgGuide/ManipulatingDisks/ManipulatingDisks.html)\n",
    "* pandas [API reference](https://pandas.pydata.org/pandas-docs/stable/reference/index.html)\n",
    "* Python [Standard Library Reference](https://docs.python.org/3/library/index.html)"
   ]
  },
  {
   "cell_type": "markdown",
   "metadata": {},
   "source": [
    "# Variation detection"
   ]
  },
  {
   "cell_type": "markdown",
   "metadata": {},
   "source": [
    "## cumsum() method"
   ]
  },
  {
   "cell_type": "code",
   "execution_count": null,
   "metadata": {},
   "outputs": [],
   "source": [
    "import pandas as pd\n",
    "\n",
    "def ngroups(df):\n",
    "    df_=df.copy() # sort by time column here also \n",
    "    df_['positive']=(df_['magnitude']>0)\n",
    "    df_['grp']=(df_['positive']!=df_['positive'].shift(1)).astype(int).cumsum()\n",
    "    # return df_['grp'].max()\n",
    "    # return df_['grp']\n",
    "    return df_"
   ]
  },
  {
   "cell_type": "code",
   "execution_count": null,
   "metadata": {},
   "outputs": [],
   "source": [
    "data = pd.DataFrame([5,4,3,2, -1,-1, 1, 0,-1,-2],columns=['magnitude'])"
   ]
  },
  {
   "cell_type": "code",
   "execution_count": null,
   "metadata": {},
   "outputs": [],
   "source": [
    "ngroups(data)"
   ]
  },
  {
   "cell_type": "code",
   "execution_count": null,
   "metadata": {},
   "outputs": [],
   "source": [
    "data"
   ]
  },
  {
   "cell_type": "markdown",
   "metadata": {},
   "source": [
    "### Variation detection with plotting"
   ]
  },
  {
   "cell_type": "code",
   "execution_count": null,
   "metadata": {},
   "outputs": [],
   "source": [
    "%matplotlib inline\n",
    "import matplotlib.pyplot as plt\n",
    "import seaborn as sns\n",
    "plt.style.use(['seaborn-darkgrid'])\n",
    "\n",
    "import pandas as pd\n",
    "import datetime"
   ]
  },
  {
   "cell_type": "code",
   "execution_count": null,
   "metadata": {},
   "outputs": [],
   "source": [
    "heights=[0,2500,5000,6000,5800,7500,8800,8400,10000,12500,7000,2500,1000,500,100,10,10]\n",
    "elevation = pd.DataFrame({\n",
    "    'elevation':heights,\n",
    "    'time':range(-100*len(heights),0,100)\n",
    "}).set_index('time')"
   ]
  },
  {
   "cell_type": "code",
   "execution_count": null,
   "metadata": {},
   "outputs": [],
   "source": [
    "elevation.plot()"
   ]
  }
 ],
 "metadata": {
  "kernelspec": {
   "display_name": "Python 3",
   "language": "python",
   "name": "python3"
  },
  "language_info": {
   "codemirror_mode": {
    "name": "ipython",
    "version": 3
   },
   "file_extension": ".py",
   "mimetype": "text/x-python",
   "name": "python",
   "nbconvert_exporter": "python",
   "pygments_lexer": "ipython3",
   "version": "3.7.3"
  }
 },
 "nbformat": 4,
 "nbformat_minor": 2
}
