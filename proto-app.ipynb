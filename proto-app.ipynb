{
 "cells": [
  {
   "cell_type": "markdown",
   "id": "15946e7b-921c-4535-b8de-8a2ebee384d9",
   "metadata": {},
   "source": [
    "# Analyzing a single speed skydive"
   ]
  },
  {
   "cell_type": "code",
   "execution_count": null,
   "id": "7360bf82-d2d1-4572-af1f-cbc6e3d6ebde",
   "metadata": {
    "jupyter": {
     "source_hidden": true
    }
   },
   "outputs": [],
   "source": [
    "from ssscoring import convertFlySight2SSScoring\n",
    "from ssscoring import dropNonSkydiveDataFrom\n",
    "from ssscoring import getSpeedSkydiveFrom\n",
    "from ssscoring import isValidJump\n",
    "from ssscoring import jumpAnalysisTable\n",
    "\n",
    "import io\n",
    "\n",
    "import bokeh.plotting as bp\n",
    "import ipywidgets as widgets\n",
    "import matplotlib.pyplot as plt\n",
    "import pandas as pd\n",
    "\n",
    "# Initializations:\n",
    "bp.output_notebook(hide_banner = True)"
   ]
  },
  {
   "cell_type": "markdown",
   "id": "bf3b2d66-1300-4eab-9256-3a0c80c0a0c5",
   "metadata": {},
   "source": [
    "## Get the data"
   ]
  },
  {
   "cell_type": "code",
   "execution_count": null,
   "id": "b72430d4-f19b-4e34-a8a4-2fe0e3ff2d49",
   "metadata": {},
   "outputs": [],
   "source": [
    "uploader = widgets.FileUpload(description = 'Speed CSV', tooltip = 'FlySight speed file')\n",
    "display(uploader)"
   ]
  },
  {
   "cell_type": "markdown",
   "id": "f860d27c-585a-4784-92ff-c02376226deb",
   "metadata": {},
   "source": [
    "## Results"
   ]
  },
  {
   "cell_type": "code",
   "execution_count": null,
   "id": "392f2254-b467-42e3-9777-c8002cf4ddc2",
   "metadata": {
    "jupyter": {
     "source_hidden": true
    }
   },
   "outputs": [],
   "source": [
    "def processJump(data):\n",
    "    data = data.copy()\n",
    "    data = dropNonSkydiveDataFrom(data)\n",
    "    window, data = getSpeedSkydiveFrom(data)\n",
    "    validJump = isValidJump(data, window)\n",
    "    score = 0.0\n",
    "    \n",
    "    if validJump:\n",
    "        maxSpeed, table = jumpAnalysisTable(data)\n",
    "        color = '#0f0'\n",
    "        result = '🟢 valid'\n",
    "        baseTime = data.iloc[0].timeUnix\n",
    "        data['plotTime'] = data.timeUnix-baseTime\n",
    "    \n",
    "        scores = dict()  \n",
    "        for spot in data.plotTime:\n",
    "            r0 = data[data.plotTime == spot]\n",
    "            r1 = data[data.plotTime == spot+3.0]\n",
    "        \n",
    "            if not r1.empty:\n",
    "                scores[0.5*(float(r0.vKMh.iloc[0])+float(r1.vKMh.iloc[0]))] = spot\n",
    "        score = max(scores)\n",
    "\n",
    "    else:\n",
    "        color = '#f00'\n",
    "        result = '🔴 invalid'\n",
    "\n",
    "    return (score, maxSpeed, scores, data, window, table, color, result)"
   ]
  },
  {
   "cell_type": "code",
   "execution_count": null,
   "id": "cf54a979-bf52-4aef-8e67-b4f8fa4b1832",
   "metadata": {},
   "outputs": [],
   "source": [
    "data = convertFlySight2SSScoring(pd.read_csv(io.BytesIO(uploader.value[0].content), skiprows= (1,1)))\n",
    "score, maxSpeed, scores, data, window, table, color, result = processJump(data)\n",
    "validJumpStatus = '<hr><h1><span style=\"color: %s\">%s jump - score = %.02f km/h</span></h1>' % (color, result, score)    "
   ]
  },
  {
   "cell_type": "code",
   "execution_count": null,
   "id": "7ecbda30-fc99-428f-84ad-cd142c77eb57",
   "metadata": {
    "jupyter": {
     "source_hidden": true
    }
   },
   "outputs": [],
   "source": [
    "p = bp.figure(title = 'speed skydive',\n",
    "              height = 300,\n",
    "              width = 600,\n",
    "              x_axis_label = 'seconds from exit',\n",
    "              y_axis_label = 'km/h',\n",
    "              x_range = (0, 30),\n",
    "              y_range = (0, 550))"
   ]
  },
  {
   "cell_type": "code",
   "execution_count": null,
   "id": "97754d83-5d14-4fb9-8176-fe5bce918b78",
   "metadata": {
    "jupyter": {
     "source_hidden": true
    }
   },
   "outputs": [],
   "source": [
    "display(widgets.HTML(validJumpStatus))\n",
    "if validJump:\n",
    "    display(widgets.HTML('<h3>Max speed = {0:,.0f}; '.format(maxSpeed)+('exit at %d m (%d ft), breakoff at %d m (%d ft)</h3>'%(window.start, 3.2808*window.start, window.end, 3.2808*window.end))))\n",
    "    display(table)\n",
    "    p.line(data.plotTime, data.vKMh, legend_label = 'speed', line_width = 2, line_color = 'green')\n",
    "    p.segment(x0 = [ scores[score], scores[score]+3.0, ], y0 = [ 0.0, 0.0, ], x1 = [ scores[score], scores[score]+3.0, ], y1 = [ maxSpeed, maxSpeed, ])\n",
    "    bp.show(p)"
   ]
  },
  {
   "cell_type": "markdown",
   "id": "049b6d40-628c-4145-992e-b4216f29a019",
   "metadata": {},
   "source": [
    "## Compare two jumps"
   ]
  },
  {
   "cell_type": "code",
   "execution_count": null,
   "id": "23995ad2-8415-4936-a7b8-6811b3630765",
   "metadata": {},
   "outputs": [],
   "source": [
    "p = bp.figure(title = 'speed skydive',\n",
    "              height = 300,\n",
    "              width = 600,\n",
    "              x_axis_label = 'seconds from exit',\n",
    "              y_axis_label = 'km/h',\n",
    "              x_range = (0, 30),\n",
    "              y_range = (0, 550))"
   ]
  },
  {
   "cell_type": "code",
   "execution_count": null,
   "id": "26674013-d090-48b5-b6d7-69afa3c462bd",
   "metadata": {},
   "outputs": [],
   "source": [
    "uploader = widgets.FileUpload(description = 'Speed CSV', tooltip = 'FlySight speed file')\n",
    "display(uploader)"
   ]
  },
  {
   "cell_type": "code",
   "execution_count": null,
   "id": "b85192e7-1c1b-4c7c-ad02-dd52038df6e1",
   "metadata": {},
   "outputs": [],
   "source": [
    "data = convertFlySight2SSScoring(pd.read_csv(io.BytesIO(uploader.value[0].content), skiprows= (1,1)))\n",
    "score, maxSpeed, scores, data, window, table, color, result = processJump(data)"
   ]
  },
  {
   "cell_type": "code",
   "execution_count": null,
   "id": "56ef023c-5401-4bf7-b7c6-d642f107372b",
   "metadata": {},
   "outputs": [],
   "source": [
    "if validJump:\n",
    "    p.line(data.plotTime, data.vKMh, legend_label = 'speed', line_width = 2, line_color = 'green')"
   ]
  },
  {
   "cell_type": "code",
   "execution_count": null,
   "id": "d8b15df8-b815-4bb7-a169-5daad6545b0b",
   "metadata": {},
   "outputs": [],
   "source": [
    "uploader = widgets.FileUpload(description = 'Speed CSV', tooltip = 'FlySight speed file')\n",
    "display(uploader)"
   ]
  },
  {
   "cell_type": "code",
   "execution_count": null,
   "id": "9709fc1e-da6a-4df5-a2a5-86c7134d0196",
   "metadata": {},
   "outputs": [],
   "source": [
    "data = convertFlySight2SSScoring(pd.read_csv(io.BytesIO(uploader.value[0].content), skiprows= (1,1)))\n",
    "score, maxSpeed, scores, data, window, table, color, result = processJump(data)"
   ]
  },
  {
   "cell_type": "code",
   "execution_count": null,
   "id": "5e0d11e4-8dce-4810-b43d-36d329c67da9",
   "metadata": {},
   "outputs": [],
   "source": [
    "if validJump:\n",
    "    p.line(data.plotTime, data.vKMh, legend_label = 'speed 2', line_width = 2, line_color = 'blue')"
   ]
  },
  {
   "cell_type": "code",
   "execution_count": null,
   "id": "c6b80302-2a8c-41e8-bde5-6aed9003604a",
   "metadata": {},
   "outputs": [],
   "source": [
    "bp.show(p)"
   ]
  },
  {
   "cell_type": "code",
   "execution_count": null,
   "id": "d399be20-ccfd-4afc-8448-1cdb7a84fb7e",
   "metadata": {},
   "outputs": [],
   "source": [
    "score"
   ]
  },
  {
   "cell_type": "code",
   "execution_count": null,
   "id": "ba0f9a03-df8a-45df-9234-94e9cfb42e6c",
   "metadata": {},
   "outputs": [],
   "source": []
  }
 ],
 "metadata": {
  "kernelspec": {
   "display_name": "Python 3 (ipykernel)",
   "language": "python",
   "name": "python3"
  },
  "language_info": {
   "codemirror_mode": {
    "name": "ipython",
    "version": 3
   },
   "file_extension": ".py",
   "mimetype": "text/x-python",
   "name": "python",
   "nbconvert_exporter": "python",
   "pygments_lexer": "ipython3",
   "version": "3.11.4"
  }
 },
 "nbformat": 4,
 "nbformat_minor": 5
}
