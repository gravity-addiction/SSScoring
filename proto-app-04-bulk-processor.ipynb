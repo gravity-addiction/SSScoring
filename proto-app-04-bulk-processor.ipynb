{
 "cells": [
  {
   "cell_type": "markdown",
   "id": "12683b83-af00-4386-9d59-569068e265fb",
   "metadata": {},
   "source": [
    "# Bulk processor and improved FlySight file and jump validation\n",
    "\n",
    "Uses `./data` as a data lake."
   ]
  },
  {
   "cell_type": "code",
   "execution_count": 1,
   "id": "2768c7af-c522-441c-86f6-459ca4bb59f2",
   "metadata": {},
   "outputs": [],
   "source": [
    "%%capture\n",
    "!x=$(pip list | awk '/haversine/') ; [[ -z \"$x\" ]] && make local"
   ]
  },
  {
   "cell_type": "markdown",
   "id": "2cecfa30-de7d-4da9-b3b0-4377d77781a4",
   "metadata": {},
   "source": [
    "---\n",
    "## Set DZ altitude MSL\n",
    "\n",
    "Set the value in ft.\n",
    "\n",
    "### Some DZs\n",
    "\n",
    "| Drop zone | Alt (ft) |\n",
    "|-----------|----------|\n",
    "| Bay Area Skydiving | 23 |\n",
    "| Paraclete XP| 304 |\n",
    "| SkyDance SkyDiving | 100 |\n",
    "| Skydive Arizona | 1509 |\n",
    "| Skydive Chicago | 616 |\n",
    "| Thai Sky Adventures | 21 |"
   ]
  },
  {
   "cell_type": "code",
   "execution_count": null,
   "id": "d6945e5d-b64b-408d-b3f3-31e0e9f76374",
   "metadata": {},
   "outputs": [],
   "source": []
  }
 ],
 "metadata": {
  "kernelspec": {
   "display_name": "Python 3 (ipykernel)",
   "language": "python",
   "name": "python3"
  },
  "language_info": {
   "codemirror_mode": {
    "name": "ipython",
    "version": 3
   },
   "file_extension": ".py",
   "mimetype": "text/x-python",
   "name": "python",
   "nbconvert_exporter": "python",
   "pygments_lexer": "ipython3",
   "version": "3.11.10"
  }
 },
 "nbformat": 4,
 "nbformat_minor": 5
}
