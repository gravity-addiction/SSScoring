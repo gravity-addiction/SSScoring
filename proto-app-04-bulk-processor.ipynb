{
 "cells": [
  {
   "cell_type": "markdown",
   "id": "12683b83-af00-4386-9d59-569068e265fb",
   "metadata": {},
   "source": [
    "# Bulk processor and improved FlySight file and jump validation\n",
    "\n",
    "Uses `./data` as a data lake."
   ]
  },
  {
   "cell_type": "code",
   "execution_count": null,
   "id": "2768c7af-c522-441c-86f6-459ca4bb59f2",
   "metadata": {
    "jupyter": {
     "source_hidden": true
    }
   },
   "outputs": [],
   "source": [
    "%%capture\n",
    "!x=$(pip list | awk '/haversine/') ; [[ -z \"$x\" ]] && make local"
   ]
  },
  {
   "cell_type": "code",
   "execution_count": 5,
   "id": "a3717f50-94a0-4023-9c31-a2ba3d2da3c4",
   "metadata": {},
   "outputs": [],
   "source": [
    "from pathlib import Path\n",
    "\n",
    "import warnings\n",
    "\n",
    "import bokeh.models as bm\n",
    "import bokeh.plotting as bp\n",
    "import ipywidgets as widgets\n",
    "import pandas as pd"
   ]
  },
  {
   "cell_type": "code",
   "execution_count": 28,
   "id": "22dfda53-510e-4a71-a992-6619f3bdbb14",
   "metadata": {},
   "outputs": [],
   "source": [
    "from ssscoring.calc import aggregateResults\n",
    "from ssscoring.calc import convertFlySight2SSScoring\n",
    "from ssscoring.calc import getFlySightDataFromCSVFileName\n",
    "from ssscoring.calc import isValidMaximumAltitude\n",
    "from ssscoring.calc import isValidMinimumAltitude\n",
    "from ssscoring.calc import processAllJumpFiles\n",
    "from ssscoring.calc import processJump\n",
    "from ssscoring.calc import roundedAggregateResults\n",
    "from ssscoring.calc import totalResultsFrom\n",
    "from ssscoring.datatypes import JumpStatus\n",
    "from ssscoring.constants import FT_IN_M\n",
    "from ssscoring.flysight import getAllSpeedJumpFilesFrom\n",
    "from ssscoring.notebook import SPEED_COLORS\n",
    "from ssscoring.notebook import graphAltitude\n",
    "from ssscoring.notebook import graphAngle\n",
    "from ssscoring.notebook import graphJumpResult\n",
    "from ssscoring.notebook import initializeExtraYRanges\n",
    "from ssscoring.notebook import initializePlot"
   ]
  },
  {
   "cell_type": "markdown",
   "id": "2cecfa30-de7d-4da9-b3b0-4377d77781a4",
   "metadata": {},
   "source": [
    "---\n",
    "## Set DZ altitude MSL\n",
    "\n",
    "Set the value in ft.  Wingsuit World <a href='https://wingsuit.world/dropzones/' target='_blank'>List of Dropzones</a> is a good resource."
   ]
  },
  {
   "cell_type": "code",
   "execution_count": 29,
   "id": "d6945e5d-b64b-408d-b3f3-31e0e9f76374",
   "metadata": {
    "jupyter": {
     "source_hidden": true
    }
   },
   "outputs": [
    {
     "data": {
      "text/html": [
       "<div>\n",
       "<style scoped>\n",
       "    .dataframe tbody tr th:only-of-type {\n",
       "        vertical-align: middle;\n",
       "    }\n",
       "\n",
       "    .dataframe tbody tr th {\n",
       "        vertical-align: top;\n",
       "    }\n",
       "\n",
       "    .dataframe thead th {\n",
       "        text-align: right;\n",
       "    }\n",
       "</style>\n",
       "<table border=\"1\" class=\"dataframe\">\n",
       "  <thead>\n",
       "    <tr style=\"text-align: right;\">\n",
       "      <th></th>\n",
       "      <th>Drop zone</th>\n",
       "      <th>Alt (ft)</th>\n",
       "    </tr>\n",
       "  </thead>\n",
       "  <tbody>\n",
       "    <tr>\n",
       "      <th>0</th>\n",
       "      <td>Aerodrom Tanay</td>\n",
       "      <td>699.0</td>\n",
       "    </tr>\n",
       "    <tr>\n",
       "      <th>1</th>\n",
       "      <td>Aerograd Kolomna</td>\n",
       "      <td>472.0</td>\n",
       "    </tr>\n",
       "    <tr>\n",
       "      <th>2</th>\n",
       "      <td>Bay Area Skydiving</td>\n",
       "      <td>23.0</td>\n",
       "    </tr>\n",
       "    <tr>\n",
       "      <th>3</th>\n",
       "      <td>Drop Zone Thailand</td>\n",
       "      <td>15.0</td>\n",
       "    </tr>\n",
       "    <tr>\n",
       "      <th>4</th>\n",
       "      <td>DZ Krutitcy</td>\n",
       "      <td>377.0</td>\n",
       "    </tr>\n",
       "    <tr>\n",
       "      <th>5</th>\n",
       "      <td>Fehrbellin</td>\n",
       "      <td>138.0</td>\n",
       "    </tr>\n",
       "    <tr>\n",
       "      <th>6</th>\n",
       "      <td>Lodi Parachute Center</td>\n",
       "      <td>59.0</td>\n",
       "    </tr>\n",
       "    <tr>\n",
       "      <th>7</th>\n",
       "      <td>Mile High</td>\n",
       "      <td>5500.0</td>\n",
       "    </tr>\n",
       "    <tr>\n",
       "      <th>8</th>\n",
       "      <td>Neustadt-Glewe</td>\n",
       "      <td>115.0</td>\n",
       "    </tr>\n",
       "    <tr>\n",
       "      <th>9</th>\n",
       "      <td>Paracaidismo Celaya</td>\n",
       "      <td>5734.0</td>\n",
       "    </tr>\n",
       "    <tr>\n",
       "      <th>10</th>\n",
       "      <td>Paraclete XP</td>\n",
       "      <td>304.0</td>\n",
       "    </tr>\n",
       "    <tr>\n",
       "      <th>11</th>\n",
       "      <td>Saarlouis-Düren</td>\n",
       "      <td>1119.0</td>\n",
       "    </tr>\n",
       "    <tr>\n",
       "      <th>12</th>\n",
       "      <td>SkyDance SkyDiving</td>\n",
       "      <td>100.0</td>\n",
       "    </tr>\n",
       "    <tr>\n",
       "      <th>13</th>\n",
       "      <td>Skydive Algarve</td>\n",
       "      <td>6.0</td>\n",
       "    </tr>\n",
       "    <tr>\n",
       "      <th>14</th>\n",
       "      <td>Skydive Arizona</td>\n",
       "      <td>1509.0</td>\n",
       "    </tr>\n",
       "    <tr>\n",
       "      <th>15</th>\n",
       "      <td>Skydive Buzz</td>\n",
       "      <td>840.0</td>\n",
       "    </tr>\n",
       "    <tr>\n",
       "      <th>16</th>\n",
       "      <td>Skydive Chicago</td>\n",
       "      <td>616.0</td>\n",
       "    </tr>\n",
       "    <tr>\n",
       "      <th>17</th>\n",
       "      <td>Skydive Fano</td>\n",
       "      <td>52.0</td>\n",
       "    </tr>\n",
       "    <tr>\n",
       "      <th>18</th>\n",
       "      <td>Skydive Netheravon</td>\n",
       "      <td>454.0</td>\n",
       "    </tr>\n",
       "    <tr>\n",
       "      <th>19</th>\n",
       "      <td>Skydive Perris</td>\n",
       "      <td>1414.0</td>\n",
       "    </tr>\n",
       "    <tr>\n",
       "      <th>20</th>\n",
       "      <td>Skydive Puebla</td>\n",
       "      <td>5744.0</td>\n",
       "    </tr>\n",
       "    <tr>\n",
       "      <th>21</th>\n",
       "      <td>Skydive Saulgau</td>\n",
       "      <td>1903.0</td>\n",
       "    </tr>\n",
       "    <tr>\n",
       "      <th>22</th>\n",
       "      <td>Skydive Teuge</td>\n",
       "      <td>15.0</td>\n",
       "    </tr>\n",
       "    <tr>\n",
       "      <th>23</th>\n",
       "      <td>Thai Sky Adventures</td>\n",
       "      <td>21.0</td>\n",
       "    </tr>\n",
       "  </tbody>\n",
       "</table>\n",
       "</div>"
      ],
      "text/plain": [
       "                Drop zone  Alt (ft)\n",
       "0          Aerodrom Tanay     699.0\n",
       "1        Aerograd Kolomna     472.0\n",
       "2      Bay Area Skydiving      23.0\n",
       "3      Drop Zone Thailand      15.0\n",
       "4             DZ Krutitcy     377.0\n",
       "5              Fehrbellin     138.0\n",
       "6   Lodi Parachute Center      59.0\n",
       "7               Mile High    5500.0\n",
       "8          Neustadt-Glewe     115.0\n",
       "9     Paracaidismo Celaya    5734.0\n",
       "10           Paraclete XP     304.0\n",
       "11        Saarlouis-Düren    1119.0\n",
       "12     SkyDance SkyDiving     100.0\n",
       "13        Skydive Algarve       6.0\n",
       "14        Skydive Arizona    1509.0\n",
       "15           Skydive Buzz     840.0\n",
       "16        Skydive Chicago     616.0\n",
       "17           Skydive Fano      52.0\n",
       "18     Skydive Netheravon     454.0\n",
       "19         Skydive Perris    1414.0\n",
       "20         Skydive Puebla    5744.0\n",
       "21        Skydive Saulgau    1903.0\n",
       "22          Skydive Teuge      15.0\n",
       "23    Thai Sky Adventures      21.0"
      ]
     },
     "execution_count": 29,
     "metadata": {},
     "output_type": "execute_result"
    }
   ],
   "source": [
    "\n",
    "dropZones = {\n",
    "    'Drop zone': [\n",
    "        'Aerodrom Tanay',\n",
    "        'Aerograd Kolomna',\n",
    "        'Bay Area Skydiving',\n",
    "        'Drop Zone Thailand',\n",
    "        'DZ Krutitcy',\n",
    "        'Fehrbellin',\n",
    "        'Lodi Parachute Center',\n",
    "        'Mile High',\n",
    "        'Neustadt-Glewe',\n",
    "        'Paracaidismo Celaya',\n",
    "        'Paraclete XP',\n",
    "        'Saarlouis-Düren',\n",
    "        'SkyDance SkyDiving',\n",
    "        'Skydive Algarve',\n",
    "        'Skydive Arizona',\n",
    "        'Skydive Buzz',\n",
    "        'Skydive Chicago',\n",
    "        'Skydive Fano',\n",
    "        'Skydive Netheravon',\n",
    "        'Skydive Perris',\n",
    "        'Skydive Puebla',\n",
    "        'Skydive Saulgau',\n",
    "        'Skydive Teuge',\n",
    "        'Thai Sky Adventures',\n",
    "    ],\n",
    "    'Alt (ft)': [\n",
    "        699.0,\n",
    "        472.0,\n",
    "        23.0,\n",
    "        15.0,\n",
    "        377.0,\n",
    "        138.0,\n",
    "        59.0,\n",
    "        5500.0,\n",
    "        115.0,\n",
    "        5734.0,\n",
    "        304.0,\n",
    "        1119.0,\n",
    "        100.0,\n",
    "        6.0,\n",
    "        1509.0,\n",
    "        840.0,\n",
    "        616.0,\n",
    "        52.0,\n",
    "        454.0,\n",
    "        1414.0,\n",
    "        5744.0,\n",
    "        1903.0,\n",
    "        15.0,\n",
    "        21.0,\n",
    "    ],\n",
    "}\n",
    "\n",
    "pd.DataFrame(dropZones, columns=[ 'Drop zone', 'Alt (ft)', ])"
   ]
  },
  {
   "cell_type": "code",
   "execution_count": 30,
   "id": "d947199b-00fb-4e8d-9960-40810fd1b049",
   "metadata": {},
   "outputs": [],
   "source": [
    "dropZoneAltMSL = 15.0\n",
    "ignoreBaseline = True"
   ]
  },
  {
   "cell_type": "code",
   "execution_count": 31,
   "id": "d78869b7-23ae-456e-bc86-53e5278cde94",
   "metadata": {
    "jupyter": {
     "source_hidden": true
    }
   },
   "outputs": [
    {
     "data": {
      "application/vnd.jupyter.widget-view+json": {
       "model_id": "fd5b51a848a24a9ab83af71d6c2104f8",
       "version_major": 2,
       "version_minor": 0
      },
      "text/plain": [
       "HTML(value='<h2>DZ Altitude = <span style = \"color: green\">  15.00 ft</span> (   4.57 m)<h1>')"
      ]
     },
     "metadata": {},
     "output_type": "display_data"
    }
   ],
   "source": [
    "dropZoneAltMSLMeters = dropZoneAltMSL/FT_IN_M\n",
    "display(widgets.HTML('<h2>DZ Altitude = <span style = \"color: green\">%7.2f ft</span> (%7.2f m)<h1>' % (dropZoneAltMSL, dropZoneAltMSLMeters)))"
   ]
  },
  {
   "cell_type": "code",
   "execution_count": 32,
   "id": "d1db80cc-9b99-44d8-b333-b61a5c8fd5ce",
   "metadata": {},
   "outputs": [],
   "source": [
    "jumpFiles = getAllSpeedJumpFilesFrom(Path('./data'))"
   ]
  },
  {
   "cell_type": "markdown",
   "id": "aee48243-0cdf-47b2-8f6b-bfa5fe655eb7",
   "metadata": {},
   "source": [
    "---\n",
    "## Process jump file\n"
   ]
  },
  {
   "cell_type": "code",
   "execution_count": 34,
   "id": "b09021e1-aa25-4edc-945c-57883c8240d9",
   "metadata": {},
   "outputs": [
    {
     "data": {
      "text/html": [
       "<div>\n",
       "<style scoped>\n",
       "    .dataframe tbody tr th:only-of-type {\n",
       "        vertical-align: middle;\n",
       "    }\n",
       "\n",
       "    .dataframe tbody tr th {\n",
       "        vertical-align: top;\n",
       "    }\n",
       "\n",
       "    .dataframe thead th {\n",
       "        text-align: right;\n",
       "    }\n",
       "</style>\n",
       "<table border=\"1\" class=\"dataframe\">\n",
       "  <thead>\n",
       "    <tr style=\"text-align: right;\">\n",
       "      <th></th>\n",
       "      <th>time</th>\n",
       "      <th>vKMh</th>\n",
       "      <th>hKMh</th>\n",
       "      <th>speedAngle</th>\n",
       "      <th>distanceFromExit (m)</th>\n",
       "      <th>altitude (ft)</th>\n",
       "      <th>netVectorKMh</th>\n",
       "    </tr>\n",
       "  </thead>\n",
       "  <tbody>\n",
       "    <tr>\n",
       "      <th>8360</th>\n",
       "      <td>5.0</td>\n",
       "      <td>171.972</td>\n",
       "      <td>131.877100</td>\n",
       "      <td>52.52</td>\n",
       "      <td>204.90</td>\n",
       "      <td>13307.505319</td>\n",
       "      <td>216.716262</td>\n",
       "    </tr>\n",
       "    <tr>\n",
       "      <th>8385</th>\n",
       "      <td>10.0</td>\n",
       "      <td>310.464</td>\n",
       "      <td>94.890189</td>\n",
       "      <td>73.00</td>\n",
       "      <td>365.79</td>\n",
       "      <td>12183.476993</td>\n",
       "      <td>324.641407</td>\n",
       "    </tr>\n",
       "    <tr>\n",
       "      <th>8410</th>\n",
       "      <td>15.0</td>\n",
       "      <td>409.140</td>\n",
       "      <td>65.271246</td>\n",
       "      <td>80.94</td>\n",
       "      <td>468.14</td>\n",
       "      <td>10511.915954</td>\n",
       "      <td>414.313740</td>\n",
       "    </tr>\n",
       "    <tr>\n",
       "      <th>8435</th>\n",
       "      <td>20.0</td>\n",
       "      <td>459.000</td>\n",
       "      <td>6.779575</td>\n",
       "      <td>89.15</td>\n",
       "      <td>516.96</td>\n",
       "      <td>8513.098397</td>\n",
       "      <td>459.050066</td>\n",
       "    </tr>\n",
       "    <tr>\n",
       "      <th>8460</th>\n",
       "      <td>25.0</td>\n",
       "      <td>462.240</td>\n",
       "      <td>27.270636</td>\n",
       "      <td>86.62</td>\n",
       "      <td>532.16</td>\n",
       "      <td>6398.153642</td>\n",
       "      <td>463.043740</td>\n",
       "    </tr>\n",
       "  </tbody>\n",
       "</table>\n",
       "</div>"
      ],
      "text/plain": [
       "      time     vKMh        hKMh  speedAngle  distanceFromExit (m)  \\\n",
       "8360   5.0  171.972  131.877100       52.52                204.90   \n",
       "8385  10.0  310.464   94.890189       73.00                365.79   \n",
       "8410  15.0  409.140   65.271246       80.94                468.14   \n",
       "8435  20.0  459.000    6.779575       89.15                516.96   \n",
       "8460  25.0  462.240   27.270636       86.62                532.16   \n",
       "\n",
       "      altitude (ft)  netVectorKMh  \n",
       "8360   13307.505319    216.716262  \n",
       "8385   12183.476993    324.641407  \n",
       "8410   10511.915954    414.313740  \n",
       "8435    8513.098397    459.050066  \n",
       "8460    6398.153642    463.043740  "
      ]
     },
     "metadata": {},
     "output_type": "display_data"
    },
    {
     "data": {
      "text/plain": [
       "PerformanceWindow(start=np.float64(4185.560944403804), end=np.float64(1929.5609444038037), validationStart=np.float64(2935.5609444038037))"
      ]
     },
     "metadata": {},
     "output_type": "display_data"
    }
   ],
   "source": [
    "warnings.filterwarnings('ignore', category=UserWarning) # FNV, conda issue\n",
    "jumpFilesList = list(jumpFiles.keys())\n",
    "if (len(jumpFilesList) > 1):\n",
    "    filePath = jumpFilesList[1]\n",
    "    rawData, tag = getFlySightDataFromCSVFileName(filePath)\n",
    "    data = convertFlySight2SSScoring(rawData, altitudeDZMeters=dropZoneAltMSLMeters)\n",
    "    jumpResult = processJump(data)\n",
    "    if jumpResult.status == JumpStatus.OK:\n",
    "        display(jumpResult.table)\n",
    "        display(jumpResult.window)"
   ]
  },
  {
   "cell_type": "markdown",
   "id": "032f588b-c2a0-4545-a679-e94df877d71f",
   "metadata": {},
   "source": [
    "---\n",
    "## Results"
   ]
  },
  {
   "cell_type": "code",
   "execution_count": 35,
   "id": "9be65f7e-e8e3-48bd-b445-2510ae605920",
   "metadata": {},
   "outputs": [
    {
     "data": {
      "text/html": [
       "<div>\n",
       "<style scoped>\n",
       "    .dataframe tbody tr th:only-of-type {\n",
       "        vertical-align: middle;\n",
       "    }\n",
       "\n",
       "    .dataframe tbody tr th {\n",
       "        vertical-align: top;\n",
       "    }\n",
       "\n",
       "    .dataframe thead th {\n",
       "        text-align: right;\n",
       "    }\n",
       "</style>\n",
       "<table border=\"1\" class=\"dataframe\">\n",
       "  <thead>\n",
       "    <tr style=\"text-align: right;\">\n",
       "      <th></th>\n",
       "      <th>score</th>\n",
       "      <th>5.0</th>\n",
       "      <th>10.0</th>\n",
       "      <th>15.0</th>\n",
       "      <th>20.0</th>\n",
       "      <th>25.0</th>\n",
       "      <th>finalTime</th>\n",
       "      <th>maxSpeed</th>\n",
       "    </tr>\n",
       "  </thead>\n",
       "  <tbody>\n",
       "    <tr>\n",
       "      <th>data 10-35-35:v1</th>\n",
       "      <td>467.91</td>\n",
       "      <td>175.032</td>\n",
       "      <td>316.944</td>\n",
       "      <td>414.252</td>\n",
       "      <td>458.64</td>\n",
       "      <td>464.832</td>\n",
       "      <td>24.8</td>\n",
       "      <td>469.404</td>\n",
       "    </tr>\n",
       "    <tr>\n",
       "      <th>data 12-01-20:v1</th>\n",
       "      <td>465.27</td>\n",
       "      <td>171.972</td>\n",
       "      <td>310.464</td>\n",
       "      <td>409.140</td>\n",
       "      <td>459.00</td>\n",
       "      <td>462.240</td>\n",
       "      <td>25.0</td>\n",
       "      <td>465.984</td>\n",
       "    </tr>\n",
       "  </tbody>\n",
       "</table>\n",
       "</div>"
      ],
      "text/plain": [
       "                   score      5.0     10.0     15.0    20.0     25.0  \\\n",
       "data 10-35-35:v1  467.91  175.032  316.944  414.252  458.64  464.832   \n",
       "data 12-01-20:v1  465.27  171.972  310.464  409.140  459.00  462.240   \n",
       "\n",
       "                  finalTime  maxSpeed  \n",
       "data 10-35-35:v1       24.8   469.404  \n",
       "data 12-01-20:v1       25.0   465.984  "
      ]
     },
     "execution_count": 35,
     "metadata": {},
     "output_type": "execute_result"
    }
   ],
   "source": [
    "warnings.filterwarnings('ignore', category=UserWarning) # FNV, conda issue\n",
    "jumpResults = processAllJumpFiles(jumpFiles=jumpFiles, altitudeDZMeters=dropZoneAltMSLMeters)\n",
    "aggregate = aggregateResults(jumpResults)\n",
    "aggregate"
   ]
  },
  {
   "cell_type": "markdown",
   "id": "d537b482-1450-4d46-af6e-ccf07fe480f4",
   "metadata": {},
   "source": [
    "### Rounded results for training log"
   ]
  },
  {
   "cell_type": "code",
   "execution_count": 36,
   "id": "02536e30-0d27-4c71-9baf-bb7619fee52a",
   "metadata": {
    "jupyter": {
     "source_hidden": true
    }
   },
   "outputs": [
    {
     "data": {
      "text/html": [
       "<div>\n",
       "<style scoped>\n",
       "    .dataframe tbody tr th:only-of-type {\n",
       "        vertical-align: middle;\n",
       "    }\n",
       "\n",
       "    .dataframe tbody tr th {\n",
       "        vertical-align: top;\n",
       "    }\n",
       "\n",
       "    .dataframe thead th {\n",
       "        text-align: right;\n",
       "    }\n",
       "</style>\n",
       "<table border=\"1\" class=\"dataframe\">\n",
       "  <thead>\n",
       "    <tr style=\"text-align: right;\">\n",
       "      <th></th>\n",
       "      <th>score</th>\n",
       "      <th>5.0</th>\n",
       "      <th>10.0</th>\n",
       "      <th>15.0</th>\n",
       "      <th>20.0</th>\n",
       "      <th>25.0</th>\n",
       "      <th>finalTime</th>\n",
       "      <th>maxSpeed</th>\n",
       "    </tr>\n",
       "  </thead>\n",
       "  <tbody>\n",
       "    <tr>\n",
       "      <th>data 10-35-35:v1</th>\n",
       "      <td>468</td>\n",
       "      <td>175</td>\n",
       "      <td>317</td>\n",
       "      <td>414</td>\n",
       "      <td>459</td>\n",
       "      <td>465</td>\n",
       "      <td>24.8</td>\n",
       "      <td>469</td>\n",
       "    </tr>\n",
       "    <tr>\n",
       "      <th>data 12-01-20:v1</th>\n",
       "      <td>465</td>\n",
       "      <td>172</td>\n",
       "      <td>310</td>\n",
       "      <td>409</td>\n",
       "      <td>459</td>\n",
       "      <td>462</td>\n",
       "      <td>25.0</td>\n",
       "      <td>466</td>\n",
       "    </tr>\n",
       "  </tbody>\n",
       "</table>\n",
       "</div>"
      ],
      "text/plain": [
       "                  score  5.0  10.0  15.0  20.0  25.0  finalTime  maxSpeed\n",
       "data 10-35-35:v1    468  175   317   414   459   465       24.8       469\n",
       "data 12-01-20:v1    465  172   310   409   459   462       25.0       466"
      ]
     },
     "execution_count": 36,
     "metadata": {},
     "output_type": "execute_result"
    }
   ],
   "source": [
    "roundedResults = roundedAggregateResults(aggregate)\n",
    "roundedResults"
   ]
  },
  {
   "cell_type": "markdown",
   "id": "4f6d55ef-46f7-4713-bf61-d92d40678ee2",
   "metadata": {},
   "source": [
    "## All jumps"
   ]
  },
  {
   "cell_type": "code",
   "execution_count": 25,
   "id": "c8bce3a3-46eb-43c3-885b-2df67916bcd2",
   "metadata": {},
   "outputs": [],
   "source": [
    "def displayJumpDataIn(resultsTable: pd.DataFrame):\n",
    "    table = resultsTable.copy()\n",
    "    # Experimental\n",
    "    # For more information on the `interpolate` method and its options, see the [pandas documentation](https://pandas.pydata.org/pandas-docs/stable/reference/api/pandas.Series.interpolate.html).\n",
    "    # Additionally, you can also consider using other libraries like `scipy` which provides more advanced interpolation methods, such as `interp1d` or `griddata`. See the [scipy documentation](https://docs.scipy.org/doc/scipy/reference/interpolate.html) for more information.\n",
    "    table.vKMh = table.vKMh.apply(round)\n",
    "    table.hKMh = table.hKMh.apply(round)\n",
    "    table['altitude (ft)'] = table['altitude (ft)'].apply(round)\n",
    "    table.netVectorKMh = table.netVectorKMh.apply(round)\n",
    "    table.index = ['']*len(table)\n",
    "    display(table)"
   ]
  },
  {
   "cell_type": "code",
   "execution_count": 26,
   "id": "d33d654f-7f78-4d98-8c5d-3da562a4ca61",
   "metadata": {},
   "outputs": [
    {
     "data": {
      "application/vnd.jupyter.widget-view+json": {
       "model_id": "be050ab53019460b9bfd4885319fc7db",
       "version_major": 2,
       "version_minor": 0
      },
      "text/plain": [
       "HTML(value='<hr><h1><span style=\"color: green\">data 10-35-35:v1 jump - VALID - score = 467.9 km/h</span></h1>'…"
      ]
     },
     "metadata": {},
     "output_type": "display_data"
    },
    {
     "data": {
      "application/vnd.jupyter.widget-view+json": {
       "model_id": "57592f565e37407f94d05bb17e5ee88e",
       "version_major": 2,
       "version_minor": 0
      },
      "text/plain": [
       "HTML(value='<h3>Max speed = 469; exit at 4198 m (13775 ft), end scoring window at 1942 m (6374 ft)</h3?')"
      ]
     },
     "metadata": {},
     "output_type": "display_data"
    },
    {
     "data": {
      "text/html": [
       "<div>\n",
       "<style scoped>\n",
       "    .dataframe tbody tr th:only-of-type {\n",
       "        vertical-align: middle;\n",
       "    }\n",
       "\n",
       "    .dataframe tbody tr th {\n",
       "        vertical-align: top;\n",
       "    }\n",
       "\n",
       "    .dataframe thead th {\n",
       "        text-align: right;\n",
       "    }\n",
       "</style>\n",
       "<table border=\"1\" class=\"dataframe\">\n",
       "  <thead>\n",
       "    <tr style=\"text-align: right;\">\n",
       "      <th></th>\n",
       "      <th>time</th>\n",
       "      <th>vKMh</th>\n",
       "      <th>hKMh</th>\n",
       "      <th>speedAngle</th>\n",
       "      <th>distanceFromExit (m)</th>\n",
       "      <th>altitude (ft)</th>\n",
       "      <th>netVectorKMh</th>\n",
       "    </tr>\n",
       "  </thead>\n",
       "  <tbody>\n",
       "    <tr>\n",
       "      <th></th>\n",
       "      <td>5.0</td>\n",
       "      <td>175</td>\n",
       "      <td>118</td>\n",
       "      <td>56.09</td>\n",
       "      <td>192.51</td>\n",
       "      <td>13347</td>\n",
       "      <td>211</td>\n",
       "    </tr>\n",
       "    <tr>\n",
       "      <th></th>\n",
       "      <td>10.0</td>\n",
       "      <td>317</td>\n",
       "      <td>93</td>\n",
       "      <td>73.62</td>\n",
       "      <td>338.90</td>\n",
       "      <td>12194</td>\n",
       "      <td>330</td>\n",
       "    </tr>\n",
       "    <tr>\n",
       "      <th></th>\n",
       "      <td>15.0</td>\n",
       "      <td>414</td>\n",
       "      <td>52</td>\n",
       "      <td>82.79</td>\n",
       "      <td>437.17</td>\n",
       "      <td>10493</td>\n",
       "      <td>418</td>\n",
       "    </tr>\n",
       "    <tr>\n",
       "      <th></th>\n",
       "      <td>20.0</td>\n",
       "      <td>459</td>\n",
       "      <td>13</td>\n",
       "      <td>88.38</td>\n",
       "      <td>474.43</td>\n",
       "      <td>8465</td>\n",
       "      <td>459</td>\n",
       "    </tr>\n",
       "    <tr>\n",
       "      <th></th>\n",
       "      <td>25.0</td>\n",
       "      <td>465</td>\n",
       "      <td>23</td>\n",
       "      <td>87.14</td>\n",
       "      <td>464.27</td>\n",
       "      <td>6424</td>\n",
       "      <td>465</td>\n",
       "    </tr>\n",
       "  </tbody>\n",
       "</table>\n",
       "</div>"
      ],
      "text/plain": [
       "  time  vKMh  hKMh  speedAngle  distanceFromExit (m)  altitude (ft)  \\\n",
       "   5.0   175   118       56.09                192.51          13347   \n",
       "  10.0   317    93       73.62                338.90          12194   \n",
       "  15.0   414    52       82.79                437.17          10493   \n",
       "  20.0   459    13       88.38                474.43           8465   \n",
       "  25.0   465    23       87.14                464.27           6424   \n",
       "\n",
       "  netVectorKMh  \n",
       "           211  \n",
       "           330  \n",
       "           418  \n",
       "           459  \n",
       "           465  "
      ]
     },
     "metadata": {},
     "output_type": "display_data"
    },
    {
     "data": {
      "text/html": [
       "\n",
       "  <div id=\"e08d67be-7743-4641-87bc-d29486a98127\" data-root-id=\"p1038\" style=\"display: contents;\"></div>\n"
      ]
     },
     "metadata": {},
     "output_type": "display_data"
    },
    {
     "data": {
      "application/javascript": [
       "(function(root) {\n",
       "  function embed_document(root) {\n",
       "  const docs_json = {\"21b8453f-4063-43c3-8157-03113f450b8a\":{\"version\":\"3.5.2\",\"title\":\"Bokeh Application\",\"roots\":[{\"type\":\"object\",\"name\":\"Figure\",\"id\":\"p1038\",\"attributes\":{\"width\":900,\"height\":500,\"x_range\":{\"type\":\"object\",\"name\":\"Range1d\",\"id\":\"p1048\",\"attributes\":{\"end\":35.0}},\"y_range\":{\"type\":\"object\",\"name\":\"Range1d\",\"id\":\"p1049\",\"attributes\":{\"end\":550.0}},\"x_scale\":{\"type\":\"object\",\"name\":\"LinearScale\",\"id\":\"p1050\"},\"y_scale\":{\"type\":\"object\",\"name\":\"LinearScale\",\"id\":\"p1051\"},\"extra_y_ranges\":{\"type\":\"map\",\"entries\":[[\"altitudeFt\",{\"type\":\"object\",\"name\":\"Range1d\",\"id\":\"p1075\",\"attributes\":{\"start\":5923.963696,\"end\":14275.547528000001}}],[\"angle\",{\"type\":\"object\",\"name\":\"Range1d\",\"id\":\"p1076\",\"attributes\":{\"end\":90.0}}]]},\"title\":{\"type\":\"object\",\"name\":\"Title\",\"id\":\"p1041\",\"attributes\":{\"text\":\"data 10-35-35:v1\",\"text_color\":\"#E0E0E0\",\"text_font\":\"Helvetica\",\"text_font_size\":\"1.15em\"}},\"outline_line_color\":\"#E0E0E0\",\"outline_line_alpha\":0.25,\"renderers\":[{\"type\":\"object\",\"name\":\"GlyphRenderer\",\"id\":\"p1091\",\"attributes\":{\"y_range_name\":\"altitudeFt\",\"data_source\":{\"type\":\"object\",\"name\":\"ColumnDataSource\",\"id\":\"p1085\",\"attributes\":{\"selected\":{\"type\":\"object\",\"name\":\"Selection\",\"id\":\"p1086\",\"attributes\":{\"indices\":[],\"line_indices\":[]}},\"selection_policy\":{\"type\":\"object\",\"name\":\"UnionRenderers\",\"id\":\"p1087\"},\"data\":{\"type\":\"map\",\"entries\":[[\"x\",{\"type\":\"ndarray\",\"array\":{\"type\":\"bytes\",\"data\":\"AAAAAAAAAACamZmZmZnJP5qZmZmZmdk/MzMzMzMz4z+amZmZmZnpPwAAAAAAAPA/MzMzMzMz8z9mZmZmZmb2P5qZmZmZmfk/zczMzMzM/D8AAAAAAAAAQJqZmZmZmQFAMzMzMzMzA0DNzMzMzMwEQGZmZmZmZgZAAAAAAAAACECamZmZmZkJQDMzMzMzMwtAzczMzMzMDEBmZmZmZmYOQAAAAAAAABBAzczMzMzMEECamZmZmZkRQGZmZmZmZhJAMzMzMzMzE0AAAAAAAAAUQM3MzMzMzBRAmpmZmZmZFUBmZmZmZmYWQDMzMzMzMxdAAAAAAAAAGEDNzMzMzMwYQJqZmZmZmRlAZmZmZmZmGkAzMzMzMzMbQAAAAAAAABxAzczMzMzMHECamZmZmZkdQGZmZmZmZh5AMzMzMzMzH0AAAAAAAAAgQGZmZmZmZiBAzczMzMzMIEAzMzMzMzMhQJqZmZmZmSFAAAAAAAAAIkBmZmZmZmYiQM3MzMzMzCJAMzMzMzMzI0CamZmZmZkjQAAAAAAAACRAZmZmZmZmJEDNzMzMzMwkQDMzMzMzMyVAmpmZmZmZJUAAAAAAAAAmQGZmZmZmZiZAzczMzMzMJkAzMzMzMzMnQJqZmZmZmSdAAAAAAAAAKEBmZmZmZmYoQM3MzMzMzChAMzMzMzMzKUCamZmZmZkpQAAAAAAAACpAZmZmZmZmKkDNzMzMzMwqQDMzMzMzMytAmpmZmZmZK0AAAAAAAAAsQGZmZmZmZixAzczMzMzMLEAzMzMzMzMtQJqZmZmZmS1AAAAAAAAALkBmZmZmZmYuQM3MzMzMzC5AMzMzMzMzL0CamZmZmZkvQAAAAAAAADBAMzMzMzMzMEBmZmZmZmYwQJqZmZmZmTBAzczMzMzMMEAAAAAAAAAxQDMzMzMzMzFAZmZmZmZmMUCamZmZmZkxQM3MzMzMzDFAAAAAAAAAMkAzMzMzMzMyQGZmZmZmZjJAmpmZmZmZMkDNzMzMzMwyQAAAAAAAADNAMzMzMzMzM0BmZmZmZmYzQJqZmZmZmTNAzczMzMzMM0AAAAAAAAA0QDMzMzMzMzRAZmZmZmZmNECamZmZmZk0QM3MzMzMzDRAAAAAAAAANUAzMzMzMzM1QGZmZmZmZjVAmpmZmZmZNUDNzMzMzMw1QAAAAAAAADZAMzMzMzMzNkBmZmZmZmY2QJqZmZmZmTZAzczMzMzMNkAAAAAAAAA3QDMzMzMzMzdAZmZmZmZmN0CamZmZmZk3QM3MzMzMzDdAAAAAAAAAOEAzMzMzMzM4QGZmZmZmZjhAmpmZmZmZOEDNzMzMzMw4QA==\"},\"shape\":[125],\"dtype\":\"float64\",\"order\":\"little\"}],[\"y\",{\"type\":\"ndarray\",\"array\":{\"type\":\"bytes\",\"data\":\"08JlFcbnykCkWTT4dubKQCsn64HQ5MpAF78prGTiykCYHNIDet/KQCZL94Tu28pADDYaZRLYykD7cNqdd9PKQJajtsMdzspAVBbP6g7IykCoTlE/gcHKQGe3lskYuspAptoCnfSxykCD7AYbEKnKQEHxCBOzn8pALnzYZs6VykCNF8G1UYvKQFU7Ho5ZgMpAlhLdDuB0ykC5wfXNumjKQEW8df7tW8pA/91MlnROykC/8EqSF0DKQHwIT41EMcpAdlAuMsYhykAB3ZczqxHKQKXki6zLAMpAOav0yUjvyUDM90K3bd3JQNWzIJQfy8lAiIK+mUW4yUAGuvYF1KTJQMWAgBDckMlAw/jElVZ8yUCKldHIR2fJQLEXCtimUclAx5XEo447yUCFBNa78STJQHXeEPSZDclA9znjoNH1yEB/X23Wot3IQBa16in4xMhAfPThtNOryECORploI5LIQGa9GMrpd8hAnvdaKyVdyECyAjIq70HIQPoUtlVPJshAFnAqrVoKyEB/Y3Tl4O3HQGvP0U/10MdAgFvBgJezx0Bjr8EMx5XHQDlDFg5xd8dAmfLG7r9Yx0Avy43YnTnHQCNFruX3GcdAduEH5+v5xkCbZ9sfZtnGQKjia3SjuMZA68Mf6puXxkClNswrGnbGQNlc2hUXVMZA1UM0utsxxkAb3gd7Tg/GQJje/lx87MVAxHKVODzJxUCceGIxlaXFQKEfocGZgcVAWjrVEHNdxUCzHDIvCTnFQDDbTls7FMVALk+M0SfvxEC7XwX41snEQLibO1UhpMRAD/PlBUB+xECGBOfnAVjEQLFndKyfMcRAWTxQAgYLxECbV3VWC+TDQOocqPjsvMNADGjY3qWVw0B852GyKm7DQJFy5g1eRsNAG8xwTUMew0A5QxYOCfbCQGAFUyiGzcJAxK6SNNykwkBbnIyF9HvCQJVzGILCUsJAxUjl3FQpwkAQDlHg8P/BQEzKOKGL1sFA0rO0riytwUBQ+ucOt4PBQDD/128sWsFALtnCPXgwwUAL47iddwbBQBLm0eiB3MBAFseBV5OywEBnGZjLnIjAQN7j8VmTXsBA5WzwdEU0wEDSBVDn7QnAQA05EVgUv79AqudJPjtqv0CEGQkjjBW/QOW+1TrhwL5A8XFcfCBsvkD9xWzJOhe+QFitTPhFwr1A1YuQcCBtvUAJADOEyBe9QFCEHns3wrxAYMlVLG5svEBD0Zc5qBa8QOu0yTzdwLtAa9ffbalru0DSRmQOmBa7QPBLR0pUwbpAcG5deyBsukAncbH9/xa6QHbrkPZawrlA1LfM6TJtuUBJ88e09he5QA==\"},\"shape\":[125],\"dtype\":\"float64\",\"order\":\"little\"}]]}}},\"view\":{\"type\":\"object\",\"name\":\"CDSView\",\"id\":\"p1092\",\"attributes\":{\"filter\":{\"type\":\"object\",\"name\":\"AllIndices\",\"id\":\"p1093\"}}},\"glyph\":{\"type\":\"object\",\"name\":\"Line\",\"id\":\"p1088\",\"attributes\":{\"x\":{\"type\":\"field\",\"field\":\"x\"},\"y\":{\"type\":\"field\",\"field\":\"y\"},\"line_color\":\"palegoldenrod\",\"line_width\":2}},\"nonselection_glyph\":{\"type\":\"object\",\"name\":\"Line\",\"id\":\"p1089\",\"attributes\":{\"x\":{\"type\":\"field\",\"field\":\"x\"},\"y\":{\"type\":\"field\",\"field\":\"y\"},\"line_color\":\"palegoldenrod\",\"line_alpha\":0.1,\"line_width\":2}},\"muted_glyph\":{\"type\":\"object\",\"name\":\"Line\",\"id\":\"p1090\",\"attributes\":{\"x\":{\"type\":\"field\",\"field\":\"x\"},\"y\":{\"type\":\"field\",\"field\":\"y\"},\"line_color\":\"palegoldenrod\",\"line_alpha\":0.2,\"line_width\":2}}}},{\"type\":\"object\",\"name\":\"GlyphRenderer\",\"id\":\"p1102\",\"attributes\":{\"y_range_name\":\"angle\",\"data_source\":{\"type\":\"object\",\"name\":\"ColumnDataSource\",\"id\":\"p1096\",\"attributes\":{\"selected\":{\"type\":\"object\",\"name\":\"Selection\",\"id\":\"p1097\",\"attributes\":{\"indices\":[],\"line_indices\":[]}},\"selection_policy\":{\"type\":\"object\",\"name\":\"UnionRenderers\",\"id\":\"p1098\"},\"data\":{\"type\":\"map\",\"entries\":[[\"x\",{\"type\":\"ndarray\",\"array\":{\"type\":\"bytes\",\"data\":\"AAAAAAAAAACamZmZmZnJP5qZmZmZmdk/MzMzMzMz4z+amZmZmZnpPwAAAAAAAPA/MzMzMzMz8z9mZmZmZmb2P5qZmZmZmfk/zczMzMzM/D8AAAAAAAAAQJqZmZmZmQFAMzMzMzMzA0DNzMzMzMwEQGZmZmZmZgZAAAAAAAAACECamZmZmZkJQDMzMzMzMwtAzczMzMzMDEBmZmZmZmYOQAAAAAAAABBAzczMzMzMEECamZmZmZkRQGZmZmZmZhJAMzMzMzMzE0AAAAAAAAAUQM3MzMzMzBRAmpmZmZmZFUBmZmZmZmYWQDMzMzMzMxdAAAAAAAAAGEDNzMzMzMwYQJqZmZmZmRlAZmZmZmZmGkAzMzMzMzMbQAAAAAAAABxAzczMzMzMHECamZmZmZkdQGZmZmZmZh5AMzMzMzMzH0AAAAAAAAAgQGZmZmZmZiBAzczMzMzMIEAzMzMzMzMhQJqZmZmZmSFAAAAAAAAAIkBmZmZmZmYiQM3MzMzMzCJAMzMzMzMzI0CamZmZmZkjQAAAAAAAACRAZmZmZmZmJEDNzMzMzMwkQDMzMzMzMyVAmpmZmZmZJUAAAAAAAAAmQGZmZmZmZiZAzczMzMzMJkAzMzMzMzMnQJqZmZmZmSdAAAAAAAAAKEBmZmZmZmYoQM3MzMzMzChAMzMzMzMzKUCamZmZmZkpQAAAAAAAACpAZmZmZmZmKkDNzMzMzMwqQDMzMzMzMytAmpmZmZmZK0AAAAAAAAAsQGZmZmZmZixAzczMzMzMLEAzMzMzMzMtQJqZmZmZmS1AAAAAAAAALkBmZmZmZmYuQM3MzMzMzC5AMzMzMzMzL0CamZmZmZkvQAAAAAAAADBAMzMzMzMzMEBmZmZmZmYwQJqZmZmZmTBAzczMzMzMMEAAAAAAAAAxQDMzMzMzMzFAZmZmZmZmMUCamZmZmZkxQM3MzMzMzDFAAAAAAAAAMkAzMzMzMzMyQGZmZmZmZjJAmpmZmZmZMkDNzMzMzMwyQAAAAAAAADNAMzMzMzMzM0BmZmZmZmYzQJqZmZmZmTNAzczMzMzMM0AAAAAAAAA0QDMzMzMzMzRAZmZmZmZmNECamZmZmZk0QM3MzMzMzDRAAAAAAAAANUAzMzMzMzM1QGZmZmZmZjVAmpmZmZmZNUDNzMzMzMw1QAAAAAAAADZAMzMzMzMzNkBmZmZmZmY2QJqZmZmZmTZAzczMzMzMNkAAAAAAAAA3QDMzMzMzMzdAZmZmZmZmN0CamZmZmZk3QM3MzMzMzDdAAAAAAAAAOEAzMzMzMzM4QGZmZmZmZjhAmpmZmZmZOEDNzMzMzMw4QA==\"},\"shape\":[125],\"dtype\":\"float64\",\"order\":\"little\"}],[\"y\",{\"type\":\"ndarray\",\"array\":{\"type\":\"bytes\",\"data\":\"j8L1KFyPDkBcj8L1KFwXQNejcD0K1x9AUrgehetRJUBmZmZmZuYoQM3MzMzMTC5AKVyPwvWoMEC4HoXrUXgzQClcj8L1qDVA4XoUrkdhOECPwvUoXI86QEjhehSuxzxAH4XrUbieP0B7FK5H4RpBQM3MzMzMLEJAAAAAAABAQ0DNzMzMzExEQDMzMzMzU0VAhetRuB5FRkD2KFyPwjVHQKRwPQrXI0hAPQrXo3D9SEDhehSuRwFKQNejcD0Kt0pAhetRuB5lS0DsUbgehQtMQOF6FK5HoUxAAAAAAABATUBI4XoUrsdNQArXo3A9Sk5AuB6F61G4TkCPwvUoXC9PQOF6FK5HoU9AexSuR+EKUEAAAAAAAEBQQIXrUbgeZVBASOF6FK6XUEBmZmZmZsZQQIXrUbge5VBAFK5H4XoUUUCuR+F6FC5RQHE9CtejUFFASOF6FK53UUAAAAAAAKBRQIXrUbgexVFAuB6F61HoUUAUrkfhegRSQArXo3A9GlJAmpmZmZkpUkDXo3A9CkdSQEjhehSuZ1JAXI/C9SiMUkCPwvUoXK9SQEjhehSu11JAAAAAAAAAU0AzMzMzMxNTQHE9CtejMFNAFK5H4XpEU0CPwvUoXF9TQK5H4XoUflNAAAAAAACgU0CF61G4HrVTQEjhehSu11NAPQrXo3DtU0AzMzMzM/NTQD0K16NwDVRAAAAAAAAQVEAUrkfheiRUQJqZmZmZOVRAj8L1KFxPVEBcj8L1KGxUQNejcD0Kd1RAPQrXo3B9VEC4HoXrUYhUQHsUrkfhmlRAw/UoXI+yVEAK16NwPcpUQFyPwvUo3FRAMzMzMzPzVECPwvUoXP9UQOF6FK5HEVVA4XoUrkchVUAK16NwPTpVQFyPwvUoTFVAKVyPwvVYVUCamZmZmWlVQEjhehSud1VAMzMzMzODVUDsUbgehYtVQArXo3A9ilVA7FG4HoWbVUAfhetRuL5VQOF6FK5H0VVArkfhehTeVUAUrkfhevRVQBSuR+F6BFZApHA9CtcTVkAUrkfhehRWQOxRuB6FG1ZA7FG4HoUbVkC4HoXrURhWQMP1KFyPElZAzczMzMwcVkBxPQrXoyBWQFyPwvUoLFZAMzMzMzMzVkCPwvUoXC9WQAAAAAAAIFZAuB6F61EYVkCamZmZmQlWQHE9CtejAFZAmpmZmZn5VUBI4XoUrvdVQPYoXI/CBVZAAAAAAAAQVkCPwvUoXA9WQJqZmZmZCVZAuB6F61H4VUDD9Shcj+JVQB+F61G47lVAmpmZmZnpVUAzMzMzM+NVQArXo3A92lVAuB6F61HIVUApXI/C9chVQA==\"},\"shape\":[125],\"dtype\":\"float64\",\"order\":\"little\"}]]}}},\"view\":{\"type\":\"object\",\"name\":\"CDSView\",\"id\":\"p1103\",\"attributes\":{\"filter\":{\"type\":\"object\",\"name\":\"AllIndices\",\"id\":\"p1104\"}}},\"glyph\":{\"type\":\"object\",\"name\":\"Line\",\"id\":\"p1099\",\"attributes\":{\"x\":{\"type\":\"field\",\"field\":\"x\"},\"y\":{\"type\":\"field\",\"field\":\"y\"},\"line_color\":\"deepskyblue\",\"line_width\":2}},\"nonselection_glyph\":{\"type\":\"object\",\"name\":\"Line\",\"id\":\"p1100\",\"attributes\":{\"x\":{\"type\":\"field\",\"field\":\"x\"},\"y\":{\"type\":\"field\",\"field\":\"y\"},\"line_color\":\"deepskyblue\",\"line_alpha\":0.1,\"line_width\":2}},\"muted_glyph\":{\"type\":\"object\",\"name\":\"Line\",\"id\":\"p1101\",\"attributes\":{\"x\":{\"type\":\"field\",\"field\":\"x\"},\"y\":{\"type\":\"field\",\"field\":\"y\"},\"line_color\":\"deepskyblue\",\"line_alpha\":0.2,\"line_width\":2}}}},{\"type\":\"object\",\"name\":\"GlyphRenderer\",\"id\":\"p1113\",\"attributes\":{\"data_source\":{\"type\":\"object\",\"name\":\"ColumnDataSource\",\"id\":\"p1107\",\"attributes\":{\"selected\":{\"type\":\"object\",\"name\":\"Selection\",\"id\":\"p1108\",\"attributes\":{\"indices\":[],\"line_indices\":[]}},\"selection_policy\":{\"type\":\"object\",\"name\":\"UnionRenderers\",\"id\":\"p1109\"},\"data\":{\"type\":\"map\",\"entries\":[[\"x\",{\"type\":\"ndarray\",\"array\":{\"type\":\"bytes\",\"data\":\"AAAAAAAAAACamZmZmZnJP5qZmZmZmdk/MzMzMzMz4z+amZmZmZnpPwAAAAAAAPA/MzMzMzMz8z9mZmZmZmb2P5qZmZmZmfk/zczMzMzM/D8AAAAAAAAAQJqZmZmZmQFAMzMzMzMzA0DNzMzMzMwEQGZmZmZmZgZAAAAAAAAACECamZmZmZkJQDMzMzMzMwtAzczMzMzMDEBmZmZmZmYOQAAAAAAAABBAzczMzMzMEECamZmZmZkRQGZmZmZmZhJAMzMzMzMzE0AAAAAAAAAUQM3MzMzMzBRAmpmZmZmZFUBmZmZmZmYWQDMzMzMzMxdAAAAAAAAAGEDNzMzMzMwYQJqZmZmZmRlAZmZmZmZmGkAzMzMzMzMbQAAAAAAAABxAzczMzMzMHECamZmZmZkdQGZmZmZmZh5AMzMzMzMzH0AAAAAAAAAgQGZmZmZmZiBAzczMzMzMIEAzMzMzMzMhQJqZmZmZmSFAAAAAAAAAIkBmZmZmZmYiQM3MzMzMzCJAMzMzMzMzI0CamZmZmZkjQAAAAAAAACRAZmZmZmZmJEDNzMzMzMwkQDMzMzMzMyVAmpmZmZmZJUAAAAAAAAAmQGZmZmZmZiZAzczMzMzMJkAzMzMzMzMnQJqZmZmZmSdAAAAAAAAAKEBmZmZmZmYoQM3MzMzMzChAMzMzMzMzKUCamZmZmZkpQAAAAAAAACpAZmZmZmZmKkDNzMzMzMwqQDMzMzMzMytAmpmZmZmZK0AAAAAAAAAsQGZmZmZmZixAzczMzMzMLEAzMzMzMzMtQJqZmZmZmS1AAAAAAAAALkBmZmZmZmYuQM3MzMzMzC5AMzMzMzMzL0CamZmZmZkvQAAAAAAAADBAMzMzMzMzMEBmZmZmZmYwQJqZmZmZmTBAzczMzMzMMEAAAAAAAAAxQDMzMzMzMzFAZmZmZmZmMUCamZmZmZkxQM3MzMzMzDFAAAAAAAAAMkAzMzMzMzMyQGZmZmZmZjJAmpmZmZmZMkDNzMzMzMwyQAAAAAAAADNAMzMzMzMzM0BmZmZmZmYzQJqZmZmZmTNAzczMzMzMM0AAAAAAAAA0QDMzMzMzMzRAZmZmZmZmNECamZmZmZk0QM3MzMzMzDRAAAAAAAAANUAzMzMzMzM1QGZmZmZmZjVAmpmZmZmZNUDNzMzMzMw1QAAAAAAAADZAMzMzMzMzNkBmZmZmZmY2QJqZmZmZmTZAzczMzMzMNkAAAAAAAAA3QDMzMzMzMzdAZmZmZmZmN0CamZmZmZk3QM3MzMzMzDdAAAAAAAAAOEAzMzMzMzM4QGZmZmZmZjhAmpmZmZmZOEDNzMzMzMw4QA==\"},\"shape\":[125],\"dtype\":\"float64\",\"order\":\"little\"}],[\"y\",{\"type\":\"ndarray\",\"array\":{\"type\":\"bytes\",\"data\":\"I9v5fmq8JECUGARWDi0vQH9qvHSTGDVAs53vp8ZLPEDZzvdT42VAQDEIrBxaJERAc2iR7Xw/RkCq8dJNYhBKQDIIrBxaJE1AnMQgsHKIUEDC9ShcjyJSQOF6FK5HwVNAMzMzMzPTVUCF61G4HuVXQOomMQisXFlAHVpkO9/vWkAw3SQGgZVcQEW28/3UOF5Ar0fhehSuX0BjEFg5tKhgQOxRuB6Fe2FAUI2XbhJjYkCkcD0K11NjQDDdJAaBJWRApHA9CtcDZUAaL90kBuFlQHnpJjEIzGZA3iQGgZWzZ0COl24Sg3BoQDDdJAaBNWlA5/up8dLtaUCF61G4HrVqQDZeukkMcmtA2/l+arw0bECS7Xw/Ne5sQF+6SQwCm21ABoGVQ4tcbkCS7Xw/NS5vQENg5dAi629AiBbZzvdLcEAIrBxaZJNwQPhT46Wb5HBARbbz/dRIcUCzne+nxptxQIgW2c73+3FAc2iR7XxPckBWDi2ynadyQFCNl24S83JA30+Nl24yc0DTTWIQWIFzQMl2vp8az3NAtvP91HghdEAtsp3vp250QJduEoPAwnRAmpmZmZkJdUAj2/l+akx1QBfZzvdTm3VAJQaBlUPbdUAUrkfheix2QI/C9Shcd3ZAs53vp8ardkDFILByaOl2QMl2vp8aL3dA4XoUrkdpd0Dwp8ZLN6l3QAaBlUOL5HdAVeOlm8QAeEBEi2zn+1F4QFg5tMh2jnhAoBov3SSueEA830+Nl+Z4QMdLN4lBKHlAexSuR+FSeUCUGARWDo15QESLbOf7uXlAeekmMQjkeUCOl24SgyB6QFXjpZvEQHpAdZMYBFZ2ekARWDm0yK56QFXjpZvE0HpADAIrhxb5ekDLoUW28x17QH9qvHSTSHtATDeJQWBle0Dy0k1iEJh7QKrx0k1iwHtA6iYxCKzke0AZBFYOLRJ8QO58PzVeKnxAMQisHFpMfECOl24Sg2B8QLTIdr6fSnxAu0kMAitHfECBlUOLbGd8QAwCK4cWYXxATDeJQWCFfEAxCKwcWpR8QPCnxks3uXxAW2Q730/FfEAL16NwPap8QMHKoUW203xAu0kMAivXfEBOYhBYOcx8QJVDi2zn63xACKwcWmTzfECDwMqhRfZ8QPlT46Wb/HxA9ihcj8L9fEBt5/up8QJ9QGIQWDm0CH1ANV66SQwifUASg8DKoTV9QHaTGARWRn1A+n5qvHRDfUBXObTIdlZ9QGdmZmZmTn1Asp3vp8YjfUAshxbZzid9QLbz/dR4IX1Au0kMAisffUBEi2zn+xl9QHe+nxov/XxAzczMzMwUfUBbZDvfTw19QA==\"},\"shape\":[125],\"dtype\":\"float64\",\"order\":\"little\"}]]}}},\"view\":{\"type\":\"object\",\"name\":\"CDSView\",\"id\":\"p1114\",\"attributes\":{\"filter\":{\"type\":\"object\",\"name\":\"AllIndices\",\"id\":\"p1115\"}}},\"glyph\":{\"type\":\"object\",\"name\":\"Line\",\"id\":\"p1110\",\"attributes\":{\"x\":{\"type\":\"field\",\"field\":\"x\"},\"y\":{\"type\":\"field\",\"field\":\"y\"},\"line_color\":\"limegreen\",\"line_width\":2}},\"nonselection_glyph\":{\"type\":\"object\",\"name\":\"Line\",\"id\":\"p1111\",\"attributes\":{\"x\":{\"type\":\"field\",\"field\":\"x\"},\"y\":{\"type\":\"field\",\"field\":\"y\"},\"line_color\":\"limegreen\",\"line_alpha\":0.1,\"line_width\":2}},\"muted_glyph\":{\"type\":\"object\",\"name\":\"Line\",\"id\":\"p1112\",\"attributes\":{\"x\":{\"type\":\"field\",\"field\":\"x\"},\"y\":{\"type\":\"field\",\"field\":\"y\"},\"line_color\":\"limegreen\",\"line_alpha\":0.2,\"line_width\":2}}}},{\"type\":\"object\",\"name\":\"GlyphRenderer\",\"id\":\"p1123\",\"attributes\":{\"data_source\":{\"type\":\"object\",\"name\":\"ColumnDataSource\",\"id\":\"p1117\",\"attributes\":{\"selected\":{\"type\":\"object\",\"name\":\"Selection\",\"id\":\"p1118\",\"attributes\":{\"indices\":[],\"line_indices\":[]}},\"selection_policy\":{\"type\":\"object\",\"name\":\"UnionRenderers\",\"id\":\"p1119\"},\"data\":{\"type\":\"map\",\"entries\":[[\"x\",{\"type\":\"ndarray\",\"array\":{\"type\":\"bytes\",\"data\":\"AAAAAAAAAACamZmZmZnJP5qZmZmZmdk/MzMzMzMz4z+amZmZmZnpPwAAAAAAAPA/MzMzMzMz8z9mZmZmZmb2P5qZmZmZmfk/zczMzMzM/D8AAAAAAAAAQJqZmZmZmQFAMzMzMzMzA0DNzMzMzMwEQGZmZmZmZgZAAAAAAAAACECamZmZmZkJQDMzMzMzMwtAzczMzMzMDEBmZmZmZmYOQAAAAAAAABBAzczMzMzMEECamZmZmZkRQGZmZmZmZhJAMzMzMzMzE0AAAAAAAAAUQM3MzMzMzBRAmpmZmZmZFUBmZmZmZmYWQDMzMzMzMxdAAAAAAAAAGEDNzMzMzMwYQJqZmZmZmRlAZmZmZmZmGkAzMzMzMzMbQAAAAAAAABxAzczMzMzMHECamZmZmZkdQGZmZmZmZh5AMzMzMzMzH0AAAAAAAAAgQGZmZmZmZiBAzczMzMzMIEAzMzMzMzMhQJqZmZmZmSFAAAAAAAAAIkBmZmZmZmYiQM3MzMzMzCJAMzMzMzMzI0CamZmZmZkjQAAAAAAAACRAZmZmZmZmJEDNzMzMzMwkQDMzMzMzMyVAmpmZmZmZJUAAAAAAAAAmQGZmZmZmZiZAzczMzMzMJkAzMzMzMzMnQJqZmZmZmSdAAAAAAAAAKEBmZmZmZmYoQM3MzMzMzChAMzMzMzMzKUCamZmZmZkpQAAAAAAAACpAZmZmZmZmKkDNzMzMzMwqQDMzMzMzMytAmpmZmZmZK0AAAAAAAAAsQGZmZmZmZixAzczMzMzMLEAzMzMzMzMtQJqZmZmZmS1AAAAAAAAALkBmZmZmZmYuQM3MzMzMzC5AMzMzMzMzL0CamZmZmZkvQAAAAAAAADBAMzMzMzMzMEBmZmZmZmYwQJqZmZmZmTBAzczMzMzMMEAAAAAAAAAxQDMzMzMzMzFAZmZmZmZmMUCamZmZmZkxQM3MzMzMzDFAAAAAAAAAMkAzMzMzMzMyQGZmZmZmZjJAmpmZmZmZMkDNzMzMzMwyQAAAAAAAADNAMzMzMzMzM0BmZmZmZmYzQJqZmZmZmTNAzczMzMzMM0AAAAAAAAA0QDMzMzMzMzRAZmZmZmZmNECamZmZmZk0QM3MzMzMzDRAAAAAAAAANUAzMzMzMzM1QGZmZmZmZjVAmpmZmZmZNUDNzMzMzMw1QAAAAAAAADZAMzMzMzMzNkBmZmZmZmY2QJqZmZmZmTZAzczMzMzMNkAAAAAAAAA3QDMzMzMzMzdAZmZmZmZmN0CamZmZmZk3QM3MzMzMzDdAAAAAAAAAOEAzMzMzMzM4QGZmZmZmZjhAmpmZmZmZOEDNzMzMzMw4QA==\"},\"shape\":[125],\"dtype\":\"float64\",\"order\":\"little\"}],[\"y\",{\"type\":\"ndarray\",\"array\":{\"type\":\"bytes\",\"data\":\"1T+N86pnY0CImmzxSQpjQItIrWyF2mJAYjUkTiDLYkDhdy+6NpBiQPeN1I20mWJA9cutyfOWYkDtuaSoPm1iQFIIF9NYWGJA5LhCWLk8YkCftzDhNyNiQNUoOAKP+2FAwHnqmG65YUDyC8vOcJNhQPxUd0TbOmFAjuH86fruYEAgi4OSU61gQPuMLXIuZ2BABcSvbl0ZYEADQi+ExLNfQHWmXBSQLV9ARNxvfTrhXkCMewe+RzBeQJ/FweFP411Ac+Un1RapXUCmdCmHQGpdQFvRk98zUF1AXUpcQB8MXUADvYa7trhcQJB4xTojblxA9P75Gvc4XEAifgbGZ/RbQLAzrJRpqFtAAtYwclhOW0AOa0XEAvtaQIAjmnaI41pAfqtA7JmSWkA4Q46DGlhaQI8yTe6xV1pAXewUWAbrWUB0HgZLHtNZQOFqQuiYl1lAECfdhLpWWUAfiTWO0e9YQKhY/uvKqFhApwNlpJ1QWECYs4y3ciRYQDfmqS8LCVhAuCmqBFv+V0AA/3aeQ7FXQHiP2hKpS1dAC/pZ5PfLVkDg8zKpZ0xWQLsKODIRrVVAIKAahwr9VEAts9RraMNUQCqrFlEEVlRAMcp5PS4UVED7QLtLUa1TQKGaybiSKFNAg6opxcNzUkAlKntxDBhSQLbNHAsxZlFAK9+3SLsBUUAA5BoFnwVRQLUfs6CWflBAVaan33Z9UEDMS5F5vylQQCULRcj6eE9A5Arck8dsTkBl0B36zhtNQKc95Za5yUxAQasBC5+bTEB9ZUdTwUJMQI38HOFgYUtA5KKSGTA2SkALOWWWahJJQByhSzJyJUhAtMRUkbT6RkA/uHnS7HtGQKcwg3LHgUVA9F5Y+X20REAXQ08lVVZDQD07KVioXkJAuGy3W+CwQUCtdMbKL8lAQL0v0WVyBEBAefKPujfQPkCtX3cdi/o9QHrFz7Q1QD5AbA0I97xBPEAyAHIH4/o3QCHOM4uHkzVAMNzxStoFNEArGSA4dEMxQDOz6bfvlC5AvYdqVvbtKkC4QTAk/dwqQM7qktIPIilAkrgHbfQrKUD/Jlwhet8pQIM69hJOlytAaRCkwVDlKECQv++vGvEnQIKmAGbmJiVAzIxUpspnI0CAgckHgWokQDYIZFGsXShAQ4/OqBAtKkAHnHe/a/QtQDkGNE7uGzBAQkYmEFUOMUCoWLknbWUxQJHSivpkUC9AKyIO6jGnLED6z1FhcOosQKXxFdSzRy5AblwpCttFMUC+HXPtKgM0QL3qnInagDJAlZZV57EYM0Drnaz3JO4zQHHc2cL8+zRAnMaFo1FdN0AdAAzrkTo3QA==\"},\"shape\":[125],\"dtype\":\"float64\",\"order\":\"little\"}]]}}},\"view\":{\"type\":\"object\",\"name\":\"CDSView\",\"id\":\"p1124\",\"attributes\":{\"filter\":{\"type\":\"object\",\"name\":\"AllIndices\",\"id\":\"p1125\"}}},\"glyph\":{\"type\":\"object\",\"name\":\"Line\",\"id\":\"p1120\",\"attributes\":{\"x\":{\"type\":\"field\",\"field\":\"x\"},\"y\":{\"type\":\"field\",\"field\":\"y\"},\"line_color\":\"red\",\"line_width\":2}},\"nonselection_glyph\":{\"type\":\"object\",\"name\":\"Line\",\"id\":\"p1121\",\"attributes\":{\"x\":{\"type\":\"field\",\"field\":\"x\"},\"y\":{\"type\":\"field\",\"field\":\"y\"},\"line_color\":\"red\",\"line_alpha\":0.1,\"line_width\":2}},\"muted_glyph\":{\"type\":\"object\",\"name\":\"Line\",\"id\":\"p1122\",\"attributes\":{\"x\":{\"type\":\"field\",\"field\":\"x\"},\"y\":{\"type\":\"field\",\"field\":\"y\"},\"line_color\":\"red\",\"line_alpha\":0.2,\"line_width\":2}}}},{\"type\":\"object\",\"name\":\"GlyphRenderer\",\"id\":\"p1133\",\"attributes\":{\"data_source\":{\"type\":\"object\",\"name\":\"ColumnDataSource\",\"id\":\"p1127\",\"attributes\":{\"selected\":{\"type\":\"object\",\"name\":\"Selection\",\"id\":\"p1128\",\"attributes\":{\"indices\":[],\"line_indices\":[]}},\"selection_policy\":{\"type\":\"object\",\"name\":\"UnionRenderers\",\"id\":\"p1129\"},\"data\":{\"type\":\"map\",\"entries\":[[\"x0\",[21.8]],[\"y0\",[0.0]],[\"x1\",[21.8]],[\"y1\",[467.91]]]}}},\"view\":{\"type\":\"object\",\"name\":\"CDSView\",\"id\":\"p1134\",\"attributes\":{\"filter\":{\"type\":\"object\",\"name\":\"AllIndices\",\"id\":\"p1135\"}}},\"glyph\":{\"type\":\"object\",\"name\":\"Segment\",\"id\":\"p1130\",\"attributes\":{\"x0\":{\"type\":\"field\",\"field\":\"x0\"},\"y0\":{\"type\":\"field\",\"field\":\"y0\"},\"x1\":{\"type\":\"field\",\"field\":\"x1\"},\"y1\":{\"type\":\"field\",\"field\":\"y1\"},\"line_color\":{\"type\":\"value\",\"value\":\"lightblue\"},\"line_width\":{\"type\":\"value\",\"value\":3}}},\"nonselection_glyph\":{\"type\":\"object\",\"name\":\"Segment\",\"id\":\"p1131\",\"attributes\":{\"x0\":{\"type\":\"field\",\"field\":\"x0\"},\"y0\":{\"type\":\"field\",\"field\":\"y0\"},\"x1\":{\"type\":\"field\",\"field\":\"x1\"},\"y1\":{\"type\":\"field\",\"field\":\"y1\"},\"line_color\":{\"type\":\"value\",\"value\":\"lightblue\"},\"line_alpha\":{\"type\":\"value\",\"value\":0.1},\"line_width\":{\"type\":\"value\",\"value\":3}}},\"muted_glyph\":{\"type\":\"object\",\"name\":\"Segment\",\"id\":\"p1132\",\"attributes\":{\"x0\":{\"type\":\"field\",\"field\":\"x0\"},\"y0\":{\"type\":\"field\",\"field\":\"y0\"},\"x1\":{\"type\":\"field\",\"field\":\"x1\"},\"y1\":{\"type\":\"field\",\"field\":\"y1\"},\"line_color\":{\"type\":\"value\",\"value\":\"lightblue\"},\"line_alpha\":{\"type\":\"value\",\"value\":0.2},\"line_width\":{\"type\":\"value\",\"value\":3}}}}},{\"type\":\"object\",\"name\":\"GlyphRenderer\",\"id\":\"p1142\",\"attributes\":{\"data_source\":{\"type\":\"object\",\"name\":\"ColumnDataSource\",\"id\":\"p1136\",\"attributes\":{\"selected\":{\"type\":\"object\",\"name\":\"Selection\",\"id\":\"p1137\",\"attributes\":{\"indices\":[],\"line_indices\":[]}},\"selection_policy\":{\"type\":\"object\",\"name\":\"UnionRenderers\",\"id\":\"p1138\"},\"data\":{\"type\":\"map\",\"entries\":[[\"x0\",[23.3]],[\"y0\",[0.0]],[\"x1\",[23.3]],[\"y1\",[467.91]]]}}},\"view\":{\"type\":\"object\",\"name\":\"CDSView\",\"id\":\"p1143\",\"attributes\":{\"filter\":{\"type\":\"object\",\"name\":\"AllIndices\",\"id\":\"p1144\"}}},\"glyph\":{\"type\":\"object\",\"name\":\"Segment\",\"id\":\"p1139\",\"attributes\":{\"x0\":{\"type\":\"field\",\"field\":\"x0\"},\"y0\":{\"type\":\"field\",\"field\":\"y0\"},\"x1\":{\"type\":\"field\",\"field\":\"x1\"},\"y1\":{\"type\":\"field\",\"field\":\"y1\"},\"line_color\":{\"type\":\"value\",\"value\":\"darkseagreen\"}}},\"nonselection_glyph\":{\"type\":\"object\",\"name\":\"Segment\",\"id\":\"p1140\",\"attributes\":{\"x0\":{\"type\":\"field\",\"field\":\"x0\"},\"y0\":{\"type\":\"field\",\"field\":\"y0\"},\"x1\":{\"type\":\"field\",\"field\":\"x1\"},\"y1\":{\"type\":\"field\",\"field\":\"y1\"},\"line_color\":{\"type\":\"value\",\"value\":\"darkseagreen\"},\"line_alpha\":{\"type\":\"value\",\"value\":0.1}}},\"muted_glyph\":{\"type\":\"object\",\"name\":\"Segment\",\"id\":\"p1141\",\"attributes\":{\"x0\":{\"type\":\"field\",\"field\":\"x0\"},\"y0\":{\"type\":\"field\",\"field\":\"y0\"},\"x1\":{\"type\":\"field\",\"field\":\"x1\"},\"y1\":{\"type\":\"field\",\"field\":\"y1\"},\"line_color\":{\"type\":\"value\",\"value\":\"darkseagreen\"},\"line_alpha\":{\"type\":\"value\",\"value\":0.2}}}}},{\"type\":\"object\",\"name\":\"GlyphRenderer\",\"id\":\"p1151\",\"attributes\":{\"data_source\":{\"type\":\"object\",\"name\":\"ColumnDataSource\",\"id\":\"p1145\",\"attributes\":{\"selected\":{\"type\":\"object\",\"name\":\"Selection\",\"id\":\"p1146\",\"attributes\":{\"indices\":[],\"line_indices\":[]}},\"selection_policy\":{\"type\":\"object\",\"name\":\"UnionRenderers\",\"id\":\"p1147\"},\"data\":{\"type\":\"map\",\"entries\":[[\"x0\",[20.3]],[\"y0\",[0.0]],[\"x1\",[20.3]],[\"y1\",[467.91]]]}}},\"view\":{\"type\":\"object\",\"name\":\"CDSView\",\"id\":\"p1152\",\"attributes\":{\"filter\":{\"type\":\"object\",\"name\":\"AllIndices\",\"id\":\"p1153\"}}},\"glyph\":{\"type\":\"object\",\"name\":\"Segment\",\"id\":\"p1148\",\"attributes\":{\"x0\":{\"type\":\"field\",\"field\":\"x0\"},\"y0\":{\"type\":\"field\",\"field\":\"y0\"},\"x1\":{\"type\":\"field\",\"field\":\"x1\"},\"y1\":{\"type\":\"field\",\"field\":\"y1\"},\"line_color\":{\"type\":\"value\",\"value\":\"darkseagreen\"}}},\"nonselection_glyph\":{\"type\":\"object\",\"name\":\"Segment\",\"id\":\"p1149\",\"attributes\":{\"x0\":{\"type\":\"field\",\"field\":\"x0\"},\"y0\":{\"type\":\"field\",\"field\":\"y0\"},\"x1\":{\"type\":\"field\",\"field\":\"x1\"},\"y1\":{\"type\":\"field\",\"field\":\"y1\"},\"line_color\":{\"type\":\"value\",\"value\":\"darkseagreen\"},\"line_alpha\":{\"type\":\"value\",\"value\":0.1}}},\"muted_glyph\":{\"type\":\"object\",\"name\":\"Segment\",\"id\":\"p1150\",\"attributes\":{\"x0\":{\"type\":\"field\",\"field\":\"x0\"},\"y0\":{\"type\":\"field\",\"field\":\"y0\"},\"x1\":{\"type\":\"field\",\"field\":\"x1\"},\"y1\":{\"type\":\"field\",\"field\":\"y1\"},\"line_color\":{\"type\":\"value\",\"value\":\"darkseagreen\"},\"line_alpha\":{\"type\":\"value\",\"value\":0.2}}}}},{\"type\":\"object\",\"name\":\"GlyphRenderer\",\"id\":\"p1160\",\"attributes\":{\"data_source\":{\"type\":\"object\",\"name\":\"ColumnDataSource\",\"id\":\"p1154\",\"attributes\":{\"selected\":{\"type\":\"object\",\"name\":\"Selection\",\"id\":\"p1155\",\"attributes\":{\"indices\":[],\"line_indices\":[]}},\"selection_policy\":{\"type\":\"object\",\"name\":\"UnionRenderers\",\"id\":\"p1156\"},\"data\":{\"type\":\"map\",\"entries\":[[\"x\",[21.8]],[\"y\",[467.91]],[\"size\",[20]]]}}},\"view\":{\"type\":\"object\",\"name\":\"CDSView\",\"id\":\"p1161\",\"attributes\":{\"filter\":{\"type\":\"object\",\"name\":\"AllIndices\",\"id\":\"p1162\"}}},\"glyph\":{\"type\":\"object\",\"name\":\"Scatter\",\"id\":\"p1157\",\"attributes\":{\"x\":{\"type\":\"field\",\"field\":\"x\"},\"y\":{\"type\":\"field\",\"field\":\"y\"},\"size\":{\"type\":\"field\",\"field\":\"size\"},\"line_color\":{\"type\":\"value\",\"value\":\"lightblue\"},\"line_width\":{\"type\":\"value\",\"value\":3},\"fill_color\":{\"type\":\"value\",\"value\":null},\"marker\":{\"type\":\"value\",\"value\":\"square_cross\"}}},\"nonselection_glyph\":{\"type\":\"object\",\"name\":\"Scatter\",\"id\":\"p1158\",\"attributes\":{\"x\":{\"type\":\"field\",\"field\":\"x\"},\"y\":{\"type\":\"field\",\"field\":\"y\"},\"size\":{\"type\":\"field\",\"field\":\"size\"},\"line_color\":{\"type\":\"value\",\"value\":\"lightblue\"},\"line_alpha\":{\"type\":\"value\",\"value\":0.1},\"line_width\":{\"type\":\"value\",\"value\":3},\"fill_color\":{\"type\":\"value\",\"value\":null},\"fill_alpha\":{\"type\":\"value\",\"value\":0.1},\"hatch_alpha\":{\"type\":\"value\",\"value\":0.1},\"marker\":{\"type\":\"value\",\"value\":\"square_cross\"}}},\"muted_glyph\":{\"type\":\"object\",\"name\":\"Scatter\",\"id\":\"p1159\",\"attributes\":{\"x\":{\"type\":\"field\",\"field\":\"x\"},\"y\":{\"type\":\"field\",\"field\":\"y\"},\"size\":{\"type\":\"field\",\"field\":\"size\"},\"line_color\":{\"type\":\"value\",\"value\":\"lightblue\"},\"line_alpha\":{\"type\":\"value\",\"value\":0.2},\"line_width\":{\"type\":\"value\",\"value\":3},\"fill_color\":{\"type\":\"value\",\"value\":null},\"fill_alpha\":{\"type\":\"value\",\"value\":0.2},\"hatch_alpha\":{\"type\":\"value\",\"value\":0.2},\"marker\":{\"type\":\"value\",\"value\":\"square_cross\"}}}}}],\"toolbar\":{\"type\":\"object\",\"name\":\"Toolbar\",\"id\":\"p1047\",\"attributes\":{\"tools\":[{\"type\":\"object\",\"name\":\"PanTool\",\"id\":\"p1062\"},{\"type\":\"object\",\"name\":\"WheelZoomTool\",\"id\":\"p1063\",\"attributes\":{\"renderers\":\"auto\"}},{\"type\":\"object\",\"name\":\"BoxZoomTool\",\"id\":\"p1064\",\"attributes\":{\"overlay\":{\"type\":\"object\",\"name\":\"BoxAnnotation\",\"id\":\"p1065\",\"attributes\":{\"syncable\":false,\"line_color\":\"black\",\"line_alpha\":1.0,\"line_width\":2,\"line_dash\":[4,4],\"fill_color\":\"lightgrey\",\"fill_alpha\":0.5,\"level\":\"overlay\",\"visible\":false,\"left\":{\"type\":\"number\",\"value\":\"nan\"},\"right\":{\"type\":\"number\",\"value\":\"nan\"},\"top\":{\"type\":\"number\",\"value\":\"nan\"},\"bottom\":{\"type\":\"number\",\"value\":\"nan\"},\"left_units\":\"canvas\",\"right_units\":\"canvas\",\"top_units\":\"canvas\",\"bottom_units\":\"canvas\",\"handles\":{\"type\":\"object\",\"name\":\"BoxInteractionHandles\",\"id\":\"p1071\",\"attributes\":{\"all\":{\"type\":\"object\",\"name\":\"AreaVisuals\",\"id\":\"p1070\",\"attributes\":{\"fill_color\":\"white\",\"hover_fill_color\":\"lightgray\"}}}}}}}},{\"type\":\"object\",\"name\":\"SaveTool\",\"id\":\"p1072\"},{\"type\":\"object\",\"name\":\"ResetTool\",\"id\":\"p1073\"},{\"type\":\"object\",\"name\":\"HelpTool\",\"id\":\"p1074\"},{\"type\":\"object\",\"name\":\"HoverTool\",\"id\":\"p1106\",\"attributes\":{\"renderers\":\"auto\",\"tooltips\":[[\"Y-val\",\"@y{0.00}\"]]}}]}},\"left\":[{\"type\":\"object\",\"name\":\"LinearAxis\",\"id\":\"p1057\",\"attributes\":{\"ticker\":{\"type\":\"object\",\"name\":\"BasicTicker\",\"id\":\"p1058\",\"attributes\":{\"mantissas\":[1,2,5]}},\"formatter\":{\"type\":\"object\",\"name\":\"BasicTickFormatter\",\"id\":\"p1059\"},\"axis_label\":\"km/h\",\"axis_label_standoff\":10,\"axis_label_text_color\":\"#E0E0E0\",\"axis_label_text_font\":\"Helvetica\",\"axis_label_text_font_size\":\"1.25em\",\"axis_label_text_font_style\":\"normal\",\"major_label_policy\":{\"type\":\"object\",\"name\":\"AllLabels\",\"id\":\"p1060\"},\"major_label_text_color\":\"#E0E0E0\",\"major_label_text_font\":\"Helvetica\",\"major_label_text_font_size\":\"1.025em\",\"axis_line_color\":\"#E0E0E0\",\"axis_line_alpha\":0,\"major_tick_line_color\":\"#E0E0E0\",\"major_tick_line_alpha\":0,\"minor_tick_line_color\":\"#E0E0E0\",\"minor_tick_line_alpha\":0}},{\"type\":\"object\",\"name\":\"LinearAxis\",\"id\":\"p1077\",\"attributes\":{\"y_range_name\":\"altitudeFt\",\"ticker\":{\"type\":\"object\",\"name\":\"BasicTicker\",\"id\":\"p1078\",\"attributes\":{\"mantissas\":[1,2,5]}},\"formatter\":{\"type\":\"object\",\"name\":\"BasicTickFormatter\",\"id\":\"p1079\"},\"axis_label\":\"Alt (ft)\",\"axis_label_standoff\":10,\"axis_label_text_color\":\"#E0E0E0\",\"axis_label_text_font\":\"Helvetica\",\"axis_label_text_font_size\":\"1.25em\",\"axis_label_text_font_style\":\"normal\",\"major_label_policy\":{\"type\":\"object\",\"name\":\"AllLabels\",\"id\":\"p1080\"},\"major_label_text_color\":\"#E0E0E0\",\"major_label_text_font\":\"Helvetica\",\"major_label_text_font_size\":\"1.025em\",\"axis_line_color\":\"#E0E0E0\",\"axis_line_alpha\":0,\"major_tick_line_color\":\"#E0E0E0\",\"major_tick_line_alpha\":0,\"minor_tick_line_color\":\"#E0E0E0\",\"minor_tick_line_alpha\":0}},{\"type\":\"object\",\"name\":\"LinearAxis\",\"id\":\"p1081\",\"attributes\":{\"y_range_name\":\"angle\",\"ticker\":{\"type\":\"object\",\"name\":\"BasicTicker\",\"id\":\"p1082\",\"attributes\":{\"mantissas\":[1,2,5]}},\"formatter\":{\"type\":\"object\",\"name\":\"BasicTickFormatter\",\"id\":\"p1083\"},\"axis_label\":\"angle\",\"axis_label_standoff\":10,\"axis_label_text_color\":\"#E0E0E0\",\"axis_label_text_font\":\"Helvetica\",\"axis_label_text_font_size\":\"1.25em\",\"axis_label_text_font_style\":\"normal\",\"major_label_policy\":{\"type\":\"object\",\"name\":\"AllLabels\",\"id\":\"p1084\"},\"major_label_text_color\":\"#E0E0E0\",\"major_label_text_font\":\"Helvetica\",\"major_label_text_font_size\":\"1.025em\",\"axis_line_color\":\"#E0E0E0\",\"axis_line_alpha\":0,\"major_tick_line_color\":\"#E0E0E0\",\"major_tick_line_alpha\":0,\"minor_tick_line_color\":\"#E0E0E0\",\"minor_tick_line_alpha\":0}}],\"below\":[{\"type\":\"object\",\"name\":\"LinearAxis\",\"id\":\"p1052\",\"attributes\":{\"ticker\":{\"type\":\"object\",\"name\":\"BasicTicker\",\"id\":\"p1053\",\"attributes\":{\"mantissas\":[1,2,5]}},\"formatter\":{\"type\":\"object\",\"name\":\"BasicTickFormatter\",\"id\":\"p1054\"},\"axis_label\":\"seconds from exit\",\"axis_label_standoff\":10,\"axis_label_text_color\":\"#E0E0E0\",\"axis_label_text_font\":\"Helvetica\",\"axis_label_text_font_size\":\"1.25em\",\"axis_label_text_font_style\":\"normal\",\"major_label_policy\":{\"type\":\"object\",\"name\":\"AllLabels\",\"id\":\"p1055\"},\"major_label_text_color\":\"#E0E0E0\",\"major_label_text_font\":\"Helvetica\",\"major_label_text_font_size\":\"1.025em\",\"axis_line_color\":\"#E0E0E0\",\"axis_line_alpha\":0,\"major_tick_line_color\":\"#E0E0E0\",\"major_tick_line_alpha\":0,\"minor_tick_line_color\":\"#E0E0E0\",\"minor_tick_line_alpha\":0}}],\"center\":[{\"type\":\"object\",\"name\":\"Grid\",\"id\":\"p1056\",\"attributes\":{\"axis\":{\"id\":\"p1052\"},\"grid_line_color\":\"#E0E0E0\",\"grid_line_alpha\":0.25}},{\"type\":\"object\",\"name\":\"Grid\",\"id\":\"p1061\",\"attributes\":{\"dimension\":1,\"axis\":{\"id\":\"p1057\"},\"grid_line_color\":\"#E0E0E0\",\"grid_line_alpha\":0.25}},{\"type\":\"object\",\"name\":\"Legend\",\"id\":\"p1094\",\"attributes\":{\"border_line_alpha\":0,\"background_fill_color\":\"#20262B\",\"background_fill_alpha\":0.25,\"label_text_color\":\"#E0E0E0\",\"label_text_font\":\"Helvetica\",\"label_text_font_size\":\"1.025em\",\"label_standoff\":8,\"glyph_width\":15,\"spacing\":8,\"items\":[{\"type\":\"object\",\"name\":\"LegendItem\",\"id\":\"p1095\",\"attributes\":{\"label\":{\"type\":\"value\",\"value\":\"Alt (ft)\"},\"renderers\":[{\"id\":\"p1091\"}]}},{\"type\":\"object\",\"name\":\"LegendItem\",\"id\":\"p1105\",\"attributes\":{\"label\":{\"type\":\"value\",\"value\":\"angle\"},\"renderers\":[{\"id\":\"p1102\"}]}},{\"type\":\"object\",\"name\":\"LegendItem\",\"id\":\"p1116\",\"attributes\":{\"label\":{\"type\":\"value\",\"value\":\"speed\"},\"renderers\":[{\"id\":\"p1113\"}]}},{\"type\":\"object\",\"name\":\"LegendItem\",\"id\":\"p1126\",\"attributes\":{\"label\":{\"type\":\"value\",\"value\":\"H-speed\"},\"renderers\":[{\"id\":\"p1123\"}]}}]}}],\"background_fill_color\":\"#20262B\",\"border_fill_color\":\"#15191C\"}}]}};\n",
       "  const render_items = [{\"docid\":\"21b8453f-4063-43c3-8157-03113f450b8a\",\"roots\":{\"p1038\":\"e08d67be-7743-4641-87bc-d29486a98127\"},\"root_ids\":[\"p1038\"]}];\n",
       "  void root.Bokeh.embed.embed_items_notebook(docs_json, render_items);\n",
       "  }\n",
       "  if (root.Bokeh !== undefined) {\n",
       "    embed_document(root);\n",
       "  } else {\n",
       "    let attempts = 0;\n",
       "    const timer = setInterval(function(root) {\n",
       "      if (root.Bokeh !== undefined) {\n",
       "        clearInterval(timer);\n",
       "        embed_document(root);\n",
       "      } else {\n",
       "        attempts++;\n",
       "        if (attempts > 100) {\n",
       "          clearInterval(timer);\n",
       "          console.log(\"Bokeh: ERROR: Unable to run BokehJS code because BokehJS library is missing\");\n",
       "        }\n",
       "      }\n",
       "    }, 10, root)\n",
       "  }\n",
       "})(window);"
      ],
      "application/vnd.bokehjs_exec.v0+json": ""
     },
     "metadata": {
      "application/vnd.bokehjs_exec.v0+json": {
       "id": "p1038"
      }
     },
     "output_type": "display_data"
    }
   ],
   "source": [
    "allJumpsPlot = initializePlot('All jumps in set')\n",
    "jumpNumber = 0\n",
    "mixColor = 0\n",
    "for resultRef in jumpResults.keys():\n",
    "    if ignoreBaseline and 'baseline' in resultRef:\n",
    "        continue\n",
    "    jumpResult = jumpResults[resultRef]\n",
    "    if jumpResult.status == JumpStatus.OK:\n",
    "        validJumpStatus = '<hr><h1><span style=\"color: %s\">%s jump - %s - score = %.01f km/h</span></h1>' % ('green', resultRef, 'VALID', jumpResult.score)\n",
    "    else:\n",
    "        validJumpStatus = '<hr><h1><span style=\"color: %s\">%s jump - %s - %s</span></h1>' % ('red', resultRef, 'INVALID', jumpResult.status)\n",
    "\n",
    "    maxSpeed = jumpResult.maxSpeed\n",
    "    window = jumpResult.window\n",
    "    mixColor = (mixColor+1)%len(SPEED_COLORS)\n",
    "    if jumpResult.status == JumpStatus.OK:\n",
    "        belowMaxAltitude = isValidMaximumAltitude(jumpResult.data.altitudeAGL.max())\n",
    "        badJumpLegend = None\n",
    "        if not isValidMinimumAltitude(jumpResult.data.altitudeAGL.max()):\n",
    "            badJumpLegend = '<h3><span style=\"color: yellow\"><span style=\"font-weight: bold\">Warning:</span> exit altitude AGL was lower than the minimum scoring altitude according to IPC and USPA.</h3>'\n",
    "        if not belowMaxAltitude:\n",
    "            badJumpLegend = '<h3><span style=\"color: red\"><span style=\"font-weight: bold\">RE-JUMP:</span> exit altitude AGL exceeds the maximum altitude according to IPC and USPA.</h3>'\n",
    "            validJumpStatus = '<hr><h1><span style=\"color: %s\">%s jump - %s - %s</span></h1>' % ('red', resultRef, 'INVALID', JumpStatus.ALTITUDE_EXCEEDS_MAXIMUM)\n",
    "        display(widgets.HTML(validJumpStatus))            \n",
    "        display(widgets.HTML('<h3>Max speed = {0:,.0f}; '.format(maxSpeed)+('exit at %d m (%d ft), end scoring window at %d m (%d ft)</h3?'%(window.start, 3.2808*window.start, window.end, 3.2808*window.end))))\n",
    "        if badJumpLegend:\n",
    "            display(widgets.HTML(badJumpLegend))\n",
    "            # TODO: Fix this logic, it's bass ackwards.\n",
    "            # if not belowMaxAltitude:\n",
    "            #     continue\n",
    "        displayJumpDataIn(jumpResult.table)\n",
    "        individualPlot = initializePlot(resultRef)\n",
    "        individualPlot = initializeExtraYRanges(individualPlot, startY = min(jumpResult.data.altitudeAGLFt)-500.0, endY = max(jumpResult.data.altitudeAGLFt)+500.0)\n",
    "        graphAltitude(individualPlot, jumpResult)\n",
    "        graphAngle(individualPlot, jumpResult)\n",
    "        hoverValue = bm.HoverTool(tooltips=[('Y-val', '@y{0.00}',),])\n",
    "        individualPlot.add_tools(hoverValue)\n",
    "        graphJumpResult(\n",
    "            individualPlot,\n",
    "            jumpResult,\n",
    "            lineColor=SPEED_COLORS[0])\n",
    "        graphJumpResult(\n",
    "            allJumpsPlot,\n",
    "            jumpResult,\n",
    "            lineColor=SPEED_COLORS[mixColor],\n",
    "            legend='%s - %.2f' % (resultRef, jumpResult.score),\n",
    "            showIt=False)"
   ]
  },
  {
   "cell_type": "markdown",
   "id": "7ce6a107-0553-4477-8159-48f89c4ebf3d",
   "metadata": {},
   "source": [
    "---\n",
    "## All skydives"
   ]
  },
  {
   "cell_type": "code",
   "execution_count": null,
   "id": "60f84d2b-7b74-4d79-86d8-112e2617c8f5",
   "metadata": {},
   "outputs": [],
   "source": [
    "sumResults = totalResultsFrom(aggregate)\n",
    "display(roundedResults)\n",
    "display(sumResults)\n",
    "bp.show(allJumpsPlot)"
   ]
  },
  {
   "cell_type": "code",
   "execution_count": null,
   "id": "48529e54-b84c-4f2b-9662-e4ace701a528",
   "metadata": {},
   "outputs": [],
   "source": []
  }
 ],
 "metadata": {
  "kernelspec": {
   "display_name": "Python 3 (ipykernel)",
   "language": "python",
   "name": "python3"
  },
  "language_info": {
   "codemirror_mode": {
    "name": "ipython",
    "version": 3
   },
   "file_extension": ".py",
   "mimetype": "text/x-python",
   "name": "python",
   "nbconvert_exporter": "python",
   "pygments_lexer": "ipython3",
   "version": "3.11.10"
  }
 },
 "nbformat": 4,
 "nbformat_minor": 5
}
