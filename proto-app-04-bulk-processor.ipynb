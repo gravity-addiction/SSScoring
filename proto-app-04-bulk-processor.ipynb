{
 "cells": [
  {
   "cell_type": "markdown",
   "id": "12683b83-af00-4386-9d59-569068e265fb",
   "metadata": {},
   "source": [
    "# Bulk processor and improved FlySight file and jump validation\n",
    "\n",
    "Uses `./data` as a data lake."
   ]
  },
  {
   "cell_type": "code",
   "execution_count": 38,
   "id": "2768c7af-c522-441c-86f6-459ca4bb59f2",
   "metadata": {},
   "outputs": [],
   "source": [
    "%%capture\n",
    "!x=$(pip list | awk '/haversine/') ; [[ -z \"$x\" ]] && make local"
   ]
  },
  {
   "cell_type": "code",
   "execution_count": 39,
   "id": "a3717f50-94a0-4023-9c31-a2ba3d2da3c4",
   "metadata": {},
   "outputs": [],
   "source": [
    "from pathlib import Path\n",
    "\n",
    "import warnings\n",
    "\n",
    "import bokeh.models as bm\n",
    "import bokeh.plotting as bp\n",
    "import ipywidgets as widgets\n",
    "import pandas as pd"
   ]
  },
  {
   "cell_type": "code",
   "execution_count": 40,
   "id": "22dfda53-510e-4a71-a992-6619f3bdbb14",
   "metadata": {},
   "outputs": [],
   "source": [
    "from ssscoring.calc import aggregateResults\n",
    "from ssscoring.calc import convertFlySight2SSScoring\n",
    "from ssscoring.calc import getFlySightDataFromCSV\n",
    "from ssscoring.calc import isValidMaximumAltitude\n",
    "from ssscoring.calc import isValidMinimumAltitude\n",
    "from ssscoring.calc import processAllJumpFiles\n",
    "from ssscoring.calc import processJump\n",
    "from ssscoring.calc import roundedAggregateResults\n",
    "from ssscoring.calc import totalResultsFrom\n",
    "from ssscoring.datatypes import JumpStatus\n",
    "from ssscoring.constants import FT_IN_M\n",
    "from ssscoring.flysight import getAllSpeedJumpFilesFrom\n",
    "from ssscoring.notebook import SPEED_COLORS\n",
    "from ssscoring.notebook import graphAltitude\n",
    "from ssscoring.notebook import graphAngle\n",
    "from ssscoring.notebook import graphJumpResult\n",
    "from ssscoring.notebook import initializeExtraYRanges\n",
    "from ssscoring.notebook import initializePlot"
   ]
  },
  {
   "cell_type": "markdown",
   "id": "2cecfa30-de7d-4da9-b3b0-4377d77781a4",
   "metadata": {},
   "source": [
    "---\n",
    "## Set DZ altitude MSL\n",
    "\n",
    "Set the value in ft."
   ]
  },
  {
   "cell_type": "code",
   "execution_count": 41,
   "id": "d6945e5d-b64b-408d-b3f3-31e0e9f76374",
   "metadata": {},
   "outputs": [
    {
     "data": {
      "text/html": [
       "<div>\n",
       "<style scoped>\n",
       "    .dataframe tbody tr th:only-of-type {\n",
       "        vertical-align: middle;\n",
       "    }\n",
       "\n",
       "    .dataframe tbody tr th {\n",
       "        vertical-align: top;\n",
       "    }\n",
       "\n",
       "    .dataframe thead th {\n",
       "        text-align: right;\n",
       "    }\n",
       "</style>\n",
       "<table border=\"1\" class=\"dataframe\">\n",
       "  <thead>\n",
       "    <tr style=\"text-align: right;\">\n",
       "      <th></th>\n",
       "      <th>Drop zone</th>\n",
       "      <th>Alt (ft)</th>\n",
       "    </tr>\n",
       "  </thead>\n",
       "  <tbody>\n",
       "    <tr>\n",
       "      <th>0</th>\n",
       "      <td>Bay Area Skydiving</td>\n",
       "      <td>23.0</td>\n",
       "    </tr>\n",
       "    <tr>\n",
       "      <th>1</th>\n",
       "      <td>Drop Zone Thailand</td>\n",
       "      <td>15.0</td>\n",
       "    </tr>\n",
       "    <tr>\n",
       "      <th>2</th>\n",
       "      <td>Fehrbellin</td>\n",
       "      <td>138.0</td>\n",
       "    </tr>\n",
       "    <tr>\n",
       "      <th>3</th>\n",
       "      <td>Mile High</td>\n",
       "      <td>5500.0</td>\n",
       "    </tr>\n",
       "    <tr>\n",
       "      <th>4</th>\n",
       "      <td>Neustadt-Glewe</td>\n",
       "      <td>115.0</td>\n",
       "    </tr>\n",
       "    <tr>\n",
       "      <th>5</th>\n",
       "      <td>Paracaidismo Celaya</td>\n",
       "      <td>5734.0</td>\n",
       "    </tr>\n",
       "    <tr>\n",
       "      <th>6</th>\n",
       "      <td>Paraclete XP</td>\n",
       "      <td>304.0</td>\n",
       "    </tr>\n",
       "    <tr>\n",
       "      <th>7</th>\n",
       "      <td>Saarlouis-Düren</td>\n",
       "      <td>1119.0</td>\n",
       "    </tr>\n",
       "    <tr>\n",
       "      <th>8</th>\n",
       "      <td>SkyDance SkyDiving</td>\n",
       "      <td>100.0</td>\n",
       "    </tr>\n",
       "    <tr>\n",
       "      <th>9</th>\n",
       "      <td>Skydive Arizona</td>\n",
       "      <td>1509.0</td>\n",
       "    </tr>\n",
       "    <tr>\n",
       "      <th>10</th>\n",
       "      <td>Skydive Chicago</td>\n",
       "      <td>616.0</td>\n",
       "    </tr>\n",
       "    <tr>\n",
       "      <th>11</th>\n",
       "      <td>Skydive Netheravon</td>\n",
       "      <td>454.0</td>\n",
       "    </tr>\n",
       "    <tr>\n",
       "      <th>12</th>\n",
       "      <td>Skydive Puebla</td>\n",
       "      <td>5744.0</td>\n",
       "    </tr>\n",
       "    <tr>\n",
       "      <th>13</th>\n",
       "      <td>Skydive Saulgau</td>\n",
       "      <td>1903.0</td>\n",
       "    </tr>\n",
       "    <tr>\n",
       "      <th>14</th>\n",
       "      <td>Skydive Teuge</td>\n",
       "      <td>15.0</td>\n",
       "    </tr>\n",
       "    <tr>\n",
       "      <th>15</th>\n",
       "      <td>Thai Sky Adventures</td>\n",
       "      <td>21.0</td>\n",
       "    </tr>\n",
       "  </tbody>\n",
       "</table>\n",
       "</div>"
      ],
      "text/plain": [
       "              Drop zone  Alt (ft)\n",
       "0    Bay Area Skydiving      23.0\n",
       "1    Drop Zone Thailand      15.0\n",
       "2            Fehrbellin     138.0\n",
       "3             Mile High    5500.0\n",
       "4        Neustadt-Glewe     115.0\n",
       "5   Paracaidismo Celaya    5734.0\n",
       "6          Paraclete XP     304.0\n",
       "7       Saarlouis-Düren    1119.0\n",
       "8    SkyDance SkyDiving     100.0\n",
       "9       Skydive Arizona    1509.0\n",
       "10      Skydive Chicago     616.0\n",
       "11   Skydive Netheravon     454.0\n",
       "12       Skydive Puebla    5744.0\n",
       "13      Skydive Saulgau    1903.0\n",
       "14        Skydive Teuge      15.0\n",
       "15  Thai Sky Adventures      21.0"
      ]
     },
     "execution_count": 41,
     "metadata": {},
     "output_type": "execute_result"
    }
   ],
   "source": [
    "\n",
    "dropZones = {\n",
    "    'Drop zone': [\n",
    "        'Bay Area Skydiving',\n",
    "        'Drop Zone Thailand',\n",
    "        'Fehrbellin',\n",
    "        'Mile High',\n",
    "        'Neustadt-Glewe',\n",
    "        'Paracaidismo Celaya',\n",
    "        'Paraclete XP',\n",
    "        'Saarlouis-Düren',\n",
    "        'SkyDance SkyDiving',\n",
    "        'Skydive Arizona',\n",
    "        'Skydive Chicago',\n",
    "        'Skydive Netheravon',\n",
    "        'Skydive Puebla',\n",
    "        'Skydive Saulgau',\n",
    "        'Skydive Teuge',\n",
    "        'Thai Sky Adventures',\n",
    "    ],\n",
    "    'Alt (ft)': [\n",
    "        23.0,\n",
    "        15.0,\n",
    "        138.0,\n",
    "        5500.0,\n",
    "        115.0,\n",
    "        5734.0,\n",
    "        304.0,\n",
    "        1119.0,\n",
    "        100.0,\n",
    "        1509.0,\n",
    "        616.0,\n",
    "        454.0,\n",
    "        5744.0,\n",
    "        1903.0,\n",
    "        15.0,\n",
    "        21.0,\n",
    "    ],\n",
    "}\n",
    "\n",
    "pd.DataFrame(dropZones, columns=[ 'Drop zone', 'Alt (ft)', ])"
   ]
  },
  {
   "cell_type": "code",
   "execution_count": 42,
   "id": "d947199b-00fb-4e8d-9960-40810fd1b049",
   "metadata": {},
   "outputs": [],
   "source": [
    "dropZoneAltMSL = 1509.0\n",
    "ignoreBaseline = True"
   ]
  },
  {
   "cell_type": "code",
   "execution_count": 43,
   "id": "d78869b7-23ae-456e-bc86-53e5278cde94",
   "metadata": {
    "jupyter": {
     "source_hidden": true
    }
   },
   "outputs": [
    {
     "data": {
      "application/vnd.jupyter.widget-view+json": {
       "model_id": "ffbbcf77d9584822a04a2620bf771378",
       "version_major": 2,
       "version_minor": 0
      },
      "text/plain": [
       "HTML(value='<h2>DZ Altitude = <span style = \"color: green\">1509.00 ft</span> ( 459.95 m)<h1>')"
      ]
     },
     "metadata": {},
     "output_type": "display_data"
    }
   ],
   "source": [
    "dropZoneAltMSLMeters = dropZoneAltMSL/FT_IN_M\n",
    "display(widgets.HTML('<h2>DZ Altitude = <span style = \"color: green\">%7.2f ft</span> (%7.2f m)<h1>' % (dropZoneAltMSL, dropZoneAltMSLMeters)))"
   ]
  },
  {
   "cell_type": "code",
   "execution_count": 44,
   "id": "d1db80cc-9b99-44d8-b333-b61a5c8fd5ce",
   "metadata": {},
   "outputs": [],
   "source": [
    "jumpFiles = getAllSpeedJumpFilesFrom(Path('./data'))"
   ]
  },
  {
   "cell_type": "markdown",
   "id": "760b292f-f45f-4d0f-bb86-74f0f6dc30d8",
   "metadata": {},
   "source": [
    "---\n",
    "## Process and detect non-jump file\n",
    "\n",
    "The first file in the list for this test is a warm up file.  Detect and ignore it."
   ]
  },
  {
   "cell_type": "code",
   "execution_count": 45,
   "id": "d476e433-5c61-47b0-b1a1-f92435351594",
   "metadata": {
    "jupyter": {
     "source_hidden": true
    }
   },
   "outputs": [
    {
     "data": {
      "application/vnd.jupyter.widget-view+json": {
       "model_id": "58a89c54ee124e8889d6863fd52c212b",
       "version_major": 2,
       "version_minor": 0
      },
      "text/plain": [
       "HTML(value='<h3>data/09-11-00.CSV - warm up file')"
      ]
     },
     "metadata": {},
     "output_type": "display_data"
    }
   ],
   "source": [
    "filePath = list(jumpFiles.keys())[0]\n",
    "rawData, tag = getFlySightDataFromCSV(filePath)\n",
    "data = convertFlySight2SSScoring(rawData, altitudeDZMeters=dropZoneAltMSLMeters)\n",
    "jumpResults = processJump(data)\n",
    "if jumpResults.status == JumpStatus.WARM_UP_FILE:\n",
    "    display(widgets.HTML('<h3>%s - warm up file' % filePath.as_posix()))"
   ]
  },
  {
   "cell_type": "markdown",
   "id": "aee48243-0cdf-47b2-8f6b-bfa5fe655eb7",
   "metadata": {},
   "source": [
    "---\n",
    "## Process jump file\n"
   ]
  },
  {
   "cell_type": "code",
   "execution_count": 46,
   "id": "b09021e1-aa25-4edc-945c-57883c8240d9",
   "metadata": {},
   "outputs": [
    {
     "data": {
      "text/html": [
       "<div>\n",
       "<style scoped>\n",
       "    .dataframe tbody tr th:only-of-type {\n",
       "        vertical-align: middle;\n",
       "    }\n",
       "\n",
       "    .dataframe tbody tr th {\n",
       "        vertical-align: top;\n",
       "    }\n",
       "\n",
       "    .dataframe thead th {\n",
       "        text-align: right;\n",
       "    }\n",
       "</style>\n",
       "<table border=\"1\" class=\"dataframe\">\n",
       "  <thead>\n",
       "    <tr style=\"text-align: right;\">\n",
       "      <th></th>\n",
       "      <th>time</th>\n",
       "      <th>vKMh</th>\n",
       "      <th>hKMh</th>\n",
       "      <th>speedAngle</th>\n",
       "      <th>distanceFromExit (m)</th>\n",
       "      <th>altitude (ft)</th>\n",
       "      <th>netVectorKMh</th>\n",
       "    </tr>\n",
       "  </thead>\n",
       "  <tbody>\n",
       "    <tr>\n",
       "      <th>10249</th>\n",
       "      <td>5.0</td>\n",
       "      <td>173.160</td>\n",
       "      <td>142.639183</td>\n",
       "      <td>50.52</td>\n",
       "      <td>231.14</td>\n",
       "      <td>12056.602757</td>\n",
       "      <td>224.344204</td>\n",
       "    </tr>\n",
       "    <tr>\n",
       "      <th>10274</th>\n",
       "      <td>10.0</td>\n",
       "      <td>316.908</td>\n",
       "      <td>116.481587</td>\n",
       "      <td>69.82</td>\n",
       "      <td>413.24</td>\n",
       "      <td>10913.188183</td>\n",
       "      <td>337.636847</td>\n",
       "    </tr>\n",
       "    <tr>\n",
       "      <th>10299</th>\n",
       "      <td>15.0</td>\n",
       "      <td>414.252</td>\n",
       "      <td>91.204833</td>\n",
       "      <td>77.58</td>\n",
       "      <td>551.40</td>\n",
       "      <td>9223.212014</td>\n",
       "      <td>424.173362</td>\n",
       "    </tr>\n",
       "    <tr>\n",
       "      <th>10324</th>\n",
       "      <td>20.0</td>\n",
       "      <td>452.988</td>\n",
       "      <td>54.542946</td>\n",
       "      <td>83.13</td>\n",
       "      <td>641.72</td>\n",
       "      <td>7221.628742</td>\n",
       "      <td>456.259861</td>\n",
       "    </tr>\n",
       "    <tr>\n",
       "      <th>10343</th>\n",
       "      <td>23.8</td>\n",
       "      <td>470.772</td>\n",
       "      <td>35.741311</td>\n",
       "      <td>85.66</td>\n",
       "      <td>671.23</td>\n",
       "      <td>5618.528158</td>\n",
       "      <td>472.126802</td>\n",
       "    </tr>\n",
       "  </tbody>\n",
       "</table>\n",
       "</div>"
      ],
      "text/plain": [
       "       time     vKMh        hKMh  speedAngle  distanceFromExit (m)  \\\n",
       "10249   5.0  173.160  142.639183       50.52                231.14   \n",
       "10274  10.0  316.908  116.481587       69.82                413.24   \n",
       "10299  15.0  414.252   91.204833       77.58                551.40   \n",
       "10324  20.0  452.988   54.542946       83.13                641.72   \n",
       "10343  23.8  470.772   35.741311       85.66                671.23   \n",
       "\n",
       "       altitude (ft)  netVectorKMh  \n",
       "10249   12056.602757    224.344204  \n",
       "10274   10913.188183    337.636847  \n",
       "10299    9223.212014    424.173362  \n",
       "10324    7221.628742    456.259861  \n",
       "10343    5618.528158    472.126802  "
      ]
     },
     "metadata": {},
     "output_type": "display_data"
    },
    {
     "data": {
      "text/plain": [
       "PerformanceWindow(start=np.float64(3806.884207022677), end=1707.0, validationStart=2713.0)"
      ]
     },
     "metadata": {},
     "output_type": "display_data"
    }
   ],
   "source": [
    "warnings.filterwarnings('ignore', category=UserWarning) # FNV, conda issue\n",
    "jumpFilesList = list(jumpFiles.keys())\n",
    "if (len(jumpFilesList) > 1):\n",
    "    filePath = jumpFilesList[1]\n",
    "    rawData, tag = getFlySightDataFromCSV(filePath)\n",
    "    data = convertFlySight2SSScoring(rawData, altitudeDZMeters=dropZoneAltMSLMeters)\n",
    "    jumpResult = processJump(data)\n",
    "    if jumpResult.status == JumpStatus.OK:\n",
    "        display(jumpResult.table)\n",
    "        display(jumpResult.window)"
   ]
  },
  {
   "cell_type": "markdown",
   "id": "032f588b-c2a0-4545-a679-e94df877d71f",
   "metadata": {},
   "source": [
    "---\n",
    "## Results"
   ]
  },
  {
   "cell_type": "code",
   "execution_count": 47,
   "id": "9be65f7e-e8e3-48bd-b445-2510ae605920",
   "metadata": {
    "jupyter": {
     "source_hidden": true
    }
   },
   "outputs": [
    {
     "data": {
      "text/html": [
       "<div>\n",
       "<style scoped>\n",
       "    .dataframe tbody tr th:only-of-type {\n",
       "        vertical-align: middle;\n",
       "    }\n",
       "\n",
       "    .dataframe tbody tr th {\n",
       "        vertical-align: top;\n",
       "    }\n",
       "\n",
       "    .dataframe thead th {\n",
       "        text-align: right;\n",
       "    }\n",
       "</style>\n",
       "<table border=\"1\" class=\"dataframe\">\n",
       "  <thead>\n",
       "    <tr style=\"text-align: right;\">\n",
       "      <th></th>\n",
       "      <th>score</th>\n",
       "      <th>5.0</th>\n",
       "      <th>10.0</th>\n",
       "      <th>15.0</th>\n",
       "      <th>20.0</th>\n",
       "      <th>25.0</th>\n",
       "      <th>finalTime</th>\n",
       "      <th>maxSpeed</th>\n",
       "    </tr>\n",
       "  </thead>\n",
       "  <tbody>\n",
       "    <tr>\n",
       "      <th>data 09-37-27:v1</th>\n",
       "      <td>464.85</td>\n",
       "      <td>173.160</td>\n",
       "      <td>316.908</td>\n",
       "      <td>414.252</td>\n",
       "      <td>452.988</td>\n",
       "      <td>470.772</td>\n",
       "      <td>23.8</td>\n",
       "      <td>470.772</td>\n",
       "    </tr>\n",
       "    <tr>\n",
       "      <th>data 10-56-45:v1</th>\n",
       "      <td>455.84</td>\n",
       "      <td>164.484</td>\n",
       "      <td>304.956</td>\n",
       "      <td>402.804</td>\n",
       "      <td>448.236</td>\n",
       "      <td>453.924</td>\n",
       "      <td>23.6</td>\n",
       "      <td>456.264</td>\n",
       "    </tr>\n",
       "    <tr>\n",
       "      <th>data 12-14-48:v1</th>\n",
       "      <td>454.19</td>\n",
       "      <td>175.644</td>\n",
       "      <td>312.732</td>\n",
       "      <td>407.484</td>\n",
       "      <td>444.276</td>\n",
       "      <td>460.188</td>\n",
       "      <td>22.8</td>\n",
       "      <td>460.188</td>\n",
       "    </tr>\n",
       "    <tr>\n",
       "      <th>data Ciurana-jump-02-container-09-56-08:v1</th>\n",
       "      <td>495.33</td>\n",
       "      <td>182.700</td>\n",
       "      <td>326.196</td>\n",
       "      <td>429.624</td>\n",
       "      <td>478.368</td>\n",
       "      <td>497.916</td>\n",
       "      <td>24.2</td>\n",
       "      <td>497.916</td>\n",
       "    </tr>\n",
       "  </tbody>\n",
       "</table>\n",
       "</div>"
      ],
      "text/plain": [
       "                                             score      5.0     10.0     15.0  \\\n",
       "data 09-37-27:v1                            464.85  173.160  316.908  414.252   \n",
       "data 10-56-45:v1                            455.84  164.484  304.956  402.804   \n",
       "data 12-14-48:v1                            454.19  175.644  312.732  407.484   \n",
       "data Ciurana-jump-02-container-09-56-08:v1  495.33  182.700  326.196  429.624   \n",
       "\n",
       "                                               20.0     25.0  finalTime  \\\n",
       "data 09-37-27:v1                            452.988  470.772       23.8   \n",
       "data 10-56-45:v1                            448.236  453.924       23.6   \n",
       "data 12-14-48:v1                            444.276  460.188       22.8   \n",
       "data Ciurana-jump-02-container-09-56-08:v1  478.368  497.916       24.2   \n",
       "\n",
       "                                            maxSpeed  \n",
       "data 09-37-27:v1                             470.772  \n",
       "data 10-56-45:v1                             456.264  \n",
       "data 12-14-48:v1                             460.188  \n",
       "data Ciurana-jump-02-container-09-56-08:v1   497.916  "
      ]
     },
     "execution_count": 47,
     "metadata": {},
     "output_type": "execute_result"
    }
   ],
   "source": [
    "warnings.filterwarnings('ignore', category=UserWarning) # FNV, conda issue\n",
    "jumpResults = processAllJumpFiles(jumpFiles=jumpFiles, altitudeDZMeters=dropZoneAltMSLMeters)\n",
    "aggregate = aggregateResults(jumpResults)\n",
    "aggregate"
   ]
  },
  {
   "cell_type": "markdown",
   "id": "d537b482-1450-4d46-af6e-ccf07fe480f4",
   "metadata": {},
   "source": [
    "### Rounded results for training log"
   ]
  },
  {
   "cell_type": "code",
   "execution_count": 48,
   "id": "02536e30-0d27-4c71-9baf-bb7619fee52a",
   "metadata": {
    "jupyter": {
     "source_hidden": true
    }
   },
   "outputs": [
    {
     "data": {
      "text/html": [
       "<div>\n",
       "<style scoped>\n",
       "    .dataframe tbody tr th:only-of-type {\n",
       "        vertical-align: middle;\n",
       "    }\n",
       "\n",
       "    .dataframe tbody tr th {\n",
       "        vertical-align: top;\n",
       "    }\n",
       "\n",
       "    .dataframe thead th {\n",
       "        text-align: right;\n",
       "    }\n",
       "</style>\n",
       "<table border=\"1\" class=\"dataframe\">\n",
       "  <thead>\n",
       "    <tr style=\"text-align: right;\">\n",
       "      <th></th>\n",
       "      <th>score</th>\n",
       "      <th>5.0</th>\n",
       "      <th>10.0</th>\n",
       "      <th>15.0</th>\n",
       "      <th>20.0</th>\n",
       "      <th>25.0</th>\n",
       "      <th>finalTime</th>\n",
       "      <th>maxSpeed</th>\n",
       "    </tr>\n",
       "  </thead>\n",
       "  <tbody>\n",
       "    <tr>\n",
       "      <th>data 09-37-27:v1</th>\n",
       "      <td>465</td>\n",
       "      <td>173</td>\n",
       "      <td>317</td>\n",
       "      <td>414</td>\n",
       "      <td>453</td>\n",
       "      <td>471</td>\n",
       "      <td>23.8</td>\n",
       "      <td>471</td>\n",
       "    </tr>\n",
       "    <tr>\n",
       "      <th>data 10-56-45:v1</th>\n",
       "      <td>456</td>\n",
       "      <td>164</td>\n",
       "      <td>305</td>\n",
       "      <td>403</td>\n",
       "      <td>448</td>\n",
       "      <td>454</td>\n",
       "      <td>23.6</td>\n",
       "      <td>456</td>\n",
       "    </tr>\n",
       "    <tr>\n",
       "      <th>data 12-14-48:v1</th>\n",
       "      <td>454</td>\n",
       "      <td>176</td>\n",
       "      <td>313</td>\n",
       "      <td>407</td>\n",
       "      <td>444</td>\n",
       "      <td>460</td>\n",
       "      <td>22.8</td>\n",
       "      <td>460</td>\n",
       "    </tr>\n",
       "    <tr>\n",
       "      <th>data Ciurana-jump-02-container-09-56-08:v1</th>\n",
       "      <td>495</td>\n",
       "      <td>183</td>\n",
       "      <td>326</td>\n",
       "      <td>430</td>\n",
       "      <td>478</td>\n",
       "      <td>498</td>\n",
       "      <td>24.2</td>\n",
       "      <td>498</td>\n",
       "    </tr>\n",
       "  </tbody>\n",
       "</table>\n",
       "</div>"
      ],
      "text/plain": [
       "                                            score  5.0  10.0  15.0  20.0  \\\n",
       "data 09-37-27:v1                              465  173   317   414   453   \n",
       "data 10-56-45:v1                              456  164   305   403   448   \n",
       "data 12-14-48:v1                              454  176   313   407   444   \n",
       "data Ciurana-jump-02-container-09-56-08:v1    495  183   326   430   478   \n",
       "\n",
       "                                            25.0  finalTime  maxSpeed  \n",
       "data 09-37-27:v1                             471       23.8       471  \n",
       "data 10-56-45:v1                             454       23.6       456  \n",
       "data 12-14-48:v1                             460       22.8       460  \n",
       "data Ciurana-jump-02-container-09-56-08:v1   498       24.2       498  "
      ]
     },
     "execution_count": 48,
     "metadata": {},
     "output_type": "execute_result"
    }
   ],
   "source": [
    "roundedResults = roundedAggregateResults(aggregate)\n",
    "roundedResults"
   ]
  },
  {
   "cell_type": "markdown",
   "id": "4f6d55ef-46f7-4713-bf61-d92d40678ee2",
   "metadata": {},
   "source": [
    "## All jumps"
   ]
  },
  {
   "cell_type": "code",
   "execution_count": 49,
   "id": "c8bce3a3-46eb-43c3-885b-2df67916bcd2",
   "metadata": {},
   "outputs": [],
   "source": [
    "def displayJumpDataIn(resultsTable: pd.DataFrame):\n",
    "    table = resultsTable.copy()\n",
    "    # Experimental\n",
    "    # For more information on the `interpolate` method and its options, see the [pandas documentation](https://pandas.pydata.org/pandas-docs/stable/reference/api/pandas.Series.interpolate.html).\n",
    "    # Additionally, you can also consider using other libraries like `scipy` which provides more advanced interpolation methods, such as `interp1d` or `griddata`. See the [scipy documentation](https://docs.scipy.org/doc/scipy/reference/interpolate.html) for more information.\n",
    "    table.vKMh = table.vKMh.apply(round)\n",
    "    table.hKMh = table.hKMh.apply(round)\n",
    "    table['altitude (ft)'] = table['altitude (ft)'].apply(round)\n",
    "    table.netVectorKMh = table.netVectorKMh.apply(round)\n",
    "    table.index = ['']*len(table)\n",
    "    display(table)"
   ]
  },
  {
   "cell_type": "code",
   "execution_count": 50,
   "id": "d33d654f-7f78-4d98-8c5d-3da562a4ca61",
   "metadata": {},
   "outputs": [
    {
     "data": {
      "application/vnd.jupyter.widget-view+json": {
       "model_id": "eb23c7149d0146478044433334697cf9",
       "version_major": 2,
       "version_minor": 0
      },
      "text/plain": [
       "HTML(value='<hr><h1><span style=\"color: green\">data 09-37-27:v1 jump - VALID - score = 464.9 km/h</span></h1>'…"
      ]
     },
     "metadata": {},
     "output_type": "display_data"
    },
    {
     "data": {
      "application/vnd.jupyter.widget-view+json": {
       "model_id": "bc6bbd6fa1744b47856697eebd39ce33",
       "version_major": 2,
       "version_minor": 0
      },
      "text/plain": [
       "HTML(value='<h3>Max speed = 471; exit at 3806 m (12489 ft), end scoring window at 1707 m (5600 ft)</h3?')"
      ]
     },
     "metadata": {},
     "output_type": "display_data"
    },
    {
     "data": {
      "application/vnd.jupyter.widget-view+json": {
       "model_id": "669c79292345486f9e5d703f4d423dca",
       "version_major": 2,
       "version_minor": 0
      },
      "text/plain": [
       "HTML(value='<h3><span style=\"color: yellow\"><span style=\"font-weight: bold\">Warning:</span> exit altitude AGL …"
      ]
     },
     "metadata": {},
     "output_type": "display_data"
    },
    {
     "data": {
      "text/html": [
       "<div>\n",
       "<style scoped>\n",
       "    .dataframe tbody tr th:only-of-type {\n",
       "        vertical-align: middle;\n",
       "    }\n",
       "\n",
       "    .dataframe tbody tr th {\n",
       "        vertical-align: top;\n",
       "    }\n",
       "\n",
       "    .dataframe thead th {\n",
       "        text-align: right;\n",
       "    }\n",
       "</style>\n",
       "<table border=\"1\" class=\"dataframe\">\n",
       "  <thead>\n",
       "    <tr style=\"text-align: right;\">\n",
       "      <th></th>\n",
       "      <th>time</th>\n",
       "      <th>vKMh</th>\n",
       "      <th>hKMh</th>\n",
       "      <th>speedAngle</th>\n",
       "      <th>distanceFromExit (m)</th>\n",
       "      <th>altitude (ft)</th>\n",
       "      <th>netVectorKMh</th>\n",
       "    </tr>\n",
       "  </thead>\n",
       "  <tbody>\n",
       "    <tr>\n",
       "      <th></th>\n",
       "      <td>5.0</td>\n",
       "      <td>173</td>\n",
       "      <td>143</td>\n",
       "      <td>50.52</td>\n",
       "      <td>231.14</td>\n",
       "      <td>12057</td>\n",
       "      <td>224</td>\n",
       "    </tr>\n",
       "    <tr>\n",
       "      <th></th>\n",
       "      <td>10.0</td>\n",
       "      <td>317</td>\n",
       "      <td>116</td>\n",
       "      <td>69.82</td>\n",
       "      <td>413.24</td>\n",
       "      <td>10913</td>\n",
       "      <td>338</td>\n",
       "    </tr>\n",
       "    <tr>\n",
       "      <th></th>\n",
       "      <td>15.0</td>\n",
       "      <td>414</td>\n",
       "      <td>91</td>\n",
       "      <td>77.58</td>\n",
       "      <td>551.40</td>\n",
       "      <td>9223</td>\n",
       "      <td>424</td>\n",
       "    </tr>\n",
       "    <tr>\n",
       "      <th></th>\n",
       "      <td>20.0</td>\n",
       "      <td>453</td>\n",
       "      <td>55</td>\n",
       "      <td>83.13</td>\n",
       "      <td>641.72</td>\n",
       "      <td>7222</td>\n",
       "      <td>456</td>\n",
       "    </tr>\n",
       "    <tr>\n",
       "      <th></th>\n",
       "      <td>25.0</td>\n",
       "      <td>471</td>\n",
       "      <td>36</td>\n",
       "      <td>85.66</td>\n",
       "      <td>671.23</td>\n",
       "      <td>5619</td>\n",
       "      <td>472</td>\n",
       "    </tr>\n",
       "  </tbody>\n",
       "</table>\n",
       "</div>"
      ],
      "text/plain": [
       "  time  vKMh  hKMh  speedAngle  distanceFromExit (m)  altitude (ft)  \\\n",
       "   5.0   173   143       50.52                231.14          12057   \n",
       "  10.0   317   116       69.82                413.24          10913   \n",
       "  15.0   414    91       77.58                551.40           9223   \n",
       "  20.0   453    55       83.13                641.72           7222   \n",
       "  25.0   471    36       85.66                671.23           5619   \n",
       "\n",
       "  netVectorKMh  \n",
       "           224  \n",
       "           338  \n",
       "           424  \n",
       "           456  \n",
       "           472  "
      ]
     },
     "metadata": {},
     "output_type": "display_data"
    },
    {
     "data": {
      "text/html": [
       "\n",
       "  <div id=\"e77c0df7-490c-419b-af0e-bc88af725a2a\" data-root-id=\"p1972\" style=\"display: contents;\"></div>\n"
      ]
     },
     "metadata": {},
     "output_type": "display_data"
    },
    {
     "data": {
      "application/javascript": [
       "(function(root) {\n",
       "  function embed_document(root) {\n",
       "  const docs_json = {\"357f30f8-5da2-4385-ac34-6a75f0fd179d\":{\"version\":\"3.5.2\",\"title\":\"Bokeh Application\",\"roots\":[{\"type\":\"object\",\"name\":\"Figure\",\"id\":\"p1972\",\"attributes\":{\"width\":900,\"height\":500,\"x_range\":{\"type\":\"object\",\"name\":\"Range1d\",\"id\":\"p1982\",\"attributes\":{\"end\":35.0}},\"y_range\":{\"type\":\"object\",\"name\":\"Range1d\",\"id\":\"p1983\",\"attributes\":{\"end\":550.0}},\"x_scale\":{\"type\":\"object\",\"name\":\"LinearScale\",\"id\":\"p1984\"},\"y_scale\":{\"type\":\"object\",\"name\":\"LinearScale\",\"id\":\"p1985\"},\"extra_y_ranges\":{\"type\":\"map\",\"entries\":[[\"altitudeFt\",{\"type\":\"object\",\"name\":\"Range1d\",\"id\":\"p2009\",\"attributes\":{\"start\":5118.5281576,\"end\":12989.6257064}}],[\"angle\",{\"type\":\"object\",\"name\":\"Range1d\",\"id\":\"p2010\",\"attributes\":{\"end\":90.0}}]]},\"title\":{\"type\":\"object\",\"name\":\"Title\",\"id\":\"p1975\",\"attributes\":{\"text\":\"data 09-37-27:v1\",\"text_color\":\"#E0E0E0\",\"text_font\":\"Helvetica\",\"text_font_size\":\"1.15em\"}},\"outline_line_color\":\"#E0E0E0\",\"outline_line_alpha\":0.25,\"renderers\":[{\"type\":\"object\",\"name\":\"GlyphRenderer\",\"id\":\"p2025\",\"attributes\":{\"y_range_name\":\"altitudeFt\",\"data_source\":{\"type\":\"object\",\"name\":\"ColumnDataSource\",\"id\":\"p2019\",\"attributes\":{\"selected\":{\"type\":\"object\",\"name\":\"Selection\",\"id\":\"p2020\",\"attributes\":{\"indices\":[],\"line_indices\":[]}},\"selection_policy\":{\"type\":\"object\",\"name\":\"UnionRenderers\",\"id\":\"p2021\"},\"data\":{\"type\":\"map\",\"entries\":[[\"x\",{\"type\":\"ndarray\",\"array\":{\"type\":\"bytes\",\"data\":\"AAAAAAAAAACamZmZmZnJP5qZmZmZmdk/MzMzMzMz4z+amZmZmZnpPwAAAAAAAPA/MzMzMzMz8z9mZmZmZmb2P5qZmZmZmfk/zczMzMzM/D8AAAAAAAAAQJqZmZmZmQFAMzMzMzMzA0DNzMzMzMwEQGZmZmZmZgZAAAAAAAAACECamZmZmZkJQDMzMzMzMwtAzczMzMzMDEBmZmZmZmYOQAAAAAAAABBAzczMzMzMEECamZmZmZkRQGZmZmZmZhJAMzMzMzMzE0AAAAAAAAAUQM3MzMzMzBRAmpmZmZmZFUBmZmZmZmYWQDMzMzMzMxdAAAAAAAAAGEDNzMzMzMwYQJqZmZmZmRlAZmZmZmZmGkAzMzMzMzMbQAAAAAAAABxAzczMzMzMHECamZmZmZkdQGZmZmZmZh5AMzMzMzMzH0AAAAAAAAAgQGZmZmZmZiBAzczMzMzMIEAzMzMzMzMhQJqZmZmZmSFAAAAAAAAAIkBmZmZmZmYiQM3MzMzMzCJAMzMzMzMzI0CamZmZmZkjQAAAAAAAACRAZmZmZmZmJEDNzMzMzMwkQDMzMzMzMyVAmpmZmZmZJUAAAAAAAAAmQGZmZmZmZiZAzczMzMzMJkAzMzMzMzMnQJqZmZmZmSdAAAAAAAAAKEBmZmZmZmYoQM3MzMzMzChAMzMzMzMzKUCamZmZmZkpQAAAAAAAACpAZmZmZmZmKkDNzMzMzMwqQDMzMzMzMytAmpmZmZmZK0AAAAAAAAAsQGZmZmZmZixAzczMzMzMLEAzMzMzMzMtQJqZmZmZmS1AAAAAAAAALkBmZmZmZmYuQM3MzMzMzC5AMzMzMzMzL0CamZmZmZkvQAAAAAAAADBAMzMzMzMzMEBmZmZmZmYwQJqZmZmZmTBAzczMzMzMMEAAAAAAAAAxQDMzMzMzMzFAZmZmZmZmMUCamZmZmZkxQM3MzMzMzDFAAAAAAAAAMkAzMzMzMzMyQGZmZmZmZjJAmpmZmZmZMkDNzMzMzMwyQAAAAAAAADNAMzMzMzMzM0BmZmZmZmYzQJqZmZmZmTNAzczMzMzMM0AAAAAAAAA0QDMzMzMzMzRAZmZmZmZmNECamZmZmZk0QM3MzMzMzDRAAAAAAAAANUAzMzMzMzM1QGZmZmZmZjVAmpmZmZmZNUDNzMzMzMw1QAAAAAAAADZAMzMzMzMzNkBmZmZmZmY2QJqZmZmZmTZAzczMzMzMNkAAAAAAAAA3QDMzMzMzMzdAZmZmZmZmN0CamZmZmZk3QM3MzMzMzDdA\"},\"shape\":[120],\"dtype\":\"float64\",\"order\":\"little\"}],[\"y\",{\"type\":\"ndarray\",\"array\":{\"type\":\"bytes\",\"data\":\"c7YlF9BkyEBGrGrupWPIQPGS7p3HYchA1IfkGkVfyEBJYu7/AFzIQLcflQdOWMhAFV+jm8tTyEDeC4J9mk7IQHQh+8XRSMhAvK9vzGdCyEDh0WtYYDvIQOxMofPKM8hADl4FQqQryEBR7LKp9CLIQB36OOSYGchAAMBWrqQPyED119ByLQXIQCd/nNUv+sdAgap28m7ux0AgqXRmGeLHQFIOZhMg1cdAO20yT6PHx0BABXbrq7nHQM97CE8tq8dAmgANgAqcx0C4gyInTYzHQJuqIKvoe8dA+8hSkPRqx0ACeWXNVlnHQMkJbv89R8dAk+NO6aA0x0C+oluvcSHHQJFSv8G9DcdASTnzBoP5xkBS/M7ltOTGQIBeXbpWz8ZAPuMMD2O5xkCxYZfy66LGQO8mU2Dki8ZAKxN+qV90xkBQWOIBTVzGQCmXIem2Q8ZALfbylq4qxkDLXgArGRHGQPOlXIb89sVAL2F+uFXcxUC2kgzvMMHFQDJjZY+rpcVA4jprXLyJxUBS0f1BWW3FQNUYYxaYUMVA9+rjoWczxUBr1hnfzxXFQBfrZSXH98RASryXVj7ZxED7wQoBUrrEQHuPjgbzmsRAt/k1SCd7xEBBOcCCAlvEQKIFDaJ6OsRAUKc8upkZxEAHNY03S/jDQPhKarKw1sNAwg9z7qu0w0BlYT4PRJLDQGBvB4+Lb8NAi0CrgndMw0CrsBngAinDQMuEBDE9BcNAaeym7zjhwkDCCxEm+7zCQOUNMPN9mMJAQHZy4btzwkDkkS7sp07CQA2FdB1HKcJAJLFJI5sDwkDC1hEsm93BQOCPkaJct8FAp9XrceqQwUD0UUZcUGrBQCA7ufCVQ8FAhgsvd7QcwUBeZtgok/XAQIgXRKQ2zsBAKxiV1KmmwEBQCxRnA3/AQGJ0L+Y9V8BAuYn/4GAvwEBz43GsFgfAQGhGPxpuvb9AvA6LB1psv0DGh9nLRhu/QGCdY0D2yb5A3gsnxBd4vkDwWviw7SW+QA4ybg+n071AZFRjU+iAvUASrXAmMS69QFLmi2Iu27xAYv1VNmKIvECcDUP1oDW8QAif9xDO4rtAjoTHyLOPu0DKGppXmjy7QPwNJDlq6bpA1msflw2WukASKWEBd0K6QE8qdSTS7rlA886hDOWauUBrGzUVyEa5QP2747lj8rhAhlrTvMOduEAP+cK/I0m4QAgi5u1D9LdAr/lMUSmft0CcYsT0w0m3QEvpPqUP9LZAKK2u+VeetkAkaIKXb0i2QCIjVjWH8rVA\"},\"shape\":[120],\"dtype\":\"float64\",\"order\":\"little\"}]]}}},\"view\":{\"type\":\"object\",\"name\":\"CDSView\",\"id\":\"p2026\",\"attributes\":{\"filter\":{\"type\":\"object\",\"name\":\"AllIndices\",\"id\":\"p2027\"}}},\"glyph\":{\"type\":\"object\",\"name\":\"Line\",\"id\":\"p2022\",\"attributes\":{\"x\":{\"type\":\"field\",\"field\":\"x\"},\"y\":{\"type\":\"field\",\"field\":\"y\"},\"line_color\":\"palegoldenrod\",\"line_width\":2}},\"nonselection_glyph\":{\"type\":\"object\",\"name\":\"Line\",\"id\":\"p2023\",\"attributes\":{\"x\":{\"type\":\"field\",\"field\":\"x\"},\"y\":{\"type\":\"field\",\"field\":\"y\"},\"line_color\":\"palegoldenrod\",\"line_alpha\":0.1,\"line_width\":2}},\"muted_glyph\":{\"type\":\"object\",\"name\":\"Line\",\"id\":\"p2024\",\"attributes\":{\"x\":{\"type\":\"field\",\"field\":\"x\"},\"y\":{\"type\":\"field\",\"field\":\"y\"},\"line_color\":\"palegoldenrod\",\"line_alpha\":0.2,\"line_width\":2}}}},{\"type\":\"object\",\"name\":\"GlyphRenderer\",\"id\":\"p2036\",\"attributes\":{\"y_range_name\":\"angle\",\"data_source\":{\"type\":\"object\",\"name\":\"ColumnDataSource\",\"id\":\"p2030\",\"attributes\":{\"selected\":{\"type\":\"object\",\"name\":\"Selection\",\"id\":\"p2031\",\"attributes\":{\"indices\":[],\"line_indices\":[]}},\"selection_policy\":{\"type\":\"object\",\"name\":\"UnionRenderers\",\"id\":\"p2032\"},\"data\":{\"type\":\"map\",\"entries\":[[\"x\",{\"type\":\"ndarray\",\"array\":{\"type\":\"bytes\",\"data\":\"AAAAAAAAAACamZmZmZnJP5qZmZmZmdk/MzMzMzMz4z+amZmZmZnpPwAAAAAAAPA/MzMzMzMz8z9mZmZmZmb2P5qZmZmZmfk/zczMzMzM/D8AAAAAAAAAQJqZmZmZmQFAMzMzMzMzA0DNzMzMzMwEQGZmZmZmZgZAAAAAAAAACECamZmZmZkJQDMzMzMzMwtAzczMzMzMDEBmZmZmZmYOQAAAAAAAABBAzczMzMzMEECamZmZmZkRQGZmZmZmZhJAMzMzMzMzE0AAAAAAAAAUQM3MzMzMzBRAmpmZmZmZFUBmZmZmZmYWQDMzMzMzMxdAAAAAAAAAGEDNzMzMzMwYQJqZmZmZmRlAZmZmZmZmGkAzMzMzMzMbQAAAAAAAABxAzczMzMzMHECamZmZmZkdQGZmZmZmZh5AMzMzMzMzH0AAAAAAAAAgQGZmZmZmZiBAzczMzMzMIEAzMzMzMzMhQJqZmZmZmSFAAAAAAAAAIkBmZmZmZmYiQM3MzMzMzCJAMzMzMzMzI0CamZmZmZkjQAAAAAAAACRAZmZmZmZmJEDNzMzMzMwkQDMzMzMzMyVAmpmZmZmZJUAAAAAAAAAmQGZmZmZmZiZAzczMzMzMJkAzMzMzMzMnQJqZmZmZmSdAAAAAAAAAKEBmZmZmZmYoQM3MzMzMzChAMzMzMzMzKUCamZmZmZkpQAAAAAAAACpAZmZmZmZmKkDNzMzMzMwqQDMzMzMzMytAmpmZmZmZK0AAAAAAAAAsQGZmZmZmZixAzczMzMzMLEAzMzMzMzMtQJqZmZmZmS1AAAAAAAAALkBmZmZmZmYuQM3MzMzMzC5AMzMzMzMzL0CamZmZmZkvQAAAAAAAADBAMzMzMzMzMEBmZmZmZmYwQJqZmZmZmTBAzczMzMzMMEAAAAAAAAAxQDMzMzMzMzFAZmZmZmZmMUCamZmZmZkxQM3MzMzMzDFAAAAAAAAAMkAzMzMzMzMyQGZmZmZmZjJAmpmZmZmZMkDNzMzMzMwyQAAAAAAAADNAMzMzMzMzM0BmZmZmZmYzQJqZmZmZmTNAzczMzMzMM0AAAAAAAAA0QDMzMzMzMzRAZmZmZmZmNECamZmZmZk0QM3MzMzMzDRAAAAAAAAANUAzMzMzMzM1QGZmZmZmZjVAmpmZmZmZNUDNzMzMzMw1QAAAAAAAADZAMzMzMzMzNkBmZmZmZmY2QJqZmZmZmTZAzczMzMzMNkAAAAAAAAA3QDMzMzMzMzdAZmZmZmZmN0CamZmZmZk3QM3MzMzMzDdA\"},\"shape\":[120],\"dtype\":\"float64\",\"order\":\"little\"}],[\"y\",{\"type\":\"ndarray\",\"array\":{\"type\":\"bytes\",\"data\":\"j8L1KFyPDEDhehSuR+EWQPYoXI/C9R5APQrXo3C9I0CkcD0K1yMoQClcj8L1qCtAw/UoXI9CMEDNzMzMzEwyQJqZmZmZGTRA7FG4HoUrNkDXo3A9Chc4QBSuR+F6FDpAhetRuB4FPEDsUbgehes9QFK4HoXr0T9ArkfhehTOQEBcj8L1KJxBQKRwPQrXo0JAH4XrUbieQ0CuR+F6FI5EQOxRuB6Fa0VAhetRuB5FRkApXI/C9QhHQI/C9Shcz0dAj8L1KFyPSEDD9Shcj0JJQFyPwvUo3ElAKVyPwvVoSkAK16NwPQpLQFyPwvUofEtAhetRuB4FTEApXI/C9WhMQClcj8L16ExAzczMzMxMTUAfhetRuL5NQGZmZmZmJk5AzczMzMyMTkCkcD0K1+NOQB+F61G4Pk9AexSuR+GaT0B7FK5H4fpPQPYoXI/CJVBAhetRuB5VUEA9CtejcH1QQD0K16NwnVBApHA9CtfDUEBmZmZmZuZQQKRwPQrXA1FAj8L1KFwvUUBSuB6F61FRQBSuR+F6dFFA7FG4HoWbUUDNzMzMzLxRQNejcD0K11FAhetRuB71UUBxPQrXoxBSQM3MzMzMLFJAH4XrUbg+UkAUrkfhelRSQBSuR+F6dFJAKVyPwvWIUkDD9Shcj6JSQEjhehSut1JAAAAAAADQUkC4HoXrUdhSQMP1KFyP8lJAKVyPwvUIU0AzMzMzMxNTQPYoXI/CJVNAH4XrUbgeU0CPwvUoXB9TQIXrUbgeJVNA16NwPQo3U0CamZmZmUlTQBSuR+F6VFNAhetRuB5lU0B7FK5H4WpTQI/C9Shcb1NAAAAAAACAU0D2KFyPwpVTQFyPwvUorFNAcT0K16PAU0DsUbgehdtTQD0K16Nw3VNAPQrXo3DtU0DXo3A9ChdUQJqZmZmZKVRAZmZmZmZGVEBI4XoUrldUQIXrUbgeZVRAZmZmZmaGVECPwvUoXJ9UQKRwPQrXs1RAw/UoXI/CVEB7FK5H4cpUQDMzMzMz81RAZmZmZmb2VEB7FK5H4fpUQMP1KFyP4lRAZmZmZmbGVEC4HoXrUchUQM3MzMzM3FRAw/UoXI/yVEDNzMzMzAxVQJqZmZmZKVVAXI/C9Sg8VUCamZmZmUlVQD0K16NwTVVAKVyPwvVIVUBI4XoUrldVQLgehetRWFVAuB6F61FYVUD2KFyPwmVVQPYoXI/CZVVAFK5H4XpkVUApXI/C9WhVQIXrUbgeZVVA4XoUrkdhVUCamZmZmWlVQArXo3A9alVA\"},\"shape\":[120],\"dtype\":\"float64\",\"order\":\"little\"}]]}}},\"view\":{\"type\":\"object\",\"name\":\"CDSView\",\"id\":\"p2037\",\"attributes\":{\"filter\":{\"type\":\"object\",\"name\":\"AllIndices\",\"id\":\"p2038\"}}},\"glyph\":{\"type\":\"object\",\"name\":\"Line\",\"id\":\"p2033\",\"attributes\":{\"x\":{\"type\":\"field\",\"field\":\"x\"},\"y\":{\"type\":\"field\",\"field\":\"y\"},\"line_color\":\"deepskyblue\",\"line_width\":2}},\"nonselection_glyph\":{\"type\":\"object\",\"name\":\"Line\",\"id\":\"p2034\",\"attributes\":{\"x\":{\"type\":\"field\",\"field\":\"x\"},\"y\":{\"type\":\"field\",\"field\":\"y\"},\"line_color\":\"deepskyblue\",\"line_alpha\":0.1,\"line_width\":2}},\"muted_glyph\":{\"type\":\"object\",\"name\":\"Line\",\"id\":\"p2035\",\"attributes\":{\"x\":{\"type\":\"field\",\"field\":\"x\"},\"y\":{\"type\":\"field\",\"field\":\"y\"},\"line_color\":\"deepskyblue\",\"line_alpha\":0.2,\"line_width\":2}}}},{\"type\":\"object\",\"name\":\"GlyphRenderer\",\"id\":\"p2047\",\"attributes\":{\"data_source\":{\"type\":\"object\",\"name\":\"ColumnDataSource\",\"id\":\"p2041\",\"attributes\":{\"selected\":{\"type\":\"object\",\"name\":\"Selection\",\"id\":\"p2042\",\"attributes\":{\"indices\":[],\"line_indices\":[]}},\"selection_policy\":{\"type\":\"object\",\"name\":\"UnionRenderers\",\"id\":\"p2043\"},\"data\":{\"type\":\"map\",\"entries\":[[\"x\",{\"type\":\"ndarray\",\"array\":{\"type\":\"bytes\",\"data\":\"AAAAAAAAAACamZmZmZnJP5qZmZmZmdk/MzMzMzMz4z+amZmZmZnpPwAAAAAAAPA/MzMzMzMz8z9mZmZmZmb2P5qZmZmZmfk/zczMzMzM/D8AAAAAAAAAQJqZmZmZmQFAMzMzMzMzA0DNzMzMzMwEQGZmZmZmZgZAAAAAAAAACECamZmZmZkJQDMzMzMzMwtAzczMzMzMDEBmZmZmZmYOQAAAAAAAABBAzczMzMzMEECamZmZmZkRQGZmZmZmZhJAMzMzMzMzE0AAAAAAAAAUQM3MzMzMzBRAmpmZmZmZFUBmZmZmZmYWQDMzMzMzMxdAAAAAAAAAGEDNzMzMzMwYQJqZmZmZmRlAZmZmZmZmGkAzMzMzMzMbQAAAAAAAABxAzczMzMzMHECamZmZmZkdQGZmZmZmZh5AMzMzMzMzH0AAAAAAAAAgQGZmZmZmZiBAzczMzMzMIEAzMzMzMzMhQJqZmZmZmSFAAAAAAAAAIkBmZmZmZmYiQM3MzMzMzCJAMzMzMzMzI0CamZmZmZkjQAAAAAAAACRAZmZmZmZmJEDNzMzMzMwkQDMzMzMzMyVAmpmZmZmZJUAAAAAAAAAmQGZmZmZmZiZAzczMzMzMJkAzMzMzMzMnQJqZmZmZmSdAAAAAAAAAKEBmZmZmZmYoQM3MzMzMzChAMzMzMzMzKUCamZmZmZkpQAAAAAAAACpAZmZmZmZmKkDNzMzMzMwqQDMzMzMzMytAmpmZmZmZK0AAAAAAAAAsQGZmZmZmZixAzczMzMzMLEAzMzMzMzMtQJqZmZmZmS1AAAAAAAAALkBmZmZmZmYuQM3MzMzMzC5AMzMzMzMzL0CamZmZmZkvQAAAAAAAADBAMzMzMzMzMEBmZmZmZmYwQJqZmZmZmTBAzczMzMzMMEAAAAAAAAAxQDMzMzMzMzFAZmZmZmZmMUCamZmZmZkxQM3MzMzMzDFAAAAAAAAAMkAzMzMzMzMyQGZmZmZmZjJAmpmZmZmZMkDNzMzMzMwyQAAAAAAAADNAMzMzMzMzM0BmZmZmZmYzQJqZmZmZmTNAzczMzMzMM0AAAAAAAAA0QDMzMzMzMzRAZmZmZmZmNECamZmZmZk0QM3MzMzMzDRAAAAAAAAANUAzMzMzMzM1QGZmZmZmZjVAmpmZmZmZNUDNzMzMzMw1QAAAAAAAADZAMzMzMzMzNkBmZmZmZmY2QJqZmZmZmTZAzczMzMzMNkAAAAAAAAA3QDMzMzMzMzdAZmZmZmZmN0CamZmZmZk3QM3MzMzMzDdA\"},\"shape\":[120],\"dtype\":\"float64\",\"order\":\"little\"}],[\"y\",{\"type\":\"ndarray\",\"array\":{\"type\":\"bytes\",\"data\":\"8KfGSzeJJkDfT42XbhIyQJzEILByaDhA9ihcj8L1PkCIFtnO99NCQJHtfD81nkVA2c73U+NlSUDeJAaBlcNMQK9H4XoUrk9AtMh2vp+aUUDYo3A9CjdTQMl2vp8a71RA2/l+aryUVkDVeOkmMUhYQMuhRbbz/VlAI9v5fmp8W0B8FK5H4fpcQHE9CtejsF5ANl66SQwyYEC/nxov3QRhQGMQWDm0yGFA/Knx0k2SYkDNzMzMzDxjQFtkO99PDWRAHVpkO9+/ZECF61G4HqVlQARWDi2yfWZAwcqhRbYzZ0AaL90kBiFoQM/3U+Ol22hASgwCK4e2aUD0/dR46XZqQIgW2c73Q2tAObTIdr7/a0Dm0CLb+b5sQJVDi2zne21AMgisHFpEbkD2KFyPwvVuQJvEILByuG9AJzEIrBw6cED8qfHSTZpwQGmR7Xw/7XBAz/dT46VDcUBEi2zn+5FxQKJFtvP97HFAfT81XrpJckDn+6nx0p1yQF66SQwC63JASOF6FK4/c0BV46WbxIBzQEoMAiuHznNASgwCK4cWdEDFILByaGF0QMUgsHJoqXRAMQisHFr8dEAlBoGVQ0t1QBfZzvdTm3VAnMQgsHLgdUAxCKwcWhx2QDMzMzMzY3ZA2KNwPQqXdkBh5dAi29l2QOomMQisHHdA5/up8dJld0CF61G4Hp13QJHtfD813ndAqMZLN4kZeEAtsp3vp154QNijcD0Kj3hAlkOLbOezeEBV46WbxNh4QAaBlUOLBHlAmpmZmZlBeUAzMzMzM3t5QGq8dJMYpHlAeekmMQjkeUAfhetRuBZ6QGMQWDm0OHpAnMQgsHJgekDufD81Xnp6QFXjpZvEiHpAqvHSTWKgekBQjZduEtN6QJHtfD819npAUrgehesZe0Atsp3vpy57QJqZmZmZOXtAbxKDwMpRe0AX2c73U4N7QNNNYhBYqXtAKVyPwvXAe0AlBoGVQ8N7QIts5/up0XtAv58aL938e0CcxCCwchB8QNv5fmq8NHxA3iQGgZUzfECUGARWDl18QClcj8L1UHxASOF6FK4/fEArhxbZzk98QAaBlUOLZHxA+FPjpZtsfEB3vp8aL218QFg5tMh2fnxAx0s3iUGIfEC28/3UeJF8QBKDwMqhpXxAlBgEVg6lfEDb+X5qvMR8QLKd76fG23xAku18PzXufECUGARWDu18QOXQItv5Bn1AVg4tsp0PfUCClUOLbD99QHNoke18R31AMzMzMzNrfUBEi2zn+2F9QDIIrBxabH1A\"},\"shape\":[120],\"dtype\":\"float64\",\"order\":\"little\"}]]}}},\"view\":{\"type\":\"object\",\"name\":\"CDSView\",\"id\":\"p2048\",\"attributes\":{\"filter\":{\"type\":\"object\",\"name\":\"AllIndices\",\"id\":\"p2049\"}}},\"glyph\":{\"type\":\"object\",\"name\":\"Line\",\"id\":\"p2044\",\"attributes\":{\"x\":{\"type\":\"field\",\"field\":\"x\"},\"y\":{\"type\":\"field\",\"field\":\"y\"},\"line_color\":\"limegreen\",\"line_width\":2}},\"nonselection_glyph\":{\"type\":\"object\",\"name\":\"Line\",\"id\":\"p2045\",\"attributes\":{\"x\":{\"type\":\"field\",\"field\":\"x\"},\"y\":{\"type\":\"field\",\"field\":\"y\"},\"line_color\":\"limegreen\",\"line_alpha\":0.1,\"line_width\":2}},\"muted_glyph\":{\"type\":\"object\",\"name\":\"Line\",\"id\":\"p2046\",\"attributes\":{\"x\":{\"type\":\"field\",\"field\":\"x\"},\"y\":{\"type\":\"field\",\"field\":\"y\"},\"line_color\":\"limegreen\",\"line_alpha\":0.2,\"line_width\":2}}}},{\"type\":\"object\",\"name\":\"GlyphRenderer\",\"id\":\"p2057\",\"attributes\":{\"data_source\":{\"type\":\"object\",\"name\":\"ColumnDataSource\",\"id\":\"p2051\",\"attributes\":{\"selected\":{\"type\":\"object\",\"name\":\"Selection\",\"id\":\"p2052\",\"attributes\":{\"indices\":[],\"line_indices\":[]}},\"selection_policy\":{\"type\":\"object\",\"name\":\"UnionRenderers\",\"id\":\"p2053\"},\"data\":{\"type\":\"map\",\"entries\":[[\"x\",{\"type\":\"ndarray\",\"array\":{\"type\":\"bytes\",\"data\":\"AAAAAAAAAACamZmZmZnJP5qZmZmZmdk/MzMzMzMz4z+amZmZmZnpPwAAAAAAAPA/MzMzMzMz8z9mZmZmZmb2P5qZmZmZmfk/zczMzMzM/D8AAAAAAAAAQJqZmZmZmQFAMzMzMzMzA0DNzMzMzMwEQGZmZmZmZgZAAAAAAAAACECamZmZmZkJQDMzMzMzMwtAzczMzMzMDEBmZmZmZmYOQAAAAAAAABBAzczMzMzMEECamZmZmZkRQGZmZmZmZhJAMzMzMzMzE0AAAAAAAAAUQM3MzMzMzBRAmpmZmZmZFUBmZmZmZmYWQDMzMzMzMxdAAAAAAAAAGEDNzMzMzMwYQJqZmZmZmRlAZmZmZmZmGkAzMzMzMzMbQAAAAAAAABxAzczMzMzMHECamZmZmZkdQGZmZmZmZh5AMzMzMzMzH0AAAAAAAAAgQGZmZmZmZiBAzczMzMzMIEAzMzMzMzMhQJqZmZmZmSFAAAAAAAAAIkBmZmZmZmYiQM3MzMzMzCJAMzMzMzMzI0CamZmZmZkjQAAAAAAAACRAZmZmZmZmJEDNzMzMzMwkQDMzMzMzMyVAmpmZmZmZJUAAAAAAAAAmQGZmZmZmZiZAzczMzMzMJkAzMzMzMzMnQJqZmZmZmSdAAAAAAAAAKEBmZmZmZmYoQM3MzMzMzChAMzMzMzMzKUCamZmZmZkpQAAAAAAAACpAZmZmZmZmKkDNzMzMzMwqQDMzMzMzMytAmpmZmZmZK0AAAAAAAAAsQGZmZmZmZixAzczMzMzMLEAzMzMzMzMtQJqZmZmZmS1AAAAAAAAALkBmZmZmZmYuQM3MzMzMzC5AMzMzMzMzL0CamZmZmZkvQAAAAAAAADBAMzMzMzMzMEBmZmZmZmYwQJqZmZmZmTBAzczMzMzMMEAAAAAAAAAxQDMzMzMzMzFAZmZmZmZmMUCamZmZmZkxQM3MzMzMzDFAAAAAAAAAMkAzMzMzMzMyQGZmZmZmZjJAmpmZmZmZMkDNzMzMzMwyQAAAAAAAADNAMzMzMzMzM0BmZmZmZmYzQJqZmZmZmTNAzczMzMzMM0AAAAAAAAA0QDMzMzMzMzRAZmZmZmZmNECamZmZmZk0QM3MzMzMzDRAAAAAAAAANUAzMzMzMzM1QGZmZmZmZjVAmpmZmZmZNUDNzMzMzMw1QAAAAAAAADZAMzMzMzMzNkBmZmZmZmY2QJqZmZmZmTZAzczMzMzMNkAAAAAAAAA3QDMzMzMzMzdAZmZmZmZmN0CamZmZmZk3QM3MzMzMzDdA\"},\"shape\":[120],\"dtype\":\"float64\",\"order\":\"little\"}],[\"y\",{\"type\":\"ndarray\",\"array\":{\"type\":\"bytes\",\"data\":\"4H3N9dCWZkDqqoP3aIhmQL3+vdFmcmZAHnykzuQ8ZkA4emX5zwRmQL97hwll9WVAsQvrCmDFZUBhYoq0ub5lQPgHylkrpGVARaxfgMOZZUBVxOsEqHtlQERkUNlCY2VAetnkYlc3ZUC35cgVUhllQIRj5CaQ8mRAglfZvNitZEAeDSEWnYVkQBBpxEEbKGRAxm+qq0XUY0APf0na5H9jQMPw06vELGNAbV6b/4TeYkAK0bclQYhiQB9TaMwFTGJAfrZNrTf2YUCyUPkudNRhQBMf6KZWwGFA2ql4GOCZYUBoB5bxr3phQFTGmX8ObGFAaaeH6ktRYUCloxqPrU5hQOdx32sBKGFASv/v8MQXYUBRY/aMsfBgQKxJS1k00WBACbuPpx21YED+3lIefpxgQHJojms2hGBAisK2UgxjYEBbiNV3/DhgQMdkeyfeFWBAK9HxjBa3X0DwOS6wKltfQCkKDJ8EPV9A7mqlJhr0XkBNp44rdK9eQOchUuLcfF5AxC1QIpv2XUAWl4tEv4JdQFVYvVHSHl1AI3bU0wiSXEAm0PeQ6SZcQBkqIsNB4VtAjnhk9lWNW0ANI6lMMz5bQN3F7LPO61pAzh/1NVHKWkCI9Ik24X5aQCTZ1YY9/VlAJpnLnbqrWUAB5BTbnEVZQMZMvNYDAVlAT9msFjilWEANd5c68KNYQC06kJnuLlhAzSNmWYfIV0BCmBIBbcVXQAPR+mEbaldAybrjfNXAV0DVRJTmXeNXQG5zARFn3ldAca++RnqWV0BPN+KwZz9XQFZnoGesE1dA7BH/+xvNVkDe4mSGBs5WQK1Uz1mYylZAXyPYyVprVkD2G1+iNN1VQMiXSGMqOFVArkYElM2sVEDrED+ltAVUQMIQTvwDElRAzm9RwLqsU0BzgrXDOHhSQJsSXGad7VFAQoMW4zIfUUAr8MjsxLVQQDevzLUoX1BARcoYeE7QTkA+TCNgbUdNQB8rKMuAFkxA+nC+tdhZS0COxfmGeOBKQLVaAKM1h0hA/DBkdLlSSECbOLmztihIQHoJiFi0oklA2atyMiBXS0Bs/flEf0VLQBfs+WXsF0pAKzXKcXG+SEC80d3tZBtHQBlUBu/lVkVAslpL2DM3REDIcRnBhGRDQAipcMFhNENAl3UT25Z/Q0CS75OYW6dCQNUgbQYMq0JAcgaRMMK0QkASAFHbiN1BQNv4W0Z55UFAfnSofvAEQkBFhJ8fd9RBQNct7KUuHUJAYeFrTGl1QkDaYX0jveZBQJZGoUPj3kFA\"},\"shape\":[120],\"dtype\":\"float64\",\"order\":\"little\"}]]}}},\"view\":{\"type\":\"object\",\"name\":\"CDSView\",\"id\":\"p2058\",\"attributes\":{\"filter\":{\"type\":\"object\",\"name\":\"AllIndices\",\"id\":\"p2059\"}}},\"glyph\":{\"type\":\"object\",\"name\":\"Line\",\"id\":\"p2054\",\"attributes\":{\"x\":{\"type\":\"field\",\"field\":\"x\"},\"y\":{\"type\":\"field\",\"field\":\"y\"},\"line_color\":\"red\",\"line_width\":2}},\"nonselection_glyph\":{\"type\":\"object\",\"name\":\"Line\",\"id\":\"p2055\",\"attributes\":{\"x\":{\"type\":\"field\",\"field\":\"x\"},\"y\":{\"type\":\"field\",\"field\":\"y\"},\"line_color\":\"red\",\"line_alpha\":0.1,\"line_width\":2}},\"muted_glyph\":{\"type\":\"object\",\"name\":\"Line\",\"id\":\"p2056\",\"attributes\":{\"x\":{\"type\":\"field\",\"field\":\"x\"},\"y\":{\"type\":\"field\",\"field\":\"y\"},\"line_color\":\"red\",\"line_alpha\":0.2,\"line_width\":2}}}},{\"type\":\"object\",\"name\":\"GlyphRenderer\",\"id\":\"p2067\",\"attributes\":{\"data_source\":{\"type\":\"object\",\"name\":\"ColumnDataSource\",\"id\":\"p2061\",\"attributes\":{\"selected\":{\"type\":\"object\",\"name\":\"Selection\",\"id\":\"p2062\",\"attributes\":{\"indices\":[],\"line_indices\":[]}},\"selection_policy\":{\"type\":\"object\",\"name\":\"UnionRenderers\",\"id\":\"p2063\"},\"data\":{\"type\":\"map\",\"entries\":[[\"x0\",[20.8]],[\"y0\",[0.0]],[\"x1\",[20.8]],[\"y1\",[464.85]]]}}},\"view\":{\"type\":\"object\",\"name\":\"CDSView\",\"id\":\"p2068\",\"attributes\":{\"filter\":{\"type\":\"object\",\"name\":\"AllIndices\",\"id\":\"p2069\"}}},\"glyph\":{\"type\":\"object\",\"name\":\"Segment\",\"id\":\"p2064\",\"attributes\":{\"x0\":{\"type\":\"field\",\"field\":\"x0\"},\"y0\":{\"type\":\"field\",\"field\":\"y0\"},\"x1\":{\"type\":\"field\",\"field\":\"x1\"},\"y1\":{\"type\":\"field\",\"field\":\"y1\"},\"line_color\":{\"type\":\"value\",\"value\":\"lightblue\"},\"line_width\":{\"type\":\"value\",\"value\":3}}},\"nonselection_glyph\":{\"type\":\"object\",\"name\":\"Segment\",\"id\":\"p2065\",\"attributes\":{\"x0\":{\"type\":\"field\",\"field\":\"x0\"},\"y0\":{\"type\":\"field\",\"field\":\"y0\"},\"x1\":{\"type\":\"field\",\"field\":\"x1\"},\"y1\":{\"type\":\"field\",\"field\":\"y1\"},\"line_color\":{\"type\":\"value\",\"value\":\"lightblue\"},\"line_alpha\":{\"type\":\"value\",\"value\":0.1},\"line_width\":{\"type\":\"value\",\"value\":3}}},\"muted_glyph\":{\"type\":\"object\",\"name\":\"Segment\",\"id\":\"p2066\",\"attributes\":{\"x0\":{\"type\":\"field\",\"field\":\"x0\"},\"y0\":{\"type\":\"field\",\"field\":\"y0\"},\"x1\":{\"type\":\"field\",\"field\":\"x1\"},\"y1\":{\"type\":\"field\",\"field\":\"y1\"},\"line_color\":{\"type\":\"value\",\"value\":\"lightblue\"},\"line_alpha\":{\"type\":\"value\",\"value\":0.2},\"line_width\":{\"type\":\"value\",\"value\":3}}}}},{\"type\":\"object\",\"name\":\"GlyphRenderer\",\"id\":\"p2076\",\"attributes\":{\"data_source\":{\"type\":\"object\",\"name\":\"ColumnDataSource\",\"id\":\"p2070\",\"attributes\":{\"selected\":{\"type\":\"object\",\"name\":\"Selection\",\"id\":\"p2071\",\"attributes\":{\"indices\":[],\"line_indices\":[]}},\"selection_policy\":{\"type\":\"object\",\"name\":\"UnionRenderers\",\"id\":\"p2072\"},\"data\":{\"type\":\"map\",\"entries\":[[\"x0\",[22.3]],[\"y0\",[0.0]],[\"x1\",[22.3]],[\"y1\",[464.85]]]}}},\"view\":{\"type\":\"object\",\"name\":\"CDSView\",\"id\":\"p2077\",\"attributes\":{\"filter\":{\"type\":\"object\",\"name\":\"AllIndices\",\"id\":\"p2078\"}}},\"glyph\":{\"type\":\"object\",\"name\":\"Segment\",\"id\":\"p2073\",\"attributes\":{\"x0\":{\"type\":\"field\",\"field\":\"x0\"},\"y0\":{\"type\":\"field\",\"field\":\"y0\"},\"x1\":{\"type\":\"field\",\"field\":\"x1\"},\"y1\":{\"type\":\"field\",\"field\":\"y1\"},\"line_color\":{\"type\":\"value\",\"value\":\"darkseagreen\"}}},\"nonselection_glyph\":{\"type\":\"object\",\"name\":\"Segment\",\"id\":\"p2074\",\"attributes\":{\"x0\":{\"type\":\"field\",\"field\":\"x0\"},\"y0\":{\"type\":\"field\",\"field\":\"y0\"},\"x1\":{\"type\":\"field\",\"field\":\"x1\"},\"y1\":{\"type\":\"field\",\"field\":\"y1\"},\"line_color\":{\"type\":\"value\",\"value\":\"darkseagreen\"},\"line_alpha\":{\"type\":\"value\",\"value\":0.1}}},\"muted_glyph\":{\"type\":\"object\",\"name\":\"Segment\",\"id\":\"p2075\",\"attributes\":{\"x0\":{\"type\":\"field\",\"field\":\"x0\"},\"y0\":{\"type\":\"field\",\"field\":\"y0\"},\"x1\":{\"type\":\"field\",\"field\":\"x1\"},\"y1\":{\"type\":\"field\",\"field\":\"y1\"},\"line_color\":{\"type\":\"value\",\"value\":\"darkseagreen\"},\"line_alpha\":{\"type\":\"value\",\"value\":0.2}}}}},{\"type\":\"object\",\"name\":\"GlyphRenderer\",\"id\":\"p2085\",\"attributes\":{\"data_source\":{\"type\":\"object\",\"name\":\"ColumnDataSource\",\"id\":\"p2079\",\"attributes\":{\"selected\":{\"type\":\"object\",\"name\":\"Selection\",\"id\":\"p2080\",\"attributes\":{\"indices\":[],\"line_indices\":[]}},\"selection_policy\":{\"type\":\"object\",\"name\":\"UnionRenderers\",\"id\":\"p2081\"},\"data\":{\"type\":\"map\",\"entries\":[[\"x0\",[19.3]],[\"y0\",[0.0]],[\"x1\",[19.3]],[\"y1\",[464.85]]]}}},\"view\":{\"type\":\"object\",\"name\":\"CDSView\",\"id\":\"p2086\",\"attributes\":{\"filter\":{\"type\":\"object\",\"name\":\"AllIndices\",\"id\":\"p2087\"}}},\"glyph\":{\"type\":\"object\",\"name\":\"Segment\",\"id\":\"p2082\",\"attributes\":{\"x0\":{\"type\":\"field\",\"field\":\"x0\"},\"y0\":{\"type\":\"field\",\"field\":\"y0\"},\"x1\":{\"type\":\"field\",\"field\":\"x1\"},\"y1\":{\"type\":\"field\",\"field\":\"y1\"},\"line_color\":{\"type\":\"value\",\"value\":\"darkseagreen\"}}},\"nonselection_glyph\":{\"type\":\"object\",\"name\":\"Segment\",\"id\":\"p2083\",\"attributes\":{\"x0\":{\"type\":\"field\",\"field\":\"x0\"},\"y0\":{\"type\":\"field\",\"field\":\"y0\"},\"x1\":{\"type\":\"field\",\"field\":\"x1\"},\"y1\":{\"type\":\"field\",\"field\":\"y1\"},\"line_color\":{\"type\":\"value\",\"value\":\"darkseagreen\"},\"line_alpha\":{\"type\":\"value\",\"value\":0.1}}},\"muted_glyph\":{\"type\":\"object\",\"name\":\"Segment\",\"id\":\"p2084\",\"attributes\":{\"x0\":{\"type\":\"field\",\"field\":\"x0\"},\"y0\":{\"type\":\"field\",\"field\":\"y0\"},\"x1\":{\"type\":\"field\",\"field\":\"x1\"},\"y1\":{\"type\":\"field\",\"field\":\"y1\"},\"line_color\":{\"type\":\"value\",\"value\":\"darkseagreen\"},\"line_alpha\":{\"type\":\"value\",\"value\":0.2}}}}},{\"type\":\"object\",\"name\":\"GlyphRenderer\",\"id\":\"p2094\",\"attributes\":{\"data_source\":{\"type\":\"object\",\"name\":\"ColumnDataSource\",\"id\":\"p2088\",\"attributes\":{\"selected\":{\"type\":\"object\",\"name\":\"Selection\",\"id\":\"p2089\",\"attributes\":{\"indices\":[],\"line_indices\":[]}},\"selection_policy\":{\"type\":\"object\",\"name\":\"UnionRenderers\",\"id\":\"p2090\"},\"data\":{\"type\":\"map\",\"entries\":[[\"x\",[20.8]],[\"y\",[464.85]],[\"size\",[20]]]}}},\"view\":{\"type\":\"object\",\"name\":\"CDSView\",\"id\":\"p2095\",\"attributes\":{\"filter\":{\"type\":\"object\",\"name\":\"AllIndices\",\"id\":\"p2096\"}}},\"glyph\":{\"type\":\"object\",\"name\":\"Scatter\",\"id\":\"p2091\",\"attributes\":{\"x\":{\"type\":\"field\",\"field\":\"x\"},\"y\":{\"type\":\"field\",\"field\":\"y\"},\"size\":{\"type\":\"field\",\"field\":\"size\"},\"line_color\":{\"type\":\"value\",\"value\":\"lightblue\"},\"line_width\":{\"type\":\"value\",\"value\":3},\"fill_color\":{\"type\":\"value\",\"value\":null},\"marker\":{\"type\":\"value\",\"value\":\"square_cross\"}}},\"nonselection_glyph\":{\"type\":\"object\",\"name\":\"Scatter\",\"id\":\"p2092\",\"attributes\":{\"x\":{\"type\":\"field\",\"field\":\"x\"},\"y\":{\"type\":\"field\",\"field\":\"y\"},\"size\":{\"type\":\"field\",\"field\":\"size\"},\"line_color\":{\"type\":\"value\",\"value\":\"lightblue\"},\"line_alpha\":{\"type\":\"value\",\"value\":0.1},\"line_width\":{\"type\":\"value\",\"value\":3},\"fill_color\":{\"type\":\"value\",\"value\":null},\"fill_alpha\":{\"type\":\"value\",\"value\":0.1},\"hatch_alpha\":{\"type\":\"value\",\"value\":0.1},\"marker\":{\"type\":\"value\",\"value\":\"square_cross\"}}},\"muted_glyph\":{\"type\":\"object\",\"name\":\"Scatter\",\"id\":\"p2093\",\"attributes\":{\"x\":{\"type\":\"field\",\"field\":\"x\"},\"y\":{\"type\":\"field\",\"field\":\"y\"},\"size\":{\"type\":\"field\",\"field\":\"size\"},\"line_color\":{\"type\":\"value\",\"value\":\"lightblue\"},\"line_alpha\":{\"type\":\"value\",\"value\":0.2},\"line_width\":{\"type\":\"value\",\"value\":3},\"fill_color\":{\"type\":\"value\",\"value\":null},\"fill_alpha\":{\"type\":\"value\",\"value\":0.2},\"hatch_alpha\":{\"type\":\"value\",\"value\":0.2},\"marker\":{\"type\":\"value\",\"value\":\"square_cross\"}}}}}],\"toolbar\":{\"type\":\"object\",\"name\":\"Toolbar\",\"id\":\"p1981\",\"attributes\":{\"tools\":[{\"type\":\"object\",\"name\":\"PanTool\",\"id\":\"p1996\"},{\"type\":\"object\",\"name\":\"WheelZoomTool\",\"id\":\"p1997\",\"attributes\":{\"renderers\":\"auto\"}},{\"type\":\"object\",\"name\":\"BoxZoomTool\",\"id\":\"p1998\",\"attributes\":{\"overlay\":{\"type\":\"object\",\"name\":\"BoxAnnotation\",\"id\":\"p1999\",\"attributes\":{\"syncable\":false,\"line_color\":\"black\",\"line_alpha\":1.0,\"line_width\":2,\"line_dash\":[4,4],\"fill_color\":\"lightgrey\",\"fill_alpha\":0.5,\"level\":\"overlay\",\"visible\":false,\"left\":{\"type\":\"number\",\"value\":\"nan\"},\"right\":{\"type\":\"number\",\"value\":\"nan\"},\"top\":{\"type\":\"number\",\"value\":\"nan\"},\"bottom\":{\"type\":\"number\",\"value\":\"nan\"},\"left_units\":\"canvas\",\"right_units\":\"canvas\",\"top_units\":\"canvas\",\"bottom_units\":\"canvas\",\"handles\":{\"type\":\"object\",\"name\":\"BoxInteractionHandles\",\"id\":\"p2005\",\"attributes\":{\"all\":{\"type\":\"object\",\"name\":\"AreaVisuals\",\"id\":\"p2004\",\"attributes\":{\"fill_color\":\"white\",\"hover_fill_color\":\"lightgray\"}}}}}}}},{\"type\":\"object\",\"name\":\"SaveTool\",\"id\":\"p2006\"},{\"type\":\"object\",\"name\":\"ResetTool\",\"id\":\"p2007\"},{\"type\":\"object\",\"name\":\"HelpTool\",\"id\":\"p2008\"},{\"type\":\"object\",\"name\":\"HoverTool\",\"id\":\"p2040\",\"attributes\":{\"renderers\":\"auto\",\"tooltips\":[[\"Y-val\",\"@y{0.00}\"]]}}]}},\"left\":[{\"type\":\"object\",\"name\":\"LinearAxis\",\"id\":\"p1991\",\"attributes\":{\"ticker\":{\"type\":\"object\",\"name\":\"BasicTicker\",\"id\":\"p1992\",\"attributes\":{\"mantissas\":[1,2,5]}},\"formatter\":{\"type\":\"object\",\"name\":\"BasicTickFormatter\",\"id\":\"p1993\"},\"axis_label\":\"km/h\",\"axis_label_standoff\":10,\"axis_label_text_color\":\"#E0E0E0\",\"axis_label_text_font\":\"Helvetica\",\"axis_label_text_font_size\":\"1.25em\",\"axis_label_text_font_style\":\"normal\",\"major_label_policy\":{\"type\":\"object\",\"name\":\"AllLabels\",\"id\":\"p1994\"},\"major_label_text_color\":\"#E0E0E0\",\"major_label_text_font\":\"Helvetica\",\"major_label_text_font_size\":\"1.025em\",\"axis_line_color\":\"#E0E0E0\",\"axis_line_alpha\":0,\"major_tick_line_color\":\"#E0E0E0\",\"major_tick_line_alpha\":0,\"minor_tick_line_color\":\"#E0E0E0\",\"minor_tick_line_alpha\":0}},{\"type\":\"object\",\"name\":\"LinearAxis\",\"id\":\"p2011\",\"attributes\":{\"y_range_name\":\"altitudeFt\",\"ticker\":{\"type\":\"object\",\"name\":\"BasicTicker\",\"id\":\"p2012\",\"attributes\":{\"mantissas\":[1,2,5]}},\"formatter\":{\"type\":\"object\",\"name\":\"BasicTickFormatter\",\"id\":\"p2013\"},\"axis_label\":\"Alt (ft)\",\"axis_label_standoff\":10,\"axis_label_text_color\":\"#E0E0E0\",\"axis_label_text_font\":\"Helvetica\",\"axis_label_text_font_size\":\"1.25em\",\"axis_label_text_font_style\":\"normal\",\"major_label_policy\":{\"type\":\"object\",\"name\":\"AllLabels\",\"id\":\"p2014\"},\"major_label_text_color\":\"#E0E0E0\",\"major_label_text_font\":\"Helvetica\",\"major_label_text_font_size\":\"1.025em\",\"axis_line_color\":\"#E0E0E0\",\"axis_line_alpha\":0,\"major_tick_line_color\":\"#E0E0E0\",\"major_tick_line_alpha\":0,\"minor_tick_line_color\":\"#E0E0E0\",\"minor_tick_line_alpha\":0}},{\"type\":\"object\",\"name\":\"LinearAxis\",\"id\":\"p2015\",\"attributes\":{\"y_range_name\":\"angle\",\"ticker\":{\"type\":\"object\",\"name\":\"BasicTicker\",\"id\":\"p2016\",\"attributes\":{\"mantissas\":[1,2,5]}},\"formatter\":{\"type\":\"object\",\"name\":\"BasicTickFormatter\",\"id\":\"p2017\"},\"axis_label\":\"angle\",\"axis_label_standoff\":10,\"axis_label_text_color\":\"#E0E0E0\",\"axis_label_text_font\":\"Helvetica\",\"axis_label_text_font_size\":\"1.25em\",\"axis_label_text_font_style\":\"normal\",\"major_label_policy\":{\"type\":\"object\",\"name\":\"AllLabels\",\"id\":\"p2018\"},\"major_label_text_color\":\"#E0E0E0\",\"major_label_text_font\":\"Helvetica\",\"major_label_text_font_size\":\"1.025em\",\"axis_line_color\":\"#E0E0E0\",\"axis_line_alpha\":0,\"major_tick_line_color\":\"#E0E0E0\",\"major_tick_line_alpha\":0,\"minor_tick_line_color\":\"#E0E0E0\",\"minor_tick_line_alpha\":0}}],\"below\":[{\"type\":\"object\",\"name\":\"LinearAxis\",\"id\":\"p1986\",\"attributes\":{\"ticker\":{\"type\":\"object\",\"name\":\"BasicTicker\",\"id\":\"p1987\",\"attributes\":{\"mantissas\":[1,2,5]}},\"formatter\":{\"type\":\"object\",\"name\":\"BasicTickFormatter\",\"id\":\"p1988\"},\"axis_label\":\"seconds from exit\",\"axis_label_standoff\":10,\"axis_label_text_color\":\"#E0E0E0\",\"axis_label_text_font\":\"Helvetica\",\"axis_label_text_font_size\":\"1.25em\",\"axis_label_text_font_style\":\"normal\",\"major_label_policy\":{\"type\":\"object\",\"name\":\"AllLabels\",\"id\":\"p1989\"},\"major_label_text_color\":\"#E0E0E0\",\"major_label_text_font\":\"Helvetica\",\"major_label_text_font_size\":\"1.025em\",\"axis_line_color\":\"#E0E0E0\",\"axis_line_alpha\":0,\"major_tick_line_color\":\"#E0E0E0\",\"major_tick_line_alpha\":0,\"minor_tick_line_color\":\"#E0E0E0\",\"minor_tick_line_alpha\":0}}],\"center\":[{\"type\":\"object\",\"name\":\"Grid\",\"id\":\"p1990\",\"attributes\":{\"axis\":{\"id\":\"p1986\"},\"grid_line_color\":\"#E0E0E0\",\"grid_line_alpha\":0.25}},{\"type\":\"object\",\"name\":\"Grid\",\"id\":\"p1995\",\"attributes\":{\"dimension\":1,\"axis\":{\"id\":\"p1991\"},\"grid_line_color\":\"#E0E0E0\",\"grid_line_alpha\":0.25}},{\"type\":\"object\",\"name\":\"Legend\",\"id\":\"p2028\",\"attributes\":{\"border_line_alpha\":0,\"background_fill_color\":\"#20262B\",\"background_fill_alpha\":0.25,\"label_text_color\":\"#E0E0E0\",\"label_text_font\":\"Helvetica\",\"label_text_font_size\":\"1.025em\",\"label_standoff\":8,\"glyph_width\":15,\"spacing\":8,\"items\":[{\"type\":\"object\",\"name\":\"LegendItem\",\"id\":\"p2029\",\"attributes\":{\"label\":{\"type\":\"value\",\"value\":\"Alt (ft)\"},\"renderers\":[{\"id\":\"p2025\"}]}},{\"type\":\"object\",\"name\":\"LegendItem\",\"id\":\"p2039\",\"attributes\":{\"label\":{\"type\":\"value\",\"value\":\"angle\"},\"renderers\":[{\"id\":\"p2036\"}]}},{\"type\":\"object\",\"name\":\"LegendItem\",\"id\":\"p2050\",\"attributes\":{\"label\":{\"type\":\"value\",\"value\":\"speed\"},\"renderers\":[{\"id\":\"p2047\"}]}},{\"type\":\"object\",\"name\":\"LegendItem\",\"id\":\"p2060\",\"attributes\":{\"label\":{\"type\":\"value\",\"value\":\"H-speed\"},\"renderers\":[{\"id\":\"p2057\"}]}}]}}],\"background_fill_color\":\"#20262B\",\"border_fill_color\":\"#15191C\"}}]}};\n",
       "  const render_items = [{\"docid\":\"357f30f8-5da2-4385-ac34-6a75f0fd179d\",\"roots\":{\"p1972\":\"e77c0df7-490c-419b-af0e-bc88af725a2a\"},\"root_ids\":[\"p1972\"]}];\n",
       "  void root.Bokeh.embed.embed_items_notebook(docs_json, render_items);\n",
       "  }\n",
       "  if (root.Bokeh !== undefined) {\n",
       "    embed_document(root);\n",
       "  } else {\n",
       "    let attempts = 0;\n",
       "    const timer = setInterval(function(root) {\n",
       "      if (root.Bokeh !== undefined) {\n",
       "        clearInterval(timer);\n",
       "        embed_document(root);\n",
       "      } else {\n",
       "        attempts++;\n",
       "        if (attempts > 100) {\n",
       "          clearInterval(timer);\n",
       "          console.log(\"Bokeh: ERROR: Unable to run BokehJS code because BokehJS library is missing\");\n",
       "        }\n",
       "      }\n",
       "    }, 10, root)\n",
       "  }\n",
       "})(window);"
      ],
      "application/vnd.bokehjs_exec.v0+json": ""
     },
     "metadata": {
      "application/vnd.bokehjs_exec.v0+json": {
       "id": "p1972"
      }
     },
     "output_type": "display_data"
    },
    {
     "data": {
      "application/vnd.jupyter.widget-view+json": {
       "model_id": "5079cf731fae46159e49e03112b9453f",
       "version_major": 2,
       "version_minor": 0
      },
      "text/plain": [
       "HTML(value='<hr><h1><span style=\"color: green\">data 10-56-45:v1 jump - VALID - score = 455.8 km/h</span></h1>'…"
      ]
     },
     "metadata": {},
     "output_type": "display_data"
    },
    {
     "data": {
      "application/vnd.jupyter.widget-view+json": {
       "model_id": "f95bf566185e4af19031eaae46c76f19",
       "version_major": 2,
       "version_minor": 0
      },
      "text/plain": [
       "HTML(value='<h3>Max speed = 456; exit at 3745 m (12287 ft), end scoring window at 1707 m (5600 ft)</h3?')"
      ]
     },
     "metadata": {},
     "output_type": "display_data"
    },
    {
     "data": {
      "application/vnd.jupyter.widget-view+json": {
       "model_id": "8da5f57fad3b4f76b2a3c1bc9c8a6176",
       "version_major": 2,
       "version_minor": 0
      },
      "text/plain": [
       "HTML(value='<h3><span style=\"color: yellow\"><span style=\"font-weight: bold\">Warning:</span> exit altitude AGL …"
      ]
     },
     "metadata": {},
     "output_type": "display_data"
    },
    {
     "data": {
      "text/html": [
       "<div>\n",
       "<style scoped>\n",
       "    .dataframe tbody tr th:only-of-type {\n",
       "        vertical-align: middle;\n",
       "    }\n",
       "\n",
       "    .dataframe tbody tr th {\n",
       "        vertical-align: top;\n",
       "    }\n",
       "\n",
       "    .dataframe thead th {\n",
       "        text-align: right;\n",
       "    }\n",
       "</style>\n",
       "<table border=\"1\" class=\"dataframe\">\n",
       "  <thead>\n",
       "    <tr style=\"text-align: right;\">\n",
       "      <th></th>\n",
       "      <th>time</th>\n",
       "      <th>vKMh</th>\n",
       "      <th>hKMh</th>\n",
       "      <th>speedAngle</th>\n",
       "      <th>distanceFromExit (m)</th>\n",
       "      <th>altitude (ft)</th>\n",
       "      <th>netVectorKMh</th>\n",
       "    </tr>\n",
       "  </thead>\n",
       "  <tbody>\n",
       "    <tr>\n",
       "      <th></th>\n",
       "      <td>5.0</td>\n",
       "      <td>164</td>\n",
       "      <td>155</td>\n",
       "      <td>46.73</td>\n",
       "      <td>241.30</td>\n",
       "      <td>11881</td>\n",
       "      <td>226</td>\n",
       "    </tr>\n",
       "    <tr>\n",
       "      <th></th>\n",
       "      <td>10.0</td>\n",
       "      <td>305</td>\n",
       "      <td>139</td>\n",
       "      <td>65.44</td>\n",
       "      <td>445.38</td>\n",
       "      <td>10785</td>\n",
       "      <td>335</td>\n",
       "    </tr>\n",
       "    <tr>\n",
       "      <th></th>\n",
       "      <td>15.0</td>\n",
       "      <td>403</td>\n",
       "      <td>95</td>\n",
       "      <td>76.78</td>\n",
       "      <td>608.37</td>\n",
       "      <td>9142</td>\n",
       "      <td>414</td>\n",
       "    </tr>\n",
       "    <tr>\n",
       "      <th></th>\n",
       "      <td>20.0</td>\n",
       "      <td>448</td>\n",
       "      <td>90</td>\n",
       "      <td>78.61</td>\n",
       "      <td>721.16</td>\n",
       "      <td>7165</td>\n",
       "      <td>457</td>\n",
       "    </tr>\n",
       "    <tr>\n",
       "      <th></th>\n",
       "      <td>25.0</td>\n",
       "      <td>454</td>\n",
       "      <td>82</td>\n",
       "      <td>79.76</td>\n",
       "      <td>789.98</td>\n",
       "      <td>5672</td>\n",
       "      <td>461</td>\n",
       "    </tr>\n",
       "  </tbody>\n",
       "</table>\n",
       "</div>"
      ],
      "text/plain": [
       "  time  vKMh  hKMh  speedAngle  distanceFromExit (m)  altitude (ft)  \\\n",
       "   5.0   164   155       46.73                241.30          11881   \n",
       "  10.0   305   139       65.44                445.38          10785   \n",
       "  15.0   403    95       76.78                608.37           9142   \n",
       "  20.0   448    90       78.61                721.16           7165   \n",
       "  25.0   454    82       79.76                789.98           5672   \n",
       "\n",
       "  netVectorKMh  \n",
       "           226  \n",
       "           335  \n",
       "           414  \n",
       "           457  \n",
       "           461  "
      ]
     },
     "metadata": {},
     "output_type": "display_data"
    },
    {
     "data": {
      "text/html": [
       "\n",
       "  <div id=\"c461a83c-85b9-4f32-ba2f-f0adb6df804c\" data-root-id=\"p2116\" style=\"display: contents;\"></div>\n"
      ]
     },
     "metadata": {},
     "output_type": "display_data"
    },
    {
     "data": {
      "application/javascript": [
       "(function(root) {\n",
       "  function embed_document(root) {\n",
       "  const docs_json = {\"7a02335d-9d99-40b6-b707-f91353310b61\":{\"version\":\"3.5.2\",\"title\":\"Bokeh Application\",\"roots\":[{\"type\":\"object\",\"name\":\"Figure\",\"id\":\"p2116\",\"attributes\":{\"width\":900,\"height\":500,\"x_range\":{\"type\":\"object\",\"name\":\"Range1d\",\"id\":\"p2126\",\"attributes\":{\"end\":35.0}},\"y_range\":{\"type\":\"object\",\"name\":\"Range1d\",\"id\":\"p2127\",\"attributes\":{\"end\":550.0}},\"x_scale\":{\"type\":\"object\",\"name\":\"LinearScale\",\"id\":\"p2128\"},\"y_scale\":{\"type\":\"object\",\"name\":\"LinearScale\",\"id\":\"p2129\"},\"extra_y_ranges\":{\"type\":\"map\",\"entries\":[[\"altitudeFt\",{\"type\":\"object\",\"name\":\"Range1d\",\"id\":\"p2153\",\"attributes\":{\"start\":5172.490756000001,\"end\":12787.5251456}}],[\"angle\",{\"type\":\"object\",\"name\":\"Range1d\",\"id\":\"p2154\",\"attributes\":{\"end\":90.0}}]]},\"title\":{\"type\":\"object\",\"name\":\"Title\",\"id\":\"p2119\",\"attributes\":{\"text\":\"data 10-56-45:v1\",\"text_color\":\"#E0E0E0\",\"text_font\":\"Helvetica\",\"text_font_size\":\"1.15em\"}},\"outline_line_color\":\"#E0E0E0\",\"outline_line_alpha\":0.25,\"renderers\":[{\"type\":\"object\",\"name\":\"GlyphRenderer\",\"id\":\"p2169\",\"attributes\":{\"y_range_name\":\"altitudeFt\",\"data_source\":{\"type\":\"object\",\"name\":\"ColumnDataSource\",\"id\":\"p2163\",\"attributes\":{\"selected\":{\"type\":\"object\",\"name\":\"Selection\",\"id\":\"p2164\",\"attributes\":{\"indices\":[],\"line_indices\":[]}},\"selection_policy\":{\"type\":\"object\",\"name\":\"UnionRenderers\",\"id\":\"p2165\"},\"data\":{\"type\":\"map\",\"entries\":[[\"x\",{\"type\":\"ndarray\",\"array\":{\"type\":\"bytes\",\"data\":\"AAAAAAAAAACamZmZmZnJP5qZmZmZmdk/MzMzMzMz4z+amZmZmZnpPwAAAAAAAPA/MzMzMzMz8z9mZmZmZmb2P5qZmZmZmfk/zczMzMzM/D8AAAAAAAAAQJqZmZmZmQFAMzMzMzMzA0DNzMzMzMwEQGZmZmZmZgZAAAAAAAAACECamZmZmZkJQDMzMzMzMwtAzczMzMzMDEBmZmZmZmYOQAAAAAAAABBAzczMzMzMEECamZmZmZkRQGZmZmZmZhJAMzMzMzMzE0AAAAAAAAAUQM3MzMzMzBRAmpmZmZmZFUBmZmZmZmYWQDMzMzMzMxdAAAAAAAAAGEDNzMzMzMwYQJqZmZmZmRlAZmZmZmZmGkAzMzMzMzMbQAAAAAAAABxAzczMzMzMHECamZmZmZkdQGZmZmZmZh5AMzMzMzMzH0AAAAAAAAAgQGZmZmZmZiBAzczMzMzMIEAzMzMzMzMhQJqZmZmZmSFAAAAAAAAAIkBmZmZmZmYiQM3MzMzMzCJAMzMzMzMzI0CamZmZmZkjQAAAAAAAACRAZmZmZmZmJEDNzMzMzMwkQDMzMzMzMyVAmpmZmZmZJUAAAAAAAAAmQGZmZmZmZiZAzczMzMzMJkAzMzMzMzMnQJqZmZmZmSdAAAAAAAAAKEBmZmZmZmYoQM3MzMzMzChAMzMzMzMzKUCamZmZmZkpQAAAAAAAACpAZmZmZmZmKkDNzMzMzMwqQDMzMzMzMytAmpmZmZmZK0AAAAAAAAAsQGZmZmZmZixAzczMzMzMLEAzMzMzMzMtQJqZmZmZmS1AAAAAAAAALkBmZmZmZmYuQM3MzMzMzC5AMzMzMzMzL0CamZmZmZkvQAAAAAAAADBAMzMzMzMzMEBmZmZmZmYwQJqZmZmZmTBAzczMzMzMMEAAAAAAAAAxQDMzMzMzMzFAZmZmZmZmMUCamZmZmZkxQM3MzMzMzDFAAAAAAAAAMkAzMzMzMzMyQGZmZmZmZjJAmpmZmZmZMkDNzMzMzMwyQAAAAAAAADNAMzMzMzMzM0BmZmZmZmYzQJqZmZmZmTNAzczMzMzMM0AAAAAAAAA0QDMzMzMzMzRAZmZmZmZmNECamZmZmZk0QM3MzMzMzDRAAAAAAAAANUAzMzMzMzM1QGZmZmZmZjVAmpmZmZmZNUDNzMzMzMw1QAAAAAAAADZAMzMzMzMzNkBmZmZmZmY2QJqZmZmZmTZAzczMzMzMNkAAAAAAAAA3QDMzMzMzMzdAZmZmZmZmN0CamZmZmZk3QA==\"},\"shape\":[119],\"dtype\":\"float64\",\"order\":\"little\"}],[\"y\",{\"type\":\"ndarray\",\"array\":{\"type\":\"bytes\",\"data\":\"0pT4N8P/x0BzCXayqv7HQJNag1LP/MdAZud+mCb6x0CQSxx5YPfHQP/hU6Uq9MdAW1KksYTwx0D21yssAOzHQEHWrmTa5sdA4FFjQvzgx0B50h0fqNrHQJmwR/Ku08dAiFaCIEPMx0A2fjxPN8THQLCvGvBuu8dATqIUYw+yx0DRbGgUBKjHQCdDn9l3ncdArEAtBj+Sx0Beoh+yhYbHQD4racUfesdAElN9Qlltx0DR9TOr/V/HQBq0RvNGUsdAtLJ9yKtDx0BFcujjqDTHQOpoC77vJMdAU5+ageAUx0ADy7Z4NQTHQNs91BGb8sZAK6Fga6vgxkCW3u0wHM7GQHSLCuYZu8ZAKmZzi4+nxkBcdR2qoZPGQAP0VrhAf8ZALa6W4EFqxkD9+bZgmVTGQG3Q8peBPsZAOUiI8uUnxkBcHaW31BDGQG3uQzlM+cVAapn7mlPhxUDHKd/YyMjFQCK/yBXIr8VA92aK72qWxUBcbnphpHzFQP8EvHFXYsVASoxUzoVHxUAmlYSfQyzFQJ2n8FZ0EMVA9elnoFj0xEBoZVZKwtfEQLZSY52VusRAUhVT6Q+dxEBqDISuJn/EQIerAyDeYMRA+qcK/B9CxEAoH8w3/CLEQBQzsa9rA8RA4JgKlofjw0DKdOj0VMPDQN2SwfaoosNAsW8nEYmBw0DgKvRmEWDDQJFe1O4nPsNAxCVs5P8bw0Ab6yzEbPnCQDtxOV6h1sJAt9WsM36zwkB/TBAaLpDCQE+vlGVwbMJA2sngKHlIwkCF25A1USTCQFtsSf3b/8FAZQSv8fzawUAnMnOB67XBQK/+Ge+okMFAW6eAagJrwUAf4Q+aQEXBQHTZQ1Y6H8FAJ9JHKtX4wEA9TPvmLtLAQEnE7wFNq8BARdTp5USEwECry85H5lzAQPRzngxZNcBA56hIKpgNwEDIsIo3Qsu/QBCG8B7Wer9ArjL4oEwqv0AIGKdrp9m+QN4PLtOliL5AfsgA9Ws3vkAq7tNM4uW9QKZ3Oww3lL1ATlk8q7tCvUCGD4ATpfG8QBQjS+YYoLxANpE+UplOvEAy62qX2/y7QEhXn2Egq7tApBASsyhZu0Ao6hbLvga7QBxOTw4VtLpA5Pp3fRZhukA35WWotQ26QH/oOG1MurlAnJNyUrNmuUBi4STNjxO5QLxH7MnCwLhAc8knGsptuEBk9VhEfhq4QDHmU2xxx7dAfSEuSqp0t0ABB/4BkCG3QD2d0JB2zrZAT5n2KHd7tkBSai+ifSi2QA==\"},\"shape\":[119],\"dtype\":\"float64\",\"order\":\"little\"}]]}}},\"view\":{\"type\":\"object\",\"name\":\"CDSView\",\"id\":\"p2170\",\"attributes\":{\"filter\":{\"type\":\"object\",\"name\":\"AllIndices\",\"id\":\"p2171\"}}},\"glyph\":{\"type\":\"object\",\"name\":\"Line\",\"id\":\"p2166\",\"attributes\":{\"x\":{\"type\":\"field\",\"field\":\"x\"},\"y\":{\"type\":\"field\",\"field\":\"y\"},\"line_color\":\"palegoldenrod\",\"line_width\":2}},\"nonselection_glyph\":{\"type\":\"object\",\"name\":\"Line\",\"id\":\"p2167\",\"attributes\":{\"x\":{\"type\":\"field\",\"field\":\"x\"},\"y\":{\"type\":\"field\",\"field\":\"y\"},\"line_color\":\"palegoldenrod\",\"line_alpha\":0.1,\"line_width\":2}},\"muted_glyph\":{\"type\":\"object\",\"name\":\"Line\",\"id\":\"p2168\",\"attributes\":{\"x\":{\"type\":\"field\",\"field\":\"x\"},\"y\":{\"type\":\"field\",\"field\":\"y\"},\"line_color\":\"palegoldenrod\",\"line_alpha\":0.2,\"line_width\":2}}}},{\"type\":\"object\",\"name\":\"GlyphRenderer\",\"id\":\"p2180\",\"attributes\":{\"y_range_name\":\"angle\",\"data_source\":{\"type\":\"object\",\"name\":\"ColumnDataSource\",\"id\":\"p2174\",\"attributes\":{\"selected\":{\"type\":\"object\",\"name\":\"Selection\",\"id\":\"p2175\",\"attributes\":{\"indices\":[],\"line_indices\":[]}},\"selection_policy\":{\"type\":\"object\",\"name\":\"UnionRenderers\",\"id\":\"p2176\"},\"data\":{\"type\":\"map\",\"entries\":[[\"x\",{\"type\":\"ndarray\",\"array\":{\"type\":\"bytes\",\"data\":\"AAAAAAAAAACamZmZmZnJP5qZmZmZmdk/MzMzMzMz4z+amZmZmZnpPwAAAAAAAPA/MzMzMzMz8z9mZmZmZmb2P5qZmZmZmfk/zczMzMzM/D8AAAAAAAAAQJqZmZmZmQFAMzMzMzMzA0DNzMzMzMwEQGZmZmZmZgZAAAAAAAAACECamZmZmZkJQDMzMzMzMwtAzczMzMzMDEBmZmZmZmYOQAAAAAAAABBAzczMzMzMEECamZmZmZkRQGZmZmZmZhJAMzMzMzMzE0AAAAAAAAAUQM3MzMzMzBRAmpmZmZmZFUBmZmZmZmYWQDMzMzMzMxdAAAAAAAAAGEDNzMzMzMwYQJqZmZmZmRlAZmZmZmZmGkAzMzMzMzMbQAAAAAAAABxAzczMzMzMHECamZmZmZkdQGZmZmZmZh5AMzMzMzMzH0AAAAAAAAAgQGZmZmZmZiBAzczMzMzMIEAzMzMzMzMhQJqZmZmZmSFAAAAAAAAAIkBmZmZmZmYiQM3MzMzMzCJAMzMzMzMzI0CamZmZmZkjQAAAAAAAACRAZmZmZmZmJEDNzMzMzMwkQDMzMzMzMyVAmpmZmZmZJUAAAAAAAAAmQGZmZmZmZiZAzczMzMzMJkAzMzMzMzMnQJqZmZmZmSdAAAAAAAAAKEBmZmZmZmYoQM3MzMzMzChAMzMzMzMzKUCamZmZmZkpQAAAAAAAACpAZmZmZmZmKkDNzMzMzMwqQDMzMzMzMytAmpmZmZmZK0AAAAAAAAAsQGZmZmZmZixAzczMzMzMLEAzMzMzMzMtQJqZmZmZmS1AAAAAAAAALkBmZmZmZmYuQM3MzMzMzC5AMzMzMzMzL0CamZmZmZkvQAAAAAAAADBAMzMzMzMzMEBmZmZmZmYwQJqZmZmZmTBAzczMzMzMMEAAAAAAAAAxQDMzMzMzMzFAZmZmZmZmMUCamZmZmZkxQM3MzMzMzDFAAAAAAAAAMkAzMzMzMzMyQGZmZmZmZjJAmpmZmZmZMkDNzMzMzMwyQAAAAAAAADNAMzMzMzMzM0BmZmZmZmYzQJqZmZmZmTNAzczMzMzMM0AAAAAAAAA0QDMzMzMzMzRAZmZmZmZmNECamZmZmZk0QM3MzMzMzDRAAAAAAAAANUAzMzMzMzM1QGZmZmZmZjVAmpmZmZmZNUDNzMzMzMw1QAAAAAAAADZAMzMzMzMzNkBmZmZmZmY2QJqZmZmZmTZAzczMzMzMNkAAAAAAAAA3QDMzMzMzMzdAZmZmZmZmN0CamZmZmZk3QA==\"},\"shape\":[119],\"dtype\":\"float64\",\"order\":\"little\"}],[\"y\",{\"type\":\"ndarray\",\"array\":{\"type\":\"bytes\",\"data\":\"w/UoXI/C/T/2KFyPwvUOQClcj8L1KBpAXI/C9ShcIUCkcD0K16MlQOxRuB6F6yhAH4XrUbieLEAfhetRuJ4wQD0K16NwfTJAUrgeheuRNEC4HoXrUbg2QClcj8L1aDhAUrgehetROkDhehSuR+E7QKRwPQrXoz1ACtejcD2KP0AUrkfhepRAQB+F61G4fkFAKVyPwvVIQkAfhetRuP5CQMP1KFyPwkNA9ihcj8KVREAUrkfhelRFQBSuR+F61EVA7FG4HoXLRkA9CtejcF1HQMP1KFyPAkhAhetRuB6lSEDsUbgehStJQMP1KFyPwklAhetRuB5FSkAfhetRuL5KQAAAAAAAIEtASOF6FK6HS0AzMzMzM/NLQFK4HoXrUUxAFK5H4Xq0TEDsUbgehQtNQHE9CtejcE1AhetRuB7FTUDhehSuRwFOQClcj8L1SE5AFK5H4XqUTkCuR+F6FM5OQGZmZmZmJk9Aj8L1KFxvT0BSuB6F67FPQHsUrkfh+k9Aj8L1KFwfUEA9CtejcD1QQFyPwvUoXFBAXI/C9Sh8UECkcD0K16NQQBSuR+F6xFBA4XoUrkfxUEBI4XoUrhdRQAAAAAAAMFFAXI/C9ShMUUC4HoXrUWhRQFyPwvUofFFA9ihcj8KVUUBxPQrXo7BRQM3MzMzMzFFAXI/C9SjsUUAK16NwPQpSQLgehetRKFJAhetRuB5FUkDhehSuR2FSQHsUrkfhelJA4XoUrkehUkCuR+F6FK5SQFK4HoXr0VJAUrgehevxUkAUrkfhegRTQArXo3A9GlNAUrgehesxU0CamZmZmUlTQI/C9ShcX1NA9ihcj8J1U0CamZmZmXlTQArXo3A9ilNAhetRuB6VU0DD9Shcj6JTQMP1KFyPslNAmpmZmZm5U0CPwvUoXL9TQLgehetRuFNAzczMzMysU0AzMzMzM7NTQBSuR+F6tFNAhetRuB7FU0ApXI/C9dhTQOxRuB6F21NA4XoUrkfxU0CkcD0K1+NTQB+F61G4zlNAKVyPwvWoU0DsUbgehZtTQDMzMzMzk1NAMzMzMzOTU0DXo3A9CqdTQFyPwvUorFNAUrgehevBU0AfhetRuM5TQJqZmZmZ2VNAPQrXo3DtU0DD9Shcj/JTQJqZmZmZ+VNAPQrXo3DtU0CuR+F6FO5TQHsUrkfh6lNAmpmZmZn5U0CkcD0K1wNUQB+F61G4DlRAXI/C9SgMVECF61G4HgVUQOxRuB6F+1NAw/UoXI/yU0BxPQrXo/BTQA==\"},\"shape\":[119],\"dtype\":\"float64\",\"order\":\"little\"}]]}}},\"view\":{\"type\":\"object\",\"name\":\"CDSView\",\"id\":\"p2181\",\"attributes\":{\"filter\":{\"type\":\"object\",\"name\":\"AllIndices\",\"id\":\"p2182\"}}},\"glyph\":{\"type\":\"object\",\"name\":\"Line\",\"id\":\"p2177\",\"attributes\":{\"x\":{\"type\":\"field\",\"field\":\"x\"},\"y\":{\"type\":\"field\",\"field\":\"y\"},\"line_color\":\"deepskyblue\",\"line_width\":2}},\"nonselection_glyph\":{\"type\":\"object\",\"name\":\"Line\",\"id\":\"p2178\",\"attributes\":{\"x\":{\"type\":\"field\",\"field\":\"x\"},\"y\":{\"type\":\"field\",\"field\":\"y\"},\"line_color\":\"deepskyblue\",\"line_alpha\":0.1,\"line_width\":2}},\"muted_glyph\":{\"type\":\"object\",\"name\":\"Line\",\"id\":\"p2179\",\"attributes\":{\"x\":{\"type\":\"field\",\"field\":\"x\"},\"y\":{\"type\":\"field\",\"field\":\"y\"},\"line_color\":\"deepskyblue\",\"line_alpha\":0.2,\"line_width\":2}}}},{\"type\":\"object\",\"name\":\"GlyphRenderer\",\"id\":\"p2191\",\"attributes\":{\"data_source\":{\"type\":\"object\",\"name\":\"ColumnDataSource\",\"id\":\"p2185\",\"attributes\":{\"selected\":{\"type\":\"object\",\"name\":\"Selection\",\"id\":\"p2186\",\"attributes\":{\"indices\":[],\"line_indices\":[]}},\"selection_policy\":{\"type\":\"object\",\"name\":\"UnionRenderers\",\"id\":\"p2187\"},\"data\":{\"type\":\"map\",\"entries\":[[\"x\",{\"type\":\"ndarray\",\"array\":{\"type\":\"bytes\",\"data\":\"AAAAAAAAAACamZmZmZnJP5qZmZmZmdk/MzMzMzMz4z+amZmZmZnpPwAAAAAAAPA/MzMzMzMz8z9mZmZmZmb2P5qZmZmZmfk/zczMzMzM/D8AAAAAAAAAQJqZmZmZmQFAMzMzMzMzA0DNzMzMzMwEQGZmZmZmZgZAAAAAAAAACECamZmZmZkJQDMzMzMzMwtAzczMzMzMDEBmZmZmZmYOQAAAAAAAABBAzczMzMzMEECamZmZmZkRQGZmZmZmZhJAMzMzMzMzE0AAAAAAAAAUQM3MzMzMzBRAmpmZmZmZFUBmZmZmZmYWQDMzMzMzMxdAAAAAAAAAGEDNzMzMzMwYQJqZmZmZmRlAZmZmZmZmGkAzMzMzMzMbQAAAAAAAABxAzczMzMzMHECamZmZmZkdQGZmZmZmZh5AMzMzMzMzH0AAAAAAAAAgQGZmZmZmZiBAzczMzMzMIEAzMzMzMzMhQJqZmZmZmSFAAAAAAAAAIkBmZmZmZmYiQM3MzMzMzCJAMzMzMzMzI0CamZmZmZkjQAAAAAAAACRAZmZmZmZmJEDNzMzMzMwkQDMzMzMzMyVAmpmZmZmZJUAAAAAAAAAmQGZmZmZmZiZAzczMzMzMJkAzMzMzMzMnQJqZmZmZmSdAAAAAAAAAKEBmZmZmZmYoQM3MzMzMzChAMzMzMzMzKUCamZmZmZkpQAAAAAAAACpAZmZmZmZmKkDNzMzMzMwqQDMzMzMzMytAmpmZmZmZK0AAAAAAAAAsQGZmZmZmZixAzczMzMzMLEAzMzMzMzMtQJqZmZmZmS1AAAAAAAAALkBmZmZmZmYuQM3MzMzMzC5AMzMzMzMzL0CamZmZmZkvQAAAAAAAADBAMzMzMzMzMEBmZmZmZmYwQJqZmZmZmTBAzczMzMzMMEAAAAAAAAAxQDMzMzMzMzFAZmZmZmZmMUCamZmZmZkxQM3MzMzMzDFAAAAAAAAAMkAzMzMzMzMyQGZmZmZmZjJAmpmZmZmZMkDNzMzMzMwyQAAAAAAAADNAMzMzMzMzM0BmZmZmZmYzQJqZmZmZmTNAzczMzMzMM0AAAAAAAAA0QDMzMzMzMzRAZmZmZmZmNECamZmZmZk0QM3MzMzMzDRAAAAAAAAANUAzMzMzMzM1QGZmZmZmZjVAmpmZmZmZNUDNzMzMzMw1QAAAAAAAADZAMzMzMzMzNkBmZmZmZmY2QJqZmZmZmTZAzczMzMzMNkAAAAAAAAA3QDMzMzMzMzdAZmZmZmZmN0CamZmZmZk3QA==\"},\"shape\":[119],\"dtype\":\"float64\",\"order\":\"little\"}],[\"y\",{\"type\":\"ndarray\",\"array\":{\"type\":\"bytes\",\"data\":\"+FPjpZvEGEDy0k1iEFgpQAwCK4cWWTVANl66SQwCPEBQjZduEkNBQMUgsHJo0UNAjpduEoPARkC0yHa+n5pKQESLbOf7qU1Ai2zn+6mRUEBMN4lBYGVSQKRwPQrX41NAs53vp8aLVUA/NV66SexWQGMQWDm0iFhAK4cW2c5XWkBnZmZmZuZbQCcxCKwcul1Ac2iR7Xw/X0AOLbKd70dgQNNNYhBY+WBAf2q8dJO4YUAhsHJokX1iQEoMAiuH9mJAhetRuB71Y0BzaJHtfI9kQNEi2/l+emVAfT81Xro5ZkAtsp3vp/ZmQKjGSzeJ0WdAUrgeheuRaEDsUbgehVtpQLtJDAIrB2pAeekmMQi8akA3iUFg5XBrQPT91HjpJmxAu0kMAivXbEBoke18P5VtQBWuR+F6VG5A0iLb+X4Kb0C7SQwCK6dvQEJg5dAiK3BAIbByaJGFcEAhsHJokc1wQPYoXI/CLXFA+n5qvHRzcUBeukkMAstxQNnO91PjFXJAyXa+nxpnckA2XrpJDLpyQJ3vp8ZLD3NAIbByaJFVc0CcxCCwcqBzQClcj8L14HNAK4cW2c4ndEAzMzMzM2t0QEJg5dAiq3RATDeJQWDtdEDJdr6fGjd1QEJg5dAig3VAwvUoXI/KdUDLoUW28w12QMUgsHJoWXZA0SLb+X6adkBnZmZmZtZ2QOomMQisHHdAfT81XrpZd0CgGi/dJI53QMHKoUW2w3dA4XoUrkf5d0B/arx0kzB4QJQYBFYObXhASgwCK4eWeEBt5/up8cp4QBKDwMqh/XhAv58aL90seUBSuB6F62l5QAIrhxbZlnlAs53vp8bDeUDy0k1iEOh5QClcj8L1EHpA3iQGgZU7ekBt5/up8Xp6QKabxCCwonpAexSuR+G6ekCamZmZmfF6QFyPwvUoFHtAxSCwcmghe0D0/dR46U57QML1KFyPantAi2zn+6mJe0BbZDvfT6V7QFXjpZvEqHtA+FPjpZvce0BYObTIdu57QGdmZmZm5ntACKwcWmTTe0AUrkfhesx7QPyp8dJN2ntA7FG4HoXje0Czne+nxgN8QJ3vp8ZLD3xAg8DKoUUefEBnZmZmZi58QEW28/3UQHxAIbByaJFVfED8qfHSTWp8QE5iEFg5hHxA30+Nl256fEBnZmZmZnZ8QPT91HjpbnxA/Knx0k1qfED4U+Olm2x8QARWDi2yZXxAmpmZmZlZfEDn+6nx0nV8QIgW2c73Y3xAl24Sg8BafEARWDm0yF58QA==\"},\"shape\":[119],\"dtype\":\"float64\",\"order\":\"little\"}]]}}},\"view\":{\"type\":\"object\",\"name\":\"CDSView\",\"id\":\"p2192\",\"attributes\":{\"filter\":{\"type\":\"object\",\"name\":\"AllIndices\",\"id\":\"p2193\"}}},\"glyph\":{\"type\":\"object\",\"name\":\"Line\",\"id\":\"p2188\",\"attributes\":{\"x\":{\"type\":\"field\",\"field\":\"x\"},\"y\":{\"type\":\"field\",\"field\":\"y\"},\"line_color\":\"limegreen\",\"line_width\":2}},\"nonselection_glyph\":{\"type\":\"object\",\"name\":\"Line\",\"id\":\"p2189\",\"attributes\":{\"x\":{\"type\":\"field\",\"field\":\"x\"},\"y\":{\"type\":\"field\",\"field\":\"y\"},\"line_color\":\"limegreen\",\"line_alpha\":0.1,\"line_width\":2}},\"muted_glyph\":{\"type\":\"object\",\"name\":\"Line\",\"id\":\"p2190\",\"attributes\":{\"x\":{\"type\":\"field\",\"field\":\"x\"},\"y\":{\"type\":\"field\",\"field\":\"y\"},\"line_color\":\"limegreen\",\"line_alpha\":0.2,\"line_width\":2}}}},{\"type\":\"object\",\"name\":\"GlyphRenderer\",\"id\":\"p2201\",\"attributes\":{\"data_source\":{\"type\":\"object\",\"name\":\"ColumnDataSource\",\"id\":\"p2195\",\"attributes\":{\"selected\":{\"type\":\"object\",\"name\":\"Selection\",\"id\":\"p2196\",\"attributes\":{\"indices\":[],\"line_indices\":[]}},\"selection_policy\":{\"type\":\"object\",\"name\":\"UnionRenderers\",\"id\":\"p2197\"},\"data\":{\"type\":\"map\",\"entries\":[[\"x\",{\"type\":\"ndarray\",\"array\":{\"type\":\"bytes\",\"data\":\"AAAAAAAAAACamZmZmZnJP5qZmZmZmdk/MzMzMzMz4z+amZmZmZnpPwAAAAAAAPA/MzMzMzMz8z9mZmZmZmb2P5qZmZmZmfk/zczMzMzM/D8AAAAAAAAAQJqZmZmZmQFAMzMzMzMzA0DNzMzMzMwEQGZmZmZmZgZAAAAAAAAACECamZmZmZkJQDMzMzMzMwtAzczMzMzMDEBmZmZmZmYOQAAAAAAAABBAzczMzMzMEECamZmZmZkRQGZmZmZmZhJAMzMzMzMzE0AAAAAAAAAUQM3MzMzMzBRAmpmZmZmZFUBmZmZmZmYWQDMzMzMzMxdAAAAAAAAAGEDNzMzMzMwYQJqZmZmZmRlAZmZmZmZmGkAzMzMzMzMbQAAAAAAAABxAzczMzMzMHECamZmZmZkdQGZmZmZmZh5AMzMzMzMzH0AAAAAAAAAgQGZmZmZmZiBAzczMzMzMIEAzMzMzMzMhQJqZmZmZmSFAAAAAAAAAIkBmZmZmZmYiQM3MzMzMzCJAMzMzMzMzI0CamZmZmZkjQAAAAAAAACRAZmZmZmZmJEDNzMzMzMwkQDMzMzMzMyVAmpmZmZmZJUAAAAAAAAAmQGZmZmZmZiZAzczMzMzMJkAzMzMzMzMnQJqZmZmZmSdAAAAAAAAAKEBmZmZmZmYoQM3MzMzMzChAMzMzMzMzKUCamZmZmZkpQAAAAAAAACpAZmZmZmZmKkDNzMzMzMwqQDMzMzMzMytAmpmZmZmZK0AAAAAAAAAsQGZmZmZmZixAzczMzMzMLEAzMzMzMzMtQJqZmZmZmS1AAAAAAAAALkBmZmZmZmYuQM3MzMzMzC5AMzMzMzMzL0CamZmZmZkvQAAAAAAAADBAMzMzMzMzMEBmZmZmZmYwQJqZmZmZmTBAzczMzMzMMEAAAAAAAAAxQDMzMzMzMzFAZmZmZmZmMUCamZmZmZkxQM3MzMzMzDFAAAAAAAAAMkAzMzMzMzMyQGZmZmZmZjJAmpmZmZmZMkDNzMzMzMwyQAAAAAAAADNAMzMzMzMzM0BmZmZmZmYzQJqZmZmZmTNAzczMzMzMM0AAAAAAAAA0QDMzMzMzMzRAZmZmZmZmNECamZmZmZk0QM3MzMzMzDRAAAAAAAAANUAzMzMzMzM1QGZmZmZmZjVAmpmZmZmZNUDNzMzMzMw1QAAAAAAAADZAMzMzMzMzNkBmZmZmZmY2QJqZmZmZmTZAzczMzMzMNkAAAAAAAAA3QDMzMzMzMzdAZmZmZmZmN0CamZmZmZk3QA==\"},\"shape\":[119],\"dtype\":\"float64\",\"order\":\"little\"}],[\"y\",{\"type\":\"ndarray\",\"array\":{\"type\":\"bytes\",\"data\":\"HlX/MI7fZ0CCdHshM2hnQERy7bqjRmdA3xIxnT/uZkBNSca13JZmQOeQD7W9amZAKEHLm75NZkBwaewQ60dmQJqUOJxTLGZAJS57R+UTZkBGV9QTf/hlQF70HKFl6WVAoyOrMwbHZUB6OofOSqllQOGu3sNJj2VAFtZ/JFB1ZUCqkXYKWFplQFe35pP0PGVAser7DScQZUBRrzLaNdhkQCFa4+Ank2RAVzsE+49DZEAvKoXzZBFkQBSnI0cz32NAaDMXUKmMY0A2A8GUtFpjQBu8Jm/aUmNAjKqFzj8fY0DtfiadQQpjQHdX1HRx7mJA1BjfyEbUYkBkR6pz88ViQMaOGpZkvGJAUoAUqsCtYkBQQeKs9ZRiQLCS8weziWJAjWT5tDtwYkDCMtTLomxiQPZOZ1dMUGJAAc7YJ5lBYkDL16rWJUViQCMZy/diPmJA9IXuf8AyYkCKJOqZrCliQHWNm9xhCWJA0NHrsDbhYUC6DYekdtNhQFBiAVxSrGFAZPb4qAqRYUDgKdqRb35hQGvG0EthbGFAgfdCBFFEYUBY6wBfrwRhQFJJUeyy0GBAAYyK3qx5YEAHoVDLxDBgQPLFv27HEmBAeLWMOsjRX0ATF9Q+UINfQCE2+PqJbF9AICwEjlIlX0A0q4DmEcteQEQWdJPUbF5ACJBPFWbrXUA29oEC6mddQIodxokP6lxA68XozdRpXEC1OR97699bQMVBVd8OZVtA86KbP/6QWkCfBclrmG5aQD3Fliv2q1lAezALzWTtWEBuCC2jIZpYQNYJBKVXKVhAANIWF9CoV0DO5NLwyi5XQN5QAaz2tVZA4JnF8l0zVkB7iAh94DZWQFTsI8Q72lVAUyvIMsWrVUCdbURS0nhVQLoX144eH1VAKmOdwur3VEDJ/kpPT/dUQF+tu44iTFVA8tEFfxaxVUAi+tzTdZ5VQNPcUkger1VA0W6Ta5RBVUBFQuPAKrlUQKxe5FKLo1RAUyaEYugeVEDObmrsDZZUQCjk4a8FO1VAQukrj8xeVkATTFIA+sRWQCmYlcVmEVdADDQbRx0cV0CjcPsnUJRWQP6DXp4XcVZAU51tn6vMVUAnP5ZAiXFVQEo4G/NbJVVAlYeZIxySVECwr0cdCXdUQLE3ha5wUlRARwaBfbKsVEDUIz3m8KdUQJ3mGOWgvFRAY8PXejY+VEDnpNOk7+5TQCB7krOBjlNAi/R502KdU0BBTIWt0OhTQAZcJJQoKVRA02PSJWptVED8np9YjH1UQA==\"},\"shape\":[119],\"dtype\":\"float64\",\"order\":\"little\"}]]}}},\"view\":{\"type\":\"object\",\"name\":\"CDSView\",\"id\":\"p2202\",\"attributes\":{\"filter\":{\"type\":\"object\",\"name\":\"AllIndices\",\"id\":\"p2203\"}}},\"glyph\":{\"type\":\"object\",\"name\":\"Line\",\"id\":\"p2198\",\"attributes\":{\"x\":{\"type\":\"field\",\"field\":\"x\"},\"y\":{\"type\":\"field\",\"field\":\"y\"},\"line_color\":\"red\",\"line_width\":2}},\"nonselection_glyph\":{\"type\":\"object\",\"name\":\"Line\",\"id\":\"p2199\",\"attributes\":{\"x\":{\"type\":\"field\",\"field\":\"x\"},\"y\":{\"type\":\"field\",\"field\":\"y\"},\"line_color\":\"red\",\"line_alpha\":0.1,\"line_width\":2}},\"muted_glyph\":{\"type\":\"object\",\"name\":\"Line\",\"id\":\"p2200\",\"attributes\":{\"x\":{\"type\":\"field\",\"field\":\"x\"},\"y\":{\"type\":\"field\",\"field\":\"y\"},\"line_color\":\"red\",\"line_alpha\":0.2,\"line_width\":2}}}},{\"type\":\"object\",\"name\":\"GlyphRenderer\",\"id\":\"p2211\",\"attributes\":{\"data_source\":{\"type\":\"object\",\"name\":\"ColumnDataSource\",\"id\":\"p2205\",\"attributes\":{\"selected\":{\"type\":\"object\",\"name\":\"Selection\",\"id\":\"p2206\",\"attributes\":{\"indices\":[],\"line_indices\":[]}},\"selection_policy\":{\"type\":\"object\",\"name\":\"UnionRenderers\",\"id\":\"p2207\"},\"data\":{\"type\":\"map\",\"entries\":[[\"x0\",[20.6]],[\"y0\",[0.0]],[\"x1\",[20.6]],[\"y1\",[455.84]]]}}},\"view\":{\"type\":\"object\",\"name\":\"CDSView\",\"id\":\"p2212\",\"attributes\":{\"filter\":{\"type\":\"object\",\"name\":\"AllIndices\",\"id\":\"p2213\"}}},\"glyph\":{\"type\":\"object\",\"name\":\"Segment\",\"id\":\"p2208\",\"attributes\":{\"x0\":{\"type\":\"field\",\"field\":\"x0\"},\"y0\":{\"type\":\"field\",\"field\":\"y0\"},\"x1\":{\"type\":\"field\",\"field\":\"x1\"},\"y1\":{\"type\":\"field\",\"field\":\"y1\"},\"line_color\":{\"type\":\"value\",\"value\":\"lightblue\"},\"line_width\":{\"type\":\"value\",\"value\":3}}},\"nonselection_glyph\":{\"type\":\"object\",\"name\":\"Segment\",\"id\":\"p2209\",\"attributes\":{\"x0\":{\"type\":\"field\",\"field\":\"x0\"},\"y0\":{\"type\":\"field\",\"field\":\"y0\"},\"x1\":{\"type\":\"field\",\"field\":\"x1\"},\"y1\":{\"type\":\"field\",\"field\":\"y1\"},\"line_color\":{\"type\":\"value\",\"value\":\"lightblue\"},\"line_alpha\":{\"type\":\"value\",\"value\":0.1},\"line_width\":{\"type\":\"value\",\"value\":3}}},\"muted_glyph\":{\"type\":\"object\",\"name\":\"Segment\",\"id\":\"p2210\",\"attributes\":{\"x0\":{\"type\":\"field\",\"field\":\"x0\"},\"y0\":{\"type\":\"field\",\"field\":\"y0\"},\"x1\":{\"type\":\"field\",\"field\":\"x1\"},\"y1\":{\"type\":\"field\",\"field\":\"y1\"},\"line_color\":{\"type\":\"value\",\"value\":\"lightblue\"},\"line_alpha\":{\"type\":\"value\",\"value\":0.2},\"line_width\":{\"type\":\"value\",\"value\":3}}}}},{\"type\":\"object\",\"name\":\"GlyphRenderer\",\"id\":\"p2220\",\"attributes\":{\"data_source\":{\"type\":\"object\",\"name\":\"ColumnDataSource\",\"id\":\"p2214\",\"attributes\":{\"selected\":{\"type\":\"object\",\"name\":\"Selection\",\"id\":\"p2215\",\"attributes\":{\"indices\":[],\"line_indices\":[]}},\"selection_policy\":{\"type\":\"object\",\"name\":\"UnionRenderers\",\"id\":\"p2216\"},\"data\":{\"type\":\"map\",\"entries\":[[\"x0\",[22.1]],[\"y0\",[0.0]],[\"x1\",[22.1]],[\"y1\",[455.84]]]}}},\"view\":{\"type\":\"object\",\"name\":\"CDSView\",\"id\":\"p2221\",\"attributes\":{\"filter\":{\"type\":\"object\",\"name\":\"AllIndices\",\"id\":\"p2222\"}}},\"glyph\":{\"type\":\"object\",\"name\":\"Segment\",\"id\":\"p2217\",\"attributes\":{\"x0\":{\"type\":\"field\",\"field\":\"x0\"},\"y0\":{\"type\":\"field\",\"field\":\"y0\"},\"x1\":{\"type\":\"field\",\"field\":\"x1\"},\"y1\":{\"type\":\"field\",\"field\":\"y1\"},\"line_color\":{\"type\":\"value\",\"value\":\"darkseagreen\"}}},\"nonselection_glyph\":{\"type\":\"object\",\"name\":\"Segment\",\"id\":\"p2218\",\"attributes\":{\"x0\":{\"type\":\"field\",\"field\":\"x0\"},\"y0\":{\"type\":\"field\",\"field\":\"y0\"},\"x1\":{\"type\":\"field\",\"field\":\"x1\"},\"y1\":{\"type\":\"field\",\"field\":\"y1\"},\"line_color\":{\"type\":\"value\",\"value\":\"darkseagreen\"},\"line_alpha\":{\"type\":\"value\",\"value\":0.1}}},\"muted_glyph\":{\"type\":\"object\",\"name\":\"Segment\",\"id\":\"p2219\",\"attributes\":{\"x0\":{\"type\":\"field\",\"field\":\"x0\"},\"y0\":{\"type\":\"field\",\"field\":\"y0\"},\"x1\":{\"type\":\"field\",\"field\":\"x1\"},\"y1\":{\"type\":\"field\",\"field\":\"y1\"},\"line_color\":{\"type\":\"value\",\"value\":\"darkseagreen\"},\"line_alpha\":{\"type\":\"value\",\"value\":0.2}}}}},{\"type\":\"object\",\"name\":\"GlyphRenderer\",\"id\":\"p2229\",\"attributes\":{\"data_source\":{\"type\":\"object\",\"name\":\"ColumnDataSource\",\"id\":\"p2223\",\"attributes\":{\"selected\":{\"type\":\"object\",\"name\":\"Selection\",\"id\":\"p2224\",\"attributes\":{\"indices\":[],\"line_indices\":[]}},\"selection_policy\":{\"type\":\"object\",\"name\":\"UnionRenderers\",\"id\":\"p2225\"},\"data\":{\"type\":\"map\",\"entries\":[[\"x0\",[19.1]],[\"y0\",[0.0]],[\"x1\",[19.1]],[\"y1\",[455.84]]]}}},\"view\":{\"type\":\"object\",\"name\":\"CDSView\",\"id\":\"p2230\",\"attributes\":{\"filter\":{\"type\":\"object\",\"name\":\"AllIndices\",\"id\":\"p2231\"}}},\"glyph\":{\"type\":\"object\",\"name\":\"Segment\",\"id\":\"p2226\",\"attributes\":{\"x0\":{\"type\":\"field\",\"field\":\"x0\"},\"y0\":{\"type\":\"field\",\"field\":\"y0\"},\"x1\":{\"type\":\"field\",\"field\":\"x1\"},\"y1\":{\"type\":\"field\",\"field\":\"y1\"},\"line_color\":{\"type\":\"value\",\"value\":\"darkseagreen\"}}},\"nonselection_glyph\":{\"type\":\"object\",\"name\":\"Segment\",\"id\":\"p2227\",\"attributes\":{\"x0\":{\"type\":\"field\",\"field\":\"x0\"},\"y0\":{\"type\":\"field\",\"field\":\"y0\"},\"x1\":{\"type\":\"field\",\"field\":\"x1\"},\"y1\":{\"type\":\"field\",\"field\":\"y1\"},\"line_color\":{\"type\":\"value\",\"value\":\"darkseagreen\"},\"line_alpha\":{\"type\":\"value\",\"value\":0.1}}},\"muted_glyph\":{\"type\":\"object\",\"name\":\"Segment\",\"id\":\"p2228\",\"attributes\":{\"x0\":{\"type\":\"field\",\"field\":\"x0\"},\"y0\":{\"type\":\"field\",\"field\":\"y0\"},\"x1\":{\"type\":\"field\",\"field\":\"x1\"},\"y1\":{\"type\":\"field\",\"field\":\"y1\"},\"line_color\":{\"type\":\"value\",\"value\":\"darkseagreen\"},\"line_alpha\":{\"type\":\"value\",\"value\":0.2}}}}},{\"type\":\"object\",\"name\":\"GlyphRenderer\",\"id\":\"p2238\",\"attributes\":{\"data_source\":{\"type\":\"object\",\"name\":\"ColumnDataSource\",\"id\":\"p2232\",\"attributes\":{\"selected\":{\"type\":\"object\",\"name\":\"Selection\",\"id\":\"p2233\",\"attributes\":{\"indices\":[],\"line_indices\":[]}},\"selection_policy\":{\"type\":\"object\",\"name\":\"UnionRenderers\",\"id\":\"p2234\"},\"data\":{\"type\":\"map\",\"entries\":[[\"x\",[20.6]],[\"y\",[455.84]],[\"size\",[20]]]}}},\"view\":{\"type\":\"object\",\"name\":\"CDSView\",\"id\":\"p2239\",\"attributes\":{\"filter\":{\"type\":\"object\",\"name\":\"AllIndices\",\"id\":\"p2240\"}}},\"glyph\":{\"type\":\"object\",\"name\":\"Scatter\",\"id\":\"p2235\",\"attributes\":{\"x\":{\"type\":\"field\",\"field\":\"x\"},\"y\":{\"type\":\"field\",\"field\":\"y\"},\"size\":{\"type\":\"field\",\"field\":\"size\"},\"line_color\":{\"type\":\"value\",\"value\":\"lightblue\"},\"line_width\":{\"type\":\"value\",\"value\":3},\"fill_color\":{\"type\":\"value\",\"value\":null},\"marker\":{\"type\":\"value\",\"value\":\"square_cross\"}}},\"nonselection_glyph\":{\"type\":\"object\",\"name\":\"Scatter\",\"id\":\"p2236\",\"attributes\":{\"x\":{\"type\":\"field\",\"field\":\"x\"},\"y\":{\"type\":\"field\",\"field\":\"y\"},\"size\":{\"type\":\"field\",\"field\":\"size\"},\"line_color\":{\"type\":\"value\",\"value\":\"lightblue\"},\"line_alpha\":{\"type\":\"value\",\"value\":0.1},\"line_width\":{\"type\":\"value\",\"value\":3},\"fill_color\":{\"type\":\"value\",\"value\":null},\"fill_alpha\":{\"type\":\"value\",\"value\":0.1},\"hatch_alpha\":{\"type\":\"value\",\"value\":0.1},\"marker\":{\"type\":\"value\",\"value\":\"square_cross\"}}},\"muted_glyph\":{\"type\":\"object\",\"name\":\"Scatter\",\"id\":\"p2237\",\"attributes\":{\"x\":{\"type\":\"field\",\"field\":\"x\"},\"y\":{\"type\":\"field\",\"field\":\"y\"},\"size\":{\"type\":\"field\",\"field\":\"size\"},\"line_color\":{\"type\":\"value\",\"value\":\"lightblue\"},\"line_alpha\":{\"type\":\"value\",\"value\":0.2},\"line_width\":{\"type\":\"value\",\"value\":3},\"fill_color\":{\"type\":\"value\",\"value\":null},\"fill_alpha\":{\"type\":\"value\",\"value\":0.2},\"hatch_alpha\":{\"type\":\"value\",\"value\":0.2},\"marker\":{\"type\":\"value\",\"value\":\"square_cross\"}}}}}],\"toolbar\":{\"type\":\"object\",\"name\":\"Toolbar\",\"id\":\"p2125\",\"attributes\":{\"tools\":[{\"type\":\"object\",\"name\":\"PanTool\",\"id\":\"p2140\"},{\"type\":\"object\",\"name\":\"WheelZoomTool\",\"id\":\"p2141\",\"attributes\":{\"renderers\":\"auto\"}},{\"type\":\"object\",\"name\":\"BoxZoomTool\",\"id\":\"p2142\",\"attributes\":{\"overlay\":{\"type\":\"object\",\"name\":\"BoxAnnotation\",\"id\":\"p2143\",\"attributes\":{\"syncable\":false,\"line_color\":\"black\",\"line_alpha\":1.0,\"line_width\":2,\"line_dash\":[4,4],\"fill_color\":\"lightgrey\",\"fill_alpha\":0.5,\"level\":\"overlay\",\"visible\":false,\"left\":{\"type\":\"number\",\"value\":\"nan\"},\"right\":{\"type\":\"number\",\"value\":\"nan\"},\"top\":{\"type\":\"number\",\"value\":\"nan\"},\"bottom\":{\"type\":\"number\",\"value\":\"nan\"},\"left_units\":\"canvas\",\"right_units\":\"canvas\",\"top_units\":\"canvas\",\"bottom_units\":\"canvas\",\"handles\":{\"type\":\"object\",\"name\":\"BoxInteractionHandles\",\"id\":\"p2149\",\"attributes\":{\"all\":{\"type\":\"object\",\"name\":\"AreaVisuals\",\"id\":\"p2148\",\"attributes\":{\"fill_color\":\"white\",\"hover_fill_color\":\"lightgray\"}}}}}}}},{\"type\":\"object\",\"name\":\"SaveTool\",\"id\":\"p2150\"},{\"type\":\"object\",\"name\":\"ResetTool\",\"id\":\"p2151\"},{\"type\":\"object\",\"name\":\"HelpTool\",\"id\":\"p2152\"},{\"type\":\"object\",\"name\":\"HoverTool\",\"id\":\"p2184\",\"attributes\":{\"renderers\":\"auto\",\"tooltips\":[[\"Y-val\",\"@y{0.00}\"]]}}]}},\"left\":[{\"type\":\"object\",\"name\":\"LinearAxis\",\"id\":\"p2135\",\"attributes\":{\"ticker\":{\"type\":\"object\",\"name\":\"BasicTicker\",\"id\":\"p2136\",\"attributes\":{\"mantissas\":[1,2,5]}},\"formatter\":{\"type\":\"object\",\"name\":\"BasicTickFormatter\",\"id\":\"p2137\"},\"axis_label\":\"km/h\",\"axis_label_standoff\":10,\"axis_label_text_color\":\"#E0E0E0\",\"axis_label_text_font\":\"Helvetica\",\"axis_label_text_font_size\":\"1.25em\",\"axis_label_text_font_style\":\"normal\",\"major_label_policy\":{\"type\":\"object\",\"name\":\"AllLabels\",\"id\":\"p2138\"},\"major_label_text_color\":\"#E0E0E0\",\"major_label_text_font\":\"Helvetica\",\"major_label_text_font_size\":\"1.025em\",\"axis_line_color\":\"#E0E0E0\",\"axis_line_alpha\":0,\"major_tick_line_color\":\"#E0E0E0\",\"major_tick_line_alpha\":0,\"minor_tick_line_color\":\"#E0E0E0\",\"minor_tick_line_alpha\":0}},{\"type\":\"object\",\"name\":\"LinearAxis\",\"id\":\"p2155\",\"attributes\":{\"y_range_name\":\"altitudeFt\",\"ticker\":{\"type\":\"object\",\"name\":\"BasicTicker\",\"id\":\"p2156\",\"attributes\":{\"mantissas\":[1,2,5]}},\"formatter\":{\"type\":\"object\",\"name\":\"BasicTickFormatter\",\"id\":\"p2157\"},\"axis_label\":\"Alt (ft)\",\"axis_label_standoff\":10,\"axis_label_text_color\":\"#E0E0E0\",\"axis_label_text_font\":\"Helvetica\",\"axis_label_text_font_size\":\"1.25em\",\"axis_label_text_font_style\":\"normal\",\"major_label_policy\":{\"type\":\"object\",\"name\":\"AllLabels\",\"id\":\"p2158\"},\"major_label_text_color\":\"#E0E0E0\",\"major_label_text_font\":\"Helvetica\",\"major_label_text_font_size\":\"1.025em\",\"axis_line_color\":\"#E0E0E0\",\"axis_line_alpha\":0,\"major_tick_line_color\":\"#E0E0E0\",\"major_tick_line_alpha\":0,\"minor_tick_line_color\":\"#E0E0E0\",\"minor_tick_line_alpha\":0}},{\"type\":\"object\",\"name\":\"LinearAxis\",\"id\":\"p2159\",\"attributes\":{\"y_range_name\":\"angle\",\"ticker\":{\"type\":\"object\",\"name\":\"BasicTicker\",\"id\":\"p2160\",\"attributes\":{\"mantissas\":[1,2,5]}},\"formatter\":{\"type\":\"object\",\"name\":\"BasicTickFormatter\",\"id\":\"p2161\"},\"axis_label\":\"angle\",\"axis_label_standoff\":10,\"axis_label_text_color\":\"#E0E0E0\",\"axis_label_text_font\":\"Helvetica\",\"axis_label_text_font_size\":\"1.25em\",\"axis_label_text_font_style\":\"normal\",\"major_label_policy\":{\"type\":\"object\",\"name\":\"AllLabels\",\"id\":\"p2162\"},\"major_label_text_color\":\"#E0E0E0\",\"major_label_text_font\":\"Helvetica\",\"major_label_text_font_size\":\"1.025em\",\"axis_line_color\":\"#E0E0E0\",\"axis_line_alpha\":0,\"major_tick_line_color\":\"#E0E0E0\",\"major_tick_line_alpha\":0,\"minor_tick_line_color\":\"#E0E0E0\",\"minor_tick_line_alpha\":0}}],\"below\":[{\"type\":\"object\",\"name\":\"LinearAxis\",\"id\":\"p2130\",\"attributes\":{\"ticker\":{\"type\":\"object\",\"name\":\"BasicTicker\",\"id\":\"p2131\",\"attributes\":{\"mantissas\":[1,2,5]}},\"formatter\":{\"type\":\"object\",\"name\":\"BasicTickFormatter\",\"id\":\"p2132\"},\"axis_label\":\"seconds from exit\",\"axis_label_standoff\":10,\"axis_label_text_color\":\"#E0E0E0\",\"axis_label_text_font\":\"Helvetica\",\"axis_label_text_font_size\":\"1.25em\",\"axis_label_text_font_style\":\"normal\",\"major_label_policy\":{\"type\":\"object\",\"name\":\"AllLabels\",\"id\":\"p2133\"},\"major_label_text_color\":\"#E0E0E0\",\"major_label_text_font\":\"Helvetica\",\"major_label_text_font_size\":\"1.025em\",\"axis_line_color\":\"#E0E0E0\",\"axis_line_alpha\":0,\"major_tick_line_color\":\"#E0E0E0\",\"major_tick_line_alpha\":0,\"minor_tick_line_color\":\"#E0E0E0\",\"minor_tick_line_alpha\":0}}],\"center\":[{\"type\":\"object\",\"name\":\"Grid\",\"id\":\"p2134\",\"attributes\":{\"axis\":{\"id\":\"p2130\"},\"grid_line_color\":\"#E0E0E0\",\"grid_line_alpha\":0.25}},{\"type\":\"object\",\"name\":\"Grid\",\"id\":\"p2139\",\"attributes\":{\"dimension\":1,\"axis\":{\"id\":\"p2135\"},\"grid_line_color\":\"#E0E0E0\",\"grid_line_alpha\":0.25}},{\"type\":\"object\",\"name\":\"Legend\",\"id\":\"p2172\",\"attributes\":{\"border_line_alpha\":0,\"background_fill_color\":\"#20262B\",\"background_fill_alpha\":0.25,\"label_text_color\":\"#E0E0E0\",\"label_text_font\":\"Helvetica\",\"label_text_font_size\":\"1.025em\",\"label_standoff\":8,\"glyph_width\":15,\"spacing\":8,\"items\":[{\"type\":\"object\",\"name\":\"LegendItem\",\"id\":\"p2173\",\"attributes\":{\"label\":{\"type\":\"value\",\"value\":\"Alt (ft)\"},\"renderers\":[{\"id\":\"p2169\"}]}},{\"type\":\"object\",\"name\":\"LegendItem\",\"id\":\"p2183\",\"attributes\":{\"label\":{\"type\":\"value\",\"value\":\"angle\"},\"renderers\":[{\"id\":\"p2180\"}]}},{\"type\":\"object\",\"name\":\"LegendItem\",\"id\":\"p2194\",\"attributes\":{\"label\":{\"type\":\"value\",\"value\":\"speed\"},\"renderers\":[{\"id\":\"p2191\"}]}},{\"type\":\"object\",\"name\":\"LegendItem\",\"id\":\"p2204\",\"attributes\":{\"label\":{\"type\":\"value\",\"value\":\"H-speed\"},\"renderers\":[{\"id\":\"p2201\"}]}}]}}],\"background_fill_color\":\"#20262B\",\"border_fill_color\":\"#15191C\"}}]}};\n",
       "  const render_items = [{\"docid\":\"7a02335d-9d99-40b6-b707-f91353310b61\",\"roots\":{\"p2116\":\"c461a83c-85b9-4f32-ba2f-f0adb6df804c\"},\"root_ids\":[\"p2116\"]}];\n",
       "  void root.Bokeh.embed.embed_items_notebook(docs_json, render_items);\n",
       "  }\n",
       "  if (root.Bokeh !== undefined) {\n",
       "    embed_document(root);\n",
       "  } else {\n",
       "    let attempts = 0;\n",
       "    const timer = setInterval(function(root) {\n",
       "      if (root.Bokeh !== undefined) {\n",
       "        clearInterval(timer);\n",
       "        embed_document(root);\n",
       "      } else {\n",
       "        attempts++;\n",
       "        if (attempts > 100) {\n",
       "          clearInterval(timer);\n",
       "          console.log(\"Bokeh: ERROR: Unable to run BokehJS code because BokehJS library is missing\");\n",
       "        }\n",
       "      }\n",
       "    }, 10, root)\n",
       "  }\n",
       "})(window);"
      ],
      "application/vnd.bokehjs_exec.v0+json": ""
     },
     "metadata": {
      "application/vnd.bokehjs_exec.v0+json": {
       "id": "p2116"
      }
     },
     "output_type": "display_data"
    },
    {
     "data": {
      "application/vnd.jupyter.widget-view+json": {
       "model_id": "b082b03bee02471089a7ea6a0fe99ca7",
       "version_major": 2,
       "version_minor": 0
      },
      "text/plain": [
       "HTML(value='<hr><h1><span style=\"color: green\">data 12-14-48:v1 jump - VALID - score = 454.2 km/h</span></h1>'…"
      ]
     },
     "metadata": {},
     "output_type": "display_data"
    },
    {
     "data": {
      "application/vnd.jupyter.widget-view+json": {
       "model_id": "6d3d28c3c85b4e20891e2b2b67d52e75",
       "version_major": 2,
       "version_minor": 0
      },
      "text/plain": [
       "HTML(value='<h3>Max speed = 460; exit at 3650 m (11976 ft), end scoring window at 1707 m (5600 ft)</h3?')"
      ]
     },
     "metadata": {},
     "output_type": "display_data"
    },
    {
     "data": {
      "application/vnd.jupyter.widget-view+json": {
       "model_id": "2f809e7aae2f4ef78372beca27be431a",
       "version_major": 2,
       "version_minor": 0
      },
      "text/plain": [
       "HTML(value='<h3><span style=\"color: yellow\"><span style=\"font-weight: bold\">Warning:</span> exit altitude AGL …"
      ]
     },
     "metadata": {},
     "output_type": "display_data"
    },
    {
     "data": {
      "text/html": [
       "<div>\n",
       "<style scoped>\n",
       "    .dataframe tbody tr th:only-of-type {\n",
       "        vertical-align: middle;\n",
       "    }\n",
       "\n",
       "    .dataframe tbody tr th {\n",
       "        vertical-align: top;\n",
       "    }\n",
       "\n",
       "    .dataframe thead th {\n",
       "        text-align: right;\n",
       "    }\n",
       "</style>\n",
       "<table border=\"1\" class=\"dataframe\">\n",
       "  <thead>\n",
       "    <tr style=\"text-align: right;\">\n",
       "      <th></th>\n",
       "      <th>time</th>\n",
       "      <th>vKMh</th>\n",
       "      <th>hKMh</th>\n",
       "      <th>speedAngle</th>\n",
       "      <th>distanceFromExit (m)</th>\n",
       "      <th>altitude (ft)</th>\n",
       "      <th>netVectorKMh</th>\n",
       "    </tr>\n",
       "  </thead>\n",
       "  <tbody>\n",
       "    <tr>\n",
       "      <th></th>\n",
       "      <td>5.0</td>\n",
       "      <td>176</td>\n",
       "      <td>157</td>\n",
       "      <td>48.20</td>\n",
       "      <td>239.05</td>\n",
       "      <td>11551</td>\n",
       "      <td>236</td>\n",
       "    </tr>\n",
       "    <tr>\n",
       "      <th></th>\n",
       "      <td>10.0</td>\n",
       "      <td>313</td>\n",
       "      <td>113</td>\n",
       "      <td>70.12</td>\n",
       "      <td>428.35</td>\n",
       "      <td>10410</td>\n",
       "      <td>333</td>\n",
       "    </tr>\n",
       "    <tr>\n",
       "      <th></th>\n",
       "      <td>15.0</td>\n",
       "      <td>407</td>\n",
       "      <td>79</td>\n",
       "      <td>79.09</td>\n",
       "      <td>549.38</td>\n",
       "      <td>8742</td>\n",
       "      <td>415</td>\n",
       "    </tr>\n",
       "    <tr>\n",
       "      <th></th>\n",
       "      <td>20.0</td>\n",
       "      <td>444</td>\n",
       "      <td>48</td>\n",
       "      <td>83.90</td>\n",
       "      <td>644.43</td>\n",
       "      <td>6781</td>\n",
       "      <td>447</td>\n",
       "    </tr>\n",
       "    <tr>\n",
       "      <th></th>\n",
       "      <td>25.0</td>\n",
       "      <td>460</td>\n",
       "      <td>32</td>\n",
       "      <td>86.07</td>\n",
       "      <td>664.07</td>\n",
       "      <td>5620</td>\n",
       "      <td>461</td>\n",
       "    </tr>\n",
       "  </tbody>\n",
       "</table>\n",
       "</div>"
      ],
      "text/plain": [
       "  time  vKMh  hKMh  speedAngle  distanceFromExit (m)  altitude (ft)  \\\n",
       "   5.0   176   157       48.20                239.05          11551   \n",
       "  10.0   313   113       70.12                428.35          10410   \n",
       "  15.0   407    79       79.09                549.38           8742   \n",
       "  20.0   444    48       83.90                644.43           6781   \n",
       "  25.0   460    32       86.07                664.07           5620   \n",
       "\n",
       "  netVectorKMh  \n",
       "           236  \n",
       "           333  \n",
       "           415  \n",
       "           447  \n",
       "           461  "
      ]
     },
     "metadata": {},
     "output_type": "display_data"
    },
    {
     "data": {
      "text/html": [
       "\n",
       "  <div id=\"c0b4846d-e83c-451a-b4ec-202fbd75d961\" data-root-id=\"p2259\" style=\"display: contents;\"></div>\n"
      ]
     },
     "metadata": {},
     "output_type": "display_data"
    },
    {
     "data": {
      "application/javascript": [
       "(function(root) {\n",
       "  function embed_document(root) {\n",
       "  const docs_json = {\"e967ed9e-2a44-4bcb-a6d9-c08c2e2afb18\":{\"version\":\"3.5.2\",\"title\":\"Bokeh Application\",\"roots\":[{\"type\":\"object\",\"name\":\"Figure\",\"id\":\"p2259\",\"attributes\":{\"width\":900,\"height\":500,\"x_range\":{\"type\":\"object\",\"name\":\"Range1d\",\"id\":\"p2269\",\"attributes\":{\"end\":35.0}},\"y_range\":{\"type\":\"object\",\"name\":\"Range1d\",\"id\":\"p2270\",\"attributes\":{\"end\":550.0}},\"x_scale\":{\"type\":\"object\",\"name\":\"LinearScale\",\"id\":\"p2271\"},\"y_scale\":{\"type\":\"object\",\"name\":\"LinearScale\",\"id\":\"p2272\"},\"extra_y_ranges\":{\"type\":\"map\",\"entries\":[[\"altitudeFt\",{\"type\":\"object\",\"name\":\"Range1d\",\"id\":\"p2296\",\"attributes\":{\"start\":5120.4113368,\"end\":12476.2428416}}],[\"angle\",{\"type\":\"object\",\"name\":\"Range1d\",\"id\":\"p2297\",\"attributes\":{\"end\":90.0}}]]},\"title\":{\"type\":\"object\",\"name\":\"Title\",\"id\":\"p2262\",\"attributes\":{\"text\":\"data 12-14-48:v1\",\"text_color\":\"#E0E0E0\",\"text_font\":\"Helvetica\",\"text_font_size\":\"1.15em\"}},\"outline_line_color\":\"#E0E0E0\",\"outline_line_alpha\":0.25,\"renderers\":[{\"type\":\"object\",\"name\":\"GlyphRenderer\",\"id\":\"p2312\",\"attributes\":{\"y_range_name\":\"altitudeFt\",\"data_source\":{\"type\":\"object\",\"name\":\"ColumnDataSource\",\"id\":\"p2306\",\"attributes\":{\"selected\":{\"type\":\"object\",\"name\":\"Selection\",\"id\":\"p2307\",\"attributes\":{\"indices\":[],\"line_indices\":[]}},\"selection_policy\":{\"type\":\"object\",\"name\":\"UnionRenderers\",\"id\":\"p2308\"},\"data\":{\"type\":\"map\",\"entries\":[[\"x\",{\"type\":\"ndarray\",\"array\":{\"type\":\"bytes\",\"data\":\"AAAAAAAAAACamZmZmZnJP5qZmZmZmdk/MzMzMzMz4z+amZmZmZnpPwAAAAAAAPA/MzMzMzMz8z9mZmZmZmb2P5qZmZmZmfk/zczMzMzM/D8AAAAAAAAAQJqZmZmZmQFAMzMzMzMzA0DNzMzMzMwEQGZmZmZmZgZAAAAAAAAACECamZmZmZkJQDMzMzMzMwtAzczMzMzMDEBmZmZmZmYOQAAAAAAAABBAzczMzMzMEECamZmZmZkRQGZmZmZmZhJAMzMzMzMzE0AAAAAAAAAUQM3MzMzMzBRAmpmZmZmZFUBmZmZmZmYWQDMzMzMzMxdAAAAAAAAAGEDNzMzMzMwYQJqZmZmZmRlAZmZmZmZmGkAzMzMzMzMbQAAAAAAAABxAzczMzMzMHECamZmZmZkdQGZmZmZmZh5AMzMzMzMzH0AAAAAAAAAgQGZmZmZmZiBAzczMzMzMIEAzMzMzMzMhQJqZmZmZmSFAAAAAAAAAIkBmZmZmZmYiQM3MzMzMzCJAMzMzMzMzI0CamZmZmZkjQAAAAAAAACRAZmZmZmZmJEDNzMzMzMwkQDMzMzMzMyVAmpmZmZmZJUAAAAAAAAAmQGZmZmZmZiZAzczMzMzMJkAzMzMzMzMnQJqZmZmZmSdAAAAAAAAAKEBmZmZmZmYoQM3MzMzMzChAMzMzMzMzKUCamZmZmZkpQAAAAAAAACpAZmZmZmZmKkDNzMzMzMwqQDMzMzMzMytAmpmZmZmZK0AAAAAAAAAsQGZmZmZmZixAzczMzMzMLEAzMzMzMzMtQJqZmZmZmS1AAAAAAAAALkBmZmZmZmYuQM3MzMzMzC5AMzMzMzMzL0CamZmZmZkvQAAAAAAAADBAMzMzMzMzMEBmZmZmZmYwQJqZmZmZmTBAzczMzMzMMEAAAAAAAAAxQDMzMzMzMzFAZmZmZmZmMUCamZmZmZkxQM3MzMzMzDFAAAAAAAAAMkAzMzMzMzMyQGZmZmZmZjJAmpmZmZmZMkDNzMzMzMwyQAAAAAAAADNAMzMzMzMzM0BmZmZmZmYzQJqZmZmZmTNAzczMzMzMM0AAAAAAAAA0QDMzMzMzMzRAZmZmZmZmNECamZmZmZk0QM3MzMzMzDRAAAAAAAAANUAzMzMzMzM1QGZmZmZmZjVAmpmZmZmZNUDNzMzMzMw1QAAAAAAAADZAMzMzMzMzNkBmZmZmZmY2QJqZmZmZmTZAzczMzMzMNkA=\"},\"shape\":[115],\"dtype\":\"float64\",\"order\":\"little\"}],[\"y\",{\"type\":\"ndarray\",\"array\":{\"type\":\"bytes\",\"data\":\"Dv1uFR9kx0C4+ZAB6mLHQHfJ7rhPYcdAiTjn8fVex0CznITSL1zHQIk1S7jWWMdAv1THhcZUx0Aim5q6CVDHQORnI9eVSsdAL/GR3qFEx0CLUkKw0j3HQA6yG2yYNsdAyP39GMEux0B6zQb0VSbHQAOOTqc2HcdAvZdWnmMTx0B6DKApBQnHQCUe9XwK/sZA7Cu0GGnyxkBN5DimFebGQPJv4Yot2cZAhJiVN6nLxkAQZ9nuib3GQLPttDXSrsZAYSOkyYCfxkCshDggm4/GQN8+BoYnf8ZAryR5rh9uxkA5JjBCjVzGQBcm+EtgSsZA2DonrLM3xkD5NILodCTGQNEouLOyEMZAypk3mGf8xUAUxfU5kOfFQItUGFs40sVAgNtu3VC8xUApOjcS7aXFQOpQl9bwjsVAfFFx0np3xUByWeCGa1/FQFh/OtTdRsVAXQB1Xs4txUBaQuMuVxTFQMSNpVmC+sRAZcVwdRDgxEA+JlKaLcXEQAAC1qq1qcRAMgkX8tiNxEA7nRoemXHEQBUbmIHfVMRAMqlGVL03xEBdpPVcSxrEQBghPNpo/MNA2ILeG1Pew0AYOyuz0r/DQKfqwx/yoMNArCtVWJeBw0DB+0+j5WHDQGDnps3YQcNAB/wrdYohw0DXbVD79QDDQJt+P+sA4MJAj1IJT7C+wkDYYfFA8ZzCQM3iD1DLesJAhaOaSE9YwkCXICOggjXCQHmHJS88EsJA/te5aavuwUBjesISx8rBQKGpjaB/psFAHeLE/AmCwUB8y+a7ZV3BQLrkEw11OMFA8z9UdToTwUCBE8CDve3AQDXlVHzVx8BACa5NvryhwEBii90+g3vAQO6sJwQMVcBApE16hEcuwEDwal56iAfAQEKPvYOkwb9ARDdWvXdzv0C6yJgWMCW/QPh5nR7V1r5AhHqfT3mIvkCi1ckZKjq+QFoTwe7K671AWJ72Si+dvUBGhCRYQU69QH6eq1If/7xA0Mh7MMSvvEAclNUZRGC8QNrpYi6EELxAQo+9g2TAu0BCWfj66m+7QG6iOy0kH7tAMm/VdSjOukBqxqLp7Hy6QJB4aA5fK7pAnP2BcpvZuUBZdbHEjoe5QHAIVWpWNblAxaRk3u/iuEArbGFxg5C4QNnEbkTMPbhAfF3QjI/qt0DW6gZlRZe3QAM7SJn+Q7dA2NpWDljwtkC3o5MAcJy2QFpIwOiCSLZApFdeTWn0tUA=\"},\"shape\":[115],\"dtype\":\"float64\",\"order\":\"little\"}]]}}},\"view\":{\"type\":\"object\",\"name\":\"CDSView\",\"id\":\"p2313\",\"attributes\":{\"filter\":{\"type\":\"object\",\"name\":\"AllIndices\",\"id\":\"p2314\"}}},\"glyph\":{\"type\":\"object\",\"name\":\"Line\",\"id\":\"p2309\",\"attributes\":{\"x\":{\"type\":\"field\",\"field\":\"x\"},\"y\":{\"type\":\"field\",\"field\":\"y\"},\"line_color\":\"palegoldenrod\",\"line_width\":2}},\"nonselection_glyph\":{\"type\":\"object\",\"name\":\"Line\",\"id\":\"p2310\",\"attributes\":{\"x\":{\"type\":\"field\",\"field\":\"x\"},\"y\":{\"type\":\"field\",\"field\":\"y\"},\"line_color\":\"palegoldenrod\",\"line_alpha\":0.1,\"line_width\":2}},\"muted_glyph\":{\"type\":\"object\",\"name\":\"Line\",\"id\":\"p2311\",\"attributes\":{\"x\":{\"type\":\"field\",\"field\":\"x\"},\"y\":{\"type\":\"field\",\"field\":\"y\"},\"line_color\":\"palegoldenrod\",\"line_alpha\":0.2,\"line_width\":2}}}},{\"type\":\"object\",\"name\":\"GlyphRenderer\",\"id\":\"p2323\",\"attributes\":{\"y_range_name\":\"angle\",\"data_source\":{\"type\":\"object\",\"name\":\"ColumnDataSource\",\"id\":\"p2317\",\"attributes\":{\"selected\":{\"type\":\"object\",\"name\":\"Selection\",\"id\":\"p2318\",\"attributes\":{\"indices\":[],\"line_indices\":[]}},\"selection_policy\":{\"type\":\"object\",\"name\":\"UnionRenderers\",\"id\":\"p2319\"},\"data\":{\"type\":\"map\",\"entries\":[[\"x\",{\"type\":\"ndarray\",\"array\":{\"type\":\"bytes\",\"data\":\"AAAAAAAAAACamZmZmZnJP5qZmZmZmdk/MzMzMzMz4z+amZmZmZnpPwAAAAAAAPA/MzMzMzMz8z9mZmZmZmb2P5qZmZmZmfk/zczMzMzM/D8AAAAAAAAAQJqZmZmZmQFAMzMzMzMzA0DNzMzMzMwEQGZmZmZmZgZAAAAAAAAACECamZmZmZkJQDMzMzMzMwtAzczMzMzMDEBmZmZmZmYOQAAAAAAAABBAzczMzMzMEECamZmZmZkRQGZmZmZmZhJAMzMzMzMzE0AAAAAAAAAUQM3MzMzMzBRAmpmZmZmZFUBmZmZmZmYWQDMzMzMzMxdAAAAAAAAAGEDNzMzMzMwYQJqZmZmZmRlAZmZmZmZmGkAzMzMzMzMbQAAAAAAAABxAzczMzMzMHECamZmZmZkdQGZmZmZmZh5AMzMzMzMzH0AAAAAAAAAgQGZmZmZmZiBAzczMzMzMIEAzMzMzMzMhQJqZmZmZmSFAAAAAAAAAIkBmZmZmZmYiQM3MzMzMzCJAMzMzMzMzI0CamZmZmZkjQAAAAAAAACRAZmZmZmZmJEDNzMzMzMwkQDMzMzMzMyVAmpmZmZmZJUAAAAAAAAAmQGZmZmZmZiZAzczMzMzMJkAzMzMzMzMnQJqZmZmZmSdAAAAAAAAAKEBmZmZmZmYoQM3MzMzMzChAMzMzMzMzKUCamZmZmZkpQAAAAAAAACpAZmZmZmZmKkDNzMzMzMwqQDMzMzMzMytAmpmZmZmZK0AAAAAAAAAsQGZmZmZmZixAzczMzMzMLEAzMzMzMzMtQJqZmZmZmS1AAAAAAAAALkBmZmZmZmYuQM3MzMzMzC5AMzMzMzMzL0CamZmZmZkvQAAAAAAAADBAMzMzMzMzMEBmZmZmZmYwQJqZmZmZmTBAzczMzMzMMEAAAAAAAAAxQDMzMzMzMzFAZmZmZmZmMUCamZmZmZkxQM3MzMzMzDFAAAAAAAAAMkAzMzMzMzMyQGZmZmZmZjJAmpmZmZmZMkDNzMzMzMwyQAAAAAAAADNAMzMzMzMzM0BmZmZmZmYzQJqZmZmZmTNAzczMzMzMM0AAAAAAAAA0QDMzMzMzMzRAZmZmZmZmNECamZmZmZk0QM3MzMzMzDRAAAAAAAAANUAzMzMzMzM1QGZmZmZmZjVAmpmZmZmZNUDNzMzMzMw1QAAAAAAAADZAMzMzMzMzNkBmZmZmZmY2QJqZmZmZmTZAzczMzMzMNkA=\"},\"shape\":[115],\"dtype\":\"float64\",\"order\":\"little\"}],[\"y\",{\"type\":\"ndarray\",\"array\":{\"type\":\"bytes\",\"data\":\"zczMzMzMAkCF61G4HoUSQFyPwvUoXBpAuB6F61G4IECPwvUoXI8kQOF6FK5H4SdAAAAAAAAALEBSuB6F6xEwQPYoXI/CdTJAhetRuB6FNEAzMzMzMzM3QIXrUbgexThASOF6FK7HOkCuR+F6FK48QM3MzMzMzD5AAAAAAABgQEDsUbgehUtBQNejcD0KN0JAH4XrUbj+QkD2KFyPwtVDQHsUrkfhmkRApHA9CtdDRUBSuB6F6xFGQDMzMzMzs0ZAhetRuB5lR0CamZmZmRlIQPYoXI/CtUhAMzMzMzNTSUCkcD0K1+NJQJqZmZmZeUpA16NwPQr3SkCamZmZmXlLQHsUrkfh+ktA16NwPQp3TEApXI/C9ehMQClcj8L1aE1AmpmZmZnZTUCuR+F6FE5OQB+F61G4vk5APQrXo3A9T0AAAAAAAKBPQOF6FK5HAVBA16NwPQo3UEBI4XoUrmdQQFyPwvUojFBArkfhehS+UECF61G4HuVQQB+F61G4DlFApHA9CtczUUCkcD0K12NRQEjhehSuh1FAH4XrUbiuUUCF61G4HtVRQArXo3A9+lFAKVyPwvUoUkBI4XoUrkdSQKRwPQrXY1JAmpmZmZl5UkDD9Shcj5JSQIXrUbgetVJAexSuR+HKUkDsUbgehetSQFK4HoXrAVNAXI/C9SgcU0Bcj8L1KCxTQB+F61G4PlNAzczMzMxMU0B7FK5H4VpTQJqZmZmZaVNAZmZmZmZ2U0BxPQrXo4BTQI/C9Shcj1NAcT0K16OgU0AAAAAAALBTQFK4HoXrwVNA9ihcj8LFU0AK16NwPcpTQAAAAAAAwFNA4XoUrkfBU0AzMzMzM8NTQGZmZmZmxlNAZmZmZmbGU0AAAAAAAMBTQBSuR+F6xFNAuB6F61G4U0AUrkfherRTQArXo3A9mlNA9ihcj8KlU0A9CtejcL1TQKRwPQrX41NAFK5H4XoEVEAK16NwPSpUQMP1KFyPQlRAexSuR+FqVEBSuB6F64FUQD0K16NwnVRASOF6FK63VECF61G4HrVUQHsUrkfhylRAAAAAAADgVECamZmZmflUQM3MzMzMDFVAXI/C9SgcVUDD9ShcjyJVQHsUrkfhOlVAZmZmZmZGVUCkcD0K11NVQEjhehSuV1VA7FG4HoVrVUDsUbgehXtVQGZmZmZmhlVAXI/C9SiMVUCkcD0K14NVQAAAAAAAgFVAFK5H4XqEVUA=\"},\"shape\":[115],\"dtype\":\"float64\",\"order\":\"little\"}]]}}},\"view\":{\"type\":\"object\",\"name\":\"CDSView\",\"id\":\"p2324\",\"attributes\":{\"filter\":{\"type\":\"object\",\"name\":\"AllIndices\",\"id\":\"p2325\"}}},\"glyph\":{\"type\":\"object\",\"name\":\"Line\",\"id\":\"p2320\",\"attributes\":{\"x\":{\"type\":\"field\",\"field\":\"x\"},\"y\":{\"type\":\"field\",\"field\":\"y\"},\"line_color\":\"deepskyblue\",\"line_width\":2}},\"nonselection_glyph\":{\"type\":\"object\",\"name\":\"Line\",\"id\":\"p2321\",\"attributes\":{\"x\":{\"type\":\"field\",\"field\":\"x\"},\"y\":{\"type\":\"field\",\"field\":\"y\"},\"line_color\":\"deepskyblue\",\"line_alpha\":0.1,\"line_width\":2}},\"muted_glyph\":{\"type\":\"object\",\"name\":\"Line\",\"id\":\"p2322\",\"attributes\":{\"x\":{\"type\":\"field\",\"field\":\"x\"},\"y\":{\"type\":\"field\",\"field\":\"y\"},\"line_color\":\"deepskyblue\",\"line_alpha\":0.2,\"line_width\":2}}}},{\"type\":\"object\",\"name\":\"GlyphRenderer\",\"id\":\"p2334\",\"attributes\":{\"data_source\":{\"type\":\"object\",\"name\":\"ColumnDataSource\",\"id\":\"p2328\",\"attributes\":{\"selected\":{\"type\":\"object\",\"name\":\"Selection\",\"id\":\"p2329\",\"attributes\":{\"indices\":[],\"line_indices\":[]}},\"selection_policy\":{\"type\":\"object\",\"name\":\"UnionRenderers\",\"id\":\"p2330\"},\"data\":{\"type\":\"map\",\"entries\":[[\"x\",{\"type\":\"ndarray\",\"array\":{\"type\":\"bytes\",\"data\":\"AAAAAAAAAACamZmZmZnJP5qZmZmZmdk/MzMzMzMz4z+amZmZmZnpPwAAAAAAAPA/MzMzMzMz8z9mZmZmZmb2P5qZmZmZmfk/zczMzMzM/D8AAAAAAAAAQJqZmZmZmQFAMzMzMzMzA0DNzMzMzMwEQGZmZmZmZgZAAAAAAAAACECamZmZmZkJQDMzMzMzMwtAzczMzMzMDEBmZmZmZmYOQAAAAAAAABBAzczMzMzMEECamZmZmZkRQGZmZmZmZhJAMzMzMzMzE0AAAAAAAAAUQM3MzMzMzBRAmpmZmZmZFUBmZmZmZmYWQDMzMzMzMxdAAAAAAAAAGEDNzMzMzMwYQJqZmZmZmRlAZmZmZmZmGkAzMzMzMzMbQAAAAAAAABxAzczMzMzMHECamZmZmZkdQGZmZmZmZh5AMzMzMzMzH0AAAAAAAAAgQGZmZmZmZiBAzczMzMzMIEAzMzMzMzMhQJqZmZmZmSFAAAAAAAAAIkBmZmZmZmYiQM3MzMzMzCJAMzMzMzMzI0CamZmZmZkjQAAAAAAAACRAZmZmZmZmJEDNzMzMzMwkQDMzMzMzMyVAmpmZmZmZJUAAAAAAAAAmQGZmZmZmZiZAzczMzMzMJkAzMzMzMzMnQJqZmZmZmSdAAAAAAAAAKEBmZmZmZmYoQM3MzMzMzChAMzMzMzMzKUCamZmZmZkpQAAAAAAAACpAZmZmZmZmKkDNzMzMzMwqQDMzMzMzMytAmpmZmZmZK0AAAAAAAAAsQGZmZmZmZixAzczMzMzMLEAzMzMzMzMtQJqZmZmZmS1AAAAAAAAALkBmZmZmZmYuQM3MzMzMzC5AMzMzMzMzL0CamZmZmZkvQAAAAAAAADBAMzMzMzMzMEBmZmZmZmYwQJqZmZmZmTBAzczMzMzMMEAAAAAAAAAxQDMzMzMzMzFAZmZmZmZmMUCamZmZmZkxQM3MzMzMzDFAAAAAAAAAMkAzMzMzMzMyQGZmZmZmZjJAmpmZmZmZMkDNzMzMzMwyQAAAAAAAADNAMzMzMzMzM0BmZmZmZmYzQJqZmZmZmTNAzczMzMzMM0AAAAAAAAA0QDMzMzMzMzRAZmZmZmZmNECamZmZmZk0QM3MzMzMzDRAAAAAAAAANUAzMzMzMzM1QGZmZmZmZjVAmpmZmZmZNUDNzMzMzMw1QAAAAAAAADZAMzMzMzMzNkBmZmZmZmY2QJqZmZmZmTZAzczMzMzMNkA=\"},\"shape\":[115],\"dtype\":\"float64\",\"order\":\"little\"}],[\"y\",{\"type\":\"ndarray\",\"array\":{\"type\":\"bytes\",\"data\":\"u0kMAiuHHkDByqFFtvMtQD4K16NwPTVApHA9CtejOkAaL90kBkFAQB1aZDvfD0NAKVyPwvVoRkBFtvP91LhJQG3n+6nxkk1AsHJoke18UECPwvUoXM9SQEW28/3UGFRAJzEIrBzaVUBSuB6F63FXQAaBlUOLTFlA30+Nl24SW0DZzvdT48VcQL6fGi/dhF5AYxBYObQYYEDC9ShcjwJhQFXjpZvE0GFA7FG4HoWbYkBQjZduEoNjQOxRuB6FS2RAbef7qfEiZUD4U+Olm/RlQJZDi2znu2ZAKVyPwvWIZ0DP91PjpUtoQGQ730+NF2lAHVpkO9/PaUDJdr6fGo9qQG8Sg8DKUWtAObTIdr7/a0AGgZVDi6xsQKwcWmQ7b21AbhKDwMohbkAj2/l+atxuQOomMQisjG9Aarx0kxgUcEBKDAIrh25wQK5H4XoUxnBAlBgEVg4dcUAL16NwPWpxQCUGgZVDo3FAiUFg5dD6cUDqJjEIrFRyQNijcD0Kp3JASgwCK4f2ckBEi2zn+0FzQMHKoUW2i3NAuR6F61HYc0C8dJMYBB50QESLbOf7YXRAYxBYObSYdEBt5/up8dp0QPyp8dJNGnVA9P3UeOlmdUD4U+Olm6x1QI/C9Shc53VAqvHSTWIgdkDHSzeJQVh2QOf7qfHSjXZA7nw/NV7SdkCLbOf7qQl3QKRwPQrXQ3dAPzVeukl8d0A+CtejcMV3QFK4HoXrAXhAXrpJDAJDeEDy0k1iEIB4QJqZmZmZsXhAMN0kBoHteEB1kxgEVg55QAaBlUOLTHlAObTIdr53eUDYo3A9Cq95QJHtfD811nlA0SLb+X76eUCgGi/dJBZ6QM3MzMzMRHpAke18PzVmekBbZDvfT4V6QCcxCKwconpADAIrhxaxekDn+6nx0sV6QBKDwMqhrXpAdZMYBFa+ekBI4XoUrtd6QE5iEFg51HpA0SLb+X7SekAX2c73U/N6QHe+nxovBXtAxSCwcmghe0AxCKwcWix7QHsUrkfhSntAwcqhRbZre0ArhxbZznd7QGq8dJMYnHtAXI/C9Sike0Aj2/l+asR7QH0/NV662XtAUI2XbhLze0Coxks3iQl8QAisHFpkG3xA7nw/NV4qfEDVeOkmMTh8QLOd76fGS3xA7FG4HoVzfEBbZDvfT318QEoMAiuHhnxAppvEILCafEB/arx0k7B8QPCnxks3uXxAXrpJDALDfEA=\"},\"shape\":[115],\"dtype\":\"float64\",\"order\":\"little\"}]]}}},\"view\":{\"type\":\"object\",\"name\":\"CDSView\",\"id\":\"p2335\",\"attributes\":{\"filter\":{\"type\":\"object\",\"name\":\"AllIndices\",\"id\":\"p2336\"}}},\"glyph\":{\"type\":\"object\",\"name\":\"Line\",\"id\":\"p2331\",\"attributes\":{\"x\":{\"type\":\"field\",\"field\":\"x\"},\"y\":{\"type\":\"field\",\"field\":\"y\"},\"line_color\":\"limegreen\",\"line_width\":2}},\"nonselection_glyph\":{\"type\":\"object\",\"name\":\"Line\",\"id\":\"p2332\",\"attributes\":{\"x\":{\"type\":\"field\",\"field\":\"x\"},\"y\":{\"type\":\"field\",\"field\":\"y\"},\"line_color\":\"limegreen\",\"line_alpha\":0.1,\"line_width\":2}},\"muted_glyph\":{\"type\":\"object\",\"name\":\"Line\",\"id\":\"p2333\",\"attributes\":{\"x\":{\"type\":\"field\",\"field\":\"x\"},\"y\":{\"type\":\"field\",\"field\":\"y\"},\"line_color\":\"limegreen\",\"line_alpha\":0.2,\"line_width\":2}}}},{\"type\":\"object\",\"name\":\"GlyphRenderer\",\"id\":\"p2344\",\"attributes\":{\"data_source\":{\"type\":\"object\",\"name\":\"ColumnDataSource\",\"id\":\"p2338\",\"attributes\":{\"selected\":{\"type\":\"object\",\"name\":\"Selection\",\"id\":\"p2339\",\"attributes\":{\"indices\":[],\"line_indices\":[]}},\"selection_policy\":{\"type\":\"object\",\"name\":\"UnionRenderers\",\"id\":\"p2340\"},\"data\":{\"type\":\"map\",\"entries\":[[\"x\",{\"type\":\"ndarray\",\"array\":{\"type\":\"bytes\",\"data\":\"AAAAAAAAAACamZmZmZnJP5qZmZmZmdk/MzMzMzMz4z+amZmZmZnpPwAAAAAAAPA/MzMzMzMz8z9mZmZmZmb2P5qZmZmZmfk/zczMzMzM/D8AAAAAAAAAQJqZmZmZmQFAMzMzMzMzA0DNzMzMzMwEQGZmZmZmZgZAAAAAAAAACECamZmZmZkJQDMzMzMzMwtAzczMzMzMDEBmZmZmZmYOQAAAAAAAABBAzczMzMzMEECamZmZmZkRQGZmZmZmZhJAMzMzMzMzE0AAAAAAAAAUQM3MzMzMzBRAmpmZmZmZFUBmZmZmZmYWQDMzMzMzMxdAAAAAAAAAGEDNzMzMzMwYQJqZmZmZmRlAZmZmZmZmGkAzMzMzMzMbQAAAAAAAABxAzczMzMzMHECamZmZmZkdQGZmZmZmZh5AMzMzMzMzH0AAAAAAAAAgQGZmZmZmZiBAzczMzMzMIEAzMzMzMzMhQJqZmZmZmSFAAAAAAAAAIkBmZmZmZmYiQM3MzMzMzCJAMzMzMzMzI0CamZmZmZkjQAAAAAAAACRAZmZmZmZmJEDNzMzMzMwkQDMzMzMzMyVAmpmZmZmZJUAAAAAAAAAmQGZmZmZmZiZAzczMzMzMJkAzMzMzMzMnQJqZmZmZmSdAAAAAAAAAKEBmZmZmZmYoQM3MzMzMzChAMzMzMzMzKUCamZmZmZkpQAAAAAAAACpAZmZmZmZmKkDNzMzMzMwqQDMzMzMzMytAmpmZmZmZK0AAAAAAAAAsQGZmZmZmZixAzczMzMzMLEAzMzMzMzMtQJqZmZmZmS1AAAAAAAAALkBmZmZmZmYuQM3MzMzMzC5AMzMzMzMzL0CamZmZmZkvQAAAAAAAADBAMzMzMzMzMEBmZmZmZmYwQJqZmZmZmTBAzczMzMzMMEAAAAAAAAAxQDMzMzMzMzFAZmZmZmZmMUCamZmZmZkxQM3MzMzMzDFAAAAAAAAAMkAzMzMzMzMyQGZmZmZmZjJAmpmZmZmZMkDNzMzMzMwyQAAAAAAAADNAMzMzMzMzM0BmZmZmZmYzQJqZmZmZmTNAzczMzMzMM0AAAAAAAAA0QDMzMzMzMzRAZmZmZmZmNECamZmZmZk0QM3MzMzMzDRAAAAAAAAANUAzMzMzMzM1QGZmZmZmZjVAmpmZmZmZNUDNzMzMzMw1QAAAAAAAADZAMzMzMzMzNkBmZmZmZmY2QJqZmZmZmTZAzczMzMzMNkA=\"},\"shape\":[115],\"dtype\":\"float64\",\"order\":\"little\"}],[\"y\",{\"type\":\"ndarray\",\"array\":{\"type\":\"bytes\",\"data\":\"rn34vPpIZ0B02RLD7htnQLumhBiD92ZAWiNranWmZkAzO/k31WhmQGmqs/+CiGZAQqQ/JrV2ZkCN7WdIz1BmQJ4jRz6PJWZA0TPlLi0HZkDUrBJd3fBlQIVPdun0x2VAEcLhR4ylZUCPyrt1B25lQJfn4nuQOGVAmFB4CqgKZUCtecRVe9xkQI9XWBpirWRAu/hhjy+cZEBzZELqYINkQPuxYiQKV2RAsldyRIJIZEB2ynLGzBpkQExnVqQSBGRAblkH0mTaY0ChKez4wqBjQLQffahGeGNA4Sl8oe9MY0CuxtA/aCJjQKX8Dm298WJAVUGNMbrMYkBVTCquu6FiQO3kbWL+c2JAMRQ4D187YkAkyK4oJQpiQLsMDhut0GFAH1WjBcWaYUAc/3Ig+2FhQPZnsEMqI2FABXKKRpPBYECnGyes9JBgQA9JU/anWWBAp4pOPAgQYEBKOviIEpJfQFufp+y8IF9A/4jbHPmRXkAFlydX70FeQNnAWZ0CzV1Ay5Att0RmXUBde+o68rZcQDy/WZwyR1xAQxc3sEi/W0BQqNk9Fy9bQNUNzpwdolpAjXVoPOjAWUDekNRnEU9ZQKXz2Hc26lhATf2E8Z6zWECKOfclhWRYQAi2nyxkwVdAaxkoPRZvV0Bw17g209FWQD6B5wuLcVZAcq52358DVkAPhgnGEM9VQKjUpSVBhFVA9AIPkRhWVUAAUwSFNDhVQIkoUCUCBlVAQID2797kVEDyUAmbntBUQENVQdkeklRA3BCpco1GVEDuUbi/n+5TQMzFWPV0nVNAYuvwcHWkU0DYrseNEK5TQOnWDLmuFVRAQJcsQoUpVEBP1X3Y0TFUQF487qvJOlRAXrh33ChWVEBcQAuakJ1UQAyklmHGk1RABk7HBVb9VEAxnBiiRCxVQI4VQc285FVAZ1mP0wWXVUD5emmpnPFUQAHO1+4BxlNAWW03vxTGUkBEZgj74LpRQOcsZ2HwClFAbsTIN4XLT0CP6MOevm1OQBYJoEj350xAcBxRrjZzS0AJavvfaqZLQMGqYmM2eEpAIIByEJoxSUAKFWAjrsFHQDtqbp3zokZAJUF8nIPDRUDK7Z3YK21FQAhTc7Sv+UNAC3X3ZpFPQ0DdHb30x4RCQDcFyFWTVEJA2cKNP9UwQUCb/a/pMjVAQGy1JD4oGT9A/Y4Hj5VyPkBajg28/qQ/QG7YM6lYDkBA8wmra8mcP0A=\"},\"shape\":[115],\"dtype\":\"float64\",\"order\":\"little\"}]]}}},\"view\":{\"type\":\"object\",\"name\":\"CDSView\",\"id\":\"p2345\",\"attributes\":{\"filter\":{\"type\":\"object\",\"name\":\"AllIndices\",\"id\":\"p2346\"}}},\"glyph\":{\"type\":\"object\",\"name\":\"Line\",\"id\":\"p2341\",\"attributes\":{\"x\":{\"type\":\"field\",\"field\":\"x\"},\"y\":{\"type\":\"field\",\"field\":\"y\"},\"line_color\":\"red\",\"line_width\":2}},\"nonselection_glyph\":{\"type\":\"object\",\"name\":\"Line\",\"id\":\"p2342\",\"attributes\":{\"x\":{\"type\":\"field\",\"field\":\"x\"},\"y\":{\"type\":\"field\",\"field\":\"y\"},\"line_color\":\"red\",\"line_alpha\":0.1,\"line_width\":2}},\"muted_glyph\":{\"type\":\"object\",\"name\":\"Line\",\"id\":\"p2343\",\"attributes\":{\"x\":{\"type\":\"field\",\"field\":\"x\"},\"y\":{\"type\":\"field\",\"field\":\"y\"},\"line_color\":\"red\",\"line_alpha\":0.2,\"line_width\":2}}}},{\"type\":\"object\",\"name\":\"GlyphRenderer\",\"id\":\"p2354\",\"attributes\":{\"data_source\":{\"type\":\"object\",\"name\":\"ColumnDataSource\",\"id\":\"p2348\",\"attributes\":{\"selected\":{\"type\":\"object\",\"name\":\"Selection\",\"id\":\"p2349\",\"attributes\":{\"indices\":[],\"line_indices\":[]}},\"selection_policy\":{\"type\":\"object\",\"name\":\"UnionRenderers\",\"id\":\"p2350\"},\"data\":{\"type\":\"map\",\"entries\":[[\"x0\",[19.8]],[\"y0\",[0.0]],[\"x1\",[19.8]],[\"y1\",[454.19]]]}}},\"view\":{\"type\":\"object\",\"name\":\"CDSView\",\"id\":\"p2355\",\"attributes\":{\"filter\":{\"type\":\"object\",\"name\":\"AllIndices\",\"id\":\"p2356\"}}},\"glyph\":{\"type\":\"object\",\"name\":\"Segment\",\"id\":\"p2351\",\"attributes\":{\"x0\":{\"type\":\"field\",\"field\":\"x0\"},\"y0\":{\"type\":\"field\",\"field\":\"y0\"},\"x1\":{\"type\":\"field\",\"field\":\"x1\"},\"y1\":{\"type\":\"field\",\"field\":\"y1\"},\"line_color\":{\"type\":\"value\",\"value\":\"lightblue\"},\"line_width\":{\"type\":\"value\",\"value\":3}}},\"nonselection_glyph\":{\"type\":\"object\",\"name\":\"Segment\",\"id\":\"p2352\",\"attributes\":{\"x0\":{\"type\":\"field\",\"field\":\"x0\"},\"y0\":{\"type\":\"field\",\"field\":\"y0\"},\"x1\":{\"type\":\"field\",\"field\":\"x1\"},\"y1\":{\"type\":\"field\",\"field\":\"y1\"},\"line_color\":{\"type\":\"value\",\"value\":\"lightblue\"},\"line_alpha\":{\"type\":\"value\",\"value\":0.1},\"line_width\":{\"type\":\"value\",\"value\":3}}},\"muted_glyph\":{\"type\":\"object\",\"name\":\"Segment\",\"id\":\"p2353\",\"attributes\":{\"x0\":{\"type\":\"field\",\"field\":\"x0\"},\"y0\":{\"type\":\"field\",\"field\":\"y0\"},\"x1\":{\"type\":\"field\",\"field\":\"x1\"},\"y1\":{\"type\":\"field\",\"field\":\"y1\"},\"line_color\":{\"type\":\"value\",\"value\":\"lightblue\"},\"line_alpha\":{\"type\":\"value\",\"value\":0.2},\"line_width\":{\"type\":\"value\",\"value\":3}}}}},{\"type\":\"object\",\"name\":\"GlyphRenderer\",\"id\":\"p2363\",\"attributes\":{\"data_source\":{\"type\":\"object\",\"name\":\"ColumnDataSource\",\"id\":\"p2357\",\"attributes\":{\"selected\":{\"type\":\"object\",\"name\":\"Selection\",\"id\":\"p2358\",\"attributes\":{\"indices\":[],\"line_indices\":[]}},\"selection_policy\":{\"type\":\"object\",\"name\":\"UnionRenderers\",\"id\":\"p2359\"},\"data\":{\"type\":\"map\",\"entries\":[[\"x0\",[21.3]],[\"y0\",[0.0]],[\"x1\",[21.3]],[\"y1\",[454.19]]]}}},\"view\":{\"type\":\"object\",\"name\":\"CDSView\",\"id\":\"p2364\",\"attributes\":{\"filter\":{\"type\":\"object\",\"name\":\"AllIndices\",\"id\":\"p2365\"}}},\"glyph\":{\"type\":\"object\",\"name\":\"Segment\",\"id\":\"p2360\",\"attributes\":{\"x0\":{\"type\":\"field\",\"field\":\"x0\"},\"y0\":{\"type\":\"field\",\"field\":\"y0\"},\"x1\":{\"type\":\"field\",\"field\":\"x1\"},\"y1\":{\"type\":\"field\",\"field\":\"y1\"},\"line_color\":{\"type\":\"value\",\"value\":\"darkseagreen\"}}},\"nonselection_glyph\":{\"type\":\"object\",\"name\":\"Segment\",\"id\":\"p2361\",\"attributes\":{\"x0\":{\"type\":\"field\",\"field\":\"x0\"},\"y0\":{\"type\":\"field\",\"field\":\"y0\"},\"x1\":{\"type\":\"field\",\"field\":\"x1\"},\"y1\":{\"type\":\"field\",\"field\":\"y1\"},\"line_color\":{\"type\":\"value\",\"value\":\"darkseagreen\"},\"line_alpha\":{\"type\":\"value\",\"value\":0.1}}},\"muted_glyph\":{\"type\":\"object\",\"name\":\"Segment\",\"id\":\"p2362\",\"attributes\":{\"x0\":{\"type\":\"field\",\"field\":\"x0\"},\"y0\":{\"type\":\"field\",\"field\":\"y0\"},\"x1\":{\"type\":\"field\",\"field\":\"x1\"},\"y1\":{\"type\":\"field\",\"field\":\"y1\"},\"line_color\":{\"type\":\"value\",\"value\":\"darkseagreen\"},\"line_alpha\":{\"type\":\"value\",\"value\":0.2}}}}},{\"type\":\"object\",\"name\":\"GlyphRenderer\",\"id\":\"p2372\",\"attributes\":{\"data_source\":{\"type\":\"object\",\"name\":\"ColumnDataSource\",\"id\":\"p2366\",\"attributes\":{\"selected\":{\"type\":\"object\",\"name\":\"Selection\",\"id\":\"p2367\",\"attributes\":{\"indices\":[],\"line_indices\":[]}},\"selection_policy\":{\"type\":\"object\",\"name\":\"UnionRenderers\",\"id\":\"p2368\"},\"data\":{\"type\":\"map\",\"entries\":[[\"x0\",[18.3]],[\"y0\",[0.0]],[\"x1\",[18.3]],[\"y1\",[454.19]]]}}},\"view\":{\"type\":\"object\",\"name\":\"CDSView\",\"id\":\"p2373\",\"attributes\":{\"filter\":{\"type\":\"object\",\"name\":\"AllIndices\",\"id\":\"p2374\"}}},\"glyph\":{\"type\":\"object\",\"name\":\"Segment\",\"id\":\"p2369\",\"attributes\":{\"x0\":{\"type\":\"field\",\"field\":\"x0\"},\"y0\":{\"type\":\"field\",\"field\":\"y0\"},\"x1\":{\"type\":\"field\",\"field\":\"x1\"},\"y1\":{\"type\":\"field\",\"field\":\"y1\"},\"line_color\":{\"type\":\"value\",\"value\":\"darkseagreen\"}}},\"nonselection_glyph\":{\"type\":\"object\",\"name\":\"Segment\",\"id\":\"p2370\",\"attributes\":{\"x0\":{\"type\":\"field\",\"field\":\"x0\"},\"y0\":{\"type\":\"field\",\"field\":\"y0\"},\"x1\":{\"type\":\"field\",\"field\":\"x1\"},\"y1\":{\"type\":\"field\",\"field\":\"y1\"},\"line_color\":{\"type\":\"value\",\"value\":\"darkseagreen\"},\"line_alpha\":{\"type\":\"value\",\"value\":0.1}}},\"muted_glyph\":{\"type\":\"object\",\"name\":\"Segment\",\"id\":\"p2371\",\"attributes\":{\"x0\":{\"type\":\"field\",\"field\":\"x0\"},\"y0\":{\"type\":\"field\",\"field\":\"y0\"},\"x1\":{\"type\":\"field\",\"field\":\"x1\"},\"y1\":{\"type\":\"field\",\"field\":\"y1\"},\"line_color\":{\"type\":\"value\",\"value\":\"darkseagreen\"},\"line_alpha\":{\"type\":\"value\",\"value\":0.2}}}}},{\"type\":\"object\",\"name\":\"GlyphRenderer\",\"id\":\"p2381\",\"attributes\":{\"data_source\":{\"type\":\"object\",\"name\":\"ColumnDataSource\",\"id\":\"p2375\",\"attributes\":{\"selected\":{\"type\":\"object\",\"name\":\"Selection\",\"id\":\"p2376\",\"attributes\":{\"indices\":[],\"line_indices\":[]}},\"selection_policy\":{\"type\":\"object\",\"name\":\"UnionRenderers\",\"id\":\"p2377\"},\"data\":{\"type\":\"map\",\"entries\":[[\"x\",[19.8]],[\"y\",[454.19]],[\"size\",[20]]]}}},\"view\":{\"type\":\"object\",\"name\":\"CDSView\",\"id\":\"p2382\",\"attributes\":{\"filter\":{\"type\":\"object\",\"name\":\"AllIndices\",\"id\":\"p2383\"}}},\"glyph\":{\"type\":\"object\",\"name\":\"Scatter\",\"id\":\"p2378\",\"attributes\":{\"x\":{\"type\":\"field\",\"field\":\"x\"},\"y\":{\"type\":\"field\",\"field\":\"y\"},\"size\":{\"type\":\"field\",\"field\":\"size\"},\"line_color\":{\"type\":\"value\",\"value\":\"lightblue\"},\"line_width\":{\"type\":\"value\",\"value\":3},\"fill_color\":{\"type\":\"value\",\"value\":null},\"marker\":{\"type\":\"value\",\"value\":\"square_cross\"}}},\"nonselection_glyph\":{\"type\":\"object\",\"name\":\"Scatter\",\"id\":\"p2379\",\"attributes\":{\"x\":{\"type\":\"field\",\"field\":\"x\"},\"y\":{\"type\":\"field\",\"field\":\"y\"},\"size\":{\"type\":\"field\",\"field\":\"size\"},\"line_color\":{\"type\":\"value\",\"value\":\"lightblue\"},\"line_alpha\":{\"type\":\"value\",\"value\":0.1},\"line_width\":{\"type\":\"value\",\"value\":3},\"fill_color\":{\"type\":\"value\",\"value\":null},\"fill_alpha\":{\"type\":\"value\",\"value\":0.1},\"hatch_alpha\":{\"type\":\"value\",\"value\":0.1},\"marker\":{\"type\":\"value\",\"value\":\"square_cross\"}}},\"muted_glyph\":{\"type\":\"object\",\"name\":\"Scatter\",\"id\":\"p2380\",\"attributes\":{\"x\":{\"type\":\"field\",\"field\":\"x\"},\"y\":{\"type\":\"field\",\"field\":\"y\"},\"size\":{\"type\":\"field\",\"field\":\"size\"},\"line_color\":{\"type\":\"value\",\"value\":\"lightblue\"},\"line_alpha\":{\"type\":\"value\",\"value\":0.2},\"line_width\":{\"type\":\"value\",\"value\":3},\"fill_color\":{\"type\":\"value\",\"value\":null},\"fill_alpha\":{\"type\":\"value\",\"value\":0.2},\"hatch_alpha\":{\"type\":\"value\",\"value\":0.2},\"marker\":{\"type\":\"value\",\"value\":\"square_cross\"}}}}}],\"toolbar\":{\"type\":\"object\",\"name\":\"Toolbar\",\"id\":\"p2268\",\"attributes\":{\"tools\":[{\"type\":\"object\",\"name\":\"PanTool\",\"id\":\"p2283\"},{\"type\":\"object\",\"name\":\"WheelZoomTool\",\"id\":\"p2284\",\"attributes\":{\"renderers\":\"auto\"}},{\"type\":\"object\",\"name\":\"BoxZoomTool\",\"id\":\"p2285\",\"attributes\":{\"overlay\":{\"type\":\"object\",\"name\":\"BoxAnnotation\",\"id\":\"p2286\",\"attributes\":{\"syncable\":false,\"line_color\":\"black\",\"line_alpha\":1.0,\"line_width\":2,\"line_dash\":[4,4],\"fill_color\":\"lightgrey\",\"fill_alpha\":0.5,\"level\":\"overlay\",\"visible\":false,\"left\":{\"type\":\"number\",\"value\":\"nan\"},\"right\":{\"type\":\"number\",\"value\":\"nan\"},\"top\":{\"type\":\"number\",\"value\":\"nan\"},\"bottom\":{\"type\":\"number\",\"value\":\"nan\"},\"left_units\":\"canvas\",\"right_units\":\"canvas\",\"top_units\":\"canvas\",\"bottom_units\":\"canvas\",\"handles\":{\"type\":\"object\",\"name\":\"BoxInteractionHandles\",\"id\":\"p2292\",\"attributes\":{\"all\":{\"type\":\"object\",\"name\":\"AreaVisuals\",\"id\":\"p2291\",\"attributes\":{\"fill_color\":\"white\",\"hover_fill_color\":\"lightgray\"}}}}}}}},{\"type\":\"object\",\"name\":\"SaveTool\",\"id\":\"p2293\"},{\"type\":\"object\",\"name\":\"ResetTool\",\"id\":\"p2294\"},{\"type\":\"object\",\"name\":\"HelpTool\",\"id\":\"p2295\"},{\"type\":\"object\",\"name\":\"HoverTool\",\"id\":\"p2327\",\"attributes\":{\"renderers\":\"auto\",\"tooltips\":[[\"Y-val\",\"@y{0.00}\"]]}}]}},\"left\":[{\"type\":\"object\",\"name\":\"LinearAxis\",\"id\":\"p2278\",\"attributes\":{\"ticker\":{\"type\":\"object\",\"name\":\"BasicTicker\",\"id\":\"p2279\",\"attributes\":{\"mantissas\":[1,2,5]}},\"formatter\":{\"type\":\"object\",\"name\":\"BasicTickFormatter\",\"id\":\"p2280\"},\"axis_label\":\"km/h\",\"axis_label_standoff\":10,\"axis_label_text_color\":\"#E0E0E0\",\"axis_label_text_font\":\"Helvetica\",\"axis_label_text_font_size\":\"1.25em\",\"axis_label_text_font_style\":\"normal\",\"major_label_policy\":{\"type\":\"object\",\"name\":\"AllLabels\",\"id\":\"p2281\"},\"major_label_text_color\":\"#E0E0E0\",\"major_label_text_font\":\"Helvetica\",\"major_label_text_font_size\":\"1.025em\",\"axis_line_color\":\"#E0E0E0\",\"axis_line_alpha\":0,\"major_tick_line_color\":\"#E0E0E0\",\"major_tick_line_alpha\":0,\"minor_tick_line_color\":\"#E0E0E0\",\"minor_tick_line_alpha\":0}},{\"type\":\"object\",\"name\":\"LinearAxis\",\"id\":\"p2298\",\"attributes\":{\"y_range_name\":\"altitudeFt\",\"ticker\":{\"type\":\"object\",\"name\":\"BasicTicker\",\"id\":\"p2299\",\"attributes\":{\"mantissas\":[1,2,5]}},\"formatter\":{\"type\":\"object\",\"name\":\"BasicTickFormatter\",\"id\":\"p2300\"},\"axis_label\":\"Alt (ft)\",\"axis_label_standoff\":10,\"axis_label_text_color\":\"#E0E0E0\",\"axis_label_text_font\":\"Helvetica\",\"axis_label_text_font_size\":\"1.25em\",\"axis_label_text_font_style\":\"normal\",\"major_label_policy\":{\"type\":\"object\",\"name\":\"AllLabels\",\"id\":\"p2301\"},\"major_label_text_color\":\"#E0E0E0\",\"major_label_text_font\":\"Helvetica\",\"major_label_text_font_size\":\"1.025em\",\"axis_line_color\":\"#E0E0E0\",\"axis_line_alpha\":0,\"major_tick_line_color\":\"#E0E0E0\",\"major_tick_line_alpha\":0,\"minor_tick_line_color\":\"#E0E0E0\",\"minor_tick_line_alpha\":0}},{\"type\":\"object\",\"name\":\"LinearAxis\",\"id\":\"p2302\",\"attributes\":{\"y_range_name\":\"angle\",\"ticker\":{\"type\":\"object\",\"name\":\"BasicTicker\",\"id\":\"p2303\",\"attributes\":{\"mantissas\":[1,2,5]}},\"formatter\":{\"type\":\"object\",\"name\":\"BasicTickFormatter\",\"id\":\"p2304\"},\"axis_label\":\"angle\",\"axis_label_standoff\":10,\"axis_label_text_color\":\"#E0E0E0\",\"axis_label_text_font\":\"Helvetica\",\"axis_label_text_font_size\":\"1.25em\",\"axis_label_text_font_style\":\"normal\",\"major_label_policy\":{\"type\":\"object\",\"name\":\"AllLabels\",\"id\":\"p2305\"},\"major_label_text_color\":\"#E0E0E0\",\"major_label_text_font\":\"Helvetica\",\"major_label_text_font_size\":\"1.025em\",\"axis_line_color\":\"#E0E0E0\",\"axis_line_alpha\":0,\"major_tick_line_color\":\"#E0E0E0\",\"major_tick_line_alpha\":0,\"minor_tick_line_color\":\"#E0E0E0\",\"minor_tick_line_alpha\":0}}],\"below\":[{\"type\":\"object\",\"name\":\"LinearAxis\",\"id\":\"p2273\",\"attributes\":{\"ticker\":{\"type\":\"object\",\"name\":\"BasicTicker\",\"id\":\"p2274\",\"attributes\":{\"mantissas\":[1,2,5]}},\"formatter\":{\"type\":\"object\",\"name\":\"BasicTickFormatter\",\"id\":\"p2275\"},\"axis_label\":\"seconds from exit\",\"axis_label_standoff\":10,\"axis_label_text_color\":\"#E0E0E0\",\"axis_label_text_font\":\"Helvetica\",\"axis_label_text_font_size\":\"1.25em\",\"axis_label_text_font_style\":\"normal\",\"major_label_policy\":{\"type\":\"object\",\"name\":\"AllLabels\",\"id\":\"p2276\"},\"major_label_text_color\":\"#E0E0E0\",\"major_label_text_font\":\"Helvetica\",\"major_label_text_font_size\":\"1.025em\",\"axis_line_color\":\"#E0E0E0\",\"axis_line_alpha\":0,\"major_tick_line_color\":\"#E0E0E0\",\"major_tick_line_alpha\":0,\"minor_tick_line_color\":\"#E0E0E0\",\"minor_tick_line_alpha\":0}}],\"center\":[{\"type\":\"object\",\"name\":\"Grid\",\"id\":\"p2277\",\"attributes\":{\"axis\":{\"id\":\"p2273\"},\"grid_line_color\":\"#E0E0E0\",\"grid_line_alpha\":0.25}},{\"type\":\"object\",\"name\":\"Grid\",\"id\":\"p2282\",\"attributes\":{\"dimension\":1,\"axis\":{\"id\":\"p2278\"},\"grid_line_color\":\"#E0E0E0\",\"grid_line_alpha\":0.25}},{\"type\":\"object\",\"name\":\"Legend\",\"id\":\"p2315\",\"attributes\":{\"border_line_alpha\":0,\"background_fill_color\":\"#20262B\",\"background_fill_alpha\":0.25,\"label_text_color\":\"#E0E0E0\",\"label_text_font\":\"Helvetica\",\"label_text_font_size\":\"1.025em\",\"label_standoff\":8,\"glyph_width\":15,\"spacing\":8,\"items\":[{\"type\":\"object\",\"name\":\"LegendItem\",\"id\":\"p2316\",\"attributes\":{\"label\":{\"type\":\"value\",\"value\":\"Alt (ft)\"},\"renderers\":[{\"id\":\"p2312\"}]}},{\"type\":\"object\",\"name\":\"LegendItem\",\"id\":\"p2326\",\"attributes\":{\"label\":{\"type\":\"value\",\"value\":\"angle\"},\"renderers\":[{\"id\":\"p2323\"}]}},{\"type\":\"object\",\"name\":\"LegendItem\",\"id\":\"p2337\",\"attributes\":{\"label\":{\"type\":\"value\",\"value\":\"speed\"},\"renderers\":[{\"id\":\"p2334\"}]}},{\"type\":\"object\",\"name\":\"LegendItem\",\"id\":\"p2347\",\"attributes\":{\"label\":{\"type\":\"value\",\"value\":\"H-speed\"},\"renderers\":[{\"id\":\"p2344\"}]}}]}}],\"background_fill_color\":\"#20262B\",\"border_fill_color\":\"#15191C\"}}]}};\n",
       "  const render_items = [{\"docid\":\"e967ed9e-2a44-4bcb-a6d9-c08c2e2afb18\",\"roots\":{\"p2259\":\"c0b4846d-e83c-451a-b4ec-202fbd75d961\"},\"root_ids\":[\"p2259\"]}];\n",
       "  void root.Bokeh.embed.embed_items_notebook(docs_json, render_items);\n",
       "  }\n",
       "  if (root.Bokeh !== undefined) {\n",
       "    embed_document(root);\n",
       "  } else {\n",
       "    let attempts = 0;\n",
       "    const timer = setInterval(function(root) {\n",
       "      if (root.Bokeh !== undefined) {\n",
       "        clearInterval(timer);\n",
       "        embed_document(root);\n",
       "      } else {\n",
       "        attempts++;\n",
       "        if (attempts > 100) {\n",
       "          clearInterval(timer);\n",
       "          console.log(\"Bokeh: ERROR: Unable to run BokehJS code because BokehJS library is missing\");\n",
       "        }\n",
       "      }\n",
       "    }, 10, root)\n",
       "  }\n",
       "})(window);"
      ],
      "application/vnd.bokehjs_exec.v0+json": ""
     },
     "metadata": {
      "application/vnd.bokehjs_exec.v0+json": {
       "id": "p2259"
      }
     },
     "output_type": "display_data"
    },
    {
     "data": {
      "application/vnd.jupyter.widget-view+json": {
       "model_id": "4568e5e8ed1142b7994151c05906a483",
       "version_major": 2,
       "version_minor": 0
      },
      "text/plain": [
       "HTML(value='<hr><h1><span style=\"color: red\">data Ciurana-jump-02-container-09-56-08:v1 jump - INVALID - JumpS…"
      ]
     },
     "metadata": {},
     "output_type": "display_data"
    },
    {
     "data": {
      "application/vnd.jupyter.widget-view+json": {
       "model_id": "ae8de52e1dd3452881a3b486d577e53d",
       "version_major": 2,
       "version_minor": 0
      },
      "text/plain": [
       "HTML(value='<h3>Max speed = 498; exit at 4308 m (14134 ft), end scoring window at 2052 m (6732 ft)</h3?')"
      ]
     },
     "metadata": {},
     "output_type": "display_data"
    },
    {
     "data": {
      "application/vnd.jupyter.widget-view+json": {
       "model_id": "a235f8d3c13b4d26a4daf198cf5c6313",
       "version_major": 2,
       "version_minor": 0
      },
      "text/plain": [
       "HTML(value='<h3><span style=\"color: red\"><span style=\"font-weight: bold\">RE-JUMP:</span> exit altitude AGL exc…"
      ]
     },
     "metadata": {},
     "output_type": "display_data"
    }
   ],
   "source": [
    "allJumpsPlot = initializePlot('All jumps in set')\n",
    "jumpNumber = 0\n",
    "mixColor = 0\n",
    "for resultRef in jumpResults.keys():\n",
    "    if ignoreBaseline and 'baseline' in resultRef:\n",
    "        continue\n",
    "    jumpResult = jumpResults[resultRef]\n",
    "    if jumpResult.status == JumpStatus.OK:\n",
    "        validJumpStatus = '<hr><h1><span style=\"color: %s\">%s jump - %s - score = %.01f km/h</span></h1>' % ('green', resultRef, 'VALID', jumpResult.score)\n",
    "    else:\n",
    "        validJumpStatus = '<hr><h1><span style=\"color: %s\">%s jump - %s - %s</span></h1>' % ('red', resultRef, 'INVALID', jumpResult.status)\n",
    "\n",
    "    maxSpeed = jumpResult.maxSpeed\n",
    "    window = jumpResult.window\n",
    "    mixColor = (mixColor+1)%len(SPEED_COLORS)\n",
    "    if jumpResult.status == JumpStatus.OK:\n",
    "        belowMaxAltitude = isValidMaximumAltitude(jumpResult.data.altitudeAGL.max())\n",
    "        badJumpLegend = None\n",
    "        if not isValidMinimumAltitude(jumpResult.data.altitudeAGL.max()):\n",
    "            badJumpLegend = '<h3><span style=\"color: yellow\"><span style=\"font-weight: bold\">Warning:</span> exit altitude AGL was lower than the minimum scoring altitude according to IPC and USPA.</h3>'\n",
    "        if not belowMaxAltitude:\n",
    "            badJumpLegend = '<h3><span style=\"color: red\"><span style=\"font-weight: bold\">RE-JUMP:</span> exit altitude AGL exceeds the maximum altitude according to IPC and USPA.</h3>'\n",
    "            validJumpStatus = '<hr><h1><span style=\"color: %s\">%s jump - %s - %s</span></h1>' % ('red', resultRef, 'INVALID', JumpStatus.ALTITUDE_EXCEEDS_MAXIMUM)\n",
    "        display(widgets.HTML(validJumpStatus))            \n",
    "        display(widgets.HTML('<h3>Max speed = {0:,.0f}; '.format(maxSpeed)+('exit at %d m (%d ft), end scoring window at %d m (%d ft)</h3?'%(window.start, 3.2808*window.start, window.end, 3.2808*window.end))))\n",
    "        if badJumpLegend:\n",
    "            display(widgets.HTML(badJumpLegend))\n",
    "            if not belowMaxAltitude:\n",
    "                continue\n",
    "        displayJumpDataIn(jumpResult.table)\n",
    "        individualPlot = initializePlot(resultRef)\n",
    "        individualPlot = initializeExtraYRanges(individualPlot, startY = min(jumpResult.data.altitudeAGLFt)-500.0, endY = max(jumpResult.data.altitudeAGLFt)+500.0)\n",
    "        graphAltitude(individualPlot, jumpResult)\n",
    "        graphAngle(individualPlot, jumpResult)\n",
    "        hoverValue = bm.HoverTool(tooltips=[('Y-val', '@y{0.00}',),])\n",
    "        individualPlot.add_tools(hoverValue)\n",
    "        graphJumpResult(\n",
    "            individualPlot,\n",
    "            jumpResult,\n",
    "            lineColor=SPEED_COLORS[0])\n",
    "        graphJumpResult(\n",
    "            allJumpsPlot,\n",
    "            jumpResult,\n",
    "            lineColor=SPEED_COLORS[mixColor],\n",
    "            legend='%s - %.2f' % (resultRef, jumpResult.score),\n",
    "            showIt=False)"
   ]
  },
  {
   "cell_type": "markdown",
   "id": "7ce6a107-0553-4477-8159-48f89c4ebf3d",
   "metadata": {},
   "source": [
    "---\n",
    "## All skydives"
   ]
  },
  {
   "cell_type": "code",
   "execution_count": 51,
   "id": "60f84d2b-7b74-4d79-86d8-112e2617c8f5",
   "metadata": {},
   "outputs": [
    {
     "data": {
      "text/html": [
       "<div>\n",
       "<style scoped>\n",
       "    .dataframe tbody tr th:only-of-type {\n",
       "        vertical-align: middle;\n",
       "    }\n",
       "\n",
       "    .dataframe tbody tr th {\n",
       "        vertical-align: top;\n",
       "    }\n",
       "\n",
       "    .dataframe thead th {\n",
       "        text-align: right;\n",
       "    }\n",
       "</style>\n",
       "<table border=\"1\" class=\"dataframe\">\n",
       "  <thead>\n",
       "    <tr style=\"text-align: right;\">\n",
       "      <th></th>\n",
       "      <th>score</th>\n",
       "      <th>5.0</th>\n",
       "      <th>10.0</th>\n",
       "      <th>15.0</th>\n",
       "      <th>20.0</th>\n",
       "      <th>25.0</th>\n",
       "      <th>finalTime</th>\n",
       "      <th>maxSpeed</th>\n",
       "    </tr>\n",
       "  </thead>\n",
       "  <tbody>\n",
       "    <tr>\n",
       "      <th>data 09-37-27:v1</th>\n",
       "      <td>465</td>\n",
       "      <td>173</td>\n",
       "      <td>317</td>\n",
       "      <td>414</td>\n",
       "      <td>453</td>\n",
       "      <td>471</td>\n",
       "      <td>23.8</td>\n",
       "      <td>471</td>\n",
       "    </tr>\n",
       "    <tr>\n",
       "      <th>data 10-56-45:v1</th>\n",
       "      <td>456</td>\n",
       "      <td>164</td>\n",
       "      <td>305</td>\n",
       "      <td>403</td>\n",
       "      <td>448</td>\n",
       "      <td>454</td>\n",
       "      <td>23.6</td>\n",
       "      <td>456</td>\n",
       "    </tr>\n",
       "    <tr>\n",
       "      <th>data 12-14-48:v1</th>\n",
       "      <td>454</td>\n",
       "      <td>176</td>\n",
       "      <td>313</td>\n",
       "      <td>407</td>\n",
       "      <td>444</td>\n",
       "      <td>460</td>\n",
       "      <td>22.8</td>\n",
       "      <td>460</td>\n",
       "    </tr>\n",
       "    <tr>\n",
       "      <th>data Ciurana-jump-02-container-09-56-08:v1</th>\n",
       "      <td>495</td>\n",
       "      <td>183</td>\n",
       "      <td>326</td>\n",
       "      <td>430</td>\n",
       "      <td>478</td>\n",
       "      <td>498</td>\n",
       "      <td>24.2</td>\n",
       "      <td>498</td>\n",
       "    </tr>\n",
       "  </tbody>\n",
       "</table>\n",
       "</div>"
      ],
      "text/plain": [
       "                                            score  5.0  10.0  15.0  20.0  \\\n",
       "data 09-37-27:v1                              465  173   317   414   453   \n",
       "data 10-56-45:v1                              456  164   305   403   448   \n",
       "data 12-14-48:v1                              454  176   313   407   444   \n",
       "data Ciurana-jump-02-container-09-56-08:v1    495  183   326   430   478   \n",
       "\n",
       "                                            25.0  finalTime  maxSpeed  \n",
       "data 09-37-27:v1                             471       23.8       471  \n",
       "data 10-56-45:v1                             454       23.6       456  \n",
       "data 12-14-48:v1                             460       22.8       460  \n",
       "data Ciurana-jump-02-container-09-56-08:v1   498       24.2       498  "
      ]
     },
     "metadata": {},
     "output_type": "display_data"
    },
    {
     "data": {
      "text/html": [
       "<div>\n",
       "<style scoped>\n",
       "    .dataframe tbody tr th:only-of-type {\n",
       "        vertical-align: middle;\n",
       "    }\n",
       "\n",
       "    .dataframe tbody tr th {\n",
       "        vertical-align: top;\n",
       "    }\n",
       "\n",
       "    .dataframe thead th {\n",
       "        text-align: right;\n",
       "    }\n",
       "</style>\n",
       "<table border=\"1\" class=\"dataframe\">\n",
       "  <thead>\n",
       "    <tr style=\"text-align: right;\">\n",
       "      <th></th>\n",
       "      <th>totalSpeed</th>\n",
       "      <th>meanSpeed</th>\n",
       "      <th>maxScore</th>\n",
       "    </tr>\n",
       "  </thead>\n",
       "  <tbody>\n",
       "    <tr>\n",
       "      <th>totalSpeed</th>\n",
       "      <td>1870</td>\n",
       "      <td>467.5</td>\n",
       "      <td>495</td>\n",
       "    </tr>\n",
       "  </tbody>\n",
       "</table>\n",
       "</div>"
      ],
      "text/plain": [
       "            totalSpeed  meanSpeed  maxScore\n",
       "totalSpeed        1870      467.5       495"
      ]
     },
     "metadata": {},
     "output_type": "display_data"
    },
    {
     "data": {
      "text/html": [
       "\n",
       "  <div id=\"f4825cbf-1c32-4104-b5f7-41dbdb0c35e4\" data-root-id=\"p1935\" style=\"display: contents;\"></div>\n"
      ]
     },
     "metadata": {},
     "output_type": "display_data"
    },
    {
     "data": {
      "application/javascript": [
       "(function(root) {\n",
       "  function embed_document(root) {\n",
       "  const docs_json = {\"a863fc86-4a14-47eb-babc-2474b816f68b\":{\"version\":\"3.5.2\",\"title\":\"Bokeh Application\",\"roots\":[{\"type\":\"object\",\"name\":\"Figure\",\"id\":\"p1935\",\"attributes\":{\"width\":900,\"height\":500,\"x_range\":{\"type\":\"object\",\"name\":\"Range1d\",\"id\":\"p1945\",\"attributes\":{\"end\":35.0}},\"y_range\":{\"type\":\"object\",\"name\":\"Range1d\",\"id\":\"p1946\",\"attributes\":{\"end\":550.0}},\"x_scale\":{\"type\":\"object\",\"name\":\"LinearScale\",\"id\":\"p1947\"},\"y_scale\":{\"type\":\"object\",\"name\":\"LinearScale\",\"id\":\"p1948\"},\"title\":{\"type\":\"object\",\"name\":\"Title\",\"id\":\"p1938\",\"attributes\":{\"text\":\"All jumps in set\",\"text_color\":\"#E0E0E0\",\"text_font\":\"Helvetica\",\"text_font_size\":\"1.15em\"}},\"outline_line_color\":\"#E0E0E0\",\"outline_line_alpha\":0.25,\"renderers\":[{\"type\":\"object\",\"name\":\"GlyphRenderer\",\"id\":\"p2111\",\"attributes\":{\"data_source\":{\"type\":\"object\",\"name\":\"ColumnDataSource\",\"id\":\"p2105\",\"attributes\":{\"selected\":{\"type\":\"object\",\"name\":\"Selection\",\"id\":\"p2106\",\"attributes\":{\"indices\":[],\"line_indices\":[]}},\"selection_policy\":{\"type\":\"object\",\"name\":\"UnionRenderers\",\"id\":\"p2107\"},\"data\":{\"type\":\"map\",\"entries\":[[\"x\",{\"type\":\"ndarray\",\"array\":{\"type\":\"bytes\",\"data\":\"AAAAAAAAAACamZmZmZnJP5qZmZmZmdk/MzMzMzMz4z+amZmZmZnpPwAAAAAAAPA/MzMzMzMz8z9mZmZmZmb2P5qZmZmZmfk/zczMzMzM/D8AAAAAAAAAQJqZmZmZmQFAMzMzMzMzA0DNzMzMzMwEQGZmZmZmZgZAAAAAAAAACECamZmZmZkJQDMzMzMzMwtAzczMzMzMDEBmZmZmZmYOQAAAAAAAABBAzczMzMzMEECamZmZmZkRQGZmZmZmZhJAMzMzMzMzE0AAAAAAAAAUQM3MzMzMzBRAmpmZmZmZFUBmZmZmZmYWQDMzMzMzMxdAAAAAAAAAGEDNzMzMzMwYQJqZmZmZmRlAZmZmZmZmGkAzMzMzMzMbQAAAAAAAABxAzczMzMzMHECamZmZmZkdQGZmZmZmZh5AMzMzMzMzH0AAAAAAAAAgQGZmZmZmZiBAzczMzMzMIEAzMzMzMzMhQJqZmZmZmSFAAAAAAAAAIkBmZmZmZmYiQM3MzMzMzCJAMzMzMzMzI0CamZmZmZkjQAAAAAAAACRAZmZmZmZmJEDNzMzMzMwkQDMzMzMzMyVAmpmZmZmZJUAAAAAAAAAmQGZmZmZmZiZAzczMzMzMJkAzMzMzMzMnQJqZmZmZmSdAAAAAAAAAKEBmZmZmZmYoQM3MzMzMzChAMzMzMzMzKUCamZmZmZkpQAAAAAAAACpAZmZmZmZmKkDNzMzMzMwqQDMzMzMzMytAmpmZmZmZK0AAAAAAAAAsQGZmZmZmZixAzczMzMzMLEAzMzMzMzMtQJqZmZmZmS1AAAAAAAAALkBmZmZmZmYuQM3MzMzMzC5AMzMzMzMzL0CamZmZmZkvQAAAAAAAADBAMzMzMzMzMEBmZmZmZmYwQJqZmZmZmTBAzczMzMzMMEAAAAAAAAAxQDMzMzMzMzFAZmZmZmZmMUCamZmZmZkxQM3MzMzMzDFAAAAAAAAAMkAzMzMzMzMyQGZmZmZmZjJAmpmZmZmZMkDNzMzMzMwyQAAAAAAAADNAMzMzMzMzM0BmZmZmZmYzQJqZmZmZmTNAzczMzMzMM0AAAAAAAAA0QDMzMzMzMzRAZmZmZmZmNECamZmZmZk0QM3MzMzMzDRAAAAAAAAANUAzMzMzMzM1QGZmZmZmZjVAmpmZmZmZNUDNzMzMzMw1QAAAAAAAADZAMzMzMzMzNkBmZmZmZmY2QJqZmZmZmTZAzczMzMzMNkAAAAAAAAA3QDMzMzMzMzdAZmZmZmZmN0CamZmZmZk3QM3MzMzMzDdA\"},\"shape\":[120],\"dtype\":\"float64\",\"order\":\"little\"}],[\"y\",{\"type\":\"ndarray\",\"array\":{\"type\":\"bytes\",\"data\":\"8KfGSzeJJkDfT42XbhIyQJzEILByaDhA9ihcj8L1PkCIFtnO99NCQJHtfD81nkVA2c73U+NlSUDeJAaBlcNMQK9H4XoUrk9AtMh2vp+aUUDYo3A9CjdTQMl2vp8a71RA2/l+aryUVkDVeOkmMUhYQMuhRbbz/VlAI9v5fmp8W0B8FK5H4fpcQHE9CtejsF5ANl66SQwyYEC/nxov3QRhQGMQWDm0yGFA/Knx0k2SYkDNzMzMzDxjQFtkO99PDWRAHVpkO9+/ZECF61G4HqVlQARWDi2yfWZAwcqhRbYzZ0AaL90kBiFoQM/3U+Ol22hASgwCK4e2aUD0/dR46XZqQIgW2c73Q2tAObTIdr7/a0Dm0CLb+b5sQJVDi2zne21AMgisHFpEbkD2KFyPwvVuQJvEILByuG9AJzEIrBw6cED8qfHSTZpwQGmR7Xw/7XBAz/dT46VDcUBEi2zn+5FxQKJFtvP97HFAfT81XrpJckDn+6nx0p1yQF66SQwC63JASOF6FK4/c0BV46WbxIBzQEoMAiuHznNASgwCK4cWdEDFILByaGF0QMUgsHJoqXRAMQisHFr8dEAlBoGVQ0t1QBfZzvdTm3VAnMQgsHLgdUAxCKwcWhx2QDMzMzMzY3ZA2KNwPQqXdkBh5dAi29l2QOomMQisHHdA5/up8dJld0CF61G4Hp13QJHtfD813ndAqMZLN4kZeEAtsp3vp154QNijcD0Kj3hAlkOLbOezeEBV46WbxNh4QAaBlUOLBHlAmpmZmZlBeUAzMzMzM3t5QGq8dJMYpHlAeekmMQjkeUAfhetRuBZ6QGMQWDm0OHpAnMQgsHJgekDufD81Xnp6QFXjpZvEiHpAqvHSTWKgekBQjZduEtN6QJHtfD819npAUrgehesZe0Atsp3vpy57QJqZmZmZOXtAbxKDwMpRe0AX2c73U4N7QNNNYhBYqXtAKVyPwvXAe0AlBoGVQ8N7QIts5/up0XtAv58aL938e0CcxCCwchB8QNv5fmq8NHxA3iQGgZUzfECUGARWDl18QClcj8L1UHxASOF6FK4/fEArhxbZzk98QAaBlUOLZHxA+FPjpZtsfEB3vp8aL218QFg5tMh2fnxAx0s3iUGIfEC28/3UeJF8QBKDwMqhpXxAlBgEVg6lfEDb+X5qvMR8QLKd76fG23xAku18PzXufECUGARWDu18QOXQItv5Bn1AVg4tsp0PfUCClUOLbD99QHNoke18R31AMzMzMzNrfUBEi2zn+2F9QDIIrBxabH1A\"},\"shape\":[120],\"dtype\":\"float64\",\"order\":\"little\"}]]}}},\"view\":{\"type\":\"object\",\"name\":\"CDSView\",\"id\":\"p2112\",\"attributes\":{\"filter\":{\"type\":\"object\",\"name\":\"AllIndices\",\"id\":\"p2113\"}}},\"glyph\":{\"type\":\"object\",\"name\":\"Line\",\"id\":\"p2108\",\"attributes\":{\"x\":{\"type\":\"field\",\"field\":\"x\"},\"y\":{\"type\":\"field\",\"field\":\"y\"},\"line_color\":\"blue\",\"line_width\":2}},\"nonselection_glyph\":{\"type\":\"object\",\"name\":\"Line\",\"id\":\"p2109\",\"attributes\":{\"x\":{\"type\":\"field\",\"field\":\"x\"},\"y\":{\"type\":\"field\",\"field\":\"y\"},\"line_color\":\"blue\",\"line_alpha\":0.1,\"line_width\":2}},\"muted_glyph\":{\"type\":\"object\",\"name\":\"Line\",\"id\":\"p2110\",\"attributes\":{\"x\":{\"type\":\"field\",\"field\":\"x\"},\"y\":{\"type\":\"field\",\"field\":\"y\"},\"line_color\":\"blue\",\"line_alpha\":0.2,\"line_width\":2}}}},{\"type\":\"object\",\"name\":\"GlyphRenderer\",\"id\":\"p2255\",\"attributes\":{\"data_source\":{\"type\":\"object\",\"name\":\"ColumnDataSource\",\"id\":\"p2249\",\"attributes\":{\"selected\":{\"type\":\"object\",\"name\":\"Selection\",\"id\":\"p2250\",\"attributes\":{\"indices\":[],\"line_indices\":[]}},\"selection_policy\":{\"type\":\"object\",\"name\":\"UnionRenderers\",\"id\":\"p2251\"},\"data\":{\"type\":\"map\",\"entries\":[[\"x\",{\"type\":\"ndarray\",\"array\":{\"type\":\"bytes\",\"data\":\"AAAAAAAAAACamZmZmZnJP5qZmZmZmdk/MzMzMzMz4z+amZmZmZnpPwAAAAAAAPA/MzMzMzMz8z9mZmZmZmb2P5qZmZmZmfk/zczMzMzM/D8AAAAAAAAAQJqZmZmZmQFAMzMzMzMzA0DNzMzMzMwEQGZmZmZmZgZAAAAAAAAACECamZmZmZkJQDMzMzMzMwtAzczMzMzMDEBmZmZmZmYOQAAAAAAAABBAzczMzMzMEECamZmZmZkRQGZmZmZmZhJAMzMzMzMzE0AAAAAAAAAUQM3MzMzMzBRAmpmZmZmZFUBmZmZmZmYWQDMzMzMzMxdAAAAAAAAAGEDNzMzMzMwYQJqZmZmZmRlAZmZmZmZmGkAzMzMzMzMbQAAAAAAAABxAzczMzMzMHECamZmZmZkdQGZmZmZmZh5AMzMzMzMzH0AAAAAAAAAgQGZmZmZmZiBAzczMzMzMIEAzMzMzMzMhQJqZmZmZmSFAAAAAAAAAIkBmZmZmZmYiQM3MzMzMzCJAMzMzMzMzI0CamZmZmZkjQAAAAAAAACRAZmZmZmZmJEDNzMzMzMwkQDMzMzMzMyVAmpmZmZmZJUAAAAAAAAAmQGZmZmZmZiZAzczMzMzMJkAzMzMzMzMnQJqZmZmZmSdAAAAAAAAAKEBmZmZmZmYoQM3MzMzMzChAMzMzMzMzKUCamZmZmZkpQAAAAAAAACpAZmZmZmZmKkDNzMzMzMwqQDMzMzMzMytAmpmZmZmZK0AAAAAAAAAsQGZmZmZmZixAzczMzMzMLEAzMzMzMzMtQJqZmZmZmS1AAAAAAAAALkBmZmZmZmYuQM3MzMzMzC5AMzMzMzMzL0CamZmZmZkvQAAAAAAAADBAMzMzMzMzMEBmZmZmZmYwQJqZmZmZmTBAzczMzMzMMEAAAAAAAAAxQDMzMzMzMzFAZmZmZmZmMUCamZmZmZkxQM3MzMzMzDFAAAAAAAAAMkAzMzMzMzMyQGZmZmZmZjJAmpmZmZmZMkDNzMzMzMwyQAAAAAAAADNAMzMzMzMzM0BmZmZmZmYzQJqZmZmZmTNAzczMzMzMM0AAAAAAAAA0QDMzMzMzMzRAZmZmZmZmNECamZmZmZk0QM3MzMzMzDRAAAAAAAAANUAzMzMzMzM1QGZmZmZmZjVAmpmZmZmZNUDNzMzMzMw1QAAAAAAAADZAMzMzMzMzNkBmZmZmZmY2QJqZmZmZmTZAzczMzMzMNkAAAAAAAAA3QDMzMzMzMzdAZmZmZmZmN0CamZmZmZk3QA==\"},\"shape\":[119],\"dtype\":\"float64\",\"order\":\"little\"}],[\"y\",{\"type\":\"ndarray\",\"array\":{\"type\":\"bytes\",\"data\":\"+FPjpZvEGEDy0k1iEFgpQAwCK4cWWTVANl66SQwCPEBQjZduEkNBQMUgsHJo0UNAjpduEoPARkC0yHa+n5pKQESLbOf7qU1Ai2zn+6mRUEBMN4lBYGVSQKRwPQrX41NAs53vp8aLVUA/NV66SexWQGMQWDm0iFhAK4cW2c5XWkBnZmZmZuZbQCcxCKwcul1Ac2iR7Xw/X0AOLbKd70dgQNNNYhBY+WBAf2q8dJO4YUAhsHJokX1iQEoMAiuH9mJAhetRuB71Y0BzaJHtfI9kQNEi2/l+emVAfT81Xro5ZkAtsp3vp/ZmQKjGSzeJ0WdAUrgeheuRaEDsUbgehVtpQLtJDAIrB2pAeekmMQi8akA3iUFg5XBrQPT91HjpJmxAu0kMAivXbEBoke18P5VtQBWuR+F6VG5A0iLb+X4Kb0C7SQwCK6dvQEJg5dAiK3BAIbByaJGFcEAhsHJokc1wQPYoXI/CLXFA+n5qvHRzcUBeukkMAstxQNnO91PjFXJAyXa+nxpnckA2XrpJDLpyQJ3vp8ZLD3NAIbByaJFVc0CcxCCwcqBzQClcj8L14HNAK4cW2c4ndEAzMzMzM2t0QEJg5dAiq3RATDeJQWDtdEDJdr6fGjd1QEJg5dAig3VAwvUoXI/KdUDLoUW28w12QMUgsHJoWXZA0SLb+X6adkBnZmZmZtZ2QOomMQisHHdAfT81XrpZd0CgGi/dJI53QMHKoUW2w3dA4XoUrkf5d0B/arx0kzB4QJQYBFYObXhASgwCK4eWeEBt5/up8cp4QBKDwMqh/XhAv58aL90seUBSuB6F62l5QAIrhxbZlnlAs53vp8bDeUDy0k1iEOh5QClcj8L1EHpA3iQGgZU7ekBt5/up8Xp6QKabxCCwonpAexSuR+G6ekCamZmZmfF6QFyPwvUoFHtAxSCwcmghe0D0/dR46U57QML1KFyPantAi2zn+6mJe0BbZDvfT6V7QFXjpZvEqHtA+FPjpZvce0BYObTIdu57QGdmZmZm5ntACKwcWmTTe0AUrkfhesx7QPyp8dJN2ntA7FG4HoXje0Czne+nxgN8QJ3vp8ZLD3xAg8DKoUUefEBnZmZmZi58QEW28/3UQHxAIbByaJFVfED8qfHSTWp8QE5iEFg5hHxA30+Nl256fEBnZmZmZnZ8QPT91HjpbnxA/Knx0k1qfED4U+Olm2x8QARWDi2yZXxAmpmZmZlZfEDn+6nx0nV8QIgW2c73Y3xAl24Sg8BafEARWDm0yF58QA==\"},\"shape\":[119],\"dtype\":\"float64\",\"order\":\"little\"}]]}}},\"view\":{\"type\":\"object\",\"name\":\"CDSView\",\"id\":\"p2256\",\"attributes\":{\"filter\":{\"type\":\"object\",\"name\":\"AllIndices\",\"id\":\"p2257\"}}},\"glyph\":{\"type\":\"object\",\"name\":\"Line\",\"id\":\"p2252\",\"attributes\":{\"x\":{\"type\":\"field\",\"field\":\"x\"},\"y\":{\"type\":\"field\",\"field\":\"y\"},\"line_color\":\"tomato\",\"line_width\":2}},\"nonselection_glyph\":{\"type\":\"object\",\"name\":\"Line\",\"id\":\"p2253\",\"attributes\":{\"x\":{\"type\":\"field\",\"field\":\"x\"},\"y\":{\"type\":\"field\",\"field\":\"y\"},\"line_color\":\"tomato\",\"line_alpha\":0.1,\"line_width\":2}},\"muted_glyph\":{\"type\":\"object\",\"name\":\"Line\",\"id\":\"p2254\",\"attributes\":{\"x\":{\"type\":\"field\",\"field\":\"x\"},\"y\":{\"type\":\"field\",\"field\":\"y\"},\"line_color\":\"tomato\",\"line_alpha\":0.2,\"line_width\":2}}}},{\"type\":\"object\",\"name\":\"GlyphRenderer\",\"id\":\"p2398\",\"attributes\":{\"data_source\":{\"type\":\"object\",\"name\":\"ColumnDataSource\",\"id\":\"p2392\",\"attributes\":{\"selected\":{\"type\":\"object\",\"name\":\"Selection\",\"id\":\"p2393\",\"attributes\":{\"indices\":[],\"line_indices\":[]}},\"selection_policy\":{\"type\":\"object\",\"name\":\"UnionRenderers\",\"id\":\"p2394\"},\"data\":{\"type\":\"map\",\"entries\":[[\"x\",{\"type\":\"ndarray\",\"array\":{\"type\":\"bytes\",\"data\":\"AAAAAAAAAACamZmZmZnJP5qZmZmZmdk/MzMzMzMz4z+amZmZmZnpPwAAAAAAAPA/MzMzMzMz8z9mZmZmZmb2P5qZmZmZmfk/zczMzMzM/D8AAAAAAAAAQJqZmZmZmQFAMzMzMzMzA0DNzMzMzMwEQGZmZmZmZgZAAAAAAAAACECamZmZmZkJQDMzMzMzMwtAzczMzMzMDEBmZmZmZmYOQAAAAAAAABBAzczMzMzMEECamZmZmZkRQGZmZmZmZhJAMzMzMzMzE0AAAAAAAAAUQM3MzMzMzBRAmpmZmZmZFUBmZmZmZmYWQDMzMzMzMxdAAAAAAAAAGEDNzMzMzMwYQJqZmZmZmRlAZmZmZmZmGkAzMzMzMzMbQAAAAAAAABxAzczMzMzMHECamZmZmZkdQGZmZmZmZh5AMzMzMzMzH0AAAAAAAAAgQGZmZmZmZiBAzczMzMzMIEAzMzMzMzMhQJqZmZmZmSFAAAAAAAAAIkBmZmZmZmYiQM3MzMzMzCJAMzMzMzMzI0CamZmZmZkjQAAAAAAAACRAZmZmZmZmJEDNzMzMzMwkQDMzMzMzMyVAmpmZmZmZJUAAAAAAAAAmQGZmZmZmZiZAzczMzMzMJkAzMzMzMzMnQJqZmZmZmSdAAAAAAAAAKEBmZmZmZmYoQM3MzMzMzChAMzMzMzMzKUCamZmZmZkpQAAAAAAAACpAZmZmZmZmKkDNzMzMzMwqQDMzMzMzMytAmpmZmZmZK0AAAAAAAAAsQGZmZmZmZixAzczMzMzMLEAzMzMzMzMtQJqZmZmZmS1AAAAAAAAALkBmZmZmZmYuQM3MzMzMzC5AMzMzMzMzL0CamZmZmZkvQAAAAAAAADBAMzMzMzMzMEBmZmZmZmYwQJqZmZmZmTBAzczMzMzMMEAAAAAAAAAxQDMzMzMzMzFAZmZmZmZmMUCamZmZmZkxQM3MzMzMzDFAAAAAAAAAMkAzMzMzMzMyQGZmZmZmZjJAmpmZmZmZMkDNzMzMzMwyQAAAAAAAADNAMzMzMzMzM0BmZmZmZmYzQJqZmZmZmTNAzczMzMzMM0AAAAAAAAA0QDMzMzMzMzRAZmZmZmZmNECamZmZmZk0QM3MzMzMzDRAAAAAAAAANUAzMzMzMzM1QGZmZmZmZjVAmpmZmZmZNUDNzMzMzMw1QAAAAAAAADZAMzMzMzMzNkBmZmZmZmY2QJqZmZmZmTZAzczMzMzMNkA=\"},\"shape\":[115],\"dtype\":\"float64\",\"order\":\"little\"}],[\"y\",{\"type\":\"ndarray\",\"array\":{\"type\":\"bytes\",\"data\":\"u0kMAiuHHkDByqFFtvMtQD4K16NwPTVApHA9CtejOkAaL90kBkFAQB1aZDvfD0NAKVyPwvVoRkBFtvP91LhJQG3n+6nxkk1AsHJoke18UECPwvUoXM9SQEW28/3UGFRAJzEIrBzaVUBSuB6F63FXQAaBlUOLTFlA30+Nl24SW0DZzvdT48VcQL6fGi/dhF5AYxBYObQYYEDC9ShcjwJhQFXjpZvE0GFA7FG4HoWbYkBQjZduEoNjQOxRuB6FS2RAbef7qfEiZUD4U+Olm/RlQJZDi2znu2ZAKVyPwvWIZ0DP91PjpUtoQGQ730+NF2lAHVpkO9/PaUDJdr6fGo9qQG8Sg8DKUWtAObTIdr7/a0AGgZVDi6xsQKwcWmQ7b21AbhKDwMohbkAj2/l+atxuQOomMQisjG9Aarx0kxgUcEBKDAIrh25wQK5H4XoUxnBAlBgEVg4dcUAL16NwPWpxQCUGgZVDo3FAiUFg5dD6cUDqJjEIrFRyQNijcD0Kp3JASgwCK4f2ckBEi2zn+0FzQMHKoUW2i3NAuR6F61HYc0C8dJMYBB50QESLbOf7YXRAYxBYObSYdEBt5/up8dp0QPyp8dJNGnVA9P3UeOlmdUD4U+Olm6x1QI/C9Shc53VAqvHSTWIgdkDHSzeJQVh2QOf7qfHSjXZA7nw/NV7SdkCLbOf7qQl3QKRwPQrXQ3dAPzVeukl8d0A+CtejcMV3QFK4HoXrAXhAXrpJDAJDeEDy0k1iEIB4QJqZmZmZsXhAMN0kBoHteEB1kxgEVg55QAaBlUOLTHlAObTIdr53eUDYo3A9Cq95QJHtfD811nlA0SLb+X76eUCgGi/dJBZ6QM3MzMzMRHpAke18PzVmekBbZDvfT4V6QCcxCKwconpADAIrhxaxekDn+6nx0sV6QBKDwMqhrXpAdZMYBFa+ekBI4XoUrtd6QE5iEFg51HpA0SLb+X7SekAX2c73U/N6QHe+nxovBXtAxSCwcmghe0AxCKwcWix7QHsUrkfhSntAwcqhRbZre0ArhxbZznd7QGq8dJMYnHtAXI/C9Sike0Aj2/l+asR7QH0/NV662XtAUI2XbhLze0Coxks3iQl8QAisHFpkG3xA7nw/NV4qfEDVeOkmMTh8QLOd76fGS3xA7FG4HoVzfEBbZDvfT318QEoMAiuHhnxAppvEILCafEB/arx0k7B8QPCnxks3uXxAXrpJDALDfEA=\"},\"shape\":[115],\"dtype\":\"float64\",\"order\":\"little\"}]]}}},\"view\":{\"type\":\"object\",\"name\":\"CDSView\",\"id\":\"p2399\",\"attributes\":{\"filter\":{\"type\":\"object\",\"name\":\"AllIndices\",\"id\":\"p2400\"}}},\"glyph\":{\"type\":\"object\",\"name\":\"Line\",\"id\":\"p2395\",\"attributes\":{\"x\":{\"type\":\"field\",\"field\":\"x\"},\"y\":{\"type\":\"field\",\"field\":\"y\"},\"line_color\":\"turquoise\",\"line_width\":2}},\"nonselection_glyph\":{\"type\":\"object\",\"name\":\"Line\",\"id\":\"p2396\",\"attributes\":{\"x\":{\"type\":\"field\",\"field\":\"x\"},\"y\":{\"type\":\"field\",\"field\":\"y\"},\"line_color\":\"turquoise\",\"line_alpha\":0.1,\"line_width\":2}},\"muted_glyph\":{\"type\":\"object\",\"name\":\"Line\",\"id\":\"p2397\",\"attributes\":{\"x\":{\"type\":\"field\",\"field\":\"x\"},\"y\":{\"type\":\"field\",\"field\":\"y\"},\"line_color\":\"turquoise\",\"line_alpha\":0.2,\"line_width\":2}}}}],\"toolbar\":{\"type\":\"object\",\"name\":\"Toolbar\",\"id\":\"p1944\",\"attributes\":{\"tools\":[{\"type\":\"object\",\"name\":\"PanTool\",\"id\":\"p1959\"},{\"type\":\"object\",\"name\":\"WheelZoomTool\",\"id\":\"p1960\",\"attributes\":{\"renderers\":\"auto\"}},{\"type\":\"object\",\"name\":\"BoxZoomTool\",\"id\":\"p1961\",\"attributes\":{\"overlay\":{\"type\":\"object\",\"name\":\"BoxAnnotation\",\"id\":\"p1962\",\"attributes\":{\"syncable\":false,\"line_color\":\"black\",\"line_alpha\":1.0,\"line_width\":2,\"line_dash\":[4,4],\"fill_color\":\"lightgrey\",\"fill_alpha\":0.5,\"level\":\"overlay\",\"visible\":false,\"left\":{\"type\":\"number\",\"value\":\"nan\"},\"right\":{\"type\":\"number\",\"value\":\"nan\"},\"top\":{\"type\":\"number\",\"value\":\"nan\"},\"bottom\":{\"type\":\"number\",\"value\":\"nan\"},\"left_units\":\"canvas\",\"right_units\":\"canvas\",\"top_units\":\"canvas\",\"bottom_units\":\"canvas\",\"handles\":{\"type\":\"object\",\"name\":\"BoxInteractionHandles\",\"id\":\"p1968\",\"attributes\":{\"all\":{\"type\":\"object\",\"name\":\"AreaVisuals\",\"id\":\"p1967\",\"attributes\":{\"fill_color\":\"white\",\"hover_fill_color\":\"lightgray\"}}}}}}}},{\"type\":\"object\",\"name\":\"SaveTool\",\"id\":\"p1969\"},{\"type\":\"object\",\"name\":\"ResetTool\",\"id\":\"p1970\"},{\"type\":\"object\",\"name\":\"HelpTool\",\"id\":\"p1971\"}]}},\"left\":[{\"type\":\"object\",\"name\":\"LinearAxis\",\"id\":\"p1954\",\"attributes\":{\"ticker\":{\"type\":\"object\",\"name\":\"BasicTicker\",\"id\":\"p1955\",\"attributes\":{\"mantissas\":[1,2,5]}},\"formatter\":{\"type\":\"object\",\"name\":\"BasicTickFormatter\",\"id\":\"p1956\"},\"axis_label\":\"km/h\",\"axis_label_standoff\":10,\"axis_label_text_color\":\"#E0E0E0\",\"axis_label_text_font\":\"Helvetica\",\"axis_label_text_font_size\":\"1.25em\",\"axis_label_text_font_style\":\"normal\",\"major_label_policy\":{\"type\":\"object\",\"name\":\"AllLabels\",\"id\":\"p1957\"},\"major_label_text_color\":\"#E0E0E0\",\"major_label_text_font\":\"Helvetica\",\"major_label_text_font_size\":\"1.025em\",\"axis_line_color\":\"#E0E0E0\",\"axis_line_alpha\":0,\"major_tick_line_color\":\"#E0E0E0\",\"major_tick_line_alpha\":0,\"minor_tick_line_color\":\"#E0E0E0\",\"minor_tick_line_alpha\":0}}],\"below\":[{\"type\":\"object\",\"name\":\"LinearAxis\",\"id\":\"p1949\",\"attributes\":{\"ticker\":{\"type\":\"object\",\"name\":\"BasicTicker\",\"id\":\"p1950\",\"attributes\":{\"mantissas\":[1,2,5]}},\"formatter\":{\"type\":\"object\",\"name\":\"BasicTickFormatter\",\"id\":\"p1951\"},\"axis_label\":\"seconds from exit\",\"axis_label_standoff\":10,\"axis_label_text_color\":\"#E0E0E0\",\"axis_label_text_font\":\"Helvetica\",\"axis_label_text_font_size\":\"1.25em\",\"axis_label_text_font_style\":\"normal\",\"major_label_policy\":{\"type\":\"object\",\"name\":\"AllLabels\",\"id\":\"p1952\"},\"major_label_text_color\":\"#E0E0E0\",\"major_label_text_font\":\"Helvetica\",\"major_label_text_font_size\":\"1.025em\",\"axis_line_color\":\"#E0E0E0\",\"axis_line_alpha\":0,\"major_tick_line_color\":\"#E0E0E0\",\"major_tick_line_alpha\":0,\"minor_tick_line_color\":\"#E0E0E0\",\"minor_tick_line_alpha\":0}}],\"center\":[{\"type\":\"object\",\"name\":\"Grid\",\"id\":\"p1953\",\"attributes\":{\"axis\":{\"id\":\"p1949\"},\"grid_line_color\":\"#E0E0E0\",\"grid_line_alpha\":0.25}},{\"type\":\"object\",\"name\":\"Grid\",\"id\":\"p1958\",\"attributes\":{\"dimension\":1,\"axis\":{\"id\":\"p1954\"},\"grid_line_color\":\"#E0E0E0\",\"grid_line_alpha\":0.25}},{\"type\":\"object\",\"name\":\"Legend\",\"id\":\"p2114\",\"attributes\":{\"border_line_alpha\":0,\"background_fill_color\":\"#20262B\",\"background_fill_alpha\":0.25,\"label_text_color\":\"#E0E0E0\",\"label_text_font\":\"Helvetica\",\"label_text_font_size\":\"1.025em\",\"label_standoff\":8,\"glyph_width\":15,\"spacing\":8,\"items\":[{\"type\":\"object\",\"name\":\"LegendItem\",\"id\":\"p2115\",\"attributes\":{\"label\":{\"type\":\"value\",\"value\":\"data 09-37-27:v1 - 464.85\"},\"renderers\":[{\"id\":\"p2111\"}]}},{\"type\":\"object\",\"name\":\"LegendItem\",\"id\":\"p2258\",\"attributes\":{\"label\":{\"type\":\"value\",\"value\":\"data 10-56-45:v1 - 455.84\"},\"renderers\":[{\"id\":\"p2255\"}]}},{\"type\":\"object\",\"name\":\"LegendItem\",\"id\":\"p2401\",\"attributes\":{\"label\":{\"type\":\"value\",\"value\":\"data 12-14-48:v1 - 454.19\"},\"renderers\":[{\"id\":\"p2398\"}]}}]}}],\"background_fill_color\":\"#20262B\",\"border_fill_color\":\"#15191C\"}}]}};\n",
       "  const render_items = [{\"docid\":\"a863fc86-4a14-47eb-babc-2474b816f68b\",\"roots\":{\"p1935\":\"f4825cbf-1c32-4104-b5f7-41dbdb0c35e4\"},\"root_ids\":[\"p1935\"]}];\n",
       "  void root.Bokeh.embed.embed_items_notebook(docs_json, render_items);\n",
       "  }\n",
       "  if (root.Bokeh !== undefined) {\n",
       "    embed_document(root);\n",
       "  } else {\n",
       "    let attempts = 0;\n",
       "    const timer = setInterval(function(root) {\n",
       "      if (root.Bokeh !== undefined) {\n",
       "        clearInterval(timer);\n",
       "        embed_document(root);\n",
       "      } else {\n",
       "        attempts++;\n",
       "        if (attempts > 100) {\n",
       "          clearInterval(timer);\n",
       "          console.log(\"Bokeh: ERROR: Unable to run BokehJS code because BokehJS library is missing\");\n",
       "        }\n",
       "      }\n",
       "    }, 10, root)\n",
       "  }\n",
       "})(window);"
      ],
      "application/vnd.bokehjs_exec.v0+json": ""
     },
     "metadata": {
      "application/vnd.bokehjs_exec.v0+json": {
       "id": "p1935"
      }
     },
     "output_type": "display_data"
    }
   ],
   "source": [
    "sumResults = totalResultsFrom(aggregate)\n",
    "display(roundedResults)\n",
    "display(sumResults)\n",
    "bp.show(allJumpsPlot)"
   ]
  },
  {
   "cell_type": "code",
   "execution_count": null,
   "id": "48529e54-b84c-4f2b-9662-e4ace701a528",
   "metadata": {},
   "outputs": [],
   "source": []
  }
 ],
 "metadata": {
  "kernelspec": {
   "display_name": "Python 3 (ipykernel)",
   "language": "python",
   "name": "python3"
  },
  "language_info": {
   "codemirror_mode": {
    "name": "ipython",
    "version": 3
   },
   "file_extension": ".py",
   "mimetype": "text/x-python",
   "name": "python",
   "nbconvert_exporter": "python",
   "pygments_lexer": "ipython3",
   "version": "3.11.10"
  }
 },
 "nbformat": 4,
 "nbformat_minor": 5
}
