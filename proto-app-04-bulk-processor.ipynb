{
 "cells": [
  {
   "cell_type": "markdown",
   "id": "12683b83-af00-4386-9d59-569068e265fb",
   "metadata": {},
   "source": [
    "# Bulk processor and improved FlySight file and jump validation\n",
    "\n",
    "Uses `./data` as a data lake."
   ]
  },
  {
   "cell_type": "code",
   "execution_count": null,
   "id": "2768c7af-c522-441c-86f6-459ca4bb59f2",
   "metadata": {},
   "outputs": [],
   "source": [
    "%%capture\n",
    "!x=$(pip list | awk '/haversine/') ; [[ -z \"$x\" ]] && make local"
   ]
  },
  {
   "cell_type": "code",
   "execution_count": null,
   "id": "a3717f50-94a0-4023-9c31-a2ba3d2da3c4",
   "metadata": {},
   "outputs": [],
   "source": [
    "from pathlib import Path\n",
    "\n",
    "import warnings\n",
    "\n",
    "import ipywidgets as widgets\n",
    "import pandas as pd"
   ]
  },
  {
   "cell_type": "code",
   "execution_count": null,
   "id": "22dfda53-510e-4a71-a992-6619f3bdbb14",
   "metadata": {},
   "outputs": [],
   "source": [
    "from ssscoring.calc import convertFlySight2SSScoring\n",
    "from ssscoring.calc import getFlySightDataFromCSV\n",
    "from ssscoring.calc import processAllJumpFiles\n",
    "from ssscoring.calc import processJump\n",
    "from ssscoring.datatypes import JumpStatus\n",
    "from ssscoring.constants import FT_IN_M\n",
    "from ssscoring.flysight import getAllSpeedJumpFilesFrom"
   ]
  },
  {
   "cell_type": "markdown",
   "id": "2cecfa30-de7d-4da9-b3b0-4377d77781a4",
   "metadata": {},
   "source": [
    "---\n",
    "## Set DZ altitude MSL\n",
    "\n",
    "Set the value in ft."
   ]
  },
  {
   "cell_type": "code",
   "execution_count": null,
   "id": "d6945e5d-b64b-408d-b3f3-31e0e9f76374",
   "metadata": {
    "jupyter": {
     "source_hidden": true
    }
   },
   "outputs": [],
   "source": [
    "dropZones = {\n",
    "    'Drop zone': [\n",
    "        'Bay Area Skydiving',\n",
    "        'Drop Zone Thailand',\n",
    "        'Paraclete XP',\n",
    "        'SkyDance SkyDiving',\n",
    "        'Skydive Arizona',\n",
    "        'Skydive Chicago',\n",
    "        'Thai Sky Adventures',\n",
    "    ],\n",
    "    'Alt (ft)': [\n",
    "        23.0,\n",
    "        15.0,\n",
    "        304.0,\n",
    "        100.0,\n",
    "        1509.0,\n",
    "        616.0,\n",
    "        21.0,\n",
    "    ],\n",
    "}\n",
    "\n",
    "pd.DataFrame(dropZones, columns=[ 'Drop zone', 'Alt (ft)', ])"
   ]
  },
  {
   "cell_type": "code",
   "execution_count": null,
   "id": "d947199b-00fb-4e8d-9960-40810fd1b049",
   "metadata": {},
   "outputs": [],
   "source": [
    "dropZoneAltMSL = 15.0\n",
    "ignoreBaseline = True"
   ]
  },
  {
   "cell_type": "code",
   "execution_count": null,
   "id": "d78869b7-23ae-456e-bc86-53e5278cde94",
   "metadata": {
    "jupyter": {
     "source_hidden": true
    }
   },
   "outputs": [],
   "source": [
    "dropZoneAltMSLMeters = dropZoneAltMSL/FT_IN_M\n",
    "display(widgets.HTML('<h2>DZ Altitude = <span style = \"color: green\">%7.2f ft</span> (%7.2f m)<h1>' % (dropZoneAltMSL, dropZoneAltMSLMeters)))"
   ]
  },
  {
   "cell_type": "code",
   "execution_count": null,
   "id": "d1db80cc-9b99-44d8-b333-b61a5c8fd5ce",
   "metadata": {},
   "outputs": [],
   "source": [
    "jumpFiles = getAllSpeedJumpFilesFrom(Path('./data'))"
   ]
  },
  {
   "cell_type": "markdown",
   "id": "760b292f-f45f-4d0f-bb86-74f0f6dc30d8",
   "metadata": {},
   "source": [
    "---\n",
    "## Process and detect non-jump file\n",
    "\n",
    "The first file in the list for this test is a warm up file.  Detect and ignore it."
   ]
  },
  {
   "cell_type": "code",
   "execution_count": null,
   "id": "d476e433-5c61-47b0-b1a1-f92435351594",
   "metadata": {},
   "outputs": [],
   "source": [
    "filePath = list(jumpFiles.keys())[0]\n",
    "rawData, tag = getFlySightDataFromCSV(filePath)\n",
    "data = convertFlySight2SSScoring(rawData, altitudeDZMeters=dropZoneAltMSLMeters)\n",
    "jumpResults = processJump(data)\n",
    "if jumpResults.status == JumpStatus.WARM_UP_FILE:\n",
    "    display(widgets.HTML('<h3>%s - warm up file' % filePath.as_posix()))"
   ]
  },
  {
   "cell_type": "markdown",
   "id": "aee48243-0cdf-47b2-8f6b-bfa5fe655eb7",
   "metadata": {},
   "source": [
    "---\n",
    "## Process jump file\n"
   ]
  },
  {
   "cell_type": "code",
   "execution_count": null,
   "id": "b09021e1-aa25-4edc-945c-57883c8240d9",
   "metadata": {},
   "outputs": [],
   "source": [
    "warnings.filterwarnings('ignore', category=UserWarning) # FNV, conda issue\n",
    "jumpFilesList = list(jumpFiles.keys())\n",
    "if (len(jumpFilesList) > 1):\n",
    "    filePath = jumpFilesList[1]\n",
    "    rawData, tag = getFlySightDataFromCSV(filePath)\n",
    "    data = convertFlySight2SSScoring(rawData, altitudeDZMeters=dropZoneAltMSLMeters)\n",
    "    jumpResult = processJump(data)\n",
    "    if jumpResult.status == JumpStatus.OK:\n",
    "        display(jumpResult.table)\n",
    "        display(jumpResult.window)"
   ]
  },
  {
   "cell_type": "markdown",
   "id": "032f588b-c2a0-4545-a679-e94df877d71f",
   "metadata": {},
   "source": [
    "---\n",
    "## All files"
   ]
  },
  {
   "cell_type": "code",
   "execution_count": null,
   "id": "9be65f7e-e8e3-48bd-b445-2510ae605920",
   "metadata": {},
   "outputs": [],
   "source": [
    "warnings.filterwarnings('ignore', category=UserWarning) # FNV, conda issue\n",
    "\n",
    "jumpResults = processAllJumpFiles(jumpFiles=jumpFiles, altitudeDZMeters=dropZoneAltMSLMeters)"
   ]
  },
  {
   "cell_type": "code",
   "execution_count": null,
   "id": "8960c4e4-03c3-42ec-9844-1644539b9aa5",
   "metadata": {},
   "outputs": [],
   "source": []
  }
 ],
 "metadata": {
  "kernelspec": {
   "display_name": "Python 3 (ipykernel)",
   "language": "python",
   "name": "python3"
  },
  "language_info": {
   "codemirror_mode": {
    "name": "ipython",
    "version": 3
   },
   "file_extension": ".py",
   "mimetype": "text/x-python",
   "name": "python",
   "nbconvert_exporter": "python",
   "pygments_lexer": "ipython3",
   "version": "3.11.10"
  }
 },
 "nbformat": 4,
 "nbformat_minor": 5
}
