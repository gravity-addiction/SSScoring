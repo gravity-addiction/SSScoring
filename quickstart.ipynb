{
 "cells": [
  {
   "cell_type": "markdown",
   "id": "54120e63-b53a-4cd5-86ae-e09a70002509",
   "metadata": {},
   "source": [
    "# SSScoring interactive quickstart\n",
    "\n",
    "SSScoring provides analsysis tools for individual or bulk processing of FlySight GPS competition data gathered during speed skydiving training and competition.  Scoring methodology adheres to International Skydiving Commission (ISC), International Speed Skydiving Association (ISSA), and United States Parachute Association (USPA) published competition and scoring rules.  SSScoring libraries and tools also operate with track data files produced by these devices:\n",
    "\n",
    "- FlySight 1\n",
    "- FlySight 2\n",
    "- SkyTrax GPS and barometric device\n",
    "\n",
    "SSScoring leverages data manipulation tools in the pandas and NumPy data analysis libraries.  All the SSScoring code is written in pure Python, but the implementation leverages libraries that may require native code for GPU and AI chipset support like Nvidia and M-chipsets.\n"
   ]
  },
  {
   "cell_type": "markdown",
   "id": "e9feac21-6c23-4fb2-acb8-376cf462b609",
   "metadata": {},
   "source": [
    "---\n",
    "## Requirements\n",
    "\n",
    "- A data lake containing track data files\n",
    "- Some prior Python programming to make changes to this live document or to write new implementations\n",
    "- Knowledge of pandas and NumPy is a nice-to-have, but not a show-stopper\n",
    "\n",
    "To start let's create a data lake and copy one or more of these:\n",
    "\n",
    "- FlySight version 1 files in the form `HH-mm-ss.CSV`\n",
    "- FlySight version 2 data container in the form `YY-MM-dd/HH-mm-ss/*CSV`\n",
    "\n",
    "The `./quickstart` directory will be our data lake.  It could contain zero files or everything on a whole disk.\n",
    "\n",
    "Check if this prerequisite is fulfilled:"
   ]
  },
  {
   "cell_type": "code",
   "execution_count": null,
   "id": "ec6d0d22-4b6f-4c80-9bca-da804a3419cb",
   "metadata": {},
   "outputs": [],
   "source": [
    "!mkdir -p \"./quickstart-example\" && if [[ -d \"./quickstart-example\" ]]; then ls -Al \"./quickstart-example\"; fi"
   ]
  },
  {
   "cell_type": "markdown",
   "id": "a7a4923f-a4fe-4691-9cb8-7f4187cf7030",
   "metadata": {},
   "source": [
    "It doesn't matter where the data lake is located.  It could be on the local device, the FlySight device itself (though reading files from it is cumbersome and super slow), a cloud drive, Amazon S3, anywhere that the system is accessible.  The quickstart data lake already contains a mix of FlySight 1 and 2 files.  Feel free to replace them with your own files."
   ]
  },
  {
   "cell_type": "markdown",
   "id": "eefae148-5271-4052-9090-3958c2ef1637",
   "metadata": {},
   "source": [
    "---\n",
    "## Use case:  scoring all the jumps of a competition in 12 lines of code or less\n",
    "\n",
    "As a speed skydiving judge, I have a directory containing a competitor's FlySight files.  I want to get the score for each jump, the aggregate score, the mean speed, and the maximum speed.  It was a short competition consisting of only 3 jumps."
   ]
  },
  {
   "cell_type": "markdown",
   "id": "4347df4c-b3c4-48bc-934e-c2c2a4831115",
   "metadata": {},
   "source": [
    "### Imports constants, and getting all tracks\n",
    "\n",
    "The previous command shows that our data lake contains files of various types, including CSVs.  SSScoring can scan a directory and its subdirectories and returns a list of all valid speed skydiving files."
   ]
  },
  {
   "cell_type": "code",
   "execution_count": null,
   "id": "7abb6718-6f66-46ee-b7f0-36168437f6a5",
   "metadata": {},
   "outputs": [],
   "source": [
    "from ssscoring.flysight import getAllSpeedJumpFilesFrom\n",
    "\n",
    "import pathlib\n",
    "\n",
    "DATA_LAKE = pathlib.Path('quickstart-example/')\n",
    "\n",
    "allFiles = getAllSpeedJumpFilesFrom(DATA_LAKE)\n",
    "\n",
    "print('\\n'.join((f.as_posix() for f in allFiles.keys())))"
   ]
  },
  {
   "cell_type": "markdown",
   "id": "48e6f8f9-55d7-49d6-bf8f-bd1f7d8b882c",
   "metadata": {},
   "source": [
    "`allFiles` is an ordered dictionary in which each entry has these attributes set:\n",
    "\n",
    "- a `libpath.Path` object associated with the track file\n",
    "- a FlySight version tag set to 1 or 2"
   ]
  },
  {
   "cell_type": "code",
   "execution_count": null,
   "id": "d5f763b9-5430-40ed-9bd5-1d03615d957a",
   "metadata": {},
   "outputs": [],
   "source": [
    "display(allFiles)"
   ]
  },
  {
   "cell_type": "markdown",
   "id": "3642b041-8d95-4c29-aa5f-8ba1aa17ee34",
   "metadata": {},
   "source": [
    "`allFiles` includes what looks like a valid FlySight file - the one with the lower case `.csv` extension.  Compatible third-party devices like SkyTrax have a different output format and use a lower case file extension.  That's okay.  SSScoring will process their output as long as the track has the correct data headers and the file extension is CSV or csv."
   ]
  },
  {
   "cell_type": "markdown",
   "id": "bb285367-d3e0-4bcb-ac09-ed72861f1075",
   "metadata": {},
   "source": [
    "### Get all the results\n",
    "\n",
    "This is super easy--barely an inconvenience.  SSScoring sets AGL == MSL if the caller omits the optional `altitudeDZMeters` argument:"
   ]
  },
  {
   "cell_type": "code",
   "execution_count": null,
   "id": "0066bbe3-5b09-4be6-b92e-5fd1936dd3d7",
   "metadata": {},
   "outputs": [],
   "source": [
    "from ssscoring.calc import processAllJumpFiles\n",
    "\n",
    "jumpResults = processAllJumpFiles(allFiles, altitudeDZMeters = 616)"
   ]
  },
  {
   "cell_type": "markdown",
   "id": "596d6568-f016-4465-9518-e30c4c49fa84",
   "metadata": {},
   "source": [
    "The results are stored in a dictionary that uses a tagged track name as the key, and a **<a href='https://pr3d4t0r.github.io/SSScoring/ssscoring/datatypes.html#JumpResults' target='_blank'>JumpResult object</a>**:\n",
    "\n",
    "Results keys:"
   ]
  },
  {
   "cell_type": "code",
   "execution_count": null,
   "id": "5c188e22-8574-458d-8243-186414c78767",
   "metadata": {},
   "outputs": [],
   "source": [
    "print('\\n'.join((r for r in jumpResults.keys())))"
   ]
  },
  {
   "cell_type": "markdown",
   "id": "c011ea5a-7610-440a-b644-d698108473ef",
   "metadata": {},
   "source": [
    "Viewing a specific result can be overwhelming.  This use case is about reporting the results of the competition with as little fuss and as fast as possible:"
   ]
  },
  {
   "cell_type": "code",
   "execution_count": null,
   "id": "807afe24-a233-4cc0-82ad-84ca1e084527",
   "metadata": {},
   "outputs": [],
   "source": [
    "from ssscoring.calc import aggregateResults\n",
    "from ssscoring.calc import roundedAggregateResults\n",
    "\n",
    "summary = aggregateResults(jumpResults)\n",
    "summary"
   ]
  },
  {
   "cell_type": "markdown",
   "id": "3c170bf6-0058-488c-80dc-05b007986c03",
   "metadata": {},
   "source": [
    "Results can also be rounded, for convenience:"
   ]
  },
  {
   "cell_type": "code",
   "execution_count": null,
   "id": "a15dcc67-2eb7-45e9-a3b9-6280cd9a9d2d",
   "metadata": {},
   "outputs": [],
   "source": [
    "roundedAggregateResults(summary)"
   ]
  },
  {
   "cell_type": "markdown",
   "id": "0d467993-9aac-40ab-ac40-0fb1a8604647",
   "metadata": {},
   "source": [
    "And of course, we can resolve final results from the summary table:"
   ]
  },
  {
   "cell_type": "code",
   "execution_count": null,
   "id": "7e8ded5d-58e5-4e9e-9230-b3ece625aeec",
   "metadata": {},
   "outputs": [],
   "source": [
    "print('Total score = %5.2f, mean speed = %5.2f' % (summary.score.sum(), summary.score.mean()))"
   ]
  },
  {
   "cell_type": "markdown",
   "id": "9c4775d6-6113-4fa0-90fc-efe6a44494d7",
   "metadata": {},
   "source": [
    "### Putting it all together\n",
    "\n",
    "There was a lot of information to unpack for this use case because the software is doing a lot of work.  In everyday use, however, usage is quite simple.  A complete scoring system can be developed in 10 lines of code:"
   ]
  },
  {
   "cell_type": "code",
   "execution_count": null,
   "id": "b585d91b-646a-4682-99a0-9073de077fa9",
   "metadata": {},
   "outputs": [],
   "source": [
    "from ssscoring.calc import aggregateResults\n",
    "from ssscoring.calc import processAllJumpFiles\n",
    "from ssscoring.calc import roundedAggregateResults\n",
    "from ssscoring.flysight import getAllSpeedJumpFilesFrom\n",
    "\n",
    "import pathlib\n",
    "\n",
    "DATA_LAKE = pathlib.Path('quickstart-example/')\n",
    "allFiles = getAllSpeedJumpFilesFrom(DATA_LAKE)\n",
    "jumpResults = processAllJumpFiles(allFiles, altitudeDZMeters = 616)\n",
    "display(aggregateResults(jumpResults))\n",
    "print('Total score = %5.2f, mean speed = %5.2f' % (summary.score.sum(), summary.score.mean()))"
   ]
  },
  {
   "cell_type": "markdown",
   "id": "89bd99bd-b12c-4b04-b570-4685e4ff01f8",
   "metadata": {},
   "source": [
    "If we wanted to get technical the whole implementation can be done in fewer than 5 lines of code.  The import statements do nothing other than make the functions available for processing.  Actual coding starts with the data lake definition."
   ]
  },
  {
   "cell_type": "markdown",
   "id": "13c0f720-4993-4a37-9fc1-b271bbcb10cf",
   "metadata": {},
   "source": [
    "---\n",
    "## Use case:  analyzing and scoring a single jump"
   ]
  },
  {
   "cell_type": "code",
   "execution_count": null,
   "id": "ea3e7bff-b91e-4abc-970b-61922f4a5b0b",
   "metadata": {},
   "outputs": [],
   "source": []
  }
 ],
 "metadata": {
  "kernelspec": {
   "display_name": "Python 3 (ipykernel)",
   "language": "python",
   "name": "python3"
  },
  "language_info": {
   "codemirror_mode": {
    "name": "ipython",
    "version": 3
   },
   "file_extension": ".py",
   "mimetype": "text/x-python",
   "name": "python",
   "nbconvert_exporter": "python",
   "pygments_lexer": "ipython3",
   "version": "3.11.10"
  }
 },
 "nbformat": 4,
 "nbformat_minor": 5
}
