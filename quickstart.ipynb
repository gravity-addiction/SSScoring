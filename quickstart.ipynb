{
 "cells": [
  {
   "cell_type": "markdown",
   "id": "54120e63-b53a-4cd5-86ae-e09a70002509",
   "metadata": {},
   "source": [
    "# SSScoring interactive quickstart\n",
    "\n",
    "SSScoring provides analsysis tools for individual or bulk processing of FlySight GPS competition data gathered during speed skydiving training and competition.  Scoring methodology adheres to International Skydiving Commission (ISC), International Speed Skydiving Association (ISSA), and United States Parachute Association (USPA) published competition and scoring rules.  SSScoring libraries and tools also operate with track data files produced by these devices:\n",
    "\n",
    "- FlySight 1\n",
    "- FlySight 2\n",
    "- SkyTrax GPS and barometric device\n",
    "\n",
    "SSScoring leverages data manipulation tools in the pandas and NumPy data analysis libraries.  All the SSScoring code is written in pure Python, but the implementation leverages libraries that may require native code for GPU and AI chipset support like Nvidia and M-chipsets.\n"
   ]
  },
  {
   "cell_type": "markdown",
   "id": "e9feac21-6c23-4fb2-acb8-376cf462b609",
   "metadata": {},
   "source": [
    "---\n",
    "## Requirements\n",
    "\n",
    "- A data lake containing track data files\n",
    "- Some prior Python programming to make changes to this live document or to write new implementations\n",
    "- Knowledge of pandas and NumPy is a nice-to-have, but not a show-stopper\n",
    "\n",
    "To start let's create a data lake and copy one or more of these:\n",
    "\n",
    "- FlySight version 1 files in the form `HH-mm-ss.CSV`\n",
    "- FlySight version 2 data container in the form `YY-MM-dd/HH-mm-ss/*CSV`\n",
    "\n",
    "The `./quickstart` directory will be our data lake.  It could contain zero files or everything on a whole disk.\n",
    "\n",
    "Check if this prerequisite is fulfilled:"
   ]
  },
  {
   "cell_type": "code",
   "execution_count": null,
   "id": "ec6d0d22-4b6f-4c80-9bca-da804a3419cb",
   "metadata": {},
   "outputs": [],
   "source": [
    "!mkdir -p \"./quickstart-example\" && if [[ -d \"./quickstart-example\" ]]; then ls -Al \"./quickstart-example\"; fi"
   ]
  },
  {
   "cell_type": "markdown",
   "id": "a7a4923f-a4fe-4691-9cb8-7f4187cf7030",
   "metadata": {},
   "source": [
    "It doesn't matter where the data lake is located.  It could be on the local device, the FlySight device itself (though reading files from it is cumbersome and super slow), a cloud drive, Amazon S3, anywhere that the system is accessible.  The quickstart data lake already contains a mix of FlySight 1 and 2 files.  Feel free to replace them with your own files."
   ]
  },
  {
   "cell_type": "markdown",
   "id": "eefae148-5271-4052-9090-3958c2ef1637",
   "metadata": {},
   "source": [
    "---\n",
    "## Use case:  scoring all the jumps of a competition in 12 lines of code or less\n",
    "\n",
    "As a speed skydiving judge, I have a directory containing a competitor's FlySight files.  I want to get the score for each jump, the aggregate score, the mean speed, and the maximum speed.  It was a short competition consisting of only 3 jumps."
   ]
  },
  {
   "cell_type": "markdown",
   "id": "4347df4c-b3c4-48bc-934e-c2c2a4831115",
   "metadata": {},
   "source": [
    "### Imports constants, and getting all tracks\n",
    "\n",
    "The previous command shows that our data lake contains files of various types, including CSVs.  SSScoring can scan a directory and its subdirectories and returns a list of all valid speed skydiving files."
   ]
  },
  {
   "cell_type": "code",
   "execution_count": null,
   "id": "7abb6718-6f66-46ee-b7f0-36168437f6a5",
   "metadata": {},
   "outputs": [],
   "source": [
    "from ssscoring.flysight import getAllSpeedJumpFilesFrom\n",
    "\n",
    "import pathlib\n",
    "\n",
    "DATA_LAKE = pathlib.Path('quickstart-example/')\n",
    "\n",
    "allFiles = getAllSpeedJumpFilesFrom(DATA_LAKE)\n",
    "\n",
    "print('\\n'.join((f.as_posix() for f in allFiles.keys())))"
   ]
  },
  {
   "cell_type": "markdown",
   "id": "48e6f8f9-55d7-49d6-bf8f-bd1f7d8b882c",
   "metadata": {},
   "source": [
    "`allFiles` is an ordered dictionary in which each entry has these attributes set:\n",
    "\n",
    "- a `libpath.Path` object associated with the track file\n",
    "- a FlySight version tag set to 1 or 2"
   ]
  },
  {
   "cell_type": "code",
   "execution_count": null,
   "id": "d5f763b9-5430-40ed-9bd5-1d03615d957a",
   "metadata": {},
   "outputs": [],
   "source": [
    "display(allFiles)"
   ]
  },
  {
   "cell_type": "markdown",
   "id": "3642b041-8d95-4c29-aa5f-8ba1aa17ee34",
   "metadata": {},
   "source": [
    "`allFiles` includes what looks like a valid FlySight file - the one with the lower case `.csv` extension.  Compatible third-party devices like SkyTrax have a different output format and use a lower case file extension.  That's okay.  SSScoring will process their output as long as the track has the correct data headers and the file extension is CSV or csv."
   ]
  },
  {
   "cell_type": "markdown",
   "id": "bb285367-d3e0-4bcb-ac09-ed72861f1075",
   "metadata": {},
   "source": [
    "### Get all the results\n",
    "\n",
    "This is super easy--barely an inconvenience.  SSScoring sets AGL == MSL if the caller omits the optional `altitudeDZMeters` argument:"
   ]
  },
  {
   "cell_type": "code",
   "execution_count": null,
   "id": "0066bbe3-5b09-4be6-b92e-5fd1936dd3d7",
   "metadata": {},
   "outputs": [],
   "source": [
    "from ssscoring.calc import processAllJumpFiles\n",
    "\n",
    "jumpResults = processAllJumpFiles(allFiles, altitudeDZMeters = 616)"
   ]
  },
  {
   "cell_type": "markdown",
   "id": "596d6568-f016-4465-9518-e30c4c49fa84",
   "metadata": {},
   "source": [
    "The results are stored in a dictionary that uses a tagged track name as the key, and a **<a href='https://pr3d4t0r.github.io/SSScoring/ssscoring/datatypes.html#JumpResults' target='_blank'>JumpResult object</a>**:\n",
    "\n",
    "Results keys:"
   ]
  },
  {
   "cell_type": "code",
   "execution_count": null,
   "id": "5c188e22-8574-458d-8243-186414c78767",
   "metadata": {},
   "outputs": [],
   "source": [
    "print('\\n'.join((r for r in jumpResults.keys())))"
   ]
  },
  {
   "cell_type": "markdown",
   "id": "c011ea5a-7610-440a-b644-d698108473ef",
   "metadata": {},
   "source": [
    "Viewing a specific result can be overwhelming.  This use case is about reporting the results of the competition with as little fuss and as fast as possible:"
   ]
  },
  {
   "cell_type": "code",
   "execution_count": null,
   "id": "807afe24-a233-4cc0-82ad-84ca1e084527",
   "metadata": {},
   "outputs": [],
   "source": [
    "from ssscoring.calc import aggregateResults\n",
    "from ssscoring.calc import roundedAggregateResults\n",
    "\n",
    "summary = aggregateResults(jumpResults)\n",
    "summary"
   ]
  },
  {
   "cell_type": "markdown",
   "id": "3c170bf6-0058-488c-80dc-05b007986c03",
   "metadata": {},
   "source": [
    "Results can also be rounded, for convenience:"
   ]
  },
  {
   "cell_type": "code",
   "execution_count": null,
   "id": "a15dcc67-2eb7-45e9-a3b9-6280cd9a9d2d",
   "metadata": {},
   "outputs": [],
   "source": [
    "roundedAggregateResults(summary)"
   ]
  },
  {
   "cell_type": "markdown",
   "id": "0d467993-9aac-40ab-ac40-0fb1a8604647",
   "metadata": {},
   "source": [
    "And of course, we can resolve final results from the summary table:"
   ]
  },
  {
   "cell_type": "code",
   "execution_count": null,
   "id": "7e8ded5d-58e5-4e9e-9230-b3ece625aeec",
   "metadata": {},
   "outputs": [],
   "source": [
    "print('Total score = %5.2f, mean speed = %5.2f' % (summary.score.sum(), summary.score.mean()))"
   ]
  },
  {
   "cell_type": "markdown",
   "id": "9c4775d6-6113-4fa0-90fc-efe6a44494d7",
   "metadata": {},
   "source": [
    "### Putting it all together\n",
    "\n",
    "There was a lot of information to unpack for this use case because the software is doing a lot of work.  In everyday use, however, usage is quite simple.  A complete scoring system can be developed in 10 lines of code:"
   ]
  },
  {
   "cell_type": "code",
   "execution_count": 14,
   "id": "b585d91b-646a-4682-99a0-9073de077fa9",
   "metadata": {},
   "outputs": [
    {
     "data": {
      "text/html": [
       "<div>\n",
       "<style scoped>\n",
       "    .dataframe tbody tr th:only-of-type {\n",
       "        vertical-align: middle;\n",
       "    }\n",
       "\n",
       "    .dataframe tbody tr th {\n",
       "        vertical-align: top;\n",
       "    }\n",
       "\n",
       "    .dataframe thead th {\n",
       "        text-align: right;\n",
       "    }\n",
       "</style>\n",
       "<table border=\"1\" class=\"dataframe\">\n",
       "  <thead>\n",
       "    <tr style=\"text-align: right;\">\n",
       "      <th></th>\n",
       "      <th>score</th>\n",
       "      <th>5.0</th>\n",
       "      <th>10.0</th>\n",
       "      <th>15.0</th>\n",
       "      <th>20.0</th>\n",
       "      <th>25.0</th>\n",
       "      <th>finalTime</th>\n",
       "      <th>maxSpeed</th>\n",
       "    </tr>\n",
       "  </thead>\n",
       "  <tbody>\n",
       "    <tr>\n",
       "      <th>R3_13-32-20:v2</th>\n",
       "      <td>479.58</td>\n",
       "      <td>187.4916</td>\n",
       "      <td>333.126</td>\n",
       "      <td>431.6544</td>\n",
       "      <td>479.0412</td>\n",
       "      <td>485.640</td>\n",
       "      <td>21.3</td>\n",
       "      <td>485.640</td>\n",
       "    </tr>\n",
       "    <tr>\n",
       "      <th>quickstart-example R1_09-20-26:v1</th>\n",
       "      <td>324.93</td>\n",
       "      <td>134.9640</td>\n",
       "      <td>211.212</td>\n",
       "      <td>262.3320</td>\n",
       "      <td>285.2280</td>\n",
       "      <td>318.744</td>\n",
       "      <td>25.0</td>\n",
       "      <td>327.816</td>\n",
       "    </tr>\n",
       "    <tr>\n",
       "      <th>quickstart-example R2_11-00-34:v1</th>\n",
       "      <td>476.31</td>\n",
       "      <td>185.0400</td>\n",
       "      <td>332.820</td>\n",
       "      <td>429.8760</td>\n",
       "      <td>481.4280</td>\n",
       "      <td>469.872</td>\n",
       "      <td>21.9</td>\n",
       "      <td>481.464</td>\n",
       "    </tr>\n",
       "  </tbody>\n",
       "</table>\n",
       "</div>"
      ],
      "text/plain": [
       "                                    score       5.0  ...  finalTime  maxSpeed\n",
       "R3_13-32-20:v2                     479.58  187.4916  ...       21.3   485.640\n",
       "quickstart-example R1_09-20-26:v1  324.93  134.9640  ...       25.0   327.816\n",
       "quickstart-example R2_11-00-34:v1  476.31  185.0400  ...       21.9   481.464\n",
       "\n",
       "[3 rows x 8 columns]"
      ]
     },
     "metadata": {},
     "output_type": "display_data"
    },
    {
     "ename": "AttributeError",
     "evalue": "'dict' object has no attribute 'score'",
     "output_type": "error",
     "traceback": [
      "\u001b[0;31m---------------------------------------------------------------------------\u001b[0m",
      "\u001b[0;31mAttributeError\u001b[0m                            Traceback (most recent call last)",
      "Cell \u001b[0;32mIn[14], line 12\u001b[0m\n\u001b[1;32m     10\u001b[0m jumpResults \u001b[38;5;241m=\u001b[39m processAllJumpFiles(allFiles, altitudeDZMeters \u001b[38;5;241m=\u001b[39m \u001b[38;5;241m616\u001b[39m)\n\u001b[1;32m     11\u001b[0m display(aggregateResults(jumpResults))\n\u001b[0;32m---> 12\u001b[0m \u001b[38;5;28mprint\u001b[39m(\u001b[38;5;124m'\u001b[39m\u001b[38;5;124mTotal score = \u001b[39m\u001b[38;5;132;01m%5.2f\u001b[39;00m\u001b[38;5;124m, mean speed = \u001b[39m\u001b[38;5;132;01m%5.2f\u001b[39;00m\u001b[38;5;124m'\u001b[39m \u001b[38;5;241m%\u001b[39m (\u001b[43mjumpResults\u001b[49m\u001b[38;5;241;43m.\u001b[39;49m\u001b[43mscore\u001b[49m\u001b[38;5;241m.\u001b[39msum(), jumpResults\u001b[38;5;241m.\u001b[39mscore\u001b[38;5;241m.\u001b[39mmean()))\n",
      "\u001b[0;31mAttributeError\u001b[0m: 'dict' object has no attribute 'score'"
     ]
    }
   ],
   "source": [
    "from ssscoring.calc import aggregateResults\n",
    "from ssscoring.calc import processAllJumpFiles\n",
    "from ssscoring.calc import roundedAggregateResults\n",
    "from ssscoring.flysight import getAllSpeedJumpFilesFrom\n",
    "\n",
    "import pathlib\n",
    "\n",
    "DATA_LAKE = pathlib.Path('quickstart-example/')\n",
    "allFiles = getAllSpeedJumpFilesFrom(DATA_LAKE)\n",
    "jumpResults = processAllJumpFiles(allFiles, altitudeDZMeters = 616)\n",
    "display(aggregateResults(jumpResults))\n",
    "print('Total score = %5.2f, mean speed = %5.2f' % (jumpResults.score.sum(), jumpResults.score.mean()))"
   ]
  },
  {
   "cell_type": "markdown",
   "id": "89bd99bd-b12c-4b04-b570-4685e4ff01f8",
   "metadata": {},
   "source": [
    "If we wanted to get technical the whole implementation can be done in fewer than 5 lines of code.  The import statements do nothing other than make the functions available for processing.  Actual coding starts with the data lake definition."
   ]
  },
  {
   "cell_type": "markdown",
   "id": "13c0f720-4993-4a37-9fc1-b271bbcb10cf",
   "metadata": {},
   "source": [
    "---\n",
    "## Use case:  analyzing and scoring a single jump"
   ]
  },
  {
   "cell_type": "markdown",
   "id": "fb9ddb70-e33f-4fb1-adbb-da6bbf9ed1e8",
   "metadata": {},
   "source": [
    "As a speed skydiver in training, I want to process a single speed jump and get the results, with the ability to view the jump score, summary, and all data points throughout the jump."
   ]
  },
  {
   "cell_type": "code",
   "execution_count": 19,
   "id": "1a140ae7-8719-419c-b666-a63ce2a7e0d9",
   "metadata": {},
   "outputs": [
    {
     "data": {
      "text/plain": [
       "PosixPath('data/R1_12-46-51.CSV')"
      ]
     },
     "metadata": {},
     "output_type": "display_data"
    }
   ],
   "source": [
    "import pathlib\n",
    "\n",
    "DATA_LAKE = 'data'\n",
    "jumpFile = pathlib.Path(DATA_LAKE) /'R1_12-46-51.CSV'"
   ]
  },
  {
   "cell_type": "markdown",
   "id": "748b8f2e-2773-4272-a0b2-50a8a2bb5c4c",
   "metadata": {},
   "source": [
    "### Getting data from a single jump\n",
    "\n",
    "The process is straight forward when the track files come from a FlySight or SkyTrax device.  There is a small issue, however, when judges or ground crew share files over Dropbox or inspect the files using Excel for Windows.  The original end-of-line markers are altered and mangle the data type resolution because all data cells are mistyped as strings instead of numerical data.\n",
    "\n",
    "SSScoring provides functions for checking and fixing mangled files.  The `fixCRMangledCSV()` function rewrites the file with all the extraneous CRs fixed:"
   ]
  },
  {
   "cell_type": "code",
   "execution_count": null,
   "id": "245184f1-3bc0-4e3a-964a-746853ad8aeb",
   "metadata": {},
   "outputs": [],
   "source": [
    "from ssscoring.flysight import fixCRMangledCSV\n",
    "from ssscoring.flysight import isCRMangledCSV\n",
    "\n",
    "print('%s is %smangled' % (jumpFile, '' if isCRMangledCSV(jumpFile) else 'not '))\n",
    "if isCRMangledCSV(jumpFile):\n",
    "    fixCRMangledCSV(jumpFile)\n",
    "    print('%s is %smangled' % (jumpFile, '' if isCRMangledCSV(jumpFile) else 'not '))"
   ]
  },
  {
   "cell_type": "markdown",
   "id": "0852a701-cf0b-4dcf-b56e-e1c10841e8da",
   "metadata": {},
   "source": [
    "Now we can get the data from the single file and identify its type:"
   ]
  },
  {
   "cell_type": "code",
   "execution_count": 30,
   "id": "b0b05b39-f390-4ae6-a575-d10c2eb2390f",
   "metadata": {},
   "outputs": [
    {
     "data": {
      "text/html": [
       "<div>\n",
       "<style scoped>\n",
       "    .dataframe tbody tr th:only-of-type {\n",
       "        vertical-align: middle;\n",
       "    }\n",
       "\n",
       "    .dataframe tbody tr th {\n",
       "        vertical-align: top;\n",
       "    }\n",
       "\n",
       "    .dataframe thead th {\n",
       "        text-align: right;\n",
       "    }\n",
       "</style>\n",
       "<table border=\"1\" class=\"dataframe\">\n",
       "  <thead>\n",
       "    <tr style=\"text-align: right;\">\n",
       "      <th></th>\n",
       "      <th>time</th>\n",
       "      <th>lat</th>\n",
       "      <th>lon</th>\n",
       "      <th>hMSL</th>\n",
       "      <th>velN</th>\n",
       "      <th>velE</th>\n",
       "      <th>velD</th>\n",
       "      <th>hAcc</th>\n",
       "      <th>vAcc</th>\n",
       "      <th>sAcc</th>\n",
       "      <th>heading</th>\n",
       "      <th>cAcc</th>\n",
       "      <th>gpsFix</th>\n",
       "      <th>numSV</th>\n",
       "    </tr>\n",
       "  </thead>\n",
       "  <tbody>\n",
       "    <tr>\n",
       "      <th>0</th>\n",
       "      <td>2024-09-17T12:46:51.40Z</td>\n",
       "      <td>41.400721</td>\n",
       "      <td>-88.790926</td>\n",
       "      <td>216.197</td>\n",
       "      <td>-0.04</td>\n",
       "      <td>-0.05</td>\n",
       "      <td>-0.06</td>\n",
       "      <td>99.871</td>\n",
       "      <td>52.277</td>\n",
       "      <td>5.09</td>\n",
       "      <td>0.00000</td>\n",
       "      <td>180.00000</td>\n",
       "      <td>3</td>\n",
       "      <td>4</td>\n",
       "    </tr>\n",
       "    <tr>\n",
       "      <th>1</th>\n",
       "      <td>2024-09-17T12:46:51.60Z</td>\n",
       "      <td>41.400720</td>\n",
       "      <td>-88.790927</td>\n",
       "      <td>216.426</td>\n",
       "      <td>0.00</td>\n",
       "      <td>0.17</td>\n",
       "      <td>0.08</td>\n",
       "      <td>46.212</td>\n",
       "      <td>23.401</td>\n",
       "      <td>2.81</td>\n",
       "      <td>0.00000</td>\n",
       "      <td>115.57618</td>\n",
       "      <td>3</td>\n",
       "      <td>4</td>\n",
       "    </tr>\n",
       "    <tr>\n",
       "      <th>2</th>\n",
       "      <td>2024-09-17T12:46:52.20Z</td>\n",
       "      <td>41.400718</td>\n",
       "      <td>-88.790929</td>\n",
       "      <td>216.708</td>\n",
       "      <td>-0.02</td>\n",
       "      <td>0.23</td>\n",
       "      <td>0.10</td>\n",
       "      <td>42.793</td>\n",
       "      <td>22.314</td>\n",
       "      <td>2.36</td>\n",
       "      <td>0.00000</td>\n",
       "      <td>115.58198</td>\n",
       "      <td>3</td>\n",
       "      <td>4</td>\n",
       "    </tr>\n",
       "    <tr>\n",
       "      <th>3</th>\n",
       "      <td>2024-09-17T12:46:52.40Z</td>\n",
       "      <td>41.400717</td>\n",
       "      <td>-88.790935</td>\n",
       "      <td>217.045</td>\n",
       "      <td>0.04</td>\n",
       "      <td>0.47</td>\n",
       "      <td>0.14</td>\n",
       "      <td>40.149</td>\n",
       "      <td>20.977</td>\n",
       "      <td>2.28</td>\n",
       "      <td>81.10794</td>\n",
       "      <td>25.67592</td>\n",
       "      <td>3</td>\n",
       "      <td>4</td>\n",
       "    </tr>\n",
       "    <tr>\n",
       "      <th>4</th>\n",
       "      <td>2024-09-17T12:46:52.60Z</td>\n",
       "      <td>41.400716</td>\n",
       "      <td>-88.790940</td>\n",
       "      <td>217.308</td>\n",
       "      <td>0.06</td>\n",
       "      <td>0.33</td>\n",
       "      <td>0.14</td>\n",
       "      <td>37.954</td>\n",
       "      <td>19.857</td>\n",
       "      <td>2.24</td>\n",
       "      <td>80.56167</td>\n",
       "      <td>39.44756</td>\n",
       "      <td>3</td>\n",
       "      <td>4</td>\n",
       "    </tr>\n",
       "  </tbody>\n",
       "</table>\n",
       "</div>"
      ],
      "text/plain": [
       "                      time        lat        lon  ...       cAcc  gpsFix  numSV\n",
       "0  2024-09-17T12:46:51.40Z  41.400721 -88.790926  ...  180.00000       3      4\n",
       "1  2024-09-17T12:46:51.60Z  41.400720 -88.790927  ...  115.57618       3      4\n",
       "2  2024-09-17T12:46:52.20Z  41.400718 -88.790929  ...  115.58198       3      4\n",
       "3  2024-09-17T12:46:52.40Z  41.400717 -88.790935  ...   25.67592       3      4\n",
       "4  2024-09-17T12:46:52.60Z  41.400716 -88.790940  ...   39.44756       3      4\n",
       "\n",
       "[5 rows x 14 columns]"
      ]
     },
     "metadata": {},
     "output_type": "display_data"
    },
    {
     "data": {
      "text/plain": [
       "'FlySight data: data R1_12-46-51:v1'"
      ]
     },
     "metadata": {},
     "output_type": "display_data"
    }
   ],
   "source": [
    "from ssscoring.calc import getFlySightDataFromCSV\n",
    "\n",
    "rawData, tag = getFlySightDataFromCSV(jumpFile)\n",
    "display(rawData.head(5))\n",
    "display('FlySight data: %s' % tag)"
   ]
  },
  {
   "cell_type": "markdown",
   "id": "6fde1aca-38a6-44d7-b78f-e231bdf345b7",
   "metadata": {},
   "source": [
    "### FlySight vs SSScoring data representation\n",
    "\n",
    "Track files have a unique general purpose format.  SSScoring transforms the generic FlySight headers and data into dataframes with meaningful metadata and actionable units."
   ]
  },
  {
   "cell_type": "code",
   "execution_count": null,
   "id": "2a579919-a12f-4c1a-8ee3-9a7bafd8113c",
   "metadata": {},
   "outputs": [],
   "source": []
  }
 ],
 "metadata": {
  "kernelspec": {
   "display_name": "Python 3 (ipykernel)",
   "language": "python",
   "name": "python3"
  },
  "language_info": {
   "codemirror_mode": {
    "name": "ipython",
    "version": 3
   },
   "file_extension": ".py",
   "mimetype": "text/x-python",
   "name": "python",
   "nbconvert_exporter": "python",
   "pygments_lexer": "ipython3",
   "version": "3.11.10"
  }
 },
 "nbformat": 4,
 "nbformat_minor": 5
}
